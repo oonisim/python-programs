{
 "cells": [
  {
   "cell_type": "code",
   "execution_count": 2,
   "id": "9b3c2057",
   "metadata": {},
   "outputs": [],
   "source": [
    "import flask"
   ]
  },
  {
   "cell_type": "markdown",
   "id": "130d56ee",
   "metadata": {},
   "source": [
    "# Start Flask appliation"
   ]
  },
  {
   "cell_type": "code",
   "execution_count": 3,
   "id": "91a93673",
   "metadata": {},
   "outputs": [],
   "source": [
    "from flask import Flask\n",
    " \n",
    "app = Flask(__name__)\n",
    " \n",
    "@app.route(\"/\")\n",
    "def hello_world():\n",
    "    return \"<p>Hello, World!</p>\""
   ]
  },
  {
   "cell_type": "code",
   "execution_count": null,
   "id": "170fef85",
   "metadata": {},
   "outputs": [],
   "source": [
    "# !nohup flask --app hello run --host=0.0.0.0 --port=8080&"
   ]
  },
  {
   "cell_type": "markdown",
   "id": "eedc2252",
   "metadata": {},
   "source": [
    "# Get HTTP Request"
   ]
  },
  {
   "cell_type": "code",
   "execution_count": null,
   "id": "2c265bba",
   "metadata": {},
   "outputs": [],
   "source": [
    "from flask import Flask, request, jsonify\n",
    "\n",
    "app = Flask(__name__)\n",
    "\n",
    "@app.route('/foo', methods=['POST']) \n",
    "def foo():\n",
    "    data = request.json\n",
    "    return jsonify(data)"
   ]
  }
 ],
 "metadata": {
  "kernelspec": {
   "display_name": "Python 3 (ipykernel)",
   "language": "python",
   "name": "python3"
  },
  "language_info": {
   "codemirror_mode": {
    "name": "ipython",
    "version": 3
   },
   "file_extension": ".py",
   "mimetype": "text/x-python",
   "name": "python",
   "nbconvert_exporter": "python",
   "pygments_lexer": "ipython3",
   "version": "3.9.13"
  }
 },
 "nbformat": 4,
 "nbformat_minor": 5
}
