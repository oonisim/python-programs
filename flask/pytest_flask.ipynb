{
 "cells": [
  {
   "cell_type": "markdown",
   "id": "59a50375",
   "metadata": {},
   "source": [
    "# How to PyTest Flask\n",
    "\n",
    "* [Testing Flask Applications](https://flask.palletsprojects.com/en/2.0.x/testing)\n",
    "* [Flask.test_client](https://flask.palletsprojects.com/en/2.0.x/api/?highlight=test_client#flask.Flask.test_client)\n",
    "* [Testing our Hello World app](https://riptutorial.com/flask/example/4122/testing-our-hello-world-app)"
   ]
  },
  {
   "cell_type": "code",
   "execution_count": 1,
   "id": "076cc3cf",
   "metadata": {},
   "outputs": [],
   "source": [
    "# hello.py\n",
    "from flask import Flask\n",
    "\n",
    "app = Flask(__name__)\n",
    "\n",
    "@app.route('/')\n",
    "def hello():\n",
    "    return 'Hello, World!'"
   ]
  },
  {
   "cell_type": "code",
   "execution_count": 3,
   "id": "35d3ee7f",
   "metadata": {},
   "outputs": [],
   "source": [
    "def test_hello():\n",
    "    response = app.test_client().get('/')\n",
    "\n",
    "    assert response.status_code == 200\n",
    "    assert response.data == b'Hello, World!'"
   ]
  },
  {
   "cell_type": "code",
   "execution_count": null,
   "id": "6bf21dc4",
   "metadata": {},
   "outputs": [],
   "source": []
  }
 ],
 "metadata": {
  "kernelspec": {
   "display_name": "Python 3 (ipykernel)",
   "language": "python",
   "name": "python3"
  },
  "language_info": {
   "codemirror_mode": {
    "name": "ipython",
    "version": 3
   },
   "file_extension": ".py",
   "mimetype": "text/x-python",
   "name": "python",
   "nbconvert_exporter": "python",
   "pygments_lexer": "ipython3",
   "version": "3.8.10"
  }
 },
 "nbformat": 4,
 "nbformat_minor": 5
}
