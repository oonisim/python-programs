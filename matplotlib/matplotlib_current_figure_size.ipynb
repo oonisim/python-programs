{
 "cells": [
  {
   "cell_type": "markdown",
   "id": "d53c1f80",
   "metadata": {},
   "source": [
    "# Get current figure size of plot area"
   ]
  },
  {
   "cell_type": "code",
   "execution_count": 1,
   "id": "eb85409d",
   "metadata": {},
   "outputs": [],
   "source": [
    "import matplotlib.pyplot as plt"
   ]
  },
  {
   "cell_type": "code",
   "execution_count": 2,
   "id": "8afc0c11",
   "metadata": {},
   "outputs": [
    {
     "data": {
      "text/plain": [
       "<Figure size 432x288 with 0 Axes>"
      ]
     },
     "metadata": {},
     "output_type": "display_data"
    }
   ],
   "source": [
    "fig = plt.gcf()\n",
    "(width_in_inch, height_in_inch) = fig.get_size_inches()\n",
    "(width_in_pixel, height_in_pixel) = fig.get_size_inches()*fig.dpi # size in pixels"
   ]
  },
  {
   "cell_type": "code",
   "execution_count": 4,
   "id": "20b4e08b",
   "metadata": {},
   "outputs": [
    {
     "data": {
      "text/plain": [
       "(6.0, 4.0)"
      ]
     },
     "execution_count": 4,
     "metadata": {},
     "output_type": "execute_result"
    }
   ],
   "source": [
    "(width_in_inch, height_in_inch)"
   ]
  },
  {
   "cell_type": "code",
   "execution_count": null,
   "id": "feec0c4b",
   "metadata": {},
   "outputs": [],
   "source": []
  }
 ],
 "metadata": {
  "kernelspec": {
   "display_name": "Python 3",
   "language": "python",
   "name": "python3"
  },
  "language_info": {
   "codemirror_mode": {
    "name": "ipython",
    "version": 3
   },
   "file_extension": ".py",
   "mimetype": "text/x-python",
   "name": "python",
   "nbconvert_exporter": "python",
   "pygments_lexer": "ipython3",
   "version": "3.7.9"
  }
 },
 "nbformat": 4,
 "nbformat_minor": 5
}
