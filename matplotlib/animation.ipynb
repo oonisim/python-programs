{
 "cells": [
  {
   "cell_type": "markdown",
   "id": "opposed-asset",
   "metadata": {},
   "source": [
    "# Animation\n",
    "\n",
    "## Articles\n",
    "* [Matplotlib Tutorial: 6. Animations](https://jakevdp.github.io/mpl_tutorial/tutorial_pages/tut6.html)\n",
    "* [Animations with Matplotlib](https://towardsdatascience.com/animations-with-matplotlib-d96375c5442c)\n",
    "* [How to make an animation and how to output as a html file](http://spacephysics.uah.edu/mnakanot/memo/Animation.html)\n",
    "* [Matplotlib animations the easy way](https://brushingupscience.com/2016/06/21/matplotlib-animations-the-easy-way/)\n"
   ]
  },
  {
   "cell_type": "code",
   "execution_count": 1,
   "id": "affiliated-titanium",
   "metadata": {},
   "outputs": [],
   "source": [
    "import os\n",
    "import sys\n",
    "import numpy as np\n",
    "import matplotlib.pyplot as plt\n",
    "from matplotlib import animation"
   ]
  },
  {
   "cell_type": "code",
   "execution_count": 2,
   "id": "collect-blogger",
   "metadata": {},
   "outputs": [
    {
     "name": "stdout",
     "output_type": "stream",
     "text": [
      "Using matplotlib backend: Qt5Agg\n",
      "Populating the interactive namespace from numpy and matplotlib\n"
     ]
    }
   ],
   "source": [
    "%pylab"
   ]
  },
  {
   "cell_type": "code",
   "execution_count": 3,
   "id": "increasing-aerospace",
   "metadata": {},
   "outputs": [],
   "source": [
    "#%matplotlib notebook\n",
    "#%matplotlib inline"
   ]
  },
  {
   "cell_type": "code",
   "execution_count": 6,
   "id": "medical-syndication",
   "metadata": {},
   "outputs": [],
   "source": [
    "# First set up the figure, the axis, and the plot element we want to animate\n",
    "fig, ax = plt.subplots()\n",
    "ax.set_xlim(0, 2)\n",
    "ax.set_ylim(-2, 2)\n",
    "\n",
    "x = np.linspace(0, 2, 1000)\n",
    "y = np.zeros_like(x)\n",
    "\n",
    "line, = ax.plot(x, y, lw=2)\n",
    "\n",
    "# initialization function: plot the background of each frame\n",
    "def init():\n",
    "    line.set_data([], [])\n",
    "    return line,\n",
    "\n",
    "# animation function.  This is called sequentially\n",
    "def animate(i):\n",
    "    y = np.sin(2 * np.pi * (x - 0.01 * i))\n",
    "    line.set_data(x, y)\n",
    "    return line,\n",
    "\n",
    "# call the animator.  blit=True means only re-draw the parts that have changed.\n",
    "anim = animation.FuncAnimation(fig, animate, init_func=init,\n",
    "                               frames=200, interval=20, blit=True)\n",
    "\n",
    "# save the animation as an mp4.  This requires ffmpeg or mencoder to be\n",
    "# installed.  The codec argument ensure that the x264 codec is used, so that\n",
    "# the video can be embedded in html5.  You may need to adjust this for\n",
    "# your system: for more information, see\n",
    "# http://matplotlib.sourceforge.net/api/animation_api.html\n",
    "#anim.save('basic_animation.mp4', fps=30, codec='libx264')"
   ]
  },
  {
   "cell_type": "markdown",
   "id": "intermediate-identity",
   "metadata": {},
   "source": [
    "https://stackoverflow.com/questions/49158604/matplotlib-animation-update-title-using-artistanimation"
   ]
  },
  {
   "cell_type": "code",
   "execution_count": 5,
   "id": "viral-philadelphia",
   "metadata": {},
   "outputs": [],
   "source": [
    "import matplotlib.pyplot as plt\n",
    "from matplotlib import animation\n",
    "import numpy as np\n",
    "\n",
    "a = np.random.rand(10,10)\n",
    "\n",
    "fig, ax=plt.subplots()\n",
    "container = []\n",
    "\n",
    "for i in range(a.shape[1]):\n",
    "    line, = ax.plot(a[:,i])\n",
    "    title = ax.text(0.5,1.05,\"Title {}\".format(i), \n",
    "                    size=plt.rcParams[\"axes.titlesize\"],\n",
    "                    ha=\"center\", transform=ax.transAxes, )\n",
    "    container.append([line, title])\n",
    "\n",
    "ani = animation.ArtistAnimation(fig, container, interval=200, blit=False)\n",
    "\n",
    "plt.show()"
   ]
  },
  {
   "cell_type": "code",
   "execution_count": null,
   "id": "collectible-radius",
   "metadata": {},
   "outputs": [],
   "source": []
  }
 ],
 "metadata": {
  "kernelspec": {
   "display_name": "Python 3",
   "language": "python",
   "name": "python3"
  },
  "language_info": {
   "codemirror_mode": {
    "name": "ipython",
    "version": 3
   },
   "file_extension": ".py",
   "mimetype": "text/x-python",
   "name": "python",
   "nbconvert_exporter": "python",
   "pygments_lexer": "ipython3",
   "version": "3.8.5"
  }
 },
 "nbformat": 4,
 "nbformat_minor": 5
}
