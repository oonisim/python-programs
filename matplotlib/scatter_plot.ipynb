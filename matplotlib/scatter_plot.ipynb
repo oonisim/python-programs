{
 "cells": [
  {
   "cell_type": "code",
   "execution_count": 1,
   "id": "meaning-trauma",
   "metadata": {},
   "outputs": [],
   "source": [
    "import numpy as np\n",
    "import matplotlib.pyplot as plt\n",
    "import seaborn as sns\n",
    " \n",
    "%matplotlib inline"
   ]
  },
  {
   "cell_type": "code",
   "execution_count": 12,
   "id": "regional-middle",
   "metadata": {},
   "outputs": [],
   "source": [
    "\"\"\"Data for classifications\"\"\"\n",
    "import numpy as np\n",
    "\n",
    "\n",
    "def linear_separable(d: int = 2, n: int = 10000):\n",
    "    \"\"\"Generate a data set X to linearly separate.\n",
    "    Bias x0 is added to create n+1 dimensional data\n",
    "\n",
    "    Args:\n",
    "        d: number of dimension of the data\n",
    "        n: number of data to generate\n",
    "    Returns:\n",
    "           X dot W > 0 is True and < 0 for False.\n",
    "        X: d+1 dimension data (x0, x1, ... xn) where x0=1 as bias\n",
    "        T: labels. If Xi dot W > 0, then 1 else 0\n",
    "        W: Vector orthogonal to the linear hyper plane that separates the data.\n",
    "    \"\"\"\n",
    "    d = d + 1   # add bias\n",
    "\n",
    "    # Unit vector w of dimension d, dividing by its magnitude\n",
    "    W = np.random.randn(d)\n",
    "    W = W / np.linalg.norm(W)\n",
    "\n",
    "    # Generate X:(N,D) and set bias=1 to x0\n",
    "    X = np.random.randn(n, d)\n",
    "    X[\n",
    "        ::,\n",
    "        0\n",
    "    ] = 1   # bias\n",
    "\n",
    "    # Label t = 1 if X dot w > 0 else 0\n",
    "    T = (np.einsum('ij,j', X, W) > 0).astype(int)\n",
    "\n",
    "    return X, T, W\n"
   ]
  },
  {
   "cell_type": "code",
   "execution_count": 13,
   "id": "billion-sculpture",
   "metadata": {},
   "outputs": [],
   "source": [
    "X, T, W = linear_separable(d=2, n=100)"
   ]
  },
  {
   "cell_type": "code",
   "execution_count": 40,
   "id": "statutory-latino",
   "metadata": {},
   "outputs": [
    {
     "data": {
      "text/plain": [
       "[<matplotlib.lines.Line2D at 0x7fbcacc89d30>]"
      ]
     },
     "execution_count": 40,
     "metadata": {},
     "output_type": "execute_result"
    },
    {
     "data": {
      "image/png": "[encoded data removed]",
      "text/plain": [
       "<Figure size 432x288 with 1 Axes>"
      ]
     },
     "metadata": {
      "needs_background": "light"
     },
     "output_type": "display_data"
    }
   ],
   "source": [
    "plt.scatter(X[T==0, 1], X[T==0, 2], c='red')\n",
    "plt.scatter(X[T==1, 1], X[T==1, 2], c='green')\n",
    "\n",
    "# Hyperplace (X-b)W = 0 -> x1w1 + x2w2 - bw2 = 0\n",
    "x = np.linspace(-3,3,100)\n",
    "y = -(W[1] / W[2]) * x - (W[0] / W[2])\n",
    "plt.plot(x, y)"
   ]
  }
 ],
 "metadata": {
  "kernelspec": {
   "display_name": "Python 3",
   "language": "python",
   "name": "python3"
  },
  "language_info": {
   "codemirror_mode": {
    "name": "ipython",
    "version": 3
   },
   "file_extension": ".py",
   "mimetype": "text/x-python",
   "name": "python",
   "nbconvert_exporter": "python",
   "pygments_lexer": "ipython3",
   "version": "3.8.5"
  }
 },
 "nbformat": 4,
 "nbformat_minor": 5
}
