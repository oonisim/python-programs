{
 "cells": [
  {
   "cell_type": "code",
   "execution_count": 1,
   "id": "15ad4404",
   "metadata": {},
   "outputs": [
    {
     "data": {
      "text/html": [
       "<style>\n",
       "table {float:left}\n",
       "</style>\n"
      ],
      "text/plain": [
       "<IPython.core.display.HTML object>"
      ]
     },
     "metadata": {},
     "output_type": "display_data"
    }
   ],
   "source": [
    "%%html\n",
    "<style>\n",
    "table {float:left}\n",
    "</style>"
   ]
  },
  {
   "cell_type": "markdown",
   "id": "2981c252",
   "metadata": {},
   "source": [
    "# Hot to annotate the target plot"
   ]
  },
  {
   "cell_type": "markdown",
   "id": "73a7fd81",
   "metadata": {},
   "source": [
    "# Axes.annotate"
   ]
  },
  {
   "cell_type": "markdown",
   "id": "fba2bedf",
   "metadata": {},
   "source": [
    "\n",
    "\n",
    "* [Axes.annotate(text, xy, *args, **kwargs)](https://matplotlib.org/devdocs/api/_as_gen/matplotlib.axes.Axes.annotate.html#matplotlib.axes.Axes.annotate)\n",
    "\n",
    "> Annotate the point xy with text text.  \n",
    "> In the simplest form, the text is placed at xy. Optionally, the text can be displayed in another position xytext. An arrow pointing from the text to the annotated point xy can then be added by defining arrowprops.\n",
    "\n",
    "\n",
    "* [Annotate Explain](https://matplotlib.org/stable/gallery/userdemo/annotate_explain.html?highlight=arrowprops#annotate-explain)"
   ]
  },
  {
   "cell_type": "code",
   "execution_count": 2,
   "id": "1bd13a31",
   "metadata": {},
   "outputs": [
    {
     "data": {
      "image/png": "[encoded data removed]",
      "text/plain": [
       "<Figure size 432x288 with 4 Axes>"
      ]
     },
     "metadata": {},
     "output_type": "display_data"
    }
   ],
   "source": [
    "import matplotlib.pyplot as plt\n",
    "import matplotlib.patches as mpatches\n",
    "\n",
    "\n",
    "fig, axs = plt.subplots(2, 2)\n",
    "x1, y1 = 0.3, 0.3\n",
    "x2, y2 = 0.7, 0.7\n",
    "\n",
    "ax = axs.flat[0]\n",
    "ax.plot([x1, x2], [y1, y2], \".\")\n",
    "el = mpatches.Ellipse((x1, y1), 0.3, 0.4, angle=30, alpha=0.2)\n",
    "ax.add_artist(el)\n",
    "ax.annotate(\"\",\n",
    "            xy=(x1, y1), xycoords='data',\n",
    "            xytext=(x2, y2), textcoords='data',\n",
    "            arrowprops=dict(arrowstyle=\"-\",\n",
    "                            color=\"0.5\",\n",
    "                            patchB=None,\n",
    "                            shrinkB=0,\n",
    "                            connectionstyle=\"arc3,rad=0.3\",\n",
    "                            ),\n",
    "            )\n",
    "ax.text(.05, .95, \"connect\", transform=ax.transAxes, ha=\"left\", va=\"top\")\n",
    "\n",
    "ax = axs.flat[1]\n",
    "ax.plot([x1, x2], [y1, y2], \".\")\n",
    "el = mpatches.Ellipse((x1, y1), 0.3, 0.4, angle=30, alpha=0.2)\n",
    "ax.add_artist(el)\n",
    "ax.annotate(\"\",\n",
    "            xy=(x1, y1), xycoords='data',\n",
    "            xytext=(x2, y2), textcoords='data',\n",
    "            arrowprops=dict(arrowstyle=\"-\",\n",
    "                            color=\"0.5\",\n",
    "                            patchB=el,\n",
    "                            shrinkB=0,\n",
    "                            connectionstyle=\"arc3,rad=0.3\",\n",
    "                            ),\n",
    "            )\n",
    "ax.text(.05, .95, \"clip\", transform=ax.transAxes, ha=\"left\", va=\"top\")\n",
    "\n",
    "ax = axs.flat[2]\n",
    "ax.plot([x1, x2], [y1, y2], \".\")\n",
    "el = mpatches.Ellipse((x1, y1), 0.3, 0.4, angle=30, alpha=0.2)\n",
    "ax.add_artist(el)\n",
    "ax.annotate(\"\",\n",
    "            xy=(x1, y1), xycoords='data',\n",
    "            xytext=(x2, y2), textcoords='data',\n",
    "            arrowprops=dict(arrowstyle=\"-\",\n",
    "                            color=\"0.5\",\n",
    "                            patchB=el,\n",
    "                            shrinkB=5,\n",
    "                            connectionstyle=\"arc3,rad=0.3\",\n",
    "                            ),\n",
    "            )\n",
    "ax.text(.05, .95, \"shrink\", transform=ax.transAxes, ha=\"left\", va=\"top\")\n",
    "\n",
    "ax = axs.flat[3]\n",
    "ax.plot([x1, x2], [y1, y2], \".\")\n",
    "el = mpatches.Ellipse((x1, y1), 0.3, 0.4, angle=30, alpha=0.2)\n",
    "ax.add_artist(el)\n",
    "ax.annotate(\"\",\n",
    "            xy=(x1, y1), xycoords='data',\n",
    "            xytext=(x2, y2), textcoords='data',\n",
    "            arrowprops=dict(arrowstyle=\"fancy\",\n",
    "                            color=\"0.5\",\n",
    "                            patchB=el,\n",
    "                            shrinkB=5,\n",
    "                            connectionstyle=\"arc3,rad=0.3\",\n",
    "                            ),\n",
    "            )\n",
    "ax.text(.05, .95, \"mutate\", transform=ax.transAxes, ha=\"left\", va=\"top\")\n",
    "\n",
    "for ax in axs.flat:\n",
    "    ax.set(xlim=(0, 1), ylim=(0, 1), xticks=[], yticks=[], aspect=1)\n",
    "\n",
    "plt.show()"
   ]
  },
  {
   "cell_type": "markdown",
   "id": "25a069d2",
   "metadata": {},
   "source": [
    "---"
   ]
  },
  {
   "cell_type": "markdown",
   "id": "68b931e6",
   "metadata": {},
   "source": [
    "# AnnotationBBox\n",
    "\n",
    "* [matplotlib.offsetbox](https://matplotlib.org/stable/api/offsetbox_api.html?highlight=annotationbbox#matplotlib-offsetbox)\n",
    "* [AnnotationBbox demo](https://matplotlib.org/stable/gallery/text_labels_and_annotations/demo_annotation_box.html)\n",
    "\n",
    "> AnnotationBbox creates an annotation using an OffsetBox, and provides **more fine-grained control than Axes.annotate**. This example demonstrates the use of AnnotationBbox together with three different OffsetBoxes: TextArea, DrawingArea, and OffsetImage.\n",
    "\n",
    "```\n",
    "class matplotlib.offsetbox.AnnotationBbox(\n",
    "    offsetbox,                # Boxed area object to display the annotation\n",
    "    xy: (float, float),       # Coordiante of the tip where the annotation points to.\n",
    "    xybox=None,               # Offset. How far from the xy to place annotation\n",
    "    xycoords='data',          # Coordinate system to use to place the annotation\n",
    "    boxcoords=None,           # Unit of xycoords (point or pixel)\n",
    "    frameon=True, \n",
    "    pad=0.4, \n",
    "    annotation_clip=None, \n",
    "    box_alignment=(0.5, 0.5), \n",
    "    bboxprops=None, \n",
    "    arrowprops=None, \n",
    "    fontsize=None, \n",
    "    **kwargs\n",
    ")\n",
    "```\n"
   ]
  },
  {
   "cell_type": "markdown",
   "id": "067c8bbc",
   "metadata": {},
   "source": [
    "## xycoords\n",
    "\n",
    "See [class matplotlib.text.Annotation](https://matplotlib.org/stable/api/text_api.html#matplotlib.text.Annotation).\n",
    "\n",
    "\n",
    "| Value                | Description                                                       |\n",
    "|----------------------|-------------------------------------------------------------------|\n",
    "| 'figure points'      | Points from the lower left of the figure                          |\n",
    "| 'figure pixels'      | Pixels from the lower left of the figure                          |\n",
    "| 'figure fraction'    | Fraction of figure from lower left                                |\n",
    "| 'subfigure points'   | Points from the lower left of the subfigure                       |\n",
    "| 'subfigure pixels'   | Pixels from the lower left of the subfigure                       |\n",
    "| 'subfigure fraction' | Fraction of subfigure from lower left                             |\n",
    "| 'axes points'        | Points from lower left corner of axes                             |\n",
    "| 'axes pixels'        | Pixels from lower left corner of axes                             |\n",
    "| 'axes fraction'      | Fraction of axes from lower left                                  |\n",
    "| 'data'               | Use the coordinate system of the object being annotated (default) |\n",
    "| 'polar'              | (theta, r) if not native 'data' coordinates                       |\n"
   ]
  },
  {
   "cell_type": "markdown",
   "id": "cc51655d",
   "metadata": {},
   "source": [
    "## boxcords\n",
    "\n",
    "| Value           | Description                          |\n",
    "|-----------------|--------------------------------------|\n",
    "| 'offset points' | Offset (in points) from the xy value |\n",
    "| 'offset pixels' | Offset (in pixels) from the xy value |"
   ]
  },
  {
   "cell_type": "markdown",
   "id": "41505a7e",
   "metadata": {},
   "source": [
    "## arrowprops: Optional[dict]\n",
    "\n",
    "See [Axes.annotate(text, xy, *args, **kwargs)](https://matplotlib.org/devdocs/api/_as_gen/matplotlib.axes.Axes.annotate.html#matplotlib.axes.Axes.annotate).\n",
    "\n",
    "> The properties used to draw a FancyArrowPatch arrow between the positions xy and xytext. Defaults to None, i.e. no arrow is drawn. For historical reasons there are two different ways to specify arrows, \"simple\" and \"fancy\":\n",
    "\n",
    "### Simple arrow\n",
    "\n",
    "| Key                  | Description                                                       |\n",
    "|----------------------|-------------------------------------------------------------------|\n",
    "| width                | The width of the arrow in points                                  |\n",
    "| headwidth            | The width of the base of the arrow head in points                 |\n",
    "| headlength           | The length of the arrow head in points                            |\n",
    "| shrink               | Fraction of total length to shrink from both ends                 |\n",
    "| ?                    | Any key to matplotlib.patches.FancyArrowPatch                     |\n"
   ]
  },
  {
   "cell_type": "markdown",
   "id": "4d86536d",
   "metadata": {},
   "source": [
    "\n",
    "### Fancy arrow\n",
    "\n",
    "| Key             | Description                                 |\n",
    "|-----------------|---------------------------------------------|\n",
    "| arrowstyle      | the arrow style                             |\n",
    "| connectionstyle | the connection style                        |\n",
    "| relpos          | see below; default is (0.5, 0.5)            |\n",
    "| patchA          | default is bounding box of the text         |\n",
    "| patchB          | default is None                             |\n",
    "| shrinkA         | default is 2 points                         |\n",
    "| shrinkB         | default is 2 points                         |\n",
    "| mutation_scale  | default is text size (in points)            |\n",
    "| mutation_aspect | default is 1.                               |\n",
    "| ?               | any key for matplotlib.patches.PathPatch    |\n",
    "\n"
   ]
  },
  {
   "cell_type": "markdown",
   "id": "c9fcd621",
   "metadata": {},
   "source": [
    "## arrowstyle\n",
    "\n",
    "* [matplotlib.patches.FancyArrowPatch](https://matplotlib.org/devdocs/api/_as_gen/matplotlib.patches.FancyArrowPatch.html#matplotlib-patches-fancyarrowpatch)\n",
    "\n",
    "> The ArrowStyle with which the fancy arrow is drawn. If a string, it should be one of the available arrowstyle names, with optional comma-separated attributes. The optional attributes are meant to be scaled with the mutation_scale. The following arrow styles are available:\n",
    "\n",
    "| Class         | Name    | Attrs                                                                                                                           |\n",
    "|---------------|---------|---------------------------------------------------------------------------------------------------------------------------------|\n",
    "| Curve         | -       | None                                                                                                                            |\n",
    "| CurveA        | <-      | head_length=0.4, head_width=0.2, widthA=1.0, widthB=1.0, lengthA=0.2, lengthB=0.2, angleA=0, angleB=0, scaleA=None, scaleB=None |\n",
    "| CurveB        | ->      | head_length=0.4, head_width=0.2, widthA=1.0, widthB=1.0, lengthA=0.2, lengthB=0.2, angleA=0, angleB=0, scaleA=None, scaleB=None |\n",
    "| CurveAB       | <->     | head_length=0.4, head_width=0.2, widthA=1.0, widthB=1.0, lengthA=0.2, lengthB=0.2, angleA=0, angleB=0, scaleA=None, scaleB=None |\n",
    "| CurveFilledA  | <\\|-    | head_length=0.4, head_width=0.2, widthA=1.0, widthB=1.0, lengthA=0.2, lengthB=0.2, angleA=0, angleB=0, scaleA=None, scaleB=None |\n",
    "| CurveFilledB  | -\\|>    | head_length=0.4, head_width=0.2, widthA=1.0, widthB=1.0, lengthA=0.2, lengthB=0.2, angleA=0, angleB=0, scaleA=None, scaleB=None |\n",
    "| CurveFilledAB | <\\|-\\|> | head_length=0.4, head_width=0.2, widthA=1.0, widthB=1.0, lengthA=0.2, lengthB=0.2, angleA=0, angleB=0, scaleA=None, scaleB=None |\n",
    "| BracketA      | ]-      | widthA=1.0, lengthA=0.2, angleA=0                                                                                               |\n",
    "| BracketB      | -[      | widthB=1.0, lengthB=0.2, angleB=0                                                                                               |\n",
    "| BracketAB     | ]-[     | widthA=1.0, lengthA=0.2, angleA=0, widthB=1.0, lengthB=0.2, angleB=0                                                            |\n",
    "| BarAB         | \\|-\\|   | widthA=1.0, angleA=0, widthB=1.0, angleB=0                                                                                      |\n",
    "| BracketCurve  | ]->     | widthA=1.0, lengthA=0.2, angleA=None                                                                                            |\n",
    "| CurveBracket  | <-[     | widthB=1.0, lengthB=0.2, angleB=None                                                                                            |\n",
    "| Simple        | simple  | head_length=0.5, head_width=0.5, tail_width=0.2                                                                                 |\n",
    "| Fancy         | fancy   | head_length=0.4, head_width=0.4, tail_width=0.4                                                                                 |\n",
    "| Wedge         | wedge   | tail_width=0.3, shrink_factor=0.5                                                                                               |"
   ]
  },
  {
   "cell_type": "markdown",
   "id": "8fab189c",
   "metadata": {},
   "source": [
    "| Class         | Name    | Attrs                                                                                                                           |\n",
    "|---------------|---------|---------------------------------------------------------------------------------------------------------------------------------|\n",
    "| Arc3          | arc3    | rad=0.0                                                                                                                         |\n",
    "| Angle3        | angle3  | angleA=90, angleB=0                                                                                                             |\n",
    "| Angle         | angle   | angleA=90, angleB=0, rad=0.0                                                                                                    |\n",
    "| Arc           | arc     | angleA=0, angleB=0, armA=None, armB=None, rad=0.0                                                                               |"
   ]
  },
  {
   "cell_type": "code",
   "execution_count": 10,
   "id": "73a2b8e9",
   "metadata": {},
   "outputs": [
    {
     "data": {
      "image/png": "[encoded data removed]",
      "text/plain": [
       "<Figure size 432x288 with 1 Axes>"
      ]
     },
     "metadata": {
      "needs_background": "light"
     },
     "output_type": "display_data"
    }
   ],
   "source": [
    "import matplotlib.pyplot as plt\n",
    "import numpy as np\n",
    "\n",
    "from matplotlib.patches import Circle\n",
    "from matplotlib.offsetbox import (\n",
    "    TextArea, \n",
    "    DrawingArea, \n",
    "    OffsetImage,\n",
    "    AnnotationBbox\n",
    ")\n",
    "from matplotlib.cbook import get_sample_data\n",
    "\n",
    "\n",
    "fig, ax = plt.subplots()\n",
    "\n",
    "# Define a 1st position to annotate (display it with a marker)\n",
    "xy = (0.5, 0.7)\n",
    "ax.plot(xy[0], xy[1], \".r\")\n",
    "\n",
    "# Annotate the 1st position with a text box ('Test 1')\n",
    "offsetbox = TextArea(\"Test 1\")\n",
    "ab = AnnotationBbox(\n",
    "    offsetbox,                       # Use text area as the annotation\n",
    "    xy,                              # Location of the tip to point from the annotation\n",
    "    xybox=(-20, 40),                 # Offset: How far from the tip to place the annotation text\n",
    "    xycoords='data',                 # Use the same coordinate system of the target to annotate  \n",
    "    boxcoords=\"offset points\",       # Use \"point\" for offset unit\n",
    "    arrowprops=dict(arrowstyle=\"->\")\n",
    ")\n",
    "ax.add_artist(ab)\n",
    "\n",
    "# Annotate the 1st position with another text box ('Test')\n",
    "offsetbox = TextArea(\"Test\")\n",
    "\n",
    "ab = AnnotationBbox(offsetbox, xy,\n",
    "                    xybox=(1.02, xy[1]),\n",
    "                    xycoords='data',\n",
    "                    boxcoords=(\"axes fraction\", \"data\"),\n",
    "                    box_alignment=(0., 0.5),\n",
    "                    arrowprops=dict(arrowstyle=\"->\"))\n",
    "ax.add_artist(ab)\n",
    "\n",
    "# Fix the display limits to see everything\n",
    "ax.set_xlim(0, 1)\n",
    "ax.set_ylim(0, 1)\n",
    "\n",
    "plt.show()"
   ]
  },
  {
   "cell_type": "code",
   "execution_count": null,
   "id": "6deab8ca",
   "metadata": {},
   "outputs": [],
   "source": []
  },
  {
   "cell_type": "code",
   "execution_count": 4,
   "id": "731df50b",
   "metadata": {},
   "outputs": [
    {
     "data": {
      "image/png": "[encoded data removed]",
      "text/plain": [
       "<Figure size 432x288 with 1 Axes>"
      ]
     },
     "metadata": {
      "needs_background": "light"
     },
     "output_type": "display_data"
    }
   ],
   "source": [
    "import matplotlib.pyplot as plt\n",
    "import numpy as np\n",
    "\n",
    "from matplotlib.patches import Circle\n",
    "from matplotlib.offsetbox import (TextArea, DrawingArea, OffsetImage,\n",
    "                                  AnnotationBbox)\n",
    "from matplotlib.cbook import get_sample_data\n",
    "\n",
    "\n",
    "fig, ax = plt.subplots()\n",
    "\n",
    "\n",
    "# Define a 2nd position to annotate (don't display with a marker this time)\n",
    "xy = [0.3, 0.55]\n",
    "\n",
    "# Annotate the 2nd position with a circle patch\n",
    "da = DrawingArea(20, 20, 0, 0)\n",
    "p = Circle((10, 10), 10)\n",
    "da.add_artist(p)\n",
    "\n",
    "ab = AnnotationBbox(da, xy,\n",
    "                    xybox=(1.02, xy[1]),\n",
    "                    xycoords='data',\n",
    "                    boxcoords=(\"axes fraction\", \"data\"),\n",
    "                    box_alignment=(0., 0.5),\n",
    "                    arrowprops=dict(arrowstyle=\"->\"))\n",
    "\n",
    "ax.add_artist(ab)\n",
    "\n",
    "# Annotate the 2nd position with an image (a generated array of pixels)\n",
    "arr = np.arange(100).reshape((10, 10))\n",
    "im = OffsetImage(arr, zoom=2)\n",
    "im.image.axes = ax\n",
    "\n",
    "ab = AnnotationBbox(im, xy,\n",
    "                    xybox=(-50., 50.),\n",
    "                    xycoords='data',\n",
    "                    boxcoords=\"offset points\",\n",
    "                    pad=0.3,\n",
    "                    arrowprops=dict(arrowstyle=\"->\"))\n",
    "\n",
    "ax.add_artist(ab)\n",
    "\n",
    "# Annotate the 2nd position with another image (a Grace Hopper portrait)\n",
    "with get_sample_data(\"grace_hopper.jpg\") as file:\n",
    "    arr_img = plt.imread(file)\n",
    "\n",
    "imagebox = OffsetImage(arr_img, zoom=0.2)\n",
    "imagebox.image.axes = ax\n",
    "\n",
    "ab = AnnotationBbox(imagebox, xy,\n",
    "                    xybox=(120., -80.),\n",
    "                    xycoords='data',\n",
    "                    boxcoords=\"offset points\",\n",
    "                    pad=0.5,\n",
    "                    arrowprops=dict(\n",
    "                        arrowstyle=\"->\",\n",
    "                        connectionstyle=\"angle,angleA=0,angleB=90,rad=3\")\n",
    "                    )\n",
    "\n",
    "ax.add_artist(ab)\n",
    "\n",
    "# Fix the display limits to see everything\n",
    "ax.set_xlim(0, 1)\n",
    "ax.set_ylim(0, 1)\n",
    "\n",
    "plt.show()"
   ]
  },
  {
   "cell_type": "code",
   "execution_count": null,
   "id": "912fde28",
   "metadata": {},
   "outputs": [],
   "source": []
  }
 ],
 "metadata": {
  "kernelspec": {
   "display_name": "Python 3 (ipykernel)",
   "language": "python",
   "name": "python3"
  },
  "language_info": {
   "codemirror_mode": {
    "name": "ipython",
    "version": 3
   },
   "file_extension": ".py",
   "mimetype": "text/x-python",
   "name": "python",
   "nbconvert_exporter": "python",
   "pygments_lexer": "ipython3",
   "version": "3.8.10"
  }
 },
 "nbformat": 4,
 "nbformat_minor": 5
}
