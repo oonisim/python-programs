{
 "cells": [
  {
   "cell_type": "code",
   "execution_count": null,
   "id": "functioning-lobby",
   "metadata": {},
   "outputs": [],
   "source": []
  },
  {
   "cell_type": "code",
   "execution_count": null,
   "id": "statutory-penny",
   "metadata": {},
   "outputs": [],
   "source": []
  },
  {
   "cell_type": "markdown",
   "id": "enhanced-festival",
   "metadata": {},
   "source": [
    "# Fast style\n",
    "\n",
    "* [Using the fast style](https://matplotlib.org/stable/tutorials/introductory/usage.html#using-the-fast-style)\n",
    "                         \n",
    "> automatically set simplification and chunking parameters to reasonable settings to speed up plotting large amounts of data. "
   ]
  },
  {
   "cell_type": "code",
   "execution_count": 2,
   "id": "cardiovascular-railway",
   "metadata": {},
   "outputs": [],
   "source": [
    "import matplotlib.style as mplstyle\n",
    "mplstyle.use('fast')"
   ]
  }
 ],
 "metadata": {
  "kernelspec": {
   "display_name": "Python 3",
   "language": "python",
   "name": "python3"
  },
  "language_info": {
   "codemirror_mode": {
    "name": "ipython",
    "version": 3
   },
   "file_extension": ".py",
   "mimetype": "text/x-python",
   "name": "python",
   "nbconvert_exporter": "python",
   "pygments_lexer": "ipython3",
   "version": "3.8.8"
  }
 },
 "nbformat": 4,
 "nbformat_minor": 5
}
