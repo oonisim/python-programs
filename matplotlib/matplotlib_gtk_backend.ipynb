{
 "cells": [
  {
   "cell_type": "markdown",
   "id": "challenging-conservative",
   "metadata": {},
   "source": [
    "# FAQ\n",
    "The GTK3 backends require PyGObject\n",
    "\n",
    "* [Recommended method of installation #462](https://github.com/jupyter/notebook/issues/462#issuecomment-141835862)\n",
    "\n",
    "> Searching at anaconda.org, it looks as if there is a third party option conda option for installing pygobject at https://anaconda.org/fallen/pygobject. To install, conda install -c https://conda.anaconda.org/fallen pygobject.\n",
    "\n",
    "* [PyGObject Getting Started](https://pygobject.readthedocs.io/en/latest/getting_started.html#getting-started)\n",
    "\n",
    "> PyGObject is a Python package which provides bindings for GObject based libraries such as GTK, GStreamer, WebKitGTK, GLib, GIO and many more. <br><br>\n",
    "It supports Linux, Windows and macOS and works with Python 3.6+ and PyPy3. PyGObject, including this documentation, is licensed under the LGPLv2.1+.\n",
    "<br><br>\n",
    "If you want to write a Python application for GNOME or a Python GUI application using GTK, then PyGObject is the way to go. For more information on specific libraries check out the “Python GTK 3 Tutorial” and the “Python GI API Reference”.\n",
    "\n",
    "```\n",
    "import gi\n",
    "gi.require_version(\"Gtk\", \"3.0\")\n",
    "from gi.repository import Gtk\n",
    "\n",
    "window = Gtk.Window(title=\"Hello World\")\n",
    "window.show()\n",
    "window.connect(\"destroy\", Gtk.main_quit)\n",
    "Gtk.main()\n",
    "'''\n"
   ]
  },
  {
   "cell_type": "code",
   "execution_count": null,
   "id": "broad-grill",
   "metadata": {},
   "outputs": [],
   "source": [
    "%run conda install -c https://conda.anaconda.org/fallen pygobject"
   ]
  }
 ],
 "metadata": {
  "kernelspec": {
   "display_name": "Python 3",
   "language": "python",
   "name": "python3"
  },
  "language_info": {
   "codemirror_mode": {
    "name": "ipython",
    "version": 3
   },
   "file_extension": ".py",
   "mimetype": "text/x-python",
   "name": "python",
   "nbconvert_exporter": "python",
   "pygments_lexer": "ipython3",
   "version": "3.8.8"
  }
 },
 "nbformat": 4,
 "nbformat_minor": 5
}
