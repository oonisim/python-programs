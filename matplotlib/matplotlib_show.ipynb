{
 "cells": [
  {
   "cell_type": "code",
   "execution_count": 1,
   "id": "perfect-hindu",
   "metadata": {},
   "outputs": [
    {
     "name": "stdout",
     "output_type": "stream",
     "text": [
      "3.8.8\n"
     ]
    }
   ],
   "source": [
    "import matplotlib.pyplot as plt\n",
    "%matplotlib qt\n",
    "\n",
    "from platform import python_version\n",
    "print(python_version())"
   ]
  },
  {
   "cell_type": "markdown",
   "id": "informal-suicide",
   "metadata": {},
   "source": [
    "## show() is blocking\n",
    "\n",
    "1. To have a sync/check point.\n",
    "2. Batch execution.\n",
    "\n",
    "* [Non-interactive example](https://matplotlib.org/stable/tutorials/introductory/usage.html#non-interactive-example)\n",
    "> pyplot.show() blocks the input of additional commands until you manually kill the plot window.<br><br>\n",
    "Without a blocking command such as show(), the script would flash up the plot and then end immediately.<br><br>\n",
    ">In addition, non-interactive mode delays all drawing until show() is called; this is more efficient than redrawing the plot each time a line in the script adds a new feature.\n",
    "\n"
   ]
  },
  {
   "cell_type": "markdown",
   "id": "architectural-bahrain",
   "metadata": {},
   "source": [
    "## plt.draw()\n",
    "\n",
    "To explicitly call draw() in order to update the plot:\n",
    "```\n",
    "plt.draw()\n",
    "plt.show()\n",
    "```\n",
    "\n",
    "* [Jupyter & matplotlib - how to turn on and off the interactive mode on a figure\n",
    "](https://stackoverflow.com/questions/66609007)\n"
   ]
  },
  {
   "cell_type": "code",
   "execution_count": 2,
   "id": "frank-qatar",
   "metadata": {},
   "outputs": [
    {
     "data": {
      "text/plain": [
       "[<matplotlib.lines.Line2D at 0x7fe1c0a6aa00>]"
      ]
     },
     "execution_count": 2,
     "metadata": {},
     "output_type": "execute_result"
    }
   ],
   "source": [
    "fig, ax = plt.subplots(figsize=(7,5))\n",
    "plt.ioff()\n",
    "ax.plot([1.6, 2.7])    # When running from the  command line python, this will not show a line"
   ]
  },
  {
   "cell_type": "code",
   "execution_count": 3,
   "id": "dried-genome",
   "metadata": {},
   "outputs": [
    {
     "data": {
      "text/plain": [
       "<Figure size 432x288 with 0 Axes>"
      ]
     },
     "metadata": {},
     "output_type": "display_data"
    }
   ],
   "source": [
    "plt.ion()\n",
    "plt.draw()\n",
    "plt.show()"
   ]
  }
 ],
 "metadata": {
  "kernelspec": {
   "display_name": "Python 3",
   "language": "python",
   "name": "python3"
  },
  "language_info": {
   "codemirror_mode": {
    "name": "ipython",
    "version": 3
   },
   "file_extension": ".py",
   "mimetype": "text/x-python",
   "name": "python",
   "nbconvert_exporter": "python",
   "pygments_lexer": "ipython3",
   "version": "3.8.8"
  }
 },
 "nbformat": 4,
 "nbformat_minor": 5
}
