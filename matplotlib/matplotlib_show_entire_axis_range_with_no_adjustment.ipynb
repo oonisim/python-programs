{
 "cells": [
  {
   "cell_type": "markdown",
   "id": "7b9fa5e9",
   "metadata": {},
   "source": [
    "# How to show entire axes end to end\n",
    "\n",
    "* [matplotlib - how to show entire scales in figure](https://stackoverflow.com/questions/70780534/matplotlib-how-to-show-entire-scales-in-figure)"
   ]
  },
  {
   "cell_type": "code",
   "execution_count": 31,
   "id": "1fb18612",
   "metadata": {},
   "outputs": [],
   "source": [
    "import numpy as np\n",
    "import matplotlib.pyplot as plt"
   ]
  },
  {
   "cell_type": "code",
   "execution_count": 36,
   "id": "5ba2199a",
   "metadata": {},
   "outputs": [
    {
     "data": {
      "text/plain": [
       "array([[-3., -1.],\n",
       "       [-3., -2.],\n",
       "       [-2., -2.],\n",
       "       [-3., -3.]])"
      ]
     },
     "execution_count": 36,
     "metadata": {},
     "output_type": "execute_result"
    }
   ],
   "source": [
    "cow = np.array([\n",
    "    [-3.0, -1.0],\n",
    "    [-3.0, -2.0], \n",
    "    [-2.0, -2.0], \n",
    "    [-3.0, -3.0]\n",
    "])\n",
    "cow"
   ]
  },
  {
   "cell_type": "markdown",
   "id": "d622199b",
   "metadata": {},
   "source": [
    "# Without ```figsize``` parameter, the entire axes ranges do not show up"
   ]
  },
  {
   "cell_type": "code",
   "execution_count": 55,
   "id": "1e61fe7f",
   "metadata": {},
   "outputs": [
    {
     "name": "stderr",
     "output_type": "stream",
     "text": [
      "No handles with labels found to put in legend.\n"
     ]
    },
    {
     "data": {
      "text/plain": [
       "<matplotlib.legend.Legend at 0x7f2489af89d0>"
      ]
     },
     "execution_count": 55,
     "metadata": {},
     "output_type": "execute_result"
    },
    {
     "data": {
      "image/png": "[encoded data removed]",
      "text/plain": [
       "<Figure size 432x288 with 1 Axes>"
      ]
     },
     "metadata": {
      "needs_background": "light"
     },
     "output_type": "display_data"
    }
   ],
   "source": [
    "#fig, ax = plt.subplots(figsize=(6, 6)) \n",
    "fig, ax = plt.subplots()   # <--- No \"figsize\" parameter\n",
    "ax.axis('equal')\n",
    "\n",
    "ax.set_xticks(np.linspace(-3, 3, 7), minor=True)\n",
    "ax.set_yticks(np.linspace(-3, 3, 7), minor=True)\n",
    "ax.set_xlim(-3, 3)\n",
    "ax.set_ylim(-3, 3)\n",
    "ax.tick_params(axis='x', colors='red')\n",
    "ax.tick_params(axis='y', colors='blue')\n",
    "\n",
    "ax.scatter(x=cow[:, 0], y=cow[:, 1])\n",
    "\n",
    "ax.grid()\n",
    "ax.legend()"
   ]
  },
  {
   "cell_type": "markdown",
   "id": "8efea7f6",
   "metadata": {},
   "source": [
    "Apparently the area and axes ranges are auto adjusted. Adding a circle changes the axes ranges."
   ]
  },
  {
   "cell_type": "code",
   "execution_count": 57,
   "id": "52bcfb42",
   "metadata": {},
   "outputs": [
    {
     "name": "stderr",
     "output_type": "stream",
     "text": [
      "No handles with labels found to put in legend.\n"
     ]
    },
    {
     "data": {
      "text/plain": [
       "<matplotlib.legend.Legend at 0x7f2489a1d880>"
      ]
     },
     "execution_count": 57,
     "metadata": {},
     "output_type": "execute_result"
    },
    {
     "data": {
      "image/png": "[encoded data removed]",
      "text/plain": [
       "<Figure size 432x288 with 1 Axes>"
      ]
     },
     "metadata": {
      "needs_background": "light"
     },
     "output_type": "display_data"
    }
   ],
   "source": [
    "\n",
    "#fig, ax = plt.subplots(figsize=(6, 6)) \n",
    "fig, ax = plt.subplots()   # <--- No \"figsize\" parameter\n",
    "ax.axis('equal')\n",
    "\n",
    "ax.set_xticks(np.linspace(-3, 3, 7), minor=True)\n",
    "ax.set_yticks(np.linspace(-3, 3, 7), minor=True)\n",
    "ax.set_xlim(-3, 3)\n",
    "ax.set_ylim(-3, 3)\n",
    "ax.tick_params(axis='x', colors='red')\n",
    "ax.tick_params(axis='y', colors='blue')\n",
    "\n",
    "angle = np.linspace(0, 2 * np.pi, 100)\n",
    "ax.plot(2 * np.cos(angle), 2 * np.sin(angle))\n",
    "ax.scatter(x=cow[:, 0], y=cow[:, 1])\n",
    "\n",
    "ax.grid()\n",
    "ax.legend()"
   ]
  },
  {
   "cell_type": "markdown",
   "id": "45cd3ee4",
   "metadata": {},
   "source": [
    "# ```figsize``` parameter make the entire axes ranges showing up\n",
    "\n",
    "Perhaps **figure** shapre is rectangle with longer width by default unless figsize is set? "
   ]
  },
  {
   "cell_type": "code",
   "execution_count": 60,
   "id": "8c7ed3b5",
   "metadata": {},
   "outputs": [
    {
     "name": "stderr",
     "output_type": "stream",
     "text": [
      "No handles with labels found to put in legend.\n"
     ]
    },
    {
     "data": {
      "text/plain": [
       "<matplotlib.legend.Legend at 0x7f248989d580>"
      ]
     },
     "execution_count": 60,
     "metadata": {},
     "output_type": "execute_result"
    },
    {
     "data": {
      "image/png": "[encoded data removed]",
      "text/plain": [
       "<Figure size 432x432 with 1 Axes>"
      ]
     },
     "metadata": {
      "needs_background": "light"
     },
     "output_type": "display_data"
    }
   ],
   "source": [
    "fig, ax = plt.subplots(figsize=(6, 6)) \n",
    "#fig, ax = plt.subplots() \n",
    "ax.axis('equal')\n",
    "\n",
    "ax.set_xticks(np.linspace(-3, 3, 7), minor=True)\n",
    "ax.set_yticks(np.linspace(-3, 3, 7), minor=True)\n",
    "ax.set_xlim(-4, 4)\n",
    "ax.set_ylim(-4, 4)\n",
    "ax.tick_params(axis='x', colors='red')\n",
    "ax.tick_params(axis='y', colors='blue')\n",
    "\n",
    "ax.scatter(x=cow[:, 0], y=cow[:, 1])\n",
    "\n",
    "ax.grid()\n",
    "ax.legend()"
   ]
  },
  {
   "cell_type": "code",
   "execution_count": null,
   "id": "7ce73add",
   "metadata": {},
   "outputs": [],
   "source": []
  }
 ],
 "metadata": {
  "kernelspec": {
   "display_name": "Python 3 (ipykernel)",
   "language": "python",
   "name": "python3"
  },
  "language_info": {
   "codemirror_mode": {
    "name": "ipython",
    "version": 3
   },
   "file_extension": ".py",
   "mimetype": "text/x-python",
   "name": "python",
   "nbconvert_exporter": "python",
   "pygments_lexer": "ipython3",
   "version": "3.8.10"
  }
 },
 "nbformat": 4,
 "nbformat_minor": 5
}
