{
 "cells": [
  {
   "cell_type": "markdown",
   "id": "333802eb",
   "metadata": {},
   "source": [
    "# How to plot on pre-defined Axes\n",
    "\n",
    "* [subplots(nrows=1, ncols=1, *, sharex=False, sharey=False, squeeze=True, subplot_kw=None, gridspec_kw=None)](https://matplotlib.org/stable/api/figure_api.html#matplotlib.figure.Figure.subplots)"
   ]
  },
  {
   "cell_type": "code",
   "execution_count": 4,
   "id": "038642e1",
   "metadata": {},
   "outputs": [],
   "source": [
    "import numpy as np\n",
    "import matplotlib.pyplot as plt"
   ]
  },
  {
   "cell_type": "code",
   "execution_count": 5,
   "id": "9c34226e",
   "metadata": {},
   "outputs": [
    {
     "data": {
      "image/png": "[encoded data removed]",
      "text/plain": [
       "<Figure size 432x288 with 1 Axes>"
      ]
     },
     "metadata": {
      "needs_background": "light"
     },
     "output_type": "display_data"
    }
   ],
   "source": [
    "fig, ax = plt.subplots() \n",
    "ax.axis('equal')\n",
    "ax.set_xticks(np.linspace(-3, 3, 7))\n",
    "ax.set_yticks(np.linspace(-3, 3, 7))\n",
    "ax.set_xlim(-3, 3)\n",
    "ax.set_ylim(-3, 3)\n",
    "ax.tick_params(axis='x', colors='red')\n",
    "ax.tick_params(axis='y', colors='blue')"
   ]
  },
  {
   "cell_type": "code",
   "execution_count": 21,
   "id": "2da35b71",
   "metadata": {},
   "outputs": [
    {
     "data": {
      "text/plain": [
       "[<matplotlib.lines.Line2D at 0x7f248c71beb0>]"
      ]
     },
     "execution_count": 21,
     "metadata": {},
     "output_type": "execute_result"
    }
   ],
   "source": [
    "angle = np.linspace(0, 2 * np.pi, 100)\n",
    "ax.plot(2 * np.cos(angle), 2 * np.sin(angle))"
   ]
  },
  {
   "cell_type": "code",
   "execution_count": 28,
   "id": "dcb4d848",
   "metadata": {},
   "outputs": [],
   "source": [
    "def plot_on_ax(ax, X, Y, label=None, color=None, title=None, xlabel=None, ylabel=None, scale=None):\n",
    "    ax.set_xlabel(xlabel) if xlabel else ...\n",
    "    ax.set_ylabel(ylabel) if ylabel else ...\n",
    "    ax.set_title(title) if title is not None else ...\n",
    "    ax.plot(X, Y, color=color, label=label)\n",
    "    ax.grid()\n",
    "    ax.legend()\n",
    "    ax.set_xscale(scale) if scale else ..."
   ]
  },
  {
   "cell_type": "code",
   "execution_count": null,
   "id": "0fa0ad39",
   "metadata": {},
   "outputs": [],
   "source": []
  }
 ],
 "metadata": {
  "kernelspec": {
   "display_name": "Python 3 (ipykernel)",
   "language": "python",
   "name": "python3"
  },
  "language_info": {
   "codemirror_mode": {
    "name": "ipython",
    "version": 3
   },
   "file_extension": ".py",
   "mimetype": "text/x-python",
   "name": "python",
   "nbconvert_exporter": "python",
   "pygments_lexer": "ipython3",
   "version": "3.8.10"
  }
 },
 "nbformat": 4,
 "nbformat_minor": 5
}
