{
 "cells": [
  {
   "cell_type": "code",
   "execution_count": null,
   "id": "5877f514",
   "metadata": {},
   "outputs": [],
   "source": []
  },
  {
   "cell_type": "code",
   "execution_count": null,
   "id": "fb2d1d2c",
   "metadata": {},
   "outputs": [],
   "source": [
    "\n",
    "# Matplotlib utilities\n",
    "def plot_on_ax(ax, X, Y, label=None, color=None, title=None, xlabel=None, ylabel=None, legend=True, scale=None, limits=None):\n",
    "    ax.set_xlim(limits[0:2]) if limits is not None else None\n",
    "    ax.set_ylim(limits[2:4]) if limits is not None else None\n",
    "    ax.set_xlabel(xlabel) if xlabel else ...\n",
    "    ax.set_ylabel(ylabel) if ylabel else ...\n",
    "    ax.set_title(title) if title is not None else ...\n",
    "    ax.plot(X, Y, color=color, label=label)\n",
    "    ax.legend() if legend else None\n",
    "    ax.grid(which='major', b=False, linestyle='--')\n",
    "    ax.grid(which='minor', alpha=0.2, linestyle='--')\n",
    "    ax.set_xscale(scale) if scale else ...\n",
    "    ax.xaxis.get_ticklocs(minor=True)\n",
    "    ax.minorticks_on()\n",
    "\n",
    "def hist_on_ax(ax, X, Y, label=None, color=None, alpha=0.5, title=None, xlabel=None, ylabel=None, legend=True, scale=None, limits=None):\n",
    "    ax.set_xlim(limits[0:2]) if limits is not None else None\n",
    "    ax.set_ylim(limits[2:4]) if limits is not None else None\n",
    "    ax.set_xlabel(xlabel) if xlabel else ...\n",
    "    ax.set_ylabel(ylabel) if ylabel else ...\n",
    "    ax.set_title(title) if title is not None else ...\n",
    "    ax.hist(Y, bins=X, alpha=alpha, color=color,label=label)\n",
    "    ax.grid(which='both')\n",
    "    ax.grid(which='major', b=False, linestyle='--')\n",
    "    ax.grid(which='minor', alpha=0.2, linestyle='--')\n",
    "    ax.legend() if legend else None\n",
    "    ax.set_xscale(scale) if scale else ...\n",
    "\n",
    "def plotter(ax, x, hy, uy, hcolor, ucolor, hlabel, ulabel, xlabel, ylabel, title, limits=None, single=False):\n",
    "    plot_on_ax(ax, x, hy, color=hcolor, label=hlabel, xlabel=xlabel, ylabel=ylabel, title=title, limits=limits)\n",
    "    plot_on_ax(ax, x, uy, color=ucolor, label=ulabel) if not single else None\n",
    "    return\n",
    "    plt.xlabel(xlabel)\n",
    "    plt.ylabel(ylabel)       \n",
    "    plt.title(title, fontsize=20)\n",
    "    plt.grid()\n",
    "    ax.legend() if legend else None\n",
    "    plt.axis(limits) if limits is not None else None"
   ]
  }
 ],
 "metadata": {
  "kernelspec": {
   "display_name": "Python 3 (ipykernel)",
   "language": "python",
   "name": "python3"
  },
  "language_info": {
   "codemirror_mode": {
    "name": "ipython",
    "version": 3
   },
   "file_extension": ".py",
   "mimetype": "text/x-python",
   "name": "python",
   "nbconvert_exporter": "python",
   "pygments_lexer": "ipython3",
   "version": "3.8.8"
  }
 },
 "nbformat": 4,
 "nbformat_minor": 5
}
