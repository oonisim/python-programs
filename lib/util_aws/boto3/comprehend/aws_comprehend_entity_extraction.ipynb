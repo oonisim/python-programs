{
 "cells": [
  {
   "cell_type": "markdown",
   "id": "e8b06c7d",
   "metadata": {},
   "source": [
    "# AWS Comprehend Entity Extraction\n",
    "\n",
    "Jupyter notebook to demostrate how to setup and use AWS Comprehend for Entity Extractions. \n",
    "\n",
    "* [Amazon Comprehend examples using SDK for Python (Boto3)](https://docs.aws.amazon.com/code-library/latest/ug/python_3_comprehend_code_examples.html)\n",
    "* [Comprehend.Client.detect_entities(**kwargs)](https://boto3.amazonaws.com/v1/documentation/api/latest/reference/services/comprehend/client/detect_entities.html#)\n",
    "* [Permissions to allow all Amazon Comprehend actions\n",
    "](https://docs.aws.amazon.com/comprehend/latest/dg/security_iam_id-based-policy-examples.html#custom-policy-all-all-actions)"
   ]
  },
  {
   "cell_type": "code",
   "execution_count": 3,
   "id": "3149e495-aa88-4783-abe1-9f44d999787f",
   "metadata": {
    "tags": []
   },
   "outputs": [
    {
     "name": "stdout",
     "output_type": "stream",
     "text": [
      "61 packages can be upgraded. Run 'apt list --upgradable' to see them.\n",
      "zip is already the newest version (3.0-11+b1).\n",
      "0 upgraded, 0 newly installed, 0 to remove and 61 not upgraded.\n"
     ]
    }
   ],
   "source": [
    "!apt -qq update -y\n",
    "!apt -qq install zip"
   ]
  },
  {
   "cell_type": "code",
   "execution_count": 6,
   "id": "e3ddafc6",
   "metadata": {},
   "outputs": [],
   "source": [
    "import sys\n",
    "import time"
   ]
  },
  {
   "cell_type": "code",
   "execution_count": null,
   "id": "7631e2d0",
   "metadata": {},
   "outputs": [],
   "source": [
    "PATH_TO_LIB: str = \"../../../../lib\""
   ]
  },
  {
   "cell_type": "code",
   "execution_count": 7,
   "id": "1efb8a63",
   "metadata": {},
   "outputs": [],
   "source": [
    "sys.path.append(PATH_TO_LIB) "
   ]
  },
  {
   "cell_type": "code",
   "execution_count": 26,
   "id": "c58f5d4c",
   "metadata": {},
   "outputs": [],
   "source": [
    "from util_aws.boto3.lambdas import (\n",
    "    LambdaFunction\n",
    ")"
   ]
  },
  {
   "cell_type": "markdown",
   "id": "a5675d88-87bf-4a94-9d20-58dcd51e00df",
   "metadata": {},
   "source": [
    "# Constant"
   ]
  },
  {
   "cell_type": "code",
   "execution_count": 4,
   "id": "9e39ed0c-5392-4843-9d5c-46b0d613c63f",
   "metadata": {
    "tags": []
   },
   "outputs": [],
   "source": [
    "AWS_SERVICE: str = \"comprehend\"\n",
    "LAMBDA_FUNCTION_NAME: str = \"tagging-poc-dev-comprehend\""
   ]
  },
  {
   "cell_type": "markdown",
   "id": "56190162-5d6c-4d4d-b8b5-ddfcecfed100",
   "metadata": {},
   "source": [
    "# Data"
   ]
  },
  {
   "cell_type": "code",
   "execution_count": 5,
   "id": "fe38e785-e4cf-46ee-929e-c39d4f4ab0b9",
   "metadata": {
    "tags": []
   },
   "outputs": [],
   "source": [
    "example=\"\"\"\n",
    "在 SBS On Demand 可免费收看《世界上最幸福的国度》（The World's Happiest Country）。\n",
    "\n",
    "澳大利亚人梅丽莎·乔治奥（Melissa Georgiou）十多年前移居芬兰，在地球上最寒冷、最黑暗的地方之一寻求幸福。\n",
    "\n",
    "梅丽莎说：“在这里生活，我最喜欢的事情之一是，无论你是在住宅区还是在城市中间，都很容易接近大自然。”\n",
    "她原本是一名教师，12年前，她从悉尼的海滩换到了芬兰的黑暗冬天和冰冷湖泊，此后再也没有回头。\n",
    "梅丽莎说：“对芬兰人来说，幸福的概念与澳大利亚人的幸福概念非常不同。\n",
    "\n",
    "她说，芬兰人乐于接受将自己描绘成忧郁、矜持的形象——当地流行的一句话是：“拥有幸福的人必须把它隐藏起来。”\n",
    "\n",
    "“在这里，我注意到的第一件事是，你不会去参加晚宴或烧烤，也不会谈论房地产。没有人问你住在哪里，住在哪个郊区，你的孩子在哪里上学。” \n",
    "芬兰人似乎对现状相当满意，他们似乎并不总是想要更多。\n",
    "梅丽莎·乔治奥\n",
    "北欧的黑夜\n",
    "在联合国最新发布的《世界幸福报告》中，芬兰连续第六年被评为世界上最幸福的国家。\n",
    "\n",
    "幸福专家和研究员弗兰克·马特拉（Frank Martela）解释说：“北欧国家往往是有（良好）失业救济、养老金和其他福利的国家。”\n",
    "但弗兰克说，芬兰在排名中的位置往往让其本国人民感到惊讶。\n",
    "\n",
    "“芬兰人，他们几乎感到愤怒，因为他们觉得这不可能是真的。我们听的是悲伤的音乐，还有硬摇滚。”\n",
    "“因此，幸福并不是芬兰人自我形象的一部分。”\n",
    "\n",
    "芬兰人忧郁的另一面是对毅力的文化关注，弗兰克说这重新定义了芬兰人看待幸福的方式——一个被称为“sisu”的概念——这是芬兰文化的一部分，很难直译，但可理解为意志、决心、毅力和理性面对逆境。\n",
    "\n",
    "他说，这在芬兰人最喜欢的消遣方式中得到了最好的体现——在冰点以下的气温中泡完海澡后，在桑拿房里取暖。\n",
    "\n",
    "“这是关于这种矛盾——从一个极端到另一个极端，而这是相当有趣的体验......因为你需要毅力。”\n",
    "\n",
    "梅丽莎说，但芬兰有很多东西是伟大的，可以为这个国家的人提供幸福。\n",
    "芬兰是受新冠大流行影响最小的欧洲国家之一，专家们将此归功于对政府的高度信任和对遵循限制措施的较小阻力。\n",
    "\n",
    "而对政府的信任则源于国家对其公民的投资。\n",
    "\n",
    "公立学校系统很少对儿童进行测试，是世界上最好的学校之一。芬兰也有一个全民医疗保健系统，有民众负担得起的儿童保育和对父母的有力支持。\n",
    "\n",
    "梅丽莎说：“整个国家都在照顾孩子的成长，这个制度设置得非常好。因此，从生下我儿子到在家抚养他，再到送他去日托，再到上学，这一切的每个方面都得到了很好的支持。”\n",
    "芬兰VS中国 幸福感哪国最强？\n",
    "自《世界幸福报告》发布以来，北欧国家一直在前十名中占主导地位。在今年的报告中，芬兰及其邻国丹麦（第2名）、冰岛（第3名）、瑞典（第6名）和挪威（第7名）在幸福指标中的得分都很高，包括健康的预期寿命、人均GDP、低腐败程度、社会支持、自由、信任与慷慨等。\n",
    "\n",
    "其他位列前十的国家/地区包括，荷兰（第5名）、瑞士（第8名）、卢森堡（第9名）及新西兰（第10名）。\n",
    "\n",
    "澳大利亚在这份报告中排名第12名，紧随其后的是加拿大（第13名）、爱尔兰（第14名）、美国（第15名）。\n",
    "\n",
    "亚洲地区，新加坡排全球第25名，较去年上升两位，台湾较去年下跌一位到第27名，日本排名升至第47名，中国大陆排第64名，香港排名第82名。\n",
    "\n",
    " 与此同时，民调机构益普索集团（Ipsos）业发布了一份有关全球幸福指数的调查报告，结果显示，在32个国家中，幸福感指数最高的国家是中国（91%），其后是沙特阿拉伯（86%）、荷兰（85%）、印度（84%）、巴西（83%）。\n",
    "\n",
    "澳大利亚在这份报告中位列第9名。\n",
    "\n",
    "调查报告指出，平均而言，中等收入国家（按照世界银行定义）的幸福感，比高收入国家的幸福感增长得更明显。\n",
    "\"\"\""
   ]
  },
  {
   "cell_type": "markdown",
   "id": "5416ec60-7efc-4025-93a5-51fd1a42e1fe",
   "metadata": {
    "tags": []
   },
   "source": [
    "# Directory Arrangement"
   ]
  },
  {
   "cell_type": "code",
   "execution_count": 6,
   "id": "86c3f644",
   "metadata": {
    "tags": []
   },
   "outputs": [],
   "source": [
    "%%bash -s \"$AWS_SERVICE\"\n",
    "PWD=$(basename $(pwd))\n",
    "if [[ ${PWD}  != $1 ]] ; then\n",
    "    echo  \"make sure to be in ./${1} directory\"\n",
    "    exit -1\n",
    "fi"
   ]
  },
  {
   "cell_type": "code",
   "execution_count": 7,
   "id": "4070f802-e727-4f19-953f-52ceac4d7a4b",
   "metadata": {
    "tags": []
   },
   "outputs": [
    {
     "name": "stdout",
     "output_type": "stream",
     "text": [
      "/root/home/repository/git/sbs/tagging-poc/notebook/aws/comprehend/package\n"
     ]
    }
   ],
   "source": [
    "%rm -rf ./package && mkdir ./package \n",
    "%cd ./package\n",
    "PYTHON_DEPENDENCY_DIRECTORY=%pwd"
   ]
  },
  {
   "cell_type": "code",
   "execution_count": 8,
   "id": "6ffacd30-41e7-463a-86f5-5587ab678843",
   "metadata": {
    "tags": []
   },
   "outputs": [
    {
     "data": {
      "text/plain": [
       "'/root/home/repository/git/sbs/tagging-poc/notebook/aws/comprehend/package'"
      ]
     },
     "execution_count": 8,
     "metadata": {},
     "output_type": "execute_result"
    }
   ],
   "source": [
    "PYTHON_DEPENDENCY_DIRECTORY"
   ]
  },
  {
   "cell_type": "markdown",
   "id": "a5440e90-e511-4792-99a6-7699310f486b",
   "metadata": {
    "tags": []
   },
   "source": [
    "## PYTHONPATH\n",
    "\n",
    "Make sure to use the directory of the intended dpendencies packages."
   ]
  },
  {
   "cell_type": "code",
   "execution_count": 9,
   "id": "6a9a3e07-f29b-4611-970e-f8fa08e22786",
   "metadata": {
    "tags": []
   },
   "outputs": [
    {
     "name": "stdout",
     "output_type": "stream",
     "text": [
      "['/root/home/repository/git/sbs/tagging-poc/notebook/aws/comprehend/package', '/root/home/repository/git/sbs/tagging-poc/notebook/aws/comprehend', '/opt/conda/lib/python37.zip', '/opt/conda/lib/python3.7', '/opt/conda/lib/python3.7/lib-dynload', '', '/opt/conda/lib/python3.7/site-packages', '/opt/conda/lib/python3.7/site-packages/IPython/extensions', '/root/.ipython']\n"
     ]
    }
   ],
   "source": [
    "if PYTHON_DEPENDENCY_DIRECTORY != sys.path[0]:\n",
    "    sys.path.insert(0, PYTHON_DEPENDENCY_DIRECTORY)\n",
    "    print(sys.path)"
   ]
  },
  {
   "cell_type": "markdown",
   "id": "a2c2910a-0543-4879-b914-fa51a66af760",
   "metadata": {},
   "source": [
    "## Python dependencies \n",
    "\n",
    "Contain all the Python dependencies within the package directory and only use them to avoid Python dependency hell. The dependencies is also packaged into the lambda deployment package so that the same dependencies used at development will be used at Lambda rantime.\n"
   ]
  },
  {
   "cell_type": "code",
   "execution_count": 10,
   "id": "af4f9682-8881-4594-9728-c132d97aef56",
   "metadata": {
    "tags": []
   },
   "outputs": [
    {
     "name": "stdout",
     "output_type": "stream",
     "text": [
      "/root/home/repository/git/sbs/tagging-poc/notebook/aws/comprehend/package\n",
      "\u001b[31mERROR: pip's dependency resolver does not currently take into account all the packages that are installed. This behaviour is the source of the following dependency conflicts.\n",
      "pytest-astropy 0.8.0 requires pytest-cov>=2.0, which is not installed.\n",
      "pytest-astropy 0.8.0 requires pytest-filter-subpackage>=0.1, which is not installed.\n",
      "conda 22.9.0 requires ruamel_yaml_conda>=0.11.14, which is not installed.\n",
      "sagemaker 2.145.0 requires importlib-metadata<5.0,>=1.4.0, but you have importlib-metadata 6.3.0 which is incompatible.\n",
      "sagemaker 2.145.0 requires PyYAML==5.4.1, but you have pyyaml 6.0 which is incompatible.\n",
      "docker-compose 1.29.2 requires PyYAML<6,>=3.10, but you have pyyaml 6.0 which is incompatible.\n",
      "awscli 1.27.111 requires botocore==1.29.111, but you have botocore 1.29.126 which is incompatible.\n",
      "awscli 1.27.111 requires PyYAML<5.5,>=3.10, but you have pyyaml 6.0 which is incompatible.\n",
      "awscli 1.27.111 requires rsa<4.8,>=3.1.2, but you have rsa 4.9 which is incompatible.\n",
      "aiobotocore 2.4.2 requires botocore<1.27.60,>=1.27.59, but you have botocore 1.29.126 which is incompatible.\u001b[0m\u001b[31m\n",
      "\u001b[0m\u001b[33mWARNING: Running pip as the 'root' user can result in broken permissions and conflicting behaviour with the system package manager. It is recommended to use a virtual environment instead: https://pip.pypa.io/warnings/venv\u001b[0m\u001b[33m\n",
      "\u001b[0m\n",
      "\u001b[1m[\u001b[0m\u001b[34;49mnotice\u001b[0m\u001b[1;39;49m]\u001b[0m\u001b[39;49m A new release of pip is available: \u001b[0m\u001b[31;49m23.0.1\u001b[0m\u001b[39;49m -> \u001b[0m\u001b[32;49m23.1.2\u001b[0m\n",
      "\u001b[1m[\u001b[0m\u001b[34;49mnotice\u001b[0m\u001b[1;39;49m]\u001b[0m\u001b[39;49m To update, run: \u001b[0m\u001b[32;49mpip install --upgrade pip\u001b[0m\n"
     ]
    }
   ],
   "source": [
    "!echo $PYTHON_DEPENDENCY_DIRECTORY\n",
    "!pip install --target $PYTHON_DEPENDENCY_DIRECTORY botocore boto3 --quiet"
   ]
  },
  {
   "cell_type": "markdown",
   "id": "b2fd8168",
   "metadata": {},
   "source": [
    "---\n",
    "# Define Function\n"
   ]
  },
  {
   "cell_type": "markdown",
   "id": "0aa22f44",
   "metadata": {},
   "source": [
    "## Lambda Function Code\n",
    "\n",
    "Define your lambda function. As an example, the code execute AWS S3 SDK code to list the S3 buckets.\n",
    "\n",
    "* [Lambda function handler in Python](https://docs.aws.amazon.com/lambda/latest/dg/python-handler.html)\n",
    "* [Boto3 Error handling](https://boto3.amazonaws.com/v1/documentation/api/latest/guide/error-handling.html)\n"
   ]
  },
  {
   "cell_type": "code",
   "execution_count": 11,
   "id": "263e45c5",
   "metadata": {
    "tags": []
   },
   "outputs": [
    {
     "name": "stdout",
     "output_type": "stream",
     "text": [
      "Writing lambda_function.py\n"
     ]
    }
   ],
   "source": [
    "%%writefile lambda_function.py\n",
    "import os\n",
    "import re\n",
    "import sys\n",
    "import json\n",
    "import logging\n",
    "from typing import (\n",
    "    List,\n",
    "    Dict,\n",
    "    Any,\n",
    ")\n",
    "\n",
    "import botocore\n",
    "import boto3\n",
    "\n",
    "\n",
    "# --------------------------------------------------------------------------------\n",
    "# Constant\n",
    "# --------------------------------------------------------------------------------\n",
    "DEFAULT_LOG_LEVEL_NAME: str = \"ERROR\"\n",
    "SUPPORTED_LANGUAGES: List[str] = [  # As of 04MAY2023\n",
    "    \"de\", \n",
    "    \"en\", \n",
    "    \"es\", \n",
    "    \"it\", \n",
    "    \"pt\", \n",
    "    \"fr\", \n",
    "    \"ja\", \n",
    "    \"ko\", \n",
    "    \"hi\", \n",
    "    \"ar\", \n",
    "    \"zh\", \n",
    "    \"zh-TW\"\n",
    "]\n",
    "\n",
    "\n",
    "# --------------------------------------------------------------------------------\n",
    "# Utility\n",
    "# --------------------------------------------------------------------------------\n",
    "def is_valid_log_level_name(name: str) -> bool:\n",
    "    \"\"\"Check if the log level name is valid\n",
    "    Args:\n",
    "        name: log level name\n",
    "    Returns: bool\n",
    "    \"\"\"\n",
    "    return hasattr(logging, name)\n",
    "\n",
    "\n",
    "def get_log_level(name: str) -> int:\n",
    "    \"\"\"Get log level integer from log level name\n",
    "    Args:\n",
    "        name: log level name\n",
    "    Returns: logging level integer\n",
    "    \"\"\"\n",
    "    assert is_valid_log_level_name(name), f\"Invalid log level name {name}.\"\n",
    "    return getattr(logging, name)\n",
    "\n",
    "\n",
    "def get_log_level_from_environment_variable(\n",
    "        log_level_variable_name: str = \"LOG_LEVEL_NAME\"\n",
    ") -> int:\n",
    "    \"\"\"Get log level for the log level name specified in the environment variable\n",
    "    Returns: log level int or DEFAULT_LOG_LEVEL\n",
    "    \"\"\"\n",
    "    log_level_name: str = DEFAULT_LOG_LEVEL_NAME\n",
    "    if log_level_variable_name in os.environ:\n",
    "        if is_valid_log_level_name(log_level_variable_name):\n",
    "            log_level_name = os.environ[log_level_variable_name].upper()\n",
    "\n",
    "    return get_log_level(name=log_level_name)\n",
    "\n",
    "\n",
    "# --------------------------------------------------------------------------------\n",
    "# AWS service class\n",
    "# --------------------------------------------------------------------------------\n",
    "class ComprehendDetect:\n",
    "    \"\"\"Encapsulates Comprehend detection functions.\"\"\"\n",
    "    def __init__(self, comprehend_client):\n",
    "        \"\"\"\n",
    "        :param comprehend_client: A Boto3 Comprehend client.\n",
    "        \"\"\"\n",
    "        self.comprehend_client = comprehend_client\n",
    "\n",
    "\n",
    "    def detect_dominant_language(self, text):\n",
    "        \"\"\"\n",
    "        Detect dominant languages in the text.\n",
    "        Returns: Sorted list of {\n",
    "            'LanguageCode': str,\n",
    "            'Score': float\n",
    "        }\n",
    "        Raises: RuntimeError when API call fails\n",
    "        \"\"\"\n",
    "        try:\n",
    "            response = self.comprehend_client.detect_dominant_language(\n",
    "                Text=text\n",
    "            )\n",
    "            detections: List[Dict[str, Any]] = sorted(\n",
    "                response['Languages'], \n",
    "                key=lambda detection: detection['Score']\n",
    "            )\n",
    "            logger.debug(\"detected languages %s\", detections)\n",
    "            \n",
    "        except botocore.exceptions.ClientError as error:\n",
    "            msg: str = f\"Comprehend.detect_dominant_language() failed due to {error}\\n\" \\\n",
    "                       f\"text=[{text}].\"\n",
    "            logger.error(msg)\n",
    "            raise RuntimeError(msg) from error\n",
    "        else:\n",
    "            return detections\n",
    "            \n",
    "\n",
    "    def detect_entities(self, text, language_code):\n",
    "        \"\"\"\n",
    "        Detects entities in a document. Entities can be things like people and places\n",
    "        or other common terms.\n",
    "\n",
    "        :param text: The document to inspect.\n",
    "        :param language_code: The language of the document.\n",
    "        :return: The list of entities along with their confidence scores.\n",
    "        \"\"\"\n",
    "        try:\n",
    "            response = self.comprehend_client.detect_entities(\n",
    "                Text=text, LanguageCode=language_code\n",
    "            )\n",
    "            entities = response['Entities']\n",
    "            logger.info(\"Detected %s entities.\", len(entities))\n",
    "            \n",
    "        except botocore.exceptions.ClientError as error:\n",
    "            msg: str = f\"Comprehend.detect_entities() failed due to {error}\\n\" \\\n",
    "                       f\"text=[{text}]\\nlanguage_code=[{language_code}].\"\n",
    "            logger.error(msg)\n",
    "            raise RuntimeError(msg) from error\n",
    "        else:\n",
    "            return entities\n",
    "\n",
    "\n",
    "        \n",
    "# --------------------------------------------------------------------------------\n",
    "# Lambda utility\n",
    "# --------------------------------------------------------------------------------\n",
    "def get_palyload_from_event(event: dict):\n",
    "    \"\"\"Get escapted string payload from the event\n",
    "    Returns: (text, language_code, entity_type)\n",
    "    Raises: RuntimeError if expected elements are not in the event.\n",
    "    \"\"\"\n",
    "    # --------------------------------------------------------------------------------\n",
    "    # Validate 'text' element in event['body']\n",
    "    # --------------------------------------------------------------------------------\n",
    "    if not (isinstance(event, dict) and 'body' in event ):\n",
    "        msg: str = f\"'body' element does not exist in the event.\"\n",
    "        logger.error(\"%s event:\\n%s\", msg, event)\n",
    "        raise RuntimeError(\"invalid request payload\")\n",
    "\n",
    "    if not isinstance(event['body'], str):\n",
    "        msg: str = f\"expected event['body'] as escaped string, got {type(event['body'])}.\"\n",
    "        logger.error(\"%s event:\\n%s\", msg, event)\n",
    "        raise RuntimeError(msg)\n",
    "\n",
    "    try:\n",
    "        body = json.loads(event['body'])\n",
    "    except (JSONDecodeError, TypeError) as error:\n",
    "        msg: str = f\"JSON is required as the request payload, got [{body}]\"\n",
    "        logger.error(msg)\n",
    "        raise RuntimeError(msg) from error\n",
    "        \n",
    "    if not isinstance(body, dict):\n",
    "        msg: str = f\"Dictionary format is required as the request payload, got {type(body)}\"\n",
    "        logger.error(msg)\n",
    "        raise RuntimeError(msg)\n",
    "\n",
    "    if 'text' not in body:\n",
    "        msg: str = f\"require 'text' in the event.\"\n",
    "        logger.error(\"%s event:\\n%s\", msg, event)\n",
    "        raise RuntimeError(msg)\n",
    "\n",
    "    # if 'language_code' not in body:\n",
    "    #     msg: str = f\"require 'language_code' in the event.\"\n",
    "    #     logger.error(\"%s event:\\n%s\", msg, event)\n",
    "    #     raise RuntimeError(msg)\n",
    "\n",
    "    # --------------------------------------------------------------------------------\n",
    "    # Extract payload elements from JSON/Dictionary\n",
    "    # --------------------------------------------------------------------------------\n",
    "    text: str = re.sub(r'[\\s\\'\\\"\\n\\t\\\\]+', ' ', body['text'], flags=re.MULTILINE).strip()\n",
    "    language_code: str = body['language_code'] if 'language_code' in body else None\n",
    "    entity_type: str = body['entity_type'] if 'entity_type' in body else None\n",
    "\n",
    "    # --------------------------------------------------------------------------------\n",
    "    # Validate text\n",
    "    # --------------------------------------------------------------------------------\n",
    "    if not isinstance(text, str) or len(text) == 0:\n",
    "        msg: str = f\"expected valid 'text' element in the payload.\"\n",
    "        logger.error(\"%s got type:[%s] of value:[%s]\", msg, type(text), text)\n",
    "        raise RuntimeError(msg)\n",
    "    \n",
    "    return text, language_code, entity_type\n",
    "    \n",
    "\n",
    "def extract_entity_by_type(response: Dict, entity_type: str):\n",
    "    \"\"\"Extract entities of the entity type\n",
    "    If entity type is not specified, return response as is.\n",
    "    If entity type is specified, extract the matching entities and\n",
    "    return values as a list\n",
    "    \"\"\"\n",
    "    if entity_type is None or len(entity_type) == 0:\n",
    "        return response\n",
    "    \n",
    "    entities = dict()\n",
    "    for entity in response:\n",
    "        if entity['Type'].lower() == entity_type.lower():\n",
    "            # There will be multiple entities with the same text because\n",
    "            # the text can applear multiple locations in the document.\n",
    "            # When find the same text, take the higher score.\n",
    "            text: str = entity['Text'].lower()\n",
    "            if text not in entities or entities[text] < entity['Score']:\n",
    "                entities[text] = entity['Score']\n",
    "                \n",
    "    return sorted(entities, key=entities.get)\n",
    "\n",
    "\n",
    "# --------------------------------------------------------------------------------\n",
    "# Global instances to avoid re-instantiations\n",
    "# --------------------------------------------------------------------------------\n",
    "logger: logging.Logger = logging.getLogger(__name__)\n",
    "logger.setLevel(level=get_log_level_from_environment_variable())\n",
    "\n",
    "comprehend: ComprehendDetect = ComprehendDetect(\n",
    "    comprehend_client=boto3.client('comprehend')\n",
    ")\n",
    "\n",
    "\n",
    "# --------------------------------------------------------------------------------\n",
    "# Lambda handler\n",
    "# --------------------------------------------------------------------------------\n",
    "def lambda_handler(event, context):\n",
    "    \"\"\"Lambda function to invoke comprehend\"\"\"\n",
    "    # --------------------------------------------------------------------------------\n",
    "    # Extract payload elements from JSON/Dictionary\n",
    "    # --------------------------------------------------------------------------------\n",
    "    try:\n",
    "        text, language_code, entity_type = get_palyload_from_event(event=event)\n",
    "        \n",
    "    except RuntimeError as error:\n",
    "        return {\n",
    "            \"statusCode\": 400,\n",
    "            \"headers\": {\n",
    "                \"Content-Type\": \"application/json\"\n",
    "            },\n",
    "            \"body\": json.dumps(\n",
    "                {\n",
    "                    \"error\": str(error),\n",
    "                    \"event\": event\n",
    "                },\n",
    "                default=str\n",
    "            )\n",
    "        }\n",
    "            \n",
    "    # --------------------------------------------------------------------------------\n",
    "    # Entity detection\n",
    "    # --------------------------------------------------------------------------------\n",
    "    try:\n",
    "        # --------------------------------------------------------------------------------\n",
    "        # Language detection if not specified\n",
    "        # --------------------------------------------------------------------------------\n",
    "        if language_code is None:\n",
    "            languages: List[Dict[str, Any]] = comprehend.detect_dominant_language(text=text)\n",
    "            # Use the higest score language\n",
    "            language_code = languages[0]['LanguageCode']\n",
    "        \n",
    "        # --------------------------------------------------------------------------------\n",
    "        # Entity detection\n",
    "        # --------------------------------------------------------------------------------\n",
    "        if language_code not in SUPPORTED_LANGUAGES:\n",
    "            msg: str = f\"detected language_code [{language_code}] is not supported.\" \\\n",
    "                       f\"set language_code to one of {SUPPORTED_LANGUAGES}.\"\n",
    "            raise RuntimeError(msg)\n",
    "\n",
    "        response = comprehend.detect_entities(text=text, language_code=language_code)\n",
    "        results = extract_entity_by_type(response=response, entity_type=entity_type)\n",
    "        if len(results) == 0:\n",
    "            msg: str = f\"no entity detected in the text\"\n",
    "            msg = msg + (f\" for the entity_type [{entity_type}].\" if entity_type else \".\")\n",
    "            \n",
    "            logger.error(\"%s response:\\n%s\", msg, response)\n",
    "            return {\n",
    "                \"statusCode\": 400,\n",
    "                \"headers\": {\n",
    "                    \"Content-Type\": \"application/json\"\n",
    "                },\n",
    "                \"body\": json.dumps(\n",
    "                    {\n",
    "                        \"error\": msg,\n",
    "                        \"response\": response,\n",
    "                        \"event\": event\n",
    "                    },\n",
    "                    default=str\n",
    "                )\n",
    "            }\n",
    "\n",
    "        return {\n",
    "            \"statusCode\": 200,\n",
    "            \"headers\": {\n",
    "                \"Content-Type\": \"application/json\"\n",
    "            },\n",
    "            \"body\": json.dumps(results, sort_keys=True, default=str)\n",
    "        }\n",
    "\n",
    "    except (botocore.exceptions.ClientError, RuntimeError) as error:\n",
    "        return {\n",
    "            \"statusCode\": 500,\n",
    "            \"headers\": {\n",
    "                \"Content-Type\": \"application/json\"\n",
    "            },\n",
    "            \"body\": json.dumps({\"error\": error}, sort_keys=True, default=str)\n",
    "        }\n",
    "\n",
    "        \n",
    "if __name__ == \"__main__\":\n",
    "    with open(\"example.txt\", \"r\", encoding='utf-8') as example_text:\n",
    "        example: str = example_text.read()\n",
    "\n",
    "    body: dict = {\n",
    "        \"text\": example,\n",
    "        # \"language_code\": \"zh\",\n",
    "        \"entity_type\": \"location\"\n",
    "    }\n",
    "        \n",
    "    body_as_escaped_string: str = json.dumps(\n",
    "        body, \n",
    "        default=str, \n",
    "        ensure_ascii=True    # ASCII is 100% network safe.\n",
    "    )\n",
    "    event = {\n",
    "        \"body\": body_as_escaped_string\n",
    "    }\n",
    "    \n",
    "    # --------------------------------------------------------------------------------\n",
    "    # Test the lambda handler\n",
    "    # --------------------------------------------------------------------------------\n",
    "    response: dict = lambda_handler(\n",
    "        event=event,\n",
    "        context=None\n",
    "    )\n",
    "    \n",
    "    # --------------------------------------------------------------------------------\n",
    "    # Restore the JSON/Dictionary from the body as escaped string.\n",
    "    # --------------------------------------------------------------------------------\n",
    "    response_body_as_dictionary = json.loads(response['body'])\n",
    "    print(json.dumps(response_body_as_dictionary, indent=4, default=str, ensure_ascii=False))"
   ]
  },
  {
   "cell_type": "markdown",
   "id": "c85f7686-3ad7-4164-b132-6f5f9979d185",
   "metadata": {},
   "source": [
    "###  Test the Code"
   ]
  },
  {
   "cell_type": "code",
   "execution_count": 12,
   "id": "4a7d14ec-c3b7-4ebd-86e9-ad855ee005e4",
   "metadata": {
    "tags": []
   },
   "outputs": [
    {
     "name": "stdout",
     "output_type": "stream",
     "text": [
      "Writing 'example' (str) to file 'example.txt'.\n"
     ]
    }
   ],
   "source": [
    "%store example >example.txt"
   ]
  },
  {
   "cell_type": "code",
   "execution_count": 13,
   "id": "e0c2a491-21a8-4024-931b-a4c04861b8bf",
   "metadata": {
    "tags": []
   },
   "outputs": [
    {
     "name": "stdout",
     "output_type": "stream",
     "text": [
      "[\n",
      "    \"日本\",\n",
      "    \"爱尔兰\",\n",
      "    \"加拿大\",\n",
      "    \"美国\",\n",
      "    \"荷兰\",\n",
      "    \"欧洲\",\n",
      "    \"瑞士\",\n",
      "    \"香港\",\n",
      "    \"新西兰\",\n",
      "    \"新加坡\",\n",
      "    \"中国大陆\",\n",
      "    \"亚洲地区\",\n",
      "    \"卢森堡\",\n",
      "    \"全球\",\n",
      "    \"日托\",\n",
      "    \"地球上\",\n",
      "    \"芬兰\",\n",
      "    \"悉尼\"\n",
      "]\n"
     ]
    }
   ],
   "source": [
    "!python ./lambda_function.py"
   ]
  },
  {
   "cell_type": "markdown",
   "id": "ad3ac174",
   "metadata": {},
   "source": [
    "---\n",
    "# Package\n",
    "\n",
    "* [Deployment package with dependencies](https://docs.aws.amazon.com/lambda/latest/dg/python-package.html#python-package-create-package-with-dependency)\n"
   ]
  },
  {
   "cell_type": "markdown",
   "id": "0e5ef03a-a4e7-4d69-b698-ef6cef214498",
   "metadata": {},
   "source": [
    "## Dependency Libraries\n",
    "\n",
    "Package the exact Python library versions you have used for development. Do not rely on the libraries installed in the AWS Lambda runtime to avoid Python package dependency hell."
   ]
  },
  {
   "cell_type": "markdown",
   "id": "5e604fe1-bb61-41f1-963b-763bdec48027",
   "metadata": {},
   "source": [
    "## Zip File\n",
    "\n",
    "Package the source code file and libraries into a zip file.\n",
    "\n",
    "\n",
    "* [How do I troubleshoot \"permission denied\" or \"unable to import module\" errors when uploading a Lambda deployment package?](https://repost.aws/knowledge-center/lambda-deployment-package-errors)\n",
    "\n",
    "> The correct permissions for all executable files within a Lambda deployment package is **644** in Unix permissions numeric notation. For folders within a deployment package, the correct permissions setting is **755**.\n",
    "> ```\n",
    "> $ chmod 644 $(find /tmp/package_contents -type f)\n",
    "> $ chmod 755 $(find /tmp/package_contents -type d)\n",
    "> $ zip -r new-lambda-package.zip *\n",
    "> ```"
   ]
  },
  {
   "cell_type": "code",
   "execution_count": 14,
   "id": "3f9d1bcf",
   "metadata": {},
   "outputs": [],
   "source": [
    "!chmod -R u=rwX,go=rX .\n",
    "!rm -rf ../lambda-deployment-package.zip\n",
    "!zip -q -r ../lambda-deployment-package.zip ."
   ]
  },
  {
   "cell_type": "code",
   "execution_count": 15,
   "id": "b7f346a7-25c9-4988-8229-e0eeb038d58d",
   "metadata": {
    "tags": []
   },
   "outputs": [
    {
     "name": "stdout",
     "output_type": "stream",
     "text": [
      "/root/home/repository/git/sbs/tagging-poc/notebook/aws/comprehend\n"
     ]
    },
    {
     "data": {
      "text/plain": [
       "'/root/home/repository/git/sbs/tagging-poc/notebook/aws/comprehend'"
      ]
     },
     "execution_count": 15,
     "metadata": {},
     "output_type": "execute_result"
    }
   ],
   "source": [
    "%cd ..\n",
    "%pwd"
   ]
  },
  {
   "cell_type": "code",
   "execution_count": 16,
   "id": "168c8960-db1a-40ab-9225-26969dc59dfb",
   "metadata": {
    "tags": []
   },
   "outputs": [],
   "source": [
    "%%bash -s \"$AWS_SERVICE\"\n",
    "PWD=$(basename $(pwd))\n",
    "if [[ ${PWD}  != $1 ]] ; then\n",
    "    echo  \"make sure to be in ./${1} directory\"\n",
    "    exit -1\n",
    "fi"
   ]
  },
  {
   "cell_type": "markdown",
   "id": "e971be12-03ed-470d-b749-d7ad39774c55",
   "metadata": {},
   "source": [
    "---\n",
    "# Deploy Function\n",
    "\n",
    "Deploy the package using AWS CLI.\n",
    "\n",
    "* [AWS CLI lambda - create-function](https://docs.aws.amazon.com/cli/latest/reference/lambda/create-function.html)\n",
    "* [Using Lambda with the AWS CLI](https://docs.aws.amazon.com/lambda/latest/dg/gettingstarted-awscli.html)\n",
    "\n",
    "> ### Create the execution role\n",
    "> Create the execution role that gives your function permission to access AWS resources. \n",
    "> ```\n",
    "> aws iam create-role --role-name lambda-ex --assume-role-policy-document file://trust-policy.json\n",
    "> aws iam attach-role-policy --role-name lambda-ex --policy-arn arn:aws:iam::aws:policy/service-role/AWSLambdaBasicExecutionRole\n",
    "> ```\n",
    "> **trust-policy-json**:\n",
    "> ```\n",
    "> {\n",
    ">   \"Version\": \"2012-10-17\",\n",
    ">   \"Statement\": [\n",
    ">     {\n",
    ">       \"Effect\": \"Allow\",\n",
    ">       \"Principal\": {\n",
    ">         \"Service\": \"lambda.amazonaws.com\"\n",
    ">       },\n",
    ">       \"Action\": \"sts:AssumeRole\"\n",
    ">     }\n",
    ">   ]\n",
    "> }'\n",
    "> ```\n",
    "\n"
   ]
  },
  {
   "cell_type": "markdown",
   "id": "b2bff4fa-d453-43dd-956b-d9214f7fe3f7",
   "metadata": {},
   "source": [
    "We need to ask the AWS team to run the code to deploy the function with AWS CLI create-function because we do not have the permission."
   ]
  },
  {
   "cell_type": "raw",
   "id": "2f7092a7-ada2-449e-8222-0f0c89e5d861",
   "metadata": {
    "tags": []
   },
   "source": [
    "%%bash -s \"$LAMBDA_FUNCTION_NAME\"\n",
    "aws lambda create-function \\\n",
    "    --function-name $1 \\\n",
    "    --zip-file fileb://lambda-deployment-package.zip \\\n",
    "    --handler lambda_function.lambda_handler \\\n",
    "    --runtime python3.9 \\\n",
    "   --role arn:aws:iam::755863699032:role/tagging-poc-lambda-for-sagemaker"
   ]
  },
  {
   "cell_type": "markdown",
   "id": "c0ce6379-c039-4cbe-a9fa-491c2af0e257",
   "metadata": {},
   "source": [
    "Once the Lambda function was created, run the update as below."
   ]
  },
  {
   "cell_type": "code",
   "execution_count": 17,
   "id": "80cdb542-16de-4d04-9dc3-67e11f319dcf",
   "metadata": {
    "tags": []
   },
   "outputs": [
    {
     "name": "stdout",
     "output_type": "stream",
     "text": [
      "{\n",
      "    \"FunctionName\": \"tagging-poc-dev-comprehend\",\n",
      "    \"FunctionArn\": \"arn:aws:lambda:ap-southeast-2:755863699032:function:tagging-poc-dev-comprehend\",\n",
      "    \"Runtime\": \"python3.9\",\n",
      "    \"Role\": \"arn:aws:iam::755863699032:role/service-role/tagging-poc-lambda-for-sagemaker-role-0t1rnggf\",\n",
      "    \"Handler\": \"lambda_function.lambda_handler\",\n",
      "    \"CodeSize\": 12439467,\n",
      "    \"Description\": \"\",\n",
      "    \"Timeout\": 60,\n",
      "    \"MemorySize\": 128,\n",
      "    \"LastModified\": \"2023-05-04T07:29:20.000+0000\",\n",
      "    \"CodeSha256\": \"vAmZp2kcvhF5nGWNYvZ0OD+GaFBUUGlif/7Xw3bdKjU=\",\n",
      "    \"Version\": \"$LATEST\",\n",
      "    \"TracingConfig\": {\n",
      "        \"Mode\": \"PassThrough\"\n",
      "    },\n",
      "    \"RevisionId\": \"31c77b51-8c53-486c-aa36-7dd9c9d5bb7b\",\n",
      "    \"State\": \"Active\",\n",
      "    \"LastUpdateStatus\": \"InProgress\",\n",
      "    \"LastUpdateStatusReason\": \"The function is being created.\",\n",
      "    \"LastUpdateStatusReasonCode\": \"Creating\",\n",
      "    \"PackageType\": \"Zip\",\n",
      "    \"Architectures\": [\n",
      "        \"x86_64\"\n",
      "    ],\n",
      "    \"EphemeralStorage\": {\n",
      "        \"Size\": 512\n",
      "    },\n",
      "    \"SnapStart\": {\n",
      "        \"ApplyOn\": \"None\",\n",
      "        \"OptimizationStatus\": \"Off\"\n",
      "    },\n",
      "    \"RuntimeVersionConfig\": {\n",
      "        \"RuntimeVersionArn\": \"arn:aws:lambda:ap-southeast-2::runtime:e73d5f60c4282fb09ce24a6d3fe8997789616f3a53b903f4ed7c9132a58045f6\"\n",
      "    }\n",
      "}\n"
     ]
    }
   ],
   "source": [
    "%%bash -s \"$LAMBDA_FUNCTION_NAME\"\n",
    "aws lambda update-function-code \\\n",
    "    --function-name $1 \\\n",
    "    --zip-file fileb://lambda-deployment-package.zip"
   ]
  },
  {
   "cell_type": "markdown",
   "id": "262d4855-3e4d-4292-971a-a0c1d0bbe7e7",
   "metadata": {},
   "source": [
    "Wait for a while for the lambda function update to be done. otherwise you can get the error:\n",
    "\n",
    "```\n",
    "{\n",
    "    \"StatusCode\": 200,\n",
    "    \"FunctionError\": \"Unhandled\",\n",
    "    \"ExecutedVersion\": \"$LATEST\"\n",
    "}\n",
    "```\n",
    "when invoking the function."
   ]
  },
  {
   "cell_type": "code",
   "execution_count": 18,
   "id": "80614c47-1ff2-47bc-805b-925d78282fb4",
   "metadata": {},
   "outputs": [],
   "source": [
    "time.sleep(5)"
   ]
  },
  {
   "cell_type": "markdown",
   "id": "ecb00f5a-c9d9-4ea7-afc1-382bf367a21e",
   "metadata": {},
   "source": [
    "# Invoke Function\n",
    "\n",
    "You can invoke the function via UI, CLI, SDK, or from AWS service. Under the hood, a Lambda function is invoked via the AWS HTTPS API call.\n",
    "\n",
    "* [AWS API Lambda - Invoke](https://docs.aws.amazon.com/lambda/latest/dg/API_Invoke.html)\n",
    "\n",
    "```\n",
    "POST /2015-03-31/functions/FunctionName/invocations?Qualifier=Qualifier HTTP/1.1\n",
    "X-Amz-Invocation-Type: InvocationType\n",
    "X-Amz-Log-Type: LogType\n",
    "X-Amz-Client-Context: ClientContext\n",
    "\n",
    "Payload\n",
    "```\n",
    "\n",
    "### Request Body\n",
    "\n",
    "```payload``` HTTP request body is a JSON document passed to the function as ```event``` argument.\n",
    "\n",
    "### Response\n",
    "\n",
    "```\n",
    "HTTP/1.1 StatusCode\n",
    "X-Amz-Function-Error: FunctionError\n",
    "X-Amz-Log-Result: LogResult\n",
    "X-Amz-Executed-Version: ExecutedVersion\n",
    "\n",
    "Payload\n",
    "```\n",
    "\n",
    "Lambda function can set the status, headers, and response body in the HTTP response.\n",
    "\n",
    "```\n",
    "import json\n",
    "        \n",
    "def lambda_handler(event, context):\n",
    "    return {\n",
    "        \"statusCode\": 200,\n",
    "        \"headers\": {\n",
    "            \"Content-Type\": \"application/json\"\n",
    "        },\n",
    "        \"body\": json.dumps({\n",
    "            \"key\": \"value\"\n",
    "        })\n",
    "    }\n",
    "```\n"
   ]
  },
  {
   "cell_type": "markdown",
   "id": "8f96cb25-244c-43a2-b25c-6a1da15494ef",
   "metadata": {},
   "source": [
    "## Invoke via CLI\n",
    "\n",
    "Use AWS CLI to invoke the deployed function.\n",
    "\n",
    "* [AWS CLI lambda - invoke](https://docs.aws.amazon.com/cli/latest/reference/lambda/invoke.html)"
   ]
  },
  {
   "cell_type": "code",
   "execution_count": 22,
   "id": "b0eca438-fb64-4c5f-ba40-a44065702e58",
   "metadata": {
    "tags": []
   },
   "outputs": [],
   "source": [
    "with open(\"./package/example.txt\", \"r\", encoding='utf-8') as example_text:\n",
    "    text: str = example_text.read()\n",
    "\n",
    "body: dict = {\n",
    "    \"text\": text,\n",
    "    # \"language_code\": \"ru\",\n",
    "    \"entity_type\": \"location\"\n",
    "}\n",
    "\n",
    "body_as_escaped_string: str = json.dumps(\n",
    "    body, \n",
    "    default=str, \n",
    "    ensure_ascii=True    # ASCII is 100% network safe.\n",
    ")\n",
    "payload = {\n",
    "    \"body\": body_as_escaped_string\n",
    "}\n",
    "\n",
    "with open(\"payload.json\", \"w\", encoding='utf-8') as payload_json:\n",
    "    payload_json.write(json.dumps(payload, indent=4, default=str))"
   ]
  },
  {
   "cell_type": "code",
   "execution_count": 23,
   "id": "a9981239-4f56-4470-8109-62a738269da2",
   "metadata": {
    "tags": []
   },
   "outputs": [
    {
     "name": "stdout",
     "output_type": "stream",
     "text": [
      "{\n",
      "    \"StatusCode\": 200,\n",
      "    \"ExecutedVersion\": \"$LATEST\"\n",
      "}\n"
     ]
    }
   ],
   "source": [
    "%%bash -s \"$LAMBDA_FUNCTION_NAME\"\n",
    "aws lambda invoke \\\n",
    "    --function-name $1 \\\n",
    "    --payload file://payload.json \\\n",
    "    response.json"
   ]
  },
  {
   "cell_type": "code",
   "execution_count": 25,
   "id": "a0ff1789-70ce-48f4-80c0-424285abd424",
   "metadata": {
    "tags": []
   },
   "outputs": [
    {
     "name": "stdout",
     "output_type": "stream",
     "text": [
      "['日本', '爱尔兰', '加拿大', '美国', '荷兰', '欧洲', '瑞士', '香港', '新西兰', '新加坡', '中国大陆', '亚洲地区', '卢森堡', '全球', '日托', '地球上', '芬兰', '悉尼']\n",
      "set()\n"
     ]
    }
   ],
   "source": [
    "with open(file=\"response.json\", mode=\"r\", encoding=\"utf-8\") as f:\n",
    "    content: dict = json.loads(f.read())\n",
    "    body = json.loads(content['body'])\n",
    "    \n",
    "    results = set()\n",
    "    print(body)\n",
    "    \n",
    "    if isinstance(body, dict):\n",
    "        for entity in body:\n",
    "            if entity['Type'] == \"LOCATION\":\n",
    "                results.add(entity['Text'])\n",
    "\n",
    "    print(results)"
   ]
  },
  {
   "cell_type": "markdown",
   "id": "c86d47bc-eb26-445e-a92e-52c5f34f185d",
   "metadata": {},
   "source": [
    "# Clearnup"
   ]
  },
  {
   "cell_type": "code",
   "execution_count": 26,
   "id": "211afa34-0308-4235-8926-34fc7ed61f9b",
   "metadata": {
    "tags": []
   },
   "outputs": [],
   "source": [
    "!rm -rf lambda-deployment-package.zip payload.json response.json "
   ]
  },
  {
   "cell_type": "code",
   "execution_count": null,
   "id": "51e95ec2-7bd0-4de2-b2e8-470e9b9b6fbd",
   "metadata": {},
   "outputs": [],
   "source": []
  }
 ],
 "metadata": {
  "availableInstances": [
   {
    "_defaultOrder": 0,
    "_isFastLaunch": true,
    "category": "General purpose",
    "gpuNum": 0,
    "hideHardwareSpecs": false,
    "memoryGiB": 4,
    "name": "ml.t3.medium",
    "vcpuNum": 2
   },
   {
    "_defaultOrder": 1,
    "_isFastLaunch": false,
    "category": "General purpose",
    "gpuNum": 0,
    "hideHardwareSpecs": false,
    "memoryGiB": 8,
    "name": "ml.t3.large",
    "vcpuNum": 2
   },
   {
    "_defaultOrder": 2,
    "_isFastLaunch": false,
    "category": "General purpose",
    "gpuNum": 0,
    "hideHardwareSpecs": false,
    "memoryGiB": 16,
    "name": "ml.t3.xlarge",
    "vcpuNum": 4
   },
   {
    "_defaultOrder": 3,
    "_isFastLaunch": false,
    "category": "General purpose",
    "gpuNum": 0,
    "hideHardwareSpecs": false,
    "memoryGiB": 32,
    "name": "ml.t3.2xlarge",
    "vcpuNum": 8
   },
   {
    "_defaultOrder": 4,
    "_isFastLaunch": true,
    "category": "General purpose",
    "gpuNum": 0,
    "hideHardwareSpecs": false,
    "memoryGiB": 8,
    "name": "ml.m5.large",
    "vcpuNum": 2
   },
   {
    "_defaultOrder": 5,
    "_isFastLaunch": false,
    "category": "General purpose",
    "gpuNum": 0,
    "hideHardwareSpecs": false,
    "memoryGiB": 16,
    "name": "ml.m5.xlarge",
    "vcpuNum": 4
   },
   {
    "_defaultOrder": 6,
    "_isFastLaunch": false,
    "category": "General purpose",
    "gpuNum": 0,
    "hideHardwareSpecs": false,
    "memoryGiB": 32,
    "name": "ml.m5.2xlarge",
    "vcpuNum": 8
   },
   {
    "_defaultOrder": 7,
    "_isFastLaunch": false,
    "category": "General purpose",
    "gpuNum": 0,
    "hideHardwareSpecs": false,
    "memoryGiB": 64,
    "name": "ml.m5.4xlarge",
    "vcpuNum": 16
   },
   {
    "_defaultOrder": 8,
    "_isFastLaunch": false,
    "category": "General purpose",
    "gpuNum": 0,
    "hideHardwareSpecs": false,
    "memoryGiB": 128,
    "name": "ml.m5.8xlarge",
    "vcpuNum": 32
   },
   {
    "_defaultOrder": 9,
    "_isFastLaunch": false,
    "category": "General purpose",
    "gpuNum": 0,
    "hideHardwareSpecs": false,
    "memoryGiB": 192,
    "name": "ml.m5.12xlarge",
    "vcpuNum": 48
   },
   {
    "_defaultOrder": 10,
    "_isFastLaunch": false,
    "category": "General purpose",
    "gpuNum": 0,
    "hideHardwareSpecs": false,
    "memoryGiB": 256,
    "name": "ml.m5.16xlarge",
    "vcpuNum": 64
   },
   {
    "_defaultOrder": 11,
    "_isFastLaunch": false,
    "category": "General purpose",
    "gpuNum": 0,
    "hideHardwareSpecs": false,
    "memoryGiB": 384,
    "name": "ml.m5.24xlarge",
    "vcpuNum": 96
   },
   {
    "_defaultOrder": 12,
    "_isFastLaunch": false,
    "category": "General purpose",
    "gpuNum": 0,
    "hideHardwareSpecs": false,
    "memoryGiB": 8,
    "name": "ml.m5d.large",
    "vcpuNum": 2
   },
   {
    "_defaultOrder": 13,
    "_isFastLaunch": false,
    "category": "General purpose",
    "gpuNum": 0,
    "hideHardwareSpecs": false,
    "memoryGiB": 16,
    "name": "ml.m5d.xlarge",
    "vcpuNum": 4
   },
   {
    "_defaultOrder": 14,
    "_isFastLaunch": false,
    "category": "General purpose",
    "gpuNum": 0,
    "hideHardwareSpecs": false,
    "memoryGiB": 32,
    "name": "ml.m5d.2xlarge",
    "vcpuNum": 8
   },
   {
    "_defaultOrder": 15,
    "_isFastLaunch": false,
    "category": "General purpose",
    "gpuNum": 0,
    "hideHardwareSpecs": false,
    "memoryGiB": 64,
    "name": "ml.m5d.4xlarge",
    "vcpuNum": 16
   },
   {
    "_defaultOrder": 16,
    "_isFastLaunch": false,
    "category": "General purpose",
    "gpuNum": 0,
    "hideHardwareSpecs": false,
    "memoryGiB": 128,
    "name": "ml.m5d.8xlarge",
    "vcpuNum": 32
   },
   {
    "_defaultOrder": 17,
    "_isFastLaunch": false,
    "category": "General purpose",
    "gpuNum": 0,
    "hideHardwareSpecs": false,
    "memoryGiB": 192,
    "name": "ml.m5d.12xlarge",
    "vcpuNum": 48
   },
   {
    "_defaultOrder": 18,
    "_isFastLaunch": false,
    "category": "General purpose",
    "gpuNum": 0,
    "hideHardwareSpecs": false,
    "memoryGiB": 256,
    "name": "ml.m5d.16xlarge",
    "vcpuNum": 64
   },
   {
    "_defaultOrder": 19,
    "_isFastLaunch": false,
    "category": "General purpose",
    "gpuNum": 0,
    "hideHardwareSpecs": false,
    "memoryGiB": 384,
    "name": "ml.m5d.24xlarge",
    "vcpuNum": 96
   },
   {
    "_defaultOrder": 20,
    "_isFastLaunch": false,
    "category": "General purpose",
    "gpuNum": 0,
    "hideHardwareSpecs": true,
    "memoryGiB": 0,
    "name": "ml.geospatial.interactive",
    "supportedImageNames": [
     "sagemaker-geospatial-v1-0"
    ],
    "vcpuNum": 0
   },
   {
    "_defaultOrder": 21,
    "_isFastLaunch": true,
    "category": "Compute optimized",
    "gpuNum": 0,
    "hideHardwareSpecs": false,
    "memoryGiB": 4,
    "name": "ml.c5.large",
    "vcpuNum": 2
   },
   {
    "_defaultOrder": 22,
    "_isFastLaunch": false,
    "category": "Compute optimized",
    "gpuNum": 0,
    "hideHardwareSpecs": false,
    "memoryGiB": 8,
    "name": "ml.c5.xlarge",
    "vcpuNum": 4
   },
   {
    "_defaultOrder": 23,
    "_isFastLaunch": false,
    "category": "Compute optimized",
    "gpuNum": 0,
    "hideHardwareSpecs": false,
    "memoryGiB": 16,
    "name": "ml.c5.2xlarge",
    "vcpuNum": 8
   },
   {
    "_defaultOrder": 24,
    "_isFastLaunch": false,
    "category": "Compute optimized",
    "gpuNum": 0,
    "hideHardwareSpecs": false,
    "memoryGiB": 32,
    "name": "ml.c5.4xlarge",
    "vcpuNum": 16
   },
   {
    "_defaultOrder": 25,
    "_isFastLaunch": false,
    "category": "Compute optimized",
    "gpuNum": 0,
    "hideHardwareSpecs": false,
    "memoryGiB": 72,
    "name": "ml.c5.9xlarge",
    "vcpuNum": 36
   },
   {
    "_defaultOrder": 26,
    "_isFastLaunch": false,
    "category": "Compute optimized",
    "gpuNum": 0,
    "hideHardwareSpecs": false,
    "memoryGiB": 96,
    "name": "ml.c5.12xlarge",
    "vcpuNum": 48
   },
   {
    "_defaultOrder": 27,
    "_isFastLaunch": false,
    "category": "Compute optimized",
    "gpuNum": 0,
    "hideHardwareSpecs": false,
    "memoryGiB": 144,
    "name": "ml.c5.18xlarge",
    "vcpuNum": 72
   },
   {
    "_defaultOrder": 28,
    "_isFastLaunch": false,
    "category": "Compute optimized",
    "gpuNum": 0,
    "hideHardwareSpecs": false,
    "memoryGiB": 192,
    "name": "ml.c5.24xlarge",
    "vcpuNum": 96
   },
   {
    "_defaultOrder": 29,
    "_isFastLaunch": true,
    "category": "Accelerated computing",
    "gpuNum": 1,
    "hideHardwareSpecs": false,
    "memoryGiB": 16,
    "name": "ml.g4dn.xlarge",
    "vcpuNum": 4
   },
   {
    "_defaultOrder": 30,
    "_isFastLaunch": false,
    "category": "Accelerated computing",
    "gpuNum": 1,
    "hideHardwareSpecs": false,
    "memoryGiB": 32,
    "name": "ml.g4dn.2xlarge",
    "vcpuNum": 8
   },
   {
    "_defaultOrder": 31,
    "_isFastLaunch": false,
    "category": "Accelerated computing",
    "gpuNum": 1,
    "hideHardwareSpecs": false,
    "memoryGiB": 64,
    "name": "ml.g4dn.4xlarge",
    "vcpuNum": 16
   },
   {
    "_defaultOrder": 32,
    "_isFastLaunch": false,
    "category": "Accelerated computing",
    "gpuNum": 1,
    "hideHardwareSpecs": false,
    "memoryGiB": 128,
    "name": "ml.g4dn.8xlarge",
    "vcpuNum": 32
   },
   {
    "_defaultOrder": 33,
    "_isFastLaunch": false,
    "category": "Accelerated computing",
    "gpuNum": 4,
    "hideHardwareSpecs": false,
    "memoryGiB": 192,
    "name": "ml.g4dn.12xlarge",
    "vcpuNum": 48
   },
   {
    "_defaultOrder": 34,
    "_isFastLaunch": false,
    "category": "Accelerated computing",
    "gpuNum": 1,
    "hideHardwareSpecs": false,
    "memoryGiB": 256,
    "name": "ml.g4dn.16xlarge",
    "vcpuNum": 64
   },
   {
    "_defaultOrder": 35,
    "_isFastLaunch": false,
    "category": "Accelerated computing",
    "gpuNum": 1,
    "hideHardwareSpecs": false,
    "memoryGiB": 61,
    "name": "ml.p3.2xlarge",
    "vcpuNum": 8
   },
   {
    "_defaultOrder": 36,
    "_isFastLaunch": false,
    "category": "Accelerated computing",
    "gpuNum": 4,
    "hideHardwareSpecs": false,
    "memoryGiB": 244,
    "name": "ml.p3.8xlarge",
    "vcpuNum": 32
   },
   {
    "_defaultOrder": 37,
    "_isFastLaunch": false,
    "category": "Accelerated computing",
    "gpuNum": 8,
    "hideHardwareSpecs": false,
    "memoryGiB": 488,
    "name": "ml.p3.16xlarge",
    "vcpuNum": 64
   },
   {
    "_defaultOrder": 38,
    "_isFastLaunch": false,
    "category": "Accelerated computing",
    "gpuNum": 8,
    "hideHardwareSpecs": false,
    "memoryGiB": 768,
    "name": "ml.p3dn.24xlarge",
    "vcpuNum": 96
   },
   {
    "_defaultOrder": 39,
    "_isFastLaunch": false,
    "category": "Memory Optimized",
    "gpuNum": 0,
    "hideHardwareSpecs": false,
    "memoryGiB": 16,
    "name": "ml.r5.large",
    "vcpuNum": 2
   },
   {
    "_defaultOrder": 40,
    "_isFastLaunch": false,
    "category": "Memory Optimized",
    "gpuNum": 0,
    "hideHardwareSpecs": false,
    "memoryGiB": 32,
    "name": "ml.r5.xlarge",
    "vcpuNum": 4
   },
   {
    "_defaultOrder": 41,
    "_isFastLaunch": false,
    "category": "Memory Optimized",
    "gpuNum": 0,
    "hideHardwareSpecs": false,
    "memoryGiB": 64,
    "name": "ml.r5.2xlarge",
    "vcpuNum": 8
   },
   {
    "_defaultOrder": 42,
    "_isFastLaunch": false,
    "category": "Memory Optimized",
    "gpuNum": 0,
    "hideHardwareSpecs": false,
    "memoryGiB": 128,
    "name": "ml.r5.4xlarge",
    "vcpuNum": 16
   },
   {
    "_defaultOrder": 43,
    "_isFastLaunch": false,
    "category": "Memory Optimized",
    "gpuNum": 0,
    "hideHardwareSpecs": false,
    "memoryGiB": 256,
    "name": "ml.r5.8xlarge",
    "vcpuNum": 32
   },
   {
    "_defaultOrder": 44,
    "_isFastLaunch": false,
    "category": "Memory Optimized",
    "gpuNum": 0,
    "hideHardwareSpecs": false,
    "memoryGiB": 384,
    "name": "ml.r5.12xlarge",
    "vcpuNum": 48
   },
   {
    "_defaultOrder": 45,
    "_isFastLaunch": false,
    "category": "Memory Optimized",
    "gpuNum": 0,
    "hideHardwareSpecs": false,
    "memoryGiB": 512,
    "name": "ml.r5.16xlarge",
    "vcpuNum": 64
   },
   {
    "_defaultOrder": 46,
    "_isFastLaunch": false,
    "category": "Memory Optimized",
    "gpuNum": 0,
    "hideHardwareSpecs": false,
    "memoryGiB": 768,
    "name": "ml.r5.24xlarge",
    "vcpuNum": 96
   },
   {
    "_defaultOrder": 47,
    "_isFastLaunch": false,
    "category": "Accelerated computing",
    "gpuNum": 1,
    "hideHardwareSpecs": false,
    "memoryGiB": 16,
    "name": "ml.g5.xlarge",
    "vcpuNum": 4
   },
   {
    "_defaultOrder": 48,
    "_isFastLaunch": false,
    "category": "Accelerated computing",
    "gpuNum": 1,
    "hideHardwareSpecs": false,
    "memoryGiB": 32,
    "name": "ml.g5.2xlarge",
    "vcpuNum": 8
   },
   {
    "_defaultOrder": 49,
    "_isFastLaunch": false,
    "category": "Accelerated computing",
    "gpuNum": 1,
    "hideHardwareSpecs": false,
    "memoryGiB": 64,
    "name": "ml.g5.4xlarge",
    "vcpuNum": 16
   },
   {
    "_defaultOrder": 50,
    "_isFastLaunch": false,
    "category": "Accelerated computing",
    "gpuNum": 1,
    "hideHardwareSpecs": false,
    "memoryGiB": 128,
    "name": "ml.g5.8xlarge",
    "vcpuNum": 32
   },
   {
    "_defaultOrder": 51,
    "_isFastLaunch": false,
    "category": "Accelerated computing",
    "gpuNum": 1,
    "hideHardwareSpecs": false,
    "memoryGiB": 256,
    "name": "ml.g5.16xlarge",
    "vcpuNum": 64
   },
   {
    "_defaultOrder": 52,
    "_isFastLaunch": false,
    "category": "Accelerated computing",
    "gpuNum": 4,
    "hideHardwareSpecs": false,
    "memoryGiB": 192,
    "name": "ml.g5.12xlarge",
    "vcpuNum": 48
   },
   {
    "_defaultOrder": 53,
    "_isFastLaunch": false,
    "category": "Accelerated computing",
    "gpuNum": 4,
    "hideHardwareSpecs": false,
    "memoryGiB": 384,
    "name": "ml.g5.24xlarge",
    "vcpuNum": 96
   },
   {
    "_defaultOrder": 54,
    "_isFastLaunch": false,
    "category": "Accelerated computing",
    "gpuNum": 8,
    "hideHardwareSpecs": false,
    "memoryGiB": 768,
    "name": "ml.g5.48xlarge",
    "vcpuNum": 192
   }
  ],
  "instance_type": "ml.t3.large",
  "kernelspec": {
   "display_name": "Python 3 (ipykernel)",
   "language": "python",
   "name": "python3"
  },
  "language_info": {
   "codemirror_mode": {
    "name": "ipython",
    "version": 3
   },
   "file_extension": ".py",
   "mimetype": "text/x-python",
   "name": "python",
   "nbconvert_exporter": "python",
   "pygments_lexer": "ipython3",
   "version": "3.9.13"
  }
 },
 "nbformat": 4,
 "nbformat_minor": 5
}
