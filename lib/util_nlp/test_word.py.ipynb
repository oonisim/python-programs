{
 "cells": [
  {
   "cell_type": "code",
   "execution_count": 3,
   "id": "ba66a6a6",
   "metadata": {},
   "outputs": [
    {
     "name": "stdout",
     "output_type": "stream",
     "text": [
      "The autoreload extension is already loaded. To reload it, use:\n",
      "  %reload_ext autoreload\n"
     ]
    }
   ],
   "source": [
    "%load_ext autoreload\n",
    "%autoreload 2\n",
    "\n",
    "from word import (\n",
    "    redact_email_addresses,\n",
    "    is_english_word,\n",
    "    redact_non_english_words\n",
    ")"
   ]
  },
  {
   "cell_type": "code",
   "execution_count": 5,
   "id": "0e0de063",
   "metadata": {},
   "outputs": [
    {
     "data": {
      "text/plain": [
       "'send email to address'"
      ]
     },
     "execution_count": 5,
     "metadata": {},
     "output_type": "execute_result"
    }
   ],
   "source": [
    "redact_non_english_words(\"send email to hoge@GNAIUK.com address ajd hoge@GNAIUK.com\")"
   ]
  },
  {
   "cell_type": "code",
   "execution_count": 14,
   "id": "29f0a364",
   "metadata": {},
   "outputs": [
    {
     "name": "stderr",
     "output_type": "stream",
     "text": [
      "[nltk_data] Downloading package words to /Users/oonisim/nltk_data...\n",
      "[nltk_data]   Package words is already up-to-date!\n",
      "[nltk_data] Downloading package wordnet to /Users/oonisim/nltk_data...\n",
      "[nltk_data]   Package wordnet is already up-to-date!\n"
     ]
    },
    {
     "data": {
      "text/plain": [
       "False"
      ]
     },
     "execution_count": 14,
     "metadata": {},
     "output_type": "execute_result"
    }
   ],
   "source": [
    "is_english_word(\"AROM\")"
   ]
  },
  {
   "cell_type": "code",
   "execution_count": null,
   "id": "4c15147d",
   "metadata": {},
   "outputs": [],
   "source": []
  },
  {
   "cell_type": "code",
   "execution_count": null,
   "id": "449bc8b4",
   "metadata": {},
   "outputs": [],
   "source": []
  },
  {
   "cell_type": "code",
   "execution_count": null,
   "id": "468901df",
   "metadata": {},
   "outputs": [],
   "source": []
  },
  {
   "cell_type": "code",
   "execution_count": 13,
   "id": "ae30fe38",
   "metadata": {},
   "outputs": [
    {
     "name": "stdout",
     "output_type": "stream",
     "text": [
      "Autonomous autonomous amod cars NOUN []\n",
      "cars car nsubj shift VERB [Autonomous]\n",
      "shift shift ROOT shift VERB [cars, &, liability, toward]\n",
      "& & cc shift VERB []\n",
      "* * punct liability NOUN []\n",
      "( ( punct liability NOUN []\n",
      "insurance insurance compound liability NOUN []\n",
      "liability liability conj shift VERB [*, (, insurance, 123]\n",
      "123 123 nummod liability NOUN []\n",
      "toward toward prep shift VERB [manufacturers]\n",
      "manufacturers manufacturer pobj toward ADP []\n"
     ]
    }
   ],
   "source": [
    "import spacy\n",
    "\n",
    "nlp = spacy.load(\"en_core_web_sm\")\n",
    "doc = nlp(\"Autonomous cars shift &*( insurance liability 123 toward manufacturers\")\n",
    "for token in doc:\n",
    "    print(token.text, token.lemma_, token.dep_, token.head.text, token.head.pos_,\n",
    "            [child for child in token.children])\n",
    "    \n",
    "#    if token.like_url or token.like_email"
   ]
  }
 ],
 "metadata": {
  "kernelspec": {
   "display_name": "Python 3 (ipykernel)",
   "language": "python",
   "name": "python3"
  },
  "language_info": {
   "codemirror_mode": {
    "name": "ipython",
    "version": 3
   },
   "file_extension": ".py",
   "mimetype": "text/x-python",
   "name": "python",
   "nbconvert_exporter": "python",
   "pygments_lexer": "ipython3",
   "version": "3.9.13"
  }
 },
 "nbformat": 4,
 "nbformat_minor": 5
}
