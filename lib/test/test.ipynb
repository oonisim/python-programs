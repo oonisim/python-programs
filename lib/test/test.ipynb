{
 "cells": [
  {
   "cell_type": "code",
   "execution_count": 31,
   "id": "03a5ef99",
   "metadata": {},
   "outputs": [],
   "source": [
    "import os\n",
    "import sys\n",
    "from typing import (\n",
    "    Set\n",
    ")"
   ]
  },
  {
   "cell_type": "code",
   "execution_count": 2,
   "id": "1627942b",
   "metadata": {},
   "outputs": [],
   "source": [
    "sys.path.append(\"..\")"
   ]
  },
  {
   "cell_type": "code",
   "execution_count": 40,
   "id": "d1e4382c",
   "metadata": {},
   "outputs": [
    {
     "name": "stdout",
     "output_type": "stream",
     "text": [
      "The autoreload extension is already loaded. To reload it, use:\n",
      "  %reload_ext autoreload\n"
     ]
    }
   ],
   "source": [
    "%load_ext autoreload\n",
    "%autoreload 2\n",
    "\n",
    "from util_file import (\n",
    "    is_file,\n",
    "    is_dir,\n",
    "    get_file_suffix,\n",
    "    list_files_in_directory,\n",
    "    get_file_basename,\n",
    "    get_filename,\n",
    "    get_dir_name,\n",
    "    get_path_to_this_py_script,\n",
    ")"
   ]
  },
  {
   "cell_type": "code",
   "execution_count": 4,
   "id": "8af23dde",
   "metadata": {},
   "outputs": [],
   "source": [
    "path = \"/Users/oonisim/home/repository/git/oonisim/python-programs/tensorflow/cnn/data\""
   ]
  },
  {
   "cell_type": "code",
   "execution_count": 5,
   "id": "e9190f8e",
   "metadata": {},
   "outputs": [
    {
     "data": {
      "text/plain": [
       "'.jpg'"
      ]
     },
     "execution_count": 5,
     "metadata": {},
     "output_type": "execute_result"
    }
   ],
   "source": [
    "get_file_suffix(\"/\".join([path, \"00000.jpg\"]))"
   ]
  },
  {
   "cell_type": "code",
   "execution_count": 6,
   "id": "d4024984",
   "metadata": {},
   "outputs": [
    {
     "data": {
      "text/plain": [
       "''"
      ]
     },
     "execution_count": 6,
     "metadata": {},
     "output_type": "execute_result"
    }
   ],
   "source": [
    "get_file_suffix(\"/a/b/\")"
   ]
  },
  {
   "cell_type": "code",
   "execution_count": 17,
   "id": "2380d1b6",
   "metadata": {},
   "outputs": [
    {
     "data": {
      "text/plain": [
       "'/Users/oonisim/home/repository/git/oonisim/python-programs/tensorflow/cnn'"
      ]
     },
     "execution_count": 17,
     "metadata": {},
     "output_type": "execute_result"
    }
   ],
   "source": [
    "get_dir_name(path)"
   ]
  },
  {
   "cell_type": "code",
   "execution_count": 18,
   "id": "df3bb1d1",
   "metadata": {},
   "outputs": [
    {
     "name": "stdout",
     "output_type": "stream",
     "text": [
      "01085.jpg\n"
     ]
    }
   ],
   "source": [
    "for file in list_files_in_directory(path=path, patterns=r'*.jpg'):\n",
    "    print(file)\n",
    "    break\n"
   ]
  },
  {
   "cell_type": "code",
   "execution_count": 38,
   "id": "6c994005",
   "metadata": {},
   "outputs": [
    {
     "data": {
      "text/plain": [
       "{'test_util_numpy.py',\n",
       " 'util_constant.py',\n",
       " 'util_datetime.py',\n",
       " 'util_file.py',\n",
       " 'util_numpy.py'}"
      ]
     },
     "execution_count": 38,
     "metadata": {},
     "output_type": "execute_result"
    }
   ],
   "source": [
    "path: str = get_dir_name(get_path_to_this_py_script())\n",
    "files: List[str] = list_files_in_directory(path=path, pattern=r'*.py')\n",
    "files"
   ]
  },
  {
   "cell_type": "code",
   "execution_count": null,
   "id": "16c19e59",
   "metadata": {},
   "outputs": [],
   "source": []
  },
  {
   "cell_type": "code",
   "execution_count": 42,
   "id": "436133e3",
   "metadata": {},
   "outputs": [
    {
     "data": {
      "text/plain": [
       "False"
      ]
     },
     "execution_count": 42,
     "metadata": {},
     "output_type": "execute_result"
    }
   ],
   "source": [
    "is_dir(\"/hoge\")"
   ]
  },
  {
   "cell_type": "code",
   "execution_count": null,
   "id": "1cd967c3",
   "metadata": {},
   "outputs": [],
   "source": []
  }
 ],
 "metadata": {
  "kernelspec": {
   "display_name": "Python 3 (ipykernel)",
   "language": "python",
   "name": "python3"
  },
  "language_info": {
   "codemirror_mode": {
    "name": "ipython",
    "version": 3
   },
   "file_extension": ".py",
   "mimetype": "text/x-python",
   "name": "python",
   "nbconvert_exporter": "python",
   "pygments_lexer": "ipython3",
   "version": "3.9.13"
  }
 },
 "nbformat": 4,
 "nbformat_minor": 5
}
