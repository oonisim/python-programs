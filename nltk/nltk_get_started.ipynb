{
 "cells": [
  {
   "cell_type": "code",
   "execution_count": 1,
   "id": "64d2bcf4",
   "metadata": {},
   "outputs": [],
   "source": [
    "import os\n",
    "import nltk"
   ]
  },
  {
   "cell_type": "code",
   "execution_count": 15,
   "id": "aa830225",
   "metadata": {},
   "outputs": [
    {
     "name": "stdout",
     "output_type": "stream",
     "text": [
      "3.9.13\n"
     ]
    }
   ],
   "source": [
    "from platform import python_version\n",
    "\n",
    "print(python_version())"
   ]
  },
  {
   "cell_type": "markdown",
   "id": "0235a9f0",
   "metadata": {},
   "source": [
    "# NLTK\n",
    "\n",
    "## References\n",
    "\n",
    "* [NLTK.org - NLTK book](https://www.nltk.org/book/)\n",
    "* [NLTK documentation](https://www.nltk.org/index.html#)\n",
    "\n",
    "## Tutorials\n",
    "\n",
    "* [Natural Language Processing With Python's NLTK Package](https://realpython.com/nltk-nlp-python/#using-a-concordance)\n",
    "\n",
    "## Terminology\n",
    "\n",
    "* Corpra: linguistic data"
   ]
  },
  {
   "cell_type": "markdown",
   "id": "e9e22996",
   "metadata": {},
   "source": [
    "---\n",
    "# NLTK Data\n",
    "\n",
    "* [Installing NLTK Data](https://www.nltk.org/data.html)\n",
    "\n",
    "NLTK provides corplas, models, tools as NLTK data as listed in [nltk_data](https://www.nltk.org/nltk_data/). \n",
    "\n",
    "## Types\n",
    "\n",
    "chunkers, grammars, misc, sentiment, taggers, corpora, help, models, stemmers, tokenizers. \n",
    "\n",
    "Run ```nltk.download()``` to see the currently downloaded NLTK data.\n"
   ]
  },
  {
   "cell_type": "code",
   "execution_count": 2,
   "id": "d51973bc",
   "metadata": {},
   "outputs": [],
   "source": [
    "# nltk.download()"
   ]
  },
  {
   "cell_type": "markdown",
   "id": "f37b73b5",
   "metadata": {},
   "source": [
    "See the code to understand how the NLTK download the data and load them.\n",
    "\n",
    "* [Source code for nltk.downloader](https://www.nltk.org/_modules/nltk/downloader.html)\n",
    "* [Source code for nltk.data](https://www.nltk.org/_modules/nltk/data.html)\n",
    "\n",
    "\n",
    "## Location\n",
    "\n",
    "* Windows: ```C:\\nltk_data```\n",
    "* Mac: ```/usr/local/share/nltk_data``` \n",
    "* *Nix: ```/usr/share/nltk_data (Unix)```\n",
    "\n",
    "### Change Location\n",
    "\n",
    "* [Source code for nltk.data](https://www.nltk.org/_modules/nltk/data.html)\n",
    "\n",
    "```nltk.data.path = [ NKTK_DATA_DIR ]```.\n",
    "\n",
    "\n",
    "###  Environment Variable\n",
    "\n",
    "Set ```NLTK_DATA``` to specify the data location**s** to download."
   ]
  },
  {
   "cell_type": "code",
   "execution_count": 3,
   "id": "7ae230f3",
   "metadata": {},
   "outputs": [],
   "source": [
    "NLTK_DATA_DIR = \"/tmp/nltk\""
   ]
  },
  {
   "cell_type": "markdown",
   "id": "8a203299",
   "metadata": {},
   "source": [
    "## Download\n",
    "\n",
    "* [Source code for nltk.downloader](https://www.nltk.org/_modules/nltk/downloader.html)\n",
    "\n",
    "```\n",
    "nltk.download(info_or_id, download_dir)\n",
    "```\n",
    "\n",
    "To download ```gutenberg``` corpra, ```nltk.download(info_or_id=\"gutenberg\", download_dir=dir)```."
   ]
  },
  {
   "cell_type": "code",
   "execution_count": 4,
   "id": "43de6e7c",
   "metadata": {},
   "outputs": [
    {
     "name": "stderr",
     "output_type": "stream",
     "text": [
      "[nltk_data] Downloading package gutenberg to /tmp/nltk...\n",
      "[nltk_data]   Package gutenberg is already up-to-date!\n"
     ]
    },
    {
     "data": {
      "text/plain": [
       "True"
      ]
     },
     "execution_count": 4,
     "metadata": {},
     "output_type": "execute_result"
    }
   ],
   "source": [
    "nltk.download(info_or_id=\"gutenberg\", download_dir=NLTK_DATA_DIR)"
   ]
  },
  {
   "cell_type": "markdown",
   "id": "7c535893",
   "metadata": {},
   "source": [
    "* [Gutenberg Corpus](https://www.nltk.org/book/ch02.html)\n",
    "\n",
    "> NLTK includes a small selection of texts from the Project Gutenberg electronic text archive, which contains some 25,000 free electronic books, hosted at http://www.gutenberg.org/. We begin by getting the Python interpreter to load the NLTK package, then ask to see ```nltk.corpus.gutenberg.fileids()```, the file identifiers in this corpus:"
   ]
  },
  {
   "cell_type": "code",
   "execution_count": 5,
   "id": "26a669f8",
   "metadata": {},
   "outputs": [],
   "source": [
    "nltk.data.path=[\n",
    "    NLTK_DATA_DIR\n",
    "]\n",
    "from nltk.corpus import (\n",
    "    gutenberg\n",
    ")"
   ]
  },
  {
   "cell_type": "code",
   "execution_count": 6,
   "id": "d68e3dfd",
   "metadata": {},
   "outputs": [
    {
     "data": {
      "text/plain": [
       "['austen-emma.txt',\n",
       " 'austen-persuasion.txt',\n",
       " 'austen-sense.txt',\n",
       " 'bible-kjv.txt',\n",
       " 'blake-poems.txt',\n",
       " 'bryant-stories.txt',\n",
       " 'burgess-busterbrown.txt',\n",
       " 'carroll-alice.txt',\n",
       " 'chesterton-ball.txt',\n",
       " 'chesterton-brown.txt',\n",
       " 'chesterton-thursday.txt',\n",
       " 'edgeworth-parents.txt',\n",
       " 'melville-moby_dick.txt',\n",
       " 'milton-paradise.txt',\n",
       " 'shakespeare-caesar.txt',\n",
       " 'shakespeare-hamlet.txt',\n",
       " 'shakespeare-macbeth.txt',\n",
       " 'whitman-leaves.txt']"
      ]
     },
     "execution_count": 6,
     "metadata": {},
     "output_type": "execute_result"
    }
   ],
   "source": [
    "gutenberg.fileids()"
   ]
  },
  {
   "cell_type": "markdown",
   "id": "703a2fe8",
   "metadata": {},
   "source": [
    "---\n",
    "# Text Search\n",
    "\n",
    "* [Searching Text](https://www.nltk.org/book/ch01.html#chap-introduction)\n",
    "\n",
    "\n",
    "\n",
    "## Text Class\n",
    "\n",
    "* [nltk.text.Text](https://www.nltk.org/api/nltk.text.html#nltk.text.Text)\n",
    "\n",
    "> A wrapper around a sequence of simple (string) tokens, which is intended to support initial exploration of texts (via the interactive console). Its methods perform a variety of analyses on the text’s contexts (e.g., counting, concordancing, collocation discovery)"
   ]
  },
  {
   "cell_type": "code",
   "execution_count": 37,
   "id": "135895e6",
   "metadata": {},
   "outputs": [
    {
     "name": "stderr",
     "output_type": "stream",
     "text": [
      "[nltk_data] Downloading collection 'book'\n",
      "[nltk_data]    | \n",
      "[nltk_data]    | Downloading package abc to /tmp/nltk...\n",
      "[nltk_data]    |   Unzipping corpora/abc.zip.\n",
      "[nltk_data]    | Downloading package brown to /tmp/nltk...\n",
      "[nltk_data]    |   Unzipping corpora/brown.zip.\n",
      "[nltk_data]    | Downloading package chat80 to /tmp/nltk...\n",
      "[nltk_data]    |   Unzipping corpora/chat80.zip.\n",
      "[nltk_data]    | Downloading package cmudict to /tmp/nltk...\n",
      "[nltk_data]    |   Unzipping corpora/cmudict.zip.\n",
      "[nltk_data]    | Downloading package conll2000 to /tmp/nltk...\n",
      "[nltk_data]    |   Unzipping corpora/conll2000.zip.\n",
      "[nltk_data]    | Downloading package conll2002 to /tmp/nltk...\n",
      "[nltk_data]    |   Unzipping corpora/conll2002.zip.\n",
      "[nltk_data]    | Downloading package dependency_treebank to\n",
      "[nltk_data]    |     /tmp/nltk...\n",
      "[nltk_data]    |   Unzipping corpora/dependency_treebank.zip.\n",
      "[nltk_data]    | Downloading package genesis to /tmp/nltk...\n",
      "[nltk_data]    |   Unzipping corpora/genesis.zip.\n",
      "[nltk_data]    | Downloading package gutenberg to /tmp/nltk...\n",
      "[nltk_data]    |   Unzipping corpora/gutenberg.zip.\n",
      "[nltk_data]    | Downloading package ieer to /tmp/nltk...\n",
      "[nltk_data]    |   Unzipping corpora/ieer.zip.\n",
      "[nltk_data]    | Downloading package inaugural to /tmp/nltk...\n",
      "[nltk_data]    |   Unzipping corpora/inaugural.zip.\n",
      "[nltk_data]    | Downloading package movie_reviews to /tmp/nltk...\n",
      "[nltk_data]    |   Unzipping corpora/movie_reviews.zip.\n",
      "[nltk_data]    | Downloading package nps_chat to /tmp/nltk...\n",
      "[nltk_data]    |   Unzipping corpora/nps_chat.zip.\n",
      "[nltk_data]    | Downloading package names to /tmp/nltk...\n",
      "[nltk_data]    |   Unzipping corpora/names.zip.\n",
      "[nltk_data]    | Downloading package ppattach to /tmp/nltk...\n",
      "[nltk_data]    |   Unzipping corpora/ppattach.zip.\n",
      "[nltk_data]    | Downloading package reuters to /tmp/nltk...\n",
      "[nltk_data]    | Downloading package senseval to /tmp/nltk...\n",
      "[nltk_data]    |   Unzipping corpora/senseval.zip.\n",
      "[nltk_data]    | Downloading package state_union to /tmp/nltk...\n",
      "[nltk_data]    |   Unzipping corpora/state_union.zip.\n",
      "[nltk_data]    | Downloading package stopwords to /tmp/nltk...\n",
      "[nltk_data]    |   Unzipping corpora/stopwords.zip.\n",
      "[nltk_data]    | Downloading package swadesh to /tmp/nltk...\n",
      "[nltk_data]    |   Unzipping corpora/swadesh.zip.\n",
      "[nltk_data]    | Downloading package timit to /tmp/nltk...\n",
      "[nltk_data]    |   Unzipping corpora/timit.zip.\n",
      "[nltk_data]    | Downloading package treebank to /tmp/nltk...\n",
      "[nltk_data]    |   Unzipping corpora/treebank.zip.\n",
      "[nltk_data]    | Downloading package toolbox to /tmp/nltk...\n",
      "[nltk_data]    |   Unzipping corpora/toolbox.zip.\n",
      "[nltk_data]    | Downloading package udhr to /tmp/nltk...\n",
      "[nltk_data]    |   Unzipping corpora/udhr.zip.\n",
      "[nltk_data]    | Downloading package udhr2 to /tmp/nltk...\n",
      "[nltk_data]    |   Unzipping corpora/udhr2.zip.\n",
      "[nltk_data]    | Downloading package unicode_samples to /tmp/nltk...\n",
      "[nltk_data]    |   Unzipping corpora/unicode_samples.zip.\n",
      "[nltk_data]    | Downloading package webtext to /tmp/nltk...\n",
      "[nltk_data]    |   Unzipping corpora/webtext.zip.\n",
      "[nltk_data]    | Downloading package wordnet to /tmp/nltk...\n",
      "[nltk_data]    | Downloading package wordnet_ic to /tmp/nltk...\n",
      "[nltk_data]    |   Unzipping corpora/wordnet_ic.zip.\n",
      "[nltk_data]    | Downloading package words to /tmp/nltk...\n",
      "[nltk_data]    |   Unzipping corpora/words.zip.\n",
      "[nltk_data]    | Downloading package maxent_treebank_pos_tagger to\n",
      "[nltk_data]    |     /tmp/nltk...\n",
      "[nltk_data]    |   Unzipping taggers/maxent_treebank_pos_tagger.zip.\n",
      "[nltk_data]    | Downloading package maxent_ne_chunker to /tmp/nltk...\n",
      "[nltk_data]    |   Unzipping chunkers/maxent_ne_chunker.zip.\n",
      "[nltk_data]    | Downloading package universal_tagset to /tmp/nltk...\n",
      "[nltk_data]    |   Unzipping taggers/universal_tagset.zip.\n",
      "[nltk_data]    | Downloading package punkt to /tmp/nltk...\n",
      "[nltk_data]    |   Unzipping tokenizers/punkt.zip.\n",
      "[nltk_data]    | Downloading package book_grammars to /tmp/nltk...\n",
      "[nltk_data]    |   Unzipping grammars/book_grammars.zip.\n",
      "[nltk_data]    | Downloading package city_database to /tmp/nltk...\n",
      "[nltk_data]    |   Unzipping corpora/city_database.zip.\n",
      "[nltk_data]    | Downloading package tagsets to /tmp/nltk...\n",
      "[nltk_data]    |   Unzipping help/tagsets.zip.\n",
      "[nltk_data]    | Downloading package panlex_swadesh to /tmp/nltk...\n",
      "[nltk_data]    | Downloading package averaged_perceptron_tagger to\n",
      "[nltk_data]    |     /tmp/nltk...\n",
      "[nltk_data]    |   Unzipping taggers/averaged_perceptron_tagger.zip.\n",
      "[nltk_data]    | \n",
      "[nltk_data]  Done downloading collection book\n",
      "[nltk_data] Downloading package stopwords to\n",
      "[nltk_data]     /Users/oonisim/nltk_data...\n",
      "[nltk_data]   Package stopwords is already up-to-date!\n"
     ]
    },
    {
     "data": {
      "text/plain": [
       "True"
      ]
     },
     "execution_count": 37,
     "metadata": {},
     "output_type": "execute_result"
    }
   ],
   "source": [
    "nltk.download(\"book\", download_dir=NLTK_DATA_DIR)\n",
    "nltk.download(\"stopwords\")"
   ]
  },
  {
   "cell_type": "code",
   "execution_count": 8,
   "id": "7043d86e",
   "metadata": {},
   "outputs": [
    {
     "name": "stdout",
     "output_type": "stream",
     "text": [
      "*** Introductory Examples for the NLTK Book ***\n",
      "Loading text1, ..., text9 and sent1, ..., sent9\n",
      "Type the name of the text or sentence to view it.\n",
      "Type: 'texts()' or 'sents()' to list the materials.\n",
      "text1: Moby Dick by Herman Melville 1851\n",
      "text2: Sense and Sensibility by Jane Austen 1811\n",
      "text3: The Book of Genesis\n",
      "text4: Inaugural Address Corpus\n",
      "text5: Chat Corpus\n",
      "text6: Monty Python and the Holy Grail\n",
      "text7: Wall Street Journal\n",
      "text8: Personals Corpus\n",
      "text9: The Man Who Was Thursday by G . K . Chesterton 1908\n",
      "<class 'nltk.text.Text'>\n"
     ]
    },
    {
     "data": {
      "text/plain": [
       "['_CONTEXT_RE',\n",
       " '_COPY_TOKENS',\n",
       " '__class__',\n",
       " '__delattr__',\n",
       " '__dict__',\n",
       " '__dir__',\n",
       " '__doc__',\n",
       " '__eq__',\n",
       " '__format__',\n",
       " '__ge__',\n",
       " '__getattribute__',\n",
       " '__getitem__',\n",
       " '__gt__',\n",
       " '__hash__',\n",
       " '__init__',\n",
       " '__init_subclass__',\n",
       " '__le__',\n",
       " '__len__',\n",
       " '__lt__',\n",
       " '__module__',\n",
       " '__ne__',\n",
       " '__new__',\n",
       " '__reduce__',\n",
       " '__reduce_ex__',\n",
       " '__repr__',\n",
       " '__setattr__',\n",
       " '__sizeof__',\n",
       " '__str__',\n",
       " '__subclasshook__',\n",
       " '__weakref__',\n",
       " '_context',\n",
       " '_train_default_ngram_lm',\n",
       " 'collocation_list',\n",
       " 'collocations',\n",
       " 'common_contexts',\n",
       " 'concordance',\n",
       " 'concordance_list',\n",
       " 'count',\n",
       " 'dispersion_plot',\n",
       " 'findall',\n",
       " 'generate',\n",
       " 'index',\n",
       " 'name',\n",
       " 'plot',\n",
       " 'readability',\n",
       " 'similar',\n",
       " 'tokens',\n",
       " 'vocab']"
      ]
     },
     "execution_count": 8,
     "metadata": {},
     "output_type": "execute_result"
    }
   ],
   "source": [
    "from nltk.book import (\n",
    "    text1 as mobydick\n",
    ")\n",
    "print(type(mobydick))\n",
    "dir(mobydick)"
   ]
  },
  {
   "cell_type": "markdown",
   "id": "2bf3c3f2",
   "metadata": {},
   "source": [
    "### Concordance \n",
    "\n",
    "\n",
    "* [concordance_list(word, width=79, lines=25)](https://www.nltk.org/api/nltk.text.html#nltk.text.Text.concordance)\n",
    "\n",
    "> Generate a concordance (appearanace) for word with the specified context window. Word matching is not case-sensitive."
   ]
  },
  {
   "cell_type": "code",
   "execution_count": 41,
   "id": "1d9eff1c",
   "metadata": {},
   "outputs": [
    {
     "name": "stdout",
     "output_type": "stream",
     "text": [
      "Displaying 15 of 511 matches:\n",
      "haling is , eh ? Have ye clapped eye on Captain Ahab ?\" \" Who is Captain Ahab , sir ?\" \" Aye , aye ,\n",
      "clapped eye on Captain Ahab ?\" \" Who is Captain Ahab , sir ?\" \" Aye , aye , I thought so . Captain A\n",
      "b , sir ?\" \" Aye , aye , I thought so . Captain Ahab is the Captain of this ship .\" \" I am mistaken \n",
      " to it , past backing out . Clap eye on Captain Ahab , young man , and thou wilt find that he has on\n",
      "ccosted Captain Peleg , inquiring where Captain Ahab was to be found . \" And what dost thou want of \n",
      "be found . \" And what dost thou want of Captain Ahab ? It ' s all right enough ; thou art shipped .\"\n",
      "ose he will thee . He ' s a queer man , Captain Ahab -- so some think -- but a good one . Oh , thou \n",
      " s a grand , ungodly , god - like man , Captain Ahab ; doesn ' t speak much ; but , when he does spe\n",
      "you may well listen . Mark ye , be forewarned ; Ahab ' s above the common ; Ahab ' s been in college\n",
      "e , be forewarned ; Ahab ' s above the common ; Ahab ' s been in colleges , as well as ' mong the ca\n",
      "ad ; no , and he ain ' t Captain Peleg ; HE ' S AHAB , boy ; and Ahab of old , thou knowest , was a \n",
      "ain ' t Captain Peleg ; HE ' S AHAB , boy ; and Ahab of old , thou knowest , was a crowned king !\" \"\n",
      "rd the Pequod . Never say it anywhere . Captain Ahab did not name himself . ' Twas a foolish , ignor\n",
      "sh to warn thee . It ' s a lie . I know Captain Ahab well ; I ' ve sailed with him as mate years ago\n",
      " So good - bye to thee -- and wrong not Captain Ahab , because he happens to have a wicked name . Be\n"
     ]
    }
   ],
   "source": [
    "mobydick.concordance('Ahab', width=100, lines=15)"
   ]
  },
  {
   "cell_type": "markdown",
   "id": "24895607",
   "metadata": {},
   "source": [
    "### Concordance Distributions\n",
    "\n",
    "* [dispersion_plot(words)](https://www.nltk.org/api/nltk.text.html#nltk.text.Text.dispersion_plot)"
   ]
  },
  {
   "cell_type": "code",
   "execution_count": 31,
   "id": "1db5820f",
   "metadata": {},
   "outputs": [
    {
     "data": {
      "image/png": "[encoded data removed]",
      "text/plain": [
       "<Figure size 640x480 with 1 Axes>"
      ]
     },
     "metadata": {},
     "output_type": "display_data"
    }
   ],
   "source": [
    "mobydick.dispersion_plot([\"Starbuck\", \"Captain\", \"Ahab\", \"Moby\"])"
   ]
  },
  {
   "cell_type": "markdown",
   "id": "4393c903",
   "metadata": {},
   "source": [
    "### Similar\n",
    "\n",
    "* [similar(word, num=20)](https://www.nltk.org/api/nltk.text.html#nltk.text.Text.similar)\n",
    "                          \n",
    "> Find words which appear in the same contexts as the specified word"
   ]
  },
  {
   "cell_type": "code",
   "execution_count": 10,
   "id": "c9c53e70",
   "metadata": {
    "scrolled": true
   },
   "outputs": [
    {
     "name": "stdout",
     "output_type": "stream",
     "text": [
      "it he that queequeg stubb him there starbuck i what man and all then\n",
      "this me peleg which here you\n"
     ]
    }
   ],
   "source": [
    "mobydick.similar('ahab')"
   ]
  },
  {
   "cell_type": "markdown",
   "id": "8639afa7",
   "metadata": {},
   "source": [
    "### Collocations\n",
    "\n",
    "* [collocations(num=20)](https://www.nltk.org/api/nltk.text.html#nltk.text.Text.collocations)\n",
    "\n",
    "> Print collocation (bi-gram) derived from the text, ignoring stopwords.\n",
    "\n"
   ]
  },
  {
   "cell_type": "code",
   "execution_count": 50,
   "id": "4bca4d2f",
   "metadata": {},
   "outputs": [
    {
     "data": {
      "text/plain": [
       "[('Sperm', 'Whale'),\n",
       " ('Moby', 'Dick'),\n",
       " ('White', 'Whale'),\n",
       " ('old', 'man'),\n",
       " ('Captain', 'Ahab'),\n",
       " ('sperm', 'whale'),\n",
       " ('Right', 'Whale'),\n",
       " ('Captain', 'Peleg'),\n",
       " ('New', 'Bedford'),\n",
       " ('Cape', 'Horn'),\n",
       " ('cried', 'Ahab'),\n",
       " ('years', 'ago'),\n",
       " ('lower', 'jaw'),\n",
       " ('never', 'mind'),\n",
       " ('Father', 'Mapple'),\n",
       " ('cried', 'Stubb'),\n",
       " ('chief', 'mate'),\n",
       " ('white', 'whale'),\n",
       " ('ivory', 'leg'),\n",
       " ('one', 'hand')]"
      ]
     },
     "execution_count": 50,
     "metadata": {},
     "output_type": "execute_result"
    }
   ],
   "source": [
    "mobydick.collocation_list()"
   ]
  },
  {
   "cell_type": "markdown",
   "id": "a20c419b",
   "metadata": {},
   "source": [
    "---\n",
    "# PoS"
   ]
  },
  {
   "cell_type": "code",
   "execution_count": 52,
   "id": "74660e98",
   "metadata": {},
   "outputs": [],
   "source": [
    "from nltk.tokenize import (\n",
    "    word_tokenize\n",
    ")"
   ]
  },
  {
   "cell_type": "code",
   "execution_count": 65,
   "id": "6b542d9d",
   "metadata": {},
   "outputs": [
    {
     "data": {
      "text/plain": [
       "[('Call', 'VB'),\n",
       " ('me', 'PRP'),\n",
       " ('Ishmael', 'NNP'),\n",
       " ('.', '.'),\n",
       " ('Some', 'DT'),\n",
       " ('years', 'NNS'),\n",
       " ('ago—never', 'RB'),\n",
       " ('mind', 'VB'),\n",
       " ('how', 'WRB'),\n",
       " ('long', 'JJ'),\n",
       " ('precisely—having', 'JJ'),\n",
       " ('little', 'JJ'),\n",
       " ('or', 'CC'),\n",
       " ('no', 'DT'),\n",
       " ('money', 'NN'),\n",
       " ('in', 'IN'),\n",
       " ('my', 'PRP$'),\n",
       " ('purse', 'NN'),\n",
       " (',', ','),\n",
       " ('and', 'CC'),\n",
       " ('nothing', 'NN'),\n",
       " ('particular', 'JJ'),\n",
       " ('to', 'TO'),\n",
       " ('interest', 'NN'),\n",
       " ('me', 'PRP'),\n",
       " ('on', 'IN'),\n",
       " ('shore', 'NN'),\n",
       " (',', ','),\n",
       " ('I', 'PRP'),\n",
       " ('thought', 'VBD'),\n",
       " ('I', 'PRP'),\n",
       " ('would', 'MD'),\n",
       " ('sail', 'VB'),\n",
       " ('about', 'IN'),\n",
       " ('a', 'DT'),\n",
       " ('little', 'JJ'),\n",
       " ('and', 'CC'),\n",
       " ('see', 'VB'),\n",
       " ('the', 'DT'),\n",
       " ('watery', 'JJ'),\n",
       " ('part', 'NN'),\n",
       " ('of', 'IN'),\n",
       " ('the', 'DT'),\n",
       " ('world', 'NN'),\n",
       " ('.', '.'),\n",
       " ('It', 'PRP'),\n",
       " ('is', 'VBZ'),\n",
       " ('a', 'DT'),\n",
       " ('way', 'NN'),\n",
       " ('I', 'PRP'),\n",
       " ('have', 'VBP'),\n",
       " ('of', 'IN'),\n",
       " ('driving', 'VBG'),\n",
       " ('off', 'RP'),\n",
       " ('the', 'DT'),\n",
       " ('spleen', 'NN'),\n",
       " ('and', 'CC'),\n",
       " ('regulating', 'VBG'),\n",
       " ('the', 'DT'),\n",
       " ('circulation', 'NN'),\n",
       " ('.', '.'),\n",
       " ('Whenever', 'WRB'),\n",
       " ('I', 'PRP'),\n",
       " ('find', 'VBP'),\n",
       " ('myself', 'PRP'),\n",
       " ('growing', 'VBG'),\n",
       " ('grim', 'JJ'),\n",
       " ('about', 'IN'),\n",
       " ('the', 'DT'),\n",
       " ('mouth', 'NN'),\n",
       " (';', ':'),\n",
       " ('whenever', 'WRB'),\n",
       " ('it', 'PRP'),\n",
       " ('is', 'VBZ'),\n",
       " ('a', 'DT'),\n",
       " ('damp', 'NN'),\n",
       " (',', ','),\n",
       " ('drizzly', 'JJ'),\n",
       " ('November', 'NNP'),\n",
       " ('in', 'IN'),\n",
       " ('my', 'PRP$'),\n",
       " ('soul', 'NN'),\n",
       " (';', ':'),\n",
       " ('whenever', 'WRB'),\n",
       " ('I', 'PRP'),\n",
       " ('find', 'VBP'),\n",
       " ('myself', 'PRP'),\n",
       " ('involuntarily', 'RB'),\n",
       " ('pausing', 'VBG'),\n",
       " ('before', 'IN'),\n",
       " ('coffin', 'NN'),\n",
       " ('warehouses', 'NNS'),\n",
       " (',', ','),\n",
       " ('and', 'CC'),\n",
       " ('bringing', 'VBG'),\n",
       " ('up', 'RP'),\n",
       " ('the', 'DT'),\n",
       " ('rear', 'NN'),\n",
       " ('of', 'IN'),\n",
       " ('every', 'DT'),\n",
       " ('funeral', 'JJ'),\n",
       " ('I', 'PRP'),\n",
       " ('meet', 'VBP'),\n",
       " (';', ':'),\n",
       " ('and', 'CC'),\n",
       " ('especially', 'RB'),\n",
       " ('whenever', 'WRB'),\n",
       " ('my', 'PRP$'),\n",
       " ('hypos', 'NN'),\n",
       " ('get', 'VB'),\n",
       " ('such', 'JJ'),\n",
       " ('an', 'DT'),\n",
       " ('upper', 'JJ'),\n",
       " ('hand', 'NN'),\n",
       " ('of', 'IN'),\n",
       " ('me', 'PRP'),\n",
       " (',', ','),\n",
       " ('that', 'IN'),\n",
       " ('it', 'PRP'),\n",
       " ('requires', 'VBZ'),\n",
       " ('a', 'DT'),\n",
       " ('strong', 'JJ'),\n",
       " ('moral', 'JJ'),\n",
       " ('principle', 'NN'),\n",
       " ('to', 'TO'),\n",
       " ('prevent', 'VB'),\n",
       " ('me', 'PRP'),\n",
       " ('from', 'IN'),\n",
       " ('deliberately', 'RB'),\n",
       " ('stepping', 'VBG'),\n",
       " ('into', 'IN'),\n",
       " ('the', 'DT'),\n",
       " ('street', 'NN'),\n",
       " (',', ','),\n",
       " ('and', 'CC'),\n",
       " ('methodically', 'RB'),\n",
       " ('knocking', 'VBG'),\n",
       " ('people', 'NNS'),\n",
       " ('’', 'NNP'),\n",
       " ('s', 'NN'),\n",
       " ('hats', 'NNS'),\n",
       " ('off—then', 'VBP'),\n",
       " (',', ','),\n",
       " ('I', 'PRP'),\n",
       " ('account', 'VBP'),\n",
       " ('it', 'PRP'),\n",
       " ('high', 'JJ'),\n",
       " ('time', 'NN'),\n",
       " ('to', 'TO'),\n",
       " ('get', 'VB'),\n",
       " ('to', 'TO'),\n",
       " ('sea', 'VB'),\n",
       " ('as', 'RB'),\n",
       " ('soon', 'RB'),\n",
       " ('as', 'IN'),\n",
       " ('I', 'PRP'),\n",
       " ('can', 'MD'),\n",
       " ('.', '.'),\n",
       " ('This', 'DT'),\n",
       " ('is', 'VBZ'),\n",
       " ('my', 'PRP$'),\n",
       " ('substitute', 'NN'),\n",
       " ('for', 'IN'),\n",
       " ('pistol', 'NN'),\n",
       " ('and', 'CC'),\n",
       " ('ball', 'NN'),\n",
       " ('.', '.'),\n",
       " ('With', 'IN'),\n",
       " ('a', 'DT'),\n",
       " ('philosophical', 'JJ'),\n",
       " ('flourish', 'JJ'),\n",
       " ('Cato', 'NNP'),\n",
       " ('throws', 'VBZ'),\n",
       " ('himself', 'PRP'),\n",
       " ('upon', 'IN'),\n",
       " ('his', 'PRP$'),\n",
       " ('sword', 'NN'),\n",
       " (';', ':'),\n",
       " ('I', 'PRP'),\n",
       " ('quietly', 'RB'),\n",
       " ('take', 'VBP'),\n",
       " ('to', 'TO'),\n",
       " ('the', 'DT'),\n",
       " ('ship', 'NN'),\n",
       " ('.', '.'),\n",
       " ('There', 'EX'),\n",
       " ('is', 'VBZ'),\n",
       " ('nothing', 'NN'),\n",
       " ('surprising', 'NN'),\n",
       " ('in', 'IN'),\n",
       " ('this', 'DT'),\n",
       " ('.', '.'),\n",
       " ('If', 'IN'),\n",
       " ('they', 'PRP'),\n",
       " ('but', 'CC'),\n",
       " ('knew', 'VBD'),\n",
       " ('it', 'PRP'),\n",
       " (',', ','),\n",
       " ('almost', 'RB'),\n",
       " ('all', 'DT'),\n",
       " ('men', 'NNS'),\n",
       " ('in', 'IN'),\n",
       " ('their', 'PRP$'),\n",
       " ('degree', 'NN'),\n",
       " (',', ','),\n",
       " ('some', 'DT'),\n",
       " ('time', 'NN'),\n",
       " ('or', 'CC'),\n",
       " ('other', 'JJ'),\n",
       " (',', ','),\n",
       " ('cherish', 'JJ'),\n",
       " ('very', 'RB'),\n",
       " ('nearly', 'RB'),\n",
       " ('the', 'DT'),\n",
       " ('same', 'JJ'),\n",
       " ('feelings', 'NNS'),\n",
       " ('towards', 'IN'),\n",
       " ('the', 'DT'),\n",
       " ('ocean', 'NN'),\n",
       " ('with', 'IN'),\n",
       " ('me', 'PRP'),\n",
       " ('.', '.')]"
      ]
     },
     "execution_count": 65,
     "metadata": {},
     "output_type": "execute_result"
    }
   ],
   "source": [
    "tokens = word_tokenize(\"\"\"\n",
    "Call me Ishmael. Some years ago—never mind how long precisely—having little or no money in my purse, and nothing particular to interest me on shore, I thought I would sail about a little and see the watery part of the world. It is a way I have of driving off the spleen and regulating the circulation. Whenever I find myself growing grim about the mouth; whenever it is a damp, drizzly November in my soul; whenever I find myself involuntarily pausing before coffin warehouses, and bringing up the rear of every funeral I meet; and especially whenever my hypos get such an upper hand of me, that it requires a strong moral principle to prevent me from deliberately stepping into the street, and methodically knocking people’s hats off—then, I account it high time to get to sea as soon as I can. This is my substitute for pistol and ball. With a philosophical flourish Cato throws himself upon his sword; I quietly take to the ship. There is nothing surprising in this. If they but knew it, almost all men in their degree, some time or other, cherish very nearly the same feelings towards the ocean with me.\n",
    "\"\"\")\n",
    "nltk.pos_tag(tokens)"
   ]
  },
  {
   "cell_type": "markdown",
   "id": "d1cd8527",
   "metadata": {},
   "source": [
    "----\n",
    "# Clearnup"
   ]
  },
  {
   "cell_type": "code",
   "execution_count": 12,
   "id": "78189432",
   "metadata": {},
   "outputs": [],
   "source": [
    "!rm -rf /tmp/nltk/*\n",
    "!rmdir /tmp/nltk"
   ]
  },
  {
   "cell_type": "code",
   "execution_count": null,
   "id": "b151cdb4",
   "metadata": {},
   "outputs": [],
   "source": []
  }
 ],
 "metadata": {
  "kernelspec": {
   "display_name": "Python 3 (ipykernel)",
   "language": "python",
   "name": "python3"
  },
  "language_info": {
   "codemirror_mode": {
    "name": "ipython",
    "version": 3
   },
   "file_extension": ".py",
   "mimetype": "text/x-python",
   "name": "python",
   "nbconvert_exporter": "python",
   "pygments_lexer": "ipython3",
   "version": "3.9.13"
  }
 },
 "nbformat": 4,
 "nbformat_minor": 5
}
