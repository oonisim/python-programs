{
 "cells": [
  {
   "cell_type": "markdown",
   "id": "threatened-benefit",
   "metadata": {},
   "source": [
    "# EDGAR XBRL XML URL\n",
    "\n",
    "Generate URLs to the XBRL XML files in the fileing directory in a parallel processing manner using Ray."
   ]
  },
  {
   "cell_type": "code",
   "execution_count": 1,
   "id": "cardiovascular-trailer",
   "metadata": {},
   "outputs": [],
   "source": [
    "# !pip install -q ray"
   ]
  },
  {
   "cell_type": "code",
   "execution_count": 2,
   "id": "0d0b5db5",
   "metadata": {},
   "outputs": [],
   "source": [
    "from typing import (\n",
    "    List,\n",
    "    Dict,\n",
    "    Iterable\n",
    ")\n",
    "import os\n",
    "import sys\n",
    "import random\n",
    "import logging\n",
    "import time\n",
    "import re\n",
    "import requests\n",
    "import bs4\n",
    "from bs4 import BeautifulSoup\n",
    "import numpy as np\n",
    "import pandas as pd\n",
    "import ray"
   ]
  },
  {
   "cell_type": "code",
   "execution_count": 3,
   "id": "1e331029",
   "metadata": {},
   "outputs": [],
   "source": [
    "pd.set_option('display.float_format', lambda x: ('%f' % x).rstrip('0').rstrip('.'))\n",
    "pd.set_option('display.colheader_justify', 'center')\n",
    "pd.set_option('display.max_columns', None)  \n",
    "\n",
    "logging.basicConfig(level=logging.DEBUG)\n",
    "handler = logging.StreamHandler(sys.stdout)\n",
    "\n",
    "Logger = logging.getLogger(__name__)\n",
    "Logger.addHandler(handler)"
   ]
  },
  {
   "cell_type": "code",
   "execution_count": 4,
   "id": "aa9ad50b",
   "metadata": {},
   "outputs": [
    {
     "name": "stdout",
     "output_type": "stream",
     "text": [
      "test\n"
     ]
    },
    {
     "name": "stderr",
     "output_type": "stream",
     "text": [
      "DEBUG:__main__:test\n"
     ]
    }
   ],
   "source": [
    "Logger.debug(\"test\")"
   ]
  },
  {
   "cell_type": "code",
   "execution_count": 5,
   "id": "03d8559f",
   "metadata": {},
   "outputs": [],
   "source": [
    "from sec_edgar_constant import (\n",
    "    NUM_CPUS,\n",
    "    FS_TYPE_10K,\n",
    "    FS_TYPE_10Q,\n",
    "    EDGAR_HTTP_HEADERS,\n",
    "    DIR_CSV_LIST,\n",
    "    DIR_XML_XBRL,\n",
    "    DIR_CSV_XBRL\n",
    ")\n",
    "from sec_edgar_utility import (\n",
    "    split,\n",
    "    http_get_content,\n",
    ")\n",
    "from sec_edgar_download_xbrl_xml import (\n",
    "    save_to_xml,\n",
    "    worker,\n",
    ")"
   ]
  },
  {
   "cell_type": "code",
   "execution_count": 6,
   "id": "79ceef80",
   "metadata": {},
   "outputs": [],
   "source": [
    "def pd_print_full():\n",
    "    pd.set_option('display.max_rows', None)\n",
    "    pd.set_option('display.max_columns', None)\n",
    "    pd.set_option('display.width', 2000)\n",
    "    pd.set_option('display.float_format', '{:20,.2f}'.format)\n",
    "    pd.set_option('display.max_colwidth', None)\n",
    "    pd.reset_option('display.max_rows')\n",
    "    pd.reset_option('display.max_columns')\n",
    "    pd.reset_option('display.width')\n",
    "    pd.reset_option('display.float_format')\n",
    "    pd.reset_option('display.max_colwidth')"
   ]
  },
  {
   "cell_type": "markdown",
   "id": "994dd669",
   "metadata": {},
   "source": [
    "# Data \n",
    "\n",
    "## EDGAR XBRL Directory Indices"
   ]
  },
  {
   "cell_type": "raw",
   "id": "64d3b7e0",
   "metadata": {},
   "source": [
    "import pathlib\n",
    "years = [2010]\n",
    "qtrs = [1,2,3,4]\n",
    "for YEAR in years:\n",
    "    for QTR in qtrs:\n",
    "        print(\"-\" * 80)\n",
    "        print(f\"Processing {YEAR}/{QTR}\")\n",
    "        try:\n",
    "            listing = pd.read_csv(\n",
    "                f\"{DIR_CSV_LIST}/{YEAR}QTR{QTR}_XBRL.gz\", \n",
    "                sep=\"|\",\n",
    "                usecols=['CIK', 'Form Type', 'Date Filed', 'Filename'],\n",
    "                parse_dates=['Date Filed'],\n",
    "            )\n",
    "            print(listing)\n",
    "            answer = input()\n",
    "            if answer == 'Y':\n",
    "                pathlib.Path(f\"{DIR_CSV_LIST}/{YEAR}QTR{QTR}_XBRL.gz\").rename(\n",
    "                    f\"{DIR_CSV_LIST}/{YEAR}QTR{QTR}_LIST.gz\")\n",
    "        except Exception as e:\n",
    "            print(e)"
   ]
  },
  {
   "cell_type": "code",
   "execution_count": 7,
   "id": "80bc639b",
   "metadata": {},
   "outputs": [],
   "source": [
    "YEAR = 2019\n",
    "QTR=2\n",
    "listing = pd.read_csv(\n",
    "    f\"{DIR_CSV_LIST}/{YEAR}QTR{QTR}_LIST.gz\", \n",
    "    sep=\"|\",\n",
    "    usecols=['CIK', 'Form Type', 'Date Filed', 'Filename'],\n",
    "    parse_dates=['Date Filed'],\n",
    ")\n",
    "listing = listing.head(8)"
   ]
  },
  {
   "cell_type": "code",
   "execution_count": 8,
   "id": "592e57e8",
   "metadata": {},
   "outputs": [
    {
     "data": {
      "text/html": [
       "<div>\n",
       "<style scoped>\n",
       "    .dataframe tbody tr th:only-of-type {\n",
       "        vertical-align: middle;\n",
       "    }\n",
       "\n",
       "    .dataframe tbody tr th {\n",
       "        vertical-align: top;\n",
       "    }\n",
       "\n",
       "    .dataframe thead th {\n",
       "        text-align: right;\n",
       "    }\n",
       "</style>\n",
       "<table border=\"1\" class=\"dataframe\">\n",
       "  <thead>\n",
       "    <tr style=\"text-align: center;\">\n",
       "      <th></th>\n",
       "      <th>CIK</th>\n",
       "      <th>Form Type</th>\n",
       "      <th>Date Filed</th>\n",
       "      <th>Year</th>\n",
       "      <th>Quarter</th>\n",
       "      <th>Filename</th>\n",
       "      <th>Filepath</th>\n",
       "    </tr>\n",
       "  </thead>\n",
       "  <tbody>\n",
       "    <tr>\n",
       "      <th>0</th>\n",
       "      <td>1000045</td>\n",
       "      <td>10-K</td>\n",
       "      <td>2019-06-28</td>\n",
       "      <td>2019</td>\n",
       "      <td>2</td>\n",
       "      <td>https://sec.gov/Archives/edgar/data/1000045/000156459019023956/nick-20190331.xml</td>\n",
       "      <td>None</td>\n",
       "    </tr>\n",
       "    <tr>\n",
       "      <th>1</th>\n",
       "      <td>1000209</td>\n",
       "      <td>10-Q</td>\n",
       "      <td>2019-05-10</td>\n",
       "      <td>2019</td>\n",
       "      <td>2</td>\n",
       "      <td>https://sec.gov/Archives/edgar/data/1000209/000119312519144225/mfin-20190331.xml</td>\n",
       "      <td>None</td>\n",
       "    </tr>\n",
       "    <tr>\n",
       "      <th>2</th>\n",
       "      <td>1000228</td>\n",
       "      <td>10-Q</td>\n",
       "      <td>2019-05-07</td>\n",
       "      <td>2019</td>\n",
       "      <td>2</td>\n",
       "      <td>https://sec.gov/Archives/edgar/data/1000228/000100022819000030/hsic-20190330.xml</td>\n",
       "      <td>None</td>\n",
       "    </tr>\n",
       "    <tr>\n",
       "      <th>3</th>\n",
       "      <td>1000229</td>\n",
       "      <td>10-Q</td>\n",
       "      <td>2019-04-26</td>\n",
       "      <td>2019</td>\n",
       "      <td>2</td>\n",
       "      <td>https://sec.gov/Archives/edgar/data/1000229/000156459019013150/clb-20190331.xml</td>\n",
       "      <td>None</td>\n",
       "    </tr>\n",
       "    <tr>\n",
       "      <th>4</th>\n",
       "      <td>1000230</td>\n",
       "      <td>10-Q</td>\n",
       "      <td>2019-06-11</td>\n",
       "      <td>2019</td>\n",
       "      <td>2</td>\n",
       "      <td>https://sec.gov/Archives/edgar/data/1000230/000143774919011785/occ20190430b_10q_htm.xml</td>\n",
       "      <td>None</td>\n",
       "    </tr>\n",
       "    <tr>\n",
       "      <th>5</th>\n",
       "      <td>1000232</td>\n",
       "      <td>10-Q</td>\n",
       "      <td>2019-05-10</td>\n",
       "      <td>2019</td>\n",
       "      <td>2</td>\n",
       "      <td>https://sec.gov/Archives/edgar/data/1000232/000155837019004800/ktyb-20190331.xml</td>\n",
       "      <td>None</td>\n",
       "    </tr>\n",
       "    <tr>\n",
       "      <th>6</th>\n",
       "      <td>1000298</td>\n",
       "      <td>10-Q</td>\n",
       "      <td>2019-05-10</td>\n",
       "      <td>2019</td>\n",
       "      <td>2</td>\n",
       "      <td>https://sec.gov/Archives/edgar/data/1000298/000155837019004865/imh-20190331.xml</td>\n",
       "      <td>None</td>\n",
       "    </tr>\n",
       "    <tr>\n",
       "      <th>7</th>\n",
       "      <td>1000623</td>\n",
       "      <td>10-Q</td>\n",
       "      <td>2019-05-01</td>\n",
       "      <td>2019</td>\n",
       "      <td>2</td>\n",
       "      <td>https://sec.gov/Archives/edgar/data/1000623/000100062319000067/swm-20190331.xml</td>\n",
       "      <td>None</td>\n",
       "    </tr>\n",
       "  </tbody>\n",
       "</table>\n",
       "</div>"
      ],
      "text/plain": [
       "     CIK   Form Type Date Filed  Year Quarter  \\\n",
       "0  1000045    10-K   2019-06-28  2019     2     \n",
       "1  1000209    10-Q   2019-05-10  2019     2     \n",
       "2  1000228    10-Q   2019-05-07  2019     2     \n",
       "3  1000229    10-Q   2019-04-26  2019     2     \n",
       "4  1000230    10-Q   2019-06-11  2019     2     \n",
       "5  1000232    10-Q   2019-05-10  2019     2     \n",
       "6  1000298    10-Q   2019-05-10  2019     2     \n",
       "7  1000623    10-Q   2019-05-01  2019     2     \n",
       "\n",
       "                                          Filename                                          \\\n",
       "0         https://sec.gov/Archives/edgar/data/1000045/000156459019023956/nick-20190331.xml   \n",
       "1         https://sec.gov/Archives/edgar/data/1000209/000119312519144225/mfin-20190331.xml   \n",
       "2         https://sec.gov/Archives/edgar/data/1000228/000100022819000030/hsic-20190330.xml   \n",
       "3          https://sec.gov/Archives/edgar/data/1000229/000156459019013150/clb-20190331.xml   \n",
       "4  https://sec.gov/Archives/edgar/data/1000230/000143774919011785/occ20190430b_10q_htm.xml   \n",
       "5         https://sec.gov/Archives/edgar/data/1000232/000155837019004800/ktyb-20190331.xml   \n",
       "6          https://sec.gov/Archives/edgar/data/1000298/000155837019004865/imh-20190331.xml   \n",
       "7          https://sec.gov/Archives/edgar/data/1000623/000100062319000067/swm-20190331.xml   \n",
       "\n",
       "  Filepath  \n",
       "0   None    \n",
       "1   None    \n",
       "2   None    \n",
       "3   None    \n",
       "4   None    \n",
       "5   None    \n",
       "6   None    \n",
       "7   None    "
      ]
     },
     "execution_count": 8,
     "metadata": {},
     "output_type": "execute_result"
    }
   ],
   "source": [
    "listing.insert(loc=3, column='Year', value=pd.Categorical([YEAR]* len(listing)))\n",
    "listing.insert(loc=4, column='Quarter', value=pd.Categorical([QTR]* len(listing)))\n",
    "listing.insert(loc=len(listing.columns), column=\"Filepath\", value=[None]*len(listing))\n",
    "listing"
   ]
  },
  {
   "cell_type": "code",
   "execution_count": 9,
   "id": "2f3633ba",
   "metadata": {},
   "outputs": [
    {
     "name": "stderr",
     "output_type": "stream",
     "text": [
      "DEBUG:sec_edgar_utility:http_get_content(): GET url [https://sec.gov/Archives/edgar/data/1000045/000156459019023956/nick-20190331.xml] headers [{'User-Agent': 'Company Name myname@company.com'}]\n",
      "DEBUG:urllib3.connectionpool:Starting new HTTPS connection (1): sec.gov:443\n",
      "DEBUG:urllib3.connectionpool:https://sec.gov:443 \"GET /Archives/edgar/data/1000045/000156459019023956/nick-20190331.xml HTTP/1.1\" 301 0\n",
      "DEBUG:urllib3.connectionpool:Starting new HTTPS connection (1): www.sec.gov:443\n",
      "DEBUG:urllib3.connectionpool:https://www.sec.gov:443 \"GET /Archives/edgar/data/1000045/000156459019023956/nick-20190331.xml HTTP/1.1\" 200 94459\n"
     ]
    },
    {
     "name": "stdout",
     "output_type": "stream",
     "text": [
      "worker(): saving XML to [1000045/000156459019023956:nick-20190331.xml]...\n"
     ]
    },
    {
     "name": "stderr",
     "output_type": "stream",
     "text": [
      "DEBUG:__main__:worker(): saving XML to [1000045/000156459019023956:nick-20190331.xml]...\n",
      "DEBUG:root:save_to_xml(): saving XBRL XML to [/home/oonisim/home/repository/git/oonisim/python_programs/finance/SEC/EDGAR/data/xml/xbrl/1000045/000156459019023956/nick-20190331.xml.gz]...\n",
      "DEBUG:root:save_to_xml(): saved [/home/oonisim/home/repository/git/oonisim/python_programs/finance/SEC/EDGAR/data/xml/xbrl/1000045/000156459019023956/nick-20190331.xml.gz]\n",
      "DEBUG:sec_edgar_utility:http_get_content(): GET url [https://sec.gov/Archives/edgar/data/1000209/000119312519144225/mfin-20190331.xml] headers [{'User-Agent': 'Company Name myname@company.com'}]\n",
      "DEBUG:urllib3.connectionpool:Starting new HTTPS connection (1): sec.gov:443\n",
      "DEBUG:urllib3.connectionpool:https://sec.gov:443 \"GET /Archives/edgar/data/1000209/000119312519144225/mfin-20190331.xml HTTP/1.1\" 301 0\n",
      "DEBUG:urllib3.connectionpool:Starting new HTTPS connection (1): www.sec.gov:443\n",
      "DEBUG:urllib3.connectionpool:https://www.sec.gov:443 \"GET /Archives/edgar/data/1000209/000119312519144225/mfin-20190331.xml HTTP/1.1\" 200 None\n"
     ]
    },
    {
     "name": "stdout",
     "output_type": "stream",
     "text": [
      "worker(): saving XML to [1000209/000119312519144225:mfin-20190331.xml]...\n"
     ]
    },
    {
     "name": "stderr",
     "output_type": "stream",
     "text": [
      "DEBUG:__main__:worker(): saving XML to [1000209/000119312519144225:mfin-20190331.xml]...\n",
      "DEBUG:root:save_to_xml(): saving XBRL XML to [/home/oonisim/home/repository/git/oonisim/python_programs/finance/SEC/EDGAR/data/xml/xbrl/1000209/000119312519144225/mfin-20190331.xml.gz]...\n",
      "DEBUG:root:save_to_xml(): saved [/home/oonisim/home/repository/git/oonisim/python_programs/finance/SEC/EDGAR/data/xml/xbrl/1000209/000119312519144225/mfin-20190331.xml.gz]\n",
      "DEBUG:sec_edgar_utility:http_get_content(): GET url [https://sec.gov/Archives/edgar/data/1000228/000100022819000030/hsic-20190330.xml] headers [{'User-Agent': 'Company Name myname@company.com'}]\n",
      "DEBUG:urllib3.connectionpool:Starting new HTTPS connection (1): sec.gov:443\n",
      "DEBUG:urllib3.connectionpool:https://sec.gov:443 \"GET /Archives/edgar/data/1000228/000100022819000030/hsic-20190330.xml HTTP/1.1\" 301 0\n",
      "DEBUG:urllib3.connectionpool:Starting new HTTPS connection (1): www.sec.gov:443\n",
      "DEBUG:urllib3.connectionpool:https://www.sec.gov:443 \"GET /Archives/edgar/data/1000228/000100022819000030/hsic-20190330.xml HTTP/1.1\" 200 None\n"
     ]
    },
    {
     "name": "stdout",
     "output_type": "stream",
     "text": [
      "worker(): saving XML to [1000228/000100022819000030:hsic-20190330.xml]...\n"
     ]
    },
    {
     "name": "stderr",
     "output_type": "stream",
     "text": [
      "DEBUG:__main__:worker(): saving XML to [1000228/000100022819000030:hsic-20190330.xml]...\n",
      "DEBUG:root:save_to_xml(): saving XBRL XML to [/home/oonisim/home/repository/git/oonisim/python_programs/finance/SEC/EDGAR/data/xml/xbrl/1000228/000100022819000030/hsic-20190330.xml.gz]...\n",
      "DEBUG:root:save_to_xml(): saved [/home/oonisim/home/repository/git/oonisim/python_programs/finance/SEC/EDGAR/data/xml/xbrl/1000228/000100022819000030/hsic-20190330.xml.gz]\n",
      "DEBUG:sec_edgar_utility:http_get_content(): GET url [https://sec.gov/Archives/edgar/data/1000229/000156459019013150/clb-20190331.xml] headers [{'User-Agent': 'Company Name myname@company.com'}]\n",
      "DEBUG:urllib3.connectionpool:Starting new HTTPS connection (1): sec.gov:443\n",
      "DEBUG:urllib3.connectionpool:https://sec.gov:443 \"GET /Archives/edgar/data/1000229/000156459019013150/clb-20190331.xml HTTP/1.1\" 301 0\n",
      "DEBUG:urllib3.connectionpool:Starting new HTTPS connection (1): www.sec.gov:443\n",
      "DEBUG:urllib3.connectionpool:https://www.sec.gov:443 \"GET /Archives/edgar/data/1000229/000156459019013150/clb-20190331.xml HTTP/1.1\" 200 None\n"
     ]
    },
    {
     "name": "stdout",
     "output_type": "stream",
     "text": [
      "worker(): saving XML to [1000229/000156459019013150:clb-20190331.xml]...\n"
     ]
    },
    {
     "name": "stderr",
     "output_type": "stream",
     "text": [
      "DEBUG:__main__:worker(): saving XML to [1000229/000156459019013150:clb-20190331.xml]...\n",
      "DEBUG:root:save_to_xml(): saving XBRL XML to [/home/oonisim/home/repository/git/oonisim/python_programs/finance/SEC/EDGAR/data/xml/xbrl/1000229/000156459019013150/clb-20190331.xml.gz]...\n",
      "DEBUG:root:save_to_xml(): saved [/home/oonisim/home/repository/git/oonisim/python_programs/finance/SEC/EDGAR/data/xml/xbrl/1000229/000156459019013150/clb-20190331.xml.gz]\n",
      "DEBUG:sec_edgar_utility:http_get_content(): GET url [https://sec.gov/Archives/edgar/data/1000230/000143774919011785/occ20190430b_10q_htm.xml] headers [{'User-Agent': 'Company Name myname@company.com'}]\n",
      "DEBUG:urllib3.connectionpool:Starting new HTTPS connection (1): sec.gov:443\n",
      "DEBUG:urllib3.connectionpool:https://sec.gov:443 \"GET /Archives/edgar/data/1000230/000143774919011785/occ20190430b_10q_htm.xml HTTP/1.1\" 301 0\n",
      "DEBUG:urllib3.connectionpool:Starting new HTTPS connection (1): www.sec.gov:443\n",
      "DEBUG:urllib3.connectionpool:https://www.sec.gov:443 \"GET /Archives/edgar/data/1000230/000143774919011785/occ20190430b_10q_htm.xml HTTP/1.1\" 200 24417\n"
     ]
    },
    {
     "name": "stdout",
     "output_type": "stream",
     "text": [
      "worker(): saving XML to [1000230/000143774919011785:occ20190430b_10q_htm.xml]...\n"
     ]
    },
    {
     "name": "stderr",
     "output_type": "stream",
     "text": [
      "DEBUG:__main__:worker(): saving XML to [1000230/000143774919011785:occ20190430b_10q_htm.xml]...\n",
      "DEBUG:root:save_to_xml(): saving XBRL XML to [/home/oonisim/home/repository/git/oonisim/python_programs/finance/SEC/EDGAR/data/xml/xbrl/1000230/000143774919011785/occ20190430b_10q_htm.xml.gz]...\n",
      "DEBUG:root:save_to_xml(): saved [/home/oonisim/home/repository/git/oonisim/python_programs/finance/SEC/EDGAR/data/xml/xbrl/1000230/000143774919011785/occ20190430b_10q_htm.xml.gz]\n",
      "DEBUG:sec_edgar_utility:http_get_content(): GET url [https://sec.gov/Archives/edgar/data/1000232/000155837019004800/ktyb-20190331.xml] headers [{'User-Agent': 'Company Name myname@company.com'}]\n",
      "DEBUG:urllib3.connectionpool:Starting new HTTPS connection (1): sec.gov:443\n",
      "DEBUG:urllib3.connectionpool:https://sec.gov:443 \"GET /Archives/edgar/data/1000232/000155837019004800/ktyb-20190331.xml HTTP/1.1\" 301 0\n",
      "DEBUG:urllib3.connectionpool:Starting new HTTPS connection (1): www.sec.gov:443\n",
      "DEBUG:urllib3.connectionpool:https://www.sec.gov:443 \"GET /Archives/edgar/data/1000232/000155837019004800/ktyb-20190331.xml HTTP/1.1\" 200 None\n"
     ]
    },
    {
     "name": "stdout",
     "output_type": "stream",
     "text": [
      "worker(): saving XML to [1000232/000155837019004800:ktyb-20190331.xml]...\n"
     ]
    },
    {
     "name": "stderr",
     "output_type": "stream",
     "text": [
      "DEBUG:__main__:worker(): saving XML to [1000232/000155837019004800:ktyb-20190331.xml]...\n",
      "DEBUG:root:save_to_xml(): saving XBRL XML to [/home/oonisim/home/repository/git/oonisim/python_programs/finance/SEC/EDGAR/data/xml/xbrl/1000232/000155837019004800/ktyb-20190331.xml.gz]...\n",
      "DEBUG:root:save_to_xml(): saved [/home/oonisim/home/repository/git/oonisim/python_programs/finance/SEC/EDGAR/data/xml/xbrl/1000232/000155837019004800/ktyb-20190331.xml.gz]\n",
      "DEBUG:sec_edgar_utility:http_get_content(): GET url [https://sec.gov/Archives/edgar/data/1000298/000155837019004865/imh-20190331.xml] headers [{'User-Agent': 'Company Name myname@company.com'}]\n",
      "DEBUG:urllib3.connectionpool:Starting new HTTPS connection (1): sec.gov:443\n",
      "DEBUG:urllib3.connectionpool:https://sec.gov:443 \"GET /Archives/edgar/data/1000298/000155837019004865/imh-20190331.xml HTTP/1.1\" 301 0\n",
      "DEBUG:urllib3.connectionpool:Starting new HTTPS connection (1): www.sec.gov:443\n",
      "DEBUG:urllib3.connectionpool:https://www.sec.gov:443 \"GET /Archives/edgar/data/1000298/000155837019004865/imh-20190331.xml HTTP/1.1\" 200 None\n"
     ]
    },
    {
     "name": "stdout",
     "output_type": "stream",
     "text": [
      "worker(): saving XML to [1000298/000155837019004865:imh-20190331.xml]...\n"
     ]
    },
    {
     "name": "stderr",
     "output_type": "stream",
     "text": [
      "DEBUG:__main__:worker(): saving XML to [1000298/000155837019004865:imh-20190331.xml]...\n",
      "DEBUG:root:save_to_xml(): saving XBRL XML to [/home/oonisim/home/repository/git/oonisim/python_programs/finance/SEC/EDGAR/data/xml/xbrl/1000298/000155837019004865/imh-20190331.xml.gz]...\n",
      "DEBUG:root:save_to_xml(): saved [/home/oonisim/home/repository/git/oonisim/python_programs/finance/SEC/EDGAR/data/xml/xbrl/1000298/000155837019004865/imh-20190331.xml.gz]\n",
      "DEBUG:sec_edgar_utility:http_get_content(): GET url [https://sec.gov/Archives/edgar/data/1000623/000100062319000067/swm-20190331.xml] headers [{'User-Agent': 'Company Name myname@company.com'}]\n",
      "DEBUG:urllib3.connectionpool:Starting new HTTPS connection (1): sec.gov:443\n",
      "DEBUG:urllib3.connectionpool:https://sec.gov:443 \"GET /Archives/edgar/data/1000623/000100062319000067/swm-20190331.xml HTTP/1.1\" 301 0\n",
      "DEBUG:urllib3.connectionpool:Starting new HTTPS connection (1): www.sec.gov:443\n",
      "DEBUG:urllib3.connectionpool:https://www.sec.gov:443 \"GET /Archives/edgar/data/1000623/000100062319000067/swm-20190331.xml HTTP/1.1\" 200 None\n"
     ]
    },
    {
     "name": "stdout",
     "output_type": "stream",
     "text": [
      "worker(): saving XML to [1000623/000100062319000067:swm-20190331.xml]...\n"
     ]
    },
    {
     "name": "stderr",
     "output_type": "stream",
     "text": [
      "DEBUG:__main__:worker(): saving XML to [1000623/000100062319000067:swm-20190331.xml]...\n",
      "DEBUG:root:save_to_xml(): saving XBRL XML to [/home/oonisim/home/repository/git/oonisim/python_programs/finance/SEC/EDGAR/data/xml/xbrl/1000623/000100062319000067/swm-20190331.xml.gz]...\n",
      "DEBUG:root:save_to_xml(): saved [/home/oonisim/home/repository/git/oonisim/python_programs/finance/SEC/EDGAR/data/xml/xbrl/1000623/000100062319000067/swm-20190331.xml.gz]\n"
     ]
    }
   ],
   "source": [
    "for index, row in listing.iterrows():\n",
    "    # --------------------------------------------------------------------------------\n",
    "    # Download XBRL XML\n",
    "    # --------------------------------------------------------------------------------\n",
    "    url = row['Filename']\n",
    "    content = http_get_content(url, EDGAR_HTTP_HEADERS)\n",
    "\n",
    "    # --------------------------------------------------------------------------------\n",
    "    # Save\n",
    "    # --------------------------------------------------------------------------------\n",
    "    elements = url.split('/')\n",
    "    basename = elements[-1]\n",
    "    accession = elements[-2]\n",
    "    cik = elements[-3]\n",
    "    assert str(row['CIK']) == cik, f\"CIK [{row['CIK']})] must match CIK part [{cik}] in url {url}\"\n",
    "\n",
    "    output_xml_directory = DIR_XML_XBRL\n",
    "    directory = f\"{cik}{os.sep}{accession}\"\n",
    "    Logger.debug(f\"worker(): saving XML to [{directory}:{basename}]...\")\n",
    "\n",
    "    package = {\n",
    "        \"data\": content,\n",
    "        \"output_xml_directory\": output_xml_directory,\n",
    "        \"directory\": directory,\n",
    "        \"basename\": basename\n",
    "    }\n",
    "    filepath = save_to_xml(package)\n",
    "    assert not filepath.startswith(\"/\"), f\"{filepath}\"\n",
    "    \n",
    "    listing.at[index, 'Filepath'] = filepath"
   ]
  },
  {
   "cell_type": "code",
   "execution_count": 10,
   "id": "2f26833c",
   "metadata": {},
   "outputs": [
    {
     "data": {
      "text/plain": [
       "False"
      ]
     },
     "execution_count": 10,
     "metadata": {},
     "output_type": "execute_result"
    }
   ],
   "source": [
    "any(listing['Filepath'].isna())"
   ]
  },
  {
   "cell_type": "code",
   "execution_count": 16,
   "id": "de51e305",
   "metadata": {},
   "outputs": [],
   "source": [
    "YEAR = 2010\n",
    "QTR=1\n",
    "listing = pd.read_csv(\n",
    "    f\"{DIR_CSV_XBRL}/{YEAR}QTR{QTR}_XBRL.gz\", \n",
    "    sep=\"|\",\n",
    ")"
   ]
  },
  {
   "cell_type": "code",
   "execution_count": 17,
   "id": "70567ed0",
   "metadata": {},
   "outputs": [
    {
     "data": {
      "text/html": [
       "<div>\n",
       "<style scoped>\n",
       "    .dataframe tbody tr th:only-of-type {\n",
       "        vertical-align: middle;\n",
       "    }\n",
       "\n",
       "    .dataframe tbody tr th {\n",
       "        vertical-align: top;\n",
       "    }\n",
       "\n",
       "    .dataframe thead th {\n",
       "        text-align: right;\n",
       "    }\n",
       "</style>\n",
       "<table border=\"1\" class=\"dataframe\">\n",
       "  <thead>\n",
       "    <tr style=\"text-align: center;\">\n",
       "      <th></th>\n",
       "      <th>CIK</th>\n",
       "      <th>Company Name</th>\n",
       "      <th>Form Type</th>\n",
       "      <th>Year</th>\n",
       "      <th>Quarter</th>\n",
       "      <th>Date Filed</th>\n",
       "      <th>Filename</th>\n",
       "      <th>Filepath</th>\n",
       "    </tr>\n",
       "  </thead>\n",
       "  <tbody>\n",
       "    <tr>\n",
       "      <th>0</th>\n",
       "      <td>1002638</td>\n",
       "      <td>OPEN TEXT CORP</td>\n",
       "      <td>10-Q</td>\n",
       "      <td>2010</td>\n",
       "      <td>1</td>\n",
       "      <td>2010-02-04</td>\n",
       "      <td>https://sec.gov/Archives/edgar/data/1002638/000119312510021715/otex-20091231.xml</td>\n",
       "      <td>1002638/000119312510021715/otex-20091231.xml.gz</td>\n",
       "    </tr>\n",
       "    <tr>\n",
       "      <th>1</th>\n",
       "      <td>1001039</td>\n",
       "      <td>WALT DISNEY CO/</td>\n",
       "      <td>10-Q</td>\n",
       "      <td>2010</td>\n",
       "      <td>1</td>\n",
       "      <td>2010-02-09</td>\n",
       "      <td>https://sec.gov/Archives/edgar/data/1001039/000119312510025949/dis-20100102.xml</td>\n",
       "      <td>1001039/000119312510025949/dis-20100102.xml.gz</td>\n",
       "    </tr>\n",
       "    <tr>\n",
       "      <th>2</th>\n",
       "      <td>1001082</td>\n",
       "      <td>DISH Network CORP</td>\n",
       "      <td>10-K</td>\n",
       "      <td>2010</td>\n",
       "      <td>1</td>\n",
       "      <td>2010-03-01</td>\n",
       "      <td>https://sec.gov/Archives/edgar/data/1001082/000095012310018671/dish-20091231.xml</td>\n",
       "      <td>1001082/000095012310018671/dish-20091231.xml.gz</td>\n",
       "    </tr>\n",
       "    <tr>\n",
       "      <th>3</th>\n",
       "      <td>1000697</td>\n",
       "      <td>WATERS CORP /DE/</td>\n",
       "      <td>10-K</td>\n",
       "      <td>2010</td>\n",
       "      <td>1</td>\n",
       "      <td>2010-02-26</td>\n",
       "      <td>https://sec.gov/Archives/edgar/data/1000697/000095012310017583/wat-20091231.xml</td>\n",
       "      <td>1000697/000095012310017583/wat-20091231.xml.gz</td>\n",
       "    </tr>\n",
       "    <tr>\n",
       "      <th>4</th>\n",
       "      <td>1004155</td>\n",
       "      <td>AGL RESOURCES INC</td>\n",
       "      <td>10-K</td>\n",
       "      <td>2010</td>\n",
       "      <td>1</td>\n",
       "      <td>2010-02-04</td>\n",
       "      <td>https://sec.gov/Archives/edgar/data/1004155/000100415510000016/agl-20091231.xml</td>\n",
       "      <td>1004155/000100415510000016/agl-20091231.xml.gz</td>\n",
       "    </tr>\n",
       "    <tr>\n",
       "      <th>5</th>\n",
       "      <td>1001838</td>\n",
       "      <td>SOUTHERN COPPER CORP/</td>\n",
       "      <td>10-K</td>\n",
       "      <td>2010</td>\n",
       "      <td>1</td>\n",
       "      <td>2010-02-26</td>\n",
       "      <td>https://sec.gov/Archives/edgar/data/1001838/000110465910010334/scco-20091231.xml</td>\n",
       "      <td>1001838/000110465910010334/scco-20091231.xml.gz</td>\n",
       "    </tr>\n",
       "    <tr>\n",
       "      <th>6</th>\n",
       "      <td>1004440</td>\n",
       "      <td>CONSTELLATION ENERGY GROUP INC</td>\n",
       "      <td>10-K</td>\n",
       "      <td>2010</td>\n",
       "      <td>1</td>\n",
       "      <td>2010-02-26</td>\n",
       "      <td>https://sec.gov/Archives/edgar/data/1004440/000104746910001515/ceg-20091231.xml</td>\n",
       "      <td>1004440/000104746910001515/ceg-20091231.xml.gz</td>\n",
       "    </tr>\n",
       "    <tr>\n",
       "      <th>7</th>\n",
       "      <td>1002910</td>\n",
       "      <td>AMEREN CORP</td>\n",
       "      <td>10-K</td>\n",
       "      <td>2010</td>\n",
       "      <td>1</td>\n",
       "      <td>2010-02-26</td>\n",
       "      <td>https://sec.gov/Archives/edgar/data/1002910/000119312510043155/aee-20091231.xml</td>\n",
       "      <td>1002910/000119312510043155/aee-20091231.xml.gz</td>\n",
       "    </tr>\n",
       "  </tbody>\n",
       "</table>\n",
       "</div>"
      ],
      "text/plain": [
       "     CIK             Company Name          Form Type  Year  Quarter  \\\n",
       "0  1002638                  OPEN TEXT CORP    10-Q    2010     1      \n",
       "1  1001039                 WALT DISNEY CO/    10-Q    2010     1      \n",
       "2  1001082               DISH Network CORP    10-K    2010     1      \n",
       "3  1000697                WATERS CORP /DE/    10-K    2010     1      \n",
       "4  1004155               AGL RESOURCES INC    10-K    2010     1      \n",
       "5  1001838           SOUTHERN COPPER CORP/    10-K    2010     1      \n",
       "6  1004440  CONSTELLATION ENERGY GROUP INC    10-K    2010     1      \n",
       "7  1002910                     AMEREN CORP    10-K    2010     1      \n",
       "\n",
       "   Date Filed  \\\n",
       "0  2010-02-04   \n",
       "1  2010-02-09   \n",
       "2  2010-03-01   \n",
       "3  2010-02-26   \n",
       "4  2010-02-04   \n",
       "5  2010-02-26   \n",
       "6  2010-02-26   \n",
       "7  2010-02-26   \n",
       "\n",
       "                                       Filename                                      \\\n",
       "0  https://sec.gov/Archives/edgar/data/1002638/000119312510021715/otex-20091231.xml   \n",
       "1   https://sec.gov/Archives/edgar/data/1001039/000119312510025949/dis-20100102.xml   \n",
       "2  https://sec.gov/Archives/edgar/data/1001082/000095012310018671/dish-20091231.xml   \n",
       "3   https://sec.gov/Archives/edgar/data/1000697/000095012310017583/wat-20091231.xml   \n",
       "4   https://sec.gov/Archives/edgar/data/1004155/000100415510000016/agl-20091231.xml   \n",
       "5  https://sec.gov/Archives/edgar/data/1001838/000110465910010334/scco-20091231.xml   \n",
       "6   https://sec.gov/Archives/edgar/data/1004440/000104746910001515/ceg-20091231.xml   \n",
       "7   https://sec.gov/Archives/edgar/data/1002910/000119312510043155/aee-20091231.xml   \n",
       "\n",
       "                      Filepath                      \n",
       "0  1002638/000119312510021715/otex-20091231.xml.gz  \n",
       "1   1001039/000119312510025949/dis-20100102.xml.gz  \n",
       "2  1001082/000095012310018671/dish-20091231.xml.gz  \n",
       "3   1000697/000095012310017583/wat-20091231.xml.gz  \n",
       "4   1004155/000100415510000016/agl-20091231.xml.gz  \n",
       "5  1001838/000110465910010334/scco-20091231.xml.gz  \n",
       "6   1004440/000104746910001515/ceg-20091231.xml.gz  \n",
       "7   1002910/000119312510043155/aee-20091231.xml.gz  "
      ]
     },
     "execution_count": 17,
     "metadata": {},
     "output_type": "execute_result"
    }
   ],
   "source": [
    "listing"
   ]
  },
  {
   "cell_type": "code",
   "execution_count": null,
   "id": "3d083f55",
   "metadata": {},
   "outputs": [],
   "source": []
  },
  {
   "cell_type": "markdown",
   "id": "appointed-remark",
   "metadata": {},
   "source": [
    "\n",
    "\n",
    "---"
   ]
  }
 ],
 "metadata": {
  "kernelspec": {
   "display_name": "Python 3 (ipykernel)",
   "language": "python",
   "name": "python3"
  },
  "language_info": {
   "codemirror_mode": {
    "name": "ipython",
    "version": 3
   },
   "file_extension": ".py",
   "mimetype": "text/x-python",
   "name": "python",
   "nbconvert_exporter": "python",
   "pygments_lexer": "ipython3",
   "version": "3.8.10"
  }
 },
 "nbformat": 4,
 "nbformat_minor": 5
}
