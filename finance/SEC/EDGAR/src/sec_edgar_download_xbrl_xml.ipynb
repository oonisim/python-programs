{
 "cells": [
  {
   "cell_type": "markdown",
   "id": "threatened-benefit",
   "metadata": {},
   "source": [
    "# EDGAR XBRL XML URL\n",
    "\n",
    "Generate URLs to the XBRL XML files in the fileing directory in a parallel processing manner using Ray."
   ]
  },
  {
   "cell_type": "code",
   "execution_count": null,
   "id": "cardiovascular-trailer",
   "metadata": {},
   "outputs": [],
   "source": [
    "# !pip install -q ray"
   ]
  },
  {
   "cell_type": "code",
   "execution_count": 1,
   "id": "0d0b5db5",
   "metadata": {},
   "outputs": [],
   "source": [
    "from typing import (\n",
    "    List,\n",
    "    Dict,\n",
    "    Iterable\n",
    ")\n",
    "import os\n",
    "import sys\n",
    "import random\n",
    "import logging\n",
    "import time\n",
    "import re\n",
    "import requests\n",
    "import bs4\n",
    "from bs4 import BeautifulSoup\n",
    "import numpy as np\n",
    "import pandas as pd\n",
    "import ray"
   ]
  },
  {
   "cell_type": "code",
   "execution_count": 2,
   "id": "1e331029",
   "metadata": {},
   "outputs": [],
   "source": [
    "pd.set_option('display.float_format', lambda x: ('%f' % x).rstrip('0').rstrip('.'))\n",
    "pd.set_option('display.colheader_justify', 'center')\n",
    "pd.set_option('display.max_columns', None)  \n",
    "\n",
    "logging.basicConfig(level=logging.DEBUG)\n",
    "handler = logging.StreamHandler(sys.stdout)\n",
    "\n",
    "Logger = logging.getLogger(__name__)\n",
    "Logger.addHandler(handler)"
   ]
  },
  {
   "cell_type": "code",
   "execution_count": 3,
   "id": "aa9ad50b",
   "metadata": {},
   "outputs": [
    {
     "name": "stdout",
     "output_type": "stream",
     "text": [
      "test\n"
     ]
    },
    {
     "name": "stderr",
     "output_type": "stream",
     "text": [
      "DEBUG:__main__:test\n"
     ]
    }
   ],
   "source": [
    "Logger.debug(\"test\")"
   ]
  },
  {
   "cell_type": "code",
   "execution_count": 4,
   "id": "03d8559f",
   "metadata": {},
   "outputs": [],
   "source": [
    "from sec_edgar_constant import (\n",
    "    NUM_CPUS,\n",
    "    FS_TYPE_10K,\n",
    "    FS_TYPE_10Q,\n",
    "    EDGAR_HTTP_HEADERS,\n",
    "    DATA_DIR_LISTING,\n",
    "    DATA_DIR_XBRL,\n",
    ")\n",
    "from sec_edgar_utility import (\n",
    "    split,\n",
    "    http_get_content,\n",
    ")\n",
    "from sec_edgar_download_xbrl_xml import (\n",
    "    save_to_xml,\n",
    "    worker,\n",
    ")"
   ]
  },
  {
   "cell_type": "code",
   "execution_count": 5,
   "id": "79ceef80",
   "metadata": {},
   "outputs": [],
   "source": [
    "def pd_print_full():\n",
    "    pd.set_option('display.max_rows', None)\n",
    "    pd.set_option('display.max_columns', None)\n",
    "    pd.set_option('display.width', 2000)\n",
    "    pd.set_option('display.float_format', '{:20,.2f}'.format)\n",
    "    pd.set_option('display.max_colwidth', None)\n",
    "    pd.reset_option('display.max_rows')\n",
    "    pd.reset_option('display.max_columns')\n",
    "    pd.reset_option('display.width')\n",
    "    pd.reset_option('display.float_format')\n",
    "    pd.reset_option('display.max_colwidth')"
   ]
  },
  {
   "cell_type": "markdown",
   "id": "994dd669",
   "metadata": {},
   "source": [
    "# Data \n",
    "\n",
    "## EDGAR XBRL Directory Indices"
   ]
  },
  {
   "cell_type": "code",
   "execution_count": 31,
   "id": "2b87f146",
   "metadata": {},
   "outputs": [
    {
     "name": "stdout",
     "output_type": "stream",
     "text": [
      "--------------------------------------------------------------------------------\n",
      "Processing 2010/1\n",
      "       CIK   Form Type Date Filed  \\\n",
      "0    1000697    10-K   2010-02-26   \n",
      "1    1001039    10-Q   2010-02-09   \n",
      "2    1001082    10-K   2010-03-01   \n",
      "3    1001838    10-K   2010-02-26   \n",
      "4    1002638    10-Q   2010-02-04   \n",
      "..       ...       ...        ...   \n",
      "508    96223    10-K   2010-02-26   \n",
      "509    97216    10-K   2010-02-24   \n",
      "510    97476    10-K   2010-02-23   \n",
      "511    97745    10-K   2010-02-26   \n",
      "512     9892    10-K   2010-02-25   \n",
      "\n",
      "                                         Filename                                      \n",
      "0     https://sec.gov/Archives/edgar/data/1000697/000095012310017583/wat-20091231.xml  \n",
      "1     https://sec.gov/Archives/edgar/data/1001039/000119312510025949/dis-20100102.xml  \n",
      "2    https://sec.gov/Archives/edgar/data/1001082/000095012310018671/dish-20091231.xml  \n",
      "3    https://sec.gov/Archives/edgar/data/1001838/000110465910010334/scco-20091231.xml  \n",
      "4    https://sec.gov/Archives/edgar/data/1002638/000119312510021715/otex-20091231.xml  \n",
      "..                                                                                ...  \n",
      "508     https://sec.gov/Archives/edgar/data/96223/000009622310000004/luk-20091231.xml  \n",
      "509     https://sec.gov/Archives/edgar/data/97216/000110465910009153/tex-20091231.xml  \n",
      "510     https://sec.gov/Archives/edgar/data/97476/000114036110007923/txn-20091231.xml  \n",
      "511     https://sec.gov/Archives/edgar/data/97745/000009774510000008/tmo-20091231.xml  \n",
      "512      https://sec.gov/Archives/edgar/data/9892/000119312510039864/bcr-20091231.xml  \n",
      "\n",
      "[513 rows x 4 columns]\n",
      "Y\n",
      "--------------------------------------------------------------------------------\n",
      "Processing 2010/2\n",
      "[Errno 2] No such file or directory: '/home/oonisim/home/repository/git/oonisim/python_programs/finance/SEC/EDGAR/src/../data/listing/2010QTR2_XBRL.gz'\n",
      "--------------------------------------------------------------------------------\n",
      "Processing 2010/3\n",
      "[Errno 2] No such file or directory: '/home/oonisim/home/repository/git/oonisim/python_programs/finance/SEC/EDGAR/src/../data/listing/2010QTR3_XBRL.gz'\n",
      "--------------------------------------------------------------------------------\n",
      "Processing 2010/4\n",
      "[Errno 2] No such file or directory: '/home/oonisim/home/repository/git/oonisim/python_programs/finance/SEC/EDGAR/src/../data/listing/2010QTR4_XBRL.gz'\n"
     ]
    }
   ],
   "source": [
    "import pathlib\n",
    "years = [2010]\n",
    "qtrs = [1,2,3,4]\n",
    "for YEAR in years:\n",
    "    for QTR in qtrs:\n",
    "        print(\"-\" * 80)\n",
    "        print(f\"Processing {YEAR}/{QTR}\")\n",
    "        try:\n",
    "            listing = pd.read_csv(\n",
    "                f\"{DATA_DIR_LISTING}/{YEAR}QTR{QTR}_XBRL.gz\", \n",
    "                sep=\"|\",\n",
    "                usecols=['CIK', 'Form Type', 'Date Filed', 'Filename'],\n",
    "                parse_dates=['Date Filed'],\n",
    "            )\n",
    "            print(listing)\n",
    "            answer = input()\n",
    "            if answer == 'Y':\n",
    "                pathlib.Path(f\"{DATA_DIR_LISTING}/{YEAR}QTR{QTR}_XBRL.gz\").rename(\n",
    "                    f\"{DATA_DIR_LISTING}/{YEAR}QTR{QTR}_LIST.gz\")\n",
    "        except Exception as e:\n",
    "            print(e)"
   ]
  },
  {
   "cell_type": "code",
   "execution_count": 54,
   "id": "201931fc",
   "metadata": {},
   "outputs": [
    {
     "name": "stderr",
     "output_type": "stream",
     "text": [
      "/tmp/ipykernel_51284/2532396748.py:2: SettingWithCopyWarning: \n",
      "A value is trying to be set on a copy of a slice from a DataFrame.\n",
      "Try using .loc[row_indexer,col_indexer] = value instead\n",
      "\n",
      "See the caveats in the documentation: https://pandas.pydata.org/pandas-docs/stable/user_guide/indexing.html#returning-a-view-versus-a-copy\n",
      "  df['Filename'] = df['Filename'].apply(lambda x: None)\n"
     ]
    },
    {
     "data": {
      "text/html": [
       "<div>\n",
       "<style scoped>\n",
       "    .dataframe tbody tr th:only-of-type {\n",
       "        vertical-align: middle;\n",
       "    }\n",
       "\n",
       "    .dataframe tbody tr th {\n",
       "        vertical-align: top;\n",
       "    }\n",
       "\n",
       "    .dataframe thead th {\n",
       "        text-align: right;\n",
       "    }\n",
       "</style>\n",
       "<table border=\"1\" class=\"dataframe\">\n",
       "  <thead>\n",
       "    <tr style=\"text-align: center;\">\n",
       "      <th></th>\n",
       "      <th>CIK</th>\n",
       "      <th>Form Type</th>\n",
       "      <th>Date Filed</th>\n",
       "      <th>Filename</th>\n",
       "    </tr>\n",
       "  </thead>\n",
       "  <tbody>\n",
       "    <tr>\n",
       "      <th>451</th>\n",
       "      <td>8868</td>\n",
       "      <td>10-K</td>\n",
       "      <td>2010-02-25</td>\n",
       "      <td>None</td>\n",
       "    </tr>\n",
       "  </tbody>\n",
       "</table>\n",
       "</div>"
      ],
      "text/plain": [
       "      CIK Form Type Date Filed Filename\n",
       "451  8868    10-K   2010-02-25   None  "
      ]
     },
     "execution_count": 54,
     "metadata": {},
     "output_type": "execute_result"
    }
   ],
   "source": [
    "\n",
    "df = listing[listing['CIK'] == 8868]\n",
    "df['Filename'] = df['Filename'].apply(lambda x: None)\n",
    "df.loc[df['Filename'].isna()]"
   ]
  },
  {
   "cell_type": "code",
   "execution_count": 9,
   "id": "2f3633ba",
   "metadata": {},
   "outputs": [
    {
     "name": "stderr",
     "output_type": "stream",
     "text": [
      "DEBUG:sec_edgar_utility:http_get_content(): GET url [https://sec.gov/Archives/edgar/data/1000697/000095012310017583/wat-20091231.xml] headers [{'User-Agent': 'Company Name myname@company.com'}]\n",
      "DEBUG:urllib3.connectionpool:Starting new HTTPS connection (1): sec.gov:443\n",
      "DEBUG:urllib3.connectionpool:https://sec.gov:443 \"GET /Archives/edgar/data/1000697/000095012310017583/wat-20091231.xml HTTP/1.1\" 301 0\n",
      "DEBUG:urllib3.connectionpool:Starting new HTTPS connection (1): www.sec.gov:443\n",
      "DEBUG:urllib3.connectionpool:https://www.sec.gov:443 \"GET /Archives/edgar/data/1000697/000095012310017583/wat-20091231.xml HTTP/1.1\" 200 76282\n"
     ]
    },
    {
     "name": "stdout",
     "output_type": "stream",
     "text": [
      "worker(): saving XML to [/home/oonisim/home/repository/git/oonisim/python_programs/finance/SEC/EDGAR/src/../data/XBRL/1000697/000095012310017583:wat-20091231.xml]...\n"
     ]
    },
    {
     "name": "stderr",
     "output_type": "stream",
     "text": [
      "DEBUG:__main__:worker(): saving XML to [/home/oonisim/home/repository/git/oonisim/python_programs/finance/SEC/EDGAR/src/../data/XBRL/1000697/000095012310017583:wat-20091231.xml]...\n",
      "DEBUG:sec_edgar_download_xbrl_xml:save_to_xml(): saving XML to [/home/oonisim/home/repository/git/oonisim/python_programs/finance/SEC/EDGAR/src/../data/XBRL/1000697/000095012310017583/wat-20091231.xml]...\n",
      "DEBUG:sec_edgar_utility:http_get_content(): GET url [https://sec.gov/Archives/edgar/data/1001039/000119312510025949/dis-20100102.xml] headers [{'User-Agent': 'Company Name myname@company.com'}]\n",
      "DEBUG:urllib3.connectionpool:Starting new HTTPS connection (1): sec.gov:443\n",
      "DEBUG:urllib3.connectionpool:https://sec.gov:443 \"GET /Archives/edgar/data/1001039/000119312510025949/dis-20100102.xml HTTP/1.1\" 301 0\n",
      "DEBUG:urllib3.connectionpool:Starting new HTTPS connection (1): www.sec.gov:443\n",
      "DEBUG:urllib3.connectionpool:https://www.sec.gov:443 \"GET /Archives/edgar/data/1001039/000119312510025949/dis-20100102.xml HTTP/1.1\" 200 27645\n"
     ]
    },
    {
     "name": "stdout",
     "output_type": "stream",
     "text": [
      "worker(): saving XML to [/home/oonisim/home/repository/git/oonisim/python_programs/finance/SEC/EDGAR/src/../data/XBRL/1001039/000119312510025949:dis-20100102.xml]...\n"
     ]
    },
    {
     "name": "stderr",
     "output_type": "stream",
     "text": [
      "DEBUG:__main__:worker(): saving XML to [/home/oonisim/home/repository/git/oonisim/python_programs/finance/SEC/EDGAR/src/../data/XBRL/1001039/000119312510025949:dis-20100102.xml]...\n",
      "DEBUG:sec_edgar_download_xbrl_xml:save_to_xml(): saving XML to [/home/oonisim/home/repository/git/oonisim/python_programs/finance/SEC/EDGAR/src/../data/XBRL/1001039/000119312510025949/dis-20100102.xml]...\n",
      "DEBUG:sec_edgar_utility:http_get_content(): GET url [https://sec.gov/Archives/edgar/data/1001082/000095012310018671/dish-20091231.xml] headers [{'User-Agent': 'Company Name myname@company.com'}]\n",
      "DEBUG:urllib3.connectionpool:Starting new HTTPS connection (1): sec.gov:443\n",
      "DEBUG:urllib3.connectionpool:https://sec.gov:443 \"GET /Archives/edgar/data/1001082/000095012310018671/dish-20091231.xml HTTP/1.1\" 301 0\n",
      "DEBUG:urllib3.connectionpool:Starting new HTTPS connection (1): www.sec.gov:443\n",
      "DEBUG:urllib3.connectionpool:https://www.sec.gov:443 \"GET /Archives/edgar/data/1001082/000095012310018671/dish-20091231.xml HTTP/1.1\" 200 77434\n"
     ]
    },
    {
     "name": "stdout",
     "output_type": "stream",
     "text": [
      "worker(): saving XML to [/home/oonisim/home/repository/git/oonisim/python_programs/finance/SEC/EDGAR/src/../data/XBRL/1001082/000095012310018671:dish-20091231.xml]...\n"
     ]
    },
    {
     "name": "stderr",
     "output_type": "stream",
     "text": [
      "DEBUG:__main__:worker(): saving XML to [/home/oonisim/home/repository/git/oonisim/python_programs/finance/SEC/EDGAR/src/../data/XBRL/1001082/000095012310018671:dish-20091231.xml]...\n",
      "DEBUG:sec_edgar_download_xbrl_xml:save_to_xml(): saving XML to [/home/oonisim/home/repository/git/oonisim/python_programs/finance/SEC/EDGAR/src/../data/XBRL/1001082/000095012310018671/dish-20091231.xml]...\n",
      "DEBUG:sec_edgar_utility:http_get_content(): GET url [https://sec.gov/Archives/edgar/data/1001838/000110465910010334/scco-20091231.xml] headers [{'User-Agent': 'Company Name myname@company.com'}]\n",
      "DEBUG:urllib3.connectionpool:Starting new HTTPS connection (1): sec.gov:443\n",
      "DEBUG:urllib3.connectionpool:https://sec.gov:443 \"GET /Archives/edgar/data/1001838/000110465910010334/scco-20091231.xml HTTP/1.1\" 301 0\n",
      "DEBUG:urllib3.connectionpool:Starting new HTTPS connection (1): www.sec.gov:443\n",
      "DEBUG:urllib3.connectionpool:https://www.sec.gov:443 \"GET /Archives/edgar/data/1001838/000110465910010334/scco-20091231.xml HTTP/1.1\" 200 106874\n"
     ]
    },
    {
     "name": "stdout",
     "output_type": "stream",
     "text": [
      "worker(): saving XML to [/home/oonisim/home/repository/git/oonisim/python_programs/finance/SEC/EDGAR/src/../data/XBRL/1001838/000110465910010334:scco-20091231.xml]...\n"
     ]
    },
    {
     "name": "stderr",
     "output_type": "stream",
     "text": [
      "DEBUG:__main__:worker(): saving XML to [/home/oonisim/home/repository/git/oonisim/python_programs/finance/SEC/EDGAR/src/../data/XBRL/1001838/000110465910010334:scco-20091231.xml]...\n",
      "DEBUG:sec_edgar_download_xbrl_xml:save_to_xml(): saving XML to [/home/oonisim/home/repository/git/oonisim/python_programs/finance/SEC/EDGAR/src/../data/XBRL/1001838/000110465910010334/scco-20091231.xml]...\n",
      "DEBUG:sec_edgar_utility:http_get_content(): GET url [https://sec.gov/Archives/edgar/data/1002638/000119312510021715/otex-20091231.xml] headers [{'User-Agent': 'Company Name myname@company.com'}]\n",
      "DEBUG:urllib3.connectionpool:Starting new HTTPS connection (1): sec.gov:443\n",
      "DEBUG:urllib3.connectionpool:https://sec.gov:443 \"GET /Archives/edgar/data/1002638/000119312510021715/otex-20091231.xml HTTP/1.1\" 301 0\n",
      "DEBUG:urllib3.connectionpool:Starting new HTTPS connection (1): www.sec.gov:443\n",
      "DEBUG:urllib3.connectionpool:https://www.sec.gov:443 \"GET /Archives/edgar/data/1002638/000119312510021715/otex-20091231.xml HTTP/1.1\" 200 39481\n"
     ]
    },
    {
     "name": "stdout",
     "output_type": "stream",
     "text": [
      "worker(): saving XML to [/home/oonisim/home/repository/git/oonisim/python_programs/finance/SEC/EDGAR/src/../data/XBRL/1002638/000119312510021715:otex-20091231.xml]...\n"
     ]
    },
    {
     "name": "stderr",
     "output_type": "stream",
     "text": [
      "DEBUG:__main__:worker(): saving XML to [/home/oonisim/home/repository/git/oonisim/python_programs/finance/SEC/EDGAR/src/../data/XBRL/1002638/000119312510021715:otex-20091231.xml]...\n",
      "DEBUG:sec_edgar_download_xbrl_xml:save_to_xml(): saving XML to [/home/oonisim/home/repository/git/oonisim/python_programs/finance/SEC/EDGAR/src/../data/XBRL/1002638/000119312510021715/otex-20091231.xml]...\n",
      "DEBUG:sec_edgar_utility:http_get_content(): GET url [https://sec.gov/Archives/edgar/data/1002910/000119312510043155/aee-20091231.xml] headers [{'User-Agent': 'Company Name myname@company.com'}]\n",
      "DEBUG:urllib3.connectionpool:Starting new HTTPS connection (1): sec.gov:443\n",
      "DEBUG:urllib3.connectionpool:https://sec.gov:443 \"GET /Archives/edgar/data/1002910/000119312510043155/aee-20091231.xml HTTP/1.1\" 301 0\n",
      "DEBUG:urllib3.connectionpool:Starting new HTTPS connection (1): www.sec.gov:443\n",
      "DEBUG:urllib3.connectionpool:https://www.sec.gov:443 \"GET /Archives/edgar/data/1002910/000119312510043155/aee-20091231.xml HTTP/1.1\" 200 196079\n"
     ]
    },
    {
     "name": "stdout",
     "output_type": "stream",
     "text": [
      "worker(): saving XML to [/home/oonisim/home/repository/git/oonisim/python_programs/finance/SEC/EDGAR/src/../data/XBRL/1002910/000119312510043155:aee-20091231.xml]...\n"
     ]
    },
    {
     "name": "stderr",
     "output_type": "stream",
     "text": [
      "DEBUG:__main__:worker(): saving XML to [/home/oonisim/home/repository/git/oonisim/python_programs/finance/SEC/EDGAR/src/../data/XBRL/1002910/000119312510043155:aee-20091231.xml]...\n",
      "DEBUG:sec_edgar_download_xbrl_xml:save_to_xml(): saving XML to [/home/oonisim/home/repository/git/oonisim/python_programs/finance/SEC/EDGAR/src/../data/XBRL/1002910/000119312510043155/aee-20091231.xml]...\n",
      "DEBUG:sec_edgar_utility:http_get_content(): GET url [https://sec.gov/Archives/edgar/data/1004155/000100415510000016/agl-20091231.xml] headers [{'User-Agent': 'Company Name myname@company.com'}]\n",
      "DEBUG:urllib3.connectionpool:Starting new HTTPS connection (1): sec.gov:443\n",
      "DEBUG:urllib3.connectionpool:https://sec.gov:443 \"GET /Archives/edgar/data/1004155/000100415510000016/agl-20091231.xml HTTP/1.1\" 301 0\n",
      "DEBUG:urllib3.connectionpool:Starting new HTTPS connection (1): www.sec.gov:443\n",
      "DEBUG:urllib3.connectionpool:https://www.sec.gov:443 \"GET /Archives/edgar/data/1004155/000100415510000016/agl-20091231.xml HTTP/1.1\" 200 89448\n"
     ]
    },
    {
     "name": "stdout",
     "output_type": "stream",
     "text": [
      "worker(): saving XML to [/home/oonisim/home/repository/git/oonisim/python_programs/finance/SEC/EDGAR/src/../data/XBRL/1004155/000100415510000016:agl-20091231.xml]...\n"
     ]
    },
    {
     "name": "stderr",
     "output_type": "stream",
     "text": [
      "DEBUG:__main__:worker(): saving XML to [/home/oonisim/home/repository/git/oonisim/python_programs/finance/SEC/EDGAR/src/../data/XBRL/1004155/000100415510000016:agl-20091231.xml]...\n",
      "DEBUG:sec_edgar_download_xbrl_xml:save_to_xml(): saving XML to [/home/oonisim/home/repository/git/oonisim/python_programs/finance/SEC/EDGAR/src/../data/XBRL/1004155/000100415510000016/agl-20091231.xml]...\n",
      "DEBUG:sec_edgar_utility:http_get_content(): GET url [https://sec.gov/Archives/edgar/data/1004440/000104746910001515/ceg-20091231.xml] headers [{'User-Agent': 'Company Name myname@company.com'}]\n",
      "DEBUG:urllib3.connectionpool:Starting new HTTPS connection (1): sec.gov:443\n",
      "DEBUG:urllib3.connectionpool:https://sec.gov:443 \"GET /Archives/edgar/data/1004440/000104746910001515/ceg-20091231.xml HTTP/1.1\" 301 0\n",
      "DEBUG:urllib3.connectionpool:Starting new HTTPS connection (1): www.sec.gov:443\n",
      "DEBUG:urllib3.connectionpool:https://www.sec.gov:443 \"GET /Archives/edgar/data/1004440/000104746910001515/ceg-20091231.xml HTTP/1.1\" 200 161141\n"
     ]
    },
    {
     "name": "stdout",
     "output_type": "stream",
     "text": [
      "worker(): saving XML to [/home/oonisim/home/repository/git/oonisim/python_programs/finance/SEC/EDGAR/src/../data/XBRL/1004440/000104746910001515:ceg-20091231.xml]...\n"
     ]
    },
    {
     "name": "stderr",
     "output_type": "stream",
     "text": [
      "DEBUG:__main__:worker(): saving XML to [/home/oonisim/home/repository/git/oonisim/python_programs/finance/SEC/EDGAR/src/../data/XBRL/1004440/000104746910001515:ceg-20091231.xml]...\n",
      "DEBUG:sec_edgar_download_xbrl_xml:save_to_xml(): saving XML to [/home/oonisim/home/repository/git/oonisim/python_programs/finance/SEC/EDGAR/src/../data/XBRL/1004440/000104746910001515/ceg-20091231.xml]...\n",
      "DEBUG:sec_edgar_utility:http_get_content(): GET url [https://sec.gov/Archives/edgar/data/1004980/000100498010000015/pcg-20091231.xml] headers [{'User-Agent': 'Company Name myname@company.com'}]\n",
      "DEBUG:urllib3.connectionpool:Starting new HTTPS connection (1): sec.gov:443\n",
      "DEBUG:urllib3.connectionpool:https://sec.gov:443 \"GET /Archives/edgar/data/1004980/000100498010000015/pcg-20091231.xml HTTP/1.1\" 301 0\n",
      "DEBUG:urllib3.connectionpool:Starting new HTTPS connection (1): www.sec.gov:443\n",
      "DEBUG:urllib3.connectionpool:https://www.sec.gov:443 \"GET /Archives/edgar/data/1004980/000100498010000015/pcg-20091231.xml HTTP/1.1\" 200 146096\n"
     ]
    },
    {
     "name": "stdout",
     "output_type": "stream",
     "text": [
      "worker(): saving XML to [/home/oonisim/home/repository/git/oonisim/python_programs/finance/SEC/EDGAR/src/../data/XBRL/1004980/000100498010000015:pcg-20091231.xml]...\n"
     ]
    },
    {
     "name": "stderr",
     "output_type": "stream",
     "text": [
      "DEBUG:__main__:worker(): saving XML to [/home/oonisim/home/repository/git/oonisim/python_programs/finance/SEC/EDGAR/src/../data/XBRL/1004980/000100498010000015:pcg-20091231.xml]...\n",
      "DEBUG:sec_edgar_download_xbrl_xml:save_to_xml(): saving XML to [/home/oonisim/home/repository/git/oonisim/python_programs/finance/SEC/EDGAR/src/../data/XBRL/1004980/000100498010000015/pcg-20091231.xml]...\n",
      "DEBUG:sec_edgar_utility:http_get_content(): GET url [https://sec.gov/Archives/edgar/data/100826/000119312510043155/aee-20091231.xml] headers [{'User-Agent': 'Company Name myname@company.com'}]\n",
      "DEBUG:urllib3.connectionpool:Starting new HTTPS connection (1): sec.gov:443\n",
      "DEBUG:urllib3.connectionpool:https://sec.gov:443 \"GET /Archives/edgar/data/100826/000119312510043155/aee-20091231.xml HTTP/1.1\" 301 0\n",
      "DEBUG:urllib3.connectionpool:Starting new HTTPS connection (1): www.sec.gov:443\n",
      "DEBUG:urllib3.connectionpool:https://www.sec.gov:443 \"GET /Archives/edgar/data/100826/000119312510043155/aee-20091231.xml HTTP/1.1\" 200 None\n"
     ]
    },
    {
     "name": "stdout",
     "output_type": "stream",
     "text": [
      "worker(): saving XML to [/home/oonisim/home/repository/git/oonisim/python_programs/finance/SEC/EDGAR/src/../data/XBRL/100826/000119312510043155:aee-20091231.xml]...\n"
     ]
    },
    {
     "name": "stderr",
     "output_type": "stream",
     "text": [
      "DEBUG:__main__:worker(): saving XML to [/home/oonisim/home/repository/git/oonisim/python_programs/finance/SEC/EDGAR/src/../data/XBRL/100826/000119312510043155:aee-20091231.xml]...\n",
      "DEBUG:sec_edgar_download_xbrl_xml:save_to_xml(): saving XML to [/home/oonisim/home/repository/git/oonisim/python_programs/finance/SEC/EDGAR/src/../data/XBRL/100826/000119312510043155/aee-20091231.xml]...\n",
      "DEBUG:sec_edgar_utility:http_get_content(): GET url [https://sec.gov/Archives/edgar/data/100885/000119312510023294/unp-20091231.xml] headers [{'User-Agent': 'Company Name myname@company.com'}]\n",
      "DEBUG:urllib3.connectionpool:Starting new HTTPS connection (1): sec.gov:443\n",
      "DEBUG:urllib3.connectionpool:https://sec.gov:443 \"GET /Archives/edgar/data/100885/000119312510023294/unp-20091231.xml HTTP/1.1\" 301 0\n",
      "DEBUG:urllib3.connectionpool:Starting new HTTPS connection (1): www.sec.gov:443\n",
      "DEBUG:urllib3.connectionpool:https://www.sec.gov:443 \"GET /Archives/edgar/data/100885/000119312510023294/unp-20091231.xml HTTP/1.1\" 200 51363\n"
     ]
    },
    {
     "name": "stdout",
     "output_type": "stream",
     "text": [
      "worker(): saving XML to [/home/oonisim/home/repository/git/oonisim/python_programs/finance/SEC/EDGAR/src/../data/XBRL/100885/000119312510023294:unp-20091231.xml]...\n"
     ]
    },
    {
     "name": "stderr",
     "output_type": "stream",
     "text": [
      "DEBUG:__main__:worker(): saving XML to [/home/oonisim/home/repository/git/oonisim/python_programs/finance/SEC/EDGAR/src/../data/XBRL/100885/000119312510023294:unp-20091231.xml]...\n",
      "DEBUG:sec_edgar_download_xbrl_xml:save_to_xml(): saving XML to [/home/oonisim/home/repository/git/oonisim/python_programs/finance/SEC/EDGAR/src/../data/XBRL/100885/000119312510023294/unp-20091231.xml]...\n",
      "DEBUG:sec_edgar_utility:http_get_content(): GET url [https://sec.gov/Archives/edgar/data/1010775/000119312510041620/mir-20091231.xml] headers [{'User-Agent': 'Company Name myname@company.com'}]\n",
      "DEBUG:urllib3.connectionpool:Starting new HTTPS connection (1): sec.gov:443\n",
      "DEBUG:urllib3.connectionpool:https://sec.gov:443 \"GET /Archives/edgar/data/1010775/000119312510041620/mir-20091231.xml HTTP/1.1\" 301 0\n",
      "DEBUG:urllib3.connectionpool:Starting new HTTPS connection (1): www.sec.gov:443\n",
      "DEBUG:urllib3.connectionpool:https://www.sec.gov:443 \"GET /Archives/edgar/data/1010775/000119312510041620/mir-20091231.xml HTTP/1.1\" 200 113719\n"
     ]
    },
    {
     "name": "stdout",
     "output_type": "stream",
     "text": [
      "worker(): saving XML to [/home/oonisim/home/repository/git/oonisim/python_programs/finance/SEC/EDGAR/src/../data/XBRL/1010775/000119312510041620:mir-20091231.xml]...\n"
     ]
    },
    {
     "name": "stderr",
     "output_type": "stream",
     "text": [
      "DEBUG:__main__:worker(): saving XML to [/home/oonisim/home/repository/git/oonisim/python_programs/finance/SEC/EDGAR/src/../data/XBRL/1010775/000119312510041620:mir-20091231.xml]...\n",
      "DEBUG:sec_edgar_download_xbrl_xml:save_to_xml(): saving XML to [/home/oonisim/home/repository/git/oonisim/python_programs/finance/SEC/EDGAR/src/../data/XBRL/1010775/000119312510041620/mir-20091231.xml]...\n",
      "DEBUG:sec_edgar_utility:http_get_content(): GET url [https://sec.gov/Archives/edgar/data/1011006/000119312510043149/yhoo-20091231.xml] headers [{'User-Agent': 'Company Name myname@company.com'}]\n",
      "DEBUG:urllib3.connectionpool:Starting new HTTPS connection (1): sec.gov:443\n",
      "DEBUG:urllib3.connectionpool:https://sec.gov:443 \"GET /Archives/edgar/data/1011006/000119312510043149/yhoo-20091231.xml HTTP/1.1\" 301 0\n",
      "DEBUG:urllib3.connectionpool:Starting new HTTPS connection (1): www.sec.gov:443\n",
      "DEBUG:urllib3.connectionpool:https://www.sec.gov:443 \"GET /Archives/edgar/data/1011006/000119312510043149/yhoo-20091231.xml HTTP/1.1\" 200 78778\n"
     ]
    },
    {
     "name": "stdout",
     "output_type": "stream",
     "text": [
      "worker(): saving XML to [/home/oonisim/home/repository/git/oonisim/python_programs/finance/SEC/EDGAR/src/../data/XBRL/1011006/000119312510043149:yhoo-20091231.xml]...\n"
     ]
    },
    {
     "name": "stderr",
     "output_type": "stream",
     "text": [
      "DEBUG:__main__:worker(): saving XML to [/home/oonisim/home/repository/git/oonisim/python_programs/finance/SEC/EDGAR/src/../data/XBRL/1011006/000119312510043149:yhoo-20091231.xml]...\n",
      "DEBUG:sec_edgar_download_xbrl_xml:save_to_xml(): saving XML to [/home/oonisim/home/repository/git/oonisim/python_programs/finance/SEC/EDGAR/src/../data/XBRL/1011006/000119312510043149/yhoo-20091231.xml]...\n",
      "DEBUG:sec_edgar_utility:http_get_content(): GET url [https://sec.gov/Archives/edgar/data/1013871/000095012310015824/nrg-20091231.xml] headers [{'User-Agent': 'Company Name myname@company.com'}]\n",
      "DEBUG:urllib3.connectionpool:Starting new HTTPS connection (1): sec.gov:443\n",
      "DEBUG:urllib3.connectionpool:https://sec.gov:443 \"GET /Archives/edgar/data/1013871/000095012310015824/nrg-20091231.xml HTTP/1.1\" 301 0\n",
      "DEBUG:urllib3.connectionpool:Starting new HTTPS connection (1): www.sec.gov:443\n",
      "DEBUG:urllib3.connectionpool:https://www.sec.gov:443 \"GET /Archives/edgar/data/1013871/000095012310015824/nrg-20091231.xml HTTP/1.1\" 200 180138\n"
     ]
    },
    {
     "name": "stdout",
     "output_type": "stream",
     "text": [
      "worker(): saving XML to [/home/oonisim/home/repository/git/oonisim/python_programs/finance/SEC/EDGAR/src/../data/XBRL/1013871/000095012310015824:nrg-20091231.xml]...\n"
     ]
    },
    {
     "name": "stderr",
     "output_type": "stream",
     "text": [
      "DEBUG:__main__:worker(): saving XML to [/home/oonisim/home/repository/git/oonisim/python_programs/finance/SEC/EDGAR/src/../data/XBRL/1013871/000095012310015824:nrg-20091231.xml]...\n",
      "DEBUG:sec_edgar_download_xbrl_xml:save_to_xml(): saving XML to [/home/oonisim/home/repository/git/oonisim/python_programs/finance/SEC/EDGAR/src/../data/XBRL/1013871/000095012310015824/nrg-20091231.xml]...\n",
      "DEBUG:sec_edgar_utility:http_get_content(): GET url [https://sec.gov/Archives/edgar/data/1014473/000119312510043162/vrsn-20091231.xml] headers [{'User-Agent': 'Company Name myname@company.com'}]\n",
      "DEBUG:urllib3.connectionpool:Starting new HTTPS connection (1): sec.gov:443\n",
      "DEBUG:urllib3.connectionpool:https://sec.gov:443 \"GET /Archives/edgar/data/1014473/000119312510043162/vrsn-20091231.xml HTTP/1.1\" 301 0\n",
      "DEBUG:urllib3.connectionpool:Starting new HTTPS connection (1): www.sec.gov:443\n",
      "DEBUG:urllib3.connectionpool:https://www.sec.gov:443 \"GET /Archives/edgar/data/1014473/000119312510043162/vrsn-20091231.xml HTTP/1.1\" 200 92289\n"
     ]
    },
    {
     "name": "stdout",
     "output_type": "stream",
     "text": [
      "worker(): saving XML to [/home/oonisim/home/repository/git/oonisim/python_programs/finance/SEC/EDGAR/src/../data/XBRL/1014473/000119312510043162:vrsn-20091231.xml]...\n"
     ]
    },
    {
     "name": "stderr",
     "output_type": "stream",
     "text": [
      "DEBUG:__main__:worker(): saving XML to [/home/oonisim/home/repository/git/oonisim/python_programs/finance/SEC/EDGAR/src/../data/XBRL/1014473/000119312510043162:vrsn-20091231.xml]...\n",
      "DEBUG:sec_edgar_download_xbrl_xml:save_to_xml(): saving XML to [/home/oonisim/home/repository/git/oonisim/python_programs/finance/SEC/EDGAR/src/../data/XBRL/1014473/000119312510043162/vrsn-20091231.xml]...\n",
      "DEBUG:sec_edgar_utility:http_get_content(): GET url [https://sec.gov/Archives/edgar/data/1014739/000101473910000004/bios-20091231.xml] headers [{'User-Agent': 'Company Name myname@company.com'}]\n",
      "DEBUG:urllib3.connectionpool:Starting new HTTPS connection (1): sec.gov:443\n",
      "DEBUG:urllib3.connectionpool:https://sec.gov:443 \"GET /Archives/edgar/data/1014739/000101473910000004/bios-20091231.xml HTTP/1.1\" 301 0\n",
      "DEBUG:urllib3.connectionpool:Starting new HTTPS connection (1): www.sec.gov:443\n",
      "DEBUG:urllib3.connectionpool:https://www.sec.gov:443 \"GET /Archives/edgar/data/1014739/000101473910000004/bios-20091231.xml HTTP/1.1\" 200 42517\n"
     ]
    },
    {
     "name": "stdout",
     "output_type": "stream",
     "text": [
      "worker(): saving XML to [/home/oonisim/home/repository/git/oonisim/python_programs/finance/SEC/EDGAR/src/../data/XBRL/1014739/000101473910000004:bios-20091231.xml]...\n"
     ]
    },
    {
     "name": "stderr",
     "output_type": "stream",
     "text": [
      "DEBUG:__main__:worker(): saving XML to [/home/oonisim/home/repository/git/oonisim/python_programs/finance/SEC/EDGAR/src/../data/XBRL/1014739/000101473910000004:bios-20091231.xml]...\n",
      "DEBUG:sec_edgar_download_xbrl_xml:save_to_xml(): saving XML to [/home/oonisim/home/repository/git/oonisim/python_programs/finance/SEC/EDGAR/src/../data/XBRL/1014739/000101473910000004/bios-20091231.xml]...\n"
     ]
    }
   ],
   "source": [
    "for index, row in listing.iterrows():\n",
    "    # --------------------------------------------------------------------------------\n",
    "    # Download XBRL XML\n",
    "    # --------------------------------------------------------------------------------\n",
    "    url = row['Filename']\n",
    "    content = http_get_content(url, EDGAR_HTTP_HEADERS)\n",
    "\n",
    "    # --------------------------------------------------------------------------------\n",
    "    # Save\n",
    "    # --------------------------------------------------------------------------------\n",
    "    elements = url.split('/')\n",
    "    filename = elements[-1]\n",
    "    accession = elements[-2]\n",
    "    cik = elements[-3]\n",
    "    assert str(row['CIK']) == cik, f\"CIK [{row['CIK']})] must match CIK part [{cik}] in url {url}\"\n",
    "\n",
    "    directory = f\"{DATA_DIR_XBRL}{os.sep}{cik}{os.sep}{accession}\"\n",
    "    Logger.debug(f\"worker(): saving XML to [{directory}:{filename}]...\")\n",
    "\n",
    "    save_to_xml(content, directory, filename)"
   ]
  },
  {
   "cell_type": "markdown",
   "id": "appointed-remark",
   "metadata": {},
   "source": [
    "\n",
    "\n",
    "---"
   ]
  }
 ],
 "metadata": {
  "kernelspec": {
   "display_name": "Python 3 (ipykernel)",
   "language": "python",
   "name": "python3"
  },
  "language_info": {
   "codemirror_mode": {
    "name": "ipython",
    "version": 3
   },
   "file_extension": ".py",
   "mimetype": "text/x-python",
   "name": "python",
   "nbconvert_exporter": "python",
   "pygments_lexer": "ipython3",
   "version": "3.8.10"
  }
 },
 "nbformat": 4,
 "nbformat_minor": 5
}
