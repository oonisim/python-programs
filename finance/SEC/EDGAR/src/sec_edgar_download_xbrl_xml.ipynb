{
 "cells": [
  {
   "cell_type": "markdown",
   "id": "threatened-benefit",
   "metadata": {},
   "source": [
    "# EDGAR XBRL XML URL\n",
    "\n",
    "Generate URLs to the XBRL XML files in the fileing directory in a parallel processing manner using Ray."
   ]
  },
  {
   "cell_type": "code",
   "execution_count": null,
   "id": "cardiovascular-trailer",
   "metadata": {},
   "outputs": [],
   "source": [
    "# !pip install -q ray"
   ]
  },
  {
   "cell_type": "code",
   "execution_count": 1,
   "id": "0d0b5db5",
   "metadata": {},
   "outputs": [],
   "source": [
    "from typing import (\n",
    "    List,\n",
    "    Dict,\n",
    "    Iterable\n",
    ")\n",
    "import os\n",
    "import sys\n",
    "import random\n",
    "import logging\n",
    "import time\n",
    "import re\n",
    "import requests\n",
    "import bs4\n",
    "from bs4 import BeautifulSoup\n",
    "import numpy as np\n",
    "import pandas as pd\n",
    "import ray"
   ]
  },
  {
   "cell_type": "code",
   "execution_count": 2,
   "id": "1e331029",
   "metadata": {},
   "outputs": [],
   "source": [
    "pd.set_option('display.float_format', lambda x: ('%f' % x).rstrip('0').rstrip('.'))\n",
    "pd.set_option('display.colheader_justify', 'center')\n",
    "pd.set_option('display.max_columns', None)  \n",
    "\n",
    "logging.basicConfig(level=logging.DEBUG)\n",
    "handler = logging.StreamHandler(sys.stdout)\n",
    "\n",
    "Logger = logging.getLogger(__name__)\n",
    "Logger.addHandler(handler)"
   ]
  },
  {
   "cell_type": "code",
   "execution_count": 6,
   "id": "aa9ad50b",
   "metadata": {},
   "outputs": [
    {
     "name": "stdout",
     "output_type": "stream",
     "text": [
      "test\n"
     ]
    },
    {
     "name": "stderr",
     "output_type": "stream",
     "text": [
      "DEBUG:__main__:test\n"
     ]
    }
   ],
   "source": [
    "Logger.debug(\"test\")"
   ]
  },
  {
   "cell_type": "code",
   "execution_count": 4,
   "id": "03d8559f",
   "metadata": {},
   "outputs": [],
   "source": [
    "from sec_edgar_constant import (\n",
    "    NUM_CPUS,\n",
    "    FS_TYPE_10K,\n",
    "    FS_TYPE_10Q,\n",
    "    EDGAR_HTTP_HEADERS,\n",
    "    DATA_DIR_LISTING,\n",
    "    DATA_DIR_XBRL,\n",
    ")\n",
    "from sec_edgar_utility import (\n",
    "    split,\n",
    "    http_get_content,\n",
    ")\n",
    "from sec_edgar_download_xbrl_xml import (\n",
    "    save_to_xml,\n",
    "    worker,\n",
    ")"
   ]
  },
  {
   "cell_type": "code",
   "execution_count": 5,
   "id": "79ceef80",
   "metadata": {},
   "outputs": [],
   "source": [
    "def pd_print_full():\n",
    "    pd.set_option('display.max_rows', None)\n",
    "    pd.set_option('display.max_columns', None)\n",
    "    pd.set_option('display.width', 2000)\n",
    "    pd.set_option('display.float_format', '{:20,.2f}'.format)\n",
    "    pd.set_option('display.max_colwidth', None)\n",
    "    pd.reset_option('display.max_rows')\n",
    "    pd.reset_option('display.max_columns')\n",
    "    pd.reset_option('display.width')\n",
    "    pd.reset_option('display.float_format')\n",
    "    pd.reset_option('display.max_colwidth')"
   ]
  },
  {
   "cell_type": "markdown",
   "id": "994dd669",
   "metadata": {},
   "source": [
    "# Data \n",
    "\n",
    "## EDGAR XBRL Directory Indices"
   ]
  },
  {
   "cell_type": "code",
   "execution_count": 24,
   "id": "2b87f146",
   "metadata": {},
   "outputs": [
    {
     "data": {
      "text/html": [
       "<div>\n",
       "<style scoped>\n",
       "    .dataframe tbody tr th:only-of-type {\n",
       "        vertical-align: middle;\n",
       "    }\n",
       "\n",
       "    .dataframe tbody tr th {\n",
       "        vertical-align: top;\n",
       "    }\n",
       "\n",
       "    .dataframe thead th {\n",
       "        text-align: right;\n",
       "    }\n",
       "</style>\n",
       "<table border=\"1\" class=\"dataframe\">\n",
       "  <thead>\n",
       "    <tr style=\"text-align: center;\">\n",
       "      <th></th>\n",
       "      <th>CIK</th>\n",
       "      <th>Form Type</th>\n",
       "      <th>Date Filed</th>\n",
       "      <th>Filename</th>\n",
       "    </tr>\n",
       "  </thead>\n",
       "  <tbody>\n",
       "    <tr>\n",
       "      <th>0</th>\n",
       "      <td>1000697</td>\n",
       "      <td>10-K</td>\n",
       "      <td>2010-02-26</td>\n",
       "      <td>https://sec.gov/Archives/edgar/data/1000697/000095012310017583/wat-20091231.xml</td>\n",
       "    </tr>\n",
       "    <tr>\n",
       "      <th>1</th>\n",
       "      <td>1001039</td>\n",
       "      <td>10-Q</td>\n",
       "      <td>2010-02-09</td>\n",
       "      <td>https://sec.gov/Archives/edgar/data/1001039/000119312510025949/dis-20100102.xml</td>\n",
       "    </tr>\n",
       "    <tr>\n",
       "      <th>2</th>\n",
       "      <td>1001082</td>\n",
       "      <td>10-K</td>\n",
       "      <td>2010-03-01</td>\n",
       "      <td>https://sec.gov/Archives/edgar/data/1001082/000095012310018671/dish-20091231.xml</td>\n",
       "    </tr>\n",
       "    <tr>\n",
       "      <th>3</th>\n",
       "      <td>1001838</td>\n",
       "      <td>10-K</td>\n",
       "      <td>2010-02-26</td>\n",
       "      <td>https://sec.gov/Archives/edgar/data/1001838/000110465910010334/scco-20091231.xml</td>\n",
       "    </tr>\n",
       "    <tr>\n",
       "      <th>4</th>\n",
       "      <td>1002638</td>\n",
       "      <td>10-Q</td>\n",
       "      <td>2010-02-04</td>\n",
       "      <td>https://sec.gov/Archives/edgar/data/1002638/000119312510021715/otex-20091231.xml</td>\n",
       "    </tr>\n",
       "    <tr>\n",
       "      <th>5</th>\n",
       "      <td>1002910</td>\n",
       "      <td>10-K</td>\n",
       "      <td>2010-02-26</td>\n",
       "      <td>https://sec.gov/Archives/edgar/data/1002910/000119312510043155/aee-20091231.xml</td>\n",
       "    </tr>\n",
       "    <tr>\n",
       "      <th>6</th>\n",
       "      <td>1004155</td>\n",
       "      <td>10-K</td>\n",
       "      <td>2010-02-04</td>\n",
       "      <td>https://sec.gov/Archives/edgar/data/1004155/000100415510000016/agl-20091231.xml</td>\n",
       "    </tr>\n",
       "    <tr>\n",
       "      <th>7</th>\n",
       "      <td>1004440</td>\n",
       "      <td>10-K</td>\n",
       "      <td>2010-02-26</td>\n",
       "      <td>https://sec.gov/Archives/edgar/data/1004440/000104746910001515/ceg-20091231.xml</td>\n",
       "    </tr>\n",
       "    <tr>\n",
       "      <th>8</th>\n",
       "      <td>1004980</td>\n",
       "      <td>10-K</td>\n",
       "      <td>2010-02-19</td>\n",
       "      <td>https://sec.gov/Archives/edgar/data/1004980/000100498010000015/pcg-20091231.xml</td>\n",
       "    </tr>\n",
       "    <tr>\n",
       "      <th>9</th>\n",
       "      <td>100826</td>\n",
       "      <td>10-K</td>\n",
       "      <td>2010-02-26</td>\n",
       "      <td>https://sec.gov/Archives/edgar/data/100826/000119312510043155/aee-20091231.xml</td>\n",
       "    </tr>\n",
       "    <tr>\n",
       "      <th>10</th>\n",
       "      <td>100885</td>\n",
       "      <td>10-K</td>\n",
       "      <td>2010-02-05</td>\n",
       "      <td>https://sec.gov/Archives/edgar/data/100885/000119312510023294/unp-20091231.xml</td>\n",
       "    </tr>\n",
       "    <tr>\n",
       "      <th>11</th>\n",
       "      <td>1010775</td>\n",
       "      <td>10-K</td>\n",
       "      <td>2010-02-26</td>\n",
       "      <td>https://sec.gov/Archives/edgar/data/1010775/000119312510041620/mir-20091231.xml</td>\n",
       "    </tr>\n",
       "    <tr>\n",
       "      <th>12</th>\n",
       "      <td>1011006</td>\n",
       "      <td>10-K</td>\n",
       "      <td>2010-02-26</td>\n",
       "      <td>https://sec.gov/Archives/edgar/data/1011006/000119312510043149/yhoo-20091231.xml</td>\n",
       "    </tr>\n",
       "    <tr>\n",
       "      <th>13</th>\n",
       "      <td>1013871</td>\n",
       "      <td>10-K</td>\n",
       "      <td>2010-02-23</td>\n",
       "      <td>https://sec.gov/Archives/edgar/data/1013871/000095012310015824/nrg-20091231.xml</td>\n",
       "    </tr>\n",
       "    <tr>\n",
       "      <th>14</th>\n",
       "      <td>1014473</td>\n",
       "      <td>10-K</td>\n",
       "      <td>2010-02-26</td>\n",
       "      <td>https://sec.gov/Archives/edgar/data/1014473/000119312510043162/vrsn-20091231.xml</td>\n",
       "    </tr>\n",
       "    <tr>\n",
       "      <th>15</th>\n",
       "      <td>1014739</td>\n",
       "      <td>10-K</td>\n",
       "      <td>2010-03-02</td>\n",
       "      <td>https://sec.gov/Archives/edgar/data/1014739/000101473910000004/bios-20091231.xml</td>\n",
       "    </tr>\n",
       "  </tbody>\n",
       "</table>\n",
       "</div>"
      ],
      "text/plain": [
       "      CIK   Form Type Date Filed  \\\n",
       "0   1000697    10-K   2010-02-26   \n",
       "1   1001039    10-Q   2010-02-09   \n",
       "2   1001082    10-K   2010-03-01   \n",
       "3   1001838    10-K   2010-02-26   \n",
       "4   1002638    10-Q   2010-02-04   \n",
       "5   1002910    10-K   2010-02-26   \n",
       "6   1004155    10-K   2010-02-04   \n",
       "7   1004440    10-K   2010-02-26   \n",
       "8   1004980    10-K   2010-02-19   \n",
       "9    100826    10-K   2010-02-26   \n",
       "10   100885    10-K   2010-02-05   \n",
       "11  1010775    10-K   2010-02-26   \n",
       "12  1011006    10-K   2010-02-26   \n",
       "13  1013871    10-K   2010-02-23   \n",
       "14  1014473    10-K   2010-02-26   \n",
       "15  1014739    10-K   2010-03-02   \n",
       "\n",
       "                                        Filename                                      \n",
       "0    https://sec.gov/Archives/edgar/data/1000697/000095012310017583/wat-20091231.xml  \n",
       "1    https://sec.gov/Archives/edgar/data/1001039/000119312510025949/dis-20100102.xml  \n",
       "2   https://sec.gov/Archives/edgar/data/1001082/000095012310018671/dish-20091231.xml  \n",
       "3   https://sec.gov/Archives/edgar/data/1001838/000110465910010334/scco-20091231.xml  \n",
       "4   https://sec.gov/Archives/edgar/data/1002638/000119312510021715/otex-20091231.xml  \n",
       "5    https://sec.gov/Archives/edgar/data/1002910/000119312510043155/aee-20091231.xml  \n",
       "6    https://sec.gov/Archives/edgar/data/1004155/000100415510000016/agl-20091231.xml  \n",
       "7    https://sec.gov/Archives/edgar/data/1004440/000104746910001515/ceg-20091231.xml  \n",
       "8    https://sec.gov/Archives/edgar/data/1004980/000100498010000015/pcg-20091231.xml  \n",
       "9     https://sec.gov/Archives/edgar/data/100826/000119312510043155/aee-20091231.xml  \n",
       "10    https://sec.gov/Archives/edgar/data/100885/000119312510023294/unp-20091231.xml  \n",
       "11   https://sec.gov/Archives/edgar/data/1010775/000119312510041620/mir-20091231.xml  \n",
       "12  https://sec.gov/Archives/edgar/data/1011006/000119312510043149/yhoo-20091231.xml  \n",
       "13   https://sec.gov/Archives/edgar/data/1013871/000095012310015824/nrg-20091231.xml  \n",
       "14  https://sec.gov/Archives/edgar/data/1014473/000119312510043162/vrsn-20091231.xml  \n",
       "15  https://sec.gov/Archives/edgar/data/1014739/000101473910000004/bios-20091231.xml  "
      ]
     },
     "execution_count": 24,
     "metadata": {},
     "output_type": "execute_result"
    }
   ],
   "source": [
    "listing = pd.read_csv(\n",
    "    f\"{DATA_DIR_LISTING}/2010QTR1_XBRL.gz\", \n",
    "    sep=\"|\",\n",
    "    usecols=['CIK', 'Form Type', 'Date Filed', 'Filename'],\n",
    "    parse_dates=['Date Filed'],\n",
    ")\n",
    "listing = listing.head(16)\n",
    "listing"
   ]
  },
  {
   "cell_type": "code",
   "execution_count": 9,
   "id": "2f3633ba",
   "metadata": {},
   "outputs": [
    {
     "name": "stderr",
     "output_type": "stream",
     "text": [
      "DEBUG:sec_edgar_utility:http_get_content(): GET url [https://sec.gov/Archives/edgar/data/1000697/000095012310017583/wat-20091231.xml] headers [{'User-Agent': 'Company Name myname@company.com'}]\n",
      "DEBUG:urllib3.connectionpool:Starting new HTTPS connection (1): sec.gov:443\n",
      "DEBUG:urllib3.connectionpool:https://sec.gov:443 \"GET /Archives/edgar/data/1000697/000095012310017583/wat-20091231.xml HTTP/1.1\" 301 0\n",
      "DEBUG:urllib3.connectionpool:Starting new HTTPS connection (1): www.sec.gov:443\n",
      "DEBUG:urllib3.connectionpool:https://www.sec.gov:443 \"GET /Archives/edgar/data/1000697/000095012310017583/wat-20091231.xml HTTP/1.1\" 200 76282\n"
     ]
    },
    {
     "name": "stdout",
     "output_type": "stream",
     "text": [
      "worker(): saving XML to [/home/oonisim/home/repository/git/oonisim/python_programs/finance/SEC/EDGAR/src/../data/XBRL/1000697/000095012310017583:wat-20091231.xml]...\n"
     ]
    },
    {
     "name": "stderr",
     "output_type": "stream",
     "text": [
      "DEBUG:__main__:worker(): saving XML to [/home/oonisim/home/repository/git/oonisim/python_programs/finance/SEC/EDGAR/src/../data/XBRL/1000697/000095012310017583:wat-20091231.xml]...\n",
      "DEBUG:sec_edgar_download_xbrl_xml:save_to_xml(): saving XML to [/home/oonisim/home/repository/git/oonisim/python_programs/finance/SEC/EDGAR/src/../data/XBRL/1000697/000095012310017583/wat-20091231.xml]...\n",
      "DEBUG:sec_edgar_utility:http_get_content(): GET url [https://sec.gov/Archives/edgar/data/1001039/000119312510025949/dis-20100102.xml] headers [{'User-Agent': 'Company Name myname@company.com'}]\n",
      "DEBUG:urllib3.connectionpool:Starting new HTTPS connection (1): sec.gov:443\n",
      "DEBUG:urllib3.connectionpool:https://sec.gov:443 \"GET /Archives/edgar/data/1001039/000119312510025949/dis-20100102.xml HTTP/1.1\" 301 0\n",
      "DEBUG:urllib3.connectionpool:Starting new HTTPS connection (1): www.sec.gov:443\n",
      "DEBUG:urllib3.connectionpool:https://www.sec.gov:443 \"GET /Archives/edgar/data/1001039/000119312510025949/dis-20100102.xml HTTP/1.1\" 200 27645\n"
     ]
    },
    {
     "name": "stdout",
     "output_type": "stream",
     "text": [
      "worker(): saving XML to [/home/oonisim/home/repository/git/oonisim/python_programs/finance/SEC/EDGAR/src/../data/XBRL/1001039/000119312510025949:dis-20100102.xml]...\n"
     ]
    },
    {
     "name": "stderr",
     "output_type": "stream",
     "text": [
      "DEBUG:__main__:worker(): saving XML to [/home/oonisim/home/repository/git/oonisim/python_programs/finance/SEC/EDGAR/src/../data/XBRL/1001039/000119312510025949:dis-20100102.xml]...\n",
      "DEBUG:sec_edgar_download_xbrl_xml:save_to_xml(): saving XML to [/home/oonisim/home/repository/git/oonisim/python_programs/finance/SEC/EDGAR/src/../data/XBRL/1001039/000119312510025949/dis-20100102.xml]...\n",
      "DEBUG:sec_edgar_utility:http_get_content(): GET url [https://sec.gov/Archives/edgar/data/1001082/000095012310018671/dish-20091231.xml] headers [{'User-Agent': 'Company Name myname@company.com'}]\n",
      "DEBUG:urllib3.connectionpool:Starting new HTTPS connection (1): sec.gov:443\n",
      "DEBUG:urllib3.connectionpool:https://sec.gov:443 \"GET /Archives/edgar/data/1001082/000095012310018671/dish-20091231.xml HTTP/1.1\" 301 0\n",
      "DEBUG:urllib3.connectionpool:Starting new HTTPS connection (1): www.sec.gov:443\n",
      "DEBUG:urllib3.connectionpool:https://www.sec.gov:443 \"GET /Archives/edgar/data/1001082/000095012310018671/dish-20091231.xml HTTP/1.1\" 200 77434\n"
     ]
    },
    {
     "name": "stdout",
     "output_type": "stream",
     "text": [
      "worker(): saving XML to [/home/oonisim/home/repository/git/oonisim/python_programs/finance/SEC/EDGAR/src/../data/XBRL/1001082/000095012310018671:dish-20091231.xml]...\n"
     ]
    },
    {
     "name": "stderr",
     "output_type": "stream",
     "text": [
      "DEBUG:__main__:worker(): saving XML to [/home/oonisim/home/repository/git/oonisim/python_programs/finance/SEC/EDGAR/src/../data/XBRL/1001082/000095012310018671:dish-20091231.xml]...\n",
      "DEBUG:sec_edgar_download_xbrl_xml:save_to_xml(): saving XML to [/home/oonisim/home/repository/git/oonisim/python_programs/finance/SEC/EDGAR/src/../data/XBRL/1001082/000095012310018671/dish-20091231.xml]...\n",
      "DEBUG:sec_edgar_utility:http_get_content(): GET url [https://sec.gov/Archives/edgar/data/1001838/000110465910010334/scco-20091231.xml] headers [{'User-Agent': 'Company Name myname@company.com'}]\n",
      "DEBUG:urllib3.connectionpool:Starting new HTTPS connection (1): sec.gov:443\n",
      "DEBUG:urllib3.connectionpool:https://sec.gov:443 \"GET /Archives/edgar/data/1001838/000110465910010334/scco-20091231.xml HTTP/1.1\" 301 0\n",
      "DEBUG:urllib3.connectionpool:Starting new HTTPS connection (1): www.sec.gov:443\n",
      "DEBUG:urllib3.connectionpool:https://www.sec.gov:443 \"GET /Archives/edgar/data/1001838/000110465910010334/scco-20091231.xml HTTP/1.1\" 200 106874\n"
     ]
    },
    {
     "name": "stdout",
     "output_type": "stream",
     "text": [
      "worker(): saving XML to [/home/oonisim/home/repository/git/oonisim/python_programs/finance/SEC/EDGAR/src/../data/XBRL/1001838/000110465910010334:scco-20091231.xml]...\n"
     ]
    },
    {
     "name": "stderr",
     "output_type": "stream",
     "text": [
      "DEBUG:__main__:worker(): saving XML to [/home/oonisim/home/repository/git/oonisim/python_programs/finance/SEC/EDGAR/src/../data/XBRL/1001838/000110465910010334:scco-20091231.xml]...\n",
      "DEBUG:sec_edgar_download_xbrl_xml:save_to_xml(): saving XML to [/home/oonisim/home/repository/git/oonisim/python_programs/finance/SEC/EDGAR/src/../data/XBRL/1001838/000110465910010334/scco-20091231.xml]...\n",
      "DEBUG:sec_edgar_utility:http_get_content(): GET url [https://sec.gov/Archives/edgar/data/1002638/000119312510021715/otex-20091231.xml] headers [{'User-Agent': 'Company Name myname@company.com'}]\n",
      "DEBUG:urllib3.connectionpool:Starting new HTTPS connection (1): sec.gov:443\n",
      "DEBUG:urllib3.connectionpool:https://sec.gov:443 \"GET /Archives/edgar/data/1002638/000119312510021715/otex-20091231.xml HTTP/1.1\" 301 0\n",
      "DEBUG:urllib3.connectionpool:Starting new HTTPS connection (1): www.sec.gov:443\n",
      "DEBUG:urllib3.connectionpool:https://www.sec.gov:443 \"GET /Archives/edgar/data/1002638/000119312510021715/otex-20091231.xml HTTP/1.1\" 200 39481\n"
     ]
    },
    {
     "name": "stdout",
     "output_type": "stream",
     "text": [
      "worker(): saving XML to [/home/oonisim/home/repository/git/oonisim/python_programs/finance/SEC/EDGAR/src/../data/XBRL/1002638/000119312510021715:otex-20091231.xml]...\n"
     ]
    },
    {
     "name": "stderr",
     "output_type": "stream",
     "text": [
      "DEBUG:__main__:worker(): saving XML to [/home/oonisim/home/repository/git/oonisim/python_programs/finance/SEC/EDGAR/src/../data/XBRL/1002638/000119312510021715:otex-20091231.xml]...\n",
      "DEBUG:sec_edgar_download_xbrl_xml:save_to_xml(): saving XML to [/home/oonisim/home/repository/git/oonisim/python_programs/finance/SEC/EDGAR/src/../data/XBRL/1002638/000119312510021715/otex-20091231.xml]...\n",
      "DEBUG:sec_edgar_utility:http_get_content(): GET url [https://sec.gov/Archives/edgar/data/1002910/000119312510043155/aee-20091231.xml] headers [{'User-Agent': 'Company Name myname@company.com'}]\n",
      "DEBUG:urllib3.connectionpool:Starting new HTTPS connection (1): sec.gov:443\n",
      "DEBUG:urllib3.connectionpool:https://sec.gov:443 \"GET /Archives/edgar/data/1002910/000119312510043155/aee-20091231.xml HTTP/1.1\" 301 0\n",
      "DEBUG:urllib3.connectionpool:Starting new HTTPS connection (1): www.sec.gov:443\n",
      "DEBUG:urllib3.connectionpool:https://www.sec.gov:443 \"GET /Archives/edgar/data/1002910/000119312510043155/aee-20091231.xml HTTP/1.1\" 200 196079\n"
     ]
    },
    {
     "name": "stdout",
     "output_type": "stream",
     "text": [
      "worker(): saving XML to [/home/oonisim/home/repository/git/oonisim/python_programs/finance/SEC/EDGAR/src/../data/XBRL/1002910/000119312510043155:aee-20091231.xml]...\n"
     ]
    },
    {
     "name": "stderr",
     "output_type": "stream",
     "text": [
      "DEBUG:__main__:worker(): saving XML to [/home/oonisim/home/repository/git/oonisim/python_programs/finance/SEC/EDGAR/src/../data/XBRL/1002910/000119312510043155:aee-20091231.xml]...\n",
      "DEBUG:sec_edgar_download_xbrl_xml:save_to_xml(): saving XML to [/home/oonisim/home/repository/git/oonisim/python_programs/finance/SEC/EDGAR/src/../data/XBRL/1002910/000119312510043155/aee-20091231.xml]...\n",
      "DEBUG:sec_edgar_utility:http_get_content(): GET url [https://sec.gov/Archives/edgar/data/1004155/000100415510000016/agl-20091231.xml] headers [{'User-Agent': 'Company Name myname@company.com'}]\n",
      "DEBUG:urllib3.connectionpool:Starting new HTTPS connection (1): sec.gov:443\n",
      "DEBUG:urllib3.connectionpool:https://sec.gov:443 \"GET /Archives/edgar/data/1004155/000100415510000016/agl-20091231.xml HTTP/1.1\" 301 0\n",
      "DEBUG:urllib3.connectionpool:Starting new HTTPS connection (1): www.sec.gov:443\n",
      "DEBUG:urllib3.connectionpool:https://www.sec.gov:443 \"GET /Archives/edgar/data/1004155/000100415510000016/agl-20091231.xml HTTP/1.1\" 200 89448\n"
     ]
    },
    {
     "name": "stdout",
     "output_type": "stream",
     "text": [
      "worker(): saving XML to [/home/oonisim/home/repository/git/oonisim/python_programs/finance/SEC/EDGAR/src/../data/XBRL/1004155/000100415510000016:agl-20091231.xml]...\n"
     ]
    },
    {
     "name": "stderr",
     "output_type": "stream",
     "text": [
      "DEBUG:__main__:worker(): saving XML to [/home/oonisim/home/repository/git/oonisim/python_programs/finance/SEC/EDGAR/src/../data/XBRL/1004155/000100415510000016:agl-20091231.xml]...\n",
      "DEBUG:sec_edgar_download_xbrl_xml:save_to_xml(): saving XML to [/home/oonisim/home/repository/git/oonisim/python_programs/finance/SEC/EDGAR/src/../data/XBRL/1004155/000100415510000016/agl-20091231.xml]...\n",
      "DEBUG:sec_edgar_utility:http_get_content(): GET url [https://sec.gov/Archives/edgar/data/1004440/000104746910001515/ceg-20091231.xml] headers [{'User-Agent': 'Company Name myname@company.com'}]\n",
      "DEBUG:urllib3.connectionpool:Starting new HTTPS connection (1): sec.gov:443\n",
      "DEBUG:urllib3.connectionpool:https://sec.gov:443 \"GET /Archives/edgar/data/1004440/000104746910001515/ceg-20091231.xml HTTP/1.1\" 301 0\n",
      "DEBUG:urllib3.connectionpool:Starting new HTTPS connection (1): www.sec.gov:443\n",
      "DEBUG:urllib3.connectionpool:https://www.sec.gov:443 \"GET /Archives/edgar/data/1004440/000104746910001515/ceg-20091231.xml HTTP/1.1\" 200 161141\n"
     ]
    },
    {
     "name": "stdout",
     "output_type": "stream",
     "text": [
      "worker(): saving XML to [/home/oonisim/home/repository/git/oonisim/python_programs/finance/SEC/EDGAR/src/../data/XBRL/1004440/000104746910001515:ceg-20091231.xml]...\n"
     ]
    },
    {
     "name": "stderr",
     "output_type": "stream",
     "text": [
      "DEBUG:__main__:worker(): saving XML to [/home/oonisim/home/repository/git/oonisim/python_programs/finance/SEC/EDGAR/src/../data/XBRL/1004440/000104746910001515:ceg-20091231.xml]...\n",
      "DEBUG:sec_edgar_download_xbrl_xml:save_to_xml(): saving XML to [/home/oonisim/home/repository/git/oonisim/python_programs/finance/SEC/EDGAR/src/../data/XBRL/1004440/000104746910001515/ceg-20091231.xml]...\n",
      "DEBUG:sec_edgar_utility:http_get_content(): GET url [https://sec.gov/Archives/edgar/data/1004980/000100498010000015/pcg-20091231.xml] headers [{'User-Agent': 'Company Name myname@company.com'}]\n",
      "DEBUG:urllib3.connectionpool:Starting new HTTPS connection (1): sec.gov:443\n",
      "DEBUG:urllib3.connectionpool:https://sec.gov:443 \"GET /Archives/edgar/data/1004980/000100498010000015/pcg-20091231.xml HTTP/1.1\" 301 0\n",
      "DEBUG:urllib3.connectionpool:Starting new HTTPS connection (1): www.sec.gov:443\n",
      "DEBUG:urllib3.connectionpool:https://www.sec.gov:443 \"GET /Archives/edgar/data/1004980/000100498010000015/pcg-20091231.xml HTTP/1.1\" 200 146096\n"
     ]
    },
    {
     "name": "stdout",
     "output_type": "stream",
     "text": [
      "worker(): saving XML to [/home/oonisim/home/repository/git/oonisim/python_programs/finance/SEC/EDGAR/src/../data/XBRL/1004980/000100498010000015:pcg-20091231.xml]...\n"
     ]
    },
    {
     "name": "stderr",
     "output_type": "stream",
     "text": [
      "DEBUG:__main__:worker(): saving XML to [/home/oonisim/home/repository/git/oonisim/python_programs/finance/SEC/EDGAR/src/../data/XBRL/1004980/000100498010000015:pcg-20091231.xml]...\n",
      "DEBUG:sec_edgar_download_xbrl_xml:save_to_xml(): saving XML to [/home/oonisim/home/repository/git/oonisim/python_programs/finance/SEC/EDGAR/src/../data/XBRL/1004980/000100498010000015/pcg-20091231.xml]...\n",
      "DEBUG:sec_edgar_utility:http_get_content(): GET url [https://sec.gov/Archives/edgar/data/100826/000119312510043155/aee-20091231.xml] headers [{'User-Agent': 'Company Name myname@company.com'}]\n",
      "DEBUG:urllib3.connectionpool:Starting new HTTPS connection (1): sec.gov:443\n",
      "DEBUG:urllib3.connectionpool:https://sec.gov:443 \"GET /Archives/edgar/data/100826/000119312510043155/aee-20091231.xml HTTP/1.1\" 301 0\n",
      "DEBUG:urllib3.connectionpool:Starting new HTTPS connection (1): www.sec.gov:443\n",
      "DEBUG:urllib3.connectionpool:https://www.sec.gov:443 \"GET /Archives/edgar/data/100826/000119312510043155/aee-20091231.xml HTTP/1.1\" 200 None\n"
     ]
    },
    {
     "name": "stdout",
     "output_type": "stream",
     "text": [
      "worker(): saving XML to [/home/oonisim/home/repository/git/oonisim/python_programs/finance/SEC/EDGAR/src/../data/XBRL/100826/000119312510043155:aee-20091231.xml]...\n"
     ]
    },
    {
     "name": "stderr",
     "output_type": "stream",
     "text": [
      "DEBUG:__main__:worker(): saving XML to [/home/oonisim/home/repository/git/oonisim/python_programs/finance/SEC/EDGAR/src/../data/XBRL/100826/000119312510043155:aee-20091231.xml]...\n",
      "DEBUG:sec_edgar_download_xbrl_xml:save_to_xml(): saving XML to [/home/oonisim/home/repository/git/oonisim/python_programs/finance/SEC/EDGAR/src/../data/XBRL/100826/000119312510043155/aee-20091231.xml]...\n",
      "DEBUG:sec_edgar_utility:http_get_content(): GET url [https://sec.gov/Archives/edgar/data/100885/000119312510023294/unp-20091231.xml] headers [{'User-Agent': 'Company Name myname@company.com'}]\n",
      "DEBUG:urllib3.connectionpool:Starting new HTTPS connection (1): sec.gov:443\n",
      "DEBUG:urllib3.connectionpool:https://sec.gov:443 \"GET /Archives/edgar/data/100885/000119312510023294/unp-20091231.xml HTTP/1.1\" 301 0\n",
      "DEBUG:urllib3.connectionpool:Starting new HTTPS connection (1): www.sec.gov:443\n",
      "DEBUG:urllib3.connectionpool:https://www.sec.gov:443 \"GET /Archives/edgar/data/100885/000119312510023294/unp-20091231.xml HTTP/1.1\" 200 51363\n"
     ]
    },
    {
     "name": "stdout",
     "output_type": "stream",
     "text": [
      "worker(): saving XML to [/home/oonisim/home/repository/git/oonisim/python_programs/finance/SEC/EDGAR/src/../data/XBRL/100885/000119312510023294:unp-20091231.xml]...\n"
     ]
    },
    {
     "name": "stderr",
     "output_type": "stream",
     "text": [
      "DEBUG:__main__:worker(): saving XML to [/home/oonisim/home/repository/git/oonisim/python_programs/finance/SEC/EDGAR/src/../data/XBRL/100885/000119312510023294:unp-20091231.xml]...\n",
      "DEBUG:sec_edgar_download_xbrl_xml:save_to_xml(): saving XML to [/home/oonisim/home/repository/git/oonisim/python_programs/finance/SEC/EDGAR/src/../data/XBRL/100885/000119312510023294/unp-20091231.xml]...\n",
      "DEBUG:sec_edgar_utility:http_get_content(): GET url [https://sec.gov/Archives/edgar/data/1010775/000119312510041620/mir-20091231.xml] headers [{'User-Agent': 'Company Name myname@company.com'}]\n",
      "DEBUG:urllib3.connectionpool:Starting new HTTPS connection (1): sec.gov:443\n",
      "DEBUG:urllib3.connectionpool:https://sec.gov:443 \"GET /Archives/edgar/data/1010775/000119312510041620/mir-20091231.xml HTTP/1.1\" 301 0\n",
      "DEBUG:urllib3.connectionpool:Starting new HTTPS connection (1): www.sec.gov:443\n",
      "DEBUG:urllib3.connectionpool:https://www.sec.gov:443 \"GET /Archives/edgar/data/1010775/000119312510041620/mir-20091231.xml HTTP/1.1\" 200 113719\n"
     ]
    },
    {
     "name": "stdout",
     "output_type": "stream",
     "text": [
      "worker(): saving XML to [/home/oonisim/home/repository/git/oonisim/python_programs/finance/SEC/EDGAR/src/../data/XBRL/1010775/000119312510041620:mir-20091231.xml]...\n"
     ]
    },
    {
     "name": "stderr",
     "output_type": "stream",
     "text": [
      "DEBUG:__main__:worker(): saving XML to [/home/oonisim/home/repository/git/oonisim/python_programs/finance/SEC/EDGAR/src/../data/XBRL/1010775/000119312510041620:mir-20091231.xml]...\n",
      "DEBUG:sec_edgar_download_xbrl_xml:save_to_xml(): saving XML to [/home/oonisim/home/repository/git/oonisim/python_programs/finance/SEC/EDGAR/src/../data/XBRL/1010775/000119312510041620/mir-20091231.xml]...\n",
      "DEBUG:sec_edgar_utility:http_get_content(): GET url [https://sec.gov/Archives/edgar/data/1011006/000119312510043149/yhoo-20091231.xml] headers [{'User-Agent': 'Company Name myname@company.com'}]\n",
      "DEBUG:urllib3.connectionpool:Starting new HTTPS connection (1): sec.gov:443\n",
      "DEBUG:urllib3.connectionpool:https://sec.gov:443 \"GET /Archives/edgar/data/1011006/000119312510043149/yhoo-20091231.xml HTTP/1.1\" 301 0\n",
      "DEBUG:urllib3.connectionpool:Starting new HTTPS connection (1): www.sec.gov:443\n",
      "DEBUG:urllib3.connectionpool:https://www.sec.gov:443 \"GET /Archives/edgar/data/1011006/000119312510043149/yhoo-20091231.xml HTTP/1.1\" 200 78778\n"
     ]
    },
    {
     "name": "stdout",
     "output_type": "stream",
     "text": [
      "worker(): saving XML to [/home/oonisim/home/repository/git/oonisim/python_programs/finance/SEC/EDGAR/src/../data/XBRL/1011006/000119312510043149:yhoo-20091231.xml]...\n"
     ]
    },
    {
     "name": "stderr",
     "output_type": "stream",
     "text": [
      "DEBUG:__main__:worker(): saving XML to [/home/oonisim/home/repository/git/oonisim/python_programs/finance/SEC/EDGAR/src/../data/XBRL/1011006/000119312510043149:yhoo-20091231.xml]...\n",
      "DEBUG:sec_edgar_download_xbrl_xml:save_to_xml(): saving XML to [/home/oonisim/home/repository/git/oonisim/python_programs/finance/SEC/EDGAR/src/../data/XBRL/1011006/000119312510043149/yhoo-20091231.xml]...\n",
      "DEBUG:sec_edgar_utility:http_get_content(): GET url [https://sec.gov/Archives/edgar/data/1013871/000095012310015824/nrg-20091231.xml] headers [{'User-Agent': 'Company Name myname@company.com'}]\n",
      "DEBUG:urllib3.connectionpool:Starting new HTTPS connection (1): sec.gov:443\n",
      "DEBUG:urllib3.connectionpool:https://sec.gov:443 \"GET /Archives/edgar/data/1013871/000095012310015824/nrg-20091231.xml HTTP/1.1\" 301 0\n",
      "DEBUG:urllib3.connectionpool:Starting new HTTPS connection (1): www.sec.gov:443\n",
      "DEBUG:urllib3.connectionpool:https://www.sec.gov:443 \"GET /Archives/edgar/data/1013871/000095012310015824/nrg-20091231.xml HTTP/1.1\" 200 180138\n"
     ]
    },
    {
     "name": "stdout",
     "output_type": "stream",
     "text": [
      "worker(): saving XML to [/home/oonisim/home/repository/git/oonisim/python_programs/finance/SEC/EDGAR/src/../data/XBRL/1013871/000095012310015824:nrg-20091231.xml]...\n"
     ]
    },
    {
     "name": "stderr",
     "output_type": "stream",
     "text": [
      "DEBUG:__main__:worker(): saving XML to [/home/oonisim/home/repository/git/oonisim/python_programs/finance/SEC/EDGAR/src/../data/XBRL/1013871/000095012310015824:nrg-20091231.xml]...\n",
      "DEBUG:sec_edgar_download_xbrl_xml:save_to_xml(): saving XML to [/home/oonisim/home/repository/git/oonisim/python_programs/finance/SEC/EDGAR/src/../data/XBRL/1013871/000095012310015824/nrg-20091231.xml]...\n",
      "DEBUG:sec_edgar_utility:http_get_content(): GET url [https://sec.gov/Archives/edgar/data/1014473/000119312510043162/vrsn-20091231.xml] headers [{'User-Agent': 'Company Name myname@company.com'}]\n",
      "DEBUG:urllib3.connectionpool:Starting new HTTPS connection (1): sec.gov:443\n",
      "DEBUG:urllib3.connectionpool:https://sec.gov:443 \"GET /Archives/edgar/data/1014473/000119312510043162/vrsn-20091231.xml HTTP/1.1\" 301 0\n",
      "DEBUG:urllib3.connectionpool:Starting new HTTPS connection (1): www.sec.gov:443\n",
      "DEBUG:urllib3.connectionpool:https://www.sec.gov:443 \"GET /Archives/edgar/data/1014473/000119312510043162/vrsn-20091231.xml HTTP/1.1\" 200 92289\n"
     ]
    },
    {
     "name": "stdout",
     "output_type": "stream",
     "text": [
      "worker(): saving XML to [/home/oonisim/home/repository/git/oonisim/python_programs/finance/SEC/EDGAR/src/../data/XBRL/1014473/000119312510043162:vrsn-20091231.xml]...\n"
     ]
    },
    {
     "name": "stderr",
     "output_type": "stream",
     "text": [
      "DEBUG:__main__:worker(): saving XML to [/home/oonisim/home/repository/git/oonisim/python_programs/finance/SEC/EDGAR/src/../data/XBRL/1014473/000119312510043162:vrsn-20091231.xml]...\n",
      "DEBUG:sec_edgar_download_xbrl_xml:save_to_xml(): saving XML to [/home/oonisim/home/repository/git/oonisim/python_programs/finance/SEC/EDGAR/src/../data/XBRL/1014473/000119312510043162/vrsn-20091231.xml]...\n",
      "DEBUG:sec_edgar_utility:http_get_content(): GET url [https://sec.gov/Archives/edgar/data/1014739/000101473910000004/bios-20091231.xml] headers [{'User-Agent': 'Company Name myname@company.com'}]\n",
      "DEBUG:urllib3.connectionpool:Starting new HTTPS connection (1): sec.gov:443\n",
      "DEBUG:urllib3.connectionpool:https://sec.gov:443 \"GET /Archives/edgar/data/1014739/000101473910000004/bios-20091231.xml HTTP/1.1\" 301 0\n",
      "DEBUG:urllib3.connectionpool:Starting new HTTPS connection (1): www.sec.gov:443\n",
      "DEBUG:urllib3.connectionpool:https://www.sec.gov:443 \"GET /Archives/edgar/data/1014739/000101473910000004/bios-20091231.xml HTTP/1.1\" 200 42517\n"
     ]
    },
    {
     "name": "stdout",
     "output_type": "stream",
     "text": [
      "worker(): saving XML to [/home/oonisim/home/repository/git/oonisim/python_programs/finance/SEC/EDGAR/src/../data/XBRL/1014739/000101473910000004:bios-20091231.xml]...\n"
     ]
    },
    {
     "name": "stderr",
     "output_type": "stream",
     "text": [
      "DEBUG:__main__:worker(): saving XML to [/home/oonisim/home/repository/git/oonisim/python_programs/finance/SEC/EDGAR/src/../data/XBRL/1014739/000101473910000004:bios-20091231.xml]...\n",
      "DEBUG:sec_edgar_download_xbrl_xml:save_to_xml(): saving XML to [/home/oonisim/home/repository/git/oonisim/python_programs/finance/SEC/EDGAR/src/../data/XBRL/1014739/000101473910000004/bios-20091231.xml]...\n"
     ]
    }
   ],
   "source": [
    "for index, row in listing.iterrows():\n",
    "    # --------------------------------------------------------------------------------\n",
    "    # Download XBRL XML\n",
    "    # --------------------------------------------------------------------------------\n",
    "    url = row['Filename']\n",
    "    content = http_get_content(url, EDGAR_HTTP_HEADERS)\n",
    "\n",
    "    # --------------------------------------------------------------------------------\n",
    "    # Save\n",
    "    # --------------------------------------------------------------------------------\n",
    "    elements = url.split('/')\n",
    "    filename = elements[-1]\n",
    "    accession = elements[-2]\n",
    "    cik = elements[-3]\n",
    "    assert str(row['CIK']) == cik, f\"CIK [{row['CIK']})] must match CIK part [{cik}] in url {url}\"\n",
    "\n",
    "    directory = f\"{DATA_DIR_XBRL}{os.sep}{cik}{os.sep}{accession}\"\n",
    "    Logger.debug(f\"worker(): saving XML to [{directory}:{filename}]...\")\n",
    "\n",
    "    save_to_xml(content, directory, filename)"
   ]
  },
  {
   "cell_type": "markdown",
   "id": "appointed-remark",
   "metadata": {},
   "source": [
    "\n",
    "\n",
    "---"
   ]
  }
 ],
 "metadata": {
  "kernelspec": {
   "display_name": "Python 3 (ipykernel)",
   "language": "python",
   "name": "python3"
  },
  "language_info": {
   "codemirror_mode": {
    "name": "ipython",
    "version": 3
   },
   "file_extension": ".py",
   "mimetype": "text/x-python",
   "name": "python",
   "nbconvert_exporter": "python",
   "pygments_lexer": "ipython3",
   "version": "3.8.10"
  }
 },
 "nbformat": 4,
 "nbformat_minor": 5
}
