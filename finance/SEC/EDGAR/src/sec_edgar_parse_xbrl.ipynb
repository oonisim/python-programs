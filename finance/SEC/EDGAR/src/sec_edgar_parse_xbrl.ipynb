{
 "cells": [
  {
   "cell_type": "markdown",
   "id": "0ddfbf2b",
   "metadata": {},
   "source": [
    "# Parsing SEC Filing XBRL Document\n",
    "\n",
    "\n",
    "## Objective\n",
    "\n",
    "Parse the filing XBRL file to create a DOM like structure that represent the filing data\n",
    "\n",
    "## References\n",
    "\n",
    "* [XBRL Specification - Extensible Business Reporting Language (XBRL) 2.1](https://www.xbrl.org/Specification/XBRL-2.1/REC-2003-12-31/XBRL-2.1-REC-2003-12-31+corrected-errata-2013-02-20.html)\n",
    "\n",
    "* [List of US GAAP Standards](https://xbrlsite.azurewebsites.net/2019/Prototype/references/us-gaap/)\n",
    "* [XBRL US - List of Elements](https://xbrl.us/data-rule/dqc_0015-le/)\n",
    "\n",
    "**Element Version**|**Element ID**|**Namespace**|**Element Label**|**Element Name**|**Balance Type**|**Definition**\n",
    ":-----:|:-----:|:-----:|:-----:|:-----:|:-----:|:-----:\n",
    "1|1367|us-gaap|Interest Expense|InterestExpense|debit|Amount of the cost of borrowed funds accounted for as interest expense.\n",
    "2|2692|us-gaap|Cash and Cash Equivalents, at Carrying Value|CashAndCashEquivalentsAtCarryingValue|debit|Amount of currency on hand as well as demand deposits with banks or financial institutions. Includes other kinds of accounts that have the general characteristics of demand deposits. Also includes short-term, highly liquid investments that are both readily convertible to known amounts of cash and so near their maturity that they present insignificant risk of changes in value because of changes in interest rates. Excludes cash and cash equivalents within disposal group and discontinued operation.\n",
    "\n",
    "## XBRL Element\n",
    "\n",
    "* [Understanding the Financial Report Logical System](https://www.youtube.com/playlist?list=PLqMZRUzQ64B7EWamzDP-WaYbS_W0RL9nt)\n",
    "* [XBRL - What is us-gaap:OperatingSegmentsMember element anb where is it defined?](https://money.stackexchange.com/questions/148010/xbrl-what-is-us-gaapoperatingsegmentsmember-element-anb-where-is-it-defined)\n",
    "\n",
    "### Example\n",
    "For instance, Qorvo 2020 10K\n",
    "\n",
    "* [XBRL/rfmd-20210403_htm.xml](https://www.sec.gov/Archives/edgar/data/1604778/000160477821000032/rfmd-20210403_htm.xml)\n",
    "* [HTML/rfmd-20210403.htm)](https://www.sec.gov/Archives/edgar/data/1604778/000160477821000032/rfmd-20210403.htm):\n",
    "\n",
    "```\n",
    "<us-gaap:cashandcashequivalentsatcarryingvalue contextref=\"*\" decimals=\"-3\" id=\"...\" unitref=\"usd\">\n",
    "  1397880000\n",
    "</us-gaap:cashandcashequivalentsatcarryingvalue>,\n",
    "<us-gaap:cashandcashequivalentsatcarryingvalue contextref=\"***\" decimals=\"-3\" id=\"...\" unitref=\"usd\">\n",
    "  714939000\n",
    "</us-gaap:cashandcashequivalentsatcarryingvalue>,\n",
    "<us-gaap:cashandcashequivalentsatcarryingvalue contextref=\"***\" decimals=\"-3\" id=\"...\" unitref=\"usd\">\n",
    " 711035000\n",
    "</us-gaap:cashandcashequivalentsatcarryingvalue>\n",
    "```\n",
    "\n",
    "Corresponds to the Cash and Cash equivalents in the Cash Flow statement.\n",
    "\n",
    "<img src=\"../image/edgar_qorvo_2020_10K_CF.png\" align=\"left\" width=800 />"
   ]
  },
  {
   "cell_type": "markdown",
   "id": "b5dc76bb",
   "metadata": {},
   "source": [
    "---\n",
    "# Setup"
   ]
  },
  {
   "cell_type": "code",
   "execution_count": 1,
   "id": "2200e8cd",
   "metadata": {},
   "outputs": [],
   "source": [
    "from typing import (\n",
    "    List,\n",
    "    Dict\n",
    ")\n",
    "import datetime\n",
    "import dateutil\n",
    "import calendar\n",
    "import re\n",
    "import requests\n",
    "import unicodedata\n",
    "import bs4\n",
    "from bs4 import BeautifulSoup\n",
    "from IPython.core.display import (\n",
    "    display, \n",
    "    HTML\n",
    ")\n",
    "\n",
    "import numpy as np\n",
    "import pandas as pd\n",
    "pd.set_option('display.float_format', lambda x: ('%f' % x).rstrip('0').rstrip('.'))\n",
    "pd.set_option('display.colheader_justify', 'center')"
   ]
  },
  {
   "cell_type": "code",
   "execution_count": 2,
   "id": "0b59706f",
   "metadata": {},
   "outputs": [
    {
     "data": {
      "text/html": [
       "<style>\n",
       "table {float:left}\n",
       "</style>\n"
      ],
      "text/plain": [
       "<IPython.core.display.HTML object>"
      ]
     },
     "metadata": {},
     "output_type": "display_data"
    }
   ],
   "source": [
    "%%html\n",
    "<style>\n",
    "table {float:left}\n",
    "</style>"
   ]
  },
  {
   "cell_type": "code",
   "execution_count": 3,
   "id": "5d0cc495",
   "metadata": {},
   "outputs": [],
   "source": [
    "def restore_windows_1252_characters(restore_string):\n",
    "    \"\"\"\n",
    "        Replace C1 control characters in the Unicode string s by the\n",
    "        characters at the corresponding code points in Windows-1252,\n",
    "        where possible.\n",
    "    \"\"\"\n",
    "\n",
    "    def to_windows_1252(match):\n",
    "        try:\n",
    "            return bytes([ord(match.group(0))]).decode('windows-1252')\n",
    "        except UnicodeDecodeError:\n",
    "            # No character at the corresponding code point: remove it.\n",
    "            return ''\n",
    "        \n",
    "    return re.sub(r'[\\u0080-\\u0099]', to_windows_1252, restore_string)"
   ]
  },
  {
   "cell_type": "markdown",
   "id": "7834e32b",
   "metadata": {},
   "source": [
    "# Global Constant"
   ]
  },
  {
   "cell_type": "code",
   "execution_count": 4,
   "id": "faac3969",
   "metadata": {},
   "outputs": [
    {
     "data": {
      "text/plain": [
       "<re.Match object; span=(0, 9), match=' -123.12 '>"
      ]
     },
     "execution_count": 4,
     "metadata": {},
     "output_type": "execute_result"
    }
   ],
   "source": [
    "# regexp to extract numeric string\n",
    "REGEXP_NUMERIC = re.compile(r\"\\s*[\\d.-]*\\s*\")\n",
    "\n",
    "re.match(REGEXP_NUMERIC, \" -123.12 \")"
   ]
  },
  {
   "cell_type": "code",
   "execution_count": 5,
   "id": "19e1b75f",
   "metadata": {},
   "outputs": [],
   "source": [
    "FS_TYPE_10K = \"10-K\"\n",
    "FS_TYPE_10Q = \"10-Q\""
   ]
  },
  {
   "cell_type": "markdown",
   "id": "54e42be6",
   "metadata": {},
   "source": [
    "---\n",
    "# Load EDGAR Filing XBRL\n",
    "\n",
    "Download the ```_htm.xml``` file from EDGAR. SEC now requires user-agent header."
   ]
  },
  {
   "cell_type": "code",
   "execution_count": 6,
   "id": "835ee3d4",
   "metadata": {},
   "outputs": [
    {
     "data": {
      "text/plain": [
       "'https://www.sec.gov/Archives/edgar/data/1604778/000160477821000032/rfmd-20210403_htm.xml'"
      ]
     },
     "execution_count": 6,
     "metadata": {},
     "output_type": "execute_result"
    }
   ],
   "source": [
    "# QORVO 2021 10K\n",
    "CIK = '1604778'\n",
    "ACCESSION = '000160477821000032'\n",
    "FS_TYPE = FS_TYPE_10K\n",
    "\n",
    "FILING_DIR_URL = f\"https://www.sec.gov/Archives/edgar/data/{CIK}/{ACCESSION}\"\n",
    "XBRL_NAME = \"rfmd-20210403_htm.xml\"\n",
    "XBRL_URL = \"/\".join([FILING_DIR_URL, XBRL_NAME])\n",
    "\n",
    "XBRL_URL"
   ]
  },
  {
   "cell_type": "code",
   "execution_count": 7,
   "id": "0ffeac20",
   "metadata": {},
   "outputs": [
    {
     "data": {
      "text/plain": [
       "'https://www.sec.gov/Archives/edgar/data/0001000230/000143774921028951/occ20211031_10k_htm.xml'"
      ]
     },
     "execution_count": 7,
     "metadata": {},
     "output_type": "execute_result"
    }
   ],
   "source": [
    "# define the url to specific html_text file\n",
    "CIK = '0001000230'\n",
    "ACCESSION = '000143774921028951'\n",
    "FS_TYPE = FS_TYPE_10K\n",
    "\n",
    "FILING_DIR_URL = f\"https://www.sec.gov/Archives/edgar/data/{CIK}/{ACCESSION}\"\n",
    "XBRL_NAME = \"occ20211031_10k_htm.xml\"\n",
    "XBRL_URL = \"/\".join([FILING_DIR_URL, XBRL_NAME])\n",
    "\n",
    "XBRL_URL"
   ]
  },
  {
   "cell_type": "code",
   "execution_count": 8,
   "id": "8deb5aab",
   "metadata": {},
   "outputs": [
    {
     "data": {
      "text/plain": [
       "'https://www.sec.gov/Archives/edgar/data/1047127/000104712721000043/amkr-20210930_htm.xml'"
      ]
     },
     "execution_count": 8,
     "metadata": {},
     "output_type": "execute_result"
    }
   ],
   "source": [
    "# AMKOR 2021 10K\n",
    "CIK = '1047127'\n",
    "ACCESSION = '000104712721000043'\n",
    "FS_TYPE = FS_TYPE_10Q\n",
    "\n",
    "FILING_DIR_URL = f\"https://www.sec.gov/Archives/edgar/data/{CIK}/{ACCESSION}\"\n",
    "XBRL_NAME = \"amkr-20210930_htm.xml\"\n",
    "XBRL_URL = \"/\".join([FILING_DIR_URL, XBRL_NAME])\n",
    "\n",
    "XBRL_URL"
   ]
  },
  {
   "cell_type": "code",
   "execution_count": 9,
   "id": "5c791def",
   "metadata": {},
   "outputs": [],
   "source": [
    "headers = {\"User-Agent\": \"Company Name myname@company.com\"}\n",
    "response = requests.get(XBRL_URL, headers=headers)\n",
    "\n",
    "if response.status_code == 200:\n",
    "    content = response.content.decode(\"utf-8\") \n",
    "else:\n",
    "    assert False, f\"{XBRL_URL} failed with status {response.status_code}\""
   ]
  },
  {
   "cell_type": "code",
   "execution_count": 10,
   "id": "15f4f874",
   "metadata": {},
   "outputs": [],
   "source": [
    "soup = BeautifulSoup(content, 'html.parser')"
   ]
  },
  {
   "cell_type": "markdown",
   "id": "9c96339c",
   "metadata": {},
   "source": [
    "## Repoting period\n",
    "\n",
    "Each 10-K and 10-Q XBRL has the reporting period for the filing. To exclude the other period, e.g. pervious year or quarter, use the ```context id``` for the reporting period. **Most** 10-K, 10-Q specify the annual period with the first ```<startDate> and <endDate>``` tags.\n",
    "\n",
    "For instances:\n",
    "\n",
    "### QRVO 10-K 2020\n",
    "\n",
    "```\n",
    "<context id=\"ifb6ce67cf6954ebf88471dd82daa9247_D20200329-20210403\">\n",
    "    <entity>\n",
    "    <identifier scheme=\"http://www.sec.gov/CIK\">0001604778</identifier>\n",
    "    </entity>\n",
    "    <period>\n",
    "        <startDate>2020-03-29</startDate>\n",
    "        <endDate>2021-04-03</endDate>\n",
    "    </period>\n",
    "</context>\n",
    "```\n",
    "\n",
    "### AMKR 10-K 2020\n",
    "\n",
    "```\n",
    "<context id=\"i5fac0a392353427b8266f185495754d3_D20200101-20201231\">\n",
    "    <entity>\n",
    "    <identifier scheme=\"http://www.sec.gov/CIK\">0001047127</identifier>\n",
    "    </entity>\n",
    "    <period>\n",
    "        <startDate>2020-01-01</startDate>\n",
    "        <endDate>2020-12-31</endDate>\n",
    "    </period>\n",
    "</context>\n",
    "```\n",
    "\n",
    "### AAPL 10-Q 4th QTR 2020\n",
    "\n",
    "```\n",
    "<context id=\"i6e431846933d461fb8c8c0bdf98c9758_D20200927-20201226\">\n",
    "    <entity>\n",
    "    <identifier scheme=\"http://www.sec.gov/CIK\">0000320193</identifier>\n",
    "    </entity>\n",
    "    <period>\n",
    "        <startDate>2020-09-27</startDate>\n",
    "        <endDate>2020-12-26</endDate>\n",
    "    </period>\n",
    "</context>\n",
    "```\n",
    "\n",
    "**However, there are companies that do not have this manner**. For instance [10-K for OPTICAL CABLE CORPORATION(CIK=0001000230)](https://www.sec.gov/Archives/edgar/data/1000230/000143774921028951/occ20211031_10k_htm.xml) has the same start and end dates at first.\n",
    "\n",
    "```\n",
    "<context id=\"d202110K\">\n",
    "\t<entity>\n",
    "\t\t<identifier scheme=\"http://www.sec.gov/CIK\">0001000230</identifier>\n",
    "\t</entity>\n",
    "\t<period>\n",
    "\t\t<startDate>2021-10-31</startDate>   # <-----\n",
    "\t\t<endDate>2021-10-31</endDate>\n",
    "\t</period>\n",
    "</context>\n",
    "<context id=\"d_2020-11-01_2021-10-31\">\n",
    "\t<entity>\n",
    "\t\t<identifier scheme=\"http://www.sec.gov/CIK\">0001000230</identifier>\n",
    "\t</entity>\n",
    "\t<period>\n",
    "\t\t<startDate>2020-11-01</startDate>   # <-----\n",
    "\t\t<endDate>2021-10-31</endDate>\n",
    "\t</period>\n",
    "</context>\n",
    "```\n",
    "\n",
    "The report uses the 2nd for 2021 F/S element value but does not use the first one.\n",
    "\n",
    "**B/S**\n",
    "```\n",
    "<us-gaap:Assets \n",
    "    contextRef=\"i_2021-10-31\"    # <-----\n",
    "    decimals=\"INF\" \n",
    "    id=\"c79893606\" \n",
    "    unitRef=\"USD\"\n",
    ">\n",
    "  37916530\n",
    "</us-gaap:Assets>\n",
    "```\n",
    "\n",
    "**P/L**\n",
    "```\n",
    "<us-gaap:RevenueFromContractWithCustomerIncludingAssessedTax \n",
    "  contextRef=\"d_2020-11-01_2021-10-31\"     # <-----\n",
    "  decimals=\"INF\" \n",
    "  id=\"c79893662\" \n",
    "  unitRef=\"USD\"\n",
    ">\n",
    "  59136294\n",
    "</us-gaap:RevenueFromContractWithCustomerIncludingAssessedTax>\n",
    "```\n",
    "\n",
    "<img src='../image/edgar_optical_cable_2021_10K.png' align=\"left\" width=500/>"
   ]
  },
  {
   "cell_type": "markdown",
   "id": "f3bbebf5",
   "metadata": {},
   "source": [
    "### Get the period from the 1st\n",
    "\n",
    "For now, just get the period from the 1st **period** element."
   ]
  },
  {
   "cell_type": "code",
   "execution_count": 11,
   "id": "b88ea0e7",
   "metadata": {},
   "outputs": [
    {
     "name": "stdout",
     "output_type": "stream",
     "text": [
      "PERIOD is 2021-09-30. CONTEXT_ID is i9289f6e06c5a47e09383379425d29391_D20210101-20210930\n"
     ]
    }
   ],
   "source": [
    "CONTEXT = None\n",
    "for context in soup.find_all('context'):\n",
    "    if context.find('period') and context.find('period').find('enddate'):\n",
    "        CONTEXT = context\n",
    "        break        \n",
    "        \n",
    "assert CONTEXT is not None, \"Report period not found\"\n",
    "\n",
    "cik_value_in_statement = int(CONTEXT.find('identifier').text.strip())\n",
    "assert int(CIK) == cik_value_in_statement, \\\n",
    "    \"The CIK %s in statement does not match %s\" % (cik_value_in_statement, int(CIK))\n",
    "\n",
    "CONTEXT_ID = CONTEXT['id']\n",
    "PERIOD = CONTEXT.find('period').find('enddate').text.strip()\n",
    "\n",
    "print(f\"PERIOD is {PERIOD}. CONTEXT_ID is {CONTEXT_ID}\")"
   ]
  },
  {
   "cell_type": "markdown",
   "id": "a4bc1c5d",
   "metadata": {},
   "source": [
    "### Regexp to find all the contexts that match with PERIOD\n",
    "\n",
    "10-K, 10-Q F/S uses multiple contexts to refer to the F/S element values for the **period**. Collect all the contexts for the **period**."
   ]
  },
  {
   "cell_type": "code",
   "execution_count": 12,
   "id": "bb7a98aa",
   "metadata": {},
   "outputs": [],
   "source": [
    "def get_target_contexts(soup, period, type=FS_TYPE_10K):\n",
    "    target_contexts = []\n",
    "\n",
    "    end_date = dateutil.parser.parse(period)\n",
    "    duration = datetime.timedelta(days=365) if type == FS_TYPE_10K else datetime.timedelta(days=90)\n",
    "\n",
    "    # The StartDate of the valid context is within +/- 30 days of the starting date of the period.\n",
    "    # If the report is 10-K and the period end is 2021-10-31, then the validate date is between\n",
    "    # 2020-10-1 and 2020-11-1\n",
    "    from_date = end_date - duration - datetime.timedelta(days=30)\n",
    "    to_date = end_date - duration + datetime.timedelta(days=30)\n",
    "\n",
    "    # Contexts with startdate/enddate\n",
    "    for context in soup.find_all('context'):\n",
    "        # print(\"-\"*100)\n",
    "        # print(context)\n",
    "        if context.find('period') and context.find('period').find('enddate', string=period):\n",
    "            start = dateutil.parser.parse(context.find('period').find('startdate').text)\n",
    "            if start == end_date or (from_date < start and start < to_date):\n",
    "                target_contexts.append(context['id'])\n",
    "\n",
    "    \n",
    "    # Contexts with 'instant' element\n",
    "    target_contexts.extend([\n",
    "        context['id'] for context in soup.find_all('context') \n",
    "        if context.find('period') and context.find('period').find(['instant'], string=PERIOD)\n",
    "    ])\n",
    "    \n",
    "    return target_contexts"
   ]
  },
  {
   "cell_type": "code",
   "execution_count": 13,
   "id": "6d1e0b89",
   "metadata": {},
   "outputs": [],
   "source": [
    "contexts = get_target_contexts(soup=soup, period=PERIOD, type=FS_TYPE)\n",
    "contexts_regexp = \"|\".join(contexts)\n",
    "CONTEXT_REGEXP = re.compile(contexts_regexp)"
   ]
  },
  {
   "cell_type": "markdown",
   "id": "b9fc10ed",
   "metadata": {},
   "source": [
    "# Constant"
   ]
  },
  {
   "cell_type": "code",
   "execution_count": 14,
   "id": "517de640",
   "metadata": {},
   "outputs": [],
   "source": [
    "# XBRL Namespace\n",
    "NAMESPACE = \"us-gaap\"\n",
    "\n",
    "# XBRL attribute conditions to match when extracting FS elements\n",
    "ATTRIBUTES = {\n",
    "    \"contextref\": CONTEXT_REGEXP,\n",
    "    \"decimals\": True, \n",
    "    \"unitref\": True\n",
    "}"
   ]
  },
  {
   "cell_type": "code",
   "execution_count": 15,
   "id": "205a93e7",
   "metadata": {},
   "outputs": [],
   "source": [
    "CREDIT_ITEMS = set(map(str.lower, [\n",
    "    f\"{NAMESPACE}:Revenues\",\n",
    "    f\"{NAMESPACE}:GrossProfit\",\n",
    "]))\n",
    "\n",
    "DEBIT_ITEMS = set(map(str.lower, [\n",
    "    f\"{NAMESPACE}:CostOfRevenue\",\n",
    "    f\"{NAMESPACE}:CostOfGoods\",\n",
    "    f\"{NAMESPACE}:CostOfGoodsAndServicesSold\",\n",
    "    f\"{NAMESPACE}:OperatingExpenses\",\n",
    "    f\"{NAMESPACE}:ResearchAndDevelopmentExpense\",\n",
    "    f\"{NAMESPACE}:SellingGeneralAndAdministrativeExpense\",\n",
    "    f\"{NAMESPACE}:OtherCostAndExpenseOperating\",\n",
    "    f\"{NAMESPACE}:IncomeTaxExpenseBenefit\",\n",
    "    f\"{NAMESPACE}:InterestExpense\",\n",
    "]))"
   ]
  },
  {
   "cell_type": "markdown",
   "id": "2859eadd",
   "metadata": {},
   "source": [
    "# Utilities"
   ]
  },
  {
   "cell_type": "code",
   "execution_count": 16,
   "id": "c149e802",
   "metadata": {},
   "outputs": [],
   "source": [
    "def assert_bf4_tag(element):\n",
    "    assert isinstance(element, bs4.element.Tag), \\\n",
    "    f\"Expected BS4 tag but {element} of type {type(element)}\""
   ]
  },
  {
   "cell_type": "code",
   "execution_count": 17,
   "id": "eb433496",
   "metadata": {},
   "outputs": [],
   "source": [
    "def get_element_hash(element):\n",
    "    \"\"\"Generate the financial element hash key to uniquely identify an financial element record\n",
    "    In a F/S, the same element, e.g. gaap:CashAndCashEquivalentsAtCarryingValue can be used at\n",
    "    multiple places, one in B/S and one in P/L.\n",
    "    \n",
    "    To be able to identify if two elements are the same, provides a way to be able to compare\n",
    "    two elements by generating a hash key from the attributes of an element.\n",
    "\n",
    "    Use name, unitref, decimals, text to generate the has.\n",
    "    \n",
    "    Args:\n",
    "        element: bs4.element.Tag for an financial element\n",
    "    Returns: hash key\n",
    "    \"\"\"\n",
    "    assert isinstance(element, bs4.element.Tag)\n",
    "    # key = f\"{element.name}{element['unitref']}{element['contextref']}{element.text}\"\n",
    "    key = f\"{element.name}{element['unitref']}{element.text}\"\n",
    "    return hash(key)"
   ]
  },
  {
   "cell_type": "code",
   "execution_count": 18,
   "id": "8f40389a",
   "metadata": {},
   "outputs": [],
   "source": [
    "def find_financial_elements(soup, element_names, attributes=ATTRIBUTES):\n",
    "    \"\"\"Find the financial statement elements from the XML/HTML source.\n",
    "    Args:\n",
    "        soup: BS4 source\n",
    "        element_names: String or regexp instance to select the financial elements.\n",
    "        attribute: tag attributes to select the financial elements\n",
    "    Returns:\n",
    "        List of BS4 tag objects that matched the element_names and attributes.\n",
    "    \"\"\"\n",
    "    assert isinstance(soup, BeautifulSoup)\n",
    "    assert isinstance(element_names, re.Pattern) or isinstance(element_names, str)\n",
    "\n",
    "    \n",
    "    names = element_names.lower() if isinstance(element_names, str) else element_names\n",
    "\n",
    "    elements = soup.find_all(\n",
    "        name=names,\n",
    "        string=REGEXP_NUMERIC,\n",
    "        attrs=attributes\n",
    "    )\n",
    "    \n",
    "    # Select unique elements\n",
    "    hashes = set([]) \n",
    "    results = []\n",
    "    if elements is not None and len(elements) > 0:\n",
    "        for element in elements:\n",
    "            hash_value = get_element_hash(element)\n",
    "            if hash_value not in hashes:\n",
    "                results.append(element) \n",
    "                hashes.add(hash_value)\n",
    "\n",
    "    return results"
   ]
  },
  {
   "cell_type": "code",
   "execution_count": 19,
   "id": "9ae771a9",
   "metadata": {},
   "outputs": [],
   "source": [
    "def get_financial_element_numeric_values(elements):\n",
    "    # assert isinstance(elements, bs4.element.ResultSet) or isinstance(elements[0], bs4.element.Tag)\n",
    "    assert_bf4_tag(elements[0])\n",
    "    \n",
    "    values = []\n",
    "    for element in elements:\n",
    "        assert re.match(REGEXP_NUMERIC, element.text.strip()), f\"Element must be numeric but {element.text}\"\n",
    "        values.append(float(element.text))\n",
    "        \n",
    "    return values"
   ]
  },
  {
   "cell_type": "code",
   "execution_count": 20,
   "id": "da55f58b",
   "metadata": {},
   "outputs": [],
   "source": [
    "def get_records_for_financial_elements(elements):\n",
    "    # assert isinstance(elements, bs4.element.ResultSet) or isinstance(elements[0], bs4.element.Tag)\n",
    "    assert_bf4_tag(elements[0])\n",
    "    \n",
    "    return [\n",
    "        [\n",
    "            'debit' if element.name in DEBIT_ITEMS else 'credit',\n",
    "            element.name, \n",
    "            element['unitref'], \n",
    "            int(element['decimals']) if element['decimals'].lower() != 'inf' else np.inf, \n",
    "            float(element.text), \n",
    "            element['contextref']\n",
    "        ]\n",
    "        for element in elements\n",
    "    ]"
   ]
  },
  {
   "cell_type": "code",
   "execution_count": 21,
   "id": "e9b5b88d",
   "metadata": {},
   "outputs": [],
   "source": [
    "def get_records_for_financial_element_names(soup, names: List[str]):\n",
    "    elements = find_financial_elements(soup=soup, element_names=names)\n",
    "    if len(elements) > 0:\n",
    "        display_elements(elements)\n",
    "        return get_records_for_financial_elements(elements)\n",
    "    else:\n",
    "        return []"
   ]
  },
  {
   "cell_type": "code",
   "execution_count": 22,
   "id": "cd4877b6",
   "metadata": {},
   "outputs": [],
   "source": [
    "def get_values_for_financial_element_names(soup, names: List[str]):\n",
    "    elements = find_financial_elements(soup=soup, element_names=names)\n",
    "    if len(elements) > 0:\n",
    "        display_elements(elements)\n",
    "        return get_financial_element_numeric_values(elements)\n",
    "    else:\n",
    "        return []"
   ]
  },
  {
   "cell_type": "code",
   "execution_count": 23,
   "id": "06a84787",
   "metadata": {},
   "outputs": [],
   "source": [
    "def display_elements(elements):\n",
    "    assert isinstance(elements, bs4.element.ResultSet) or isinstance(elements[0], bs4.element.Tag)\n",
    "    for element in elements: # decimals=\"-3\" means the displayed value is divied by 1000.\n",
    "        print(f\"{element.name:80} {element['unitref']:5} {element['decimals']:5} {element.text:15}\")"
   ]
  },
  {
   "cell_type": "code",
   "execution_count": 24,
   "id": "4eab00a7",
   "metadata": {},
   "outputs": [],
   "source": [
    "def get_financial_element_columns():\n",
    "    return [\"type\", \"name\", \"unit\", \"decimals\", \"value\", \"context\"]"
   ]
  },
  {
   "cell_type": "markdown",
   "id": "c29a5ca6",
   "metadata": {},
   "source": [
    "---\n",
    "# Shares Outstanding"
   ]
  },
  {
   "cell_type": "code",
   "execution_count": 25,
   "id": "8a132b40",
   "metadata": {},
   "outputs": [],
   "source": [
    "def get_shared_outstanding(soup):\n",
    "    values = get_values_for_financial_element_names(soup=soup, names=rf\"{NAMESPACE}:SharesOutstanding\")\n",
    "    if values: \n",
    "        return values[0]\n",
    "\n",
    "    values = get_values_for_financial_element_names(soup=soup, names=rf\"{NAMESPACE}:CommonStockSharesOutstanding\")\n",
    "    if values: \n",
    "        return values[0]\n",
    "\n",
    "    # assert \"No shared outstanding found\"\n",
    "    return -np.inf"
   ]
  },
  {
   "cell_type": "code",
   "execution_count": 26,
   "id": "ffb12180",
   "metadata": {},
   "outputs": [
    {
     "name": "stdout",
     "output_type": "stream",
     "text": [
      "us-gaap:commonstocksharesoutstanding                                             shares -3    244190000      \n"
     ]
    },
    {
     "data": {
      "text/plain": [
       "244190000"
      ]
     },
     "execution_count": 26,
     "metadata": {},
     "output_type": "execute_result"
    }
   ],
   "source": [
    "SHARES_OUTSTANDING = int(get_shared_outstanding(soup))\n",
    "SHARES_OUTSTANDING"
   ]
  },
  {
   "cell_type": "code",
   "execution_count": 27,
   "id": "f1a74ee5",
   "metadata": {},
   "outputs": [
    {
     "data": {
      "text/html": [
       "<div>\n",
       "<style scoped>\n",
       "    .dataframe tbody tr th:only-of-type {\n",
       "        vertical-align: middle;\n",
       "    }\n",
       "\n",
       "    .dataframe tbody tr th {\n",
       "        vertical-align: top;\n",
       "    }\n",
       "\n",
       "    .dataframe thead th {\n",
       "        text-align: right;\n",
       "    }\n",
       "</style>\n",
       "<table border=\"1\" class=\"dataframe\">\n",
       "  <thead>\n",
       "    <tr style=\"text-align: center;\">\n",
       "      <th></th>\n",
       "      <th>name</th>\n",
       "      <th>unit</th>\n",
       "      <th>decimals</th>\n",
       "      <th>value</th>\n",
       "      <th>context</th>\n",
       "    </tr>\n",
       "  </thead>\n",
       "  <tbody>\n",
       "    <tr>\n",
       "      <th>0</th>\n",
       "      <td>us-gaap:commonstocksharesoutstanding</td>\n",
       "      <td>shares</td>\n",
       "      <td>-3</td>\n",
       "      <td>244190000</td>\n",
       "      <td>i00aae6ee0447424d9c01fc5f8f3bd82d_I20210930</td>\n",
       "    </tr>\n",
       "  </tbody>\n",
       "</table>\n",
       "</div>"
      ],
      "text/plain": [
       "                   name                   unit   decimals    value   \\\n",
       "0  us-gaap:commonstocksharesoutstanding  shares     -3    244190000   \n",
       "\n",
       "                    context                     \n",
       "0  i00aae6ee0447424d9c01fc5f8f3bd82d_I20210930  "
      ]
     },
     "execution_count": 27,
     "metadata": {},
     "output_type": "execute_result"
    }
   ],
   "source": [
    "names = re.compile(\"|\".join([\n",
    "    rf\"{NAMESPACE}:SharesOutstanding\",\n",
    "    rf\"{NAMESPACE}:CommonStockSharesOutstanding\",\n",
    "    rf\"{NAMESPACE}:CommonStockOtherSharesOutstanding\",\n",
    "]).lower())\n",
    "\n",
    "shares_outstandings = find_financial_elements(soup, names)\n",
    "df_ShareOutstanding = pd.DataFrame(\n",
    "    [\n",
    "        [\n",
    "            element.name, \n",
    "            element['unitref'], \n",
    "            int(element['decimals']) if element['decimals'].lower() != 'inf' else np.inf, \n",
    "            float(element.text), \n",
    "            element['contextref']\n",
    "        ]\n",
    "        for element in shares_outstandings\n",
    "    ],\n",
    "    columns=[\"name\", \"unit\", \"decimals\", \"value\", \"context\"]\n",
    ")\n",
    "df_ShareOutstanding"
   ]
  },
  {
   "cell_type": "markdown",
   "id": "e6738a3c",
   "metadata": {},
   "source": [
    "---\n",
    "# Statements of Income (P/L)"
   ]
  },
  {
   "cell_type": "code",
   "execution_count": 28,
   "id": "c913bb81",
   "metadata": {},
   "outputs": [],
   "source": [
    "PL = []"
   ]
  },
  {
   "cell_type": "code",
   "execution_count": 29,
   "id": "700d4c5e",
   "metadata": {},
   "outputs": [
    {
     "data": {
      "text/plain": [
       "datetime.datetime(2021, 5, 1, 0, 0)"
      ]
     },
     "execution_count": 29,
     "metadata": {},
     "output_type": "execute_result"
    }
   ],
   "source": [
    "from dateutil import parser\n",
    "parser.parse(\"2021-05-01\")"
   ]
  },
  {
   "cell_type": "markdown",
   "id": "de666426",
   "metadata": {},
   "source": [
    "## Revenues"
   ]
  },
  {
   "cell_type": "code",
   "execution_count": 30,
   "id": "e55c2cfe",
   "metadata": {},
   "outputs": [],
   "source": [
    "def get_revenues(soup):\n",
    "    values = get_values_for_financial_element_names(soup=soup, names=rf\"{NAMESPACE}:Revenues\")\n",
    "    if values: \n",
    "        return values[0]\n",
    "\n",
    "    # assert \"No revenues found\"\n",
    "    return -np.inf"
   ]
  },
  {
   "cell_type": "code",
   "execution_count": 31,
   "id": "9a0a574e",
   "metadata": {},
   "outputs": [
    {
     "name": "stdout",
     "output_type": "stream",
     "text": [
      "us-gaap:revenues                                                                 usd   -3    1681000000     \n",
      "us-gaap:revenues                                                                 usd   -3    1681000000     \n"
     ]
    },
    {
     "data": {
      "text/plain": [
       "1681000000.0"
      ]
     },
     "execution_count": 31,
     "metadata": {},
     "output_type": "execute_result"
    }
   ],
   "source": [
    "#revenues = find_financial_elements(soup=soup, element_names=re.compile(rf\"{NAMESPACE}:Revenues\".lower()))\n",
    "#display_elements(revenues)\n",
    "#PL += get_records_for_financial_elements(revenues)\n",
    "\n",
    "names = rf\"{NAMESPACE}:Revenues\".lower()\n",
    "PL += get_records_for_financial_element_names(soup=soup, names=names)\n",
    "\n",
    "REVENUES = get_revenues(soup)\n",
    "REVENUES"
   ]
  },
  {
   "cell_type": "markdown",
   "id": "68b80f19",
   "metadata": {},
   "source": [
    "## Cost of Revenues"
   ]
  },
  {
   "cell_type": "code",
   "execution_count": 32,
   "id": "53c8724f",
   "metadata": {},
   "outputs": [
    {
     "name": "stdout",
     "output_type": "stream",
     "text": [
      "us-gaap:costofgoodsandservicessold                                               usd   -3    1356168000     \n"
     ]
    }
   ],
   "source": [
    "names = re.compile(\"|\".join([\n",
    "    rf\"^{NAMESPACE}:CostOfRevenue$\",\n",
    "    rf\"^{NAMESPACE}:CostOfGoods$\",\n",
    "    rf\"^{NAMESPACE}:CostOfGoodsAndServicesSold$\",\n",
    "]).lower())\n",
    "PL += get_records_for_financial_element_names(soup=soup, names=names)"
   ]
  },
  {
   "cell_type": "markdown",
   "id": "e79680c1",
   "metadata": {},
   "source": [
    "## ***___# Gross Profit___***"
   ]
  },
  {
   "cell_type": "code",
   "execution_count": 33,
   "id": "b598ff14",
   "metadata": {},
   "outputs": [],
   "source": [
    "def get_gross_profit(soup):\n",
    "    values = get_values_for_financial_element_names(soup=soup, names=rf\"{NAMESPACE}:GrossProfit\")\n",
    "    if values: \n",
    "        return values[0]\n",
    "\n",
    "    # assert \"No GrossProfit found\"\n",
    "    return -np.inf"
   ]
  },
  {
   "cell_type": "code",
   "execution_count": 34,
   "id": "287cc54d",
   "metadata": {},
   "outputs": [
    {
     "name": "stdout",
     "output_type": "stream",
     "text": [
      "us-gaap:grossprofit                                                              usd   -3    324832000      \n"
     ]
    },
    {
     "data": {
      "text/plain": [
       "324832000.0"
      ]
     },
     "execution_count": 34,
     "metadata": {},
     "output_type": "execute_result"
    }
   ],
   "source": [
    "GROSS_PROFIT = get_gross_profit(soup)\n",
    "GROSS_PROFIT"
   ]
  },
  {
   "cell_type": "markdown",
   "id": "7f82df6e",
   "metadata": {},
   "source": [
    "## Operating Expenses"
   ]
  },
  {
   "cell_type": "markdown",
   "id": "78301f82",
   "metadata": {},
   "source": [
    "### Research and Development"
   ]
  },
  {
   "cell_type": "code",
   "execution_count": 35,
   "id": "93fd493a",
   "metadata": {},
   "outputs": [
    {
     "name": "stdout",
     "output_type": "stream",
     "text": [
      "us-gaap:researchanddevelopmentexpense                                            usd   -3    40790000       \n"
     ]
    }
   ],
   "source": [
    "names = f\"{NAMESPACE}:ResearchAndDevelopmentExpense\".lower()\n",
    "PL += get_records_for_financial_element_names(soup, names)"
   ]
  },
  {
   "cell_type": "markdown",
   "id": "bd403d66",
   "metadata": {},
   "source": [
    "### Administrative Expense"
   ]
  },
  {
   "cell_type": "code",
   "execution_count": 36,
   "id": "b06a7994",
   "metadata": {},
   "outputs": [
    {
     "name": "stdout",
     "output_type": "stream",
     "text": [
      "us-gaap:sellinggeneralandadministrativeexpense                                   usd   -3    72581000       \n"
     ]
    }
   ],
   "source": [
    "names = f\"{NAMESPACE}:SellingGeneralAndAdministrativeExpense\"\n",
    "PL += get_records_for_financial_element_names(soup, names)"
   ]
  },
  {
   "cell_type": "markdown",
   "id": "632045df",
   "metadata": {},
   "source": [
    "### Other operating expenses"
   ]
  },
  {
   "cell_type": "code",
   "execution_count": 37,
   "id": "def4bfe3",
   "metadata": {},
   "outputs": [
    {
     "data": {
      "text/plain": [
       "[<us-gaap:sellinggeneralandadministrativeexpense contextref=\"icb4fe7b89cc949678c0215fb0c6c75ed_D20210701-20210930\" decimals=\"-3\" id=\"id3VybDovL2RvY3MudjEvZG9jOmE2M2JlYTQzZTYzYTQwYTQ5MzU3MzVhNWM1ZDNhNGJhL3NlYzphNjNiZWE0M2U2M2E0MGE0OTM1NzM1YTVjNWQzYTRiYV8xNi9mcmFnOjZiNWVhZGI5NGQ0NTQzMjA5MzZjM2YyZTcwOWNkNjE3L3RhYmxlOjBlNzQ1ZjkzNGMyMjQzMWM5ZDZkNThmMDA4NzI4ZmMwL3RhYmxlcmFuZ2U6MGU3NDVmOTM0YzIyNDMxYzlkNmQ1OGYwMDg3MjhmYzBfNi0xLTEtMS0xNzUw_56509885-f751-439e-a263-25e0e9d168b2\" unitref=\"usd\">72581000</us-gaap:sellinggeneralandadministrativeexpense>]"
      ]
     },
     "execution_count": 37,
     "metadata": {},
     "output_type": "execute_result"
    }
   ],
   "source": [
    "find_financial_elements(soup=soup, element_names=names)"
   ]
  },
  {
   "cell_type": "code",
   "execution_count": 38,
   "id": "ce70657d",
   "metadata": {},
   "outputs": [],
   "source": [
    "names = f\"{NAMESPACE}:OtherCostAndExpenseOperating\"\n",
    "PL += get_records_for_financial_element_names(soup=soup, names=names)"
   ]
  },
  {
   "cell_type": "markdown",
   "id": "6c08132d",
   "metadata": {},
   "source": [
    "## ***___# Total Operating Expenses___***"
   ]
  },
  {
   "cell_type": "code",
   "execution_count": 39,
   "id": "22c037f8",
   "metadata": {},
   "outputs": [
    {
     "name": "stdout",
     "output_type": "stream",
     "text": [
      "us-gaap:operatingexpenses                                                        usd   -3    113371000      \n"
     ]
    },
    {
     "data": {
      "text/plain": [
       "[['debit',\n",
       "  'us-gaap:operatingexpenses',\n",
       "  'usd',\n",
       "  -3,\n",
       "  113371000.0,\n",
       "  'icb4fe7b89cc949678c0215fb0c6c75ed_D20210701-20210930']]"
      ]
     },
     "execution_count": 39,
     "metadata": {},
     "output_type": "execute_result"
    }
   ],
   "source": [
    "names = f\"{NAMESPACE}:OperatingExpenses\".lower()\n",
    "get_records_for_financial_element_names(soup=soup, names=names)"
   ]
  },
  {
   "cell_type": "markdown",
   "id": "7b1d5127",
   "metadata": {},
   "source": [
    "## ***___# Operating Income___***\n",
    "\n",
    "$GrossProfit - Total Operating Expenses$"
   ]
  },
  {
   "cell_type": "code",
   "execution_count": 40,
   "id": "c1a64de7",
   "metadata": {},
   "outputs": [],
   "source": [
    "def get_operating_income(soup):\n",
    "    values = get_values_for_financial_element_names(soup=soup, names=rf\"{NAMESPACE}:OperatingIncomeLoss\")\n",
    "    if values: \n",
    "        return values[0]\n",
    "\n",
    "    # assert \"No OperatingIncomeLoss found\"\n",
    "    return -np.inf"
   ]
  },
  {
   "cell_type": "code",
   "execution_count": 41,
   "id": "1548742d",
   "metadata": {},
   "outputs": [
    {
     "name": "stdout",
     "output_type": "stream",
     "text": [
      "us-gaap:operatingincomeloss                                                      usd   -3    211461000      \n"
     ]
    },
    {
     "data": {
      "text/plain": [
       "211461000.0"
      ]
     },
     "execution_count": 41,
     "metadata": {},
     "output_type": "execute_result"
    }
   ],
   "source": [
    "OPERATING_INCOME = get_operating_income(soup)\n",
    "OPERATING_INCOME"
   ]
  },
  {
   "cell_type": "markdown",
   "id": "4294aaaf",
   "metadata": {},
   "source": [
    "## Other Expenses"
   ]
  },
  {
   "cell_type": "markdown",
   "id": "c401d88e",
   "metadata": {},
   "source": [
    "### Interest Expense\n",
    "\n",
    "* [Investopedia - What Is an Interest Expense?](https://www.investopedia.com/terms/i/interestexpense.asp)\n",
    "\n",
    "> An interest expense is the cost incurred by an entity for borrowed funds. Interest expense is a non-operating expense shown on the income statement. It represents interest payable on any borrowings – bonds, loans, convertible debt or lines of credit. It is essentially calculated as the interest rate times the outstanding principal amount of the debt. Interest expense on the income statement represents ***interest accrued during the period*** covered by the financial statements, and **NOT the amount of interest paid over that period**. While interest expense is tax-deductible for companies, in an individual's case, it depends on his or her jurisdiction and also on the loan's purpose.  \n",
    ">\n",
    "> For most people, mortgage interest is the single-biggest category of interest expense over their lifetimes as interest can total tens of thousands of dollars over the life of a mortgage as illustrated by online calculators."
   ]
  },
  {
   "cell_type": "code",
   "execution_count": 42,
   "id": "d3104631",
   "metadata": {},
   "outputs": [
    {
     "name": "stdout",
     "output_type": "stream",
     "text": [
      "us-gaap:interestexpense                                                          usd   -3    12896000       \n"
     ]
    }
   ],
   "source": [
    "names = f\"{NAMESPACE}:InterestExpense\"\n",
    "PL += get_records_for_financial_element_names(soup=soup, names=names)"
   ]
  },
  {
   "cell_type": "markdown",
   "id": "23c27dc8",
   "metadata": {},
   "source": [
    "### Other Non-operating Expenses"
   ]
  },
  {
   "cell_type": "code",
   "execution_count": 43,
   "id": "92e0fe78",
   "metadata": {},
   "outputs": [
    {
     "name": "stdout",
     "output_type": "stream",
     "text": [
      "us-gaap:othernonoperatingincomeexpense                                           usd   -3    501000         \n"
     ]
    }
   ],
   "source": [
    "names = f\"{NAMESPACE}:OtherNonoperatingIncomeExpense\"\n",
    "PL += get_records_for_financial_element_names(soup=soup, names=names)"
   ]
  },
  {
   "cell_type": "markdown",
   "id": "e310a4b6",
   "metadata": {},
   "source": [
    "## Income Tax"
   ]
  },
  {
   "cell_type": "code",
   "execution_count": 44,
   "id": "776dea0b",
   "metadata": {},
   "outputs": [
    {
     "name": "stdout",
     "output_type": "stream",
     "text": [
      "us-gaap:incometaxexpensebenefit                                                  usd   -3    17219000       \n"
     ]
    }
   ],
   "source": [
    "names = f\"{NAMESPACE}:IncomeTaxExpenseBenefit\"\n",
    "PL += get_records_for_financial_element_names(soup=soup, names=names)"
   ]
  },
  {
   "cell_type": "markdown",
   "id": "809ca1c3",
   "metadata": {},
   "source": [
    "## ***___# Net Income___***\n",
    "\n",
    "$GrossProfit - (Operating Expenses + NonOperating Expense) - Tax$"
   ]
  },
  {
   "cell_type": "code",
   "execution_count": 45,
   "id": "31674ef4",
   "metadata": {},
   "outputs": [],
   "source": [
    "def get_net_income(soup):\n",
    "    values = get_values_for_financial_element_names(soup=soup, names=rf\"{NAMESPACE}:NetIncomeLoss\")\n",
    "    if values: \n",
    "        return values[0]\n",
    "\n",
    "    # assert \"No NetIncomeLoss found\"\n",
    "    return -np.inf"
   ]
  },
  {
   "cell_type": "code",
   "execution_count": 46,
   "id": "dba87e2e",
   "metadata": {},
   "outputs": [
    {
     "name": "stdout",
     "output_type": "stream",
     "text": [
      "us-gaap:netincomeloss                                                            usd   -3    180854000      \n"
     ]
    },
    {
     "data": {
      "text/plain": [
       "180854000.0"
      ]
     },
     "execution_count": 46,
     "metadata": {},
     "output_type": "execute_result"
    }
   ],
   "source": [
    "names = f\"{NAMESPACE}:NetIncomeLoss\"\n",
    "NET_INCOME = get_net_income(soup)\n",
    "NET_INCOME"
   ]
  },
  {
   "cell_type": "markdown",
   "id": "5deadd83",
   "metadata": {},
   "source": [
    "## ***___# Net Income Per Share___***\n",
    "\n",
    "* [US GAAP - Is Net Income Per Share the same with EPS?](https://money.stackexchange.com/questions/148015/us-gaap-is-net-income-per-share-the-same-with-eps)"
   ]
  },
  {
   "cell_type": "code",
   "execution_count": 47,
   "id": "4b0d9eb5",
   "metadata": {},
   "outputs": [],
   "source": [
    "def get_eps(soup):\n",
    "    values = get_values_for_financial_element_names(soup=soup, names=rf\"{NAMESPACE}:EarningsPerShareBasic\")\n",
    "    if values: \n",
    "        return values[0]\n",
    "\n",
    "    values = get_values_for_financial_element_names(soup=soup, names=rf\"{NAMESPACE}:EarningsPerShareBasicAndDiluted\")\n",
    "    if values: \n",
    "        return values[0]\n",
    "\n",
    "    return -np.inf"
   ]
  },
  {
   "cell_type": "code",
   "execution_count": 48,
   "id": "357eb478",
   "metadata": {},
   "outputs": [
    {
     "name": "stdout",
     "output_type": "stream",
     "text": [
      "us-gaap:earningspersharebasic                                                    usdPerShare 2     0.74           \n"
     ]
    }
   ],
   "source": [
    "EPS = get_eps(soup)"
   ]
  },
  {
   "cell_type": "markdown",
   "id": "74b3f108",
   "metadata": {},
   "source": [
    "## P/L\n",
    "\n",
    "Is ```us-gaap:othernonoperatingincomeexpense``` credit or debit? As the value is **negative** and so is in the Income Statement, is shoudl be credit -> To be confirmed. "
   ]
  },
  {
   "cell_type": "code",
   "execution_count": 49,
   "id": "3a817577",
   "metadata": {},
   "outputs": [
    {
     "data": {
      "text/html": [
       "<div>\n",
       "<style scoped>\n",
       "    .dataframe tbody tr th:only-of-type {\n",
       "        vertical-align: middle;\n",
       "    }\n",
       "\n",
       "    .dataframe tbody tr th {\n",
       "        vertical-align: top;\n",
       "    }\n",
       "\n",
       "    .dataframe thead th {\n",
       "        text-align: right;\n",
       "    }\n",
       "</style>\n",
       "<table border=\"1\" class=\"dataframe\">\n",
       "  <thead>\n",
       "    <tr style=\"text-align: center;\">\n",
       "      <th></th>\n",
       "      <th>type</th>\n",
       "      <th>name</th>\n",
       "      <th>unit</th>\n",
       "      <th>decimals</th>\n",
       "      <th>value</th>\n",
       "      <th>context</th>\n",
       "    </tr>\n",
       "  </thead>\n",
       "  <tbody>\n",
       "    <tr>\n",
       "      <th>0</th>\n",
       "      <td>credit</td>\n",
       "      <td>us-gaap:revenues</td>\n",
       "      <td>usd</td>\n",
       "      <td>-3</td>\n",
       "      <td>1681000000</td>\n",
       "      <td>icb4fe7b89cc949678c0215fb0c6c75ed_D20210701-20...</td>\n",
       "    </tr>\n",
       "    <tr>\n",
       "      <th>1</th>\n",
       "      <td>debit</td>\n",
       "      <td>us-gaap:costofgoodsandservicessold</td>\n",
       "      <td>usd</td>\n",
       "      <td>-3</td>\n",
       "      <td>1356168000</td>\n",
       "      <td>icb4fe7b89cc949678c0215fb0c6c75ed_D20210701-20...</td>\n",
       "    </tr>\n",
       "    <tr>\n",
       "      <th>2</th>\n",
       "      <td>debit</td>\n",
       "      <td>us-gaap:researchanddevelopmentexpense</td>\n",
       "      <td>usd</td>\n",
       "      <td>-3</td>\n",
       "      <td>40790000</td>\n",
       "      <td>icb4fe7b89cc949678c0215fb0c6c75ed_D20210701-20...</td>\n",
       "    </tr>\n",
       "    <tr>\n",
       "      <th>3</th>\n",
       "      <td>debit</td>\n",
       "      <td>us-gaap:sellinggeneralandadministrativeexpense</td>\n",
       "      <td>usd</td>\n",
       "      <td>-3</td>\n",
       "      <td>72581000</td>\n",
       "      <td>icb4fe7b89cc949678c0215fb0c6c75ed_D20210701-20...</td>\n",
       "    </tr>\n",
       "    <tr>\n",
       "      <th>4</th>\n",
       "      <td>debit</td>\n",
       "      <td>us-gaap:interestexpense</td>\n",
       "      <td>usd</td>\n",
       "      <td>-3</td>\n",
       "      <td>12896000</td>\n",
       "      <td>icb4fe7b89cc949678c0215fb0c6c75ed_D20210701-20...</td>\n",
       "    </tr>\n",
       "    <tr>\n",
       "      <th>5</th>\n",
       "      <td>credit</td>\n",
       "      <td>us-gaap:othernonoperatingincomeexpense</td>\n",
       "      <td>usd</td>\n",
       "      <td>-3</td>\n",
       "      <td>501000</td>\n",
       "      <td>icb4fe7b89cc949678c0215fb0c6c75ed_D20210701-20...</td>\n",
       "    </tr>\n",
       "    <tr>\n",
       "      <th>6</th>\n",
       "      <td>debit</td>\n",
       "      <td>us-gaap:incometaxexpensebenefit</td>\n",
       "      <td>usd</td>\n",
       "      <td>-3</td>\n",
       "      <td>17219000</td>\n",
       "      <td>icb4fe7b89cc949678c0215fb0c6c75ed_D20210701-20...</td>\n",
       "    </tr>\n",
       "  </tbody>\n",
       "</table>\n",
       "</div>"
      ],
      "text/plain": [
       "    type                        name                      unit  decimals  \\\n",
       "0  credit                                us-gaap:revenues  usd     -3      \n",
       "1   debit              us-gaap:costofgoodsandservicessold  usd     -3      \n",
       "2   debit           us-gaap:researchanddevelopmentexpense  usd     -3      \n",
       "3   debit  us-gaap:sellinggeneralandadministrativeexpense  usd     -3      \n",
       "4   debit                         us-gaap:interestexpense  usd     -3      \n",
       "5  credit          us-gaap:othernonoperatingincomeexpense  usd     -3      \n",
       "6   debit                 us-gaap:incometaxexpensebenefit  usd     -3      \n",
       "\n",
       "     value                        context                        \n",
       "0 1681000000  icb4fe7b89cc949678c0215fb0c6c75ed_D20210701-20...  \n",
       "1 1356168000  icb4fe7b89cc949678c0215fb0c6c75ed_D20210701-20...  \n",
       "2   40790000  icb4fe7b89cc949678c0215fb0c6c75ed_D20210701-20...  \n",
       "3   72581000  icb4fe7b89cc949678c0215fb0c6c75ed_D20210701-20...  \n",
       "4   12896000  icb4fe7b89cc949678c0215fb0c6c75ed_D20210701-20...  \n",
       "5     501000  icb4fe7b89cc949678c0215fb0c6c75ed_D20210701-20...  \n",
       "6   17219000  icb4fe7b89cc949678c0215fb0c6c75ed_D20210701-20...  "
      ]
     },
     "execution_count": 49,
     "metadata": {},
     "output_type": "execute_result"
    }
   ],
   "source": [
    "df_PL = pd.DataFrame(PL, columns=get_financial_element_columns())\n",
    "df_PL"
   ]
  },
  {
   "cell_type": "code",
   "execution_count": 50,
   "id": "c88d724d",
   "metadata": {},
   "outputs": [
    {
     "data": {
      "text/plain": [
       "1681501000.0"
      ]
     },
     "execution_count": 50,
     "metadata": {},
     "output_type": "execute_result"
    }
   ],
   "source": [
    "credits = df_PL[df_PL['type'] == 'credit']['value'].sum()\n",
    "credits"
   ]
  },
  {
   "cell_type": "code",
   "execution_count": 51,
   "id": "e5e6bdfb",
   "metadata": {},
   "outputs": [
    {
     "data": {
      "text/plain": [
       "1499654000.0"
      ]
     },
     "execution_count": 51,
     "metadata": {},
     "output_type": "execute_result"
    }
   ],
   "source": [
    "debits = df_PL[df_PL['type'] == 'debit']['value'].sum()\n",
    "debits"
   ]
  },
  {
   "cell_type": "code",
   "execution_count": 52,
   "id": "1effbc91",
   "metadata": {},
   "outputs": [
    {
     "data": {
      "text/plain": [
       "181847000.0"
      ]
     },
     "execution_count": 52,
     "metadata": {},
     "output_type": "execute_result"
    }
   ],
   "source": [
    "credits - debits  # Equal to the Net Income"
   ]
  },
  {
   "cell_type": "markdown",
   "id": "3b613d03",
   "metadata": {},
   "source": [
    "---\n",
    "# Balance Sheet (B/S)"
   ]
  },
  {
   "cell_type": "code",
   "execution_count": 53,
   "id": "203bdbb8",
   "metadata": {},
   "outputs": [],
   "source": [
    "BS = []"
   ]
  },
  {
   "cell_type": "markdown",
   "id": "bffb478e",
   "metadata": {},
   "source": [
    "## Cash & Cash Equivalents\n",
    "\n",
    "Look for the cash and cash equivalents for the reporting perid in the Balance Sheet and Cash Flow statements of the  10-K."
   ]
  },
  {
   "cell_type": "code",
   "execution_count": 54,
   "id": "a63587e2",
   "metadata": {},
   "outputs": [
    {
     "name": "stdout",
     "output_type": "stream",
     "text": [
      "us-gaap:cashandcashequivalentsatcarryingvalue                                    usd   -3    545592000      \n"
     ]
    }
   ],
   "source": [
    "names = f\"{NAMESPACE}:CashAndCashEquivalentsAtCarryingValue\"\n",
    "BS += get_records_for_financial_element_names(soup=soup, names=names)"
   ]
  },
  {
   "cell_type": "code",
   "execution_count": 55,
   "id": "ec99ae28",
   "metadata": {},
   "outputs": [
    {
     "data": {
      "text/html": [
       "<div>\n",
       "<style scoped>\n",
       "    .dataframe tbody tr th:only-of-type {\n",
       "        vertical-align: middle;\n",
       "    }\n",
       "\n",
       "    .dataframe tbody tr th {\n",
       "        vertical-align: top;\n",
       "    }\n",
       "\n",
       "    .dataframe thead th {\n",
       "        text-align: right;\n",
       "    }\n",
       "</style>\n",
       "<table border=\"1\" class=\"dataframe\">\n",
       "  <thead>\n",
       "    <tr style=\"text-align: center;\">\n",
       "      <th></th>\n",
       "      <th>type</th>\n",
       "      <th>name</th>\n",
       "      <th>unit</th>\n",
       "      <th>decimals</th>\n",
       "      <th>value</th>\n",
       "      <th>context</th>\n",
       "    </tr>\n",
       "  </thead>\n",
       "  <tbody>\n",
       "    <tr>\n",
       "      <th>0</th>\n",
       "      <td>credit</td>\n",
       "      <td>us-gaap:cashandcashequivalentsatcarryingvalue</td>\n",
       "      <td>usd</td>\n",
       "      <td>-3</td>\n",
       "      <td>545592000</td>\n",
       "      <td>i00aae6ee0447424d9c01fc5f8f3bd82d_I20210930</td>\n",
       "    </tr>\n",
       "  </tbody>\n",
       "</table>\n",
       "</div>"
      ],
      "text/plain": [
       "    type                       name                      unit  decimals  \\\n",
       "0  credit  us-gaap:cashandcashequivalentsatcarryingvalue  usd     -3      \n",
       "\n",
       "     value                    context                     \n",
       "0 545592000  i00aae6ee0447424d9c01fc5f8f3bd82d_I20210930  "
      ]
     },
     "execution_count": 55,
     "metadata": {},
     "output_type": "execute_result"
    }
   ],
   "source": [
    "df_BS = pd.DataFrame(BS, columns=get_financial_element_columns())\n",
    "df_BS"
   ]
  },
  {
   "cell_type": "code",
   "execution_count": null,
   "id": "6274ac93",
   "metadata": {},
   "outputs": [],
   "source": []
  },
  {
   "cell_type": "code",
   "execution_count": null,
   "id": "e1841f51",
   "metadata": {},
   "outputs": [],
   "source": []
  }
 ],
 "metadata": {
  "kernelspec": {
   "display_name": "Python 3 (ipykernel)",
   "language": "python",
   "name": "python3"
  },
  "language_info": {
   "codemirror_mode": {
    "name": "ipython",
    "version": 3
   },
   "file_extension": ".py",
   "mimetype": "text/x-python",
   "name": "python",
   "nbconvert_exporter": "python",
   "pygments_lexer": "ipython3",
   "version": "3.8.10"
  }
 },
 "nbformat": 4,
 "nbformat_minor": 5
}
