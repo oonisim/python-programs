{
 "cells": [
  {
   "cell_type": "markdown",
   "id": "0ddfbf2b",
   "metadata": {},
   "source": [
    "# Parsing SEC Filing XBRL Document\n",
    "\n",
    "\n",
    "## Objective\n",
    "\n",
    "Parse the filing XBRL file to create a DOM like structure that represent the filing data\n",
    "\n",
    "## References\n",
    "\n",
    "* [XBRL Specification - Extensible Business Reporting Language (XBRL) 2.1](https://www.xbrl.org/Specification/XBRL-2.1/REC-2003-12-31/XBRL-2.1-REC-2003-12-31+corrected-errata-2013-02-20.html)\n",
    "\n",
    "* [List of US GAAP Standards](https://xbrlsite.azurewebsites.net/2019/Prototype/references/us-gaap/)\n",
    "* [XBRL US - List of Elements](https://xbrl.us/data-rule/dqc_0015-le/)\n",
    "\n",
    "**Element Version**|**Element ID**|**Namespace**|**Element Label**|**Element Name**|**Balance Type**|**Definition**\n",
    ":-----:|:-----:|:-----:|:-----:|:-----:|:-----:|:-----:\n",
    "1|1367|us-gaap|Interest Expense|InterestExpense|debit|Amount of the cost of borrowed funds accounted for as interest expense.\n",
    "2|2692|us-gaap|Cash and Cash Equivalents, at Carrying Value|CashAndCashEquivalentsAtCarryingValue|debit|Amount of currency on hand as well as demand deposits with banks or financial institutions. Includes other kinds of accounts that have the general characteristics of demand deposits. Also includes short-term, highly liquid investments that are both readily convertible to known amounts of cash and so near their maturity that they present insignificant risk of changes in value because of changes in interest rates. Excludes cash and cash equivalents within disposal group and discontinued operation.\n",
    "\n",
    "## XBRL Element\n",
    "\n",
    "* [Understanding the Financial Report Logical System](https://www.youtube.com/playlist?list=PLqMZRUzQ64B7EWamzDP-WaYbS_W0RL9nt)\n",
    "* [XBRL - What is us-gaap:OperatingSegmentsMember element anb where is it defined?](https://money.stackexchange.com/questions/148010/xbrl-what-is-us-gaapoperatingsegmentsmember-element-anb-where-is-it-defined)\n",
    "\n",
    "### Example\n",
    "For instance, Qorvo 2020 10K\n",
    "\n",
    "* [XBRL/rfmd-20210403_htm.xml](https://www.sec.gov/Archives/edgar/data/1604778/000160477821000032/rfmd-20210403_htm.xml)\n",
    "* [HTML/rfmd-20210403.htm)](https://www.sec.gov/Archives/edgar/data/1604778/000160477821000032/rfmd-20210403.htm):\n",
    "\n",
    "```\n",
    "<us-gaap:cashandcashequivalentsatcarryingvalue contextref=\"*\" decimals=\"-3\" id=\"...\" unitref=\"usd\">\n",
    "  1397880000\n",
    "</us-gaap:cashandcashequivalentsatcarryingvalue>,\n",
    "<us-gaap:cashandcashequivalentsatcarryingvalue contextref=\"***\" decimals=\"-3\" id=\"...\" unitref=\"usd\">\n",
    "  714939000\n",
    "</us-gaap:cashandcashequivalentsatcarryingvalue>,\n",
    "<us-gaap:cashandcashequivalentsatcarryingvalue contextref=\"***\" decimals=\"-3\" id=\"...\" unitref=\"usd\">\n",
    " 711035000\n",
    "</us-gaap:cashandcashequivalentsatcarryingvalue>\n",
    "```\n",
    "\n",
    "Corresponds to the Cash and Cash equivalents in the Cash Flow statement.\n",
    "\n",
    "<img src=\"../image/edgar_qorvo_2020_10K_CF.png\" align=\"left\" width=800 />"
   ]
  },
  {
   "cell_type": "markdown",
   "id": "b5dc76bb",
   "metadata": {},
   "source": [
    "---\n",
    "# Setup"
   ]
  },
  {
   "cell_type": "code",
   "execution_count": 1,
   "id": "2200e8cd",
   "metadata": {},
   "outputs": [],
   "source": [
    "from typing import (\n",
    "    List,\n",
    "    Dict\n",
    ")\n",
    "import datetime\n",
    "import dateutil\n",
    "import calendar\n",
    "import re\n",
    "import requests\n",
    "import unicodedata\n",
    "import bs4\n",
    "from bs4 import BeautifulSoup\n",
    "from IPython.core.display import (\n",
    "    display, \n",
    "    HTML\n",
    ")\n",
    "\n",
    "import numpy as np\n",
    "import pandas as pd\n",
    "pd.set_option('display.float_format', lambda x: ('%f' % x).rstrip('0').rstrip('.'))\n",
    "pd.set_option('display.colheader_justify', 'center')"
   ]
  },
  {
   "cell_type": "code",
   "execution_count": 2,
   "id": "0b59706f",
   "metadata": {},
   "outputs": [
    {
     "data": {
      "text/html": [
       "<style>\n",
       "table {float:left}\n",
       "</style>\n"
      ],
      "text/plain": [
       "<IPython.core.display.HTML object>"
      ]
     },
     "metadata": {},
     "output_type": "display_data"
    }
   ],
   "source": [
    "%%html\n",
    "<style>\n",
    "table {float:left}\n",
    "</style>"
   ]
  },
  {
   "cell_type": "code",
   "execution_count": 3,
   "id": "5d0cc495",
   "metadata": {},
   "outputs": [],
   "source": [
    "def restore_windows_1252_characters(restore_string):\n",
    "    \"\"\"\n",
    "        Replace C1 control characters in the Unicode string s by the\n",
    "        characters at the corresponding code points in Windows-1252,\n",
    "        where possible.\n",
    "    \"\"\"\n",
    "\n",
    "    def to_windows_1252(match):\n",
    "        try:\n",
    "            return bytes([ord(match.group(0))]).decode('windows-1252')\n",
    "        except UnicodeDecodeError:\n",
    "            # No character at the corresponding code point: remove it.\n",
    "            return ''\n",
    "        \n",
    "    return re.sub(r'[\\u0080-\\u0099]', to_windows_1252, restore_string)"
   ]
  },
  {
   "cell_type": "markdown",
   "id": "0021cd25",
   "metadata": {},
   "source": [
    "# Global Constant"
   ]
  },
  {
   "cell_type": "code",
   "execution_count": 4,
   "id": "faac3969",
   "metadata": {},
   "outputs": [
    {
     "data": {
      "text/plain": [
       "<re.Match object; span=(0, 9), match=' -123.12 '>"
      ]
     },
     "execution_count": 4,
     "metadata": {},
     "output_type": "execute_result"
    }
   ],
   "source": [
    "# regexp to extract numeric string\n",
    "REGEXP_NUMERIC = re.compile(r\"\\s*[\\d.-]*\\s*\")\n",
    "\n",
    "re.match(REGEXP_NUMERIC, \" -123.12 \")"
   ]
  },
  {
   "cell_type": "code",
   "execution_count": 5,
   "id": "3cbcbfdf",
   "metadata": {},
   "outputs": [],
   "source": [
    "FS_TYPE_10K = \"10-K\"\n",
    "FS_TYPE_10Q = \"10-Q\""
   ]
  },
  {
   "cell_type": "markdown",
   "id": "54e42be6",
   "metadata": {},
   "source": [
    "---\n",
    "# Load EDGAR Filing XBRL\n",
    "\n",
    "Download the ```_htm.xml``` file from EDGAR. SEC now requires user-agent header."
   ]
  },
  {
   "cell_type": "code",
   "execution_count": 6,
   "id": "9b732718",
   "metadata": {},
   "outputs": [
    {
     "data": {
      "text/plain": [
       "'https://www.sec.gov/Archives/edgar/data/1047127/000104712721000043/amkr-20210930_htm.xml'"
      ]
     },
     "execution_count": 6,
     "metadata": {},
     "output_type": "execute_result"
    }
   ],
   "source": [
    "# AMKOR 2021 10K\n",
    "CIK = '1047127'\n",
    "ACCESSION = '000104712721000043'\n",
    "FS_TYPE = FS_TYPE_10Q\n",
    "\n",
    "FILING_DIR_URL = f\"https://www.sec.gov/Archives/edgar/data/{CIK}/{ACCESSION}\"\n",
    "XBRL_NAME = \"amkr-20210930_htm.xml\"\n",
    "XBRL_URL = \"/\".join([FILING_DIR_URL, XBRL_NAME])\n",
    "\n",
    "XBRL_URL"
   ]
  },
  {
   "cell_type": "code",
   "execution_count": 7,
   "id": "3e3d0453",
   "metadata": {},
   "outputs": [
    {
     "data": {
      "text/plain": [
       "'https://www.sec.gov/Archives/edgar/data/0001000230/000143774921028951/occ20211031_10k_htm.xml'"
      ]
     },
     "execution_count": 7,
     "metadata": {},
     "output_type": "execute_result"
    }
   ],
   "source": [
    "# OPTICAL CABLE CORPORATION 10-K for the fiscal year ended October 31, 2021\n",
    "CIK = '0001000230'\n",
    "ACCESSION = '000143774921028951'\n",
    "FS_TYPE = FS_TYPE_10K\n",
    "\n",
    "FILING_DIR_URL = f\"https://www.sec.gov/Archives/edgar/data/{CIK}/{ACCESSION}\"\n",
    "XBRL_NAME = \"occ20211031_10k_htm.xml\"\n",
    "XBRL_URL = \"/\".join([FILING_DIR_URL, XBRL_NAME])\n",
    "\n",
    "XBRL_URL"
   ]
  },
  {
   "cell_type": "code",
   "execution_count": 8,
   "id": "835ee3d4",
   "metadata": {},
   "outputs": [
    {
     "data": {
      "text/plain": [
       "'https://www.sec.gov/Archives/edgar/data/1604778/000160477821000032/rfmd-20210403_htm.xml'"
      ]
     },
     "execution_count": 8,
     "metadata": {},
     "output_type": "execute_result"
    }
   ],
   "source": [
    "# QORVO 2021 10K\n",
    "CIK = '1604778'\n",
    "ACCESSION = '000160477821000032'\n",
    "FS_TYPE = FS_TYPE_10K\n",
    "\n",
    "FILING_DIR_URL = f\"https://www.sec.gov/Archives/edgar/data/{CIK}/{ACCESSION}\"\n",
    "XBRL_NAME = \"rfmd-20210403_htm.xml\"\n",
    "XBRL_URL = \"/\".join([FILING_DIR_URL, XBRL_NAME])\n",
    "\n",
    "XBRL_URL"
   ]
  },
  {
   "cell_type": "code",
   "execution_count": 9,
   "id": "64f1adf9",
   "metadata": {},
   "outputs": [
    {
     "data": {
      "text/plain": [
       "'https://www.sec.gov/Archives/edgar/data/29002/000156459021007008/diod-10k_20201231_htm.xml'"
      ]
     },
     "execution_count": 9,
     "metadata": {},
     "output_type": "execute_result"
    }
   ],
   "source": [
    "# DIOD 2020 10K\n",
    "CIK = '29002'\n",
    "ACCESSION = '000156459021007008'\n",
    "FS_TYPE = FS_TYPE_10K\n",
    "\n",
    "FILING_DIR_URL = f\"https://www.sec.gov/Archives/edgar/data/{CIK}/{ACCESSION}\"\n",
    "XBRL_NAME = \"diod-10k_20201231_htm.xml\"\n",
    "XBRL_URL = \"/\".join([FILING_DIR_URL, XBRL_NAME])\n",
    "\n",
    "XBRL_URL"
   ]
  },
  {
   "cell_type": "code",
   "execution_count": 10,
   "id": "5c791def",
   "metadata": {},
   "outputs": [],
   "source": [
    "headers = {\"User-Agent\": \"Company Name myname@company.com\"}\n",
    "response = requests.get(XBRL_URL, headers=headers)\n",
    "\n",
    "if response.status_code == 200:\n",
    "    content = response.content.decode(\"utf-8\") \n",
    "else:\n",
    "    assert False, f\"{XBRL_URL} failed with status {response.status_code}\""
   ]
  },
  {
   "cell_type": "code",
   "execution_count": null,
   "id": "15f4f874",
   "metadata": {},
   "outputs": [],
   "source": [
    "soup = BeautifulSoup(content, 'html.parser')"
   ]
  },
  {
   "cell_type": "markdown",
   "id": "9c96339c",
   "metadata": {},
   "source": [
    "## Repoting period\n",
    "\n",
    "Each 10-K and 10-Q XBRL has the reporting period for the filing. To exclude the other period, e.g. pervious year or quarter, use the ```context id``` for the reporting period. **Most** 10-K, 10-Q specify the annual period with the first ```<startDate> and <endDate>``` tags.\n",
    "\n",
    "For instances:\n",
    "\n",
    "### QRVO 10-K 2020\n",
    "\n",
    "```\n",
    "<context id=\"ifb6ce67cf6954ebf88471dd82daa9247_D20200329-20210403\">\n",
    "    <entity>\n",
    "    <identifier scheme=\"http://www.sec.gov/CIK\">0001604778</identifier>\n",
    "    </entity>\n",
    "    <period>\n",
    "        <startDate>2020-03-29</startDate>\n",
    "        <endDate>2021-04-03</endDate>\n",
    "    </period>\n",
    "</context>\n",
    "```\n",
    "\n",
    "### AMKR 10-K 2020\n",
    "\n",
    "```\n",
    "<context id=\"i5fac0a392353427b8266f185495754d3_D20200101-20201231\">\n",
    "    <entity>\n",
    "    <identifier scheme=\"http://www.sec.gov/CIK\">0001047127</identifier>\n",
    "    </entity>\n",
    "    <period>\n",
    "        <startDate>2020-01-01</startDate>\n",
    "        <endDate>2020-12-31</endDate>\n",
    "    </period>\n",
    "</context>\n",
    "```\n",
    "\n",
    "### AAPL 10-Q 4th QTR 2020\n",
    "\n",
    "```\n",
    "<context id=\"i6e431846933d461fb8c8c0bdf98c9758_D20200927-20201226\">\n",
    "    <entity>\n",
    "    <identifier scheme=\"http://www.sec.gov/CIK\">0000320193</identifier>\n",
    "    </entity>\n",
    "    <period>\n",
    "        <startDate>2020-09-27</startDate>\n",
    "        <endDate>2020-12-26</endDate>\n",
    "    </period>\n",
    "</context>\n",
    "```\n",
    "\n",
    "**However, there are companies that do not have this manner**. For instance [10-K for OPTICAL CABLE CORPORATION(CIK=0001000230)](https://www.sec.gov/Archives/edgar/data/1000230/000143774921028951/occ20211031_10k_htm.xml) has the same start and end dates at first.\n",
    "\n",
    "```\n",
    "<context id=\"d202110K\">\n",
    "\t<entity>\n",
    "\t\t<identifier scheme=\"http://www.sec.gov/CIK\">0001000230</identifier>\n",
    "\t</entity>\n",
    "\t<period>\n",
    "\t\t<startDate>2021-10-31</startDate>   # <-----\n",
    "\t\t<endDate>2021-10-31</endDate>\n",
    "\t</period>\n",
    "</context>\n",
    "<context id=\"d_2020-11-01_2021-10-31\">\n",
    "\t<entity>\n",
    "\t\t<identifier scheme=\"http://www.sec.gov/CIK\">0001000230</identifier>\n",
    "\t</entity>\n",
    "\t<period>\n",
    "\t\t<startDate>2020-11-01</startDate>   # <-----\n",
    "\t\t<endDate>2021-10-31</endDate>\n",
    "\t</period>\n",
    "</context>\n",
    "```\n",
    "\n",
    "The report uses the 2nd for 2021 F/S element value but does not use the first one.\n",
    "\n",
    "**B/S**\n",
    "```\n",
    "<us-gaap:Assets \n",
    "    contextRef=\"i_2021-10-31\"    # <-----\n",
    "    decimals=\"INF\" \n",
    "    id=\"c79893606\" \n",
    "    unitRef=\"USD\"\n",
    ">\n",
    "  37916530\n",
    "</us-gaap:Assets>\n",
    "```\n",
    "\n",
    "**P/L**\n",
    "```\n",
    "<us-gaap:RevenueFromContractWithCustomerIncludingAssessedTax \n",
    "  contextRef=\"d_2020-11-01_2021-10-31\"     # <-----\n",
    "  decimals=\"INF\" \n",
    "  id=\"c79893662\" \n",
    "  unitRef=\"USD\"\n",
    ">\n",
    "  59136294\n",
    "</us-gaap:RevenueFromContractWithCustomerIncludingAssessedTax>\n",
    "```\n",
    "\n",
    "<img src='../image/edgar_optical_cable_2021_10K.png' align=\"left\" width=500/>"
   ]
  },
  {
   "cell_type": "markdown",
   "id": "c4ac1632",
   "metadata": {},
   "source": [
    "### Get the period from the 1st\n",
    "\n",
    "For now, just get the period from the 1st **period** element."
   ]
  },
  {
   "cell_type": "code",
   "execution_count": null,
   "id": "aa9d3022",
   "metadata": {},
   "outputs": [],
   "source": [
    "def get_period(soup):\n",
    "    \"\"\"Identify the report period (end date) from the first context tag in the statement.\n",
    "    <context id=\"ifb6ce67cf6954ebf88471dd82daa9247_D20200329-20210403\">\n",
    "        <entity>\n",
    "        <identifier scheme=\"http://www.sec.gov/CIK\">0001604778</identifier>\n",
    "        </entity>\n",
    "        <period>\n",
    "            <startDate>2020-03-29</startDate>\n",
    "            <endDate>2021-04-03</endDate>        # <-----\n",
    "        </period>\n",
    "    </context>\n",
    "    Returns: reporting period e.g. \"2021-09-30\"\n",
    "    \"\"\"\n",
    "    first_context = None\n",
    "    for context in soup.find_all('context'):\n",
    "        if context.find('period') and context.find('period').find('enddate'):\n",
    "            first_context = context\n",
    "            break      \n",
    "        \n",
    "    assert first_context is not None, \"No period found\"\n",
    "    period = first_context.find('period').find('enddate').text.strip()\n",
    "    \n",
    "    try:\n",
    "        dateutil.parser.parse(period)\n",
    "    except ValueError as e:\n",
    "        assert False, f\"Invalid period {period} found.\"\n",
    "            \n",
    "    return period"
   ]
  },
  {
   "cell_type": "code",
   "execution_count": null,
   "id": "9e634b2b",
   "metadata": {},
   "outputs": [],
   "source": [
    "PERIOD = get_period(soup)\n",
    "PERIOD"
   ]
  },
  {
   "cell_type": "markdown",
   "id": "a4bc1c5d",
   "metadata": {},
   "source": [
    "### Regexp to find all the contexts that match with PERIOD\n",
    "\n",
    "10-K, 10-Q F/S uses multiple contexts to refer to the F/S element values for the **period**. Collect all the contexts for the **period**."
   ]
  },
  {
   "cell_type": "code",
   "execution_count": null,
   "id": "97fc953e",
   "metadata": {},
   "outputs": [],
   "source": [
    "def get_target_contexts(soup, period, type=FS_TYPE_10K):\n",
    "    target_contexts = []\n",
    "\n",
    "    end_date = dateutil.parser.parse(period)\n",
    "    duration = datetime.timedelta(days=365) if type == FS_TYPE_10K else datetime.timedelta(days=90)\n",
    "\n",
    "    # The StartDate of the valid context is within +/- 30 days of the starting date of the period.\n",
    "    # If the report is 10-K and the period end is 2021-10-31, then the validate date is between\n",
    "    # 2020-10-1 and 2020-11-1\n",
    "    from_date = end_date - duration - datetime.timedelta(days=30)\n",
    "    to_date = end_date - duration + datetime.timedelta(days=30)\n",
    "\n",
    "    # Contexts with startdate/enddate\n",
    "    for context in soup.find_all('context'):\n",
    "        if context.find('period') and context.find('period').find('enddate', string=period):\n",
    "            start = dateutil.parser.parse(context.find('period').find('startdate').text)\n",
    "            if start == end_date or (from_date < start and start < to_date):\n",
    "                target_contexts.append(context)\n",
    "\n",
    "    \n",
    "    # Contexts with 'instant' element\n",
    "    target_contexts.extend([\n",
    "        context for context in soup.find_all('context') \n",
    "        if context.find('period') and context.find('period').find(['instant'], string=PERIOD)\n",
    "    ])\n",
    "    \n",
    "    return target_contexts"
   ]
  },
  {
   "cell_type": "code",
   "execution_count": null,
   "id": "b552841b",
   "metadata": {},
   "outputs": [],
   "source": [
    "# get_target_contexts(soup, PERIOD)"
   ]
  },
  {
   "cell_type": "code",
   "execution_count": null,
   "id": "aca0fc28",
   "metadata": {},
   "outputs": [],
   "source": [
    "def get_target_context_ids(soup, period, type=FS_TYPE_10K):\n",
    "    target_contexts = []\n",
    "\n",
    "    end_date = dateutil.parser.parse(period)\n",
    "    duration = datetime.timedelta(days=365) if type == FS_TYPE_10K else datetime.timedelta(days=90)\n",
    "\n",
    "    # The StartDate of the valid context is within +/- 30 days of the starting date of the period.\n",
    "    # If the report is 10-K and the period end is 2021-10-31, then the validate date is between\n",
    "    # 2020-10-1 and 2020-11-1\n",
    "    from_date = end_date - duration - datetime.timedelta(days=30)\n",
    "    to_date = end_date - duration + datetime.timedelta(days=30)\n",
    "\n",
    "    # Contexts with startdate/enddate\n",
    "    for context in soup.find_all('context'):\n",
    "        # print(\"-\"*100)\n",
    "        # print(context)\n",
    "        if context.find('period') and context.find('period').find('enddate', string=period):\n",
    "            start = dateutil.parser.parse(context.find('period').find('startdate').text)\n",
    "            if start == end_date or (from_date < start and start < to_date):\n",
    "                target_contexts.append(context['id'])\n",
    "\n",
    "    \n",
    "    # Contexts with 'instant' element\n",
    "    target_contexts.extend([\n",
    "        context['id'] for context in soup.find_all('context') \n",
    "        if context.find('period') and context.find('period').find(['instant'], string=PERIOD)\n",
    "    ])\n",
    "    \n",
    "    return target_contexts"
   ]
  },
  {
   "cell_type": "markdown",
   "id": "b9fc10ed",
   "metadata": {},
   "source": [
    "# Constant"
   ]
  },
  {
   "cell_type": "code",
   "execution_count": null,
   "id": "517de640",
   "metadata": {},
   "outputs": [],
   "source": [
    "# XBRL Namespace\n",
    "NAMESPACE = \"us-gaap\""
   ]
  },
  {
   "cell_type": "code",
   "execution_count": null,
   "id": "205a93e7",
   "metadata": {},
   "outputs": [],
   "source": [
    "ELEMENT_TYPE_DEBIT = 'debit'\n",
    "ELEMENT_TYPE_CREDIT = 'credit'\n",
    "ELEMENT_TYPE_CALC = 'calc'      # calculated value e.g. sub total \n",
    "ELEMENT_TYPE_METRIC = 'metric'  # metrics e.g. EPS\n",
    "ELEMENT_TYPE_FACT = 'fact'\n",
    "\n",
    "CREDIT_ITEMS = set(map(str.lower, [\n",
    "    # P/L\n",
    "    f\"{NAMESPACE}:Revenues\",\n",
    "    f\"{NAMESPACE}:RevenueFromContractWithCustomerExcludingAssessedTax\",\n",
    "    f\"{NAMESPACE}:DeferredRevenue\",\n",
    "    f\"{NAMESPACE}:RevenueMineralSales\",\n",
    "    f\"{NAMESPACE}:DeferredRevenueCurrent\",\n",
    "    f\"{NAMESPACE}:HealthCareOrganizationRevenue\",\n",
    "    f\"{NAMESPACE}:SalesRevenueGoodsGross\",\n",
    "    f\"{NAMESPACE}:RealEstateRevenueNet\",\n",
    "    f\"{NAMESPACE}:SalesOfRealEstate\",\n",
    "    f\"{NAMESPACE}:AdvertisingRevenue\",\n",
    "    f\"{NAMESPACE}:ElectricalGenerationRevenue\",\n",
    "    f\"{NAMESPACE}:ContractsRevenue\",\n",
    "    f\"{NAMESPACE}:AdmissionsRevenue\",\n",
    "    f\"{NAMESPACE}:InsuranceServicesRevenue\",\n",
    "    f\"{NAMESPACE}:BrokerageCommissionsRevenue\",\n",
    "    f\"{NAMESPACE}:OtherNonoperatingIncomeExpense\",  # Why this is in credit?\n",
    "    f\"{NAMESPACE}:CashAndCashEquivalentsAtCarryingValue\",\n",
    "    f\"{NAMESPACE}:OtherAlternativeEnergySalesRevenue\",\n",
    "    f\"{NAMESPACE}:RegulatedAndUnregulatedOperatingRevenue\",\n",
    "    \n",
    "    # B/S\n",
    "    f\"{NAMESPACE}:InventoryNet\",\n",
    "    f\"{NAMESPACE}:GoodWill\",\n",
    "    \n",
    "]))\n",
    "\n",
    "DEBIT_ITEMS = set(map(str.lower, [\n",
    "    # P/L\n",
    "    f\"{NAMESPACE}:CostOfRevenue\",\n",
    "    f\"{NAMESPACE}:CostOfGoods\",\n",
    "    f\"{NAMESPACE}:CostOfGoodsAndServicesSold\",\n",
    "    f\"{NAMESPACE}:CostOfServicesLicensesAndServices\",\n",
    "    f\"{NAMESPACE}:ContractRevenueCost\",\n",
    "    f\"{NAMESPACE}:LicenseCosts\",\n",
    "    f\"{NAMESPACE}:ResearchAndDevelopmentExpense\",\n",
    "    f\"{NAMESPACE}:SellingGeneralAndAdministrativeExpense\",\n",
    "    f\"{NAMESPACE}:OtherCostAndExpenseOperating\",\n",
    "    f\"{NAMESPACE}:IncomeTaxExpenseBenefit\",\n",
    "    f\"{NAMESPACE}:InterestExpense\",\n",
    "    \n",
    "    # B/S\n",
    "]))\n",
    "\n",
    "CALC_ITEMS = set(map(str.lower, [\n",
    "    # P/L\n",
    "    f\"{NAMESPACE}:OperatingExpenses\",\n",
    "    f\"{NAMESPACE}:GrossProfit\",\n",
    "    f\"{NAMESPACE}:OperatingIncomeLoss\",\n",
    "    f\"{NAMESPACE}:NetIncomeLoss\",    \n",
    "\n",
    "    # B/S\n",
    "    f\"{NAMESPACE}:Assets\",    \n",
    "    f\"{NAMESPACE}:CurrentAssets\",    \n",
    "    f\"{NAMESPACE}:Liabilities\",\n",
    "    f\"{NAMESPACE}:LiabilitiesCurrent\",\n",
    "]))\n",
    "\n",
    "METRIC_ITEMS = set(map(str.lower, [\n",
    "    f\"{NAMESPACE}:EarningsPerShareBasic\",\n",
    "    f\"{NAMESPACE}:EarningsPerShareBasicAndDiluted\",\n",
    "]))\n",
    "\n",
    "FACT_ITEMS = set(map(str.lower, [\n",
    "    f\"{NAMESPACE}:SharesOutstanding\",\n",
    "    f\"{NAMESPACE}:CommonStockSharesOutstanding\",\n",
    "    f\"{NAMESPACE}:CommonStockOtherSharesOutstanding\",\n",
    "]))"
   ]
  },
  {
   "cell_type": "code",
   "execution_count": null,
   "id": "6d1e0b89",
   "metadata": {},
   "outputs": [],
   "source": [
    "CONTEXT_REGEXP = re.compile(\"|\".join(get_target_context_ids(soup=soup, period=PERIOD, type=FS_TYPE)))"
   ]
  },
  {
   "cell_type": "markdown",
   "id": "2859eadd",
   "metadata": {},
   "source": [
    "# Utilities"
   ]
  },
  {
   "cell_type": "code",
   "execution_count": null,
   "id": "56f85b4a",
   "metadata": {},
   "outputs": [],
   "source": [
    "def assert_bf4_tag(element):\n",
    "    assert isinstance(element, bs4.element.Tag), \\\n",
    "    f\"Expected BS4 tag but {element} of type {type(element)}\""
   ]
  },
  {
   "cell_type": "code",
   "execution_count": null,
   "id": "06a84787",
   "metadata": {},
   "outputs": [],
   "source": [
    "def display_elements(elements):\n",
    "    assert isinstance(elements, bs4.element.ResultSet) or isinstance(elements[0], bs4.element.Tag)\n",
    "    for element in elements: # decimals=\"-3\" means the displayed value is divied by 1000.\n",
    "        print(f\"{element.name:80} {element['unitref']:5} {element['decimals']:5} {element.text:15}\")"
   ]
  },
  {
   "cell_type": "code",
   "execution_count": null,
   "id": "aeb9ac59",
   "metadata": {},
   "outputs": [],
   "source": [
    "def get_element_hash(element):\n",
    "    \"\"\"Generate the financial element hash key to uniquely identify an financial element record\n",
    "    In a F/S, the same element, e.g. gaap:CashAndCashEquivalentsAtCarryingValue can be used at\n",
    "    multiple places, one in B/S and one in P/L.\n",
    "    \n",
    "    To be able to identify if two elements are the same, provides a way to be able to compare\n",
    "    two elements by generating a hash key from the attributes of an element.\n",
    "    \n",
    "    Args:\n",
    "        element: bs4.element.Tag for an financial element\n",
    "    Returns: hash key\n",
    "    \"\"\"\n",
    "    assert isinstance(element, bs4.element.Tag)\n",
    "    # key = f\"{element.name}{element['unitref']}{element['contextref']}{element.text}\"\n",
    "    # key = f\"{element.name}{element['unitref']}{element.text}\"\n",
    "    key = f\"{element.name}{element['unitref']}\"\n",
    "    return hash(key)"
   ]
  },
  {
   "cell_type": "code",
   "execution_count": null,
   "id": "8f40389a",
   "metadata": {},
   "outputs": [],
   "source": [
    "# XBRL attribute conditions to match when extracting FS elements\n",
    "ATTRIBUTES = {\n",
    "    \"contextref\": CONTEXT_REGEXP,\n",
    "    \"decimals\": True, \n",
    "    \"unitref\": True\n",
    "}\n",
    "\n",
    "\n",
    "def find_financial_elements(soup, element_names, attributes=ATTRIBUTES):\n",
    "    \"\"\"Find the financial statement elements from the XML/HTML source.\n",
    "    Args:\n",
    "        soup: BS4 source\n",
    "        element_names: String or regexp instance to select the financial elements.\n",
    "        attribute: tag attributes to select the financial elements\n",
    "    Returns:\n",
    "        List of BS4 tag objects that matched the element_names and attributes.\n",
    "    \"\"\"\n",
    "    assert isinstance(soup, BeautifulSoup)\n",
    "    assert isinstance(element_names, re.Pattern) or isinstance(element_names, str)\n",
    "\n",
    "    \n",
    "    names = element_names.lower() if isinstance(element_names, str) else element_names\n",
    "\n",
    "    elements = soup.find_all(\n",
    "        name=names,\n",
    "        string=REGEXP_NUMERIC,\n",
    "        attrs=attributes\n",
    "    )\n",
    "    \n",
    "    # Select unique elements\n",
    "    hashes = set([]) \n",
    "    results = []\n",
    "    if elements is not None and len(elements) > 0:\n",
    "        for element in elements:\n",
    "            hash_value = get_element_hash(element)\n",
    "            if hash_value not in hashes:\n",
    "                results.append(element) \n",
    "                hashes.add(hash_value)\n",
    "\n",
    "    return results"
   ]
  },
  {
   "cell_type": "code",
   "execution_count": null,
   "id": "04b91504",
   "metadata": {},
   "outputs": [],
   "source": [
    "for element in find_financial_elements(soup, re.compile(f\"^{NAMESPACE}:.*\"), attributes=ATTRIBUTES):\n",
    "    print(element.name)"
   ]
  },
  {
   "cell_type": "code",
   "execution_count": null,
   "id": "9ae771a9",
   "metadata": {},
   "outputs": [],
   "source": [
    "def get_financial_element_numeric_values(elements):\n",
    "    # assert isinstance(elements, bs4.element.ResultSet) or isinstance(elements[0], bs4.element.Tag)\n",
    "    assert_bf4_tag(elements[0])\n",
    "    \n",
    "    values = []\n",
    "    for element in elements:\n",
    "        assert re.match(REGEXP_NUMERIC, element.text.strip()), f\"Element must be numeric but {element.text}\"\n",
    "        values.append(float(element.text))\n",
    "        \n",
    "    return values"
   ]
  },
  {
   "cell_type": "code",
   "execution_count": null,
   "id": "da55f58b",
   "metadata": {},
   "outputs": [],
   "source": [
    "def get_financial_element_columns():\n",
    "    \"\"\"Financial record columns\"\"\"\n",
    "    return [\"type\", \"name\", \"unit\", \"decimals\", \"value\", \"context\"]\n",
    "\n",
    "def get_record_for_nil_elements(elements, element_type=None):\n",
    "    results = []\n",
    "    for element in elements:\n",
    "        # Type of the elemen\n",
    "        if element_type is None and element.name in DEBIT_ITEMS: element_type = ELEMENT_TYPE_DEBIT\n",
    "        if element_type is None and element.name in CREDIT_ITEMS: element_type = ELEMENT_TYPE_CREDIT\n",
    "        if element_type is None and element.name in CALC_ITEMS: element_type = ELEMENT_TYPE_CALC\n",
    "        if element_type is None and element.name in METRIC_ITEMS: element_type = ELEMENT_TYPE_METRIC\n",
    "        if element_type is None and element.name in FACT_ITEMS: element_type = ELEMENT_TYPE_FACT\n",
    "\n",
    "        # Name of the financial element\n",
    "        element_name = element.name\n",
    "\n",
    "        # Unit of the financial element\n",
    "        element_unit = element['unitref']\n",
    "\n",
    "        # Scale of the element\n",
    "        element_scale = int(element['decimals']) if element['decimals'].lower() != 'inf' else np.inf\n",
    "\n",
    "        # Value of the element\n",
    "        element_value = -np.inf\n",
    "\n",
    "        # Context ID of the element\n",
    "        element_context = element['contextref']\n",
    "\n",
    "        results.append([\n",
    "            element_type,\n",
    "            element_name,\n",
    "            element_unit, \n",
    "            element_scale, \n",
    "            element_value, \n",
    "            element_context\n",
    "        ])\n",
    "        \n",
    "    return results\n",
    "\n",
    "def get_records_for_financial_elements(elements, element_type=None):\n",
    "    \"\"\"Financial record having the columns of get_financial_element_columns\"\"\"\n",
    "    # assert isinstance(elements, bs4.element.ResultSet) or isinstance(elements[0], bs4.element.Tag)\n",
    "    assert_bf4_tag(elements[0])\n",
    "    \n",
    "    results = []\n",
    "    for element in elements:\n",
    "        # Type of the elemen\n",
    "        if element_type is None and element.name in DEBIT_ITEMS: element_type = ELEMENT_TYPE_DEBIT\n",
    "        if element_type is None and element.name in CREDIT_ITEMS: element_type = ELEMENT_TYPE_CREDIT\n",
    "        if element_type is None and element.name in CALC_ITEMS: element_type = ELEMENT_TYPE_CALC\n",
    "        if element_type is None and element.name in METRIC_ITEMS: element_type = ELEMENT_TYPE_METRIC\n",
    "        if element_type is None and element.name in FACT_ITEMS: element_type = ELEMENT_TYPE_FACT\n",
    "        \n",
    "        # Name of the financial element\n",
    "        element_name = element.name\n",
    "        \n",
    "        # Unit of the financial element\n",
    "        element_unit = element['unitref']\n",
    "        \n",
    "        # Scale of the element\n",
    "        element_scale = int(element['decimals']) if element['decimals'].lower() != 'inf' else np.inf\n",
    "            \n",
    "        # Value of the element\n",
    "        element_value = float(element.text)\n",
    "\n",
    "        # Context ID of the element\n",
    "        element_context = element['contextref']\n",
    "        \n",
    "        results.append([\n",
    "            element_type,\n",
    "            element_name,\n",
    "            element_unit, \n",
    "            element_scale, \n",
    "            element_value, \n",
    "            element_context\n",
    "        ])\n",
    "        \n",
    "    return results"
   ]
  },
  {
   "cell_type": "code",
   "execution_count": null,
   "id": "ac0c91fc",
   "metadata": {},
   "outputs": [],
   "source": [
    "def get_records_for_financial_element_names(soup, names: List[str], element_type=None):\n",
    "    \"\"\"Get finacial records that matches the financial element names\n",
    "    \"\"\"\n",
    "    elements = find_financial_elements(soup=soup, element_names=names)\n",
    "    if len(elements) > 0:\n",
    "        display_elements(elements)\n",
    "        return get_records_for_financial_elements(elements, element_type)\n",
    "    else:\n",
    "        return get_record_for_nil_elements(elements)"
   ]
  },
  {
   "cell_type": "code",
   "execution_count": null,
   "id": "969c8615",
   "metadata": {},
   "outputs": [],
   "source": [
    "def get_values_for_financial_element_names(soup, names: List[str]):\n",
    "    elements = find_financial_elements(soup=soup, element_names=names)\n",
    "    if len(elements) > 0:\n",
    "        display_elements(elements)\n",
    "        return get_financial_element_numeric_values(elements)\n",
    "    else:\n",
    "        return []"
   ]
  },
  {
   "cell_type": "markdown",
   "id": "c29a5ca6",
   "metadata": {},
   "source": [
    "---\n",
    "# Shares Outstanding"
   ]
  },
  {
   "cell_type": "code",
   "execution_count": null,
   "id": "4985eabf",
   "metadata": {},
   "outputs": [],
   "source": [
    "def get_shared_outstanding(soup):\n",
    "    names = re.compile(\"|\".join([\n",
    "        rf\"{NAMESPACE}:SharesOutstanding\",\n",
    "        rf\"{NAMESPACE}:CommonStockSharesOutstanding\",\n",
    "        rf\"{NAMESPACE}:CommonStockOtherSharesOutstanding\",\n",
    "    ]).lower())\n",
    "\n",
    "    return get_records_for_financial_element_names(soup=soup, names=names)"
   ]
  },
  {
   "cell_type": "code",
   "execution_count": null,
   "id": "ffb12180",
   "metadata": {},
   "outputs": [],
   "source": [
    "shares_outstandings = get_shared_outstanding(soup)\n",
    "shares_outstandings"
   ]
  },
  {
   "cell_type": "code",
   "execution_count": null,
   "id": "f1a74ee5",
   "metadata": {},
   "outputs": [],
   "source": [
    "df_ShareOutstanding = pd.DataFrame(shares_outstandings)\n",
    "df_ShareOutstanding"
   ]
  },
  {
   "cell_type": "markdown",
   "id": "e6738a3c",
   "metadata": {},
   "source": [
    "---\n",
    "# Statements of Income (P/L)"
   ]
  },
  {
   "cell_type": "code",
   "execution_count": null,
   "id": "c913bb81",
   "metadata": {},
   "outputs": [],
   "source": [
    "PL = []"
   ]
  },
  {
   "cell_type": "markdown",
   "id": "de666426",
   "metadata": {},
   "source": [
    "## Revenues"
   ]
  },
  {
   "cell_type": "code",
   "execution_count": null,
   "id": "6841617b",
   "metadata": {},
   "outputs": [],
   "source": [
    "def get_revenues(soup):\n",
    "    names = rf\"{NAMESPACE}:Revenues\".lower()\n",
    "    names = re.compile(\"|\".join([\n",
    "        rf\"^{NAMESPACE}:Revenues$\",\n",
    "        rf\"^{NAMESPACE}:RevenueFromContractWithCustomerExcludingAssessedTax$\",\n",
    "        rf\"^{NAMESPACE}:DeferredRevenue$\",\n",
    "        rf\"^{NAMESPACE}:RealEstateRevenueNet$\",\n",
    "        rf\"^{NAMESPACE}:SalesOfRealEstate$\",\n",
    "        rf\"^{NAMESPACE}:AdvertisingRevenue$\",\n",
    "        rf\"^{NAMESPACE}:ElectricalGenerationRevenue$\",\n",
    "        rf\"^{NAMESPACE}:ContractsRevenue$\",\n",
    "        rf\"^{NAMESPACE}:RevenueMineralSales$\",\n",
    "        rf\"^{NAMESPACE}:DeferredRevenueCurrent$\",\n",
    "        rf\"^{NAMESPACE}:HealthCareOrganizationRevenue$\",\n",
    "        rf\"^{NAMESPACE}:SalesRevenueGoodsGross$\",\n",
    "        rf\"^{NAMESPACE}:AdmissionsRevenue$\",\n",
    "        rf\"^{NAMESPACE}:InsuranceServicesRevenue$\",\n",
    "        rf\"^{NAMESPACE}:BrokerageCommissionsRevenue$\",\n",
    "        rf\"^{NAMESPACE}:RegulatedAndUnregulatedOperatingRevenue$\"\n",
    "        rf\"^{NAMESPACE}:OtherAlternativeEnergySalesRevenue$\",\n",
    "    ]).lower())    \n",
    "    \n",
    "    return get_records_for_financial_element_names(soup=soup, names=names)\n",
    "    "
   ]
  },
  {
   "cell_type": "code",
   "execution_count": null,
   "id": "9a0a574e",
   "metadata": {},
   "outputs": [],
   "source": [
    "PL += get_revenues(soup)"
   ]
  },
  {
   "cell_type": "markdown",
   "id": "68b80f19",
   "metadata": {},
   "source": [
    "## Cost of Revenues"
   ]
  },
  {
   "cell_type": "code",
   "execution_count": null,
   "id": "53c8724f",
   "metadata": {},
   "outputs": [],
   "source": [
    "def get_cost_of_revenues(soup):\n",
    "    names = re.compile(\"|\".join([\n",
    "        rf\"^{NAMESPACE}:CostOfRevenue$\",\n",
    "        rf\"^{NAMESPACE}:CostOfGoods$\",\n",
    "        rf\"^{NAMESPACE}:CostOfGoodsAndServicesSold$\",\n",
    "        rf\"^{NAMESPACE}:ContractRevenueCost$\",\n",
    "        rf\"^{NAMESPACE}:CostOfServicesLicensesAndServices$\"\n",
    "        rf\"^{NAMESPACE}:LicenseCosts$\"\n",
    "    ]).lower())\n",
    "    return get_records_for_financial_element_names(soup=soup, names=names)"
   ]
  },
  {
   "cell_type": "code",
   "execution_count": null,
   "id": "f2503735",
   "metadata": {},
   "outputs": [],
   "source": [
    "PL += get_cost_of_revenues(soup)"
   ]
  },
  {
   "cell_type": "markdown",
   "id": "e79680c1",
   "metadata": {},
   "source": [
    "## ***___# Gross Profit___***"
   ]
  },
  {
   "cell_type": "code",
   "execution_count": null,
   "id": "e823d844",
   "metadata": {},
   "outputs": [],
   "source": [
    "def get_gross_profit(soup):\n",
    "    names = f\"{NAMESPACE}:GrossProfit\".lower()\n",
    "    return get_records_for_financial_element_names(soup=soup, names=names)"
   ]
  },
  {
   "cell_type": "code",
   "execution_count": null,
   "id": "287cc54d",
   "metadata": {},
   "outputs": [],
   "source": [
    "PL += get_gross_profit(soup)"
   ]
  },
  {
   "cell_type": "markdown",
   "id": "7f82df6e",
   "metadata": {},
   "source": [
    "## Operating Expenses"
   ]
  },
  {
   "cell_type": "markdown",
   "id": "78301f82",
   "metadata": {},
   "source": [
    "### Research and Development"
   ]
  },
  {
   "cell_type": "code",
   "execution_count": null,
   "id": "93fd493a",
   "metadata": {},
   "outputs": [],
   "source": [
    "names = f\"{NAMESPACE}:ResearchAndDevelopmentExpense\".lower()\n",
    "PL += get_records_for_financial_element_names(soup, names)"
   ]
  },
  {
   "cell_type": "markdown",
   "id": "bd403d66",
   "metadata": {},
   "source": [
    "### Administrative Expense"
   ]
  },
  {
   "cell_type": "code",
   "execution_count": null,
   "id": "b06a7994",
   "metadata": {},
   "outputs": [],
   "source": [
    "names = f\"{NAMESPACE}:SellingGeneralAndAdministrativeExpense\"\n",
    "PL += get_records_for_financial_element_names(soup, names)"
   ]
  },
  {
   "cell_type": "markdown",
   "id": "632045df",
   "metadata": {},
   "source": [
    "### Other operating expenses"
   ]
  },
  {
   "cell_type": "code",
   "execution_count": null,
   "id": "5b160134",
   "metadata": {},
   "outputs": [],
   "source": [
    "find_financial_elements(soup=soup, element_names=names)"
   ]
  },
  {
   "cell_type": "code",
   "execution_count": null,
   "id": "ce70657d",
   "metadata": {},
   "outputs": [],
   "source": [
    "names = f\"{NAMESPACE}:OtherCostAndExpenseOperating\"\n",
    "PL += get_records_for_financial_element_names(soup=soup, names=names)"
   ]
  },
  {
   "cell_type": "markdown",
   "id": "6c08132d",
   "metadata": {},
   "source": [
    "## ***___# Total Operating Expenses___***"
   ]
  },
  {
   "cell_type": "code",
   "execution_count": null,
   "id": "22c037f8",
   "metadata": {},
   "outputs": [],
   "source": [
    "names = f\"{NAMESPACE}:OperatingExpenses\".lower()\n",
    "PL += get_records_for_financial_element_names(soup=soup, names=names)"
   ]
  },
  {
   "cell_type": "markdown",
   "id": "7b1d5127",
   "metadata": {},
   "source": [
    "## ***___# Operating Income___***\n",
    "\n",
    "$GrossProfit - Total Operating Expenses$"
   ]
  },
  {
   "cell_type": "code",
   "execution_count": null,
   "id": "edeb590f",
   "metadata": {},
   "outputs": [],
   "source": [
    "def get_operating_income(soup):\n",
    "    names = f\"{NAMESPACE}:OperatingIncomeLoss\".lower()\n",
    "    return get_records_for_financial_element_names(soup=soup, names=names)"
   ]
  },
  {
   "cell_type": "code",
   "execution_count": null,
   "id": "1548742d",
   "metadata": {},
   "outputs": [],
   "source": [
    "PL += get_operating_income(soup)"
   ]
  },
  {
   "cell_type": "markdown",
   "id": "4294aaaf",
   "metadata": {},
   "source": [
    "## Other Expenses"
   ]
  },
  {
   "cell_type": "markdown",
   "id": "c401d88e",
   "metadata": {},
   "source": [
    "### Interest Expense\n",
    "\n",
    "* [Investopedia - What Is an Interest Expense?](https://www.investopedia.com/terms/i/interestexpense.asp)\n",
    "\n",
    "> An interest expense is the cost incurred by an entity for borrowed funds. Interest expense is a non-operating expense shown on the income statement. It represents interest payable on any borrowings – bonds, loans, convertible debt or lines of credit. It is essentially calculated as the interest rate times the outstanding principal amount of the debt. Interest expense on the income statement represents ***interest accrued during the period*** covered by the financial statements, and **NOT the amount of interest paid over that period**. While interest expense is tax-deductible for companies, in an individual's case, it depends on his or her jurisdiction and also on the loan's purpose.  \n",
    ">\n",
    "> For most people, mortgage interest is the single-biggest category of interest expense over their lifetimes as interest can total tens of thousands of dollars over the life of a mortgage as illustrated by online calculators."
   ]
  },
  {
   "cell_type": "code",
   "execution_count": null,
   "id": "d3104631",
   "metadata": {},
   "outputs": [],
   "source": [
    "names = f\"{NAMESPACE}:InterestExpense\"\n",
    "PL += get_records_for_financial_element_names(soup=soup, names=names)"
   ]
  },
  {
   "cell_type": "markdown",
   "id": "23c27dc8",
   "metadata": {},
   "source": [
    "### Other Non-operating Expenses"
   ]
  },
  {
   "cell_type": "code",
   "execution_count": null,
   "id": "92e0fe78",
   "metadata": {},
   "outputs": [],
   "source": [
    "names = f\"{NAMESPACE}:OtherNonoperatingIncomeExpense\"\n",
    "PL += get_records_for_financial_element_names(soup=soup, names=names)"
   ]
  },
  {
   "cell_type": "markdown",
   "id": "e310a4b6",
   "metadata": {},
   "source": [
    "## Income Tax"
   ]
  },
  {
   "cell_type": "code",
   "execution_count": null,
   "id": "776dea0b",
   "metadata": {},
   "outputs": [],
   "source": [
    "names = f\"{NAMESPACE}:IncomeTaxExpenseBenefit\"\n",
    "PL += get_records_for_financial_element_names(soup=soup, names=names)"
   ]
  },
  {
   "cell_type": "markdown",
   "id": "809ca1c3",
   "metadata": {},
   "source": [
    "## ***___# Net Income___***\n",
    "\n",
    "$GrossProfit - (Operating Expenses + NonOperating Expense) - Tax$"
   ]
  },
  {
   "cell_type": "code",
   "execution_count": null,
   "id": "a9b1c3d0",
   "metadata": {},
   "outputs": [],
   "source": [
    "def get_net_income(soup):\n",
    "    names = f\"{NAMESPACE}:NetIncomeLoss\".lower()\n",
    "    return get_records_for_financial_element_names(soup=soup, names=names)"
   ]
  },
  {
   "cell_type": "code",
   "execution_count": null,
   "id": "dba87e2e",
   "metadata": {},
   "outputs": [],
   "source": [
    "PL += get_net_income(soup)"
   ]
  },
  {
   "cell_type": "markdown",
   "id": "7354f4b4",
   "metadata": {},
   "source": [
    "## ***___# Shares Outstandings___***"
   ]
  },
  {
   "cell_type": "code",
   "execution_count": null,
   "id": "017c1555",
   "metadata": {},
   "outputs": [],
   "source": [
    "PL += shares_outstandings"
   ]
  },
  {
   "cell_type": "markdown",
   "id": "5deadd83",
   "metadata": {},
   "source": [
    "## ***___# Net Income Per Share___***\n",
    "\n",
    "* [US GAAP - Is Net Income Per Share the same with EPS?](https://money.stackexchange.com/questions/148015/us-gaap-is-net-income-per-share-the-same-with-eps)"
   ]
  },
  {
   "cell_type": "code",
   "execution_count": null,
   "id": "cde7bb30",
   "metadata": {},
   "outputs": [],
   "source": [
    "def get_eps(soup):\n",
    "    return get_records_for_financial_element_names(\n",
    "        soup=soup, names=f\"{NAMESPACE}:EarningsPerShareBasic\".lower()\n",
    "    ) + \\\n",
    "    get_records_for_financial_element_names(\n",
    "        soup=soup, names=f\"{NAMESPACE}:EarningsPerShareBasicAndDiluted\".lower()\n",
    "    )"
   ]
  },
  {
   "cell_type": "code",
   "execution_count": null,
   "id": "357eb478",
   "metadata": {},
   "outputs": [],
   "source": [
    "PL += get_eps(soup)"
   ]
  },
  {
   "cell_type": "markdown",
   "id": "74b3f108",
   "metadata": {},
   "source": [
    "## Display P/L\n",
    "\n",
    "Is ```us-gaap:othernonoperatingincomeexpense``` credit or debit? As the value is **negative** and so is in the Income Statement, is shoudl be credit -> To be confirmed. "
   ]
  },
  {
   "cell_type": "code",
   "execution_count": null,
   "id": "3a817577",
   "metadata": {},
   "outputs": [],
   "source": [
    "df_PL = pd.DataFrame(PL, columns=get_financial_element_columns())\n",
    "df_PL"
   ]
  },
  {
   "cell_type": "code",
   "execution_count": null,
   "id": "c88d724d",
   "metadata": {},
   "outputs": [],
   "source": [
    "credits = df_PL[df_PL['type'] == 'credit']['value'].sum()\n",
    "credits"
   ]
  },
  {
   "cell_type": "code",
   "execution_count": null,
   "id": "e5e6bdfb",
   "metadata": {},
   "outputs": [],
   "source": [
    "debits = df_PL[df_PL['type'] == 'debit']['value'].sum()\n",
    "debits"
   ]
  },
  {
   "cell_type": "code",
   "execution_count": null,
   "id": "1effbc91",
   "metadata": {},
   "outputs": [],
   "source": [
    "credits - debits  # Equal to the Net Income"
   ]
  },
  {
   "cell_type": "code",
   "execution_count": null,
   "id": "9bacdae1",
   "metadata": {},
   "outputs": [],
   "source": [
    "eps = np.divide(\n",
    "    df_PL[df_PL['name'] == 'us-gaap:netincomeloss']['value'].values,\n",
    "    df_PL[df_PL['name'] == 'us-gaap:commonstocksharesoutstanding']['value'].values\n",
    ").item()\n",
    "scale = 2\n",
    "\n",
    "print(f\"{eps:.{scale}f}\")"
   ]
  },
  {
   "cell_type": "markdown",
   "id": "3b613d03",
   "metadata": {},
   "source": [
    "---\n",
    "# Balance Sheet (B/S)"
   ]
  },
  {
   "cell_type": "code",
   "execution_count": null,
   "id": "210c567b",
   "metadata": {},
   "outputs": [],
   "source": [
    "BS = []"
   ]
  },
  {
   "cell_type": "markdown",
   "id": "bffb478e",
   "metadata": {},
   "source": [
    "## Cash & Cash Equivalents\n",
    "\n",
    "Look for the cash and cash equivalents for the reporting perid in the Balance Sheet and Cash Flow statements of the  10-K."
   ]
  },
  {
   "cell_type": "code",
   "execution_count": null,
   "id": "a63587e2",
   "metadata": {},
   "outputs": [],
   "source": [
    "names = f\"{NAMESPACE}:CashAndCashEquivalentsAtCarryingValue\"\n",
    "BS += get_records_for_financial_element_names(soup=soup, names=names)"
   ]
  },
  {
   "cell_type": "markdown",
   "id": "f589906b",
   "metadata": {},
   "source": [
    "## ***___Inventory___***"
   ]
  },
  {
   "cell_type": "code",
   "execution_count": null,
   "id": "5f1fa472",
   "metadata": {},
   "outputs": [],
   "source": [
    "names = re.compile(\"|\".join([\n",
    "    rf\"^{NAMESPACE}:InventoryNet$\",\n",
    "    rf\"^{NAMESPACE}:TotalAsset$\",\n",
    "]).lower())\n",
    "f\"{NAMESPACE}:gaap:\""
   ]
  },
  {
   "cell_type": "markdown",
   "id": "e4f5463e",
   "metadata": {},
   "source": [
    "## ***___# Asset___***"
   ]
  },
  {
   "cell_type": "code",
   "execution_count": null,
   "id": "c69ead80",
   "metadata": {},
   "outputs": [],
   "source": [
    "names = re.compile(\"|\".join([\n",
    "    rf\"^{NAMESPACE}:Asset$\",\n",
    "]).lower())\n",
    "\n",
    "BS += get_records_for_financial_element_names(soup=soup, names=names)"
   ]
  },
  {
   "cell_type": "markdown",
   "id": "ebbfbf41",
   "metadata": {},
   "source": [
    "## ***___GoodWill___***"
   ]
  },
  {
   "cell_type": "code",
   "execution_count": null,
   "id": "cbec3b72",
   "metadata": {},
   "outputs": [],
   "source": [
    "names = re.compile(\"|\".join([\n",
    "    rf\"^{NAMESPACE}:GoodWill$\",\n",
    "]).lower())\n",
    "\n",
    "BS += get_records_for_financial_element_names(soup=soup, names=names)"
   ]
  },
  {
   "cell_type": "markdown",
   "id": "e8dded45",
   "metadata": {},
   "source": [
    "## ***___# Liabilities___***"
   ]
  },
  {
   "cell_type": "code",
   "execution_count": null,
   "id": "84fd1501",
   "metadata": {},
   "outputs": [],
   "source": [
    "names = re.compile(\"|\".join([\n",
    "    rf\"^{NAMESPACE}:Liabilities$\",\n",
    "    rf\"^{NAMESPACE}:LiabilitiesCurrent$\",\n",
    "]).lower())\n",
    "\n",
    "BS += get_records_for_financial_element_names(soup=soup, names=names)"
   ]
  },
  {
   "cell_type": "markdown",
   "id": "ef63e784",
   "metadata": {},
   "source": [
    "## ***___# Shares Outstandings___***"
   ]
  },
  {
   "cell_type": "code",
   "execution_count": null,
   "id": "f998eb34",
   "metadata": {},
   "outputs": [],
   "source": [
    "BS += shares_outstandings"
   ]
  },
  {
   "cell_type": "markdown",
   "id": "179cb744",
   "metadata": {},
   "source": [
    "## Display B/S"
   ]
  },
  {
   "cell_type": "code",
   "execution_count": null,
   "id": "219547e7",
   "metadata": {},
   "outputs": [],
   "source": [
    "df_BS = pd.DataFrame(BS, columns=get_financial_element_columns())\n",
    "df_BS"
   ]
  },
  {
   "cell_type": "code",
   "execution_count": null,
   "id": "a7c19453",
   "metadata": {},
   "outputs": [],
   "source": [
    "cps = np.divide(\n",
    "    df_BS[df_BS['name'] == 'us-gaap:cashandcashequivalentsatcarryingvalue']['value'].values,\n",
    "    df_BS[df_BS['name'] == 'us-gaap:commonstocksharesoutstanding']['value'].values\n",
    ").item()\n",
    "scale = 2\n",
    "\n",
    "print(f\"{cps:.{scale}f}\")"
   ]
  },
  {
   "cell_type": "code",
   "execution_count": null,
   "id": "33c4f793",
   "metadata": {},
   "outputs": [],
   "source": []
  }
 ],
 "metadata": {
  "kernelspec": {
   "display_name": "Python 3 (ipykernel)",
   "language": "python",
   "name": "python3"
  },
  "language_info": {
   "codemirror_mode": {
    "name": "ipython",
    "version": 3
   },
   "file_extension": ".py",
   "mimetype": "text/x-python",
   "name": "python",
   "nbconvert_exporter": "python",
   "pygments_lexer": "ipython3",
   "version": "3.8.10"
  }
 },
 "nbformat": 4,
 "nbformat_minor": 5
}
