{
 "cells": [
  {
   "cell_type": "markdown",
   "id": "0ddfbf2b",
   "metadata": {},
   "source": [
    "# Parsing SEC Filing XBRL Document\n",
    "\n",
    "\n",
    "## Objective\n",
    "\n",
    "Parse the filing XBRL file to create a DOM like structure that represent the filing data\n",
    "\n",
    "## References\n",
    "\n",
    "* [XBRL Specification - Extensible Business Reporting Language (XBRL) 2.1](https://www.xbrl.org/Specification/XBRL-2.1/REC-2003-12-31/XBRL-2.1-REC-2003-12-31+corrected-errata-2013-02-20.html)\n",
    "\n",
    "* [List of US GAAP Standards](https://xbrlsite.azurewebsites.net/2019/Prototype/references/us-gaap/)\n",
    "* [XBRL US - List of Elements](https://xbrl.us/data-rule/dqc_0015-le/)\n",
    "\n",
    "**Element Version**|**Element ID**|**Namespace**|**Element Label**|**Element Name**|**Balance Type**|**Definition**\n",
    ":-----:|:-----:|:-----:|:-----:|:-----:|:-----:|:-----:\n",
    "1|1367|us-gaap|Interest Expense|InterestExpense|debit|Amount of the cost of borrowed funds accounted for as interest expense.\n",
    "2|2692|us-gaap|Cash and Cash Equivalents, at Carrying Value|CashAndCashEquivalentsAtCarryingValue|debit|Amount of currency on hand as well as demand deposits with banks or financial institutions. Includes other kinds of accounts that have the general characteristics of demand deposits. Also includes short-term, highly liquid investments that are both readily convertible to known amounts of cash and so near their maturity that they present insignificant risk of changes in value because of changes in interest rates. Excludes cash and cash equivalents within disposal group and discontinued operation.\n",
    "\n",
    "## XBRL Element\n",
    "\n",
    "* [Understanding the Financial Report Logical System](https://www.youtube.com/playlist?list=PLqMZRUzQ64B7EWamzDP-WaYbS_W0RL9nt)\n",
    "* [XBRL - What is us-gaap:OperatingSegmentsMember element anb where is it defined?](https://money.stackexchange.com/questions/148010/xbrl-what-is-us-gaapoperatingsegmentsmember-element-anb-where-is-it-defined)\n",
    "\n",
    "### Example\n",
    "For instance, Qorvo 2020 10K\n",
    "\n",
    "* [XBRL/rfmd-20210403_htm.xml](https://www.sec.gov/Archives/edgar/data/1604778/000160477821000032/rfmd-20210403_htm.xml)\n",
    "* [HTML/rfmd-20210403.htm)](https://www.sec.gov/Archives/edgar/data/1604778/000160477821000032/rfmd-20210403.htm):\n",
    "\n",
    "```\n",
    "<us-gaap:cashandcashequivalentsatcarryingvalue contextref=\"*\" decimals=\"-3\" id=\"...\" unitref=\"usd\">\n",
    "  1397880000\n",
    "</us-gaap:cashandcashequivalentsatcarryingvalue>,\n",
    "<us-gaap:cashandcashequivalentsatcarryingvalue contextref=\"***\" decimals=\"-3\" id=\"...\" unitref=\"usd\">\n",
    "  714939000\n",
    "</us-gaap:cashandcashequivalentsatcarryingvalue>,\n",
    "<us-gaap:cashandcashequivalentsatcarryingvalue contextref=\"***\" decimals=\"-3\" id=\"...\" unitref=\"usd\">\n",
    " 711035000\n",
    "</us-gaap:cashandcashequivalentsatcarryingvalue>\n",
    "```\n",
    "\n",
    "Corresponds to the Cash and Cash equivalents in the Cash Flow statement.\n",
    "\n",
    "<img src=\"../image/edgar_qorvo_2020_10K_CF.png\" align=\"left\" width=800 />"
   ]
  },
  {
   "cell_type": "markdown",
   "id": "b5dc76bb",
   "metadata": {},
   "source": [
    "---\n",
    "# Setup"
   ]
  },
  {
   "cell_type": "code",
   "execution_count": 102,
   "id": "2200e8cd",
   "metadata": {},
   "outputs": [],
   "source": [
    "from typing import (\n",
    "    List,\n",
    "    Dict\n",
    ")\n",
    "import logging\n",
    "import time\n",
    "import datetime\n",
    "import dateutil\n",
    "import calendar\n",
    "import re\n",
    "import requests\n",
    "import unicodedata\n",
    "import bs4\n",
    "from bs4 import BeautifulSoup\n",
    "from IPython.core.display import (\n",
    "    display, \n",
    "    HTML\n",
    ")\n",
    "\n",
    "import numpy as np\n",
    "import pandas as pd\n",
    "pd.set_option('display.float_format', lambda x: ('%f' % x).rstrip('0').rstrip('.'))\n",
    "pd.set_option('display.colheader_justify', 'center')"
   ]
  },
  {
   "cell_type": "code",
   "execution_count": 2,
   "id": "9f3dec19",
   "metadata": {},
   "outputs": [],
   "source": [
    "logging.basicConfig(level=logging.DEBUG)\n",
    "Logger = logging.getLogger(__name__)"
   ]
  },
  {
   "cell_type": "code",
   "execution_count": 3,
   "id": "0b59706f",
   "metadata": {},
   "outputs": [
    {
     "data": {
      "text/html": [
       "<style>\n",
       "table {float:left}\n",
       "</style>\n"
      ],
      "text/plain": [
       "<IPython.core.display.HTML object>"
      ]
     },
     "metadata": {},
     "output_type": "display_data"
    }
   ],
   "source": [
    "%%html\n",
    "<style>\n",
    "table {float:left}\n",
    "</style>"
   ]
  },
  {
   "cell_type": "code",
   "execution_count": 4,
   "id": "5d0cc495",
   "metadata": {},
   "outputs": [],
   "source": [
    "def restore_windows_1252_characters(restore_string):\n",
    "    \"\"\"\n",
    "        Replace C1 control characters in the Unicode string s by the\n",
    "        characters at the corresponding code points in Windows-1252,\n",
    "        where possible.\n",
    "    \"\"\"\n",
    "\n",
    "    def to_windows_1252(match):\n",
    "        try:\n",
    "            return bytes([ord(match.group(0))]).decode('windows-1252')\n",
    "        except UnicodeDecodeError:\n",
    "            # No character at the corresponding code point: remove it.\n",
    "            return ''\n",
    "        \n",
    "    return re.sub(r'[\\u0080-\\u0099]', to_windows_1252, restore_string)"
   ]
  },
  {
   "cell_type": "markdown",
   "id": "4a689e1e",
   "metadata": {},
   "source": [
    "# Global Constant"
   ]
  },
  {
   "cell_type": "code",
   "execution_count": 5,
   "id": "faac3969",
   "metadata": {},
   "outputs": [
    {
     "data": {
      "text/plain": [
       "<re.Match object; span=(0, 9), match=' -123.12 '>"
      ]
     },
     "execution_count": 5,
     "metadata": {},
     "output_type": "execute_result"
    }
   ],
   "source": [
    "# regexp to extract numeric string\n",
    "REGEXP_NUMERIC = re.compile(r\"\\s*[\\d.-]*\\s*\")\n",
    "\n",
    "re.match(REGEXP_NUMERIC, \" -123.12 \")"
   ]
  },
  {
   "cell_type": "code",
   "execution_count": 6,
   "id": "021080b5",
   "metadata": {},
   "outputs": [],
   "source": [
    "EDGAR_HTTP_HEADERS = {\"User-Agent\": \"Company Name myname@company.com\"}\n",
    "\n",
    "FS_TYPE_10K = \"10-K\"\n",
    "FS_TYPE_10Q = \"10-Q\""
   ]
  },
  {
   "cell_type": "markdown",
   "id": "54e42be6",
   "metadata": {},
   "source": [
    "---\n",
    "# Load EDGAR Filing XBRL\n",
    "\n",
    "Download the ```_htm.xml``` file from EDGAR. SEC now requires user-agent header."
   ]
  },
  {
   "cell_type": "markdown",
   "id": "fdb7ad0b",
   "metadata": {},
   "source": [
    "## Filling (CIK/Accession)"
   ]
  },
  {
   "cell_type": "code",
   "execution_count": 7,
   "id": "e1db7cdb",
   "metadata": {},
   "outputs": [],
   "source": [
    "# OPTICAL CABLE CORPORATION 10-K for the fiscal year ended October 31, 2021\n",
    "CIK = '0001000230'\n",
    "ACCESSION = '000143774921028951'\n",
    "FS_TYPE = FS_TYPE_10K"
   ]
  },
  {
   "cell_type": "code",
   "execution_count": 8,
   "id": "1f92c0e6",
   "metadata": {},
   "outputs": [],
   "source": [
    "# QORVO 2021 10K\n",
    "CIK = '1604778'\n",
    "ACCESSION = '000160477821000032'\n",
    "FS_TYPE = FS_TYPE_10K"
   ]
  },
  {
   "cell_type": "code",
   "execution_count": 9,
   "id": "513d5e68",
   "metadata": {},
   "outputs": [],
   "source": [
    "# AMKOR 2020 10K\n",
    "CIK = '1047127'\n",
    "ACCESSION = '0001047127-20-000006'.replace('-', '')\n",
    "FS_TYPE = FS_TYPE_10K"
   ]
  },
  {
   "cell_type": "code",
   "execution_count": 10,
   "id": "5158aea3",
   "metadata": {},
   "outputs": [],
   "source": [
    "# DIOD 2020 10K\n",
    "CIK = '29002'\n",
    "ACCESSION = '000156459021007008'\n",
    "FS_TYPE = FS_TYPE_10K"
   ]
  },
  {
   "cell_type": "code",
   "execution_count": 11,
   "id": "d43b42e7",
   "metadata": {},
   "outputs": [],
   "source": [
    "# AMKOR 2021 10Q\n",
    "CIK = '1047127'\n",
    "ACCESSION = '000104712721000043'\n",
    "FS_TYPE = FS_TYPE_10Q"
   ]
  },
  {
   "cell_type": "code",
   "execution_count": 12,
   "id": "d68a61e6",
   "metadata": {},
   "outputs": [
    {
     "data": {
      "text/plain": [
       "'https://www.sec.gov/Archives/edgar/data/1047127/000104712721000043/index.xml'"
      ]
     },
     "execution_count": 12,
     "metadata": {},
     "output_type": "execute_result"
    }
   ],
   "source": [
    "INDEX_XML_URL = f\"https://www.sec.gov/Archives/edgar/data/{CIK}/{ACCESSION}/index.xml\"\n",
    "INDEX_XML_URL"
   ]
  },
  {
   "cell_type": "markdown",
   "id": "a31035ba",
   "metadata": {},
   "source": [
    "## Filing Directory Listing\n",
    "\n",
    "Using EDGAR Directory Listing (index.html, index.json, or index.xml), identify the XBRL file (_htm.xml) path. "
   ]
  },
  {
   "cell_type": "raw",
   "id": "a325e1ee",
   "metadata": {},
   "source": [
    "\"\"\"\n",
    "INDEX_XML_URL = f\"https://www.sec.gov/Archives/edgar/data/{CIK}/{ACCESSION}/index.xml\"\n",
    "INDEX_XML_URL\n",
    "\n",
    "response = requests.get(INDEX_XML_URL, headers=EDGAR_HTTP_HEADERS)\n",
    "if response.status_code == 200:\n",
    "    index = response.content.decode(\"utf-8\") \n",
    "else:\n",
    "    assert False, f\"{INDEX_XML_URL} failed with status {response.status_code}\"\n",
    "    \n",
    "path_to_xbrl = BeautifulSoup(index, 'html.parser').find('href', string=re.compile(\".*_htm.xml\"))\n",
    "del index\n",
    "assert path_to_xbrl, \"No XBRL file found.\"\n",
    "\n",
    "path_to_xbrl = path_to_xbrl.string.strip()\n",
    "\"\"\""
   ]
  },
  {
   "cell_type": "code",
   "execution_count": 13,
   "id": "434d6a34",
   "metadata": {},
   "outputs": [],
   "source": [
    "def xbrl_url(index_xml_url):\n",
    "    \"\"\"Generate the URL to the XBML file in the filing directory \n",
    "    Args:\n",
    "        index_xml_url: URL to the EDGAR directory listing index.xml file.\n",
    "    Returns:\n",
    "        URL to the XBRL file in the filing directory.\n",
    "    \"\"\"\n",
    "    time.sleep(1)\n",
    "    \n",
    "    response = requests.get(index_xml_url, headers=EDGAR_HTTP_HEADERS)\n",
    "    if response.status_code == 200:\n",
    "        content = response.content.decode(\"utf-8\") \n",
    "    else:\n",
    "        Logger.error(\"%s failed with %s\" % (index_xml_url, response.status_code))\n",
    "        assert False, f\"{index_xml_url} failed with status {response.status_code}\"\n",
    "    \n",
    "    # --------------------------------------------------------------------------------\n",
    "    # Look for the XBRL XML file\n",
    "    # 1. _htm.xml file\n",
    "    # 2. <filename>.xml where \"filename\" is from <filename>.xsd.\n",
    "    # --------------------------------------------------------------------------------\n",
    "    # 1. Look for _htm.xml\n",
    "    index = BeautifulSoup(content, 'html.parser')\n",
    "    path_to_xbrl = index.find('href', string=re.compile(\".*_htm\\.xml\"))\n",
    "    if path_to_xbrl:\n",
    "        url = \"https://www.sec.gov\" + path_to_xbrl.string.strip()\n",
    "        Logger.debug(\"URL to XBRL is [%s]\" % url)\n",
    "        return url\n",
    "\n",
    "    # 2. Look for XSD\n",
    "    path_to_xsd = index.find('href', string=re.compile(\".*\\.xsd\"))\n",
    "    if path_to_xsd:\n",
    "        path_to_xml = path_to_xsd.string.replace(\".xsd\", \".xml\")\n",
    "        path_to_xbrl = index.find('href', string=path_to_xml)\n",
    "        if path_to_xbrl:\n",
    "            url = \"https://www.sec.gov\" + path_to_xbrl.string.strip()\n",
    "            Logger.debug(\"URL to XBRL is [%s]\" % url)\n",
    "            return url\n",
    "        else:\n",
    "            Logger.debug(\"No XBRL foudn with [%s]\" % path_to_xml)\n",
    "\n",
    "    # 3. Loo for XML with ([^R0-9]*)\n",
    "    regexp = index_xml_url.replace(\"index.xml\", \"\") + r\"[^R0-9]*\\.xml\"\n",
    "    path_to_xbrl = index.find('href', string=re.compile(regexp))\n",
    "    if path_to_xbrl:\n",
    "        url = \"https://www.sec.gov\" + path_to_xbrl.string.strip()\n",
    "        Logger.debug(\"URL to XBRL is [%s]\" % regexp)\n",
    "        return url\n",
    "    else:\n",
    "        Logger.debug(\"No XBRL foudn with [%s]\" % path_to_xml)\n",
    "                \n",
    "    assert False, \"No XBRL for %s\" % index_xml_url"
   ]
  },
  {
   "cell_type": "markdown",
   "id": "08001023",
   "metadata": {},
   "source": [
    "## Download XBRL"
   ]
  },
  {
   "cell_type": "code",
   "execution_count": 14,
   "id": "5c791def",
   "metadata": {},
   "outputs": [
    {
     "name": "stderr",
     "output_type": "stream",
     "text": [
      "DEBUG:urllib3.connectionpool:Starting new HTTPS connection (1): www.sec.gov:443\n",
      "DEBUG:urllib3.connectionpool:https://www.sec.gov:443 \"GET /Archives/edgar/data/1047127/000104712721000043/index.xml HTTP/1.1\" 200 1218\n",
      "DEBUG:__main__:URL to XBRL is [https://www.sec.gov/Archives/edgar/data/1047127/000104712721000043/amkr-20210930_htm.xml]\n",
      "DEBUG:urllib3.connectionpool:Starting new HTTPS connection (1): www.sec.gov:443\n",
      "DEBUG:urllib3.connectionpool:https://www.sec.gov:443 \"GET /Archives/edgar/data/1047127/000104712721000043/amkr-20210930_htm.xml HTTP/1.1\" 200 109662\n"
     ]
    }
   ],
   "source": [
    "response = requests.get(xbrl_url(INDEX_XML_URL), headers=EDGAR_HTTP_HEADERS)\n",
    "if response.status_code == 200:\n",
    "    content = response.content.decode(\"utf-8\") \n",
    "else:\n",
    "    assert False, f\"{XBRL_URL} failed with status {response.status_code}\"\n",
    "    \n",
    "del response"
   ]
  },
  {
   "cell_type": "markdown",
   "id": "918e1764",
   "metadata": {},
   "source": [
    "# XBRL"
   ]
  },
  {
   "cell_type": "code",
   "execution_count": 109,
   "id": "74c03ef0",
   "metadata": {},
   "outputs": [],
   "source": [
    "soup = BeautifulSoup(content, 'html.parser')"
   ]
  },
  {
   "cell_type": "code",
   "execution_count": 107,
   "id": "bcb7aefd",
   "metadata": {},
   "outputs": [],
   "source": [
    "# Verify [<xbrl xmlns=\"http://www.xbrl.org/2003/instance\">]\n",
    "assert soup.find('xbrl', attrs={\"xmlns\": \"http://www.xbrl.org/2003/instance\"}), \\\n",
    "    f\"Invalid XBRL {INDEX_XML_URL}\""
   ]
  },
  {
   "cell_type": "markdown",
   "id": "8e630adf",
   "metadata": {},
   "source": [
    "## Company Name"
   ]
  },
  {
   "cell_type": "code",
   "execution_count": 105,
   "id": "c2456976",
   "metadata": {},
   "outputs": [
    {
     "name": "stderr",
     "output_type": "stream",
     "text": [
      "DEBUG:__main__:AMKORTECHNOLOGYINC\n"
     ]
    }
   ],
   "source": [
    "registrant_name = soup.find(\"dei:EntityRegistrantName\".lower()).string.strip()\n",
    "assert registrant_name, f\"No regstrant name found in {INDEX_XML_URL}\"\n",
    "\n",
    "# Remove non-ascii characters to form a company name\n",
    "registrant_name = ''.join(e for e in registrant_name if e.isalnum())\n",
    "Logger.debug(registrant_name)"
   ]
  },
  {
   "cell_type": "markdown",
   "id": "9c96339c",
   "metadata": {},
   "source": [
    "## Repoting period\n",
    "\n",
    "Each 10-K and 10-Q XBRL has the reporting period for the filing. To exclude the other period, e.g. pervious year or quarter, use the ```context id``` for the reporting period. **Most** 10-K, 10-Q specify the annual period with the first ```<startDate> and <endDate>``` tags.\n",
    "\n",
    "For instances:\n",
    "\n",
    "### QRVO 10-K 2020\n",
    "\n",
    "```\n",
    "<context id=\"ifb6ce67cf6954ebf88471dd82daa9247_D20200329-20210403\">\n",
    "    <entity>\n",
    "    <identifier scheme=\"http://www.sec.gov/CIK\">0001604778</identifier>\n",
    "    </entity>\n",
    "    <period>\n",
    "        <startDate>2020-03-29</startDate>\n",
    "        <endDate>2021-04-03</endDate>\n",
    "    </period>\n",
    "</context>\n",
    "```\n",
    "\n",
    "### AMKR 10-K 2020\n",
    "\n",
    "```\n",
    "<context id=\"i5fac0a392353427b8266f185495754d3_D20200101-20201231\">\n",
    "    <entity>\n",
    "    <identifier scheme=\"http://www.sec.gov/CIK\">0001047127</identifier>\n",
    "    </entity>\n",
    "    <period>\n",
    "        <startDate>2020-01-01</startDate>\n",
    "        <endDate>2020-12-31</endDate>\n",
    "    </period>\n",
    "</context>\n",
    "```\n",
    "\n",
    "### AAPL 10-Q 4th QTR 2020\n",
    "\n",
    "```\n",
    "<context id=\"i6e431846933d461fb8c8c0bdf98c9758_D20200927-20201226\">\n",
    "    <entity>\n",
    "    <identifier scheme=\"http://www.sec.gov/CIK\">0000320193</identifier>\n",
    "    </entity>\n",
    "    <period>\n",
    "        <startDate>2020-09-27</startDate>\n",
    "        <endDate>2020-12-26</endDate>\n",
    "    </period>\n",
    "</context>\n",
    "```\n",
    "\n",
    "**However, there are companies that do not have this manner**. For instance [10-K for OPTICAL CABLE CORPORATION(CIK=0001000230)](https://www.sec.gov/Archives/edgar/data/1000230/000143774921028951/occ20211031_10k_htm.xml) has the same start and end dates at first.\n",
    "\n",
    "```\n",
    "<context id=\"d202110K\">\n",
    "\t<entity>\n",
    "\t\t<identifier scheme=\"http://www.sec.gov/CIK\">0001000230</identifier>\n",
    "\t</entity>\n",
    "\t<period>\n",
    "\t\t<startDate>2021-10-31</startDate>   # <-----\n",
    "\t\t<endDate>2021-10-31</endDate>\n",
    "\t</period>\n",
    "</context>\n",
    "<context id=\"d_2020-11-01_2021-10-31\">\n",
    "\t<entity>\n",
    "\t\t<identifier scheme=\"http://www.sec.gov/CIK\">0001000230</identifier>\n",
    "\t</entity>\n",
    "\t<period>\n",
    "\t\t<startDate>2020-11-01</startDate>   # <-----\n",
    "\t\t<endDate>2021-10-31</endDate>\n",
    "\t</period>\n",
    "</context>\n",
    "```\n",
    "\n",
    "The report uses the 2nd for 2021 F/S element value but does not use the first one.\n",
    "\n",
    "**B/S**\n",
    "```\n",
    "<us-gaap:Assets \n",
    "    contextRef=\"i_2021-10-31\"    # <-----\n",
    "    decimals=\"INF\" \n",
    "    id=\"c79893606\" \n",
    "    unitRef=\"USD\"\n",
    ">\n",
    "  37916530\n",
    "</us-gaap:Assets>\n",
    "```\n",
    "\n",
    "**P/L**\n",
    "```\n",
    "<us-gaap:RevenueFromContractWithCustomerIncludingAssessedTax \n",
    "  contextRef=\"d_2020-11-01_2021-10-31\"     # <-----\n",
    "  decimals=\"INF\" \n",
    "  id=\"c79893662\" \n",
    "  unitRef=\"USD\"\n",
    ">\n",
    "  59136294\n",
    "</us-gaap:RevenueFromContractWithCustomerIncludingAssessedTax>\n",
    "```\n",
    "\n",
    "<img src='../image/edgar_optical_cable_2021_10K.png' align=\"left\" width=500/>"
   ]
  },
  {
   "cell_type": "markdown",
   "id": "5ff955a5",
   "metadata": {},
   "source": [
    "### Get the period from the 1st\n",
    "\n",
    "For now, just get the period from the 1st **period** element."
   ]
  },
  {
   "cell_type": "code",
   "execution_count": 17,
   "id": "bc1191a1",
   "metadata": {},
   "outputs": [],
   "source": [
    "def get_period(soup):\n",
    "    \"\"\"Identify the report period (end date) from the first context tag in the statement.\n",
    "    <context id=\"ifb6ce67cf6954ebf88471dd82daa9247_D20200329-20210403\">\n",
    "        <entity>\n",
    "        <identifier scheme=\"http://www.sec.gov/CIK\">0001604778</identifier>\n",
    "        </entity>\n",
    "        <period>\n",
    "            <startDate>2020-03-29</startDate>\n",
    "            <endDate>2021-04-03</endDate>        # <-----\n",
    "        </period>\n",
    "    </context>\n",
    "    Returns: reporting period e.g. \"2021-09-30\"\n",
    "    \"\"\"\n",
    "    first_context = None\n",
    "    for context in soup.find_all('context'):\n",
    "        if context.find('period') and context.find('period').find('enddate'):\n",
    "            first_context = context\n",
    "            break      \n",
    "        \n",
    "    assert first_context is not None, \"No period found\"\n",
    "    period = first_context.find('period').find('enddate').text.strip()\n",
    "    \n",
    "    try:\n",
    "        dateutil.parser.parse(period)\n",
    "    except ValueError as e:\n",
    "        assert False, f\"Invalid period {period} found.\"\n",
    "            \n",
    "    return period"
   ]
  },
  {
   "cell_type": "code",
   "execution_count": 18,
   "id": "09390954",
   "metadata": {},
   "outputs": [
    {
     "data": {
      "text/plain": [
       "'2021-09-30'"
      ]
     },
     "execution_count": 18,
     "metadata": {},
     "output_type": "execute_result"
    }
   ],
   "source": [
    "PERIOD = get_period(soup)\n",
    "PERIOD"
   ]
  },
  {
   "cell_type": "markdown",
   "id": "a4bc1c5d",
   "metadata": {},
   "source": [
    "### Regexp to find all the contexts that match with PERIOD\n",
    "\n",
    "10-K, 10-Q F/S uses multiple contexts to refer to the F/S element values for the **period**. Collect all the contexts for the **period**."
   ]
  },
  {
   "cell_type": "code",
   "execution_count": 19,
   "id": "c89a7233",
   "metadata": {},
   "outputs": [],
   "source": [
    "def get_target_contexts(soup, period, type=FS_TYPE_10K):\n",
    "    target_contexts = []\n",
    "\n",
    "    end_date = dateutil.parser.parse(period)\n",
    "    duration = datetime.timedelta(days=365) if type == FS_TYPE_10K else datetime.timedelta(days=90)\n",
    "\n",
    "    # The StartDate of the valid context is within +/- 30 days of the starting date of the period.\n",
    "    # If the report is 10-K and the period end is 2021-10-31, then the validate date is between\n",
    "    # 2020-10-1 and 2020-11-1\n",
    "    from_date = end_date - duration - datetime.timedelta(days=30)\n",
    "    to_date = end_date - duration + datetime.timedelta(days=30)\n",
    "\n",
    "    # Contexts with startdate/enddate\n",
    "    for context in soup.find_all('context'):\n",
    "        if context.find('period') and context.find('period').find('enddate', string=period):\n",
    "            start = dateutil.parser.parse(context.find('period').find('startdate').text)\n",
    "            if start == end_date or (from_date < start and start < to_date):\n",
    "                target_contexts.append(context)\n",
    "\n",
    "    \n",
    "    # Contexts with 'instant' element\n",
    "    target_contexts.extend([\n",
    "        context for context in soup.find_all('context') \n",
    "        if context.find('period') and context.find('period').find(['instant'], string=PERIOD)\n",
    "    ])\n",
    "    \n",
    "    return target_contexts"
   ]
  },
  {
   "cell_type": "code",
   "execution_count": 20,
   "id": "a2a6a106",
   "metadata": {},
   "outputs": [],
   "source": [
    "# get_target_contexts(soup, PERIOD)"
   ]
  },
  {
   "cell_type": "code",
   "execution_count": 21,
   "id": "4613603f",
   "metadata": {},
   "outputs": [],
   "source": [
    "def get_target_context_ids(soup, period, type=FS_TYPE_10K):\n",
    "    target_contexts = []\n",
    "\n",
    "    end_date = dateutil.parser.parse(period)\n",
    "    duration = datetime.timedelta(days=365) if type == FS_TYPE_10K else datetime.timedelta(days=90)\n",
    "\n",
    "    # The StartDate of the valid context is within +/- 30 days of the starting date of the period.\n",
    "    # If the report is 10-K and the period end is 2021-10-31, then the validate date is between\n",
    "    # 2020-10-1 and 2020-11-1\n",
    "    from_date = end_date - duration - datetime.timedelta(days=30)\n",
    "    to_date = end_date - duration + datetime.timedelta(days=30)\n",
    "\n",
    "    # Contexts with startdate/enddate\n",
    "    for context in soup.find_all('context'):\n",
    "        # print(\"-\"*100)\n",
    "        # print(context)\n",
    "        if context.find('period') and context.find('period').find('enddate', string=period):\n",
    "            start = dateutil.parser.parse(context.find('period').find('startdate').text)\n",
    "            if start == end_date or (from_date < start and start < to_date):\n",
    "                target_contexts.append(context['id'])\n",
    "\n",
    "    \n",
    "    # Contexts with 'instant' element\n",
    "    target_contexts.extend([\n",
    "        context['id'] for context in soup.find_all('context') \n",
    "        if context.find('period') and context.find('period').find(['instant'], string=PERIOD)\n",
    "    ])\n",
    "    \n",
    "    return target_contexts"
   ]
  },
  {
   "cell_type": "markdown",
   "id": "b9fc10ed",
   "metadata": {},
   "source": [
    "# Constant"
   ]
  },
  {
   "cell_type": "code",
   "execution_count": 22,
   "id": "517de640",
   "metadata": {},
   "outputs": [],
   "source": [
    "# XBRL Namespace\n",
    "NAMESPACE = \"us-gaap\""
   ]
  },
  {
   "cell_type": "code",
   "execution_count": 23,
   "id": "205a93e7",
   "metadata": {},
   "outputs": [],
   "source": [
    "ELEMENT_TYPE_DEBIT = 'debit'\n",
    "ELEMENT_TYPE_CREDIT = 'credit'\n",
    "ELEMENT_TYPE_CALC = 'calc'      # calculated value e.g. sub total \n",
    "ELEMENT_TYPE_METRIC = 'metric'  # metrics e.g. EPS\n",
    "ELEMENT_TYPE_FACT = 'fact'\n",
    "\n",
    "CREDIT_ITEMS = set(map(str.lower, [\n",
    "    # P/L\n",
    "    f\"{NAMESPACE}:Revenues\",\n",
    "    f\"{NAMESPACE}:RevenueFromContractWithCustomerExcludingAssessedTax\",\n",
    "    f\"{NAMESPACE}:DeferredRevenue\",\n",
    "    f\"{NAMESPACE}:RevenueMineralSales\",\n",
    "    f\"{NAMESPACE}:DeferredRevenueCurrent\",\n",
    "    f\"{NAMESPACE}:HealthCareOrganizationRevenue\",\n",
    "    f\"{NAMESPACE}:SalesRevenueGoodsGross\",\n",
    "    f\"{NAMESPACE}:RealEstateRevenueNet\",\n",
    "    f\"{NAMESPACE}:SalesOfRealEstate\",\n",
    "    f\"{NAMESPACE}:AdvertisingRevenue\",\n",
    "    f\"{NAMESPACE}:ElectricalGenerationRevenue\",\n",
    "    f\"{NAMESPACE}:ContractsRevenue\",\n",
    "    f\"{NAMESPACE}:AdmissionsRevenue\",\n",
    "    f\"{NAMESPACE}:InsuranceServicesRevenue\",\n",
    "    f\"{NAMESPACE}:BrokerageCommissionsRevenue\",\n",
    "    f\"{NAMESPACE}:OtherNonoperatingIncomeExpense\",  # Why this is in credit?\n",
    "    f\"{NAMESPACE}:CashAndCashEquivalentsAtCarryingValue\",\n",
    "    f\"{NAMESPACE}:OtherAlternativeEnergySalesRevenue\",\n",
    "    f\"{NAMESPACE}:RegulatedAndUnregulatedOperatingRevenue\",\n",
    "    \n",
    "    # B/S (Assets)\n",
    "    f\"{NAMESPACE}:RestrictedCashAndCashEquivalentsNoncurrent\",\n",
    "    f\"{NAMESPACE}:RestrictedCashEquivalentsCurrent\",\n",
    "    f\"{NAMESPACE}:RestrictedCashAndCashEquivalentsAtCarryingValue\",\n",
    "    f\"{NAMESPACE}:ShortTermInvestments\",\n",
    "    f\"{NAMESPACE}:ReceivablesNetCurrent\",\n",
    "    f\"{NAMESPACE}:OtherReceivables\",\n",
    "    f\"{NAMESPACE}:AccountsReceivableNetCurrent\",\n",
    "    f\"{NAMESPACE}:InventoryNet\",\n",
    "    f\"{NAMESPACE}:PrepaidExpenseCurrent\",\n",
    "    f\"{NAMESPACE}:PrepaidExpenseAndOtherAssetsCurrent\",\n",
    "    f\"{NAMESPACE}:PropertyPlantAndEquipmentNet\",\n",
    "    f\"{NAMESPACE}:DeferredIncomeTaxAssetsNet\",\n",
    "    f\"{NAMESPACE}:GoodWill\",\n",
    "    f\"{NAMESPACE}:IntangibleAssetsNetExcludingGoodwill\",\n",
    "    f\"{NAMESPACE}:OtherAssetsCurrent\",\n",
    "    f\"{NAMESPACE}:OtherAssetsNoncurrent\",\n",
    "    f\"{NAMESPACE}:OperatingLeaseRightOfUseAsset\",\n",
    "    \n",
    "    \n",
    "]))\n",
    "\n",
    "DEBIT_ITEMS = set(map(str.lower, [\n",
    "    # P/L\n",
    "    f\"{NAMESPACE}:CostOfRevenue\",\n",
    "    f\"{NAMESPACE}:CostOfGoods\",\n",
    "    f\"{NAMESPACE}:CostOfGoodsAndServicesSold\",\n",
    "    f\"{NAMESPACE}:CostOfServicesLicensesAndServices\",\n",
    "    f\"{NAMESPACE}:ContractRevenueCost\",\n",
    "    f\"{NAMESPACE}:LicenseCosts\",\n",
    "    f\"{NAMESPACE}:ResearchAndDevelopmentExpense\",\n",
    "    f\"{NAMESPACE}:SellingGeneralAndAdministrativeExpense\",\n",
    "    f\"{NAMESPACE}:OtherCostAndExpenseOperating\",\n",
    "    f\"{NAMESPACE}:IncomeTaxExpenseBenefit\",\n",
    "    f\"{NAMESPACE}:InterestExpense\",\n",
    "    \n",
    "    # B/S (Liabilities)\n",
    "    f\"{NAMESPACE}:AccountsPayableCurrent\",\n",
    "    f\"{NAMESPACE}:CapitalExpendituresIncurredButNotYetPaid\",\n",
    "    f\"{NAMESPACE}:AccruedLiabilitiesCurrent\",\n",
    "    f\"{NAMESPACE}:TaxesPayableCurrent\",\n",
    "    f\"{NAMESPACE}:LongTermDebtCurrent\",\n",
    "    f\"{NAMESPACE}:LongTermLoansFromBank\",\n",
    "    f\"{NAMESPACE}:DeferredIncomeTaxLiabilitiesNet\",\n",
    "    f\"{NAMESPACE}:LongTermDebt\",\n",
    "    f\"{NAMESPACE}:LongTermDebtNoncurrent\",\n",
    "    f\"{NAMESPACE}:PostemploymentBenefitsLiabilityNoncurrent\",\n",
    "    f\"{NAMESPACE}:PensionAndOtherPostretirementAndPostemploymentBenefitPlansLiabilitiesNoncurrent\",\n",
    "    f\"{NAMESPACE}:OperatingLeaseLiabilityNoncurrent\",\n",
    "    f\"{NAMESPACE}:OtherLiabilitiesNoncurrent\",\n",
    "    # B/S (SE)\n",
    "    f\"{NAMESPACE}:AdditionalPaidInCapitalCommonStock\",\n",
    "    f\"{NAMESPACE}:CommonStockValue\",\n",
    "    f\"{NAMESPACE}:CommonStocksIncludingAdditionalPaidInCapital\",\n",
    "    f\"{NAMESPACE}:RetainedEarningsAppropriated\",\n",
    "    f\"{NAMESPACE}:RetainedEarningsAccumulatedDeficit\",\n",
    "    f\"{NAMESPACE}:AccumulatedOtherComprehensiveIncomeLossNetOfTax\",\n",
    "    f\"{NAMESPACE}:MinorityInterest\",\n",
    "    \n",
    "]))\n",
    "\n",
    "CALC_ITEMS = set(map(str.lower, [\n",
    "    # P/L\n",
    "    f\"{NAMESPACE}:OperatingExpenses\",\n",
    "    f\"{NAMESPACE}:GrossProfit\",\n",
    "    f\"{NAMESPACE}:OperatingIncomeLoss\",\n",
    "    f\"{NAMESPACE}:ProfitLoss\",    \n",
    "    f\"{NAMESPACE}:NetIncomeLoss\",    \n",
    "    f\"{NAMESPACE}:NonoperatingIncomeExpense\",\n",
    "\n",
    "    # B/S (Credit)\n",
    "    f\"{NAMESPACE}:AssetsCurrent\",    \n",
    "    f\"{NAMESPACE}:Assets\",    \n",
    "    # B/S (Debit/Liabilities)\n",
    "    f\"{NAMESPACE}:LiabilitiesCurrent\",\n",
    "    f\"{NAMESPACE}:Liabilities\",\n",
    "    # B/S (Debit/SE)\n",
    "    f\"{NAMESPACE}:StockholdersEquity\",\n",
    "    f\"{NAMESPACE}:StockholdersEquityIncludingPortionAttributableToNoncontrollingInterest\",\n",
    "    f\"{NAMESPACE}:LiabilitiesAndStockholdersEquity\",\n",
    "    \n",
    "]))\n",
    "\n",
    "METRIC_ITEMS = set(map(str.lower, [\n",
    "    f\"{NAMESPACE}:EarningsPerShareBasic\",\n",
    "    f\"{NAMESPACE}:EarningsPerShareBasicAndDiluted\",\n",
    "]))\n",
    "\n",
    "FACT_ITEMS = set(map(str.lower, [\n",
    "    f\"{NAMESPACE}:SharesOutstanding\",\n",
    "    f\"{NAMESPACE}:CommonStockSharesOutstanding\",\n",
    "    f\"{NAMESPACE}:CommonStockOtherSharesOutstanding\",\n",
    "]))"
   ]
  },
  {
   "cell_type": "code",
   "execution_count": 24,
   "id": "6d1e0b89",
   "metadata": {},
   "outputs": [],
   "source": [
    "CONTEXT_REGEXP = re.compile(\"|\".join(get_target_context_ids(soup=soup, period=PERIOD, type=FS_TYPE)))"
   ]
  },
  {
   "cell_type": "markdown",
   "id": "2859eadd",
   "metadata": {},
   "source": [
    "# Utilities"
   ]
  },
  {
   "cell_type": "code",
   "execution_count": 25,
   "id": "73fa8ea3",
   "metadata": {},
   "outputs": [],
   "source": [
    "def assert_bf4_tag(element):\n",
    "    assert isinstance(element, bs4.element.Tag), \\\n",
    "    f\"Expected BS4 tag but {element} of type {type(element)}\""
   ]
  },
  {
   "cell_type": "code",
   "execution_count": 26,
   "id": "06a84787",
   "metadata": {},
   "outputs": [],
   "source": [
    "def display_elements(elements):\n",
    "    assert isinstance(elements, bs4.element.ResultSet) or isinstance(elements[0], bs4.element.Tag)\n",
    "    for element in elements: # decimals=\"-3\" means the displayed value is divied by 1000.\n",
    "        print(f\"{element.name:80} {element['unitref']:5} {element['decimals']:5} {element.text:15}\")"
   ]
  },
  {
   "cell_type": "code",
   "execution_count": 27,
   "id": "2b70a7a5",
   "metadata": {},
   "outputs": [],
   "source": [
    "def get_element_hash(element):\n",
    "    \"\"\"Generate the financial element hash key to uniquely identify an financial element record\n",
    "    In a F/S, the same element, e.g. gaap:CashAndCashEquivalentsAtCarryingValue can be used at\n",
    "    multiple places, one in B/S and one in P/L.\n",
    "    \n",
    "    To be able to identify if two elements are the same, provides a way to be able to compare\n",
    "    two elements by generating a hash key from the attributes of an element.\n",
    "    \n",
    "    Args:\n",
    "        element: bs4.element.Tag for an financial element\n",
    "    Returns: hash key\n",
    "    \"\"\"\n",
    "    assert isinstance(element, bs4.element.Tag)\n",
    "    # key = f\"{element.name}{element['unitref']}{element['contextref']}{element.text}\"\n",
    "    # key = f\"{element.name}{element['unitref']}{element.text}\"\n",
    "    key = f\"{element.name}{element['unitref']}\"\n",
    "    return hash(key)"
   ]
  },
  {
   "cell_type": "code",
   "execution_count": 28,
   "id": "8f40389a",
   "metadata": {},
   "outputs": [],
   "source": [
    "# XBRL attribute conditions to match when extracting FS elements\n",
    "ATTRIBUTES = {\n",
    "    \"contextref\": CONTEXT_REGEXP,\n",
    "    \"decimals\": True, \n",
    "    \"unitref\": True\n",
    "}\n",
    "\n",
    "\n",
    "def find_financial_elements(soup, element_names, attributes=ATTRIBUTES):\n",
    "    \"\"\"Find the financial statement elements from the XML/HTML source.\n",
    "    Args:\n",
    "        soup: BS4 source\n",
    "        element_names: String or regexp instance to select the financial elements.\n",
    "        attribute: tag attributes to select the financial elements\n",
    "    Returns:\n",
    "        List of BS4 tag objects that matched the element_names and attributes.\n",
    "    \"\"\"\n",
    "    assert isinstance(soup, BeautifulSoup)\n",
    "    assert isinstance(element_names, re.Pattern) or isinstance(element_names, str)\n",
    "\n",
    "    \n",
    "    names = element_names.lower() if isinstance(element_names, str) else element_names\n",
    "\n",
    "    elements = soup.find_all(\n",
    "        name=names,\n",
    "        string=REGEXP_NUMERIC,\n",
    "        attrs=attributes\n",
    "    )\n",
    "    \n",
    "    # Select unique elements\n",
    "    hashes = set([]) \n",
    "    results = []\n",
    "    if elements is not None and len(elements) > 0:\n",
    "        for element in elements:\n",
    "            hash_value = get_element_hash(element)\n",
    "            if hash_value not in hashes:\n",
    "                results.append(element) \n",
    "                hashes.add(hash_value)\n",
    "\n",
    "    return results"
   ]
  },
  {
   "cell_type": "code",
   "execution_count": 29,
   "id": "f3c0c5aa",
   "metadata": {},
   "outputs": [
    {
     "name": "stdout",
     "output_type": "stream",
     "text": [
      "us-gaap:revenues                                                                                    :1681000000\n",
      "us-gaap:costofgoodsandservicessold                                                                  :1356168000\n",
      "us-gaap:grossprofit                                                                                 :324832000\n",
      "us-gaap:sellinggeneralandadministrativeexpense                                                      :72581000\n",
      "us-gaap:researchanddevelopmentexpense                                                               :40790000\n",
      "us-gaap:operatingexpenses                                                                           :113371000\n",
      "us-gaap:operatingincomeloss                                                                         :211461000\n",
      "us-gaap:interestexpense                                                                             :12896000\n",
      "us-gaap:othernonoperatingincomeexpense                                                              :501000\n",
      "us-gaap:nonoperatingincomeexpense                                                                   :-12395000\n",
      "us-gaap:incomelossfromcontinuingoperationsbeforeincometaxesextraordinaryitemsnoncontrollinginterest :199066000\n",
      "us-gaap:incometaxexpensebenefit                                                                     :17219000\n",
      "us-gaap:profitloss                                                                                  :181847000\n",
      "us-gaap:netincomelossattributabletononcontrollinginterest                                           :993000\n",
      "us-gaap:netincomeloss                                                                               :180854000\n",
      "us-gaap:earningspersharebasic                                                                       :0.74\n",
      "us-gaap:earningspersharediluted                                                                     :0.74\n",
      "us-gaap:weightedaveragenumberofsharesoutstandingbasic                                               :244100000\n",
      "us-gaap:weightedaveragenumberofdilutedsharesoutstanding                                             :245942000\n",
      "us-gaap:othercomprehensiveincomeavailableforsalesecuritiesadjustmentnetoftaxportionattributabletoparent:-101000\n",
      "us-gaap:othercomprehensiveincomelosspensionandotherpostretirementbenefitplansadjustmentnetoftax     :-26000\n",
      "us-gaap:othercomprehensiveincomelossforeigncurrencytransactionandtranslationadjustmentnetoftax      :-102000\n",
      "us-gaap:othercomprehensiveincomelossnetoftax                                                        :-177000\n",
      "us-gaap:comprehensiveincomenetoftaxincludingportionattributabletononcontrollinginterest             :181670000\n",
      "us-gaap:comprehensiveincomenetoftax                                                                 :180677000\n",
      "us-gaap:cashandcashequivalentsatcarryingvalue                                                       :545592000\n",
      "us-gaap:restrictedcashandcashequivalentsatcarryingvalue                                             :929000\n",
      "us-gaap:debtsecuritiesavailableforsaleamortizedcostcurrent                                          :244627000\n",
      "us-gaap:shortterminvestments                                                                        :244470000\n",
      "us-gaap:accountsreceivablenetcurrent                                                                :1289617000\n",
      "us-gaap:inventorynet                                                                                :445918000\n",
      "us-gaap:otherassetscurrent                                                                          :48598000\n",
      "us-gaap:assetscurrent                                                                               :2575124000\n",
      "us-gaap:propertyplantandequipmentnet                                                                :2901564000\n",
      "us-gaap:operatingleaserightofuseasset                                                               :146210000\n",
      "us-gaap:goodwill                                                                                    :25351000\n",
      "us-gaap:restrictedcashandcashequivalentsnoncurrent                                                  :3508000\n",
      "us-gaap:otherassetsnoncurrent                                                                       :118691000\n",
      "us-gaap:assets                                                                                      :5770448000\n",
      "us-gaap:debtcurrent                                                                                 :140380000\n",
      "us-gaap:accountspayablecurrent                                                                      :815877000\n",
      "us-gaap:accruedliabilitiescurrent                                                                   :389068000\n",
      "us-gaap:liabilitiescurrent                                                                          :1738985000\n",
      "us-gaap:longtermdebtnoncurrent                                                                      :884236000\n",
      "us-gaap:pensionandotherpostretirementandpostemploymentbenefitplansliabilitiesnoncurrent             :145633000\n",
      "us-gaap:operatingleaseliabilitynoncurrent                                                           :76955000\n",
      "us-gaap:otherliabilitiesnoncurrent                                                                  :164960000\n",
      "us-gaap:liabilities                                                                                 :3010769000\n",
      "us-gaap:preferredstockparorstatedvaluepershare                                                      :0.001\n",
      "us-gaap:preferredstocksharesauthorized                                                              :10000000\n",
      "us-gaap:preferredstocksharesissued                                                                  :0\n",
      "us-gaap:preferredstockvalue                                                                         :0\n",
      "us-gaap:commonstockparorstatedvaluepershare                                                         :0.001\n",
      "us-gaap:commonstocksharesauthorized                                                                 :500000000\n",
      "us-gaap:commonstocksharesissued                                                                     :290341000\n",
      "us-gaap:commonstocksharesoutstanding                                                                :244190000\n",
      "us-gaap:commonstockvalue                                                                            :290000\n",
      "us-gaap:additionalpaidincapital                                                                     :1973207000\n",
      "us-gaap:retainedearningsaccumulateddeficit                                                          :959641000\n",
      "us-gaap:accumulatedothercomprehensiveincomelossnetoftax                                             :15936000\n",
      "us-gaap:treasurystockshares                                                                         :46151000\n",
      "us-gaap:treasurystockvalue                                                                          :219061000\n",
      "us-gaap:stockholdersequity                                                                          :2730013000\n",
      "us-gaap:minorityinterest                                                                            :29666000\n",
      "us-gaap:stockholdersequityincludingportionattributabletononcontrollinginterest                      :2759679000\n",
      "us-gaap:liabilitiesandstockholdersequity                                                            :5770448000\n",
      "us-gaap:stockissuedduringperiodsharessharebasedcompensation                                         :226000\n",
      "us-gaap:stockissuedduringperiodvaluesharebasedcompensation                                          :1828000\n",
      "us-gaap:adjustmentstoadditionalpaidincapitalsharebasedcompensationrequisiteserviceperiodrecognitionvalue:3040000\n",
      "us-gaap:commonstockdividendspersharedeclared                                                        :0.04\n",
      "us-gaap:dividendscash                                                                               :9780000\n",
      "us-gaap:minorityinterestdecreasefromdistributionstononcontrollinginterestholders                    :149000\n",
      "us-gaap:cashcashequivalentsrestrictedcashandrestrictedcashequivalents                               :550029000\n",
      "us-gaap:unbilledreceivablescurrent                                                                  :264500000\n",
      "us-gaap:contractwithcustomerliability                                                               :109600000\n",
      "us-gaap:contractwithcustomerliabilitycurrent                                                        :61600000\n",
      "us-gaap:revenuefromcontractwithcustomerexcludingassessedtax                                         :1235753000\n",
      "us-gaap:concentrationriskpercentage1                                                                :0.43\n",
      "us-gaap:interestincomedepositswithfinancialinstitutions                                             :256000\n",
      "us-gaap:foreigncurrencytransactiongainlossbeforetax                                                 :53000\n",
      "us-gaap:gainslossesonextinguishmentofdebt                                                           :0\n",
      "us-gaap:unrecognizedtaxbenefits                                                                     :31100000\n",
      "us-gaap:netincomelossavailabletocommonstockholdersbasic                                             :180854000\n",
      "us-gaap:incrementalcommonsharesattributabletosharebasedpaymentarrangements                          :1842000\n",
      "us-gaap:antidilutivesecuritiesexcludedfromcomputationofearningspershareamount                       :180000\n",
      "us-gaap:availableforsaledebtsecuritiesamortizedcostbasis                                            :4000\n",
      "us-gaap:availableforsaledebtsecuritiesaccumulatedgrossunrealizedgainbeforetax                       :0\n",
      "us-gaap:availableforsaledebtsecuritiesaccumulatedgrossunrealizedlossbeforetax                       :0\n",
      "us-gaap:availableforsalesecuritiesdebtsecurities                                                    :4000\n",
      "us-gaap:availableforsalesecuritiesdebtmaturitieswithinoneyearamortizedcost                          :320948000\n",
      "us-gaap:availableforsalesecuritiesdebtmaturitieswithinoneyearfairvalue                              :320877000\n",
      "us-gaap:availableforsalesecuritiesdebtmaturitiesafteronethroughfiveyearsamortizedcost               :82992000\n",
      "us-gaap:availableforsalesecuritiesdebtmaturitiesafteronethroughfiveyearsfairvalue                   :82905000\n",
      "us-gaap:availableforsalesecuritiesdebtmaturitiesafterfivethroughtenyearsamortizedcost               :406000\n",
      "us-gaap:availableforsalesecuritiesdebtmaturitiesafterfivethroughtenyearsfairvalue                   :406000\n",
      "us-gaap:availableforsalesecuritiesdebtmaturitiesaftertenyearsamortizedcost                          :1530000\n",
      "us-gaap:availableforsalesecuritiesdebtmaturitiesaftertenyearsfairvalue                              :1530000\n",
      "us-gaap:heldtomaturitysecuritiesfairvalue                                                           :4700000\n",
      "us-gaap:heldtomaturitysecurities                                                                    :4700000\n",
      "us-gaap:propertyplantandequipmentgross                                                              :219081000\n",
      "us-gaap:financeleaserightofuseassetbeforeaccumulatedamortization                                    :100939000\n",
      "us-gaap:propertyplantandequipmentandfinanceleaserightofuseassetbeforeaccumulateddepreciationandamortization:8568111000\n",
      "us-gaap:propertyplantandequipmentandfinanceleaserightofuseassetaccumulateddepreciationandamortization:5666547000\n",
      "us-gaap:propertyplantandequipmentandfinanceleaserightofuseassetafteraccumulateddepreciationandamortization:2901564000\n",
      "us-gaap:depreciation                                                                                :145826000\n",
      "us-gaap:employeerelatedliabilitiescurrent                                                           :134797000\n",
      "us-gaap:operatingleaseliabilitycurrent                                                              :56054000\n",
      "us-gaap:accruedincometaxescurrent                                                                   :41470000\n",
      "us-gaap:financeleaseliabilitycurrent                                                                :27805000\n",
      "us-gaap:postemploymentbenefitsliabilitycurrent                                                      :10970000\n",
      "us-gaap:interestpayablecurrent                                                                      :1979000\n",
      "us-gaap:otheraccruedliabilitiescurrent                                                              :54352000\n",
      "us-gaap:debtinstrumentinterestratestatedpercentage                                                  :0.06625\n",
      "us-gaap:debtinstrumentcarryingamount                                                                :525000000\n",
      "us-gaap:longtermdebt                                                                                :1032728000\n",
      "us-gaap:debtinstrumentunamortizeddiscountpremiumanddebtissuancecostsnet                             :-8112000\n",
      "us-gaap:longtermdebtcurrent                                                                         :140380000\n",
      "us-gaap:debtinstrumentunusedborrowingcapacityamount                                                 :30000000\n",
      "us-gaap:debtinstrumentunusedborrowingcapacityamount                                                 :80000000000\n",
      "us-gaap:longtermdebtweightedaverageinterestrate                                                     :0.0030\n",
      "us-gaap:lineofcreditfacilityremainingborrowingcapacity                                              :250000000\n",
      "us-gaap:definedbenefitplanservicecost                                                               :6548000\n",
      "us-gaap:definedbenefitplaninterestcost                                                              :1199000\n",
      "us-gaap:definedbenefitplanexpectedreturnonplanassets                                                :1384000\n",
      "us-gaap:definedbenefitplanactuarialgainloss                                                         :-32000\n",
      "us-gaap:definedbenefitplannetperiodicbenefitcost                                                    :6395000\n",
      "us-gaap:definedcontributionplancostrecognized                                                       :4807000\n",
      "us-gaap:derivativeassetnotionalamount                                                               :316356000\n",
      "us-gaap:derivativeassets                                                                            :-555000\n",
      "us-gaap:derivativegainlossonderivativenet                                                           :11200000\n",
      "us-gaap:debtinstrumentfairvalue                                                                     :562511000\n",
      "us-gaap:restructuringreserve                                                                        :0\n",
      "us-gaap:restructuringandrelatedcostcostincurredtodate1                                              :16255000\n",
      "us-gaap:restructuringandrelatedcostexpectedcostremaining1                                           :0\n"
     ]
    }
   ],
   "source": [
    "for element in find_financial_elements(soup, re.compile(f\"^{NAMESPACE}:.*\"), attributes=ATTRIBUTES):\n",
    "    print(f\"{element.name:100}:{element.text}\")"
   ]
  },
  {
   "cell_type": "code",
   "execution_count": 30,
   "id": "9ae771a9",
   "metadata": {},
   "outputs": [],
   "source": [
    "def get_financial_element_numeric_values(elements):\n",
    "    # assert isinstance(elements, bs4.element.ResultSet) or isinstance(elements[0], bs4.element.Tag)\n",
    "    assert_bf4_tag(elements[0])\n",
    "    \n",
    "    values = []\n",
    "    for element in elements:\n",
    "        assert re.match(REGEXP_NUMERIC, element.text.strip()), f\"Element must be numeric but {element.text}\"\n",
    "        values.append(float(element.text))\n",
    "        \n",
    "    return values"
   ]
  },
  {
   "cell_type": "code",
   "execution_count": 31,
   "id": "da55f58b",
   "metadata": {},
   "outputs": [],
   "source": [
    "def get_financial_element_columns():\n",
    "    \"\"\"Financial record columns\"\"\"\n",
    "    return [\"type\", \"name\", \"unit\", \"decimals\", \"value\", \"context\"]\n",
    "\n",
    "def get_record_for_nil_elements(elements, element_type=None):\n",
    "    results = []\n",
    "    for element in elements:\n",
    "        # Type of the elemen\n",
    "        if element_type is None and element.name in DEBIT_ITEMS: element_type = ELEMENT_TYPE_DEBIT\n",
    "        if element_type is None and element.name in CREDIT_ITEMS: element_type = ELEMENT_TYPE_CREDIT\n",
    "        if element_type is None and element.name in CALC_ITEMS: element_type = ELEMENT_TYPE_CALC\n",
    "        if element_type is None and element.name in METRIC_ITEMS: element_type = ELEMENT_TYPE_METRIC\n",
    "        if element_type is None and element.name in FACT_ITEMS: element_type = ELEMENT_TYPE_FACT\n",
    "\n",
    "        # Name of the financial element\n",
    "        element_name = element.name\n",
    "\n",
    "        # Unit of the financial element\n",
    "        element_unit = element['unitref']\n",
    "\n",
    "        # Scale of the element\n",
    "        element_scale = int(element['decimals']) if element['decimals'].lower() != 'inf' else np.inf\n",
    "\n",
    "        # Value of the element\n",
    "        element_value = -np.inf\n",
    "\n",
    "        # Context ID of the element\n",
    "        element_context = element['contextref']\n",
    "\n",
    "        results.append([\n",
    "            element_type,\n",
    "            element_name,\n",
    "            element_unit, \n",
    "            element_scale, \n",
    "            element_value, \n",
    "            element_context\n",
    "        ])\n",
    "        \n",
    "    return results\n",
    "\n",
    "def get_records_for_financial_elements(elements, element_type=None):\n",
    "    \"\"\"Financial record having the columns of get_financial_element_columns\"\"\"\n",
    "    # assert isinstance(elements, bs4.element.ResultSet) or isinstance(elements[0], bs4.element.Tag)\n",
    "    assert_bf4_tag(elements[0])\n",
    "    \n",
    "    results = []\n",
    "    for element in elements:\n",
    "        # Type of the elemen\n",
    "        if element_type is None and element.name in DEBIT_ITEMS: element_type = ELEMENT_TYPE_DEBIT\n",
    "        if element_type is None and element.name in CREDIT_ITEMS: element_type = ELEMENT_TYPE_CREDIT\n",
    "        if element_type is None and element.name in CALC_ITEMS: element_type = ELEMENT_TYPE_CALC\n",
    "        if element_type is None and element.name in METRIC_ITEMS: element_type = ELEMENT_TYPE_METRIC\n",
    "        if element_type is None and element.name in FACT_ITEMS: element_type = ELEMENT_TYPE_FACT\n",
    "        \n",
    "        # Name of the financial element\n",
    "        element_name = element.name\n",
    "        \n",
    "        # Unit of the financial element\n",
    "        element_unit = element['unitref']\n",
    "        \n",
    "        # Scale of the element\n",
    "        element_scale = int(element['decimals']) if element['decimals'].lower() != 'inf' else np.inf\n",
    "            \n",
    "        # Value of the element\n",
    "        element_value = float(element.text)\n",
    "\n",
    "        # Context ID of the element\n",
    "        element_context = element['contextref']\n",
    "        \n",
    "        results.append([\n",
    "            element_type,\n",
    "            element_name,\n",
    "            element_unit, \n",
    "            element_scale, \n",
    "            element_value, \n",
    "            element_context\n",
    "        ])\n",
    "        \n",
    "    return results"
   ]
  },
  {
   "cell_type": "code",
   "execution_count": 32,
   "id": "cb22da25",
   "metadata": {},
   "outputs": [],
   "source": [
    "def get_records_for_financial_element_names(soup, names: List[str], element_type=None):\n",
    "    \"\"\"Get finacial records that matches the financial element names\n",
    "    \"\"\"\n",
    "    elements = find_financial_elements(soup=soup, element_names=names)\n",
    "    if len(elements) > 0:\n",
    "        display_elements(elements)\n",
    "        return get_records_for_financial_elements(elements, element_type)\n",
    "    else:\n",
    "        return get_record_for_nil_elements(elements)"
   ]
  },
  {
   "cell_type": "code",
   "execution_count": 33,
   "id": "beab581a",
   "metadata": {},
   "outputs": [],
   "source": [
    "def get_values_for_financial_element_names(soup, names: List[str]):\n",
    "    elements = find_financial_elements(soup=soup, element_names=names)\n",
    "    if len(elements) > 0:\n",
    "        display_elements(elements)\n",
    "        return get_financial_element_numeric_values(elements)\n",
    "    else:\n",
    "        return []"
   ]
  },
  {
   "cell_type": "markdown",
   "id": "c29a5ca6",
   "metadata": {},
   "source": [
    "---\n",
    "# Shares Outstanding"
   ]
  },
  {
   "cell_type": "code",
   "execution_count": 34,
   "id": "97ad7ff1",
   "metadata": {},
   "outputs": [],
   "source": [
    "def get_shared_outstanding(soup):\n",
    "    names = re.compile(\"|\".join([\n",
    "        rf\"{NAMESPACE}:SharesOutstanding\",\n",
    "        rf\"{NAMESPACE}:CommonStockSharesOutstanding\",\n",
    "        rf\"{NAMESPACE}:CommonStockOtherSharesOutstanding\",\n",
    "    ]).lower())\n",
    "\n",
    "    return get_records_for_financial_element_names(soup=soup, names=names)"
   ]
  },
  {
   "cell_type": "code",
   "execution_count": 35,
   "id": "ffb12180",
   "metadata": {},
   "outputs": [
    {
     "name": "stdout",
     "output_type": "stream",
     "text": [
      "us-gaap:commonstocksharesoutstanding                                             shares -3    244190000      \n"
     ]
    },
    {
     "data": {
      "text/plain": [
       "[['fact',\n",
       "  'us-gaap:commonstocksharesoutstanding',\n",
       "  'shares',\n",
       "  -3,\n",
       "  244190000.0,\n",
       "  'i00aae6ee0447424d9c01fc5f8f3bd82d_I20210930']]"
      ]
     },
     "execution_count": 35,
     "metadata": {},
     "output_type": "execute_result"
    }
   ],
   "source": [
    "shares_outstandings = get_shared_outstanding(soup)\n",
    "shares_outstandings"
   ]
  },
  {
   "cell_type": "code",
   "execution_count": 36,
   "id": "f1a74ee5",
   "metadata": {},
   "outputs": [
    {
     "data": {
      "text/html": [
       "<div>\n",
       "<style scoped>\n",
       "    .dataframe tbody tr th:only-of-type {\n",
       "        vertical-align: middle;\n",
       "    }\n",
       "\n",
       "    .dataframe tbody tr th {\n",
       "        vertical-align: top;\n",
       "    }\n",
       "\n",
       "    .dataframe thead th {\n",
       "        text-align: right;\n",
       "    }\n",
       "</style>\n",
       "<table border=\"1\" class=\"dataframe\">\n",
       "  <thead>\n",
       "    <tr style=\"text-align: center;\">\n",
       "      <th></th>\n",
       "      <th>0</th>\n",
       "      <th>1</th>\n",
       "      <th>2</th>\n",
       "      <th>3</th>\n",
       "      <th>4</th>\n",
       "      <th>5</th>\n",
       "    </tr>\n",
       "  </thead>\n",
       "  <tbody>\n",
       "    <tr>\n",
       "      <th>0</th>\n",
       "      <td>fact</td>\n",
       "      <td>us-gaap:commonstocksharesoutstanding</td>\n",
       "      <td>shares</td>\n",
       "      <td>-3</td>\n",
       "      <td>244190000</td>\n",
       "      <td>i00aae6ee0447424d9c01fc5f8f3bd82d_I20210930</td>\n",
       "    </tr>\n",
       "  </tbody>\n",
       "</table>\n",
       "</div>"
      ],
      "text/plain": [
       "    0                     1                      2     3      4     \\\n",
       "0  fact  us-gaap:commonstocksharesoutstanding  shares -3 244190000   \n",
       "\n",
       "                       5                        \n",
       "0  i00aae6ee0447424d9c01fc5f8f3bd82d_I20210930  "
      ]
     },
     "execution_count": 36,
     "metadata": {},
     "output_type": "execute_result"
    }
   ],
   "source": [
    "df_ShareOutstanding = pd.DataFrame(shares_outstandings)\n",
    "df_ShareOutstanding"
   ]
  },
  {
   "cell_type": "markdown",
   "id": "e6738a3c",
   "metadata": {},
   "source": [
    "---\n",
    "# Statements of Income (P/L)"
   ]
  },
  {
   "cell_type": "code",
   "execution_count": 37,
   "id": "c913bb81",
   "metadata": {},
   "outputs": [],
   "source": [
    "PL = []"
   ]
  },
  {
   "cell_type": "markdown",
   "id": "de666426",
   "metadata": {},
   "source": [
    "## Revenues"
   ]
  },
  {
   "cell_type": "code",
   "execution_count": 38,
   "id": "15b28a06",
   "metadata": {},
   "outputs": [],
   "source": [
    "def get_revenues(soup):\n",
    "    names = rf\"{NAMESPACE}:Revenues\".lower()\n",
    "    names = re.compile(\"|\".join([\n",
    "        rf\"^{NAMESPACE}:Revenues$\",\n",
    "        rf\"^{NAMESPACE}:RevenueFromContractWithCustomerExcludingAssessedTax$\",\n",
    "        rf\"^{NAMESPACE}:DeferredRevenue$\",\n",
    "        rf\"^{NAMESPACE}:RealEstateRevenueNet$\",\n",
    "        rf\"^{NAMESPACE}:SalesOfRealEstate$\",\n",
    "        rf\"^{NAMESPACE}:AdvertisingRevenue$\",\n",
    "        rf\"^{NAMESPACE}:ElectricalGenerationRevenue$\",\n",
    "        rf\"^{NAMESPACE}:ContractsRevenue$\",\n",
    "        rf\"^{NAMESPACE}:RevenueMineralSales$\",\n",
    "        rf\"^{NAMESPACE}:DeferredRevenueCurrent$\",\n",
    "        rf\"^{NAMESPACE}:HealthCareOrganizationRevenue$\",\n",
    "        rf\"^{NAMESPACE}:SalesRevenueGoodsGross$\",\n",
    "        rf\"^{NAMESPACE}:AdmissionsRevenue$\",\n",
    "        rf\"^{NAMESPACE}:InsuranceServicesRevenue$\",\n",
    "        rf\"^{NAMESPACE}:BrokerageCommissionsRevenue$\",\n",
    "        rf\"^{NAMESPACE}:RegulatedAndUnregulatedOperatingRevenue$\"\n",
    "        rf\"^{NAMESPACE}:OtherAlternativeEnergySalesRevenue$\",\n",
    "    ]).lower())    \n",
    "    \n",
    "    return get_records_for_financial_element_names(soup=soup, names=names)\n",
    "    "
   ]
  },
  {
   "cell_type": "code",
   "execution_count": 39,
   "id": "9a0a574e",
   "metadata": {},
   "outputs": [
    {
     "name": "stdout",
     "output_type": "stream",
     "text": [
      "us-gaap:revenues                                                                 usd   -3    1681000000     \n",
      "us-gaap:revenuefromcontractwithcustomerexcludingassessedtax                      usd   -3    1235753000     \n"
     ]
    }
   ],
   "source": [
    "PL += get_revenues(soup)"
   ]
  },
  {
   "cell_type": "markdown",
   "id": "68b80f19",
   "metadata": {},
   "source": [
    "## Cost of Revenues"
   ]
  },
  {
   "cell_type": "code",
   "execution_count": 40,
   "id": "53c8724f",
   "metadata": {},
   "outputs": [],
   "source": [
    "def get_cost_of_revenues(soup):\n",
    "    names = re.compile(\"|\".join([\n",
    "        rf\"^{NAMESPACE}:CostOfRevenue$\",\n",
    "        rf\"^{NAMESPACE}:CostOfGoods$\",\n",
    "        rf\"^{NAMESPACE}:CostOfGoodsAndServicesSold$\",\n",
    "        rf\"^{NAMESPACE}:ContractRevenueCost$\",\n",
    "        rf\"^{NAMESPACE}:CostOfServicesLicensesAndServices$\"\n",
    "        rf\"^{NAMESPACE}:LicenseCosts$\"\n",
    "    ]).lower())\n",
    "    return get_records_for_financial_element_names(soup=soup, names=names)"
   ]
  },
  {
   "cell_type": "code",
   "execution_count": 41,
   "id": "b651b074",
   "metadata": {},
   "outputs": [
    {
     "name": "stdout",
     "output_type": "stream",
     "text": [
      "us-gaap:costofgoodsandservicessold                                               usd   -3    1356168000     \n"
     ]
    }
   ],
   "source": [
    "PL += get_cost_of_revenues(soup)"
   ]
  },
  {
   "cell_type": "markdown",
   "id": "e79680c1",
   "metadata": {},
   "source": [
    "## ***___# Gross Profit___***"
   ]
  },
  {
   "cell_type": "code",
   "execution_count": 42,
   "id": "cb67b3c5",
   "metadata": {},
   "outputs": [],
   "source": [
    "def get_gross_profit(soup):\n",
    "    names = f\"{NAMESPACE}:GrossProfit\".lower()\n",
    "    return get_records_for_financial_element_names(soup=soup, names=names)"
   ]
  },
  {
   "cell_type": "code",
   "execution_count": 43,
   "id": "287cc54d",
   "metadata": {},
   "outputs": [
    {
     "name": "stdout",
     "output_type": "stream",
     "text": [
      "us-gaap:grossprofit                                                              usd   -3    324832000      \n"
     ]
    }
   ],
   "source": [
    "PL += get_gross_profit(soup)"
   ]
  },
  {
   "cell_type": "markdown",
   "id": "7f82df6e",
   "metadata": {},
   "source": [
    "## Operating Expenses"
   ]
  },
  {
   "cell_type": "markdown",
   "id": "78301f82",
   "metadata": {},
   "source": [
    "### Research and Development"
   ]
  },
  {
   "cell_type": "code",
   "execution_count": 44,
   "id": "93fd493a",
   "metadata": {},
   "outputs": [
    {
     "name": "stdout",
     "output_type": "stream",
     "text": [
      "us-gaap:researchanddevelopmentexpense                                            usd   -3    40790000       \n"
     ]
    }
   ],
   "source": [
    "names = f\"{NAMESPACE}:ResearchAndDevelopmentExpense\".lower()\n",
    "PL += get_records_for_financial_element_names(soup, names)"
   ]
  },
  {
   "cell_type": "markdown",
   "id": "bd403d66",
   "metadata": {},
   "source": [
    "### Administrative Expense"
   ]
  },
  {
   "cell_type": "code",
   "execution_count": 45,
   "id": "b06a7994",
   "metadata": {},
   "outputs": [
    {
     "name": "stdout",
     "output_type": "stream",
     "text": [
      "us-gaap:sellinggeneralandadministrativeexpense                                   usd   -3    72581000       \n"
     ]
    }
   ],
   "source": [
    "names = f\"{NAMESPACE}:SellingGeneralAndAdministrativeExpense\"\n",
    "PL += get_records_for_financial_element_names(soup, names)"
   ]
  },
  {
   "cell_type": "markdown",
   "id": "632045df",
   "metadata": {},
   "source": [
    "### Other operating expenses"
   ]
  },
  {
   "cell_type": "code",
   "execution_count": 46,
   "id": "ce70657d",
   "metadata": {},
   "outputs": [],
   "source": [
    "names = f\"{NAMESPACE}:OtherCostAndExpenseOperating\"\n",
    "PL += get_records_for_financial_element_names(soup=soup, names=names)"
   ]
  },
  {
   "cell_type": "markdown",
   "id": "6c08132d",
   "metadata": {},
   "source": [
    "## ***___# Total Operating Expenses___***"
   ]
  },
  {
   "cell_type": "code",
   "execution_count": 47,
   "id": "22c037f8",
   "metadata": {},
   "outputs": [
    {
     "name": "stdout",
     "output_type": "stream",
     "text": [
      "us-gaap:operatingexpenses                                                        usd   -3    113371000      \n"
     ]
    }
   ],
   "source": [
    "names = f\"{NAMESPACE}:OperatingExpenses\".lower()\n",
    "PL += get_records_for_financial_element_names(soup=soup, names=names)"
   ]
  },
  {
   "cell_type": "markdown",
   "id": "7b1d5127",
   "metadata": {},
   "source": [
    "## ***___# Operating Income___***\n",
    "\n",
    "$GrossProfit - Total Operating Expenses$"
   ]
  },
  {
   "cell_type": "code",
   "execution_count": 48,
   "id": "150be2c5",
   "metadata": {},
   "outputs": [],
   "source": [
    "def get_operating_income(soup):\n",
    "    names = f\"{NAMESPACE}:OperatingIncomeLoss\".lower()\n",
    "    return get_records_for_financial_element_names(soup=soup, names=names)"
   ]
  },
  {
   "cell_type": "code",
   "execution_count": 49,
   "id": "1548742d",
   "metadata": {},
   "outputs": [
    {
     "name": "stdout",
     "output_type": "stream",
     "text": [
      "us-gaap:operatingincomeloss                                                      usd   -3    211461000      \n"
     ]
    }
   ],
   "source": [
    "PL += get_operating_income(soup)"
   ]
  },
  {
   "cell_type": "markdown",
   "id": "4294aaaf",
   "metadata": {},
   "source": [
    "## Other Expenses"
   ]
  },
  {
   "cell_type": "markdown",
   "id": "c401d88e",
   "metadata": {},
   "source": [
    "### Interest Expense\n",
    "\n",
    "* [Investopedia - What Is an Interest Expense?](https://www.investopedia.com/terms/i/interestexpense.asp)\n",
    "\n",
    "> An interest expense is the cost incurred by an entity for borrowed funds. Interest expense is a non-operating expense shown on the income statement. It represents interest payable on any borrowings – bonds, loans, convertible debt or lines of credit. It is essentially calculated as the interest rate times the outstanding principal amount of the debt. Interest expense on the income statement represents ***interest accrued during the period*** covered by the financial statements, and **NOT the amount of interest paid over that period**. While interest expense is tax-deductible for companies, in an individual's case, it depends on his or her jurisdiction and also on the loan's purpose.  \n",
    ">\n",
    "> For most people, mortgage interest is the single-biggest category of interest expense over their lifetimes as interest can total tens of thousands of dollars over the life of a mortgage as illustrated by online calculators."
   ]
  },
  {
   "cell_type": "code",
   "execution_count": 50,
   "id": "d3104631",
   "metadata": {},
   "outputs": [
    {
     "name": "stdout",
     "output_type": "stream",
     "text": [
      "us-gaap:interestexpense                                                          usd   -3    12896000       \n"
     ]
    }
   ],
   "source": [
    "names = re.compile(\"|\".join([\n",
    "    rf\"^{NAMESPACE}:InterestExpense$\",\n",
    "]).lower())\n",
    "PL += get_records_for_financial_element_names(soup=soup, names=names)"
   ]
  },
  {
   "cell_type": "markdown",
   "id": "23c27dc8",
   "metadata": {},
   "source": [
    "### Non-operating Expenses"
   ]
  },
  {
   "cell_type": "code",
   "execution_count": 51,
   "id": "92e0fe78",
   "metadata": {},
   "outputs": [
    {
     "name": "stdout",
     "output_type": "stream",
     "text": [
      "us-gaap:othernonoperatingincomeexpense                                           usd   -3    501000         \n"
     ]
    }
   ],
   "source": [
    "names = re.compile(\"|\".join([\n",
    "    rf\"^{NAMESPACE}:OtherNonoperatingIncomeExpense$\",\n",
    "]).lower())\n",
    "PL += get_records_for_financial_element_names(soup=soup, names=names)"
   ]
  },
  {
   "cell_type": "markdown",
   "id": "e310a4b6",
   "metadata": {},
   "source": [
    "## Income Tax"
   ]
  },
  {
   "cell_type": "code",
   "execution_count": 52,
   "id": "776dea0b",
   "metadata": {},
   "outputs": [
    {
     "name": "stdout",
     "output_type": "stream",
     "text": [
      "us-gaap:incometaxexpensebenefit                                                  usd   -3    17219000       \n"
     ]
    }
   ],
   "source": [
    "names = f\"{NAMESPACE}:IncomeTaxExpenseBenefit\"\n",
    "PL += get_records_for_financial_element_names(soup=soup, names=names)"
   ]
  },
  {
   "cell_type": "markdown",
   "id": "809ca1c3",
   "metadata": {},
   "source": [
    "## ***___# Net Income___***\n",
    "\n",
    "$GrossProfit - (Operating Expenses + NonOperating Expense) - Tax$"
   ]
  },
  {
   "cell_type": "code",
   "execution_count": 53,
   "id": "69c8bb38",
   "metadata": {},
   "outputs": [],
   "source": [
    "def get_net_income(soup):\n",
    "    names = re.compile(\"|\".join([\n",
    "        rf\"^{NAMESPACE}:NetIncomeLoss$\",\n",
    "        rf\"^{NAMESPACE}:ProfitLoss$\",\n",
    "    ]).lower())\n",
    "    return get_records_for_financial_element_names(soup=soup, names=names)"
   ]
  },
  {
   "cell_type": "code",
   "execution_count": 54,
   "id": "dba87e2e",
   "metadata": {},
   "outputs": [
    {
     "name": "stdout",
     "output_type": "stream",
     "text": [
      "us-gaap:profitloss                                                               usd   -3    181847000      \n",
      "us-gaap:netincomeloss                                                            usd   -3    180854000      \n"
     ]
    }
   ],
   "source": [
    "PL += get_net_income(soup)"
   ]
  },
  {
   "cell_type": "markdown",
   "id": "bdbe2afc",
   "metadata": {},
   "source": [
    "## ***___# Shares Outstandings___***"
   ]
  },
  {
   "cell_type": "code",
   "execution_count": 55,
   "id": "c163acaa",
   "metadata": {},
   "outputs": [],
   "source": [
    "PL += shares_outstandings"
   ]
  },
  {
   "cell_type": "markdown",
   "id": "5deadd83",
   "metadata": {},
   "source": [
    "## ***___# Net Income Per Share___***\n",
    "\n",
    "* [US GAAP - Is Net Income Per Share the same with EPS?](https://money.stackexchange.com/questions/148015/us-gaap-is-net-income-per-share-the-same-with-eps)"
   ]
  },
  {
   "cell_type": "code",
   "execution_count": 56,
   "id": "3d87f834",
   "metadata": {},
   "outputs": [],
   "source": [
    "def get_eps(soup):\n",
    "    return get_records_for_financial_element_names(\n",
    "        soup=soup, names=f\"{NAMESPACE}:EarningsPerShareBasic\".lower()\n",
    "    ) + \\\n",
    "    get_records_for_financial_element_names(\n",
    "        soup=soup, names=f\"{NAMESPACE}:EarningsPerShareBasicAndDiluted\".lower()\n",
    "    )"
   ]
  },
  {
   "cell_type": "code",
   "execution_count": 57,
   "id": "357eb478",
   "metadata": {},
   "outputs": [
    {
     "name": "stdout",
     "output_type": "stream",
     "text": [
      "us-gaap:earningspersharebasic                                                    usdPerShare 2     0.74           \n"
     ]
    }
   ],
   "source": [
    "PL += get_eps(soup)"
   ]
  },
  {
   "cell_type": "markdown",
   "id": "74b3f108",
   "metadata": {},
   "source": [
    "## Display P/L\n",
    "\n",
    "Is ```us-gaap:othernonoperatingincomeexpense``` credit or debit? As the value is **negative** and so is in the Income Statement, is shoudl be credit -> To be confirmed. "
   ]
  },
  {
   "cell_type": "code",
   "execution_count": 58,
   "id": "3a817577",
   "metadata": {},
   "outputs": [
    {
     "data": {
      "text/html": [
       "<div>\n",
       "<style scoped>\n",
       "    .dataframe tbody tr th:only-of-type {\n",
       "        vertical-align: middle;\n",
       "    }\n",
       "\n",
       "    .dataframe tbody tr th {\n",
       "        vertical-align: top;\n",
       "    }\n",
       "\n",
       "    .dataframe thead th {\n",
       "        text-align: right;\n",
       "    }\n",
       "</style>\n",
       "<table border=\"1\" class=\"dataframe\">\n",
       "  <thead>\n",
       "    <tr style=\"text-align: center;\">\n",
       "      <th></th>\n",
       "      <th>type</th>\n",
       "      <th>name</th>\n",
       "      <th>unit</th>\n",
       "      <th>decimals</th>\n",
       "      <th>value</th>\n",
       "      <th>context</th>\n",
       "    </tr>\n",
       "  </thead>\n",
       "  <tbody>\n",
       "    <tr>\n",
       "      <th>0</th>\n",
       "      <td>credit</td>\n",
       "      <td>us-gaap:revenues</td>\n",
       "      <td>usd</td>\n",
       "      <td>-3</td>\n",
       "      <td>1681000000</td>\n",
       "      <td>icb4fe7b89cc949678c0215fb0c6c75ed_D20210701-20...</td>\n",
       "    </tr>\n",
       "    <tr>\n",
       "      <th>1</th>\n",
       "      <td>credit</td>\n",
       "      <td>us-gaap:revenuefromcontractwithcustomerexcludi...</td>\n",
       "      <td>usd</td>\n",
       "      <td>-3</td>\n",
       "      <td>1235753000</td>\n",
       "      <td>i6546f5d3fe1e4db2af98357deb902bcd_D20210701-20...</td>\n",
       "    </tr>\n",
       "    <tr>\n",
       "      <th>2</th>\n",
       "      <td>debit</td>\n",
       "      <td>us-gaap:costofgoodsandservicessold</td>\n",
       "      <td>usd</td>\n",
       "      <td>-3</td>\n",
       "      <td>1356168000</td>\n",
       "      <td>icb4fe7b89cc949678c0215fb0c6c75ed_D20210701-20...</td>\n",
       "    </tr>\n",
       "    <tr>\n",
       "      <th>3</th>\n",
       "      <td>calc</td>\n",
       "      <td>us-gaap:grossprofit</td>\n",
       "      <td>usd</td>\n",
       "      <td>-3</td>\n",
       "      <td>324832000</td>\n",
       "      <td>icb4fe7b89cc949678c0215fb0c6c75ed_D20210701-20...</td>\n",
       "    </tr>\n",
       "    <tr>\n",
       "      <th>4</th>\n",
       "      <td>debit</td>\n",
       "      <td>us-gaap:researchanddevelopmentexpense</td>\n",
       "      <td>usd</td>\n",
       "      <td>-3</td>\n",
       "      <td>40790000</td>\n",
       "      <td>icb4fe7b89cc949678c0215fb0c6c75ed_D20210701-20...</td>\n",
       "    </tr>\n",
       "    <tr>\n",
       "      <th>5</th>\n",
       "      <td>debit</td>\n",
       "      <td>us-gaap:sellinggeneralandadministrativeexpense</td>\n",
       "      <td>usd</td>\n",
       "      <td>-3</td>\n",
       "      <td>72581000</td>\n",
       "      <td>icb4fe7b89cc949678c0215fb0c6c75ed_D20210701-20...</td>\n",
       "    </tr>\n",
       "    <tr>\n",
       "      <th>6</th>\n",
       "      <td>calc</td>\n",
       "      <td>us-gaap:operatingexpenses</td>\n",
       "      <td>usd</td>\n",
       "      <td>-3</td>\n",
       "      <td>113371000</td>\n",
       "      <td>icb4fe7b89cc949678c0215fb0c6c75ed_D20210701-20...</td>\n",
       "    </tr>\n",
       "    <tr>\n",
       "      <th>7</th>\n",
       "      <td>calc</td>\n",
       "      <td>us-gaap:operatingincomeloss</td>\n",
       "      <td>usd</td>\n",
       "      <td>-3</td>\n",
       "      <td>211461000</td>\n",
       "      <td>icb4fe7b89cc949678c0215fb0c6c75ed_D20210701-20...</td>\n",
       "    </tr>\n",
       "    <tr>\n",
       "      <th>8</th>\n",
       "      <td>debit</td>\n",
       "      <td>us-gaap:interestexpense</td>\n",
       "      <td>usd</td>\n",
       "      <td>-3</td>\n",
       "      <td>12896000</td>\n",
       "      <td>icb4fe7b89cc949678c0215fb0c6c75ed_D20210701-20...</td>\n",
       "    </tr>\n",
       "    <tr>\n",
       "      <th>9</th>\n",
       "      <td>credit</td>\n",
       "      <td>us-gaap:othernonoperatingincomeexpense</td>\n",
       "      <td>usd</td>\n",
       "      <td>-3</td>\n",
       "      <td>501000</td>\n",
       "      <td>icb4fe7b89cc949678c0215fb0c6c75ed_D20210701-20...</td>\n",
       "    </tr>\n",
       "    <tr>\n",
       "      <th>10</th>\n",
       "      <td>debit</td>\n",
       "      <td>us-gaap:incometaxexpensebenefit</td>\n",
       "      <td>usd</td>\n",
       "      <td>-3</td>\n",
       "      <td>17219000</td>\n",
       "      <td>icb4fe7b89cc949678c0215fb0c6c75ed_D20210701-20...</td>\n",
       "    </tr>\n",
       "    <tr>\n",
       "      <th>11</th>\n",
       "      <td>calc</td>\n",
       "      <td>us-gaap:profitloss</td>\n",
       "      <td>usd</td>\n",
       "      <td>-3</td>\n",
       "      <td>181847000</td>\n",
       "      <td>icb4fe7b89cc949678c0215fb0c6c75ed_D20210701-20...</td>\n",
       "    </tr>\n",
       "    <tr>\n",
       "      <th>12</th>\n",
       "      <td>calc</td>\n",
       "      <td>us-gaap:netincomeloss</td>\n",
       "      <td>usd</td>\n",
       "      <td>-3</td>\n",
       "      <td>180854000</td>\n",
       "      <td>icb4fe7b89cc949678c0215fb0c6c75ed_D20210701-20...</td>\n",
       "    </tr>\n",
       "    <tr>\n",
       "      <th>13</th>\n",
       "      <td>fact</td>\n",
       "      <td>us-gaap:commonstocksharesoutstanding</td>\n",
       "      <td>shares</td>\n",
       "      <td>-3</td>\n",
       "      <td>244190000</td>\n",
       "      <td>i00aae6ee0447424d9c01fc5f8f3bd82d_I20210930</td>\n",
       "    </tr>\n",
       "    <tr>\n",
       "      <th>14</th>\n",
       "      <td>metric</td>\n",
       "      <td>us-gaap:earningspersharebasic</td>\n",
       "      <td>usdPerShare</td>\n",
       "      <td>2</td>\n",
       "      <td>0.74</td>\n",
       "      <td>icb4fe7b89cc949678c0215fb0c6c75ed_D20210701-20...</td>\n",
       "    </tr>\n",
       "  </tbody>\n",
       "</table>\n",
       "</div>"
      ],
      "text/plain": [
       "     type                         name                            unit      \\\n",
       "0   credit                                   us-gaap:revenues          usd   \n",
       "1   credit  us-gaap:revenuefromcontractwithcustomerexcludi...          usd   \n",
       "2    debit                 us-gaap:costofgoodsandservicessold          usd   \n",
       "3     calc                                us-gaap:grossprofit          usd   \n",
       "4    debit              us-gaap:researchanddevelopmentexpense          usd   \n",
       "5    debit     us-gaap:sellinggeneralandadministrativeexpense          usd   \n",
       "6     calc                          us-gaap:operatingexpenses          usd   \n",
       "7     calc                        us-gaap:operatingincomeloss          usd   \n",
       "8    debit                            us-gaap:interestexpense          usd   \n",
       "9   credit             us-gaap:othernonoperatingincomeexpense          usd   \n",
       "10   debit                    us-gaap:incometaxexpensebenefit          usd   \n",
       "11    calc                                 us-gaap:profitloss          usd   \n",
       "12    calc                              us-gaap:netincomeloss          usd   \n",
       "13    fact               us-gaap:commonstocksharesoutstanding       shares   \n",
       "14  metric                      us-gaap:earningspersharebasic  usdPerShare   \n",
       "\n",
       "    decimals    value                        context                        \n",
       "0      -3    1681000000  icb4fe7b89cc949678c0215fb0c6c75ed_D20210701-20...  \n",
       "1      -3    1235753000  i6546f5d3fe1e4db2af98357deb902bcd_D20210701-20...  \n",
       "2      -3    1356168000  icb4fe7b89cc949678c0215fb0c6c75ed_D20210701-20...  \n",
       "3      -3     324832000  icb4fe7b89cc949678c0215fb0c6c75ed_D20210701-20...  \n",
       "4      -3      40790000  icb4fe7b89cc949678c0215fb0c6c75ed_D20210701-20...  \n",
       "5      -3      72581000  icb4fe7b89cc949678c0215fb0c6c75ed_D20210701-20...  \n",
       "6      -3     113371000  icb4fe7b89cc949678c0215fb0c6c75ed_D20210701-20...  \n",
       "7      -3     211461000  icb4fe7b89cc949678c0215fb0c6c75ed_D20210701-20...  \n",
       "8      -3      12896000  icb4fe7b89cc949678c0215fb0c6c75ed_D20210701-20...  \n",
       "9      -3        501000  icb4fe7b89cc949678c0215fb0c6c75ed_D20210701-20...  \n",
       "10     -3      17219000  icb4fe7b89cc949678c0215fb0c6c75ed_D20210701-20...  \n",
       "11     -3     181847000  icb4fe7b89cc949678c0215fb0c6c75ed_D20210701-20...  \n",
       "12     -3     180854000  icb4fe7b89cc949678c0215fb0c6c75ed_D20210701-20...  \n",
       "13     -3     244190000        i00aae6ee0447424d9c01fc5f8f3bd82d_I20210930  \n",
       "14      2          0.74  icb4fe7b89cc949678c0215fb0c6c75ed_D20210701-20...  "
      ]
     },
     "execution_count": 58,
     "metadata": {},
     "output_type": "execute_result"
    }
   ],
   "source": [
    "df_PL = pd.DataFrame(PL, columns=get_financial_element_columns())\n",
    "df_PL"
   ]
  },
  {
   "cell_type": "code",
   "execution_count": 59,
   "id": "c88d724d",
   "metadata": {},
   "outputs": [
    {
     "data": {
      "text/plain": [
       "2917254000.0"
      ]
     },
     "execution_count": 59,
     "metadata": {},
     "output_type": "execute_result"
    }
   ],
   "source": [
    "credits = df_PL[df_PL['type'] == 'credit']['value'].sum()\n",
    "credits"
   ]
  },
  {
   "cell_type": "code",
   "execution_count": 60,
   "id": "e5e6bdfb",
   "metadata": {},
   "outputs": [
    {
     "data": {
      "text/plain": [
       "1499654000.0"
      ]
     },
     "execution_count": 60,
     "metadata": {},
     "output_type": "execute_result"
    }
   ],
   "source": [
    "debits = df_PL[df_PL['type'] == 'debit']['value'].sum()\n",
    "debits"
   ]
  },
  {
   "cell_type": "code",
   "execution_count": 61,
   "id": "1effbc91",
   "metadata": {},
   "outputs": [
    {
     "data": {
      "text/plain": [
       "1417600000.0"
      ]
     },
     "execution_count": 61,
     "metadata": {},
     "output_type": "execute_result"
    }
   ],
   "source": [
    "credits - debits  # Equal to the Net Income"
   ]
  },
  {
   "cell_type": "code",
   "execution_count": 62,
   "id": "b5bb6182",
   "metadata": {},
   "outputs": [
    {
     "name": "stdout",
     "output_type": "stream",
     "text": [
      "0.74\n"
     ]
    }
   ],
   "source": [
    "# --------------------------------------------------------------------------------\n",
    "# Net Income or Profot/Loss\n",
    "# --------------------------------------------------------------------------------\n",
    "num_rows_net_income = len(df_PL[df_PL['name'] == 'us-gaap:netincomeloss'])\n",
    "num_rows_profit_loss = len(df_PL[df_PL['name'] == 'us-gaap:profitloss'])\n",
    "\n",
    "assert num_rows_net_income <= 1, f\"More than one Net Income rows {df}\"\n",
    "assert num_rows_profit_loss <= 1, f\"More than one Profit/Loss rows {df}\"\n",
    "\n",
    "if num_rows_net_income:\n",
    "    income = df_PL[df_PL['name'] == 'us-gaap:netincomeloss']['value'].values\n",
    "elif num_rows_profit_loss:\n",
    "    income = df_PL[df_PL['name'] == 'us-gaap:profitloss']['value'].values  \n",
    "else:\n",
    "    assert False, f\"No Income row found {df}\"\n",
    "\n",
    "# --------------------------------------------------------------------------------\n",
    "# ShardOutstanding or CommonStockSharesOutstanding\n",
    "# --------------------------------------------------------------------------------\n",
    "num_rows_shares = len(df_PL[df_PL['name'] == 'us-gaap:sharesoutstanding'])\n",
    "num_rows_common_shares = len(df_PL[df_PL['name'] == 'us-gaap:commonstocksharesoutstanding'])\n",
    "\n",
    "assert num_rows_shares <= 1, f\"More than one ShareOutstanding rows {df}\"\n",
    "assert num_rows_common_shares <= 1, f\"More than one CommonStockShareOutstanding rows {df}\"\n",
    "\n",
    "if num_rows_shares:\n",
    "    num_shares = df_PL[df_PL['name'] == 'us-gaap:sharesoutstanding']['value'].values\n",
    "elif num_rows_profit_loss:\n",
    "    num_shares = df_PL[df_PL['name'] == 'us-gaap:commonstocksharesoutstanding']['value'].values  \n",
    "else:\n",
    "    assert False, f\"No Shares OutStanding row found {df}\"\n",
    "\n",
    "eps = np.divide(income, num_shares).item()\n",
    "scale = 2\n",
    "\n",
    "print(f\"{eps:.{scale}f}\")"
   ]
  },
  {
   "cell_type": "markdown",
   "id": "3b613d03",
   "metadata": {},
   "source": [
    "---\n",
    "# Balance Sheet (B/S)"
   ]
  },
  {
   "cell_type": "code",
   "execution_count": 63,
   "id": "8854bc31",
   "metadata": {},
   "outputs": [],
   "source": [
    "BS = []"
   ]
  },
  {
   "cell_type": "markdown",
   "id": "bffb478e",
   "metadata": {},
   "source": [
    "## Cash & Cash Equivalents\n",
    "\n",
    "Look for the cash and cash equivalents for the reporting perid in the Balance Sheet and Cash Flow statements of the  10-K."
   ]
  },
  {
   "cell_type": "code",
   "execution_count": 64,
   "id": "a63587e2",
   "metadata": {},
   "outputs": [
    {
     "name": "stdout",
     "output_type": "stream",
     "text": [
      "us-gaap:cashandcashequivalentsatcarryingvalue                                    usd   -3    545592000      \n"
     ]
    }
   ],
   "source": [
    "names = re.compile(\"|\".join([\n",
    "    rf\"^{NAMESPACE}:CashAndCashEquivalentsAtCarryingValue$\",\n",
    "]).lower())\n",
    "BS += get_records_for_financial_element_names(soup=soup, names=names)"
   ]
  },
  {
   "cell_type": "markdown",
   "id": "54ccecb8",
   "metadata": {},
   "source": [
    "## Restricted Cash"
   ]
  },
  {
   "cell_type": "code",
   "execution_count": 65,
   "id": "99536d1c",
   "metadata": {},
   "outputs": [
    {
     "name": "stdout",
     "output_type": "stream",
     "text": [
      "us-gaap:restrictedcashandcashequivalentsatcarryingvalue                          usd   -3    929000         \n"
     ]
    }
   ],
   "source": [
    "names = re.compile(\"|\".join([\n",
    "    rf\"^{NAMESPACE}:RestrictedCashEquivalentsCurrent$\",\n",
    "    rf\"^{NAMESPACE}:RestrictedCashAndCashEquivalentsAtCarryingValue$\",\n",
    "]).lower())\n",
    "BS += get_records_for_financial_element_names(soup=soup, names=names)"
   ]
  },
  {
   "cell_type": "markdown",
   "id": "83c9c8a8",
   "metadata": {},
   "source": [
    "## Short Term Investments"
   ]
  },
  {
   "cell_type": "code",
   "execution_count": 66,
   "id": "44f054d5",
   "metadata": {},
   "outputs": [
    {
     "name": "stdout",
     "output_type": "stream",
     "text": [
      "us-gaap:shortterminvestments                                                     usd   -3    244470000      \n"
     ]
    }
   ],
   "source": [
    "names = re.compile(\"|\".join([\n",
    "    rf\"^{NAMESPACE}:ShortTermInvestments$\",\n",
    "]).lower())\n",
    "BS += get_records_for_financial_element_names(soup=soup, names=names)"
   ]
  },
  {
   "cell_type": "markdown",
   "id": "59bf1128",
   "metadata": {},
   "source": [
    "## Account Receivable"
   ]
  },
  {
   "cell_type": "code",
   "execution_count": 67,
   "id": "aee8d052",
   "metadata": {},
   "outputs": [
    {
     "name": "stdout",
     "output_type": "stream",
     "text": [
      "us-gaap:accountsreceivablenetcurrent                                             usd   -3    1289617000     \n"
     ]
    }
   ],
   "source": [
    "names = re.compile(\"|\".join([\n",
    "    rf\"^{NAMESPACE}:ReceivablesNetCurrent$\",\n",
    "    rf\"^{NAMESPACE}:AccountsReceivableNetCurrent$\",\n",
    "    rf\"^{NAMESPACE}:OtherReceivables$\",\n",
    "]).lower())\n",
    "BS += get_records_for_financial_element_names(soup=soup, names=names)"
   ]
  },
  {
   "cell_type": "markdown",
   "id": "a81a68ba",
   "metadata": {},
   "source": [
    "## ***___Inventory___***"
   ]
  },
  {
   "cell_type": "code",
   "execution_count": 68,
   "id": "46086c53",
   "metadata": {},
   "outputs": [
    {
     "name": "stdout",
     "output_type": "stream",
     "text": [
      "us-gaap:inventorynet                                                             usd   -3    445918000      \n"
     ]
    }
   ],
   "source": [
    "names = re.compile(\"|\".join([\n",
    "    rf\"^{NAMESPACE}:InventoryNet$\",\n",
    "]).lower())\n",
    "BS += get_records_for_financial_element_names(soup=soup, names=names)"
   ]
  },
  {
   "cell_type": "markdown",
   "id": "ba4dae45",
   "metadata": {},
   "source": [
    "## Prepaid Expense / Other Assets Current\n",
    "\n",
    "* [Understanding Prepaid Expenses](https://www.investopedia.com/terms/p/prepaidexpense.asp)\n",
    "\n",
    "> Companies make prepayments for goods or services such as leased office equipment or insurance coverage that provide continual benefits over time. Goods or services of this nature cannot be expensed immediately because the expense would not line up with the benefit incurred over time from using the asset.  \n",
    ">\n",
    "> According to generally accepted accounting principles (GAAP), expenses should be recorded in the same accounting period as the benefit generated from the related asset.\n",
    "\n",
    "* [us-gaap: PrepaidExpenseAndOtherAssetsCurrent](https://www.calcbench.com/element/PrepaidExpenseAndOtherAssetsCurrent)\n",
    "\n",
    "> Amount of asset related to consideration paid in advance for costs that provide economic benefits in future periods, and amount of other assets that are expected to be realized or consumed within one year or the normal operating cycle, if longer.\n",
    "\n",
    "* [Other Current Assets (OCA)](https://www.investopedia.com/terms/o/othercurrentassets.asp)\n",
    "\n",
    "> Other current assets (OCA) is a category of things of value that a company owns, benefits from, or uses to generate income that can be converted into cash within one business cycle. They are referred to as “other” because they are uncommon or insignificant, unlike typical current asset items such as cash, securities, accounts receivable, inventory, and prepaid expenses."
   ]
  },
  {
   "cell_type": "code",
   "execution_count": 69,
   "id": "3b89cf45",
   "metadata": {},
   "outputs": [
    {
     "name": "stdout",
     "output_type": "stream",
     "text": [
      "us-gaap:otherassetscurrent                                                       usd   -3    48598000       \n",
      "us-gaap:operatingleaserightofuseasset                                            usd   -3    146210000      \n"
     ]
    }
   ],
   "source": [
    "names = re.compile(\"|\".join([\n",
    "    rf\"^{NAMESPACE}:PrepaidExpenseCurrent$\",\n",
    "    rf\"^{NAMESPACE}:PrepaidExpenseAndOtherAssetsCurrent$\",\n",
    "    rf\"^{NAMESPACE}:OperatingLeaseRightOfUseAsset$\",\n",
    "    rf\"^{NAMESPACE}:OtherAssetsCurrent$\",\n",
    "]).lower())\n",
    "BS += get_records_for_financial_element_names(soup=soup, names=names)"
   ]
  },
  {
   "cell_type": "markdown",
   "id": "28bcd590",
   "metadata": {},
   "source": [
    "## ***___# Current Assets___***"
   ]
  },
  {
   "cell_type": "code",
   "execution_count": 70,
   "id": "31824421",
   "metadata": {},
   "outputs": [
    {
     "name": "stdout",
     "output_type": "stream",
     "text": [
      "us-gaap:assetscurrent                                                            usd   -3    2575124000     \n"
     ]
    }
   ],
   "source": [
    "names = re.compile(\"|\".join([\n",
    "    rf\"^{NAMESPACE}:AssetsCurrent$\",\n",
    "]).lower())\n",
    "BS += get_records_for_financial_element_names(soup=soup, names=names)"
   ]
  },
  {
   "cell_type": "markdown",
   "id": "ba3aa98a",
   "metadata": {},
   "source": [
    "## Property, Plant, Equipment"
   ]
  },
  {
   "cell_type": "code",
   "execution_count": 71,
   "id": "9eb443c8",
   "metadata": {},
   "outputs": [
    {
     "name": "stdout",
     "output_type": "stream",
     "text": [
      "us-gaap:propertyplantandequipmentnet                                             usd   -3    2901564000     \n"
     ]
    }
   ],
   "source": [
    "names = re.compile(\"|\".join([\n",
    "    rf\"^{NAMESPACE}:PropertyPlantAndEquipmentNet$\",\n",
    "]).lower())\n",
    "BS += get_records_for_financial_element_names(soup=soup, names=names)"
   ]
  },
  {
   "cell_type": "code",
   "execution_count": 72,
   "id": "2aac9c5d",
   "metadata": {},
   "outputs": [],
   "source": [
    "## Restricted Cash Non Current"
   ]
  },
  {
   "cell_type": "code",
   "execution_count": 73,
   "id": "bdc00193",
   "metadata": {},
   "outputs": [
    {
     "name": "stdout",
     "output_type": "stream",
     "text": [
      "us-gaap:restrictedcashandcashequivalentsnoncurrent                               usd   -3    3508000        \n"
     ]
    }
   ],
   "source": [
    "names = re.compile(\"|\".join([\n",
    "    rf\"^{NAMESPACE}:RestrictedCashAndCashEquivalentsNoncurrent$\",\n",
    "]).lower())\n",
    "BS += get_records_for_financial_element_names(soup=soup, names=names)"
   ]
  },
  {
   "cell_type": "markdown",
   "id": "88061ecf",
   "metadata": {},
   "source": [
    "## Deferred Tax"
   ]
  },
  {
   "cell_type": "code",
   "execution_count": 74,
   "id": "61c742d7",
   "metadata": {},
   "outputs": [],
   "source": [
    "names = re.compile(\"|\".join([\n",
    "    rf\"^{NAMESPACE}:DeferredIncomeTaxAssetsNet$\",\n",
    "]).lower())\n",
    "BS += get_records_for_financial_element_names(soup=soup, names=names)"
   ]
  },
  {
   "cell_type": "markdown",
   "id": "f44507a1",
   "metadata": {},
   "source": [
    "## ***___GoodWill___***"
   ]
  },
  {
   "cell_type": "code",
   "execution_count": 75,
   "id": "447b5120",
   "metadata": {},
   "outputs": [
    {
     "name": "stdout",
     "output_type": "stream",
     "text": [
      "us-gaap:goodwill                                                                 usd   -3    25351000       \n"
     ]
    }
   ],
   "source": [
    "names = re.compile(\"|\".join([\n",
    "    rf\"^{NAMESPACE}:GoodWill$\",\n",
    "]).lower())\n",
    "BS += get_records_for_financial_element_names(soup=soup, names=names)"
   ]
  },
  {
   "cell_type": "markdown",
   "id": "95842ae3",
   "metadata": {},
   "source": [
    "## Intangible and Other Assets"
   ]
  },
  {
   "cell_type": "code",
   "execution_count": 76,
   "id": "a71a5558",
   "metadata": {},
   "outputs": [
    {
     "name": "stdout",
     "output_type": "stream",
     "text": [
      "us-gaap:otherassetsnoncurrent                                                    usd   -3    118691000      \n"
     ]
    }
   ],
   "source": [
    "names = re.compile(\"|\".join([\n",
    "    rf\"^{NAMESPACE}:IntangibleAssetsNetExcludingGoodwill$\",\n",
    "    rf\"^{NAMESPACE}:OtherAssetsNoncurrent$\",\n",
    "]).lower())\n",
    "BS += get_records_for_financial_element_names(soup=soup, names=names)"
   ]
  },
  {
   "cell_type": "markdown",
   "id": "33330ce4",
   "metadata": {},
   "source": [
    "## ***___# Total Assets___***"
   ]
  },
  {
   "cell_type": "code",
   "execution_count": 77,
   "id": "d98b25b8",
   "metadata": {},
   "outputs": [
    {
     "name": "stdout",
     "output_type": "stream",
     "text": [
      "us-gaap:assets                                                                   usd   -3    5770448000     \n"
     ]
    }
   ],
   "source": [
    "names = re.compile(\"|\".join([\n",
    "    rf\"^{NAMESPACE}:Assets$\",\n",
    "]).lower())\n",
    "\n",
    "BS += get_records_for_financial_element_names(soup=soup, names=names)"
   ]
  },
  {
   "cell_type": "markdown",
   "id": "98399e8f",
   "metadata": {},
   "source": [
    "## Account Payable\n",
    "\n",
    "* [Accounts Payable (AP)](https://www.investopedia.com/terms/a/accountspayable.asp)\n",
    "\n",
    "> company's obligation to pay off a short-term debt to its creditors or suppliers.\n",
    "\n",
    "\n",
    "\n",
    "* [Accrued Liability](https://www.investopedia.com/terms/a/accrued-liability.asp) (売掛金)\n",
    "\n",
    "> costs for goods and services already delivered to a company for which it must pay in the future. A company can accrue liabilities for any number of obligations and are recorded on the company's balance sheet. They are normally listed on the balance sheet as current liabilities and are adjusted at the end of an accounting period.\n",
    "\n",
    "\n",
    "* [us-gaap:AccruedLiabilitiesCurrent](http://xbrlsite.azurewebsites.net/2019/Prototype/references/us-gaap/Element-354.html)"
   ]
  },
  {
   "cell_type": "code",
   "execution_count": 78,
   "id": "f0876ded",
   "metadata": {},
   "outputs": [
    {
     "name": "stdout",
     "output_type": "stream",
     "text": [
      "us-gaap:accountspayablecurrent                                                   usd   -3    815877000      \n",
      "us-gaap:accruedliabilitiescurrent                                                usd   -3    389068000      \n"
     ]
    }
   ],
   "source": [
    "names = re.compile(\"|\".join([\n",
    "    rf\"^{NAMESPACE}:AccountsPayableCurrent$\",\n",
    "    rf\"^{NAMESPACE}:AccruedLiabilitiesCurrent$\",\n",
    "    rf\"^{NAMESPACE}:CapitalExpendituresIncurredButNotYetPaid$\",\n",
    "]).lower())\n",
    "BS += get_records_for_financial_element_names(soup=soup, names=names)"
   ]
  },
  {
   "cell_type": "markdown",
   "id": "d733d06b",
   "metadata": {},
   "source": [
    "## Tax"
   ]
  },
  {
   "cell_type": "code",
   "execution_count": 79,
   "id": "070a6890",
   "metadata": {},
   "outputs": [],
   "source": [
    "names = re.compile(\"|\".join([\n",
    "    rf\"^{NAMESPACE}:TaxesPayableCurrent$\",\n",
    "]).lower())\n",
    "BS += get_records_for_financial_element_names(soup=soup, names=names)"
   ]
  },
  {
   "cell_type": "markdown",
   "id": "7cef9232",
   "metadata": {},
   "source": [
    "## Debt Due"
   ]
  },
  {
   "cell_type": "code",
   "execution_count": 80,
   "id": "6888cf21",
   "metadata": {},
   "outputs": [
    {
     "name": "stdout",
     "output_type": "stream",
     "text": [
      "us-gaap:longtermdebtcurrent                                                      usd   -3    140380000      \n"
     ]
    }
   ],
   "source": [
    "names = re.compile(\"|\".join([\n",
    "    rf\"^{NAMESPACE}:LongTermDebtCurrent$\",\n",
    "]).lower())\n",
    "BS += get_records_for_financial_element_names(soup=soup, names=names)"
   ]
  },
  {
   "cell_type": "markdown",
   "id": "18979eb1",
   "metadata": {},
   "source": [
    "## ***___# Current Liabilities___***"
   ]
  },
  {
   "cell_type": "code",
   "execution_count": 81,
   "id": "147b7e14",
   "metadata": {},
   "outputs": [
    {
     "name": "stdout",
     "output_type": "stream",
     "text": [
      "us-gaap:liabilitiescurrent                                                       usd   -3    1738985000     \n"
     ]
    }
   ],
   "source": [
    "names = re.compile(\"|\".join([\n",
    "    rf\"^{NAMESPACE}:LiabilitiesCurrent$\",\n",
    "]).lower())\n",
    "\n",
    "BS += get_records_for_financial_element_names(soup=soup, names=names)"
   ]
  },
  {
   "cell_type": "markdown",
   "id": "2ad52155",
   "metadata": {},
   "source": [
    "## Long Term Debt"
   ]
  },
  {
   "cell_type": "code",
   "execution_count": 82,
   "id": "15c6a241",
   "metadata": {},
   "outputs": [
    {
     "name": "stdout",
     "output_type": "stream",
     "text": [
      "us-gaap:longtermdebtnoncurrent                                                   usd   -3    884236000      \n",
      "us-gaap:longtermdebt                                                             usd   -3    1032728000     \n"
     ]
    }
   ],
   "source": [
    "names = re.compile(\"|\".join([\n",
    "    rf\"^{NAMESPACE}:LongTermDebt$\",\n",
    "    rf\"^{NAMESPACE}:LongTermDebtNoncurrent$\",\n",
    "    rf\"^{NAMESPACE}:LongTermLoansFromBank$\",\n",
    "]).lower())\n",
    "BS += get_records_for_financial_element_names(soup=soup, names=names)"
   ]
  },
  {
   "cell_type": "markdown",
   "id": "99784cd0",
   "metadata": {},
   "source": [
    "## Tax Deferred"
   ]
  },
  {
   "cell_type": "code",
   "execution_count": 83,
   "id": "3e4e87b0",
   "metadata": {},
   "outputs": [],
   "source": [
    "names = re.compile(\"|\".join([\n",
    "    rf\"^{NAMESPACE}:DeferredIncomeTaxLiabilitiesNet$\",\n",
    "]).lower())\n",
    "BS += get_records_for_financial_element_names(soup=soup, names=names)"
   ]
  },
  {
   "cell_type": "markdown",
   "id": "4e41e3ca",
   "metadata": {},
   "source": [
    "## Other Long Term Liabilities\n",
    "\n",
    "* [Postemployment Benefits Liability, Noncurrent/us-gaap:PostemploymentBenefitsLiabilityNoncurrent](http://xbrlsite.azurewebsites.net/2019/Prototype/references/us-gaap/Element-12380.html)\n",
    "\n",
    "> The obligations recognized for the various benefits provided to former or inactive employees, their beneficiaries, and covered dependents after employment but before retirement that is payable after one year (or beyond the operating cycle if longer)."
   ]
  },
  {
   "cell_type": "code",
   "execution_count": 84,
   "id": "c8353b1b",
   "metadata": {},
   "outputs": [
    {
     "name": "stdout",
     "output_type": "stream",
     "text": [
      "us-gaap:pensionandotherpostretirementandpostemploymentbenefitplansliabilitiesnoncurrent usd   -3    145633000      \n",
      "us-gaap:operatingleaseliabilitynoncurrent                                        usd   -3    76955000       \n",
      "us-gaap:otherliabilitiesnoncurrent                                               usd   -3    164960000      \n"
     ]
    }
   ],
   "source": [
    "names = re.compile(\"|\".join([\n",
    "    rf\"^{NAMESPACE}:PostemploymentBenefitsLiabilityNoncurrent$\",\n",
    "    rf\"^{NAMESPACE}:PensionAndOtherPostretirementAndPostemploymentBenefitPlansLiabilitiesNoncurrent$\",\n",
    "    rf\"^{NAMESPACE}:OperatingLeaseLiabilityNoncurrent$\",\n",
    "    rf\"^{NAMESPACE}:OtherLiabilitiesNoncurrent$\",\n",
    "]).lower())\n",
    "BS += get_records_for_financial_element_names(soup=soup, names=names)"
   ]
  },
  {
   "cell_type": "markdown",
   "id": "d3faa9ae",
   "metadata": {},
   "source": [
    "## ***___# Total Liabilities___***"
   ]
  },
  {
   "cell_type": "code",
   "execution_count": 85,
   "id": "2efabb07",
   "metadata": {},
   "outputs": [
    {
     "name": "stdout",
     "output_type": "stream",
     "text": [
      "us-gaap:liabilities                                                              usd   -3    3010769000     \n"
     ]
    }
   ],
   "source": [
    "names = re.compile(\"|\".join([\n",
    "    rf\"^{NAMESPACE}:Liabilities$\",\n",
    "]).lower())\n",
    "BS += get_records_for_financial_element_names(soup=soup, names=names)"
   ]
  },
  {
   "cell_type": "markdown",
   "id": "3aad4130",
   "metadata": {},
   "source": [
    "## Paid-in Capital\n",
    "\n",
    "* [Paid-In Capital](https://www.investopedia.com/terms/p/paidincapital.aspPaid-In Capital)\n",
    "\n",
    "> Paid-in capital represents the funds raised by the business through selling its equity and not from ongoing business operations. Paid-in capital also refers to a line item on the company's balance sheet listed under shareholders' equity (also referred to as stockholders' equity), often shown alongside the line item for additional paid-in capital.\n",
    "\n",
    "* [Additional Paid-In Capital (APIC)](https://www.investopedia.com/terms/a/additionalpaidincapital.asp)\n",
    "\n",
    "> Often referred to as \"contributed capital in excess of par,” APIC occurs when an investor buys newly-issued shares directly from a company during its initial public offering (IPO) stage. APIC, which is itemized under the shareholder equity (SE) section of a balance sheet, is viewed as a profit opportunity for companies as it results in them receiving excess cash from stockholders."
   ]
  },
  {
   "cell_type": "code",
   "execution_count": 86,
   "id": "b73cb1d2",
   "metadata": {},
   "outputs": [
    {
     "name": "stdout",
     "output_type": "stream",
     "text": [
      "us-gaap:commonstockvalue                                                         usd   -3    290000         \n"
     ]
    }
   ],
   "source": [
    "names = re.compile(\"|\".join([\n",
    "    rf\"^{NAMESPACE}:CommonStockValue$\",\n",
    "    rf\"^{NAMESPACE}:AdditionalPaidInCapitalCommonStock$\",\n",
    "    rf\"^{NAMESPACE}:CommonStocksIncludingAdditionalPaidInCapital$\",\n",
    "]).lower())\n",
    "BS += get_records_for_financial_element_names(soup=soup, names=names)"
   ]
  },
  {
   "cell_type": "markdown",
   "id": "f06f0afb",
   "metadata": {},
   "source": [
    "## Retained Earnings\n",
    "\n",
    "* [Retained Earnings](https://www.investopedia.com/terms/r/retainedearnings.asp)\n",
    "\n",
    ">  The word \"retained\" captures the fact that because those earnings were **NOT paid out to shareholders as dividends** they were instead retained by the company."
   ]
  },
  {
   "cell_type": "code",
   "execution_count": 87,
   "id": "a4398fbc",
   "metadata": {},
   "outputs": [
    {
     "name": "stdout",
     "output_type": "stream",
     "text": [
      "us-gaap:retainedearningsaccumulateddeficit                                       usd   -3    959641000      \n"
     ]
    }
   ],
   "source": [
    "names = re.compile(\"|\".join([\n",
    "    rf\"^{NAMESPACE}:RetainedEarningsAppropriated$\",\n",
    "    rf\"^{NAMESPACE}:RetainedEarningsAccumulatedDeficit$\",\n",
    "]).lower())\n",
    "BS += get_records_for_financial_element_names(soup=soup, names=names)"
   ]
  },
  {
   "cell_type": "markdown",
   "id": "dff839ea",
   "metadata": {},
   "source": [
    "## Accumulated other comprehensive loss"
   ]
  },
  {
   "cell_type": "code",
   "execution_count": 88,
   "id": "02c77b24",
   "metadata": {},
   "outputs": [
    {
     "name": "stdout",
     "output_type": "stream",
     "text": [
      "us-gaap:accumulatedothercomprehensiveincomelossnetoftax                          usd   -3    15936000       \n"
     ]
    }
   ],
   "source": [
    "names = re.compile(\"|\".join([\n",
    "    rf\"^{NAMESPACE}:AccumulatedOtherComprehensiveIncomeLossNetOfTax$\",\n",
    "]).lower())\n",
    "BS += get_records_for_financial_element_names(soup=soup, names=names)"
   ]
  },
  {
   "cell_type": "markdown",
   "id": "fbf3de44",
   "metadata": {},
   "source": [
    "## ***___# Stockholder's Equity___***\n",
    "\n",
    "* [Stockholders' Equity](https://www.investopedia.com/terms/s/stockholdersequity.asp)\n",
    "\n",
    "> Remaining amount of assets available to shareholders after all liabilities have been paid. (純資産)"
   ]
  },
  {
   "cell_type": "code",
   "execution_count": 89,
   "id": "74f2b5a1",
   "metadata": {},
   "outputs": [
    {
     "name": "stdout",
     "output_type": "stream",
     "text": [
      "us-gaap:stockholdersequity                                                       usd   -3    2730013000     \n"
     ]
    }
   ],
   "source": [
    "names = re.compile(\"|\".join([\n",
    "    rf\"^{NAMESPACE}:StockholdersEquity$\",\n",
    "]).lower())\n",
    "BS += get_records_for_financial_element_names(soup=soup, names=names)"
   ]
  },
  {
   "cell_type": "markdown",
   "id": "902f4e21",
   "metadata": {},
   "source": [
    "## Interest"
   ]
  },
  {
   "cell_type": "code",
   "execution_count": 90,
   "id": "827928d8",
   "metadata": {},
   "outputs": [
    {
     "name": "stdout",
     "output_type": "stream",
     "text": [
      "us-gaap:minorityinterest                                                         usd   -3    29666000       \n"
     ]
    }
   ],
   "source": [
    "names = re.compile(\"|\".join([\n",
    "    rf\"^{NAMESPACE}:MinorityInterest$\",\n",
    "]).lower())\n",
    "BS += get_records_for_financial_element_names(soup=soup, names=names)"
   ]
  },
  {
   "cell_type": "markdown",
   "id": "ac212d50",
   "metadata": {},
   "source": [
    "## ***___# Total Equity___***"
   ]
  },
  {
   "cell_type": "code",
   "execution_count": 91,
   "id": "34f428b3",
   "metadata": {},
   "outputs": [
    {
     "name": "stdout",
     "output_type": "stream",
     "text": [
      "us-gaap:stockholdersequityincludingportionattributabletononcontrollinginterest   usd   -3    2759679000     \n"
     ]
    }
   ],
   "source": [
    "names = re.compile(\"|\".join([\n",
    "    rf\"^{NAMESPACE}:StockholdersEquityIncludingPortionAttributableToNoncontrollingInterest$\",\n",
    "]).lower())\n",
    "BS += get_records_for_financial_element_names(soup=soup, names=names)"
   ]
  },
  {
   "cell_type": "markdown",
   "id": "34bd21a9",
   "metadata": {},
   "source": [
    "## ***___# Total Liabilities + Stockholder's Equity___***"
   ]
  },
  {
   "cell_type": "code",
   "execution_count": 92,
   "id": "e06175fc",
   "metadata": {},
   "outputs": [
    {
     "name": "stdout",
     "output_type": "stream",
     "text": [
      "us-gaap:liabilitiesandstockholdersequity                                         usd   -3    5770448000     \n"
     ]
    }
   ],
   "source": [
    "names = re.compile(\"|\".join([\n",
    "    rf\"^{NAMESPACE}:LiabilitiesAndStockholdersEquity$\",\n",
    "]).lower())\n",
    "BS += get_records_for_financial_element_names(soup=soup, names=names)"
   ]
  },
  {
   "cell_type": "markdown",
   "id": "5e58202d",
   "metadata": {},
   "source": [
    "## ***___# Shares Outstandings___***"
   ]
  },
  {
   "cell_type": "code",
   "execution_count": 93,
   "id": "7b7bd799",
   "metadata": {},
   "outputs": [],
   "source": [
    "BS += shares_outstandings"
   ]
  },
  {
   "cell_type": "markdown",
   "id": "db2773ef",
   "metadata": {},
   "source": [
    "## Display B/S"
   ]
  },
  {
   "cell_type": "code",
   "execution_count": 94,
   "id": "50755c2c",
   "metadata": {},
   "outputs": [
    {
     "data": {
      "text/html": [
       "<div>\n",
       "<style scoped>\n",
       "    .dataframe tbody tr th:only-of-type {\n",
       "        vertical-align: middle;\n",
       "    }\n",
       "\n",
       "    .dataframe tbody tr th {\n",
       "        vertical-align: top;\n",
       "    }\n",
       "\n",
       "    .dataframe thead th {\n",
       "        text-align: right;\n",
       "    }\n",
       "</style>\n",
       "<table border=\"1\" class=\"dataframe\">\n",
       "  <thead>\n",
       "    <tr style=\"text-align: center;\">\n",
       "      <th></th>\n",
       "      <th>type</th>\n",
       "      <th>name</th>\n",
       "      <th>unit</th>\n",
       "      <th>decimals</th>\n",
       "      <th>value</th>\n",
       "      <th>context</th>\n",
       "    </tr>\n",
       "  </thead>\n",
       "  <tbody>\n",
       "    <tr>\n",
       "      <th>0</th>\n",
       "      <td>credit</td>\n",
       "      <td>us-gaap:cashandcashequivalentsatcarryingvalue</td>\n",
       "      <td>usd</td>\n",
       "      <td>-3</td>\n",
       "      <td>545592000</td>\n",
       "      <td>i00aae6ee0447424d9c01fc5f8f3bd82d_I20210930</td>\n",
       "    </tr>\n",
       "    <tr>\n",
       "      <th>1</th>\n",
       "      <td>credit</td>\n",
       "      <td>us-gaap:restrictedcashandcashequivalentsatcarr...</td>\n",
       "      <td>usd</td>\n",
       "      <td>-3</td>\n",
       "      <td>929000</td>\n",
       "      <td>i00aae6ee0447424d9c01fc5f8f3bd82d_I20210930</td>\n",
       "    </tr>\n",
       "    <tr>\n",
       "      <th>2</th>\n",
       "      <td>credit</td>\n",
       "      <td>us-gaap:shortterminvestments</td>\n",
       "      <td>usd</td>\n",
       "      <td>-3</td>\n",
       "      <td>244470000</td>\n",
       "      <td>i00aae6ee0447424d9c01fc5f8f3bd82d_I20210930</td>\n",
       "    </tr>\n",
       "    <tr>\n",
       "      <th>3</th>\n",
       "      <td>credit</td>\n",
       "      <td>us-gaap:accountsreceivablenetcurrent</td>\n",
       "      <td>usd</td>\n",
       "      <td>-3</td>\n",
       "      <td>1289617000</td>\n",
       "      <td>i00aae6ee0447424d9c01fc5f8f3bd82d_I20210930</td>\n",
       "    </tr>\n",
       "    <tr>\n",
       "      <th>4</th>\n",
       "      <td>credit</td>\n",
       "      <td>us-gaap:inventorynet</td>\n",
       "      <td>usd</td>\n",
       "      <td>-3</td>\n",
       "      <td>445918000</td>\n",
       "      <td>i00aae6ee0447424d9c01fc5f8f3bd82d_I20210930</td>\n",
       "    </tr>\n",
       "    <tr>\n",
       "      <th>5</th>\n",
       "      <td>credit</td>\n",
       "      <td>us-gaap:otherassetscurrent</td>\n",
       "      <td>usd</td>\n",
       "      <td>-3</td>\n",
       "      <td>48598000</td>\n",
       "      <td>i00aae6ee0447424d9c01fc5f8f3bd82d_I20210930</td>\n",
       "    </tr>\n",
       "    <tr>\n",
       "      <th>6</th>\n",
       "      <td>credit</td>\n",
       "      <td>us-gaap:operatingleaserightofuseasset</td>\n",
       "      <td>usd</td>\n",
       "      <td>-3</td>\n",
       "      <td>146210000</td>\n",
       "      <td>i00aae6ee0447424d9c01fc5f8f3bd82d_I20210930</td>\n",
       "    </tr>\n",
       "    <tr>\n",
       "      <th>7</th>\n",
       "      <td>calc</td>\n",
       "      <td>us-gaap:assetscurrent</td>\n",
       "      <td>usd</td>\n",
       "      <td>-3</td>\n",
       "      <td>2575124000</td>\n",
       "      <td>i00aae6ee0447424d9c01fc5f8f3bd82d_I20210930</td>\n",
       "    </tr>\n",
       "    <tr>\n",
       "      <th>8</th>\n",
       "      <td>credit</td>\n",
       "      <td>us-gaap:propertyplantandequipmentnet</td>\n",
       "      <td>usd</td>\n",
       "      <td>-3</td>\n",
       "      <td>2901564000</td>\n",
       "      <td>i00aae6ee0447424d9c01fc5f8f3bd82d_I20210930</td>\n",
       "    </tr>\n",
       "    <tr>\n",
       "      <th>9</th>\n",
       "      <td>credit</td>\n",
       "      <td>us-gaap:restrictedcashandcashequivalentsnoncur...</td>\n",
       "      <td>usd</td>\n",
       "      <td>-3</td>\n",
       "      <td>3508000</td>\n",
       "      <td>i00aae6ee0447424d9c01fc5f8f3bd82d_I20210930</td>\n",
       "    </tr>\n",
       "    <tr>\n",
       "      <th>10</th>\n",
       "      <td>credit</td>\n",
       "      <td>us-gaap:goodwill</td>\n",
       "      <td>usd</td>\n",
       "      <td>-3</td>\n",
       "      <td>25351000</td>\n",
       "      <td>i00aae6ee0447424d9c01fc5f8f3bd82d_I20210930</td>\n",
       "    </tr>\n",
       "    <tr>\n",
       "      <th>11</th>\n",
       "      <td>credit</td>\n",
       "      <td>us-gaap:otherassetsnoncurrent</td>\n",
       "      <td>usd</td>\n",
       "      <td>-3</td>\n",
       "      <td>118691000</td>\n",
       "      <td>i00aae6ee0447424d9c01fc5f8f3bd82d_I20210930</td>\n",
       "    </tr>\n",
       "    <tr>\n",
       "      <th>12</th>\n",
       "      <td>calc</td>\n",
       "      <td>us-gaap:assets</td>\n",
       "      <td>usd</td>\n",
       "      <td>-3</td>\n",
       "      <td>5770448000</td>\n",
       "      <td>i00aae6ee0447424d9c01fc5f8f3bd82d_I20210930</td>\n",
       "    </tr>\n",
       "    <tr>\n",
       "      <th>13</th>\n",
       "      <td>debit</td>\n",
       "      <td>us-gaap:accountspayablecurrent</td>\n",
       "      <td>usd</td>\n",
       "      <td>-3</td>\n",
       "      <td>815877000</td>\n",
       "      <td>i00aae6ee0447424d9c01fc5f8f3bd82d_I20210930</td>\n",
       "    </tr>\n",
       "    <tr>\n",
       "      <th>14</th>\n",
       "      <td>debit</td>\n",
       "      <td>us-gaap:accruedliabilitiescurrent</td>\n",
       "      <td>usd</td>\n",
       "      <td>-3</td>\n",
       "      <td>389068000</td>\n",
       "      <td>i00aae6ee0447424d9c01fc5f8f3bd82d_I20210930</td>\n",
       "    </tr>\n",
       "    <tr>\n",
       "      <th>15</th>\n",
       "      <td>debit</td>\n",
       "      <td>us-gaap:longtermdebtcurrent</td>\n",
       "      <td>usd</td>\n",
       "      <td>-3</td>\n",
       "      <td>140380000</td>\n",
       "      <td>i00aae6ee0447424d9c01fc5f8f3bd82d_I20210930</td>\n",
       "    </tr>\n",
       "    <tr>\n",
       "      <th>16</th>\n",
       "      <td>calc</td>\n",
       "      <td>us-gaap:liabilitiescurrent</td>\n",
       "      <td>usd</td>\n",
       "      <td>-3</td>\n",
       "      <td>1738985000</td>\n",
       "      <td>i00aae6ee0447424d9c01fc5f8f3bd82d_I20210930</td>\n",
       "    </tr>\n",
       "    <tr>\n",
       "      <th>17</th>\n",
       "      <td>debit</td>\n",
       "      <td>us-gaap:longtermdebtnoncurrent</td>\n",
       "      <td>usd</td>\n",
       "      <td>-3</td>\n",
       "      <td>884236000</td>\n",
       "      <td>i00aae6ee0447424d9c01fc5f8f3bd82d_I20210930</td>\n",
       "    </tr>\n",
       "    <tr>\n",
       "      <th>18</th>\n",
       "      <td>debit</td>\n",
       "      <td>us-gaap:longtermdebt</td>\n",
       "      <td>usd</td>\n",
       "      <td>-3</td>\n",
       "      <td>1032728000</td>\n",
       "      <td>i00aae6ee0447424d9c01fc5f8f3bd82d_I20210930</td>\n",
       "    </tr>\n",
       "    <tr>\n",
       "      <th>19</th>\n",
       "      <td>debit</td>\n",
       "      <td>us-gaap:pensionandotherpostretirementandpostem...</td>\n",
       "      <td>usd</td>\n",
       "      <td>-3</td>\n",
       "      <td>145633000</td>\n",
       "      <td>i00aae6ee0447424d9c01fc5f8f3bd82d_I20210930</td>\n",
       "    </tr>\n",
       "    <tr>\n",
       "      <th>20</th>\n",
       "      <td>debit</td>\n",
       "      <td>us-gaap:operatingleaseliabilitynoncurrent</td>\n",
       "      <td>usd</td>\n",
       "      <td>-3</td>\n",
       "      <td>76955000</td>\n",
       "      <td>i00aae6ee0447424d9c01fc5f8f3bd82d_I20210930</td>\n",
       "    </tr>\n",
       "    <tr>\n",
       "      <th>21</th>\n",
       "      <td>debit</td>\n",
       "      <td>us-gaap:otherliabilitiesnoncurrent</td>\n",
       "      <td>usd</td>\n",
       "      <td>-3</td>\n",
       "      <td>164960000</td>\n",
       "      <td>i00aae6ee0447424d9c01fc5f8f3bd82d_I20210930</td>\n",
       "    </tr>\n",
       "    <tr>\n",
       "      <th>22</th>\n",
       "      <td>calc</td>\n",
       "      <td>us-gaap:liabilities</td>\n",
       "      <td>usd</td>\n",
       "      <td>-3</td>\n",
       "      <td>3010769000</td>\n",
       "      <td>i00aae6ee0447424d9c01fc5f8f3bd82d_I20210930</td>\n",
       "    </tr>\n",
       "    <tr>\n",
       "      <th>23</th>\n",
       "      <td>debit</td>\n",
       "      <td>us-gaap:commonstockvalue</td>\n",
       "      <td>usd</td>\n",
       "      <td>-3</td>\n",
       "      <td>290000</td>\n",
       "      <td>i00aae6ee0447424d9c01fc5f8f3bd82d_I20210930</td>\n",
       "    </tr>\n",
       "    <tr>\n",
       "      <th>24</th>\n",
       "      <td>debit</td>\n",
       "      <td>us-gaap:retainedearningsaccumulateddeficit</td>\n",
       "      <td>usd</td>\n",
       "      <td>-3</td>\n",
       "      <td>959641000</td>\n",
       "      <td>i00aae6ee0447424d9c01fc5f8f3bd82d_I20210930</td>\n",
       "    </tr>\n",
       "    <tr>\n",
       "      <th>25</th>\n",
       "      <td>debit</td>\n",
       "      <td>us-gaap:accumulatedothercomprehensiveincomelos...</td>\n",
       "      <td>usd</td>\n",
       "      <td>-3</td>\n",
       "      <td>15936000</td>\n",
       "      <td>i00aae6ee0447424d9c01fc5f8f3bd82d_I20210930</td>\n",
       "    </tr>\n",
       "    <tr>\n",
       "      <th>26</th>\n",
       "      <td>calc</td>\n",
       "      <td>us-gaap:stockholdersequity</td>\n",
       "      <td>usd</td>\n",
       "      <td>-3</td>\n",
       "      <td>2730013000</td>\n",
       "      <td>i00aae6ee0447424d9c01fc5f8f3bd82d_I20210930</td>\n",
       "    </tr>\n",
       "    <tr>\n",
       "      <th>27</th>\n",
       "      <td>debit</td>\n",
       "      <td>us-gaap:minorityinterest</td>\n",
       "      <td>usd</td>\n",
       "      <td>-3</td>\n",
       "      <td>29666000</td>\n",
       "      <td>i00aae6ee0447424d9c01fc5f8f3bd82d_I20210930</td>\n",
       "    </tr>\n",
       "    <tr>\n",
       "      <th>28</th>\n",
       "      <td>calc</td>\n",
       "      <td>us-gaap:stockholdersequityincludingportionattr...</td>\n",
       "      <td>usd</td>\n",
       "      <td>-3</td>\n",
       "      <td>2759679000</td>\n",
       "      <td>i00aae6ee0447424d9c01fc5f8f3bd82d_I20210930</td>\n",
       "    </tr>\n",
       "    <tr>\n",
       "      <th>29</th>\n",
       "      <td>calc</td>\n",
       "      <td>us-gaap:liabilitiesandstockholdersequity</td>\n",
       "      <td>usd</td>\n",
       "      <td>-3</td>\n",
       "      <td>5770448000</td>\n",
       "      <td>i00aae6ee0447424d9c01fc5f8f3bd82d_I20210930</td>\n",
       "    </tr>\n",
       "    <tr>\n",
       "      <th>30</th>\n",
       "      <td>fact</td>\n",
       "      <td>us-gaap:commonstocksharesoutstanding</td>\n",
       "      <td>shares</td>\n",
       "      <td>-3</td>\n",
       "      <td>244190000</td>\n",
       "      <td>i00aae6ee0447424d9c01fc5f8f3bd82d_I20210930</td>\n",
       "    </tr>\n",
       "  </tbody>\n",
       "</table>\n",
       "</div>"
      ],
      "text/plain": [
       "     type                         name                          unit   \\\n",
       "0   credit      us-gaap:cashandcashequivalentsatcarryingvalue     usd   \n",
       "1   credit  us-gaap:restrictedcashandcashequivalentsatcarr...     usd   \n",
       "2   credit                       us-gaap:shortterminvestments     usd   \n",
       "3   credit               us-gaap:accountsreceivablenetcurrent     usd   \n",
       "4   credit                               us-gaap:inventorynet     usd   \n",
       "5   credit                         us-gaap:otherassetscurrent     usd   \n",
       "6   credit              us-gaap:operatingleaserightofuseasset     usd   \n",
       "7     calc                              us-gaap:assetscurrent     usd   \n",
       "8   credit               us-gaap:propertyplantandequipmentnet     usd   \n",
       "9   credit  us-gaap:restrictedcashandcashequivalentsnoncur...     usd   \n",
       "10  credit                                   us-gaap:goodwill     usd   \n",
       "11  credit                      us-gaap:otherassetsnoncurrent     usd   \n",
       "12    calc                                     us-gaap:assets     usd   \n",
       "13   debit                     us-gaap:accountspayablecurrent     usd   \n",
       "14   debit                  us-gaap:accruedliabilitiescurrent     usd   \n",
       "15   debit                        us-gaap:longtermdebtcurrent     usd   \n",
       "16    calc                         us-gaap:liabilitiescurrent     usd   \n",
       "17   debit                     us-gaap:longtermdebtnoncurrent     usd   \n",
       "18   debit                               us-gaap:longtermdebt     usd   \n",
       "19   debit  us-gaap:pensionandotherpostretirementandpostem...     usd   \n",
       "20   debit          us-gaap:operatingleaseliabilitynoncurrent     usd   \n",
       "21   debit                 us-gaap:otherliabilitiesnoncurrent     usd   \n",
       "22    calc                                us-gaap:liabilities     usd   \n",
       "23   debit                           us-gaap:commonstockvalue     usd   \n",
       "24   debit         us-gaap:retainedearningsaccumulateddeficit     usd   \n",
       "25   debit  us-gaap:accumulatedothercomprehensiveincomelos...     usd   \n",
       "26    calc                         us-gaap:stockholdersequity     usd   \n",
       "27   debit                           us-gaap:minorityinterest     usd   \n",
       "28    calc  us-gaap:stockholdersequityincludingportionattr...     usd   \n",
       "29    calc           us-gaap:liabilitiesandstockholdersequity     usd   \n",
       "30    fact               us-gaap:commonstocksharesoutstanding  shares   \n",
       "\n",
       "    decimals    value                     context                     \n",
       "0      -3     545592000  i00aae6ee0447424d9c01fc5f8f3bd82d_I20210930  \n",
       "1      -3        929000  i00aae6ee0447424d9c01fc5f8f3bd82d_I20210930  \n",
       "2      -3     244470000  i00aae6ee0447424d9c01fc5f8f3bd82d_I20210930  \n",
       "3      -3    1289617000  i00aae6ee0447424d9c01fc5f8f3bd82d_I20210930  \n",
       "4      -3     445918000  i00aae6ee0447424d9c01fc5f8f3bd82d_I20210930  \n",
       "5      -3      48598000  i00aae6ee0447424d9c01fc5f8f3bd82d_I20210930  \n",
       "6      -3     146210000  i00aae6ee0447424d9c01fc5f8f3bd82d_I20210930  \n",
       "7      -3    2575124000  i00aae6ee0447424d9c01fc5f8f3bd82d_I20210930  \n",
       "8      -3    2901564000  i00aae6ee0447424d9c01fc5f8f3bd82d_I20210930  \n",
       "9      -3       3508000  i00aae6ee0447424d9c01fc5f8f3bd82d_I20210930  \n",
       "10     -3      25351000  i00aae6ee0447424d9c01fc5f8f3bd82d_I20210930  \n",
       "11     -3     118691000  i00aae6ee0447424d9c01fc5f8f3bd82d_I20210930  \n",
       "12     -3    5770448000  i00aae6ee0447424d9c01fc5f8f3bd82d_I20210930  \n",
       "13     -3     815877000  i00aae6ee0447424d9c01fc5f8f3bd82d_I20210930  \n",
       "14     -3     389068000  i00aae6ee0447424d9c01fc5f8f3bd82d_I20210930  \n",
       "15     -3     140380000  i00aae6ee0447424d9c01fc5f8f3bd82d_I20210930  \n",
       "16     -3    1738985000  i00aae6ee0447424d9c01fc5f8f3bd82d_I20210930  \n",
       "17     -3     884236000  i00aae6ee0447424d9c01fc5f8f3bd82d_I20210930  \n",
       "18     -3    1032728000  i00aae6ee0447424d9c01fc5f8f3bd82d_I20210930  \n",
       "19     -3     145633000  i00aae6ee0447424d9c01fc5f8f3bd82d_I20210930  \n",
       "20     -3      76955000  i00aae6ee0447424d9c01fc5f8f3bd82d_I20210930  \n",
       "21     -3     164960000  i00aae6ee0447424d9c01fc5f8f3bd82d_I20210930  \n",
       "22     -3    3010769000  i00aae6ee0447424d9c01fc5f8f3bd82d_I20210930  \n",
       "23     -3        290000  i00aae6ee0447424d9c01fc5f8f3bd82d_I20210930  \n",
       "24     -3     959641000  i00aae6ee0447424d9c01fc5f8f3bd82d_I20210930  \n",
       "25     -3      15936000  i00aae6ee0447424d9c01fc5f8f3bd82d_I20210930  \n",
       "26     -3    2730013000  i00aae6ee0447424d9c01fc5f8f3bd82d_I20210930  \n",
       "27     -3      29666000  i00aae6ee0447424d9c01fc5f8f3bd82d_I20210930  \n",
       "28     -3    2759679000  i00aae6ee0447424d9c01fc5f8f3bd82d_I20210930  \n",
       "29     -3    5770448000  i00aae6ee0447424d9c01fc5f8f3bd82d_I20210930  \n",
       "30     -3     244190000  i00aae6ee0447424d9c01fc5f8f3bd82d_I20210930  "
      ]
     },
     "execution_count": 94,
     "metadata": {},
     "output_type": "execute_result"
    }
   ],
   "source": [
    "df_BS = pd.DataFrame(BS, columns=get_financial_element_columns())\n",
    "df_BS"
   ]
  },
  {
   "cell_type": "code",
   "execution_count": 95,
   "id": "61bb7a3e",
   "metadata": {},
   "outputs": [
    {
     "data": {
      "text/plain": [
       "5770448000.0"
      ]
     },
     "execution_count": 95,
     "metadata": {},
     "output_type": "execute_result"
    }
   ],
   "source": [
    "credits = df_BS[df_BS['type'] == 'credit']['value'].sum()\n",
    "credits"
   ]
  },
  {
   "cell_type": "code",
   "execution_count": 96,
   "id": "da2dea08",
   "metadata": {},
   "outputs": [
    {
     "data": {
      "text/plain": [
       "4655370000.0"
      ]
     },
     "execution_count": 96,
     "metadata": {},
     "output_type": "execute_result"
    }
   ],
   "source": [
    "debits = df_BS[df_BS['type'] == 'debit']['value'].sum()\n",
    "debits"
   ]
  },
  {
   "cell_type": "code",
   "execution_count": 97,
   "id": "1b53bae9",
   "metadata": {},
   "outputs": [
    {
     "data": {
      "text/plain": [
       "1115078000.0"
      ]
     },
     "execution_count": 97,
     "metadata": {},
     "output_type": "execute_result"
    }
   ],
   "source": [
    "credits - debits"
   ]
  },
  {
   "cell_type": "code",
   "execution_count": 98,
   "id": "5916b4c0",
   "metadata": {},
   "outputs": [
    {
     "name": "stdout",
     "output_type": "stream",
     "text": [
      "2.23\n"
     ]
    }
   ],
   "source": [
    "cps = np.divide(\n",
    "    df_BS[df_BS['name'] == 'us-gaap:cashandcashequivalentsatcarryingvalue']['value'].values,\n",
    "    df_BS[df_BS['name'] == 'us-gaap:commonstocksharesoutstanding']['value'].values\n",
    ").item()\n",
    "scale = 2\n",
    "\n",
    "print(f\"{cps:.{scale}f}\")"
   ]
  },
  {
   "cell_type": "markdown",
   "id": "9dd54d0b",
   "metadata": {},
   "source": [
    "# Save"
   ]
  },
  {
   "cell_type": "code",
   "execution_count": 99,
   "id": "f9d83064",
   "metadata": {},
   "outputs": [],
   "source": [
    "import pathlib\n",
    "path_to_folder = f\"../data/{CIK}_{registrant_name}\"\n",
    "pathlib.Path(f\"{path_to_folder}\").mkdir(parents=True, exist_ok=True)"
   ]
  },
  {
   "cell_type": "code",
   "execution_count": 100,
   "id": "2ff7b34c",
   "metadata": {},
   "outputs": [],
   "source": [
    "df_PL.to_csv(f\"{path_to_folder}/{ACCESSION}_PL.gz\", index=False, compression='gzip')\n",
    "df_BS.to_csv(f\"{path_to_folder}/{ACCESSION}_BS.gz\", index=False, compression='gzip')"
   ]
  },
  {
   "cell_type": "markdown",
   "id": "839c614a",
   "metadata": {},
   "source": [
    "# Clearn up"
   ]
  },
  {
   "cell_type": "code",
   "execution_count": 101,
   "id": "ac09f277",
   "metadata": {},
   "outputs": [],
   "source": [
    "del soup\n",
    "del df_PL, df_BS"
   ]
  },
  {
   "cell_type": "code",
   "execution_count": null,
   "id": "17ba7174",
   "metadata": {},
   "outputs": [],
   "source": []
  }
 ],
 "metadata": {
  "kernelspec": {
   "display_name": "Python 3 (ipykernel)",
   "language": "python",
   "name": "python3"
  },
  "language_info": {
   "codemirror_mode": {
    "name": "ipython",
    "version": 3
   },
   "file_extension": ".py",
   "mimetype": "text/x-python",
   "name": "python",
   "nbconvert_exporter": "python",
   "pygments_lexer": "ipython3",
   "version": "3.8.10"
  }
 },
 "nbformat": 4,
 "nbformat_minor": 5
}
