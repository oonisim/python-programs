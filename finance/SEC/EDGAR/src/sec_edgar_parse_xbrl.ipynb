{
 "cells": [
  {
   "cell_type": "markdown",
   "id": "0ddfbf2b",
   "metadata": {},
   "source": [
    "# Parsing SEC Filing XBRL Document\n",
    "\n",
    "\n",
    "## Objective\n",
    "\n",
    "Parse the filing XBRL file to create a DOM like structure that represent the filing data\n",
    "\n",
    "## References\n",
    "\n",
    "* [XBRL Specification - Extensible Business Reporting Language (XBRL) 2.1](https://www.xbrl.org/Specification/XBRL-2.1/REC-2003-12-31/XBRL-2.1-REC-2003-12-31+corrected-errata-2013-02-20.html)\n",
    "\n",
    "* [List of US GAAP Standards](https://xbrlsite.azurewebsites.net/2019/Prototype/references/us-gaap/)\n",
    "* [XBRL US - List of Elements](https://xbrl.us/data-rule/dqc_0015-le/)\n",
    "\n",
    "**Element Version**|**Element ID**|**Namespace**|**Element Label**|**Element Name**|**Balance Type**|**Definition**\n",
    ":-----:|:-----:|:-----:|:-----:|:-----:|:-----:|:-----:\n",
    "1|1367|us-gaap|Interest Expense|InterestExpense|debit|Amount of the cost of borrowed funds accounted for as interest expense.\n",
    "2|2692|us-gaap|Cash and Cash Equivalents, at Carrying Value|CashAndCashEquivalentsAtCarryingValue|debit|Amount of currency on hand as well as demand deposits with banks or financial institutions. Includes other kinds of accounts that have the general characteristics of demand deposits. Also includes short-term, highly liquid investments that are both readily convertible to known amounts of cash and so near their maturity that they present insignificant risk of changes in value because of changes in interest rates. Excludes cash and cash equivalents within disposal group and discontinued operation.\n",
    "\n",
    "## XBRL Element\n",
    "\n",
    "* [Understanding the Financial Report Logical System](https://www.youtube.com/playlist?list=PLqMZRUzQ64B7EWamzDP-WaYbS_W0RL9nt)\n",
    "* [XBRL - What is us-gaap:OperatingSegmentsMember element anb where is it defined?](https://money.stackexchange.com/questions/148010/xbrl-what-is-us-gaapoperatingsegmentsmember-element-anb-where-is-it-defined)\n",
    "\n",
    "### Example\n",
    "For instance, Qorvo 2020 10K\n",
    "\n",
    "* [XBRL/rfmd-20210403_htm.xml](https://www.sec.gov/Archives/edgar/data/1604778/000160477821000032/rfmd-20210403_htm.xml)\n",
    "* [HTML/rfmd-20210403.htm)](https://www.sec.gov/Archives/edgar/data/1604778/000160477821000032/rfmd-20210403.htm):\n",
    "\n",
    "```\n",
    "<us-gaap:cashandcashequivalentsatcarryingvalue contextref=\"*\" decimals=\"-3\" id=\"...\" unitref=\"usd\">\n",
    "  1397880000\n",
    "</us-gaap:cashandcashequivalentsatcarryingvalue>,\n",
    "<us-gaap:cashandcashequivalentsatcarryingvalue contextref=\"***\" decimals=\"-3\" id=\"...\" unitref=\"usd\">\n",
    "  714939000\n",
    "</us-gaap:cashandcashequivalentsatcarryingvalue>,\n",
    "<us-gaap:cashandcashequivalentsatcarryingvalue contextref=\"***\" decimals=\"-3\" id=\"...\" unitref=\"usd\">\n",
    " 711035000\n",
    "</us-gaap:cashandcashequivalentsatcarryingvalue>\n",
    "```\n",
    "\n",
    "Corresponds to the Cash and Cash equivalents in the Cash Flow statement.\n",
    "\n",
    "<img src=\"../image/edgar_qorvo_2020_10K_CF.png\" align=\"left\" width=800 />"
   ]
  },
  {
   "cell_type": "markdown",
   "id": "b5dc76bb",
   "metadata": {},
   "source": [
    "---\n",
    "# Setup"
   ]
  },
  {
   "cell_type": "code",
   "execution_count": 1,
   "id": "2200e8cd",
   "metadata": {},
   "outputs": [],
   "source": [
    "from typing import (\n",
    "    List,\n",
    "    Dict\n",
    ")\n",
    "import datetime\n",
    "import dateutil\n",
    "import calendar\n",
    "import re\n",
    "import requests\n",
    "import unicodedata\n",
    "import bs4\n",
    "from bs4 import BeautifulSoup\n",
    "from IPython.core.display import (\n",
    "    display, \n",
    "    HTML\n",
    ")\n",
    "\n",
    "import numpy as np\n",
    "import pandas as pd\n",
    "pd.set_option('display.float_format', lambda x: ('%f' % x).rstrip('0').rstrip('.'))\n",
    "pd.set_option('display.colheader_justify', 'center')"
   ]
  },
  {
   "cell_type": "code",
   "execution_count": 2,
   "id": "0b59706f",
   "metadata": {},
   "outputs": [
    {
     "data": {
      "text/html": [
       "<style>\n",
       "table {float:left}\n",
       "</style>\n"
      ],
      "text/plain": [
       "<IPython.core.display.HTML object>"
      ]
     },
     "metadata": {},
     "output_type": "display_data"
    }
   ],
   "source": [
    "%%html\n",
    "<style>\n",
    "table {float:left}\n",
    "</style>"
   ]
  },
  {
   "cell_type": "code",
   "execution_count": 3,
   "id": "5d0cc495",
   "metadata": {},
   "outputs": [],
   "source": [
    "def restore_windows_1252_characters(restore_string):\n",
    "    \"\"\"\n",
    "        Replace C1 control characters in the Unicode string s by the\n",
    "        characters at the corresponding code points in Windows-1252,\n",
    "        where possible.\n",
    "    \"\"\"\n",
    "\n",
    "    def to_windows_1252(match):\n",
    "        try:\n",
    "            return bytes([ord(match.group(0))]).decode('windows-1252')\n",
    "        except UnicodeDecodeError:\n",
    "            # No character at the corresponding code point: remove it.\n",
    "            return ''\n",
    "        \n",
    "    return re.sub(r'[\\u0080-\\u0099]', to_windows_1252, restore_string)"
   ]
  },
  {
   "cell_type": "markdown",
   "id": "4c0b45a2",
   "metadata": {},
   "source": [
    "# Global Constant"
   ]
  },
  {
   "cell_type": "code",
   "execution_count": 4,
   "id": "faac3969",
   "metadata": {},
   "outputs": [
    {
     "data": {
      "text/plain": [
       "<re.Match object; span=(0, 9), match=' -123.12 '>"
      ]
     },
     "execution_count": 4,
     "metadata": {},
     "output_type": "execute_result"
    }
   ],
   "source": [
    "# regexp to extract numeric string\n",
    "REGEXP_NUMERIC = re.compile(r\"\\s*[\\d.-]*\\s*\")\n",
    "\n",
    "re.match(REGEXP_NUMERIC, \" -123.12 \")"
   ]
  },
  {
   "cell_type": "code",
   "execution_count": 5,
   "id": "c32a1aee",
   "metadata": {},
   "outputs": [],
   "source": [
    "FS_TYPE_10K = \"10-K\"\n",
    "FS_TYPE_10Q = \"10-Q\""
   ]
  },
  {
   "cell_type": "markdown",
   "id": "54e42be6",
   "metadata": {},
   "source": [
    "---\n",
    "# Load EDGAR Filing XBRL\n",
    "\n",
    "Download the ```_htm.xml``` file from EDGAR. SEC now requires user-agent header."
   ]
  },
  {
   "cell_type": "code",
   "execution_count": 6,
   "id": "e58f4f7c",
   "metadata": {},
   "outputs": [
    {
     "data": {
      "text/plain": [
       "'https://www.sec.gov/Archives/edgar/data/1047127/000104712721000043/amkr-20210930_htm.xml'"
      ]
     },
     "execution_count": 6,
     "metadata": {},
     "output_type": "execute_result"
    }
   ],
   "source": [
    "# AMKOR 2021 10K\n",
    "CIK = '1047127'\n",
    "ACCESSION = '000104712721000043'\n",
    "FS_TYPE = FS_TYPE_10Q\n",
    "\n",
    "FILING_DIR_URL = f\"https://www.sec.gov/Archives/edgar/data/{CIK}/{ACCESSION}\"\n",
    "XBRL_NAME = \"amkr-20210930_htm.xml\"\n",
    "XBRL_URL = \"/\".join([FILING_DIR_URL, XBRL_NAME])\n",
    "\n",
    "XBRL_URL"
   ]
  },
  {
   "cell_type": "code",
   "execution_count": 7,
   "id": "b5a6b94f",
   "metadata": {},
   "outputs": [
    {
     "data": {
      "text/plain": [
       "'https://www.sec.gov/Archives/edgar/data/0001000230/000143774921028951/occ20211031_10k_htm.xml'"
      ]
     },
     "execution_count": 7,
     "metadata": {},
     "output_type": "execute_result"
    }
   ],
   "source": [
    "# OPTICAL CABLE CORPORATION 10-K for the fiscal year ended October 31, 2021\n",
    "CIK = '0001000230'\n",
    "ACCESSION = '000143774921028951'\n",
    "FS_TYPE = FS_TYPE_10K\n",
    "\n",
    "FILING_DIR_URL = f\"https://www.sec.gov/Archives/edgar/data/{CIK}/{ACCESSION}\"\n",
    "XBRL_NAME = \"occ20211031_10k_htm.xml\"\n",
    "XBRL_URL = \"/\".join([FILING_DIR_URL, XBRL_NAME])\n",
    "\n",
    "XBRL_URL"
   ]
  },
  {
   "cell_type": "code",
   "execution_count": 8,
   "id": "835ee3d4",
   "metadata": {},
   "outputs": [
    {
     "data": {
      "text/plain": [
       "'https://www.sec.gov/Archives/edgar/data/1604778/000160477821000032/rfmd-20210403_htm.xml'"
      ]
     },
     "execution_count": 8,
     "metadata": {},
     "output_type": "execute_result"
    }
   ],
   "source": [
    "# QORVO 2021 10K\n",
    "CIK = '1604778'\n",
    "ACCESSION = '000160477821000032'\n",
    "FS_TYPE = FS_TYPE_10K\n",
    "\n",
    "FILING_DIR_URL = f\"https://www.sec.gov/Archives/edgar/data/{CIK}/{ACCESSION}\"\n",
    "XBRL_NAME = \"rfmd-20210403_htm.xml\"\n",
    "XBRL_URL = \"/\".join([FILING_DIR_URL, XBRL_NAME])\n",
    "\n",
    "XBRL_URL"
   ]
  },
  {
   "cell_type": "code",
   "execution_count": 9,
   "id": "48d20454",
   "metadata": {},
   "outputs": [
    {
     "data": {
      "text/plain": [
       "'https://www.sec.gov/Archives/edgar/data/29002/000156459021007008/diod-10k_20201231_htm.xml'"
      ]
     },
     "execution_count": 9,
     "metadata": {},
     "output_type": "execute_result"
    }
   ],
   "source": [
    "# DIOD 2020 10K\n",
    "CIK = '29002'\n",
    "ACCESSION = '000156459021007008'\n",
    "FS_TYPE = FS_TYPE_10K\n",
    "\n",
    "FILING_DIR_URL = f\"https://www.sec.gov/Archives/edgar/data/{CIK}/{ACCESSION}\"\n",
    "XBRL_NAME = \"diod-10k_20201231_htm.xml\"\n",
    "XBRL_URL = \"/\".join([FILING_DIR_URL, XBRL_NAME])\n",
    "\n",
    "XBRL_URL"
   ]
  },
  {
   "cell_type": "code",
   "execution_count": 10,
   "id": "5c791def",
   "metadata": {},
   "outputs": [],
   "source": [
    "headers = {\"User-Agent\": \"Company Name myname@company.com\"}\n",
    "response = requests.get(XBRL_URL, headers=headers)\n",
    "\n",
    "if response.status_code == 200:\n",
    "    content = response.content.decode(\"utf-8\") \n",
    "else:\n",
    "    assert False, f\"{XBRL_URL} failed with status {response.status_code}\""
   ]
  },
  {
   "cell_type": "code",
   "execution_count": 11,
   "id": "15f4f874",
   "metadata": {},
   "outputs": [],
   "source": [
    "soup = BeautifulSoup(content, 'html.parser')"
   ]
  },
  {
   "cell_type": "markdown",
   "id": "9c96339c",
   "metadata": {},
   "source": [
    "## Repoting period\n",
    "\n",
    "Each 10-K and 10-Q XBRL has the reporting period for the filing. To exclude the other period, e.g. pervious year or quarter, use the ```context id``` for the reporting period. **Most** 10-K, 10-Q specify the annual period with the first ```<startDate> and <endDate>``` tags.\n",
    "\n",
    "For instances:\n",
    "\n",
    "### QRVO 10-K 2020\n",
    "\n",
    "```\n",
    "<context id=\"ifb6ce67cf6954ebf88471dd82daa9247_D20200329-20210403\">\n",
    "    <entity>\n",
    "    <identifier scheme=\"http://www.sec.gov/CIK\">0001604778</identifier>\n",
    "    </entity>\n",
    "    <period>\n",
    "        <startDate>2020-03-29</startDate>\n",
    "        <endDate>2021-04-03</endDate>\n",
    "    </period>\n",
    "</context>\n",
    "```\n",
    "\n",
    "### AMKR 10-K 2020\n",
    "\n",
    "```\n",
    "<context id=\"i5fac0a392353427b8266f185495754d3_D20200101-20201231\">\n",
    "    <entity>\n",
    "    <identifier scheme=\"http://www.sec.gov/CIK\">0001047127</identifier>\n",
    "    </entity>\n",
    "    <period>\n",
    "        <startDate>2020-01-01</startDate>\n",
    "        <endDate>2020-12-31</endDate>\n",
    "    </period>\n",
    "</context>\n",
    "```\n",
    "\n",
    "### AAPL 10-Q 4th QTR 2020\n",
    "\n",
    "```\n",
    "<context id=\"i6e431846933d461fb8c8c0bdf98c9758_D20200927-20201226\">\n",
    "    <entity>\n",
    "    <identifier scheme=\"http://www.sec.gov/CIK\">0000320193</identifier>\n",
    "    </entity>\n",
    "    <period>\n",
    "        <startDate>2020-09-27</startDate>\n",
    "        <endDate>2020-12-26</endDate>\n",
    "    </period>\n",
    "</context>\n",
    "```\n",
    "\n",
    "**However, there are companies that do not have this manner**. For instance [10-K for OPTICAL CABLE CORPORATION(CIK=0001000230)](https://www.sec.gov/Archives/edgar/data/1000230/000143774921028951/occ20211031_10k_htm.xml) has the same start and end dates at first.\n",
    "\n",
    "```\n",
    "<context id=\"d202110K\">\n",
    "\t<entity>\n",
    "\t\t<identifier scheme=\"http://www.sec.gov/CIK\">0001000230</identifier>\n",
    "\t</entity>\n",
    "\t<period>\n",
    "\t\t<startDate>2021-10-31</startDate>   # <-----\n",
    "\t\t<endDate>2021-10-31</endDate>\n",
    "\t</period>\n",
    "</context>\n",
    "<context id=\"d_2020-11-01_2021-10-31\">\n",
    "\t<entity>\n",
    "\t\t<identifier scheme=\"http://www.sec.gov/CIK\">0001000230</identifier>\n",
    "\t</entity>\n",
    "\t<period>\n",
    "\t\t<startDate>2020-11-01</startDate>   # <-----\n",
    "\t\t<endDate>2021-10-31</endDate>\n",
    "\t</period>\n",
    "</context>\n",
    "```\n",
    "\n",
    "The report uses the 2nd for 2021 F/S element value but does not use the first one.\n",
    "\n",
    "**B/S**\n",
    "```\n",
    "<us-gaap:Assets \n",
    "    contextRef=\"i_2021-10-31\"    # <-----\n",
    "    decimals=\"INF\" \n",
    "    id=\"c79893606\" \n",
    "    unitRef=\"USD\"\n",
    ">\n",
    "  37916530\n",
    "</us-gaap:Assets>\n",
    "```\n",
    "\n",
    "**P/L**\n",
    "```\n",
    "<us-gaap:RevenueFromContractWithCustomerIncludingAssessedTax \n",
    "  contextRef=\"d_2020-11-01_2021-10-31\"     # <-----\n",
    "  decimals=\"INF\" \n",
    "  id=\"c79893662\" \n",
    "  unitRef=\"USD\"\n",
    ">\n",
    "  59136294\n",
    "</us-gaap:RevenueFromContractWithCustomerIncludingAssessedTax>\n",
    "```\n",
    "\n",
    "<img src='../image/edgar_optical_cable_2021_10K.png' align=\"left\" width=500/>"
   ]
  },
  {
   "cell_type": "markdown",
   "id": "5968b880",
   "metadata": {},
   "source": [
    "### Get the period from the 1st\n",
    "\n",
    "For now, just get the period from the 1st **period** element."
   ]
  },
  {
   "cell_type": "code",
   "execution_count": 12,
   "id": "4e53dcfa",
   "metadata": {},
   "outputs": [],
   "source": [
    "def get_period(soup):\n",
    "    \"\"\"Identify the report period (end date) from the first context tag in the statement.\n",
    "    <context id=\"ifb6ce67cf6954ebf88471dd82daa9247_D20200329-20210403\">\n",
    "        <entity>\n",
    "        <identifier scheme=\"http://www.sec.gov/CIK\">0001604778</identifier>\n",
    "        </entity>\n",
    "        <period>\n",
    "            <startDate>2020-03-29</startDate>\n",
    "            <endDate>2021-04-03</endDate>        # <-----\n",
    "        </period>\n",
    "    </context>\n",
    "    Returns: reporting period e.g. \"2021-09-30\"\n",
    "    \"\"\"\n",
    "    first_context = None\n",
    "    for context in soup.find_all('context'):\n",
    "        if context.find('period') and context.find('period').find('enddate'):\n",
    "            first_context = context\n",
    "            break      \n",
    "        \n",
    "    assert first_context is not None, \"No period found\"\n",
    "    period = first_context.find('period').find('enddate').text.strip()\n",
    "    \n",
    "    try:\n",
    "        dateutil.parser.parse(period)\n",
    "    except ValueError as e:\n",
    "        assert False, f\"Invalid period {period} found.\"\n",
    "            \n",
    "    return period"
   ]
  },
  {
   "cell_type": "code",
   "execution_count": 13,
   "id": "0629a12d",
   "metadata": {},
   "outputs": [
    {
     "data": {
      "text/plain": [
       "'2020-12-31'"
      ]
     },
     "execution_count": 13,
     "metadata": {},
     "output_type": "execute_result"
    }
   ],
   "source": [
    "PERIOD = get_period(soup)\n",
    "PERIOD"
   ]
  },
  {
   "cell_type": "markdown",
   "id": "a4bc1c5d",
   "metadata": {},
   "source": [
    "### Regexp to find all the contexts that match with PERIOD\n",
    "\n",
    "10-K, 10-Q F/S uses multiple contexts to refer to the F/S element values for the **period**. Collect all the contexts for the **period**."
   ]
  },
  {
   "cell_type": "code",
   "execution_count": 14,
   "id": "0d346d70",
   "metadata": {},
   "outputs": [],
   "source": [
    "def get_target_contexts(soup, period, type=FS_TYPE_10K):\n",
    "    target_contexts = []\n",
    "\n",
    "    end_date = dateutil.parser.parse(period)\n",
    "    duration = datetime.timedelta(days=365) if type == FS_TYPE_10K else datetime.timedelta(days=90)\n",
    "\n",
    "    # The StartDate of the valid context is within +/- 30 days of the starting date of the period.\n",
    "    # If the report is 10-K and the period end is 2021-10-31, then the validate date is between\n",
    "    # 2020-10-1 and 2020-11-1\n",
    "    from_date = end_date - duration - datetime.timedelta(days=30)\n",
    "    to_date = end_date - duration + datetime.timedelta(days=30)\n",
    "\n",
    "    # Contexts with startdate/enddate\n",
    "    for context in soup.find_all('context'):\n",
    "        if context.find('period') and context.find('period').find('enddate', string=period):\n",
    "            start = dateutil.parser.parse(context.find('period').find('startdate').text)\n",
    "            if start == end_date or (from_date < start and start < to_date):\n",
    "                target_contexts.append(context)\n",
    "\n",
    "    \n",
    "    # Contexts with 'instant' element\n",
    "    target_contexts.extend([\n",
    "        context for context in soup.find_all('context') \n",
    "        if context.find('period') and context.find('period').find(['instant'], string=PERIOD)\n",
    "    ])\n",
    "    \n",
    "    return target_contexts"
   ]
  },
  {
   "cell_type": "code",
   "execution_count": 15,
   "id": "ab8156b4",
   "metadata": {},
   "outputs": [],
   "source": [
    "# get_target_contexts(soup, PERIOD)"
   ]
  },
  {
   "cell_type": "code",
   "execution_count": 16,
   "id": "7c052c67",
   "metadata": {},
   "outputs": [],
   "source": [
    "def get_target_context_ids(soup, period, type=FS_TYPE_10K):\n",
    "    target_contexts = []\n",
    "\n",
    "    end_date = dateutil.parser.parse(period)\n",
    "    duration = datetime.timedelta(days=365) if type == FS_TYPE_10K else datetime.timedelta(days=90)\n",
    "\n",
    "    # The StartDate of the valid context is within +/- 30 days of the starting date of the period.\n",
    "    # If the report is 10-K and the period end is 2021-10-31, then the validate date is between\n",
    "    # 2020-10-1 and 2020-11-1\n",
    "    from_date = end_date - duration - datetime.timedelta(days=30)\n",
    "    to_date = end_date - duration + datetime.timedelta(days=30)\n",
    "\n",
    "    # Contexts with startdate/enddate\n",
    "    for context in soup.find_all('context'):\n",
    "        # print(\"-\"*100)\n",
    "        # print(context)\n",
    "        if context.find('period') and context.find('period').find('enddate', string=period):\n",
    "            start = dateutil.parser.parse(context.find('period').find('startdate').text)\n",
    "            if start == end_date or (from_date < start and start < to_date):\n",
    "                target_contexts.append(context['id'])\n",
    "\n",
    "    \n",
    "    # Contexts with 'instant' element\n",
    "    target_contexts.extend([\n",
    "        context['id'] for context in soup.find_all('context') \n",
    "        if context.find('period') and context.find('period').find(['instant'], string=PERIOD)\n",
    "    ])\n",
    "    \n",
    "    return target_contexts"
   ]
  },
  {
   "cell_type": "markdown",
   "id": "b9fc10ed",
   "metadata": {},
   "source": [
    "# Constant"
   ]
  },
  {
   "cell_type": "code",
   "execution_count": 17,
   "id": "517de640",
   "metadata": {},
   "outputs": [],
   "source": [
    "# XBRL Namespace\n",
    "NAMESPACE = \"us-gaap\""
   ]
  },
  {
   "cell_type": "code",
   "execution_count": 18,
   "id": "205a93e7",
   "metadata": {},
   "outputs": [],
   "source": [
    "ELEMENT_TYPE_DEBIT = 'debit'\n",
    "ELEMENT_TYPE_CREDIT = 'credit'\n",
    "ELEMENT_TYPE_CALC = 'calc'      # calculated value e.g. sub total \n",
    "ELEMENT_TYPE_METRIC = 'metric'  # metrics e.g. EPS\n",
    "ELEMENT_TYPE_FACT = 'fact'\n",
    "\n",
    "CREDIT_ITEMS = set(map(str.lower, [\n",
    "    # P/L\n",
    "    f\"{NAMESPACE}:Revenues\",\n",
    "    f\"{NAMESPACE}:RevenueFromContractWithCustomerExcludingAssessedTax\",\n",
    "    f\"{NAMESPACE}:DeferredRevenue\",\n",
    "    f\"{NAMESPACE}:RevenueMineralSales\",\n",
    "    f\"{NAMESPACE}:DeferredRevenueCurrent\",\n",
    "    f\"{NAMESPACE}:HealthCareOrganizationRevenue\",\n",
    "    f\"{NAMESPACE}:SalesRevenueGoodsGross\",\n",
    "    f\"{NAMESPACE}:RealEstateRevenueNet\",\n",
    "    f\"{NAMESPACE}:SalesOfRealEstate\",\n",
    "    f\"{NAMESPACE}:AdvertisingRevenue\",\n",
    "    f\"{NAMESPACE}:ElectricalGenerationRevenue\",\n",
    "    f\"{NAMESPACE}:ContractsRevenue\",\n",
    "    f\"{NAMESPACE}:AdmissionsRevenue\",\n",
    "    f\"{NAMESPACE}:InsuranceServicesRevenue\",\n",
    "    f\"{NAMESPACE}:BrokerageCommissionsRevenue\",\n",
    "    f\"{NAMESPACE}:OtherNonoperatingIncomeExpense\",  # Why this is in credit?\n",
    "    f\"{NAMESPACE}:CashAndCashEquivalentsAtCarryingValue\",\n",
    "    f\"{NAMESPACE}:OtherAlternativeEnergySalesRevenue\",\n",
    "    f\"{NAMESPACE}:RegulatedAndUnregulatedOperatingRevenue\",\n",
    "    \n",
    "    # B/S (Assets)\n",
    "    f\"{NAMESPACE}:RestrictedCashEquivalentsCurrent\",\n",
    "    f\"{NAMESPACE}:ShortTermInvestments\",\n",
    "    f\"{NAMESPACE}:ReceivablesNetCurrent\",\n",
    "    f\"{NAMESPACE}:InventoryNet\",\n",
    "    f\"{NAMESPACE}:PrepaidExpenseAndOtherAssetsCurrent\",\n",
    "    f\"{NAMESPACE}:PropertyPlantAndEquipmentNet\",\n",
    "    f\"{NAMESPACE}:DeferredIncomeTaxAssetsNet\",\n",
    "    f\"{NAMESPACE}:GoodWill\",\n",
    "    f\"{NAMESPACE}:IntangibleAssetsNetExcludingGoodwill\",\n",
    "    f\"{NAMESPACE}:OtherAssetsNoncurrent\",\n",
    "    \n",
    "    \n",
    "]))\n",
    "\n",
    "DEBIT_ITEMS = set(map(str.lower, [\n",
    "    # P/L\n",
    "    f\"{NAMESPACE}:CostOfRevenue\",\n",
    "    f\"{NAMESPACE}:CostOfGoods\",\n",
    "    f\"{NAMESPACE}:CostOfGoodsAndServicesSold\",\n",
    "    f\"{NAMESPACE}:CostOfServicesLicensesAndServices\",\n",
    "    f\"{NAMESPACE}:ContractRevenueCost\",\n",
    "    f\"{NAMESPACE}:LicenseCosts\",\n",
    "    f\"{NAMESPACE}:ResearchAndDevelopmentExpense\",\n",
    "    f\"{NAMESPACE}:SellingGeneralAndAdministrativeExpense\",\n",
    "    f\"{NAMESPACE}:OtherCostAndExpenseOperating\",\n",
    "    f\"{NAMESPACE}:IncomeTaxExpenseBenefit\",\n",
    "    f\"{NAMESPACE}:InterestExpense\",\n",
    "    \n",
    "    # B/S (Liabilities)\n",
    "    f\"{NAMESPACE}:AccountsPayableCurrent\",\n",
    "    f\"{NAMESPACE}:AccruedLiabilitiesCurrent\",\n",
    "    f\"{NAMESPACE}:TaxesPayableCurrent\",\n",
    "    f\"{NAMESPACE}:LongTermDebtCurrent\",\n",
    "    f\"{NAMESPACE}:LongTermLoansFromBank\",\n",
    "    f\"{NAMESPACE}:DeferredIncomeTaxLiabilitiesNet\",\n",
    "    f\"{NAMESPACE}:OtherLiabilitiesNoncurrent\",\n",
    "    # B/S (SE)\n",
    "    f\"{NAMESPACE}:AdditionalPaidInCapitalCommonStock\",\n",
    "    f\"{NAMESPACE}:RetainedEarningsAppropriated\",\n",
    "    f\"{NAMESPACE}:AccumulatedOtherComprehensiveIncomeLossNetOfTax\",\n",
    "    f\"{NAMESPACE}:MinorityInterest\",\n",
    "    \n",
    "]))\n",
    "\n",
    "CALC_ITEMS = set(map(str.lower, [\n",
    "    # P/L\n",
    "    f\"{NAMESPACE}:OperatingExpenses\",\n",
    "    f\"{NAMESPACE}:GrossProfit\",\n",
    "    f\"{NAMESPACE}:OperatingIncomeLoss\",\n",
    "    f\"{NAMESPACE}:NetIncomeLoss\",    \n",
    "\n",
    "    # B/S (Credit)\n",
    "    f\"{NAMESPACE}:AssetsCurrent\",    \n",
    "    f\"{NAMESPACE}:Assets\",    \n",
    "    # B/S (Debit/Liabilities)\n",
    "    f\"{NAMESPACE}:LiabilitiesCurrent\",\n",
    "    f\"{NAMESPACE}:Liabilities\",\n",
    "    # B/S (Debit/SE)\n",
    "    f\"{NAMESPACE}:StockholdersEquity\",\n",
    "    f\"{NAMESPACE}:StockholdersEquityIncludingPortionAttributableToNoncontrollingInterest\",\n",
    "    f\"{NAMESPACE}:LiabilitiesAndStockholdersEquity\",\n",
    "    \n",
    "]))\n",
    "\n",
    "METRIC_ITEMS = set(map(str.lower, [\n",
    "    f\"{NAMESPACE}:EarningsPerShareBasic\",\n",
    "    f\"{NAMESPACE}:EarningsPerShareBasicAndDiluted\",\n",
    "]))\n",
    "\n",
    "FACT_ITEMS = set(map(str.lower, [\n",
    "    f\"{NAMESPACE}:SharesOutstanding\",\n",
    "    f\"{NAMESPACE}:CommonStockSharesOutstanding\",\n",
    "    f\"{NAMESPACE}:CommonStockOtherSharesOutstanding\",\n",
    "]))"
   ]
  },
  {
   "cell_type": "code",
   "execution_count": 19,
   "id": "6d1e0b89",
   "metadata": {},
   "outputs": [],
   "source": [
    "CONTEXT_REGEXP = re.compile(\"|\".join(get_target_context_ids(soup=soup, period=PERIOD, type=FS_TYPE)))"
   ]
  },
  {
   "cell_type": "markdown",
   "id": "2859eadd",
   "metadata": {},
   "source": [
    "# Utilities"
   ]
  },
  {
   "cell_type": "code",
   "execution_count": 20,
   "id": "e0650ab9",
   "metadata": {},
   "outputs": [],
   "source": [
    "def assert_bf4_tag(element):\n",
    "    assert isinstance(element, bs4.element.Tag), \\\n",
    "    f\"Expected BS4 tag but {element} of type {type(element)}\""
   ]
  },
  {
   "cell_type": "code",
   "execution_count": 21,
   "id": "06a84787",
   "metadata": {},
   "outputs": [],
   "source": [
    "def display_elements(elements):\n",
    "    assert isinstance(elements, bs4.element.ResultSet) or isinstance(elements[0], bs4.element.Tag)\n",
    "    for element in elements: # decimals=\"-3\" means the displayed value is divied by 1000.\n",
    "        print(f\"{element.name:80} {element['unitref']:5} {element['decimals']:5} {element.text:15}\")"
   ]
  },
  {
   "cell_type": "code",
   "execution_count": 22,
   "id": "df5ef477",
   "metadata": {},
   "outputs": [],
   "source": [
    "def get_element_hash(element):\n",
    "    \"\"\"Generate the financial element hash key to uniquely identify an financial element record\n",
    "    In a F/S, the same element, e.g. gaap:CashAndCashEquivalentsAtCarryingValue can be used at\n",
    "    multiple places, one in B/S and one in P/L.\n",
    "    \n",
    "    To be able to identify if two elements are the same, provides a way to be able to compare\n",
    "    two elements by generating a hash key from the attributes of an element.\n",
    "    \n",
    "    Args:\n",
    "        element: bs4.element.Tag for an financial element\n",
    "    Returns: hash key\n",
    "    \"\"\"\n",
    "    assert isinstance(element, bs4.element.Tag)\n",
    "    # key = f\"{element.name}{element['unitref']}{element['contextref']}{element.text}\"\n",
    "    # key = f\"{element.name}{element['unitref']}{element.text}\"\n",
    "    key = f\"{element.name}{element['unitref']}\"\n",
    "    return hash(key)"
   ]
  },
  {
   "cell_type": "code",
   "execution_count": 23,
   "id": "8f40389a",
   "metadata": {},
   "outputs": [],
   "source": [
    "# XBRL attribute conditions to match when extracting FS elements\n",
    "ATTRIBUTES = {\n",
    "    \"contextref\": CONTEXT_REGEXP,\n",
    "    \"decimals\": True, \n",
    "    \"unitref\": True\n",
    "}\n",
    "\n",
    "\n",
    "def find_financial_elements(soup, element_names, attributes=ATTRIBUTES):\n",
    "    \"\"\"Find the financial statement elements from the XML/HTML source.\n",
    "    Args:\n",
    "        soup: BS4 source\n",
    "        element_names: String or regexp instance to select the financial elements.\n",
    "        attribute: tag attributes to select the financial elements\n",
    "    Returns:\n",
    "        List of BS4 tag objects that matched the element_names and attributes.\n",
    "    \"\"\"\n",
    "    assert isinstance(soup, BeautifulSoup)\n",
    "    assert isinstance(element_names, re.Pattern) or isinstance(element_names, str)\n",
    "\n",
    "    \n",
    "    names = element_names.lower() if isinstance(element_names, str) else element_names\n",
    "\n",
    "    elements = soup.find_all(\n",
    "        name=names,\n",
    "        string=REGEXP_NUMERIC,\n",
    "        attrs=attributes\n",
    "    )\n",
    "    \n",
    "    # Select unique elements\n",
    "    hashes = set([]) \n",
    "    results = []\n",
    "    if elements is not None and len(elements) > 0:\n",
    "        for element in elements:\n",
    "            hash_value = get_element_hash(element)\n",
    "            if hash_value not in hashes:\n",
    "                results.append(element) \n",
    "                hashes.add(hash_value)\n",
    "\n",
    "    return results"
   ]
  },
  {
   "cell_type": "code",
   "execution_count": 24,
   "id": "be2ede0a",
   "metadata": {},
   "outputs": [
    {
     "name": "stdout",
     "output_type": "stream",
     "text": [
      "us-gaap:commonstockparorstatedvaluepershare\n",
      "us-gaap:sharebasedcompensationarrangementbysharebasedpaymentawardoptionsexercisablenumber\n",
      "us-gaap:sharebasedcompensationarrangementbysharebasedpaymentawardoptionsexercisableweightedaverageexerciseprice\n",
      "us-gaap:sharebasedcompensationarrangementbysharebasedpaymentawardoptionsexercisableintrinsicvalue1\n",
      "us-gaap:sharebasedcompensationsharesauthorizedunderstockoptionplansexercisepricerangeupperrangelimit\n",
      "us-gaap:sharebasedcompensationsharesauthorizedunderstockoptionplansexercisepricerangelowerrangelimit\n",
      "us-gaap:cashandcashequivalentsatcarryingvalue\n",
      "us-gaap:restrictedcash\n",
      "us-gaap:shortterminvestments\n",
      "us-gaap:allowancefornotesandloansreceivablecurrent\n",
      "us-gaap:receivablesnetcurrent\n",
      "us-gaap:inventorynet\n",
      "us-gaap:prepaidexpenseandotherassetscurrent\n",
      "us-gaap:assetscurrent\n",
      "us-gaap:propertyplantandequipmentnet\n",
      "us-gaap:deferredincometaxassetsnet\n",
      "us-gaap:goodwill\n",
      "us-gaap:intangibleassetsnetexcludinggoodwill\n",
      "us-gaap:otherassetsnoncurrent\n",
      "us-gaap:assets\n",
      "us-gaap:linesofcreditcurrent\n",
      "us-gaap:accountspayablecurrent\n",
      "us-gaap:accruedliabilitiescurrent\n",
      "us-gaap:taxespayablecurrent\n",
      "us-gaap:longtermdebtcurrent\n",
      "us-gaap:liabilitiescurrent\n",
      "us-gaap:longtermloansfrombank\n",
      "us-gaap:deferredincometaxliabilitiesnet\n",
      "us-gaap:otherliabilitiesnoncurrent\n",
      "us-gaap:liabilities\n",
      "us-gaap:preferredstockparorstatedvaluepershare\n",
      "us-gaap:preferredstocksharesauthorized\n",
      "us-gaap:preferredstocksharesissued\n",
      "us-gaap:preferredstocksharesoutstanding\n",
      "us-gaap:commonstocksharesauthorized\n",
      "us-gaap:commonstocksharesissued\n",
      "us-gaap:commonstocksharesoutstanding\n",
      "us-gaap:commonstockvalue\n",
      "us-gaap:additionalpaidincapitalcommonstock\n",
      "us-gaap:retainedearningsappropriated\n",
      "us-gaap:treasurystockvalue\n",
      "us-gaap:accumulatedothercomprehensiveincomelossnetoftax\n",
      "us-gaap:stockholdersequity\n",
      "us-gaap:minorityinterest\n",
      "us-gaap:stockholdersequityincludingportionattributabletononcontrollinginterest\n",
      "us-gaap:liabilitiesandstockholdersequity\n",
      "us-gaap:revenuefromcontractwithcustomerexcludingassessedtax\n",
      "us-gaap:costofgoodsandservicessold\n",
      "us-gaap:grossprofit\n",
      "us-gaap:sellinggeneralandadministrativeexpense\n",
      "us-gaap:researchanddevelopmentexpense\n",
      "us-gaap:amortizationofacquisitioncosts\n",
      "us-gaap:gainlossondispositionofassets1\n",
      "us-gaap:otheroperatingincomeexpensenet\n",
      "us-gaap:operatingexpenses\n",
      "us-gaap:operatingincomeloss\n",
      "us-gaap:interestanddividendincomesecuritiesother\n",
      "us-gaap:interestexpense\n",
      "us-gaap:foreigncurrencytransactiongainlossbeforetax\n",
      "us-gaap:othernonoperatingincomeexpense\n",
      "us-gaap:nonoperatingincomeexpense\n",
      "us-gaap:incomelossfromcontinuingoperationsbeforeincometaxesextraordinaryitemsnoncontrollinginterest\n",
      "us-gaap:incometaxexpensebenefit\n",
      "us-gaap:profitloss\n",
      "us-gaap:netincomelossattributabletononcontrollinginterest\n",
      "us-gaap:netincomeloss\n",
      "us-gaap:earningspersharebasic\n",
      "us-gaap:earningspersharediluted\n",
      "us-gaap:weightedaveragenumberofsharesoutstandingbasic\n",
      "us-gaap:weightedaveragenumberofdilutedsharesoutstanding\n",
      "us-gaap:othercomprehensiveincomelosspensionandotherpostretirementbenefitplansadjustmentnetoftax\n",
      "us-gaap:othercomprehensiveincomeunrealizedgainlossonderivativesarisingduringperiodnetoftax\n",
      "us-gaap:foreigncurrencytransactiongainlossunrealized\n",
      "us-gaap:comprehensiveincomenetoftaxincludingportionattributabletononcontrollinginterest\n",
      "us-gaap:comprehensiveincomenetoftaxattributabletononcontrollinginterest\n",
      "us-gaap:comprehensiveincomenetoftax\n",
      "us-gaap:noncontrollinginterestincreasefromsubsidiaryequityissuance\n",
      "us-gaap:minorityinterestdecreasefromdistributionstononcontrollinginterestholders\n",
      "us-gaap:stockissuedduringperiodsharessharebasedcompensation\n",
      "us-gaap:stockissuedduringperiodvaluesharebasedcompensation\n",
      "us-gaap:adjustmentstoadditionalpaidincapitalsharebasedcompensationrequisiteserviceperiodrecognitionvalue\n",
      "us-gaap:adjustmentstoadditionalpaidincapitalincometaxdeficiencyfromsharebasedcompensation\n",
      "us-gaap:stockrepurchasedandretiredduringperiodshares\n",
      "us-gaap:stockrepurchasedandretiredduringperiodvalue\n",
      "us-gaap:depreciation\n",
      "us-gaap:amortizationofintangibleassets\n",
      "us-gaap:amortizationoffinancingcosts\n",
      "us-gaap:sharebasedcompensation\n",
      "us-gaap:gainlossonsaleofpropertyplantequipment\n",
      "us-gaap:increasedecreaseindeferredincometaxes\n",
      "us-gaap:othernoncashincomeexpense\n",
      "us-gaap:increasedecreaseinaccountsreceivable\n",
      "us-gaap:increasedecreaseininventories\n",
      "us-gaap:increasedecreaseinprepaiddeferredexpenseandotherassets\n",
      "us-gaap:increasedecreaseinaccountspayable\n",
      "us-gaap:increasedecreaseinaccruedliabilities\n",
      "us-gaap:increasedecreaseinotheroperatingliabilities\n",
      "us-gaap:increasedecreaseinaccruedincometaxespayable\n",
      "us-gaap:netcashprovidedbyusedinoperatingactivities\n",
      "us-gaap:paymentstoacquirebusinessesnetofcashacquired\n",
      "us-gaap:paymentstoacquireshortterminvestments\n",
      "us-gaap:proceedsfromsaleofshortterminvestments\n",
      "us-gaap:paymentstoacquireavailableforsalesecuritiesequity\n",
      "us-gaap:paymentstoacquirepropertyplantandequipment\n",
      "us-gaap:proceedsfromsaleofpropertyplantandequipment\n",
      "us-gaap:paymentsforproceedsfromotherinvestingactivities\n",
      "us-gaap:netcashprovidedbyusedininvestingactivities\n",
      "us-gaap:proceedsfromlinesofcredit\n",
      "us-gaap:repaymentsoflinesofcredit\n",
      "us-gaap:proceedsfromissuanceoflongtermdebt\n",
      "us-gaap:repaymentsoflongtermdebt\n",
      "us-gaap:paymentsofdebtissuancecosts\n",
      "us-gaap:proceedsfromissuanceofcommonstock\n",
      "us-gaap:proceedsfromminorityshareholders\n",
      "us-gaap:paymentsofdividendsminorityinterest\n",
      "us-gaap:paymentsforrepurchaseofcommonstock\n",
      "us-gaap:paymentsrelatedtotaxwithholdingforsharebasedcompensation\n",
      "us-gaap:proceedsfrompaymentsforotherfinancingactivities\n",
      "us-gaap:netcashprovidedbyusedinfinancingactivities\n",
      "us-gaap:effectofexchangerateoncashcashequivalentsrestrictedcashandrestrictedcashequivalentsincludingdisposalgroupanddiscontinuedoperations\n",
      "us-gaap:cashcashequivalentsrestrictedcashandrestrictedcashequivalentsperiodincreasedecreaseincludingexchangerateeffect\n",
      "us-gaap:cashcashequivalentsrestrictedcashandrestrictedcashequivalentsincludingdisposalgroupanddiscontinuedoperations\n",
      "us-gaap:interestpaidnet\n",
      "us-gaap:incometaxespaid\n",
      "us-gaap:restrictedcashequivalentscurrent\n",
      "us-gaap:allowancefordoubtfulaccountsreceivable\n",
      "us-gaap:numberofoperatingsegments\n",
      "us-gaap:goodwillimpairmentloss\n",
      "us-gaap:businessacquisitionpercentageofvotinginterestsacquired\n",
      "us-gaap:businesscombinationrecognizedidentifiableassetsacquiredandliabilitiesassumedliabilities\n",
      "us-gaap:accumulatedothercomprehensiveincomelossdefinedbenefitpensionandotherpostretirementplansnetoftax\n",
      "us-gaap:incrementalcommonsharesattributabletosharebasedpaymentarrangements\n",
      "us-gaap:antidilutivesecuritiesexcludedfromcomputationofearningspershareamount\n",
      "us-gaap:longterminvestments\n",
      "us-gaap:derivativeliabilities\n",
      "us-gaap:deferredcompensationplanassets\n",
      "us-gaap:inventoryfinishedgoodsnetofreserves\n",
      "us-gaap:inventoryworkinprocessnetofreserves\n",
      "us-gaap:inventoryrawmaterialsnetofreserves\n",
      "us-gaap:buildingsandimprovementsgross\n",
      "us-gaap:machineryandequipmentgross\n",
      "us-gaap:propertyplantandequipmentgross\n",
      "us-gaap:accumulateddepreciationdepletionandamortizationpropertyplantandequipment\n",
      "us-gaap:constructioninprogressgross\n",
      "us-gaap:land\n",
      "us-gaap:finitelivedintangibleassetsgross\n",
      "us-gaap:finitelivedintangibleassetsaccumulatedamortization\n",
      "us-gaap:finitelivedintangibleassetsnet\n",
      "us-gaap:indefinitelivedintangibleassetsexcludinggoodwill\n",
      "us-gaap:intangibleassetsgrossexcludinggoodwill\n",
      "us-gaap:finitelivedintangibleassetsamortizationexpensenexttwelvemonths\n",
      "us-gaap:finitelivedintangibleassetsamortizationexpenseyeartwo\n",
      "us-gaap:finitelivedintangibleassetsamortizationexpenseyearthree\n",
      "us-gaap:finitelivedintangibleassetsamortizationexpenseyearfour\n",
      "us-gaap:finitelivedintangibleassetsamortizationexpenseyearfive\n",
      "us-gaap:finitelivedintangibleassetsamortizationexpenseafteryearfive\n",
      "us-gaap:goodwillacquiredduringperiod\n",
      "us-gaap:goodwillforeigncurrencytranslationgainloss\n",
      "us-gaap:lineofcreditfacilitymaximumborrowingcapacity\n",
      "us-gaap:lineofcreditfacilityincreasedecreaseforperiodnet\n",
      "us-gaap:lineofcreditfacilityremainingborrowingcapacity\n",
      "us-gaap:shorttermborrowings\n",
      "us-gaap:longtermdebt\n",
      "us-gaap:deferredfinancecostscurrentgross\n",
      "us-gaap:longtermdebtmaturitiesrepaymentsofprincipalinnexttwelvemonths\n",
      "us-gaap:longtermdebtmaturitiesrepaymentsofprincipalinyeartwo\n",
      "us-gaap:longtermdebtmaturitiesrepaymentsofprincipalinyearthree\n",
      "us-gaap:longtermdebtmaturitiesrepaymentsofprincipalinyearfour\n",
      "us-gaap:longtermdebtmaturitiesrepaymentsofprincipalinyearfive\n",
      "us-gaap:operatingleaseexpense\n",
      "us-gaap:financeleaserightofuseassetamortization\n",
      "us-gaap:financeleaseinterestexpense\n",
      "us-gaap:shorttermleasecost\n",
      "us-gaap:variableleasecost\n",
      "us-gaap:leasecost\n",
      "us-gaap:operatingleaserightofuseasset\n",
      "us-gaap:operatingleaseliabilitycurrent\n",
      "us-gaap:operatingleaseliabilitynoncurrent\n",
      "us-gaap:operatingleaseliability\n",
      "us-gaap:financeleaserightofuseassetaccumulatedamortization\n",
      "us-gaap:financeleaserightofuseasset\n",
      "us-gaap:financeleaseliabilitycurrent\n",
      "us-gaap:financeleaseliabilitynoncurrent\n",
      "us-gaap:financeleaseliability\n",
      "us-gaap:operatingleaseweightedaveragediscountratepercent\n",
      "us-gaap:financeleaseweightedaveragediscountratepercent\n",
      "us-gaap:operatingleasepayments\n",
      "us-gaap:financeleaseprincipalpayments\n",
      "us-gaap:rightofuseassetobtainedinexchangeforoperatingleaseliability\n",
      "us-gaap:lesseeoperatingleaseliabilitypaymentsduenexttwelvemonths\n",
      "us-gaap:financeleaseliabilitypaymentsduenexttwelvemonths\n",
      "us-gaap:lesseeoperatingleaseliabilitypaymentsdueyeartwo\n",
      "us-gaap:financeleaseliabilitypaymentsdueyeartwo\n",
      "us-gaap:lesseeoperatingleaseliabilitypaymentsdueyearthree\n",
      "us-gaap:financeleaseliabilitypaymentsdueyearthree\n",
      "us-gaap:lesseeoperatingleaseliabilitypaymentsdueyearfour\n",
      "us-gaap:financeleaseliabilitypaymentsdueyearfour\n",
      "us-gaap:lesseeoperatingleaseliabilitypaymentsdueyearfive\n",
      "us-gaap:lesseeoperatingleaseliabilitypaymentsdue\n",
      "us-gaap:financeleaseliabilitypaymentsdue\n",
      "us-gaap:lesseeoperatingleaseliabilityundiscountedexcessamount\n",
      "us-gaap:financeleaseliabilityundiscountedexcessamount\n",
      "us-gaap:accruedprofessionalfeescurrent\n",
      "us-gaap:accrualfortaxesotherthanincometaxescurrent\n",
      "us-gaap:otheraccruedliabilitiescurrent\n",
      "us-gaap:definedbenefitpensionplanliabilitiesnoncurrent\n",
      "us-gaap:deferredcompensationliabilityclassifiednoncurrent\n",
      "us-gaap:liabilityforuncertaintaxpositionsnoncurrent\n",
      "us-gaap:treasurystocksharesacquired\n",
      "us-gaap:incomelossfromcontinuingoperationsbeforeincometaxesdomestic\n",
      "us-gaap:incomelossfromcontinuingoperationsbeforeincometaxesforeign\n",
      "us-gaap:currentfederaltaxexpensebenefit\n",
      "us-gaap:currentforeigntaxexpensebenefit\n",
      "us-gaap:currentstateandlocaltaxexpensebenefit\n",
      "us-gaap:currentincometaxexpensebenefit\n",
      "us-gaap:deferredfederalincometaxexpensebenefit\n",
      "us-gaap:deferredforeignincometaxexpensebenefit\n",
      "us-gaap:deferredstateandlocalincometaxexpensebenefit\n",
      "us-gaap:deferredincometaxexpensebenefit\n",
      "us-gaap:incometaxreconciliationincometaxexpensebenefitatfederalstatutoryincometaxrate\n",
      "us-gaap:effectiveincometaxratereconciliationatfederalstatutoryincometaxrate\n",
      "us-gaap:incometaxreconciliationstateandlocalincometaxes\n",
      "us-gaap:effectiveincometaxratereconciliationstateandlocalincometaxes\n",
      "us-gaap:incometaxreconciliationforeignincometaxratedifferential\n",
      "us-gaap:effectiveincometaxratereconciliationforeignincometaxratedifferential\n",
      "us-gaap:incometaxreconciliationtaxcreditsresearch\n",
      "us-gaap:effectiveincometaxratereconciliationtaxcreditsresearch\n",
      "us-gaap:incometaxreconciliationchangeindeferredtaxassetsvaluationallowance\n",
      "us-gaap:effectiveincometaxratereconciliationchangeindeferredtaxassetsvaluationallowance\n",
      "us-gaap:incometaxreconciliationnondeductibleexpensesharebasedcompensationcost\n",
      "us-gaap:effectiveincometaxratereconciliationnondeductibleexpensesharebasedcompensationcost\n",
      "us-gaap:incometaxreconciliationotheradjustments\n",
      "us-gaap:effectiveincometaxratereconciliationotheradjustments\n",
      "us-gaap:effectiveincometaxratecontinuingoperations\n",
      "us-gaap:unrecognizedtaxbenefitsincreasesresultingfromcurrentperiodtaxpositions\n",
      "us-gaap:unrecognizedtaxbenefitsincreasesresultingfrompriorperiodtaxpositions\n",
      "us-gaap:unrecognizedtaxbenefitsdecreasesresultingfrompriorperiodtaxpositions\n",
      "us-gaap:unrecognizedtaxbenefits\n",
      "us-gaap:unrecognizedtaxbenefitsthatwouldimpacteffectivetaxrate\n",
      "us-gaap:deferredtaxassetsinventory\n",
      "us-gaap:deferredtaxassetstaxdeferredexpensereservesandaccrualsaccruedliabilities\n",
      "us-gaap:deferredtaxassetstaxcreditcarryforwardsresearch\n",
      "us-gaap:deferredtaxassetsoperatinglosscarryforwardssubjecttoexpiration\n",
      "us-gaap:deferredtaxassetspropertyplantandequipment\n",
      "us-gaap:deferredtaxassetstaxdeferredexpensecompensationandbenefitspensions\n",
      "us-gaap:deferredtaxassetsgross\n",
      "us-gaap:deferredtaxassetsvaluationallowance\n",
      "us-gaap:deferredtaxassetsnet\n",
      "us-gaap:deferredtaxliabilitiesother\n",
      "us-gaap:deferredtaxliabilities\n",
      "us-gaap:deferredtaxassetsliabilitiesnet\n",
      "us-gaap:taxcreditcarryforwardamount\n",
      "us-gaap:taxcreditcarryforwardvaluationallowance\n",
      "us-gaap:operatinglosscarryforwards\n",
      "us-gaap:operatinglosscarryforwardsvaluationallowance\n",
      "us-gaap:undistributedearningsofforeignsubsidiaries\n",
      "us-gaap:statutoryaccountingpracticesretainedearningsnotavailablefordividends\n",
      "us-gaap:incometaxholidayaggregatedollaramount\n",
      "us-gaap:definedbenefitplanservicecost\n",
      "us-gaap:definedbenefitplaninterestcost\n",
      "us-gaap:definedbenefitplanamortizationofgainslosses\n",
      "us-gaap:definedbenefitplanexpectedreturnonplanassets\n",
      "us-gaap:definedbenefitplanamortizationofpriorservicecostcredit\n",
      "us-gaap:definedbenefitplannetperiodicbenefitcost\n",
      "us-gaap:definedbenefitplanactuarialgainloss\n",
      "us-gaap:definedbenefitplanbenefitobligationbenefitspaid\n",
      "us-gaap:definedbenefitplanforeigncurrencyexchangeratechangesbenefitobligation\n",
      "us-gaap:definedbenefitplanbenefitobligation\n",
      "us-gaap:definedbenefitplancontributionsbyemployer\n",
      "us-gaap:definedbenefitplanactualreturnonplanassets\n",
      "us-gaap:definedbenefitplanplanassetsbenefitspaid\n",
      "us-gaap:definedbenefitplanplanassetsforeigncurrencytranslationgainloss\n",
      "us-gaap:definedbenefitplanfairvalueofplanassets\n",
      "us-gaap:definedbenefitplanfundedstatusofplan\n",
      "us-gaap:pensionandotherpostretirementdefinedbenefitplansliabilitiesnoncurrent\n",
      "us-gaap:othercomprehensiveincomelosspensionandotherpostretirementbenefitplansnetunamortizedgainlossarisingduringperiodbeforetax\n",
      "us-gaap:definedbenefitplanassumptionsusedcalculatingnetperiodicbenefitcostdiscountrate\n",
      "us-gaap:definedbenefitplanassumptionsusedcalculatingnetperiodicbenefitcostexpectedlongtermreturnonassets\n",
      "us-gaap:definedbenefitplanassumptionsusedcalculatingbenefitobligationdiscountrate\n",
      "us-gaap:definedbenefitplanweightedaverageassetallocations\n",
      "us-gaap:definedbenefitplanexpectedfuturebenefitpaymentsnexttwelvemonths\n",
      "us-gaap:definedbenefitplanexpectedfuturebenefitpaymentsyeartwo\n",
      "us-gaap:definedbenefitplanexpectedfuturebenefitpaymentsyearthree\n",
      "us-gaap:definedbenefitplanexpectedfuturebenefitpaymentsyearfour\n",
      "us-gaap:definedbenefitplanexpectedfuturebenefitpaymentsyearfive\n",
      "us-gaap:definedbenefitplanexpectedfuturebenefitpaymentsfivefiscalyearsthereafter\n",
      "us-gaap:foreigncurrencyexchangeratetranslation1\n",
      "us-gaap:definedbenefitplanplanassetstargetallocationpercentage\n",
      "us-gaap:definedcontributionplanmaximumannualcontributionsperemployeepercent\n",
      "us-gaap:definedcontributionplanemployermatchingcontributionpercent\n",
      "us-gaap:definedcontributionplanemployermatchingcontributionpercentofmatch\n",
      "us-gaap:definedcontributionplancostrecognized\n",
      "us-gaap:allocatedsharebasedcompensationexpense\n",
      "us-gaap:sharebasedcompensationarrangementbysharebasedpaymentawardoptionsgrantsinperiodgross\n",
      "us-gaap:proceedsfromstockoptionsexercised\n",
      "us-gaap:employeeservicesharebasedcompensationnonvestedawardstotalcompensationcostnotyetrecognized\n",
      "us-gaap:stockissuedduringperiodsharesstockoptionsexercised\n",
      "us-gaap:sharebasedcompensationarrangementsbysharebasedpaymentawardoptionsexercisesinperiodweightedaverageexerciseprice\n",
      "us-gaap:sharebasedcompensationarrangementbysharebasedpaymentawardoptionsoutstandingnumber\n",
      "us-gaap:sharebasedcompensationarrangementbysharebasedpaymentawardoptionsoutstandingweightedaverageexerciseprice\n",
      "us-gaap:sharebasedcompensationarrangementbysharebasedpaymentawardoptionsoutstandingintrinsicvalue\n",
      "us-gaap:sharebasedcompensationarrangementbysharebasedpaymentawardequityinstrumentsotherthanoptionsgrantsinperiod\n",
      "us-gaap:sharebasedcompensationarrangementbysharebasedpaymentawardequityinstrumentsotherthanoptionsgrantsinperiodweightedaveragegrantdatefairvalue\n",
      "us-gaap:sharebasedcompensationarrangementbysharebasedpaymentawardequityinstrumentsotherthanoptionsvestedinperiod\n",
      "us-gaap:sharebasedcompensationarrangementbysharebasedpaymentawardequityinstrumentsotherthanoptionsvestedinperiodweightedaveragegrantdatefairvalue\n",
      "us-gaap:sharebasedcompensationarrangementbysharebasedpaymentawardequityinstrumentsotherthanoptionsaggregateintrinsicvaluevested\n",
      "us-gaap:sharebasedcompensationarrangementbysharebasedpaymentawardequityinstrumentsotherthanoptionsnonvestednumber\n",
      "us-gaap:sharebasedcompensationarrangementbysharebasedpaymentawardequityinstrumentsotherthanoptionsnonvestedweightedaveragegrantdatefairvalue\n",
      "us-gaap:sharebasedcompensationarrangementbysharebasedpaymentawardequityinstrumentsotherthanoptionsaggregateintrinsicvaluenonvested\n",
      "us-gaap:sharebasedcompensationarrangementbysharebasedpaymentawardplanmodificationincrementalcompensationcost\n",
      "us-gaap:sharebasedcompensationarrangementbysharebasedpaymentawardequityinstrumentsotherthanoptionsvestedinperiodtotalfairvalue\n",
      "us-gaap:relatedpartytransactionexpensesfromtransactionswithrelatedparty\n",
      "us-gaap:revenuefromrelatedparties\n",
      "us-gaap:relatedpartytransactionpurchasesfromrelatedparty\n",
      "us-gaap:duefromrelatedpartiescurrent\n",
      "us-gaap:duetorelatedpartiescurrent\n",
      "us-gaap:purchasecommitmentremainingminimumamountcommitted\n",
      "us-gaap:longtermpurchasecommitmentamount\n",
      "us-gaap:foreigncurrencyfairvaluehedgederivativeatfairvaluenet\n",
      "us-gaap:derivativenotionalamount\n",
      "us-gaap:derivativeaverageforeigncurrencyoptionstrikeprice\n",
      "us-gaap:derivativeaverageforeigncurrencyoptionstrikeprice\n",
      "us-gaap:derivativeaverageforeigncurrencyoptionstrikeprice\n",
      "us-gaap:derivativeaverageforeigncurrencyoptionstrikeprice\n",
      "us-gaap:derivativeaverageforeigncurrencyoptionstrikeprice\n",
      "us-gaap:derivativeaverageforeigncurrencyoptionstrikeprice\n",
      "us-gaap:derivativenumberofinstrumentsheld\n",
      "us-gaap:othercomprehensiveincomeunrealizedgainlossonderivativesarisingduringperiodbeforetax\n",
      "us-gaap:derivativeinstrumentsgainlossreclassifiedfromaccumulatedociintoincomeeffectiveportionnet\n",
      "us-gaap:derivativeinstrumentsgainlossreclassificationfromaccumulatedocitoincomeestimatednetamounttobetransferred\n",
      "us-gaap:derivativegainlossonderivativenet\n",
      "us-gaap:collateralalreadypostedaggregatefairvalue\n",
      "us-gaap:businessacquisitionsproformarevenue\n",
      "us-gaap:businessacquisitionsproformanetincomeloss\n",
      "us-gaap:businessacquisitionproformaearningspersharebasic\n",
      "us-gaap:businessacquisitionproformaearningspersharediluted\n",
      "us-gaap:depreciationandamortization\n"
     ]
    }
   ],
   "source": [
    "for element in find_financial_elements(soup, re.compile(f\"^{NAMESPACE}:.*\"), attributes=ATTRIBUTES):\n",
    "    print(element.name)"
   ]
  },
  {
   "cell_type": "code",
   "execution_count": 25,
   "id": "9ae771a9",
   "metadata": {},
   "outputs": [],
   "source": [
    "def get_financial_element_numeric_values(elements):\n",
    "    # assert isinstance(elements, bs4.element.ResultSet) or isinstance(elements[0], bs4.element.Tag)\n",
    "    assert_bf4_tag(elements[0])\n",
    "    \n",
    "    values = []\n",
    "    for element in elements:\n",
    "        assert re.match(REGEXP_NUMERIC, element.text.strip()), f\"Element must be numeric but {element.text}\"\n",
    "        values.append(float(element.text))\n",
    "        \n",
    "    return values"
   ]
  },
  {
   "cell_type": "code",
   "execution_count": 26,
   "id": "da55f58b",
   "metadata": {},
   "outputs": [],
   "source": [
    "def get_financial_element_columns():\n",
    "    \"\"\"Financial record columns\"\"\"\n",
    "    return [\"type\", \"name\", \"unit\", \"decimals\", \"value\", \"context\"]\n",
    "\n",
    "def get_record_for_nil_elements(elements, element_type=None):\n",
    "    results = []\n",
    "    for element in elements:\n",
    "        # Type of the elemen\n",
    "        if element_type is None and element.name in DEBIT_ITEMS: element_type = ELEMENT_TYPE_DEBIT\n",
    "        if element_type is None and element.name in CREDIT_ITEMS: element_type = ELEMENT_TYPE_CREDIT\n",
    "        if element_type is None and element.name in CALC_ITEMS: element_type = ELEMENT_TYPE_CALC\n",
    "        if element_type is None and element.name in METRIC_ITEMS: element_type = ELEMENT_TYPE_METRIC\n",
    "        if element_type is None and element.name in FACT_ITEMS: element_type = ELEMENT_TYPE_FACT\n",
    "\n",
    "        # Name of the financial element\n",
    "        element_name = element.name\n",
    "\n",
    "        # Unit of the financial element\n",
    "        element_unit = element['unitref']\n",
    "\n",
    "        # Scale of the element\n",
    "        element_scale = int(element['decimals']) if element['decimals'].lower() != 'inf' else np.inf\n",
    "\n",
    "        # Value of the element\n",
    "        element_value = -np.inf\n",
    "\n",
    "        # Context ID of the element\n",
    "        element_context = element['contextref']\n",
    "\n",
    "        results.append([\n",
    "            element_type,\n",
    "            element_name,\n",
    "            element_unit, \n",
    "            element_scale, \n",
    "            element_value, \n",
    "            element_context\n",
    "        ])\n",
    "        \n",
    "    return results\n",
    "\n",
    "def get_records_for_financial_elements(elements, element_type=None):\n",
    "    \"\"\"Financial record having the columns of get_financial_element_columns\"\"\"\n",
    "    # assert isinstance(elements, bs4.element.ResultSet) or isinstance(elements[0], bs4.element.Tag)\n",
    "    assert_bf4_tag(elements[0])\n",
    "    \n",
    "    results = []\n",
    "    for element in elements:\n",
    "        # Type of the elemen\n",
    "        if element_type is None and element.name in DEBIT_ITEMS: element_type = ELEMENT_TYPE_DEBIT\n",
    "        if element_type is None and element.name in CREDIT_ITEMS: element_type = ELEMENT_TYPE_CREDIT\n",
    "        if element_type is None and element.name in CALC_ITEMS: element_type = ELEMENT_TYPE_CALC\n",
    "        if element_type is None and element.name in METRIC_ITEMS: element_type = ELEMENT_TYPE_METRIC\n",
    "        if element_type is None and element.name in FACT_ITEMS: element_type = ELEMENT_TYPE_FACT\n",
    "        \n",
    "        # Name of the financial element\n",
    "        element_name = element.name\n",
    "        \n",
    "        # Unit of the financial element\n",
    "        element_unit = element['unitref']\n",
    "        \n",
    "        # Scale of the element\n",
    "        element_scale = int(element['decimals']) if element['decimals'].lower() != 'inf' else np.inf\n",
    "            \n",
    "        # Value of the element\n",
    "        element_value = float(element.text)\n",
    "\n",
    "        # Context ID of the element\n",
    "        element_context = element['contextref']\n",
    "        \n",
    "        results.append([\n",
    "            element_type,\n",
    "            element_name,\n",
    "            element_unit, \n",
    "            element_scale, \n",
    "            element_value, \n",
    "            element_context\n",
    "        ])\n",
    "        \n",
    "    return results"
   ]
  },
  {
   "cell_type": "code",
   "execution_count": 27,
   "id": "35890027",
   "metadata": {},
   "outputs": [],
   "source": [
    "def get_records_for_financial_element_names(soup, names: List[str], element_type=None):\n",
    "    \"\"\"Get finacial records that matches the financial element names\n",
    "    \"\"\"\n",
    "    elements = find_financial_elements(soup=soup, element_names=names)\n",
    "    if len(elements) > 0:\n",
    "        display_elements(elements)\n",
    "        return get_records_for_financial_elements(elements, element_type)\n",
    "    else:\n",
    "        return get_record_for_nil_elements(elements)"
   ]
  },
  {
   "cell_type": "code",
   "execution_count": 28,
   "id": "931fed1d",
   "metadata": {},
   "outputs": [],
   "source": [
    "def get_values_for_financial_element_names(soup, names: List[str]):\n",
    "    elements = find_financial_elements(soup=soup, element_names=names)\n",
    "    if len(elements) > 0:\n",
    "        display_elements(elements)\n",
    "        return get_financial_element_numeric_values(elements)\n",
    "    else:\n",
    "        return []"
   ]
  },
  {
   "cell_type": "markdown",
   "id": "c29a5ca6",
   "metadata": {},
   "source": [
    "---\n",
    "# Shares Outstanding"
   ]
  },
  {
   "cell_type": "code",
   "execution_count": 29,
   "id": "15e1426d",
   "metadata": {},
   "outputs": [],
   "source": [
    "def get_shared_outstanding(soup):\n",
    "    names = re.compile(\"|\".join([\n",
    "        rf\"{NAMESPACE}:SharesOutstanding\",\n",
    "        rf\"{NAMESPACE}:CommonStockSharesOutstanding\",\n",
    "        rf\"{NAMESPACE}:CommonStockOtherSharesOutstanding\",\n",
    "    ]).lower())\n",
    "\n",
    "    return get_records_for_financial_element_names(soup=soup, names=names)"
   ]
  },
  {
   "cell_type": "code",
   "execution_count": 30,
   "id": "ffb12180",
   "metadata": {},
   "outputs": [
    {
     "name": "stdout",
     "output_type": "stream",
     "text": [
      "us-gaap:commonstocksharesoutstanding                                             U_xbrlishares INF   44276194       \n"
     ]
    },
    {
     "data": {
      "text/plain": [
       "[['fact',\n",
       "  'us-gaap:commonstocksharesoutstanding',\n",
       "  'U_xbrlishares',\n",
       "  inf,\n",
       "  44276194.0,\n",
       "  'C_0000029002_20201231']]"
      ]
     },
     "execution_count": 30,
     "metadata": {},
     "output_type": "execute_result"
    }
   ],
   "source": [
    "shares_outstandings = get_shared_outstanding(soup)\n",
    "shares_outstandings"
   ]
  },
  {
   "cell_type": "code",
   "execution_count": 31,
   "id": "f1a74ee5",
   "metadata": {},
   "outputs": [
    {
     "data": {
      "text/html": [
       "<div>\n",
       "<style scoped>\n",
       "    .dataframe tbody tr th:only-of-type {\n",
       "        vertical-align: middle;\n",
       "    }\n",
       "\n",
       "    .dataframe tbody tr th {\n",
       "        vertical-align: top;\n",
       "    }\n",
       "\n",
       "    .dataframe thead th {\n",
       "        text-align: right;\n",
       "    }\n",
       "</style>\n",
       "<table border=\"1\" class=\"dataframe\">\n",
       "  <thead>\n",
       "    <tr style=\"text-align: center;\">\n",
       "      <th></th>\n",
       "      <th>0</th>\n",
       "      <th>1</th>\n",
       "      <th>2</th>\n",
       "      <th>3</th>\n",
       "      <th>4</th>\n",
       "      <th>5</th>\n",
       "    </tr>\n",
       "  </thead>\n",
       "  <tbody>\n",
       "    <tr>\n",
       "      <th>0</th>\n",
       "      <td>fact</td>\n",
       "      <td>us-gaap:commonstocksharesoutstanding</td>\n",
       "      <td>U_xbrlishares</td>\n",
       "      <td>inf</td>\n",
       "      <td>44276194</td>\n",
       "      <td>C_0000029002_20201231</td>\n",
       "    </tr>\n",
       "  </tbody>\n",
       "</table>\n",
       "</div>"
      ],
      "text/plain": [
       "    0                     1                         2          3     4     \\\n",
       "0  fact  us-gaap:commonstocksharesoutstanding  U_xbrlishares inf 44276194   \n",
       "\n",
       "            5             \n",
       "0  C_0000029002_20201231  "
      ]
     },
     "execution_count": 31,
     "metadata": {},
     "output_type": "execute_result"
    }
   ],
   "source": [
    "df_ShareOutstanding = pd.DataFrame(shares_outstandings)\n",
    "df_ShareOutstanding"
   ]
  },
  {
   "cell_type": "markdown",
   "id": "e6738a3c",
   "metadata": {},
   "source": [
    "---\n",
    "# Statements of Income (P/L)"
   ]
  },
  {
   "cell_type": "code",
   "execution_count": 32,
   "id": "c913bb81",
   "metadata": {},
   "outputs": [],
   "source": [
    "PL = []"
   ]
  },
  {
   "cell_type": "markdown",
   "id": "de666426",
   "metadata": {},
   "source": [
    "## Revenues"
   ]
  },
  {
   "cell_type": "code",
   "execution_count": 33,
   "id": "177b7f5f",
   "metadata": {},
   "outputs": [],
   "source": [
    "def get_revenues(soup):\n",
    "    names = rf\"{NAMESPACE}:Revenues\".lower()\n",
    "    names = re.compile(\"|\".join([\n",
    "        rf\"^{NAMESPACE}:Revenues$\",\n",
    "        rf\"^{NAMESPACE}:RevenueFromContractWithCustomerExcludingAssessedTax$\",\n",
    "        rf\"^{NAMESPACE}:DeferredRevenue$\",\n",
    "        rf\"^{NAMESPACE}:RealEstateRevenueNet$\",\n",
    "        rf\"^{NAMESPACE}:SalesOfRealEstate$\",\n",
    "        rf\"^{NAMESPACE}:AdvertisingRevenue$\",\n",
    "        rf\"^{NAMESPACE}:ElectricalGenerationRevenue$\",\n",
    "        rf\"^{NAMESPACE}:ContractsRevenue$\",\n",
    "        rf\"^{NAMESPACE}:RevenueMineralSales$\",\n",
    "        rf\"^{NAMESPACE}:DeferredRevenueCurrent$\",\n",
    "        rf\"^{NAMESPACE}:HealthCareOrganizationRevenue$\",\n",
    "        rf\"^{NAMESPACE}:SalesRevenueGoodsGross$\",\n",
    "        rf\"^{NAMESPACE}:AdmissionsRevenue$\",\n",
    "        rf\"^{NAMESPACE}:InsuranceServicesRevenue$\",\n",
    "        rf\"^{NAMESPACE}:BrokerageCommissionsRevenue$\",\n",
    "        rf\"^{NAMESPACE}:RegulatedAndUnregulatedOperatingRevenue$\"\n",
    "        rf\"^{NAMESPACE}:OtherAlternativeEnergySalesRevenue$\",\n",
    "    ]).lower())    \n",
    "    \n",
    "    return get_records_for_financial_element_names(soup=soup, names=names)\n",
    "    "
   ]
  },
  {
   "cell_type": "code",
   "execution_count": 34,
   "id": "9a0a574e",
   "metadata": {},
   "outputs": [
    {
     "name": "stdout",
     "output_type": "stream",
     "text": [
      "us-gaap:revenuefromcontractwithcustomerexcludingassessedtax                      U_iso4217USD -3    1229215000     \n"
     ]
    }
   ],
   "source": [
    "PL += get_revenues(soup)"
   ]
  },
  {
   "cell_type": "markdown",
   "id": "68b80f19",
   "metadata": {},
   "source": [
    "## Cost of Revenues"
   ]
  },
  {
   "cell_type": "code",
   "execution_count": 35,
   "id": "53c8724f",
   "metadata": {},
   "outputs": [],
   "source": [
    "def get_cost_of_revenues(soup):\n",
    "    names = re.compile(\"|\".join([\n",
    "        rf\"^{NAMESPACE}:CostOfRevenue$\",\n",
    "        rf\"^{NAMESPACE}:CostOfGoods$\",\n",
    "        rf\"^{NAMESPACE}:CostOfGoodsAndServicesSold$\",\n",
    "        rf\"^{NAMESPACE}:ContractRevenueCost$\",\n",
    "        rf\"^{NAMESPACE}:CostOfServicesLicensesAndServices$\"\n",
    "        rf\"^{NAMESPACE}:LicenseCosts$\"\n",
    "    ]).lower())\n",
    "    return get_records_for_financial_element_names(soup=soup, names=names)"
   ]
  },
  {
   "cell_type": "code",
   "execution_count": 36,
   "id": "506d1d1c",
   "metadata": {},
   "outputs": [
    {
     "name": "stdout",
     "output_type": "stream",
     "text": [
      "us-gaap:costofgoodsandservicessold                                               U_iso4217USD -3    798094000      \n"
     ]
    }
   ],
   "source": [
    "PL += get_cost_of_revenues(soup)"
   ]
  },
  {
   "cell_type": "markdown",
   "id": "e79680c1",
   "metadata": {},
   "source": [
    "## ***___# Gross Profit___***"
   ]
  },
  {
   "cell_type": "code",
   "execution_count": 37,
   "id": "02eac748",
   "metadata": {},
   "outputs": [],
   "source": [
    "def get_gross_profit(soup):\n",
    "    names = f\"{NAMESPACE}:GrossProfit\".lower()\n",
    "    return get_records_for_financial_element_names(soup=soup, names=names)"
   ]
  },
  {
   "cell_type": "code",
   "execution_count": 38,
   "id": "287cc54d",
   "metadata": {},
   "outputs": [
    {
     "name": "stdout",
     "output_type": "stream",
     "text": [
      "us-gaap:grossprofit                                                              U_iso4217USD -3    431121000      \n"
     ]
    }
   ],
   "source": [
    "PL += get_gross_profit(soup)"
   ]
  },
  {
   "cell_type": "markdown",
   "id": "7f82df6e",
   "metadata": {},
   "source": [
    "## Operating Expenses"
   ]
  },
  {
   "cell_type": "markdown",
   "id": "78301f82",
   "metadata": {},
   "source": [
    "### Research and Development"
   ]
  },
  {
   "cell_type": "code",
   "execution_count": 39,
   "id": "93fd493a",
   "metadata": {},
   "outputs": [
    {
     "name": "stdout",
     "output_type": "stream",
     "text": [
      "us-gaap:researchanddevelopmentexpense                                            U_iso4217USD -3    94288000       \n"
     ]
    }
   ],
   "source": [
    "names = f\"{NAMESPACE}:ResearchAndDevelopmentExpense\".lower()\n",
    "PL += get_records_for_financial_element_names(soup, names)"
   ]
  },
  {
   "cell_type": "markdown",
   "id": "bd403d66",
   "metadata": {},
   "source": [
    "### Administrative Expense"
   ]
  },
  {
   "cell_type": "code",
   "execution_count": 40,
   "id": "b06a7994",
   "metadata": {},
   "outputs": [
    {
     "name": "stdout",
     "output_type": "stream",
     "text": [
      "us-gaap:sellinggeneralandadministrativeexpense                                   U_iso4217USD -3    185067000      \n"
     ]
    }
   ],
   "source": [
    "names = f\"{NAMESPACE}:SellingGeneralAndAdministrativeExpense\"\n",
    "PL += get_records_for_financial_element_names(soup, names)"
   ]
  },
  {
   "cell_type": "markdown",
   "id": "632045df",
   "metadata": {},
   "source": [
    "### Other operating expenses"
   ]
  },
  {
   "cell_type": "code",
   "execution_count": 41,
   "id": "9b7f7d4d",
   "metadata": {},
   "outputs": [
    {
     "data": {
      "text/plain": [
       "[<us-gaap:sellinggeneralandadministrativeexpense contextref=\"C_0000029002_20200101_20201231\" decimals=\"-3\" id=\"F_000133\" unitref=\"U_iso4217USD\">185067000</us-gaap:sellinggeneralandadministrativeexpense>]"
      ]
     },
     "execution_count": 41,
     "metadata": {},
     "output_type": "execute_result"
    }
   ],
   "source": [
    "find_financial_elements(soup=soup, element_names=names)"
   ]
  },
  {
   "cell_type": "code",
   "execution_count": 42,
   "id": "ce70657d",
   "metadata": {},
   "outputs": [],
   "source": [
    "names = f\"{NAMESPACE}:OtherCostAndExpenseOperating\"\n",
    "PL += get_records_for_financial_element_names(soup=soup, names=names)"
   ]
  },
  {
   "cell_type": "markdown",
   "id": "6c08132d",
   "metadata": {},
   "source": [
    "## ***___# Total Operating Expenses___***"
   ]
  },
  {
   "cell_type": "code",
   "execution_count": 43,
   "id": "22c037f8",
   "metadata": {},
   "outputs": [
    {
     "name": "stdout",
     "output_type": "stream",
     "text": [
      "us-gaap:operatingexpenses                                                        U_iso4217USD -3    296789000      \n"
     ]
    }
   ],
   "source": [
    "names = f\"{NAMESPACE}:OperatingExpenses\".lower()\n",
    "PL += get_records_for_financial_element_names(soup=soup, names=names)"
   ]
  },
  {
   "cell_type": "markdown",
   "id": "7b1d5127",
   "metadata": {},
   "source": [
    "## ***___# Operating Income___***\n",
    "\n",
    "$GrossProfit - Total Operating Expenses$"
   ]
  },
  {
   "cell_type": "code",
   "execution_count": 44,
   "id": "4e7feaa0",
   "metadata": {},
   "outputs": [],
   "source": [
    "def get_operating_income(soup):\n",
    "    names = f\"{NAMESPACE}:OperatingIncomeLoss\".lower()\n",
    "    return get_records_for_financial_element_names(soup=soup, names=names)"
   ]
  },
  {
   "cell_type": "code",
   "execution_count": 45,
   "id": "1548742d",
   "metadata": {},
   "outputs": [
    {
     "name": "stdout",
     "output_type": "stream",
     "text": [
      "us-gaap:operatingincomeloss                                                      U_iso4217USD -3    134332000      \n"
     ]
    }
   ],
   "source": [
    "PL += get_operating_income(soup)"
   ]
  },
  {
   "cell_type": "markdown",
   "id": "4294aaaf",
   "metadata": {},
   "source": [
    "## Other Expenses"
   ]
  },
  {
   "cell_type": "markdown",
   "id": "c401d88e",
   "metadata": {},
   "source": [
    "### Interest Expense\n",
    "\n",
    "* [Investopedia - What Is an Interest Expense?](https://www.investopedia.com/terms/i/interestexpense.asp)\n",
    "\n",
    "> An interest expense is the cost incurred by an entity for borrowed funds. Interest expense is a non-operating expense shown on the income statement. It represents interest payable on any borrowings – bonds, loans, convertible debt or lines of credit. It is essentially calculated as the interest rate times the outstanding principal amount of the debt. Interest expense on the income statement represents ***interest accrued during the period*** covered by the financial statements, and **NOT the amount of interest paid over that period**. While interest expense is tax-deductible for companies, in an individual's case, it depends on his or her jurisdiction and also on the loan's purpose.  \n",
    ">\n",
    "> For most people, mortgage interest is the single-biggest category of interest expense over their lifetimes as interest can total tens of thousands of dollars over the life of a mortgage as illustrated by online calculators."
   ]
  },
  {
   "cell_type": "code",
   "execution_count": 46,
   "id": "d3104631",
   "metadata": {},
   "outputs": [
    {
     "name": "stdout",
     "output_type": "stream",
     "text": [
      "us-gaap:interestexpense                                                          U_iso4217USD -3    11662000       \n"
     ]
    }
   ],
   "source": [
    "names = f\"{NAMESPACE}:InterestExpense\"\n",
    "PL += get_records_for_financial_element_names(soup=soup, names=names)"
   ]
  },
  {
   "cell_type": "markdown",
   "id": "23c27dc8",
   "metadata": {},
   "source": [
    "### Other Non-operating Expenses"
   ]
  },
  {
   "cell_type": "code",
   "execution_count": 47,
   "id": "92e0fe78",
   "metadata": {},
   "outputs": [
    {
     "name": "stdout",
     "output_type": "stream",
     "text": [
      "us-gaap:othernonoperatingincomeexpense                                           U_iso4217USD -3    6419000        \n"
     ]
    }
   ],
   "source": [
    "names = f\"{NAMESPACE}:OtherNonoperatingIncomeExpense\"\n",
    "PL += get_records_for_financial_element_names(soup=soup, names=names)"
   ]
  },
  {
   "cell_type": "markdown",
   "id": "e310a4b6",
   "metadata": {},
   "source": [
    "## Income Tax"
   ]
  },
  {
   "cell_type": "code",
   "execution_count": 48,
   "id": "776dea0b",
   "metadata": {},
   "outputs": [
    {
     "name": "stdout",
     "output_type": "stream",
     "text": [
      "us-gaap:incometaxexpensebenefit                                                  U_iso4217USD -3    21112000       \n"
     ]
    }
   ],
   "source": [
    "names = f\"{NAMESPACE}:IncomeTaxExpenseBenefit\"\n",
    "PL += get_records_for_financial_element_names(soup=soup, names=names)"
   ]
  },
  {
   "cell_type": "markdown",
   "id": "809ca1c3",
   "metadata": {},
   "source": [
    "## ***___# Net Income___***\n",
    "\n",
    "$GrossProfit - (Operating Expenses + NonOperating Expense) - Tax$"
   ]
  },
  {
   "cell_type": "code",
   "execution_count": 49,
   "id": "81d465ee",
   "metadata": {},
   "outputs": [],
   "source": [
    "def get_net_income(soup):\n",
    "    names = f\"{NAMESPACE}:NetIncomeLoss\".lower()\n",
    "    return get_records_for_financial_element_names(soup=soup, names=names)"
   ]
  },
  {
   "cell_type": "code",
   "execution_count": 50,
   "id": "dba87e2e",
   "metadata": {},
   "outputs": [
    {
     "name": "stdout",
     "output_type": "stream",
     "text": [
      "us-gaap:netincomeloss                                                            U_iso4217USD -3    98088000       \n"
     ]
    }
   ],
   "source": [
    "PL += get_net_income(soup)"
   ]
  },
  {
   "cell_type": "markdown",
   "id": "802f9405",
   "metadata": {},
   "source": [
    "## ***___# Shares Outstandings___***"
   ]
  },
  {
   "cell_type": "code",
   "execution_count": 51,
   "id": "6387ad8a",
   "metadata": {},
   "outputs": [],
   "source": [
    "PL += shares_outstandings"
   ]
  },
  {
   "cell_type": "markdown",
   "id": "5deadd83",
   "metadata": {},
   "source": [
    "## ***___# Net Income Per Share___***\n",
    "\n",
    "* [US GAAP - Is Net Income Per Share the same with EPS?](https://money.stackexchange.com/questions/148015/us-gaap-is-net-income-per-share-the-same-with-eps)"
   ]
  },
  {
   "cell_type": "code",
   "execution_count": 52,
   "id": "7dd99663",
   "metadata": {},
   "outputs": [],
   "source": [
    "def get_eps(soup):\n",
    "    return get_records_for_financial_element_names(\n",
    "        soup=soup, names=f\"{NAMESPACE}:EarningsPerShareBasic\".lower()\n",
    "    ) + \\\n",
    "    get_records_for_financial_element_names(\n",
    "        soup=soup, names=f\"{NAMESPACE}:EarningsPerShareBasicAndDiluted\".lower()\n",
    "    )"
   ]
  },
  {
   "cell_type": "code",
   "execution_count": 53,
   "id": "357eb478",
   "metadata": {},
   "outputs": [
    {
     "name": "stdout",
     "output_type": "stream",
     "text": [
      "us-gaap:earningspersharebasic                                                    U_iso4217USD_xbrlishares 2     1.92           \n"
     ]
    }
   ],
   "source": [
    "PL += get_eps(soup)"
   ]
  },
  {
   "cell_type": "markdown",
   "id": "74b3f108",
   "metadata": {},
   "source": [
    "## Display P/L\n",
    "\n",
    "Is ```us-gaap:othernonoperatingincomeexpense``` credit or debit? As the value is **negative** and so is in the Income Statement, is shoudl be credit -> To be confirmed. "
   ]
  },
  {
   "cell_type": "code",
   "execution_count": 54,
   "id": "3a817577",
   "metadata": {},
   "outputs": [
    {
     "data": {
      "text/html": [
       "<div>\n",
       "<style scoped>\n",
       "    .dataframe tbody tr th:only-of-type {\n",
       "        vertical-align: middle;\n",
       "    }\n",
       "\n",
       "    .dataframe tbody tr th {\n",
       "        vertical-align: top;\n",
       "    }\n",
       "\n",
       "    .dataframe thead th {\n",
       "        text-align: right;\n",
       "    }\n",
       "</style>\n",
       "<table border=\"1\" class=\"dataframe\">\n",
       "  <thead>\n",
       "    <tr style=\"text-align: center;\">\n",
       "      <th></th>\n",
       "      <th>type</th>\n",
       "      <th>name</th>\n",
       "      <th>unit</th>\n",
       "      <th>decimals</th>\n",
       "      <th>value</th>\n",
       "      <th>context</th>\n",
       "    </tr>\n",
       "  </thead>\n",
       "  <tbody>\n",
       "    <tr>\n",
       "      <th>0</th>\n",
       "      <td>credit</td>\n",
       "      <td>us-gaap:revenuefromcontractwithcustomerexcludi...</td>\n",
       "      <td>U_iso4217USD</td>\n",
       "      <td>-3</td>\n",
       "      <td>1229215000</td>\n",
       "      <td>C_0000029002_20200101_20201231</td>\n",
       "    </tr>\n",
       "    <tr>\n",
       "      <th>1</th>\n",
       "      <td>debit</td>\n",
       "      <td>us-gaap:costofgoodsandservicessold</td>\n",
       "      <td>U_iso4217USD</td>\n",
       "      <td>-3</td>\n",
       "      <td>798094000</td>\n",
       "      <td>C_0000029002_20200101_20201231</td>\n",
       "    </tr>\n",
       "    <tr>\n",
       "      <th>2</th>\n",
       "      <td>calc</td>\n",
       "      <td>us-gaap:grossprofit</td>\n",
       "      <td>U_iso4217USD</td>\n",
       "      <td>-3</td>\n",
       "      <td>431121000</td>\n",
       "      <td>C_0000029002_20200101_20201231</td>\n",
       "    </tr>\n",
       "    <tr>\n",
       "      <th>3</th>\n",
       "      <td>debit</td>\n",
       "      <td>us-gaap:researchanddevelopmentexpense</td>\n",
       "      <td>U_iso4217USD</td>\n",
       "      <td>-3</td>\n",
       "      <td>94288000</td>\n",
       "      <td>C_0000029002_20200101_20201231</td>\n",
       "    </tr>\n",
       "    <tr>\n",
       "      <th>4</th>\n",
       "      <td>debit</td>\n",
       "      <td>us-gaap:sellinggeneralandadministrativeexpense</td>\n",
       "      <td>U_iso4217USD</td>\n",
       "      <td>-3</td>\n",
       "      <td>185067000</td>\n",
       "      <td>C_0000029002_20200101_20201231</td>\n",
       "    </tr>\n",
       "    <tr>\n",
       "      <th>5</th>\n",
       "      <td>calc</td>\n",
       "      <td>us-gaap:operatingexpenses</td>\n",
       "      <td>U_iso4217USD</td>\n",
       "      <td>-3</td>\n",
       "      <td>296789000</td>\n",
       "      <td>C_0000029002_20200101_20201231</td>\n",
       "    </tr>\n",
       "    <tr>\n",
       "      <th>6</th>\n",
       "      <td>calc</td>\n",
       "      <td>us-gaap:operatingincomeloss</td>\n",
       "      <td>U_iso4217USD</td>\n",
       "      <td>-3</td>\n",
       "      <td>134332000</td>\n",
       "      <td>C_0000029002_20200101_20201231</td>\n",
       "    </tr>\n",
       "    <tr>\n",
       "      <th>7</th>\n",
       "      <td>debit</td>\n",
       "      <td>us-gaap:interestexpense</td>\n",
       "      <td>U_iso4217USD</td>\n",
       "      <td>-3</td>\n",
       "      <td>11662000</td>\n",
       "      <td>C_0000029002_20200101_20201231</td>\n",
       "    </tr>\n",
       "    <tr>\n",
       "      <th>8</th>\n",
       "      <td>credit</td>\n",
       "      <td>us-gaap:othernonoperatingincomeexpense</td>\n",
       "      <td>U_iso4217USD</td>\n",
       "      <td>-3</td>\n",
       "      <td>6419000</td>\n",
       "      <td>C_0000029002_20200101_20201231</td>\n",
       "    </tr>\n",
       "    <tr>\n",
       "      <th>9</th>\n",
       "      <td>debit</td>\n",
       "      <td>us-gaap:incometaxexpensebenefit</td>\n",
       "      <td>U_iso4217USD</td>\n",
       "      <td>-3</td>\n",
       "      <td>21112000</td>\n",
       "      <td>C_0000029002_20200101_20201231</td>\n",
       "    </tr>\n",
       "    <tr>\n",
       "      <th>10</th>\n",
       "      <td>calc</td>\n",
       "      <td>us-gaap:netincomeloss</td>\n",
       "      <td>U_iso4217USD</td>\n",
       "      <td>-3</td>\n",
       "      <td>98088000</td>\n",
       "      <td>C_0000029002_20200101_20201231</td>\n",
       "    </tr>\n",
       "    <tr>\n",
       "      <th>11</th>\n",
       "      <td>fact</td>\n",
       "      <td>us-gaap:commonstocksharesoutstanding</td>\n",
       "      <td>U_xbrlishares</td>\n",
       "      <td>inf</td>\n",
       "      <td>44276194</td>\n",
       "      <td>C_0000029002_20201231</td>\n",
       "    </tr>\n",
       "    <tr>\n",
       "      <th>12</th>\n",
       "      <td>metric</td>\n",
       "      <td>us-gaap:earningspersharebasic</td>\n",
       "      <td>U_iso4217USD_xbrlishares</td>\n",
       "      <td>2</td>\n",
       "      <td>1.92</td>\n",
       "      <td>C_0000029002_20200101_20201231</td>\n",
       "    </tr>\n",
       "  </tbody>\n",
       "</table>\n",
       "</div>"
      ],
      "text/plain": [
       "     type                         name                         \\\n",
       "0   credit  us-gaap:revenuefromcontractwithcustomerexcludi...   \n",
       "1    debit                 us-gaap:costofgoodsandservicessold   \n",
       "2     calc                                us-gaap:grossprofit   \n",
       "3    debit              us-gaap:researchanddevelopmentexpense   \n",
       "4    debit     us-gaap:sellinggeneralandadministrativeexpense   \n",
       "5     calc                          us-gaap:operatingexpenses   \n",
       "6     calc                        us-gaap:operatingincomeloss   \n",
       "7    debit                            us-gaap:interestexpense   \n",
       "8   credit             us-gaap:othernonoperatingincomeexpense   \n",
       "9    debit                    us-gaap:incometaxexpensebenefit   \n",
       "10    calc                              us-gaap:netincomeloss   \n",
       "11    fact               us-gaap:commonstocksharesoutstanding   \n",
       "12  metric                      us-gaap:earningspersharebasic   \n",
       "\n",
       "              unit            decimals    value    \\\n",
       "0               U_iso4217USD     -3    1229215000   \n",
       "1               U_iso4217USD     -3     798094000   \n",
       "2               U_iso4217USD     -3     431121000   \n",
       "3               U_iso4217USD     -3      94288000   \n",
       "4               U_iso4217USD     -3     185067000   \n",
       "5               U_iso4217USD     -3     296789000   \n",
       "6               U_iso4217USD     -3     134332000   \n",
       "7               U_iso4217USD     -3      11662000   \n",
       "8               U_iso4217USD     -3       6419000   \n",
       "9               U_iso4217USD     -3      21112000   \n",
       "10              U_iso4217USD     -3      98088000   \n",
       "11             U_xbrlishares    inf      44276194   \n",
       "12  U_iso4217USD_xbrlishares      2          1.92   \n",
       "\n",
       "               context              \n",
       "0   C_0000029002_20200101_20201231  \n",
       "1   C_0000029002_20200101_20201231  \n",
       "2   C_0000029002_20200101_20201231  \n",
       "3   C_0000029002_20200101_20201231  \n",
       "4   C_0000029002_20200101_20201231  \n",
       "5   C_0000029002_20200101_20201231  \n",
       "6   C_0000029002_20200101_20201231  \n",
       "7   C_0000029002_20200101_20201231  \n",
       "8   C_0000029002_20200101_20201231  \n",
       "9   C_0000029002_20200101_20201231  \n",
       "10  C_0000029002_20200101_20201231  \n",
       "11           C_0000029002_20201231  \n",
       "12  C_0000029002_20200101_20201231  "
      ]
     },
     "execution_count": 54,
     "metadata": {},
     "output_type": "execute_result"
    }
   ],
   "source": [
    "df_PL = pd.DataFrame(PL, columns=get_financial_element_columns())\n",
    "df_PL"
   ]
  },
  {
   "cell_type": "code",
   "execution_count": 55,
   "id": "c88d724d",
   "metadata": {},
   "outputs": [
    {
     "data": {
      "text/plain": [
       "1235634000.0"
      ]
     },
     "execution_count": 55,
     "metadata": {},
     "output_type": "execute_result"
    }
   ],
   "source": [
    "credits = df_PL[df_PL['type'] == 'credit']['value'].sum()\n",
    "credits"
   ]
  },
  {
   "cell_type": "code",
   "execution_count": 56,
   "id": "e5e6bdfb",
   "metadata": {},
   "outputs": [
    {
     "data": {
      "text/plain": [
       "1110223000.0"
      ]
     },
     "execution_count": 56,
     "metadata": {},
     "output_type": "execute_result"
    }
   ],
   "source": [
    "debits = df_PL[df_PL['type'] == 'debit']['value'].sum()\n",
    "debits"
   ]
  },
  {
   "cell_type": "code",
   "execution_count": 57,
   "id": "1effbc91",
   "metadata": {},
   "outputs": [
    {
     "data": {
      "text/plain": [
       "125411000.0"
      ]
     },
     "execution_count": 57,
     "metadata": {},
     "output_type": "execute_result"
    }
   ],
   "source": [
    "credits - debits  # Equal to the Net Income"
   ]
  },
  {
   "cell_type": "code",
   "execution_count": 58,
   "id": "ebfdbe8a",
   "metadata": {},
   "outputs": [
    {
     "name": "stdout",
     "output_type": "stream",
     "text": [
      "2.22\n"
     ]
    }
   ],
   "source": [
    "eps = np.divide(\n",
    "    df_PL[df_PL['name'] == 'us-gaap:netincomeloss']['value'].values,\n",
    "    df_PL[df_PL['name'] == 'us-gaap:commonstocksharesoutstanding']['value'].values\n",
    ").item()\n",
    "scale = 2\n",
    "\n",
    "print(f\"{eps:.{scale}f}\")"
   ]
  },
  {
   "cell_type": "markdown",
   "id": "3b613d03",
   "metadata": {},
   "source": [
    "---\n",
    "# Balance Sheet (B/S)"
   ]
  },
  {
   "cell_type": "code",
   "execution_count": 59,
   "id": "0d868bab",
   "metadata": {},
   "outputs": [],
   "source": [
    "BS = []"
   ]
  },
  {
   "cell_type": "markdown",
   "id": "bffb478e",
   "metadata": {},
   "source": [
    "## Cash & Cash Equivalents\n",
    "\n",
    "Look for the cash and cash equivalents for the reporting perid in the Balance Sheet and Cash Flow statements of the  10-K."
   ]
  },
  {
   "cell_type": "code",
   "execution_count": 60,
   "id": "a63587e2",
   "metadata": {},
   "outputs": [
    {
     "name": "stdout",
     "output_type": "stream",
     "text": [
      "us-gaap:cashandcashequivalentsatcarryingvalue                                    U_iso4217USD -3    268065000      \n"
     ]
    }
   ],
   "source": [
    "names = re.compile(\"|\".join([\n",
    "    rf\"^{NAMESPACE}:CashAndCashEquivalentsAtCarryingValue$\",\n",
    "]).lower())\n",
    "BS += get_records_for_financial_element_names(soup=soup, names=names)"
   ]
  },
  {
   "cell_type": "markdown",
   "id": "1d2d95ab",
   "metadata": {},
   "source": [
    "## Restricted Cash"
   ]
  },
  {
   "cell_type": "code",
   "execution_count": 61,
   "id": "d46a5fe8",
   "metadata": {},
   "outputs": [
    {
     "name": "stdout",
     "output_type": "stream",
     "text": [
      "us-gaap:restrictedcashequivalentscurrent                                         U_iso4217USD -3    52464000       \n"
     ]
    }
   ],
   "source": [
    "names = re.compile(\"|\".join([\n",
    "    rf\"^{NAMESPACE}:RestrictedCashEquivalentsCurrent$\",\n",
    "]).lower())\n",
    "BS += get_records_for_financial_element_names(soup=soup, names=names)"
   ]
  },
  {
   "cell_type": "markdown",
   "id": "7009983b",
   "metadata": {},
   "source": [
    "## Short Term Investments"
   ]
  },
  {
   "cell_type": "code",
   "execution_count": 62,
   "id": "9c18d340",
   "metadata": {},
   "outputs": [
    {
     "name": "stdout",
     "output_type": "stream",
     "text": [
      "us-gaap:shortterminvestments                                                     U_iso4217USD -3    6142000        \n"
     ]
    }
   ],
   "source": [
    "names = re.compile(\"|\".join([\n",
    "    rf\"^{NAMESPACE}:ShortTermInvestments$\",\n",
    "]).lower())\n",
    "BS += get_records_for_financial_element_names(soup=soup, names=names)"
   ]
  },
  {
   "cell_type": "markdown",
   "id": "1b2a64bb",
   "metadata": {},
   "source": [
    "## Account Receivable"
   ]
  },
  {
   "cell_type": "code",
   "execution_count": 63,
   "id": "77a0974b",
   "metadata": {},
   "outputs": [
    {
     "name": "stdout",
     "output_type": "stream",
     "text": [
      "us-gaap:receivablesnetcurrent                                                    U_iso4217USD -3    320061000      \n"
     ]
    }
   ],
   "source": [
    "names = re.compile(\"|\".join([\n",
    "    rf\"^{NAMESPACE}:ReceivablesNetCurrent$\",\n",
    "]).lower())\n",
    "BS += get_records_for_financial_element_names(soup=soup, names=names)"
   ]
  },
  {
   "cell_type": "markdown",
   "id": "a4cf1b8b",
   "metadata": {},
   "source": [
    "## ***___Inventory___***"
   ]
  },
  {
   "cell_type": "code",
   "execution_count": 64,
   "id": "d831e62f",
   "metadata": {},
   "outputs": [
    {
     "name": "stdout",
     "output_type": "stream",
     "text": [
      "us-gaap:inventorynet                                                             U_iso4217USD -3    307062000      \n"
     ]
    }
   ],
   "source": [
    "names = re.compile(\"|\".join([\n",
    "    rf\"^{NAMESPACE}:InventoryNet$\",\n",
    "]).lower())\n",
    "BS += get_records_for_financial_element_names(soup=soup, names=names)"
   ]
  },
  {
   "cell_type": "markdown",
   "id": "d350512f",
   "metadata": {},
   "source": [
    "## Prepaid Expense / Other Assets Current\n",
    "\n",
    "* [Understanding Prepaid Expenses](https://www.investopedia.com/terms/p/prepaidexpense.asp)\n",
    "\n",
    "> Companies make prepayments for goods or services such as leased office equipment or insurance coverage that provide continual benefits over time. Goods or services of this nature cannot be expensed immediately because the expense would not line up with the benefit incurred over time from using the asset.  \n",
    ">\n",
    "> According to generally accepted accounting principles (GAAP), expenses should be recorded in the same accounting period as the benefit generated from the related asset.\n",
    "\n",
    "* [us-gaap: PrepaidExpenseAndOtherAssetsCurrent](https://www.calcbench.com/element/PrepaidExpenseAndOtherAssetsCurrent)\n",
    "\n",
    "> Amount of asset related to consideration paid in advance for costs that provide economic benefits in future periods, and amount of other assets that are expected to be realized or consumed within one year or the normal operating cycle, if longer.\n",
    "\n",
    "* [Other Current Assets (OCA)](https://www.investopedia.com/terms/o/othercurrentassets.asp)\n",
    "\n",
    "> Other current assets (OCA) is a category of things of value that a company owns, benefits from, or uses to generate income that can be converted into cash within one business cycle. They are referred to as “other” because they are uncommon or insignificant, unlike typical current asset items such as cash, securities, accounts receivable, inventory, and prepaid expenses."
   ]
  },
  {
   "cell_type": "code",
   "execution_count": 65,
   "id": "a519e8d5",
   "metadata": {},
   "outputs": [
    {
     "name": "stdout",
     "output_type": "stream",
     "text": [
      "us-gaap:prepaidexpenseandotherassetscurrent                                      U_iso4217USD -3    70193000       \n"
     ]
    }
   ],
   "source": [
    "names = re.compile(\"|\".join([\n",
    "    rf\"^{NAMESPACE}:PrepaidExpenseAndOtherAssetsCurrent$\",\n",
    "]).lower())\n",
    "BS += get_records_for_financial_element_names(soup=soup, names=names)"
   ]
  },
  {
   "cell_type": "markdown",
   "id": "ff70b618",
   "metadata": {},
   "source": [
    "## ***___# Current Assets ---***"
   ]
  },
  {
   "cell_type": "code",
   "execution_count": 66,
   "id": "8ff4ab0f",
   "metadata": {},
   "outputs": [
    {
     "name": "stdout",
     "output_type": "stream",
     "text": [
      "us-gaap:assetscurrent                                                            U_iso4217USD -3    1023987000     \n"
     ]
    }
   ],
   "source": [
    "names = re.compile(\"|\".join([\n",
    "    rf\"^{NAMESPACE}:AssetsCurrent$\",\n",
    "]).lower())\n",
    "BS += get_records_for_financial_element_names(soup=soup, names=names)"
   ]
  },
  {
   "cell_type": "markdown",
   "id": "50631c54",
   "metadata": {},
   "source": [
    "## Property, Plant, Equipment"
   ]
  },
  {
   "cell_type": "code",
   "execution_count": 67,
   "id": "c53ba025",
   "metadata": {},
   "outputs": [
    {
     "name": "stdout",
     "output_type": "stream",
     "text": [
      "us-gaap:propertyplantandequipmentnet                                             U_iso4217USD -3    530815000      \n"
     ]
    }
   ],
   "source": [
    "names = re.compile(\"|\".join([\n",
    "    rf\"^{NAMESPACE}:PropertyPlantAndEquipmentNet$\",\n",
    "]).lower())\n",
    "BS += get_records_for_financial_element_names(soup=soup, names=names)"
   ]
  },
  {
   "cell_type": "markdown",
   "id": "30039a98",
   "metadata": {},
   "source": [
    "## Deferred Tax"
   ]
  },
  {
   "cell_type": "code",
   "execution_count": 68,
   "id": "167e1c59",
   "metadata": {},
   "outputs": [
    {
     "name": "stdout",
     "output_type": "stream",
     "text": [
      "us-gaap:deferredincometaxassetsnet                                               U_iso4217USD -3    57841000       \n"
     ]
    }
   ],
   "source": [
    "names = re.compile(\"|\".join([\n",
    "    rf\"^{NAMESPACE}:DeferredIncomeTaxAssetsNet$\",\n",
    "]).lower())\n",
    "BS += get_records_for_financial_element_names(soup=soup, names=names)"
   ]
  },
  {
   "cell_type": "markdown",
   "id": "5b3f5a31",
   "metadata": {},
   "source": [
    "## ***___GoodWill___***"
   ]
  },
  {
   "cell_type": "code",
   "execution_count": 69,
   "id": "171f22a6",
   "metadata": {},
   "outputs": [
    {
     "name": "stdout",
     "output_type": "stream",
     "text": [
      "us-gaap:goodwill                                                                 U_iso4217USD -3    158331000      \n"
     ]
    }
   ],
   "source": [
    "names = re.compile(\"|\".join([\n",
    "    rf\"^{NAMESPACE}:GoodWill$\",\n",
    "]).lower())\n",
    "BS += get_records_for_financial_element_names(soup=soup, names=names)"
   ]
  },
  {
   "cell_type": "markdown",
   "id": "e6c2910b",
   "metadata": {},
   "source": [
    "## Intangible and Other Assets"
   ]
  },
  {
   "cell_type": "code",
   "execution_count": 70,
   "id": "016ed01d",
   "metadata": {},
   "outputs": [
    {
     "name": "stdout",
     "output_type": "stream",
     "text": [
      "us-gaap:intangibleassetsnetexcludinggoodwill                                     U_iso4217USD -3    110591000      \n",
      "us-gaap:otherassetsnoncurrent                                                    U_iso4217USD -3    97892000       \n"
     ]
    }
   ],
   "source": [
    "names = re.compile(\"|\".join([\n",
    "    rf\"^{NAMESPACE}:IntangibleAssetsNetExcludingGoodwill$\",\n",
    "    rf\"^{NAMESPACE}:OtherAssetsNoncurrent$\",\n",
    "]).lower())\n",
    "BS += get_records_for_financial_element_names(soup=soup, names=names)"
   ]
  },
  {
   "cell_type": "markdown",
   "id": "96c9402e",
   "metadata": {},
   "source": [
    "## ***___# Total Assets___***"
   ]
  },
  {
   "cell_type": "code",
   "execution_count": 71,
   "id": "44b859a7",
   "metadata": {},
   "outputs": [
    {
     "name": "stdout",
     "output_type": "stream",
     "text": [
      "us-gaap:assets                                                                   U_iso4217USD -3    1979457000     \n"
     ]
    }
   ],
   "source": [
    "names = re.compile(\"|\".join([\n",
    "    rf\"^{NAMESPACE}:Assets$\",\n",
    "]).lower())\n",
    "\n",
    "BS += get_records_for_financial_element_names(soup=soup, names=names)"
   ]
  },
  {
   "cell_type": "markdown",
   "id": "83410724",
   "metadata": {},
   "source": [
    "## Account Payable\n",
    "\n",
    "* [Accounts Payable (AP)](https://www.investopedia.com/terms/a/accountspayable.asp)\n",
    "\n",
    "> company's obligation to pay off a short-term debt to its creditors or suppliers.\n",
    "\n",
    "\n",
    "\n",
    "* [Accrued Liability](https://www.investopedia.com/terms/a/accrued-liability.asp) (売掛金)\n",
    "\n",
    "> costs for goods and services already delivered to a company for which it must pay in the future. A company can accrue liabilities for any number of obligations and are recorded on the company's balance sheet. They are normally listed on the balance sheet as current liabilities and are adjusted at the end of an accounting period.\n",
    "\n",
    "\n",
    "* [us-gaap:AccruedLiabilitiesCurrent](http://xbrlsite.azurewebsites.net/2019/Prototype/references/us-gaap/Element-354.html)"
   ]
  },
  {
   "cell_type": "code",
   "execution_count": 72,
   "id": "c9299a52",
   "metadata": {},
   "outputs": [
    {
     "name": "stdout",
     "output_type": "stream",
     "text": [
      "us-gaap:accountspayablecurrent                                                   U_iso4217USD -3    168045000      \n",
      "us-gaap:accruedliabilitiescurrent                                                U_iso4217USD -3    160117000      \n"
     ]
    }
   ],
   "source": [
    "names = re.compile(\"|\".join([\n",
    "    rf\"^{NAMESPACE}:AccountsPayableCurrent$\",\n",
    "    rf\"^{NAMESPACE}:AccruedLiabilitiesCurrent$\",\n",
    "]).lower())\n",
    "BS += get_records_for_financial_element_names(soup=soup, names=names)"
   ]
  },
  {
   "cell_type": "markdown",
   "id": "0b385620",
   "metadata": {},
   "source": [
    "## Tax"
   ]
  },
  {
   "cell_type": "code",
   "execution_count": 73,
   "id": "2de3a8d0",
   "metadata": {},
   "outputs": [
    {
     "name": "stdout",
     "output_type": "stream",
     "text": [
      "us-gaap:taxespayablecurrent                                                      U_iso4217USD -3    19177000       \n"
     ]
    }
   ],
   "source": [
    "names = re.compile(\"|\".join([\n",
    "    rf\"^{NAMESPACE}:TaxesPayableCurrent$\",\n",
    "]).lower())\n",
    "BS += get_records_for_financial_element_names(soup=soup, names=names)"
   ]
  },
  {
   "cell_type": "markdown",
   "id": "b215aff0",
   "metadata": {},
   "source": [
    "## Debt Due"
   ]
  },
  {
   "cell_type": "code",
   "execution_count": 74,
   "id": "2f8d97e5",
   "metadata": {},
   "outputs": [
    {
     "name": "stdout",
     "output_type": "stream",
     "text": [
      "us-gaap:longtermdebtcurrent                                                      U_iso4217USD -3    21860000       \n"
     ]
    }
   ],
   "source": [
    "names = re.compile(\"|\".join([\n",
    "    rf\"^{NAMESPACE}:LongTermDebtCurrent$\",\n",
    "]).lower())\n",
    "BS += get_records_for_financial_element_names(soup=soup, names=names)"
   ]
  },
  {
   "cell_type": "markdown",
   "id": "16cffe21",
   "metadata": {},
   "source": [
    "## ***___# Current Liabilities___***"
   ]
  },
  {
   "cell_type": "code",
   "execution_count": 75,
   "id": "52190a56",
   "metadata": {},
   "outputs": [
    {
     "name": "stdout",
     "output_type": "stream",
     "text": [
      "us-gaap:liabilitiescurrent                                                       U_iso4217USD -3    509762000      \n"
     ]
    }
   ],
   "source": [
    "names = re.compile(\"|\".join([\n",
    "    rf\"^{NAMESPACE}:LiabilitiesCurrent$\",\n",
    "]).lower())\n",
    "\n",
    "BS += get_records_for_financial_element_names(soup=soup, names=names)"
   ]
  },
  {
   "cell_type": "markdown",
   "id": "d88e39f2",
   "metadata": {},
   "source": [
    "## Long Term Debt"
   ]
  },
  {
   "cell_type": "code",
   "execution_count": 76,
   "id": "b61fec9e",
   "metadata": {},
   "outputs": [
    {
     "name": "stdout",
     "output_type": "stream",
     "text": [
      "us-gaap:longtermloansfrombank                                                    U_iso4217USD -3    288179000      \n"
     ]
    }
   ],
   "source": [
    "names = re.compile(\"|\".join([\n",
    "    rf\"^{NAMESPACE}:LongTermLoansFromBank$\",\n",
    "]).lower())\n",
    "BS += get_records_for_financial_element_names(soup=soup, names=names)"
   ]
  },
  {
   "cell_type": "markdown",
   "id": "041e2536",
   "metadata": {},
   "source": [
    "## Tax Deferred"
   ]
  },
  {
   "cell_type": "code",
   "execution_count": 77,
   "id": "266521bb",
   "metadata": {},
   "outputs": [
    {
     "name": "stdout",
     "output_type": "stream",
     "text": [
      "us-gaap:deferredincometaxliabilitiesnet                                          U_iso4217USD -3    34598000       \n"
     ]
    }
   ],
   "source": [
    "names = re.compile(\"|\".join([\n",
    "    rf\"^{NAMESPACE}:DeferredIncomeTaxLiabilitiesNet$\",\n",
    "]).lower())\n",
    "BS += get_records_for_financial_element_names(soup=soup, names=names)"
   ]
  },
  {
   "cell_type": "markdown",
   "id": "ffe118d0",
   "metadata": {},
   "source": [
    "## Other Long Term Liabilities"
   ]
  },
  {
   "cell_type": "code",
   "execution_count": 78,
   "id": "088c5dd4",
   "metadata": {},
   "outputs": [
    {
     "name": "stdout",
     "output_type": "stream",
     "text": [
      "us-gaap:otherliabilitiesnoncurrent                                               U_iso4217USD -3    130795000      \n"
     ]
    }
   ],
   "source": [
    "names = re.compile(\"|\".join([\n",
    "    rf\"^{NAMESPACE}:OtherLiabilitiesNoncurrent$\",\n",
    "]).lower())\n",
    "BS += get_records_for_financial_element_names(soup=soup, names=names)"
   ]
  },
  {
   "cell_type": "markdown",
   "id": "6ec33cd9",
   "metadata": {},
   "source": [
    "## ***___# Total Liabilities___***"
   ]
  },
  {
   "cell_type": "code",
   "execution_count": 79,
   "id": "25f1a83c",
   "metadata": {},
   "outputs": [
    {
     "name": "stdout",
     "output_type": "stream",
     "text": [
      "us-gaap:liabilities                                                              U_iso4217USD -3    963334000      \n"
     ]
    }
   ],
   "source": [
    "names = re.compile(\"|\".join([\n",
    "    rf\"^{NAMESPACE}:Liabilities$\",\n",
    "]).lower())\n",
    "BS += get_records_for_financial_element_names(soup=soup, names=names)"
   ]
  },
  {
   "cell_type": "markdown",
   "id": "a94f5d43",
   "metadata": {},
   "source": [
    "## Paid-in Capital\n",
    "\n",
    "* [Paid-In Capital](https://www.investopedia.com/terms/p/paidincapital.aspPaid-In Capital)\n",
    "\n",
    "> Paid-in capital represents the funds raised by the business through selling its equity and not from ongoing business operations. Paid-in capital also refers to a line item on the company's balance sheet listed under shareholders' equity (also referred to as stockholders' equity), often shown alongside the line item for additional paid-in capital.\n",
    "\n",
    "* [Additional Paid-In Capital (APIC)](https://www.investopedia.com/terms/a/additionalpaidincapital.asp)\n",
    "\n",
    "> Often referred to as \"contributed capital in excess of par,” APIC occurs when an investor buys newly-issued shares directly from a company during its initial public offering (IPO) stage. APIC, which is itemized under the shareholder equity (SE) section of a balance sheet, is viewed as a profit opportunity for companies as it results in them receiving excess cash from stockholders."
   ]
  },
  {
   "cell_type": "code",
   "execution_count": 80,
   "id": "5fe0eca9",
   "metadata": {},
   "outputs": [
    {
     "name": "stdout",
     "output_type": "stream",
     "text": [
      "us-gaap:additionalpaidincapitalcommonstock                                       U_iso4217USD -3    449598000      \n"
     ]
    }
   ],
   "source": [
    "names = re.compile(\"|\".join([\n",
    "    rf\"^{NAMESPACE}:AdditionalPaidInCapitalCommonStock$\",\n",
    "]).lower())\n",
    "BS += get_records_for_financial_element_names(soup=soup, names=names)"
   ]
  },
  {
   "cell_type": "markdown",
   "id": "9cbbde6e",
   "metadata": {},
   "source": [
    "## Retained Earnings\n",
    "\n",
    "* [Retained Earnings](https://www.investopedia.com/terms/r/retainedearnings.asp)\n",
    "\n",
    ">  The word \"retained\" captures the fact that because those earnings were **NOT paid out to shareholders as dividends** they were instead retained by the company."
   ]
  },
  {
   "cell_type": "code",
   "execution_count": 81,
   "id": "e440310f",
   "metadata": {},
   "outputs": [
    {
     "name": "stdout",
     "output_type": "stream",
     "text": [
      "us-gaap:retainedearningsappropriated                                             U_iso4217USD -3    888046000      \n"
     ]
    }
   ],
   "source": [
    "names = re.compile(\"|\".join([\n",
    "    rf\"^{NAMESPACE}:RetainedEarningsAppropriated$\",\n",
    "]).lower())\n",
    "BS += get_records_for_financial_element_names(soup=soup, names=names)"
   ]
  },
  {
   "cell_type": "markdown",
   "id": "79d0337e",
   "metadata": {},
   "source": [
    "## Accumulated other comprehensive loss"
   ]
  },
  {
   "cell_type": "code",
   "execution_count": 82,
   "id": "dd81628c",
   "metadata": {},
   "outputs": [
    {
     "name": "stdout",
     "output_type": "stream",
     "text": [
      "us-gaap:accumulatedothercomprehensiveincomelossnetoftax                          U_iso4217USD -3    -73606000      \n"
     ]
    }
   ],
   "source": [
    "names = re.compile(\"|\".join([\n",
    "    rf\"^{NAMESPACE}:AccumulatedOtherComprehensiveIncomeLossNetOfTax$\",\n",
    "]).lower())\n",
    "BS += get_records_for_financial_element_names(soup=soup, names=names)"
   ]
  },
  {
   "cell_type": "markdown",
   "id": "0419a168",
   "metadata": {},
   "source": [
    "## ***___# Stockholder's Equity___***\n",
    "\n",
    "* [Stockholders' Equity](https://www.investopedia.com/terms/s/stockholdersequity.asp)\n",
    "\n",
    "> Remaining amount of assets available to shareholders after all liabilities have been paid. (純資産)"
   ]
  },
  {
   "cell_type": "code",
   "execution_count": 83,
   "id": "f3ca9516",
   "metadata": {},
   "outputs": [
    {
     "name": "stdout",
     "output_type": "stream",
     "text": [
      "us-gaap:stockholdersequity                                                       U_iso4217USD -3    963820000      \n"
     ]
    }
   ],
   "source": [
    "names = re.compile(\"|\".join([\n",
    "    rf\"^{NAMESPACE}:StockholdersEquity$\",\n",
    "]).lower())\n",
    "BS += get_records_for_financial_element_names(soup=soup, names=names)"
   ]
  },
  {
   "cell_type": "markdown",
   "id": "4c22f3ea",
   "metadata": {},
   "source": [
    "## Interest"
   ]
  },
  {
   "cell_type": "code",
   "execution_count": 84,
   "id": "4735770c",
   "metadata": {},
   "outputs": [
    {
     "name": "stdout",
     "output_type": "stream",
     "text": [
      "us-gaap:minorityinterest                                                         U_iso4217USD -3    52303000       \n"
     ]
    }
   ],
   "source": [
    "names = re.compile(\"|\".join([\n",
    "    rf\"^{NAMESPACE}:MinorityInterest$\",\n",
    "]).lower())\n",
    "BS += get_records_for_financial_element_names(soup=soup, names=names)"
   ]
  },
  {
   "cell_type": "markdown",
   "id": "924e75df",
   "metadata": {},
   "source": [
    "## ***___# Total Equity___***"
   ]
  },
  {
   "cell_type": "code",
   "execution_count": 85,
   "id": "4055f97d",
   "metadata": {},
   "outputs": [
    {
     "name": "stdout",
     "output_type": "stream",
     "text": [
      "us-gaap:stockholdersequityincludingportionattributabletononcontrollinginterest   U_iso4217USD -3    1016123000     \n"
     ]
    }
   ],
   "source": [
    "names = re.compile(\"|\".join([\n",
    "    rf\"^{NAMESPACE}:StockholdersEquityIncludingPortionAttributableToNoncontrollingInterest$\",\n",
    "]).lower())\n",
    "BS += get_records_for_financial_element_names(soup=soup, names=names)"
   ]
  },
  {
   "cell_type": "markdown",
   "id": "63ff989c",
   "metadata": {},
   "source": [
    "## ***___# Total Liabilities + Stockholder's Equity___***"
   ]
  },
  {
   "cell_type": "code",
   "execution_count": 86,
   "id": "96b836c7",
   "metadata": {},
   "outputs": [
    {
     "name": "stdout",
     "output_type": "stream",
     "text": [
      "us-gaap:liabilitiesandstockholdersequity                                         U_iso4217USD -3    1979457000     \n"
     ]
    }
   ],
   "source": [
    "names = re.compile(\"|\".join([\n",
    "    rf\"^{NAMESPACE}:LiabilitiesAndStockholdersEquity$\",\n",
    "]).lower())\n",
    "BS += get_records_for_financial_element_names(soup=soup, names=names)"
   ]
  },
  {
   "cell_type": "markdown",
   "id": "586432db",
   "metadata": {},
   "source": [
    "## ***___# Shares Outstandings___***"
   ]
  },
  {
   "cell_type": "code",
   "execution_count": 87,
   "id": "8e9e41a2",
   "metadata": {},
   "outputs": [],
   "source": [
    "BS += shares_outstandings"
   ]
  },
  {
   "cell_type": "markdown",
   "id": "84fef45b",
   "metadata": {},
   "source": [
    "## Display B/S"
   ]
  },
  {
   "cell_type": "code",
   "execution_count": 88,
   "id": "8901a121",
   "metadata": {},
   "outputs": [
    {
     "data": {
      "text/html": [
       "<div>\n",
       "<style scoped>\n",
       "    .dataframe tbody tr th:only-of-type {\n",
       "        vertical-align: middle;\n",
       "    }\n",
       "\n",
       "    .dataframe tbody tr th {\n",
       "        vertical-align: top;\n",
       "    }\n",
       "\n",
       "    .dataframe thead th {\n",
       "        text-align: right;\n",
       "    }\n",
       "</style>\n",
       "<table border=\"1\" class=\"dataframe\">\n",
       "  <thead>\n",
       "    <tr style=\"text-align: center;\">\n",
       "      <th></th>\n",
       "      <th>type</th>\n",
       "      <th>name</th>\n",
       "      <th>unit</th>\n",
       "      <th>decimals</th>\n",
       "      <th>value</th>\n",
       "      <th>context</th>\n",
       "    </tr>\n",
       "  </thead>\n",
       "  <tbody>\n",
       "    <tr>\n",
       "      <th>0</th>\n",
       "      <td>credit</td>\n",
       "      <td>us-gaap:cashandcashequivalentsatcarryingvalue</td>\n",
       "      <td>U_iso4217USD</td>\n",
       "      <td>-3</td>\n",
       "      <td>268065000</td>\n",
       "      <td>C_0000029002_20201231</td>\n",
       "    </tr>\n",
       "    <tr>\n",
       "      <th>1</th>\n",
       "      <td>credit</td>\n",
       "      <td>us-gaap:restrictedcashequivalentscurrent</td>\n",
       "      <td>U_iso4217USD</td>\n",
       "      <td>-3</td>\n",
       "      <td>52464000</td>\n",
       "      <td>C_0000029002_20201231</td>\n",
       "    </tr>\n",
       "    <tr>\n",
       "      <th>2</th>\n",
       "      <td>credit</td>\n",
       "      <td>us-gaap:shortterminvestments</td>\n",
       "      <td>U_iso4217USD</td>\n",
       "      <td>-3</td>\n",
       "      <td>6142000</td>\n",
       "      <td>C_0000029002_20201231</td>\n",
       "    </tr>\n",
       "    <tr>\n",
       "      <th>3</th>\n",
       "      <td>credit</td>\n",
       "      <td>us-gaap:receivablesnetcurrent</td>\n",
       "      <td>U_iso4217USD</td>\n",
       "      <td>-3</td>\n",
       "      <td>320061000</td>\n",
       "      <td>C_0000029002_20201231</td>\n",
       "    </tr>\n",
       "    <tr>\n",
       "      <th>4</th>\n",
       "      <td>credit</td>\n",
       "      <td>us-gaap:inventorynet</td>\n",
       "      <td>U_iso4217USD</td>\n",
       "      <td>-3</td>\n",
       "      <td>307062000</td>\n",
       "      <td>C_0000029002_20201231</td>\n",
       "    </tr>\n",
       "    <tr>\n",
       "      <th>5</th>\n",
       "      <td>credit</td>\n",
       "      <td>us-gaap:prepaidexpenseandotherassetscurrent</td>\n",
       "      <td>U_iso4217USD</td>\n",
       "      <td>-3</td>\n",
       "      <td>70193000</td>\n",
       "      <td>C_0000029002_20201231</td>\n",
       "    </tr>\n",
       "    <tr>\n",
       "      <th>6</th>\n",
       "      <td>calc</td>\n",
       "      <td>us-gaap:assetscurrent</td>\n",
       "      <td>U_iso4217USD</td>\n",
       "      <td>-3</td>\n",
       "      <td>1023987000</td>\n",
       "      <td>C_0000029002_20201231</td>\n",
       "    </tr>\n",
       "    <tr>\n",
       "      <th>7</th>\n",
       "      <td>credit</td>\n",
       "      <td>us-gaap:propertyplantandequipmentnet</td>\n",
       "      <td>U_iso4217USD</td>\n",
       "      <td>-3</td>\n",
       "      <td>530815000</td>\n",
       "      <td>C_0000029002_20201231</td>\n",
       "    </tr>\n",
       "    <tr>\n",
       "      <th>8</th>\n",
       "      <td>credit</td>\n",
       "      <td>us-gaap:deferredincometaxassetsnet</td>\n",
       "      <td>U_iso4217USD</td>\n",
       "      <td>-3</td>\n",
       "      <td>57841000</td>\n",
       "      <td>C_0000029002_20201231</td>\n",
       "    </tr>\n",
       "    <tr>\n",
       "      <th>9</th>\n",
       "      <td>credit</td>\n",
       "      <td>us-gaap:goodwill</td>\n",
       "      <td>U_iso4217USD</td>\n",
       "      <td>-3</td>\n",
       "      <td>158331000</td>\n",
       "      <td>C_0000029002_20201231</td>\n",
       "    </tr>\n",
       "    <tr>\n",
       "      <th>10</th>\n",
       "      <td>credit</td>\n",
       "      <td>us-gaap:intangibleassetsnetexcludinggoodwill</td>\n",
       "      <td>U_iso4217USD</td>\n",
       "      <td>-3</td>\n",
       "      <td>110591000</td>\n",
       "      <td>C_0000029002_20201231</td>\n",
       "    </tr>\n",
       "    <tr>\n",
       "      <th>11</th>\n",
       "      <td>credit</td>\n",
       "      <td>us-gaap:otherassetsnoncurrent</td>\n",
       "      <td>U_iso4217USD</td>\n",
       "      <td>-3</td>\n",
       "      <td>97892000</td>\n",
       "      <td>C_0000029002_20201231</td>\n",
       "    </tr>\n",
       "    <tr>\n",
       "      <th>12</th>\n",
       "      <td>calc</td>\n",
       "      <td>us-gaap:assets</td>\n",
       "      <td>U_iso4217USD</td>\n",
       "      <td>-3</td>\n",
       "      <td>1979457000</td>\n",
       "      <td>C_0000029002_20201231</td>\n",
       "    </tr>\n",
       "    <tr>\n",
       "      <th>13</th>\n",
       "      <td>debit</td>\n",
       "      <td>us-gaap:accountspayablecurrent</td>\n",
       "      <td>U_iso4217USD</td>\n",
       "      <td>-3</td>\n",
       "      <td>168045000</td>\n",
       "      <td>C_0000029002_20201231</td>\n",
       "    </tr>\n",
       "    <tr>\n",
       "      <th>14</th>\n",
       "      <td>debit</td>\n",
       "      <td>us-gaap:accruedliabilitiescurrent</td>\n",
       "      <td>U_iso4217USD</td>\n",
       "      <td>-3</td>\n",
       "      <td>160117000</td>\n",
       "      <td>C_0000029002_20201231</td>\n",
       "    </tr>\n",
       "    <tr>\n",
       "      <th>15</th>\n",
       "      <td>debit</td>\n",
       "      <td>us-gaap:taxespayablecurrent</td>\n",
       "      <td>U_iso4217USD</td>\n",
       "      <td>-3</td>\n",
       "      <td>19177000</td>\n",
       "      <td>C_0000029002_20201231</td>\n",
       "    </tr>\n",
       "    <tr>\n",
       "      <th>16</th>\n",
       "      <td>debit</td>\n",
       "      <td>us-gaap:longtermdebtcurrent</td>\n",
       "      <td>U_iso4217USD</td>\n",
       "      <td>-3</td>\n",
       "      <td>21860000</td>\n",
       "      <td>C_0000029002_20201231</td>\n",
       "    </tr>\n",
       "    <tr>\n",
       "      <th>17</th>\n",
       "      <td>calc</td>\n",
       "      <td>us-gaap:liabilitiescurrent</td>\n",
       "      <td>U_iso4217USD</td>\n",
       "      <td>-3</td>\n",
       "      <td>509762000</td>\n",
       "      <td>C_0000029002_20201231</td>\n",
       "    </tr>\n",
       "    <tr>\n",
       "      <th>18</th>\n",
       "      <td>debit</td>\n",
       "      <td>us-gaap:longtermloansfrombank</td>\n",
       "      <td>U_iso4217USD</td>\n",
       "      <td>-3</td>\n",
       "      <td>288179000</td>\n",
       "      <td>C_0000029002_20201231</td>\n",
       "    </tr>\n",
       "    <tr>\n",
       "      <th>19</th>\n",
       "      <td>debit</td>\n",
       "      <td>us-gaap:deferredincometaxliabilitiesnet</td>\n",
       "      <td>U_iso4217USD</td>\n",
       "      <td>-3</td>\n",
       "      <td>34598000</td>\n",
       "      <td>C_0000029002_20201231</td>\n",
       "    </tr>\n",
       "    <tr>\n",
       "      <th>20</th>\n",
       "      <td>debit</td>\n",
       "      <td>us-gaap:otherliabilitiesnoncurrent</td>\n",
       "      <td>U_iso4217USD</td>\n",
       "      <td>-3</td>\n",
       "      <td>130795000</td>\n",
       "      <td>C_0000029002_20201231</td>\n",
       "    </tr>\n",
       "    <tr>\n",
       "      <th>21</th>\n",
       "      <td>calc</td>\n",
       "      <td>us-gaap:liabilities</td>\n",
       "      <td>U_iso4217USD</td>\n",
       "      <td>-3</td>\n",
       "      <td>963334000</td>\n",
       "      <td>C_0000029002_20201231</td>\n",
       "    </tr>\n",
       "    <tr>\n",
       "      <th>22</th>\n",
       "      <td>debit</td>\n",
       "      <td>us-gaap:additionalpaidincapitalcommonstock</td>\n",
       "      <td>U_iso4217USD</td>\n",
       "      <td>-3</td>\n",
       "      <td>449598000</td>\n",
       "      <td>C_0000029002_20201231</td>\n",
       "    </tr>\n",
       "    <tr>\n",
       "      <th>23</th>\n",
       "      <td>debit</td>\n",
       "      <td>us-gaap:retainedearningsappropriated</td>\n",
       "      <td>U_iso4217USD</td>\n",
       "      <td>-3</td>\n",
       "      <td>888046000</td>\n",
       "      <td>C_0000029002_20201231</td>\n",
       "    </tr>\n",
       "    <tr>\n",
       "      <th>24</th>\n",
       "      <td>debit</td>\n",
       "      <td>us-gaap:accumulatedothercomprehensiveincomelos...</td>\n",
       "      <td>U_iso4217USD</td>\n",
       "      <td>-3</td>\n",
       "      <td>-73606000</td>\n",
       "      <td>C_0000029002_20201231</td>\n",
       "    </tr>\n",
       "    <tr>\n",
       "      <th>25</th>\n",
       "      <td>calc</td>\n",
       "      <td>us-gaap:stockholdersequity</td>\n",
       "      <td>U_iso4217USD</td>\n",
       "      <td>-3</td>\n",
       "      <td>963820000</td>\n",
       "      <td>C_0000029002_20201231</td>\n",
       "    </tr>\n",
       "    <tr>\n",
       "      <th>26</th>\n",
       "      <td>debit</td>\n",
       "      <td>us-gaap:minorityinterest</td>\n",
       "      <td>U_iso4217USD</td>\n",
       "      <td>-3</td>\n",
       "      <td>52303000</td>\n",
       "      <td>C_0000029002_20201231</td>\n",
       "    </tr>\n",
       "    <tr>\n",
       "      <th>27</th>\n",
       "      <td>calc</td>\n",
       "      <td>us-gaap:stockholdersequityincludingportionattr...</td>\n",
       "      <td>U_iso4217USD</td>\n",
       "      <td>-3</td>\n",
       "      <td>1016123000</td>\n",
       "      <td>C_0000029002_20201231</td>\n",
       "    </tr>\n",
       "    <tr>\n",
       "      <th>28</th>\n",
       "      <td>calc</td>\n",
       "      <td>us-gaap:liabilitiesandstockholdersequity</td>\n",
       "      <td>U_iso4217USD</td>\n",
       "      <td>-3</td>\n",
       "      <td>1979457000</td>\n",
       "      <td>C_0000029002_20201231</td>\n",
       "    </tr>\n",
       "    <tr>\n",
       "      <th>29</th>\n",
       "      <td>fact</td>\n",
       "      <td>us-gaap:commonstocksharesoutstanding</td>\n",
       "      <td>U_xbrlishares</td>\n",
       "      <td>inf</td>\n",
       "      <td>44276194</td>\n",
       "      <td>C_0000029002_20201231</td>\n",
       "    </tr>\n",
       "  </tbody>\n",
       "</table>\n",
       "</div>"
      ],
      "text/plain": [
       "     type                         name                             unit       \\\n",
       "0   credit      us-gaap:cashandcashequivalentsatcarryingvalue   U_iso4217USD   \n",
       "1   credit           us-gaap:restrictedcashequivalentscurrent   U_iso4217USD   \n",
       "2   credit                       us-gaap:shortterminvestments   U_iso4217USD   \n",
       "3   credit                      us-gaap:receivablesnetcurrent   U_iso4217USD   \n",
       "4   credit                               us-gaap:inventorynet   U_iso4217USD   \n",
       "5   credit        us-gaap:prepaidexpenseandotherassetscurrent   U_iso4217USD   \n",
       "6     calc                              us-gaap:assetscurrent   U_iso4217USD   \n",
       "7   credit               us-gaap:propertyplantandequipmentnet   U_iso4217USD   \n",
       "8   credit                 us-gaap:deferredincometaxassetsnet   U_iso4217USD   \n",
       "9   credit                                   us-gaap:goodwill   U_iso4217USD   \n",
       "10  credit       us-gaap:intangibleassetsnetexcludinggoodwill   U_iso4217USD   \n",
       "11  credit                      us-gaap:otherassetsnoncurrent   U_iso4217USD   \n",
       "12    calc                                     us-gaap:assets   U_iso4217USD   \n",
       "13   debit                     us-gaap:accountspayablecurrent   U_iso4217USD   \n",
       "14   debit                  us-gaap:accruedliabilitiescurrent   U_iso4217USD   \n",
       "15   debit                        us-gaap:taxespayablecurrent   U_iso4217USD   \n",
       "16   debit                        us-gaap:longtermdebtcurrent   U_iso4217USD   \n",
       "17    calc                         us-gaap:liabilitiescurrent   U_iso4217USD   \n",
       "18   debit                      us-gaap:longtermloansfrombank   U_iso4217USD   \n",
       "19   debit            us-gaap:deferredincometaxliabilitiesnet   U_iso4217USD   \n",
       "20   debit                 us-gaap:otherliabilitiesnoncurrent   U_iso4217USD   \n",
       "21    calc                                us-gaap:liabilities   U_iso4217USD   \n",
       "22   debit         us-gaap:additionalpaidincapitalcommonstock   U_iso4217USD   \n",
       "23   debit               us-gaap:retainedearningsappropriated   U_iso4217USD   \n",
       "24   debit  us-gaap:accumulatedothercomprehensiveincomelos...   U_iso4217USD   \n",
       "25    calc                         us-gaap:stockholdersequity   U_iso4217USD   \n",
       "26   debit                           us-gaap:minorityinterest   U_iso4217USD   \n",
       "27    calc  us-gaap:stockholdersequityincludingportionattr...   U_iso4217USD   \n",
       "28    calc           us-gaap:liabilitiesandstockholdersequity   U_iso4217USD   \n",
       "29    fact               us-gaap:commonstocksharesoutstanding  U_xbrlishares   \n",
       "\n",
       "    decimals    value          context          \n",
       "0      -3     268065000  C_0000029002_20201231  \n",
       "1      -3      52464000  C_0000029002_20201231  \n",
       "2      -3       6142000  C_0000029002_20201231  \n",
       "3      -3     320061000  C_0000029002_20201231  \n",
       "4      -3     307062000  C_0000029002_20201231  \n",
       "5      -3      70193000  C_0000029002_20201231  \n",
       "6      -3    1023987000  C_0000029002_20201231  \n",
       "7      -3     530815000  C_0000029002_20201231  \n",
       "8      -3      57841000  C_0000029002_20201231  \n",
       "9      -3     158331000  C_0000029002_20201231  \n",
       "10     -3     110591000  C_0000029002_20201231  \n",
       "11     -3      97892000  C_0000029002_20201231  \n",
       "12     -3    1979457000  C_0000029002_20201231  \n",
       "13     -3     168045000  C_0000029002_20201231  \n",
       "14     -3     160117000  C_0000029002_20201231  \n",
       "15     -3      19177000  C_0000029002_20201231  \n",
       "16     -3      21860000  C_0000029002_20201231  \n",
       "17     -3     509762000  C_0000029002_20201231  \n",
       "18     -3     288179000  C_0000029002_20201231  \n",
       "19     -3      34598000  C_0000029002_20201231  \n",
       "20     -3     130795000  C_0000029002_20201231  \n",
       "21     -3     963334000  C_0000029002_20201231  \n",
       "22     -3     449598000  C_0000029002_20201231  \n",
       "23     -3     888046000  C_0000029002_20201231  \n",
       "24     -3     -73606000  C_0000029002_20201231  \n",
       "25     -3     963820000  C_0000029002_20201231  \n",
       "26     -3      52303000  C_0000029002_20201231  \n",
       "27     -3    1016123000  C_0000029002_20201231  \n",
       "28     -3    1979457000  C_0000029002_20201231  \n",
       "29    inf      44276194  C_0000029002_20201231  "
      ]
     },
     "execution_count": 88,
     "metadata": {},
     "output_type": "execute_result"
    }
   ],
   "source": [
    "df_BS = pd.DataFrame(BS, columns=get_financial_element_columns())\n",
    "df_BS"
   ]
  },
  {
   "cell_type": "code",
   "execution_count": 89,
   "id": "3bfdf3db",
   "metadata": {},
   "outputs": [
    {
     "data": {
      "text/plain": [
       "1979457000.0"
      ]
     },
     "execution_count": 89,
     "metadata": {},
     "output_type": "execute_result"
    }
   ],
   "source": [
    "credits = df_BS[df_BS['type'] == 'credit']['value'].sum()\n",
    "credits"
   ]
  },
  {
   "cell_type": "code",
   "execution_count": 90,
   "id": "ed84028f",
   "metadata": {},
   "outputs": [
    {
     "data": {
      "text/plain": [
       "2139112000.0"
      ]
     },
     "execution_count": 90,
     "metadata": {},
     "output_type": "execute_result"
    }
   ],
   "source": [
    "debits = df_BS[df_BS['type'] == 'debit']['value'].sum()\n",
    "debits"
   ]
  },
  {
   "cell_type": "code",
   "execution_count": 91,
   "id": "3f05c089",
   "metadata": {},
   "outputs": [
    {
     "data": {
      "text/plain": [
       "-159655000.0"
      ]
     },
     "execution_count": 91,
     "metadata": {},
     "output_type": "execute_result"
    }
   ],
   "source": [
    "credits - debits"
   ]
  },
  {
   "cell_type": "code",
   "execution_count": 92,
   "id": "33e9f84d",
   "metadata": {},
   "outputs": [
    {
     "name": "stdout",
     "output_type": "stream",
     "text": [
      "6.05\n"
     ]
    }
   ],
   "source": [
    "cps = np.divide(\n",
    "    df_BS[df_BS['name'] == 'us-gaap:cashandcashequivalentsatcarryingvalue']['value'].values,\n",
    "    df_BS[df_BS['name'] == 'us-gaap:commonstocksharesoutstanding']['value'].values\n",
    ").item()\n",
    "scale = 2\n",
    "\n",
    "print(f\"{cps:.{scale}f}\")"
   ]
  },
  {
   "cell_type": "code",
   "execution_count": null,
   "id": "f1d05301",
   "metadata": {},
   "outputs": [],
   "source": []
  }
 ],
 "metadata": {
  "kernelspec": {
   "display_name": "Python 3 (ipykernel)",
   "language": "python",
   "name": "python3"
  },
  "language_info": {
   "codemirror_mode": {
    "name": "ipython",
    "version": 3
   },
   "file_extension": ".py",
   "mimetype": "text/x-python",
   "name": "python",
   "nbconvert_exporter": "python",
   "pygments_lexer": "ipython3",
   "version": "3.8.10"
  }
 },
 "nbformat": 4,
 "nbformat_minor": 5
}
