{
 "cells": [
  {
   "cell_type": "markdown",
   "id": "0ddfbf2b",
   "metadata": {},
   "source": [
    "# Parsing SEC Filing XBRL Document\n",
    "\n",
    "\n",
    "## Objective\n",
    "\n",
    "Parse the filing XBRL file to create a DOM like structure that represent the filing data\n",
    "\n",
    "## References\n",
    "\n",
    "* [XBRL Specification - Extensible Business Reporting Language (XBRL) 2.1](https://www.xbrl.org/Specification/XBRL-2.1/REC-2003-12-31/XBRL-2.1-REC-2003-12-31+corrected-errata-2013-02-20.html)\n",
    "\n",
    "* [List of US GAAP Standards](https://xbrlsite.azurewebsites.net/2019/Prototype/references/us-gaap/)\n",
    "* [XBRL US - List of Elements](https://xbrl.us/data-rule/dqc_0015-le/)\n",
    "\n",
    "**Element Version**|**Element ID**|**Namespace**|**Element Label**|**Element Name**|**Balance Type**|**Definition**\n",
    ":-----:|:-----:|:-----:|:-----:|:-----:|:-----:|:-----:\n",
    "1|1367|us-gaap|Interest Expense|InterestExpense|debit|Amount of the cost of borrowed funds accounted for as interest expense.\n",
    "2|2692|us-gaap|Cash and Cash Equivalents, at Carrying Value|CashAndCashEquivalentsAtCarryingValue|debit|Amount of currency on hand as well as demand deposits with banks or financial institutions. Includes other kinds of accounts that have the general characteristics of demand deposits. Also includes short-term, highly liquid investments that are both readily convertible to known amounts of cash and so near their maturity that they present insignificant risk of changes in value because of changes in interest rates. Excludes cash and cash equivalents within disposal group and discontinued operation.\n",
    "\n",
    "## XBRL Element\n",
    "\n",
    "* [Understanding the Financial Report Logical System](https://www.youtube.com/playlist?list=PLqMZRUzQ64B7EWamzDP-WaYbS_W0RL9nt)\n",
    "* [XBRL - What is us-gaap:OperatingSegmentsMember element anb where is it defined?](https://money.stackexchange.com/questions/148010/xbrl-what-is-us-gaapoperatingsegmentsmember-element-anb-where-is-it-defined)\n",
    "\n",
    "### Example\n",
    "For instance, Qorvo 2020 10K\n",
    "\n",
    "* [XBRL/rfmd-20210403_htm.xml](https://www.sec.gov/Archives/edgar/data/1604778/000160477821000032/rfmd-20210403_htm.xml)\n",
    "* [HTML/rfmd-20210403.htm)](https://www.sec.gov/Archives/edgar/data/1604778/000160477821000032/rfmd-20210403.htm):\n",
    "\n",
    "```\n",
    "<us-gaap:cashandcashequivalentsatcarryingvalue contextref=\"*\" decimals=\"-3\" id=\"...\" unitref=\"usd\">\n",
    "  1397880000\n",
    "</us-gaap:cashandcashequivalentsatcarryingvalue>,\n",
    "<us-gaap:cashandcashequivalentsatcarryingvalue contextref=\"***\" decimals=\"-3\" id=\"...\" unitref=\"usd\">\n",
    "  714939000\n",
    "</us-gaap:cashandcashequivalentsatcarryingvalue>,\n",
    "<us-gaap:cashandcashequivalentsatcarryingvalue contextref=\"***\" decimals=\"-3\" id=\"...\" unitref=\"usd\">\n",
    " 711035000\n",
    "</us-gaap:cashandcashequivalentsatcarryingvalue>\n",
    "```\n",
    "\n",
    "Corresponds to the Cash and Cash equivalents in the Cash Flow statement.\n",
    "\n",
    "<img src=\"../image/edgar_qorvo_2020_10K_CF.png\" align=\"left\" width=800 />"
   ]
  },
  {
   "cell_type": "markdown",
   "id": "b5dc76bb",
   "metadata": {},
   "source": [
    "---\n",
    "# Setup"
   ]
  },
  {
   "cell_type": "code",
   "execution_count": 1,
   "id": "2200e8cd",
   "metadata": {},
   "outputs": [],
   "source": [
    "from typing import (\n",
    "    List,\n",
    "    Dict\n",
    ")\n",
    "import datetime\n",
    "import dateutil\n",
    "import calendar\n",
    "import re\n",
    "import requests\n",
    "import unicodedata\n",
    "import bs4\n",
    "from bs4 import BeautifulSoup\n",
    "from IPython.core.display import (\n",
    "    display, \n",
    "    HTML\n",
    ")\n",
    "\n",
    "import numpy as np\n",
    "import pandas as pd\n",
    "pd.set_option('display.float_format', lambda x: ('%f' % x).rstrip('0').rstrip('.'))\n",
    "pd.set_option('display.colheader_justify', 'center')"
   ]
  },
  {
   "cell_type": "code",
   "execution_count": 2,
   "id": "0b59706f",
   "metadata": {},
   "outputs": [
    {
     "data": {
      "text/html": [
       "<style>\n",
       "table {float:left}\n",
       "</style>\n"
      ],
      "text/plain": [
       "<IPython.core.display.HTML object>"
      ]
     },
     "metadata": {},
     "output_type": "display_data"
    }
   ],
   "source": [
    "%%html\n",
    "<style>\n",
    "table {float:left}\n",
    "</style>"
   ]
  },
  {
   "cell_type": "code",
   "execution_count": 3,
   "id": "5d0cc495",
   "metadata": {},
   "outputs": [],
   "source": [
    "def restore_windows_1252_characters(restore_string):\n",
    "    \"\"\"\n",
    "        Replace C1 control characters in the Unicode string s by the\n",
    "        characters at the corresponding code points in Windows-1252,\n",
    "        where possible.\n",
    "    \"\"\"\n",
    "\n",
    "    def to_windows_1252(match):\n",
    "        try:\n",
    "            return bytes([ord(match.group(0))]).decode('windows-1252')\n",
    "        except UnicodeDecodeError:\n",
    "            # No character at the corresponding code point: remove it.\n",
    "            return ''\n",
    "        \n",
    "    return re.sub(r'[\\u0080-\\u0099]', to_windows_1252, restore_string)"
   ]
  },
  {
   "cell_type": "markdown",
   "id": "4c2eeefe",
   "metadata": {},
   "source": [
    "# Global Constant"
   ]
  },
  {
   "cell_type": "code",
   "execution_count": 4,
   "id": "faac3969",
   "metadata": {},
   "outputs": [
    {
     "data": {
      "text/plain": [
       "<re.Match object; span=(0, 9), match=' -123.12 '>"
      ]
     },
     "execution_count": 4,
     "metadata": {},
     "output_type": "execute_result"
    }
   ],
   "source": [
    "# regexp to extract numeric string\n",
    "REGEXP_NUMERIC = re.compile(r\"\\s*[\\d.-]*\\s*\")\n",
    "\n",
    "re.match(REGEXP_NUMERIC, \" -123.12 \")"
   ]
  },
  {
   "cell_type": "code",
   "execution_count": 5,
   "id": "745ed707",
   "metadata": {},
   "outputs": [],
   "source": [
    "FS_TYPE_10K = \"10-K\"\n",
    "FS_TYPE_10Q = \"10-Q\""
   ]
  },
  {
   "cell_type": "markdown",
   "id": "54e42be6",
   "metadata": {},
   "source": [
    "---\n",
    "# Load EDGAR Filing XBRL\n",
    "\n",
    "Download the ```_htm.xml``` file from EDGAR. SEC now requires user-agent header."
   ]
  },
  {
   "cell_type": "code",
   "execution_count": 6,
   "id": "3cbf49e0",
   "metadata": {},
   "outputs": [
    {
     "data": {
      "text/plain": [
       "'https://www.sec.gov/Archives/edgar/data/1047127/000104712721000043/amkr-20210930_htm.xml'"
      ]
     },
     "execution_count": 6,
     "metadata": {},
     "output_type": "execute_result"
    }
   ],
   "source": [
    "# AMKOR 2021 10K\n",
    "CIK = '1047127'\n",
    "ACCESSION = '000104712721000043'\n",
    "FS_TYPE = FS_TYPE_10Q\n",
    "\n",
    "FILING_DIR_URL = f\"https://www.sec.gov/Archives/edgar/data/{CIK}/{ACCESSION}\"\n",
    "XBRL_NAME = \"amkr-20210930_htm.xml\"\n",
    "XBRL_URL = \"/\".join([FILING_DIR_URL, XBRL_NAME])\n",
    "\n",
    "XBRL_URL"
   ]
  },
  {
   "cell_type": "code",
   "execution_count": 7,
   "id": "469eb200",
   "metadata": {},
   "outputs": [
    {
     "data": {
      "text/plain": [
       "'https://www.sec.gov/Archives/edgar/data/0001000230/000143774921028951/occ20211031_10k_htm.xml'"
      ]
     },
     "execution_count": 7,
     "metadata": {},
     "output_type": "execute_result"
    }
   ],
   "source": [
    "# OPTICAL CABLE CORPORATION 10-K for the fiscal year ended October 31, 2021\n",
    "CIK = '0001000230'\n",
    "ACCESSION = '000143774921028951'\n",
    "FS_TYPE = FS_TYPE_10K\n",
    "\n",
    "FILING_DIR_URL = f\"https://www.sec.gov/Archives/edgar/data/{CIK}/{ACCESSION}\"\n",
    "XBRL_NAME = \"occ20211031_10k_htm.xml\"\n",
    "XBRL_URL = \"/\".join([FILING_DIR_URL, XBRL_NAME])\n",
    "\n",
    "XBRL_URL"
   ]
  },
  {
   "cell_type": "code",
   "execution_count": 8,
   "id": "835ee3d4",
   "metadata": {},
   "outputs": [
    {
     "data": {
      "text/plain": [
       "'https://www.sec.gov/Archives/edgar/data/1604778/000160477821000032/rfmd-20210403_htm.xml'"
      ]
     },
     "execution_count": 8,
     "metadata": {},
     "output_type": "execute_result"
    }
   ],
   "source": [
    "# QORVO 2021 10K\n",
    "CIK = '1604778'\n",
    "ACCESSION = '000160477821000032'\n",
    "FS_TYPE = FS_TYPE_10K\n",
    "\n",
    "FILING_DIR_URL = f\"https://www.sec.gov/Archives/edgar/data/{CIK}/{ACCESSION}\"\n",
    "XBRL_NAME = \"rfmd-20210403_htm.xml\"\n",
    "XBRL_URL = \"/\".join([FILING_DIR_URL, XBRL_NAME])\n",
    "\n",
    "XBRL_URL"
   ]
  },
  {
   "cell_type": "code",
   "execution_count": 9,
   "id": "5c791def",
   "metadata": {},
   "outputs": [],
   "source": [
    "headers = {\"User-Agent\": \"Company Name myname@company.com\"}\n",
    "response = requests.get(XBRL_URL, headers=headers)\n",
    "\n",
    "if response.status_code == 200:\n",
    "    content = response.content.decode(\"utf-8\") \n",
    "else:\n",
    "    assert False, f\"{XBRL_URL} failed with status {response.status_code}\""
   ]
  },
  {
   "cell_type": "code",
   "execution_count": 10,
   "id": "15f4f874",
   "metadata": {},
   "outputs": [],
   "source": [
    "soup = BeautifulSoup(content, 'html.parser')"
   ]
  },
  {
   "cell_type": "markdown",
   "id": "9c96339c",
   "metadata": {},
   "source": [
    "## Repoting period\n",
    "\n",
    "Each 10-K and 10-Q XBRL has the reporting period for the filing. To exclude the other period, e.g. pervious year or quarter, use the ```context id``` for the reporting period. **Most** 10-K, 10-Q specify the annual period with the first ```<startDate> and <endDate>``` tags.\n",
    "\n",
    "For instances:\n",
    "\n",
    "### QRVO 10-K 2020\n",
    "\n",
    "```\n",
    "<context id=\"ifb6ce67cf6954ebf88471dd82daa9247_D20200329-20210403\">\n",
    "    <entity>\n",
    "    <identifier scheme=\"http://www.sec.gov/CIK\">0001604778</identifier>\n",
    "    </entity>\n",
    "    <period>\n",
    "        <startDate>2020-03-29</startDate>\n",
    "        <endDate>2021-04-03</endDate>\n",
    "    </period>\n",
    "</context>\n",
    "```\n",
    "\n",
    "### AMKR 10-K 2020\n",
    "\n",
    "```\n",
    "<context id=\"i5fac0a392353427b8266f185495754d3_D20200101-20201231\">\n",
    "    <entity>\n",
    "    <identifier scheme=\"http://www.sec.gov/CIK\">0001047127</identifier>\n",
    "    </entity>\n",
    "    <period>\n",
    "        <startDate>2020-01-01</startDate>\n",
    "        <endDate>2020-12-31</endDate>\n",
    "    </period>\n",
    "</context>\n",
    "```\n",
    "\n",
    "### AAPL 10-Q 4th QTR 2020\n",
    "\n",
    "```\n",
    "<context id=\"i6e431846933d461fb8c8c0bdf98c9758_D20200927-20201226\">\n",
    "    <entity>\n",
    "    <identifier scheme=\"http://www.sec.gov/CIK\">0000320193</identifier>\n",
    "    </entity>\n",
    "    <period>\n",
    "        <startDate>2020-09-27</startDate>\n",
    "        <endDate>2020-12-26</endDate>\n",
    "    </period>\n",
    "</context>\n",
    "```\n",
    "\n",
    "**However, there are companies that do not have this manner**. For instance [10-K for OPTICAL CABLE CORPORATION(CIK=0001000230)](https://www.sec.gov/Archives/edgar/data/1000230/000143774921028951/occ20211031_10k_htm.xml) has the same start and end dates at first.\n",
    "\n",
    "```\n",
    "<context id=\"d202110K\">\n",
    "\t<entity>\n",
    "\t\t<identifier scheme=\"http://www.sec.gov/CIK\">0001000230</identifier>\n",
    "\t</entity>\n",
    "\t<period>\n",
    "\t\t<startDate>2021-10-31</startDate>   # <-----\n",
    "\t\t<endDate>2021-10-31</endDate>\n",
    "\t</period>\n",
    "</context>\n",
    "<context id=\"d_2020-11-01_2021-10-31\">\n",
    "\t<entity>\n",
    "\t\t<identifier scheme=\"http://www.sec.gov/CIK\">0001000230</identifier>\n",
    "\t</entity>\n",
    "\t<period>\n",
    "\t\t<startDate>2020-11-01</startDate>   # <-----\n",
    "\t\t<endDate>2021-10-31</endDate>\n",
    "\t</period>\n",
    "</context>\n",
    "```\n",
    "\n",
    "The report uses the 2nd for 2021 F/S element value but does not use the first one.\n",
    "\n",
    "**B/S**\n",
    "```\n",
    "<us-gaap:Assets \n",
    "    contextRef=\"i_2021-10-31\"    # <-----\n",
    "    decimals=\"INF\" \n",
    "    id=\"c79893606\" \n",
    "    unitRef=\"USD\"\n",
    ">\n",
    "  37916530\n",
    "</us-gaap:Assets>\n",
    "```\n",
    "\n",
    "**P/L**\n",
    "```\n",
    "<us-gaap:RevenueFromContractWithCustomerIncludingAssessedTax \n",
    "  contextRef=\"d_2020-11-01_2021-10-31\"     # <-----\n",
    "  decimals=\"INF\" \n",
    "  id=\"c79893662\" \n",
    "  unitRef=\"USD\"\n",
    ">\n",
    "  59136294\n",
    "</us-gaap:RevenueFromContractWithCustomerIncludingAssessedTax>\n",
    "```\n",
    "\n",
    "<img src='../image/edgar_optical_cable_2021_10K.png' align=\"left\" width=500/>"
   ]
  },
  {
   "cell_type": "markdown",
   "id": "28b0a37e",
   "metadata": {},
   "source": [
    "### Get the period from the 1st\n",
    "\n",
    "For now, just get the period from the 1st **period** element."
   ]
  },
  {
   "cell_type": "code",
   "execution_count": 11,
   "id": "594186af",
   "metadata": {},
   "outputs": [],
   "source": [
    "def get_period(soup):\n",
    "    \"\"\"Identify the report period (end date) from the first context tag in the statement.\n",
    "    <context id=\"ifb6ce67cf6954ebf88471dd82daa9247_D20200329-20210403\">\n",
    "        <entity>\n",
    "        <identifier scheme=\"http://www.sec.gov/CIK\">0001604778</identifier>\n",
    "        </entity>\n",
    "        <period>\n",
    "            <startDate>2020-03-29</startDate>\n",
    "            <endDate>2021-04-03</endDate>        # <-----\n",
    "        </period>\n",
    "    </context>\n",
    "    Returns: reporting period e.g. \"2021-09-30\"\n",
    "    \"\"\"\n",
    "    first_context = None\n",
    "    for context in soup.find_all('context'):\n",
    "        if context.find('period') and context.find('period').find('enddate'):\n",
    "            first_context = context\n",
    "            break      \n",
    "        \n",
    "    assert first_context is not None, \"No period found\"\n",
    "    period = first_context.find('period').find('enddate').text.strip()\n",
    "    \n",
    "    try:\n",
    "        dateutil.parser.parse(period)\n",
    "    except ValueError as e:\n",
    "        assert False, f\"Invalid period {period} found.\"\n",
    "            \n",
    "    return period"
   ]
  },
  {
   "cell_type": "code",
   "execution_count": 12,
   "id": "f21c0bda",
   "metadata": {},
   "outputs": [
    {
     "data": {
      "text/plain": [
       "'2021-04-03'"
      ]
     },
     "execution_count": 12,
     "metadata": {},
     "output_type": "execute_result"
    }
   ],
   "source": [
    "PERIOD = get_period(soup)\n",
    "PERIOD"
   ]
  },
  {
   "cell_type": "markdown",
   "id": "a4bc1c5d",
   "metadata": {},
   "source": [
    "### Regexp to find all the contexts that match with PERIOD\n",
    "\n",
    "10-K, 10-Q F/S uses multiple contexts to refer to the F/S element values for the **period**. Collect all the contexts for the **period**."
   ]
  },
  {
   "cell_type": "code",
   "execution_count": 13,
   "id": "87b8b607",
   "metadata": {},
   "outputs": [],
   "source": [
    "def get_target_contexts(soup, period, type=FS_TYPE_10K):\n",
    "    target_contexts = []\n",
    "\n",
    "    end_date = dateutil.parser.parse(period)\n",
    "    duration = datetime.timedelta(days=365) if type == FS_TYPE_10K else datetime.timedelta(days=90)\n",
    "\n",
    "    # The StartDate of the valid context is within +/- 30 days of the starting date of the period.\n",
    "    # If the report is 10-K and the period end is 2021-10-31, then the validate date is between\n",
    "    # 2020-10-1 and 2020-11-1\n",
    "    from_date = end_date - duration - datetime.timedelta(days=30)\n",
    "    to_date = end_date - duration + datetime.timedelta(days=30)\n",
    "\n",
    "    # Contexts with startdate/enddate\n",
    "    for context in soup.find_all('context'):\n",
    "        # print(\"-\"*100)\n",
    "        # print(context)\n",
    "        if context.find('period') and context.find('period').find('enddate', string=period):\n",
    "            start = dateutil.parser.parse(context.find('period').find('startdate').text)\n",
    "            if start == end_date or (from_date < start and start < to_date):\n",
    "                target_contexts.append(context['id'])\n",
    "\n",
    "    \n",
    "    # Contexts with 'instant' element\n",
    "    target_contexts.extend([\n",
    "        context['id'] for context in soup.find_all('context') \n",
    "        if context.find('period') and context.find('period').find(['instant'], string=PERIOD)\n",
    "    ])\n",
    "    \n",
    "    return target_contexts"
   ]
  },
  {
   "cell_type": "markdown",
   "id": "b9fc10ed",
   "metadata": {},
   "source": [
    "# Constant"
   ]
  },
  {
   "cell_type": "code",
   "execution_count": 14,
   "id": "517de640",
   "metadata": {},
   "outputs": [],
   "source": [
    "# XBRL Namespace\n",
    "NAMESPACE = \"us-gaap\""
   ]
  },
  {
   "cell_type": "code",
   "execution_count": 15,
   "id": "205a93e7",
   "metadata": {},
   "outputs": [],
   "source": [
    "ELEMENT_TYPE_DEBIT = 'debit'\n",
    "ELEMENT_TYPE_CREDIT = 'credit'\n",
    "ELEMENT_TYPE_CALC = 'calc'      # calculated value e.g. sub total \n",
    "ELEMENT_TYPE_METRIC = 'metric'  # metrics e.g. EPS\n",
    "ELEMENT_TYPE_FACT = 'fact'\n",
    "\n",
    "CREDIT_ITEMS = set(map(str.lower, [\n",
    "    f\"{NAMESPACE}:Revenues\",\n",
    "    f\"{NAMESPACE}:OtherNonoperatingIncomeExpense\",  # Why this is in credit?\n",
    "    f\"{NAMESPACE}:CashAndCashEquivalentsAtCarryingValue\",\n",
    "]))\n",
    "\n",
    "DEBIT_ITEMS = set(map(str.lower, [\n",
    "    f\"{NAMESPACE}:CostOfRevenue\",\n",
    "    f\"{NAMESPACE}:CostOfGoods\",\n",
    "    f\"{NAMESPACE}:CostOfGoodsAndServicesSold\",\n",
    "    f\"{NAMESPACE}:ResearchAndDevelopmentExpense\",\n",
    "    f\"{NAMESPACE}:SellingGeneralAndAdministrativeExpense\",\n",
    "    f\"{NAMESPACE}:OtherCostAndExpenseOperating\",\n",
    "    f\"{NAMESPACE}:IncomeTaxExpenseBenefit\",\n",
    "    f\"{NAMESPACE}:InterestExpense\",\n",
    "]))\n",
    "\n",
    "CALC_ITEMS = set(map(str.lower, [\n",
    "    f\"{NAMESPACE}:OperatingExpenses\",\n",
    "    f\"{NAMESPACE}:GrossProfit\",\n",
    "    f\"{NAMESPACE}:OperatingIncomeLoss\",\n",
    "    f\"{NAMESPACE}:NetIncomeLoss\",    \n",
    "]))\n",
    "\n",
    "METRIC_ITEMS = set(map(str.lower, [\n",
    "    f\"{NAMESPACE}:EarningsPerShareBasic\",\n",
    "    f\"{NAMESPACE}:EarningsPerShareBasicAndDiluted\",\n",
    "]))\n",
    "\n",
    "FACT_ITEMS = set(map(str.lower, [\n",
    "    f\"{NAMESPACE}:SharesOutstanding\",\n",
    "    f\"{NAMESPACE}:CommonStockSharesOutstanding\",\n",
    "    f\"{NAMESPACE}:CommonStockOtherSharesOutstanding\",\n",
    "]))"
   ]
  },
  {
   "cell_type": "code",
   "execution_count": 16,
   "id": "6d1e0b89",
   "metadata": {},
   "outputs": [],
   "source": [
    "CONTEXT_REGEXP = re.compile(\"|\".join(get_target_contexts(soup=soup, period=PERIOD, type=FS_TYPE)))"
   ]
  },
  {
   "cell_type": "markdown",
   "id": "2859eadd",
   "metadata": {},
   "source": [
    "# Utilities"
   ]
  },
  {
   "cell_type": "code",
   "execution_count": 17,
   "id": "bd81be4d",
   "metadata": {},
   "outputs": [],
   "source": [
    "def assert_bf4_tag(element):\n",
    "    assert isinstance(element, bs4.element.Tag), \\\n",
    "    f\"Expected BS4 tag but {element} of type {type(element)}\""
   ]
  },
  {
   "cell_type": "code",
   "execution_count": 18,
   "id": "06a84787",
   "metadata": {},
   "outputs": [],
   "source": [
    "def display_elements(elements):\n",
    "    assert isinstance(elements, bs4.element.ResultSet) or isinstance(elements[0], bs4.element.Tag)\n",
    "    for element in elements: # decimals=\"-3\" means the displayed value is divied by 1000.\n",
    "        print(f\"{element.name:80} {element['unitref']:5} {element['decimals']:5} {element.text:15}\")"
   ]
  },
  {
   "cell_type": "code",
   "execution_count": 19,
   "id": "80c47646",
   "metadata": {},
   "outputs": [],
   "source": [
    "def get_element_hash(element):\n",
    "    \"\"\"Generate the financial element hash key to uniquely identify an financial element record\n",
    "    In a F/S, the same element, e.g. gaap:CashAndCashEquivalentsAtCarryingValue can be used at\n",
    "    multiple places, one in B/S and one in P/L.\n",
    "    \n",
    "    To be able to identify if two elements are the same, provides a way to be able to compare\n",
    "    two elements by generating a hash key from the attributes of an element.\n",
    "\n",
    "    Use name, unitref, decimals, text to generate the has.\n",
    "    \n",
    "    Args:\n",
    "        element: bs4.element.Tag for an financial element\n",
    "    Returns: hash key\n",
    "    \"\"\"\n",
    "    assert isinstance(element, bs4.element.Tag)\n",
    "    # key = f\"{element.name}{element['unitref']}{element['contextref']}{element.text}\"\n",
    "    key = f\"{element.name}{element['unitref']}{element.text}\"\n",
    "    return hash(key)"
   ]
  },
  {
   "cell_type": "code",
   "execution_count": 20,
   "id": "8f40389a",
   "metadata": {},
   "outputs": [],
   "source": [
    "# XBRL attribute conditions to match when extracting FS elements\n",
    "ATTRIBUTES = {\n",
    "    \"contextref\": CONTEXT_REGEXP,\n",
    "    \"decimals\": True, \n",
    "    \"unitref\": True\n",
    "}\n",
    "\n",
    "\n",
    "def find_financial_elements(soup, element_names, attributes=ATTRIBUTES):\n",
    "    \"\"\"Find the financial statement elements from the XML/HTML source.\n",
    "    Args:\n",
    "        soup: BS4 source\n",
    "        element_names: String or regexp instance to select the financial elements.\n",
    "        attribute: tag attributes to select the financial elements\n",
    "    Returns:\n",
    "        List of BS4 tag objects that matched the element_names and attributes.\n",
    "    \"\"\"\n",
    "    assert isinstance(soup, BeautifulSoup)\n",
    "    assert isinstance(element_names, re.Pattern) or isinstance(element_names, str)\n",
    "\n",
    "    \n",
    "    names = element_names.lower() if isinstance(element_names, str) else element_names\n",
    "\n",
    "    elements = soup.find_all(\n",
    "        name=names,\n",
    "        string=REGEXP_NUMERIC,\n",
    "        attrs=attributes\n",
    "    )\n",
    "    \n",
    "    # Select unique elements\n",
    "    hashes = set([]) \n",
    "    results = []\n",
    "    if elements is not None and len(elements) > 0:\n",
    "        for element in elements:\n",
    "            hash_value = get_element_hash(element)\n",
    "            if hash_value not in hashes:\n",
    "                results.append(element) \n",
    "                hashes.add(hash_value)\n",
    "\n",
    "    return results"
   ]
  },
  {
   "cell_type": "code",
   "execution_count": 21,
   "id": "9ae771a9",
   "metadata": {},
   "outputs": [],
   "source": [
    "def get_financial_element_numeric_values(elements):\n",
    "    # assert isinstance(elements, bs4.element.ResultSet) or isinstance(elements[0], bs4.element.Tag)\n",
    "    assert_bf4_tag(elements[0])\n",
    "    \n",
    "    values = []\n",
    "    for element in elements:\n",
    "        assert re.match(REGEXP_NUMERIC, element.text.strip()), f\"Element must be numeric but {element.text}\"\n",
    "        values.append(float(element.text))\n",
    "        \n",
    "    return values"
   ]
  },
  {
   "cell_type": "code",
   "execution_count": 22,
   "id": "da55f58b",
   "metadata": {},
   "outputs": [],
   "source": [
    "def get_financial_element_columns():\n",
    "    \"\"\"Financial record columns\"\"\"\n",
    "    return [\"type\", \"name\", \"unit\", \"decimals\", \"value\", \"context\"]\n",
    "\n",
    "def get_record_for_nil_elements(elements, element_type=None):\n",
    "    results = []\n",
    "    for element in elements:\n",
    "        # Type of the elemen\n",
    "        if element_type is None and element.name in DEBIT_ITEMS: element_type = ELEMENT_TYPE_DEBIT\n",
    "        if element_type is None and element.name in CREDIT_ITEMS: element_type = ELEMENT_TYPE_CREDIT\n",
    "        if element_type is None and element.name in CALC_ITEMS: element_type = ELEMENT_TYPE_CALC\n",
    "        if element_type is None and element.name in METRIC_ITEMS: element_type = ELEMENT_TYPE_METRIC\n",
    "        if element_type is None and element.name in FACT_ITEMS: element_type = ELEMENT_TYPE_FACT\n",
    "\n",
    "        # Name of the financial element\n",
    "        element_name = element.name\n",
    "\n",
    "        # Unit of the financial element\n",
    "        element_unit = element['unitref']\n",
    "\n",
    "        # Scale of the element\n",
    "        element_scale = int(element['decimals']) if element['decimals'].lower() != 'inf' else np.inf\n",
    "\n",
    "        # Value of the element\n",
    "        element_value = -np.inf\n",
    "\n",
    "        # Context ID of the element\n",
    "        element_context = element['contextref']\n",
    "\n",
    "        results.append([\n",
    "            element_type,\n",
    "            element_name,\n",
    "            element_unit, \n",
    "            element_scale, \n",
    "            element_value, \n",
    "            element_context\n",
    "        ])\n",
    "        \n",
    "    return results\n",
    "\n",
    "def get_records_for_financial_elements(elements, element_type=None):\n",
    "    \"\"\"Financial record having the columns of get_financial_element_columns\"\"\"\n",
    "    # assert isinstance(elements, bs4.element.ResultSet) or isinstance(elements[0], bs4.element.Tag)\n",
    "    assert_bf4_tag(elements[0])\n",
    "    \n",
    "    results = []\n",
    "    for element in elements:\n",
    "        # Type of the elemen\n",
    "        if element_type is None and element.name in DEBIT_ITEMS: element_type = ELEMENT_TYPE_DEBIT\n",
    "        if element_type is None and element.name in CREDIT_ITEMS: element_type = ELEMENT_TYPE_CREDIT\n",
    "        if element_type is None and element.name in CALC_ITEMS: element_type = ELEMENT_TYPE_CALC\n",
    "        if element_type is None and element.name in METRIC_ITEMS: element_type = ELEMENT_TYPE_METRIC\n",
    "        if element_type is None and element.name in FACT_ITEMS: element_type = ELEMENT_TYPE_FACT\n",
    "        \n",
    "        # Name of the financial element\n",
    "        element_name = element.name\n",
    "        \n",
    "        # Unit of the financial element\n",
    "        element_unit = element['unitref']\n",
    "        \n",
    "        # Scale of the element\n",
    "        element_scale = int(element['decimals']) if element['decimals'].lower() != 'inf' else np.inf\n",
    "            \n",
    "        # Value of the element\n",
    "        element_value = float(element.text)\n",
    "\n",
    "        # Context ID of the element\n",
    "        element_context = element['contextref']\n",
    "        \n",
    "        results.append([\n",
    "            element_type,\n",
    "            element_name,\n",
    "            element_unit, \n",
    "            element_scale, \n",
    "            element_value, \n",
    "            element_context\n",
    "        ])\n",
    "        \n",
    "    return results"
   ]
  },
  {
   "cell_type": "code",
   "execution_count": 23,
   "id": "f1413eb3",
   "metadata": {},
   "outputs": [],
   "source": [
    "def get_records_for_financial_element_names(soup, names: List[str], element_type=None):\n",
    "    \"\"\"Get finacial records that matches the financial element names\n",
    "    \"\"\"\n",
    "    elements = find_financial_elements(soup=soup, element_names=names)\n",
    "    if len(elements) > 0:\n",
    "        display_elements(elements)\n",
    "        return get_records_for_financial_elements(elements, element_type)\n",
    "    else:\n",
    "        return get_record_for_nil_elements(elements)"
   ]
  },
  {
   "cell_type": "code",
   "execution_count": 24,
   "id": "a4cf2dab",
   "metadata": {},
   "outputs": [],
   "source": [
    "def get_values_for_financial_element_names(soup, names: List[str]):\n",
    "    elements = find_financial_elements(soup=soup, element_names=names)\n",
    "    if len(elements) > 0:\n",
    "        display_elements(elements)\n",
    "        return get_financial_element_numeric_values(elements)\n",
    "    else:\n",
    "        return []"
   ]
  },
  {
   "cell_type": "markdown",
   "id": "c29a5ca6",
   "metadata": {},
   "source": [
    "---\n",
    "# Shares Outstanding"
   ]
  },
  {
   "cell_type": "code",
   "execution_count": 25,
   "id": "1dae9ea2",
   "metadata": {},
   "outputs": [],
   "source": [
    "def get_shared_outstanding(soup):\n",
    "    names = re.compile(\"|\".join([\n",
    "        rf\"{NAMESPACE}:SharesOutstanding\",\n",
    "        rf\"{NAMESPACE}:CommonStockSharesOutstanding\",\n",
    "        rf\"{NAMESPACE}:CommonStockOtherSharesOutstanding\",\n",
    "    ]).lower())\n",
    "\n",
    "    return get_records_for_financial_element_names(soup=soup, names=names)"
   ]
  },
  {
   "cell_type": "code",
   "execution_count": 26,
   "id": "ffb12180",
   "metadata": {},
   "outputs": [
    {
     "name": "stdout",
     "output_type": "stream",
     "text": [
      "us-gaap:commonstocksharesoutstanding                                             shares -3    112557000      \n"
     ]
    },
    {
     "data": {
      "text/plain": [
       "[['fact',\n",
       "  'us-gaap:commonstocksharesoutstanding',\n",
       "  'shares',\n",
       "  -3,\n",
       "  112557000.0,\n",
       "  'i531402faf1d04969ac2b2ba0e1680766_I20210403']]"
      ]
     },
     "execution_count": 26,
     "metadata": {},
     "output_type": "execute_result"
    }
   ],
   "source": [
    "shares_outstandings = get_shared_outstanding(soup)\n",
    "shares_outstandings"
   ]
  },
  {
   "cell_type": "code",
   "execution_count": 27,
   "id": "f1a74ee5",
   "metadata": {},
   "outputs": [
    {
     "data": {
      "text/html": [
       "<div>\n",
       "<style scoped>\n",
       "    .dataframe tbody tr th:only-of-type {\n",
       "        vertical-align: middle;\n",
       "    }\n",
       "\n",
       "    .dataframe tbody tr th {\n",
       "        vertical-align: top;\n",
       "    }\n",
       "\n",
       "    .dataframe thead th {\n",
       "        text-align: right;\n",
       "    }\n",
       "</style>\n",
       "<table border=\"1\" class=\"dataframe\">\n",
       "  <thead>\n",
       "    <tr style=\"text-align: center;\">\n",
       "      <th></th>\n",
       "      <th>0</th>\n",
       "      <th>1</th>\n",
       "      <th>2</th>\n",
       "      <th>3</th>\n",
       "      <th>4</th>\n",
       "      <th>5</th>\n",
       "    </tr>\n",
       "  </thead>\n",
       "  <tbody>\n",
       "    <tr>\n",
       "      <th>0</th>\n",
       "      <td>fact</td>\n",
       "      <td>us-gaap:commonstocksharesoutstanding</td>\n",
       "      <td>shares</td>\n",
       "      <td>-3</td>\n",
       "      <td>112557000</td>\n",
       "      <td>i531402faf1d04969ac2b2ba0e1680766_I20210403</td>\n",
       "    </tr>\n",
       "  </tbody>\n",
       "</table>\n",
       "</div>"
      ],
      "text/plain": [
       "    0                     1                      2     3      4     \\\n",
       "0  fact  us-gaap:commonstocksharesoutstanding  shares -3 112557000   \n",
       "\n",
       "                       5                        \n",
       "0  i531402faf1d04969ac2b2ba0e1680766_I20210403  "
      ]
     },
     "execution_count": 27,
     "metadata": {},
     "output_type": "execute_result"
    }
   ],
   "source": [
    "df_ShareOutstanding = pd.DataFrame(shares_outstandings)\n",
    "df_ShareOutstanding"
   ]
  },
  {
   "cell_type": "markdown",
   "id": "e6738a3c",
   "metadata": {},
   "source": [
    "---\n",
    "# Statements of Income (P/L)"
   ]
  },
  {
   "cell_type": "code",
   "execution_count": 28,
   "id": "c913bb81",
   "metadata": {},
   "outputs": [],
   "source": [
    "PL = []"
   ]
  },
  {
   "cell_type": "markdown",
   "id": "de666426",
   "metadata": {},
   "source": [
    "## Revenues"
   ]
  },
  {
   "cell_type": "code",
   "execution_count": 29,
   "id": "7d615d72",
   "metadata": {},
   "outputs": [],
   "source": [
    "def get_revenues(soup):\n",
    "    names = rf\"{NAMESPACE}:Revenues\".lower()\n",
    "    return get_records_for_financial_element_names(soup=soup, names=names)\n",
    "    "
   ]
  },
  {
   "cell_type": "code",
   "execution_count": 30,
   "id": "9a0a574e",
   "metadata": {},
   "outputs": [
    {
     "name": "stdout",
     "output_type": "stream",
     "text": [
      "us-gaap:revenues                                                                 usd   -3    4015307000     \n",
      "us-gaap:revenues                                                                 usd   -3    2856813000     \n",
      "us-gaap:revenues                                                                 usd   -3    1158494000     \n",
      "us-gaap:revenues                                                                 usd   -3    1631110000     \n",
      "us-gaap:revenues                                                                 usd   -3    1579017000     \n",
      "us-gaap:revenues                                                                 usd   -3    363523000      \n",
      "us-gaap:revenues                                                                 usd   -3    248708000      \n",
      "us-gaap:revenues                                                                 usd   -3    192949000      \n"
     ]
    }
   ],
   "source": [
    "PL += get_revenues(soup)"
   ]
  },
  {
   "cell_type": "markdown",
   "id": "68b80f19",
   "metadata": {},
   "source": [
    "## Cost of Revenues"
   ]
  },
  {
   "cell_type": "code",
   "execution_count": 31,
   "id": "53c8724f",
   "metadata": {},
   "outputs": [],
   "source": [
    "def get_cost_of_revenues(soup):\n",
    "    names = re.compile(\"|\".join([\n",
    "        rf\"^{NAMESPACE}:CostOfRevenue$\",\n",
    "        rf\"^{NAMESPACE}:CostOfGoods$\",\n",
    "        rf\"^{NAMESPACE}:CostOfGoodsAndServicesSold$\",\n",
    "    ]).lower())\n",
    "    return get_records_for_financial_element_names(soup=soup, names=names)"
   ]
  },
  {
   "cell_type": "code",
   "execution_count": 32,
   "id": "5d1469d9",
   "metadata": {},
   "outputs": [
    {
     "name": "stdout",
     "output_type": "stream",
     "text": [
      "us-gaap:costofgoodsandservicessold                                               usd   -3    2131741000     \n"
     ]
    }
   ],
   "source": [
    "PL += get_cost_of_revenues(soup)"
   ]
  },
  {
   "cell_type": "markdown",
   "id": "e79680c1",
   "metadata": {},
   "source": [
    "## ***___# Gross Profit___***"
   ]
  },
  {
   "cell_type": "code",
   "execution_count": 33,
   "id": "e31d6659",
   "metadata": {},
   "outputs": [],
   "source": [
    "def get_gross_profit(soup):\n",
    "    names = f\"{NAMESPACE}:GrossProfit\".lower()\n",
    "    return get_records_for_financial_element_names(soup=soup, names=names)"
   ]
  },
  {
   "cell_type": "code",
   "execution_count": 34,
   "id": "287cc54d",
   "metadata": {},
   "outputs": [
    {
     "name": "stdout",
     "output_type": "stream",
     "text": [
      "us-gaap:grossprofit                                                              usd   -3    1883566000     \n"
     ]
    }
   ],
   "source": [
    "PL += get_gross_profit(soup)"
   ]
  },
  {
   "cell_type": "markdown",
   "id": "7f82df6e",
   "metadata": {},
   "source": [
    "## Operating Expenses"
   ]
  },
  {
   "cell_type": "markdown",
   "id": "78301f82",
   "metadata": {},
   "source": [
    "### Research and Development"
   ]
  },
  {
   "cell_type": "code",
   "execution_count": 35,
   "id": "93fd493a",
   "metadata": {},
   "outputs": [
    {
     "name": "stdout",
     "output_type": "stream",
     "text": [
      "us-gaap:researchanddevelopmentexpense                                            usd   -3    570395000      \n"
     ]
    }
   ],
   "source": [
    "names = f\"{NAMESPACE}:ResearchAndDevelopmentExpense\".lower()\n",
    "PL += get_records_for_financial_element_names(soup, names)"
   ]
  },
  {
   "cell_type": "markdown",
   "id": "bd403d66",
   "metadata": {},
   "source": [
    "### Administrative Expense"
   ]
  },
  {
   "cell_type": "code",
   "execution_count": 36,
   "id": "b06a7994",
   "metadata": {},
   "outputs": [
    {
     "name": "stdout",
     "output_type": "stream",
     "text": [
      "us-gaap:sellinggeneralandadministrativeexpense                                   usd   -3    367238000      \n"
     ]
    }
   ],
   "source": [
    "names = f\"{NAMESPACE}:SellingGeneralAndAdministrativeExpense\"\n",
    "PL += get_records_for_financial_element_names(soup, names)"
   ]
  },
  {
   "cell_type": "markdown",
   "id": "632045df",
   "metadata": {},
   "source": [
    "### Other operating expenses"
   ]
  },
  {
   "cell_type": "code",
   "execution_count": 37,
   "id": "458052dd",
   "metadata": {},
   "outputs": [
    {
     "data": {
      "text/plain": [
       "[<us-gaap:sellinggeneralandadministrativeexpense contextref=\"ifb6ce67cf6954ebf88471dd82daa9247_D20200329-20210403\" decimals=\"-3\" id=\"id3VybDovL2RvY3MudjEvZG9jOjEyODM3MDU1ODhkNzQyNjY4MWYxNTY3ZWE2MTZhZjBhL3NlYzoxMjgzNzA1NTg4ZDc0MjY2ODFmMTU2N2VhNjE2YWYwYV83Ni9mcmFnOjFjYzYzODkwM2JkYzRjNzZiOTRiNGMzZWI4YWNhZGM2L3RhYmxlOmE3ZGYxYjRlMmI0ZTQ3MTJhZTRlNjNlM2VmNDYyN2ZjL3RhYmxlcmFuZ2U6YTdkZjFiNGUyYjRlNDcxMmFlNGU2M2UzZWY0NjI3ZmNfOS0xLTEtMS0w_0e9033d1-378e-4011-b3d3-dd94c68564fe\" unitref=\"usd\">367238000</us-gaap:sellinggeneralandadministrativeexpense>]"
      ]
     },
     "execution_count": 37,
     "metadata": {},
     "output_type": "execute_result"
    }
   ],
   "source": [
    "find_financial_elements(soup=soup, element_names=names)"
   ]
  },
  {
   "cell_type": "code",
   "execution_count": 38,
   "id": "ce70657d",
   "metadata": {},
   "outputs": [
    {
     "name": "stdout",
     "output_type": "stream",
     "text": [
      "us-gaap:othercostandexpenseoperating                                             usd   -3    39306000       \n"
     ]
    }
   ],
   "source": [
    "names = f\"{NAMESPACE}:OtherCostAndExpenseOperating\"\n",
    "PL += get_records_for_financial_element_names(soup=soup, names=names)"
   ]
  },
  {
   "cell_type": "markdown",
   "id": "6c08132d",
   "metadata": {},
   "source": [
    "## ***___# Total Operating Expenses___***"
   ]
  },
  {
   "cell_type": "code",
   "execution_count": 39,
   "id": "22c037f8",
   "metadata": {},
   "outputs": [
    {
     "name": "stdout",
     "output_type": "stream",
     "text": [
      "us-gaap:operatingexpenses                                                        usd   -3    976939000      \n"
     ]
    }
   ],
   "source": [
    "names = f\"{NAMESPACE}:OperatingExpenses\".lower()\n",
    "PL += get_records_for_financial_element_names(soup=soup, names=names)"
   ]
  },
  {
   "cell_type": "markdown",
   "id": "7b1d5127",
   "metadata": {},
   "source": [
    "## ***___# Operating Income___***\n",
    "\n",
    "$GrossProfit - Total Operating Expenses$"
   ]
  },
  {
   "cell_type": "code",
   "execution_count": 40,
   "id": "0a6f1e8a",
   "metadata": {},
   "outputs": [],
   "source": [
    "def get_operating_income(soup):\n",
    "    names = f\"{NAMESPACE}:OperatingIncomeLoss\".lower()\n",
    "    return get_records_for_financial_element_names(soup=soup, names=names)"
   ]
  },
  {
   "cell_type": "code",
   "execution_count": 41,
   "id": "1548742d",
   "metadata": {},
   "outputs": [
    {
     "name": "stdout",
     "output_type": "stream",
     "text": [
      "us-gaap:operatingincomeloss                                                      usd   -3    906627000      \n",
      "us-gaap:operatingincomeloss                                                      usd   -3    1008171000     \n",
      "us-gaap:operatingincomeloss                                                      usd   -3    283507000      \n",
      "us-gaap:operatingincomeloss                                                      usd   -3    -385051000     \n"
     ]
    }
   ],
   "source": [
    "PL += get_operating_income(soup)"
   ]
  },
  {
   "cell_type": "markdown",
   "id": "4294aaaf",
   "metadata": {},
   "source": [
    "## Other Expenses"
   ]
  },
  {
   "cell_type": "markdown",
   "id": "c401d88e",
   "metadata": {},
   "source": [
    "### Interest Expense\n",
    "\n",
    "* [Investopedia - What Is an Interest Expense?](https://www.investopedia.com/terms/i/interestexpense.asp)\n",
    "\n",
    "> An interest expense is the cost incurred by an entity for borrowed funds. Interest expense is a non-operating expense shown on the income statement. It represents interest payable on any borrowings – bonds, loans, convertible debt or lines of credit. It is essentially calculated as the interest rate times the outstanding principal amount of the debt. Interest expense on the income statement represents ***interest accrued during the period*** covered by the financial statements, and **NOT the amount of interest paid over that period**. While interest expense is tax-deductible for companies, in an individual's case, it depends on his or her jurisdiction and also on the loan's purpose.  \n",
    ">\n",
    "> For most people, mortgage interest is the single-biggest category of interest expense over their lifetimes as interest can total tens of thousands of dollars over the life of a mortgage as illustrated by online calculators."
   ]
  },
  {
   "cell_type": "code",
   "execution_count": 42,
   "id": "d3104631",
   "metadata": {},
   "outputs": [
    {
     "name": "stdout",
     "output_type": "stream",
     "text": [
      "us-gaap:interestexpense                                                          usd   -3    75198000       \n"
     ]
    }
   ],
   "source": [
    "names = f\"{NAMESPACE}:InterestExpense\"\n",
    "PL += get_records_for_financial_element_names(soup=soup, names=names)"
   ]
  },
  {
   "cell_type": "markdown",
   "id": "23c27dc8",
   "metadata": {},
   "source": [
    "### Other Non-operating Expenses"
   ]
  },
  {
   "cell_type": "code",
   "execution_count": 43,
   "id": "92e0fe78",
   "metadata": {},
   "outputs": [
    {
     "name": "stdout",
     "output_type": "stream",
     "text": [
      "us-gaap:othernonoperatingincomeexpense                                           usd   -3    -24049000      \n"
     ]
    }
   ],
   "source": [
    "names = f\"{NAMESPACE}:OtherNonoperatingIncomeExpense\"\n",
    "PL += get_records_for_financial_element_names(soup=soup, names=names)"
   ]
  },
  {
   "cell_type": "markdown",
   "id": "e310a4b6",
   "metadata": {},
   "source": [
    "## Income Tax"
   ]
  },
  {
   "cell_type": "code",
   "execution_count": 44,
   "id": "776dea0b",
   "metadata": {},
   "outputs": [
    {
     "name": "stdout",
     "output_type": "stream",
     "text": [
      "us-gaap:incometaxexpensebenefit                                                  usd   -3    73769000       \n"
     ]
    }
   ],
   "source": [
    "names = f\"{NAMESPACE}:IncomeTaxExpenseBenefit\"\n",
    "PL += get_records_for_financial_element_names(soup=soup, names=names)"
   ]
  },
  {
   "cell_type": "markdown",
   "id": "809ca1c3",
   "metadata": {},
   "source": [
    "## ***___# Net Income___***\n",
    "\n",
    "$GrossProfit - (Operating Expenses + NonOperating Expense) - Tax$"
   ]
  },
  {
   "cell_type": "code",
   "execution_count": 45,
   "id": "eb7287aa",
   "metadata": {},
   "outputs": [],
   "source": [
    "def get_net_income(soup):\n",
    "    names = f\"{NAMESPACE}:NetIncomeLoss\".lower()\n",
    "    return get_records_for_financial_element_names(soup=soup, names=names)"
   ]
  },
  {
   "cell_type": "code",
   "execution_count": 46,
   "id": "dba87e2e",
   "metadata": {},
   "outputs": [
    {
     "name": "stdout",
     "output_type": "stream",
     "text": [
      "us-gaap:netincomeloss                                                            usd   -3    733611000      \n",
      "us-gaap:netincomeloss                                                            usd   -3    0              \n"
     ]
    }
   ],
   "source": [
    "PL += get_net_income(soup)"
   ]
  },
  {
   "cell_type": "markdown",
   "id": "eb5cf557",
   "metadata": {},
   "source": [
    "## ***___# Shares Outstandings___***"
   ]
  },
  {
   "cell_type": "code",
   "execution_count": 47,
   "id": "40899b19",
   "metadata": {},
   "outputs": [],
   "source": [
    "PL += shares_outstandings"
   ]
  },
  {
   "cell_type": "markdown",
   "id": "5deadd83",
   "metadata": {},
   "source": [
    "## ***___# Net Income Per Share___***\n",
    "\n",
    "* [US GAAP - Is Net Income Per Share the same with EPS?](https://money.stackexchange.com/questions/148015/us-gaap-is-net-income-per-share-the-same-with-eps)"
   ]
  },
  {
   "cell_type": "code",
   "execution_count": 48,
   "id": "8a9de326",
   "metadata": {},
   "outputs": [],
   "source": [
    "def get_eps(soup):\n",
    "    return get_records_for_financial_element_names(\n",
    "        soup=soup, names=f\"{NAMESPACE}:EarningsPerShareBasic\".lower()\n",
    "    ) + \\\n",
    "    get_records_for_financial_element_names(\n",
    "        soup=soup, names=f\"{NAMESPACE}:EarningsPerShareBasicAndDiluted\".lower()\n",
    "    )"
   ]
  },
  {
   "cell_type": "code",
   "execution_count": 49,
   "id": "357eb478",
   "metadata": {},
   "outputs": [
    {
     "name": "stdout",
     "output_type": "stream",
     "text": [
      "us-gaap:earningspersharebasic                                                    usdPerShare 2     6.43           \n"
     ]
    }
   ],
   "source": [
    "PL += get_eps(soup)"
   ]
  },
  {
   "cell_type": "markdown",
   "id": "74b3f108",
   "metadata": {},
   "source": [
    "## Display P/L\n",
    "\n",
    "Is ```us-gaap:othernonoperatingincomeexpense``` credit or debit? As the value is **negative** and so is in the Income Statement, is shoudl be credit -> To be confirmed. "
   ]
  },
  {
   "cell_type": "code",
   "execution_count": 50,
   "id": "3a817577",
   "metadata": {},
   "outputs": [
    {
     "data": {
      "text/html": [
       "<div>\n",
       "<style scoped>\n",
       "    .dataframe tbody tr th:only-of-type {\n",
       "        vertical-align: middle;\n",
       "    }\n",
       "\n",
       "    .dataframe tbody tr th {\n",
       "        vertical-align: top;\n",
       "    }\n",
       "\n",
       "    .dataframe thead th {\n",
       "        text-align: right;\n",
       "    }\n",
       "</style>\n",
       "<table border=\"1\" class=\"dataframe\">\n",
       "  <thead>\n",
       "    <tr style=\"text-align: center;\">\n",
       "      <th></th>\n",
       "      <th>type</th>\n",
       "      <th>name</th>\n",
       "      <th>unit</th>\n",
       "      <th>decimals</th>\n",
       "      <th>value</th>\n",
       "      <th>context</th>\n",
       "    </tr>\n",
       "  </thead>\n",
       "  <tbody>\n",
       "    <tr>\n",
       "      <th>0</th>\n",
       "      <td>credit</td>\n",
       "      <td>us-gaap:revenues</td>\n",
       "      <td>usd</td>\n",
       "      <td>-3</td>\n",
       "      <td>4015307000</td>\n",
       "      <td>ifb6ce67cf6954ebf88471dd82daa9247_D20200329-20...</td>\n",
       "    </tr>\n",
       "    <tr>\n",
       "      <th>1</th>\n",
       "      <td>credit</td>\n",
       "      <td>us-gaap:revenues</td>\n",
       "      <td>usd</td>\n",
       "      <td>-3</td>\n",
       "      <td>2856813000</td>\n",
       "      <td>ib944148f02294f05b1c1ee4511ac1970_D20200329-20...</td>\n",
       "    </tr>\n",
       "    <tr>\n",
       "      <th>2</th>\n",
       "      <td>credit</td>\n",
       "      <td>us-gaap:revenues</td>\n",
       "      <td>usd</td>\n",
       "      <td>-3</td>\n",
       "      <td>1158494000</td>\n",
       "      <td>i098a5c5e1bfc4a0689300f21d4703f42_D20200329-20...</td>\n",
       "    </tr>\n",
       "    <tr>\n",
       "      <th>3</th>\n",
       "      <td>credit</td>\n",
       "      <td>us-gaap:revenues</td>\n",
       "      <td>usd</td>\n",
       "      <td>-3</td>\n",
       "      <td>1631110000</td>\n",
       "      <td>i32cd0e1c5ce64859929b2a6bf9c45e73_D20200329-20...</td>\n",
       "    </tr>\n",
       "    <tr>\n",
       "      <th>4</th>\n",
       "      <td>credit</td>\n",
       "      <td>us-gaap:revenues</td>\n",
       "      <td>usd</td>\n",
       "      <td>-3</td>\n",
       "      <td>1579017000</td>\n",
       "      <td>id2aa60d8c9bc45a88da133c6bd2143f8_D20200329-20...</td>\n",
       "    </tr>\n",
       "    <tr>\n",
       "      <th>5</th>\n",
       "      <td>credit</td>\n",
       "      <td>us-gaap:revenues</td>\n",
       "      <td>usd</td>\n",
       "      <td>-3</td>\n",
       "      <td>363523000</td>\n",
       "      <td>i991870aff3f043c0a3b4660af8a429cd_D20200329-20...</td>\n",
       "    </tr>\n",
       "    <tr>\n",
       "      <th>6</th>\n",
       "      <td>credit</td>\n",
       "      <td>us-gaap:revenues</td>\n",
       "      <td>usd</td>\n",
       "      <td>-3</td>\n",
       "      <td>248708000</td>\n",
       "      <td>i721ca495c9614a1c86f034bafe78234c_D20200329-20...</td>\n",
       "    </tr>\n",
       "    <tr>\n",
       "      <th>7</th>\n",
       "      <td>credit</td>\n",
       "      <td>us-gaap:revenues</td>\n",
       "      <td>usd</td>\n",
       "      <td>-3</td>\n",
       "      <td>192949000</td>\n",
       "      <td>i2f6ddd3885d44833b3f3bbd92dceaa9c_D20200329-20...</td>\n",
       "    </tr>\n",
       "    <tr>\n",
       "      <th>8</th>\n",
       "      <td>debit</td>\n",
       "      <td>us-gaap:costofgoodsandservicessold</td>\n",
       "      <td>usd</td>\n",
       "      <td>-3</td>\n",
       "      <td>2131741000</td>\n",
       "      <td>ifb6ce67cf6954ebf88471dd82daa9247_D20200329-20...</td>\n",
       "    </tr>\n",
       "    <tr>\n",
       "      <th>9</th>\n",
       "      <td>calc</td>\n",
       "      <td>us-gaap:grossprofit</td>\n",
       "      <td>usd</td>\n",
       "      <td>-3</td>\n",
       "      <td>1883566000</td>\n",
       "      <td>ifb6ce67cf6954ebf88471dd82daa9247_D20200329-20...</td>\n",
       "    </tr>\n",
       "    <tr>\n",
       "      <th>10</th>\n",
       "      <td>debit</td>\n",
       "      <td>us-gaap:researchanddevelopmentexpense</td>\n",
       "      <td>usd</td>\n",
       "      <td>-3</td>\n",
       "      <td>570395000</td>\n",
       "      <td>ifb6ce67cf6954ebf88471dd82daa9247_D20200329-20...</td>\n",
       "    </tr>\n",
       "    <tr>\n",
       "      <th>11</th>\n",
       "      <td>debit</td>\n",
       "      <td>us-gaap:sellinggeneralandadministrativeexpense</td>\n",
       "      <td>usd</td>\n",
       "      <td>-3</td>\n",
       "      <td>367238000</td>\n",
       "      <td>ifb6ce67cf6954ebf88471dd82daa9247_D20200329-20...</td>\n",
       "    </tr>\n",
       "    <tr>\n",
       "      <th>12</th>\n",
       "      <td>debit</td>\n",
       "      <td>us-gaap:othercostandexpenseoperating</td>\n",
       "      <td>usd</td>\n",
       "      <td>-3</td>\n",
       "      <td>39306000</td>\n",
       "      <td>ifb6ce67cf6954ebf88471dd82daa9247_D20200329-20...</td>\n",
       "    </tr>\n",
       "    <tr>\n",
       "      <th>13</th>\n",
       "      <td>calc</td>\n",
       "      <td>us-gaap:operatingexpenses</td>\n",
       "      <td>usd</td>\n",
       "      <td>-3</td>\n",
       "      <td>976939000</td>\n",
       "      <td>ifb6ce67cf6954ebf88471dd82daa9247_D20200329-20...</td>\n",
       "    </tr>\n",
       "    <tr>\n",
       "      <th>14</th>\n",
       "      <td>calc</td>\n",
       "      <td>us-gaap:operatingincomeloss</td>\n",
       "      <td>usd</td>\n",
       "      <td>-3</td>\n",
       "      <td>906627000</td>\n",
       "      <td>ifb6ce67cf6954ebf88471dd82daa9247_D20200329-20...</td>\n",
       "    </tr>\n",
       "    <tr>\n",
       "      <th>15</th>\n",
       "      <td>calc</td>\n",
       "      <td>us-gaap:operatingincomeloss</td>\n",
       "      <td>usd</td>\n",
       "      <td>-3</td>\n",
       "      <td>1008171000</td>\n",
       "      <td>ib944148f02294f05b1c1ee4511ac1970_D20200329-20...</td>\n",
       "    </tr>\n",
       "    <tr>\n",
       "      <th>16</th>\n",
       "      <td>calc</td>\n",
       "      <td>us-gaap:operatingincomeloss</td>\n",
       "      <td>usd</td>\n",
       "      <td>-3</td>\n",
       "      <td>283507000</td>\n",
       "      <td>i098a5c5e1bfc4a0689300f21d4703f42_D20200329-20...</td>\n",
       "    </tr>\n",
       "    <tr>\n",
       "      <th>17</th>\n",
       "      <td>calc</td>\n",
       "      <td>us-gaap:operatingincomeloss</td>\n",
       "      <td>usd</td>\n",
       "      <td>-3</td>\n",
       "      <td>-385051000</td>\n",
       "      <td>i899e91e6bc2f4120b4357418ab4e5f6e_D20200329-20...</td>\n",
       "    </tr>\n",
       "    <tr>\n",
       "      <th>18</th>\n",
       "      <td>debit</td>\n",
       "      <td>us-gaap:interestexpense</td>\n",
       "      <td>usd</td>\n",
       "      <td>-3</td>\n",
       "      <td>75198000</td>\n",
       "      <td>ifb6ce67cf6954ebf88471dd82daa9247_D20200329-20...</td>\n",
       "    </tr>\n",
       "    <tr>\n",
       "      <th>19</th>\n",
       "      <td>credit</td>\n",
       "      <td>us-gaap:othernonoperatingincomeexpense</td>\n",
       "      <td>usd</td>\n",
       "      <td>-3</td>\n",
       "      <td>-24049000</td>\n",
       "      <td>ifb6ce67cf6954ebf88471dd82daa9247_D20200329-20...</td>\n",
       "    </tr>\n",
       "    <tr>\n",
       "      <th>20</th>\n",
       "      <td>debit</td>\n",
       "      <td>us-gaap:incometaxexpensebenefit</td>\n",
       "      <td>usd</td>\n",
       "      <td>-3</td>\n",
       "      <td>73769000</td>\n",
       "      <td>ifb6ce67cf6954ebf88471dd82daa9247_D20200329-20...</td>\n",
       "    </tr>\n",
       "    <tr>\n",
       "      <th>21</th>\n",
       "      <td>calc</td>\n",
       "      <td>us-gaap:netincomeloss</td>\n",
       "      <td>usd</td>\n",
       "      <td>-3</td>\n",
       "      <td>733611000</td>\n",
       "      <td>ifb6ce67cf6954ebf88471dd82daa9247_D20200329-20...</td>\n",
       "    </tr>\n",
       "    <tr>\n",
       "      <th>22</th>\n",
       "      <td>calc</td>\n",
       "      <td>us-gaap:netincomeloss</td>\n",
       "      <td>usd</td>\n",
       "      <td>-3</td>\n",
       "      <td>0</td>\n",
       "      <td>i4483aa4c51124670a4313231bdcd1cb3_D20200329-20...</td>\n",
       "    </tr>\n",
       "    <tr>\n",
       "      <th>23</th>\n",
       "      <td>fact</td>\n",
       "      <td>us-gaap:commonstocksharesoutstanding</td>\n",
       "      <td>shares</td>\n",
       "      <td>-3</td>\n",
       "      <td>112557000</td>\n",
       "      <td>i531402faf1d04969ac2b2ba0e1680766_I20210403</td>\n",
       "    </tr>\n",
       "    <tr>\n",
       "      <th>24</th>\n",
       "      <td>metric</td>\n",
       "      <td>us-gaap:earningspersharebasic</td>\n",
       "      <td>usdPerShare</td>\n",
       "      <td>2</td>\n",
       "      <td>6.43</td>\n",
       "      <td>ifb6ce67cf6954ebf88471dd82daa9247_D20200329-20...</td>\n",
       "    </tr>\n",
       "  </tbody>\n",
       "</table>\n",
       "</div>"
      ],
      "text/plain": [
       "     type                        name                          unit      \\\n",
       "0   credit                                us-gaap:revenues          usd   \n",
       "1   credit                                us-gaap:revenues          usd   \n",
       "2   credit                                us-gaap:revenues          usd   \n",
       "3   credit                                us-gaap:revenues          usd   \n",
       "4   credit                                us-gaap:revenues          usd   \n",
       "5   credit                                us-gaap:revenues          usd   \n",
       "6   credit                                us-gaap:revenues          usd   \n",
       "7   credit                                us-gaap:revenues          usd   \n",
       "8    debit              us-gaap:costofgoodsandservicessold          usd   \n",
       "9     calc                             us-gaap:grossprofit          usd   \n",
       "10   debit           us-gaap:researchanddevelopmentexpense          usd   \n",
       "11   debit  us-gaap:sellinggeneralandadministrativeexpense          usd   \n",
       "12   debit            us-gaap:othercostandexpenseoperating          usd   \n",
       "13    calc                       us-gaap:operatingexpenses          usd   \n",
       "14    calc                     us-gaap:operatingincomeloss          usd   \n",
       "15    calc                     us-gaap:operatingincomeloss          usd   \n",
       "16    calc                     us-gaap:operatingincomeloss          usd   \n",
       "17    calc                     us-gaap:operatingincomeloss          usd   \n",
       "18   debit                         us-gaap:interestexpense          usd   \n",
       "19  credit          us-gaap:othernonoperatingincomeexpense          usd   \n",
       "20   debit                 us-gaap:incometaxexpensebenefit          usd   \n",
       "21    calc                           us-gaap:netincomeloss          usd   \n",
       "22    calc                           us-gaap:netincomeloss          usd   \n",
       "23    fact            us-gaap:commonstocksharesoutstanding       shares   \n",
       "24  metric                   us-gaap:earningspersharebasic  usdPerShare   \n",
       "\n",
       "    decimals    value                        context                        \n",
       "0      -3    4015307000  ifb6ce67cf6954ebf88471dd82daa9247_D20200329-20...  \n",
       "1      -3    2856813000  ib944148f02294f05b1c1ee4511ac1970_D20200329-20...  \n",
       "2      -3    1158494000  i098a5c5e1bfc4a0689300f21d4703f42_D20200329-20...  \n",
       "3      -3    1631110000  i32cd0e1c5ce64859929b2a6bf9c45e73_D20200329-20...  \n",
       "4      -3    1579017000  id2aa60d8c9bc45a88da133c6bd2143f8_D20200329-20...  \n",
       "5      -3     363523000  i991870aff3f043c0a3b4660af8a429cd_D20200329-20...  \n",
       "6      -3     248708000  i721ca495c9614a1c86f034bafe78234c_D20200329-20...  \n",
       "7      -3     192949000  i2f6ddd3885d44833b3f3bbd92dceaa9c_D20200329-20...  \n",
       "8      -3    2131741000  ifb6ce67cf6954ebf88471dd82daa9247_D20200329-20...  \n",
       "9      -3    1883566000  ifb6ce67cf6954ebf88471dd82daa9247_D20200329-20...  \n",
       "10     -3     570395000  ifb6ce67cf6954ebf88471dd82daa9247_D20200329-20...  \n",
       "11     -3     367238000  ifb6ce67cf6954ebf88471dd82daa9247_D20200329-20...  \n",
       "12     -3      39306000  ifb6ce67cf6954ebf88471dd82daa9247_D20200329-20...  \n",
       "13     -3     976939000  ifb6ce67cf6954ebf88471dd82daa9247_D20200329-20...  \n",
       "14     -3     906627000  ifb6ce67cf6954ebf88471dd82daa9247_D20200329-20...  \n",
       "15     -3    1008171000  ib944148f02294f05b1c1ee4511ac1970_D20200329-20...  \n",
       "16     -3     283507000  i098a5c5e1bfc4a0689300f21d4703f42_D20200329-20...  \n",
       "17     -3    -385051000  i899e91e6bc2f4120b4357418ab4e5f6e_D20200329-20...  \n",
       "18     -3      75198000  ifb6ce67cf6954ebf88471dd82daa9247_D20200329-20...  \n",
       "19     -3     -24049000  ifb6ce67cf6954ebf88471dd82daa9247_D20200329-20...  \n",
       "20     -3      73769000  ifb6ce67cf6954ebf88471dd82daa9247_D20200329-20...  \n",
       "21     -3     733611000  ifb6ce67cf6954ebf88471dd82daa9247_D20200329-20...  \n",
       "22     -3             0  i4483aa4c51124670a4313231bdcd1cb3_D20200329-20...  \n",
       "23     -3     112557000        i531402faf1d04969ac2b2ba0e1680766_I20210403  \n",
       "24      2          6.43  ifb6ce67cf6954ebf88471dd82daa9247_D20200329-20...  "
      ]
     },
     "execution_count": 50,
     "metadata": {},
     "output_type": "execute_result"
    }
   ],
   "source": [
    "df_PL = pd.DataFrame(PL, columns=get_financial_element_columns())\n",
    "df_PL"
   ]
  },
  {
   "cell_type": "code",
   "execution_count": 51,
   "id": "c88d724d",
   "metadata": {},
   "outputs": [
    {
     "data": {
      "text/plain": [
       "12021872000.0"
      ]
     },
     "execution_count": 51,
     "metadata": {},
     "output_type": "execute_result"
    }
   ],
   "source": [
    "credits = df_PL[df_PL['type'] == 'credit']['value'].sum()\n",
    "credits"
   ]
  },
  {
   "cell_type": "code",
   "execution_count": 52,
   "id": "e5e6bdfb",
   "metadata": {},
   "outputs": [
    {
     "data": {
      "text/plain": [
       "3257647000.0"
      ]
     },
     "execution_count": 52,
     "metadata": {},
     "output_type": "execute_result"
    }
   ],
   "source": [
    "debits = df_PL[df_PL['type'] == 'debit']['value'].sum()\n",
    "debits"
   ]
  },
  {
   "cell_type": "code",
   "execution_count": 53,
   "id": "1effbc91",
   "metadata": {},
   "outputs": [
    {
     "data": {
      "text/plain": [
       "8764225000.0"
      ]
     },
     "execution_count": 53,
     "metadata": {},
     "output_type": "execute_result"
    }
   ],
   "source": [
    "credits - debits  # Equal to the Net Income"
   ]
  },
  {
   "cell_type": "code",
   "execution_count": 54,
   "id": "a4ef40eb",
   "metadata": {},
   "outputs": [
    {
     "ename": "ValueError",
     "evalue": "can only convert an array of size 1 to a Python scalar",
     "output_type": "error",
     "traceback": [
      "\u001b[0;31m---------------------------------------------------------------------------\u001b[0m",
      "\u001b[0;31mValueError\u001b[0m                                Traceback (most recent call last)",
      "\u001b[0;32m/tmp/ipykernel_31540/986593013.py\u001b[0m in \u001b[0;36m<module>\u001b[0;34m\u001b[0m\n\u001b[0;32m----> 1\u001b[0;31m eps = np.divide(\n\u001b[0m\u001b[1;32m      2\u001b[0m     \u001b[0mdf_PL\u001b[0m\u001b[0;34m[\u001b[0m\u001b[0mdf_PL\u001b[0m\u001b[0;34m[\u001b[0m\u001b[0;34m'name'\u001b[0m\u001b[0;34m]\u001b[0m \u001b[0;34m==\u001b[0m \u001b[0;34m'us-gaap:netincomeloss'\u001b[0m\u001b[0;34m]\u001b[0m\u001b[0;34m[\u001b[0m\u001b[0;34m'value'\u001b[0m\u001b[0;34m]\u001b[0m\u001b[0;34m.\u001b[0m\u001b[0mvalues\u001b[0m\u001b[0;34m,\u001b[0m\u001b[0;34m\u001b[0m\u001b[0;34m\u001b[0m\u001b[0m\n\u001b[1;32m      3\u001b[0m     \u001b[0mdf_PL\u001b[0m\u001b[0;34m[\u001b[0m\u001b[0mdf_PL\u001b[0m\u001b[0;34m[\u001b[0m\u001b[0;34m'name'\u001b[0m\u001b[0;34m]\u001b[0m \u001b[0;34m==\u001b[0m \u001b[0;34m'us-gaap:commonstocksharesoutstanding'\u001b[0m\u001b[0;34m]\u001b[0m\u001b[0;34m[\u001b[0m\u001b[0;34m'value'\u001b[0m\u001b[0;34m]\u001b[0m\u001b[0;34m.\u001b[0m\u001b[0mvalues\u001b[0m\u001b[0;34m\u001b[0m\u001b[0;34m\u001b[0m\u001b[0m\n\u001b[1;32m      4\u001b[0m ).item()\n\u001b[1;32m      5\u001b[0m \u001b[0mscale\u001b[0m \u001b[0;34m=\u001b[0m \u001b[0;36m2\u001b[0m\u001b[0;34m\u001b[0m\u001b[0;34m\u001b[0m\u001b[0m\n",
      "\u001b[0;31mValueError\u001b[0m: can only convert an array of size 1 to a Python scalar"
     ]
    }
   ],
   "source": [
    "eps = np.divide(\n",
    "    df_PL[df_PL['name'] == 'us-gaap:netincomeloss']['value'].values,\n",
    "    df_PL[df_PL['name'] == 'us-gaap:commonstocksharesoutstanding']['value'].values\n",
    ").item()\n",
    "scale = 2\n",
    "\n",
    "print(f\"{eps:.{scale}f}\")"
   ]
  },
  {
   "cell_type": "markdown",
   "id": "3b613d03",
   "metadata": {},
   "source": [
    "---\n",
    "# Balance Sheet (B/S)"
   ]
  },
  {
   "cell_type": "code",
   "execution_count": null,
   "id": "4c542cfb",
   "metadata": {},
   "outputs": [],
   "source": [
    "BS = []"
   ]
  },
  {
   "cell_type": "markdown",
   "id": "bffb478e",
   "metadata": {},
   "source": [
    "## Cash & Cash Equivalents\n",
    "\n",
    "Look for the cash and cash equivalents for the reporting perid in the Balance Sheet and Cash Flow statements of the  10-K."
   ]
  },
  {
   "cell_type": "code",
   "execution_count": null,
   "id": "a63587e2",
   "metadata": {},
   "outputs": [],
   "source": [
    "names = f\"{NAMESPACE}:CashAndCashEquivalentsAtCarryingValue\"\n",
    "BS += get_records_for_financial_element_names(soup=soup, names=names)"
   ]
  },
  {
   "cell_type": "markdown",
   "id": "1ce56b44",
   "metadata": {},
   "source": [
    "## ***___# Shares Outstandings___***"
   ]
  },
  {
   "cell_type": "code",
   "execution_count": null,
   "id": "f888ef39",
   "metadata": {},
   "outputs": [],
   "source": [
    "BS += shares_outstandings"
   ]
  },
  {
   "cell_type": "markdown",
   "id": "585b282d",
   "metadata": {},
   "source": [
    "## Display B/S"
   ]
  },
  {
   "cell_type": "code",
   "execution_count": null,
   "id": "545f29a2",
   "metadata": {},
   "outputs": [],
   "source": [
    "df_BS = pd.DataFrame(BS, columns=get_financial_element_columns())\n",
    "df_BS"
   ]
  },
  {
   "cell_type": "code",
   "execution_count": null,
   "id": "0b3e5347",
   "metadata": {},
   "outputs": [],
   "source": [
    "cps = np.divide(\n",
    "    df_BS[df_BS['name'] == 'us-gaap:cashandcashequivalentsatcarryingvalue']['value'].values,\n",
    "    df_BS[df_BS['name'] == 'us-gaap:commonstocksharesoutstanding']['value'].values\n",
    ").item()\n",
    "scale = 2\n",
    "\n",
    "print(f\"{cps:.{scale}f}\")"
   ]
  }
 ],
 "metadata": {
  "kernelspec": {
   "display_name": "Python 3 (ipykernel)",
   "language": "python",
   "name": "python3"
  },
  "language_info": {
   "codemirror_mode": {
    "name": "ipython",
    "version": 3
   },
   "file_extension": ".py",
   "mimetype": "text/x-python",
   "name": "python",
   "nbconvert_exporter": "python",
   "pygments_lexer": "ipython3",
   "version": "3.8.10"
  }
 },
 "nbformat": 4,
 "nbformat_minor": 5
}
