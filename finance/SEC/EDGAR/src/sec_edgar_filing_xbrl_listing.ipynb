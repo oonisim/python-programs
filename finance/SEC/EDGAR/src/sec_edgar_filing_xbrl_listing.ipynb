{
 "cells": [
  {
   "cell_type": "markdown",
   "id": "43c03d82",
   "metadata": {},
   "source": [
    "# Load SEC EDGAR Quarterly (10-Q) XBRL\n",
    "\n",
    "## Objective\n",
    "\n",
    "Navigate through the EDGAR XBRL indices and download the 10-Q finantial statements.\n",
    "\n",
    "## Background\n",
    "There are multiple ways to reach to the target 10-Q file for the given year/quarter. One way is to use the master indices CSV file for the year/quarter identified with the URL.\n",
    "\n",
    "```https://www.sec.gov/Archives/edgar/full-index/${YEAR}/${QTR}/xbrl.gz```\n",
    "\n",
    "Each row in the the master CSV tells where is the 10-Q for a specific company/CIK for the (year, quarter).\n",
    "\n",
    "| CIK    | Company Name | Form Type          | Date Filed | Filename   |                                           \n",
    "|--------|--------------|--------------------|------------|------------|\n",
    "|1047127|AMKOR TECHNOLOGY INC|10-K|2014-02-28|edgar/data/1047127/0001047127-14-000006.txt|\n"
   ]
  },
  {
   "cell_type": "markdown",
   "id": "bf3e5c24",
   "metadata": {},
   "source": [
    "## XBRL file\n",
    "\n",
    "Use the XBRL file with ```_htm.xml``` suffix instead of the ```.txt``` file. Get the ```_htm.xml``` XBRL file from the EDGAR directory listing in the ```https://www.sec.gov/Archives/edgar/full-index/${YEAR}/${QTR}/${ACCESSION}/index.xml```.\n"
   ]
  },
  {
   "cell_type": "markdown",
   "id": "4e67e08e",
   "metadata": {},
   "source": [
    "## URL\n",
    "The URL to 10-Q index.html for the ```(CIK, year, quarter)``` is ```https://sec.gov/Archives/edgar/data/${CIK}/${path}/index.html```\n",
    "\n",
    "To get ```path```, replace ```-``` (hyphen) and ```.txt``` suffix from the **filename** field value."
   ]
  },
  {
   "cell_type": "markdown",
   "id": "62959801",
   "metadata": {},
   "source": [
    "# Setup"
   ]
  },
  {
   "cell_type": "code",
   "execution_count": 1,
   "id": "89f1ba70",
   "metadata": {},
   "outputs": [
    {
     "data": {
      "text/html": [
       "<style>\n",
       "table {float:left}\n",
       "</style>\n"
      ],
      "text/plain": [
       "<IPython.core.display.HTML object>"
      ]
     },
     "metadata": {},
     "output_type": "display_data"
    }
   ],
   "source": [
    "%%html\n",
    "<style>\n",
    "table {float:left}\n",
    "</style>"
   ]
  },
  {
   "cell_type": "code",
   "execution_count": 2,
   "id": "33bd1fd9",
   "metadata": {},
   "outputs": [
    {
     "name": "stdout",
     "output_type": "stream",
     "text": [
      "Requirement already satisfied: python-Levenshtein in /home/oonisim/venv/ml/lib/python3.8/site-packages (0.12.2)\r\n",
      "Requirement already satisfied: setuptools in /home/oonisim/venv/ml/lib/python3.8/site-packages (from python-Levenshtein) (44.0.0)\r\n"
     ]
    }
   ],
   "source": [
    "!pip install python-Levenshtein "
   ]
  },
  {
   "cell_type": "code",
   "execution_count": 3,
   "id": "1c6e10f9",
   "metadata": {},
   "outputs": [],
   "source": [
    "import logging\n",
    "import os\n",
    "import glob\n",
    "import re\n",
    "import json\n",
    "import time\n",
    "import requests\n",
    "\n",
    "from bs4 import BeautifulSoup\n",
    "import pandas as pd\n",
    "import Levenshtein as levenshtein "
   ]
  },
  {
   "cell_type": "code",
   "execution_count": 4,
   "id": "73d1bef4",
   "metadata": {},
   "outputs": [],
   "source": [
    "pd.set_option('display.max_colwidth', None)\n",
    "\n",
    "logging.basicConfig(level=logging.ERROR)\n",
    "Logger = logging.getLogger(__name__)"
   ]
  },
  {
   "cell_type": "markdown",
   "id": "bb4e68a7",
   "metadata": {},
   "source": [
    "---\n",
    "# EDGAR\n",
    "\n",
    "* Investopedia - [Where Can I Find a Company's Annual Report and Its SEC Filings?](https://www.investopedia.com/ask/answers/119.asp)\n",
    "\n",
    "> If you want to dig deeper and go beyond the slick marketing version of the annual report found on corporate websites, you'll have to search through required filings made to the Securities and Exchange Commission. All publicly-traded companies in the U.S. must file regular financial reports with the SEC. These filings include the annual report (known as the 10-K), quarterly report (10-Q), and a myriad of other forms containing all types of financial data.45"
   ]
  },
  {
   "cell_type": "markdown",
   "id": "53bd3f6e",
   "metadata": {},
   "source": [
    "# Quarterly filing indices\n",
    "\n",
    "* [Accessing EDGAR Data](https://www.sec.gov/os/accessing-edgar-data)\n",
    "\n",
    "> Using the EDGAR index files  \n",
    "Indexes to all public filings are available from 1994Q3 through the present and located in the following browsable directories:\n",
    "> * https://www.sec.gov/Archives/edgar/daily-index/ — daily index files through the current year; (**DO NOT forget the trailing slash '/'**)\n",
    "> * https://www.sec.gov/Archives/edgar/full-index/ — full indexes offer a \"bridge\" between quarterly and daily indexes, compiling filings from the beginning of the current quarter through the previous business day. At the end of the quarter, the full index is rolled into a static quarterly index.\n",
    "> \n",
    "> Each directory and all child sub directories contain three files to assist in automated crawling of these directories. Note that these are not visible through directory browsing.\n",
    "> * index.html (the web browser would normally receive these)\n",
    "> * index.xml (an XML structured version of the same content)\n",
    "> * index.json (a JSON structured vision of the same content)\n",
    "> \n",
    "> Four types of indexes are available:\n",
    "> * company — sorted by company name\n",
    "> * form — sorted by form type\n",
    "> * master — sorted by CIK number \n",
    "> * **XBRL** — list of submissions containing XBRL financial files, sorted by CIK number; these include Voluntary Filer Program submissions\n",
    "> \n",
    "> The EDGAR indexes list the following information for each filing:\n",
    "> * company name\n",
    "> * form type\n",
    "> * central index key (CIK)\n",
    "> * date filed\n",
    "> * file name (including folder path)\n",
    "\n",
    "## Example\n",
    "\n",
    "Full index files for 2006 QTR 3.\n",
    "<img src=\"../image/edgar_full_index_quarter_2006QTR3.png\" align=\"left\" width=\"800\"/>"
   ]
  },
  {
   "cell_type": "markdown",
   "id": "29d5951b",
   "metadata": {},
   "source": [
    "## Constant"
   ]
  },
  {
   "cell_type": "code",
   "execution_count": 5,
   "id": "fbd5a314",
   "metadata": {},
   "outputs": [],
   "source": [
    "EDGAR_BASE_URL = \"https://sec.gov/Archives\"\n",
    "EDGAR_HTTP_HEADERS = {\"User-Agent\": \"Company Name myname@company.com\"}\n",
    "\n",
    "DATA_DIR = \"../data/listings/XBRL\""
   ]
  },
  {
   "cell_type": "markdown",
   "id": "0dd2ad72",
   "metadata": {},
   "source": [
    "# XBRL Listing Handler"
   ]
  },
  {
   "cell_type": "code",
   "execution_count": 6,
   "id": "7759f7fc",
   "metadata": {},
   "outputs": [],
   "source": [
    "def index_xml_url(filename):\n",
    "    \"\"\"Generate the EDGAR directory listing index.xml URL.\n",
    "    https://www.sec.gov/Archives/edgar/data/{CIK}/{ACCESSION}/index.xml\"\n",
    "    \"\"\"\n",
    "    url = \"/\".join([\n",
    "        EDGAR_BASE_URL, \n",
    "        filename.rstrip(\".txt\").replace('-', ''),\n",
    "        \"index.xml\"\n",
    "    ])\n",
    "    return url\n",
    "\n",
    "\n",
    "def edgar_xbrl_listing_file_datafarme(data_dir=DATA_DIR, types=['10-K', '10-Q']):\n",
    "    \"\"\"\n",
    "    Generate a pandas dataframe of each XBRL listintg file sorted by name in alphabitical order.\n",
    "    The 'Filename' is replaced with the EDGAR directory index.xml listing URL.\n",
    "    \n",
    "    Args:\n",
    "        data_dir: directory where XBRL files are located.\n",
    "        types: Form types\n",
    "    Returns:\n",
    "        pandas df    \n",
    "    \"\"\"\n",
    "    files = sorted(filter( os.path.isfile, glob.glob(data_dir + os.sep + \"*\") ) )\n",
    "    for filepath in files:\n",
    "        filename = os.path.basename(filepath)\n",
    "        df = pd.read_csv(\n",
    "            filepath,\n",
    "            skip_blank_lines=True,\n",
    "            header=0,         # The 1st data line after omitting skiprows and blank lines.\n",
    "            sep='|',\n",
    "            parse_dates=['Date Filed'],\n",
    "        )\n",
    "        \n",
    "        # Select rows for target filing types\n",
    "        df = df.loc[df['Form Type'].isin(types)] if types else df\n",
    "        \n",
    "        # Set the index.xml URL as the filename\n",
    "        df['Filename'] = df['Filename'].apply(index_xml_url)\n",
    "\n",
    "        yield (filename, df)"
   ]
  },
  {
   "cell_type": "code",
   "execution_count": 7,
   "id": "b9628a5b",
   "metadata": {},
   "outputs": [
    {
     "data": {
      "text/html": [
       "<div>\n",
       "<style scoped>\n",
       "    .dataframe tbody tr th:only-of-type {\n",
       "        vertical-align: middle;\n",
       "    }\n",
       "\n",
       "    .dataframe tbody tr th {\n",
       "        vertical-align: top;\n",
       "    }\n",
       "\n",
       "    .dataframe thead th {\n",
       "        text-align: right;\n",
       "    }\n",
       "</style>\n",
       "<table border=\"1\" class=\"dataframe\">\n",
       "  <thead>\n",
       "    <tr style=\"text-align: right;\">\n",
       "      <th></th>\n",
       "      <th>CIK</th>\n",
       "      <th>Company Name</th>\n",
       "      <th>Form Type</th>\n",
       "      <th>Date Filed</th>\n",
       "      <th>Filename</th>\n",
       "    </tr>\n",
       "  </thead>\n",
       "  <tbody>\n",
       "    <tr>\n",
       "      <th>0</th>\n",
       "      <td>1000697</td>\n",
       "      <td>WATERS CORP /DE/</td>\n",
       "      <td>10-K</td>\n",
       "      <td>2010-02-26</td>\n",
       "      <td>https://sec.gov/Archives/edgar/data/1000697/000095012310017583/index.xml</td>\n",
       "    </tr>\n",
       "    <tr>\n",
       "      <th>1</th>\n",
       "      <td>1001039</td>\n",
       "      <td>WALT DISNEY CO/</td>\n",
       "      <td>10-Q</td>\n",
       "      <td>2010-02-09</td>\n",
       "      <td>https://sec.gov/Archives/edgar/data/1001039/000119312510025949/index.xml</td>\n",
       "    </tr>\n",
       "    <tr>\n",
       "      <th>3</th>\n",
       "      <td>1001082</td>\n",
       "      <td>DISH Network CORP</td>\n",
       "      <td>10-K</td>\n",
       "      <td>2010-03-01</td>\n",
       "      <td>https://sec.gov/Archives/edgar/data/1001082/000095012310018671/index.xml</td>\n",
       "    </tr>\n",
       "    <tr>\n",
       "      <th>4</th>\n",
       "      <td>1001838</td>\n",
       "      <td>SOUTHERN COPPER CORP/</td>\n",
       "      <td>10-K</td>\n",
       "      <td>2010-02-26</td>\n",
       "      <td>https://sec.gov/Archives/edgar/data/1001838/000110465910010334/index.xml</td>\n",
       "    </tr>\n",
       "    <tr>\n",
       "      <th>5</th>\n",
       "      <td>1002638</td>\n",
       "      <td>OPEN TEXT CORP</td>\n",
       "      <td>10-Q</td>\n",
       "      <td>2010-02-04</td>\n",
       "      <td>https://sec.gov/Archives/edgar/data/1002638/000119312510021715/index.xml</td>\n",
       "    </tr>\n",
       "  </tbody>\n",
       "</table>\n",
       "</div>"
      ],
      "text/plain": [
       "       CIK           Company Name Form Type Date Filed  \\\n",
       "0  1000697       WATERS CORP /DE/      10-K 2010-02-26   \n",
       "1  1001039        WALT DISNEY CO/      10-Q 2010-02-09   \n",
       "3  1001082      DISH Network CORP      10-K 2010-03-01   \n",
       "4  1001838  SOUTHERN COPPER CORP/      10-K 2010-02-26   \n",
       "5  1002638         OPEN TEXT CORP      10-Q 2010-02-04   \n",
       "\n",
       "                                                                   Filename  \n",
       "0  https://sec.gov/Archives/edgar/data/1000697/000095012310017583/index.xml  \n",
       "1  https://sec.gov/Archives/edgar/data/1001039/000119312510025949/index.xml  \n",
       "3  https://sec.gov/Archives/edgar/data/1001082/000095012310018671/index.xml  \n",
       "4  https://sec.gov/Archives/edgar/data/1001838/000110465910010334/index.xml  \n",
       "5  https://sec.gov/Archives/edgar/data/1002638/000119312510021715/index.xml  "
      ]
     },
     "execution_count": 7,
     "metadata": {},
     "output_type": "execute_result"
    }
   ],
   "source": [
    "filename, df = next(edgar_xbrl_listing_file_datafarme())\n",
    "df.head(5)"
   ]
  },
  {
   "cell_type": "markdown",
   "id": "dc526945",
   "metadata": {},
   "source": [
    "# Identify the XBRL URLs"
   ]
  },
  {
   "cell_type": "code",
   "execution_count": 11,
   "id": "de2a496a",
   "metadata": {},
   "outputs": [],
   "source": [
    "def xbrl_url(index_xml_url: str):\n",
    "    \"\"\"Generate the URL to the XBML file in the filing directory \n",
    "    Args:\n",
    "        index_xml_url: \n",
    "            URL to the EDGAR directory listing index.xml file whose format is e.g.:\n",
    "            \"https://sec.gov/Archives/edgar/data/62996/000095012310013437/index.xml\"\n",
    "    Returns:\n",
    "        URL to the XBRL file in the filing directory.\n",
    "    \"\"\"\n",
    "    index_xml_url = index_xml_url.strip()\n",
    "    Logger.debug(f\"Identifying XBRL URLs for the listing [%s]\" % index_xml_url)\n",
    "\n",
    "    # --------------------------------------------------------------------------------\n",
    "    # Filing directory path whose format is \"/Archives/edgar/data/{CIK}/{ACCESSION}/\".\n",
    "    # Remove \"https://[www.]sec.gov\" and \"index.xml\" from the index_xml_url.\n",
    "    # --------------------------------------------------------------------------------\n",
    "    pattern = r\"(http|https)://(www\\.sec\\.gov|sec\\.gov)(.*/)index.xml\"\n",
    "    match = re.search(pattern, index_xml_url, re.IGNORECASE)\n",
    "    assert match and re.match(r\"^/Archives/edgar/data/[0-9]*/[0-9]*/\", match.group(3)), \\\n",
    "        f\"No matching path found by regexp [{pattern}], but got {match}\"\n",
    "\n",
    "    directory = match.group(3)\n",
    "    Logger.debug(\"Filing directory path is [%s]\" % directory)\n",
    "    \n",
    "    # --------------------------------------------------------------------------------\n",
    "    # GET the index.xml\n",
    "    # --------------------------------------------------------------------------------\n",
    "    response = requests.get(index_xml_url, headers=EDGAR_HTTP_HEADERS)\n",
    "    if response.status_code == 200:\n",
    "        content = response.content.decode(\"utf-8\") \n",
    "    else:\n",
    "        Logger.error(\"%s failed with %s\" % (index_xml_url, response.status_code))\n",
    "        assert False, f\"{index_xml_url} failed with status {response.status_code}\"\n",
    "    \n",
    "    # --------------------------------------------------------------------------------\n",
    "    # Look for the XBRL XML file in the index.xml.\n",
    "    # 1. _htm.xml file\n",
    "    # 2. <filename>.xml where \"filename\" is from <filename>.xsd.\n",
    "    # 3. <filename>.xml where \"filename\" is not RNN.xml e.g. R10.xml.\n",
    "    # --------------------------------------------------------------------------------\n",
    "    # 1. Look for _htm.xml.\n",
    "    index = BeautifulSoup(content, 'html.parser')\n",
    "    # print(index.prettify())\n",
    "    \n",
    "    path_to_xbrl = index.find('href', string=re.compile(\".*_htm\\.xml\"))\n",
    "    if path_to_xbrl:\n",
    "        url = \"https://sec.gov\" + path_to_xbrl.string.strip()\n",
    "        Logger.debug(\"URL to XBRL is [%s]\" % url)\n",
    "        return url\n",
    "    else:\n",
    "        Logger.warning(f\"No XBRL with the .*_htm,.xml pattern in the listing {index_xml_url}\")\n",
    "\n",
    "    # 2. Look for XML file for the corresponding XSD.\n",
    "    path_to_xsd = index.find('href', string=re.compile(re.escape(directory) + \".*\\.xsd\"))\n",
    "    if path_to_xsd:\n",
    "        # Extract filename from \"/Archives/edgar/data/{CIK}/{ACCESSION}/<filename>.xsd\".        \n",
    "        pattern = re.escape(directory) + r\"(.*)\\.xsd\"\n",
    "        path_to_xsd = path_to_xsd.string.strip()\n",
    "        match = re.search(pattern, path_to_xsd, re.IGNORECASE)\n",
    "        assert match and match.group(1), f\"No filename match for with {patten}\"\n",
    "        \n",
    "        # Filename of the XSD\n",
    "        filename = match.group(1)\n",
    "\n",
    "        # Iterate over all .xml files and find the distance from the XSD filename.\n",
    "        distance = 999\n",
    "        candidate = None\n",
    "        for href in index.find_all('href', string=re.compile(re.escape(directory) + \".*\\.xml\")):\n",
    "            pattern = re.escape(directory) + r\"(.*)\\.xml\"\n",
    "            match = re.search(pattern, href.string.strip(), re.IGNORECASE)\n",
    "            assert match and match.group(1), f\"[{href}] has no .xml with {pattern}\"\n",
    "\n",
    "            potential = match.group(1)\n",
    "            new_distance = levenshtein.distance(filename, potential)\n",
    "            if new_distance < distance:\n",
    "                distance = new_distance\n",
    "                candidate = potential\n",
    "                Logger.debug(\n",
    "                    \"Candidate [%s] is picked with the distance from [%s] is [%s].\" \n",
    "                    % (candidate, filename, distance) \n",
    "                )\n",
    "\n",
    "        if distance < 3:  # Accept within 2-distance away from the XSD filename.\n",
    "            path_to_xml = directory + candidate + \".xml\"\n",
    "            url = \"https://sec.gov\" + path_to_xml\n",
    "            Logger.debug(\n",
    "                \"Selected the candidate [%s] of distance [%s]. \\nURL to XBRL is [%s]\" \n",
    "                % (candidate, distance, url)\n",
    "            )\n",
    "            return url\n",
    "        else:\n",
    "            Logger.warning(\n",
    "                \"No corresponding XBRL found for the XSD file [%s].\" % (filename + \".xsd\")\n",
    "            )\n",
    "    else:\n",
    "        Logger.error(\"No XSD file found in the listing [%s].\" % index_xml_url)\n",
    "    \n",
    "    # 3. Look for XML with href=\"/Archives/edgar/data/{CIK}/{ACCESSION}/[^R0-9]*\\.xml\"\n",
    "    # Regexp to match the XBRL XML file which is NOT Rnn.xml e.g. R1.xml or R10.xml. \n",
    "    # Most likely it has the format if <str>-<YEAR><MONTH><DATE>.xml.\n",
    "    regexp = re.escape(directory) + r\"[^R][a-zA-Z_-]*[0-9][0-9][0-9][0-9][0-9].*\\.xml\"\n",
    "    Logger.debug(\"Look for XBRL XML with the regexp [%s].\" % regexp)\n",
    "\n",
    "    path_to_xbrl = index.find('href', string=re.compile(regexp))\n",
    "    if path_to_xbrl:\n",
    "        url = \"https://sec.gov\" + path_to_xbrl.string.strip()\n",
    "        Logger.debug(\"Identified the XBRL URL [%s].\" % url)\n",
    "        return url\n",
    "    else:\n",
    "        Logger.warning(\"No XBRL filename matched with the regexp [%s].\" % regexp)\n",
    "\n",
    "    Logger.error(\"No XBRL identified in the listing [%s]\" % index_xml_url)\n",
    "    assert False, \"No XBRL found. Check [%s] to identify the XBRL.\" % index_xml_url\n",
    "\n",
    "    #time.sleep(1)"
   ]
  },
  {
   "cell_type": "code",
   "execution_count": 12,
   "id": "0131e864",
   "metadata": {},
   "outputs": [
    {
     "data": {
      "text/plain": [
       "'https://sec.gov/Archives/edgar/data/62996/000095012310013437/mas-20090930.xml'"
      ]
     },
     "execution_count": 12,
     "metadata": {},
     "output_type": "execute_result"
    }
   ],
   "source": [
    "# Test the sample filling which has irregular XBRL fliename pattern.\n",
    "xbrl_url(\"https://sec.gov/Archives/edgar/data/62996/000095012310013437/index.xml\")"
   ]
  },
  {
   "cell_type": "markdown",
   "id": "e0d3679c",
   "metadata": {},
   "source": [
    "## Acquire the XBRL URLs"
   ]
  },
  {
   "cell_type": "code",
   "execution_count": null,
   "id": "2e916b0b",
   "metadata": {},
   "outputs": [],
   "source": [
    "df['XBRL'] = df['Filename'].apply(xbrl_url)"
   ]
  },
  {
   "cell_type": "code",
   "execution_count": null,
   "id": "588f6d87",
   "metadata": {},
   "outputs": [],
   "source": [
    "df.to_csv(f\"{DATA_DIR}\" + \"/xbrl.gz\", sep=\"|\", compression=\"gzip\", header=True, index=False)"
   ]
  }
 ],
 "metadata": {
  "kernelspec": {
   "display_name": "Python 3 (ipykernel)",
   "language": "python",
   "name": "python3"
  },
  "language_info": {
   "codemirror_mode": {
    "name": "ipython",
    "version": 3
   },
   "file_extension": ".py",
   "mimetype": "text/x-python",
   "name": "python",
   "nbconvert_exporter": "python",
   "pygments_lexer": "ipython3",
   "version": "3.8.10"
  }
 },
 "nbformat": 4,
 "nbformat_minor": 5
}
