{
 "cells": [
  {
   "cell_type": "code",
   "execution_count": 1,
   "id": "89f1ba70",
   "metadata": {},
   "outputs": [
    {
     "data": {
      "text/html": [
       "<style>\n",
       "table {float:left}\n",
       "</style>\n"
      ],
      "text/plain": [
       "<IPython.core.display.HTML object>"
      ]
     },
     "metadata": {},
     "output_type": "display_data"
    }
   ],
   "source": [
    "%%html\n",
    "<style>\n",
    "table {float:left}\n",
    "</style>"
   ]
  },
  {
   "cell_type": "markdown",
   "id": "43c03d82",
   "metadata": {},
   "source": [
    "# Download SEC EDGAR Quarterly (10-Q) Filing(s)\n",
    "\n",
    "## Objective\n",
    "\n",
    "Navigate through the EDGAR master indices and download the 10-Q finantial statement for a ```(CIK, year, quarter)```.\n",
    "\n",
    "## Background\n",
    "There are multiple ways to reach to the target 10-Q file for the given year/quarter. One way is to use the master indices CSV file for the year/quarter identified with the URL.\n",
    "\n",
    "```https://www.sec.gov/Archives/edgar/full-index/${YEAR}/${QTR}/master.gz```\n",
    "\n",
    "Each row in the the master CSV tells where is the 10-Q for a specific company/CIK for the (year, quarter).\n",
    "\n",
    "| CIK    | Company Name | Form Type          | Date Filed | Filename   |                                           \n",
    "|--------|--------------|--------------------|------------|------------|\n",
    "| 320193 | APPLE COMPUTER INC | 3            | 2006-09-07 | edgar/data/320193/0001181431-06-051734.txt |"
   ]
  },
  {
   "cell_type": "markdown",
   "id": "4e67e08e",
   "metadata": {},
   "source": [
    "## URL\n",
    "The URL to 10-Q index.html for the ```(CIK, year, quarter)``` is ```https://sec.gov/Archives/edgar/data/${CIK}/${path}/index.html```\n",
    "\n",
    "To get ```path```, replace ```-``` (hyphen) and ```.txt``` suffix from the **filename** field value."
   ]
  },
  {
   "cell_type": "markdown",
   "id": "62959801",
   "metadata": {},
   "source": [
    "# Setup"
   ]
  },
  {
   "cell_type": "code",
   "execution_count": 2,
   "id": "1c6e10f9",
   "metadata": {},
   "outputs": [],
   "source": [
    "import os\n",
    "import re\n",
    "import json\n",
    "import requests\n",
    "import pandas as pd\n",
    "from bs4 import BeautifulSoup"
   ]
  },
  {
   "cell_type": "markdown",
   "id": "29d5951b",
   "metadata": {},
   "source": [
    "## Constant"
   ]
  },
  {
   "cell_type": "code",
   "execution_count": 3,
   "id": "fbd5a314",
   "metadata": {},
   "outputs": [],
   "source": [
    "EDGAR_BASE_URL = \"https://sec.gov/Archives\""
   ]
  },
  {
   "cell_type": "markdown",
   "id": "bb4e68a7",
   "metadata": {},
   "source": [
    "---\n",
    "# EDGAR\n",
    "\n",
    "* Investopedia - [Where Can I Find a Company's Annual Report and Its SEC Filings?](https://www.investopedia.com/ask/answers/119.asp)\n",
    "\n",
    "> If you want to dig deeper and go beyond the slick marketing version of the annual report found on corporate websites, you'll have to search through required filings made to the Securities and Exchange Commission. All publicly-traded companies in the U.S. must file regular financial reports with the SEC. These filings include the annual report (known as the 10-K), quarterly report (10-Q), and a myriad of other forms containing all types of financial data.45"
   ]
  },
  {
   "cell_type": "markdown",
   "id": "53bd3f6e",
   "metadata": {},
   "source": [
    "# Quarterly filing indices\n",
    "\n",
    "* [Accessing EDGAR Data](https://www.sec.gov/os/accessing-edgar-data)\n",
    "\n",
    "> Using the EDGAR index files  \n",
    "Indexes to all public filings are available from 1994Q3 through the present and located in the following browsable directories:\n",
    "> * https://www.sec.gov/Archives/edgar/daily-index/ — daily index files through the current year; (**DO NOT forget the trailing slash '/'**)\n",
    "> * https://www.sec.gov/Archives/edgar/full-index/ — full indexes offer a \"bridge\" between quarterly and daily indexes, compiling filings from the beginning of the current quarter through the previous business day. At the end of the quarter, the full index is rolled into a static quarterly index.\n",
    "> \n",
    "> Each directory and all child sub directories contain three files to assist in automated crawling of these directories. Note that these are not visible through directory browsing.\n",
    "> * index.html (the web browser would normally receive these)\n",
    "> * index.xml (an XML structured version of the same content)\n",
    "> * index.json (a JSON structured vision of the same content)\n",
    "> \n",
    "> Four types of indexes are available:\n",
    "> * company — sorted by company name\n",
    "> * form — sorted by form type\n",
    "> * **master** — sorted by CIK number   # This looks to be **the only file in which the fields are delimited**\n",
    "> * XBRL — list of submissions containing XBRL financial files, sorted by CIK number; these include Voluntary Filer Program submissions\n",
    "> \n",
    "> The EDGAR indexes list the following information for each filing:\n",
    "> * company name\n",
    "> * form type\n",
    "> * central index key (CIK)\n",
    "> * date filed\n",
    "> * file name (including folder path)\n",
    "\n",
    "## Example\n",
    "\n",
    "Full index files for 2006 QTR 3.\n",
    "<img src=\"../image/edgar_full_index_quarter_2006QTR3.png\" align=\"left\" width=\"800\"/>"
   ]
  },
  {
   "cell_type": "markdown",
   "id": "042c3814",
   "metadata": {},
   "source": [
    "## Download the master indices of 2006 QTR3\n",
    "\n",
    "For instance, download the file for 2006 QTR3."
   ]
  },
  {
   "cell_type": "code",
   "execution_count": 4,
   "id": "17fefea1",
   "metadata": {},
   "outputs": [],
   "source": [
    "YEAR = 2006\n",
    "QTR = \"QTR3\"\n",
    "GZ_PATH = \"../data/master.gz \"\n",
    "DATA_PATH = \"../data/master\""
   ]
  },
  {
   "cell_type": "code",
   "execution_count": 5,
   "id": "b1541162",
   "metadata": {},
   "outputs": [
    {
     "name": "stderr",
     "output_type": "stream",
     "text": [
      "  % Total    % Received % Xferd  Average Speed   Time    Time     Time  Current\n",
      "                                 Dload  Upload   Total   Spent    Left  Speed\n",
      "\r",
      "  0     0    0     0    0     0      0      0 --:--:-- --:--:-- --:--:--     0\r",
      "  0 3025k    0 16463    0     0  40153      0  0:01:17 --:--:--  0:01:17 40055\r",
      "100 3025k  100 3025k    0     0  4236k      0 --:--:-- --:--:-- --:--:-- 4230k\n"
     ]
    }
   ],
   "source": [
    "%%bash -s \"$YEAR\" \"$QTR\" \"$GZ_PATH\"\n",
    "curl \\\n",
    "--header \"User-Agent:Company Name myname@company.com\" \\\n",
    "--output $3 \\\n",
    "\"https://www.sec.gov/Archives/edgar/full-index/$1/$2/master.gz\""
   ]
  },
  {
   "cell_type": "code",
   "execution_count": 6,
   "id": "5200a05d",
   "metadata": {},
   "outputs": [],
   "source": [
    "%%bash -s \"$GZ_PATH\" \"$DATA_PATH\"\n",
    "gunzip -c $1 > $2"
   ]
  },
  {
   "cell_type": "code",
   "execution_count": 7,
   "id": "08e7bab5",
   "metadata": {},
   "outputs": [
    {
     "name": "stdout",
     "output_type": "stream",
     "text": [
      "Description:           Master Index of EDGAR Dissemination Feed\r\n",
      "Last Data Received:    September 30, 2006\r\n",
      "Comments:              webmaster@sec.gov\r\n",
      "Anonymous FTP:         ftp://ftp.sec.gov/edgar/\r\n",
      "Cloud HTTP:            https://www.sec.gov/Archives/\r\n",
      "\r\n",
      " \r\n",
      " \r\n",
      " \r\n",
      "CIK|Company Name|Form Type|Date Filed|Filename\r\n",
      "--------------------------------------------------------------------------------\r\n",
      "1000045|NICHOLAS FINANCIAL INC|10-Q|2006-08-14|edgar/data/1000045/0001193125-06-172516.txt\r\n",
      "1000045|NICHOLAS FINANCIAL INC|8-K|2006-07-27|edgar/data/1000045/0001193125-06-154794.txt\r\n",
      "1000069|TEXAS CAPITAL VALUE FUNDS INC|497|2006-09-12|edgar/data/1000069/0001000069-06-000017.txt\r\n",
      "1000069|TEXAS CAPITAL VALUE FUNDS INC|N-PX|2006-08-23|edgar/data/1000069/0001000069-06-000013.txt\r\n",
      "1000069|TEXAS CAPITAL VALUE FUNDS INC|N-Q|2006-08-29|edgar/data/1000069/0001000069-06-000015.txt\r\n"
     ]
    }
   ],
   "source": [
    "!head -n 16 $DATA_PATH "
   ]
  },
  {
   "cell_type": "markdown",
   "id": "b7230ba6",
   "metadata": {},
   "source": [
    "## Remove the non-csv lines\n",
    "\n",
    "Note that in sed, ```\\s``` in a list is not a special character for a space, hence ```[\\s]``` is same with a single character ```[s]```."
   ]
  },
  {
   "cell_type": "code",
   "execution_count": 8,
   "id": "fe2d6aa1",
   "metadata": {},
   "outputs": [],
   "source": [
    "%%bash -s \"$DATA_PATH\" \n",
    "sed -i -e '1,/^[ \\t]*$/d; /^[- \\t]*$/d' $1"
   ]
  },
  {
   "cell_type": "code",
   "execution_count": 9,
   "id": "d085be0f",
   "metadata": {},
   "outputs": [
    {
     "name": "stdout",
     "output_type": "stream",
     "text": [
      "CIK|Company Name|Form Type|Date Filed|Filename\r\n",
      "1000045|NICHOLAS FINANCIAL INC|10-Q|2006-08-14|edgar/data/1000045/0001193125-06-172516.txt\r\n",
      "1000045|NICHOLAS FINANCIAL INC|8-K|2006-07-27|edgar/data/1000045/0001193125-06-154794.txt\r\n",
      "1000069|TEXAS CAPITAL VALUE FUNDS INC|497|2006-09-12|edgar/data/1000069/0001000069-06-000017.txt\r\n",
      "1000069|TEXAS CAPITAL VALUE FUNDS INC|N-PX|2006-08-23|edgar/data/1000069/0001000069-06-000013.txt\r\n",
      "1000069|TEXAS CAPITAL VALUE FUNDS INC|N-Q|2006-08-29|edgar/data/1000069/0001000069-06-000015.txt\r\n"
     ]
    }
   ],
   "source": [
    "!head -n 6 $DATA_PATH"
   ]
  },
  {
   "cell_type": "markdown",
   "id": "b639ac17",
   "metadata": {},
   "source": [
    "---\n",
    "# Examine the index file (master)"
   ]
  },
  {
   "cell_type": "code",
   "execution_count": 10,
   "id": "bc6442f2",
   "metadata": {},
   "outputs": [
    {
     "name": "stdout",
     "output_type": "stream",
     "text": [
      "CIK                      int64\n",
      "Company Name            object\n",
      "Form Type               object\n",
      "Date Filed      datetime64[ns]\n",
      "Filename                object\n",
      "dtype: object\n"
     ]
    },
    {
     "data": {
      "text/html": [
       "<div>\n",
       "<style scoped>\n",
       "    .dataframe tbody tr th:only-of-type {\n",
       "        vertical-align: middle;\n",
       "    }\n",
       "\n",
       "    .dataframe tbody tr th {\n",
       "        vertical-align: top;\n",
       "    }\n",
       "\n",
       "    .dataframe thead th {\n",
       "        text-align: right;\n",
       "    }\n",
       "</style>\n",
       "<table border=\"1\" class=\"dataframe\">\n",
       "  <thead>\n",
       "    <tr style=\"text-align: right;\">\n",
       "      <th></th>\n",
       "      <th>CIK</th>\n",
       "      <th>Company Name</th>\n",
       "      <th>Form Type</th>\n",
       "      <th>Date Filed</th>\n",
       "      <th>Filename</th>\n",
       "    </tr>\n",
       "  </thead>\n",
       "  <tbody>\n",
       "    <tr>\n",
       "      <th>0</th>\n",
       "      <td>1000045</td>\n",
       "      <td>NICHOLAS FINANCIAL INC</td>\n",
       "      <td>10-Q</td>\n",
       "      <td>2006-08-14</td>\n",
       "      <td>edgar/data/1000045/0001193125-06-172516.txt</td>\n",
       "    </tr>\n",
       "    <tr>\n",
       "      <th>1</th>\n",
       "      <td>1000045</td>\n",
       "      <td>NICHOLAS FINANCIAL INC</td>\n",
       "      <td>8-K</td>\n",
       "      <td>2006-07-27</td>\n",
       "      <td>edgar/data/1000045/0001193125-06-154794.txt</td>\n",
       "    </tr>\n",
       "    <tr>\n",
       "      <th>2</th>\n",
       "      <td>1000069</td>\n",
       "      <td>TEXAS CAPITAL VALUE FUNDS INC</td>\n",
       "      <td>497</td>\n",
       "      <td>2006-09-12</td>\n",
       "      <td>edgar/data/1000069/0001000069-06-000017.txt</td>\n",
       "    </tr>\n",
       "    <tr>\n",
       "      <th>3</th>\n",
       "      <td>1000069</td>\n",
       "      <td>TEXAS CAPITAL VALUE FUNDS INC</td>\n",
       "      <td>N-PX</td>\n",
       "      <td>2006-08-23</td>\n",
       "      <td>edgar/data/1000069/0001000069-06-000013.txt</td>\n",
       "    </tr>\n",
       "    <tr>\n",
       "      <th>4</th>\n",
       "      <td>1000069</td>\n",
       "      <td>TEXAS CAPITAL VALUE FUNDS INC</td>\n",
       "      <td>N-Q</td>\n",
       "      <td>2006-08-29</td>\n",
       "      <td>edgar/data/1000069/0001000069-06-000015.txt</td>\n",
       "    </tr>\n",
       "  </tbody>\n",
       "</table>\n",
       "</div>"
      ],
      "text/plain": [
       "       CIK                   Company Name Form Type Date Filed  \\\n",
       "0  1000045         NICHOLAS FINANCIAL INC      10-Q 2006-08-14   \n",
       "1  1000045         NICHOLAS FINANCIAL INC       8-K 2006-07-27   \n",
       "2  1000069  TEXAS CAPITAL VALUE FUNDS INC       497 2006-09-12   \n",
       "3  1000069  TEXAS CAPITAL VALUE FUNDS INC      N-PX 2006-08-23   \n",
       "4  1000069  TEXAS CAPITAL VALUE FUNDS INC       N-Q 2006-08-29   \n",
       "\n",
       "                                      Filename  \n",
       "0  edgar/data/1000045/0001193125-06-172516.txt  \n",
       "1  edgar/data/1000045/0001193125-06-154794.txt  \n",
       "2  edgar/data/1000069/0001000069-06-000017.txt  \n",
       "3  edgar/data/1000069/0001000069-06-000013.txt  \n",
       "4  edgar/data/1000069/0001000069-06-000015.txt  "
      ]
     },
     "execution_count": 10,
     "metadata": {},
     "output_type": "execute_result"
    }
   ],
   "source": [
    "\"\"\"\n",
    "df = pd.read_csv(\n",
    "    DATA_PATH,\n",
    "    skiprows=[\n",
    "        *range(5),    # First N descriptive lines\n",
    "        10            # -----\n",
    "    ],\n",
    "    skip_blank_lines=True,\n",
    "    header=0,         # The 1st data line after omitting skiprows and blank lines.\n",
    "    sep='|'\n",
    ")\n",
    "\"\"\"\n",
    "df = pd.read_csv(\n",
    "    DATA_PATH,\n",
    "    skip_blank_lines=True,\n",
    "    header=0,         # The 1st data line after omitting skiprows and blank lines.\n",
    "    sep='|',\n",
    "    parse_dates=['Date Filed']\n",
    ")\n",
    "print(df.dtypes)\n",
    "df[:5]"
   ]
  },
  {
   "cell_type": "markdown",
   "id": "65982925",
   "metadata": {},
   "source": [
    "## Apple computer 2006 QTR3 Filings"
   ]
  },
  {
   "cell_type": "code",
   "execution_count": 11,
   "id": "4d954f4b",
   "metadata": {},
   "outputs": [
    {
     "data": {
      "text/html": [
       "<div>\n",
       "<style scoped>\n",
       "    .dataframe tbody tr th:only-of-type {\n",
       "        vertical-align: middle;\n",
       "    }\n",
       "\n",
       "    .dataframe tbody tr th {\n",
       "        vertical-align: top;\n",
       "    }\n",
       "\n",
       "    .dataframe thead th {\n",
       "        text-align: right;\n",
       "    }\n",
       "</style>\n",
       "<table border=\"1\" class=\"dataframe\">\n",
       "  <thead>\n",
       "    <tr style=\"text-align: right;\">\n",
       "      <th></th>\n",
       "      <th>CIK</th>\n",
       "      <th>Company Name</th>\n",
       "      <th>Form Type</th>\n",
       "      <th>Date Filed</th>\n",
       "      <th>Filename</th>\n",
       "    </tr>\n",
       "  </thead>\n",
       "  <tbody>\n",
       "    <tr>\n",
       "      <th>159958</th>\n",
       "      <td>320193</td>\n",
       "      <td>APPLE COMPUTER INC</td>\n",
       "      <td>3</td>\n",
       "      <td>2006-09-07</td>\n",
       "      <td>edgar/data/320193/0001181431-06-051734.txt</td>\n",
       "    </tr>\n",
       "    <tr>\n",
       "      <th>159959</th>\n",
       "      <td>320193</td>\n",
       "      <td>APPLE COMPUTER INC</td>\n",
       "      <td>4/A</td>\n",
       "      <td>2006-07-26</td>\n",
       "      <td>edgar/data/320193/0001181431-06-043774.txt</td>\n",
       "    </tr>\n",
       "    <tr>\n",
       "      <th>159960</th>\n",
       "      <td>320193</td>\n",
       "      <td>APPLE COMPUTER INC</td>\n",
       "      <td>4</td>\n",
       "      <td>2006-07-06</td>\n",
       "      <td>edgar/data/320193/0001181431-06-040870.txt</td>\n",
       "    </tr>\n",
       "    <tr>\n",
       "      <th>159961</th>\n",
       "      <td>320193</td>\n",
       "      <td>APPLE COMPUTER INC</td>\n",
       "      <td>4</td>\n",
       "      <td>2006-07-24</td>\n",
       "      <td>edgar/data/320193/0001181431-06-043325.txt</td>\n",
       "    </tr>\n",
       "    <tr>\n",
       "      <th>159962</th>\n",
       "      <td>320193</td>\n",
       "      <td>APPLE COMPUTER INC</td>\n",
       "      <td>4</td>\n",
       "      <td>2006-07-26</td>\n",
       "      <td>edgar/data/320193/0001181431-06-043775.txt</td>\n",
       "    </tr>\n",
       "    <tr>\n",
       "      <th>159963</th>\n",
       "      <td>320193</td>\n",
       "      <td>APPLE COMPUTER INC</td>\n",
       "      <td>4</td>\n",
       "      <td>2006-07-28</td>\n",
       "      <td>edgar/data/320193/0001181431-06-044234.txt</td>\n",
       "    </tr>\n",
       "    <tr>\n",
       "      <th>159964</th>\n",
       "      <td>320193</td>\n",
       "      <td>APPLE COMPUTER INC</td>\n",
       "      <td>4</td>\n",
       "      <td>2006-08-02</td>\n",
       "      <td>edgar/data/320193/0001181431-06-044978.txt</td>\n",
       "    </tr>\n",
       "    <tr>\n",
       "      <th>159965</th>\n",
       "      <td>320193</td>\n",
       "      <td>APPLE COMPUTER INC</td>\n",
       "      <td>4</td>\n",
       "      <td>2006-08-08</td>\n",
       "      <td>edgar/data/320193/0001181431-06-046420.txt</td>\n",
       "    </tr>\n",
       "    <tr>\n",
       "      <th>159966</th>\n",
       "      <td>320193</td>\n",
       "      <td>APPLE COMPUTER INC</td>\n",
       "      <td>4</td>\n",
       "      <td>2006-08-08</td>\n",
       "      <td>edgar/data/320193/0001181431-06-046421.txt</td>\n",
       "    </tr>\n",
       "    <tr>\n",
       "      <th>159967</th>\n",
       "      <td>320193</td>\n",
       "      <td>APPLE COMPUTER INC</td>\n",
       "      <td>4</td>\n",
       "      <td>2006-08-17</td>\n",
       "      <td>edgar/data/320193/0001181431-06-048402.txt</td>\n",
       "    </tr>\n",
       "    <tr>\n",
       "      <th>159968</th>\n",
       "      <td>320193</td>\n",
       "      <td>APPLE COMPUTER INC</td>\n",
       "      <td>4</td>\n",
       "      <td>2006-09-01</td>\n",
       "      <td>edgar/data/320193/0001181431-06-050971.txt</td>\n",
       "    </tr>\n",
       "    <tr>\n",
       "      <th>159969</th>\n",
       "      <td>320193</td>\n",
       "      <td>APPLE COMPUTER INC</td>\n",
       "      <td>4</td>\n",
       "      <td>2006-09-07</td>\n",
       "      <td>edgar/data/320193/0001181431-06-051735.txt</td>\n",
       "    </tr>\n",
       "    <tr>\n",
       "      <th>159970</th>\n",
       "      <td>320193</td>\n",
       "      <td>APPLE COMPUTER INC</td>\n",
       "      <td>4</td>\n",
       "      <td>2006-09-15</td>\n",
       "      <td>edgar/data/320193/0001181431-06-053331.txt</td>\n",
       "    </tr>\n",
       "    <tr>\n",
       "      <th>159971</th>\n",
       "      <td>320193</td>\n",
       "      <td>APPLE COMPUTER INC</td>\n",
       "      <td>8-K</td>\n",
       "      <td>2006-07-19</td>\n",
       "      <td>edgar/data/320193/0001104659-06-047739.txt</td>\n",
       "    </tr>\n",
       "    <tr>\n",
       "      <th>159972</th>\n",
       "      <td>320193</td>\n",
       "      <td>APPLE COMPUTER INC</td>\n",
       "      <td>8-K</td>\n",
       "      <td>2006-08-04</td>\n",
       "      <td>edgar/data/320193/0001104659-06-051302.txt</td>\n",
       "    </tr>\n",
       "    <tr>\n",
       "      <th>159973</th>\n",
       "      <td>320193</td>\n",
       "      <td>APPLE COMPUTER INC</td>\n",
       "      <td>8-K</td>\n",
       "      <td>2006-08-11</td>\n",
       "      <td>edgar/data/320193/0001104659-06-054118.txt</td>\n",
       "    </tr>\n",
       "    <tr>\n",
       "      <th>159974</th>\n",
       "      <td>320193</td>\n",
       "      <td>APPLE COMPUTER INC</td>\n",
       "      <td>8-K</td>\n",
       "      <td>2006-09-01</td>\n",
       "      <td>edgar/data/320193/0001104659-06-058808.txt</td>\n",
       "    </tr>\n",
       "    <tr>\n",
       "      <th>159975</th>\n",
       "      <td>320193</td>\n",
       "      <td>APPLE COMPUTER INC</td>\n",
       "      <td>CORRESP</td>\n",
       "      <td>2006-08-17</td>\n",
       "      <td>edgar/data/320193/0001104659-06-055907.txt</td>\n",
       "    </tr>\n",
       "    <tr>\n",
       "      <th>159976</th>\n",
       "      <td>320193</td>\n",
       "      <td>APPLE COMPUTER INC</td>\n",
       "      <td>NT 10-Q</td>\n",
       "      <td>2006-08-11</td>\n",
       "      <td>edgar/data/320193/0001104659-06-053743.txt</td>\n",
       "    </tr>\n",
       "    <tr>\n",
       "      <th>159977</th>\n",
       "      <td>320193</td>\n",
       "      <td>APPLE COMPUTER INC</td>\n",
       "      <td>UPLOAD</td>\n",
       "      <td>2006-08-28</td>\n",
       "      <td>edgar/data/320193/0000000000-06-041438.txt</td>\n",
       "    </tr>\n",
       "  </tbody>\n",
       "</table>\n",
       "</div>"
      ],
      "text/plain": [
       "           CIK        Company Name Form Type Date Filed  \\\n",
       "159958  320193  APPLE COMPUTER INC         3 2006-09-07   \n",
       "159959  320193  APPLE COMPUTER INC       4/A 2006-07-26   \n",
       "159960  320193  APPLE COMPUTER INC         4 2006-07-06   \n",
       "159961  320193  APPLE COMPUTER INC         4 2006-07-24   \n",
       "159962  320193  APPLE COMPUTER INC         4 2006-07-26   \n",
       "159963  320193  APPLE COMPUTER INC         4 2006-07-28   \n",
       "159964  320193  APPLE COMPUTER INC         4 2006-08-02   \n",
       "159965  320193  APPLE COMPUTER INC         4 2006-08-08   \n",
       "159966  320193  APPLE COMPUTER INC         4 2006-08-08   \n",
       "159967  320193  APPLE COMPUTER INC         4 2006-08-17   \n",
       "159968  320193  APPLE COMPUTER INC         4 2006-09-01   \n",
       "159969  320193  APPLE COMPUTER INC         4 2006-09-07   \n",
       "159970  320193  APPLE COMPUTER INC         4 2006-09-15   \n",
       "159971  320193  APPLE COMPUTER INC       8-K 2006-07-19   \n",
       "159972  320193  APPLE COMPUTER INC       8-K 2006-08-04   \n",
       "159973  320193  APPLE COMPUTER INC       8-K 2006-08-11   \n",
       "159974  320193  APPLE COMPUTER INC       8-K 2006-09-01   \n",
       "159975  320193  APPLE COMPUTER INC   CORRESP 2006-08-17   \n",
       "159976  320193  APPLE COMPUTER INC   NT 10-Q 2006-08-11   \n",
       "159977  320193  APPLE COMPUTER INC    UPLOAD 2006-08-28   \n",
       "\n",
       "                                          Filename  \n",
       "159958  edgar/data/320193/0001181431-06-051734.txt  \n",
       "159959  edgar/data/320193/0001181431-06-043774.txt  \n",
       "159960  edgar/data/320193/0001181431-06-040870.txt  \n",
       "159961  edgar/data/320193/0001181431-06-043325.txt  \n",
       "159962  edgar/data/320193/0001181431-06-043775.txt  \n",
       "159963  edgar/data/320193/0001181431-06-044234.txt  \n",
       "159964  edgar/data/320193/0001181431-06-044978.txt  \n",
       "159965  edgar/data/320193/0001181431-06-046420.txt  \n",
       "159966  edgar/data/320193/0001181431-06-046421.txt  \n",
       "159967  edgar/data/320193/0001181431-06-048402.txt  \n",
       "159968  edgar/data/320193/0001181431-06-050971.txt  \n",
       "159969  edgar/data/320193/0001181431-06-051735.txt  \n",
       "159970  edgar/data/320193/0001181431-06-053331.txt  \n",
       "159971  edgar/data/320193/0001104659-06-047739.txt  \n",
       "159972  edgar/data/320193/0001104659-06-051302.txt  \n",
       "159973  edgar/data/320193/0001104659-06-054118.txt  \n",
       "159974  edgar/data/320193/0001104659-06-058808.txt  \n",
       "159975  edgar/data/320193/0001104659-06-055907.txt  \n",
       "159976  edgar/data/320193/0001104659-06-053743.txt  \n",
       "159977  edgar/data/320193/0000000000-06-041438.txt  "
      ]
     },
     "execution_count": 11,
     "metadata": {},
     "output_type": "execute_result"
    }
   ],
   "source": [
    "df[df['Company Name'] == 'APPLE COMPUTER INC']"
   ]
  },
  {
   "cell_type": "markdown",
   "id": "6984a598",
   "metadata": {},
   "source": [
    "# Apple computer quarter finantial statement (10-Q) index HTML\n",
    "\n",
    "From the index file, get the URL to the 10-Q (quareterly financial statement) file for the 2006 QTR6."
   ]
  },
  {
   "cell_type": "code",
   "execution_count": 12,
   "id": "752becc2",
   "metadata": {},
   "outputs": [
    {
     "name": "stdout",
     "output_type": "stream",
     "text": [
      "Text index of the 10-Q is edgar/data/320193/0001104659-06-053743.txt\n",
      "URL to the index of 10-Q is https://sec.gov/Archives/edgar/data/320193/000110465906053743/index.html\n"
     ]
    }
   ],
   "source": [
    "# --------------------------------------------------------------------------------\n",
    "# Create URL to 10-Q index from the master index record.\n",
    "# --------------------------------------------------------------------------------\n",
    "path_to_10Q = df[\n",
    "    (df['Company Name'] == 'APPLE COMPUTER INC') & (df['Form Type'].str.contains(\"10-Q\"))\n",
    "]['Filename'].values[0]\n",
    "print(f\"Text index of the 10-Q is {path_to_10Q}\")\n",
    "\n",
    "path_to_10Q_index_html = f\"{os.path.splitext(path_to_10Q)[0]}\".replace(\"-\", \"\") + \"/index.html\"\n",
    "url_to_10Q_index_html = f\"{EDGAR_BASE_URL}/{path_to_10Q_index_html}\"\n",
    "print(f\"URL to the index of 10-Q is {url_to_10Q_index_html}\")"
   ]
  },
  {
   "cell_type": "code",
   "execution_count": 13,
   "id": "8f4bacc1",
   "metadata": {},
   "outputs": [],
   "source": [
    "# --------------------------------------------------------------------------------\n",
    "# Download the HTML from the URL to 10-Q index.\n",
    "# --------------------------------------------------------------------------------\n",
    "headers = {\"User-Agent\": \"Company Name myname@company.com\"}\n",
    "response = requests.get(url_to_10Q_index_html, headers=headers)\n",
    "\n",
    "if response.status_code == 200:\n",
    "    content_html = response.content.decode(\"utf-8\") \n",
    "else:\n",
    "    print(f\"HTML from {url_to_10Q_index_html} failed with status {response.status_code}\")"
   ]
  },
  {
   "cell_type": "code",
   "execution_count": 14,
   "id": "3d6c97ae",
   "metadata": {},
   "outputs": [],
   "source": [
    "# --------------------------------------------------------------------------------\n",
    "# Display the HTML 10-Q index part\n",
    "# --------------------------------------------------------------------------------\n",
    "soup = BeautifulSoup(content_html)\n",
    "div = BeautifulSoup(\n",
    "\"\"\"</html>\n",
    "<body>\n",
    "{}\n",
    "</body>\n",
    "</html>\n",
    "\"\"\".format(soup.find(\"div\", {\"id\": \"main-content\"}))\n",
    ")"
   ]
  },
  {
   "cell_type": "code",
   "execution_count": 15,
   "id": "a7f972d1",
   "metadata": {},
   "outputs": [
    {
     "data": {
      "text/html": [],
      "text/plain": [
       "<IPython.core.display.HTML object>"
      ]
     },
     "execution_count": 15,
     "metadata": {},
     "output_type": "execute_result"
    }
   ],
   "source": [
    "from IPython.display import HTML\n",
    "HTML(data=div.prettify())"
   ]
  },
  {
   "cell_type": "markdown",
   "id": "b502c933",
   "metadata": {},
   "source": [
    "## Index in JSON format\n",
    "\n",
    "> Each directory and all child sub directories contain three files to assist in automated crawling of these directories. Note that these are not visible through directory browsing.\n",
    "> * index.html (the web browser would normally receive these)\n",
    "> * index.xml (an XML structured version of the same content)\n",
    "> * index.json (a JSON structured vision of the same content)\n",
    "\n",
    "For parsing, get the JSON index file."
   ]
  },
  {
   "cell_type": "code",
   "execution_count": 16,
   "id": "fac73fdb",
   "metadata": {},
   "outputs": [
    {
     "name": "stdout",
     "output_type": "stream",
     "text": [
      "{\n",
      "    \"directory\": {\n",
      "        \"item\": [\n",
      "            {\n",
      "                \"last-modified\": \"2006-08-10 20:45:42\",\n",
      "                \"name\": \"0001104659-06-053743-index-headers.html\",\n",
      "                \"type\": \"text.gif\",\n",
      "                \"size\": \"\"\n",
      "            },\n",
      "            {\n",
      "                \"last-modified\": \"2006-08-10 20:45:42\",\n",
      "                \"name\": \"0001104659-06-053743-index.html\",\n",
      "                \"type\": \"text.gif\",\n",
      "                \"size\": \"\"\n",
      "            },\n",
      "            {\n",
      "                \"last-modified\": \"2006-08-10 20:45:42\",\n",
      "                \"name\": \"0001104659-06-053743.txt\",\n",
      "                \"type\": \"text.gif\",\n",
      "                \"size\": \"\"\n",
      "            },\n",
      "            {\n",
      "                \"last-modified\": \"2006-08-10 20:45:42\",\n",
      "                \"name\": \"a06-16145_1nt10q.htm\",\n",
      "                \"type\": \"text.gif\",\n",
      "                \"size\": \"33456\"\n",
      "            }\n",
      "        ],\n",
      "        \"name\": \"/Archives/edgar/data/320193/000110465906053743\",\n",
      "        \"parent-dir\": \"/Archives/edgar/data/320193\"\n",
      "    }\n",
      "}\n"
     ]
    }
   ],
   "source": [
    "url_to_10Q_index_json = re.sub(\"\\.html$\", \".json\", url_to_10Q_index_html)\n",
    "\n",
    "# --------------------------------------------------------------------------------\n",
    "# Download the JSON from the URL to 10-Q index.\n",
    "# --------------------------------------------------------------------------------\n",
    "headers = {\"User-Agent\": \"Company Name myname@company.com\"}\n",
    "response = requests.get(url_to_10Q_index_json, headers=headers)\n",
    "\n",
    "if response.status_code == 200:\n",
    "    content_json = response.json()\n",
    "else:\n",
    "    print(f\"HTML from {url_to_10Q_index_json} failed with status {response.status_code}\")\n",
    "    \n",
    "print(json.dumps(content_json, indent=4))"
   ]
  },
  {
   "cell_type": "code",
   "execution_count": 17,
   "id": "8d9e8683",
   "metadata": {},
   "outputs": [
    {
     "data": {
      "text/html": [
       "<div>\n",
       "<style scoped>\n",
       "    .dataframe tbody tr th:only-of-type {\n",
       "        vertical-align: middle;\n",
       "    }\n",
       "\n",
       "    .dataframe tbody tr th {\n",
       "        vertical-align: top;\n",
       "    }\n",
       "\n",
       "    .dataframe thead th {\n",
       "        text-align: right;\n",
       "    }\n",
       "</style>\n",
       "<table border=\"1\" class=\"dataframe\">\n",
       "  <thead>\n",
       "    <tr style=\"text-align: right;\">\n",
       "      <th></th>\n",
       "      <th>last-modified</th>\n",
       "      <th>name</th>\n",
       "      <th>type</th>\n",
       "      <th>size</th>\n",
       "    </tr>\n",
       "  </thead>\n",
       "  <tbody>\n",
       "    <tr>\n",
       "      <th>0</th>\n",
       "      <td>2006-08-10 20:45:42</td>\n",
       "      <td>0001104659-06-053743-index-headers.html</td>\n",
       "      <td>text.gif</td>\n",
       "      <td></td>\n",
       "    </tr>\n",
       "    <tr>\n",
       "      <th>1</th>\n",
       "      <td>2006-08-10 20:45:42</td>\n",
       "      <td>0001104659-06-053743-index.html</td>\n",
       "      <td>text.gif</td>\n",
       "      <td></td>\n",
       "    </tr>\n",
       "    <tr>\n",
       "      <th>2</th>\n",
       "      <td>2006-08-10 20:45:42</td>\n",
       "      <td>0001104659-06-053743.txt</td>\n",
       "      <td>text.gif</td>\n",
       "      <td></td>\n",
       "    </tr>\n",
       "    <tr>\n",
       "      <th>3</th>\n",
       "      <td>2006-08-10 20:45:42</td>\n",
       "      <td>a06-16145_1nt10q.htm</td>\n",
       "      <td>text.gif</td>\n",
       "      <td>33456</td>\n",
       "    </tr>\n",
       "  </tbody>\n",
       "</table>\n",
       "</div>"
      ],
      "text/plain": [
       "         last-modified                                     name      type  \\\n",
       "0  2006-08-10 20:45:42  0001104659-06-053743-index-headers.html  text.gif   \n",
       "1  2006-08-10 20:45:42          0001104659-06-053743-index.html  text.gif   \n",
       "2  2006-08-10 20:45:42                 0001104659-06-053743.txt  text.gif   \n",
       "3  2006-08-10 20:45:42                     a06-16145_1nt10q.htm  text.gif   \n",
       "\n",
       "    size  \n",
       "0         \n",
       "1         \n",
       "2         \n",
       "3  33456  "
      ]
     },
     "execution_count": 17,
     "metadata": {},
     "output_type": "execute_result"
    }
   ],
   "source": [
    "pd.DataFrame(content_json['directory']['item'])"
   ]
  },
  {
   "cell_type": "code",
   "execution_count": null,
   "id": "7a8e1f97",
   "metadata": {},
   "outputs": [],
   "source": []
  }
 ],
 "metadata": {
  "kernelspec": {
   "display_name": "Python 3 (ipykernel)",
   "language": "python",
   "name": "python3"
  },
  "language_info": {
   "codemirror_mode": {
    "name": "ipython",
    "version": 3
   },
   "file_extension": ".py",
   "mimetype": "text/x-python",
   "name": "python",
   "nbconvert_exporter": "python",
   "pygments_lexer": "ipython3",
   "version": "3.8.10"
  }
 },
 "nbformat": 4,
 "nbformat_minor": 5
}
