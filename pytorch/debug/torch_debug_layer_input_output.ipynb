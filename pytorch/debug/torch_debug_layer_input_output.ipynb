{
 "cells": [
  {
   "cell_type": "markdown",
   "id": "ab059204-74af-40f1-8745-087ce0a53dc5",
   "metadata": {},
   "source": [
    "# How to debug layer input and output\n",
    "\n",
    "* [register_forward_hook(hook, *, prepend=False, with_kwargs=False, always_call=False)](torch_visualise_layer_activation.pdf)\n",
    "\n",
    "> The hook will be called every time after forward() has computed an output.\n",
    "\n",
    "* [How to Visualize Layer Activations in PyTorch](https://medium.com/@rekalantar/how-to-visualize-layer-activations-in-pytorch-d0be1076ecc3) ([PDF](./torch_visualise_layer_activation.pdf))\n"
   ]
  },
  {
   "cell_type": "code",
   "execution_count": null,
   "id": "8fbef320-95d8-4833-af92-eb66f1514056",
   "metadata": {},
   "outputs": [],
   "source": [
    "import torch\n",
    "from torchvision.models import resnet18"
   ]
  },
  {
   "cell_type": "markdown",
   "id": "f13cff6e-92c4-405d-aa24-5c4fea91c7fa",
   "metadata": {},
   "source": [
    "# Model\n",
    "\n",
    "Load pretrained ResNet18."
   ]
  },
  {
   "cell_type": "code",
   "execution_count": null,
   "id": "aaba6818-a2fd-48df-b23a-658c035fa1dd",
   "metadata": {},
   "outputs": [],
   "source": [
    "model = resnet18(pretrained=True)"
   ]
  },
  {
   "cell_type": "markdown",
   "id": "5f941793-f88a-4aca-89a5-99aaa510e869",
   "metadata": {},
   "source": [
    "# Forward Hook"
   ]
  },
  {
   "cell_type": "code",
   "execution_count": null,
   "id": "afdac9aa-7078-4903-b03a-6639416b6885",
   "metadata": {},
   "outputs": [],
   "source": [
    "model.eval()  # Set the model to evaluation mode\n",
    "\n",
    "# Hook setup\n",
    "activations = {}\n",
    "def get_activation(name):\n",
    "    def hook(model, input, output):\n",
    "        activations[name] = output.detach()\n",
    "    return hook\n",
    "\n",
    "# Register hooks\n",
    "model.layer1[0].conv1.register_forward_hook(get_activation('layer1_0_conv1'))\n",
    "model.layer4[0].conv1.register_forward_hook(get_activation('layer4_0_conv1'))"
   ]
  }
 ],
 "metadata": {
  "kernelspec": {
   "display_name": "Python 3 (ipykernel)",
   "language": "python",
   "name": "python3"
  },
  "language_info": {
   "codemirror_mode": {
    "name": "ipython",
    "version": 3
   },
   "file_extension": ".py",
   "mimetype": "text/x-python",
   "name": "python",
   "nbconvert_exporter": "python",
   "pygments_lexer": "ipython3",
   "version": "3.10.10"
  }
 },
 "nbformat": 4,
 "nbformat_minor": 5
}
