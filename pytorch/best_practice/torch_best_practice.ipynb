{
 "cells": [
  {
   "cell_type": "markdown",
   "id": "d2d77ce1-1ca9-4662-b91a-193b34cfe04e",
   "metadata": {},
   "source": [
    "# Best Practices\n",
    "\n",
    "* [PYTORCH COMMON MISTAKES - How To Save Time](https://www.youtube.com/watch?v=O2wJ3tkc-TU)\n",
    "\n",
    "1. Train 1000 epochs only with the first batch with batch_size=1 and 32. This is to verify the **train loss gets close to 0**.\n",
    "2. Check the loss of the first batch is around ```-log(1/num_classes)```.\n",
    "3. Double check ```model.train(True)``` ... ```model.eval()``` block.\n",
    "4. Double check ```model.eval()``` before any evaluations (validation, test). Evaluation with ```model.train(True)``` cause inaccuracy e.g. **Dropout** is not disabled.\n",
    "5. Monitor weight distribution mean and variance.\n",
    "6. Monitor activation distribution mean and variance."
   ]
  },
  {
   "cell_type": "code",
   "execution_count": null,
   "id": "9a61df48-2884-4baf-b394-aa469837ddec",
   "metadata": {},
   "outputs": [],
   "source": []
  }
 ],
 "metadata": {
  "kernelspec": {
   "display_name": "Python 3 (ipykernel)",
   "language": "python",
   "name": "python3"
  },
  "language_info": {
   "codemirror_mode": {
    "name": "ipython",
    "version": 3
   },
   "file_extension": ".py",
   "mimetype": "text/x-python",
   "name": "python",
   "nbconvert_exporter": "python",
   "pygments_lexer": "ipython3",
   "version": "3.10.10"
  }
 },
 "nbformat": 4,
 "nbformat_minor": 5
}
