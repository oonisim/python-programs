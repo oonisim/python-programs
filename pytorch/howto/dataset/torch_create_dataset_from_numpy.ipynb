{
 "cells": [
  {
   "cell_type": "markdown",
   "source": [
    "# How to create a Torch Dataset from Numpy arrays\n",
    "\n",
    "* [Refactor with Dataset](https://pytorch.org/tutorials/beginner/nn_tutorial.html#refactor-using-dataset)"
   ],
   "metadata": {
    "collapsed": false
   },
   "id": "b58f180bdab8fffa"
  },
  {
   "cell_type": "code",
   "execution_count": 12,
   "outputs": [],
   "source": [
    "from pathlib import Path\n",
    "import requests\n",
    "import pickle\n",
    "import gzip\n",
    "import torch\n",
    "from torch.utils.data import TensorDataset\n",
    "import matplotlib.pyplot as plt"
   ],
   "metadata": {
    "collapsed": false,
    "ExecuteTime": {
     "end_time": "2024-07-31T06:54:49.461463387Z",
     "start_time": "2024-07-31T06:54:49.203466371Z"
    }
   },
   "id": "b3b8dbbfdee63182"
  },
  {
   "cell_type": "code",
   "execution_count": 2,
   "outputs": [],
   "source": [
    "DATA_PATH = Path(\"data\")\n",
    "PATH = DATA_PATH / \"mnist\"\n",
    "\n",
    "PATH.mkdir(parents=True, exist_ok=True)\n",
    "\n",
    "URL = \"https://github.com/pytorch/tutorials/raw/main/_static/\"\n",
    "FILENAME = \"mnist.pkl.gz\"\n",
    "\n",
    "if not (PATH / FILENAME).exists():\n",
    "    content = requests.get(URL + FILENAME).content\n",
    "    (PATH / FILENAME).open(\"wb\").write(content)"
   ],
   "metadata": {
    "collapsed": false,
    "ExecuteTime": {
     "end_time": "2024-07-31T06:51:44.836342039Z",
     "start_time": "2024-07-31T06:51:44.828929386Z"
    }
   },
   "id": "1e9fa0f8f79085ed"
  },
  {
   "cell_type": "markdown",
   "source": [
    "# Load data as numpy"
   ],
   "metadata": {
    "collapsed": false
   },
   "id": "e670b5aa387f264d"
  },
  {
   "cell_type": "code",
   "execution_count": 3,
   "outputs": [],
   "source": [
    "with gzip.open((PATH / FILENAME).as_posix(), \"rb\") as f:\n",
    "    ((x_train, y_train), (x_valid, y_valid), _) = pickle.load(f, encoding=\"latin-1\")"
   ],
   "metadata": {
    "collapsed": false,
    "ExecuteTime": {
     "end_time": "2024-07-31T06:51:45.480187632Z",
     "start_time": "2024-07-31T06:51:44.831729933Z"
    }
   },
   "id": "a84d6d39a3b364de"
  },
  {
   "cell_type": "code",
   "execution_count": 4,
   "outputs": [
    {
     "data": {
      "text/plain": "(50000, 784)"
     },
     "execution_count": 4,
     "metadata": {},
     "output_type": "execute_result"
    }
   ],
   "source": [
    "x_train.shape"
   ],
   "metadata": {
    "collapsed": false,
    "ExecuteTime": {
     "end_time": "2024-07-31T06:51:45.488775404Z",
     "start_time": "2024-07-31T06:51:45.482980347Z"
    }
   },
   "id": "871328cfa4ebb572"
  },
  {
   "cell_type": "markdown",
   "source": [
    "# Convert numpy arrays to Tensors"
   ],
   "metadata": {
    "collapsed": false
   },
   "id": "85a66aa18e8ec89e"
  },
  {
   "cell_type": "code",
   "execution_count": 7,
   "outputs": [],
   "source": [
    "x_train, y_train, x_valid, y_valid = map(\n",
    "    torch.tensor, (x_train, y_train, x_valid, y_valid)\n",
    ")"
   ],
   "metadata": {
    "collapsed": false,
    "ExecuteTime": {
     "end_time": "2024-07-31T06:53:14.136444991Z",
     "start_time": "2024-07-31T06:53:14.076774919Z"
    }
   },
   "id": "ad9cb193d897cbc4"
  },
  {
   "cell_type": "markdown",
   "source": [
    "# Combine Tensors into a Dataset\n",
    "\n",
    "Both x_train and y_train can be combined in a single TensorDataset.\n"
   ],
   "metadata": {
    "collapsed": false
   },
   "id": "9925b21feccce584"
  },
  {
   "cell_type": "code",
   "execution_count": 8,
   "outputs": [],
   "source": [
    "train_ds = TensorDataset(x_train, y_train)"
   ],
   "metadata": {
    "collapsed": false,
    "ExecuteTime": {
     "end_time": "2024-07-31T06:53:42.537969571Z",
     "start_time": "2024-07-31T06:53:42.527413267Z"
    }
   },
   "id": "9f3f9597e51f15e9"
  },
  {
   "cell_type": "code",
   "execution_count": 11,
   "outputs": [],
   "source": [
    "image, label = train_ds[0]"
   ],
   "metadata": {
    "collapsed": false,
    "ExecuteTime": {
     "end_time": "2024-07-31T06:54:15.967578548Z",
     "start_time": "2024-07-31T06:54:15.916000108Z"
    }
   },
   "id": "24ea330b0de5842"
  },
  {
   "cell_type": "code",
   "execution_count": 15,
   "outputs": [
    {
     "data": {
      "text/plain": "<matplotlib.image.AxesImage at 0x7e47ce191e70>"
     },
     "execution_count": 15,
     "metadata": {},
     "output_type": "execute_result"
    },
    {
     "data": {
      "text/plain": "<Figure size 640x480 with 1 Axes>",
      "image/png": "[encoded data removed]"
     },
     "metadata": {},
     "output_type": "display_data"
    }
   ],
   "source": [
    "plt.imshow(image.squeeze().reshape(28, 28), cmap=\"gray\")"
   ],
   "metadata": {
    "collapsed": false,
    "ExecuteTime": {
     "end_time": "2024-07-31T06:55:36.399789445Z",
     "start_time": "2024-07-31T06:55:36.309778372Z"
    }
   },
   "id": "455cf52b500d42e0"
  },
  {
   "cell_type": "code",
   "execution_count": 18,
   "outputs": [],
   "source": [
    "!rm -rf ./data"
   ],
   "metadata": {
    "collapsed": false,
    "ExecuteTime": {
     "end_time": "2024-07-31T07:00:25.218930881Z",
     "start_time": "2024-07-31T07:00:25.085328049Z"
    }
   },
   "id": "7cc21c160f5439d7"
  },
  {
   "cell_type": "code",
   "execution_count": null,
   "outputs": [],
   "source": [],
   "metadata": {
    "collapsed": false
   },
   "id": "b01ed155fe804c64"
  }
 ],
 "metadata": {
  "kernelspec": {
   "display_name": "Python 3",
   "language": "python",
   "name": "python3"
  },
  "language_info": {
   "codemirror_mode": {
    "name": "ipython",
    "version": 2
   },
   "file_extension": ".py",
   "mimetype": "text/x-python",
   "name": "python",
   "nbconvert_exporter": "python",
   "pygments_lexer": "ipython2",
   "version": "2.7.6"
  }
 },
 "nbformat": 4,
 "nbformat_minor": 5
}
