{
 "cells": [
  {
   "cell_type": "markdown",
   "id": "0539d6d1-acfb-4742-95f0-0a687f73c9e4",
   "metadata": {},
   "source": [
    "# Training MNIST Classifier (MLP)\n",
    "\n",
    "* [What is torch.nn really?](https://pytorch.org/tutorials/beginner/nn_tutorial.html)\n",
    "* [Build the Neural Network](https://pytorch.org/tutorials/beginner/basics/buildmodel_tutorial.html#)\n",
    "* [Building Models with PyTorch](https://pytorch.org/tutorials/beginner/introyt/modelsyt_tutorial.html)"
   ]
  },
  {
   "cell_type": "code",
   "execution_count": 7,
   "id": "c9b8b2c2-90aa-47f9-9a5d-f6392be244ba",
   "metadata": {},
   "outputs": [],
   "source": [
    "from typing import (\n",
    "    Callable\n",
    ")\n",
    "from torch.nn.init import (\n",
    "    xavier_normal_,\n",
    "    kaiming_normal_,\n",
    ")\n",
    "from torch.nn import (\n",
    "    Module,\n",
    "    Flatten,\n",
    "    Linear,\n",
    "    ReLU,\n",
    "    GELU,\n",
    "    Dropout,\n",
    "    Conv2d,\n",
    "    Softmax,\n",
    "    CrossEntropyLoss\n",
    ")\n",
    "from torch.optim import (\n",
    "    SGD\n",
    ")\n",
    "import torch\n",
    "from torch.utils.data import (\n",
    "    Dataset,\n",
    "    DataLoader,\n",
    "    random_split,\n",
    ")\n",
    "import torch.nn.functional as F\n",
    "from torch.nn.functional import (\n",
    "    cross_entropy\n",
    ")\n",
    "from torchvision import datasets\n",
    "from torchvision.transforms import ToTensor\n",
    "import matplotlib.pyplot as plt"
   ]
  },
  {
   "cell_type": "code",
   "execution_count": 2,
   "id": "9992443f-a1ca-4e96-ae03-a788c14269ea",
   "metadata": {},
   "outputs": [
    {
     "name": "stdout",
     "output_type": "stream",
     "text": [
      "Using mps device\n"
     ]
    }
   ],
   "source": [
    "device = (\n",
    "    \"cuda\" if torch.cuda.is_available()\n",
    "    else \"mps\" if torch.backends.mps.is_available()\n",
    "    else \"cpu\"\n",
    ")\n",
    "print(f\"Using {device} device\")"
   ]
  },
  {
   "cell_type": "markdown",
   "id": "9eb60fa6-c2bf-4b37-a21a-a29b5341f336",
   "metadata": {},
   "source": [
    "# Data"
   ]
  },
  {
   "cell_type": "code",
   "execution_count": 3,
   "id": "d47f8328-7199-44a3-9f05-117a0c6b808c",
   "metadata": {},
   "outputs": [
    {
     "name": "stdout",
     "output_type": "stream",
     "text": [
      "Downloading http://yann.lecun.com/exdb/mnist/train-images-idx3-ubyte.gz\n",
      "Failed to download (trying next):\n",
      "HTTP Error 403: Forbidden\n",
      "\n",
      "Downloading https://ossci-datasets.s3.amazonaws.com/mnist/train-images-idx3-ubyte.gz\n",
      "Downloading https://ossci-datasets.s3.amazonaws.com/mnist/train-images-idx3-ubyte.gz to data/MNIST/raw/train-images-idx3-ubyte.gz\n"
     ]
    },
    {
     "name": "stderr",
     "output_type": "stream",
     "text": [
      "100%|███████████████████████████████████████████████████████████████████████████████████████████████████████████████████████████████████████████████████████| 9912422/9912422 [00:24<00:00, 411631.69it/s]\n"
     ]
    },
    {
     "name": "stdout",
     "output_type": "stream",
     "text": [
      "Extracting data/MNIST/raw/train-images-idx3-ubyte.gz to data/MNIST/raw\n",
      "\n",
      "Downloading http://yann.lecun.com/exdb/mnist/train-labels-idx1-ubyte.gz\n",
      "Failed to download (trying next):\n",
      "HTTP Error 403: Forbidden\n",
      "\n",
      "Downloading https://ossci-datasets.s3.amazonaws.com/mnist/train-labels-idx1-ubyte.gz\n",
      "Downloading https://ossci-datasets.s3.amazonaws.com/mnist/train-labels-idx1-ubyte.gz to data/MNIST/raw/train-labels-idx1-ubyte.gz\n"
     ]
    },
    {
     "name": "stderr",
     "output_type": "stream",
     "text": [
      "100%|████████████████████████████████████████████████████████████████████████████████████████████████████████████████████████████████████████████████████████████| 28881/28881 [00:00<00:00, 46832.05it/s]\n"
     ]
    },
    {
     "name": "stdout",
     "output_type": "stream",
     "text": [
      "Extracting data/MNIST/raw/train-labels-idx1-ubyte.gz to data/MNIST/raw\n",
      "\n",
      "Downloading http://yann.lecun.com/exdb/mnist/t10k-images-idx3-ubyte.gz\n",
      "Failed to download (trying next):\n",
      "HTTP Error 403: Forbidden\n",
      "\n",
      "Downloading https://ossci-datasets.s3.amazonaws.com/mnist/t10k-images-idx3-ubyte.gz\n",
      "Downloading https://ossci-datasets.s3.amazonaws.com/mnist/t10k-images-idx3-ubyte.gz to data/MNIST/raw/t10k-images-idx3-ubyte.gz\n"
     ]
    },
    {
     "name": "stderr",
     "output_type": "stream",
     "text": [
      "100%|███████████████████████████████████████████████████████████████████████████████████████████████████████████████████████████████████████████████████████| 1648877/1648877 [00:13<00:00, 120014.69it/s]\n"
     ]
    },
    {
     "name": "stdout",
     "output_type": "stream",
     "text": [
      "Extracting data/MNIST/raw/t10k-images-idx3-ubyte.gz to data/MNIST/raw\n",
      "\n",
      "Downloading http://yann.lecun.com/exdb/mnist/t10k-labels-idx1-ubyte.gz\n",
      "Failed to download (trying next):\n",
      "HTTP Error 403: Forbidden\n",
      "\n",
      "Downloading https://ossci-datasets.s3.amazonaws.com/mnist/t10k-labels-idx1-ubyte.gz\n",
      "Downloading https://ossci-datasets.s3.amazonaws.com/mnist/t10k-labels-idx1-ubyte.gz to data/MNIST/raw/t10k-labels-idx1-ubyte.gz\n"
     ]
    },
    {
     "name": "stderr",
     "output_type": "stream",
     "text": [
      "100%|██████████████████████████████████████████████████████████████████████████████████████████████████████████████████████████████████████████████████████████████| 4542/4542 [00:00<00:00, 28924.43it/s]\n"
     ]
    },
    {
     "name": "stdout",
     "output_type": "stream",
     "text": [
      "Extracting data/MNIST/raw/t10k-labels-idx1-ubyte.gz to data/MNIST/raw\n",
      "\n"
     ]
    }
   ],
   "source": [
    "training_data: Dataset = datasets.MNIST(\n",
    "    root=\"data\",\n",
    "    train=True,\n",
    "    download=True,\n",
    "    transform=ToTensor()\n",
    ")\n",
    "\n",
    "test_data: Dataset = datasets.MNIST(\n",
    "    root=\"data\",\n",
    "    train=False,\n",
    "    download=True,\n",
    "    transform=ToTensor()\n",
    ")"
   ]
  },
  {
   "cell_type": "code",
   "execution_count": 4,
   "id": "c6f9a904-81f3-4f4d-afe4-5593fc48a7b9",
   "metadata": {},
   "outputs": [],
   "source": [
    "train_size = int(0.8 * len(training_data))\n",
    "validation_size = len(training_data) - train_size\n",
    "training_data, validation_data = random_split(training_data, [train_size, validation_size], generator=torch.Generator().manual_seed(42))"
   ]
  },
  {
   "cell_type": "code",
   "execution_count": 5,
   "id": "f0838897-2010-402c-beb0-26b71d4f1c16",
   "metadata": {},
   "outputs": [],
   "source": [
    "train_dataloader = DataLoader(training_data, batch_size=64, shuffle=True, drop_last=True)\n",
    "validation_dataloader = DataLoader(validation_data, batch_size=64, shuffle=True, drop_last=True)\n",
    "test_dataloader = DataLoader(test_data, batch_size=64, shuffle=True, drop_last=True)"
   ]
  },
  {
   "cell_type": "markdown",
   "id": "7f74a3a6-8244-4287-967b-56a2c72972b3",
   "metadata": {},
   "source": [
    "# Model "
   ]
  },
  {
   "cell_type": "code",
   "execution_count": 6,
   "id": "608eb912-6833-481d-91b5-62511d99c8c6",
   "metadata": {},
   "outputs": [],
   "source": [
    "NUM_CLASSES: int = 10           # 10 digits\n",
    "NUM_FEATURES: int = 28 * 28     # Number of features in the input image"
   ]
  },
  {
   "cell_type": "code",
   "execution_count": 8,
   "id": "c4c0d300-7ede-440b-8826-36ec66c334e8",
   "metadata": {},
   "outputs": [],
   "source": [
    "class MNIST(Module):\n",
    "    def __init__(self):\n",
    "        super().__init__()\n",
    "        \n",
    "        self.input = Flatten()\n",
    "        self.fc01 = Linear(in_features=NUM_FEATURES, out_features=512)\n",
    "        kaiming_normal_(self.fc01.weight, a=0, mode='fan_in', nonlinearity='relu')\n",
    "        self.act01 = ReLU()\n",
    "\n",
    "        self.fc02 = Linear(in_features=512, out_features=512)\n",
    "        kaiming_normal_(self.fc02.weight, a=0, mode='fan_in', nonlinearity='relu')\n",
    "        self.act02 = ReLU()\n",
    "\n",
    "        self.fc03 = Linear(in_features=512, out_features=NUM_CLASSES)\n",
    "        xavier_normal_(self.fc03.weight)\n",
    "        # nn.CrossEntropyLoss expects unnormalized logits for each class\n",
    "        # self.output = Softmax()\n",
    "\n",
    "    def forward(self, x):\n",
    "        x = self.input(x)\n",
    "        x = self.act01(self.fc01(x))\n",
    "        x = self.act02(self.fc02(x))\n",
    "        # x = self.output(self.fc03(x))\n",
    "        x = self.fc03(x)\n",
    "\n",
    "        return x"
   ]
  },
  {
   "cell_type": "code",
   "execution_count": 10,
   "id": "44b08b51-75cf-4dcd-bb06-bbdcd62a85bb",
   "metadata": {},
   "outputs": [
    {
     "data": {
      "text/plain": [
       "MNIST(\n",
       "  (input): Flatten(start_dim=1, end_dim=-1)\n",
       "  (fc01): Linear(in_features=784, out_features=512, bias=True)\n",
       "  (act01): ReLU()\n",
       "  (fc02): Linear(in_features=512, out_features=512, bias=True)\n",
       "  (act02): ReLU()\n",
       "  (fc03): Linear(in_features=512, out_features=10, bias=True)\n",
       ")"
      ]
     },
     "execution_count": 10,
     "metadata": {},
     "output_type": "execute_result"
    }
   ],
   "source": [
    "model = MNIST()\n",
    "model.to(device)"
   ]
  },
  {
   "cell_type": "markdown",
   "id": "0cd0ec27-fc63-41e3-9a86-6cda7dfb3b05",
   "metadata": {},
   "source": [
    "# Training Loop"
   ]
  },
  {
   "cell_type": "code",
   "execution_count": 17,
   "id": "74332032-1653-4679-8494-79c64c041ff9",
   "metadata": {},
   "outputs": [],
   "source": [
    "NUM_EPOCHS = 20\n",
    "LR: float = 1e-2\n",
    "\n",
    "optimizer = SGD(model.parameters(), lr=LR)\n",
    "loss_fn = CrossEntropyLoss()"
   ]
  },
  {
   "cell_type": "code",
   "execution_count": 29,
   "id": "6f1625ef-7ed7-40a5-bbc8-f502058d7d3c",
   "metadata": {},
   "outputs": [
    {
     "name": "stdout",
     "output_type": "stream",
     "text": [
      "--------------------------------------------------------------------------------\n",
      "Epoch:[0]\n",
      "--------------------------------------------------------------------------------\n",
      "loss:0.058\n",
      "loss:0.054\n",
      "loss:0.050\n",
      "loss:0.062\n",
      "loss:0.057\n",
      "validation loss: 0.09368696808815002\n",
      "--------------------------------------------------------------------------------\n",
      "Epoch:[1]\n",
      "--------------------------------------------------------------------------------\n",
      "loss:0.053\n",
      "loss:0.051\n",
      "loss:0.050\n",
      "loss:0.061\n",
      "loss:0.059\n",
      "validation loss: 0.09195054322481155\n",
      "--------------------------------------------------------------------------------\n",
      "Epoch:[2]\n",
      "--------------------------------------------------------------------------------\n",
      "loss:0.048\n",
      "loss:0.055\n",
      "loss:0.055\n",
      "loss:0.057\n",
      "loss:0.051\n",
      "validation loss: 0.09285635501146317\n",
      "--------------------------------------------------------------------------------\n",
      "Epoch:[3]\n",
      "--------------------------------------------------------------------------------\n",
      "loss:0.047\n",
      "loss:0.063\n",
      "loss:0.050\n",
      "loss:0.045\n",
      "loss:0.053\n",
      "validation loss: 0.09160033613443375\n",
      "--------------------------------------------------------------------------------\n",
      "Epoch:[4]\n",
      "--------------------------------------------------------------------------------\n",
      "loss:0.046\n",
      "loss:0.054\n",
      "loss:0.046\n",
      "loss:0.049\n",
      "loss:0.056\n",
      "validation loss: 0.09087896347045898\n",
      "--------------------------------------------------------------------------------\n",
      "Epoch:[5]\n",
      "--------------------------------------------------------------------------------\n",
      "loss:0.047\n",
      "loss:0.046\n",
      "loss:0.050\n",
      "loss:0.051\n",
      "loss:0.051\n",
      "validation loss: 0.09189152717590332\n",
      "--------------------------------------------------------------------------------\n",
      "Epoch:[6]\n",
      "--------------------------------------------------------------------------------\n",
      "loss:0.045\n",
      "loss:0.049\n",
      "loss:0.050\n",
      "loss:0.045\n",
      "loss:0.049\n",
      "validation loss: 0.09121128916740417\n",
      "--------------------------------------------------------------------------------\n",
      "Epoch:[7]\n",
      "--------------------------------------------------------------------------------\n",
      "loss:0.047\n",
      "loss:0.041\n",
      "loss:0.051\n",
      "loss:0.046\n",
      "loss:0.045\n",
      "validation loss: 0.08933385461568832\n",
      "--------------------------------------------------------------------------------\n",
      "Epoch:[8]\n",
      "--------------------------------------------------------------------------------\n",
      "loss:0.048\n",
      "loss:0.048\n",
      "loss:0.043\n",
      "loss:0.045\n",
      "loss:0.042\n",
      "validation loss: 0.08917033672332764\n",
      "--------------------------------------------------------------------------------\n",
      "Epoch:[9]\n",
      "--------------------------------------------------------------------------------\n",
      "loss:0.040\n",
      "loss:0.042\n",
      "loss:0.042\n",
      "loss:0.047\n",
      "loss:0.047\n",
      "validation loss: 0.08919619023799896\n",
      "--------------------------------------------------------------------------------\n",
      "Epoch:[10]\n",
      "--------------------------------------------------------------------------------\n",
      "loss:0.039\n",
      "loss:0.046\n",
      "loss:0.040\n",
      "loss:0.046\n",
      "loss:0.042\n",
      "validation loss: 0.08857221156358719\n",
      "--------------------------------------------------------------------------------\n",
      "Epoch:[11]\n",
      "--------------------------------------------------------------------------------\n",
      "loss:0.039\n",
      "loss:0.046\n",
      "loss:0.040\n",
      "loss:0.039\n",
      "loss:0.043\n",
      "validation loss: 0.08977732807397842\n",
      "--------------------------------------------------------------------------------\n",
      "Epoch:[12]\n",
      "--------------------------------------------------------------------------------\n",
      "loss:0.034\n",
      "loss:0.040\n",
      "loss:0.039\n",
      "loss:0.046\n",
      "loss:0.043\n",
      "validation loss: 0.08846006542444229\n",
      "--------------------------------------------------------------------------------\n",
      "Epoch:[13]\n",
      "--------------------------------------------------------------------------------\n",
      "loss:0.037\n",
      "loss:0.039\n",
      "loss:0.041\n",
      "loss:0.038\n",
      "loss:0.041\n",
      "validation loss: 0.0887589156627655\n",
      "--------------------------------------------------------------------------------\n",
      "Epoch:[14]\n",
      "--------------------------------------------------------------------------------\n",
      "loss:0.037\n",
      "loss:0.036\n",
      "loss:0.037\n",
      "loss:0.040\n",
      "loss:0.041\n",
      "validation loss: 0.08784116059541702\n",
      "--------------------------------------------------------------------------------\n",
      "Epoch:[15]\n",
      "--------------------------------------------------------------------------------\n",
      "loss:0.036\n",
      "loss:0.035\n",
      "loss:0.033\n",
      "loss:0.042\n",
      "loss:0.041\n",
      "validation loss: 0.08867473155260086\n",
      "--------------------------------------------------------------------------------\n",
      "Epoch:[16]\n",
      "--------------------------------------------------------------------------------\n",
      "loss:0.037\n",
      "loss:0.038\n",
      "loss:0.035\n",
      "loss:0.035\n",
      "loss:0.036\n",
      "validation loss: 0.08745799213647842\n",
      "--------------------------------------------------------------------------------\n",
      "Epoch:[17]\n",
      "--------------------------------------------------------------------------------\n",
      "loss:0.038\n",
      "loss:0.036\n",
      "loss:0.033\n",
      "loss:0.036\n",
      "loss:0.033\n",
      "validation loss: 0.08864614367485046\n",
      "--------------------------------------------------------------------------------\n",
      "Epoch:[18]\n",
      "--------------------------------------------------------------------------------\n",
      "loss:0.034\n",
      "loss:0.034\n",
      "loss:0.035\n",
      "loss:0.032\n",
      "loss:0.036\n",
      "validation loss: 0.0873643234372139\n",
      "--------------------------------------------------------------------------------\n",
      "Epoch:[19]\n",
      "--------------------------------------------------------------------------------\n",
      "loss:0.035\n",
      "loss:0.035\n",
      "loss:0.031\n",
      "loss:0.037\n",
      "loss:0.030\n",
      "validation loss: 0.0880526527762413\n"
     ]
    }
   ],
   "source": [
    "def train(\n",
    "    model: Module,\n",
    "    loss_fn: Callable,\n",
    "    num_epochs: int,\n",
    "    train_dataloader: DataLoader,\n",
    "    validation_dataloader: DataLoader,\n",
    "    device: str\n",
    "):\n",
    "    running_loss: float = 0.0\n",
    "    chunk_size: int = int(len(train_dataloader) / 5)\n",
    "    \n",
    "    for epoch in range(num_epochs):\n",
    "        print(f\"{'-' * 80}\\nEpoch:[{epoch}]\\n{'-' * 80}\")\n",
    "        \n",
    "        # --------------------------------------------------------------------------------\n",
    "        # Training:\n",
    "        # Set the layers to the training mode. Only effective to certain layers such as \n",
    "        # BatchNorm, DropOut which behave differently between trainintg and infereence.\n",
    "        # --------------------------------------------------------------------------------\n",
    "        model.train(mode=True)\n",
    "        for count, (x, y) in enumerate(train_dataloader):\n",
    "            y_pred = model(x.to(device))\n",
    "            loss = loss_fn(y_pred, y.to(device))\n",
    "    \n",
    "            optimizer.zero_grad()\n",
    "            loss.backward()\n",
    "            optimizer.step()\n",
    "    \n",
    "            # print statistics\n",
    "            running_loss += loss.item()\n",
    "            if count % chunk_size == chunk_size-1:\n",
    "                print(f'loss:{running_loss / 100:.3f}')\n",
    "                running_loss = 0.0\n",
    "    \n",
    "        # --------------------------------------------------------------------------------\n",
    "        # Evaluation:\n",
    "        # Set the layers to the inference mode. Only effective to certain layers.\n",
    "        # --------------------------------------------------------------------------------\n",
    "        if validation_dataloader:\n",
    "            model.train(False)   # same with model.eval()\n",
    "            with torch.no_grad():\n",
    "                validation_loss = sum(loss_fn(model(_x.to(device)), _y.to(device)) for _x, _y in validation_dataloader)\n",
    "                print(f\"validation loss: {(validation_loss / len(validation_dataloader)).cpu().item()}\")\n",
    "\n",
    "train(\n",
    "    model=model,\n",
    "    loss_fn=loss_fn,\n",
    "    num_epochs=NUM_EPOCHS,\n",
    "    train_dataloader=train_dataloader,\n",
    "    validation_dataloader=validation_dataloader,\n",
    "    device=device\n",
    ")"
   ]
  },
  {
   "cell_type": "markdown",
   "id": "0568a304-41a3-48e6-ad96-e61aa5cf590f",
   "metadata": {},
   "source": [
    "# Test"
   ]
  },
  {
   "cell_type": "code",
   "execution_count": 33,
   "id": "51fa62e0-034f-43cc-b9fd-778ca8a23617",
   "metadata": {},
   "outputs": [
    {
     "name": "stdout",
     "output_type": "stream",
     "text": [
      "\n",
      "Test set: Average loss: 0.0011, Accuracy: 9755/10000 (98%)\n",
      "\n"
     ]
    }
   ],
   "source": [
    "def test(\n",
    "    model: torch.nn.Module, \n",
    "    test_dataloader: DataLoader,\n",
    "    device: str\n",
    "):\n",
    "    model.eval()\n",
    "    test_loss = 0\n",
    "    correct = 0\n",
    "    with torch.no_grad():\n",
    "        for data, target in test_dataloader:\n",
    "            data, target = data.to(device), target.to(device)\n",
    "            output = model(data)\n",
    "            test_loss += loss_fn(output, target, ).item()\n",
    "            pred = output.argmax(dim=1, keepdim=True)\n",
    "            correct += pred.eq(target.view_as(pred)).sum().item()\n",
    "\n",
    "    test_loss /= len(test_dataloader.dataset)\n",
    "\n",
    "    print('\\nTest set: Average loss: {:.4f}, Accuracy: {}/{} ({:.0f}%)\\n'.format(\n",
    "        test_loss, correct, len(test_dataloader.dataset),\n",
    "        100. * correct / len(test_dataloader.dataset)\n",
    "    ))\n",
    "\n",
    "test(model=model,test_dataloader=test_dataloader, device=device)"
   ]
  },
  {
   "cell_type": "markdown",
   "id": "4fc689e1-c086-4852-b98c-d77752f7eb32",
   "metadata": {},
   "source": [
    "# CNN"
   ]
  },
  {
   "cell_type": "code",
   "execution_count": 41,
   "id": "ed6f7124-00ab-40e9-8bee-4fbafc1cfa68",
   "metadata": {},
   "outputs": [],
   "source": [
    "class MNISTCNN(Module):\n",
    "    def __init__(self):\n",
    "        super().__init__()\n",
    "        self.conv1 = Conv2d(1, 32, 3, 1)\n",
    "        self.conv2 = Conv2d(32, 64, 3, 1)\n",
    "        self.dropout1 = Dropout(0.25)\n",
    "        self.dropout2 = Dropout(0.5)\n",
    "        self.fc1 = Linear(9216, 128)\n",
    "        self.fc2 = Linear(128, 10)\n",
    "\n",
    "    def forward(self, x):\n",
    "        x = self.conv1(x)\n",
    "        x = F.relu(x)\n",
    "        x = self.conv2(x)\n",
    "        x = F.relu(x)\n",
    "        x = F.max_pool2d(x, 2)\n",
    "        x = self.dropout1(x)\n",
    "        x = torch.flatten(x, 1)\n",
    "        x = self.fc1(x)\n",
    "        x = F.relu(x)\n",
    "        x = self.dropout2(x)\n",
    "        x = self.fc2(x)\n",
    "        output = F.log_softmax(x, dim=1)\n",
    "        return x"
   ]
  },
  {
   "cell_type": "code",
   "execution_count": 42,
   "id": "a8d0b093-1238-4606-b0ad-3aab8886f0ed",
   "metadata": {},
   "outputs": [
    {
     "data": {
      "text/plain": [
       "MNISTCNN(\n",
       "  (conv1): Conv2d(1, 32, kernel_size=(3, 3), stride=(1, 1))\n",
       "  (conv2): Conv2d(32, 64, kernel_size=(3, 3), stride=(1, 1))\n",
       "  (dropout1): Dropout(p=0.25, inplace=False)\n",
       "  (dropout2): Dropout(p=0.5, inplace=False)\n",
       "  (fc1): Linear(in_features=9216, out_features=128, bias=True)\n",
       "  (fc2): Linear(in_features=128, out_features=10, bias=True)\n",
       ")"
      ]
     },
     "execution_count": 42,
     "metadata": {},
     "output_type": "execute_result"
    }
   ],
   "source": [
    "model = MNISTCNN()\n",
    "model.to(device)"
   ]
  },
  {
   "cell_type": "code",
   "execution_count": null,
   "id": "629d7907-b9a1-4c4d-83f2-b4cea114b38a",
   "metadata": {},
   "outputs": [
    {
     "name": "stdout",
     "output_type": "stream",
     "text": [
      "--------------------------------------------------------------------------------\n",
      "Epoch:[0]\n",
      "--------------------------------------------------------------------------------\n",
      "loss:0.307\n",
      "loss:0.314\n",
      "loss:0.311\n",
      "loss:0.292\n"
     ]
    }
   ],
   "source": [
    "optimizer = SGD(model.parameters(), lr=1e-3)\n",
    "loss_fn = CrossEntropyLoss()\n",
    "\n",
    "train(\n",
    "    model=model,\n",
    "    loss_fn=loss_fn,\n",
    "    num_epochs=NUM_EPOCHS,\n",
    "    train_dataloader=train_dataloader,\n",
    "    validation_dataloader=validation_dataloader,\n",
    "    device=device\n",
    ")"
   ]
  },
  {
   "cell_type": "code",
   "execution_count": null,
   "id": "53d104c9-c9b0-40ac-b8ba-ef950569e92f",
   "metadata": {},
   "outputs": [],
   "source": [
    "test(model=model,test_dataloader=test_dataloader, device=device)"
   ]
  },
  {
   "cell_type": "code",
   "execution_count": null,
   "id": "e64775e4-0072-4619-83a3-3142a7d0a692",
   "metadata": {},
   "outputs": [],
   "source": []
  }
 ],
 "metadata": {
  "kernelspec": {
   "display_name": "Python 3 (ipykernel)",
   "language": "python",
   "name": "python3"
  },
  "language_info": {
   "codemirror_mode": {
    "name": "ipython",
    "version": 3
   },
   "file_extension": ".py",
   "mimetype": "text/x-python",
   "name": "python",
   "nbconvert_exporter": "python",
   "pygments_lexer": "ipython3",
   "version": "3.10.10"
  }
 },
 "nbformat": 4,
 "nbformat_minor": 5
}
