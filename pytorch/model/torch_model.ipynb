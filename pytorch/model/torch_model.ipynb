{
 "cells": [
  {
   "cell_type": "markdown",
   "id": "d766612c-cf85-4fd3-be67-3fa2f8417e00",
   "metadata": {},
   "source": [
    "# Pytorch Model/Layer\n",
    "\n",
    "* [PyTorch Forum - How to access to a layer by module name?](https://discuss.pytorch.org/t/how-to-access-to-a-layer-by-module-name/83797/2)"
   ]
  },
  {
   "cell_type": "code",
   "execution_count": 1,
   "id": "34059c8d-7d09-4e51-b819-d2889c285cdf",
   "metadata": {},
   "outputs": [],
   "source": [
    "import os\n",
    "import sys\n",
    "from itertools import (\n",
    "    product\n",
    ")\n",
    "from typing import (\n",
    "    List,\n",
    "    Union,\n",
    ")\n",
    "import numpy as np\n",
    "import matplotlib.pyplot as plt\n",
    "from sklearn.metrics import (\n",
    "    confusion_matrix\n",
    ")\n",
    "import torch\n",
    "from torch import nn\n",
    "from torchvision.datasets import FashionMNIST\n",
    "from torch.utils.data import DataLoader\n",
    "from torchvision import transforms\n",
    "from torch.utils.tensorboard import (\n",
    "    SummaryWriter,\n",
    ")"
   ]
  },
  {
   "cell_type": "code",
   "execution_count": 2,
   "id": "89039171-97ab-425f-9121-b2730c52feb1",
   "metadata": {},
   "outputs": [],
   "source": [
    "%load_ext tensorboard"
   ]
  },
  {
   "cell_type": "code",
   "execution_count": 3,
   "id": "7c311e96-df11-47fd-9465-61bb7f9426d8",
   "metadata": {},
   "outputs": [],
   "source": [
    "%load_ext autoreload\n",
    "%autoreload 2\n",
    "from lib.util_torch import (    # PYTHONPATH points to the library parent.\n",
    "    get_image_data_mean_std,\n",
    "    get_accuracy_multi_labels,\n",
    "    tensorboard_write_histogram,\n",
    "    tensorboard_write_graph,\n",
    "    tensorboard_write_image,\n",
    "    tensorboard_write_scalar,\n",
    "    tensorboard_write_scalars,\n",
    "    plot_confusion_matrix,\n",
    "    tensorboard_write_confusion_matrix,\n",
    ")"
   ]
  },
  {
   "cell_type": "markdown",
   "id": "8a6b66c4-7478-4ce3-8aed-adabe4d10424",
   "metadata": {},
   "source": [
    "# Data"
   ]
  },
  {
   "cell_type": "markdown",
   "id": "9e8b8639-5210-41cb-b410-d1cac00857ba",
   "metadata": {},
   "source": [
    "## Train & Validation Dataset"
   ]
  },
  {
   "cell_type": "markdown",
   "id": "a24ce2c7-864b-4376-b83c-d9383373c6c0",
   "metadata": {},
   "source": [
    "### Calculate the mean and std of the pixels (features) per each channel"
   ]
  },
  {
   "cell_type": "code",
   "execution_count": 4,
   "id": "23d24155-9d18-45b9-a2f5-c0aaf01173a6",
   "metadata": {},
   "outputs": [
    {
     "name": "stdout",
     "output_type": "stream",
     "text": [
      "Downloading http://fashion-mnist.s3-website.eu-central-1.amazonaws.com/train-images-idx3-ubyte.gz\n",
      "Downloading http://fashion-mnist.s3-website.eu-central-1.amazonaws.com/train-images-idx3-ubyte.gz to /Users/oonisim/home/repository/git/oonisim/python-programs/pytorch/model/FashionMNIST/raw/train-images-idx3-ubyte.gz\n"
     ]
    },
    {
     "name": "stderr",
     "output_type": "stream",
     "text": [
      "100%|███████████████████████████████████████████████████████████████████████████████████████████████████████████████████████████████████████████████████████████| 26421880/26421880 [00:41<00:00, 641203.18it/s]\n"
     ]
    },
    {
     "name": "stdout",
     "output_type": "stream",
     "text": [
      "Extracting /Users/oonisim/home/repository/git/oonisim/python-programs/pytorch/model/FashionMNIST/raw/train-images-idx3-ubyte.gz to /Users/oonisim/home/repository/git/oonisim/python-programs/pytorch/model/FashionMNIST/raw\n",
      "\n",
      "Downloading http://fashion-mnist.s3-website.eu-central-1.amazonaws.com/train-labels-idx1-ubyte.gz\n",
      "Downloading http://fashion-mnist.s3-website.eu-central-1.amazonaws.com/train-labels-idx1-ubyte.gz to /Users/oonisim/home/repository/git/oonisim/python-programs/pytorch/model/FashionMNIST/raw/train-labels-idx1-ubyte.gz\n"
     ]
    },
    {
     "name": "stderr",
     "output_type": "stream",
     "text": [
      "100%|██████████████████████████████████████████████████████████████████████████████████████████████████████████████████████████████████████████████████████████████████| 29515/29515 [00:00<00:00, 51405.10it/s]\n"
     ]
    },
    {
     "name": "stdout",
     "output_type": "stream",
     "text": [
      "Extracting /Users/oonisim/home/repository/git/oonisim/python-programs/pytorch/model/FashionMNIST/raw/train-labels-idx1-ubyte.gz to /Users/oonisim/home/repository/git/oonisim/python-programs/pytorch/model/FashionMNIST/raw\n",
      "\n",
      "Downloading http://fashion-mnist.s3-website.eu-central-1.amazonaws.com/t10k-images-idx3-ubyte.gz\n",
      "Downloading http://fashion-mnist.s3-website.eu-central-1.amazonaws.com/t10k-images-idx3-ubyte.gz to /Users/oonisim/home/repository/git/oonisim/python-programs/pytorch/model/FashionMNIST/raw/t10k-images-idx3-ubyte.gz\n"
     ]
    },
    {
     "name": "stderr",
     "output_type": "stream",
     "text": [
      "100%|████████████████████████████████████████████████████████████████████████████████████████████████████████████████████████████████████████████████████████████| 4422102/4422102 [00:02<00:00, 1876159.36it/s]\n"
     ]
    },
    {
     "name": "stdout",
     "output_type": "stream",
     "text": [
      "Extracting /Users/oonisim/home/repository/git/oonisim/python-programs/pytorch/model/FashionMNIST/raw/t10k-images-idx3-ubyte.gz to /Users/oonisim/home/repository/git/oonisim/python-programs/pytorch/model/FashionMNIST/raw\n",
      "\n",
      "Downloading http://fashion-mnist.s3-website.eu-central-1.amazonaws.com/t10k-labels-idx1-ubyte.gz\n",
      "Downloading http://fashion-mnist.s3-website.eu-central-1.amazonaws.com/t10k-labels-idx1-ubyte.gz to /Users/oonisim/home/repository/git/oonisim/python-programs/pytorch/model/FashionMNIST/raw/t10k-labels-idx1-ubyte.gz\n"
     ]
    },
    {
     "name": "stderr",
     "output_type": "stream",
     "text": [
      "100%|███████████████████████████████████████████████████████████████████████████████████████████████████████████████████████████████████████████████████████████████████| 5148/5148 [00:00<00:00, 457793.26it/s]"
     ]
    },
    {
     "name": "stdout",
     "output_type": "stream",
     "text": [
      "Extracting /Users/oonisim/home/repository/git/oonisim/python-programs/pytorch/model/FashionMNIST/raw/t10k-labels-idx1-ubyte.gz to /Users/oonisim/home/repository/git/oonisim/python-programs/pytorch/model/FashionMNIST/raw\n",
      "\n"
     ]
    },
    {
     "name": "stderr",
     "output_type": "stream",
     "text": [
      "\n"
     ]
    }
   ],
   "source": [
    "dataset_train = FashionMNIST(\n",
    "    os.getcwd(), \n",
    "    train=True,\n",
    "    download=True, \n",
    "    transform=transforms.Compose([\n",
    "        transforms.ToTensor()\n",
    "    ])\n",
    ")\n",
    "mean, std = get_image_data_mean_std(\n",
    "    loader=torch.utils.data.DataLoader(dataset_train, batch_size=16, shuffle=True, num_workers=8)\n",
    ")"
   ]
  },
  {
   "cell_type": "markdown",
   "id": "64b7f144-70dd-48b8-800f-f15a666af25e",
   "metadata": {},
   "source": [
    "### Normalize the image pixels (features)"
   ]
  },
  {
   "cell_type": "code",
   "execution_count": 5,
   "id": "238ebb87-ac1a-4cbc-8058-ad59d1dd4995",
   "metadata": {},
   "outputs": [],
   "source": [
    "dataset_train = FashionMNIST(\n",
    "    os.getcwd(), \n",
    "    train=True,\n",
    "    download=True, \n",
    "    transform=transforms.Compose([\n",
    "        transforms.ToTensor(),\n",
    "        transforms.Normalize(mean=mean, std=std)\n",
    "    ])\n",
    ")"
   ]
  },
  {
   "cell_type": "markdown",
   "id": "0a311e8c-7357-416c-9db3-20041ae0d7cf",
   "metadata": {},
   "source": [
    "### Verify the std/mean of normalized "
   ]
  },
  {
   "cell_type": "code",
   "execution_count": 6,
   "id": "ac6a62dd-626a-4b47-85c7-ba57f1e339ef",
   "metadata": {},
   "outputs": [
    {
     "name": "stdout",
     "output_type": "stream",
     "text": [
      "(mean, std)=(tensor([-7.7892e-07]), tensor([1.0027]))\n"
     ]
    }
   ],
   "source": [
    "mean, std = get_image_data_mean_std(\n",
    "    loader=torch.utils.data.DataLoader(dataset_train, batch_size=32, shuffle=True, num_workers=8)\n",
    ")\n",
    "print(f\"(mean, std)={mean, std}\")"
   ]
  },
  {
   "cell_type": "markdown",
   "id": "a2a8ed9c-520a-4fe1-b2b1-0a24cb0bd00b",
   "metadata": {},
   "source": [
    "### Data loaders"
   ]
  },
  {
   "cell_type": "code",
   "execution_count": 7,
   "id": "88332e0d-4251-49ed-9c0d-12e950e34d28",
   "metadata": {},
   "outputs": [],
   "source": [
    "train_size = int(0.9 * len(dataset_train))\n",
    "val_size = len(dataset_train) - train_size\n",
    "training_data, val_data = torch.utils.data.random_split(dataset_train, [train_size, val_size])\n",
    "\n",
    "# train_loader = torch.utils.data.DataLoader(training_data, batch_size=8, shuffle=True, num_workers=1)\n",
    "val_loader = torch.utils.data.DataLoader(val_data, batch_size=val_size,  shuffle=True, num_workers=0)"
   ]
  },
  {
   "cell_type": "markdown",
   "id": "ffd6f467-92be-4066-9c24-26d3cbb6c297",
   "metadata": {},
   "source": [
    "## Test Dataset"
   ]
  },
  {
   "cell_type": "markdown",
   "id": "a4da970e-84de-4c64-81e4-ed31a7de45ed",
   "metadata": {},
   "source": [
    "### Data Loader"
   ]
  },
  {
   "cell_type": "code",
   "execution_count": 8,
   "id": "8deaa01e-8e7c-4d29-942a-6024ff0f659c",
   "metadata": {},
   "outputs": [],
   "source": [
    "dataset_test = FashionMNIST(\n",
    "    os.getcwd(), \n",
    "    train=False,\n",
    "    download=True, \n",
    "    transform=transforms.Compose([\n",
    "        transforms.ToTensor(),\n",
    "        transforms.Normalize(mean=mean, std=std)\n",
    "    ])\n",
    ")\n",
    "test_size: int = len(dataset_test)\n",
    "test_loader = torch.utils.data.DataLoader(dataset_test, batch_size=test_size, shuffle=True, num_workers=0)"
   ]
  },
  {
   "cell_type": "markdown",
   "id": "aa04316f-0c34-42ac-bc18-683170ac35be",
   "metadata": {},
   "source": [
    "## Labels"
   ]
  },
  {
   "cell_type": "code",
   "execution_count": 9,
   "id": "55e63a25-5cca-4f8e-a02a-e8c7a6d06c3c",
   "metadata": {},
   "outputs": [
    {
     "data": {
      "text/plain": [
       "['T-Shirt',\n",
       " 'Trouser',\n",
       " 'Pullover',\n",
       " 'Dress',\n",
       " 'Coat',\n",
       " 'Sandal',\n",
       " 'Shirt',\n",
       " 'Sneaker',\n",
       " 'Bag',\n",
       " 'Ankle Boot']"
      ]
     },
     "execution_count": 9,
     "metadata": {},
     "output_type": "execute_result"
    }
   ],
   "source": [
    "id_to_label = {\n",
    "    0: \"T-Shirt\",\n",
    "    1: \"Trouser\",\n",
    "    2: \"Pullover\",\n",
    "    3: \"Dress\",\n",
    "    4: \"Coat\",\n",
    "    5: \"Sandal\",\n",
    "    6: \"Shirt\",\n",
    "    7: \"Sneaker\",\n",
    "    8: \"Bag\",\n",
    "    9: \"Ankle Boot\",\n",
    "}\n",
    "list(id_to_label.values())"
   ]
  },
  {
   "cell_type": "markdown",
   "id": "3e029c38-4e64-40be-a73f-ebbf4f20d16c",
   "metadata": {},
   "source": [
    "## Sample image"
   ]
  },
  {
   "cell_type": "code",
   "execution_count": 10,
   "id": "e52059bf-52bc-4fa3-b9fe-e0d49cbb06cb",
   "metadata": {},
   "outputs": [
    {
     "data": {
      "text/plain": [
       "(1, 28, 28)"
      ]
     },
     "execution_count": 10,
     "metadata": {},
     "output_type": "execute_result"
    }
   ],
   "source": [
    "X, Y = next(iter(val_loader))\n",
    "x = X[0]\n",
    "y = Y[0]\n",
    "\n",
    "channels: int = x.shape[0]\n",
    "width: int = x.shape[1]\n",
    "height: int = x.shape[2]\n",
    "(channels, width, height)"
   ]
  },
  {
   "cell_type": "code",
   "execution_count": 11,
   "id": "048f13a9-6fe9-4dc7-9b15-0e564c58b753",
   "metadata": {},
   "outputs": [
    {
     "name": "stdout",
     "output_type": "stream",
     "text": [
      "Bag\n"
     ]
    },
    {
     "data": {
      "text/plain": [
       "<matplotlib.image.AxesImage at 0x29720f100>"
      ]
     },
     "execution_count": 11,
     "metadata": {},
     "output_type": "execute_result"
    },
    {
     "data": {
      "image/png": "[encoded data removed]",
      "text/plain": [
       "<Figure size 640x480 with 1 Axes>"
      ]
     },
     "metadata": {},
     "output_type": "display_data"
    }
   ],
   "source": [
    "print(id_to_label.get(y.item()))\n",
    "plt.imshow(x.squeeze(), cmap=\"gray\")"
   ]
  },
  {
   "cell_type": "markdown",
   "id": "0053d8c2-f0e2-40b0-b77c-44c0e799fe02",
   "metadata": {},
   "source": [
    "---"
   ]
  },
  {
   "cell_type": "markdown",
   "id": "81f14595-b937-46b0-a81f-bd9355c23126",
   "metadata": {},
   "source": [
    "# Model\n",
    "\n",
    "## Convolution\n",
    "* Start the kernel size with ```(3x3)``` which is default for defact CNN models.\n",
    "* Use small kernel size e.g. ```(2x2)``` for low resolution image e.g. MNIST or CIFAR10.\n",
    "* Smaller kernel size e.g. ```(3x3)``` or ```(5x5)``` is better even when resolution is high."
   ]
  },
  {
   "cell_type": "code",
   "execution_count": 12,
   "id": "5525d8ed-1e35-42ad-9a7e-f2e36b3ffead",
   "metadata": {},
   "outputs": [],
   "source": [
    "class ConvNet(nn.Module):\n",
    "  '''\n",
    "    Simple Convolutional Neural Network\n",
    "  '''\n",
    "  def __init__(self):\n",
    "    super().__init__()\n",
    "    self.layers = nn.Sequential(\n",
    "      nn.Conv2d(channels, 16, kernel_size=3, padding=\"same\"),\n",
    "      nn.BatchNorm2d(16),\n",
    "      nn.MaxPool2d(kernel_size=2),\n",
    "      nn.ReLU(),\n",
    "      nn.Conv2d(16, 32, kernel_size=3, padding=\"same\"),\n",
    "      nn.BatchNorm2d(32),\n",
    "      nn.MaxPool2d(kernel_size=2),\n",
    "      nn.ReLU(),\n",
    "      nn.Flatten(),\n",
    "      nn.Dropout(p=0.2, inplace=False),\n",
    "      nn.Linear(width * height * 32 // 16, 32),\n",
    "      nn.Linear(32, 32),\n",
    "      nn.ReLU(),\n",
    "      nn.Linear(32, 32),\n",
    "      nn.ReLU(),\n",
    "      nn.Linear(32, 10)\n",
    "    )\n",
    "\n",
    "\n",
    "  def forward(self, x):\n",
    "    '''Forward pass'''\n",
    "    return self.layers(x)"
   ]
  },
  {
   "cell_type": "markdown",
   "id": "1cd57da0-b866-4bf1-b17a-196dcaac6d55",
   "metadata": {},
   "source": [
    "---\n"
   ]
  },
  {
   "cell_type": "markdown",
   "id": "c3cb3952-1d51-4b51-bc61-cf853a8ce781",
   "metadata": {},
   "source": [
    "# Hyper Parameters"
   ]
  },
  {
   "cell_type": "code",
   "execution_count": 13,
   "id": "ce240eae-1c9e-41f2-9c8c-003b67dd56a4",
   "metadata": {},
   "outputs": [],
   "source": [
    "batch_sizes: List[int] = [\n",
    "    8\n",
    "]\n",
    "learning_rates: List[float] = [\n",
    "    1e-5\n",
    "]\n",
    "beta1s: List[float] = [\n",
    "    0.95\n",
    "]\n",
    "beta2s: List[float] = [\n",
    "    0.999\n",
    "]\n",
    "decays: List[float] = [\n",
    "    0.015\n",
    "]"
   ]
  },
  {
   "cell_type": "markdown",
   "id": "389290c5-bc33-416c-8038-f1f297485e0e",
   "metadata": {},
   "source": [
    "# Training Loop"
   ]
  },
  {
   "cell_type": "code",
   "execution_count": 14,
   "id": "7ee27271-4b14-4628-93c8-7a3262113084",
   "metadata": {},
   "outputs": [
    {
     "name": "stdout",
     "output_type": "stream",
     "text": [
      "Using mps device\n"
     ]
    }
   ],
   "source": [
    "device = (\n",
    "    \"cuda\" if torch.cuda.is_available()\n",
    "    else \"mps\" if torch.backends.mps.is_available()\n",
    "    else \"cpu\"\n",
    ")\n",
    "\n",
    "print(f\"Using {device} device\")"
   ]
  },
  {
   "cell_type": "code",
   "execution_count": 15,
   "id": "c7dd062b-008c-444d-8a82-8e49d67430c7",
   "metadata": {},
   "outputs": [],
   "source": [
    "# loss_fn = nn.CrossEntropyLoss()\n",
    "# optimizer = torch.optim.Adam(model.parameters(), lr=1e-3)\n",
    "NUM_EPOCHS: int = 2"
   ]
  },
  {
   "cell_type": "code",
   "execution_count": 16,
   "id": "d6ac6f08-c246-477f-897b-bda98afb4599",
   "metadata": {},
   "outputs": [],
   "source": [
    "%rm -rf ./logs"
   ]
  },
  {
   "cell_type": "code",
   "execution_count": 17,
   "id": "7c5b2482-38b1-40a8-adae-03742348e036",
   "metadata": {
    "scrolled": true
   },
   "outputs": [
    {
     "name": "stdout",
     "output_type": "stream",
     "text": [
      "\n",
      "--------------------------------------------------------------------------------\n",
      "batch_size:8 lr:1e-05 beta1:0.95 beta2:0.999 decay:0.015\n",
      "--------------------------------------------------------------------------------\n",
      "Starting epoch:[0].\n",
      "training loss at batch:[00000]: 2.315\n",
      "training loss at batch:[01000]: 2.170\n",
      "training loss at batch:[02000]: 1.996\n",
      "training loss at batch:[03000]: 1.827\n",
      "training loss at batch:[04000]: 1.673\n",
      "training loss at batch:[05000]: 1.540\n",
      "training loss at batch:[06000]: 1.431\n",
      "val_acc 0.745 val_loss  0.788\n",
      "Starting epoch:[1].\n",
      "training loss at batch:[00000]: 0.958\n",
      "training loss at batch:[01000]: 0.764\n",
      "training loss at batch:[02000]: 0.734\n",
      "training loss at batch:[03000]: 0.721\n",
      "training loss at batch:[04000]: 0.706\n",
      "training loss at batch:[05000]: 0.693\n",
      "training loss at batch:[06000]: 0.682\n",
      "val_acc 0.789 val_loss  0.594\n",
      "test_acc 0.477 test_loss  1.717\n",
      "\n",
      "max test accuracy:[0.4772] with batch:8 lr:1e-05 beta1:0.95 beta2:0.999 decay:0.015\n",
      "saving the model as model.pth...\n",
      "Training process has finished.\n"
     ]
    }
   ],
   "source": [
    "max_test_acc: float = 0.0\n",
    "writer = None\n",
    "\n",
    "for batch_size, lr, beta1, beta2, decay in product(batch_sizes, learning_rates, beta1s, beta2s, decays):\n",
    "    run_name: str = f\"./logs/batch{batch_size}_lr{lr}_beta1{beta1}_beta2{beta2}_decay{decay}\"\n",
    "\n",
    "    print()\n",
    "    print('-' * 80)\n",
    "    print(f\"batch_size:{batch_size} lr:{lr} beta1:{beta1} beta2:{beta2} decay:{decay}\")\n",
    "    print('-' * 80)\n",
    "\n",
    "    # --------------------------------------------------------------------------------\n",
    "    # Initialize at new parameter combination.\n",
    "    # --------------------------------------------------------------------------------\n",
    "    prev_loss: float = float(sys.maxsize)\n",
    "    early_stop_tolerance: int = 3\n",
    "\n",
    "    if isinstance(writer, SummaryWriter):\n",
    "        writer.close()\n",
    "\n",
    "    writer = SummaryWriter(run_name)\n",
    "\n",
    "    # num_workers=0 to avoid the issue in https://discuss.pytorch.org/t/error-while-multiprocessing-in-dataloader/46845/19\n",
    "    train_loader = torch.utils.data.DataLoader(training_data, batch_size=batch_size, shuffle=True, num_workers=0)\n",
    "    model: nn.Module = ConvNet()\n",
    "    model = model.to(device)\n",
    "\n",
    "    optimizer = torch.optim.AdamW(model.parameters(), lr=lr, betas=(beta1, beta2), weight_decay=decay)\n",
    "    loss_fn = nn.CrossEntropyLoss(reduction='mean')   # normalized by batch size\n",
    "\n",
    "    # --------------------------------------------------------------------------------\n",
    "    # Train for each parameter combination.\n",
    "    # --------------------------------------------------------------------------------\n",
    "    for epoch in range(0, NUM_EPOCHS):\n",
    "        print(f'Starting epoch:[{epoch}].')\n",
    "        tensorboard_write_histogram(writer=writer, model=model, step=epoch)\n",
    "\n",
    "\n",
    "        _cumulative_loss: float = 0.0    # Reset cumulative training loss during an epoch\n",
    "        _train_loss: float = 0.0         # Reset training loss during an epoch\n",
    "        model.train(True)\n",
    "        for index, data in enumerate(train_loader, 0):\n",
    "            inputs, labels = data\n",
    "            _batch_size: int = len(inputs)\n",
    "\n",
    "            # Write an image at every batch 0\n",
    "            if index == 0:\n",
    "                tensorboard_write_image(\n",
    "                    writer=writer, tag=\"image\", image=inputs[0], step=epoch, dataformats=\"CHW\"\n",
    "                )\n",
    "\n",
    "            # Zero the gradients\n",
    "            optimizer.zero_grad()\n",
    "\n",
    "            # Perform forward pass\n",
    "            outputs = model(inputs.to(device))\n",
    "\n",
    "            # Compute loss\n",
    "            loss = loss_fn(outputs, labels.to(device))\n",
    "\n",
    "            # Perform backward pass\n",
    "            loss.backward()\n",
    "\n",
    "            # Perform optimization\n",
    "            optimizer.step()\n",
    "\n",
    "            # Print statistics\n",
    "            _cumulative_loss += loss.item()\n",
    "            _train_loss = _cumulative_loss / (index + 1)\n",
    "\n",
    "            if index % 1000 == 0:\n",
    "                print(f'training loss at batch:[{index:05d}]: {_train_loss:.03f}')\n",
    "\n",
    "            # if index > 209: break\n",
    "\n",
    "        # --------------------------------------------------------------------------------\n",
    "        # Reports per epoch\n",
    "        # --------------------------------------------------------------------------------\n",
    "        model.eval()\n",
    "\n",
    "        # Accuracy & confusion matrix\n",
    "        inputs = labels = predictions = None\n",
    "        with torch.no_grad():\n",
    "            inputs, labels = next(iter(val_loader))\n",
    "\n",
    "            predictions = model(inputs.to(device))\n",
    "            val_loss = loss_fn(predictions, labels.to(device))\n",
    "\n",
    "        val_acc = get_accuracy_multi_labels(predictions=predictions.cpu(), labels=labels)\n",
    "\n",
    "        # Loss\n",
    "        tensorboard_write_scalars(\n",
    "            writer=writer,\n",
    "            tag=\"loss\",\n",
    "            tag_scalar_dict={\n",
    "                \"training\" : _train_loss,\n",
    "                \"validation\" : val_loss\n",
    "            },\n",
    "            step=epoch\n",
    "        )\n",
    "        tensorboard_write_scalar(\n",
    "            writer=writer, tag=\"validation accuracy/epoch\", value=val_acc, step=epoch\n",
    "        )\n",
    "        tensorboard_write_confusion_matrix(\n",
    "            writer=writer,\n",
    "            tag=\"validation confusion matrix\",\n",
    "            predictions=torch.argmax(predictions.cpu(), axis=-1),\n",
    "            truth=labels,\n",
    "            class_names=list(id_to_label.values()),\n",
    "            step=epoch\n",
    "        )\n",
    "        print(f'val_acc {val_acc:.03f} val_loss {val_loss: .03f}')\n",
    "        writer.flush()\n",
    "\n",
    "        # --------------------------------------------------------------------------------\n",
    "        # Early stop\n",
    "        # --------------------------------------------------------------------------------\n",
    "        if val_loss > prev_loss:\n",
    "            early_stop_tolerance -= 1\n",
    "        else:\n",
    "            prev_loss = val_loss\n",
    "\n",
    "        if early_stop_tolerance <= 0:\n",
    "            print(\"early stop\")\n",
    "            break\n",
    "\n",
    "    # --------------------------------------------------------------------------------\n",
    "    # Test\n",
    "    # --------------------------------------------------------------------------------\n",
    "    inputs = labels = predictions = None\n",
    "    model.eval()\n",
    "    with torch.no_grad():\n",
    "        inputs, labels = next(iter(test_loader))\n",
    "        predictions = model(inputs.to(device))\n",
    "\n",
    "    test_loss = loss_fn(predictions, labels.to(device))\n",
    "    test_acc = get_accuracy_multi_labels(predictions=predictions.cpu(), labels=labels)\n",
    "    print(f'test_acc {test_acc:.03f} test_loss {test_loss: .03f}')\n",
    "\n",
    "    # Report test results\n",
    "    tensorboard_write_scalar(\n",
    "        writer=writer, tag=\"loss\", value=test_loss, step=epoch\n",
    "    )\n",
    "    tensorboard_write_scalar(\n",
    "        writer=writer, tag=\"accuracy\", value=test_acc, step=epoch\n",
    "    )\n",
    "    tensorboard_write_confusion_matrix(\n",
    "        writer=writer,\n",
    "        tag=\"test confusion matrix\",\n",
    "        predictions=torch.argmax(predictions.cpu(), axis=-1),\n",
    "        truth=labels,\n",
    "        class_names=list(id_to_label.values()),\n",
    "        step=epoch\n",
    "    )\n",
    "    writer.add_hparams(\n",
    "        hparam_dict={\"batch\": batch_size, \"lr\": lr, \"beta1\": beta1, \"beta2\": beta2, \"decay\": decay},\n",
    "        metric_dict={\n",
    "            \"test_accuracy\": test_acc,\n",
    "            \"test_loss\": test_loss,\n",
    "        },\n",
    "        run_name=run_name,\n",
    "    )\n",
    "    writer.flush()\n",
    "\n",
    "    # Save model if the accuracy is better\n",
    "    if max_test_acc < test_acc:\n",
    "        print()\n",
    "        print(f\"max test accuracy:[{test_acc}] with batch:{batch_size} lr:{lr} beta1:{beta1} beta2:{beta2} decay:{decay}\")\n",
    "        max_test_acc = test_acc\n",
    "\n",
    "        print(f\"saving the model as model.pth...\")\n",
    "        torch.save(model, 'model.pth')\n",
    "\n",
    "\n",
    "# Process is complete.\n",
    "print('Training process has finished.')"
   ]
  },
  {
   "cell_type": "markdown",
   "id": "e0f31978-e40b-4857-8adb-a2c986b4fca3",
   "metadata": {},
   "source": [
    "# Tensorboard"
   ]
  },
  {
   "cell_type": "code",
   "execution_count": 18,
   "id": "ae47d8ff-8122-40ca-a34f-f6353141c639",
   "metadata": {},
   "outputs": [
    {
     "data": {
      "text/html": [
       "\n",
       "      <iframe id=\"tensorboard-frame-400400cefae2c800\" width=\"100%\" height=\"800\" frameborder=\"0\">\n",
       "      </iframe>\n",
       "      <script>\n",
       "        (function() {\n",
       "          const frame = document.getElementById(\"tensorboard-frame-400400cefae2c800\");\n",
       "          const url = new URL(\"/\", window.location);\n",
       "          const port = 6006;\n",
       "          if (port) {\n",
       "            url.port = port;\n",
       "          }\n",
       "          frame.src = url;\n",
       "        })();\n",
       "      </script>\n",
       "    "
      ],
      "text/plain": [
       "<IPython.core.display.HTML object>"
      ]
     },
     "metadata": {},
     "output_type": "display_data"
    }
   ],
   "source": [
    "%tensorboard --logdir ./logs/"
   ]
  },
  {
   "cell_type": "markdown",
   "id": "69087d5b-b4a6-4151-b01b-16a9e9a829fa",
   "metadata": {},
   "source": [
    "---\n",
    "# Model layers"
   ]
  },
  {
   "cell_type": "code",
   "execution_count": 19,
   "id": "8adbc220-d0bf-4ef5-b7ef-51b94f660df5",
   "metadata": {},
   "outputs": [
    {
     "data": {
      "text/plain": [
       "ConvNet(\n",
       "  (layers): Sequential(\n",
       "    (0): Conv2d(1, 16, kernel_size=(3, 3), stride=(1, 1), padding=same)\n",
       "    (1): BatchNorm2d(16, eps=1e-05, momentum=0.1, affine=True, track_running_stats=True)\n",
       "    (2): MaxPool2d(kernel_size=2, stride=2, padding=0, dilation=1, ceil_mode=False)\n",
       "    (3): ReLU()\n",
       "    (4): Conv2d(16, 32, kernel_size=(3, 3), stride=(1, 1), padding=same)\n",
       "    (5): BatchNorm2d(32, eps=1e-05, momentum=0.1, affine=True, track_running_stats=True)\n",
       "    (6): MaxPool2d(kernel_size=2, stride=2, padding=0, dilation=1, ceil_mode=False)\n",
       "    (7): ReLU()\n",
       "    (8): Flatten(start_dim=1, end_dim=-1)\n",
       "    (9): Dropout(p=0.2, inplace=False)\n",
       "    (10): Linear(in_features=1568, out_features=32, bias=True)\n",
       "    (11): Linear(in_features=32, out_features=32, bias=True)\n",
       "    (12): ReLU()\n",
       "    (13): Linear(in_features=32, out_features=32, bias=True)\n",
       "    (14): ReLU()\n",
       "    (15): Linear(in_features=32, out_features=10, bias=True)\n",
       "  )\n",
       ")"
      ]
     },
     "execution_count": 19,
     "metadata": {},
     "output_type": "execute_result"
    }
   ],
   "source": [
    "model"
   ]
  },
  {
   "cell_type": "markdown",
   "id": "014e492d-c15f-4cb3-801f-73a88f9d72b3",
   "metadata": {},
   "source": [
    "## Access layers"
   ]
  },
  {
   "cell_type": "code",
   "execution_count": 20,
   "id": "d766ab1d-a8c6-4d31-951c-171e1d39ccc3",
   "metadata": {},
   "outputs": [],
   "source": [
    "conv2d_01 = model.layers[0]\n",
    "maxpol_01 = model.layers[2]\n",
    "conv2d_04 = model.layers[4]"
   ]
  },
  {
   "cell_type": "markdown",
   "id": "f8bdf37b-7dc1-4cf8-85f8-21a6798eb3ef",
   "metadata": {},
   "source": [
    "### Conv2D filters"
   ]
  },
  {
   "cell_type": "code",
   "execution_count": 22,
   "id": "f3fff967-ec63-478e-a353-886ee5a91bb7",
   "metadata": {},
   "outputs": [
    {
     "data": {
      "image/png": "[encoded data removed]",
      "text/plain": [
       "<Figure size 600x600 with 16 Axes>"
      ]
     },
     "metadata": {},
     "output_type": "display_data"
    }
   ],
   "source": [
    "_, axs = plt.subplots(4, 4, figsize=(6, 6))\n",
    "axs = axs.flatten()\n",
    "for img, ax in zip(conv2d_01.cpu().weight.squeeze().detach().numpy(), axs):\n",
    "    ax.imshow(img, cmap='gray')\n",
    "plt.show()"
   ]
  },
  {
   "cell_type": "markdown",
   "id": "77ae2228-f0a3-4483-85ed-496683af7635",
   "metadata": {},
   "source": [
    "### Convluated images"
   ]
  },
  {
   "cell_type": "code",
   "execution_count": 27,
   "id": "21ba8c50-5549-40fa-b6a6-6c8ee0f43426",
   "metadata": {},
   "outputs": [
    {
     "data": {
      "image/png": "[encoded data removed]",
      "text/plain": [
       "<Figure size 1000x1000 with 16 Axes>"
      ]
     },
     "metadata": {},
     "output_type": "display_data"
    }
   ],
   "source": [
    "convoluted = conv2d_04.cpu()(maxpol_01.cpu()(conv2d_01.cpu()(x)))\n",
    "_, axs = plt.subplots(4, 4, figsize=(10, 10))\n",
    "axs = axs.flatten()\n",
    "for img, ax in zip(convoluted.detach().numpy(), axs):\n",
    "    ax.imshow(img, cmap='gray')\n",
    "plt.show()"
   ]
  },
  {
   "cell_type": "markdown",
   "id": "e5cb4ce9-8e89-4333-9682-dab7e138ce7a",
   "metadata": {},
   "source": [
    "# Cleanup"
   ]
  },
  {
   "cell_type": "code",
   "execution_count": null,
   "id": "668cd9b7-d1e8-4054-92e2-09151246b763",
   "metadata": {},
   "outputs": [],
   "source": [
    "writer.close()"
   ]
  },
  {
   "cell_type": "code",
   "execution_count": null,
   "id": "6172bda5-e104-4432-a334-2d01593e275d",
   "metadata": {},
   "outputs": [],
   "source": []
  }
 ],
 "metadata": {
  "kernelspec": {
   "display_name": "Python 3 (ipykernel)",
   "language": "python",
   "name": "python3"
  },
  "language_info": {
   "codemirror_mode": {
    "name": "ipython",
    "version": 3
   },
   "file_extension": ".py",
   "mimetype": "text/x-python",
   "name": "python",
   "nbconvert_exporter": "python",
   "pygments_lexer": "ipython3",
   "version": "3.10.10"
  }
 },
 "nbformat": 4,
 "nbformat_minor": 5
}
