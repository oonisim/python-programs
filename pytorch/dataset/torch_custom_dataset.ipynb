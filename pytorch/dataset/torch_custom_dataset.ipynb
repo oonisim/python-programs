{
 "cells": [
  {
   "cell_type": "markdown",
   "source": [
    "# Custom Dataset\n",
    "\n",
    "* [Creating a Custom Dataset for your files\n",
    "](https://pytorch.org/tutorials/beginner/basics/data_tutorial.html#creating-a-custom-dataset-for-your-files)\n",
    "\n",
    "A custom Dataset class must implement three functions: ```__init__```, ```__len__```, and ```__getitem__```. "
   ],
   "metadata": {
    "collapsed": false
   },
   "id": "bbdc839e1895e948"
  },
  {
   "cell_type": "code",
   "execution_count": 26,
   "outputs": [],
   "source": [
    "import os\n",
    "from pathlib import Path\n",
    "import requests\n",
    "import pickle\n",
    "import gzip\n",
    "import pandas as pd\n",
    "import torch\n",
    "import matplotlib.pyplot as plt\n",
    "from torch.utils.data import Dataset\n",
    "from torchvision.io import read_image"
   ],
   "metadata": {
    "collapsed": false,
    "ExecuteTime": {
     "end_time": "2024-07-31T07:21:34.216831634Z",
     "start_time": "2024-07-31T07:21:34.173066586Z"
    }
   },
   "id": "53e19178d85c79bb"
  },
  {
   "cell_type": "code",
   "execution_count": 9,
   "outputs": [],
   "source": [
    "class CustomImageDataset(Dataset):\n",
    "    def __init__(self, annotations_file, img_dir, transform=None, target_transform=None):\n",
    "        self.img_labels = pd.read_csv(annotations_file)\n",
    "        self.img_dir = img_dir\n",
    "        self.transform = transform\n",
    "        self.target_transform = target_transform\n",
    "\n",
    "    def __len__(self):\n",
    "        return len(self.img_labels)\n",
    "\n",
    "    def __getitem__(self, idx):\n",
    "        img_path = os.path.join(self.img_dir, self.img_labels.iloc[idx, 0])\n",
    "        image = read_image(img_path)\n",
    "        label = self.img_labels.iloc[idx, 1]\n",
    "        if self.transform:\n",
    "            image = self.transform(image)\n",
    "        if self.target_transform:\n",
    "            label = self.target_transform(label)\n",
    "        return image, label"
   ],
   "metadata": {
    "collapsed": false,
    "ExecuteTime": {
     "end_time": "2024-07-31T07:11:47.048900195Z",
     "start_time": "2024-07-31T07:11:47.000806744Z"
    }
   },
   "id": "b12bef6d1c127c64"
  },
  {
   "cell_type": "markdown",
   "source": [
    "# MNIST Custom Dataset"
   ],
   "metadata": {
    "collapsed": false
   },
   "id": "6886cd4b6c6a2feb"
  },
  {
   "cell_type": "code",
   "execution_count": 52,
   "outputs": [],
   "source": [
    "class CustomMNISTDataset(Dataset):\n",
    "    def __init__(self, split: str = \"train\"):\n",
    "        DATA_PATH = Path(\"data\")\n",
    "        PATH = DATA_PATH / \"mnist\"\n",
    "        \n",
    "        PATH.mkdir(parents=True, exist_ok=True)\n",
    "        \n",
    "        URL = \"https://github.com/pytorch/tutorials/raw/main/_static/\"\n",
    "        FILENAME = \"mnist.pkl.gz\"\n",
    "        \n",
    "        if not (PATH / FILENAME).exists():\n",
    "            content = requests.get(URL + FILENAME).content\n",
    "            (PATH / FILENAME).open(\"wb\").write(content)\n",
    "\n",
    "        with gzip.open((PATH / FILENAME).as_posix(), \"rb\") as f:\n",
    "            ((self.x_train, self.y_train), (x_valid, y_valid), _) = pickle.load(f, encoding=\"latin-1\")\n",
    "            \n",
    "        self.length: int = len(self.x_train)\n",
    "\n",
    "    def __len__(self):\n",
    "        return self.length\n",
    "\n",
    "    def __getitem__(self, idx):\n",
    "        print(type(self.y_train[idx]))\n",
    "        return torch.from_numpy(self.x_train[idx]), torch.tensor(self.y_train[idx])\n",
    "            "
   ],
   "metadata": {
    "collapsed": false,
    "ExecuteTime": {
     "end_time": "2024-07-31T07:27:34.989912283Z",
     "start_time": "2024-07-31T07:27:34.943746910Z"
    }
   },
   "id": "bb48a1a317afb823"
  },
  {
   "cell_type": "code",
   "execution_count": 53,
   "outputs": [],
   "source": [
    "dataset = CustomMNISTDataset()"
   ],
   "metadata": {
    "collapsed": false,
    "ExecuteTime": {
     "end_time": "2024-07-31T07:27:36.663292910Z",
     "start_time": "2024-07-31T07:27:35.993496197Z"
    }
   },
   "id": "5ee77da06a97f899"
  },
  {
   "cell_type": "code",
   "execution_count": 54,
   "outputs": [
    {
     "name": "stdout",
     "output_type": "stream",
     "text": [
      "<class 'numpy.int64'>\n"
     ]
    }
   ],
   "source": [
    "image, label = dataset[1]"
   ],
   "metadata": {
    "collapsed": false,
    "ExecuteTime": {
     "end_time": "2024-07-31T07:27:36.676131501Z",
     "start_time": "2024-07-31T07:27:36.672243664Z"
    }
   },
   "id": "663164e273fc0b69"
  },
  {
   "cell_type": "code",
   "execution_count": 55,
   "outputs": [
    {
     "data": {
      "text/plain": "<matplotlib.image.AxesImage at 0x7d2dfdcb3790>"
     },
     "execution_count": 55,
     "metadata": {},
     "output_type": "execute_result"
    },
    {
     "data": {
      "text/plain": "<Figure size 640x480 with 1 Axes>",
      "image/png": "[encoded data removed]"
     },
     "metadata": {},
     "output_type": "display_data"
    }
   ],
   "source": [
    "plt.imshow(image.reshape((28, 28)), cmap=\"gray\")"
   ],
   "metadata": {
    "collapsed": false,
    "ExecuteTime": {
     "end_time": "2024-07-31T07:27:36.783720381Z",
     "start_time": "2024-07-31T07:27:36.675756718Z"
    }
   },
   "id": "59b7f55367294488"
  },
  {
   "cell_type": "markdown",
   "source": [],
   "metadata": {
    "collapsed": false
   },
   "id": "173b67a8229f1e1b"
  },
  {
   "cell_type": "code",
   "execution_count": 56,
   "outputs": [
    {
     "data": {
      "text/plain": "tensor(0)"
     },
     "execution_count": 56,
     "metadata": {},
     "output_type": "execute_result"
    }
   ],
   "source": [
    "label"
   ],
   "metadata": {
    "collapsed": false,
    "ExecuteTime": {
     "end_time": "2024-07-31T07:27:37.382717123Z",
     "start_time": "2024-07-31T07:27:37.369313948Z"
    }
   },
   "id": "da1a504c4d09f614"
  },
  {
   "cell_type": "code",
   "execution_count": 58,
   "outputs": [],
   "source": [
    "!rm -rf .data"
   ],
   "metadata": {
    "collapsed": false,
    "ExecuteTime": {
     "end_time": "2024-07-31T07:32:28.782943303Z",
     "start_time": "2024-07-31T07:32:28.656169241Z"
    }
   },
   "id": "ea3597b6d632aa85"
  },
  {
   "cell_type": "code",
   "execution_count": null,
   "outputs": [],
   "source": [],
   "metadata": {
    "collapsed": false
   },
   "id": "a456332ad25f18c0"
  }
 ],
 "metadata": {
  "kernelspec": {
   "display_name": "Python 3",
   "language": "python",
   "name": "python3"
  },
  "language_info": {
   "codemirror_mode": {
    "name": "ipython",
    "version": 2
   },
   "file_extension": ".py",
   "mimetype": "text/x-python",
   "name": "python",
   "nbconvert_exporter": "python",
   "pygments_lexer": "ipython2",
   "version": "2.7.6"
  }
 },
 "nbformat": 4,
 "nbformat_minor": 5
}
