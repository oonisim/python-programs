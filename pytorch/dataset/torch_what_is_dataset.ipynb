{
 "cells": [
  {
   "cell_type": "markdown",
   "id": "737638461d07ecd4",
   "metadata": {
    "collapsed": false,
    "jupyter": {
     "outputs_hidden": false
    }
   },
   "source": [
    "# PyTorch Dataset\n",
    "\n",
    "* [Datasets & DataLoaders](https://pytorch.org/tutorials/beginner/basics/data_tutorial.html)\n",
    "\n",
    "> Dataset stores the samples and labels. DataLoader provides iterable interfaces to the Dataset to enable easy access to the samples.\n",
    "\n",
    "\n",
    "## Dataset\n",
    "\n",
    "### Map Dataset\n",
    "\n",
    "Implements the ```__getitem__()``` and ```__len__()``` protocols to access a Dataset record via (possibly non-integral) indices/keys to data samples.\n",
    "\n",
    "### Iterable Dataset\n",
    "\n",
    "A subclass of [IterableDataset](https://pytorch.org/docs/stable/data.html#torch.utils.data.IterableDataset) that implements the __iter__() protocol to sequentially (not random access) stream samples. ```iter(dataset)``` may return a stream of data reading from a database, a remote server, or even logs generated in real time.\n",
    "\n",
    "### Classes\n",
    "\n",
    "* [CLASS torch.utils.data.Dataset(*args, **kwds)](https://pytorch.org/docs/stable/data.html#torch.utils.data.Dataset)\n",
    "\n",
    "> An abstract class representing a Dataset.\n",
    "\n",
    "There are multiple concreate Dataset implementations.\n",
    "\n",
    "* IterableDataset\n",
    "* [TensorDataset ](https://pytorch.org/docs/stable/_modules/torch/utils/data/dataset.html#TensorDataset)\n",
    "* StackDataset\n",
    "* ConcatDataset\n",
    "* ChainDataset\n",
    "\n",
    "\n",
    "## Predefined Datasets\n",
    "\n",
    " PyTorch provides pre-defined datasets (such as FashionMNIST) that subclass torch.utils.data.Dataset.\n",
    " \n",
    "> * [Image Datasets](https://pytorch.org/vision/stable/datasets.html)\n",
    "> * [Text Datasets](https://pytorch.org/text/stable/datasets.html)\n",
    "> * [Audio Datasets](https://pytorch.org/audio/stable/datasets.html)\n",
    "\n",
    "## Dataset Parameters\n",
    "\n",
    "* [Loading a Dataset](https://pytorch.org/tutorials/beginner/basics/data_tutorial.html#loading-a-dataset)\n",
    "\n",
    "> * ```root``` is the local drive path where the train/test data is stored.\n",
    "> * ```train``` specifies training or test dataset,\n",
    "> * ```download=True``` downloads the data from the internet if it’s not available at root.\n",
    "> * ```transform``` and ```target_transform``` specify the feature and label transformations\n",
    "> ```\n",
    "> training_data = datasets.FashionMNIST(\n",
    ">     root=\"data\",\n",
    ">     train=True,\n",
    ">     download=True,\n",
    ">     transform=ToTensor()\n",
    "> )\n",
    "> ```"
   ]
  },
  {
   "cell_type": "code",
   "execution_count": 1,
   "id": "9754e53ed4394dbe",
   "metadata": {
    "ExecuteTime": {
     "end_time": "2024-07-31T06:21:07.344540783Z",
     "start_time": "2024-07-31T06:21:07.296856333Z"
    },
    "collapsed": false,
    "jupyter": {
     "outputs_hidden": false
    }
   },
   "outputs": [],
   "source": [
    "import torch\n",
    "from torch.utils.data import Dataset\n",
    "from torch.utils.data import DataLoader\n",
    "from torchvision import datasets\n",
    "from torchvision.transforms import ToTensor\n",
    "import matplotlib.pyplot as plt"
   ]
  },
  {
   "cell_type": "code",
   "execution_count": 2,
   "id": "7841d35d-d041-4701-b90d-43c68cede72d",
   "metadata": {},
   "outputs": [
    {
     "name": "stdout",
     "output_type": "stream",
     "text": [
      "Using cuda device\n"
     ]
    }
   ],
   "source": [
    "device = (\n",
    "    \"cuda\"\n",
    "    if torch.cuda.is_available()\n",
    "    else \"mps\"\n",
    "    if torch.backends.mps.is_available()\n",
    "    else \"cpu\"\n",
    ")\n",
    "print(f\"Using {device} device\")"
   ]
  },
  {
   "cell_type": "markdown",
   "id": "e6d6838f6e55fb8b",
   "metadata": {
    "collapsed": false,
    "jupyter": {
     "outputs_hidden": false
    }
   },
   "source": [
    "## Fashion MNIST Dataset\n",
    "\n",
    "```Dataset[index]``` gives ```(image, label)``` tuple."
   ]
  },
  {
   "cell_type": "code",
   "execution_count": 3,
   "id": "a91ba65c13040608",
   "metadata": {
    "ExecuteTime": {
     "end_time": "2024-07-31T05:47:18.688745074Z",
     "start_time": "2024-07-31T05:47:18.640844564Z"
    },
    "collapsed": false,
    "jupyter": {
     "outputs_hidden": false
    }
   },
   "outputs": [],
   "source": [
    "id_to_label = {\n",
    "    0: \"T-Shirt\",\n",
    "    1: \"Trouser\",\n",
    "    2: \"Pullover\",\n",
    "    3: \"Dress\",\n",
    "    4: \"Coat\",\n",
    "    5: \"Sandal\",\n",
    "    6: \"Shirt\",\n",
    "    7: \"Sneaker\",\n",
    "    8: \"Bag\",\n",
    "    9: \"Ankle Boot\",\n",
    "}"
   ]
  },
  {
   "cell_type": "code",
   "execution_count": 4,
   "id": "329db1b3ed40ac8b",
   "metadata": {
    "ExecuteTime": {
     "end_time": "2024-07-31T05:50:31.796650340Z",
     "start_time": "2024-07-31T05:50:31.709598063Z"
    },
    "collapsed": false,
    "jupyter": {
     "outputs_hidden": false
    }
   },
   "outputs": [
    {
     "name": "stdout",
     "output_type": "stream",
     "text": [
      "Downloading http://fashion-mnist.s3-website.eu-central-1.amazonaws.com/train-images-idx3-ubyte.gz\n",
      "Downloading http://fashion-mnist.s3-website.eu-central-1.amazonaws.com/train-images-idx3-ubyte.gz to data/FashionMNIST/raw/train-images-idx3-ubyte.gz\n"
     ]
    },
    {
     "name": "stderr",
     "output_type": "stream",
     "text": [
      "100%|█████████████████████████████████████████████████████████████████████████████████████████████████████████████████████████████████████████| 26421880/26421880 [03:36<00:00, 122194.40it/s]\n"
     ]
    },
    {
     "name": "stdout",
     "output_type": "stream",
     "text": [
      "Extracting data/FashionMNIST/raw/train-images-idx3-ubyte.gz to data/FashionMNIST/raw\n",
      "\n",
      "Downloading http://fashion-mnist.s3-website.eu-central-1.amazonaws.com/train-labels-idx1-ubyte.gz\n",
      "Downloading http://fashion-mnist.s3-website.eu-central-1.amazonaws.com/train-labels-idx1-ubyte.gz to data/FashionMNIST/raw/train-labels-idx1-ubyte.gz\n"
     ]
    },
    {
     "name": "stderr",
     "output_type": "stream",
     "text": [
      "100%|████████████████████████████████████████████████████████████████████████████████████████████████████████████████████████████████████████████████| 29515/29515 [00:00<00:00, 57829.38it/s]\n"
     ]
    },
    {
     "name": "stdout",
     "output_type": "stream",
     "text": [
      "Extracting data/FashionMNIST/raw/train-labels-idx1-ubyte.gz to data/FashionMNIST/raw\n",
      "\n",
      "Downloading http://fashion-mnist.s3-website.eu-central-1.amazonaws.com/t10k-images-idx3-ubyte.gz\n",
      "Downloading http://fashion-mnist.s3-website.eu-central-1.amazonaws.com/t10k-images-idx3-ubyte.gz to data/FashionMNIST/raw/t10k-images-idx3-ubyte.gz\n"
     ]
    },
    {
     "name": "stderr",
     "output_type": "stream",
     "text": [
      "100%|███████████████████████████████████████████████████████████████████████████████████████████████████████████████████████████████████████████| 4422102/4422102 [00:37<00:00, 117954.82it/s]\n"
     ]
    },
    {
     "name": "stdout",
     "output_type": "stream",
     "text": [
      "Extracting data/FashionMNIST/raw/t10k-images-idx3-ubyte.gz to data/FashionMNIST/raw\n",
      "\n",
      "Downloading http://fashion-mnist.s3-website.eu-central-1.amazonaws.com/t10k-labels-idx1-ubyte.gz\n",
      "Downloading http://fashion-mnist.s3-website.eu-central-1.amazonaws.com/t10k-labels-idx1-ubyte.gz to data/FashionMNIST/raw/t10k-labels-idx1-ubyte.gz\n"
     ]
    },
    {
     "name": "stderr",
     "output_type": "stream",
     "text": [
      "100%|██████████████████████████████████████████████████████████████████████████████████████████████████████████████████████████████████████████████████| 5148/5148 [00:00<00:00, 88917.12it/s]"
     ]
    },
    {
     "name": "stdout",
     "output_type": "stream",
     "text": [
      "Extracting data/FashionMNIST/raw/t10k-labels-idx1-ubyte.gz to data/FashionMNIST/raw\n",
      "\n"
     ]
    },
    {
     "name": "stderr",
     "output_type": "stream",
     "text": [
      "\n"
     ]
    }
   ],
   "source": [
    "training_data: Dataset = datasets.FashionMNIST(\n",
    "    root=\"data\",\n",
    "    train=True,\n",
    "    download=True,\n",
    "    transform=ToTensor()\n",
    ")\n",
    "\n",
    "test_data: Dataset = datasets.FashionMNIST(\n",
    "    root=\"data\",\n",
    "    train=False,\n",
    "    download=True,\n",
    "    transform=ToTensor()\n",
    ")"
   ]
  },
  {
   "cell_type": "markdown",
   "id": "731cfe0b-1fa5-48fd-9b83-f27fadb5c9dd",
   "metadata": {},
   "source": [
    "## Split Train dataset into Train and Validation\n",
    "\n",
    "* [torch.utils.data.random_split(dataset, lengths, generator=<torch._C.Generator object>)](https://pytorch.org/docs/stable/data.html#torch.utils.data.random_split)"
   ]
  },
  {
   "cell_type": "code",
   "execution_count": 5,
   "id": "fec337a5-f0f4-4d76-b829-dfe6ae002ec8",
   "metadata": {},
   "outputs": [
    {
     "ename": "NameError",
     "evalue": "name 'full_dataset' is not defined",
     "output_type": "error",
     "traceback": [
      "\u001b[0;31m---------------------------------------------------------------------------\u001b[0m",
      "\u001b[0;31mNameError\u001b[0m                                 Traceback (most recent call last)",
      "Cell \u001b[0;32mIn[5], line 3\u001b[0m\n\u001b[1;32m      1\u001b[0m train_size \u001b[38;5;241m=\u001b[39m \u001b[38;5;28mint\u001b[39m(\u001b[38;5;241m0.8\u001b[39m \u001b[38;5;241m*\u001b[39m \u001b[38;5;28mlen\u001b[39m(training_data))\n\u001b[1;32m      2\u001b[0m validation_size \u001b[38;5;241m=\u001b[39m \u001b[38;5;28mlen\u001b[39m(training_data) \u001b[38;5;241m-\u001b[39m train_size\n\u001b[0;32m----> 3\u001b[0m training_data, validation_data \u001b[38;5;241m=\u001b[39m torch\u001b[38;5;241m.\u001b[39mutils\u001b[38;5;241m.\u001b[39mdata\u001b[38;5;241m.\u001b[39mrandom_split(\u001b[43mfull_dataset\u001b[49m, [train_size, validation_size])\n",
      "\u001b[0;31mNameError\u001b[0m: name 'full_dataset' is not defined"
     ]
    }
   ],
   "source": [
    "train_size = int(0.8 * len(training_data))\n",
    "validation_size = len(training_data) - train_size\n",
    "training_data, validation_data = torch.utils.data.random_split(training_data, [train_size, validation_size])"
   ]
  },
  {
   "cell_type": "code",
   "execution_count": 10,
   "id": "69fcc27375db9f2a",
   "metadata": {
    "ExecuteTime": {
     "end_time": "2024-07-31T05:47:37.320868066Z",
     "start_time": "2024-07-31T05:47:37.275648800Z"
    },
    "collapsed": false,
    "jupyter": {
     "outputs_hidden": false
    }
   },
   "outputs": [
    {
     "data": {
      "text/plain": [
       "'Ankle Boot'"
      ]
     },
     "execution_count": 10,
     "metadata": {},
     "output_type": "execute_result"
    }
   ],
   "source": [
    "# plt.imshow(training_data[0])\n",
    "data, label = training_data[0]\n",
    "id_to_label[label]"
   ]
  },
  {
   "cell_type": "code",
   "execution_count": 13,
   "id": "d70457f21fdf8f3",
   "metadata": {
    "ExecuteTime": {
     "end_time": "2024-07-31T05:48:25.016689456Z",
     "start_time": "2024-07-31T05:48:24.923648737Z"
    },
    "collapsed": false,
    "jupyter": {
     "outputs_hidden": false
    }
   },
   "outputs": [
    {
     "data": {
      "text/plain": [
       "<matplotlib.image.AxesImage at 0x7d96d2d7d960>"
      ]
     },
     "execution_count": 13,
     "metadata": {},
     "output_type": "execute_result"
    },
    {
     "data": {
      "image/png": "[encoded data removed]",
      "text/plain": [
       "<Figure size 640x480 with 1 Axes>"
      ]
     },
     "metadata": {},
     "output_type": "display_data"
    }
   ],
   "source": [
    "plt.imshow(data.squeeze(), cmap=\"gray\")"
   ]
  },
  {
   "cell_type": "markdown",
   "id": "f8852daea13811bc",
   "metadata": {
    "collapsed": false,
    "jupyter": {
     "outputs_hidden": false
    }
   },
   "source": [
    "---\n",
    "# DataLoader \n",
    "\n",
    "* [torch.utils.data.DataLoader](https://pytorch.org/docs/stable/data.html#torch.utils.data.DataLoader)\n",
    "\n",
    "DataLoader is an iterable interface to provide samples as a minibatch, reshuffle the samples at every epoch, and use Python’s multiprocessing to speed up data retrieval from a Dataset for the model training.\n",
    "\n",
    "\n",
    "## Sampler\n",
    "\n",
    "* [torch.utils.data.Sampler](https://pytorch.org/docs/stable/data.html#torch.utils.data.Sampler)\n",
    "\n",
    "DataLoader uses a Sampler utility class to permutate the order of records in the dataset, such as shuffle the records in a Dataset. Dataloader instantiates:\n",
    "\n",
    "* a sequential or shuffled sampler based on the ```shuffle``` argument. Or you can provide a custom sampler to ```sampler``` argument. \n",
    "* a batch_sampler based on the ```batch_size``` and ```drop_last``` arguments. \n",
    "\n",
    "## Mini Batch\n",
    "\n",
    "When ```batch_size``` (default 1) is not None, the data loader yields batched samples of ```batch_size``` (default 1). When both ```batch_size``` and ```batch_sampler``` are ```None``` automatic batching is disabled. \n",
    "\n",
    "## Multi Processing \n",
    "\n",
    "Use with caution. See issue [#13246](https://github.com/pytorch/pytorch/issues/13246#issuecomment-905703662) for details and example code to work-around the problems.\n",
    "\n"
   ]
  },
  {
   "cell_type": "code",
   "execution_count": 21,
   "id": "c48cbe59fbf8fe64",
   "metadata": {
    "ExecuteTime": {
     "end_time": "2024-07-31T06:44:10.103236948Z",
     "start_time": "2024-07-31T06:44:10.048485783Z"
    },
    "collapsed": false,
    "jupyter": {
     "outputs_hidden": false
    }
   },
   "outputs": [
    {
     "name": "stdout",
     "output_type": "stream",
     "text": [
      "Feature batch shape: torch.Size([64, 1, 28, 28])\n",
      "Labels batch shape: torch.Size([64])\n"
     ]
    }
   ],
   "source": [
    "train_dataloader = DataLoader(training_data, batch_size=64, shuffle=True, drop_last=True)\n",
    "test_dataloader = DataLoader(test_data, batch_size=64, shuffle=True, drop_last=True)"
   ]
  },
  {
   "cell_type": "code",
   "execution_count": 24,
   "id": "9b704fecc426a42a",
   "metadata": {
    "ExecuteTime": {
     "end_time": "2024-07-31T06:58:25.501004224Z",
     "start_time": "2024-07-31T06:58:25.455897282Z"
    },
    "collapsed": false,
    "jupyter": {
     "outputs_hidden": false
    }
   },
   "outputs": [
    {
     "name": "stdout",
     "output_type": "stream",
     "text": [
      "Feature batch shape: torch.Size([64, 1, 28, 28])\n",
      "Labels batch shape: torch.Size([64])\n"
     ]
    }
   ],
   "source": [
    "train_features, train_labels = next(iter(train_dataloader))\n",
    "print(f\"Feature batch shape: {train_features.size()}\")\n",
    "print(f\"Labels batch shape: {train_labels.size()}\")"
   ]
  },
  {
   "cell_type": "code",
   "execution_count": 26,
   "id": "cba8d7f751ddf491",
   "metadata": {
    "ExecuteTime": {
     "end_time": "2024-07-31T06:59:01.842276034Z",
     "start_time": "2024-07-31T06:59:01.774332954Z"
    },
    "collapsed": false,
    "jupyter": {
     "outputs_hidden": false
    }
   },
   "outputs": [
    {
     "data": {
      "text/plain": [
       "<matplotlib.image.AxesImage at 0x7d96d2b7b6a0>"
      ]
     },
     "execution_count": 26,
     "metadata": {},
     "output_type": "execute_result"
    },
    {
     "data": {
      "image/png": "[encoded data removed]",
      "text/plain": [
       "<Figure size 640x480 with 1 Axes>"
      ]
     },
     "metadata": {},
     "output_type": "display_data"
    }
   ],
   "source": [
    "plt.imshow(train_features[0].squeeze(), cmap='gray')"
   ]
  },
  {
   "cell_type": "code",
   "execution_count": null,
   "id": "1461ac6ba864ed4e",
   "metadata": {
    "collapsed": false,
    "jupyter": {
     "outputs_hidden": false
    }
   },
   "outputs": [],
   "source": []
  }
 ],
 "metadata": {
  "kernelspec": {
   "display_name": "Python 3 (ipykernel)",
   "language": "python",
   "name": "python3"
  },
  "language_info": {
   "codemirror_mode": {
    "name": "ipython",
    "version": 3
   },
   "file_extension": ".py",
   "mimetype": "text/x-python",
   "name": "python",
   "nbconvert_exporter": "python",
   "pygments_lexer": "ipython3",
   "version": "3.10.10"
  }
 },
 "nbformat": 4,
 "nbformat_minor": 5
}
