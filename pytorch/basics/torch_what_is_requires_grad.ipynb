{
 "cells": [
  {
   "cell_type": "markdown",
   "id": "9cc3c45e-67ab-4431-a527-1dca7d000d0f",
   "metadata": {},
   "source": [
    "# What is requires_grad\n",
    "\n",
    "```requires_grad``` is the mechanism for you to control which tensord should be learned as the model parameters or to be frozen not to update them e.g. to freeze the base mofrl during the initial stage of the transfer learning.\n",
    "\n",
    "* [Setting requires_grad](https://pytorch.org/docs/stable/notes/autograd.html#setting-requires-grad)\n",
    "\n",
    "> Setting requires_grad should be the main way you control which parts of the model are part of the gradient computation, for example, if you need to freeze parts of your pretrained model during model fine-tuning.\n",
    "> \n",
    "> During the forward pass, an operation is only recorded in the backward graph if at least one of its input tensors require grad. During the backward pass (.backward()), only leaf tensors with requires_grad=True will have gradients accumulated into their .grad fields.\n",
    "\n",
    "## Only for Leaf Tensor\n",
    "\n",
    "> It is important to note that even though every tensor has this flag, setting it **only makes sense for leaf tensors (tensors that do not have a grad_fn, e.g., a nn.Module’s parameters)**. Non-leaf tensors (tensors that do have grad_fn) are tensors that have a backward graph associated with them. Thus their gradients will be needed as an intermediary result to compute the gradient for a leaf tensor that requires grad. From this definition, it is clear that all **non-leaf tensors will automatically have ```require_grad=True```**."
   ]
  },
  {
   "cell_type": "code",
   "execution_count": null,
   "id": "92334bd3-efa9-4634-80a0-b16d99bd02fd",
   "metadata": {},
   "outputs": [],
   "source": []
  }
 ],
 "metadata": {
  "kernelspec": {
   "display_name": "Python 3 (ipykernel)",
   "language": "python",
   "name": "python3"
  },
  "language_info": {
   "codemirror_mode": {
    "name": "ipython",
    "version": 3
   },
   "file_extension": ".py",
   "mimetype": "text/x-python",
   "name": "python",
   "nbconvert_exporter": "python",
   "pygments_lexer": "ipython3",
   "version": "3.10.10"
  }
 },
 "nbformat": 4,
 "nbformat_minor": 5
}
