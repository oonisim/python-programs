{
 "cells": [
  {
   "cell_type": "code",
   "execution_count": 1,
   "id": "573767bc-fd65-42e6-9a45-0dfdcb3716c9",
   "metadata": {},
   "outputs": [
    {
     "data": {
      "text/html": [
       "<style>\n",
       "table {float:left}\n",
       "</style>\n"
      ],
      "text/plain": [
       "<IPython.core.display.HTML object>"
      ]
     },
     "metadata": {},
     "output_type": "display_data"
    }
   ],
   "source": [
    "%%html\n",
    "<style>\n",
    "table {float:left}\n",
    "</style>"
   ]
  },
  {
   "cell_type": "markdown",
   "id": "d54b109b-a7f4-47b6-886d-afc8a5e348bf",
   "metadata": {},
   "source": [
    "# What is Leaf Tensor?\n",
    "\n",
    "* [How to understand creating leaf tensors in PyTorch?](https://stackoverflow.com/a/65302248/4281353)\n",
    "\n",
    "> When a tensor is first created, it becomes a leaf node. When any operation is performed on a tensor, it is not a leaf node anymore.\n",
    "> \n",
    "> ```requires_grad()``` is not an operation in the same way as cuda() or others are.\n",
    "It creates a new tensor, because tensor which requires gradient (trainable weight) cannot depend on anything else. Also, ```detach()``` operation creates a new tensor which does not require gradient:\n",
    "\n",
    "\n",
    "| Requires Grad | User Created | Is Leaf | Grad Populated |\n",
    "|---------------|--------------|---------|----------------|\n",
    "| true          | true         | true    | true           |\n",
    "| true          | false        | false   | false          |\n",
    "| false         | true         | true    | false          |\n",
    "| false         | false        | true    | false          |"
   ]
  },
  {
   "cell_type": "code",
   "execution_count": null,
   "id": "7d64a8cc-74d5-435a-8c98-c3cd088c87e5",
   "metadata": {},
   "outputs": [],
   "source": []
  }
 ],
 "metadata": {
  "kernelspec": {
   "display_name": "Python 3 (ipykernel)",
   "language": "python",
   "name": "python3"
  },
  "language_info": {
   "codemirror_mode": {
    "name": "ipython",
    "version": 3
   },
   "file_extension": ".py",
   "mimetype": "text/x-python",
   "name": "python",
   "nbconvert_exporter": "python",
   "pygments_lexer": "ipython3",
   "version": "3.10.10"
  }
 },
 "nbformat": 4,
 "nbformat_minor": 5
}
