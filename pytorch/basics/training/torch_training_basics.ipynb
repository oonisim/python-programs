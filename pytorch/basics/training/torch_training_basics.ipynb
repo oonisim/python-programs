{
 "cells": [
  {
   "cell_type": "markdown",
   "source": [
    "# PyTorch Training\n",
    "\n",
    "* [PyTorch: Tensors and autograd](https://pytorch.org/tutorials/beginner/pytorch_with_examples.html#autograd)\n",
    "\n",
    "The autograd package in PyTorch uses [automatic differentiation](https://en.wikipedia.org/wiki/Automatic_differentiation) to automate the computation of backward passes. \n",
    "\n",
    "1. Define a computational graph at the forward pass. Nodes in the graph will be Tensors, and edges will be functions that produce output Tensors from input Tensors. Note that ```tensor.requires_grad=True``` is required to apply autograd to a tensor.\n",
    "2. ```loss.backward()``` back-propagates through the graph to compute gradients. Then ```tensor.grad``` has the gradient computed for the tensor.\n",
    "\n"
   ],
   "metadata": {
    "collapsed": false
   },
   "id": "dedae9d7a7c84613"
  },
  {
   "cell_type": "code",
   "execution_count": 1,
   "outputs": [],
   "source": [
    "import torch\n",
    "import math\n",
    "import matplotlib.pyplot as plt"
   ],
   "metadata": {
    "collapsed": false,
    "ExecuteTime": {
     "end_time": "2024-07-31T02:34:26.614840731Z",
     "start_time": "2024-07-31T02:34:25.670474690Z"
    }
   },
   "id": "14795de5af8fb56e"
  },
  {
   "cell_type": "code",
   "execution_count": 2,
   "outputs": [],
   "source": [
    "dtype = torch.float\n",
    "device = \"cuda\" if torch.cuda.is_available() else \"cpu\"\n",
    "torch.set_default_device(device)"
   ],
   "metadata": {
    "collapsed": false,
    "ExecuteTime": {
     "end_time": "2024-07-31T02:34:26.657380460Z",
     "start_time": "2024-07-31T02:34:26.654132839Z"
    }
   },
   "id": "efa36a88e80f46d7"
  },
  {
   "cell_type": "markdown",
   "source": [
    "--- \n",
    "# Native Training Implementation"
   ],
   "metadata": {
    "collapsed": false
   },
   "id": "be400a8bbf9591e7"
  },
  {
   "cell_type": "markdown",
   "source": [
    "## Target to approximate"
   ],
   "metadata": {
    "collapsed": false
   },
   "id": "e5b9e4e8af850d11"
  },
  {
   "cell_type": "code",
   "execution_count": 3,
   "outputs": [
    {
     "name": "stderr",
     "output_type": "stream",
     "text": [
      "No artists with labels found to put in legend.  Note that artists whose label start with an underscore are ignored when legend() is called with no argument.\n"
     ]
    },
    {
     "data": {
      "text/plain": "<Figure size 400x300 with 1 Axes>",
      "image/png": "[encoded data removed]"
     },
     "metadata": {},
     "output_type": "display_data"
    }
   ],
   "source": [
    "# Create Tensors to hold input and outputs.\n",
    "# By default, requires_grad=False, which indicates that we do not need to\n",
    "# compute gradients with respect to these Tensors during the backward pass.\n",
    "x = torch.linspace(-math.pi, math.pi, 2000, dtype=dtype)\n",
    "y = torch.sin(x)\n",
    "\n",
    "plt.figure(figsize=(4,3))\n",
    "plt.plot(x.cpu(), y.cpu())\n",
    "plt.title(\"regression\")\n",
    "\n",
    "plt.legend()\n",
    "plt.grid()"
   ],
   "metadata": {
    "collapsed": false,
    "ExecuteTime": {
     "end_time": "2024-07-31T02:34:26.959849876Z",
     "start_time": "2024-07-31T02:34:26.658094205Z"
    }
   },
   "id": "17a25a75235e112b"
  },
  {
   "cell_type": "markdown",
   "source": [
    "## Model parameters"
   ],
   "metadata": {
    "collapsed": false
   },
   "id": "d6c77f5f6d44ff68"
  },
  {
   "cell_type": "code",
   "execution_count": 4,
   "outputs": [],
   "source": [
    "# Create random Tensors for weights. For a third order polynomial, we need\n",
    "# 4 weights: y = a + b x + c x^2 + d x^3\n",
    "# Setting requires_grad=True indicates that we want to compute gradients with\n",
    "# respect to these Tensors during the backward pass.\n",
    "a = torch.randn((), dtype=dtype, requires_grad=True)\n",
    "b = torch.randn((), dtype=dtype, requires_grad=True)\n",
    "c = torch.randn((), dtype=dtype, requires_grad=True)\n",
    "d = torch.randn((), dtype=dtype, requires_grad=True)"
   ],
   "metadata": {
    "collapsed": false,
    "ExecuteTime": {
     "end_time": "2024-07-31T02:34:26.960529146Z",
     "start_time": "2024-07-31T02:34:26.954990265Z"
    }
   },
   "id": "e55e35944bc59e5d"
  },
  {
   "cell_type": "markdown",
   "source": [
    "## Training to fit parameters"
   ],
   "metadata": {
    "collapsed": false
   },
   "id": "f63601ac163a9c26"
  },
  {
   "cell_type": "code",
   "execution_count": 5,
   "outputs": [
    {
     "name": "stdout",
     "output_type": "stream",
     "text": [
      "99 2661.3759765625\n",
      "199 1764.515869140625\n",
      "299 1170.9716796875\n",
      "399 778.1401977539062\n",
      "499 518.13232421875\n",
      "599 346.02667236328125\n",
      "699 232.09739685058594\n",
      "799 156.6739501953125\n",
      "899 106.73811340332031\n",
      "999 73.67387390136719\n",
      "1099 51.779029846191406\n",
      "1199 37.27892303466797\n",
      "1299 27.67525863647461\n",
      "1399 21.3138484954834\n",
      "1499 17.099491119384766\n",
      "1599 14.307201385498047\n",
      "1699 12.45689868927002\n",
      "1799 11.230644226074219\n",
      "1899 10.417810440063477\n",
      "1999 9.878945350646973\n",
      "Result: y = 0.007568386383354664 + 0.8258374333381653 x + -0.0013056716416031122 x^2 + -0.08893465250730515 x^3\n"
     ]
    }
   ],
   "source": [
    "learning_rate = 1e-6\n",
    "for t in range(2000):\n",
    "    # Forward pass: compute predicted y using operations on Tensors.\n",
    "    y_pred = a + b * x + c * x ** 2 + d * x ** 3\n",
    "\n",
    "    # Compute and print loss using operations on Tensors.\n",
    "    # Now loss is a Tensor of shape (1,)\n",
    "    # loss.item() gets the scalar value held in the loss.\n",
    "    loss = (y_pred - y).pow(2).sum()\n",
    "    if t % 100 == 99:\n",
    "        print(t, loss.item())\n",
    "\n",
    "    # Use autograd to compute the backward pass. This call will compute the\n",
    "    # gradient of loss with respect to all Tensors with requires_grad=True.\n",
    "    # After this call a.grad, b.grad. c.grad and d.grad will be Tensors holding\n",
    "    # the gradient of the loss with respect to a, b, c, d respectively.\n",
    "    loss.backward()\n",
    "\n",
    "    # Manually update weights using gradient descent. Wrap in torch.no_grad()\n",
    "    # because weights have requires_grad=True, but we don't need to track this\n",
    "    # in autograd.\n",
    "    with torch.no_grad():\n",
    "        a -= learning_rate * a.grad\n",
    "        b -= learning_rate * b.grad\n",
    "        c -= learning_rate * c.grad\n",
    "        d -= learning_rate * d.grad\n",
    "\n",
    "        # Manually zero the gradients after updating weights\n",
    "        a.grad = None\n",
    "        b.grad = None\n",
    "        c.grad = None\n",
    "        d.grad = None\n",
    "\n",
    "print(f'Result: y = {a.item()} + {b.item()} x + {c.item()} x^2 + {d.item()} x^3')"
   ],
   "metadata": {
    "collapsed": false,
    "ExecuteTime": {
     "end_time": "2024-07-31T02:34:27.697292932Z",
     "start_time": "2024-07-31T02:34:26.960080425Z"
    }
   },
   "id": "1426d0869d7d6ce4"
  },
  {
   "cell_type": "code",
   "execution_count": 6,
   "outputs": [
    {
     "name": "stderr",
     "output_type": "stream",
     "text": [
      "No artists with labels found to put in legend.  Note that artists whose label start with an underscore are ignored when legend() is called with no argument.\n"
     ]
    },
    {
     "data": {
      "text/plain": "<Figure size 400x300 with 1 Axes>",
      "image/png": "[encoded data removed]"
     },
     "metadata": {},
     "output_type": "display_data"
    }
   ],
   "source": [
    "ahat = a.item()\n",
    "bhat = b.item()\n",
    "chat = c.item()\n",
    "dhat = d.item()\n",
    "\n",
    "x = x.cpu().numpy()\n",
    "y = y.cpu().numpy()\n",
    "yhat = ahat + bhat * x + chat * x**2 + dhat**3\n",
    "\n",
    "plt.figure(figsize=(4,3))\n",
    "plt.plot(x, y)\n",
    "plt.plot(x, yhat)\n",
    "plt.title(\"regression\")\n",
    "\n",
    "plt.legend()\n",
    "plt.grid()"
   ],
   "metadata": {
    "collapsed": false,
    "ExecuteTime": {
     "end_time": "2024-07-31T02:34:27.800591489Z",
     "start_time": "2024-07-31T02:34:27.699506903Z"
    }
   },
   "id": "10db38e6410c0caf"
  },
  {
   "cell_type": "markdown",
   "source": [
    "---\n",
    "# nn.module\n",
    "\n",
    "Pytorch ```nn.Module``` is equivalent to Keras in TensorFlow which provides higher-level abstractions over raw computational graphs to build a neural network.\n",
    "\n",
    "A ```Module``` receives input Tensors to compute output Tensors, and holds internal state such as Tensors containing learnable ```Parameters```. \n",
    "\n",
    "## Parameters\n",
    "\n",
    "Torch Parameters are variables of a module to memorize the model state, hence they are learnable parameters and ```requires_grad``` is **True** by default.\n",
    "\n",
    "## Optimizer\n",
    "\n",
    "Gradient descent/update is handled by the ```torch.optim``` class.\n",
    "\n",
    "For SGD, the native calculation:\n",
    "```\n",
    "# Update the weights using gradient descent. Each parameter is a Tensor, so\n",
    "# we can access its gradients like we did before.\n",
    "with torch.no_grad():\n",
    "    for param in model.parameters():\n",
    "        param -= learning_rate * param.grad\n",
    "```\n",
    "\n",
    "This is replaced with:\n",
    "```\n",
    "optimizer = torch.optim.SGD(model.parameters(), lr=1e-6)\n",
    "for epoch in range(2000):\n",
    "    y_pred = model(x)\n",
    "    loss = loss_fn(y_pred, y)\n",
    "\n",
    "    # Zero gradients, perform a backward pass, and update the weights.\n",
    "    optimizer.zero_grad()   (need zero_grad() for correct gradient update)\n",
    "    loss.backward()\n",
    "    optimizer.step()        <-----\n",
    "```\n",
    "\n",
    "### Why ```optimizer.zero_grad()``` \n",
    "\n",
    "It is due to PyTorch default behavior of accumulating gradients.\n",
    "\n",
    "* [Why do we need to call zero_grad() in PyTorch?](https://stackoverflow.com/a/48009142)\n",
    "\n",
    "> By default, PyTorch accumulates the gradients on subsequent backward passes. It is an essential feature when the model or input data is big and one training batch does not fit on the GPU. See [Resolving CUDA Being Out of Memory With Gradient Accumulation and AMP](https://towardsdatascience.com/i-am-so-done-with-cuda-out-of-memory-c62f42947dca) and PyTorch default action has been set to accumulate (i.e. sum) the gradients on every ```loss.backward()``` call.\n",
    "> \n",
    "> Because of this, when you start your training loop, ideally you should zero out the gradients so that you do the parameter update correctly. **Otherwise, the gradient would be a combination of the old gradient**, which you have already used to update your model parameters\n",
    "\n",
    "* [Resolving CUDA Being Out of Memory With Gradient Accumulation and AMP](https://towardsdatascience.com/i-am-so-done-with-cuda-out-of-memory-c62f42947dca)\n",
    "\n",
    "> Implementing gradient accumulation and automatic mixed precision to solve CUDA out of memory issue when training big deep learning models which requires high batch and input sizes\n",
    "\n",
    "\n",
    "If all the model and data fit to the GPU memory, we need to discard the old gradients by ```optimizer.zero_grad()``` at every mini-batch (each step in an epoch) during the training phase. So that we use **the gradient from the loss at the current step only**, NOT the mixed with old gradients at previous steps.\n",
    "\n",
    "\n",
    "\n",
    " "
   ],
   "metadata": {
    "collapsed": false
   },
   "id": "85d65bac5e6b5ddc"
  },
  {
   "cell_type": "markdown",
   "source": [
    "## nn.Module training implementation\n",
    "\n",
    "* [](https://pytorch.org/tutorials/beginner/pytorch_with_examples.html)"
   ],
   "metadata": {
    "collapsed": false
   },
   "id": "ba3176ee29b71e84"
  },
  {
   "cell_type": "code",
   "execution_count": 7,
   "outputs": [
    {
     "name": "stdout",
     "output_type": "stream",
     "text": [
      "99 1131.777587890625\n",
      "199 775.6531982421875\n",
      "299 533.0687255859375\n",
      "399 367.6368408203125\n",
      "499 254.6904296875\n",
      "599 177.4894256591797\n",
      "699 124.66022491455078\n",
      "799 88.46739196777344\n",
      "899 63.64352798461914\n",
      "999 46.59791564941406\n",
      "1099 34.88019943237305\n",
      "1199 26.815975189208984\n",
      "1299 21.25995635986328\n",
      "1399 17.4278564453125\n",
      "1499 14.781947135925293\n",
      "1599 12.953125\n",
      "1699 11.687749862670898\n",
      "1799 10.811365127563477\n",
      "1899 10.203778266906738\n",
      "1999 9.782151222229004\n",
      "Result: y = 0.02866288647055626 + 0.8419437408447266 x + -0.004944825079292059 x^2 + -0.09122563153505325 x^3\n"
     ]
    }
   ],
   "source": [
    "class Polynomial3(torch.nn.Module):\n",
    "    def __init__(self):\n",
    "        \"\"\"\n",
    "        In the constructor we instantiate four parameters and assign them as\n",
    "        member parameters.\n",
    "        \"\"\"\n",
    "        super().__init__()\n",
    "        \n",
    "        # The nn.Module implicitly calls requires_grad=True.\n",
    "        self.a = torch.nn.Parameter(torch.randn(()))\n",
    "        self.b = torch.nn.Parameter(torch.randn(()))\n",
    "        self.c = torch.nn.Parameter(torch.randn(()))\n",
    "        self.d = torch.nn.Parameter(torch.randn(()))\n",
    "\n",
    "    def forward(self, x):\n",
    "        \"\"\"\n",
    "        In the forward function we accept a Tensor of input data and we must return\n",
    "        a Tensor of output data. We can use Modules defined in the constructor as\n",
    "        well as arbitrary operators on Tensors.\n",
    "        \"\"\"\n",
    "        return self.a + self.b * x + self.c * x ** 2 + self.d * x ** 3\n",
    "\n",
    "    def string(self):\n",
    "        \"\"\"\n",
    "        Just like any class in Python, you can also define custom method on PyTorch modules\n",
    "        \"\"\"\n",
    "        return f'y = {self.a.item()} + {self.b.item()} x + {self.c.item()} x^2 + {self.d.item()} x^3'\n",
    "\n",
    "\n",
    "# Create Tensors to hold input and outputs.\n",
    "x = torch.linspace(-math.pi, math.pi, 2000)\n",
    "y = torch.sin(x)\n",
    "\n",
    "# Construct our model by instantiating the class defined above\n",
    "model = Polynomial3()\n",
    "\n",
    "# Construct our loss function and an Optimizer. The call to model.parameters()\n",
    "# in the SGD constructor will contain the learnable parameters (defined \n",
    "# with torch.nn.Parameter) which are members of the model.\n",
    "loss_fn = torch.nn.MSELoss(reduction='sum')\n",
    "optimizer = torch.optim.SGD(model.parameters(), lr=1e-6)\n",
    "for t in range(2000):\n",
    "    # Forward pass: Compute predicted y by passing x to the model\n",
    "    y_pred = model(x)\n",
    "\n",
    "    # Compute and print loss\n",
    "    loss = loss_fn(y_pred, y)\n",
    "    if t % 100 == 99:\n",
    "        print(t, loss.item())\n",
    "\n",
    "    # Zero gradients, perform a backward pass, and update the weights.\n",
    "    optimizer.zero_grad()\n",
    "    loss.backward()\n",
    "    optimizer.step()\n",
    "\n",
    "print(f'Result: {model.string()}')"
   ],
   "metadata": {
    "collapsed": false,
    "ExecuteTime": {
     "end_time": "2024-07-31T02:34:28.571802892Z",
     "start_time": "2024-07-31T02:34:27.797207853Z"
    }
   },
   "id": "71da49ef18ab4ded"
  },
  {
   "cell_type": "code",
   "execution_count": 8,
   "outputs": [
    {
     "name": "stderr",
     "output_type": "stream",
     "text": [
      "No artists with labels found to put in legend.  Note that artists whose label start with an underscore are ignored when legend() is called with no argument.\n"
     ]
    },
    {
     "data": {
      "text/plain": "<Figure size 400x300 with 1 Axes>",
      "image/png": "[encoded data removed]"
     },
     "metadata": {},
     "output_type": "display_data"
    }
   ],
   "source": [
    "ahat = model.a.item()\n",
    "bhat = model.b.item()\n",
    "chat = model.c.item()\n",
    "dhat = model.d.item()\n",
    "\n",
    "x = x.cpu().numpy()\n",
    "y = y.cpu().numpy()\n",
    "yhat = ahat + bhat * x + chat * x**2 + dhat**3\n",
    "\n",
    "plt.figure(figsize=(4,3))\n",
    "plt.plot(x, y)\n",
    "plt.plot(x, yhat)\n",
    "plt.title(\"regression\")\n",
    "\n",
    "plt.legend()\n",
    "plt.grid()"
   ],
   "metadata": {
    "collapsed": false,
    "ExecuteTime": {
     "end_time": "2024-07-31T02:34:28.673708985Z",
     "start_time": "2024-07-31T02:34:28.574104431Z"
    }
   },
   "id": "7b83f150700c00ec"
  },
  {
   "cell_type": "code",
   "execution_count": 8,
   "outputs": [],
   "source": [],
   "metadata": {
    "collapsed": false,
    "ExecuteTime": {
     "end_time": "2024-07-31T02:34:28.673934366Z",
     "start_time": "2024-07-31T02:34:28.666365612Z"
    }
   },
   "id": "b855932ad9229661"
  }
 ],
 "metadata": {
  "kernelspec": {
   "display_name": "Python 3",
   "language": "python",
   "name": "python3"
  },
  "language_info": {
   "codemirror_mode": {
    "name": "ipython",
    "version": 2
   },
   "file_extension": ".py",
   "mimetype": "text/x-python",
   "name": "python",
   "nbconvert_exporter": "python",
   "pygments_lexer": "ipython2",
   "version": "2.7.6"
  }
 },
 "nbformat": 4,
 "nbformat_minor": 5
}
