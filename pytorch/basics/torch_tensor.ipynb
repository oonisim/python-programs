{
 "cells": [
  {
   "cell_type": "markdown",
   "id": "26dfab74-dc34-4947-b220-7552908f010f",
   "metadata": {},
   "source": [
    "See \n",
    "\n",
    "* [Complete Pytorch Tensor Tutorial (Initializing Tensors, Math, Indexing, Reshaping)](https://www.youtube.com/watch?v=x9JiIFvlUwk&list=PLhhyoLH6IjfxeoooqP9rhU3HJIAVAJ3Vz&index=2)\n",
    "* [pytorch_tensorbasics.py](https://github.com/AladdinPersson/Machine-Learning-Collection/blob/master/ML/Pytorch/Basics/pytorch_tensorbasics.py)\n",
    "\n"
   ]
  },
  {
   "cell_type": "code",
   "execution_count": null,
   "id": "39eaf36c-b6c2-4210-86fe-8bc1604a1bcb",
   "metadata": {},
   "outputs": [],
   "source": []
  }
 ],
 "metadata": {
  "kernelspec": {
   "display_name": "Python 3 (ipykernel)",
   "language": "python",
   "name": "python3"
  },
  "language_info": {
   "codemirror_mode": {
    "name": "ipython",
    "version": 3
   },
   "file_extension": ".py",
   "mimetype": "text/x-python",
   "name": "python",
   "nbconvert_exporter": "python",
   "pygments_lexer": "ipython3",
   "version": "3.10.10"
  }
 },
 "nbformat": 4,
 "nbformat_minor": 5
}
