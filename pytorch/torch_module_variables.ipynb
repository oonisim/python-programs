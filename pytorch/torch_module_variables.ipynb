{
 "cells": [
  {
   "cell_type": "markdown",
   "id": "d2a25ca9-158c-426f-9240-577636c8f2ae",
   "metadata": {},
   "source": [
    "# PyTorch Module Variables \n",
    "\n",
    "## Understanding State Management in a Module\n",
    "\n",
    "Torch Module uses [Patameters](https://pytorch.org/docs/stable/generated/torch.nn.parameter.Parameter.html#torch.nn.parameter.Parameter) and [Buffers](https://discuss.pytorch.org/t/setting-module-buffers-without-using-register-buffer/144530) to manage the state/memory of a module.\n",
    "\n",
    "\n",
    "\n",
    "* [Understanding torch.nn.Parameter](https://stackoverflow.com/questions/50935345/understanding-torch-nn-parameter)\n",
    "\n",
    "<img src=\"./image/torch_module_state_parameter_buffer.png\" align=\"left\" width=250/>\n",
    "\n"
   ]
  },
  {
   "cell_type": "markdown",
   "id": "c3d083cb-a525-43fd-942b-ce65c1fc5894",
   "metadata": {},
   "source": [
    "\n",
    "Torch **Parameters** are variables of a **module** to memorize the model state, hence they are leranable model parameters and [requires_grad](https://pytorch.org/docs/stable/generated/torch.Tensor.requires_grad.html#torch.Tensor.requires_grad) is ```True``` by default.\n",
    "\n",
    "* [CLASS torch.nn.parameter.Parameter(data=None, requires_grad=True)](https://pytorch.org/docs/stable/generated/torch.nn.parameter.Parameter.html#torch.nn.parameter.Parameter)\n",
    "\n",
    "> Parameters are Tensor subclasses, that have a very special property when used with Module s - when they’re assigned as Module attributes they are automatically added to the list of its parameters, and will appear e.g. in parameters() iterator.\n",
    "\n",
    "\n",
    "Torch **Buffers** are variables of a module that are not model parameters to learn but required for a model to function, e.g. hyper parameters, masks, calculated mean or standard deviation. Buffers need to be registed to the module, otherwise they will be transient temporal variable and will NOT be persisted.\n",
    "\n",
    "* [register_buffer(name, tensor, persistent=True)](https://pytorch.org/docs/stable/generated/torch.nn.Module.html#torch.nn.Module.register_buffer)\n",
    "\n",
    "> ypically used to register a buffer that should not to be considered a model parameter. For example, BatchNorm’s ```running_mean``` is not a parameter, but is part of the module’s state. Buffers, by default, are persistent and will be saved alongside parameters. "
   ]
  },
  {
   "cell_type": "code",
   "execution_count": null,
   "id": "9fff42ba-27ea-406b-b88f-b2d0e9a8510b",
   "metadata": {},
   "outputs": [],
   "source": []
  }
 ],
 "metadata": {
  "kernelspec": {
   "display_name": "Python 3 (ipykernel)",
   "language": "python",
   "name": "python3"
  },
  "language_info": {
   "codemirror_mode": {
    "name": "ipython",
    "version": 3
   },
   "file_extension": ".py",
   "mimetype": "text/x-python",
   "name": "python",
   "nbconvert_exporter": "python",
   "pygments_lexer": "ipython3",
   "version": "3.10.10"
  }
 },
 "nbformat": 4,
 "nbformat_minor": 5
}
