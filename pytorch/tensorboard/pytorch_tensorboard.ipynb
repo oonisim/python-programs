{
 "cells": [
  {
   "cell_type": "markdown",
   "id": "d766612c-cf85-4fd3-be67-3fa2f8417e00",
   "metadata": {},
   "source": [
    "* [how-to-use-tensorboard-with-pytorch](https://github.com/christianversloot/machine-learning-articles/blob/main/how-to-use-tensorboard-with-pytorch.md)\n",
    "* [Pytorch TensorBoard Tutorial](https://www.youtube.com/watch?v=RLqsxWaQdHE)\n",
    "* [Using Tensorboard in Pytorch](https://krishansubudhi.github.io/deeplearning/2020/03/24/tensorboard-pytorch.html)"
   ]
  },
  {
   "cell_type": "code",
   "execution_count": 1,
   "id": "34059c8d-7d09-4e51-b819-d2889c285cdf",
   "metadata": {},
   "outputs": [],
   "source": [
    "import os\n",
    "import sys\n",
    "from itertools import (\n",
    "    product\n",
    ")\n",
    "from typing import (\n",
    "    List,\n",
    "    Union,\n",
    ")\n",
    "import numpy as np\n",
    "import matplotlib.pyplot as plt\n",
    "from sklearn.metrics import (\n",
    "    confusion_matrix\n",
    ")\n",
    "import torch\n",
    "from torch import nn\n",
    "from torchvision.datasets import FashionMNIST\n",
    "from torch.utils.data import DataLoader\n",
    "from torchvision import transforms\n",
    "from torch.utils.tensorboard import (\n",
    "    SummaryWriter,\n",
    ")"
   ]
  },
  {
   "cell_type": "code",
   "execution_count": 2,
   "id": "89039171-97ab-425f-9121-b2730c52feb1",
   "metadata": {},
   "outputs": [],
   "source": [
    "%load_ext tensorboard"
   ]
  },
  {
   "cell_type": "code",
   "execution_count": 3,
   "id": "7c311e96-df11-47fd-9465-61bb7f9426d8",
   "metadata": {},
   "outputs": [],
   "source": [
    "%load_ext autoreload\n",
    "%autoreload 2\n",
    "\n",
    "from main import (\n",
    "    tensorboard_write_histogram,\n",
    "    tensorboard_write_graph,\n",
    "    tensorboard_write_image,\n",
    "    tensorboard_write_scalar,\n",
    "    plot_confusion_matrix,\n",
    "    tensorboard_write_confusion_matrix,\n",
    ")"
   ]
  },
  {
   "cell_type": "code",
   "execution_count": 4,
   "id": "2e78926a-c19a-49a5-8dd1-fcd96a186603",
   "metadata": {},
   "outputs": [],
   "source": [
    "def get_image_data_mean_std(\n",
    "        loader: DataLoader\n",
    "):\n",
    "    \"\"\"Compute the mean and standard deviation of all pixels in the dataset.\n",
    "    https://saturncloud.io/blog/how-to-normalize-image-dataset-using-pytorch/\n",
    "\n",
    "    Args:\n",
    "        loader: data loader\n",
    "\n",
    "    Returns: (mean, std) where mean.shape=(3,) and std.shape=(3,)\n",
    "    \"\"\"\n",
    "    count: int = 0\n",
    "    mean: float = 0.0\n",
    "    std: float = 0.0\n",
    "\n",
    "    for images, _ in loader:\n",
    "        assert images.ndim == 4\n",
    "        batch_size, num_channels, height, width = images.shape\n",
    "        # --------------------------------------------------------------------------------\n",
    "        # Compute the mean and standard deviation for each channel separately\n",
    "        # (e.g., one value for each of the RGB channels) by specifying axis=(0, 2, 3),\n",
    "        # as the mean and standard deviation are computed across the batch, height,\n",
    "        # and width dimensions, but not across the channel dimension.\n",
    "        # --------------------------------------------------------------------------------\n",
    "        count += 1\n",
    "        mean += images.mean(axis=(0, 2, 3))\n",
    "        std += images.std(axis=(0, 2, 3))\n",
    "\n",
    "    mean /= count\n",
    "    std /= count\n",
    "\n",
    "    return mean, std"
   ]
  },
  {
   "cell_type": "code",
   "execution_count": 5,
   "id": "db02dacd-23e9-4d0c-b263-0bbbb9ba163f",
   "metadata": {},
   "outputs": [],
   "source": [
    "def get_accuracy(predictions: torch.Tensor, truth: torch.Tensor) -> float:\n",
    "    \"\"\"Calculate prediction accuracy\n",
    "    Returns: accuracy as float\n",
    "    \"\"\"\n",
    "    \n",
    "    assert isinstance(predictions, torch.Tensor) and isinstance(truth, torch.Tensor)\n",
    "    assert predictions.shape == truth.shape\n",
    "    return float((predictions == truth).sum().numpy().item()) / float(predictions.numel())"
   ]
  },
  {
   "cell_type": "markdown",
   "id": "8a6b66c4-7478-4ce3-8aed-adabe4d10424",
   "metadata": {},
   "source": [
    "# Data"
   ]
  },
  {
   "cell_type": "code",
   "execution_count": 6,
   "id": "23d24155-9d18-45b9-a2f5-c0aaf01173a6",
   "metadata": {},
   "outputs": [],
   "source": [
    "dataset = FashionMNIST(\n",
    "    os.getcwd(), \n",
    "    download=True, \n",
    "    transform=transforms.Compose([\n",
    "        transforms.ToTensor()\n",
    "    ])\n",
    ")"
   ]
  },
  {
   "cell_type": "code",
   "execution_count": 7,
   "id": "88332e0d-4251-49ed-9c0d-12e950e34d28",
   "metadata": {},
   "outputs": [],
   "source": [
    "train_size = int(0.8 * len(dataset))\n",
    "val_size = test_size = (len(dataset) - train_size) // 2\n",
    "training_data, val_data, test_data = torch.utils.data.random_split(dataset, [train_size, val_size, test_size])\n",
    "\n",
    "train_loader = torch.utils.data.DataLoader(training_data, batch_size=8, shuffle=True, num_workers=1)\n",
    "val_loader = torch.utils.data.DataLoader(val_data, batch_size=val_size, shuffle=False, num_workers=1)\n",
    "test_loader = torch.utils.data.DataLoader(test_data, batch_size=test_size, shuffle=False, num_workers=1)"
   ]
  },
  {
   "cell_type": "code",
   "execution_count": 8,
   "id": "55e63a25-5cca-4f8e-a02a-e8c7a6d06c3c",
   "metadata": {},
   "outputs": [
    {
     "data": {
      "text/plain": [
       "['T-Shirt',\n",
       " 'Trouser',\n",
       " 'Pullover',\n",
       " 'Dress',\n",
       " 'Coat',\n",
       " 'Sandal',\n",
       " 'Shirt',\n",
       " 'Sneaker',\n",
       " 'Bag',\n",
       " 'Ankle Boot']"
      ]
     },
     "execution_count": 8,
     "metadata": {},
     "output_type": "execute_result"
    }
   ],
   "source": [
    "id_to_label = {\n",
    "    0: \"T-Shirt\",\n",
    "    1: \"Trouser\",\n",
    "    2: \"Pullover\",\n",
    "    3: \"Dress\",\n",
    "    4: \"Coat\",\n",
    "    5: \"Sandal\",\n",
    "    6: \"Shirt\",\n",
    "    7: \"Sneaker\",\n",
    "    8: \"Bag\",\n",
    "    9: \"Ankle Boot\",\n",
    "}\n",
    "list(id_to_label.values())"
   ]
  },
  {
   "cell_type": "code",
   "execution_count": 9,
   "id": "e52059bf-52bc-4fa3-b9fe-e0d49cbb06cb",
   "metadata": {},
   "outputs": [],
   "source": [
    "X, Y = next(iter(train_loader))\n",
    "x = X[0]\n",
    "\n",
    "channels: int = x.shape[0]\n",
    "width: int = x.shape[1]\n",
    "height: int = x.shape[2]"
   ]
  },
  {
   "cell_type": "code",
   "execution_count": 10,
   "id": "048f13a9-6fe9-4dc7-9b15-0e564c58b753",
   "metadata": {},
   "outputs": [
    {
     "data": {
      "text/plain": [
       "<matplotlib.image.AxesImage at 0x2a3591d80>"
      ]
     },
     "execution_count": 10,
     "metadata": {},
     "output_type": "execute_result"
    },
    {
     "data": {
      "image/png": "[encoded data removed]",
      "text/plain": [
       "<Figure size 640x480 with 1 Axes>"
      ]
     },
     "metadata": {},
     "output_type": "display_data"
    }
   ],
   "source": [
    "plt.imshow(x.squeeze())"
   ]
  },
  {
   "cell_type": "markdown",
   "id": "81f14595-b937-46b0-a81f-bd9355c23126",
   "metadata": {},
   "source": [
    "# Model"
   ]
  },
  {
   "cell_type": "code",
   "execution_count": 11,
   "id": "5525d8ed-1e35-42ad-9a7e-f2e36b3ffead",
   "metadata": {},
   "outputs": [],
   "source": [
    "class ConvNet(nn.Module):\n",
    "  '''\n",
    "    Simple Convolutional Neural Network\n",
    "  '''\n",
    "  def __init__(self):\n",
    "    super().__init__()\n",
    "    self.layers = nn.Sequential(\n",
    "      nn.Conv2d(channels, 32, kernel_size=3, padding=\"same\"),\n",
    "      nn.ReLU(),\n",
    "      nn.Conv2d(32, 64, kernel_size=3, padding=\"same\"),\n",
    "      nn.BatchNorm2d(64),\n",
    "      nn.ReLU(),\n",
    "      nn.Flatten(),\n",
    "      nn.Linear(width * height * 64, 128),     \n",
    "#      nn.BatchNorm1d(128),\n",
    "#      nn.ReLU(),\n",
    "#      nn.Linear(128, 128),     \n",
    "#      nn.ReLU(),\n",
    "      nn.Linear(128, 64),\n",
    "      nn.Linear(64, 32),\n",
    "      nn.ReLU(),\n",
    "      nn.Linear(32, 10)\n",
    "    )\n",
    "\n",
    "\n",
    "  def forward(self, x):\n",
    "    '''Forward pass'''\n",
    "    return self.layers(x)"
   ]
  },
  {
   "cell_type": "code",
   "execution_count": 12,
   "id": "21035f64-a16e-47b3-8305-0df0e57ec916",
   "metadata": {},
   "outputs": [],
   "source": [
    "# model: nn.Module = ConvNet()"
   ]
  },
  {
   "cell_type": "markdown",
   "id": "1cd57da0-b866-4bf1-b17a-196dcaac6d55",
   "metadata": {},
   "source": [
    "# Tensorboard "
   ]
  },
  {
   "cell_type": "code",
   "execution_count": 13,
   "id": "d6ac6f08-c246-477f-897b-bda98afb4599",
   "metadata": {},
   "outputs": [],
   "source": [
    "%rm -rf ./logs\n",
    "# writer = SummaryWriter(\"./logs\")"
   ]
  },
  {
   "cell_type": "markdown",
   "id": "a2c988ef-a029-4d44-9df5-d48b22114042",
   "metadata": {},
   "source": [
    "## Model Grapph"
   ]
  },
  {
   "cell_type": "code",
   "execution_count": 14,
   "id": "4fba9735-7593-4714-88a3-c299e7a497b2",
   "metadata": {},
   "outputs": [],
   "source": [
    "# tensorboard_write_graph(writer=writer, model=model, x=X)"
   ]
  },
  {
   "cell_type": "markdown",
   "id": "c3cb3952-1d51-4b51-bc61-cf853a8ce781",
   "metadata": {},
   "source": [
    "# Hyper Parameters"
   ]
  },
  {
   "cell_type": "raw",
   "id": "a7eba20d-ba50-4b58-a9ce-2b65c64b76c9",
   "metadata": {},
   "source": [
    "batch_sizes: List[int] = [\n",
    "    8, 16, 32, 64\n",
    "]\n",
    "learning_rates: List[float] = [\n",
    "    1e-5, 1e-4, 1e-3\n",
    "]\n",
    "beta1s: List[float] = [\n",
    "    0.85, 0.9, 0.95\n",
    "]\n",
    "beta2s: List[float] = [\n",
    "    0.9985, 0.999, 0.9995\n",
    "]\n",
    "decays: List[float] = [\n",
    "    0.005, 0.01, 0.015\n",
    "]"
   ]
  },
  {
   "cell_type": "code",
   "execution_count": 15,
   "id": "3d536e2f-0dcf-4752-b491-ebcf9055b761",
   "metadata": {},
   "outputs": [],
   "source": [
    "learning_rates: List[float] = [\n",
    "    1e-4\n",
    "]\n",
    "beta1s: List[float] = [\n",
    "    0.9, 0.95\n",
    "]\n",
    "beta2s: List[float] = [\n",
    "    0.9985, 0.999\n",
    "]\n",
    "decays: List[float] = [\n",
    "    0.01\n",
    "]"
   ]
  },
  {
   "cell_type": "markdown",
   "id": "389290c5-bc33-416c-8038-f1f297485e0e",
   "metadata": {},
   "source": [
    "# Training Loop"
   ]
  },
  {
   "cell_type": "code",
   "execution_count": 16,
   "id": "c7dd062b-008c-444d-8a82-8e49d67430c7",
   "metadata": {},
   "outputs": [],
   "source": [
    "loss_fn = nn.CrossEntropyLoss()\n",
    "# optimizer = torch.optim.Adam(model.parameters(), lr=1e-3)"
   ]
  },
  {
   "cell_type": "code",
   "execution_count": null,
   "id": "7c5b2482-38b1-40a8-adae-03742348e036",
   "metadata": {},
   "outputs": [
    {
     "name": "stdout",
     "output_type": "stream",
     "text": [
      "\n",
      "--------------------------------------------------------------------------------\n",
      "lr:0.0001 beat1:0.9 beta2:0.9985 decay:0.01\n",
      "--------------------------------------------------------------------------------\n",
      "Starting epoch 1\n",
      "loss after batch     1: 0.270\n",
      "val_acc 0.794 val_loss  43.182842\n",
      "test_acc 0.799 test_loss  43.310238\n",
      "\n",
      "--------------------------------------------------------------------------------\n",
      "lr:0.0001 beat1:0.9 beta2:0.999 decay:0.01\n",
      "--------------------------------------------------------------------------------\n",
      "Starting epoch 1\n",
      "loss after batch     1: 0.299\n",
      "val_acc 0.766 val_loss  43.933022\n",
      "test_acc 0.770 test_loss  44.091457\n",
      "\n",
      "--------------------------------------------------------------------------------\n",
      "lr:0.0001 beat1:0.95 beta2:0.9985 decay:0.01\n",
      "--------------------------------------------------------------------------------\n",
      "Starting epoch 1\n",
      "loss after batch     1: 0.291\n",
      "val_acc 0.792 val_loss  44.554764\n"
     ]
    }
   ],
   "source": [
    "prev_loss: float = float(sys.maxsize)\n",
    "early_stop_tolerance: int = 3\n",
    "\n",
    "for lr, beta1, beta2, decay in product(learning_rates, beta1s, beta2s, decays):\n",
    "    print()\n",
    "    print('-' * 80)\n",
    "    print(f\"lr:{lr} beat1:{beta1} beta2:{beta2} decay:{decay}\")\n",
    "    print('-' * 80)\n",
    "\n",
    "    # --------------------------------------------------------------------------------\n",
    "    # Initialize for each parameter combination.\n",
    "    # --------------------------------------------------------------------------------\n",
    "    run_name: str = f\"./logs/lr{lr}_beat1{beta1}_beta2{beta2}_decay{decay}\"\n",
    "    writer = SummaryWriter(run_name)\n",
    "\n",
    "    model: nn.Module = ConvNet()\n",
    "    optimizer = torch.optim.AdamW(model.parameters(), lr=lr, betas=(beta1, beta2), weight_decay=decay)\n",
    "\n",
    "    # --------------------------------------------------------------------------------\n",
    "    # Train for each parameter combination.\n",
    "    # --------------------------------------------------------------------------------\n",
    "    for epoch in range(0, 1):   # epochs at maximum\n",
    "        tensorboard_write_histogram(writer=writer, model=model, step=epoch)\n",
    "    \n",
    "        # Print epoch\n",
    "        print(f'Starting epoch {epoch+1}')\n",
    "    \n",
    "        # Reset current loss value at eacch epoch\n",
    "        _current_loss: float = 0.0\n",
    "        _num_records: int = 0\n",
    "    \n",
    "        # Iterate over the DataLoader for training data\n",
    "        for index, data in enumerate(train_loader, 0):\n",
    "            inputs, targets = data\n",
    "            _batch_size: int = len(inputs)\n",
    "            _num_records += _batch_size\n",
    "    \n",
    "            # Write an image at every batch 0\n",
    "            if index == 0:\n",
    "                tensorboard_write_image(writer=writer, tag=\"image\", image=inputs[0], step=epoch, dataformats=\"CHW\")\n",
    "    \n",
    "            # Zero the gradients\n",
    "            optimizer.zero_grad()\n",
    "    \n",
    "            # Perform forward pass\n",
    "            outputs = model(inputs)\n",
    "    \n",
    "            # Compute loss\n",
    "            loss = loss_fn(outputs, targets)\n",
    "    \n",
    "            # Perform backward pass\n",
    "            loss.backward()\n",
    "    \n",
    "            # Perform optimization\n",
    "            optimizer.step()\n",
    "    \n",
    "            # Print statistics\n",
    "            _current_loss += loss.item()\n",
    "    \n",
    "            if index % 1000 == 1:\n",
    "                print('loss after batch %5d: %.3f' % (index, _current_loss / _num_records))\n",
    "\n",
    "            # if index > 209: break\n",
    "\n",
    "        # --------------------------------------------------------------------------------\n",
    "        # Reports per epoch\n",
    "        # --------------------------------------------------------------------------------\n",
    "        # Loss\n",
    "        tensorboard_write_scalar(\n",
    "            writer=writer, tag=\"training loss/epoch\", value=_current_loss / _num_records, step=epoch\n",
    "        )\n",
    "    \n",
    "        # Validation accuracy & confusion matrix\n",
    "        with torch.no_grad():\n",
    "            inputs, labels = next(iter(val_loader))\n",
    "            predictions = torch.argmax(model(inputs), axis=-1)\n",
    "\n",
    "        val_loss = loss_fn(predictions.to(torch.float), labels.to(torch.float)) / len(inputs)\n",
    "        val_acc = get_accuracy(predictions=predictions, truth=labels)\n",
    "    \n",
    "        tensorboard_write_scalar(\n",
    "            writer=writer, tag=\"validation loss/epoch\", value=val_loss, step=epoch\n",
    "        )\n",
    "        tensorboard_write_scalar(\n",
    "            writer=writer, tag=\"validation accuracy/epoch\", value=val_acc, step=epoch\n",
    "        )\n",
    "        tensorboard_write_confusion_matrix(\n",
    "            writer=writer,\n",
    "            tag=\"validation confusion matrix\",\n",
    "            predictions=predictions.numpy(),\n",
    "            truth=labels.numpy(),\n",
    "            class_names=list(id_to_label.values()),\n",
    "            step=epoch\n",
    "        )\n",
    "        writer.add_hparams(\n",
    "            hparam_dict={\"lr\": lr, \"beta1\": beta1, \"beta2\": beta2, \"decay\": decay},\n",
    "            metric_dict={\n",
    "                \"val_accuracy\": val_acc,\n",
    "                \"val_loss\": val_loss,\n",
    "            },\n",
    "            run_name=run_name,\n",
    "        )\n",
    "        print(f'val_acc {val_acc:.03f} val_loss {val_loss: 03f}')\n",
    "\n",
    "        # --------------------------------------------------------------------------------\n",
    "        # Early stop\n",
    "        # --------------------------------------------------------------------------------\n",
    "        if val_loss > prev_loss:\n",
    "            early_stop_tolerance -= 1\n",
    "        else:\n",
    "            prev_loss = val_loss\n",
    "    \n",
    "        if early_stop_tolerance <= 0:\n",
    "            print(\"early stop\")\n",
    "            break\n",
    "\n",
    "    # --------------------------------------------------------------------------------\n",
    "    # Test\n",
    "    # --------------------------------------------------------------------------------\n",
    "    with torch.no_grad():\n",
    "        inputs, labels = next(iter(test_loader))\n",
    "        predictions = torch.argmax(model(inputs), axis=-1)\n",
    "\n",
    "    test_loss = loss_fn(predictions.to(torch.float), labels.to(torch.float)) / len(inputs)\n",
    "    test_acc = get_accuracy(predictions=predictions, truth=labels)\n",
    "    print(f'test_acc {test_acc:.03f} test_loss {test_loss: 03f}')\n",
    "\n",
    "    tensorboard_write_scalar(\n",
    "        writer=writer, tag=\"test loss/epoch\", value=test_loss, step=epoch\n",
    "    )\n",
    "    tensorboard_write_scalar(\n",
    "        writer=writer, tag=\"test accuracy/epoch\", value=test_acc, step=epoch\n",
    "    )\n",
    "    tensorboard_write_confusion_matrix(\n",
    "        writer=writer,\n",
    "        tag=\"test confusion matrix\",\n",
    "        predictions=predictions,\n",
    "        truth=labels,\n",
    "        class_names=list(id_to_label.values()),\n",
    "        step=epoch\n",
    "    )\n",
    "\n",
    "# Process is complete.\n",
    "print('Training process has finished.')"
   ]
  },
  {
   "cell_type": "markdown",
   "id": "2b2b6784-644f-4104-8fb4-0638f5d9765c",
   "metadata": {},
   "source": [
    "# Confusion Matrix"
   ]
  },
  {
   "cell_type": "code",
   "execution_count": null,
   "id": "83b6e5e9-ee9a-4aeb-9a89-d4068cd223d1",
   "metadata": {},
   "outputs": [],
   "source": [
    "with torch.no_grad():\n",
    "    inputs, labels = next(iter(test_loader))\n",
    "    predictions = model(inputs)"
   ]
  },
  {
   "cell_type": "code",
   "execution_count": null,
   "id": "9f287e3d-2c11-4af3-b981-378398c91d6d",
   "metadata": {},
   "outputs": [],
   "source": [
    "labels = labels.numpy()\n",
    "predictions = np.argmax(predictions.numpy(), axis=-1).squeeze()"
   ]
  },
  {
   "cell_type": "raw",
   "id": "eb111cbe-1d52-41ea-8f07-8248a99c6a73",
   "metadata": {},
   "source": [
    "matrix = confusion_matrix(y_true=labels, y_pred=predictions)\n",
    "fig = plot_confusion_matrix(matrix=matrix, class_names=list(id_to_label.values()))\n",
    "fig.show()"
   ]
  },
  {
   "cell_type": "code",
   "execution_count": null,
   "id": "7a0d288c-5574-4ab5-822b-c23e531202ad",
   "metadata": {},
   "outputs": [],
   "source": [
    "tensorboard_write_confusion_matrix(\n",
    "    writer=writer,\n",
    "    tag=\"confusion matrix\",\n",
    "    predictions=predictions,\n",
    "    truth=labels,\n",
    "    class_names=list(id_to_label.values()),\n",
    "    step=1\n",
    ")"
   ]
  },
  {
   "cell_type": "markdown",
   "id": "e0f31978-e40b-4857-8adb-a2c986b4fca3",
   "metadata": {},
   "source": [
    "# Tensorboard"
   ]
  },
  {
   "cell_type": "code",
   "execution_count": null,
   "id": "ae47d8ff-8122-40ca-a34f-f6353141c639",
   "metadata": {},
   "outputs": [],
   "source": [
    "%tensorboard --logdir ./logs/"
   ]
  },
  {
   "cell_type": "code",
   "execution_count": null,
   "id": "48d88095-f3ac-4f27-b11b-5bec21dea481",
   "metadata": {},
   "outputs": [],
   "source": []
  }
 ],
 "metadata": {
  "kernelspec": {
   "display_name": "Python 3 (ipykernel)",
   "language": "python",
   "name": "python3"
  },
  "language_info": {
   "codemirror_mode": {
    "name": "ipython",
    "version": 3
   },
   "file_extension": ".py",
   "mimetype": "text/x-python",
   "name": "python",
   "nbconvert_exporter": "python",
   "pygments_lexer": "ipython3",
   "version": "3.10.10"
  }
 },
 "nbformat": 4,
 "nbformat_minor": 5
}
