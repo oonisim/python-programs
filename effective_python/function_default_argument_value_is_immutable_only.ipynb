{
 "cells": [
  {
   "cell_type": "markdown",
   "id": "0a6558d1",
   "metadata": {},
   "source": [
    "# Function default value must be immutable\n",
    "\n",
    "The default argument value is initialized only once at the function definition, not at the function call."
   ]
  },
  {
   "cell_type": "code",
   "execution_count": 10,
   "id": "a9fbbb6b",
   "metadata": {},
   "outputs": [],
   "source": [
    "def generate_new_dict_and_set_initial(  # Defective to set mutable default value\n",
    "    *, \n",
    "    initial_key,\n",
    "    initial_value, \n",
    "    default={}     # Intention is to provide default dictionary if no default is provided\n",
    "):   \n",
    "    default[initial_key] = initial_value\n",
    "    return default"
   ]
  },
  {
   "cell_type": "code",
   "execution_count": 11,
   "id": "2659d494",
   "metadata": {},
   "outputs": [],
   "source": [
    "new_dictionary_1 = generate_new_dict_and_set_initial(initial_key=\"apple\", initial_value=1)"
   ]
  },
  {
   "cell_type": "code",
   "execution_count": 12,
   "id": "6c4774e0",
   "metadata": {},
   "outputs": [],
   "source": [
    "new_dictionary_2 = generate_new_dict_and_set_initial(initial_key=\"orange\", initial_value=2)"
   ]
  },
  {
   "cell_type": "code",
   "execution_count": 14,
   "id": "52969ee6",
   "metadata": {},
   "outputs": [
    {
     "data": {
      "text/plain": [
       "{'apple': 1, 'orange': 2}"
      ]
     },
     "execution_count": 14,
     "metadata": {},
     "output_type": "execute_result"
    }
   ],
   "source": [
    "new_dictionary_1"
   ]
  },
  {
   "cell_type": "code",
   "execution_count": 15,
   "id": "4b06a585",
   "metadata": {},
   "outputs": [
    {
     "data": {
      "text/plain": [
       "{'apple': 1, 'orange': 2}"
      ]
     },
     "execution_count": 15,
     "metadata": {},
     "output_type": "execute_result"
    }
   ],
   "source": [
    "new_dictionary_2"
   ]
  },
  {
   "cell_type": "code",
   "execution_count": 16,
   "id": "b9d1e991",
   "metadata": {},
   "outputs": [
    {
     "data": {
      "text/plain": [
       "True"
      ]
     },
     "execution_count": 16,
     "metadata": {},
     "output_type": "execute_result"
    }
   ],
   "source": [
    "new_dictionary_1 is new_dictionary_2"
   ]
  },
  {
   "cell_type": "markdown",
   "id": "f7b5c8bb",
   "metadata": {},
   "source": [
    "## Another defective of assuming call time default initialization"
   ]
  },
  {
   "cell_type": "code",
   "execution_count": 17,
   "id": "d016189b",
   "metadata": {},
   "outputs": [],
   "source": [
    "from datetime import datetime\n",
    "def log(\n",
    "    msg, \n",
    "    when=datetime.now()    # <--- Expectation is when is initialised everytime function is called\n",
    "):\n",
    "    print(f\"time:{when} msg: {msg}\")"
   ]
  },
  {
   "cell_type": "code",
   "execution_count": 21,
   "id": "2d8d8537",
   "metadata": {},
   "outputs": [
    {
     "name": "stdout",
     "output_type": "stream",
     "text": [
      "time:2022-09-18 11:42:08.674690 msg: hoge\n",
      "time:2022-09-18 11:42:08.674690 msg: tako\n",
      "time:2022-09-18 11:42:08.674690 msg: ika\n"
     ]
    }
   ],
   "source": [
    "# All log has the same time when the log function is defined\n",
    "log(\"hoge\")\n",
    "log(\"tako\")\n",
    "log(\"ika\")"
   ]
  },
  {
   "cell_type": "markdown",
   "id": "4f67afad",
   "metadata": {},
   "source": [
    "# Solution\n",
    "Default argument value is **immutable** only. Use ```None``` for dynamically initialized argument default at function call."
   ]
  },
  {
   "cell_type": "code",
   "execution_count": 22,
   "id": "ed910034",
   "metadata": {},
   "outputs": [],
   "source": [
    "def log(\n",
    "    msg, \n",
    "    when=None\n",
    "):\n",
    "    if when is None:\n",
    "        print(f\"time:{datetime.now()} msg: {msg}\")\n",
    "    else:\n",
    "        print(f\"time:{when} msg: {msg}\")        "
   ]
  },
  {
   "cell_type": "code",
   "execution_count": 23,
   "id": "c6d66e4f",
   "metadata": {},
   "outputs": [
    {
     "name": "stdout",
     "output_type": "stream",
     "text": [
      "time:2022-09-18 11:44:50.379869 msg: uni\n",
      "time:2022-09-18 11:44:50.380119 msg: ikura\n"
     ]
    }
   ],
   "source": [
    "log(\"uni\")\n",
    "log(\"ikura\")"
   ]
  },
  {
   "cell_type": "code",
   "execution_count": null,
   "id": "44f5db31",
   "metadata": {},
   "outputs": [],
   "source": []
  }
 ],
 "metadata": {
  "kernelspec": {
   "display_name": "Python 3 (ipykernel)",
   "language": "python",
   "name": "python3"
  },
  "language_info": {
   "codemirror_mode": {
    "name": "ipython",
    "version": 3
   },
   "file_extension": ".py",
   "mimetype": "text/x-python",
   "name": "python",
   "nbconvert_exporter": "python",
   "pygments_lexer": "ipython3",
   "version": "3.9.12"
  }
 },
 "nbformat": 4,
 "nbformat_minor": 5
}
