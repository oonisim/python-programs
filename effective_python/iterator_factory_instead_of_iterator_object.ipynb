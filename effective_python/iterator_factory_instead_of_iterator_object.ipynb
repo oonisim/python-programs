{
 "cells": [
  {
   "cell_type": "markdown",
   "id": "1c78c530",
   "metadata": {},
   "source": [
    "# Iterator factory to iterate over\n",
    "\n",
    "Iterator object is one-time-use only which can cause a bug."
   ]
  },
  {
   "cell_type": "code",
   "execution_count": 10,
   "id": "4d7f307a",
   "metadata": {},
   "outputs": [],
   "source": [
    "import math\n",
    "\n",
    "\n",
    "def normalize(numbers):\n",
    "    # iteration (e.g. sum, enumerate, zip) calls __iter__ method.\n",
    "    # numbers gets consumed here if it is an iterator object \n",
    "    # because iterator object returns \n",
    "    total = sum(numbers)\n",
    "    print(f\"total is {total}\")\n",
    "    \n",
    "    normalized = [\n",
    "        round(x / total, 2) \n",
    "        for x in numbers         # <--- iterator object was consumed & empty but Python does not complain\n",
    "    ]\n",
    "    print(f\"normalized is {normalized}\")\n",
    "    \n",
    "    return normalized"
   ]
  },
  {
   "cell_type": "code",
   "execution_count": 11,
   "id": "7d41e63e",
   "metadata": {},
   "outputs": [],
   "source": [
    "numbers = (x for x in range(10))"
   ]
  },
  {
   "cell_type": "code",
   "execution_count": 12,
   "id": "ef4e5cd3",
   "metadata": {},
   "outputs": [
    {
     "name": "stdout",
     "output_type": "stream",
     "text": [
      "total is 45\n",
      "normalized is []\n"
     ]
    },
    {
     "data": {
      "text/plain": [
       "[]"
      ]
     },
     "execution_count": 12,
     "metadata": {},
     "output_type": "execute_result"
    }
   ],
   "source": [
    "normalize(numbers)"
   ]
  },
  {
   "cell_type": "markdown",
   "id": "bd6e0f7e",
   "metadata": {},
   "source": [
    "# Use iterator factory, not iterator object"
   ]
  },
  {
   "cell_type": "code",
   "execution_count": 13,
   "id": "aecf7f44",
   "metadata": {},
   "outputs": [],
   "source": [
    "class NumberFactory:\n",
    "    def __iter__(self):\n",
    "        return (x for x in range(10))"
   ]
  },
  {
   "cell_type": "code",
   "execution_count": 14,
   "id": "426397d4",
   "metadata": {},
   "outputs": [
    {
     "name": "stdout",
     "output_type": "stream",
     "text": [
      "total is 45\n",
      "normalized is [0.0, 0.02, 0.04, 0.07, 0.09, 0.11, 0.13, 0.16, 0.18, 0.2]\n"
     ]
    },
    {
     "data": {
      "text/plain": [
       "[0.0, 0.02, 0.04, 0.07, 0.09, 0.11, 0.13, 0.16, 0.18, 0.2]"
      ]
     },
     "execution_count": 14,
     "metadata": {},
     "output_type": "execute_result"
    }
   ],
   "source": [
    "normalize(NumberFactory())"
   ]
  },
  {
   "cell_type": "markdown",
   "id": "0cf929ab",
   "metadata": {},
   "source": [
    "---\n",
    "# Mechanism\n",
    "\n",
    "Python calls ```__iter__``` method to get an Iterator object in the iteration e.g. ```for```, ```list```, ```enumerate```.\n",
    "\n",
    "The Iterator object is one time use only, and the 2nd ```__iter__``` call returns empty collection."
   ]
  },
  {
   "cell_type": "code",
   "execution_count": 19,
   "id": "33eac23a",
   "metadata": {},
   "outputs": [],
   "source": [
    "from collections.abc import Iterator"
   ]
  },
  {
   "cell_type": "code",
   "execution_count": 30,
   "id": "f485bac8",
   "metadata": {},
   "outputs": [
    {
     "data": {
      "text/plain": [
       "True"
      ]
     },
     "execution_count": 30,
     "metadata": {},
     "output_type": "execute_result"
    }
   ],
   "source": [
    "a = (x for x in range(10))  # Generator is an interator object\n",
    "isinstance(a, Iterator)"
   ]
  },
  {
   "cell_type": "code",
   "execution_count": 31,
   "id": "579f32aa",
   "metadata": {},
   "outputs": [
    {
     "name": "stdout",
     "output_type": "stream",
     "text": [
      "[0, 1, 2, 3, 4, 5, 6, 7, 8, 9]\n"
     ]
    }
   ],
   "source": [
    "print(list(a.__iter__()))   # First call returns a collection"
   ]
  },
  {
   "cell_type": "code",
   "execution_count": 32,
   "id": "b8f655e2",
   "metadata": {},
   "outputs": [
    {
     "name": "stdout",
     "output_type": "stream",
     "text": [
      "[]\n"
     ]
    }
   ],
   "source": [
    "print(list(a.__iter__()))   # 2nd call returns empty"
   ]
  },
  {
   "cell_type": "markdown",
   "id": "8b9c035a",
   "metadata": {},
   "source": [
    "## range object is NOT an interator\n",
    "\n",
    "range is not an Iterator object but a Factory. Hence ```__iter__``` returns collection everytime."
   ]
  },
  {
   "cell_type": "code",
   "execution_count": 33,
   "id": "d4f879b0",
   "metadata": {},
   "outputs": [
    {
     "data": {
      "text/plain": [
       "False"
      ]
     },
     "execution_count": 33,
     "metadata": {},
     "output_type": "execute_result"
    }
   ],
   "source": [
    "b = range(10)\n",
    "isinstance(b, Iterator)"
   ]
  },
  {
   "cell_type": "code",
   "execution_count": 35,
   "id": "ba9a64c0",
   "metadata": {},
   "outputs": [
    {
     "name": "stdout",
     "output_type": "stream",
     "text": [
      "[0, 1, 2, 3, 4, 5, 6, 7, 8, 9]\n"
     ]
    }
   ],
   "source": [
    "print(list(b.__iter__()))"
   ]
  },
  {
   "cell_type": "code",
   "execution_count": 36,
   "id": "73c898e9",
   "metadata": {},
   "outputs": [
    {
     "name": "stdout",
     "output_type": "stream",
     "text": [
      "[0, 1, 2, 3, 4, 5, 6, 7, 8, 9]\n"
     ]
    }
   ],
   "source": [
    "print(list(b.__iter__()))"
   ]
  },
  {
   "cell_type": "code",
   "execution_count": null,
   "id": "cb8d3f8d",
   "metadata": {},
   "outputs": [],
   "source": []
  }
 ],
 "metadata": {
  "kernelspec": {
   "display_name": "Python 3 (ipykernel)",
   "language": "python",
   "name": "python3"
  },
  "language_info": {
   "codemirror_mode": {
    "name": "ipython",
    "version": 3
   },
   "file_extension": ".py",
   "mimetype": "text/x-python",
   "name": "python",
   "nbconvert_exporter": "python",
   "pygments_lexer": "ipython3",
   "version": "3.9.12"
  }
 },
 "nbformat": 4,
 "nbformat_minor": 5
}
