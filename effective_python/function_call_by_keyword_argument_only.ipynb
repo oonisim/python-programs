{
 "cells": [
  {
   "cell_type": "markdown",
   "id": "5ff665a5",
   "metadata": {},
   "source": [
    "# Enforce keyword argument only\n",
    "\n",
    "Positional argument is weak to change and source of bugs. One way is to enfornce function call with keyword argument only.\n",
    "\n",
    "```*``` in  ```func(*, **args)``` marks the end of positional arguments, hence ```*``` at the top allows no keyword argument."
   ]
  },
  {
   "cell_type": "code",
   "execution_count": 1,
   "id": "a1b3206b",
   "metadata": {},
   "outputs": [],
   "source": [
    "from collections import defaultdict"
   ]
  },
  {
   "cell_type": "code",
   "execution_count": 2,
   "id": "2ae14e0d",
   "metadata": {},
   "outputs": [],
   "source": [
    "# defaultdict(f) calls f() to initialise the value if key does not exist\n",
    "kv = defaultdict(float)\n",
    "\n",
    "\n",
    "def func(*, key, value):\n",
    "        kv[key] = value     "
   ]
  },
  {
   "cell_type": "markdown",
   "id": "603564b9",
   "metadata": {},
   "source": [
    "## Prevents positional argument call"
   ]
  },
  {
   "cell_type": "code",
   "execution_count": 3,
   "id": "995c6899",
   "metadata": {},
   "outputs": [
    {
     "ename": "TypeError",
     "evalue": "func() takes 0 positional arguments but 2 were given",
     "output_type": "error",
     "traceback": [
      "\u001b[0;31m---------------------------------------------------------------------------\u001b[0m",
      "\u001b[0;31mTypeError\u001b[0m                                 Traceback (most recent call last)",
      "Input \u001b[0;32mIn [3]\u001b[0m, in \u001b[0;36m<cell line: 1>\u001b[0;34m()\u001b[0m\n\u001b[0;32m----> 1\u001b[0m \u001b[43mfunc\u001b[49m\u001b[43m(\u001b[49m\u001b[38;5;124;43m\"\u001b[39;49m\u001b[38;5;124;43mapple\u001b[39;49m\u001b[38;5;124;43m\"\u001b[39;49m\u001b[43m,\u001b[49m\u001b[43m \u001b[49m\u001b[38;5;241;43m1.0\u001b[39;49m\u001b[43m)\u001b[49m\n",
      "\u001b[0;31mTypeError\u001b[0m: func() takes 0 positional arguments but 2 were given"
     ]
    }
   ],
   "source": [
    "func(\"apple\", 1.0)"
   ]
  },
  {
   "cell_type": "markdown",
   "id": "65fd21ac",
   "metadata": {},
   "source": [
    "## Allow keyword argument call"
   ]
  },
  {
   "cell_type": "code",
   "execution_count": 5,
   "id": "1d0e1f6c",
   "metadata": {},
   "outputs": [
    {
     "data": {
      "text/plain": [
       "defaultdict(float, {'apple': 1.0})"
      ]
     },
     "execution_count": 5,
     "metadata": {},
     "output_type": "execute_result"
    }
   ],
   "source": [
    "func(key=\"apple\", value=1.0)\n",
    "kv"
   ]
  }
 ],
 "metadata": {
  "kernelspec": {
   "display_name": "Python 3 (ipykernel)",
   "language": "python",
   "name": "python3"
  },
  "language_info": {
   "codemirror_mode": {
    "name": "ipython",
    "version": 3
   },
   "file_extension": ".py",
   "mimetype": "text/x-python",
   "name": "python",
   "nbconvert_exporter": "python",
   "pygments_lexer": "ipython3",
   "version": "3.9.12"
  }
 },
 "nbformat": 4,
 "nbformat_minor": 5
}
