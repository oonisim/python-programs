{
 "cells": [
  {
   "cell_type": "code",
   "execution_count": 127,
   "id": "75af1d79",
   "metadata": {},
   "outputs": [
    {
     "name": "stdout",
     "output_type": "stream",
     "text": [
      "3.8.10 (default, Nov 26 2021, 20:14:08) \n",
      "[GCC 9.3.0]\n",
      "4.10.0\n"
     ]
    }
   ],
   "source": [
    "import sys\n",
    "print(sys.version)\n",
    "\n",
    "import re\n",
    "import bs4\n",
    "from bs4 import BeautifulSoup\n",
    "print(bs4.__version__)"
   ]
  },
  {
   "cell_type": "markdown",
   "id": "afe3193a",
   "metadata": {},
   "source": [
    "# How BS4 handles namespaces (XML Parser)\n",
    "\n",
    "* [How can I access namespaced XML elements using BeautifulSoup?](https://stackoverflow.com/a/70586414/4281353)\n",
    "\n",
    "\n",
    "## Without namespace definition\n",
    "\n",
    "BS4/XML parser **simply drops the namespace without namespace definitions**. Hence you cannot use namespace in the search strings, but you **can use the ```tagname```** in ```<namespace:tagname>```.\n",
    "\n",
    "According to [BeautifulSoup.find_all() method not working with namespaced tags](https://stackoverflow.com/a/44681560/4281353), the BS4 with XML parser simply drop the namespace.\n",
    "\n",
    "```\n",
    "# Optimization to find all tags with a given name.\n",
    "if name.count(':') == 1:\n",
    "    # This is a name with a prefix.\n",
    "    prefix, name = name.split(':', 1)\n",
    "```\n",
    "\n",
    "Hence the parsing the XML:\n",
    "```\n",
    "<?xml version=\"1.0\" encoding=\"UTF-8\"?>\n",
    "<ns:Web>\n",
    "<ns:Total>4000</ns:Total>\n",
    "<ns:Offset>0</ns:Offset>\n",
    "</ns:Web>\n",
    "</xml>\n",
    "```\n",
    "\n",
    "is the same with parsing below where the namespace ```ns:``` has been dropped.\n",
    "```\n",
    "<?xml version=\"1.0\" encoding=\"UTF-8\"?>\n",
    "<Web>\n",
    "<Total>4000</Total>\n",
    "<Offset>0</Offset>\n",
    "</Web>\n",
    "```"
   ]
  },
  {
   "cell_type": "code",
   "execution_count": 128,
   "id": "7f396d08",
   "metadata": {},
   "outputs": [],
   "source": [
    "xml = \"\"\"\n",
    "<?xml version=\"1.0\" encoding=\"UTF-8\"?>\n",
    "<ns:Web>\n",
    "<ns:Total>4000</ns:Total>\n",
    "<ns:Offset>0</ns:Offset>\n",
    "</ns:Web>\n",
    "</xml>\n",
    "\"\"\""
   ]
  },
  {
   "cell_type": "code",
   "execution_count": 129,
   "id": "ababf9d4",
   "metadata": {},
   "outputs": [],
   "source": [
    "soup = BeautifulSoup(xml, 'xml')"
   ]
  },
  {
   "cell_type": "code",
   "execution_count": 130,
   "id": "8cf16f60",
   "metadata": {},
   "outputs": [
    {
     "data": {
      "text/plain": [
       "<?xml version=\"1.0\" encoding=\"utf-8\"?>\n",
       "<?xml version=\"1.0\" encoding=\"UTF-8\"?><Web>\n",
       "<Total>4000</Total>\n",
       "<Offset>0</Offset>\n",
       "</Web>"
      ]
     },
     "execution_count": 130,
     "metadata": {},
     "output_type": "execute_result"
    }
   ],
   "source": [
    "# namespace is dropped (and another xml line is inserted...)\n",
    "soup"
   ]
  },
  {
   "cell_type": "code",
   "execution_count": 134,
   "id": "238d5f7d",
   "metadata": {},
   "outputs": [],
   "source": [
    "# You can NOT use the namespace as part of the tag name to search\n",
    "soup.find(\"ns:Offset\")"
   ]
  },
  {
   "cell_type": "code",
   "execution_count": 136,
   "id": "100e985b",
   "metadata": {},
   "outputs": [
    {
     "data": {
      "text/plain": [
       "<Offset>0</Offset>"
      ]
     },
     "execution_count": 136,
     "metadata": {},
     "output_type": "execute_result"
    }
   ],
   "source": [
    "# You can only use the tag name\n",
    "soup.find(\"Offset\")"
   ]
  },
  {
   "cell_type": "markdown",
   "id": "68b20679",
   "metadata": {},
   "source": [
    "# With namespace definition\n",
    "\n",
    "When the namespace definition is provided, BS4/XML Parser can accpe the ```<namespace:tagname>```."
   ]
  },
  {
   "cell_type": "code",
   "execution_count": 139,
   "id": "8bb4ad21",
   "metadata": {},
   "outputs": [],
   "source": [
    "xbrl_with_namespace = \"\"\"\n",
    "<?xml version=\"1.0\" encoding=\"UTF-8\"?>\n",
    "<xbrl\n",
    "    xmlns:dei=\"http://xbrl.sec.gov/dei/2020-01-31\"\n",
    ">\n",
    "<dei:EntityRegistrantName>\n",
    "Hoge, Inc.\n",
    "</dei:EntityRegistrantName>\n",
    "</xbrl>\n",
    "\"\"\""
   ]
  },
  {
   "cell_type": "code",
   "execution_count": 140,
   "id": "aa9f2477",
   "metadata": {},
   "outputs": [
    {
     "name": "stdout",
     "output_type": "stream",
     "text": [
      "<dei:EntityRegistrantName>\n",
      " Hoge, Inc.\n",
      "</dei:EntityRegistrantName>\n",
      "\n"
     ]
    }
   ],
   "source": [
    "soup = BeautifulSoup(xbrl_with_namespace, 'xml')\n",
    "registrant = soup.find(\"dei:EntityRegistrantName\")\n",
    "print(registrant.prettify())"
   ]
  },
  {
   "cell_type": "markdown",
   "id": "d7ac4e15",
   "metadata": {},
   "source": [
    "Verify without namespace definition."
   ]
  },
  {
   "cell_type": "code",
   "execution_count": 116,
   "id": "c7e9e66e",
   "metadata": {},
   "outputs": [],
   "source": [
    "xbrl_without_namespace = \"\"\"\n",
    "<?xml version=\"1.0\" encoding=\"UTF-8\"?>\n",
    "<dei:EntityRegistrantName>\n",
    "Hoge, Inc.\n",
    "</dei:EntityRegistrantName>\n",
    "</xbrl>\n",
    "\"\"\""
   ]
  },
  {
   "cell_type": "code",
   "execution_count": 141,
   "id": "75c3e19c",
   "metadata": {},
   "outputs": [
    {
     "name": "stdout",
     "output_type": "stream",
     "text": [
      "None\n"
     ]
    }
   ],
   "source": [
    "# Cannot use the namespace \"dei\"\n",
    "soup = BeautifulSoup(xbrl_without_namespace, 'xml')\n",
    "registrant = soup.find(\"dei:EntityRegistrantName\")\n",
    "print(registrant)"
   ]
  },
  {
   "cell_type": "markdown",
   "id": "d17eb676",
   "metadata": {},
   "source": [
    "---\n",
    "# How BS4 handles namespaces (HTML Parser)\n",
    "\n",
    "HTML Parser does not tell namespace and tagname, hence regard ```<namespace:tagname>``` as a single tag.\n",
    "Besides **HTML Parser convert string into lower letters**."
   ]
  },
  {
   "cell_type": "code",
   "execution_count": 143,
   "id": "7e0f6473",
   "metadata": {},
   "outputs": [],
   "source": [
    "xbrl_without_namespace = \"\"\"\n",
    "<?xml version=\"1.0\" encoding=\"UTF-8\"?>\n",
    "<dei:EntityRegistrantName>\n",
    "Hoge, Inc.\n",
    "</dei:EntityRegistrantName>\n",
    "</xbrl>\n",
    "\"\"\""
   ]
  },
  {
   "cell_type": "code",
   "execution_count": 144,
   "id": "610ae122",
   "metadata": {},
   "outputs": [
    {
     "name": "stdout",
     "output_type": "stream",
     "text": [
      "None\n"
     ]
    }
   ],
   "source": [
    "soup = BeautifulSoup(xbrl_without_namespace, 'html.parser')"
   ]
  },
  {
   "cell_type": "code",
   "execution_count": 145,
   "id": "4cd10b51",
   "metadata": {},
   "outputs": [
    {
     "name": "stdout",
     "output_type": "stream",
     "text": [
      "None\n"
     ]
    }
   ],
   "source": [
    "# Does not match as HTML parser conveted into lower letters.\n",
    "registrant = soup.find(\"dei:EntityRegistrantName\") \n",
    "print(registrant)"
   ]
  },
  {
   "cell_type": "code",
   "execution_count": 147,
   "id": "b3b0d5c5",
   "metadata": {},
   "outputs": [
    {
     "name": "stdout",
     "output_type": "stream",
     "text": [
      "<dei:entityregistrantname>\n",
      "Hoge, Inc.\n",
      "</dei:entityregistrantname>\n"
     ]
    }
   ],
   "source": [
    "registrant = soup.find(\"dei:EntityRegistrantName\".lower()) \n",
    "print(registrant)"
   ]
  },
  {
   "cell_type": "code",
   "execution_count": null,
   "id": "eade42f1",
   "metadata": {},
   "outputs": [],
   "source": []
  }
 ],
 "metadata": {
  "kernelspec": {
   "display_name": "Python 3 (ipykernel)",
   "language": "python",
   "name": "python3"
  },
  "language_info": {
   "codemirror_mode": {
    "name": "ipython",
    "version": 3
   },
   "file_extension": ".py",
   "mimetype": "text/x-python",
   "name": "python",
   "nbconvert_exporter": "python",
   "pygments_lexer": "ipython3",
   "version": "3.8.10"
  }
 },
 "nbformat": 4,
 "nbformat_minor": 5
}
