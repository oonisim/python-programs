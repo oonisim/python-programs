{
 "cells": [
  {
   "cell_type": "code",
   "execution_count": 1,
   "id": "2777fec8",
   "metadata": {},
   "outputs": [],
   "source": [
    "import re\n",
    "import json\n",
    "\n",
    "import requests\n",
    "from bs4 import BeautifulSoup\n",
    "from IPython.display import HTML"
   ]
  },
  {
   "cell_type": "code",
   "execution_count": 2,
   "id": "84049800",
   "metadata": {},
   "outputs": [
    {
     "data": {
      "text/html": [
       "<style>\n",
       "table {float:left}\n",
       "</style>\n"
      ],
      "text/plain": [
       "<IPython.core.display.HTML object>"
      ]
     },
     "metadata": {},
     "output_type": "display_data"
    }
   ],
   "source": [
    "%%html\n",
    "<style>\n",
    "table {float:left}\n",
    "</style>"
   ]
  },
  {
   "cell_type": "markdown",
   "id": "927ba820",
   "metadata": {},
   "source": [
    "---\n",
    "# HTML Parser\n",
    "\n",
    "* Preserve original content structure\n",
    "* Does not drop ```<HTML>```, ```</HTML>``` tags."
   ]
  },
  {
   "cell_type": "code",
   "execution_count": 69,
   "id": "59b1b347",
   "metadata": {},
   "outputs": [],
   "source": [
    "content = \"\"\"<DOCUMENT>\n",
    "    <TYPE>10-Q\n",
    "    <SEQUENCE>1\n",
    "    <FILENAME>d740164d10q.htm\n",
    "    <DESCRIPTION>10-Q\n",
    "    <TEXT>\n",
    "        <HTML>\n",
    "            <HEAD><TITLE>${DOCUMEHT_TYPE}</TITLE></HEAD>\n",
    "            <BODY BGCOLOR=\"WHITE\">\n",
    "                <table>\n",
    "                  <tr>\n",
    "                    <th>Company</th>\n",
    "                    <th>Contact</th>\n",
    "                    <th>Country</th>\n",
    "                  </tr>\n",
    "                  <tr>\n",
    "                    <td>Alfreds Futterkiste</td>\n",
    "                    <td>Maria Anders</td>\n",
    "                    <td>Germany</td>\n",
    "                  </tr>\n",
    "                  <tr>\n",
    "                    <td>Centro comercial Moctezuma</td>\n",
    "                    <td>Francisco Chang</td>\n",
    "                    <td>Mexico</td>\n",
    "                  </tr>\n",
    "                </table>\n",
    "            </BODY>\n",
    "        </HTML>\n",
    "    </TEXT>\n",
    "</DOCUMENT>\n",
    "\"\"\""
   ]
  },
  {
   "cell_type": "code",
   "execution_count": 80,
   "id": "fe3e41ad",
   "metadata": {},
   "outputs": [
    {
     "data": {
      "text/plain": [
       "<document>\n",
       "<type>10-Q\n",
       "    <sequence>1\n",
       "    <filename>d740164d10q.htm\n",
       "    <description>10-Q\n",
       "    <text>\n",
       "<html>\n",
       "<head><title>${DOCUMEHT_TYPE}</title></head>\n",
       "<body bgcolor=\"WHITE\">\n",
       "<table>\n",
       "<tr>\n",
       "<th>Company</th>\n",
       "<th>Contact</th>\n",
       "<th>Country</th>\n",
       "</tr>\n",
       "<tr>\n",
       "<td>Alfreds Futterkiste</td>\n",
       "<td>Maria Anders</td>\n",
       "<td>Germany</td>\n",
       "</tr>\n",
       "<tr>\n",
       "<td>Centro comercial Moctezuma</td>\n",
       "<td>Francisco Chang</td>\n",
       "<td>Mexico</td>\n",
       "</tr>\n",
       "</table>\n",
       "</body>\n",
       "</html>\n",
       "</text>\n",
       "</description></filename></sequence></type></document>"
      ]
     },
     "execution_count": 80,
     "metadata": {},
     "output_type": "execute_result"
    }
   ],
   "source": [
    "soup = BeautifulSoup(content, 'html.parser')\n",
    "soup"
   ]
  },
  {
   "cell_type": "code",
   "execution_count": 81,
   "id": "f7c2c642",
   "metadata": {},
   "outputs": [
    {
     "data": {
      "text/plain": [
       "'10-Q'"
      ]
     },
     "execution_count": 81,
     "metadata": {},
     "output_type": "execute_result"
    }
   ],
   "source": [
    "soup.find('document').find('type').find(text=True, recursive=False).strip()"
   ]
  },
  {
   "cell_type": "code",
   "execution_count": 83,
   "id": "737e1f26",
   "metadata": {},
   "outputs": [
    {
     "name": "stdout",
     "output_type": "stream",
     "text": [
      "<html>\n",
      "<head><title>${DOCUMEHT_TYPE}</title></head>\n",
      "<body bgcolor=\"WHITE\">\n",
      "<table>\n",
      "<tr>\n",
      "<th>Company</th>\n",
      "<th>Contact</th>\n",
      "<th>Country</th>\n",
      "</tr>\n",
      "<tr>\n",
      "<td>Alfreds Futterkiste</td>\n",
      "<td>Maria Anders</td>\n",
      "<td>Germany</td>\n",
      "</tr>\n",
      "<tr>\n",
      "<td>Centro comercial Moctezuma</td>\n",
      "<td>Francisco Chang</td>\n",
      "<td>Mexico</td>\n",
      "</tr>\n",
      "</table>\n",
      "</body>\n",
      "</html>\n"
     ]
    },
    {
     "data": {
      "text/html": [
       "<html>\n",
       " <head>\n",
       "  <title>\n",
       "   ${DOCUMEHT_TYPE}\n",
       "  </title>\n",
       " </head>\n",
       " <body bgcolor=\"WHITE\">\n",
       "  <table>\n",
       "   <tr>\n",
       "    <th>\n",
       "     Company\n",
       "    </th>\n",
       "    <th>\n",
       "     Contact\n",
       "    </th>\n",
       "    <th>\n",
       "     Country\n",
       "    </th>\n",
       "   </tr>\n",
       "   <tr>\n",
       "    <td>\n",
       "     Alfreds Futterkiste\n",
       "    </td>\n",
       "    <td>\n",
       "     Maria Anders\n",
       "    </td>\n",
       "    <td>\n",
       "     Germany\n",
       "    </td>\n",
       "   </tr>\n",
       "   <tr>\n",
       "    <td>\n",
       "     Centro comercial Moctezuma\n",
       "    </td>\n",
       "    <td>\n",
       "     Francisco Chang\n",
       "    </td>\n",
       "    <td>\n",
       "     Mexico\n",
       "    </td>\n",
       "   </tr>\n",
       "  </table>\n",
       " </body>\n",
       "</html>\n"
      ],
      "text/plain": [
       "<IPython.core.display.HTML object>"
      ]
     },
     "execution_count": 83,
     "metadata": {},
     "output_type": "execute_result"
    }
   ],
   "source": [
    "html = soup.find('html')\n",
    "print(html)\n",
    "HTML(data=html.prettify())"
   ]
  },
  {
   "cell_type": "markdown",
   "id": "bbcef8af",
   "metadata": {},
   "source": [
    "---\n",
    "# LXML Parser\n",
    "\n",
    "* Change the original content structure\n",
    "* Drops ```<HTML>```, ```</HTML>``` tags.\n"
   ]
  },
  {
   "cell_type": "code",
   "execution_count": 84,
   "id": "6dd6934a",
   "metadata": {},
   "outputs": [
    {
     "data": {
      "text/plain": [
       "<html><body><document>\n",
       "<type>10-Q\n",
       "    <sequence>1\n",
       "    <filename>d740164d10q.htm\n",
       "    <description>10-Q\n",
       "    <text>\n",
       "<title>${DOCUMEHT_TYPE}</title>\n",
       "<table>\n",
       "<tr>\n",
       "<th>Company</th>\n",
       "<th>Contact</th>\n",
       "<th>Country</th>\n",
       "</tr>\n",
       "<tr>\n",
       "<td>Alfreds Futterkiste</td>\n",
       "<td>Maria Anders</td>\n",
       "<td>Germany</td>\n",
       "</tr>\n",
       "<tr>\n",
       "<td>Centro comercial Moctezuma</td>\n",
       "<td>Francisco Chang</td>\n",
       "<td>Mexico</td>\n",
       "</tr>\n",
       "</table>\n",
       "</text>\n",
       "</description></filename></sequence></type></document>\n",
       "</body></html>"
      ]
     },
     "execution_count": 84,
     "metadata": {},
     "output_type": "execute_result"
    }
   ],
   "source": [
    "soup = BeautifulSoup(content, 'lxml')\n",
    "soup"
   ]
  },
  {
   "cell_type": "code",
   "execution_count": 86,
   "id": "184259ef",
   "metadata": {},
   "outputs": [
    {
     "data": {
      "text/plain": [
       "'10-Q'"
      ]
     },
     "execution_count": 86,
     "metadata": {},
     "output_type": "execute_result"
    }
   ],
   "source": [
    "soup.find('document').find('type').find(text=True, recursive=False).strip()"
   ]
  },
  {
   "cell_type": "code",
   "execution_count": 59,
   "id": "a6361bdb",
   "metadata": {},
   "outputs": [
    {
     "data": {
      "text/html": [
       "<text>\n",
       " <title>\n",
       "  ${DOCUMEHT_TYPE}\n",
       " </title>\n",
       " <table>\n",
       "  <tr>\n",
       "   <th>\n",
       "    Company\n",
       "   </th>\n",
       "   <th>\n",
       "    Contact\n",
       "   </th>\n",
       "   <th>\n",
       "    Country\n",
       "   </th>\n",
       "  </tr>\n",
       "  <tr>\n",
       "   <td>\n",
       "    Alfreds Futterkiste\n",
       "   </td>\n",
       "   <td>\n",
       "    Maria Anders\n",
       "   </td>\n",
       "   <td>\n",
       "    Germany\n",
       "   </td>\n",
       "  </tr>\n",
       "  <tr>\n",
       "   <td>\n",
       "    Centro comercial Moctezuma\n",
       "   </td>\n",
       "   <td>\n",
       "    Francisco Chang\n",
       "   </td>\n",
       "   <td>\n",
       "    Mexico\n",
       "   </td>\n",
       "  </tr>\n",
       " </table>\n",
       "</text>"
      ],
      "text/plain": [
       "<IPython.core.display.HTML object>"
      ]
     },
     "execution_count": 59,
     "metadata": {},
     "output_type": "execute_result"
    }
   ],
   "source": [
    "HTML(data=html.prettify())"
   ]
  },
  {
   "cell_type": "markdown",
   "id": "e8600f60",
   "metadata": {},
   "source": [
    "HTML parser cannot handle non-closing tag"
   ]
  },
  {
   "cell_type": "code",
   "execution_count": null,
   "id": "93c13bcf",
   "metadata": {},
   "outputs": [],
   "source": []
  }
 ],
 "metadata": {
  "kernelspec": {
   "display_name": "Python 3 (ipykernel)",
   "language": "python",
   "name": "python3"
  },
  "language_info": {
   "codemirror_mode": {
    "name": "ipython",
    "version": 3
   },
   "file_extension": ".py",
   "mimetype": "text/x-python",
   "name": "python",
   "nbconvert_exporter": "python",
   "pygments_lexer": "ipython3",
   "version": "3.8.10"
  }
 },
 "nbformat": 4,
 "nbformat_minor": 5
}
