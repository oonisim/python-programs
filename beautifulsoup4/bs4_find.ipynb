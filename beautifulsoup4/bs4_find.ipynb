{
 "cells": [
  {
   "cell_type": "markdown",
   "id": "dc8b88f3",
   "metadata": {},
   "source": [
    "# References\n",
    "\n",
    "* [BS4 Quick Start](https://www.crummy.com/software/BeautifulSoup/bs4/doc/#quick-start)"
   ]
  },
  {
   "cell_type": "code",
   "execution_count": 1,
   "id": "2777fec8",
   "metadata": {},
   "outputs": [],
   "source": [
    "import re\n",
    "import json\n",
    "\n",
    "import requests\n",
    "from bs4 import BeautifulSoup"
   ]
  },
  {
   "cell_type": "code",
   "execution_count": 2,
   "id": "84049800",
   "metadata": {},
   "outputs": [
    {
     "data": {
      "text/html": [
       "<style>\n",
       "table {float:left}\n",
       "</style>\n"
      ],
      "text/plain": [
       "<IPython.core.display.HTML object>"
      ]
     },
     "metadata": {},
     "output_type": "display_data"
    }
   ],
   "source": [
    "%%html\n",
    "<style>\n",
    "table {float:left}\n",
    "</style>"
   ]
  },
  {
   "cell_type": "markdown",
   "id": "40b6ba73",
   "metadata": {},
   "source": [
    "# Data"
   ]
  },
  {
   "cell_type": "code",
   "execution_count": 3,
   "id": "215a582f",
   "metadata": {},
   "outputs": [],
   "source": [
    "html_doc = \"\"\"\n",
    "<html>\n",
    "<head><title>The Dormouse's story</title></head>\n",
    "<body>\n",
    "<p class=\"title\"><b>The Dormouse's story</b></p>\n",
    "\n",
    "<p class=\"story\">Once upon a time there were three little sisters; and their names were\n",
    "<a href=\"http://example.com/elsie\" class=\"sister\" id=\"link1\">Elsie</a>,\n",
    "<a href=\"http://example.com/lacie\" class=\"sister\" id=\"link2\">Lacie</a> and\n",
    "<a href=\"http://example.com/tillie\" class=\"sister\" id=\"link3\">Tillie</a>;\n",
    "and they lived at the bottom of a well.</p>\n",
    "\n",
    "<p class=\"story\">...</p>\n",
    "\n",
    "<ix:nonfraction \n",
    "  contextref=\"i531402faf1d04969ac2b2ba0e1680766_I20210403\" \n",
    "  decimals=\"-3\" \n",
    "  format=\"ixt:numdotdecimal\" \n",
    "  id=\"f05f-df5e-45b4-ba6f-72638eca470f\" \n",
    "  name=\"us-gaap:CashAndCashEquivalentsAtCarryingValue\" \n",
    "  scale=\"3\" \n",
    "  unitref=\"usd\"\n",
    ">\n",
    "1,397,880\n",
    "</ix:nonfraction>\n",
    "\n",
    "</body>\n",
    "</html>\n",
    "\"\"\""
   ]
  },
  {
   "cell_type": "markdown",
   "id": "6be691d0",
   "metadata": {},
   "source": [
    "# Runtime"
   ]
  },
  {
   "cell_type": "code",
   "execution_count": 4,
   "id": "abb43fc8",
   "metadata": {},
   "outputs": [],
   "source": [
    "from bs4 import BeautifulSoup\n",
    "soup = BeautifulSoup(html_doc, 'html.parser')"
   ]
  },
  {
   "cell_type": "markdown",
   "id": "d8c648df",
   "metadata": {},
   "source": [
    "---\n",
    "# Find(name, string, limit, recursive)\n",
    "\n",
    "> Any argument that’s not recognized will be turned into **a filter on one of a tag’s attributes**. If you pass in a value for an argument called id, Beautiful Soup will filter against each tag’s ‘id’ attribute:"
   ]
  },
  {
   "cell_type": "markdown",
   "id": "d707f0a0",
   "metadata": {},
   "source": [
    "## Find tag(s)"
   ]
  },
  {
   "cell_type": "code",
   "execution_count": 5,
   "id": "b3a303a2",
   "metadata": {},
   "outputs": [
    {
     "data": {
      "text/plain": [
       "<a class=\"sister\" href=\"http://example.com/elsie\" id=\"link1\">Elsie</a>"
      ]
     },
     "execution_count": 5,
     "metadata": {},
     "output_type": "execute_result"
    }
   ],
   "source": [
    "soup.find(name='a')"
   ]
  },
  {
   "cell_type": "markdown",
   "id": "fc307dc2",
   "metadata": {},
   "source": [
    "## Search specific string(s)\n",
    "\n",
    "* [The string argument](https://www.crummy.com/software/BeautifulSoup/bs4/doc/#the-string-argument) \n",
    "\n",
    "> With string you can search for strings instead of tags. As with name and the keyword arguments, you can pass in a string, a regular expression, a list, a function, or the value ```True```.\n",
    "\n",
    "> The string argument is new in Beautiful Soup 4.4.0. In earlier versions it was called ```text```"
   ]
  },
  {
   "cell_type": "code",
   "execution_count": 6,
   "id": "29f8d1fd",
   "metadata": {},
   "outputs": [
    {
     "data": {
      "text/plain": [
       "['Elsie', 'Lacie']"
      ]
     },
     "execution_count": 6,
     "metadata": {},
     "output_type": "execute_result"
    }
   ],
   "source": [
    "soup.find_all(string=['Lacie', 'Elsie'])"
   ]
  },
  {
   "cell_type": "code",
   "execution_count": 7,
   "id": "adaaeef2",
   "metadata": {},
   "outputs": [
    {
     "data": {
      "text/plain": [
       "['Elsie', 'Lacie']"
      ]
     },
     "execution_count": 7,
     "metadata": {},
     "output_type": "execute_result"
    }
   ],
   "source": [
    "soup.find_all(string=re.compile(r'^Lacie$|^Elsie$'))"
   ]
  },
  {
   "cell_type": "code",
   "execution_count": 8,
   "id": "df20246d",
   "metadata": {},
   "outputs": [
    {
     "data": {
      "text/plain": [
       "['Once upon a time there were three little sisters; and their names were\\n',\n",
       " ';\\nand they lived at the bottom of a well.']"
      ]
     },
     "execution_count": 8,
     "metadata": {},
     "output_type": "execute_result"
    }
   ],
   "source": [
    "soup.find_all(string=lambda x: len(x) > 20)"
   ]
  },
  {
   "cell_type": "markdown",
   "id": "ce7a8679",
   "metadata": {},
   "source": [
    "## Search all strings"
   ]
  },
  {
   "cell_type": "markdown",
   "id": "48752b63",
   "metadata": {},
   "source": [
    "* [True argument value](https://www.crummy.com/software/BeautifulSoup/bs4/doc/#true)\n",
    "\n",
    "> The value True **matches everything it can**. This code finds all the tags in the document, but none of the text strings:"
   ]
  },
  {
   "cell_type": "code",
   "execution_count": 9,
   "id": "b77aa21f",
   "metadata": {},
   "outputs": [
    {
     "data": {
      "text/plain": [
       "['\\n',\n",
       " '\\n',\n",
       " \"The Dormouse's story\",\n",
       " '\\n',\n",
       " '\\n',\n",
       " \"The Dormouse's story\",\n",
       " '\\n',\n",
       " 'Once upon a time there were three little sisters; and their names were\\n',\n",
       " 'Elsie',\n",
       " ',\\n',\n",
       " 'Lacie',\n",
       " ' and\\n',\n",
       " 'Tillie',\n",
       " ';\\nand they lived at the bottom of a well.',\n",
       " '\\n',\n",
       " '...',\n",
       " '\\n',\n",
       " '\\n1,397,880\\n',\n",
       " '\\n',\n",
       " '\\n',\n",
       " '\\n']"
      ]
     },
     "execution_count": 9,
     "metadata": {},
     "output_type": "execute_result"
    }
   ],
   "source": [
    "soup.find_all(string=True)"
   ]
  },
  {
   "cell_type": "markdown",
   "id": "1513139c",
   "metadata": {},
   "source": [
    "## Search string in a tag"
   ]
  },
  {
   "cell_type": "code",
   "execution_count": 10,
   "id": "b4f95668",
   "metadata": {},
   "outputs": [
    {
     "data": {
      "text/plain": [
       "['Elsie']"
      ]
     },
     "execution_count": 10,
     "metadata": {},
     "output_type": "execute_result"
    }
   ],
   "source": [
    "soup.a.find_all(string=True, recursive=False)"
   ]
  },
  {
   "cell_type": "code",
   "execution_count": 11,
   "id": "c634a9e5",
   "metadata": {},
   "outputs": [
    {
     "data": {
      "text/plain": [
       "['Elsie']"
      ]
     },
     "execution_count": 11,
     "metadata": {},
     "output_type": "execute_result"
    }
   ],
   "source": [
    "soup.find(name='a').find_all(string=True, recursive=False)"
   ]
  },
  {
   "cell_type": "markdown",
   "id": "168e8b85",
   "metadata": {},
   "source": [
    "## Filter with tag argument value(s)\n",
    "\n",
    "> Any argument that’s not recognized will be turned into **a filter on one of a tag’s attributes**. If you pass in a value for an argument called id, Beautiful Soup will filter against each tag’s ‘id’ attribute:"
   ]
  },
  {
   "cell_type": "code",
   "execution_count": 12,
   "id": "6809c060",
   "metadata": {},
   "outputs": [
    {
     "data": {
      "text/plain": [
       "[<a class=\"sister\" href=\"http://example.com/elsie\" id=\"link1\">Elsie</a>,\n",
       " <a class=\"sister\" href=\"http://example.com/lacie\" id=\"link2\">Lacie</a>]"
      ]
     },
     "execution_count": 12,
     "metadata": {},
     "output_type": "execute_result"
    }
   ],
   "source": [
    "soup.find_all(name='a', id=re.compile('link1|link2'))"
   ]
  },
  {
   "cell_type": "markdown",
   "id": "fe5245b3",
   "metadata": {},
   "source": [
    "## Find tag having specific attributes"
   ]
  },
  {
   "cell_type": "code",
   "execution_count": 26,
   "id": "f3a503be",
   "metadata": {},
   "outputs": [],
   "source": [
    "tags = soup.find_all(\n",
    "    string=re.compile(r\"[0-9]+\"),\n",
    "    attrs={\n",
    "        \"name\": re.compile(r\"us-gaap:CashAndCashEquivalents.*\"),\n",
    "        \"unitref\": True,\n",
    "        \"decimals\": True\n",
    "    }\n",
    ")"
   ]
  },
  {
   "cell_type": "code",
   "execution_count": 27,
   "id": "584d24ef",
   "metadata": {},
   "outputs": [
    {
     "data": {
      "text/plain": [
       "[<ix:nonfraction contextref=\"i531402faf1d04969ac2b2ba0e1680766_I20210403\" decimals=\"-3\" format=\"ixt:numdotdecimal\" id=\"f05f-df5e-45b4-ba6f-72638eca470f\" name=\"us-gaap:CashAndCashEquivalentsAtCarryingValue\" scale=\"3\" unitref=\"usd\">\n",
       " 1,397,880\n",
       " </ix:nonfraction>]"
      ]
     },
     "execution_count": 27,
     "metadata": {},
     "output_type": "execute_result"
    }
   ],
   "source": [
    "tags"
   ]
  },
  {
   "cell_type": "code",
   "execution_count": null,
   "id": "6c013c85",
   "metadata": {},
   "outputs": [],
   "source": []
  },
  {
   "cell_type": "code",
   "execution_count": null,
   "id": "d0e93faa",
   "metadata": {},
   "outputs": [],
   "source": []
  }
 ],
 "metadata": {
  "kernelspec": {
   "display_name": "Python 3 (ipykernel)",
   "language": "python",
   "name": "python3"
  },
  "language_info": {
   "codemirror_mode": {
    "name": "ipython",
    "version": 3
   },
   "file_extension": ".py",
   "mimetype": "text/x-python",
   "name": "python",
   "nbconvert_exporter": "python",
   "pygments_lexer": "ipython3",
   "version": "3.8.10"
  }
 },
 "nbformat": 4,
 "nbformat_minor": 5
}
