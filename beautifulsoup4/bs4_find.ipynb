{
 "cells": [
  {
   "cell_type": "markdown",
   "id": "dc8b88f3",
   "metadata": {},
   "source": [
    "# References\n",
    "\n",
    "* [BS4 Quick Start](https://www.crummy.com/software/BeautifulSoup/bs4/doc/#quick-start)"
   ]
  },
  {
   "cell_type": "code",
   "execution_count": 18,
   "id": "2777fec8",
   "metadata": {},
   "outputs": [],
   "source": [
    "import re\n",
    "import json\n",
    "\n",
    "import requests\n",
    "from bs4 import BeautifulSoup"
   ]
  },
  {
   "cell_type": "code",
   "execution_count": 3,
   "id": "84049800",
   "metadata": {},
   "outputs": [
    {
     "data": {
      "text/html": [
       "<style>\n",
       "table {float:left}\n",
       "</style>\n"
      ],
      "text/plain": [
       "<IPython.core.display.HTML object>"
      ]
     },
     "metadata": {},
     "output_type": "display_data"
    }
   ],
   "source": [
    "%%html\n",
    "<style>\n",
    "table {float:left}\n",
    "</style>"
   ]
  },
  {
   "cell_type": "markdown",
   "id": "40b6ba73",
   "metadata": {},
   "source": [
    "# Data"
   ]
  },
  {
   "cell_type": "code",
   "execution_count": 5,
   "id": "215a582f",
   "metadata": {},
   "outputs": [],
   "source": [
    "html_doc = \"\"\"<html><head><title>The Dormouse's story</title></head>\n",
    "<body>\n",
    "<p class=\"title\"><b>The Dormouse's story</b></p>\n",
    "\n",
    "<p class=\"story\">Once upon a time there were three little sisters; and their names were\n",
    "<a href=\"http://example.com/elsie\" class=\"sister\" id=\"link1\">Elsie</a>,\n",
    "<a href=\"http://example.com/lacie\" class=\"sister\" id=\"link2\">Lacie</a> and\n",
    "<a href=\"http://example.com/tillie\" class=\"sister\" id=\"link3\">Tillie</a>;\n",
    "and they lived at the bottom of a well.</p>\n",
    "\n",
    "<p class=\"story\">...</p>\n",
    "\"\"\""
   ]
  },
  {
   "cell_type": "markdown",
   "id": "6be691d0",
   "metadata": {},
   "source": [
    "# Runtime"
   ]
  },
  {
   "cell_type": "code",
   "execution_count": 6,
   "id": "abb43fc8",
   "metadata": {},
   "outputs": [],
   "source": [
    "from bs4 import BeautifulSoup\n",
    "soup = BeautifulSoup(html_doc, 'html.parser')"
   ]
  },
  {
   "cell_type": "markdown",
   "id": "d8c648df",
   "metadata": {},
   "source": [
    "---\n",
    "# Find(name, string, limit, recursive)\n",
    "\n",
    "> Any argument that’s not recognized will be turned into **a filter on one of a tag’s attributes**. If you pass in a value for an argument called id, Beautiful Soup will filter against each tag’s ‘id’ attribute:"
   ]
  },
  {
   "cell_type": "markdown",
   "id": "d707f0a0",
   "metadata": {},
   "source": [
    "## Find tag(s)"
   ]
  },
  {
   "cell_type": "code",
   "execution_count": 30,
   "id": "b3a303a2",
   "metadata": {},
   "outputs": [
    {
     "data": {
      "text/plain": [
       "<a class=\"sister\" href=\"http://example.com/elsie\" id=\"link1\">Elsie</a>"
      ]
     },
     "execution_count": 30,
     "metadata": {},
     "output_type": "execute_result"
    }
   ],
   "source": [
    "soup.find(name='a')"
   ]
  },
  {
   "cell_type": "markdown",
   "id": "fc307dc2",
   "metadata": {},
   "source": [
    "## Search specific string(s)\n",
    "\n",
    "* [The string argument](https://www.crummy.com/software/BeautifulSoup/bs4/doc/#the-string-argument) \n",
    "\n",
    "> With string you can search for strings instead of tags. As with name and the keyword arguments, you can pass in a string, a regular expression, a list, a function, or the value ```True```.\n",
    "\n",
    "> The string argument is new in Beautiful Soup 4.4.0. In earlier versions it was called ```text```"
   ]
  },
  {
   "cell_type": "code",
   "execution_count": 13,
   "id": "29f8d1fd",
   "metadata": {},
   "outputs": [
    {
     "data": {
      "text/plain": [
       "['Elsie', 'Lacie']"
      ]
     },
     "execution_count": 13,
     "metadata": {},
     "output_type": "execute_result"
    }
   ],
   "source": [
    "soup.find_all(string=['Lacie', 'Elsie'])"
   ]
  },
  {
   "cell_type": "code",
   "execution_count": 21,
   "id": "adaaeef2",
   "metadata": {},
   "outputs": [
    {
     "data": {
      "text/plain": [
       "['Elsie', 'Lacie']"
      ]
     },
     "execution_count": 21,
     "metadata": {},
     "output_type": "execute_result"
    }
   ],
   "source": [
    "soup.find_all(string=re.compile(r'^Lacie$|^Elsie$'))"
   ]
  },
  {
   "cell_type": "code",
   "execution_count": 22,
   "id": "df20246d",
   "metadata": {},
   "outputs": [
    {
     "data": {
      "text/plain": [
       "['Once upon a time there were three little sisters; and their names were\\n',\n",
       " ';\\nand they lived at the bottom of a well.']"
      ]
     },
     "execution_count": 22,
     "metadata": {},
     "output_type": "execute_result"
    }
   ],
   "source": [
    "soup.find_all(string=lambda x: len(x) > 20)"
   ]
  },
  {
   "cell_type": "markdown",
   "id": "ce7a8679",
   "metadata": {},
   "source": [
    "## Search all strings"
   ]
  },
  {
   "cell_type": "markdown",
   "id": "48752b63",
   "metadata": {},
   "source": [
    "* [True argument value](https://www.crummy.com/software/BeautifulSoup/bs4/doc/#true)\n",
    "\n",
    "> The value True **matches everything it can**. This code finds all the tags in the document, but none of the text strings:"
   ]
  },
  {
   "cell_type": "code",
   "execution_count": 23,
   "id": "b77aa21f",
   "metadata": {},
   "outputs": [
    {
     "data": {
      "text/plain": [
       "[\"The Dormouse's story\",\n",
       " '\\n',\n",
       " '\\n',\n",
       " \"The Dormouse's story\",\n",
       " '\\n',\n",
       " 'Once upon a time there were three little sisters; and their names were\\n',\n",
       " 'Elsie',\n",
       " ',\\n',\n",
       " 'Lacie',\n",
       " ' and\\n',\n",
       " 'Tillie',\n",
       " ';\\nand they lived at the bottom of a well.',\n",
       " '\\n',\n",
       " '...',\n",
       " '\\n']"
      ]
     },
     "execution_count": 23,
     "metadata": {},
     "output_type": "execute_result"
    }
   ],
   "source": [
    "soup.find_all(string=True)"
   ]
  },
  {
   "cell_type": "markdown",
   "id": "1513139c",
   "metadata": {},
   "source": [
    "## Search string in a tag"
   ]
  },
  {
   "cell_type": "code",
   "execution_count": 26,
   "id": "b4f95668",
   "metadata": {},
   "outputs": [
    {
     "data": {
      "text/plain": [
       "['Elsie']"
      ]
     },
     "execution_count": 26,
     "metadata": {},
     "output_type": "execute_result"
    }
   ],
   "source": [
    "soup.a.find_all(string=True, recursive=False)"
   ]
  },
  {
   "cell_type": "code",
   "execution_count": 28,
   "id": "c634a9e5",
   "metadata": {},
   "outputs": [
    {
     "data": {
      "text/plain": [
       "['Elsie']"
      ]
     },
     "execution_count": 28,
     "metadata": {},
     "output_type": "execute_result"
    }
   ],
   "source": [
    "soup.find(name='a').find_all(string=True, recursive=False)"
   ]
  },
  {
   "cell_type": "markdown",
   "id": "168e8b85",
   "metadata": {},
   "source": [
    "## Filter with tag argument value(s)\n",
    "\n",
    "> Any argument that’s not recognized will be turned into **a filter on one of a tag’s attributes**. If you pass in a value for an argument called id, Beautiful Soup will filter against each tag’s ‘id’ attribute:"
   ]
  },
  {
   "cell_type": "code",
   "execution_count": 29,
   "id": "6809c060",
   "metadata": {},
   "outputs": [
    {
     "data": {
      "text/plain": [
       "[<a class=\"sister\" href=\"http://example.com/elsie\" id=\"link1\">Elsie</a>,\n",
       " <a class=\"sister\" href=\"http://example.com/lacie\" id=\"link2\">Lacie</a>]"
      ]
     },
     "execution_count": 29,
     "metadata": {},
     "output_type": "execute_result"
    }
   ],
   "source": [
    "soup.find_all(name='a', id=re.compile('link1|link2'))"
   ]
  },
  {
   "cell_type": "code",
   "execution_count": null,
   "id": "9c1ac8d5",
   "metadata": {},
   "outputs": [],
   "source": []
  }
 ],
 "metadata": {
  "kernelspec": {
   "display_name": "Python 3 (ipykernel)",
   "language": "python",
   "name": "python3"
  },
  "language_info": {
   "codemirror_mode": {
    "name": "ipython",
    "version": 3
   },
   "file_extension": ".py",
   "mimetype": "text/x-python",
   "name": "python",
   "nbconvert_exporter": "python",
   "pygments_lexer": "ipython3",
   "version": "3.8.10"
  }
 },
 "nbformat": 4,
 "nbformat_minor": 5
}
