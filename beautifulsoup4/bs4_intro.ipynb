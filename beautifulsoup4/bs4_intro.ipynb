{
 "cells": [
  {
   "cell_type": "markdown",
   "id": "dc8b88f3",
   "metadata": {},
   "source": [
    "# References\n",
    "\n",
    "* [How To Use Beautiful Soup In Python | Part 1](https://www.youtube.com/watch?v=s2zKTklVavM)\n",
    "* [Web Scraping With Beautiful Soup in Python](https://github.com/areed1192/sigma_coding_youtube/blob/master/python/python-data-science/web-scraping/Web%20Scraping%20Wikipedia.ipynb)"
   ]
  },
  {
   "cell_type": "code",
   "execution_count": 36,
   "id": "2777fec8",
   "metadata": {},
   "outputs": [],
   "source": [
    "from bs4 import BeautifulSoup\n",
    "import requests\n",
    "import json"
   ]
  },
  {
   "cell_type": "code",
   "execution_count": 57,
   "id": "84049800",
   "metadata": {},
   "outputs": [
    {
     "data": {
      "text/html": [
       "<style>\n",
       "table {float:left}\n",
       "</style>\n"
      ],
      "text/plain": [
       "<IPython.core.display.HTML object>"
      ]
     },
     "metadata": {},
     "output_type": "display_data"
    }
   ],
   "source": [
    "%%html\n",
    "<style>\n",
    "table {float:left}\n",
    "</style>"
   ]
  },
  {
   "cell_type": "code",
   "execution_count": 82,
   "id": "15a6a06e",
   "metadata": {},
   "outputs": [],
   "source": [
    "url = \"https://en.wikipedia.org/wiki/Lyndon_Rive\"\n",
    "response = requests.get(url)\n",
    "\n",
    "if response.status_code == 200:\n",
    "    content_html = response.content.decode(\"utf-8\") \n",
    "else:\n",
    "    print(f\"HTML from {url} failed with status {response.status_code}\")"
   ]
  },
  {
   "cell_type": "code",
   "execution_count": 83,
   "id": "c900d1a8",
   "metadata": {},
   "outputs": [],
   "source": [
    "soup = BeautifulSoup(content_html, 'html.parser')"
   ]
  },
  {
   "cell_type": "markdown",
   "id": "65e02223",
   "metadata": {},
   "source": [
    "---\n",
    "# Tag object\n",
    "XML/HTML tag element is a ```bs4.element.Tag``` object in BS4.\n",
    "\n",
    "```find``` or ```find_all``` method to retreieve specific tag object(s)."
   ]
  },
  {
   "cell_type": "code",
   "execution_count": 100,
   "id": "ed04e1b7",
   "metadata": {},
   "outputs": [
    {
     "name": "stdout",
     "output_type": "stream",
     "text": [
      "<class 'bs4.element.Tag'>\n"
     ]
    }
   ],
   "source": [
    "for link in soup.find_all('a', href=True):\n",
    "    if \"class\" in link.attrs and link.attrs['class'] == \"image\":\n",
    "        break\n",
    "        \n",
    "print(type(link))"
   ]
  },
  {
   "cell_type": "code",
   "execution_count": 101,
   "id": "9626a80f",
   "metadata": {},
   "outputs": [
    {
     "name": "stdout",
     "output_type": "stream",
     "text": [
      "<a href=\"https://www.mediawiki.org/\">\n",
      " <img alt=\"Powered by MediaWiki\" height=\"31\" loading=\"lazy\" src=\"/static/images/footer/poweredby_mediawiki_88x31.png\" srcset=\"/static/images/footer/poweredby_mediawiki_132x47.png 1.5x, /static/images/footer/poweredby_mediawiki_176x62.png 2x\" width=\"88\"/>\n",
      "</a>\n"
     ]
    }
   ],
   "source": [
    "print(link.prettify())"
   ]
  },
  {
   "cell_type": "markdown",
   "id": "eae19065",
   "metadata": {},
   "source": [
    "## Tag object properties\n",
    "\n",
    "| property | description                       |\n",
    "|:----------|:-----------------------------------|\n",
    "| name     | tag name                          |\n",
    "| attrs    | tag attributes                    |\n",
    "| contents | contents if element has its value |\n",
    "| children | child elements |\n"
   ]
  },
  {
   "cell_type": "code",
   "execution_count": 102,
   "id": "a60f58fb",
   "metadata": {},
   "outputs": [
    {
     "name": "stdout",
     "output_type": "stream",
     "text": [
      "parser_class\n",
      "name\n",
      "namespace\n",
      "prefix\n",
      "sourceline\n",
      "sourcepos\n",
      "known_xml\n",
      "attrs\n",
      "contents\n",
      "parent\n",
      "previous_element\n",
      "next_element\n",
      "next_sibling\n",
      "previous_sibling\n",
      "hidden\n",
      "can_be_empty_element\n",
      "cdata_list_attributes\n",
      "preserve_whitespace_tags\n"
     ]
    }
   ],
   "source": [
    "for prop in vars(link):\n",
    "    if not prop.startswith(\"_\"): print(prop)"
   ]
  },
  {
   "cell_type": "code",
   "execution_count": 103,
   "id": "910726f7",
   "metadata": {},
   "outputs": [
    {
     "data": {
      "text/plain": [
       "'a'"
      ]
     },
     "execution_count": 103,
     "metadata": {},
     "output_type": "execute_result"
    }
   ],
   "source": [
    "link.name"
   ]
  },
  {
   "cell_type": "code",
   "execution_count": 108,
   "id": "af7c9b0a",
   "metadata": {},
   "outputs": [
    {
     "data": {
      "text/plain": [
       "<li id=\"footer-poweredbyico\"><a href=\"https://www.mediawiki.org/\"><img alt=\"Powered by MediaWiki\" height=\"31\" loading=\"lazy\" src=\"/static/images/footer/poweredby_mediawiki_88x31.png\" srcset=\"/static/images/footer/poweredby_mediawiki_132x47.png 1.5x, /static/images/footer/poweredby_mediawiki_176x62.png 2x\" width=\"88\"/></a></li>"
      ]
     },
     "execution_count": 108,
     "metadata": {},
     "output_type": "execute_result"
    }
   ],
   "source": [
    "link.parent"
   ]
  },
  {
   "cell_type": "code",
   "execution_count": 104,
   "id": "45946a6f",
   "metadata": {},
   "outputs": [
    {
     "name": "stdout",
     "output_type": "stream",
     "text": [
      "<img alt=\"Powered by MediaWiki\" height=\"31\" loading=\"lazy\" src=\"/static/images/footer/poweredby_mediawiki_88x31.png\" srcset=\"/static/images/footer/poweredby_mediawiki_132x47.png 1.5x, /static/images/footer/poweredby_mediawiki_176x62.png 2x\" width=\"88\"/>\n"
     ]
    }
   ],
   "source": [
    "for content in link.contents:\n",
    "    print(content)"
   ]
  },
  {
   "cell_type": "markdown",
   "id": "3529c43a",
   "metadata": {},
   "source": [
    "## Tag attributes\n",
    "\n",
    "Tag element attribute (e.g. href attribute of ```a``` element) is accessible with dot ```.``` or ```[<attribute>]```.\n"
   ]
  },
  {
   "cell_type": "code",
   "execution_count": 105,
   "id": "54c1f4ff",
   "metadata": {},
   "outputs": [
    {
     "name": "stdout",
     "output_type": "stream",
     "text": [
      "{\n",
      "    \"href\": \"https://www.mediawiki.org/\"\n",
      "}\n"
     ]
    }
   ],
   "source": [
    "print(json.dumps(link.attrs, indent=4))"
   ]
  },
  {
   "cell_type": "code",
   "execution_count": 106,
   "id": "132481bc",
   "metadata": {},
   "outputs": [
    {
     "name": "stdout",
     "output_type": "stream",
     "text": [
      "('href', 'https://www.mediawiki.org/')\n"
     ]
    }
   ],
   "source": [
    "for kv in link.attrs.items():\n",
    "    print(kv)"
   ]
  },
  {
   "cell_type": "markdown",
   "id": "e5a5ad47",
   "metadata": {},
   "source": [
    "## Nested Tag elements\n",
    "\n",
    "Nested element(s) can be retrieved with ```find``` or ```find_all``` methods."
   ]
  },
  {
   "cell_type": "code",
   "execution_count": 107,
   "id": "ac915a8b",
   "metadata": {},
   "outputs": [
    {
     "name": "stdout",
     "output_type": "stream",
     "text": [
      "<class 'bs4.element.Tag'>\n"
     ]
    }
   ],
   "source": [
    "img = link.find('img')\n",
    "print(type(img))"
   ]
  },
  {
   "cell_type": "markdown",
   "id": "bd3ea0dd",
   "metadata": {},
   "source": [
    "Same can be done with children property."
   ]
  },
  {
   "cell_type": "code",
   "execution_count": 92,
   "id": "b05d338f",
   "metadata": {},
   "outputs": [
    {
     "name": "stdout",
     "output_type": "stream",
     "text": [
      "Jump to navigation\n"
     ]
    }
   ],
   "source": [
    "for child in link.children:\n",
    "    print(child)"
   ]
  },
  {
   "cell_type": "markdown",
   "id": "a435887b",
   "metadata": {},
   "source": [
    "# Traversing DOM like SAX\n",
    "\n",
    "To go through the DOM tree and handle each nested element, use ```descendants``` property of the Tag object."
   ]
  },
  {
   "cell_type": "code",
   "execution_count": 93,
   "id": "ea4e8730",
   "metadata": {},
   "outputs": [
    {
     "name": "stdout",
     "output_type": "stream",
     "text": [
      "<a id=\"top\"></a>\n",
      "<a class=\"mw-jump-link\" href=\"#mw-head\">Jump to navigation</a>\n",
      "<a class=\"mw-jump-link\" href=\"#searchInput\">Jump to search</a>\n",
      "<a class=\"image\" href=\"/wiki/File:Lyndon_Rive_2015.jpg\" title=\"Lyndon Rive on a plane in 2019\"><img alt=\"Lyndon Rive on a plane in 2019\" data-file-height=\"475\" data-file-width=\"314\" decoding=\"async\" height=\"333\" src=\"//upload.wikimedia.org/wikipedia/commons/thumb/3/31/Lyndon_Rive_2015.jpg/220px-Lyndon_Rive_2015.jpg\" srcset=\"//upload.wikimedia.org/wikipedia/commons/3/31/Lyndon_Rive_2015.jpg 1.5x\" width=\"220\"/></a>\n",
      "<a href=\"/wiki/Pretoria\" title=\"Pretoria\">Pretoria</a>\n",
      "<a href=\"/wiki/South_Africa\" title=\"South Africa\">South Africa</a>\n",
      "<a href=\"#cite_note-1\">[1]</a>\n",
      "<a href=\"/wiki/SolarCity\" title=\"SolarCity\">SolarCity</a>\n",
      "<a href=\"/wiki/Chief_executive_officer\" title=\"Chief executive officer\">CEO</a>\n",
      "<a href=\"/wiki/SolarCity\" title=\"SolarCity\">SolarCity</a>\n",
      "<a href=\"/wiki/Elon_Musk\" title=\"Elon Musk\">Elon Musk</a>\n",
      "<a href=\"/wiki/Kimbal_Musk\" title=\"Kimbal Musk\">Kimbal Musk</a>\n",
      "<a href=\"/wiki/Tosca_Musk\" title=\"Tosca Musk\">Tosca Musk</a>\n",
      "<a href=\"/wiki/Maye_Musk\" title=\"Maye Musk\">Maye Musk</a>\n",
      "<a href=\"/wiki/SolarCity\" title=\"SolarCity\">SolarCity</a>\n",
      "<a href=\"/wiki/SolarCity\" title=\"SolarCity\">SolarCity</a>\n",
      "<a class=\"mw-redirect\" href=\"/wiki/Photovoltaic\" title=\"Photovoltaic\">photovoltaic</a>\n",
      "<a href=\"/wiki/South_Africa\" title=\"South Africa\">South Africa</a>\n",
      "<a href=\"#cite_note-2\">[2]</a>\n",
      "<a class=\"mw-redirect\" href=\"/wiki/Everdream\" title=\"Everdream\">Everdream</a>\n",
      "<a href=\"/wiki/Dell\" title=\"Dell\">Dell</a>\n",
      "<a href=\"#cite_note-3\">[3]</a>\n",
      "<a href=\"/wiki/Underwater_hockey\" title=\"Underwater hockey\">underwater hockey</a>\n",
      "<a href=\"/wiki/Elon_Musk\" title=\"Elon Musk\">Elon Musk</a>\n",
      "<a href=\"#cite_note-4\">[4]</a>\n",
      "<a class=\"mw-redirect\" href=\"/wiki/Technology_Review\" title=\"Technology Review\"><i>MIT Technology Review's</i></a>\n",
      "<a href=\"/wiki/Innovators_Under_35\" title=\"Innovators Under 35\">Innovators Under 35</a>\n",
      "<a href=\"#cite_note-5\">[5]</a>\n",
      "<a href=\"/wiki/Tesla,_Inc.\" title=\"Tesla, Inc.\">Tesla, Inc.</a>\n",
      "<a href=\"#cite_note-6\">[6]</a>\n",
      "<a href=\"#cite_note-7\">[7]</a>\n",
      "<a href=\"/w/index.php?title=Lyndon_Rive&amp;action=edit&amp;section=1\" title=\"Edit section: Awards\">edit</a>\n",
      "<a href=\"/wiki/Ernst_%26_Young_Entrepreneur_of_the_Year_Award\" title=\"Ernst &amp; Young Entrepreneur of the Year Award\">Ernst &amp; Young Entrepreneur of the Year Award</a>\n",
      "<a href=\"#cite_note-8\">[8]</a>\n",
      "<a href=\"#cite_note-9\">[9]</a>\n",
      "<a href=\"/w/index.php?title=Lyndon_Rive&amp;action=edit&amp;section=2\" title=\"Edit section: References\">edit</a>\n",
      "<a href=\"#cite_ref-1\">^</a>\n",
      "<a class=\"external text\" href=\"https://www.cnbc.com/2014/10/06/lyndon-rive.html\" rel=\"nofollow\">\"Lyndon Rive\"</a>\n",
      "<a href=\"#cite_ref-2\">^</a>\n",
      "<a class=\"external text\" href=\"https://www.mercurynews.com/2015/12/11/qa-solarcity-ceo-lyndon-rive-keeps-business-all-in-the-family/\" rel=\"nofollow\">\"Q&amp;A: SolarCity CEO Lyndon Rive keeps business all in the family\"</a>\n",
      "<a href=\"#cite_ref-3\">^</a>\n",
      "<a class=\"external text\" href=\"https://www.bizjournals.com/sanjose/blog/2010/12/family-joins-colleagues-for-teslas-musk.html\" rel=\"nofollow\">\"Lyndon Rive, Elon Musk: Cousins, partners\"</a>\n",
      "<a href=\"#cite_ref-4\">^</a>\n",
      "<a class=\"external text\" href=\"https://www.nytimes.com/2013/04/21/jobs/solarcitys-chief-on-a-turn-toward-the-sun.html\" rel=\"nofollow\">\"Turning Toward the Sun\"</a>\n",
      "<a href=\"#cite_ref-5\">^</a>\n",
      "<a class=\"external text\" href=\"http://www2.technologyreview.com/tr35/profile.aspx?trid=970\" rel=\"nofollow\">\"2010: Innovators Under 35\"</a>\n",
      "<a href=\"#cite_ref-6\">^</a>\n",
      "<a class=\"external text\" href=\"https://www.reuters.com/article/us-tesla-solar-rive-idUSKCN18B2RP\" rel=\"nofollow\">\"Former SolarCity CEO Lyndon Rive will leave Tesla\"</a>\n",
      "<a href=\"#cite_ref-7\">^</a>\n",
      "<a class=\"external text\" href=\"https://www.greentechmedia.com/articles/read/lyndon-rive-is-leaving-tesla\" rel=\"nofollow\">\"Lyndon Rive Is Leaving Tesla to Focus on a New Startup: 'I Am an Entrepreneur at Heart<span class=\"cs1-kern-right\">'</span>\"</a>\n",
      "<a href=\"#cite_ref-8\">^</a>\n",
      "<a class=\"external text\" href=\"https://finance.yahoo.com/news/ernst-young-announces-entrepreneur-r-120300947.html\" rel=\"nofollow\">\"Ernst &amp; Young Announces Entrepreneur Of The Year(R) 2013 Award Winners in Northern California\"</a>\n",
      "<a href=\"#cite_ref-9\">^</a>\n",
      "<a class=\"external text\" href=\"https://web.archive.org/web/20150417015159/http://www.solarcity.com/newsroom/press/ernst-young-announces-solarcity-ceo-and-co-founder-lyndon-rive-entrepreneur-year\" rel=\"nofollow\">\"Ernst &amp; Young Announces SolarCity CEO and Co-Founder Lyndon Rive as the Entrepreneur Of The Year® 2013 Award Winner in Northern California\"</a>\n",
      "<a class=\"external text\" href=\"http://www.solarcity.com/newsroom/press/ernst-young-announces-solarcity-ceo-and-co-founder-lyndon-rive-entrepreneur-year\" rel=\"nofollow\">the original</a>\n",
      "<a href=\"/wiki/Template:Elon_Musk\" title=\"Template:Elon Musk\"><abbr style=\";;background:none transparent;border:none;box-shadow:none;padding:0;;text-decoration:inherit;\" title=\"View this template\">v</abbr></a>\n",
      "<a href=\"/wiki/Template_talk:Elon_Musk\" title=\"Template talk:Elon Musk\"><abbr style=\";;background:none transparent;border:none;box-shadow:none;padding:0;;text-decoration:inherit;\" title=\"Discuss this template\">t</abbr></a>\n",
      "<a class=\"external text\" href=\"https://en.wikipedia.org/w/index.php?title=Template:Elon_Musk&amp;action=edit\"><abbr style=\";;background:none transparent;border:none;box-shadow:none;padding:0;;text-decoration:inherit;\" title=\"Edit this template\">e</abbr></a>\n",
      "<a href=\"/wiki/Elon_Musk\" title=\"Elon Musk\">Elon Musk</a>\n",
      "<a href=\"/wiki/Zip2\" title=\"Zip2\">Zip2</a>\n",
      "<a href=\"/wiki/X.com\" title=\"X.com\">X.com</a>\n",
      "<a href=\"/wiki/PayPal\" title=\"PayPal\">PayPal</a>\n",
      "<a href=\"/wiki/SpaceX\" title=\"SpaceX\">SpaceX</a>\n",
      "<a href=\"/wiki/Tesla,_Inc.\" title=\"Tesla, Inc.\">Tesla, Inc.</a>\n",
      "<a href=\"/wiki/Tesla_Energy\" title=\"Tesla Energy\">Tesla Energy</a>\n",
      "<a href=\"/wiki/SolarCity\" title=\"SolarCity\">SolarCity</a>\n",
      "<a href=\"/wiki/OpenAI\" title=\"OpenAI\">OpenAI</a>\n",
      "<a href=\"/wiki/Neuralink\" title=\"Neuralink\">Neuralink</a>\n",
      "<a href=\"/wiki/The_Boring_Company\" title=\"The Boring Company\">The Boring Company</a>\n",
      "<a href=\"/wiki/Endeavor_(company)\" title=\"Endeavor (company)\">Endeavor</a>\n",
      "<a class=\"image\" href=\"/wiki/File:Elon_Musk_2015.jpg\"><img alt=\"Elon Musk 2015.jpg\" data-file-height=\"1484\" data-file-width=\"1011\" decoding=\"async\" height=\"117\" src=\"//upload.wikimedia.org/wikipedia/commons/thumb/4/49/Elon_Musk_2015.jpg/80px-Elon_Musk_2015.jpg\" srcset=\"//upload.wikimedia.org/wikipedia/commons/thumb/4/49/Elon_Musk_2015.jpg/120px-Elon_Musk_2015.jpg 1.5x, //upload.wikimedia.org/wikipedia/commons/thumb/4/49/Elon_Musk_2015.jpg/160px-Elon_Musk_2015.jpg 2x\" width=\"80\"/></a>\n",
      "<a href=\"/wiki/Hyperloop\" title=\"Hyperloop\">Hyperloop</a>\n",
      "<a href=\"/wiki/Elon_Musk%27s_Tesla_Roadster\" title=\"Elon Musk's Tesla Roadster\">Tesla Roadster in space</a>\n",
      "<a href=\"/wiki/Boring_Test_Tunnel\" title=\"Boring Test Tunnel\">Boring Test Tunnel</a>\n",
      "<a href=\"/wiki/Views_of_Elon_Musk\" title=\"Views of Elon Musk\">Views</a>\n",
      "<a href=\"/wiki/List_of_awards_and_honors_received_by_Elon_Musk\" title=\"List of awards and honors received by Elon Musk\">Awards and honors</a>\n",
      "<a class=\"mw-redirect\" href=\"/wiki/Criticism_of_Tesla\" title=\"Criticism of Tesla\">Criticism of Tesla</a>\n",
      "<a href=\"/wiki/TSLAQ\" title=\"TSLAQ\">TSLAQ</a>\n",
      "<a href=\"/wiki/Maye_Musk\" title=\"Maye Musk\">Maye Musk</a>\n",
      "<a href=\"/wiki/Justine_Musk\" title=\"Justine Musk\">Justine Musk</a>\n",
      "<a href=\"/wiki/Talulah_Riley\" title=\"Talulah Riley\">Talulah Riley</a>\n",
      "<a href=\"/wiki/Grimes_(musician)\" title=\"Grimes (musician)\">Grimes</a>\n",
      "<a href=\"/wiki/Kimbal_Musk\" title=\"Kimbal Musk\">Kimbal Musk</a>\n",
      "<a href=\"/wiki/Tosca_Musk\" title=\"Tosca Musk\">Tosca Musk</a>\n",
      "<a class=\"mw-selflink selflink\">Lyndon Rive</a>\n",
      "<a href=\"/wiki/Elon_Musk_in_popular_culture\" title=\"Elon Musk in popular culture\">In culture</a>\n",
      "<a href=\"/wiki/Elon_Musk:_Tesla,_SpaceX,_and_the_Quest_for_a_Fantastic_Future\" title=\"Elon Musk: Tesla, SpaceX, and the Quest for a Fantastic Future\">Elon Musk: Tesla, SpaceX, and the Quest for a Fantastic Future</a>\n",
      "<a href=\"/wiki/Ludicrous:_The_Unvarnished_Story_of_Tesla_Motors\" title=\"Ludicrous: The Unvarnished Story of Tesla Motors\">Ludicrous: The Unvarnished Story of Tesla Motors</a>\n",
      "<a href=\"/wiki/Power_Play:_Tesla,_Elon_Musk,_and_the_Bet_of_the_Century\" title=\"Power Play: Tesla, Elon Musk, and the Bet of the Century\">Power Play: Tesla, Elon Musk, and the Bet of the Century</a>\n",
      "<a href=\"/wiki/The_Musk_Who_Fell_to_Earth\" title=\"The Musk Who Fell to Earth\">The Musk Who Fell to Earth</a>\n",
      "<a href=\"/wiki/One_Crew_over_the_Crewcoo%27s_Morty\" title=\"One Crew over the Crewcoo's Morty\">One Crew over the Crewcoo's Morty</a>\n",
      "<a href=\"/wiki/Category:Elon_Musk\" title=\"Category:Elon Musk\">Categories</a>\n",
      "<a dir=\"ltr\" href=\"https://en.wikipedia.org/w/index.php?title=Lyndon_Rive&amp;oldid=1047758642\">https://en.wikipedia.org/w/index.php?title=Lyndon_Rive&amp;oldid=1047758642</a>\n",
      "<a href=\"/wiki/Help:Category\" title=\"Help:Category\">Categories</a>\n",
      "<a href=\"/wiki/Category:1977_births\" title=\"Category:1977 births\">1977 births</a>\n",
      "<a href=\"/wiki/Category:Living_people\" title=\"Category:Living people\">Living people</a>\n",
      "<a href=\"/wiki/Category:People_associated_with_solar_power\" title=\"Category:People associated with solar power\">People associated with solar power</a>\n",
      "<a href=\"/wiki/Category:People_from_Pretoria\" title=\"Category:People from Pretoria\">People from Pretoria</a>\n",
      "<a href=\"/wiki/Category:South_African_expatriates_in_the_United_States\" title=\"Category:South African expatriates in the United States\">South African expatriates in the United States</a>\n",
      "<a href=\"/wiki/Category:South_African_people_of_Canadian_descent\" title=\"Category:South African people of Canadian descent\">South African people of Canadian descent</a>\n",
      "<a href=\"/wiki/Category:Musk_family\" title=\"Category:Musk family\">Musk family</a>\n",
      "<a href=\"/wiki/Category:Articles_with_short_description\" title=\"Category:Articles with short description\">Articles with short description</a>\n",
      "<a href=\"/wiki/Category:Short_description_is_different_from_Wikidata\" title=\"Category:Short description is different from Wikidata\">Short description is different from Wikidata</a>\n",
      "<a href=\"/wiki/Category:Use_South_African_English_from_May_2014\" title=\"Category:Use South African English from May 2014\">Use South African English from May 2014</a>\n",
      "<a href=\"/wiki/Category:All_Wikipedia_articles_written_in_South_African_English\" title=\"Category:All Wikipedia articles written in South African English\">All Wikipedia articles written in South African English</a>\n",
      "<a href=\"/wiki/Category:Use_dmy_dates_from_January_2013\" title=\"Category:Use dmy dates from January 2013\">Use dmy dates from January 2013</a>\n",
      "<a href=\"/wiki/Category:Pages_using_infobox_person_with_unknown_empty_parameters\" title=\"Category:Pages using infobox person with unknown empty parameters\">Pages using infobox person with unknown empty parameters</a>\n",
      "<a href=\"/wiki/Category:Articles_with_hCards\" title=\"Category:Articles with hCards\">Articles with hCards</a>\n",
      "<a href=\"/wiki/Category:AC_with_0_elements\" title=\"Category:AC with 0 elements\">AC with 0 elements</a>\n",
      "<a accesskey=\"n\" href=\"/wiki/Special:MyTalk\" title=\"Discussion about edits from this IP address [n]\"><span>Talk</span></a>\n",
      "<a accesskey=\"y\" href=\"/wiki/Special:MyContributions\" title=\"A list of edits made from this IP address [y]\"><span>Contributions</span></a>\n",
      "<a href=\"/w/index.php?title=Special:CreateAccount&amp;returnto=Lyndon+Rive\" title=\"You are encouraged to create an account and log in; however, it is not mandatory\"><span>Create account</span></a>\n",
      "<a accesskey=\"o\" href=\"/w/index.php?title=Special:UserLogin&amp;returnto=Lyndon+Rive\" title=\"You're encouraged to log in; however, it's not mandatory. [o]\"><span>Log in</span></a>\n",
      "<a accesskey=\"c\" href=\"/wiki/Lyndon_Rive\" title=\"View the content page [c]\"><span>Article</span></a>\n",
      "<a accesskey=\"t\" href=\"/wiki/Talk:Lyndon_Rive\" rel=\"discussion\" title=\"Discuss improvements to the content page [t]\"><span>Talk</span></a>\n",
      "<a href=\"/wiki/Lyndon_Rive\"><span>Read</span></a>\n",
      "<a accesskey=\"e\" href=\"/w/index.php?title=Lyndon_Rive&amp;action=edit\" title=\"Edit this page [e]\"><span>Edit</span></a>\n",
      "<a accesskey=\"h\" href=\"/w/index.php?title=Lyndon_Rive&amp;action=history\" title=\"Past revisions of this page [h]\"><span>View history</span></a>\n",
      "<a class=\"mw-wiki-logo\" href=\"/wiki/Main_Page\" title=\"Visit the main page\"></a>\n",
      "<a accesskey=\"z\" href=\"/wiki/Main_Page\" title=\"Visit the main page [z]\"><span>Main page</span></a>\n",
      "<a href=\"/wiki/Wikipedia:Contents\" title=\"Guides to browsing Wikipedia\"><span>Contents</span></a>\n",
      "<a href=\"/wiki/Portal:Current_events\" title=\"Articles related to current events\"><span>Current events</span></a>\n",
      "<a accesskey=\"x\" href=\"/wiki/Special:Random\" title=\"Visit a randomly selected article [x]\"><span>Random article</span></a>\n",
      "<a href=\"/wiki/Wikipedia:About\" title=\"Learn about Wikipedia and how it works\"><span>About Wikipedia</span></a>\n",
      "<a href=\"//en.wikipedia.org/wiki/Wikipedia:Contact_us\" title=\"How to contact Wikipedia\"><span>Contact us</span></a>\n",
      "<a href=\"https://donate.wikimedia.org/wiki/Special:FundraiserRedirector?utm_source=donate&amp;utm_medium=sidebar&amp;utm_campaign=C13_en.wikipedia.org&amp;uselang=en\" title=\"Support us by donating to the Wikimedia Foundation\"><span>Donate</span></a>\n",
      "<a href=\"/wiki/Help:Contents\" title=\"Guidance on how to use and edit Wikipedia\"><span>Help</span></a>\n",
      "<a href=\"/wiki/Help:Introduction\" title=\"Learn how to edit Wikipedia\"><span>Learn to edit</span></a>\n",
      "<a href=\"/wiki/Wikipedia:Community_portal\" title=\"The hub for editors\"><span>Community portal</span></a>\n",
      "<a accesskey=\"r\" href=\"/wiki/Special:RecentChanges\" title=\"A list of recent changes to Wikipedia [r]\"><span>Recent changes</span></a>\n",
      "<a href=\"/wiki/Wikipedia:File_Upload_Wizard\" title=\"Add images or other media for use on Wikipedia\"><span>Upload file</span></a>\n",
      "<a accesskey=\"j\" href=\"/wiki/Special:WhatLinksHere/Lyndon_Rive\" title=\"List of all English Wikipedia pages containing links to this page [j]\"><span>What links here</span></a>\n",
      "<a accesskey=\"k\" href=\"/wiki/Special:RecentChangesLinked/Lyndon_Rive\" rel=\"nofollow\" title=\"Recent changes in pages linked from this page [k]\"><span>Related changes</span></a>\n",
      "<a accesskey=\"u\" href=\"/wiki/Wikipedia:File_Upload_Wizard\" title=\"Upload files [u]\"><span>Upload file</span></a>\n",
      "<a accesskey=\"q\" href=\"/wiki/Special:SpecialPages\" title=\"A list of all special pages [q]\"><span>Special pages</span></a>\n",
      "<a href=\"/w/index.php?title=Lyndon_Rive&amp;oldid=1047758642\" title=\"Permanent link to this revision of this page\"><span>Permanent link</span></a>\n",
      "<a href=\"/w/index.php?title=Lyndon_Rive&amp;action=info\" title=\"More information about this page\"><span>Page information</span></a>\n",
      "<a href=\"/w/index.php?title=Special:CiteThisPage&amp;page=Lyndon_Rive&amp;id=1047758642&amp;wpFormIdentifier=titleform\" title=\"Information on how to cite this page\"><span>Cite this page</span></a>\n",
      "<a accesskey=\"g\" href=\"https://www.wikidata.org/wiki/Special:EntityPage/Q6708744\" title=\"Structured data on this page hosted by Wikidata [g]\"><span>Wikidata item</span></a>\n",
      "<a href=\"/w/index.php?title=Special:DownloadAsPdf&amp;page=Lyndon_Rive&amp;action=show-download-screen\" title=\"Download this page as a PDF file\"><span>Download as PDF</span></a>\n",
      "<a accesskey=\"p\" href=\"/w/index.php?title=Lyndon_Rive&amp;printable=yes\" title=\"Printable version of this page [p]\"><span>Printable version</span></a>\n",
      "<a href=\"https://commons.wikimedia.org/wiki/Category:Lyndon_Rive\" hreflang=\"en\"><span>Wikimedia Commons</span></a>\n",
      "<a class=\"interlanguage-link-target\" href=\"https://de.wikipedia.org/wiki/Lyndon_Rive\" hreflang=\"de\" lang=\"de\" title=\"Lyndon Rive – German\"><span>Deutsch</span></a>\n",
      "<a class=\"interlanguage-link-target\" href=\"https://id.wikipedia.org/wiki/Lyndon_Rive\" hreflang=\"id\" lang=\"id\" title=\"Lyndon Rive – Indonesian\"><span>Bahasa Indonesia</span></a>\n",
      "<a class=\"interlanguage-link-target\" href=\"https://ms.wikipedia.org/wiki/Lyndon_Rive\" hreflang=\"ms\" lang=\"ms\" title=\"Lyndon Rive – Malay\"><span>Bahasa Melayu</span></a>\n",
      "<a class=\"interlanguage-link-target\" href=\"https://pt.wikipedia.org/wiki/Lyndon_Rive\" hreflang=\"pt\" lang=\"pt\" title=\"Lyndon Rive – Portuguese\"><span>Português</span></a>\n",
      "<a class=\"interlanguage-link-target\" href=\"https://th.wikipedia.org/wiki/%E0%B8%A5%E0%B8%B4%E0%B8%99%E0%B8%94%E0%B8%AD%E0%B8%99_%E0%B9%84%E0%B8%A3%E0%B8%9F%E0%B9%8C\" hreflang=\"th\" lang=\"th\" title=\"ลินดอน ไรฟ์ – Thai\"><span>ไทย</span></a>\n",
      "<a class=\"interlanguage-link-target\" href=\"https://uk.wikipedia.org/wiki/%D0%9B%D1%96%D0%BD%D0%B4%D0%BE%D0%BD_%D0%A0%D0%B0%D0%B9%D0%B2\" hreflang=\"uk\" lang=\"uk\" title=\"Ліндон Райв – Ukrainian\"><span>Українська</span></a>\n",
      "<a class=\"wbc-editpage\" href=\"https://www.wikidata.org/wiki/Special:EntityPage/Q6708744#sitelinks-wikipedia\" title=\"Edit interlanguage links\">Edit links</a>\n",
      "<a href=\"//en.wikipedia.org/wiki/Wikipedia:Text_of_Creative_Commons_Attribution-ShareAlike_3.0_Unported_License\" rel=\"license\">Creative Commons Attribution-ShareAlike License</a>\n",
      "<a href=\"//creativecommons.org/licenses/by-sa/3.0/\" rel=\"license\" style=\"display:none;\"></a>\n",
      "<a href=\"//foundation.wikimedia.org/wiki/Terms_of_Use\">Terms of Use</a>\n",
      "<a href=\"//foundation.wikimedia.org/wiki/Privacy_policy\">Privacy Policy</a>\n",
      "<a href=\"//www.wikimediafoundation.org/\">Wikimedia Foundation, Inc.</a>\n",
      "<a class=\"extiw\" href=\"https://foundation.wikimedia.org/wiki/Privacy_policy\" title=\"wmf:Privacy policy\">Privacy policy</a>\n",
      "<a href=\"/wiki/Wikipedia:About\" title=\"Wikipedia:About\">About Wikipedia</a>\n",
      "<a href=\"/wiki/Wikipedia:General_disclaimer\" title=\"Wikipedia:General disclaimer\">Disclaimers</a>\n",
      "<a href=\"//en.wikipedia.org/wiki/Wikipedia:Contact_us\">Contact Wikipedia</a>\n",
      "<a class=\"noprint stopMobileRedirectToggle\" href=\"//en.m.wikipedia.org/w/index.php?title=Lyndon_Rive&amp;mobileaction=toggle_view_mobile\">Mobile view</a>\n",
      "<a href=\"https://www.mediawiki.org/wiki/Special:MyLanguage/How_to_contribute\">Developers</a>\n",
      "<a href=\"https://stats.wikimedia.org/#/en.wikipedia.org\">Statistics</a>\n",
      "<a href=\"https://foundation.wikimedia.org/wiki/Cookie_statement\">Cookie statement</a>\n",
      "<a href=\"https://wikimediafoundation.org/\"><img alt=\"Wikimedia Foundation\" height=\"31\" loading=\"lazy\" src=\"/static/images/footer/wikimedia-button.png\" srcset=\"/static/images/footer/wikimedia-button-1.5x.png 1.5x, /static/images/footer/wikimedia-button-2x.png 2x\" width=\"88\"/></a>\n",
      "<a href=\"https://www.mediawiki.org/\"><img alt=\"Powered by MediaWiki\" height=\"31\" loading=\"lazy\" src=\"/static/images/footer/poweredby_mediawiki_88x31.png\" srcset=\"/static/images/footer/poweredby_mediawiki_132x47.png 1.5x, /static/images/footer/poweredby_mediawiki_176x62.png 2x\" width=\"88\"/></a>\n"
     ]
    }
   ],
   "source": [
    "for descendant in soup.descendants:\n",
    "    if descendant.name == 'a': print(descendant)"
   ]
  },
  {
   "cell_type": "code",
   "execution_count": null,
   "id": "abb43fc8",
   "metadata": {},
   "outputs": [],
   "source": []
  }
 ],
 "metadata": {
  "kernelspec": {
   "display_name": "Python 3 (ipykernel)",
   "language": "python",
   "name": "python3"
  },
  "language_info": {
   "codemirror_mode": {
    "name": "ipython",
    "version": 3
   },
   "file_extension": ".py",
   "mimetype": "text/x-python",
   "name": "python",
   "nbconvert_exporter": "python",
   "pygments_lexer": "ipython3",
   "version": "3.8.10"
  }
 },
 "nbformat": 4,
 "nbformat_minor": 5
}
