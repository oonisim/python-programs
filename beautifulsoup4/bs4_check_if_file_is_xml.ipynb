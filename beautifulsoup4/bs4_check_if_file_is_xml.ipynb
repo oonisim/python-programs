{
 "cells": [
  {
   "cell_type": "code",
   "execution_count": 1,
   "id": "acd59a6e",
   "metadata": {},
   "outputs": [],
   "source": [
    "from bs4 import BeautifulSoup"
   ]
  },
  {
   "cell_type": "code",
   "execution_count": 2,
   "id": "e9b172a1",
   "metadata": {},
   "outputs": [],
   "source": [
    "content = \"\"\"\n",
    "<?xml version=\"1.0\" encoding=\"UTF-8\"?>\n",
    "<xbrl\n",
    "\txmlns=\"http://www.xbrl.org/2003/instance\"\n",
    "\txmlns:country=\"http://xbrl.sec.gov/country/2020-01-31\"\n",
    "\txmlns:dei=\"http://xbrl.sec.gov/dei/2020-01-31\"\n",
    "\txmlns:iso4217=\"http://www.xbrl.org/2003/iso4217\"\n",
    "\txmlns:link=\"http://www.xbrl.org/2003/linkbase\"\n",
    "\txmlns:rfmd=\"http://www.rfmd.com/20210403\"\n",
    "\txmlns:srt=\"http://fasb.org/srt/2020-01-31\"\n",
    "\txmlns:us-gaap=\"http://fasb.org/us-gaap/2020-01-31\"\n",
    "\txmlns:xbrldi=\"http://xbrl.org/2006/xbrldi\"\n",
    "\txmlns:xlink=\"http://www.w3.org/1999/xlink\"\n",
    "\txmlns:xsi=\"http://www.w3.org/2001/XMLSchema-instance\" xml:lang=\"en-US\">\n",
    "</xbrl>\"\"\""
   ]
  },
  {
   "cell_type": "code",
   "execution_count": 3,
   "id": "8007b1cd",
   "metadata": {},
   "outputs": [
    {
     "data": {
      "text/plain": [
       "True"
      ]
     },
     "execution_count": 3,
     "metadata": {},
     "output_type": "execute_result"
    }
   ],
   "source": [
    "soup = BeautifulSoup(content, 'xml')\n",
    "soup.is_xml"
   ]
  },
  {
   "cell_type": "code",
   "execution_count": null,
   "id": "1b23a608",
   "metadata": {},
   "outputs": [],
   "source": []
  }
 ],
 "metadata": {
  "kernelspec": {
   "display_name": "Python 3 (ipykernel)",
   "language": "python",
   "name": "python3"
  },
  "language_info": {
   "codemirror_mode": {
    "name": "ipython",
    "version": 3
   },
   "file_extension": ".py",
   "mimetype": "text/x-python",
   "name": "python",
   "nbconvert_exporter": "python",
   "pygments_lexer": "ipython3",
   "version": "3.8.10"
  }
 },
 "nbformat": 4,
 "nbformat_minor": 5
}
