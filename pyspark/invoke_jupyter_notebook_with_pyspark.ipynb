{
 "cells": [
  {
   "cell_type": "markdown",
   "id": "13f6b249",
   "metadata": {},
   "source": [
    "# Open Jupyter by pyspark command\n",
    "\n",
    "Configure PySpark driver to use Jupyter Notebook: running pyspark will automatically open a Jupyter Notebook.\n",
    "\n",
    "* [How to install PySpark and Jupyter Notebook in 3 Minutes](https://www.sicara.ai/blog/2017-05-02-get-started-pyspark-jupyter-notebook-3-minutes)"
   ]
  },
  {
   "cell_type": "code",
   "execution_count": null,
   "id": "2c119a11",
   "metadata": {},
   "outputs": [],
   "source": [
    "export PYSPARK_DRIVER_PYTHON=\"jupyter\"\n",
    "export PYSPARK_DRIVER_PYTHON_OPTS=\"notebook\"\n",
    "export PYSPARK_PYTHON=python3\n",
    "pyspark"
   ]
  }
 ],
 "metadata": {
  "kernelspec": {
   "display_name": "Python 3 (ipykernel)",
   "language": "python",
   "name": "python3"
  },
  "language_info": {
   "codemirror_mode": {
    "name": "ipython",
    "version": 3
   },
   "file_extension": ".py",
   "mimetype": "text/x-python",
   "name": "python",
   "nbconvert_exporter": "python",
   "pygments_lexer": "ipython3",
   "version": "3.8.10"
  }
 },
 "nbformat": 4,
 "nbformat_minor": 5
}
