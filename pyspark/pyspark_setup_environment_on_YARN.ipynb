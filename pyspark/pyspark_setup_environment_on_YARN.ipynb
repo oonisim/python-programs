{
 "cells": [
  {
   "cell_type": "markdown",
   "id": "a609ffd2",
   "metadata": {},
   "source": [
    "# Setup the environment to submit PySpark jobs on YARN\n",
    "\n",
    "See the https://github.com/oonisim/spark-programs/blob/master/PySpark/pyspark_setup_environment_on_YARN.ipynb"
   ]
  },
  {
   "cell_type": "code",
   "execution_count": null,
   "id": "16f30c4e",
   "metadata": {},
   "outputs": [],
   "source": []
  }
 ],
 "metadata": {
  "kernelspec": {
   "display_name": "Python 3 (ipykernel)",
   "language": "python",
   "name": "python3"
  },
  "language_info": {
   "codemirror_mode": {
    "name": "ipython",
    "version": 3
   },
   "file_extension": ".py",
   "mimetype": "text/x-python",
   "name": "python",
   "nbconvert_exporter": "python",
   "pygments_lexer": "ipython3",
   "version": "3.8.10"
  }
 },
 "nbformat": 4,
 "nbformat_minor": 5
}
