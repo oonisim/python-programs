{
 "cells": [
  {
   "cell_type": "code",
   "execution_count": 11,
   "id": "4e811e2d",
   "metadata": {},
   "outputs": [],
   "source": [
    "import tensorflow as tf\n",
    "import numpy as np"
   ]
  },
  {
   "cell_type": "code",
   "execution_count": 12,
   "id": "1a94fd63",
   "metadata": {},
   "outputs": [
    {
     "data": {
      "text/plain": [
       "'2.4.1'"
      ]
     },
     "execution_count": 12,
     "metadata": {},
     "output_type": "execute_result"
    }
   ],
   "source": [
    "tf.__version__"
   ]
  },
  {
   "cell_type": "code",
   "execution_count": 13,
   "id": "3f18bb7c",
   "metadata": {},
   "outputs": [
    {
     "data": {
      "text/plain": [
       "'tensorflow'"
      ]
     },
     "execution_count": 13,
     "metadata": {},
     "output_type": "execute_result"
    }
   ],
   "source": [
    "tf.__name__"
   ]
  },
  {
   "cell_type": "code",
   "execution_count": 14,
   "id": "5682e995",
   "metadata": {},
   "outputs": [
    {
     "data": {
      "text/plain": [
       "'numpy'"
      ]
     },
     "execution_count": 14,
     "metadata": {},
     "output_type": "execute_result"
    }
   ],
   "source": [
    "np.__name__"
   ]
  },
  {
   "cell_type": "markdown",
   "id": "c7ef24da",
   "metadata": {},
   "source": [
    "# [NumPy Compatibility](https://www.tensorflow.org/tutorials/customization/basics#numpy_compatibility)\n",
    "\n",
    "> Converting between a TensorFlow tf.Tensors and a NumPy ndarray is easy:<br>\n",
    "> * TensorFlow operations automatically convert NumPy ndarrays to Tensors.<br>\n",
    "> * NumPy operations automatically convert Tensors to NumPy ndarrays.<br>\n",
    "> \n",
    "> Tensors are explicitly converted to NumPy ndarrays using their .numpy() method. These conversions are typically cheap since the array and tf.Tensor share the underlying memory representation, if possible.<br><br> However, sharing the underlying representation isn't always possible since the tf.Tensor may be hosted in GPU memory while NumPy arrays are always backed by host memory, and the conversion involves a copy from GPU to host memory.\n",
    "> ```\n",
    "> import numpy as np\n",
    "> ndarray = np.ones([3, 3])\n",
    "> \n",
    "> print(\"TensorFlow operations convert numpy arrays to Tensors automatically\")\n",
    "> tensor = tf.multiply(ndarray, 42)\n",
    "> print(tensor)\n",
    "> \n",
    "> print(\"And NumPy operations convert Tensors to numpy arrays automatically\")\n",
    "> print(np.add(tensor, 1))\n",
    "> \n",
    "> print(\"The .numpy() method explicitly converts a Tensor to a numpy array\")\n",
    "> print(tensor.numpy())\n",
    "> ```"
   ]
  },
  {
   "cell_type": "markdown",
   "id": "2d73cbab",
   "metadata": {},
   "source": [
    "## Numpy to Tensor\n",
    "\n",
    "It is automatic."
   ]
  },
  {
   "cell_type": "code",
   "execution_count": 5,
   "id": "4911d5d5",
   "metadata": {},
   "outputs": [
    {
     "data": {
      "text/plain": [
       "<tf.Tensor: shape=(2, 3), dtype=int64, numpy=\n",
       "array([[0, 1, 2],\n",
       "       [3, 4, 5]])>"
      ]
     },
     "execution_count": 5,
     "metadata": {},
     "output_type": "execute_result"
    }
   ],
   "source": [
    "tf.constant(np.arange(6).reshape(2,3))"
   ]
  },
  {
   "cell_type": "code",
   "execution_count": 9,
   "id": "0fd16dc7",
   "metadata": {},
   "outputs": [
    {
     "data": {
      "text/plain": [
       "<tf.Tensor: shape=(2, 3), dtype=float16, numpy=\n",
       "array([[1., 2., 3.],\n",
       "       [4., 5., 6.]], dtype=float16)>"
      ]
     },
     "execution_count": 9,
     "metadata": {},
     "output_type": "execute_result"
    }
   ],
   "source": []
  },
  {
   "cell_type": "markdown",
   "id": "30ed1996",
   "metadata": {},
   "source": [
    "##  [tf.convert_to_tensor](https://www.tensorflow.org/api_docs/python/tf/convert_to_tensor)\n",
    "\n",
    "```\n",
    "tf.convert_to_tensor(\n",
    "    value, dtype=None, dtype_hint=None, name=None\n",
    ")\n",
    "```"
   ]
  },
  {
   "cell_type": "code",
   "execution_count": 10,
   "id": "59cba4f3",
   "metadata": {},
   "outputs": [
    {
     "data": {
      "text/plain": [
       "<tf.Tensor: shape=(2, 3), dtype=float16, numpy=\n",
       "array([[1., 2., 3.],\n",
       "       [4., 5., 6.]], dtype=float16)>"
      ]
     },
     "execution_count": 10,
     "metadata": {},
     "output_type": "execute_result"
    }
   ],
   "source": [
    "# Same with tf.constant([[1,2,3],[4,5,6]], dtype=np.float16)\n",
    "tf.convert_to_tensor([[1,2,3],[4,5,6]], dtype=np.float16) # np.dtype is compatible"
   ]
  },
  {
   "cell_type": "markdown",
   "id": "87ff4c5c",
   "metadata": {},
   "source": [
    "## Tensor to Numpy\n",
    "\n",
    "Use ```.numpy()``` method of tensors."
   ]
  },
  {
   "cell_type": "code",
   "execution_count": 7,
   "id": "76088f93",
   "metadata": {},
   "outputs": [
    {
     "name": "stdout",
     "output_type": "stream",
     "text": [
      "TF:\n",
      "tf.Tensor(\n",
      "[[0.59714963 0.90234098 0.12215724 0.61160119]\n",
      " [0.71039645 0.42370418 0.16797831 0.47807252]\n",
      " [0.60772922 0.75861112 0.58765084 0.63336087]], shape=(3, 4), dtype=float64)\n",
      "\n",
      "TF.numpy():\n",
      "[[0.59714963 0.90234098 0.12215724 0.61160119]\n",
      " [0.71039645 0.42370418 0.16797831 0.47807252]\n",
      " [0.60772922 0.75861112 0.58765084 0.63336087]]\n"
     ]
    }
   ],
   "source": [
    "a = tf.constant(np.random.rand(3,4))\n",
    "print(f\"TF:\\n{str(a)}\\n\\nTF.numpy():\\n{a.numpy()}\")"
   ]
  },
  {
   "cell_type": "code",
   "execution_count": null,
   "id": "0df54ea8",
   "metadata": {},
   "outputs": [],
   "source": []
  }
 ],
 "metadata": {
  "kernelspec": {
   "display_name": "Python 3",
   "language": "python",
   "name": "python3"
  },
  "language_info": {
   "codemirror_mode": {
    "name": "ipython",
    "version": 3
   },
   "file_extension": ".py",
   "mimetype": "text/x-python",
   "name": "python",
   "nbconvert_exporter": "python",
   "pygments_lexer": "ipython3",
   "version": "3.8.8"
  }
 },
 "nbformat": 4,
 "nbformat_minor": 5
}
