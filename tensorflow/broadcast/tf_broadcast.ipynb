{
 "cells": [
  {
   "cell_type": "markdown",
   "id": "f58abc6a",
   "metadata": {},
   "source": [
    "# Broadcast\n",
    "\n",
    "* [tensorflow - Is broadcasting in Tensorflow a view or a copy?\n",
    "](https://stackoverflow.com/questions/66978119/tensorflow-is-broadcasting-in-tensorflow-a-view-or-a-copy)\n",
    "* [Introduction to Tensors - Broadcasting](https://www.tensorflow.org/guide/tensor#broadcasting)\n",
    "\n",
    "> The broadcast operation never materializes the expanded tensors in memory.\n",
    "\n",
    "* [tf.broadcast()](https://www.tensorflow.org/api_docs/python/tf/broadcast_to)\n",
    "\n",
    "```\n",
    "tf.broadcast_to(\n",
    "    input, shape, name=None\n",
    ")\n",
    "```"
   ]
  },
  {
   "cell_type": "code",
   "execution_count": 3,
   "id": "1325e54d",
   "metadata": {},
   "outputs": [
    {
     "name": "stdout",
     "output_type": "stream",
     "text": [
      "tf.Tensor(\n",
      "[[1 2 3]\n",
      " [1 2 3]\n",
      " [1 2 3]], shape=(3, 3), dtype=int32)\n"
     ]
    }
   ],
   "source": [
    "import tensorflow as tf\n",
    "print(tf.broadcast_to(tf.constant([1, 2, 3]), [3, 3]))"
   ]
  }
 ],
 "metadata": {
  "kernelspec": {
   "display_name": "Python 3",
   "language": "python",
   "name": "python3"
  },
  "language_info": {
   "codemirror_mode": {
    "name": "ipython",
    "version": 3
   },
   "file_extension": ".py",
   "mimetype": "text/x-python",
   "name": "python",
   "nbconvert_exporter": "python",
   "pygments_lexer": "ipython3",
   "version": "3.8.8"
  }
 },
 "nbformat": 4,
 "nbformat_minor": 5
}
