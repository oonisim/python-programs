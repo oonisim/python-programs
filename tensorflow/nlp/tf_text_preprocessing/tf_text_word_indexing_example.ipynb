{
 "cells": [
  {
   "cell_type": "markdown",
   "id": "2a1d083c",
   "metadata": {},
   "source": [
    "# Word indexing\n",
    "\n",
    "Generate word indices on a corpus and appy it to convert text sentences into word index sequences."
   ]
  },
  {
   "cell_type": "markdown",
   "id": "bcc9164e",
   "metadata": {},
   "source": [
    "# TextLineDataset\n",
    "\n",
    "* [tf.data.TextLineDataset](https://www.tensorflow.org/api_docs/python/tf/data/TextLineDataset0)\n",
    "\n",
    "Not limited to a single file but also from multple files.\n",
    "\n",
    "> A Dataset comprising lines from one or more text file**s**."
   ]
  },
  {
   "cell_type": "code",
   "execution_count": 1,
   "id": "9b069a3b",
   "metadata": {},
   "outputs": [],
   "source": [
    "import sys\n",
    "import pathlib\n",
    "import itertools\n",
    "import numpy as np\n",
    "import tensorflow as tf\n",
    "\n",
    "np.set_printoptions(threshold=sys.maxsize)\n",
    "np.set_printoptions(linewidth=200) "
   ]
  },
  {
   "cell_type": "markdown",
   "id": "0ab155b6",
   "metadata": {},
   "source": [
    "## PTB text"
   ]
  },
  {
   "cell_type": "code",
   "execution_count": 2,
   "id": "1ed46865",
   "metadata": {},
   "outputs": [],
   "source": [
    "f = \"ptb.train.txt\"\n",
    "path_to_ptb = tf.keras.utils.get_file(\n",
    "    str(pathlib.Path().absolute()) + '/' + f,\n",
    "    f'https://raw.githubusercontent.com/tomsercu/lstm/master/data/{f}'\n",
    ")"
   ]
  },
  {
   "cell_type": "markdown",
   "id": "1124e25b",
   "metadata": {},
   "source": [
    "## Load text into dataset"
   ]
  },
  {
   "cell_type": "code",
   "execution_count": 3,
   "id": "7540c3e7",
   "metadata": {},
   "outputs": [],
   "source": [
    "ptb_ds = tf.data.TextLineDataset(\n",
    "    filenames=path_to_ptb, compression_type=None, buffer_size=None, num_parallel_reads=True\n",
    ")\\\n",
    ".filter(lambda x: tf.cast(tf.strings.length(x), bool))\\\n",
    ".shuffle(10000)"
   ]
  },
  {
   "cell_type": "code",
   "execution_count": 4,
   "id": "a1534239",
   "metadata": {},
   "outputs": [
    {
     "name": "stdout",
     "output_type": "stream",
     "text": [
      "b' so now the situation is this '\n"
     ]
    }
   ],
   "source": [
    "iterator = iter(ptb_ds)\n",
    "first = next(iterator).numpy()\n",
    "print(first)"
   ]
  },
  {
   "cell_type": "markdown",
   "id": "da1d3387",
   "metadata": {},
   "source": [
    "---\n",
    "# Example\n",
    "\n",
    "Generate a set of word indices using PTB and genereate word index sequence from the shakespeare.txt."
   ]
  },
  {
   "cell_type": "markdown",
   "id": "4d72fe03",
   "metadata": {},
   "source": [
    "## Generate the word indices from PTB"
   ]
  },
  {
   "cell_type": "code",
   "execution_count": 5,
   "id": "27fe621d",
   "metadata": {},
   "outputs": [],
   "source": [
    "from tensorflow.keras.layers.experimental.preprocessing import TextVectorization"
   ]
  },
  {
   "cell_type": "code",
   "execution_count": 6,
   "id": "cce6b0eb",
   "metadata": {},
   "outputs": [],
   "source": [
    "# --------------------------------------------------------------------------------\n",
    "# Fit to the words in the corpus\n",
    "# --------------------------------------------------------------------------------\n",
    "vectorizer = TextVectorization(\n",
    "    output_mode=\"int\",\n",
    "    ngrams=None           # 1 word = 1 token\n",
    ")\n",
    "vectorizer.adapt(ptb_ds)"
   ]
  },
  {
   "cell_type": "code",
   "execution_count": 11,
   "id": "501ac0f9",
   "metadata": {},
   "outputs": [],
   "source": [
    "vocabulrary = vectorizer.get_vocabulary()"
   ]
  },
  {
   "cell_type": "code",
   "execution_count": 18,
   "id": "c1ea8618",
   "metadata": {},
   "outputs": [],
   "source": [
    "v = np.array(vocabulrary)\n",
    "v.shape\n",
    "del vocabulrary"
   ]
  },
  {
   "cell_type": "code",
   "execution_count": 21,
   "id": "65e75dc7",
   "metadata": {},
   "outputs": [],
   "source": [
    "vocabulrary = vectorizer.get_vocabulary()"
   ]
  },
  {
   "cell_type": "code",
   "execution_count": 23,
   "id": "a3fcd50f",
   "metadata": {},
   "outputs": [
    {
     "data": {
      "text/plain": [
       "''"
      ]
     },
     "execution_count": 23,
     "metadata": {},
     "output_type": "execute_result"
    }
   ],
   "source": [
    "vocabulrary[0]"
   ]
  },
  {
   "cell_type": "markdown",
   "id": "c719dcc4",
   "metadata": {},
   "source": [
    "## Shakespeare text"
   ]
  },
  {
   "cell_type": "code",
   "execution_count": 8,
   "id": "a2a93e46",
   "metadata": {},
   "outputs": [],
   "source": [
    "path_to_shakespeare = tf.keras.utils.get_file(\n",
    "    'shakespeare.txt', \n",
    "    'https://storage.googleapis.com/download.tensorflow.org/data/shakespeare.txt'\n",
    ")"
   ]
  },
  {
   "cell_type": "code",
   "execution_count": 9,
   "id": "2cb0d8e8",
   "metadata": {},
   "outputs": [],
   "source": [
    "shakespeare_text_ds = tf.data.TextLineDataset(path_to_shakespeare)\\\n",
    "    .filter(lambda x: tf.cast(tf.strings.length(x), bool))"
   ]
  },
  {
   "cell_type": "code",
   "execution_count": 10,
   "id": "57982da3",
   "metadata": {},
   "outputs": [
    {
     "name": "stdout",
     "output_type": "stream",
     "text": [
      "b'First Citizen:'\n",
      "b'Before we proceed any further, hear me speak.'\n",
      "b'All:'\n",
      "b'Speak, speak.'\n",
      "b'First Citizen:'\n",
      "b'You are all resolved rather to die than to famish?'\n",
      "b'All:'\n",
      "b'Resolved. resolved.'\n",
      "b'First Citizen:'\n",
      "b'First, you know Caius Marcius is chief enemy to the people.'\n"
     ]
    }
   ],
   "source": [
    "shakespeare_iterator = shakespeare_text_ds.as_numpy_iterator()\n",
    "for line in itertools.islice(shakespeare_iterator, 10):\n",
    "    print(line)"
   ]
  },
  {
   "cell_type": "markdown",
   "id": "b0a5fae7",
   "metadata": {},
   "source": [
    "## Convert Shakespeare dataset into word index sequence"
   ]
  },
  {
   "cell_type": "code",
   "execution_count": 11,
   "id": "8b6609d4",
   "metadata": {},
   "outputs": [],
   "source": [
    "shakespeare_vector_ds = shakespeare_text_ds.batch(1024).prefetch(tf.data.AUTOTUNE).map(vectorizer).unbatch()\n",
    "# shakespeare_vector_ds = vectorizer(shakespeare_ds.batch(128).prefetch(tf.data.AUTOTUNE))"
   ]
  },
  {
   "cell_type": "code",
   "execution_count": 12,
   "id": "4f6c2579",
   "metadata": {},
   "outputs": [
    {
     "name": "stdout",
     "output_type": "stream",
     "text": [
      "word index sequence of the corpus:\n",
      "[  75 6613    0    0    0    0    0    0    0    0    0    0]\n",
      "\n"
     ]
    }
   ],
   "source": [
    "first_line = list(itertools.islice(shakespeare_vector_ds, 3))[0]\n",
    "second_line = list(itertools.islice(shakespeare_vector_ds, 3))[1]\n",
    "third_line = list(itertools.islice(shakespeare_vector_ds, 3))[2]\n",
    "print(f\"word index sequence of the corpus:\\n{first_line.numpy()}\\n\")"
   ]
  },
  {
   "cell_type": "code",
   "execution_count": 13,
   "id": "875883d6",
   "metadata": {},
   "outputs": [
    {
     "name": "stdout",
     "output_type": "stream",
     "text": [
      "[[b'first' b'citizen' b'' b'' b'' b'' b'' b'' b'' b'' b'' b'']]\n",
      "[[b'before' b'we' b'proceed' b'any' b'further' b'hear' b'me' b'speak' b'' b'' b'' b'']]\n",
      "[[b'all' b'' b'' b'' b'' b'' b'' b'' b'' b'' b'' b'']]\n"
     ]
    }
   ],
   "source": [
    "vocabulary = vectorizer.get_vocabulary()\n",
    "print(tf.gather_nd(vocabulary, indices=[first_line.numpy()[::, np.newaxis]]).numpy())\n",
    "print(tf.gather_nd(vocabulary, indices=[second_line.numpy()[::, np.newaxis]]).numpy())\n",
    "print(tf.gather_nd(vocabulary, indices=[third_line.numpy()[::, np.newaxis]]).numpy())"
   ]
  },
  {
   "cell_type": "code",
   "execution_count": null,
   "id": "2d28ebce",
   "metadata": {},
   "outputs": [],
   "source": []
  }
 ],
 "metadata": {
  "kernelspec": {
   "display_name": "Python 3",
   "language": "python",
   "name": "python3"
  },
  "language_info": {
   "codemirror_mode": {
    "name": "ipython",
    "version": 3
   },
   "file_extension": ".py",
   "mimetype": "text/x-python",
   "name": "python",
   "nbconvert_exporter": "python",
   "pygments_lexer": "ipython3",
   "version": "3.8.8"
  }
 },
 "nbformat": 4,
 "nbformat_minor": 5
}
