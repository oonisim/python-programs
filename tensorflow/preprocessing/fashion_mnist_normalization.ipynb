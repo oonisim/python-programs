{
 "cells": [
  {
   "cell_type": "code",
   "execution_count": 1,
   "metadata": {},
   "outputs": [],
   "source": [
    "# !conda install -y pandas"
   ]
  },
  {
   "cell_type": "code",
   "execution_count": 2,
   "metadata": {},
   "outputs": [
    {
     "name": "stdout",
     "output_type": "stream",
     "text": [
      "TensorFlow version: 2.10.0\n",
      "Eager execution is: True\n",
      "Keras version: 2.10.0\n"
     ]
    }
   ],
   "source": [
    "import tensorflow as tf\n",
    "print(\"TensorFlow version: {}\".format(tf.__version__))\n",
    "print(\"Eager execution is: {}\".format(tf.executing_eagerly()))\n",
    "print(\"Keras version: {}\".format(tf.keras.__version__))\n",
    "\n",
    "import pandas as pd\n",
    "import numpy as np\n",
    "import scipy as sp\n",
    "import matplotlib as mpl\n",
    "import matplotlib.pyplot as plt"
   ]
  },
  {
   "cell_type": "markdown",
   "metadata": {},
   "source": [
    "# Fashion MNIST\n",
    "<img src=\"images/fashion_mnist.png\"\n",
    "     alt=\"Markdown Monster icon\"\n",
    "     style=\"float: left; margin-right: 10px;\" \n",
    "     width=850/>"
   ]
  },
  {
   "cell_type": "markdown",
   "metadata": {},
   "source": [
    "## MNIST Utilities"
   ]
  },
  {
   "cell_type": "code",
   "execution_count": 3,
   "metadata": {},
   "outputs": [],
   "source": [
    "def plot_mnist_image(image):\n",
    "    reshaped = image.reshape(28, 28)\n",
    "    plt.imshow(reshaped, cmap=\"binary\")\n",
    "    plt.axis(\"off\")\n",
    "    \n",
    "def plot_mnist_images(instances, images_per_row=5, **options):\n",
    "    size = 28\n",
    "    images_per_row = min(len(instances), images_per_row)\n",
    "    images = [instance.reshape(size,size) for instance in instances]\n",
    "    n_rows = (len(instances) - 1) // images_per_row + 1\n",
    "    row_images = []\n",
    "    n_empty = n_rows * images_per_row - len(instances)\n",
    "    images.append(np.zeros((size, size * n_empty)))\n",
    "    for row in range(n_rows):\n",
    "        rimages = images[row * images_per_row : (row + 1) * images_per_row]\n",
    "        row_images.append(np.concatenate(rimages, axis=1))\n",
    "    image = np.concatenate(row_images, axis=0)\n",
    "    plt.imshow(image, cmap = mpl.cm.binary, **options)\n",
    "    plt.axis(\"off\")"
   ]
  },
  {
   "cell_type": "markdown",
   "metadata": {},
   "source": [
    "## Data loading"
   ]
  },
  {
   "cell_type": "code",
   "execution_count": 4,
   "metadata": {},
   "outputs": [
    {
     "name": "stdout",
     "output_type": "stream",
     "text": [
      "Downloading data from https://storage.googleapis.com/tensorflow/tf-keras-datasets/train-labels-idx1-ubyte.gz\n",
      "29515/29515 [==============================] - 0s 1us/step\n",
      "Downloading data from https://storage.googleapis.com/tensorflow/tf-keras-datasets/train-images-idx3-ubyte.gz\n",
      "26421880/26421880 [==============================] - 5s 0us/step\n",
      "Downloading data from https://storage.googleapis.com/tensorflow/tf-keras-datasets/t10k-labels-idx1-ubyte.gz\n",
      "5148/5148 [==============================] - 0s 0us/step\n",
      "Downloading data from https://storage.googleapis.com/tensorflow/tf-keras-datasets/t10k-images-idx3-ubyte.gz\n",
      "4422102/4422102 [==============================] - 1s 0us/step\n"
     ]
    }
   ],
   "source": [
    "fashion_mnist = tf.keras.datasets.fashion_mnist\n",
    "(x_train, y_train), (x_test, y_test) = fashion_mnist.load_data()"
   ]
  },
  {
   "cell_type": "code",
   "execution_count": 5,
   "metadata": {},
   "outputs": [
    {
     "name": "stdout",
     "output_type": "stream",
     "text": [
      "<class 'numpy.ndarray'>\n",
      "(60000, 28, 28)\n",
      "uint8\n",
      "(60000,)\n",
      "uint8\n"
     ]
    }
   ],
   "source": [
    "print(type(x_train))\n",
    "print(x_train.shape)\n",
    "print(x_train.dtype)\n",
    "print(y_train.shape)\n",
    "print(y_train.dtype)"
   ]
  },
  {
   "cell_type": "code",
   "execution_count": 6,
   "metadata": {},
   "outputs": [
    {
     "name": "stdout",
     "output_type": "stream",
     "text": [
      "<class 'numpy.ndarray'>\n",
      "(10000, 28, 28)\n",
      "uint8\n",
      "(10000,)\n",
      "uint8\n"
     ]
    }
   ],
   "source": [
    "print(type(x_test))\n",
    "print(x_test.shape)\n",
    "print(x_test.dtype)\n",
    "print(y_test.shape)\n",
    "print(y_test.dtype)"
   ]
  },
  {
   "cell_type": "code",
   "execution_count": 8,
   "metadata": {},
   "outputs": [
    {
     "data": {
      "image/png": "[encoded data removed]",
      "text/plain": [
       "<Figure size 640x480 with 1 Axes>"
      ]
     },
     "metadata": {},
     "output_type": "display_data"
    }
   ],
   "source": [
    "%matplotlib inline\n",
    "plot_mnist_image(x_train[0])\n",
    "plt.show()"
   ]
  },
  {
   "cell_type": "code",
   "execution_count": 10,
   "metadata": {
    "scrolled": true
   },
   "outputs": [
    {
     "data": {
      "image/png": "[encoded data removed]",
      "text/plain": [
       "<Figure size 640x480 with 1 Axes>"
      ]
     },
     "metadata": {},
     "output_type": "display_data"
    }
   ],
   "source": [
    "plot_mnist_images(x_train[0:5])"
   ]
  },
  {
   "cell_type": "code",
   "execution_count": 11,
   "metadata": {},
   "outputs": [
    {
     "data": {
      "text/plain": [
       "(70000, 28, 28)"
      ]
     },
     "execution_count": 11,
     "metadata": {},
     "output_type": "execute_result"
    }
   ],
   "source": [
    "x_full = np.concatenate((x_train, x_test), axis=0)\n",
    "x_full.shape"
   ]
  },
  {
   "cell_type": "code",
   "execution_count": 12,
   "metadata": {},
   "outputs": [
    {
     "name": "stderr",
     "output_type": "stream",
     "text": [
      "2023-02-15 14:18:03.965668: W tensorflow/core/platform/profile_utils/cpu_utils.cc:128] Failed to get CPU frequency: 0 Hz\n"
     ]
    }
   ],
   "source": [
    "# layer = tf.keras.layers.experimental.preprocessing.Normalization(dtype=tf.float32)\n",
    "layer = tf.keras.layers.Normalization(dtype=tf.float32)\n",
    "layer.adapt(x_full)"
   ]
  },
  {
   "cell_type": "code",
   "execution_count": 13,
   "metadata": {},
   "outputs": [
    {
     "data": {
      "text/plain": [
       "<tf.Tensor: shape=(60000, 28, 28), dtype=float32, numpy=\n",
       "array([[[-0.16739002, -0.23696606, -0.28488106, ..., -0.4691207 ,\n",
       "         -0.38316265, -0.24037507],\n",
       "        [-0.16739002, -0.23696606, -0.28488106, ..., -0.4691207 ,\n",
       "         -0.38316265, -0.24037507],\n",
       "        [-0.16739002, -0.23696606, -0.28488106, ..., -0.4691207 ,\n",
       "         -0.38316265, -0.24037507],\n",
       "        ...,\n",
       "        [-0.16739002, -0.23696606, -0.28488106, ..., -0.4691207 ,\n",
       "         -0.38316265, -0.24037507],\n",
       "        [-0.16739002, -0.23696606, -0.28488106, ..., -0.4691207 ,\n",
       "         -0.38316265, -0.24037507],\n",
       "        [-0.16739002, -0.23696606, -0.28488106, ..., -0.4691207 ,\n",
       "         -0.38316265, -0.24037507]],\n",
       "\n",
       "       [[-0.16739002, -0.23696606, -0.28488106, ..., -0.4691207 ,\n",
       "         -0.38316265, -0.24037507],\n",
       "        [-0.16739002, -0.23696606, -0.28488106, ..., -0.4691207 ,\n",
       "         -0.38316265, -0.24037507],\n",
       "        [-0.16739002, -0.23696606, -0.28488106, ..., -0.4691207 ,\n",
       "         -0.38316265, -0.24037507],\n",
       "        ...,\n",
       "        [-0.16739002, -0.23696606, -0.28488106, ..., -0.4691207 ,\n",
       "         -0.38316265, -0.24037507],\n",
       "        [-0.16739002, -0.23696606, -0.28488106, ..., -0.4691207 ,\n",
       "         -0.38316265, -0.24037507],\n",
       "        [-0.16739002, -0.23696606, -0.28488106, ..., -0.4691207 ,\n",
       "         -0.38316265, -0.24037507]],\n",
       "\n",
       "       [[-0.16739002, -0.23696606, -0.28488106, ..., -0.4691207 ,\n",
       "         -0.38316265, -0.24037507],\n",
       "        [-0.16739002, -0.23696606, -0.28488106, ..., -0.4691207 ,\n",
       "         -0.38316265, -0.24037507],\n",
       "        [-0.16739002, -0.23696606, -0.28488106, ..., -0.4691207 ,\n",
       "         -0.38316265, -0.24037507],\n",
       "        ...,\n",
       "        [-0.16739002, -0.23696606, -0.28488106, ..., -0.4691207 ,\n",
       "         -0.38316265, -0.24037507],\n",
       "        [-0.16739002, -0.23696606, -0.28488106, ..., -0.4691207 ,\n",
       "         -0.38316265, -0.24037507],\n",
       "        [-0.16739002, -0.23696606, -0.28488106, ..., -0.4691207 ,\n",
       "         -0.38316265, -0.24037507]],\n",
       "\n",
       "       ...,\n",
       "\n",
       "       [[-0.16739002, -0.23696606, -0.28488106, ..., -0.4691207 ,\n",
       "         -0.38316265, -0.24037507],\n",
       "        [-0.16739002, -0.23696606, -0.28488106, ..., -0.4691207 ,\n",
       "         -0.38316265, -0.24037507],\n",
       "        [-0.16739002, -0.23696606, -0.28488106, ..., -0.4691207 ,\n",
       "         -0.38316265, -0.24037507],\n",
       "        ...,\n",
       "        [-0.16739002, -0.23696606, -0.28488106, ..., -0.4691207 ,\n",
       "         -0.38316265, -0.24037507],\n",
       "        [-0.16739002, -0.23696606, -0.28488106, ..., -0.4691207 ,\n",
       "         -0.38316265, -0.24037507],\n",
       "        [-0.16739002, -0.23696606, -0.28488106, ..., -0.4691207 ,\n",
       "         -0.38316265, -0.24037507]],\n",
       "\n",
       "       [[-0.16739002, -0.23696606, -0.28488106, ..., -0.4691207 ,\n",
       "         -0.38316265, -0.24037507],\n",
       "        [-0.16739002, -0.23696606, -0.28488106, ..., -0.4691207 ,\n",
       "         -0.38316265, -0.24037507],\n",
       "        [-0.16739002, -0.23696606, -0.28488106, ..., -0.4691207 ,\n",
       "         -0.38316265, -0.24037507],\n",
       "        ...,\n",
       "        [-0.16739002, -0.23696606, -0.28488106, ..., -0.4691207 ,\n",
       "         -0.38316265, -0.24037507],\n",
       "        [-0.16739002, -0.23696606, -0.28488106, ..., -0.4691207 ,\n",
       "         -0.38316265, -0.24037507],\n",
       "        [-0.16739002, -0.23696606, -0.28488106, ..., -0.4691207 ,\n",
       "         -0.38316265, -0.24037507]],\n",
       "\n",
       "       [[-0.16739002, -0.23696606, -0.28488106, ..., -0.4691207 ,\n",
       "         -0.38316265, -0.24037507],\n",
       "        [-0.16739002, -0.23696606, -0.28488106, ..., -0.4691207 ,\n",
       "         -0.38316265, -0.24037507],\n",
       "        [-0.16739002, -0.23696606, -0.28488106, ..., -0.4691207 ,\n",
       "         -0.38316265, -0.24037507],\n",
       "        ...,\n",
       "        [-0.16739002, -0.23696606, -0.28488106, ..., -0.4691207 ,\n",
       "         -0.38316265, -0.24037507],\n",
       "        [-0.16739002, -0.23696606, -0.28488106, ..., -0.4691207 ,\n",
       "         -0.38316265, -0.24037507],\n",
       "        [-0.16739002, -0.23696606, -0.28488106, ..., -0.4691207 ,\n",
       "         -0.38316265, -0.24037507]]], dtype=float32)>"
      ]
     },
     "execution_count": 13,
     "metadata": {},
     "output_type": "execute_result"
    }
   ],
   "source": [
    "layer(x_train)"
   ]
  },
  {
   "cell_type": "code",
   "execution_count": 14,
   "metadata": {},
   "outputs": [
    {
     "data": {
      "text/plain": [
       "(<tf.Tensor: shape=(3,), dtype=float32, numpy=array([0.26726124, 0.5345225 , 0.8017837 ], dtype=float32)>,\n",
       " <tf.Tensor: shape=(1,), dtype=float32, numpy=array([3.7416575], dtype=float32)>)"
      ]
     },
     "execution_count": 14,
     "metadata": {},
     "output_type": "execute_result"
    }
   ],
   "source": [
    "hoge = tf.constant([1., 2., 3.])\n",
    "tf.linalg.normalize(hoge)"
   ]
  },
  {
   "cell_type": "code",
   "execution_count": 15,
   "metadata": {},
   "outputs": [
    {
     "data": {
      "text/plain": [
       "(<tf.Tensor: shape=(3,), dtype=float32, numpy=array([0.18257418, 0.36514837, 0.9128709 ], dtype=float32)>,\n",
       " <tf.Tensor: shape=(1,), dtype=float32, numpy=array([5.477226], dtype=float32)>)"
      ]
     },
     "execution_count": 15,
     "metadata": {},
     "output_type": "execute_result"
    }
   ],
   "source": [
    "tf_vector = tf.constant([1., 2., 5.])\n",
    "tf.linalg.normalize(tf_vector)"
   ]
  },
  {
   "cell_type": "code",
   "execution_count": 16,
   "metadata": {},
   "outputs": [
    {
     "data": {
      "text/plain": [
       "<tf.Tensor: shape=(3,), dtype=float32, numpy=array([0.18257418, 0.36514837, 0.9128709 ], dtype=float32)>"
      ]
     },
     "execution_count": 16,
     "metadata": {},
     "output_type": "execute_result"
    }
   ],
   "source": [
    "tf_vector / np.linalg.norm(tf_vector)"
   ]
  },
  {
   "cell_type": "code",
   "execution_count": 17,
   "metadata": {},
   "outputs": [
    {
     "data": {
      "text/plain": [
       "<tf.Tensor: shape=(1, 3), dtype=float32, numpy=array([[0.18257418, 0.36514837, 0.9128709 ]], dtype=float32)>"
      ]
     },
     "execution_count": 17,
     "metadata": {},
     "output_type": "execute_result"
    }
   ],
   "source": [
    "tf.keras.utils.normalize(tf_vector)"
   ]
  },
  {
   "cell_type": "code",
   "execution_count": 18,
   "metadata": {},
   "outputs": [],
   "source": [
    "tf_x_train = tf.keras.utils.normalize(x_train)"
   ]
  },
  {
   "cell_type": "code",
   "execution_count": 20,
   "metadata": {},
   "outputs": [
    {
     "data": {
      "text/plain": [
       "<TensorDataset element_spec=TensorSpec(shape=(60000, 28, 28), dtype=tf.uint8, name=None)>"
      ]
     },
     "execution_count": 20,
     "metadata": {},
     "output_type": "execute_result"
    }
   ],
   "source": [
    "tf.data.Dataset.from_tensors(x_train)"
   ]
  }
 ],
 "metadata": {
  "kernelspec": {
   "display_name": "Python 3 (ipykernel)",
   "language": "python",
   "name": "python3"
  },
  "language_info": {
   "codemirror_mode": {
    "name": "ipython",
    "version": 3
   },
   "file_extension": ".py",
   "mimetype": "text/x-python",
   "name": "python",
   "nbconvert_exporter": "python",
   "pygments_lexer": "ipython3",
   "version": "3.9.13"
  }
 },
 "nbformat": 4,
 "nbformat_minor": 4
}
