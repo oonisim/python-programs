{
 "cells": [
  {
   "cell_type": "code",
   "execution_count": 1,
   "id": "4b8ee4a7",
   "metadata": {},
   "outputs": [],
   "source": [
    "import numpy as np\n",
    "import tensorflow as tf"
   ]
  },
  {
   "cell_type": "code",
   "execution_count": null,
   "id": "208ae6b5",
   "metadata": {},
   "outputs": [],
   "source": []
  },
  {
   "cell_type": "code",
   "execution_count": 2,
   "id": "6862d34e",
   "metadata": {},
   "outputs": [
    {
     "data": {
      "text/plain": [
       "<tf.Tensor: shape=(4, 4), dtype=float32, numpy=\n",
       "array([[0.41002572, 0.5572917 , 0.7326478 , 0.82708335],\n",
       "       [0.42416453, 0.36249998, 0.36503854, 0.43333334],\n",
       "       [0.64524424, 0.7270833 , 0.24164528, 0.25416666],\n",
       "       [0.59383035, 0.65      , 0.18508995, 0.17916667]], dtype=float32)>"
      ]
     },
     "execution_count": 2,
     "metadata": {},
     "output_type": "execute_result"
    }
   ],
   "source": [
    "box = tf.constant([\n",
    "    [0.410025716, 0.557291687, 0.732647777, 0.827083349],\n",
    "    [0.424164534, 0.362499982, 0.365038544, 0.433333337],\n",
    "    [0.645244241, 0.727083325, 0.241645277, 0.254166663],\n",
    "    [0.593830347, 0.65, 0.185089946, 0.179166675]\n",
    "])\n",
    "box"
   ]
  },
  {
   "cell_type": "code",
   "execution_count": 12,
   "id": "7d0d87ee",
   "metadata": {},
   "outputs": [
    {
     "data": {
      "text/plain": [
       "<tf.Tensor: shape=(4, 1), dtype=float32, numpy=\n",
       "array([[12.],\n",
       "       [14.],\n",
       "       [12.],\n",
       "       [14.]], dtype=float32)>"
      ]
     },
     "execution_count": 12,
     "metadata": {},
     "output_type": "execute_result"
    }
   ],
   "source": [
    "index = tf.constant([[12], [14], [12], [14]], dtype=tf.dtypes.float32)\n",
    "index"
   ]
  },
  {
   "cell_type": "markdown",
   "id": "7cc3e67d",
   "metadata": {},
   "source": [
    "# Stack\n",
    "\n",
    "Stacks a list of rank ```R``` tensors **with the same shape and type** into one rank ```(R+1)``` tensor, hence **automatically add an axis**.\n",
    "\n",
    "> if axis == 0 then the output tensor will have the shape (N, A, B, C). if axis == 1 then the output tensor will have the shape (A, N, B, C). Etc.\n",
    "\n",
    "* [tf.stack](https://www.tensorflow.org/api_docs/python/tf/stack)\n",
    "\n",
    "> Stacks a list of rank-R tensors into one rank-(R+1) tensor.\n",
    "> ```\n",
    "> tf.stack(\n",
    ">     values, axis=0, name='stack'\n",
    "> )\n",
    "> ```\n",
    "> \n",
    "> * values:  \n",
    "> A list of Tensor objects with the **same shape and type**.\n",
    "\n",
    "```tf.concat``` does not change the rank (not add an axis)."
   ]
  },
  {
   "cell_type": "code",
   "execution_count": 13,
   "id": "df4d0d7e",
   "metadata": {},
   "outputs": [
    {
     "name": "stdout",
     "output_type": "stream",
     "text": [
      "box shape [4 4] index shape:  [4 1]\n"
     ]
    }
   ],
   "source": [
    "tf.print(\"box shape\", tf.shape(box), \"index shape: \", tf.shape(index))"
   ]
  },
  {
   "cell_type": "markdown",
   "id": "516bcd55",
   "metadata": {},
   "source": [
    "Failes because the shapes are different. ```tf.stack``` does not have the automatic broadcasting mechanism like in numpy."
   ]
  },
  {
   "cell_type": "code",
   "execution_count": 14,
   "id": "d1a1215c",
   "metadata": {},
   "outputs": [
    {
     "ename": "InvalidArgumentError",
     "evalue": "{{function_node __wrapped__Pack_N_2_device_/job:localhost/replica:0/task:0/device:CPU:0}} Shapes of all inputs must match: values[0].shape = [4,1] != values[1].shape = [4,4] [Op:Pack] name: stack",
     "output_type": "error",
     "traceback": [
      "\u001b[0;31m---------------------------------------------------------------------------\u001b[0m",
      "\u001b[0;31mInvalidArgumentError\u001b[0m                      Traceback (most recent call last)",
      "Cell \u001b[0;32mIn [14], line 1\u001b[0m\n\u001b[0;32m----> 1\u001b[0m \u001b[43mtf\u001b[49m\u001b[38;5;241;43m.\u001b[39;49m\u001b[43mstack\u001b[49m\u001b[43m(\u001b[49m\u001b[43m[\u001b[49m\u001b[43mindex\u001b[49m\u001b[43m,\u001b[49m\u001b[43m \u001b[49m\u001b[43mbox\u001b[49m\u001b[43m]\u001b[49m\u001b[43m)\u001b[49m\n",
      "File \u001b[0;32m~/venv/ml/lib/python3.9/site-packages/tensorflow/python/util/traceback_utils.py:153\u001b[0m, in \u001b[0;36mfilter_traceback.<locals>.error_handler\u001b[0;34m(*args, **kwargs)\u001b[0m\n\u001b[1;32m    151\u001b[0m \u001b[38;5;28;01mexcept\u001b[39;00m \u001b[38;5;167;01mException\u001b[39;00m \u001b[38;5;28;01mas\u001b[39;00m e:\n\u001b[1;32m    152\u001b[0m   filtered_tb \u001b[38;5;241m=\u001b[39m _process_traceback_frames(e\u001b[38;5;241m.\u001b[39m__traceback__)\n\u001b[0;32m--> 153\u001b[0m   \u001b[38;5;28;01mraise\u001b[39;00m e\u001b[38;5;241m.\u001b[39mwith_traceback(filtered_tb) \u001b[38;5;28;01mfrom\u001b[39;00m \u001b[38;5;28mNone\u001b[39m\n\u001b[1;32m    154\u001b[0m \u001b[38;5;28;01mfinally\u001b[39;00m:\n\u001b[1;32m    155\u001b[0m   \u001b[38;5;28;01mdel\u001b[39;00m filtered_tb\n",
      "File \u001b[0;32m~/venv/ml/lib/python3.9/site-packages/tensorflow/python/framework/ops.py:7209\u001b[0m, in \u001b[0;36mraise_from_not_ok_status\u001b[0;34m(e, name)\u001b[0m\n\u001b[1;32m   7207\u001b[0m \u001b[38;5;28;01mdef\u001b[39;00m \u001b[38;5;21mraise_from_not_ok_status\u001b[39m(e, name):\n\u001b[1;32m   7208\u001b[0m   e\u001b[38;5;241m.\u001b[39mmessage \u001b[38;5;241m+\u001b[39m\u001b[38;5;241m=\u001b[39m (\u001b[38;5;124m\"\u001b[39m\u001b[38;5;124m name: \u001b[39m\u001b[38;5;124m\"\u001b[39m \u001b[38;5;241m+\u001b[39m name \u001b[38;5;28;01mif\u001b[39;00m name \u001b[38;5;129;01mis\u001b[39;00m \u001b[38;5;129;01mnot\u001b[39;00m \u001b[38;5;28;01mNone\u001b[39;00m \u001b[38;5;28;01melse\u001b[39;00m \u001b[38;5;124m\"\u001b[39m\u001b[38;5;124m\"\u001b[39m)\n\u001b[0;32m-> 7209\u001b[0m   \u001b[38;5;28;01mraise\u001b[39;00m core\u001b[38;5;241m.\u001b[39m_status_to_exception(e) \u001b[38;5;28;01mfrom\u001b[39;00m \u001b[38;5;28mNone\u001b[39m\n",
      "\u001b[0;31mInvalidArgumentError\u001b[0m: {{function_node __wrapped__Pack_N_2_device_/job:localhost/replica:0/task:0/device:CPU:0}} Shapes of all inputs must match: values[0].shape = [4,1] != values[1].shape = [4,4] [Op:Pack] name: stack"
     ]
    }
   ],
   "source": [
    "tf.stack([index, box])"
   ]
  },
  {
   "cell_type": "markdown",
   "id": "72ef7646",
   "metadata": {},
   "source": [
    "---\n",
    "# tf.concat\n",
    "\n",
    "* [tf.concat](https://www.tensorflow.org/api_docs/python/tf/concat)\n",
    "\n",
    "```\n",
    "tf.concat(\n",
    "    values, axis, name='concat'\n",
    ")\n",
    "```\n",
    "\n",
    "\n",
    "> * axis : Mandatory argument of ```0``` - ```D``` int32 Tensor.   \n",
    "> Dimension along which to concatenate. Must be in the range ```[-rank(values), rank(values))```.   \n",
    "> Positive axis in the rage of ```[0, rank(values))``` refers to ```axis-th``` dimension and Negative axis refers to ```axis + rank(values)```-th dimension."
   ]
  },
  {
   "cell_type": "code",
   "execution_count": 15,
   "id": "3fa9ee65",
   "metadata": {},
   "outputs": [
    {
     "data": {
      "text/plain": [
       "<tf.Tensor: shape=(4, 5), dtype=float32, numpy=\n",
       "array([[12.        ,  0.41002572,  0.5572917 ,  0.7326478 ,  0.82708335],\n",
       "       [14.        ,  0.42416453,  0.36249998,  0.36503854,  0.43333334],\n",
       "       [12.        ,  0.64524424,  0.7270833 ,  0.24164528,  0.25416666],\n",
       "       [14.        ,  0.59383035,  0.65      ,  0.18508995,  0.17916667]],\n",
       "      dtype=float32)>"
      ]
     },
     "execution_count": 15,
     "metadata": {},
     "output_type": "execute_result"
    }
   ],
   "source": [
    "tf.concat([index, box], axis=-1)"
   ]
  },
  {
   "cell_type": "code",
   "execution_count": null,
   "id": "b6f70185",
   "metadata": {},
   "outputs": [],
   "source": []
  }
 ],
 "metadata": {
  "kernelspec": {
   "display_name": "Python 3 (ipykernel)",
   "language": "python",
   "name": "python3"
  },
  "language_info": {
   "codemirror_mode": {
    "name": "ipython",
    "version": 3
   },
   "file_extension": ".py",
   "mimetype": "text/x-python",
   "name": "python",
   "nbconvert_exporter": "python",
   "pygments_lexer": "ipython3",
   "version": "3.9.13"
  }
 },
 "nbformat": 4,
 "nbformat_minor": 5
}
