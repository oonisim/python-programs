{
 "cells": [
  {
   "cell_type": "markdown",
   "id": "28a1af6a",
   "metadata": {},
   "source": [
    "# Layer Regularizer\n",
    "\n",
    "* [Layer weight regularizers](https://keras.io/api/layers/regularizers/)\n",
    "* [What is the difference between kernel, bias, and activity regulizers, and when to use which?](https://stats.stackexchange.com/questions/383310/)"
   ]
  },
  {
   "cell_type": "markdown",
   "id": "aa3e92eb",
   "metadata": {},
   "source": [
    "Regression equation ```y=Wx+b```, where ```x``` is the input, ```W``` the weights matrix and ```b``` the bias.\n",
    "\n",
    "* Kernel Regularizer: Regularize weights ```W``` (excluding bias) to address **overfit** (sensitivity) to variations/errors in data.\n",
    "* Bias Regularizer: Regularize bias ```b``` to address **underfit** (\n",
    "* Activity Regularizer: Regularize both weights and bias.\n"
   ]
  },
  {
   "cell_type": "markdown",
   "id": "1fbecc24",
   "metadata": {},
   "source": [
    "\n",
    "* [Keras Github - Difference between Activity and weight regularizer #3236](https://github.com/keras-team/keras/issues/3236)\n",
    "\n",
    "> Weight regularizer is to regularize your weight, simply put, your matrix --> lead to robust to data sensetivity.<br>\n",
    "> However, if you normalize your target and add **batch normalization** in your net, you should be able to not using this regularizer. Activity regularizer is to regularize your hidden unit ---> e.g., sparse encoder"
   ]
  },
  {
   "cell_type": "code",
   "execution_count": null,
   "id": "42c09577",
   "metadata": {},
   "outputs": [],
   "source": []
  }
 ],
 "metadata": {
  "kernelspec": {
   "display_name": "Python 3 (ipykernel)",
   "language": "python",
   "name": "python3"
  },
  "language_info": {
   "codemirror_mode": {
    "name": "ipython",
    "version": 3
   },
   "file_extension": ".py",
   "mimetype": "text/x-python",
   "name": "python",
   "nbconvert_exporter": "python",
   "pygments_lexer": "ipython3",
   "version": "3.8.8"
  }
 },
 "nbformat": 4,
 "nbformat_minor": 5
}
