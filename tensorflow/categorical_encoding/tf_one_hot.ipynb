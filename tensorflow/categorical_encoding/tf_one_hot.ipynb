{
 "cells": [
  {
   "cell_type": "markdown",
   "id": "60eda110",
   "metadata": {},
   "source": [
    "# Idea\n",
    "\n",
    "Utilize ```tf.lookup``` module for mapping.\n",
    "\n",
    "1. Use [tf.lookup.KeyValueTensorInitializer] (https://www.tensorflow.org/api_docs/python/tf/lookup/KeyValueTensorInitializer) as the backend of (key, value) lookup table.\n",
    "```\n",
    "tf.lookup.KeyValueTensorInitializer(\n",
    "    keys, values, key_dtype=None, value_dtype=None, name=None\n",
    ")\n",
    "```\n",
    "\n",
    "2. Use [tf.lookup.StaticVocabularyTable](https://www.tensorflow.org/api_docs/python/tf/lookup/StaticVocabularyTable)  for string to index map that can handle unkonwn vocabulary tokens using OOV buckets.\n",
    "```\n",
    "tf.lookup.StaticVocabularyTable(\n",
    "    initializer,                     # <--- KeyValueTensorInitializer instance\n",
    "    num_oov_buckets,                 # <--- Number of buckets to manage unknown vocaburary\n",
    "    lookup_key_dtype=None,\n",
    "    name=None,\n",
    "    experimental_is_anonymous=False\n",
    ")\n",
    "```\n",
    "\n",
    "3. Run strings to ```indices``` mapping to get the indices to the strings.\n",
    "4. Run [tf.one_hot](https://www.tensorflow.org/api_docs/python/tf/one_hot) to get the One Hot Encoding. \n",
    "```\n",
    "tf.one_hot(\n",
    "    indices=indices,\n",
    "    depth=len(vocabulary+num_oov_buckets),    # Add num_oov_buckets to encode unknown strings\n",
    "    on_value=None,\n",
    "    off_value=None,\n",
    "    axis=None,\n",
    "    dtype=None,\n",
    "    name=None\n",
    ")\n",
    "```\n",
    "\n",
    "\n",
    "# tf.lookup module\n",
    "\n",
    "> The tf.lookup module provides several types of tables, including:\n",
    "> * tf.lookup.StaticHashTable: This is a read-only table that is initialized from a set of keys and values at graph construction time.\n",
    "> * tf.lookup.MutableHashTable: This is a mutable table that allows you to insert, delete, and update entries at runtime.\n",
    "> * tf.lookup.StaticVocabularyTable: This is a read-only table that maps strings to integers using a fixed vocabulary.\n",
    "> * tf.lookup.TextFileInitializer: This is a table initializer that loads key-value pairs from a text file.\n",
    "> \n",
    "> Common use cases for tf.lookup include:\n",
    "> \n",
    "> * **Indexing into embeddings**:   \n",
    "> You can use tf.lookup.StaticHashTable to map sparse indices to dense embeddings, allowing you to efficiently store and retrieve embeddings for large sparse inputs.\n",
    "> * **Vocabulary lookup**:  \n",
    "> You can use tf.lookup.StaticVocabularyTable to map words to integers in a fixed vocabulary, which is often used in natural language processing tasks like text classification or sequence modeling.\n",
    "> * **Label mapping**:  \n",
    "> You can use tf.lookup.MutableHashTable to map labels or categories to integers, allowing you to perform classification or regression tasks.\n",
    "> * **Data preprocessing**:  \n",
    "> You can use tf.lookup.TextFileInitializer to load preprocessed data from a text file, which can be useful for tasks like data augmentation or data filtering."
   ]
  },
  {
   "cell_type": "code",
   "execution_count": 2,
   "id": "68b6a832",
   "metadata": {},
   "outputs": [],
   "source": [
    "from typing import (\n",
    "    List,\n",
    ")\n",
    "import numpy as np\n",
    "import tensorflow as tf"
   ]
  },
  {
   "cell_type": "markdown",
   "id": "eb5d1819",
   "metadata": {},
   "source": [
    "# (key, value) lookup table backend\n",
    "\n",
    "* keys = vocabulary\n",
    "* values = indices (sequential number from 0 to len(vocabulary).\n",
    "\n",
    "Note [StaticVocabularyTable](https://github.com/tensorflow/tensorflow/blob/v2.11.0/tensorflow/python/ops/lookup_ops.py#L1298-L1300) requires ```tf.int64``` as the value dype.\n",
    "\n",
    "```\n",
    "if initializer.value_dtype != dtypes.int64:\n",
    "    raise TypeError(\n",
    "        \"Invalid `value_dtype`, expected %s but got %s.\" %\n",
    "        (dtypes.int64, initializer.value_dtype)\n",
    "    )\n",
    "```\n"
   ]
  },
  {
   "cell_type": "code",
   "execution_count": 11,
   "id": "16f53385",
   "metadata": {},
   "outputs": [],
   "source": [
    "vocabulary: List[str] = [\"INLAND\", \"NEAR OCEARN\", \"NEAR BAY\", \"ISLAND\"]\n",
    "indices = tf.range(\n",
    "    len(vocabulary), \n",
    "    dtype=tf.int64     # <--- need to be int64 due to StaticVocabularyTable\n",
    ")"
   ]
  },
  {
   "cell_type": "code",
   "execution_count": 12,
   "id": "bbcb1c5b",
   "metadata": {},
   "outputs": [],
   "source": [
    "table_initializer: tf.lookup.KeyValueTensorInitializer = tf.lookup.KeyValueTensorInitializer(\n",
    "    keys=vocabulary, \n",
    "    values=indices, \n",
    "    key_dtype=tf.dtypes.string, \n",
    "    value_dtype=tf.dtypes.int64, \n",
    "    name=None\n",
    ")"
   ]
  },
  {
   "cell_type": "markdown",
   "id": "28dd4bbf",
   "metadata": {},
   "source": [
    "# String to index mapping with OOV"
   ]
  },
  {
   "cell_type": "code",
   "execution_count": 19,
   "id": "262a26cc",
   "metadata": {},
   "outputs": [],
   "source": [
    "num_oov_buckets: int = 5\n",
    "    \n",
    "lookup_table = tf.lookup.StaticVocabularyTable(\n",
    "    initializer=table_initializer,\n",
    "    num_oov_buckets=num_oov_buckets,\n",
    "    lookup_key_dtype=tf.dtypes.string,    \n",
    "    name=None,\n",
    "    experimental_is_anonymous=False\n",
    ")"
   ]
  },
  {
   "cell_type": "code",
   "execution_count": 20,
   "id": "90e8f63e",
   "metadata": {},
   "outputs": [
    {
     "data": {
      "text/plain": [
       "<tf.Tensor: shape=(2,), dtype=int64, numpy=array([0, 7])>"
      ]
     },
     "execution_count": 20,
     "metadata": {},
     "output_type": "execute_result"
    }
   ],
   "source": [
    "indices = lookup_table.lookup(tf.constant([\"INLAND\", \"INVALID\"]))\n",
    "indices"
   ]
  },
  {
   "cell_type": "markdown",
   "id": "a399f6a2",
   "metadata": {},
   "source": [
    "# One Hot Encode"
   ]
  },
  {
   "cell_type": "code",
   "execution_count": 21,
   "id": "43872879",
   "metadata": {},
   "outputs": [
    {
     "data": {
      "text/plain": [
       "<tf.Tensor: shape=(2, 9), dtype=float32, numpy=\n",
       "array([[1., 0., 0., 0., 0., 0., 0., 0., 0.],\n",
       "       [0., 0., 0., 0., 0., 0., 0., 1., 0.]], dtype=float32)>"
      ]
     },
     "execution_count": 21,
     "metadata": {},
     "output_type": "execute_result"
    }
   ],
   "source": [
    "tf.one_hot(\n",
    "    indices=indices,\n",
    "    depth=len(vocabulary)+num_oov_buckets\n",
    ")"
   ]
  },
  {
   "cell_type": "code",
   "execution_count": null,
   "id": "ded846bb",
   "metadata": {},
   "outputs": [],
   "source": []
  }
 ],
 "metadata": {
  "kernelspec": {
   "display_name": "Python 3 (ipykernel)",
   "language": "python",
   "name": "python3"
  },
  "language_info": {
   "codemirror_mode": {
    "name": "ipython",
    "version": 3
   },
   "file_extension": ".py",
   "mimetype": "text/x-python",
   "name": "python",
   "nbconvert_exporter": "python",
   "pygments_lexer": "ipython3",
   "version": "3.9.13"
  }
 },
 "nbformat": 4,
 "nbformat_minor": 5
}
