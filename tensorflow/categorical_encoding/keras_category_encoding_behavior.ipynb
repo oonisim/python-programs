{
 "cells": [
  {
   "cell_type": "markdown",
   "id": "fb3f17ad",
   "metadata": {},
   "source": [
    "# tf.keras.layers.CategoryEncoding behavior\n",
    "\n",
    "* [tf.keras.layers.CategoryEncoding](https://www.tensorflow.org/api_docs/python/tf/keras/layers/CategoryEncoding)\n",
    "\n",
    "Keras preprocessing Category encoding layer.\n",
    "\n",
    "## References\n",
    "\n",
    "* [Explanation of tf.keras.layers.CategoryEncoding output_mode='multi_hot' behavior](https://stackoverflow.com/questions/69792031/explanation-of-tf-keras-layers-categoryencoding-output-mode-multi-hot-behavior)\n",
    "\n",
    "* https://github.com/tensorflow/tensorflow/issues/52892\n",
    "\n",
    "* [Classify structured data using Keras preprocessing layers](https://www.tensorflow.org/tutorials/structured_data/preprocessing_layers)\n",
    "\n",
    "> This tutorial demonstrates how to classify structured data, such as tabular data, using a simplified version of the PetFinder dataset from a Kaggle competition stored in a CSV file."
   ]
  },
  {
   "cell_type": "code",
   "execution_count": 1,
   "id": "acf80e7f",
   "metadata": {},
   "outputs": [],
   "source": [
    "import tensorflow as tf\n",
    "import numpy as np"
   ]
  },
  {
   "cell_type": "markdown",
   "id": "e90223bf",
   "metadata": {},
   "source": [
    "## Category Encoding (OHE/MHE) Layer in Keras\n",
    "\n",
    "```CategoryEncoding``` layer takes an integer column and produce OHE or MHE encodinged columns. It can NOT accept string, hence string columns or discreet integer columns need to be converted into continuous integers via StringLookup or IntegerLookup.\n",
    "\n",
    "* [CategoryEncoding(num_tokens=None, output_mode=<>)](https://www.tensorflow.org/api_docs/python/tf/keras/layers/CategoryEncoding)\n",
    "\n",
    "### One Hot Encoding vs Multi Hot Encoding\n",
    "\n",
    "MHE is to save the space. For ```data=['cat', 'dog', 'fish', 'bird', 'ant']```, OHE requires ```N=5``` size array such as ```(1,0,0,0,0)``` for **cat**. MHE uses binary representation hence requires $log_2(N=5)$ size array such as ```[0,0,0]``` for **cat**.\n",
    "\n",
    "\n",
    "* [What exactly is multi-hot encoding and how is it different from one-hot?](https://stats.stackexchange.com/a/467672)\n",
    "\n",
    "> multi-hot-encoding introduces false additive relationships, e.g. ```[0,0,1] + [0,1,0] = [0,1,1]``` that is ```'dog' + 'fish' = 'bird'```. That is the price you pay for the reduced representation."
   ]
  },
  {
   "cell_type": "markdown",
   "id": "738afb03",
   "metadata": {},
   "source": [
    "## Convert categorical into MHE\n",
    "\n",
    "Convert a TF dataset categorical column (single TF Tensor) into MHE columns (single Tensor having multiple columns)."
   ]
  },
  {
   "cell_type": "code",
   "execution_count": 103,
   "id": "a38ff775",
   "metadata": {},
   "outputs": [
    {
     "data": {
      "text/plain": [
       "['[UNK]', 'fish', 'dog', 'cat', 'bird']"
      ]
     },
     "execution_count": 103,
     "metadata": {},
     "output_type": "execute_result"
    }
   ],
   "source": [
    "dataset = tf.data.Dataset.from_tensor_slices(tf.constant(['cat', 'dog', 'fish', 'bird']))\n",
    "\n",
    "lookup = tf.keras.layers.StringLookup(max_tokens=5, oov_token='[UNK]')\n",
    "lookup.adapt(dataset)\n",
    "lookup.get_vocabulary()"
   ]
  },
  {
   "cell_type": "code",
   "execution_count": 102,
   "id": "5448787f",
   "metadata": {},
   "outputs": [],
   "source": [
    "mhe = tf.keras.layers.CategoryEncoding(num_tokens=lookup.vocabulary_size(), output_mode=\"multi_hot\")\n",
    "print(f\"cat: {mhe(lookup(tf.constant('cat'))).numpy()}\")\n",
    "print(f\"dog: {mhe(lookup(tf.constant('dog'))).numpy()}\")"
   ]
  },
  {
   "cell_type": "markdown",
   "id": "0f5aec2f",
   "metadata": {},
   "source": [
    "## Convert categorical into OHE"
   ]
  },
  {
   "cell_type": "code",
   "execution_count": 124,
   "id": "8f8f6285",
   "metadata": {},
   "outputs": [
    {
     "name": "stdout",
     "output_type": "stream",
     "text": [
      "cat: [0. 0. 0. 1. 0.]\n",
      "dog: [0. 0. 1. 0. 0.]\n"
     ]
    }
   ],
   "source": [
    "ohe = tf.keras.layers.CategoryEncoding(num_tokens=lookup.vocabulary_size(), output_mode=\"one_hot\")\n",
    "print(f\"cat: {ohe(lookup(tf.constant('cat'))).numpy()}\")\n",
    "print(f\"dog: {ohe(lookup(tf.constant('dog'))).numpy()}\")"
   ]
  },
  {
   "cell_type": "code",
   "execution_count": 130,
   "id": "5cd88575",
   "metadata": {},
   "outputs": [
    {
     "name": "stdout",
     "output_type": "stream",
     "text": [
      "[[0. 0. 0. 1. 0.]\n",
      " [0. 0. 1. 0. 0.]]\n"
     ]
    }
   ],
   "source": [
    "print(ohe(lookup(tf.constant(['cat', 'dog']))).numpy())"
   ]
  },
  {
   "cell_type": "markdown",
   "id": "2ebe12df",
   "metadata": {},
   "source": [
    "# Handling multiple values\n",
    "\n",
    "CategoryEncoding with ```output_mode='multi_hot' behavior``` does not convert a list of values. Instead, need to be 2D array."
   ]
  },
  {
   "cell_type": "code",
   "execution_count": 135,
   "id": "25dd8c6c",
   "metadata": {},
   "outputs": [
    {
     "name": "stdout",
     "output_type": "stream",
     "text": [
      "[0. 0. 1. 1. 1.]\n"
     ]
    }
   ],
   "source": [
    "# Does not handle 1D array values\n",
    "print(mhe(lookup(tf.constant(['cat', 'dog', 'bird']))).numpy())"
   ]
  },
  {
   "cell_type": "code",
   "execution_count": 136,
   "id": "679be7a4",
   "metadata": {},
   "outputs": [
    {
     "name": "stdout",
     "output_type": "stream",
     "text": [
      "[[0. 0. 0. 1. 0.]\n",
      " [0. 0. 1. 0. 0.]]\n"
     ]
    }
   ],
   "source": [
    "# Need to be 2D array values\n",
    "print(mhe(lookup(tf.constant([['cat'], ['dog']]))).numpy())"
   ]
  }
 ],
 "metadata": {
  "kernelspec": {
   "display_name": "Python 3 (ipykernel)",
   "language": "python",
   "name": "python3"
  },
  "language_info": {
   "codemirror_mode": {
    "name": "ipython",
    "version": 3
   },
   "file_extension": ".py",
   "mimetype": "text/x-python",
   "name": "python",
   "nbconvert_exporter": "python",
   "pygments_lexer": "ipython3",
   "version": "3.8.10"
  }
 },
 "nbformat": 4,
 "nbformat_minor": 5
}
