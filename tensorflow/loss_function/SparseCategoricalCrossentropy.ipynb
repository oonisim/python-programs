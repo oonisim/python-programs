{
 "cells": [
  {
   "cell_type": "markdown",
   "id": "0877cea0",
   "metadata": {},
   "source": [
    "# SparseCategoricalCrossentropy\n",
    "\n",
    "* [SparseCategoricalCrossentropy](https://www.tensorflow.org/api_docs/python/tf/keras/losses/SparseCategoricalCrossentropy)"
   ]
  },
  {
   "cell_type": "markdown",
   "id": "39b6a3b4",
   "metadata": {},
   "source": [
    "---\n",
    "\n",
    "## SparseCategoricalCrossentropy vs CategoricalCrossentropy"
   ]
  },
  {
   "cell_type": "markdown",
   "id": "ce94bf8b",
   "metadata": {},
   "source": [
    "* [Selecting loss and metrics for Tensorflow model](https://stackoverflow.com/questions/67848962/selecting-loss-and-metrics-for-tensorflow-model)\n",
    "\n",
    "```\n",
    "model.compile(\n",
    "    optimizer=keras.optimizers.Adam(),\n",
    "    loss=keras.losses.SparseCategoricalCrossentropy(from_logits=True),\n",
    "    metrics=[keras.metrics.Accuracy()],\n",
    ")\n",
    "```\n",
    "\n",
    "> 'm not sure whether it should be SparseCategoricalCrossentropy or CategoricalCrossentropy, and what about from_logits parameter?\n",
    "\n",
    "> I'm also not sure whether should I choose for metricskeras.metrics.Accuracy() or keras.metrics.CategoricalAccuracy()\n",
    "\n",
    "\n",
    "### SparseCategoricalCrossentropy \n",
    "\n",
    "SparseCategoricalCrossentropy is for **Index Label** and use [SparseCategoricalAccuracy](https://www.tensorflow.org/api_docs/python/tf/keras/metrics/SparseCategoricalAccuracy)\n",
    "\n",
    "### CategoricalCrossentropy \n",
    "CategoricalCrossentropy is for **OHE (One Hot Encoding) label** and use [categorical_accuracy](https://www.tensorflow.org/api_docs/python/tf/keras/metrics/categorical_accuracy)\n",
    "\n"
   ]
  },
  {
   "cell_type": "markdown",
   "id": "a2a9e1b9",
   "metadata": {},
   "source": [
    "---\n",
    "\n",
    "## from_logits argument"
   ]
  },
  {
   "cell_type": "markdown",
   "id": "92b0958c",
   "metadata": {},
   "source": [
    "### from_logits = True\n",
    "Telling the loss function that the input is **logits** (directly from MatMul without normalizing logits).\n",
    "\n",
    "```\n",
    "# Use softmax activation (no logits output)\n",
    "outputs = keras.layers.Dense(102, activation='softmax')(x)\n",
    "...\n",
    "model.compile(\n",
    "    optimizer=keras.optimizers.Adam(),\n",
    "    loss=keras.losses.SparseCategoricalCrossentropy(from_logits=False),\n",
    "    metrics=[keras.metrics.Accuracy()],\n",
    ")\n",
    "```\n",
    "\n",
    "### from_logits = False\n",
    "Telling the loss function that the input is **probability** that has been **normalized via softmax**. \n",
    "\n",
    "```\n",
    "# no activation, output will be logits\n",
    "outputs = keras.layers.Dense(102)(x)\n",
    "...\n",
    "model.compile(\n",
    "    optimizer=keras.optimizers.Adam(),\n",
    "    loss=keras.losses.SparseCategoricalCrossentropy(from_logits=True),\n",
    "    metrics=[keras.metrics.Accuracy()],\n",
    ")\n",
    "```\n"
   ]
  },
  {
   "cell_type": "markdown",
   "id": "73f3ecfc",
   "metadata": {},
   "source": [
    "---\n",
    "## reduction argument\n",
    "\n",
    "* [How does TensorFlow SparseCategoricalCrossentropy work?\n",
    "](https://stackoverflow.com/a/59872518/4281353)\n",
    "\n",
    "> The second argument to  SparseCategoricalCrossentropy is **reduction**. It is normally set to 'auto', which computes the categorical cross-entropy as normal, which is the **average of ```label*log(pred)```**. <br><br>But setting the value to 'none' will actually give you **each element of the categorical cross-entropy ```label*log(pred)```**, which is of shape (batch_size). Computing a reduce_mean on this list will give you the same result as with reduction='auto'."
   ]
  },
  {
   "cell_type": "code",
   "execution_count": null,
   "id": "319dd85e",
   "metadata": {},
   "outputs": [],
   "source": []
  }
 ],
 "metadata": {
  "kernelspec": {
   "display_name": "Python 3 (ipykernel)",
   "language": "python",
   "name": "python3"
  },
  "language_info": {
   "codemirror_mode": {
    "name": "ipython",
    "version": 3
   },
   "file_extension": ".py",
   "mimetype": "text/x-python",
   "name": "python",
   "nbconvert_exporter": "python",
   "pygments_lexer": "ipython3",
   "version": "3.8.8"
  }
 },
 "nbformat": 4,
 "nbformat_minor": 5
}
