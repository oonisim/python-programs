{
 "cells": [
  {
   "cell_type": "markdown",
   "id": "1754e2cf",
   "metadata": {},
   "source": [
    "# Graph Mode Limitations\n",
    "\n"
   ]
  },
  {
   "cell_type": "markdown",
   "id": "bd29c6c3",
   "metadata": {},
   "source": [
    "# Cannot Use\n",
    "\n",
    "* Conditional (if, assert, etc) on Python bool -> use tf.cond.\n",
    "* -1 to reshape.\n",
    "* for/while -> Use ```tf.while_loop``` or ```tf.py_function```.\n",
    "* if -> Use ```tf.cond``` or ```tf.py_function```.\n",
    "* print -> Use ```tf.print```\n",
    "* assert -> Use ```tf.debugging.assert_```\n",
    "* tf.Tensor.shape attribute -> Use ```tf.shape()```\n",
    "* tf.Tensor.ndim attribute"
   ]
  },
  {
   "cell_type": "markdown",
   "id": "80568ad7",
   "metadata": {},
   "source": [
    "## Cannot use -1 in reshape\n",
    "\n",
    "* [flattening operation using tf.reshape inside @tf.function graph raises ValueError #46776](https://github.com/tensorflow/tensorflow/issues/46776)\n",
    "\n",
    "```\n",
    "responsible_boxes: tf.Tensor = tf.einsum(\n",
    "    \"nbd,nb->nd\",\n",
    "    # Reshape using -1 cause an error ValueError: Shape must be rank 1 but is rank 0\n",
    "    # https://github.com/tensorflow/tensorflow/issues/46776\n",
    "    # tf.reshape(tensor=bounding_boxes, shape=(self.N, self.B, -1)), # <--- Causes error\n",
    "    tf.reshape(tensor=bounding_boxes, shape=(self.N, self.B, self.P)),\n",
    "    tf.one_hot(\n",
    "        # indices=tf.reshape(tensor=best_box_indices, shape=(-1)),\n",
    "        indices=tf.reshape(tensor=best_box_indices, shape=(self.N,)),\n",
    "        depth=self.B,\n",
    "        dtype=bounding_boxes.dtype\n",
    "    )\n",
    ")\n",
    "```"
   ]
  },
  {
   "cell_type": "code",
   "execution_count": null,
   "id": "4e44c2a2",
   "metadata": {},
   "outputs": [],
   "source": []
  }
 ],
 "metadata": {
  "kernelspec": {
   "display_name": "Python 3 (ipykernel)",
   "language": "python",
   "name": "python3"
  },
  "language_info": {
   "codemirror_mode": {
    "name": "ipython",
    "version": 3
   },
   "file_extension": ".py",
   "mimetype": "text/x-python",
   "name": "python",
   "nbconvert_exporter": "python",
   "pygments_lexer": "ipython3",
   "version": "3.9.13"
  }
 },
 "nbformat": 4,
 "nbformat_minor": 5
}
