{
 "cells": [
  {
   "cell_type": "markdown",
   "id": "1754e2cf",
   "metadata": {},
   "source": [
    "# Switch Eager / Graph Execution\n",
    "\n",
    "* [tf.executing_eagerly](https://www.tensorflow.org/api_docs/python/tf/executing_eagerly)\n",
    "\n",
    "> Checks whether the current thread has eager execution enabled.\n",
    "\n",
    "* [tf.config.run_functions_eagerly](https://www.tensorflow.org/api_docs/python/tf/config/run_functions_eagerly)\n",
    "\n",
    "> Enables / disables eager execution of tf.functions."
   ]
  },
  {
   "cell_type": "markdown",
   "id": "bd29c6c3",
   "metadata": {},
   "source": [
    "## Graph Mode\n",
    "\n",
    "Cannot use:\n",
    "\n",
    "* for/while -> Use ```tf.while_loop``` or ```tf.py_function```.\n",
    "* if -> Use ```tf.cond``` or ```tf.py_function```.\n",
    "* print -> Use ```tf.print```\n",
    "* assert\n",
    "* tf.Tensor.shape attribute -> Use ```tf.shape()```\n",
    "* tf.Tensor.ndim attribute"
   ]
  },
  {
   "cell_type": "code",
   "execution_count": 1,
   "id": "4d83e7cc",
   "metadata": {},
   "outputs": [],
   "source": [
    "import tensorflow as tf"
   ]
  },
  {
   "cell_type": "code",
   "execution_count": 2,
   "id": "7bd4be55",
   "metadata": {},
   "outputs": [],
   "source": [
    "@tf.function\n",
    "def my_func(a):\n",
    "    print(\"Python side effect\")\n",
    "    return a + a\n",
    "\n",
    "a_fn = tf.function(my_func)"
   ]
  },
  {
   "cell_type": "markdown",
   "id": "a31b6c67",
   "metadata": {},
   "source": [
    "# Confirm Eager Model"
   ]
  },
  {
   "cell_type": "code",
   "execution_count": 3,
   "id": "9c4a8abc",
   "metadata": {},
   "outputs": [
    {
     "data": {
      "text/plain": [
       "True"
      ]
     },
     "execution_count": 3,
     "metadata": {},
     "output_type": "execute_result"
    }
   ],
   "source": [
    "tf.executing_eagerly()"
   ]
  },
  {
   "cell_type": "markdown",
   "id": "4e2e787d",
   "metadata": {},
   "source": [
    "# Eager Execution"
   ]
  },
  {
   "cell_type": "code",
   "execution_count": 11,
   "id": "3563e66d",
   "metadata": {},
   "outputs": [],
   "source": [
    "tf.config.run_functions_eagerly(True)"
   ]
  },
  {
   "cell_type": "code",
   "execution_count": 12,
   "id": "c405cd86",
   "metadata": {},
   "outputs": [
    {
     "data": {
      "text/plain": [
       "True"
      ]
     },
     "execution_count": 12,
     "metadata": {},
     "output_type": "execute_result"
    }
   ],
   "source": [
    "tf.executing_eagerly()"
   ]
  },
  {
   "cell_type": "code",
   "execution_count": 13,
   "id": "e1a39622",
   "metadata": {},
   "outputs": [
    {
     "name": "stdout",
     "output_type": "stream",
     "text": [
      "Python side effect\n",
      "Python side effect\n",
      "Python side effect\n"
     ]
    }
   ],
   "source": [
    "for i in range(3):\n",
    "    a_fn(tf.constant(1))"
   ]
  },
  {
   "cell_type": "markdown",
   "id": "4cf40ead",
   "metadata": {},
   "source": [
    "# Graph Execution"
   ]
  },
  {
   "cell_type": "code",
   "execution_count": 14,
   "id": "7eaf5464",
   "metadata": {},
   "outputs": [],
   "source": [
    "tf.config.run_functions_eagerly(False)"
   ]
  },
  {
   "cell_type": "code",
   "execution_count": 7,
   "id": "37d148cb",
   "metadata": {},
   "outputs": [
    {
     "data": {
      "text/plain": [
       "True"
      ]
     },
     "execution_count": 7,
     "metadata": {},
     "output_type": "execute_result"
    }
   ],
   "source": [
    "tf.executing_eagerly()"
   ]
  },
  {
   "cell_type": "code",
   "execution_count": 8,
   "id": "6b64d11f",
   "metadata": {},
   "outputs": [
    {
     "name": "stdout",
     "output_type": "stream",
     "text": [
      "Python side effect\n"
     ]
    },
    {
     "name": "stderr",
     "output_type": "stream",
     "text": [
      "2023-03-05 10:52:28.541052: W tensorflow/core/platform/profile_utils/cpu_utils.cc:128] Failed to get CPU frequency: 0 Hz\n"
     ]
    }
   ],
   "source": [
    "for i in range(3):\n",
    "    a_fn(tf.constant(1))"
   ]
  },
  {
   "cell_type": "code",
   "execution_count": null,
   "id": "6b1e482e",
   "metadata": {},
   "outputs": [],
   "source": []
  }
 ],
 "metadata": {
  "kernelspec": {
   "display_name": "Python 3 (ipykernel)",
   "language": "python",
   "name": "python3"
  },
  "language_info": {
   "codemirror_mode": {
    "name": "ipython",
    "version": 3
   },
   "file_extension": ".py",
   "mimetype": "text/x-python",
   "name": "python",
   "nbconvert_exporter": "python",
   "pygments_lexer": "ipython3",
   "version": "3.9.13"
  }
 },
 "nbformat": 4,
 "nbformat_minor": 5
}
