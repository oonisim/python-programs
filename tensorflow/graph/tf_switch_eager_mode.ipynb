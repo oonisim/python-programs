{
 "cells": [
  {
   "cell_type": "markdown",
   "id": "1754e2cf",
   "metadata": {},
   "source": [
    "# Switch Eager / Graph Execution\n",
    "\n",
    "* [tf.executing_eagerly](https://www.tensorflow.org/api_docs/python/tf/executing_eagerly)\n",
    "\n",
    "> Checks whether the current thread has eager execution enabled.\n",
    "\n",
    "* [tf.config.run_functions_eagerly](https://www.tensorflow.org/api_docs/python/tf/config/run_functions_eagerly)\n",
    "\n",
    "> Enables / disables eager execution of tf.functions."
   ]
  },
  {
   "cell_type": "markdown",
   "id": "bd29c6c3",
   "metadata": {},
   "source": [
    "## Graph Mode\n",
    "\n",
    "Cannot use:\n",
    "\n",
    "* for/while -> Use ```tf.while_loop``` or ```tf.py_function```.\n",
    "* if -> Use ```tf.cond``` or ```tf.py_function```.\n",
    "* print -> Use ```tf.print```\n",
    "* assert\n",
    "* tf.Tensor.shape attribute -> Use ```tf.shape()```\n",
    "* tf.Tensor.ndim attribute"
   ]
  },
  {
   "cell_type": "code",
   "execution_count": 1,
   "id": "4d83e7cc",
   "metadata": {
    "ExecuteTime": {
     "end_time": "2023-11-15T23:44:56.784418236Z",
     "start_time": "2023-11-15T23:44:55.506998035Z"
    }
   },
   "outputs": [
    {
     "name": "stderr",
     "output_type": "stream",
     "text": [
      "2023-11-16 10:44:55.566336: I tensorflow/core/util/port.cc:111] oneDNN custom operations are on. You may see slightly different numerical results due to floating-point round-off errors from different computation orders. To turn them off, set the environment variable `TF_ENABLE_ONEDNN_OPTS=0`.\n",
      "2023-11-16 10:44:55.591872: E tensorflow/compiler/xla/stream_executor/cuda/cuda_dnn.cc:9342] Unable to register cuDNN factory: Attempting to register factory for plugin cuDNN when one has already been registered\n",
      "2023-11-16 10:44:55.591891: E tensorflow/compiler/xla/stream_executor/cuda/cuda_fft.cc:609] Unable to register cuFFT factory: Attempting to register factory for plugin cuFFT when one has already been registered\n",
      "2023-11-16 10:44:55.591907: E tensorflow/compiler/xla/stream_executor/cuda/cuda_blas.cc:1518] Unable to register cuBLAS factory: Attempting to register factory for plugin cuBLAS when one has already been registered\n",
      "2023-11-16 10:44:55.596693: I tensorflow/core/platform/cpu_feature_guard.cc:182] This TensorFlow binary is optimized to use available CPU instructions in performance-critical operations.\n",
      "To enable the following instructions: AVX2 AVX_VNNI FMA, in other operations, rebuild TensorFlow with the appropriate compiler flags.\n",
      "2023-11-16 10:44:56.176810: W tensorflow/compiler/tf2tensorrt/utils/py_utils.cc:38] TF-TRT Warning: Could not find TensorRT\n"
     ]
    }
   ],
   "source": [
    "import tensorflow as tf"
   ]
  },
  {
   "cell_type": "code",
   "execution_count": 2,
   "id": "7bd4be55",
   "metadata": {
    "ExecuteTime": {
     "end_time": "2023-11-15T23:39:49.643431169Z",
     "start_time": "2023-11-15T23:39:49.640687832Z"
    }
   },
   "outputs": [],
   "source": [
    "@tf.function\n",
    "def my_func(a):\n",
    "    for _ in range(3):\n",
    "        a += 1\n",
    "        print(f\"Python loop. a is {a}\")\n",
    "        \n",
    "    return a\n",
    "\n",
    "a_fn = tf.function(my_func)"
   ]
  },
  {
   "cell_type": "markdown",
   "id": "4cf40ead",
   "metadata": {},
   "source": [
    "# Graph Execution"
   ]
  },
  {
   "cell_type": "code",
   "execution_count": 2,
   "id": "7eaf5464",
   "metadata": {
    "ExecuteTime": {
     "end_time": "2023-11-15T23:45:00.571121220Z",
     "start_time": "2023-11-15T23:45:00.568305018Z"
    }
   },
   "outputs": [],
   "source": [
    "tf.config.run_functions_eagerly(False)"
   ]
  },
  {
   "cell_type": "code",
   "execution_count": 4,
   "id": "37d148cb",
   "metadata": {
    "ExecuteTime": {
     "end_time": "2023-11-15T23:39:52.760642229Z",
     "start_time": "2023-11-15T23:39:52.752254380Z"
    }
   },
   "outputs": [
    {
     "data": {
      "text/plain": "True"
     },
     "execution_count": 4,
     "metadata": {},
     "output_type": "execute_result"
    }
   ],
   "source": [
    "# Should show False, but can get True\n",
    "tf.executing_eagerly()"
   ]
  },
  {
   "cell_type": "markdown",
   "source": [
    "### TF graph evaluation runs the loop for the first time."
   ],
   "metadata": {
    "collapsed": false
   },
   "id": "ec7559308574e41d"
  },
  {
   "cell_type": "code",
   "execution_count": 5,
   "id": "6b64d11f",
   "metadata": {
    "ExecuteTime": {
     "end_time": "2023-11-15T23:39:56.056519441Z",
     "start_time": "2023-11-15T23:39:56.015427419Z"
    }
   },
   "outputs": [
    {
     "name": "stdout",
     "output_type": "stream",
     "text": [
      "Python loop. a is Tensor(\"add:0\", shape=(), dtype=int32)\n",
      "Python loop. a is Tensor(\"add_1:0\", shape=(), dtype=int32)\n",
      "Python loop. a is Tensor(\"add_2:0\", shape=(), dtype=int32)\n",
      "tf.Tensor(5, shape=(), dtype=int32)\n"
     ]
    },
    {
     "name": "stderr",
     "output_type": "stream",
     "text": [
      "2023-11-16 10:39:55.994304: W tensorflow/core/common_runtime/gpu/gpu_device.cc:2211] Cannot dlopen some GPU libraries. Please make sure the missing libraries mentioned above are installed properly if you would like to use GPU. Follow the guide at https://www.tensorflow.org/install/gpu for how to download and setup the required libraries for your platform.\n",
      "Skipping registering GPU devices...\n"
     ]
    }
   ],
   "source": [
    "# you will see print 3 times in the loop. \n",
    "print(a_fn(tf.constant(2)))"
   ]
  },
  {
   "cell_type": "markdown",
   "source": [
    "### Second time, there will be no print in the loop/"
   ],
   "metadata": {
    "collapsed": false
   },
   "id": "cbde06cd1366be76"
  },
  {
   "cell_type": "code",
   "execution_count": 8,
   "id": "6b1e482e",
   "metadata": {
    "ExecuteTime": {
     "end_time": "2023-11-15T23:40:51.251461375Z",
     "start_time": "2023-11-15T23:40:51.204017518Z"
    }
   },
   "outputs": [
    {
     "name": "stdout",
     "output_type": "stream",
     "text": [
      "tf.Tensor(5, shape=(), dtype=int32)\n"
     ]
    }
   ],
   "source": [
    "print(a_fn(tf.constant(2)))"
   ]
  },
  {
   "cell_type": "markdown",
   "source": [
    "\n",
    "## List comprehension\n",
    "\n",
    "List comprehension itself works but note that the return value is **single Tensor packing all the values**."
   ],
   "metadata": {
    "collapsed": false
   },
   "id": "86d2e31b9f00fca"
  },
  {
   "cell_type": "code",
   "execution_count": 3,
   "outputs": [],
   "source": [
    "@tf.function\n",
    "def comprehension_func(n):\n",
    "    x = tf.constant([\n",
    "        value for value in range(n)  \n",
    "    ])\n",
    "    print(f\"x is {x}\")        \n",
    "    return x\n",
    "\n",
    "comprehension_fn = tf.function(comprehension_func)"
   ],
   "metadata": {
    "collapsed": false,
    "ExecuteTime": {
     "end_time": "2023-11-15T23:45:10.316681032Z",
     "start_time": "2023-11-15T23:45:10.308848561Z"
    }
   },
   "id": "9f694d87bfcafe8d"
  },
  {
   "cell_type": "code",
   "execution_count": 4,
   "outputs": [
    {
     "name": "stdout",
     "output_type": "stream",
     "text": [
      "x is Tensor(\"Const:0\", shape=(5,), dtype=int32)\n"
     ]
    },
    {
     "name": "stderr",
     "output_type": "stream",
     "text": [
      "2023-11-16 10:45:10.871854: W tensorflow/core/common_runtime/gpu/gpu_device.cc:2211] Cannot dlopen some GPU libraries. Please make sure the missing libraries mentioned above are installed properly if you would like to use GPU. Follow the guide at https://www.tensorflow.org/install/gpu for how to download and setup the required libraries for your platform.\n",
      "Skipping registering GPU devices...\n"
     ]
    },
    {
     "data": {
      "text/plain": "<tf.Tensor: shape=(5,), dtype=int32, numpy=array([0, 1, 2, 3, 4], dtype=int32)>"
     },
     "execution_count": 4,
     "metadata": {},
     "output_type": "execute_result"
    }
   ],
   "source": [
    "comprehension_fn(5)"
   ],
   "metadata": {
    "collapsed": false,
    "ExecuteTime": {
     "end_time": "2023-11-15T23:45:10.898718260Z",
     "start_time": "2023-11-15T23:45:10.758249155Z"
    }
   },
   "id": "69f01e5933f41ece"
  },
  {
   "cell_type": "code",
   "execution_count": 6,
   "outputs": [
    {
     "name": "stdout",
     "output_type": "stream",
     "text": [
      "x is Tensor(\"Const:0\", shape=(3,), dtype=int32)\n"
     ]
    },
    {
     "data": {
      "text/plain": "<tf.Tensor: shape=(3,), dtype=int32, numpy=array([0, 1, 2], dtype=int32)>"
     },
     "execution_count": 6,
     "metadata": {},
     "output_type": "execute_result"
    }
   ],
   "source": [
    "comprehension_fn(3)"
   ],
   "metadata": {
    "collapsed": false,
    "ExecuteTime": {
     "end_time": "2023-11-15T23:45:24.304680236Z",
     "start_time": "2023-11-15T23:45:24.278214739Z"
    }
   },
   "id": "66a2584350934db5"
  },
  {
   "cell_type": "markdown",
   "source": [
    "# Confirm Eager Model"
   ],
   "metadata": {
    "collapsed": false
   },
   "id": "a31b6c67"
  },
  {
   "cell_type": "markdown",
   "source": [
    "# Eager Execution"
   ],
   "metadata": {
    "collapsed": false
   },
   "id": "4e2e787d"
  },
  {
   "cell_type": "code",
   "execution_count": 12,
   "outputs": [],
   "source": [
    "tf.config.run_functions_eagerly(True)"
   ],
   "metadata": {
    "collapsed": false,
    "ExecuteTime": {
     "start_time": "2023-11-15T23:41:11.881464496Z"
    }
   },
   "id": "3563e66d"
  },
  {
   "cell_type": "code",
   "execution_count": 13,
   "outputs": [
    {
     "data": {
      "text/plain": "True"
     },
     "execution_count": 13,
     "metadata": {},
     "output_type": "execute_result"
    }
   ],
   "source": [
    "tf.executing_eagerly()"
   ],
   "metadata": {
    "collapsed": false,
    "ExecuteTime": {
     "start_time": "2023-11-15T23:41:12.311280488Z"
    }
   },
   "id": "c405cd86"
  },
  {
   "cell_type": "markdown",
   "source": [
    "### You will see print in the loop 3 times again in eager mode."
   ],
   "metadata": {
    "collapsed": false
   },
   "id": "cb24b943551e4343"
  },
  {
   "cell_type": "code",
   "execution_count": 15,
   "outputs": [
    {
     "name": "stdout",
     "output_type": "stream",
     "text": [
      "Python loop. a is 2\n",
      "Python loop. a is 3\n",
      "Python loop. a is 4\n",
      "tf.Tensor(4, shape=(), dtype=int32)\n"
     ]
    }
   ],
   "source": [
    "print(a_fn(tf.constant(1)))"
   ],
   "metadata": {
    "collapsed": false,
    "ExecuteTime": {
     "start_time": "2023-11-15T23:41:35.671222043Z"
    }
   },
   "id": "e1a39622"
  },
  {
   "cell_type": "code",
   "execution_count": null,
   "outputs": [],
   "source": [],
   "metadata": {
    "collapsed": false
   },
   "id": "51b9f8c6edd4370c"
  }
 ],
 "metadata": {
  "kernelspec": {
   "display_name": "Python 3 (ipykernel)",
   "language": "python",
   "name": "python3"
  },
  "language_info": {
   "codemirror_mode": {
    "name": "ipython",
    "version": 3
   },
   "file_extension": ".py",
   "mimetype": "text/x-python",
   "name": "python",
   "nbconvert_exporter": "python",
   "pygments_lexer": "ipython3",
   "version": "3.9.13"
  }
 },
 "nbformat": 4,
 "nbformat_minor": 5
}
