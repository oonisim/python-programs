{
 "cells": [
  {
   "cell_type": "markdown",
   "id": "b0b429e0",
   "metadata": {},
   "source": [
    "# dtype rule at divide\n",
    "\n",
    "* [Why does Tensorflow cast int32/int32 to float64 and how to stop it?](https://stackoverflow.com/questions/56457726/why-does-tensorflow-cast-int32-int32-to-float64-and-how-to-stop-it)\n",
    "\n",
    "> Meaning that int32 tensors will be converted to float64. If you want to obtain a float32 as output, either use a smaller int type or cast your inputs to float32.\n",
    "\n",
    "```\n",
    "# Conversion table for __truediv__.  None entries mean no conversion required.\n",
    "_TRUEDIV_TABLE = {\n",
    "    dtypes.uint8: dtypes.float32,\n",
    "    dtypes.int8: dtypes.float32,\n",
    "    dtypes.uint16: dtypes.float32,\n",
    "    dtypes.int16: dtypes.float32,\n",
    "    dtypes.int32: dtypes.float64,\n",
    "    dtypes.int64: dtypes.float64,\n",
    "    dtypes.bfloat16: None,\n",
    "    dtypes.float16: None,\n",
    "    dtypes.float32: None,\n",
    "    dtypes.float64: None,\n",
    "    dtypes.complex64: None,\n",
    "    dtypes.complex128: None,\n",
    "}\n",
    "```"
   ]
  },
  {
   "cell_type": "code",
   "execution_count": null,
   "id": "9cb72aea",
   "metadata": {},
   "outputs": [],
   "source": []
  }
 ],
 "metadata": {
  "kernelspec": {
   "display_name": "Python 3 (ipykernel)",
   "language": "python",
   "name": "python3"
  },
  "language_info": {
   "codemirror_mode": {
    "name": "ipython",
    "version": 3
   },
   "file_extension": ".py",
   "mimetype": "text/x-python",
   "name": "python",
   "nbconvert_exporter": "python",
   "pygments_lexer": "ipython3",
   "version": "3.9.13"
  }
 },
 "nbformat": 4,
 "nbformat_minor": 5
}
