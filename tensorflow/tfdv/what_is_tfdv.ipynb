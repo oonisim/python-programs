{
 "cells": [
  {
   "cell_type": "markdown",
   "id": "52045820",
   "metadata": {},
   "source": [
    "# What is TFDV (TensorFlow Data Validation)\n",
    "\n",
    "TFDV is data validation tools in the same category of AWS Deequ, Apache Griffin.\n",
    "\n",
    "* [TensorFlow Data Validation: Checking and analyzing your data](https://www.tensorflow.org/tfx/guide/tfdv)\n",
    "\n",
    "> TensorFlow Data Validation identifies anomalies in training and serving data, and can automatically create a schema by examining the data. The component can be configured to detect different classes of anomalies in the data. It can  \n",
    "> * Perform validity checks by comparing data statistics against a schema that codifies expectations of the user.\n",
    "> * Detect training-serving skew by comparing examples in training and serving data.\n",
    "> * Detect data drift by looking at a series of data.\n",
    "\n",
    "* [Get started with Tensorflow Data Validation](https://www.tensorflow.org/tfx/data_validation/get_started)\n",
    "\n",
    "> Computing descriptive data statistics  \n",
    "TFDV can compute descriptive statistics that provide a quick overview of the data in terms of the features that are present and the shapes of their value distributions. Tools such as Facets Overview can provide a succinct visualization of these statistics for easy browsing.\n",
    "\n",
    "* [TensorFlow Data Validation](https://www.tensorflow.org/tfx/tutorials/data_validation/tfdv_basic)\n",
    "\n",
    "> This example colab notebook illustrates how TensorFlow Data Validation (TFDV) can be used to investigate and visualize your dataset. That includes looking at descriptive statistics, inferring a schema, checking for and fixing anomalies, and checking for drift and skew in our dataset. It's important to understand your dataset's characteristics, including how it might change over time in your production pipeline. It's also important to look for anomalies in your data, and to compare your training, evaluation, and serving datasets to make sure that they're consistent.\n",
    "\n",
    "* [Data validation using TFX Pipeline and TensorFlow Data Validation](https://www.tensorflow.org/tfx/tutorials/tfx/penguin_tfdv)\n",
    "\n",
    "> In this notebook-based tutorial, we will create and run TFX pipelines to validate input data and create an ML model. This notebook is based on the TFX pipeline we built in Simple TFX Pipeline Tutorial. If you have not read that tutorial yet, you should read it before proceeding with this notebook.\n",
    "\n",
    "* [Hands on Tensorflow Data Validation](https://towardsdatascience.com/hands-on-tensorflow-data-validation-61e552f123d7)\n"
   ]
  },
  {
   "cell_type": "code",
   "execution_count": null,
   "id": "fb11fe14",
   "metadata": {},
   "outputs": [],
   "source": []
  }
 ],
 "metadata": {
  "kernelspec": {
   "display_name": "Python 3 (ipykernel)",
   "language": "python",
   "name": "python3"
  },
  "language_info": {
   "codemirror_mode": {
    "name": "ipython",
    "version": 3
   },
   "file_extension": ".py",
   "mimetype": "text/x-python",
   "name": "python",
   "nbconvert_exporter": "python",
   "pygments_lexer": "ipython3",
   "version": "3.8.10"
  }
 },
 "nbformat": 4,
 "nbformat_minor": 5
}
