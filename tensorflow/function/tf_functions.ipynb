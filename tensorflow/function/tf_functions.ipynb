{
 "cells": [
  {
   "cell_type": "code",
   "execution_count": 2,
   "id": "9c8a8553",
   "metadata": {},
   "outputs": [],
   "source": [
    "import numpy as np\n",
    "import tensorflow as tf\n",
    "from tensorflow import keras"
   ]
  },
  {
   "cell_type": "markdown",
   "id": "87fd3bd4",
   "metadata": {},
   "source": [
    "# tf.function"
   ]
  },
  {
   "cell_type": "markdown",
   "source": [
    "## Eager Execution\n",
    "\n",
    "* [tf.config.run_functions_eagerly](https://www.tensorflow.org/api_docs/python/tf/config/run_functions_eagerly)\n",
    "\n",
    "> Calling tf.config.run_functions_eagerly(True) will make all invocations of tf.function run eagerly instead of running as a traced graph function. This can be useful for debugging. As the code now runs line-by-line, you can add arbitrary print messages or pdb breakpoints to monitor the inputs/outputs of each Tensorflow operation. However, you should avoid using this for actual production because it significantly slows down execution.\n"
   ],
   "metadata": {
    "collapsed": false
   },
   "id": "7fda87487007e29b"
  },
  {
   "cell_type": "markdown",
   "source": [
    "# ValueError: Creating variables on a non-first call to a function decorated with tf.function.\n",
    "\n",
    "This can be caused when creating a new Tensor during the graph execution.\n",
    "\n",
    "* [Running the Tensorflow 2.0 code gives 'ValueError: tf.function-decorated function tried to create variables on non-first call'. What am I doing wrong?](https://stackoverflow.com/a/59209937/4281353)\n",
    "\n",
    "> As you are trying to use function decorator in TF 2.0, please enable run function eagerly by using below line after importing TensorFlow:\n",
    "> ```\n",
    "> tf.config.run_functions_eagerly(True)\n",
    "> ```"
   ],
   "metadata": {
    "collapsed": false
   },
   "id": "4702dc59a045dae7"
  },
  {
   "cell_type": "markdown",
   "source": [
    "## Example\n",
    "\n",
    "The code creates new Tensors in the ```tf.data.Dataset.map()``` function which is invoked during ```tf.keras.model.fit()``` which should run in Graph mode.\n",
    "\n",
    "```\n",
    "# tf.config.run_functions_eagerly(False)\n",
    "def mapper(image, label):\n",
    "    return (\n",
    "        tf.expand_dims(image, axis=0), # <--- creating a new Tensor\n",
    "        tf.expand_dims(label, axis=0   # <--- creating a new Tensor\n",
    "    )\n",
    "\n",
    "model.fit(train_dataset.map(mapper))\n",
    "```"
   ],
   "metadata": {
    "collapsed": false
   },
   "id": "f49fb54c232a6816"
  },
  {
   "cell_type": "code",
   "execution_count": null,
   "outputs": [],
   "source": [],
   "metadata": {
    "collapsed": false
   },
   "id": "fe7a0cae662c2ae4"
  }
 ],
 "metadata": {
  "kernelspec": {
   "display_name": "Python 3 (ipykernel)",
   "language": "python",
   "name": "python3"
  },
  "language_info": {
   "codemirror_mode": {
    "name": "ipython",
    "version": 3
   },
   "file_extension": ".py",
   "mimetype": "text/x-python",
   "name": "python",
   "nbconvert_exporter": "python",
   "pygments_lexer": "ipython3",
   "version": "3.9.13"
  }
 },
 "nbformat": 4,
 "nbformat_minor": 5
}
