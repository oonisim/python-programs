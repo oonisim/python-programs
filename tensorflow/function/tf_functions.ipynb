{
 "cells": [
  {
   "cell_type": "code",
   "execution_count": 2,
   "id": "9c8a8553",
   "metadata": {},
   "outputs": [],
   "source": [
    "import numpy as np\n",
    "import tensorflow as tf\n",
    "from tensorflow import keras"
   ]
  },
  {
   "cell_type": "markdown",
   "id": "87fd3bd4",
   "metadata": {},
   "source": [
    "# square\n",
    "\n",
    "Element-wise square which is ```axis=-1```.\n",
    "\n",
    "* [tf.math.square](https://www.tensorflow.org/api_docs/python/tf/math/square)\n",
    "\n",
    "> ```\n",
    "> tf.math.square(\n",
    ">    x, name=None\n",
    ">)\n",
    "> ```"
   ]
  },
  {
   "cell_type": "code",
   "execution_count": 3,
   "id": "195c8806",
   "metadata": {},
   "outputs": [
    {
     "data": {
      "text/plain": [
       "<tf.Tensor: shape=(3, 2, 2), dtype=float32, numpy=\n",
       "array([[[ 0.,  1.],\n",
       "        [ 2.,  3.]],\n",
       "\n",
       "       [[ 4.,  5.],\n",
       "        [ 6.,  7.]],\n",
       "\n",
       "       [[ 8.,  9.],\n",
       "        [10., 11.]]], dtype=float32)>"
      ]
     },
     "execution_count": 3,
     "metadata": {},
     "output_type": "execute_result"
    }
   ],
   "source": [
    "x: tf.Tensor = tf.constant(\n",
    "    np.arange(3*2*2).reshape((3,2,2)), \n",
    "    dtype=np.float32\n",
    ")\n",
    "x"
   ]
  },
  {
   "cell_type": "code",
   "execution_count": 5,
   "id": "46779453",
   "metadata": {},
   "outputs": [
    {
     "data": {
      "text/plain": [
       "<tf.Tensor: shape=(3, 2, 2), dtype=float32, numpy=\n",
       "array([[[  0.,   1.],\n",
       "        [  4.,   9.]],\n",
       "\n",
       "       [[ 16.,  25.],\n",
       "        [ 36.,  49.]],\n",
       "\n",
       "       [[ 64.,  81.],\n",
       "        [100., 121.]]], dtype=float32)>"
      ]
     },
     "execution_count": 5,
     "metadata": {},
     "output_type": "execute_result"
    }
   ],
   "source": [
    "tf.math.square(x)"
   ]
  },
  {
   "cell_type": "markdown",
   "id": "4991d46b",
   "metadata": {},
   "source": [
    "### square of subtract\n",
    "\n",
    "Element-wise subtract and square"
   ]
  },
  {
   "cell_type": "code",
   "execution_count": 9,
   "id": "4b694987",
   "metadata": {},
   "outputs": [
    {
     "data": {
      "text/plain": [
       "<tf.Tensor: shape=(3, 2, 2), dtype=float32, numpy=\n",
       "array([[[ 1.,  2.],\n",
       "        [ 3.,  4.]],\n",
       "\n",
       "       [[ 5.,  6.],\n",
       "        [ 7.,  8.]],\n",
       "\n",
       "       [[ 9., 10.],\n",
       "        [11., 12.]]], dtype=float32)>"
      ]
     },
     "execution_count": 9,
     "metadata": {},
     "output_type": "execute_result"
    }
   ],
   "source": [
    "x: tf.Tensor = tf.constant(\n",
    "    np.arange(1, 3*2*2+1).reshape((3,2,2)), \n",
    "    dtype=np.float32\n",
    ")\n",
    "x"
   ]
  },
  {
   "cell_type": "code",
   "execution_count": 10,
   "id": "dcab38ce",
   "metadata": {},
   "outputs": [
    {
     "data": {
      "text/plain": [
       "<tf.Tensor: shape=(3, 2, 2), dtype=float32, numpy=\n",
       "array([[[1., 1.],\n",
       "        [1., 1.]],\n",
       "\n",
       "       [[1., 1.],\n",
       "        [1., 1.]],\n",
       "\n",
       "       [[1., 1.],\n",
       "        [1., 1.]]], dtype=float32)>"
      ]
     },
     "execution_count": 10,
     "metadata": {},
     "output_type": "execute_result"
    }
   ],
   "source": [
    "y = tf.constant(\n",
    "    np.ones(12).reshape((3,2,2)),\n",
    "    dtype=np.float32\n",
    ")\n",
    "y"
   ]
  },
  {
   "cell_type": "code",
   "execution_count": 11,
   "id": "287035ad",
   "metadata": {},
   "outputs": [
    {
     "data": {
      "text/plain": [
       "<tf.Tensor: shape=(3, 2, 2), dtype=float32, numpy=\n",
       "array([[[  0.,   1.],\n",
       "        [  4.,   9.]],\n",
       "\n",
       "       [[ 16.,  25.],\n",
       "        [ 36.,  49.]],\n",
       "\n",
       "       [[ 64.,  81.],\n",
       "        [100., 121.]]], dtype=float32)>"
      ]
     },
     "execution_count": 11,
     "metadata": {},
     "output_type": "execute_result"
    }
   ],
   "source": [
    "tf.math.square(x-y)"
   ]
  }
 ],
 "metadata": {
  "kernelspec": {
   "display_name": "Python 3 (ipykernel)",
   "language": "python",
   "name": "python3"
  },
  "language_info": {
   "codemirror_mode": {
    "name": "ipython",
    "version": 3
   },
   "file_extension": ".py",
   "mimetype": "text/x-python",
   "name": "python",
   "nbconvert_exporter": "python",
   "pygments_lexer": "ipython3",
   "version": "3.9.13"
  }
 },
 "nbformat": 4,
 "nbformat_minor": 5
}
