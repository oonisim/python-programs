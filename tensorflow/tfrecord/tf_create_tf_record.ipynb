{
 "cells": [
  {
   "cell_type": "markdown",
   "id": "c148b102",
   "metadata": {},
   "source": [
    "# TFRecord\n",
    "\n",
    "```TFRecord``` is **not** a concreate class but is a format specification of encoding ```a record of features``` as a [Protobuf](https://developers.google.com/protocol-buffers) message, a binary message storage format to exchange records over the network. The ```tf.train.Example``` is the class to implement it.\n",
    "\n",
    "* [TFRecord and tf.train.Example](https://www.tensorflow.org/tutorials/load_data/tfrecord)\n",
    "\n",
    "> Fundamentally, a ```tf.train.Example``` is **{\"string\": tf.train.Feature} mappings**. The ```tf.train.Feature ``` type can accept one of the following three types (See the .proto file for reference). Most other generic types can be coerced into one of these:  \n",
    "> \n",
    "> 1. tf.train.BytesList (the following types can be coerced)\n",
    ">    * string\n",
    ">    * byte\n",
    "> 2. tf.train.FloatList (the following types can be coerced)\n",
    ">    * float (float32)\n",
    ">    * double (float64)\n",
    "> 3. tf.train.Int64List (the following types can be coerced)\n",
    ">    * bool\n",
    ">    * enum\n",
    ">    * int32\n",
    ">    * uint32\n",
    ">    * int64\n",
    ">    * uint64\n",
    "\n",
    "e.g. ```{\"review_id\": Feature(bytes_list=BytesList(value=['RSH1OZ87OYK92'.encode()]))}```\n",
    "\n",
    "* [str.encode](https://docs.python.org/3/library/stdtypes.html#str.encode)\n",
    "\n",
    "> Return an encoded version of the string as a bytes object. Default encoding is 'utf-8'. \n",
    "\n",
    "\n",
    "## Example Protobuf\n",
    "\n",
    "[tf.train.Example](https://www.tensorflow.org/api_docs/python/tf/train/Example) implements the ```Example``` protobuf message type.\n",
    "\n",
    "> An Example is a mostly-normalized data format for storing data for training and inference.\n",
    "It contains a key-value store features where each key (string) maps to a tf.train.Feature message.\n",
    "\n",
    "* [example.proto](https://github.com/tensorflow/tensorflow/blob/master/tensorflow/core/example/example.proto)\n",
    "\n",
    "```\n",
    "message Example {\n",
    "  Features features = 1;   # 1 is field ID\n",
    "}\n",
    "```\n",
    "\n",
    "Note that TFRecord/tf.train.Example is **Dict[str, Feature]**. \n",
    "\n",
    "\n",
    "## Feature Protobuf\n",
    "\n",
    "[tf.train.Feature](https://www.tensorflow.org/api_docs/python/tf/train/Feature)\n",
    "\n",
    "> A Feature is a list which may hold zero or more values.\n",
    "\n",
    "\n",
    "* [feature.proto](https://github.com/tensorflow/tensorflow/blob/master/tensorflow/core/example/feature.proto)\n",
    "\n",
    "```\n",
    "message BytesList {\n",
    "  repeated bytes value = 1;\n",
    "}\n",
    "message FloatList {\n",
    "  repeated float value = 1 [packed = true];\n",
    "}\n",
    "message Int64List {\n",
    "  repeated int64 value = 1 [packed = true];\n",
    "}\n",
    "\n",
    "// Containers for non-sequential data.\n",
    "message Feature {\n",
    "  // Each feature can be exactly one kind.\n",
    "  oneof kind {\n",
    "    BytesList bytes_list = 1;\n",
    "    FloatList float_list = 2;\n",
    "    Int64List int64_list = 3;\n",
    "  }\n",
    "}\n",
    "\n",
    "message Features {\n",
    "  // Map from feature name to feature.\n",
    "  map<string, Feature> feature = 1;\n",
    "}\n",
    "```"
   ]
  },
  {
   "cell_type": "markdown",
   "id": "563717a6",
   "metadata": {},
   "source": [
    "## Serialize a record into a protobuf representation"
   ]
  },
  {
   "cell_type": "code",
   "execution_count": 1,
   "id": "e11582bc",
   "metadata": {},
   "outputs": [],
   "source": [
    "def serialize_example(feature0, feature1, feature2, feature3):\n",
    "    \"\"\"\n",
    "    Creates a tf.train.Example message ready to be written to a file.\n",
    "    \"\"\"\n",
    "    # Create a dictionary mapping the feature name to the tf.train.Example-compatible\n",
    "    # data type.\n",
    "    feature = {\n",
    "        'feature0': _int64_feature(feature0),\n",
    "        'feature1': _int64_feature(feature1),\n",
    "        'feature2': _bytes_feature(feature2),\n",
    "        'feature3': _float_feature(feature3),\n",
    "    }\n",
    "\n",
    "    # Create a Features message using tf.train.Example.\n",
    "\n",
    "    example_proto = tf.train.Example(features=tf.train.Features(feature=feature))\n",
    "    return example_proto.SerializeToString()\n",
    "\n",
    "def _bytes_feature(value):\n",
    "    \"\"\"Returns a bytes_list from a string / byte.\"\"\"\n",
    "    if isinstance(value, type(tf.constant(0))):\n",
    "        value = value.numpy() # BytesList won't unpack a string from an EagerTensor.\n",
    "    return tf.train.Feature(bytes_list=tf.train.BytesList(value=[value]))\n",
    "\n",
    "def _float_feature(value):\n",
    "    \"\"\"Returns a float_list from a float / double.\"\"\"\n",
    "    return tf.train.Feature(float_list=tf.train.FloatList(value=[value]))\n",
    "\n",
    "def _int64_feature(value):\n",
    "    \"\"\"Returns an int64_list from a bool / enum / int / uint.\"\"\"\n",
    "    return tf.train.Feature(int64_list=tf.train.Int64List(value=[value]))"
   ]
  },
  {
   "cell_type": "markdown",
   "id": "35becfd0",
   "metadata": {},
   "source": [
    "## De-serialize into a record\n",
    "\n",
    "Note that the **feature_description** is necessary here because tf.data.Datasets use graph-execution, and need this description to build their shape and type signature."
   ]
  },
  {
   "cell_type": "code",
   "execution_count": 21,
   "id": "876a94e1",
   "metadata": {},
   "outputs": [],
   "source": [
    "# Description of the features.\n",
    "feature_description = {\n",
    "    'feature0': tf.io.FixedLenFeature([], tf.int64, default_value=0),\n",
    "    'feature1': tf.io.FixedLenFeature([], tf.int64, default_value=0),\n",
    "    'feature2': tf.io.FixedLenFeature([], tf.string, default_value=''),\n",
    "    'feature3': tf.io.FixedLenFeature([], tf.float32, default_value=0.0),\n",
    "}\n",
    "\n",
    "def _parse_function(example_proto):\n",
    "    \"\"\"De-serialize the protobuf\n",
    "    Apply the function to items in the TFRecordDataset using the map method:\n",
    "    Alternatively, use tf.io.parse_example() to parse the whole batch at once. \n",
    "    \"\"\"\n",
    "    return tf.io.parse_single_example(example_proto, feature_description)\n",
    "\n",
    "# parsed_dataset = tf_record_dataset.map(_parse_function)"
   ]
  },
  {
   "cell_type": "markdown",
   "id": "2011e205",
   "metadata": {},
   "source": [
    "---"
   ]
  },
  {
   "cell_type": "markdown",
   "id": "d3bdd30e",
   "metadata": {},
   "source": [
    "# Example - [Amazon product review dataset](https://s3.amazonaws.com/amazon-reviews-pds/tsv/index.txt) \n",
    "\n",
    "Serialize the Amazon product review dataset into a TFRecord file.\n",
    "\n",
    "### DATA COLUMNS:\n",
    "\n",
    "```\n",
    "marketplace       - 2 letter country code of the marketplace where the review was written.\n",
    "customer_id       - Random identifier that can be used to aggregate reviews written by a single author.\n",
    "review_id         - The unique ID of the review.\n",
    "product_id        - The unique Product ID the review pertains to. In the multilingual dataset the reviews\n",
    "                    for the same product in different countries can be grouped by the same product_id.\n",
    "product_parent    - Random identifier that can be used to aggregate reviews for the same product.\n",
    "product_title     - Title of the product.\n",
    "product_category  - Broad product category that can be used to group reviews \n",
    "                    (also used to group the dataset into coherent parts).\n",
    "star_rating       - The 1-5 star rating of the review.\n",
    "helpful_votes     - Number of helpful votes.\n",
    "total_votes       - Number of total votes the review received.\n",
    "vine              - Review was written as part of the Vine program.\n",
    "verified_purchase - The review is on a verified purchase.\n",
    "review_headline   - The title of the review.\n",
    "review_body       - The review text.\n",
    "review_date       - The date the review was written.\n",
    "```\n",
    "\n",
    "### DATA FORMAT\n",
    "```\n",
    "First line in each file is header; 1 line corresponds to 1 record.\n",
    "```"
   ]
  },
  {
   "cell_type": "code",
   "execution_count": 2,
   "id": "73f89138",
   "metadata": {},
   "outputs": [],
   "source": [
    "import pandas as pd\n",
    "import tensorflow as tf\n",
    "from tensorflow.train import (\n",
    "    BytesList,\n",
    "    FloatList,\n",
    "    Int64List,\n",
    "    Feature,\n",
    "    Features,\n",
    "    Example\n",
    ")"
   ]
  },
  {
   "cell_type": "code",
   "execution_count": 3,
   "id": "929bb43d",
   "metadata": {},
   "outputs": [],
   "source": [
    "df = pd.read_csv(\n",
    "    \"./data/amazon_product_review_sample.csv\",\n",
    "    header=0,\n",
    "    usecols=['review_id', 'product_category', 'star_rating', 'review_body', 'review_date'],\n",
    "    parse_dates=['review_date'],\n",
    "    dtype={\n",
    "        'marketplace': 'category',\n",
    "        'product_category': 'category',\n",
    "        'star_rating':'int64',\n",
    "        'vine': 'category',\n",
    "        'verified_purchase': 'category'\n",
    "    }\n",
    ")"
   ]
  },
  {
   "cell_type": "code",
   "execution_count": 4,
   "id": "9ec0f50d",
   "metadata": {},
   "outputs": [
    {
     "data": {
      "text/html": [
       "<div>\n",
       "<style scoped>\n",
       "    .dataframe tbody tr th:only-of-type {\n",
       "        vertical-align: middle;\n",
       "    }\n",
       "\n",
       "    .dataframe tbody tr th {\n",
       "        vertical-align: top;\n",
       "    }\n",
       "\n",
       "    .dataframe thead th {\n",
       "        text-align: right;\n",
       "    }\n",
       "</style>\n",
       "<table border=\"1\" class=\"dataframe\">\n",
       "  <thead>\n",
       "    <tr style=\"text-align: right;\">\n",
       "      <th></th>\n",
       "      <th>review_id</th>\n",
       "      <th>product_category</th>\n",
       "      <th>star_rating</th>\n",
       "      <th>review_body</th>\n",
       "      <th>review_date</th>\n",
       "    </tr>\n",
       "  </thead>\n",
       "  <tbody>\n",
       "    <tr>\n",
       "      <th>0</th>\n",
       "      <td>RSH1OZ87OYK92</td>\n",
       "      <td>Digital_Video_Games</td>\n",
       "      <td>2</td>\n",
       "      <td>I keep buying madden every year hoping they ge...</td>\n",
       "      <td>2015-08-31</td>\n",
       "    </tr>\n",
       "    <tr>\n",
       "      <th>1</th>\n",
       "      <td>R1WFOQ3N9BO65I</td>\n",
       "      <td>Digital_Video_Games</td>\n",
       "      <td>5</td>\n",
       "      <td>Awesome</td>\n",
       "      <td>2015-08-31</td>\n",
       "    </tr>\n",
       "    <tr>\n",
       "      <th>2</th>\n",
       "      <td>R3YOOS71KM5M9</td>\n",
       "      <td>Digital_Video_Games</td>\n",
       "      <td>5</td>\n",
       "      <td>If you are prepping for the end of the world t...</td>\n",
       "      <td>2015-08-31</td>\n",
       "    </tr>\n",
       "  </tbody>\n",
       "</table>\n",
       "</div>"
      ],
      "text/plain": [
       "        review_id     product_category  star_rating  \\\n",
       "0   RSH1OZ87OYK92  Digital_Video_Games            2   \n",
       "1  R1WFOQ3N9BO65I  Digital_Video_Games            5   \n",
       "2   R3YOOS71KM5M9  Digital_Video_Games            5   \n",
       "\n",
       "                                         review_body review_date  \n",
       "0  I keep buying madden every year hoping they ge...  2015-08-31  \n",
       "1                                            Awesome  2015-08-31  \n",
       "2  If you are prepping for the end of the world t...  2015-08-31  "
      ]
     },
     "execution_count": 4,
     "metadata": {},
     "output_type": "execute_result"
    }
   ],
   "source": [
    "df.head(3)"
   ]
  },
  {
   "cell_type": "code",
   "execution_count": 5,
   "id": "b5ce5638",
   "metadata": {},
   "outputs": [
    {
     "data": {
      "text/plain": [
       "review_id                   object\n",
       "product_category          category\n",
       "star_rating                  int64\n",
       "review_body                 object\n",
       "review_date         datetime64[ns]\n",
       "dtype: object"
      ]
     },
     "execution_count": 5,
     "metadata": {},
     "output_type": "execute_result"
    }
   ],
   "source": [
    "df.dtypes"
   ]
  },
  {
   "cell_type": "markdown",
   "id": "257a94d0",
   "metadata": {},
   "source": [
    "# BERT Tokenizer  \n",
    "\n",
    "BERT tokenizer to convert text review text to integer tokens to be able to run ML procedures on the review text."
   ]
  },
  {
   "cell_type": "code",
   "execution_count": 6,
   "id": "98230db2",
   "metadata": {},
   "outputs": [],
   "source": [
    "import os\n",
    "import transformers\n",
    "from transformers import (\n",
    "    DistilBertTokenizerFast,\n",
    ")\n",
    "\n",
    "# --------------------------------------------------------------------------------\n",
    "# Control log level (https://huggingface.co/transformers/main_classes/logging.html)\n",
    "# --------------------------------------------------------------------------------\n",
    "os.environ['TRANSFORMERS_VERBOSITY'] = \"error\"\n",
    "transformers.logging.set_verbosity(transformers.logging.ERROR)\n",
    "MAX_SEQUENCE_LENGTH = 256"
   ]
  },
  {
   "cell_type": "code",
   "execution_count": 7,
   "id": "4fd0356c",
   "metadata": {},
   "outputs": [],
   "source": [
    "tokenizer = DistilBertTokenizerFast.from_pretrained(\n",
    "    'distilbert-base-uncased',\n",
    "    do_lower_case=True\n",
    ")\n",
    "\n",
    "\n",
    "def tokenize(sentences, max_length=MAX_SEQUENCE_LENGTH, padding='max_length'):\n",
    "    \"\"\"Tokenize using the Huggingface tokenizer\n",
    "    Args: \n",
    "        sentences: String or list of string to tokenize\n",
    "        max_length: maximum token length that the tokenizer generates\n",
    "        padding: Padding method ['do_not_pad'|'longest'|'max_length']\n",
    "    \"\"\"\n",
    "    return tokenizer(\n",
    "        sentences,\n",
    "        truncation=True,\n",
    "        padding=padding,\n",
    "        max_length=max_length,\n",
    "        return_tensors=\"tf\"\n",
    "    )\n",
    "\n",
    "\n",
    "def decode(input_ids):\n",
    "    \"\"\"Decode token ids back to string sequence\n",
    "    Args: \n",
    "        input_ids: Tensor of List[Integer]\n",
    "    Returns: List of string sentence\n",
    "    \"\"\"\n",
    "    sentence = tokenizer.decode(input_ids.numpy().tolist())\n",
    "    return sentence.replace('[PAD]', '')\n"
   ]
  },
  {
   "cell_type": "code",
   "execution_count": 8,
   "id": "0db7601f",
   "metadata": {},
   "outputs": [
    {
     "name": "stderr",
     "output_type": "stream",
     "text": [
      "2021-08-31 10:52:44.416753: I tensorflow/core/platform/cpu_feature_guard.cc:142] This TensorFlow binary is optimized with oneAPI Deep Neural Network Library (oneDNN) to use the following CPU instructions in performance-critical operations:  SSE4.1 SSE4.2 AVX AVX2 FMA\n",
      "To enable them in other operations, rebuild TensorFlow with the appropriate compiler flags.\n"
     ]
    },
    {
     "data": {
      "text/html": [
       "<div>\n",
       "<style scoped>\n",
       "    .dataframe tbody tr th:only-of-type {\n",
       "        vertical-align: middle;\n",
       "    }\n",
       "\n",
       "    .dataframe tbody tr th {\n",
       "        vertical-align: top;\n",
       "    }\n",
       "\n",
       "    .dataframe thead th {\n",
       "        text-align: right;\n",
       "    }\n",
       "</style>\n",
       "<table border=\"1\" class=\"dataframe\">\n",
       "  <thead>\n",
       "    <tr style=\"text-align: right;\">\n",
       "      <th></th>\n",
       "      <th>review_id</th>\n",
       "      <th>product_category</th>\n",
       "      <th>star_rating</th>\n",
       "      <th>review_body</th>\n",
       "      <th>review_date</th>\n",
       "      <th>input_ids</th>\n",
       "      <th>attention_mask</th>\n",
       "    </tr>\n",
       "  </thead>\n",
       "  <tbody>\n",
       "    <tr>\n",
       "      <th>0</th>\n",
       "      <td>RSH1OZ87OYK92</td>\n",
       "      <td>Digital_Video_Games</td>\n",
       "      <td>2</td>\n",
       "      <td>I keep buying madden every year hoping they ge...</td>\n",
       "      <td>2015-08-31</td>\n",
       "      <td>[101, 1045, 2562, 9343, 24890, 2296, 2095, 532...</td>\n",
       "      <td>[1, 1, 1, 1, 1, 1, 1, 1, 1, 1, 1, 1, 1, 1, 1, ...</td>\n",
       "    </tr>\n",
       "    <tr>\n",
       "      <th>1</th>\n",
       "      <td>R1WFOQ3N9BO65I</td>\n",
       "      <td>Digital_Video_Games</td>\n",
       "      <td>5</td>\n",
       "      <td>Awesome</td>\n",
       "      <td>2015-08-31</td>\n",
       "      <td>[101, 12476, 102, 0, 0, 0, 0, 0, 0, 0, 0, 0, 0...</td>\n",
       "      <td>[1, 1, 1, 0, 0, 0, 0, 0, 0, 0, 0, 0, 0, 0, 0, ...</td>\n",
       "    </tr>\n",
       "    <tr>\n",
       "      <th>2</th>\n",
       "      <td>R3YOOS71KM5M9</td>\n",
       "      <td>Digital_Video_Games</td>\n",
       "      <td>5</td>\n",
       "      <td>If you are prepping for the end of the world t...</td>\n",
       "      <td>2015-08-31</td>\n",
       "      <td>[101, 2065, 2017, 2024, 17463, 4691, 2005, 199...</td>\n",
       "      <td>[1, 1, 1, 1, 1, 1, 1, 1, 1, 1, 1, 1, 1, 1, 1, ...</td>\n",
       "    </tr>\n",
       "  </tbody>\n",
       "</table>\n",
       "</div>"
      ],
      "text/plain": [
       "        review_id     product_category  star_rating  \\\n",
       "0   RSH1OZ87OYK92  Digital_Video_Games            2   \n",
       "1  R1WFOQ3N9BO65I  Digital_Video_Games            5   \n",
       "2   R3YOOS71KM5M9  Digital_Video_Games            5   \n",
       "\n",
       "                                         review_body review_date  \\\n",
       "0  I keep buying madden every year hoping they ge...  2015-08-31   \n",
       "1                                            Awesome  2015-08-31   \n",
       "2  If you are prepping for the end of the world t...  2015-08-31   \n",
       "\n",
       "                                           input_ids  \\\n",
       "0  [101, 1045, 2562, 9343, 24890, 2296, 2095, 532...   \n",
       "1  [101, 12476, 102, 0, 0, 0, 0, 0, 0, 0, 0, 0, 0...   \n",
       "2  [101, 2065, 2017, 2024, 17463, 4691, 2005, 199...   \n",
       "\n",
       "                                      attention_mask  \n",
       "0  [1, 1, 1, 1, 1, 1, 1, 1, 1, 1, 1, 1, 1, 1, 1, ...  \n",
       "1  [1, 1, 1, 0, 0, 0, 0, 0, 0, 0, 0, 0, 0, 0, 0, ...  \n",
       "2  [1, 1, 1, 1, 1, 1, 1, 1, 1, 1, 1, 1, 1, 1, 1, ...  "
      ]
     },
     "execution_count": 8,
     "metadata": {},
     "output_type": "execute_result"
    }
   ],
   "source": [
    "tokens = tokenize(df['review_body'].values.tolist())\n",
    "df['input_ids'] = tokens['input_ids'].numpy().tolist()\n",
    "df['attention_mask'] = tokens['attention_mask'].numpy().tolist()\n",
    "df.head(3)"
   ]
  },
  {
   "cell_type": "markdown",
   "id": "10f131ac",
   "metadata": {},
   "source": [
    "# Amazon product review to TFRecord"
   ]
  },
  {
   "cell_type": "code",
   "execution_count": 9,
   "id": "80405530",
   "metadata": {},
   "outputs": [],
   "source": [
    "from collections import OrderedDict\n",
    "\n",
    "\n",
    "def create_tf_record(row):\n",
    "    record = OrderedDict({\n",
    "        \"review_id\": Feature(bytes_list=BytesList(value=[row['review_id'].encode()])),\n",
    "        \"product_category\": Feature(bytes_list=BytesList(value=[row['product_category'].encode()])),\n",
    "        \"star_rating\": Feature(int64_list=Int64List(value=[row['star_rating']])),\n",
    "        \"review_tokens\": Feature(int64_list=Int64List(value=row['input_ids'])),\n",
    "        \"review_attention_mask\": Feature(int64_list=Int64List(value=row['attention_mask'])),\n",
    "    })\n",
    "    tf_record = tf.train.Example(features=Features(feature=record))\n",
    "    return tf_record\n",
    "\n",
    "tf_records = df.apply(create_tf_record, axis=1)"
   ]
  },
  {
   "cell_type": "markdown",
   "id": "e3269bf1",
   "metadata": {},
   "source": [
    "## Serialize into TFRecord file"
   ]
  },
  {
   "cell_type": "code",
   "execution_count": 10,
   "id": "0ac75b80",
   "metadata": {},
   "outputs": [],
   "source": [
    "tf_record_file_path = \"amazon_product_review.tfrecord\"\n",
    "options = tf.io.TFRecordOptions(compression_type='GZIP')\n",
    "\n",
    "with tf.io.TFRecordWriter(tf_record_file_path, options) as f:\n",
    "    for record in tf_records:\n",
    "        f.write(record.SerializeToString())"
   ]
  },
  {
   "cell_type": "markdown",
   "id": "e108ea33",
   "metadata": {},
   "source": [
    "# Load froom TFRecord file(s)"
   ]
  },
  {
   "cell_type": "code",
   "execution_count": 13,
   "id": "240b4c0b",
   "metadata": {},
   "outputs": [
    {
     "name": "stdout",
     "output_type": "stream",
     "text": [
      "tf.Tensor(b'RSH1OZ87OYK92', shape=(), dtype=string)\n",
      "tf.Tensor(b'R1WFOQ3N9BO65I', shape=(), dtype=string)\n",
      "tf.Tensor(b'R3YOOS71KM5M9', shape=(), dtype=string)\n",
      "tf.Tensor(b'R3R14UATT3OUFU', shape=(), dtype=string)\n",
      "tf.Tensor(b'RV2W9SGDNQA2C', shape=(), dtype=string)\n",
      "tf.Tensor(b'R3CFKLIZ0I2KOB', shape=(), dtype=string)\n",
      "tf.Tensor(b'R1LRYU1V0T3O38', shape=(), dtype=string)\n",
      "tf.Tensor(b'R44QKV6FE5CJ2', shape=(), dtype=string)\n",
      "tf.Tensor(b'R2TX1KLPXXXNYS', shape=(), dtype=string)\n",
      "tf.Tensor(b'R1JEEW4C6R89BA', shape=(), dtype=string)\n"
     ]
    }
   ],
   "source": [
    "record_feature_description = {\n",
    "    \"review_id\": tf.io.FixedLenFeature([], tf.string),\n",
    "    \"product_category\": tf.io.VarLenFeature(tf.string),\n",
    "    \"star_rating\": tf.io.FixedLenFeature([], tf.int64),\n",
    "    # --------------------------------------------------------------------------------\n",
    "    # FixedLenFeature([], tf.int64) causes the error: \n",
    "    # Invalid argument: Key: review_attention_mask.  Can't parse serialized Example.\n",
    "    # --------------------------------------------------------------------------------\n",
    "    # \"review_tokens\": tf.io.FixedLenFeature([], tf.int64),\n",
    "    # \"review_attention_mask\": tf.io.FixedLenFeature([], tf.int64),\n",
    "    \"review_tokens\": tf.io.VarLenFeature(tf.int64),\n",
    "    \"review_attention_mask\": tf.io.VarLenFeature(tf.int64),\n",
    "    # --------------------------------------------------------------------------------\n",
    "}\n",
    "\n",
    "# --------------------------------------------------------------------------------\n",
    "# TF Dataset holding serialized byte data\n",
    "# --------------------------------------------------------------------------------\n",
    "tf_record_ds = tf.data.TFRecordDataset(\n",
    "    filenames=[tf_record_file_path],\n",
    "    compression_type='GZIP'\n",
    ")"
   ]
  },
  {
   "cell_type": "markdown",
   "id": "c0122d8c",
   "metadata": {},
   "source": [
    "## De-serialized one by one\n",
    "\n",
    "Use ```tf.io.parse_single_example``` to de-serialize a single record."
   ]
  },
  {
   "cell_type": "code",
   "execution_count": 17,
   "id": "a15f82b4",
   "metadata": {},
   "outputs": [
    {
     "name": "stdout",
     "output_type": "stream",
     "text": [
      "-----> ID:b'RSH1OZ87OYK92' Rating:2\n",
      "[CLS] i keep buying madden every year hoping they get back to football. this years version is a little better than last years - - but that's not saying much. the game looks great. the only thing wrong with the animation, is the way the players are always tripping on each other. < br / > < br / > the gameplay is still slowed down by the bloated pre - play controls. what used to take two buttons is now a giant pita to get done before an opponent snaps the ball or the play clock runs out. < br / > < br / > the turbo button is back, but the player movement is still slow and awkward. if you liked last years version, i'm guessing you'll like this too. i haven't had a chance to play anything other than training and a few online games, so i'm crossing my fingers and hoping the rest is better. < br / > < br / > the one thing i can recommend is not to buy the madden bundle. the game comes as a download. so if you hate it, there's no trading it in at gamestop. [SEP]                      \n",
      "-----> ID:b'R1WFOQ3N9BO65I' Rating:5\n",
      "[CLS] awesome [SEP]                                                                                                                                                                                                                                                             \n",
      "-----> ID:b'R3YOOS71KM5M9' Rating:5\n",
      "[CLS] if you are prepping for the end of the world this is one of those things that you should have installed on your - end - of - the - world - proof pc. hail to the great yuri! [SEP]                                                                                                                                                                                                                    \n",
      "-----> ID:b'R3R14UATT3OUFU' Rating:5\n",
      "[CLS] perfect [SEP]                                                                                                                                                                                                                                                             \n",
      "-----> ID:b'RV2W9SGDNQA2C' Rating:5\n",
      "[CLS] awesome! [SEP]                                                                                                                                                                                                                                                            \n",
      "-----> ID:b'R3CFKLIZ0I2KOB' Rating:5\n",
      "[CLS] awesome! [SEP]                                                                                                                                                                                                                                                            \n",
      "-----> ID:b'R1LRYU1V0T3O38' Rating:4\n",
      "[CLS] i like the new skills like herbalism in this, and camping is fun. i also like all the new build mode items [SEP]                                                                                                                                                                                                                                     \n",
      "-----> ID:b'R44QKV6FE5CJ2' Rating:5\n",
      "[CLS] super [SEP]                                                                                                                                                                                                                                                             \n",
      "-----> ID:b'R2TX1KLPXXXNYS' Rating:5\n",
      "[CLS] excellent, fast and secure!!! [SEP]                                                                                                                                                                                                                                                      \n",
      "-----> ID:b'R1JEEW4C6R89BA' Rating:5\n",
      "[CLS] ok [SEP]                                                                                                                                                                                                                                                             \n"
     ]
    }
   ],
   "source": [
    "for row in tf_record_ds:\n",
    "    tf_record = tf.io.parse_single_example(row, record_feature_description)\n",
    "    tf_record['review_tokens'] = tf.sparse.to_dense(tf_record['review_tokens'])\n",
    "    print(\"-----> ID:{review_id} Rating:{rating}\\n{review}\".format(\n",
    "        review_id=tf_record['review_id'],\n",
    "        rating=tf_record['star_rating'],\n",
    "        review=decode(tf_record['review_tokens'])\n",
    "    ))"
   ]
  },
  {
   "cell_type": "markdown",
   "id": "5ba65d9a",
   "metadata": {},
   "source": [
    "## De-serialize into a TF dataset in a batch\n",
    "Use tf.io.parse_example to de-serialize records and create a TF dataset."
   ]
  },
  {
   "cell_type": "code",
   "execution_count": 19,
   "id": "8b97f6de",
   "metadata": {},
   "outputs": [
    {
     "name": "stdout",
     "output_type": "stream",
     "text": [
      "tf.Tensor(b'RSH1OZ87OYK92', shape=(), dtype=string)\n",
      "tf.Tensor(b'R1WFOQ3N9BO65I', shape=(), dtype=string)\n",
      "tf.Tensor(b'R3YOOS71KM5M9', shape=(), dtype=string)\n",
      "tf.Tensor(b'R3R14UATT3OUFU', shape=(), dtype=string)\n",
      "tf.Tensor(b'RV2W9SGDNQA2C', shape=(), dtype=string)\n",
      "tf.Tensor(b'R3CFKLIZ0I2KOB', shape=(), dtype=string)\n",
      "tf.Tensor(b'R1LRYU1V0T3O38', shape=(), dtype=string)\n",
      "tf.Tensor(b'R44QKV6FE5CJ2', shape=(), dtype=string)\n",
      "tf.Tensor(b'R2TX1KLPXXXNYS', shape=(), dtype=string)\n",
      "tf.Tensor(b'R1JEEW4C6R89BA', shape=(), dtype=string)\n"
     ]
    }
   ],
   "source": [
    "def _parse_function(example_proto):\n",
    "    return tf.io.parse_example(example_proto, record_feature_description)\n",
    "\n",
    "ds = tf_record_ds.map(_parse_function)\n",
    "for record in ds:\n",
    "    print(record['review_id'])"
   ]
  },
  {
   "cell_type": "code",
   "execution_count": null,
   "id": "e3d34de3",
   "metadata": {},
   "outputs": [],
   "source": []
  }
 ],
 "metadata": {
  "kernelspec": {
   "display_name": "Python 3 (ipykernel)",
   "language": "python",
   "name": "python3"
  },
  "language_info": {
   "codemirror_mode": {
    "name": "ipython",
    "version": 3
   },
   "file_extension": ".py",
   "mimetype": "text/x-python",
   "name": "python",
   "nbconvert_exporter": "python",
   "pygments_lexer": "ipython3",
   "version": "3.8.10"
  }
 },
 "nbformat": 4,
 "nbformat_minor": 5
}
