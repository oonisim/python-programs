{
 "cells": [
  {
   "cell_type": "markdown",
   "id": "729080cd",
   "metadata": {},
   "source": [
    "# PASCAL VOC Dataset\n",
    "\n",
    "* [TensforFlwo Datasets - voc](https://www.tensorflow.org/datasets/catalog/voc)\n",
    "\n",
    "> PASCAL Visual Object Classes Challenge, corresponding to the Classification and Detection competitions.\n",
    "\n",
    "<img src=\"image/pascal_voc_xml_example.png\" align=\"left\" width=350/>"
   ]
  },
  {
   "cell_type": "code",
   "execution_count": 3,
   "id": "f95ee323",
   "metadata": {},
   "outputs": [],
   "source": [
    "from typing import (\n",
    "    Tuple,\n",
    ")\n",
    "import numpy as np\n",
    "import pandas as pd\n",
    "import matplotlib.pyplot as plt\n",
    "import tensorflow as tf\n",
    "import tensorflow_datasets as tfds"
   ]
  },
  {
   "cell_type": "code",
   "execution_count": 4,
   "id": "c15c483c",
   "metadata": {},
   "outputs": [],
   "source": [
    "import sys\n",
    "sys.path.append(\"../../lib\")"
   ]
  },
  {
   "cell_type": "code",
   "execution_count": 5,
   "id": "3979979d",
   "metadata": {},
   "outputs": [],
   "source": [
    "%load_ext autoreload\n",
    "%autoreload 2\n",
    "\n",
    "from util_tf.tfds import (\n",
    "    convert_pascal_voc_bndbox_to_yolo_bbox,\n",
    "    generate_yolo_v1_label_from_pascal_voc,\n",
    "    generate_yolo_v1_data_from_pascal_voc,\n",
    ")\n",
    "from util_tf.geometry.euclidean import (\n",
    "    convert_box_corner_coordinates_to_centre_w_h\n",
    ")\n"
   ]
  },
  {
   "cell_type": "markdown",
   "id": "3b2770a3",
   "metadata": {},
   "source": [
    "# TensorFlow Datasets \n",
    "\n",
    "TFDS has its own Bounding Box representation class as ```(ymin,xmin,ymax,xmax)```. Bounding boxes in TFDS Datasets is reformatted into this format.\n",
    "\n",
    "* [tfds.features.BBox](https://www.tensorflow.org/datasets/api_docs/python/tfds/features/BBox)"
   ]
  },
  {
   "cell_type": "code",
   "execution_count": 6,
   "id": "4272a384",
   "metadata": {},
   "outputs": [
    {
     "data": {
      "text/plain": [
       "[0.0, 1.0, 1.1, 2.1]"
      ]
     },
     "execution_count": 6,
     "metadata": {},
     "output_type": "execute_result"
    }
   ],
   "source": [
    "bbox = tfds.features.BBox(\n",
    "    ymin=0.0, xmin=1.0, ymax=1.1, xmax=2.1\n",
    ")\n",
    "list(bbox)"
   ]
  },
  {
   "cell_type": "markdown",
   "id": "fbc420e3",
   "metadata": {},
   "source": [
    "# TensorFlow Datasets Pascal VOC\n",
    "\n",
    "TFDS BBox format is ```(y_min, x_min, y_max, x_max)``` and normalized by the image size.\n",
    "\n",
    "```\n",
    "tfds.features.BBox(\n",
    "    ymin, xmin, ymax, xmax\n",
    ")\n",
    "```\n",
    "\n",
    "* [datasets/tensorflow_datasets/object_detection/voc.py](https://github.com/tensorflow/datasets/blob/master/tensorflow_datasets/object_detection/voc.py#L89-121)\n",
    "\n",
    "```\n",
    "def _get_example_objects(annon_filepath):\n",
    "  \"\"\"Function to get all the objects from the annotation XML file.\"\"\"\n",
    "  with tf.io.gfile.GFile(annon_filepath, \"r\") as f:\n",
    "    root = xml.etree.ElementTree.parse(f).getroot()\n",
    "\n",
    "    # Disable pytype to avoid attribute-error due to find returning\n",
    "    # Optional[Element]\n",
    "    # pytype: disable=attribute-error\n",
    "    size = root.find(\"size\")\n",
    "    width = float(size.find(\"width\").text)\n",
    "    height = float(size.find(\"height\").text)\n",
    "\n",
    "    for obj in root.findall(\"object\"):\n",
    "      # Get object's label name.\n",
    "      label = obj.find(\"name\").text.lower()\n",
    "      # Get objects' pose name.\n",
    "      pose = obj.find(\"pose\").text.lower()\n",
    "      is_truncated = obj.find(\"truncated\").text == \"1\"\n",
    "      is_difficult = obj.find(\"difficult\").text == \"1\"\n",
    "      bndbox = obj.find(\"bndbox\")\n",
    "      xmax = float(bndbox.find(\"xmax\").text)\n",
    "      xmin = float(bndbox.find(\"xmin\").text)\n",
    "      ymax = float(bndbox.find(\"ymax\").text)\n",
    "      ymin = float(bndbox.find(\"ymin\").text)\n",
    "      yield {\n",
    "          \"label\": label,\n",
    "          \"pose\": pose,\n",
    "          \"bbox\": tfds.features.BBox(\n",
    "              ymin / height, xmin / width, ymax / height, xmax / width\n",
    "          ),\n",
    "          \"is_truncated\": is_truncated,\n",
    "          \"is_difficult\": is_difficult,\n",
    "      }\n",
    "```"
   ]
  },
  {
   "cell_type": "code",
   "execution_count": 7,
   "id": "d89e7782",
   "metadata": {},
   "outputs": [
    {
     "name": "stderr",
     "output_type": "stream",
     "text": [
      "INFO:absl:No config specified, defaulting to config: voc/2007\n",
      "INFO:absl:Load dataset info from /Volumes/SSD/data/tfds/voc/2007/4.0.0\n",
      "INFO:absl:Reusing dataset voc (/Volumes/SSD/data/tfds/voc/2007/4.0.0)\n",
      "WARNING:absl:`TensorInfo.dtype` is deprecated. Please change your code to use NumPy with the field `TensorInfo.np_dtype` or use TensorFlow with the field `TensorInfo.tf_dtype`.\n",
      "WARNING:absl:You use TensorFlow DType <dtype: 'float32'> in tfds.features This will soon be deprecated in favor of NumPy DTypes. In the meantime it was converted to float32.\n",
      "WARNING:absl:`TensorInfo.dtype` is deprecated. Please change your code to use NumPy with the field `TensorInfo.np_dtype` or use TensorFlow with the field `TensorInfo.tf_dtype`.\n",
      "WARNING:absl:You use TensorFlow DType <dtype: 'bool'> in tfds.features This will soon be deprecated in favor of NumPy DTypes. In the meantime it was converted to bool.\n",
      "WARNING:absl:`TensorInfo.dtype` is deprecated. Please change your code to use NumPy with the field `TensorInfo.np_dtype` or use TensorFlow with the field `TensorInfo.tf_dtype`.\n",
      "WARNING:absl:`TensorInfo.dtype` is deprecated. Please change your code to use NumPy with the field `TensorInfo.np_dtype` or use TensorFlow with the field `TensorInfo.tf_dtype`.\n",
      "WARNING:absl:You use TensorFlow DType <dtype: 'int64'> in tfds.features This will soon be deprecated in favor of NumPy DTypes. In the meantime it was converted to int64.\n",
      "WARNING:absl:`TensorInfo.dtype` is deprecated. Please change your code to use NumPy with the field `TensorInfo.np_dtype` or use TensorFlow with the field `TensorInfo.tf_dtype`.\n",
      "WARNING:absl:`TensorInfo.dtype` is deprecated. Please change your code to use NumPy with the field `TensorInfo.np_dtype` or use TensorFlow with the field `TensorInfo.tf_dtype`.\n",
      "WARNING:absl:`TensorInfo.dtype` is deprecated. Please change your code to use NumPy with the field `TensorInfo.np_dtype` or use TensorFlow with the field `TensorInfo.tf_dtype`.\n",
      "INFO:absl:Constructing tf.data.Dataset voc for split None, from /Volumes/SSD/data/tfds/voc/2007/4.0.0\n"
     ]
    },
    {
     "data": {
      "text/plain": [
       "tfds.core.DatasetInfo(\n",
       "    name='voc',\n",
       "    full_name='voc/2007/4.0.0',\n",
       "    description=\"\"\"\n",
       "    This dataset contains the data from the PASCAL Visual Object Classes Challenge,\n",
       "    corresponding to the Classification and Detection competitions.\n",
       "    \n",
       "    In the Classification competition, the goal is to predict the set of labels\n",
       "    contained in the image, while in the Detection competition the goal is to\n",
       "    predict the bounding box and label of each individual object.\n",
       "    WARNING: As per the official dataset, the test set of VOC2012 does not contain\n",
       "    annotations.\n",
       "    \"\"\",\n",
       "    config_description=\"\"\"\n",
       "    This dataset contains the data from the PASCAL Visual Object Classes Challenge\n",
       "    2007, a.k.a. VOC2007.\n",
       "    \n",
       "    A total of 9963 images are included in this dataset, where each image\n",
       "    contains a set of objects, out of 20 different classes, making a total of\n",
       "    24640 annotated objects.\n",
       "    \n",
       "    \"\"\",\n",
       "    homepage='http://host.robots.ox.ac.uk/pascal/VOC/voc2007/',\n",
       "    data_path='/Volumes/SSD/data/tfds/voc/2007/4.0.0',\n",
       "    file_format=tfrecord,\n",
       "    download_size=868.85 MiB,\n",
       "    dataset_size=837.73 MiB,\n",
       "    features=FeaturesDict({\n",
       "        'image': Image(shape=(None, None, 3), dtype=uint8),\n",
       "        'image/filename': Text(shape=(), dtype=string),\n",
       "        'labels': Sequence(ClassLabel(shape=(), dtype=int64, num_classes=20)),\n",
       "        'labels_no_difficult': Sequence(ClassLabel(shape=(), dtype=int64, num_classes=20)),\n",
       "        'objects': Sequence({\n",
       "            'bbox': BBoxFeature(shape=(4,), dtype=float32),\n",
       "            'is_difficult': bool,\n",
       "            'is_truncated': bool,\n",
       "            'label': ClassLabel(shape=(), dtype=int64, num_classes=20),\n",
       "            'pose': ClassLabel(shape=(), dtype=int64, num_classes=5),\n",
       "        }),\n",
       "    }),\n",
       "    supervised_keys=None,\n",
       "    disable_shuffling=False,\n",
       "    splits={\n",
       "        'test': <SplitInfo num_examples=4952, num_shards=4>,\n",
       "        'train': <SplitInfo num_examples=2501, num_shards=2>,\n",
       "        'validation': <SplitInfo num_examples=2510, num_shards=2>,\n",
       "    },\n",
       "    citation=\"\"\"@misc{pascal-voc-2007,\n",
       "    \tauthor = \"Everingham, M. and Van~Gool, L. and Williams, C. K. I. and Winn, J. and Zisserman, A.\",\n",
       "    \ttitle = \"The {PASCAL} {V}isual {O}bject {C}lasses {C}hallenge 2007 {(VOC2007)} {R}esults\",\n",
       "    \thowpublished = \"http://www.pascal-network.org/challenges/VOC/voc2007/workshop/index.html\"}\"\"\",\n",
       ")"
      ]
     },
     "execution_count": 7,
     "metadata": {},
     "output_type": "execute_result"
    }
   ],
   "source": [
    "voc, info = tfds.load(\n",
    "    name='voc', \n",
    "    # split='train',\n",
    "    data_dir=\"/Volumes/SSD/data/tfds/\",\n",
    "    with_info=True,\n",
    ")\n",
    "info"
   ]
  },
  {
   "cell_type": "code",
   "execution_count": null,
   "id": "d8be1080",
   "metadata": {},
   "outputs": [
    {
     "name": "stderr",
     "output_type": "stream",
     "text": [
      "INFO:absl:Was not able to auto-infer label.\n",
      "2023-03-06 13:58:17.918308: W tensorflow/tsl/platform/profile_utils/cpu_utils.cc:128] Failed to get CPU frequency: 0 Hz\n"
     ]
    }
   ],
   "source": [
    "fig = tfds.show_examples(voc['train'], info)"
   ]
  },
  {
   "cell_type": "code",
   "execution_count": 9,
   "id": "2c1852c6",
   "metadata": {},
   "outputs": [
    {
     "data": {
      "text/html": [
       "<style type=\"text/css\">\n",
       "</style>\n",
       "<table id=\"T_8f446\">\n",
       "  <thead>\n",
       "    <tr>\n",
       "      <th class=\"blank level0\" >&nbsp;</th>\n",
       "      <th id=\"T_8f446_level0_col0\" class=\"col_heading level0 col0\" >image</th>\n",
       "      <th id=\"T_8f446_level0_col1\" class=\"col_heading level0 col1\" >image/filename</th>\n",
       "      <th id=\"T_8f446_level0_col2\" class=\"col_heading level0 col2\" >labels</th>\n",
       "      <th id=\"T_8f446_level0_col3\" class=\"col_heading level0 col3\" >labels_no_difficult</th>\n",
       "      <th id=\"T_8f446_level0_col4\" class=\"col_heading level0 col4\" >objects/bbox</th>\n",
       "      <th id=\"T_8f446_level0_col5\" class=\"col_heading level0 col5\" >objects/is_difficult</th>\n",
       "      <th id=\"T_8f446_level0_col6\" class=\"col_heading level0 col6\" >objects/is_truncated</th>\n",
       "      <th id=\"T_8f446_level0_col7\" class=\"col_heading level0 col7\" >objects/label</th>\n",
       "      <th id=\"T_8f446_level0_col8\" class=\"col_heading level0 col8\" >objects/pose</th>\n",
       "    </tr>\n",
       "  </thead>\n",
       "  <tbody>\n",
       "    <tr>\n",
       "      <th id=\"T_8f446_level0_row0\" class=\"row_heading level0 row0\" >0</th>\n",
       "      <td id=\"T_8f446_row0_col0\" class=\"data row0 col0\" ><img src=\"data:image/png;base64,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\" alt=\"Img\" /></td>\n",
       "      <td id=\"T_8f446_row0_col1\" class=\"data row0 col1\" >007308.jpg</td>\n",
       "      <td id=\"T_8f446_row0_col2\" class=\"data row0 col2\" ><div style=\"overflow-y: scroll; max-height: 300px;\" >12 (horse)<br/>14 (person)</div></td>\n",
       "      <td id=\"T_8f446_row0_col3\" class=\"data row0 col3\" ><div style=\"overflow-y: scroll; max-height: 300px;\" >12 (horse)<br/>14 (person)</div></td>\n",
       "      <td id=\"T_8f446_row0_col4\" class=\"data row0 col4\" ><img src=\"data:image/png;base64,iVBORw0KGgoAAAANSUhEUgAAAIAAAACACAIAAABMXPacAAACJklEQVR4nO3cMU7CUACA4YfxBh7BgUsgi8GwyshiWfEELAwuXkBmDYkdnY2Ji/EaHoEz1IHEAFEs9D3+tPzfRmgfL/3T16RtaBVFEcQ5oSdw7AwAMwDMADADwAwAMwDMADADwAwAMwDMADADwAwAMwDMADADwE43PnezWayhz6/eYw0VxdfbZcURPp5uo8xkTbHu4uahiCR7vo41VHXVJxPxyKxyCYIZAGYAmAFgBoAZAGYAmAFgBoAZAGYAmAFgBoAZAGYAmAFgBoAZAGYAmAFgBoAZAGYAmAFgBoAZAGYAmAFgBoAZAGYAmAFgBoAZAGYAmAFgBoAZAGYAmAFgBoAZAGYAmAFgBoAZAGYAmAFgBoAZAGYA2Oaf9tVO3p+U2awX2vl825bD1/tIM9pN7QOEcsdulA8ehy9/fVuyYgouQbC0Z8AoHyQdP4TQC+0D/Eo6CQNsOeUjyueTw/xQIk24Bix1pou99x2X2D3RYt2cACGEz7uz/XbM+//sW6Xudl6EYQaAGQBmAJgBYAaAGQBmAJgBYAaAGQBmAJgBYAaAGQBmAFgTHsgs32kYh5D36ansrvYBft5J6UwXez8RA7kEwQwAMwDMADADwAwAMwDMADADwAwAMwDMADADwGp/N3RVurf402lOgNT3ortZkmFdgmAGgBkAZgCYAWAGgBkAZgCYAWAGgBkAZgCYAWC/3A3tZrPDz+NotYqioOdw1FyCYAaAfQMD8K06GMQb2wAAAABJRU5ErkJggg==\" alt=\"Img\" /></td>\n",
       "      <td id=\"T_8f446_row0_col5\" class=\"data row0 col5\" ><div style=\"overflow-y: scroll; max-height: 300px;\" >False<br/>False<br/>False<br/>True</div></td>\n",
       "      <td id=\"T_8f446_row0_col6\" class=\"data row0 col6\" ><div style=\"overflow-y: scroll; max-height: 300px;\" >False<br/>False<br/>True<br/>True</div></td>\n",
       "      <td id=\"T_8f446_row0_col7\" class=\"data row0 col7\" ><div style=\"overflow-y: scroll; max-height: 300px;\" >12 (horse)<br/>14 (person)<br/>12 (horse)<br/>14 (person)</div></td>\n",
       "      <td id=\"T_8f446_row0_col8\" class=\"data row0 col8\" ><div style=\"overflow-y: scroll; max-height: 300px;\" >4 (unspecified)<br/>4 (unspecified)<br/>4 (unspecified)<br/>4 (unspecified)</div></td>\n",
       "    </tr>\n",
       "    <tr>\n",
       "      <th id=\"T_8f446_level0_row1\" class=\"row_heading level0 row1\" >1</th>\n",
       "      <td id=\"T_8f446_row1_col0\" class=\"data row1 col0\" ><img src=\"data:image/png;base64,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\" alt=\"Img\" /></td>\n",
       "      <td id=\"T_8f446_row1_col1\" class=\"data row1 col1\" >006362.jpg</td>\n",
       "      <td id=\"T_8f446_row1_col2\" class=\"data row1 col2\" ><div style=\"overflow-y: scroll; max-height: 300px;\" >6 (car)</div></td>\n",
       "      <td id=\"T_8f446_row1_col3\" class=\"data row1 col3\" ><div style=\"overflow-y: scroll; max-height: 300px;\" >6 (car)</div></td>\n",
       "      <td id=\"T_8f446_row1_col4\" class=\"data row1 col4\" ><img src=\"data:image/png;base64,iVBORw0KGgoAAAANSUhEUgAAAIAAAACACAIAAABMXPacAAABmUlEQVR4nO3cMU7DMABA0RTlJtyjIwdgZGpnzpMZpo7cgIWLhRUxpIvpU8l/qyPbyo88RT6s6zrFedAb2LsCYAXACoAVACsAVgCsANi8PXw8LbfZx935en8dMs+VAANX+k8GfpcdQVgBsAJgBcAKgBUAKwBWAKwAWAGwAmAFwAqAFQArAFYArABYAbACYAXACoAVACsAVgCsAFgBsAJg8/nyvDH8+DSdL59jl3x7+Rg74V2bp803cjwtY3/O3e69Qx1BWAGwAmAFwAqAFQArAFYArABYAbACYAXACoAVACsAVgCsAFgBsAJgBcAKgBUAKwBWAKwAWAGwAmAFwAqAFQArAFYArABYAbACYAXACoAVACsAVgCsAFgBsAJgBcAKgBUAKwBWAKwAWAGwAmAFwAqAFQCbp82rJP/i3tD8NG9fozr83tD80hGEFQArAFYArABYAbACYAXACoAVACsAVgCsAFgBsAJgBcAKgM1XnzielhvsY7cO67rqPexaRxBWAKwAWAGwAmAFwAqAFQArAFYArABYAbACYN+7HiGUL5D36gAAAABJRU5ErkJggg==\" alt=\"Img\" /></td>\n",
       "      <td id=\"T_8f446_row1_col5\" class=\"data row1 col5\" ><div style=\"overflow-y: scroll; max-height: 300px;\" >False<br/>False</div></td>\n",
       "      <td id=\"T_8f446_row1_col6\" class=\"data row1 col6\" ><div style=\"overflow-y: scroll; max-height: 300px;\" >False<br/>True</div></td>\n",
       "      <td id=\"T_8f446_row1_col7\" class=\"data row1 col7\" ><div style=\"overflow-y: scroll; max-height: 300px;\" >6 (car)<br/>6 (car)</div></td>\n",
       "      <td id=\"T_8f446_row1_col8\" class=\"data row1 col8\" ><div style=\"overflow-y: scroll; max-height: 300px;\" >4 (unspecified)<br/>4 (unspecified)</div></td>\n",
       "    </tr>\n",
       "  </tbody>\n",
       "</table>\n"
      ],
      "text/plain": [
       "                                               image image/filename    labels  \\\n",
       "0  [[[101, 102, 32], [131, 132, 64], [106, 108, 4...  b'007308.jpg'  [12, 14]   \n",
       "1  [[[255, 255, 251], [255, 255, 251], [255, 255,...  b'006362.jpg'       [6]   \n",
       "\n",
       "  labels_no_difficult                                       objects/bbox  \\\n",
       "0            [12, 14]  [[0.14375, 0.043701798, 0.97083336, 0.7763496]...   \n",
       "1                 [6]  [[0.074666664, 0.08, 0.88533336, 0.812], [0.30...   \n",
       "\n",
       "          objects/is_difficult        objects/is_truncated     objects/label  \\\n",
       "0  [False, False, False, True]  [False, False, True, True]  [12, 14, 12, 14]   \n",
       "1               [False, False]               [False, True]            [6, 6]   \n",
       "\n",
       "   objects/pose  \n",
       "0  [4, 4, 4, 4]  \n",
       "1        [4, 4]  "
      ]
     },
     "execution_count": 9,
     "metadata": {},
     "output_type": "execute_result"
    }
   ],
   "source": [
    "tfds.as_dataframe(voc['train'].take(2), info)"
   ]
  },
  {
   "cell_type": "markdown",
   "id": "10e5d72d",
   "metadata": {},
   "source": [
    "---\n",
    "# Bounding Box"
   ]
  },
  {
   "cell_type": "code",
   "execution_count": 10,
   "id": "aa36a99c",
   "metadata": {},
   "outputs": [
    {
     "name": "stdout",
     "output_type": "stream",
     "text": [
      "<_UnbatchDataset element_spec=TensorSpec(shape=(4,), dtype=tf.float32, name=None)>\n",
      "tf.Tensor([0.14375    0.0437018  0.97083336 0.7763496 ], shape=(4,), dtype=float32)\n",
      "tf.Tensor([0.14583333 0.24164525 0.57916665 0.6066838 ], shape=(4,), dtype=float32)\n",
      "tf.Tensor([0.6        0.5244216  0.8541667  0.76606685], shape=(4,), dtype=float32)\n",
      "tf.Tensor([0.56041664 0.5012854  0.7395833  0.6863753 ], shape=(4,), dtype=float32)\n"
     ]
    }
   ],
   "source": [
    "def extract_bounding_box(dataset):\n",
    "    return dataset['objects']['bbox']\n",
    "\n",
    "# unbatch() because each row has multiple bounding boxes\n",
    "# Unbatch() is basically flatten\n",
    "boxes = voc['train'].take(1).map(extract_bounding_box).unbatch()\n",
    "print(boxes)\n",
    "for box in boxes:\n",
    "    print(box)"
   ]
  },
  {
   "cell_type": "code",
   "execution_count": 11,
   "id": "ffa7bb9c",
   "metadata": {},
   "outputs": [
    {
     "name": "stdout",
     "output_type": "stream",
     "text": [
      "tf.Tensor([[0.41002572 0.5572917  0.7326478  0.82708335]], shape=(1, 4), dtype=float32)\n",
      "tf.Tensor([[0.42416453 0.36249998 0.36503854 0.43333334]], shape=(1, 4), dtype=float32)\n",
      "tf.Tensor([[0.64524424 0.7270833  0.24164528 0.25416666]], shape=(1, 4), dtype=float32)\n",
      "tf.Tensor([[0.59383035 0.65       0.18508995 0.17916667]], shape=(1, 4), dtype=float32)\n"
     ]
    }
   ],
   "source": [
    "yolo_bboxes = boxes.flat_map(convert_pascal_voc_bndbox_to_yolo_bbox)\n",
    "for box in yolo_bboxes:\n",
    "    print(box)"
   ]
  },
  {
   "cell_type": "markdown",
   "id": "c2fcfaa6",
   "metadata": {},
   "source": [
    "# Dataset(label)"
   ]
  },
  {
   "cell_type": "code",
   "execution_count": 12,
   "id": "3373beca",
   "metadata": {},
   "outputs": [
    {
     "name": "stdout",
     "output_type": "stream",
     "text": [
      "0 tf.Tensor(12, shape=(), dtype=int64)\n",
      "1 tf.Tensor(14, shape=(), dtype=int64)\n",
      "2 tf.Tensor(12, shape=(), dtype=int64)\n",
      "3 tf.Tensor(14, shape=(), dtype=int64)\n"
     ]
    }
   ],
   "source": [
    "def extract_label(dataset):\n",
    "    return dataset['objects']['label']\n",
    "\n",
    "labels = voc['train'].take(1).map(extract_label).unbatch()\n",
    "for index, label in enumerate(labels):\n",
    "    print(index, label)"
   ]
  },
  {
   "cell_type": "markdown",
   "id": "394e5b53",
   "metadata": {},
   "source": [
    "# Dataset(image)"
   ]
  },
  {
   "cell_type": "code",
   "execution_count": 13,
   "id": "c9273bd5",
   "metadata": {},
   "outputs": [
    {
     "name": "stdout",
     "output_type": "stream",
     "text": [
      "0 (2, 480, 389, 3)\n"
     ]
    }
   ],
   "source": [
    "def extract_image(dataset):\n",
    "    image = dataset['image'][tf.newaxis, ...]\n",
    "    return tf.repeat(\n",
    "        input=image,\n",
    "        repeats=2,\n",
    "        axis=0\n",
    "    )\n",
    "    \n",
    "\n",
    "images = voc['train'].take(1).map(extract_image)\n",
    "for index, img in enumerate(images):\n",
    "    print(index, img.shape)"
   ]
  },
  {
   "cell_type": "markdown",
   "id": "d25670af",
   "metadata": {},
   "source": [
    "---\n"
   ]
  },
  {
   "cell_type": "markdown",
   "id": "0657588f",
   "metadata": {},
   "source": [
    "# YOLO v1 Labels"
   ]
  },
  {
   "cell_type": "code",
   "execution_count": 14,
   "id": "c6ecb099",
   "metadata": {},
   "outputs": [],
   "source": [
    "tf.config.run_functions_eagerly(False)"
   ]
  },
  {
   "cell_type": "code",
   "execution_count": 15,
   "id": "66832bee",
   "metadata": {},
   "outputs": [
    {
     "name": "stdout",
     "output_type": "stream",
     "text": [
      "0 tf.Tensor(\n",
      "[0.         0.         0.         0.         0.         0.\n",
      " 0.         0.         0.         0.         0.         0.\n",
      " 1.         0.         0.         0.         0.         0.\n",
      " 0.         0.         1.         0.41002572 0.5572917  0.7326478\n",
      " 0.82708335], shape=(25,), dtype=float32)\n",
      "1 tf.Tensor(\n",
      "[0.         0.         0.         0.         0.         0.\n",
      " 0.         0.         0.         0.         0.         0.\n",
      " 0.         0.         1.         0.         0.         0.\n",
      " 0.         0.         1.         0.42416453 0.36249998 0.36503854\n",
      " 0.43333334], shape=(25,), dtype=float32)\n",
      "2 tf.Tensor(\n",
      "[0.         0.         0.         0.         0.         0.\n",
      " 0.         0.         0.         0.         0.         0.\n",
      " 1.         0.         0.         0.         0.         0.\n",
      " 0.         0.         1.         0.64524424 0.7270833  0.24164528\n",
      " 0.25416666], shape=(25,), dtype=float32)\n",
      "3 tf.Tensor(\n",
      "[0.         0.         0.         0.         0.         0.\n",
      " 0.         0.         0.         0.         0.         0.\n",
      " 0.         0.         1.         0.         0.         0.\n",
      " 0.         0.         1.         0.59383035 0.65       0.18508995\n",
      " 0.17916667], shape=(25,), dtype=float32)\n",
      "4 tf.Tensor(\n",
      "[0.         0.         0.         0.         0.         0.\n",
      " 1.         0.         0.         0.         0.         0.\n",
      " 0.         0.         0.         0.         0.         0.\n",
      " 0.         0.         1.         0.44599998 0.48000002 0.732\n",
      " 0.8106667 ], shape=(25,), dtype=float32)\n",
      "5 tf.Tensor(\n",
      "[0.         0.         0.         0.         0.         0.\n",
      " 1.         0.         0.         0.         0.         0.\n",
      " 0.         0.         0.         0.         0.         0.\n",
      " 0.         0.         1.         0.147      0.52133334 0.29\n",
      " 0.43466666], shape=(25,), dtype=float32)\n",
      "6 tf.Tensor(\n",
      "[0.         0.         1.         0.         0.         0.\n",
      " 0.         0.         0.         0.         0.         0.\n",
      " 0.         0.         0.         0.         0.         0.\n",
      " 0.         0.         1.         0.503      0.63199997 0.994\n",
      " 0.736     ], shape=(25,), dtype=float32)\n"
     ]
    }
   ],
   "source": [
    "labels = voc['train'].take(3).flat_map(generate_yolo_v1_label_from_pascal_voc)\n",
    "for index, label in enumerate(labels):\n",
    "    print(index, label)"
   ]
  },
  {
   "cell_type": "markdown",
   "id": "d714e023",
   "metadata": {},
   "source": [
    "# YOLO v1 Data\n",
    "\n",
    "Generate data for supervised trainining as ```(input, label)``` format where ```input``` is a resized image of shape ```(448,448,3)``` and ```label``` is YOLO v1 label of format ```(C,P)``` where ```P=(cp,x,y,w,h)```."
   ]
  },
  {
   "cell_type": "code",
   "execution_count": 16,
   "id": "40634272",
   "metadata": {},
   "outputs": [
    {
     "name": "stdout",
     "output_type": "stream",
     "text": [
      "WARNING:tensorflow:From /Users/oonisim/venv/tf/lib/python3.9/site-packages/tensorflow/python/autograph/pyct/static_analysis/liveness.py:83: Analyzer.lamba_check (from tensorflow.python.autograph.pyct.static_analysis.liveness) is deprecated and will be removed after 2023-09-23.\n",
      "Instructions for updating:\n",
      "Lambda fuctions will be no more assumed to be used in the statement where they are used, or at least in the same block. https://github.com/tensorflow/tensorflow/issues/56089\n"
     ]
    },
    {
     "name": "stderr",
     "output_type": "stream",
     "text": [
      "WARNING:tensorflow:From /Users/oonisim/venv/tf/lib/python3.9/site-packages/tensorflow/python/autograph/pyct/static_analysis/liveness.py:83: Analyzer.lamba_check (from tensorflow.python.autograph.pyct.static_analysis.liveness) is deprecated and will be removed after 2023-09-23.\n",
      "Instructions for updating:\n",
      "Lambda fuctions will be no more assumed to be used in the statement where they are used, or at least in the same block. https://github.com/tensorflow/tensorflow/issues/56089\n"
     ]
    },
    {
     "name": "stdout",
     "output_type": "stream",
     "text": [
      "0 (448, 448, 3) (25,)\n",
      "1 (448, 448, 3) (25,)\n",
      "2 (448, 448, 3) (25,)\n",
      "3 (448, 448, 3) (25,)\n",
      "4 (448, 448, 3) (25,)\n",
      "5 (448, 448, 3) (25,)\n",
      "6 (448, 448, 3) (25,)\n",
      "7\n"
     ]
    },
    {
     "data": {
      "text/plain": [
       "-2"
      ]
     },
     "execution_count": 16,
     "metadata": {},
     "output_type": "execute_result"
    }
   ],
   "source": [
    "data = voc['train'].take(3).flat_map(generate_yolo_v1_data_from_pascal_voc)\n",
    "count = 0\n",
    "for index, row in enumerate(data):\n",
    "    print(index, row[0].shape, row[1].shape)\n",
    "    count += 1\n",
    "\n",
    "print(count)\n",
    "\n",
    "tf.data.Dataset.cardinality(data).numpy()"
   ]
  },
  {
   "cell_type": "code",
   "execution_count": null,
   "id": "2b170b34",
   "metadata": {},
   "outputs": [],
   "source": []
  }
 ],
 "metadata": {
  "kernelspec": {
   "display_name": "Python 3 (ipykernel)",
   "language": "python",
   "name": "python3"
  },
  "language_info": {
   "codemirror_mode": {
    "name": "ipython",
    "version": 3
   },
   "file_extension": ".py",
   "mimetype": "text/x-python",
   "name": "python",
   "nbconvert_exporter": "python",
   "pygments_lexer": "ipython3",
   "version": "3.9.13"
  }
 },
 "nbformat": 4,
 "nbformat_minor": 5
}
