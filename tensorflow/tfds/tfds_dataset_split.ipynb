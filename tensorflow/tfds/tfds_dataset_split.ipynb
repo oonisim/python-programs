{
 "cells": [
  {
   "cell_type": "markdown",
   "id": "0015d53c",
   "metadata": {},
   "source": [
    "# Using Existing Splits\n",
    "\n",
    "Instead of using ```sklearn.model_selection.train_test_split```, use the pre-configured splits.\n",
    "<img src=\"image/tfds_dataset_existing_splits.png\" align=\"left\"/>"
   ]
  },
  {
   "cell_type": "code",
   "execution_count": 1,
   "id": "2a304bae",
   "metadata": {},
   "outputs": [
    {
     "name": "stderr",
     "output_type": "stream",
     "text": [
      "2021-07-16 11:09:22.072892: I tensorflow/core/platform/cpu_feature_guard.cc:142] This TensorFlow binary is optimized with oneAPI Deep Neural Network Library (oneDNN) to use the following CPU instructions in performance-critical operations:  SSE4.1 SSE4.2 AVX AVX2 FMA\n",
      "To enable them in other operations, rebuild TensorFlow with the appropriate compiler flags.\n"
     ]
    }
   ],
   "source": [
    "import tensorflow as tf\n",
    "import tensorflow_datasets as tfds\n",
    "import tensorflow_addons as tfa\n",
    "\n",
    "# Construct a tf.data.Dataset\n",
    "mnist, info = tfds.load(\n",
    "    'mnist',              # Name of the dataset\n",
    "    with_info=True,       # Information of the dataset\n",
    "    shuffle_files=True, \n",
    ")"
   ]
  },
  {
   "cell_type": "markdown",
   "id": "1b135a0f",
   "metadata": {},
   "source": [
    "## Dataset Information"
   ]
  },
  {
   "cell_type": "code",
   "execution_count": 2,
   "id": "dea9f1be",
   "metadata": {},
   "outputs": [
    {
     "data": {
      "text/plain": [
       "tfds.core.DatasetInfo(\n",
       "    name='mnist',\n",
       "    version=1.0.0,\n",
       "    description='The MNIST database of handwritten digits.',\n",
       "    urls=['https://storage.googleapis.com/cvdf-datasets/mnist/'],\n",
       "    features=FeaturesDict({\n",
       "        'image': Image(shape=(28, 28, 1), dtype=tf.uint8),\n",
       "        'label': ClassLabel(shape=(), dtype=tf.int64, num_classes=10),\n",
       "    }),\n",
       "    total_num_examples=70000,\n",
       "    splits={\n",
       "        'test': 10000,\n",
       "        'train': 60000,\n",
       "    },\n",
       "    supervised_keys=('image', 'label'),\n",
       "    citation=\"\"\"@article{lecun2010mnist,\n",
       "      title={MNIST handwritten digit database},\n",
       "      author={LeCun, Yann and Cortes, Corinna and Burges, CJ},\n",
       "      journal={ATT Labs [Online]. Available: http://yann. lecun. com/exdb/mnist},\n",
       "      volume={2},\n",
       "      year={2010}\n",
       "    }\"\"\",\n",
       "    redistribution_info=,\n",
       ")"
      ]
     },
     "execution_count": 2,
     "metadata": {},
     "output_type": "execute_result"
    }
   ],
   "source": [
    "info"
   ]
  },
  {
   "cell_type": "markdown",
   "id": "9e3d7f33",
   "metadata": {},
   "source": [
    "# Loading a specific split\n",
    "\n",
    "Dataset in the format (data, label) ready for training ```monitor.fit()```."
   ]
  },
  {
   "cell_type": "code",
   "execution_count": 3,
   "id": "f3b611b5",
   "metadata": {},
   "outputs": [
    {
     "data": {
      "text/plain": [
       "<_OptionsDataset shapes: {image: (28, 28, 1), label: ()}, types: {image: tf.uint8, label: tf.int64}>"
      ]
     },
     "execution_count": 3,
     "metadata": {},
     "output_type": "execute_result"
    }
   ],
   "source": [
    "mnist_test_data = tfds.load('mnist', split=tfds.Split.TEST)\n",
    "mnist_test_data"
   ]
  },
  {
   "cell_type": "code",
   "execution_count": 6,
   "id": "d4411f2d",
   "metadata": {},
   "outputs": [
    {
     "name": "stdout",
     "output_type": "stream",
     "text": [
      "(28, 28, 1)\n"
     ]
    },
    {
     "data": {
      "image/png": "[encoded data removed]",
      "text/plain": [
       "<Figure size 432x288 with 1 Axes>"
      ]
     },
     "metadata": {
      "needs_background": "light"
     },
     "output_type": "display_data"
    }
   ],
   "source": [
    "import matplotlib.pyplot as plt\n",
    "for test_data in mnist_test_data.take(1):\n",
    "    print(test_data['image'].shape)\n",
    "    plt.imshow(tf.cast(test_data['image'], dtype=tf.float32))"
   ]
  },
  {
   "cell_type": "markdown",
   "id": "65c8c03d",
   "metadata": {},
   "source": [
    "# Train, Validation Split"
   ]
  },
  {
   "cell_type": "code",
   "execution_count": 9,
   "id": "02fbb695",
   "metadata": {},
   "outputs": [
    {
     "name": "stderr",
     "output_type": "stream",
     "text": [
      "WARNING:absl:Warning: Setting shuffle_files=True because split=TRAIN and shuffle_files=None. This behavior will be deprecated on 2019-08-06, at which point shuffle_files=False will be the default for all splits.\n"
     ]
    }
   ],
   "source": [
    "(train_data, train_label), (validation_data, validation_label) = tfds.as_numpy(tfds.load(\n",
    "    'mnist',\n",
    "    split=['train', 'test'],\n",
    "    batch_size=-1,\n",
    "    as_supervised=True          # Return a dataset in (data, label) format ready for model.fit()\n",
    "))"
   ]
  },
  {
   "cell_type": "code",
   "execution_count": 10,
   "id": "048769cb",
   "metadata": {},
   "outputs": [
    {
     "data": {
      "text/plain": [
       "<matplotlib.image.AxesImage at 0x7f9be118f4c0>"
      ]
     },
     "execution_count": 10,
     "metadata": {},
     "output_type": "execute_result"
    },
    {
     "data": {
      "image/png": "[encoded data removed]",
      "text/plain": [
       "<Figure size 432x288 with 1 Axes>"
      ]
     },
     "metadata": {
      "needs_background": "light"
     },
     "output_type": "display_data"
    }
   ],
   "source": [
    "plt.imshow(train_data[0])"
   ]
  },
  {
   "cell_type": "code",
   "execution_count": 26,
   "id": "acbb6e3c",
   "metadata": {},
   "outputs": [
    {
     "name": "stderr",
     "output_type": "stream",
     "text": [
      "WARNING:absl:Warning: Setting shuffle_files=True because split=TRAIN and shuffle_files=None. This behavior will be deprecated on 2019-08-06, at which point shuffle_files=False will be the default for all splits.\n"
     ]
    }
   ],
   "source": [
    "trainig_data = tfds.load('mnist', split='train', as_supervised=True).shuffle(100).batch(32)\n",
    "validation_data = tfds.load('mnist', split='test', as_supervised=True).shuffle(100).batch(32)\n",
    "\n",
    "model = tf.keras.models.Sequential([\n",
    "    tf.keras.layers.Conv2D(16, (3,3), activation='relu', input_shape=(28, 28, 1)),\n",
    "    tf.keras.layers.MaxPooling2D(2, 2),\n",
    "    tf.keras.layers.Flatten(),\n",
    "    \n",
    "    tf.keras.layers.Dense(512, activation='relu'),\n",
    "    tf.keras.layers.Dense(10, activation='softmax')    # 10 classes (digit 0-9)\n",
    "])\n",
    "\n",
    "model.compile(\n",
    "    optimizer='Adam', \n",
    "    oss='sparse_categorical_crossentropy',  # Multi categorical index to digit 0 to 9\n",
    "    metrics=['accuracy']\n",
    ")"
   ]
  },
  {
   "cell_type": "code",
   "execution_count": 27,
   "id": "5a55a123",
   "metadata": {},
   "outputs": [
    {
     "name": "stdout",
     "output_type": "stream",
     "text": [
      "Epoch 1/10\n",
      "1875/1875 [==============================] - 50s 26ms/step - loss: 0.4677 - accuracy: 0.9475 - val_loss: 0.1765 - val_accuracy: 0.9547\n",
      "Epoch 2/10\n",
      "1875/1875 [==============================] - 60s 32ms/step - loss: 0.0647 - accuracy: 0.9808 - val_loss: 0.1037 - val_accuracy: 0.9726\n",
      "Epoch 3/10\n",
      "1875/1875 [==============================] - 65s 35ms/step - loss: 0.0504 - accuracy: 0.9847 - val_loss: 0.0986 - val_accuracy: 0.9764\n",
      "Epoch 4/10\n",
      "1875/1875 [==============================] - 57s 30ms/step - loss: 0.0448 - accuracy: 0.9872 - val_loss: 0.1505 - val_accuracy: 0.9699\n",
      "Epoch 5/10\n",
      "1875/1875 [==============================] - 53s 28ms/step - loss: 0.0385 - accuracy: 0.9891 - val_loss: 0.1253 - val_accuracy: 0.9748\n",
      "Epoch 6/10\n",
      "1875/1875 [==============================] - 52s 28ms/step - loss: 0.0300 - accuracy: 0.9922 - val_loss: 0.1349 - val_accuracy: 0.9762\n",
      "Epoch 7/10\n",
      "1875/1875 [==============================] - 55s 29ms/step - loss: 0.0264 - accuracy: 0.9930 - val_loss: 0.1437 - val_accuracy: 0.9770\n",
      "Epoch 8/10\n",
      "1875/1875 [==============================] - 49s 26ms/step - loss: 0.0223 - accuracy: 0.9942 - val_loss: 0.1728 - val_accuracy: 0.9772\n",
      "Epoch 9/10\n",
      "1875/1875 [==============================] - 57s 30ms/step - loss: 0.0235 - accuracy: 0.9944 - val_loss: 0.1612 - val_accuracy: 0.9796\n",
      "Epoch 10/10\n",
      "1875/1875 [==============================] - 57s 30ms/step - loss: 0.0262 - accuracy: 0.9947 - val_loss: 0.1692 - val_accuracy: 0.9787\n"
     ]
    }
   ],
   "source": [
    "history = model.fit(trainig_data, epochs=10, validation_data=validation_data)"
   ]
  },
  {
   "cell_type": "code",
   "execution_count": null,
   "id": "7161b1ee",
   "metadata": {},
   "outputs": [],
   "source": []
  }
 ],
 "metadata": {
  "kernelspec": {
   "display_name": "Python 3 (ipykernel)",
   "language": "python",
   "name": "python3"
  },
  "language_info": {
   "codemirror_mode": {
    "name": "ipython",
    "version": 3
   },
   "file_extension": ".py",
   "mimetype": "text/x-python",
   "name": "python",
   "nbconvert_exporter": "python",
   "pygments_lexer": "ipython3",
   "version": "3.9.13"
  }
 },
 "nbformat": 4,
 "nbformat_minor": 5
}
