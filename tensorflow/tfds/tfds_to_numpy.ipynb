{
 "cells": [
  {
   "cell_type": "markdown",
   "id": "0defac5b",
   "metadata": {},
   "source": [
    "* [tfds.as_numpy](https://www.tensorflow.org/datasets/api_docs/python/tfds/as_numpy)\n",
    "\n",
    "```\n",
    "tfds.as_numpy(\n",
    "    dataset: Tree[TensorflowElem]\n",
    ") -> Tree[NumpyElem]\n",
    "```"
   ]
  },
  {
   "cell_type": "code",
   "execution_count": 4,
   "id": "70b3f90a",
   "metadata": {},
   "outputs": [],
   "source": [
    "import numpy as np\n",
    "import tensorflow as tf\n",
    "import tensorflow_datasets as tfds"
   ]
  },
  {
   "cell_type": "code",
   "execution_count": 11,
   "id": "6ddfb837",
   "metadata": {},
   "outputs": [
    {
     "name": "stdout",
     "output_type": "stream",
     "text": [
      "(28, 28, 1)\n",
      "(28, 28, 1)\n",
      "(28, 28, 1)\n",
      "(28, 28, 1)\n",
      "(28, 28, 1)\n"
     ]
    },
    {
     "name": "stderr",
     "output_type": "stream",
     "text": [
      "2023-02-27 09:08:56.849145: W tensorflow/core/kernels/data/cache_dataset_ops.cc:856] The calling iterator did not fully read the dataset being cached. In order to avoid unexpected truncation of the dataset, the partially cached contents of the dataset  will be discarded. This can happen if you have an input pipeline similar to `dataset.cache().take(k).repeat()`. You should use `dataset.take(k).cache().repeat()` instead.\n"
     ]
    }
   ],
   "source": [
    "ds = tfds.load(name=\"mnist\", split=\"train\")\n",
    "ds_numpy = tfds.as_numpy(ds.take(5))  # Convert `tf.data.Dataset` to Python generator\n",
    "for row in ds_numpy:\n",
    "  # `{'image': np.array(shape=(28, 28, 1)), 'labels': np.array(shape=())}`\n",
    "  print(row['image'].shape)"
   ]
  },
  {
   "cell_type": "code",
   "execution_count": null,
   "id": "fdcecf8f",
   "metadata": {},
   "outputs": [],
   "source": []
  }
 ],
 "metadata": {
  "kernelspec": {
   "display_name": "Python 3 (ipykernel)",
   "language": "python",
   "name": "python3"
  },
  "language_info": {
   "codemirror_mode": {
    "name": "ipython",
    "version": 3
   },
   "file_extension": ".py",
   "mimetype": "text/x-python",
   "name": "python",
   "nbconvert_exporter": "python",
   "pygments_lexer": "ipython3",
   "version": "3.9.13"
  }
 },
 "nbformat": 4,
 "nbformat_minor": 5
}
