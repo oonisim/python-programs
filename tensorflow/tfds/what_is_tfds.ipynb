{
 "cells": [
  {
   "cell_type": "markdown",
   "id": "a7335608",
   "metadata": {},
   "source": [
    "* [TensorFlow Datasets](https://www.tensorflow.org/datasets)\n",
    "* [Tensorflow Document - TensorFlow Datasets](https://www.tensorflow.org/datasets/overview)\n",
    "* [TensorFlow Datasets Github](https://github.com/tensorflow/datasets)\n",
    "\n",
    "<img src=\"tfds_datasets.png\" align=\"left\">"
   ]
  },
  {
   "cell_type": "code",
   "execution_count": 1,
   "id": "a7ac5baf",
   "metadata": {},
   "outputs": [],
   "source": [
    "#!conda install -y tensorflow-datasets"
   ]
  },
  {
   "cell_type": "markdown",
   "id": "0015d53c",
   "metadata": {},
   "source": [
    "# Loading Dataset"
   ]
  },
  {
   "cell_type": "code",
   "execution_count": 4,
   "id": "2a304bae",
   "metadata": {},
   "outputs": [],
   "source": [
    "import tensorflow_datasets as tfds\n",
    "\n",
    "# Construct a tf.data.Dataset\n",
    "mnist, info = tfds.load(\n",
    "    'mnist',              # Name of the dataset\n",
    "    split='train', \n",
    "    with_info=True,       # Information of the dataset\n",
    "    shuffle_files=True, \n",
    ")"
   ]
  },
  {
   "cell_type": "markdown",
   "id": "1b135a0f",
   "metadata": {},
   "source": [
    "## Dataset Information"
   ]
  },
  {
   "cell_type": "code",
   "execution_count": 5,
   "id": "dea9f1be",
   "metadata": {},
   "outputs": [
    {
     "data": {
      "text/plain": [
       "tfds.core.DatasetInfo(\n",
       "    name='mnist',\n",
       "    version=1.0.0,\n",
       "    description='The MNIST database of handwritten digits.',\n",
       "    urls=['https://storage.googleapis.com/cvdf-datasets/mnist/'],\n",
       "    features=FeaturesDict({\n",
       "        'image': Image(shape=(28, 28, 1), dtype=tf.uint8),\n",
       "        'label': ClassLabel(shape=(), dtype=tf.int64, num_classes=10),\n",
       "    }),\n",
       "    total_num_examples=70000,\n",
       "    splits={\n",
       "        'test': 10000,\n",
       "        'train': 60000,\n",
       "    },\n",
       "    supervised_keys=('image', 'label'),\n",
       "    citation=\"\"\"@article{lecun2010mnist,\n",
       "      title={MNIST handwritten digit database},\n",
       "      author={LeCun, Yann and Cortes, Corinna and Burges, CJ},\n",
       "      journal={ATT Labs [Online]. Available: http://yann. lecun. com/exdb/mnist},\n",
       "      volume={2},\n",
       "      year={2010}\n",
       "    }\"\"\",\n",
       "    redistribution_info=,\n",
       ")"
      ]
     },
     "execution_count": 5,
     "metadata": {},
     "output_type": "execute_result"
    }
   ],
   "source": [
    "info"
   ]
  },
  {
   "cell_type": "code",
   "execution_count": 9,
   "id": "f3b611b5",
   "metadata": {},
   "outputs": [
    {
     "data": {
      "text/plain": [
       "60000"
      ]
     },
     "execution_count": 9,
     "metadata": {},
     "output_type": "execute_result"
    }
   ],
   "source": [
    "# Number of training data\n",
    "info.splits['train'].num_examples"
   ]
  },
  {
   "cell_type": "markdown",
   "id": "a780566e",
   "metadata": {},
   "source": [
    "# All available datasets"
   ]
  },
  {
   "cell_type": "code",
   "execution_count": 6,
   "id": "6f1938ad",
   "metadata": {},
   "outputs": [
    {
     "name": "stdout",
     "output_type": "stream",
     "text": [
      "abstract_reasoning\n",
      "aflw2k3d\n",
      "amazon_us_reviews\n",
      "bair_robot_pushing_small\n",
      "bigearthnet\n",
      "binarized_mnist\n",
      "binary_alpha_digits\n",
      "caltech101\n",
      "caltech_birds2010\n",
      "caltech_birds2011\n",
      "cats_vs_dogs\n",
      "celeb_a\n",
      "celeb_a_hq\n",
      "chexpert\n",
      "cifar10\n",
      "cifar100\n",
      "cifar10_corrupted\n",
      "clevr\n",
      "cnn_dailymail\n",
      "coco\n",
      "coco2014\n",
      "coil100\n",
      "colorectal_histology\n",
      "colorectal_histology_large\n",
      "curated_breast_imaging_ddsm\n",
      "cycle_gan\n",
      "deep_weeds\n",
      "definite_pronoun_resolution\n",
      "diabetic_retinopathy_detection\n",
      "downsampled_imagenet\n",
      "dsprites\n",
      "dtd\n",
      "dummy_dataset_shared_generator\n",
      "dummy_mnist\n",
      "emnist\n",
      "eurosat\n",
      "fashion_mnist\n",
      "flores\n",
      "food101\n",
      "gap\n",
      "glue\n",
      "groove\n",
      "higgs\n",
      "horses_or_humans\n",
      "image_label_folder\n",
      "imagenet2012\n",
      "imagenet2012_corrupted\n",
      "imdb_reviews\n",
      "iris\n",
      "kitti\n",
      "kmnist\n",
      "lfw\n",
      "lm1b\n",
      "lsun\n",
      "mnist\n",
      "mnist_corrupted\n",
      "moving_mnist\n",
      "multi_nli\n",
      "nsynth\n",
      "omniglot\n",
      "open_images_v4\n",
      "oxford_flowers102\n",
      "oxford_iiit_pet\n",
      "para_crawl\n",
      "patch_camelyon\n",
      "pet_finder\n",
      "quickdraw_bitmap\n",
      "resisc45\n",
      "rock_paper_scissors\n",
      "rock_you\n",
      "scene_parse150\n",
      "shapes3d\n",
      "smallnorb\n",
      "snli\n",
      "so2sat\n",
      "squad\n",
      "stanford_dogs\n",
      "stanford_online_products\n",
      "starcraft_video\n",
      "sun397\n",
      "super_glue\n",
      "svhn_cropped\n",
      "ted_hrlr_translate\n",
      "ted_multi_translate\n",
      "tf_flowers\n",
      "titanic\n",
      "trivia_qa\n",
      "uc_merced\n",
      "ucf101\n",
      "visual_domain_decathlon\n",
      "voc2007\n",
      "wikipedia\n",
      "wmt14_translate\n",
      "wmt15_translate\n",
      "wmt16_translate\n",
      "wmt17_translate\n",
      "wmt18_translate\n",
      "wmt19_translate\n",
      "wmt_t2t_translate\n",
      "wmt_translate\n",
      "xnli\n"
     ]
    }
   ],
   "source": [
    "for ds in tfds.list_builders():\n",
    "    print(ds)"
   ]
  },
  {
   "cell_type": "code",
   "execution_count": null,
   "id": "c5fc80d9",
   "metadata": {},
   "outputs": [],
   "source": []
  }
 ],
 "metadata": {
  "kernelspec": {
   "display_name": "Python 3 (ipykernel)",
   "language": "python",
   "name": "python3"
  },
  "language_info": {
   "codemirror_mode": {
    "name": "ipython",
    "version": 3
   },
   "file_extension": ".py",
   "mimetype": "text/x-python",
   "name": "python",
   "nbconvert_exporter": "python",
   "pygments_lexer": "ipython3",
   "version": "3.8.10"
  }
 },
 "nbformat": 4,
 "nbformat_minor": 5
}
