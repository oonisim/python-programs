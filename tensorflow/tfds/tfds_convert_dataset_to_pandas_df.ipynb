{
 "cells": [
  {
   "cell_type": "markdown",
   "id": "9eb24d7b",
   "metadata": {},
   "source": [
    "# Convert TFDS to Pandas DF\n",
    "\n",
    "* [tfds.as_dataframe](https://www.tensorflow.org/datasets/api_docs/python/tfds/as_dataframe)\n",
    "\n",
    "```\n",
    "tfds.as_dataframe(\n",
    "    ds: tf.data.Dataset, ds_info: Optional[dataset_info.DatasetInfo] = None\n",
    ") -> StyledDataFrame\n",
    "```\n"
   ]
  },
  {
   "cell_type": "code",
   "execution_count": null,
   "id": "7fcff483",
   "metadata": {},
   "outputs": [],
   "source": [
    "ds, ds_info = tfds.load('cifar10', split='train', with_info=True)\n",
    "fig = tfds.show_examples(ds, ds_info)\n",
    "df = tfds.as_dataframe(ds.take(10), ds_info)"
   ]
  }
 ],
 "metadata": {
  "kernelspec": {
   "display_name": "Python 3 (ipykernel)",
   "language": "python",
   "name": "python3"
  },
  "language_info": {
   "codemirror_mode": {
    "name": "ipython",
    "version": 3
   },
   "file_extension": ".py",
   "mimetype": "text/x-python",
   "name": "python",
   "nbconvert_exporter": "python",
   "pygments_lexer": "ipython3",
   "version": "3.9.13"
  }
 },
 "nbformat": 4,
 "nbformat_minor": 5
}
