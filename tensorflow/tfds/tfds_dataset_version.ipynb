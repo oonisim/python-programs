{
 "cells": [
  {
   "cell_type": "markdown",
   "id": "0015d53c",
   "metadata": {},
   "source": [
    "# Loading Dataset\n",
    "\n",
    "<img src=\"image/tfds_dataset_versioning.png\" align=\"left\"/>"
   ]
  },
  {
   "cell_type": "code",
   "execution_count": 18,
   "id": "2a304bae",
   "metadata": {},
   "outputs": [],
   "source": [
    "import tensorflow_datasets as tfds\n",
    "\n",
    "# Construct a tf.data.Dataset\n",
    "mnist, info = tfds.load(\n",
    "    'mnist',              # Name of the dataset\n",
    "    #split='train', \n",
    "    with_info=True,       # Information of the dataset\n",
    "    shuffle_files=True, \n",
    ")"
   ]
  },
  {
   "cell_type": "markdown",
   "id": "1b135a0f",
   "metadata": {},
   "source": [
    "## Dataset Information"
   ]
  },
  {
   "cell_type": "code",
   "execution_count": 19,
   "id": "dea9f1be",
   "metadata": {},
   "outputs": [
    {
     "data": {
      "text/plain": [
       "tfds.core.DatasetInfo(\n",
       "    name='mnist',\n",
       "    version=1.0.0,\n",
       "    description='The MNIST database of handwritten digits.',\n",
       "    urls=['https://storage.googleapis.com/cvdf-datasets/mnist/'],\n",
       "    features=FeaturesDict({\n",
       "        'image': Image(shape=(28, 28, 1), dtype=tf.uint8),\n",
       "        'label': ClassLabel(shape=(), dtype=tf.int64, num_classes=10),\n",
       "    }),\n",
       "    total_num_examples=70000,\n",
       "    splits={\n",
       "        'test': 10000,\n",
       "        'train': 60000,\n",
       "    },\n",
       "    supervised_keys=('image', 'label'),\n",
       "    citation=\"\"\"@article{lecun2010mnist,\n",
       "      title={MNIST handwritten digit database},\n",
       "      author={LeCun, Yann and Cortes, Corinna and Burges, CJ},\n",
       "      journal={ATT Labs [Online]. Available: http://yann. lecun. com/exdb/mnist},\n",
       "      volume={2},\n",
       "      year={2010}\n",
       "    }\"\"\",\n",
       "    redistribution_info=,\n",
       ")"
      ]
     },
     "execution_count": 19,
     "metadata": {},
     "output_type": "execute_result"
    }
   ],
   "source": [
    "info"
   ]
  },
  {
   "cell_type": "markdown",
   "id": "9e3d7f33",
   "metadata": {},
   "source": [
    "# Version\n",
    "\n",
    "* [tfds.core.Version](https://www.tensorflow.org/datasets/api_docs/python/tfds/core/Version)"
   ]
  },
  {
   "cell_type": "code",
   "execution_count": 17,
   "id": "f3b611b5",
   "metadata": {},
   "outputs": [
    {
     "name": "stdout",
     "output_type": "stream",
     "text": [
      "version(1, 0, 0): major:1 minor:0 patch:0\n"
     ]
    }
   ],
   "source": [
    "v = info.version\n",
    "print(f\"version{v.tuple}: major:{v.major} minor:{v.minor} patch:{v.patch}\")"
   ]
  }
 ],
 "metadata": {
  "kernelspec": {
   "display_name": "Python 3 (ipykernel)",
   "language": "python",
   "name": "python3"
  },
  "language_info": {
   "codemirror_mode": {
    "name": "ipython",
    "version": 3
   },
   "file_extension": ".py",
   "mimetype": "text/x-python",
   "name": "python",
   "nbconvert_exporter": "python",
   "pygments_lexer": "ipython3",
   "version": "3.8.10"
  }
 },
 "nbformat": 4,
 "nbformat_minor": 5
}
