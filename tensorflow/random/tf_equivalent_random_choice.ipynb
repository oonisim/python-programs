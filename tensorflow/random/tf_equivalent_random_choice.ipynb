{
 "cells": [
  {
   "cell_type": "code",
   "execution_count": 1,
   "id": "d5f5201c",
   "metadata": {},
   "outputs": [
    {
     "name": "stdout",
     "output_type": "stream",
     "text": [
      "2.4.0\n"
     ]
    }
   ],
   "source": [
    "import numpy as np\n",
    "import tensorflow as tf\n",
    "import matplotlib.pyplot as plt\n",
    "\n",
    "%matplotlib inline\n",
    "print(tf.__version__)"
   ]
  },
  {
   "cell_type": "markdown",
   "id": "e118e559",
   "metadata": {},
   "source": [
    "# NumPy np.random.choice()\n",
    "\n",
    "* [random.choice(a, size=None, replace=True, p=None)](https://numpy.org/doc/stable/reference/random/generated/numpy.random.choice.html)\n",
    "\n",
    "> * a:  1-D array-like or int\n",
    "> If an ndarray, a random sample is generated from its elements. If an int, the random sample is generated as if a were np.arange(a)\n",
    "> * size: int or tuple of ints, optional\n",
    "> Output shape. If the given shape is, e.g., (m, n, k), then m * n * k samples are drawn. Default is None, in > which case a single value is returned.\n",
    "> * replace: boolean, optional\n",
    "> Whether the sample is with or without replacement\n",
    "> * p: 1-D array-like, optional\n",
    "> The probabilities associated with each entry in a. If not given the sample assumes a uniform distribution over all entries in a.\n",
    "```"
   ]
  },
  {
   "cell_type": "code",
   "execution_count": 2,
   "id": "0f86648f",
   "metadata": {},
   "outputs": [
    {
     "data": {
      "image/png": "[encoded data removed]",
      "text/plain": [
       "<Figure size 432x288 with 1 Axes>"
      ]
     },
     "metadata": {
      "needs_background": "light"
     },
     "output_type": "display_data"
    }
   ],
   "source": [
    "N = np.random.choice([0,1,2,3,4], 5000, p=[i/sum(range(1,6)) for i in range(1,6)])\n",
    "plt.hist(N, density=True, bins=5)\n",
    "plt.grid()"
   ]
  },
  {
   "cell_type": "markdown",
   "id": "12f0fc11",
   "metadata": {},
   "source": [
    "# Tensorflow tf.random.categorical()\n",
    "\n",
    "* [tf.random.categorical](https://www.tensorflow.org/api_docs/python/tf/random/categorical)\n",
    "\n",
    "```\n",
    "tf.random.categorical(\n",
    "    logits, num_samples, dtype=None, seed=None, name=None\n",
    ")\n",
    "```\n",
    "\n",
    "> * logits: \t\t\t2-D Tensor with shape [batch_size, num_classes]. Each slice [i, :] represents the unnormalized log-probabilities for all classes.\n",
    "> * num_samples: \t\t0-D. Number of independent samples to draw for each row slice.\n",
    "> * dtype:\t\t\tinteger type to use for the output. Defaults to int64.\n",
    "> * seed:\t\t\tA Python integer. Used to create a random seed for the distribution. See tf.random.set_seed for behavior.\n"
   ]
  },
  {
   "cell_type": "markdown",
   "id": "f448239f",
   "metadata": {},
   "source": [
    "* [Can anyone give a tiny example to explain the params of tf.random.categorical?](https://stackoverflow.com/a/55065649/4281353)\n",
    "\n",
    "> Each row of the `logits` tensor (`logits[0, :]`, `logits[1, :]`, ...) represents the event probabilities of a different [categorical distribution](https://en.wikipedia.org/wiki/Categorical_distribution). The function does not expect actual probability values, but **unnormalized log-probabilities**. The actual probabilities would be `softmax(logits[0, :])`, `softmax(logits[1, :])`, etc. <br>  \n",
    "> The benefit of this is that you can give any real values as input (e.g. the output of a neural network). It's trivial to use specific probability values or proportions, using logarithms. For example, both `[log(0.1), log(0.3), log(0.6)]` and `[log(1), log(3), log(6)]` represent the same probability, where the second class is three times as likely as the first one but only half as likely as the third one.<br>\n",
    ">\n",
    "> For each row of (unnormalized log-)probabilities, you get `num_samples` samples from the distribution. Each sample is an integer between `0` and `num_classes - 1`, drawn according to the given probabilities. The result is a 2D tensor with shape `[batch_size, num_samples]` with the sampled integers for each distribution."
   ]
  },
  {
   "cell_type": "code",
   "execution_count": 3,
   "id": "bd5e3fd3",
   "metadata": {},
   "outputs": [
    {
     "data": {
      "image/png": "[encoded data removed]",
      "text/plain": [
       "<Figure size 432x288 with 1 Axes>"
      ]
     },
     "metadata": {
      "needs_background": "light"
     },
     "output_type": "display_data"
    }
   ],
   "source": [
    "T = tf.random.categorical(tf.math.log([[i/sum(range(1,6)) for i in range(1,6)]]), 5000)\n",
    "# T = tf.random.categorical([[i/sum(range(1,6)) for i in range(1,6)]], 1000)\n",
    "plt.hist(T, density=True, bins=5)\n",
    "plt.grid()"
   ]
  },
  {
   "cell_type": "markdown",
   "id": "1619d29c",
   "metadata": {},
   "source": [
    "### Without probability distribution"
   ]
  },
  {
   "cell_type": "code",
   "execution_count": 138,
   "id": "5011dfac",
   "metadata": {},
   "outputs": [],
   "source": [
    "def random_choice(a, size):\n",
    "    \"\"\"Random choice from 'a' based on size without duplicates\n",
    "    Args:\n",
    "        a: Tensor\n",
    "        size: int or shape as tuple of ints e.g., (m, n, k).\n",
    "    Returns: Tensor of the shape specified with 'size' arg.\n",
    "\n",
    "    Examples:\n",
    "        X = tf.constant([[1,2,3],[4,5,6]])\n",
    "        random_choice(X, (2,1,2)).numpy()\n",
    "        -----\n",
    "        [\n",
    "          [\n",
    "            [5 4]\n",
    "          ],\n",
    "          [\n",
    "            [1 2]\n",
    "          ]\n",
    "        ]\n",
    "    \"\"\"\n",
    "    is_size_scalar: bool = \\\n",
    "        isinstance(size, int) or np.issubdtype(type(a), np.integer) or\\\n",
    "        (tf.is_tensor(a) and a.shape == () and a.dtype.is_integer)\n",
    "    if is_size_scalar:\n",
    "        shape = (size,)\n",
    "    elif isinstance(size, tuple) and len(size) > 0:\n",
    "        shape = size\n",
    "    else:\n",
    "        raise AssertionError(f\"Unexpected size arg {size}\")\n",
    "\n",
    "    sample_size = tf.math.reduce_prod(size, axis=None)\n",
    "    assert sample_size > 0\n",
    "\n",
    "    # --------------------------------------------------------------------------------\n",
    "    # Select elements from a flat array\n",
    "    # --------------------------------------------------------------------------------\n",
    "    a = tf.reshape(a, (-1))\n",
    "    length = tf.size(a)\n",
    "    assert sample_size <= length\n",
    "\n",
    "    # --------------------------------------------------------------------------------\n",
    "    # Shuffle a sequential numbers (0, ..., length-1) and take size.\n",
    "    # To select 'sample_size' elements from a 1D array of shape (length,),\n",
    "    # TF Indices needs to have the shape (sample_size,1) where each index\n",
    "    # has shape (1,),\n",
    "    # --------------------------------------------------------------------------------\n",
    "    indices = tf.reshape(\n",
    "        tensor=tf.random.shuffle(tf.range(0, length, dtype=tf.int32))[:sample_size],\n",
    "        shape=(-1, 1)   # Convert to the shape:(sample_size,1)\n",
    "    )\n",
    "    return tf.reshape(tensor=tf.gather_nd(a, indices), shape=shape)\n"
   ]
  },
  {
   "cell_type": "code",
   "execution_count": 139,
   "id": "440329f8",
   "metadata": {},
   "outputs": [
    {
     "name": "stdout",
     "output_type": "stream",
     "text": [
      "[[[6]\n",
      "  [2]]\n",
      "\n",
      " [[4]\n",
      "  [5]]]\n",
      "[2 4]\n"
     ]
    }
   ],
   "source": [
    "X = tf.constant([[1,2,3],[4,5,6]])\n",
    "print(random_choice(X, (2,2,1)).numpy())\n",
    "\n",
    "X = np.array([1,2,3,4,5,6])\n",
    "print(random_choice(X, 2).numpy())"
   ]
  },
  {
   "cell_type": "markdown",
   "id": "d3f8891a",
   "metadata": {},
   "source": [
    "---\n"
   ]
  },
  {
   "cell_type": "markdown",
   "id": "74f26821",
   "metadata": {},
   "source": [
    "# Tensor of K number of Tue values randomely set"
   ]
  },
  {
   "cell_type": "code",
   "execution_count": 78,
   "id": "246d9008",
   "metadata": {},
   "outputs": [],
   "source": [
    "def random_bool_tensor(shape: tuple, num: int):\n",
    "    \"\"\"Generate bool tensor where num elements are set to True\n",
    "    Args:\n",
    "        shape: shape of the tensor to generate\n",
    "        num: number of 'True' elements in the result tensor\n",
    "    Returns: tensor of shape where num elements are set to True\n",
    "    \"\"\"\n",
    "    size = tf.math.reduce_prod(shape, axis=None)\n",
    "    num = tf.cast(num, tf.int32)\n",
    "    # Must check len(shape) as reduce_prod(([])) -> 1\n",
    "    # https://stackoverflow.com/questions/67351236\n",
    "    assert len(shape) > 0 <= num <= size\n",
    "\n",
    "    # --------------------------------------------------------------------------------\n",
    "    # TF Indices to update a 1D array of shape (size,).\n",
    "    # Indices has the shape (size,1) where each index has shape (1,)\n",
    "    # --------------------------------------------------------------------------------\n",
    "    indices = tf.reshape(\n",
    "        tensor=tf.random.shuffle(\n",
    "            tf.range(0, size, dtype=tf.int32)\n",
    "        )[:num],        # Shuffle a sequential indices and take 'num' indices\n",
    "        shape=(-1,1)    # Convert to the shape:(size,1)\n",
    "    )\n",
    "    updates = tf.ones(shape=(num,),dtype=tf.int32)\n",
    "    X = tf.tensor_scatter_nd_update(\n",
    "        tensor=tf.zeros(shape=(size,), dtype=tf.int32),\n",
    "        indices=indices,\n",
    "        updates=updates\n",
    "    )\n",
    "\n",
    "    return tf.cast(tf.reshape(X, shape), dtype=tf.bool)\n"
   ]
  },
  {
   "cell_type": "code",
   "execution_count": 98,
   "id": "54e1180b",
   "metadata": {},
   "outputs": [
    {
     "data": {
      "text/plain": [
       "<tf.Tensor: shape=(3, 2), dtype=bool, numpy=\n",
       "array([[ True,  True],\n",
       "       [ True, False],\n",
       "       [ True,  True]])>"
      ]
     },
     "execution_count": 98,
     "metadata": {},
     "output_type": "execute_result"
    }
   ],
   "source": [
    "random_bool_tensor(shape=(3,2), num=5)"
   ]
  },
  {
   "cell_type": "code",
   "execution_count": 53,
   "id": "f295f21a",
   "metadata": {},
   "outputs": [
    {
     "data": {
      "text/plain": [
       "<tf.Tensor: shape=(), dtype=int32, numpy=6>"
      ]
     },
     "execution_count": 53,
     "metadata": {},
     "output_type": "execute_result"
    }
   ],
   "source": [
    "shape=(2,3)\n",
    "size = tf.math.reduce_prod(shape, axis=None)\n",
    "size"
   ]
  }
 ],
 "metadata": {
  "kernelspec": {
   "display_name": "Python 3",
   "language": "python",
   "name": "python3"
  },
  "language_info": {
   "codemirror_mode": {
    "name": "ipython",
    "version": 3
   },
   "file_extension": ".py",
   "mimetype": "text/x-python",
   "name": "python",
   "nbconvert_exporter": "python",
   "pygments_lexer": "ipython3",
   "version": "3.8.8"
  }
 },
 "nbformat": 4,
 "nbformat_minor": 5
}
