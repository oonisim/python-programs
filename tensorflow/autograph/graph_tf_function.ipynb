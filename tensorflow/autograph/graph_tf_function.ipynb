{
 "cells": [
  {
   "cell_type": "markdown",
   "id": "2d406d92",
   "metadata": {},
   "source": [
    "# graphs and tf.function\n",
    "\n",
    "* [Introduction to graphs and tf.function](https://colab.research.google.com/github/tensorflow/docs/blob/master/site/en/guide/intro_to_graphs.ipynb) (MUST)\n",
    "\n",
    "> This guide goes beneath the surface of TensorFlow and Keras to demonstrate how TensorFlow works. If you instead want to immediately get started with Keras, check out the collection of Keras guides.<br><br>\n",
    ">In this guide, you'll learn how TensorFlow allows you to make simple changes to your code to get graphs, how graphs are stored and represented, and how you can use them to accelerate your models."
   ]
  },
  {
   "cell_type": "code",
   "execution_count": null,
   "id": "dc84d179",
   "metadata": {},
   "outputs": [],
   "source": []
  }
 ],
 "metadata": {
  "kernelspec": {
   "display_name": "Python 3 (ipykernel)",
   "language": "python",
   "name": "python3"
  },
  "language_info": {
   "codemirror_mode": {
    "name": "ipython",
    "version": 3
   },
   "file_extension": ".py",
   "mimetype": "text/x-python",
   "name": "python",
   "nbconvert_exporter": "python",
   "pygments_lexer": "ipython3",
   "version": "3.8.8"
  }
 },
 "nbformat": 4,
 "nbformat_minor": 5
}
