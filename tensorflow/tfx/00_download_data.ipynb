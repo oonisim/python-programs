{
 "cells": [
  {
   "cell_type": "markdown",
   "id": "ff67c6cb",
   "metadata": {},
   "source": [
    "# Download the data for TFX examples\n",
    "\n",
    "Data is from Code repository for the O'Reilly publication [\"Building Machine Learning Pipelines\"](http://www.buildingmlpipelines.com) by Hannes Hapke &amp; Catherine Nelson\n",
    "\n",
    "## Mac\n",
    "\n",
    "See [brew installation of Python 3.6.1: [SSL: CERTIFICATE_VERIFY_FAILED] certificate verify failed](https://stackoverflow.com/questions/44649449/brew-installation-of-python-3-6-1-ssl-certificate-verify-failed-certificate/44649450#44649450)\n"
   ]
  },
  {
   "cell_type": "code",
   "execution_count": 5,
   "id": "6a96c9e2",
   "metadata": {},
   "outputs": [
    {
     "name": "stdout",
     "output_type": "stream",
     "text": [
      "/Users/1245095/home/repository/git/oonisim/python-programs/tensorflow/tfx\n",
      "INFO:root:Started download script\n",
      "INFO:root:Data folder already existed.\n",
      "INFO:urllib3.poolmanager:Redirecting http://bit.ly/building-ml-pipelines-dataset -> https://drive.google.com/uc?export=download&id=1VHjb8L8n2d6eLz_lA-F-bk6Z0UecHpEF\n",
      "INFO:urllib3.poolmanager:Redirecting https://drive.google.com/uc?export=download&id=1VHjb8L8n2d6eLz_lA-F-bk6Z0UecHpEF -> https://doc-0o-8s-docs.googleusercontent.com/docs/securesc/ha0ro937gcuc7l7deffksulhg5h7mbp1/votavknjrale84iaodfr6aaod068vutl/1654914675000/06616860426990197454/*/1VHjb8L8n2d6eLz_lA-F-bk6Z0UecHpEF?e=download\n",
      "INFO:root:Download completed.\n",
      "INFO:root:Finished download script\n"
     ]
    }
   ],
   "source": [
    "!pwd\n",
    "!python3 utils/download_dataset.py"
   ]
  },
  {
   "cell_type": "code",
   "execution_count": null,
   "id": "bebaea8f",
   "metadata": {},
   "outputs": [],
   "source": []
  }
 ],
 "metadata": {
  "environment": {
   "kernel": "python3",
   "name": "tf2-gpu.2-8.m93",
   "type": "gcloud",
   "uri": "gcr.io/deeplearning-platform-release/tf2-gpu.2-8:m93"
  },
  "kernelspec": {
   "display_name": "Python 3",
   "language": "python",
   "name": "python3"
  },
  "language_info": {
   "codemirror_mode": {
    "name": "ipython",
    "version": 3
   },
   "file_extension": ".py",
   "mimetype": "text/x-python",
   "name": "python",
   "nbconvert_exporter": "python",
   "pygments_lexer": "ipython3",
   "version": "3.7.12"
  }
 },
 "nbformat": 4,
 "nbformat_minor": 5
}
