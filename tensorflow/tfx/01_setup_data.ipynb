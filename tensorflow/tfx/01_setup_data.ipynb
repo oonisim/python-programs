{
 "cells": [
  {
   "cell_type": "markdown",
   "id": "58255765-2ae3-405e-8264-2608ffb07e42",
   "metadata": {},
   "source": [
    "# Setup the data for TFX examples"
   ]
  },
  {
   "cell_type": "code",
   "execution_count": 1,
   "id": "f5b9cf36-0e1b-4199-9e71-0dab5163a6a8",
   "metadata": {},
   "outputs": [],
   "source": [
    "!rm -rf data tfx\n",
    "!mkdir -p data\n",
    "!mkdir -p tfx"
   ]
  },
  {
   "cell_type": "code",
   "execution_count": 2,
   "id": "86e55653-68e5-4373-8d2d-9ee09d6d232a",
   "metadata": {},
   "outputs": [
    {
     "name": "stdout",
     "output_type": "stream",
     "text": [
      "/home/jupyter/home/repository/git/oonisim/python-programs/tensorflow/tfx\n",
      "/home/jupyter/home/repository/git/oonisim/python-programs/tensorflow/tfx/download\n",
      "consumer_complaints_with_narrative.zip\n",
      "Archive:  consumer_complaints_with_narrative.zip\n",
      "  inflating: consumer_complaints_with_narrative.csv  \n",
      "/home/jupyter/home/repository/git/oonisim/python-programs/tensorflow/tfx\n",
      "popd -> ~/home/repository/git/oonisim/python-programs/tensorflow/tfx\n",
      "consumer_complaints_with_narrative.csv\n"
     ]
    }
   ],
   "source": [
    "!pwd\n",
    "%pushd ./download\n",
    "\n",
    "!ls\n",
    "!unzip -o consumer_complaints_with_narrative.zip\n",
    "!mkdir -p ../data\n",
    "!mv consumer_complaints_with_narrative.csv ../data\n",
    "\n",
    "%popd\n",
    "!ls data"
   ]
  },
  {
   "cell_type": "code",
   "execution_count": null,
   "id": "d7895c07-a504-4ecc-bae5-12385c8713e0",
   "metadata": {},
   "outputs": [],
   "source": []
  }
 ],
 "metadata": {
  "environment": {
   "kernel": "python3",
   "name": "tf2-gpu.2-8.m93",
   "type": "gcloud",
   "uri": "gcr.io/deeplearning-platform-release/tf2-gpu.2-8:m93"
  },
  "kernelspec": {
   "display_name": "Python 3",
   "language": "python",
   "name": "python3"
  },
  "language_info": {
   "codemirror_mode": {
    "name": "ipython",
    "version": 3
   },
   "file_extension": ".py",
   "mimetype": "text/x-python",
   "name": "python",
   "nbconvert_exporter": "python",
   "pygments_lexer": "ipython3",
   "version": "3.7.12"
  }
 },
 "nbformat": 4,
 "nbformat_minor": 5
}
