{
 "cells": [
  {
   "cell_type": "markdown",
   "id": "d74e0148",
   "metadata": {},
   "source": [
    "# Github\n",
    "\n",
    "* [TensorFlow Transform](https://github.com/tensorflow/transform/blob/master/README.md)\n",
    "\n",
    "> The output of tf.Transform is exported as a TensorFlow graph to use for training and serving. Using the same graph for both training and serving can prevent skew since the same transformations are applied in both stages.\n",
    ">\n",
    "> For an introduction to tf.Transform, see the tf.Transform section of the TFX Dev Summit talk on TFX ([link](https://www.youtube.com/watch?v=vdG7uKQ2eKk&feature=youtu.be&t=199)).\n",
    "\n",
    "# Installation\n",
    "\n",
    "```\n",
    "pip install tensorflow-transform\n",
    "```\n",
    "\n",
    "## Installation Failure on Mac M2\n",
    "\n",
    "* [tensorflow_transform installation failure on Mac M2](https://stackoverflow.com/questions/75611977/tensorflow-transform-installation-failure-on-mac-m2)\n",
    "\n",
    "TensorFlow Transform requires [tfx-bsl](https://github.com/tensorflow/tfx-bsl) as listed in [TensorFlow Transform](https://github.com/tensorflow/transform).\n",
    "\n",
    "| tensorflow-transform | apache-beam[gcp] | pyarrow |   tensorflow  | tensorflow-metadata | tfx-bsl |\n",
    "|:--------------------:|:----------------:|:-------:|:-------------:|:-------------------:|:-------:|\n",
    "| GitHub master        | 2.41.0           | 6.0.0   | nightly (2.x) | 1.12.0              | 1.12.0  |\n",
    "| 1.12.0               | 2.41.0           | 6.0.0   | 2.11          | 1.12.0              | 1.12.0  |\n",
    "\n",
    "However, tfx-bsl does not support Apple Silicon yet as of 2023 MAR.\n",
    "\n",
    "* [Any plans to support Apple silicon devices like M1 Macs? #48](https://github.com/tensorflow/tfx-bsl/issues/48)\n"
   ]
  },
  {
   "cell_type": "markdown",
   "id": "f8a0a6fc",
   "metadata": {},
   "source": [
    "# Code Examples\n",
    "\n",
    "## TFX\n",
    "\n",
    "* [Get Started with TensorFlow Transform](https://www.tensorflow.org/tfx/transform/get_started)\n",
    "* [Preprocess data with TensorFlow Transform - Beginner](https://www.tensorflow.org/tfx/tutorials/transform/simple)\n",
    "* [Preprocess data with TensorFlow Transform - Advanced](https://www.tensorflow.org/tfx/tutorials/transform/census)\n",
    "\n",
    "\n",
    "## Coursera DataFlow\n",
    "\n",
    "* [Building Batch Data Pipelines on Google Cloud](https://www.coursera.org/learn/batch-data-pipelines-gcp/home/welcome)\n",
    "* [Processing Data with Google Cloud Dataflow](https://www.coursera.org/projects/googlecloud-processing-data-with-google-cloud-dataflow-5cztl)\n"
   ]
  },
  {
   "cell_type": "markdown",
   "id": "cc60b3ff",
   "metadata": {},
   "source": [
    "---\n",
    "# Tensorflow Transform does NOT work on Apple Silicon as of now\n",
    "\n",
    "The command runs but it installs Tensorflow Transform version 0.12.0 which only works with Tensorflow 1.x because it requires tensorflow.contrib that has been removed in TensorFlow 2.x.\n",
    "\n",
    "```\n",
    "OPENBLAS=\"$(brew --prefix openblas)\" MACOSX_DEPLOYMENT_TARGET=13.0.1 python3 -m pip install --no-cache-dir \\\n",
    "  setuptools \\\n",
    "  wheel \\\n",
    "  Cython \\\n",
    "  pyarrow==6.0.0 \\\n",
    "  numpy \\\n",
    "  tensorflow-transform\n",
    "```"
   ]
  },
  {
   "cell_type": "code",
   "execution_count": 3,
   "id": "cd4eb0a2",
   "metadata": {},
   "outputs": [
    {
     "ename": "ModuleNotFoundError",
     "evalue": "No module named 'tensorflow.contrib'",
     "output_type": "error",
     "traceback": [
      "\u001b[0;31m---------------------------------------------------------------------------\u001b[0m",
      "\u001b[0;31mModuleNotFoundError\u001b[0m                       Traceback (most recent call last)",
      "Cell \u001b[0;32mIn[3], line 1\u001b[0m\n\u001b[0;32m----> 1\u001b[0m \u001b[38;5;28;01mimport\u001b[39;00m \u001b[38;5;21;01mtensorflow_transform\u001b[39;00m \u001b[38;5;28;01mas\u001b[39;00m \u001b[38;5;21;01mtft\u001b[39;00m\n",
      "File \u001b[0;32m~/venv/tf/lib/python3.9/site-packages/tensorflow_transform/__init__.py:19\u001b[0m\n\u001b[1;32m     15\u001b[0m \u001b[38;5;66;03m# GOOGLE-INITIALIZATION\u001b[39;00m\n\u001b[1;32m     16\u001b[0m \n\u001b[1;32m     17\u001b[0m \u001b[38;5;66;03m# pylint: disable=wildcard-import\u001b[39;00m\n\u001b[1;32m     18\u001b[0m \u001b[38;5;28;01mfrom\u001b[39;00m \u001b[38;5;21;01mtensorflow_transform\u001b[39;00m \u001b[38;5;28;01mimport\u001b[39;00m coders\n\u001b[0;32m---> 19\u001b[0m \u001b[38;5;28;01mfrom\u001b[39;00m \u001b[38;5;21;01mtensorflow_transform\u001b[39;00m\u001b[38;5;21;01m.\u001b[39;00m\u001b[38;5;21;01manalyzers\u001b[39;00m \u001b[38;5;28;01mimport\u001b[39;00m \u001b[38;5;241m*\u001b[39m\n\u001b[1;32m     20\u001b[0m \u001b[38;5;28;01mfrom\u001b[39;00m \u001b[38;5;21;01mtensorflow_transform\u001b[39;00m\u001b[38;5;21;01m.\u001b[39;00m\u001b[38;5;21;01mapi\u001b[39;00m \u001b[38;5;28;01mimport\u001b[39;00m apply_function\n\u001b[1;32m     21\u001b[0m \u001b[38;5;28;01mfrom\u001b[39;00m \u001b[38;5;21;01mtensorflow_transform\u001b[39;00m\u001b[38;5;21;01m.\u001b[39;00m\u001b[38;5;21;01minspect_preprocessing_fn\u001b[39;00m \u001b[38;5;28;01mimport\u001b[39;00m \u001b[38;5;241m*\u001b[39m\n",
      "File \u001b[0;32m~/venv/tf/lib/python3.9/site-packages/tensorflow_transform/analyzers.py:44\u001b[0m\n\u001b[1;32m     40\u001b[0m \u001b[38;5;28;01mfrom\u001b[39;00m \u001b[38;5;21;01mtensorflow_transform\u001b[39;00m \u001b[38;5;28;01mimport\u001b[39;00m nodes\n\u001b[1;32m     41\u001b[0m \u001b[38;5;28;01mfrom\u001b[39;00m \u001b[38;5;21;01mtensorflow_transform\u001b[39;00m \u001b[38;5;28;01mimport\u001b[39;00m tf_utils\n\u001b[0;32m---> 44\u001b[0m \u001b[38;5;28;01mfrom\u001b[39;00m \u001b[38;5;21;01mtensorflow\u001b[39;00m\u001b[38;5;21;01m.\u001b[39;00m\u001b[38;5;21;01mcontrib\u001b[39;00m\u001b[38;5;21;01m.\u001b[39;00m\u001b[38;5;21;01mboosted_trees\u001b[39;00m\u001b[38;5;21;01m.\u001b[39;00m\u001b[38;5;21;01mpython\u001b[39;00m\u001b[38;5;21;01m.\u001b[39;00m\u001b[38;5;21;01mops\u001b[39;00m \u001b[38;5;28;01mimport\u001b[39;00m gen_quantile_ops\n\u001b[1;32m     45\u001b[0m \u001b[38;5;28;01mfrom\u001b[39;00m \u001b[38;5;21;01mtensorflow\u001b[39;00m\u001b[38;5;21;01m.\u001b[39;00m\u001b[38;5;21;01mcontrib\u001b[39;00m\u001b[38;5;21;01m.\u001b[39;00m\u001b[38;5;21;01mboosted_trees\u001b[39;00m\u001b[38;5;21;01m.\u001b[39;00m\u001b[38;5;21;01mpython\u001b[39;00m\u001b[38;5;21;01m.\u001b[39;00m\u001b[38;5;21;01mops\u001b[39;00m \u001b[38;5;28;01mimport\u001b[39;00m quantile_ops\n\u001b[1;32m     46\u001b[0m \u001b[38;5;28;01mfrom\u001b[39;00m \u001b[38;5;21;01mtensorflow\u001b[39;00m\u001b[38;5;21;01m.\u001b[39;00m\u001b[38;5;21;01mpython\u001b[39;00m\u001b[38;5;21;01m.\u001b[39;00m\u001b[38;5;21;01mops\u001b[39;00m \u001b[38;5;28;01mimport\u001b[39;00m resources\n",
      "\u001b[0;31mModuleNotFoundError\u001b[0m: No module named 'tensorflow.contrib'"
     ]
    }
   ],
   "source": [
    "import tensorflow_transform as tft"
   ]
  },
  {
   "cell_type": "code",
   "execution_count": null,
   "id": "d3e9ea93",
   "metadata": {},
   "outputs": [],
   "source": []
  }
 ],
 "metadata": {
  "kernelspec": {
   "display_name": "Python 3 (ipykernel)",
   "language": "python",
   "name": "python3"
  },
  "language_info": {
   "codemirror_mode": {
    "name": "ipython",
    "version": 3
   },
   "file_extension": ".py",
   "mimetype": "text/x-python",
   "name": "python",
   "nbconvert_exporter": "python",
   "pygments_lexer": "ipython3",
   "version": "3.9.13"
  }
 },
 "nbformat": 4,
 "nbformat_minor": 5
}
