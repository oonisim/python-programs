{
 "cells": [
  {
   "cell_type": "markdown",
   "id": "d74e0148",
   "metadata": {},
   "source": [
    "# Github\n",
    "\n",
    "* [TensorFlow Transform](https://github.com/tensorflow/transform/blob/master/README.md)\n",
    "\n",
    "> The output of tf.Transform is exported as a TensorFlow graph to use for training and serving. Using the same graph for both training and serving can prevent skew since the same transformations are applied in both stages.\n",
    ">\n",
    "> For an introduction to tf.Transform, see the tf.Transform section of the TFX Dev Summit talk on TFX ([link](https://www.youtube.com/watch?v=vdG7uKQ2eKk&feature=youtu.be&t=199)).\n",
    "\n",
    "# Installation\n",
    "\n",
    "```\n",
    "pip install tensorflow-transform\n",
    "```\n",
    "\n",
    "## Installation Failure on Mac M2\n",
    "\n",
    "* [tensorflow_transform installation failure on Mac M2](https://stackoverflow.com/questions/75611977/tensorflow-transform-installation-failure-on-mac-m2)\n"
   ]
  },
  {
   "cell_type": "markdown",
   "id": "f8a0a6fc",
   "metadata": {},
   "source": [
    "# Code Examples\n",
    "\n",
    "## TFX\n",
    "\n",
    "* [Get Started with TensorFlow Transform](https://www.tensorflow.org/tfx/transform/get_started)\n",
    "* [Preprocess data with TensorFlow Transform - Beginner](https://www.tensorflow.org/tfx/tutorials/transform/simple)\n",
    "* [Preprocess data with TensorFlow Transform - Advanced](https://www.tensorflow.org/tfx/tutorials/transform/census)\n",
    "\n",
    "\n",
    "## Coursera DataFlow\n",
    "\n",
    "* [Building Batch Data Pipelines on Google Cloud](https://www.coursera.org/learn/batch-data-pipelines-gcp/home/welcome)\n",
    "* [Processing Data with Google Cloud Dataflow](https://www.coursera.org/projects/googlecloud-processing-data-with-google-cloud-dataflow-5cztl)\n"
   ]
  }
 ],
 "metadata": {
  "kernelspec": {
   "display_name": "Python 3 (ipykernel)",
   "language": "python",
   "name": "python3"
  },
  "language_info": {
   "codemirror_mode": {
    "name": "ipython",
    "version": 3
   },
   "file_extension": ".py",
   "mimetype": "text/x-python",
   "name": "python",
   "nbconvert_exporter": "python",
   "pygments_lexer": "ipython3",
   "version": "3.9.13"
  }
 },
 "nbformat": 4,
 "nbformat_minor": 5
}
