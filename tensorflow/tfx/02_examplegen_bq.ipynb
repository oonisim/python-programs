{
 "cells": [
  {
   "cell_type": "markdown",
   "id": "e8ba7f4f",
   "metadata": {},
   "source": [
    "# 01 - Data Analysis and Preparation\n",
    "\n",
    "This notebook covers the following tasks:\n",
    "\n",
    "1. Perform exploratory data analysis and visualization.\n",
    "2. Prepare the data for the ML task in BigQuery.\n",
    "3. Generate and fix a ` TFDV schema` for the source data.\n",
    "4. Create a `Vertex Dataset resource` dataset.\n"
   ]
  },
  {
   "cell_type": "markdown",
   "id": "b481a247",
   "metadata": {},
   "source": [
    "## Dataset\n",
    "\n",
    "The [Chicago Taxi Trips](https://pantheon.corp.google.com/marketplace/details/city-of-chicago-public-data/chicago-taxi-trips) dataset is one of [public datasets hosted with BigQuery](https://cloud.google.com/bigquery/public-data/), which includes taxi trips from 2013 to the present, reported to the City of Chicago in its role as a regulatory agency. The `taxi_trips` table size is 70.72 GB and includes more than 195 million records. The dataset includes information about the trips, like pickup and dropoff datetime and location, passengers count, miles travelled, and trip toll. \n",
    "\n",
    "The ML task is to predict whether a given trip will result in a tip > 20%."
   ]
  },
  {
   "cell_type": "markdown",
   "id": "4fedd0ac",
   "metadata": {},
   "source": [
    "## Setup"
   ]
  },
  {
   "cell_type": "markdown",
   "id": "b25967c9",
   "metadata": {},
   "source": [
    "### Import libraries"
   ]
  },
  {
   "cell_type": "code",
   "execution_count": 28,
   "id": "fa2cf3f1",
   "metadata": {},
   "outputs": [],
   "source": [
    "import os\n",
    "#import pandas as pd\n",
    "#import tensorflow as tf\n",
    "import tensorflow_data_validation as tfdv\n",
    "#from google.cloud import bigquery\n",
    "#import matplotlib.pyplot as plt\n",
    "\n",
    "#from google.cloud import aiplatform as vertex_ai"
   ]
  },
  {
   "cell_type": "markdown",
   "id": "9bd0ee37",
   "metadata": {},
   "source": [
    "### Setup Google Cloud project"
   ]
  },
  {
   "cell_type": "code",
   "execution_count": 2,
   "id": "df79d50b-588c-4681-8972-e30a488dd436",
   "metadata": {},
   "outputs": [],
   "source": [
    "output=!gcloud config list --format 'value(core.project)'\n",
    "PROJECT_ID=output[0]\n",
    "REGION = 'us-central1'"
   ]
  },
  {
   "cell_type": "markdown",
   "id": "384a817b",
   "metadata": {},
   "source": [
    "### Set configurations"
   ]
  },
  {
   "cell_type": "code",
   "execution_count": 3,
   "id": "b71d0738",
   "metadata": {},
   "outputs": [],
   "source": [
    "BQ_DATASET_NAME = 'public_dataset' # Change to your BQ dataset name.\n",
    "BQ_TABLE_NAME = 'chicago_taxitrips_prep'\n",
    "BQ_LOCATION = 'US'\n",
    "\n",
    "DATASET_DISPLAY_NAME = 'chicago-taxi-tips'\n",
    "\n",
    "RAW_SCHEMA_DIR = 'src/raw_schema'"
   ]
  },
  {
   "cell_type": "markdown",
   "id": "39395512",
   "metadata": {},
   "source": [
    "## 1. Explore the data in BigQuery"
   ]
  },
  {
   "cell_type": "code",
   "execution_count": 4,
   "id": "9e4300d3",
   "metadata": {},
   "outputs": [
    {
     "name": "stderr",
     "output_type": "stream",
     "text": [
      "Query complete after 0.00s: 100%|██████████| 1/1 [00:00<00:00, 1124.78query/s]\n",
      "Downloading: 100%|██████████| 7/7 [00:02<00:00,  3.08rows/s]\n"
     ]
    }
   ],
   "source": [
    "%%bigquery data\n",
    "\n",
    "SELECT \n",
    "    CAST(EXTRACT(DAYOFWEEK FROM trip_start_timestamp) AS string) AS trip_dayofweek, \n",
    "    FORMAT_DATE('%A',cast(trip_start_timestamp as date)) AS trip_dayname,\n",
    "    COUNT(*) as trip_count,\n",
    "FROM `bigquery-public-data.chicago_taxi_trips.taxi_trips`\n",
    "WHERE\n",
    "    EXTRACT(YEAR FROM trip_start_timestamp) = 2015 \n",
    "GROUP BY\n",
    "    trip_dayofweek,\n",
    "    trip_dayname\n",
    "ORDER BY\n",
    "    trip_dayofweek\n",
    ";"
   ]
  },
  {
   "cell_type": "code",
   "execution_count": 5,
   "id": "699804c5",
   "metadata": {},
   "outputs": [
    {
     "data": {
      "text/html": [
       "<div>\n",
       "<style scoped>\n",
       "    .dataframe tbody tr th:only-of-type {\n",
       "        vertical-align: middle;\n",
       "    }\n",
       "\n",
       "    .dataframe tbody tr th {\n",
       "        vertical-align: top;\n",
       "    }\n",
       "\n",
       "    .dataframe thead th {\n",
       "        text-align: right;\n",
       "    }\n",
       "</style>\n",
       "<table border=\"1\" class=\"dataframe\">\n",
       "  <thead>\n",
       "    <tr style=\"text-align: right;\">\n",
       "      <th></th>\n",
       "      <th>trip_dayofweek</th>\n",
       "      <th>trip_dayname</th>\n",
       "      <th>trip_count</th>\n",
       "    </tr>\n",
       "  </thead>\n",
       "  <tbody>\n",
       "    <tr>\n",
       "      <th>0</th>\n",
       "      <td>1</td>\n",
       "      <td>Sunday</td>\n",
       "      <td>4141154</td>\n",
       "    </tr>\n",
       "    <tr>\n",
       "      <th>1</th>\n",
       "      <td>2</td>\n",
       "      <td>Monday</td>\n",
       "      <td>4105900</td>\n",
       "    </tr>\n",
       "    <tr>\n",
       "      <th>2</th>\n",
       "      <td>3</td>\n",
       "      <td>Tuesday</td>\n",
       "      <td>4378805</td>\n",
       "    </tr>\n",
       "    <tr>\n",
       "      <th>3</th>\n",
       "      <td>4</td>\n",
       "      <td>Wednesday</td>\n",
       "      <td>4542810</td>\n",
       "    </tr>\n",
       "    <tr>\n",
       "      <th>4</th>\n",
       "      <td>5</td>\n",
       "      <td>Thursday</td>\n",
       "      <td>4918190</td>\n",
       "    </tr>\n",
       "    <tr>\n",
       "      <th>5</th>\n",
       "      <td>6</td>\n",
       "      <td>Friday</td>\n",
       "      <td>5289830</td>\n",
       "    </tr>\n",
       "    <tr>\n",
       "      <th>6</th>\n",
       "      <td>7</td>\n",
       "      <td>Saturday</td>\n",
       "      <td>5009186</td>\n",
       "    </tr>\n",
       "  </tbody>\n",
       "</table>\n",
       "</div>"
      ],
      "text/plain": [
       "  trip_dayofweek trip_dayname  trip_count\n",
       "0              1       Sunday     4141154\n",
       "1              2       Monday     4105900\n",
       "2              3      Tuesday     4378805\n",
       "3              4    Wednesday     4542810\n",
       "4              5     Thursday     4918190\n",
       "5              6       Friday     5289830\n",
       "6              7     Saturday     5009186"
      ]
     },
     "execution_count": 5,
     "metadata": {},
     "output_type": "execute_result"
    }
   ],
   "source": [
    "data"
   ]
  },
  {
   "cell_type": "code",
   "execution_count": 6,
   "id": "a7f2447e",
   "metadata": {},
   "outputs": [
    {
     "data": {
      "text/plain": [
       "<AxesSubplot:xlabel='trip_dayname'>"
      ]
     },
     "execution_count": 6,
     "metadata": {},
     "output_type": "execute_result"
    },
    {
     "data": {
      "image/png": "[encoded data removed]",
      "text/plain": [
       "<Figure size 432x288 with 1 Axes>"
      ]
     },
     "metadata": {
      "needs_background": "light"
     },
     "output_type": "display_data"
    }
   ],
   "source": [
    "data.plot(kind='bar', x='trip_dayname', y='trip_count')"
   ]
  },
  {
   "cell_type": "markdown",
   "id": "a7782c69",
   "metadata": {},
   "source": [
    "## 2. Create data for the ML task\n",
    "\n",
    "We add a `ML_use` column for pre-splitting the data, where 80% of the datsa items are set to `UNASSIGNED` while the other 20% is set to `TEST`.\n",
    "\n",
    "This column is used during training to split the dataset for training and test.\n",
    "\n",
    "In the training phase, the `UNASSIGNED` are split into `train` and `eval`. The `TEST` split is will be used for the final model validation."
   ]
  },
  {
   "cell_type": "markdown",
   "id": "7987d132",
   "metadata": {},
   "source": [
    "### Create destination BigQuery dataset"
   ]
  },
  {
   "cell_type": "code",
   "execution_count": 7,
   "id": "56a7f6d6",
   "metadata": {},
   "outputs": [
    {
     "name": "stdout",
     "output_type": "stream",
     "text": [
      "BigQuery error in mk operation: Cannot determine dataset described by :\n"
     ]
    }
   ],
   "source": [
    "!bq --location=US mk -d \\\n",
    "$PROJECT:$BQ_DATASET_NAME"
   ]
  },
  {
   "cell_type": "code",
   "execution_count": 8,
   "id": "832f99ba",
   "metadata": {},
   "outputs": [],
   "source": [
    "sample_size = 1000000\n",
    "year = 2020"
   ]
  },
  {
   "cell_type": "code",
   "execution_count": null,
   "id": "1b19789f",
   "metadata": {},
   "outputs": [],
   "source": [
    "sql_script = '''\n",
    "CREATE OR REPLACE TABLE `@PROJECT.@DATASET.@TABLE` \n",
    "AS (\n",
    "    WITH\n",
    "      taxitrips AS (\n",
    "      SELECT\n",
    "        trip_start_timestamp,\n",
    "        trip_seconds,\n",
    "        trip_miles,\n",
    "        payment_type,\n",
    "        pickup_longitude,\n",
    "        pickup_latitude,\n",
    "        dropoff_longitude,\n",
    "        dropoff_latitude,\n",
    "        tips,\n",
    "        fare\n",
    "      FROM\n",
    "        `bigquery-public-data.chicago_taxi_trips.taxi_trips`\n",
    "      WHERE 1=1 \n",
    "      AND pickup_longitude IS NOT NULL\n",
    "      AND pickup_latitude IS NOT NULL\n",
    "      AND dropoff_longitude IS NOT NULL\n",
    "      AND dropoff_latitude IS NOT NULL\n",
    "      AND trip_miles > 0\n",
    "      AND trip_seconds > 0\n",
    "      AND fare > 0\n",
    "      AND EXTRACT(YEAR FROM trip_start_timestamp) = @YEAR\n",
    "    )\n",
    "\n",
    "    SELECT\n",
    "      trip_start_timestamp,\n",
    "      EXTRACT(MONTH from trip_start_timestamp) as trip_month,\n",
    "      EXTRACT(DAY from trip_start_timestamp) as trip_day,\n",
    "      EXTRACT(DAYOFWEEK from trip_start_timestamp) as trip_day_of_week,\n",
    "      EXTRACT(HOUR from trip_start_timestamp) as trip_hour,\n",
    "      trip_seconds,\n",
    "      trip_miles,\n",
    "      payment_type,\n",
    "      ST_AsText(\n",
    "          ST_SnapToGrid(ST_GeogPoint(pickup_longitude, pickup_latitude), 0.1)\n",
    "      ) AS pickup_grid,\n",
    "      ST_AsText(\n",
    "          ST_SnapToGrid(ST_GeogPoint(dropoff_longitude, dropoff_latitude), 0.1)\n",
    "      ) AS dropoff_grid,\n",
    "      ST_Distance(\n",
    "          ST_GeogPoint(pickup_longitude, pickup_latitude), \n",
    "          ST_GeogPoint(dropoff_longitude, dropoff_latitude)\n",
    "      ) AS euclidean,\n",
    "      CONCAT(\n",
    "          ST_AsText(ST_SnapToGrid(ST_GeogPoint(pickup_longitude,\n",
    "              pickup_latitude), 0.1)), \n",
    "          ST_AsText(ST_SnapToGrid(ST_GeogPoint(dropoff_longitude,\n",
    "              dropoff_latitude), 0.1))\n",
    "      ) AS loc_cross,\n",
    "      IF((tips/fare >= 0.2), 1, 0) AS tip_bin,\n",
    "      IF(RAND() <= 0.8, 'UNASSIGNED', 'TEST') AS ML_use\n",
    "    FROM\n",
    "      taxitrips\n",
    "    LIMIT @LIMIT\n",
    ")\n",
    "'''"
   ]
  },
  {
   "cell_type": "code",
   "execution_count": null,
   "id": "6f1d2837",
   "metadata": {},
   "outputs": [],
   "source": [
    "sql_script = sql_script.replace(\n",
    "    '@PROJECT', PROJECT).replace(\n",
    "    '@DATASET', BQ_DATASET_NAME).replace(\n",
    "    '@TABLE', BQ_TABLE_NAME).replace(\n",
    "    '@YEAR', str(year)).replace(\n",
    "    '@LIMIT', str(sample_size))"
   ]
  },
  {
   "cell_type": "code",
   "execution_count": null,
   "id": "27acb6b5",
   "metadata": {},
   "outputs": [],
   "source": [
    "print(sql_script)"
   ]
  },
  {
   "cell_type": "code",
   "execution_count": null,
   "id": "88f31e8c",
   "metadata": {},
   "outputs": [],
   "source": [
    "bq_client = bigquery.Client(project=PROJECT, location=BQ_LOCATION)\n",
    "job = bq_client.query(sql_script)\n",
    "_ = job.result()"
   ]
  },
  {
   "cell_type": "code",
   "execution_count": null,
   "id": "b32eea6f",
   "metadata": {},
   "outputs": [],
   "source": [
    "%%bigquery --project {PROJECT}\n",
    "\n",
    "SELECT ML_use, COUNT(*)\n",
    "FROM public_dataset.chicago_taxitrips_prep # Change to your BQ dataset and table names.\n",
    "GROUP BY ML_use"
   ]
  },
  {
   "cell_type": "markdown",
   "id": "7fcc75fc",
   "metadata": {},
   "source": [
    "### Load a sample data to a Pandas DataFrame"
   ]
  },
  {
   "cell_type": "code",
   "execution_count": null,
   "id": "798809d2",
   "metadata": {},
   "outputs": [],
   "source": [
    "sample_data.head().T"
   ]
  },
  {
   "cell_type": "code",
   "execution_count": null,
   "id": "23595838",
   "metadata": {},
   "outputs": [],
   "source": [
    "sample_data.tip_bin.value_counts()"
   ]
  },
  {
   "cell_type": "code",
   "execution_count": null,
   "id": "3d06bb64",
   "metadata": {},
   "outputs": [],
   "source": [
    "sample_data.euclidean.hist()"
   ]
  },
  {
   "cell_type": "markdown",
   "id": "110c5951-e3cc-4b11-8398-3fa81fcd6cd4",
   "metadata": {},
   "source": [
    "# TFX Interactive\n",
    "\n",
    "* [TFX Components Walk-through\n",
    "Learning Objectives](https://notebook.community/GoogleCloudPlatform/mlops-on-gcp/workshops/tfx-caip-tf21/lab-01-tfx-walkthrough/lab-01) (MUST)\n",
    "\n"
   ]
  },
  {
   "cell_type": "code",
   "execution_count": 7,
   "id": "fa1050f1-db76-4610-bfc0-cd3351299607",
   "metadata": {},
   "outputs": [],
   "source": [
    "!rm -rf ./data/artifacts\n",
    "!mkdir -p ./data/artifacts"
   ]
  },
  {
   "cell_type": "code",
   "execution_count": 8,
   "id": "9f264f59-cfd5-42a6-9579-a55914190648",
   "metadata": {},
   "outputs": [
    {
     "name": "stderr",
     "output_type": "stream",
     "text": [
      "WARNING:absl:InteractiveContext metadata_connection_config not provided: using SQLite ML Metadata database at ./data/artifacts/metadata.sqlite.\n"
     ]
    }
   ],
   "source": [
    "import os\n",
    "from tfx.orchestration.experimental.interactive.interactive_context import InteractiveContext\n",
    "\n",
    "%load_ext tfx.orchestration.experimental.interactive.notebook_extensions.skip\n",
    "\n",
    "context = InteractiveContext(pipeline_root='./data/artifacts')"
   ]
  },
  {
   "cell_type": "markdown",
   "id": "317724f2-3c40-49d4-91b8-d04556b0b4f0",
   "metadata": {},
   "source": [
    "## BigQueryExampleGen\n",
    "\n",
    "* [Colab InteractiveContext Unable to Determine ProjectID for BQ #882](https://github.com/tensorflow/tfx/issues/882)\n",
    "\n",
    "> The issue appears when running this in a notebook with the BigQueryExampleGen with the error ```Request missing required parameter projectId```.  \n",
    "> I have proposed [#888](https://github.com/tensorflow/tfx/pull/888) to make this work. With that change, you would be able to do \n",
    "> ```\n",
    "> context.run(..., beam_pipeline_args=['--project', 'my-project'])\n",
    "> ```\n",
    "\n",
    "* [Allow beam_pipeline_args to be specified in interactive context.run(). #888](https://github.com/tensorflow/tfx/pull/888)\n",
    "* [BigQueryExampleGen broken ReadFromBigQuery requires a GCS location to be provided #2293](https://github.com/tensorflow/tfx/issues/2293)\n",
    "\n",
    "> need to provide --temp_location as part of the beam pipeline arg, and set that to a GCS location\n",
    "\n",
    "* [ValueError in Dataflow: Invalid GCS location: None](https://stackoverflow.com/questions/68325195/valueerror-in-dataflow-invalid-gcs-location-none)\n",
    "\n",
    "> When running your Dataflow pipeline pass the argument ```--temp_location gs://bucket/subfolder/```\n",
    "\n",
    "## Tutorial\n",
    "\n",
    "* [TensorFlow Extended (TFX): Using Apache Beam for large scale data processing](https://blog.tensorflow.org/2020/03/tensorflow-extended-tfx-using-apache-beam-large-scale-data-processing.html)\n",
    "* [Reading data from BigQuery with TFX and Vertex Pipelines ](https://www.tensorflow.org/tfx/tutorials/tfx/gcp/vertex_pipelines_bq)\n",
    "\n",
    "> This notebook-based tutorial will use Google Cloud BigQuery as a data source to train an ML model. The ML pipeline will be constructed using TFX and run on Google Cloud Vertex Pipelines. In this tutorial, we will use the **BigQueryExampleGen** component which reads data from BigQuery to TFX pipelines.  \n",
    "> \n",
    "> \n",
    "> We also **need to pass beam_pipeline_args** for the BigQueryExampleGen. It includes configs like **the name of the GCP project and the temporary storage** for the BigQuery execution.\n"
   ]
  },
  {
   "cell_type": "code",
   "execution_count": 9,
   "id": "e227d49e-cf80-491e-af7d-7dbb628ee1e2",
   "metadata": {},
   "outputs": [
    {
     "name": "stdout",
     "output_type": "stream",
     "text": [
      "Creating gs://gcp-egl-ml-platform-dev-bucket/...\n",
      "ServiceException: 409 A Cloud Storage bucket named 'gcp-egl-ml-platform-dev-bucket' already exists. Try another name. Bucket names must be globally unique across all Google Cloud projects, including those outside of your organization.\n"
     ]
    }
   ],
   "source": [
    "BUCKET = \"gs://\" + PROJECT_ID + \"-bucket\"\n",
    "!gsutil mb $BUCKET"
   ]
  },
  {
   "cell_type": "code",
   "execution_count": 10,
   "id": "f0a7cc52-9b72-41c8-9346-407a2424ea04",
   "metadata": {},
   "outputs": [],
   "source": [
    "from tfx.v1.extensions.google_cloud_big_query import BigQueryExampleGen\n",
    "from tfx.v1.components import (\n",
    "    StatisticsGen,\n",
    "    SchemaGen,\n",
    ")"
   ]
  },
  {
   "cell_type": "code",
   "execution_count": 14,
   "id": "c1403106-538e-472c-8154-eaab52c915e3",
   "metadata": {},
   "outputs": [
    {
     "name": "stderr",
     "output_type": "stream",
     "text": [
      "WARNING:absl:Length of label `tfx-extensions-google_cloud_big_query-example_gen-executor-executor` exceeds maximum length(63), trimmed.\n",
      "WARNING:root:Make sure that locally built Python SDK docker image has Python 3.7 interpreter.\n",
      "WARNING:apache_beam.io.gcp.bigquery_tools:Dataset gcp-egl-ml-platform-dev:beam_temp_dataset_1bdc483a84d64047bcdcd0a9ed8db01e does not exist so we will create it as temporary with location=US\n"
     ]
    }
   ],
   "source": [
    "query = \"\"\"\n",
    "SELECT \n",
    "    * EXCEPT (trip_start_timestamp, ML_use)\n",
    "FROM \n",
    "    {PROJECT_ID}.public_dataset.chicago_taxitrips_prep\n",
    "\"\"\".format(PROJECT_ID=PROJECT_ID)\n",
    "\n",
    "example_gen = context.run(\n",
    "    BigQueryExampleGen(query=query),\n",
    "    beam_pipeline_args=[\n",
    "        '--project', PROJECT_ID,\n",
    "        '--temp_location', BUCKET\n",
    "    ]\n",
    ")"
   ]
  },
  {
   "cell_type": "code",
   "execution_count": 17,
   "id": "0f4dd31d-ad2b-41ed-a31b-db5de12ebe6a",
   "metadata": {},
   "outputs": [
    {
     "data": {
      "text/plain": [
       "['__class__',\n",
       " '__delattr__',\n",
       " '__dict__',\n",
       " '__dir__',\n",
       " '__doc__',\n",
       " '__eq__',\n",
       " '__format__',\n",
       " '__ge__',\n",
       " '__getattribute__',\n",
       " '__gt__',\n",
       " '__hash__',\n",
       " '__init__',\n",
       " '__init_subclass__',\n",
       " '__le__',\n",
       " '__lt__',\n",
       " '__module__',\n",
       " '__ne__',\n",
       " '__new__',\n",
       " '__reduce__',\n",
       " '__reduce_ex__',\n",
       " '__repr__',\n",
       " '__setattr__',\n",
       " '__sizeof__',\n",
       " '__str__',\n",
       " '__subclasshook__',\n",
       " '__weakref__',\n",
       " 'component',\n",
       " 'execution_id']"
      ]
     },
     "execution_count": 17,
     "metadata": {},
     "output_type": "execute_result"
    }
   ],
   "source": [
    "dir(example_gen)"
   ]
  },
  {
   "cell_type": "markdown",
   "id": "9a95345b-3d93-4f76-a4ef-308beb3c2c83",
   "metadata": {},
   "source": [
    "## StatisticsGen"
   ]
  },
  {
   "cell_type": "code",
   "execution_count": 23,
   "id": "b71e36f1-64ca-46b3-ab5a-3ffe8d137a7c",
   "metadata": {},
   "outputs": [
    {
     "data": {
      "text/html": [
       "<b>Artifact at ./data/artifacts/StatisticsGen/statistics/3</b><br/><br/>"
      ],
      "text/plain": [
       "<IPython.core.display.HTML object>"
      ]
     },
     "metadata": {},
     "output_type": "display_data"
    },
    {
     "data": {
      "text/html": [
       "<div><b>'train' split:</b></div><br/>"
      ],
      "text/plain": [
       "<IPython.core.display.HTML object>"
      ]
     },
     "metadata": {},
     "output_type": "display_data"
    },
    {
     "data": {
      "text/html": [
       "<iframe id='facets-iframe' width=\"100%\" height=\"500px\"></iframe>\n",
       "        <script>\n",
       "        facets_iframe = document.getElementById('facets-iframe');\n",
       "        facets_html = '<script src=\"https://cdnjs.cloudflare.com/ajax/libs/webcomponentsjs/1.3.3/webcomponents-lite.js\"><\\/script><link rel=\"import\" href=\"https://raw.githubusercontent.com/PAIR-code/facets/master/facets-dist/facets-jupyter.html\"><facets-overview proto-input=\"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\"></facets-overview>';\n",
       "        facets_iframe.srcdoc = facets_html;\n",
       "         facets_iframe.id = \"\";\n",
       "         setTimeout(() => {\n",
       "           facets_iframe.setAttribute('height', facets_iframe.contentWindow.document.body.offsetHeight + 'px')\n",
       "         }, 1500)\n",
       "         </script>"
      ],
      "text/plain": [
       "<IPython.core.display.HTML object>"
      ]
     },
     "metadata": {},
     "output_type": "display_data"
    },
    {
     "data": {
      "text/html": [
       "<div><b>'eval' split:</b></div><br/>"
      ],
      "text/plain": [
       "<IPython.core.display.HTML object>"
      ]
     },
     "metadata": {},
     "output_type": "display_data"
    },
    {
     "data": {
      "text/html": [
       "<iframe id='facets-iframe' width=\"100%\" height=\"500px\"></iframe>\n",
       "        <script>\n",
       "        facets_iframe = document.getElementById('facets-iframe');\n",
       "        facets_html = '<script src=\"https://cdnjs.cloudflare.com/ajax/libs/webcomponentsjs/1.3.3/webcomponents-lite.js\"><\\/script><link rel=\"import\" href=\"https://raw.githubusercontent.com/PAIR-code/facets/master/facets-dist/facets-jupyter.html\"><facets-overview proto-input=\"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\"></facets-overview>';\n",
       "        facets_iframe.srcdoc = facets_html;\n",
       "         facets_iframe.id = \"\";\n",
       "         setTimeout(() => {\n",
       "           facets_iframe.setAttribute('height', facets_iframe.contentWindow.document.body.offsetHeight + 'px')\n",
       "         }, 1500)\n",
       "         </script>"
      ],
      "text/plain": [
       "<IPython.core.display.HTML object>"
      ]
     },
     "metadata": {},
     "output_type": "display_data"
    }
   ],
   "source": [
    "statistics_gen = context.run(\n",
    "    StatisticsGen(examples=example_gen.component.outputs['examples'])\n",
    ")\n",
    "context.show(statistics_gen.component.outputs['statistics'])"
   ]
  },
  {
   "cell_type": "code",
   "execution_count": 20,
   "id": "75544051-5e2b-44af-b9bd-ae8a809f52e9",
   "metadata": {},
   "outputs": [
    {
     "data": {
      "text/html": [
       "<b>Artifact at ./data/artifacts/StatisticsGen/statistics/3</b><br/><br/>"
      ],
      "text/plain": [
       "<IPython.core.display.HTML object>"
      ]
     },
     "metadata": {},
     "output_type": "display_data"
    },
    {
     "data": {
      "text/html": [
       "<div><b>'train' split:</b></div><br/>"
      ],
      "text/plain": [
       "<IPython.core.display.HTML object>"
      ]
     },
     "metadata": {},
     "output_type": "display_data"
    },
    {
     "data": {
      "text/html": [
       "<iframe id='facets-iframe' width=\"100%\" height=\"500px\"></iframe>\n",
       "        <script>\n",
       "        facets_iframe = document.getElementById('facets-iframe');\n",
       "        facets_html = '<script src=\"https://cdnjs.cloudflare.com/ajax/libs/webcomponentsjs/1.3.3/webcomponents-lite.js\"><\\/script><link rel=\"import\" href=\"https://raw.githubusercontent.com/PAIR-code/facets/master/facets-dist/facets-jupyter.html\"><facets-overview proto-input=\"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\"></facets-overview>';\n",
       "        facets_iframe.srcdoc = facets_html;\n",
       "         facets_iframe.id = \"\";\n",
       "         setTimeout(() => {\n",
       "           facets_iframe.setAttribute('height', facets_iframe.contentWindow.document.body.offsetHeight + 'px')\n",
       "         }, 1500)\n",
       "         </script>"
      ],
      "text/plain": [
       "<IPython.core.display.HTML object>"
      ]
     },
     "metadata": {},
     "output_type": "display_data"
    },
    {
     "data": {
      "text/html": [
       "<div><b>'eval' split:</b></div><br/>"
      ],
      "text/plain": [
       "<IPython.core.display.HTML object>"
      ]
     },
     "metadata": {},
     "output_type": "display_data"
    },
    {
     "data": {
      "text/html": [
       "<iframe id='facets-iframe' width=\"100%\" height=\"500px\"></iframe>\n",
       "        <script>\n",
       "        facets_iframe = document.getElementById('facets-iframe');\n",
       "        facets_html = '<script src=\"https://cdnjs.cloudflare.com/ajax/libs/webcomponentsjs/1.3.3/webcomponents-lite.js\"><\\/script><link rel=\"import\" href=\"https://raw.githubusercontent.com/PAIR-code/facets/master/facets-dist/facets-jupyter.html\"><facets-overview proto-input=\"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\"></facets-overview>';\n",
       "        facets_iframe.srcdoc = facets_html;\n",
       "         facets_iframe.id = \"\";\n",
       "         setTimeout(() => {\n",
       "           facets_iframe.setAttribute('height', facets_iframe.contentWindow.document.body.offsetHeight + 'px')\n",
       "         }, 1500)\n",
       "         </script>"
      ],
      "text/plain": [
       "<IPython.core.display.HTML object>"
      ]
     },
     "metadata": {},
     "output_type": "display_data"
    }
   ],
   "source": []
  },
  {
   "cell_type": "markdown",
   "id": "39b9bb09-f446-4135-981d-9a9fe260878a",
   "metadata": {},
   "source": [
    "## SchemaGen\n",
    "\n",
    "* [Why isn't SchemaGen supported in tfdv.display_schema()?](https://stackoverflow.com/a/64199301)"
   ]
  },
  {
   "cell_type": "code",
   "execution_count": 22,
   "id": "6269ce6a-5d69-4728-bb78-ad5e1586cd7e",
   "metadata": {},
   "outputs": [
    {
     "data": {
      "text/html": [
       "<b>Artifact at ./data/artifacts/SchemaGen/schema/4</b><br/><br/>"
      ],
      "text/plain": [
       "<IPython.core.display.HTML object>"
      ]
     },
     "metadata": {},
     "output_type": "display_data"
    },
    {
     "data": {
      "text/html": [
       "<div>\n",
       "<style scoped>\n",
       "    .dataframe tbody tr th:only-of-type {\n",
       "        vertical-align: middle;\n",
       "    }\n",
       "\n",
       "    .dataframe tbody tr th {\n",
       "        vertical-align: top;\n",
       "    }\n",
       "\n",
       "    .dataframe thead th {\n",
       "        text-align: right;\n",
       "    }\n",
       "</style>\n",
       "<table border=\"1\" class=\"dataframe\">\n",
       "  <thead>\n",
       "    <tr style=\"text-align: right;\">\n",
       "      <th></th>\n",
       "      <th>Type</th>\n",
       "      <th>Presence</th>\n",
       "      <th>Valency</th>\n",
       "      <th>Domain</th>\n",
       "    </tr>\n",
       "    <tr>\n",
       "      <th>Feature name</th>\n",
       "      <th></th>\n",
       "      <th></th>\n",
       "      <th></th>\n",
       "      <th></th>\n",
       "    </tr>\n",
       "  </thead>\n",
       "  <tbody>\n",
       "    <tr>\n",
       "      <th>'dropoff_grid'</th>\n",
       "      <td>STRING</td>\n",
       "      <td>required</td>\n",
       "      <td></td>\n",
       "      <td>'dropoff_grid'</td>\n",
       "    </tr>\n",
       "    <tr>\n",
       "      <th>'euclidean'</th>\n",
       "      <td>FLOAT</td>\n",
       "      <td>required</td>\n",
       "      <td></td>\n",
       "      <td>-</td>\n",
       "    </tr>\n",
       "    <tr>\n",
       "      <th>'loc_cross'</th>\n",
       "      <td>BYTES</td>\n",
       "      <td>required</td>\n",
       "      <td></td>\n",
       "      <td>-</td>\n",
       "    </tr>\n",
       "    <tr>\n",
       "      <th>'payment_type'</th>\n",
       "      <td>STRING</td>\n",
       "      <td>required</td>\n",
       "      <td></td>\n",
       "      <td>'payment_type'</td>\n",
       "    </tr>\n",
       "    <tr>\n",
       "      <th>'pickup_grid'</th>\n",
       "      <td>STRING</td>\n",
       "      <td>required</td>\n",
       "      <td></td>\n",
       "      <td>'pickup_grid'</td>\n",
       "    </tr>\n",
       "    <tr>\n",
       "      <th>'tip_bin'</th>\n",
       "      <td>INT</td>\n",
       "      <td>required</td>\n",
       "      <td></td>\n",
       "      <td>-</td>\n",
       "    </tr>\n",
       "    <tr>\n",
       "      <th>'trip_day'</th>\n",
       "      <td>INT</td>\n",
       "      <td>required</td>\n",
       "      <td></td>\n",
       "      <td>-</td>\n",
       "    </tr>\n",
       "    <tr>\n",
       "      <th>'trip_day_of_week'</th>\n",
       "      <td>INT</td>\n",
       "      <td>required</td>\n",
       "      <td></td>\n",
       "      <td>-</td>\n",
       "    </tr>\n",
       "    <tr>\n",
       "      <th>'trip_hour'</th>\n",
       "      <td>INT</td>\n",
       "      <td>required</td>\n",
       "      <td></td>\n",
       "      <td>-</td>\n",
       "    </tr>\n",
       "    <tr>\n",
       "      <th>'trip_miles'</th>\n",
       "      <td>FLOAT</td>\n",
       "      <td>required</td>\n",
       "      <td></td>\n",
       "      <td>-</td>\n",
       "    </tr>\n",
       "    <tr>\n",
       "      <th>'trip_month'</th>\n",
       "      <td>INT</td>\n",
       "      <td>required</td>\n",
       "      <td></td>\n",
       "      <td>-</td>\n",
       "    </tr>\n",
       "    <tr>\n",
       "      <th>'trip_seconds'</th>\n",
       "      <td>INT</td>\n",
       "      <td>required</td>\n",
       "      <td></td>\n",
       "      <td>-</td>\n",
       "    </tr>\n",
       "  </tbody>\n",
       "</table>\n",
       "</div>"
      ],
      "text/plain": [
       "                      Type  Presence Valency          Domain\n",
       "Feature name                                                \n",
       "'dropoff_grid'      STRING  required          'dropoff_grid'\n",
       "'euclidean'          FLOAT  required                       -\n",
       "'loc_cross'          BYTES  required                       -\n",
       "'payment_type'      STRING  required          'payment_type'\n",
       "'pickup_grid'       STRING  required           'pickup_grid'\n",
       "'tip_bin'              INT  required                       -\n",
       "'trip_day'             INT  required                       -\n",
       "'trip_day_of_week'     INT  required                       -\n",
       "'trip_hour'            INT  required                       -\n",
       "'trip_miles'         FLOAT  required                       -\n",
       "'trip_month'           INT  required                       -\n",
       "'trip_seconds'         INT  required                       -"
      ]
     },
     "metadata": {},
     "output_type": "display_data"
    },
    {
     "data": {
      "text/html": [
       "<div>\n",
       "<style scoped>\n",
       "    .dataframe tbody tr th:only-of-type {\n",
       "        vertical-align: middle;\n",
       "    }\n",
       "\n",
       "    .dataframe tbody tr th {\n",
       "        vertical-align: top;\n",
       "    }\n",
       "\n",
       "    .dataframe thead th {\n",
       "        text-align: right;\n",
       "    }\n",
       "</style>\n",
       "<table border=\"1\" class=\"dataframe\">\n",
       "  <thead>\n",
       "    <tr style=\"text-align: right;\">\n",
       "      <th></th>\n",
       "      <th>Values</th>\n",
       "    </tr>\n",
       "    <tr>\n",
       "      <th>Domain</th>\n",
       "      <th></th>\n",
       "    </tr>\n",
       "  </thead>\n",
       "  <tbody>\n",
       "    <tr>\n",
       "      <th>'dropoff_grid'</th>\n",
       "      <td>'POINT(-87.5 41.7)', 'POINT(-87.6 41.7)', 'POINT(-87.6 41.8)', 'POINT(-87.6 41.9)', 'POINT(-87.6 42)', 'POINT(-87.7 41.7)', 'POINT(-87.7 41.8)', 'POINT(-87.7 41.9)', 'POINT(-87.7 42)', 'POINT(-87.8 41.8)', 'POINT(-87.8 41.9)', 'POINT(-87.8 42)', 'POINT(-87.9 42)'</td>\n",
       "    </tr>\n",
       "    <tr>\n",
       "      <th>'payment_type'</th>\n",
       "      <td>'Cash', 'Credit Card', 'Dispute', 'Mobile', 'No Charge', 'Prcard', 'Prepaid', 'Unknown'</td>\n",
       "    </tr>\n",
       "    <tr>\n",
       "      <th>'pickup_grid'</th>\n",
       "      <td>'POINT(-87.5 41.7)', 'POINT(-87.6 41.7)', 'POINT(-87.6 41.8)', 'POINT(-87.6 41.9)', 'POINT(-87.6 42)', 'POINT(-87.7 41.7)', 'POINT(-87.7 41.8)', 'POINT(-87.7 41.9)', 'POINT(-87.7 42)', 'POINT(-87.8 41.8)', 'POINT(-87.8 41.9)', 'POINT(-87.8 42)', 'POINT(-87.9 42)'</td>\n",
       "    </tr>\n",
       "  </tbody>\n",
       "</table>\n",
       "</div>"
      ],
      "text/plain": [
       "                                                                                                                                                                                                                                                                                 Values\n",
       "Domain                                                                                                                                                                                                                                                                                 \n",
       "'dropoff_grid'  'POINT(-87.5 41.7)', 'POINT(-87.6 41.7)', 'POINT(-87.6 41.8)', 'POINT(-87.6 41.9)', 'POINT(-87.6 42)', 'POINT(-87.7 41.7)', 'POINT(-87.7 41.8)', 'POINT(-87.7 41.9)', 'POINT(-87.7 42)', 'POINT(-87.8 41.8)', 'POINT(-87.8 41.9)', 'POINT(-87.8 42)', 'POINT(-87.9 42)'\n",
       "'payment_type'                                                                                                                                                                                  'Cash', 'Credit Card', 'Dispute', 'Mobile', 'No Charge', 'Prcard', 'Prepaid', 'Unknown'\n",
       "'pickup_grid'   'POINT(-87.5 41.7)', 'POINT(-87.6 41.7)', 'POINT(-87.6 41.8)', 'POINT(-87.6 41.9)', 'POINT(-87.6 42)', 'POINT(-87.7 41.7)', 'POINT(-87.7 41.8)', 'POINT(-87.7 41.9)', 'POINT(-87.7 42)', 'POINT(-87.8 41.8)', 'POINT(-87.8 41.9)', 'POINT(-87.8 42)', 'POINT(-87.9 42)'"
      ]
     },
     "metadata": {},
     "output_type": "display_data"
    }
   ],
   "source": [
    "schema_gen = SchemaGen(\n",
    "    statistics=statistics_gen.component.outputs['statistics'],\n",
    "    infer_feature_shape=True\n",
    ")\n",
    "context.run(schema_gen)\n",
    "context.show(schema_gen.outputs['schema'])"
   ]
  },
  {
   "cell_type": "markdown",
   "id": "10aae180",
   "metadata": {},
   "source": [
    "## 3. Generate raw data schema\n",
    "\n",
    "The [TensorFlow Data Validation (TFDV)](https://www.tensorflow.org/tfx/data_validation/get_started) data schema will be used in:\n",
    "1. Identify the raw data types and shapes in the data transformation.\n",
    "2. Create the serving input signature for the custom model.\n",
    "3. Validate the new raw training data in the TFX pipeline."
   ]
  },
  {
   "cell_type": "code",
   "execution_count": 29,
   "id": "4087d5fa",
   "metadata": {},
   "outputs": [
    {
     "ename": "NameError",
     "evalue": "name 'sample_data' is not defined",
     "output_type": "error",
     "traceback": [
      "\u001b[0;31m---------------------------------------------------------------------------\u001b[0m",
      "\u001b[0;31mNameError\u001b[0m                                 Traceback (most recent call last)",
      "\u001b[0;32m/tmp/ipykernel_3287/3275755343.py\u001b[0m in \u001b[0;36m<module>\u001b[0;34m\u001b[0m\n\u001b[1;32m      1\u001b[0m stats = tfdv.generate_statistics_from_dataframe(\n\u001b[0;32m----> 2\u001b[0;31m     \u001b[0mdataframe\u001b[0m\u001b[0;34m=\u001b[0m\u001b[0msample_data\u001b[0m\u001b[0;34m,\u001b[0m\u001b[0;34m\u001b[0m\u001b[0;34m\u001b[0m\u001b[0m\n\u001b[0m\u001b[1;32m      3\u001b[0m     stats_options=tfdv.StatsOptions(\n\u001b[1;32m      4\u001b[0m         \u001b[0mlabel_feature\u001b[0m\u001b[0;34m=\u001b[0m\u001b[0;34m'tip_bin'\u001b[0m\u001b[0;34m,\u001b[0m\u001b[0;34m\u001b[0m\u001b[0;34m\u001b[0m\u001b[0m\n\u001b[1;32m      5\u001b[0m         \u001b[0mweight_feature\u001b[0m\u001b[0;34m=\u001b[0m\u001b[0;32mNone\u001b[0m\u001b[0;34m,\u001b[0m\u001b[0;34m\u001b[0m\u001b[0;34m\u001b[0m\u001b[0m\n",
      "\u001b[0;31mNameError\u001b[0m: name 'sample_data' is not defined"
     ]
    }
   ],
   "source": [
    "\n",
    "stats = tfdv.generate_statistics_from_dataframe(\n",
    "    dataframe=sample_data,\n",
    "    stats_options=tfdv.StatsOptions(\n",
    "        label_feature='tip_bin',\n",
    "        weight_feature=None,\n",
    "        sample_rate=1,\n",
    "        num_top_values=50\n",
    "    )\n",
    ")"
   ]
  },
  {
   "cell_type": "code",
   "execution_count": 25,
   "id": "091fbd77",
   "metadata": {},
   "outputs": [
    {
     "ename": "NameError",
     "evalue": "name 'tfdv' is not defined",
     "output_type": "error",
     "traceback": [
      "\u001b[0;31m---------------------------------------------------------------------------\u001b[0m",
      "\u001b[0;31mNameError\u001b[0m                                 Traceback (most recent call last)",
      "\u001b[0;32m/tmp/ipykernel_3287/1505627378.py\u001b[0m in \u001b[0;36m<module>\u001b[0;34m\u001b[0m\n\u001b[0;32m----> 1\u001b[0;31m \u001b[0mtfdv\u001b[0m\u001b[0;34m.\u001b[0m\u001b[0mvisualize_statistics\u001b[0m\u001b[0;34m(\u001b[0m\u001b[0mstats\u001b[0m\u001b[0;34m)\u001b[0m\u001b[0;34m\u001b[0m\u001b[0;34m\u001b[0m\u001b[0m\n\u001b[0m",
      "\u001b[0;31mNameError\u001b[0m: name 'tfdv' is not defined"
     ]
    }
   ],
   "source": [
    "tfdv.visualize_statistics(stats)"
   ]
  },
  {
   "cell_type": "code",
   "execution_count": 26,
   "id": "d251e09b",
   "metadata": {},
   "outputs": [
    {
     "ename": "NameError",
     "evalue": "name 'tfdv' is not defined",
     "output_type": "error",
     "traceback": [
      "\u001b[0;31m---------------------------------------------------------------------------\u001b[0m",
      "\u001b[0;31mNameError\u001b[0m                                 Traceback (most recent call last)",
      "\u001b[0;32m/tmp/ipykernel_3287/3664202417.py\u001b[0m in \u001b[0;36m<module>\u001b[0;34m\u001b[0m\n\u001b[0;32m----> 1\u001b[0;31m \u001b[0mschema\u001b[0m \u001b[0;34m=\u001b[0m \u001b[0mtfdv\u001b[0m\u001b[0;34m.\u001b[0m\u001b[0minfer_schema\u001b[0m\u001b[0;34m(\u001b[0m\u001b[0mstatistics\u001b[0m\u001b[0;34m=\u001b[0m\u001b[0mstats\u001b[0m\u001b[0;34m)\u001b[0m\u001b[0;34m\u001b[0m\u001b[0;34m\u001b[0m\u001b[0m\n\u001b[0m\u001b[1;32m      2\u001b[0m \u001b[0mtfdv\u001b[0m\u001b[0;34m.\u001b[0m\u001b[0mdisplay_schema\u001b[0m\u001b[0;34m(\u001b[0m\u001b[0mschema\u001b[0m\u001b[0;34m=\u001b[0m\u001b[0mschema\u001b[0m\u001b[0;34m)\u001b[0m\u001b[0;34m\u001b[0m\u001b[0;34m\u001b[0m\u001b[0m\n",
      "\u001b[0;31mNameError\u001b[0m: name 'tfdv' is not defined"
     ]
    }
   ],
   "source": [
    "schema = tfdv.infer_schema(statistics=stats)\n",
    "tfdv.display_schema(schema=schema)"
   ]
  },
  {
   "cell_type": "code",
   "execution_count": 27,
   "id": "502c49f1",
   "metadata": {},
   "outputs": [
    {
     "ename": "NameError",
     "evalue": "name 'tfdv' is not defined",
     "output_type": "error",
     "traceback": [
      "\u001b[0;31m---------------------------------------------------------------------------\u001b[0m",
      "\u001b[0;31mNameError\u001b[0m                                 Traceback (most recent call last)",
      "\u001b[0;32m/tmp/ipykernel_3287/529570059.py\u001b[0m in \u001b[0;36m<module>\u001b[0;34m\u001b[0m\n\u001b[1;32m      1\u001b[0m \u001b[0mraw_schema_location\u001b[0m \u001b[0;34m=\u001b[0m \u001b[0mos\u001b[0m\u001b[0;34m.\u001b[0m\u001b[0mpath\u001b[0m\u001b[0;34m.\u001b[0m\u001b[0mjoin\u001b[0m\u001b[0;34m(\u001b[0m\u001b[0mRAW_SCHEMA_DIR\u001b[0m\u001b[0;34m,\u001b[0m \u001b[0;34m'schema.pbtxt'\u001b[0m\u001b[0;34m)\u001b[0m\u001b[0;34m\u001b[0m\u001b[0;34m\u001b[0m\u001b[0m\n\u001b[0;32m----> 2\u001b[0;31m \u001b[0mtfdv\u001b[0m\u001b[0;34m.\u001b[0m\u001b[0mwrite_schema_text\u001b[0m\u001b[0;34m(\u001b[0m\u001b[0mschema\u001b[0m\u001b[0;34m,\u001b[0m \u001b[0mraw_schema_location\u001b[0m\u001b[0;34m)\u001b[0m\u001b[0;34m\u001b[0m\u001b[0;34m\u001b[0m\u001b[0m\n\u001b[0m",
      "\u001b[0;31mNameError\u001b[0m: name 'tfdv' is not defined"
     ]
    }
   ],
   "source": [
    "raw_schema_location = os.path.join(RAW_SCHEMA_DIR, 'schema.pbtxt')\n",
    "tfdv.write_schema_text(schema, raw_schema_location)"
   ]
  },
  {
   "cell_type": "markdown",
   "id": "59df0723",
   "metadata": {},
   "source": [
    "## 4. Create Vertex Dataset resource"
   ]
  },
  {
   "cell_type": "code",
   "execution_count": null,
   "id": "90d9b605",
   "metadata": {},
   "outputs": [],
   "source": [
    "vertex_ai.init(\n",
    "    project=PROJECT,\n",
    "    location=REGION\n",
    ")"
   ]
  },
  {
   "cell_type": "markdown",
   "id": "464ab920",
   "metadata": {},
   "source": [
    "### Create the dataset resource"
   ]
  },
  {
   "cell_type": "code",
   "execution_count": null,
   "id": "a0a1707a",
   "metadata": {},
   "outputs": [],
   "source": [
    "bq_uri = f\"bq://{PROJECT}.{BQ_DATASET_NAME}.{BQ_TABLE_NAME}\"\n",
    "\n",
    "dataset = vertex_ai.TabularDataset.create(\n",
    "    display_name=DATASET_DISPLAY_NAME, bq_source=bq_uri)\n",
    "\n",
    "dataset.gca_resource"
   ]
  },
  {
   "cell_type": "markdown",
   "id": "c761fadb",
   "metadata": {},
   "source": [
    "### Get the dataset resource\n",
    "\n",
    "The dataset resource is retrieved by display name. Because multiple datasets can have the same display name, we retrieve the most recent updated one."
   ]
  },
  {
   "cell_type": "code",
   "execution_count": null,
   "id": "d78b7f4d",
   "metadata": {},
   "outputs": [],
   "source": [
    "dataset = vertex_ai.TabularDataset.list(\n",
    "    filter=f\"display_name={DATASET_DISPLAY_NAME}\", \n",
    "    order_by=\"update_time\")[-1]\n",
    "\n",
    "print(\"Dataset resource name:\", dataset.resource_name)\n",
    "print(\"Dataset BigQuery source:\", dataset.gca_resource.metadata['inputConfig']['bigquerySource']['uri'])"
   ]
  },
  {
   "cell_type": "code",
   "execution_count": null,
   "id": "569249de",
   "metadata": {},
   "outputs": [],
   "source": []
  }
 ],
 "metadata": {
  "environment": {
   "kernel": "python3",
   "name": "tf2-gpu.2-8.m91",
   "type": "gcloud",
   "uri": "gcr.io/deeplearning-platform-release/tf2-gpu.2-8:m91"
  },
  "kernelspec": {
   "display_name": "Python 3",
   "language": "python",
   "name": "python3"
  },
  "language_info": {
   "codemirror_mode": {
    "name": "ipython",
    "version": 3
   },
   "file_extension": ".py",
   "mimetype": "text/x-python",
   "name": "python",
   "nbconvert_exporter": "python",
   "pygments_lexer": "ipython3",
   "version": "3.7.12"
  }
 },
 "nbformat": 4,
 "nbformat_minor": 5
}
