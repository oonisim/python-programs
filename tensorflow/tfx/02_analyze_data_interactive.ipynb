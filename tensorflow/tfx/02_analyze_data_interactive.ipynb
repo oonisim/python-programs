{
 "cells": [
  {
   "cell_type": "markdown",
   "id": "e8ba7f4f",
   "metadata": {},
   "source": [
    "# TFX Interactive Data Analysis \n",
    "\n",
    "1. Prepare the data in BigQuery.\n",
    "2. ExampleGen on BigQuery.\n",
    "3. StatisticsGen and SchemaGen to generate and fix TFDV schema\n"
   ]
  },
  {
   "cell_type": "markdown",
   "id": "b481a247",
   "metadata": {},
   "source": [
    "## Dataset\n",
    "\n",
    "The [Chicago Taxi Trips](https://pantheon.corp.google.com/marketplace/details/city-of-chicago-public-data/chicago-taxi-trips) dataset is one of [public datasets hosted with BigQuery](https://cloud.google.com/bigquery/public-data/), which includes taxi trips from 2013 to the present, reported to the City of Chicago in its role as a regulatory agency. The `taxi_trips` table size is 70.72 GB and includes more than 195 million records. The dataset includes information about the trips, like pickup and dropoff datetime and location, passengers count, miles travelled, and trip toll. \n",
    "\n",
    "The ML task is to predict whether a given trip will result in a tip > 20%."
   ]
  },
  {
   "cell_type": "markdown",
   "id": "4fedd0ac",
   "metadata": {},
   "source": [
    "## Setup"
   ]
  },
  {
   "cell_type": "markdown",
   "id": "b25967c9",
   "metadata": {},
   "source": [
    "### Import libraries"
   ]
  },
  {
   "cell_type": "code",
   "execution_count": 1,
   "id": "fa2cf3f1",
   "metadata": {},
   "outputs": [],
   "source": [
    "import os\n",
    "import pandas as pd\n",
    "#import tensorflow as tf\n",
    "import tensorflow_data_validation as tfdv\n",
    "import matplotlib.pyplot as plt\n",
    "from google.cloud import bigquery"
   ]
  },
  {
   "cell_type": "markdown",
   "id": "9bd0ee37",
   "metadata": {},
   "source": [
    "### Setup Google Cloud project"
   ]
  },
  {
   "cell_type": "code",
   "execution_count": 2,
   "id": "df79d50b-588c-4681-8972-e30a488dd436",
   "metadata": {},
   "outputs": [],
   "source": [
    "output=!gcloud config list --format 'value(core.project)'\n",
    "PROJECT_ID=output[0]\n",
    "REGION = 'us-central1'"
   ]
  },
  {
   "cell_type": "markdown",
   "id": "384a817b",
   "metadata": {},
   "source": [
    "### Set configurations"
   ]
  },
  {
   "cell_type": "code",
   "execution_count": 3,
   "id": "b71d0738",
   "metadata": {},
   "outputs": [],
   "source": [
    "BQ_DATASET_NAME = 'public_dataset' # Change to your BQ dataset name.\n",
    "BQ_TABLE_NAME = 'chicago_taxitrips_prep'\n",
    "BQ_LOCATION = 'US'\n",
    "DATASET_DISPLAY_NAME = 'chicago-taxi-tips'"
   ]
  },
  {
   "cell_type": "markdown",
   "id": "39395512",
   "metadata": {},
   "source": [
    "## Explore the data in BigQuery"
   ]
  },
  {
   "cell_type": "code",
   "execution_count": 4,
   "id": "9e4300d3",
   "metadata": {},
   "outputs": [
    {
     "name": "stderr",
     "output_type": "stream",
     "text": [
      "Query complete after 0.00s: 100%|██████████| 1/1 [00:00<00:00, 1272.93query/s]\n",
      "Downloading: 100%|██████████| 7/7 [00:02<00:00,  3.19rows/s]\n"
     ]
    }
   ],
   "source": [
    "%%bigquery data\n",
    "\n",
    "SELECT \n",
    "    CAST(EXTRACT(DAYOFWEEK FROM trip_start_timestamp) AS string) AS trip_dayofweek, \n",
    "    FORMAT_DATE('%A',cast(trip_start_timestamp as date)) AS trip_dayname,\n",
    "    COUNT(*) as trip_count,\n",
    "FROM `bigquery-public-data.chicago_taxi_trips.taxi_trips`\n",
    "WHERE\n",
    "    EXTRACT(YEAR FROM trip_start_timestamp) = 2015 \n",
    "GROUP BY\n",
    "    trip_dayofweek,\n",
    "    trip_dayname\n",
    "ORDER BY\n",
    "    trip_dayofweek\n",
    ";"
   ]
  },
  {
   "cell_type": "code",
   "execution_count": 5,
   "id": "699804c5",
   "metadata": {},
   "outputs": [
    {
     "data": {
      "text/html": [
       "<div>\n",
       "<style scoped>\n",
       "    .dataframe tbody tr th:only-of-type {\n",
       "        vertical-align: middle;\n",
       "    }\n",
       "\n",
       "    .dataframe tbody tr th {\n",
       "        vertical-align: top;\n",
       "    }\n",
       "\n",
       "    .dataframe thead th {\n",
       "        text-align: right;\n",
       "    }\n",
       "</style>\n",
       "<table border=\"1\" class=\"dataframe\">\n",
       "  <thead>\n",
       "    <tr style=\"text-align: right;\">\n",
       "      <th></th>\n",
       "      <th>trip_dayofweek</th>\n",
       "      <th>trip_dayname</th>\n",
       "      <th>trip_count</th>\n",
       "    </tr>\n",
       "  </thead>\n",
       "  <tbody>\n",
       "    <tr>\n",
       "      <th>0</th>\n",
       "      <td>1</td>\n",
       "      <td>Sunday</td>\n",
       "      <td>4141154</td>\n",
       "    </tr>\n",
       "    <tr>\n",
       "      <th>1</th>\n",
       "      <td>2</td>\n",
       "      <td>Monday</td>\n",
       "      <td>4105900</td>\n",
       "    </tr>\n",
       "    <tr>\n",
       "      <th>2</th>\n",
       "      <td>3</td>\n",
       "      <td>Tuesday</td>\n",
       "      <td>4378805</td>\n",
       "    </tr>\n",
       "    <tr>\n",
       "      <th>3</th>\n",
       "      <td>4</td>\n",
       "      <td>Wednesday</td>\n",
       "      <td>4542810</td>\n",
       "    </tr>\n",
       "    <tr>\n",
       "      <th>4</th>\n",
       "      <td>5</td>\n",
       "      <td>Thursday</td>\n",
       "      <td>4918190</td>\n",
       "    </tr>\n",
       "    <tr>\n",
       "      <th>5</th>\n",
       "      <td>6</td>\n",
       "      <td>Friday</td>\n",
       "      <td>5289830</td>\n",
       "    </tr>\n",
       "    <tr>\n",
       "      <th>6</th>\n",
       "      <td>7</td>\n",
       "      <td>Saturday</td>\n",
       "      <td>5009186</td>\n",
       "    </tr>\n",
       "  </tbody>\n",
       "</table>\n",
       "</div>"
      ],
      "text/plain": [
       "  trip_dayofweek trip_dayname  trip_count\n",
       "0              1       Sunday     4141154\n",
       "1              2       Monday     4105900\n",
       "2              3      Tuesday     4378805\n",
       "3              4    Wednesday     4542810\n",
       "4              5     Thursday     4918190\n",
       "5              6       Friday     5289830\n",
       "6              7     Saturday     5009186"
      ]
     },
     "execution_count": 5,
     "metadata": {},
     "output_type": "execute_result"
    }
   ],
   "source": [
    "data"
   ]
  },
  {
   "cell_type": "code",
   "execution_count": 6,
   "id": "a7f2447e",
   "metadata": {},
   "outputs": [
    {
     "data": {
      "text/plain": [
       "<AxesSubplot:xlabel='trip_dayname'>"
      ]
     },
     "execution_count": 6,
     "metadata": {},
     "output_type": "execute_result"
    },
    {
     "data": {
      "image/png": "[encoded data removed]",
      "text/plain": [
       "<Figure size 432x288 with 1 Axes>"
      ]
     },
     "metadata": {
      "needs_background": "light"
     },
     "output_type": "display_data"
    }
   ],
   "source": [
    "data.plot(kind='bar', x='trip_dayname', y='trip_count')"
   ]
  },
  {
   "cell_type": "markdown",
   "id": "a7782c69",
   "metadata": {},
   "source": [
    "## Train/Test data split\n",
    "\n",
    "Add a `ML_use` column for pre-splitting the data, where 80% of the datsa items are set to `UNASSIGNED` while the other 20% is set to `TEST`. This column is used during training to split the dataset for training and test. In the training phase, the `UNASSIGNED` are split into `train` and `eval`. The `TEST` split is will be used for the final model validation."
   ]
  },
  {
   "cell_type": "markdown",
   "id": "7987d132",
   "metadata": {},
   "source": [
    "### Create destination BigQuery dataset"
   ]
  },
  {
   "cell_type": "code",
   "execution_count": 7,
   "id": "56a7f6d6",
   "metadata": {},
   "outputs": [
    {
     "name": "stdout",
     "output_type": "stream",
     "text": [
      "BigQuery error in mk operation: Cannot determine dataset described by :\n"
     ]
    }
   ],
   "source": [
    "!bq --location=US mk -d \\\n",
    "$PROJECT:$BQ_DATASET_NAME"
   ]
  },
  {
   "cell_type": "code",
   "execution_count": 8,
   "id": "832f99ba",
   "metadata": {},
   "outputs": [],
   "source": [
    "sample_size = 1000000\n",
    "year = 2020"
   ]
  },
  {
   "cell_type": "code",
   "execution_count": 9,
   "id": "1b19789f",
   "metadata": {},
   "outputs": [],
   "source": [
    "sql_script = '''\n",
    "CREATE OR REPLACE TABLE `@PROJECT.@DATASET.@TABLE` \n",
    "AS (\n",
    "    WITH\n",
    "      taxitrips AS (\n",
    "      SELECT\n",
    "        trip_start_timestamp,\n",
    "        trip_seconds,\n",
    "        trip_miles,\n",
    "        payment_type,\n",
    "        pickup_longitude,\n",
    "        pickup_latitude,\n",
    "        dropoff_longitude,\n",
    "        dropoff_latitude,\n",
    "        tips,\n",
    "        fare\n",
    "      FROM\n",
    "        `bigquery-public-data.chicago_taxi_trips.taxi_trips`\n",
    "      WHERE 1=1 \n",
    "      AND pickup_longitude IS NOT NULL\n",
    "      AND pickup_latitude IS NOT NULL\n",
    "      AND dropoff_longitude IS NOT NULL\n",
    "      AND dropoff_latitude IS NOT NULL\n",
    "      AND trip_miles > 0\n",
    "      AND trip_seconds > 0\n",
    "      AND fare > 0\n",
    "      AND EXTRACT(YEAR FROM trip_start_timestamp) = @YEAR\n",
    "    )\n",
    "\n",
    "    SELECT\n",
    "      trip_start_timestamp,\n",
    "      EXTRACT(MONTH from trip_start_timestamp) as trip_month,\n",
    "      EXTRACT(DAY from trip_start_timestamp) as trip_day,\n",
    "      EXTRACT(DAYOFWEEK from trip_start_timestamp) as trip_day_of_week,\n",
    "      EXTRACT(HOUR from trip_start_timestamp) as trip_hour,\n",
    "      trip_seconds,\n",
    "      trip_miles,\n",
    "      payment_type,\n",
    "      ST_AsText(\n",
    "          ST_SnapToGrid(ST_GeogPoint(pickup_longitude, pickup_latitude), 0.1)\n",
    "      ) AS pickup_grid,\n",
    "      ST_AsText(\n",
    "          ST_SnapToGrid(ST_GeogPoint(dropoff_longitude, dropoff_latitude), 0.1)\n",
    "      ) AS dropoff_grid,\n",
    "      ST_Distance(\n",
    "          ST_GeogPoint(pickup_longitude, pickup_latitude), \n",
    "          ST_GeogPoint(dropoff_longitude, dropoff_latitude)\n",
    "      ) AS euclidean,\n",
    "      CONCAT(\n",
    "          ST_AsText(ST_SnapToGrid(ST_GeogPoint(pickup_longitude,\n",
    "              pickup_latitude), 0.1)), \n",
    "          ST_AsText(ST_SnapToGrid(ST_GeogPoint(dropoff_longitude,\n",
    "              dropoff_latitude), 0.1))\n",
    "      ) AS loc_cross,\n",
    "      IF((tips/fare >= 0.2), 1, 0) AS tip_bin,\n",
    "      IF(RAND() <= 0.8, 'UNASSIGNED', 'TEST') AS ML_use\n",
    "    FROM\n",
    "      taxitrips\n",
    "    LIMIT @LIMIT\n",
    ")\n",
    "'''"
   ]
  },
  {
   "cell_type": "code",
   "execution_count": 11,
   "id": "6f1d2837",
   "metadata": {},
   "outputs": [],
   "source": [
    "sql_script = sql_script.replace(\n",
    "    '@PROJECT', PROJECT_ID).replace(\n",
    "    '@DATASET', BQ_DATASET_NAME).replace(\n",
    "    '@TABLE', BQ_TABLE_NAME).replace(\n",
    "    '@YEAR', str(year)).replace(\n",
    "    '@LIMIT', str(sample_size))"
   ]
  },
  {
   "cell_type": "code",
   "execution_count": 12,
   "id": "27acb6b5",
   "metadata": {},
   "outputs": [
    {
     "name": "stdout",
     "output_type": "stream",
     "text": [
      "\n",
      "CREATE OR REPLACE TABLE `gcp-egl-ml-platform-dev.public_dataset.chicago_taxitrips_prep` \n",
      "AS (\n",
      "    WITH\n",
      "      taxitrips AS (\n",
      "      SELECT\n",
      "        trip_start_timestamp,\n",
      "        trip_seconds,\n",
      "        trip_miles,\n",
      "        payment_type,\n",
      "        pickup_longitude,\n",
      "        pickup_latitude,\n",
      "        dropoff_longitude,\n",
      "        dropoff_latitude,\n",
      "        tips,\n",
      "        fare\n",
      "      FROM\n",
      "        `bigquery-public-data.chicago_taxi_trips.taxi_trips`\n",
      "      WHERE 1=1 \n",
      "      AND pickup_longitude IS NOT NULL\n",
      "      AND pickup_latitude IS NOT NULL\n",
      "      AND dropoff_longitude IS NOT NULL\n",
      "      AND dropoff_latitude IS NOT NULL\n",
      "      AND trip_miles > 0\n",
      "      AND trip_seconds > 0\n",
      "      AND fare > 0\n",
      "      AND EXTRACT(YEAR FROM trip_start_timestamp) = 2020\n",
      "    )\n",
      "\n",
      "    SELECT\n",
      "      trip_start_timestamp,\n",
      "      EXTRACT(MONTH from trip_start_timestamp) as trip_month,\n",
      "      EXTRACT(DAY from trip_start_timestamp) as trip_day,\n",
      "      EXTRACT(DAYOFWEEK from trip_start_timestamp) as trip_day_of_week,\n",
      "      EXTRACT(HOUR from trip_start_timestamp) as trip_hour,\n",
      "      trip_seconds,\n",
      "      trip_miles,\n",
      "      payment_type,\n",
      "      ST_AsText(\n",
      "          ST_SnapToGrid(ST_GeogPoint(pickup_longitude, pickup_latitude), 0.1)\n",
      "      ) AS pickup_grid,\n",
      "      ST_AsText(\n",
      "          ST_SnapToGrid(ST_GeogPoint(dropoff_longitude, dropoff_latitude), 0.1)\n",
      "      ) AS dropoff_grid,\n",
      "      ST_Distance(\n",
      "          ST_GeogPoint(pickup_longitude, pickup_latitude), \n",
      "          ST_GeogPoint(dropoff_longitude, dropoff_latitude)\n",
      "      ) AS euclidean,\n",
      "      CONCAT(\n",
      "          ST_AsText(ST_SnapToGrid(ST_GeogPoint(pickup_longitude,\n",
      "              pickup_latitude), 0.1)), \n",
      "          ST_AsText(ST_SnapToGrid(ST_GeogPoint(dropoff_longitude,\n",
      "              dropoff_latitude), 0.1))\n",
      "      ) AS loc_cross,\n",
      "      IF((tips/fare >= 0.2), 1, 0) AS tip_bin,\n",
      "      IF(RAND() <= 0.8, 'UNASSIGNED', 'TEST') AS ML_use\n",
      "    FROM\n",
      "      taxitrips\n",
      "    LIMIT 1000000\n",
      ")\n",
      "\n"
     ]
    }
   ],
   "source": [
    "print(sql_script)"
   ]
  },
  {
   "cell_type": "code",
   "execution_count": 14,
   "id": "88f31e8c",
   "metadata": {},
   "outputs": [],
   "source": [
    "bq_client = bigquery.Client(project=PROJECT_ID, location=BQ_LOCATION)\n",
    "job = bq_client.query(sql_script)\n",
    "_ = job.result()"
   ]
  },
  {
   "cell_type": "code",
   "execution_count": 23,
   "id": "b32eea6f",
   "metadata": {},
   "outputs": [
    {
     "name": "stderr",
     "output_type": "stream",
     "text": [
      "Query complete after 0.00s: 100%|██████████| 1/1 [00:00<00:00, 1158.65query/s]\n",
      "Downloading: 100%|██████████| 2/2 [00:02<00:00,  1.17s/rows]\n"
     ]
    },
    {
     "data": {
      "text/html": [
       "<div>\n",
       "<style scoped>\n",
       "    .dataframe tbody tr th:only-of-type {\n",
       "        vertical-align: middle;\n",
       "    }\n",
       "\n",
       "    .dataframe tbody tr th {\n",
       "        vertical-align: top;\n",
       "    }\n",
       "\n",
       "    .dataframe thead th {\n",
       "        text-align: right;\n",
       "    }\n",
       "</style>\n",
       "<table border=\"1\" class=\"dataframe\">\n",
       "  <thead>\n",
       "    <tr style=\"text-align: right;\">\n",
       "      <th></th>\n",
       "      <th>ML_use</th>\n",
       "      <th>f0_</th>\n",
       "    </tr>\n",
       "  </thead>\n",
       "  <tbody>\n",
       "    <tr>\n",
       "      <th>0</th>\n",
       "      <td>UNASSIGNED</td>\n",
       "      <td>800752</td>\n",
       "    </tr>\n",
       "    <tr>\n",
       "      <th>1</th>\n",
       "      <td>TEST</td>\n",
       "      <td>199248</td>\n",
       "    </tr>\n",
       "  </tbody>\n",
       "</table>\n",
       "</div>"
      ],
      "text/plain": [
       "       ML_use     f0_\n",
       "0  UNASSIGNED  800752\n",
       "1        TEST  199248"
      ]
     },
     "execution_count": 23,
     "metadata": {},
     "output_type": "execute_result"
    }
   ],
   "source": [
    "%%bigquery --project {PROJECT_ID}\n",
    "\n",
    "SELECT ML_use, COUNT(*)\n",
    "FROM public_dataset.chicago_taxitrips_prep # Change to your BQ dataset and table names.\n",
    "GROUP BY ML_use"
   ]
  },
  {
   "cell_type": "markdown",
   "id": "7fcc75fc",
   "metadata": {},
   "source": [
    "### Explore in a Pandas DataFrame"
   ]
  },
  {
   "cell_type": "code",
   "execution_count": 25,
   "id": "e043a8fb-59e9-4d83-9dc2-21f887aab3a7",
   "metadata": {},
   "outputs": [
    {
     "name": "stderr",
     "output_type": "stream",
     "text": [
      "Query complete after 0.00s: 100%|██████████| 2/2 [00:00<00:00, 1479.47query/s]                        \n",
      "Downloading: 100%|██████████| 1000000/1000000 [00:02<00:00, 384307.29rows/s]\n"
     ]
    }
   ],
   "source": [
    "%%bigquery sample_data --project {PROJECT_ID}\n",
    "\n",
    "SELECT * EXCEPT (trip_start_timestamp, ML_use)\n",
    "FROM public_dataset.chicago_taxitrips_prep # Change to your BQ dataset and table names."
   ]
  },
  {
   "cell_type": "code",
   "execution_count": 26,
   "id": "798809d2",
   "metadata": {},
   "outputs": [
    {
     "data": {
      "text/html": [
       "<div>\n",
       "<style scoped>\n",
       "    .dataframe tbody tr th:only-of-type {\n",
       "        vertical-align: middle;\n",
       "    }\n",
       "\n",
       "    .dataframe tbody tr th {\n",
       "        vertical-align: top;\n",
       "    }\n",
       "\n",
       "    .dataframe thead th {\n",
       "        text-align: right;\n",
       "    }\n",
       "</style>\n",
       "<table border=\"1\" class=\"dataframe\">\n",
       "  <thead>\n",
       "    <tr style=\"text-align: right;\">\n",
       "      <th></th>\n",
       "      <th>0</th>\n",
       "      <th>1</th>\n",
       "      <th>2</th>\n",
       "      <th>3</th>\n",
       "      <th>4</th>\n",
       "    </tr>\n",
       "  </thead>\n",
       "  <tbody>\n",
       "    <tr>\n",
       "      <th>trip_month</th>\n",
       "      <td>2</td>\n",
       "      <td>2</td>\n",
       "      <td>11</td>\n",
       "      <td>2</td>\n",
       "      <td>2</td>\n",
       "    </tr>\n",
       "    <tr>\n",
       "      <th>trip_day</th>\n",
       "      <td>10</td>\n",
       "      <td>10</td>\n",
       "      <td>19</td>\n",
       "      <td>7</td>\n",
       "      <td>14</td>\n",
       "    </tr>\n",
       "    <tr>\n",
       "      <th>trip_day_of_week</th>\n",
       "      <td>2</td>\n",
       "      <td>2</td>\n",
       "      <td>5</td>\n",
       "      <td>6</td>\n",
       "      <td>6</td>\n",
       "    </tr>\n",
       "    <tr>\n",
       "      <th>trip_hour</th>\n",
       "      <td>17</td>\n",
       "      <td>17</td>\n",
       "      <td>9</td>\n",
       "      <td>11</td>\n",
       "      <td>10</td>\n",
       "    </tr>\n",
       "    <tr>\n",
       "      <th>trip_seconds</th>\n",
       "      <td>1093</td>\n",
       "      <td>621</td>\n",
       "      <td>282</td>\n",
       "      <td>229</td>\n",
       "      <td>120</td>\n",
       "    </tr>\n",
       "    <tr>\n",
       "      <th>trip_miles</th>\n",
       "      <td>0.75</td>\n",
       "      <td>1.1</td>\n",
       "      <td>0.83</td>\n",
       "      <td>0.49</td>\n",
       "      <td>0.4</td>\n",
       "    </tr>\n",
       "    <tr>\n",
       "      <th>payment_type</th>\n",
       "      <td>Cash</td>\n",
       "      <td>Credit Card</td>\n",
       "      <td>Cash</td>\n",
       "      <td>Cash</td>\n",
       "      <td>Credit Card</td>\n",
       "    </tr>\n",
       "    <tr>\n",
       "      <th>pickup_grid</th>\n",
       "      <td>POINT(-87.6 42)</td>\n",
       "      <td>POINT(-87.6 42)</td>\n",
       "      <td>POINT(-87.6 42)</td>\n",
       "      <td>POINT(-87.6 42)</td>\n",
       "      <td>POINT(-87.6 42)</td>\n",
       "    </tr>\n",
       "    <tr>\n",
       "      <th>dropoff_grid</th>\n",
       "      <td>POINT(-87.6 42)</td>\n",
       "      <td>POINT(-87.6 42)</td>\n",
       "      <td>POINT(-87.6 42)</td>\n",
       "      <td>POINT(-87.6 42)</td>\n",
       "      <td>POINT(-87.6 42)</td>\n",
       "    </tr>\n",
       "    <tr>\n",
       "      <th>euclidean</th>\n",
       "      <td>0.0</td>\n",
       "      <td>0.0</td>\n",
       "      <td>0.0</td>\n",
       "      <td>0.0</td>\n",
       "      <td>0.0</td>\n",
       "    </tr>\n",
       "    <tr>\n",
       "      <th>loc_cross</th>\n",
       "      <td>POINT(-87.6 42)POINT(-87.6 42)</td>\n",
       "      <td>POINT(-87.6 42)POINT(-87.6 42)</td>\n",
       "      <td>POINT(-87.6 42)POINT(-87.6 42)</td>\n",
       "      <td>POINT(-87.6 42)POINT(-87.6 42)</td>\n",
       "      <td>POINT(-87.6 42)POINT(-87.6 42)</td>\n",
       "    </tr>\n",
       "    <tr>\n",
       "      <th>tip_bin</th>\n",
       "      <td>0</td>\n",
       "      <td>1</td>\n",
       "      <td>0</td>\n",
       "      <td>0</td>\n",
       "      <td>0</td>\n",
       "    </tr>\n",
       "  </tbody>\n",
       "</table>\n",
       "</div>"
      ],
      "text/plain": [
       "                                               0  \\\n",
       "trip_month                                     2   \n",
       "trip_day                                      10   \n",
       "trip_day_of_week                               2   \n",
       "trip_hour                                     17   \n",
       "trip_seconds                                1093   \n",
       "trip_miles                                  0.75   \n",
       "payment_type                                Cash   \n",
       "pickup_grid                      POINT(-87.6 42)   \n",
       "dropoff_grid                     POINT(-87.6 42)   \n",
       "euclidean                                    0.0   \n",
       "loc_cross         POINT(-87.6 42)POINT(-87.6 42)   \n",
       "tip_bin                                        0   \n",
       "\n",
       "                                               1  \\\n",
       "trip_month                                     2   \n",
       "trip_day                                      10   \n",
       "trip_day_of_week                               2   \n",
       "trip_hour                                     17   \n",
       "trip_seconds                                 621   \n",
       "trip_miles                                   1.1   \n",
       "payment_type                         Credit Card   \n",
       "pickup_grid                      POINT(-87.6 42)   \n",
       "dropoff_grid                     POINT(-87.6 42)   \n",
       "euclidean                                    0.0   \n",
       "loc_cross         POINT(-87.6 42)POINT(-87.6 42)   \n",
       "tip_bin                                        1   \n",
       "\n",
       "                                               2  \\\n",
       "trip_month                                    11   \n",
       "trip_day                                      19   \n",
       "trip_day_of_week                               5   \n",
       "trip_hour                                      9   \n",
       "trip_seconds                                 282   \n",
       "trip_miles                                  0.83   \n",
       "payment_type                                Cash   \n",
       "pickup_grid                      POINT(-87.6 42)   \n",
       "dropoff_grid                     POINT(-87.6 42)   \n",
       "euclidean                                    0.0   \n",
       "loc_cross         POINT(-87.6 42)POINT(-87.6 42)   \n",
       "tip_bin                                        0   \n",
       "\n",
       "                                               3  \\\n",
       "trip_month                                     2   \n",
       "trip_day                                       7   \n",
       "trip_day_of_week                               6   \n",
       "trip_hour                                     11   \n",
       "trip_seconds                                 229   \n",
       "trip_miles                                  0.49   \n",
       "payment_type                                Cash   \n",
       "pickup_grid                      POINT(-87.6 42)   \n",
       "dropoff_grid                     POINT(-87.6 42)   \n",
       "euclidean                                    0.0   \n",
       "loc_cross         POINT(-87.6 42)POINT(-87.6 42)   \n",
       "tip_bin                                        0   \n",
       "\n",
       "                                               4  \n",
       "trip_month                                     2  \n",
       "trip_day                                      14  \n",
       "trip_day_of_week                               6  \n",
       "trip_hour                                     10  \n",
       "trip_seconds                                 120  \n",
       "trip_miles                                   0.4  \n",
       "payment_type                         Credit Card  \n",
       "pickup_grid                      POINT(-87.6 42)  \n",
       "dropoff_grid                     POINT(-87.6 42)  \n",
       "euclidean                                    0.0  \n",
       "loc_cross         POINT(-87.6 42)POINT(-87.6 42)  \n",
       "tip_bin                                        0  "
      ]
     },
     "execution_count": 26,
     "metadata": {},
     "output_type": "execute_result"
    }
   ],
   "source": [
    "sample_data.head().T"
   ]
  },
  {
   "cell_type": "code",
   "execution_count": 27,
   "id": "23595838",
   "metadata": {},
   "outputs": [
    {
     "data": {
      "text/plain": [
       "0    629150\n",
       "1    370850\n",
       "Name: tip_bin, dtype: int64"
      ]
     },
     "execution_count": 27,
     "metadata": {},
     "output_type": "execute_result"
    }
   ],
   "source": [
    "sample_data.tip_bin.value_counts()"
   ]
  },
  {
   "cell_type": "code",
   "execution_count": 28,
   "id": "3d06bb64",
   "metadata": {},
   "outputs": [
    {
     "data": {
      "text/plain": [
       "<AxesSubplot:>"
      ]
     },
     "execution_count": 28,
     "metadata": {},
     "output_type": "execute_result"
    },
    {
     "data": {
      "image/png": "[encoded data removed]",
      "text/plain": [
       "<Figure size 432x288 with 1 Axes>"
      ]
     },
     "metadata": {
      "needs_background": "light"
     },
     "output_type": "display_data"
    }
   ],
   "source": [
    "sample_data.euclidean.hist()"
   ]
  },
  {
   "cell_type": "markdown",
   "id": "110c5951-e3cc-4b11-8398-3fa81fcd6cd4",
   "metadata": {},
   "source": [
    "---\n",
    "# Explore data with TFX Interactive\n",
    "\n",
    "* [Introducing the TFX interactive notebook](https://blog.tensorflow.org/2019/11/introducing-tfx-interactive-notebook.html)\n",
    "\n",
    "> Now you can build, debug, and run your TFX pipeline inside an interactive Google Colab or Jupyter notebook! Within this notebook environment, you can run TFX component-by-component, which makes it easier to iterate and experiment on your ML pipeline.\n",
    "\n",
    "* [TFX Keras Component Tutorial](https://www.tensorflow.org/tfx/tutorials/tfx/components_keras)\n",
    "\n",
    "> This notebook demonstrates how to use TFX in a Jupyter/Colab environment. Here, we walk through the Chicago Taxi example in an interactive notebook. When you're done, the contents of this notebook can be automatically exported as TFX pipeline source code, which you can orchestrate with Apache Airflow and Apache Beam.\n",
    "\n",
    "* [TFX Components Walk-through\n",
    "Learning Objectives](https://notebook.community/GoogleCloudPlatform/mlops-on-gcp/workshops/tfx-caip-tf21/lab-01-tfx-walkthrough/lab-01) (MUST)\n",
    "\n"
   ]
  },
  {
   "cell_type": "code",
   "execution_count": 29,
   "id": "fa1050f1-db76-4610-bfc0-cd3351299607",
   "metadata": {},
   "outputs": [],
   "source": [
    "!rm -rf ./data/artifacts\n",
    "!mkdir -p ./data/artifacts"
   ]
  },
  {
   "cell_type": "code",
   "execution_count": 7,
   "id": "9f264f59-cfd5-42a6-9579-a55914190648",
   "metadata": {},
   "outputs": [
    {
     "name": "stderr",
     "output_type": "stream",
     "text": [
      "WARNING:absl:InteractiveContext metadata_connection_config not provided: using SQLite ML Metadata database at ./data/artifacts/metadata.sqlite.\n"
     ]
    }
   ],
   "source": [
    "import os\n",
    "from tfx.orchestration.experimental.interactive.interactive_context import InteractiveContext\n",
    "\n",
    "%load_ext tfx.orchestration.experimental.interactive.notebook_extensions.skip\n",
    "\n",
    "context = InteractiveContext(pipeline_root='./data/artifacts')"
   ]
  },
  {
   "cell_type": "markdown",
   "id": "317724f2-3c40-49d4-91b8-d04556b0b4f0",
   "metadata": {},
   "source": [
    "## BigQueryExampleGen\n",
    "\n",
    "* [Colab InteractiveContext Unable to Determine ProjectID for BQ #882](https://github.com/tensorflow/tfx/issues/882)\n",
    "\n",
    "> The issue appears when running this in a notebook with the BigQueryExampleGen with the error ```Request missing required parameter projectId```.  \n",
    "> I have proposed [#888](https://github.com/tensorflow/tfx/pull/888) to make this work. With that change, you would be able to do \n",
    "> ```\n",
    "> context.run(..., beam_pipeline_args=['--project', 'my-project'])\n",
    "> ```\n",
    "\n",
    "* [Allow beam_pipeline_args to be specified in interactive context.run(). #888](https://github.com/tensorflow/tfx/pull/888)\n",
    "* [BigQueryExampleGen broken ReadFromBigQuery requires a GCS location to be provided #2293](https://github.com/tensorflow/tfx/issues/2293)\n",
    "\n",
    "> need to provide --temp_location as part of the beam pipeline arg, and set that to a GCS location\n",
    "\n",
    "* [ValueError in Dataflow: Invalid GCS location: None](https://stackoverflow.com/questions/68325195/valueerror-in-dataflow-invalid-gcs-location-none)\n",
    "\n",
    "> When running your Dataflow pipeline pass the argument ```--temp_location gs://bucket/subfolder/```\n",
    "\n",
    "## Tutorial\n",
    "\n",
    "* [TensorFlow Extended (TFX): Using Apache Beam for large scale data processing](https://blog.tensorflow.org/2020/03/tensorflow-extended-tfx-using-apache-beam-large-scale-data-processing.html)\n",
    "* [Reading data from BigQuery with TFX and Vertex Pipelines ](https://www.tensorflow.org/tfx/tutorials/tfx/gcp/vertex_pipelines_bq)\n",
    "\n",
    "> This notebook-based tutorial will use Google Cloud BigQuery as a data source to train an ML model. The ML pipeline will be constructed using TFX and run on Google Cloud Vertex Pipelines. In this tutorial, we will use the **BigQueryExampleGen** component which reads data from BigQuery to TFX pipelines.  \n",
    "> \n",
    "> \n",
    "> We also **need to pass beam_pipeline_args** for the BigQueryExampleGen. It includes configs like **the name of the GCP project and the temporary storage** for the BigQuery execution.\n"
   ]
  },
  {
   "cell_type": "code",
   "execution_count": 4,
   "id": "e227d49e-cf80-491e-af7d-7dbb628ee1e2",
   "metadata": {},
   "outputs": [
    {
     "name": "stdout",
     "output_type": "stream",
     "text": [
      "Creating gs://gcp-egl-ml-platform-dev-bucket/...\n",
      "ServiceException: 409 A Cloud Storage bucket named 'gcp-egl-ml-platform-dev-bucket' already exists. Try another name. Bucket names must be globally unique across all Google Cloud projects, including those outside of your organization.\n"
     ]
    }
   ],
   "source": [
    "BUCKET = \"gs://\" + PROJECT_ID + \"-bucket\"\n",
    "!gsutil mb $BUCKET"
   ]
  },
  {
   "cell_type": "code",
   "execution_count": 5,
   "id": "f0a7cc52-9b72-41c8-9346-407a2424ea04",
   "metadata": {},
   "outputs": [],
   "source": [
    "from tfx.v1.extensions.google_cloud_big_query import BigQueryExampleGen\n",
    "from tfx.v1.components import (\n",
    "    StatisticsGen,\n",
    "    SchemaGen,\n",
    ")"
   ]
  },
  {
   "cell_type": "code",
   "execution_count": 9,
   "id": "c1403106-538e-472c-8154-eaab52c915e3",
   "metadata": {},
   "outputs": [
    {
     "name": "stderr",
     "output_type": "stream",
     "text": [
      "WARNING:absl:Length of label `tfx-extensions-google_cloud_big_query-example_gen-executor-executor` exceeds maximum length(63), trimmed.\n",
      "WARNING:apache_beam.runners.interactive.interactive_environment:Dependencies required for Interactive Beam PCollection visualization are not available, please use: `pip install apache-beam[interactive]` to install necessary dependencies to enable all data visualization features.\n"
     ]
    },
    {
     "data": {
      "application/javascript": [
       "\n",
       "        if (typeof window.interactive_beam_jquery == 'undefined') {\n",
       "          var jqueryScript = document.createElement('script');\n",
       "          jqueryScript.src = 'https://code.jquery.com/jquery-3.4.1.slim.min.js';\n",
       "          jqueryScript.type = 'text/javascript';\n",
       "          jqueryScript.onload = function() {\n",
       "            var datatableScript = document.createElement('script');\n",
       "            datatableScript.src = 'https://cdn.datatables.net/1.10.20/js/jquery.dataTables.min.js';\n",
       "            datatableScript.type = 'text/javascript';\n",
       "            datatableScript.onload = function() {\n",
       "              window.interactive_beam_jquery = jQuery.noConflict(true);\n",
       "              window.interactive_beam_jquery(document).ready(function($){\n",
       "                \n",
       "              });\n",
       "            }\n",
       "            document.head.appendChild(datatableScript);\n",
       "          };\n",
       "          document.head.appendChild(jqueryScript);\n",
       "        } else {\n",
       "          window.interactive_beam_jquery(document).ready(function($){\n",
       "            \n",
       "          });\n",
       "        }"
      ]
     },
     "metadata": {},
     "output_type": "display_data"
    },
    {
     "name": "stderr",
     "output_type": "stream",
     "text": [
      "/home/jupyter/.local/lib/python3.7/site-packages/apache_beam/io/gcp/bigquery.py:2471: BeamDeprecationWarning: options is deprecated since First stable release. References to <pipeline>.options will not be supported\n",
      "  temp_location = pcoll.pipeline.options.view_as(\n",
      "WARNING: Ignoring invalid distribution -umpy (/opt/conda/lib/python3.7/site-packages)\n",
      "WARNING: Ignoring invalid distribution -umpy (/opt/conda/lib/python3.7/site-packages)\n",
      "WARNING: Ignoring invalid distribution -umpy (/opt/conda/lib/python3.7/site-packages)\n",
      "WARNING: Ignoring invalid distribution -umpy (/opt/conda/lib/python3.7/site-packages)\n",
      "WARNING: Ignoring invalid distribution -umpy (/opt/conda/lib/python3.7/site-packages)\n",
      "WARNING: Ignoring invalid distribution -umpy (/opt/conda/lib/python3.7/site-packages)\n",
      "WARNING: Ignoring invalid distribution -umpy (/opt/conda/lib/python3.7/site-packages)\n",
      "WARNING: Ignoring invalid distribution -umpy (/opt/conda/lib/python3.7/site-packages)\n",
      "WARNING:root:Make sure that locally built Python SDK docker image has Python 3.7 interpreter.\n"
     ]
    },
    {
     "ename": "AssertionError",
     "evalue": "Job did not reach to a terminal state after waiting indefinitely.",
     "output_type": "error",
     "traceback": [
      "\u001b[0;31m---------------------------------------------------------------------------\u001b[0m",
      "\u001b[0;31mAssertionError\u001b[0m                            Traceback (most recent call last)",
      "\u001b[0;32m/tmp/ipykernel_15893/3549196249.py\u001b[0m in \u001b[0;36m<module>\u001b[0;34m\u001b[0m\n\u001b[1;32m     16\u001b[0m         \u001b[0;34mf'--temp_location={BUCKET}'\u001b[0m\u001b[0;34m,\u001b[0m\u001b[0;34m\u001b[0m\u001b[0;34m\u001b[0m\u001b[0m\n\u001b[1;32m     17\u001b[0m         \u001b[0;34m'--runner=DataflowRunner'\u001b[0m\u001b[0;34m,\u001b[0m\u001b[0;34m\u001b[0m\u001b[0;34m\u001b[0m\u001b[0m\n\u001b[0;32m---> 18\u001b[0;31m         \u001b[0;34mf'--subnetwork=https://www.googleapis.com/compute/v1/projects/{PROJECT_ID}/regions/{REGION}/subnetworks/{SUBNETWORK_NAME}'\u001b[0m\u001b[0;34m\u001b[0m\u001b[0;34m\u001b[0m\u001b[0m\n\u001b[0m\u001b[1;32m     19\u001b[0m     ]\n\u001b[1;32m     20\u001b[0m )\n",
      "\u001b[0;32m~/.local/lib/python3.7/site-packages/tfx/orchestration/experimental/interactive/notebook_utils.py\u001b[0m in \u001b[0;36mrun_if_ipython\u001b[0;34m(*args, **kwargs)\u001b[0m\n\u001b[1;32m     29\u001b[0m       \u001b[0;31m# __IPYTHON__ variable is set by IPython, see\u001b[0m\u001b[0;34m\u001b[0m\u001b[0;34m\u001b[0m\u001b[0;34m\u001b[0m\u001b[0m\n\u001b[1;32m     30\u001b[0m       \u001b[0;31m# https://ipython.org/ipython-doc/rel-0.10.2/html/interactive/reference.html#embedding-ipython.\u001b[0m\u001b[0;34m\u001b[0m\u001b[0;34m\u001b[0m\u001b[0;34m\u001b[0m\u001b[0m\n\u001b[0;32m---> 31\u001b[0;31m       \u001b[0;32mreturn\u001b[0m \u001b[0mfn\u001b[0m\u001b[0;34m(\u001b[0m\u001b[0;34m*\u001b[0m\u001b[0margs\u001b[0m\u001b[0;34m,\u001b[0m \u001b[0;34m**\u001b[0m\u001b[0mkwargs\u001b[0m\u001b[0;34m)\u001b[0m\u001b[0;34m\u001b[0m\u001b[0;34m\u001b[0m\u001b[0m\n\u001b[0m\u001b[1;32m     32\u001b[0m     \u001b[0;32melse\u001b[0m\u001b[0;34m:\u001b[0m\u001b[0;34m\u001b[0m\u001b[0;34m\u001b[0m\u001b[0m\n\u001b[1;32m     33\u001b[0m       logging.warning(\n",
      "\u001b[0;32m~/.local/lib/python3.7/site-packages/tfx/orchestration/experimental/interactive/interactive_context.py\u001b[0m in \u001b[0;36mrun\u001b[0;34m(self, component, enable_cache, beam_pipeline_args)\u001b[0m\n\u001b[1;32m    162\u001b[0m         \u001b[0mtelemetry_utils\u001b[0m\u001b[0;34m.\u001b[0m\u001b[0mLABEL_TFX_RUNNER\u001b[0m\u001b[0;34m:\u001b[0m \u001b[0mrunner_label\u001b[0m\u001b[0;34m,\u001b[0m\u001b[0;34m\u001b[0m\u001b[0;34m\u001b[0m\u001b[0m\n\u001b[1;32m    163\u001b[0m     }):\n\u001b[0;32m--> 164\u001b[0;31m       \u001b[0mexecution_id\u001b[0m \u001b[0;34m=\u001b[0m \u001b[0mlauncher\u001b[0m\u001b[0;34m.\u001b[0m\u001b[0mlaunch\u001b[0m\u001b[0;34m(\u001b[0m\u001b[0;34m)\u001b[0m\u001b[0;34m.\u001b[0m\u001b[0mexecution_id\u001b[0m\u001b[0;34m\u001b[0m\u001b[0;34m\u001b[0m\u001b[0m\n\u001b[0m\u001b[1;32m    165\u001b[0m \u001b[0;34m\u001b[0m\u001b[0m\n\u001b[1;32m    166\u001b[0m     return execution_result.ExecutionResult(\n",
      "\u001b[0;32m~/.local/lib/python3.7/site-packages/tfx/orchestration/launcher/base_component_launcher.py\u001b[0m in \u001b[0;36mlaunch\u001b[0;34m(self)\u001b[0m\n\u001b[1;32m    201\u001b[0m                          \u001b[0mcopy\u001b[0m\u001b[0;34m.\u001b[0m\u001b[0mdeepcopy\u001b[0m\u001b[0;34m(\u001b[0m\u001b[0mexecution_decision\u001b[0m\u001b[0;34m.\u001b[0m\u001b[0minput_dict\u001b[0m\u001b[0;34m)\u001b[0m\u001b[0;34m,\u001b[0m\u001b[0;34m\u001b[0m\u001b[0;34m\u001b[0m\u001b[0m\n\u001b[1;32m    202\u001b[0m                          \u001b[0mexecution_decision\u001b[0m\u001b[0;34m.\u001b[0m\u001b[0moutput_dict\u001b[0m\u001b[0;34m,\u001b[0m\u001b[0;34m\u001b[0m\u001b[0;34m\u001b[0m\u001b[0m\n\u001b[0;32m--> 203\u001b[0;31m                          copy.deepcopy(execution_decision.exec_properties))\n\u001b[0m\u001b[1;32m    204\u001b[0m \u001b[0;34m\u001b[0m\u001b[0m\n\u001b[1;32m    205\u001b[0m     absl.logging.info('Running publisher for %s',\n",
      "\u001b[0;32m~/.local/lib/python3.7/site-packages/tfx/orchestration/launcher/in_process_component_launcher.py\u001b[0m in \u001b[0;36m_run_executor\u001b[0;34m(self, execution_id, input_dict, output_dict, exec_properties)\u001b[0m\n\u001b[1;32m     72\u001b[0m     \u001b[0;31m# output_dict can still be changed, specifically properties.\u001b[0m\u001b[0;34m\u001b[0m\u001b[0;34m\u001b[0m\u001b[0;34m\u001b[0m\u001b[0m\n\u001b[1;32m     73\u001b[0m     executor.Do(\n\u001b[0;32m---> 74\u001b[0;31m         copy.deepcopy(input_dict), output_dict, copy.deepcopy(exec_properties))\n\u001b[0m",
      "\u001b[0;32m~/.local/lib/python3.7/site-packages/tfx/components/example_gen/base_example_gen_executor.py\u001b[0m in \u001b[0;36mDo\u001b[0;34m(self, input_dict, output_dict, exec_properties)\u001b[0m\n\u001b[1;32m    280\u001b[0m              artifact_utils.get_split_uri(\n\u001b[1;32m    281\u001b[0m                  \u001b[0moutput_dict\u001b[0m\u001b[0;34m[\u001b[0m\u001b[0mstandard_component_specs\u001b[0m\u001b[0;34m.\u001b[0m\u001b[0mEXAMPLES_KEY\u001b[0m\u001b[0;34m]\u001b[0m\u001b[0;34m,\u001b[0m\u001b[0;34m\u001b[0m\u001b[0;34m\u001b[0m\u001b[0m\n\u001b[0;32m--> 282\u001b[0;31m                  split_name), output_file_format))\n\u001b[0m\u001b[1;32m    283\u001b[0m       \u001b[0;31m# pylint: enable=expression-not-assigned, no-value-for-parameter\u001b[0m\u001b[0;34m\u001b[0m\u001b[0;34m\u001b[0m\u001b[0;34m\u001b[0m\u001b[0m\n\u001b[1;32m    284\u001b[0m \u001b[0;34m\u001b[0m\u001b[0m\n",
      "\u001b[0;32m~/.local/lib/python3.7/site-packages/apache_beam/pipeline.py\u001b[0m in \u001b[0;36m__exit__\u001b[0;34m(self, exc_type, exc_val, exc_tb)\u001b[0m\n\u001b[1;32m    595\u001b[0m       \u001b[0;32mif\u001b[0m \u001b[0;32mnot\u001b[0m \u001b[0mexc_type\u001b[0m\u001b[0;34m:\u001b[0m\u001b[0;34m\u001b[0m\u001b[0;34m\u001b[0m\u001b[0m\n\u001b[1;32m    596\u001b[0m         \u001b[0mself\u001b[0m\u001b[0;34m.\u001b[0m\u001b[0mresult\u001b[0m \u001b[0;34m=\u001b[0m \u001b[0mself\u001b[0m\u001b[0;34m.\u001b[0m\u001b[0mrun\u001b[0m\u001b[0;34m(\u001b[0m\u001b[0;34m)\u001b[0m\u001b[0;34m\u001b[0m\u001b[0;34m\u001b[0m\u001b[0m\n\u001b[0;32m--> 597\u001b[0;31m         \u001b[0mself\u001b[0m\u001b[0;34m.\u001b[0m\u001b[0mresult\u001b[0m\u001b[0;34m.\u001b[0m\u001b[0mwait_until_finish\u001b[0m\u001b[0;34m(\u001b[0m\u001b[0;34m)\u001b[0m\u001b[0;34m\u001b[0m\u001b[0;34m\u001b[0m\u001b[0m\n\u001b[0m\u001b[1;32m    598\u001b[0m     \u001b[0;32mfinally\u001b[0m\u001b[0;34m:\u001b[0m\u001b[0;34m\u001b[0m\u001b[0;34m\u001b[0m\u001b[0m\n\u001b[1;32m    599\u001b[0m       \u001b[0mself\u001b[0m\u001b[0;34m.\u001b[0m\u001b[0m_extra_context\u001b[0m\u001b[0;34m.\u001b[0m\u001b[0m__exit__\u001b[0m\u001b[0;34m(\u001b[0m\u001b[0mexc_type\u001b[0m\u001b[0;34m,\u001b[0m \u001b[0mexc_val\u001b[0m\u001b[0;34m,\u001b[0m \u001b[0mexc_tb\u001b[0m\u001b[0;34m)\u001b[0m\u001b[0;34m\u001b[0m\u001b[0;34m\u001b[0m\u001b[0m\n",
      "\u001b[0;32m~/.local/lib/python3.7/site-packages/apache_beam/runners/dataflow/dataflow_runner.py\u001b[0m in \u001b[0;36mwait_until_finish\u001b[0;34m(self, duration)\u001b[0m\n\u001b[1;32m   1658\u001b[0m       \u001b[0mterminated\u001b[0m \u001b[0;34m=\u001b[0m \u001b[0mself\u001b[0m\u001b[0;34m.\u001b[0m\u001b[0mis_in_terminal_state\u001b[0m\u001b[0;34m(\u001b[0m\u001b[0;34m)\u001b[0m\u001b[0;34m\u001b[0m\u001b[0;34m\u001b[0m\u001b[0m\n\u001b[1;32m   1659\u001b[0m       assert duration or terminated, (\n\u001b[0;32m-> 1660\u001b[0;31m           'Job did not reach to a terminal state after waiting indefinitely.')\n\u001b[0m\u001b[1;32m   1661\u001b[0m \u001b[0;34m\u001b[0m\u001b[0m\n\u001b[1;32m   1662\u001b[0m       \u001b[0;31m# TODO(BEAM-14291): Also run this check if wait_until_finish was called\u001b[0m\u001b[0;34m\u001b[0m\u001b[0;34m\u001b[0m\u001b[0;34m\u001b[0m\u001b[0m\n",
      "\u001b[0;31mAssertionError\u001b[0m: Job did not reach to a terminal state after waiting indefinitely."
     ]
    }
   ],
   "source": [
    "query = \"\"\"\n",
    "SELECT \n",
    "    * EXCEPT (trip_start_timestamp, ML_use)\n",
    "FROM \n",
    "    {PROJECT_ID}.public_dataset.chicago_taxitrips_prep\n",
    "\"\"\".format(PROJECT_ID=PROJECT_ID)\n",
    "\n",
    "SUBNETWORK_NAME = \"gcp-egl-us-central1-172-21-208-0-non-prod\"\n",
    "\n",
    "example_gen = context.run(\n",
    "    BigQueryExampleGen(query=query),\n",
    "    beam_pipeline_args=[\n",
    "        '--runner=DataflowRunner',\n",
    "        f'--project={PROJECT_ID}',\n",
    "        f'--region={REGION}',\n",
    "        f'--staging_location={BUCKET}/staging',\n",
    "        f'--temp_location={BUCKET}',\n",
    "        f'--subnetwork=https://www.googleapis.com/compute/v1/projects/{PROJECT_ID}/regions/{REGION}/subnetworks/{SUBNETWORK_NAME}'\n",
    "    ]\n",
    ")"
   ]
  },
  {
   "cell_type": "code",
   "execution_count": null,
   "id": "0f4dd31d-ad2b-41ed-a31b-db5de12ebe6a",
   "metadata": {},
   "outputs": [],
   "source": [
    "dir(example_gen)"
   ]
  },
  {
   "cell_type": "markdown",
   "id": "9a95345b-3d93-4f76-a4ef-308beb3c2c83",
   "metadata": {},
   "source": [
    "## StatisticsGen"
   ]
  },
  {
   "cell_type": "code",
   "execution_count": 43,
   "id": "b71e36f1-64ca-46b3-ab5a-3ffe8d137a7c",
   "metadata": {},
   "outputs": [
    {
     "name": "stderr",
     "output_type": "stream",
     "text": [
      "WARNING:root:Make sure that locally built Python SDK docker image has Python 3.7 interpreter.\n"
     ]
    },
    {
     "data": {
      "text/html": [
       "<b>Artifact at ./data/artifacts/StatisticsGen/statistics/9</b><br/><br/>"
      ],
      "text/plain": [
       "<IPython.core.display.HTML object>"
      ]
     },
     "metadata": {},
     "output_type": "display_data"
    },
    {
     "data": {
      "text/html": [
       "<div><b>'train' split:</b></div><br/>"
      ],
      "text/plain": [
       "<IPython.core.display.HTML object>"
      ]
     },
     "metadata": {},
     "output_type": "display_data"
    },
    {
     "data": {
      "text/html": [
       "<iframe id='facets-iframe' width=\"100%\" height=\"500px\"></iframe>\n",
       "        <script>\n",
       "        facets_iframe = document.getElementById('facets-iframe');\n",
       "        facets_html = '<script src=\"https://cdnjs.cloudflare.com/ajax/libs/webcomponentsjs/1.3.3/webcomponents-lite.js\"><\\/script><link rel=\"import\" href=\"https://raw.githubusercontent.com/PAIR-code/facets/master/facets-dist/facets-jupyter.html\"><facets-overview proto-input=\"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\"></facets-overview>';\n",
       "        facets_iframe.srcdoc = facets_html;\n",
       "         facets_iframe.id = \"\";\n",
       "         setTimeout(() => {\n",
       "           facets_iframe.setAttribute('height', facets_iframe.contentWindow.document.body.offsetHeight + 'px')\n",
       "         }, 1500)\n",
       "         </script>"
      ],
      "text/plain": [
       "<IPython.core.display.HTML object>"
      ]
     },
     "metadata": {},
     "output_type": "display_data"
    },
    {
     "data": {
      "text/html": [
       "<div><b>'eval' split:</b></div><br/>"
      ],
      "text/plain": [
       "<IPython.core.display.HTML object>"
      ]
     },
     "metadata": {},
     "output_type": "display_data"
    },
    {
     "data": {
      "text/html": [
       "<iframe id='facets-iframe' width=\"100%\" height=\"500px\"></iframe>\n",
       "        <script>\n",
       "        facets_iframe = document.getElementById('facets-iframe');\n",
       "        facets_html = '<script src=\"https://cdnjs.cloudflare.com/ajax/libs/webcomponentsjs/1.3.3/webcomponents-lite.js\"><\\/script><link rel=\"import\" href=\"https://raw.githubusercontent.com/PAIR-code/facets/master/facets-dist/facets-jupyter.html\"><facets-overview proto-input=\"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\"></facets-overview>';\n",
       "        facets_iframe.srcdoc = facets_html;\n",
       "         facets_iframe.id = \"\";\n",
       "         setTimeout(() => {\n",
       "           facets_iframe.setAttribute('height', facets_iframe.contentWindow.document.body.offsetHeight + 'px')\n",
       "         }, 1500)\n",
       "         </script>"
      ],
      "text/plain": [
       "<IPython.core.display.HTML object>"
      ]
     },
     "metadata": {},
     "output_type": "display_data"
    }
   ],
   "source": [
    "statistics_gen = context.run(\n",
    "    StatisticsGen(examples=example_gen.component.outputs['examples'])\n",
    ")\n",
    "context.show(statistics_gen.component.outputs['statistics'])"
   ]
  },
  {
   "cell_type": "code",
   "execution_count": null,
   "id": "75544051-5e2b-44af-b9bd-ae8a809f52e9",
   "metadata": {},
   "outputs": [],
   "source": []
  },
  {
   "cell_type": "markdown",
   "id": "39b9bb09-f446-4135-981d-9a9fe260878a",
   "metadata": {},
   "source": [
    "## SchemaGen\n",
    "\n",
    "* [Why isn't SchemaGen supported in tfdv.display_schema()?](https://stackoverflow.com/a/64199301)"
   ]
  },
  {
   "cell_type": "code",
   "execution_count": null,
   "id": "6269ce6a-5d69-4728-bb78-ad5e1586cd7e",
   "metadata": {},
   "outputs": [],
   "source": [
    "schema_gen = SchemaGen(\n",
    "    statistics=statistics_gen.component.outputs['statistics'],\n",
    "    infer_feature_shape=True\n",
    ")\n",
    "context.run(schema_gen)\n",
    "context.show(schema_gen.outputs['schema'])"
   ]
  }
 ],
 "metadata": {
  "environment": {
   "kernel": "python3",
   "name": "tf2-gpu.2-8.m91",
   "type": "gcloud",
   "uri": "gcr.io/deeplearning-platform-release/tf2-gpu.2-8:m91"
  },
  "kernelspec": {
   "display_name": "Python 3",
   "language": "python",
   "name": "python3"
  },
  "language_info": {
   "codemirror_mode": {
    "name": "ipython",
    "version": 3
   },
   "file_extension": ".py",
   "mimetype": "text/x-python",
   "name": "python",
   "nbconvert_exporter": "python",
   "pygments_lexer": "ipython3",
   "version": "3.7.9"
  }
 },
 "nbformat": 4,
 "nbformat_minor": 5
}
