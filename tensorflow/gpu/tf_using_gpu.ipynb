{
 "cells": [
  {
   "cell_type": "code",
   "execution_count": 2,
   "id": "1ddc7562",
   "metadata": {},
   "outputs": [],
   "source": [
    "import tensorflow as tf"
   ]
  },
  {
   "cell_type": "markdown",
   "id": "1ad1c2a9",
   "metadata": {},
   "source": [
    "# GPU Devices"
   ]
  },
  {
   "cell_type": "markdown",
   "id": "bc8bc8b3",
   "metadata": {},
   "source": [
    "* [Use a GPU](https://www.tensorflow.org/guide/gpu)\n",
    "\n",
    "> * \"/device:CPU:0\": The CPU of your machine.<br>\n",
    "> * \"/GPU:0\": Short-hand notation for the first GPU of your machine that is visible to TensorFlow.\n",
    "> * \"/job:localhost/replica:0/task:0/device:GPU:1\": Fully qualified name of the second GPU of your machine that is visible to TensorFlow.\n"
   ]
  },
  {
   "cell_type": "markdown",
   "id": "75ecff42",
   "metadata": {},
   "source": [
    "# Confirm GPU\n",
    "\n",
    "On a GPU instance (using Google colab GPU runtime)\n",
    "\n",
    "```\n",
    "print(\"Num GPUs Available: \", len(tf.config.list_physical_devices('GPU')))\n",
    "tf.config.list_physical_devices('GPU')\n",
    "---\n",
    "Num GPUs Available:  1\n",
    "[PhysicalDevice(name='/physical_device:GPU:0', device_type='GPU')]\n",
    "```"
   ]
  },
  {
   "cell_type": "code",
   "execution_count": 3,
   "id": "744f1513",
   "metadata": {},
   "outputs": [
    {
     "name": "stdout",
     "output_type": "stream",
     "text": [
      "Is there a GPU available: \n",
      "[]\n"
     ]
    }
   ],
   "source": [
    "print(\"Is there a GPU available: \"),\n",
    "print(tf.config.list_physical_devices(\"GPU\"))"
   ]
  },
  {
   "cell_type": "markdown",
   "id": "8d7b997b",
   "metadata": {},
   "source": [
    "## Number of available GPU"
   ]
  },
  {
   "cell_type": "code",
   "execution_count": 6,
   "id": "e6af688a",
   "metadata": {},
   "outputs": [
    {
     "name": "stdout",
     "output_type": "stream",
     "text": [
      "Num GPUs Available:  0\n"
     ]
    }
   ],
   "source": [
    "print(\"Num GPUs Available: \", len(tf.config.list_physical_devices('GPU')))"
   ]
  },
  {
   "cell_type": "markdown",
   "id": "05825821",
   "metadata": {},
   "source": [
    "## Check if TF is using GPU"
   ]
  },
  {
   "cell_type": "code",
   "execution_count": 7,
   "id": "a4b2fdb4",
   "metadata": {},
   "outputs": [
    {
     "data": {
      "text/plain": [
       "[]"
      ]
     },
     "execution_count": 7,
     "metadata": {},
     "output_type": "execute_result"
    }
   ],
   "source": [
    "tf.config.list_physical_devices('GPU')"
   ]
  },
  {
   "cell_type": "markdown",
   "id": "9e8e9078",
   "metadata": {},
   "source": [
    "---"
   ]
  },
  {
   "cell_type": "markdown",
   "id": "78c416be",
   "metadata": {},
   "source": [
    "# TF usage of GPU\n",
    "\n",
    "Using CPU or GPU is transparent to TensorFlow code.\n",
    "\n",
    "* [Use a GPU](https://www.tensorflow.org/guide/gpu)\n",
    "\n",
    "> TensorFlow code, and tf.keras models will transparently run on a single GPU with no code changes required.\n",
    "\n",
    ">tf.matmul has both CPU and GPU kernels. On a system with devices CPU:0 and GPU:0, the GPU:0 device will be selected to run tf.matmul unless you explicitly request running it on another device."
   ]
  },
  {
   "cell_type": "markdown",
   "id": "04d616c4",
   "metadata": {},
   "source": [
    "## Confirm a tensor is allocated on a GPU device"
   ]
  },
  {
   "cell_type": "code",
   "execution_count": 4,
   "id": "916bce71",
   "metadata": {},
   "outputs": [
    {
     "name": "stdout",
     "output_type": "stream",
     "text": [
      "Is the Tensor on GPU #0:  \n",
      "False\n"
     ]
    }
   ],
   "source": [
    "x = tf.random.uniform([3, 3])\n",
    "\n",
    "print(\"Is the Tensor on GPU #0:  \"),\n",
    "print(x.device.endswith('GPU:0'))"
   ]
  },
  {
   "cell_type": "markdown",
   "id": "5fe180ea",
   "metadata": {},
   "source": [
    "## Explicit device assignment"
   ]
  },
  {
   "cell_type": "code",
   "execution_count": null,
   "id": "253de7e5",
   "metadata": {},
   "outputs": [],
   "source": [
    "tf.debugging.set_log_device_placement(True)\n",
    "\n",
    "# Place tensors on the CPU\n",
    "with tf.device('/CPU:0'):\n",
    "    a = tf.constant([[1.0, 2.0, 3.0], [4.0, 5.0, 6.0]])\n",
    "    b = tf.constant([[1.0, 2.0], [3.0, 4.0], [5.0, 6.0]])\n",
    "    c = tf.matmul(a, b)"
   ]
  },
  {
   "cell_type": "code",
   "execution_count": null,
   "id": "44e13684",
   "metadata": {},
   "outputs": [],
   "source": [
    "tf.debugging.set_log_device_placement(True)\n",
    "with tf.device('/GPU:0'):\n",
    "    # Place tensors on the GPU\n",
    "    a = tf.constant([[1.0, 2.0, 3.0], [4.0, 5.0, 6.0]])\n",
    "    b = tf.constant([[1.0, 2.0], [3.0, 4.0], [5.0, 6.0]])\n",
    "    \n",
    "    # Executing op MatMul in device /job:localhost/replica:0/task:0/device:GPU:0\n",
    "    c = tf.matmul(a, b)"
   ]
  }
 ],
 "metadata": {
  "kernelspec": {
   "display_name": "Python 3",
   "language": "python",
   "name": "python3"
  },
  "language_info": {
   "codemirror_mode": {
    "name": "ipython",
    "version": 3
   },
   "file_extension": ".py",
   "mimetype": "text/x-python",
   "name": "python",
   "nbconvert_exporter": "python",
   "pygments_lexer": "ipython3",
   "version": "3.8.8"
  }
 },
 "nbformat": 4,
 "nbformat_minor": 5
}
