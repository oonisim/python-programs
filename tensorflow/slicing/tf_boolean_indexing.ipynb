{
 "cells": [
  {
   "cell_type": "code",
   "execution_count": 2,
   "id": "43128d76",
   "metadata": {},
   "outputs": [],
   "source": [
    "import tensorflow as tf\n",
    "import numpy as np"
   ]
  },
  {
   "cell_type": "markdown",
   "id": "207a6426",
   "metadata": {},
   "source": [
    "# Update tf.Variable with Boolean indices"
   ]
  },
  {
   "cell_type": "code",
   "execution_count": 7,
   "id": "3cf490f6",
   "metadata": {},
   "outputs": [
    {
     "name": "stdout",
     "output_type": "stream",
     "text": [
      "x:\n",
      "<tf.Variable 'Variable:0' shape=(3, 4) dtype=float32, numpy=\n",
      "array([[-0.8369873 , -0.86152446,  0.8997076 ,  0.92364746],\n",
      "       [ 0.815089  ,  0.89769685,  0.6156549 ,  0.7531403 ],\n",
      "       [-0.091079  , -0.25003907, -0.92162824,  0.10137004]],\n",
      "      dtype=float32)>\n",
      "\n",
      "Boolean indices (x > 0):\n",
      "[[False False  True  True]\n",
      " [ True  True  True  True]\n",
      " [False False False  True]]\n",
      "\n",
      "x.assign(tf.where(x>0, 1, x)):\n",
      "<tf.Variable 'Variable:0' shape=(3, 4) dtype=float32, numpy=\n",
      "array([[-0.8369873 , -0.86152446,  1.        ,  1.        ],\n",
      "       [ 1.        ,  1.        ,  1.        ,  1.        ],\n",
      "       [-0.091079  , -0.25003907, -0.92162824,  1.        ]],\n",
      "      dtype=float32)>\n"
     ]
    }
   ],
   "source": [
    "x = tf.Variable(np.random.uniform(-1, 1, size=(3,4)), dtype=tf.float32)\n",
    "print(f\"x:\\n{x}\\n\")\n",
    "\n",
    "# --------------------------------------------------------------------------------\n",
    "# Boolean indices with the condition\n",
    "# --------------------------------------------------------------------------------\n",
    "mask = x > 0\n",
    "print(f\"Boolean indices (x > 0):\\n{mask}\\n\")\n",
    "\n",
    "# --------------------------------------------------------------------------------\n",
    "# Update values in Variable wih boolean indices\n",
    "# --------------------------------------------------------------------------------\n",
    "x.assign(tf.where(mask, 1, x))\n",
    "print(f\"x.assign(tf.where(x>0, 1, x)):\\n{x}\")"
   ]
  },
  {
   "cell_type": "markdown",
   "id": "7f622849",
   "metadata": {},
   "source": [
    "# Extract Tensor elements with boolean indices\n",
    "\n",
    "* [tf.boolean_mask](https://www.tensorflow.org/api_docs/python/tf/boolean_mask)\n",
    "\n",
    "> Numpy equivalent is tensor[mask].\n",
    "\n",
    "```\n",
    "tf.boolean_mask(\n",
    "    tensor, mask, axis=None, name='boolean_mask'\n",
    ")\n",
    "```"
   ]
  },
  {
   "cell_type": "code",
   "execution_count": 3,
   "id": "fb84c62f",
   "metadata": {},
   "outputs": [],
   "source": [
    "def in1d(target, source, invert: bool = False):\n",
    "    \"\"\"\n",
    "    Return boolean tensor of the target shape that tells if an element of\n",
    "    'target' b is in 'source'.\n",
    "\n",
    "    Example:\n",
    "        target = tf.constant([1,2,3,4,5])\n",
    "        source = tf.constant([1,3,5])\n",
    "        is_in(target, source)\n",
    "        -----\n",
    "        [ True, False,  True, False,  True]\n",
    "\n",
    "    Args:\n",
    "        target: Target 1D array to test\n",
    "        source: list of elements to check if in 'target'\n",
    "        invert: If True, the values in the returned array are inverted\n",
    "   \"\"\"\n",
    "    mask = tf.reduce_any(tf.equal(tf.reshape(source, shape=(-1, 1)), target), axis=0)\n",
    "    # return np.in1d(target, source, invert)\n",
    "    return tf.math.logical_not(mask) if invert else mask"
   ]
  },
  {
   "cell_type": "code",
   "execution_count": 7,
   "id": "afd7919a",
   "metadata": {},
   "outputs": [
    {
     "name": "stdout",
     "output_type": "stream",
     "text": [
      "Select elements from [1 2 3 4 5] that are not in [1 3 5]\n",
      "\n",
      "Boolean indices:[False  True False  True False]\n",
      "\n"
     ]
    },
    {
     "data": {
      "text/plain": [
       "<tf.Tensor: shape=(2,), dtype=int32, numpy=array([2, 4], dtype=int32)>"
      ]
     },
     "execution_count": 7,
     "metadata": {},
     "output_type": "execute_result"
    }
   ],
   "source": [
    "target = tf.constant([1,2,3,4,5])\n",
    "source = tf.constant([1,3,5])\n",
    "#a = np.array([1,6,7,8,9])\n",
    "#b = np.array([1,3,5])\n",
    "print(f\"Select elements from {target} that are not in {source}\\n\")\n",
    "boolean_indices = in1d(target, source, True)\n",
    "print(f\"Boolean indices:{boolean_indices}\\n\")\n",
    "tf.boolean_mask(target, boolean_indices)"
   ]
  },
  {
   "cell_type": "code",
   "execution_count": null,
   "id": "757862c9",
   "metadata": {},
   "outputs": [],
   "source": []
  }
 ],
 "metadata": {
  "kernelspec": {
   "display_name": "Python 3",
   "language": "python",
   "name": "python3"
  },
  "language_info": {
   "codemirror_mode": {
    "name": "ipython",
    "version": 3
   },
   "file_extension": ".py",
   "mimetype": "text/x-python",
   "name": "python",
   "nbconvert_exporter": "python",
   "pygments_lexer": "ipython3",
   "version": "3.8.8"
  }
 },
 "nbformat": 4,
 "nbformat_minor": 5
}
