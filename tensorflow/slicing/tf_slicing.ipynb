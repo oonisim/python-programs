{
 "cells": [
  {
   "cell_type": "markdown",
   "id": "2c4bb980",
   "metadata": {},
   "source": [
    "# TF slicing\n",
    "\n",
    "* [Introduction to tensor slicing](https://www.tensorflow.org/guide/tensor_slicing)\n",
    "\n",
    "> In this guide, you will learn how to use the TensorFlow APIs to:\n",
    "> * Extract slices from a tensor\n",
    "> * Insert data at specific indices in a tensor"
   ]
  },
  {
   "cell_type": "code",
   "execution_count": 3,
   "id": "2d65bab9",
   "metadata": {},
   "outputs": [],
   "source": [
    "import numpy as np\n",
    "import tensorflow as tf"
   ]
  },
  {
   "cell_type": "markdown",
   "id": "39822981",
   "metadata": {},
   "source": [
    "# References\n",
    "\n",
    "\n",
    "### [tf.slice](https://www.tensorflow.org/api_docs/python/tf/slice)\n",
    "\n",
    "```\n",
    "tf.slice(\n",
    "    input_, \n",
    "    begin,            # Coordinate (index subscripts) of the start point\n",
    "    size,             # Shape of the region to slice/dice (NOT size) \n",
    "    name=None\n",
    ")\n",
    "```\n",
    "\n",
    "> Extracts a slice from a tensor.\n",
    "\n",
    "### [tf.Tensor.__get_item__](https://www.tensorflow.org/api_docs/python/tf/Tensor#__getitem__)\n",
    "\n",
    "```\n",
    "__getitem__(\n",
    "    slice_spec, var=None\n",
    ")\n",
    "```\n",
    "> Insert another dimension\n",
    "```\n",
    "foo = tf.constant([[1,2,3], [4,5,6], [7,8,9]])\n",
    "print(foo[tf.newaxis, :, :].eval()) # => [[[1,2,3], [4,5,6], [7,8,9]]]\n",
    "print(foo[:, tf.newaxis, :].eval()) # => [[[1,2,3]], [[4,5,6]], [[7,8,9]]]\n",
    "print(foo[:, :, tf.newaxis].eval()) # => [[[1],[2],[3]], [[4],[5],[6]],\n",
    "[[7],[8],[9]]]\n",
    "```\n",
    "> Ellipses (3 equivalent operations)\n",
    "```\n",
    "foo = tf.constant([[1,2,3], [4,5,6], [7,8,9]])\n",
    "print(foo[tf.newaxis, :, :].eval())  # => [[[1,2,3], [4,5,6], [7,8,9]]]\n",
    "print(foo[tf.newaxis, ...].eval())  # => [[[1,2,3], [4,5,6], [7,8,9]]]\n",
    "print(foo[tf.newaxis].eval())  # => [[[1,2,3], [4,5,6], [7,8,9]]]\n",
    "```\n",
    "\n",
    "\n",
    "### [tf.strided_slice](https://www.tensorflow.org/api_docs/python/tf/strided_slice)\n",
    "\n",
    "```\n",
    "tf.strided_slice(\n",
    "    input_, begin, end, strides=None, begin_mask=0, end_mask=0, ellipsis_mask=0,\n",
    "    new_axis_mask=0, shrink_axis_mask=0, var=None, name=None\n",
    ")\n",
    "```\n",
    "> Extract slices of tensors **by 'striding' over** the tensor dimensions.\n",
    "\n"
   ]
  },
  {
   "cell_type": "markdown",
   "id": "19ae8c4a",
   "metadata": {},
   "source": [
    "# Constraint\n",
    "\n",
    "## No NumPy advance-indexing equivalent\n",
    "\n",
    "NumPy indexing allows the combination of slice and array. TF slicing only allow either:\n",
    "1. NumPy/Pythonic slice syntax\n",
    "2. Scalar element selection with scatter indices"
   ]
  },
  {
   "cell_type": "markdown",
   "id": "b20a3fc8",
   "metadata": {},
   "source": [
    "# Pythonic/NumPy-like slice syntax"
   ]
  },
  {
   "cell_type": "markdown",
   "id": "81e129bb",
   "metadata": {},
   "source": [
    "## 1D slice\n",
    "\n",
    "<img src=\"image/tf_slicing_1d_1.png\" align=\"left\" width=300 />\n"
   ]
  },
  {
   "cell_type": "code",
   "execution_count": 15,
   "id": "18fa2c52",
   "metadata": {},
   "outputs": [
    {
     "data": {
      "text/plain": [
       "<tf.Tensor: shape=(3,), dtype=int32, numpy=array([1, 2, 3], dtype=int32)>"
      ]
     },
     "execution_count": 15,
     "metadata": {},
     "output_type": "execute_result"
    }
   ],
   "source": [
    "t1 = tf.constant([0, 1, 2, 3, 4, 5, 6, 7])\n",
    "tf.slice(    # Same with t1[1:4]\n",
    "    t1,\n",
    "    begin=[1],\n",
    "    size=[3]\n",
    ")"
   ]
  },
  {
   "cell_type": "markdown",
   "id": "dbbb12c3",
   "metadata": {},
   "source": [
    "<img src=\"image/tf_slicing_1d_3.png\" align=\"left\" width=300 />"
   ]
  },
  {
   "cell_type": "code",
   "execution_count": 6,
   "id": "0e0250ec",
   "metadata": {},
   "outputs": [
    {
     "data": {
      "text/plain": [
       "<tf.Tensor: shape=(3,), dtype=int32, numpy=array([0, 3, 6], dtype=int32)>"
      ]
     },
     "execution_count": 6,
     "metadata": {},
     "output_type": "execute_result"
    }
   ],
   "source": [
    "t1[::3]"
   ]
  },
  {
   "cell_type": "markdown",
   "id": "92f3646d",
   "metadata": {},
   "source": [
    "## Regional (2D, 3D, ...) slice"
   ]
  },
  {
   "cell_type": "markdown",
   "id": "3ec418bf",
   "metadata": {},
   "source": [
    "## 2D\n",
    "<img src=\"image/tf_slicing_2d.png\" align=\"left\" width=200 />"
   ]
  },
  {
   "cell_type": "code",
   "execution_count": 22,
   "id": "16ebd013",
   "metadata": {},
   "outputs": [
    {
     "data": {
      "text/plain": [
       "<tf.Tensor: shape=(3, 2), dtype=int32, numpy=\n",
       "array([[ 1,  2],\n",
       "       [ 6,  7],\n",
       "       [11, 12]], dtype=int32)>"
      ]
     },
     "execution_count": 22,
     "metadata": {},
     "output_type": "execute_result"
    }
   ],
   "source": [
    "t2 = tf.reshape(tf.range(20,dtype=tf.int32), shape=(4,5))\n",
    "tf.slice(\n",
    "    t2,\n",
    "    begin=[0,1],   # Coordinate (n,d) as the start point\n",
    "    size=[3,2]     # Shape (3,2) -> (n+3, n+2) as the end point\n",
    ")"
   ]
  },
  {
   "cell_type": "code",
   "execution_count": 24,
   "id": "323bc77b",
   "metadata": {},
   "outputs": [
    {
     "data": {
      "text/plain": [
       "<tf.Tensor: shape=(3, 2), dtype=int32, numpy=\n",
       "array([[ 1,  2],\n",
       "       [ 6,  7],\n",
       "       [11, 12]], dtype=int32)>"
      ]
     },
     "execution_count": 24,
     "metadata": {},
     "output_type": "execute_result"
    }
   ],
   "source": [
    "# Same with\n",
    "t2[\n",
    "    :-1, # [0:-1)\n",
    "    1:3  # [0:3)\n",
    "]"
   ]
  },
  {
   "cell_type": "markdown",
   "id": "a2917f69",
   "metadata": {},
   "source": [
    "## 3D"
   ]
  },
  {
   "cell_type": "code",
   "execution_count": 26,
   "id": "ff48ba6f",
   "metadata": {},
   "outputs": [
    {
     "data": {
      "text/plain": [
       "<tf.Tensor: shape=(1, 1, 3), dtype=int32, numpy=array([[[3, 3, 3]]], dtype=int32)>"
      ]
     },
     "execution_count": 26,
     "metadata": {},
     "output_type": "execute_result"
    }
   ],
   "source": [
    "t = tf.constant([\n",
    "    [\n",
    "        [1, 1, 1], \n",
    "        [2, 2, 2]\n",
    "    ],\n",
    "    [\n",
    "        [3, 3, 3], \n",
    "        [4, 4, 4]\n",
    "    ],\n",
    "    [\n",
    "        [5, 5, 5], \n",
    "        [6, 6, 6]\n",
    "    ]\n",
    "])\n",
    "\n",
    "tf.slice(\n",
    "    t, \n",
    "    [1, 0, 0],                     # Start point coordinate \n",
    "    [1, 1, 3]                      # Shape of the cube to dice\n",
    ")                                  # [[[3, 3, 3]]]"
   ]
  },
  {
   "cell_type": "code",
   "execution_count": 28,
   "id": "51ed7e02",
   "metadata": {},
   "outputs": [
    {
     "data": {
      "text/plain": [
       "<tf.Tensor: shape=(1, 2, 3), dtype=int32, numpy=\n",
       "array([[[3, 3, 3],\n",
       "        [4, 4, 4]]], dtype=int32)>"
      ]
     },
     "execution_count": 28,
     "metadata": {},
     "output_type": "execute_result"
    }
   ],
   "source": [
    "tf.slice(\n",
    "    t, \n",
    "    [1, 0, 0], \n",
    "    [1, 2, 3]\n",
    ")                                  # [[[3, 3, 3],"
   ]
  },
  {
   "cell_type": "code",
   "execution_count": 27,
   "id": "24a6d2ac",
   "metadata": {},
   "outputs": [
    {
     "data": {
      "text/plain": [
       "<tf.Tensor: shape=(2, 1, 3), dtype=int32, numpy=\n",
       "array([[[3, 3, 3]],\n",
       "\n",
       "       [[5, 5, 5]]], dtype=int32)>"
      ]
     },
     "execution_count": 27,
     "metadata": {},
     "output_type": "execute_result"
    }
   ],
   "source": [
    "tf.slice(\n",
    "    t, \n",
    "    [1, 0, 0], \n",
    "    [2, 1, 3]\n",
    ")                                  # [[[3, 3, 3]],\n",
    "                                   #  [[5, 5, 5]]]"
   ]
  },
  {
   "cell_type": "markdown",
   "id": "a4102967",
   "metadata": {},
   "source": [
    "---\n",
    "# Element-wise indices (axes junctions)\n",
    "\n",
    "List of indices where **each index identifies a scalar element** in a Tensor.\n",
    "\n",
    "> To extract slices from multiple axes of a tensor, use tf.gather_nd. This is useful when you want to gather the elements of a matrix as opposed to just its rows or columns."
   ]
  },
  {
   "cell_type": "code",
   "execution_count": 30,
   "id": "10c6138e",
   "metadata": {},
   "outputs": [
    {
     "data": {
      "text/plain": [
       "<tf.Tensor: shape=(4, 6), dtype=int64, numpy=\n",
       "array([[ 0,  1,  2,  3,  4,  5],\n",
       "       [ 6,  7,  8,  9, 10, 11],\n",
       "       [12, 13, 14, 15, 16, 17],\n",
       "       [18, 19, 20, 21, 22, 23]])>"
      ]
     },
     "execution_count": 30,
     "metadata": {},
     "output_type": "execute_result"
    }
   ],
   "source": [
    "x = tf.constant(np.arange(24).reshape(4,6))\n",
    "x"
   ]
  },
  {
   "cell_type": "code",
   "execution_count": 31,
   "id": "fbc3a021",
   "metadata": {},
   "outputs": [
    {
     "data": {
      "text/plain": [
       "<tf.Tensor: shape=(4,), dtype=int64, numpy=array([ 1,  9, 17, 18])>"
      ]
     },
     "execution_count": 31,
     "metadata": {},
     "output_type": "execute_result"
    }
   ],
   "source": [
    "tf.gather_nd(x, indices=[\n",
    "    [0,1],        # Each index is a scalar element coordinate (row, col) = (0,1) \n",
    "    [1,3],\n",
    "    [2,5],\n",
    "    [3,0]\n",
    "])"
   ]
  },
  {
   "cell_type": "code",
   "execution_count": null,
   "id": "77fef2cb",
   "metadata": {},
   "outputs": [],
   "source": []
  }
 ],
 "metadata": {
  "kernelspec": {
   "display_name": "Python 3",
   "language": "python",
   "name": "python3"
  },
  "language_info": {
   "codemirror_mode": {
    "name": "ipython",
    "version": 3
   },
   "file_extension": ".py",
   "mimetype": "text/x-python",
   "name": "python",
   "nbconvert_exporter": "python",
   "pygments_lexer": "ipython3",
   "version": "3.8.8"
  }
 },
 "nbformat": 4,
 "nbformat_minor": 5
}
