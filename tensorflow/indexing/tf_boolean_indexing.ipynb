{
 "cells": [
  {
   "cell_type": "code",
   "execution_count": 2,
   "id": "43128d76",
   "metadata": {},
   "outputs": [],
   "source": [
    "import tensorflow as tf\n",
    "import numpy as np"
   ]
  },
  {
   "cell_type": "markdown",
   "id": "207a6426",
   "metadata": {},
   "source": [
    "# Update tf.Variable with Boolean indices"
   ]
  },
  {
   "cell_type": "code",
   "execution_count": 7,
   "id": "3cf490f6",
   "metadata": {},
   "outputs": [
    {
     "name": "stdout",
     "output_type": "stream",
     "text": [
      "x:\n",
      "<tf.Variable 'Variable:0' shape=(3, 4) dtype=float32, numpy=\n",
      "array([[-0.8369873 , -0.86152446,  0.8997076 ,  0.92364746],\n",
      "       [ 0.815089  ,  0.89769685,  0.6156549 ,  0.7531403 ],\n",
      "       [-0.091079  , -0.25003907, -0.92162824,  0.10137004]],\n",
      "      dtype=float32)>\n",
      "\n",
      "Boolean indices (x > 0):\n",
      "[[False False  True  True]\n",
      " [ True  True  True  True]\n",
      " [False False False  True]]\n",
      "\n",
      "x.assign(tf.where(x>0, 1, x)):\n",
      "<tf.Variable 'Variable:0' shape=(3, 4) dtype=float32, numpy=\n",
      "array([[-0.8369873 , -0.86152446,  1.        ,  1.        ],\n",
      "       [ 1.        ,  1.        ,  1.        ,  1.        ],\n",
      "       [-0.091079  , -0.25003907, -0.92162824,  1.        ]],\n",
      "      dtype=float32)>\n"
     ]
    }
   ],
   "source": [
    "x = tf.Variable(np.random.uniform(-1, 1, size=(3,4)), dtype=tf.float32)\n",
    "print(f\"x:\\n{x}\\n\")\n",
    "\n",
    "# --------------------------------------------------------------------------------\n",
    "# Boolean indices with the condition\n",
    "# --------------------------------------------------------------------------------\n",
    "mask = x > 0\n",
    "print(f\"Boolean indices (x > 0):\\n{mask}\\n\")\n",
    "\n",
    "# --------------------------------------------------------------------------------\n",
    "# Update values in Variable wih boolean indices\n",
    "# --------------------------------------------------------------------------------\n",
    "x.assign(tf.where(mask, 1, x))\n",
    "print(f\"x.assign(tf.where(x>0, 1, x)):\\n{x}\")"
   ]
  },
  {
   "cell_type": "code",
   "execution_count": null,
   "id": "92822cd5",
   "metadata": {},
   "outputs": [],
   "source": []
  }
 ],
 "metadata": {
  "kernelspec": {
   "display_name": "Python 3",
   "language": "python",
   "name": "python3"
  },
  "language_info": {
   "codemirror_mode": {
    "name": "ipython",
    "version": 3
   },
   "file_extension": ".py",
   "mimetype": "text/x-python",
   "name": "python",
   "nbconvert_exporter": "python",
   "pygments_lexer": "ipython3",
   "version": "3.8.8"
  }
 },
 "nbformat": 4,
 "nbformat_minor": 5
}
