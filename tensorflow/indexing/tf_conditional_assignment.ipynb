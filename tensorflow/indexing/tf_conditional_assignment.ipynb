{
 "cells": [
  {
   "cell_type": "code",
   "execution_count": 1,
   "id": "b50b128a",
   "metadata": {},
   "outputs": [],
   "source": [
    "import tensorflow as tf\n",
    "import numpy as np"
   ]
  },
  {
   "cell_type": "markdown",
   "id": "7be86af8",
   "metadata": {},
   "source": [
    "# Update the tensor values where the condition matches\n"
   ]
  },
  {
   "cell_type": "markdown",
   "id": "66bc8a94",
   "metadata": {},
   "source": [
    "Numpy can use boolean indexing to directy update the array."
   ]
  },
  {
   "cell_type": "code",
   "execution_count": 2,
   "id": "a48cd6da",
   "metadata": {},
   "outputs": [
    {
     "name": "stdout",
     "output_type": "stream",
     "text": [
      "[[-0.21862459 -0.11904506 -0.65759051 -0.02053271]\n",
      " [ 0.85862027  0.59237733 -0.78714513 -0.0176912 ]\n",
      " [-0.94936706 -0.30497186  0.25053833  0.18807091]]\n",
      "[[-0.21862459 -0.11904506 -0.65759051 -0.02053271]\n",
      " [ 0.          0.         -0.78714513 -0.0176912 ]\n",
      " [-0.94936706 -0.30497186  0.          0.        ]]\n"
     ]
    }
   ],
   "source": [
    "x = np.random.uniform(-1, 1, size=(3, 4))\n",
    "print(x)\n",
    "x[x > 0] = 0\n",
    "print(x)"
   ]
  },
  {
   "cell_type": "markdown",
   "id": "80e7941c",
   "metadata": {},
   "source": [
    "Tensorflow does not have such syntax, hence need to use ```tf.where```.\n",
    "\n",
    "* [tf.where(condition, x=None, y=None, name=None)](https://www.tensorflow.org/api_docs/python/tf/where)\n",
    "\n",
    "```\n",
    "Returns:\n",
    "    If x and y are provided: \n",
    "        A Tensor with the same type as x and y, and shape that is broadcast from condition, x, and y.\n",
    "    Otherwise: \n",
    "        A Tensor with shape (num_true, dim_size(condition)).\n",
    "```\n",
    "\n",
    "However, it does not directly update the ```tf.Variable``` itself.\n",
    "\n",
    "* [tensorflow 2 - how to conditionally update values directly in tf.Variable](https://stackoverflow.com/questions/66980404/tensorflow-2-how-to-conditionally-update-values-directly-in-tf-variable)"
   ]
  },
  {
   "cell_type": "code",
   "execution_count": 4,
   "id": "e75a304a",
   "metadata": {},
   "outputs": [
    {
     "name": "stdout",
     "output_type": "stream",
     "text": [
      "x:\n",
      "<tf.Variable 'Variable:0' shape=(3, 4) dtype=float32, numpy=\n",
      "array([[ 0.6215271 , -0.6722634 ,  0.9787062 ,  0.3303163 ],\n",
      "       [ 0.71643543,  0.56936526,  0.74331343, -0.57534343],\n",
      "       [-0.2167569 ,  0.6609811 , -0.45718992, -0.41778496]],\n",
      "      dtype=float32)>\n",
      "\n",
      "Boolean indices (x > 0):\n",
      "[[ True False  True  True]\n",
      " [ True  True  True False]\n",
      " [False  True False False]]\n",
      "\n",
      "x.assign(tf.where(x>0, 1, x)):\n",
      "<tf.Variable 'Variable:0' shape=(3, 4) dtype=float32, numpy=\n",
      "array([[ 1.        , -0.6722634 ,  1.        ,  1.        ],\n",
      "       [ 1.        ,  1.        ,  1.        , -0.57534343],\n",
      "       [-0.2167569 ,  1.        , -0.45718992, -0.41778496]],\n",
      "      dtype=float32)>\n"
     ]
    }
   ],
   "source": [
    "x = tf.Variable(np.random.uniform(-1, 1, size=(3,4)), dtype=tf.float32)\n",
    "print(f\"x:\\n{x}\\n\")\n",
    "\n",
    "# --------------------------------------------------------------------------------\n",
    "# Boolean indices with the condition\n",
    "# --------------------------------------------------------------------------------\n",
    "mask = x > 0\n",
    "print(f\"Boolean indices (x > 0):\\n{mask}\\n\")\n",
    "\n",
    "# --------------------------------------------------------------------------------\n",
    "# Update values in Variable wih boolean indices\n",
    "# --------------------------------------------------------------------------------\n",
    "x.assign(tf.where(mask, 1, x))\n",
    "print(f\"x.assign(tf.where(x>0, 1, x)):\\n{x}\")"
   ]
  },
  {
   "cell_type": "markdown",
   "id": "78631d55",
   "metadata": {},
   "source": [
    "* [How to efficiently update a tensor slice? #36559](https://github.com/tensorflow/tensorflow/issues/36559)\n",
    "\n",
    "```\n",
    "import tensorflow.keras.backend as K\n",
    "units, timesteps = 4, 6\n",
    "x = K.zeros((units, timesteps), dtype='float32', name='x')\n",
    "x_new = x[:units, 0].assign(K.ones((units,), dtype='float32'))  # dummy example\n",
    "K.set_value(x, K.get_value(x_new))\n",
    "print(K.get_value(x))\n",
    "```"
   ]
  },
  {
   "cell_type": "code",
   "execution_count": null,
   "id": "679a3dfa",
   "metadata": {},
   "outputs": [],
   "source": []
  }
 ],
 "metadata": {
  "kernelspec": {
   "display_name": "Python 3",
   "language": "python",
   "name": "python3"
  },
  "language_info": {
   "codemirror_mode": {
    "name": "ipython",
    "version": 3
   },
   "file_extension": ".py",
   "mimetype": "text/x-python",
   "name": "python",
   "nbconvert_exporter": "python",
   "pygments_lexer": "ipython3",
   "version": "3.8.8"
  }
 },
 "nbformat": 4,
 "nbformat_minor": 5
}
