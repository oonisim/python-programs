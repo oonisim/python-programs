{
 "cells": [
  {
   "cell_type": "code",
   "execution_count": 1,
   "id": "f2276615",
   "metadata": {},
   "outputs": [],
   "source": [
    "import numpy as np\n",
    "import tensorflow as tf"
   ]
  },
  {
   "cell_type": "markdown",
   "id": "123ddd3f",
   "metadata": {},
   "source": [
    "# NOTE\n",
    "Tensorflow indexing/slicing are basically **NOT compatible** with NumPy indexing methods with ```[...]```. \n",
    "\n",
    "* [How a seemingly straightforward operation in NumPy turns into a nightmare with TensorFlow ](https://towardsdatascience.com/how-to-replace-values-by-index-in-a-tensor-with-tensorflow-2-0-510994fe6c5f)\n",
    "\n",
    "Re-learn Tensorflow method manner to extract and update slices. Avoid the half-measure slice notation e.g ```X[1:None:2]``` to avoid confusions.\n",
    "\n",
    "* [Introduction to tensor slicing](https://www.tensorflow.org/guide/tensor_slicing)\n",
    "\n",
    "## Slicing\n",
    "* [tf.gather](https://www.tensorflow.org/api_docs/python/tf/gather) - Extract slices at **indices** along the **axis**.\n",
    "```\n",
    "tf.gather(\n",
    "    params, indices, validate_indices=None, axis=None, batch_dims=0, name=None\n",
    ")\n",
    "```\n",
    "* [tf.gather_nd](https://www.tensorflow.org/api_docs/python/tf/gather_nd) - Extract slices at junctions located at **indices**.\n",
    "```\n",
    "tf.gather_nd(\n",
    "    params, indices, batch_dims=0, name=None\n",
    ")\n",
    "```\n",
    "\n",
    "## Updating\n",
    "\n",
    "* [tf.scatter_nd](https://www.tensorflow.org/api_docs/python/tf/scatter_nd) - **NOT** update but create a **new zeros** tensor of **shape** and *initialize* with **updates** at **indices**.\n",
    "```\n",
    "tf.scatter_nd(\n",
    "    indices, updates, shape, name=None\n",
    ")\n",
    "```\n",
    "* [tf.tensor_scatter_nd_update](https://www.tensorflow.org/api_docs/python/tf/tensor_scatter_nd_update) - Updates an **existing** tensor with **updates** at **indices**.\n",
    "```\n",
    "tf.tensor_scatter_nd_update(\n",
    "    tensor, indices, updates, name=None\n",
    ")\n",
    "```\n",
    "\n",
    "---\n",
    "\n",
    "There are subset of NumPy but better not to use half-way measures.\n",
    "\n",
    "* [NumPy API on TensorFlow](https://www.tensorflow.org/guide/tf_numpy)\n",
    "\n",
    "> TensorFlow implements a subset of the NumPy API, available as tf.experimental.numpy."
   ]
  },
  {
   "cell_type": "markdown",
   "id": "ca11a39e",
   "metadata": {},
   "source": [
    "* [tf.tensor_scatter_nd_update](http://localhost:8888/notebooks/indexing/tf_slicing_update.ipynb)\n",
    "\n",
    "```\n",
    "tf.tensor_scatter_nd_update(\n",
    "    tensor, indices, updates, name=None\n",
    ")\n",
    "```"
   ]
  },
  {
   "cell_type": "markdown",
   "id": "2d3a340c",
   "metadata": {},
   "source": [
    "# Data X"
   ]
  },
  {
   "cell_type": "code",
   "execution_count": 2,
   "id": "1b77befb",
   "metadata": {},
   "outputs": [
    {
     "name": "stdout",
     "output_type": "stream",
     "text": [
      "<tf.Variable 'Variable:0' shape=(5, 5) dtype=int32, numpy=\n",
      "array([[ 0,  1,  2,  3,  4],\n",
      "       [ 5,  6,  7,  8,  9],\n",
      "       [10, 11, 12, 13, 14],\n",
      "       [15, 16, 17, 18, 19],\n",
      "       [20, 21, 22, 23, 24]], dtype=int32)>\n"
     ]
    }
   ],
   "source": [
    "X = tf.Variable(tf.reshape(tf.range(25, dtype=tf.int32), shape=(5,5)))\n",
    "print(X)"
   ]
  },
  {
   "cell_type": "markdown",
   "id": "60b5ded3",
   "metadata": {},
   "source": [
    "---\n",
    "# tf.gather - Row or Column extraction"
   ]
  },
  {
   "cell_type": "markdown",
   "id": "63586e96",
   "metadata": {},
   "source": [
    "### Extract rows"
   ]
  },
  {
   "cell_type": "code",
   "execution_count": 3,
   "id": "597f6b64",
   "metadata": {},
   "outputs": [
    {
     "data": {
      "text/plain": [
       "<tf.Tensor: shape=(2, 5), dtype=int32, numpy=\n",
       "array([[ 5,  6,  7,  8,  9],\n",
       "       [15, 16, 17, 18, 19]], dtype=int32)>"
      ]
     },
     "execution_count": 3,
     "metadata": {},
     "output_type": "execute_result"
    }
   ],
   "source": [
    "tf.gather(X, indices=[1, 3], axis=0)  # Rows 1 and 3 (same with axix=None)"
   ]
  },
  {
   "cell_type": "code",
   "execution_count": 4,
   "id": "3d0f1db3",
   "metadata": {},
   "outputs": [
    {
     "name": "stdout",
     "output_type": "stream",
     "text": [
      "tf.Tensor(\n",
      "[[ 5  6  7  8  9]\n",
      " [15 16 17 18 19]], shape=(2, 5), dtype=int32)\n",
      "tf.Tensor(\n",
      "[[ 5  6  7  8  9]\n",
      " [15 16 17 18 19]], shape=(2, 5), dtype=int32)\n"
     ]
    }
   ],
   "source": [
    "# same with slicing with Python slice object\n",
    "print(X[slice(1, None, 2)])\n",
    "print(X[1::2])"
   ]
  },
  {
   "cell_type": "markdown",
   "id": "4a3a671d",
   "metadata": {},
   "source": [
    "### Extract columns"
   ]
  },
  {
   "cell_type": "code",
   "execution_count": 5,
   "id": "b956eac1",
   "metadata": {},
   "outputs": [
    {
     "data": {
      "text/plain": [
       "<tf.Tensor: shape=(5, 2), dtype=int32, numpy=\n",
       "array([[ 1,  3],\n",
       "       [ 6,  8],\n",
       "       [11, 13],\n",
       "       [16, 18],\n",
       "       [21, 23]], dtype=int32)>"
      ]
     },
     "execution_count": 5,
     "metadata": {},
     "output_type": "execute_result"
    }
   ],
   "source": [
    "tf.gather(X, indices=[1, 3], axis=1)  # Columns 1 and 3"
   ]
  },
  {
   "cell_type": "markdown",
   "id": "05586e5d",
   "metadata": {},
   "source": [
    "# tf.gather.nd - extract junctions"
   ]
  },
  {
   "cell_type": "code",
   "execution_count": 6,
   "id": "d779d1f7",
   "metadata": {},
   "outputs": [
    {
     "data": {
      "text/plain": [
       "array([ 7, 19], dtype=int32)"
      ]
     },
     "execution_count": 6,
     "metadata": {},
     "output_type": "execute_result"
    }
   ],
   "source": [
    "indices = [[1,2], [3, 4]]  # Junction (row, col)=(1,2) and (3,4)\n",
    "tf.gather_nd(X, indices).numpy()"
   ]
  },
  {
   "cell_type": "markdown",
   "id": "b9649e05",
   "metadata": {},
   "source": [
    "---"
   ]
  },
  {
   "cell_type": "markdown",
   "id": "b9812e57",
   "metadata": {},
   "source": [
    "# tf.scatter_nd - Initialize a new zeros tensor with values at indices\n"
   ]
  },
  {
   "cell_type": "code",
   "execution_count": 7,
   "id": "8fd1bb1a",
   "metadata": {},
   "outputs": [
    {
     "data": {
      "text/plain": [
       "<tf.Tensor: shape=(5, 5), dtype=float64, numpy=\n",
       "array([[0., 0., 0., 0., 0.],\n",
       "       [1., 1., 1., 1., 1.],\n",
       "       [0., 0., 0., 0., 0.],\n",
       "       [1., 1., 1., 1., 1.],\n",
       "       [0., 0., 0., 0., 0.]])>"
      ]
     },
     "execution_count": 7,
     "metadata": {},
     "output_type": "execute_result"
    }
   ],
   "source": [
    "indices = [[1], [3]]\n",
    "updates = tf.constant(np.ones(shape=(2,5)))\n",
    "tf.scatter_nd(indices=indices, updates=updates, shape=(5,5))"
   ]
  },
  {
   "cell_type": "markdown",
   "id": "a9e74a62",
   "metadata": {},
   "source": [
    "# tf.tensor_scatter_nd_update - update values at indices\n"
   ]
  },
  {
   "cell_type": "code",
   "execution_count": 8,
   "id": "a768dbb8",
   "metadata": {},
   "outputs": [
    {
     "name": "stdout",
     "output_type": "stream",
     "text": [
      "<tf.Variable 'Variable:0' shape=(5, 5) dtype=int32, numpy=\n",
      "array([[ 0,  1,  2,  3,  4],\n",
      "       [ 5,  6,  7,  8,  9],\n",
      "       [10, 11, 12, 13, 14],\n",
      "       [15, 16, 17, 18, 19],\n",
      "       [20, 21, 22, 23, 24]], dtype=int32)>\n",
      "\n",
      "Update [ 7 13] with [0, 0]\n",
      "\n"
     ]
    },
    {
     "data": {
      "text/plain": [
       "<tf.Tensor: shape=(5, 5), dtype=int32, numpy=\n",
       "array([[ 0,  1,  2,  3,  4],\n",
       "       [ 5,  6,  0,  8,  9],\n",
       "       [10, 11, 12,  0, 14],\n",
       "       [15, 16, 17, 18, 19],\n",
       "       [20, 21, 22, 23, 24]], dtype=int32)>"
      ]
     },
     "execution_count": 8,
     "metadata": {},
     "output_type": "execute_result"
    }
   ],
   "source": [
    "X = tf.Variable(tf.reshape(tf.range(25, dtype=tf.int32), shape=(5,5)))\n",
    "print(f\"{X}\\n\")\n",
    "\n",
    "indices = [\n",
    "    [1, 2], \n",
    "    [2, 3]\n",
    "]\n",
    "updates = [0, 0]\n",
    "print(f\"Update {tf.gather_nd(X, indices)} with {updates}\\n\")\n",
    "\n",
    "tf.tensor_scatter_nd_update(X, indices, updates)"
   ]
  }
 ],
 "metadata": {
  "kernelspec": {
   "display_name": "Python 3",
   "language": "python",
   "name": "python3"
  },
  "language_info": {
   "codemirror_mode": {
    "name": "ipython",
    "version": 3
   },
   "file_extension": ".py",
   "mimetype": "text/x-python",
   "name": "python",
   "nbconvert_exporter": "python",
   "pygments_lexer": "ipython3",
   "version": "3.8.8"
  }
 },
 "nbformat": 4,
 "nbformat_minor": 5
}
