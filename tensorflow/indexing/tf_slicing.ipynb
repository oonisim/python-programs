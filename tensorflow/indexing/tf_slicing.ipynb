{
 "cells": [
  {
   "cell_type": "markdown",
   "id": "2c4bb980",
   "metadata": {},
   "source": [
    "# TF slicing\n",
    "\n",
    "* [Introduction to tensor slicing](https://www.tensorflow.org/guide/tensor_slicing)\n",
    "\n",
    "> In this guide, you will learn how to use the TensorFlow APIs to:\n",
    "> * Extract slices from a tensor\n",
    "> * Insert data at specific indices in a tensor"
   ]
  },
  {
   "cell_type": "code",
   "execution_count": 1,
   "id": "2d65bab9",
   "metadata": {},
   "outputs": [],
   "source": [
    "import numpy as np\n",
    "import tensorflow as tf"
   ]
  },
  {
   "cell_type": "markdown",
   "id": "a4102967",
   "metadata": {},
   "source": [
    "# Extract multiple axes junctions\n",
    "\n",
    "> To extract slices from multiple axes of a tensor, use tf.gather_nd. This is useful when you want to gather the elements of a matrix as opposed to just its rows or columns."
   ]
  },
  {
   "cell_type": "code",
   "execution_count": 4,
   "id": "10c6138e",
   "metadata": {},
   "outputs": [
    {
     "data": {
      "text/plain": [
       "<tf.Tensor: shape=(4, 6), dtype=int64, numpy=\n",
       "array([[ 0,  1,  2,  3,  4,  5],\n",
       "       [ 6,  7,  8,  9, 10, 11],\n",
       "       [12, 13, 14, 15, 16, 17],\n",
       "       [18, 19, 20, 21, 22, 23]])>"
      ]
     },
     "execution_count": 4,
     "metadata": {},
     "output_type": "execute_result"
    }
   ],
   "source": [
    "x = tf.constant(np.arange(24).reshape(4,6))\n",
    "x"
   ]
  },
  {
   "cell_type": "code",
   "execution_count": 6,
   "id": "fbc3a021",
   "metadata": {},
   "outputs": [
    {
     "data": {
      "text/plain": [
       "<tf.Tensor: shape=(4,), dtype=int64, numpy=array([ 1,  9, 17, 18])>"
      ]
     },
     "execution_count": 6,
     "metadata": {},
     "output_type": "execute_result"
    }
   ],
   "source": [
    "tf.gather_nd(x, indices=[\n",
    "    [0,1],        # (row, col) = (0,1)\n",
    "    [1,3],\n",
    "    [2,5],\n",
    "    [3,0]\n",
    "])"
   ]
  },
  {
   "cell_type": "code",
   "execution_count": null,
   "id": "77fef2cb",
   "metadata": {},
   "outputs": [],
   "source": []
  }
 ],
 "metadata": {
  "kernelspec": {
   "display_name": "Python 3",
   "language": "python",
   "name": "python3"
  },
  "language_info": {
   "codemirror_mode": {
    "name": "ipython",
    "version": 3
   },
   "file_extension": ".py",
   "mimetype": "text/x-python",
   "name": "python",
   "nbconvert_exporter": "python",
   "pygments_lexer": "ipython3",
   "version": "3.8.8"
  }
 },
 "nbformat": 4,
 "nbformat_minor": 5
}
