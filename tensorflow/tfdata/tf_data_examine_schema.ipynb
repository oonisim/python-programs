{
 "cells": [
  {
   "cell_type": "markdown",
   "id": "bd56eec4",
   "metadata": {},
   "source": [
    "# Examine Schema\n",
    "\n",
    "## Objective\n",
    "\n",
    "How to examine the TF Dataset Schema.\n"
   ]
  },
  {
   "cell_type": "code",
   "execution_count": 1,
   "id": "a3d84466",
   "metadata": {},
   "outputs": [],
   "source": [
    "import tensorflow as tf\n",
    "import pandas as pd"
   ]
  },
  {
   "cell_type": "code",
   "execution_count": 2,
   "id": "8c284223",
   "metadata": {},
   "outputs": [],
   "source": [
    "titanic_file = tf.keras.utils.get_file(\"titanic_train.csv\", \"https://storage.googleapis.com/tf-datasets/titanic/train.csv\")"
   ]
  },
  {
   "cell_type": "code",
   "execution_count": 3,
   "id": "fe563962",
   "metadata": {},
   "outputs": [
    {
     "name": "stdout",
     "output_type": "stream",
     "text": [
      "survived,sex,age,n_siblings_spouses,parch,fare,class,deck,embark_town,alone\r\n",
      "0,male,22.0,1,0,7.25,Third,unknown,Southampton,n\r\n",
      "1,female,38.0,1,0,71.2833,First,C,Cherbourg,n\r\n",
      "1,female,26.0,0,0,7.925,Third,unknown,Southampton,y\r\n",
      "1,female,35.0,1,0,53.1,First,C,Southampton,n\r\n"
     ]
    }
   ],
   "source": [
    "!head -n 5  ~/.keras/datasets/titanic_train.csv"
   ]
  },
  {
   "cell_type": "markdown",
   "id": "e55d9f25",
   "metadata": {},
   "source": [
    "## Pandas\n",
    "\n",
    "Preliminary check with pandas"
   ]
  },
  {
   "cell_type": "code",
   "execution_count": 4,
   "id": "7ecb2715",
   "metadata": {},
   "outputs": [
    {
     "name": "stdout",
     "output_type": "stream",
     "text": [
      "<class 'pandas.core.frame.DataFrame'>\n",
      "RangeIndex: 627 entries, 0 to 626\n",
      "Data columns (total 10 columns):\n",
      " #   Column              Non-Null Count  Dtype  \n",
      "---  ------              --------------  -----  \n",
      " 0   survived            627 non-null    int64  \n",
      " 1   sex                 627 non-null    object \n",
      " 2   age                 627 non-null    float64\n",
      " 3   n_siblings_spouses  627 non-null    int64  \n",
      " 4   parch               627 non-null    int64  \n",
      " 5   fare                627 non-null    float64\n",
      " 6   class               627 non-null    object \n",
      " 7   deck                627 non-null    object \n",
      " 8   embark_town         627 non-null    object \n",
      " 9   alone               627 non-null    object \n",
      "dtypes: float64(2), int64(3), object(5)\n",
      "memory usage: 49.1+ KB\n"
     ]
    }
   ],
   "source": [
    "df = pd.read_csv(titanic_file)\n",
    "df.info()"
   ]
  },
  {
   "cell_type": "markdown",
   "id": "8abf0482",
   "metadata": {},
   "source": [
    "## Read CSV into Datset\n",
    "\n",
    "make_csv_dataset reads the csv and split them into ```(features, label)``` where ```features``` is a diectioay of ```(feature, value)```."
   ]
  },
  {
   "cell_type": "code",
   "execution_count": 5,
   "id": "58094bd1",
   "metadata": {},
   "outputs": [
    {
     "name": "stderr",
     "output_type": "stream",
     "text": [
      "2021-10-30 19:09:09.863644: I tensorflow/core/platform/cpu_feature_guard.cc:142] This TensorFlow binary is optimized with oneAPI Deep Neural Network Library (oneDNN) to use the following CPU instructions in performance-critical operations:  SSE4.1 SSE4.2 AVX AVX2 FMA\n",
      "To enable them in other operations, rebuild TensorFlow with the appropriate compiler flags.\n"
     ]
    }
   ],
   "source": [
    "titanic = tf.data.experimental.make_csv_dataset(\n",
    "    titanic_file,\n",
    "    label_name=\"survived\",\n",
    "    batch_size=1,   # To compre with the head of CSV\n",
    "    shuffle=False,  # To compre with the head of CSV\n",
    "    header=True,\n",
    ")"
   ]
  },
  {
   "cell_type": "markdown",
   "id": "16431914",
   "metadata": {},
   "source": [
    "## Examine each feature in Dataset\n",
    "\n",
    "Each feature in TFDS is a Tensor which has dtype attribute."
   ]
  },
  {
   "cell_type": "code",
   "execution_count": 6,
   "id": "5c2c24d0",
   "metadata": {},
   "outputs": [
    {
     "name": "stdout",
     "output_type": "stream",
     "text": [
      "sex                 : <dtype: 'string'>\n",
      "age                 : <dtype: 'float32'>\n",
      "n_siblings_spouses  : <dtype: 'int32'>\n",
      "parch               : <dtype: 'int32'>\n",
      "fare                : <dtype: 'float32'>\n",
      "class               : <dtype: 'string'>\n",
      "deck                : <dtype: 'string'>\n",
      "embark_town         : <dtype: 'string'>\n",
      "alone               : <dtype: 'string'>\n",
      "label/survived      : <dtype: 'int32'>\n"
     ]
    },
    {
     "name": "stderr",
     "output_type": "stream",
     "text": [
      "2021-10-30 19:09:10.083892: I tensorflow/compiler/mlir/mlir_graph_optimization_pass.cc:176] None of the MLIR Optimization Passes are enabled (registered 2)\n",
      "2021-10-30 19:09:10.084962: I tensorflow/core/platform/profile_utils/cpu_utils.cc:114] CPU Frequency: 1996235000 Hz\n"
     ]
    }
   ],
   "source": [
    "for row in titanic.take(1):  # Take the first batch \n",
    "    features = row[0]        # Diectionary\n",
    "    label = row[1]\n",
    "    \n",
    "    for feature, value in features.items():\n",
    "        print(f\"{feature:20s}: {value.dtype}\")\n",
    "    \n",
    "    print(f\"label/survived      : {label.dtype}\")    "
   ]
  },
  {
   "cell_type": "markdown",
   "id": "d282c112",
   "metadata": {},
   "source": [
    "# TF Dataset Schema\n",
    "\n",
    "\n",
    "* [Tensorflow Dataset - what is pandas dataframe.info equivalent?\n",
    "](https://stackoverflow.com/questions/69777297/tensorflow-dataset-what-is-pandas-dataframe-info-equivalent)"
   ]
  },
  {
   "cell_type": "code",
   "execution_count": 7,
   "id": "3bd89ed0",
   "metadata": {},
   "outputs": [
    {
     "data": {
      "text/plain": [
       "(OrderedDict([('sex', TensorSpec(shape=(1,), dtype=tf.string, name=None)),\n",
       "              ('age', TensorSpec(shape=(1,), dtype=tf.float32, name=None)),\n",
       "              ('n_siblings_spouses',\n",
       "               TensorSpec(shape=(1,), dtype=tf.int32, name=None)),\n",
       "              ('parch', TensorSpec(shape=(1,), dtype=tf.int32, name=None)),\n",
       "              ('fare', TensorSpec(shape=(1,), dtype=tf.float32, name=None)),\n",
       "              ('class', TensorSpec(shape=(1,), dtype=tf.string, name=None)),\n",
       "              ('deck', TensorSpec(shape=(1,), dtype=tf.string, name=None)),\n",
       "              ('embark_town',\n",
       "               TensorSpec(shape=(1,), dtype=tf.string, name=None)),\n",
       "              ('alone', TensorSpec(shape=(1,), dtype=tf.string, name=None))]),\n",
       " TensorSpec(shape=(1,), dtype=tf.int32, name=None))"
      ]
     },
     "execution_count": 7,
     "metadata": {},
     "output_type": "execute_result"
    }
   ],
   "source": [
    "tf.data.experimental.get_structure(titanic)"
   ]
  }
 ],
 "metadata": {
  "kernelspec": {
   "display_name": "Python 3 (ipykernel)",
   "language": "python",
   "name": "python3"
  },
  "language_info": {
   "codemirror_mode": {
    "name": "ipython",
    "version": 3
   },
   "file_extension": ".py",
   "mimetype": "text/x-python",
   "name": "python",
   "nbconvert_exporter": "python",
   "pygments_lexer": "ipython3",
   "version": "3.8.10"
  }
 },
 "nbformat": 4,
 "nbformat_minor": 5
}
