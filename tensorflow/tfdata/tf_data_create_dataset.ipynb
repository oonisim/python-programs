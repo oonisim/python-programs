{
 "cells": [
  {
   "cell_type": "markdown",
   "id": "310e9f2f",
   "metadata": {},
   "source": [
    "# Create Dataset\n",
    "\n",
    "* [tf.data: Build TensorFlow input pipelines](https://www.tensorflow.org/guide/data) (MUST)\n",
    "* [Load CSV data](https://www.tensorflow.org/tutorials/load_data/csv)\n",
    "* [tf.data.experimental.make_csv_dataset](https://www.tensorflow.org/api_docs/python/tf/data/experimental/make_csv_dataset)\n"
   ]
  },
  {
   "cell_type": "code",
   "execution_count": 2,
   "id": "a3d84466",
   "metadata": {},
   "outputs": [],
   "source": [
    "import tensorflow as tf\n",
    "import pandas as pd"
   ]
  },
  {
   "cell_type": "markdown",
   "id": "37282a60",
   "metadata": {},
   "source": [
    "# Example CSV\n",
    "\n",
    "Titanic CSV."
   ]
  },
  {
   "cell_type": "code",
   "execution_count": 3,
   "id": "8c284223",
   "metadata": {},
   "outputs": [],
   "source": [
    "titanic_file = tf.keras.utils.get_file(\"titanic_train.csv\", \"https://storage.googleapis.com/tf-datasets/titanic/train.csv\")"
   ]
  },
  {
   "cell_type": "code",
   "execution_count": 4,
   "id": "fe563962",
   "metadata": {},
   "outputs": [
    {
     "name": "stdout",
     "output_type": "stream",
     "text": [
      "survived,sex,age,n_siblings_spouses,parch,fare,class,deck,embark_town,alone\r\n",
      "0,male,22.0,1,0,7.25,Third,unknown,Southampton,n\r\n",
      "1,female,38.0,1,0,71.2833,First,C,Cherbourg,n\r\n",
      "1,female,26.0,0,0,7.925,Third,unknown,Southampton,y\r\n",
      "1,female,35.0,1,0,53.1,First,C,Southampton,n\r\n"
     ]
    }
   ],
   "source": [
    "!head -n 5  ~/.keras/datasets/titanic_train.csv"
   ]
  },
  {
   "cell_type": "markdown",
   "id": "c2f6cd8c",
   "metadata": {},
   "source": [
    "# Dictionary to Dataset"
   ]
  },
  {
   "cell_type": "code",
   "execution_count": 18,
   "id": "25863a9b",
   "metadata": {},
   "outputs": [
    {
     "name": "stdout",
     "output_type": "stream",
     "text": [
      "({'name': <tf.Tensor: shape=(), dtype=string, numpy=b'hoge'>, 'age': <tf.Tensor: shape=(), dtype=int32, numpy=20>}, {'survived': <tf.Tensor: shape=(), dtype=int32, numpy=0>})\n",
      "({'name': <tf.Tensor: shape=(), dtype=string, numpy=b'tako'>, 'age': <tf.Tensor: shape=(), dtype=int32, numpy=99>}, {'survived': <tf.Tensor: shape=(), dtype=int32, numpy=1>})\n"
     ]
    }
   ],
   "source": [
    "features = {\n",
    "    \"name\": [\"hoge\", \"tako\"],\n",
    "    \"age\": [20, 99]\n",
    "}\n",
    "labels = {\n",
    "    \"survived\": [0, 1]\n",
    "}\n",
    "ds_from_dictionary = tf.data.Dataset.from_tensor_slices((features, labels))\n",
    "for record in ds_from_dictionary:\n",
    "    print(record)"
   ]
  },
  {
   "cell_type": "markdown",
   "id": "e55d9f25",
   "metadata": {},
   "source": [
    "# Pandas to Dataset\n",
    "\n",
    "If  data fits in memory, ```from_tensor_slices``` method works on dictionaries.\n",
    "\n",
    "```Pandas -> Python dictionary -> from_tensor_slices -> Dataset```"
   ]
  },
  {
   "cell_type": "code",
   "execution_count": 5,
   "id": "7ecb2715",
   "metadata": {},
   "outputs": [
    {
     "name": "stdout",
     "output_type": "stream",
     "text": [
      "<class 'pandas.core.frame.DataFrame'>\n",
      "RangeIndex: 627 entries, 0 to 626\n",
      "Data columns (total 10 columns):\n",
      " #   Column              Non-Null Count  Dtype  \n",
      "---  ------              --------------  -----  \n",
      " 0   survived            627 non-null    int64  \n",
      " 1   sex                 627 non-null    object \n",
      " 2   age                 627 non-null    float64\n",
      " 3   n_siblings_spouses  627 non-null    int64  \n",
      " 4   parch               627 non-null    int64  \n",
      " 5   fare                627 non-null    float64\n",
      " 6   class               627 non-null    object \n",
      " 7   deck                627 non-null    object \n",
      " 8   embark_town         627 non-null    object \n",
      " 9   alone               627 non-null    object \n",
      "dtypes: float64(2), int64(3), object(5)\n",
      "memory usage: 49.1+ KB\n"
     ]
    }
   ],
   "source": [
    "df = pd.read_csv(titanic_file)\n",
    "df.info()"
   ]
  },
  {
   "cell_type": "code",
   "execution_count": 33,
   "id": "84414b07",
   "metadata": {},
   "outputs": [
    {
     "data": {
      "text/plain": [
       "pandas.core.frame.DataFrame"
      ]
     },
     "execution_count": 33,
     "metadata": {},
     "output_type": "execute_result"
    }
   ],
   "source": [
    "type(df.loc[:, ['survived']])"
   ]
  },
  {
   "cell_type": "code",
   "execution_count": 44,
   "id": "2730d014",
   "metadata": {},
   "outputs": [
    {
     "name": "stdout",
     "output_type": "stream",
     "text": [
      "sex                 : [b'male']\n",
      "age                 : [22.]\n",
      "n_siblings_spouses  : [1]\n",
      "parch               : [0]\n",
      "fare                : [7.25]\n",
      "class               : [b'Third']\n",
      "deck                : [b'unknown']\n",
      "embark_town         : [b'Southampton']\n",
      "alone               : [b'n']\n",
      "label/survived      : {'survived': <tf.Tensor: shape=(1,), dtype=int64, numpy=array([0])>}\n"
     ]
    }
   ],
   "source": [
    "titanic_from_pandas = tf.data.Dataset.from_tensor_slices((\n",
    "    dict(df.loc[:, df.columns != 'survived']),\n",
    "    dict(df.loc[:, ['survived']])\n",
    "))\n",
    "for row in titanic_from_pandas.batch(1).take(1):  # Take the first batch \n",
    "    features = row[0]        # Diectionary\n",
    "    label = row[1]\n",
    "    \n",
    "    for feature, value in features.items():\n",
    "        print(f\"{feature:20s}: {value}\")\n",
    "    \n",
    "    print(f\"label/survived      : {label}\")    "
   ]
  },
  {
   "cell_type": "code",
   "execution_count": 6,
   "id": "73c35a78",
   "metadata": {},
   "outputs": [
    {
     "name": "stderr",
     "output_type": "stream",
     "text": [
      "2021-10-30 18:16:37.932451: I tensorflow/core/platform/cpu_feature_guard.cc:142] This TensorFlow binary is optimized with oneAPI Deep Neural Network Library (oneDNN) to use the following CPU instructions in performance-critical operations:  SSE4.1 SSE4.2 AVX AVX2 FMA\n",
      "To enable them in other operations, rebuild TensorFlow with the appropriate compiler flags.\n"
     ]
    },
    {
     "data": {
      "text/plain": [
       "<TakeDataset shapes: {survived: (), sex: (), age: (), n_siblings_spouses: (), parch: (), fare: (), class: (), deck: (), embark_town: (), alone: ()}, types: {survived: tf.int64, sex: tf.string, age: tf.float64, n_siblings_spouses: tf.int64, parch: tf.int64, fare: tf.float64, class: tf.string, deck: tf.string, embark_town: tf.string, alone: tf.string}>"
      ]
     },
     "execution_count": 6,
     "metadata": {},
     "output_type": "execute_result"
    }
   ],
   "source": [
    "titanic_from_pandas = tf.data.Dataset.from_tensor_slices(dict(df))\n",
    "titanic_from_pandas.take(1)"
   ]
  },
  {
   "cell_type": "markdown",
   "id": "8abf0482",
   "metadata": {},
   "source": [
    "# Read CSV into Dataset\n",
    "\n",
    "```make_csv_dataset``` method reads the csv and split them into ```(features, label)``` where ```features``` is a diectioay of ```(feature, value)```."
   ]
  },
  {
   "cell_type": "code",
   "execution_count": 42,
   "id": "58094bd1",
   "metadata": {},
   "outputs": [],
   "source": [
    "titanic = tf.data.experimental.make_csv_dataset(\n",
    "    titanic_file,\n",
    "    label_name=\"survived\",\n",
    "    batch_size=1,   # To compre with the head of CSV\n",
    "    shuffle=False,  # To compre with the head of CSV\n",
    "    header=True,\n",
    ")"
   ]
  },
  {
   "cell_type": "code",
   "execution_count": 43,
   "id": "5c2c24d0",
   "metadata": {},
   "outputs": [
    {
     "name": "stdout",
     "output_type": "stream",
     "text": [
      "sex                 : [b'male']\n",
      "age                 : [22.]\n",
      "n_siblings_spouses  : [1]\n",
      "parch               : [0]\n",
      "fare                : [7.25]\n",
      "class               : [b'Third']\n",
      "deck                : [b'unknown']\n",
      "embark_town         : [b'Southampton']\n",
      "alone               : [b'n']\n",
      "label/survived      : [0]\n"
     ]
    },
    {
     "name": "stderr",
     "output_type": "stream",
     "text": [
      "2021-10-30 18:49:14.543589: I tensorflow/compiler/mlir/mlir_graph_optimization_pass.cc:176] None of the MLIR Optimization Passes are enabled (registered 2)\n",
      "2021-10-30 18:49:14.545234: I tensorflow/core/platform/profile_utils/cpu_utils.cc:114] CPU Frequency: 1996235000 Hz\n"
     ]
    }
   ],
   "source": [
    "for row in titanic.take(1):  # Take the first batch \n",
    "    features = row[0]        # Diectionary\n",
    "    label = row[1]\n",
    "    \n",
    "    for feature, value in features.items():\n",
    "        print(f\"{feature:20s}: {value}\")\n",
    "    \n",
    "    print(f\"label/survived      : {label}\")    "
   ]
  },
  {
   "cell_type": "code",
   "execution_count": null,
   "id": "2ee99656",
   "metadata": {},
   "outputs": [],
   "source": []
  },
  {
   "cell_type": "code",
   "execution_count": null,
   "id": "fab06d15",
   "metadata": {},
   "outputs": [],
   "source": []
  },
  {
   "cell_type": "code",
   "execution_count": null,
   "id": "10fd6e62",
   "metadata": {},
   "outputs": [],
   "source": []
  }
 ],
 "metadata": {
  "kernelspec": {
   "display_name": "Python 3 (ipykernel)",
   "language": "python",
   "name": "python3"
  },
  "language_info": {
   "codemirror_mode": {
    "name": "ipython",
    "version": 3
   },
   "file_extension": ".py",
   "mimetype": "text/x-python",
   "name": "python",
   "nbconvert_exporter": "python",
   "pygments_lexer": "ipython3",
   "version": "3.8.10"
  }
 },
 "nbformat": 4,
 "nbformat_minor": 5
}
