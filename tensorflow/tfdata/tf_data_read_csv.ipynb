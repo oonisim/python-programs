{
 "cells": [
  {
   "cell_type": "markdown",
   "id": "310e9f2f",
   "metadata": {},
   "source": [
    "# Read CSV to Dataset\n",
    "\n",
    "* [Load CSV data](https://www.tensorflow.org/tutorials/load_data/csv)\n",
    "* [tf.data.experimental.make_csv_dataset](https://www.tensorflow.org/api_docs/python/tf/data/experimental/make_csv_dataset)\n"
   ]
  },
  {
   "cell_type": "code",
   "execution_count": 13,
   "id": "a3d84466",
   "metadata": {},
   "outputs": [],
   "source": [
    "import tensorflow as tf\n",
    "import pandas as pd"
   ]
  },
  {
   "cell_type": "markdown",
   "id": "37282a60",
   "metadata": {},
   "source": [
    "# Download CSV\n",
    "\n",
    "Titanic CSV."
   ]
  },
  {
   "cell_type": "code",
   "execution_count": 2,
   "id": "8c284223",
   "metadata": {},
   "outputs": [],
   "source": [
    "titanic_file = tf.keras.utils.get_file(\"titanic_train.csv\", \"https://storage.googleapis.com/tf-datasets/titanic/train.csv\")"
   ]
  },
  {
   "cell_type": "code",
   "execution_count": 3,
   "id": "fe563962",
   "metadata": {},
   "outputs": [
    {
     "name": "stdout",
     "output_type": "stream",
     "text": [
      "survived,sex,age,n_siblings_spouses,parch,fare,class,deck,embark_town,alone\r\n",
      "0,male,22.0,1,0,7.25,Third,unknown,Southampton,n\r\n",
      "1,female,38.0,1,0,71.2833,First,C,Cherbourg,n\r\n",
      "1,female,26.0,0,0,7.925,Third,unknown,Southampton,y\r\n",
      "1,female,35.0,1,0,53.1,First,C,Southampton,n\r\n"
     ]
    }
   ],
   "source": [
    "!head -n 5  ~/.keras/datasets/titanic_train.csv"
   ]
  },
  {
   "cell_type": "markdown",
   "id": "bd56eec4",
   "metadata": {},
   "source": [
    "# Examine data"
   ]
  },
  {
   "cell_type": "markdown",
   "id": "e55d9f25",
   "metadata": {},
   "source": [
    "## Pandas\n",
    "\n",
    "Preliminary check with pandas"
   ]
  },
  {
   "cell_type": "code",
   "execution_count": 20,
   "id": "7ecb2715",
   "metadata": {},
   "outputs": [
    {
     "name": "stdout",
     "output_type": "stream",
     "text": [
      "<class 'pandas.core.frame.DataFrame'>\n",
      "RangeIndex: 627 entries, 0 to 626\n",
      "Data columns (total 10 columns):\n",
      " #   Column              Non-Null Count  Dtype  \n",
      "---  ------              --------------  -----  \n",
      " 0   survived            627 non-null    int64  \n",
      " 1   sex                 627 non-null    object \n",
      " 2   age                 627 non-null    float64\n",
      " 3   n_siblings_spouses  627 non-null    int64  \n",
      " 4   parch               627 non-null    int64  \n",
      " 5   fare                627 non-null    float64\n",
      " 6   class               627 non-null    object \n",
      " 7   deck                627 non-null    object \n",
      " 8   embark_town         627 non-null    object \n",
      " 9   alone               627 non-null    object \n",
      "dtypes: float64(2), int64(3), object(5)\n",
      "memory usage: 49.1+ KB\n"
     ]
    }
   ],
   "source": [
    "df = pd.read_csv(titanic_file)\n",
    "df.info()"
   ]
  },
  {
   "cell_type": "markdown",
   "id": "8abf0482",
   "metadata": {},
   "source": [
    "## Read CSV into Datset\n",
    "\n",
    "make_csv_dataset reads the csv and split them into ```(features, label)``` where ```features``` is a diectioay of ```(feature, value)```."
   ]
  },
  {
   "cell_type": "code",
   "execution_count": 4,
   "id": "58094bd1",
   "metadata": {},
   "outputs": [
    {
     "name": "stderr",
     "output_type": "stream",
     "text": [
      "2021-10-30 17:12:30.645611: I tensorflow/core/platform/cpu_feature_guard.cc:142] This TensorFlow binary is optimized with oneAPI Deep Neural Network Library (oneDNN) to use the following CPU instructions in performance-critical operations:  SSE4.1 SSE4.2 AVX AVX2 FMA\n",
      "To enable them in other operations, rebuild TensorFlow with the appropriate compiler flags.\n"
     ]
    }
   ],
   "source": [
    "titanic = tf.data.experimental.make_csv_dataset(\n",
    "    titanic_file,\n",
    "    label_name=\"survived\",\n",
    "    batch_size=1,   # To compre with the head of CSV\n",
    "    shuffle=False,  # To compre with the head of CSV\n",
    "    header=True,\n",
    ")"
   ]
  },
  {
   "cell_type": "code",
   "execution_count": 5,
   "id": "a28cb057",
   "metadata": {},
   "outputs": [],
   "source": [
    "#iterator = titanic.as_numpy_iterator()\n",
    "#print(next(iterator))"
   ]
  },
  {
   "cell_type": "code",
   "execution_count": 6,
   "id": "5c2c24d0",
   "metadata": {},
   "outputs": [
    {
     "name": "stdout",
     "output_type": "stream",
     "text": [
      "sex                 : [b'male']\n",
      "age                 : [22.]\n",
      "n_siblings_spouses  : [1]\n",
      "parch               : [0]\n",
      "fare                : [7.25]\n",
      "class               : [b'Third']\n",
      "deck                : [b'unknown']\n",
      "embark_town         : [b'Southampton']\n",
      "alone               : [b'n']\n",
      "label/survived      : [0]\n"
     ]
    },
    {
     "name": "stderr",
     "output_type": "stream",
     "text": [
      "2021-10-30 17:12:31.150104: I tensorflow/compiler/mlir/mlir_graph_optimization_pass.cc:176] None of the MLIR Optimization Passes are enabled (registered 2)\n",
      "2021-10-30 17:12:31.157728: I tensorflow/core/platform/profile_utils/cpu_utils.cc:114] CPU Frequency: 1996235000 Hz\n"
     ]
    }
   ],
   "source": [
    "for row in titanic.take(1):  # Take the first batch \n",
    "    features = row[0]        # Diectionary\n",
    "    label = row[1]\n",
    "    \n",
    "    for feature, value in features.items():\n",
    "        print(f\"{feature:20s}: {value}\")\n",
    "    \n",
    "    print(f\"label/survived      : {label}\")    "
   ]
  },
  {
   "cell_type": "markdown",
   "id": "227490d1",
   "metadata": {},
   "source": [
    "# Create TF Dataset for training\n",
    "\n",
    "* Shaffled\n",
    "* Batched\n",
    "* Split to ```(features, label)```"
   ]
  },
  {
   "cell_type": "code",
   "execution_count": 11,
   "id": "7fe5892f",
   "metadata": {},
   "outputs": [
    {
     "data": {
      "text/plain": [
       "['_GeneratorState',\n",
       " '__abstractmethods__',\n",
       " '__bool__',\n",
       " '__class__',\n",
       " '__delattr__',\n",
       " '__dict__',\n",
       " '__dir__',\n",
       " '__doc__',\n",
       " '__eq__',\n",
       " '__format__',\n",
       " '__ge__',\n",
       " '__getattribute__',\n",
       " '__gt__',\n",
       " '__hash__',\n",
       " '__init__',\n",
       " '__init_subclass__',\n",
       " '__iter__',\n",
       " '__le__',\n",
       " '__len__',\n",
       " '__lt__',\n",
       " '__module__',\n",
       " '__ne__',\n",
       " '__new__',\n",
       " '__nonzero__',\n",
       " '__reduce__',\n",
       " '__reduce_ex__',\n",
       " '__repr__',\n",
       " '__setattr__',\n",
       " '__sizeof__',\n",
       " '__slots__',\n",
       " '__str__',\n",
       " '__subclasshook__',\n",
       " '__weakref__',\n",
       " '_abc_impl',\n",
       " '_add_variable_with_custom_getter',\n",
       " '_apply_options',\n",
       " '_as_serialized_graph',\n",
       " '_buffer_size',\n",
       " '_checkpoint_dependencies',\n",
       " '_consumers',\n",
       " '_deferred_dependencies',\n",
       " '_flat_shapes',\n",
       " '_flat_structure',\n",
       " '_flat_types',\n",
       " '_functions',\n",
       " '_gather_saveables_for_checkpoint',\n",
       " '_graph',\n",
       " '_graph_attr',\n",
       " '_handle_deferred_dependencies',\n",
       " '_has_captured_ref',\n",
       " '_input_dataset',\n",
       " '_inputs',\n",
       " '_list_extra_dependencies_for_serialization',\n",
       " '_list_functions_for_serialization',\n",
       " '_lookup_dependency',\n",
       " '_map_resources',\n",
       " '_maybe_initialize_trackable',\n",
       " '_name_based_attribute_restore',\n",
       " '_name_based_restores',\n",
       " '_no_dependency',\n",
       " '_object_identifier',\n",
       " '_options',\n",
       " '_options_attr',\n",
       " '_options_tensor_to_options',\n",
       " '_preload_simple_restoration',\n",
       " '_restore_from_checkpoint_position',\n",
       " '_self_name_based_restores',\n",
       " '_self_saveable_object_factories',\n",
       " '_self_setattr_tracking',\n",
       " '_self_unconditional_checkpoint_dependencies',\n",
       " '_self_unconditional_deferred_dependencies',\n",
       " '_self_unconditional_dependency_names',\n",
       " '_self_update_uid',\n",
       " '_setattr_tracking',\n",
       " '_shape_invariant_to_type_spec',\n",
       " '_single_restoration_from_checkpoint_position',\n",
       " '_tf_api_names',\n",
       " '_tf_api_names_v1',\n",
       " '_trace_variant_creation',\n",
       " '_track_trackable',\n",
       " '_tracking_metadata',\n",
       " '_type_spec',\n",
       " '_unconditional_checkpoint_dependencies',\n",
       " '_unconditional_dependency_names',\n",
       " '_update_uid',\n",
       " '_variant_tensor',\n",
       " '_variant_tensor_attr',\n",
       " '_variant_tracker',\n",
       " 'apply',\n",
       " 'as_numpy_iterator',\n",
       " 'batch',\n",
       " 'cache',\n",
       " 'cardinality',\n",
       " 'concatenate',\n",
       " 'element_spec',\n",
       " 'enumerate',\n",
       " 'filter',\n",
       " 'flat_map',\n",
       " 'from_generator',\n",
       " 'from_tensor_slices',\n",
       " 'from_tensors',\n",
       " 'interleave',\n",
       " 'list_files',\n",
       " 'map',\n",
       " 'options',\n",
       " 'padded_batch',\n",
       " 'prefetch',\n",
       " 'range',\n",
       " 'reduce',\n",
       " 'repeat',\n",
       " 'shard',\n",
       " 'shuffle',\n",
       " 'skip',\n",
       " 'take',\n",
       " 'unbatch',\n",
       " 'window',\n",
       " 'with_options',\n",
       " 'zip']"
      ]
     },
     "execution_count": 11,
     "metadata": {},
     "output_type": "execute_result"
    }
   ],
   "source": [
    "titanic = tf.data.experimental.make_csv_dataset(\n",
    "    titanic_file,\n",
    "    label_name=\"survived\",\n",
    "    batch_size=32,\n",
    "    shuffle=True,\n",
    "    header=True,\n",
    ")\n",
    "dir(titanic)"
   ]
  },
  {
   "cell_type": "code",
   "execution_count": null,
   "id": "2ee99656",
   "metadata": {},
   "outputs": [],
   "source": []
  }
 ],
 "metadata": {
  "kernelspec": {
   "display_name": "Python 3 (ipykernel)",
   "language": "python",
   "name": "python3"
  },
  "language_info": {
   "codemirror_mode": {
    "name": "ipython",
    "version": 3
   },
   "file_extension": ".py",
   "mimetype": "text/x-python",
   "name": "python",
   "nbconvert_exporter": "python",
   "pygments_lexer": "ipython3",
   "version": "3.8.10"
  }
 },
 "nbformat": 4,
 "nbformat_minor": 5
}
