{
 "cells": [
  {
   "cell_type": "code",
   "execution_count": 1,
   "id": "69c336f3",
   "metadata": {},
   "outputs": [
    {
     "data": {
      "text/html": [
       "<style>\n",
       "table {float:left}\n",
       "</style>\n"
      ],
      "text/plain": [
       "<IPython.core.display.HTML object>"
      ]
     },
     "metadata": {},
     "output_type": "display_data"
    }
   ],
   "source": [
    "%%html\n",
    "<style>\n",
    "table {float:left}\n",
    "</style>"
   ]
  },
  {
   "cell_type": "markdown",
   "id": "7271b71b",
   "metadata": {},
   "source": [
    "| TF_CPP_MIN_LOG_LEVEL | Description|          \n",
    "| - |------------- | \n",
    "|0| Suppress all messages are logged (default behavior)|\n",
    "|1 |Suppress INFO messages are not printed|\n",
    "|2 |Suppress INFO and WARNING messages are not printed|\n",
    "|3 |Suppress INFO, WARNING, and ERROR messages are not printed|\n"
   ]
  },
  {
   "cell_type": "code",
   "execution_count": 3,
   "id": "8e309b46",
   "metadata": {},
   "outputs": [],
   "source": [
    "import os\n",
    "import tensorflow as tf\n",
    "os.environ['TF_CPP_MIN_LOG_LEVEL'] = '3'"
   ]
  },
  {
   "cell_type": "code",
   "execution_count": null,
   "id": "e12bf88e",
   "metadata": {},
   "outputs": [],
   "source": []
  }
 ],
 "metadata": {
  "kernelspec": {
   "display_name": "Python 3",
   "language": "python",
   "name": "python3"
  },
  "language_info": {
   "codemirror_mode": {
    "name": "ipython",
    "version": 3
   },
   "file_extension": ".py",
   "mimetype": "text/x-python",
   "name": "python",
   "nbconvert_exporter": "python",
   "pygments_lexer": "ipython3",
   "version": "3.8.8"
  }
 },
 "nbformat": 4,
 "nbformat_minor": 5
}
