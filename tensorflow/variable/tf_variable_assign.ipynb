{
 "cells": [
  {
   "cell_type": "code",
   "execution_count": 1,
   "id": "61e7658f",
   "metadata": {},
   "outputs": [],
   "source": [
    "import numpy as np\n",
    "import tensorflow as tf"
   ]
  },
  {
   "cell_type": "code",
   "execution_count": 5,
   "id": "9a175648",
   "metadata": {},
   "outputs": [
    {
     "data": {
      "text/plain": [
       "<tf.Variable 'Variable:0' shape=(2, 3, 4) dtype=int64, numpy=\n",
       "array([[[ 0,  1,  2,  3],\n",
       "        [ 4,  5,  6,  7],\n",
       "        [ 8,  9, 10, 11]],\n",
       "\n",
       "       [[12, 13, 14, 15],\n",
       "        [16, 17, 18, 19],\n",
       "        [20, 21, 22, 23]]])>"
      ]
     },
     "execution_count": 5,
     "metadata": {},
     "output_type": "execute_result"
    }
   ],
   "source": [
    "x = tf.Variable(np.arange(24).reshape(2, 3,4))\n",
    "x"
   ]
  },
  {
   "cell_type": "markdown",
   "id": "a180e77f",
   "metadata": {},
   "source": [
    "# Update slice "
   ]
  },
  {
   "cell_type": "code",
   "execution_count": 7,
   "id": "a0093f18",
   "metadata": {},
   "outputs": [
    {
     "data": {
      "text/plain": [
       "<tf.Variable 'Variable:0' shape=(2, 3, 4) dtype=int64, numpy=\n",
       "array([[[ 0, -1, -2,  3],\n",
       "        [ 4, -1, -2,  7],\n",
       "        [ 8, -1, -2, 11]],\n",
       "\n",
       "       [[12, -1, -2, 15],\n",
       "        [16, -1, -2, 19],\n",
       "        [20, -1, -2, 23]]])>"
      ]
     },
     "execution_count": 7,
     "metadata": {},
     "output_type": "execute_result"
    }
   ],
   "source": [
    "x[..., 1:3].assign([-1, -2])\n",
    "x"
   ]
  },
  {
   "cell_type": "markdown",
   "id": "c356c27c",
   "metadata": {},
   "source": [
    "# Update rectanble"
   ]
  },
  {
   "cell_type": "code",
   "execution_count": 12,
   "id": "dcc2bd83",
   "metadata": {},
   "outputs": [
    {
     "data": {
      "text/plain": [
       "<tf.Variable 'Variable:0' shape=(5, 5) dtype=float32, numpy=\n",
       "array([[0., 0., 0., 0., 0.],\n",
       "       [0., 0., 0., 0., 0.],\n",
       "       [0., 0., 0., 0., 0.],\n",
       "       [0., 0., 0., 0., 0.],\n",
       "       [0., 0., 0., 0., 0.]], dtype=float32)>"
      ]
     },
     "execution_count": 12,
     "metadata": {},
     "output_type": "execute_result"
    }
   ],
   "source": [
    "x: tf.Variable = tf.Variable(np.zeros(shape=(5,5), dtype=np.float32))\n",
    "x"
   ]
  },
  {
   "cell_type": "code",
   "execution_count": 16,
   "id": "e4ce75c6",
   "metadata": {},
   "outputs": [
    {
     "data": {
      "text/plain": [
       "<tf.Variable 'UnreadVariable' shape=(5, 5) dtype=float32, numpy=\n",
       "array([[0., 0., 0., 0., 0.],\n",
       "       [0., 1., 1., 1., 0.],\n",
       "       [0., 1., 1., 1., 0.],\n",
       "       [0., 1., 1., 1., 0.],\n",
       "       [0., 0., 0., 0., 0.]], dtype=float32)>"
      ]
     },
     "execution_count": 16,
     "metadata": {},
     "output_type": "execute_result"
    }
   ],
   "source": [
    "x[1:4,1:4].assign([[1,1,1], [1,1,1], [1,1,1]])"
   ]
  },
  {
   "cell_type": "code",
   "execution_count": 21,
   "id": "9c48f1ee",
   "metadata": {},
   "outputs": [
    {
     "data": {
      "text/plain": [
       "<tf.Variable 'UnreadVariable' shape=(5, 5) dtype=float32, numpy=\n",
       "array([[ 0.,  0., -1., -1., -1.],\n",
       "       [ 0.,  1.,  1.,  1.,  0.],\n",
       "       [ 0.,  1.,  1.,  1.,  0.],\n",
       "       [ 0.,  1.,  1.,  1.,  0.],\n",
       "       [ 0.,  0.,  0.,  0.,  0.]], dtype=float32)>"
      ]
     },
     "execution_count": 21,
     "metadata": {},
     "output_type": "execute_result"
    }
   ],
   "source": [
    "x[0, 2:].assign(tf.constant([-1,-1,-1], dtype=np.float32))"
   ]
  },
  {
   "cell_type": "code",
   "execution_count": null,
   "id": "802718b0",
   "metadata": {},
   "outputs": [],
   "source": []
  }
 ],
 "metadata": {
  "kernelspec": {
   "display_name": "Python 3 (ipykernel)",
   "language": "python",
   "name": "python3"
  },
  "language_info": {
   "codemirror_mode": {
    "name": "ipython",
    "version": 3
   },
   "file_extension": ".py",
   "mimetype": "text/x-python",
   "name": "python",
   "nbconvert_exporter": "python",
   "pygments_lexer": "ipython3",
   "version": "3.9.13"
  }
 },
 "nbformat": 4,
 "nbformat_minor": 5
}
