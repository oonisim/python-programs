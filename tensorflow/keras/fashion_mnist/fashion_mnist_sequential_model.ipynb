{
 "cells": [
  {
   "cell_type": "code",
   "execution_count": 1,
   "metadata": {},
   "outputs": [],
   "source": [
    "# !conda install -y pandas"
   ]
  },
  {
   "cell_type": "code",
   "execution_count": 3,
   "metadata": {},
   "outputs": [
    {
     "name": "stdout",
     "output_type": "stream",
     "text": [
      "TensorFlow version: 2.2.0\n",
      "Eager execution is: True\n",
      "Keras version: 2.3.0-tf\n"
     ]
    }
   ],
   "source": [
    "import tensorflow as tf\n",
    "print(\"TensorFlow version: {}\".format(tf.__version__))\n",
    "print(\"Eager execution is: {}\".format(tf.executing_eagerly()))\n",
    "print(\"Keras version: {}\".format(tf.keras.__version__))\n",
    "\n",
    "import pandas as pd\n",
    "import numpy as np\n",
    "import scipy as sp\n",
    "import matplotlib as mpl\n",
    "import matplotlib.pyplot as plt"
   ]
  },
  {
   "cell_type": "markdown",
   "metadata": {},
   "source": [
    "# Fashion MNIST\n",
    "<img src=\"images/fashion_mnist.png\"\n",
    "     alt=\"Markdown Monster icon\"\n",
    "     style=\"float: left; margin-right: 10px;\" \n",
    "     width=850/>"
   ]
  },
  {
   "cell_type": "markdown",
   "metadata": {},
   "source": [
    "## MNIST Utilities"
   ]
  },
  {
   "cell_type": "code",
   "execution_count": 4,
   "metadata": {},
   "outputs": [],
   "source": [
    "def plot_mnist_image(image, width, height):\n",
    "    reshaped = image.reshape(28, 28)\n",
    "    plt.imshow(reshaped, cmap=\"binary\")\n",
    "    plt.axis(\"off\")\n",
    "    \n",
    "def plot_mnist_images(instances, width=28, height=28,images_per_row=5, **options):\n",
    "    size = width\n",
    "    images_per_row = min(len(instances), images_per_row)\n",
    "    images = [instance.reshape(width,height) for instance in instances]\n",
    "    n_rows = (len(instances) - 1) // images_per_row + 1\n",
    "    row_images = []\n",
    "    n_empty = n_rows * images_per_row - len(instances)\n",
    "    images.append(np.zeros((width, width * n_empty)))\n",
    "    for row in range(n_rows):\n",
    "        rimages = images[row * images_per_row : (row + 1) * images_per_row]\n",
    "        row_images.append(np.concatenate(rimages, axis=1))\n",
    "    image = np.concatenate(row_images, axis=0)\n",
    "    plt.imshow(image, cmap = mpl.cm.binary, **options)\n",
    "    plt.axis(\"off\")"
   ]
  },
  {
   "cell_type": "markdown",
   "metadata": {},
   "source": [
    "## Data"
   ]
  },
  {
   "cell_type": "code",
   "execution_count": 5,
   "metadata": {},
   "outputs": [],
   "source": [
    "image_width = 28\n",
    "image_height = 28"
   ]
  },
  {
   "cell_type": "code",
   "execution_count": 6,
   "metadata": {},
   "outputs": [],
   "source": [
    "fashion_mnist = tf.keras.datasets.fashion_mnist\n",
    "(x_train, y_train), (x_test, y_test) = fashion_mnist.load_data()"
   ]
  },
  {
   "cell_type": "code",
   "execution_count": 7,
   "metadata": {},
   "outputs": [
    {
     "data": {
      "image/png": "[encoded data removed]",
      "text/plain": [
       "<Figure size 432x288 with 1 Axes>"
      ]
     },
     "metadata": {
      "needs_background": "light"
     },
     "output_type": "display_data"
    }
   ],
   "source": [
    "%matplotlib inline\n",
    "plot_mnist_image(x_train[0], image_width, image_height)\n",
    "plt.show()"
   ]
  },
  {
   "cell_type": "code",
   "execution_count": 8,
   "metadata": {},
   "outputs": [
    {
     "data": {
      "image/png": "[encoded data removed]",
      "text/plain": [
       "<Figure size 432x288 with 1 Axes>"
      ]
     },
     "metadata": {
      "needs_background": "light"
     },
     "output_type": "display_data"
    }
   ],
   "source": [
    "plot_mnist_images(x_train[0:5], image_width, image_height)"
   ]
  },
  {
   "cell_type": "markdown",
   "metadata": {},
   "source": [
    "# Training"
   ]
  },
  {
   "cell_type": "code",
   "execution_count": 9,
   "metadata": {},
   "outputs": [],
   "source": [
    "from tensorflow.keras.models import Sequential\n",
    "from tensorflow.keras.layers import Dense, Dropout, Flatten, BatchNormalization\n",
    "from tensorflow.keras.layers import Conv2D, MaxPooling2D\n",
    "from tensorflow.keras.layers.experimental.preprocessing import Normalization\n",
    "from tensorflow.keras import backend as K"
   ]
  },
  {
   "cell_type": "markdown",
   "metadata": {},
   "source": [
    "## Data Normalization"
   ]
  },
  {
   "cell_type": "code",
   "execution_count": 10,
   "metadata": {},
   "outputs": [
    {
     "name": "stdout",
     "output_type": "stream",
     "text": [
      "number_of_classes 10\n"
     ]
    }
   ],
   "source": [
    "number_of_classes = len(set(y_train))\n",
    "print(\"number_of_classes\", number_of_classes)"
   ]
  },
  {
   "cell_type": "code",
   "execution_count": 11,
   "metadata": {},
   "outputs": [
    {
     "name": "stdout",
     "output_type": "stream",
     "text": [
      "(70000, 28, 28)\n",
      "<class 'numpy.ndarray'>\n",
      "(60000, 28, 28)\n",
      "float64\n",
      "(60000,)\n",
      "uint8\n"
     ]
    }
   ],
   "source": [
    "#x_train, x_test = tf.cast(x_train, tf.float32), tf.cast(x_test, tf.float32)\n",
    "x_train = x_train / 1.0\n",
    "x_test = x_test / 1.0\n",
    "x_full = np.concatenate((x_train, x_test), axis=0)\n",
    "print(x_full.shape)\n",
    "\n",
    "print(type(x_train))\n",
    "print(x_train.shape)\n",
    "print(x_train.dtype)\n",
    "print(y_train.shape)\n",
    "print(y_train.dtype)"
   ]
  },
  {
   "cell_type": "markdown",
   "metadata": {},
   "source": [
    "### Normalise"
   ]
  },
  {
   "cell_type": "code",
   "execution_count": 12,
   "metadata": {},
   "outputs": [],
   "source": [
    "normalization = Normalization()\n",
    "normalization.adapt(x_full)"
   ]
  },
  {
   "cell_type": "markdown",
   "metadata": {},
   "source": [
    "## Train\n",
    "* C: Convolution layer\n",
    "* P: Pooling layer\n",
    "* B: Batch normalization layer\n",
    "* F: Fully connected layer\n",
    "* O: Output fully connected softmax layer"
   ]
  },
  {
   "cell_type": "code",
   "execution_count": 13,
   "metadata": {},
   "outputs": [],
   "source": [
    "# Reshape data based on channels first / channels last strategy.\n",
    "# This is dependent on whether you use TF, Theano or CNTK as backend.\n",
    "# Source: https://github.com/keras-team/keras/blob/master/examples/mnist_cnn.py\n",
    "if K.image_data_format() == 'channels_first':\n",
    "    x = x_train.reshape(x_train.shape[0], 1, image_width, image_height)\n",
    "    x_test = x_test.reshape(x_test.shape[0], 1, image_width, image_height)\n",
    "    input_shape = (1, image_width, image_height)\n",
    "else:\n",
    "    x_train = x_train.reshape(x_train.shape[0], image_width, image_height, 1)\n",
    "    x_test = x_test.reshape(x_test.shape[0], image_width, image_height, 1)\n",
    "    input_shape = (image_width, image_height, 1)"
   ]
  },
  {
   "cell_type": "markdown",
   "metadata": {},
   "source": [
    "### Training Utilities"
   ]
  },
  {
   "cell_type": "code",
   "execution_count": 38,
   "metadata": {},
   "outputs": [
    {
     "name": "stdout",
     "output_type": "stream",
     "text": [
      "/home/oonisim/home/repositories/git/oonisim/tensorflow/keras_experiments/fashion_mnist/logs\n"
     ]
    }
   ],
   "source": [
    "# tensorboard --logdir=/full_path_to_your_logs\n",
    "\n",
    "import os\n",
    "log_dir = os.getcwd() + os.path.sep + \"logs\"\n",
    "print(log_dir)"
   ]
  },
  {
   "cell_type": "code",
   "execution_count": 46,
   "metadata": {},
   "outputs": [],
   "source": [
    "tensorboard_callback = tf.keras.callbacks.TensorBoard(\n",
    "    log_dir=log_dir,\n",
    "    write_graph=True,\n",
    "    write_images=True,\n",
    "    histogram_freq=1,  # How often to log histogram visualizations\n",
    "    embeddings_freq=1,  # How often to log embedding visualizations\n",
    "    update_freq=\"epoch\",\n",
    ")  # How often to write logs (default: once per epoch)"
   ]
  },
  {
   "cell_type": "code",
   "execution_count": 47,
   "metadata": {},
   "outputs": [],
   "source": [
    "batch_size = 500\n",
    "number_of_epochs = 10\n",
    "validation_split = 0.2\n",
    "verbosity = 1\n",
    "use_multiprocessing = True\n",
    "workers = 4\n",
    "\n",
    "def train(model, x, y):\n",
    "    model.compile(\n",
    "        optimizer='adam', \n",
    "        loss=tf.keras.losses.sparse_categorical_crossentropy, \n",
    "        metrics=['accuracy']\n",
    "    )\n",
    "    history = model.fit(\n",
    "        x, \n",
    "        y,\n",
    "        shuffle=True,\n",
    "        batch_size=batch_size,\n",
    "        epochs=number_of_epochs,\n",
    "        validation_split=validation_split,\n",
    "        use_multiprocessing=use_multiprocessing,\n",
    "        workers=workers,\n",
    "        verbose=verbosity,\n",
    "        callbacks=[\n",
    "            tensorboard_callback\n",
    "        ]\n",
    "    )\n",
    "    return(history)"
   ]
  },
  {
   "cell_type": "markdown",
   "metadata": {},
   "source": [
    "### Train CPBFO model  (F/ReLU/He)"
   ]
  },
  {
   "cell_type": "code",
   "execution_count": 49,
   "metadata": {},
   "outputs": [
    {
     "name": "stdout",
     "output_type": "stream",
     "text": [
      "Epoch 1/10\n",
      "96/96 [==============================] - 66s 686ms/step - loss: 0.4840 - accuracy: 0.8505 - val_loss: 1.0060 - val_accuracy: 0.6546\n",
      "Epoch 2/10\n",
      "96/96 [==============================] - 68s 708ms/step - loss: 0.2416 - accuracy: 0.9136 - val_loss: 0.2971 - val_accuracy: 0.8957\n",
      "Epoch 3/10\n",
      "96/96 [==============================] - 71s 736ms/step - loss: 0.1846 - accuracy: 0.9326 - val_loss: 0.2752 - val_accuracy: 0.9046\n",
      "Epoch 4/10\n",
      "96/96 [==============================] - 85s 886ms/step - loss: 0.1390 - accuracy: 0.9495 - val_loss: 0.3535 - val_accuracy: 0.8853\n",
      "Epoch 5/10\n",
      "96/96 [==============================] - 64s 669ms/step - loss: 0.1105 - accuracy: 0.9587 - val_loss: 0.3259 - val_accuracy: 0.9007\n",
      "Epoch 6/10\n",
      "96/96 [==============================] - 74s 767ms/step - loss: 0.0873 - accuracy: 0.9681 - val_loss: 0.4010 - val_accuracy: 0.8878\n",
      "Epoch 7/10\n",
      "96/96 [==============================] - 67s 702ms/step - loss: 0.0743 - accuracy: 0.9742 - val_loss: 0.4386 - val_accuracy: 0.8701\n",
      "Epoch 8/10\n",
      "96/96 [==============================] - 65s 681ms/step - loss: 0.0618 - accuracy: 0.9786 - val_loss: 0.4568 - val_accuracy: 0.8827\n",
      "Epoch 9/10\n",
      "96/96 [==============================] - 67s 699ms/step - loss: 0.0513 - accuracy: 0.9825 - val_loss: 0.3648 - val_accuracy: 0.9082\n",
      "Epoch 10/10\n",
      "96/96 [==============================] - 74s 768ms/step - loss: 0.0405 - accuracy: 0.9872 - val_loss: 0.4207 - val_accuracy: 0.8959\n",
      "<tensorflow.python.keras.callbacks.History object at 0x7fa1e83de990>\n",
      "100/100 [==============================] - 11s 107ms/step - loss: 0.4503 - accuracy: 0.8908\n",
      "test loss, test accuracy: [0.45027992129325867, 0.8907999992370605]\n"
     ]
    }
   ],
   "source": [
    "model = Sequential([\n",
    "    normalization,\n",
    "    Conv2D(\n",
    "        name=\"conv01\",\n",
    "        filters=32, \n",
    "        kernel_size=(3, 3), \n",
    "        strides=(1, 1), \n",
    "        padding=\"same\",\n",
    "        activation='relu', \n",
    "        input_shape=input_shape\n",
    "    ),\n",
    "    MaxPooling2D(\n",
    "        name=\"pool01\",\n",
    "        pool_size=(2, 2)\n",
    "    ),\n",
    "    Flatten(),                                        # 3D shape to 1D.\n",
    "    BatchNormalization(\n",
    "        name=\"batch_before_full01\"\n",
    "    ),\n",
    "    Dense(\n",
    "        name=\"full01\", \n",
    "        units=300, \n",
    "        activation=\"relu\"\n",
    "    ),     # Fully connected layer \n",
    "    Dense(\n",
    "        name=\"output_softmax\", \n",
    "        units=number_of_classes, \n",
    "        activation=\"softmax\"\n",
    "    )\n",
    "])\n",
    "\n",
    "history = train(model, x_train, y_train)\n",
    "print(history)\n",
    "results = model.evaluate(x_test, y_test, batch_size=100)\n",
    "print(\"test loss, test accuracy:\", results)"
   ]
  },
  {
   "cell_type": "markdown",
   "metadata": {},
   "source": [
    "### Train CPBCPBFO model (F/ReLU/He)"
   ]
  },
  {
   "cell_type": "code",
   "execution_count": 2,
   "metadata": {},
   "outputs": [
    {
     "ename": "NameError",
     "evalue": "name 'Sequential' is not defined",
     "output_type": "error",
     "traceback": [
      "\u001b[0;31m---------------------------------------------------------------------------\u001b[0m",
      "\u001b[0;31mNameError\u001b[0m                                 Traceback (most recent call last)",
      "\u001b[0;32m<ipython-input-2-1b246312e307>\u001b[0m in \u001b[0;36m<module>\u001b[0;34m\u001b[0m\n\u001b[0;32m----> 1\u001b[0;31m model = Sequential([\n\u001b[0m\u001b[1;32m      2\u001b[0m     \u001b[0mnormalization\u001b[0m\u001b[0;34m,\u001b[0m\u001b[0;34m\u001b[0m\u001b[0;34m\u001b[0m\u001b[0m\n\u001b[1;32m      3\u001b[0m     Conv2D(\n\u001b[1;32m      4\u001b[0m         \u001b[0mname\u001b[0m\u001b[0;34m=\u001b[0m\u001b[0;34m\"conv_01\"\u001b[0m\u001b[0;34m,\u001b[0m\u001b[0;34m\u001b[0m\u001b[0;34m\u001b[0m\u001b[0m\n\u001b[1;32m      5\u001b[0m         \u001b[0mfilters\u001b[0m\u001b[0;34m=\u001b[0m\u001b[0;36m32\u001b[0m\u001b[0;34m,\u001b[0m\u001b[0;34m\u001b[0m\u001b[0;34m\u001b[0m\u001b[0m\n",
      "\u001b[0;31mNameError\u001b[0m: name 'Sequential' is not defined"
     ]
    }
   ],
   "source": [
    "model = Sequential([\n",
    "    normalization,\n",
    "    Conv2D(\n",
    "        name=\"conv_01\",\n",
    "        filters=32, \n",
    "        kernel_size=(3, 3), \n",
    "        strides=(1, 1), \n",
    "        padding=\"same\",\n",
    "        activation='relu', \n",
    "        input_shape=input_shape\n",
    "    ),\n",
    "    MaxPooling2D(                                     \n",
    "        pool_size=(2, 2)\n",
    "    ),\n",
    "    BatchNormalization(),\n",
    "    Conv2D(                                           \n",
    "        filters=64, \n",
    "        kernel_size=(3, 3), \n",
    "        strides=(1, 1), \n",
    "        padding=\"same\",\n",
    "        activation='relu', \n",
    "        input_shape=input_shape\n",
    "    ),\n",
    "    MaxPooling2D(                                     \n",
    "        pool_size=(2, 2)\n",
    "    ),\n",
    "    Flatten(),                                        # 3D shape to 1D.\n",
    "    BatchNormalization(),\n",
    "    Dense(300, activation=\"relu\"),                    # Fully connected layer \n",
    "    Dense(number_of_classes, activation=\"softmax\")\n",
    "])\n",
    "model.layers\n",
    "\n",
    "train(model, x_train, y_train)"
   ]
  },
  {
   "cell_type": "markdown",
   "metadata": {},
   "source": [
    "### Train CPBCPBFBFO model (F/ReLU/He)"
   ]
  },
  {
   "cell_type": "code",
   "execution_count": 16,
   "metadata": {},
   "outputs": [
    {
     "name": "stdout",
     "output_type": "stream",
     "text": [
      "Epoch 1/10\n",
      "96/96 [==============================] - 84s 875ms/step - loss: 0.3845 - accuracy: 0.8624 - val_loss: 1.5212 - val_accuracy: 0.4525\n",
      "Epoch 2/10\n",
      "96/96 [==============================] - 81s 847ms/step - loss: 0.2319 - accuracy: 0.9156 - val_loss: 1.8814 - val_accuracy: 0.4304\n",
      "Epoch 3/10\n",
      "96/96 [==============================] - 78s 818ms/step - loss: 0.1837 - accuracy: 0.9337 - val_loss: 1.5232 - val_accuracy: 0.5142\n",
      "Epoch 4/10\n",
      "96/96 [==============================] - 111s 1s/step - loss: 0.1499 - accuracy: 0.9449 - val_loss: 0.6288 - val_accuracy: 0.7786\n",
      "Epoch 5/10\n",
      "96/96 [==============================] - 103s 1s/step - loss: 0.1193 - accuracy: 0.9571 - val_loss: 0.3661 - val_accuracy: 0.8723\n",
      "Epoch 6/10\n",
      "96/96 [==============================] - 92s 961ms/step - loss: 0.0976 - accuracy: 0.9652 - val_loss: 0.2755 - val_accuracy: 0.9093\n",
      "Epoch 7/10\n",
      "96/96 [==============================] - 91s 952ms/step - loss: 0.0745 - accuracy: 0.9738 - val_loss: 0.2719 - val_accuracy: 0.9139\n",
      "Epoch 8/10\n",
      "96/96 [==============================] - 80s 837ms/step - loss: 0.0649 - accuracy: 0.9762 - val_loss: 0.3230 - val_accuracy: 0.9046\n",
      "Epoch 9/10\n",
      "96/96 [==============================] - 94s 980ms/step - loss: 0.0516 - accuracy: 0.9825 - val_loss: 0.3149 - val_accuracy: 0.9105\n",
      "Epoch 10/10\n",
      "96/96 [==============================] - 96s 999ms/step - loss: 0.0431 - accuracy: 0.9849 - val_loss: 0.3108 - val_accuracy: 0.9162\n"
     ]
    }
   ],
   "source": [
    "model = Sequential([\n",
    "    normalization,\n",
    "    Conv2D(                                           \n",
    "        filters=32, \n",
    "        kernel_size=(3, 3), \n",
    "        strides=(1, 1), \n",
    "        padding=\"same\",\n",
    "        activation='relu', \n",
    "        input_shape=input_shape\n",
    "    ),\n",
    "    MaxPooling2D(                                     \n",
    "        pool_size=(2, 2)\n",
    "    ),\n",
    "    BatchNormalization(),\n",
    "    Conv2D(                                           \n",
    "        filters=64, \n",
    "        kernel_size=(3, 3), \n",
    "        strides=(1, 1), \n",
    "        padding=\"same\",\n",
    "        activation='relu', \n",
    "        input_shape=input_shape\n",
    "    ),\n",
    "    MaxPooling2D(                                     \n",
    "        pool_size=(2, 2)\n",
    "    ),\n",
    "    Flatten(),                                        # 3D shape to 1D.\n",
    "    BatchNormalization(),\n",
    "    Dense(300, activation=\"relu\"),                    # Fully connected layer \n",
    "    BatchNormalization(),\n",
    "    Dense(200, activation=\"relu\"),                    # Fully connected layer \n",
    "    Dense(number_of_classes, activation=\"softmax\")    # Output layer\n",
    "])\n",
    "\n",
    "train(model, x_train, y_train)"
   ]
  },
  {
   "cell_type": "markdown",
   "metadata": {},
   "source": [
    "### Train CPBFO model  (F/SELU/LeCun)\n",
    "SELU activation + LeCun initialization at Fully connected layer"
   ]
  },
  {
   "cell_type": "code",
   "execution_count": 17,
   "metadata": {},
   "outputs": [
    {
     "name": "stdout",
     "output_type": "stream",
     "text": [
      "Epoch 1/10\n",
      "96/96 [==============================] - 45s 466ms/step - loss: 0.8387 - accuracy: 0.8342 - val_loss: 0.5070 - val_accuracy: 0.8423\n",
      "Epoch 2/10\n",
      "96/96 [==============================] - 49s 508ms/step - loss: 0.3488 - accuracy: 0.8938 - val_loss: 0.3518 - val_accuracy: 0.8882\n",
      "Epoch 3/10\n",
      "96/96 [==============================] - 50s 517ms/step - loss: 0.2436 - accuracy: 0.9178 - val_loss: 0.3776 - val_accuracy: 0.8878\n",
      "Epoch 4/10\n",
      "96/96 [==============================] - 51s 531ms/step - loss: 0.2032 - accuracy: 0.9315 - val_loss: 0.3527 - val_accuracy: 0.8964\n",
      "Epoch 5/10\n",
      "96/96 [==============================] - 47s 486ms/step - loss: 0.1627 - accuracy: 0.9418 - val_loss: 0.4321 - val_accuracy: 0.8763\n",
      "Epoch 6/10\n",
      "96/96 [==============================] - 50s 516ms/step - loss: 0.1398 - accuracy: 0.9513 - val_loss: 0.3455 - val_accuracy: 0.8972\n",
      "Epoch 7/10\n",
      "96/96 [==============================] - 51s 529ms/step - loss: 0.1199 - accuracy: 0.9580 - val_loss: 0.3290 - val_accuracy: 0.9094\n",
      "Epoch 8/10\n",
      "96/96 [==============================] - 55s 571ms/step - loss: 0.0936 - accuracy: 0.9667 - val_loss: 0.3441 - val_accuracy: 0.9065\n",
      "Epoch 9/10\n",
      "96/96 [==============================] - 50s 523ms/step - loss: 0.0842 - accuracy: 0.9693 - val_loss: 0.3946 - val_accuracy: 0.8942\n",
      "Epoch 10/10\n",
      "96/96 [==============================] - 46s 482ms/step - loss: 0.0718 - accuracy: 0.9739 - val_loss: 0.3623 - val_accuracy: 0.9064\n"
     ]
    }
   ],
   "source": [
    "model = Sequential([\n",
    "    normalization,\n",
    "    Conv2D(                                           \n",
    "        filters=32, \n",
    "        kernel_size=(3, 3), \n",
    "        strides=(1, 1), \n",
    "        padding=\"same\",\n",
    "        kernel_initializer='he_normal', \n",
    "        activation='relu',\n",
    "        input_shape=input_shape\n",
    "    ),\n",
    "    MaxPooling2D(                                     \n",
    "        pool_size=(2, 2)\n",
    "    ),\n",
    "    Flatten(),                                        # 3D shape to 1D.\n",
    "    BatchNormalization(),\n",
    "    Dense(\n",
    "        300, \n",
    "        kernel_initializer='lecun_normal', \n",
    "        activation='selu'\n",
    "    ),                    # Fully connected layer \n",
    "    Dense(\n",
    "        number_of_classes, \n",
    "        activation=\"softmax\"\n",
    "    )\n",
    "])\n",
    "\n",
    "train(model, x_train, y_train)"
   ]
  },
  {
   "cell_type": "markdown",
   "metadata": {},
   "source": [
    "### Train CPBCPBFO model (F/SELU/LeCun)\n",
    "SELU activation + LeCun initialization at Fully connected layer"
   ]
  },
  {
   "cell_type": "code",
   "execution_count": 20,
   "metadata": {},
   "outputs": [
    {
     "name": "stdout",
     "output_type": "stream",
     "text": [
      "Epoch 1/10\n",
      "96/96 [==============================] - 62s 646ms/step - loss: 0.5619 - accuracy: 0.8444 - val_loss: 0.5056 - val_accuracy: 0.8047\n",
      "Epoch 2/10\n",
      "96/96 [==============================] - 63s 658ms/step - loss: 0.2713 - accuracy: 0.9033 - val_loss: 0.3426 - val_accuracy: 0.8764\n",
      "Epoch 3/10\n",
      "96/96 [==============================] - 66s 687ms/step - loss: 0.2097 - accuracy: 0.9235 - val_loss: 0.2929 - val_accuracy: 0.8967\n",
      "Epoch 4/10\n",
      "96/96 [==============================] - 70s 726ms/step - loss: 0.1751 - accuracy: 0.9355 - val_loss: 0.2956 - val_accuracy: 0.8977\n",
      "Epoch 5/10\n",
      "96/96 [==============================] - 59s 619ms/step - loss: 0.1481 - accuracy: 0.9453 - val_loss: 0.3122 - val_accuracy: 0.8959\n",
      "Epoch 6/10\n",
      "96/96 [==============================] - 58s 608ms/step - loss: 0.1204 - accuracy: 0.9559 - val_loss: 0.3157 - val_accuracy: 0.8926\n",
      "Epoch 7/10\n",
      "96/96 [==============================] - 67s 700ms/step - loss: 0.1137 - accuracy: 0.9579 - val_loss: 0.4035 - val_accuracy: 0.8763\n",
      "Epoch 8/10\n",
      "96/96 [==============================] - 86s 895ms/step - loss: 0.0952 - accuracy: 0.9648 - val_loss: 0.3344 - val_accuracy: 0.9014\n",
      "Epoch 9/10\n",
      "96/96 [==============================] - 79s 822ms/step - loss: 0.0759 - accuracy: 0.9736 - val_loss: 0.3101 - val_accuracy: 0.9091\n",
      "Epoch 10/10\n",
      "96/96 [==============================] - 81s 839ms/step - loss: 0.0640 - accuracy: 0.9776 - val_loss: 0.3352 - val_accuracy: 0.9070\n"
     ]
    }
   ],
   "source": [
    "model = Sequential([\n",
    "    normalization,\n",
    "    Conv2D(                                           \n",
    "        filters=32, \n",
    "        kernel_size=(3, 3), \n",
    "        strides=(1, 1), \n",
    "        padding=\"same\",\n",
    "        kernel_initializer='he_normal', \n",
    "        activation='relu',\n",
    "        input_shape=input_shape\n",
    "    ),\n",
    "    MaxPooling2D(                                     \n",
    "        pool_size=(2, 2)\n",
    "    ),\n",
    "    BatchNormalization(),\n",
    "    Conv2D(                                           \n",
    "        filters=64, \n",
    "        kernel_size=(3, 3), \n",
    "        strides=(1, 1), \n",
    "        padding=\"same\",\n",
    "        kernel_initializer='he_normal', \n",
    "        activation='relu',\n",
    "        input_shape=input_shape\n",
    "    ),\n",
    "    MaxPooling2D(                                     \n",
    "        pool_size=(2, 2)\n",
    "    ),\n",
    "    Flatten(),                                        # 3D shape to 1D.\n",
    "    BatchNormalization(),\n",
    "    Dense(\n",
    "        300, \n",
    "        kernel_initializer='lecun_normal', \n",
    "        activation='selu'\n",
    "    ),                    # Fully connected layer \n",
    "    Dense(\n",
    "        number_of_classes, \n",
    "        activation=\"softmax\"\n",
    "    )\n",
    "])\n",
    "\n",
    "train(model, x_train, y_train)"
   ]
  },
  {
   "cell_type": "markdown",
   "metadata": {},
   "source": [
    "### Train CPBCPBFFO model  (F/SELU/LeCun)\n",
    "SELU activation + LeCun initialization at Fully connected layer"
   ]
  },
  {
   "cell_type": "code",
   "execution_count": 19,
   "metadata": {},
   "outputs": [
    {
     "name": "stdout",
     "output_type": "stream",
     "text": [
      "Epoch 1/10\n",
      "96/96 [==============================] - 76s 793ms/step - loss: 0.5246 - accuracy: 0.8407 - val_loss: 0.4289 - val_accuracy: 0.8363\n",
      "Epoch 2/10\n",
      "96/96 [==============================] - 69s 714ms/step - loss: 0.2527 - accuracy: 0.9080 - val_loss: 0.3291 - val_accuracy: 0.8820\n",
      "Epoch 3/10\n",
      "96/96 [==============================] - 67s 702ms/step - loss: 0.2023 - accuracy: 0.9254 - val_loss: 0.2985 - val_accuracy: 0.8928\n",
      "Epoch 4/10\n",
      "96/96 [==============================] - 66s 688ms/step - loss: 0.1678 - accuracy: 0.9379 - val_loss: 0.3784 - val_accuracy: 0.8767\n",
      "Epoch 5/10\n",
      "96/96 [==============================] - 66s 690ms/step - loss: 0.1402 - accuracy: 0.9481 - val_loss: 0.3387 - val_accuracy: 0.8828\n",
      "Epoch 6/10\n",
      "96/96 [==============================] - 78s 811ms/step - loss: 0.1131 - accuracy: 0.9579 - val_loss: 0.3471 - val_accuracy: 0.8901\n",
      "Epoch 7/10\n",
      "96/96 [==============================] - 77s 806ms/step - loss: 0.0977 - accuracy: 0.9647 - val_loss: 0.4070 - val_accuracy: 0.8761\n",
      "Epoch 8/10\n",
      "96/96 [==============================] - 68s 709ms/step - loss: 0.0820 - accuracy: 0.9696 - val_loss: 0.3522 - val_accuracy: 0.8941\n",
      "Epoch 9/10\n",
      "96/96 [==============================] - 75s 778ms/step - loss: 0.0672 - accuracy: 0.9759 - val_loss: 0.3637 - val_accuracy: 0.9000\n",
      "Epoch 10/10\n",
      "96/96 [==============================] - 69s 721ms/step - loss: 0.0505 - accuracy: 0.9825 - val_loss: 0.4600 - val_accuracy: 0.8857\n"
     ]
    }
   ],
   "source": [
    "model = Sequential([\n",
    "    normalization,\n",
    "    Conv2D(                                           \n",
    "        filters=32, \n",
    "        kernel_size=(3, 3), \n",
    "        strides=(1, 1), \n",
    "        padding=\"same\",\n",
    "        kernel_initializer='he_normal', # Using SELU+LeCun damages the validation\n",
    "        activation='relu',\n",
    "        input_shape=input_shape\n",
    "    ),\n",
    "    MaxPooling2D(                                     \n",
    "        pool_size=(2, 2)\n",
    "    ),\n",
    "    BatchNormalization(),\n",
    "    Conv2D(                                           \n",
    "        filters=64, \n",
    "        kernel_size=(3, 3), \n",
    "        strides=(1, 1), \n",
    "        padding=\"same\",\n",
    "        kernel_initializer='he_normal', \n",
    "        activation='relu',\n",
    "        input_shape=input_shape\n",
    "    ),\n",
    "    MaxPooling2D(                                     \n",
    "        pool_size=(2, 2)\n",
    "    ),\n",
    "    Flatten(),                                        # 3D shape to 1D.\n",
    "    BatchNormalization(),\n",
    "    Dense(\n",
    "        300, \n",
    "        kernel_initializer='lecun_normal', \n",
    "        activation='selu'\n",
    "    ),                    # Fully connected layer \n",
    "    Dense(\n",
    "        200, \n",
    "        kernel_initializer='lecun_normal', \n",
    "        activation='selu'\n",
    "    ),                    # Fully connected layer \n",
    "    Dense(\n",
    "        number_of_classes, \n",
    "        activation=\"softmax\"\n",
    "    )\n",
    "])\n",
    "\n",
    "train(model, x_train, y_train)"
   ]
  },
  {
   "cell_type": "code",
   "execution_count": null,
   "metadata": {},
   "outputs": [],
   "source": []
  },
  {
   "cell_type": "raw",
   "metadata": {},
   "source": []
  }
 ],
 "metadata": {
  "kernelspec": {
   "display_name": "Python 3",
   "language": "python",
   "name": "python3"
  },
  "language_info": {
   "codemirror_mode": {
    "name": "ipython",
    "version": 3
   },
   "file_extension": ".py",
   "mimetype": "text/x-python",
   "name": "python",
   "nbconvert_exporter": "python",
   "pygments_lexer": "ipython3",
   "version": "3.7.8"
  }
 },
 "nbformat": 4,
 "nbformat_minor": 4
}
