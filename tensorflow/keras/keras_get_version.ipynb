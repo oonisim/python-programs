{
 "cells": [
  {
   "cell_type": "markdown",
   "id": "a100fe1f-8dfc-4532-8a64-aaaede630d72",
   "metadata": {},
   "source": [
    "# How to get Keras version\n",
    "\n",
    "There used to be ```tf.keras.__version__``` in 2.12.x but removed. Typical google.\n",
    "\n",
    "* [cannot import name '__version__' from 'keras' #50372](https://github.com/tensorflow/tensorflow/issues/50372)"
   ]
  },
  {
   "cell_type": "code",
   "execution_count": 2,
   "id": "d0e58ff7-bb29-4c27-8a24-65b72d7d7894",
   "metadata": {},
   "outputs": [
    {
     "name": "stdout",
     "output_type": "stream",
     "text": [
      "2.14.0\n"
     ]
    }
   ],
   "source": [
    "import tensorflow as tf\n",
    "from tensorflow import keras\n",
    "\n",
    "from keras import __version__\n",
    "tf.keras.__version__ = __version__\n",
    "\n",
    "print(tf.keras.__version__)"
   ]
  },
  {
   "cell_type": "code",
   "execution_count": null,
   "id": "16738992-5f8f-4337-a93d-97276e10ab3e",
   "metadata": {},
   "outputs": [],
   "source": []
  }
 ],
 "metadata": {
  "kernelspec": {
   "display_name": "Python 3 (ipykernel)",
   "language": "python",
   "name": "python3"
  },
  "language_info": {
   "codemirror_mode": {
    "name": "ipython",
    "version": 3
   },
   "file_extension": ".py",
   "mimetype": "text/x-python",
   "name": "python",
   "nbconvert_exporter": "python",
   "pygments_lexer": "ipython3",
   "version": "3.10.10"
  }
 },
 "nbformat": 4,
 "nbformat_minor": 5
}
