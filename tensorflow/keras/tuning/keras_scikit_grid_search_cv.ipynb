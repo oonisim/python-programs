{
 "cells": [
  {
   "cell_type": "markdown",
   "metadata": {},
   "source": [
    "# Keras Hyperparametr Tuning with ScikitLearn GridSearchCV\n",
    "\n",
    "Use [SciKeras.](https://www.adriangb.com/scikeras/stable/index.html) for hyper parameter tuning using Scikit Learn.\n",
    "\n",
    "* [SciKeras.](https://www.adriangb.com/scikeras/stable/index.html)\n",
    "\n",
    "> The goal of scikeras is to make it possible to use Keras/TensorFlow with sklearn. This is achieved by providing a wrapper around Keras that has an Scikit-Learn interface. SciKeras is the successor to tf.keras.wrappers.scikit_learn, and offers many improvements over the TensorFlow version of the wrappers. See Migration for a more details.\n",
    "\n",
    "* [How to Grid Search Hyperparameters for Deep Learning Models in Python with Keras](https://machinelearningmastery.com/grid-search-hyperparameters-deep-learning-models-python-keras/)\n",
    "\n",
    "> Keras models can be used in scikit-learn by wrapping them with the KerasClassifier or KerasRegressor class from the module SciKeras. \n",
    "\n",
    "* [How to pass callbacks to scikit_learn wrappers (e.g. KerasClassifier)](https://github.com/keras-team/keras/issues/4278)\n",
    "\n",
    "> ```\n",
    "> model = KerasClassifier(build_fn=create_model, epochs=100, verbose=1, validation_split=.2)\n",
    "> grid_search = GridSearchCV(model, para_grid, n_jobs=-1, cv=5, refit='accuracy')\n",
    "> grid_search.fit(X, y, callbacks=EarlyStopping(monitor='val_loss', patience=3))\n",
    "> ```\n",
    "\n",
    "## KerasClassifier\n",
    "\n",
    "```KerasClassifier``` has its required parameters so that it can compile keras Model.\n",
    "\n",
    "* [scikeras.wrappers.KerasClassifier](https://www.adriangb.com/scikeras/stable/generated/scikeras.wrappers.KerasClassifier.html#scikeras-wrappers-kerasclassifier)\n"
   ]
  },
  {
   "cell_type": "code",
   "execution_count": 1,
   "metadata": {},
   "outputs": [],
   "source": [
    "import numpy as np\n",
    "import tensorflow as tf\n",
    "from tensorflow.keras.models import (\n",
    "    Model,\n",
    "    Sequential\n",
    ")\n",
    "from tensorflow.keras.layers import (\n",
    "    Layer,\n",
    "    Dense, \n",
    "    Dropout, \n",
    "    Flatten, \n",
    "    Normalization,\n",
    "    BatchNormalization,\n",
    "    Activation,\n",
    "    Conv2D, \n",
    "    MaxPooling2D,\n",
    ")\n",
    "\n",
    "import sklearn\n",
    "from sklearn.model_selection import (\n",
    "    GridSearchCV\n",
    ")\n",
    "from scikeras.wrappers import (\n",
    "    KerasClassifier, \n",
    ")"
   ]
  },
  {
   "cell_type": "code",
   "execution_count": 2,
   "metadata": {},
   "outputs": [
    {
     "name": "stdout",
     "output_type": "stream",
     "text": [
      "The scikit-learn version is 1.1.3.\n"
     ]
    }
   ],
   "source": [
    "print('The scikit-learn version is {}.'.format(sklearn.__version__))"
   ]
  },
  {
   "cell_type": "markdown",
   "metadata": {},
   "source": [
    "# CIFAR-10"
   ]
  },
  {
   "cell_type": "code",
   "execution_count": 3,
   "metadata": {},
   "outputs": [],
   "source": [
    "(x_train, y_train), (x_test, y_test) = tf.keras.datasets.cifar10.load_data()\n",
    "input_shape = x_train[0].shape\n",
    "number_of_classes = 10"
   ]
  },
  {
   "cell_type": "code",
   "execution_count": 4,
   "metadata": {},
   "outputs": [],
   "source": [
    "max_value = float(np.max(x_train))\n",
    "x_train_normed, x_test_normed = x_train/max_value, x_test/max_value"
   ]
  },
  {
   "cell_type": "markdown",
   "metadata": {},
   "source": [
    "# Model"
   ]
  },
  {
   "cell_type": "code",
   "execution_count": 5,
   "metadata": {},
   "outputs": [],
   "source": [
    "learning_rate: float = 1e-2"
   ]
  },
  {
   "cell_type": "code",
   "execution_count": 6,
   "metadata": {},
   "outputs": [],
   "source": [
    "def create_model():\n",
    "    model = Sequential([\n",
    "        Conv2D(\n",
    "            name=\"conv\",\n",
    "            filters=32,\n",
    "            kernel_size=(3, 3),\n",
    "            strides=(1, 1),\n",
    "            padding=\"same\",\n",
    "            activation='relu',\n",
    "            input_shape=input_shape\n",
    "        ),\n",
    "        MaxPooling2D(\n",
    "            name=\"maxpool\",\n",
    "            pool_size=(2, 2)\n",
    "        ),\n",
    "        Flatten(),\n",
    "        Dense(\n",
    "            name=\"full\",\n",
    "            units=100,\n",
    "            activation=\"relu\"\n",
    "        ),\n",
    "        Dense(\n",
    "            name=\"label\",\n",
    "            units=number_of_classes,\n",
    "            activation=\"softmax\"\n",
    "        )\n",
    "    ])\n",
    "    model.compile(\n",
    "        loss=tf.keras.losses.sparse_categorical_crossentropy,\n",
    "        optimizer=tf.keras.optimizers.Adam(learning_rate=learning_rate),\n",
    "        metrics=['accuracy']\n",
    "    )\n",
    "    return model"
   ]
  },
  {
   "cell_type": "code",
   "execution_count": 7,
   "metadata": {},
   "outputs": [],
   "source": [
    "model = KerasClassifier(model=create_model, verbose=2)"
   ]
  },
  {
   "cell_type": "markdown",
   "metadata": {},
   "source": [
    "# Grid Search"
   ]
  },
  {
   "cell_type": "code",
   "execution_count": 8,
   "metadata": {},
   "outputs": [],
   "source": [
    "batch_size = [32]\n",
    "epochs = [2, 3]\n",
    "lr = [1e-1, 1e-2]\n",
    "param_grid = dict(batch_size=batch_size, epochs=epochs)\n",
    "\n",
    "\n",
    "param_grid = {\n",
    "    'optimizer__learning_rate': [1e-3, 1e-2, 1e-1],\n",
    "    'batch_size': [32, 64]\n",
    "}"
   ]
  },
  {
   "cell_type": "code",
   "execution_count": 9,
   "metadata": {},
   "outputs": [
    {
     "name": "stderr",
     "output_type": "stream",
     "text": [
      "2023-02-17 22:46:12.036434: W tensorflow/core/platform/profile_utils/cpu_utils.cc:128] Failed to get CPU frequency: 0 Hz\n",
      "2023-02-17 22:46:12.492552: W tensorflow/core/platform/profile_utils/cpu_utils.cc:128] Failed to get CPU frequency: 0 Hz\n",
      "2023-02-17 22:46:12.492972: W tensorflow/core/platform/profile_utils/cpu_utils.cc:128] Failed to get CPU frequency: 0 Hz\n",
      "2023-02-17 22:46:12.494443: W tensorflow/core/platform/profile_utils/cpu_utils.cc:128] Failed to get CPU frequency: 0 Hz\n",
      "2023-02-17 22:46:12.495896: W tensorflow/core/platform/profile_utils/cpu_utils.cc:128] Failed to get CPU frequency: 0 Hz\n",
      "2023-02-17 22:46:12.502127: W tensorflow/core/platform/profile_utils/cpu_utils.cc:128] Failed to get CPU frequency: 0 Hz\n",
      "2023-02-17 22:46:12.510536: W tensorflow/core/platform/profile_utils/cpu_utils.cc:128] Failed to get CPU frequency: 0 Hz\n",
      "2023-02-17 22:46:12.592541: W tensorflow/core/platform/profile_utils/cpu_utils.cc:128] Failed to get CPU frequency: 0 Hz\n"
     ]
    },
    {
     "name": "stdout",
     "output_type": "stream",
     "text": [
      "1042/1042 - 25s - loss: 7.8157 - accuracy: 0.0980 - 25s/epoch - 24ms/step\n",
      "1042/1042 - 25s - loss: 6.0225 - accuracy: 0.1017 - 25s/epoch - 24ms/step\n",
      "1042/1042 - 25s - loss: 7.0546 - accuracy: 0.1013 - 25s/epoch - 24ms/step\n",
      "1042/1042 - 25s - loss: 8.9751 - accuracy: 0.0978 - 25s/epoch - 24ms/step\n",
      "1042/1042 - 25s - loss: 5.3383 - accuracy: 0.0993 - 25s/epoch - 24ms/step\n",
      "1042/1042 - 25s - loss: 8.9572 - accuracy: 0.0972 - 25s/epoch - 24ms/step\n",
      "1042/1042 - 26s - loss: 6.1767 - accuracy: 0.0967 - 26s/epoch - 25ms/step\n",
      "1042/1042 - 26s - loss: 7.8066 - accuracy: 0.0986 - 26s/epoch - 25ms/step\n",
      "521/521 - 5s - 5s/epoch - 10ms/step\n",
      "521/521 - 6s - 6s/epoch - 11ms/step\n",
      "521/521 - 6s - 6s/epoch - 11ms/step\n",
      "521/521 - 5s - 5s/epoch - 10ms/step\n",
      "521/521 - 6s - 6s/epoch - 11ms/step\n",
      "521/521 - 6s - 6s/epoch - 11ms/step\n",
      "521/521 - 5s - 5s/epoch - 11ms/step\n",
      "521/521 - 5s - 5s/epoch - 10ms/step\n",
      "521/521 - 24s - loss: 17.3070 - accuracy: 0.0989 - 24s/epoch - 45ms/step\n",
      "521/521 - 24s - loss: 7.6591 - accuracy: 0.0974 - 24s/epoch - 46ms/step\n",
      "521/521 - 24s - loss: 11.4852 - accuracy: 0.0971 - 24s/epoch - 45ms/step\n",
      "521/521 - 24s - loss: 12.5524 - accuracy: 0.1020 - 24s/epoch - 46ms/step\n",
      "521/521 - 25s - loss: 13.5761 - accuracy: 0.0998 - 25s/epoch - 48ms/step\n",
      "521/521 - 25s - loss: 20.6654 - accuracy: 0.1005 - 25s/epoch - 48ms/step\n",
      "521/521 - 25s - loss: 10.6045 - accuracy: 0.1005 - 25s/epoch - 49ms/step\n",
      "1042/1042 - 28s - loss: 10.7899 - accuracy: 0.0993 - 28s/epoch - 27ms/step\n",
      "261/261 - 4s - 4s/epoch - 17ms/step\n",
      "261/261 - 4s - 4s/epoch - 16ms/step\n",
      "261/261 - 4s - 4s/epoch - 17ms/step\n",
      "261/261 - 4s - 4s/epoch - 16ms/step\n",
      "261/261 - 4s - 4s/epoch - 14ms/step\n",
      "261/261 - 4s - 4s/epoch - 14ms/step\n",
      "261/261 - 3s - 3s/epoch - 12ms/step\n",
      "521/521 - 3s - 3s/epoch - 6ms/step\n",
      "521/521 - 8s - loss: 15.6799 - accuracy: 0.1024 - 8s/epoch - 15ms/step\n",
      "521/521 - 7s - loss: 16.0035 - accuracy: 0.1010 - 7s/epoch - 14ms/step\n",
      "261/261 - 1s - 1s/epoch - 5ms/step\n",
      "261/261 - 1s - 1s/epoch - 4ms/step\n"
     ]
    },
    {
     "name": "stderr",
     "output_type": "stream",
     "text": [
      "2023-02-17 22:47:21.250478: W tensorflow/core/platform/profile_utils/cpu_utils.cc:128] Failed to get CPU frequency: 0 Hz\n"
     ]
    },
    {
     "name": "stdout",
     "output_type": "stream",
     "text": [
      "782/782 - 6s - loss: 8.2860 - accuracy: 0.0984 - 6s/epoch - 8ms/step\n"
     ]
    }
   ],
   "source": [
    "grid = GridSearchCV(estimator=model, param_grid=param_grid, n_jobs=-1, cv=3)\n",
    "grid_result = grid.fit(x_train, y_train)"
   ]
  },
  {
   "cell_type": "markdown",
   "metadata": {},
   "source": [
    "# Result"
   ]
  },
  {
   "cell_type": "code",
   "execution_count": 10,
   "metadata": {},
   "outputs": [
    {
     "name": "stdout",
     "output_type": "stream",
     "text": [
      "Best: 0.100460 using {'batch_size': 64, 'optimizer__learning_rate': 0.1}\n",
      "0.100180 (0.000110) with: {'batch_size': 32, 'optimizer__learning_rate': 0.001}\n",
      "0.100300 (0.000198) with: {'batch_size': 32, 'optimizer__learning_rate': 0.01}\n",
      "0.100220 (0.000160) with: {'batch_size': 32, 'optimizer__learning_rate': 0.1}\n",
      "0.100440 (0.000215) with: {'batch_size': 64, 'optimizer__learning_rate': 0.001}\n",
      "0.100440 (0.000340) with: {'batch_size': 64, 'optimizer__learning_rate': 0.01}\n",
      "0.100460 (0.000708) with: {'batch_size': 64, 'optimizer__learning_rate': 0.1}\n"
     ]
    }
   ],
   "source": [
    "print(\"Best: %f using %s\" % (grid_result.best_score_, grid_result.best_params_))\n",
    "means = grid_result.cv_results_['mean_test_score']\n",
    "stds = grid_result.cv_results_['std_test_score']\n",
    "params = grid_result.cv_results_['params']\n",
    "for mean, stdev, param in zip(means, stds, params):\n",
    "    print(\"%f (%f) with: %r\" % (mean, stdev, param))"
   ]
  },
  {
   "cell_type": "code",
   "execution_count": null,
   "metadata": {},
   "outputs": [],
   "source": []
  }
 ],
 "metadata": {
  "instance_type": "ml.g4dn.xlarge",
  "kernelspec": {
   "display_name": "Python 3 (ipykernel)",
   "language": "python",
   "name": "python3"
  },
  "language_info": {
   "codemirror_mode": {
    "name": "ipython",
    "version": 3
   },
   "file_extension": ".py",
   "mimetype": "text/x-python",
   "name": "python",
   "nbconvert_exporter": "python",
   "pygments_lexer": "ipython3",
   "version": "3.9.13"
  }
 },
 "nbformat": 4,
 "nbformat_minor": 4
}
