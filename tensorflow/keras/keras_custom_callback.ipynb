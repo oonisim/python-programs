{
 "cells": [
  {
   "cell_type": "markdown",
   "id": "bd71c6c8",
   "metadata": {},
   "source": [
    "# Custom callbacks\n",
    "\n",
    "* [Writing your own callbacks](https://www.tensorflow.org/guide/keras/custom_callback)\n",
    "\n",
    "> In this guide, you will learn what a Keras callback is, what it can do, and how you can build your own. We provide a few demos of simple callback applications to get you started.\n"
   ]
  },
  {
   "cell_type": "code",
   "execution_count": 1,
   "id": "ffb721fc",
   "metadata": {},
   "outputs": [
    {
     "name": "stderr",
     "output_type": "stream",
     "text": [
      "2021-07-07 16:42:14.672091: W tensorflow/stream_executor/platform/default/dso_loader.cc:64] Could not load dynamic library 'libcudart.so.11.0'; dlerror: libcudart.so.11.0: cannot open shared object file: No such file or directory\n",
      "2021-07-07 16:42:14.672142: I tensorflow/stream_executor/cuda/cudart_stub.cc:29] Ignore above cudart dlerror if you do not have a GPU set up on your machine.\n"
     ]
    }
   ],
   "source": [
    "import tensorflow as tf"
   ]
  },
  {
   "cell_type": "markdown",
   "id": "8acdecba",
   "metadata": {},
   "source": [
    "* [How to save the best model of each epoch with transformers bert in tensorflow\n",
    "](https://stackoverflow.com/a/68042600/4281353)\n"
   ]
  },
  {
   "cell_type": "code",
   "execution_count": 2,
   "id": "7a1cc74b",
   "metadata": {},
   "outputs": [],
   "source": [
    "class best_model_per_epoch(tf.keras.callbacks.Callback):\n",
    "    def __init__(self, model,filepath,save_best_only):\n",
    "        self.filepath=filepath\n",
    "        self.model=model\n",
    "        self.save_best_only=save_best_only\n",
    "        self.lowest_loss=np.inf\n",
    "        self.best_weights=self.model.get_weights()\n",
    "    def on_epoch_end(self,epoch, logs=None):\n",
    "        v_loss=logs.get('val_loss')\n",
    "        if v_loss< self.lowest_loss:\n",
    "            self.lowest_loss =v_loss\n",
    "            self.best_weights=self.model.get_weights()\n",
    "            self.best_epoch=epoch +1\n",
    "        if self.save_best_only==False:\n",
    "            name= str(epoch) +'-' + str(v_loss)[:str(v_loss).rfind('.')+3] + '.h5'\n",
    "            file_id=os.path.join(self.filepath, name)\n",
    "            self.model.save(file_id)\n",
    "    def on_train_end(self, logs=None):\n",
    "        if self.save_best_only == True:\n",
    "            self.model.set_weights(self.best_weights)\n",
    "            name= str(self.best_epoch) +'-' + str(self.lowest_loss)[:str(self.lowest_loss).rfind('.')+3] + '.h5'\n",
    "            file_id=os.path.join(self.filepath, name)\n",
    "            self.model.save(file_id)\n",
    "            print(' model is returned with best weiights from epoch ', self.best_epoch)\n",
    "            "
   ]
  },
  {
   "cell_type": "code",
   "execution_count": null,
   "id": "38146719",
   "metadata": {},
   "outputs": [],
   "source": []
  }
 ],
 "metadata": {
  "kernelspec": {
   "display_name": "Python 3 (ipykernel)",
   "language": "python",
   "name": "python3"
  },
  "language_info": {
   "codemirror_mode": {
    "name": "ipython",
    "version": 3
   },
   "file_extension": ".py",
   "mimetype": "text/x-python",
   "name": "python",
   "nbconvert_exporter": "python",
   "pygments_lexer": "ipython3",
   "version": "3.8.8"
  }
 },
 "nbformat": 4,
 "nbformat_minor": 5
}
