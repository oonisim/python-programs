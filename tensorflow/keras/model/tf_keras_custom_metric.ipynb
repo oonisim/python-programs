{
 "cells": [
  {
   "cell_type": "markdown",
   "id": "c43bfae5",
   "metadata": {},
   "source": [
    "# Keras custom metric\n",
    "\n",
    "There are two approaches to implement custom metrics for Keras model training.\n",
    "\n",
    "1. Metric function\n",
    "\n",
    "* [Custom metrics for Keras/TensorFlow](https://medium.com/analytics-vidhya/custom-metrics-for-keras-tensorflow-ae7036654e05)\n",
    "\n",
    "\n",
    "```\n",
    "def custom_metric_fn(y_true, y_pred): \n",
    "    a = tp(y_true, y_pred) \n",
    "    b = fp(y_true, y_pred)\n",
    "    return a - b\n",
    "\n",
    "model.compile(\n",
    "    optimizer='adam',\n",
    "    loss = 'categorical_crossentropy',\n",
    "    metrics=[custom_metric_fn]\n",
    ")\n",
    "```\n",
    "\n",
    "2. Subclass ```tf.keras.metrics.Metric```\n",
    "* [tf.keras.metrics.Metric](https://www.tensorflow.org/api_docs/python/tf/keras/metrics/Metric)\n",
    "\n",
    "\n",
    "> To be implemented by subclasses:\n",
    "> * ```__init__()```: All state variables should be created in this method by calling self.add_weight() like: self.var = self.add_weight(...)\n",
    "> * ```update_state()```: Has all updates to the state variables like: self.var.assign_add(...).\n",
    "> * ```result()```: Computes and returns a scalar value or a dict of scalar values for the metric from the state variables.\n",
    "> ### Example subclass implementation:  \n",
    "> ```\n",
    "> class BinaryTruePositives(tf.keras.metrics.Metric):\n",
    ">   def __init__(self, name='binary_true_positives', **kwargs):\n",
    ">     super(BinaryTruePositives, self).__init__(name=name, **kwargs)\n",
    ">     self.true_positives = self.add_weight(name='tp', initializer='zeros')\n",
    "> \n",
    ">   def update_state(self, y_true, y_pred, sample_weight=None):\n",
    ">     y_true = tf.cast(y_true, tf.bool)\n",
    ">     y_pred = tf.cast(y_pred, tf.bool)\n",
    "> \n",
    ">     values = tf.logical_and(tf.equal(y_true, True), tf.equal(y_pred, True))\n",
    ">     values = tf.cast(values, self.dtype)\n",
    ">     if sample_weight is not None:\n",
    ">       sample_weight = tf.cast(sample_weight, self.dtype)\n",
    ">       sample_weight = tf.broadcast_to(sample_weight, values.shape)\n",
    ">       values = tf.multiply(values, sample_weight)\n",
    ">     self.true_positives.assign_add(tf.reduce_sum(values))\n",
    "> \n",
    ">   def result(self):\n",
    ">     return self.true_positives\n",
    "> \n",
    "> model.compile(loss = loss, optimizer = optimizer, metrics = [BinaryTruePositives()])\n",
    "> ```"
   ]
  },
  {
   "cell_type": "code",
   "execution_count": null,
   "id": "e8d51e99",
   "metadata": {},
   "outputs": [],
   "source": []
  }
 ],
 "metadata": {
  "kernelspec": {
   "display_name": "Python 3 (ipykernel)",
   "language": "python",
   "name": "python3"
  },
  "language_info": {
   "codemirror_mode": {
    "name": "ipython",
    "version": 3
   },
   "file_extension": ".py",
   "mimetype": "text/x-python",
   "name": "python",
   "nbconvert_exporter": "python",
   "pygments_lexer": "ipython3",
   "version": "3.9.13"
  }
 },
 "nbformat": 4,
 "nbformat_minor": 5
}
