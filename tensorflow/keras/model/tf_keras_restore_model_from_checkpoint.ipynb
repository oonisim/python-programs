{
 "cells": [
  {
   "cell_type": "markdown",
   "id": "5e31af85",
   "metadata": {},
   "source": [
    "# How to restore a Model from checkpoint\n",
    "\n",
    "Checkpoint can be loaded with ```tf.keras.models.load_model()``` method to restore a model.\n",
    "\n",
    "* [How to load the latest checkpoint and save it as a model in Tensorflow?](https://stackoverflow.com/questions/74328165/how-to-load-the-latest-checkpoint-and-save-it-as-a-model-in-tensorflow)"
   ]
  },
  {
   "cell_type": "markdown",
   "id": "8a1e6eab",
   "metadata": {},
   "source": [
    "Make sure to save the entire model, not just weights.\n",
    "\n",
    "```\n",
    "tf.keras.callbacks.ModelCheckpoint(\n",
    "        filepath=filepath,\n",
    "        save_best_only=True,\n",
    "        save_weights_only=False,   # <----- Save entire model\n",
    "        monitor=monitor,\n",
    "        mode=mode,\n",
    "        save_freq=save_freq,\n",
    "        verbose=verbose\n",
    "    )\n",
    "```\n",
    "\n",
    "Then the rest is the same with the saved model.\n",
    "\n",
    "```\n",
    "model = tf.keras.models.load_model(checkpoint_path)\n",
    "```"
   ]
  },
  {
   "cell_type": "code",
   "execution_count": null,
   "id": "daa23707",
   "metadata": {},
   "outputs": [],
   "source": []
  }
 ],
 "metadata": {
  "kernelspec": {
   "display_name": "Python 3 (ipykernel)",
   "language": "python",
   "name": "python3"
  },
  "language_info": {
   "codemirror_mode": {
    "name": "ipython",
    "version": 3
   },
   "file_extension": ".py",
   "mimetype": "text/x-python",
   "name": "python",
   "nbconvert_exporter": "python",
   "pygments_lexer": "ipython3",
   "version": "3.9.13"
  }
 },
 "nbformat": 4,
 "nbformat_minor": 5
}
