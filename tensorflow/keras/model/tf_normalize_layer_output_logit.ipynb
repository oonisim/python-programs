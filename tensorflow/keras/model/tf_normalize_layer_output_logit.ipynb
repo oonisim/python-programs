{
 "cells": [
  {
   "cell_type": "markdown",
   "metadata": {},
   "source": [
    "# Layer Signal Normalization (Standardization)\n",
    "\n",
    "* [Normalizations](https://www.tensorflow.org/addons/tutorials/layers_normalizations)\n",
    "\n",
    "> This notebook gives a brief introduction into the normalization layers of TensorFlow. Currently supported layers are:\n",
    "> \n",
    "> * Group Normalization (TensorFlow Addons)\n",
    "> * Instance Normalization (TensorFlow Addons)\n",
    "> * Layer Normalization (TensorFlow Core)\n",
    "\n",
    "## Note\n",
    "\n",
    "DO NOT confuse **the normalizations between layers** such as Batch Normalization with the **preprocessing** layers.\n",
    "\n",
    "Normalization layer in-between is applied to the logit output from a layer, whereas preprocessing layer is statically fitted to the entire traning data with ```adapt()``` method. \n",
    "\n"
   ]
  },
  {
   "cell_type": "code",
   "execution_count": null,
   "metadata": {},
   "outputs": [],
   "source": []
  }
 ],
 "metadata": {
  "instance_type": "ml.g4dn.xlarge",
  "kernelspec": {
   "display_name": "Python 3 (ipykernel)",
   "language": "python",
   "name": "python3"
  },
  "language_info": {
   "codemirror_mode": {
    "name": "ipython",
    "version": 3
   },
   "file_extension": ".py",
   "mimetype": "text/x-python",
   "name": "python",
   "nbconvert_exporter": "python",
   "pygments_lexer": "ipython3",
   "version": "3.9.13"
  }
 },
 "nbformat": 4,
 "nbformat_minor": 4
}
