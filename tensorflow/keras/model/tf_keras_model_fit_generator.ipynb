{
 "cells": [
  {
   "cell_type": "markdown",
   "metadata": {},
   "source": [
    "# Keras Model fit using generator \n",
    "\n",
    "How to use generator with model.fit. \n",
    "\n",
    "## Issue\n",
    "\n",
    "Cannot use ```sprse_categorical_crossentropy``` and sparse index labels when using generator as the training data.\n",
    "\n",
    "* [keras.Model.fit does not work correctly with generator and sparse categorical crossentropy loss](https://stackoverflow.com/questions/77534387)"
   ]
  },
  {
   "cell_type": "code",
   "execution_count": 1,
   "metadata": {
    "ExecuteTime": {
     "end_time": "2023-11-22T07:27:13.908300111Z",
     "start_time": "2023-11-22T07:27:13.550180458Z"
    }
   },
   "outputs": [],
   "source": [
    "import os\n",
    "import sys\n",
    "import pathlib\n",
    "import shutil\n",
    "from typing import (\n",
    "    Optional,\n",
    "    Tuple,\n",
    "    Generator,\n",
    "    Any\n",
    ")"
   ]
  },
  {
   "cell_type": "code",
   "execution_count": 2,
   "metadata": {
    "ExecuteTime": {
     "end_time": "2023-11-22T07:27:15.059148196Z",
     "start_time": "2023-11-22T07:27:13.553511634Z"
    }
   },
   "outputs": [
    {
     "name": "stderr",
     "output_type": "stream",
     "text": [
      "2023-11-23 15:09:46.300693: I tensorflow/core/util/port.cc:111] oneDNN custom operations are on. You may see slightly different numerical results due to floating-point round-off errors from different computation orders. To turn them off, set the environment variable `TF_ENABLE_ONEDNN_OPTS=0`.\n",
      "2023-11-23 15:09:46.327400: E tensorflow/compiler/xla/stream_executor/cuda/cuda_dnn.cc:9342] Unable to register cuDNN factory: Attempting to register factory for plugin cuDNN when one has already been registered\n",
      "2023-11-23 15:09:46.327435: E tensorflow/compiler/xla/stream_executor/cuda/cuda_fft.cc:609] Unable to register cuFFT factory: Attempting to register factory for plugin cuFFT when one has already been registered\n",
      "2023-11-23 15:09:46.327469: E tensorflow/compiler/xla/stream_executor/cuda/cuda_blas.cc:1518] Unable to register cuBLAS factory: Attempting to register factory for plugin cuBLAS when one has already been registered\n",
      "2023-11-23 15:09:46.336095: I tensorflow/core/platform/cpu_feature_guard.cc:182] This TensorFlow binary is optimized to use available CPU instructions in performance-critical operations.\n",
      "To enable the following instructions: AVX2 AVX_VNNI FMA, in other operations, rebuild TensorFlow with the appropriate compiler flags.\n"
     ]
    },
    {
     "name": "stdout",
     "output_type": "stream",
     "text": [
      "TensorFlow version: 2.14.1\n",
      "Keras version: 2.14.0\n"
     ]
    }
   ],
   "source": [
    "import numpy as np\n",
    "import tensorflow as tf\n",
    "from tensorflow import keras\n",
    "from keras import (\n",
    "    __version__\n",
    ")\n",
    "\n",
    "\n",
    "from keras.layers import (\n",
    "    Conv2D,\n",
    "    MaxPooling2D,\n",
    "    BatchNormalization,\n",
    "    Dense,\n",
    "    Flatten,\n",
    "    Dropout,\n",
    ")\n",
    "from keras.models import (\n",
    "    Model,\n",
    ")\n",
    "from keras.optimizers import (\n",
    "    Adam\n",
    ")\n",
    "from sklearn.model_selection import train_test_split\n",
    "\n",
    "print(\"TensorFlow version: {}\".format(tf.__version__))\n",
    "tf.keras.__version__ = __version__\n",
    "print(\"Keras version: {}\".format(tf.keras.__version__))"
   ]
  },
  {
   "cell_type": "markdown",
   "metadata": {
    "collapsed": false
   },
   "source": [
    "# GPU"
   ]
  },
  {
   "cell_type": "code",
   "execution_count": 3,
   "metadata": {
    "ExecuteTime": {
     "end_time": "2023-11-22T07:27:15.130722094Z",
     "start_time": "2023-11-22T07:27:15.126501202Z"
    },
    "collapsed": false
   },
   "outputs": [
    {
     "name": "stdout",
     "output_type": "stream",
     "text": [
      "Is there a GPU available: \n",
      "[PhysicalDevice(name='/physical_device:GPU:0', device_type='GPU')]\n",
      "1 Physical GPUs, 1 Logical GPUs\n",
      "Virtual devices cannot be modified after being initialized\n"
     ]
    },
    {
     "name": "stderr",
     "output_type": "stream",
     "text": [
      "2023-11-23 15:09:47.638066: I tensorflow/compiler/xla/stream_executor/cuda/cuda_gpu_executor.cc:894] successful NUMA node read from SysFS had negative value (-1), but there must be at least one NUMA node, so returning NUMA node zero. See more at https://github.com/torvalds/linux/blob/v6.0/Documentation/ABI/testing/sysfs-bus-pci#L344-L355\n",
      "2023-11-23 15:09:47.647372: I tensorflow/compiler/xla/stream_executor/cuda/cuda_gpu_executor.cc:894] successful NUMA node read from SysFS had negative value (-1), but there must be at least one NUMA node, so returning NUMA node zero. See more at https://github.com/torvalds/linux/blob/v6.0/Documentation/ABI/testing/sysfs-bus-pci#L344-L355\n",
      "2023-11-23 15:09:47.647629: I tensorflow/compiler/xla/stream_executor/cuda/cuda_gpu_executor.cc:894] successful NUMA node read from SysFS had negative value (-1), but there must be at least one NUMA node, so returning NUMA node zero. See more at https://github.com/torvalds/linux/blob/v6.0/Documentation/ABI/testing/sysfs-bus-pci#L344-L355\n",
      "2023-11-23 15:09:47.650410: I tensorflow/compiler/xla/stream_executor/cuda/cuda_gpu_executor.cc:894] successful NUMA node read from SysFS had negative value (-1), but there must be at least one NUMA node, so returning NUMA node zero. See more at https://github.com/torvalds/linux/blob/v6.0/Documentation/ABI/testing/sysfs-bus-pci#L344-L355\n",
      "2023-11-23 15:09:47.650600: I tensorflow/compiler/xla/stream_executor/cuda/cuda_gpu_executor.cc:894] successful NUMA node read from SysFS had negative value (-1), but there must be at least one NUMA node, so returning NUMA node zero. See more at https://github.com/torvalds/linux/blob/v6.0/Documentation/ABI/testing/sysfs-bus-pci#L344-L355\n",
      "2023-11-23 15:09:47.650713: I tensorflow/compiler/xla/stream_executor/cuda/cuda_gpu_executor.cc:894] successful NUMA node read from SysFS had negative value (-1), but there must be at least one NUMA node, so returning NUMA node zero. See more at https://github.com/torvalds/linux/blob/v6.0/Documentation/ABI/testing/sysfs-bus-pci#L344-L355\n",
      "2023-11-23 15:09:47.713457: I tensorflow/compiler/xla/stream_executor/cuda/cuda_gpu_executor.cc:894] successful NUMA node read from SysFS had negative value (-1), but there must be at least one NUMA node, so returning NUMA node zero. See more at https://github.com/torvalds/linux/blob/v6.0/Documentation/ABI/testing/sysfs-bus-pci#L344-L355\n",
      "2023-11-23 15:09:47.713578: I tensorflow/compiler/xla/stream_executor/cuda/cuda_gpu_executor.cc:894] successful NUMA node read from SysFS had negative value (-1), but there must be at least one NUMA node, so returning NUMA node zero. See more at https://github.com/torvalds/linux/blob/v6.0/Documentation/ABI/testing/sysfs-bus-pci#L344-L355\n",
      "2023-11-23 15:09:47.713667: I tensorflow/compiler/xla/stream_executor/cuda/cuda_gpu_executor.cc:894] successful NUMA node read from SysFS had negative value (-1), but there must be at least one NUMA node, so returning NUMA node zero. See more at https://github.com/torvalds/linux/blob/v6.0/Documentation/ABI/testing/sysfs-bus-pci#L344-L355\n",
      "2023-11-23 15:09:47.713747: I tensorflow/core/common_runtime/gpu/gpu_device.cc:1886] Created device /job:localhost/replica:0/task:0/device:GPU:0 with 4285 MB memory:  -> device: 0, name: NVIDIA GeForce RTX 4050 Laptop GPU, pci bus id: 0000:01:00.0, compute capability: 8.9\n"
     ]
    }
   ],
   "source": [
    "MEMORY_LIMIT = 5 * 1024\n",
    "\n",
    "print(\"Is there a GPU available: \"),\n",
    "print(tf.config.list_physical_devices(\"GPU\"))\n",
    "\n",
    "gpus = tf.config.list_physical_devices('GPU')\n",
    "if gpus:\n",
    "  try:\n",
    "    # Currently, memory growth needs to be the same across GPUs\n",
    "    for gpu in gpus:\n",
    "      tf.config.experimental.set_memory_growth(gpu, True)\n",
    "    logical_gpus = tf.config.list_logical_devices('GPU')\n",
    "    print(len(gpus), \"Physical GPUs,\", len(logical_gpus), \"Logical GPUs\")\n",
    "  except RuntimeError as e:\n",
    "    # Memory growth must be set before GPUs have been initialized\n",
    "    print(e)\n",
    "      \n",
    "gpus = tf.config.list_physical_devices('GPU')\n",
    "if gpus:\n",
    "  # Restrict TensorFlow to only allocate 1GB of memory on the first GPU\n",
    "  try:\n",
    "    tf.config.set_logical_device_configuration(\n",
    "        gpus[0],\n",
    "        [tf.config.LogicalDeviceConfiguration(memory_limit=MEMORY_LIMIT)])\n",
    "    logical_gpus = tf.config.list_logical_devices('GPU')\n",
    "    print(len(gpus), \"Physical GPUs,\", len(logical_gpus), \"Logical GPUs\")\n",
    "  except RuntimeError as e:\n",
    "    # Virtual devices must be set before GPUs have been initialized\n",
    "    print(e)"
   ]
  },
  {
   "cell_type": "markdown",
   "metadata": {
    "collapsed": false
   },
   "source": [
    "# Constant"
   ]
  },
  {
   "cell_type": "code",
   "execution_count": 4,
   "metadata": {
    "ExecuteTime": {
     "end_time": "2023-11-22T07:27:15.705942043Z",
     "start_time": "2023-11-22T07:27:15.664469841Z"
    },
    "collapsed": false
   },
   "outputs": [],
   "source": [
    "NUM_CLASSES = 10\n",
    "INPUT_SHAPE = (32, 32, 3)\n",
    "USE_SPARCE_LABEL = False"
   ]
  },
  {
   "cell_type": "markdown",
   "metadata": {},
   "source": [
    "# CIFAR-10"
   ]
  },
  {
   "cell_type": "code",
   "execution_count": 5,
   "metadata": {
    "ExecuteTime": {
     "end_time": "2023-11-22T07:27:17.734288784Z",
     "start_time": "2023-11-22T07:27:16.333326970Z"
    },
    "collapsed": false
   },
   "outputs": [
    {
     "data": {
      "text/plain": [
       "(40000, 32, 32, 3)"
      ]
     },
     "execution_count": 5,
     "metadata": {},
     "output_type": "execute_result"
    }
   ],
   "source": [
    "(x_train, y_train), (x_test, y_test) = tf.keras.datasets.cifar10.load_data()\n",
    "x_train, x_test = x_train / 255.0, x_test / 255.0\n",
    "x_train, x_validation, y_train, y_validation = train_test_split(\n",
    "    x_train, y_train, test_size=0.2, random_state=42\n",
    ")\n",
    "x_train.shape"
   ]
  },
  {
   "cell_type": "code",
   "execution_count": 6,
   "metadata": {},
   "outputs": [],
   "source": [
    "# One Hot Encoding the labels\n",
    "if not USE_SPARCE_LABEL:\n",
    "    y_train = keras.utils.to_categorical(y_train, NUM_CLASSES)\n",
    "    y_validation = keras.utils.to_categorical(y_validation, NUM_CLASSES)\n",
    "    y_test = keras.utils.to_categorical(y_test, NUM_CLASSES)"
   ]
  },
  {
   "cell_type": "markdown",
   "metadata": {},
   "source": [
    "# Model"
   ]
  },
  {
   "cell_type": "code",
   "execution_count": 7,
   "metadata": {
    "ExecuteTime": {
     "end_time": "2023-11-22T07:27:18.183153057Z",
     "start_time": "2023-11-22T07:27:16.410184996Z"
    }
   },
   "outputs": [
    {
     "name": "stdout",
     "output_type": "stream",
     "text": [
      "Model: \"cifar10\"\n",
      "_________________________________________________________________\n",
      " Layer (type)                Output Shape              Param #   \n",
      "=================================================================\n",
      " image (InputLayer)          [(None, 32, 32, 3)]       0         \n",
      "                                                                 \n",
      " conv2d (Conv2D)             (None, 32, 32, 32)        896       \n",
      "                                                                 \n",
      " batch_normalization (Batch  (None, 32, 32, 32)        128       \n",
      " Normalization)                                                  \n",
      "                                                                 \n",
      " conv2d_1 (Conv2D)           (None, 32, 32, 64)        18496     \n",
      "                                                                 \n",
      " max_pooling2d (MaxPooling2  (None, 16, 16, 64)        0         \n",
      " D)                                                              \n",
      "                                                                 \n",
      " dropout (Dropout)           (None, 16, 16, 64)        0         \n",
      "                                                                 \n",
      " conv2d_2 (Conv2D)           (None, 16, 16, 128)       73856     \n",
      "                                                                 \n",
      " batch_normalization_1 (Bat  (None, 16, 16, 128)       512       \n",
      " chNormalization)                                                \n",
      "                                                                 \n",
      " max_pooling2d_1 (MaxPoolin  (None, 8, 8, 128)         0         \n",
      " g2D)                                                            \n",
      "                                                                 \n",
      " dropout_1 (Dropout)         (None, 8, 8, 128)         0         \n",
      "                                                                 \n",
      " flatten (Flatten)           (None, 8192)              0         \n",
      "                                                                 \n",
      " dense (Dense)               (None, 300)               2457900   \n",
      "                                                                 \n",
      " batch_normalization_2 (Bat  (None, 300)               1200      \n",
      " chNormalization)                                                \n",
      "                                                                 \n",
      " dropout_2 (Dropout)         (None, 300)               0         \n",
      "                                                                 \n",
      " dense_1 (Dense)             (None, 200)               60200     \n",
      "                                                                 \n",
      " dense_2 (Dense)             (None, 10)                2010      \n",
      "                                                                 \n",
      "=================================================================\n",
      "Total params: 2615198 (9.98 MB)\n",
      "Trainable params: 2614278 (9.97 MB)\n",
      "Non-trainable params: 920 (3.59 KB)\n",
      "_________________________________________________________________\n"
     ]
    }
   ],
   "source": [
    "inputs = tf.keras.Input(\n",
    "    name='image',\n",
    "    shape=INPUT_SHAPE,\n",
    "    dtype=tf.float32\n",
    ") \n",
    "\n",
    "x = Conv2D(                                           \n",
    "    filters=32, \n",
    "    kernel_size=(3, 3), \n",
    "    strides=(1, 1), \n",
    "    padding=\"same\",\n",
    "    activation='relu', \n",
    "    input_shape=INPUT_SHAPE\n",
    ")(inputs)\n",
    "x = BatchNormalization()(x)\n",
    "x = Conv2D(                                           \n",
    "    filters=64, \n",
    "    kernel_size=(3, 3), \n",
    "    strides=(1, 1), \n",
    "    padding=\"same\",\n",
    "    activation='relu'\n",
    ")(x)\n",
    "x = MaxPooling2D(                                     \n",
    "    pool_size=(2, 2)\n",
    ")(x)\n",
    "x = Dropout(0.20)(x)\n",
    "\n",
    "x = Conv2D(                                           \n",
    "    filters=128, \n",
    "    kernel_size=(3, 3), \n",
    "    strides=(1, 1), \n",
    "    padding=\"same\",\n",
    "    activation='relu'\n",
    ")(x)\n",
    "x = BatchNormalization()(x)\n",
    "x = MaxPooling2D(                                     \n",
    "    pool_size=(2, 2)\n",
    ")(x)\n",
    "x = Dropout(0.20)(x)\n",
    "\n",
    "x = Flatten()(x)\n",
    "x = Dense(300, activation=\"relu\")(x)\n",
    "x = BatchNormalization()(x)\n",
    "x = Dropout(0.20)(x)\n",
    "x = Dense(200, activation=\"relu\")(x)\n",
    "outputs = Dense(NUM_CLASSES, activation=\"softmax\")(x)\n",
    "\n",
    "model: Model = Model(\n",
    "    inputs=inputs, outputs=outputs, name=\"cifar10\"\n",
    ")\n",
    "\n",
    "# --------------------------------------------------------------------------------\n",
    "# Compile model\n",
    "# --------------------------------------------------------------------------------\n",
    "learning_rate = 1e-3\n",
    "\n",
    "if USE_SPARCE_LABEL:\n",
    "    loss_fn=tf.keras.losses.SparseCategoricalCrossentropy(from_logits=False)\n",
    "else:\n",
    "    loss_fn=tf.keras.losses.CategoricalCrossentropy(from_logits=False)\n",
    "\n",
    "model.compile(\n",
    "    optimizer=Adam(learning_rate=learning_rate, beta_1=0.9, beta_2=0.999, epsilon=1e-08),\n",
    "    loss=loss_fn,\n",
    "    metrics=[\"accuracy\"]\n",
    ")\n",
    "model.summary()"
   ]
  },
  {
   "cell_type": "markdown",
   "metadata": {
    "collapsed": false
   },
   "source": [
    "---\n",
    "# Training\n"
   ]
  },
  {
   "cell_type": "code",
   "execution_count": 8,
   "metadata": {
    "ExecuteTime": {
     "end_time": "2023-11-22T07:27:19.253100730Z",
     "start_time": "2023-11-22T07:27:19.011239309Z"
    },
    "collapsed": false
   },
   "outputs": [],
   "source": [
    "batch_size = 16\n",
    "number_of_epochs = 10"
   ]
  },
  {
   "cell_type": "markdown",
   "metadata": {
    "collapsed": false
   },
   "source": [
    "## Augmented (images, labels) generator\n",
    "\n",
    "images and labels are batched with ```batch_size```."
   ]
  },
  {
   "cell_type": "code",
   "execution_count": 9,
   "metadata": {
    "ExecuteTime": {
     "end_time": "2023-11-22T07:27:19.253130105Z",
     "start_time": "2023-11-22T07:27:19.036185316Z"
    },
    "collapsed": false
   },
   "outputs": [],
   "source": [
    "def data_label_generator(x, y):\n",
    "    def _f():\n",
    "        index = 0\n",
    "        length = len(x)\n",
    "        try: \n",
    "            while True:                \n",
    "                yield x[index:index+batch_size], y[index:index+batch_size]\n",
    "                index = (index + batch_size) % length\n",
    "        except StopIteration:\n",
    "            return\n",
    "        \n",
    "    return _f"
   ]
  },
  {
   "cell_type": "code",
   "execution_count": 10,
   "metadata": {},
   "outputs": [],
   "source": [
    "earlystop_callback = tf.keras.callbacks.EarlyStopping(\n",
    "    patience=5,\n",
    "    restore_best_weights=True,\n",
    "    monitor='val_accuracy'\n",
    ")"
   ]
  },
  {
   "cell_type": "code",
   "execution_count": 11,
   "metadata": {
    "ExecuteTime": {
     "end_time": "2023-11-22T07:49:37.323772957Z",
     "start_time": "2023-11-22T07:28:04.340841919Z"
    }
   },
   "outputs": [
    {
     "name": "stdout",
     "output_type": "stream",
     "text": [
      "Epoch 1/10\n"
     ]
    },
    {
     "name": "stderr",
     "output_type": "stream",
     "text": [
      "2023-11-23 15:09:49.290036: E tensorflow/core/grappler/optimizers/meta_optimizer.cc:961] layout failed: INVALID_ARGUMENT: Size of values 0 does not match size of permutation 4 @ fanin shape incifar10/dropout/dropout/SelectV2-2-TransposeNHWCToNCHW-LayoutOptimizer\n",
      "2023-11-23 15:09:49.423526: I tensorflow/compiler/xla/stream_executor/cuda/cuda_dnn.cc:442] Loaded cuDNN version 8700\n",
      "2023-11-23 15:09:50.326331: I tensorflow/compiler/xla/service/service.cc:168] XLA service 0x7fc060243090 initialized for platform CUDA (this does not guarantee that XLA will be used). Devices:\n",
      "2023-11-23 15:09:50.326347: I tensorflow/compiler/xla/service/service.cc:176]   StreamExecutor device (0): NVIDIA GeForce RTX 4050 Laptop GPU, Compute Capability 8.9\n",
      "2023-11-23 15:09:50.329362: I tensorflow/compiler/mlir/tensorflow/utils/dump_mlir_util.cc:269] disabling MLIR crash reproducer, set env var `MLIR_CRASH_REPRODUCER_DIRECTORY` to enable.\n",
      "2023-11-23 15:09:50.392493: I ./tensorflow/compiler/jit/device_compiler.h:186] Compiled cluster using XLA!  This line is logged at most once for the lifetime of the process.\n"
     ]
    },
    {
     "name": "stdout",
     "output_type": "stream",
     "text": [
      "2500/2500 [==============================] - 24s 8ms/step - loss: 1.4146 - accuracy: 0.4997 - val_loss: 1.0906 - val_accuracy: 0.6105\n",
      "Epoch 2/10\n",
      "2500/2500 [==============================] - 21s 9ms/step - loss: 1.0306 - accuracy: 0.6375 - val_loss: 0.9779 - val_accuracy: 0.6532\n",
      "Epoch 3/10\n",
      "2500/2500 [==============================] - 22s 9ms/step - loss: 0.8780 - accuracy: 0.6925 - val_loss: 0.8194 - val_accuracy: 0.7127\n",
      "Epoch 4/10\n",
      "2500/2500 [==============================] - 21s 8ms/step - loss: 0.7641 - accuracy: 0.7315 - val_loss: 0.9330 - val_accuracy: 0.7014\n",
      "Epoch 5/10\n",
      "2500/2500 [==============================] - 21s 8ms/step - loss: 0.6797 - accuracy: 0.7614 - val_loss: 0.7908 - val_accuracy: 0.7311\n",
      "Epoch 6/10\n",
      "2500/2500 [==============================] - 21s 9ms/step - loss: 0.6182 - accuracy: 0.7841 - val_loss: 0.7371 - val_accuracy: 0.7533\n",
      "Epoch 7/10\n",
      "2500/2500 [==============================] - 21s 9ms/step - loss: 0.4981 - accuracy: 0.8217 - val_loss: 0.8221 - val_accuracy: 0.7373\n",
      "Epoch 8/10\n",
      "2500/2500 [==============================] - 22s 9ms/step - loss: 0.4363 - accuracy: 0.8437 - val_loss: 0.7865 - val_accuracy: 0.7525\n",
      "Epoch 9/10\n",
      "2500/2500 [==============================] - 23s 9ms/step - loss: 0.3962 - accuracy: 0.8596 - val_loss: 0.8198 - val_accuracy: 0.7505\n",
      "Epoch 10/10\n",
      "2500/2500 [==============================] - 22s 9ms/step - loss: 0.3463 - accuracy: 0.8776 - val_loss: 0.8472 - val_accuracy: 0.7512\n"
     ]
    }
   ],
   "source": [
    "steps_per_epoch = len(y_train) // batch_size\n",
    "validation_steps = (len(y_validation) // batch_size) - 1\n",
    "\n",
    "history = model.fit(\n",
    "    x=data_label_generator(x_train, y_train)(),\n",
    "    batch_size=batch_size,\n",
    "    epochs=number_of_epochs,\n",
    "    verbose=1,\n",
    "    validation_data=data_label_generator(x_validation, y_validation)(),\n",
    "    shuffle=True,\n",
    "    steps_per_epoch=steps_per_epoch,\n",
    "    validation_steps=validation_steps,\n",
    "    validation_batch_size=batch_size,\n",
    "    callbacks=[\n",
    "        earlystop_callback\n",
    "    ]\n",
    ")"
   ]
  },
  {
   "cell_type": "markdown",
   "metadata": {},
   "source": [
    "---\n",
    "# Evaluation"
   ]
  },
  {
   "cell_type": "code",
   "execution_count": 12,
   "metadata": {
    "ExecuteTime": {
     "start_time": "2023-11-22T07:27:19.542267475Z"
    }
   },
   "outputs": [
    {
     "name": "stdout",
     "output_type": "stream",
     "text": [
      "100/100 [==============================] - 1s 6ms/step - loss: 0.8661 - accuracy: 0.7434\n",
      "test loss, test accuracy: [0.8661438226699829, 0.743399977684021]\n"
     ]
    }
   ],
   "source": [
    "results = model.evaluate(x_test, y_test, batch_size=100)\n",
    "print(\"test loss, test accuracy:\", results)"
   ]
  },
  {
   "cell_type": "code",
   "execution_count": 19,
   "metadata": {},
   "outputs": [
    {
     "name": "stdout",
     "output_type": "stream",
     "text": [
      "1/1 [==============================] - 0s 14ms/step\n",
      "automobile\n"
     ]
    },
    {
     "data": {
      "image/png": "[encoded data removed]",
      "text/plain": [
       "<Figure size 640x480 with 1 Axes>"
      ]
     },
     "metadata": {},
     "output_type": "display_data"
    }
   ],
   "source": [
    "index = np.random.choice(range(len(x_test)))\n",
    "predictions = np.argmax(model.predict(x_test[index].reshape((1, 32, 32, 3))), axis=-1)\n",
    "predictions\n",
    "\n",
    "LIB_DIR = \"/home/eml/home/repository/git/oonisim/lib/code/python\"\n",
    "if LIB_DIR not in sys.path:\n",
    "    sys.path.append(\n",
    "        LIB_DIR    \n",
    "    )\n",
    "class_labels = np.array([\n",
    "    'airplane', \n",
    "    'automobile', \n",
    "    'bird', \n",
    "    'cat', \n",
    "    'deer', \n",
    "    'dog', \n",
    "    'frog', \n",
    "    'horse', \n",
    "    'ship', \n",
    "    'truck'\n",
    "])\n",
    "from lib.util_opencv.image import (\n",
    "    show_image,\n",
    ")\n",
    "image = x_test[index] * 255.0\n",
    "show_image(image.astype(np.uint8))\n",
    "print(class_labels[predictions[0]])"
   ]
  },
  {
   "cell_type": "code",
   "execution_count": null,
   "metadata": {},
   "outputs": [],
   "source": []
  }
 ],
 "metadata": {
  "instance_type": "ml.g4dn.xlarge",
  "kernelspec": {
   "display_name": "Python 3 (ipykernel)",
   "language": "python",
   "name": "python3"
  },
  "language_info": {
   "codemirror_mode": {
    "name": "ipython",
    "version": 3
   },
   "file_extension": ".py",
   "mimetype": "text/x-python",
   "name": "python",
   "nbconvert_exporter": "python",
   "pygments_lexer": "ipython3",
   "version": "3.10.12"
  }
 },
 "nbformat": 4,
 "nbformat_minor": 4
}
