{
 "cells": [
  {
   "cell_type": "markdown",
   "id": "94926c28bb723e26",
   "metadata": {
    "collapsed": false,
    "jupyter": {
     "outputs_hidden": false
    }
   },
   "source": [
    "# Model.fit() input as ```tf.data.Dataset```"
   ]
  },
  {
   "cell_type": "markdown",
   "id": "b02e4b02da9bf4b4",
   "metadata": {
    "collapsed": false,
    "jupyter": {
     "outputs_hidden": false
    }
   },
   "source": [
    "* [tf.keras.Model.fit()](https://www.tensorflow.org/api_docs/python/tf/keras/Model#fit)\n",
    "\n",
    "> A tf.data dataset. Should return a tuple of either **(inputs, targets)** or (inputs, targets, sample_weights).\n",
    "\n",
    "* [How do I train my keras model using Tf Datasets #720](https://github.com/tensorflow/datasets/issues/720)\n",
    "\n",
    "> You can use ```tfds.load(as_supervised=True)``` kwargs to return an **```(image, label)``` tuple expected by keras**. \n",
    "For images, you would have in addition to cast/normalize the image to tf.float32, for this, you can use ```tf.data.Dataset.map```.\n",
    "> \n",
    "> ```\n",
    "> def _normalize_img(img, label):\n",
    ">   img = tf.cast(img, tf.float32) / 255.\n",
    ">   return (img, label)\n",
    "> \n",
    "> ds = tfds.load('mnist', split='train', as_supervised=True)\n",
    "> ds = ds.batch(32)\n",
    "> ds = ds.map(_normalize_img)\n",
    ">\n",
    "> model.fit(ds_train, epochs=5)\n",
    "> ```\n",
    " \n",
    "* [How does tf.keras.Model tell between features and label(s) in tf.data.Dataset and in TFRecords?](https://stackoverflow.com/a/59838140/4281353) \n",
    "\n",
    "> As such, the dataset that is given to model.fit is actually **a dataset of tuples**, and to the best of my knowledge, this is exactly what the model will assume if you provide a tf.data.Dataset as input to the fit function -- **a dataset of tuples (inputs, labels)**. So the first will be taken as input to the model, the second as target for the loss function.\n",
    "\n",
    "* [Support model.fit using targets in a dictionary](https://github.com/tensorflow/tensorflow/issues/24962#issuecomment-475709720)\n",
    "\n",
    "> ```\n",
    "> def make_dataset(images, labels, batch_size=64, buffer_size=1024, shuffle=True):\n",
    ">     inputs = dict(images=images)\n",
    ">     outputs = dict(labels=labels)\n",
    ">     dataset = tf.data.Dataset.from_tensor_slices((inputs, outputs))\n",
    ">     if shuffle:\n",
    ">         dataset = dataset.shuffle(buffer_size=buffer_size)\n",
    ">     dataset = dataset.prefetch(buffer_size=tf.data.experimental.AUTOTUNE)\n",
    ">     dataset = dataset.map(map_func=normalize_fn, num_parallel_calls=8)\n",
    ">     dataset = dataset.batch(batch_size)\n",
    ">     return dataset\n",
    "> \n",
    "> model.add(tf.keras.Input(shape=(28, 28, 1), name='images'))\n",
    "> model.add(tf.keras.layers.Dense(10, activation='softmax', name='labels'))\n",
    "> ```"
   ]
  },
  {
   "cell_type": "markdown",
   "id": "49d085b8-cb2b-4811-8de7-6bf27ab13662",
   "metadata": {
    "ExecuteTime": {
     "end_time": "2023-11-19T00:16:31.140340504Z",
     "start_time": "2023-11-19T00:16:31.134568327Z"
    },
    "collapsed": false,
    "jupyter": {
     "outputs_hidden": false
    }
   },
   "source": [
    "# Baics\n",
    "\n",
    "1. Generate a ```tf.data.Dataset``` that returns ```(data, label)```.\n",
    "2. Use tf.data.Dataset.from_tensor_slices((inputs, outputs)) where inputs and outputs are separate sequences.\n",
    "\n",
    "## Batch Shape\n",
    "\n",
    "```\n",
    "model.fit(dataset)\n",
    "---\n",
    "ValueError: Input 0 of layer \"model_6\" is incompatible with the layer:\n",
    "expected shape=(None, 448, 448, 3), found shape=(448, 448, 3)\n",
    "```\n",
    "\n",
    "```tf.keras.Model.fit()``` expects batches. DO not forget ```tf.data.Dataset.batch(batch_size)``` to have the batched shape.\n",
    "```\n",
    "model.fit(dataset.batch(batch_size))\n",
    "```"
   ]
  },
  {
   "cell_type": "code",
   "execution_count": null,
   "id": "14b0be34cbc7aa92",
   "metadata": {
    "collapsed": false,
    "jupyter": {
     "outputs_hidden": false
    }
   },
   "outputs": [],
   "source": []
  }
 ],
 "metadata": {
  "kernelspec": {
   "display_name": "Python 3 (ipykernel)",
   "language": "python",
   "name": "python3"
  },
  "language_info": {
   "codemirror_mode": {
    "name": "ipython",
    "version": 3
   },
   "file_extension": ".py",
   "mimetype": "text/x-python",
   "name": "python",
   "nbconvert_exporter": "python",
   "pygments_lexer": "ipython3",
   "version": "3.10.12"
  }
 },
 "nbformat": 4,
 "nbformat_minor": 5
}
