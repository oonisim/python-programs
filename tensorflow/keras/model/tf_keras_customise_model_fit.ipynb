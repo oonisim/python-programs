{
 "cells": [
  {
   "cell_type": "markdown",
   "id": "77bd190f",
   "metadata": {},
   "source": [
    "# Customise Keras Model fit() method\n",
    "\n",
    "* [Customize what happens in Model.fit](https://www.tensorflow.org/guide/keras/customizing_what_happens_in_fit#providing_your_own_evaluation_step)\n",
    "\n",
    "> When you need to customize what fit() does, you should override the training step function of the Model class. This is the function that is called by fit() for every batch of data. You will then be able to call fit() as usual -- and it will be running your own learning algorithm."
   ]
  },
  {
   "cell_type": "code",
   "execution_count": 1,
   "id": "311db047",
   "metadata": {},
   "outputs": [],
   "source": [
    "import os\n",
    "import sys\n",
    "import json\n",
    "import pathlib\n",
    "from typing import (\n",
    "    List,\n",
    "    Dict,\n",
    "    Tuple\n",
    ")\n",
    "\n",
    "import numpy as np\n",
    "import tensorflow as tf\n",
    "from tensorflow import keras   # MUST to make sure of using tensorflow.keras, not keras\n",
    "from tensorflow.keras import (\n",
    "    backend as K\n",
    ")\n",
    "from tensorflow.keras.models import (\n",
    "    Model,\n",
    ")\n",
    "from tensorflow.keras.layers import (\n",
    "    Layer,\n",
    "    Normalization,\n",
    ")\n",
    "import tensorflow_datasets as tfds"
   ]
  }
 ],
 "metadata": {
  "kernelspec": {
   "display_name": "Python 3 (ipykernel)",
   "language": "python",
   "name": "python3"
  },
  "language_info": {
   "codemirror_mode": {
    "name": "ipython",
    "version": 3
   },
   "file_extension": ".py",
   "mimetype": "text/x-python",
   "name": "python",
   "nbconvert_exporter": "python",
   "pygments_lexer": "ipython3",
   "version": "3.9.13"
  }
 },
 "nbformat": 4,
 "nbformat_minor": 5
}
