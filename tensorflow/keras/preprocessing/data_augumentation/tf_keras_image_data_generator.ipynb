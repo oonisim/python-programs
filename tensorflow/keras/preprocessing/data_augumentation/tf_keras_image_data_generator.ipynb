{
 "cells": [
  {
   "cell_type": "markdown",
   "metadata": {},
   "source": [
    "# CNN using augmented CIFAR10\n",
    "\n",
    "Test CNN via build_layers() on augmented CIFAR10. "
   ]
  },
  {
   "cell_type": "code",
   "execution_count": 1,
   "metadata": {
    "ExecuteTime": {
     "end_time": "2023-11-23T10:13:31.529217758Z",
     "start_time": "2023-11-23T10:13:31.514021153Z"
    }
   },
   "outputs": [],
   "source": [
    "import os\n",
    "import sys\n",
    "import pathlib\n",
    "import shutil\n",
    "from typing import (\n",
    "    Optional,\n",
    "    Tuple,\n",
    "    Generator,\n",
    "    Any\n",
    ")"
   ]
  },
  {
   "cell_type": "code",
   "execution_count": 2,
   "metadata": {
    "ExecuteTime": {
     "end_time": "2023-11-23T10:13:33.032053352Z",
     "start_time": "2023-11-23T10:13:31.514112193Z"
    }
   },
   "outputs": [
    {
     "name": "stderr",
     "output_type": "stream",
     "text": [
      "2023-11-23 21:13:31.820197: I tensorflow/core/util/port.cc:111] oneDNN custom operations are on. You may see slightly different numerical results due to floating-point round-off errors from different computation orders. To turn them off, set the environment variable `TF_ENABLE_ONEDNN_OPTS=0`.\n",
      "2023-11-23 21:13:31.845736: E tensorflow/compiler/xla/stream_executor/cuda/cuda_dnn.cc:9342] Unable to register cuDNN factory: Attempting to register factory for plugin cuDNN when one has already been registered\n",
      "2023-11-23 21:13:31.845758: E tensorflow/compiler/xla/stream_executor/cuda/cuda_fft.cc:609] Unable to register cuFFT factory: Attempting to register factory for plugin cuFFT when one has already been registered\n",
      "2023-11-23 21:13:31.845777: E tensorflow/compiler/xla/stream_executor/cuda/cuda_blas.cc:1518] Unable to register cuBLAS factory: Attempting to register factory for plugin cuBLAS when one has already been registered\n",
      "2023-11-23 21:13:31.850801: I tensorflow/core/platform/cpu_feature_guard.cc:182] This TensorFlow binary is optimized to use available CPU instructions in performance-critical operations.\n",
      "To enable the following instructions: AVX2 AVX_VNNI FMA, in other operations, rebuild TensorFlow with the appropriate compiler flags.\n"
     ]
    },
    {
     "name": "stdout",
     "output_type": "stream",
     "text": [
      "TensorFlow version: 2.14.1\n",
      "Keras version: 2.14.0\n"
     ]
    }
   ],
   "source": [
    "import matplotlib.pyplot as plt\n",
    "import numpy as np\n",
    "import tensorflow as tf\n",
    "from tensorflow import keras\n",
    "from keras import (\n",
    "    __version__\n",
    ")\n",
    "\n",
    "from keras.datasets import cifar10\n",
    "from keras.layers import (\n",
    "    Layer,\n",
    "    Normalization,\n",
    "    Conv2D,\n",
    "    MaxPooling2D,\n",
    "    BatchNormalization,\n",
    "    Dense,\n",
    "    Flatten,\n",
    "    Dropout,\n",
    "    Reshape,\n",
    "    Activation,\n",
    "    ReLU,\n",
    "    LeakyReLU,\n",
    ")\n",
    "from keras.models import (\n",
    "    Model,\n",
    "    Sequential\n",
    ")\n",
    "from keras.layers import (\n",
    "    Layer\n",
    ")\n",
    "from keras.optimizers import (\n",
    "    Adam\n",
    ")\n",
    "from keras.preprocessing.image import (\n",
    "    ImageDataGenerator\n",
    ")\n",
    "from sklearn.model_selection import train_test_split\n",
    "\n",
    "print(\"TensorFlow version: {}\".format(tf.__version__))\n",
    "tf.keras.__version__ = __version__\n",
    "print(\"Keras version: {}\".format(tf.keras.__version__))"
   ]
  },
  {
   "cell_type": "markdown",
   "metadata": {
    "collapsed": false
   },
   "source": [
    "# GPU"
   ]
  },
  {
   "cell_type": "code",
   "execution_count": 3,
   "metadata": {
    "collapsed": false,
    "scrolled": true,
    "ExecuteTime": {
     "end_time": "2023-11-23T10:13:33.197411036Z",
     "start_time": "2023-11-23T10:13:33.151079120Z"
    }
   },
   "outputs": [
    {
     "name": "stdout",
     "output_type": "stream",
     "text": [
      "Is there a GPU available: \n",
      "[PhysicalDevice(name='/physical_device:GPU:0', device_type='GPU')]\n",
      "1 Physical GPUs, 1 Logical GPUs\n",
      "Virtual devices cannot be modified after being initialized\n"
     ]
    },
    {
     "name": "stderr",
     "output_type": "stream",
     "text": [
      "2023-11-23 21:13:33.074045: I tensorflow/compiler/xla/stream_executor/cuda/cuda_gpu_executor.cc:894] successful NUMA node read from SysFS had negative value (-1), but there must be at least one NUMA node, so returning NUMA node zero. See more at https://github.com/torvalds/linux/blob/v6.0/Documentation/ABI/testing/sysfs-bus-pci#L344-L355\n",
      "2023-11-23 21:13:33.083088: I tensorflow/compiler/xla/stream_executor/cuda/cuda_gpu_executor.cc:894] successful NUMA node read from SysFS had negative value (-1), but there must be at least one NUMA node, so returning NUMA node zero. See more at https://github.com/torvalds/linux/blob/v6.0/Documentation/ABI/testing/sysfs-bus-pci#L344-L355\n",
      "2023-11-23 21:13:33.083365: I tensorflow/compiler/xla/stream_executor/cuda/cuda_gpu_executor.cc:894] successful NUMA node read from SysFS had negative value (-1), but there must be at least one NUMA node, so returning NUMA node zero. See more at https://github.com/torvalds/linux/blob/v6.0/Documentation/ABI/testing/sysfs-bus-pci#L344-L355\n",
      "2023-11-23 21:13:33.086039: I tensorflow/compiler/xla/stream_executor/cuda/cuda_gpu_executor.cc:894] successful NUMA node read from SysFS had negative value (-1), but there must be at least one NUMA node, so returning NUMA node zero. See more at https://github.com/torvalds/linux/blob/v6.0/Documentation/ABI/testing/sysfs-bus-pci#L344-L355\n",
      "2023-11-23 21:13:33.086281: I tensorflow/compiler/xla/stream_executor/cuda/cuda_gpu_executor.cc:894] successful NUMA node read from SysFS had negative value (-1), but there must be at least one NUMA node, so returning NUMA node zero. See more at https://github.com/torvalds/linux/blob/v6.0/Documentation/ABI/testing/sysfs-bus-pci#L344-L355\n",
      "2023-11-23 21:13:33.086396: I tensorflow/compiler/xla/stream_executor/cuda/cuda_gpu_executor.cc:894] successful NUMA node read from SysFS had negative value (-1), but there must be at least one NUMA node, so returning NUMA node zero. See more at https://github.com/torvalds/linux/blob/v6.0/Documentation/ABI/testing/sysfs-bus-pci#L344-L355\n",
      "2023-11-23 21:13:33.147705: I tensorflow/compiler/xla/stream_executor/cuda/cuda_gpu_executor.cc:894] successful NUMA node read from SysFS had negative value (-1), but there must be at least one NUMA node, so returning NUMA node zero. See more at https://github.com/torvalds/linux/blob/v6.0/Documentation/ABI/testing/sysfs-bus-pci#L344-L355\n",
      "2023-11-23 21:13:33.147833: I tensorflow/compiler/xla/stream_executor/cuda/cuda_gpu_executor.cc:894] successful NUMA node read from SysFS had negative value (-1), but there must be at least one NUMA node, so returning NUMA node zero. See more at https://github.com/torvalds/linux/blob/v6.0/Documentation/ABI/testing/sysfs-bus-pci#L344-L355\n",
      "2023-11-23 21:13:33.147923: I tensorflow/compiler/xla/stream_executor/cuda/cuda_gpu_executor.cc:894] successful NUMA node read from SysFS had negative value (-1), but there must be at least one NUMA node, so returning NUMA node zero. See more at https://github.com/torvalds/linux/blob/v6.0/Documentation/ABI/testing/sysfs-bus-pci#L344-L355\n",
      "2023-11-23 21:13:33.148003: I tensorflow/core/common_runtime/gpu/gpu_device.cc:1886] Created device /job:localhost/replica:0/task:0/device:GPU:0 with 3293 MB memory:  -> device: 0, name: NVIDIA GeForce RTX 4050 Laptop GPU, pci bus id: 0000:01:00.0, compute capability: 8.9\n"
     ]
    }
   ],
   "source": [
    "MEMORY_LIMIT = 5 * 1024\n",
    "\n",
    "print(\"Is there a GPU available: \"),\n",
    "print(tf.config.list_physical_devices(\"GPU\"))\n",
    "\n",
    "gpus = tf.config.list_physical_devices('GPU')\n",
    "if gpus:\n",
    "  try:\n",
    "    # Currently, memory growth needs to be the same across GPUs\n",
    "    for gpu in gpus:\n",
    "      tf.config.experimental.set_memory_growth(gpu, True)\n",
    "    logical_gpus = tf.config.list_logical_devices('GPU')\n",
    "    print(len(gpus), \"Physical GPUs,\", len(logical_gpus), \"Logical GPUs\")\n",
    "  except RuntimeError as e:\n",
    "    # Memory growth must be set before GPUs have been initialized\n",
    "    print(e)\n",
    "      \n",
    "gpus = tf.config.list_physical_devices('GPU')\n",
    "if gpus:\n",
    "  # Restrict TensorFlow to only allocate 1GB of memory on the first GPU\n",
    "  try:\n",
    "    tf.config.set_logical_device_configuration(\n",
    "        gpus[0],\n",
    "        [tf.config.LogicalDeviceConfiguration(memory_limit=MEMORY_LIMIT)])\n",
    "    logical_gpus = tf.config.list_logical_devices('GPU')\n",
    "    print(len(gpus), \"Physical GPUs,\", len(logical_gpus), \"Logical GPUs\")\n",
    "  except RuntimeError as e:\n",
    "    # Virtual devices must be set before GPUs have been initialized\n",
    "    print(e)"
   ]
  },
  {
   "cell_type": "code",
   "execution_count": 4,
   "metadata": {
    "ExecuteTime": {
     "end_time": "2023-11-23T10:13:33.197558055Z",
     "start_time": "2023-11-23T10:13:33.194045273Z"
    }
   },
   "outputs": [],
   "source": [
    "path_to_lib: str = str(pathlib.Path(os.path.join(os.getcwd(), \"../../../../..\")).resolve())\n",
    "assert isinstance(path_to_lib, str)\n",
    "sys.path.append(path_to_lib)"
   ]
  },
  {
   "cell_type": "markdown",
   "metadata": {
    "collapsed": false
   },
   "source": [
    "# Constant"
   ]
  },
  {
   "cell_type": "code",
   "execution_count": 5,
   "metadata": {
    "collapsed": false,
    "ExecuteTime": {
     "end_time": "2023-11-23T10:13:33.197592340Z",
     "start_time": "2023-11-23T10:13:33.194111756Z"
    }
   },
   "outputs": [],
   "source": [
    "NUM_CLASSES = 10\n",
    "input_shape = (32, 32, 3)"
   ]
  },
  {
   "cell_type": "markdown",
   "metadata": {},
   "source": [
    "# CIFAR-10"
   ]
  },
  {
   "cell_type": "code",
   "execution_count": 6,
   "metadata": {
    "ExecuteTime": {
     "end_time": "2023-11-23T10:13:33.719538102Z",
     "start_time": "2023-11-23T10:13:33.194130940Z"
    }
   },
   "outputs": [
    {
     "data": {
      "text/plain": "<Figure size 640x480 with 9 Axes>",
      "image/png": "[encoded data removed]"
     },
     "metadata": {},
     "output_type": "display_data"
    }
   ],
   "source": [
    "(x_train, y_train), (x_test, y_test) = cifar10.load_data()\n",
    "for i in range(0,9):\n",
    "    plt.subplot(330 + 1 + i)\n",
    "    plt.imshow(x_train[i])\n",
    "plt.show()"
   ]
  },
  {
   "cell_type": "markdown",
   "metadata": {
    "collapsed": false
   },
   "source": [
    "## Augmented (images, labels) generator\n",
    "\n",
    "images and labels are batched with ```batch_size```."
   ]
  },
  {
   "cell_type": "code",
   "execution_count": 7,
   "metadata": {
    "ExecuteTime": {
     "end_time": "2023-11-23T10:13:33.769103931Z",
     "start_time": "2023-11-23T10:13:33.721537642Z"
    }
   },
   "outputs": [],
   "source": [
    "imgen = ImageDataGenerator(\n",
    "    rotation_range=15,\n",
    "    width_shift_range=0.1,\n",
    "    height_shift_range=0.1,\n",
    "    zoom_range=0.2,\n",
    "    horizontal_flip=True,\n",
    "    vertical_flip=False,\n",
    ")"
   ]
  },
  {
   "cell_type": "code",
   "execution_count": 8,
   "metadata": {
    "ExecuteTime": {
     "end_time": "2023-11-23T10:13:34.176986907Z",
     "start_time": "2023-11-23T10:13:33.762159968Z"
    }
   },
   "outputs": [
    {
     "data": {
      "text/plain": "<Figure size 640x480 with 9 Axes>",
      "image/png": "[encoded data removed]"
     },
     "metadata": {},
     "output_type": "display_data"
    }
   ],
   "source": [
    "# see example augmentation images\n",
    "for X_batch, y_batch in imgen.flow(x_train, y_train, batch_size=9):\n",
    "    for i in range(0, 9):\n",
    "        plt.subplot(330 + 1 + i)\n",
    "        plt.imshow(X_batch[i].astype(np.uint8))\n",
    "    plt.show()\n",
    "    break"
   ]
  },
  {
   "cell_type": "code",
   "execution_count": 9,
   "metadata": {
    "ExecuteTime": {
     "end_time": "2023-11-23T10:13:34.818753925Z",
     "start_time": "2023-11-23T10:13:34.175060244Z"
    }
   },
   "outputs": [
    {
     "data": {
      "text/plain": "(40000, 32, 32, 3)"
     },
     "execution_count": 9,
     "metadata": {},
     "output_type": "execute_result"
    }
   ],
   "source": [
    "x_train=x_train.astype(\"float32\")  \n",
    "x_test=x_test.astype(\"float32\")\n",
    "\n",
    "mean=np.mean(x_train)\n",
    "std=np.std(x_train)\n",
    "\n",
    "x_test=(x_test-mean)/std\n",
    "x_train=(x_train-mean)/std\n",
    "x_train, x_validation, y_train, y_validation = train_test_split(\n",
    "    x_train, y_train, test_size=0.2, random_state=42, shuffle=True\n",
    ")\n",
    "\n",
    "x_train.shape"
   ]
  },
  {
   "cell_type": "raw",
   "metadata": {
    "ExecuteTime": {
     "end_time": "2023-11-22T07:27:17.734288784Z",
     "start_time": "2023-11-22T07:27:16.333326970Z"
    },
    "collapsed": false
   },
   "source": [
    "x_train, x_test = x_train / 255.0, x_test / 255.0\n",
    "x_train, x_validation, y_train, y_validation = train_test_split(\n",
    "    x_train, y_train, test_size=0.2, random_state=42, shuffle=True\n",
    ")\n",
    "\n",
    "x_train.shape"
   ]
  },
  {
   "cell_type": "code",
   "execution_count": 9,
   "outputs": [],
   "source": [],
   "metadata": {
    "collapsed": false,
    "ExecuteTime": {
     "end_time": "2023-11-23T10:13:34.819309651Z",
     "start_time": "2023-11-23T10:13:34.817079760Z"
    }
   }
  },
  {
   "cell_type": "markdown",
   "metadata": {},
   "source": [
    "# Model"
   ]
  },
  {
   "cell_type": "code",
   "execution_count": 10,
   "outputs": [
    {
     "name": "stdout",
     "output_type": "stream",
     "text": [
      "Model: \"cifar10\"\n",
      "_________________________________________________________________\n",
      " Layer (type)                Output Shape              Param #   \n",
      "=================================================================\n",
      " image (InputLayer)          [(None, 32, 32, 3)]       0         \n",
      "                                                                 \n",
      " conv2d (Conv2D)             (None, 32, 32, 32)        896       \n",
      "                                                                 \n",
      " max_pooling2d (MaxPooling2  (None, 16, 16, 32)        0         \n",
      " D)                                                              \n",
      "                                                                 \n",
      " batch_normalization (Batch  (None, 16, 16, 32)        128       \n",
      " Normalization)                                                  \n",
      "                                                                 \n",
      " conv2d_1 (Conv2D)           (None, 16, 16, 64)        18496     \n",
      "                                                                 \n",
      " max_pooling2d_1 (MaxPoolin  (None, 8, 8, 64)          0         \n",
      " g2D)                                                            \n",
      "                                                                 \n",
      " dropout (Dropout)           (None, 8, 8, 64)          0         \n",
      "                                                                 \n",
      " batch_normalization_1 (Bat  (None, 8, 8, 64)          256       \n",
      " chNormalization)                                                \n",
      "                                                                 \n",
      " conv2d_2 (Conv2D)           (None, 8, 8, 128)         73856     \n",
      "                                                                 \n",
      " max_pooling2d_2 (MaxPoolin  (None, 4, 4, 128)         0         \n",
      " g2D)                                                            \n",
      "                                                                 \n",
      " dropout_1 (Dropout)         (None, 4, 4, 128)         0         \n",
      "                                                                 \n",
      " flatten (Flatten)           (None, 2048)              0         \n",
      "                                                                 \n",
      " batch_normalization_2 (Bat  (None, 2048)              8192      \n",
      " chNormalization)                                                \n",
      "                                                                 \n",
      " dense (Dense)               (None, 300)               614700    \n",
      "                                                                 \n",
      " dropout_2 (Dropout)         (None, 300)               0         \n",
      "                                                                 \n",
      " batch_normalization_3 (Bat  (None, 300)               1200      \n",
      " chNormalization)                                                \n",
      "                                                                 \n",
      " dense_1 (Dense)             (None, 200)               60200     \n",
      "                                                                 \n",
      " dense_2 (Dense)             (None, 10)                2010      \n",
      "                                                                 \n",
      "=================================================================\n",
      "Total params: 779934 (2.98 MB)\n",
      "Trainable params: 775046 (2.96 MB)\n",
      "Non-trainable params: 4888 (19.09 KB)\n",
      "_________________________________________________________________\n"
     ]
    }
   ],
   "source": [
    "inputs = tf.keras.Input(\n",
    "    name='image',\n",
    "    shape=input_shape,\n",
    "    dtype=tf.float32\n",
    ") \n",
    "\n",
    "x = Conv2D(                                           \n",
    "    filters=32, \n",
    "    kernel_size=(3, 3), \n",
    "    strides=(1, 1), \n",
    "    padding=\"same\",\n",
    "    activation='relu', \n",
    "    input_shape=input_shape\n",
    ")(inputs)\n",
    "x = MaxPooling2D(                                     \n",
    "    pool_size=(2, 2)\n",
    ")(x)\n",
    "x = BatchNormalization()(x)\n",
    "x = Conv2D(                                           \n",
    "    filters=64, \n",
    "    kernel_size=(3, 3), \n",
    "    strides=(1, 1), \n",
    "    padding=\"same\",\n",
    "    activation='relu', \n",
    "    input_shape=input_shape\n",
    ")(x)\n",
    "x = MaxPooling2D(                                     \n",
    "    pool_size=(2, 2)\n",
    ")(x)\n",
    "x = Dropout(0.20)(x)\n",
    "\n",
    "x = BatchNormalization()(x)\n",
    "x = Conv2D(                                           \n",
    "    filters=128, \n",
    "    kernel_size=(3, 3), \n",
    "    strides=(1, 1), \n",
    "    padding=\"same\",\n",
    "    activation='relu', \n",
    "    input_shape=input_shape\n",
    ")(x)\n",
    "x = MaxPooling2D(                                     \n",
    "    pool_size=(2, 2)\n",
    ")(x)\n",
    "x = Dropout(0.20)(x)\n",
    "x = Flatten()(x)\n",
    "\n",
    "x = BatchNormalization()(x)\n",
    "x = Dense(300, activation=\"relu\")(x)\n",
    "x = Dropout(0.20)(x)\n",
    "x = BatchNormalization()(x)\n",
    "x = Dense(200, activation=\"relu\")(x)\n",
    "outputs = Dense(NUM_CLASSES, activation=\"softmax\")(x)\n",
    "\n",
    "model: Model = Model(\n",
    "    inputs=inputs, outputs=outputs, name=\"cifar10\"\n",
    ")\n",
    "\n",
    "# --------------------------------------------------------------------------------\n",
    "# Compile model\n",
    "# --------------------------------------------------------------------------------\n",
    "learning_rate = 1e-3\n",
    "model.compile(\n",
    "    optimizer=Adam(learning_rate=learning_rate),\n",
    "    loss=tf.keras.losses.SparseCategoricalCrossentropy(from_logits=False),\n",
    "    # https://stackoverflow.com/a/77535234/4281353\n",
    "    # metrics=[\"accuracy\"]\n",
    "    metrics=[tf.keras.metrics.SparseCategoricalAccuracy(name='accuracy')]\n",
    ")\n",
    "model.summary()"
   ],
   "metadata": {
    "collapsed": false,
    "ExecuteTime": {
     "end_time": "2023-11-23T10:13:34.993369581Z",
     "start_time": "2023-11-23T10:13:34.822563313Z"
    }
   }
  },
  {
   "cell_type": "raw",
   "source": [
    "# https://stackoverflow.com/a/77535234/4281353\n",
    "y_train = keras.utils.to_categorical(y_train, NUM_CLASSES)\n",
    "y_validation = keras.utils.to_categorical(y_validation, NUM_CLASSES)\n",
    "y_test = keras.utils.to_categorical(y_test, NUM_CLASSES)\n",
    "\n",
    "reg2=None\n",
    "num_filters2=32\n",
    "ac2='relu'\n",
    "\n",
    "learning_rate = 1e-3\n",
    "adm2=Adam(learning_rate=0.001, beta_1=0.9, beta_2=0.999, epsilon=1e-08)\n",
    "opt2=adm2\n",
    "drop_dense2=0.5\n",
    "drop_conv2=0\n",
    "\n",
    "model = Sequential()\n",
    "\n",
    "model.add(Conv2D(num_filters2, (3, 3), activation=ac2, kernel_regularizer=reg2, input_shape=input_shape,padding='same'))\n",
    "model.add(BatchNormalization(axis=-1))\n",
    "model.add(Conv2D(num_filters2, (3, 3), activation=ac2,kernel_regularizer=reg2,padding='same'))\n",
    "model.add(BatchNormalization(axis=-1))\n",
    "model.add(MaxPooling2D(pool_size=(2, 2)))   # reduces to 16x16x3xnum_filters\n",
    "model.add(Dropout(drop_conv2))\n",
    "\n",
    "model.add(Conv2D(2*num_filters2, (3, 3), activation=ac2,kernel_regularizer=reg2,padding='same'))\n",
    "model.add(BatchNormalization(axis=-1))\n",
    "model.add(Conv2D(2*num_filters2, (3, 3), activation=ac2,kernel_regularizer=reg2,padding='same'))\n",
    "model.add(BatchNormalization(axis=-1))\n",
    "model.add(MaxPooling2D(pool_size=(2, 2)))   # reduces to 8x8x3x(2*num_filters)\n",
    "model.add(Dropout(drop_conv2))\n",
    "\n",
    "model.add(Conv2D(4*num_filters2, (3, 3), activation=ac2,kernel_regularizer=reg2,padding='same'))\n",
    "model.add(BatchNormalization(axis=-1))\n",
    "model.add(Conv2D(4*num_filters2, (3, 3), activation=ac2,kernel_regularizer=reg2,padding='same'))\n",
    "model.add(BatchNormalization(axis=-1))\n",
    "model.add(MaxPooling2D(pool_size=(2, 2)))   # reduces to 4x4x3x(4*num_filters)\n",
    "model.add(Dropout(drop_conv2))\n",
    "\n",
    "model.add(Flatten())\n",
    "model.add(Dense(512, activation=ac2,kernel_regularizer=reg2))\n",
    "model.add(BatchNormalization())\n",
    "model.add(Dropout(drop_dense2))\n",
    "model.add(Dense(NUM_CLASSES, activation='softmax'))\n",
    "\n",
    "learning_rate = 1e-3\n",
    "model.compile(\n",
    "    optimizer=Adam(learning_rate=learning_rate, beta_1=0.9, beta_2=0.999, epsilon=1e-08),\n",
    "    #loss=tf.keras.losses.SparseCategoricalCrossentropy(from_logits=False),\n",
    "    loss=tf.keras.losses.CategoricalCrossentropy(from_logits=False),\n",
    "    metrics=[\"accuracy\"]\n",
    ")"
   ],
   "metadata": {
    "collapsed": false
   }
  },
  {
   "cell_type": "markdown",
   "metadata": {
    "collapsed": false
   },
   "source": [
    "---\n",
    "# Training\n"
   ]
  },
  {
   "cell_type": "code",
   "execution_count": 11,
   "metadata": {
    "collapsed": false,
    "ExecuteTime": {
     "end_time": "2023-11-23T10:13:34.994527289Z",
     "start_time": "2023-11-23T10:13:34.990504695Z"
    }
   },
   "outputs": [],
   "source": [
    "batch_size = 16\n",
    "number_of_epochs = 16"
   ]
  },
  {
   "cell_type": "code",
   "execution_count": 12,
   "metadata": {
    "ExecuteTime": {
     "end_time": "2023-11-23T10:13:34.995957625Z",
     "start_time": "2023-11-23T10:13:34.990590633Z"
    }
   },
   "outputs": [],
   "source": [
    "earlystop_callback = tf.keras.callbacks.EarlyStopping(\n",
    "    patience=30,\n",
    "    restore_best_weights=True,\n",
    "    monitor='val_loss'\n",
    ")"
   ]
  },
  {
   "cell_type": "code",
   "execution_count": 13,
   "metadata": {
    "ExecuteTime": {
     "end_time": "2023-11-23T10:18:01.319908782Z",
     "start_time": "2023-11-23T10:13:34.990635576Z"
    }
   },
   "outputs": [
    {
     "name": "stdout",
     "output_type": "stream",
     "text": [
      "Epoch 1/16\n"
     ]
    },
    {
     "name": "stderr",
     "output_type": "stream",
     "text": [
      "2023-11-23 21:13:35.718211: E tensorflow/core/grappler/optimizers/meta_optimizer.cc:961] layout failed: INVALID_ARGUMENT: Size of values 0 does not match size of permutation 4 @ fanin shape incifar10/dropout/dropout/SelectV2-2-TransposeNHWCToNCHW-LayoutOptimizer\n",
      "2023-11-23 21:13:35.871545: I tensorflow/compiler/xla/stream_executor/cuda/cuda_dnn.cc:442] Loaded cuDNN version 8700\n",
      "2023-11-23 21:13:35.935307: I tensorflow/tsl/platform/default/subprocess.cc:304] Start cannot spawn child process: No such file or directory\n",
      "2023-11-23 21:13:36.131300: I tensorflow/tsl/platform/default/subprocess.cc:304] Start cannot spawn child process: No such file or directory\n",
      "2023-11-23 21:13:36.755656: I tensorflow/compiler/xla/service/service.cc:168] XLA service 0x7fb898078700 initialized for platform CUDA (this does not guarantee that XLA will be used). Devices:\n",
      "2023-11-23 21:13:36.755671: I tensorflow/compiler/xla/service/service.cc:176]   StreamExecutor device (0): NVIDIA GeForce RTX 4050 Laptop GPU, Compute Capability 8.9\n",
      "2023-11-23 21:13:36.758668: I tensorflow/compiler/mlir/tensorflow/utils/dump_mlir_util.cc:269] disabling MLIR crash reproducer, set env var `MLIR_CRASH_REPRODUCER_DIRECTORY` to enable.\n",
      "2023-11-23 21:13:36.821106: I ./tensorflow/compiler/jit/device_compiler.h:186] Compiled cluster using XLA!  This line is logged at most once for the lifetime of the process.\n"
     ]
    },
    {
     "name": "stdout",
     "output_type": "stream",
     "text": [
      "2500/2500 [==============================] - 19s 6ms/step - loss: 1.6303 - accuracy: 0.4162 - val_loss: 1.2561 - val_accuracy: 0.5558\n",
      "Epoch 2/16\n",
      "2500/2500 [==============================] - 16s 6ms/step - loss: 1.3407 - accuracy: 0.5200 - val_loss: 1.0887 - val_accuracy: 0.6180\n",
      "Epoch 3/16\n",
      "2500/2500 [==============================] - 15s 6ms/step - loss: 1.2162 - accuracy: 0.5674 - val_loss: 0.9715 - val_accuracy: 0.6636\n",
      "Epoch 4/16\n",
      "2500/2500 [==============================] - 16s 6ms/step - loss: 1.1437 - accuracy: 0.5973 - val_loss: 1.0462 - val_accuracy: 0.6451\n",
      "Epoch 5/16\n",
      "2500/2500 [==============================] - 17s 7ms/step - loss: 1.0897 - accuracy: 0.6194 - val_loss: 0.8535 - val_accuracy: 0.7023\n",
      "Epoch 6/16\n",
      "2500/2500 [==============================] - 16s 7ms/step - loss: 1.0596 - accuracy: 0.6277 - val_loss: 0.9332 - val_accuracy: 0.6813\n",
      "Epoch 7/16\n",
      "2500/2500 [==============================] - 16s 6ms/step - loss: 1.0246 - accuracy: 0.6395 - val_loss: 0.7960 - val_accuracy: 0.7211\n",
      "Epoch 8/16\n",
      "2500/2500 [==============================] - 16s 6ms/step - loss: 1.0082 - accuracy: 0.6478 - val_loss: 0.7966 - val_accuracy: 0.7267\n",
      "Epoch 9/16\n",
      "2500/2500 [==============================] - 16s 6ms/step - loss: 0.9848 - accuracy: 0.6537 - val_loss: 0.7899 - val_accuracy: 0.7253\n",
      "Epoch 10/16\n",
      "2500/2500 [==============================] - 17s 7ms/step - loss: 0.9673 - accuracy: 0.6633 - val_loss: 0.8150 - val_accuracy: 0.7172\n",
      "Epoch 11/16\n",
      "2500/2500 [==============================] - 17s 7ms/step - loss: 0.9510 - accuracy: 0.6644 - val_loss: 0.8045 - val_accuracy: 0.7231\n",
      "Epoch 12/16\n",
      "2500/2500 [==============================] - 17s 7ms/step - loss: 0.9345 - accuracy: 0.6726 - val_loss: 0.7191 - val_accuracy: 0.7520\n",
      "Epoch 13/16\n",
      "2500/2500 [==============================] - 17s 7ms/step - loss: 0.9292 - accuracy: 0.6767 - val_loss: 0.7514 - val_accuracy: 0.7485\n",
      "Epoch 14/16\n",
      "2500/2500 [==============================] - 17s 7ms/step - loss: 0.9108 - accuracy: 0.6804 - val_loss: 0.7304 - val_accuracy: 0.7564\n",
      "Epoch 15/16\n",
      "2500/2500 [==============================] - 17s 7ms/step - loss: 0.9009 - accuracy: 0.6849 - val_loss: 0.7245 - val_accuracy: 0.7527\n",
      "Epoch 16/16\n",
      "2500/2500 [==============================] - 17s 7ms/step - loss: 0.8924 - accuracy: 0.6897 - val_loss: 0.7133 - val_accuracy: 0.7541\n"
     ]
    }
   ],
   "source": [
    "steps_per_epoch = len(y_train) // batch_size\n",
    "validation_steps = (len(y_validation) // batch_size) - 1\n",
    "\n",
    "history = model.fit(\n",
    "    #x=x,\n",
    "    x=imgen.flow(\n",
    "        x=x_train,\n",
    "        y=y_train,\n",
    "        batch_size=batch_size,\n",
    "        shuffle=True\n",
    "    ),\n",
    "    #x=x_train,\n",
    "    #y=y_train,\n",
    "    batch_size=batch_size,\n",
    "    epochs=number_of_epochs,\n",
    "    verbose=1,\n",
    "    validation_data=(x_validation, y_validation),\n",
    "    shuffle=True,\n",
    "    steps_per_epoch=steps_per_epoch,\n",
    "    validation_steps=validation_steps,\n",
    "    validation_batch_size=batch_size,\n",
    "    callbacks=[\n",
    "        earlystop_callback\n",
    "    ]\n",
    ")"
   ]
  },
  {
   "cell_type": "markdown",
   "metadata": {},
   "source": [
    "---\n",
    "# Evaluation"
   ]
  },
  {
   "cell_type": "code",
   "execution_count": 14,
   "metadata": {
    "ExecuteTime": {
     "end_time": "2023-11-23T10:18:02.034094729Z",
     "start_time": "2023-11-23T10:18:01.319751463Z"
    }
   },
   "outputs": [
    {
     "name": "stdout",
     "output_type": "stream",
     "text": [
      "100/100 [==============================] - 1s 4ms/step - loss: 0.7343 - accuracy: 0.7515\n",
      "test loss, test accuracy: [0.7342803478240967, 0.7515000104904175]\n"
     ]
    }
   ],
   "source": [
    "results = model.evaluate(x_test, y_test, batch_size=100)\n",
    "print(\"test loss, test accuracy:\", results)"
   ]
  },
  {
   "cell_type": "code",
   "execution_count": 55,
   "metadata": {
    "ExecuteTime": {
     "end_time": "2023-11-23T10:28:46.553968261Z",
     "start_time": "2023-11-23T10:28:46.480515424Z"
    }
   },
   "outputs": [
    {
     "name": "stdout",
     "output_type": "stream",
     "text": [
      "1/1 [==============================] - 0s 12ms/step\n",
      "['bird'] prediction:[bird]\n"
     ]
    },
    {
     "data": {
      "text/plain": "<Figure size 640x480 with 1 Axes>",
      "image/png": "[encoded data removed]"
     },
     "metadata": {},
     "output_type": "display_data"
    }
   ],
   "source": [
    "index = np.random.choice(range(len(x_test)))\n",
    "predictions = np.argmax(model.predict(x_test[index].reshape((1, 32, 32, 3))), axis=-1)\n",
    "predictions\n",
    "\n",
    "LIB_DIR = \"/home/eml/home/repository/git/oonisim/lib/code/python\"\n",
    "if LIB_DIR not in sys.path:\n",
    "    sys.path.append(\n",
    "        LIB_DIR    \n",
    "    )\n",
    "class_labels = np.array([\n",
    "    'airplane', \n",
    "    'automobile', \n",
    "    'bird', \n",
    "    'cat', \n",
    "    'deer', \n",
    "    'dog', \n",
    "    'frog', \n",
    "    'horse', \n",
    "    'ship', \n",
    "    'truck'\n",
    "])\n",
    "from lib.util_opencv.image import (\n",
    "    show_image,\n",
    ")\n",
    "image = x_test[index] * std + mean\n",
    "show_image(image.astype(np.uint8), bgr_to_rgb=False)\n",
    "print(f\"{class_labels[y_test[index]]} prediction:[{class_labels[predictions[0]]}]\")"
   ]
  },
  {
   "cell_type": "code",
   "execution_count": 44,
   "metadata": {
    "ExecuteTime": {
     "end_time": "2023-11-23T10:27:35.679855534Z",
     "start_time": "2023-11-23T10:27:35.670763425Z"
    }
   },
   "outputs": [],
   "source": []
  },
  {
   "cell_type": "code",
   "execution_count": null,
   "outputs": [],
   "source": [],
   "metadata": {
    "collapsed": false
   }
  }
 ],
 "metadata": {
  "instance_type": "ml.g4dn.xlarge",
  "kernelspec": {
   "display_name": "Python 3 (ipykernel)",
   "language": "python",
   "name": "python3"
  },
  "language_info": {
   "codemirror_mode": {
    "name": "ipython",
    "version": 3
   },
   "file_extension": ".py",
   "mimetype": "text/x-python",
   "name": "python",
   "nbconvert_exporter": "python",
   "pygments_lexer": "ipython3",
   "version": "3.10.12"
  }
 },
 "nbformat": 4,
 "nbformat_minor": 4
}
