{
 "cells": [
  {
   "cell_type": "markdown",
   "id": "4fad1ac9",
   "metadata": {},
   "source": [
    "# Keras Preproessing Layers and Usages\n",
    "\n",
    "* [Working with preprocessing layers](https://www.tensorflow.org/guide/keras/preprocessing_layers)"
   ]
  },
  {
   "cell_type": "code",
   "execution_count": 1,
   "id": "311ce1e0",
   "metadata": {},
   "outputs": [],
   "source": [
    "import tensorflow as tf"
   ]
  },
  {
   "cell_type": "markdown",
   "id": "5220aac0",
   "metadata": {},
   "source": [
    "# Adapt\n",
    "\n",
    "Preprocessing layers must be fit before uging them either by initializing them from a precomputed constant, or by \"adapting\" them on data.\n",
    "\n",
    "## Example\n",
    "\n",
    "Fit a Word To Vector layer using the TextVectorization.\n",
    "\n",
    "* [tf.keras.layers.TextVectorization](https://www.tensorflow.org/api_docs/python/tf/keras/layers/TextVectorization): turns raw strings into an encoded representation that can be read by an Embedding layer or Dense layer.\n"
   ]
  },
  {
   "cell_type": "code",
   "execution_count": 17,
   "id": "b7e23df5",
   "metadata": {},
   "outputs": [
    {
     "name": "stdout",
     "output_type": "stream",
     "text": [
      "layer adapted True\n",
      "vocabrary ['[UNK]', 'foo', 'baz', 'bar']\n",
      "vocabrary size 4\n"
     ]
    }
   ],
   "source": [
    "text_dataset = tf.data.Dataset.from_tensor_slices([\"foo\", \"bar\", \"baz\"])\n",
    "max_features = 5000  # Maximum vocab size.\n",
    "\n",
    "word2vec = tf.keras.layers.TextVectorization(\n",
    "    max_tokens=max_features,\n",
    "    standardize=\"lower\",\n",
    "    output_mode='tf_idf',\n",
    "    sparse=True,\n",
    ")\n",
    "word2vec.adapt(text_dataset.batch(64))\n",
    "print(f\"layer adapted {word2vec.is_adapted}\")\n",
    "print(f\"vocabrary {word2vec.get_vocabulary()}\")\n",
    "print(f\"vocabrary size {word2vec.vocabulary_size()}\")"
   ]
  },
  {
   "cell_type": "code",
   "execution_count": 26,
   "id": "f55d1b11",
   "metadata": {},
   "outputs": [],
   "source": [
    "model = tf.keras.models.Sequential()\n",
    "model.add(tf.keras.Input(shape=(1,), dtype=tf.string))\n",
    "model.add(word2vec)"
   ]
  },
  {
   "cell_type": "code",
   "execution_count": 27,
   "id": "2906bf64",
   "metadata": {},
   "outputs": [
    {
     "name": "stdout",
     "output_type": "stream",
     "text": [
      "1/1 [==============================] - 0s 55ms/step\n"
     ]
    },
    {
     "data": {
      "text/plain": [
       "<tf.Tensor: shape=(3, 4), dtype=float32, numpy=\n",
       "array([[0.        , 0.91629076, 0.        , 0.        ],\n",
       "       [0.        , 0.        , 0.        , 0.91629076],\n",
       "       [0.        , 0.        , 0.91629076, 0.        ]], dtype=float32)>"
      ]
     },
     "execution_count": 27,
     "metadata": {},
     "output_type": "execute_result"
    }
   ],
   "source": [
    "input_data = tf.constant([\"foo\", \"bar\", \"baz\"])\n",
    "result = model.predict(input_data)\n",
    "\n",
    "tf.sparse.to_dense(result)"
   ]
  },
  {
   "cell_type": "code",
   "execution_count": null,
   "id": "20be3a12",
   "metadata": {},
   "outputs": [],
   "source": []
  }
 ],
 "metadata": {
  "kernelspec": {
   "display_name": "Python 3 (ipykernel)",
   "language": "python",
   "name": "python3"
  },
  "language_info": {
   "codemirror_mode": {
    "name": "ipython",
    "version": 3
   },
   "file_extension": ".py",
   "mimetype": "text/x-python",
   "name": "python",
   "nbconvert_exporter": "python",
   "pygments_lexer": "ipython3",
   "version": "3.9.13"
  }
 },
 "nbformat": 4,
 "nbformat_minor": 5
}
