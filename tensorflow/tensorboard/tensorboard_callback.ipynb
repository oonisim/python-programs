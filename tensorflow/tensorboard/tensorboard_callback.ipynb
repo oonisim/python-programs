{
 "cells": [
  {
   "cell_type": "markdown",
   "id": "f52fdb78",
   "metadata": {},
   "source": [
    "# TensorBoard\n",
    "\n",
    "* [tf.keras.callbacks.TensorBoard](https://www.tensorflow.org/api_docs/python/tf/keras/callbacks/TensorBoard)\n",
    "\n",
    "```\n",
    "tf.keras.callbacks.TensorBoard(\n",
    "    log_dir='logs', \n",
    "    histogram_freq=0, \n",
    "    write_graph=True,\n",
    "    write_images=False, \n",
    "    write_steps_per_second=False, \n",
    "    update_freq='epoch',\n",
    "    profile_batch=2, \n",
    "    embeddings_freq=0, \n",
    "    embeddings_metadata=None, \n",
    "    **kwargs\n",
    ")\n",
    "```\n",
    "\n",
    "## Resources\n",
    "\n",
    "* [TensorBoard Tutorial](https://www.datacamp.com/community/tutorials/tensorboard-tutorial)\n",
    "> "
   ]
  },
  {
   "cell_type": "code",
   "execution_count": 2,
   "id": "9c6557c7",
   "metadata": {},
   "outputs": [],
   "source": [
    "import tensorflow as tf"
   ]
  },
  {
   "cell_type": "code",
   "execution_count": 4,
   "id": "d961732b",
   "metadata": {},
   "outputs": [],
   "source": [
    "tensorboard_callback = tf.keras.callbacks.TensorBoard(\n",
    "    log_dir='./log',\n",
    "    write_graph=True,\n",
    "    write_images=True,\n",
    "    histogram_freq=1,     # How often to log histogram visualizations\n",
    "    embeddings_freq=1,    # How often to log embedding visualizations\n",
    "    update_freq=\"epoch\",  # How often to write logs (default: once per epoch)\n",
    ")  "
   ]
  },
  {
   "cell_type": "code",
   "execution_count": null,
   "id": "396a2961",
   "metadata": {},
   "outputs": [],
   "source": [
    "tensorboard_callback = tf.keras.callbacks.TensorBoard(\n",
    "    log_dir='./log',\n",
    "    write_graph=True,\n",
    "    write_images=True,\n",
    "    histogram_freq=1,     # log histogram visualizations every 1 epoch\n",
    "    embeddings_freq=1,    # log embedding visualizations every 1 epoch\n",
    "    update_freq=100,      # Once per 100 batches\n",
    ")  "
   ]
  }
 ],
 "metadata": {
  "kernelspec": {
   "display_name": "Python 3 (ipykernel)",
   "language": "python",
   "name": "python3"
  },
  "language_info": {
   "codemirror_mode": {
    "name": "ipython",
    "version": 3
   },
   "file_extension": ".py",
   "mimetype": "text/x-python",
   "name": "python",
   "nbconvert_exporter": "python",
   "pygments_lexer": "ipython3",
   "version": "3.10.10"
  }
 },
 "nbformat": 4,
 "nbformat_minor": 5
}
