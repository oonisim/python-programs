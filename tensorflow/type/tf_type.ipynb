{
 "cells": [
  {
   "cell_type": "code",
   "execution_count": 2,
   "id": "4e811e2d",
   "metadata": {},
   "outputs": [],
   "source": [
    "import tensorflow as tf\n",
    "import numpy as np"
   ]
  },
  {
   "cell_type": "code",
   "execution_count": 3,
   "id": "1a94fd63",
   "metadata": {},
   "outputs": [
    {
     "data": {
      "text/plain": [
       "'2.4.1'"
      ]
     },
     "execution_count": 3,
     "metadata": {},
     "output_type": "execute_result"
    }
   ],
   "source": [
    "tf.__version__"
   ]
  },
  {
   "cell_type": "code",
   "execution_count": 4,
   "id": "3f18bb7c",
   "metadata": {},
   "outputs": [
    {
     "data": {
      "text/plain": [
       "'tensorflow'"
      ]
     },
     "execution_count": 4,
     "metadata": {},
     "output_type": "execute_result"
    }
   ],
   "source": [
    "tf.__name__"
   ]
  },
  {
   "cell_type": "code",
   "execution_count": 5,
   "id": "5682e995",
   "metadata": {},
   "outputs": [
    {
     "data": {
      "text/plain": [
       "'numpy'"
      ]
     },
     "execution_count": 5,
     "metadata": {},
     "output_type": "execute_result"
    }
   ],
   "source": [
    "np.__name__"
   ]
  },
  {
   "cell_type": "code",
   "execution_count": 33,
   "id": "b62ad210",
   "metadata": {},
   "outputs": [
    {
     "data": {
      "text/plain": [
       "type"
      ]
     },
     "execution_count": 33,
     "metadata": {},
     "output_type": "execute_result"
    }
   ],
   "source": [
    "type(float)\n",
    "type(int)"
   ]
  },
  {
   "cell_type": "markdown",
   "id": "1b6aaeba",
   "metadata": {},
   "source": [
    "# TF Tensor\n",
    "\n",
    "In numpy, objects of the primitive types e.g. ```np.float32``` are scalar and ```ndarray``` are array. \n",
    "\n",
    "In Tensorflow, both scalar and array are ```tf.Tensor``` that has ```dtype``` attribute."
   ]
  },
  {
   "cell_type": "markdown",
   "id": "2abe9348",
   "metadata": {},
   "source": [
    "## Scalar tenror"
   ]
  },
  {
   "cell_type": "code",
   "execution_count": 15,
   "id": "54b966ba",
   "metadata": {},
   "outputs": [
    {
     "name": "stdout",
     "output_type": "stream",
     "text": [
      "tf.dtype <dtype: 'float16'> \n",
      "np.dtype <class 'numpy.float16'> \n",
      "shape ()\n"
     ]
    }
   ],
   "source": [
    "a = tf.constant(1, dtype=tf.float16)\n",
    "print(f\"tf.dtype {a.dtype} \\nnp.dtype {a.dtype.as_numpy_dtype} \\nshape {a.shape}\")"
   ]
  },
  {
   "cell_type": "markdown",
   "id": "ad960063",
   "metadata": {},
   "source": [
    "## Array tensor"
   ]
  },
  {
   "cell_type": "code",
   "execution_count": 17,
   "id": "133d8a4c",
   "metadata": {},
   "outputs": [
    {
     "name": "stdout",
     "output_type": "stream",
     "text": [
      "x is \n",
      "[[[0.44974658 0.10869782 0.91826837]\n",
      "  [0.77181561 0.40196069 0.89430434]\n",
      "  [0.56086304 0.29416828 0.74066197]]\n",
      "\n",
      " [[0.98836431 0.03492795 0.43018318]\n",
      "  [0.1153405  0.46684043 0.76705678]\n",
      "  [0.89914149 0.09460138 0.48544693]]]\n",
      "dtype is <dtype: 'float64'>\n",
      "shape is (2, 3, 3)\n",
      "True\n"
     ]
    }
   ],
   "source": [
    "x = tf.constant(np.random.rand(2,3,3))\n",
    "print(f\"x is \\n{x}\\ndtype is {x.dtype}\\nshape is {x.shape}\")\n",
    "print(f\"{tf.is_tensor(x)}\")"
   ]
  },
  {
   "cell_type": "markdown",
   "id": "db9e9572",
   "metadata": {},
   "source": [
    "## TF of float type"
   ]
  },
  {
   "cell_type": "markdown",
   "id": "ea8593dc",
   "metadata": {},
   "source": [
    "### Check if Tensor is float\n",
    "\n",
    "#### Tensor.dtype.is_floating \n",
    "\n",
    "* [tf.dtypes.DType](https://www.tensorflow.org/api_docs/python/tf/dtypes/DType)\n",
    "\n",
    "> is_floating:  Returns whether this is a (non-quantized, real) floating point type.<br>\n",
    "> is_integer:\tReturns whether this is a (non-quantized) integer type."
   ]
  },
  {
   "cell_type": "code",
   "execution_count": 58,
   "id": "6c38f406",
   "metadata": {},
   "outputs": [
    {
     "data": {
      "text/plain": [
       "True"
      ]
     },
     "execution_count": 58,
     "metadata": {},
     "output_type": "execute_result"
    }
   ],
   "source": [
    "tf.constant(np.random.rand(3,4)).dtype.is_floating"
   ]
  },
  {
   "cell_type": "markdown",
   "id": "b80d071d",
   "metadata": {},
   "source": [
    "#### ```Tensor.dtype.__eq__(other)``` \n",
    "\n",
    "> __eq__(other): Returns True if this DType refers to the same type as other.\n",
    "\n",
    "\n",
    "#### ```Tensor.dtype.__ne__(other)```\n",
    "\n",
    "> __ne__(other): Returns True if self != other."
   ]
  },
  {
   "cell_type": "code",
   "execution_count": 66,
   "id": "a7c2985e",
   "metadata": {},
   "outputs": [
    {
     "data": {
      "text/plain": [
       "True"
      ]
     },
     "execution_count": 66,
     "metadata": {},
     "output_type": "execute_result"
    }
   ],
   "source": [
    "a = tf.constant(np.random.rand(3,4), dtype=np.float32) # np.dtype can be used\n",
    "a.dtype.__eq__(tf.float32)"
   ]
  },
  {
   "cell_type": "markdown",
   "id": "3698a307",
   "metadata": {},
   "source": [
    "#### Tensor.dtype.as_numpy_dtype\n",
    "\n",
    "> as_numpy_dtype:\tReturns a Python type object based on this DType."
   ]
  },
  {
   "cell_type": "code",
   "execution_count": 61,
   "id": "5c286716",
   "metadata": {},
   "outputs": [],
   "source": [
    "def is_np_float_type(dtype):\n",
    "    return np.issubdtype(dtype, np.floating)"
   ]
  },
  {
   "cell_type": "code",
   "execution_count": 62,
   "id": "6cd15652",
   "metadata": {},
   "outputs": [
    {
     "data": {
      "text/plain": [
       "True"
      ]
     },
     "execution_count": 62,
     "metadata": {},
     "output_type": "execute_result"
    }
   ],
   "source": [
    "a = tf.constant(np.random.rand(3,4))\n",
    "is_np_float_type(a.dtype.as_numpy_dtype)"
   ]
  },
  {
   "cell_type": "markdown",
   "id": "92165ece",
   "metadata": {},
   "source": [
    "## Check if tf.Tensor\n",
    "\n",
    "* [is_tensor(x)](https://www.tensorflow.org/api_docs/python/tf/is_tensor)"
   ]
  },
  {
   "cell_type": "markdown",
   "id": "437a2c84",
   "metadata": {},
   "source": [
    "### numpy array is not a TF tensor for sure"
   ]
  },
  {
   "cell_type": "code",
   "execution_count": 55,
   "id": "2cd23dd3",
   "metadata": {},
   "outputs": [
    {
     "data": {
      "text/plain": [
       "False"
      ]
     },
     "execution_count": 55,
     "metadata": {},
     "output_type": "execute_result"
    }
   ],
   "source": [
    "tf.is_tensor(np.float32(1))"
   ]
  },
  {
   "cell_type": "code",
   "execution_count": 56,
   "id": "e69f428c",
   "metadata": {},
   "outputs": [
    {
     "data": {
      "text/plain": [
       "True"
      ]
     },
     "execution_count": 56,
     "metadata": {},
     "output_type": "execute_result"
    }
   ],
   "source": [
    "a = tf.constant(np.float32(1), dtype=tf.float16)\n",
    "tf.is_tensor(a)"
   ]
  },
  {
   "cell_type": "markdown",
   "id": "96d20097",
   "metadata": {},
   "source": [
    "---\n",
    "# Type Casting\n",
    "\n",
    "Tensorflow does not automatically cast types as it is an expesive operation. Need to be explicit.\n"
   ]
  },
  {
   "cell_type": "markdown",
   "id": "cb27206a",
   "metadata": {},
   "source": [
    "## dtype mapping to TF from Python/Numpy\n",
    "\n",
    "* [tf.dtypes.as_dtype(type)](https://www.tensorflow.org/api_docs/python/tf/dtypes/as_dtype)\n",
    "* [Why Python “int” cannot be converted into Tensorflow dtype?](https://stackoverflow.com/questions/66977630)"
   ]
  },
  {
   "cell_type": "code",
   "execution_count": 34,
   "id": "191c497d",
   "metadata": {},
   "outputs": [
    {
     "name": "stdout",
     "output_type": "stream",
     "text": [
      "np.float equivalent in TF is <dtype: 'float32'>\n",
      "Python float equivalent in TF is <dtype: 'float32'>\n"
     ]
    }
   ],
   "source": [
    "print(\"np.float equivalent in TF is %s\" % tf.dtypes.as_dtype(np.float))\n",
    "print(\"Python float equivalent in TF is %s\" % tf.dtypes.as_dtype(float))\n",
    "# TypeError: Cannot convert value <class 'int'> to a TensorFlow DType. \n",
    "# print(\"Python int equivalent in TF is %s\" % tf.dtypes.as_dtype(int))"
   ]
  },
  {
   "cell_type": "markdown",
   "id": "6492b7a4",
   "metadata": {},
   "source": [
    "## [tf.cast(x, dtype, name=None)](https://www.tensorflow.org/api_docs/python/tf/cast)\n"
   ]
  },
  {
   "cell_type": "markdown",
   "id": "7f6bbbf6",
   "metadata": {},
   "source": [
    "### float32 to 16"
   ]
  },
  {
   "cell_type": "code",
   "execution_count": 35,
   "id": "79b7c71a",
   "metadata": {},
   "outputs": [
    {
     "name": "stdout",
     "output_type": "stream",
     "text": [
      "a.dtype is <dtype: 'float32'>\n"
     ]
    },
    {
     "data": {
      "text/plain": [
       "tf.float16"
      ]
     },
     "execution_count": 35,
     "metadata": {},
     "output_type": "execute_result"
    }
   ],
   "source": [
    "a = tf.reshape(tf.range(12, dtype=tf.float32), (3,4))\n",
    "print(f\"a.dtype is {a.dtype}\")\n",
    "\n",
    "# cast 32 to 16\n",
    "a = tf.cast(a, tf.float16)\n",
    "a.dtype"
   ]
  },
  {
   "cell_type": "markdown",
   "id": "605a776c",
   "metadata": {},
   "source": [
    "---\n",
    "# Python Type Hint cannot be used\n",
    "\n",
    "Python type hint does not recognize TF dtypes causing ```TypeError: Union[arg, ...]: each arg must be a type.```"
   ]
  },
  {
   "cell_type": "code",
   "execution_count": 1,
   "id": "4d8120e1",
   "metadata": {},
   "outputs": [
    {
     "ename": "TypeError",
     "evalue": "Union[arg, ...]: each arg must be a type. Got tf.int32.",
     "output_type": "error",
     "traceback": [
      "\u001b[0;31m---------------------------------------------------------------------------\u001b[0m",
      "\u001b[0;31mTypeError\u001b[0m                                 Traceback (most recent call last)",
      "\u001b[0;32m<ipython-input-1-c66e1d2f161e>\u001b[0m in \u001b[0;36m<module>\u001b[0;34m\u001b[0m\n\u001b[1;32m      6\u001b[0m \u001b[0;34m\u001b[0m\u001b[0m\n\u001b[1;32m      7\u001b[0m \u001b[0;34m\u001b[0m\u001b[0m\n\u001b[0;32m----> 8\u001b[0;31m \u001b[0;32mdef\u001b[0m \u001b[0mf\u001b[0m\u001b[0;34m(\u001b[0m\u001b[0ma\u001b[0m\u001b[0;34m:\u001b[0m \u001b[0mUnion\u001b[0m\u001b[0;34m[\u001b[0m\u001b[0mtf\u001b[0m\u001b[0;34m.\u001b[0m\u001b[0mint32\u001b[0m\u001b[0;34m,\u001b[0m \u001b[0mtf\u001b[0m\u001b[0;34m.\u001b[0m\u001b[0mfloat32\u001b[0m\u001b[0;34m]\u001b[0m\u001b[0;34m)\u001b[0m\u001b[0;34m:\u001b[0m\u001b[0;34m\u001b[0m\u001b[0;34m\u001b[0m\u001b[0m\n\u001b[0m\u001b[1;32m      9\u001b[0m     \u001b[0;32mreturn\u001b[0m \u001b[0ma\u001b[0m \u001b[0;34m*\u001b[0m \u001b[0;36m2\u001b[0m\u001b[0;34m\u001b[0m\u001b[0;34m\u001b[0m\u001b[0m\n\u001b[1;32m     10\u001b[0m \u001b[0;34m\u001b[0m\u001b[0m\n",
      "\u001b[0;32m~/conda/envs/tensorflow/lib/python3.8/typing.py\u001b[0m in \u001b[0;36minner\u001b[0;34m(*args, **kwds)\u001b[0m\n\u001b[1;32m    259\u001b[0m         \u001b[0;32mexcept\u001b[0m \u001b[0mTypeError\u001b[0m\u001b[0;34m:\u001b[0m\u001b[0;34m\u001b[0m\u001b[0;34m\u001b[0m\u001b[0m\n\u001b[1;32m    260\u001b[0m             \u001b[0;32mpass\u001b[0m  \u001b[0;31m# All real errors (not unhashable args) are raised below.\u001b[0m\u001b[0;34m\u001b[0m\u001b[0;34m\u001b[0m\u001b[0m\n\u001b[0;32m--> 261\u001b[0;31m         \u001b[0;32mreturn\u001b[0m \u001b[0mfunc\u001b[0m\u001b[0;34m(\u001b[0m\u001b[0;34m*\u001b[0m\u001b[0margs\u001b[0m\u001b[0;34m,\u001b[0m \u001b[0;34m**\u001b[0m\u001b[0mkwds\u001b[0m\u001b[0;34m)\u001b[0m\u001b[0;34m\u001b[0m\u001b[0;34m\u001b[0m\u001b[0m\n\u001b[0m\u001b[1;32m    262\u001b[0m     \u001b[0;32mreturn\u001b[0m \u001b[0minner\u001b[0m\u001b[0;34m\u001b[0m\u001b[0;34m\u001b[0m\u001b[0m\n\u001b[1;32m    263\u001b[0m \u001b[0;34m\u001b[0m\u001b[0m\n",
      "\u001b[0;32m~/conda/envs/tensorflow/lib/python3.8/typing.py\u001b[0m in \u001b[0;36m__getitem__\u001b[0;34m(self, parameters)\u001b[0m\n\u001b[1;32m    356\u001b[0m                 \u001b[0mparameters\u001b[0m \u001b[0;34m=\u001b[0m \u001b[0;34m(\u001b[0m\u001b[0mparameters\u001b[0m\u001b[0;34m,\u001b[0m\u001b[0;34m)\u001b[0m\u001b[0;34m\u001b[0m\u001b[0;34m\u001b[0m\u001b[0m\n\u001b[1;32m    357\u001b[0m             \u001b[0mmsg\u001b[0m \u001b[0;34m=\u001b[0m \u001b[0;34m\"Union[arg, ...]: each arg must be a type.\"\u001b[0m\u001b[0;34m\u001b[0m\u001b[0;34m\u001b[0m\u001b[0m\n\u001b[0;32m--> 358\u001b[0;31m             \u001b[0mparameters\u001b[0m \u001b[0;34m=\u001b[0m \u001b[0mtuple\u001b[0m\u001b[0;34m(\u001b[0m\u001b[0m_type_check\u001b[0m\u001b[0;34m(\u001b[0m\u001b[0mp\u001b[0m\u001b[0;34m,\u001b[0m \u001b[0mmsg\u001b[0m\u001b[0;34m)\u001b[0m \u001b[0;32mfor\u001b[0m \u001b[0mp\u001b[0m \u001b[0;32min\u001b[0m \u001b[0mparameters\u001b[0m\u001b[0;34m)\u001b[0m\u001b[0;34m\u001b[0m\u001b[0;34m\u001b[0m\u001b[0m\n\u001b[0m\u001b[1;32m    359\u001b[0m             \u001b[0mparameters\u001b[0m \u001b[0;34m=\u001b[0m \u001b[0m_remove_dups_flatten\u001b[0m\u001b[0;34m(\u001b[0m\u001b[0mparameters\u001b[0m\u001b[0;34m)\u001b[0m\u001b[0;34m\u001b[0m\u001b[0;34m\u001b[0m\u001b[0m\n\u001b[1;32m    360\u001b[0m             \u001b[0;32mif\u001b[0m \u001b[0mlen\u001b[0m\u001b[0;34m(\u001b[0m\u001b[0mparameters\u001b[0m\u001b[0;34m)\u001b[0m \u001b[0;34m==\u001b[0m \u001b[0;36m1\u001b[0m\u001b[0;34m:\u001b[0m\u001b[0;34m\u001b[0m\u001b[0;34m\u001b[0m\u001b[0m\n",
      "\u001b[0;32m~/conda/envs/tensorflow/lib/python3.8/typing.py\u001b[0m in \u001b[0;36m<genexpr>\u001b[0;34m(.0)\u001b[0m\n\u001b[1;32m    356\u001b[0m                 \u001b[0mparameters\u001b[0m \u001b[0;34m=\u001b[0m \u001b[0;34m(\u001b[0m\u001b[0mparameters\u001b[0m\u001b[0;34m,\u001b[0m\u001b[0;34m)\u001b[0m\u001b[0;34m\u001b[0m\u001b[0;34m\u001b[0m\u001b[0m\n\u001b[1;32m    357\u001b[0m             \u001b[0mmsg\u001b[0m \u001b[0;34m=\u001b[0m \u001b[0;34m\"Union[arg, ...]: each arg must be a type.\"\u001b[0m\u001b[0;34m\u001b[0m\u001b[0;34m\u001b[0m\u001b[0m\n\u001b[0;32m--> 358\u001b[0;31m             \u001b[0mparameters\u001b[0m \u001b[0;34m=\u001b[0m \u001b[0mtuple\u001b[0m\u001b[0;34m(\u001b[0m\u001b[0m_type_check\u001b[0m\u001b[0;34m(\u001b[0m\u001b[0mp\u001b[0m\u001b[0;34m,\u001b[0m \u001b[0mmsg\u001b[0m\u001b[0;34m)\u001b[0m \u001b[0;32mfor\u001b[0m \u001b[0mp\u001b[0m \u001b[0;32min\u001b[0m \u001b[0mparameters\u001b[0m\u001b[0;34m)\u001b[0m\u001b[0;34m\u001b[0m\u001b[0;34m\u001b[0m\u001b[0m\n\u001b[0m\u001b[1;32m    359\u001b[0m             \u001b[0mparameters\u001b[0m \u001b[0;34m=\u001b[0m \u001b[0m_remove_dups_flatten\u001b[0m\u001b[0;34m(\u001b[0m\u001b[0mparameters\u001b[0m\u001b[0;34m)\u001b[0m\u001b[0;34m\u001b[0m\u001b[0;34m\u001b[0m\u001b[0m\n\u001b[1;32m    360\u001b[0m             \u001b[0;32mif\u001b[0m \u001b[0mlen\u001b[0m\u001b[0;34m(\u001b[0m\u001b[0mparameters\u001b[0m\u001b[0;34m)\u001b[0m \u001b[0;34m==\u001b[0m \u001b[0;36m1\u001b[0m\u001b[0;34m:\u001b[0m\u001b[0;34m\u001b[0m\u001b[0;34m\u001b[0m\u001b[0m\n",
      "\u001b[0;32m~/conda/envs/tensorflow/lib/python3.8/typing.py\u001b[0m in \u001b[0;36m_type_check\u001b[0;34m(arg, msg, is_argument)\u001b[0m\n\u001b[1;32m    147\u001b[0m         \u001b[0;32mreturn\u001b[0m \u001b[0marg\u001b[0m\u001b[0;34m\u001b[0m\u001b[0;34m\u001b[0m\u001b[0m\n\u001b[1;32m    148\u001b[0m     \u001b[0;32mif\u001b[0m \u001b[0;32mnot\u001b[0m \u001b[0mcallable\u001b[0m\u001b[0;34m(\u001b[0m\u001b[0marg\u001b[0m\u001b[0;34m)\u001b[0m\u001b[0;34m:\u001b[0m\u001b[0;34m\u001b[0m\u001b[0;34m\u001b[0m\u001b[0m\n\u001b[0;32m--> 149\u001b[0;31m         \u001b[0;32mraise\u001b[0m \u001b[0mTypeError\u001b[0m\u001b[0;34m(\u001b[0m\u001b[0;34mf\"{msg} Got {arg!r:.100}.\"\u001b[0m\u001b[0;34m)\u001b[0m\u001b[0;34m\u001b[0m\u001b[0;34m\u001b[0m\u001b[0m\n\u001b[0m\u001b[1;32m    150\u001b[0m     \u001b[0;32mreturn\u001b[0m \u001b[0marg\u001b[0m\u001b[0;34m\u001b[0m\u001b[0;34m\u001b[0m\u001b[0m\n\u001b[1;32m    151\u001b[0m \u001b[0;34m\u001b[0m\u001b[0m\n",
      "\u001b[0;31mTypeError\u001b[0m: Union[arg, ...]: each arg must be a type. Got tf.int32."
     ]
    }
   ],
   "source": [
    "from typing import (\n",
    "    Union,\n",
    ")\n",
    "import tensorflow as tf\n",
    "import numpy as np\n",
    "\n",
    "\n",
    "def f(a: Union[tf.int32, tf.float32]):\n",
    "    return a * 2\n",
    "\n",
    "\n",
    "def g(a: Union[np.int32, np.float32]):\n",
    "    return a * 2\n",
    "\n",
    "\n",
    "def test():\n",
    "    f(tf.cast(1.0, dtype=tf.float32))\n",
    "    # g(np.float32(1.0))  # No issue\n",
    "\n",
    "test(a)"
   ]
  },
  {
   "cell_type": "code",
   "execution_count": 13,
   "id": "5bb32481",
   "metadata": {},
   "outputs": [
    {
     "data": {
      "text/plain": [
       "()"
      ]
     },
     "execution_count": 13,
     "metadata": {},
     "output_type": "execute_result"
    }
   ],
   "source": [
    "a = tf.constant(1, dtype=tf.float16)\n",
    "a.dtype.is_floating\n",
    "tuple(a.shape.as_list())"
   ]
  }
 ],
 "metadata": {
  "kernelspec": {
   "display_name": "Python 3",
   "language": "python",
   "name": "python3"
  },
  "language_info": {
   "codemirror_mode": {
    "name": "ipython",
    "version": 3
   },
   "file_extension": ".py",
   "mimetype": "text/x-python",
   "name": "python",
   "nbconvert_exporter": "python",
   "pygments_lexer": "ipython3",
   "version": "3.8.8"
  }
 },
 "nbformat": 4,
 "nbformat_minor": 5
}
