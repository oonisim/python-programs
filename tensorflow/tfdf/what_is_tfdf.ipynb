{
 "cells": [
  {
   "cell_type": "markdown",
   "id": "8b207fbf",
   "metadata": {},
   "source": [
    "# TensorFlow Decision Forests\n",
    "\n",
    "> TensorFlow Decision Forests (TF-DF) is a collection of state-of-the-art algorithms for the training, serving and interpretation of Decision Forest models. The library is a collection of Keras models and supports classification, regression and ranking. TF-DF is a wrapper around the Yggdrasil Decision Forest C++ libraries. Models trained with TF-DF are compatible with Yggdrasil Decision Forests' models, and vice versa.  \n",
    "> <br>\n",
    "> Unfortunately TF-DF is not yet available for Mac (#16) or Windows (#3), we are working on it.\n",
    "\n",
    "* [TensorFlow Decision Forests Installation](https://www.tensorflow.org/decision_forests/installation)\n",
    "* [TensorFlow Decision Forests tutorials](https://www.tensorflow.org/decision_forests/tutorials)\n",
    "* [TFDF API](https://www.tensorflow.org/decision_forests/api_docs/python/tfdf/all_symbols)"
   ]
  },
  {
   "cell_type": "code",
   "execution_count": null,
   "id": "e247eb4e",
   "metadata": {},
   "outputs": [],
   "source": []
  }
 ],
 "metadata": {
  "kernelspec": {
   "display_name": "Python 3 (ipykernel)",
   "language": "python",
   "name": "python3"
  },
  "language_info": {
   "codemirror_mode": {
    "name": "ipython",
    "version": 3
   },
   "file_extension": ".py",
   "mimetype": "text/x-python",
   "name": "python",
   "nbconvert_exporter": "python",
   "pygments_lexer": "ipython3",
   "version": "3.8.12"
  }
 },
 "nbformat": 4,
 "nbformat_minor": 5
}
