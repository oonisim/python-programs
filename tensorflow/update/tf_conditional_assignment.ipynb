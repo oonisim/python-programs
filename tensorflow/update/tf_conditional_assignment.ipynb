{
 "cells": [
  {
   "cell_type": "code",
   "execution_count": 3,
   "id": "b50b128a",
   "metadata": {},
   "outputs": [],
   "source": [
    "import tensorflow as tf\n",
    "import numpy as np"
   ]
  },
  {
   "cell_type": "markdown",
   "id": "7be86af8",
   "metadata": {},
   "source": [
    "# Update the tensor values where the condition matches\n"
   ]
  },
  {
   "cell_type": "markdown",
   "id": "66bc8a94",
   "metadata": {},
   "source": [
    "Numpy can use boolean indexing to directy update the array."
   ]
  },
  {
   "cell_type": "code",
   "execution_count": 2,
   "id": "a48cd6da",
   "metadata": {},
   "outputs": [
    {
     "name": "stdout",
     "output_type": "stream",
     "text": [
      "[[-0.21862459 -0.11904506 -0.65759051 -0.02053271]\n",
      " [ 0.85862027  0.59237733 -0.78714513 -0.0176912 ]\n",
      " [-0.94936706 -0.30497186  0.25053833  0.18807091]]\n",
      "[[-0.21862459 -0.11904506 -0.65759051 -0.02053271]\n",
      " [ 0.          0.         -0.78714513 -0.0176912 ]\n",
      " [-0.94936706 -0.30497186  0.          0.        ]]\n"
     ]
    }
   ],
   "source": [
    "x = np.random.uniform(-1, 1, size=(3, 4))\n",
    "print(x)\n",
    "x[x > 0] = 0\n",
    "print(x)"
   ]
  },
  {
   "cell_type": "markdown",
   "id": "80e7941c",
   "metadata": {},
   "source": [
    "Tensorflow does not have such syntax, hence need to use ```tf.where```.\n",
    "\n",
    "[tf.where(condition, x=None, y=None, name=None)](https://www.tensorflow.org/api_docs/python/tf/where)\n",
    "\n",
    "```\n",
    "Returns:\n",
    "    If x and y are provided: \n",
    "        A Tensor with the same type as x and y, and shape that is broadcast from condition, x, and y.\n",
    "    Otherwise: \n",
    "        A Tensor with shape (num_true, dim_size(condition)).\n",
    "```\n",
    "\n",
    "* y is the **target** Tensor to set the element values from source Tensor ```x```\n",
    "* x is the **source** Tensor the element values from which get set in the target tensor ```y```\n",
    "\n",
    "\n",
    "It does **NOT** directly update the ```tf.Variable``` itself but need to use tf.Variable.assign() method. It can **NOT update elements** but **requires a entire tensor** that has the same shape of the target.\n",
    "\n",
    "* [tensorflow 2 - how to conditionally update values directly in tf.Variable](https://stackoverflow.com/questions/66980404/tensorflow-2-how-to-conditionally-update-values-directly-in-tf-variable)"
   ]
  },
  {
   "cell_type": "code",
   "execution_count": 12,
   "id": "e75a304a",
   "metadata": {},
   "outputs": [
    {
     "name": "stdout",
     "output_type": "stream",
     "text": [
      "x:\n",
      "<tf.Variable 'Variable:0' shape=(3, 4) dtype=float32, numpy=\n",
      "array([[-0.29402795,  0.85458314,  0.635479  ,  0.53761697],\n",
      "       [ 0.48885283,  0.23887686, -0.8549232 ,  0.5042577 ],\n",
      "       [ 0.5697476 , -0.7121538 ,  0.03971618, -0.14969674]],\n",
      "      dtype=float32)>\n",
      "\n",
      "Boolean indices (x > 0):\n",
      "[[False  True  True  True]\n",
      " [ True  True False  True]\n",
      " [ True False  True False]]\n",
      "\n",
      "x.assign(tf.where(x>0, 1, x)):\n",
      "<tf.Variable 'Variable:0' shape=(3, 4) dtype=float32, numpy=\n",
      "array([[-0.29402795,  1.        ,  1.        ,  1.        ],\n",
      "       [ 1.        ,  1.        , -0.8549232 ,  1.        ],\n",
      "       [ 1.        , -0.7121538 ,  1.        , -0.14969674]],\n",
      "      dtype=float32)>\n"
     ]
    }
   ],
   "source": [
    "x = tf.Variable(np.random.uniform(-1, 1, size=(3,4)), dtype=tf.float32)\n",
    "print(f\"x:\\n{x}\\n\")\n",
    "\n",
    "# --------------------------------------------------------------------------------\n",
    "# Boolean indices with the condition\n",
    "# --------------------------------------------------------------------------------\n",
    "select = x > 0\n",
    "print(f\"Boolean indices (x > 0):\\n{select}\\n\")\n",
    "\n",
    "# --------------------------------------------------------------------------------\n",
    "# Update values in Variable wih boolean indices\n",
    "# --------------------------------------------------------------------------------\n",
    "x.assign(tf.where(select, 1, x))\n",
    "print(f\"x.assign(tf.where(x>0, 1, x)):\\n{x}\")"
   ]
  },
  {
   "cell_type": "markdown",
   "id": "78631d55",
   "metadata": {},
   "source": [
    "* [How to efficiently update a tensor slice? #36559](https://github.com/tensorflow/tensorflow/issues/36559)\n",
    "\n",
    "```\n",
    "import tensorflow.keras.backend as K\n",
    "units, timesteps = 4, 6\n",
    "x = K.zeros((units, timesteps), dtype='float32', name='x')\n",
    "x_new = x[:units, 0].assign(K.ones((units,), dtype='float32'))  # dummy example\n",
    "K.set_value(x, K.get_value(x_new))\n",
    "print(K.get_value(x))\n",
    "```"
   ]
  },
  {
   "cell_type": "markdown",
   "id": "4ed0e830",
   "metadata": {},
   "source": [
    "---\n",
    "# Usage of Where\n",
    "## Update target Y with X upon condition tensor T\n",
    "\n",
    "NOTE: The target ```Y``` itself will not be updated but creates a new Tensor of updated version of ```Y```."
   ]
  },
  {
   "cell_type": "code",
   "execution_count": 18,
   "id": "51bec5fd",
   "metadata": {},
   "outputs": [
    {
     "name": "stdout",
     "output_type": "stream",
     "text": [
      "Target Y: \n",
      "[[0.5828624  0.62737167 0.13059998]\n",
      " [0.4447347  0.7729218  0.8134774 ]\n",
      " [0.87045276 0.90917516 0.52166355]]\n",
      "\n",
      "Condition T: \n",
      "[[1. 0. 0.]\n",
      " [1. 0. 0.]\n",
      " [1. 0. 0.]]\n",
      "\n",
      "Source X: \n",
      "[[0. 1. 2.]\n",
      " [3. 4. 5.]\n",
      " [6. 7. 8.]]\n",
      "\n"
     ]
    },
    {
     "data": {
      "text/plain": [
       "<tf.Tensor: shape=(3, 3), dtype=float32, numpy=\n",
       "array([[0.        , 0.62737167, 0.13059998],\n",
       "       [3.        , 0.7729218 , 0.8134774 ],\n",
       "       [6.        , 0.90917516, 0.52166355]], dtype=float32)>"
      ]
     },
     "execution_count": 18,
     "metadata": {},
     "output_type": "execute_result"
    }
   ],
   "source": [
    "TYPE_FLOAT = np.float32\n",
    "N = 3\n",
    "D = 3\n",
    "shape = (N,D)\n",
    "\n",
    "# Target\n",
    "Y = tf.random.uniform(shape=shape, dtype=tf.dtypes.as_dtype(TYPE_FLOAT))\n",
    "print(f\"Target Y: \\n{Y}\\n\")\n",
    "\n",
    "# Condition (using numpy as doing the same is not simple in TF)\n",
    "T = np.zeros(shape=shape, dtype=TYPE_FLOAT)\n",
    "T[\n",
    "    ::,\n",
    "    0\n",
    "] = 1\n",
    "print(f\"Condition T: \\n{T}\\n\")\n",
    "\n",
    "# Source\n",
    "X = tf.reshape(tf.range(N*D, dtype=tf.dtypes.as_dtype(TYPE_FLOAT)), shape=shape)\n",
    "print(f\"Source X: \\n{X}\\n\")\n",
    "\n",
    "tf.where(condition=T, x=X, y=Y)"
   ]
  },
  {
   "cell_type": "code",
   "execution_count": null,
   "id": "0e282e91",
   "metadata": {},
   "outputs": [],
   "source": []
  }
 ],
 "metadata": {
  "kernelspec": {
   "display_name": "Python 3",
   "language": "python",
   "name": "python3"
  },
  "language_info": {
   "codemirror_mode": {
    "name": "ipython",
    "version": 3
   },
   "file_extension": ".py",
   "mimetype": "text/x-python",
   "name": "python",
   "nbconvert_exporter": "python",
   "pygments_lexer": "ipython3",
   "version": "3.8.8"
  }
 },
 "nbformat": 4,
 "nbformat_minor": 5
}
