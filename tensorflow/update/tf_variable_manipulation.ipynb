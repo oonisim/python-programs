{
 "cells": [
  {
   "cell_type": "code",
   "execution_count": 1,
   "id": "f0552177",
   "metadata": {},
   "outputs": [],
   "source": [
    "import tensorflow as tf\n",
    "import numpy as np"
   ]
  },
  {
   "cell_type": "markdown",
   "id": "808740c5",
   "metadata": {},
   "source": [
    "# References\n",
    "\n",
    "* [How to efficiently update a tensor slice?](https://github.com/tensorflow/tensorflow/issues/36559)\n",
    "\n",
    "```\n",
    "var_slice = var[4:5]\n",
    "var_slice.assign(math_ops.sub(var, const))\n",
    "```\n",
    "\n",
    "* [How to Replace Values by Index in a Tensor with TensorFlow-2.0](https://towardsdatascience.com/how-to-replace-values-by-index-in-a-tensor-with-tensorflow-2-0-510994fe6c5f)"
   ]
  },
  {
   "cell_type": "markdown",
   "id": "f61e8c44",
   "metadata": {},
   "source": [
    "# Constraint\n",
    "\n"
   ]
  },
  {
   "cell_type": "markdown",
   "id": "22ddb74a",
   "metadata": {},
   "source": [
    "---"
   ]
  },
  {
   "cell_type": "markdown",
   "id": "43cf2533",
   "metadata": {},
   "source": [
    "# Update a slice region of tf.Variable\n",
    "\n",
    "* [Tensorflow 2 - tf.slice and its NumPy slice syntax incompatible behavior](https://stackoverflow.com/questions/67378040/)"
   ]
  },
  {
   "cell_type": "markdown",
   "id": "c29ce1bd",
   "metadata": {},
   "source": [
    "<img src=\"image/tf_slicing_2d.png\" align=\"left\" width=200 />"
   ]
  },
  {
   "cell_type": "code",
   "execution_count": 18,
   "id": "325f40e0",
   "metadata": {},
   "outputs": [
    {
     "name": "stdout",
     "output_type": "stream",
     "text": [
      "Target Y: \n",
      "<tf.Variable 'Variable:0' shape=(4, 5) dtype=int32, numpy=\n",
      "array([[ 0,  1,  2,  3,  4],\n",
      "       [ 5,  6,  7,  8,  9],\n",
      "       [10, 11, 12, 13, 14],\n",
      "       [15, 16, 17, 18, 19]], dtype=int32)>\n",
      "\n",
      "Slice to update S: \n",
      "[[ 1  2]\n",
      " [ 6  7]\n",
      " [11 12]]\n",
      "\n",
      "Values to set V: \n",
      "[[1 1]\n",
      " [1 1]\n",
      " [1 1]]\n",
      "\n"
     ]
    },
    {
     "data": {
      "text/plain": [
       "<tf.Variable 'UnreadVariable' shape=(4, 5) dtype=int32, numpy=\n",
       "array([[ 0,  1,  1,  3,  4],\n",
       "       [ 5,  1,  1,  8,  9],\n",
       "       [10,  1,  1, 13, 14],\n",
       "       [15, 16, 17, 18, 19]], dtype=int32)>"
      ]
     },
     "execution_count": 18,
     "metadata": {},
     "output_type": "execute_result"
    }
   ],
   "source": [
    "TYPE = tf.int32\n",
    "N = 4\n",
    "D = 5\n",
    "shape = (N,D)\n",
    "\n",
    "# Target to update\n",
    "Y = tf.Variable(\n",
    "    initial_value=tf.reshape(tf.range(N*D,dtype=TYPE), shape=shape),\n",
    "    trainable=True\n",
    ")\n",
    "print(f\"Target Y: \\n{Y}\\n\")\n",
    "\n",
    "# --------------------------------------------------------------------------------\n",
    "# Slice region in the target to be updated\n",
    "# --------------------------------------------------------------------------------\n",
    "# S = tf.slice(      # Error \"EagerTensor' object has no attribute 'assign'\"\n",
    "#     Y,\n",
    "#     begin=[0,1],   # Coordinate (n,d) as the start point\n",
    "#     size=[3,2]     # Shape (3,2) -> (n+3, n+2) as the end point\n",
    "# )\n",
    "S = Y[\n",
    "    0:3,           # From coordinate (n=0,d),   slice rows (0,1,2)  or 'size'=3 -> shape (3,?)\n",
    "    1:3            # From coordinate (n=0,d=1), slice columns (1,2) or 'size'=2 -> shape (3,2)\n",
    "]                  \n",
    "print(f\"Slice to update S: \\n{S}\\n\")\n",
    "\n",
    "# Values to set\n",
    "V = tf.ones(shape=tf.shape(S), dtype=TYPE)\n",
    "print(f\"Values to set V: \\n{V}\\n\")\n",
    "\n",
    "# Assing V to S region of T\n",
    "S.assign(V)"
   ]
  },
  {
   "cell_type": "code",
   "execution_count": 21,
   "id": "30d27a45",
   "metadata": {},
   "outputs": [
    {
     "data": {
      "text/plain": [
       "True"
      ]
     },
     "execution_count": 21,
     "metadata": {},
     "output_type": "execute_result"
    }
   ],
   "source": []
  }
 ],
 "metadata": {
  "kernelspec": {
   "display_name": "Python 3",
   "language": "python",
   "name": "python3"
  },
  "language_info": {
   "codemirror_mode": {
    "name": "ipython",
    "version": 3
   },
   "file_extension": ".py",
   "mimetype": "text/x-python",
   "name": "python",
   "nbconvert_exporter": "python",
   "pygments_lexer": "ipython3",
   "version": "3.8.8"
  }
 },
 "nbformat": 4,
 "nbformat_minor": 5
}
