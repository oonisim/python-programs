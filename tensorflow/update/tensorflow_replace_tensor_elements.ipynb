{
 "cells": [
  {
   "cell_type": "markdown",
   "id": "f54d79f0",
   "metadata": {},
   "source": [
    "\n",
    "* [How to Replace Values by Index in a Tensor with TensorFlow-2.0\n",
    "](https://towardsdatascience.com/how-to-replace-values-by-index-in-a-tensor-with-tensorflow-2-0-510994fe6c5f)\n",
    "\n",
    "> How a seemingly straightforward operation in NumPy turns into a nightmare with TensorFlow in some unfortunate cases\n",
    "\n"
   ]
  },
  {
   "cell_type": "code",
   "execution_count": null,
   "id": "3a59e82a",
   "metadata": {},
   "outputs": [],
   "source": []
  }
 ],
 "metadata": {
  "kernelspec": {
   "display_name": "Python 3 (ipykernel)",
   "language": "python",
   "name": "python3"
  },
  "language_info": {
   "codemirror_mode": {
    "name": "ipython",
    "version": 3
   },
   "file_extension": ".py",
   "mimetype": "text/x-python",
   "name": "python",
   "nbconvert_exporter": "python",
   "pygments_lexer": "ipython3",
   "version": "3.9.13"
  }
 },
 "nbformat": 4,
 "nbformat_minor": 5
}
