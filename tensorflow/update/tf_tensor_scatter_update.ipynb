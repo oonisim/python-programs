{
 "cells": [
  {
   "cell_type": "code",
   "execution_count": 3,
   "id": "0e4409f7",
   "metadata": {},
   "outputs": [],
   "source": [
    "import numpy as np\n",
    "import tensorflow as tf\n",
    "\n",
    "np.set_printoptions(threshold=np.inf)\n",
    "np.set_printoptions(linewidth=1024)"
   ]
  },
  {
   "cell_type": "code",
   "execution_count": 17,
   "id": "a77cbf7f",
   "metadata": {},
   "outputs": [
    {
     "data": {
      "text/plain": [
       "<tf.Tensor: shape=(4, 8), dtype=float32, numpy=\n",
       "array([[-1., -1., -1., -1., -1., -1., -1., -1.],\n",
       "       [-1., -1., -1., -1., -1., -1., -1., -1.],\n",
       "       [-1., -1., -1., -1., -1., -1., -1., -1.],\n",
       "       [-1., -1., -1., -1., -1., -1., -1., -1.]], dtype=float32)>"
      ]
     },
     "execution_count": 17,
     "metadata": {},
     "output_type": "execute_result"
    }
   ],
   "source": [
    "x = tf.ones(shape=(4,8)) * -1\n",
    "x"
   ]
  },
  {
   "cell_type": "code",
   "execution_count": 18,
   "id": "3aff30de",
   "metadata": {},
   "outputs": [
    {
     "data": {
      "text/plain": [
       "<tf.Tensor: shape=(4, 2), dtype=int32, numpy=\n",
       "array([[0, 6],\n",
       "       [1, 3],\n",
       "       [2, 1],\n",
       "       [3, 5]], dtype=int32)>"
      ]
     },
     "execution_count": 18,
     "metadata": {},
     "output_type": "execute_result"
    }
   ],
   "source": [
    "columns = tf.constant([6,3,1,5])\n",
    "rows = tf.range(x.shape[0])\n",
    "indices = tf.stack([rows, columns], axis=-1)\n",
    "indices"
   ]
  },
  {
   "cell_type": "code",
   "execution_count": 19,
   "id": "db371a7f",
   "metadata": {},
   "outputs": [],
   "source": [
    "updates = [0,1,2,3]"
   ]
  },
  {
   "cell_type": "code",
   "execution_count": 20,
   "id": "2a90703e",
   "metadata": {},
   "outputs": [
    {
     "data": {
      "text/plain": [
       "<tf.Tensor: shape=(4, 8), dtype=float32, numpy=\n",
       "array([[-1., -1., -1., -1., -1., -1.,  0., -1.],\n",
       "       [-1., -1., -1.,  1., -1., -1., -1., -1.],\n",
       "       [-1.,  2., -1., -1., -1., -1., -1., -1.],\n",
       "       [-1., -1., -1., -1., -1.,  3., -1., -1.]], dtype=float32)>"
      ]
     },
     "execution_count": 20,
     "metadata": {},
     "output_type": "execute_result"
    }
   ],
   "source": [
    "tf.tensor_scatter_nd_update(\n",
    "    tensor=x,\n",
    "    indices=indices,\n",
    "    updates=updates\n",
    ")"
   ]
  },
  {
   "cell_type": "markdown",
   "id": "a5c0adfc",
   "metadata": {},
   "source": [
    "<img src=\"./image/update_tensor_row_wise.png\" width=500 align=\"left\"/>"
   ]
  },
  {
   "cell_type": "code",
   "execution_count": 22,
   "id": "5d9a3427",
   "metadata": {},
   "outputs": [
    {
     "name": "stdout",
     "output_type": "stream",
     "text": [
      "ScatterNd1_1D.png          tf_slicing_2d.png\r\n",
      "tf_slicing_1d_1.png        update_tensor_row_wise.png\r\n",
      "tf_slicing_1d_3.png\r\n"
     ]
    }
   ],
   "source": [
    "!ls ./image"
   ]
  },
  {
   "cell_type": "code",
   "execution_count": null,
   "id": "9691dd12",
   "metadata": {},
   "outputs": [],
   "source": []
  }
 ],
 "metadata": {
  "kernelspec": {
   "display_name": "Python 3 (ipykernel)",
   "language": "python",
   "name": "python3"
  },
  "language_info": {
   "codemirror_mode": {
    "name": "ipython",
    "version": 3
   },
   "file_extension": ".py",
   "mimetype": "text/x-python",
   "name": "python",
   "nbconvert_exporter": "python",
   "pygments_lexer": "ipython3",
   "version": "3.9.13"
  }
 },
 "nbformat": 4,
 "nbformat_minor": 5
}
