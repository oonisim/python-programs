{
 "cells": [
  {
   "cell_type": "markdown",
   "id": "27da89a4",
   "metadata": {},
   "source": [
    "# Tensorflow text data acquisitions"
   ]
  },
  {
   "cell_type": "code",
   "execution_count": 9,
   "id": "ee69759f",
   "metadata": {},
   "outputs": [],
   "source": [
    "import numpy as np\n",
    "import tensorflow as tf\n",
    "import pathlib"
   ]
  },
  {
   "cell_type": "markdown",
   "id": "60a4350b",
   "metadata": {},
   "source": [
    "## Shakespeare"
   ]
  },
  {
   "cell_type": "code",
   "execution_count": 14,
   "id": "3a5d2982",
   "metadata": {},
   "outputs": [
    {
     "name": "stdout",
     "output_type": "stream",
     "text": [
      "Downloading data from https://storage.googleapis.com/download.tensorflow.org/data/shakespeare.txt\n",
      "1122304/1115394 [==============================] - 0s 0us/step\n"
     ]
    }
   ],
   "source": [
    "path_to_file = tf.keras.utils.get_file(\n",
    "    str(pathlib.Path().absolute()) + '/shakespeare.txt', \n",
    "    'https://storage.googleapis.com/download.tensorflow.org/data/shakespeare.txt'\n",
    ")"
   ]
  },
  {
   "cell_type": "markdown",
   "id": "d1c224f6",
   "metadata": {},
   "source": [
    "## PTB"
   ]
  },
  {
   "cell_type": "code",
   "execution_count": 17,
   "id": "da8594ca",
   "metadata": {},
   "outputs": [
    {
     "name": "stdout",
     "output_type": "stream",
     "text": [
      "Downloading data from https://raw.githubusercontent.com/tomsercu/lstm/master/data/ptb.train.txt\n",
      "5103616/5101618 [==============================] - 3s 0us/step\n",
      "Downloading data from https://raw.githubusercontent.com/tomsercu/lstm/master/data/ptb.test.txt\n",
      "450560/449945 [==============================] - 0s 0us/step\n",
      "Downloading data from https://raw.githubusercontent.com/tomsercu/lstm/master/data/ptb.valid.txt\n",
      "401408/399782 [==============================] - 0s 0us/step\n"
     ]
    }
   ],
   "source": [
    "files = [\"ptb.train.txt\", \"ptb.test.txt\", \"ptb.valid.txt\"]\n",
    "for f in files:\n",
    "    tf.keras.utils.get_file(\n",
    "        str(pathlib.Path().absolute()) + '/' + f, \n",
    "        f'https://raw.githubusercontent.com/tomsercu/lstm/master/data/{f}'\n",
    "    )"
   ]
  }
 ],
 "metadata": {
  "kernelspec": {
   "display_name": "Python 3",
   "language": "python",
   "name": "python3"
  },
  "language_info": {
   "codemirror_mode": {
    "name": "ipython",
    "version": 3
   },
   "file_extension": ".py",
   "mimetype": "text/x-python",
   "name": "python",
   "nbconvert_exporter": "python",
   "pygments_lexer": "ipython3",
   "version": "3.8.8"
  }
 },
 "nbformat": 4,
 "nbformat_minor": 5
}
