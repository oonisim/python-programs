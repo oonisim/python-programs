{
 "cells": [
  {
   "cell_type": "markdown",
   "id": "bec6e73a",
   "metadata": {},
   "source": [
    "# map_fn\n",
    "\n",
    "```map_fn``` iterates through rows (along the **axis 0**) in a Tensor to apply ```fn``` then stacks the results. \n",
    "\n",
    "Provide ```fn_output_signature``` argument if ```fn```'s input and output **signatures** are different (e.g dtype or shape are different between input and output).\n",
    "\n",
    "* [tf.map_fn](https://www.tensorflow.org/api_docs/python/tf/map_fn)\n",
    "\n",
    "```\n",
    "tf.map_fn(\n",
    "    fn,\n",
    "    elems,\n",
    "    dtype=None,\n",
    "    parallel_iterations=None,\n",
    "    back_prop=True,\n",
    "    swap_memory=False,\n",
    "    infer_shape=True,\n",
    "    name=None,\n",
    "    fn_output_signature=None\n",
    ")\n",
    "```"
   ]
  },
  {
   "cell_type": "code",
   "execution_count": 4,
   "id": "79f5335b",
   "metadata": {},
   "outputs": [],
   "source": [
    "import numpy as np\n",
    "import tensorflow as tf"
   ]
  },
  {
   "cell_type": "markdown",
   "id": "556abc0e",
   "metadata": {},
   "source": [
    "# Example\n",
    "\n",
    "Convert (x,y) coordinate within a rectanble to a (row, col) coordinate of (S x S) grid of the rectangle. (x, y) are relative to the rectangle size, meaning normalized to a value between 0 and 1.\n",
    "\n",
    "Meaning divide the rectangle into cells of grid where each side is divided into S sections. Then, find out the grid (row, col) in which a (x,y) coordinate exists."
   ]
  },
  {
   "cell_type": "code",
   "execution_count": 17,
   "id": "485c1627",
   "metadata": {},
   "outputs": [],
   "source": [
    "S = 7\n",
    "N = 4\n",
    "D = 2"
   ]
  },
  {
   "cell_type": "code",
   "execution_count": 18,
   "id": "3e571586",
   "metadata": {},
   "outputs": [
    {
     "data": {
      "text/plain": [
       "array([[0.99104158, 0.80679893],\n",
       "       [0.29602966, 0.08578804],\n",
       "       [0.68821346, 0.46920149],\n",
       "       [0.82437506, 0.07704665]])"
      ]
     },
     "execution_count": 18,
     "metadata": {},
     "output_type": "execute_result"
    }
   ],
   "source": [
    "xy = np.random.random(size=(N,D))\n",
    "xy"
   ]
  },
  {
   "cell_type": "code",
   "execution_count": 19,
   "id": "e0824157",
   "metadata": {},
   "outputs": [],
   "source": [
    "def fn_xy_to_grid_coordinate(x_y):\n",
    "    grid_row = tf.cast(tf.math.floor(S * x_y[1]), dtype=tf.int32)   # y\n",
    "    grid_col = tf.cast(tf.math.floor(S * x_y[0]), dtype=tf.int32)   # x\n",
    "    return tf.stack([grid_row, grid_col], axis=-1)"
   ]
  },
  {
   "cell_type": "code",
   "execution_count": 20,
   "id": "5e72c9b8",
   "metadata": {},
   "outputs": [],
   "source": [
    "coordinates = tf.map_fn(\n",
    "    fn=fn_xy_to_grid_coordinate,\n",
    "    elems=xy,                               # shape:(n,2)\n",
    "    fn_output_signature=tf.TensorSpec(\n",
    "        shape=(2,),                         # Output shape of fn\n",
    "        dtype=tf.dtypes.int32,\n",
    "        name=None\n",
    "    )\n",
    ")"
   ]
  },
  {
   "cell_type": "code",
   "execution_count": 22,
   "id": "b93d984b",
   "metadata": {},
   "outputs": [
    {
     "data": {
      "text/plain": [
       "<tf.Tensor: shape=(4, 2), dtype=int32, numpy=\n",
       "array([[5, 6],\n",
       "       [0, 2],\n",
       "       [3, 4],\n",
       "       [0, 5]], dtype=int32)>"
      ]
     },
     "execution_count": 22,
     "metadata": {},
     "output_type": "execute_result"
    }
   ],
   "source": [
    "coordinates   # (row, col) grid coordinate from (x, y)"
   ]
  },
  {
   "cell_type": "code",
   "execution_count": null,
   "id": "e0c44e96",
   "metadata": {},
   "outputs": [],
   "source": []
  }
 ],
 "metadata": {
  "kernelspec": {
   "display_name": "Python 3 (ipykernel)",
   "language": "python",
   "name": "python3"
  },
  "language_info": {
   "codemirror_mode": {
    "name": "ipython",
    "version": 3
   },
   "file_extension": ".py",
   "mimetype": "text/x-python",
   "name": "python",
   "nbconvert_exporter": "python",
   "pygments_lexer": "ipython3",
   "version": "3.9.13"
  }
 },
 "nbformat": 4,
 "nbformat_minor": 5
}
