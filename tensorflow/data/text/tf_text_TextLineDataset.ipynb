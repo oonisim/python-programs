{
 "cells": [
  {
   "cell_type": "markdown",
   "id": "01ea8452",
   "metadata": {},
   "source": [
    "# Method to load text data into a TF Dataset\n",
    "\n",
    "Similar to Pandas read_csv() to load text data into a data frame like structure.\n"
   ]
  },
  {
   "cell_type": "markdown",
   "id": "05f4e1fa",
   "metadata": {},
   "source": [
    "# TextLineDataset\n",
    "\n",
    "* [tf.data.TextLineDataset](https://www.tensorflow.org/api_docs/python/tf/data/TextLineDataset0)\n",
    "\n",
    "Not limited to a single file but also from multple files.\n",
    "\n",
    "> A Dataset comprising lines from one or more text file**s**."
   ]
  },
  {
   "cell_type": "code",
   "execution_count": 2,
   "id": "306dfecc",
   "metadata": {},
   "outputs": [],
   "source": [
    "import sys\n",
    "import pathlib\n",
    "import itertools\n",
    "import numpy as np\n",
    "import tensorflow as tf\n",
    "\n",
    "np.set_printoptions(threshold=sys.maxsize)\n",
    "np.set_printoptions(linewidth=200) "
   ]
  },
  {
   "cell_type": "markdown",
   "id": "cadaad53",
   "metadata": {},
   "source": [
    "## PTB text"
   ]
  },
  {
   "cell_type": "code",
   "execution_count": 3,
   "id": "bbea3743",
   "metadata": {},
   "outputs": [],
   "source": [
    "f = \"ptb.train.txt\"\n",
    "path_to_ptb = tf.keras.utils.get_file(\n",
    "    f,\n",
    "    f'https://raw.githubusercontent.com/tomsercu/lstm/master/data/{f}'\n",
    ")"
   ]
  },
  {
   "cell_type": "markdown",
   "id": "d34e6d74",
   "metadata": {},
   "source": [
    "## Load text into dataset"
   ]
  },
  {
   "cell_type": "code",
   "execution_count": 5,
   "id": "976cf3bc",
   "metadata": {},
   "outputs": [],
   "source": [
    "ptb_ds = tf.data.TextLineDataset(\n",
    "    filenames=path_to_ptb, compression_type=None, buffer_size=None, num_parallel_reads=True\n",
    ")\\\n",
    ".filter(lambda x: tf.cast(tf.strings.length(x), bool))\\\n",
    ".shuffle(10000)"
   ]
  },
  {
   "cell_type": "code",
   "execution_count": 6,
   "id": "1a8753b4",
   "metadata": {},
   "outputs": [
    {
     "name": "stdout",
     "output_type": "stream",
     "text": [
      "b\" in fact he <unk> the u.s. from one of the world 's most corrupt organizations unesco \"\n"
     ]
    }
   ],
   "source": [
    "iterator = iter(ptb_ds)\n",
    "first = next(iterator).numpy()\n",
    "print(first)"
   ]
  },
  {
   "cell_type": "markdown",
   "id": "e0c0b73c",
   "metadata": {},
   "source": [
    "---\n",
    "# Example\n",
    "\n",
    "Generate a set of word indices using PTB and genereate word index sequence from the shakespeare.txt."
   ]
  },
  {
   "cell_type": "markdown",
   "id": "7e53fed8",
   "metadata": {},
   "source": [
    "## Generate the word indices from PTB"
   ]
  },
  {
   "cell_type": "code",
   "execution_count": 7,
   "id": "42939b6f",
   "metadata": {},
   "outputs": [],
   "source": [
    "from tensorflow.keras.layers.experimental.preprocessing import TextVectorization"
   ]
  },
  {
   "cell_type": "code",
   "execution_count": 8,
   "id": "fbcbacdf",
   "metadata": {},
   "outputs": [],
   "source": [
    "# --------------------------------------------------------------------------------\n",
    "# Fit to the words in the corpus\n",
    "# --------------------------------------------------------------------------------\n",
    "vectorizer = TextVectorization(\n",
    "    output_mode=\"int\",\n",
    "    ngrams=None           # 1 word = 1 token\n",
    ")\n",
    "vectorizer.adapt(ptb_ds)"
   ]
  },
  {
   "cell_type": "markdown",
   "id": "d05c4e63",
   "metadata": {},
   "source": [
    "## Shakespeare text"
   ]
  },
  {
   "cell_type": "code",
   "execution_count": 9,
   "id": "c30e011a",
   "metadata": {},
   "outputs": [],
   "source": [
    "path_to_shakespeare = tf.keras.utils.get_file(\n",
    "    'shakespeare.txt', \n",
    "    'https://storage.googleapis.com/download.tensorflow.org/data/shakespeare.txt'\n",
    ")"
   ]
  },
  {
   "cell_type": "code",
   "execution_count": 50,
   "id": "4ffd71a1",
   "metadata": {},
   "outputs": [],
   "source": [
    "shakespeare_text_ds = tf.data.TextLineDataset(path_to_shakespeare)\\\n",
    "    .filter(lambda x: tf.cast(tf.strings.length(x), bool))"
   ]
  },
  {
   "cell_type": "code",
   "execution_count": 51,
   "id": "d687c161",
   "metadata": {},
   "outputs": [
    {
     "name": "stdout",
     "output_type": "stream",
     "text": [
      "b'First Citizen:'\n",
      "b'Before we proceed any further, hear me speak.'\n",
      "b'All:'\n",
      "b'Speak, speak.'\n",
      "b'First Citizen:'\n",
      "b'You are all resolved rather to die than to famish?'\n",
      "b'All:'\n",
      "b'Resolved. resolved.'\n",
      "b'First Citizen:'\n",
      "b'First, you know Caius Marcius is chief enemy to the people.'\n"
     ]
    }
   ],
   "source": [
    "shakespeare_iterator = shakespeare_text_ds.as_numpy_iterator()\n",
    "for line in itertools.islice(shakespeare_iterator, 10):\n",
    "    print(line)"
   ]
  },
  {
   "cell_type": "markdown",
   "id": "1a039eb5",
   "metadata": {},
   "source": [
    "## Convert Shakespeare dataset into word index sequence"
   ]
  },
  {
   "cell_type": "code",
   "execution_count": 52,
   "id": "7aef56e3",
   "metadata": {},
   "outputs": [],
   "source": [
    "shakespeare_vector_ds = shakespeare_text_ds.batch(1024).prefetch(tf.data.AUTOTUNE).map(vectorizer).unbatch()\n",
    "# shakespeare_vector_ds = vectorizer(shakespeare_ds.batch(128).prefetch(tf.data.AUTOTUNE))"
   ]
  },
  {
   "cell_type": "code",
   "execution_count": 77,
   "id": "73ff1679",
   "metadata": {},
   "outputs": [
    {
     "name": "stdout",
     "output_type": "stream",
     "text": [
      "word index sequence of the corpus:\n",
      "[  75 6613    0    0    0    0    0    0    0    0    0    0]\n",
      "\n"
     ]
    }
   ],
   "source": [
    "first_line = list(itertools.islice(shakespeare_vector_ds, 3))[0]\n",
    "second_line = list(itertools.islice(shakespeare_vector_ds, 3))[1]\n",
    "third_line = list(itertools.islice(shakespeare_vector_ds, 3))[2]\n",
    "print(f\"word index sequence of the corpus:\\n{first_line.numpy()}\\n\")"
   ]
  },
  {
   "cell_type": "code",
   "execution_count": 86,
   "id": "c9437947",
   "metadata": {},
   "outputs": [
    {
     "name": "stdout",
     "output_type": "stream",
     "text": [
      "[[b'first' b'citizen' b'' b'' b'' b'' b'' b'' b'' b'' b'' b'']]\n",
      "[[b'before' b'we' b'proceed' b'any' b'further' b'hear' b'me' b'speak' b'' b'' b'' b'']]\n",
      "[[b'all' b'' b'' b'' b'' b'' b'' b'' b'' b'' b'' b'']]\n"
     ]
    }
   ],
   "source": [
    "vocabulary = vectorizer.get_vocabulary()\n",
    "print(tf.gather_nd(vocabulary, indices=[first_line.numpy()[::, np.newaxis]]).numpy())\n",
    "print(tf.gather_nd(vocabulary, indices=[second_line.numpy()[::, np.newaxis]]).numpy())\n",
    "print(tf.gather_nd(vocabulary, indices=[third_line.numpy()[::, np.newaxis]]).numpy())"
   ]
  }
 ],
 "metadata": {
  "kernelspec": {
   "display_name": "Python 3",
   "language": "python",
   "name": "python3"
  },
  "language_info": {
   "codemirror_mode": {
    "name": "ipython",
    "version": 3
   },
   "file_extension": ".py",
   "mimetype": "text/x-python",
   "name": "python",
   "nbconvert_exporter": "python",
   "pygments_lexer": "ipython3",
   "version": "3.8.8"
  }
 },
 "nbformat": 4,
 "nbformat_minor": 5
}
