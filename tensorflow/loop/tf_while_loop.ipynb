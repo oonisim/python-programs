{
 "cells": [
  {
   "cell_type": "code",
   "execution_count": 1,
   "outputs": [
    {
     "data": {
      "text/plain": "<IPython.core.display.HTML object>",
      "text/html": "<style>\ntable {float:left}\n</style>\n"
     },
     "metadata": {},
     "output_type": "display_data"
    }
   ],
   "source": [
    "%%html\n",
    "<style>\n",
    "table {float:left}\n",
    "</style>"
   ],
   "metadata": {
    "collapsed": false,
    "ExecuteTime": {
     "end_time": "2023-11-14T05:10:36.909557353Z",
     "start_time": "2023-11-14T05:10:36.907102327Z"
    }
   },
   "id": "409c951a9774c051"
  },
  {
   "cell_type": "markdown",
   "source": [
    "# Tensorflow while loop\n",
    "\n",
    "By default, Graph computation (Church) does not support loop, and Python loop primitives will not work. Hence, need [while_loop](https://www.tensorflow.org/api_docs/python/tf/while_loop) or use ```@tf.function``` to run python code within TF.\n",
    "\n",
    "```\n",
    "result = tf.while_loop(\n",
    "    cond,\n",
    "    body,\n",
    "    loop_vars,\n",
    "    shape_invariants=None,\n",
    "    parallel_iterations=10,\n",
    "    back_prop=True,\n",
    "    swap_memory=False,\n",
    "    maximum_iterations=None,\n",
    "    name=None\n",
    ") -> loop_vars\n",
    "\n",
    "The result value has the same structure as loop_vars.\n",
    "``` \n",
    "\n",
    "| Args                |                                                                                                                                                                                                                       |\n",
    "|---------------------|-----------------------------------------------------------------------------------------------------------------------------------------------------------------------------------------------------------------------|\n",
    "| cond                | A callable that represents the termination condition of the loop.                                                                                                                                                     |\n",
    "| body                | A callable that represents the loop body. The function get the elements of ```loop_vars``` as args, and returns updates of ```loop_vars```.                                                                           |\n",
    "| loop_vars           | A (possibly nested) tuple, namedtuple or list of numpy array, Tensor, and TensorArray objects.                                                                                                                        |\n",
    "| shape_invariants    | The shape invariants for the loop variables.                                                                                                                                                                          |\n",
    "| parallel_iterations | The number of iterations allowed to run in parallel. It must be a positive integer.                                                                                                                                   |\n",
    "| back_prop           | (optional) Deprecated. False disables support for back propagation. Prefer using tf.stop_gradient instead.                                                                                                            |\n",
    "| swap_memory         | Whether GPU-CPU memory swap is enabled for this loop.                                                                                                                                                                 |\n",
    "| maximum_iterations  | Optional maximum number of iterations of the while loop to run. If provided, the cond output is AND-ed with an additional condition ensuring the number of iterations executed is no greater than maximum_iterations. |\n",
    "| name                | Optional name prefix for the returned tensors.                                                                                                                                                                        |"
   ],
   "metadata": {
    "collapsed": false
   },
   "id": "e3154a31130b7024"
  },
  {
   "cell_type": "markdown",
   "source": [
    "## Constraints\n",
    "\n",
    "**body** is a callable returning a ```(possibly nested) tuple, namedtuple or list of tensors of the same arity (length and structure) and types as loop_vars```. **loop_vars** is a (possibly nested) tuple, namedtuple or list of tensors that is passed to both cond and body. cond and body both take as many arguments as there are loop_vars."
   ],
   "metadata": {
    "collapsed": false
   },
   "id": "39749acc41331799"
  },
  {
   "cell_type": "code",
   "execution_count": 2,
   "outputs": [
    {
     "name": "stderr",
     "output_type": "stream",
     "text": [
      "2023-11-14 16:10:37.506118: I tensorflow/core/util/port.cc:111] oneDNN custom operations are on. You may see slightly different numerical results due to floating-point round-off errors from different computation orders. To turn them off, set the environment variable `TF_ENABLE_ONEDNN_OPTS=0`.\n",
      "2023-11-14 16:10:37.532507: E tensorflow/compiler/xla/stream_executor/cuda/cuda_dnn.cc:9342] Unable to register cuDNN factory: Attempting to register factory for plugin cuDNN when one has already been registered\n",
      "2023-11-14 16:10:37.532533: E tensorflow/compiler/xla/stream_executor/cuda/cuda_fft.cc:609] Unable to register cuFFT factory: Attempting to register factory for plugin cuFFT when one has already been registered\n",
      "2023-11-14 16:10:37.532549: E tensorflow/compiler/xla/stream_executor/cuda/cuda_blas.cc:1518] Unable to register cuBLAS factory: Attempting to register factory for plugin cuBLAS when one has already been registered\n",
      "2023-11-14 16:10:37.537685: I tensorflow/core/platform/cpu_feature_guard.cc:182] This TensorFlow binary is optimized to use available CPU instructions in performance-critical operations.\n",
      "To enable the following instructions: AVX2 AVX_VNNI FMA, in other operations, rebuild TensorFlow with the appropriate compiler flags.\n",
      "2023-11-14 16:10:38.046623: W tensorflow/compiler/tf2tensorrt/utils/py_utils.cc:38] TF-TRT Warning: Could not find TensorRT\n"
     ]
    }
   ],
   "source": [
    "import numpy as np\n",
    "import tensorflow as tf"
   ],
   "metadata": {
    "collapsed": false,
    "ExecuteTime": {
     "end_time": "2023-11-14T05:10:38.645968222Z",
     "start_time": "2023-11-14T05:10:37.325038121Z"
    }
   },
   "id": "initial_id"
  },
  {
   "cell_type": "code",
   "execution_count": 3,
   "outputs": [
    {
     "name": "stderr",
     "output_type": "stream",
     "text": [
      "2023-11-14 16:10:38.673350: I tensorflow/compiler/xla/stream_executor/cuda/cuda_gpu_executor.cc:894] successful NUMA node read from SysFS had negative value (-1), but there must be at least one NUMA node, so returning NUMA node zero. See more at https://github.com/torvalds/linux/blob/v6.0/Documentation/ABI/testing/sysfs-bus-pci#L344-L355\n",
      "2023-11-14 16:10:38.713089: W tensorflow/core/common_runtime/gpu/gpu_device.cc:2211] Cannot dlopen some GPU libraries. Please make sure the missing libraries mentioned above are installed properly if you would like to use GPU. Follow the guide at https://www.tensorflow.org/install/gpu for how to download and setup the required libraries for your platform.\n",
      "Skipping registering GPU devices...\n"
     ]
    },
    {
     "data": {
      "text/plain": "10"
     },
     "execution_count": 3,
     "metadata": {},
     "output_type": "execute_result"
    }
   ],
   "source": [
    "# Cannot use scalar as loop vars, otherwise causes \"TypeError: Scalar tensor has no `len()`\" See the constraints.\n",
    "# loop_vars = tf.constant(1)\n",
    "loop_vars = [    # cannot use Tuple causing \"ValueError: 'loop_vars' must be provided.\"\n",
    "    tf.constant(0)\n",
    "]\n",
    "\n",
    "def condition(loop_var_element):\n",
    "    return tf.less(loop_var_element, tf.constant(10))\n",
    "\n",
    "def body(loop_var_element):\n",
    "    \"\"\"\n",
    "    body receive loop_var element(s) and return updated loop_vars.\n",
    "    loop_bars -> body_fn -> loop_vars. \n",
    "    This is how the loop_vars kept being updated and used.\n",
    "    \n",
    "    Args:\n",
    "        loop_var_element: \n",
    "\n",
    "    Returns: updated loop_vars to be used as the next loop_vars\n",
    "    \"\"\"\n",
    "    # cannot use scalar, need to return iterable. Otherwise, TypeError: Cannot iterate over a scalar tensor.\n",
    "    # See constraints.\n",
    "    # return tf.add(i, 1)\n",
    "    as_tuple: bool = True\n",
    "    \n",
    "    # return value is to be used as next loop_vars\n",
    "    return (tf.add(loop_var_element, 1), ) \\\n",
    "        if as_tuple else [tf.add(loop_var_element, 1)]    \n",
    "    \n",
    "result: tf.Tensor = tf.while_loop(\n",
    "    condition, \n",
    "    body, \n",
    "    loop_vars\n",
    ")[0]    # Use the first element of the loop_vars\n",
    "\n",
    "result.numpy()"
   ],
   "metadata": {
    "collapsed": false,
    "ExecuteTime": {
     "end_time": "2023-11-14T05:10:38.739503414Z",
     "start_time": "2023-11-14T05:10:38.729328491Z"
    }
   },
   "id": "28febec1a331887f"
  },
  {
   "cell_type": "markdown",
   "source": [
    "# Loop through (N,S,S,C+2P)\n",
    "\n",
    "P=(cp,x,y,w,h)  "
   ],
   "metadata": {
    "collapsed": false
   },
   "id": "1db78790216c4e28"
  },
  {
   "cell_type": "code",
   "execution_count": 4,
   "outputs": [],
   "source": [
    "TYPE_FLOAT = np.float32\n",
    "TYPE_INT = np.int32\n",
    "N = 2\n",
    "S = 3\n",
    "C = 5\n",
    "B = 2\n",
    "P = 5"
   ],
   "metadata": {
    "collapsed": false,
    "ExecuteTime": {
     "end_time": "2023-11-14T05:10:38.743688120Z",
     "start_time": "2023-11-14T05:10:38.740932961Z"
    }
   },
   "id": "bdef010c1d7a83a6"
  },
  {
   "cell_type": "markdown",
   "source": [
    "## Tensor to loop through"
   ],
   "metadata": {
    "collapsed": false
   },
   "id": "eb8bed3f6b5ea4a6"
  },
  {
   "cell_type": "code",
   "execution_count": 5,
   "outputs": [
    {
     "data": {
      "text/plain": "TensorShape([2, 3, 3, 15])"
     },
     "execution_count": 5,
     "metadata": {},
     "output_type": "execute_result"
    }
   ],
   "source": [
    "predictions: tf.Tensor = tf.reshape(\n",
    "    tensor=tf.zeros(N*S*S*(C+B*P), dtype=TYPE_FLOAT), \n",
    "    shape=(N,S,S,(C+B*P)),\n",
    ")\n",
    "predictions.shape"
   ],
   "metadata": {
    "collapsed": false,
    "ExecuteTime": {
     "end_time": "2023-11-14T05:10:38.760351353Z",
     "start_time": "2023-11-14T05:10:38.750757292Z"
    }
   },
   "id": "5599d8043dd156e1"
  },
  {
   "cell_type": "markdown",
   "source": [
    "### loop_vars"
   ],
   "metadata": {
    "collapsed": false
   },
   "id": "cebbb1f7c701a845"
  },
  {
   "cell_type": "code",
   "execution_count": 13,
   "outputs": [
    {
     "data": {
      "text/plain": "TensorShape([2, 3, 3, 15])"
     },
     "execution_count": 13,
     "metadata": {},
     "output_type": "execute_result"
    }
   ],
   "source": [
    "num_cells_in_batch = tf.constant(S*S, dtype=TYPE_INT)\n",
    "num_total_cells = tf.constant(N * num_cells_in_batch, dtype=TYPE_INT)\n",
    "current_cell_index = tf.constant(0, dtype=TYPE_INT)\n",
    "loop_vars = (\n",
    "    current_cell_index,\n",
    "    # prediction as a sequence of cells\n",
    "    tf.reshape(tensor=predictions, shape=(-1, C+B*P))\n",
    ")"
   ],
   "metadata": {
    "collapsed": false,
    "ExecuteTime": {
     "end_time": "2023-11-14T05:14:13.457688701Z",
     "start_time": "2023-11-14T05:14:13.415188615Z"
    }
   },
   "id": "e5a7b563cced874b"
  },
  {
   "cell_type": "markdown",
   "source": [
    "### Condition"
   ],
   "metadata": {
    "collapsed": false
   },
   "id": "67f1a4d8636c20b5"
  },
  {
   "cell_type": "code",
   "execution_count": 17,
   "outputs": [],
   "source": [
    "def condition(\n",
    "        _current_cell_index, \n",
    "        _predictions\n",
    "):\n",
    "    \"\"\"loop exit condition where _index >= _total\"\"\"\n",
    "    return tf.less(_current_cell_index, num_total_cells)"
   ],
   "metadata": {
    "collapsed": false,
    "ExecuteTime": {
     "end_time": "2023-11-14T05:15:01.765456495Z",
     "start_time": "2023-11-14T05:15:01.762494315Z"
    }
   },
   "id": "9f0bd17fd4759dbf"
  },
  {
   "cell_type": "markdown",
   "source": [
    "### body"
   ],
   "metadata": {
    "collapsed": false
   },
   "id": "55dc0cb7711c9141"
  },
  {
   "cell_type": "code",
   "execution_count": 34,
   "outputs": [],
   "source": [
    "def body(\n",
    "        _current_cell_index,\n",
    "        _predictions\n",
    "):\n",
    "    \"\"\"Update the (x,y) in P0 and P1 of the current cell\"\"\"\n",
    "    _cell_index_in_current_batch = tf.cast(\n",
    "        _current_cell_index % num_cells_in_batch,\n",
    "        dtype=TYPE_INT\n",
    "    )\n",
    "    \n",
    "    row: TYPE_FLOAT = tf.cast(\n",
    "        tf.math.floor(_cell_index_in_current_batch / S),\n",
    "        dtype=TYPE_FLOAT\n",
    "    )\n",
    "    col: TYPE_FLOAT = tf.cast(\n",
    "        _cell_index_in_current_batch % S,\n",
    "        dtype=TYPE_FLOAT\n",
    "    )\n",
    "    # tf.print(\"_current_cell_index\", _current_cell_index)\n",
    "    # tf.print(\"_cell_index_in_current_batch\", _cell_index_in_current_batch)\n",
    "    # tf.print(\"row\", row)\n",
    "    # tf.print(\"col\", col)    \n",
    "    \n",
    "    _predictions = tf.tensor_scatter_nd_add(\n",
    "        tensor=_predictions,\n",
    "        indices=[\n",
    "            [_current_cell_index, C+1],     # p0_x: x in (C,(cp,x,y,w,h)) \n",
    "            [_current_cell_index, C+2],     # p0_y \n",
    "            [_current_cell_index, C+P+1],   # p1_x  \n",
    "            [_current_cell_index, C+P+2]    # p1_y \n",
    "        ],\n",
    "        # https://stackoverflow.com/q/77478517/4281353\n",
    "        # updates=tf.constant([\n",
    "        #     col,                            # p0_x + col\n",
    "        #     row,                            # p0_y + row\n",
    "        #     col,                            # p0_x + col\n",
    "        #     row                             # p0_y + row\n",
    "        # ])\n",
    "        updates=[\n",
    "            col,                            # p0_x + col\n",
    "            row,                            # p0_y + row\n",
    "            col,                            # p0_x + col\n",
    "            row                             # p0_y + row\n",
    "        ]\n",
    "    )        \n",
    "    return [\n",
    "        _current_cell_index+1,\n",
    "        _predictions\n",
    "    ]"
   ],
   "metadata": {
    "collapsed": false,
    "ExecuteTime": {
     "end_time": "2023-11-14T06:34:29.838376962Z",
     "start_time": "2023-11-14T06:34:29.795391736Z"
    }
   },
   "id": "8bd8281ca61df194"
  },
  {
   "cell_type": "code",
   "execution_count": 39,
   "outputs": [],
   "source": [
    "result = tf.while_loop(\n",
    "    cond=condition,\n",
    "    body=body,\n",
    "    loop_vars=loop_vars\n",
    ")\n",
    "final_cell_index = result[0]\n",
    "updated_predictions = result[1]\n",
    "tf.reshape(updated_predictions, (N,S,S,-1))\n",
    "tf.assert_equal(final_cell_index, num_total_cells)\n"
   ],
   "metadata": {
    "collapsed": false,
    "ExecuteTime": {
     "end_time": "2023-11-14T06:35:58.076179367Z",
     "start_time": "2023-11-14T06:35:58.028078015Z"
    }
   },
   "id": "d8f8ee36b8501fcc"
  },
  {
   "cell_type": "code",
   "execution_count": null,
   "outputs": [],
   "source": [],
   "metadata": {
    "collapsed": false
   },
   "id": "67d64e69fc5ef424"
  }
 ],
 "metadata": {
  "kernelspec": {
   "display_name": "Python 3",
   "language": "python",
   "name": "python3"
  },
  "language_info": {
   "codemirror_mode": {
    "name": "ipython",
    "version": 2
   },
   "file_extension": ".py",
   "mimetype": "text/x-python",
   "name": "python",
   "nbconvert_exporter": "python",
   "pygments_lexer": "ipython2",
   "version": "2.7.6"
  }
 },
 "nbformat": 4,
 "nbformat_minor": 5
}
