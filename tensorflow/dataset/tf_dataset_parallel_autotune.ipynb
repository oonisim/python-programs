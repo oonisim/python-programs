{
 "cells": [
  {
   "cell_type": "markdown",
   "id": "ca7bd4b2",
   "metadata": {},
   "source": [
    "In a virtualized environment, the available CPU cores can change. **AUTOTUNE** automatically adapts to the available resources.\n",
    "\n",
    "<img src=\"image/tf_dataset_autotune.png\" align=\"left\"/>"
   ]
  },
  {
   "cell_type": "markdown",
   "id": "1ea6bb47",
   "metadata": {},
   "source": [
    "# Parallel Prefecth"
   ]
  },
  {
   "cell_type": "markdown",
   "id": "1c7bf0ed",
   "metadata": {},
   "source": [
    "<img src=\"image/dataset_parallel_prefecth.png\" align=\"left\"/>"
   ]
  },
  {
   "cell_type": "markdown",
   "id": "24fef88c",
   "metadata": {},
   "source": [
    "# Parallel Extraction"
   ]
  },
  {
   "cell_type": "markdown",
   "id": "bf2aade1",
   "metadata": {},
   "source": [
    "<img src=\"image/tf_dataset_interleave.png\" align=\"left\"/>"
   ]
  },
  {
   "cell_type": "markdown",
   "id": "a321eb11",
   "metadata": {},
   "source": [
    "# Optimize map(user_funct)\n",
    "\n",
    "Overhead of applying a user function with ```map``` can be expensive. \n",
    "\n",
    "<img src=\"image/tf_dataset_optimize_map.png\" align=\"left\"/>"
   ]
  },
  {
   "cell_type": "code",
   "execution_count": null,
   "id": "17bbce6d",
   "metadata": {},
   "outputs": [],
   "source": []
  }
 ],
 "metadata": {
  "kernelspec": {
   "display_name": "Python 3 (ipykernel)",
   "language": "python",
   "name": "python3"
  },
  "language_info": {
   "codemirror_mode": {
    "name": "ipython",
    "version": 3
   },
   "file_extension": ".py",
   "mimetype": "text/x-python",
   "name": "python",
   "nbconvert_exporter": "python",
   "pygments_lexer": "ipython3",
   "version": "3.8.10"
  }
 },
 "nbformat": 4,
 "nbformat_minor": 5
}
