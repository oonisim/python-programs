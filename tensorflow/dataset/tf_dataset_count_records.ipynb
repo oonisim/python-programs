{
 "cells": [
  {
   "cell_type": "markdown",
   "id": "e7279fe1",
   "metadata": {},
   "source": [
    "# How to count number of records in Dataset\n",
    "\n",
    "* [What is the fastest method to count elements of a tensorflow.data.Datset?](https://stackoverflow.com/questions/59827628/what-is-the-fastest-method-to-count-elements-of-a-tensorflow-data-datset)\n",
    "\n",
    "> Short answer \"No\".\n",
    "\n",
    "> For in-memory datasets there's: tf.data.experimental.cardinality(dataset), but tf.data.Datasets are inherently lazy loaded, and can be infinite, so there's no knowing how many elements there are in a tf.data.Dataset without iterating through it.\n",
    "\n",
    "* [tf.data.experimental.cardinality](https://www.tensorflow.org/api_docs/python/tf/data/experimental/cardinality)\n",
    "\n",
    "> Returns the cardinality of dataset, if known.\n",
    "\n",
    "If the size of the dimension cannot be determined at runtime, the function returns -2."
   ]
  },
  {
   "cell_type": "code",
   "execution_count": 1,
   "id": "727c584b",
   "metadata": {},
   "outputs": [],
   "source": [
    "import tensorflow as tf\n",
    "import tensorflow_datasets as tfds"
   ]
  },
  {
   "cell_type": "code",
   "execution_count": 3,
   "id": "55845e61",
   "metadata": {},
   "outputs": [
    {
     "data": {
      "text/plain": [
       "tfds.core.DatasetInfo(\n",
       "    name='mnist',\n",
       "    full_name='mnist/3.0.1',\n",
       "    description=\"\"\"\n",
       "    The MNIST database of handwritten digits.\n",
       "    \"\"\",\n",
       "    homepage='http://yann.lecun.com/exdb/mnist/',\n",
       "    data_path='/Users/oonisim/tensorflow_datasets/mnist/3.0.1',\n",
       "    file_format=tfrecord,\n",
       "    download_size=11.06 MiB,\n",
       "    dataset_size=21.00 MiB,\n",
       "    features=FeaturesDict({\n",
       "        'image': Image(shape=(28, 28, 1), dtype=tf.uint8),\n",
       "        'label': ClassLabel(shape=(), dtype=tf.int64, num_classes=10),\n",
       "    }),\n",
       "    supervised_keys=('image', 'label'),\n",
       "    disable_shuffling=False,\n",
       "    splits={\n",
       "        'test': <SplitInfo num_examples=10000, num_shards=1>,\n",
       "        'train': <SplitInfo num_examples=60000, num_shards=1>,\n",
       "    },\n",
       "    citation=\"\"\"@article{lecun2010mnist,\n",
       "      title={MNIST handwritten digit database},\n",
       "      author={LeCun, Yann and Cortes, Corinna and Burges, CJ},\n",
       "      journal={ATT Labs [Online]. Available: http://yann.lecun.com/exdb/mnist},\n",
       "      volume={2},\n",
       "      year={2010}\n",
       "    }\"\"\",\n",
       ")"
      ]
     },
     "execution_count": 3,
     "metadata": {},
     "output_type": "execute_result"
    }
   ],
   "source": [
    "mnist, info = tfds.load(\"mnist\", split=\"train\", as_supervised=True, with_info=True)\n",
    "info"
   ]
  },
  {
   "cell_type": "code",
   "execution_count": 9,
   "id": "85e5822a",
   "metadata": {},
   "outputs": [
    {
     "name": "stdout",
     "output_type": "stream",
     "text": [
      "image tf.Tensor([28 28  1], shape=(3,), dtype=int32) label 4\n"
     ]
    },
    {
     "name": "stderr",
     "output_type": "stream",
     "text": [
      "2023-03-05 15:39:14.671820: W tensorflow/core/kernels/data/cache_dataset_ops.cc:856] The calling iterator did not fully read the dataset being cached. In order to avoid unexpected truncation of the dataset, the partially cached contents of the dataset  will be discarded. This can happen if you have an input pipeline similar to `dataset.cache().take(k).repeat()`. You should use `dataset.take(k).cache().repeat()` instead.\n"
     ]
    }
   ],
   "source": [
    "for row in mnist.take(1):\n",
    "    print(\"image\", tf.shape(row[0]), \"label\", row[1].numpy())"
   ]
  },
  {
   "cell_type": "code",
   "execution_count": 11,
   "id": "06adf844",
   "metadata": {},
   "outputs": [
    {
     "data": {
      "text/plain": [
       "60000"
      ]
     },
     "execution_count": 11,
     "metadata": {},
     "output_type": "execute_result"
    }
   ],
   "source": [
    "tf.data.Dataset.cardinality(mnist).numpy()"
   ]
  },
  {
   "cell_type": "code",
   "execution_count": null,
   "id": "2f7dcd31",
   "metadata": {},
   "outputs": [],
   "source": []
  }
 ],
 "metadata": {
  "kernelspec": {
   "display_name": "Python 3 (ipykernel)",
   "language": "python",
   "name": "python3"
  },
  "language_info": {
   "codemirror_mode": {
    "name": "ipython",
    "version": 3
   },
   "file_extension": ".py",
   "mimetype": "text/x-python",
   "name": "python",
   "nbconvert_exporter": "python",
   "pygments_lexer": "ipython3",
   "version": "3.9.13"
  }
 },
 "nbformat": 4,
 "nbformat_minor": 5
}
