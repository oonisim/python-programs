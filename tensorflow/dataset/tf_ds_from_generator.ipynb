{
 "cells": [
  {
   "cell_type": "code",
   "execution_count": null,
   "id": "9d7042fd",
   "metadata": {},
   "outputs": [],
   "source": [
    "def generate_examples():\n",
    "    for (idx, y) in indices_and_labels:\n",
    "        yield (series[idx:idx+588], y)\n",
    "\n",
    "dataset = tf.data.Dataset.from_generator(\n",
    "    generate_examples,\n",
    "    output_signature=(\n",
    "        tf.TensorSpec(shape=(588,), dtype=tf.float32),\n",
    "        tf.TensorSpec(shape=(), dtype=tf.int32),\n",
    "    ),"
   ]
  }
 ],
 "metadata": {
  "kernelspec": {
   "display_name": "Python 3 (ipykernel)",
   "language": "python",
   "name": "python3"
  },
  "language_info": {
   "codemirror_mode": {
    "name": "ipython",
    "version": 3
   },
   "file_extension": ".py",
   "mimetype": "text/x-python",
   "name": "python",
   "nbconvert_exporter": "python",
   "pygments_lexer": "ipython3",
   "version": "3.9.13"
  }
 },
 "nbformat": 4,
 "nbformat_minor": 5
}
