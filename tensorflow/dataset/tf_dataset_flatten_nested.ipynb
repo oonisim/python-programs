{
 "cells": [
  {
   "cell_type": "markdown",
   "source": [
    "# How to flatten nested structure in Dataset\n",
    "\n",
    "* [flat_map](https://www.tensorflow.org/api_docs/python/tf/data/Dataset#flat_map)\n",
    "* [https://www.tensorflow.org/api_docs/python/tf/data/Dataset#from_tensor_slices](https://www.tensorflow.org/api_docs/python/tf/data/Dataset#from_tensor_slices)\n",
    "\n",
    "* [Flatten a dataset in TensorFlow](https://stackoverflow.com/questions/49960875/flatten-a-dataset-in-tensorflow)\n",
    "\n",
    "> ```Dataset.from_tensor_slices()``` method works for exactly your use case, because it can **split a tensor into a variable number of elements**:\n",
    "> ```\n",
    "> output_labels = self.dataset.flat_map(tf.data.Dataset.from_tensor_slices)\n",
    "> ```\n",
    "> Note that the tf.contrib.data.unbatch() transformation implements the same functionality, and has a slightly more efficient implementation in the current master branch of TensorFlow (will be included in the 1.9 release):\n",
    "> "
   ],
   "metadata": {
    "collapsed": false
   },
   "id": "62b4d6f0bcf8fc39"
  },
  {
   "cell_type": "code",
   "execution_count": null,
   "outputs": [],
   "source": [],
   "metadata": {
    "collapsed": false
   },
   "id": "939a73303b552bcd"
  }
 ],
 "metadata": {
  "kernelspec": {
   "display_name": "Python 3",
   "language": "python",
   "name": "python3"
  },
  "language_info": {
   "codemirror_mode": {
    "name": "ipython",
    "version": 2
   },
   "file_extension": ".py",
   "mimetype": "text/x-python",
   "name": "python",
   "nbconvert_exporter": "python",
   "pygments_lexer": "ipython2",
   "version": "2.7.6"
  }
 },
 "nbformat": 4,
 "nbformat_minor": 5
}
