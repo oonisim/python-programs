{
 "cells": [
  {
   "cell_type": "markdown",
   "id": "6af412fb",
   "metadata": {},
   "source": [
    "# Apply function to dataset\n",
    "\n"
   ]
  },
  {
   "cell_type": "markdown",
   "id": "64664e69",
   "metadata": {},
   "source": [
    "## apply vs map\n",
    "\n",
    "* [Difference between tf.data.Dataset.map() and tf.data.Dataset.apply()](https://stackoverflow.com/questions/47091726/difference-between-tf-data-dataset-map-and-tf-data-dataset-apply)\n",
    "\n",
    "> The difference is that ```map``` will execute one **function on every element of the Dataset separately**, whereas ```apply ```will execute one **function on the whole Dataset at once** (such as group_by_window given as example in the documentation).\n",
    "> \n",
    "> * the argument of ```apply``` is a **function that takes a Dataset and returns a Dataset**\n",
    "> ```\n",
    "> datset.apply(lambda x: x < 10)\n",
    "> ```\n",
    "> * the argument of ```map``` is a **function that takes one element** and **returns one transformed element**.\n",
    "\n",
    "\n",
    "* function argument of ```map``` must be ```tf.Function```. Cannot use Python library e.g. numpy inside the function."
   ]
  },
  {
   "cell_type": "code",
   "execution_count": 2,
   "id": "a7facbf8",
   "metadata": {},
   "outputs": [],
   "source": [
    "import numpy as np\n",
    "import tensorflow as tf"
   ]
  },
  {
   "cell_type": "markdown",
   "id": "bd788d2a",
   "metadata": {},
   "source": [
    "# Dataset"
   ]
  },
  {
   "cell_type": "code",
   "execution_count": 3,
   "id": "18f0744e",
   "metadata": {},
   "outputs": [
    {
     "name": "stdout",
     "output_type": "stream",
     "text": [
      "<TensorSliceDataset element_spec=TensorSpec(shape=(3,), dtype=tf.float32, name=None)>\n",
      "\n",
      "tf.Tensor([0.14375    0.0437018  0.97083336], shape=(3,), dtype=float32)\n",
      "tf.Tensor([0.14583333 0.24164525 0.57916665], shape=(3,), dtype=float32)\n",
      "tf.Tensor([0.6       0.5244216 0.8541667], shape=(3,), dtype=float32)\n"
     ]
    }
   ],
   "source": [
    "dataset = tf.data.Dataset.from_tensor_slices([\n",
    "    tf.constant([0.14375, 0.0437018, 0.97083336], dtype=np.float32),\n",
    "    tf.constant([0.14583333, 0.24164525, 0.57916665], dtype=np.float32),\n",
    "    tf.constant([0.6, 0.5244216, 0.8541667], dtype=np.float32),\n",
    "])\n",
    "print(dataset)\n",
    "print()\n",
    "for d in dataset:\n",
    "    print(d)"
   ]
  },
  {
   "cell_type": "markdown",
   "id": "8b458c76",
   "metadata": {},
   "source": [
    "---\n",
    "# How to apply function and retain the same Tensor shape\n",
    "\n",
    "Transform a dataset of an **array of Tensors of shape ```(3,)```** into the same shape but manipulate tensor elements.\n",
    "\n",
    "* [TensorFlow Dataset - how to make map function return multi columns as one tensor](https://stackoverflow.com/questions/75587284/tensorflow-dataset-how-to-make-map-function-return-multi-columns-as-one-tensor)\n"
   ]
  },
  {
   "cell_type": "markdown",
   "id": "eddc2468",
   "metadata": {},
   "source": [
    "## flat_map(g)\n",
    "\n",
    "Use [flat_map](https://www.tensorflow.org/api_docs/python/tf/data/Dataset#flat_map)(g) where ```g``` generates a Dataset. ```flat_map``` needs to return a Dataset, not Python data structure nor tf.Tensor.\n",
    "\n",
    "\n",
    "<img src=\"./image/tf_dataset_flat_map_for_multi_dimension_tensor.png\" align=\"left\" width=500/>"
   ]
  },
  {
   "cell_type": "code",
   "execution_count": 4,
   "id": "5b563233",
   "metadata": {},
   "outputs": [
    {
     "name": "stdout",
     "output_type": "stream",
     "text": [
      "tf.Tensor([0.14375   0.0874036 2.9125001], shape=(3,), dtype=float32)\n",
      "tf.Tensor([0.14583333 0.4832905  1.7375    ], shape=(3,), dtype=float32)\n",
      "tf.Tensor([0.6       1.0488431 2.5625   ], shape=(3,), dtype=float32)\n"
     ]
    },
    {
     "name": "stderr",
     "output_type": "stream",
     "text": [
      "2023-03-02 15:59:49.541954: W tensorflow/core/platform/profile_utils/cpu_utils.cc:128] Failed to get CPU frequency: 0 Hz\n"
     ]
    }
   ],
   "source": [
    "def g(x):\n",
    "    return tf.data.Dataset.from_tensors([x[0]*1, x[1]*2, x[2] * 3])\n",
    "\n",
    "for d in dataset.flat_map(g):\n",
    "    print(d)"
   ]
  },
  {
   "cell_type": "code",
   "execution_count": 37,
   "id": "ad4f8d9b",
   "metadata": {},
   "outputs": [
    {
     "name": "stdout",
     "output_type": "stream",
     "text": [
      "tf.Tensor([0.14375   0.0874036 2.9125001], shape=(3,), dtype=float32)\n",
      "tf.Tensor([0.14583333 0.4832905  1.7375    ], shape=(3,), dtype=float32)\n",
      "tf.Tensor([0.6       1.0488431 2.5625   ], shape=(3,), dtype=float32)\n"
     ]
    }
   ],
   "source": [
    "def g(x):\n",
    "    return tf.data.Dataset.from_tensor_slices([[x[0]*1, x[1]*2, x[2] * 3]])\n",
    "\n",
    "for d in dataset.flat_map(g):\n",
    "    print(d)"
   ]
  },
  {
   "cell_type": "markdown",
   "id": "e3fa6017",
   "metadata": {},
   "source": [
    "### Problem - Cannot use ```map```\n",
    "\n",
    "Cannot retain ```(3,)``` shape. Instead ```Tuple[(),(),()]```. "
   ]
  },
  {
   "cell_type": "code",
   "execution_count": 56,
   "id": "ce9edfbe",
   "metadata": {},
   "outputs": [
    {
     "name": "stdout",
     "output_type": "stream",
     "text": [
      "(<tf.Tensor: shape=(), dtype=float32, numpy=0.14375>, <tf.Tensor: shape=(), dtype=float32, numpy=0.0874036>, <tf.Tensor: shape=(), dtype=float32, numpy=2.9125001>)\n",
      "(<tf.Tensor: shape=(), dtype=float32, numpy=0.14583333>, <tf.Tensor: shape=(), dtype=float32, numpy=0.4832905>, <tf.Tensor: shape=(), dtype=float32, numpy=1.7375>)\n",
      "(<tf.Tensor: shape=(), dtype=float32, numpy=0.6>, <tf.Tensor: shape=(), dtype=float32, numpy=1.0488431>, <tf.Tensor: shape=(), dtype=float32, numpy=2.5625>)\n"
     ]
    }
   ],
   "source": [
    "def f(x):\n",
    "    return x[0]*1, x[1]*2, x[2] * 3\n",
    "\n",
    "for d in dataset.map(f):\n",
    "    print(d)"
   ]
  },
  {
   "cell_type": "markdown",
   "id": "96e86023",
   "metadata": {},
   "source": [
    "Alternatively, make it a dictionary."
   ]
  },
  {
   "cell_type": "code",
   "execution_count": 59,
   "id": "6e11bdaf",
   "metadata": {},
   "outputs": [
    {
     "name": "stdout",
     "output_type": "stream",
     "text": [
      "{'inputs': <tf.Tensor: shape=(3,), dtype=float32, numpy=array([0.14375  , 0.0874036, 2.9125001], dtype=float32)>}\n",
      "{'inputs': <tf.Tensor: shape=(3,), dtype=float32, numpy=array([0.14583333, 0.4832905 , 1.7375    ], dtype=float32)>}\n",
      "{'inputs': <tf.Tensor: shape=(3,), dtype=float32, numpy=array([0.6      , 1.0488431, 2.5625   ], dtype=float32)>}\n"
     ]
    }
   ],
   "source": [
    "def f(x):\n",
    "    return {\"inputs\": [x[0]*1, x[1]*2, x[2] * 3]}\n",
    "\n",
    "for d in dataset.map(f):\n",
    "    print(d)"
   ]
  },
  {
   "cell_type": "code",
   "execution_count": null,
   "id": "0806196c",
   "metadata": {},
   "outputs": [],
   "source": []
  }
 ],
 "metadata": {
  "kernelspec": {
   "display_name": "Python 3 (ipykernel)",
   "language": "python",
   "name": "python3"
  },
  "language_info": {
   "codemirror_mode": {
    "name": "ipython",
    "version": 3
   },
   "file_extension": ".py",
   "mimetype": "text/x-python",
   "name": "python",
   "nbconvert_exporter": "python",
   "pygments_lexer": "ipython3",
   "version": "3.9.13"
  }
 },
 "nbformat": 4,
 "nbformat_minor": 5
}
