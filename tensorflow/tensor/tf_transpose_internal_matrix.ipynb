{
 "cells": [
  {
   "cell_type": "markdown",
   "id": "46ccfbf5",
   "metadata": {},
   "source": [
    "# Tranapose the internal (R, C) matrix in (N, R, C) Tensor\n",
    "\n",
    "You have tensor of shape (N, R, C) which is N batch of ```(R, C)``` matrices. You waant to transpose ```(R, C)``` to ```(C, R)```, e.g:\n",
    "\n",
    "From ```(N,R=2,C=3)```\n",
    "```\n",
    "[[\n",
    "  [ 0  1  2]\n",
    "  [ 3  4  5]\n",
    "]]\n",
    "```\n",
    "To ```(N,C=2,R=3)```\n",
    "```\n",
    "[[\n",
    "  [ 0,  3],\n",
    "  [ 1,  4],\n",
    "  [ 2,  5]\n",
    "]]\n",
    "```"
   ]
  },
  {
   "cell_type": "code",
   "execution_count": 3,
   "id": "737e22dc",
   "metadata": {},
   "outputs": [],
   "source": [
    "import numpy as np\n",
    "import tensorflow as tf"
   ]
  },
  {
   "cell_type": "markdown",
   "id": "41a978d7",
   "metadata": {},
   "source": [
    "---\n",
    "# (N, R, C) to (N, C, R)"
   ]
  },
  {
   "cell_type": "code",
   "execution_count": 16,
   "id": "0ecb83e6",
   "metadata": {},
   "outputs": [
    {
     "name": "stdout",
     "output_type": "stream",
     "text": [
      "tf.Tensor(\n",
      "[[[ 0  1  2]\n",
      "  [ 3  4  5]]\n",
      "\n",
      " [[ 6  7  8]\n",
      "  [ 9 10 11]]], shape=(2, 2, 3), dtype=int64)\n"
     ]
    }
   ],
   "source": [
    "N=2    # Number of batches\n",
    "R=2    # Row\n",
    "C=3    # Column\n",
    "\n",
    "x = tf.reshape(\n",
    "    tensor=np.arange(N*M*D).reshape(N,M,D), \n",
    "    shape=(N,M,D), \n",
    "    name=\"from_constant\"\n",
    ")\n",
    "print(x)"
   ]
  },
  {
   "cell_type": "markdown",
   "id": "e0f37144",
   "metadata": {},
   "source": [
    "## Permutation\n",
    "\n",
    "```\n",
    "perm=[\n",
    "   0,      # Within the outer most axis=0\n",
    "   2,1     # Trasponse axes=(1,2) into axes=(2,1)\n",
    "]\n",
    "```"
   ]
  },
  {
   "cell_type": "code",
   "execution_count": 19,
   "id": "19259cfd",
   "metadata": {},
   "outputs": [
    {
     "data": {
      "text/plain": [
       "<tf.Tensor: shape=(2, 3, 2), dtype=int64, numpy=\n",
       "array([[[ 0,  3],\n",
       "        [ 1,  4],\n",
       "        [ 2,  5]],\n",
       "\n",
       "       [[ 6,  9],\n",
       "        [ 7, 10],\n",
       "        [ 8, 11]]])>"
      ]
     },
     "execution_count": 19,
     "metadata": {},
     "output_type": "execute_result"
    }
   ],
   "source": [
    "tf.transpose(a=x, perm=[0, 2, 1])"
   ]
  },
  {
   "cell_type": "markdown",
   "id": "a529092b",
   "metadata": {},
   "source": [
    "---\n",
    "# (N, N, R, C) to (N, N, C, R)"
   ]
  },
  {
   "cell_type": "code",
   "execution_count": 20,
   "id": "9c42b3ce",
   "metadata": {},
   "outputs": [
    {
     "data": {
      "text/plain": [
       "<tf.Tensor: shape=(2, 2, 3, 4), dtype=int64, numpy=\n",
       "array([[[[ 0,  1,  2,  3],\n",
       "         [ 4,  5,  6,  7],\n",
       "         [ 8,  9, 10, 11]],\n",
       "\n",
       "        [[12, 13, 14, 15],\n",
       "         [16, 17, 18, 19],\n",
       "         [20, 21, 22, 23]]],\n",
       "\n",
       "\n",
       "       [[[24, 25, 26, 27],\n",
       "         [28, 29, 30, 31],\n",
       "         [32, 33, 34, 35]],\n",
       "\n",
       "        [[36, 37, 38, 39],\n",
       "         [40, 41, 42, 43],\n",
       "         [44, 45, 46, 47]]]])>"
      ]
     },
     "execution_count": 20,
     "metadata": {},
     "output_type": "execute_result"
    }
   ],
   "source": [
    "N=2    # Number of rows\n",
    "R=3    # Number of row\n",
    "C=4    # Number of columns in a row=(x, y, h, w)\n",
    "\n",
    "a = tf.reshape(\n",
    "    tensor=np.arange(N*N*R*C).reshape(N,N,R,C), \n",
    "    shape=(N,N,R,C), \n",
    ")\n",
    "a"
   ]
  },
  {
   "cell_type": "code",
   "execution_count": 22,
   "id": "87a582d3",
   "metadata": {},
   "outputs": [
    {
     "data": {
      "text/plain": [
       "<tf.Tensor: shape=(2, 2, 4, 3), dtype=int64, numpy=\n",
       "array([[[[ 0,  4,  8],\n",
       "         [ 1,  5,  9],\n",
       "         [ 2,  6, 10],\n",
       "         [ 3,  7, 11]],\n",
       "\n",
       "        [[12, 16, 20],\n",
       "         [13, 17, 21],\n",
       "         [14, 18, 22],\n",
       "         [15, 19, 23]]],\n",
       "\n",
       "\n",
       "       [[[24, 28, 32],\n",
       "         [25, 29, 33],\n",
       "         [26, 30, 34],\n",
       "         [27, 31, 35]],\n",
       "\n",
       "        [[36, 40, 44],\n",
       "         [37, 41, 45],\n",
       "         [38, 42, 46],\n",
       "         [39, 43, 47]]]])>"
      ]
     },
     "execution_count": 22,
     "metadata": {},
     "output_type": "execute_result"
    }
   ],
   "source": [
    "tf.transpose(a=a, perm=(0,1,3,2))"
   ]
  },
  {
   "cell_type": "code",
   "execution_count": null,
   "id": "00aada66",
   "metadata": {},
   "outputs": [],
   "source": []
  }
 ],
 "metadata": {
  "kernelspec": {
   "display_name": "Python 3 (ipykernel)",
   "language": "python",
   "name": "python3"
  },
  "language_info": {
   "codemirror_mode": {
    "name": "ipython",
    "version": 3
   },
   "file_extension": ".py",
   "mimetype": "text/x-python",
   "name": "python",
   "nbconvert_exporter": "python",
   "pygments_lexer": "ipython3",
   "version": "3.9.13"
  }
 },
 "nbformat": 4,
 "nbformat_minor": 5
}
