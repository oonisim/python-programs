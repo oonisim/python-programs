{
 "cells": [
  {
   "cell_type": "markdown",
   "id": "cee36a52",
   "metadata": {},
   "source": [
    "# What Tensor is\n",
    "\n",
    "## tf.Tensor \n",
    "\n",
    "Immutable multi-dimensional array with a uniform type with GPU support.\n",
    "\n",
    "* [tf.Tensor](https://www.tensorflow.org/api_docs/python/tf/Tensor)\n",
    "* [Introduction to Tensors](https://www.tensorflow.org/guide/tensor)\n",
    "\n",
    "\n",
    "## Note\n",
    "\n",
    "tf.Variable is mutable multi-dimensional array with GPU support."
   ]
  },
  {
   "cell_type": "code",
   "execution_count": 1,
   "id": "d6a0d421",
   "metadata": {},
   "outputs": [],
   "source": [
    "import numpy as np\n",
    "import tensorflow as tf"
   ]
  },
  {
   "cell_type": "code",
   "execution_count": 3,
   "id": "4815fd4e",
   "metadata": {},
   "outputs": [],
   "source": [
    "a = tf.constant([\n",
    "    list(range(12))\n",
    "])"
   ]
  },
  {
   "cell_type": "code",
   "execution_count": 3,
   "id": "eb7f0904",
   "metadata": {},
   "outputs": [
    {
     "data": {
      "text/plain": [
       "['OVERLOADABLE_OPERATORS',\n",
       " '_USE_EQUALITY',\n",
       " '__abs__',\n",
       " '__add__',\n",
       " '__and__',\n",
       " '__array__',\n",
       " '__array_priority__',\n",
       " '__bool__',\n",
       " '__class__',\n",
       " '__complex__',\n",
       " '__copy__',\n",
       " '__deepcopy__',\n",
       " '__delattr__',\n",
       " '__dict__',\n",
       " '__dir__',\n",
       " '__div__',\n",
       " '__doc__',\n",
       " '__eq__',\n",
       " '__float__',\n",
       " '__floordiv__',\n",
       " '__format__',\n",
       " '__ge__',\n",
       " '__getattr__',\n",
       " '__getattribute__',\n",
       " '__getitem__',\n",
       " '__gt__',\n",
       " '__hash__',\n",
       " '__index__',\n",
       " '__init__',\n",
       " '__init_subclass__',\n",
       " '__int__',\n",
       " '__invert__',\n",
       " '__iter__',\n",
       " '__le__',\n",
       " '__len__',\n",
       " '__long__',\n",
       " '__lt__',\n",
       " '__matmul__',\n",
       " '__mod__',\n",
       " '__module__',\n",
       " '__mul__',\n",
       " '__ne__',\n",
       " '__neg__',\n",
       " '__new__',\n",
       " '__nonzero__',\n",
       " '__or__',\n",
       " '__pow__',\n",
       " '__radd__',\n",
       " '__rand__',\n",
       " '__rdiv__',\n",
       " '__reduce__',\n",
       " '__reduce_ex__',\n",
       " '__repr__',\n",
       " '__rfloordiv__',\n",
       " '__rmatmul__',\n",
       " '__rmod__',\n",
       " '__rmul__',\n",
       " '__ror__',\n",
       " '__round__',\n",
       " '__rpow__',\n",
       " '__rsub__',\n",
       " '__rtruediv__',\n",
       " '__rxor__',\n",
       " '__setattr__',\n",
       " '__sizeof__',\n",
       " '__str__',\n",
       " '__sub__',\n",
       " '__subclasshook__',\n",
       " '__tf_tracing_type__',\n",
       " '__truediv__',\n",
       " '__weakref__',\n",
       " '__xor__',\n",
       " '_add_consumer',\n",
       " '_as_node_def_input',\n",
       " '_as_tf_output',\n",
       " '_c_api_shape',\n",
       " '_copy',\n",
       " '_copy_nograd',\n",
       " '_copy_to_device',\n",
       " '_create_with_tf_output',\n",
       " '_datatype_enum',\n",
       " '_disallow_bool_casting',\n",
       " '_disallow_in_graph_mode',\n",
       " '_disallow_iteration',\n",
       " '_disallow_when_autograph_disabled',\n",
       " '_disallow_when_autograph_enabled',\n",
       " '_disallow_when_autograph_unavailable',\n",
       " '_handle_data',\n",
       " '_id',\n",
       " '_matmul',\n",
       " '_num_elements',\n",
       " '_numpy',\n",
       " '_numpy_internal',\n",
       " '_numpy_style_getitem',\n",
       " '_override_operator',\n",
       " '_prefer_custom_summarizer',\n",
       " '_rank',\n",
       " '_shape',\n",
       " '_shape_as_list',\n",
       " '_shape_tuple',\n",
       " '_summarize_value',\n",
       " '_tensor_shape',\n",
       " '_tf_api_names',\n",
       " '_tf_api_names_v1',\n",
       " '_with_index_add',\n",
       " '_with_index_max',\n",
       " '_with_index_min',\n",
       " '_with_index_update',\n",
       " 'backing_device',\n",
       " 'consumers',\n",
       " 'cpu',\n",
       " 'device',\n",
       " 'dtype',\n",
       " 'eval',\n",
       " 'experimental_ref',\n",
       " 'get_shape',\n",
       " 'gpu',\n",
       " 'graph',\n",
       " 'is_packed',\n",
       " 'name',\n",
       " 'ndim',\n",
       " 'numpy',\n",
       " 'op',\n",
       " 'ref',\n",
       " 'set_shape',\n",
       " 'shape',\n",
       " 'value_index']"
      ]
     },
     "execution_count": 3,
     "metadata": {},
     "output_type": "execute_result"
    }
   ],
   "source": [
    "dir(a)"
   ]
  },
  {
   "cell_type": "code",
   "execution_count": 4,
   "id": "6a1cbfbe",
   "metadata": {},
   "outputs": [
    {
     "data": {
      "text/plain": [
       "<tf.Tensor: shape=(3, 4), dtype=int32, numpy=\n",
       "array([[ 0,  1,  2,  3],\n",
       "       [ 4,  5,  6,  7],\n",
       "       [ 8,  9, 10, 11]], dtype=int32)>"
      ]
     },
     "execution_count": 4,
     "metadata": {},
     "output_type": "execute_result"
    }
   ],
   "source": [
    "a = tf.reshape(tensor=a, shape=(3,4), name=\"from_constant\")\n",
    "a"
   ]
  },
  {
   "cell_type": "markdown",
   "id": "2f7fa924",
   "metadata": {},
   "source": [
    "## Topology"
   ]
  },
  {
   "cell_type": "code",
   "execution_count": 5,
   "id": "49967754",
   "metadata": {},
   "outputs": [
    {
     "data": {
      "text/plain": [
       "2"
      ]
     },
     "execution_count": 5,
     "metadata": {},
     "output_type": "execute_result"
    }
   ],
   "source": [
    "a.ndim"
   ]
  },
  {
   "cell_type": "code",
   "execution_count": 6,
   "id": "04d7503c",
   "metadata": {},
   "outputs": [
    {
     "data": {
      "text/plain": [
       "TensorShape([3, 4])"
      ]
     },
     "execution_count": 6,
     "metadata": {},
     "output_type": "execute_result"
    }
   ],
   "source": [
    "a.shape"
   ]
  },
  {
   "cell_type": "code",
   "execution_count": 20,
   "id": "1c62563c",
   "metadata": {},
   "outputs": [
    {
     "data": {
      "text/plain": [
       "True"
      ]
     },
     "execution_count": 20,
     "metadata": {},
     "output_type": "execute_result"
    }
   ],
   "source": [
    "a.shape == (3,4)"
   ]
  },
  {
   "cell_type": "code",
   "execution_count": 17,
   "id": "95672a99",
   "metadata": {},
   "outputs": [
    {
     "data": {
      "text/plain": [
       "4"
      ]
     },
     "execution_count": 17,
     "metadata": {},
     "output_type": "execute_result"
    }
   ],
   "source": [
    "a.shape[-1]"
   ]
  },
  {
   "cell_type": "code",
   "execution_count": 21,
   "id": "a0226672",
   "metadata": {},
   "outputs": [
    {
     "data": {
      "text/plain": [
       "True"
      ]
     },
     "execution_count": 21,
     "metadata": {},
     "output_type": "execute_result"
    }
   ],
   "source": [
    "a.shape[-1] in (4, 5)"
   ]
  },
  {
   "cell_type": "code",
   "execution_count": 19,
   "id": "faa2b4ce",
   "metadata": {},
   "outputs": [
    {
     "data": {
      "text/plain": [
       "2"
      ]
     },
     "execution_count": 19,
     "metadata": {},
     "output_type": "execute_result"
    }
   ],
   "source": [
    "(1, 2)[-1]"
   ]
  },
  {
   "cell_type": "markdown",
   "id": "6134bab8",
   "metadata": {},
   "source": [
    "## DType\n",
    "\n",
    "* [tf.dtypes.DType](https://www.tensorflow.org/api_docs/python/tf/dtypes/DType)\n",
    "\n"
   ]
  },
  {
   "cell_type": "code",
   "execution_count": 59,
   "id": "5d721008",
   "metadata": {},
   "outputs": [
    {
     "name": "stdout",
     "output_type": "stream",
     "text": [
      "bfloat16\n",
      "bool\n",
      "cast\n",
      "complex\n",
      "complex128\n",
      "complex64\n",
      "float16\n",
      "float32\n",
      "float64\n",
      "qint16\n",
      "qint32\n",
      "qint8\n",
      "quint16\n",
      "quint8\n",
      "uint16\n",
      "uint32\n",
      "uint64\n",
      "uint8\n"
     ]
    }
   ],
   "source": [
    "for t in dir(tf.dtypes): \n",
    "    if t[0] in (\"bcfqu\"):\n",
    "        print(t)"
   ]
  },
  {
   "cell_type": "code",
   "execution_count": 7,
   "id": "9e15795c",
   "metadata": {},
   "outputs": [
    {
     "data": {
      "text/plain": [
       "tf.int32"
      ]
     },
     "execution_count": 7,
     "metadata": {},
     "output_type": "execute_result"
    }
   ],
   "source": [
    "a.dtype"
   ]
  },
  {
   "cell_type": "code",
   "execution_count": 8,
   "id": "5110a85e",
   "metadata": {},
   "outputs": [
    {
     "data": {
      "text/plain": [
       "True"
      ]
     },
     "execution_count": 8,
     "metadata": {},
     "output_type": "execute_result"
    }
   ],
   "source": [
    "a.dtype.is_integer"
   ]
  },
  {
   "cell_type": "code",
   "execution_count": 9,
   "id": "c735b073",
   "metadata": {},
   "outputs": [
    {
     "data": {
      "text/plain": [
       "False"
      ]
     },
     "execution_count": 9,
     "metadata": {},
     "output_type": "execute_result"
    }
   ],
   "source": [
    "a.dtype.is_floating"
   ]
  },
  {
   "cell_type": "code",
   "execution_count": 10,
   "id": "18b5b619",
   "metadata": {},
   "outputs": [
    {
     "data": {
      "text/plain": [
       "-2147483648"
      ]
     },
     "execution_count": 10,
     "metadata": {},
     "output_type": "execute_result"
    }
   ],
   "source": [
    "a.dtype.min"
   ]
  },
  {
   "cell_type": "code",
   "execution_count": 11,
   "id": "657189dc",
   "metadata": {},
   "outputs": [
    {
     "data": {
      "text/plain": [
       "2147483647"
      ]
     },
     "execution_count": 11,
     "metadata": {},
     "output_type": "execute_result"
    }
   ],
   "source": [
    "a.dtype.max"
   ]
  },
  {
   "cell_type": "markdown",
   "id": "3f7e0ad8",
   "metadata": {},
   "source": [
    "## Numpy I/F"
   ]
  },
  {
   "cell_type": "code",
   "execution_count": 12,
   "id": "ea4a8420",
   "metadata": {},
   "outputs": [
    {
     "data": {
      "text/plain": [
       "True"
      ]
     },
     "execution_count": 12,
     "metadata": {},
     "output_type": "execute_result"
    }
   ],
   "source": [
    "a.dtype.is_compatible_with(np.int32)"
   ]
  },
  {
   "cell_type": "code",
   "execution_count": 13,
   "id": "9141cf76",
   "metadata": {},
   "outputs": [
    {
     "data": {
      "text/plain": [
       "array([[ 0,  1,  2,  3],\n",
       "       [ 4,  5,  6,  7],\n",
       "       [ 8,  9, 10, 11]], dtype=int32)"
      ]
     },
     "execution_count": 13,
     "metadata": {},
     "output_type": "execute_result"
    }
   ],
   "source": [
    "a.numpy()"
   ]
  },
  {
   "cell_type": "code",
   "execution_count": 14,
   "id": "09378e7f",
   "metadata": {},
   "outputs": [
    {
     "data": {
      "text/plain": [
       "array([[ 0,  1,  2,  3],\n",
       "       [ 4,  5,  6,  7],\n",
       "       [ 8,  9, 10, 11]], dtype=int32)"
      ]
     },
     "execution_count": 14,
     "metadata": {},
     "output_type": "execute_result"
    }
   ],
   "source": [
    "np.array(a)"
   ]
  },
  {
   "cell_type": "markdown",
   "id": "45b0fb1d",
   "metadata": {},
   "source": [
    "---\n",
    "# Convert to Tensor\n",
    "\n",
    "* [tf.convert_to_tensor](https://www.tensorflow.org/api_docs/python/tf/convert_to_tensor)"
   ]
  },
  {
   "cell_type": "code",
   "execution_count": 15,
   "id": "51a96702",
   "metadata": {},
   "outputs": [
    {
     "data": {
      "text/plain": [
       "<tf.Tensor: shape=(3,), dtype=float32, numpy=array([1., 2., 3.], dtype=float32)>"
      ]
     },
     "execution_count": 15,
     "metadata": {},
     "output_type": "execute_result"
    }
   ],
   "source": [
    "tf.convert_to_tensor(value=[1,2,3], dtype=tf.float32)"
   ]
  },
  {
   "cell_type": "markdown",
   "id": "fbfb417c",
   "metadata": {},
   "source": [
    "---\n",
    "# Operations"
   ]
  },
  {
   "cell_type": "markdown",
   "id": "a12c63f4",
   "metadata": {},
   "source": [
    "### Cast"
   ]
  },
  {
   "cell_type": "code",
   "execution_count": 29,
   "id": "2ad3bea7",
   "metadata": {},
   "outputs": [
    {
     "data": {
      "text/plain": [
       "<tf.Tensor: shape=(3,), dtype=float32, numpy=array([1., 2., 3.], dtype=float32)>"
      ]
     },
     "execution_count": 29,
     "metadata": {},
     "output_type": "execute_result"
    }
   ],
   "source": [
    "tf.cast(tf.constant([1,2,3]), tf.float32)"
   ]
  },
  {
   "cell_type": "code",
   "execution_count": 24,
   "id": "74dceaae",
   "metadata": {},
   "outputs": [
    {
     "name": "stdout",
     "output_type": "stream",
     "text": [
      "(3, 4)\n",
      "tf.Tensor(\n",
      "[[13.191885  10.911267   9.512636   8.919833 ]\n",
      " [12.425211   8.730868   7.0700006 10.632405 ]\n",
      " [10.603993   9.163311  12.140513  11.256826 ]], shape=(3, 4), dtype=float32)\n"
     ]
    }
   ],
   "source": [
    "m = tf.random.normal(shape = (3,4), mean=10, stddev=2, dtype=tf.float32, seed=None,  name=None)\n",
    "print(m.shape)\n",
    "print(m)"
   ]
  },
  {
   "cell_type": "code",
   "execution_count": 19,
   "id": "50806a85",
   "metadata": {},
   "outputs": [
    {
     "data": {
      "text/plain": [
       "<tf.Tensor: shape=(3, 3), dtype=float32, numpy=\n",
       "array([[133.19125, 131.34326, 129.4595 ],\n",
       "       [130.73251, 131.28784, 128.52892],\n",
       "       [126.388  , 126.07254, 123.89667]], dtype=float32)>"
      ]
     },
     "execution_count": 19,
     "metadata": {},
     "output_type": "execute_result"
    }
   ],
   "source": [
    "m @ tf.transpose(tf.sqrt(m))"
   ]
  },
  {
   "cell_type": "markdown",
   "id": "d6227c8d",
   "metadata": {},
   "source": [
    "### Add dimension"
   ]
  },
  {
   "cell_type": "code",
   "execution_count": 27,
   "id": "9518daae",
   "metadata": {},
   "outputs": [
    {
     "data": {
      "text/plain": [
       "TensorShape([1, 3, 4, 1])"
      ]
     },
     "execution_count": 27,
     "metadata": {},
     "output_type": "execute_result"
    }
   ],
   "source": [
    "m[tf.newaxis, ..., tf.newaxis].shape"
   ]
  },
  {
   "cell_type": "code",
   "execution_count": 28,
   "id": "e30845c4",
   "metadata": {},
   "outputs": [
    {
     "data": {
      "text/plain": [
       "TensorShape([1, 3, 4, 1])"
      ]
     },
     "execution_count": 28,
     "metadata": {},
     "output_type": "execute_result"
    }
   ],
   "source": [
    "m[tf.newaxis, :, :, tf.newaxis].shape"
   ]
  },
  {
   "cell_type": "markdown",
   "id": "baaf05ae",
   "metadata": {},
   "source": [
    "### Merge two tensors"
   ]
  },
  {
   "cell_type": "code",
   "execution_count": 41,
   "id": "e7a42d13",
   "metadata": {},
   "outputs": [
    {
     "data": {
      "text/plain": [
       "<tf.Tensor: shape=(3, 2, 1), dtype=float32, numpy=\n",
       "array([[[ 7.889156 ],\n",
       "        [13.810212 ]],\n",
       "\n",
       "       [[11.1803875],\n",
       "        [ 8.357906 ]],\n",
       "\n",
       "       [[ 7.016836 ],\n",
       "        [11.254279 ]]], dtype=float32)>"
      ]
     },
     "execution_count": 41,
     "metadata": {},
     "output_type": "execute_result"
    }
   ],
   "source": [
    "a = tf.random.normal(shape = (3,2,1), mean=10, stddev=2, dtype=tf.float32, seed=None,  name=None)\n",
    "b = tf.random.normal(shape = (3,2,1), mean=10, stddev=2, dtype=tf.float32, seed=None,  name=None)\n",
    "a"
   ]
  },
  {
   "cell_type": "markdown",
   "id": "3cb620e7",
   "metadata": {},
   "source": [
    "concat(a=(..., 1), b=(..., 1)) into (..., 2)"
   ]
  },
  {
   "cell_type": "code",
   "execution_count": 44,
   "id": "d97f28a2",
   "metadata": {},
   "outputs": [
    {
     "name": "stdout",
     "output_type": "stream",
     "text": [
      "(3, 2, 2)\n"
     ]
    },
    {
     "data": {
      "text/plain": [
       "<tf.Tensor: shape=(3, 2, 2), dtype=float32, numpy=\n",
       "array([[[ 7.889156 ,  8.483684 ],\n",
       "        [13.810212 ,  8.877228 ]],\n",
       "\n",
       "       [[11.1803875, 10.522204 ],\n",
       "        [ 8.357906 ,  7.8342514]],\n",
       "\n",
       "       [[ 7.016836 ,  8.289329 ],\n",
       "        [11.254279 , 12.411686 ]]], dtype=float32)>"
      ]
     },
     "execution_count": 44,
     "metadata": {},
     "output_type": "execute_result"
    }
   ],
   "source": [
    "c = tf.concat(values=[a, b], axis=-1)\n",
    "print(c.shape)\n",
    "c"
   ]
  },
  {
   "cell_type": "markdown",
   "id": "e5c23fcd",
   "metadata": {},
   "source": [
    "### Max within a row\n",
    "\n",
    "* [tf.math.reduce_max](https://www.tensorflow.org/api_docs/python/tf/math/reduce_max)\n",
    "* [tf.math.maximum](https://www.tensorflow.org/api_docs/python/tf/math/maximum)"
   ]
  },
  {
   "cell_type": "code",
   "execution_count": 51,
   "id": "7e2bf7f8",
   "metadata": {},
   "outputs": [
    {
     "data": {
      "text/plain": [
       "<tf.Tensor: shape=(3, 2, 1), dtype=float32, numpy=\n",
       "array([[[ 8.483684 ],\n",
       "        [13.810212 ]],\n",
       "\n",
       "       [[11.1803875],\n",
       "        [ 8.357906 ]],\n",
       "\n",
       "       [[ 8.289329 ],\n",
       "        [12.411686 ]]], dtype=float32)>"
      ]
     },
     "execution_count": 51,
     "metadata": {},
     "output_type": "execute_result"
    }
   ],
   "source": [
    "tf.math.reduce_max(input_tensor=c, axis=-1, keepdims=True)"
   ]
  },
  {
   "cell_type": "code",
   "execution_count": 46,
   "id": "fad32e1a",
   "metadata": {},
   "outputs": [
    {
     "data": {
      "text/plain": [
       "<tf.Tensor: shape=(3, 2, 1), dtype=float32, numpy=\n",
       "array([[[ 8.483684 ],\n",
       "        [13.810212 ]],\n",
       "\n",
       "       [[11.1803875],\n",
       "        [ 8.357906 ]],\n",
       "\n",
       "       [[ 8.289329 ],\n",
       "        [12.411686 ]]], dtype=float32)>"
      ]
     },
     "execution_count": 46,
     "metadata": {},
     "output_type": "execute_result"
    }
   ],
   "source": [
    "tf.math.maximum(x=a, y=b)"
   ]
  },
  {
   "cell_type": "markdown",
   "id": "93063978",
   "metadata": {},
   "source": [
    "### Indices of Max in row\n",
    "\n",
    "* [tf.math.argmax](https://www.tensorflow.org/api_docs/python/tf/math/argmax)"
   ]
  },
  {
   "cell_type": "code",
   "execution_count": 55,
   "id": "90c19d12",
   "metadata": {},
   "outputs": [
    {
     "data": {
      "text/plain": [
       "<tf.Tensor: shape=(3, 2), dtype=int16, numpy=\n",
       "array([[1, 0],\n",
       "       [0, 0],\n",
       "       [1, 1]], dtype=int16)>"
      ]
     },
     "execution_count": 55,
     "metadata": {},
     "output_type": "execute_result"
    }
   ],
   "source": [
    "tf.math.argmax(input=c, axis=-1, output_type=tf.dtypes.int16)"
   ]
  },
  {
   "cell_type": "markdown",
   "id": "f62e0b74",
   "metadata": {},
   "source": [
    "### Logic"
   ]
  },
  {
   "cell_type": "code",
   "execution_count": 29,
   "id": "1d5dc63b",
   "metadata": {},
   "outputs": [
    {
     "data": {
      "text/plain": [
       "<tf.Tensor: shape=(1, 2, 4), dtype=int16, numpy=\n",
       "array([[[0, 1, 2, 3],\n",
       "        [2, 3, 1, 0]]], dtype=int16)>"
      ]
     },
     "execution_count": 29,
     "metadata": {},
     "output_type": "execute_result"
    }
   ],
   "source": [
    "a = tf.constant(np.array([[\n",
    "    [0, 1, 2, 3],\n",
    "    [2, 3, 1, 0],\n",
    "]]), dtype=tf.dtypes.int16)\n",
    "a"
   ]
  },
  {
   "cell_type": "code",
   "execution_count": 30,
   "id": "6ce2a5d5",
   "metadata": {},
   "outputs": [
    {
     "data": {
      "text/plain": [
       "<tf.Tensor: shape=(1, 2, 4), dtype=bool, numpy=\n",
       "array([[[False, False,  True,  True],\n",
       "        [ True,  True, False, False]]])>"
      ]
     },
     "execution_count": 30,
     "metadata": {},
     "output_type": "execute_result"
    }
   ],
   "source": [
    "indices_to_not_0_nor_1 = tf.math.logical_and(\n",
    "    a != tf.constant(value=0, dtype=tf.dtypes.int16),\n",
    "    a != tf.constant(value=1, dtype=tf.dtypes.int16)\n",
    ")\n",
    "indices_to_not_0_nor_1"
   ]
  },
  {
   "cell_type": "code",
   "execution_count": 31,
   "id": "a37e9b24",
   "metadata": {},
   "outputs": [
    {
     "data": {
      "text/plain": [
       "<tf.Tensor: shape=(4,), dtype=int16, numpy=array([2, 3, 2, 3], dtype=int16)>"
      ]
     },
     "execution_count": 31,
     "metadata": {},
     "output_type": "execute_result"
    }
   ],
   "source": [
    "a[indices_to_not_0_nor_1]"
   ]
  },
  {
   "cell_type": "markdown",
   "id": "ce60e5ac",
   "metadata": {},
   "source": [
    "---\n",
    "# Access Elements\n",
    "\n",
    "See tensorflow/slicing for complex access patterns."
   ]
  },
  {
   "cell_type": "code",
   "execution_count": 7,
   "id": "214e19f9",
   "metadata": {},
   "outputs": [
    {
     "data": {
      "text/plain": [
       "<tf.Tensor: shape=(3, 4), dtype=float64, numpy=\n",
       "array([[0.88954362, 0.47175678, 0.49189263, 0.62867941],\n",
       "       [0.81096226, 0.69750478, 0.59386691, 0.16181152],\n",
       "       [0.69407505, 0.8993122 , 0.99606113, 0.31047165]])>"
      ]
     },
     "execution_count": 7,
     "metadata": {},
     "output_type": "execute_result"
    }
   ],
   "source": [
    "a = tf.constant(np.random.rand(3,4))\n",
    "a"
   ]
  },
  {
   "cell_type": "code",
   "execution_count": 8,
   "id": "0df456fa",
   "metadata": {},
   "outputs": [
    {
     "data": {
      "text/plain": [
       "<tf.Tensor: shape=(), dtype=float64, numpy=0.8895436211768607>"
      ]
     },
     "execution_count": 8,
     "metadata": {},
     "output_type": "execute_result"
    }
   ],
   "source": [
    "a[0][0]"
   ]
  },
  {
   "cell_type": "code",
   "execution_count": 9,
   "id": "e9a5ba3b",
   "metadata": {},
   "outputs": [
    {
     "data": {
      "text/plain": [
       "<tf.Tensor: shape=(), dtype=float64, numpy=0.8895436211768607>"
      ]
     },
     "execution_count": 9,
     "metadata": {},
     "output_type": "execute_result"
    }
   ],
   "source": [
    "a[0, 0]"
   ]
  },
  {
   "cell_type": "code",
   "execution_count": 16,
   "id": "607256c6",
   "metadata": {},
   "outputs": [
    {
     "data": {
      "text/plain": [
       "<tf.Tensor: shape=(2, 4), dtype=float64, numpy=\n",
       "array([[0.88954362, 0.47175678, 0.49189263, 0.62867941],\n",
       "       [0.81096226, 0.69750478, 0.59386691, 0.16181152]])>"
      ]
     },
     "execution_count": 16,
     "metadata": {},
     "output_type": "execute_result"
    }
   ],
   "source": [
    "a[0:2, ...]   # Same with a[0:2]"
   ]
  },
  {
   "cell_type": "code",
   "execution_count": 11,
   "id": "d689367d",
   "metadata": {},
   "outputs": [
    {
     "data": {
      "text/plain": [
       "<tf.Tensor: shape=(3,), dtype=float64, numpy=array([0.88954362, 0.81096226, 0.69407505])>"
      ]
     },
     "execution_count": 11,
     "metadata": {},
     "output_type": "execute_result"
    }
   ],
   "source": [
    "a[..., 0]"
   ]
  },
  {
   "cell_type": "code",
   "execution_count": 37,
   "id": "8cd9bd95",
   "metadata": {},
   "outputs": [
    {
     "data": {
      "text/plain": [
       "TensorShape([4])"
      ]
     },
     "execution_count": 37,
     "metadata": {},
     "output_type": "execute_result"
    }
   ],
   "source": [
    "a = tf.random.normal(shape = (4,3,5), mean=10, stddev=2, dtype=tf.float32, seed=None,  name=None)\n",
    "a[..., 2, 4].shape"
   ]
  }
 ],
 "metadata": {
  "kernelspec": {
   "display_name": "Python 3 (ipykernel)",
   "language": "python",
   "name": "python3"
  },
  "language_info": {
   "codemirror_mode": {
    "name": "ipython",
    "version": 3
   },
   "file_extension": ".py",
   "mimetype": "text/x-python",
   "name": "python",
   "nbconvert_exporter": "python",
   "pygments_lexer": "ipython3",
   "version": "3.9.13"
  }
 },
 "nbformat": 4,
 "nbformat_minor": 5
}
