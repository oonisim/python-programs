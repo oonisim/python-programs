{
 "cells": [
  {
   "cell_type": "code",
   "execution_count": 1,
   "id": "95e4ec56",
   "metadata": {},
   "outputs": [],
   "source": [
    "import numpy as np\n",
    "import tensorflow as tf"
   ]
  },
  {
   "cell_type": "markdown",
   "id": "69c46807",
   "metadata": {},
   "source": [
    "# Extract N rows from (N,R,C) tensor with row indices\n",
    "\n",
    "You have a N batch of ```(R, C)``` matrix e.g. (N=2, R=3, C=4).\n",
    "\n",
    "```\n",
    "[\n",
    "    # N=0\n",
    "    [\n",
    "        [ 0,  1,  2,  3],\n",
    "        [ 4,  5,  6,  7],    # <--- row index 1\n",
    "        [ 8,  9, 10, 11]\n",
    "    ],\n",
    "    # N=1\n",
    "    [\n",
    "        [12, 13, 14, 15],    # <--- row index 0\n",
    "        [16, 17, 18, 19],\n",
    "        [20, 21, 22, 23]\n",
    "    ]\n",
    "]\n",
    "```\n",
    "\n",
    "You want to extract \n",
    "1. row with index=1 from the first batch (N=0)\n",
    "2. row with index=0 from the second batch (N=1)"
   ]
  },
  {
   "cell_type": "markdown",
   "id": "ab0f3be3",
   "metadata": {},
   "source": [
    "# Approach\n",
    "Use **One Hot Encoded** indices to extract the rows with indices.\n",
    "\n",
    "```einsum(\"nrc,nr->nc\", x:shape(N,R,C), OHE=[[0,1,0]]:shape(N,R))``` will extract row index=1 (2nd row)."
   ]
  },
  {
   "cell_type": "code",
   "execution_count": 2,
   "id": "6c0895ec",
   "metadata": {},
   "outputs": [],
   "source": [
    "N = 1\n",
    "R = 3\n",
    "C = 4"
   ]
  },
  {
   "cell_type": "code",
   "execution_count": 3,
   "id": "8992ac8d",
   "metadata": {},
   "outputs": [
    {
     "name": "stdout",
     "output_type": "stream",
     "text": [
      "tf.Tensor(\n",
      "[[[ 0.  1.  2.  3.]\n",
      "  [ 4.  5.  6.  7.]\n",
      "  [ 8.  9. 10. 11.]]], shape=(1, 3, 4), dtype=float32)\n"
     ]
    }
   ],
   "source": [
    "x=tf.constant(np.array([[\n",
    "    [ 0,  1,  2,  3],\n",
    "    [ 4,  5,  6,  7],  # <--- extract row index=1\n",
    "    [ 8,  9, 10, 11]\n",
    "]]), dtype=np.float32)\n",
    "print(x)"
   ]
  },
  {
   "cell_type": "markdown",
   "id": "9fff1ed3",
   "metadata": {},
   "source": [
    "OHE"
   ]
  },
  {
   "cell_type": "code",
   "execution_count": 4,
   "id": "eb2edd8d",
   "metadata": {},
   "outputs": [
    {
     "name": "stdout",
     "output_type": "stream",
     "text": [
      "tf.Tensor([[0. 1. 0.]], shape=(1, 3), dtype=float32)\n"
     ]
    }
   ],
   "source": [
    "indices=tf.one_hot(indices=[1], depth=R)\n",
    "print(indices)"
   ]
  },
  {
   "cell_type": "markdown",
   "id": "3a51f2a0",
   "metadata": {},
   "source": [
    "# Einsum\n",
    "\n",
    "Extract the row with index=1"
   ]
  },
  {
   "cell_type": "code",
   "execution_count": 5,
   "id": "9ceae1b9",
   "metadata": {},
   "outputs": [
    {
     "name": "stdout",
     "output_type": "stream",
     "text": [
      "tf.Tensor([[4. 5. 6. 7.]], shape=(1, 4), dtype=float32)\n"
     ]
    }
   ],
   "source": [
    "print(tf.einsum(\"NRC,NR->NC\", x, indices))"
   ]
  },
  {
   "cell_type": "markdown",
   "id": "19eda195",
   "metadata": {},
   "source": [
    "---\n",
    "# Examples\n",
    "\n",
    "From a tensor of shape ```(N=2,M=2,R=3,C=4)```, extrct rows with indices (0,2,1,0).\n",
    "\n",
    "```\n",
    "[\n",
    "    # N = 0\n",
    "    [\n",
    "        # M = 0\n",
    "        [\n",
    "            [ 0,  1,  2,  3],    # <--- index 0\n",
    "            [ 4,  5,  6,  7],\n",
    "            [ 8,  9, 10, 11]\n",
    "        ],\n",
    "        # M = 1\n",
    "        [\n",
    "            [12, 13, 14, 15],\n",
    "            [16, 17, 18, 19],\n",
    "            [20, 21, 22, 23]     # <--- index 2\n",
    "        ]\n",
    "    ],\n",
    "    # N = 1\n",
    "    [\n",
    "        # M = 0\n",
    "        [\n",
    "            [24, 25, 26, 27],\n",
    "            [28, 29, 30, 31],    # <--- index 1\n",
    "            [32, 33, 34, 35]\n",
    "        ],\n",
    "        # M = 1\n",
    "        [\n",
    "            [36, 37, 38, 39],    # <--- index 0\n",
    "            [40, 41, 42, 43],\n",
    "            [44, 45, 46, 47]\n",
    "        ]\n",
    "    ]\n",
    "]\n",
    "```\n",
    "\n",
    "The result shape will be ```(N=2,M=2,C=4)```."
   ]
  },
  {
   "cell_type": "markdown",
   "id": "486621ca",
   "metadata": {},
   "source": [
    "## X\n",
    "\n",
    "Target ```X:shape(N,M,R,C)``` to extract rows."
   ]
  },
  {
   "cell_type": "code",
   "execution_count": 6,
   "id": "b209feff",
   "metadata": {},
   "outputs": [
    {
     "name": "stdout",
     "output_type": "stream",
     "text": [
      "tf.Tensor(\n",
      "[[[[ 0.  1.  2.  3.]\n",
      "   [ 4.  5.  6.  7.]\n",
      "   [ 8.  9. 10. 11.]]\n",
      "\n",
      "  [[12. 13. 14. 15.]\n",
      "   [16. 17. 18. 19.]\n",
      "   [20. 21. 22. 23.]]]\n",
      "\n",
      "\n",
      " [[[24. 25. 26. 27.]\n",
      "   [28. 29. 30. 31.]\n",
      "   [32. 33. 34. 35.]]\n",
      "\n",
      "  [[36. 37. 38. 39.]\n",
      "   [40. 41. 42. 43.]\n",
      "   [44. 45. 46. 47.]]]], shape=(2, 2, 3, 4), dtype=float32)\n"
     ]
    }
   ],
   "source": [
    "N=2\n",
    "M=2\n",
    "R=3    # Number of rows\n",
    "C=4    # Number of columns in a row=(x, y, h, w)\n",
    "\n",
    "x = tf.constant(\n",
    "    np.arange(N*N*R*C).reshape(N,N,R,C),\n",
    "    dtype=np.float32\n",
    ")\n",
    "print(x)"
   ]
  },
  {
   "cell_type": "markdown",
   "id": "eef9d0f4",
   "metadata": {},
   "source": [
    "### OHE Indices"
   ]
  },
  {
   "cell_type": "code",
   "execution_count": 7,
   "id": "013488b0",
   "metadata": {},
   "outputs": [
    {
     "name": "stdout",
     "output_type": "stream",
     "text": [
      "tf.Tensor(\n",
      "[[1. 0. 0.]\n",
      " [0. 0. 1.]\n",
      " [0. 1. 0.]\n",
      " [1. 0. 0.]], shape=(4, 3), dtype=float32)\n"
     ]
    }
   ],
   "source": [
    "indices=tf.one_hot(indices=(0,2,1,0), depth=3)\n",
    "print(indices)"
   ]
  },
  {
   "cell_type": "markdown",
   "id": "5788b5af",
   "metadata": {},
   "source": [
    "### Einsum to extract"
   ]
  },
  {
   "cell_type": "code",
   "execution_count": 8,
   "id": "6903b4da",
   "metadata": {},
   "outputs": [
    {
     "name": "stdout",
     "output_type": "stream",
     "text": [
      "tf.Tensor(\n",
      "[[ 0.  1.  2.  3.]\n",
      " [20. 21. 22. 23.]\n",
      " [28. 29. 30. 31.]\n",
      " [36. 37. 38. 39.]], shape=(4, 4), dtype=float32)\n"
     ]
    }
   ],
   "source": [
    "print(tf.einsum(\"nrc,nr->nc\", tf.reshape(x,(-1,R,C)), indices))"
   ]
  },
  {
   "cell_type": "markdown",
   "id": "fdbfe5f7",
   "metadata": {},
   "source": [
    "---\n",
    "# Function\n"
   ]
  },
  {
   "cell_type": "code",
   "execution_count": 9,
   "id": "60a6d435",
   "metadata": {},
   "outputs": [],
   "source": [
    "import sys\n",
    "import os\n",
    "import pathlib"
   ]
  },
  {
   "cell_type": "markdown",
   "id": "4c372541",
   "metadata": {},
   "source": [
    "## PYTHONPATH"
   ]
  },
  {
   "cell_type": "code",
   "execution_count": 10,
   "id": "84e8439b",
   "metadata": {},
   "outputs": [],
   "source": [
    "path_to_lib: str = str(pathlib.Path(os.path.join(os.getcwd(), \"../../lib\")).resolve())\n",
    "sys.path.append(path_to_lib)"
   ]
  },
  {
   "cell_type": "code",
   "execution_count": 48,
   "id": "e68edba9",
   "metadata": {},
   "outputs": [
    {
     "name": "stdout",
     "output_type": "stream",
     "text": [
      "The autoreload extension is already loaded. To reload it, use:\n",
      "  %reload_ext autoreload\n"
     ]
    }
   ],
   "source": [
    "%load_ext autoreload\n",
    "%autoreload 2\n",
    "\n",
    "from util_tf.tensor import (\n",
    "    take_rows_by_indices\n",
    ")"
   ]
  },
  {
   "cell_type": "code",
   "execution_count": 49,
   "id": "11ea9c4b",
   "metadata": {},
   "outputs": [
    {
     "name": "stdout",
     "output_type": "stream",
     "text": [
      "tf.Tensor(\n",
      "[[[[ 0.  1.  2.  3.]\n",
      "   [ 4.  5.  6.  7.]\n",
      "   [ 8.  9. 10. 11.]]\n",
      "\n",
      "  [[12. 13. 14. 15.]\n",
      "   [16. 17. 18. 19.]\n",
      "   [20. 21. 22. 23.]]]\n",
      "\n",
      "\n",
      " [[[24. 25. 26. 27.]\n",
      "   [28. 29. 30. 31.]\n",
      "   [32. 33. 34. 35.]]\n",
      "\n",
      "  [[36. 37. 38. 39.]\n",
      "   [40. 41. 42. 43.]\n",
      "   [44. 45. 46. 47.]]]], shape=(2, 2, 3, 4), dtype=float32)\n",
      "[1 1 0 2]\n"
     ]
    }
   ],
   "source": [
    "N = 2\n",
    "M = 3\n",
    "D = 4\n",
    "x = tf.constant(\n",
    "    np.arange(N*N*M*D).reshape(N,N,M,D),\n",
    "    dtype=np.float32\n",
    ")\n",
    "indices=np.random.randint(low=0, high=M, size=N*N)\n",
    "print(x)\n",
    "print(indices)"
   ]
  },
  {
   "cell_type": "code",
   "execution_count": 50,
   "id": "a616737c",
   "metadata": {},
   "outputs": [
    {
     "data": {
      "text/plain": [
       "<tf.Tensor: shape=(4, 4), dtype=float32, numpy=\n",
       "array([[ 4.,  5.,  6.,  7.],\n",
       "       [16., 17., 18., 19.],\n",
       "       [24., 25., 26., 27.],\n",
       "       [44., 45., 46., 47.]], dtype=float32)>"
      ]
     },
     "execution_count": 50,
     "metadata": {},
     "output_type": "execute_result"
    }
   ],
   "source": [
    "take_rows_by_indices(X=x, M=M, D=D, indices=indices)"
   ]
  }
 ],
 "metadata": {
  "kernelspec": {
   "display_name": "Python 3 (ipykernel)",
   "language": "python",
   "name": "python3"
  },
  "language_info": {
   "codemirror_mode": {
    "name": "ipython",
    "version": 3
   },
   "file_extension": ".py",
   "mimetype": "text/x-python",
   "name": "python",
   "nbconvert_exporter": "python",
   "pygments_lexer": "ipython3",
   "version": "3.9.13"
  }
 },
 "nbformat": 4,
 "nbformat_minor": 5
}
