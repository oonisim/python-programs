{
 "cells": [
  {
   "cell_type": "markdown",
   "id": "db48c071",
   "metadata": {},
   "source": [
    "# How to return multiple columns from apply method\n",
    "\n",
    "* [Return multiple columns from pandas apply()](https://stackoverflow.com/questions/23586510/return-multiple-columns-from-pandas-apply)\n",
    "\n",
    "According to the article, ```zip(*df.apply(f, axis=1))``` is the fastest."
   ]
  },
  {
   "cell_type": "code",
   "execution_count": 19,
   "id": "6258daae",
   "metadata": {},
   "outputs": [],
   "source": [
    "from typing import (\n",
    "    Tuple,\n",
    "    Any,\n",
    ")\n",
    "import pandas as pd"
   ]
  },
  {
   "cell_type": "code",
   "execution_count": 2,
   "id": "a9aefb7a",
   "metadata": {},
   "outputs": [
    {
     "data": {
      "text/html": [
       "<div>\n",
       "<style scoped>\n",
       "    .dataframe tbody tr th:only-of-type {\n",
       "        vertical-align: middle;\n",
       "    }\n",
       "\n",
       "    .dataframe tbody tr th {\n",
       "        vertical-align: top;\n",
       "    }\n",
       "\n",
       "    .dataframe thead th {\n",
       "        text-align: right;\n",
       "    }\n",
       "</style>\n",
       "<table border=\"1\" class=\"dataframe\">\n",
       "  <thead>\n",
       "    <tr style=\"text-align: right;\">\n",
       "      <th></th>\n",
       "      <th>species</th>\n",
       "      <th>population</th>\n",
       "    </tr>\n",
       "  </thead>\n",
       "  <tbody>\n",
       "    <tr>\n",
       "      <th>panda</th>\n",
       "      <td>bear</td>\n",
       "      <td>1864</td>\n",
       "    </tr>\n",
       "    <tr>\n",
       "      <th>polar</th>\n",
       "      <td>bear</td>\n",
       "      <td>22000</td>\n",
       "    </tr>\n",
       "    <tr>\n",
       "      <th>koala</th>\n",
       "      <td>marsupial</td>\n",
       "      <td>80000</td>\n",
       "    </tr>\n",
       "  </tbody>\n",
       "</table>\n",
       "</div>"
      ],
      "text/plain": [
       "         species  population\n",
       "panda       bear        1864\n",
       "polar       bear       22000\n",
       "koala  marsupial       80000"
      ]
     },
     "execution_count": 2,
     "metadata": {},
     "output_type": "execute_result"
    }
   ],
   "source": [
    "df = pd.DataFrame(\n",
    "    {\n",
    "        'species': [\n",
    "            'bear', 'bear', 'marsupial'\n",
    "        ],\n",
    "        'population': [\n",
    "            1864, 22000, 80000\n",
    "        ]\n",
    "    },\n",
    "    index=['panda', 'polar', 'koala']\n",
    ")\n",
    "df"
   ]
  },
  {
   "cell_type": "markdown",
   "id": "63f5f71b",
   "metadata": {},
   "source": [
    "# Return columns as tuples\n",
    "\n",
    "Only return values. Each column is a tuple"
   ]
  },
  {
   "cell_type": "code",
   "execution_count": 20,
   "id": "bfc10c5b",
   "metadata": {},
   "outputs": [],
   "source": [
    "def f(row) -> Tuple[Tuple[Any]]:\n",
    "    return row['species'], row['population'] / 10\n",
    "    "
   ]
  },
  {
   "cell_type": "code",
   "execution_count": 21,
   "id": "2b95318d",
   "metadata": {},
   "outputs": [],
   "source": [
    "tuple_species, tuple_populations = zip(*df.apply(f, axis=1))"
   ]
  },
  {
   "cell_type": "markdown",
   "id": "2ebf2404",
   "metadata": {},
   "source": [
    "# Return columns as dataframe"
   ]
  },
  {
   "cell_type": "code",
   "execution_count": 27,
   "id": "1a80734a",
   "metadata": {},
   "outputs": [],
   "source": [
    "def g(row) -> pd.DataFrame:\n",
    "    # Return a series where each row is data whose index is column name\n",
    "    # Somehow pandas convert the pd.Series into pd.DataFrame\n",
    "    return pd.Series(\n",
    "        index = [\n",
    "            'species',\n",
    "            'population',\n",
    "        ],\n",
    "        data = [\n",
    "            row['species'], \n",
    "            row['population'],\n",
    "        ]\n",
    "    )"
   ]
  },
  {
   "cell_type": "code",
   "execution_count": 25,
   "id": "fe836fb6",
   "metadata": {},
   "outputs": [
    {
     "data": {
      "text/html": [
       "<div>\n",
       "<style scoped>\n",
       "    .dataframe tbody tr th:only-of-type {\n",
       "        vertical-align: middle;\n",
       "    }\n",
       "\n",
       "    .dataframe tbody tr th {\n",
       "        vertical-align: top;\n",
       "    }\n",
       "\n",
       "    .dataframe thead th {\n",
       "        text-align: right;\n",
       "    }\n",
       "</style>\n",
       "<table border=\"1\" class=\"dataframe\">\n",
       "  <thead>\n",
       "    <tr style=\"text-align: right;\">\n",
       "      <th></th>\n",
       "      <th>species</th>\n",
       "      <th>population</th>\n",
       "    </tr>\n",
       "  </thead>\n",
       "  <tbody>\n",
       "    <tr>\n",
       "      <th>panda</th>\n",
       "      <td>bear</td>\n",
       "      <td>1864</td>\n",
       "    </tr>\n",
       "    <tr>\n",
       "      <th>polar</th>\n",
       "      <td>bear</td>\n",
       "      <td>22000</td>\n",
       "    </tr>\n",
       "    <tr>\n",
       "      <th>koala</th>\n",
       "      <td>marsupial</td>\n",
       "      <td>80000</td>\n",
       "    </tr>\n",
       "  </tbody>\n",
       "</table>\n",
       "</div>"
      ],
      "text/plain": [
       "         species  population\n",
       "panda       bear        1864\n",
       "polar       bear       22000\n",
       "koala  marsupial       80000"
      ]
     },
     "execution_count": 25,
     "metadata": {},
     "output_type": "execute_result"
    }
   ],
   "source": [
    "result_df = df.apply(g, axis=1)\n",
    "result_df"
   ]
  },
  {
   "cell_type": "code",
   "execution_count": 26,
   "id": "8ae9343a",
   "metadata": {},
   "outputs": [
    {
     "data": {
      "text/plain": [
       "pandas.core.frame.DataFrame"
      ]
     },
     "execution_count": 26,
     "metadata": {},
     "output_type": "execute_result"
    }
   ],
   "source": [
    "type(result_df)"
   ]
  },
  {
   "cell_type": "code",
   "execution_count": null,
   "id": "4b5292f1",
   "metadata": {},
   "outputs": [],
   "source": []
  }
 ],
 "metadata": {
  "kernelspec": {
   "display_name": "Python 3 (ipykernel)",
   "language": "python",
   "name": "python3"
  },
  "language_info": {
   "codemirror_mode": {
    "name": "ipython",
    "version": 3
   },
   "file_extension": ".py",
   "mimetype": "text/x-python",
   "name": "python",
   "nbconvert_exporter": "python",
   "pygments_lexer": "ipython3",
   "version": "3.9.13"
  }
 },
 "nbformat": 4,
 "nbformat_minor": 5
}
