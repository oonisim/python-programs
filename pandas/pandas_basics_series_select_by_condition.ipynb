{
 "cells": [
  {
   "cell_type": "markdown",
   "id": "c9f52532",
   "metadata": {},
   "source": [
    "# Basics - pandas.Series - Select by conditions\n",
    "\n",
    "* [Selection](https://pandas.pydata.org/docs/user_guide/10min.html#selection)\n",
    "\n",
    "```.at, .iat, .loc and .iloc.```"
   ]
  },
  {
   "cell_type": "code",
   "execution_count": 2,
   "id": "e336d3f7",
   "metadata": {},
   "outputs": [],
   "source": [
    "import numpy as np\n",
    "import pandas as pd"
   ]
  },
  {
   "cell_type": "code",
   "execution_count": 10,
   "id": "962c0ed5",
   "metadata": {},
   "outputs": [
    {
     "data": {
      "text/plain": [
       "MSFT    200\n",
       "AMZN    100\n",
       "GOOG     80\n",
       "META      5\n",
       "AAPL    300\n",
       "dtype: int32"
      ]
     },
     "execution_count": 10,
     "metadata": {},
     "output_type": "execute_result"
    }
   ],
   "source": [
    "s = pd.Series({\n",
    "    \"MSFT\": 200,\n",
    "    \"AMZN\": 100,\n",
    "    \"GOOG\": 80,\n",
    "    \"META\": 5,\n",
    "    \"AAPL\": 300\n",
    "}).astype(np.int32)\n",
    "s"
   ]
  },
  {
   "cell_type": "code",
   "execution_count": null,
   "id": "f7fb214e",
   "metadata": {},
   "outputs": [],
   "source": []
  },
  {
   "cell_type": "markdown",
   "id": "14e87433",
   "metadata": {},
   "source": [
    "# Conditional Expression\n",
    "\n",
    "## AND operator"
   ]
  },
  {
   "cell_type": "code",
   "execution_count": 14,
   "id": "bffeed11",
   "metadata": {},
   "outputs": [
    {
     "data": {
      "text/plain": [
       "MSFT    True\n",
       "AMZN    True\n",
       "GOOG    True\n",
       "META    True\n",
       "AAPL    True\n",
       "dtype: bool"
      ]
     },
     "execution_count": 14,
     "metadata": {},
     "output_type": "execute_result"
    }
   ],
   "source": [
    "((80 < s) & (s < 200))"
   ]
  },
  {
   "cell_type": "code",
   "execution_count": 12,
   "id": "4d2c8bae",
   "metadata": {},
   "outputs": [
    {
     "data": {
      "text/plain": [
       "AMZN    100\n",
       "dtype: int32"
      ]
     },
     "execution_count": 12,
     "metadata": {},
     "output_type": "execute_result"
    }
   ],
   "source": [
    "s.loc[((80 < s) & (s < 200))]"
   ]
  },
  {
   "cell_type": "markdown",
   "id": "88ce59aa",
   "metadata": {},
   "source": [
    "## OR operator"
   ]
  },
  {
   "cell_type": "code",
   "execution_count": 16,
   "id": "645c9eec",
   "metadata": {},
   "outputs": [
    {
     "data": {
      "text/plain": [
       "MSFT     True\n",
       "AMZN    False\n",
       "GOOG    False\n",
       "META     True\n",
       "AAPL     True\n",
       "dtype: bool"
      ]
     },
     "execution_count": 16,
     "metadata": {},
     "output_type": "execute_result"
    }
   ],
   "source": [
    "((s < 80) | (100 < s))"
   ]
  },
  {
   "cell_type": "code",
   "execution_count": 18,
   "id": "6f09eaa7",
   "metadata": {},
   "outputs": [
    {
     "data": {
      "text/plain": [
       "MSFT    200\n",
       "META      5\n",
       "AAPL    300\n",
       "dtype: int32"
      ]
     },
     "execution_count": 18,
     "metadata": {},
     "output_type": "execute_result"
    }
   ],
   "source": [
    "s.loc[((s < 80) | (100 < s))]"
   ]
  },
  {
   "cell_type": "code",
   "execution_count": null,
   "id": "9fcf8241",
   "metadata": {},
   "outputs": [],
   "source": []
  }
 ],
 "metadata": {
  "kernelspec": {
   "display_name": "Python 3 (ipykernel)",
   "language": "python",
   "name": "python3"
  },
  "language_info": {
   "codemirror_mode": {
    "name": "ipython",
    "version": 3
   },
   "file_extension": ".py",
   "mimetype": "text/x-python",
   "name": "python",
   "nbconvert_exporter": "python",
   "pygments_lexer": "ipython3",
   "version": "3.9.13"
  }
 },
 "nbformat": 4,
 "nbformat_minor": 5
}
