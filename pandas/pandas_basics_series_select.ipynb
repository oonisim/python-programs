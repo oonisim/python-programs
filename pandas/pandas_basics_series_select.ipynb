{
 "cells": [
  {
   "cell_type": "markdown",
   "id": "3c30efca",
   "metadata": {},
   "source": [
    "# Basics - pandas.Series - Select by index\n",
    "\n",
    "* [Selection](https://pandas.pydata.org/docs/user_guide/10min.html#selection)\n",
    "\n",
    "```.at, .iat, .loc and .iloc.```"
   ]
  },
  {
   "cell_type": "code",
   "execution_count": 2,
   "id": "693e6f8e",
   "metadata": {},
   "outputs": [],
   "source": [
    "import numpy as np\n",
    "import pandas as pd"
   ]
  },
  {
   "cell_type": "markdown",
   "id": "aefce470",
   "metadata": {},
   "source": [
    "# DO NOT use legacy sortcut indexing \n",
    "\n",
    "e.g. ```s[['column_a', 'column_b']]```."
   ]
  },
  {
   "cell_type": "code",
   "execution_count": 3,
   "id": "5a7f4d6d",
   "metadata": {},
   "outputs": [
    {
     "data": {
      "text/plain": [
       "3"
      ]
     },
     "execution_count": 3,
     "metadata": {},
     "output_type": "execute_result"
    }
   ],
   "source": [
    "s_do_not = pd.Series({\n",
    "    9:1,\n",
    "    -1:2,\n",
    "    0:3\n",
    "})\n",
    "\n",
    "# Shortcut indexing is NOT clear if it is selecting by index value or index position.\n",
    "s_do_not[0]   # Selecting with index value -> Use .loc explicitly."
   ]
  },
  {
   "cell_type": "code",
   "execution_count": 4,
   "id": "eaa24eff",
   "metadata": {},
   "outputs": [
    {
     "data": {
      "text/plain": [
       "3"
      ]
     },
     "execution_count": 4,
     "metadata": {},
     "output_type": "execute_result"
    }
   ],
   "source": [
    "s_do_not.loc[0]  # Select by index value"
   ]
  },
  {
   "cell_type": "markdown",
   "id": "289de0e7",
   "metadata": {},
   "source": [
    "---\n",
    "# .loc and .iloc\n",
    "\n",
    "Have clear mental awareness of selecting **Index value** vs **Index location**.\n",
    "\n",
    "* Select by index value -> ```.loc```\n",
    "* Select by index location -> ```.iloc```"
   ]
  },
  {
   "cell_type": "code",
   "execution_count": 5,
   "id": "d5edacd6",
   "metadata": {},
   "outputs": [
    {
     "data": {
      "text/plain": [
       "MSFT    200\n",
       "AMZN    100\n",
       "GOOG     80\n",
       "dtype: int32"
      ]
     },
     "execution_count": 5,
     "metadata": {},
     "output_type": "execute_result"
    }
   ],
   "source": [
    "s = pd.Series({\n",
    "    \"MSFT\": 200,\n",
    "    \"AMZN\": 100,\n",
    "    \"GOOG\": 80\n",
    "}).astype(np.int32)\n",
    "s"
   ]
  },
  {
   "cell_type": "markdown",
   "id": "ae8d8584",
   "metadata": {},
   "source": [
    "## Scalar selection by index value (.loc)"
   ]
  },
  {
   "cell_type": "code",
   "execution_count": 6,
   "id": "5f88311e",
   "metadata": {},
   "outputs": [
    {
     "data": {
      "text/plain": [
       "200"
      ]
     },
     "execution_count": 6,
     "metadata": {},
     "output_type": "execute_result"
    }
   ],
   "source": [
    "s.loc['MSFT']"
   ]
  },
  {
   "cell_type": "markdown",
   "id": "e5def02d",
   "metadata": {},
   "source": [
    "## Scalar select by index location (.iloc)"
   ]
  },
  {
   "cell_type": "code",
   "execution_count": 7,
   "id": "c8c56788",
   "metadata": {},
   "outputs": [
    {
     "data": {
      "text/plain": [
       "200"
      ]
     },
     "execution_count": 7,
     "metadata": {},
     "output_type": "execute_result"
    }
   ],
   "source": [
    "s.iloc[0]"
   ]
  },
  {
   "cell_type": "markdown",
   "id": "270d5de9",
   "metadata": {},
   "source": [
    "## Vectorized Selection by index values (.loc)"
   ]
  },
  {
   "cell_type": "code",
   "execution_count": 9,
   "id": "6fc8fb3d",
   "metadata": {},
   "outputs": [
    {
     "data": {
      "text/plain": [
       "MSFT    200\n",
       "GOOG     80\n",
       "dtype: int32"
      ]
     },
     "execution_count": 9,
     "metadata": {},
     "output_type": "execute_result"
    }
   ],
   "source": [
    "s.loc[[\"MSFT\", \"GOOG\"]]"
   ]
  },
  {
   "cell_type": "markdown",
   "id": "a94f96fd",
   "metadata": {},
   "source": [
    "---"
   ]
  },
  {
   "cell_type": "code",
   "execution_count": null,
   "id": "4b986d3e",
   "metadata": {},
   "outputs": [],
   "source": []
  }
 ],
 "metadata": {
  "kernelspec": {
   "display_name": "Python 3 (ipykernel)",
   "language": "python",
   "name": "python3"
  },
  "language_info": {
   "codemirror_mode": {
    "name": "ipython",
    "version": 3
   },
   "file_extension": ".py",
   "mimetype": "text/x-python",
   "name": "python",
   "nbconvert_exporter": "python",
   "pygments_lexer": "ipython3",
   "version": "3.8.10"
  }
 },
 "nbformat": 4,
 "nbformat_minor": 5
}
