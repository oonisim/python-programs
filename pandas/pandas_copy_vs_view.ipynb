{
 "cells": [
  {
   "cell_type": "markdown",
   "id": "b92c4a51",
   "metadata": {},
   "source": [
    "# Pandas - View or Copy\n",
    "\n",
    "* [Does loc/iloc return a reference or a copy?](https://stackoverflow.com/a/69850730/4281353)\n",
    "\n",
    "> df.loc[] is guaranteed to be df itself with modified indexing behavior, so df.loc.__getitem__ / df.loc.__setitem__ operate on df directly.\n",
    ">The problems and uncertainty (view vs copy) start in cases of chained indexing for which you can read more [here](https://pandas.pydata.org/pandas-docs/stable/user_guide/indexing.html#why-does-assignment-fail-when-using-chained-indexing).\n",
    "\n",
    "## How to verify\n",
    "\n",
    "* [Checking whether data frame is copy or view in Pandas](https://stackoverflow.com/a/26893083/4281353)\n",
    "\n",
    "> ```df.values.base is df2.values.base``` to test or or using the (admittedly internal) ```_is_view``` attribute (df2._is_view is True).\n",
    "\n",
    "## ```.loc``` can be a copy or view \n",
    "\n",
    "* [Does pandas loc generates a copy in itself but it is a view with assignment?](https://stackoverflow.com/questions/70506146/does-pandas-loc-generates-a-copy-in-itself-but-it-is-a-view-with-assignment)\n"
   ]
  },
  {
   "cell_type": "code",
   "execution_count": 57,
   "id": "7ca772ea",
   "metadata": {},
   "outputs": [],
   "source": [
    "import pandas as pd\n",
    "import numpy as np"
   ]
  },
  {
   "cell_type": "markdown",
   "id": "54ec1ada",
   "metadata": {},
   "source": [
    "## View\n",
    "\n",
    "By sharing the reference with ```back = df```, back is a view."
   ]
  },
  {
   "cell_type": "code",
   "execution_count": 65,
   "id": "cdc7c8df",
   "metadata": {},
   "outputs": [
    {
     "name": "stdout",
     "output_type": "stream",
     "text": [
      "True\n",
      "back._is_view is True\n"
     ]
    }
   ],
   "source": [
    "df = pd.DataFrame(np.random.choice(10, (3, 5)), columns=list('ABCDE'))\n",
    "df\n",
    "back = df\n",
    "\n",
    "print(df.values.base is back.values.base)  \n",
    "print(f\"back._is_view is {back._is_view}\") "
   ]
  },
  {
   "cell_type": "markdown",
   "id": "a34dd4d9",
   "metadata": {},
   "source": [
    "In the assignment statement, ```.loc``` generates a view as the change to ```df.loc``` reflects in the ```back```."
   ]
  },
  {
   "cell_type": "code",
   "execution_count": 67,
   "id": "900d93b2",
   "metadata": {},
   "outputs": [
    {
     "name": "stdout",
     "output_type": "stream",
     "text": [
      "df is \n",
      "   A   B  C  D  E\n",
      "0  8  -1  7  1  5\n",
      "1  6  -1  1  7  9\n",
      "2  5  -1  1  6  6\n",
      "\n",
      "back is \n",
      "   A   B  C  D  E\n",
      "0  8  -1  7  1  5\n",
      "1  6  -1  1  7  9\n",
      "2  5  -1  1  6  6\n",
      "\n"
     ]
    }
   ],
   "source": [
    "df.loc[:, ['B']] = '-1'\n",
    "print(f\"df is \\n{df}\\n\")\n",
    "print(f\"back is \\n{back}\\n\")"
   ]
  },
  {
   "cell_type": "markdown",
   "id": "05460826",
   "metadata": {},
   "source": [
    "However, after the assinment, they are not view anymore. How come?"
   ]
  },
  {
   "cell_type": "code",
   "execution_count": 68,
   "id": "995640c7",
   "metadata": {},
   "outputs": [
    {
     "name": "stdout",
     "output_type": "stream",
     "text": [
      "False\n",
      "back._is_view is False\n"
     ]
    }
   ],
   "source": [
    "print(df.values.base is back.values.base)  \n",
    "print(f\"back._is_view is {back._is_view}\") "
   ]
  },
  {
   "cell_type": "markdown",
   "id": "4bf475a5",
   "metadata": {},
   "source": [
    "## .loc generates a view\n",
    "\n",
    "However, it does not has the original base anymore."
   ]
  },
  {
   "cell_type": "code",
   "execution_count": 74,
   "id": "1be2807f",
   "metadata": {},
   "outputs": [
    {
     "name": "stdout",
     "output_type": "stream",
     "text": [
      "False\n",
      "df._is_view is True\n"
     ]
    }
   ],
   "source": [
    "df = pd.DataFrame(np.random.choice(10, (3, 5)), columns=list('ABCDE'))\n",
    "back = df\n",
    "\n",
    "df = df.loc[:, ['B']]\n",
    "print(df.values.base is back.values.base)  \n",
    "print(f\"df._is_view is {df._is_view}\") "
   ]
  },
  {
   "cell_type": "markdown",
   "id": "20977ab4",
   "metadata": {},
   "source": [
    "---\n",
    "## View"
   ]
  },
  {
   "cell_type": "code",
   "execution_count": 80,
   "id": "35eabeee",
   "metadata": {},
   "outputs": [
    {
     "name": "stdout",
     "output_type": "stream",
     "text": [
      "   A  B  C  D  E\n",
      "0  2  7  2  3  8\n",
      "1  8  6  5  7  8\n",
      "2  5  7  6  2  5\n",
      "True\n"
     ]
    }
   ],
   "source": [
    "df_for_copy = pd.DataFrame(np.random.choice(10, (3, 5)), columns=list('ABCDE'))\n",
    "back_for_copy = df_for_copy\n",
    "print(back_for_copy)\n",
    "\n",
    "print(df_for_copy.values.base is back_for_copy.values.base)"
   ]
  },
  {
   "cell_type": "markdown",
   "id": "d4175ea1",
   "metadata": {},
   "source": [
    "# Copy\n",
    "\n",
    "What opeartion creates a copy?"
   ]
  },
  {
   "cell_type": "code",
   "execution_count": null,
   "id": "8c19cb53",
   "metadata": {},
   "outputs": [],
   "source": []
  }
 ],
 "metadata": {
  "kernelspec": {
   "display_name": "Python 3 (ipykernel)",
   "language": "python",
   "name": "python3"
  },
  "language_info": {
   "codemirror_mode": {
    "name": "ipython",
    "version": 3
   },
   "file_extension": ".py",
   "mimetype": "text/x-python",
   "name": "python",
   "nbconvert_exporter": "python",
   "pygments_lexer": "ipython3",
   "version": "3.8.10"
  }
 },
 "nbformat": 4,
 "nbformat_minor": 5
}
