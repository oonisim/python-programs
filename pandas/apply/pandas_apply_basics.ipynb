{
 "cells": [
  {
   "cell_type": "markdown",
   "id": "e75430ff-89f5-4045-a01c-0a5877480df5",
   "metadata": {},
   "source": [
    "# How Pandas apply works\n"
   ]
  },
  {
   "cell_type": "code",
   "execution_count": 1,
   "id": "457e94f6-e9d1-4104-9806-bfd02af6a964",
   "metadata": {},
   "outputs": [],
   "source": [
    "import json\n",
    "import numpy as np\n",
    "import pandas as pd"
   ]
  },
  {
   "cell_type": "markdown",
   "id": "3fe116c3-be69-4f84-b5df-c9dcd43e5c49",
   "metadata": {},
   "source": [
    "# pd.DataFrame.apply(arg: pd.Series)\n",
    "\n",
    "The argument passed to the ```apply``` function is **Pandas [Series](https://pandas.pydata.org/docs/reference/api/pandas.Series.html)** (MUST Understand this).\n",
    "\n",
    "* [pandas.DataFrame.apply](https://pandas.pydata.org/pandas-docs/stable/reference/api/pandas.DataFrame.apply.html)\n",
    "\n",
    "> Objects passed to the function are Series objects whose index is either the DataFrame’s index (axis=0) or the DataFrame’s columns (axis=1)\n",
    "\n",
    "* [pandas.Series.loc](https://pandas.pydata.org/docs/reference/api/pandas.Series.loc.html#)\n",
    "\n",
    "> ```.loc[]``` is primarily label based, but may also be used with a boolean array.\n",
    "> * A single label, e.g. 5 or 'a', (note that 5 is interpreted as a label of the index, and never as an integer position along the index).\n",
    "> * A list or array of labels, e.g. ['a', 'b', 'c'].\n",
    "> * A slice object with labels, e.g. 'a':'f'.\n"
   ]
  },
  {
   "cell_type": "markdown",
   "id": "b9081917-f6ed-4e50-94ea-d7e8b7e38f4f",
   "metadata": {},
   "source": [
    "# Argument of ```apply```\n",
    "\n",
    "## axis=1\n",
    "\n",
    "With ```axis=1```, each row in the DataFrame is passed as a Series whose index is column labels."
   ]
  },
  {
   "cell_type": "code",
   "execution_count": 2,
   "id": "8a6b27e8-8abb-461c-97a4-75b2bdeacb73",
   "metadata": {},
   "outputs": [
    {
     "name": "stdout",
     "output_type": "stream",
     "text": [
      "Index(['a', 'b', 'c'], dtype='object')\n",
      "a    1\n",
      "b    2\n",
      "c    3\n",
      "dtype: int64\n"
     ]
    }
   ],
   "source": [
    "d = {'a': 1, 'b': 2, 'c': 3}\n",
    "series = pd.Series(data=d, index=['a', 'b', 'c'])\n",
    "print(f\"{series.index}\\n{series}\")"
   ]
  },
  {
   "cell_type": "markdown",
   "id": "f2d9fb35-c6e2-4978-8a07-bc2a5a6462f5",
   "metadata": {},
   "source": [
    "### Example\n",
    "\n",
    "```apply``` gets each row in ```df``` as a series whose index is ```\"col1\", \"col2\", \"col3\"```."
   ]
  },
  {
   "cell_type": "code",
   "execution_count": 3,
   "id": "c065039d-28e2-46ca-ad6e-5247912d7c98",
   "metadata": {},
   "outputs": [
    {
     "data": {
      "text/html": [
       "<div>\n",
       "<style scoped>\n",
       "    .dataframe tbody tr th:only-of-type {\n",
       "        vertical-align: middle;\n",
       "    }\n",
       "\n",
       "    .dataframe tbody tr th {\n",
       "        vertical-align: top;\n",
       "    }\n",
       "\n",
       "    .dataframe thead th {\n",
       "        text-align: right;\n",
       "    }\n",
       "</style>\n",
       "<table border=\"1\" class=\"dataframe\">\n",
       "  <thead>\n",
       "    <tr style=\"text-align: right;\">\n",
       "      <th></th>\n",
       "      <th>col1</th>\n",
       "      <th>col2</th>\n",
       "      <th>col3</th>\n",
       "    </tr>\n",
       "  </thead>\n",
       "  <tbody>\n",
       "    <tr>\n",
       "      <th>0</th>\n",
       "      <td>0</td>\n",
       "      <td>1</td>\n",
       "      <td>2</td>\n",
       "    </tr>\n",
       "    <tr>\n",
       "      <th>1</th>\n",
       "      <td>3</td>\n",
       "      <td>4</td>\n",
       "      <td>5</td>\n",
       "    </tr>\n",
       "    <tr>\n",
       "      <th>2</th>\n",
       "      <td>6</td>\n",
       "      <td>7</td>\n",
       "      <td>8</td>\n",
       "    </tr>\n",
       "    <tr>\n",
       "      <th>3</th>\n",
       "      <td>9</td>\n",
       "      <td>10</td>\n",
       "      <td>11</td>\n",
       "    </tr>\n",
       "  </tbody>\n",
       "</table>\n",
       "</div>"
      ],
      "text/plain": [
       "   col1  col2  col3\n",
       "0     0     1     2\n",
       "1     3     4     5\n",
       "2     6     7     8\n",
       "3     9    10    11"
      ]
     },
     "execution_count": 3,
     "metadata": {},
     "output_type": "execute_result"
    }
   ],
   "source": [
    "x = np.arange(12).reshape((4, 3))\n",
    "df = pd.DataFrame.from_records(x, columns=(\"col1\", \"col2\", \"col3\"))\n",
    "df"
   ]
  },
  {
   "cell_type": "code",
   "execution_count": 4,
   "id": "56c443e6-6532-4869-96aa-fa7fe74ec87d",
   "metadata": {},
   "outputs": [],
   "source": [
    "def func(arg: pd.Series):\n",
    "    print(f\"arg/row is a series whose indices is {arg.index}\")\n",
    "    print(f\"arg is \\n{arg}\\n\")\n",
    "\n",
    "    return arg"
   ]
  },
  {
   "cell_type": "code",
   "execution_count": 5,
   "id": "2fdff402-e37a-41ca-ab84-d45eec3340d3",
   "metadata": {},
   "outputs": [
    {
     "name": "stdout",
     "output_type": "stream",
     "text": [
      "arg/row is a series whose indices is Index(['col1', 'col2', 'col3'], dtype='object')\n",
      "arg is \n",
      "col1    0\n",
      "col2    1\n",
      "col3    2\n",
      "Name: 0, dtype: int64\n",
      "\n",
      "arg/row is a series whose indices is Index(['col1', 'col2', 'col3'], dtype='object')\n",
      "arg is \n",
      "col1    3\n",
      "col2    4\n",
      "col3    5\n",
      "Name: 1, dtype: int64\n",
      "\n",
      "arg/row is a series whose indices is Index(['col1', 'col2', 'col3'], dtype='object')\n",
      "arg is \n",
      "col1    6\n",
      "col2    7\n",
      "col3    8\n",
      "Name: 2, dtype: int64\n",
      "\n",
      "arg/row is a series whose indices is Index(['col1', 'col2', 'col3'], dtype='object')\n",
      "arg is \n",
      "col1     9\n",
      "col2    10\n",
      "col3    11\n",
      "Name: 3, dtype: int64\n",
      "\n"
     ]
    },
    {
     "data": {
      "text/html": [
       "<div>\n",
       "<style scoped>\n",
       "    .dataframe tbody tr th:only-of-type {\n",
       "        vertical-align: middle;\n",
       "    }\n",
       "\n",
       "    .dataframe tbody tr th {\n",
       "        vertical-align: top;\n",
       "    }\n",
       "\n",
       "    .dataframe thead th {\n",
       "        text-align: right;\n",
       "    }\n",
       "</style>\n",
       "<table border=\"1\" class=\"dataframe\">\n",
       "  <thead>\n",
       "    <tr style=\"text-align: right;\">\n",
       "      <th></th>\n",
       "      <th>col1</th>\n",
       "      <th>col2</th>\n",
       "      <th>col3</th>\n",
       "    </tr>\n",
       "  </thead>\n",
       "  <tbody>\n",
       "    <tr>\n",
       "      <th>0</th>\n",
       "      <td>0</td>\n",
       "      <td>1</td>\n",
       "      <td>2</td>\n",
       "    </tr>\n",
       "    <tr>\n",
       "      <th>1</th>\n",
       "      <td>3</td>\n",
       "      <td>4</td>\n",
       "      <td>5</td>\n",
       "    </tr>\n",
       "    <tr>\n",
       "      <th>2</th>\n",
       "      <td>6</td>\n",
       "      <td>7</td>\n",
       "      <td>8</td>\n",
       "    </tr>\n",
       "    <tr>\n",
       "      <th>3</th>\n",
       "      <td>9</td>\n",
       "      <td>10</td>\n",
       "      <td>11</td>\n",
       "    </tr>\n",
       "  </tbody>\n",
       "</table>\n",
       "</div>"
      ],
      "text/plain": [
       "   col1  col2  col3\n",
       "0     0     1     2\n",
       "1     3     4     5\n",
       "2     6     7     8\n",
       "3     9    10    11"
      ]
     },
     "execution_count": 5,
     "metadata": {},
     "output_type": "execute_result"
    }
   ],
   "source": [
    "df.apply(func=func, axis=1, result_type=\"expand\")"
   ]
  },
  {
   "cell_type": "markdown",
   "id": "d5135253-3dd7-42ea-a414-2eff340b1a2d",
   "metadata": {},
   "source": [
    "# Return value of ```apply```\n",
    "\n",
    "* [pandas.DataFrame.apply](https://pandas.pydata.org/pandas-docs/stable/reference/api/pandas.DataFrame.apply.html)\n",
    "\n",
    "> result_type{‘expand’, ‘reduce’, ‘broadcast’, None}, default None  \n",
    "> These only act **when axis=1 (columns)**:\n",
    "> * ‘expand’ : list-like results will be turned into columns.\n",
    "> * ‘reduce’ : returns a Series if possible rather than expanding list-like results. This is the opposite of ‘expand’.\n",
    "> * ‘broadcast’ : results will be broadcast to the original shape of the DataFrame, the original index and columns will be retained.\n",
    "> \n",
    "> The default behaviour (None) depends on the return value of the applied function: list-like results will be returned as a Series of those. However **if the apply function returns a Series these are expanded to columns**.\n",
    "\n",
    "## axis=1\n",
    "\n",
    "Need to return a **[Series](https://pandas.pydata.org/docs/reference/api/pandas.Series.html) or dictionary** to have column names in the result.\n"
   ]
  },
  {
   "cell_type": "markdown",
   "id": "65b7c06a-f0f6-411d-9b10-2e54eb43fae5",
   "metadata": {},
   "source": [
    "### Return series"
   ]
  },
  {
   "cell_type": "code",
   "execution_count": 6,
   "id": "9f80fb0d-3f50-4a31-8e61-579b4c964b3e",
   "metadata": {},
   "outputs": [],
   "source": [
    "def func(arg: pd.Series):\n",
    "    print(f\"arg/row is a series whose indices is {arg.index}\")\n",
    "    columns = [\"col1\", \"col3\"]\n",
    "    values = arg.loc[columns]\n",
    "    print(f\"return arg{columns} as series:\\n{values} \\nas type:{type(values)}\\n\") \n",
    "    return values"
   ]
  },
  {
   "cell_type": "code",
   "execution_count": 7,
   "id": "9992ca47-1660-4f22-8a62-e9114082dd18",
   "metadata": {},
   "outputs": [
    {
     "name": "stdout",
     "output_type": "stream",
     "text": [
      "arg/row is a series whose indices is Index(['col1', 'col2', 'col3'], dtype='object')\n",
      "return arg['col1', 'col3'] as series:\n",
      "col1    0\n",
      "col3    2\n",
      "Name: 0, dtype: int64 \n",
      "as type:<class 'pandas.core.series.Series'>\n",
      "\n",
      "arg/row is a series whose indices is Index(['col1', 'col2', 'col3'], dtype='object')\n",
      "return arg['col1', 'col3'] as series:\n",
      "col1    3\n",
      "col3    5\n",
      "Name: 1, dtype: int64 \n",
      "as type:<class 'pandas.core.series.Series'>\n",
      "\n",
      "arg/row is a series whose indices is Index(['col1', 'col2', 'col3'], dtype='object')\n",
      "return arg['col1', 'col3'] as series:\n",
      "col1    6\n",
      "col3    8\n",
      "Name: 2, dtype: int64 \n",
      "as type:<class 'pandas.core.series.Series'>\n",
      "\n",
      "arg/row is a series whose indices is Index(['col1', 'col2', 'col3'], dtype='object')\n",
      "return arg['col1', 'col3'] as series:\n",
      "col1     9\n",
      "col3    11\n",
      "Name: 3, dtype: int64 \n",
      "as type:<class 'pandas.core.series.Series'>\n",
      "\n"
     ]
    },
    {
     "data": {
      "text/html": [
       "<div>\n",
       "<style scoped>\n",
       "    .dataframe tbody tr th:only-of-type {\n",
       "        vertical-align: middle;\n",
       "    }\n",
       "\n",
       "    .dataframe tbody tr th {\n",
       "        vertical-align: top;\n",
       "    }\n",
       "\n",
       "    .dataframe thead th {\n",
       "        text-align: right;\n",
       "    }\n",
       "</style>\n",
       "<table border=\"1\" class=\"dataframe\">\n",
       "  <thead>\n",
       "    <tr style=\"text-align: right;\">\n",
       "      <th></th>\n",
       "      <th>col1</th>\n",
       "      <th>col3</th>\n",
       "    </tr>\n",
       "  </thead>\n",
       "  <tbody>\n",
       "    <tr>\n",
       "      <th>0</th>\n",
       "      <td>0</td>\n",
       "      <td>2</td>\n",
       "    </tr>\n",
       "    <tr>\n",
       "      <th>1</th>\n",
       "      <td>3</td>\n",
       "      <td>5</td>\n",
       "    </tr>\n",
       "    <tr>\n",
       "      <th>2</th>\n",
       "      <td>6</td>\n",
       "      <td>8</td>\n",
       "    </tr>\n",
       "    <tr>\n",
       "      <th>3</th>\n",
       "      <td>9</td>\n",
       "      <td>11</td>\n",
       "    </tr>\n",
       "  </tbody>\n",
       "</table>\n",
       "</div>"
      ],
      "text/plain": [
       "   col1  col3\n",
       "0     0     2\n",
       "1     3     5\n",
       "2     6     8\n",
       "3     9    11"
      ]
     },
     "execution_count": 7,
     "metadata": {},
     "output_type": "execute_result"
    }
   ],
   "source": [
    "df.apply(func=func, axis=1, result_type=\"expand\")"
   ]
  },
  {
   "cell_type": "markdown",
   "id": "2fc8de89-b218-41be-92cb-491c2a50ebfd",
   "metadata": {},
   "source": [
    "### Return a dictionary"
   ]
  },
  {
   "cell_type": "code",
   "execution_count": 8,
   "id": "6d58ee61-b9df-448f-b4ed-55139992df5a",
   "metadata": {},
   "outputs": [],
   "source": [
    "def func(arg: pd.Series):\n",
    "    dictionary = {\n",
    "        \"column_03\": arg.loc[\"col3\"],\n",
    "        \"column_01\": arg.loc[\"col1\"]\n",
    "    }\n",
    "    print(f\"return dictionary:{json.dumps(dictionary, indent=4, default=str)}\\n\") \n",
    "    return dictionary"
   ]
  },
  {
   "cell_type": "code",
   "execution_count": 9,
   "id": "bfe6ffae-60e3-4ac0-a523-f7ab5fb2c144",
   "metadata": {},
   "outputs": [
    {
     "name": "stdout",
     "output_type": "stream",
     "text": [
      "return dictionary:{\n",
      "    \"column_03\": \"2\",\n",
      "    \"column_01\": \"0\"\n",
      "}\n",
      "\n",
      "return dictionary:{\n",
      "    \"column_03\": \"5\",\n",
      "    \"column_01\": \"3\"\n",
      "}\n",
      "\n",
      "return dictionary:{\n",
      "    \"column_03\": \"8\",\n",
      "    \"column_01\": \"6\"\n",
      "}\n",
      "\n",
      "return dictionary:{\n",
      "    \"column_03\": \"11\",\n",
      "    \"column_01\": \"9\"\n",
      "}\n",
      "\n"
     ]
    },
    {
     "data": {
      "text/html": [
       "<div>\n",
       "<style scoped>\n",
       "    .dataframe tbody tr th:only-of-type {\n",
       "        vertical-align: middle;\n",
       "    }\n",
       "\n",
       "    .dataframe tbody tr th {\n",
       "        vertical-align: top;\n",
       "    }\n",
       "\n",
       "    .dataframe thead th {\n",
       "        text-align: right;\n",
       "    }\n",
       "</style>\n",
       "<table border=\"1\" class=\"dataframe\">\n",
       "  <thead>\n",
       "    <tr style=\"text-align: right;\">\n",
       "      <th></th>\n",
       "      <th>column_03</th>\n",
       "      <th>column_01</th>\n",
       "    </tr>\n",
       "  </thead>\n",
       "  <tbody>\n",
       "    <tr>\n",
       "      <th>0</th>\n",
       "      <td>2</td>\n",
       "      <td>0</td>\n",
       "    </tr>\n",
       "    <tr>\n",
       "      <th>1</th>\n",
       "      <td>5</td>\n",
       "      <td>3</td>\n",
       "    </tr>\n",
       "    <tr>\n",
       "      <th>2</th>\n",
       "      <td>8</td>\n",
       "      <td>6</td>\n",
       "    </tr>\n",
       "    <tr>\n",
       "      <th>3</th>\n",
       "      <td>11</td>\n",
       "      <td>9</td>\n",
       "    </tr>\n",
       "  </tbody>\n",
       "</table>\n",
       "</div>"
      ],
      "text/plain": [
       "   column_03  column_01\n",
       "0          2          0\n",
       "1          5          3\n",
       "2          8          6\n",
       "3         11          9"
      ]
     },
     "execution_count": 9,
     "metadata": {},
     "output_type": "execute_result"
    }
   ],
   "source": [
    "df.apply(func=func, axis=1, result_type=\"expand\")"
   ]
  },
  {
   "cell_type": "code",
   "execution_count": null,
   "id": "aa5def9f-b35a-49ea-8ee4-4bdcea7f7d12",
   "metadata": {},
   "outputs": [],
   "source": []
  }
 ],
 "metadata": {
  "kernelspec": {
   "display_name": "Python 3 (ipykernel)",
   "language": "python",
   "name": "python3"
  },
  "language_info": {
   "codemirror_mode": {
    "name": "ipython",
    "version": 3
   },
   "file_extension": ".py",
   "mimetype": "text/x-python",
   "name": "python",
   "nbconvert_exporter": "python",
   "pygments_lexer": "ipython3",
   "version": "3.10.10"
  }
 },
 "nbformat": 4,
 "nbformat_minor": 5
}
