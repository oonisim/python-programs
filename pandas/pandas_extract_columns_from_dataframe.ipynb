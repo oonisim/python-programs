{
 "cells": [
  {
   "cell_type": "code",
   "execution_count": 1,
   "id": "c469b572",
   "metadata": {},
   "outputs": [],
   "source": [
    "import numpy as np\n",
    "import pandas as pd"
   ]
  },
  {
   "cell_type": "code",
   "execution_count": 19,
   "id": "3faa2c72",
   "metadata": {},
   "outputs": [
    {
     "data": {
      "text/html": [
       "<div>\n",
       "<style scoped>\n",
       "    .dataframe tbody tr th:only-of-type {\n",
       "        vertical-align: middle;\n",
       "    }\n",
       "\n",
       "    .dataframe tbody tr th {\n",
       "        vertical-align: top;\n",
       "    }\n",
       "\n",
       "    .dataframe thead th {\n",
       "        text-align: right;\n",
       "    }\n",
       "</style>\n",
       "<table border=\"1\" class=\"dataframe\">\n",
       "  <thead>\n",
       "    <tr style=\"text-align: right;\">\n",
       "      <th></th>\n",
       "      <th>0</th>\n",
       "      <th>1</th>\n",
       "      <th>2</th>\n",
       "    </tr>\n",
       "  </thead>\n",
       "  <tbody>\n",
       "    <tr>\n",
       "      <th>0</th>\n",
       "      <td>1.0</td>\n",
       "      <td>NaN</td>\n",
       "      <td>3.0</td>\n",
       "    </tr>\n",
       "    <tr>\n",
       "      <th>1</th>\n",
       "      <td>4.0</td>\n",
       "      <td>5.0</td>\n",
       "      <td>NaN</td>\n",
       "    </tr>\n",
       "    <tr>\n",
       "      <th>2</th>\n",
       "      <td>6.0</td>\n",
       "      <td>NaN</td>\n",
       "      <td>8.0</td>\n",
       "    </tr>\n",
       "  </tbody>\n",
       "</table>\n",
       "</div>"
      ],
      "text/plain": [
       "     0    1    2\n",
       "0  1.0  NaN  3.0\n",
       "1  4.0  5.0  NaN\n",
       "2  6.0  NaN  8.0"
      ]
     },
     "execution_count": 19,
     "metadata": {},
     "output_type": "execute_result"
    }
   ],
   "source": [
    "df = pd.DataFrame(np.array([\n",
    "    [1, np.nan, 3], \n",
    "    [4, 5, np.nan],\n",
    "    [6, np.nan, 8],\n",
    "]))\n",
    "df"
   ]
  },
  {
   "cell_type": "markdown",
   "id": "7d82234d",
   "metadata": {},
   "source": [
    "# Use column name"
   ]
  },
  {
   "cell_type": "code",
   "execution_count": 24,
   "id": "ccdf0039",
   "metadata": {},
   "outputs": [],
   "source": [
    "column_0, column_1, *_ = [df[column_name] for column_name in df]"
   ]
  },
  {
   "cell_type": "code",
   "execution_count": 25,
   "id": "b00545ed",
   "metadata": {},
   "outputs": [
    {
     "data": {
      "text/plain": [
       "0    1.0\n",
       "1    4.0\n",
       "2    6.0\n",
       "Name: 0, dtype: float64"
      ]
     },
     "execution_count": 25,
     "metadata": {},
     "output_type": "execute_result"
    }
   ],
   "source": [
    "column_0"
   ]
  },
  {
   "cell_type": "code",
   "execution_count": 26,
   "id": "4ccd983a",
   "metadata": {},
   "outputs": [
    {
     "data": {
      "text/plain": [
       "0    NaN\n",
       "1    5.0\n",
       "2    NaN\n",
       "Name: 1, dtype: float64"
      ]
     },
     "execution_count": 26,
     "metadata": {},
     "output_type": "execute_result"
    }
   ],
   "source": [
    "column_1"
   ]
  },
  {
   "cell_type": "code",
   "execution_count": 27,
   "id": "97c4521d",
   "metadata": {},
   "outputs": [
    {
     "data": {
      "text/plain": [
       "pandas.core.series.Series"
      ]
     },
     "execution_count": 27,
     "metadata": {},
     "output_type": "execute_result"
    }
   ],
   "source": [
    "type(column_0)"
   ]
  },
  {
   "cell_type": "markdown",
   "id": "d766935b",
   "metadata": {},
   "source": [
    "# Use items() method\n",
    "\n",
    "* [items()](https://pandas.pydata.org/docs/reference/api/pandas.DataFrame.items.html)\n",
    "\n",
    "> **Iterates over columns**, returning a tuple with **the column name and the content** as a Series."
   ]
  },
  {
   "cell_type": "code",
   "execution_count": 35,
   "id": "eab8ab29",
   "metadata": {},
   "outputs": [],
   "source": [
    "column_0, column_1, *_ = [series for column_name, series in df.items()]"
   ]
  },
  {
   "cell_type": "code",
   "execution_count": 36,
   "id": "94ce09d7",
   "metadata": {},
   "outputs": [
    {
     "data": {
      "text/plain": [
       "0    1.0\n",
       "1    4.0\n",
       "2    6.0\n",
       "Name: 0, dtype: float64"
      ]
     },
     "execution_count": 36,
     "metadata": {},
     "output_type": "execute_result"
    }
   ],
   "source": [
    "column_0"
   ]
  },
  {
   "cell_type": "code",
   "execution_count": 37,
   "id": "bf433bd9",
   "metadata": {},
   "outputs": [
    {
     "data": {
      "text/plain": [
       "0    NaN\n",
       "1    5.0\n",
       "2    NaN\n",
       "Name: 1, dtype: float64"
      ]
     },
     "execution_count": 37,
     "metadata": {},
     "output_type": "execute_result"
    }
   ],
   "source": [
    "column_1"
   ]
  },
  {
   "cell_type": "code",
   "execution_count": 38,
   "id": "8f399a4a",
   "metadata": {},
   "outputs": [
    {
     "data": {
      "text/plain": [
       "pandas.core.series.Series"
      ]
     },
     "execution_count": 38,
     "metadata": {},
     "output_type": "execute_result"
    }
   ],
   "source": [
    "type(column_0)"
   ]
  },
  {
   "cell_type": "code",
   "execution_count": null,
   "id": "c1e51613",
   "metadata": {},
   "outputs": [],
   "source": [
    "# Extract (column_name, content)"
   ]
  },
  {
   "cell_type": "code",
   "execution_count": 45,
   "id": "487d8fcc",
   "metadata": {},
   "outputs": [],
   "source": [
    "df = pd.DataFrame({'species': ['bear', 'bear', 'marsupial'],\n",
    "                  'population': [1864, 22000, 80000]},\n",
    "                  index=['panda', 'polar', 'koala'])\n",
    "tuple_0, tuple_1, *_ = [column_content_tuple for column_content_tuple in df.items()]"
   ]
  },
  {
   "cell_type": "code",
   "execution_count": 47,
   "id": "974c6537",
   "metadata": {},
   "outputs": [
    {
     "data": {
      "text/plain": [
       "2"
      ]
     },
     "execution_count": 47,
     "metadata": {},
     "output_type": "execute_result"
    }
   ],
   "source": [
    "len(tuple_0)"
   ]
  },
  {
   "cell_type": "code",
   "execution_count": 48,
   "id": "513b12d5",
   "metadata": {},
   "outputs": [
    {
     "data": {
      "text/plain": [
       "'species'"
      ]
     },
     "execution_count": 48,
     "metadata": {},
     "output_type": "execute_result"
    }
   ],
   "source": [
    "tuple_0[0]  # column name"
   ]
  },
  {
   "cell_type": "code",
   "execution_count": 49,
   "id": "2f0cebcf",
   "metadata": {},
   "outputs": [
    {
     "data": {
      "text/plain": [
       "panda         bear\n",
       "polar         bear\n",
       "koala    marsupial\n",
       "Name: species, dtype: object"
      ]
     },
     "execution_count": 49,
     "metadata": {},
     "output_type": "execute_result"
    }
   ],
   "source": [
    "tuple_0[1]  # content (series)"
   ]
  },
  {
   "cell_type": "code",
   "execution_count": 50,
   "id": "4fb9833e",
   "metadata": {},
   "outputs": [
    {
     "data": {
      "text/plain": [
       "pandas.core.series.Series"
      ]
     },
     "execution_count": 50,
     "metadata": {},
     "output_type": "execute_result"
    }
   ],
   "source": [
    "type(tuple_0[1] )"
   ]
  }
 ],
 "metadata": {
  "kernelspec": {
   "display_name": "Python 3 (ipykernel)",
   "language": "python",
   "name": "python3"
  },
  "language_info": {
   "codemirror_mode": {
    "name": "ipython",
    "version": 3
   },
   "file_extension": ".py",
   "mimetype": "text/x-python",
   "name": "python",
   "nbconvert_exporter": "python",
   "pygments_lexer": "ipython3",
   "version": "3.9.13"
  }
 },
 "nbformat": 4,
 "nbformat_minor": 5
}
