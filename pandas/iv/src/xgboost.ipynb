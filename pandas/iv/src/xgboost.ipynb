{
 "cells": [
  {
   "cell_type": "markdown",
   "id": "b3e32124",
   "metadata": {},
   "source": [
    "# XGBoost training/predict/evaluate"
   ]
  },
  {
   "cell_type": "code",
   "execution_count": null,
   "id": "e5ab0aed",
   "metadata": {},
   "outputs": [],
   "source": []
  },
  {
   "cell_type": "markdown",
   "id": "b9401a9b",
   "metadata": {},
   "source": [
    "---\n",
    "# Setup"
   ]
  },
  {
   "cell_type": "markdown",
   "id": "9b33561c",
   "metadata": {},
   "source": [
    "## Ingestion"
   ]
  },
  {
   "cell_type": "code",
   "execution_count": 1,
   "id": "e1966170",
   "metadata": {},
   "outputs": [
    {
     "name": "stdout",
     "output_type": "stream",
     "text": [
      "<class 'pandas.core.frame.DataFrame'>\n",
      "RangeIndex: 810 entries, 0 to 809\n",
      "Data columns (total 9 columns):\n",
      " #   Column        Non-Null Count  Dtype  \n",
      "---  ------        --------------  -----  \n",
      " 0   facility      810 non-null    object \n",
      " 1   date          481 non-null    object \n",
      " 2   timeStart     810 non-null    object \n",
      " 3   timeEnd       481 non-null    object \n",
      " 4   supplierCode  481 non-null    object \n",
      " 5   suppliedM3    810 non-null    float64\n",
      " 6   recoveredM3   810 non-null    float64\n",
      " 7   processTime   329 non-null    object \n",
      " 8   supplier      329 non-null    object \n",
      "dtypes: float64(2), object(7)\n",
      "memory usage: 57.1+ KB\n",
      "<class 'pandas.core.frame.DataFrame'>\n",
      "RangeIndex: 810 entries, 0 to 809\n",
      "Data columns (total 15 columns):\n",
      " #   Column            Non-Null Count  Dtype         \n",
      "---  ------            --------------  -----         \n",
      " 0   facility_code     810 non-null    int64         \n",
      " 1   supplier_code     810 non-null    int64         \n",
      " 2   start_date_time   810 non-null    datetime64[ns]\n",
      " 3   start_hour        810 non-null    int64         \n",
      " 4   start_time_sin_x  810 non-null    float32       \n",
      " 5   start_time_cos_y  810 non-null    float32       \n",
      " 6   dayofweek         810 non-null    int64         \n",
      " 7   dayofweek_sin_x   810 non-null    float64       \n",
      " 8   dayofweek_cos_y   810 non-null    float64       \n",
      " 9   is_holiday        810 non-null    uint8         \n",
      " 10  process_time      810 non-null    float32       \n",
      " 11  input             810 non-null    float32       \n",
      " 12  output            810 non-null    float32       \n",
      " 13  throughput        810 non-null    float32       \n",
      " 14  recovery_rate     810 non-null    float32       \n",
      "dtypes: datetime64[ns](1), float32(7), float64(2), int64(4), uint8(1)\n",
      "memory usage: 67.4 KB\n"
     ]
    }
   ],
   "source": [
    "%run ingestion.ipynb"
   ]
  },
  {
   "cell_type": "markdown",
   "id": "8a43a6e7",
   "metadata": {},
   "source": [
    "## PYTHONPATH"
   ]
  },
  {
   "cell_type": "code",
   "execution_count": 2,
   "id": "da0ddf90",
   "metadata": {},
   "outputs": [],
   "source": [
    "if f\"{os.getcwd()}/../../../lib\" not in sys.path:\n",
    "    sys.path.append(f\"{os.getcwd()}/../../../lib\") "
   ]
  },
  {
   "cell_type": "markdown",
   "id": "d56f5329",
   "metadata": {},
   "source": [
    "## Logging"
   ]
  },
  {
   "cell_type": "code",
   "execution_count": 3,
   "id": "99dfcce7",
   "metadata": {},
   "outputs": [],
   "source": [
    "# logging.basicConfig(stream=sys.stdout, level=logging.ERROR)\n",
    "logger = logging.getLogger(\"training\")"
   ]
  },
  {
   "cell_type": "markdown",
   "id": "6d1dbd83",
   "metadata": {},
   "source": [
    "## Dependencies"
   ]
  },
  {
   "cell_type": "code",
   "execution_count": 4,
   "id": "19e3ac79",
   "metadata": {},
   "outputs": [
    {
     "name": "stdout",
     "output_type": "stream",
     "text": [
      "1.7.3\n"
     ]
    }
   ],
   "source": [
    "import xgboost as xgb\n",
    "print(xgb.__version__)\n",
    "\n",
    "from sklearn.metrics import (\n",
    "    mean_squared_error\n",
    ")\n",
    "from sklearn.model_selection import (\n",
    "    cross_val_score,\n",
    "    RepeatedKFold,\n",
    "    GridSearchCV\n",
    ")"
   ]
  },
  {
   "cell_type": "code",
   "execution_count": 5,
   "id": "af7ec48f",
   "metadata": {},
   "outputs": [
    {
     "name": "stdout",
     "output_type": "stream",
     "text": [
      "The autoreload extension is already loaded. To reload it, use:\n",
      "  %reload_ext autoreload\n"
     ]
    }
   ],
   "source": [
    "%load_ext autoreload\n",
    "%autoreload 2\n",
    "from util_pandas.ml import (\n",
    "    stratified_shuffle_split_into_train_test\n",
    ")"
   ]
  },
  {
   "cell_type": "markdown",
   "id": "1950b614",
   "metadata": {},
   "source": [
    "## Constant"
   ]
  },
  {
   "cell_type": "code",
   "execution_count": 6,
   "id": "3c6d0993",
   "metadata": {},
   "outputs": [],
   "source": [
    "DEBUG = False"
   ]
  },
  {
   "cell_type": "markdown",
   "id": "abe3a161",
   "metadata": {},
   "source": [
    "---\n",
    "# Data"
   ]
  },
  {
   "cell_type": "code",
   "execution_count": 7,
   "id": "ffc2e18e",
   "metadata": {
    "scrolled": true
   },
   "outputs": [
    {
     "data": {
      "text/html": [
       "<div>\n",
       "<style scoped>\n",
       "    .dataframe tbody tr th:only-of-type {\n",
       "        vertical-align: middle;\n",
       "    }\n",
       "\n",
       "    .dataframe tbody tr th {\n",
       "        vertical-align: top;\n",
       "    }\n",
       "\n",
       "    .dataframe thead th {\n",
       "        text-align: right;\n",
       "    }\n",
       "</style>\n",
       "<table border=\"1\" class=\"dataframe\">\n",
       "  <thead>\n",
       "    <tr style=\"text-align: right;\">\n",
       "      <th></th>\n",
       "      <th>facility_code</th>\n",
       "      <th>supplier_code</th>\n",
       "      <th>start_date_time</th>\n",
       "      <th>start_hour</th>\n",
       "      <th>start_time_sin_x</th>\n",
       "      <th>start_time_cos_y</th>\n",
       "      <th>dayofweek</th>\n",
       "      <th>dayofweek_sin_x</th>\n",
       "      <th>dayofweek_cos_y</th>\n",
       "      <th>is_holiday</th>\n",
       "      <th>process_time</th>\n",
       "      <th>input</th>\n",
       "      <th>output</th>\n",
       "      <th>throughput</th>\n",
       "      <th>recovery_rate</th>\n",
       "    </tr>\n",
       "  </thead>\n",
       "  <tbody>\n",
       "    <tr>\n",
       "      <th>0</th>\n",
       "      <td>0</td>\n",
       "      <td>4</td>\n",
       "      <td>2022-08-01 08:29:00</td>\n",
       "      <td>8</td>\n",
       "      <td>0.796002</td>\n",
       "      <td>-0.605294</td>\n",
       "      <td>0</td>\n",
       "      <td>0.000000</td>\n",
       "      <td>1.000000</td>\n",
       "      <td>0</td>\n",
       "      <td>2280.0</td>\n",
       "      <td>2.00</td>\n",
       "      <td>1.55</td>\n",
       "      <td>0.040789</td>\n",
       "      <td>0.775000</td>\n",
       "    </tr>\n",
       "    <tr>\n",
       "      <th>1</th>\n",
       "      <td>0</td>\n",
       "      <td>5</td>\n",
       "      <td>2022-08-01 09:27:00</td>\n",
       "      <td>9</td>\n",
       "      <td>0.619094</td>\n",
       "      <td>-0.785317</td>\n",
       "      <td>0</td>\n",
       "      <td>0.000000</td>\n",
       "      <td>1.000000</td>\n",
       "      <td>0</td>\n",
       "      <td>7260.0</td>\n",
       "      <td>6.80</td>\n",
       "      <td>4.15</td>\n",
       "      <td>0.034298</td>\n",
       "      <td>0.610294</td>\n",
       "    </tr>\n",
       "    <tr>\n",
       "      <th>2</th>\n",
       "      <td>0</td>\n",
       "      <td>4</td>\n",
       "      <td>2022-08-01 11:38:00</td>\n",
       "      <td>11</td>\n",
       "      <td>0.095846</td>\n",
       "      <td>-0.995396</td>\n",
       "      <td>0</td>\n",
       "      <td>0.000000</td>\n",
       "      <td>1.000000</td>\n",
       "      <td>0</td>\n",
       "      <td>2580.0</td>\n",
       "      <td>1.95</td>\n",
       "      <td>1.55</td>\n",
       "      <td>0.036047</td>\n",
       "      <td>0.794872</td>\n",
       "    </tr>\n",
       "    <tr>\n",
       "      <th>3</th>\n",
       "      <td>0</td>\n",
       "      <td>6</td>\n",
       "      <td>2022-08-01 12:40:00</td>\n",
       "      <td>12</td>\n",
       "      <td>-0.173648</td>\n",
       "      <td>-0.984808</td>\n",
       "      <td>0</td>\n",
       "      <td>0.000000</td>\n",
       "      <td>1.000000</td>\n",
       "      <td>0</td>\n",
       "      <td>5040.0</td>\n",
       "      <td>3.95</td>\n",
       "      <td>2.55</td>\n",
       "      <td>0.030357</td>\n",
       "      <td>0.645570</td>\n",
       "    </tr>\n",
       "    <tr>\n",
       "      <th>4</th>\n",
       "      <td>0</td>\n",
       "      <td>5</td>\n",
       "      <td>2022-08-01 14:25:00</td>\n",
       "      <td>14</td>\n",
       "      <td>-0.591309</td>\n",
       "      <td>-0.806445</td>\n",
       "      <td>0</td>\n",
       "      <td>0.000000</td>\n",
       "      <td>1.000000</td>\n",
       "      <td>0</td>\n",
       "      <td>7440.0</td>\n",
       "      <td>5.30</td>\n",
       "      <td>3.10</td>\n",
       "      <td>0.025000</td>\n",
       "      <td>0.584906</td>\n",
       "    </tr>\n",
       "    <tr>\n",
       "      <th>...</th>\n",
       "      <td>...</td>\n",
       "      <td>...</td>\n",
       "      <td>...</td>\n",
       "      <td>...</td>\n",
       "      <td>...</td>\n",
       "      <td>...</td>\n",
       "      <td>...</td>\n",
       "      <td>...</td>\n",
       "      <td>...</td>\n",
       "      <td>...</td>\n",
       "      <td>...</td>\n",
       "      <td>...</td>\n",
       "      <td>...</td>\n",
       "      <td>...</td>\n",
       "      <td>...</td>\n",
       "    </tr>\n",
       "    <tr>\n",
       "      <th>805</th>\n",
       "      <td>0</td>\n",
       "      <td>6</td>\n",
       "      <td>2022-09-30 11:40:00</td>\n",
       "      <td>11</td>\n",
       "      <td>0.087156</td>\n",
       "      <td>-0.996195</td>\n",
       "      <td>4</td>\n",
       "      <td>-0.433884</td>\n",
       "      <td>-0.900969</td>\n",
       "      <td>0</td>\n",
       "      <td>3660.0</td>\n",
       "      <td>3.70</td>\n",
       "      <td>2.35</td>\n",
       "      <td>0.038525</td>\n",
       "      <td>0.635135</td>\n",
       "    </tr>\n",
       "    <tr>\n",
       "      <th>806</th>\n",
       "      <td>0</td>\n",
       "      <td>5</td>\n",
       "      <td>2022-09-30 12:52:00</td>\n",
       "      <td>12</td>\n",
       "      <td>-0.224951</td>\n",
       "      <td>-0.974370</td>\n",
       "      <td>4</td>\n",
       "      <td>-0.433884</td>\n",
       "      <td>-0.900969</td>\n",
       "      <td>0</td>\n",
       "      <td>6240.0</td>\n",
       "      <td>6.35</td>\n",
       "      <td>4.55</td>\n",
       "      <td>0.043750</td>\n",
       "      <td>0.716535</td>\n",
       "    </tr>\n",
       "    <tr>\n",
       "      <th>807</th>\n",
       "      <td>1</td>\n",
       "      <td>0</td>\n",
       "      <td>2022-09-30 13:48:00</td>\n",
       "      <td>13</td>\n",
       "      <td>-0.453991</td>\n",
       "      <td>-0.891007</td>\n",
       "      <td>4</td>\n",
       "      <td>-0.433884</td>\n",
       "      <td>-0.900969</td>\n",
       "      <td>0</td>\n",
       "      <td>220.0</td>\n",
       "      <td>4.53</td>\n",
       "      <td>2.73</td>\n",
       "      <td>0.744545</td>\n",
       "      <td>0.602649</td>\n",
       "    </tr>\n",
       "    <tr>\n",
       "      <th>808</th>\n",
       "      <td>0</td>\n",
       "      <td>4</td>\n",
       "      <td>2022-09-30 15:02:00</td>\n",
       "      <td>15</td>\n",
       "      <td>-0.713251</td>\n",
       "      <td>-0.700909</td>\n",
       "      <td>4</td>\n",
       "      <td>-0.433884</td>\n",
       "      <td>-0.900969</td>\n",
       "      <td>0</td>\n",
       "      <td>2400.0</td>\n",
       "      <td>2.00</td>\n",
       "      <td>1.45</td>\n",
       "      <td>0.036250</td>\n",
       "      <td>0.725000</td>\n",
       "    </tr>\n",
       "    <tr>\n",
       "      <th>809</th>\n",
       "      <td>0</td>\n",
       "      <td>5</td>\n",
       "      <td>2022-09-30 16:02:00</td>\n",
       "      <td>16</td>\n",
       "      <td>-0.870356</td>\n",
       "      <td>-0.492424</td>\n",
       "      <td>4</td>\n",
       "      <td>-0.433884</td>\n",
       "      <td>-0.900969</td>\n",
       "      <td>0</td>\n",
       "      <td>8700.0</td>\n",
       "      <td>6.30</td>\n",
       "      <td>3.90</td>\n",
       "      <td>0.026897</td>\n",
       "      <td>0.619048</td>\n",
       "    </tr>\n",
       "  </tbody>\n",
       "</table>\n",
       "<p>810 rows × 15 columns</p>\n",
       "</div>"
      ],
      "text/plain": [
       "     facility_code  supplier_code     start_date_time  start_hour  \\\n",
       "0                0              4 2022-08-01 08:29:00           8   \n",
       "1                0              5 2022-08-01 09:27:00           9   \n",
       "2                0              4 2022-08-01 11:38:00          11   \n",
       "3                0              6 2022-08-01 12:40:00          12   \n",
       "4                0              5 2022-08-01 14:25:00          14   \n",
       "..             ...            ...                 ...         ...   \n",
       "805              0              6 2022-09-30 11:40:00          11   \n",
       "806              0              5 2022-09-30 12:52:00          12   \n",
       "807              1              0 2022-09-30 13:48:00          13   \n",
       "808              0              4 2022-09-30 15:02:00          15   \n",
       "809              0              5 2022-09-30 16:02:00          16   \n",
       "\n",
       "     start_time_sin_x  start_time_cos_y  dayofweek  dayofweek_sin_x  \\\n",
       "0            0.796002         -0.605294          0         0.000000   \n",
       "1            0.619094         -0.785317          0         0.000000   \n",
       "2            0.095846         -0.995396          0         0.000000   \n",
       "3           -0.173648         -0.984808          0         0.000000   \n",
       "4           -0.591309         -0.806445          0         0.000000   \n",
       "..                ...               ...        ...              ...   \n",
       "805          0.087156         -0.996195          4        -0.433884   \n",
       "806         -0.224951         -0.974370          4        -0.433884   \n",
       "807         -0.453991         -0.891007          4        -0.433884   \n",
       "808         -0.713251         -0.700909          4        -0.433884   \n",
       "809         -0.870356         -0.492424          4        -0.433884   \n",
       "\n",
       "     dayofweek_cos_y  is_holiday  process_time  input  output  throughput  \\\n",
       "0           1.000000           0        2280.0   2.00    1.55    0.040789   \n",
       "1           1.000000           0        7260.0   6.80    4.15    0.034298   \n",
       "2           1.000000           0        2580.0   1.95    1.55    0.036047   \n",
       "3           1.000000           0        5040.0   3.95    2.55    0.030357   \n",
       "4           1.000000           0        7440.0   5.30    3.10    0.025000   \n",
       "..               ...         ...           ...    ...     ...         ...   \n",
       "805        -0.900969           0        3660.0   3.70    2.35    0.038525   \n",
       "806        -0.900969           0        6240.0   6.35    4.55    0.043750   \n",
       "807        -0.900969           0         220.0   4.53    2.73    0.744545   \n",
       "808        -0.900969           0        2400.0   2.00    1.45    0.036250   \n",
       "809        -0.900969           0        8700.0   6.30    3.90    0.026897   \n",
       "\n",
       "     recovery_rate  \n",
       "0         0.775000  \n",
       "1         0.610294  \n",
       "2         0.794872  \n",
       "3         0.645570  \n",
       "4         0.584906  \n",
       "..             ...  \n",
       "805       0.635135  \n",
       "806       0.716535  \n",
       "807       0.602649  \n",
       "808       0.725000  \n",
       "809       0.619048  \n",
       "\n",
       "[810 rows x 15 columns]"
      ]
     },
     "execution_count": 7,
     "metadata": {},
     "output_type": "execute_result"
    }
   ],
   "source": [
    "df"
   ]
  },
  {
   "cell_type": "code",
   "execution_count": 8,
   "id": "5f0f19a0",
   "metadata": {
    "scrolled": true
   },
   "outputs": [
    {
     "name": "stdout",
     "output_type": "stream",
     "text": [
      "<class 'pandas.core.frame.DataFrame'>\n",
      "RangeIndex: 810 entries, 0 to 809\n",
      "Data columns (total 15 columns):\n",
      " #   Column            Non-Null Count  Dtype         \n",
      "---  ------            --------------  -----         \n",
      " 0   facility_code     810 non-null    int64         \n",
      " 1   supplier_code     810 non-null    int64         \n",
      " 2   start_date_time   810 non-null    datetime64[ns]\n",
      " 3   start_hour        810 non-null    int64         \n",
      " 4   start_time_sin_x  810 non-null    float32       \n",
      " 5   start_time_cos_y  810 non-null    float32       \n",
      " 6   dayofweek         810 non-null    int64         \n",
      " 7   dayofweek_sin_x   810 non-null    float64       \n",
      " 8   dayofweek_cos_y   810 non-null    float64       \n",
      " 9   is_holiday        810 non-null    uint8         \n",
      " 10  process_time      810 non-null    float32       \n",
      " 11  input             810 non-null    float32       \n",
      " 12  output            810 non-null    float32       \n",
      " 13  throughput        810 non-null    float32       \n",
      " 14  recovery_rate     810 non-null    float32       \n",
      "dtypes: datetime64[ns](1), float32(7), float64(2), int64(4), uint8(1)\n",
      "memory usage: 67.4 KB\n"
     ]
    }
   ],
   "source": [
    "df.info()"
   ]
  },
  {
   "cell_type": "markdown",
   "id": "f8026d23",
   "metadata": {},
   "source": [
    "## Drop \n",
    "\n",
    "Drop non feature columns e.g. throughput."
   ]
  },
  {
   "cell_type": "code",
   "execution_count": 9,
   "id": "e15fa59f",
   "metadata": {},
   "outputs": [
    {
     "data": {
      "text/html": [
       "<div>\n",
       "<style scoped>\n",
       "    .dataframe tbody tr th:only-of-type {\n",
       "        vertical-align: middle;\n",
       "    }\n",
       "\n",
       "    .dataframe tbody tr th {\n",
       "        vertical-align: top;\n",
       "    }\n",
       "\n",
       "    .dataframe thead th {\n",
       "        text-align: right;\n",
       "    }\n",
       "</style>\n",
       "<table border=\"1\" class=\"dataframe\">\n",
       "  <thead>\n",
       "    <tr style=\"text-align: right;\">\n",
       "      <th></th>\n",
       "      <th>facility_code</th>\n",
       "      <th>supplier_code</th>\n",
       "      <th>start_hour</th>\n",
       "      <th>start_time_sin_x</th>\n",
       "      <th>start_time_cos_y</th>\n",
       "      <th>dayofweek</th>\n",
       "      <th>dayofweek_sin_x</th>\n",
       "      <th>dayofweek_cos_y</th>\n",
       "      <th>is_holiday</th>\n",
       "      <th>input</th>\n",
       "      <th>output</th>\n",
       "    </tr>\n",
       "  </thead>\n",
       "  <tbody>\n",
       "    <tr>\n",
       "      <th>0</th>\n",
       "      <td>0</td>\n",
       "      <td>4</td>\n",
       "      <td>8</td>\n",
       "      <td>0.796002</td>\n",
       "      <td>-0.605294</td>\n",
       "      <td>0</td>\n",
       "      <td>0.000000</td>\n",
       "      <td>1.000000</td>\n",
       "      <td>0</td>\n",
       "      <td>2.00</td>\n",
       "      <td>1.55</td>\n",
       "    </tr>\n",
       "    <tr>\n",
       "      <th>1</th>\n",
       "      <td>0</td>\n",
       "      <td>5</td>\n",
       "      <td>9</td>\n",
       "      <td>0.619094</td>\n",
       "      <td>-0.785317</td>\n",
       "      <td>0</td>\n",
       "      <td>0.000000</td>\n",
       "      <td>1.000000</td>\n",
       "      <td>0</td>\n",
       "      <td>6.80</td>\n",
       "      <td>4.15</td>\n",
       "    </tr>\n",
       "    <tr>\n",
       "      <th>2</th>\n",
       "      <td>0</td>\n",
       "      <td>4</td>\n",
       "      <td>11</td>\n",
       "      <td>0.095846</td>\n",
       "      <td>-0.995396</td>\n",
       "      <td>0</td>\n",
       "      <td>0.000000</td>\n",
       "      <td>1.000000</td>\n",
       "      <td>0</td>\n",
       "      <td>1.95</td>\n",
       "      <td>1.55</td>\n",
       "    </tr>\n",
       "    <tr>\n",
       "      <th>3</th>\n",
       "      <td>0</td>\n",
       "      <td>6</td>\n",
       "      <td>12</td>\n",
       "      <td>-0.173648</td>\n",
       "      <td>-0.984808</td>\n",
       "      <td>0</td>\n",
       "      <td>0.000000</td>\n",
       "      <td>1.000000</td>\n",
       "      <td>0</td>\n",
       "      <td>3.95</td>\n",
       "      <td>2.55</td>\n",
       "    </tr>\n",
       "    <tr>\n",
       "      <th>4</th>\n",
       "      <td>0</td>\n",
       "      <td>5</td>\n",
       "      <td>14</td>\n",
       "      <td>-0.591309</td>\n",
       "      <td>-0.806445</td>\n",
       "      <td>0</td>\n",
       "      <td>0.000000</td>\n",
       "      <td>1.000000</td>\n",
       "      <td>0</td>\n",
       "      <td>5.30</td>\n",
       "      <td>3.10</td>\n",
       "    </tr>\n",
       "    <tr>\n",
       "      <th>...</th>\n",
       "      <td>...</td>\n",
       "      <td>...</td>\n",
       "      <td>...</td>\n",
       "      <td>...</td>\n",
       "      <td>...</td>\n",
       "      <td>...</td>\n",
       "      <td>...</td>\n",
       "      <td>...</td>\n",
       "      <td>...</td>\n",
       "      <td>...</td>\n",
       "      <td>...</td>\n",
       "    </tr>\n",
       "    <tr>\n",
       "      <th>805</th>\n",
       "      <td>0</td>\n",
       "      <td>6</td>\n",
       "      <td>11</td>\n",
       "      <td>0.087156</td>\n",
       "      <td>-0.996195</td>\n",
       "      <td>4</td>\n",
       "      <td>-0.433884</td>\n",
       "      <td>-0.900969</td>\n",
       "      <td>0</td>\n",
       "      <td>3.70</td>\n",
       "      <td>2.35</td>\n",
       "    </tr>\n",
       "    <tr>\n",
       "      <th>806</th>\n",
       "      <td>0</td>\n",
       "      <td>5</td>\n",
       "      <td>12</td>\n",
       "      <td>-0.224951</td>\n",
       "      <td>-0.974370</td>\n",
       "      <td>4</td>\n",
       "      <td>-0.433884</td>\n",
       "      <td>-0.900969</td>\n",
       "      <td>0</td>\n",
       "      <td>6.35</td>\n",
       "      <td>4.55</td>\n",
       "    </tr>\n",
       "    <tr>\n",
       "      <th>807</th>\n",
       "      <td>1</td>\n",
       "      <td>0</td>\n",
       "      <td>13</td>\n",
       "      <td>-0.453991</td>\n",
       "      <td>-0.891007</td>\n",
       "      <td>4</td>\n",
       "      <td>-0.433884</td>\n",
       "      <td>-0.900969</td>\n",
       "      <td>0</td>\n",
       "      <td>4.53</td>\n",
       "      <td>2.73</td>\n",
       "    </tr>\n",
       "    <tr>\n",
       "      <th>808</th>\n",
       "      <td>0</td>\n",
       "      <td>4</td>\n",
       "      <td>15</td>\n",
       "      <td>-0.713251</td>\n",
       "      <td>-0.700909</td>\n",
       "      <td>4</td>\n",
       "      <td>-0.433884</td>\n",
       "      <td>-0.900969</td>\n",
       "      <td>0</td>\n",
       "      <td>2.00</td>\n",
       "      <td>1.45</td>\n",
       "    </tr>\n",
       "    <tr>\n",
       "      <th>809</th>\n",
       "      <td>0</td>\n",
       "      <td>5</td>\n",
       "      <td>16</td>\n",
       "      <td>-0.870356</td>\n",
       "      <td>-0.492424</td>\n",
       "      <td>4</td>\n",
       "      <td>-0.433884</td>\n",
       "      <td>-0.900969</td>\n",
       "      <td>0</td>\n",
       "      <td>6.30</td>\n",
       "      <td>3.90</td>\n",
       "    </tr>\n",
       "  </tbody>\n",
       "</table>\n",
       "<p>810 rows × 11 columns</p>\n",
       "</div>"
      ],
      "text/plain": [
       "     facility_code  supplier_code  start_hour  start_time_sin_x  \\\n",
       "0                0              4           8          0.796002   \n",
       "1                0              5           9          0.619094   \n",
       "2                0              4          11          0.095846   \n",
       "3                0              6          12         -0.173648   \n",
       "4                0              5          14         -0.591309   \n",
       "..             ...            ...         ...               ...   \n",
       "805              0              6          11          0.087156   \n",
       "806              0              5          12         -0.224951   \n",
       "807              1              0          13         -0.453991   \n",
       "808              0              4          15         -0.713251   \n",
       "809              0              5          16         -0.870356   \n",
       "\n",
       "     start_time_cos_y  dayofweek  dayofweek_sin_x  dayofweek_cos_y  \\\n",
       "0           -0.605294          0         0.000000         1.000000   \n",
       "1           -0.785317          0         0.000000         1.000000   \n",
       "2           -0.995396          0         0.000000         1.000000   \n",
       "3           -0.984808          0         0.000000         1.000000   \n",
       "4           -0.806445          0         0.000000         1.000000   \n",
       "..                ...        ...              ...              ...   \n",
       "805         -0.996195          4        -0.433884        -0.900969   \n",
       "806         -0.974370          4        -0.433884        -0.900969   \n",
       "807         -0.891007          4        -0.433884        -0.900969   \n",
       "808         -0.700909          4        -0.433884        -0.900969   \n",
       "809         -0.492424          4        -0.433884        -0.900969   \n",
       "\n",
       "     is_holiday  input  output  \n",
       "0             0   2.00    1.55  \n",
       "1             0   6.80    4.15  \n",
       "2             0   1.95    1.55  \n",
       "3             0   3.95    2.55  \n",
       "4             0   5.30    3.10  \n",
       "..          ...    ...     ...  \n",
       "805           0   3.70    2.35  \n",
       "806           0   6.35    4.55  \n",
       "807           0   4.53    2.73  \n",
       "808           0   2.00    1.45  \n",
       "809           0   6.30    3.90  \n",
       "\n",
       "[810 rows x 11 columns]"
      ]
     },
     "execution_count": 9,
     "metadata": {},
     "output_type": "execute_result"
    }
   ],
   "source": [
    "df.drop([\n",
    "    COLUMN_START_TIME,\n",
    "    COLUMN_RECOVERY_RATE,\n",
    "    COLUMN_THROUGHPUT,\n",
    "    COLUMN_PROCESS_TIME,\n",
    "], axis=1, inplace=True)\n",
    "df"
   ]
  },
  {
   "cell_type": "markdown",
   "id": "c0f6bb01",
   "metadata": {},
   "source": [
    "## Train/Test Split\n",
    "\n",
    "Split data into train and test with preserving the strata of supplier code. By preserving the propotion of supplier code, the propotion of facilities in the data is preserved as well."
   ]
  },
  {
   "cell_type": "code",
   "execution_count": 10,
   "id": "126be2ec",
   "metadata": {},
   "outputs": [],
   "source": [
    "train_data_set: pd.DataFrame\n",
    "test_data_set: pd.DataFrame\n",
    "    \n",
    "train_data_set, test_data_set = stratified_shuffle_split_into_train_test(\n",
    "    dataframe=df, column_name=COLUMN_SUPPLIER_CODE\n",
    ")"
   ]
  },
  {
   "cell_type": "code",
   "execution_count": 11,
   "id": "bf40afb9",
   "metadata": {},
   "outputs": [
    {
     "data": {
      "text/plain": [
       "6    0.200617\n",
       "5    0.200617\n",
       "4    0.191358\n",
       "0    0.114198\n",
       "3    0.104938\n",
       "2    0.095679\n",
       "1    0.092593\n",
       "Name: supplier_code, dtype: float64"
      ]
     },
     "execution_count": 11,
     "metadata": {},
     "output_type": "execute_result"
    }
   ],
   "source": [
    "train_data_set[COLUMN_SUPPLIER_CODE].value_counts() / len(train_data_set)"
   ]
  },
  {
   "cell_type": "code",
   "execution_count": 12,
   "id": "24c39ecb",
   "metadata": {},
   "outputs": [
    {
     "data": {
      "text/plain": [
       "5    0.203704\n",
       "6    0.203704\n",
       "4    0.191358\n",
       "0    0.111111\n",
       "3    0.104938\n",
       "1    0.092593\n",
       "2    0.092593\n",
       "Name: supplier_code, dtype: float64"
      ]
     },
     "execution_count": 12,
     "metadata": {},
     "output_type": "execute_result"
    }
   ],
   "source": [
    "test_data_set[COLUMN_SUPPLIER_CODE].value_counts() / len(test_data_set)"
   ]
  },
  {
   "cell_type": "code",
   "execution_count": 13,
   "id": "671ac573",
   "metadata": {},
   "outputs": [],
   "source": [
    "X_train = train_data_set.drop(COLUMN_OUTPUT, axis=1)\n",
    "y_train = train_data_set[COLUMN_OUTPUT].copy()\n",
    "del train_data_set"
   ]
  },
  {
   "cell_type": "code",
   "execution_count": 14,
   "id": "2f1fad0a",
   "metadata": {},
   "outputs": [],
   "source": [
    "if DEBUG:\n",
    "    display(X_train)\n",
    "    display(y_train)"
   ]
  },
  {
   "cell_type": "code",
   "execution_count": 15,
   "id": "9688c0de",
   "metadata": {},
   "outputs": [],
   "source": [
    "X_test = test_data_set.drop(COLUMN_OUTPUT, axis=1)\n",
    "y_test = test_data_set[COLUMN_OUTPUT].copy()\n",
    "del test_data_set"
   ]
  },
  {
   "cell_type": "markdown",
   "id": "77a1c146",
   "metadata": {},
   "source": [
    "---\n",
    "# Model\n",
    "\n",
    "## XGBoost\n",
    "* [XGBoost Python API Reference](https://xgboost.readthedocs.io/en/stable/python/python_api.html)\n",
    "* [XGBoost parameters](https://xgboost.readthedocs.io/en/stable/parameter.html)\n",
    "* [Learning Task Parameters](https://xgboost.readthedocs.io/en/latest/parameter.html#learning-task-parameters)\n",
    "* [How to Tune the Number and Size of Decision Trees with XGBoost in Python](https://machinelearningmastery.com/tune-number-size-decision-trees-xgboost-python/)\n",
    "\n",
    "## Grid Search/K Hold Cross Validation\n",
    "\n",
    "* [GridSearchCV](https://scikit-learn.org/stable/modules/generated/sklearn.model_selection.GridSearchCV.html)"
   ]
  },
  {
   "cell_type": "code",
   "execution_count": 16,
   "id": "baae6a27",
   "metadata": {},
   "outputs": [],
   "source": [
    "param_grid = {\n",
    "    \"max_depth\": [2, 3, 4],\n",
    "    \"n_estimators\": [25, 50, 75, 100, 125, 150],\n",
    "    \"learning_rate\": [0.07, 0.09, 0.11, 0.13, 0.15]\n",
    "}"
   ]
  },
  {
   "cell_type": "code",
   "execution_count": 17,
   "id": "329046ee",
   "metadata": {},
   "outputs": [],
   "source": [
    "model = xgb.XGBRegressor(\n",
    "    objective='reg:squarederror',\n",
    "    eval_metric=mean_squared_error,\n",
    ")"
   ]
  },
  {
   "cell_type": "code",
   "execution_count": 18,
   "id": "b6f84896",
   "metadata": {},
   "outputs": [
    {
     "name": "stdout",
     "output_type": "stream",
     "text": [
      "Fitting 25 folds for each of 90 candidates, totalling 2250 fits\n"
     ]
    }
   ],
   "source": [
    "cv = RepeatedKFold(n_splits=5, n_repeats=5, random_state=42)\n",
    "search = GridSearchCV(\n",
    "    model, \n",
    "    param_grid, \n",
    "    cv=cv, \n",
    "    n_jobs=-1,\n",
    "    verbose=1, \n",
    "    return_train_score=True,\n",
    ").fit(X_train, y_train)"
   ]
  },
  {
   "cell_type": "code",
   "execution_count": 19,
   "id": "6048d0de",
   "metadata": {},
   "outputs": [
    {
     "name": "stdout",
     "output_type": "stream",
     "text": [
      "The best hyperparameters are  {'learning_rate': 0.07, 'max_depth': 2, 'n_estimators': 100}\n"
     ]
    }
   ],
   "source": [
    "print(\"The best hyperparameters are \", search.best_params_)"
   ]
  },
  {
   "cell_type": "code",
   "execution_count": 20,
   "id": "a18d6444",
   "metadata": {},
   "outputs": [],
   "source": [
    "estimator = search.best_estimator_"
   ]
  },
  {
   "cell_type": "code",
   "execution_count": 21,
   "id": "29c8cf3a",
   "metadata": {},
   "outputs": [
    {
     "name": "stdout",
     "output_type": "stream",
     "text": [
      "Best Estimator: \n",
      "XGBRegressor(base_score=None, booster=None, callbacks=None,\n",
      "             colsample_bylevel=None, colsample_bynode=None,\n",
      "             colsample_bytree=None, early_stopping_rounds=None,\n",
      "             enable_categorical=False,\n",
      "             eval_metric=<function mean_squared_error at 0x1276ecca0>,\n",
      "             feature_types=None, gamma=None, gpu_id=None, grow_policy=None,\n",
      "             importance_type=None, interaction_constraints=None,\n",
      "             learning_rate=0.07, max_bin=None, max_cat_threshold=None,\n",
      "             max_cat_to_onehot=None, max_delta_step=None, max_depth=2,\n",
      "             max_leaves=None, min_child_weight=None, missing=nan,\n",
      "             monotone_constraints=None, n_estimators=100, n_jobs=None,\n",
      "             num_parallel_tree=None, predictor=None, random_state=None, ...)\n",
      "\n",
      "Best Parameters: \n",
      "{'learning_rate': 0.07, 'max_depth': 2, 'n_estimators': 100}\n",
      "\n",
      "Best Test Score: \n",
      "0.9150753009003577\n",
      "\n"
     ]
    }
   ],
   "source": [
    "print(\"Best Estimator: \\n{}\\n\".format(search.best_estimator_))\n",
    "print(\"Best Parameters: \\n{}\\n\".format(search.best_params_))\n",
    "print(\"Best Test Score: \\n{}\\n\".format(search.best_score_))"
   ]
  },
  {
   "cell_type": "markdown",
   "id": "87bba795",
   "metadata": {},
   "source": [
    "---\n",
    "# Model Testing"
   ]
  },
  {
   "cell_type": "code",
   "execution_count": 22,
   "id": "1bc327bc",
   "metadata": {},
   "outputs": [],
   "source": [
    "predictions = estimator.predict(X_test)"
   ]
  },
  {
   "cell_type": "code",
   "execution_count": 23,
   "id": "5e95dbd5",
   "metadata": {},
   "outputs": [
    {
     "data": {
      "text/plain": [
       "0.2836147"
      ]
     },
     "execution_count": 23,
     "metadata": {},
     "output_type": "execute_result"
    }
   ],
   "source": [
    "scores = np.sqrt(mean_squared_error(y_true=y_test, y_pred=predictions))\n",
    "scores"
   ]
  },
  {
   "cell_type": "code",
   "execution_count": 24,
   "id": "e29b568b",
   "metadata": {},
   "outputs": [
    {
     "data": {
      "text/html": [
       "<div>\n",
       "<style scoped>\n",
       "    .dataframe tbody tr th:only-of-type {\n",
       "        vertical-align: middle;\n",
       "    }\n",
       "\n",
       "    .dataframe tbody tr th {\n",
       "        vertical-align: top;\n",
       "    }\n",
       "\n",
       "    .dataframe thead th {\n",
       "        text-align: right;\n",
       "    }\n",
       "</style>\n",
       "<table border=\"1\" class=\"dataframe\">\n",
       "  <thead>\n",
       "    <tr style=\"text-align: right;\">\n",
       "      <th></th>\n",
       "      <th>prediction</th>\n",
       "      <th>truth</th>\n",
       "      <th>deviation %</th>\n",
       "    </tr>\n",
       "  </thead>\n",
       "  <tbody>\n",
       "    <tr>\n",
       "      <th>221</th>\n",
       "      <td>3.570598</td>\n",
       "      <td>3.55</td>\n",
       "      <td>0.580215</td>\n",
       "    </tr>\n",
       "    <tr>\n",
       "      <th>439</th>\n",
       "      <td>3.695312</td>\n",
       "      <td>3.25</td>\n",
       "      <td>13.701927</td>\n",
       "    </tr>\n",
       "    <tr>\n",
       "      <th>33</th>\n",
       "      <td>2.572102</td>\n",
       "      <td>1.95</td>\n",
       "      <td>31.902647</td>\n",
       "    </tr>\n",
       "    <tr>\n",
       "      <th>442</th>\n",
       "      <td>3.297776</td>\n",
       "      <td>3.14</td>\n",
       "      <td>5.024707</td>\n",
       "    </tr>\n",
       "    <tr>\n",
       "      <th>568</th>\n",
       "      <td>2.229858</td>\n",
       "      <td>2.45</td>\n",
       "      <td>8.985394</td>\n",
       "    </tr>\n",
       "    <tr>\n",
       "      <th>...</th>\n",
       "      <td>...</td>\n",
       "      <td>...</td>\n",
       "      <td>...</td>\n",
       "    </tr>\n",
       "    <tr>\n",
       "      <th>611</th>\n",
       "      <td>2.341218</td>\n",
       "      <td>2.45</td>\n",
       "      <td>4.440063</td>\n",
       "    </tr>\n",
       "    <tr>\n",
       "      <th>294</th>\n",
       "      <td>3.266532</td>\n",
       "      <td>2.83</td>\n",
       "      <td>15.425158</td>\n",
       "    </tr>\n",
       "    <tr>\n",
       "      <th>4</th>\n",
       "      <td>3.314808</td>\n",
       "      <td>3.10</td>\n",
       "      <td>6.929302</td>\n",
       "    </tr>\n",
       "    <tr>\n",
       "      <th>668</th>\n",
       "      <td>2.455082</td>\n",
       "      <td>2.60</td>\n",
       "      <td>5.573779</td>\n",
       "    </tr>\n",
       "    <tr>\n",
       "      <th>755</th>\n",
       "      <td>3.175876</td>\n",
       "      <td>2.98</td>\n",
       "      <td>6.573021</td>\n",
       "    </tr>\n",
       "  </tbody>\n",
       "</table>\n",
       "<p>162 rows × 3 columns</p>\n",
       "</div>"
      ],
      "text/plain": [
       "     prediction  truth  deviation %\n",
       "221    3.570598   3.55     0.580215\n",
       "439    3.695312   3.25    13.701927\n",
       "33     2.572102   1.95    31.902647\n",
       "442    3.297776   3.14     5.024707\n",
       "568    2.229858   2.45     8.985394\n",
       "..          ...    ...          ...\n",
       "611    2.341218   2.45     4.440063\n",
       "294    3.266532   2.83    15.425158\n",
       "4      3.314808   3.10     6.929302\n",
       "668    2.455082   2.60     5.573779\n",
       "755    3.175876   2.98     6.573021\n",
       "\n",
       "[162 rows x 3 columns]"
      ]
     },
     "execution_count": 24,
     "metadata": {},
     "output_type": "execute_result"
    }
   ],
   "source": [
    "result = pd.DataFrame({\n",
    "    'prediction': predictions, \n",
    "    'truth': y_test\n",
    "})\n",
    "result['deviation %'] = np.abs((1.0 - result['prediction'] / result['truth']) * 100.0)\n",
    "result"
   ]
  },
  {
   "cell_type": "markdown",
   "id": "41caa6e9",
   "metadata": {},
   "source": [
    "## Percentage of deviation (mean)"
   ]
  },
  {
   "cell_type": "code",
   "execution_count": 25,
   "id": "1a4e70df",
   "metadata": {},
   "outputs": [
    {
     "data": {
      "text/plain": [
       "7.6312675"
      ]
     },
     "execution_count": 25,
     "metadata": {},
     "output_type": "execute_result"
    }
   ],
   "source": [
    "result['deviation %'].mean()"
   ]
  },
  {
   "cell_type": "code",
   "execution_count": null,
   "id": "27ff37e5",
   "metadata": {},
   "outputs": [],
   "source": []
  }
 ],
 "metadata": {
  "kernelspec": {
   "display_name": "Python 3 (ipykernel)",
   "language": "python",
   "name": "python3"
  },
  "language_info": {
   "codemirror_mode": {
    "name": "ipython",
    "version": 3
   },
   "file_extension": ".py",
   "mimetype": "text/x-python",
   "name": "python",
   "nbconvert_exporter": "python",
   "pygments_lexer": "ipython3",
   "version": "3.9.13"
  }
 },
 "nbformat": 4,
 "nbformat_minor": 5
}
