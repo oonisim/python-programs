{
 "cells": [
  {
   "cell_type": "markdown",
   "id": "b1205d47",
   "metadata": {},
   "source": [
    "# Convert a column to datetime in ISO 8601 format"
   ]
  },
  {
   "cell_type": "code",
   "execution_count": 1,
   "id": "0c2bbda9",
   "metadata": {},
   "outputs": [],
   "source": [
    "import datetime\n",
    "import pandas as pd"
   ]
  },
  {
   "cell_type": "markdown",
   "id": "7fd868ae",
   "metadata": {},
   "source": [
    "# Read Amazon product review CSV"
   ]
  },
  {
   "cell_type": "code",
   "execution_count": 2,
   "id": "6fa74755",
   "metadata": {},
   "outputs": [
    {
     "data": {
      "text/html": [
       "<div>\n",
       "<style scoped>\n",
       "    .dataframe tbody tr th:only-of-type {\n",
       "        vertical-align: middle;\n",
       "    }\n",
       "\n",
       "    .dataframe tbody tr th {\n",
       "        vertical-align: top;\n",
       "    }\n",
       "\n",
       "    .dataframe thead th {\n",
       "        text-align: right;\n",
       "    }\n",
       "</style>\n",
       "<table border=\"1\" class=\"dataframe\">\n",
       "  <thead>\n",
       "    <tr style=\"text-align: right;\">\n",
       "      <th></th>\n",
       "      <th>review_id</th>\n",
       "      <th>product_title</th>\n",
       "      <th>star_rating</th>\n",
       "      <th>review_date</th>\n",
       "    </tr>\n",
       "  </thead>\n",
       "  <tbody>\n",
       "    <tr>\n",
       "      <th>0</th>\n",
       "      <td>RSH1OZ87OYK92</td>\n",
       "      <td>Madden NFL 16 - Xbox One Digital Code</td>\n",
       "      <td>2</td>\n",
       "      <td>2015-08-31</td>\n",
       "    </tr>\n",
       "    <tr>\n",
       "      <th>1</th>\n",
       "      <td>R1WFOQ3N9BO65I</td>\n",
       "      <td>Xbox Live Gift Card</td>\n",
       "      <td>5</td>\n",
       "      <td>2015-08-31</td>\n",
       "    </tr>\n",
       "    <tr>\n",
       "      <th>2</th>\n",
       "      <td>R3YOOS71KM5M9</td>\n",
       "      <td>Command &amp; Conquer The Ultimate Collection [Ins...</td>\n",
       "      <td>5</td>\n",
       "      <td>2015-08-31</td>\n",
       "    </tr>\n",
       "    <tr>\n",
       "      <th>3</th>\n",
       "      <td>R3R14UATT3OUFU</td>\n",
       "      <td>Playstation Plus Subscription</td>\n",
       "      <td>5</td>\n",
       "      <td>2015-08-31</td>\n",
       "    </tr>\n",
       "    <tr>\n",
       "      <th>4</th>\n",
       "      <td>RV2W9SGDNQA2C</td>\n",
       "      <td>Saints Row IV - Enter The Dominatrix [Online G...</td>\n",
       "      <td>5</td>\n",
       "      <td>2015-08-31</td>\n",
       "    </tr>\n",
       "  </tbody>\n",
       "</table>\n",
       "</div>"
      ],
      "text/plain": [
       "        review_id                                      product_title  \\\n",
       "0   RSH1OZ87OYK92              Madden NFL 16 - Xbox One Digital Code   \n",
       "1  R1WFOQ3N9BO65I                                Xbox Live Gift Card   \n",
       "2   R3YOOS71KM5M9  Command & Conquer The Ultimate Collection [Ins...   \n",
       "3  R3R14UATT3OUFU                      Playstation Plus Subscription   \n",
       "4   RV2W9SGDNQA2C  Saints Row IV - Enter The Dominatrix [Online G...   \n",
       "\n",
       "   star_rating review_date  \n",
       "0            2  2015-08-31  \n",
       "1            5  2015-08-31  \n",
       "2            5  2015-08-31  \n",
       "3            5  2015-08-31  \n",
       "4            5  2015-08-31  "
      ]
     },
     "execution_count": 2,
     "metadata": {},
     "output_type": "execute_result"
    }
   ],
   "source": [
    "df = pd.read_csv(\n",
    "    \"../data/amazon_product_review_sample.csv\",\n",
    "    usecols=[\"review_id\", \"product_title\", \"star_rating\", \"review_date\"]\n",
    ")\n",
    "df.head()"
   ]
  },
  {
   "cell_type": "code",
   "execution_count": 3,
   "id": "d9a8f25b",
   "metadata": {},
   "outputs": [
    {
     "data": {
      "text/plain": [
       "review_id        object\n",
       "product_title    object\n",
       "star_rating       int64\n",
       "review_date      object\n",
       "dtype: object"
      ]
     },
     "execution_count": 3,
     "metadata": {},
     "output_type": "execute_result"
    }
   ],
   "source": [
    "df.dtypes"
   ]
  },
  {
   "cell_type": "markdown",
   "id": "ecaca654",
   "metadata": {},
   "source": [
    "# Convert review_date to ISO 8601 string\n",
    "\n",
    "string -> datetime -> string"
   ]
  },
  {
   "cell_type": "code",
   "execution_count": 4,
   "id": "1522e068",
   "metadata": {},
   "outputs": [
    {
     "data": {
      "text/html": [
       "<div>\n",
       "<style scoped>\n",
       "    .dataframe tbody tr th:only-of-type {\n",
       "        vertical-align: middle;\n",
       "    }\n",
       "\n",
       "    .dataframe tbody tr th {\n",
       "        vertical-align: top;\n",
       "    }\n",
       "\n",
       "    .dataframe thead th {\n",
       "        text-align: right;\n",
       "    }\n",
       "</style>\n",
       "<table border=\"1\" class=\"dataframe\">\n",
       "  <thead>\n",
       "    <tr style=\"text-align: right;\">\n",
       "      <th></th>\n",
       "      <th>review_id</th>\n",
       "      <th>product_title</th>\n",
       "      <th>star_rating</th>\n",
       "      <th>review_date</th>\n",
       "    </tr>\n",
       "  </thead>\n",
       "  <tbody>\n",
       "    <tr>\n",
       "      <th>0</th>\n",
       "      <td>RSH1OZ87OYK92</td>\n",
       "      <td>Madden NFL 16 - Xbox One Digital Code</td>\n",
       "      <td>2</td>\n",
       "      <td>2015-08-31T00:00:00Z</td>\n",
       "    </tr>\n",
       "    <tr>\n",
       "      <th>1</th>\n",
       "      <td>R1WFOQ3N9BO65I</td>\n",
       "      <td>Xbox Live Gift Card</td>\n",
       "      <td>5</td>\n",
       "      <td>2015-08-31T00:00:00Z</td>\n",
       "    </tr>\n",
       "    <tr>\n",
       "      <th>2</th>\n",
       "      <td>R3YOOS71KM5M9</td>\n",
       "      <td>Command &amp; Conquer The Ultimate Collection [Ins...</td>\n",
       "      <td>5</td>\n",
       "      <td>2015-08-31T00:00:00Z</td>\n",
       "    </tr>\n",
       "    <tr>\n",
       "      <th>3</th>\n",
       "      <td>R3R14UATT3OUFU</td>\n",
       "      <td>Playstation Plus Subscription</td>\n",
       "      <td>5</td>\n",
       "      <td>2015-08-31T00:00:00Z</td>\n",
       "    </tr>\n",
       "    <tr>\n",
       "      <th>4</th>\n",
       "      <td>RV2W9SGDNQA2C</td>\n",
       "      <td>Saints Row IV - Enter The Dominatrix [Online G...</td>\n",
       "      <td>5</td>\n",
       "      <td>2015-08-31T00:00:00Z</td>\n",
       "    </tr>\n",
       "  </tbody>\n",
       "</table>\n",
       "</div>"
      ],
      "text/plain": [
       "        review_id                                      product_title  \\\n",
       "0   RSH1OZ87OYK92              Madden NFL 16 - Xbox One Digital Code   \n",
       "1  R1WFOQ3N9BO65I                                Xbox Live Gift Card   \n",
       "2   R3YOOS71KM5M9  Command & Conquer The Ultimate Collection [Ins...   \n",
       "3  R3R14UATT3OUFU                      Playstation Plus Subscription   \n",
       "4   RV2W9SGDNQA2C  Saints Row IV - Enter The Dominatrix [Online G...   \n",
       "\n",
       "   star_rating           review_date  \n",
       "0            2  2015-08-31T00:00:00Z  \n",
       "1            5  2015-08-31T00:00:00Z  \n",
       "2            5  2015-08-31T00:00:00Z  \n",
       "3            5  2015-08-31T00:00:00Z  \n",
       "4            5  2015-08-31T00:00:00Z  "
      ]
     },
     "execution_count": 4,
     "metadata": {},
     "output_type": "execute_result"
    }
   ],
   "source": [
    "df['review_date'] = pd.to_datetime(df['review_date']).dt.strftime('%Y-%m-%dT%H:%M:%SZ')\n",
    "df.head()"
   ]
  },
  {
   "cell_type": "code",
   "execution_count": 5,
   "id": "bd21eccb",
   "metadata": {},
   "outputs": [
    {
     "data": {
      "text/plain": [
       "review_id        object\n",
       "product_title    object\n",
       "star_rating       int64\n",
       "review_date      object\n",
       "dtype: object"
      ]
     },
     "execution_count": 5,
     "metadata": {},
     "output_type": "execute_result"
    }
   ],
   "source": [
    "df.dtypes"
   ]
  },
  {
   "cell_type": "markdown",
   "id": "20d6763f",
   "metadata": {},
   "source": [
    "# Convert review_date to datetime"
   ]
  },
  {
   "cell_type": "code",
   "execution_count": 6,
   "id": "12a3ae18",
   "metadata": {},
   "outputs": [
    {
     "data": {
      "text/html": [
       "<div>\n",
       "<style scoped>\n",
       "    .dataframe tbody tr th:only-of-type {\n",
       "        vertical-align: middle;\n",
       "    }\n",
       "\n",
       "    .dataframe tbody tr th {\n",
       "        vertical-align: top;\n",
       "    }\n",
       "\n",
       "    .dataframe thead th {\n",
       "        text-align: right;\n",
       "    }\n",
       "</style>\n",
       "<table border=\"1\" class=\"dataframe\">\n",
       "  <thead>\n",
       "    <tr style=\"text-align: right;\">\n",
       "      <th></th>\n",
       "      <th>review_id</th>\n",
       "      <th>product_title</th>\n",
       "      <th>star_rating</th>\n",
       "      <th>review_date</th>\n",
       "    </tr>\n",
       "  </thead>\n",
       "  <tbody>\n",
       "    <tr>\n",
       "      <th>0</th>\n",
       "      <td>RSH1OZ87OYK92</td>\n",
       "      <td>Madden NFL 16 - Xbox One Digital Code</td>\n",
       "      <td>2</td>\n",
       "      <td>2015-08-31 00:00:00+00:00</td>\n",
       "    </tr>\n",
       "    <tr>\n",
       "      <th>1</th>\n",
       "      <td>R1WFOQ3N9BO65I</td>\n",
       "      <td>Xbox Live Gift Card</td>\n",
       "      <td>5</td>\n",
       "      <td>2015-08-31 00:00:00+00:00</td>\n",
       "    </tr>\n",
       "    <tr>\n",
       "      <th>2</th>\n",
       "      <td>R3YOOS71KM5M9</td>\n",
       "      <td>Command &amp; Conquer The Ultimate Collection [Ins...</td>\n",
       "      <td>5</td>\n",
       "      <td>2015-08-31 00:00:00+00:00</td>\n",
       "    </tr>\n",
       "    <tr>\n",
       "      <th>3</th>\n",
       "      <td>R3R14UATT3OUFU</td>\n",
       "      <td>Playstation Plus Subscription</td>\n",
       "      <td>5</td>\n",
       "      <td>2015-08-31 00:00:00+00:00</td>\n",
       "    </tr>\n",
       "    <tr>\n",
       "      <th>4</th>\n",
       "      <td>RV2W9SGDNQA2C</td>\n",
       "      <td>Saints Row IV - Enter The Dominatrix [Online G...</td>\n",
       "      <td>5</td>\n",
       "      <td>2015-08-31 00:00:00+00:00</td>\n",
       "    </tr>\n",
       "  </tbody>\n",
       "</table>\n",
       "</div>"
      ],
      "text/plain": [
       "        review_id                                      product_title  \\\n",
       "0   RSH1OZ87OYK92              Madden NFL 16 - Xbox One Digital Code   \n",
       "1  R1WFOQ3N9BO65I                                Xbox Live Gift Card   \n",
       "2   R3YOOS71KM5M9  Command & Conquer The Ultimate Collection [Ins...   \n",
       "3  R3R14UATT3OUFU                      Playstation Plus Subscription   \n",
       "4   RV2W9SGDNQA2C  Saints Row IV - Enter The Dominatrix [Online G...   \n",
       "\n",
       "   star_rating               review_date  \n",
       "0            2 2015-08-31 00:00:00+00:00  \n",
       "1            5 2015-08-31 00:00:00+00:00  \n",
       "2            5 2015-08-31 00:00:00+00:00  \n",
       "3            5 2015-08-31 00:00:00+00:00  \n",
       "4            5 2015-08-31 00:00:00+00:00  "
      ]
     },
     "execution_count": 6,
     "metadata": {},
     "output_type": "execute_result"
    }
   ],
   "source": [
    "df['review_date'] = pd.to_datetime(df['review_date'])\n",
    "df.head()"
   ]
  },
  {
   "cell_type": "code",
   "execution_count": 7,
   "id": "a7a65b95",
   "metadata": {},
   "outputs": [
    {
     "data": {
      "text/plain": [
       "review_id                     object\n",
       "product_title                 object\n",
       "star_rating                    int64\n",
       "review_date      datetime64[ns, UTC]\n",
       "dtype: object"
      ]
     },
     "execution_count": 7,
     "metadata": {},
     "output_type": "execute_result"
    }
   ],
   "source": [
    "df.dtypes"
   ]
  },
  {
   "cell_type": "code",
   "execution_count": null,
   "id": "e522a3d7",
   "metadata": {},
   "outputs": [],
   "source": []
  }
 ],
 "metadata": {
  "kernelspec": {
   "display_name": "Python 3 (ipykernel)",
   "language": "python",
   "name": "python3"
  },
  "language_info": {
   "codemirror_mode": {
    "name": "ipython",
    "version": 3
   },
   "file_extension": ".py",
   "mimetype": "text/x-python",
   "name": "python",
   "nbconvert_exporter": "python",
   "pygments_lexer": "ipython3",
   "version": "3.9.13"
  }
 },
 "nbformat": 4,
 "nbformat_minor": 5
}
