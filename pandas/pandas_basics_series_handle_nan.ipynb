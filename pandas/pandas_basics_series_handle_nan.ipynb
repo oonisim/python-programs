{
 "cells": [
  {
   "cell_type": "markdown",
   "id": "efe88f4f",
   "metadata": {},
   "source": [
    "# Find missing/NaN in Series\n",
    "\n",
    "* [Series.isna()](https://pandas.pydata.org/docs/reference/api/pandas.Series.isna.html) -  Alias ```isnull()```\n",
    "* [Series.notna()](https://pandas.pydata.org/docs/reference/api/pandas.Series.notna.html)\n",
    "* [Series.fillna(value=None, method=None, axis=None, inplace=False, limit=None, downcast=None)](https://pandas.pydata.org/docs/reference/api/pandas.Series.fillna.html)\n",
    "\n",
    "Return boolean array where True indicates the value is NA. NA is either:\n",
    "\n",
    "1. Python None,\n",
    "2. np.nan"
   ]
  },
  {
   "cell_type": "code",
   "execution_count": 1,
   "id": "6cc32961",
   "metadata": {},
   "outputs": [],
   "source": [
    "import numpy as np\n",
    "import pandas as pd"
   ]
  },
  {
   "cell_type": "markdown",
   "id": "a4be1931",
   "metadata": {},
   "source": [
    "# Boolean Series of NA values"
   ]
  },
  {
   "cell_type": "code",
   "execution_count": 13,
   "id": "2d02935b",
   "metadata": {},
   "outputs": [],
   "source": [
    "s = pd.Series([1, np.nan, 2], dtype='Int32') # Without specifying the dtype, it can be converted to float"
   ]
  },
  {
   "cell_type": "code",
   "execution_count": 8,
   "id": "82c8001a",
   "metadata": {},
   "outputs": [
    {
     "name": "stdout",
     "output_type": "stream",
     "text": [
      "<class 'pandas.core.series.Series'>\n"
     ]
    },
    {
     "data": {
      "text/plain": [
       "0    False\n",
       "1     True\n",
       "2    False\n",
       "dtype: bool"
      ]
     },
     "execution_count": 8,
     "metadata": {},
     "output_type": "execute_result"
    }
   ],
   "source": [
    "print(type(s.isna()))\n",
    "s.isna()"
   ]
  },
  {
   "cell_type": "code",
   "execution_count": 9,
   "id": "76ce7f17",
   "metadata": {},
   "outputs": [
    {
     "data": {
      "text/plain": [
       "1    <NA>\n",
       "dtype: Int32"
      ]
     },
     "execution_count": 9,
     "metadata": {},
     "output_type": "execute_result"
    }
   ],
   "source": [
    "s.loc[s.isna()]"
   ]
  },
  {
   "cell_type": "markdown",
   "id": "89af8a49",
   "metadata": {},
   "source": [
    "# Boolean Series of Non NA values"
   ]
  },
  {
   "cell_type": "code",
   "execution_count": 10,
   "id": "c3ee2a47",
   "metadata": {},
   "outputs": [
    {
     "data": {
      "text/plain": [
       "0    1\n",
       "2    2\n",
       "dtype: Int32"
      ]
     },
     "execution_count": 10,
     "metadata": {},
     "output_type": "execute_result"
    }
   ],
   "source": [
    "s.loc[s.notna()]"
   ]
  },
  {
   "cell_type": "markdown",
   "id": "cc8234d2",
   "metadata": {},
   "source": [
    "# Imputate NA values"
   ]
  },
  {
   "cell_type": "code",
   "execution_count": 12,
   "id": "d9f70d38",
   "metadata": {},
   "outputs": [
    {
     "data": {
      "text/plain": [
       "0    1\n",
       "1    0\n",
       "2    2\n",
       "dtype: Int32"
      ]
     },
     "execution_count": 12,
     "metadata": {},
     "output_type": "execute_result"
    }
   ],
   "source": [
    "s.fillna(value=0, inplace=True)\n",
    "s"
   ]
  },
  {
   "cell_type": "markdown",
   "id": "1d12b621",
   "metadata": {},
   "source": [
    "# Broadcast operation and NA padding\n",
    "\n",
    "Shorter series is broardcasted and padded with NA value."
   ]
  },
  {
   "cell_type": "code",
   "execution_count": 14,
   "id": "d0e92a39",
   "metadata": {},
   "outputs": [],
   "source": [
    "s1 = pd.Series([1, np.nan, 2, np.nan], dtype='Int32') # Without specifying the dtype, it can be converted to float\n",
    "s2 = pd.Series([0, 1,      2, np.nan, 3], dtype='Int32')"
   ]
  },
  {
   "cell_type": "code",
   "execution_count": 15,
   "id": "5c114ce1",
   "metadata": {},
   "outputs": [
    {
     "data": {
      "text/plain": [
       "0       1\n",
       "1    <NA>\n",
       "2       2\n",
       "3    <NA>\n",
       "dtype: Int32"
      ]
     },
     "execution_count": 15,
     "metadata": {},
     "output_type": "execute_result"
    }
   ],
   "source": [
    "s1"
   ]
  },
  {
   "cell_type": "code",
   "execution_count": 16,
   "id": "cf4b6cc6",
   "metadata": {},
   "outputs": [
    {
     "data": {
      "text/plain": [
       "0       0\n",
       "1       1\n",
       "2       2\n",
       "3    <NA>\n",
       "4       3\n",
       "dtype: Int32"
      ]
     },
     "execution_count": 16,
     "metadata": {},
     "output_type": "execute_result"
    }
   ],
   "source": [
    "s2"
   ]
  },
  {
   "cell_type": "code",
   "execution_count": 17,
   "id": "615261cb",
   "metadata": {},
   "outputs": [
    {
     "data": {
      "text/plain": [
       "0       1\n",
       "1    <NA>\n",
       "2       4\n",
       "3    <NA>\n",
       "4    <NA>\n",
       "dtype: Int32"
      ]
     },
     "execution_count": 17,
     "metadata": {},
     "output_type": "execute_result"
    }
   ],
   "source": [
    "# The shorter Series is broadcasted to match longer one being padded with NA. NA + NonNA -> NA\n",
    "s1 + s2"
   ]
  },
  {
   "cell_type": "code",
   "execution_count": null,
   "id": "e7f7fc25",
   "metadata": {},
   "outputs": [],
   "source": []
  }
 ],
 "metadata": {
  "kernelspec": {
   "display_name": "Python 3 (ipykernel)",
   "language": "python",
   "name": "python3"
  },
  "language_info": {
   "codemirror_mode": {
    "name": "ipython",
    "version": 3
   },
   "file_extension": ".py",
   "mimetype": "text/x-python",
   "name": "python",
   "nbconvert_exporter": "python",
   "pygments_lexer": "ipython3",
   "version": "3.8.10"
  }
 },
 "nbformat": 4,
 "nbformat_minor": 5
}
