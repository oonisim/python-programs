{
 "cells": [
  {
   "cell_type": "markdown",
   "id": "f7237a65",
   "metadata": {},
   "source": [
    "# Parse date/time column at read_csv"
   ]
  },
  {
   "cell_type": "code",
   "execution_count": 6,
   "id": "006484d7",
   "metadata": {},
   "outputs": [],
   "source": [
    "import datetime\n",
    "import pandas as pd"
   ]
  },
  {
   "cell_type": "markdown",
   "id": "8d324304",
   "metadata": {},
   "source": [
    "# Read Amazon product review CSV"
   ]
  },
  {
   "cell_type": "code",
   "execution_count": 9,
   "id": "b0cf6854",
   "metadata": {},
   "outputs": [
    {
     "data": {
      "text/html": [
       "<div>\n",
       "<style scoped>\n",
       "    .dataframe tbody tr th:only-of-type {\n",
       "        vertical-align: middle;\n",
       "    }\n",
       "\n",
       "    .dataframe tbody tr th {\n",
       "        vertical-align: top;\n",
       "    }\n",
       "\n",
       "    .dataframe thead th {\n",
       "        text-align: right;\n",
       "    }\n",
       "</style>\n",
       "<table border=\"1\" class=\"dataframe\">\n",
       "  <thead>\n",
       "    <tr style=\"text-align: right;\">\n",
       "      <th></th>\n",
       "      <th>review_id</th>\n",
       "      <th>product_title</th>\n",
       "      <th>star_rating</th>\n",
       "      <th>review_date</th>\n",
       "    </tr>\n",
       "  </thead>\n",
       "  <tbody>\n",
       "    <tr>\n",
       "      <th>0</th>\n",
       "      <td>RSH1OZ87OYK92</td>\n",
       "      <td>Madden NFL 16 - Xbox One Digital Code</td>\n",
       "      <td>2</td>\n",
       "      <td>2015-08-31</td>\n",
       "    </tr>\n",
       "    <tr>\n",
       "      <th>1</th>\n",
       "      <td>R1WFOQ3N9BO65I</td>\n",
       "      <td>Xbox Live Gift Card</td>\n",
       "      <td>5</td>\n",
       "      <td>2015-08-31</td>\n",
       "    </tr>\n",
       "    <tr>\n",
       "      <th>2</th>\n",
       "      <td>R3YOOS71KM5M9</td>\n",
       "      <td>Command &amp; Conquer The Ultimate Collection [Ins...</td>\n",
       "      <td>5</td>\n",
       "      <td>2015-08-31</td>\n",
       "    </tr>\n",
       "    <tr>\n",
       "      <th>3</th>\n",
       "      <td>R3R14UATT3OUFU</td>\n",
       "      <td>Playstation Plus Subscription</td>\n",
       "      <td>5</td>\n",
       "      <td>2015-08-31</td>\n",
       "    </tr>\n",
       "    <tr>\n",
       "      <th>4</th>\n",
       "      <td>RV2W9SGDNQA2C</td>\n",
       "      <td>Saints Row IV - Enter The Dominatrix [Online G...</td>\n",
       "      <td>5</td>\n",
       "      <td>2015-08-31</td>\n",
       "    </tr>\n",
       "  </tbody>\n",
       "</table>\n",
       "</div>"
      ],
      "text/plain": [
       "        review_id                                      product_title  \\\n",
       "0   RSH1OZ87OYK92              Madden NFL 16 - Xbox One Digital Code   \n",
       "1  R1WFOQ3N9BO65I                                Xbox Live Gift Card   \n",
       "2   R3YOOS71KM5M9  Command & Conquer The Ultimate Collection [Ins...   \n",
       "3  R3R14UATT3OUFU                      Playstation Plus Subscription   \n",
       "4   RV2W9SGDNQA2C  Saints Row IV - Enter The Dominatrix [Online G...   \n",
       "\n",
       "   star_rating review_date  \n",
       "0            2  2015-08-31  \n",
       "1            5  2015-08-31  \n",
       "2            5  2015-08-31  \n",
       "3            5  2015-08-31  \n",
       "4            5  2015-08-31  "
      ]
     },
     "execution_count": 9,
     "metadata": {},
     "output_type": "execute_result"
    }
   ],
   "source": [
    "df = pd.read_csv(\n",
    "    \"./data/amazon_product_review_sample.csv\",\n",
    "    header=0,\n",
    "    sep=\",\",\n",
    "    usecols=[\"review_id\", \"product_title\", \"star_rating\", \"review_date\"],\n",
    "    parse_dates=['review_date']\n",
    ")\n",
    "df.head()"
   ]
  },
  {
   "cell_type": "code",
   "execution_count": 11,
   "id": "3a998b3d",
   "metadata": {},
   "outputs": [
    {
     "data": {
      "text/plain": [
       "review_id                object\n",
       "product_title            object\n",
       "star_rating               int64\n",
       "review_date      datetime64[ns]\n",
       "dtype: object"
      ]
     },
     "execution_count": 11,
     "metadata": {},
     "output_type": "execute_result"
    }
   ],
   "source": [
    "df.dtypes"
   ]
  }
 ],
 "metadata": {
  "kernelspec": {
   "display_name": "Python 3 (ipykernel)",
   "language": "python",
   "name": "python3"
  },
  "language_info": {
   "codemirror_mode": {
    "name": "ipython",
    "version": 3
   },
   "file_extension": ".py",
   "mimetype": "text/x-python",
   "name": "python",
   "nbconvert_exporter": "python",
   "pygments_lexer": "ipython3",
   "version": "3.8.10"
  }
 },
 "nbformat": 4,
 "nbformat_minor": 5
}
