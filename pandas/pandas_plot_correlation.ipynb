{
 "cells": [
  {
   "cell_type": "markdown",
   "id": "efb9ccb8",
   "metadata": {},
   "source": [
    "# Plot Correlation\n",
    "\n",
    "* [seaborn.pairplot](https://seaborn.pydata.org/generated/seaborn.pairplot.html)\n",
    "* [pandas.DataFrame.corr](https://pandas.pydata.org/docs/reference/api/pandas.DataFrame.corr.html)"
   ]
  },
  {
   "cell_type": "code",
   "execution_count": 51,
   "id": "27c006de",
   "metadata": {},
   "outputs": [],
   "source": [
    "import pandas as pd\n",
    "import seaborn as sns"
   ]
  },
  {
   "cell_type": "code",
   "execution_count": null,
   "id": "7f218c30",
   "metadata": {},
   "outputs": [],
   "source": []
  }
 ],
 "metadata": {
  "kernelspec": {
   "display_name": "Python 3 (ipykernel)",
   "language": "python",
   "name": "python3"
  },
  "language_info": {
   "codemirror_mode": {
    "name": "ipython",
    "version": 3
   },
   "file_extension": ".py",
   "mimetype": "text/x-python",
   "name": "python",
   "nbconvert_exporter": "python",
   "pygments_lexer": "ipython3",
   "version": "3.9.13"
  }
 },
 "nbformat": 4,
 "nbformat_minor": 5
}
