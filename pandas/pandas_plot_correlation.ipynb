{
 "cells": [
  {
   "cell_type": "markdown",
   "id": "efb9ccb8",
   "metadata": {},
   "source": [
    "# Plot by group"
   ]
  },
  {
   "cell_type": "code",
   "execution_count": 51,
   "id": "27c006de",
   "metadata": {},
   "outputs": [],
   "source": [
    "import pandas as pd\n",
    "import seaborn as sns"
   ]
  },
  {
   "cell_type": "markdown",
   "id": "1b314254",
   "metadata": {},
   "source": [
    "# Constant"
   ]
  },
  {
   "cell_type": "code",
   "execution_count": 5,
   "id": "f05fe833",
   "metadata": {},
   "outputs": [],
   "source": [
    "DATA_DIR: str = \"../data/titanic\""
   ]
  },
  {
   "cell_type": "markdown",
   "id": "a484a52e",
   "metadata": {},
   "source": [
    "# Dataframe"
   ]
  },
  {
   "cell_type": "code",
   "execution_count": 111,
   "id": "7fe31f9e",
   "metadata": {},
   "outputs": [
    {
     "name": "stdout",
     "output_type": "stream",
     "text": [
      "<class 'pandas.core.frame.DataFrame'>\n",
      "RangeIndex: 891 entries, 0 to 890\n",
      "Data columns (total 8 columns):\n",
      " #   Column    Non-Null Count  Dtype  \n",
      "---  ------    --------------  -----  \n",
      " 0   Survived  891 non-null    int64  \n",
      " 1   Pclass    891 non-null    int64  \n",
      " 2   Sex       891 non-null    object \n",
      " 3   Age       714 non-null    float64\n",
      " 4   SibSp     891 non-null    int64  \n",
      " 5   Parch     891 non-null    int64  \n",
      " 6   Fare      891 non-null    float64\n",
      " 7   Embarked  889 non-null    object \n",
      "dtypes: float64(2), int64(4), object(2)\n",
      "memory usage: 55.8+ KB\n"
     ]
    }
   ],
   "source": [
    "df = pd.read_csv(\n",
    "    f\"{DATA_DIR}/train.csv\"\n",
    ")\n",
    "df.drop(labels=[\"PassengerId\", \"Name\", \"Ticket\", \"Cabin\"], axis=1, inplace=True)\n",
    "df.info()"
   ]
  },
  {
   "cell_type": "code",
   "execution_count": 112,
   "id": "ad2a29df",
   "metadata": {},
   "outputs": [
    {
     "data": {
      "text/html": [
       "<div>\n",
       "<style scoped>\n",
       "    .dataframe tbody tr th:only-of-type {\n",
       "        vertical-align: middle;\n",
       "    }\n",
       "\n",
       "    .dataframe tbody tr th {\n",
       "        vertical-align: top;\n",
       "    }\n",
       "\n",
       "    .dataframe thead th {\n",
       "        text-align: right;\n",
       "    }\n",
       "</style>\n",
       "<table border=\"1\" class=\"dataframe\">\n",
       "  <thead>\n",
       "    <tr style=\"text-align: right;\">\n",
       "      <th></th>\n",
       "      <th>Survived</th>\n",
       "      <th>Pclass</th>\n",
       "      <th>Sex</th>\n",
       "      <th>Age</th>\n",
       "      <th>SibSp</th>\n",
       "      <th>Parch</th>\n",
       "      <th>Fare</th>\n",
       "      <th>Embarked</th>\n",
       "    </tr>\n",
       "  </thead>\n",
       "  <tbody>\n",
       "    <tr>\n",
       "      <th>0</th>\n",
       "      <td>0</td>\n",
       "      <td>3</td>\n",
       "      <td>male</td>\n",
       "      <td>22.0</td>\n",
       "      <td>1</td>\n",
       "      <td>0</td>\n",
       "      <td>7.2500</td>\n",
       "      <td>S</td>\n",
       "    </tr>\n",
       "    <tr>\n",
       "      <th>1</th>\n",
       "      <td>1</td>\n",
       "      <td>1</td>\n",
       "      <td>female</td>\n",
       "      <td>38.0</td>\n",
       "      <td>1</td>\n",
       "      <td>0</td>\n",
       "      <td>71.2833</td>\n",
       "      <td>C</td>\n",
       "    </tr>\n",
       "    <tr>\n",
       "      <th>2</th>\n",
       "      <td>1</td>\n",
       "      <td>3</td>\n",
       "      <td>female</td>\n",
       "      <td>26.0</td>\n",
       "      <td>0</td>\n",
       "      <td>0</td>\n",
       "      <td>7.9250</td>\n",
       "      <td>S</td>\n",
       "    </tr>\n",
       "  </tbody>\n",
       "</table>\n",
       "</div>"
      ],
      "text/plain": [
       "   Survived  Pclass     Sex   Age  SibSp  Parch     Fare Embarked\n",
       "0         0       3    male  22.0      1      0   7.2500        S\n",
       "1         1       1  female  38.0      1      0  71.2833        C\n",
       "2         1       3  female  26.0      0      0   7.9250        S"
      ]
     },
     "execution_count": 112,
     "metadata": {},
     "output_type": "execute_result"
    }
   ],
   "source": [
    "df.head(3)"
   ]
  },
  {
   "cell_type": "markdown",
   "id": "b32b0fde",
   "metadata": {},
   "source": [
    "# String to number"
   ]
  },
  {
   "cell_type": "code",
   "execution_count": 127,
   "id": "2d41f977",
   "metadata": {},
   "outputs": [
    {
     "data": {
      "text/plain": [
       "[1, 2, 3]"
      ]
     },
     "execution_count": 127,
     "metadata": {},
     "output_type": "execute_result"
    }
   ],
   "source": [
    "sorted(df[\"Pclass\"][df[\"Pclass\"].notna()].unique())"
   ]
  },
  {
   "cell_type": "code",
   "execution_count": 126,
   "id": "4f9613f2",
   "metadata": {},
   "outputs": [
    {
     "data": {
      "text/plain": [
       "['C', 'Q', 'S']"
      ]
     },
     "execution_count": 126,
     "metadata": {},
     "output_type": "execute_result"
    }
   ],
   "source": [
    "sorted(df[\"Embarked\"][df[\"Embarked\"].notna()].unique())"
   ]
  },
  {
   "cell_type": "code",
   "execution_count": 128,
   "id": "4ce77e1e",
   "metadata": {},
   "outputs": [
    {
     "data": {
      "text/plain": [
       "[0, 1, 2, 3, 4, 5, 8]"
      ]
     },
     "execution_count": 128,
     "metadata": {},
     "output_type": "execute_result"
    }
   ],
   "source": [
    "sorted(df[\"SibSp\"][df[\"SibSp\"].notna()].unique())"
   ]
  },
  {
   "cell_type": "code",
   "execution_count": 129,
   "id": "161e0714",
   "metadata": {},
   "outputs": [],
   "source": [
    "df.replace({\n",
    "    'Sex': {\"male\": 0, \"female\": 1},\n",
    "    \"Embarked\": {'C': 0, 'Q': 1, 'S': 2}\n",
    "}, inplace=True)"
   ]
  },
  {
   "cell_type": "markdown",
   "id": "595c9aa2",
   "metadata": {},
   "source": [
    "# Correlation"
   ]
  },
  {
   "cell_type": "code",
   "execution_count": 130,
   "id": "c3b3a441",
   "metadata": {},
   "outputs": [
    {
     "data": {
      "text/html": [
       "<style type=\"text/css\">\n",
       "#T_bfa81_row0_col0, #T_bfa81_row1_col1, #T_bfa81_row2_col2, #T_bfa81_row3_col3, #T_bfa81_row4_col4, #T_bfa81_row5_col5, #T_bfa81_row6_col6, #T_bfa81_row7_col7 {\n",
       "  background-color: #b40426;\n",
       "  color: #f1f1f1;\n",
       "}\n",
       "#T_bfa81_row0_col1 {\n",
       "  background-color: #6485ec;\n",
       "  color: #f1f1f1;\n",
       "}\n",
       "#T_bfa81_row0_col2 {\n",
       "  background-color: #f1ccb8;\n",
       "  color: #000000;\n",
       "}\n",
       "#T_bfa81_row0_col3 {\n",
       "  background-color: #80a3fa;\n",
       "  color: #f1f1f1;\n",
       "}\n",
       "#T_bfa81_row0_col4, #T_bfa81_row7_col6 {\n",
       "  background-color: #7ea1fa;\n",
       "  color: #f1f1f1;\n",
       "}\n",
       "#T_bfa81_row0_col5 {\n",
       "  background-color: #85a8fc;\n",
       "  color: #f1f1f1;\n",
       "}\n",
       "#T_bfa81_row0_col6 {\n",
       "  background-color: #e2dad5;\n",
       "  color: #000000;\n",
       "}\n",
       "#T_bfa81_row0_col7, #T_bfa81_row4_col3 {\n",
       "  background-color: #485fd1;\n",
       "  color: #f1f1f1;\n",
       "}\n",
       "#T_bfa81_row1_col0, #T_bfa81_row1_col2, #T_bfa81_row1_col3, #T_bfa81_row1_col6, #T_bfa81_row3_col4, #T_bfa81_row3_col5, #T_bfa81_row6_col1, #T_bfa81_row6_col7 {\n",
       "  background-color: #3b4cc0;\n",
       "  color: #f1f1f1;\n",
       "}\n",
       "#T_bfa81_row1_col4 {\n",
       "  background-color: #9ebeff;\n",
       "  color: #000000;\n",
       "}\n",
       "#T_bfa81_row1_col5 {\n",
       "  background-color: #7295f4;\n",
       "  color: #f1f1f1;\n",
       "}\n",
       "#T_bfa81_row1_col7 {\n",
       "  background-color: #a5c3fe;\n",
       "  color: #000000;\n",
       "}\n",
       "#T_bfa81_row2_col0 {\n",
       "  background-color: #f7ba9f;\n",
       "  color: #000000;\n",
       "}\n",
       "#T_bfa81_row2_col1 {\n",
       "  background-color: #93b5fe;\n",
       "  color: #000000;\n",
       "}\n",
       "#T_bfa81_row2_col3 {\n",
       "  background-color: #7b9ff9;\n",
       "  color: #f1f1f1;\n",
       "}\n",
       "#T_bfa81_row2_col4 {\n",
       "  background-color: #a6c4fe;\n",
       "  color: #000000;\n",
       "}\n",
       "#T_bfa81_row2_col5, #T_bfa81_row5_col1 {\n",
       "  background-color: #b5cdfa;\n",
       "  color: #000000;\n",
       "}\n",
       "#T_bfa81_row2_col6 {\n",
       "  background-color: #d5dbe5;\n",
       "  color: #000000;\n",
       "}\n",
       "#T_bfa81_row2_col7 {\n",
       "  background-color: #5875e1;\n",
       "  color: #f1f1f1;\n",
       "}\n",
       "#T_bfa81_row3_col0, #T_bfa81_row7_col5 {\n",
       "  background-color: #799cf8;\n",
       "  color: #f1f1f1;\n",
       "}\n",
       "#T_bfa81_row3_col1 {\n",
       "  background-color: #5e7de7;\n",
       "  color: #f1f1f1;\n",
       "}\n",
       "#T_bfa81_row3_col2 {\n",
       "  background-color: #445acc;\n",
       "  color: #f1f1f1;\n",
       "}\n",
       "#T_bfa81_row3_col6 {\n",
       "  background-color: #c5d6f2;\n",
       "  color: #000000;\n",
       "}\n",
       "#T_bfa81_row3_col7 {\n",
       "  background-color: #6c8ff1;\n",
       "  color: #f1f1f1;\n",
       "}\n",
       "#T_bfa81_row4_col0 {\n",
       "  background-color: #84a7fc;\n",
       "  color: #f1f1f1;\n",
       "}\n",
       "#T_bfa81_row4_col1 {\n",
       "  background-color: #c3d5f4;\n",
       "  color: #000000;\n",
       "}\n",
       "#T_bfa81_row4_col2, #T_bfa81_row5_col7 {\n",
       "  background-color: #81a4fb;\n",
       "  color: #f1f1f1;\n",
       "}\n",
       "#T_bfa81_row4_col5 {\n",
       "  background-color: #dfdbd9;\n",
       "  color: #000000;\n",
       "}\n",
       "#T_bfa81_row4_col6, #T_bfa81_row7_col1 {\n",
       "  background-color: #d2dbe8;\n",
       "  color: #000000;\n",
       "}\n",
       "#T_bfa81_row4_col7 {\n",
       "  background-color: #89acfd;\n",
       "  color: #000000;\n",
       "}\n",
       "#T_bfa81_row5_col0 {\n",
       "  background-color: #a3c2fe;\n",
       "  color: #000000;\n",
       "}\n",
       "#T_bfa81_row5_col2 {\n",
       "  background-color: #aac7fd;\n",
       "  color: #000000;\n",
       "}\n",
       "#T_bfa81_row5_col3 {\n",
       "  background-color: #6384eb;\n",
       "  color: #f1f1f1;\n",
       "}\n",
       "#T_bfa81_row5_col4 {\n",
       "  background-color: #ead5c9;\n",
       "  color: #000000;\n",
       "}\n",
       "#T_bfa81_row5_col6 {\n",
       "  background-color: #dbdcde;\n",
       "  color: #000000;\n",
       "}\n",
       "#T_bfa81_row6_col0 {\n",
       "  background-color: #cdd9ec;\n",
       "  color: #000000;\n",
       "}\n",
       "#T_bfa81_row6_col2 {\n",
       "  background-color: #97b8ff;\n",
       "  color: #000000;\n",
       "}\n",
       "#T_bfa81_row6_col3 {\n",
       "  background-color: #abc8fd;\n",
       "  color: #000000;\n",
       "}\n",
       "#T_bfa81_row6_col4 {\n",
       "  background-color: #b2ccfb;\n",
       "  color: #000000;\n",
       "}\n",
       "#T_bfa81_row6_col5 {\n",
       "  background-color: #adc9fd;\n",
       "  color: #000000;\n",
       "}\n",
       "#T_bfa81_row7_col0 {\n",
       "  background-color: #6282ea;\n",
       "  color: #f1f1f1;\n",
       "}\n",
       "#T_bfa81_row7_col2 {\n",
       "  background-color: #3f53c6;\n",
       "  color: #f1f1f1;\n",
       "}\n",
       "#T_bfa81_row7_col3 {\n",
       "  background-color: #8badfd;\n",
       "  color: #000000;\n",
       "}\n",
       "#T_bfa81_row7_col4 {\n",
       "  background-color: #9abbff;\n",
       "  color: #000000;\n",
       "}\n",
       "</style>\n",
       "<table id=\"T_bfa81\">\n",
       "  <thead>\n",
       "    <tr>\n",
       "      <th class=\"blank level0\" >&nbsp;</th>\n",
       "      <th id=\"T_bfa81_level0_col0\" class=\"col_heading level0 col0\" >Survived</th>\n",
       "      <th id=\"T_bfa81_level0_col1\" class=\"col_heading level0 col1\" >Pclass</th>\n",
       "      <th id=\"T_bfa81_level0_col2\" class=\"col_heading level0 col2\" >Sex</th>\n",
       "      <th id=\"T_bfa81_level0_col3\" class=\"col_heading level0 col3\" >Age</th>\n",
       "      <th id=\"T_bfa81_level0_col4\" class=\"col_heading level0 col4\" >SibSp</th>\n",
       "      <th id=\"T_bfa81_level0_col5\" class=\"col_heading level0 col5\" >Parch</th>\n",
       "      <th id=\"T_bfa81_level0_col6\" class=\"col_heading level0 col6\" >Fare</th>\n",
       "      <th id=\"T_bfa81_level0_col7\" class=\"col_heading level0 col7\" >Embarked</th>\n",
       "    </tr>\n",
       "  </thead>\n",
       "  <tbody>\n",
       "    <tr>\n",
       "      <th id=\"T_bfa81_level0_row0\" class=\"row_heading level0 row0\" >Survived</th>\n",
       "      <td id=\"T_bfa81_row0_col0\" class=\"data row0 col0\" >1.000000</td>\n",
       "      <td id=\"T_bfa81_row0_col1\" class=\"data row0 col1\" >-0.338481</td>\n",
       "      <td id=\"T_bfa81_row0_col2\" class=\"data row0 col2\" >0.543351</td>\n",
       "      <td id=\"T_bfa81_row0_col3\" class=\"data row0 col3\" >-0.077221</td>\n",
       "      <td id=\"T_bfa81_row0_col4\" class=\"data row0 col4\" >-0.035322</td>\n",
       "      <td id=\"T_bfa81_row0_col5\" class=\"data row0 col5\" >0.081629</td>\n",
       "      <td id=\"T_bfa81_row0_col6\" class=\"data row0 col6\" >0.257307</td>\n",
       "      <td id=\"T_bfa81_row0_col7\" class=\"data row0 col7\" >-0.169718</td>\n",
       "    </tr>\n",
       "    <tr>\n",
       "      <th id=\"T_bfa81_level0_row1\" class=\"row_heading level0 row1\" >Pclass</th>\n",
       "      <td id=\"T_bfa81_row1_col0\" class=\"data row1 col0\" >-0.338481</td>\n",
       "      <td id=\"T_bfa81_row1_col1\" class=\"data row1 col1\" >1.000000</td>\n",
       "      <td id=\"T_bfa81_row1_col2\" class=\"data row1 col2\" >-0.131900</td>\n",
       "      <td id=\"T_bfa81_row1_col3\" class=\"data row1 col3\" >-0.369226</td>\n",
       "      <td id=\"T_bfa81_row1_col4\" class=\"data row1 col4\" >0.083081</td>\n",
       "      <td id=\"T_bfa81_row1_col5\" class=\"data row1 col5\" >0.018443</td>\n",
       "      <td id=\"T_bfa81_row1_col6\" class=\"data row1 col6\" >-0.549500</td>\n",
       "      <td id=\"T_bfa81_row1_col7\" class=\"data row1 col7\" >0.164681</td>\n",
       "    </tr>\n",
       "    <tr>\n",
       "      <th id=\"T_bfa81_level0_row2\" class=\"row_heading level0 row2\" >Sex</th>\n",
       "      <td id=\"T_bfa81_row2_col0\" class=\"data row2 col0\" >0.543351</td>\n",
       "      <td id=\"T_bfa81_row2_col1\" class=\"data row2 col1\" >-0.131900</td>\n",
       "      <td id=\"T_bfa81_row2_col2\" class=\"data row2 col2\" >1.000000</td>\n",
       "      <td id=\"T_bfa81_row2_col3\" class=\"data row2 col3\" >-0.093254</td>\n",
       "      <td id=\"T_bfa81_row2_col4\" class=\"data row2 col4\" >0.114631</td>\n",
       "      <td id=\"T_bfa81_row2_col5\" class=\"data row2 col5\" >0.245489</td>\n",
       "      <td id=\"T_bfa81_row2_col6\" class=\"data row2 col6\" >0.182333</td>\n",
       "      <td id=\"T_bfa81_row2_col7\" class=\"data row2 col7\" >-0.110320</td>\n",
       "    </tr>\n",
       "    <tr>\n",
       "      <th id=\"T_bfa81_level0_row3\" class=\"row_heading level0 row3\" >Age</th>\n",
       "      <td id=\"T_bfa81_row3_col0\" class=\"data row3 col0\" >-0.077221</td>\n",
       "      <td id=\"T_bfa81_row3_col1\" class=\"data row3 col1\" >-0.369226</td>\n",
       "      <td id=\"T_bfa81_row3_col2\" class=\"data row3 col2\" >-0.093254</td>\n",
       "      <td id=\"T_bfa81_row3_col3\" class=\"data row3 col3\" >1.000000</td>\n",
       "      <td id=\"T_bfa81_row3_col4\" class=\"data row3 col4\" >-0.308247</td>\n",
       "      <td id=\"T_bfa81_row3_col5\" class=\"data row3 col5\" >-0.189119</td>\n",
       "      <td id=\"T_bfa81_row3_col6\" class=\"data row3 col6\" >0.096067</td>\n",
       "      <td id=\"T_bfa81_row3_col7\" class=\"data row3 col7\" >-0.032565</td>\n",
       "    </tr>\n",
       "    <tr>\n",
       "      <th id=\"T_bfa81_level0_row4\" class=\"row_heading level0 row4\" >SibSp</th>\n",
       "      <td id=\"T_bfa81_row4_col0\" class=\"data row4 col0\" >-0.035322</td>\n",
       "      <td id=\"T_bfa81_row4_col1\" class=\"data row4 col1\" >0.083081</td>\n",
       "      <td id=\"T_bfa81_row4_col2\" class=\"data row4 col2\" >0.114631</td>\n",
       "      <td id=\"T_bfa81_row4_col3\" class=\"data row4 col3\" >-0.308247</td>\n",
       "      <td id=\"T_bfa81_row4_col4\" class=\"data row4 col4\" >1.000000</td>\n",
       "      <td id=\"T_bfa81_row4_col5\" class=\"data row4 col5\" >0.414838</td>\n",
       "      <td id=\"T_bfa81_row4_col6\" class=\"data row4 col6\" >0.159651</td>\n",
       "      <td id=\"T_bfa81_row4_col7\" class=\"data row4 col7\" >0.068900</td>\n",
       "    </tr>\n",
       "    <tr>\n",
       "      <th id=\"T_bfa81_level0_row5\" class=\"row_heading level0 row5\" >Parch</th>\n",
       "      <td id=\"T_bfa81_row5_col0\" class=\"data row5 col0\" >0.081629</td>\n",
       "      <td id=\"T_bfa81_row5_col1\" class=\"data row5 col1\" >0.018443</td>\n",
       "      <td id=\"T_bfa81_row5_col2\" class=\"data row5 col2\" >0.245489</td>\n",
       "      <td id=\"T_bfa81_row5_col3\" class=\"data row5 col3\" >-0.189119</td>\n",
       "      <td id=\"T_bfa81_row5_col4\" class=\"data row5 col4\" >0.414838</td>\n",
       "      <td id=\"T_bfa81_row5_col5\" class=\"data row5 col5\" >1.000000</td>\n",
       "      <td id=\"T_bfa81_row5_col6\" class=\"data row5 col6\" >0.216225</td>\n",
       "      <td id=\"T_bfa81_row5_col7\" class=\"data row5 col7\" >0.040449</td>\n",
       "    </tr>\n",
       "    <tr>\n",
       "      <th id=\"T_bfa81_level0_row6\" class=\"row_heading level0 row6\" >Fare</th>\n",
       "      <td id=\"T_bfa81_row6_col0\" class=\"data row6 col0\" >0.257307</td>\n",
       "      <td id=\"T_bfa81_row6_col1\" class=\"data row6 col1\" >-0.549500</td>\n",
       "      <td id=\"T_bfa81_row6_col2\" class=\"data row6 col2\" >0.182333</td>\n",
       "      <td id=\"T_bfa81_row6_col3\" class=\"data row6 col3\" >0.096067</td>\n",
       "      <td id=\"T_bfa81_row6_col4\" class=\"data row6 col4\" >0.159651</td>\n",
       "      <td id=\"T_bfa81_row6_col5\" class=\"data row6 col5\" >0.216225</td>\n",
       "      <td id=\"T_bfa81_row6_col6\" class=\"data row6 col6\" >1.000000</td>\n",
       "      <td id=\"T_bfa81_row6_col7\" class=\"data row6 col7\" >-0.226311</td>\n",
       "    </tr>\n",
       "    <tr>\n",
       "      <th id=\"T_bfa81_level0_row7\" class=\"row_heading level0 row7\" >Embarked</th>\n",
       "      <td id=\"T_bfa81_row7_col0\" class=\"data row7 col0\" >-0.169718</td>\n",
       "      <td id=\"T_bfa81_row7_col1\" class=\"data row7 col1\" >0.164681</td>\n",
       "      <td id=\"T_bfa81_row7_col2\" class=\"data row7 col2\" >-0.110320</td>\n",
       "      <td id=\"T_bfa81_row7_col3\" class=\"data row7 col3\" >-0.032565</td>\n",
       "      <td id=\"T_bfa81_row7_col4\" class=\"data row7 col4\" >0.068900</td>\n",
       "      <td id=\"T_bfa81_row7_col5\" class=\"data row7 col5\" >0.040449</td>\n",
       "      <td id=\"T_bfa81_row7_col6\" class=\"data row7 col6\" >-0.226311</td>\n",
       "      <td id=\"T_bfa81_row7_col7\" class=\"data row7 col7\" >1.000000</td>\n",
       "    </tr>\n",
       "  </tbody>\n",
       "</table>\n"
      ],
      "text/plain": [
       "<pandas.io.formats.style.Styler at 0x28948d400>"
      ]
     },
     "execution_count": 130,
     "metadata": {},
     "output_type": "execute_result"
    }
   ],
   "source": [
    "df.corr().style.background_gradient(cmap='coolwarm')"
   ]
  }
 ],
 "metadata": {
  "kernelspec": {
   "display_name": "Python 3 (ipykernel)",
   "language": "python",
   "name": "python3"
  },
  "language_info": {
   "codemirror_mode": {
    "name": "ipython",
    "version": 3
   },
   "file_extension": ".py",
   "mimetype": "text/x-python",
   "name": "python",
   "nbconvert_exporter": "python",
   "pygments_lexer": "ipython3",
   "version": "3.9.13"
  }
 },
 "nbformat": 4,
 "nbformat_minor": 5
}
