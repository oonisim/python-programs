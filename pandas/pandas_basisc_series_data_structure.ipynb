{
 "cells": [
  {
   "cell_type": "markdown",
   "id": "62eb8caf",
   "metadata": {},
   "source": [
    "# Basics - pandas.Series Data Structure\n",
    "\n",
    "\n",
    "* [Intro to data structures - Series](https://pandas.pydata.org/docs/user_guide/dsintro.html#series)\n",
    "\n",
    "```s = pd.Series(data, index=index)```\n",
    "\n"
   ]
  },
  {
   "cell_type": "code",
   "execution_count": 29,
   "id": "ebad00ad",
   "metadata": {},
   "outputs": [],
   "source": [
    "import numpy as np\n",
    "import pandas as pd"
   ]
  },
  {
   "cell_type": "markdown",
   "id": "10ced20a",
   "metadata": {},
   "source": [
    "---\n",
    "# NaN\n",
    "\n",
    "NaN (not a number) is the standard **missing data marker** used in pandas. ```np.nan``` to set to mark NaN."
   ]
  },
  {
   "cell_type": "code",
   "execution_count": 32,
   "id": "b22e210c",
   "metadata": {},
   "outputs": [
    {
     "data": {
      "text/plain": [
       "0    1.0\n",
       "1    NaN\n",
       "2    3.0\n",
       "dtype: float64"
      ]
     },
     "execution_count": 32,
     "metadata": {},
     "output_type": "execute_result"
    }
   ],
   "source": [
    "_s = pd.Series(data=[1, np.nan, 3])\n",
    "_s"
   ]
  },
  {
   "cell_type": "markdown",
   "id": "7dc79757",
   "metadata": {},
   "source": [
    "---\n",
    "# Series Data\n",
    "\n",
    "data can be many different things:\n",
    "\n",
    "* a Python dict\n",
    "* an ndarray\n",
    "* a scalar value (like 5)"
   ]
  },
  {
   "cell_type": "code",
   "execution_count": 21,
   "id": "348bd847",
   "metadata": {},
   "outputs": [
    {
     "name": "stdout",
     "output_type": "stream",
     "text": [
      "scalar\n",
      "0    1\n",
      "dtype: int64\n",
      "\n",
      "array\n",
      "0    1\n",
      "1    2\n",
      "2    3\n",
      "dtype: int64\n",
      "\n",
      "dict\n",
      "d    1\n",
      "b    2\n",
      "a    3\n",
      "dtype: int64\n"
     ]
    }
   ],
   "source": [
    "s_scalar = pd.Series(data=1)\n",
    "s_array = pd.Series(data=[1,2,3])\n",
    "s_dict = pd.Series(data={\"d\":1, \"b\":2, \"a\":3})  # Preserve inserted order\n",
    "\n",
    "print(f\"scalar\\n{s_scalar}\")\n",
    "print(f\"\\narray\\n{s_array}\")\n",
    "print(f\"\\ndict\\n{s_dict}\")"
   ]
  },
  {
   "cell_type": "markdown",
   "id": "b2931110",
   "metadata": {},
   "source": [
    "## Series like np.ndarray\n",
    "\n",
    "\n",
    "Series acts very similarly to a ndarray, and is a valid argument to most NumPy functions. "
   ]
  },
  {
   "cell_type": "code",
   "execution_count": 14,
   "id": "dc79a01f",
   "metadata": {},
   "outputs": [
    {
     "data": {
      "text/plain": [
       "0    False\n",
       "1     True\n",
       "2     True\n",
       "dtype: bool"
      ]
     },
     "execution_count": 14,
     "metadata": {},
     "output_type": "execute_result"
    }
   ],
   "source": [
    "s_array > 1"
   ]
  },
  {
   "cell_type": "code",
   "execution_count": 13,
   "id": "74261848",
   "metadata": {},
   "outputs": [
    {
     "data": {
      "text/plain": [
       "1    3\n",
       "2    4\n",
       "dtype: int64"
      ]
     },
     "execution_count": 13,
     "metadata": {},
     "output_type": "execute_result"
    }
   ],
   "source": [
    "s_array[1:] + [1,1]"
   ]
  },
  {
   "cell_type": "code",
   "execution_count": 7,
   "id": "5d47d992",
   "metadata": {},
   "outputs": [
    {
     "data": {
      "text/plain": [
       "0     2.718282\n",
       "1     7.389056\n",
       "2    20.085537\n",
       "dtype: float64"
      ]
     },
     "execution_count": 7,
     "metadata": {},
     "output_type": "execute_result"
    }
   ],
   "source": [
    "np.exp(s_array)"
   ]
  },
  {
   "cell_type": "markdown",
   "id": "a744da3b",
   "metadata": {},
   "source": [
    "## Series like Python dict"
   ]
  },
  {
   "cell_type": "code",
   "execution_count": 11,
   "id": "553d010f",
   "metadata": {},
   "outputs": [
    {
     "data": {
      "text/plain": [
       "2"
      ]
     },
     "execution_count": 11,
     "metadata": {},
     "output_type": "execute_result"
    }
   ],
   "source": [
    "s_array[1]"
   ]
  },
  {
   "cell_type": "code",
   "execution_count": 10,
   "id": "b7715a12",
   "metadata": {},
   "outputs": [
    {
     "data": {
      "text/plain": [
       "2"
      ]
     },
     "execution_count": 10,
     "metadata": {},
     "output_type": "execute_result"
    }
   ],
   "source": [
    "s_array.get(1)"
   ]
  },
  {
   "cell_type": "markdown",
   "id": "6fe7cfcd",
   "metadata": {},
   "source": [
    "# Series Index"
   ]
  },
  {
   "cell_type": "markdown",
   "id": "0ee1d205",
   "metadata": {},
   "source": [
    "## Default Index like Python range()\n",
    "\n",
    "**NOT materialized** until used (lazy evaluation/instantiation), hence memory effeicient."
   ]
  },
  {
   "cell_type": "code",
   "execution_count": 15,
   "id": "a420f021",
   "metadata": {},
   "outputs": [
    {
     "data": {
      "text/plain": [
       "RangeIndex(start=0, stop=3, step=1)"
      ]
     },
     "execution_count": 15,
     "metadata": {},
     "output_type": "execute_result"
    }
   ],
   "source": [
    "s_array.index"
   ]
  },
  {
   "cell_type": "code",
   "execution_count": 16,
   "id": "ee74d870",
   "metadata": {},
   "outputs": [
    {
     "name": "stdout",
     "output_type": "stream",
     "text": [
      "1\n",
      "2\n",
      "3\n"
     ]
    }
   ],
   "source": [
    "for i in s_array.index:\n",
    "    print(s_array[i])"
   ]
  },
  {
   "cell_type": "markdown",
   "id": "b69198c7",
   "metadata": {},
   "source": [
    "## Dictioary Key Index is NOT like range()\n",
    "\n"
   ]
  },
  {
   "cell_type": "code",
   "execution_count": 23,
   "id": "8989cf53",
   "metadata": {},
   "outputs": [
    {
     "data": {
      "text/plain": [
       "Index(['d', 'b', 'a'], dtype='object')"
      ]
     },
     "execution_count": 23,
     "metadata": {},
     "output_type": "execute_result"
    }
   ],
   "source": [
    "s_dict.index"
   ]
  },
  {
   "cell_type": "markdown",
   "id": "16128ea3",
   "metadata": {},
   "source": [
    "## Index can be sorted"
   ]
  },
  {
   "cell_type": "code",
   "execution_count": 27,
   "id": "d2b38af6",
   "metadata": {},
   "outputs": [
    {
     "data": {
      "text/plain": [
       "a    3\n",
       "b    2\n",
       "d    1\n",
       "dtype: int64"
      ]
     },
     "execution_count": 27,
     "metadata": {},
     "output_type": "execute_result"
    }
   ],
   "source": [
    "s_dict.sort_index()"
   ]
  },
  {
   "cell_type": "markdown",
   "id": "9b40edf4",
   "metadata": {},
   "source": [
    "# Series Array (replace Series.values)\n",
    "\n",
    "**Prefer ```pd.Series.array``` to ```pd.Series.values```**.\n",
    "\n",
    "* [pandas.Series.array](https://pandas.pydata.org/docs/reference/api/pandas.Series.array.html)\n",
    "\n",
    "## array is np.ndarray compatible\n",
    "\n",
    "For NumPy native types, this is a **thin (no copy) wrapper around numpy.ndarray**.\n",
    "\n"
   ]
  },
  {
   "cell_type": "code",
   "execution_count": 17,
   "id": "fe6dc914",
   "metadata": {},
   "outputs": [
    {
     "data": {
      "text/plain": [
       "<PandasArray>\n",
       "[1, 2, 3]\n",
       "Length: 3, dtype: int64"
      ]
     },
     "execution_count": 17,
     "metadata": {},
     "output_type": "execute_result"
    }
   ],
   "source": [
    "s_array.array "
   ]
  },
  {
   "cell_type": "code",
   "execution_count": 18,
   "id": "c6f0aec2",
   "metadata": {},
   "outputs": [
    {
     "data": {
      "text/plain": [
       "<PandasArray>\n",
       "[2, 3]\n",
       "Length: 2, dtype: int64"
      ]
     },
     "execution_count": 18,
     "metadata": {},
     "output_type": "execute_result"
    }
   ],
   "source": [
    "s_array.array[1:3]"
   ]
  },
  {
   "cell_type": "code",
   "execution_count": 26,
   "id": "0258c7d2",
   "metadata": {},
   "outputs": [
    {
     "data": {
      "text/plain": [
       "array([1, 2, 3])"
      ]
     },
     "execution_count": 26,
     "metadata": {},
     "output_type": "execute_result"
    }
   ],
   "source": [
    "## values create copy\n",
    "s_array.values"
   ]
  },
  {
   "cell_type": "markdown",
   "id": "e0eea816",
   "metadata": {},
   "source": [
    "---"
   ]
  },
  {
   "cell_type": "code",
   "execution_count": null,
   "id": "83a127ab",
   "metadata": {},
   "outputs": [],
   "source": []
  },
  {
   "cell_type": "code",
   "execution_count": null,
   "id": "e952ab26",
   "metadata": {},
   "outputs": [],
   "source": []
  }
 ],
 "metadata": {
  "kernelspec": {
   "display_name": "Python 3 (ipykernel)",
   "language": "python",
   "name": "python3"
  },
  "language_info": {
   "codemirror_mode": {
    "name": "ipython",
    "version": 3
   },
   "file_extension": ".py",
   "mimetype": "text/x-python",
   "name": "python",
   "nbconvert_exporter": "python",
   "pygments_lexer": "ipython3",
   "version": "3.8.10"
  }
 },
 "nbformat": 4,
 "nbformat_minor": 5
}
