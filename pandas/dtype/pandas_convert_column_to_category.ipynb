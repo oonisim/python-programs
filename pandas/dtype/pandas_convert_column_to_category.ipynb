{
 "cells": [
  {
   "cell_type": "markdown",
   "id": "82946132",
   "metadata": {},
   "source": [
    "# Convert column type to categorical"
   ]
  },
  {
   "cell_type": "code",
   "execution_count": 1,
   "id": "10749230",
   "metadata": {},
   "outputs": [],
   "source": [
    "import datetime\n",
    "import pandas as pd"
   ]
  },
  {
   "cell_type": "markdown",
   "id": "d869a195",
   "metadata": {},
   "source": [
    "# Read Amazon product review CSV"
   ]
  },
  {
   "cell_type": "code",
   "execution_count": 20,
   "id": "86b27fb4",
   "metadata": {},
   "outputs": [
    {
     "data": {
      "text/html": [
       "<div>\n",
       "<style scoped>\n",
       "    .dataframe tbody tr th:only-of-type {\n",
       "        vertical-align: middle;\n",
       "    }\n",
       "\n",
       "    .dataframe tbody tr th {\n",
       "        vertical-align: top;\n",
       "    }\n",
       "\n",
       "    .dataframe thead th {\n",
       "        text-align: right;\n",
       "    }\n",
       "</style>\n",
       "<table border=\"1\" class=\"dataframe\">\n",
       "  <thead>\n",
       "    <tr style=\"text-align: right;\">\n",
       "      <th></th>\n",
       "      <th>marketplace</th>\n",
       "      <th>review_id</th>\n",
       "      <th>product_title</th>\n",
       "      <th>star_rating</th>\n",
       "      <th>review_date</th>\n",
       "    </tr>\n",
       "  </thead>\n",
       "  <tbody>\n",
       "    <tr>\n",
       "      <th>0</th>\n",
       "      <td>US</td>\n",
       "      <td>RSH1OZ87OYK92</td>\n",
       "      <td>Madden NFL 16 - Xbox One Digital Code</td>\n",
       "      <td>2</td>\n",
       "      <td>2015-08-31</td>\n",
       "    </tr>\n",
       "    <tr>\n",
       "      <th>1</th>\n",
       "      <td>US</td>\n",
       "      <td>R1WFOQ3N9BO65I</td>\n",
       "      <td>Xbox Live Gift Card</td>\n",
       "      <td>5</td>\n",
       "      <td>2015-08-31</td>\n",
       "    </tr>\n",
       "    <tr>\n",
       "      <th>2</th>\n",
       "      <td>US</td>\n",
       "      <td>R3YOOS71KM5M9</td>\n",
       "      <td>Command &amp; Conquer The Ultimate Collection [Ins...</td>\n",
       "      <td>5</td>\n",
       "      <td>2015-08-31</td>\n",
       "    </tr>\n",
       "    <tr>\n",
       "      <th>3</th>\n",
       "      <td>US</td>\n",
       "      <td>R3R14UATT3OUFU</td>\n",
       "      <td>Playstation Plus Subscription</td>\n",
       "      <td>5</td>\n",
       "      <td>2015-08-31</td>\n",
       "    </tr>\n",
       "    <tr>\n",
       "      <th>4</th>\n",
       "      <td>US</td>\n",
       "      <td>RV2W9SGDNQA2C</td>\n",
       "      <td>Saints Row IV - Enter The Dominatrix [Online G...</td>\n",
       "      <td>5</td>\n",
       "      <td>2015-08-31</td>\n",
       "    </tr>\n",
       "    <tr>\n",
       "      <th>5</th>\n",
       "      <td>US</td>\n",
       "      <td>R3CFKLIZ0I2KOB</td>\n",
       "      <td>Double Dragon: Neon [Online Game Code]</td>\n",
       "      <td>5</td>\n",
       "      <td>2015-08-31</td>\n",
       "    </tr>\n",
       "    <tr>\n",
       "      <th>6</th>\n",
       "      <td>US</td>\n",
       "      <td>R1LRYU1V0T3O38</td>\n",
       "      <td>Sims 4</td>\n",
       "      <td>4</td>\n",
       "      <td>2015-08-31</td>\n",
       "    </tr>\n",
       "    <tr>\n",
       "      <th>7</th>\n",
       "      <td>US</td>\n",
       "      <td>R44QKV6FE5CJ2</td>\n",
       "      <td>Playstation Network Card</td>\n",
       "      <td>5</td>\n",
       "      <td>2015-08-31</td>\n",
       "    </tr>\n",
       "    <tr>\n",
       "      <th>8</th>\n",
       "      <td>US</td>\n",
       "      <td>R2TX1KLPXXXNYS</td>\n",
       "      <td>Playstation Network Card</td>\n",
       "      <td>5</td>\n",
       "      <td>2015-08-31</td>\n",
       "    </tr>\n",
       "    <tr>\n",
       "      <th>9</th>\n",
       "      <td>US</td>\n",
       "      <td>R1JEEW4C6R89BA</td>\n",
       "      <td>Playstation Network Card</td>\n",
       "      <td>5</td>\n",
       "      <td>2015-08-31</td>\n",
       "    </tr>\n",
       "  </tbody>\n",
       "</table>\n",
       "</div>"
      ],
      "text/plain": [
       "  marketplace       review_id  \\\n",
       "0          US   RSH1OZ87OYK92   \n",
       "1          US  R1WFOQ3N9BO65I   \n",
       "2          US   R3YOOS71KM5M9   \n",
       "3          US  R3R14UATT3OUFU   \n",
       "4          US   RV2W9SGDNQA2C   \n",
       "5          US  R3CFKLIZ0I2KOB   \n",
       "6          US  R1LRYU1V0T3O38   \n",
       "7          US   R44QKV6FE5CJ2   \n",
       "8          US  R2TX1KLPXXXNYS   \n",
       "9          US  R1JEEW4C6R89BA   \n",
       "\n",
       "                                       product_title  star_rating review_date  \n",
       "0              Madden NFL 16 - Xbox One Digital Code            2  2015-08-31  \n",
       "1                                Xbox Live Gift Card            5  2015-08-31  \n",
       "2  Command & Conquer The Ultimate Collection [Ins...            5  2015-08-31  \n",
       "3                      Playstation Plus Subscription            5  2015-08-31  \n",
       "4  Saints Row IV - Enter The Dominatrix [Online G...            5  2015-08-31  \n",
       "5             Double Dragon: Neon [Online Game Code]            5  2015-08-31  \n",
       "6                                             Sims 4            4  2015-08-31  \n",
       "7                           Playstation Network Card            5  2015-08-31  \n",
       "8                           Playstation Network Card            5  2015-08-31  \n",
       "9                           Playstation Network Card            5  2015-08-31  "
      ]
     },
     "execution_count": 20,
     "metadata": {},
     "output_type": "execute_result"
    }
   ],
   "source": [
    "df = pd.read_csv(\n",
    "    \"../data/amazon_product_review_sample.csv\",\n",
    "    usecols=[\"marketplace\", \"review_id\", \"product_title\", \"star_rating\", \"review_date\"],\n",
    "    parse_dates=['review_date']\n",
    ")\n",
    "df"
   ]
  },
  {
   "cell_type": "code",
   "execution_count": 15,
   "id": "bab88068",
   "metadata": {},
   "outputs": [
    {
     "data": {
      "text/plain": [
       "marketplace              object\n",
       "review_id                object\n",
       "product_title            object\n",
       "star_rating               int64\n",
       "review_date      datetime64[ns]\n",
       "dtype: object"
      ]
     },
     "execution_count": 15,
     "metadata": {},
     "output_type": "execute_result"
    }
   ],
   "source": [
    "df.dtypes"
   ]
  },
  {
   "cell_type": "markdown",
   "id": "36ee570d",
   "metadata": {},
   "source": [
    "# Convert multiple columns to categorical"
   ]
  },
  {
   "cell_type": "code",
   "execution_count": 17,
   "id": "bf24b45b",
   "metadata": {},
   "outputs": [],
   "source": [
    "columns = ['marketplace', 'star_rating']\n",
    "df[columns] = df[columns].astype(\"category\")"
   ]
  },
  {
   "cell_type": "code",
   "execution_count": 18,
   "id": "c66949c0",
   "metadata": {},
   "outputs": [
    {
     "data": {
      "text/plain": [
       "marketplace            category\n",
       "review_id                object\n",
       "product_title            object\n",
       "star_rating            category\n",
       "review_date      datetime64[ns]\n",
       "dtype: object"
      ]
     },
     "execution_count": 18,
     "metadata": {},
     "output_type": "execute_result"
    }
   ],
   "source": [
    "df.dtypes"
   ]
  },
  {
   "cell_type": "code",
   "execution_count": 9,
   "id": "8398ebcd",
   "metadata": {},
   "outputs": [
    {
     "data": {
      "text/html": [
       "<div>\n",
       "<style scoped>\n",
       "    .dataframe tbody tr th:only-of-type {\n",
       "        vertical-align: middle;\n",
       "    }\n",
       "\n",
       "    .dataframe tbody tr th {\n",
       "        vertical-align: top;\n",
       "    }\n",
       "\n",
       "    .dataframe thead th {\n",
       "        text-align: right;\n",
       "    }\n",
       "</style>\n",
       "<table border=\"1\" class=\"dataframe\">\n",
       "  <thead>\n",
       "    <tr style=\"text-align: right;\">\n",
       "      <th></th>\n",
       "      <th>marketplace</th>\n",
       "      <th>review_id</th>\n",
       "      <th>product_title</th>\n",
       "      <th>star_rating</th>\n",
       "      <th>review_date</th>\n",
       "    </tr>\n",
       "  </thead>\n",
       "  <tbody>\n",
       "    <tr>\n",
       "      <th>0</th>\n",
       "      <td>US</td>\n",
       "      <td>RSH1OZ87OYK92</td>\n",
       "      <td>Madden NFL 16 - Xbox One Digital Code</td>\n",
       "      <td>2</td>\n",
       "      <td>2015-08-31</td>\n",
       "    </tr>\n",
       "    <tr>\n",
       "      <th>1</th>\n",
       "      <td>US</td>\n",
       "      <td>R1WFOQ3N9BO65I</td>\n",
       "      <td>Xbox Live Gift Card</td>\n",
       "      <td>5</td>\n",
       "      <td>2015-08-31</td>\n",
       "    </tr>\n",
       "    <tr>\n",
       "      <th>2</th>\n",
       "      <td>US</td>\n",
       "      <td>R3YOOS71KM5M9</td>\n",
       "      <td>Command &amp; Conquer The Ultimate Collection [Ins...</td>\n",
       "      <td>5</td>\n",
       "      <td>2015-08-31</td>\n",
       "    </tr>\n",
       "    <tr>\n",
       "      <th>3</th>\n",
       "      <td>US</td>\n",
       "      <td>R3R14UATT3OUFU</td>\n",
       "      <td>Playstation Plus Subscription</td>\n",
       "      <td>5</td>\n",
       "      <td>2015-08-31</td>\n",
       "    </tr>\n",
       "    <tr>\n",
       "      <th>4</th>\n",
       "      <td>US</td>\n",
       "      <td>RV2W9SGDNQA2C</td>\n",
       "      <td>Saints Row IV - Enter The Dominatrix [Online G...</td>\n",
       "      <td>5</td>\n",
       "      <td>2015-08-31</td>\n",
       "    </tr>\n",
       "  </tbody>\n",
       "</table>\n",
       "</div>"
      ],
      "text/plain": [
       "  marketplace       review_id  \\\n",
       "0          US   RSH1OZ87OYK92   \n",
       "1          US  R1WFOQ3N9BO65I   \n",
       "2          US   R3YOOS71KM5M9   \n",
       "3          US  R3R14UATT3OUFU   \n",
       "4          US   RV2W9SGDNQA2C   \n",
       "\n",
       "                                       product_title star_rating review_date  \n",
       "0              Madden NFL 16 - Xbox One Digital Code           2  2015-08-31  \n",
       "1                                Xbox Live Gift Card           5  2015-08-31  \n",
       "2  Command & Conquer The Ultimate Collection [Ins...           5  2015-08-31  \n",
       "3                      Playstation Plus Subscription           5  2015-08-31  \n",
       "4  Saints Row IV - Enter The Dominatrix [Online G...           5  2015-08-31  "
      ]
     },
     "execution_count": 9,
     "metadata": {},
     "output_type": "execute_result"
    }
   ],
   "source": [
    "df.head()"
   ]
  },
  {
   "cell_type": "code",
   "execution_count": null,
   "id": "8923b839",
   "metadata": {},
   "outputs": [],
   "source": []
  }
 ],
 "metadata": {
  "kernelspec": {
   "display_name": "Python 3 (ipykernel)",
   "language": "python",
   "name": "python3"
  },
  "language_info": {
   "codemirror_mode": {
    "name": "ipython",
    "version": 3
   },
   "file_extension": ".py",
   "mimetype": "text/x-python",
   "name": "python",
   "nbconvert_exporter": "python",
   "pygments_lexer": "ipython3",
   "version": "3.9.13"
  }
 },
 "nbformat": 4,
 "nbformat_minor": 5
}
