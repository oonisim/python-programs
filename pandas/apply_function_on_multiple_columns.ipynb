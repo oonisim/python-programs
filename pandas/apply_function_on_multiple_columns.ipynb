{
 "cells": [
  {
   "cell_type": "markdown",
   "metadata": {},
   "source": [
    "# Pandas - Apply function on multiple columns in a row\n",
    "\n",
    "* [Find euclidean / cosine distance between a tensor and all tensors stored in a column of dataframe efficently\n",
    "](https://stackoverflow.com/a/67658411/4281353)"
   ]
  },
  {
   "cell_type": "code",
   "execution_count": 6,
   "id": "sitting-importance",
   "metadata": {},
   "outputs": [],
   "source": [
    "import numpy as np\n",
    "import tensorflow as tf\n",
    "import pandas as pd"
   ]
  },
  {
   "cell_type": "code",
   "execution_count": 5,
   "id": "52fbb893",
   "metadata": {},
   "outputs": [
    {
     "data": {
      "text/plain": [
       "0.6643638388299198"
      ]
     },
     "execution_count": 5,
     "metadata": {},
     "output_type": "execute_result"
    }
   ],
   "source": [
    "A = np.array([0.8, 0.9])\n",
    "B = np.array([1.0, 0.0])\n",
    "\n",
    "EA = np.linalg.norm(A)\n",
    "EB = np.linalg.norm(B)\n",
    "NA = A / EA\n",
    "NB = B / EB\n",
    "\n",
    "COS_A_B = np.dot(NA, NB)\n",
    "COS_A_B"
   ]
  },
  {
   "cell_type": "code",
   "execution_count": 52,
   "metadata": {},
   "outputs": [
    {
     "data": {
      "text/html": [
       "<div>\n",
       "<style scoped>\n",
       "    .dataframe tbody tr th:only-of-type {\n",
       "        vertical-align: middle;\n",
       "    }\n",
       "\n",
       "    .dataframe tbody tr th {\n",
       "        vertical-align: top;\n",
       "    }\n",
       "\n",
       "    .dataframe thead th {\n",
       "        text-align: right;\n",
       "    }\n",
       "</style>\n",
       "<table border=\"1\" class=\"dataframe\">\n",
       "  <thead>\n",
       "    <tr style=\"text-align: right;\">\n",
       "      <th></th>\n",
       "      <th>ID</th>\n",
       "      <th>enc_rep</th>\n",
       "    </tr>\n",
       "  </thead>\n",
       "  <tbody>\n",
       "    <tr>\n",
       "      <th>0</th>\n",
       "      <td>1</td>\n",
       "      <td>[0.8, 0.9]</td>\n",
       "    </tr>\n",
       "    <tr>\n",
       "      <th>1</th>\n",
       "      <td>2</td>\n",
       "      <td>[1.0, 0.0]</td>\n",
       "    </tr>\n",
       "    <tr>\n",
       "      <th>2</th>\n",
       "      <td>3</td>\n",
       "      <td>[0.5, 0.3]</td>\n",
       "    </tr>\n",
       "  </tbody>\n",
       "</table>\n",
       "</div>"
      ],
      "text/plain": [
       "  ID     enc_rep\n",
       "0  1  [0.8, 0.9]\n",
       "1  2  [1.0, 0.0]\n",
       "2  3  [0.5, 0.3]"
      ]
     },
     "execution_count": 52,
     "metadata": {},
     "output_type": "execute_result"
    }
   ],
   "source": [
    "C = np.array([0.5, 0.3])\n",
    "\n",
    "df = pd.DataFrame(columns=['ID','enc_rep'])\n",
    "df.loc[0] = [1, A]\n",
    "df.loc[1] = [2, B]\n",
    "df.loc[2] = [3, C]\n",
    "df"
   ]
  },
  {
   "cell_type": "code",
   "execution_count": 56,
   "metadata": {},
   "outputs": [
    {
     "data": {
      "text/html": [
       "<div>\n",
       "<style scoped>\n",
       "    .dataframe tbody tr th:only-of-type {\n",
       "        vertical-align: middle;\n",
       "    }\n",
       "\n",
       "    .dataframe tbody tr th {\n",
       "        vertical-align: top;\n",
       "    }\n",
       "\n",
       "    .dataframe thead th {\n",
       "        text-align: right;\n",
       "    }\n",
       "</style>\n",
       "<table border=\"1\" class=\"dataframe\">\n",
       "  <thead>\n",
       "    <tr style=\"text-align: right;\">\n",
       "      <th></th>\n",
       "      <th>enc_rep_x</th>\n",
       "      <th>enc_rep_y</th>\n",
       "    </tr>\n",
       "  </thead>\n",
       "  <tbody>\n",
       "    <tr>\n",
       "      <th>0</th>\n",
       "      <td>[0.8, 0.9]</td>\n",
       "      <td>[0.8, 0.9]</td>\n",
       "    </tr>\n",
       "    <tr>\n",
       "      <th>1</th>\n",
       "      <td>[0.8, 0.9]</td>\n",
       "      <td>[1.0, 0.0]</td>\n",
       "    </tr>\n",
       "    <tr>\n",
       "      <th>2</th>\n",
       "      <td>[0.8, 0.9]</td>\n",
       "      <td>[0.5, 0.3]</td>\n",
       "    </tr>\n",
       "    <tr>\n",
       "      <th>3</th>\n",
       "      <td>[1.0, 0.0]</td>\n",
       "      <td>[0.8, 0.9]</td>\n",
       "    </tr>\n",
       "    <tr>\n",
       "      <th>4</th>\n",
       "      <td>[1.0, 0.0]</td>\n",
       "      <td>[1.0, 0.0]</td>\n",
       "    </tr>\n",
       "    <tr>\n",
       "      <th>5</th>\n",
       "      <td>[1.0, 0.0]</td>\n",
       "      <td>[0.5, 0.3]</td>\n",
       "    </tr>\n",
       "    <tr>\n",
       "      <th>6</th>\n",
       "      <td>[0.5, 0.3]</td>\n",
       "      <td>[0.8, 0.9]</td>\n",
       "    </tr>\n",
       "    <tr>\n",
       "      <th>7</th>\n",
       "      <td>[0.5, 0.3]</td>\n",
       "      <td>[1.0, 0.0]</td>\n",
       "    </tr>\n",
       "    <tr>\n",
       "      <th>8</th>\n",
       "      <td>[0.5, 0.3]</td>\n",
       "      <td>[0.5, 0.3]</td>\n",
       "    </tr>\n",
       "  </tbody>\n",
       "</table>\n",
       "</div>"
      ],
      "text/plain": [
       "    enc_rep_x   enc_rep_y\n",
       "0  [0.8, 0.9]  [0.8, 0.9]\n",
       "1  [0.8, 0.9]  [1.0, 0.0]\n",
       "2  [0.8, 0.9]  [0.5, 0.3]\n",
       "3  [1.0, 0.0]  [0.8, 0.9]\n",
       "4  [1.0, 0.0]  [1.0, 0.0]\n",
       "5  [1.0, 0.0]  [0.5, 0.3]\n",
       "6  [0.5, 0.3]  [0.8, 0.9]\n",
       "7  [0.5, 0.3]  [1.0, 0.0]\n",
       "8  [0.5, 0.3]  [0.5, 0.3]"
      ]
     },
     "execution_count": 56,
     "metadata": {},
     "output_type": "execute_result"
    }
   ],
   "source": [
    "cartesian_df = df['enc_rep'].to_frame().merge(df['enc_rep'], how='cross')\n",
    "cartesian_df"
   ]
  },
  {
   "cell_type": "code",
   "execution_count": 57,
   "metadata": {},
   "outputs": [],
   "source": [
    "def f(x, y):\n",
    "    nx = x / np.linalg.norm(x)\n",
    "    ny = y / np.linalg.norm(y)\n",
    "    return np.dot(nx, ny)"
   ]
  },
  {
   "cell_type": "code",
   "execution_count": 59,
   "metadata": {},
   "outputs": [
    {
     "data": {
      "text/html": [
       "<div>\n",
       "<style scoped>\n",
       "    .dataframe tbody tr th:only-of-type {\n",
       "        vertical-align: middle;\n",
       "    }\n",
       "\n",
       "    .dataframe tbody tr th {\n",
       "        vertical-align: top;\n",
       "    }\n",
       "\n",
       "    .dataframe thead th {\n",
       "        text-align: right;\n",
       "    }\n",
       "</style>\n",
       "<table border=\"1\" class=\"dataframe\">\n",
       "  <thead>\n",
       "    <tr style=\"text-align: right;\">\n",
       "      <th></th>\n",
       "      <th>enc_rep_x</th>\n",
       "      <th>enc_rep_y</th>\n",
       "      <th>cosine</th>\n",
       "    </tr>\n",
       "  </thead>\n",
       "  <tbody>\n",
       "    <tr>\n",
       "      <th>0</th>\n",
       "      <td>[0.8, 0.9]</td>\n",
       "      <td>[0.8, 0.9]</td>\n",
       "      <td>1.000000</td>\n",
       "    </tr>\n",
       "    <tr>\n",
       "      <th>1</th>\n",
       "      <td>[0.8, 0.9]</td>\n",
       "      <td>[1.0, 0.0]</td>\n",
       "      <td>0.664364</td>\n",
       "    </tr>\n",
       "    <tr>\n",
       "      <th>2</th>\n",
       "      <td>[0.8, 0.9]</td>\n",
       "      <td>[0.5, 0.3]</td>\n",
       "      <td>0.954226</td>\n",
       "    </tr>\n",
       "    <tr>\n",
       "      <th>3</th>\n",
       "      <td>[1.0, 0.0]</td>\n",
       "      <td>[0.8, 0.9]</td>\n",
       "      <td>0.664364</td>\n",
       "    </tr>\n",
       "    <tr>\n",
       "      <th>4</th>\n",
       "      <td>[1.0, 0.0]</td>\n",
       "      <td>[1.0, 0.0]</td>\n",
       "      <td>1.000000</td>\n",
       "    </tr>\n",
       "    <tr>\n",
       "      <th>5</th>\n",
       "      <td>[1.0, 0.0]</td>\n",
       "      <td>[0.5, 0.3]</td>\n",
       "      <td>0.857493</td>\n",
       "    </tr>\n",
       "    <tr>\n",
       "      <th>6</th>\n",
       "      <td>[0.5, 0.3]</td>\n",
       "      <td>[0.8, 0.9]</td>\n",
       "      <td>0.954226</td>\n",
       "    </tr>\n",
       "    <tr>\n",
       "      <th>7</th>\n",
       "      <td>[0.5, 0.3]</td>\n",
       "      <td>[1.0, 0.0]</td>\n",
       "      <td>0.857493</td>\n",
       "    </tr>\n",
       "    <tr>\n",
       "      <th>8</th>\n",
       "      <td>[0.5, 0.3]</td>\n",
       "      <td>[0.5, 0.3]</td>\n",
       "      <td>1.000000</td>\n",
       "    </tr>\n",
       "  </tbody>\n",
       "</table>\n",
       "</div>"
      ],
      "text/plain": [
       "    enc_rep_x   enc_rep_y    cosine\n",
       "0  [0.8, 0.9]  [0.8, 0.9]  1.000000\n",
       "1  [0.8, 0.9]  [1.0, 0.0]  0.664364\n",
       "2  [0.8, 0.9]  [0.5, 0.3]  0.954226\n",
       "3  [1.0, 0.0]  [0.8, 0.9]  0.664364\n",
       "4  [1.0, 0.0]  [1.0, 0.0]  1.000000\n",
       "5  [1.0, 0.0]  [0.5, 0.3]  0.857493\n",
       "6  [0.5, 0.3]  [0.8, 0.9]  0.954226\n",
       "7  [0.5, 0.3]  [1.0, 0.0]  0.857493\n",
       "8  [0.5, 0.3]  [0.5, 0.3]  1.000000"
      ]
     },
     "execution_count": 59,
     "metadata": {},
     "output_type": "execute_result"
    }
   ],
   "source": [
    "cartesian_df['cosine'] = cartesian_df.apply(lambda row: f(row.enc_rep_x, row.enc_rep_y), axis=1)\n",
    "cartesian_df"
   ]
  }
 ],
 "metadata": {
  "kernelspec": {
   "display_name": "Python 3",
   "language": "python",
   "name": "python3"
  },
  "language_info": {
   "codemirror_mode": {
    "name": "ipython",
    "version": 3
   },
   "file_extension": ".py",
   "mimetype": "text/x-python",
   "name": "python",
   "nbconvert_exporter": "python",
   "pygments_lexer": "ipython3",
   "version": "3.8.5"
  }
 },
 "nbformat": 4,
 "nbformat_minor": 5
}
