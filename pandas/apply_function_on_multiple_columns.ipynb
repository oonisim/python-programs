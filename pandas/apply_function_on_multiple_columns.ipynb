{
 "cells": [
  {
   "cell_type": "markdown",
   "id": "a3c735cf",
   "metadata": {},
   "source": [
    "# Pandas - Apply function on multiple columns in a row\n",
    "\n",
    "* [Find euclidean / cosine distance between a tensor and all tensors stored in a column of dataframe efficently\n",
    "](https://stackoverflow.com/a/67658411/4281353)"
   ]
  },
  {
   "cell_type": "code",
   "execution_count": 1,
   "id": "sitting-importance",
   "metadata": {},
   "outputs": [
    {
     "name": "stderr",
     "output_type": "stream",
     "text": [
      "2022-02-23 17:44:33.982166: W tensorflow/stream_executor/platform/default/dso_loader.cc:64] Could not load dynamic library 'libcudart.so.11.0'; dlerror: libcudart.so.11.0: cannot open shared object file: No such file or directory\n",
      "2022-02-23 17:44:33.982220: I tensorflow/stream_executor/cuda/cudart_stub.cc:29] Ignore above cudart dlerror if you do not have a GPU set up on your machine.\n"
     ]
    }
   ],
   "source": [
    "import numpy as np\n",
    "import tensorflow as tf\n",
    "import pandas as pd"
   ]
  },
  {
   "cell_type": "code",
   "execution_count": 2,
   "id": "52fbb893",
   "metadata": {},
   "outputs": [
    {
     "data": {
      "text/plain": [
       "0.6643638388299198"
      ]
     },
     "execution_count": 2,
     "metadata": {},
     "output_type": "execute_result"
    }
   ],
   "source": [
    "A = np.array([0.8, 0.9])\n",
    "B = np.array([1.0, 0.0])\n",
    "\n",
    "EA = np.linalg.norm(A)\n",
    "EB = np.linalg.norm(B)\n",
    "NA = A / EA\n",
    "NB = B / EB\n",
    "\n",
    "COS_A_B = np.dot(NA, NB)\n",
    "COS_A_B"
   ]
  },
  {
   "cell_type": "code",
   "execution_count": 3,
   "id": "3671620d",
   "metadata": {},
   "outputs": [
    {
     "data": {
      "text/html": [
       "<div>\n",
       "<style scoped>\n",
       "    .dataframe tbody tr th:only-of-type {\n",
       "        vertical-align: middle;\n",
       "    }\n",
       "\n",
       "    .dataframe tbody tr th {\n",
       "        vertical-align: top;\n",
       "    }\n",
       "\n",
       "    .dataframe thead th {\n",
       "        text-align: right;\n",
       "    }\n",
       "</style>\n",
       "<table border=\"1\" class=\"dataframe\">\n",
       "  <thead>\n",
       "    <tr style=\"text-align: right;\">\n",
       "      <th></th>\n",
       "      <th>ID</th>\n",
       "      <th>enc_rep</th>\n",
       "    </tr>\n",
       "  </thead>\n",
       "  <tbody>\n",
       "    <tr>\n",
       "      <th>0</th>\n",
       "      <td>1</td>\n",
       "      <td>[0.8, 0.9]</td>\n",
       "    </tr>\n",
       "    <tr>\n",
       "      <th>1</th>\n",
       "      <td>2</td>\n",
       "      <td>[1.0, 0.0]</td>\n",
       "    </tr>\n",
       "    <tr>\n",
       "      <th>2</th>\n",
       "      <td>3</td>\n",
       "      <td>[0.5, 0.3]</td>\n",
       "    </tr>\n",
       "  </tbody>\n",
       "</table>\n",
       "</div>"
      ],
      "text/plain": [
       "  ID     enc_rep\n",
       "0  1  [0.8, 0.9]\n",
       "1  2  [1.0, 0.0]\n",
       "2  3  [0.5, 0.3]"
      ]
     },
     "execution_count": 3,
     "metadata": {},
     "output_type": "execute_result"
    }
   ],
   "source": [
    "C = np.array([0.5, 0.3])\n",
    "\n",
    "df = pd.DataFrame(columns=['ID','enc_rep'])\n",
    "df.loc[0] = [1, A]\n",
    "df.loc[1] = [2, B]\n",
    "df.loc[2] = [3, C]\n",
    "df"
   ]
  },
  {
   "cell_type": "code",
   "execution_count": 19,
   "id": "225b8578",
   "metadata": {},
   "outputs": [
    {
     "data": {
      "text/html": [
       "<div>\n",
       "<style scoped>\n",
       "    .dataframe tbody tr th:only-of-type {\n",
       "        vertical-align: middle;\n",
       "    }\n",
       "\n",
       "    .dataframe tbody tr th {\n",
       "        vertical-align: top;\n",
       "    }\n",
       "\n",
       "    .dataframe thead th {\n",
       "        text-align: right;\n",
       "    }\n",
       "</style>\n",
       "<table border=\"1\" class=\"dataframe\">\n",
       "  <thead>\n",
       "    <tr style=\"text-align: right;\">\n",
       "      <th></th>\n",
       "      <th>enc_rep_x</th>\n",
       "      <th>enc_rep_y</th>\n",
       "    </tr>\n",
       "  </thead>\n",
       "  <tbody>\n",
       "    <tr>\n",
       "      <th>0</th>\n",
       "      <td>[0.8, 0.9]</td>\n",
       "      <td>[0.8, 0.9]</td>\n",
       "    </tr>\n",
       "    <tr>\n",
       "      <th>1</th>\n",
       "      <td>[0.8, 0.9]</td>\n",
       "      <td>[1.0, 0.0]</td>\n",
       "    </tr>\n",
       "    <tr>\n",
       "      <th>2</th>\n",
       "      <td>[0.8, 0.9]</td>\n",
       "      <td>[0.5, 0.3]</td>\n",
       "    </tr>\n",
       "    <tr>\n",
       "      <th>3</th>\n",
       "      <td>[1.0, 0.0]</td>\n",
       "      <td>[0.8, 0.9]</td>\n",
       "    </tr>\n",
       "    <tr>\n",
       "      <th>4</th>\n",
       "      <td>[1.0, 0.0]</td>\n",
       "      <td>[1.0, 0.0]</td>\n",
       "    </tr>\n",
       "    <tr>\n",
       "      <th>5</th>\n",
       "      <td>[1.0, 0.0]</td>\n",
       "      <td>[0.5, 0.3]</td>\n",
       "    </tr>\n",
       "    <tr>\n",
       "      <th>6</th>\n",
       "      <td>[0.5, 0.3]</td>\n",
       "      <td>[0.8, 0.9]</td>\n",
       "    </tr>\n",
       "    <tr>\n",
       "      <th>7</th>\n",
       "      <td>[0.5, 0.3]</td>\n",
       "      <td>[1.0, 0.0]</td>\n",
       "    </tr>\n",
       "    <tr>\n",
       "      <th>8</th>\n",
       "      <td>[0.5, 0.3]</td>\n",
       "      <td>[0.5, 0.3]</td>\n",
       "    </tr>\n",
       "  </tbody>\n",
       "</table>\n",
       "</div>"
      ],
      "text/plain": [
       "    enc_rep_x   enc_rep_y\n",
       "0  [0.8, 0.9]  [0.8, 0.9]\n",
       "1  [0.8, 0.9]  [1.0, 0.0]\n",
       "2  [0.8, 0.9]  [0.5, 0.3]\n",
       "3  [1.0, 0.0]  [0.8, 0.9]\n",
       "4  [1.0, 0.0]  [1.0, 0.0]\n",
       "5  [1.0, 0.0]  [0.5, 0.3]\n",
       "6  [0.5, 0.3]  [0.8, 0.9]\n",
       "7  [0.5, 0.3]  [1.0, 0.0]\n",
       "8  [0.5, 0.3]  [0.5, 0.3]"
      ]
     },
     "execution_count": 19,
     "metadata": {},
     "output_type": "execute_result"
    }
   ],
   "source": [
    "cartesian_df = df['enc_rep'].to_frame().merge(df['enc_rep'], how='cross')\n",
    "cartesian_df"
   ]
  },
  {
   "cell_type": "markdown",
   "id": "5aad5e63",
   "metadata": {},
   "source": [
    "# Multiply columns"
   ]
  },
  {
   "cell_type": "code",
   "execution_count": 24,
   "id": "cf97bedd",
   "metadata": {},
   "outputs": [
    {
     "name": "stdout",
     "output_type": "stream",
     "text": [
      "CPU times: user 1.2 ms, sys: 195 µs, total: 1.4 ms\n",
      "Wall time: 1.42 ms\n"
     ]
    },
    {
     "data": {
      "text/plain": [
       "0    [0.6400000000000001, 0.81]\n",
       "1                    [0.8, 0.0]\n",
       "2                   [0.4, 0.27]\n",
       "3                    [0.8, 0.0]\n",
       "4                    [1.0, 0.0]\n",
       "5                    [0.5, 0.0]\n",
       "6                   [0.4, 0.27]\n",
       "7                    [0.5, 0.0]\n",
       "8                  [0.25, 0.09]\n",
       "dtype: object"
      ]
     },
     "execution_count": 24,
     "metadata": {},
     "output_type": "execute_result"
    }
   ],
   "source": [
    "%%time\n",
    "cartesian_df.apply(lambda row: row['enc_rep_x'] * row['enc_rep_y'], axis=1)"
   ]
  },
  {
   "cell_type": "markdown",
   "id": "97f8546c",
   "metadata": {},
   "source": [
    "# Dot product of vectors (consine similarity)"
   ]
  },
  {
   "cell_type": "code",
   "execution_count": 33,
   "id": "3e435d42",
   "metadata": {},
   "outputs": [],
   "source": [
    "def f(x, y):\n",
    "    # Normalize the vector length\n",
    "    nx = x / np.linalg.norm(x)\n",
    "    ny = y / np.linalg.norm(y)\n",
    "    \n",
    "    # Cosine similarity\n",
    "    return np.dot(nx, ny)"
   ]
  },
  {
   "cell_type": "code",
   "execution_count": 20,
   "id": "3cf1489b",
   "metadata": {},
   "outputs": [
    {
     "data": {
      "text/html": [
       "<div>\n",
       "<style scoped>\n",
       "    .dataframe tbody tr th:only-of-type {\n",
       "        vertical-align: middle;\n",
       "    }\n",
       "\n",
       "    .dataframe tbody tr th {\n",
       "        vertical-align: top;\n",
       "    }\n",
       "\n",
       "    .dataframe thead th {\n",
       "        text-align: right;\n",
       "    }\n",
       "</style>\n",
       "<table border=\"1\" class=\"dataframe\">\n",
       "  <thead>\n",
       "    <tr style=\"text-align: right;\">\n",
       "      <th></th>\n",
       "      <th>enc_rep_x</th>\n",
       "      <th>enc_rep_y</th>\n",
       "      <th>cosine</th>\n",
       "    </tr>\n",
       "  </thead>\n",
       "  <tbody>\n",
       "    <tr>\n",
       "      <th>0</th>\n",
       "      <td>[0.8, 0.9]</td>\n",
       "      <td>[0.8, 0.9]</td>\n",
       "      <td>1.000000</td>\n",
       "    </tr>\n",
       "    <tr>\n",
       "      <th>1</th>\n",
       "      <td>[0.8, 0.9]</td>\n",
       "      <td>[1.0, 0.0]</td>\n",
       "      <td>0.664364</td>\n",
       "    </tr>\n",
       "    <tr>\n",
       "      <th>2</th>\n",
       "      <td>[0.8, 0.9]</td>\n",
       "      <td>[0.5, 0.3]</td>\n",
       "      <td>0.954226</td>\n",
       "    </tr>\n",
       "    <tr>\n",
       "      <th>3</th>\n",
       "      <td>[1.0, 0.0]</td>\n",
       "      <td>[0.8, 0.9]</td>\n",
       "      <td>0.664364</td>\n",
       "    </tr>\n",
       "    <tr>\n",
       "      <th>4</th>\n",
       "      <td>[1.0, 0.0]</td>\n",
       "      <td>[1.0, 0.0]</td>\n",
       "      <td>1.000000</td>\n",
       "    </tr>\n",
       "    <tr>\n",
       "      <th>5</th>\n",
       "      <td>[1.0, 0.0]</td>\n",
       "      <td>[0.5, 0.3]</td>\n",
       "      <td>0.857493</td>\n",
       "    </tr>\n",
       "    <tr>\n",
       "      <th>6</th>\n",
       "      <td>[0.5, 0.3]</td>\n",
       "      <td>[0.8, 0.9]</td>\n",
       "      <td>0.954226</td>\n",
       "    </tr>\n",
       "    <tr>\n",
       "      <th>7</th>\n",
       "      <td>[0.5, 0.3]</td>\n",
       "      <td>[1.0, 0.0]</td>\n",
       "      <td>0.857493</td>\n",
       "    </tr>\n",
       "    <tr>\n",
       "      <th>8</th>\n",
       "      <td>[0.5, 0.3]</td>\n",
       "      <td>[0.5, 0.3]</td>\n",
       "      <td>1.000000</td>\n",
       "    </tr>\n",
       "  </tbody>\n",
       "</table>\n",
       "</div>"
      ],
      "text/plain": [
       "    enc_rep_x   enc_rep_y    cosine\n",
       "0  [0.8, 0.9]  [0.8, 0.9]  1.000000\n",
       "1  [0.8, 0.9]  [1.0, 0.0]  0.664364\n",
       "2  [0.8, 0.9]  [0.5, 0.3]  0.954226\n",
       "3  [1.0, 0.0]  [0.8, 0.9]  0.664364\n",
       "4  [1.0, 0.0]  [1.0, 0.0]  1.000000\n",
       "5  [1.0, 0.0]  [0.5, 0.3]  0.857493\n",
       "6  [0.5, 0.3]  [0.8, 0.9]  0.954226\n",
       "7  [0.5, 0.3]  [1.0, 0.0]  0.857493\n",
       "8  [0.5, 0.3]  [0.5, 0.3]  1.000000"
      ]
     },
     "execution_count": 20,
     "metadata": {},
     "output_type": "execute_result"
    }
   ],
   "source": [
    "cartesian_df['cosine'] = cartesian_df.apply(lambda row: f(row.enc_rep_x, row.enc_rep_y), axis=1)\n",
    "cartesian_df"
   ]
  },
  {
   "cell_type": "code",
   "execution_count": null,
   "id": "0e37c02a",
   "metadata": {},
   "outputs": [],
   "source": []
  }
 ],
 "metadata": {
  "kernelspec": {
   "display_name": "Python 3 (ipykernel)",
   "language": "python",
   "name": "python3"
  },
  "language_info": {
   "codemirror_mode": {
    "name": "ipython",
    "version": 3
   },
   "file_extension": ".py",
   "mimetype": "text/x-python",
   "name": "python",
   "nbconvert_exporter": "python",
   "pygments_lexer": "ipython3",
   "version": "3.8.10"
  }
 },
 "nbformat": 4,
 "nbformat_minor": 5
}
