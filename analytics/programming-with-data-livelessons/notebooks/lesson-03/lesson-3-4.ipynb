{
 "cells": [
  {
   "cell_type": "code",
   "execution_count": 1,
   "metadata": {},
   "outputs": [],
   "source": [
    "import numpy as np\n",
    "import pandas as pd"
   ]
  },
  {
   "cell_type": "code",
   "execution_count": 2,
   "metadata": {},
   "outputs": [],
   "source": [
    "iris = pd.read_csv('iris.csv')"
   ]
  },
  {
   "cell_type": "code",
   "execution_count": 3,
   "metadata": {},
   "outputs": [],
   "source": [
    "iris.to_csv('iris_1.csv', index=False)"
   ]
  },
  {
   "cell_type": "code",
   "execution_count": 4,
   "metadata": {},
   "outputs": [
    {
     "name": "stdout",
     "output_type": "stream",
     "text": [
      "sepal_length,sepal_width,petal_length,petal_width,species\n",
      "5.1,3.5,1.4,0.2,setosa\n",
      "4.9,3.0,1.4,0.2,setosa\n",
      "4.7,3.2,1.3,0.2,setosa\n",
      "4.6,3.1,1.5,0.2,setosa\n"
     ]
    }
   ],
   "source": [
    "!head -n 5 iris_1.csv"
   ]
  },
  {
   "cell_type": "code",
   "execution_count": 5,
   "metadata": {},
   "outputs": [],
   "source": [
    "iris.to_csv('iris_2.csv')"
   ]
  },
  {
   "cell_type": "code",
   "execution_count": 6,
   "metadata": {},
   "outputs": [
    {
     "name": "stdout",
     "output_type": "stream",
     "text": [
      ",sepal_length,sepal_width,petal_length,petal_width,species\n",
      "0,5.1,3.5,1.4,0.2,setosa\n",
      "1,4.9,3.0,1.4,0.2,setosa\n",
      "2,4.7,3.2,1.3,0.2,setosa\n",
      "3,4.6,3.1,1.5,0.2,setosa\n"
     ]
    }
   ],
   "source": [
    "!head -n 5 iris_2.csv"
   ]
  },
  {
   "cell_type": "code",
   "execution_count": 7,
   "metadata": {},
   "outputs": [],
   "source": [
    "iris.to_csv('iris_2.csv.gz', index=False, compression='gzip')"
   ]
  },
  {
   "cell_type": "code",
   "execution_count": 8,
   "metadata": {},
   "outputs": [
    {
     "name": "stdout",
     "output_type": "stream",
     "text": [
      "\u001a\u001b����.�\u0012���N�o����j�#\u000e��shYw��K��4M~!��t�O��NTJ\\\t��9�_>���GL�\u000ex���B\u0015x�q�r`�\tBM��͸��\u0013�*{��Z\u0010��\u0017b�~�_nXm\u001aW\u0002��\"�b������~{y{�|��\u0012�^����}����\u001f\u0014�U��:v5��\".�Q�\u000b",
      "��ٛG��4���Ʈ\u001bvs�]�\n",
      ".��yFLt%RQ�_'�\u0005:Wj�\"G\u0000�+4�\u0018Y�.�ǬY��\u0011��eSF�2���\u0015��0��\\/\u0017�e����x�L\u0019I*\\D\u001d",
      "e��\u0011}�Gԡ�����)C\u0007\\h�*}��ؘ(���e�\u0012�\u0002X���(�\u0015\u0016?�}�ơü\u0016\u0000�ت'j�����ؒ/�l$�TE�)g9�(We)��@�\u0012�:\f",
      "z�w��2�]Y\u0000��2\u0003f��*Q�F���j�Y�EV\u000f�έL~��*��a)6�\u0012��ό半�n\u0014��1�|����<ϟ��O�\"4Q?bq����:�UyHbj��\u0019���woF�#I\"��b8O�4�<�����)&����'[[ژ��<(\u001c",
      "�� �\u001f\u001e",
      "�)*�F\u0005����<�A��+`��x#�\u000f�q��xR�twh|���h\u000ev���\u0018�p�x\u001a��\u0019\u0015\u0004��\"�����\u001b�n>�+�Ƥ�Vj�XX�\u0007���\u0013D!YyP��߅k\\*d�I��*�C��c>4Ό�i\u0010��A;�'��ډ\u000b",
      "�d��^�K\f",
      "�\n"
     ]
    }
   ],
   "source": [
    "!head -n 2 iris_2.csv.gz"
   ]
  },
  {
   "cell_type": "code",
   "execution_count": null,
   "metadata": {},
   "outputs": [],
   "source": []
  }
 ],
 "metadata": {
  "celltoolbar": "Slideshow",
  "kernelspec": {
   "display_name": "Python 3",
   "language": "python",
   "name": "python3"
  },
  "language_info": {
   "codemirror_mode": {
    "name": "ipython",
    "version": 3
   },
   "file_extension": ".py",
   "mimetype": "text/x-python",
   "name": "python",
   "nbconvert_exporter": "python",
   "pygments_lexer": "ipython3",
   "version": "3.7.3"
  },
  "toc": {
   "base_numbering": 1,
   "nav_menu": {},
   "number_sections": false,
   "sideBar": true,
   "skip_h1_title": true,
   "title_cell": "Table of Contents",
   "title_sidebar": "Contents",
   "toc_cell": false,
   "toc_position": {
    "height": "calc(100% - 180px)",
    "left": "10px",
    "top": "150px",
    "width": "307px"
   },
   "toc_section_display": true,
   "toc_window_display": true
  }
 },
 "nbformat": 4,
 "nbformat_minor": 4
}
