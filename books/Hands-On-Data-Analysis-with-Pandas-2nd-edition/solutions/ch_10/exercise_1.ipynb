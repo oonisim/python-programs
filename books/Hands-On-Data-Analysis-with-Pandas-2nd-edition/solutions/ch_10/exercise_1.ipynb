{
 "cells": [
  {
   "cell_type": "markdown",
   "metadata": {},
   "source": [
    "# Predicting Star Temperature with Elastic Net Linear Regression\n",
    "Using the Open Exoplanet Catalogue database: https://github.com/OpenExoplanetCatalogue/open_exoplanet_catalogue/\n",
    "\n",
    "## Data License\n",
    "Copyright (C) 2012 Hanno Rein\n",
    "\n",
    "Permission is hereby granted, free of charge, to any person obtaining a copy of this database and associated scripts (the \"Database\"), to deal in the Database without restriction, including without limitation the rights to use, copy, modify, merge, publish, distribute, sublicense, and/or sell copies of the Database, and to permit persons to whom the Database is furnished to do so, subject to the following conditions:\n",
    "\n",
    "The above copyright notice and this permission notice shall be included in all copies or substantial portions of the Database. A reference to the Database shall be included in all scientific publications that make use of the Database.\n",
    "\n",
    "THE DATABASE IS PROVIDED \"AS IS\", WITHOUT WARRANTY OF ANY KIND, EXPRESS OR IMPLIED, INCLUDING BUT NOT LIMITED TO THE WARRANTIES OF MERCHANTABILITY, FITNESS FOR A PARTICULAR PURPOSE AND NONINFRINGEMENT. IN NO EVENT SHALL THE AUTHORS OR COPYRIGHT HOLDERS BE LIABLE FOR ANY CLAIM, DAMAGES OR OTHER LIABILITY, WHETHER IN AN ACTION OF CONTRACT, TORT OR OTHERWISE, ARISING FROM, OUT OF OR IN CONNECTION WITH THE DATABASE OR THE USE OR OTHER DEALINGS IN THE DATABASE."
   ]
  },
  {
   "cell_type": "code",
   "execution_count": 1,
   "metadata": {},
   "outputs": [
    {
     "data": {
      "text/html": [
       "<div>\n",
       "<style scoped>\n",
       "    .dataframe tbody tr th:only-of-type {\n",
       "        vertical-align: middle;\n",
       "    }\n",
       "\n",
       "    .dataframe tbody tr th {\n",
       "        vertical-align: top;\n",
       "    }\n",
       "\n",
       "    .dataframe thead th {\n",
       "        text-align: right;\n",
       "    }\n",
       "</style>\n",
       "<table border=\"1\" class=\"dataframe\">\n",
       "  <thead>\n",
       "    <tr style=\"text-align: right;\">\n",
       "      <th></th>\n",
       "      <th>temperature</th>\n",
       "      <th>magV</th>\n",
       "      <th>mass</th>\n",
       "      <th>spectraltype</th>\n",
       "      <th>magJ</th>\n",
       "      <th>radius</th>\n",
       "      <th>magB</th>\n",
       "      <th>magH</th>\n",
       "      <th>magK</th>\n",
       "      <th>metallicity</th>\n",
       "      <th>name</th>\n",
       "      <th>planets</th>\n",
       "    </tr>\n",
       "  </thead>\n",
       "  <tbody>\n",
       "    <tr>\n",
       "      <th>0</th>\n",
       "      <td>4742.0</td>\n",
       "      <td>4.740</td>\n",
       "      <td>2.70</td>\n",
       "      <td>G8 III</td>\n",
       "      <td>2.943</td>\n",
       "      <td>19.000</td>\n",
       "      <td>5.740</td>\n",
       "      <td>2.484</td>\n",
       "      <td>2.282</td>\n",
       "      <td>-0.350</td>\n",
       "      <td>11 Com</td>\n",
       "      <td>1.0</td>\n",
       "    </tr>\n",
       "    <tr>\n",
       "      <th>1</th>\n",
       "      <td>4340.0</td>\n",
       "      <td>5.024</td>\n",
       "      <td>1.80</td>\n",
       "      <td>K4III</td>\n",
       "      <td>2.876</td>\n",
       "      <td>24.080</td>\n",
       "      <td>6.415</td>\n",
       "      <td>2.091</td>\n",
       "      <td>1.939</td>\n",
       "      <td>0.040</td>\n",
       "      <td>11 UMi</td>\n",
       "      <td>1.0</td>\n",
       "    </tr>\n",
       "    <tr>\n",
       "      <th>2</th>\n",
       "      <td>4813.0</td>\n",
       "      <td>5.220</td>\n",
       "      <td>2.20</td>\n",
       "      <td>K0III</td>\n",
       "      <td>3.019</td>\n",
       "      <td>11.000</td>\n",
       "      <td>6.240</td>\n",
       "      <td>2.608</td>\n",
       "      <td>2.331</td>\n",
       "      <td>-0.240</td>\n",
       "      <td>14 And</td>\n",
       "      <td>1.0</td>\n",
       "    </tr>\n",
       "    <tr>\n",
       "      <th>3</th>\n",
       "      <td>5311.0</td>\n",
       "      <td>6.670</td>\n",
       "      <td>1.00</td>\n",
       "      <td>K0 V</td>\n",
       "      <td>5.158</td>\n",
       "      <td>0.708</td>\n",
       "      <td>7.570</td>\n",
       "      <td>4.803</td>\n",
       "      <td>4.714</td>\n",
       "      <td>0.430</td>\n",
       "      <td>14 Her</td>\n",
       "      <td>2.0</td>\n",
       "    </tr>\n",
       "    <tr>\n",
       "      <th>4</th>\n",
       "      <td>5825.0</td>\n",
       "      <td>5.950</td>\n",
       "      <td>1.11</td>\n",
       "      <td>G2V</td>\n",
       "      <td>5.090</td>\n",
       "      <td>1.243</td>\n",
       "      <td>6.590</td>\n",
       "      <td>4.720</td>\n",
       "      <td>4.430</td>\n",
       "      <td>0.096</td>\n",
       "      <td>16 Cygni A</td>\n",
       "      <td>0.0</td>\n",
       "    </tr>\n",
       "  </tbody>\n",
       "</table>\n",
       "</div>"
      ],
      "text/plain": [
       "   temperature   magV  mass spectraltype   magJ  radius   magB   magH   magK  \\\n",
       "0       4742.0  4.740  2.70       G8 III  2.943  19.000  5.740  2.484  2.282   \n",
       "1       4340.0  5.024  1.80        K4III  2.876  24.080  6.415  2.091  1.939   \n",
       "2       4813.0  5.220  2.20        K0III  3.019  11.000  6.240  2.608  2.331   \n",
       "3       5311.0  6.670  1.00         K0 V  5.158   0.708  7.570  4.803  4.714   \n",
       "4       5825.0  5.950  1.11          G2V  5.090   1.243  6.590  4.720  4.430   \n",
       "\n",
       "   metallicity        name  planets  \n",
       "0       -0.350      11 Com      1.0  \n",
       "1        0.040      11 UMi      1.0  \n",
       "2       -0.240      14 And      1.0  \n",
       "3        0.430      14 Her      2.0  \n",
       "4        0.096  16 Cygni A      0.0  "
      ]
     },
     "execution_count": 1,
     "metadata": {},
     "output_type": "execute_result"
    }
   ],
   "source": [
    "%matplotlib inline\n",
    "\n",
    "import matplotlib.pyplot as plt\n",
    "import numpy as np\n",
    "import pandas as pd\n",
    "import seaborn as sns\n",
    "\n",
    "stars = pd.read_csv('../../ch_10/data/stars.csv')\n",
    "stars.head()"
   ]
  },
  {
   "cell_type": "markdown",
   "metadata": {},
   "source": [
    "## EDA"
   ]
  },
  {
   "cell_type": "code",
   "execution_count": 2,
   "metadata": {},
   "outputs": [
    {
     "name": "stdout",
     "output_type": "stream",
     "text": [
      "<class 'pandas.core.frame.DataFrame'>\n",
      "RangeIndex: 3183 entries, 0 to 3182\n",
      "Data columns (total 12 columns):\n",
      " #   Column        Non-Null Count  Dtype  \n",
      "---  ------        --------------  -----  \n",
      " 0   temperature   2793 non-null   float64\n",
      " 1   magV          1274 non-null   float64\n",
      " 2   mass          3090 non-null   float64\n",
      " 3   spectraltype  1206 non-null   object \n",
      " 4   magJ          1563 non-null   float64\n",
      " 5   radius        2721 non-null   float64\n",
      " 6   magB          1003 non-null   float64\n",
      " 7   magH          1556 non-null   float64\n",
      " 8   magK          1585 non-null   float64\n",
      " 9   metallicity   2411 non-null   float64\n",
      " 10  name          3183 non-null   object \n",
      " 11  planets       3183 non-null   float64\n",
      "dtypes: float64(10), object(2)\n",
      "memory usage: 298.5+ KB\n"
     ]
    }
   ],
   "source": [
    "stars.info()"
   ]
  },
  {
   "cell_type": "code",
   "execution_count": 3,
   "metadata": {},
   "outputs": [
    {
     "data": {
      "text/html": [
       "<div>\n",
       "<style scoped>\n",
       "    .dataframe tbody tr th:only-of-type {\n",
       "        vertical-align: middle;\n",
       "    }\n",
       "\n",
       "    .dataframe tbody tr th {\n",
       "        vertical-align: top;\n",
       "    }\n",
       "\n",
       "    .dataframe thead th {\n",
       "        text-align: right;\n",
       "    }\n",
       "</style>\n",
       "<table border=\"1\" class=\"dataframe\">\n",
       "  <thead>\n",
       "    <tr style=\"text-align: right;\">\n",
       "      <th></th>\n",
       "      <th>temperature</th>\n",
       "      <th>magV</th>\n",
       "      <th>mass</th>\n",
       "      <th>magJ</th>\n",
       "      <th>radius</th>\n",
       "      <th>magB</th>\n",
       "      <th>magH</th>\n",
       "      <th>magK</th>\n",
       "      <th>metallicity</th>\n",
       "      <th>planets</th>\n",
       "    </tr>\n",
       "  </thead>\n",
       "  <tbody>\n",
       "    <tr>\n",
       "      <th>count</th>\n",
       "      <td>2793.000000</td>\n",
       "      <td>1274.000000</td>\n",
       "      <td>3090.000000</td>\n",
       "      <td>1563.000000</td>\n",
       "      <td>2721.000000</td>\n",
       "      <td>1003.000000</td>\n",
       "      <td>1556.000000</td>\n",
       "      <td>1585.000000</td>\n",
       "      <td>2411.000000</td>\n",
       "      <td>3183.000000</td>\n",
       "    </tr>\n",
       "    <tr>\n",
       "      <th>mean</th>\n",
       "      <td>5532.146084</td>\n",
       "      <td>10.304334</td>\n",
       "      <td>0.960175</td>\n",
       "      <td>9.899493</td>\n",
       "      <td>1.605091</td>\n",
       "      <td>10.730635</td>\n",
       "      <td>9.525366</td>\n",
       "      <td>9.408291</td>\n",
       "      <td>0.017893</td>\n",
       "      <td>1.273327</td>\n",
       "    </tr>\n",
       "    <tr>\n",
       "      <th>std</th>\n",
       "      <td>1715.076581</td>\n",
       "      <td>3.148937</td>\n",
       "      <td>0.362107</td>\n",
       "      <td>3.226399</td>\n",
       "      <td>3.689890</td>\n",
       "      <td>3.032962</td>\n",
       "      <td>3.253978</td>\n",
       "      <td>3.214560</td>\n",
       "      <td>0.183447</td>\n",
       "      <td>0.853176</td>\n",
       "    </tr>\n",
       "    <tr>\n",
       "      <th>min</th>\n",
       "      <td>485.000000</td>\n",
       "      <td>0.010000</td>\n",
       "      <td>0.010000</td>\n",
       "      <td>-1.150000</td>\n",
       "      <td>0.000014</td>\n",
       "      <td>0.720000</td>\n",
       "      <td>-1.380000</td>\n",
       "      <td>-1.490000</td>\n",
       "      <td>-2.090000</td>\n",
       "      <td>0.000000</td>\n",
       "    </tr>\n",
       "    <tr>\n",
       "      <th>25%</th>\n",
       "      <td>5078.000000</td>\n",
       "      <td>7.950000</td>\n",
       "      <td>0.807250</td>\n",
       "      <td>7.013500</td>\n",
       "      <td>0.812000</td>\n",
       "      <td>8.512500</td>\n",
       "      <td>6.664750</td>\n",
       "      <td>6.589000</td>\n",
       "      <td>-0.060000</td>\n",
       "      <td>1.000000</td>\n",
       "    </tr>\n",
       "    <tr>\n",
       "      <th>50%</th>\n",
       "      <td>5627.000000</td>\n",
       "      <td>10.471500</td>\n",
       "      <td>0.964000</td>\n",
       "      <td>10.600000</td>\n",
       "      <td>0.999000</td>\n",
       "      <td>10.810000</td>\n",
       "      <td>10.248500</td>\n",
       "      <td>10.161000</td>\n",
       "      <td>0.020000</td>\n",
       "      <td>1.000000</td>\n",
       "    </tr>\n",
       "    <tr>\n",
       "      <th>75%</th>\n",
       "      <td>5949.000000</td>\n",
       "      <td>12.543500</td>\n",
       "      <td>1.110000</td>\n",
       "      <td>12.607500</td>\n",
       "      <td>1.270000</td>\n",
       "      <td>13.010000</td>\n",
       "      <td>12.230250</td>\n",
       "      <td>12.119000</td>\n",
       "      <td>0.110000</td>\n",
       "      <td>1.000000</td>\n",
       "    </tr>\n",
       "    <tr>\n",
       "      <th>max</th>\n",
       "      <td>57000.000000</td>\n",
       "      <td>24.300000</td>\n",
       "      <td>4.500000</td>\n",
       "      <td>21.600000</td>\n",
       "      <td>83.800000</td>\n",
       "      <td>19.860000</td>\n",
       "      <td>20.800000</td>\n",
       "      <td>19.160000</td>\n",
       "      <td>0.560000</td>\n",
       "      <td>9.000000</td>\n",
       "    </tr>\n",
       "  </tbody>\n",
       "</table>\n",
       "</div>"
      ],
      "text/plain": [
       "        temperature         magV         mass         magJ       radius  \\\n",
       "count   2793.000000  1274.000000  3090.000000  1563.000000  2721.000000   \n",
       "mean    5532.146084    10.304334     0.960175     9.899493     1.605091   \n",
       "std     1715.076581     3.148937     0.362107     3.226399     3.689890   \n",
       "min      485.000000     0.010000     0.010000    -1.150000     0.000014   \n",
       "25%     5078.000000     7.950000     0.807250     7.013500     0.812000   \n",
       "50%     5627.000000    10.471500     0.964000    10.600000     0.999000   \n",
       "75%     5949.000000    12.543500     1.110000    12.607500     1.270000   \n",
       "max    57000.000000    24.300000     4.500000    21.600000    83.800000   \n",
       "\n",
       "              magB         magH         magK  metallicity      planets  \n",
       "count  1003.000000  1556.000000  1585.000000  2411.000000  3183.000000  \n",
       "mean     10.730635     9.525366     9.408291     0.017893     1.273327  \n",
       "std       3.032962     3.253978     3.214560     0.183447     0.853176  \n",
       "min       0.720000    -1.380000    -1.490000    -2.090000     0.000000  \n",
       "25%       8.512500     6.664750     6.589000    -0.060000     1.000000  \n",
       "50%      10.810000    10.248500    10.161000     0.020000     1.000000  \n",
       "75%      13.010000    12.230250    12.119000     0.110000     1.000000  \n",
       "max      19.860000    20.800000    19.160000     0.560000     9.000000  "
      ]
     },
     "execution_count": 3,
     "metadata": {},
     "output_type": "execute_result"
    }
   ],
   "source": [
    "stars.describe()"
   ]
  },
  {
   "cell_type": "code",
   "execution_count": 4,
   "metadata": {},
   "outputs": [
    {
     "data": {
      "text/plain": [
       "<AxesSubplot:>"
      ]
     },
     "execution_count": 4,
     "metadata": {},
     "output_type": "execute_result"
    },
    {
     "data": {
      "image/png": "[encoded data removed]",
      "text/plain": [
       "<Figure size 432x288 with 2 Axes>"
      ]
     },
     "metadata": {
      "needs_background": "light"
     },
     "output_type": "display_data"
    }
   ],
   "source": [
    "sns.heatmap(stars.corr(), vmin=-1, vmax=1, center=0, annot=True, fmt='.1f')"
   ]
  },
  {
   "cell_type": "markdown",
   "metadata": {},
   "source": [
    "## Train test split"
   ]
  },
  {
   "cell_type": "code",
   "execution_count": 5,
   "metadata": {},
   "outputs": [],
   "source": [
    "from sklearn.model_selection import train_test_split\n",
    "\n",
    "data = stars[[\n",
    "    'metallicity', 'temperature', 'magJ', 'radius', \n",
    "    'magB', 'magH', 'magK', 'mass', 'planets'\n",
    "]].dropna()\n",
    "\n",
    "y = data.pop('temperature')\n",
    "X = data\n",
    "\n",
    "X_train, X_test, y_train, y_test = train_test_split(\n",
    "    X, y, test_size=0.25, random_state=0\n",
    ")"
   ]
  },
  {
   "cell_type": "markdown",
   "metadata": {},
   "source": [
    "## Grid search for best hyperparameters in elastic net pipeline"
   ]
  },
  {
   "cell_type": "code",
   "execution_count": 6,
   "metadata": {},
   "outputs": [],
   "source": [
    "%%capture \n",
    "# don't show warning messages or output for this cell\n",
    "from sklearn.linear_model import ElasticNet\n",
    "from sklearn.model_selection import GridSearchCV\n",
    "from sklearn.pipeline import Pipeline\n",
    "from sklearn.preprocessing import MinMaxScaler\n",
    "\n",
    "pipeline = Pipeline([\n",
    "    ('scale', MinMaxScaler()), \n",
    "    ('net', ElasticNet(random_state=0))\n",
    "])\n",
    "\n",
    "search_space = {\n",
    "    'net__alpha': [0.1, 0.5, 1, 1.5, 2, 5],\n",
    "    'net__l1_ratio': np.linspace(0, 1, num=10),\n",
    "    'net__fit_intercept': [True, False]\n",
    "}\n",
    "\n",
    "elastic_net = GridSearchCV(pipeline, search_space, cv=5).fit(X_train, y_train)"
   ]
  },
  {
   "cell_type": "markdown",
   "metadata": {},
   "source": [
    "Check the best hyperparameters:"
   ]
  },
  {
   "cell_type": "code",
   "execution_count": 7,
   "metadata": {},
   "outputs": [
    {
     "data": {
      "text/plain": [
       "{'net__alpha': 2, 'net__fit_intercept': True, 'net__l1_ratio': 1.0}"
      ]
     },
     "execution_count": 7,
     "metadata": {},
     "output_type": "execute_result"
    }
   ],
   "source": [
    "elastic_net.best_params_"
   ]
  },
  {
   "cell_type": "markdown",
   "metadata": {},
   "source": [
    "## R<sup>2</sup>"
   ]
  },
  {
   "cell_type": "code",
   "execution_count": 8,
   "metadata": {},
   "outputs": [
    {
     "data": {
      "text/plain": [
       "0.8565828773951133"
      ]
     },
     "execution_count": 8,
     "metadata": {},
     "output_type": "execute_result"
    }
   ],
   "source": [
    "elastic_net.score(X_test, y_test) # R-squared"
   ]
  },
  {
   "cell_type": "markdown",
   "metadata": {},
   "source": [
    "## Model equation"
   ]
  },
  {
   "cell_type": "code",
   "execution_count": 9,
   "metadata": {},
   "outputs": [
    {
     "data": {
      "text/plain": [
       "[(-0.0, 'metallicity'),\n",
       " (0.0, 'magJ'),\n",
       " (-230.95202113409036, 'radius'),\n",
       " (-9749.434488243596, 'magB'),\n",
       " (0.0, 'magH'),\n",
       " (9343.22858456506, 'magK'),\n",
       " (1053.0380032666212, 'mass'),\n",
       " (-141.41014698708304, 'planets')]"
      ]
     },
     "execution_count": 9,
     "metadata": {},
     "output_type": "execute_result"
    }
   ],
   "source": [
    "[\n",
    "    (coef, feature) for coef, feature in \n",
    "    zip(elastic_net.best_estimator_.named_steps['net'].coef_, X_train.columns)\n",
    "]"
   ]
  },
  {
   "cell_type": "code",
   "execution_count": 10,
   "metadata": {},
   "outputs": [
    {
     "data": {
      "text/plain": [
       "5047.900329702881"
      ]
     },
     "execution_count": 10,
     "metadata": {},
     "output_type": "execute_result"
    }
   ],
   "source": [
    "elastic_net.best_estimator_.named_steps['net'].intercept_"
   ]
  },
  {
   "cell_type": "markdown",
   "metadata": {},
   "source": [
    "## Residuals"
   ]
  },
  {
   "cell_type": "code",
   "execution_count": 11,
   "metadata": {},
   "outputs": [
    {
     "data": {
      "text/plain": [
       "array([<AxesSubplot:xlabel='Observation', ylabel='Residual'>,\n",
       "       <AxesSubplot:xlabel='Residual', ylabel='Density'>], dtype=object)"
      ]
     },
     "execution_count": 11,
     "metadata": {},
     "output_type": "execute_result"
    },
    {
     "data": {
      "image/png": "[encoded data removed]",
      "text/plain": [
       "<Figure size 1080x216 with 2 Axes>"
      ]
     },
     "metadata": {
      "needs_background": "light"
     },
     "output_type": "display_data"
    }
   ],
   "source": [
    "from ml_utils.regression import plot_residuals\n",
    "plot_residuals(y_test, elastic_net.predict(X_test))"
   ]
  },
  {
   "cell_type": "markdown",
   "metadata": {},
   "source": [
    "<hr>\n",
    "<div>\n",
    "    <a href=\"../../ch_10/red_wine.ipynb\">\n",
    "        <button>&#8592; Chapter 10</button>\n",
    "    </a>\n",
    "    <a href=\"./exercise_2.ipynb\">\n",
    "        <button style=\"float: right;\">Next Solution &#8594;</button>\n",
    "    </a>\n",
    "</div>\n",
    "<hr>"
   ]
  }
 ],
 "metadata": {
  "kernelspec": {
   "display_name": "Python 3",
   "language": "python",
   "name": "python3"
  },
  "language_info": {
   "codemirror_mode": {
    "name": "ipython",
    "version": 3
   },
   "file_extension": ".py",
   "mimetype": "text/x-python",
   "name": "python",
   "nbconvert_exporter": "python",
   "pygments_lexer": "ipython3",
   "version": "3.7.3"
  }
 },
 "nbformat": 4,
 "nbformat_minor": 4
}
