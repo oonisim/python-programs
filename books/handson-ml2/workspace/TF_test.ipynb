{
 "cells": [
  {
   "cell_type": "code",
   "execution_count": 69,
   "metadata": {},
   "outputs": [
    {
     "name": "stdout",
     "output_type": "stream",
     "text": [
      "2.1.0\n",
      "2.2.4-tf\n"
     ]
    }
   ],
   "source": [
    "import pandas as pd\n",
    "import matplotlib.pyplot as plt\n",
    "\n",
    "import tensorflow as tf\n",
    "from tensorflow import keras\n",
    "import numpy as np\n",
    "\n",
    "print(tf.__version__)\n",
    "print(keras.__version__)"
   ]
  },
  {
   "cell_type": "markdown",
   "metadata": {},
   "source": [
    "# Utilities"
   ]
  },
  {
   "cell_type": "code",
   "execution_count": 70,
   "metadata": {},
   "outputs": [
    {
     "name": "stdout",
     "output_type": "stream",
     "text": [
      "/home/oonisim/home/repositories/git/oonisim/handson-ml2/workspace\n"
     ]
    }
   ],
   "source": [
    "import os\n",
    "root_logdir = os.path.join(os.curdir, \"my_logs\")\n",
    "print(os.getcwd())\n",
    "\n",
    "def get_run_logdir():\n",
    "    import time\n",
    "    run_id = time.strftime(\"run_%Y_%m_%d-%H_%M_%S\")\n",
    "    return os.path.join(root_logdir, run_id)\n",
    "\n",
    "run_logdir = get_run_logdir() # e.g., './my_logs/run_2019_06_07-15_15_22'"
   ]
  },
  {
   "cell_type": "markdown",
   "metadata": {},
   "source": [
    "# Data"
   ]
  },
  {
   "cell_type": "code",
   "execution_count": 71,
   "metadata": {},
   "outputs": [],
   "source": [
    "fashion_mnist = keras.datasets.fashion_mnist\n",
    "(X_train_full, y_train_full), (X_test, y_test) = fashion_mnist.load_data()"
   ]
  },
  {
   "cell_type": "code",
   "execution_count": 72,
   "metadata": {},
   "outputs": [
    {
     "data": {
      "text/plain": [
       "numpy.ndarray"
      ]
     },
     "execution_count": 72,
     "metadata": {},
     "output_type": "execute_result"
    }
   ],
   "source": [
    "type(X_train_full)"
   ]
  },
  {
   "cell_type": "code",
   "execution_count": 73,
   "metadata": {},
   "outputs": [],
   "source": [
    "X_valid, X_train = X_train_full[:5000] / 255.0, X_train_full[5000:] / 255.0\n",
    "y_valid, y_train = y_train_full[:5000], y_train_full[5000:]\n",
    "X_test = X_test / 255.0"
   ]
  },
  {
   "cell_type": "code",
   "execution_count": 74,
   "metadata": {},
   "outputs": [
    {
     "name": "stdout",
     "output_type": "stream",
     "text": [
      "float64\n",
      "(55000, 28, 28)\n"
     ]
    }
   ],
   "source": [
    "print(X_train.dtype)\n",
    "print(X_train.shape)"
   ]
  },
  {
   "cell_type": "code",
   "execution_count": 75,
   "metadata": {},
   "outputs": [],
   "source": [
    "class_names = [\n",
    "    \"T-shirt/top\", \"Trouser\", \"Pullover\", \"Dress\", \"Coat\", \"Sandal\", \"Shirt\", \"Sneaker\", \"Bag\", \"Ankle boot\"\n",
    "]"
   ]
  },
  {
   "cell_type": "code",
   "execution_count": 76,
   "metadata": {},
   "outputs": [
    {
     "data": {
      "text/plain": [
       "'Coat'"
      ]
     },
     "execution_count": 76,
     "metadata": {},
     "output_type": "execute_result"
    }
   ],
   "source": [
    "class_names[y_train[0]]"
   ]
  },
  {
   "cell_type": "markdown",
   "metadata": {},
   "source": [
    "### Callbacks"
   ]
  },
  {
   "cell_type": "code",
   "execution_count": 77,
   "metadata": {},
   "outputs": [],
   "source": [
    "early_stopping_cb = keras.callbacks.EarlyStopping(\n",
    "  patience=10,\n",
    "  restore_best_weights=True\n",
    ")\n",
    "tensorboard_cb = keras.callbacks.TensorBoard(run_logdir)"
   ]
  },
  {
   "cell_type": "markdown",
   "metadata": {},
   "source": [
    "# Model (SELU)"
   ]
  },
  {
   "cell_type": "code",
   "execution_count": 78,
   "metadata": {},
   "outputs": [
    {
     "name": "stdout",
     "output_type": "stream",
     "text": [
      "Model: \"sequential_6\"\n",
      "_________________________________________________________________\n",
      "Layer (type)                 Output Shape              Param #   \n",
      "=================================================================\n",
      "flatten_6 (Flatten)          (None, 784)               0         \n",
      "_________________________________________________________________\n",
      "dense_21 (Dense)             (None, 300)               235500    \n",
      "_________________________________________________________________\n",
      "dense_22 (Dense)             (None, 200)               60200     \n",
      "_________________________________________________________________\n",
      "dense_23 (Dense)             (None, 100)               20100     \n",
      "_________________________________________________________________\n",
      "dense_24 (Dense)             (None, 10)                1010      \n",
      "=================================================================\n",
      "Total params: 316,810\n",
      "Trainable params: 316,810\n",
      "Non-trainable params: 0\n",
      "_________________________________________________________________\n"
     ]
    }
   ],
   "source": [
    "model = keras.models.Sequential([\n",
    "    keras.layers.Flatten(input_shape=[28, 28]),\n",
    "    keras.layers.Dense(300, activation=\"selu\", kernel_initializer=\"lecun_normal\"),\n",
    "    keras.layers.Dense(200, activation=\"selu\", kernel_initializer=\"lecun_normal\"),\n",
    "    keras.layers.Dense(100, activation=\"selu\", kernel_initializer=\"lecun_normal\"),\n",
    "    keras.layers.Dense(len(class_names), activation=\"softmax\")\n",
    "])\n",
    "\n",
    "# First layter 784 × 300 connection weights, plus 300 bias terms, which adds up to 235,500 parameters\n",
    "model.summary()"
   ]
  },
  {
   "cell_type": "code",
   "execution_count": 79,
   "metadata": {},
   "outputs": [],
   "source": [
    "# Attach computation logic to the model\n",
    "model.compile(\n",
    "    loss=\"sparse_categorical_crossentropy\",  # Cross entropy loss for sparse categorical labels\n",
    "    optimizer=keras.optimizers.SGD(\n",
    "        lr=0.01, momentum=0.9, nesterov=True # Use stochastic gradient descent with Nesterov momentum\n",
    "    ),  \n",
    "    metrics=[\"accuracy\"]                     # Evaluate the model performance with accuracy.\n",
    ")"
   ]
  },
  {
   "cell_type": "code",
   "execution_count": 80,
   "metadata": {},
   "outputs": [
    {
     "name": "stdout",
     "output_type": "stream",
     "text": [
      "Train on 55000 samples, validate on 5000 samples\n",
      "Epoch 1/30\n",
      "55000/55000 [==============================] - 28s 503us/sample - loss: 0.4878 - accuracy: 0.8221 - val_loss: 0.4781 - val_accuracy: 0.8272\n",
      "Epoch 2/30\n",
      "55000/55000 [==============================] - 20s 370us/sample - loss: 0.3932 - accuracy: 0.8575 - val_loss: 0.3872 - val_accuracy: 0.8618\n",
      "Epoch 3/30\n",
      "55000/55000 [==============================] - 21s 385us/sample - loss: 0.3583 - accuracy: 0.8681 - val_loss: 0.3305 - val_accuracy: 0.8784\n",
      "Epoch 4/30\n",
      "55000/55000 [==============================] - 23s 423us/sample - loss: 0.3368 - accuracy: 0.8766 - val_loss: 0.3472 - val_accuracy: 0.8726\n",
      "Epoch 5/30\n",
      "55000/55000 [==============================] - 37s 670us/sample - loss: 0.3254 - accuracy: 0.8792 - val_loss: 0.3586 - val_accuracy: 0.8732\n",
      "Epoch 6/30\n",
      "55000/55000 [==============================] - 28s 501us/sample - loss: 0.3122 - accuracy: 0.8852 - val_loss: 0.3177 - val_accuracy: 0.8854\n",
      "Epoch 7/30\n",
      "55000/55000 [==============================] - 30s 543us/sample - loss: 0.2972 - accuracy: 0.8890 - val_loss: 0.3215 - val_accuracy: 0.8850\n",
      "Epoch 8/30\n",
      "55000/55000 [==============================] - 23s 417us/sample - loss: 0.2877 - accuracy: 0.8925 - val_loss: 0.3654 - val_accuracy: 0.8650\n",
      "Epoch 9/30\n",
      "55000/55000 [==============================] - 35s 633us/sample - loss: 0.2815 - accuracy: 0.8955 - val_loss: 0.3484 - val_accuracy: 0.8800\n",
      "Epoch 10/30\n",
      "55000/55000 [==============================] - 36s 652us/sample - loss: 0.2721 - accuracy: 0.8978 - val_loss: 0.3736 - val_accuracy: 0.8738\n",
      "Epoch 11/30\n",
      "55000/55000 [==============================] - 40s 723us/sample - loss: 0.2643 - accuracy: 0.9008 - val_loss: 0.3757 - val_accuracy: 0.8702\n",
      "Epoch 12/30\n",
      "55000/55000 [==============================] - 25s 453us/sample - loss: 0.2577 - accuracy: 0.9046 - val_loss: 0.3320 - val_accuracy: 0.8840\n",
      "Epoch 13/30\n",
      "55000/55000 [==============================] - 18s 327us/sample - loss: 0.2526 - accuracy: 0.9059 - val_loss: 0.3087 - val_accuracy: 0.8924\n",
      "Epoch 14/30\n",
      "55000/55000 [==============================] - 17s 303us/sample - loss: 0.2488 - accuracy: 0.9066 - val_loss: 0.3714 - val_accuracy: 0.8740\n",
      "Epoch 15/30\n",
      "55000/55000 [==============================] - 18s 320us/sample - loss: 0.2421 - accuracy: 0.9089 - val_loss: 0.3726 - val_accuracy: 0.8698\n",
      "Epoch 16/30\n",
      "55000/55000 [==============================] - 17s 304us/sample - loss: 0.2368 - accuracy: 0.9104 - val_loss: 0.3359 - val_accuracy: 0.8914\n",
      "Epoch 17/30\n",
      "55000/55000 [==============================] - 19s 348us/sample - loss: 0.2336 - accuracy: 0.9114 - val_loss: 0.3596 - val_accuracy: 0.8920\n",
      "Epoch 18/30\n",
      "55000/55000 [==============================] - 21s 383us/sample - loss: 0.2267 - accuracy: 0.9151 - val_loss: 0.3647 - val_accuracy: 0.8900\n",
      "Epoch 19/30\n",
      "55000/55000 [==============================] - 18s 329us/sample - loss: 0.2243 - accuracy: 0.9148 - val_loss: 0.3562 - val_accuracy: 0.8898\n",
      "Epoch 20/30\n",
      "55000/55000 [==============================] - 18s 326us/sample - loss: 0.2194 - accuracy: 0.9168 - val_loss: 0.4438 - val_accuracy: 0.8720\n",
      "Epoch 21/30\n",
      "55000/55000 [==============================] - 18s 331us/sample - loss: 0.2112 - accuracy: 0.9211 - val_loss: 0.4443 - val_accuracy: 0.8814\n",
      "Epoch 22/30\n",
      "55000/55000 [==============================] - 18s 320us/sample - loss: 0.2114 - accuracy: 0.9202 - val_loss: 0.3612 - val_accuracy: 0.8942\n",
      "Epoch 23/30\n",
      "55000/55000 [==============================] - 17s 314us/sample - loss: 0.2042 - accuracy: 0.9225 - val_loss: 0.3785 - val_accuracy: 0.8824\n"
     ]
    }
   ],
   "source": [
    "history = model.fit(\n",
    "    X_train, \n",
    "    y_train, \n",
    "    epochs=30, \n",
    "    validation_data=(X_valid, y_valid),\n",
    "    callbacks=[\n",
    "        early_stopping_cb,\n",
    "        tensorboard_cb\n",
    "    ]\n",
    ")"
   ]
  },
  {
   "cell_type": "code",
   "execution_count": 81,
   "metadata": {},
   "outputs": [
    {
     "data": {
      "image/png": "[encoded data removed]",
      "text/plain": [
       "<Figure size 576x360 with 1 Axes>"
      ]
     },
     "metadata": {
      "needs_background": "light"
     },
     "output_type": "display_data"
    }
   ],
   "source": [
    "pd.DataFrame(history.history).plot(figsize=(8, 5))\n",
    "plt.grid(True)\n",
    "plt.gca().set_ylim(0, 1) # set the vertical range to [0-1]\n",
    "plt.show()"
   ]
  },
  {
   "cell_type": "code",
   "execution_count": 82,
   "metadata": {},
   "outputs": [
    {
     "name": "stdout",
     "output_type": "stream",
     "text": [
      "10000/10000 [==============================] - 3s 252us/sample - loss: 0.3559 - accuracy: 0.8799\n"
     ]
    },
    {
     "data": {
      "text/plain": [
       "[0.3558882947206497, 0.8799]"
      ]
     },
     "execution_count": 82,
     "metadata": {},
     "output_type": "execute_result"
    }
   ],
   "source": [
    "model.evaluate(X_test, y_test)"
   ]
  },
  {
   "cell_type": "markdown",
   "metadata": {},
   "source": [
    "# Model(SELU + Momentum + Batch Normalization + Drop Out)"
   ]
  },
  {
   "cell_type": "code",
   "execution_count": 83,
   "metadata": {},
   "outputs": [
    {
     "name": "stdout",
     "output_type": "stream",
     "text": [
      "Model: \"sequential_7\"\n",
      "_________________________________________________________________\n",
      "Layer (type)                 Output Shape              Param #   \n",
      "=================================================================\n",
      "flatten_7 (Flatten)          (None, 784)               0         \n",
      "_________________________________________________________________\n",
      "dense_25 (Dense)             (None, 300)               235500    \n",
      "_________________________________________________________________\n",
      "batch_normalization_14 (Batc (None, 300)               1200      \n",
      "_________________________________________________________________\n",
      "dense_26 (Dense)             (None, 200)               60200     \n",
      "_________________________________________________________________\n",
      "alpha_dropout_4 (AlphaDropou (None, 200)               0         \n",
      "_________________________________________________________________\n",
      "batch_normalization_15 (Batc (None, 200)               800       \n",
      "_________________________________________________________________\n",
      "dense_27 (Dense)             (None, 100)               20100     \n",
      "_________________________________________________________________\n",
      "alpha_dropout_5 (AlphaDropou (None, 100)               0         \n",
      "_________________________________________________________________\n",
      "batch_normalization_16 (Batc (None, 100)               400       \n",
      "_________________________________________________________________\n",
      "dense_28 (Dense)             (None, 10)                1010      \n",
      "=================================================================\n",
      "Total params: 319,210\n",
      "Trainable params: 318,010\n",
      "Non-trainable params: 1,200\n",
      "_________________________________________________________________\n"
     ]
    }
   ],
   "source": [
    "model = keras.models.Sequential([\n",
    "    keras.layers.Flatten(input_shape=[28, 28]),\n",
    "    \n",
    "    keras.layers.Dense(300, activation=\"selu\", kernel_initializer=\"lecun_normal\"),\n",
    "\n",
    "    keras.layers.BatchNormalization(),\n",
    "    keras.layers.Dense(200, activation=\"selu\", kernel_initializer=\"lecun_normal\"),\n",
    "    keras.layers.AlphaDropout(rate=0.2),\n",
    "    \n",
    "    keras.layers.BatchNormalization(),\n",
    "    keras.layers.Dense(100, activation=\"selu\", kernel_initializer=\"lecun_normal\"),\n",
    "    keras.layers.AlphaDropout(rate=0.2),\n",
    "    \n",
    "    keras.layers.BatchNormalization(),\n",
    "    keras.layers.Dense(len(class_names), activation=\"softmax\")\n",
    "])\n",
    "\n",
    "# First layter 784 × 300 connection weights, plus 300 bias terms, which adds up to 235,500 parameters\n",
    "model.summary()"
   ]
  },
  {
   "cell_type": "code",
   "execution_count": 84,
   "metadata": {},
   "outputs": [],
   "source": [
    "# Attach computation logic to the model\n",
    "model.compile(\n",
    "    loss=\"sparse_categorical_crossentropy\",  # Cross entropy loss for sparse categorical labels\n",
    "    optimizer=keras.optimizers.SGD(\n",
    "        lr=0.01, momentum=0.9, nesterov=True # Use stochastic gradient descent with Nesterov momentum\n",
    "    ),  \n",
    "    metrics=[\"accuracy\"]                     # Evaluate the model performance with accuracy.\n",
    ")"
   ]
  },
  {
   "cell_type": "code",
   "execution_count": 85,
   "metadata": {},
   "outputs": [
    {
     "name": "stdout",
     "output_type": "stream",
     "text": [
      "Train on 55000 samples, validate on 5000 samples\n",
      "Epoch 1/30\n",
      "55000/55000 [==============================] - 28s 514us/sample - loss: 0.5754 - accuracy: 0.7978 - val_loss: 0.5624 - val_accuracy: 0.8454\n",
      "Epoch 2/30\n",
      "55000/55000 [==============================] - 24s 433us/sample - loss: 0.4547 - accuracy: 0.8345 - val_loss: 0.5047 - val_accuracy: 0.8478\n",
      "Epoch 3/30\n",
      "55000/55000 [==============================] - 23s 427us/sample - loss: 0.4225 - accuracy: 0.8458 - val_loss: 0.4615 - val_accuracy: 0.8574\n",
      "Epoch 4/30\n",
      "55000/55000 [==============================] - 31s 568us/sample - loss: 0.3955 - accuracy: 0.8553 - val_loss: 0.4427 - val_accuracy: 0.8624\n",
      "Epoch 5/30\n",
      "55000/55000 [==============================] - 76s 1ms/sample - loss: 0.3751 - accuracy: 0.8629 - val_loss: 0.4070 - val_accuracy: 0.8770\n",
      "Epoch 6/30\n",
      "55000/55000 [==============================] - 39s 707us/sample - loss: 0.3594 - accuracy: 0.8695 - val_loss: 0.4227 - val_accuracy: 0.8740\n",
      "Epoch 7/30\n",
      "55000/55000 [==============================] - 39s 703us/sample - loss: 0.3442 - accuracy: 0.8735 - val_loss: 0.4221 - val_accuracy: 0.8788\n",
      "Epoch 8/30\n",
      "55000/55000 [==============================] - 26s 472us/sample - loss: 0.3344 - accuracy: 0.8770 - val_loss: 0.4066 - val_accuracy: 0.8832\n",
      "Epoch 9/30\n",
      "55000/55000 [==============================] - 26s 468us/sample - loss: 0.3236 - accuracy: 0.8807 - val_loss: 0.4432 - val_accuracy: 0.8868\n",
      "Epoch 10/30\n",
      "55000/55000 [==============================] - 25s 448us/sample - loss: 0.3178 - accuracy: 0.8825 - val_loss: 0.3848 - val_accuracy: 0.8846\n",
      "Epoch 11/30\n",
      "55000/55000 [==============================] - 27s 482us/sample - loss: 0.3081 - accuracy: 0.8854 - val_loss: 0.3985 - val_accuracy: 0.8830\n",
      "Epoch 12/30\n",
      "55000/55000 [==============================] - 27s 493us/sample - loss: 0.2992 - accuracy: 0.8893 - val_loss: 0.3821 - val_accuracy: 0.8888\n",
      "Epoch 13/30\n",
      "55000/55000 [==============================] - 23s 413us/sample - loss: 0.2921 - accuracy: 0.8905 - val_loss: 0.4080 - val_accuracy: 0.8788\n",
      "Epoch 14/30\n",
      "55000/55000 [==============================] - 22s 401us/sample - loss: 0.2832 - accuracy: 0.8946 - val_loss: 0.3969 - val_accuracy: 0.8918\n",
      "Epoch 15/30\n",
      "55000/55000 [==============================] - 23s 412us/sample - loss: 0.2775 - accuracy: 0.8955 - val_loss: 0.3777 - val_accuracy: 0.8876\n",
      "Epoch 16/30\n",
      "55000/55000 [==============================] - 28s 515us/sample - loss: 0.2711 - accuracy: 0.8994 - val_loss: 0.3919 - val_accuracy: 0.8912\n",
      "Epoch 17/30\n",
      "55000/55000 [==============================] - 22s 406us/sample - loss: 0.2672 - accuracy: 0.9006 - val_loss: 0.4305 - val_accuracy: 0.8798\n",
      "Epoch 18/30\n",
      "55000/55000 [==============================] - 23s 412us/sample - loss: 0.2609 - accuracy: 0.9013 - val_loss: 0.3858 - val_accuracy: 0.8894\n",
      "Epoch 19/30\n",
      "55000/55000 [==============================] - 38s 689us/sample - loss: 0.2558 - accuracy: 0.9047 - val_loss: 0.4026 - val_accuracy: 0.8884\n",
      "Epoch 20/30\n",
      "55000/55000 [==============================] - 24s 439us/sample - loss: 0.2510 - accuracy: 0.9059 - val_loss: 0.3832 - val_accuracy: 0.8946\n",
      "Epoch 21/30\n",
      "55000/55000 [==============================] - 22s 393us/sample - loss: 0.2448 - accuracy: 0.9073 - val_loss: 0.3708 - val_accuracy: 0.8982\n",
      "Epoch 22/30\n",
      "55000/55000 [==============================] - 23s 426us/sample - loss: 0.2413 - accuracy: 0.9095 - val_loss: 0.4492 - val_accuracy: 0.8832\n",
      "Epoch 23/30\n",
      "55000/55000 [==============================] - 23s 412us/sample - loss: 0.2349 - accuracy: 0.9123 - val_loss: 0.4505 - val_accuracy: 0.8872\n",
      "Epoch 24/30\n",
      "55000/55000 [==============================] - 22s 402us/sample - loss: 0.2325 - accuracy: 0.9119 - val_loss: 0.4324 - val_accuracy: 0.8908\n",
      "Epoch 25/30\n",
      "55000/55000 [==============================] - 25s 458us/sample - loss: 0.2294 - accuracy: 0.9136 - val_loss: 0.4268 - val_accuracy: 0.8950\n",
      "Epoch 26/30\n",
      "55000/55000 [==============================] - 44s 799us/sample - loss: 0.2225 - accuracy: 0.9164 - val_loss: 0.4106 - val_accuracy: 0.8940\n",
      "Epoch 27/30\n",
      "55000/55000 [==============================] - 25s 448us/sample - loss: 0.2184 - accuracy: 0.9183 - val_loss: 0.4247 - val_accuracy: 0.8976\n",
      "Epoch 28/30\n",
      "55000/55000 [==============================] - 25s 456us/sample - loss: 0.2168 - accuracy: 0.9196 - val_loss: 0.4549 - val_accuracy: 0.8882\n",
      "Epoch 29/30\n",
      "55000/55000 [==============================] - 23s 417us/sample - loss: 0.2125 - accuracy: 0.9202 - val_loss: 0.4772 - val_accuracy: 0.8890\n",
      "Epoch 30/30\n",
      "55000/55000 [==============================] - 23s 427us/sample - loss: 0.2098 - accuracy: 0.9196 - val_loss: 0.4843 - val_accuracy: 0.8902\n"
     ]
    }
   ],
   "source": [
    "history = model.fit(\n",
    "    X_train, \n",
    "    y_train, \n",
    "    epochs=30, \n",
    "    validation_data=(X_valid, y_valid),\n",
    "    callbacks=[\n",
    "        early_stopping_cb,\n",
    "        tensorboard_cb\n",
    "    ]\n",
    ")"
   ]
  },
  {
   "cell_type": "code",
   "execution_count": 86,
   "metadata": {},
   "outputs": [
    {
     "data": {
      "image/png": "[encoded data removed]",
      "text/plain": [
       "<Figure size 576x360 with 1 Axes>"
      ]
     },
     "metadata": {
      "needs_background": "light"
     },
     "output_type": "display_data"
    }
   ],
   "source": [
    "pd.DataFrame(history.history).plot(figsize=(8, 5))\n",
    "plt.grid(True)\n",
    "plt.gca().set_ylim(0, 1) # set the vertical range to [0-1]\n",
    "plt.show()"
   ]
  },
  {
   "cell_type": "code",
   "execution_count": 87,
   "metadata": {},
   "outputs": [
    {
     "name": "stdout",
     "output_type": "stream",
     "text": [
      "10000/10000 [==============================] - 2s 165us/sample - loss: 0.5843 - accuracy: 0.8796\n"
     ]
    },
    {
     "data": {
      "text/plain": [
       "[0.584297722479701, 0.8796]"
      ]
     },
     "execution_count": 87,
     "metadata": {},
     "output_type": "execute_result"
    }
   ],
   "source": [
    "model.evaluate(X_test, y_test)"
   ]
  },
  {
   "cell_type": "code",
   "execution_count": 88,
   "metadata": {},
   "outputs": [],
   "source": [
    "test_logdir = get_run_logdir()\n",
    "writer = tf.summary.create_file_writer(test_logdir)\n",
    "with writer.as_default():\n",
    "    for step in range(1, 1000 + 1):\n",
    "        tf.summary.scalar(\"my_scalar\", np.sin(step / 10), step=step)\n",
    "        data = (np.random.randn(100) + 2) * step / 100 # some random data\n",
    "        tf.summary.histogram(\"my_hist\", data, buckets=50, step=step)\n",
    "        images = np.random.rand(2, 32, 32, 3) # random 32×32 RGB images\n",
    "        tf.summary.image(\"my_images\", images * step / 1000, step=step)\n",
    "        texts = [\"The step is \" + str(step), \"Its square is \" + str(step**2)]\n",
    "        tf.summary.text(\"my_text\", texts, step=step)\n",
    "        sine_wave = tf.math.sin(tf.range(12000) / 48000 * 2 * np.pi * step)\n",
    "        audio = tf.reshape(tf.cast(sine_wave, tf.float32), [1, -1, 1])\n",
    "        tf.summary.audio(\"my_audio\", audio, sample_rate=48000, step=step)"
   ]
  },
  {
   "cell_type": "code",
   "execution_count": 89,
   "metadata": {},
   "outputs": [
    {
     "name": "stdout",
     "output_type": "stream",
     "text": [
      "The tensorboard extension is already loaded. To reload it, use:\n",
      "  %reload_ext tensorboard\n"
     ]
    },
    {
     "data": {
      "text/plain": [
       "Reusing TensorBoard on port 6006 (pid 56876), started 0:20:31 ago. (Use '!kill 56876' to kill it.)"
      ]
     },
     "metadata": {},
     "output_type": "display_data"
    },
    {
     "data": {
      "text/html": [
       "\n",
       "      <iframe id=\"tensorboard-frame-37866a49789ab5e0\" width=\"100%\" height=\"800\" frameborder=\"0\">\n",
       "      </iframe>\n",
       "      <script>\n",
       "        (function() {\n",
       "          const frame = document.getElementById(\"tensorboard-frame-37866a49789ab5e0\");\n",
       "          const url = new URL(\"/\", window.location);\n",
       "          url.port = 6006;\n",
       "          frame.src = url;\n",
       "        })();\n",
       "      </script>\n",
       "  "
      ],
      "text/plain": [
       "<IPython.core.display.HTML object>"
      ]
     },
     "metadata": {},
     "output_type": "display_data"
    }
   ],
   "source": [
    "%load_ext tensorboard\n",
    "%tensorboard --logdir=./my_logs --port=6006"
   ]
  },
  {
   "cell_type": "code",
   "execution_count": null,
   "metadata": {},
   "outputs": [],
   "source": []
  }
 ],
 "metadata": {
  "kernelspec": {
   "display_name": "Python 3",
   "language": "python",
   "name": "python3"
  },
  "language_info": {
   "codemirror_mode": {
    "name": "ipython",
    "version": 3
   },
   "file_extension": ".py",
   "mimetype": "text/x-python",
   "name": "python",
   "nbconvert_exporter": "python",
   "pygments_lexer": "ipython3",
   "version": "3.7.7"
  }
 },
 "nbformat": 4,
 "nbformat_minor": 4
}
