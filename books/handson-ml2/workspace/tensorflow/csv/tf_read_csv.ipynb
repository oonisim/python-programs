{
 "cells": [
  {
   "cell_type": "code",
   "execution_count": 1,
   "metadata": {},
   "outputs": [],
   "source": [
    "# Python ≥3.5 is required\n",
    "import sys\n",
    "import os\n",
    "assert sys.version_info >= (3, 5)\n",
    "\n",
    "# Scikit-Learn ≥0.20 is required\n",
    "import sklearn\n",
    "assert sklearn.__version__ >= \"0.20\"\n",
    "\n",
    "# TensorFlow ≥2.0-preview is required\n",
    "import tensorflow as tf\n",
    "from tensorflow import keras\n",
    "assert tf.__version__ >= \"2.0\"\n",
    "\n",
    "# Common imports\n",
    "import numpy as np\n",
    "import os\n",
    "\n",
    "# to make this notebook's output stable across runs\n",
    "np.random.seed(42)\n",
    "\n",
    "# To plot pretty figures\n",
    "%matplotlib inline\n",
    "import matplotlib as mpl\n",
    "import matplotlib.pyplot as plt\n",
    "mpl.rc('axes', labelsize=14)\n",
    "mpl.rc('xtick', labelsize=12)\n",
    "mpl.rc('ytick', labelsize=12)"
   ]
  },
  {
   "cell_type": "markdown",
   "metadata": {},
   "source": [
    "# Constant"
   ]
  },
  {
   "cell_type": "code",
   "execution_count": 27,
   "metadata": {},
   "outputs": [],
   "source": [
    "DATA_DIR=\"/home/oonisim/home/repositories/git/oonisim/handson-ml2/datasets/california_housing\"\n",
    "LIST_FILESET=DATA_DIR + os.path.sep + \"housing*.csv\""
   ]
  },
  {
   "cell_type": "markdown",
   "metadata": {},
   "source": [
    "# Data"
   ]
  },
  {
   "cell_type": "markdown",
   "metadata": {},
   "source": [
    "## Shuffled California housing files\n",
    "See datasets/california_housing/shuffle_split.sh"
   ]
  },
  {
   "cell_type": "code",
   "execution_count": 52,
   "metadata": {},
   "outputs": [
    {
     "name": "stdout",
     "output_type": "stream",
     "text": [
      "5\r\n"
     ]
    }
   ],
   "source": [
    "file_paths = !ls {LIST_FILESET}\n",
    "!ls {LIST_FILESET} | wc -l"
   ]
  },
  {
   "cell_type": "code",
   "execution_count": 56,
   "metadata": {},
   "outputs": [
    {
     "name": "stdout",
     "output_type": "stream",
     "text": [
      "5\n",
      "/home/oonisim/home/repositories/git/oonisim/handson-ml2/datasets/california_housing/housing00.csv\n",
      "/home/oonisim/home/repositories/git/oonisim/handson-ml2/datasets/california_housing/housing01.csv\n",
      "/home/oonisim/home/repositories/git/oonisim/handson-ml2/datasets/california_housing/housing02.csv\n",
      "/home/oonisim/home/repositories/git/oonisim/handson-ml2/datasets/california_housing/housing03.csv\n",
      "/home/oonisim/home/repositories/git/oonisim/handson-ml2/datasets/california_housing/housing04.csv\n"
     ]
    }
   ],
   "source": [
    "_result = !ls {LIST_FILESET} | wc -l\n",
    "num_files = _result[0]\n",
    "print(num_files)\n",
    "\n",
    "for path in file_paths:\n",
    "    print(path)"
   ]
  },
  {
   "cell_type": "markdown",
   "metadata": {},
   "source": [
    "## Examine California housing data"
   ]
  },
  {
   "cell_type": "code",
   "execution_count": 63,
   "metadata": {},
   "outputs": [
    {
     "name": "stdout",
     "output_type": "stream",
     "text": [
      "(4129, 10)\n",
      "10\n"
     ]
    },
    {
     "data": {
      "text/html": [
       "<div>\n",
       "<style scoped>\n",
       "    .dataframe tbody tr th:only-of-type {\n",
       "        vertical-align: middle;\n",
       "    }\n",
       "\n",
       "    .dataframe tbody tr th {\n",
       "        vertical-align: top;\n",
       "    }\n",
       "\n",
       "    .dataframe thead th {\n",
       "        text-align: right;\n",
       "    }\n",
       "</style>\n",
       "<table border=\"1\" class=\"dataframe\">\n",
       "  <thead>\n",
       "    <tr style=\"text-align: right;\">\n",
       "      <th></th>\n",
       "      <th>longitude</th>\n",
       "      <th>latitude</th>\n",
       "      <th>housing_median_age</th>\n",
       "      <th>total_rooms</th>\n",
       "      <th>total_bedrooms</th>\n",
       "      <th>population</th>\n",
       "      <th>households</th>\n",
       "      <th>median_income</th>\n",
       "      <th>median_house_value</th>\n",
       "      <th>ocean_proximity</th>\n",
       "    </tr>\n",
       "  </thead>\n",
       "  <tbody>\n",
       "    <tr>\n",
       "      <th>0</th>\n",
       "      <td>-118.25</td>\n",
       "      <td>34.16</td>\n",
       "      <td>52.0</td>\n",
       "      <td>2477.0</td>\n",
       "      <td>385.0</td>\n",
       "      <td>993.0</td>\n",
       "      <td>371.0</td>\n",
       "      <td>4.9135</td>\n",
       "      <td>368100.0</td>\n",
       "      <td>&lt;1H OCEAN</td>\n",
       "    </tr>\n",
       "    <tr>\n",
       "      <th>1</th>\n",
       "      <td>-117.94</td>\n",
       "      <td>34.02</td>\n",
       "      <td>27.0</td>\n",
       "      <td>5026.0</td>\n",
       "      <td>955.0</td>\n",
       "      <td>3899.0</td>\n",
       "      <td>930.0</td>\n",
       "      <td>3.8710</td>\n",
       "      <td>162900.0</td>\n",
       "      <td>&lt;1H OCEAN</td>\n",
       "    </tr>\n",
       "    <tr>\n",
       "      <th>2</th>\n",
       "      <td>-122.01</td>\n",
       "      <td>37.37</td>\n",
       "      <td>25.0</td>\n",
       "      <td>2213.0</td>\n",
       "      <td>360.0</td>\n",
       "      <td>1066.0</td>\n",
       "      <td>390.0</td>\n",
       "      <td>7.2165</td>\n",
       "      <td>360900.0</td>\n",
       "      <td>&lt;1H OCEAN</td>\n",
       "    </tr>\n",
       "    <tr>\n",
       "      <th>3</th>\n",
       "      <td>-122.41</td>\n",
       "      <td>37.62</td>\n",
       "      <td>39.0</td>\n",
       "      <td>3119.0</td>\n",
       "      <td>758.0</td>\n",
       "      <td>1807.0</td>\n",
       "      <td>696.0</td>\n",
       "      <td>3.2216</td>\n",
       "      <td>242700.0</td>\n",
       "      <td>NEAR OCEAN</td>\n",
       "    </tr>\n",
       "    <tr>\n",
       "      <th>4</th>\n",
       "      <td>-118.16</td>\n",
       "      <td>34.01</td>\n",
       "      <td>37.0</td>\n",
       "      <td>690.0</td>\n",
       "      <td>261.0</td>\n",
       "      <td>952.0</td>\n",
       "      <td>255.0</td>\n",
       "      <td>1.6354</td>\n",
       "      <td>158900.0</td>\n",
       "      <td>&lt;1H OCEAN</td>\n",
       "    </tr>\n",
       "  </tbody>\n",
       "</table>\n",
       "</div>"
      ],
      "text/plain": [
       "   longitude  latitude  housing_median_age  total_rooms  total_bedrooms  \\\n",
       "0    -118.25     34.16                52.0       2477.0           385.0   \n",
       "1    -117.94     34.02                27.0       5026.0           955.0   \n",
       "2    -122.01     37.37                25.0       2213.0           360.0   \n",
       "3    -122.41     37.62                39.0       3119.0           758.0   \n",
       "4    -118.16     34.01                37.0        690.0           261.0   \n",
       "\n",
       "   population  households  median_income  median_house_value ocean_proximity  \n",
       "0       993.0       371.0         4.9135            368100.0       <1H OCEAN  \n",
       "1      3899.0       930.0         3.8710            162900.0       <1H OCEAN  \n",
       "2      1066.0       390.0         7.2165            360900.0       <1H OCEAN  \n",
       "3      1807.0       696.0         3.2216            242700.0      NEAR OCEAN  \n",
       "4       952.0       255.0         1.6354            158900.0       <1H OCEAN  "
      ]
     },
     "execution_count": 63,
     "metadata": {},
     "output_type": "execute_result"
    }
   ],
   "source": [
    "import pandas as pd\n",
    "\n",
    "data = pd.read_csv(file_paths[0])\n",
    "print(data.shape)\n",
    "data.head()"
   ]
  },
  {
   "cell_type": "code",
   "execution_count": 99,
   "metadata": {},
   "outputs": [],
   "source": [
    "num_fields = data.shape[1]\n",
    "record_defaults=[\n",
    "    tf.constant([0.0], dtype=tf.float32),\n",
    "    tf.constant([0.0], dtype=tf.float32),\n",
    "    tf.constant([0.0], dtype=tf.float32),\n",
    "    tf.constant([0.0], dtype=tf.float32),\n",
    "    tf.constant([0.0], dtype=tf.float32),\n",
    "    tf.constant([0.0], dtype=tf.float32),\n",
    "    tf.constant([0.0], dtype=tf.float32),\n",
    "    tf.constant([0.0], dtype=tf.float32),\n",
    "    tf.constant([0.0], dtype=tf.float32),\n",
    "    [\"\"]\n",
    "]"
   ]
  },
  {
   "cell_type": "code",
   "execution_count": 113,
   "metadata": {},
   "outputs": [],
   "source": [
    "num_fields = data.shape[1]\n",
    "record_defaults=[0.] * (num_fields -1) + [\"\"]"
   ]
  },
  {
   "cell_type": "code",
   "execution_count": 114,
   "metadata": {},
   "outputs": [
    {
     "data": {
      "text/plain": [
       "[0.0, 0.0, 0.0, 0.0, 0.0, 0.0, 0.0, 0.0, 0.0, '']"
      ]
     },
     "execution_count": 114,
     "metadata": {},
     "output_type": "execute_result"
    }
   ],
   "source": [
    "record_defaults"
   ]
  },
  {
   "cell_type": "markdown",
   "metadata": {},
   "source": [
    "# TF Dataset of the files"
   ]
  },
  {
   "cell_type": "code",
   "execution_count": 30,
   "metadata": {},
   "outputs": [],
   "source": [
    "# TF Dataset.list_files() creates a TF Dataset of file paths that matches file_pattern.\n",
    "filepaths = tf.data.Dataset.list_files(\n",
    "    file_pattern=LIST_FILESET,\n",
    "    shuffle=True,\n",
    "    seed=42\n",
    ")"
   ]
  },
  {
   "cell_type": "markdown",
   "metadata": {},
   "source": [
    "## Interleaving dataset"
   ]
  },
  {
   "cell_type": "code",
   "execution_count": 103,
   "metadata": {},
   "outputs": [
    {
     "name": "stdout",
     "output_type": "stream",
     "text": [
      "b'-122.08,37.03,36.0,4682.0,899.0,2143.0,832.0,4.5096,203700.0,NEAR OCEAN'\n",
      "b'-118.23,34.21,50.0,309.0,47.0,121.0,45.0,6.213,285000.0,<1H OCEAN'\n",
      "b'-122.31,37.93,39.0,2505.0,371.0,872.0,345.0,5.3433,286500.0,NEAR BAY'\n",
      "b'-117.11,32.75,46.0,695.0,182.0,601.0,195.0,2.4219,90600.0,NEAR OCEAN'\n",
      "b'-121.8,36.68,18.0,8581.0,1957.0,6071.0,1889.0,3.0,162200.0,<1H OCEAN'\n"
     ]
    }
   ],
   "source": [
    "# TF Dataset.interleave() creates 6 datasets:\n",
    "# 1. Create 5 (n_readers=5) text datasets by applying map_func to each of the filepaths dataset.\n",
    "# 2. Interweave each text dataset resulting in the interleaved dataset.\n",
    "interleaved_dataset = filepaths.interleave(\n",
    "    # Apply the lambda function to each element in filepaths.\n",
    "    # Here, creating a dataset comprising lines from each csv file excluding the header.\n",
    "    map_func=lambda filepath: tf.data.TextLineDataset(filepath).skip(1),\n",
    "    #  The number of input elements that will be processed concurrently.\n",
    "    cycle_length=int(num_files),\n",
    "    num_parallel_calls=tf.data.experimental.AUTOTUNE\n",
    ").shuffle(\n",
    "    buffer_size=100,\n",
    "    seed=42\n",
    ")\n",
    "\n",
    "# Print first rows (ignoring the header row) of five CSV files, chosen randomly. \n",
    "for line in interleaved_dataset.take(5):\n",
    "#    print(line)\n",
    "    print(line.numpy())"
   ]
  },
  {
   "cell_type": "code",
   "execution_count": 144,
   "metadata": {},
   "outputs": [],
   "source": [
    "@tf.function\n",
    "def preprocess(line):\n",
    "    fields = tf.io.decode_csv(line, record_defaults=record_defaults)\n",
    "    return fields"
   ]
  },
  {
   "cell_type": "code",
   "execution_count": 149,
   "metadata": {},
   "outputs": [
    {
     "name": "stdout",
     "output_type": "stream",
     "text": [
      "(<tf.Tensor: shape=(5,), dtype=float32, numpy=array([-118.46, -119.04, -122.07, -118.3 , -121.96], dtype=float32)>, <tf.Tensor: shape=(5,), dtype=float32, numpy=array([34.05, 36.07, 37.69, 34.05, 37.53], dtype=float32)>, <tf.Tensor: shape=(5,), dtype=float32, numpy=array([21., 17., 31., 34., 23.], dtype=float32)>, <tf.Tensor: shape=(5,), dtype=float32, numpy=array([3639., 2623., 5914., 1453., 2215.], dtype=float32)>, <tf.Tensor: shape=(5,), dtype=float32, numpy=array([1002.,  659., 1309.,  588.,  475.], dtype=float32)>, <tf.Tensor: shape=(5,), dtype=float32, numpy=array([1489., 1912., 2999., 1987., 1278.], dtype=float32)>, <tf.Tensor: shape=(5,), dtype=float32, numpy=array([ 983.,  618., 1295.,  589.,  492.], dtype=float32)>, <tf.Tensor: shape=(5,), dtype=float32, numpy=array([4.6197, 1.5893, 3.0964, 2.096 , 4.2955], dtype=float32)>, <tf.Tensor: shape=(5,), dtype=float32, numpy=array([387500.,  52000., 190500., 187500., 218800.], dtype=float32)>, <tf.Tensor: shape=(5,), dtype=string, numpy=\n",
      "array([b'<1H OCEAN', b'INLAND', b'NEAR BAY', b'<1H OCEAN', b'<1H OCEAN'],\n",
      "      dtype=object)>)\n",
      "(<tf.Tensor: shape=(5,), dtype=float32, numpy=array([-118.37, -122.02, -117.64, -118.02, -122.41], dtype=float32)>, <tf.Tensor: shape=(5,), dtype=float32, numpy=array([34.03, 37.95, 33.48, 33.82, 37.74], dtype=float32)>, <tf.Tensor: shape=(5,), dtype=float32, numpy=array([43., 22., 12., 19., 38.], dtype=float32)>, <tf.Tensor: shape=(5,), dtype=float32, numpy=array([1350., 3526., 2007., 2485., 1754.], dtype=float32)>, <tf.Tensor: shape=(5,), dtype=float32, numpy=array([287., 510., 397., 437., 382.], dtype=float32)>, <tf.Tensor: shape=(5,), dtype=float32, numpy=array([ 811., 1660., 1033., 1286.,  928.], dtype=float32)>, <tf.Tensor: shape=(5,), dtype=float32, numpy=array([307., 508., 373., 431., 354.], dtype=float32)>, <tf.Tensor: shape=(5,), dtype=float32, numpy=array([3.3636, 5.6642, 5.6754, 4.7466, 4.1417], dtype=float32)>, <tf.Tensor: shape=(5,), dtype=float32, numpy=array([140900., 237000., 275900., 258300., 270800.], dtype=float32)>, <tf.Tensor: shape=(5,), dtype=string, numpy=\n",
      "array([b'<1H OCEAN', b'NEAR BAY', b'<1H OCEAN', b'<1H OCEAN', b'NEAR BAY'],\n",
      "      dtype=object)>)\n",
      "(<tf.Tensor: shape=(5,), dtype=float32, numpy=array([-122.43, -121.94, -118.12, -120.15, -118.36], dtype=float32)>, <tf.Tensor: shape=(5,), dtype=float32, numpy=array([37.72, 37.34, 33.81, 39.8 , 34.05], dtype=float32)>, <tf.Tensor: shape=(5,), dtype=float32, numpy=array([50., 42., 36., 19., 50.], dtype=float32)>, <tf.Tensor: shape=(5,), dtype=float32, numpy=array([2912., 2174., 1774.,  785., 3518.], dtype=float32)>, <tf.Tensor: shape=(5,), dtype=float32, numpy=array([562., 420., 299., 151., 812.], dtype=float32)>, <tf.Tensor: shape=(5,), dtype=float32, numpy=array([1989., 1304.,  784.,  366., 1724.], dtype=float32)>, <tf.Tensor: shape=(5,), dtype=float32, numpy=array([537., 464., 298., 140., 758.], dtype=float32)>, <tf.Tensor: shape=(5,), dtype=float32, numpy=array([3.6667, 3.1429, 5.0447, 3.0625, 3.0833], dtype=float32)>, <tf.Tensor: shape=(5,), dtype=float32, numpy=array([252600., 286500., 249200.,  82500., 338100.], dtype=float32)>, <tf.Tensor: shape=(5,), dtype=string, numpy=\n",
      "array([b'NEAR BAY', b'<1H OCEAN', b'<1H OCEAN', b'INLAND', b'<1H OCEAN'],\n",
      "      dtype=object)>)\n",
      "(<tf.Tensor: shape=(5,), dtype=float32, numpy=array([-122.41, -122.31, -118.37, -122.38, -117.97], dtype=float32)>, <tf.Tensor: shape=(5,), dtype=float32, numpy=array([37.71, 37.56, 33.88, 37.73, 33.78], dtype=float32)>, <tf.Tensor: shape=(5,), dtype=float32, numpy=array([28., 45., 20., 40., 35.], dtype=float32)>, <tf.Tensor: shape=(5,), dtype=float32, numpy=array([5015., 1685., 2439.,  543., 3148.], dtype=float32)>, <tf.Tensor: shape=(5,), dtype=float32, numpy=array([1240.,  321.,  474.,    0.,  597.], dtype=float32)>, <tf.Tensor: shape=(5,), dtype=float32, numpy=array([3900.,  815., 1219.,  259., 2110.], dtype=float32)>, <tf.Tensor: shape=(5,), dtype=float32, numpy=array([1029.,  314.,  497.,   89.,  587.], dtype=float32)>, <tf.Tensor: shape=(5,), dtype=float32, numpy=array([1.2269, 4.2955, 5.9619, 2.2167, 3.9479], dtype=float32)>, <tf.Tensor: shape=(5,), dtype=float32, numpy=array([181900., 309700., 335900., 193800., 203800.], dtype=float32)>, <tf.Tensor: shape=(5,), dtype=string, numpy=\n",
      "array([b'NEAR BAY', b'NEAR OCEAN', b'<1H OCEAN', b'NEAR BAY',\n",
      "       b'<1H OCEAN'], dtype=object)>)\n",
      "(<tf.Tensor: shape=(5,), dtype=float32, numpy=array([-121.34, -118.23, -120.86, -116.19, -117.18], dtype=float32)>, <tf.Tensor: shape=(5,), dtype=float32, numpy=array([38.66, 34.21, 35.4 , 33.69, 34.06], dtype=float32)>, <tf.Tensor: shape=(5,), dtype=float32, numpy=array([17., 50., 21., 11., 52.], dtype=float32)>, <tf.Tensor: shape=(5,), dtype=float32, numpy=array([1149.,  309., 2787., 5692.,  954.], dtype=float32)>, <tf.Tensor: shape=(5,), dtype=float32, numpy=array([ 257.,   47.,  641., 1346.,  233.], dtype=float32)>, <tf.Tensor: shape=(5,), dtype=float32, numpy=array([ 583.,  121., 1106., 5682.,  533.], dtype=float32)>, <tf.Tensor: shape=(5,), dtype=float32, numpy=array([ 243.,   45.,  501., 1273.,  239.], dtype=float32)>, <tf.Tensor: shape=(5,), dtype=float32, numpy=array([2.8092, 6.213 , 2.7043, 2.5383, 1.3021], dtype=float32)>, <tf.Tensor: shape=(5,), dtype=float32, numpy=array([137500., 285000., 186200.,  74000., 100000.], dtype=float32)>, <tf.Tensor: shape=(5,), dtype=string, numpy=\n",
      "array([b'INLAND', b'<1H OCEAN', b'NEAR OCEAN', b'INLAND', b'INLAND'],\n",
      "      dtype=object)>)\n"
     ]
    }
   ],
   "source": [
    "preprocessed_dataset = interleaved_dataset.map(\n",
    "    preprocess,\n",
    "    num_parallel_calls=tf.data.experimental.AUTOTUNE\n",
    ").batch(\n",
    "    batch_size=5,\n",
    "    drop_remainder=False\n",
    ").prefetch(\n",
    "    buffer_size=1\n",
    ")\n",
    "\n",
    "for x in preprocessed_dataset.take(5):\n",
    "    print(x)\n"
   ]
  },
  {
   "cell_type": "code",
   "execution_count": 149,
   "metadata": {},
   "outputs": [
    {
     "name": "stdout",
     "output_type": "stream",
     "text": [
      "(<tf.Tensor: shape=(5,), dtype=float32, numpy=array([-118.46, -119.04, -122.07, -118.3 , -121.96], dtype=float32)>, <tf.Tensor: shape=(5,), dtype=float32, numpy=array([34.05, 36.07, 37.69, 34.05, 37.53], dtype=float32)>, <tf.Tensor: shape=(5,), dtype=float32, numpy=array([21., 17., 31., 34., 23.], dtype=float32)>, <tf.Tensor: shape=(5,), dtype=float32, numpy=array([3639., 2623., 5914., 1453., 2215.], dtype=float32)>, <tf.Tensor: shape=(5,), dtype=float32, numpy=array([1002.,  659., 1309.,  588.,  475.], dtype=float32)>, <tf.Tensor: shape=(5,), dtype=float32, numpy=array([1489., 1912., 2999., 1987., 1278.], dtype=float32)>, <tf.Tensor: shape=(5,), dtype=float32, numpy=array([ 983.,  618., 1295.,  589.,  492.], dtype=float32)>, <tf.Tensor: shape=(5,), dtype=float32, numpy=array([4.6197, 1.5893, 3.0964, 2.096 , 4.2955], dtype=float32)>, <tf.Tensor: shape=(5,), dtype=float32, numpy=array([387500.,  52000., 190500., 187500., 218800.], dtype=float32)>, <tf.Tensor: shape=(5,), dtype=string, numpy=\n",
      "array([b'<1H OCEAN', b'INLAND', b'NEAR BAY', b'<1H OCEAN', b'<1H OCEAN'],\n",
      "      dtype=object)>)\n",
      "(<tf.Tensor: shape=(5,), dtype=float32, numpy=array([-118.37, -122.02, -117.64, -118.02, -122.41], dtype=float32)>, <tf.Tensor: shape=(5,), dtype=float32, numpy=array([34.03, 37.95, 33.48, 33.82, 37.74], dtype=float32)>, <tf.Tensor: shape=(5,), dtype=float32, numpy=array([43., 22., 12., 19., 38.], dtype=float32)>, <tf.Tensor: shape=(5,), dtype=float32, numpy=array([1350., 3526., 2007., 2485., 1754.], dtype=float32)>, <tf.Tensor: shape=(5,), dtype=float32, numpy=array([287., 510., 397., 437., 382.], dtype=float32)>, <tf.Tensor: shape=(5,), dtype=float32, numpy=array([ 811., 1660., 1033., 1286.,  928.], dtype=float32)>, <tf.Tensor: shape=(5,), dtype=float32, numpy=array([307., 508., 373., 431., 354.], dtype=float32)>, <tf.Tensor: shape=(5,), dtype=float32, numpy=array([3.3636, 5.6642, 5.6754, 4.7466, 4.1417], dtype=float32)>, <tf.Tensor: shape=(5,), dtype=float32, numpy=array([140900., 237000., 275900., 258300., 270800.], dtype=float32)>, <tf.Tensor: shape=(5,), dtype=string, numpy=\n",
      "array([b'<1H OCEAN', b'NEAR BAY', b'<1H OCEAN', b'<1H OCEAN', b'NEAR BAY'],\n",
      "      dtype=object)>)\n",
      "(<tf.Tensor: shape=(5,), dtype=float32, numpy=array([-122.43, -121.94, -118.12, -120.15, -118.36], dtype=float32)>, <tf.Tensor: shape=(5,), dtype=float32, numpy=array([37.72, 37.34, 33.81, 39.8 , 34.05], dtype=float32)>, <tf.Tensor: shape=(5,), dtype=float32, numpy=array([50., 42., 36., 19., 50.], dtype=float32)>, <tf.Tensor: shape=(5,), dtype=float32, numpy=array([2912., 2174., 1774.,  785., 3518.], dtype=float32)>, <tf.Tensor: shape=(5,), dtype=float32, numpy=array([562., 420., 299., 151., 812.], dtype=float32)>, <tf.Tensor: shape=(5,), dtype=float32, numpy=array([1989., 1304.,  784.,  366., 1724.], dtype=float32)>, <tf.Tensor: shape=(5,), dtype=float32, numpy=array([537., 464., 298., 140., 758.], dtype=float32)>, <tf.Tensor: shape=(5,), dtype=float32, numpy=array([3.6667, 3.1429, 5.0447, 3.0625, 3.0833], dtype=float32)>, <tf.Tensor: shape=(5,), dtype=float32, numpy=array([252600., 286500., 249200.,  82500., 338100.], dtype=float32)>, <tf.Tensor: shape=(5,), dtype=string, numpy=\n",
      "array([b'NEAR BAY', b'<1H OCEAN', b'<1H OCEAN', b'INLAND', b'<1H OCEAN'],\n",
      "      dtype=object)>)\n",
      "(<tf.Tensor: shape=(5,), dtype=float32, numpy=array([-122.41, -122.31, -118.37, -122.38, -117.97], dtype=float32)>, <tf.Tensor: shape=(5,), dtype=float32, numpy=array([37.71, 37.56, 33.88, 37.73, 33.78], dtype=float32)>, <tf.Tensor: shape=(5,), dtype=float32, numpy=array([28., 45., 20., 40., 35.], dtype=float32)>, <tf.Tensor: shape=(5,), dtype=float32, numpy=array([5015., 1685., 2439.,  543., 3148.], dtype=float32)>, <tf.Tensor: shape=(5,), dtype=float32, numpy=array([1240.,  321.,  474.,    0.,  597.], dtype=float32)>, <tf.Tensor: shape=(5,), dtype=float32, numpy=array([3900.,  815., 1219.,  259., 2110.], dtype=float32)>, <tf.Tensor: shape=(5,), dtype=float32, numpy=array([1029.,  314.,  497.,   89.,  587.], dtype=float32)>, <tf.Tensor: shape=(5,), dtype=float32, numpy=array([1.2269, 4.2955, 5.9619, 2.2167, 3.9479], dtype=float32)>, <tf.Tensor: shape=(5,), dtype=float32, numpy=array([181900., 309700., 335900., 193800., 203800.], dtype=float32)>, <tf.Tensor: shape=(5,), dtype=string, numpy=\n",
      "array([b'NEAR BAY', b'NEAR OCEAN', b'<1H OCEAN', b'NEAR BAY',\n",
      "       b'<1H OCEAN'], dtype=object)>)\n",
      "(<tf.Tensor: shape=(5,), dtype=float32, numpy=array([-121.34, -118.23, -120.86, -116.19, -117.18], dtype=float32)>, <tf.Tensor: shape=(5,), dtype=float32, numpy=array([38.66, 34.21, 35.4 , 33.69, 34.06], dtype=float32)>, <tf.Tensor: shape=(5,), dtype=float32, numpy=array([17., 50., 21., 11., 52.], dtype=float32)>, <tf.Tensor: shape=(5,), dtype=float32, numpy=array([1149.,  309., 2787., 5692.,  954.], dtype=float32)>, <tf.Tensor: shape=(5,), dtype=float32, numpy=array([ 257.,   47.,  641., 1346.,  233.], dtype=float32)>, <tf.Tensor: shape=(5,), dtype=float32, numpy=array([ 583.,  121., 1106., 5682.,  533.], dtype=float32)>, <tf.Tensor: shape=(5,), dtype=float32, numpy=array([ 243.,   45.,  501., 1273.,  239.], dtype=float32)>, <tf.Tensor: shape=(5,), dtype=float32, numpy=array([2.8092, 6.213 , 2.7043, 2.5383, 1.3021], dtype=float32)>, <tf.Tensor: shape=(5,), dtype=float32, numpy=array([137500., 285000., 186200.,  74000., 100000.], dtype=float32)>, <tf.Tensor: shape=(5,), dtype=string, numpy=\n",
      "array([b'INLAND', b'<1H OCEAN', b'NEAR OCEAN', b'INLAND', b'INLAND'],\n",
      "      dtype=object)>)\n"
     ]
    }
   ],
   "source": [
    "preprocessed_dataset = interleaved_dataset.map(\n",
    "    preprocess,\n",
    "    num_parallel_calls=tf.data.experimental.AUTOTUNE\n",
    ").batch(\n",
    "    batch_size=5,\n",
    "    drop_remainder=False\n",
    ").prefetch(\n",
    "    buffer_size=1\n",
    ")\n",
    "\n",
    "for x in preprocessed_dataset.take(5):\n",
    "    print(x)\n"
   ]
  },
  {
   "cell_type": "code",
   "execution_count": null,
   "metadata": {},
   "outputs": [],
   "source": []
  }
 ],
 "metadata": {
  "kernelspec": {
   "display_name": "Python 3",
   "language": "python",
   "name": "python3"
  },
  "language_info": {
   "codemirror_mode": {
    "name": "ipython",
    "version": 3
   },
   "file_extension": ".py",
   "mimetype": "text/x-python",
   "name": "python",
   "nbconvert_exporter": "python",
   "pygments_lexer": "ipython3",
   "version": "3.7.7"
  }
 },
 "nbformat": 4,
 "nbformat_minor": 4
}
