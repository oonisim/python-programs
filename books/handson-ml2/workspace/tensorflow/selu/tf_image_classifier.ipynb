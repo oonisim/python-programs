{
 "cells": [
  {
   "cell_type": "code",
   "execution_count": 46,
   "metadata": {},
   "outputs": [
    {
     "name": "stdout",
     "output_type": "stream",
     "text": [
      "2.1.0\n",
      "2.2.4-tf\n"
     ]
    }
   ],
   "source": [
    "import tensorflow as tf\n",
    "from tensorflow import keras\n",
    "import numpy as np\n",
    "\n",
    "print(tf.__version__)\n",
    "print(keras.__version__)"
   ]
  },
  {
   "cell_type": "markdown",
   "metadata": {},
   "source": [
    "# Utilities"
   ]
  },
  {
   "cell_type": "code",
   "execution_count": 29,
   "metadata": {},
   "outputs": [
    {
     "name": "stdout",
     "output_type": "stream",
     "text": [
      "/home/oonisim/home/repositories/git/oonisim/handson-ml2/workspace\n"
     ]
    }
   ],
   "source": [
    "import os\n",
    "root_logdir = os.path.join(os.curdir, \"my_logs\")\n",
    "print(os.getcwd())\n",
    "\n",
    "def get_run_logdir():\n",
    "    import time\n",
    "    run_id = time.strftime(\"run_%Y_%m_%d-%H_%M_%S\")\n",
    "    return os.path.join(root_logdir, run_id)\n",
    "\n",
    "run_logdir = get_run_logdir() # e.g., './my_logs/run_2019_06_07-15_15_22'"
   ]
  },
  {
   "cell_type": "markdown",
   "metadata": {},
   "source": [
    "# Data"
   ]
  },
  {
   "cell_type": "code",
   "execution_count": 30,
   "metadata": {},
   "outputs": [],
   "source": [
    "fashion_mnist = keras.datasets.fashion_mnist\n",
    "(X_train_full, y_train_full), (X_test, y_test) = fashion_mnist.load_data()"
   ]
  },
  {
   "cell_type": "code",
   "execution_count": 31,
   "metadata": {},
   "outputs": [
    {
     "data": {
      "text/plain": [
       "numpy.ndarray"
      ]
     },
     "execution_count": 31,
     "metadata": {},
     "output_type": "execute_result"
    }
   ],
   "source": [
    "type(X_train_full)"
   ]
  },
  {
   "cell_type": "code",
   "execution_count": 32,
   "metadata": {},
   "outputs": [],
   "source": [
    "X_valid, X_train = X_train_full[:5000] / 255.0, X_train_full[5000:] / 255.0\n",
    "y_valid, y_train = y_train_full[:5000], y_train_full[5000:]\n",
    "X_test = X_test / 255.0"
   ]
  },
  {
   "cell_type": "code",
   "execution_count": 33,
   "metadata": {},
   "outputs": [
    {
     "name": "stdout",
     "output_type": "stream",
     "text": [
      "float64\n",
      "(55000, 28, 28)\n"
     ]
    }
   ],
   "source": [
    "print(X_train.dtype)\n",
    "print(X_train.shape)"
   ]
  },
  {
   "cell_type": "code",
   "execution_count": 34,
   "metadata": {},
   "outputs": [],
   "source": [
    "class_names = [\n",
    "    \"T-shirt/top\", \"Trouser\", \"Pullover\", \"Dress\", \"Coat\", \"Sandal\", \"Shirt\", \"Sneaker\", \"Bag\", \"Ankle boot\"\n",
    "]"
   ]
  },
  {
   "cell_type": "code",
   "execution_count": 35,
   "metadata": {},
   "outputs": [
    {
     "data": {
      "text/plain": [
       "'Coat'"
      ]
     },
     "execution_count": 35,
     "metadata": {},
     "output_type": "execute_result"
    }
   ],
   "source": [
    "class_names[y_train[0]]"
   ]
  },
  {
   "cell_type": "markdown",
   "metadata": {},
   "source": [
    "# Model"
   ]
  },
  {
   "cell_type": "code",
   "execution_count": 36,
   "metadata": {},
   "outputs": [],
   "source": [
    "model = keras.models.Sequential()\n",
    "model.add(keras.layers.Flatten(input_shape=[28, 28]))\n",
    "model.add(keras.layers.Dense(300, activation=\"relu\"))\n",
    "model.add(keras.layers.Dense(100, activation=\"relu\"))\n",
    "model.add(keras.layers.Dense(len(class_names), activation=\"softmax\"))"
   ]
  },
  {
   "cell_type": "code",
   "execution_count": 37,
   "metadata": {},
   "outputs": [
    {
     "name": "stdout",
     "output_type": "stream",
     "text": [
      "Model: \"sequential_1\"\n",
      "_________________________________________________________________\n",
      "Layer (type)                 Output Shape              Param #   \n",
      "=================================================================\n",
      "flatten_1 (Flatten)          (None, 784)               0         \n",
      "_________________________________________________________________\n",
      "dense_3 (Dense)              (None, 300)               235500    \n",
      "_________________________________________________________________\n",
      "dense_4 (Dense)              (None, 100)               30100     \n",
      "_________________________________________________________________\n",
      "dense_5 (Dense)              (None, 10)                1010      \n",
      "=================================================================\n",
      "Total params: 266,610\n",
      "Trainable params: 266,610\n",
      "Non-trainable params: 0\n",
      "_________________________________________________________________\n"
     ]
    }
   ],
   "source": [
    "# First layter 784 × 300 connection weights, plus 300 bias terms, which adds up to 235,500 parameters\n",
    "model.summary()"
   ]
  },
  {
   "cell_type": "code",
   "execution_count": 38,
   "metadata": {},
   "outputs": [
    {
     "name": "stdout",
     "output_type": "stream",
     "text": [
      "dense_3\n"
     ]
    },
    {
     "data": {
      "text/plain": [
       "array([[ 0.01283181, -0.04363849,  0.00420354, ...,  0.05277629,\n",
       "        -0.02500245, -0.04896446],\n",
       "       [ 0.05099496, -0.01970569,  0.07249585, ...,  0.06550682,\n",
       "        -0.0275849 , -0.05232431],\n",
       "       [ 0.05682044, -0.05970134,  0.01657232, ...,  0.00221235,\n",
       "        -0.02660386, -0.02430792],\n",
       "       ...,\n",
       "       [-0.00677308, -0.07008056,  0.01469636, ...,  0.00321642,\n",
       "        -0.0608648 , -0.04604502],\n",
       "       [-0.01487913,  0.01606531,  0.00186215, ...,  0.05284923,\n",
       "         0.03244198,  0.00373627],\n",
       "       [-0.07167386, -0.05469703, -0.06296001, ...,  0.02835721,\n",
       "        -0.01086953, -0.04861474]], dtype=float32)"
      ]
     },
     "execution_count": 38,
     "metadata": {},
     "output_type": "execute_result"
    }
   ],
   "source": [
    "# Get the weidhts and biases in a layer\n",
    "hidden1 = model.layers[1]\n",
    "print(hidden1.name)\n",
    "\n",
    "weights, biases = hidden1.get_weights()\n",
    "weights"
   ]
  },
  {
   "cell_type": "code",
   "execution_count": 39,
   "metadata": {},
   "outputs": [],
   "source": [
    "# Attach computation logic to the model\n",
    "model.compile(\n",
    "    loss=\"sparse_categorical_crossentropy\",   # Cross entropy loss for sparse categorical labels\n",
    "    #optimizer=\"sgd\",                          \n",
    "    optimizer=keras.optimizers.SGD(lr=0.01),  # Use stochastic gradient descent\n",
    "    metrics=[\"accuracy\"]                      # Evaluate the model performance with accuracy.\n",
    ")"
   ]
  },
  {
   "cell_type": "markdown",
   "metadata": {},
   "source": [
    "### Callbacks"
   ]
  },
  {
   "cell_type": "code",
   "execution_count": 40,
   "metadata": {},
   "outputs": [],
   "source": [
    "early_stopping_cb = keras.callbacks.EarlyStopping(\n",
    "  patience=10,\n",
    "  restore_best_weights=True\n",
    ")\n",
    "tensorboard_cb = keras.callbacks.TensorBoard(run_logdir)"
   ]
  },
  {
   "cell_type": "code",
   "execution_count": 41,
   "metadata": {},
   "outputs": [
    {
     "name": "stdout",
     "output_type": "stream",
     "text": [
      "Train on 55000 samples, validate on 5000 samples\n",
      "Epoch 1/30\n",
      "55000/55000 [==============================] - 19s 351us/sample - loss: 0.7119 - accuracy: 0.7670 - val_loss: 0.5128 - val_accuracy: 0.8282\n",
      "Epoch 2/30\n",
      "55000/55000 [==============================] - 16s 295us/sample - loss: 0.4883 - accuracy: 0.8302 - val_loss: 0.4507 - val_accuracy: 0.8418\n",
      "Epoch 3/30\n",
      "55000/55000 [==============================] - 19s 338us/sample - loss: 0.4428 - accuracy: 0.8448 - val_loss: 0.4237 - val_accuracy: 0.8540\n",
      "Epoch 4/30\n",
      "55000/55000 [==============================] - 26s 482us/sample - loss: 0.4155 - accuracy: 0.8545 - val_loss: 0.4037 - val_accuracy: 0.8598\n",
      "Epoch 5/30\n",
      "55000/55000 [==============================] - 29s 528us/sample - loss: 0.3957 - accuracy: 0.8612 - val_loss: 0.4037 - val_accuracy: 0.8544\n",
      "Epoch 6/30\n",
      "55000/55000 [==============================] - 27s 486us/sample - loss: 0.3786 - accuracy: 0.8664 - val_loss: 0.3755 - val_accuracy: 0.8684\n",
      "Epoch 7/30\n",
      "55000/55000 [==============================] - 18s 336us/sample - loss: 0.3659 - accuracy: 0.8719 - val_loss: 0.3636 - val_accuracy: 0.8706\n",
      "Epoch 8/30\n",
      "55000/55000 [==============================] - 21s 387us/sample - loss: 0.3553 - accuracy: 0.8737 - val_loss: 0.3691 - val_accuracy: 0.8698\n",
      "Epoch 9/30\n",
      "55000/55000 [==============================] - 24s 442us/sample - loss: 0.3458 - accuracy: 0.8782 - val_loss: 0.3559 - val_accuracy: 0.8718\n",
      "Epoch 10/30\n",
      "55000/55000 [==============================] - 28s 506us/sample - loss: 0.3344 - accuracy: 0.8814 - val_loss: 0.3665 - val_accuracy: 0.8662\n",
      "Epoch 11/30\n",
      "55000/55000 [==============================] - 35s 629us/sample - loss: 0.3263 - accuracy: 0.8843 - val_loss: 0.3627 - val_accuracy: 0.8672\n",
      "Epoch 12/30\n",
      "55000/55000 [==============================] - 34s 627us/sample - loss: 0.3177 - accuracy: 0.8858 - val_loss: 0.3315 - val_accuracy: 0.8840\n",
      "Epoch 13/30\n",
      "55000/55000 [==============================] - 19s 354us/sample - loss: 0.3105 - accuracy: 0.8883 - val_loss: 0.3318 - val_accuracy: 0.8838\n",
      "Epoch 14/30\n",
      "55000/55000 [==============================] - 35s 634us/sample - loss: 0.3034 - accuracy: 0.8919 - val_loss: 0.3261 - val_accuracy: 0.8850\n",
      "Epoch 15/30\n",
      "55000/55000 [==============================] - 32s 578us/sample - loss: 0.2966 - accuracy: 0.8929 - val_loss: 0.3162 - val_accuracy: 0.8882\n",
      "Epoch 16/30\n",
      "55000/55000 [==============================] - 29s 534us/sample - loss: 0.2910 - accuracy: 0.8948 - val_loss: 0.3284 - val_accuracy: 0.8818\n",
      "Epoch 17/30\n",
      "55000/55000 [==============================] - 24s 439us/sample - loss: 0.2850 - accuracy: 0.8980 - val_loss: 0.3223 - val_accuracy: 0.8882\n",
      "Epoch 18/30\n",
      "55000/55000 [==============================] - 21s 376us/sample - loss: 0.2785 - accuracy: 0.9001 - val_loss: 0.3112 - val_accuracy: 0.8876\n",
      "Epoch 19/30\n",
      "55000/55000 [==============================] - 31s 559us/sample - loss: 0.2737 - accuracy: 0.9020 - val_loss: 0.3054 - val_accuracy: 0.8866\n",
      "Epoch 20/30\n",
      "55000/55000 [==============================] - 43s 787us/sample - loss: 0.2694 - accuracy: 0.9020 - val_loss: 0.3103 - val_accuracy: 0.8886\n",
      "Epoch 21/30\n",
      "55000/55000 [==============================] - 40s 731us/sample - loss: 0.2637 - accuracy: 0.9042 - val_loss: 0.3040 - val_accuracy: 0.8872\n",
      "Epoch 22/30\n",
      "55000/55000 [==============================] - 40s 728us/sample - loss: 0.2593 - accuracy: 0.9074 - val_loss: 0.3137 - val_accuracy: 0.8886\n",
      "Epoch 23/30\n",
      "55000/55000 [==============================] - 43s 786us/sample - loss: 0.2550 - accuracy: 0.9071 - val_loss: 0.3063 - val_accuracy: 0.8898\n",
      "Epoch 24/30\n",
      "55000/55000 [==============================] - 46s 836us/sample - loss: 0.2494 - accuracy: 0.9095 - val_loss: 0.3059 - val_accuracy: 0.8886\n",
      "Epoch 25/30\n",
      "55000/55000 [==============================] - 39s 714us/sample - loss: 0.2458 - accuracy: 0.9107 - val_loss: 0.3199 - val_accuracy: 0.8830\n",
      "Epoch 26/30\n",
      "55000/55000 [==============================] - 39s 710us/sample - loss: 0.2414 - accuracy: 0.9136 - val_loss: 0.3252 - val_accuracy: 0.8834\n",
      "Epoch 27/30\n",
      "55000/55000 [==============================] - 33s 593us/sample - loss: 0.2373 - accuracy: 0.9145 - val_loss: 0.2966 - val_accuracy: 0.8944\n",
      "Epoch 28/30\n",
      "55000/55000 [==============================] - 24s 434us/sample - loss: 0.2343 - accuracy: 0.9154 - val_loss: 0.2924 - val_accuracy: 0.8924\n",
      "Epoch 29/30\n",
      "55000/55000 [==============================] - 38s 688us/sample - loss: 0.2299 - accuracy: 0.9162 - val_loss: 0.2886 - val_accuracy: 0.8972\n",
      "Epoch 30/30\n",
      "55000/55000 [==============================] - 31s 570us/sample - loss: 0.2266 - accuracy: 0.9177 - val_loss: 0.2916 - val_accuracy: 0.8956\n"
     ]
    }
   ],
   "source": [
    "history = model.fit(\n",
    "    X_train, \n",
    "    y_train, \n",
    "    epochs=30, \n",
    "    validation_data=(X_valid, y_valid),\n",
    "    callbacks=[\n",
    "        early_stopping_cb,\n",
    "        tensorboard_cb\n",
    "    ]\n",
    ")"
   ]
  },
  {
   "cell_type": "code",
   "execution_count": 42,
   "metadata": {},
   "outputs": [
    {
     "data": {
      "image/png": "[encoded data removed]",
      "text/plain": [
       "<Figure size 576x360 with 1 Axes>"
      ]
     },
     "metadata": {
      "needs_background": "light"
     },
     "output_type": "display_data"
    }
   ],
   "source": [
    "import pandas as pd\n",
    "import matplotlib.pyplot as plt\n",
    "\n",
    "pd.DataFrame(history.history).plot(figsize=(8, 5))\n",
    "plt.grid(True)\n",
    "plt.gca().set_ylim(0, 1) # set the vertical range to [0-1]\n",
    "plt.show()"
   ]
  },
  {
   "cell_type": "code",
   "execution_count": 43,
   "metadata": {},
   "outputs": [
    {
     "name": "stdout",
     "output_type": "stream",
     "text": [
      "10000/10000 [==============================] - 2s 228us/sample - loss: 0.3282 - accuracy: 0.8850\n"
     ]
    },
    {
     "data": {
      "text/plain": [
       "[0.32815694898366926, 0.885]"
      ]
     },
     "execution_count": 43,
     "metadata": {},
     "output_type": "execute_result"
    }
   ],
   "source": [
    "model.evaluate(X_test, y_test)"
   ]
  },
  {
   "cell_type": "code",
   "execution_count": 47,
   "metadata": {},
   "outputs": [],
   "source": [
    "test_logdir = get_run_logdir()\n",
    "writer = tf.summary.create_file_writer(test_logdir)\n",
    "with writer.as_default():\n",
    "    for step in range(1, 1000 + 1):\n",
    "        tf.summary.scalar(\"my_scalar\", np.sin(step / 10), step=step)\n",
    "        data = (np.random.randn(100) + 2) * step / 100 # some random data\n",
    "        tf.summary.histogram(\"my_hist\", data, buckets=50, step=step)\n",
    "        images = np.random.rand(2, 32, 32, 3) # random 32×32 RGB images\n",
    "        tf.summary.image(\"my_images\", images * step / 1000, step=step)\n",
    "        texts = [\"The step is \" + str(step), \"Its square is \" + str(step**2)]\n",
    "        tf.summary.text(\"my_text\", texts, step=step)\n",
    "        sine_wave = tf.math.sin(tf.range(12000) / 48000 * 2 * np.pi * step)\n",
    "        audio = tf.reshape(tf.cast(sine_wave, tf.float32), [1, -1, 1])\n",
    "        tf.summary.audio(\"my_audio\", audio, sample_rate=48000, step=step)"
   ]
  },
  {
   "cell_type": "code",
   "execution_count": 44,
   "metadata": {},
   "outputs": [
    {
     "data": {
      "text/plain": [
       "Reusing TensorBoard on port 6006 (pid 35986), started 1:37:25 ago. (Use '!kill 35986' to kill it.)"
      ]
     },
     "metadata": {},
     "output_type": "display_data"
    },
    {
     "data": {
      "text/html": [
       "\n",
       "      <iframe id=\"tensorboard-frame-d564fc97138db80b\" width=\"100%\" height=\"800\" frameborder=\"0\">\n",
       "      </iframe>\n",
       "      <script>\n",
       "        (function() {\n",
       "          const frame = document.getElementById(\"tensorboard-frame-d564fc97138db80b\");\n",
       "          const url = new URL(\"/\", window.location);\n",
       "          url.port = 6006;\n",
       "          frame.src = url;\n",
       "        })();\n",
       "      </script>\n",
       "  "
      ],
      "text/plain": [
       "<IPython.core.display.HTML object>"
      ]
     },
     "metadata": {},
     "output_type": "display_data"
    }
   ],
   "source": [
    "%load_ext tensorboard\n",
    "%tensorboard --logdir=./my_logs --port=6006"
   ]
  },
  {
   "cell_type": "code",
   "execution_count": null,
   "metadata": {},
   "outputs": [],
   "source": []
  }
 ],
 "metadata": {
  "kernelspec": {
   "display_name": "Python 3",
   "language": "python",
   "name": "python3"
  },
  "language_info": {
   "codemirror_mode": {
    "name": "ipython",
    "version": 3
   },
   "file_extension": ".py",
   "mimetype": "text/x-python",
   "name": "python",
   "nbconvert_exporter": "python",
   "pygments_lexer": "ipython3",
   "version": "3.7.7"
  }
 },
 "nbformat": 4,
 "nbformat_minor": 4
}
