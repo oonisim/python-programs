{
 "cells": [
  {
   "cell_type": "code",
   "execution_count": 1,
   "metadata": {},
   "outputs": [],
   "source": [
    "import pandas as pd\n",
    "import os\n",
    "import sys\n",
    "import tensorflow as tf\n",
    "import numpy as np\n",
    "import tensorflow_hub as hub"
   ]
  },
  {
   "cell_type": "code",
   "execution_count": 2,
   "metadata": {},
   "outputs": [],
   "source": [
    "import wandb\n",
    "from wandb.keras import WandbCallback"
   ]
  },
  {
   "cell_type": "code",
   "execution_count": 2,
   "metadata": {},
   "outputs": [],
   "source": [
    "nb_dir = os.path.split(os.getcwd())[0]\n",
    "if nb_dir not in sys.path:\n",
    "    sys.path.append(nb_dir)"
   ]
  },
  {
   "cell_type": "code",
   "execution_count": 3,
   "metadata": {},
   "outputs": [],
   "source": [
    "feature_names = [\"product\", \"sub_product\", \"issue\", \"sub_issue\", \"state\", \"zip_code\", \"company\", \"company_response\", \"timely_response\", \"consumer_disputed\", \"consumer_complaint_narrative\"]\n",
    "one_hot_features = ['product', 'sub_product', 'company_response', 'state', 'issue']\n",
    "numeric_features = ['zip_code']\n",
    "text_features = ['consumer_complaint_narrative']"
   ]
  },
  {
   "cell_type": "code",
   "execution_count": 5,
   "metadata": {},
   "outputs": [],
   "source": [
    "df = pd.read_csv('../data/consumer_complaints_with_narrative.csv', usecols=feature_names)"
   ]
  },
  {
   "cell_type": "code",
   "execution_count": 6,
   "metadata": {},
   "outputs": [
    {
     "data": {
      "text/html": [
       "<div>\n",
       "<style scoped>\n",
       "    .dataframe tbody tr th:only-of-type {\n",
       "        vertical-align: middle;\n",
       "    }\n",
       "\n",
       "    .dataframe tbody tr th {\n",
       "        vertical-align: top;\n",
       "    }\n",
       "\n",
       "    .dataframe thead th {\n",
       "        text-align: right;\n",
       "    }\n",
       "</style>\n",
       "<table border=\"1\" class=\"dataframe\">\n",
       "  <thead>\n",
       "    <tr style=\"text-align: right;\">\n",
       "      <th></th>\n",
       "      <th>product</th>\n",
       "      <th>sub_product</th>\n",
       "      <th>issue</th>\n",
       "      <th>sub_issue</th>\n",
       "      <th>consumer_complaint_narrative</th>\n",
       "      <th>company</th>\n",
       "      <th>state</th>\n",
       "      <th>zip_code</th>\n",
       "      <th>company_response</th>\n",
       "      <th>timely_response</th>\n",
       "      <th>consumer_disputed</th>\n",
       "    </tr>\n",
       "  </thead>\n",
       "  <tbody>\n",
       "    <tr>\n",
       "      <th>0</th>\n",
       "      <td>Debt collection</td>\n",
       "      <td>I do not know</td>\n",
       "      <td>Disclosure verification of debt</td>\n",
       "      <td>Right to dispute notice not received</td>\n",
       "      <td>I was denied employment because of a judgment ...</td>\n",
       "      <td>Encore Capital Group</td>\n",
       "      <td>NY</td>\n",
       "      <td>113XX</td>\n",
       "      <td>Closed with explanation</td>\n",
       "      <td>Yes</td>\n",
       "      <td>0</td>\n",
       "    </tr>\n",
       "    <tr>\n",
       "      <th>1</th>\n",
       "      <td>Credit reporting</td>\n",
       "      <td>NaN</td>\n",
       "      <td>Improper use of my credit report</td>\n",
       "      <td>Report improperly shared by CRC</td>\n",
       "      <td>I have a credit card through XXXX XXXX and XXX...</td>\n",
       "      <td>Experian</td>\n",
       "      <td>IL</td>\n",
       "      <td>606XX</td>\n",
       "      <td>Closed with non-monetary relief</td>\n",
       "      <td>Yes</td>\n",
       "      <td>0</td>\n",
       "    </tr>\n",
       "    <tr>\n",
       "      <th>2</th>\n",
       "      <td>Debt collection</td>\n",
       "      <td>I do not know</td>\n",
       "      <td>Cont'd attempts collect debt not owed</td>\n",
       "      <td>Debt is not mine</td>\n",
       "      <td>Almost daily phone calls from Stellar Recovery...</td>\n",
       "      <td>Stellar Recovery Inc.</td>\n",
       "      <td>MI</td>\n",
       "      <td>480XX</td>\n",
       "      <td>Closed with explanation</td>\n",
       "      <td>Yes</td>\n",
       "      <td>1</td>\n",
       "    </tr>\n",
       "    <tr>\n",
       "      <th>3</th>\n",
       "      <td>Mortgage</td>\n",
       "      <td>Conventional fixed mortgage</td>\n",
       "      <td>Loan servicing, payments, escrow account</td>\n",
       "      <td>NaN</td>\n",
       "      <td>I submitted my monthly mortgage payment to Pri...</td>\n",
       "      <td>Primary Residential Mortgage</td>\n",
       "      <td>CT</td>\n",
       "      <td>066XX</td>\n",
       "      <td>Closed with monetary relief</td>\n",
       "      <td>Yes</td>\n",
       "      <td>0</td>\n",
       "    </tr>\n",
       "    <tr>\n",
       "      <th>4</th>\n",
       "      <td>Student loan</td>\n",
       "      <td>Non-federal student loan</td>\n",
       "      <td>Dealing with my lender or servicer</td>\n",
       "      <td>Received bad information about my loan</td>\n",
       "      <td>I contacted America Education Services in XX/X...</td>\n",
       "      <td>AES/PHEAA</td>\n",
       "      <td>FL</td>\n",
       "      <td>321XX</td>\n",
       "      <td>Closed with explanation</td>\n",
       "      <td>Yes</td>\n",
       "      <td>1</td>\n",
       "    </tr>\n",
       "  </tbody>\n",
       "</table>\n",
       "</div>"
      ],
      "text/plain": [
       "            product                  sub_product  \\\n",
       "0   Debt collection                I do not know   \n",
       "1  Credit reporting                          NaN   \n",
       "2   Debt collection                I do not know   \n",
       "3          Mortgage  Conventional fixed mortgage   \n",
       "4      Student loan     Non-federal student loan   \n",
       "\n",
       "                                      issue  \\\n",
       "0           Disclosure verification of debt   \n",
       "1          Improper use of my credit report   \n",
       "2     Cont'd attempts collect debt not owed   \n",
       "3  Loan servicing, payments, escrow account   \n",
       "4        Dealing with my lender or servicer   \n",
       "\n",
       "                                sub_issue  \\\n",
       "0    Right to dispute notice not received   \n",
       "1         Report improperly shared by CRC   \n",
       "2                        Debt is not mine   \n",
       "3                                     NaN   \n",
       "4  Received bad information about my loan   \n",
       "\n",
       "                        consumer_complaint_narrative  \\\n",
       "0  I was denied employment because of a judgment ...   \n",
       "1  I have a credit card through XXXX XXXX and XXX...   \n",
       "2  Almost daily phone calls from Stellar Recovery...   \n",
       "3  I submitted my monthly mortgage payment to Pri...   \n",
       "4  I contacted America Education Services in XX/X...   \n",
       "\n",
       "                        company state zip_code  \\\n",
       "0          Encore Capital Group    NY    113XX   \n",
       "1                      Experian    IL    606XX   \n",
       "2         Stellar Recovery Inc.    MI    480XX   \n",
       "3  Primary Residential Mortgage    CT    066XX   \n",
       "4                     AES/PHEAA    FL    321XX   \n",
       "\n",
       "                  company_response timely_response  consumer_disputed  \n",
       "0          Closed with explanation             Yes                  0  \n",
       "1  Closed with non-monetary relief             Yes                  0  \n",
       "2          Closed with explanation             Yes                  1  \n",
       "3      Closed with monetary relief             Yes                  0  \n",
       "4          Closed with explanation             Yes                  1  "
      ]
     },
     "execution_count": 6,
     "metadata": {},
     "output_type": "execute_result"
    }
   ],
   "source": [
    "df.head()"
   ]
  },
  {
   "cell_type": "code",
   "execution_count": 7,
   "metadata": {},
   "outputs": [
    {
     "name": "stdout",
     "output_type": "stream",
     "text": [
      "product\n",
      "11\n",
      "sub_product\n",
      "45\n",
      "company_response\n",
      "5\n",
      "state\n",
      "60\n",
      "issue\n",
      "90\n"
     ]
    }
   ],
   "source": [
    "for col in one_hot_features:\n",
    "    print(col)\n",
    "    print(df[col].nunique())"
   ]
  },
  {
   "cell_type": "code",
   "execution_count": 8,
   "metadata": {},
   "outputs": [],
   "source": [
    "df['consumer_disputed'] = df['consumer_disputed'].map({'Yes':1, 'No':0})"
   ]
  },
  {
   "cell_type": "code",
   "execution_count": 9,
   "metadata": {},
   "outputs": [],
   "source": [
    "for feature in one_hot_features:\n",
    "    df[feature] = df[feature].astype(\"category\").cat.codes"
   ]
  },
  {
   "cell_type": "code",
   "execution_count": 10,
   "metadata": {},
   "outputs": [
    {
     "name": "stderr",
     "output_type": "stream",
     "text": [
      "/var/folders/7h/_rbt3v8d3vd1h3c8f1zdrsmm0000gn/T/ipykernel_43478/1472151705.py:1: FutureWarning: The pandas.np module is deprecated and will be removed from pandas in a future version. Import numpy directly instead\n",
      "  one_hot_x = [pd.np.asarray(tf.keras.utils.to_categorical(df[feature_name].values)) for feature_name in one_hot_features]\n"
     ]
    }
   ],
   "source": [
    "one_hot_x = [pd.np.asarray(tf.keras.utils.to_categorical(df[feature_name].values)) for feature_name in one_hot_features]"
   ]
  },
  {
   "cell_type": "code",
   "execution_count": 11,
   "metadata": {},
   "outputs": [
    {
     "name": "stderr",
     "output_type": "stream",
     "text": [
      "/var/folders/7h/_rbt3v8d3vd1h3c8f1zdrsmm0000gn/T/ipykernel_43478/1459859265.py:1: FutureWarning: The pandas.np module is deprecated and will be removed from pandas in a future version. Import numpy directly instead\n",
      "  embedding_x = [pd.np.asarray(df[feature_name].values).reshape(-1) for feature_name in text_features]\n"
     ]
    }
   ],
   "source": [
    "embedding_x = [pd.np.asarray(df[feature_name].values).reshape(-1) for feature_name in text_features]"
   ]
  },
  {
   "cell_type": "code",
   "execution_count": 12,
   "metadata": {},
   "outputs": [],
   "source": [
    "df['zip_code'] = df['zip_code'].str.replace('X', '0', regex=True)"
   ]
  },
  {
   "cell_type": "code",
   "execution_count": 13,
   "metadata": {},
   "outputs": [],
   "source": [
    "df['zip_code'] = df['zip_code'].str.replace(r'\\[|\\*|\\+|\\-|`|\\.|\\ |\\$|\\/|!|\\(', '0', regex=True)"
   ]
  },
  {
   "cell_type": "code",
   "execution_count": 14,
   "metadata": {},
   "outputs": [],
   "source": [
    "df['zip_code'] = df['zip_code'].fillna(0)"
   ]
  },
  {
   "cell_type": "code",
   "execution_count": 15,
   "metadata": {},
   "outputs": [],
   "source": [
    "df['zip_code'] = df['zip_code'].astype('int32')"
   ]
  },
  {
   "cell_type": "code",
   "execution_count": 16,
   "metadata": {},
   "outputs": [],
   "source": [
    "df['zip_code'] = df['zip_code'].apply(lambda x: x//10000)"
   ]
  },
  {
   "cell_type": "code",
   "execution_count": 17,
   "metadata": {},
   "outputs": [],
   "source": [
    "numeric_x = [df['zip_code'].values]"
   ]
  },
  {
   "cell_type": "code",
   "execution_count": 18,
   "metadata": {},
   "outputs": [],
   "source": [
    "X = one_hot_x + numeric_x + embedding_x"
   ]
  },
  {
   "cell_type": "code",
   "execution_count": 19,
   "metadata": {},
   "outputs": [],
   "source": [
    "y = np.asarray(df[\"consumer_disputed\"], dtype=np.uint8).reshape(-1)"
   ]
  },
  {
   "cell_type": "code",
   "execution_count": 22,
   "metadata": {},
   "outputs": [],
   "source": [
    "def get_model(show_summary=True):\n",
    "    \"\"\"\n",
    "    Function defines a Keras model and returns the model as Keras object\n",
    "    \"\"\"\n",
    "    wandb.init(project=\"consumer-complaints\")\n",
    "    config = wandb.config\n",
    "    config.name='final_features_wide'\n",
    "    config.hidden_layer_size = 256\n",
    "    config.optimizer = 'adam'\n",
    "    config.learning_rate = 0.001\n",
    "    config.data_version = 'cc_imbalanced_narrative'\n",
    "    config.one_hot_features = one_hot_features\n",
    "    config.numeric_features = numeric_features\n",
    "    config.text_features = text_features\n",
    "    \n",
    "    # one-hot categorical features\n",
    "    num_products = 11\n",
    "    num_sub_products = 45\n",
    "    num_company_responses = 5\n",
    "    num_states = 60\n",
    "    num_issues = 90\n",
    "\n",
    "    input_product = tf.keras.Input(shape=(num_products,), name=\"product_xf\")\n",
    "    input_sub_product = tf.keras.Input(shape=(num_sub_products,), name=\"sub_product_xf\")\n",
    "    input_company_response = tf.keras.Input(shape=(num_company_responses,), name=\"company_response_xf\")\n",
    "    input_state = tf.keras.Input(shape=(num_states,), name=\"state_xf\")\n",
    "    input_issue = tf.keras.Input(shape=(num_issues,), name=\"issue_xf\")\n",
    "    \n",
    "    # numeric features\n",
    "    input_zip_code = tf.keras.Input(shape=(1,), name=\"zip_code_xf\")\n",
    "\n",
    "    # text features\n",
    "    input_narrative = tf.keras.Input(shape=(1,), name=\"narrative_xf\", dtype=tf.string)\n",
    "\n",
    "    # embed text features\n",
    "    module_url = \"https://tfhub.dev/google/universal-sentence-encoder/4\"\n",
    "    embed = hub.KerasLayer(module_url)\n",
    "    reshaped_narrative = tf.reshape(input_narrative, [-1])\n",
    "    embed_narrative = embed(reshaped_narrative) \n",
    "    deep_ff = tf.keras.layers.Reshape((512, ), input_shape=(1, 512))(embed_narrative)\n",
    "    \n",
    "    deep = tf.keras.layers.Dense(256, activation='relu')(deep_ff)\n",
    "    deep = tf.keras.layers.Dense(64, activation='relu')(deep)\n",
    "    deep = tf.keras.layers.Dense(16, activation='relu')(deep)\n",
    "\n",
    "    wide_ff = tf.keras.layers.concatenate(\n",
    "        [input_product, input_sub_product, input_company_response, \n",
    "         input_state, input_issue, input_zip_code])\n",
    "    wide = tf.keras.layers.Dense(16, activation='relu')(wide_ff)\n",
    "\n",
    "\n",
    "    both = tf.keras.layers.concatenate([deep, wide])\n",
    "\n",
    "    output = tf.keras.layers.Dense(1, activation='sigmoid')(both) \n",
    "\n",
    "    _inputs = [input_product, input_sub_product, input_company_response,  \n",
    "               input_state, input_issue, input_zip_code, input_narrative]\n",
    "\n",
    "    keras_model = tf.keras.models.Model(_inputs, output)\n",
    "    keras_model.compile(optimizer=tf.keras.optimizers.Adam(learning_rate=0.001),\n",
    "                     loss='binary_crossentropy',  \n",
    "                     metrics=[\n",
    "                         tf.keras.metrics.BinaryAccuracy(),\n",
    "                         tf.keras.metrics.TruePositives()\n",
    "                         ])\n",
    "    if show_summary:\n",
    "        keras_model.summary()\n",
    "\n",
    "    return keras_model"
   ]
  },
  {
   "cell_type": "code",
   "execution_count": 23,
   "metadata": {},
   "outputs": [
    {
     "name": "stderr",
     "output_type": "stream",
     "text": [
      "2021-11-23 12:45:04.267354: I tensorflow/core/platform/cpu_feature_guard.cc:142] This TensorFlow binary is optimized with oneAPI Deep Neural Network Library (oneDNN) to use the following CPU instructions in performance-critical operations:  AVX2 FMA\n",
      "To enable them in other operations, rebuild TensorFlow with the appropriate compiler flags.\n",
      "2021-11-23 12:45:08.180375: I tensorflow/compiler/mlir/mlir_graph_optimization_pass.cc:185] None of the MLIR Optimization Passes are enabled (registered 2)\n"
     ]
    }
   ],
   "source": [
    "model = get_model(show_summary=False)"
   ]
  },
  {
   "cell_type": "code",
   "execution_count": 24,
   "metadata": {},
   "outputs": [
    {
     "name": "stdout",
     "output_type": "stream",
     "text": [
      "Epoch 1/5\n",
      "1670/1670 [==============================] - 56s 32ms/step - loss: 0.0062 - binary_accuracy: 0.9973 - true_positives: 0.0000e+00 - val_loss: 1.2860e-06 - val_binary_accuracy: 1.0000 - val_true_positives: 0.0000e+00\n",
      "Epoch 2/5\n",
      "1670/1670 [==============================] - 52s 31ms/step - loss: 4.0018e-07 - binary_accuracy: 1.0000 - true_positives: 0.0000e+00 - val_loss: 3.3683e-07 - val_binary_accuracy: 1.0000 - val_true_positives: 0.0000e+00\n",
      "Epoch 3/5\n",
      "1670/1670 [==============================] - 52s 31ms/step - loss: 1.0129e-07 - binary_accuracy: 1.0000 - true_positives: 0.0000e+00 - val_loss: 1.2363e-07 - val_binary_accuracy: 1.0000 - val_true_positives: 0.0000e+00\n",
      "Epoch 4/5\n",
      "1670/1670 [==============================] - 51s 31ms/step - loss: 3.3623e-08 - binary_accuracy: 1.0000 - true_positives: 0.0000e+00 - val_loss: 5.1761e-08 - val_binary_accuracy: 1.0000 - val_true_positives: 0.0000e+00\n",
      "Epoch 5/5\n",
      "1670/1670 [==============================] - 52s 31ms/step - loss: 1.2559e-08 - binary_accuracy: 1.0000 - true_positives: 0.0000e+00 - val_loss: 2.3961e-08 - val_binary_accuracy: 1.0000 - val_true_positives: 0.0000e+00\n"
     ]
    },
    {
     "data": {
      "text/plain": [
       "<keras.callbacks.History at 0x170fbc730>"
      ]
     },
     "execution_count": 24,
     "metadata": {},
     "output_type": "execute_result"
    }
   ],
   "source": [
    "model.fit(x=X, \n",
    "          y=y, \n",
    "          batch_size=32, \n",
    "          validation_split=0.2, \n",
    "          epochs=5, \n",
    "          callbacks=[WandbCallback()]\n",
    ")"
   ]
  },
  {
   "cell_type": "code",
   "execution_count": 7,
   "metadata": {},
   "outputs": [
    {
     "name": "stdout",
     "output_type": "stream",
     "text": [
      "Failed to import pydot. You must install pydot and graphviz for `pydotprint` to work.\n"
     ]
    }
   ],
   "source": [
    "#from IPython.display import Image\n",
    "\n",
    "file_name = 'model.png'\n",
    "tf.keras.utils.plot_model(model, to_file=file_name)\n",
    "#Image(filename=file_name)"
   ]
  },
  {
   "cell_type": "code",
   "execution_count": null,
   "metadata": {},
   "outputs": [],
   "source": [
    "def get_model(show_summary=True):\n",
    "    \"\"\"\n",
    "    Function defines a Keras model and returns the model as Keras object\n",
    "    \"\"\"\n",
    "    \n",
    "    # one-hot categorical features\n",
    "    num_products = 11\n",
    "    num_sub_products = 45\n",
    "    num_company_responses = 5\n",
    "    num_states = 60\n",
    "    num_issues = 90\n",
    "\n",
    "    input_product = tf.keras.Input(shape=(num_products,), name=\"product_xf\")\n",
    "    input_sub_product = tf.keras.Input(shape=(num_sub_products,), name=\"sub_product_xf\")\n",
    "    input_company_response = tf.keras.Input(shape=(num_company_responses,), name=\"company_response_xf\")\n",
    "    input_state = tf.keras.Input(shape=(num_states,), name=\"state_xf\")\n",
    "    input_issue = tf.keras.Input(shape=(num_issues,), name=\"issue_xf\")\n",
    "    \n",
    "    # numeric features\n",
    "    input_zip_code = tf.keras.Input(shape=(1,), name=\"zip_code_xf\")\n",
    "\n",
    "    # text features\n",
    "    input_narrative = tf.keras.Input(shape=(1,), name=\"narrative_xf\", dtype=tf.string)\n",
    "\n",
    "    # embed text features\n",
    "    module_url = \"https://tfhub.dev/google/universal-sentence-encoder/4\"\n",
    "    embed = hub.KerasLayer(module_url)\n",
    "    reshaped_narrative = tf.reshape(input_narrative, [-1])\n",
    "    embed_narrative = embed(reshaped_narrative) \n",
    "    deep_ff = tf.keras.layers.Reshape((512, ), input_shape=(1, 512))(embed_narrative)\n",
    "    \n",
    "    deep = tf.keras.layers.Dense(256, activation='relu')(deep_ff)\n",
    "    deep = tf.keras.layers.Dense(64, activation='relu')(deep)\n",
    "    deep = tf.keras.layers.Dense(16, activation='relu')(deep)\n",
    "\n",
    "    wide_ff = tf.keras.layers.concatenate(\n",
    "        [input_product, input_sub_product, input_company_response, \n",
    "         input_state, input_issue, input_zip_code])\n",
    "    wide = tf.keras.layers.Dense(16, activation='relu')(wide_ff)\n",
    "\n",
    "\n",
    "    both = tf.keras.layers.concatenate([deep, wide])\n",
    "\n",
    "    output = tf.keras.layers.Dense(1, activation='sigmoid')(both) \n",
    "\n",
    "    _inputs = [input_product, input_sub_product, input_company_response,  \n",
    "               input_state, input_issue, input_zip_code, input_narrative]\n",
    "\n",
    "    keras_model = tf.keras.models.Model(_inputs, output)\n",
    "    keras_model.compile(optimizer=tf.keras.optimizers.Adam(learning_rate=0.001),\n",
    "                     loss='binary_crossentropy',  \n",
    "                     metrics=[\n",
    "                         tf.keras.metrics.BinaryAccuracy(),\n",
    "                         tf.keras.metrics.TruePositives()\n",
    "                         ])\n",
    "    if show_summary:\n",
    "        keras_model.summary()\n",
    "\n",
    "    return keras_model"
   ]
  }
 ],
 "metadata": {
  "kernelspec": {
   "display_name": "Python 3",
   "language": "python",
   "name": "python3"
  },
  "language_info": {
   "codemirror_mode": {
    "name": "ipython",
    "version": 3
   },
   "file_extension": ".py",
   "mimetype": "text/x-python",
   "name": "python",
   "nbconvert_exporter": "python",
   "pygments_lexer": "ipython3",
   "version": "3.8.12"
  }
 },
 "nbformat": 4,
 "nbformat_minor": 4
}
