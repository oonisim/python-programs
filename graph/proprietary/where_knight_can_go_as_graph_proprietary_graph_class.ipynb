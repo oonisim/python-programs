{
 "cells": [
  {
   "cell_type": "markdown",
   "id": "05dcd243",
   "metadata": {},
   "source": [
    "\n",
    "# Knight on Chess Board\n",
    "\n",
    "* [Steps by Knight](https://practice.geeksforgeeks.org/problems/steps-by-knight5927/1/)\n",
    "\n",
    "Wnen a Knight can take L shape move in which the distances it moves in x and y directions are represented as ```[dx,dy]```, as long as he is on the board, we denote the knight as ```knight[1,3]```. ```[dx,dy]``` can be any of ```[1,3],[1,-3],[-1,3],[-1,-3]```.\n",
    "\n",
    "\n",
    "To move from ```(3,4)``` to ```(0,0)```, the ```knight[1,3]``` takes minimum 3 steps ```(3,4) -> (4,2) -> (2,1) -> (0,0).```\n",
    "\n",
    "<img src=\"../image/KnightChess.jpg\" align=\"left\" width=300/>"
   ]
  },
  {
   "cell_type": "markdown",
   "id": "490d527c",
   "metadata": {},
   "source": [
    "# Destinations where the knight can go as a Graph\n",
    "\n",
    "The locations where the ```knight[d0,d1]``` can go from ```(x,y)``` can be represented as a graph whose nodes are the coordiantes of the locations.\n",
    "\n",
    "From the node ```(x,y)```, take one move from ```[1,3],[1,-3],[-1,3],[-1,-3]``` to get to the next node. Try all the moves until all the location the knight can go are exhausted.\n"
   ]
  },
  {
   "cell_type": "markdown",
   "id": "acb2756e",
   "metadata": {},
   "source": [
    "# Setup"
   ]
  },
  {
   "cell_type": "code",
   "execution_count": 1,
   "id": "4717d518",
   "metadata": {},
   "outputs": [],
   "source": [
    "import logging\n",
    "import sys\n",
    "\n",
    "logging.basicConfig(stream=sys.stdout, level=logging.INFO)\n",
    "logger = logging.getLogger('LOGGER_NAME')"
   ]
  },
  {
   "cell_type": "code",
   "execution_count": 2,
   "id": "726c095c",
   "metadata": {},
   "outputs": [],
   "source": [
    "import threading\n",
    "from itertools import (\n",
    "    combinations,\n",
    "    combinations_with_replacement,\n",
    "    permutations,\n",
    "    product,\n",
    ")\n",
    "import operator\n",
    "import matplotlib.pyplot as plt"
   ]
  },
  {
   "cell_type": "markdown",
   "id": "03fc0ccd",
   "metadata": {},
   "source": [
    "# Constant"
   ]
  },
  {
   "cell_type": "code",
   "execution_count": 3,
   "id": "ad3dec08",
   "metadata": {},
   "outputs": [],
   "source": [
    "N = 5  # Board size\n",
    "ORIGINATION = (0,0)\n",
    "DESTINATION = (4,4)"
   ]
  },
  {
   "cell_type": "markdown",
   "id": "970a78f1",
   "metadata": {},
   "source": [
    "# All the moves the knight can make"
   ]
  },
  {
   "cell_type": "code",
   "execution_count": 4,
   "id": "0a83a686",
   "metadata": {},
   "outputs": [
    {
     "data": {
      "text/plain": [
       "[(1, 3), (3, 1), (1, -3), (3, -1), (-1, 3), (-3, 1), (-1, -3), (-3, -1)]"
      ]
     },
     "execution_count": 4,
     "metadata": {},
     "output_type": "execute_result"
    }
   ],
   "source": [
    "(dx, dy) = (1, 3)\n",
    "\n",
    "# All possible signs\n",
    "signs = list(product([1, -1], repeat=2))\n",
    "\n",
    "# All possible combination of [(+/-, +/-), (dx, dy)]\n",
    "combinations = product(signs, [(dx, dy), (dy, dx)])\n",
    "\n",
    "# All possible moves (x,y)\n",
    "movements = [\n",
    "    tuple(map(operator.mul, sign, xy))\n",
    "    for (sign, xy) in combinations\n",
    "]\n",
    "movements"
   ]
  },
  {
   "cell_type": "code",
   "execution_count": 5,
   "id": "67b5f18a",
   "metadata": {},
   "outputs": [],
   "source": [
    "def create_possible_movements(dx, dy):\n",
    "    \"\"\"Generate all possible (dx, dy) and (dy, dx) combinations without duplicates.\n",
    "    (dx, dy)\n",
    "    (dy, dx)\n",
    "    (dx, -dy)\n",
    "    (dy, -dx)\n",
    "    (-dx, dy)\n",
    "    (-dy, dx)\n",
    "    (-dx, -dy)\n",
    "    (-dy, -dx)\n",
    "    \n",
    "    For (dx, dy)=(2,2),\n",
    "    (2,2)\n",
    "    (2,-2)\n",
    "    (-2,2)\n",
    "    (-2,-2)\n",
    "    \"\"\"\n",
    "    # All possible signs\n",
    "    signs = list(product([1, -1], repeat=2))\n",
    "\n",
    "    # All possible combination of [(+/-, +/-), (dx, dy)]\n",
    "    combinations = product(signs, [(dx, dy), (dy, dx)])\n",
    "\n",
    "    # All possible moves (dx,dy) and (dy, dx)\n",
    "    movements = set([\n",
    "        tuple(map(operator.mul, sign, dxdy))\n",
    "        for (sign, dxdy) in combinations\n",
    "    ])\n",
    "    return movements"
   ]
  },
  {
   "cell_type": "code",
   "execution_count": 6,
   "id": "7b26d7d6",
   "metadata": {},
   "outputs": [
    {
     "name": "stdout",
     "output_type": "stream",
     "text": [
      "{(-3, -1), (3, -1), (-3, 1), (3, 1), (-1, -3), (1, -3), (-1, 3), (1, 3)}\n",
      "{(2, -2), (-2, 2), (-2, -2), (2, 2)}\n"
     ]
    }
   ],
   "source": [
    "print(create_possible_movements(1,3))\n",
    "print(create_possible_movements(2,2))"
   ]
  },
  {
   "cell_type": "markdown",
   "id": "1cacafa2",
   "metadata": {},
   "source": [
    "# Graph implementation\n",
    "\n",
    "* [Generate a graph using Dictionary in Python](https://www.geeksforgeeks.org/generate-graph-using-dictionary-python/)\n",
    "* [Implement graphs in python like a pro](https://medium.com/youstart-labs/implement-graphs-in-python-like-a-pro-63bc220b45a0)\n",
    "* [How to implement a graph in Python](https://www.educative.io/edpresso/how-to-implement-a-graph-in-python)"
   ]
  },
  {
   "cell_type": "code",
   "execution_count": 1,
   "id": "14c28c2b",
   "metadata": {},
   "outputs": [],
   "source": [
    "from network_graph import (\n",
    "    Graph\n",
    ")"
   ]
  },
  {
   "cell_type": "code",
   "execution_count": 8,
   "id": "b84e7659",
   "metadata": {},
   "outputs": [
    {
     "data": {
      "text/plain": [
       "True"
      ]
     },
     "execution_count": 8,
     "metadata": {},
     "output_type": "execute_result"
    }
   ],
   "source": [
    "graph = Graph()\n",
    "graph.add_edge((0,0), (1,2))\n",
    "graph.has_edge((0,0), (1,2))"
   ]
  },
  {
   "cell_type": "markdown",
   "id": "931fb8bf",
   "metadata": {},
   "source": [
    "# Chess Board"
   ]
  },
  {
   "cell_type": "code",
   "execution_count": 9,
   "id": "d796995e",
   "metadata": {},
   "outputs": [
    {
     "data": {
      "text/plain": [
       "[0, 1, 2, 3, 4]"
      ]
     },
     "execution_count": 9,
     "metadata": {},
     "output_type": "execute_result"
    }
   ],
   "source": [
    "size = N\n",
    "ticks = list(range(0, N, 1))\n",
    "ticks"
   ]
  },
  {
   "cell_type": "code",
   "execution_count": 10,
   "id": "0b5044d4",
   "metadata": {},
   "outputs": [
    {
     "name": "stdout",
     "output_type": "stream",
     "text": [
      "(x,y)=(0, 0)\n",
      "(x,y)=(0, 1)\n",
      "(x,y)=(0, 2)\n",
      "(x,y)=(0, 3)\n",
      "(x,y)=(0, 4)\n",
      "(x,y)=(1, 0)\n",
      "(x,y)=(1, 1)\n",
      "(x,y)=(1, 2)\n",
      "(x,y)=(1, 3)\n",
      "(x,y)=(1, 4)\n",
      "(x,y)=(2, 0)\n",
      "(x,y)=(2, 1)\n",
      "(x,y)=(2, 2)\n",
      "(x,y)=(2, 3)\n",
      "(x,y)=(2, 4)\n",
      "(x,y)=(3, 0)\n",
      "(x,y)=(3, 1)\n",
      "(x,y)=(3, 2)\n",
      "(x,y)=(3, 3)\n",
      "(x,y)=(3, 4)\n",
      "(x,y)=(4, 0)\n",
      "(x,y)=(4, 1)\n",
      "(x,y)=(4, 2)\n",
      "(x,y)=(4, 3)\n",
      "(x,y)=(4, 4)\n",
      "\n",
      "Total 25\n"
     ]
    }
   ],
   "source": [
    "coordinates = list(product(ticks, repeat=2))\n",
    "for (x, y) in coordinates:\n",
    "    print(f\"(x,y)={x,y}\")\n",
    "    \n",
    "print(f\"\\nTotal {len(coordinates)}\")"
   ]
  },
  {
   "cell_type": "code",
   "execution_count": 11,
   "id": "4c1cff6c",
   "metadata": {},
   "outputs": [
    {
     "name": "stdout",
     "output_type": "stream",
     "text": [
      "Can go to (4, 4)\n",
      "Can go to (2, 0)\n",
      "Can go to (4, 2)\n",
      "Can go to (0, 0)\n"
     ]
    }
   ],
   "source": [
    "def move(n, position, movement):\n",
    "    \"\"\"\n",
    "    Args:\n",
    "        n: size\n",
    "        position: coordinate as (x,y)\n",
    "        movement: distance to move as (dx, dy)\n",
    "    Returns:\n",
    "        new position (x, y) if it is within (0 <= x|y < n-1), othewise None\n",
    "    \"\"\"\n",
    "    x = position[0]\n",
    "    y = position[1]\n",
    "    dx = movement[0]\n",
    "    dy = movement[1]\n",
    "    new_x = x + dx\n",
    "    new_y = y + dy\n",
    "    if (0 <= new_x < n) and (0 <= new_y < n):\n",
    "        return (new_x, new_y)\n",
    "    else: \n",
    "        # logger.debug(\"move(): cannot go to %s.\" % ((new_x, new_y),))\n",
    "        return None\n",
    "\n",
    "\n",
    "position = (1,3)\n",
    "for movement in movements:\n",
    "    destination = move(5, position, movement)\n",
    "    if destination:\n",
    "        print(f\"Can go to {destination}\")"
   ]
  },
  {
   "cell_type": "markdown",
   "id": "90690245",
   "metadata": {},
   "source": [
    "\n",
    "### Check if the graph has (current -> destination) path\n"
   ]
  },
  {
   "cell_type": "code",
   "execution_count": 12,
   "id": "d775e6d9",
   "metadata": {},
   "outputs": [],
   "source": [
    "Lock = threading.Lock()\n",
    "\n",
    "\n",
    "def check_path_and_update_graph(current, destination, graph):\n",
    "    \"\"\"\n",
    "    A node in the graph can be arrived via different routes. If the destination is not yet \n",
    "    visited via the (current->destination) path, add the destination and the directed path\n",
    "    to the graph.\n",
    "            \n",
    "    Args:\n",
    "        current: current position\n",
    "        destination: destination coordinate\n",
    "        graph: graph of destinations\n",
    "        \n",
    "    Returns:\n",
    "        True if new destination, otherwise False\n",
    "    \"\"\"\n",
    "    visit_further = False\n",
    "    with Lock:\n",
    "        # --------------------------------------------------------------------------------\n",
    "        # Check if graph alreadyhas has (current -> destination) path with Graph.has_edge().\n",
    "        # --------------------------------------------------------------------------------\n",
    "        if not graph.has_edge(current, destination):\n",
    "            logger.debug(\n",
    "                \"check_path_and_update_graph(): %s is not yet visited from %s. Adding to the graph...\" \n",
    "                % (destination, current)\n",
    "            )\n",
    "            graph.add_node(destination)\n",
    "            graph.add_edge(current, destination)\n",
    "\n",
    "            logger.debug(\"check_path_and_update_graph(): updated graph: [%s]\" % graph.get_nodes())\n",
    "            return True\n",
    "        else:\n",
    "            return False"
   ]
  },
  {
   "cell_type": "code",
   "execution_count": 13,
   "id": "a12f7164",
   "metadata": {},
   "outputs": [],
   "source": [
    "def visit(n, position, movements, graph):\n",
    "    \"\"\"Visit all the locations reachable from the position and add the locations and directed\n",
    "    paths to there in the graph.\n",
    "    \n",
    "    Args:\n",
    "        n: size of the board\n",
    "        position: current position\n",
    "        movement: avialable move to the next destinations\n",
    "        graph: graph object to update\n",
    "    Returns:\n",
    "        number of new destinations found reachable from the position\n",
    "    \"\"\"\n",
    "    new_destinations_found = 0\n",
    "    \n",
    "    logger.debug(\"visit(): position: %s movements: %s\" % (position, movements))\n",
    "    for movement in movements:\n",
    "        destination = move(n, position, movement)\n",
    "        if destination is not None:\n",
    "            # --------------------------------------------------------------------------------\n",
    "            # If the destination is not yet visited from the , add it to the graph and explore further\n",
    "            # from the destination\n",
    "            # --------------------------------------------------------------------------------\n",
    "            if check_path_and_update_graph(position, destination, graph):\n",
    "                logger.debug(\"Moving to the destination %s.\" % (destination,))\n",
    "                new_destinations_found += 1\n",
    "                new_destinations_found += visit(n, destination, movements, graph)\n",
    "\n",
    "    return new_destinations_found"
   ]
  },
  {
   "cell_type": "markdown",
   "id": "3e518834",
   "metadata": {},
   "source": [
    "## Build a directed graph\n",
    "\n",
    "* [DiGraph—Directed graphs with self loops](https://networkx.org/documentation/stable/reference/classes/digraph.html)\n"
   ]
  },
  {
   "cell_type": "code",
   "execution_count": 14,
   "id": "3561c2d6",
   "metadata": {},
   "outputs": [],
   "source": [
    "origination = ORIGINATION\n",
    "\n",
    "graph = Graph()\n",
    "graph.add_node(origination)"
   ]
  },
  {
   "cell_type": "code",
   "execution_count": 15,
   "id": "b6e4ca81",
   "metadata": {},
   "outputs": [
    {
     "data": {
      "text/plain": [
       "32"
      ]
     },
     "execution_count": 15,
     "metadata": {},
     "output_type": "execute_result"
    }
   ],
   "source": [
    "(dx, dy) = (1,3)\n",
    "movements = create_possible_movements(dx, dy)\n",
    "visit(n=N, position=origination, movements=movements, graph=graph)"
   ]
  },
  {
   "cell_type": "markdown",
   "id": "0785b0f9",
   "metadata": {},
   "source": [
    "# Shortest Path \n"
   ]
  },
  {
   "cell_type": "code",
   "execution_count": 16,
   "id": "4a62d4c3",
   "metadata": {},
   "outputs": [],
   "source": [
    "def get_shortest_paths(graph, origination, destination):\n",
    "    \"\"\"Get the shortest paths from origination to destination\n",
    "    \"\"\"\n",
    "    return graph.shortest_path(origination, destination)"
   ]
  },
  {
   "cell_type": "code",
   "execution_count": 17,
   "id": "4c791f9a",
   "metadata": {},
   "outputs": [
    {
     "data": {
      "text/plain": [
       "[(0, 0), (3, 1), (4, 4)]"
      ]
     },
     "execution_count": 17,
     "metadata": {},
     "output_type": "execute_result"
    }
   ],
   "source": [
    "get_shortest_paths(graph=graph, origination=ORIGINATION, destination=DESTINATION)"
   ]
  },
  {
   "cell_type": "markdown",
   "id": "ee2a319e",
   "metadata": {},
   "source": [
    "---\n",
    "\n",
    "# [KnightL on a Chessboard](https://www.hackerrank.com/contests/rookierank-2/challenges/knightl-on-chessboard/problem)"
   ]
  },
  {
   "cell_type": "code",
   "execution_count": 18,
   "id": "bb589119",
   "metadata": {},
   "outputs": [],
   "source": [
    "def get_shortest_route_sizes(n):\n",
    "    \"\"\"\n",
    "    For all the possible move=(dx, dy) where move is the movement an object can make \n",
    "    in x and y directions, find the size of the shortest route from the origination \n",
    "    (0,0) to the destination (n-1,n-1) for each (dx, dy).\n",
    "    \n",
    "    If there is no such route, then the size is -1.\n",
    "    \n",
    "    Create a 2D matrix where each row corresponds with dx where dx: 0 <= dx < n and\n",
    "    each column corresponds with dy where dy: 0 <= dy < n.\n",
    "    \n",
    "    Args:\n",
    "        n: Board size\n",
    "    Returns:\n",
    "        2D matrix of the shortest route size    \n",
    "    \"\"\"\n",
    "    origination = (0,0)\n",
    "    destination = (n-1, n-1)\n",
    "\n",
    "    result = []\n",
    "    for dx in range(1, n):\n",
    "        shortests = []\n",
    "        for dy in range(1, n):\n",
    "            graph = Graph()\n",
    "            graph.add_node(origination)\n",
    "            movements = create_possible_movements(dx, dy)\n",
    "            \n",
    "            visit(n=n, position=origination, movements=movements, graph=graph)\n",
    "            paths = get_shortest_paths(graph=graph, origination=origination, destination=destination)\n",
    "            if paths:\n",
    "                shortests.append(len(paths) -1)\n",
    "            else:\n",
    "                shortests.append(-1)\n",
    "        result.append(shortests)\n",
    "        \n",
    "    return result"
   ]
  },
  {
   "cell_type": "code",
   "execution_count": 20,
   "id": "7518062a",
   "metadata": {},
   "outputs": [
    {
     "ename": "KeyboardInterrupt",
     "evalue": "",
     "output_type": "error",
     "traceback": [
      "\u001b[0;31m---------------------------------------------------------------------------\u001b[0m",
      "\u001b[0;31mKeyboardInterrupt\u001b[0m                         Traceback (most recent call last)",
      "Input \u001b[0;32mIn [20]\u001b[0m, in \u001b[0;36m<module>\u001b[0;34m\u001b[0m\n\u001b[0;32m----> 1\u001b[0m \u001b[43mget_shortest_route_sizes\u001b[49m\u001b[43m(\u001b[49m\u001b[43mn\u001b[49m\u001b[38;5;241;43m=\u001b[39;49m\u001b[38;5;241;43m10\u001b[39;49m\u001b[43m)\u001b[49m\n",
      "Input \u001b[0;32mIn [18]\u001b[0m, in \u001b[0;36mget_shortest_route_sizes\u001b[0;34m(n)\u001b[0m\n\u001b[1;32m     26\u001b[0m movements \u001b[38;5;241m=\u001b[39m create_possible_movements(dx, dy)\n\u001b[1;32m     28\u001b[0m visit(n\u001b[38;5;241m=\u001b[39mn, position\u001b[38;5;241m=\u001b[39morigination, movements\u001b[38;5;241m=\u001b[39mmovements, graph\u001b[38;5;241m=\u001b[39mgraph)\n\u001b[0;32m---> 29\u001b[0m paths \u001b[38;5;241m=\u001b[39m \u001b[43mget_shortest_paths\u001b[49m\u001b[43m(\u001b[49m\u001b[43mgraph\u001b[49m\u001b[38;5;241;43m=\u001b[39;49m\u001b[43mgraph\u001b[49m\u001b[43m,\u001b[49m\u001b[43m \u001b[49m\u001b[43morigination\u001b[49m\u001b[38;5;241;43m=\u001b[39;49m\u001b[43morigination\u001b[49m\u001b[43m,\u001b[49m\u001b[43m \u001b[49m\u001b[43mdestination\u001b[49m\u001b[38;5;241;43m=\u001b[39;49m\u001b[43mdestination\u001b[49m\u001b[43m)\u001b[49m\n\u001b[1;32m     30\u001b[0m \u001b[38;5;28;01mif\u001b[39;00m paths:\n\u001b[1;32m     31\u001b[0m     shortests\u001b[38;5;241m.\u001b[39mappend(\u001b[38;5;28mlen\u001b[39m(paths) \u001b[38;5;241m-\u001b[39m\u001b[38;5;241m1\u001b[39m)\n",
      "Input \u001b[0;32mIn [16]\u001b[0m, in \u001b[0;36mget_shortest_paths\u001b[0;34m(graph, origination, destination)\u001b[0m\n\u001b[1;32m      1\u001b[0m \u001b[38;5;28;01mdef\u001b[39;00m \u001b[38;5;21mget_shortest_paths\u001b[39m(graph, origination, destination):\n\u001b[1;32m      2\u001b[0m     \u001b[38;5;124;03m\"\"\"Get the shortest paths from origination to destination\u001b[39;00m\n\u001b[1;32m      3\u001b[0m \u001b[38;5;124;03m    \"\"\"\u001b[39;00m\n\u001b[0;32m----> 4\u001b[0m     \u001b[38;5;28;01mreturn\u001b[39;00m \u001b[43mgraph\u001b[49m\u001b[38;5;241;43m.\u001b[39;49m\u001b[43mshortest_path\u001b[49m\u001b[43m(\u001b[49m\u001b[43morigination\u001b[49m\u001b[43m,\u001b[49m\u001b[43m \u001b[49m\u001b[43mdestination\u001b[49m\u001b[43m)\u001b[49m\n",
      "Input \u001b[0;32mIn [7]\u001b[0m, in \u001b[0;36mGraph.shortest_path\u001b[0;34m(self, start, end, path)\u001b[0m\n\u001b[1;32m     74\u001b[0m \u001b[38;5;28;01mfor\u001b[39;00m node \u001b[38;5;129;01min\u001b[39;00m \u001b[38;5;28mself\u001b[39m\u001b[38;5;241m.\u001b[39mgraph_dict[start]:\n\u001b[1;32m     75\u001b[0m     \u001b[38;5;28;01mif\u001b[39;00m node \u001b[38;5;129;01mnot\u001b[39;00m \u001b[38;5;129;01min\u001b[39;00m path:\n\u001b[0;32m---> 76\u001b[0m         newpath \u001b[38;5;241m=\u001b[39m \u001b[38;5;28;43mself\u001b[39;49m\u001b[38;5;241;43m.\u001b[39;49m\u001b[43mshortest_path\u001b[49m\u001b[43m(\u001b[49m\u001b[43mnode\u001b[49m\u001b[43m,\u001b[49m\u001b[43m \u001b[49m\u001b[43mend\u001b[49m\u001b[43m,\u001b[49m\u001b[43m \u001b[49m\u001b[43mpath\u001b[49m\u001b[43m)\u001b[49m\n\u001b[1;32m     77\u001b[0m         \u001b[38;5;28;01mif\u001b[39;00m newpath:\n\u001b[1;32m     78\u001b[0m             \u001b[38;5;28;01mif\u001b[39;00m \u001b[38;5;129;01mnot\u001b[39;00m shortest \u001b[38;5;129;01mor\u001b[39;00m \u001b[38;5;28mlen\u001b[39m(shortest) \u001b[38;5;241m>\u001b[39m \u001b[38;5;28mlen\u001b[39m(newpath):\n",
      "Input \u001b[0;32mIn [7]\u001b[0m, in \u001b[0;36mGraph.shortest_path\u001b[0;34m(self, start, end, path)\u001b[0m\n\u001b[1;32m     74\u001b[0m \u001b[38;5;28;01mfor\u001b[39;00m node \u001b[38;5;129;01min\u001b[39;00m \u001b[38;5;28mself\u001b[39m\u001b[38;5;241m.\u001b[39mgraph_dict[start]:\n\u001b[1;32m     75\u001b[0m     \u001b[38;5;28;01mif\u001b[39;00m node \u001b[38;5;129;01mnot\u001b[39;00m \u001b[38;5;129;01min\u001b[39;00m path:\n\u001b[0;32m---> 76\u001b[0m         newpath \u001b[38;5;241m=\u001b[39m \u001b[38;5;28;43mself\u001b[39;49m\u001b[38;5;241;43m.\u001b[39;49m\u001b[43mshortest_path\u001b[49m\u001b[43m(\u001b[49m\u001b[43mnode\u001b[49m\u001b[43m,\u001b[49m\u001b[43m \u001b[49m\u001b[43mend\u001b[49m\u001b[43m,\u001b[49m\u001b[43m \u001b[49m\u001b[43mpath\u001b[49m\u001b[43m)\u001b[49m\n\u001b[1;32m     77\u001b[0m         \u001b[38;5;28;01mif\u001b[39;00m newpath:\n\u001b[1;32m     78\u001b[0m             \u001b[38;5;28;01mif\u001b[39;00m \u001b[38;5;129;01mnot\u001b[39;00m shortest \u001b[38;5;129;01mor\u001b[39;00m \u001b[38;5;28mlen\u001b[39m(shortest) \u001b[38;5;241m>\u001b[39m \u001b[38;5;28mlen\u001b[39m(newpath):\n",
      "    \u001b[0;31m[... skipping similar frames: Graph.shortest_path at line 76 (35 times)]\u001b[0m\n",
      "Input \u001b[0;32mIn [7]\u001b[0m, in \u001b[0;36mGraph.shortest_path\u001b[0;34m(self, start, end, path)\u001b[0m\n\u001b[1;32m     74\u001b[0m \u001b[38;5;28;01mfor\u001b[39;00m node \u001b[38;5;129;01min\u001b[39;00m \u001b[38;5;28mself\u001b[39m\u001b[38;5;241m.\u001b[39mgraph_dict[start]:\n\u001b[1;32m     75\u001b[0m     \u001b[38;5;28;01mif\u001b[39;00m node \u001b[38;5;129;01mnot\u001b[39;00m \u001b[38;5;129;01min\u001b[39;00m path:\n\u001b[0;32m---> 76\u001b[0m         newpath \u001b[38;5;241m=\u001b[39m \u001b[38;5;28;43mself\u001b[39;49m\u001b[38;5;241;43m.\u001b[39;49m\u001b[43mshortest_path\u001b[49m(node, end, path)\n\u001b[1;32m     77\u001b[0m         \u001b[38;5;28;01mif\u001b[39;00m newpath:\n\u001b[1;32m     78\u001b[0m             \u001b[38;5;28;01mif\u001b[39;00m \u001b[38;5;129;01mnot\u001b[39;00m shortest \u001b[38;5;129;01mor\u001b[39;00m \u001b[38;5;28mlen\u001b[39m(shortest) \u001b[38;5;241m>\u001b[39m \u001b[38;5;28mlen\u001b[39m(newpath):\n",
      "\u001b[0;31mKeyboardInterrupt\u001b[0m: "
     ]
    }
   ],
   "source": [
    "get_shortest_route_sizes(n=10)"
   ]
  },
  {
   "cell_type": "code",
   "execution_count": null,
   "id": "39cf0ca2",
   "metadata": {},
   "outputs": [],
   "source": []
  }
 ],
 "metadata": {
  "kernelspec": {
   "display_name": "Python 3 (ipykernel)",
   "language": "python",
   "name": "python3"
  },
  "language_info": {
   "codemirror_mode": {
    "name": "ipython",
    "version": 3
   },
   "file_extension": ".py",
   "mimetype": "text/x-python",
   "name": "python",
   "nbconvert_exporter": "python",
   "pygments_lexer": "ipython3",
   "version": "3.8.10"
  }
 },
 "nbformat": 4,
 "nbformat_minor": 5
}
