{
 "cells": [
  {
   "cell_type": "markdown",
   "id": "05dcd243",
   "metadata": {},
   "source": [
    "\n",
    "# Knight on Chess Board\n",
    "\n",
    "* [Steps by Knight](https://practice.geeksforgeeks.org/problems/steps-by-knight5927/1/)\n",
    "\n",
    "Wnen a Knight can take L shape move in which the distances it moves in x and y directions are represented as ```[dx,dy]```, as long as he is on the board, we denote the knight as ```knight[1,3]```. ```[dx,dy]``` can be any of ```[1,3],[1,-3],[-1,3],[-1,-3]```.\n",
    "\n",
    "\n",
    "To move from ```(3,4)``` to ```(0,0)```, the ```knight[1,3]``` takes minimum 3 steps ```(3,4) -> (4,2) -> (2,1) -> (0,0).```\n",
    "\n",
    "<img src=\"../image/KnightChess.jpg\" align=\"left\" width=300/>"
   ]
  },
  {
   "cell_type": "markdown",
   "id": "490d527c",
   "metadata": {},
   "source": [
    "# Destinations where the knight can go as a Graph\n",
    "\n",
    "The locations where the ```knight[d0,d1]``` can go from ```(x,y)``` can be represented as a graph whose nodes are the coordiantes of the locations.\n",
    "\n",
    "From the node ```(x,y)```, take one move from ```[1,3],[1,-3],[-1,3],[-1,-3]``` to get to the next node. Try all the moves until all the location the knight can go are exhausted.\n",
    "\n",
    "## NetworkX\n",
    "Use NetworkX to build the graph.\n",
    "\n",
    "* [NetworkX - Software for Complex Networks](https://networkx.org/documentation/stable/index.html)\n",
    "\n",
    "> NetworkX is a Python package for the creation, manipulation, and study of the structure, dynamics, and functions of complex networks.\n",
    "> * tools for the study of the structure and dynamics of social, biological, and infrastructure networks;\n",
    "> * a standard programming interface and graph implementation that is suitable for many applications;\n",
    "> * a rapid development environment for collaborative, multidisciplinary projects;\n",
    "> * an interface to existing numerical algorithms and code written in C, C++, and FORTRAN; and\n",
    "> * the ability to painlessly work with large nonstandard data sets.\n",
    "\n",
    "* [NetworkX - Tutorial](https://networkx.org/documentation/stable/tutorial.html)\n",
    "\n"
   ]
  },
  {
   "cell_type": "markdown",
   "id": "acb2756e",
   "metadata": {},
   "source": [
    "# Setup"
   ]
  },
  {
   "cell_type": "code",
   "execution_count": 1,
   "id": "4717d518",
   "metadata": {},
   "outputs": [],
   "source": [
    "import logging\n",
    "import sys\n",
    "\n",
    "logging.basicConfig(stream=sys.stdout, level=logging.INFO)\n",
    "logger = logging.getLogger('LOGGER_NAME')"
   ]
  },
  {
   "cell_type": "code",
   "execution_count": 2,
   "id": "726c095c",
   "metadata": {},
   "outputs": [],
   "source": [
    "import threading\n",
    "from itertools import (\n",
    "    combinations,\n",
    "    combinations_with_replacement,\n",
    "    permutations,\n",
    "    product,\n",
    ")\n",
    "import operator\n",
    "import networkx as nx\n",
    "import matplotlib.pyplot as plt"
   ]
  },
  {
   "cell_type": "markdown",
   "id": "03fc0ccd",
   "metadata": {},
   "source": [
    "# Constant"
   ]
  },
  {
   "cell_type": "code",
   "execution_count": 3,
   "id": "ad3dec08",
   "metadata": {},
   "outputs": [],
   "source": [
    "N = 5  # Board size\n",
    "ORIGINATION = (0,0)\n",
    "DESTINATION = (4,4)"
   ]
  },
  {
   "cell_type": "markdown",
   "id": "970a78f1",
   "metadata": {},
   "source": [
    "# All the moves the knight can make"
   ]
  },
  {
   "cell_type": "code",
   "execution_count": 4,
   "id": "0a83a686",
   "metadata": {},
   "outputs": [
    {
     "data": {
      "text/plain": [
       "[(1, 3), (3, 1), (1, -3), (3, -1), (-1, 3), (-3, 1), (-1, -3), (-3, -1)]"
      ]
     },
     "execution_count": 4,
     "metadata": {},
     "output_type": "execute_result"
    }
   ],
   "source": [
    "(dx, dy) = (1, 3)\n",
    "\n",
    "# All possible signs\n",
    "signs = list(product([1, -1], repeat=2))\n",
    "\n",
    "# All possible combination of [(+/-, +/-), (dx, dy)]\n",
    "combinations = product(signs, [(dx, dy), (dy, dx)])\n",
    "\n",
    "# All possible moves (x,y)\n",
    "movements = [\n",
    "    tuple(map(operator.mul, sign, xy))\n",
    "    for (sign, xy) in combinations\n",
    "]\n",
    "movements"
   ]
  },
  {
   "cell_type": "code",
   "execution_count": 5,
   "id": "67b5f18a",
   "metadata": {},
   "outputs": [],
   "source": [
    "def create_possible_movements(dx, dy):\n",
    "    \"\"\"Generate all possible (dx, dy) and (dy, dx) combinations without duplicates.\n",
    "    (dx, dy)\n",
    "    (dy, dx)\n",
    "    (dx, -dy)\n",
    "    (dy, -dx)\n",
    "    (-dx, dy)\n",
    "    (-dy, dx)\n",
    "    (-dx, -dy)\n",
    "    (-dy, -dx)\n",
    "    \n",
    "    For (dx, dy)=(2,2),\n",
    "    (2,2)\n",
    "    (2,-2)\n",
    "    (-2,2)\n",
    "    (-2,-2)\n",
    "    \"\"\"\n",
    "    # All possible signs\n",
    "    signs = list(product([1, -1], repeat=2))\n",
    "\n",
    "    # All possible combination of [(+/-, +/-), (dx, dy)]\n",
    "    combinations = product(signs, [(dx, dy), (dy, dx)])\n",
    "\n",
    "    # All possible moves (dx,dy) and (dy, dx)\n",
    "    movements = set([\n",
    "        tuple(map(operator.mul, sign, dxdy))\n",
    "        for (sign, dxdy) in combinations\n",
    "    ])\n",
    "    return movements"
   ]
  },
  {
   "cell_type": "code",
   "execution_count": 6,
   "id": "7b26d7d6",
   "metadata": {},
   "outputs": [
    {
     "name": "stdout",
     "output_type": "stream",
     "text": [
      "{(-3, -1), (3, -1), (-3, 1), (3, 1), (-1, -3), (1, -3), (-1, 3), (1, 3)}\n",
      "{(2, -2), (-2, 2), (-2, -2), (2, 2)}\n"
     ]
    }
   ],
   "source": [
    "print(create_possible_movements(1,3))\n",
    "print(create_possible_movements(2,2))"
   ]
  },
  {
   "cell_type": "markdown",
   "id": "931fb8bf",
   "metadata": {},
   "source": [
    "# Chess Board"
   ]
  },
  {
   "cell_type": "code",
   "execution_count": 7,
   "id": "d796995e",
   "metadata": {},
   "outputs": [
    {
     "data": {
      "text/plain": [
       "[0, 1, 2, 3, 4]"
      ]
     },
     "execution_count": 7,
     "metadata": {},
     "output_type": "execute_result"
    }
   ],
   "source": [
    "size = N\n",
    "ticks = list(range(0, N, 1))\n",
    "ticks"
   ]
  },
  {
   "cell_type": "code",
   "execution_count": 8,
   "id": "0b5044d4",
   "metadata": {},
   "outputs": [
    {
     "name": "stdout",
     "output_type": "stream",
     "text": [
      "(x,y)=(0, 0)\n",
      "(x,y)=(0, 1)\n",
      "(x,y)=(0, 2)\n",
      "(x,y)=(0, 3)\n",
      "(x,y)=(0, 4)\n",
      "(x,y)=(1, 0)\n",
      "(x,y)=(1, 1)\n",
      "(x,y)=(1, 2)\n",
      "(x,y)=(1, 3)\n",
      "(x,y)=(1, 4)\n",
      "(x,y)=(2, 0)\n",
      "(x,y)=(2, 1)\n",
      "(x,y)=(2, 2)\n",
      "(x,y)=(2, 3)\n",
      "(x,y)=(2, 4)\n",
      "(x,y)=(3, 0)\n",
      "(x,y)=(3, 1)\n",
      "(x,y)=(3, 2)\n",
      "(x,y)=(3, 3)\n",
      "(x,y)=(3, 4)\n",
      "(x,y)=(4, 0)\n",
      "(x,y)=(4, 1)\n",
      "(x,y)=(4, 2)\n",
      "(x,y)=(4, 3)\n",
      "(x,y)=(4, 4)\n",
      "\n",
      "Total 25\n"
     ]
    }
   ],
   "source": [
    "coordinates = list(product(ticks, repeat=2))\n",
    "for (x, y) in coordinates:\n",
    "    print(f\"(x,y)={x,y}\")\n",
    "    \n",
    "print(f\"\\nTotal {len(coordinates)}\")"
   ]
  },
  {
   "cell_type": "code",
   "execution_count": 9,
   "id": "4c1cff6c",
   "metadata": {},
   "outputs": [
    {
     "name": "stdout",
     "output_type": "stream",
     "text": [
      "Can go to (4, 4)\n",
      "Can go to (2, 0)\n",
      "Can go to (4, 2)\n",
      "Can go to (0, 0)\n"
     ]
    }
   ],
   "source": [
    "def move(n, position, movement):\n",
    "    \"\"\"\n",
    "    Args:\n",
    "        n: size\n",
    "        position: coordinate as (x,y)\n",
    "        movement: distance to move as (dx, dy)\n",
    "    Returns:\n",
    "        new position (x, y) if it is within (0 <= x|y < n-1), othewise None\n",
    "    \"\"\"\n",
    "    x = position[0]\n",
    "    y = position[1]\n",
    "    dx = movement[0]\n",
    "    dy = movement[1]\n",
    "    new_x = x + dx\n",
    "    new_y = y + dy\n",
    "    if (0 <= new_x < n) and (0 <= new_y < n):\n",
    "        return (new_x, new_y)\n",
    "    else: \n",
    "        # logger.debug(\"move(): cannot go to %s.\" % ((new_x, new_y),))\n",
    "        return None\n",
    "\n",
    "\n",
    "position = (1,3)\n",
    "for movement in movements:\n",
    "    destination = move(5, position, movement)\n",
    "    if destination:\n",
    "        print(f\"Can go to {destination}\")"
   ]
  },
  {
   "cell_type": "markdown",
   "id": "90690245",
   "metadata": {},
   "source": [
    "\n",
    "### Check if the graph has (current -> destination) path\n",
    "\n",
    "* [DiGraph.has_edge(u, v)](https://networkx.org/documentation/stable/reference/classes/generated/networkx.DiGraph.has_edge.html#networkx.DiGraph.has_edge)\n",
    "\n"
   ]
  },
  {
   "cell_type": "code",
   "execution_count": 10,
   "id": "d775e6d9",
   "metadata": {},
   "outputs": [],
   "source": [
    "Lock = threading.Lock()\n",
    "\n",
    "\n",
    "def check_path_and_update_graph(current, destination, graph):\n",
    "    \"\"\"\n",
    "    A node in the graph can be arrived via different routes. If the destination is not yet \n",
    "    visited via the (current->destination) path, add the destination and the directed path\n",
    "    to the graph.\n",
    "            \n",
    "    Args:\n",
    "        current: current position\n",
    "        destination: destination coordinate\n",
    "        graph: graph of destinations\n",
    "        \n",
    "    Returns:\n",
    "        True if new destination, otherwise False\n",
    "    \"\"\"\n",
    "    visit_further = False\n",
    "    with Lock:\n",
    "        # --------------------------------------------------------------------------------\n",
    "        # Check if graph alreadyhas has (current -> destination) path with DiGraph.has_edge().\n",
    "        # https://networkx.org/documentation/stable/reference/classes/digraph.html\n",
    "        # --------------------------------------------------------------------------------\n",
    "        if not graph.has_edge(current, destination):\n",
    "            logger.debug(\n",
    "                \"check_path_and_update_graph(): %s is not yet visited from %s. Adding to the graph...\" \n",
    "                % (destination, current)\n",
    "            )\n",
    "            graph.add_node(destination)\n",
    "            graph.add_edge(current, destination)\n",
    "\n",
    "            logger.debug(\"check_path_and_update_graph(): updated graph: [%s]\" % list(graph.nodes()))\n",
    "            return True\n",
    "        else:\n",
    "            return False"
   ]
  },
  {
   "cell_type": "code",
   "execution_count": 11,
   "id": "a12f7164",
   "metadata": {},
   "outputs": [],
   "source": [
    "def visit(n, position, movements, graph):\n",
    "    \"\"\"Visit all the locations reachable from the position and add the locations and directed\n",
    "    paths to there in the graph.\n",
    "    \n",
    "    Args:\n",
    "        n: size of the board\n",
    "        position: current position\n",
    "        movement: avialable move to the next destinations\n",
    "        graph: graph object to update\n",
    "    Returns:\n",
    "        number of new destinations found reachable from the position\n",
    "    \"\"\"\n",
    "    new_destinations_found = 0\n",
    "    \n",
    "    logger.debug(\"visit(): position: %s movements: %s\" % (position, movements))\n",
    "    for movement in movements:\n",
    "        destination = move(n, position, movement)\n",
    "        if destination is not None:\n",
    "            # --------------------------------------------------------------------------------\n",
    "            # If the destination is not yet visited from the , add it to the graph and explore further\n",
    "            # from the destination\n",
    "            # --------------------------------------------------------------------------------\n",
    "            if check_path_and_update_graph(position, destination, graph):\n",
    "                logger.debug(\"Moving to the destination %s.\" % (destination,))\n",
    "                new_destinations_found += 1\n",
    "                new_destinations_found += visit(n, destination, movements, graph)\n",
    "\n",
    "    return new_destinations_found"
   ]
  },
  {
   "cell_type": "markdown",
   "id": "3e518834",
   "metadata": {},
   "source": [
    "## Build a directed graph\n",
    "\n",
    "* [DiGraph—Directed graphs with self loops](https://networkx.org/documentation/stable/reference/classes/digraph.html)\n"
   ]
  },
  {
   "cell_type": "code",
   "execution_count": 12,
   "id": "3561c2d6",
   "metadata": {},
   "outputs": [],
   "source": [
    "origination = ORIGINATION\n",
    "\n",
    "graph = nx.DiGraph()\n",
    "graph.add_node(origination)"
   ]
  },
  {
   "cell_type": "code",
   "execution_count": 13,
   "id": "b6e4ca81",
   "metadata": {},
   "outputs": [
    {
     "data": {
      "text/plain": [
       "32"
      ]
     },
     "execution_count": 13,
     "metadata": {},
     "output_type": "execute_result"
    }
   ],
   "source": [
    "(dx, dy) = (1,3)\n",
    "movements = create_possible_movements(dx, dy)\n",
    "visit(n=N, position=origination, movements=movements, graph=graph)"
   ]
  },
  {
   "cell_type": "markdown",
   "id": "9ffab154",
   "metadata": {},
   "source": [
    "# Visualize the Graph\n",
    "\n",
    "* [Networkx - Drawing](https://networkx.org/documentation/stable/reference/drawing.html)\n",
    "\n",
    "> NetworkX provides basic functionality for visualizing graphs, but its main goal is to enable graph analysis rather than perform graph visualization. In the future, graph visualization functionality may be removed from NetworkX or only available as an add-on package.\n",
    "> \n",
    "> Proper graph visualization is hard, and we highly recommend that people visualize their graphs with tools dedicated to that task. Notable examples of dedicated and fully-featured graph visualization tools are Cytoscape, Gephi, Graphviz and, for LaTeX typesetting, PGF/TikZ. To use these and other such tools, you should export your NetworkX graph into a format that can be read by those tools. For example, Cytoscape can read the GraphML format, and so, networkx.write_graphml(G, path) might be an appropriate choice."
   ]
  },
  {
   "cell_type": "code",
   "execution_count": 14,
   "id": "161dfa8d",
   "metadata": {},
   "outputs": [
    {
     "data": {
      "image/png": "[encoded data removed]",
      "text/plain": [
       "<Figure size 1080x432 with 1 Axes>"
      ]
     },
     "metadata": {},
     "output_type": "display_data"
    }
   ],
   "source": [
    "figure, ax = plt.subplots(figsize=(15,6))\n",
    "nx.draw_kamada_kawai(graph, node_size=100, alpha=0.7, arrows=True, with_labels=True, font_size=20)"
   ]
  },
  {
   "cell_type": "markdown",
   "id": "0785b0f9",
   "metadata": {},
   "source": [
    "# Shortest Path \n",
    "\n",
    "* [NetworkX - Shortest Path](https://networkx.org/documentation/stable/reference/algorithms/shortest_paths.html)"
   ]
  },
  {
   "cell_type": "code",
   "execution_count": 15,
   "id": "4a62d4c3",
   "metadata": {},
   "outputs": [],
   "source": [
    "def get_shortest_paths(graph, origination, destination):\n",
    "    \"\"\"Get the shortest paths from origination to destination\n",
    "    \"\"\"\n",
    "    try:\n",
    "        return list(nx.all_shortest_paths(graph, origination, destination))\n",
    "    except nx.NetworkXNoPath:\n",
    "        return None"
   ]
  },
  {
   "cell_type": "code",
   "execution_count": 16,
   "id": "4c791f9a",
   "metadata": {},
   "outputs": [
    {
     "data": {
      "text/plain": [
       "[[(0, 0), (3, 1), (4, 4)], [(0, 0), (1, 3), (4, 4)]]"
      ]
     },
     "execution_count": 16,
     "metadata": {},
     "output_type": "execute_result"
    }
   ],
   "source": [
    "get_shortest_paths(graph=graph, origination=ORIGINATION, destination=DESTINATION)"
   ]
  },
  {
   "cell_type": "markdown",
   "id": "ee2a319e",
   "metadata": {},
   "source": [
    "---\n",
    "\n",
    "# [KnightL on a Chessboard](https://www.hackerrank.com/contests/rookierank-2/challenges/knightl-on-chessboard/problem)"
   ]
  },
  {
   "cell_type": "code",
   "execution_count": 17,
   "id": "bb589119",
   "metadata": {},
   "outputs": [],
   "source": [
    "def get_shortest_route_sizes(n):\n",
    "    \"\"\"\n",
    "    For all the possible move=(dx, dy) where move is the movement an object can make \n",
    "    in x and y directions, find the size of the shortest route from the origination \n",
    "    (0,0) to the destination (n-1,n-1) for each (dx, dy).\n",
    "    \n",
    "    If there is no such route, then the size is -1.\n",
    "    \n",
    "    Create a 2D matrix where each row corresponds with dx where dx: 0 <= dx < n and\n",
    "    each column corresponds with dy where dy: 0 <= dy < n.\n",
    "    \n",
    "    Args:\n",
    "        n: Board size\n",
    "    Returns:\n",
    "        2D matrix of the shortest route size    \n",
    "    \"\"\"\n",
    "    origination = (0,0)\n",
    "    destination = (n-1, n-1)\n",
    "\n",
    "    result = []\n",
    "    for dx in range(1, n):\n",
    "        shortests = []\n",
    "        for dy in range(1, n):\n",
    "            graph = nx.DiGraph()\n",
    "            graph.add_node(origination)\n",
    "            movements = create_possible_movements(dx, dy)\n",
    "            \n",
    "            visit(n=n, position=origination, movements=movements, graph=graph)\n",
    "            paths = get_shortest_paths(graph=graph, origination=origination, destination=destination)\n",
    "            if paths:\n",
    "                shortests.append(len(paths[0]) -1)\n",
    "            else:\n",
    "                shortests.append(-1)\n",
    "        result.append(shortests)\n",
    "        \n",
    "    return result"
   ]
  },
  {
   "cell_type": "code",
   "execution_count": 18,
   "id": "7518062a",
   "metadata": {},
   "outputs": [
    {
     "data": {
      "text/plain": [
       "[[9, 6, 5, 8, 5, 6, 7, 2, 9],\n",
       " [6, -1, 6, -1, 10, -1, 2, -1, -1],\n",
       " [5, 6, 3, 6, 7, 2, 13, -1, 3],\n",
       " [8, -1, 6, -1, 2, -1, -1, -1, -1],\n",
       " [5, 10, 7, 2, -1, -1, -1, -1, -1],\n",
       " [6, -1, 2, -1, -1, -1, -1, -1, -1],\n",
       " [7, 2, 13, -1, -1, -1, -1, -1, -1],\n",
       " [2, -1, -1, -1, -1, -1, -1, -1, -1],\n",
       " [9, -1, 3, -1, -1, -1, -1, -1, 1]]"
      ]
     },
     "execution_count": 18,
     "metadata": {},
     "output_type": "execute_result"
    }
   ],
   "source": [
    "get_shortest_route_sizes(n=10)"
   ]
  },
  {
   "cell_type": "code",
   "execution_count": null,
   "id": "9748a647",
   "metadata": {},
   "outputs": [],
   "source": []
  },
  {
   "cell_type": "code",
   "execution_count": null,
   "id": "cc7c2bf7",
   "metadata": {},
   "outputs": [],
   "source": []
  }
 ],
 "metadata": {
  "kernelspec": {
   "display_name": "Python 3 (ipykernel)",
   "language": "python",
   "name": "python3"
  },
  "language_info": {
   "codemirror_mode": {
    "name": "ipython",
    "version": 3
   },
   "file_extension": ".py",
   "mimetype": "text/x-python",
   "name": "python",
   "nbconvert_exporter": "python",
   "pygments_lexer": "ipython3",
   "version": "3.8.10"
  }
 },
 "nbformat": 4,
 "nbformat_minor": 5
}
