{
 "cells": [
  {
   "cell_type": "markdown",
   "id": "3b85fcf8",
   "metadata": {},
   "source": [
    "# Overview\n",
    "\n",
    "## References\n",
    "\n",
    "* [NetworkX Tutorial](https://networkx.org/documentation/stable/tutorial.html#tutorial)\n",
    "\n",
    "## Terminologies\n",
    "\n",
    "### Degree\n",
    "\n",
    "Number of edges of a node.\n",
    "\n",
    "\n",
    "## Node\n",
    "\n",
    "What can be the node/vertex in a graph?\n",
    "\n",
    "* [Creating a graph](https://networkx.org/documentation/stable/tutorial.html#creating-a-graph)\n",
    "\n",
    "> In NetworkX, nodes can be any hashable object e.g., a text string, an image, an XML object, another Graph, a customized node object, etc. Python's None object is not allowed\n",
    "\n",
    "### Node can be another graph\n",
    "\n",
    "> The graph G contains H as a node. **This flexibility allows graphs of graphs, graphs of files, graphs of functions** and much more.\n",
    "> ```\n",
    "> H = nx.path_graph(10)\n",
    "> G.add_node(H)\n",
    "> ```\n",
    "\n"
   ]
  },
  {
   "cell_type": "markdown",
   "id": "ba874844",
   "metadata": {},
   "source": [
    "# Prerequisites\n",
    "\n",
    "* [PyGraphviz install](https://pygraphviz.github.io/documentation/stable/install.html)\n",
    "\n",
    "> PyGraphviz requires:\n",
    "> * Python (version 3.8, 3.9, or 3.10)\n",
    "> * Graphviz (version 2.42 or later)\n",
    "> * C/C++ Compiler"
   ]
  },
  {
   "cell_type": "code",
   "execution_count": 1,
   "id": "4c4b365d",
   "metadata": {},
   "outputs": [],
   "source": [
    "# !brew install graphviz  # for mac\n",
    "!pip install networkx pygraphviz --quiet"
   ]
  },
  {
   "cell_type": "code",
   "execution_count": 2,
   "id": "32a37eb3",
   "metadata": {},
   "outputs": [],
   "source": [
    "import networkx as nx\n",
    "import matplotlib.pyplot as plt"
   ]
  },
  {
   "cell_type": "markdown",
   "id": "8e74f49a",
   "metadata": {},
   "source": [
    "# Undirected Graph Operations\n",
    "\n",
    "## Creation"
   ]
  },
  {
   "cell_type": "code",
   "execution_count": 60,
   "id": "c810a710",
   "metadata": {},
   "outputs": [],
   "source": [
    "UG = nx.Graph()\n",
    "\n",
    "# Nodes\n",
    "UG.add_nodes_from([1,2,3])\n",
    "UG.add_nodes_from([\n",
    "    (4, {\"color\": \"red\"}),\n",
    "    (5, {\"color\": \"green\"}),\n",
    "    (\"spam\", {\"color\": \"na\"}),\n",
    "])\n",
    "\n",
    "# Edges\n",
    "UG.add_edges_from([(1, 2), (1, 3), (1, \"spam\"), (2, 4), (3, 5)])"
   ]
  },
  {
   "cell_type": "markdown",
   "id": "58eda114",
   "metadata": {},
   "source": [
    "## Visualise\n",
    "\n",
    "* [draw_networkx](https://networkx.org/documentation/stable/reference/generated/networkx.drawing.nx_pylab.draw_networkx.html#networkx.drawing.nx_pylab.draw_networkx)\n",
    "* [Graph Layout](https://networkx.org/documentation/stable/reference/drawing.html#module-networkx.drawing.layout)\n",
    "* [draw_networkx_edge_labels](https://networkx.org/documentation/stable//reference/generated/networkx.drawing.nx_pylab.draw_networkx_edge_labels.html)\n",
    "* [NetworkX gallery](https://networkx.org/documentation/latest/auto_examples/index.html)\n",
    "\n",
    "> General-purpose and introductory examples for NetworkX. The tutorial introduces conventions and basic graph manipulations."
   ]
  },
  {
   "cell_type": "code",
   "execution_count": 61,
   "id": "f9cb52c4",
   "metadata": {},
   "outputs": [
    {
     "data": {
      "image/png": "[encoded data removed]",
      "text/plain": [
       "<Figure size 432x288 with 1 Axes>"
      ]
     },
     "metadata": {},
     "output_type": "display_data"
    }
   ],
   "source": [
    "nx.draw(UG, with_labels=True, font_weight='bold')"
   ]
  },
  {
   "cell_type": "markdown",
   "id": "66ae545f",
   "metadata": {},
   "source": [
    "## Graph properties\n",
    "\n",
    "Graph properties are **set-like immutable views** of the nodes, edges, neighbors (adjacencies), degrees of nodes, neighbors of a node in a graph.\n",
    "\n",
    "1. ```G.nodes(G: Graph) -> NodeView```\n",
    "2. ```G.edges(G: Graph, nbunch=None) -> EdgeDataView```\n",
    "3. ```G.adj -> AdjacencyView```\n",
    "4. ```G.degree(G: Graph, nbunch=None, weight=None) -> DegreeView```\n",
    "5. ```G.neighbors(node)```\n",
    "6. ```G.number_of_nodes() -> int```: Number of nodes in the graph\n",
    "7. ```G.number_of_edges() -> int```: Number of edges in the graph\n",
    "\n",
    "Graph properties are also **Dict-like** that provides dictionary methods ```.items(), .data()```.\n",
    "\n",
    "1. View.items()\n",
    "2. View.data()\n"
   ]
  },
  {
   "cell_type": "code",
   "execution_count": 73,
   "id": "92bb501d",
   "metadata": {},
   "outputs": [
    {
     "data": {
      "text/plain": [
       "6"
      ]
     },
     "execution_count": 73,
     "metadata": {},
     "output_type": "execute_result"
    }
   ],
   "source": [
    "UG.number_of_nodes()"
   ]
  },
  {
   "cell_type": "code",
   "execution_count": 63,
   "id": "271d073a",
   "metadata": {},
   "outputs": [
    {
     "data": {
      "text/plain": [
       "5"
      ]
     },
     "execution_count": 63,
     "metadata": {},
     "output_type": "execute_result"
    }
   ],
   "source": [
    "UG.number_of_edges()"
   ]
  },
  {
   "cell_type": "markdown",
   "id": "be713683",
   "metadata": {},
   "source": [
    "### Neighbours\n",
    "\n",
    "Graph ```adj``` property lists ```(node.key, node.neighbours)```."
   ]
  },
  {
   "cell_type": "code",
   "execution_count": 90,
   "id": "e786d4a8",
   "metadata": {},
   "outputs": [
    {
     "name": "stdout",
     "output_type": "stream",
     "text": [
      "node:    1 -> neighbours: {2: {}, 3: {}, 'spam': {}}\n",
      "node:    2 -> neighbours: {1: {}, 4: {}}\n",
      "node:    3 -> neighbours: {1: {}, 5: {}}\n",
      "node:    4 -> neighbours: {2: {}}\n",
      "node:    5 -> neighbours: {3: {}}\n",
      "node: spam -> neighbours: {1: {}}\n"
     ]
    }
   ],
   "source": [
    "for node_key, node_neighbours in UG.adj.items():\n",
    "    print(f\"node:{node_key:>5} -> neighbours: {node_neighbours}\")"
   ]
  },
  {
   "cell_type": "markdown",
   "id": "15c43396",
   "metadata": {},
   "source": [
    "## Node\n",
    "\n"
   ]
  },
  {
   "cell_type": "code",
   "execution_count": 64,
   "id": "dacd5843",
   "metadata": {},
   "outputs": [
    {
     "data": {
      "text/plain": [
       "NodeView((1, 2, 3, 4, 5, 'spam'))"
      ]
     },
     "execution_count": 64,
     "metadata": {},
     "output_type": "execute_result"
    }
   ],
   "source": [
    "UG.nodes()"
   ]
  },
  {
   "cell_type": "code",
   "execution_count": 78,
   "id": "354ae817",
   "metadata": {},
   "outputs": [
    {
     "data": {
      "text/plain": [
       "['data', 'get', 'isdisjoint', 'items', 'keys', 'values']"
      ]
     },
     "execution_count": 78,
     "metadata": {},
     "output_type": "execute_result"
    }
   ],
   "source": [
    "[attr for attr in dir(UG.nodes) if not attr.startswith(\"_\")]"
   ]
  },
  {
   "cell_type": "code",
   "execution_count": 67,
   "id": "d6af9855",
   "metadata": {},
   "outputs": [
    {
     "name": "stdout",
     "output_type": "stream",
     "text": [
      "(1, {})\n",
      "(2, {})\n",
      "(3, {})\n",
      "(4, {'color': 'red'})\n",
      "(5, {'color': 'green'})\n",
      "('spam', {'color': 'na'})\n"
     ]
    }
   ],
   "source": [
    "for item in UG.nodes().items():\n",
    "    print(item)"
   ]
  },
  {
   "cell_type": "markdown",
   "id": "28029a89",
   "metadata": {},
   "source": [
    "### Node attributes\n",
    "\n",
    "```NodeView.get(key)``` method returns the attributres of the node identified by ```key```."
   ]
  },
  {
   "cell_type": "code",
   "execution_count": 79,
   "id": "808ec66d",
   "metadata": {},
   "outputs": [
    {
     "data": {
      "text/plain": [
       "KeysView(NodeView((1, 2, 3, 4, 5, 'spam')))"
      ]
     },
     "execution_count": 79,
     "metadata": {},
     "output_type": "execute_result"
    }
   ],
   "source": [
    "UG.nodes.keys()"
   ]
  },
  {
   "cell_type": "code",
   "execution_count": 81,
   "id": "73f4cba0",
   "metadata": {},
   "outputs": [
    {
     "name": "stdout",
     "output_type": "stream",
     "text": [
      "type <class 'dict'> : {'color': 'red'}\n"
     ]
    }
   ],
   "source": [
    "node_attributes = UG.nodes().get(4)\n",
    "print(f\"type {type(node_attributes)} : {node_attributes}\")"
   ]
  },
  {
   "cell_type": "markdown",
   "id": "7780362c",
   "metadata": {},
   "source": [
    "### Node attributes via dictionary index\n",
    "\n",
    "Because ```G.nodes``` is **dict-lie**, we can use ```G[index]``` to access the node attributes."
   ]
  },
  {
   "cell_type": "code",
   "execution_count": 93,
   "id": "d34d84fd",
   "metadata": {},
   "outputs": [
    {
     "data": {
      "text/plain": [
       "{'color': 'red'}"
      ]
     },
     "execution_count": 93,
     "metadata": {},
     "output_type": "execute_result"
    }
   ],
   "source": [
    "UG.nodes[4]"
   ]
  },
  {
   "cell_type": "code",
   "execution_count": 13,
   "id": "e8930dd5",
   "metadata": {},
   "outputs": [
    {
     "data": {
      "text/plain": [
       "{'color': 'na'}"
      ]
     },
     "execution_count": 13,
     "metadata": {},
     "output_type": "execute_result"
    }
   ],
   "source": [
    "G.nodes[\"spam\"]"
   ]
  },
  {
   "cell_type": "code",
   "execution_count": 44,
   "id": "64361d69",
   "metadata": {},
   "outputs": [
    {
     "data": {
      "text/plain": [
       "NodeDataView({0: {'label': 'A'}, 1: {'label': 'B'}, 2: {'label': 'C'}, 3: {'label': 'D'}, 4: {'label': 'E'}})"
      ]
     },
     "execution_count": 44,
     "metadata": {},
     "output_type": "execute_result"
    }
   ],
   "source": [
    "G.nodes(data=True)"
   ]
  },
  {
   "cell_type": "markdown",
   "id": "70189eba",
   "metadata": {},
   "source": [
    "## Edge"
   ]
  },
  {
   "cell_type": "code",
   "execution_count": 68,
   "id": "33830829",
   "metadata": {},
   "outputs": [
    {
     "data": {
      "text/plain": [
       "EdgeView([(1, 2), (1, 3), (1, 'spam'), (2, 4), (3, 5)])"
      ]
     },
     "execution_count": 68,
     "metadata": {},
     "output_type": "execute_result"
    }
   ],
   "source": [
    "UG.edges()"
   ]
  },
  {
   "cell_type": "code",
   "execution_count": 97,
   "id": "1bd0aaba",
   "metadata": {},
   "outputs": [
    {
     "name": "stdout",
     "output_type": "stream",
     "text": [
      "edge:1->    2, attributes: {}\n",
      "edge:1->    3, attributes: {}\n",
      "edge:1-> spam, attributes: {}\n",
      "edge:2->    4, attributes: {}\n",
      "edge:3->    5, attributes: {}\n"
     ]
    }
   ],
   "source": [
    "for edge, attributes in UG.edges().items():\n",
    "    print(f\"edge:{edge[0]}->{edge[1]:>5}, attributes: {attributes}\")"
   ]
  },
  {
   "cell_type": "code",
   "execution_count": 70,
   "id": "c0d8be29",
   "metadata": {},
   "outputs": [
    {
     "data": {
      "text/plain": [
       "AdjacencyView({1: {2: {}, 3: {}, 'spam': {}}, 2: {1: {}, 4: {}}, 3: {1: {}, 5: {}}, 4: {2: {}}, 5: {3: {}}, 'spam': {1: {}}})"
      ]
     },
     "execution_count": 70,
     "metadata": {},
     "output_type": "execute_result"
    }
   ],
   "source": []
  },
  {
   "cell_type": "markdown",
   "id": "fb64d534",
   "metadata": {},
   "source": [
    "### Edge via subscript notation\n",
    "\n",
    "```G[from, to]``` gives the edge ```(from, to)``` where **from** and **to** are node keys.\n",
    "\n",
    "\n"
   ]
  },
  {
   "cell_type": "markdown",
   "id": "ba80556a",
   "metadata": {},
   "source": [
    "## Access node edges"
   ]
  },
  {
   "cell_type": "code",
   "execution_count": 14,
   "id": "3799569a",
   "metadata": {},
   "outputs": [
    {
     "data": {
      "text/plain": [
       "EdgeDataView([(4, 2), ('spam', 1)])"
      ]
     },
     "execution_count": 14,
     "metadata": {},
     "output_type": "execute_result"
    }
   ],
   "source": [
    "G.edges([4, \"spam\"])"
   ]
  },
  {
   "cell_type": "markdown",
   "id": "c9c6a4a3",
   "metadata": {},
   "source": [
    "---\n",
    "# Directed Graph\n",
    "\n",
    "* [Directed graphs](https://networkx.org/documentation/stable/tutorial.html#directed-graphs)"
   ]
  },
  {
   "cell_type": "code",
   "execution_count": 15,
   "id": "6857e5d6",
   "metadata": {},
   "outputs": [],
   "source": [
    "edges = [\n",
    "    (\"sushi/0\", \"sushi/0\", 0.7),\n",
    "    (\"sushi/0\", \"goes/1\", 0.3), \n",
    "    (\"sushi/0\", \"with/2\", 0.1), \n",
    "    (\"sushi/0\", \"wasabi/3\", 0.6), \n",
    "    (\"goes/1\", \"sushi/0\", 0.1),\n",
    "    (\"goes/1\", \"goes/1\", 0.75),\n",
    "    (\"goes/1\", \"with/2\", 0.75),\n",
    "    (\"goes/1\", \"wasabi/3\", 0.75),\n",
    "    (\"with/2\", \"sushi/0\", 0.1),\n",
    "    (\"with/2\", \"goes/1\", 0.75),\n",
    "    (\"with/2\", \"with/2\", 0.75),\n",
    "    (\"with/2\", \"wasabi/3\", 0.75),\n",
    "    (\"wasabi/3\", \"sushi/0\", 0.1),\n",
    "    (\"wasabi/3\", \"goes/1\", 0.75),\n",
    "    (\"wasabi/3\", \"with/2\", 0.75),\n",
    "    (\"wasabi/3\", \"wasabi/3\", 0.75),\n",
    "]\n",
    "\n",
    "DG = nx.DiGraph()\n",
    "DG.add_weighted_edges_from(edges)\n",
    "#DG.out_degree(1, weight='weight')"
   ]
  },
  {
   "cell_type": "code",
   "execution_count": 16,
   "id": "2d74eaea",
   "metadata": {},
   "outputs": [
    {
     "data": {
      "text/plain": [
       "[('sushi/0', 'sushi/0', {'weight': 0.7}),\n",
       " ('goes/1', 'goes/1', {'weight': 0.75}),\n",
       " ('with/2', 'with/2', {'weight': 0.75}),\n",
       " ('wasabi/3', 'wasabi/3', {'weight': 0.75})]"
      ]
     },
     "execution_count": 16,
     "metadata": {},
     "output_type": "execute_result"
    }
   ],
   "source": [
    "list(nx.selfloop_edges(DG, data=True))"
   ]
  },
  {
   "cell_type": "code",
   "execution_count": 17,
   "id": "144955d2",
   "metadata": {},
   "outputs": [
    {
     "data": {
      "text/plain": [
       "[<matplotlib.patches.FancyArrowPatch at 0x7fa808590310>,\n",
       " <matplotlib.patches.FancyArrowPatch at 0x7fa808065810>,\n",
       " <matplotlib.patches.FancyArrowPatch at 0x7fa808574610>,\n",
       " <matplotlib.patches.FancyArrowPatch at 0x7fa808257f90>]"
      ]
     },
     "execution_count": 17,
     "metadata": {},
     "output_type": "execute_result"
    },
    {
     "data": {
      "image/png": "[encoded data removed]",
      "text/plain": [
       "<Figure size 432x288 with 1 Axes>"
      ]
     },
     "metadata": {},
     "output_type": "display_data"
    }
   ],
   "source": [
    "# DG.graph['edge'] = {'arrowsize': '0.6', 'splines': 'curved'}\n",
    "pos = nx.spring_layout(DG)\n",
    "nx.draw_networkx_nodes(\n",
    "    DG, \n",
    "    node_size=200,\n",
    "    node_color=\"cyan\",\n",
    "    pos=pos\n",
    ")\n",
    "nx.draw_networkx_labels(\n",
    "    DG,\n",
    "    pos=pos\n",
    ")\n",
    "nx.draw_networkx_edges(\n",
    "    DG, \n",
    "    edgelist=list(nx.selfloop_edges(DG, data=True)),\n",
    "    edge_color=\"r\",\n",
    "    connectionstyle='arc3, rad = 0.1',\n",
    "    pos=pos\n",
    ")"
   ]
  },
  {
   "cell_type": "code",
   "execution_count": 18,
   "id": "589bc772",
   "metadata": {},
   "outputs": [
    {
     "data": {
      "text/plain": [
       "{('sushi/0',\n",
       "  'sushi/0'): Text(-0.03698019664518683, -0.006169481421862696, \"{'weight': 0.7}\"),\n",
       " ('sushi/0',\n",
       "  'goes/1'): Text(-0.22365330086968593, 0.49606413147371486, \"{'weight': 0.3}\"),\n",
       " ('sushi/0',\n",
       "  'with/2'): Text(0.367409834170549, 0.0008511278153537243, \"{'weight': 0.1}\"),\n",
       " ('sushi/0',\n",
       "  'wasabi/3'): Text(-0.18073672994604986, -0.5030847407109313, \"{'weight': 0.6}\"),\n",
       " ('goes/1',\n",
       "  'sushi/0'): Text(-0.22365330086968593, 0.49606413147371486, \"{'weight': 0.1}\"),\n",
       " ('goes/1',\n",
       "  'goes/1'): Text(-0.41032640509418505, 0.9982977443692924, \"{'weight': 0.75}\"),\n",
       " ('goes/1',\n",
       "  'with/2'): Text(0.1807367299460499, 0.5030847407109312, \"{'weight': 0.75}\"),\n",
       " ('goes/1',\n",
       "  'wasabi/3'): Text(-0.36740983417054895, -0.0008511278153537916, \"{'weight': 0.75}\"),\n",
       " ('with/2',\n",
       "  'sushi/0'): Text(0.367409834170549, 0.0008511278153537243, \"{'weight': 0.1}\"),\n",
       " ('with/2',\n",
       "  'goes/1'): Text(0.1807367299460499, 0.5030847407109312, \"{'weight': 0.75}\"),\n",
       " ('with/2',\n",
       "  'with/2'): Text(0.7717998649862848, 0.007871737052570145, \"{'weight': 0.75}\"),\n",
       " ('with/2',\n",
       "  'wasabi/3'): Text(0.22365330086968596, -0.4960641314737149, \"{'weight': 0.75}\"),\n",
       " ('wasabi/3',\n",
       "  'sushi/0'): Text(-0.18073672994604986, -0.5030847407109313, \"{'weight': 0.1}\"),\n",
       " ('wasabi/3',\n",
       "  'goes/1'): Text(-0.36740983417054895, -0.0008511278153537916, \"{'weight': 0.75}\"),\n",
       " ('wasabi/3',\n",
       "  'with/2'): Text(0.22365330086968596, -0.4960641314737149, \"{'weight': 0.75}\"),\n",
       " ('wasabi/3', 'wasabi/3'): Text(-0.3244932632469129, -1.0, \"{'weight': 0.75}\")}"
      ]
     },
     "execution_count": 18,
     "metadata": {},
     "output_type": "execute_result"
    },
    {
     "data": {
      "image/png": "[encoded data removed]",
      "text/plain": [
       "<Figure size 432x288 with 1 Axes>"
      ]
     },
     "metadata": {},
     "output_type": "display_data"
    }
   ],
   "source": [
    "G.graph['edge'] = {'arrowsize': '0.6', 'splines': 'curved'}\n",
    "nx.draw(\n",
    "    DG, \n",
    "    with_labels=True, \n",
    "    node_size=2000,\n",
    "    node_color=\"cyan\",\n",
    "    font_weight='bold',\n",
    "    font_size=12,\n",
    "    edge_color='k',\n",
    "    connectionstyle='arc3, rad = 0.2',\n",
    "    pos=nx.spring_layout(G=DG, k=10.0),\n",
    "    # pos=nx.circular_layout(DG),\n",
    "    # pos=nx.kamada_kawai_layout(DG),\n",
    "    # pos=nx.random_layout(DG),\n",
    "    # pos=nx.shell_layout(DG),\n",
    ")\n",
    "nx.draw_networkx_edge_labels(\n",
    "    DG, \n",
    "    #pos=nx.spring_layout(DG)\n",
    "    pos=nx.kamada_kawai_layout(DG),\n",
    ")"
   ]
  },
  {
   "cell_type": "code",
   "execution_count": 27,
   "id": "2839155e",
   "metadata": {},
   "outputs": [
    {
     "data": {
      "text/plain": [
       "[0, 0, 0, 0, 0, 0]"
      ]
     },
     "execution_count": 27,
     "metadata": {},
     "output_type": "execute_result"
    }
   ],
   "source": [
    "import matplotlib.pyplot as plt\n",
    "import networkx as nx\n",
    "\n",
    "MDG = nx.MultiDiGraph()\n",
    "\n",
    "# --------------------------------------------------------------------------------\n",
    "# Self loop edges\n",
    "# --------------------------------------------------------------------------------\n",
    "self_loop_edges = [\n",
    "    (\"sushi/0\", \"sushi/0\", ),\n",
    "    (\"goes/1\", \"goes/1\"),\n",
    "    (\"with/2\", \"with/2\"),\n",
    "    (\"wasabi/3\", \"wasabi/3\"),\n",
    "]\n",
    "MDG.add_edges_from(\n",
    "    self_loop_edges,\n",
    "    edge_color='r',\n",
    "    weight='length',\n",
    "    length=100,\n",
    ")\n",
    "\n",
    "# --------------------------------------------------------------------------------\n",
    "# Forward edges\n",
    "# --------------------------------------------------------------------------------\n",
    "forward_edges = [\n",
    "    (\"sushi/0\", \"goes/1\"), \n",
    "    (\"sushi/0\", \"with/2\"), \n",
    "    (\"sushi/0\", \"wasabi/3\"), \n",
    "    (\"goes/1\", \"with/2\"),\n",
    "    (\"goes/1\", \"wasabi/3\"),\n",
    "    (\"with/2\", \"wasabi/3\"),\n",
    "]\n",
    "MDG.add_edges_from(\n",
    "    forward_edges,\n",
    "    edge_color='b',\n",
    "    weight='length',\n",
    "    length=100,\n",
    ")\n",
    "\n",
    "# --------------------------------------------------------------------------------\n",
    "# Backward edges\n",
    "# --------------------------------------------------------------------------------\n",
    "backward_edges = [\n",
    "    (\"goes/1\", \"sushi/0\"),\n",
    "    (\"with/2\", \"sushi/0\"),\n",
    "    (\"with/2\", \"goes/1\"),\n",
    "    (\"wasabi/3\", \"sushi/0\"),\n",
    "    (\"wasabi/3\", \"goes/1\"),\n",
    "    (\"wasabi/3\", \"with/2\"),\n",
    "]\n",
    "MDG.add_edges_from(\n",
    "    backward_edges,\n",
    "    edge_color='g',\n",
    "    weight='length',\n",
    "    length=100,\n",
    ")"
   ]
  },
  {
   "cell_type": "code",
   "execution_count": 37,
   "id": "ea1401bf",
   "metadata": {},
   "outputs": [
    {
     "data": {
      "image/png": "[encoded data removed]",
      "text/plain": [
       "<Figure size 504x360 with 1 Axes>"
      ]
     },
     "metadata": {},
     "output_type": "display_data"
    }
   ],
   "source": [
    "# layout definition must come after adding all nodes/edges. \n",
    "# Otherwise Node X has no position error.\n",
    "pos=nx.spring_layout(MDG, seed=5, weight='length')\n",
    "fig, ax = plt.subplots(figsize=(7, 5))\n",
    "\n",
    "# --------------------------------------------------------------------------------\n",
    "# Draw nodes & labels\n",
    "# --------------------------------------------------------------------------------\n",
    "nx.draw_networkx_nodes(\n",
    "    MDG, \n",
    "    pos, \n",
    "    ax=ax,\n",
    "    node_size=500,\n",
    "    node_color=\"orange\",\n",
    ")\n",
    "nx.draw_networkx_labels(\n",
    "    MDG, \n",
    "    pos, \n",
    "    ax=ax,\n",
    "    # font_weight='bold',\n",
    "    font_size=15,\n",
    ")\n",
    "\n",
    "# --------------------------------------------------------------------------------\n",
    "# Draw self loop edges\n",
    "# --------------------------------------------------------------------------------\n",
    "nx.draw_networkx_edges(\n",
    "    MDG, \n",
    "    pos, \n",
    "    ax=ax, \n",
    "    edgelist=self_loop_edges, \n",
    "    edge_color=\"k\",\n",
    "    style=\"dashed\",\n",
    "    connectionstyle='arc3, rad=0.5',\n",
    ")\n",
    "nx.draw_networkx_edge_labels(\n",
    "    MDG, \n",
    "    pos,\n",
    "    label_pos=0.5,\n",
    "    edge_labels={\n",
    "        (\"sushi/0\", \"sushi/0\"): 0.7,\n",
    "        (\"goes/1\", \"goes/1\"): 0.6,\n",
    "        (\"with/2\", \"with/2\"): 0.62,\n",
    "        (\"wasabi/3\", \"wasabi/3\"): 0.7,       \n",
    "    },\n",
    "    font_color='r'\n",
    ")\n",
    "\n",
    "\n",
    "# --------------------------------------------------------------------------------\n",
    "# Draw forward edges\n",
    "# --------------------------------------------------------------------------------\n",
    "nx.draw_networkx_edges(\n",
    "    MDG, \n",
    "    pos, \n",
    "    ax=ax, \n",
    "    edgelist=forward_edges, \n",
    "    edge_color=\"r\",\n",
    "    arrowsize=40,\n",
    "    arrowstyle=\"->\",\n",
    "    connectionstyle='arc3, rad=0.1',\n",
    ")\n",
    "nx.draw_networkx_edge_labels(\n",
    "    MDG, \n",
    "    pos,\n",
    "    label_pos=0.25,\n",
    "    edge_labels={\n",
    "        (\"sushi/0\", \"goes/1\"): 0.3, \n",
    "        (\"sushi/0\", \"with/2\"): 0.1, \n",
    "        (\"sushi/0\", \"wasabi/3\"): 0.6, \n",
    "        (\"goes/1\", \"with/2\"): 0.31,\n",
    "        (\"goes/1\", \"wasabi/3\"): 0.21,\n",
    "        (\"with/2\", \"wasabi/3\"): 0.41,\n",
    "    },\n",
    "    font_color='r'\n",
    ")\n",
    "\n",
    "# --------------------------------------------------------------------------------\n",
    "# Draw backward edges\n",
    "# --------------------------------------------------------------------------------\n",
    "nx.draw_networkx_edges(\n",
    "    MDG, \n",
    "    pos, \n",
    "    ax=ax, \n",
    "    edgelist=backward_edges, \n",
    "    edge_color=\"dodgerblue\",\n",
    "    arrowsize=30,\n",
    "    arrowstyle=\"-|>\",\n",
    "    connectionstyle='arc3, rad=0.1',\n",
    ")\n",
    "nx.draw_networkx_edge_labels(\n",
    "    MDG, \n",
    "    pos,\n",
    "    label_pos=0.25,\n",
    "    edge_labels={\n",
    "        (\"goes/1\", \"sushi/0\"): 0.1,\n",
    "        (\"with/2\", \"sushi/0\"): 0.2,\n",
    "        (\"with/2\", \"goes/1\"): 0.1,\n",
    "        (\"wasabi/3\", \"sushi/0\"): 0.4,\n",
    "        (\"wasabi/3\", \"goes/1\"): 0.12,\n",
    "        (\"wasabi/3\", \"with/2\"): 0.08,\n",
    "    },\n",
    "    font_color='dodgerblue'\n",
    ")\n",
    "disable = \"\"\"\n",
    "nx.set_edge_attributes(\n",
    "    G=MDG,\n",
    "    values={\n",
    "        (\"goes/1\", \"sushi/0\", 0.1): {\"label\": 0.1},\n",
    "        (\"with/2\", \"sushi/0\", 0.2): {\"label\": 0.2},\n",
    "        (\"with/2\", \"goes/1\", 0.1): {\"label\": 0.1},\n",
    "        (\"wasabi/3\", \"sushi/0\", 0.4): {\"label\": 0.4},\n",
    "        (\"wasabi/3\", \"goes/1\", 0.12): {\"label\": 0.12},\n",
    "        (\"wasabi/3\", \"with/2\", 0.08): {\"label\": 0.08},\n",
    "    }\n",
    ")\n",
    "\"\"\""
   ]
  },
  {
   "cell_type": "code",
   "execution_count": 21,
   "id": "5c2d9a9e",
   "metadata": {},
   "outputs": [
    {
     "data": {
      "image/png": "[encoded data removed]",
      "text/plain": [
       "<Figure size 720x360 with 1 Axes>"
      ]
     },
     "metadata": {},
     "output_type": "display_data"
    }
   ],
   "source": [
    "import matplotlib.pyplot as plt\n",
    "import networkx as nx\n",
    "\n",
    "MDG = nx.MultiDiGraph()\n",
    "\n",
    "# --------------------------------------------------------------------------------\n",
    "# Forward edges\n",
    "# --------------------------------------------------------------------------------\n",
    "forward_edges = [\n",
    "    (\"sushi/0\", \"goes/1\"), \n",
    "    (\"sushi/0\", \"with/2\"), \n",
    "    (\"sushi/0\", \"wasabi/3\"), \n",
    "    (\"goes/1\", \"with/2\"),\n",
    "    (\"goes/1\", \"wasabi/3\"),\n",
    "    (\"with/2\", \"wasabi/3\"),\n",
    "]\n",
    "MDG.add_edges_from(\n",
    "    forward_edges,\n",
    "    edge_color='b',\n",
    "    weight='length',\n",
    "    length=100,\n",
    ")\n",
    "\n",
    "# layout definition must come after adding all nodes/edges. \n",
    "# Otherwise Node X has no position error.\n",
    "pos=nx.spring_layout(MDG, weight='length')\n",
    "fig, ax = plt.subplots(figsize=(10, 5))\n",
    "\n",
    "# --------------------------------------------------------------------------------\n",
    "# Draw nodes & labels\n",
    "# --------------------------------------------------------------------------------\n",
    "nx.draw_networkx_nodes(\n",
    "    MDG, \n",
    "    pos, \n",
    "    ax=ax,\n",
    "    node_size=500,\n",
    "    node_color=\"cyan\",\n",
    ")\n",
    "nx.draw_networkx_labels(\n",
    "    MDG, \n",
    "    pos, \n",
    "    ax=ax,\n",
    "    font_weight='bold',\n",
    "    font_size=12,\n",
    ")\n",
    "\n",
    "# --------------------------------------------------------------------------------\n",
    "# Draw forward edges\n",
    "# --------------------------------------------------------------------------------\n",
    "nx.draw_networkx_edges(\n",
    "    MDG, \n",
    "    pos, \n",
    "    ax=ax, \n",
    "    edgelist=forward_edges, \n",
    "    edge_color=\"b\",\n",
    "    arrowsize=30,\n",
    "    arrowstyle=\"->\",\n",
    "#    connectionstyle='arc3, rad=0.25',\n",
    ")\n",
    "nx.draw_networkx_edge_labels(\n",
    "    MDG, \n",
    "    pos,\n",
    "    label_pos=0.2,\n",
    "    edge_labels={\n",
    "        (\"sushi/0\", \"goes/1\"): 0.3, \n",
    "        (\"sushi/0\", \"with/2\"): 0.1, \n",
    "        (\"sushi/0\", \"wasabi/3\"): 0.6, \n",
    "        (\"goes/1\", \"with/2\"): 0.75,\n",
    "        (\"goes/1\", \"wasabi/3\"): 0.75,\n",
    "        (\"with/2\", \"wasabi/3\"): 0.75,\n",
    "    },\n",
    "    font_color='b'\n",
    ")\n",
    "nx.set_edge_attributes(\n",
    "    G=MDG,\n",
    "    values={\n",
    "        (\"sushi/0\", \"goes/1\", 0.1): {\"label\": 0.1},\n",
    "        (\"sushi/0\", \"with/2\", 0.1): {\"label\": 0.2},\n",
    "        (\"sushi/0\", \"wasabi/3\", 0.6): {\"label\": 0.6},\n",
    "        (\"goes/1\", \"with/2\", 0.1): {\"label\": 0.1},\n",
    "        (\"goes/1\", \"wasabi/3\", 0.75): {\"label\": 0.75},\n",
    "        (\"with/2\", \"wasabi/3\", 0.75): {\"label\": 0.75},\n",
    "    }\n",
    ")"
   ]
  },
  {
   "cell_type": "code",
   "execution_count": 22,
   "id": "afd644ca",
   "metadata": {},
   "outputs": [
    {
     "data": {
      "text/plain": [
       "['__class__',\n",
       " '__contains__',\n",
       " '__delattr__',\n",
       " '__delitem__',\n",
       " '__dir__',\n",
       " '__doc__',\n",
       " '__eq__',\n",
       " '__format__',\n",
       " '__ge__',\n",
       " '__getattribute__',\n",
       " '__getitem__',\n",
       " '__gt__',\n",
       " '__hash__',\n",
       " '__init__',\n",
       " '__init_subclass__',\n",
       " '__iter__',\n",
       " '__le__',\n",
       " '__len__',\n",
       " '__lt__',\n",
       " '__ne__',\n",
       " '__new__',\n",
       " '__reduce__',\n",
       " '__reduce_ex__',\n",
       " '__repr__',\n",
       " '__setattr__',\n",
       " '__setitem__',\n",
       " '__sizeof__',\n",
       " '__str__',\n",
       " '__subclasshook__',\n",
       " 'clear',\n",
       " 'copy',\n",
       " 'fromkeys',\n",
       " 'get',\n",
       " 'items',\n",
       " 'keys',\n",
       " 'pop',\n",
       " 'popitem',\n",
       " 'setdefault',\n",
       " 'update',\n",
       " 'values']"
      ]
     },
     "execution_count": 22,
     "metadata": {},
     "output_type": "execute_result"
    }
   ],
   "source": [
    "dir(pos)"
   ]
  },
  {
   "cell_type": "code",
   "execution_count": 23,
   "id": "7862ebe9",
   "metadata": {},
   "outputs": [],
   "source": [
    "D = nx.drawing.nx_agraph.to_agraph(MDG)\n",
    "\n",
    "# Modify node fillcolor and edge color.\n",
    "D.node_attr.update(color='blue', style='filled', fillcolor='yellow')\n",
    "D.edge_attr.update(color='blue', arrowsize=1)\n",
    "pos = D.layout('dot')\n",
    "D.draw('MDG.png')"
   ]
  },
  {
   "cell_type": "code",
   "execution_count": 24,
   "id": "e51db4cf",
   "metadata": {},
   "outputs": [],
   "source": [
    "import networkx as nx\n",
    "from networkx.drawing.nx_agraph import to_agraph \n",
    "\n",
    "# define the graph as per your question\n",
    "G=nx.MultiDiGraph([(1,2),(1,1),(1,2),(2,3),(3,4),(2,4), \n",
    "    (1,2),(1,2),(1,2),(2,3),(3,4),(2,4)])\n",
    "\n",
    "# add graphviz layout options (see https://stackoverflow.com/a/39662097)\n",
    "G.graph['edge'] = {'arrowsize': '0.6', 'splines': 'curved'}\n",
    "G.graph['graph'] = {'scale': '3'}\n",
    "                                                                                \n",
    "# adding attributes to edges in multigraphs is more complicated but see\n",
    "# https://stackoverflow.com/a/26694158                    \n",
    "G[1][1][0]['color']='red'\n",
    "                                                                                \n",
    "A = to_agraph(G) \n",
    "A.layout('dot')                                                                 \n",
    "A.draw('multi.png')   "
   ]
  },
  {
   "cell_type": "code",
   "execution_count": 25,
   "id": "90d27e2c",
   "metadata": {},
   "outputs": [],
   "source": [
    "import networkx as nx\n",
    "import numpy as npy\n",
    "\n",
    "A = npy.matrix([[2, 2, 7, 0, 0], [0, 2, 6, 3, 0], [0, 0, 0, 2, 1], [0, 0, 0, 0, 4],\n",
    "                [4, 0, 0, 0, 0]])\n",
    "labels = {0: 'A', 1: 'B', 2: 'C', 3: 'D', 4: 'E'}\n",
    "G = nx.from_numpy_matrix(A, create_using=nx.DiGraph)\n",
    "\n",
    "# Set node labels to A, B, C, D, E\n",
    "nx.set_node_attributes(G, {k: {'label': labels[k]} for k in labels.keys()})\n",
    "nx.set_edge_attributes(G, {(e[0], e[1]): {'label': e[2]['weight']} for e in G.edges(data=True)})\n",
    "D = nx.drawing.nx_agraph.to_agraph(G)\n",
    "\n",
    "# Modify node fillcolor and edge color.\n",
    "D.node_attr.update(color='blue', style='filled', fillcolor='yellow')\n",
    "D.edge_attr.update(color='blue', arrowsize=1)\n",
    "pos = D.layout('dot')\n",
    "D.draw('Graph.png')"
   ]
  },
  {
   "cell_type": "code",
   "execution_count": 26,
   "id": "6d1cb51a",
   "metadata": {},
   "outputs": [
    {
     "data": {
      "text/plain": [
       "{(0, 0): {'label': 2},\n",
       " (0, 1): {'label': 2},\n",
       " (0, 2): {'label': 7},\n",
       " (1, 1): {'label': 2},\n",
       " (1, 2): {'label': 6},\n",
       " (1, 3): {'label': 3},\n",
       " (2, 3): {'label': 2},\n",
       " (2, 4): {'label': 1},\n",
       " (3, 4): {'label': 4},\n",
       " (4, 0): {'label': 4}}"
      ]
     },
     "execution_count": 26,
     "metadata": {},
     "output_type": "execute_result"
    }
   ],
   "source": [
    "{(e[0], e[1]): {'label': e[2]['weight']} for e in G.edges(data=True)}"
   ]
  },
  {
   "cell_type": "code",
   "execution_count": 43,
   "id": "e8bf90cc",
   "metadata": {},
   "outputs": [
    {
     "data": {
      "text/plain": [
       "{((('sushi/0', 0.1), ('goes/1', 0.6), ('with/2', 0.31), ('wasabi/3', 0.21)),\n",
       "  (('sushi/0', 0.7),\n",
       "   ('goes/1', 0.3),\n",
       "   ('with/2', 0.1),\n",
       "   ('wasabi/3', 0.6))): Text(0.023231749704253818, -0.8407610856183108, '0.1'),\n",
       " ((('sushi/0', 0.2), ('goes/1', 0.1), ('with/2', 0.62), ('wasabi/3', 0.41)),\n",
       "  (('sushi/0', 0.7),\n",
       "   ('goes/1', 0.3),\n",
       "   ('with/2', 0.1),\n",
       "   ('wasabi/3', 0.6))): Text(0.18185255513883086, -0.49999917725309173, '0.2'),\n",
       " ((('sushi/0', 0.2), ('goes/1', 0.1), ('with/2', 0.62), ('wasabi/3', 0.41)),\n",
       "  (('sushi/0', 0.1),\n",
       "   ('goes/1', 0.6),\n",
       "   ('with/2', 0.31),\n",
       "   ('wasabi/3', 0.21))): Text(-0.8395681250569225, -0.0222857250956571, '0.1'),\n",
       " ((('sushi/0', 0.4), ('goes/1', 0.12), ('with/2', 0.08), ('wasabi/3', 0.7)),\n",
       "  (('sushi/0', 0.7),\n",
       "   ('goes/1', 0.3),\n",
       "   ('with/2', 0.1),\n",
       "   ('wasabi/3', 0.6))): Text(0.5223263146959254, -0.6592375431368412, '0.4'),\n",
       " ((('sushi/0', 0.4), ('goes/1', 0.12), ('with/2', 0.08), ('wasabi/3', 0.7)),\n",
       "  (('sushi/0', 0.1),\n",
       "   ('goes/1', 0.6),\n",
       "   ('with/2', 0.31),\n",
       "   ('wasabi/3',\n",
       "    0.21))): Text(-0.49909436549982794, -0.18152409097940655, '0.12'),\n",
       " ((('sushi/0', 0.4), ('goes/1', 0.12), ('with/2', 0.08), ('wasabi/3', 0.7)),\n",
       "  (('sushi/0', 0.2),\n",
       "   ('goes/1', 0.1),\n",
       "   ('with/2', 0.62),\n",
       "   ('wasabi/3',\n",
       "    0.41))): Text(-0.023231949196096835, 0.8407616341162504, '0.08')}"
      ]
     },
     "execution_count": 43,
     "metadata": {},
     "output_type": "execute_result"
    },
    {
     "data": {
      "image/png": "[encoded data removed]",
      "text/plain": [
       "<Figure size 1080x720 with 1 Axes>"
      ]
     },
     "metadata": {},
     "output_type": "display_data"
    }
   ],
   "source": [
    "import matplotlib.pyplot as plt\n",
    "import networkx as nx\n",
    "\n",
    "MDG = nx.MultiDiGraph()\n",
    "\n",
    "\n",
    "v0 = ((\"sushi/0\", 0.7), (\"goes/1\", 0.3), (\"with/2\", 0.1), (\"wasabi/3\", 0.6))\n",
    "v1 =  ((\"sushi/0\", 0.1), (\"goes/1\", 0.6), (\"with/2\", 0.31), (\"wasabi/3\", 0.21))\n",
    "v2 = ((\"sushi/0\", 0.2), (\"goes/1\", 0.1), (\"with/2\", 0.62), (\"wasabi/3\", 0.41))\n",
    "v3 = ((\"sushi/0\", 0.4), (\"goes/1\", 0.12), (\"with/2\", 0.08), (\"wasabi/3\", 0.7))\n",
    "\n",
    "# --------------------------------------------------------------------------------\n",
    "# Self loop edges\n",
    "# --------------------------------------------------------------------------------\n",
    "self_loop_edges = [\n",
    "    (v1, v1),\n",
    "    (v2,v2),\n",
    "    (v2, v2),\n",
    "    (v3, v3),\n",
    "]\n",
    "MDG.add_edges_from(\n",
    "    self_loop_edges,\n",
    "    edge_color='r',\n",
    "    weight='length',\n",
    "    length=100,\n",
    ")\n",
    "\n",
    "# --------------------------------------------------------------------------------\n",
    "# Forward edges\n",
    "# --------------------------------------------------------------------------------\n",
    "forward_edges = [\n",
    "    (v0, v1), \n",
    "    (v0, v2), \n",
    "    (v0, v3), \n",
    "    (v1, v2),\n",
    "    (v1, v3),\n",
    "    (v2, v3),\n",
    "]\n",
    "MDG.add_edges_from(\n",
    "    forward_edges,\n",
    "    edge_color='b',\n",
    "    weight='length',\n",
    "    length=100,\n",
    ")\n",
    "\n",
    "# --------------------------------------------------------------------------------\n",
    "# Backward edges\n",
    "# --------------------------------------------------------------------------------\n",
    "backward_edges = [\n",
    "    (v1, v0),\n",
    "    (v2, v0),\n",
    "    (v2, v1),\n",
    "    (v3, v0),\n",
    "    (v3, v1),\n",
    "    (v3, v2),\n",
    "]\n",
    "MDG.add_edges_from(\n",
    "    backward_edges,\n",
    "    edge_color='g',\n",
    "    weight='length',\n",
    "    length=100,\n",
    ")\n",
    "\n",
    "\n",
    "\n",
    "# layout definition must come after adding all nodes/edges.\n",
    "# Otherwise Node X has no position error.\n",
    "pos=nx.spring_layout(MDG, seed=5, weight='length')\n",
    "fig, ax = plt.subplots(figsize=(15, 10))\n",
    "\n",
    "# --------------------------------------------------------------------------------\n",
    "# Draw nodes & labels\n",
    "# --------------------------------------------------------------------------------\n",
    "nx.draw_networkx_nodes(\n",
    "    MDG,\n",
    "    pos,\n",
    "    ax=ax,\n",
    "    node_size=500,\n",
    "    node_color=\"green\",\n",
    ")\n",
    "\"\"\"\n",
    "nx.draw_networkx_labels(\n",
    "    MDG,\n",
    "    pos,\n",
    "    ax=ax,\n",
    "    # font_weight='bold',\n",
    "    font_size=15,\n",
    ")\n",
    "\"\"\"\n",
    "# --------------------------------------------------------------------------------\n",
    "# Draw self loop edges\n",
    "# --------------------------------------------------------------------------------\n",
    "nx.draw_networkx_edges(\n",
    "    MDG,\n",
    "    pos,\n",
    "    ax=ax,\n",
    "    edgelist=self_loop_edges,\n",
    "    edge_color=\"k\",\n",
    "    style=\"dashed\",\n",
    "    connectionstyle='arc3, rad=0.5',\n",
    ")\n",
    "nx.draw_networkx_edge_labels(\n",
    "    MDG,\n",
    "    pos,\n",
    "    label_pos=0.5,\n",
    "    edge_labels={\n",
    "        (v0, v0): 0.33,\n",
    "        (v1, v1): 0.6,\n",
    "        (v2, v2): 0.62,\n",
    "        (v3, v3): 0.33,\n",
    "    },\n",
    "    font_color='r'\n",
    ")\n",
    "\n",
    "\n",
    "# --------------------------------------------------------------------------------\n",
    "# Draw forward edges\n",
    "# --------------------------------------------------------------------------------\n",
    "nx.draw_networkx_edges(\n",
    "    MDG,\n",
    "    pos,\n",
    "    ax=ax,\n",
    "    edgelist=forward_edges,\n",
    "    edge_color=\"b\",\n",
    "    arrowsize=40,\n",
    "    arrowstyle=\"->\",\n",
    "    connectionstyle='arc3, rad=0.1',\n",
    ")\n",
    "nx.draw_networkx_edge_labels(\n",
    "    MDG,\n",
    "    pos,\n",
    "    label_pos=0.25,\n",
    "    edge_labels={\n",
    "        (v0, v1): 0.3,\n",
    "        (v0, v2): 0.1,\n",
    "        (v0, v3): 0.6,\n",
    "        (v1, v2): 0.31,\n",
    "        (v1, v3): 0.21,\n",
    "        (v2, v3): 0.41,\n",
    "    },\n",
    "    font_color='b'\n",
    ")\n",
    "\n",
    "# --------------------------------------------------------------------------------\n",
    "# Draw backward edges\n",
    "# --------------------------------------------------------------------------------\n",
    "nx.draw_networkx_edges(\n",
    "    MDG,\n",
    "    pos,\n",
    "    ax=ax,\n",
    "    edgelist=backward_edges,\n",
    "    edge_color=\"r\",\n",
    "    arrowsize=30,\n",
    "    arrowstyle=\"-|>\",\n",
    "    connectionstyle='arc3, rad=0.1',\n",
    ")\n",
    "nx.draw_networkx_edge_labels(\n",
    "    MDG,\n",
    "    pos,\n",
    "    label_pos=0.25,\n",
    "    edge_labels={\n",
    "        (v1, v0): 0.1,\n",
    "        (v2, v0): 0.2,\n",
    "        (v2, v1): 0.1,\n",
    "        (v3, v0): 0.4,\n",
    "        (v3, v1): 0.12,\n",
    "        (v3, v2): 0.08,\n",
    "    },\n",
    "    font_color='r'\n",
    ")\n"
   ]
  }
 ],
 "metadata": {
  "kernelspec": {
   "display_name": "Python 3",
   "language": "python",
   "name": "python3"
  },
  "language_info": {
   "codemirror_mode": {
    "name": "ipython",
    "version": 3
   },
   "file_extension": ".py",
   "mimetype": "text/x-python",
   "name": "python",
   "nbconvert_exporter": "python",
   "pygments_lexer": "ipython3",
   "version": "3.7.9"
  }
 },
 "nbformat": 4,
 "nbformat_minor": 5
}
