{
 "cells": [
  {
   "cell_type": "markdown",
   "id": "fa729586",
   "metadata": {},
   "source": [
    "# How to capture sub graphs\n",
    "\n",
    "* [How to separate an unconnected networkx graph into multiple mutually disjoint graphs that are connected?](https://stackoverflow.com/questions/61536745)"
   ]
  },
  {
   "cell_type": "code",
   "execution_count": 1,
   "id": "9123ac15",
   "metadata": {},
   "outputs": [],
   "source": [
    "from typing import (\n",
    "    Dict,\n",
    "    Tuple,\n",
    "    Any, \n",
    "    Union\n",
    ")\n",
    "import numpy as np\n",
    "import matplotlib.pyplot as plt\n",
    "import networkx as nx"
   ]
  },
  {
   "cell_type": "code",
   "execution_count": 15,
   "id": "4d77e4d5",
   "metadata": {},
   "outputs": [
    {
     "data": {
      "text/plain": [
       "<Figure size 432x288 with 0 Axes>"
      ]
     },
     "metadata": {},
     "output_type": "display_data"
    }
   ],
   "source": [
    "def draw_graph(\n",
    "        graph,\n",
    "        seed: Union[int, np.random.RandomState, None] = None,\n",
    "        k: float = 0.5,\n",
    "        figsize: Tuple[float, float] = plt.gcf().get_size_inches()\n",
    ") -> Dict[Any, np.ndarray]:\n",
    "    \"\"\"Draw graph\n",
    "    https://networkx.org/documentation/stable/reference/generated/networkx.drawing.layout.spring_layout.html\n",
    "\n",
    "    Args:\n",
    "        graph: graph\n",
    "        seed: RandomState instance or None for deterministic node layouts.\n",
    "        k: Optimal distance between nodes. Increase this value to move nodes farther apart.\n",
    "        figsize: Matplotlib figure size (inch, inch)\n",
    "    \"\"\"\n",
    "    pos = nx.spring_layout(graph, k=k, seed=seed)\n",
    "    plt.figure(figsize=figsize)\n",
    "    nx.draw(\n",
    "        graph,\n",
    "        pos=pos,\n",
    "        node_size=500,\n",
    "        node_color=\"cyan\",\n",
    "        with_labels=True,\n",
    "        # font_weight='bold'\n",
    "    )\n",
    "    return pos"
   ]
  },
  {
   "cell_type": "code",
   "execution_count": 16,
   "id": "349fc30d",
   "metadata": {},
   "outputs": [
    {
     "data": {
      "text/plain": [
       "{1: array([-0.57714489,  0.68429441]),\n",
       " 2: array([-0.69864588,  1.        ]),\n",
       " 3: array([ 0.48167186, -0.51186057]),\n",
       " 5: array([ 0.52554013, -0.71265704]),\n",
       " 7: array([ 0.26857877, -0.4597768 ])}"
      ]
     },
     "execution_count": 16,
     "metadata": {},
     "output_type": "execute_result"
    },
    {
     "data": {
      "image/png": "[encoded data removed]",
      "text/plain": [
       "<Figure size 432x288 with 1 Axes>"
      ]
     },
     "metadata": {},
     "output_type": "display_data"
    }
   ],
   "source": [
    "# k controls the distance between the nodes and varies between 0 and 1\n",
    "# iterations is the number of times simulated annealing is run\n",
    "# default k=0.1 and iterations=50\n",
    "G = nx.DiGraph()\n",
    "pos = nx.spring_layout(G, k=0.15, iterations=20, seed=3)\n",
    "G.add_edges_from([(1, 2), (3, 5), (5, 3), (3, 7), (7, 5)])\n",
    "draw_graph(G)"
   ]
  },
  {
   "cell_type": "code",
   "execution_count": 21,
   "id": "84985a23",
   "metadata": {},
   "outputs": [
    {
     "name": "stdout",
     "output_type": "stream",
     "text": [
      "Component 1: Nodes: [1, 2] Edges: [(1, 2)]\n",
      "Component 2: Nodes: [3, 5, 7] Edges: [(3, 5), (3, 7), (5, 3), (7, 5)]\n"
     ]
    },
    {
     "data": {
      "image/png": "[encoded data removed]",
      "text/plain": [
       "<Figure size 144x144 with 1 Axes>"
      ]
     },
     "metadata": {},
     "output_type": "display_data"
    },
    {
     "data": {
      "image/png": "[encoded data removed]",
      "text/plain": [
       "<Figure size 144x144 with 1 Axes>"
      ]
     },
     "metadata": {},
     "output_type": "display_data"
    }
   ],
   "source": [
    "components = [G.subgraph(c).copy() for c in nx.weakly_connected_components(G)]\n",
    "for idx, g in enumerate(components,start=1):\n",
    "    print(f\"Component {idx}: Nodes: {g.nodes()} Edges: {g.edges()}\")\n",
    "    draw_graph(g, k=0.1, figsize=(2,2))"
   ]
  },
  {
   "cell_type": "code",
   "execution_count": null,
   "id": "f88bdef5",
   "metadata": {},
   "outputs": [],
   "source": []
  }
 ],
 "metadata": {
  "kernelspec": {
   "display_name": "Python 3",
   "language": "python",
   "name": "python3"
  },
  "language_info": {
   "codemirror_mode": {
    "name": "ipython",
    "version": 3
   },
   "file_extension": ".py",
   "mimetype": "text/x-python",
   "name": "python",
   "nbconvert_exporter": "python",
   "pygments_lexer": "ipython3",
   "version": "3.7.9"
  }
 },
 "nbformat": 4,
 "nbformat_minor": 5
}
