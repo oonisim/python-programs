{
 "cells": [
  {
   "cell_type": "markdown",
   "id": "b9cb1f34",
   "metadata": {},
   "source": [
    "# Spred sheet processing\n",
    "\n",
    "Parse a given CSV file and evaluate each cell by these rules:\n",
    "1. Each cell is an expression in postfix notation. Please refer to the wikipedia page for a full description.\n",
    "2. Each number or operation will always be separated by one or more spaces.\n",
    "3. A cell can refer to another cell, via the LETTER NUMBER notation (A2, B4, etc - letters refer to columns, numbers to rows).\n",
    "4. Support the basic arithmetic operators +, -, *, /\n",
    "\n",
    "The output will be a CSV file of the same dimensions, where each cell is evaluated to its final value. If any cell is an invalid expression, then for that cell only print #ERR.\n",
    "\n",
    "For example, the following CSV input:\n",
    "```\n",
    "10, 1 3 +, 2 3 -\n",
    "b1 b2 *, a1, b1 a2 / c1 +\n",
    "+, 1 2 3, c3\n",
    "```\n",
    "\n",
    "Might output something like this:\n",
    "```\n",
    "10,4,-1\n",
    "40,10,-0.9\n",
    "#ERR,#ERR,#ERR\n",
    "```\n",
    "\n",
    "## Approach\n",
    "\n",
    "A spred sheet is a graph of cells which can consist of multiple sub graphs.\n",
    "\n"
   ]
  },
  {
   "cell_type": "code",
   "execution_count": 1,
   "id": "01bc1696",
   "metadata": {},
   "outputs": [],
   "source": [
    "from typing import (\n",
    "    List,\n",
    "    Dict,\n",
    "    Set,\n",
    "    Tuple,\n",
    "    Callable,\n",
    "    Iterable,\n",
    "    Any,\n",
    "    Optional,\n",
    "    Union,\n",
    ")\n",
    "import os\n",
    "import sys\n",
    "import logging\n",
    "import numpy as np\n",
    "import pandas as pd\n",
    "import networkx as nx\n",
    "import matplotlib.pyplot as plt\n",
    "from itertools import (\n",
    "    product\n",
    ")"
   ]
  },
  {
   "cell_type": "code",
   "execution_count": 2,
   "id": "71d0a838",
   "metadata": {},
   "outputs": [
    {
     "data": {
      "text/plain": [
       "<Figure size 432x288 with 0 Axes>"
      ]
     },
     "metadata": {},
     "output_type": "display_data"
    }
   ],
   "source": [
    "%load_ext autoreload\n",
    "%autoreload 2\n",
    "\n",
    "from spredsheet import (\n",
    "    load_table,\n",
    "    parse_table_into_graph,\n",
    "    process_table,\n",
    "    save_result_table,\n",
    ")\n",
    "from networkx_utility import (\n",
    "    draw_graph,\n",
    "    list_reverse_topological_sorted_paths_in_graph,\n",
    ")"
   ]
  },
  {
   "cell_type": "code",
   "execution_count": 3,
   "id": "a8c3b507",
   "metadata": {},
   "outputs": [],
   "source": [
    "logging.basicConfig(stream=sys.stdout, level=logging.INFO)\n",
    "logger = logging.getLogger(__name__)"
   ]
  },
  {
   "cell_type": "markdown",
   "id": "6b8f6c7c",
   "metadata": {},
   "source": [
    "# Read table as dataframe"
   ]
  },
  {
   "cell_type": "code",
   "execution_count": 4,
   "id": "6671edb1",
   "metadata": {},
   "outputs": [
    {
     "data": {
      "text/html": [
       "<div>\n",
       "<style scoped>\n",
       "    .dataframe tbody tr th:only-of-type {\n",
       "        vertical-align: middle;\n",
       "    }\n",
       "\n",
       "    .dataframe tbody tr th {\n",
       "        vertical-align: top;\n",
       "    }\n",
       "\n",
       "    .dataframe thead th {\n",
       "        text-align: right;\n",
       "    }\n",
       "</style>\n",
       "<table border=\"1\" class=\"dataframe\">\n",
       "  <thead>\n",
       "    <tr style=\"text-align: right;\">\n",
       "      <th></th>\n",
       "      <th>a</th>\n",
       "      <th>b</th>\n",
       "      <th>c</th>\n",
       "    </tr>\n",
       "  </thead>\n",
       "  <tbody>\n",
       "    <tr>\n",
       "      <th>1</th>\n",
       "      <td>10</td>\n",
       "      <td>1 3 +</td>\n",
       "      <td>2 3 -</td>\n",
       "    </tr>\n",
       "    <tr>\n",
       "      <th>2</th>\n",
       "      <td>b1 b2 *</td>\n",
       "      <td>a1</td>\n",
       "      <td>b1 a2 / c1 +</td>\n",
       "    </tr>\n",
       "    <tr>\n",
       "      <th>3</th>\n",
       "      <td>+</td>\n",
       "      <td>1 2 3</td>\n",
       "      <td>c3</td>\n",
       "    </tr>\n",
       "    <tr>\n",
       "      <th>4</th>\n",
       "      <td>-1</td>\n",
       "      <td>a4 c4 *</td>\n",
       "      <td>c4 b3 *</td>\n",
       "    </tr>\n",
       "    <tr>\n",
       "      <th>5</th>\n",
       "      <td>+</td>\n",
       "      <td>c4</td>\n",
       "      <td>c5</td>\n",
       "    </tr>\n",
       "  </tbody>\n",
       "</table>\n",
       "</div>"
      ],
      "text/plain": [
       "         a         b              c\n",
       "1       10     1 3 +          2 3 -\n",
       "2  b1 b2 *        a1   b1 a2 / c1 +\n",
       "3        +     1 2 3             c3\n",
       "4       -1   a4 c4 *        c4 b3 *\n",
       "5        +        c4             c5"
      ]
     },
     "execution_count": 4,
     "metadata": {},
     "output_type": "execute_result"
    }
   ],
   "source": [
    "# df: pd.DataFrame = load_table(\"./data/sheet.csv\")\n",
    "df: pd.DataFrame = load_table(\"./data/example.csv\")\n",
    "df"
   ]
  },
  {
   "cell_type": "code",
   "execution_count": 5,
   "id": "51c41d1e",
   "metadata": {},
   "outputs": [],
   "source": [
    "COLUMN_NAMES = list(df.columns)\n",
    "ROW_INDICES = list(df.index)\n",
    "NUM_COLS = len(COLUMN_NAMES)\n",
    "NUM_ROWS = len(df.index)"
   ]
  },
  {
   "cell_type": "markdown",
   "id": "68b95409",
   "metadata": {},
   "source": [
    "# Parse table as graph"
   ]
  },
  {
   "cell_type": "code",
   "execution_count": 6,
   "id": "9682496d",
   "metadata": {},
   "outputs": [
    {
     "name": "stderr",
     "output_type": "stream",
     "text": [
      "--- Logging error ---\n",
      "Traceback (most recent call last):\n",
      "  File \"/Library/Frameworks/Python.framework/Versions/3.7/lib/python3.7/logging/__init__.py\", line 1025, in emit\n",
      "    msg = self.format(record)\n",
      "  File \"/Library/Frameworks/Python.framework/Versions/3.7/lib/python3.7/logging/__init__.py\", line 869, in format\n",
      "    return fmt.format(record)\n",
      "  File \"/Library/Frameworks/Python.framework/Versions/3.7/lib/python3.7/logging/__init__.py\", line 608, in format\n",
      "    record.message = record.getMessage()\n",
      "  File \"/Library/Frameworks/Python.framework/Versions/3.7/lib/python3.7/logging/__init__.py\", line 369, in getMessage\n",
      "    msg = msg % self.args\n",
      "TypeError: not all arguments converted during string formatting\n",
      "Call stack:\n",
      "  File \"/Library/Frameworks/Python.framework/Versions/3.7/lib/python3.7/runpy.py\", line 193, in _run_module_as_main\n",
      "    \"__main__\", mod_spec)\n",
      "  File \"/Library/Frameworks/Python.framework/Versions/3.7/lib/python3.7/runpy.py\", line 85, in _run_code\n",
      "    exec(code, run_globals)\n",
      "  File \"/Users/1245095/venv/ml/lib/python3.7/site-packages/ipykernel_launcher.py\", line 16, in <module>\n",
      "    app.launch_new_instance()\n",
      "  File \"/Users/1245095/venv/ml/lib/python3.7/site-packages/traitlets/config/application.py\", line 972, in launch_instance\n",
      "    app.start()\n",
      "  File \"/Users/1245095/venv/ml/lib/python3.7/site-packages/ipykernel/kernelapp.py\", line 619, in start\n",
      "    self.io_loop.start()\n",
      "  File \"/Users/1245095/venv/ml/lib/python3.7/site-packages/tornado/platform/asyncio.py\", line 199, in start\n",
      "    self.asyncio_loop.run_forever()\n",
      "  File \"/Library/Frameworks/Python.framework/Versions/3.7/lib/python3.7/asyncio/base_events.py\", line 541, in run_forever\n",
      "    self._run_once()\n",
      "  File \"/Library/Frameworks/Python.framework/Versions/3.7/lib/python3.7/asyncio/base_events.py\", line 1786, in _run_once\n",
      "    handle._run()\n",
      "  File \"/Library/Frameworks/Python.framework/Versions/3.7/lib/python3.7/asyncio/events.py\", line 88, in _run\n",
      "    self._context.run(self._callback, *self._args)\n",
      "  File \"/Users/1245095/venv/ml/lib/python3.7/site-packages/tornado/ioloop.py\", line 688, in <lambda>\n",
      "    lambda f: self._run_callback(functools.partial(callback, future))\n",
      "  File \"/Users/1245095/venv/ml/lib/python3.7/site-packages/tornado/ioloop.py\", line 741, in _run_callback\n",
      "    ret = callback()\n",
      "  File \"/Users/1245095/venv/ml/lib/python3.7/site-packages/tornado/gen.py\", line 814, in inner\n",
      "    self.ctx_run(self.run)\n",
      "  File \"/Users/1245095/venv/ml/lib/python3.7/site-packages/tornado/gen.py\", line 775, in run\n",
      "    yielded = self.gen.send(value)\n",
      "  File \"/Users/1245095/venv/ml/lib/python3.7/site-packages/ipykernel/kernelbase.py\", line 377, in dispatch_queue\n",
      "    yield self.process_one()\n",
      "  File \"/Users/1245095/venv/ml/lib/python3.7/site-packages/tornado/gen.py\", line 250, in wrapper\n",
      "    runner = Runner(ctx_run, result, future, yielded)\n",
      "  File \"/Users/1245095/venv/ml/lib/python3.7/site-packages/tornado/gen.py\", line 741, in __init__\n",
      "    self.ctx_run(self.run)\n",
      "  File \"/Users/1245095/venv/ml/lib/python3.7/site-packages/tornado/gen.py\", line 775, in run\n",
      "    yielded = self.gen.send(value)\n",
      "  File \"/Users/1245095/venv/ml/lib/python3.7/site-packages/ipykernel/kernelbase.py\", line 361, in process_one\n",
      "    yield gen.maybe_future(dispatch(*args))\n",
      "  File \"/Users/1245095/venv/ml/lib/python3.7/site-packages/tornado/gen.py\", line 234, in wrapper\n",
      "    yielded = ctx_run(next, result)\n",
      "  File \"/Users/1245095/venv/ml/lib/python3.7/site-packages/ipykernel/kernelbase.py\", line 261, in dispatch_shell\n",
      "    yield gen.maybe_future(handler(stream, idents, msg))\n",
      "  File \"/Users/1245095/venv/ml/lib/python3.7/site-packages/tornado/gen.py\", line 234, in wrapper\n",
      "    yielded = ctx_run(next, result)\n",
      "  File \"/Users/1245095/venv/ml/lib/python3.7/site-packages/ipykernel/kernelbase.py\", line 541, in execute_request\n",
      "    user_expressions, allow_stdin,\n",
      "  File \"/Users/1245095/venv/ml/lib/python3.7/site-packages/tornado/gen.py\", line 234, in wrapper\n",
      "    yielded = ctx_run(next, result)\n",
      "  File \"/Users/1245095/venv/ml/lib/python3.7/site-packages/ipykernel/ipkernel.py\", line 302, in do_execute\n",
      "    res = shell.run_cell(code, store_history=store_history, silent=silent)\n",
      "  File \"/Users/1245095/venv/ml/lib/python3.7/site-packages/ipykernel/zmqshell.py\", line 539, in run_cell\n",
      "    return super(ZMQInteractiveShell, self).run_cell(*args, **kwargs)\n",
      "  File \"/Users/1245095/venv/ml/lib/python3.7/site-packages/IPython/core/interactiveshell.py\", line 2975, in run_cell\n",
      "    raw_cell, store_history, silent, shell_futures, cell_id\n",
      "  File \"/Users/1245095/venv/ml/lib/python3.7/site-packages/IPython/core/interactiveshell.py\", line 3029, in _run_cell\n",
      "    return runner(coro)\n",
      "  File \"/Users/1245095/venv/ml/lib/python3.7/site-packages/IPython/core/async_helpers.py\", line 78, in _pseudo_sync_runner\n",
      "    coro.send(None)\n",
      "  File \"/Users/1245095/venv/ml/lib/python3.7/site-packages/IPython/core/interactiveshell.py\", line 3257, in run_cell_async\n",
      "    interactivity=interactivity, compiler=compiler, result=result)\n",
      "  File \"/Users/1245095/venv/ml/lib/python3.7/site-packages/IPython/core/interactiveshell.py\", line 3472, in run_ast_nodes\n",
      "    if (await self.run_code(code, result,  async_=asy)):\n",
      "  File \"/Users/1245095/venv/ml/lib/python3.7/site-packages/IPython/core/interactiveshell.py\", line 3552, in run_code\n",
      "    exec(code_obj, self.user_global_ns, self.user_ns)\n",
      "  File \"<ipython-input-6-ba66d6f10066>\", line 1, in <module>\n",
      "    sheet = parse_table_into_graph(table=df)\n",
      "  File \"/Users/1245095/home/repository/git/oonisim/python-programs/graph/networkx/spredsheet.py\", line 137, in parse_table_into_graph\n",
      "    logger.error(\"cell[%s] expression has self reference\", current_cell_name, expression)\n",
      "Message: 'cell[%s] expression has self reference'\n",
      "Arguments: ('c3', 'c3')\n",
      "--- Logging error ---\n",
      "Traceback (most recent call last):\n",
      "  File \"/Library/Frameworks/Python.framework/Versions/3.7/lib/python3.7/logging/__init__.py\", line 1025, in emit\n",
      "    msg = self.format(record)\n",
      "  File \"/Library/Frameworks/Python.framework/Versions/3.7/lib/python3.7/logging/__init__.py\", line 869, in format\n",
      "    return fmt.format(record)\n",
      "  File \"/Library/Frameworks/Python.framework/Versions/3.7/lib/python3.7/logging/__init__.py\", line 608, in format\n",
      "    record.message = record.getMessage()\n",
      "  File \"/Library/Frameworks/Python.framework/Versions/3.7/lib/python3.7/logging/__init__.py\", line 369, in getMessage\n",
      "    msg = msg % self.args\n",
      "TypeError: not all arguments converted during string formatting\n",
      "Call stack:\n",
      "  File \"/Library/Frameworks/Python.framework/Versions/3.7/lib/python3.7/runpy.py\", line 193, in _run_module_as_main\n",
      "    \"__main__\", mod_spec)\n",
      "  File \"/Library/Frameworks/Python.framework/Versions/3.7/lib/python3.7/runpy.py\", line 85, in _run_code\n",
      "    exec(code, run_globals)\n",
      "  File \"/Users/1245095/venv/ml/lib/python3.7/site-packages/ipykernel_launcher.py\", line 16, in <module>\n",
      "    app.launch_new_instance()\n",
      "  File \"/Users/1245095/venv/ml/lib/python3.7/site-packages/traitlets/config/application.py\", line 972, in launch_instance\n",
      "    app.start()\n",
      "  File \"/Users/1245095/venv/ml/lib/python3.7/site-packages/ipykernel/kernelapp.py\", line 619, in start\n",
      "    self.io_loop.start()\n",
      "  File \"/Users/1245095/venv/ml/lib/python3.7/site-packages/tornado/platform/asyncio.py\", line 199, in start\n",
      "    self.asyncio_loop.run_forever()\n",
      "  File \"/Library/Frameworks/Python.framework/Versions/3.7/lib/python3.7/asyncio/base_events.py\", line 541, in run_forever\n",
      "    self._run_once()\n",
      "  File \"/Library/Frameworks/Python.framework/Versions/3.7/lib/python3.7/asyncio/base_events.py\", line 1786, in _run_once\n",
      "    handle._run()\n",
      "  File \"/Library/Frameworks/Python.framework/Versions/3.7/lib/python3.7/asyncio/events.py\", line 88, in _run\n",
      "    self._context.run(self._callback, *self._args)\n",
      "  File \"/Users/1245095/venv/ml/lib/python3.7/site-packages/tornado/ioloop.py\", line 688, in <lambda>\n",
      "    lambda f: self._run_callback(functools.partial(callback, future))\n",
      "  File \"/Users/1245095/venv/ml/lib/python3.7/site-packages/tornado/ioloop.py\", line 741, in _run_callback\n",
      "    ret = callback()\n",
      "  File \"/Users/1245095/venv/ml/lib/python3.7/site-packages/tornado/gen.py\", line 814, in inner\n",
      "    self.ctx_run(self.run)\n",
      "  File \"/Users/1245095/venv/ml/lib/python3.7/site-packages/tornado/gen.py\", line 775, in run\n",
      "    yielded = self.gen.send(value)\n",
      "  File \"/Users/1245095/venv/ml/lib/python3.7/site-packages/ipykernel/kernelbase.py\", line 377, in dispatch_queue\n",
      "    yield self.process_one()\n",
      "  File \"/Users/1245095/venv/ml/lib/python3.7/site-packages/tornado/gen.py\", line 250, in wrapper\n",
      "    runner = Runner(ctx_run, result, future, yielded)\n",
      "  File \"/Users/1245095/venv/ml/lib/python3.7/site-packages/tornado/gen.py\", line 741, in __init__\n",
      "    self.ctx_run(self.run)\n",
      "  File \"/Users/1245095/venv/ml/lib/python3.7/site-packages/tornado/gen.py\", line 775, in run\n",
      "    yielded = self.gen.send(value)\n",
      "  File \"/Users/1245095/venv/ml/lib/python3.7/site-packages/ipykernel/kernelbase.py\", line 361, in process_one\n",
      "    yield gen.maybe_future(dispatch(*args))\n",
      "  File \"/Users/1245095/venv/ml/lib/python3.7/site-packages/tornado/gen.py\", line 234, in wrapper\n",
      "    yielded = ctx_run(next, result)\n",
      "  File \"/Users/1245095/venv/ml/lib/python3.7/site-packages/ipykernel/kernelbase.py\", line 261, in dispatch_shell\n",
      "    yield gen.maybe_future(handler(stream, idents, msg))\n",
      "  File \"/Users/1245095/venv/ml/lib/python3.7/site-packages/tornado/gen.py\", line 234, in wrapper\n",
      "    yielded = ctx_run(next, result)\n",
      "  File \"/Users/1245095/venv/ml/lib/python3.7/site-packages/ipykernel/kernelbase.py\", line 541, in execute_request\n",
      "    user_expressions, allow_stdin,\n",
      "  File \"/Users/1245095/venv/ml/lib/python3.7/site-packages/tornado/gen.py\", line 234, in wrapper\n",
      "    yielded = ctx_run(next, result)\n",
      "  File \"/Users/1245095/venv/ml/lib/python3.7/site-packages/ipykernel/ipkernel.py\", line 302, in do_execute\n",
      "    res = shell.run_cell(code, store_history=store_history, silent=silent)\n",
      "  File \"/Users/1245095/venv/ml/lib/python3.7/site-packages/ipykernel/zmqshell.py\", line 539, in run_cell\n",
      "    return super(ZMQInteractiveShell, self).run_cell(*args, **kwargs)\n",
      "  File \"/Users/1245095/venv/ml/lib/python3.7/site-packages/IPython/core/interactiveshell.py\", line 2975, in run_cell\n",
      "    raw_cell, store_history, silent, shell_futures, cell_id\n",
      "  File \"/Users/1245095/venv/ml/lib/python3.7/site-packages/IPython/core/interactiveshell.py\", line 3029, in _run_cell\n",
      "    return runner(coro)\n",
      "  File \"/Users/1245095/venv/ml/lib/python3.7/site-packages/IPython/core/async_helpers.py\", line 78, in _pseudo_sync_runner\n",
      "    coro.send(None)\n",
      "  File \"/Users/1245095/venv/ml/lib/python3.7/site-packages/IPython/core/interactiveshell.py\", line 3257, in run_cell_async\n",
      "    interactivity=interactivity, compiler=compiler, result=result)\n",
      "  File \"/Users/1245095/venv/ml/lib/python3.7/site-packages/IPython/core/interactiveshell.py\", line 3472, in run_ast_nodes\n",
      "    if (await self.run_code(code, result,  async_=asy)):\n",
      "  File \"/Users/1245095/venv/ml/lib/python3.7/site-packages/IPython/core/interactiveshell.py\", line 3552, in run_code\n",
      "    exec(code_obj, self.user_global_ns, self.user_ns)\n",
      "  File \"<ipython-input-6-ba66d6f10066>\", line 1, in <module>\n",
      "    sheet = parse_table_into_graph(table=df)\n",
      "  File \"/Users/1245095/home/repository/git/oonisim/python-programs/graph/networkx/spredsheet.py\", line 137, in parse_table_into_graph\n",
      "    logger.error(\"cell[%s] expression has self reference\", current_cell_name, expression)\n",
      "Message: 'cell[%s] expression has self reference'\n",
      "Arguments: ('c4', 'c4 b3 *')\n",
      "--- Logging error ---\n",
      "Traceback (most recent call last):\n",
      "  File \"/Library/Frameworks/Python.framework/Versions/3.7/lib/python3.7/logging/__init__.py\", line 1025, in emit\n",
      "    msg = self.format(record)\n",
      "  File \"/Library/Frameworks/Python.framework/Versions/3.7/lib/python3.7/logging/__init__.py\", line 869, in format\n",
      "    return fmt.format(record)\n",
      "  File \"/Library/Frameworks/Python.framework/Versions/3.7/lib/python3.7/logging/__init__.py\", line 608, in format\n",
      "    record.message = record.getMessage()\n",
      "  File \"/Library/Frameworks/Python.framework/Versions/3.7/lib/python3.7/logging/__init__.py\", line 369, in getMessage\n",
      "    msg = msg % self.args\n",
      "TypeError: not all arguments converted during string formatting\n",
      "Call stack:\n",
      "  File \"/Library/Frameworks/Python.framework/Versions/3.7/lib/python3.7/runpy.py\", line 193, in _run_module_as_main\n",
      "    \"__main__\", mod_spec)\n",
      "  File \"/Library/Frameworks/Python.framework/Versions/3.7/lib/python3.7/runpy.py\", line 85, in _run_code\n",
      "    exec(code, run_globals)\n",
      "  File \"/Users/1245095/venv/ml/lib/python3.7/site-packages/ipykernel_launcher.py\", line 16, in <module>\n",
      "    app.launch_new_instance()\n",
      "  File \"/Users/1245095/venv/ml/lib/python3.7/site-packages/traitlets/config/application.py\", line 972, in launch_instance\n",
      "    app.start()\n",
      "  File \"/Users/1245095/venv/ml/lib/python3.7/site-packages/ipykernel/kernelapp.py\", line 619, in start\n",
      "    self.io_loop.start()\n",
      "  File \"/Users/1245095/venv/ml/lib/python3.7/site-packages/tornado/platform/asyncio.py\", line 199, in start\n",
      "    self.asyncio_loop.run_forever()\n",
      "  File \"/Library/Frameworks/Python.framework/Versions/3.7/lib/python3.7/asyncio/base_events.py\", line 541, in run_forever\n",
      "    self._run_once()\n",
      "  File \"/Library/Frameworks/Python.framework/Versions/3.7/lib/python3.7/asyncio/base_events.py\", line 1786, in _run_once\n",
      "    handle._run()\n",
      "  File \"/Library/Frameworks/Python.framework/Versions/3.7/lib/python3.7/asyncio/events.py\", line 88, in _run\n",
      "    self._context.run(self._callback, *self._args)\n",
      "  File \"/Users/1245095/venv/ml/lib/python3.7/site-packages/tornado/ioloop.py\", line 688, in <lambda>\n",
      "    lambda f: self._run_callback(functools.partial(callback, future))\n",
      "  File \"/Users/1245095/venv/ml/lib/python3.7/site-packages/tornado/ioloop.py\", line 741, in _run_callback\n",
      "    ret = callback()\n",
      "  File \"/Users/1245095/venv/ml/lib/python3.7/site-packages/tornado/gen.py\", line 814, in inner\n",
      "    self.ctx_run(self.run)\n",
      "  File \"/Users/1245095/venv/ml/lib/python3.7/site-packages/tornado/gen.py\", line 775, in run\n",
      "    yielded = self.gen.send(value)\n",
      "  File \"/Users/1245095/venv/ml/lib/python3.7/site-packages/ipykernel/kernelbase.py\", line 377, in dispatch_queue\n",
      "    yield self.process_one()\n",
      "  File \"/Users/1245095/venv/ml/lib/python3.7/site-packages/tornado/gen.py\", line 250, in wrapper\n",
      "    runner = Runner(ctx_run, result, future, yielded)\n",
      "  File \"/Users/1245095/venv/ml/lib/python3.7/site-packages/tornado/gen.py\", line 741, in __init__\n",
      "    self.ctx_run(self.run)\n",
      "  File \"/Users/1245095/venv/ml/lib/python3.7/site-packages/tornado/gen.py\", line 775, in run\n",
      "    yielded = self.gen.send(value)\n",
      "  File \"/Users/1245095/venv/ml/lib/python3.7/site-packages/ipykernel/kernelbase.py\", line 361, in process_one\n",
      "    yield gen.maybe_future(dispatch(*args))\n",
      "  File \"/Users/1245095/venv/ml/lib/python3.7/site-packages/tornado/gen.py\", line 234, in wrapper\n",
      "    yielded = ctx_run(next, result)\n",
      "  File \"/Users/1245095/venv/ml/lib/python3.7/site-packages/ipykernel/kernelbase.py\", line 261, in dispatch_shell\n",
      "    yield gen.maybe_future(handler(stream, idents, msg))\n",
      "  File \"/Users/1245095/venv/ml/lib/python3.7/site-packages/tornado/gen.py\", line 234, in wrapper\n",
      "    yielded = ctx_run(next, result)\n",
      "  File \"/Users/1245095/venv/ml/lib/python3.7/site-packages/ipykernel/kernelbase.py\", line 541, in execute_request\n",
      "    user_expressions, allow_stdin,\n",
      "  File \"/Users/1245095/venv/ml/lib/python3.7/site-packages/tornado/gen.py\", line 234, in wrapper\n",
      "    yielded = ctx_run(next, result)\n",
      "  File \"/Users/1245095/venv/ml/lib/python3.7/site-packages/ipykernel/ipkernel.py\", line 302, in do_execute\n",
      "    res = shell.run_cell(code, store_history=store_history, silent=silent)\n",
      "  File \"/Users/1245095/venv/ml/lib/python3.7/site-packages/ipykernel/zmqshell.py\", line 539, in run_cell\n",
      "    return super(ZMQInteractiveShell, self).run_cell(*args, **kwargs)\n",
      "  File \"/Users/1245095/venv/ml/lib/python3.7/site-packages/IPython/core/interactiveshell.py\", line 2975, in run_cell\n",
      "    raw_cell, store_history, silent, shell_futures, cell_id\n",
      "  File \"/Users/1245095/venv/ml/lib/python3.7/site-packages/IPython/core/interactiveshell.py\", line 3029, in _run_cell\n",
      "    return runner(coro)\n",
      "  File \"/Users/1245095/venv/ml/lib/python3.7/site-packages/IPython/core/async_helpers.py\", line 78, in _pseudo_sync_runner\n",
      "    coro.send(None)\n",
      "  File \"/Users/1245095/venv/ml/lib/python3.7/site-packages/IPython/core/interactiveshell.py\", line 3257, in run_cell_async\n",
      "    interactivity=interactivity, compiler=compiler, result=result)\n",
      "  File \"/Users/1245095/venv/ml/lib/python3.7/site-packages/IPython/core/interactiveshell.py\", line 3472, in run_ast_nodes\n",
      "    if (await self.run_code(code, result,  async_=asy)):\n",
      "  File \"/Users/1245095/venv/ml/lib/python3.7/site-packages/IPython/core/interactiveshell.py\", line 3552, in run_code\n",
      "    exec(code_obj, self.user_global_ns, self.user_ns)\n",
      "  File \"<ipython-input-6-ba66d6f10066>\", line 1, in <module>\n",
      "    sheet = parse_table_into_graph(table=df)\n",
      "  File \"/Users/1245095/home/repository/git/oonisim/python-programs/graph/networkx/spredsheet.py\", line 137, in parse_table_into_graph\n",
      "    logger.error(\"cell[%s] expression has self reference\", current_cell_name, expression)\n",
      "Message: 'cell[%s] expression has self reference'\n",
      "Arguments: ('c5', 'c5')\n"
     ]
    },
    {
     "data": {
      "text/plain": [
       "NodeDataView({'a1': {'valid': True, 'expression': '10', 'value': nan}, 'a2': {'valid': True, 'expression': 'b1 b2 *', 'value': nan}, 'b2': {'valid': True, 'expression': 'a1', 'value': nan}, 'b1': {'valid': True, 'expression': '1 3 +', 'value': nan}, 'a3': {'valid': True, 'expression': '+', 'value': nan}, 'a4': {'valid': True, 'expression': '-1', 'value': nan}, 'a5': {'valid': True, 'expression': '+', 'value': nan}, 'b3': {'valid': True, 'expression': '1 2 3', 'value': nan}, 'b4': {'valid': True, 'expression': 'a4 c4 *', 'value': nan}, 'c4': {'valid': False, 'expression': 'c4 b3 *', 'value': nan}, 'b5': {'valid': True, 'expression': 'c4', 'value': nan}, 'c1': {'valid': True, 'expression': '2 3 -', 'value': nan}, 'c2': {'valid': True, 'expression': 'b1 a2 / c1 +', 'value': nan}, 'c3': {'valid': False, 'expression': 'c3', 'value': nan}, 'c5': {'valid': False, 'expression': 'c5', 'value': nan}})"
      ]
     },
     "execution_count": 6,
     "metadata": {},
     "output_type": "execute_result"
    }
   ],
   "source": [
    "sheet = parse_table_into_graph(table=df)\n",
    "sheet.nodes(data=True)"
   ]
  },
  {
   "cell_type": "code",
   "execution_count": 16,
   "id": "8052be3b",
   "metadata": {},
   "outputs": [
    {
     "data": {
      "image/png": "[encoded data removed]",
      "text/plain": [
       "<Figure size 576x576 with 1 Axes>"
      ]
     },
     "metadata": {},
     "output_type": "display_data"
    }
   ],
   "source": [
    "_ = draw_graph(graph=sheet, k=0.5, seed=10, figsize=(8,8))"
   ]
  },
  {
   "cell_type": "markdown",
   "id": "2689f394",
   "metadata": {},
   "source": [
    "---\n",
    "# Individual path to process\n",
    "\n",
    "\n",
    "## Toplogical Graph Sort\n",
    "Each sub graph in the table can be independently processed but in the order where dependency is assured. For instance, if the cell **a1** depends on **b1** and **b1** depends on **c1**, then the the order needs to be ```c1 > b1 > a1```. Use graph topological sort to get the order for each sub graph.\n",
    "\n",
    "## Parallel processing\n",
    "\n",
    "Each sub graph can be processed in parallel.\n"
   ]
  },
  {
   "cell_type": "code",
   "execution_count": 8,
   "id": "b78067cd",
   "metadata": {},
   "outputs": [
    {
     "data": {
      "text/plain": [
       "[['a1', 'b1', 'b2', 'a2', 'c1', 'c2'], ['a3'], ['a4'], ['a5'], ['b3']]"
      ]
     },
     "execution_count": 8,
     "metadata": {},
     "output_type": "execute_result"
    }
   ],
   "source": [
    "list_reverse_topological_sorted_paths_in_graph(sheet)"
   ]
  },
  {
   "cell_type": "markdown",
   "id": "f3a2b204",
   "metadata": {},
   "source": [
    "---\n",
    "# Processing"
   ]
  },
  {
   "cell_type": "code",
   "execution_count": 9,
   "id": "5c567a3c",
   "metadata": {},
   "outputs": [
    {
     "name": "stdout",
     "output_type": "stream",
     "text": [
      "ERROR:spredsheet:evaluate_expression(): operation requires two operands but stack size is [0]\n",
      "ERROR:spredsheet:evaluate_expression(): operator result is invalid: [nan]\n",
      "ERROR:spredsheet:evaluate_cell(): cell evaluation [nan] is invalid\n",
      "ERROR:spredsheet:evaluate_expression(): operation requires two operands but stack size is [0]\n",
      "ERROR:spredsheet:evaluate_expression(): operator result is invalid: [nan]\n",
      "ERROR:spredsheet:evaluate_cell(): cell evaluation [nan] is invalid\n",
      "ERROR:spredsheet:evaluate_expression(): evaluation of [1 2 3] failed with stack size [3].\n",
      "ERROR:spredsheet:evaluate_cell(): cell evaluation [nan] is invalid\n"
     ]
    },
    {
     "data": {
      "text/plain": [
       "<networkx.classes.digraph.DiGraph at 0x7fc220e55710>"
      ]
     },
     "execution_count": 9,
     "metadata": {},
     "output_type": "execute_result"
    }
   ],
   "source": [
    "process_table(table=sheet)"
   ]
  },
  {
   "cell_type": "code",
   "execution_count": 10,
   "id": "252b23a3",
   "metadata": {},
   "outputs": [],
   "source": [
    "filename: str = \"./data/result.csv\"\n",
    "save_result_table(\n",
    "    table=sheet, column_names=COLUMN_NAMES, row_indices=ROW_INDICES, path_to_file=filename\n",
    ")"
   ]
  },
  {
   "cell_type": "code",
   "execution_count": 11,
   "id": "318c3ace",
   "metadata": {},
   "outputs": [
    {
     "data": {
      "text/plain": [
       "(40, 10, -0.9)"
      ]
     },
     "execution_count": 11,
     "metadata": {},
     "output_type": "execute_result"
    }
   ],
   "source": [
    "10,4,-1\n",
    "40,10,-0.9\n",
    "#ERR,#ERR,#ERR\n"
   ]
  },
  {
   "cell_type": "code",
   "execution_count": 12,
   "id": "72e7e1d4",
   "metadata": {},
   "outputs": [
    {
     "name": "stdout",
     "output_type": "stream",
     "text": [
      "a,b,c\r\n",
      "10.0,4.0,-1.0\r\n",
      "40.0,10.0,-0.9\r\n",
      "#ERR,#ERR,#ERR\r\n",
      "-1.0,#ERR,#ERR\r\n",
      "#ERR,#ERR,#ERR\r\n"
     ]
    }
   ],
   "source": [
    "!cat $filename\n",
    "!rm -f ./data/result.csv"
   ]
  }
 ],
 "metadata": {
  "kernelspec": {
   "display_name": "Python 3",
   "language": "python",
   "name": "python3"
  },
  "language_info": {
   "codemirror_mode": {
    "name": "ipython",
    "version": 3
   },
   "file_extension": ".py",
   "mimetype": "text/x-python",
   "name": "python",
   "nbconvert_exporter": "python",
   "pygments_lexer": "ipython3",
   "version": "3.7.9"
  }
 },
 "nbformat": 4,
 "nbformat_minor": 5
}
