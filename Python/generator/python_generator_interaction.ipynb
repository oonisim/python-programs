{
 "cells": [
  {
   "cell_type": "code",
   "execution_count": 16,
   "metadata": {},
   "outputs": [
    {
     "name": "stdout",
     "output_type": "stream",
     "text": [
      "Student starts reporting\n",
      "Teacher starts waiting for the student to report\n"
     ]
    }
   ],
   "source": [
    "import time\n",
    "import random\n",
    "\n",
    "class School(object):\n",
    "    _teacher = None\n",
    "    _student = None\n",
    "    \n",
    "    def __init__(self):\n",
    "        # Start the run process everytime an instance is created.\n",
    "        self._student = self.student()\n",
    "        self._student.send(None)\n",
    "        self._teacher = self.teacher()\n",
    "        self._teacher.send(None)\n",
    "\n",
    "    \n",
    "    def forward(self):\n",
    "        next(self._teacher)\n",
    "        \n",
    "    def terminate(self):\n",
    "        \"\"\"\n",
    "        Terminate the school.\n",
    "        \"\"\"\n",
    "        self._student.close()\n",
    "        self._teacher.close()\n",
    "\n",
    "    def teacher(self, interval = 3):\n",
    "        print(\"Teacher starts waiting for the student to report\")\n",
    "        for count in range(5):\n",
    "            yield \n",
    "            remark = self._student.send(random.randint(1, 5))\n",
    "            print(\"Teacher report on student remark {}\".format(remark))\n",
    "\n",
    "    def student(self, interval=5):\n",
    "        elapsed = 0\n",
    "        print(\"Student starts reporting\")\n",
    "        while True:\n",
    "            elapsed += interval\n",
    "            \n",
    "            value = (yield elapsed) \n",
    "            interval = value if value else interval\n",
    "            print(\"New student report interval is {}\".format(interval))\n",
    "            \n",
    "        \n",
    "school = School()"
   ]
  },
  {
   "cell_type": "code",
   "execution_count": 17,
   "metadata": {},
   "outputs": [
    {
     "name": "stdout",
     "output_type": "stream",
     "text": [
      "New student report interval is 2\n",
      "Teacher report on student remark 7\n"
     ]
    }
   ],
   "source": [
    "school.forward()"
   ]
  },
  {
   "cell_type": "code",
   "execution_count": null,
   "metadata": {},
   "outputs": [],
   "source": []
  },
  {
   "cell_type": "code",
   "execution_count": 30,
   "metadata": {},
   "outputs": [
    {
     "name": "stdout",
     "output_type": "stream",
     "text": [
      "Student starts reporting\n",
      "Teacher starts waiting for the student to report\n"
     ]
    }
   ],
   "source": [
    "import time\n",
    "import random\n",
    "\n",
    "class School(object):\n",
    "    _teacher = None\n",
    "    _student = None\n",
    "    \n",
    "    def __init__(self):\n",
    "        # Start the run process everytime an instance is created.\n",
    "        self._student = self.student()\n",
    "        self._student.send(None)\n",
    "        self._teacher = self.teacher()\n",
    "        self._teacher.send(None)\n",
    "\n",
    "    \n",
    "    def forward(self, value=None):\n",
    "        self._student.send(value)\n",
    "        \n",
    "    def terminate(self):\n",
    "        \"\"\"\n",
    "        Terminate the school.\n",
    "        \"\"\"\n",
    "        self._student.close()\n",
    "        self._teacher.close()\n",
    "\n",
    "    def teacher(self, interval = 3):\n",
    "        print(\"Teacher starts waiting for the student to report\")\n",
    "        for count in range(5):\n",
    "            student_report = yield \n",
    "            print(\"Teacher got a report from student: {}\".format(student_report))\n",
    "\n",
    "    def student(self):\n",
    "        counts = 0\n",
    "        print(\"Student starts reporting\")\n",
    "        while True:\n",
    "            # Wait for the instruction to resume and report.\n",
    "            value = (yield counts)\n",
    "\n",
    "            # Report to the teacher\n",
    "            self._teacher.send(counts)\n",
    "            counts += 1\n",
    "\n",
    "            \n",
    "school = School()"
   ]
  },
  {
   "cell_type": "code",
   "execution_count": 31,
   "metadata": {},
   "outputs": [
    {
     "name": "stdout",
     "output_type": "stream",
     "text": [
      "Teacher got a report from student: 0\n",
      "Teacher got a report from student: 1\n",
      "Teacher got a report from student: 2\n"
     ]
    },
    {
     "ename": "StopIteration",
     "evalue": "",
     "output_type": "error",
     "traceback": [
      "\u001b[0;31m---------------------------------------------------------------------------\u001b[0m",
      "\u001b[0;31mStopIteration\u001b[0m                             Traceback (most recent call last)",
      "\u001b[0;32m<ipython-input-31-1a1f2c98d14f>\u001b[0m in \u001b[0;36m<module>\u001b[0;34m\u001b[0m\n\u001b[1;32m      3\u001b[0m \u001b[0;34m\u001b[0m\u001b[0m\n\u001b[1;32m      4\u001b[0m \u001b[0mschool\u001b[0m\u001b[0;34m.\u001b[0m\u001b[0mterminate\u001b[0m\u001b[0;34m(\u001b[0m\u001b[0;34m)\u001b[0m\u001b[0;34m\u001b[0m\u001b[0;34m\u001b[0m\u001b[0m\n\u001b[0;32m----> 5\u001b[0;31m \u001b[0mschool\u001b[0m\u001b[0;34m.\u001b[0m\u001b[0mforward\u001b[0m\u001b[0;34m(\u001b[0m\u001b[0;34m)\u001b[0m\u001b[0;34m\u001b[0m\u001b[0;34m\u001b[0m\u001b[0m\n\u001b[0m",
      "\u001b[0;32m<ipython-input-30-8f650f133cb9>\u001b[0m in \u001b[0;36mforward\u001b[0;34m(self, value)\u001b[0m\n\u001b[1;32m     15\u001b[0m \u001b[0;34m\u001b[0m\u001b[0m\n\u001b[1;32m     16\u001b[0m     \u001b[0;32mdef\u001b[0m \u001b[0mforward\u001b[0m\u001b[0;34m(\u001b[0m\u001b[0mself\u001b[0m\u001b[0;34m,\u001b[0m \u001b[0mvalue\u001b[0m\u001b[0;34m=\u001b[0m\u001b[0;32mNone\u001b[0m\u001b[0;34m)\u001b[0m\u001b[0;34m:\u001b[0m\u001b[0;34m\u001b[0m\u001b[0;34m\u001b[0m\u001b[0m\n\u001b[0;32m---> 17\u001b[0;31m         \u001b[0mself\u001b[0m\u001b[0;34m.\u001b[0m\u001b[0m_student\u001b[0m\u001b[0;34m.\u001b[0m\u001b[0msend\u001b[0m\u001b[0;34m(\u001b[0m\u001b[0mvalue\u001b[0m\u001b[0;34m)\u001b[0m\u001b[0;34m\u001b[0m\u001b[0;34m\u001b[0m\u001b[0m\n\u001b[0m\u001b[1;32m     18\u001b[0m \u001b[0;34m\u001b[0m\u001b[0m\n\u001b[1;32m     19\u001b[0m     \u001b[0;32mdef\u001b[0m \u001b[0mterminate\u001b[0m\u001b[0;34m(\u001b[0m\u001b[0mself\u001b[0m\u001b[0;34m)\u001b[0m\u001b[0;34m:\u001b[0m\u001b[0;34m\u001b[0m\u001b[0;34m\u001b[0m\u001b[0m\n",
      "\u001b[0;31mStopIteration\u001b[0m: "
     ]
    }
   ],
   "source": [
    "for i in range(3):\n",
    "    school.forward()\n",
    "    \n",
    "school.terminate()\n",
    "school.forward()"
   ]
  }
 ],
 "metadata": {
  "kernelspec": {
   "display_name": "Python 3",
   "language": "python",
   "name": "python3"
  },
  "language_info": {
   "codemirror_mode": {
    "name": "ipython",
    "version": 3
   },
   "file_extension": ".py",
   "mimetype": "text/x-python",
   "name": "python",
   "nbconvert_exporter": "python",
   "pygments_lexer": "ipython3",
   "version": "3.9.1"
  }
 },
 "nbformat": 4,
 "nbformat_minor": 4
}
