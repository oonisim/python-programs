{
 "cells": [
  {
   "cell_type": "code",
   "execution_count": 18,
   "metadata": {},
   "outputs": [
    {
     "name": "stdout",
     "output_type": "stream",
     "text": [
      "3.8.5 (default, Sep  4 2020, 07:30:14) \n",
      "[GCC 7.3.0]\n"
     ]
    }
   ],
   "source": [
    "from typing import (\n",
    "    List,\n",
    "    Dict,\n",
    "    Tuple,\n",
    "    Optional\n",
    ")\n",
    "import os\n",
    "import sys\n",
    "import re\n",
    "\n",
    "print(sys.version)"
   ]
  },
  {
   "cell_type": "code",
   "execution_count": 62,
   "metadata": {},
   "outputs": [],
   "source": [
    "def parse_place_command(line: str) -> Optional[Tuple[int, int, str]]:\n",
    "    pattern = r'[\\t\\s]*^PLACE[\\t\\s]+([0-9]+)[\\t\\s]+([0-9]+)[\\t\\s]+(NORTH|EAST|WEST|SOUTH)'\n",
    "    if match := re.search(pattern, line, re.IGNORECASE):\n",
    "        x = int(match.group(1))\n",
    "        y = int(match.group(2))\n",
    "        direction = match.group(3).upper()\n",
    "        return x, y, direction\n",
    "    else:\n",
    "        return None\n",
    "\n",
    "def parse_command(line, command) -> Optional[str]:\n",
    "    pattern = r'^[\\t\\s]*({})[\\t\\s]*'.format(command)\n",
    "    return match.group(0).upper() if (match := re.search(pattern, line, re.IGNORECASE)) else None\n",
    "    \n",
    "def parse_move_command(line: str) -> Optional[str]:\n",
    "    pattern = r'^[\\t\\s]*({})[\\t\\s]*'.format(command)\n",
    "    print(pattern)\n",
    "    return match.group(0).upper() if (match := re.search(pattern, line, re.IGNORECASE)) else None\n",
    "\n",
    "def parse_left_command(line: str) -> Optional[str]:\n",
    "    return \"LEFT\" if re.search(r'^[\\t\\s]*LEFT[\\t\\s]*', line, re.IGNORECASE) else None\n",
    "\n",
    "def parse_right_command(line: str) -> Optional[str]:\n",
    "    return \"RIGHT\" if re.search(r'^[\\t\\s]*RIGHT[\\t\\s]*', line, re.IGNORECASE) else None\n",
    "\n",
    "def parse_report_command(line: str) -> Optional[str]:\n",
    "    return REPORT if re.search(r'^[\\t\\s]*REPORT[\\t\\s]*', line, re.IGNORECASE) else None"
   ]
  },
  {
   "cell_type": "code",
   "execution_count": 57,
   "metadata": {},
   "outputs": [
    {
     "name": "stdout",
     "output_type": "stream",
     "text": [
      "0 1 SOUTH\n",
      "(0, 1, 'SOUTH')\n"
     ]
    }
   ],
   "source": [
    "line = \"place   0 1   SouTh\"\n",
    "if args := parse_place_command(line):\n",
    "    x = args[0]\n",
    "    y = args[1]\n",
    "    direction = args[2]\n",
    "    \n",
    "    print(\"{} {} {}\".format(x, y, direction))\n",
    "    \n",
    "print(args)"
   ]
  },
  {
   "cell_type": "code",
   "execution_count": 61,
   "metadata": {},
   "outputs": [
    {
     "name": "stdout",
     "output_type": "stream",
     "text": [
      "^[\\t\\s]*(MOVE)[\\t\\s]*\n"
     ]
    },
    {
     "data": {
      "text/plain": [
       "'MOVE'"
      ]
     },
     "execution_count": 61,
     "metadata": {},
     "output_type": "execute_result"
    }
   ],
   "source": [
    "line = \"MOVE\"\n",
    "parse_move_command(line)"
   ]
  },
  {
   "cell_type": "code",
   "execution_count": 64,
   "metadata": {},
   "outputs": [
    {
     "name": "stdout",
     "output_type": "stream",
     "text": [
      "  MOVE\n"
     ]
    }
   ],
   "source": [
    "line = \"  MOVE\"\n",
    "if args := is_command(line, \"MOVE\"):\n",
    "    print(\"{}\".format(args))"
   ]
  },
  {
   "cell_type": "code",
   "execution_count": 66,
   "metadata": {},
   "outputs": [
    {
     "name": "stdout",
     "output_type": "stream",
     "text": [
      "  REPORT\n"
     ]
    }
   ],
   "source": [
    "line = \"  REPORT\"\n",
    "if args := is_command(line, \"REPORT\"):\n",
    "    print(\"{}\".format(args))"
   ]
  },
  {
   "cell_type": "code",
   "execution_count": null,
   "metadata": {},
   "outputs": [],
   "source": []
  }
 ],
 "metadata": {
  "kernelspec": {
   "display_name": "Python 3",
   "language": "python",
   "name": "python3"
  },
  "language_info": {
   "codemirror_mode": {
    "name": "ipython",
    "version": 3
   },
   "file_extension": ".py",
   "mimetype": "text/x-python",
   "name": "python",
   "nbconvert_exporter": "python",
   "pygments_lexer": "ipython3",
   "version": "3.8.5"
  }
 },
 "nbformat": 4,
 "nbformat_minor": 4
}
