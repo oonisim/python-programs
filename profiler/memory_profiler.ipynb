{
 "cells": [
  {
   "cell_type": "markdown",
   "id": "0166e1b5",
   "metadata": {},
   "source": [
    "# Memory Profiler\n",
    "\n",
    "* [Memory Profiler](https://github.com/pythonprofilers/memory_profiler)\n",
    "* [Profiling and Timing Code](https://jakevdp.github.io/PythonDataScienceHandbook/01.07-timing-and-profiling.html)\n",
    "* [Profile Memory Usage in Python using memory_profiler](http://www.sefidian.com/2022/04/17/profile-memory-usage-in-python-using-memory_profiler/)"
   ]
  },
  {
   "cell_type": "code",
   "execution_count": null,
   "id": "78cc8081",
   "metadata": {},
   "outputs": [],
   "source": [
    "#!pip install -U memory_profiler\n",
    "\n",
    "# To avoid Matplotlib is currently using agg, which is a non-GUI backend, so cannot show the figure.\n",
    "#!sudo apt-get install python3-tk"
   ]
  },
  {
   "cell_type": "code",
   "execution_count": 12,
   "id": "87d00df3",
   "metadata": {},
   "outputs": [
    {
     "name": "stdout",
     "output_type": "stream",
     "text": [
      "Overwriting mprofile_test.py\n"
     ]
    }
   ],
   "source": [
    "%%writefile mprofile_test.py\n",
    "import numpy as np\n",
    "from memory_profiler import profile as mprofile\n",
    "\n",
    "\n",
    "@mprofile\n",
    "def waste_some_memory():\n",
    "    print(np.arange(1000000).reshape((10, -1)).sum())\n",
    "    \n",
    "        \n",
    "if __name__ == \"__main__\":\n",
    "    waste_some_memory()"
   ]
  },
  {
   "cell_type": "code",
   "execution_count": 14,
   "id": "8120ec5f",
   "metadata": {},
   "outputs": [
    {
     "name": "stdout",
     "output_type": "stream",
     "text": [
      "499999500000\r\n",
      "Filename: mprofile_test.py\r\n",
      "\r\n",
      "Line #    Mem usage    Increment  Occurrences   Line Contents\r\n",
      "=============================================================\r\n",
      "     5     54.5 MiB     54.5 MiB           1   @mprofile\r\n",
      "     6                                         def waste_some_memory():\r\n",
      "     7     54.7 MiB      0.2 MiB           1       print(np.arange(1000000).reshape((10, -1)).sum())\r\n",
      "\r\n",
      "\r\n"
     ]
    }
   ],
   "source": [
    "!python -m memory_profiler mprofile_test.py"
   ]
  },
  {
   "cell_type": "code",
   "execution_count": 15,
   "id": "a504640a",
   "metadata": {},
   "outputs": [
    {
     "name": "stdout",
     "output_type": "stream",
     "text": [
      "mprof: Sampling memory every 0.1s\n",
      "running new process\n",
      "running as a Python program...\n",
      "499999500000\n",
      "Filename: mprofile_test.py\n",
      "\n",
      "Line #    Mem usage    Increment  Occurrences   Line Contents\n",
      "=============================================================\n",
      "     5     54.4 MiB     54.4 MiB           1   @mprofile\n",
      "     6                                         def waste_some_memory():\n",
      "     7     54.6 MiB      0.2 MiB           1       print(np.arange(1000000).reshape((10, -1)).sum())\n",
      "\n",
      "\n"
     ]
    }
   ],
   "source": [
    "!mprof run mprofile_test.py"
   ]
  },
  {
   "cell_type": "code",
   "execution_count": 20,
   "id": "a75ad969",
   "metadata": {},
   "outputs": [],
   "source": [
    "%load_ext memory_profiler"
   ]
  },
  {
   "cell_type": "code",
   "execution_count": 21,
   "id": "0af77888",
   "metadata": {},
   "outputs": [
    {
     "name": "stdout",
     "output_type": "stream",
     "text": [
      "Using last profile data.\r\n",
      "Figure(1260x540)\r\n"
     ]
    }
   ],
   "source": [
    "%matplotlib inline\n",
    "!mprof plot  # Need to run command line"
   ]
  },
  {
   "cell_type": "code",
   "execution_count": 17,
   "id": "3e5aa29f",
   "metadata": {},
   "outputs": [
    {
     "name": "stdout",
     "output_type": "stream",
     "text": [
      "memory_profiler.ipynb  mprofile_20221102161505.dat  mprofile_test.py\r\n"
     ]
    }
   ],
   "source": [
    "!ls"
   ]
  }
 ],
 "metadata": {
  "kernelspec": {
   "display_name": "Python 3 (ipykernel)",
   "language": "python",
   "name": "python3"
  },
  "language_info": {
   "codemirror_mode": {
    "name": "ipython",
    "version": 3
   },
   "file_extension": ".py",
   "mimetype": "text/x-python",
   "name": "python",
   "nbconvert_exporter": "python",
   "pygments_lexer": "ipython3",
   "version": "3.9.5"
  }
 },
 "nbformat": 4,
 "nbformat_minor": 5
}
