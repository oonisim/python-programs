{
  "nbformat": 4,
  "nbformat_minor": 0,
  "metadata": {
    "kernelspec": {
      "display_name": "Python 3",
      "language": "python",
      "name": "python3"
    },
    "language_info": {
      "codemirror_mode": {
        "name": "ipython",
        "version": 3
      },
      "file_extension": ".py",
      "mimetype": "text/x-python",
      "name": "python",
      "nbconvert_exporter": "python",
      "pygments_lexer": "ipython3",
      "version": "3.8.8"
    },
    "colab": {
      "name": "clone_git_to_drive.ipynb",
      "provenance": [],
      "collapsed_sections": [],
      "toc_visible": true
    }
  },
  "cells": [
    {
      "cell_type": "markdown",
      "metadata": {
        "id": "yhxfqH04FeIG"
      },
      "source": [
        "# Setup Google Colab environment\n",
        "## Clone github into Google drive\n",
        "\n",
        "### Objective\n",
        "\n",
        "To be able to launch a notebook from the Google drive in the Colab.\n",
        "\n",
        "### Background\n",
        "\n",
        "Colab only allows to launch and work in a notebook from the /content/drive/MyDrive/Colab Notebooks folder. Hence, need to launch a notebook from the Google Drive UI to be able to work on the notebook. \n",
        "\n",
        "## Steps\n",
        "\n",
        "1. Mount Gdrive.\n",
        "2. Delete the previous github folder cloned in the Gdrive.\n",
        "3. Recreate the github folder.\n",
        "4. Clone the github repository into the folder.\n",
        "5. Go to the Google Drive UI and wait for the synch is done.\n",
        "6. Open a notebook from the cloned github repository in the Google Drive UI."
      ]
    },
    {
      "cell_type": "code",
      "metadata": {
        "colab": {
          "base_uri": "https://localhost:8080/"
        },
        "id": "XKPVR0ZVFeIG",
        "outputId": "0257e870-c735-420c-d849-cc8e38b9153c"
      },
      "source": [
        "\n",
        "try:\n",
        "    import google.colab\n",
        "    IN_GOOGLE_COLAB = True\n",
        "except:\n",
        "    IN_GOOGLE_COLAB = False\n",
        "    \n",
        "if IN_GOOGLE_COLAB:\n",
        "    !pip install line_profiler\n",
        "    !google.colab.drive.mount('/content/gdrive')\n",
        "    !rm -rf /content/drive/MyDrive/github\n",
        "    !mkdir -p /content/drive/MyDrive/github\n",
        "    !git clone https://github.com/oonisim/python-programs.git /content/drive/MyDrive/github\n",
        "        \n",
        "    import sys\n",
        "    sys.path.append('/content/drive/MyDrive/github/nlp/src')"
      ],
      "execution_count": 4,
      "outputs": [
        {
          "output_type": "stream",
          "text": [
            "Requirement already satisfied: line_profiler in /usr/local/lib/python3.7/dist-packages (3.1.0)\n",
            "Requirement already satisfied: IPython in /usr/local/lib/python3.7/dist-packages (from line_profiler) (5.5.0)\n",
            "Requirement already satisfied: pickleshare in /usr/local/lib/python3.7/dist-packages (from IPython->line_profiler) (0.7.5)\n",
            "Requirement already satisfied: traitlets>=4.2 in /usr/local/lib/python3.7/dist-packages (from IPython->line_profiler) (5.0.5)\n",
            "Requirement already satisfied: pygments in /usr/local/lib/python3.7/dist-packages (from IPython->line_profiler) (2.6.1)\n",
            "Requirement already satisfied: setuptools>=18.5 in /usr/local/lib/python3.7/dist-packages (from IPython->line_profiler) (54.2.0)\n",
            "Requirement already satisfied: pexpect; sys_platform != \"win32\" in /usr/local/lib/python3.7/dist-packages (from IPython->line_profiler) (4.8.0)\n",
            "Requirement already satisfied: prompt-toolkit<2.0.0,>=1.0.4 in /usr/local/lib/python3.7/dist-packages (from IPython->line_profiler) (1.0.18)\n",
            "Requirement already satisfied: decorator in /usr/local/lib/python3.7/dist-packages (from IPython->line_profiler) (4.4.2)\n",
            "Requirement already satisfied: simplegeneric>0.8 in /usr/local/lib/python3.7/dist-packages (from IPython->line_profiler) (0.8.1)\n",
            "Requirement already satisfied: ipython-genutils in /usr/local/lib/python3.7/dist-packages (from traitlets>=4.2->IPython->line_profiler) (0.2.0)\n",
            "Requirement already satisfied: ptyprocess>=0.5 in /usr/local/lib/python3.7/dist-packages (from pexpect; sys_platform != \"win32\"->IPython->line_profiler) (0.7.0)\n",
            "Requirement already satisfied: wcwidth in /usr/local/lib/python3.7/dist-packages (from prompt-toolkit<2.0.0,>=1.0.4->IPython->line_profiler) (0.2.5)\n",
            "Requirement already satisfied: six>=1.9.0 in /usr/local/lib/python3.7/dist-packages (from prompt-toolkit<2.0.0,>=1.0.4->IPython->line_profiler) (1.15.0)\n",
            "/bin/bash: -c: line 0: syntax error near unexpected token `'/content/gdrive''\n",
            "/bin/bash: -c: line 0: `google.colab.drive.mount('/content/gdrive')'\n",
            "Cloning into '/content/drive/MyDrive/github'...\n",
            "remote: Enumerating objects: 4537, done.\u001b[K\n",
            "remote: Counting objects: 100% (707/707), done.\u001b[K\n",
            "remote: Compressing objects: 100% (461/461), done.\u001b[K\n",
            "remote: Total 4537 (delta 465), reused 451 (delta 229), pack-reused 3830\u001b[K\n",
            "Receiving objects: 100% (4537/4537), 168.26 MiB | 11.60 MiB/s, done.\n",
            "Resolving deltas: 100% (2886/2886), done.\n",
            "Checking out files: 100% (1770/1770), done.\n"
          ],
          "name": "stdout"
        }
      ]
    }
  ]
}