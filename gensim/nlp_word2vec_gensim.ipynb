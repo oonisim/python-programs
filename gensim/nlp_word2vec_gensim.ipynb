{
 "cells": [
  {
   "cell_type": "code",
   "execution_count": 1,
   "id": "28350d96",
   "metadata": {},
   "outputs": [
    {
     "name": "stdout",
     "output_type": "stream",
     "text": [
      "Looking in indexes: https://pypi.org/simple, https://pip.repos.neuron.amazonaws.com\n",
      "Requirement already satisfied: gensim==4.1.2 in /home/ec2-user/anaconda3/envs/python3/lib/python3.8/site-packages (4.1.2)\n",
      "Requirement already satisfied: smart-open>=1.8.1 in /home/ec2-user/anaconda3/envs/python3/lib/python3.8/site-packages (from gensim==4.1.2) (5.2.1)\n",
      "Requirement already satisfied: scipy>=0.18.1 in /home/ec2-user/anaconda3/envs/python3/lib/python3.8/site-packages (from gensim==4.1.2) (1.5.3)\n",
      "Requirement already satisfied: numpy>=1.17.0 in /home/ec2-user/anaconda3/envs/python3/lib/python3.8/site-packages (from gensim==4.1.2) (1.20.3)\n",
      "\u001b[33mWARNING: You are using pip version 22.0.3; however, version 22.0.4 is available.\n",
      "You should consider upgrading via the '/home/ec2-user/anaconda3/envs/python3/bin/python -m pip install --upgrade pip' command.\u001b[0m\u001b[33m\n",
      "\u001b[0m"
     ]
    }
   ],
   "source": [
    "!pip install gensim==4.1.2"
   ]
  },
  {
   "cell_type": "code",
   "execution_count": 2,
   "id": "a6782d69",
   "metadata": {},
   "outputs": [],
   "source": [
    "from gensim.models import (\n",
    "    Word2Vec\n",
    ")\n",
    "from gensim.models.word2vec import (\n",
    "    LineSentence    \n",
    ")"
   ]
  },
  {
   "cell_type": "markdown",
   "id": "14ca8acb",
   "metadata": {},
   "source": [
    "# Use pre-trained Google News dataset model\n",
    "\n",
    "* [Word2Vec Demo](https://radimrehurek.com/gensim/auto_examples/tutorials/run_word2vec.html#word2vec-demo)"
   ]
  },
  {
   "cell_type": "code",
   "execution_count": 3,
   "id": "a92194a3",
   "metadata": {},
   "outputs": [],
   "source": [
    "import gensim.downloader as api\n",
    "wv = api.load('word2vec-google-news-300')"
   ]
  },
  {
   "cell_type": "markdown",
   "id": "18cb247b",
   "metadata": {},
   "source": [
    "## King - Man + Woman = Queen\n",
    "\n",
    "<img src=\"man_to_woman_king_to_queen.png\" align=\"left\" width=300/>"
   ]
  },
  {
   "cell_type": "code",
   "execution_count": 4,
   "id": "48cfbfa3",
   "metadata": {},
   "outputs": [
    {
     "data": {
      "text/plain": [
       "[('queen', 0.7300517559051514),\n",
       " ('monarch', 0.645466148853302),\n",
       " ('princess', 0.6156251430511475)]"
      ]
     },
     "execution_count": 4,
     "metadata": {},
     "output_type": "execute_result"
    }
   ],
   "source": [
    "king = wv['king']\n",
    "man = wv['man']\n",
    "woman = wv['woman']\n",
    "\n",
    "candidates: list = []\n",
    "for key, probability in wv.most_similar(king - man + woman):\n",
    "    if key.lower() not in [\"king\", \"man\", \"woman\"]:\n",
    "        candidates.append((key, probability))\n",
    "        \n",
    "candidates[:3]"
   ]
  },
  {
   "cell_type": "markdown",
   "id": "fc5505fa",
   "metadata": {},
   "source": [
    "<img src=\"real_spain_italy_juventus.png\" align=\"left\" width=500/>"
   ]
  },
  {
   "cell_type": "code",
   "execution_count": 5,
   "id": "cd889bda",
   "metadata": {},
   "outputs": [
    {
     "data": {
      "text/plain": [
       "[('juventus', 0.6757157444953918),\n",
       " ('juve', 0.6393407583236694),\n",
       " ('mancini', 0.6235371828079224)]"
      ]
     },
     "execution_count": 5,
     "metadata": {},
     "output_type": "execute_result"
    }
   ],
   "source": [
    "spain = wv['spain']\n",
    "real_madrid = wv['real_madrid']\n",
    "italy = wv['italy']\n",
    "\n",
    "candidates: list = []\n",
    "for key, probability in wv.most_similar(real_madrid -spain + italy):\n",
    "    if key.lower() not in [\"spain\", \"real_madrid\", \"italy\"]:\n",
    "        candidates.append((key, probability))\n",
    "        \n",
    "candidates[:3]"
   ]
  },
  {
   "cell_type": "markdown",
   "id": "28471165",
   "metadata": {},
   "source": [
    "## Embedding does not always work\n",
    "\n",
    "```Madrid - Spain + Frace != Paris```"
   ]
  },
  {
   "cell_type": "code",
   "execution_count": 6,
   "id": "01d51f56",
   "metadata": {},
   "outputs": [
    {
     "data": {
      "text/plain": [
       "[('barca', 0.6423200368881226),\n",
       " ('real_madrid', 0.6159301400184631),\n",
       " ('juve', 0.615204930305481)]"
      ]
     },
     "execution_count": 6,
     "metadata": {},
     "output_type": "execute_result"
    }
   ],
   "source": [
    "spain = wv['spain']\n",
    "madrid = wv['madrid']\n",
    "france = wv['france']\n",
    "\n",
    "candidates: list = []\n",
    "for key, probability in wv.most_similar(madrid - spain + france):\n",
    "    if key.lower() not in [\"spain\", \"madrid\", \"france\"]:\n",
    "        candidates.append((key, probability))\n",
    "        \n",
    "candidates[:3]"
   ]
  }
 ],
 "metadata": {
  "kernelspec": {
   "display_name": "conda_python3",
   "language": "python",
   "name": "conda_python3"
  },
  "language_info": {
   "codemirror_mode": {
    "name": "ipython",
    "version": 3
   },
   "file_extension": ".py",
   "mimetype": "text/x-python",
   "name": "python",
   "nbconvert_exporter": "python",
   "pygments_lexer": "ipython3",
   "version": "3.8.12"
  }
 },
 "nbformat": 4,
 "nbformat_minor": 5
}
