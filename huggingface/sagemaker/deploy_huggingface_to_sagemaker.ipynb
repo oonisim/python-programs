{
 "cells": [
  {
   "cell_type": "markdown",
   "id": "3389043a",
   "metadata": {},
   "source": [
    "# References\n",
    "\n",
    "## Pytorch\n",
    "\n",
    "* [AWS SageMaker - How to load trained sklearn model to serve for inference?](https://stackoverflow.com/a/65173663/4281353)\n",
    "\n",
    "## SageMaker HuggingFace Model\n",
    "\n",
    "* [Deploy models to Amazon SageMaker](https://huggingface.co/docs/sagemaker/inference)\n",
    "* [Error deploying BERT on SageMaker](https://discuss.huggingface.co/t/error-deploying-bert-on-sagemaker/8401)\n",
    "\n",
    "<img src=\"image/deploy_huggingface_model_to_sagemaker.png\" align=\"left\" />"
   ]
  },
  {
   "cell_type": "code",
   "execution_count": null,
   "id": "72ecd8e6",
   "metadata": {},
   "outputs": [],
   "source": []
  }
 ],
 "metadata": {
  "kernelspec": {
   "display_name": "Python 3 (ipykernel)",
   "language": "python",
   "name": "python3"
  },
  "language_info": {
   "codemirror_mode": {
    "name": "ipython",
    "version": 3
   },
   "file_extension": ".py",
   "mimetype": "text/x-python",
   "name": "python",
   "nbconvert_exporter": "python",
   "pygments_lexer": "ipython3",
   "version": "3.8.10"
  }
 },
 "nbformat": 4,
 "nbformat_minor": 5
}
