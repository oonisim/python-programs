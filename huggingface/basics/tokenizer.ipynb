{
 "cells": [
  {
   "cell_type": "markdown",
   "id": "25dc93aa",
   "metadata": {},
   "source": [
    "# Tokenizer\n",
    "\n",
    "* [Tokenizer](https://huggingface.co/transformers/main_classes/tokenizer.html)\n",
    "\n",
    "> A tokenizer is in charge of preparing the inputs for a model. \n",
    "\n",
    "## Fast Tokenizer\n",
    "\n",
    "Use **Fast** tokenizer., not the Python tokenizers.\n",
    "\n",
    "> Most of the tokenizers are available in two flavors: a full python implementation and a “Fast” implementation based on the Rust library tokenizers. \n",
    "\n",
    "## Base Classes\n",
    "[PreTrainedTokenizerFast](https://huggingface.co/transformers/main_classes/tokenizer.html#pretrainedtokenizerfast) implements the common methods for encoding string inputs in inputs. Relies on PreTrainedTokenizerBase.\n",
    "\n",
    "* **Tokenizing** <br>split strings in sub-word token strings, encode tokens into integer ids, decode ids back to tokens.\n",
    "* **Managing new tokens** <br>adding new tokens the vocabulary in a way that is independent of the underlying structure (BPE, SentencePiece…).\n",
    "\n",
    "* **Managing special tokens** (mask, CLS/beginning-of-sentence, etc.)<br> adding and assigning them to attributes in the tokenizer for easy access and making sure they are not split during tokenization."
   ]
  },
  {
   "cell_type": "code",
   "execution_count": 1,
   "id": "ccfe8e5f",
   "metadata": {},
   "outputs": [
    {
     "name": "stderr",
     "output_type": "stream",
     "text": [
      "2021-07-03 13:31:07.598471: W tensorflow/stream_executor/platform/default/dso_loader.cc:64] Could not load dynamic library 'libcudart.so.11.0'; dlerror: libcudart.so.11.0: cannot open shared object file: No such file or directory\n",
      "2021-07-03 13:31:07.598515: I tensorflow/stream_executor/cuda/cudart_stub.cc:29] Ignore above cudart dlerror if you do not have a GPU set up on your machine.\n"
     ]
    }
   ],
   "source": [
    "import tensorflow as tf\n",
    "import transformers\n",
    "\n",
    "from transformers import (\n",
    "    TFDistilBertForSequenceClassification,\n",
    "    DistilBertTokenizerFast\n",
    ")"
   ]
  },
  {
   "cell_type": "markdown",
   "id": "b09af0de",
   "metadata": {},
   "source": [
    "# Configurations"
   ]
  },
  {
   "cell_type": "code",
   "execution_count": 2,
   "id": "7e16dc31",
   "metadata": {},
   "outputs": [],
   "source": [
    "model_name = 'distilbert-base-uncased'\n",
    "max_sequence_length = 256"
   ]
  },
  {
   "cell_type": "code",
   "execution_count": 3,
   "id": "b00035c0",
   "metadata": {},
   "outputs": [
    {
     "name": "stderr",
     "output_type": "stream",
     "text": [
      "2021-07-03 13:31:11.809437: W tensorflow/stream_executor/platform/default/dso_loader.cc:64] Could not load dynamic library 'libcuda.so.1'; dlerror: libcuda.so.1: cannot open shared object file: No such file or directory\n",
      "2021-07-03 13:31:11.809502: W tensorflow/stream_executor/cuda/cuda_driver.cc:326] failed call to cuInit: UNKNOWN ERROR (303)\n",
      "2021-07-03 13:31:11.809534: I tensorflow/stream_executor/cuda/cuda_diagnostics.cc:156] kernel driver does not appear to be running on this host (ubuntu): /proc/driver/nvidia/version does not exist\n",
      "2021-07-03 13:31:11.809861: I tensorflow/core/platform/cpu_feature_guard.cc:142] This TensorFlow binary is optimized with oneAPI Deep Neural Network Library (oneDNN) to use the following CPU instructions in performance-critical operations:  AVX2 FMA\n",
      "To enable them in other operations, rebuild TensorFlow with the appropriate compiler flags.\n",
      "2021-07-03 13:31:11.849207: W tensorflow/python/util/util.cc:348] Sets are not currently considered sequences, but this may change in the future, so consider avoiding using them.\n",
      "Some layers from the model checkpoint at distilbert-base-uncased were not used when initializing TFDistilBertForSequenceClassification: ['activation_13', 'vocab_transform', 'vocab_projector', 'vocab_layer_norm']\n",
      "- This IS expected if you are initializing TFDistilBertForSequenceClassification from the checkpoint of a model trained on another task or with another architecture (e.g. initializing a BertForSequenceClassification model from a BertForPreTraining model).\n",
      "- This IS NOT expected if you are initializing TFDistilBertForSequenceClassification from the checkpoint of a model that you expect to be exactly identical (initializing a BertForSequenceClassification model from a BertForSequenceClassification model).\n",
      "Some layers of TFDistilBertForSequenceClassification were not initialized from the model checkpoint at distilbert-base-uncased and are newly initialized: ['pre_classifier', 'classifier', 'dropout_19']\n",
      "You should probably TRAIN this model on a down-stream task to be able to use it for predictions and inference.\n"
     ]
    }
   ],
   "source": [
    "model = TFDistilBertForSequenceClassification.from_pretrained(\n",
    "    model_name,\n",
    "    num_labels=2\n",
    ")\n",
    "tokenizer = DistilBertTokenizerFast.from_pretrained(\n",
    "    model_name, \n",
    "    truncation=True,\n",
    "    padding=True,\n",
    "    max_length=max_sequence_length,\n",
    "    return_tensors=\"tf\"\n",
    ")"
   ]
  },
  {
   "cell_type": "markdown",
   "id": "44a903f4",
   "metadata": {},
   "source": [
    "# Tokenize\n",
    "\n",
    "Note that you may need to convert the result of the ```tokenizer``` which is ```transformers.tokenization_utils_base.BatchEncoding``` instance into dictionary to feed into the model."
   ]
  },
  {
   "cell_type": "markdown",
   "id": "839491b1",
   "metadata": {},
   "source": [
    "## call\n",
    "\n",
    "[```__call__```](https://huggingface.co/transformers/internal/tokenization_utils.html#transformers.tokenization_utils_base.PreTrainedTokenizerBase.__call__) method or ```tokenizer(input)``` geneates the ```token ids``` and ```attention masks``` to feed into the model.\n",
    "\n",
    "Attention Masks are the flags to tell the model if the token should be used or ignored.\n",
    "\n",
    "\n"
   ]
  },
  {
   "cell_type": "code",
   "execution_count": 4,
   "id": "4b2fb0a3",
   "metadata": {},
   "outputs": [
    {
     "name": "stdout",
     "output_type": "stream",
     "text": [
      "<class 'transformers.tokenization_utils_base.BatchEncoding'>\n",
      "{'input_ids': [101, 1037, 19204, 17629, 2003, 1999, 3715, 1997, 8225, 1996, 20407, 2005, 1037, 2944, 1012, 102], 'attention_mask': [1, 1, 1, 1, 1, 1, 1, 1, 1, 1, 1, 1, 1, 1, 1, 1]}\n"
     ]
    }
   ],
   "source": [
    "tokenized = tokenizer(\"A tokenizer is in charge of preparing the inputs for a model.\")\n",
    "print(type(tokenized))\n",
    "print(tokenized)"
   ]
  },
  {
   "cell_type": "markdown",
   "id": "0c423884",
   "metadata": {},
   "source": [
    "## encode\n",
    "\n",
    "[encode](https://huggingface.co/transformers/internal/tokenization_utils.html#transformers.tokenization_utils_base.PreTrainedTokenizerBase.encode) method generates the ```token ids``` without the Attention Masks."
   ]
  },
  {
   "cell_type": "code",
   "execution_count": 6,
   "id": "07d80072",
   "metadata": {},
   "outputs": [
    {
     "name": "stdout",
     "output_type": "stream",
     "text": [
      "[101, 1037, 19204, 17629, 2003, 1999, 3715, 1997, 8225, 1996, 20407, 2005, 1037, 2944, 1012, 102]\n"
     ]
    }
   ],
   "source": [
    "ids = tokenizer.encode(\"A tokenizer is in charge of preparing the inputs for a model.\")\n",
    "print(ids)"
   ]
  },
  {
   "cell_type": "markdown",
   "id": "d1693590",
   "metadata": {},
   "source": [
    "## decode\n",
    "\n",
    "* [decode](https://huggingface.co/transformers/internal/tokenization_utils.html#transformers.tokenization_utils_base.PreTrainedTokenizerBase.decode) methods reverts the ```ids``` back to strings. "
   ]
  },
  {
   "cell_type": "code",
   "execution_count": 7,
   "id": "67bcb1de",
   "metadata": {},
   "outputs": [
    {
     "data": {
      "text/plain": [
       "'[CLS] a tokenizer is in charge of preparing the inputs for a model. [SEP]'"
      ]
     },
     "execution_count": 7,
     "metadata": {},
     "output_type": "execute_result"
    }
   ],
   "source": [
    "tokenizer.decode(ids)"
   ]
  },
  {
   "cell_type": "code",
   "execution_count": null,
   "id": "18691f85",
   "metadata": {},
   "outputs": [],
   "source": []
  }
 ],
 "metadata": {
  "kernelspec": {
   "display_name": "Python 3 (ipykernel)",
   "language": "python",
   "name": "python3"
  },
  "language_info": {
   "codemirror_mode": {
    "name": "ipython",
    "version": 3
   },
   "file_extension": ".py",
   "mimetype": "text/x-python",
   "name": "python",
   "nbconvert_exporter": "python",
   "pygments_lexer": "ipython3",
   "version": "3.8.8"
  }
 },
 "nbformat": 4,
 "nbformat_minor": 5
}
