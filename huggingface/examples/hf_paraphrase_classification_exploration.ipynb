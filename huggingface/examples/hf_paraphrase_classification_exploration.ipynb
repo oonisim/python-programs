{
 "cells": [
  {
   "cell_type": "code",
   "execution_count": 3,
   "id": "71b562c4-1757-4302-b86a-b1d3bc5b40d7",
   "metadata": {},
   "outputs": [],
   "source": [
    "from transformers import (\n",
    "    AutoTokenizer,\n",
    "    AutoModelForSequenceClassification\n",
    ")\n",
    "import torch"
   ]
  },
  {
   "cell_type": "code",
   "execution_count": 4,
   "id": "888c9d05-b37d-49e8-a348-c5b9059c0b34",
   "metadata": {},
   "outputs": [],
   "source": [
    "MODEL_NAME: str = \"bert-base-cased-finetuned-mrpc\""
   ]
  },
  {
   "cell_type": "code",
   "execution_count": 6,
   "id": "47051f0b-c118-41ed-836d-042a06e6ef36",
   "metadata": {},
   "outputs": [
    {
     "name": "stdout",
     "output_type": "stream",
     "text": [
      "\n",
      "First phrase: Machine Learning (ML) makes predictions from data\n",
      "\n",
      "Second phrase: ML uses data to compute a prediction.\n",
      "\n",
      "Second phrase: \n"
     ]
    }
   ],
   "source": [
    "tokenizer = AutoTokenizer.from_pretrained(MODEL_NAME)\n",
    "model = AutoModelForSequenceClassification.from_pretrained(MODEL_NAME)\n",
    "\n",
    "phrase_0 = \"Machine Learning (ML) makes predictions from data\"\n",
    "phrase_1 = \"ML uses data to compute a prediction.\"\n",
    "\n",
    "print(f\"\\nFirst phrase: {phrase_0}\")\n",
    "print(f\"\\nSecond phrase: {phrase_1}\")\n",
    "print(\"\\nSecond phrase: \")\n",
    "phrase_tokenized = tokenizer(phrase_0, phrase_1, return_tensors=\"pt\")"
   ]
  },
  {
   "cell_type": "code",
   "execution_count": 7,
   "id": "af7ae50a-34e7-4ca7-8705-f987fa551152",
   "metadata": {},
   "outputs": [
    {
     "name": "stdout",
     "output_type": "stream",
     "text": [
      "\n",
      "Pseudo-probabilities of not-a-para, is-a-para: [[0.05828981 0.9417101 ]]\n"
     ]
    }
   ],
   "source": [
    "with torch.no_grad():\n",
    "    logits = model(**phrase_tokenized).logits\n",
    "    probabilities = torch.softmax(logits, dim=1).numpy()\n",
    "\n",
    "print(f\"\\nPseudo-probabilities of not-a-para, is-a-para: {probabilities}\")"
   ]
  },
  {
   "cell_type": "code",
   "execution_count": 12,
   "id": "2ab451a1-c63f-448e-8354-60c9a565fdd8",
   "metadata": {},
   "outputs": [
    {
     "data": {
      "text/plain": [
       "torch.Size([1, 23])"
      ]
     },
     "execution_count": 12,
     "metadata": {},
     "output_type": "execute_result"
    }
   ],
   "source": [
    "phrase_tokenized['input_ids'].shape"
   ]
  },
  {
   "cell_type": "code",
   "execution_count": null,
   "id": "ca3512a9-f52e-4498-923f-939f67b50c9c",
   "metadata": {},
   "outputs": [],
   "source": []
  }
 ],
 "metadata": {
  "kernelspec": {
   "display_name": "Python 3 (ipykernel)",
   "language": "python",
   "name": "python3"
  },
  "language_info": {
   "codemirror_mode": {
    "name": "ipython",
    "version": 3
   },
   "file_extension": ".py",
   "mimetype": "text/x-python",
   "name": "python",
   "nbconvert_exporter": "python",
   "pygments_lexer": "ipython3",
   "version": "3.10.13"
  }
 },
 "nbformat": 4,
 "nbformat_minor": 5
}
