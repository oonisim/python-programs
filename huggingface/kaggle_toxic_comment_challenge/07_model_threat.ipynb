{
 "cells": [
  {
   "cell_type": "markdown",
   "metadata": {
    "id": "_A29mechcWUC"
   },
   "source": [
    "### threat"
   ]
  },
  {
   "cell_type": "code",
   "execution_count": null,
   "metadata": {
    "colab": {
     "base_uri": "https://localhost:8080/"
    },
    "id": "9-9UzN8bT-sf",
    "outputId": "65138416-cd6b-4f5b-c83c-161594ed18cc"
   },
   "outputs": [
    {
     "name": "stdout",
     "output_type": "stream",
     "text": [
      "\n",
      "--------------------------------------------------------------------------------\n",
      "Model training on [toxic]\n",
      "--------------------------------------------------------------------------------\n",
      "Model: \"tf_distil_bert_for_sequence_classification_2\"\n",
      "_________________________________________________________________\n",
      "Layer (type)                 Output Shape              Param #   \n",
      "=================================================================\n",
      "distilbert (TFDistilBertMain multiple                  66362880  \n",
      "_________________________________________________________________\n",
      "pre_classifier (Dense)       multiple                  590592    \n",
      "_________________________________________________________________\n",
      "classifier (Dense)           multiple                  1538      \n",
      "_________________________________________________________________\n",
      "dropout_59 (Dropout)         multiple                  0         \n",
      "=================================================================\n",
      "Total params: 66,955,010\n",
      "Trainable params: 592,130\n",
      "Non-trainable params: 66,362,880\n",
      "_________________________________________________________________\n",
      "Epoch 1/30\n"
     ]
    }
   ],
   "source": [
    "category = 'threat'\n",
    "runner_threat = generate_category_runner(category)(train)\n",
    "runner_threat.train()\n",
    "runner_threat.save()"
   ]
  },
  {
   "cell_type": "code",
   "execution_count": null,
   "metadata": {},
   "outputs": [],
   "source": [
    "evaluate(runner_threat, test)"
   ]
  }
 ],
 "metadata": {
  "accelerator": "GPU",
  "colab": {
   "collapsed_sections": [
    "Y3KFBkjcknCD",
    "o-Oj3ltY_T8m",
    "lZZbTtUGWx9S",
    "Qpx-pzGWasel",
    "gcefqEMkA2IV",
    "7UPio2cmTcWO",
    "QcngPOCBW4R1",
    "_PFau2osjvx-",
    "k0jSqXxxQrUj",
    "1wwZFMlD6pIJ",
    "nUYPD0TQvEaI",
    "pFWPmiCkaVsN",
    "ShId8bvTGlER",
    "s4jNfuchQiPy",
    "f-RWZFJj8lJZ",
    "5bp2VT2ohkKD",
    "w0Rpsc7IjWFd",
    "XJyvUG3cGylz",
    "SvZ2Z7JQ9jsS"
   ],
   "machine_shape": "hm",
   "name": "toxic_comment_classification.ipynb",
   "provenance": []
  },
  "kernelspec": {
   "display_name": "Python 3 (ipykernel)",
   "language": "python",
   "name": "python3"
  },
  "language_info": {
   "codemirror_mode": {
    "name": "ipython",
    "version": 3
   },
   "file_extension": ".py",
   "mimetype": "text/x-python",
   "name": "python",
   "nbconvert_exporter": "python",
   "pygments_lexer": "ipython3",
   "version": "3.8.10"
  }
 },
 "nbformat": 4,
 "nbformat_minor": 1
}
