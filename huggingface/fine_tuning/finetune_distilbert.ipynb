{
 "cells": [
  {
   "cell_type": "code",
   "execution_count": 7,
   "id": "2281b434",
   "metadata": {},
   "outputs": [
    {
     "name": "stdout",
     "output_type": "stream",
     "text": [
      "Collecting package metadata (current_repodata.json): done\n",
      "Solving environment: - \n",
      "The environment is inconsistent, please check the package plan carefully\n",
      "The following packages are causing the inconsistency:\n",
      "\n",
      "  - huggingface/noarch::transformers==4.6.1=py_0\n",
      "  - defaults/linux-64::tensorflow==2.5.0=eigen_py38h94feaef_0\n",
      "  - conda-forge/linux-64::spacy==3.0.6=py38hfc89cab_0\n",
      "  - defaults/linux-64::tensorflow-base==2.5.0=eigen_py38h2b86b3d_0\n",
      "  - huggingface/noarch::sacremoses==master=py_0\n",
      "  - conda-forge/noarch::typer==0.3.1=py_0\n",
      "  - conda-forge/noarch::tensorboard==2.5.0=pyhd8ed1ab_0\n",
      "  - conda-forge/noarch::google-auth-oauthlib==0.4.1=py_2\n",
      "  - conda-forge/noarch::pathy==0.6.0=pyhd8ed1ab_0\n",
      "  - conda-forge/noarch::nltk==3.6.2=pyhd8ed1ab_0\n",
      "done\n",
      "\n",
      "\n",
      "==> WARNING: A newer version of conda exists. <==\n",
      "  current version: 4.10.1\n",
      "  latest version: 4.10.3\n",
      "\n",
      "Please update conda by running\n",
      "\n",
      "    $ conda update -n base -c defaults conda\n",
      "\n",
      "\n",
      "\n",
      "## Package Plan ##\n",
      "\n",
      "  environment location: /home/oonisim/conda/envs/python_programs\n",
      "\n",
      "  added / updated specs:\n",
      "    - graphviz\n",
      "\n",
      "\n",
      "The following packages will be downloaded:\n",
      "\n",
      "    package                    |            build\n",
      "    ---------------------------|-----------------\n",
      "    atk-1.0-2.36.0             |       h28cd5cc_0         523 KB  anaconda\n",
      "    ca-certificates-2020.10.14 |                0         128 KB  anaconda\n",
      "    cairo-1.16.0               |    h6cf1ce9_1008         1.5 MB  conda-forge\n",
      "    certifi-2020.6.20          |           py38_0         160 KB  anaconda\n",
      "    click-7.1.2                |             py_0          67 KB  anaconda\n",
      "    font-ttf-dejavu-sans-mono-2.37|       h6964260_0         386 KB  anaconda\n",
      "    font-ttf-inconsolata-2.001 |       hcb22688_0          95 KB  anaconda\n",
      "    font-ttf-source-code-pro-2.030|       h7457263_0         922 KB  anaconda\n",
      "    font-ttf-ubuntu-0.83       |       h8b1ccd4_0         1.8 MB  anaconda\n",
      "    fonts-conda-ecosystem-1    |                0           4 KB  conda-forge\n",
      "    fonts-conda-forge-1        |                0           4 KB  conda-forge\n",
      "    fribidi-1.0.10             |       h7b6447c_0         115 KB  anaconda\n",
      "    gdk-pixbuf-2.42.6          |       h04a7f16_0         609 KB  conda-forge\n",
      "    gobject-introspection-1.56.1|   py38h56ee657_3         1.3 MB  anaconda\n",
      "    graphite2-1.3.14           |       h23475e2_0         102 KB  anaconda\n",
      "    graphviz-2.47.3            |       h85b4f2f_0         4.0 MB  conda-forge\n",
      "    gtk2-2.24.33               |       h539f30e_1         7.3 MB  conda-forge\n",
      "    gts-0.7.6                  |       h64030ff_2         411 KB  conda-forge\n",
      "    harfbuzz-2.8.1             |       h83ec7ef_0         1.9 MB  conda-forge\n",
      "    libgd-2.3.2                |       h78a0170_0         299 KB  conda-forge\n",
      "    librsvg-2.50.7             |       hc3c00ef_0        17.0 MB  conda-forge\n",
      "    libtool-2.4.6              |    h7b6447c_1005         503 KB  anaconda\n",
      "    libwebp-1.2.0              |       h3452ae3_0          85 KB  conda-forge\n",
      "    ninja-1.10.1               |   py38hfd86e86_0         1.9 MB  anaconda\n",
      "    pango-1.48.6               |       hb8ff022_0         399 KB  conda-forge\n",
      "    pixman-0.40.0              |       h7b6447c_0         628 KB  anaconda\n",
      "    xorg-kbproto-1.0.7         |    h7f98852_1002          27 KB  conda-forge\n",
      "    xorg-libice-1.0.10         |       h7f98852_0          58 KB  conda-forge\n",
      "    xorg-libsm-1.2.3           |    hd9c2040_1000          26 KB  conda-forge\n",
      "    xorg-libx11-1.7.2          |       h7f98852_0         941 KB  conda-forge\n",
      "    xorg-libxext-1.3.4         |       h7f98852_1          54 KB  conda-forge\n",
      "    xorg-libxrender-0.9.10     |    h7f98852_1003          32 KB  conda-forge\n",
      "    xorg-renderproto-0.11.1    |    h7f98852_1002           9 KB  conda-forge\n",
      "    xorg-xextproto-7.3.0       |    h7f98852_1002          28 KB  conda-forge\n",
      "    xorg-xproto-7.0.31         |    h7f98852_1007          73 KB  conda-forge\n",
      "    ------------------------------------------------------------\n",
      "                                           Total:        43.2 MB\n",
      "\n",
      "The following NEW packages will be INSTALLED:\n",
      "\n",
      "  atk-1.0            anaconda/linux-64::atk-1.0-2.36.0-h28cd5cc_0\n",
      "  cairo              conda-forge/linux-64::cairo-1.16.0-h6cf1ce9_1008\n",
      "  click              anaconda/noarch::click-7.1.2-py_0\n",
      "  font-ttf-dejavu-s~ anaconda/noarch::font-ttf-dejavu-sans-mono-2.37-h6964260_0\n",
      "  font-ttf-inconsol~ anaconda/noarch::font-ttf-inconsolata-2.001-hcb22688_0\n",
      "  font-ttf-source-c~ anaconda/noarch::font-ttf-source-code-pro-2.030-h7457263_0\n",
      "  font-ttf-ubuntu    anaconda/noarch::font-ttf-ubuntu-0.83-h8b1ccd4_0\n",
      "  fonts-conda-ecosy~ conda-forge/noarch::fonts-conda-ecosystem-1-0\n",
      "  fonts-conda-forge  conda-forge/noarch::fonts-conda-forge-1-0\n",
      "  fribidi            anaconda/linux-64::fribidi-1.0.10-h7b6447c_0\n",
      "  gdk-pixbuf         conda-forge/linux-64::gdk-pixbuf-2.42.6-h04a7f16_0\n",
      "  gobject-introspec~ anaconda/linux-64::gobject-introspection-1.56.1-py38h56ee657_3\n",
      "  graphite2          anaconda/linux-64::graphite2-1.3.14-h23475e2_0\n",
      "  graphviz           conda-forge/linux-64::graphviz-2.47.3-h85b4f2f_0\n",
      "  gtk2               conda-forge/linux-64::gtk2-2.24.33-h539f30e_1\n",
      "  gts                conda-forge/linux-64::gts-0.7.6-h64030ff_2\n",
      "  harfbuzz           conda-forge/linux-64::harfbuzz-2.8.1-h83ec7ef_0\n",
      "  libgd              conda-forge/linux-64::libgd-2.3.2-h78a0170_0\n",
      "  librsvg            conda-forge/linux-64::librsvg-2.50.7-hc3c00ef_0\n",
      "  libtool            anaconda/linux-64::libtool-2.4.6-h7b6447c_1005\n",
      "  libwebp            conda-forge/linux-64::libwebp-1.2.0-h3452ae3_0\n",
      "  ninja              anaconda/linux-64::ninja-1.10.1-py38hfd86e86_0\n",
      "  pango              conda-forge/linux-64::pango-1.48.6-hb8ff022_0\n",
      "  pixman             anaconda/linux-64::pixman-0.40.0-h7b6447c_0\n",
      "  xorg-kbproto       conda-forge/linux-64::xorg-kbproto-1.0.7-h7f98852_1002\n",
      "  xorg-libice        conda-forge/linux-64::xorg-libice-1.0.10-h7f98852_0\n",
      "  xorg-libsm         conda-forge/linux-64::xorg-libsm-1.2.3-hd9c2040_1000\n",
      "  xorg-libx11        conda-forge/linux-64::xorg-libx11-1.7.2-h7f98852_0\n",
      "  xorg-libxext       conda-forge/linux-64::xorg-libxext-1.3.4-h7f98852_1\n",
      "  xorg-libxrender    conda-forge/linux-64::xorg-libxrender-0.9.10-h7f98852_1003\n",
      "  xorg-renderproto   conda-forge/linux-64::xorg-renderproto-0.11.1-h7f98852_1002\n",
      "  xorg-xextproto     conda-forge/linux-64::xorg-xextproto-7.3.0-h7f98852_1002\n",
      "  xorg-xproto        conda-forge/linux-64::xorg-xproto-7.0.31-h7f98852_1007\n",
      "\n",
      "The following packages will be SUPERSEDED by a higher-priority channel:\n",
      "\n",
      "  ca-certificates    conda-forge::ca-certificates-2021.5.3~ --> anaconda::ca-certificates-2020.10.14-0\n",
      "  certifi            conda-forge::certifi-2021.5.30-py38h5~ --> anaconda::certifi-2020.6.20-py38_0\n",
      "\n",
      "\n",
      "\n",
      "Downloading and Extracting Packages\n",
      "xorg-libsm-1.2.3     | 26 KB     | ##################################### | 100% \n",
      "ca-certificates-2020 | 128 KB    | ##################################### | 100% \n",
      "xorg-kbproto-1.0.7   | 27 KB     | ##################################### | 100% \n",
      "pixman-0.40.0        | 628 KB    | ##################################### | 100% \n",
      "libgd-2.3.2          | 299 KB    | ##################################### | 100% \n",
      "xorg-xproto-7.0.31   | 73 KB     | ##################################### | 100% \n",
      "gobject-introspectio | 1.3 MB    | ##################################### | 100% \n",
      "atk-1.0-2.36.0       | 523 KB    | ##################################### | 100% \n",
      "font-ttf-ubuntu-0.83 | 1.8 MB    | ##################################### | 100% \n",
      "libtool-2.4.6        | 503 KB    | ##################################### | 100% \n",
      "font-ttf-source-code | 922 KB    | ##################################### | 100% \n",
      "font-ttf-inconsolata | 95 KB     | ##################################### | 100% \n",
      "xorg-xextproto-7.3.0 | 28 KB     | ##################################### | 100% \n",
      "pango-1.48.6         | 399 KB    | ##################################### | 100% \n",
      "click-7.1.2          | 67 KB     | ##################################### | 100% \n",
      "xorg-libice-1.0.10   | 58 KB     | ##################################### | 100% \n",
      "fribidi-1.0.10       | 115 KB    | ##################################### | 100% \n",
      "xorg-libxext-1.3.4   | 54 KB     | ##################################### | 100% \n",
      "xorg-renderproto-0.1 | 9 KB      | ##################################### | 100% \n",
      "librsvg-2.50.7       | 17.0 MB   | ##################################### | 100% \n",
      "libwebp-1.2.0        | 85 KB     | ##################################### | 100% \n",
      "fonts-conda-ecosyste | 4 KB      | ##################################### | 100% \n",
      "harfbuzz-2.8.1       | 1.9 MB    | ##################################### | 100% \n",
      "gtk2-2.24.33         | 7.3 MB    | ##################################### | 100% \n",
      "xorg-libx11-1.7.2    | 941 KB    | ##################################### | 100% \n",
      "gts-0.7.6            | 411 KB    | ##################################### | 100% \n",
      "ninja-1.10.1         | 1.9 MB    | ##################################### | 100% \n",
      "certifi-2020.6.20    | 160 KB    | ##################################### | 100% \n",
      "gdk-pixbuf-2.42.6    | 609 KB    | ##################################### | 100% \n",
      "xorg-libxrender-0.9. | 32 KB     | ##################################### | 100% \n",
      "fonts-conda-forge-1  | 4 KB      | ##################################### | 100% \n",
      "graphite2-1.3.14     | 102 KB    | ##################################### | 100% \n",
      "graphviz-2.47.3      | 4.0 MB    | ##################################### | 100% \n",
      "font-ttf-dejavu-sans | 386 KB    | ##################################### | 100% \n",
      "cairo-1.16.0         | 1.5 MB    | ##################################### | 100% \n",
      "Preparing transaction: done\n",
      "Verifying transaction: done\n",
      "Executing transaction: / \n",
      "| \n",
      "done\n"
     ]
    }
   ],
   "source": [
    "!conda install -y -c anaconda graphviz"
   ]
  },
  {
   "cell_type": "code",
   "execution_count": 2,
   "id": "c8eab2d4",
   "metadata": {},
   "outputs": [],
   "source": [
    "import numpy as np\n",
    "import tensorflow as tf\n",
    "import transformers\n",
    "\n",
    "from transformers import (\n",
    "    TFDistilBertForSequenceClassification,\n",
    "    DistilBertTokenizerFast\n",
    ")"
   ]
  },
  {
   "cell_type": "code",
   "execution_count": 4,
   "id": "b513a07c",
   "metadata": {},
   "outputs": [],
   "source": [
    "model_name = 'distilbert-base-uncased'\n",
    "max_sequence_length = 256"
   ]
  },
  {
   "cell_type": "code",
   "execution_count": 5,
   "id": "6e7f17f4",
   "metadata": {},
   "outputs": [
    {
     "data": {
      "application/vnd.jupyter.widget-view+json": {
       "model_id": "336c7b1e3f7a40ea8608c874aa51a2ae",
       "version_major": 2,
       "version_minor": 0
      },
      "text/plain": [
       "Downloading:   0%|          | 0.00/442 [00:00<?, ?B/s]"
      ]
     },
     "metadata": {},
     "output_type": "display_data"
    },
    {
     "data": {
      "application/vnd.jupyter.widget-view+json": {
       "model_id": "6bc61574e8ad432f96b27f2f3da4a330",
       "version_major": 2,
       "version_minor": 0
      },
      "text/plain": [
       "Downloading:   0%|          | 0.00/363M [00:00<?, ?B/s]"
      ]
     },
     "metadata": {},
     "output_type": "display_data"
    },
    {
     "name": "stderr",
     "output_type": "stream",
     "text": [
      "2021-07-03 12:08:03.877554: I tensorflow/core/platform/cpu_feature_guard.cc:142] This TensorFlow binary is optimized with oneAPI Deep Neural Network Library (oneDNN) to use the following CPU instructions in performance-critical operations:  SSE4.1 SSE4.2 AVX AVX2 FMA\n",
      "To enable them in other operations, rebuild TensorFlow with the appropriate compiler flags.\n",
      "2021-07-03 12:08:03.927960: W tensorflow/python/util/util.cc:348] Sets are not currently considered sequences, but this may change in the future, so consider avoiding using them.\n",
      "2021-07-03 12:08:03.992480: W tensorflow/core/framework/cpu_allocator_impl.cc:80] Allocation of 93763584 exceeds 10% of free system memory.\n",
      "2021-07-03 12:08:05.125989: W tensorflow/core/framework/cpu_allocator_impl.cc:80] Allocation of 93763584 exceeds 10% of free system memory.\n",
      "2021-07-03 12:08:05.601892: W tensorflow/core/framework/cpu_allocator_impl.cc:80] Allocation of 93763584 exceeds 10% of free system memory.\n",
      "2021-07-03 12:08:13.849099: W tensorflow/core/framework/cpu_allocator_impl.cc:80] Allocation of 93763584 exceeds 10% of free system memory.\n",
      "2021-07-03 12:08:14.542948: W tensorflow/core/framework/cpu_allocator_impl.cc:80] Allocation of 93763584 exceeds 10% of free system memory.\n",
      "Some layers from the model checkpoint at distilbert-base-uncased were not used when initializing TFDistilBertForSequenceClassification: ['vocab_transform', 'vocab_projector', 'vocab_layer_norm', 'activation_13']\n",
      "- This IS expected if you are initializing TFDistilBertForSequenceClassification from the checkpoint of a model trained on another task or with another architecture (e.g. initializing a BertForSequenceClassification model from a BertForPreTraining model).\n",
      "- This IS NOT expected if you are initializing TFDistilBertForSequenceClassification from the checkpoint of a model that you expect to be exactly identical (initializing a BertForSequenceClassification model from a BertForSequenceClassification model).\n",
      "Some layers of TFDistilBertForSequenceClassification were not initialized from the model checkpoint at distilbert-base-uncased and are newly initialized: ['pre_classifier', 'dropout_19', 'classifier']\n",
      "You should probably TRAIN this model on a down-stream task to be able to use it for predictions and inference.\n"
     ]
    },
    {
     "data": {
      "application/vnd.jupyter.widget-view+json": {
       "model_id": "4b7d6157fe9b46f3b5edc08c9891f0c8",
       "version_major": 2,
       "version_minor": 0
      },
      "text/plain": [
       "Downloading:   0%|          | 0.00/232k [00:00<?, ?B/s]"
      ]
     },
     "metadata": {},
     "output_type": "display_data"
    },
    {
     "data": {
      "application/vnd.jupyter.widget-view+json": {
       "model_id": "5cb1a91b97934bb4b75d2f26b52e1338",
       "version_major": 2,
       "version_minor": 0
      },
      "text/plain": [
       "Downloading:   0%|          | 0.00/466k [00:00<?, ?B/s]"
      ]
     },
     "metadata": {},
     "output_type": "display_data"
    },
    {
     "data": {
      "application/vnd.jupyter.widget-view+json": {
       "model_id": "153982b3a2cd4687a1c1673f157c6074",
       "version_major": 2,
       "version_minor": 0
      },
      "text/plain": [
       "Downloading:   0%|          | 0.00/28.0 [00:00<?, ?B/s]"
      ]
     },
     "metadata": {},
     "output_type": "display_data"
    },
    {
     "name": "stdout",
     "output_type": "stream",
     "text": [
      "('You must install pydot (`pip install pydot`) and install graphviz (see instructions at https://graphviz.gitlab.io/download/) ', 'for plot_model/model_to_dot to work.')\n"
     ]
    }
   ],
   "source": [
    "model = TFDistilBertForSequenceClassification.from_pretrained(model_name)\n",
    "tokenizer = DistilBertTokenizerFast.from_pretrained(model_name)\n",
    "\n",
    "tf.keras.utils.plot_model(model, show_shapes=True, expand_nested=True, show_dtype=True)"
   ]
  },
  {
   "cell_type": "code",
   "execution_count": null,
   "id": "cde6383d",
   "metadata": {},
   "outputs": [],
   "source": []
  }
 ],
 "metadata": {
  "kernelspec": {
   "display_name": "Python 3 (ipykernel)",
   "language": "python",
   "name": "python3"
  },
  "language_info": {
   "codemirror_mode": {
    "name": "ipython",
    "version": 3
   },
   "file_extension": ".py",
   "mimetype": "text/x-python",
   "name": "python",
   "nbconvert_exporter": "python",
   "pygments_lexer": "ipython3",
   "version": "3.8.8"
  }
 },
 "nbformat": 4,
 "nbformat_minor": 5
}
