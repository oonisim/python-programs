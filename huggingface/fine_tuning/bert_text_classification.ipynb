{
 "cells": [
  {
   "cell_type": "markdown",
   "metadata": {
    "id": "hWzoi-FDxgtM"
   },
   "source": [
    "# BERT Fine Tuning (Transfer Learning)\n",
    "\n",
    "## Overview\n",
    "\n",
    "Step by step using BERT fine tuning with Hugginfac DistilBert base model.\n",
    "\n",
    "## Dependency\n",
    "\n",
    "Using the data for [Toxic Comment Classification Challenge](https://www.kaggle.com/c/jigsaw-toxic-comment-classification-challenge/data). Download **jigsaw-toxic-comment-classification-challenge.zip** and place it in the directory pointed by the **DATA_DIR** variable.\n",
    "\n",
    "## Limitations\n",
    "\n",
    "The [save_pretrained](https://huggingface.co/transformers/main_classes/model.html#transformers.PreTrainedModel.save_pretrained) method of the Huggingface Model class cannot be used on the fine-tuned model.\n",
    "\n",
    "## References\n",
    "\n",
    "* [A Visual Guide to Using BERT for the First Time](http://jalammar.github.io/a-visual-guide-to-using-bert-for-the-first-time/)\n",
    "\n",
    "* [Hugging Face Transformers: Fine-tuning DistilBERT for Binary Classification Tasks](https://towardsdatascience.com/hugging-face-transformers-fine-tuning-distilbert-for-binary-classification-tasks-490f1d192379)\n",
    "\n",
    "* [Training TFBertForSequenceClassification with custom X and Y data](https://stackoverflow.com/a/63295240/4281353)"
   ]
  },
  {
   "cell_type": "markdown",
   "metadata": {
    "id": "Y3KFBkjcknCD"
   },
   "source": [
    "---\n",
    "# Setups"
   ]
  },
  {
   "cell_type": "code",
   "execution_count": 1,
   "metadata": {
    "id": "Q3dPmX5_ZwzV"
   },
   "outputs": [],
   "source": [
    "import os\n",
    "import sys\n",
    "import gc\n",
    "import re\n",
    "import string\n",
    "import datetime\n",
    "import logging\n",
    "from pathlib import Path"
   ]
  },
  {
   "cell_type": "markdown",
   "metadata": {
    "id": "IJObPZ5z5WYH"
   },
   "source": [
    "## Constants"
   ]
  },
  {
   "cell_type": "code",
   "execution_count": 2,
   "metadata": {
    "colab": {
     "base_uri": "https://localhost:8080/"
    },
    "id": "VwVIZ3sF5Wms",
    "outputId": "7bce35c1-c4a2-4e56-cefb-b643c9f364ca"
   },
   "outputs": [
    {
     "name": "stdout",
     "output_type": "stream",
     "text": [
      "Enter TIMESTAMP e.g. 2021JUL012322 to identify this execution.2022MAR29\n",
      "Execution timestamp 2022MAR29\n"
     ]
    }
   ],
   "source": [
    "# To reduce the data volume to run through the training in short timeframe.\n",
    "TEST_MODE = False\n",
    "NUM_TEST_SAMPLES = 1000\n",
    "\n",
    "# --------------------------------------------------------------------------------\n",
    "## Execution recording (e.g. 2021JUL012322)\n",
    "# --------------------------------------------------------------------------------\n",
    "#TIMESTAMP = datetime.datetime.now().strftime(\"%Y%b%d%H%M\").upper()\n",
    "TIMESTAMP = input(\"Enter TIMESTAMP e.g. 2021JUL012322 to identify this execution.\") \n",
    "print(f\"Execution timestamp {TIMESTAMP}\")\n",
    "\n",
    "# --------------------------------------------------------------------------------\n",
    "# Directory to manage the data. \n",
    "# --------------------------------------------------------------------------------\n",
    "# Place jigsaw-toxic-comment-classification-challenge.zip in DATA_DIR\n",
    "DATA_DIR = \".\"      # Directory where immutable files are located\n",
    "BASE_DIR = \".\"      # Home directory of the project\n",
    "OUTPUT_DIR = BASE_DIR + os.path.sep + \"output\"   # Directory to save mutable files.\n",
    "\n",
    "# --------------------------------------------------------------------------------\n",
    "# Data Labels that classifies the type of the comment.\n",
    "# --------------------------------------------------------------------------------\n",
    "CATEGORIES = [\"toxic\", \"severe_toxic\", \"obscene\", \"threat\", \"insult\", \"identity_hate\"]\n",
    "\n",
    "# Target category\n",
    "CATEGORY = \"toxic\"\n",
    "\n",
    "# Flag to overwrite the cleaned data\n",
    "FORCE_OVERWRITE = False\n",
    "\n",
    "# --------------------------------------------------------------------------------\n",
    "# HuggingFace\n",
    "# --------------------------------------------------------------------------------\n",
    "MAX_SEQUENCE_LENGTH = 256   # Max token length to accept. 512 taks 1 hour/epoch on Google Colab\n",
    "MODEL_NAME = 'distilbert-base-uncased'\n",
    "\n",
    "# --------------------------------------------------------------------------------\n",
    "# Model\n",
    "# --------------------------------------------------------------------------------\n",
    "NUM_CLASSES = 1    # Number of classes/categories to classify\n",
    "TARGET_LABEL_INDEX = 0 if NUM_CLASSES == 1 else 1\n",
    "\n",
    "# Flag to freeze base model\n",
    "FREEZE_BASE_MODEL = False\n",
    "\n",
    "# Flag to add Dense(softmax) on top\n",
    "USE_SOFTMAX_LAYER = True\n",
    "\n",
    "# Flag to add custom classification layers on top of the base\n",
    "USE_CLASSIFICATION_LAYER = False\n",
    "if USE_CLASSIFICATION_LAYER == False:\n",
    "    # Base needs to be trainable with no classification head\n",
    "    FREEZE_BASE_MODEL = False\n",
    "\n",
    "    # Base model only generates logits. Hence without classification layer\n",
    "    # the base output needs to go through a Dense layer to reduce the output \n",
    "    # to NUM_CLASSES classes. It is an option not to use softmax in the last \n",
    "    # Dense layer and feed logits into the loss function.\n",
    "    USE_SOFTMAX_LAYER = True\n",
    "\n",
    "# Normalized output into the loss layer without softmax\n",
    "LOGITS_TO_LOSS = False if USE_SOFTMAX_LAYER else True\n"
   ]
  },
  {
   "cell_type": "markdown",
   "metadata": {
    "id": "W6fCHrZNTePV"
   },
   "source": [
    "## Environment Specifics\n",
    "### Google Colab\n",
    "\n",
    "Google Colab specific operations."
   ]
  },
  {
   "cell_type": "code",
   "execution_count": 3,
   "metadata": {
    "id": "LzCt--KyGh8i"
   },
   "outputs": [],
   "source": [
    "def google_colab_info():\n",
    "    \"\"\"Information on the Google Colab environment\n",
    "    \"\"\"\n",
    "    # --------------------------------------------------------------------------------\n",
    "    # GPU\n",
    "    # --------------------------------------------------------------------------------\n",
    "    gpu_info = !nvidia-smi\n",
    "    gpu_info = '\\n'.join(gpu_info)\n",
    "    if gpu_info.find('failed') >= 0:\n",
    "        print('Select the Runtime > \"Change runtime type\" menu to enable a GPU accelerator, ')\n",
    "        print('and then re-execute this cell.')\n",
    "    else:\n",
    "        print(gpu_info)\n",
    "\n",
    "    # --------------------------------------------------------------------------------\n",
    "    # Memory\n",
    "    # --------------------------------------------------------------------------------\n",
    "    from psutil import virtual_memory\n",
    "    ram_gb = virtual_memory().total / 1e9\n",
    "    print('Your runtime has {:.1f} gigabytes of available RAM\\n'.format(ram_gb))\n",
    "\n",
    "    if ram_gb < 20:\n",
    "        print('To enable a high-RAM runtime, select the Runtime > \"Change runtime type\"')\n",
    "        print('menu, and then select High-RAM in the Runtime shape dropdown. Then, ')\n",
    "        print('re-execute this cell.')\n",
    "    else:\n",
    "        print('You are using a high-RAM runtime!')"
   ]
  },
  {
   "cell_type": "code",
   "execution_count": 4,
   "metadata": {
    "colab": {
     "base_uri": "https://localhost:8080/"
    },
    "id": "zP1Ln4gxTgio",
    "outputId": "303dee60-c0b6-4756-9d23-f5a95bc8a0f0"
   },
   "outputs": [
    {
     "name": "stdout",
     "output_type": "stream",
     "text": [
      "Not using Google Colab environment.\n"
     ]
    }
   ],
   "source": [
    "try:\n",
    "    # --------------------------------------------------------------------------------\n",
    "    # Check if the environment is Google Colab.\n",
    "    # --------------------------------------------------------------------------------\n",
    "    import google.colab\n",
    "    IN_GOOGLE_COLAB = True\n",
    "    print(\"Using Google Colab environment.\")\n",
    "\n",
    "    # --------------------------------------------------------------------------------\n",
    "    # Show Google Colab information\n",
    "    # --------------------------------------------------------------------------------\n",
    "    google_colab_info()\n",
    "\n",
    "    # --------------------------------------------------------------------------------\n",
    "    # Mount Google drive\n",
    "    # --------------------------------------------------------------------------------\n",
    "    google.colab.drive.mount('/content/drive', force_remount=True)\n",
    "    \n",
    "    # --------------------------------------------------------------------------------\n",
    "    # Directory to manage the data\n",
    "    # --------------------------------------------------------------------------------\n",
    "    DATA_DIR = \"/content/drive/MyDrive/home/data/kaggle/toxic_comment_classification\"\n",
    "    BASE_DIR = \"/content/drive/MyDrive/home/repository/mon/huggingface/finetuning\"\n",
    "    OUTPUT_DIR = BASE_DIR + os.path.sep + \"output\"\n",
    "    \n",
    "except ModuleNotFoundError as e:\n",
    "    # if str(e) == \"No module named 'google.colab'\":\n",
    "    IN_GOOGLE_COLAB = False    \n",
    "    print(\"Not using Google Colab environment.\")\n",
    "\n",
    "except ValueError as e:\n",
    "    # https://stackoverflow.com/a/68203799/4281353\n",
    "    print(f\"{str(e)}: possible known issue https://stackoverflow.com/a/68203799/4281353\")\n",
    "    if os.path.isdir('/content/drive'):\n",
    "        !ls -lrt /content/drive\n",
    "        # !rm -rf /content/drive\n",
    "        # google.colab.drive.flush_and_unmount()\n",
    "    raise e\n",
    "    "
   ]
  },
  {
   "cell_type": "markdown",
   "metadata": {
    "id": "gcefqEMkA2IV"
   },
   "source": [
    "### Kaggle\n",
    "* [How to detect the environment that I'm running the notebook](https://www.kaggle.com/getting-started/147177)"
   ]
  },
  {
   "cell_type": "code",
   "execution_count": 5,
   "metadata": {
    "colab": {
     "base_uri": "https://localhost:8080/"
    },
    "id": "FWdp6UNWA2OL",
    "outputId": "fc5c2018-2279-40a3-d850-35bf18576ea5"
   },
   "outputs": [
    {
     "name": "stdout",
     "output_type": "stream",
     "text": [
      "os.environ.get('KAGGLE_KERNEL_RUN_TYPE','Localhost') == 'Localhost'\n",
      "os.environ.get('KAGGLE_KERNEL_RUN_TYPE','') == ''                   | We are running code on Localhost\n"
     ]
    }
   ],
   "source": [
    "import os\n",
    "print(f\"os.environ.get('KAGGLE_KERNEL_RUN_TYPE','Localhost') == '{os.environ.get('KAGGLE_KERNEL_RUN_TYPE', 'Localhost')}'\")\n",
    "\n",
    "if os.environ.get('KAGGLE_KERNEL_RUN_TYPE',''):\n",
    "    print(\"os.environ.get('KAGGLE_KERNEL_RUN_TYPE','')                         | We are running a Kaggle Notebook/Script - Could be Interactive or Batch Mode\")  \n",
    "    IN_KAGGLE = True\n",
    "\n",
    "if os.environ.get('KAGGLE_KERNEL_RUN_TYPE','') == 'Interactive':\n",
    "    print(\"os.environ.get('KAGGLE_KERNEL_RUN_TYPE','') == 'Interactive'        | We are running a Kaggle Notebook/Script - Interactive Mode\")\n",
    "    IN_KAGGLE = True\n",
    "\n",
    "if os.environ.get('KAGGLE_KERNEL_RUN_TYPE','') == 'Batch':\n",
    "    print(\"os.environ.get('KAGGLE_KERNEL_RUN_TYPE','') == 'Batch'              | We are running a Kaggle Notebook/Script - Batch Mode\")\n",
    "    IN_KAGGLE = True\n",
    "\n",
    "if os.environ.get('KAGGLE_KERNEL_RUN_TYPE','') == '':\n",
    "    print(\"os.environ.get('KAGGLE_KERNEL_RUN_TYPE','') == ''                   | We are running code on Localhost\")    \n",
    "    IN_KAGGLE = False\n",
    "\n",
    "if IN_KAGGLE:\n",
    "    # --------------------------------------------------------------------------------\n",
    "    # Directory to manage the data\n",
    "    # --------------------------------------------------------------------------------\n",
    "    DATA_DIR = \"/kaggle/input/jigsaw-toxic-comment-classification-challenge\"\n",
    "    OUTPUT_DIR = \"/kaggle/working\"\n"
   ]
  },
  {
   "cell_type": "markdown",
   "metadata": {
    "id": "R1LvcRYuxgtb"
   },
   "source": [
    "### Localhost"
   ]
  },
  {
   "cell_type": "code",
   "execution_count": 6,
   "metadata": {
    "collapsed": true,
    "id": "7us63roCxgtc"
   },
   "outputs": [
    {
     "name": "stdout",
     "output_type": "stream",
     "text": [
      "Looking in indexes: https://pypi.org/simple, https://pip.repos.neuron.amazonaws.com\n",
      "Requirement already satisfied: h5py in /home/ec2-user/anaconda3/envs/tensorflow2_p38/lib/python3.8/site-packages (3.6.0)\n",
      "Requirement already satisfied: pandas in /home/ec2-user/anaconda3/envs/tensorflow2_p38/lib/python3.8/site-packages (1.4.1)\n",
      "Requirement already satisfied: matplotlib in /home/ec2-user/anaconda3/envs/tensorflow2_p38/lib/python3.8/site-packages (3.5.1)\n",
      "Requirement already satisfied: numpy==1.20 in /home/ec2-user/anaconda3/envs/tensorflow2_p38/lib/python3.8/site-packages (1.20.0)\n",
      "Requirement already satisfied: python-dateutil>=2.8.1 in /home/ec2-user/anaconda3/envs/tensorflow2_p38/lib/python3.8/site-packages (from pandas) (2.8.2)\n",
      "Requirement already satisfied: pytz>=2020.1 in /home/ec2-user/anaconda3/envs/tensorflow2_p38/lib/python3.8/site-packages (from pandas) (2021.3)\n",
      "Requirement already satisfied: kiwisolver>=1.0.1 in /home/ec2-user/anaconda3/envs/tensorflow2_p38/lib/python3.8/site-packages (from matplotlib) (1.3.2)\n",
      "Requirement already satisfied: fonttools>=4.22.0 in /home/ec2-user/anaconda3/envs/tensorflow2_p38/lib/python3.8/site-packages (from matplotlib) (4.31.2)\n",
      "Requirement already satisfied: pyparsing>=2.2.1 in /home/ec2-user/anaconda3/envs/tensorflow2_p38/lib/python3.8/site-packages (from matplotlib) (3.0.6)\n",
      "Requirement already satisfied: pillow>=6.2.0 in /home/ec2-user/anaconda3/envs/tensorflow2_p38/lib/python3.8/site-packages (from matplotlib) (9.0.1)\n",
      "Requirement already satisfied: cycler>=0.10 in /home/ec2-user/anaconda3/envs/tensorflow2_p38/lib/python3.8/site-packages (from matplotlib) (0.11.0)\n",
      "Requirement already satisfied: packaging>=20.0 in /home/ec2-user/anaconda3/envs/tensorflow2_p38/lib/python3.8/site-packages (from matplotlib) (21.0)\n",
      "Requirement already satisfied: six>=1.5 in /home/ec2-user/anaconda3/envs/tensorflow2_p38/lib/python3.8/site-packages (from python-dateutil>=2.8.1->pandas) (1.16.0)\n",
      "\u001b[33mWARNING: You are using pip version 22.0.3; however, version 22.0.4 is available.\n",
      "You should consider upgrading via the '/home/ec2-user/anaconda3/envs/tensorflow2_p38/bin/python -m pip install --upgrade pip' command.\u001b[0m\u001b[33m\n",
      "\u001b[0m"
     ]
    }
   ],
   "source": [
    "if (not IN_GOOGLE_COLAB) and (not IN_KAGGLE):\n",
    "    !pip install -U h5py pandas matplotlib numpy==1.20"
   ]
  },
  {
   "cell_type": "markdown",
   "metadata": {
    "id": "KVDkx-1pky8C"
   },
   "source": [
    "## Modules\n",
    "\n",
    "Install and load Python modules required for the task."
   ]
  },
  {
   "cell_type": "raw",
   "metadata": {
    "colab": {
     "base_uri": "https://localhost:8080/"
    },
    "id": "brzFWR6YhqCF",
    "outputId": "8f3c30f7-7b5c-43c9-a4c1-0d2ad61a790f"
   },
   "source": [
    "!pip install -q -U setuptools wheel\n",
    "!pip install -q -U transformers\n",
    "!pip install -q -U line_profiler memory_profiler\n",
    "!pip install pydot\n",
    "!conda install -c conda-forge python-graphviz"
   ]
  },
  {
   "cell_type": "code",
   "execution_count": 7,
   "metadata": {
    "id": "9jaR9e-xkqNc"
   },
   "outputs": [],
   "source": [
    "import numpy as np\n",
    "import matplotlib.pyplot as plt\n",
    "%matplotlib inline"
   ]
  },
  {
   "cell_type": "code",
   "execution_count": 10,
   "metadata": {
    "id": "ofY8HgJPcu7K"
   },
   "outputs": [],
   "source": [
    "logging.disable(logging.WARNING)\n",
    "logging.basicConfig(level=logging.ERROR)"
   ]
  },
  {
   "cell_type": "code",
   "execution_count": 11,
   "metadata": {
    "colab": {
     "base_uri": "https://localhost:8080/",
     "height": 0
    },
    "id": "AFiq3iQjVDEL",
    "outputId": "67449936-fca2-4133-c575-07f921c5fbe3"
   },
   "outputs": [
    {
     "data": {
      "text/html": [
       "<style>\n",
       "table {float:left}\n",
       "</style>\n",
       "\n",
       "np.set_printoptions(threshold=sys.maxsize)\n",
       "np.set_printoptions(linewidth=1000) \n"
      ],
      "text/plain": [
       "<IPython.core.display.HTML object>"
      ]
     },
     "metadata": {},
     "output_type": "display_data"
    }
   ],
   "source": [
    "%%html\n",
    "<style>\n",
    "table {float:left}\n",
    "</style>\n",
    "\n",
    "np.set_printoptions(threshold=sys.maxsize)\n",
    "np.set_printoptions(linewidth=1000) "
   ]
  },
  {
   "cell_type": "code",
   "execution_count": 12,
   "metadata": {
    "id": "oLeUHOaJ1bt5"
   },
   "outputs": [],
   "source": [
    "import pandas as pd\n",
    "pd.options.display.max_colwidth = 1000   # Allow long string content in a cell"
   ]
  },
  {
   "cell_type": "code",
   "execution_count": 15,
   "metadata": {
    "id": "KJfDGer2Sqkh"
   },
   "outputs": [],
   "source": [
    "import tensorflow as tf\n",
    "os.environ['TF_CPP_MIN_LOG_LEVEL'] = '3'"
   ]
  },
  {
   "cell_type": "code",
   "execution_count": 16,
   "metadata": {},
   "outputs": [
    {
     "name": "stdout",
     "output_type": "stream",
     "text": [
      "Running on GPU\n",
      "GPU #0?\n"
     ]
    }
   ],
   "source": [
    "if tf.test.is_gpu_available():\n",
    "    print('Running on GPU')\n",
    "    print('GPU #0?')\n",
    "else:\n",
    "    print('Running on CPU')"
   ]
  },
  {
   "cell_type": "code",
   "execution_count": 17,
   "metadata": {
    "id": "8Fct7lHwa1yg"
   },
   "outputs": [],
   "source": [
    "import transformers\n",
    "from transformers import (\n",
    "    DistilBertTokenizerFast,\n",
    "    TFDistilBertModel,\n",
    ")\n",
    "\n",
    "# --------------------------------------------------------------------------------\n",
    "# Control log level (https://huggingface.co/transformers/main_classes/logging.html)\n",
    "# --------------------------------------------------------------------------------\n",
    "os.environ['TRANSFORMERS_VERBOSITY'] = \"error\"\n",
    "transformers.logging.set_verbosity(transformers.logging.ERROR)"
   ]
  },
  {
   "cell_type": "markdown",
   "metadata": {
    "id": "QcngPOCBW4R1"
   },
   "source": [
    "## Output directories"
   ]
  },
  {
   "cell_type": "code",
   "execution_count": 18,
   "metadata": {
    "id": "ga9RQLSUWuk3"
   },
   "outputs": [],
   "source": [
    "# Result output directory\n",
    "Path(OUTPUT_DIR).mkdir(parents=True, exist_ok=True)\n",
    "\n",
    "RESULT_DIRECTORY = f\"{OUTPUT_DIR}/run_{TIMESTAMP}\"\n",
    "Path(RESULT_DIRECTORY).mkdir(parents=True, exist_ok=True)\n",
    "\n",
    "if not os.access(RESULT_DIRECTORY, os.W_OK):\n",
    "    raise RuntimeError(f\"{RESULT_DIRECTORY} not writable\")\n",
    "\n",
    "MODEL_DIRECTORY = \"{parent}/model\".format(\n",
    "    parent=RESULT_DIRECTORY\n",
    ")\n",
    "Path(MODEL_DIRECTORY).mkdir(parents=True, exist_ok=True)\n",
    "MODEL_FILE = MODEL_DIRECTORY + os.path.sep + \"model.h5\"\n",
    "\n",
    "LOG_DIRECTORY = \"{parent}/log\".format(\n",
    "    parent=RESULT_DIRECTORY,\n",
    ")\n",
    "Path(LOG_DIRECTORY).mkdir(parents=True, exist_ok=True)"
   ]
  },
  {
   "cell_type": "markdown",
   "metadata": {
    "id": "AZ6FzRbuxLjJ"
   },
   "source": [
    "## Parameters"
   ]
  },
  {
   "cell_type": "code",
   "execution_count": 29,
   "metadata": {
    "id": "4i_2odwkxLtA"
   },
   "outputs": [],
   "source": [
    "# Model training\n",
    "NUM_EPOCHS = 3\n",
    "BATCH_SIZE = 32\n",
    "LEARNING_RATE = 1e-2 if FREEZE_BASE_MODEL else 5e-5\n",
    "L2 = 1e-3\n",
    "REDUCE_LR_PATIENCE = 1\n",
    "EARLY_STOP_PATIENCE = 3"
   ]
  },
  {
   "cell_type": "markdown",
   "metadata": {
    "id": "CByGibL5II6O"
   },
   "source": [
    "---\n",
    "# Toxic text data\n",
    "\n",
    "* [Toxic Comment Classification Challenge](jigsaw-toxic-comment-classification-challenge)\n",
    "\n",
    "> You are provided with a large number of Wikipedia comments which have been labeled by human raters for toxic behavior. "
   ]
  },
  {
   "cell_type": "code",
   "execution_count": 19,
   "metadata": {
    "id": "NXvCh3GqXtw7"
   },
   "outputs": [
    {
     "name": "stdout",
     "output_type": "stream",
     "text": [
      "Enter the data archive path./data/jigsaw-toxic-comment-classification-challenge.zip\"\n"
     ]
    }
   ],
   "source": [
    "if IN_GOOGLE_COLAB:\n",
    "    DATA_PATH=f\"{DATA_DIR}/jigsaw-toxic-comment-classification-challenge.zip\"\n",
    "elif IN_KAGGLE:\n",
    "    pass\n",
    "else:\n",
    "    DATA_PATH = input(\"Enter the data archive path\") "
   ]
  },
  {
   "cell_type": "code",
   "execution_count": 20,
   "metadata": {
    "colab": {
     "base_uri": "https://localhost:8080/"
    },
    "id": "Sz-5NlxtoB34",
    "outputId": "e193d3fe-4838-415c-a98d-0b80da105ea8"
   },
   "outputs": [
    {
     "name": "stdout",
     "output_type": "stream",
     "text": [
      "/bin/bash: -c: line 0: unexpected EOF while looking for matching `\"'\n",
      "/bin/bash: -c: line 1: syntax error: unexpected end of file\n",
      "Archive:  ./train.csv.zip\n",
      "  inflating: ./train.csv             \n",
      "Archive:  ./test.csv.zip\n",
      "  inflating: ./test.csv              \n",
      "Archive:  ./test_labels.csv.zip\n",
      "  inflating: ./test_labels.csv       \n"
     ]
    }
   ],
   "source": [
    "if not IN_KAGGLE:\n",
    "    !unzip -o $DATA_PATH -d $DATA_DIR || echo\n",
    "\n",
    "!unzip -o $DATA_DIR/train.csv.zip -d .\n",
    "!unzip -o $DATA_DIR/test.csv.zip -d .\n",
    "!unzip -o $DATA_DIR/test_labels.csv.zip -d ."
   ]
  },
  {
   "cell_type": "code",
   "execution_count": 21,
   "metadata": {
    "colab": {
     "base_uri": "https://localhost:8080/"
    },
    "id": "w7Id3UZspT7h",
    "outputId": "fe773350-f6c4-4c1d-ed56-bc04a8999bc9"
   },
   "outputs": [
    {
     "name": "stdout",
     "output_type": "stream",
     "text": [
      "Counts train:159571 test:153164\n"
     ]
    }
   ],
   "source": [
    "raw_train = pd.read_csv(\"./train.csv\")\n",
    "raw_test_data = pd.read_csv(\"./test.csv\")\n",
    "raw_test_label = pd.read_csv(\"./test_labels.csv\")\n",
    "raw_test = pd.merge(raw_test_data, raw_test_label, left_on='id', right_on='id', how='inner')\n",
    "\n",
    "if TEST_MODE:\n",
    "    raw_train = raw_train.head(NUM_TEST_SAMPLES)\n",
    "    raw_test = raw_test.head(NUM_TEST_SAMPLES // 2)\n",
    "\n",
    "print(f\"Counts train:{raw_train['id'].count()} test:{raw_test['id'].count()}\")"
   ]
  },
  {
   "cell_type": "code",
   "execution_count": 22,
   "metadata": {
    "colab": {
     "base_uri": "https://localhost:8080/",
     "height": 0
    },
    "id": "QKAe7wXMzOMd",
    "outputId": "789e9fa3-35c7-40b3-fb4f-03a9d70c45bf"
   },
   "outputs": [
    {
     "data": {
      "text/html": [
       "<div>\n",
       "<style scoped>\n",
       "    .dataframe tbody tr th:only-of-type {\n",
       "        vertical-align: middle;\n",
       "    }\n",
       "\n",
       "    .dataframe tbody tr th {\n",
       "        vertical-align: top;\n",
       "    }\n",
       "\n",
       "    .dataframe thead th {\n",
       "        text-align: right;\n",
       "    }\n",
       "</style>\n",
       "<table border=\"1\" class=\"dataframe\">\n",
       "  <thead>\n",
       "    <tr style=\"text-align: right;\">\n",
       "      <th></th>\n",
       "      <th>comment_text</th>\n",
       "      <th>toxic</th>\n",
       "    </tr>\n",
       "  </thead>\n",
       "  <tbody>\n",
       "    <tr>\n",
       "      <th>0</th>\n",
       "      <td>Explanation\\nWhy the edits made under my username Hardcore Metallica Fan were reverted? They weren't vandalisms, just closure on some GAs after I voted at New York Dolls FAC. And please don't remove the template from the talk page since I'm retired now.89.205.38.27</td>\n",
       "      <td>0</td>\n",
       "    </tr>\n",
       "    <tr>\n",
       "      <th>1</th>\n",
       "      <td>D'aww! He matches this background colour I'm seemingly stuck with. Thanks.  (talk) 21:51, January 11, 2016 (UTC)</td>\n",
       "      <td>0</td>\n",
       "    </tr>\n",
       "    <tr>\n",
       "      <th>2</th>\n",
       "      <td>Hey man, I'm really not trying to edit war. It's just that this guy is constantly removing relevant information and talking to me through edits instead of my talk page. He seems to care more about the formatting than the actual info.</td>\n",
       "      <td>0</td>\n",
       "    </tr>\n",
       "  </tbody>\n",
       "</table>\n",
       "</div>"
      ],
      "text/plain": [
       "                                                                                                                                                                                                                                                                comment_text  \\\n",
       "0  Explanation\\nWhy the edits made under my username Hardcore Metallica Fan were reverted? They weren't vandalisms, just closure on some GAs after I voted at New York Dolls FAC. And please don't remove the template from the talk page since I'm retired now.89.205.38.27   \n",
       "1                                                                                                                                                           D'aww! He matches this background colour I'm seemingly stuck with. Thanks.  (talk) 21:51, January 11, 2016 (UTC)   \n",
       "2                                  Hey man, I'm really not trying to edit war. It's just that this guy is constantly removing relevant information and talking to me through edits instead of my talk page. He seems to care more about the formatting than the actual info.   \n",
       "\n",
       "   toxic  \n",
       "0      0  \n",
       "1      0  \n",
       "2      0  "
      ]
     },
     "execution_count": 22,
     "metadata": {},
     "output_type": "execute_result"
    }
   ],
   "source": [
    "raw_train.loc[raw_train[CATEGORY] == 0].loc[:, ['comment_text', 'toxic']].head(3)"
   ]
  },
  {
   "cell_type": "code",
   "execution_count": 23,
   "metadata": {
    "colab": {
     "base_uri": "https://localhost:8080/",
     "height": 0
    },
    "id": "-NaP9KvTzJuZ",
    "outputId": "4c46566c-8985-4b76-a937-de0fa7592bb1"
   },
   "outputs": [
    {
     "data": {
      "text/html": [
       "<div>\n",
       "<style scoped>\n",
       "    .dataframe tbody tr th:only-of-type {\n",
       "        vertical-align: middle;\n",
       "    }\n",
       "\n",
       "    .dataframe tbody tr th {\n",
       "        vertical-align: top;\n",
       "    }\n",
       "\n",
       "    .dataframe thead th {\n",
       "        text-align: right;\n",
       "    }\n",
       "</style>\n",
       "<table border=\"1\" class=\"dataframe\">\n",
       "  <thead>\n",
       "    <tr style=\"text-align: right;\">\n",
       "      <th></th>\n",
       "      <th>comment_text</th>\n",
       "      <th>toxic</th>\n",
       "    </tr>\n",
       "  </thead>\n",
       "  <tbody>\n",
       "    <tr>\n",
       "      <th>6</th>\n",
       "      <td>COCKSUCKER BEFORE YOU PISS AROUND ON MY WORK</td>\n",
       "      <td>1</td>\n",
       "    </tr>\n",
       "    <tr>\n",
       "      <th>12</th>\n",
       "      <td>Hey... what is it..\\n@ | talk .\\nWhat is it... an exclusive group of some WP TALIBANS...who are good at destroying, self-appointed purist who GANG UP any one who asks them questions abt their ANTI-SOCIAL and DESTRUCTIVE (non)-contribution at WP?\\n\\nAsk Sityush to clean up his behavior than issue me nonsensical warnings...</td>\n",
       "      <td>1</td>\n",
       "    </tr>\n",
       "    <tr>\n",
       "      <th>16</th>\n",
       "      <td>Bye! \\n\\nDon't look, come or think of comming back! Tosser.</td>\n",
       "      <td>1</td>\n",
       "    </tr>\n",
       "  </tbody>\n",
       "</table>\n",
       "</div>"
      ],
      "text/plain": [
       "                                                                                                                                                                                                                                                                                                                           comment_text  \\\n",
       "6                                                                                                                                                                                                                                                                                          COCKSUCKER BEFORE YOU PISS AROUND ON MY WORK   \n",
       "12  Hey... what is it..\\n@ | talk .\\nWhat is it... an exclusive group of some WP TALIBANS...who are good at destroying, self-appointed purist who GANG UP any one who asks them questions abt their ANTI-SOCIAL and DESTRUCTIVE (non)-contribution at WP?\\n\\nAsk Sityush to clean up his behavior than issue me nonsensical warnings...   \n",
       "16                                                                                                                                                                                                                                                                          Bye! \\n\\nDon't look, come or think of comming back! Tosser.   \n",
       "\n",
       "    toxic  \n",
       "6       1  \n",
       "12      1  \n",
       "16      1  "
      ]
     },
     "execution_count": 23,
     "metadata": {},
     "output_type": "execute_result"
    }
   ],
   "source": [
    "raw_train.loc[raw_train[CATEGORY] > 0].loc[:, ['comment_text', 'toxic']].head(3)"
   ]
  },
  {
   "cell_type": "markdown",
   "metadata": {},
   "source": [
    "## Handle imbalanced data"
   ]
  },
  {
   "cell_type": "code",
   "execution_count": 24,
   "metadata": {
    "colab": {
     "base_uri": "https://localhost:8080/"
    },
    "id": "_ZCFG5Bv_53c",
    "outputId": "a9548112-61d5-46d8-9ea1-798fb31e9f4d"
   },
   "outputs": [
    {
     "name": "stdout",
     "output_type": "stream",
     "text": [
      "Counts train:275292 test:63978\n"
     ]
    }
   ],
   "source": [
    "def balance(\n",
    "    df, \n",
    "    data_col_name,\n",
    "    label_col_name,\n",
    "    retain_columns,\n",
    "    max_replication_ratio=sys.maxsize\n",
    "):\n",
    "    \"\"\"Balance the data volumes of positives and negatives\n",
    "    The negatives (label==0) has more volume than the positives has, hence\n",
    "    causing skewed data representation. To avoid the model from adapting to the\n",
    "    majority (negative), naively balance the volumes so that they have same size.\n",
    "\n",
    "    For the ratio = (negatives / positives), replicate positives 'ratio' times \n",
    "    to match the volume of negatives if ratio < max_replication_ratio.\n",
    "    When ratio > max_replication_ratio, replicate max_replication_ratio times\n",
    "    to the size = (positive_size * max_replication_ratio). Then take 'size'\n",
    "    volume randomly from negatives.\n",
    "\n",
    "    A portion of the negatives will not be used because of this balancing.\n",
    "\n",
    "    Args:\n",
    "        df: Pandas dataframe \n",
    "        data_col_name: Column name for the data\n",
    "        label_col_name: Column name for the label\n",
    "        retain_columns: Columns to retain in the dataframe to return\n",
    "    Returns: \n",
    "        Pandas dataframe with the ratin_columns.\n",
    "    \"\"\"\n",
    "    positive_indices = df.index[df[label_col_name]==1].tolist()\n",
    "    negative_indices = df.index[df[label_col_name]==0].tolist()\n",
    "    assert not bool(set(positive_indices) & set(negative_indices))\n",
    "\n",
    "    positive_size = len(positive_indices)\n",
    "    negative_size = len(negative_indices)\n",
    "    ratio = np.minimum(negative_size // positive_size, max_replication_ratio)\n",
    "\n",
    "    if ratio >= 2:\n",
    "        # Generate equal size of indices for positives and negatives. \n",
    "        target_positive_indices = ratio * positive_indices\n",
    "        target_negative_indices = np.random.choice(\n",
    "            a=negative_indices, \n",
    "            size=ratio * positive_size,\n",
    "            replace=False\n",
    "        ).tolist()\n",
    "        indices = target_positive_indices + target_negative_indices\n",
    "\n",
    "        # Extract [data, label] with equal size of positives and negatives\n",
    "        data = df.iloc[indices][\n",
    "            df.columns[df.columns.isin(retain_columns)]\n",
    "        ]\n",
    "\n",
    "    else: \n",
    "        data = df[\n",
    "            df.columns[df.columns.isin(retain_columns)]\n",
    "        ]\n",
    "    return data\n",
    "\n",
    "# Keep the raw non-mutated whereas train/test are mutated.\n",
    "train = balance(\n",
    "    df=raw_train, \n",
    "    data_col_name='comment_text', \n",
    "    label_col_name=CATEGORY,\n",
    "    retain_columns=['id', 'comment_text', CATEGORY]\n",
    ")\n",
    "test = raw_test[(raw_test[CATEGORY] >= 0)].copy()\n",
    "if test['id'].count() >= train['id'].count():\n",
    "    raise RuntimeError(\"Invalid counts. Verfity the train/test data.\")\n",
    "\n",
    "del raw_train, raw_test    \n",
    "gc.collect()\n",
    "\n",
    "print(f\"Counts train:{train['id'].count()} test:{test['id'].count()}\")"
   ]
  },
  {
   "cell_type": "markdown",
   "metadata": {
    "id": "5HO1WIV5F3h_"
   },
   "source": [
    "# Tokenize\n",
    "\n",
    "\n",
    "Convert sequence of strng words into sequence of integers called ```input_ids```.\n",
    "\n",
    "* [input_ids](https://huggingface.co/transformers/glossary.html#input-ids)\n",
    "\n",
    "> The input ids are often the only required parameters to be passed to the model as input. They are **token indices, numerical representations of tokens** building the sequences that will be used as input by the model.\n",
    "\n",
    "* [A Visual Guide to Using BERT for the First Time](http://jalammar.github.io/a-visual-guide-to-using-bert-for-the-first-time/)\n",
    "\n",
    "> ![bert-distilbert-tokenization-2-token-ids.png](data:image/png;base64,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)\n"
   ]
  },
  {
   "cell_type": "code",
   "execution_count": 25,
   "metadata": {
    "id": "i1nyJHHLF4TE"
   },
   "outputs": [],
   "source": [
    "tokenizer = DistilBertTokenizerFast.from_pretrained(\n",
    "    'distilbert-base-uncased',\n",
    "    do_lower_case=True\n",
    ")\n",
    "\n",
    "\n",
    "def tokenize(sentences, max_length=MAX_SEQUENCE_LENGTH, padding='max_length'):\n",
    "    \"\"\"Tokenize using the Huggingface tokenizer\n",
    "    Args: \n",
    "        sentences: String or list of string to tokenize\n",
    "        max_length: maximum token length that the tokenizer generates\n",
    "        padding: Padding method ['do_not_pad'|'longest'|'max_length']\n",
    "    \"\"\"\n",
    "    return tokenizer(\n",
    "        sentences,\n",
    "        truncation=True,\n",
    "        padding=padding,\n",
    "        max_length=max_length,\n",
    "        return_tensors=\"tf\"\n",
    "    )\n",
    "\n",
    "def decode(tokens):\n",
    "    \"\"\"Decode token ids back to string sequence\n",
    "    Args:\n",
    "        tokens: output of the tokenizer having the structure:\n",
    "                {'input_ids': <tf.Tensor>, 'attention_mask': <tf.Tensor>}\n",
    "    Returns: List of string sentence\n",
    "    \"\"\"\n",
    "    sentences = []\n",
    "    for sequence in tokens['input_ids']:\n",
    "        sentences.append(tokenizer.decode(sequence.numpy().tolist()))\n",
    "\n",
    "    return sentences"
   ]
  },
  {
   "cell_type": "markdown",
   "metadata": {
    "id": "Hr6EVWcoVSzt"
   },
   "source": [
    "When tokenized, ```i say hello``` (length 3) is padded with a special token ```[PAD]``` to match ```you say good bye``` (length 4). Hence the ```atttention_mask``` for ```i say hello``` has ```0``` at the end as in ```[1, 1, 1, 1, 1, 0]```."
   ]
  },
  {
   "cell_type": "markdown",
   "metadata": {
    "id": "ikDgxo4qKD5K"
   },
   "source": [
    "---\n",
    "# Transfer learning (Fine tuning)\n"
   ]
  },
  {
   "cell_type": "markdown",
   "metadata": {
    "id": "COJDRRHUBOW2"
   },
   "source": [
    "## BERT base model from Huggingface\n",
    "\n",
    "* [Hugging Face Transformers: Fine-tuning DistilBERT for Binary Classification Tasks](https://towardsdatascience.com/hugging-face-transformers-fine-tuning-distilbert-for-binary-classification-tasks-490f1d192379)\n",
    "\n",
    "> TFDistilBertModel class to instantiate the base DistilBERT model **without any specific head on top** (as opposed to other classes such as TFDistilBertForSequenceClassification that do have an added classification head). <br><br>\n",
    "We do not want any task-specific head attached because we simply want the pre-trained weights of the base model to provide a general understanding of the English language, and it will be our job to add our own classification head during the fine-tuning process in order to help the model distinguish between toxic comments.\n",
    "\n"
   ]
  },
  {
   "cell_type": "code",
   "execution_count": 26,
   "metadata": {
    "colab": {
     "base_uri": "https://localhost:8080/"
    },
    "id": "eJGKS8epFSHq",
    "outputId": "337b9c75-54ff-4bf0-ae1a-81fea42cd92d"
   },
   "outputs": [
    {
     "name": "stdout",
     "output_type": "stream",
     "text": [
      "Model: \"tf_distil_bert_model\"\n",
      "_________________________________________________________________\n",
      " Layer (type)                Output Shape              Param #   \n",
      "=================================================================\n",
      " distilbert (TFDistilBertMai  multiple                 66362880  \n",
      " nLayer)                                                         \n",
      "                                                                 \n",
      "=================================================================\n",
      "Total params: 66,362,880\n",
      "Trainable params: 66,362,880\n",
      "Non-trainable params: 0\n",
      "_________________________________________________________________\n"
     ]
    }
   ],
   "source": [
    "base = TFDistilBertModel.from_pretrained(\n",
    "    MODEL_NAME,\n",
    ")\n",
    "base.summary()"
   ]
  },
  {
   "cell_type": "code",
   "execution_count": 27,
   "metadata": {
    "colab": {
     "base_uri": "https://localhost:8080/"
    },
    "id": "PQMJuF1xop8u",
    "outputId": "97910494-b917-4e19-ef24-71d3f6d0f098"
   },
   "outputs": [],
   "source": [
    "NUM_BASE_MODEL_OUTPUT = 768"
   ]
  },
  {
   "cell_type": "code",
   "execution_count": 28,
   "metadata": {
    "id": "XHtU-S5ZH0JR"
   },
   "outputs": [],
   "source": [
    "test_tokens = tokenize([\n",
    "    \"i am a cat who has no name.\",\n",
    "    \"to be or not to be.\"\n",
    "])\n",
    "TEST_BATCH_SIZE = len(test_tokens)"
   ]
  },
  {
   "cell_type": "markdown",
   "metadata": {},
   "source": [
    "## Keras model structure of BERT fine tuning\n",
    "\n",
    "\n",
    "![fine_tuning_on_base_bert.jpg](data:image/jpeg;base64,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)\n"
   ]
  },
  {
   "cell_type": "markdown",
   "metadata": {
    "id": "0yNVVSrqBjGF"
   },
   "source": [
    "### Text Input layer\n",
    "\n",
    "The base model expects ```input_ids``` and ```attention_mask``` whose shape is ```(max_sequence_length,)```. Generate Keras Tensors for them with ```Input``` layer respectively and generate the output from the base model. The base model generates ```TFBaseModelOutput```. Feed the embedding of **```[CLS]```** to the next layer."
   ]
  },
  {
   "cell_type": "code",
   "execution_count": 30,
   "metadata": {
    "id": "0f0pxa46FaNJ"
   },
   "outputs": [],
   "source": [
    "# Inputs for token indices and attention masks\n",
    "input_ids = tf.keras.layers.Input(shape=(MAX_SEQUENCE_LENGTH,), dtype=tf.int32, name='input_ids')\n",
    "attention_mask = tf.keras.layers.Input((MAX_SEQUENCE_LENGTH,), dtype=tf.int32, name='attention_mask')"
   ]
  },
  {
   "cell_type": "markdown",
   "metadata": {
    "id": "C68FtWUmLSnn"
   },
   "source": [
    "### Base BERT layer"
   ]
  },
  {
   "cell_type": "code",
   "execution_count": 31,
   "metadata": {
    "id": "YmaxBIYRLS-2"
   },
   "outputs": [],
   "source": [
    "# TFBaseModelOutput.last_hidden_state has shape (batch_size, max_sequence_length, 768)\n",
    "# Each sequence has [CLS]...[SEP] structure of shape (max_sequence_length, 768)\n",
    "# Extract [CLS] embeddings of shape (batch_size, 768) as last_hidden_state[:, 0, :]\n",
    "output = base([input_ids, attention_mask]).last_hidden_state[:, 0, :]"
   ]
  },
  {
   "cell_type": "markdown",
   "metadata": {
    "id": "QiRH0rNlBozK"
   },
   "source": [
    "### Classification layer"
   ]
  },
  {
   "cell_type": "code",
   "execution_count": 32,
   "metadata": {
    "id": "6CMPg95geydT"
   },
   "outputs": [],
   "source": [
    "if USE_CLASSIFICATION_LAYER:\n",
    "    # -------------------------------------------------------------------------------\n",
    "    # Classifiation leayer 01\n",
    "    # --------------------------------------------------------------------------------\n",
    "    output = tf.keras.layers.Dropout(\n",
    "        rate=0.15,\n",
    "        name=\"01_dropout\",\n",
    "    )(output)\n",
    "    \n",
    "    output = tf.keras.layers.Dense(\n",
    "        units=NUM_BASE_MODEL_OUTPUT,\n",
    "        kernel_initializer='glorot_uniform',\n",
    "        activation=None,\n",
    "        name=\"01_dense_relu_no_regularizer\",\n",
    "    )(output)\n",
    "    output = tf.keras.layers.BatchNormalization(\n",
    "        name=\"01_bn\"\n",
    "    )(output)\n",
    "    output = tf.keras.layers.Activation(\n",
    "        \"relu\",\n",
    "        name=\"01_relu\"\n",
    "    )(output)\n",
    "\n",
    "    # --------------------------------------------------------------------------------\n",
    "    # Classifiation leayer 02\n",
    "    # --------------------------------------------------------------------------------\n",
    "    output = tf.keras.layers.Dense(\n",
    "        units=NUM_BASE_MODEL_OUTPUT,\n",
    "        kernel_initializer='glorot_uniform',\n",
    "        activation=None,\n",
    "        name=\"02_dense_relu_no_regularizer\",\n",
    "    )(output)\n",
    "    output = tf.keras.layers.BatchNormalization(\n",
    "        name=\"02_bn\"\n",
    "    )(output)\n",
    "    output = tf.keras.layers.Activation(\n",
    "        \"relu\",\n",
    "        name=\"02_relu\"\n",
    "    )(output)"
   ]
  },
  {
   "cell_type": "markdown",
   "metadata": {
    "id": "34EztCHyepBW"
   },
   "source": [
    "### Output layer\n"
   ]
  },
  {
   "cell_type": "code",
   "execution_count": 33,
   "metadata": {
    "id": "PwuLN8ICIQ3i"
   },
   "outputs": [],
   "source": [
    "# --------------------------------------------------------------------------------\n",
    "# TODO:\n",
    "#    Need to verify the effect of regularizers. \n",
    "#\n",
    "#    [bias regularizer]\n",
    "#    It looks bias_regularizer adjusts the ROC threshold towards 0.5. \n",
    "#    Without it, the threshold of the ROC with BinaryCrossEntropy loss was approx 0.02.\n",
    "#    With    it, the threshold of the ROC with BinaryCrossEntropy loss was approx 0.6.\n",
    "# --------------------------------------------------------------------------------\n",
    "activation = \"sigmoid\" if NUM_CLASSES == 1 else \"softmax\"\n",
    "if USE_SOFTMAX_LAYER:\n",
    "    LIGITS_TO_LOSS = False\n",
    "    output = tf.keras.layers.Dense(\n",
    "        units=NUM_CLASSES,\n",
    "        kernel_initializer='glorot_uniform',\n",
    "        kernel_regularizer=tf.keras.regularizers.l2(l2=L2),\n",
    "        bias_regularizer=tf.keras.regularizers.l2(l2=L2),\n",
    "        # activity_regularizer=tf.keras.regularizers.l2(l2=L2/10.0),\n",
    "        activation=activation,\n",
    "        name=activation\n",
    "    )(output)"
   ]
  },
  {
   "cell_type": "markdown",
   "metadata": {
    "id": "rim1nnGccoHC"
   },
   "source": [
    "## Keras model"
   ]
  },
  {
   "cell_type": "code",
   "execution_count": 34,
   "metadata": {
    "colab": {
     "base_uri": "https://localhost:8080/"
    },
    "id": "hlDaGgrFBoBv",
    "outputId": "5ad5a9c9-23fa-466a-e97c-ce4d915e4348"
   },
   "outputs": [
    {
     "name": "stdout",
     "output_type": "stream",
     "text": [
      "Model: \"2022MAR29_DISTILBERT-BASE-UNCASED\"\n",
      "__________________________________________________________________________________________________\n",
      " Layer (type)                   Output Shape         Param #     Connected to                     \n",
      "==================================================================================================\n",
      " input_ids (InputLayer)         [(None, 256)]        0           []                               \n",
      "                                                                                                  \n",
      " attention_mask (InputLayer)    [(None, 256)]        0           []                               \n",
      "                                                                                                  \n",
      " tf_distil_bert_model (TFDistil  TFBaseModelOutput(l  66362880   ['input_ids[0][0]',              \n",
      " BertModel)                     ast_hidden_state=(N               'attention_mask[0][0]']         \n",
      "                                one, 256, 768),                                                   \n",
      "                                 hidden_states=None                                               \n",
      "                                , attentions=None)                                                \n",
      "                                                                                                  \n",
      " tf.__operators__.getitem (Slic  (None, 768)         0           ['tf_distil_bert_model[0][0]']   \n",
      " ingOpLambda)                                                                                     \n",
      "                                                                                                  \n",
      " sigmoid (Dense)                (None, 1)            769         ['tf.__operators__.getitem[0][0]'\n",
      "                                                                 ]                                \n",
      "                                                                                                  \n",
      "==================================================================================================\n",
      "Total params: 66,363,649\n",
      "Trainable params: 66,363,649\n",
      "Non-trainable params: 0\n",
      "__________________________________________________________________________________________________\n"
     ]
    }
   ],
   "source": [
    "name = f\"{TIMESTAMP}_{MODEL_NAME.upper()}\"\n",
    "model = tf.keras.models.Model(inputs=[input_ids, attention_mask], outputs=output, name=name)\n",
    "\n",
    "if NUM_CLASSES == 1:\n",
    "    METRIC_NAME = \"auc\"\n",
    "    MONITOR_METRIC = f\"val_{METRIC_NAME}\"\n",
    "    MONITOR_MODE = 'max'\n",
    "    loss_fn=tf.keras.losses.BinaryCrossentropy(from_logits=LIGITS_TO_LOSS)\n",
    "    metrics=[tf.keras.metrics.AUC(from_logits=LIGITS_TO_LOSS, name=METRIC_NAME), \"accuracy\"]\n",
    "else:\n",
    "    METRIC_NAME = \"accuracy\"\n",
    "    MONITOR_METRIC = \"val_loss\"\n",
    "    MONITOR_MODE = 'min'\n",
    "    loss_fn=tf.keras.losses.SparseCategoricalCrossentropy(from_logits=LIGITS_TO_LOSS)\n",
    "    # metrics=[tf.keras.metrics.Accuracy(name=METRIC_NAME)]\n",
    "    metrics=[\"accuracy\"]\n",
    "\n",
    "model.compile(\n",
    "    optimizer=tf.keras.optimizers.Adam(learning_rate=LEARNING_RATE),\n",
    "    loss=loss_fn,\n",
    "    metrics=metrics\n",
    ")\n",
    "model.summary()"
   ]
  },
  {
   "cell_type": "code",
   "execution_count": 35,
   "metadata": {
    "colab": {
     "base_uri": "https://localhost:8080/",
     "height": 422
    },
    "id": "0f4B5ZmaAKts",
    "outputId": "e8319295-fc7c-4d91-e825-c7c53bbbd13e"
   },
   "outputs": [
    {
     "name": "stdout",
     "output_type": "stream",
     "text": [
      "huggingface/tokenizers: The current process just got forked, after parallelism has already been used. Disabling parallelism to avoid deadlocks...\n",
      "To disable this warning, you can either:\n",
      "\t- Avoid using `tokenizers` before the fork if possible\n",
      "\t- Explicitly set the environment variable TOKENIZERS_PARALLELISM=(true | false)\n",
      "huggingface/tokenizers: The current process just got forked, after parallelism has already been used. Disabling parallelism to avoid deadlocks...\n",
      "To disable this warning, you can either:\n",
      "\t- Avoid using `tokenizers` before the fork if possible\n",
      "\t- Explicitly set the environment variable TOKENIZERS_PARALLELISM=(true | false)\n"
     ]
    },
    {
     "data": {
      "image/png": "[encoded data removed]",
      "text/plain": [
       "<IPython.core.display.Image object>"
      ]
     },
     "execution_count": 35,
     "metadata": {},
     "output_type": "execute_result"
    }
   ],
   "source": [
    "tf.keras.utils.plot_model(\n",
    "    model, \n",
    "    show_shapes=True, \n",
    "    expand_nested=True, \n",
    "    show_dtype=True\n",
    ")"
   ]
  },
  {
   "cell_type": "markdown",
   "metadata": {
    "id": "LRsBUXNlTfTf"
   },
   "source": [
    "### Model Utilities"
   ]
  },
  {
   "cell_type": "code",
   "execution_count": 36,
   "metadata": {
    "id": "T1ue2UooTfTg"
   },
   "outputs": [],
   "source": [
    "def generate_target_predictions(num_classes, index):\n",
    "    \"\"\"Extract predictions for the label at the index position.\n",
    "    With N labels/classes e.g 0, 1, 2 and predictions are [[0.3, 0.2, 0.5]]\n",
    "    predictions_for_label(3, 1) to extract the prediction '0.2' for the label at index '1'\n",
    "\n",
    "    For binary classification with sigmoid where num_classes==1, extract [:, 0]\n",
    "    For binary classification with softmax where num_classes==2, extract [:, 1]\n",
    "\n",
    "    Args:\n",
    "        predictions: Tensor or Numpy array of shape (batch_size, num_classes)\n",
    "        num_classes: Number of labels.\n",
    "        index: Index of the target predictions.\n",
    "    Returns: numpy 1D array of predictions at the index [:, index]\n",
    "    \"\"\"\n",
    "    assert 0 <= index < num_classes\n",
    "    assert index == 0 if num_classes == 1 else ...\n",
    "    def f(predictions):\n",
    "        if tf.is_tensor(predictions):\n",
    "            predictions = predictions.numpy()\n",
    "        elif isinstance(predictions, np.ndarray):\n",
    "            pass\n",
    "        else:\n",
    "            raise RuntimeError(f\"Unexpected prediction type {type(predictions)}\")\n",
    "        \n",
    "        assert predictions.shape[-1] == num_classes, \\\n",
    "            f\"Expected shape is (batch_size, {num_classes}). Got {predictions.shape}\"\n",
    "        \n",
    "        return predictions[:, index]\n",
    "        \n",
    "    return f\n",
    "\n",
    "\n",
    "get_target_predictions = generate_target_predictions(num_classes=NUM_CLASSES, index=TARGET_LABEL_INDEX)\n",
    "def predict(model, tokens):\n",
    "    return get_target_predictions(model.predict(dict(tokens)))\n",
    "\n",
    "\n",
    "import sklearn.metrics\n",
    "def evaluate_roc(predictions, labels, title):\n",
    "    preds = predictions\n",
    "    fpr, tpr, thresholds = sklearn.metrics.roc_curve(labels, preds)\n",
    "    roc_auc = sklearn.metrics.auc(fpr, tpr)\n",
    "    # print(f'AUC: {roc_auc:.4f}')\n",
    "\n",
    "    threshold = thresholds[np.argmax(tpr - fpr)]\n",
    "    # print(f'Threshold: {threshold:.5f}')\n",
    "    \n",
    "    # Get accuracy over the test set\n",
    "    y_pred = np.where(preds >= threshold, 1, 0)\n",
    "    accuracy = sklearn.metrics.accuracy_score(labels, y_pred)\n",
    "    # print(f'Accuracy: {accuracy * 100:.2f}%')\n",
    "\n",
    "    # Plot ROC AUC\n",
    "    plt.figure(figsize=(6, 4))\n",
    "    plt.title(f'{title}')\n",
    "    plt.plot(fpr, tpr, 'b', label='AUC = %0.2f' % roc_auc)\n",
    "    plt.legend(loc='lower right')\n",
    "    plt.plot([0, 1], [0, 1], 'r--')\n",
    "    plt.grid(which='major', b=False, linestyle='--')\n",
    "    plt.grid(which='minor', alpha=0.2, linestyle='--')\n",
    "    plt.xlim([0, 1])\n",
    "    plt.ylim([0, 1])\n",
    "    plt.ylabel('True Positive Rate')\n",
    "    plt.xlabel('False Positive Rate')\n",
    "    plt.show()\n",
    "    \n",
    "    # --------------------------------------------------------------------------------\n",
    "    # Optimal Threshold\n",
    "    # --------------------------------------------------------------------------------\n",
    "    return roc_auc, accuracy, threshold"
   ]
  },
  {
   "cell_type": "markdown",
   "metadata": {
    "id": "5IeLVGtITfTg"
   },
   "source": [
    "### Model validations"
   ]
  },
  {
   "cell_type": "code",
   "execution_count": 37,
   "metadata": {
    "id": "NwiIkOnaTfTg"
   },
   "outputs": [],
   "source": [
    "test_model_output = model(test_tokens)\n",
    "test_predictions = predict(model, test_tokens)\n",
    "assert test_model_output.shape == (TEST_BATCH_SIZE, NUM_CLASSES)\n",
    "assert test_predictions.shape == (TEST_BATCH_SIZE,)\n",
    "assert np.all(0 < test_predictions) and np.all(test_predictions < 1)"
   ]
  },
  {
   "cell_type": "markdown",
   "metadata": {
    "id": "5bp2VT2ohkKD"
   },
   "source": [
    "### Keras callbacks\n",
    "\n",
    "Utilize [Keras Callbacks API](https://keras.io/api/callbacks/) to apply Eary Stopping, Reduce Learning Rate, and TensorBoard during the model training.\n",
    "\n"
   ]
  },
  {
   "cell_type": "code",
   "execution_count": 38,
   "metadata": {
    "id": "Fc67_HTf0zyO"
   },
   "outputs": [],
   "source": [
    "from sklearn.metrics import roc_auc_score\n",
    "from keras import backend\n",
    "\n",
    "\n",
    "class ROCCallback(tf.keras.callbacks.Callback):\n",
    "    \"\"\"calculate ROC&AUC\n",
    "    \"\"\"\n",
    "    def __init__(\n",
    "        self, \n",
    "        validation_data, \n",
    "        validation_label, \n",
    "        output_path, \n",
    "        reduce_lr_patiene = 3,\n",
    "        reduce_lr_factor = 0.2,\n",
    "        early_stop_patience=sys.maxsize, \n",
    "        verbose=True\n",
    "    ):\n",
    "        assert 0.0 < reduce_lr_factor < 1.0\n",
    "        assert 0 < reduce_lr_patiene\n",
    "        assert 0 < early_stop_patience        \n",
    "\n",
    "        self.x = validation_data\n",
    "        self.y = validation_label\n",
    "        self.output_path = output_path\n",
    "        self.reduce_lr_patiene = reduce_lr_patiene\n",
    "        self.reduce_lr_factor = reduce_lr_factor\n",
    "        self.early_stop_patience = early_stop_patience\n",
    "        self.verbose = verbose    \n",
    "\n",
    "        self.max_value = 0\n",
    "        self.best_epoch = -1\n",
    "        self.successive_no_improvement = 0\n",
    "        self.total_no_improvement = 0\n",
    "\n",
    "    def on_train_begin(self, logs={}):\n",
    "        return\n",
    "\n",
    "    def on_train_end(self, logs={}):\n",
    "        return\n",
    "\n",
    "    def on_epoch_begin(self, epoch, logs={}):\n",
    "        return\n",
    "\n",
    "    def _reduce_learning_rate(self):\n",
    "        old_lr = backend.get_value(self.model.optimizer.lr)\n",
    "        new_lr = old_lr * self.reduce_lr_factor\n",
    "        backend.set_value(self.model.optimizer.lr, new_lr)\n",
    "        self.successive_no_improvement = 0\n",
    "        if self.verbose:\n",
    "            print(f\"Reducing learning rate to {new_lr}.\")\n",
    "            \n",
    "    def _early_stop(self):\n",
    "        self.model.stop_training = True\n",
    "        self.total_no_improvement = 0\n",
    "        if self.verbose:\n",
    "            print(\n",
    "                \"Early stopping: total no improvement [%s] times. best epoch [%s] AUC [%s]\" % \n",
    "                (self.total_no_improvement, self.best_epoch, self.max_value)\n",
    "            )\n",
    "            \n",
    "    def on_epoch_end(self, epoch, logs={}):\n",
    "        # [print(f\"{k}:{v}\") for k, v in logs.items()]\n",
    "        predictions = self.model.predict(self.x)\n",
    "        score = roc_auc_score(self.y, predictions)\n",
    "\n",
    "        if (self.best_epoch < 0) or (score > self.max_value):\n",
    "            # --------------------------------------------------------------------------------\n",
    "            # Save the model upon improvement\n",
    "            # --------------------------------------------------------------------------------\n",
    "            if self.verbose:\n",
    "                print(f\"Model auc improved [{score} > {self.max_value:0.5f}]: Saving to {self.output_path}\")\n",
    "\n",
    "            self.max_value = score\n",
    "            self.best_epoch = epoch\n",
    "            self.model.save_weights(\n",
    "                self.output_path, overwrite=True, save_format='h5'\n",
    "            )\n",
    "\n",
    "            # Reset counters\n",
    "            self.successive_no_improvement = 0\n",
    "            \n",
    "            # The AUC can not improve than 1.0. Early stop.\n",
    "            if score > (1.0 - 1e-10):\n",
    "                self._early_stop()\n",
    "\n",
    "        else:\n",
    "            print(f\"AUC did not improve from [{self.max_value:0.5f}].\")\n",
    "            # --------------------------------------------------------------------------------\n",
    "            # Reduce LR\n",
    "            # --------------------------------------------------------------------------------\n",
    "            self.successive_no_improvement += 1\n",
    "            if self.successive_no_improvement >= self.reduce_lr_patiene:\n",
    "                self._reduce_learning_rate()\n",
    "                \n",
    "            # --------------------------------------------------------------------------------\n",
    "            # Early Stop\n",
    "            # --------------------------------------------------------------------------------\n",
    "            self.total_no_improvement += 1\n",
    "            if self.total_no_improvement >= self.early_stop_patience:\n",
    "                self._early_stop()\n",
    "        \n",
    "    def on_batch_begin(self, batch, logs={}):\n",
    "        return\n",
    "\n",
    "    def on_batch_end(self, batch, logs={}):\n",
    "        return\n",
    "\n",
    "\n",
    "class SavePretrainedCallback(tf.keras.callbacks.Callback):\n",
    "    \"\"\"\n",
    "    This is only for directly working on the Huggingface models.\n",
    "    \n",
    "    Hugging Face models have a save_pretrained() method that saves both \n",
    "    the weights and the necessary metadata to allow them to be loaded as \n",
    "    a pretrained model in future. This is a simple Keras callback that \n",
    "    saves the model with this method after each epoch.\n",
    "    \n",
    "    \"\"\"\n",
    "    def __init__(self, output_dir, monitor='val_loss', mode='auto', verbose=True):\n",
    "        super().__init__()\n",
    "        self.output_dir = output_dir\n",
    "        self.monitor = monitor\n",
    "        self.mode = mode\n",
    "        self.verbose = verbose\n",
    "\n",
    "        self.lowest_val_loss=np.inf\n",
    "        self.best_epoch = -1\n",
    "        \n",
    "    def on_epoch_end(self, epoch, logs={}):\n",
    "        \"\"\"\n",
    "        Save only the best model\n",
    "        - https://stackoverflow.com/a/68042600/4281353\n",
    "        - https://www.tensorflow.org/guide/keras/custom_callback\n",
    "        \n",
    "        TODO: \n",
    "        save_pretrained() method is in the HuggingFace model only.\n",
    "        Need to implement an logic to update for Keras model saving.\n",
    "        \"\"\"\n",
    "        assert self.monitor in logs, \\\n",
    "            f\"monitor metric {self.monitor} not in valid metrics {logs.keys()}\"\n",
    "        \n",
    "        val_loss=logs.get(monitor)\n",
    "        if (self.best_epoch < 0) or (val_loss < self.lowest_val_loss):\n",
    "            if self.verbose:\n",
    "                print(f\"Model val_loss improved: [{val_loss} < {self.lowest_val_loss}]\")\n",
    "                print(f\"Saving to {self.output_dir}\")\n",
    "            self.lowest_val_loss = val_loss\n",
    "            self.best_epoch = epoch\n",
    "            self.model.save_pretrained(self.output_dir)\n",
    "\n",
    "\n",
    "class TensorBoardCallback(tf.keras.callbacks.TensorBoard):\n",
    "    \"\"\"TensorBoard visualization of the model training\n",
    "    See https://keras.io/api/callbacks/tensorboard/\n",
    "    \"\"\"\n",
    "    def __init__(self, output_directory):\n",
    "        super().__init__(\n",
    "            log_dir=output_directory,\n",
    "            write_graph=True,\n",
    "            write_images=True,\n",
    "            histogram_freq=1,     # log histogram visualizations every 1 epoch\n",
    "            embeddings_freq=1,    # log embedding visualizations every 1 epoch\n",
    "            update_freq=\"epoch\",  # every epoch\n",
    "        )\n",
    "\n",
    "class EarlyStoppingCallback(tf.keras.callbacks.EarlyStopping):\n",
    "    \"\"\"Stop training when no progress on the metric to monitor\n",
    "    https://keras.io/api/callbacks/early_stopping/\n",
    "    https://machinelearningmastery.com/how-to-stop-training-deep-neural-networks-at-the-right-time-using-early-stopping/\n",
    "\n",
    "    Using val_loss to monitor. \n",
    "    https://datascience.stackexchange.com/a/49594/68313\n",
    "    Prefer the loss to the accuracy. Why? The loss quantify how certain \n",
    "    the model is about a prediction. The accuracy merely account for \n",
    "    the number of correct predictions. Similarly, any metrics using hard \n",
    "    predictions rather than probabilities have the same problem.\n",
    "    \"\"\"\n",
    "    def __init__(self, patience=3, monitor='val_loss', mode='auto'):\n",
    "        assert patience > 0\n",
    "        super().__init__(\n",
    "            monitor=monitor, \n",
    "            mode=mode, \n",
    "            verbose=1, \n",
    "            patience=patience,\n",
    "            restore_best_weights=True\n",
    "        )\n",
    "\n",
    "    def on_epoch_end(self, epoch, logs={}):\n",
    "        assert self.monitor in logs, \\\n",
    "            f\"monitor metric {self.monitor} not in valid metrics {logs.keys()}\"\n",
    "        super().on_epoch_end(epoch, logs)\n",
    "\n",
    "\n",
    "class ModelCheckpointCallback(tf.keras.callbacks.ModelCheckpoint):\n",
    "    \"\"\"Check point to save the model\n",
    "    See https://keras.io/api/callbacks/model_checkpoint/\n",
    "\n",
    "    NOTE: \n",
    "        Did not work with the HuggingFace native model with the error.\n",
    "        NotImplementedError: Saving the model to HDF5 format requires the model \n",
    "        to be a Functional model or a Sequential model. \n",
    "        It does not work for subclassed models, because such models are defined \n",
    "        via the body of a Python method, which isn't safely serializable.\n",
    "        \n",
    "        Did not work with the tf.keras.models.save_model nor model.save()\n",
    "        as causing out-of-index errors or load_model() failures. Hence use\n",
    "        save_weights_only=True.\n",
    "    \"\"\"\n",
    "    def __init__(self, path_to_file, monitor='val_loss', mode='auto'):\n",
    "        \"\"\"\n",
    "        Args:\n",
    "            path_to_file: path to the model file to save at check points\n",
    "        \"\"\"\n",
    "        super().__init__(\n",
    "            filepath=path_to_file, \n",
    "            monitor=monitor, \n",
    "            mode=mode, \n",
    "            save_best_only=True,\n",
    "            save_weights_only=True,  # Cannot save entire model.\n",
    "            save_freq=\"epoch\",\n",
    "            verbose=1\n",
    "        )\n",
    "\n",
    "    def on_epoch_end(self, epoch, logs={}):\n",
    "        assert self.monitor in logs, \\\n",
    "            f\"monitor metric {self.monitor} not in valid metrics {logs.keys()}\"\n",
    "        super().on_epoch_end(epoch, logs)\n",
    "        \n",
    "\n",
    "class ReduceLRCallback(tf.keras.callbacks.ReduceLROnPlateau):\n",
    "    \"\"\"Reduce learning rate when a metric has stopped improving.\n",
    "    See https://keras.io/api/callbacks/reduce_lr_on_plateau/\n",
    "    \"\"\"\n",
    "    def __init__(self, patience=3, monitor='val_loss', mode='auto'):\n",
    "        assert patience > 0\n",
    "        super().__init__(\n",
    "            monitor=monitor, \n",
    "            mode=mode, \n",
    "            factor=0.2,\n",
    "            patience=patience,\n",
    "            verbose=1\n",
    "        )\n",
    "    def on_epoch_end(self, epoch, logs={}):\n",
    "        assert self.monitor in logs, \\\n",
    "            f\"monitor metric {self.monitor} not in valid metrics {logs.keys()}\"\n",
    "        super().on_epoch_end(epoch, logs)\n"
   ]
  },
  {
   "cell_type": "markdown",
   "metadata": {
    "id": "wV_uiVhBNM7n"
   },
   "source": [
    "---\n",
    "# Execute BERT fine tuning"
   ]
  },
  {
   "cell_type": "markdown",
   "metadata": {
    "id": "3GAa4RzUq_xG"
   },
   "source": [
    "## Split data (train & validation) \n"
   ]
  },
  {
   "cell_type": "code",
   "execution_count": 39,
   "metadata": {
    "id": "ddkn9LcEOGOC"
   },
   "outputs": [],
   "source": [
    "# --------------------------------------------------------------------------------\n",
    "# Split data into training and validation\n",
    "# --------------------------------------------------------------------------------\n",
    "from sklearn.model_selection import train_test_split\n",
    "train_data, validation_data, train_label, validation_label = train_test_split(\n",
    "    train['comment_text'].tolist(),\n",
    "    train[CATEGORY].tolist(),\n",
    "    test_size=.2,\n",
    "    shuffle=True\n",
    ")"
   ]
  },
  {
   "cell_type": "code",
   "execution_count": 40,
   "metadata": {
    "id": "pn34Ag8LXBRD"
   },
   "outputs": [],
   "source": [
    "# Convert BatchEncoding to dictionary mapping to TF Tensor. \n",
    "# X = dict(tokenize(train_data))\n",
    "# Y = tf.convert_to_tensor(train_label)\n",
    "X = tf.data.Dataset.from_tensor_slices((\n",
    "    dict(tokenize(train_data)),  # Convert BatchEncoding instance to dictionary\n",
    "    train_label\n",
    ")).batch(BATCH_SIZE).prefetch(1)"
   ]
  },
  {
   "cell_type": "code",
   "execution_count": 41,
   "metadata": {
    "id": "CGFHYUT2gzL3"
   },
   "outputs": [],
   "source": [
    "VT = dict(tokenize(validation_data))  # Convert BatchEncoding instance to dictionary\n",
    "V = tf.data.Dataset.from_tensor_slices((\n",
    "    VT,  \n",
    "    validation_label\n",
    ")).batch(BATCH_SIZE).prefetch(1)"
   ]
  },
  {
   "cell_type": "markdown",
   "metadata": {
    "id": "uYDUEj99riJz"
   },
   "source": [
    "## Run training"
   ]
  },
  {
   "cell_type": "code",
   "execution_count": 42,
   "metadata": {
    "colab": {
     "base_uri": "https://localhost:8080/"
    },
    "id": "9hcbToVK76m4",
    "outputId": "2109271f-8496-4c61-a381-bc4bf21fb84f"
   },
   "outputs": [
    {
     "name": "stdout",
     "output_type": "stream",
     "text": [
      "\n",
      "TEST_MODE= False\n",
      "MAX_SEQUENCE_LENGTH = 256\n",
      "NUM_EPOCHS = 5\n",
      "BATCH_SIZE = 32\n",
      "LEARNING_RATE = 5e-05\n",
      "L2 = 0.001\n",
      "MONITOR_METRIC = val_auc\n",
      "REDUCE_LR_PATIENCE = 1\n",
      "EARLY_STOP_PATIENCE = 3\n",
      "MODEL_DIRECTORY = ./output/run_2022MAR29/model\n",
      "LOG_DIRECTORY = ./output/run_2022MAR29/log\n",
      "\n"
     ]
    }
   ],
   "source": [
    "print(\"\"\"\n",
    "TEST_MODE= {}\n",
    "MAX_SEQUENCE_LENGTH = {}\n",
    "NUM_EPOCHS = {}\n",
    "BATCH_SIZE = {}\n",
    "LEARNING_RATE = {}\n",
    "L2 = {}\n",
    "MONITOR_METRIC = {}\n",
    "REDUCE_LR_PATIENCE = {}\n",
    "EARLY_STOP_PATIENCE = {}\n",
    "MODEL_DIRECTORY = {}\n",
    "LOG_DIRECTORY = {}\n",
    "\"\"\".format(\n",
    "    TEST_MODE,\n",
    "    MAX_SEQUENCE_LENGTH,\n",
    "    NUM_EPOCHS,\n",
    "    BATCH_SIZE,\n",
    "    LEARNING_RATE,\n",
    "    L2,\n",
    "    MONITOR_METRIC,\n",
    "    REDUCE_LR_PATIENCE,\n",
    "    EARLY_STOP_PATIENCE,\n",
    "    MODEL_DIRECTORY,\n",
    "    LOG_DIRECTORY,\n",
    "))"
   ]
  },
  {
   "cell_type": "code",
   "execution_count": 43,
   "metadata": {
    "id": "Q9UzrNM6sN64"
   },
   "outputs": [],
   "source": [
    "# Load the saved model if exists\n",
    "if os.path.isfile(MODEL_FILE):\n",
    "    print(f\"loading the saved model parameters from {MODEL_FILE}\")\n",
    "    model.load_weights(MODEL_FILE)"
   ]
  },
  {
   "cell_type": "code",
   "execution_count": 44,
   "metadata": {
    "colab": {
     "base_uri": "https://localhost:8080/"
    },
    "id": "kBEt-tNL78o_",
    "outputId": "d5fbd432-ac39-4267-aec8-ec8ee8c0d1dd",
    "scrolled": true
   },
   "outputs": [
    {
     "name": "stdout",
     "output_type": "stream",
     "text": [
      "Epoch 1/5\n",
      "6883/6883 [==============================] - ETA: 0s - loss: 0.1031 - auc: 0.9924 - accuracy: 0.9634Model auc improved [0.9965694786288212 > 0.00000]: Saving to ./output/run_2022MAR29/model/model.h5\n",
      "6883/6883 [==============================] - 6003s 871ms/step - loss: 0.1031 - auc: 0.9924 - accuracy: 0.9634 - val_loss: 0.0639 - val_auc: 0.9962 - val_accuracy: 0.9795\n",
      "Epoch 2/5\n",
      "6883/6883 [==============================] - ETA: 0s - loss: 0.0376 - auc: 0.9981 - accuracy: 0.9889Model auc improved [0.9973637235468145 > 0.99657]: Saving to ./output/run_2022MAR29/model/model.h5\n",
      "6883/6883 [==============================] - 6142s 892ms/step - loss: 0.0376 - auc: 0.9981 - accuracy: 0.9889 - val_loss: 0.0851 - val_auc: 0.9944 - val_accuracy: 0.9786\n",
      "Epoch 3/5\n",
      "6883/6883 [==============================] - ETA: 0s - loss: 0.0209 - auc: 0.9991 - accuracy: 0.9941Model auc improved [0.9978988585385179 > 0.99736]: Saving to ./output/run_2022MAR29/model/model.h5\n",
      "6883/6883 [==============================] - 6006s 873ms/step - loss: 0.0209 - auc: 0.9991 - accuracy: 0.9941 - val_loss: 0.0502 - val_auc: 0.9962 - val_accuracy: 0.9871\n",
      "Epoch 4/5\n",
      "6883/6883 [==============================] - ETA: 0s - loss: 0.0141 - auc: 0.9994 - accuracy: 0.9961Model auc improved [0.9982916778267615 > 0.99790]: Saving to ./output/run_2022MAR29/model/model.h5\n",
      "6883/6883 [==============================] - 6163s 895ms/step - loss: 0.0141 - auc: 0.9994 - accuracy: 0.9961 - val_loss: 0.0420 - val_auc: 0.9969 - val_accuracy: 0.9894\n",
      "Epoch 5/5\n",
      "6883/6883 [==============================] - ETA: 0s - loss: 0.0109 - auc: 0.9996 - accuracy: 0.9969AUC did not improve from [0.99829].\n",
      "Reducing learning rate to 9.999999747378752e-06.\n",
      "6883/6883 [==============================] - 6085s 884ms/step - loss: 0.0109 - auc: 0.9996 - accuracy: 0.9969 - val_loss: 0.0412 - val_auc: 0.9965 - val_accuracy: 0.9908\n"
     ]
    }
   ],
   "source": [
    "# --------------------------------------------------------------------------------\n",
    "# Train the model\n",
    "# https://www.tensorflow.org/api_docs/python/tf/keras/Model#fit\n",
    "# Input data x can be a dict mapping input names to the corresponding array/tensors, \n",
    "# if the model has named inputs. Beware of the \"names\". y should be consistent with x \n",
    "# (you cannot have Numpy inputs and tensor targets, or inversely). \n",
    "# --------------------------------------------------------------------------------\n",
    "history = model.fit(\n",
    "    x=X,    # dictionary \n",
    "    # y=Y,\n",
    "    y=None,\n",
    "    epochs=NUM_EPOCHS,\n",
    "    batch_size=BATCH_SIZE,\n",
    "    validation_data=V,\n",
    "    callbacks=[\n",
    "        # EarlyStoppingCallback(patience=EARLY_STOP_PATIENCE, monitor=MONITOR_METRIC, mode=MONITOR_MODE),\n",
    "        # ReduceLRCallback(patience=REDUCE_LR_PATIENCE, monitor=MONITOR_METRIC, mode=MONITOR_MODE),\n",
    "        # ModelCheckpointCallback(MODEL_FILE, monitor=MONITOR_METRIC, mode=MONITOR_MODE),\n",
    "        ROCCallback(\n",
    "            validation_data=VT, \n",
    "            validation_label=validation_label, \n",
    "            output_path=MODEL_FILE, \n",
    "            reduce_lr_patiene = REDUCE_LR_PATIENCE,\n",
    "            reduce_lr_factor = 0.2,\n",
    "            early_stop_patience=EARLY_STOP_PATIENCE, \n",
    "            verbose=True\n",
    "        ),\n",
    "        #TensorBoardCallback(LOG_DIRECTORY)\n",
    "    ]\n",
    ")"
   ]
  },
  {
   "cell_type": "markdown",
   "metadata": {
    "id": "Lc2kpTIFQDaJ"
   },
   "source": [
    "---\n",
    "# Evaluation"
   ]
  },
  {
   "cell_type": "code",
   "execution_count": 47,
   "metadata": {
    "colab": {
     "base_uri": "https://localhost:8080/"
    },
    "id": "yo_O-_4OQDhW",
    "outputId": "8872d49b-a6db-4137-81fe-28ac7f4cd2d1"
   },
   "outputs": [
    {
     "name": "stdout",
     "output_type": "stream",
     "text": [
      "2000/2000 [==============================] - 537s 268ms/step - loss: 0.4096 - auc: 0.9210 - accuracy: 0.9257\n",
      "evaluation(['loss', 'auc', 'accuracy'])=[0.40961185097694397, 0.9210350513458252, 0.9256775975227356]\n"
     ]
    }
   ],
   "source": [
    "tokens = dict(tokenize(test['comment_text'].tolist()))\n",
    "test_dataset = tf.data.Dataset.from_tensor_slices((\n",
    "    tokens,\n",
    "    test[CATEGORY]\n",
    "))\n",
    "evaluation = model.evaluate(\n",
    "    test_dataset.shuffle(1000).batch(BATCH_SIZE).prefetch(1)\n",
    ")\n",
    "print(f\"evaluation({model.metrics_names})={evaluation}\")"
   ]
  },
  {
   "cell_type": "markdown",
   "metadata": {
    "id": "JosmHJGATfTo"
   },
   "source": [
    "## ROC/AUC\n",
    "\n",
    "<img src=\"./image/AUC.jpg\"/>"
   ]
  },
  {
   "cell_type": "code",
   "execution_count": 48,
   "metadata": {
    "id": "rq7B0EjBTfTq"
   },
   "outputs": [],
   "source": [
    "probabilities = predict(model, tokens)"
   ]
  },
  {
   "cell_type": "code",
   "execution_count": 49,
   "metadata": {
    "colab": {
     "base_uri": "https://localhost:8080/",
     "height": 346
    },
    "id": "J5bKfTkETfTr",
    "outputId": "93987276-c004-4356-ccb3-2354876e0ed4"
   },
   "outputs": [
    {
     "name": "stderr",
     "output_type": "stream",
     "text": [
      "/tmp/ipykernel_3841/3067536625.py:59: MatplotlibDeprecationWarning: The 'b' parameter of grid() has been renamed 'visible' since Matplotlib 3.5; support for the old name will be dropped two minor releases later.\n",
      "  plt.grid(which='major', b=False, linestyle='--')\n",
      "/tmp/ipykernel_3841/3067536625.py:59: UserWarning: First parameter to grid() is false, but line properties are supplied. The grid will be enabled.\n",
      "  plt.grid(which='major', b=False, linestyle='--')\n"
     ]
    },
    {
     "data": {
      "image/png": "[encoded data removed]",
      "text/plain": [
       "<Figure size 432x288 with 1 Axes>"
      ]
     },
     "metadata": {
      "needs_background": "light"
     },
     "output_type": "display_data"
    },
    {
     "name": "stdout",
     "output_type": "stream",
     "text": [
      "0.0023929337\n"
     ]
    }
   ],
   "source": [
    "roc_auc, accuracy, threshold = evaluate_roc(probabilities, test[CATEGORY], f\"ROC[{CATEGORY}]\")\n",
    "print(threshold)"
   ]
  },
  {
   "cell_type": "markdown",
   "metadata": {
    "id": "YVlZk9Ddwa41"
   },
   "source": [
    "## Recall"
   ]
  },
  {
   "cell_type": "code",
   "execution_count": 50,
   "metadata": {
    "colab": {
     "base_uri": "https://localhost:8080/",
     "height": 176
    },
    "id": "vpsBotM5ssAD",
    "outputId": "8ce3f4e3-6974-451c-91bc-a0b12f5772eb"
   },
   "outputs": [
    {
     "data": {
      "text/html": [
       "<div>\n",
       "<style scoped>\n",
       "    .dataframe tbody tr th:only-of-type {\n",
       "        vertical-align: middle;\n",
       "    }\n",
       "\n",
       "    .dataframe tbody tr th {\n",
       "        vertical-align: top;\n",
       "    }\n",
       "\n",
       "    .dataframe thead th {\n",
       "        text-align: right;\n",
       "    }\n",
       "</style>\n",
       "<table border=\"1\" class=\"dataframe\">\n",
       "  <thead>\n",
       "    <tr style=\"text-align: right;\">\n",
       "      <th></th>\n",
       "      <th>id</th>\n",
       "      <th>comment_text</th>\n",
       "      <th>toxic</th>\n",
       "      <th>severe_toxic</th>\n",
       "      <th>obscene</th>\n",
       "      <th>threat</th>\n",
       "      <th>insult</th>\n",
       "      <th>identity_hate</th>\n",
       "      <th>prediction</th>\n",
       "    </tr>\n",
       "  </thead>\n",
       "  <tbody>\n",
       "    <tr>\n",
       "      <th>5</th>\n",
       "      <td>0001ea8717f6de06</td>\n",
       "      <td>Thank you for understanding. I think very highly of you and would not revert without discussion.</td>\n",
       "      <td>0</td>\n",
       "      <td>0</td>\n",
       "      <td>0</td>\n",
       "      <td>0</td>\n",
       "      <td>0</td>\n",
       "      <td>0</td>\n",
       "      <td>0</td>\n",
       "    </tr>\n",
       "    <tr>\n",
       "      <th>7</th>\n",
       "      <td>000247e83dcc1211</td>\n",
       "      <td>:Dear god this site is horrible.</td>\n",
       "      <td>0</td>\n",
       "      <td>0</td>\n",
       "      <td>0</td>\n",
       "      <td>0</td>\n",
       "      <td>0</td>\n",
       "      <td>0</td>\n",
       "      <td>1</td>\n",
       "    </tr>\n",
       "    <tr>\n",
       "      <th>11</th>\n",
       "      <td>0002f87b16116a7f</td>\n",
       "      <td>\"::: Somebody will invariably try to add Religion?  Really??  You mean, the way people have invariably kept adding \"\"Religion\"\" to the Samuel Beckett infobox?  And why do you bother bringing up the long-dead completely non-existent \"\"Influences\"\" issue?  You're just flailing, making up crap on the fly. \\n ::: For comparison, the only explicit acknowledgement in the entire Amos Oz article that he is personally Jewish is in the categories!    \\n\\n \"</td>\n",
       "      <td>0</td>\n",
       "      <td>0</td>\n",
       "      <td>0</td>\n",
       "      <td>0</td>\n",
       "      <td>0</td>\n",
       "      <td>0</td>\n",
       "      <td>1</td>\n",
       "    </tr>\n",
       "  </tbody>\n",
       "</table>\n",
       "</div>"
      ],
      "text/plain": [
       "                  id  \\\n",
       "5   0001ea8717f6de06   \n",
       "7   000247e83dcc1211   \n",
       "11  0002f87b16116a7f   \n",
       "\n",
       "                                                                                                                                                                                                                                                                                                                                                                                                                                                           comment_text  \\\n",
       "5                                                                                                                                                                                                                                                                                                                                                                      Thank you for understanding. I think very highly of you and would not revert without discussion.   \n",
       "7                                                                                                                                                                                                                                                                                                                                                                                                                                      :Dear god this site is horrible.   \n",
       "11  \"::: Somebody will invariably try to add Religion?  Really??  You mean, the way people have invariably kept adding \"\"Religion\"\" to the Samuel Beckett infobox?  And why do you bother bringing up the long-dead completely non-existent \"\"Influences\"\" issue?  You're just flailing, making up crap on the fly. \\n ::: For comparison, the only explicit acknowledgement in the entire Amos Oz article that he is personally Jewish is in the categories!    \\n\\n \"   \n",
       "\n",
       "    toxic  severe_toxic  obscene  threat  insult  identity_hate  prediction  \n",
       "5       0             0        0       0       0              0           0  \n",
       "7       0             0        0       0       0              0           1  \n",
       "11      0             0        0       0       0              0           1  "
      ]
     },
     "execution_count": 50,
     "metadata": {},
     "output_type": "execute_result"
    }
   ],
   "source": [
    "# predictions = np.argmax(model.predict(tokens), axis=-1)\n",
    "predictions = np.reshape(probabilities >= threshold, (-1, 1)).astype(int)\n",
    "test['prediction'] = predictions\n",
    "test.head(3)"
   ]
  },
  {
   "cell_type": "code",
   "execution_count": 51,
   "metadata": {
    "colab": {
     "base_uri": "https://localhost:8080/"
    },
    "id": "Tq-o1OWsxpTr",
    "outputId": "047ca9cb-f6c7-48d3-c7f1-b3bd1ea40aaf"
   },
   "outputs": [
    {
     "name": "stdout",
     "output_type": "stream",
     "text": [
      "Threshold[toxic] 0.002392933703958988\n",
      "[toxic        ] TP 0.087 FP 0.108 TN: 0.797 FN 0.008\n",
      "[toxic        ] True Positive Rate (Recall) : 0.916\n",
      "[toxic        ] Positive Precision          : 0.447\n",
      "[toxic        ] Specificity                 : 0.881\n",
      "[toxic        ] Negative Precision          : 0.990\n",
      "[toxic        ] Accuracy                    : 0.884\n"
     ]
    }
   ],
   "source": [
    "print(f\"Threshold[{CATEGORY}] {threshold}\")\n",
    "\n",
    "# NP: Negative Predictions\n",
    "# PP: Positive Predictions\n",
    "PP = test[(test['prediction'] > threshold)]['id'].count()\n",
    "NP = test[(test['prediction'] <= threshold)]['id'].count()\n",
    "ALL = PP + NP\n",
    "\n",
    "# TP: True Positive Prediction\n",
    "# AP: Actual Positive\n",
    "# TN: True Negative Prediction\n",
    "# AN: Actual Negative\n",
    "TP = test[(test[CATEGORY] == 1) & (test['prediction'] > threshold)]['id'].count()\n",
    "AP = test[(test[CATEGORY] == 1)]['id'].count()\n",
    "TN = test[(test[CATEGORY] == 0) & (test['prediction'] <= threshold)]['id'].count()\n",
    "AN = test[(test[CATEGORY] == 0)]['id'].count()\n",
    "\n",
    "print(f\"[{CATEGORY:13s}] TP {TP/ALL:0.3f} FP {(PP-TP)/ALL:0.3f} TN: {TN/ALL:0.3f} FN {(NP-TN)/ALL:0.3f}\" ) \n",
    "if AP > 0:\n",
    "    print(f\"[{CATEGORY:13s}] True Positive Rate (Recall) : {TP/AP:0.3f}\" ) \n",
    "if PP > 0:\n",
    "    print(f\"[{CATEGORY:13s}] Positive Precision          : {TP/PP:0.3f}\" ) \n",
    "if AN > 0:\n",
    "    print(f\"[{CATEGORY:13s}] Specificity                 : {TN/AN:0.3f}\") \n",
    "if NP > 0:\n",
    "    print(f\"[{CATEGORY:13s}] Negative Precision          : {TN/NP:0.3f}\" ) \n",
    "if True:\n",
    "    print(f\"[{CATEGORY:13s}] Accuracy                    : {(TP+TN)/ALL:0.3f}\" ) "
   ]
  }
 ],
 "metadata": {
  "colab": {
   "collapsed_sections": [
    "gcefqEMkA2IV",
    "KVDkx-1pky8C",
    "lZZbTtUGWx9S",
    "7UPio2cmTcWO",
    "QRq43r5RSoCA",
    "CByGibL5II6O",
    "GOtHJ1edOFoS",
    "lsPF56qPFbk-",
    "5bp2VT2ohkKD",
    "3GAa4RzUq_xG"
   ],
   "name": "huggingface_fine_tuning.ipynb",
   "provenance": []
  },
  "kernelspec": {
   "display_name": "conda_tensorflow2_p38",
   "language": "python",
   "name": "conda_tensorflow2_p38"
  },
  "language_info": {
   "codemirror_mode": {
    "name": "ipython",
    "version": 3
   },
   "file_extension": ".py",
   "mimetype": "text/x-python",
   "name": "python",
   "nbconvert_exporter": "python",
   "pygments_lexer": "ipython3",
   "version": "3.8.12"
  }
 },
 "nbformat": 4,
 "nbformat_minor": 1
}
