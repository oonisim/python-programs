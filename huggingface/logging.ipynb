{
 "cells": [
  {
   "cell_type": "markdown",
   "id": "695cd76f",
   "metadata": {},
   "source": [
    "# Control logging\n",
    "\n",
    "* [Centralize logging #6434](https://github.com/huggingface/transformers/pull/6434)\n",
    "* [Logging](https://huggingface.co/transformers/main_classes/logging.html)\n",
    "\n",
    "> Transformers has a centralized logging system, so that you can setup the verbosity of the library easily.\n",
    ">Currently the default verbosity of the library is WARNING. To change the level of verbosity, just use one of the direct setters. For instance, here is how to change the verbosity to the INFO level.\n",
    "\n",
    "```\n",
    "import transformers\n",
    "transformers.logging.set_verbosity_info()\n",
    "```\n",
    "\n",
    "You can also use the environment variable ```TRANSFORMERS_VERBOSITY``` to override the default verbosity. You can set it to one of the following: debug, info, warning, error, critical. For example:\n",
    "\n",
    "```\n",
    "TRANSFORMERS_VERBOSITY=error ./myprogram.py\n",
    "```"
   ]
  },
  {
   "cell_type": "code",
   "execution_count": 1,
   "id": "16459527",
   "metadata": {},
   "outputs": [],
   "source": [
    "import transformers\n",
    "transformers.logging.set_verbosity(transformers.logging.ERROR)"
   ]
  },
  {
   "cell_type": "code",
   "execution_count": null,
   "id": "ea475d98",
   "metadata": {},
   "outputs": [],
   "source": []
  }
 ],
 "metadata": {
  "kernelspec": {
   "display_name": "Python 3",
   "language": "python",
   "name": "python3"
  },
  "language_info": {
   "codemirror_mode": {
    "name": "ipython",
    "version": 3
   },
   "file_extension": ".py",
   "mimetype": "text/x-python",
   "name": "python",
   "nbconvert_exporter": "python",
   "pygments_lexer": "ipython3",
   "version": "3.8.8"
  }
 },
 "nbformat": 4,
 "nbformat_minor": 5
}
