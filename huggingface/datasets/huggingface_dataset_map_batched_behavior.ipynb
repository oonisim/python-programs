{
 "cells": [
  {
   "cell_type": "markdown",
   "id": "74d208e1",
   "metadata": {},
   "source": [
    "# How Huggngface ```map``` behave with ```batched=True```\n",
    "\n",
    "\n",
    "Using the Amazon Product Review dataset , wireless v1 subset.\n",
    "\n",
    "* Prompts developed for the Huggingface [AWS product review dataset](https://huggingface.co/datasets/amazon_us_reviews) on wireless category for multi label classification.\n",
    "\n",
    "* [bigscience/promptsource](https://huggingface.co/spaces/bigscience/promptsource)\n",
    "\n",
    "Prompt source provides multiple templates (select in **prompt name** box) for a dataset for different ML tasks e.g. multi-label classification, summarization, etc. \n",
    "\n",
    "<img src=\"./image/huggngface_promptsource.png\" align=\"left\"/>"
   ]
  },
  {
   "cell_type": "code",
   "execution_count": 1,
   "id": "bc5ed35d",
   "metadata": {},
   "outputs": [],
   "source": [
    "from typing import (\n",
    "    List,\n",
    "    Dict,\n",
    ")\n",
    "import multiprocessing\n",
    "\n",
    "import pandas as pd\n",
    "from datasets import load_dataset\n",
    "from promptsource.templates import (\n",
    "    DatasetTemplates\n",
    ")\n",
    "from datasets.iterable_dataset import (\n",
    "    IterableDataset\n",
    ")\n",
    "pd.set_option('display.max_columns', None)\n",
    "pd.set_option('display.max_rows', None)\n",
    "pd.set_option(\"max_colwidth\", None)\n",
    "pd.set_option(\"max_seq_items\", None)"
   ]
  },
  {
   "cell_type": "code",
   "execution_count": 2,
   "id": "9afb58bf",
   "metadata": {},
   "outputs": [],
   "source": [
    "NUM_CORES: int = multiprocessing.cpu_count()"
   ]
  },
  {
   "cell_type": "markdown",
   "id": "a2a06811",
   "metadata": {},
   "source": [
    "# Huggingface Dataset for Prompts"
   ]
  },
  {
   "cell_type": "code",
   "execution_count": 3,
   "id": "3ca849fa",
   "metadata": {},
   "outputs": [],
   "source": [
    "DATASET_NAME: str = \"amazon_us_reviews\"\n",
    "SUBSET_NAME: str = \"Wireless_v1_00\""
   ]
  },
  {
   "cell_type": "code",
   "execution_count": 4,
   "id": "8c5d9511",
   "metadata": {},
   "outputs": [],
   "source": [
    "train: IterableDataset = load_dataset(\n",
    "    path=DATASET_NAME, \n",
    "    name=SUBSET_NAME,\n",
    "    split=\"train\",\n",
    "    streaming=True\n",
    ")"
   ]
  },
  {
   "cell_type": "code",
   "execution_count": 5,
   "id": "5e67ac4c",
   "metadata": {},
   "outputs": [
    {
     "name": "stdout",
     "output_type": "stream",
     "text": [
      "{'marketplace': 'US', 'customer_id': '16414143', 'review_id': 'R3W4P9UBGNGH1U', 'product_id': 'B00YL0EKWE', 'product_parent': '852431543', 'product_title': 'LG G4 Case Hard Transparent Slim Clear Cover for LG G4', 'product_category': 'Wireless', 'star_rating': 2, 'helpful_votes': 1, 'total_votes': 3, 'vine': 0, 'verified_purchase': 1, 'review_headline': 'Looks good, functions meh', 'review_body': \"2 issues  -  Once I turned on the circle apps and installed this case,  my battery drained twice as fast as usual.  I ended up turning off the circle apps, which kind of makes the case just a case...  with a hole in it.  Second,  the wireless charging doesn't work.  I have a Motorola 360 watch and a Qi charging pad. The watch charges fine but this case doesn't. But hey, it looks nice.\", 'review_date': '2015-08-31'}\n"
     ]
    }
   ],
   "source": [
    "example = list(train.take(1))[0]\n",
    "print(example)"
   ]
  },
  {
   "cell_type": "code",
   "execution_count": 29,
   "id": "0906eed5",
   "metadata": {},
   "outputs": [
    {
     "name": "stdout",
     "output_type": "stream",
     "text": [
      "['marketplace', 'customer_id', 'review_id', 'product_id', 'product_parent', 'product_title', 'product_category', 'star_rating', 'helpful_votes', 'total_votes', 'vine', 'verified_purchase', 'review_headline', 'review_body', 'review_date']\n"
     ]
    }
   ],
   "source": [
    "columns = list(example.keys())\n",
    "print(columns)"
   ]
  },
  {
   "cell_type": "markdown",
   "id": "e79fcccf",
   "metadata": {},
   "source": [
    "# Prompt Templates for the Huggingface Dataset"
   ]
  },
  {
   "cell_type": "code",
   "execution_count": 7,
   "id": "a39c485d",
   "metadata": {},
   "outputs": [
    {
     "data": {
      "text/plain": [
       "['Generate review based on rating and category',\n",
       " 'Generate review headline based on rating',\n",
       " 'Generate review headline based on review body',\n",
       " 'Given the review body return a categorical rating',\n",
       " 'Given the review headline return a categorical rating']"
      ]
     },
     "execution_count": 7,
     "metadata": {},
     "output_type": "execute_result"
    }
   ],
   "source": [
    "template_name: str = f\"{DATASET_NAME}/{SUBSET_NAME}\" if SUBSET_NAME is not None else DATASET_NAME\n",
    "templates = DatasetTemplates(\n",
    "    # The dataset_name should be known/accepted Huggingface dataset name.\n",
    "    dataset_name=template_name   \n",
    ")  \n",
    "templates.all_template_names"
   ]
  },
  {
   "cell_type": "code",
   "execution_count": 8,
   "id": "d2bd6d67",
   "metadata": {},
   "outputs": [
    {
     "data": {
      "text/plain": [
       "'Given the review body return a categorical rating'"
      ]
     },
     "execution_count": 8,
     "metadata": {},
     "output_type": "execute_result"
    }
   ],
   "source": [
    "template = templates['Given the review body return a categorical rating']\n",
    "template.get_name()"
   ]
  },
  {
   "cell_type": "code",
   "execution_count": 9,
   "id": "95e68da4",
   "metadata": {},
   "outputs": [
    {
     "name": "stdout",
     "output_type": "stream",
     "text": [
      "Given the following review:\n",
      "{{review_body}}\n",
      "predict the associated rating from the following choices (1 being lowest and 5 being highest)\n",
      "- {{ answer_choices | join('\\n- ') }} \n",
      "|||\n",
      "{{answer_choices[star_rating-1]}}\n"
     ]
    }
   ],
   "source": [
    "print(template.jinja)"
   ]
  },
  {
   "cell_type": "code",
   "execution_count": 10,
   "id": "aefa6229",
   "metadata": {},
   "outputs": [
    {
     "data": {
      "text/plain": [
       "'1 ||| 2 ||| 3 ||| 4 ||| 5'"
      ]
     },
     "execution_count": 10,
     "metadata": {},
     "output_type": "execute_result"
    }
   ],
   "source": [
    "template.answer_choices"
   ]
  },
  {
   "cell_type": "markdown",
   "id": "4b55106b",
   "metadata": {},
   "source": [
    "# Chat (Prompt/Response)\n",
    "\n",
    "Generate a chat by applying the template. \n",
    "\n",
    "**NOTE**: ```template.apply(example: Dict])``` function can take single dictionary."
   ]
  },
  {
   "cell_type": "code",
   "execution_count": 12,
   "id": "532643ef",
   "metadata": {},
   "outputs": [],
   "source": [
    "prompt, response = template.apply(example)"
   ]
  },
  {
   "cell_type": "code",
   "execution_count": 13,
   "id": "ccee6749",
   "metadata": {
    "scrolled": true
   },
   "outputs": [
    {
     "data": {
      "text/html": [
       "<div>\n",
       "<style scoped>\n",
       "    .dataframe tbody tr th:only-of-type {\n",
       "        vertical-align: middle;\n",
       "    }\n",
       "\n",
       "    .dataframe tbody tr th {\n",
       "        vertical-align: top;\n",
       "    }\n",
       "\n",
       "    .dataframe thead th {\n",
       "        text-align: right;\n",
       "    }\n",
       "</style>\n",
       "<table border=\"1\" class=\"dataframe\">\n",
       "  <thead>\n",
       "    <tr style=\"text-align: right;\">\n",
       "      <th></th>\n",
       "      <th>prompt</th>\n",
       "      <th>response</th>\n",
       "    </tr>\n",
       "  </thead>\n",
       "  <tbody>\n",
       "    <tr>\n",
       "      <th>0</th>\n",
       "      <td>Given the following review:\\n2 issues  -  Once I turned on the circle apps and installed this case,  my battery drained twice as fast as usual.  I ended up turning off the circle apps, which kind of makes the case just a case...  with a hole in it.  Second,  the wireless charging doesn't work.  I have a Motorola 360 watch and a Qi charging pad. The watch charges fine but this case doesn't. But hey, it looks nice.\\npredict the associated rating from the following choices (1 being lowest and 5 being highest)\\n- 1\\n- 2\\n- 3\\n- 4\\n- 5</td>\n",
       "      <td>2</td>\n",
       "    </tr>\n",
       "  </tbody>\n",
       "</table>\n",
       "</div>"
      ],
      "text/plain": [
       "                                                                                                                                                                                                                                                                                                                                                                                                                                                                                                                                                     prompt  \\\n",
       "0  Given the following review:\\n2 issues  -  Once I turned on the circle apps and installed this case,  my battery drained twice as fast as usual.  I ended up turning off the circle apps, which kind of makes the case just a case...  with a hole in it.  Second,  the wireless charging doesn't work.  I have a Motorola 360 watch and a Qi charging pad. The watch charges fine but this case doesn't. But hey, it looks nice.\\npredict the associated rating from the following choices (1 being lowest and 5 being highest)\\n- 1\\n- 2\\n- 3\\n- 4\\n- 5   \n",
       "\n",
       "  response  \n",
       "0        2  "
      ]
     },
     "execution_count": 13,
     "metadata": {},
     "output_type": "execute_result"
    }
   ],
   "source": [
    "df = pd.DataFrame([(prompt, response)])\n",
    "df.columns = ['prompt', 'response']\n",
    "df"
   ]
  },
  {
   "cell_type": "code",
   "execution_count": 14,
   "id": "0dbbe096",
   "metadata": {},
   "outputs": [
    {
     "name": "stdout",
     "output_type": "stream",
     "text": [
      "Given the following review:\n",
      "2 issues  -  Once I turned on the circle apps and installed this case,  my battery drained twice as fast as usual.  I ended up turning off the circle apps, which kind of makes the case just a case...  with a hole in it.  Second,  the wireless charging doesn't work.  I have a Motorola 360 watch and a Qi charging pad. The watch charges fine but this case doesn't. But hey, it looks nice.\n",
      "predict the associated rating from the following choices (1 being lowest and 5 being highest)\n",
      "- 1\n",
      "- 2\n",
      "- 3\n",
      "- 4\n",
      "- 5\n"
     ]
    }
   ],
   "source": [
    "print(prompt)"
   ]
  },
  {
   "cell_type": "markdown",
   "id": "6413126c",
   "metadata": {},
   "source": [
    "# Generate chat from dataset WITHOUT batch\n",
    "\n",
    "```map(bached=False)``` **without** batch function gets single dictionary as its argument. Hence you **can apply** ```template.apply```. \n",
    "\n",
    "* [map()](https://huggingface.co/docs/datasets/v2.11.0/en/package_reference/main_classes#datasets.Dataset.map)\n",
    "\n",
    "> If **batched is ```False```**, then the function **takes 1 example** in and should return 1 example.  \n",
    "> An example is a dictionary, e.g. ```{\"text\": \"Hello there !\"}```."
   ]
  },
  {
   "cell_type": "code",
   "execution_count": 88,
   "id": "bd2673dc",
   "metadata": {},
   "outputs": [],
   "source": [
    "def map_data_to_chat(row: Dict) -> Dict:\n",
    "    \"\"\"Huggingface Dataset map function to map data/row to chat. Must return a dictionary\n",
    "    Return: dictionary\n",
    "    \"\"\"\n",
    "    prompt, response = template.apply(row)\n",
    "    return {        \n",
    "        \"chat\": f\"PROMPT:{prompt}\\nRESPONSE:{response}\\n\\n\"\n",
    "    }"
   ]
  },
  {
   "cell_type": "code",
   "execution_count": 89,
   "id": "a1faeb21",
   "metadata": {},
   "outputs": [],
   "source": [
    "chats: IterableDataset = train.map(\n",
    "    function=map_data_to_chat,\n",
    "    batched=False,\n",
    "    remove_columns=columns\n",
    ")"
   ]
  },
  {
   "cell_type": "code",
   "execution_count": 90,
   "id": "7b579d39",
   "metadata": {},
   "outputs": [
    {
     "data": {
      "text/plain": [
       "[{'chat': \"PROMPT:Given the following review:\\n2 issues  -  Once I turned on the circle apps and installed this case,  my battery drained twice as fast as usual.  I ended up turning off the circle apps, which kind of makes the case just a case...  with a hole in it.  Second,  the wireless charging doesn't work.  I have a Motorola 360 watch and a Qi charging pad. The watch charges fine but this case doesn't. But hey, it looks nice.\\npredict the associated rating from the following choices (1 being lowest and 5 being highest)\\n- 1\\n- 2\\n- 3\\n- 4\\n- 5\\nRESPONSE:2\\n\\n\"}]"
      ]
     },
     "execution_count": 90,
     "metadata": {},
     "output_type": "execute_result"
    }
   ],
   "source": [
    "list(chats.take(1))"
   ]
  },
  {
   "cell_type": "markdown",
   "id": "476fde7c",
   "metadata": {},
   "source": [
    "# Generate chat from dataset WITH batch\n",
    "\n",
    "```map(bached=False)``` **with** batch function gets a dictionary as its argument. Hence you **can apply** ```template.apply```. \n",
    "\n",
    "* [map()](https://huggingface.co/docs/datasets/v2.11.0/en/package_reference/main_classes#datasets.Dataset.map)\n",
    "\n",
    "> If **batched is ```True```** and ```batch_size``` is ```n > 1```, then the function takes **a batch of n examples** as input and can return a batch with n examples, or with an arbitrary number of examples. Note that the last batch may have less than n examples.  \n",
    "> \n",
    "> A batch is a dictionary, e.g. a batch of n examples is ```{\"text\": [\"Hello there !\"] * n}```.\n",
    "\n",
    "NOTE: This ```{\"text\": [\"Hello there !\"] * n}``` is tricky.\n",
    "\n",
    "Instead of a list of examples to which we can apply Python built-in [map](https://docs.python.org/3/library/functions.html#map) to apply ```template.apply``` on each dictioanry:\n",
    "```\n",
    "[\n",
    "    {\n",
    "        \"marketplace\":\"US\",\n",
    "        \"customer_id\":\"16414143\",\n",
    "        \"review_id\":\"R3W4P9UBGNGH1U\",\n",
    "        \"product_id\":\"B00YL0EKWE\",\n",
    "        \"product_parent\":\"852431543\",\n",
    "        ...\n",
    "    },\n",
    "    ...\n",
    "]\n",
    "```\n",
    "\n",
    "Huggingface datasets gives below to which we cannot apply ```template.apply```:\n",
    "```\n",
    "{\n",
    "    \"marketplace\": [\"US\", \"US\", \"US\", ....],\n",
    "    \"customer_id\": ['16414143', '50800750', '15184378', ...],\n",
    "    \"review_id\": [\"R3W4P9UBGNGH1U\",...],\n",
    "    \"product_id\": [\"B00YL0EKWE\", ...],\n",
    "    \"product_parent\": [\"852431543\", ...],\n",
    "    ...\n",
    "}\n",
    "```\n"
   ]
  },
  {
   "cell_type": "code",
   "execution_count": 83,
   "id": "2535be1a",
   "metadata": {},
   "outputs": [],
   "source": [
    "def map_data_to_chat_batched(rows: List[Dict[str, str]]) -> Dict:\n",
    "    \"\"\"Huggingface Dataset map function to map data/row to chat. Must return a dictionary\n",
    "    \"\"\"\n",
    "    for key, value in rows.items():\n",
    "        print(f\"{key}:{value}\") if key not in ['review_body', 'product_title'] else None\n",
    "    return {\"text\": [\"dummy\"]}"
   ]
  },
  {
   "cell_type": "code",
   "execution_count": 84,
   "id": "c26799e5",
   "metadata": {},
   "outputs": [],
   "source": [
    "chats: IterableDataset = train.map(\n",
    "    function=map_data_to_chat_batched,\n",
    "    batched=True,\n",
    "    batch_size=5,\n",
    "    remove_columns=columns\n",
    ")"
   ]
  },
  {
   "cell_type": "code",
   "execution_count": 85,
   "id": "5190ad92",
   "metadata": {},
   "outputs": [
    {
     "name": "stdout",
     "output_type": "stream",
     "text": [
      "marketplace:['US', 'US', 'US', 'US', 'US']\n",
      "customer_id:['16414143', '50800750', '15184378', '10203548', '488280']\n",
      "review_id:['R3W4P9UBGNGH1U', 'R15V54KBMTQWAY', 'RY8I449HNXSVF', 'R18TLJYCKJFLSR', 'R1NK26SWS53B8Q']\n",
      "product_id:['B00YL0EKWE', 'B00XK95RPQ', 'B00SXRXUKO', 'B009V5X1CE', 'B00D93OVF0']\n",
      "product_parent:['852431543', '516894650', '984297154', '279912704', '662791300']\n",
      "product_category:['Wireless', 'Wireless', 'Wireless', 'Wireless', 'Wireless']\n",
      "star_rating:[2, 4, 5, 5, 5]\n",
      "helpful_votes:[1, 0, 0, 0, 0]\n",
      "total_votes:[3, 0, 0, 0, 0]\n",
      "vine:[0, 0, 0, 0, 0]\n",
      "verified_purchase:[1, 0, 1, 1, 1]\n",
      "review_headline:['Looks good, functions meh', 'A fun little gadget', 'Five Stars', 'Great charger', 'Five Stars']\n",
      "review_date:['2015-08-31', '2015-08-31', '2015-08-31', '2015-08-31', '2015-08-31']\n"
     ]
    },
    {
     "data": {
      "text/plain": [
       "[{'text': 'dummy'}]"
      ]
     },
     "execution_count": 85,
     "metadata": {},
     "output_type": "execute_result"
    }
   ],
   "source": [
    "list(chats.take(1))"
   ]
  },
  {
   "cell_type": "markdown",
   "id": "7179b8b4",
   "metadata": {},
   "source": [
    "# Conclusion"
   ]
  },
  {
   "cell_type": "markdown",
   "id": "762c90e1",
   "metadata": {},
   "source": [
    "To apply ```template.apply```, need to use ```batched=False```."
   ]
  },
  {
   "cell_type": "code",
   "execution_count": null,
   "id": "4f1057e3",
   "metadata": {},
   "outputs": [],
   "source": []
  }
 ],
 "metadata": {
  "kernelspec": {
   "display_name": "Python 3 (ipykernel)",
   "language": "python",
   "name": "python3"
  },
  "language_info": {
   "codemirror_mode": {
    "name": "ipython",
    "version": 3
   },
   "file_extension": ".py",
   "mimetype": "text/x-python",
   "name": "python",
   "nbconvert_exporter": "python",
   "pygments_lexer": "ipython3",
   "version": "3.9.13"
  }
 },
 "nbformat": 4,
 "nbformat_minor": 5
}
