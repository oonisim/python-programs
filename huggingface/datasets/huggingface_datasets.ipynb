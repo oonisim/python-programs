{
 "cells": [
  {
   "cell_type": "markdown",
   "id": "59b488b1",
   "metadata": {},
   "source": [
    "# Hugging Face Datasets\n",
    "\n",
    "Provide easy access to the transformer datasets e.g. GLUE. Similar to TFDS Datasets with splits ```(train, validation, test)``` and return a dictionary with splits by default.\n",
    "\n",
    "\n",
    "* [Github - Hugging Face Datasets](https://github.com/huggingface/datasets)\n",
    "\n",
    "> ```\n",
    "> pip install datasets\n",
    "> ```\n",
    "> * ```datasets.list_datasets()``` to list the available datasets\n",
    "> * ```datasets.load_dataset(dataset_name, **kwargs)``` to instantiate a dataset\n",
    "\n",
    "* [Hugging Face Datasets Introduction](https://huggingface.co/course/chapter5/1?fw=pt)\n",
    "\n",
    "* [Hugging Face Datasets - Quick Start](https://huggingface.co/docs/datasets/quickstart)\n",
    "\n",
    "<img src=\"../image/huggingface_datasets.png\" align=\"left\" width=700/>"
   ]
  },
  {
   "cell_type": "code",
   "execution_count": 3,
   "id": "bf1f37f5",
   "metadata": {},
   "outputs": [],
   "source": [
    "!pip install datasets --quiet"
   ]
  },
  {
   "cell_type": "code",
   "execution_count": 1,
   "id": "7f04b998",
   "metadata": {},
   "outputs": [],
   "source": [
    "import numpy as np\n",
    "import pandas as pd\n",
    "import datasets\n",
    "from datasets import (\n",
    "    list_datasets, \n",
    "    load_dataset,\n",
    "    get_dataset_split_names,\n",
    ")\n",
    "\n",
    "\n",
    "pd.set_option('display.max_columns', None)\n",
    "pd.set_option('display.max_rows', None)\n",
    "pd.set_option(\"max_colwidth\", None)\n",
    "pd.set_option(\"max_seq_items\", None)"
   ]
  },
  {
   "cell_type": "markdown",
   "id": "7a4a2db6",
   "metadata": {},
   "source": [
    "# List available datasets"
   ]
  },
  {
   "cell_type": "code",
   "execution_count": 2,
   "id": "394b4f3c",
   "metadata": {},
   "outputs": [
    {
     "data": {
      "text/plain": [
       "['acronym_identification',\n",
       " 'ade_corpus_v2',\n",
       " 'adversarial_qa',\n",
       " 'aeslc',\n",
       " 'afrikaans_ner_corpus']"
      ]
     },
     "execution_count": 2,
     "metadata": {},
     "output_type": "execute_result"
    }
   ],
   "source": [
    "list_datasets()[:5]"
   ]
  },
  {
   "cell_type": "markdown",
   "id": "ba295e81",
   "metadata": {},
   "source": [
    "----\n",
    "\n",
    "# Random access vs Iterable \n",
    "\n",
    "* [IterableDataset](https://huggingface.co/docs/datasets/access#iterabledataset)\n",
    "\n",
    "> An IterableDataset is loaded when you set the streaming parameter to True in ```load_dataset()```:\n",
    "> ```\n",
    "> from datasets import load_dataset\n",
    "> iterable_dataset = load_dataset(\"food101\", split=\"train\", streaming=True)\n",
    "> ```\n"
   ]
  },
  {
   "cell_type": "markdown",
   "id": "041191d5",
   "metadata": {},
   "source": [
    "# Loading CSV, JSON, Parquet, SQL result from local and URL\n",
    "\n",
    "Like Pandas read methods, Dataset can load them from local disks or URLs.\n",
    "\n",
    "* [Local and remote files](https://huggingface.co/docs/datasets/loading#local-and-remote-files)\n",
    "\n",
    "> Datasets can be loaded from local files stored on your computer and from remote files. The datasets are most likely stored as a csv, json, txt or parquet file. The load_dataset() function can load each of these file types."
   ]
  },
  {
   "cell_type": "markdown",
   "id": "e45118d9",
   "metadata": {},
   "source": [
    "---\n",
    "# Methods\n",
    "\n",
    "* [rotten_tomatoes](https://huggingface.co/datasets/rotten_tomatoes) movie review dataset\n",
    "\n",
    "> Movie Review Dataset. This is a dataset of containing 5,331 positive and 5,331 negative processed sentences from Rotten Tomatoes movie reviews. This data was first used in Bo Pang and Lillian Lee, ``Seeing stars: Exploiting class relationships for sentiment categorization with respect to rating scales.'', Proceedings of the ACL, 2005.\n",
    "\n",
    "<img src=\"../image/huggingface_dataset_rotten_tomatos.png\" align=\"left\" width=700/>"
   ]
  },
  {
   "cell_type": "code",
   "execution_count": 3,
   "id": "cc92b2e4",
   "metadata": {},
   "outputs": [],
   "source": [
    "dataset_name = \"rotten_tomatoes\""
   ]
  },
  {
   "cell_type": "markdown",
   "id": "90547852",
   "metadata": {},
   "source": [
    "## Get the names of splits"
   ]
  },
  {
   "cell_type": "code",
   "execution_count": 4,
   "id": "b658a6b4",
   "metadata": {},
   "outputs": [
    {
     "data": {
      "text/plain": [
       "['train', 'validation', 'test']"
      ]
     },
     "execution_count": 4,
     "metadata": {},
     "output_type": "execute_result"
    }
   ],
   "source": [
    "get_dataset_split_names(dataset_name)"
   ]
  },
  {
   "cell_type": "markdown",
   "id": "d5637570",
   "metadata": {},
   "source": [
    "## Load a dataset\n",
    "\n",
    "* [datasets.load_dataset(path: str, split: str, streaming: bool, num_proc: int)](https://huggingface.co/docs/datasets/package_reference/loading_methods#datasets.load_dataset)\n",
    "\n",
    "Returns [datasets.DatasetDict](https://huggingface.co/docs/datasets/main/en/package_reference/main_classes#datasets.DatasetDict) if ```split``` is ```None``` or [datasets.Dataset](https://huggingface.co/docs/datasets/main/en/package_reference/main_classes#datasets.Dataset). Similar to TFDS load method."
   ]
  },
  {
   "cell_type": "markdown",
   "id": "98ec9bf7",
   "metadata": {},
   "source": [
    "### Load multiple splits as Dataset"
   ]
  },
  {
   "cell_type": "code",
   "execution_count": 5,
   "id": "9173b213",
   "metadata": {},
   "outputs": [
    {
     "name": "stderr",
     "output_type": "stream",
     "text": [
      "Found cached dataset rotten_tomatoes (/Users/oonisim/.cache/huggingface/datasets/rotten_tomatoes/default/1.0.0/40d411e45a6ce3484deed7cc15b82a53dad9a72aafd9f86f8f227134bec5ca46)\n"
     ]
    }
   ],
   "source": [
    "combined: datasets.Dataset = datasets.load_dataset(\n",
    "    path=dataset_name, \n",
    "    split=\"train+test\",\n",
    "    num_proc=8\n",
    ")"
   ]
  },
  {
   "cell_type": "code",
   "execution_count": 6,
   "id": "0f93e14a",
   "metadata": {},
   "outputs": [
    {
     "data": {
      "text/plain": [
       "datasets.arrow_dataset.Dataset"
      ]
     },
     "execution_count": 6,
     "metadata": {},
     "output_type": "execute_result"
    }
   ],
   "source": [
    "type(combined)"
   ]
  },
  {
   "cell_type": "code",
   "execution_count": 7,
   "id": "46e802be",
   "metadata": {},
   "outputs": [
    {
     "name": "stdout",
     "output_type": "stream",
     "text": [
      "9596\n"
     ]
    }
   ],
   "source": [
    "print(len(combined))\n",
    "del combined"
   ]
  },
  {
   "cell_type": "markdown",
   "id": "d915f7e9",
   "metadata": {},
   "source": [
    "### Load part of split"
   ]
  },
  {
   "cell_type": "code",
   "execution_count": 8,
   "id": "0bb9a254",
   "metadata": {},
   "outputs": [
    {
     "name": "stderr",
     "output_type": "stream",
     "text": [
      "Found cached dataset rotten_tomatoes (/Users/oonisim/.cache/huggingface/datasets/rotten_tomatoes/default/1.0.0/40d411e45a6ce3484deed7cc15b82a53dad9a72aafd9f86f8f227134bec5ca46)\n"
     ]
    }
   ],
   "source": [
    "partial: datasets.Dataset = datasets.load_dataset(\n",
    "    path=dataset_name, \n",
    "    split=\"train[10:20]\",\n",
    "    num_proc=8\n",
    ")"
   ]
  },
  {
   "cell_type": "code",
   "execution_count": 9,
   "id": "a7c5ecb4",
   "metadata": {},
   "outputs": [
    {
     "name": "stderr",
     "output_type": "stream",
     "text": [
      "Loading cached processed dataset at /Users/oonisim/.cache/huggingface/datasets/rotten_tomatoes/default/1.0.0/40d411e45a6ce3484deed7cc15b82a53dad9a72aafd9f86f8f227134bec5ca46/cache-b579144e7150ad6b.arrow\n"
     ]
    },
    {
     "name": "stdout",
     "output_type": "stream",
     "text": [
      "{'text': 'this is a film well ', 'label': 1}\n"
     ]
    }
   ],
   "source": [
    "x = partial.map(lambda x: {\"text\": x['text'][:20], \"label\": x['label']})\n",
    "print(x[0])\n",
    "del x, partial"
   ]
  },
  {
   "cell_type": "markdown",
   "id": "c2fcb61f",
   "metadata": {},
   "source": [
    "### Load entire dataset as DatasetDict"
   ]
  },
  {
   "cell_type": "code",
   "execution_count": 10,
   "id": "154388e0",
   "metadata": {},
   "outputs": [
    {
     "name": "stderr",
     "output_type": "stream",
     "text": [
      "Found cached dataset rotten_tomatoes (/Users/oonisim/.cache/huggingface/datasets/rotten_tomatoes/default/1.0.0/40d411e45a6ce3484deed7cc15b82a53dad9a72aafd9f86f8f227134bec5ca46)\n"
     ]
    },
    {
     "data": {
      "application/vnd.jupyter.widget-view+json": {
       "model_id": "3a169c86d7e2494b9d514de5813babdd",
       "version_major": 2,
       "version_minor": 0
      },
      "text/plain": [
       "  0%|          | 0/3 [00:00<?, ?it/s]"
      ]
     },
     "metadata": {},
     "output_type": "display_data"
    },
    {
     "data": {
      "text/plain": [
       "dict_keys(['train', 'validation', 'test'])"
      ]
     },
     "execution_count": 10,
     "metadata": {},
     "output_type": "execute_result"
    }
   ],
   "source": [
    "dataset: datasets.DatasetDict = load_dataset(dataset_name, streaming=False, num_proc=8)\n",
    "dataset.keys()"
   ]
  },
  {
   "cell_type": "markdown",
   "id": "7a80ad99",
   "metadata": {},
   "source": [
    "## Attributes\n",
    "### Column names"
   ]
  },
  {
   "cell_type": "code",
   "execution_count": 11,
   "id": "815aea73",
   "metadata": {},
   "outputs": [
    {
     "data": {
      "text/plain": [
       "['text', 'label']"
      ]
     },
     "execution_count": 11,
     "metadata": {},
     "output_type": "execute_result"
    }
   ],
   "source": [
    "dataset['train'].column_names"
   ]
  },
  {
   "cell_type": "markdown",
   "id": "a525fa46",
   "metadata": {},
   "source": [
    "### Shape"
   ]
  },
  {
   "cell_type": "code",
   "execution_count": 12,
   "id": "2cb401a5",
   "metadata": {},
   "outputs": [
    {
     "data": {
      "text/plain": [
       "(8530, 2)"
      ]
     },
     "execution_count": 12,
     "metadata": {},
     "output_type": "execute_result"
    }
   ],
   "source": [
    "dataset['train'].shape"
   ]
  },
  {
   "cell_type": "markdown",
   "id": "d24119db",
   "metadata": {},
   "source": [
    "### Features"
   ]
  },
  {
   "cell_type": "code",
   "execution_count": 14,
   "id": "215dad34",
   "metadata": {},
   "outputs": [
    {
     "data": {
      "text/plain": [
       "{'text': Value(dtype='string', id=None),\n",
       " 'label': ClassLabel(names=['neg', 'pos'], id=None)}"
      ]
     },
     "execution_count": 14,
     "metadata": {},
     "output_type": "execute_result"
    }
   ],
   "source": [
    "dataset['train'].features"
   ]
  },
  {
   "cell_type": "markdown",
   "id": "5d4c319a",
   "metadata": {},
   "source": [
    "## Random access"
   ]
  },
  {
   "cell_type": "code",
   "execution_count": 7,
   "id": "4c7f1b98",
   "metadata": {},
   "outputs": [],
   "source": [
    "train: datasets.Dataset = dataset['train']"
   ]
  },
  {
   "cell_type": "code",
   "execution_count": 58,
   "id": "f6b9d32d",
   "metadata": {},
   "outputs": [],
   "source": [
    "df = pd.DataFrame(train.shuffle()[:5])"
   ]
  },
  {
   "cell_type": "code",
   "execution_count": 59,
   "id": "9d25cc20",
   "metadata": {
    "scrolled": true
   },
   "outputs": [
    {
     "data": {
      "text/html": [
       "<div>\n",
       "<style scoped>\n",
       "    .dataframe tbody tr th:only-of-type {\n",
       "        vertical-align: middle;\n",
       "    }\n",
       "\n",
       "    .dataframe tbody tr th {\n",
       "        vertical-align: top;\n",
       "    }\n",
       "\n",
       "    .dataframe thead th {\n",
       "        text-align: right;\n",
       "    }\n",
       "</style>\n",
       "<table border=\"1\" class=\"dataframe\">\n",
       "  <thead>\n",
       "    <tr style=\"text-align: right;\">\n",
       "      <th></th>\n",
       "      <th>text</th>\n",
       "      <th>label</th>\n",
       "    </tr>\n",
       "  </thead>\n",
       "  <tbody>\n",
       "    <tr>\n",
       "      <th>0</th>\n",
       "      <td>phillip noyce and all of his actors -- as well as his cinematographer , christopher doyle -- understand the delicate forcefulness of greene's prose , and it's there on the screen in their version of the quiet american .</td>\n",
       "      <td>1</td>\n",
       "    </tr>\n",
       "    <tr>\n",
       "      <th>1</th>\n",
       "      <td>nettelbeck . . . has a pleasing way with a metaphor .</td>\n",
       "      <td>1</td>\n",
       "    </tr>\n",
       "    <tr>\n",
       "      <th>2</th>\n",
       "      <td>the issues are presented in such a lousy way , complete with some of the year's ( unintentionally ) funniest moments , that it's impossible to care .</td>\n",
       "      <td>0</td>\n",
       "    </tr>\n",
       "    <tr>\n",
       "      <th>3</th>\n",
       "      <td>as a rumor of angels reveals itself to be a sudsy tub of supernatural hokum , not even ms . redgrave's noblest efforts can redeem it from hopeless sentimentality .</td>\n",
       "      <td>0</td>\n",
       "    </tr>\n",
       "    <tr>\n",
       "      <th>4</th>\n",
       "      <td>mostly martha could have used a little trimming -- 10 or 15 minutes could be cut and no one would notice -- but it's a pleasurable trifle . the only pain you'll feel as the credits roll is your stomach grumbling for some tasty grub .</td>\n",
       "      <td>1</td>\n",
       "    </tr>\n",
       "  </tbody>\n",
       "</table>\n",
       "</div>"
      ],
      "text/plain": [
       "                                                                                                                                                                                                                                        text  \\\n",
       "0                phillip noyce and all of his actors -- as well as his cinematographer , christopher doyle -- understand the delicate forcefulness of greene's prose , and it's there on the screen in their version of the quiet american .   \n",
       "1                                                                                                                                                                                      nettelbeck . . . has a pleasing way with a metaphor .   \n",
       "2                                                                                      the issues are presented in such a lousy way , complete with some of the year's ( unintentionally ) funniest moments , that it's impossible to care .   \n",
       "3                                                                        as a rumor of angels reveals itself to be a sudsy tub of supernatural hokum , not even ms . redgrave's noblest efforts can redeem it from hopeless sentimentality .   \n",
       "4  mostly martha could have used a little trimming -- 10 or 15 minutes could be cut and no one would notice -- but it's a pleasurable trifle . the only pain you'll feel as the credits roll is your stomach grumbling for some tasty grub .   \n",
       "\n",
       "   label  \n",
       "0      1  \n",
       "1      1  \n",
       "2      0  \n",
       "3      0  \n",
       "4      1  "
      ]
     },
     "execution_count": 59,
     "metadata": {},
     "output_type": "execute_result"
    }
   ],
   "source": [
    "df"
   ]
  },
  {
   "cell_type": "markdown",
   "id": "3816671c",
   "metadata": {},
   "source": [
    "## Select rows\n",
    "\n",
    "* [select(indices (range, list, iterable, ndarray or Series)](https://huggingface.co/docs/datasets/v2.11.0/en/package_reference/main_classes#datasets.Dataset.select)\n",
    "\n",
    "select() returns rows according to a list of indices."
   ]
  },
  {
   "cell_type": "code",
   "execution_count": 73,
   "id": "5e7db4dc",
   "metadata": {},
   "outputs": [
    {
     "name": "stdout",
     "output_type": "stream",
     "text": [
      "{'text': 'too smart to ignore but a little too smugly superior to like , this could be a movie that ends up slapping its target audience in the face by shooting itself in the foot .', 'label': 0}\n"
     ]
    }
   ],
   "source": [
    "selected: datasets.Dataset = train.shuffle().select([1,3,5,7,9])\n",
    "print(selected[0])\n",
    "del selected"
   ]
  },
  {
   "cell_type": "markdown",
   "id": "aaa91a7e",
   "metadata": {},
   "source": [
    "## map\n",
    "\n",
    "* [Dataset.map(function: Callable, with_indices: bool, num_proc: int, remove_columns: Optional)](https://huggingface.co/docs/datasets/v2.11.0/en/package_reference/main_classes#datasets.Dataset.map)"
   ]
  },
  {
   "cell_type": "code",
   "execution_count": 2,
   "id": "1c70a53c",
   "metadata": {},
   "outputs": [],
   "source": [
    "from transformers import AutoTokenizer\n",
    "\n",
    "tokenizer = AutoTokenizer.from_pretrained(\n",
    "    pretrained_model_name_or_path='bigscience/bloom-560m', \n",
    "    use_fast=True\n",
    ")"
   ]
  },
  {
   "cell_type": "code",
   "execution_count": 8,
   "id": "bd7b8cc7",
   "metadata": {},
   "outputs": [
    {
     "name": "stderr",
     "output_type": "stream",
     "text": [
      "num_proc must be <= 5. Reducing num_proc to 5 for dataset of size 5.\n"
     ]
    },
    {
     "data": {
      "application/vnd.jupyter.widget-view+json": {
       "model_id": "",
       "version_major": 2,
       "version_minor": 0
      },
      "text/plain": [
       "Map (num_proc=5):   0%|          | 0/5 [00:00<?, ? examples/s]"
      ]
     },
     "metadata": {},
     "output_type": "display_data"
    },
    {
     "data": {
      "text/html": [
       "<div>\n",
       "<style scoped>\n",
       "    .dataframe tbody tr th:only-of-type {\n",
       "        vertical-align: middle;\n",
       "    }\n",
       "\n",
       "    .dataframe tbody tr th {\n",
       "        vertical-align: top;\n",
       "    }\n",
       "\n",
       "    .dataframe thead th {\n",
       "        text-align: right;\n",
       "    }\n",
       "</style>\n",
       "<table border=\"1\" class=\"dataframe\">\n",
       "  <thead>\n",
       "    <tr style=\"text-align: right;\">\n",
       "      <th></th>\n",
       "      <th>label</th>\n",
       "      <th>tokens</th>\n",
       "    </tr>\n",
       "  </thead>\n",
       "  <tbody>\n",
       "    <tr>\n",
       "      <th>0</th>\n",
       "      <td>1</td>\n",
       "      <td>{'attention_mask': [1, 1, 1, 1, 1, 1, 1], 'input_ids': [5984, 8874, 632, 12229, 461, 85753, 503]}</td>\n",
       "    </tr>\n",
       "    <tr>\n",
       "      <th>1</th>\n",
       "      <td>1</td>\n",
       "      <td>{'attention_mask': [1, 1, 1, 1, 1, 1, 1, 1, 1, 1, 1, 1, 1, 1, 1, 1, 1, 1, 1, 1], 'input_ids': [5984, 8874, 632, 22566, 19639, 98804, 630, 530, 368, 93082, 461, 368, 20500, 47664, 1306, 105708, 999, 74950, 386, 503]}</td>\n",
       "    </tr>\n",
       "    <tr>\n",
       "      <th>2</th>\n",
       "      <td>0</td>\n",
       "      <td>{'attention_mask': [1, 1, 1, 1, 1, 1, 1, 1, 1, 1, 1, 1, 1, 1, 1, 1, 1, 1, 1, 1, 1, 1, 1, 1, 1, 1, 1, 1, 1, 1, 1, 1, 1, 1, 1, 1, 1, 1, 1, 1, 1, 1, 1, 1, 1, 1, 1, 1, 1, 1, 1, 1], 'input_ids': [26676, 368, 198139, 1068, 471, 108401, 375, 23242, 368, 89430, 7025, 125347, 1163, 22646, 861, 368, 8874, 632, 11705, 197888, 630, 1640, 11168, 47768, 1256, 181629, 154854, 265, 226608, 632, 89122, 17303, 148424, 530, 3478, 90, 350, 11252, 630, 16997, 368, 212022, 78700, 18425, 1955, 3825, 92, 17303, 4340, 22285, 2926, 503]}</td>\n",
       "    </tr>\n",
       "    <tr>\n",
       "      <th>3</th>\n",
       "      <td>1</td>\n",
       "      <td>{'attention_mask': [1, 1, 1, 1, 1, 1, 1, 1, 1, 1, 1, 1, 1, 1, 1, 1, 1, 1, 1, 1, 1, 1, 1, 1, 1, 1, 1, 1, 1], 'input_ids': [2606, 632, 5067, 267, 101944, 99455, 51651, 4618, 368, 77016, 24824, 530, 368, 12792, 386, 1306, 1427, 43752, 630, 5268, 126042, 1320, 368, 26143, 1256, 267, 10512, 32352, 503]}</td>\n",
       "    </tr>\n",
       "    <tr>\n",
       "      <th>4</th>\n",
       "      <td>1</td>\n",
       "      <td>{'attention_mask': [1, 1, 1, 1, 1, 1, 1, 1, 1, 1, 1, 1, 1, 1, 1, 1, 1, 1, 1, 1, 1, 1, 1, 1, 1], 'input_ids': [32112, 267, 178584, 275, 88222, 504, 1859, 2040, 3816, 54645, 727, 6355, 427, 7010, 1119, 2592, 1800, 5908, 6648, 35895, 2256, 152901, 135056, 9066, 10749]}</td>\n",
       "    </tr>\n",
       "  </tbody>\n",
       "</table>\n",
       "</div>"
      ],
      "text/plain": [
       "   label  \\\n",
       "0      1   \n",
       "1      1   \n",
       "2      0   \n",
       "3      1   \n",
       "4      1   \n",
       "\n",
       "                                                                                                                                                                                                                                                                                                                                                                                                                                                                                                                                  tokens  \n",
       "0                                                                                                                                                                                                                                                                                                                                                                                                                                      {'attention_mask': [1, 1, 1, 1, 1, 1, 1], 'input_ids': [5984, 8874, 632, 12229, 461, 85753, 503]}  \n",
       "1                                                                                                                                                                                                                                                                                                                {'attention_mask': [1, 1, 1, 1, 1, 1, 1, 1, 1, 1, 1, 1, 1, 1, 1, 1, 1, 1, 1, 1], 'input_ids': [5984, 8874, 632, 22566, 19639, 98804, 630, 530, 368, 93082, 461, 368, 20500, 47664, 1306, 105708, 999, 74950, 386, 503]}  \n",
       "2  {'attention_mask': [1, 1, 1, 1, 1, 1, 1, 1, 1, 1, 1, 1, 1, 1, 1, 1, 1, 1, 1, 1, 1, 1, 1, 1, 1, 1, 1, 1, 1, 1, 1, 1, 1, 1, 1, 1, 1, 1, 1, 1, 1, 1, 1, 1, 1, 1, 1, 1, 1, 1, 1, 1], 'input_ids': [26676, 368, 198139, 1068, 471, 108401, 375, 23242, 368, 89430, 7025, 125347, 1163, 22646, 861, 368, 8874, 632, 11705, 197888, 630, 1640, 11168, 47768, 1256, 181629, 154854, 265, 226608, 632, 89122, 17303, 148424, 530, 3478, 90, 350, 11252, 630, 16997, 368, 212022, 78700, 18425, 1955, 3825, 92, 17303, 4340, 22285, 2926, 503]}  \n",
       "3                                                                                                                                                                                                                            {'attention_mask': [1, 1, 1, 1, 1, 1, 1, 1, 1, 1, 1, 1, 1, 1, 1, 1, 1, 1, 1, 1, 1, 1, 1, 1, 1, 1, 1, 1, 1], 'input_ids': [2606, 632, 5067, 267, 101944, 99455, 51651, 4618, 368, 77016, 24824, 530, 368, 12792, 386, 1306, 1427, 43752, 630, 5268, 126042, 1320, 368, 26143, 1256, 267, 10512, 32352, 503]}  \n",
       "4                                                                                                                                                                                                                                                             {'attention_mask': [1, 1, 1, 1, 1, 1, 1, 1, 1, 1, 1, 1, 1, 1, 1, 1, 1, 1, 1, 1, 1, 1, 1, 1, 1], 'input_ids': [32112, 267, 178584, 275, 88222, 504, 1859, 2040, 3816, 54645, 727, 6355, 427, 7010, 1119, 2592, 1800, 5908, 6648, 35895, 2256, 152901, 135056, 9066, 10749]}  "
      ]
     },
     "execution_count": 8,
     "metadata": {},
     "output_type": "execute_result"
    }
   ],
   "source": [
    "mapped: datasets.Dataset = train.shuffle().select([1,3,5,7,9]).map(\n",
    "    lambda row: {\n",
    "        \"tokens\": tokenizer(row['text']),\n",
    "        \"label\": row['label']\n",
    "    }, \n",
    "    num_proc=8,\n",
    "    remove_columns=['text']\n",
    ")\n",
    "pd.DataFrame(mapped)"
   ]
  },
  {
   "cell_type": "code",
   "execution_count": null,
   "id": "df89f389",
   "metadata": {},
   "outputs": [],
   "source": [
    "del mapped"
   ]
  },
  {
   "cell_type": "markdown",
   "id": "96c06022",
   "metadata": {},
   "source": [
    "## Flatten\n",
    "\n",
    "* [flatten](https://huggingface.co/docs/datasets/v2.11.0/en/package_reference/main_classes#datasets.Dataset.flatten)"
   ]
  },
  {
   "cell_type": "code",
   "execution_count": 9,
   "id": "69021140",
   "metadata": {},
   "outputs": [
    {
     "name": "stderr",
     "output_type": "stream",
     "text": [
      "num_proc must be <= 3. Reducing num_proc to 3 for dataset of size 3.\n"
     ]
    },
    {
     "data": {
      "application/vnd.jupyter.widget-view+json": {
       "model_id": "",
       "version_major": 2,
       "version_minor": 0
      },
      "text/plain": [
       "Map (num_proc=3):   0%|          | 0/3 [00:00<?, ? examples/s]"
      ]
     },
     "metadata": {},
     "output_type": "display_data"
    },
    {
     "data": {
      "text/html": [
       "<div>\n",
       "<style scoped>\n",
       "    .dataframe tbody tr th:only-of-type {\n",
       "        vertical-align: middle;\n",
       "    }\n",
       "\n",
       "    .dataframe tbody tr th {\n",
       "        vertical-align: top;\n",
       "    }\n",
       "\n",
       "    .dataframe thead th {\n",
       "        text-align: right;\n",
       "    }\n",
       "</style>\n",
       "<table border=\"1\" class=\"dataframe\">\n",
       "  <thead>\n",
       "    <tr style=\"text-align: right;\">\n",
       "      <th></th>\n",
       "      <th>text</th>\n",
       "      <th>label</th>\n",
       "      <th>tokens</th>\n",
       "    </tr>\n",
       "  </thead>\n",
       "  <tbody>\n",
       "    <tr>\n",
       "      <th>0</th>\n",
       "      <td>one problem with the movie , directed by joel schumacher , is that it jams too many prefabricated story elements into the running time .</td>\n",
       "      <td>0</td>\n",
       "      <td>{'attention_mask': [1, 1, 1, 1, 1, 1, 1, 1, 1, 1, 1, 1, 1, 1, 1, 1, 1, 1, 1, 1, 1, 1, 1, 1, 1, 1, 1, 1, 1, 1], 'input_ids': [1738, 6875, 1002, 368, 51651, 630, 61961, 1331, 4985, 343, 10257, 180190, 630, 632, 861, 718, 8501, 86, 10136, 7112, 45325, 107922, 1790, 26143, 12829, 3727, 368, 16118, 3509, 503]}</td>\n",
       "    </tr>\n",
       "    <tr>\n",
       "      <th>1</th>\n",
       "      <td>pipe dream does have its charms . the leads are natural and lovely , the pace is serene , the humor wry and sprightly .</td>\n",
       "      <td>1</td>\n",
       "      <td>{'attention_mask': [1, 1, 1, 1, 1, 1, 1, 1, 1, 1, 1, 1, 1, 1, 1, 1, 1, 1, 1, 1, 1, 1, 1, 1, 1, 1, 1, 1, 1, 1], 'input_ids': [115211, 42452, 4636, 1542, 3776, 5343, 3611, 503, 368, 40265, 1306, 8390, 530, 138799, 630, 368, 113737, 632, 959, 3479, 630, 368, 45554, 372, 3979, 530, 35752, 1295, 999, 503]}</td>\n",
       "    </tr>\n",
       "    <tr>\n",
       "      <th>2</th>\n",
       "      <td>that it'll probably be the best and most mature comedy of the 2002 summer season speaks more of the season than the picture</td>\n",
       "      <td>1</td>\n",
       "      <td>{'attention_mask': [1, 1, 1, 1, 1, 1, 1, 1, 1, 1, 1, 1, 1, 1, 1, 1, 1, 1, 1, 1, 1, 1, 1], 'input_ids': [19562, 114101, 15927, 722, 368, 7733, 530, 6084, 149939, 171895, 461, 368, 8122, 46693, 27700, 78739, 3172, 461, 368, 27700, 4340, 368, 33777]}</td>\n",
       "    </tr>\n",
       "  </tbody>\n",
       "</table>\n",
       "</div>"
      ],
      "text/plain": [
       "                                                                                                                                       text  \\\n",
       "0  one problem with the movie , directed by joel schumacher , is that it jams too many prefabricated story elements into the running time .   \n",
       "1                   pipe dream does have its charms . the leads are natural and lovely , the pace is serene , the humor wry and sprightly .   \n",
       "2               that it'll probably be the best and most mature comedy of the 2002 summer season speaks more of the season than the picture   \n",
       "\n",
       "   label  \\\n",
       "0      0   \n",
       "1      1   \n",
       "2      1   \n",
       "\n",
       "                                                                                                                                                                                                                                                                                                               tokens  \n",
       "0  {'attention_mask': [1, 1, 1, 1, 1, 1, 1, 1, 1, 1, 1, 1, 1, 1, 1, 1, 1, 1, 1, 1, 1, 1, 1, 1, 1, 1, 1, 1, 1, 1], 'input_ids': [1738, 6875, 1002, 368, 51651, 630, 61961, 1331, 4985, 343, 10257, 180190, 630, 632, 861, 718, 8501, 86, 10136, 7112, 45325, 107922, 1790, 26143, 12829, 3727, 368, 16118, 3509, 503]}  \n",
       "1      {'attention_mask': [1, 1, 1, 1, 1, 1, 1, 1, 1, 1, 1, 1, 1, 1, 1, 1, 1, 1, 1, 1, 1, 1, 1, 1, 1, 1, 1, 1, 1, 1], 'input_ids': [115211, 42452, 4636, 1542, 3776, 5343, 3611, 503, 368, 40265, 1306, 8390, 530, 138799, 630, 368, 113737, 632, 959, 3479, 630, 368, 45554, 372, 3979, 530, 35752, 1295, 999, 503]}  \n",
       "2                                                             {'attention_mask': [1, 1, 1, 1, 1, 1, 1, 1, 1, 1, 1, 1, 1, 1, 1, 1, 1, 1, 1, 1, 1, 1, 1], 'input_ids': [19562, 114101, 15927, 722, 368, 7733, 530, 6084, 149939, 171895, 461, 368, 8122, 46693, 27700, 78739, 3172, 461, 368, 27700, 4340, 368, 33777]}  "
      ]
     },
     "execution_count": 9,
     "metadata": {},
     "output_type": "execute_result"
    }
   ],
   "source": [
    "mapped: datasets.Dataset = train.shuffle().select([1,3,5]).map(\n",
    "    lambda row: {\n",
    "        \"tokens\": tokenizer(row['text']),\n",
    "        \"label\": row['label']\n",
    "    }, \n",
    "    num_proc=8\n",
    ")\n",
    "pd.DataFrame(mapped)"
   ]
  },
  {
   "cell_type": "code",
   "execution_count": 10,
   "id": "a3218c03",
   "metadata": {},
   "outputs": [
    {
     "data": {
      "text/plain": [
       "Dataset({\n",
       "    features: ['text', 'label', 'tokens.attention_mask', 'tokens.input_ids'],\n",
       "    num_rows: 3\n",
       "})"
      ]
     },
     "execution_count": 10,
     "metadata": {},
     "output_type": "execute_result"
    }
   ],
   "source": [
    "mapped.flatten()"
   ]
  },
  {
   "cell_type": "code",
   "execution_count": 11,
   "id": "afed7be2",
   "metadata": {},
   "outputs": [],
   "source": [
    "del mapped"
   ]
  },
  {
   "cell_type": "markdown",
   "id": "895bb948",
   "metadata": {},
   "source": [
    "## Remove columns\n",
    "\n",
    "* [Dataset.remove_columns(column_names: List) ](https://huggingface.co/docs/datasets/v2.11.0/en/package_reference/main_classes#datasets.Dataset.remove_columns)"
   ]
  },
  {
   "cell_type": "code",
   "execution_count": 12,
   "id": "b321fde1",
   "metadata": {},
   "outputs": [
    {
     "name": "stderr",
     "output_type": "stream",
     "text": [
      "num_proc must be <= 2. Reducing num_proc to 2 for dataset of size 2.\n"
     ]
    },
    {
     "data": {
      "application/vnd.jupyter.widget-view+json": {
       "model_id": "",
       "version_major": 2,
       "version_minor": 0
      },
      "text/plain": [
       "Map (num_proc=2):   0%|          | 0/2 [00:00<?, ? examples/s]"
      ]
     },
     "metadata": {},
     "output_type": "display_data"
    },
    {
     "data": {
      "text/html": [
       "<div>\n",
       "<style scoped>\n",
       "    .dataframe tbody tr th:only-of-type {\n",
       "        vertical-align: middle;\n",
       "    }\n",
       "\n",
       "    .dataframe tbody tr th {\n",
       "        vertical-align: top;\n",
       "    }\n",
       "\n",
       "    .dataframe thead th {\n",
       "        text-align: right;\n",
       "    }\n",
       "</style>\n",
       "<table border=\"1\" class=\"dataframe\">\n",
       "  <thead>\n",
       "    <tr style=\"text-align: right;\">\n",
       "      <th></th>\n",
       "      <th>text</th>\n",
       "      <th>label</th>\n",
       "      <th>tokens</th>\n",
       "    </tr>\n",
       "  </thead>\n",
       "  <tbody>\n",
       "    <tr>\n",
       "      <th>0</th>\n",
       "      <td>the issues are presented in such a lousy way , complete with some of the year's ( unintentionally ) funniest moments , that it's impossible to care .</td>\n",
       "      <td>0</td>\n",
       "      <td>{'attention_mask': [1, 1, 1, 1, 1, 1, 1, 1, 1, 1, 1, 1, 1, 1, 1, 1, 1, 1, 1, 1, 1, 1, 1, 1, 1, 1, 1, 1, 1, 1, 1, 1, 1, 1, 1], 'input_ids': [5984, 17327, 1306, 33296, 361, 5067, 267, 275, 1188, 92, 4676, 630, 21196, 1002, 3331, 461, 368, 206321, 375, 447, 966, 8909, 2194, 1163, 7793, 5137, 388, 38532, 630, 861, 6648, 28698, 427, 12963, 503]}</td>\n",
       "    </tr>\n",
       "    <tr>\n",
       "      <th>1</th>\n",
       "      <td>often gruelling and heartbreaking to witness , but seldahl and wollter's sterling performances raise this far above the level of the usual maudlin disease movie .</td>\n",
       "      <td>1</td>\n",
       "      <td>{'attention_mask': [1, 1, 1, 1, 1, 1, 1, 1, 1, 1, 1, 1, 1, 1, 1, 1, 1, 1, 1, 1, 1, 1, 1, 1, 1, 1, 1, 1, 1, 1, 1, 1, 1, 1, 1, 1], 'input_ids': [235154, 1186, 88, 21230, 530, 23724, 7608, 17444, 427, 53134, 630, 1965, 2118, 71, 37970, 530, 203961, 562, 1256, 49609, 8827, 93082, 29955, 1119, 8372, 9468, 368, 6626, 461, 368, 47305, 196340, 7253, 26700, 51651, 503]}</td>\n",
       "    </tr>\n",
       "  </tbody>\n",
       "</table>\n",
       "</div>"
      ],
      "text/plain": [
       "                                                                                                                                                                 text  \\\n",
       "0               the issues are presented in such a lousy way , complete with some of the year's ( unintentionally ) funniest moments , that it's impossible to care .   \n",
       "1  often gruelling and heartbreaking to witness , but seldahl and wollter's sterling performances raise this far above the level of the usual maudlin disease movie .   \n",
       "\n",
       "   label  \\\n",
       "0      0   \n",
       "1      1   \n",
       "\n",
       "                                                                                                                                                                                                                                                                                                                                                                        tokens  \n",
       "0                       {'attention_mask': [1, 1, 1, 1, 1, 1, 1, 1, 1, 1, 1, 1, 1, 1, 1, 1, 1, 1, 1, 1, 1, 1, 1, 1, 1, 1, 1, 1, 1, 1, 1, 1, 1, 1, 1], 'input_ids': [5984, 17327, 1306, 33296, 361, 5067, 267, 275, 1188, 92, 4676, 630, 21196, 1002, 3331, 461, 368, 206321, 375, 447, 966, 8909, 2194, 1163, 7793, 5137, 388, 38532, 630, 861, 6648, 28698, 427, 12963, 503]}  \n",
       "1  {'attention_mask': [1, 1, 1, 1, 1, 1, 1, 1, 1, 1, 1, 1, 1, 1, 1, 1, 1, 1, 1, 1, 1, 1, 1, 1, 1, 1, 1, 1, 1, 1, 1, 1, 1, 1, 1, 1], 'input_ids': [235154, 1186, 88, 21230, 530, 23724, 7608, 17444, 427, 53134, 630, 1965, 2118, 71, 37970, 530, 203961, 562, 1256, 49609, 8827, 93082, 29955, 1119, 8372, 9468, 368, 6626, 461, 368, 47305, 196340, 7253, 26700, 51651, 503]}  "
      ]
     },
     "execution_count": 12,
     "metadata": {},
     "output_type": "execute_result"
    }
   ],
   "source": [
    "mapped: datasets.Dataset = train.shuffle().select([1,3]).map(\n",
    "    lambda row: {\n",
    "        \"tokens\": tokenizer(row['text']),\n",
    "        \"label\": row['label']\n",
    "    }, \n",
    "    num_proc=8\n",
    ")\n",
    "pd.DataFrame(mapped)"
   ]
  },
  {
   "cell_type": "code",
   "execution_count": 13,
   "id": "bfc9e154",
   "metadata": {},
   "outputs": [
    {
     "data": {
      "text/html": [
       "<div>\n",
       "<style scoped>\n",
       "    .dataframe tbody tr th:only-of-type {\n",
       "        vertical-align: middle;\n",
       "    }\n",
       "\n",
       "    .dataframe tbody tr th {\n",
       "        vertical-align: top;\n",
       "    }\n",
       "\n",
       "    .dataframe thead th {\n",
       "        text-align: right;\n",
       "    }\n",
       "</style>\n",
       "<table border=\"1\" class=\"dataframe\">\n",
       "  <thead>\n",
       "    <tr style=\"text-align: right;\">\n",
       "      <th></th>\n",
       "      <th>label</th>\n",
       "      <th>tokens</th>\n",
       "    </tr>\n",
       "  </thead>\n",
       "  <tbody>\n",
       "    <tr>\n",
       "      <th>0</th>\n",
       "      <td>0</td>\n",
       "      <td>{'attention_mask': [1, 1, 1, 1, 1, 1, 1, 1, 1, 1, 1, 1, 1, 1, 1, 1, 1, 1, 1, 1, 1, 1, 1, 1, 1, 1, 1, 1, 1, 1, 1, 1, 1, 1, 1], 'input_ids': [5984, 17327, 1306, 33296, 361, 5067, 267, 275, 1188, 92, 4676, 630, 21196, 1002, 3331, 461, 368, 206321, 375, 447, 966, 8909, 2194, 1163, 7793, 5137, 388, 38532, 630, 861, 6648, 28698, 427, 12963, 503]}</td>\n",
       "    </tr>\n",
       "    <tr>\n",
       "      <th>1</th>\n",
       "      <td>1</td>\n",
       "      <td>{'attention_mask': [1, 1, 1, 1, 1, 1, 1, 1, 1, 1, 1, 1, 1, 1, 1, 1, 1, 1, 1, 1, 1, 1, 1, 1, 1, 1, 1, 1, 1, 1, 1, 1, 1, 1, 1, 1], 'input_ids': [235154, 1186, 88, 21230, 530, 23724, 7608, 17444, 427, 53134, 630, 1965, 2118, 71, 37970, 530, 203961, 562, 1256, 49609, 8827, 93082, 29955, 1119, 8372, 9468, 368, 6626, 461, 368, 47305, 196340, 7253, 26700, 51651, 503]}</td>\n",
       "    </tr>\n",
       "  </tbody>\n",
       "</table>\n",
       "</div>"
      ],
      "text/plain": [
       "   label  \\\n",
       "0      0   \n",
       "1      1   \n",
       "\n",
       "                                                                                                                                                                                                                                                                                                                                                                        tokens  \n",
       "0                       {'attention_mask': [1, 1, 1, 1, 1, 1, 1, 1, 1, 1, 1, 1, 1, 1, 1, 1, 1, 1, 1, 1, 1, 1, 1, 1, 1, 1, 1, 1, 1, 1, 1, 1, 1, 1, 1], 'input_ids': [5984, 17327, 1306, 33296, 361, 5067, 267, 275, 1188, 92, 4676, 630, 21196, 1002, 3331, 461, 368, 206321, 375, 447, 966, 8909, 2194, 1163, 7793, 5137, 388, 38532, 630, 861, 6648, 28698, 427, 12963, 503]}  \n",
       "1  {'attention_mask': [1, 1, 1, 1, 1, 1, 1, 1, 1, 1, 1, 1, 1, 1, 1, 1, 1, 1, 1, 1, 1, 1, 1, 1, 1, 1, 1, 1, 1, 1, 1, 1, 1, 1, 1, 1], 'input_ids': [235154, 1186, 88, 21230, 530, 23724, 7608, 17444, 427, 53134, 630, 1965, 2118, 71, 37970, 530, 203961, 562, 1256, 49609, 8827, 93082, 29955, 1119, 8372, 9468, 368, 6626, 461, 368, 47305, 196340, 7253, 26700, 51651, 503]}  "
      ]
     },
     "execution_count": 13,
     "metadata": {},
     "output_type": "execute_result"
    }
   ],
   "source": [
    "pd.DataFrame(mapped.remove_columns(column_names=['text']))"
   ]
  },
  {
   "cell_type": "code",
   "execution_count": 14,
   "id": "55dadd02",
   "metadata": {},
   "outputs": [],
   "source": [
    "del mapped"
   ]
  },
  {
   "cell_type": "markdown",
   "id": "8a78d81c",
   "metadata": {},
   "source": [
    "---\n",
    "# Stream DataSet \n",
    "\n",
    "* [Stream](https://huggingface.co/docs/datasets/stream)\n"
   ]
  },
  {
   "cell_type": "code",
   "execution_count": 30,
   "id": "08c01670",
   "metadata": {},
   "outputs": [
    {
     "data": {
      "text/plain": [
       "{'text': Value(dtype='string', id=None),\n",
       " 'label': ClassLabel(names=['World', 'Sports', 'Business', 'Sci/Tech'], id=None)}"
      ]
     },
     "execution_count": 30,
     "metadata": {},
     "output_type": "execute_result"
    }
   ],
   "source": [
    "stream = load_dataset('ag_news', streaming=True)\n",
    "stream['train'].features"
   ]
  },
  {
   "cell_type": "code",
   "execution_count": 31,
   "id": "9868ad06",
   "metadata": {},
   "outputs": [],
   "source": [
    "train = stream['train']"
   ]
  },
  {
   "cell_type": "code",
   "execution_count": 23,
   "id": "0adb4984",
   "metadata": {},
   "outputs": [
    {
     "data": {
      "text/html": [
       "<div>\n",
       "<style scoped>\n",
       "    .dataframe tbody tr th:only-of-type {\n",
       "        vertical-align: middle;\n",
       "    }\n",
       "\n",
       "    .dataframe tbody tr th {\n",
       "        vertical-align: top;\n",
       "    }\n",
       "\n",
       "    .dataframe thead th {\n",
       "        text-align: right;\n",
       "    }\n",
       "</style>\n",
       "<table border=\"1\" class=\"dataframe\">\n",
       "  <thead>\n",
       "    <tr style=\"text-align: right;\">\n",
       "      <th></th>\n",
       "      <th>text</th>\n",
       "      <th>label</th>\n",
       "    </tr>\n",
       "  </thead>\n",
       "  <tbody>\n",
       "    <tr>\n",
       "      <th>0</th>\n",
       "      <td>Wall St. Bears Claw Back Into the Black (Reuters) Reuters - Short-sellers, Wall Street's dwindling\\band of ultra-cynics, are seeing green again.</td>\n",
       "      <td>2</td>\n",
       "    </tr>\n",
       "  </tbody>\n",
       "</table>\n",
       "</div>"
      ],
      "text/plain": [
       "                                                                                                                                               text  \\\n",
       "0  Wall St. Bears Claw Back Into the Black (Reuters) Reuters - Short-sellers, Wall Street's dwindling\\band of ultra-cynics, are seeing green again.   \n",
       "\n",
       "   label  \n",
       "0      2  "
      ]
     },
     "execution_count": 23,
     "metadata": {},
     "output_type": "execute_result"
    }
   ],
   "source": [
    "df = pd.DataFrame(list(train.take(1)))\n",
    "df"
   ]
  },
  {
   "cell_type": "code",
   "execution_count": 24,
   "id": "c5ed9f52",
   "metadata": {},
   "outputs": [
    {
     "data": {
      "text/plain": [
       "datasets.dataset_dict.IterableDatasetDict"
      ]
     },
     "execution_count": 24,
     "metadata": {},
     "output_type": "execute_result"
    }
   ],
   "source": [
    "type(stream)"
   ]
  },
  {
   "cell_type": "code",
   "execution_count": 25,
   "id": "c7091986",
   "metadata": {},
   "outputs": [
    {
     "data": {
      "text/plain": [
       "datasets.iterable_dataset.IterableDataset"
      ]
     },
     "execution_count": 25,
     "metadata": {},
     "output_type": "execute_result"
    }
   ],
   "source": [
    "type(stream['train'])"
   ]
  },
  {
   "cell_type": "code",
   "execution_count": 27,
   "id": "8f62b74d",
   "metadata": {},
   "outputs": [],
   "source": [
    "del stream"
   ]
  }
 ],
 "metadata": {
  "kernelspec": {
   "display_name": "Python 3 (ipykernel)",
   "language": "python",
   "name": "python3"
  },
  "language_info": {
   "codemirror_mode": {
    "name": "ipython",
    "version": 3
   },
   "file_extension": ".py",
   "mimetype": "text/x-python",
   "name": "python",
   "nbconvert_exporter": "python",
   "pygments_lexer": "ipython3",
   "version": "3.9.13"
  }
 },
 "nbformat": 4,
 "nbformat_minor": 5
}
