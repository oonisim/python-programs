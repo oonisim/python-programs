{
 "cells": [
  {
   "cell_type": "markdown",
   "id": "cd1fef8d",
   "metadata": {},
   "source": [
    "# Thread Safe in Python\n",
    "\n",
    "* [Python threads synchronization: Locks, RLocks, Semaphores, Conditions and Queues](http://www.laurentluce.com/posts/python-threads-synchronization-locks-rlocks-semaphores-conditions-events-and-queues/)\n",
    "\n",
    "* [MULTITHREADING : USING LOCKS IN THE WITH STATEMENT (CONTEXT MANAGER)](https://www.bogotobogo.com/python/Multithread/python_multithreading_Using_Locks_with_statement_Context_Manager.php)"
   ]
  },
  {
   "cell_type": "code",
   "execution_count": null,
   "id": "eaf6f9f4",
   "metadata": {},
   "outputs": [],
   "source": []
  }
 ],
 "metadata": {
  "kernelspec": {
   "display_name": "Python 3 (ipykernel)",
   "language": "python",
   "name": "python3"
  },
  "language_info": {
   "codemirror_mode": {
    "name": "ipython",
    "version": 3
   },
   "file_extension": ".py",
   "mimetype": "text/x-python",
   "name": "python",
   "nbconvert_exporter": "python",
   "pygments_lexer": "ipython3",
   "version": "3.8.10"
  }
 },
 "nbformat": 4,
 "nbformat_minor": 5
}
