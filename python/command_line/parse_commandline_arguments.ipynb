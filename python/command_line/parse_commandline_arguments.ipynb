{
 "cells": [
  {
   "cell_type": "markdown",
   "id": "06835467",
   "metadata": {},
   "source": [
    "# Parse command line argument with argparse\n",
    "\n",
    "* [How to Build Command Line Interfaces in Python With argparse](https://realpython.com/command-line-interfaces-python-argparse/)\n",
    "\n",
    "## Namespace object\n",
    "\n",
    "It is like a \n",
    "\n",
    "* [argparse.Namespace](https://docs.python.org/dev/library/argparse.html#argparse.Namespace)\n",
    "\n",
    "> Simple class used by default by parse_args() to create an object holding attributes and return it.               "
   ]
  },
  {
   "cell_type": "code",
   "execution_count": 3,
   "id": "d1701ad2",
   "metadata": {},
   "outputs": [
    {
     "data": {
      "text/plain": [
       "{'foo': 'BAR'}"
      ]
     },
     "execution_count": 3,
     "metadata": {},
     "output_type": "execute_result"
    }
   ],
   "source": [
    "import argparse\n",
    "\n",
    "parser = argparse.ArgumentParser()\n",
    "parser.add_argument('--foo')\n",
    "args = parser.parse_args(['--foo', 'BAR'])\n",
    "vars(args)"
   ]
  },
  {
   "cell_type": "markdown",
   "id": "77b32378",
   "metadata": {},
   "source": [
    "It may also be useful to have an ArgumentParser assign attributes to an already existing object, rather than a new Namespace object. This can be achieved by specifying the namespace= keyword argument:"
   ]
  },
  {
   "cell_type": "code",
   "execution_count": 10,
   "id": "a4ac6a62",
   "metadata": {},
   "outputs": [
    {
     "data": {
      "text/plain": [
       "{'foo': None, 'tako': 'ika'}"
      ]
     },
     "execution_count": 10,
     "metadata": {},
     "output_type": "execute_result"
    }
   ],
   "source": [
    "class C:\n",
    "    pass\n",
    "c = C()    # <--- class instance to provide a namespace (container)\n",
    "parser.parse_args(args=['--tako', 'ika'], namespace=c)\n",
    "vars(c)"
   ]
  },
  {
   "cell_type": "markdown",
   "id": "83bc6e8f",
   "metadata": {},
   "source": [
    "                       \n",
    "* [Python vars function](https://www.w3schools.com/python/ref_func_vars.asp)\n",
    "\n",
    "> Return the __dict__ atribute of an object called Person:"
   ]
  },
  {
   "cell_type": "code",
   "execution_count": 2,
   "id": "707f1e69",
   "metadata": {},
   "outputs": [
    {
     "data": {
      "text/plain": [
       "mappingproxy({'__module__': '__main__',\n",
       "              'name': 'John',\n",
       "              'age': 36,\n",
       "              'country': 'norway',\n",
       "              '__dict__': <attribute '__dict__' of 'Person' objects>,\n",
       "              '__weakref__': <attribute '__weakref__' of 'Person' objects>,\n",
       "              '__doc__': None})"
      ]
     },
     "execution_count": 2,
     "metadata": {},
     "output_type": "execute_result"
    }
   ],
   "source": [
    "class Person:\n",
    "  name = \"John\"\n",
    "  age = 36\n",
    "  country = \"norway\"\n",
    "\n",
    "vars(Person)"
   ]
  },
  {
   "cell_type": "code",
   "execution_count": 15,
   "id": "058a9c44",
   "metadata": {},
   "outputs": [
    {
     "name": "stderr",
     "output_type": "stream",
     "text": [
      "usage: ipykernel_launcher.py [-h] [--epochs EPOCHS] [--batch-size BATCH_SIZE]\n",
      "                             [--output_dir OUTPUT_DIR]\n",
      "ipykernel_launcher.py: error: unrecognized arguments: -f /home/oonisim/.local/share/jupyter/runtime/kernel-b1c57c35-96d6-40ef-8d27-f870842c5894.json\n"
     ]
    },
    {
     "ename": "SystemExit",
     "evalue": "2",
     "output_type": "error",
     "traceback": [
      "An exception has occurred, use %tb to see the full traceback.\n",
      "\u001b[0;31mSystemExit\u001b[0m\u001b[0;31m:\u001b[0m 2\n"
     ]
    }
   ],
   "source": [
    "import os\n",
    "import argparse\n",
    "\n",
    "def parse_args():\n",
    "    # --------------------------------------------------------------------------------\n",
    "    # https://docs.python.org/dev/library/argparse.html#dest\n",
    "    # --------------------------------------------------------------------------------\n",
    "    parser = argparse.ArgumentParser()\n",
    "\n",
    "    # --------------------------------------------------------------------------------\n",
    "    # hyperparameters Estimator argument are passed as command-line arguments to the script.\n",
    "    # --------------------------------------------------------------------------------\n",
    "    parser.add_argument('--epochs', type=int, default=10)\n",
    "    parser.add_argument('--batch-size', type=int, default=100)\n",
    "    parser.add_argument(\"--output_dir\", type=str, default=\"model_dir\")\n",
    "\n",
    "    args = parser.parse_args()\n",
    "    return args\n",
    "\n",
    "args = parse_args()\n",
    "for key,value in vars(args).items():\n",
    "    print(f\"{key}:{value}\")\n"
   ]
  }
 ],
 "metadata": {
  "kernelspec": {
   "display_name": "Python 3 (ipykernel)",
   "language": "python",
   "name": "python3"
  },
  "language_info": {
   "codemirror_mode": {
    "name": "ipython",
    "version": 3
   },
   "file_extension": ".py",
   "mimetype": "text/x-python",
   "name": "python",
   "nbconvert_exporter": "python",
   "pygments_lexer": "ipython3",
   "version": "3.8.10"
  }
 },
 "nbformat": 4,
 "nbformat_minor": 5
}
