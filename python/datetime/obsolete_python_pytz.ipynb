{
 "cells": [
  {
   "cell_type": "code",
   "execution_count": 2,
   "id": "3340b3d2",
   "metadata": {},
   "outputs": [
    {
     "name": "stdout",
     "output_type": "stream",
     "text": [
      "\u001b[33mWARNING: You are using pip version 22.0.4; however, version 22.2.2 is available.\r\n",
      "You should consider upgrading via the '/Users/1245095/venv/ml/bin/python3 -m pip install --upgrade pip' command.\u001b[0m\u001b[33m\r\n",
      "\u001b[0m"
     ]
    }
   ],
   "source": [
    "!pip install pytz --quiet"
   ]
  },
  {
   "cell_type": "markdown",
   "id": "70caeb71",
   "metadata": {},
   "source": [
    "# Python time module is defective\n",
    "Python is missing time zone other than UTC, hence needs pytz.\n",
    "\n",
    "-> Python introducced [zoneinfo](https://docs.python.org/3/library/zoneinfo.html) module to fix this. Hence no need to use pytz anymore. See python_datetime_timezone.ipynb\n",
    "\n",
    "Always convert local time to UTC first to use pytz."
   ]
  },
  {
   "cell_type": "code",
   "execution_count": 4,
   "id": "578cae9e",
   "metadata": {},
   "outputs": [],
   "source": [
    "import pytz\n",
    "from datetime import datetime"
   ]
  },
  {
   "cell_type": "markdown",
   "id": "d450a3c5",
   "metadata": {},
   "source": [
    "## Datetime withouth TZ"
   ]
  },
  {
   "cell_type": "code",
   "execution_count": 12,
   "id": "f6351a43",
   "metadata": {},
   "outputs": [
    {
     "data": {
      "text/plain": [
       "datetime.datetime(2022, 9, 18, 13, 20)"
      ]
     },
     "execution_count": 12,
     "metadata": {},
     "output_type": "execute_result"
    }
   ],
   "source": [
    "sydney_date_time: datetime = datetime(\n",
    "    year=2022,\n",
    "    month=9,\n",
    "    day=18,\n",
    "    hour=13,\n",
    "    minute=20,\n",
    "    second=0    \n",
    ")\n",
    "sydney_date_time   # <--- No time zone information associated."
   ]
  },
  {
   "cell_type": "markdown",
   "id": "2a4fdaff",
   "metadata": {},
   "source": [
    "## Set the time zone"
   ]
  },
  {
   "cell_type": "code",
   "execution_count": 13,
   "id": "b7a38771",
   "metadata": {},
   "outputs": [
    {
     "data": {
      "text/plain": [
       "datetime.datetime(2022, 9, 18, 13, 20, tzinfo=<DstTzInfo 'Australia/Sydney' AEST+10:00:00 STD>)"
      ]
     },
     "execution_count": 13,
     "metadata": {},
     "output_type": "execute_result"
    }
   ],
   "source": [
    "sydney_tz: pytz.timezone = pytz.timezone('Australia/Sydney')\n",
    "\n",
    "sydney_date_time = sydney_tz.localize(sydney_date_time)\n",
    "sydney_date_time"
   ]
  },
  {
   "cell_type": "markdown",
   "id": "b797e9c3",
   "metadata": {},
   "source": [
    "## Convert to UTC"
   ]
  },
  {
   "cell_type": "code",
   "execution_count": 15,
   "id": "a294572a",
   "metadata": {},
   "outputs": [
    {
     "data": {
      "text/plain": [
       "datetime.datetime(2022, 9, 18, 3, 20, tzinfo=<UTC>)"
      ]
     },
     "execution_count": 15,
     "metadata": {},
     "output_type": "execute_result"
    }
   ],
   "source": [
    "utc_date_time: datetime = pytz.utc.normalize(sydney_date_time.astimezone(pytz.utc))\n",
    "utc_date_time"
   ]
  },
  {
   "cell_type": "markdown",
   "id": "bfc30d65",
   "metadata": {},
   "source": [
    "## Convert to JST"
   ]
  },
  {
   "cell_type": "code",
   "execution_count": 16,
   "id": "bfadeb89",
   "metadata": {},
   "outputs": [
    {
     "data": {
      "text/plain": [
       "datetime.datetime(2022, 9, 18, 12, 20, tzinfo=<DstTzInfo 'Asia/Tokyo' JST+9:00:00 STD>)"
      ]
     },
     "execution_count": 16,
     "metadata": {},
     "output_type": "execute_result"
    }
   ],
   "source": [
    "tokyo_tz: pytz.timezone = pytz.timezone('Asia/Tokyo')\n",
    "tokyo_date_time: datetime = tokyo_tz.normalize(utc_date_time.astimezone(tokyo_tz))\n",
    "tokyo_date_time"
   ]
  },
  {
   "cell_type": "code",
   "execution_count": null,
   "id": "c81ea69a",
   "metadata": {},
   "outputs": [],
   "source": []
  }
 ],
 "metadata": {
  "kernelspec": {
   "display_name": "Python 3 (ipykernel)",
   "language": "python",
   "name": "python3"
  },
  "language_info": {
   "codemirror_mode": {
    "name": "ipython",
    "version": 3
   },
   "file_extension": ".py",
   "mimetype": "text/x-python",
   "name": "python",
   "nbconvert_exporter": "python",
   "pygments_lexer": "ipython3",
   "version": "3.9.13"
  }
 },
 "nbformat": 4,
 "nbformat_minor": 5
}
