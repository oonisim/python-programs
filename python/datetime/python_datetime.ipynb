{
 "cells": [
  {
   "cell_type": "markdown",
   "id": "16ec37fe",
   "metadata": {},
   "source": [
    "# How to manage datetime in Python\n",
    "\n",
    "* [datetime — Basic date and time types](https://docs.python.org/3/library/datetime.html)\n",
    "\n",
    "> * class datetime.date   \n",
    "> An idealized naive date, assuming the current Gregorian calendar always was, and always will be, in effect. Attributes: year, month, and day.<br>\n",
    ">  <BR>\n",
    "> * class datetime.time  \n",
    "> An idealized time, independent of any particular day, assuming that every day has exactly 24*60*60 seconds. (There is no notion of “leap seconds” here.) Attributes: hour, minute, second, microsecond, and tzinfo.<br>\n",
    "> * class datetime.datetime  \n",
    "> A combination of a date and a time. Attributes: year, month, day, hour, minute, second, microsecond, and tzinfo.<br>\n",
    ">  <BR>\n",
    "> * class datetime.timedelta  \n",
    "> A duration expressing the difference between two date, time, or datetime instances to microsecond resolution.<br>\n",
    ">  <BR>\n",
    "> * class datetime.tzinfo  \n",
    "> An abstract base class for time zone information objects. These are used by the datetime and time classes to provide a customizable notion of time adjustment (for example, to account for time zone and/or daylight saving time).<br>\n",
    ">  <BR>\n",
    "> * class datetime.timezone  \n",
    "> A class that implements the tzinfo abstract base class as a fixed offset from the UTC."
   ]
  },
  {
   "cell_type": "code",
   "execution_count": 3,
   "id": "633c7b65",
   "metadata": {},
   "outputs": [],
   "source": [
    "from datetime import datetime"
   ]
  },
  {
   "cell_type": "code",
   "execution_count": 4,
   "id": "72b8fa5d",
   "metadata": {},
   "outputs": [
    {
     "data": {
      "text/plain": [
       "datetime.datetime(2020, 10, 11, 0, 0)"
      ]
     },
     "execution_count": 4,
     "metadata": {},
     "output_type": "execute_result"
    }
   ],
   "source": [
    "datetime(year=2020, month=10, day=11)"
   ]
  },
  {
   "cell_type": "code",
   "execution_count": null,
   "id": "504f4f7e",
   "metadata": {},
   "outputs": [],
   "source": []
  }
 ],
 "metadata": {
  "kernelspec": {
   "display_name": "Python 3 (ipykernel)",
   "language": "python",
   "name": "python3"
  },
  "language_info": {
   "codemirror_mode": {
    "name": "ipython",
    "version": 3
   },
   "file_extension": ".py",
   "mimetype": "text/x-python",
   "name": "python",
   "nbconvert_exporter": "python",
   "pygments_lexer": "ipython3",
   "version": "3.8.10"
  }
 },
 "nbformat": 4,
 "nbformat_minor": 5
}
