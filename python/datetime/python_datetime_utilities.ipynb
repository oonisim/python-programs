{
 "cells": [
  {
   "cell_type": "code",
   "execution_count": 1,
   "id": "27e8be36",
   "metadata": {},
   "outputs": [
    {
     "data": {
      "text/html": [
       "<style>\n",
       "table {float:left}\n",
       "</style>\n"
      ],
      "text/plain": [
       "<IPython.core.display.HTML object>"
      ]
     },
     "metadata": {},
     "output_type": "display_data"
    }
   ],
   "source": [
    "%%html\n",
    "<style>\n",
    "table {float:left}\n",
    "</style>"
   ]
  },
  {
   "cell_type": "markdown",
   "id": "4bb6a4ee",
   "metadata": {},
   "source": [
    "# Python Date/Time utilities\n",
    "\n",
    "* [dateutil parser](https://dateutil.readthedocs.io/en/stable/parser.html)\n",
    "\n",
    "> generic date/time string parser which is able to parse most known formats to represent a date and/or time.\n"
   ]
  },
  {
   "cell_type": "code",
   "execution_count": 83,
   "id": "d532a0d0",
   "metadata": {},
   "outputs": [],
   "source": [
    "import os\n",
    "import sys\n",
    "import logging\n",
    "import datetime\n",
    "import calendar\n",
    "import inspect\n",
    "from typing import (\n",
    "    List,\n",
    "    Dict,\n",
    "    Tuple,\n",
    "    Any,\n",
    "    Optional,\n",
    "    Callable,\n",
    "    Iterable,\n",
    ")\n",
    "\n",
    "import dateutil \n",
    "from dateutil import relativedelta\n",
    "from dateutil.tz import tzutc\n",
    "import datefinder\n",
    "import holidays\n",
    "import numpy as np"
   ]
  },
  {
   "cell_type": "code",
   "execution_count": 3,
   "id": "f603390f",
   "metadata": {},
   "outputs": [],
   "source": [
    "sys.path.append(os.getcwd())\n",
    "sys.path.append(f\"{os.getcwd()}/../lib\")"
   ]
  },
  {
   "cell_type": "code",
   "execution_count": 73,
   "id": "4b4cb26c",
   "metadata": {},
   "outputs": [
    {
     "name": "stdout",
     "output_type": "stream",
     "text": [
      "The autoreload extension is already loaded. To reload it, use:\n",
      "  %reload_ext autoreload\n"
     ]
    }
   ],
   "source": [
    "%load_ext autoreload\n",
    "%autoreload 2\n",
    "\n",
    "from util_datetime import (\n",
    "    get_datetime_components,\n",
    "    parse_date_string_as_string,\n",
    "    get_dates_from_string,\n",
    "    parse_datetime_string,\n",
    "    get_epoch_from_datetime,\n",
    "    get_epoch_from_string,\n",
    "    get_seconds_between_datetimes,\n",
    "    get_datetime_after_duration,\n",
    "    get_elapsed_time,\n",
    "    get_holidays,\n",
    "    get_cyclic_time_of_day,\n",
    "    get_cyclic_day_of_week,\n",
    "    get_cyclic_month_of_year,\n",
    ")"
   ]
  },
  {
   "cell_type": "code",
   "execution_count": 5,
   "id": "32587f66",
   "metadata": {},
   "outputs": [],
   "source": [
    "logger = logging.getLogger(__name__)"
   ]
  },
  {
   "cell_type": "markdown",
   "id": "6bff07dc",
   "metadata": {},
   "source": [
    "---\n",
    "# Instantiation\n",
    "\n",
    "Creating datetime instance"
   ]
  },
  {
   "cell_type": "code",
   "execution_count": 6,
   "id": "dd18db84",
   "metadata": {},
   "outputs": [
    {
     "data": {
      "text/plain": [
       "datetime.datetime(2023, 1, 11, 16, 35, 35, 49430)"
      ]
     },
     "execution_count": 6,
     "metadata": {},
     "output_type": "execute_result"
    }
   ],
   "source": [
    "datetime.datetime.now()"
   ]
  },
  {
   "cell_type": "code",
   "execution_count": 7,
   "id": "7656bdb1",
   "metadata": {},
   "outputs": [
    {
     "data": {
      "text/plain": [
       "datetime.datetime(2020, 10, 11, 4, 10, 52, 33)"
      ]
     },
     "execution_count": 7,
     "metadata": {},
     "output_type": "execute_result"
    }
   ],
   "source": [
    "datetime.datetime(year=2020, month=10, day=11, hour=4, minute=10, second=52, microsecond=33)"
   ]
  },
  {
   "cell_type": "markdown",
   "id": "393cfdf7",
   "metadata": {},
   "source": [
    "---\n",
    "# Datatime components"
   ]
  },
  {
   "cell_type": "code",
   "execution_count": 8,
   "id": "01ff0ff3",
   "metadata": {},
   "outputs": [
    {
     "name": "stdout",
     "output_type": "stream",
     "text": [
      "def get_datetime_components(date_time: datetime) -> dict:\n",
      "    \"\"\"Extract date/time components as dictionary\n",
      "    Args:\n",
      "        date_time: datetime instane to extract components\n",
      "    \"\"\"\n",
      "    return {\n",
      "        \"year\": date_time.year,\n",
      "        \"month\": date_time.month,\n",
      "        \"day\": date_time.day,\n",
      "        \"weekday\": date_time.weekday(),\n",
      "        \"hour\": date_time.hour,\n",
      "        \"minute\": date_time.minute,\n",
      "        \"second\": date_time.second,\n",
      "        \"microsecond\": date_time.microsecond,\n",
      "        \"tzinfo\": date_time.tzinfo,\n",
      "    }\n",
      "\n"
     ]
    }
   ],
   "source": [
    "print(inspect.getsource(get_datetime_components))"
   ]
  },
  {
   "cell_type": "code",
   "execution_count": 9,
   "id": "20fb15af",
   "metadata": {
    "scrolled": true
   },
   "outputs": [
    {
     "data": {
      "text/plain": [
       "{'year': 2023,\n",
       " 'month': 1,\n",
       " 'day': 11,\n",
       " 'weekday': 2,\n",
       " 'hour': 16,\n",
       " 'minute': 35,\n",
       " 'second': 35,\n",
       " 'microsecond': 75011,\n",
       " 'tzinfo': None}"
      ]
     },
     "execution_count": 9,
     "metadata": {},
     "output_type": "execute_result"
    }
   ],
   "source": [
    "get_datetime_components(datetime.datetime.now())"
   ]
  },
  {
   "cell_type": "markdown",
   "id": "f900c594",
   "metadata": {},
   "source": [
    "---\n",
    "# Parse date"
   ]
  },
  {
   "cell_type": "code",
   "execution_count": 10,
   "id": "be5fc0a5",
   "metadata": {},
   "outputs": [
    {
     "name": "stdout",
     "output_type": "stream",
     "text": [
      "def parse_date_string_as_string(date_str: str, formats=None, year_first=False) -> datetime.datetime:\n",
      "    day_first_date_formats = (\n",
      "        # --------------------------------------------------------------------------------\n",
      "        # 21/01/01 as 21MAY2021\n",
      "        # --------------------------------------------------------------------------------\n",
      "        '%d/%m/%y',\n",
      "        '%d-%m-%y',\n",
      "        '%d %m %y',\n",
      "        # --------------------------------------------------------------------------------\n",
      "        # 21/01/2001 as 21JAN2021\n",
      "        # --------------------------------------------------------------------------------\n",
      "        '%d/%m/%Y',\n",
      "        '%d-%m-%Y',\n",
      "        '%d %m %Y',\n",
      "        # --------------------------------------------------------------------------------\n",
      "        # 21/Jan/01 as 21JAN2021\n",
      "        # --------------------------------------------------------------------------------\n",
      "        '%d/%b/%y',\n",
      "        '%d-%b-%y',\n",
      "        '%d %b %y',\n",
      "        # --------------------------------------------------------------------------------\n",
      "        # 21/January/01 as 21JAN2021\n",
      "        # --------------------------------------------------------------------------------\n",
      "        '%d/%B/%Y',\n",
      "        '%d-%B-%Y',\n",
      "        '%d %B %Y',\n",
      "    )\n",
      "    year_first_date_formats = (\n",
      "        # --------------------------------------------------------------------------------\n",
      "        # 21/01/01 as 21MAY2021\n",
      "        # --------------------------------------------------------------------------------\n",
      "        '%y/%m/%d',\n",
      "        '%y-%m-%d',\n",
      "        '%y %m %d',\n",
      "        # --------------------------------------------------------------------------------\n",
      "        # 21/01/2001 as 21JAN2021\n",
      "        # --------------------------------------------------------------------------------\n",
      "        '%Y/%m/%d',\n",
      "        '%Y-%m-%d',\n",
      "        '%Y %m %d',\n",
      "        # --------------------------------------------------------------------------------\n",
      "        # 21/Jan/01 as 21JAN2021\n",
      "        # --------------------------------------------------------------------------------\n",
      "        '%y/%b/%d',\n",
      "        '%y-%b-%d',\n",
      "        '%y %b %d',\n",
      "        # --------------------------------------------------------------------------------\n",
      "        # 21/January/01 as 21JAN2021\n",
      "        # --------------------------------------------------------------------------------\n",
      "        '%Y/%B/%d',\n",
      "        '%Y-%B-%d',\n",
      "        '%Y %B %d',\n",
      "    )\n",
      "    date_formats = []\n",
      "    if formats is None:\n",
      "        # --------------------------------------------------------------------------------\n",
      "        # Reverse the format string in day_first_date_formats when year first.\n",
      "        # --------------------------------------------------------------------------------\n",
      "        if year_first:\n",
      "            date_formats = year_first_date_formats\n",
      "        else:\n",
      "            date_formats = day_first_date_formats\n",
      "\n",
      "        logger.debug(date_formats)\n",
      "\n",
      "    else:\n",
      "        # --------------------------------------------------------------------------------\n",
      "        # Do not touch given formats if it is not None\n",
      "        # --------------------------------------------------------------------------------\n",
      "        date_formats = formats\n",
      "\n",
      "    parsed: List[datetime.datetime] = []\n",
      "    for fmt in date_formats:\n",
      "        try:\n",
      "            parsed.append(datetime.datetime.strptime(date_str, fmt))\n",
      "        except ValueError as e:\n",
      "            pass\n",
      "\n",
      "    logger.debug(parsed)\n",
      "    if len(parsed) == 0 or len(parsed) > 1:\n",
      "        raise RuntimeError(f\"invalid date_str [{date_str}]\")\n",
      "\n",
      "    return parsed[0]\n",
      "\n"
     ]
    }
   ],
   "source": [
    "print(inspect.getsource(parse_date_string_as_string))"
   ]
  },
  {
   "cell_type": "code",
   "execution_count": 11,
   "id": "073933f6",
   "metadata": {},
   "outputs": [
    {
     "data": {
      "text/plain": [
       "datetime.datetime(2021, 1, 22, 0, 0)"
      ]
     },
     "execution_count": 11,
     "metadata": {},
     "output_type": "execute_result"
    }
   ],
   "source": [
    "fmt = '%d/%m/%y'\n",
    "parse_date_string_as_string(date_str=\"21 JAN 22\", formats=None, year_first=True)\n",
    "# parse_date_string_as_string(date_str=\"8:16:00 AM\", formats=None)"
   ]
  },
  {
   "cell_type": "markdown",
   "id": "57f8a391",
   "metadata": {},
   "source": [
    "## datefinder\n",
    "\n",
    "* [datefinder - extract dates from text](https://datefinder.readthedocs.io/en/latest/)\n",
    "\n",
    "> A python module for locating dates inside text. Use this package to extract all sorts of date like strings from a document and turn them into datetime objects."
   ]
  },
  {
   "cell_type": "code",
   "execution_count": 12,
   "id": "21a48633",
   "metadata": {},
   "outputs": [
    {
     "name": "stdout",
     "output_type": "stream",
     "text": [
      "def get_dates_from_string(\n",
      "        text: str,\n",
      "        strict: bool = True,\n",
      ") -> List[datetime.datetime]:\n",
      "    \"\"\"Extract datet from string\n",
      "    Args:\n",
      "        text: string to find a date\n",
      "        strict: require complete date. July 2016 of Monday will not return datetimes.\n",
      "    Returns: datetime\n",
      "    Raises: RuntimeError is no date\n",
      "    \"\"\"\n",
      "    dates = list(datefinder.find_dates(text, source=False, index=False, strict=strict, base_date=None))\n",
      "    if len(dates) <= 0:\n",
      "        raise RuntimeError(f\"invalid text with no date: [{text}]\")\n",
      "\n",
      "    return dates\n",
      "\n"
     ]
    }
   ],
   "source": [
    "print(inspect.getsource(get_dates_from_string))"
   ]
  },
  {
   "cell_type": "code",
   "execution_count": 13,
   "id": "990c0144",
   "metadata": {},
   "outputs": [
    {
     "ename": "RuntimeError",
     "evalue": "invalid text with no date: [ AM]",
     "output_type": "error",
     "traceback": [
      "\u001b[0;31m---------------------------------------------------------------------------\u001b[0m",
      "\u001b[0;31mRuntimeError\u001b[0m                              Traceback (most recent call last)",
      "Cell \u001b[0;32mIn [13], line 1\u001b[0m\n\u001b[0;32m----> 1\u001b[0m \u001b[43mget_dates_from_string\u001b[49m\u001b[43m(\u001b[49m\u001b[43mtext\u001b[49m\u001b[38;5;241;43m=\u001b[39;49m\u001b[38;5;124;43m\"\u001b[39;49m\u001b[38;5;124;43m AM\u001b[39;49m\u001b[38;5;124;43m\"\u001b[39;49m\u001b[43m)\u001b[49m\n",
      "File \u001b[0;32m~/home/repository/git/oonisim/python-programs/python/datetime/../lib/util_datetime.py:146\u001b[0m, in \u001b[0;36mget_dates_from_string\u001b[0;34m(text, strict)\u001b[0m\n\u001b[1;32m    144\u001b[0m dates \u001b[38;5;241m=\u001b[39m \u001b[38;5;28mlist\u001b[39m(datefinder\u001b[38;5;241m.\u001b[39mfind_dates(text, source\u001b[38;5;241m=\u001b[39m\u001b[38;5;28;01mFalse\u001b[39;00m, index\u001b[38;5;241m=\u001b[39m\u001b[38;5;28;01mFalse\u001b[39;00m, strict\u001b[38;5;241m=\u001b[39mstrict, base_date\u001b[38;5;241m=\u001b[39m\u001b[38;5;28;01mNone\u001b[39;00m))\n\u001b[1;32m    145\u001b[0m \u001b[38;5;28;01mif\u001b[39;00m \u001b[38;5;28mlen\u001b[39m(dates) \u001b[38;5;241m<\u001b[39m\u001b[38;5;241m=\u001b[39m \u001b[38;5;241m0\u001b[39m:\n\u001b[0;32m--> 146\u001b[0m     \u001b[38;5;28;01mraise\u001b[39;00m \u001b[38;5;167;01mRuntimeError\u001b[39;00m(\u001b[38;5;124mf\u001b[39m\u001b[38;5;124m\"\u001b[39m\u001b[38;5;124minvalid text with no date: [\u001b[39m\u001b[38;5;132;01m{\u001b[39;00mtext\u001b[38;5;132;01m}\u001b[39;00m\u001b[38;5;124m]\u001b[39m\u001b[38;5;124m\"\u001b[39m)\n\u001b[1;32m    148\u001b[0m \u001b[38;5;28;01mreturn\u001b[39;00m dates\n",
      "\u001b[0;31mRuntimeError\u001b[0m: invalid text with no date: [ AM]"
     ]
    }
   ],
   "source": [
    "get_dates_from_string(text=\" AM\")"
   ]
  },
  {
   "cell_type": "code",
   "execution_count": 14,
   "id": "b633d19c",
   "metadata": {},
   "outputs": [
    {
     "ename": "RuntimeError",
     "evalue": "invalid text with no date: [8:16:00 AM]",
     "output_type": "error",
     "traceback": [
      "\u001b[0;31m---------------------------------------------------------------------------\u001b[0m",
      "\u001b[0;31mRuntimeError\u001b[0m                              Traceback (most recent call last)",
      "Cell \u001b[0;32mIn [14], line 1\u001b[0m\n\u001b[0;32m----> 1\u001b[0m \u001b[43mget_dates_from_string\u001b[49m\u001b[43m(\u001b[49m\u001b[43mtext\u001b[49m\u001b[38;5;241;43m=\u001b[39;49m\u001b[38;5;124;43m\"\u001b[39;49m\u001b[38;5;124;43m8:16:00 AM\u001b[39;49m\u001b[38;5;124;43m\"\u001b[39;49m\u001b[43m)\u001b[49m\n",
      "File \u001b[0;32m~/home/repository/git/oonisim/python-programs/python/datetime/../lib/util_datetime.py:146\u001b[0m, in \u001b[0;36mget_dates_from_string\u001b[0;34m(text, strict)\u001b[0m\n\u001b[1;32m    144\u001b[0m dates \u001b[38;5;241m=\u001b[39m \u001b[38;5;28mlist\u001b[39m(datefinder\u001b[38;5;241m.\u001b[39mfind_dates(text, source\u001b[38;5;241m=\u001b[39m\u001b[38;5;28;01mFalse\u001b[39;00m, index\u001b[38;5;241m=\u001b[39m\u001b[38;5;28;01mFalse\u001b[39;00m, strict\u001b[38;5;241m=\u001b[39mstrict, base_date\u001b[38;5;241m=\u001b[39m\u001b[38;5;28;01mNone\u001b[39;00m))\n\u001b[1;32m    145\u001b[0m \u001b[38;5;28;01mif\u001b[39;00m \u001b[38;5;28mlen\u001b[39m(dates) \u001b[38;5;241m<\u001b[39m\u001b[38;5;241m=\u001b[39m \u001b[38;5;241m0\u001b[39m:\n\u001b[0;32m--> 146\u001b[0m     \u001b[38;5;28;01mraise\u001b[39;00m \u001b[38;5;167;01mRuntimeError\u001b[39;00m(\u001b[38;5;124mf\u001b[39m\u001b[38;5;124m\"\u001b[39m\u001b[38;5;124minvalid text with no date: [\u001b[39m\u001b[38;5;132;01m{\u001b[39;00mtext\u001b[38;5;132;01m}\u001b[39;00m\u001b[38;5;124m]\u001b[39m\u001b[38;5;124m\"\u001b[39m)\n\u001b[1;32m    148\u001b[0m \u001b[38;5;28;01mreturn\u001b[39;00m dates\n",
      "\u001b[0;31mRuntimeError\u001b[0m: invalid text with no date: [8:16:00 AM]"
     ]
    }
   ],
   "source": [
    "get_dates_from_string(text=\"8:16:00 AM\")"
   ]
  },
  {
   "cell_type": "code",
   "execution_count": 15,
   "id": "7487cab9",
   "metadata": {},
   "outputs": [
    {
     "data": {
      "text/plain": [
       "[datetime.datetime(2022, 1, 21, 0, 0)]"
      ]
     },
     "execution_count": 15,
     "metadata": {},
     "output_type": "execute_result"
    }
   ],
   "source": [
    "get_dates_from_string(text=\"21 JAN 22\")"
   ]
  },
  {
   "cell_type": "code",
   "execution_count": 16,
   "id": "3f1ced0f",
   "metadata": {},
   "outputs": [
    {
     "data": {
      "text/plain": [
       "[datetime.datetime(2022, 9, 1, 0, 0)]"
      ]
     },
     "execution_count": 16,
     "metadata": {},
     "output_type": "execute_result"
    }
   ],
   "source": [
    "get_dates_from_string(text=\"2022-09-01\")"
   ]
  },
  {
   "cell_type": "code",
   "execution_count": 17,
   "id": "1683cfcd",
   "metadata": {},
   "outputs": [
    {
     "data": {
      "text/plain": [
       "[datetime.datetime(2022, 9, 1, 0, 0)]"
      ]
     },
     "execution_count": 17,
     "metadata": {},
     "output_type": "execute_result"
    }
   ],
   "source": [
    "get_dates_from_string(text=\"2022 09 01\")"
   ]
  },
  {
   "cell_type": "code",
   "execution_count": 18,
   "id": "a13c7c6b",
   "metadata": {},
   "outputs": [
    {
     "data": {
      "text/plain": [
       "[datetime.datetime(1999, 8, 28, 0, 0)]"
      ]
     },
     "execution_count": 18,
     "metadata": {},
     "output_type": "execute_result"
    }
   ],
   "source": [
    "get_dates_from_string(text=\"Aug 28 1999 12:00AM\")"
   ]
  },
  {
   "cell_type": "code",
   "execution_count": 19,
   "id": "8476ce40",
   "metadata": {},
   "outputs": [
    {
     "data": {
      "text/plain": [
       "[datetime.datetime(2022, 9, 1, 0, 0)]"
      ]
     },
     "execution_count": 19,
     "metadata": {},
     "output_type": "execute_result"
    }
   ],
   "source": [
    "get_dates_from_string(text=\"2022 09 01\")"
   ]
  },
  {
   "cell_type": "markdown",
   "id": "d72c09e5",
   "metadata": {},
   "source": [
    "# Parse date/time\n",
    "\n",
    "* [dateutil - powerful extensions to datetime](https://dateutil.readthedocs.io/en/stable/)\n",
    "\n",
    "```\n",
    "pip install python-dateutil\n",
    "```"
   ]
  },
  {
   "cell_type": "code",
   "execution_count": 20,
   "id": "9f2911d3",
   "metadata": {},
   "outputs": [
    {
     "name": "stdout",
     "output_type": "stream",
     "text": [
      "def parse_datetime_string(\n",
      "        date_time_str: str,\n",
      "        dayfirst: bool = False,\n",
      "        yearfirst: bool = False,\n",
      ") -> datetime.datetime:\n",
      "    \"\"\"\n",
      "    Args:\n",
      "        date_time_str: date/time string to parse\n",
      "        dayfirst: regard the first digits as day e.g 01/05/09 as 01/May/2009\n",
      "        yearfirst: regard the first digits as year e.g. 01/05/09 as 2001/May/09\n",
      "    Returns: python datetime instance\n",
      "    Raises:\n",
      "        dateutil.parser.ParserError: Failure to parse a datetime string.\n",
      "        dateutil.parser.UnknownTimezoneWarning:  timezone cannot be parsed into a tzinfo.\n",
      "    \"\"\"\n",
      "    try:\n",
      "        return dateutil.parser.parse(date_time_str, dayfirst=dayfirst, yearfirst=yearfirst)\n",
      "    except dateutil.parser.ParserError as e:\n",
      "        raise RuntimeError(f\"parse_datetime_string() invalid date/time string [{date_time_str}]\") from e\n",
      "    except dateutil.parser.UnknownTimezoneWarning as e:\n",
      "        raise RuntimeError(f\"parse_datetime_string() invalid timezone in [{date_time_str}]\") from e\n",
      "\n"
     ]
    }
   ],
   "source": [
    "print(inspect.getsource(parse_datetime_string))"
   ]
  },
  {
   "cell_type": "code",
   "execution_count": 21,
   "id": "0c3dcddd",
   "metadata": {},
   "outputs": [
    {
     "data": {
      "text/plain": [
       "datetime.datetime(1999, 8, 28, 0, 1)"
      ]
     },
     "execution_count": 21,
     "metadata": {},
     "output_type": "execute_result"
    }
   ],
   "source": [
    "parse_datetime_string(\"Aug 28 1999 00:01AM\")"
   ]
  },
  {
   "cell_type": "code",
   "execution_count": 22,
   "id": "b62af5d6",
   "metadata": {},
   "outputs": [
    {
     "data": {
      "text/plain": [
       "datetime.datetime(2021, 10, 31, 0, 0)"
      ]
     },
     "execution_count": 22,
     "metadata": {},
     "output_type": "execute_result"
    }
   ],
   "source": [
    "parse_datetime_string(\"2021-10-31\")"
   ]
  },
  {
   "cell_type": "code",
   "execution_count": 23,
   "id": "cd58c1bf",
   "metadata": {},
   "outputs": [
    {
     "data": {
      "text/plain": [
       "datetime.datetime(2021, 10, 31, 0, 0)"
      ]
     },
     "execution_count": 23,
     "metadata": {},
     "output_type": "execute_result"
    }
   ],
   "source": [
    "parse_datetime_string(\"21-10-31\", yearfirst=True) # datetime.datetime(2021, 10, 31, 0, 0)"
   ]
  },
  {
   "cell_type": "code",
   "execution_count": 24,
   "id": "ba8aa689",
   "metadata": {},
   "outputs": [
    {
     "data": {
      "text/plain": [
       "datetime.datetime(2001, 5, 9, 0, 0)"
      ]
     },
     "execution_count": 24,
     "metadata": {},
     "output_type": "execute_result"
    }
   ],
   "source": [
    "parse_datetime_string(\"01/05/09\", yearfirst=True)"
   ]
  },
  {
   "cell_type": "code",
   "execution_count": 25,
   "id": "dd0b1e40",
   "metadata": {},
   "outputs": [
    {
     "data": {
      "text/plain": [
       "datetime.datetime(2009, 5, 1, 0, 0)"
      ]
     },
     "execution_count": 25,
     "metadata": {},
     "output_type": "execute_result"
    }
   ],
   "source": [
    "parse_datetime_string(\"01/05/09\", dayfirst=True)"
   ]
  },
  {
   "cell_type": "code",
   "execution_count": 26,
   "id": "ea74120d",
   "metadata": {},
   "outputs": [
    {
     "data": {
      "text/plain": [
       "datetime.datetime(2023, 1, 11, 8, 16)"
      ]
     },
     "execution_count": 26,
     "metadata": {},
     "output_type": "execute_result"
    }
   ],
   "source": [
    "parse_datetime_string(\"8:16:00 AM\")"
   ]
  },
  {
   "cell_type": "markdown",
   "id": "312825be",
   "metadata": {},
   "source": [
    "---\n",
    "\n",
    "# Format string\n",
    "\n",
    "* [strftime() and strptime() Format Codes](https://docs.python.org/3/library/datetime.html#strftime-and-strptime-format-codes)\n",
    "\n",
    "> The following is a list of all the format codes that the 1989 C standard requires, and these work on all platforms with a standard C implementation.\n",
    "\n",
    "\n",
    "\n",
    "| Directive | Meaning                                                                                                                                                                          | Example                                                                      |\n",
    "|-----------|----------------------------------------------------------------------------------------------------------------------------------------------------------------------------------|------------------------------------------------------------------------------|\n",
    "| %a        | Weekday as locale’s abbreviated name.                                                                                                                                            | Sun, Mon, …, Sat (en_US); So, Mo, …, Sa (de_DE)                              |\n",
    "| %A        | Weekday as locale’s full name.                                                                                                                                                   | Sunday, Monday, …, Saturday (en_US); Sonntag, Montag, …, Samstag (de_DE)     |\n",
    "| %w        | Weekday as a decimal number, where 0 is Sunday and 6 is Saturday.                                                                                                                | 0, 1, …, 6                                                                   |\n",
    "| %d        | Day of the month as a zero-padded decimal number.                                                                                                                                | 01, 02, …, 31                                                                |\n",
    "| %b        | Month as locale’s abbreviated name.                                                                                                                                              | Jan, Feb, …, Dec (en_US); Jan, Feb, …, Dez (de_DE)                           |\n",
    "| %B        | Month as locale’s full name.                                                                                                                                                     | January, February, …, December (en_US); Januar, Februar, …, Dezember (de_DE) |\n",
    "| %m        | Month as a zero-padded decimal number.                                                                                                                                           | 01, 02, …, 12                                                                |\n",
    "| %y        | Year without century as a zero-padded decimal number.                                                                                                                            | 00, 01, …, 99                                                                |\n",
    "| %Y        | Year with century as a decimal number.                                                                                                                                           | 0001, 0002, …, 2013, 2014, …, 9998, 9999                                     |\n",
    "| %H        | Hour (24-hour clock) as a zero-padded decimal number.                                                                                                                            | 00, 01, …, 23                                                                |\n",
    "| %I        | Hour (12-hour clock) as a zero-padded decimal number.                                                                                                                            | 01, 02, …, 12                                                                |\n",
    "| %p        | Locale’s equivalent of either AM or PM.                                                                                                                                          | AM, PM (en_US); am, pm (de_DE)                                               |\n",
    "| %M        | Minute as a zero-padded decimal number.                                                                                                                                          | 00, 01, …, 59                                                                |\n",
    "| %S        | Second as a zero-padded decimal number.                                                                                                                                          | 00, 01, …, 59                                                                |\n",
    "| %f        | Microsecond as a decimal number, zero-padded to 6 digits.                                                                                                                        | 000000, 000001, …, 999999                                                    |\n",
    "| %z        | UTC offset in the form ±HHMM[SS[.ffffff]] (empty string if the object is naive).                                                                                                 | (empty), +0000, -0400, +1030, +063415, -030712.345216                        |\n",
    "| %Z        | Time zone name (empty string if the object is naive).                                                                                                                            | (empty), UTC, GMT                                                            |\n",
    "| %j        | Day of the year as a zero-padded decimal number.                                                                                                                                 | 001, 002, …, 366                                                             |\n",
    "| %U        | Week number of the year (Sunday as the first day of the week) as a zero-padded decimal number. All days in a new year preceding the first Sunday are considered to be in week 0. | 00, 01, …, 53                                                                |\n",
    "| %W        | Week number of the year (Monday as the first day of the week) as a zero-padded decimal number. All days in a new year preceding the first Monday are considered to be in week 0. | 00, 01, …, 53                                                                |\n",
    "| %c        | Locale’s appropriate date and time representation.                                                                                                                               | Tue Aug 16 21:30:00 1988 (en_US); Di 16 Aug 21:30:00 1988 (de_DE)            |\n",
    "| %x        | Locale’s appropriate date representation.                                                                                                                                        | 08/16/88 (None); 08/16/1988 (en_US); 16.08.1988 (de_DE)                      |\n",
    "| %X        | Locale’s appropriate time representation.                                                                                                                                        | 21:30:00 (en_US); 21:30:00 (de_DE)                                           |\n",
    "| %%        | A literal '%' character.                                                                                                                                                         | %                                                                            |\n"
   ]
  },
  {
   "cell_type": "code",
   "execution_count": 27,
   "id": "8ce3ccc1",
   "metadata": {
    "scrolled": true
   },
   "outputs": [
    {
     "data": {
      "text/plain": [
       "'2023JAN111635'"
      ]
     },
     "execution_count": 27,
     "metadata": {},
     "output_type": "execute_result"
    }
   ],
   "source": [
    "datetime.datetime.now().strftime(\"%Y%b%d%H%M\").upper()"
   ]
  },
  {
   "cell_type": "markdown",
   "id": "67a0fa19",
   "metadata": {},
   "source": [
    "## Convert date/time string into ISO 8601 without TZ"
   ]
  },
  {
   "cell_type": "code",
   "execution_count": 28,
   "id": "db5bb620",
   "metadata": {},
   "outputs": [
    {
     "name": "stdout",
     "output_type": "stream",
     "text": [
      "2018-03-01T01:00:00Z\n"
     ]
    }
   ],
   "source": [
    "def str_to_iso8601(literal) -> int:\n",
    "    \"\"\"Convert literal date/time string into ISO 8601 format\n",
    "    e.g. \"01 Mar 2018 11:00:00 GMT+1000\" into yyyy-MM-dd'T'HH:mm:ssZ or yyyy-MM-dd'T'HH:mm:ss.SSSZ\n",
    "    \"\"\"\n",
    "    literal = ' '.join(literal.split())\n",
    "    dt_gmt = datetime.datetime.strptime(literal, '%d %b %Y %H:%M:%S %Z%z')\n",
    "\n",
    "    seconds_since_epoch = int(dt_gmt.timestamp())\n",
    "    dt_utc = datetime.datetime.utcfromtimestamp(seconds_since_epoch)\n",
    "    return dt_utc.replace(tzinfo=None).isoformat()\n",
    "\n",
    "\n",
    "print(f'{str_to_iso8601(\"01 Mar 2018 11:00:00 GMT+1000\")}Z')"
   ]
  },
  {
   "cell_type": "markdown",
   "id": "e32c49db",
   "metadata": {},
   "source": [
    "---\n",
    "# Epoch\n",
    "## Convert date/time string into epoch\n",
    "\n",
    "Check the result with https://www.epochconverter.com/"
   ]
  },
  {
   "cell_type": "code",
   "execution_count": 35,
   "id": "fa369306",
   "metadata": {},
   "outputs": [
    {
     "name": "stdout",
     "output_type": "stream",
     "text": [
      "def get_epoch_from_string(literal, format='%d %b %Y %H:%M:%S %Z%z') -> int:\n",
      "    \"\"\"Convert literal date/time string into epoch time in seconds\n",
      "    e.g. \"01 Mar 2018 11:00:00 GMT+1000\" into 1519866000\n",
      "    Args:\n",
      "        literal: string to parse date/time\n",
      "        format: date/time format of the string\n",
      "    Returns: epoch (in seconds) as int\n",
      "    \"\"\"\n",
      "    literal = ' '.join(literal.split())\n",
      "    dt = datetime.datetime.strptime(literal, format)\n",
      "    return int(dt.timestamp())  # sec\n",
      "\n"
     ]
    }
   ],
   "source": [
    "print(inspect.getsource(get_epoch_from_string))"
   ]
  },
  {
   "cell_type": "code",
   "execution_count": 36,
   "id": "cf738866",
   "metadata": {},
   "outputs": [
    {
     "data": {
      "text/plain": [
       "1519866000"
      ]
     },
     "execution_count": 36,
     "metadata": {},
     "output_type": "execute_result"
    }
   ],
   "source": [
    "get_epoch_from_string(\"01 Mar 2018 11:00:00 GMT+1000\")"
   ]
  },
  {
   "cell_type": "markdown",
   "id": "ff4ec816",
   "metadata": {},
   "source": [
    "## Convert datetime to epoch\n",
    "It looks Python date/time function may have bugs.\n",
    "\n",
    "* [Convert python datetime to epoch with strftime](https://stackoverflow.com/questions/11743019/convert-python-datetime-to-epoch-with-strftime)\n",
    "\n",
    "> 1st of April 2012 UTC from epoch is 1333238400 but this above returns 1333234800 which is different by 1 hour.\n",
    "> ```\n",
    "> >>>datetime.datetime.datetime(2012,04,01,0,0).strftime('%s')\n",
    "'1333234800'\n",
    "> ```\n",
    "\n",
    "> don't use .strftime(\"%s\"): it is not supported, it is not portable, it may silently produce a wrong result for an aware datetime object, it fails if input is in UTC (as in the question) but local timezone is not UTC – \n",
    "jfs\n",
    "\n",
    "> I'm on Python 3.6 and datetime.datetime.datetime(2012,4,1,0,0).timestamp() does not give the correct epoch time. \n"
   ]
  },
  {
   "cell_type": "code",
   "execution_count": 37,
   "id": "ffe34482",
   "metadata": {},
   "outputs": [
    {
     "name": "stdout",
     "output_type": "stream",
     "text": [
      "def get_epoch_from_datetime(date_time: datetime.datetime) -> int:\n",
      "    \"\"\"Convert literal datetime into epoch time in seconds\n",
      "    Args:\n",
      "        date_time: string to parse date/time\n",
      "    Returns: epoch (in seconds) as int\n",
      "    \"\"\"\n",
      "    return calendar.timegm(date_time.timetuple())\n",
      "\n"
     ]
    }
   ],
   "source": [
    "print(inspect.getsource(get_epoch_from_datetime))"
   ]
  },
  {
   "cell_type": "code",
   "execution_count": 38,
   "id": "01ae6446",
   "metadata": {},
   "outputs": [
    {
     "data": {
      "text/plain": [
       "1333238400"
      ]
     },
     "execution_count": 38,
     "metadata": {},
     "output_type": "execute_result"
    }
   ],
   "source": [
    "get_epoch_from_datetime(datetime.datetime(2012, 4, 1, 0, 0))"
   ]
  },
  {
   "cell_type": "markdown",
   "id": "0f23abc2",
   "metadata": {},
   "source": [
    "---\n",
    "# Duratinon between date/time"
   ]
  },
  {
   "cell_type": "code",
   "execution_count": 39,
   "id": "c2e1114f",
   "metadata": {},
   "outputs": [
    {
     "name": "stdout",
     "output_type": "stream",
     "text": [
      "def get_seconds_between_datetimes(\n",
      "        from_datetime: datetime.datetime,\n",
      "        to_datetime: datetime.datetime\n",
      ") -> int:\n",
      "    \"\"\"Seconds between two datetime instances\n",
      "    Args:\n",
      "        from_datetime: from\n",
      "        to_datetime: to\n",
      "    Returns: seconds as int\n",
      "    \"\"\"\n",
      "    start = calendar.timegm(to_datetime.timetuple())\n",
      "    end = calendar.timegm(from_datetime.timetuple())\n",
      "\n",
      "    return int((start - end) / (3600 * 24))\n",
      "\n"
     ]
    }
   ],
   "source": [
    "print(inspect.getsource(get_seconds_between_datetimes))"
   ]
  },
  {
   "cell_type": "markdown",
   "id": "28413324",
   "metadata": {},
   "source": [
    "* [dateutil.relativedelta.relativedelta](https://dateutil.readthedocs.io/en/stable/relativedelta.html)"
   ]
  },
  {
   "cell_type": "code",
   "execution_count": 40,
   "id": "8d61b2dc",
   "metadata": {},
   "outputs": [
    {
     "data": {
      "text/plain": [
       "91"
      ]
     },
     "execution_count": 40,
     "metadata": {},
     "output_type": "execute_result"
    }
   ],
   "source": [
    "get_seconds_between_datetimes(\n",
    "    from_datetime=datetime.datetime(2012, 9, 1, 0, 0),\n",
    "    to_datetime=datetime.datetime(2012, 12, 1, 0, 0)\n",
    ")"
   ]
  },
  {
   "cell_type": "code",
   "execution_count": 41,
   "id": "72f7e010",
   "metadata": {},
   "outputs": [
    {
     "name": "stdout",
     "output_type": "stream",
     "text": [
      "def get_datetime_after_duration(\n",
      "        start_datetime: datetime.datetime,\n",
      "        years: int = 0,\n",
      "        months: int = 0,\n",
      "        weeks: int = 0,\n",
      "        days: int = 0,\n",
      "        hours: int = 0,\n",
      "        minutes: int = 0,\n",
      "        seconds: int = 0,\n",
      "        microseconds: int = 0\n",
      ") -> datetime:\n",
      "    \"\"\"Date/time after duration from the start point\n",
      "    Args:\n",
      "        start_datetime: start point datetime\n",
      "    Returns: datetime instance\n",
      "    :param microseconds:\n",
      "    :param seconds:\n",
      "    :param minutes:\n",
      "    :param hours:\n",
      "    :param days:\n",
      "    :param weeks:\n",
      "    :param start_datetime:\n",
      "    :param months:\n",
      "    :param years:\n",
      "    \"\"\"\n",
      "    end_datetime = start_datetime + dateutil.relativedelta.relativedelta(\n",
      "        years=years,\n",
      "        months=months,\n",
      "        weeks=weeks,\n",
      "        days=days,\n",
      "        hours=hours,\n",
      "        minutes=minutes,\n",
      "        seconds=seconds,\n",
      "        microseconds=microseconds\n",
      "    )\n",
      "    return end_datetime\n",
      "\n"
     ]
    }
   ],
   "source": [
    "print(inspect.getsource(get_datetime_after_duration))"
   ]
  },
  {
   "cell_type": "code",
   "execution_count": 42,
   "id": "166213e8",
   "metadata": {},
   "outputs": [
    {
     "data": {
      "text/plain": [
       "datetime.datetime(2022, 11, 1, 1, 0)"
      ]
     },
     "execution_count": 42,
     "metadata": {},
     "output_type": "execute_result"
    }
   ],
   "source": [
    "get_datetime_after_duration(\n",
    "    start_datetime=dateutil.parser.parse(\"2021-10-31\"),\n",
    "    years=1,\n",
    "    days=1,\n",
    "    hours=1\n",
    ")"
   ]
  },
  {
   "cell_type": "code",
   "execution_count": 43,
   "id": "aea8ff62",
   "metadata": {},
   "outputs": [
    {
     "data": {
      "text/plain": [
       "True"
      ]
     },
     "execution_count": 43,
     "metadata": {},
     "output_type": "execute_result"
    }
   ],
   "source": [
    "end_date = dateutil.parser.parse(\"2021-10-31\")\n",
    "start_date = end_date - dateutil.relativedelta.relativedelta(years=1)\n",
    "end_date - start_date >= datetime.timedelta(days=365 - 30)"
   ]
  },
  {
   "cell_type": "code",
   "execution_count": 44,
   "id": "2e9708b0",
   "metadata": {},
   "outputs": [
    {
     "data": {
      "text/plain": [
       "datetime.datetime(2020, 4, 4, 0, 0)"
      ]
     },
     "execution_count": 44,
     "metadata": {},
     "output_type": "execute_result"
    }
   ],
   "source": [
    "end = dateutil.parser.parse(\"2021-04-03\")\n",
    "end - dateutil.relativedelta.relativedelta(years=1) + datetime.timedelta(days=1)"
   ]
  },
  {
   "cell_type": "markdown",
   "id": "e062eeea",
   "metadata": {},
   "source": [
    "## Elapsed time of function execution"
   ]
  },
  {
   "cell_type": "code",
   "execution_count": 45,
   "id": "985f8693",
   "metadata": {},
   "outputs": [
    {
     "name": "stdout",
     "output_type": "stream",
     "text": [
      "def get_elapsed_time(func, arg):\n",
      "    \"\"\"\n",
      "    Args:\n",
      "        func: function to execute and time it\n",
      "        arg: arguments to the function\n",
      "    Returns: datetime.datetime.timedelta object\n",
      "    \"\"\"\n",
      "    start = datetime.datetime.now()\n",
      "    func()\n",
      "    end = datetime.datetime.now()\n",
      "    elapsed = end - start\n",
      "    return elapsed\n",
      "\n"
     ]
    }
   ],
   "source": [
    "print(inspect.getsource(get_elapsed_time))"
   ]
  },
  {
   "cell_type": "code",
   "execution_count": 46,
   "id": "44b0cb2a",
   "metadata": {},
   "outputs": [
    {
     "name": "stdout",
     "output_type": "stream",
     "text": [
      "\n"
     ]
    },
    {
     "data": {
      "text/plain": [
       "datetime.timedelta(microseconds=171)"
      ]
     },
     "execution_count": 46,
     "metadata": {},
     "output_type": "execute_result"
    }
   ],
   "source": [
    "get_elapsed_time(print, \"hoge\")"
   ]
  },
  {
   "cell_type": "markdown",
   "id": "f7a48032",
   "metadata": {},
   "source": [
    "---\n",
    "# Holidays\n",
    "\n",
    "* [holidays](https://python-holidays.readthedocs.io/en/latest/)\n",
    "\n",
    "> A fast, efficient Python library for generating country- and subdivision- (e.g. state or province) specific sets of government-designated holidays on the fly. It aims to make determining whether a specific date is a holiday as fast and flexible as possible.\n",
    ">\n",
    "> The standard way to refer to a country is by using its [ISO 3166-1 alpha-2 code](https://en.wikipedia.org/wiki/List_of_ISO_3166_country_codes) \n",
    ">\n",
    "> ```pip install --upgrade holidays```\n",
    "\n",
    "\n",
    "* [holidays - API Reference](https://python-holidays.readthedocs.io/en/latest/api.html)\n",
    "\n",
    "* [Python | Holidays library](https://www.geeksforgeeks.org/python-holidays-library/)\n",
    "\n",
    "> Python Holidays library is an efficient library for determining whether a specific date is a holiday as fast and flexible as possible. For any country, one can find whether that day is a holiday or not. Only fixed days(Public) holidays like Christmas, New Year, etc. can be detected.\n",
    "\n"
   ]
  },
  {
   "cell_type": "code",
   "execution_count": 47,
   "id": "fbcc5651",
   "metadata": {},
   "outputs": [
    {
     "name": "stdout",
     "output_type": "stream",
     "text": [
      "def get_holidays(\n",
      "        country: str,\n",
      "        states: List[str] = None,\n",
      "        years: List[int] = None\n",
      ") -> Dict[object, str]:\n",
      "    \"\"\"Get holidays of the country and state (optional).\n",
      "    If state is not specified, the common holidays for all states will be provided.\n",
      "\n",
      "    holidays.utils.country_holidays(\n",
      "        country, subdiv=None, years=None, expand=True, observed=True\n",
      "    )\n",
      "    observed:\n",
      "        Whether to include the dates of when public holiday are observed\n",
      "        (e.g. a holiday falling on a Sunday being observed the following Monday).\n",
      "        False may not work for all countries.\n",
      "\n",
      "    Args:\n",
      "        country: ISO 3166-1 alpha-2 code, e.g. AU\n",
      "        states: states in the country e.g. ACT (default), NSW, NT, QLD, SA, TAS, VIC, WA in AU\n",
      "        years: list of years to get holidays from. If None, empty dict is returned\n",
      "    \"\"\"\n",
      "    assert years is not None and len(years) > 0, \"years is required\"\n",
      "\n",
      "    result = dict()\n",
      "    if states is not None and len(states) > 0:\n",
      "        for state in states:\n",
      "            result |= holidays.utils.country_holidays(\n",
      "                country=country,\n",
      "                subdiv=state,\n",
      "                years=years\n",
      "            )\n",
      "        return result\n",
      "    else:   # country common holidays\n",
      "        result += holidays.utils.country_holidays(\n",
      "            country=country,\n",
      "            years=years\n",
      "        )\n",
      "\n"
     ]
    }
   ],
   "source": [
    "print(inspect.getsource(get_holidays))"
   ]
  },
  {
   "cell_type": "code",
   "execution_count": 57,
   "id": "c109ccfc",
   "metadata": {},
   "outputs": [
    {
     "name": "stdout",
     "output_type": "stream",
     "text": [
      "(datetime.date(2022, 9, 22), 'National Day of Mourning for Queen Elizabeth II')\n",
      "(datetime.date(2022, 1, 1), \"New Year's Day\")\n",
      "(datetime.date(2022, 1, 3), \"New Year's Day (Observed)\")\n",
      "(datetime.date(2022, 1, 26), 'Australia Day')\n",
      "(datetime.date(2022, 4, 15), 'Good Friday')\n",
      "(datetime.date(2022, 4, 16), 'Easter Saturday')\n",
      "(datetime.date(2022, 4, 17), 'Easter Sunday')\n",
      "(datetime.date(2022, 4, 18), 'Easter Monday')\n",
      "(datetime.date(2022, 4, 25), 'Anzac Day')\n",
      "(datetime.date(2022, 10, 3), 'Labour Day')\n",
      "(datetime.date(2022, 5, 2), 'Labour Day')\n",
      "(datetime.date(2022, 8, 10), 'The Royal Queensland Show')\n",
      "(datetime.date(2022, 12, 25), 'Christmas Day')\n",
      "(datetime.date(2022, 12, 27), 'Christmas Day (Observed)')\n",
      "(datetime.date(2022, 12, 26), 'Boxing Day')\n",
      "(datetime.date(2022, 6, 13), \"Queen's Birthday\")\n",
      "(datetime.date(2022, 8, 1), 'Bank Holiday')\n"
     ]
    }
   ],
   "source": [
    "for holiday in get_holidays(country=\"AU\", states=[\"QLD\", \"NSW\"], years=[2022]).items():\n",
    "    print(holiday)"
   ]
  },
  {
   "cell_type": "code",
   "execution_count": 56,
   "id": "7e3f964d",
   "metadata": {},
   "outputs": [
    {
     "name": "stdout",
     "output_type": "stream",
     "text": [
      "(datetime.date(2023, 1, 1), \"New Year's Day\")\n",
      "(datetime.date(2023, 1, 2), \"New Year's Day (Observed)\")\n",
      "(datetime.date(2023, 1, 26), 'Australia Day')\n",
      "(datetime.date(2023, 4, 7), 'Good Friday')\n",
      "(datetime.date(2023, 4, 10), 'Easter Monday')\n",
      "(datetime.date(2023, 4, 25), 'Anzac Day')\n",
      "(datetime.date(2023, 12, 25), 'Christmas Day')\n",
      "(datetime.date(2023, 12, 26), 'Boxing Day')\n"
     ]
    }
   ],
   "source": [
    "for holiday in get_holidays(country=\"AU\", years=[2023]).items():\n",
    "    print(holiday)"
   ]
  },
  {
   "cell_type": "markdown",
   "id": "cf6348a4",
   "metadata": {},
   "source": [
    "---\n",
    "# Date/Time in cyclic\n",
    "\n",
    "Hours of the day, days of the week, months in a year are all examples of features that are cyclical. \n",
    "\n",
    "* [What is a good way to transform Cyclic Ordinal attributes?](https://datascience.stackexchange.com/a/6335/68313)\n",
    "\n",
    "> The most logical way to transform hour is into two variables that swing back and forth out of sync. Imagine the position of the end of the hour hand of a 24-hour clock. The x position swings back and forth out of sync with the y position. For a 24-hour clock you can accomplish this with:\n",
    "> ```x=sin(2pi*hour/24), y=cos(2pi*hour/24)```\n",
    "\n",
    "* [Feature Engineering - Handling Cyclical Features](http://blog.davidkaleko.com/feature-engineering-cyclical-features.html)\n",
    "\n",
    "> Zero (midnight) is on the right, and the hours increase counterclockwise around the circle. In this way, 23:59 is very close to 00:00\n",
    "> <img src=\"./image/cyclic_time.png\" align=\"left\" width=300/>"
   ]
  },
  {
   "cell_type": "code",
   "execution_count": 87,
   "id": "99aca04b",
   "metadata": {},
   "outputs": [
    {
     "name": "stdout",
     "output_type": "stream",
     "text": [
      "def get_cyclic_time_of_day(hours: int, minutes: int, seconds: int) -> Tuple[TYPE_FLOAT, TYPE_FLOAT]:\n",
      "    \"\"\"Encode time in day as cyclic\n",
      "    https://datascience.stackexchange.com/a/6335/68313\n",
      "    http://blog.davidkaleko.com/feature-engineering-cyclical-features.html\n",
      "\n",
      "    Args:\n",
      "        hours: hours in day\n",
      "        minutes: minutes in the hour\n",
      "        seconds: seconds in the minute\n",
      "    Returns: (time in sin, time in cos)\n",
      "    \"\"\"\n",
      "    seconds_in_day = TYPE_FLOAT(24 * 60 * 60)\n",
      "    assert 0 <= hours < 24, f\"invalid hours [{hours}]\"\n",
      "    assert 0 <= hours < 60, f\"invalid minutes [{minutes}]\"\n",
      "    assert 0 <= hours < 60, f\"invalid seconds [{seconds}]\"\n",
      "\n",
      "    seconds: TYPE_FLOAT = \\\n",
      "        TYPE_FLOAT(60) * TYPE_FLOAT(60) * TYPE_FLOAT(hours) + \\\n",
      "        TYPE_FLOAT(60) * TYPE_FLOAT(minutes) + \\\n",
      "        TYPE_FLOAT(seconds)\n",
      "\n",
      "    time_in_sin: TYPE_FLOAT\n",
      "    time_in_cos: TYPE_FLOAT\n",
      "    time_in_sin = x = np.sin(TYPE_FLOAT(2) * TYPE_FLOAT(np.pi) * seconds / seconds_in_day)\n",
      "    time_in_cos = y = np.cos(TYPE_FLOAT(2) * TYPE_FLOAT(np.pi) * seconds / seconds_in_day)\n",
      "\n",
      "    logger.debug(\"get_cyclic_time_of_day(): x/sin=[%s] y/cos=[%s]\", time_in_sin, time_in_cos)\n",
      "    return x, y\n",
      "\n"
     ]
    }
   ],
   "source": [
    "print(inspect.getsource(get_cyclic_time_of_day))"
   ]
  },
  {
   "cell_type": "markdown",
   "id": "51132fcc",
   "metadata": {},
   "source": [
    "## Month in year"
   ]
  },
  {
   "cell_type": "code",
   "execution_count": 94,
   "id": "a4ffc7c1",
   "metadata": {},
   "outputs": [
    {
     "data": {
      "text/plain": [
       "(0.5000000126183913, 0.8660253964992068)"
      ]
     },
     "execution_count": 94,
     "metadata": {},
     "output_type": "execute_result"
    }
   ],
   "source": [
    "get_cyclic_month_of_year(months=2) # 2 is Feb"
   ]
  },
  {
   "cell_type": "markdown",
   "id": "3f1b84bc",
   "metadata": {},
   "source": [
    "## Day of week"
   ]
  },
  {
   "cell_type": "code",
   "execution_count": 89,
   "id": "c97f1ddb",
   "metadata": {
    "scrolled": true
   },
   "outputs": [
    {
     "data": {
      "text/plain": [
       "(0.7818314980415186, 0.6234897823301957)"
      ]
     },
     "execution_count": 89,
     "metadata": {},
     "output_type": "execute_result"
    }
   ],
   "source": [
    "get_cyclic_day_of_week(day_of_week=1) # 1 is Tuesday"
   ]
  },
  {
   "cell_type": "markdown",
   "id": "a6bbeaa3",
   "metadata": {},
   "source": [
    "## Hour"
   ]
  },
  {
   "cell_type": "code",
   "execution_count": 88,
   "id": "2a23b547",
   "metadata": {},
   "outputs": [
    {
     "data": {
      "text/plain": [
       "(-0.09584551, 0.9953962)"
      ]
     },
     "execution_count": 88,
     "metadata": {},
     "output_type": "execute_result"
    }
   ],
   "source": [
    "get_cyclic_time_of_day(hours=23, minutes=38, seconds=0)"
   ]
  }
 ],
 "metadata": {
  "kernelspec": {
   "display_name": "Python 3 (ipykernel)",
   "language": "python",
   "name": "python3"
  },
  "language_info": {
   "codemirror_mode": {
    "name": "ipython",
    "version": 3
   },
   "file_extension": ".py",
   "mimetype": "text/x-python",
   "name": "python",
   "nbconvert_exporter": "python",
   "pygments_lexer": "ipython3",
   "version": "3.9.13"
  }
 },
 "nbformat": 4,
 "nbformat_minor": 5
}
