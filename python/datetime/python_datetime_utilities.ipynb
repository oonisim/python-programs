{
 "cells": [
  {
   "cell_type": "code",
   "execution_count": null,
   "id": "8e7d16ed",
   "metadata": {},
   "outputs": [],
   "source": [
    "%%html\n",
    "<style>\n",
    "table {float:left}\n",
    "</style>"
   ]
  },
  {
   "cell_type": "markdown",
   "id": "84e2b504",
   "metadata": {},
   "source": [
    "# Python Date/Time utilities\n",
    "\n",
    "* [dateutil parser](https://dateutil.readthedocs.io/en/stable/parser.html)\n",
    "\n",
    "> generic date/time string parser which is able to parse most known formats to represent a date and/or time.\n"
   ]
  },
  {
   "cell_type": "code",
   "execution_count": 118,
   "id": "d532a0d0",
   "metadata": {},
   "outputs": [],
   "source": [
    "import sys\n",
    "import logging\n",
    "import datetime\n",
    "import calendar\n",
    "from typing import (\n",
    "    List,\n",
    "    Dict,\n",
    "    Tuple,\n",
    "    Any,\n",
    "    Optional,\n",
    "    Callable\n",
    ")\n",
    "\n",
    "import dateutil \n",
    "from dateutil import relativedelta\n",
    "from dateutil.tz import tzutc\n",
    "\n",
    "import datefinder"
   ]
  },
  {
   "cell_type": "code",
   "execution_count": 37,
   "id": "e8aed9ac",
   "metadata": {},
   "outputs": [],
   "source": [
    "logger = logging.getLogger(__name__)"
   ]
  },
  {
   "cell_type": "markdown",
   "id": "6bff07dc",
   "metadata": {},
   "source": [
    "---\n",
    "# Instantiation\n",
    "\n",
    "Creating datetime instance"
   ]
  },
  {
   "cell_type": "code",
   "execution_count": 8,
   "id": "dd18db84",
   "metadata": {},
   "outputs": [
    {
     "data": {
      "text/plain": [
       "datetime.datetime(2023, 1, 11, 12, 42, 17, 262143)"
      ]
     },
     "execution_count": 8,
     "metadata": {},
     "output_type": "execute_result"
    }
   ],
   "source": [
    "datetime.datetime.now()"
   ]
  },
  {
   "cell_type": "code",
   "execution_count": 9,
   "id": "7656bdb1",
   "metadata": {},
   "outputs": [
    {
     "data": {
      "text/plain": [
       "datetime.datetime(2020, 10, 11, 4, 10, 52, 33)"
      ]
     },
     "execution_count": 9,
     "metadata": {},
     "output_type": "execute_result"
    }
   ],
   "source": [
    "datetime.datetime(year=2020, month=10, day=11, hour=4, minute=10, second=52, microsecond=33)"
   ]
  },
  {
   "cell_type": "markdown",
   "id": "393cfdf7",
   "metadata": {},
   "source": [
    "---\n",
    "# Datatime components"
   ]
  },
  {
   "cell_type": "code",
   "execution_count": 34,
   "id": "01ff0ff3",
   "metadata": {},
   "outputs": [],
   "source": [
    "def get_datetime_components(dt: datetime):\n",
    "    return {\n",
    "        \"year\": dt.year,\n",
    "        \"month\": dt.month,\n",
    "        \"day\": dt.day,\n",
    "        \"weekday\": dt.weekday(),\n",
    "        \"hour\": dt.hour,\n",
    "        \"minute\": dt.minute,\n",
    "        \"second\": dt.second,\n",
    "        \"microsecond\": dt.microsecond,\n",
    "        \"tzinfo\": dt.tzinfo,\n",
    "    }"
   ]
  },
  {
   "cell_type": "code",
   "execution_count": 35,
   "id": "20fb15af",
   "metadata": {
    "scrolled": true
   },
   "outputs": [
    {
     "data": {
      "text/plain": [
       "{'year': 2023,\n",
       " 'month': 1,\n",
       " 'day': 11,\n",
       " 'weekday': 2,\n",
       " 'hour': 12,\n",
       " 'minute': 46,\n",
       " 'second': 29,\n",
       " 'microsecond': 427627,\n",
       " 'tzinfo': None}"
      ]
     },
     "execution_count": 35,
     "metadata": {},
     "output_type": "execute_result"
    }
   ],
   "source": [
    "get_datetime_components(datetime.datetime.now())"
   ]
  },
  {
   "cell_type": "markdown",
   "id": "02e955aa",
   "metadata": {},
   "source": [
    "---\n",
    "# Parse date"
   ]
  },
  {
   "cell_type": "code",
   "execution_count": 101,
   "id": "5f20cb20",
   "metadata": {},
   "outputs": [],
   "source": [
    "def parse_date_string_as_string(date_str: str, formats=None, year_first=False) -> str:\n",
    "    day_first_date_formats = (\n",
    "        # --------------------------------------------------------------------------------\n",
    "        # 21/01/01 as 21MAY2021\n",
    "        # --------------------------------------------------------------------------------\n",
    "        '%d/%m/%y',\n",
    "        '%d-%m-%y',\n",
    "        '%d %m %y',\n",
    "        # --------------------------------------------------------------------------------\n",
    "        # 21/01/2001 as 21JAN2021\n",
    "        # --------------------------------------------------------------------------------\n",
    "        '%d/%m/%Y',\n",
    "        '%d-%m-%Y',\n",
    "        '%d %m %Y',\n",
    "        # --------------------------------------------------------------------------------\n",
    "        # 21/Jan/01 as 21JAN2021\n",
    "        # --------------------------------------------------------------------------------\n",
    "        '%d/%b/%y',\n",
    "        '%d-%b-%y',\n",
    "        '%d %b %y',\n",
    "        # --------------------------------------------------------------------------------\n",
    "        # 21/January/01 as 21JAN2021\n",
    "        # --------------------------------------------------------------------------------\n",
    "        '%d/%B/%Y',\n",
    "        '%d-%B-%Y',\n",
    "        '%d %B %Y',\n",
    "    )\n",
    "    year_first_date_formats = (\n",
    "        # --------------------------------------------------------------------------------\n",
    "        # 21/01/01 as 21MAY2021\n",
    "        # --------------------------------------------------------------------------------\n",
    "        '%y/%m/%d',\n",
    "        '%y-%m-%d',\n",
    "        '%y %m %d',\n",
    "        # --------------------------------------------------------------------------------\n",
    "        # 21/01/2001 as 21JAN2021\n",
    "        # --------------------------------------------------------------------------------\n",
    "        '%Y/%m/%d',\n",
    "        '%Y-%m-%d',\n",
    "        '%Y %m %d',\n",
    "        # --------------------------------------------------------------------------------\n",
    "        # 21/Jan/01 as 21JAN2021\n",
    "        # --------------------------------------------------------------------------------\n",
    "        '%y/%b/%d',\n",
    "        '%y-%b-%d',\n",
    "        '%y %b %d',\n",
    "        # --------------------------------------------------------------------------------\n",
    "        # 21/January/01 as 21JAN2021\n",
    "        # --------------------------------------------------------------------------------\n",
    "        '%Y/%B/%d',\n",
    "        '%Y-%B-%d',\n",
    "        '%Y %B %d',\n",
    "    )\n",
    "    date_formats = []\n",
    "    if formats is None:\n",
    "        # --------------------------------------------------------------------------------\n",
    "        # Reverse the format string in day_first_date_formats when year first.\n",
    "        # --------------------------------------------------------------------------------\n",
    "        if year_first:\n",
    "            date_formats = year_first_date_formats\n",
    "        else:\n",
    "            date_formats = day_first_date_formats\n",
    "\n",
    "        logger.debug(date_formats)\n",
    "        \n",
    "    else:\n",
    "        # --------------------------------------------------------------------------------\n",
    "        # Do not touch given formats if it is not None\n",
    "        # --------------------------------------------------------------------------------\n",
    "        date_formats = formats\n",
    "\n",
    "    parsed = []\n",
    "    for fmt in date_formats:\n",
    "        try:\n",
    "            parsed.append(datetime.datetime.strptime(date_str, fmt)) \n",
    "        except ValueError as e:\n",
    "            pass\n",
    "\n",
    "    logger.debug(parsed)\n",
    "    if len(parsed) == 0 or len(parsed) > 1:\n",
    "        raise RuntimeError(f\"invalid date_str [{date_str}]\")\n",
    "\n",
    "    return parsed[0]"
   ]
  },
  {
   "cell_type": "code",
   "execution_count": 105,
   "id": "0a94642a",
   "metadata": {},
   "outputs": [
    {
     "data": {
      "text/plain": [
       "datetime.datetime(2021, 1, 22, 0, 0)"
      ]
     },
     "execution_count": 105,
     "metadata": {},
     "output_type": "execute_result"
    }
   ],
   "source": [
    "fmt = '%d/%m/%y'\n",
    "parse_date_string_as_string(date_str=\"21 JAN 22\", formats=None, year_first=True)\n",
    "# parse_date_string_as_string(date_str=\"8:16:00 AM\", formats=None)"
   ]
  },
  {
   "cell_type": "markdown",
   "id": "15a63f75",
   "metadata": {},
   "source": [
    "## datefinder\n",
    "\n",
    "* [datefinder - extract dates from text](https://datefinder.readthedocs.io/en/latest/)\n",
    "\n",
    "> A python module for locating dates inside text. Use this package to extract all sorts of date like strings from a document and turn them into datetime objects."
   ]
  },
  {
   "cell_type": "code",
   "execution_count": 124,
   "id": "854cd396",
   "metadata": {},
   "outputs": [],
   "source": [
    "def get_dates_from_str(\n",
    "    text: str,\n",
    "    strict: bool = True,\n",
    ") -> List[datetime.datetime]:\n",
    "    \"\"\"Extract datet from string\n",
    "    Args:\n",
    "        text: string to find a date\n",
    "        strict: require complete date. July 2016 of Monday will not return datetimes.\n",
    "    Returns: datetime\n",
    "    Raises: RuntimeError is no date\n",
    "    \"\"\"\n",
    "    dates = list(datefinder.find_dates(text, source=False, index=False, strict=strict, base_date=None))\n",
    "    if len(dates) <= 0:\n",
    "        raise RuntimeError(f\"invalid text with no date: [{text}]\")\n",
    "        \n",
    "    return dates"
   ]
  },
  {
   "cell_type": "code",
   "execution_count": 126,
   "id": "3e709687",
   "metadata": {},
   "outputs": [
    {
     "ename": "RuntimeError",
     "evalue": "invalid text with no date: [ AM]",
     "output_type": "error",
     "traceback": [
      "\u001b[0;31m---------------------------------------------------------------------------\u001b[0m",
      "\u001b[0;31mRuntimeError\u001b[0m                              Traceback (most recent call last)",
      "Cell \u001b[0;32mIn [126], line 1\u001b[0m\n\u001b[0;32m----> 1\u001b[0m \u001b[43mget_dates_from_str\u001b[49m\u001b[43m(\u001b[49m\u001b[43mtext\u001b[49m\u001b[38;5;241;43m=\u001b[39;49m\u001b[38;5;124;43m\"\u001b[39;49m\u001b[38;5;124;43m AM\u001b[39;49m\u001b[38;5;124;43m\"\u001b[39;49m\u001b[43m)\u001b[49m\n",
      "Cell \u001b[0;32mIn [124], line 14\u001b[0m, in \u001b[0;36mget_dates_from_str\u001b[0;34m(text, strict)\u001b[0m\n\u001b[1;32m     12\u001b[0m dates \u001b[38;5;241m=\u001b[39m \u001b[38;5;28mlist\u001b[39m(datefinder\u001b[38;5;241m.\u001b[39mfind_dates(text, source\u001b[38;5;241m=\u001b[39m\u001b[38;5;28;01mFalse\u001b[39;00m, index\u001b[38;5;241m=\u001b[39m\u001b[38;5;28;01mFalse\u001b[39;00m, strict\u001b[38;5;241m=\u001b[39mstrict, base_date\u001b[38;5;241m=\u001b[39m\u001b[38;5;28;01mNone\u001b[39;00m))\n\u001b[1;32m     13\u001b[0m \u001b[38;5;28;01mif\u001b[39;00m \u001b[38;5;28mlen\u001b[39m(dates) \u001b[38;5;241m<\u001b[39m\u001b[38;5;241m=\u001b[39m \u001b[38;5;241m0\u001b[39m:\n\u001b[0;32m---> 14\u001b[0m     \u001b[38;5;28;01mraise\u001b[39;00m \u001b[38;5;167;01mRuntimeError\u001b[39;00m(\u001b[38;5;124mf\u001b[39m\u001b[38;5;124m\"\u001b[39m\u001b[38;5;124minvalid text with no date: [\u001b[39m\u001b[38;5;132;01m{\u001b[39;00mtext\u001b[38;5;132;01m}\u001b[39;00m\u001b[38;5;124m]\u001b[39m\u001b[38;5;124m\"\u001b[39m)\n\u001b[1;32m     16\u001b[0m \u001b[38;5;28;01mreturn\u001b[39;00m dates\n",
      "\u001b[0;31mRuntimeError\u001b[0m: invalid text with no date: [ AM]"
     ]
    }
   ],
   "source": [
    "get_dates_from_str(text=\" AM\")"
   ]
  },
  {
   "cell_type": "code",
   "execution_count": 123,
   "id": "d3c96158",
   "metadata": {},
   "outputs": [
    {
     "ename": "RuntimeError",
     "evalue": "invalid text with no date: [{text}]",
     "output_type": "error",
     "traceback": [
      "\u001b[0;31m---------------------------------------------------------------------------\u001b[0m",
      "\u001b[0;31mRuntimeError\u001b[0m                              Traceback (most recent call last)",
      "Cell \u001b[0;32mIn [123], line 1\u001b[0m\n\u001b[0;32m----> 1\u001b[0m \u001b[43mget_dates_from_str\u001b[49m\u001b[43m(\u001b[49m\u001b[43mtext\u001b[49m\u001b[38;5;241;43m=\u001b[39;49m\u001b[38;5;124;43m\"\u001b[39;49m\u001b[38;5;124;43m8:16:00 AM\u001b[39;49m\u001b[38;5;124;43m\"\u001b[39;49m\u001b[43m)\u001b[49m\n",
      "Cell \u001b[0;32mIn [121], line 14\u001b[0m, in \u001b[0;36mget_dates_from_str\u001b[0;34m(text, strict)\u001b[0m\n\u001b[1;32m     12\u001b[0m dates \u001b[38;5;241m=\u001b[39m \u001b[38;5;28mlist\u001b[39m(datefinder\u001b[38;5;241m.\u001b[39mfind_dates(text, source\u001b[38;5;241m=\u001b[39m\u001b[38;5;28;01mFalse\u001b[39;00m, index\u001b[38;5;241m=\u001b[39m\u001b[38;5;28;01mFalse\u001b[39;00m, strict\u001b[38;5;241m=\u001b[39mstrict, base_date\u001b[38;5;241m=\u001b[39m\u001b[38;5;28;01mNone\u001b[39;00m))\n\u001b[1;32m     13\u001b[0m \u001b[38;5;28;01mif\u001b[39;00m \u001b[38;5;28mlen\u001b[39m(dates) \u001b[38;5;241m<\u001b[39m\u001b[38;5;241m=\u001b[39m \u001b[38;5;241m0\u001b[39m:\n\u001b[0;32m---> 14\u001b[0m     \u001b[38;5;28;01mraise\u001b[39;00m \u001b[38;5;167;01mRuntimeError\u001b[39;00m(\u001b[38;5;124m\"\u001b[39m\u001b[38;5;124minvalid text with no date: [\u001b[39m\u001b[38;5;132;01m{text}\u001b[39;00m\u001b[38;5;124m]\u001b[39m\u001b[38;5;124m\"\u001b[39m)\n\u001b[1;32m     16\u001b[0m \u001b[38;5;28;01mreturn\u001b[39;00m dates\n",
      "\u001b[0;31mRuntimeError\u001b[0m: invalid text with no date: [{text}]"
     ]
    }
   ],
   "source": [
    "get_dates_from_str(text=\"8:16:00 AM\")"
   ]
  },
  {
   "cell_type": "code",
   "execution_count": 127,
   "id": "0981ed62",
   "metadata": {},
   "outputs": [
    {
     "data": {
      "text/plain": [
       "[datetime.datetime(2022, 1, 21, 0, 0)]"
      ]
     },
     "execution_count": 127,
     "metadata": {},
     "output_type": "execute_result"
    }
   ],
   "source": [
    "get_dates_from_str(text=\"21 JAN 22\")"
   ]
  },
  {
   "cell_type": "code",
   "execution_count": 128,
   "id": "a2174825",
   "metadata": {},
   "outputs": [
    {
     "data": {
      "text/plain": [
       "[datetime.datetime(2022, 9, 1, 0, 0)]"
      ]
     },
     "execution_count": 128,
     "metadata": {},
     "output_type": "execute_result"
    }
   ],
   "source": [
    "get_dates_from_str(text=\"2022-09-01\")"
   ]
  },
  {
   "cell_type": "code",
   "execution_count": 129,
   "id": "35e893f6",
   "metadata": {},
   "outputs": [
    {
     "data": {
      "text/plain": [
       "[datetime.datetime(2022, 9, 1, 0, 0)]"
      ]
     },
     "execution_count": 129,
     "metadata": {},
     "output_type": "execute_result"
    }
   ],
   "source": [
    "get_dates_from_str(text=\"2022 09 01\")"
   ]
  },
  {
   "cell_type": "code",
   "execution_count": 130,
   "id": "62cf2d5e",
   "metadata": {},
   "outputs": [
    {
     "data": {
      "text/plain": [
       "[datetime.datetime(1999, 8, 28, 0, 0)]"
      ]
     },
     "execution_count": 130,
     "metadata": {},
     "output_type": "execute_result"
    }
   ],
   "source": [
    "get_dates_from_str(text=\"Aug 28 1999 12:00AM\")"
   ]
  },
  {
   "cell_type": "code",
   "execution_count": 131,
   "id": "a07cf16b",
   "metadata": {},
   "outputs": [
    {
     "data": {
      "text/plain": [
       "[datetime.datetime(2022, 9, 1, 0, 0)]"
      ]
     },
     "execution_count": 131,
     "metadata": {},
     "output_type": "execute_result"
    }
   ],
   "source": [
    "get_dates_from_str(text=\"2022 09 01\")"
   ]
  },
  {
   "cell_type": "markdown",
   "id": "d72c09e5",
   "metadata": {},
   "source": [
    "# Parse date/time\n",
    "\n",
    "* [dateutil - powerful extensions to datetime](https://dateutil.readthedocs.io/en/stable/)\n",
    "\n",
    "```\n",
    "pip install python-dateutil\n",
    "```"
   ]
  },
  {
   "cell_type": "code",
   "execution_count": 110,
   "id": "ae97da3d",
   "metadata": {},
   "outputs": [],
   "source": [
    "def parse_datetime_string(\n",
    "    date_time_str: str,\n",
    "    dayfirst: bool = False,\n",
    "    yearfirst: bool = False,\n",
    ") -> datetime.datetime:\n",
    "    \"\"\"\n",
    "    Args: \n",
    "        date_time_str: date/time string to parse\n",
    "        dayfirst: regard the first digits as day e.g 01/05/09 as 01/May/2009\n",
    "        yearfirst: regard the first digits as year e.g. 01/05/09 as 2001/May/09 \n",
    "    Returns: python datetime instance\n",
    "    Raises: \n",
    "        dateutil.parser.ParserError: Failure to parse a datetime string.\n",
    "        dateutil.parser.UnknownTimezoneWarning:  timezone cannot be parsed into a tzinfo.\n",
    "    \"\"\"\n",
    "    try:\n",
    "        return dateutil.parser.parse(date_time_str, dayfirst=dayfirst, yearfirst=yearfirst)\n",
    "    except dateutil.parser.ParserError as e:\n",
    "        raise RuntimeError(f\"parse_datetime_string() invalid date/time string [{date_time_str}]\") from e\n",
    "    except dateutil.parser.UnknownTimezoneWarning as e:\n",
    "        raise RuntimeError(f\"parse_datetime_string() invalid timezone in [{date_time_str}]\") from e\n"
   ]
  },
  {
   "cell_type": "code",
   "execution_count": 114,
   "id": "c12d4999",
   "metadata": {},
   "outputs": [
    {
     "data": {
      "text/plain": [
       "datetime.datetime(1999, 8, 28, 0, 1)"
      ]
     },
     "execution_count": 114,
     "metadata": {},
     "output_type": "execute_result"
    }
   ],
   "source": [
    "parse_datetime_string(\"Aug 28 1999 00:01AM\")"
   ]
  },
  {
   "cell_type": "code",
   "execution_count": 67,
   "id": "b62af5d6",
   "metadata": {},
   "outputs": [
    {
     "data": {
      "text/plain": [
       "datetime.datetime(2021, 10, 31, 0, 0)"
      ]
     },
     "execution_count": 67,
     "metadata": {},
     "output_type": "execute_result"
    }
   ],
   "source": [
    "parse_datetime_string(\"2021-10-31\")"
   ]
  },
  {
   "cell_type": "code",
   "execution_count": 68,
   "id": "469d12a7",
   "metadata": {},
   "outputs": [
    {
     "data": {
      "text/plain": [
       "datetime.datetime(2021, 10, 31, 0, 0)"
      ]
     },
     "execution_count": 68,
     "metadata": {},
     "output_type": "execute_result"
    }
   ],
   "source": [
    "parse_datetime_string(\"21-10-31\", yearfirst=True) # datetime.datetime(2021, 10, 31, 0, 0)"
   ]
  },
  {
   "cell_type": "code",
   "execution_count": 52,
   "id": "f4334b71",
   "metadata": {},
   "outputs": [
    {
     "data": {
      "text/plain": [
       "datetime.datetime(2001, 5, 9, 0, 0)"
      ]
     },
     "execution_count": 52,
     "metadata": {},
     "output_type": "execute_result"
    }
   ],
   "source": [
    "parse_datetime_string(\"01/05/09\", yearfirst=True)"
   ]
  },
  {
   "cell_type": "code",
   "execution_count": 53,
   "id": "f817ef1d",
   "metadata": {},
   "outputs": [
    {
     "data": {
      "text/plain": [
       "datetime.datetime(2009, 5, 1, 0, 0)"
      ]
     },
     "execution_count": 53,
     "metadata": {},
     "output_type": "execute_result"
    }
   ],
   "source": [
    "parse_datetime_string(\"01/05/09\", dayfirst=True)"
   ]
  },
  {
   "cell_type": "code",
   "execution_count": 69,
   "id": "946fe441",
   "metadata": {},
   "outputs": [
    {
     "data": {
      "text/plain": [
       "datetime.datetime(2023, 1, 11, 8, 16)"
      ]
     },
     "execution_count": 69,
     "metadata": {},
     "output_type": "execute_result"
    }
   ],
   "source": [
    "parse_datetime_string(\"8:16:00 AM\")"
   ]
  },
  {
   "cell_type": "markdown",
   "id": "312825be",
   "metadata": {},
   "source": [
    "---\n",
    "\n",
    "# Format string\n",
    "\n",
    "* [strftime() and strptime() Format Codes](https://docs.python.org/3/library/datetime.html#strftime-and-strptime-format-codes)\n",
    "\n",
    "> The following is a list of all the format codes that the 1989 C standard requires, and these work on all platforms with a standard C implementation.\n",
    "\n",
    "\n",
    "\n",
    "| Directive | Meaning                                                                                                                                                                          | Example                                                                      |\n",
    "|-----------|----------------------------------------------------------------------------------------------------------------------------------------------------------------------------------|------------------------------------------------------------------------------|\n",
    "| %a        | Weekday as locale’s abbreviated name.                                                                                                                                            | Sun, Mon, …, Sat (en_US); So, Mo, …, Sa (de_DE)                              |\n",
    "| %A        | Weekday as locale’s full name.                                                                                                                                                   | Sunday, Monday, …, Saturday (en_US); Sonntag, Montag, …, Samstag (de_DE)     |\n",
    "| %w        | Weekday as a decimal number, where 0 is Sunday and 6 is Saturday.                                                                                                                | 0, 1, …, 6                                                                   |\n",
    "| %d        | Day of the month as a zero-padded decimal number.                                                                                                                                | 01, 02, …, 31                                                                |\n",
    "| %b        | Month as locale’s abbreviated name.                                                                                                                                              | Jan, Feb, …, Dec (en_US); Jan, Feb, …, Dez (de_DE)                           |\n",
    "| %B        | Month as locale’s full name.                                                                                                                                                     | January, February, …, December (en_US); Januar, Februar, …, Dezember (de_DE) |\n",
    "| %m        | Month as a zero-padded decimal number.                                                                                                                                           | 01, 02, …, 12                                                                |\n",
    "| %y        | Year without century as a zero-padded decimal number.                                                                                                                            | 00, 01, …, 99                                                                |\n",
    "| %Y        | Year with century as a decimal number.                                                                                                                                           | 0001, 0002, …, 2013, 2014, …, 9998, 9999                                     |\n",
    "| %H        | Hour (24-hour clock) as a zero-padded decimal number.                                                                                                                            | 00, 01, …, 23                                                                |\n",
    "| %I        | Hour (12-hour clock) as a zero-padded decimal number.                                                                                                                            | 01, 02, …, 12                                                                |\n",
    "| %p        | Locale’s equivalent of either AM or PM.                                                                                                                                          | AM, PM (en_US); am, pm (de_DE)                                               |\n",
    "| %M        | Minute as a zero-padded decimal number.                                                                                                                                          | 00, 01, …, 59                                                                |\n",
    "| %S        | Second as a zero-padded decimal number.                                                                                                                                          | 00, 01, …, 59                                                                |\n",
    "| %f        | Microsecond as a decimal number, zero-padded to 6 digits.                                                                                                                        | 000000, 000001, …, 999999                                                    |\n",
    "| %z        | UTC offset in the form ±HHMM[SS[.ffffff]] (empty string if the object is naive).                                                                                                 | (empty), +0000, -0400, +1030, +063415, -030712.345216                        |\n",
    "| %Z        | Time zone name (empty string if the object is naive).                                                                                                                            | (empty), UTC, GMT                                                            |\n",
    "| %j        | Day of the year as a zero-padded decimal number.                                                                                                                                 | 001, 002, …, 366                                                             |\n",
    "| %U        | Week number of the year (Sunday as the first day of the week) as a zero-padded decimal number. All days in a new year preceding the first Sunday are considered to be in week 0. | 00, 01, …, 53                                                                |\n",
    "| %W        | Week number of the year (Monday as the first day of the week) as a zero-padded decimal number. All days in a new year preceding the first Monday are considered to be in week 0. | 00, 01, …, 53                                                                |\n",
    "| %c        | Locale’s appropriate date and time representation.                                                                                                                               | Tue Aug 16 21:30:00 1988 (en_US); Di 16 Aug 21:30:00 1988 (de_DE)            |\n",
    "| %x        | Locale’s appropriate date representation.                                                                                                                                        | 08/16/88 (None); 08/16/1988 (en_US); 16.08.1988 (de_DE)                      |\n",
    "| %X        | Locale’s appropriate time representation.                                                                                                                                        | 21:30:00 (en_US); 21:30:00 (de_DE)                                           |\n",
    "| %%        | A literal '%' character.                                                                                                                                                         | %                                                                            |\n"
   ]
  },
  {
   "cell_type": "code",
   "execution_count": 13,
   "id": "8ce3ccc1",
   "metadata": {
    "scrolled": true
   },
   "outputs": [
    {
     "data": {
      "text/plain": [
       "'2023JAN111242'"
      ]
     },
     "execution_count": 13,
     "metadata": {},
     "output_type": "execute_result"
    }
   ],
   "source": [
    "datetime.datetime.now().strftime(\"%Y%b%d%H%M\").upper()"
   ]
  },
  {
   "cell_type": "markdown",
   "id": "67a0fa19",
   "metadata": {},
   "source": [
    "## Convert date/time string into ISO 8601 without TZ"
   ]
  },
  {
   "cell_type": "code",
   "execution_count": 14,
   "id": "db5bb620",
   "metadata": {},
   "outputs": [
    {
     "name": "stdout",
     "output_type": "stream",
     "text": [
      "2018-03-01T01:00:00Z\n"
     ]
    }
   ],
   "source": [
    "def str_to_iso8601(literal) -> int:\n",
    "    \"\"\"Convert literal date/time string into ISO 8601 format\n",
    "    e.g. \"01 Mar 2018 11:00:00 GMT+1000\" into yyyy-MM-dd'T'HH:mm:ssZ or yyyy-MM-dd'T'HH:mm:ss.SSSZ\n",
    "    \"\"\"\n",
    "    literal = ' '.join(literal.split())\n",
    "    dt_gmt = datetime.datetime.strptime(literal, '%d %b %Y %H:%M:%S %Z%z')\n",
    "\n",
    "    seconds_since_epoch = int(dt_gmt.timestamp())\n",
    "    dt_utc = datetime.datetime.utcfromtimestamp(seconds_since_epoch)\n",
    "    return dt_utc.replace(tzinfo=None).isoformat()\n",
    "\n",
    "\n",
    "print(f'{str_to_iso8601(\"01 Mar 2018 11:00:00 GMT+1000\")}Z')"
   ]
  },
  {
   "cell_type": "markdown",
   "id": "e32c49db",
   "metadata": {},
   "source": [
    "---\n",
    "# Epoch\n",
    "## Convert date/time string into epoch\n",
    "\n",
    "Check the result with https://www.epochconverter.com/"
   ]
  },
  {
   "cell_type": "code",
   "execution_count": 132,
   "id": "fa369306",
   "metadata": {},
   "outputs": [],
   "source": [
    "def get_epoch_from_string(literal, format='%d %b %Y %H:%M:%S %Z%z') -> int:\n",
    "    \"\"\"Convert literal date/time string into epoch time in seconds\n",
    "    e.g. \"01 Mar 2018 11:00:00 GMT+1000\" into 1519866000\n",
    "    Args: \n",
    "        literal: string to parse date/time\n",
    "        format: date/time format of the string\n",
    "    Returns: epoch (in seconds) as int\n",
    "    \"\"\"\n",
    "    literal = ' '.join(literal.split())\n",
    "    dt = datetime.datetime.strptime(literal, format)\n",
    "    return int(dt.timestamp())  # sec"
   ]
  },
  {
   "cell_type": "code",
   "execution_count": 133,
   "id": "975e8500",
   "metadata": {},
   "outputs": [
    {
     "data": {
      "text/plain": [
       "1519866000"
      ]
     },
     "execution_count": 133,
     "metadata": {},
     "output_type": "execute_result"
    }
   ],
   "source": [
    "str_to_epoch(\"01 Mar 2018 11:00:00 GMT+1000\")"
   ]
  },
  {
   "cell_type": "markdown",
   "id": "ff4ec816",
   "metadata": {},
   "source": [
    "## Convert datetime to epoch\n",
    "It looks Python date/time function may have bugs.\n",
    "\n",
    "* [Convert python datetime to epoch with strftime](https://stackoverflow.com/questions/11743019/convert-python-datetime-to-epoch-with-strftime)\n",
    "\n",
    "> 1st of April 2012 UTC from epoch is 1333238400 but this above returns 1333234800 which is different by 1 hour.\n",
    "> ```\n",
    "> >>>datetime.datetime.datetime(2012,04,01,0,0).strftime('%s')\n",
    "'1333234800'\n",
    "> ```\n",
    "\n",
    "> don't use .strftime(\"%s\"): it is not supported, it is not portable, it may silently produce a wrong result for an aware datetime object, it fails if input is in UTC (as in the question) but local timezone is not UTC – \n",
    "jfs\n",
    "\n",
    "> I'm on Python 3.6 and datetime.datetime.datetime(2012,4,1,0,0).timestamp() does not give the correct epoch time. \n"
   ]
  },
  {
   "cell_type": "code",
   "execution_count": 137,
   "id": "58ff92f9",
   "metadata": {},
   "outputs": [],
   "source": [
    "def get_epoch_from_datetime(date_time: datetime.datetime) -> int:\n",
    "    \"\"\"Convert literal datetime into epoch time in seconds\n",
    "    Args: \n",
    "        literal: string to parse date/time\n",
    "        format: date/time format of the string\n",
    "    Returns: epoch (in seconds) as int\n",
    "    \"\"\"\n",
    "    return calendar.timegm(date_time.timetuple())"
   ]
  },
  {
   "cell_type": "code",
   "execution_count": 139,
   "id": "01ae6446",
   "metadata": {},
   "outputs": [
    {
     "data": {
      "text/plain": [
       "1333238400"
      ]
     },
     "execution_count": 139,
     "metadata": {},
     "output_type": "execute_result"
    }
   ],
   "source": [
    "get_epoch_from_datetime(datetime.datetime(2012, 4, 1, 0, 0))"
   ]
  },
  {
   "cell_type": "markdown",
   "id": "0f23abc2",
   "metadata": {},
   "source": [
    "---\n",
    "# Duratinon between date/time"
   ]
  },
  {
   "cell_type": "code",
   "execution_count": 147,
   "id": "3d5f6e5b",
   "metadata": {},
   "outputs": [],
   "source": [
    "def get_seconds_between_datetimes(from_datetime: datetime.datetime, to_datetime: datetime.datetime) -> int:\n",
    "    start = calendar.timegm(to_datetime.timetuple())\n",
    "    end = calendar.timegm(from_datetime.timetuple())\n",
    "\n",
    "    return (start - end) / (3600 * 24)"
   ]
  },
  {
   "cell_type": "markdown",
   "id": "4c7a8f39",
   "metadata": {},
   "source": [
    "* [dateutil.relativedelta.relativedelta](https://dateutil.readthedocs.io/en/stable/relativedelta.html)"
   ]
  },
  {
   "cell_type": "code",
   "execution_count": 150,
   "id": "8d61b2dc",
   "metadata": {},
   "outputs": [
    {
     "data": {
      "text/plain": [
       "91.0"
      ]
     },
     "execution_count": 150,
     "metadata": {},
     "output_type": "execute_result"
    }
   ],
   "source": [
    "get_seconds_between_datetimes(\n",
    "    from_datetime=datetime.datetime(2012, 9, 1, 0, 0),\n",
    "    to_datetime=datetime.datetime(2012, 12, 1, 0, 0)\n",
    ")"
   ]
  },
  {
   "cell_type": "code",
   "execution_count": 151,
   "id": "207108c4",
   "metadata": {},
   "outputs": [],
   "source": [
    "def get_datetime_after_duration(\n",
    "    start_datetime: datetime.datetime,\n",
    "    years: int = 0, \n",
    "    months: int = 0, \n",
    "    weeks: int = 0, \n",
    "    days: int = 0, \n",
    "    hours: int = 0, \n",
    "    minutes: int = 0, \n",
    "    seconds: int = 0, \n",
    "    microseconds: int = 0\n",
    ") -> datetime:\n",
    "    \"\"\"Date/time after duration from the start point\n",
    "    Args:\n",
    "        start_datetime: start point datetime\n",
    "    Returns: datetime instance\n",
    "    \"\"\"\n",
    "    end_datetime = start_datetime + dateutil.relativedelta.relativedelta(\n",
    "        years=years,\n",
    "        months=months,\n",
    "        weeks=weeks,\n",
    "        days=days,\n",
    "        hours=hours,\n",
    "        minutes=minutes,\n",
    "        seconds=seconds,\n",
    "        microseconds=microseconds\n",
    "    )\n",
    "    return end_datetime\n",
    "    "
   ]
  },
  {
   "cell_type": "code",
   "execution_count": 152,
   "id": "f848adf8",
   "metadata": {},
   "outputs": [
    {
     "data": {
      "text/plain": [
       "datetime.datetime(2022, 11, 1, 1, 0)"
      ]
     },
     "execution_count": 152,
     "metadata": {},
     "output_type": "execute_result"
    }
   ],
   "source": [
    "get_datetime_after_duration(\n",
    "    start_datetime=dateutil.parser.parse(\"2021-10-31\"),\n",
    "    years=1,\n",
    "    days=1,\n",
    "    hours=1\n",
    ")"
   ]
  },
  {
   "cell_type": "code",
   "execution_count": 25,
   "id": "aea8ff62",
   "metadata": {},
   "outputs": [
    {
     "data": {
      "text/plain": [
       "True"
      ]
     },
     "execution_count": 25,
     "metadata": {},
     "output_type": "execute_result"
    }
   ],
   "source": [
    "end_date = dateutil.parser.parse(\"2021-10-31\")\n",
    "start_date = end_date - dateutil.relativedelta.relativedelta(years=1)\n",
    "end_date - start_date >= datetime.timedelta(days=365 - 30)"
   ]
  },
  {
   "cell_type": "code",
   "execution_count": 31,
   "id": "2e9708b0",
   "metadata": {},
   "outputs": [
    {
     "data": {
      "text/plain": [
       "datetime.datetime(2020, 4, 4, 0, 0)"
      ]
     },
     "execution_count": 31,
     "metadata": {},
     "output_type": "execute_result"
    }
   ],
   "source": [
    "end = dateutil.parser.parse(\"2021-04-03\")\n",
    "end - dateutil.relativedelta.relativedelta(years=1) + datetime.timedelta(days=1)"
   ]
  },
  {
   "cell_type": "markdown",
   "id": "e062eeea",
   "metadata": {},
   "source": [
    "## Elapsed time of function execution"
   ]
  },
  {
   "cell_type": "code",
   "execution_count": 32,
   "id": "985f8693",
   "metadata": {},
   "outputs": [],
   "source": [
    "def elapsed_time(func, arg):\n",
    "    \"\"\"\n",
    "    Args:\n",
    "        func: function to execute and time it\n",
    "        arg: arguments to the function\n",
    "    Returns: datetime.datetime.timedelta object\n",
    "    \"\"\"\n",
    "    start = datetime.datetime.now()\n",
    "    func()\n",
    "    end = datetime.datetime.now()\n",
    "    elapsed = end - start\n",
    "    return elapsed"
   ]
  },
  {
   "cell_type": "code",
   "execution_count": 33,
   "id": "44b0cb2a",
   "metadata": {},
   "outputs": [
    {
     "name": "stdout",
     "output_type": "stream",
     "text": [
      "\n"
     ]
    },
    {
     "data": {
      "text/plain": [
       "datetime.timedelta(microseconds=61)"
      ]
     },
     "execution_count": 33,
     "metadata": {},
     "output_type": "execute_result"
    }
   ],
   "source": [
    "elapsed_time(print, \"hoge\")"
   ]
  },
  {
   "cell_type": "code",
   "execution_count": null,
   "id": "9f1a5db8",
   "metadata": {},
   "outputs": [],
   "source": []
  }
 ],
 "metadata": {
  "kernelspec": {
   "display_name": "Python 3 (ipykernel)",
   "language": "python",
   "name": "python3"
  },
  "language_info": {
   "codemirror_mode": {
    "name": "ipython",
    "version": 3
   },
   "file_extension": ".py",
   "mimetype": "text/x-python",
   "name": "python",
   "nbconvert_exporter": "python",
   "pygments_lexer": "ipython3",
   "version": "3.9.13"
  }
 },
 "nbformat": 4,
 "nbformat_minor": 5
}
