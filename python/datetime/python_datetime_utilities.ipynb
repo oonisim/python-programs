{
 "cells": [
  {
   "cell_type": "code",
   "execution_count": 1,
   "id": "d532a0d0",
   "metadata": {},
   "outputs": [],
   "source": [
    "from datetime import datetime\n",
    "from datetime import timedelta\n",
    "from dateutil.relativedelta import relativedelta\n",
    "import calendar\n",
    "from dateutil import parser\n",
    "from dateutil.tz import tzutc"
   ]
  },
  {
   "cell_type": "markdown",
   "id": "ba17a3dd",
   "metadata": {},
   "source": [
    "---\n",
    "# Instantiation\n",
    "\n",
    "Creating datetime instance"
   ]
  },
  {
   "cell_type": "code",
   "execution_count": 2,
   "id": "0cf8701b",
   "metadata": {},
   "outputs": [
    {
     "data": {
      "text/plain": [
       "datetime.datetime(2023, 1, 10, 21, 19, 40, 735074)"
      ]
     },
     "execution_count": 2,
     "metadata": {},
     "output_type": "execute_result"
    }
   ],
   "source": [
    "datetime.now()"
   ]
  },
  {
   "cell_type": "code",
   "execution_count": 3,
   "id": "3d57e495",
   "metadata": {},
   "outputs": [
    {
     "data": {
      "text/plain": [
       "datetime.datetime(2020, 10, 11, 4, 10, 52, 33)"
      ]
     },
     "execution_count": 3,
     "metadata": {},
     "output_type": "execute_result"
    }
   ],
   "source": [
    "datetime(year=2020, month=10, day=11, hour=4, minute=10, second=52, microsecond=33)"
   ]
  },
  {
   "cell_type": "markdown",
   "id": "d72c09e5",
   "metadata": {},
   "source": [
    "# Parse date/time\n",
    "\n",
    "* [dateutil - powerful extensions to datetime](https://dateutil.readthedocs.io/en/stable/)\n",
    "\n",
    "```\n",
    "pip install python-dateutil\n",
    "```"
   ]
  },
  {
   "cell_type": "code",
   "execution_count": 4,
   "id": "c71e1f50",
   "metadata": {},
   "outputs": [
    {
     "data": {
      "text/plain": [
       "datetime.datetime(1999, 8, 28, 0, 0)"
      ]
     },
     "execution_count": 4,
     "metadata": {},
     "output_type": "execute_result"
    }
   ],
   "source": [
    "parser.parse(\"Aug 28 1999 12:00AM\")  # datetime.datetime(1999, 8, 28, 0, 0)"
   ]
  },
  {
   "cell_type": "code",
   "execution_count": 5,
   "id": "b62af5d6",
   "metadata": {},
   "outputs": [
    {
     "data": {
      "text/plain": [
       "datetime.datetime(2021, 10, 31, 0, 0)"
      ]
     },
     "execution_count": 5,
     "metadata": {},
     "output_type": "execute_result"
    }
   ],
   "source": [
    "parser.parse(\"2021-10-31\")"
   ]
  },
  {
   "cell_type": "markdown",
   "id": "a13abdc0",
   "metadata": {},
   "source": [
    "---\n",
    "# String format"
   ]
  },
  {
   "cell_type": "code",
   "execution_count": 6,
   "id": "2ca2a3d0",
   "metadata": {
    "scrolled": true
   },
   "outputs": [
    {
     "data": {
      "text/plain": [
       "'2023JAN102119'"
      ]
     },
     "execution_count": 6,
     "metadata": {},
     "output_type": "execute_result"
    }
   ],
   "source": [
    "datetime.now().strftime(\"%Y%b%d%H%M\").upper()"
   ]
  },
  {
   "cell_type": "markdown",
   "id": "67a0fa19",
   "metadata": {},
   "source": [
    "## Convert date/time string into ISO 8601 without TZ"
   ]
  },
  {
   "cell_type": "code",
   "execution_count": 7,
   "id": "db5bb620",
   "metadata": {},
   "outputs": [
    {
     "name": "stdout",
     "output_type": "stream",
     "text": [
      "2018-03-01T01:00:00Z\n"
     ]
    }
   ],
   "source": [
    "def str_to_iso8601(literal) -> int:\n",
    "    \"\"\"Convert literal date/time string into ISO 8601 format\n",
    "    e.g. \"01 Mar 2018 11:00:00 GMT+1000\" into yyyy-MM-dd'T'HH:mm:ssZ or yyyy-MM-dd'T'HH:mm:ss.SSSZ\n",
    "    \"\"\"\n",
    "    literal = ' '.join(literal.split())\n",
    "    dt_gmt = datetime.strptime(literal, '%d %b %Y %H:%M:%S %Z%z')\n",
    "\n",
    "    seconds_since_epoch = int(dt_gmt.timestamp())\n",
    "    dt_utc = datetime.utcfromtimestamp(seconds_since_epoch)\n",
    "    return dt_utc.replace(tzinfo=None).isoformat()\n",
    "\n",
    "\n",
    "print(f'{str_to_iso8601(\"01 Mar 2018 11:00:00 GMT+1000\")}Z')"
   ]
  },
  {
   "cell_type": "markdown",
   "id": "e32c49db",
   "metadata": {},
   "source": [
    "---\n",
    "# Epoch\n",
    "## Convert date/time string into epoch\n",
    "\n",
    "Check the result with https://www.epochconverter.com/"
   ]
  },
  {
   "cell_type": "code",
   "execution_count": 8,
   "id": "fa369306",
   "metadata": {},
   "outputs": [
    {
     "data": {
      "text/plain": [
       "1519866000"
      ]
     },
     "execution_count": 8,
     "metadata": {},
     "output_type": "execute_result"
    }
   ],
   "source": [
    "def str_to_epoch(literal) -> int:\n",
    "    \"\"\"Convert literal date/time string into epoch time in seconds\n",
    "    e.g. \"01 Mar 2018 11:00:00 GMT+1000\" into 1519866000\n",
    "    \"\"\"\n",
    "    literal = ' '.join(literal.split())\n",
    "    dt = datetime.strptime(literal, '%d %b %Y %H:%M:%S %Z%z')\n",
    "    return int(dt.timestamp())  # sec\n",
    "\n",
    "\n",
    "str_to_epoch(\"01 Mar 2018 11:00:00 GMT+1000\")"
   ]
  },
  {
   "cell_type": "markdown",
   "id": "ff4ec816",
   "metadata": {},
   "source": [
    "## Convert date/time to epoch\n",
    "It looks Python date/time function may have bugs.\n",
    "\n",
    "* [Convert python datetime to epoch with strftime](https://stackoverflow.com/questions/11743019/convert-python-datetime-to-epoch-with-strftime)\n",
    "\n",
    "> 1st of April 2012 UTC from epoch is 1333238400 but this above returns 1333234800 which is different by 1 hour.\n",
    "> ```\n",
    "> >>>datetime.datetime(2012,04,01,0,0).strftime('%s')\n",
    "'1333234800'\n",
    "> ```\n",
    "\n",
    "> don't use .strftime(\"%s\"): it is not supported, it is not portable, it may silently produce a wrong result for an aware datetime object, it fails if input is in UTC (as in the question) but local timezone is not UTC – \n",
    "jfs\n",
    "\n",
    "> I'm on Python 3.6 and datetime.datetime(2012,4,1,0,0).timestamp() does not give the correct epoch time. \n"
   ]
  },
  {
   "cell_type": "code",
   "execution_count": 9,
   "id": "01ae6446",
   "metadata": {},
   "outputs": [
    {
     "data": {
      "text/plain": [
       "1333238400"
      ]
     },
     "execution_count": 9,
     "metadata": {},
     "output_type": "execute_result"
    }
   ],
   "source": [
    "calendar.timegm(datetime(2012, 4, 1, 0, 0).timetuple())"
   ]
  },
  {
   "cell_type": "code",
   "execution_count": 10,
   "id": "8d61b2dc",
   "metadata": {},
   "outputs": [
    {
     "data": {
      "text/plain": [
       "91.0"
      ]
     },
     "execution_count": 10,
     "metadata": {},
     "output_type": "execute_result"
    }
   ],
   "source": [
    "start = calendar.timegm(datetime(2012, 12, 1, 0, 0).timetuple())\n",
    "end = calendar.timegm(datetime(2012, 9, 1, 0, 0).timetuple())\n",
    "\n",
    "(start - end) / (3600 * 24)"
   ]
  },
  {
   "cell_type": "markdown",
   "id": "0f23abc2",
   "metadata": {},
   "source": [
    "---\n",
    "# Duratinon"
   ]
  },
  {
   "cell_type": "code",
   "execution_count": 11,
   "id": "aea8ff62",
   "metadata": {},
   "outputs": [
    {
     "data": {
      "text/plain": [
       "True"
      ]
     },
     "execution_count": 11,
     "metadata": {},
     "output_type": "execute_result"
    }
   ],
   "source": [
    "end_date = parser.parse(\"2021-10-31\")\n",
    "start_date = end_date - relativedelta(years=1)\n",
    "end_date - start_date >= timedelta(days=365 - 30)"
   ]
  },
  {
   "cell_type": "code",
   "execution_count": 12,
   "id": "387dbd68",
   "metadata": {},
   "outputs": [
    {
     "data": {
      "text/plain": [
       "True"
      ]
     },
     "execution_count": 12,
     "metadata": {},
     "output_type": "execute_result"
    }
   ],
   "source": [
    "start = parser.parse(\"2021-10-31\") - relativedelta(years=1) + timedelta(days=1)\n",
    "start <= parser.parse(\"2020-11-01\")"
   ]
  },
  {
   "cell_type": "code",
   "execution_count": 13,
   "id": "2e9708b0",
   "metadata": {},
   "outputs": [
    {
     "data": {
      "text/plain": [
       "datetime.datetime(2020, 4, 4, 0, 0)"
      ]
     },
     "execution_count": 13,
     "metadata": {},
     "output_type": "execute_result"
    }
   ],
   "source": [
    "end = parser.parse(\"2021-04-03\")\n",
    "end - relativedelta(years=1) + timedelta(days=1)"
   ]
  },
  {
   "cell_type": "markdown",
   "id": "e062eeea",
   "metadata": {},
   "source": [
    "## Elapsed time"
   ]
  },
  {
   "cell_type": "code",
   "execution_count": 14,
   "id": "985f8693",
   "metadata": {},
   "outputs": [],
   "source": [
    "def elapsed_time(func, arg):\n",
    "    \"\"\"\n",
    "    Args:\n",
    "        func: function to execute and time it\n",
    "        arg: arguments to the function\n",
    "    Returns: datetime.timedelta object\n",
    "    \"\"\"\n",
    "    start = datetime.now()\n",
    "    func()\n",
    "    end = datetime.now()\n",
    "    elapsed = end - start\n",
    "    return elapsed"
   ]
  },
  {
   "cell_type": "code",
   "execution_count": 15,
   "id": "44b0cb2a",
   "metadata": {},
   "outputs": [
    {
     "name": "stdout",
     "output_type": "stream",
     "text": [
      "\n"
     ]
    },
    {
     "data": {
      "text/plain": [
       "datetime.timedelta(microseconds=11)"
      ]
     },
     "execution_count": 15,
     "metadata": {},
     "output_type": "execute_result"
    }
   ],
   "source": [
    "elapsed_time(print, \"hoge\")"
   ]
  },
  {
   "cell_type": "markdown",
   "id": "60d8515c",
   "metadata": {},
   "source": [
    "---\n",
    "# Datatime element"
   ]
  },
  {
   "cell_type": "code",
   "execution_count": 24,
   "id": "19e8ac2b",
   "metadata": {},
   "outputs": [],
   "source": [
    "def get_datetime_components(dt: datetime):\n",
    "    return {\n",
    "        \"year\": dt.year,\n",
    "        \"month\": dt.month,\n",
    "        \"day\": dt.day,\n",
    "        \"weekday\": dt.weekday,\n",
    "        \"hour\": dt.hour,\n",
    "        \"minute\": dt.minute,\n",
    "        \"second\": dt.second,\n",
    "        \"microsecond\": dt.microsecond,\n",
    "        \"tzinfo\": dt.tzinfo,\n",
    "    }"
   ]
  },
  {
   "cell_type": "code",
   "execution_count": 25,
   "id": "e91835b9",
   "metadata": {},
   "outputs": [
    {
     "data": {
      "text/plain": [
       "{'year': 2023,\n",
       " 'month': 1,\n",
       " 'day': 10,\n",
       " 'weekday': <function datetime.weekday>,\n",
       " 'hour': 21,\n",
       " 'minute': 23,\n",
       " 'second': 23,\n",
       " 'microsecond': 421964,\n",
       " 'tzinfo': None}"
      ]
     },
     "execution_count": 25,
     "metadata": {},
     "output_type": "execute_result"
    }
   ],
   "source": [
    "get_datetime_components(datetime.now())"
   ]
  },
  {
   "cell_type": "code",
   "execution_count": null,
   "id": "d0487778",
   "metadata": {},
   "outputs": [],
   "source": []
  }
 ],
 "metadata": {
  "kernelspec": {
   "display_name": "Python 3 (ipykernel)",
   "language": "python",
   "name": "python3"
  },
  "language_info": {
   "codemirror_mode": {
    "name": "ipython",
    "version": 3
   },
   "file_extension": ".py",
   "mimetype": "text/x-python",
   "name": "python",
   "nbconvert_exporter": "python",
   "pygments_lexer": "ipython3",
   "version": "3.9.13"
  }
 },
 "nbformat": 4,
 "nbformat_minor": 5
}
