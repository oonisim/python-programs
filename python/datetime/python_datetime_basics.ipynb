{
 "cells": [
  {
   "cell_type": "markdown",
   "id": "16ec37fe",
   "metadata": {},
   "source": [
    "# How to manage datetime in Python\n",
    "\n",
    "* [datetime — Basic date and time types](https://docs.python.org/3/library/datetime.html)\n",
    "\n",
    "> * class datetime.date   \n",
    "> An idealized naive date, assuming the current Gregorian calendar always was, and always will be, in effect. Attributes: year, month, and day.<br>\n",
    ">  <BR>\n",
    "> * class datetime.time  \n",
    "> An idealized time, independent of any particular day, assuming that every day has exactly 24*60*60 seconds. (There is no notion of “leap seconds” here.) Attributes: hour, minute, second, microsecond, and tzinfo.<br>\n",
    "> * class datetime.datetime  \n",
    "> A combination of a date and a time. Attributes: year, month, day, hour, minute, second, microsecond, and tzinfo.<br>\n",
    ">  <BR>\n",
    "> * class datetime.timedelta  \n",
    "> A duration expressing the difference between two date, time, or datetime instances to microsecond resolution.<br>\n",
    ">  <BR>\n",
    "> * class datetime.tzinfo  \n",
    "> An abstract base class for time zone information objects. These are used by the datetime and time classes to provide a customizable notion of time adjustment (for example, to account for time zone and/or daylight saving time).<br>\n",
    ">  <BR>\n",
    "> * class datetime.timezone  \n",
    "> A class that implements the tzinfo abstract base class as a fixed offset from the UTC."
   ]
  },
  {
   "cell_type": "code",
   "execution_count": 3,
   "id": "633c7b65",
   "metadata": {},
   "outputs": [],
   "source": [
    "from datetime import datetime"
   ]
  },
  {
   "cell_type": "code",
   "execution_count": 15,
   "id": "72b8fa5d",
   "metadata": {},
   "outputs": [
    {
     "data": {
      "text/plain": [
       "datetime.datetime(2020, 10, 11, 4, 10, 52, 33)"
      ]
     },
     "execution_count": 15,
     "metadata": {},
     "output_type": "execute_result"
    }
   ],
   "source": [
    "dt = datetime(year=2020, month=10, day=11, hour=4, minute=10, second=52, microsecond=33)\n",
    "dt"
   ]
  },
  {
   "cell_type": "markdown",
   "id": "46e4ef7c",
   "metadata": {},
   "source": [
    "# Extract elements of date/time"
   ]
  },
  {
   "cell_type": "code",
   "execution_count": 16,
   "id": "1680aabe",
   "metadata": {},
   "outputs": [
    {
     "name": "stdout",
     "output_type": "stream",
     "text": [
      "astimezone\n",
      "combine\n",
      "ctime\n",
      "date\n",
      "day\n",
      "dst\n",
      "fold\n",
      "fromisocalendar\n",
      "fromisoformat\n",
      "fromordinal\n",
      "fromtimestamp\n",
      "hour\n",
      "isocalendar\n",
      "isoformat\n",
      "isoweekday\n",
      "max\n",
      "microsecond\n",
      "min\n",
      "minute\n",
      "month\n",
      "now\n",
      "replace\n",
      "resolution\n",
      "second\n",
      "strftime\n",
      "strptime\n",
      "time\n",
      "timestamp\n",
      "timetuple\n",
      "timetz\n",
      "today\n",
      "toordinal\n",
      "tzinfo\n",
      "tzname\n",
      "utcfromtimestamp\n",
      "utcnow\n",
      "utcoffset\n",
      "utctimetuple\n",
      "weekday\n",
      "year\n"
     ]
    }
   ],
   "source": [
    "for attr in dir(dt):\n",
    "    if not attr.startswith(\"__\"): print(attr)"
   ]
  },
  {
   "cell_type": "code",
   "execution_count": 20,
   "id": "cfa6242e",
   "metadata": {},
   "outputs": [
    {
     "data": {
      "text/plain": [
       "time.struct_time(tm_year=2020, tm_mon=10, tm_mday=11, tm_hour=4, tm_min=10, tm_sec=52, tm_wday=6, tm_yday=285, tm_isdst=-1)"
      ]
     },
     "execution_count": 20,
     "metadata": {},
     "output_type": "execute_result"
    }
   ],
   "source": [
    "dt.timetuple()"
   ]
  },
  {
   "cell_type": "code",
   "execution_count": 21,
   "id": "eb487efc",
   "metadata": {},
   "outputs": [
    {
     "data": {
      "text/plain": [
       "datetime.time(4, 10, 52, 33)"
      ]
     },
     "execution_count": 21,
     "metadata": {},
     "output_type": "execute_result"
    }
   ],
   "source": [
    "dt.time()"
   ]
  },
  {
   "cell_type": "code",
   "execution_count": 6,
   "id": "35d9f704",
   "metadata": {},
   "outputs": [
    {
     "data": {
      "text/plain": [
       "datetime.date(2020, 10, 11)"
      ]
     },
     "execution_count": 6,
     "metadata": {},
     "output_type": "execute_result"
    }
   ],
   "source": [
    "dt.date()"
   ]
  },
  {
   "cell_type": "code",
   "execution_count": 17,
   "id": "3ece0943",
   "metadata": {},
   "outputs": [
    {
     "data": {
      "text/plain": [
       "11"
      ]
     },
     "execution_count": 17,
     "metadata": {},
     "output_type": "execute_result"
    }
   ],
   "source": [
    "dt.day"
   ]
  },
  {
   "cell_type": "code",
   "execution_count": 19,
   "id": "ab9841d6",
   "metadata": {},
   "outputs": [
    {
     "data": {
      "text/plain": [
       "6"
      ]
     },
     "execution_count": 19,
     "metadata": {},
     "output_type": "execute_result"
    }
   ],
   "source": [
    "dt.weekday()"
   ]
  },
  {
   "cell_type": "code",
   "execution_count": null,
   "id": "93e310b5",
   "metadata": {},
   "outputs": [],
   "source": []
  }
 ],
 "metadata": {
  "kernelspec": {
   "display_name": "Python 3 (ipykernel)",
   "language": "python",
   "name": "python3"
  },
  "language_info": {
   "codemirror_mode": {
    "name": "ipython",
    "version": 3
   },
   "file_extension": ".py",
   "mimetype": "text/x-python",
   "name": "python",
   "nbconvert_exporter": "python",
   "pygments_lexer": "ipython3",
   "version": "3.9.13"
  }
 },
 "nbformat": 4,
 "nbformat_minor": 5
}
