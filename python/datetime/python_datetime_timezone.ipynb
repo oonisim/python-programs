{
 "cells": [
  {
   "cell_type": "code",
   "execution_count": 21,
   "id": "3bc6f938-138c-4cd5-93a9-dd1eb4be510e",
   "metadata": {},
   "outputs": [],
   "source": [
    "import datetime\n",
    "import zoneinfo\n",
    "import time"
   ]
  },
  {
   "cell_type": "markdown",
   "id": "ee6c8d71-d2d2-4beb-9c95-64cca9848469",
   "metadata": {},
   "source": [
    "# References"
   ]
  },
  {
   "cell_type": "markdown",
   "id": "6cfd97ec-2611-4c6c-bc9f-9ab7e7b88e40",
   "metadata": {},
   "source": [
    "* [Differences in timezone format? Should one format be preferred?](https://stackoverflow.com/a/70726655/4281353)\n",
    "\n",
    "> Are there any differences?\n",
    "> ```\n",
    "> * American/Los_Angeles\n",
    "> * US/Pacific\n",
    "> * Etc/GMT-8\n",
    "> ```\n",
    "\n",
    "\n",
    "> **America/Los_Angeles** (not \"American\") is the preferred IANA time zone identifier for the US Pacific time zone. You should probably use this one, as it is the canonical \"Zone\" entry in the time zone database.\n",
    "> \n",
    "> **US/Pacific** is an alias for the same time zone. It is in an older style, from when the time zone database used country names as prefixes instead of larger regions (continents and oceans). You can continue to use this one if you like, as it is a \"Link\" in the time zone database which points back to America/Los_Angeles.\n",
    "> \n",
    "> **Etc/GMT-8** is not correct for the US Pacific time zone. It is an administrative identifier for a fixed offset of UTC+8. It does not contain any information about daylight saving time. Also notice the offset is inverted from the ISO-8601 offsets that we are usually used to. So Etc/GMT-8 has a fixed offset of UTC+8. In general, the Etc/GMT* zones should only be used in very specific scenarios, such as for timekeeping aboard ships at sea in international waters.\n",
    ">\n",
    "> You might also want to read about the [time zone database](https://en.wikipedia.org/wiki/Tz_database) and refer to the [list of time zones on Wikipedia](https://en.wikipedia.org/wiki/List_of_tz_database_time_zones)."
   ]
  },
  {
   "cell_type": "markdown",
   "id": "26dc114d-833e-4111-af74-a47202594a4f",
   "metadata": {},
   "source": [
    "# Timezones"
   ]
  },
  {
   "cell_type": "code",
   "execution_count": 4,
   "id": "b24510f1-2803-4f1e-aed2-bbd7471e9a87",
   "metadata": {},
   "outputs": [
    {
     "data": {
      "text/plain": [
       "['Pacific/Noumea',\n",
       " 'Factory',\n",
       " 'Etc/GMT+2',\n",
       " 'Asia/Jakarta',\n",
       " 'Europe/Tallinn',\n",
       " 'America/Anchorage',\n",
       " 'America/Los_Angeles',\n",
       " 'America/Mexico_City',\n",
       " 'America/Barbados',\n",
       " 'America/Anguilla']"
      ]
     },
     "execution_count": 4,
     "metadata": {},
     "output_type": "execute_result"
    }
   ],
   "source": [
    "list(zoneinfo.available_timezones())[:10]"
   ]
  },
  {
   "cell_type": "markdown",
   "id": "2edd895e-4f1b-4721-8394-9adf8911c07a",
   "metadata": {},
   "source": [
    "# Datetime instantiation with TZ"
   ]
  },
  {
   "cell_type": "code",
   "execution_count": 8,
   "id": "b07289d7-3803-4b35-8095-80eac287fcb0",
   "metadata": {},
   "outputs": [
    {
     "data": {
      "text/plain": [
       "datetime.datetime(2019, 12, 7, 0, 0, tzinfo=zoneinfo.ZoneInfo(key='Australia/Sydney'))"
      ]
     },
     "execution_count": 8,
     "metadata": {},
     "output_type": "execute_result"
    }
   ],
   "source": [
    "datetime.datetime(2019, 12, 7, tzinfo=zoneinfo.ZoneInfo(\"Australia/Sydney\")) "
   ]
  },
  {
   "cell_type": "code",
   "execution_count": 10,
   "id": "7c760865-91c1-4732-9860-90671b4cbb71",
   "metadata": {},
   "outputs": [
    {
     "data": {
      "text/plain": [
       "datetime.datetime(2023, 10, 30, 7, 18, 55, 166421, tzinfo=zoneinfo.ZoneInfo(key='Asia/Tokyo'))"
      ]
     },
     "execution_count": 10,
     "metadata": {},
     "output_type": "execute_result"
    }
   ],
   "source": [
    "datetime.datetime.now(tz=zoneinfo.ZoneInfo(\"Asia/Tokyo\"))"
   ]
  },
  {
   "cell_type": "markdown",
   "id": "314844ef-9e91-410b-9b6b-c1c32e1846e6",
   "metadata": {},
   "source": [
    "# Display date/time in another TZ\n"
   ]
  },
  {
   "cell_type": "code",
   "execution_count": 12,
   "id": "755e27af-af0d-45f2-9806-d2e8b3b29bc1",
   "metadata": {},
   "outputs": [
    {
     "data": {
      "text/plain": [
       "datetime.datetime(2023, 10, 30, 9, 20, 7, 846271, tzinfo=zoneinfo.ZoneInfo(key='Australia/Sydney'))"
      ]
     },
     "execution_count": 12,
     "metadata": {},
     "output_type": "execute_result"
    }
   ],
   "source": [
    "sydney_time: datetime.datetime = datetime.datetime.now(tz=zoneinfo.ZoneInfo(\"Australia/Sydney\"))\n",
    "sydney_time"
   ]
  },
  {
   "cell_type": "code",
   "execution_count": 14,
   "id": "3b36c289-4ed1-43fb-959d-ff1c36de97bc",
   "metadata": {},
   "outputs": [
    {
     "data": {
      "text/plain": [
       "datetime.datetime(2023, 10, 29, 15, 20, 7, 846271, tzinfo=zoneinfo.ZoneInfo(key='America/Los_Angeles'))"
      ]
     },
     "execution_count": 14,
     "metadata": {},
     "output_type": "execute_result"
    }
   ],
   "source": [
    "# what is the current time in LA?\n",
    "sydney_time.astimezone(zoneinfo.ZoneInfo('America/Los_Angeles'))"
   ]
  },
  {
   "cell_type": "markdown",
   "id": "1e2ed895-5e3d-4b17-a140-53e3a22ac9c1",
   "metadata": {},
   "source": [
    "# Display tzinfo of datetime"
   ]
  },
  {
   "cell_type": "code",
   "execution_count": 16,
   "id": "7d04a0c0-9f6a-4971-87df-b64ee87f6a0e",
   "metadata": {},
   "outputs": [
    {
     "data": {
      "text/plain": [
       "datetime.timezone(datetime.timedelta(seconds=39600), 'AEDT')"
      ]
     },
     "execution_count": 16,
     "metadata": {},
     "output_type": "execute_result"
    }
   ],
   "source": [
    "datetime.datetime.now(datetime.timezone.utc).astimezone().tzinfo"
   ]
  },
  {
   "cell_type": "code",
   "execution_count": 17,
   "id": "e4e1bb5b-76c2-4bd0-96c1-acc3743dc65a",
   "metadata": {},
   "outputs": [
    {
     "data": {
      "text/plain": [
       "datetime.timezone(datetime.timedelta(seconds=39600), 'AEDT')"
      ]
     },
     "execution_count": 17,
     "metadata": {},
     "output_type": "execute_result"
    }
   ],
   "source": [
    "datetime.datetime.now(tz=zoneinfo.ZoneInfo(\"Australia/Sydney\")).astimezone().tzinfo"
   ]
  },
  {
   "cell_type": "code",
   "execution_count": 18,
   "id": "b877360a-b3b2-46d7-89e9-a6aa3fa8217e",
   "metadata": {},
   "outputs": [
    {
     "data": {
      "text/plain": [
       "datetime.timezone(datetime.timedelta(seconds=39600), 'AEDT')"
      ]
     },
     "execution_count": 18,
     "metadata": {},
     "output_type": "execute_result"
    }
   ],
   "source": [
    "datetime.datetime.now(tz=zoneinfo.ZoneInfo(\"Australia/Melbourne\")).astimezone().tzinfo"
   ]
  },
  {
   "cell_type": "code",
   "execution_count": 35,
   "id": "4677807c-e1dc-4209-a353-60838e0a4a03",
   "metadata": {},
   "outputs": [],
   "source": [
    "# datetime.datetime.now(tz=zoneinfo.ZoneInfo(\"AEDT\")).astimezone().tzinfo"
   ]
  },
  {
   "cell_type": "markdown",
   "id": "9562d250-5726-46d3-af62-86d9e9652a66",
   "metadata": {},
   "source": [
    "# Display DST"
   ]
  },
  {
   "cell_type": "code",
   "execution_count": 30,
   "id": "c0cda8b1-9d79-439e-afb1-8c05a956ded8",
   "metadata": {},
   "outputs": [],
   "source": [
    "def current_timezone():\n",
    "    if time.daylight:\n",
    "        return datetime.timezone(datetime.timedelta(seconds=-time.altzone),time.tzname[1])\n",
    "    else:\n",
    "        return datetime.timezone(datetime.timedelta(seconds=-time.timezone),time.tzname[0])"
   ]
  },
  {
   "cell_type": "code",
   "execution_count": 31,
   "id": "b4fc1ca9-0063-49ab-908e-548609f98ad1",
   "metadata": {},
   "outputs": [
    {
     "data": {
      "text/plain": [
       "datetime.timezone(datetime.timedelta(seconds=36000), 'AEST')"
      ]
     },
     "execution_count": 31,
     "metadata": {},
     "output_type": "execute_result"
    }
   ],
   "source": [
    "currenttz()"
   ]
  },
  {
   "cell_type": "code",
   "execution_count": 28,
   "id": "05f84276-98a4-45f8-a1ce-9e1593fed865",
   "metadata": {},
   "outputs": [
    {
     "data": {
      "text/plain": [
       "True"
      ]
     },
     "execution_count": 28,
     "metadata": {},
     "output_type": "execute_result"
    }
   ],
   "source": [
    "def is_on_daylight_datetime() -> bool:\n",
    "    \"\"\"Check if on DST\n",
    "    Returns: True if current local time is on DST (Daylight Saving Time).\n",
    "    \"\"\"\n",
    "    return bool(time.daylight)\n",
    "\n",
    "is_on_daylight_datetime()"
   ]
  },
  {
   "cell_type": "code",
   "execution_count": null,
   "id": "a8babd18-8fb8-447f-ae74-957853e0ddfe",
   "metadata": {},
   "outputs": [],
   "source": []
  }
 ],
 "metadata": {
  "kernelspec": {
   "display_name": "Python 3 (ipykernel)",
   "language": "python",
   "name": "python3"
  },
  "language_info": {
   "codemirror_mode": {
    "name": "ipython",
    "version": 3
   },
   "file_extension": ".py",
   "mimetype": "text/x-python",
   "name": "python",
   "nbconvert_exporter": "python",
   "pygments_lexer": "ipython3",
   "version": "3.9.13"
  }
 },
 "nbformat": 4,
 "nbformat_minor": 5
}
