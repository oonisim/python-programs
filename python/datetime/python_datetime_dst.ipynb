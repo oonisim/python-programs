{
 "cells": [
  {
   "cell_type": "code",
   "execution_count": 21,
   "id": "3bc6f938-138c-4cd5-93a9-dd1eb4be510e",
   "metadata": {},
   "outputs": [],
   "source": [
    "import datetime\n",
    "import zoneinfo\n",
    "import time"
   ]
  },
  {
   "cell_type": "markdown",
   "id": "9562d250-5726-46d3-af62-86d9e9652a66",
   "metadata": {},
   "source": [
    "# Display DST"
   ]
  },
  {
   "cell_type": "code",
   "execution_count": 30,
   "id": "c0cda8b1-9d79-439e-afb1-8c05a956ded8",
   "metadata": {},
   "outputs": [],
   "source": [
    "def current_timezone():\n",
    "    if time.daylight:\n",
    "        return datetime.timezone(datetime.timedelta(seconds=-time.altzone),time.tzname[1])\n",
    "    else:\n",
    "        return datetime.timezone(datetime.timedelta(seconds=-time.timezone),time.tzname[0])"
   ]
  },
  {
   "cell_type": "code",
   "execution_count": 31,
   "id": "b4fc1ca9-0063-49ab-908e-548609f98ad1",
   "metadata": {},
   "outputs": [
    {
     "data": {
      "text/plain": [
       "datetime.timezone(datetime.timedelta(seconds=36000), 'AEST')"
      ]
     },
     "execution_count": 31,
     "metadata": {},
     "output_type": "execute_result"
    }
   ],
   "source": [
    "currenttz()"
   ]
  },
  {
   "cell_type": "code",
   "execution_count": 28,
   "id": "05f84276-98a4-45f8-a1ce-9e1593fed865",
   "metadata": {},
   "outputs": [
    {
     "data": {
      "text/plain": [
       "True"
      ]
     },
     "execution_count": 28,
     "metadata": {},
     "output_type": "execute_result"
    }
   ],
   "source": [
    "def is_on_daylight_datetime() -> bool:\n",
    "    \"\"\"Check if on DST\n",
    "    Returns: True if current local time is on DST (Daylight Saving Time).\n",
    "    \"\"\"\n",
    "    return bool(time.daylight)\n",
    "\n",
    "is_on_daylight_datetime()"
   ]
  }
 ],
 "metadata": {
  "kernelspec": {
   "display_name": "Python 3 (ipykernel)",
   "language": "python",
   "name": "python3"
  },
  "language_info": {
   "codemirror_mode": {
    "name": "ipython",
    "version": 3
   },
   "file_extension": ".py",
   "mimetype": "text/x-python",
   "name": "python",
   "nbconvert_exporter": "python",
   "pygments_lexer": "ipython3",
   "version": "3.9.13"
  }
 },
 "nbformat": 4,
 "nbformat_minor": 5
}
