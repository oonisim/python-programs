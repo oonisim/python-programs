{
 "cells": [
  {
   "cell_type": "code",
   "execution_count": 6,
   "id": "6144e9a3",
   "metadata": {},
   "outputs": [
    {
     "data": {
      "text/plain": [
       "'2021JUN260944'"
      ]
     },
     "execution_count": 6,
     "metadata": {},
     "output_type": "execute_result"
    }
   ],
   "source": [
    "import datetime\n",
    "datetime.datetime.now().strftime(\"%Y%b%d%H%M\").upper()"
   ]
  },
  {
   "cell_type": "code",
   "execution_count": null,
   "id": "23b1e58c",
   "metadata": {},
   "outputs": [],
   "source": []
  }
 ],
 "metadata": {
  "kernelspec": {
   "display_name": "Python 3",
   "language": "python",
   "name": "python3"
  },
  "language_info": {
   "codemirror_mode": {
    "name": "ipython",
    "version": 3
   },
   "file_extension": ".py",
   "mimetype": "text/x-python",
   "name": "python",
   "nbconvert_exporter": "python",
   "pygments_lexer": "ipython3",
   "version": "3.8.8"
  }
 },
 "nbformat": 4,
 "nbformat_minor": 5
}
