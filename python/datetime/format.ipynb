{
 "cells": [
  {
   "cell_type": "code",
   "execution_count": 20,
   "id": "d532a0d0",
   "metadata": {},
   "outputs": [
    {
     "data": {
      "text/plain": [
       "'2021AUG292226'"
      ]
     },
     "execution_count": 20,
     "metadata": {},
     "output_type": "execute_result"
    }
   ],
   "source": [
    "import datetime\n",
    "from dateutil.tz import tzutc\n",
    "\n",
    "\n",
    "datetime.datetime.now().strftime(\"%Y%b%d%H%M\").upper()"
   ]
  },
  {
   "cell_type": "markdown",
   "id": "e32c49db",
   "metadata": {},
   "source": [
    "# Convert date/time string into epoch\n",
    "\n",
    "Check the result with https://www.epochconverter.com/"
   ]
  },
  {
   "cell_type": "code",
   "execution_count": 21,
   "id": "fa369306",
   "metadata": {},
   "outputs": [
    {
     "data": {
      "text/plain": [
       "1519866000"
      ]
     },
     "execution_count": 21,
     "metadata": {},
     "output_type": "execute_result"
    }
   ],
   "source": [
    "def str_to_epoch(literal) -> int:\n",
    "    \"\"\"Convert literal date/time string into epoch time in seconds\n",
    "    e.g. \"01 Mar 2018 11:00:00 GMT+1000\" into 1519866000\n",
    "    \"\"\"\n",
    "    literal = ' '.join(literal.split())\n",
    "    dt = datetime.datetime.strptime(literal, '%d %b %Y %H:%M:%S %Z%z')\n",
    "    return int(dt.timestamp())  # sec\n",
    "\n",
    "\n",
    "str_to_epoch(\"01 Mar 2018 11:00:00 GMT+1000\")"
   ]
  },
  {
   "cell_type": "markdown",
   "id": "67a0fa19",
   "metadata": {},
   "source": [
    "# Convert date/time string into ISO 8601 without TZ"
   ]
  },
  {
   "cell_type": "code",
   "execution_count": 31,
   "id": "db5bb620",
   "metadata": {},
   "outputs": [
    {
     "name": "stdout",
     "output_type": "stream",
     "text": [
      "2018-03-01T01:00:00Z\n"
     ]
    }
   ],
   "source": [
    "def str_to_iso8601(literal) -> int:\n",
    "    \"\"\"Convert literal date/time string into ISO 8601 format\n",
    "    e.g. \"01 Mar 2018 11:00:00 GMT+1000\" into yyyy-MM-dd'T'HH:mm:ssZ or yyyy-MM-dd'T'HH:mm:ss.SSSZ\n",
    "    \"\"\"\n",
    "    literal = ' '.join(literal.split())\n",
    "    dt_gmt = datetime.datetime.strptime(literal, '%d %b %Y %H:%M:%S %Z%z')\n",
    "\n",
    "    seconds_since_epoch = int(dt_gmt.timestamp())\n",
    "    dt_utc = datetime.datetime.utcfromtimestamp(seconds_since_epoch)\n",
    "    return dt_utc.replace(tzinfo=None).isoformat()\n",
    "\n",
    "\n",
    "print(f'{str_to_iso8601(\"01 Mar 2018 11:00:00 GMT+1000\")}Z')"
   ]
  },
  {
   "cell_type": "code",
   "execution_count": null,
   "id": "3d8393b9",
   "metadata": {},
   "outputs": [],
   "source": []
  }
 ],
 "metadata": {
  "kernelspec": {
   "display_name": "Python 3 (ipykernel)",
   "language": "python",
   "name": "python3"
  },
  "language_info": {
   "codemirror_mode": {
    "name": "ipython",
    "version": 3
   },
   "file_extension": ".py",
   "mimetype": "text/x-python",
   "name": "python",
   "nbconvert_exporter": "python",
   "pygments_lexer": "ipython3",
   "version": "3.8.10"
  }
 },
 "nbformat": 4,
 "nbformat_minor": 5
}
