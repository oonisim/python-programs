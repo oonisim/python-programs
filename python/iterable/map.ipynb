{
 "cells": [
  {
   "cell_type": "markdown",
   "id": "04142ae6",
   "metadata": {},
   "source": [
    "# Python map function\n",
    "\n",
    "```map(function, iterable, args)```\n",
    "\n",
    "Apply ```function(e, args)``` on each element in in ```iteragle```."
   ]
  },
  {
   "cell_type": "code",
   "execution_count": 4,
   "id": "7e12fd47",
   "metadata": {},
   "outputs": [
    {
     "data": {
      "text/plain": [
       "[1, 4, 9]"
      ]
     },
     "execution_count": 4,
     "metadata": {},
     "output_type": "execute_result"
    }
   ],
   "source": [
    "list(map(pow, [1,2,3], [2,2,2]))   # pow(base, exp[, mod]) where args -> exp"
   ]
  },
  {
   "cell_type": "code",
   "execution_count": 5,
   "id": "317bfe42",
   "metadata": {},
   "outputs": [
    {
     "data": {
      "text/plain": [
       "[1, 4, 9]"
      ]
     },
     "execution_count": 5,
     "metadata": {},
     "output_type": "execute_result"
    }
   ],
   "source": [
    "import itertools\n",
    "list(map(pow, [1, 2, 3], itertools.repeat(2)))"
   ]
  },
  {
   "cell_type": "code",
   "execution_count": null,
   "id": "3f6e3da1",
   "metadata": {},
   "outputs": [],
   "source": []
  }
 ],
 "metadata": {
  "kernelspec": {
   "display_name": "Python 3 (ipykernel)",
   "language": "python",
   "name": "python3"
  },
  "language_info": {
   "codemirror_mode": {
    "name": "ipython",
    "version": 3
   },
   "file_extension": ".py",
   "mimetype": "text/x-python",
   "name": "python",
   "nbconvert_exporter": "python",
   "pygments_lexer": "ipython3",
   "version": "3.8.10"
  }
 },
 "nbformat": 4,
 "nbformat_minor": 5
}
