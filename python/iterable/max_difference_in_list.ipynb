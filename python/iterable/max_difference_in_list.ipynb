{
 "cells": [
  {
   "cell_type": "markdown",
   "id": "90100dea",
   "metadata": {},
   "source": [
    "https://coderbyte.com/results/oonisim:Stock%20Picker:Python3\n",
    "\n",
    "> Have the function StockPicker(arr) take the array of numbers stored in arr which will contain integers that represent the amount in dollars that a single stock is worth, and return the maximum profit that could have been made by buying stock on day x and selling stock on day y where y > x. For example: if arr is [44, 30, 24, 32, 35, 30, 40, 38, 15] then your program should return 16 because at index 2 the stock was worth $24 and at index 6 the stock was then worth $40, so if you bought the stock at 24 and sold it at 40, you would have made a profit of $16, which is the maximum profit that could have been made with this list of stock prices.\n",
    "\n",
    "> If there is not profit that could have been made with the stock prices, then your program should return -1. For example: arr is [10, 9, 8, 2] then your program should return -1."
   ]
  },
  {
   "cell_type": "code",
   "execution_count": 1,
   "id": "048a8745",
   "metadata": {},
   "outputs": [],
   "source": [
    "prices = [14,20,4,12,5,11]\n",
    "N = len(prices)"
   ]
  },
  {
   "cell_type": "code",
   "execution_count": 2,
   "id": "1ccc36e6",
   "metadata": {},
   "outputs": [],
   "source": [
    "windows = [\n",
    "    prices[x:]\n",
    "    for x in range(0, (N-2)+1)   # the last possibl time series is (Xn-2, Xn-1)\n",
    "]"
   ]
  },
  {
   "cell_type": "code",
   "execution_count": 3,
   "id": "e1483754",
   "metadata": {},
   "outputs": [
    {
     "data": {
      "text/plain": [
       "[[14, 20, 4, 12, 5, 11],\n",
       " [20, 4, 12, 5, 11],\n",
       " [4, 12, 5, 11],\n",
       " [12, 5, 11],\n",
       " [5, 11]]"
      ]
     },
     "execution_count": 3,
     "metadata": {},
     "output_type": "execute_result"
    }
   ],
   "source": [
    "windows"
   ]
  },
  {
   "cell_type": "code",
   "execution_count": 4,
   "id": "ea53b8e0",
   "metadata": {},
   "outputs": [],
   "source": [
    "profit = max([\n",
    "    # maximum profit in the time series where y > x =0\n",
    "    max([window[y] - window[0] for y in range(1, len(window))])   \n",
    "    for window in windows\n",
    "])"
   ]
  },
  {
   "cell_type": "code",
   "execution_count": 5,
   "id": "2e4ff23d",
   "metadata": {},
   "outputs": [],
   "source": [
    "profit = max(-1, profit)"
   ]
  },
  {
   "cell_type": "code",
   "execution_count": 6,
   "id": "adabdbad",
   "metadata": {},
   "outputs": [
    {
     "data": {
      "text/plain": [
       "8"
      ]
     },
     "execution_count": 6,
     "metadata": {},
     "output_type": "execute_result"
    }
   ],
   "source": [
    "profit"
   ]
  },
  {
   "cell_type": "code",
   "execution_count": 7,
   "id": "1ea8c3e7",
   "metadata": {},
   "outputs": [],
   "source": [
    "def find_max_difference(arr):\n",
    "    prices = arr\n",
    "    N = len(prices)\n",
    "\n",
    "    windows = [\n",
    "        prices[x:]\n",
    "        for x in range(0, (N-2)+1)   # the last possible time series is (Xn-2, Xn-1)\n",
    "    ]\n",
    "\n",
    "    # Find the maximum difference in each series.\n",
    "    # Take the maximum of them\n",
    "    profit = max([\n",
    "        # maximum difference in a time series where y > x=0\n",
    "        max([window[y] - window[0] for y in range(1, len(window))])   \n",
    "        for window in windows\n",
    "    ])\n",
    "\n",
    "    return max(-1, profit)"
   ]
  },
  {
   "cell_type": "code",
   "execution_count": 8,
   "id": "7c3c94a9",
   "metadata": {},
   "outputs": [
    {
     "name": "stdout",
     "output_type": "stream",
     "text": [
      "16\n"
     ]
    }
   ],
   "source": [
    "# keep this function call here \n",
    "print(StockPicker([44, 30, 24, 32, 35, 30, 40, 38, 15]))"
   ]
  }
 ],
 "metadata": {
  "kernelspec": {
   "display_name": "Python 3 (ipykernel)",
   "language": "python",
   "name": "python3"
  },
  "language_info": {
   "codemirror_mode": {
    "name": "ipython",
    "version": 3
   },
   "file_extension": ".py",
   "mimetype": "text/x-python",
   "name": "python",
   "nbconvert_exporter": "python",
   "pygments_lexer": "ipython3",
   "version": "3.8.10"
  }
 },
 "nbformat": 4,
 "nbformat_minor": 5
}
