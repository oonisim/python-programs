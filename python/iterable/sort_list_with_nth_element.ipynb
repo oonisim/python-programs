{
 "cells": [
  {
   "cell_type": "markdown",
   "id": "2e23e43e",
   "metadata": {},
   "source": [
    "# Sort a list of records with n-th element of the record"
   ]
  },
  {
   "cell_type": "code",
   "execution_count": 11,
   "id": "d893d2c3",
   "metadata": {},
   "outputs": [],
   "source": [
    "def sort_list_of_records_at_nth_element(\n",
    "        x: List[List[Any]], position: int, f: Callable = lambda x: x, reverse=False\n",
    ") -> List[List[Any]]:\n",
    "    \"\"\"Sort a list of records (record is another list) with i-th element of the record\n",
    "    Args:\n",
    "        x: List of records\n",
    "        position: i-th position in the record to sort with\n",
    "        f: function to convert the n-th element\n",
    "    \"\"\"\n",
    "    assert isinstance(x, list) and len(x) > 0 and isinstance(x[0], list), \"Invalid x\"\n",
    "    assert 0 <= position < len(x[0]), \\\n",
    "        \"invalid position [%s] for list length [%s]\" % (position, len(x[0]))\n",
    "\n",
    "    # --------------------------------------------------------------------------------\n",
    "    # 'f' corresponds with 'int' function below.\n",
    "    # https://stackoverflow.com/a/17555237\n",
    "    # in this method, the integers are lexicographically compared.\n",
    "    # Thus, '5' will be larger than '20'. If an integer comparison is to be made,\n",
    "    # key=lambda x: int(x[3]) should be used.\n",
    "    # --------------------------------------------------------------------------------\n",
    "    x.sort(key=lambda record: f(record[position]), reverse=reverse)\n",
    "    return x\n"
   ]
  },
  {
   "cell_type": "code",
   "execution_count": 12,
   "id": "1e63784d",
   "metadata": {},
   "outputs": [],
   "source": [
    "x = [\n",
    "    [\"x\", 0.0, \"abc\"],\n",
    "    [\"b\", -0.1, \"xyz\"],\n",
    "    [\"d\", 100, \"123\"],\n",
    "    [\"a\", .01, \"ttt\"],\n",
    "]"
   ]
  },
  {
   "cell_type": "code",
   "execution_count": 13,
   "id": "c88409d8",
   "metadata": {},
   "outputs": [
    {
     "name": "stdout",
     "output_type": "stream",
     "text": [
      "['b', -0.1, 'xyz']\n",
      "['x', 0.0, 'abc']\n",
      "['a', 0.01, 'ttt']\n",
      "['d', 100, '123']\n"
     ]
    }
   ],
   "source": [
    "for row in sort_list_of_records_at_nth_element(x, 1, float):\n",
    "    print(row)"
   ]
  },
  {
   "cell_type": "code",
   "execution_count": 14,
   "id": "0fe58c6a",
   "metadata": {
    "scrolled": true
   },
   "outputs": [
    {
     "name": "stdout",
     "output_type": "stream",
     "text": [
      "['a', 0.01, 'ttt']\n",
      "['b', -0.1, 'xyz']\n",
      "['d', 100, '123']\n",
      "['x', 0.0, 'abc']\n"
     ]
    }
   ],
   "source": [
    "for row in sort_list_of_records_at_nth_element(x, 0):\n",
    "    print(row)"
   ]
  },
  {
   "cell_type": "markdown",
   "id": "3c234ae2",
   "metadata": {},
   "source": [
    "## Reverse order"
   ]
  },
  {
   "cell_type": "code",
   "execution_count": null,
   "id": "6defaf27",
   "metadata": {},
   "outputs": [],
   "source": [
    "for row in sort_list_of_records_at_nth_element(x, 1, float, True):\n",
    "    print(row)"
   ]
  },
  {
   "cell_type": "code",
   "execution_count": 15,
   "id": "d1de9707",
   "metadata": {},
   "outputs": [],
   "source": [
    "y = []"
   ]
  },
  {
   "cell_type": "code",
   "execution_count": 16,
   "id": "e23abafe",
   "metadata": {},
   "outputs": [
    {
     "ename": "AssertionError",
     "evalue": "Invalid x",
     "output_type": "error",
     "traceback": [
      "\u001b[0;31m---------------------------------------------------------------------------\u001b[0m",
      "\u001b[0;31mAssertionError\u001b[0m                            Traceback (most recent call last)",
      "\u001b[0;32m/tmp/ipykernel_111823/1977976633.py\u001b[0m in \u001b[0;36m<module>\u001b[0;34m\u001b[0m\n\u001b[0;32m----> 1\u001b[0;31m \u001b[0;32mfor\u001b[0m \u001b[0mrow\u001b[0m \u001b[0;32min\u001b[0m \u001b[0msort_list_of_records_at_nth_element\u001b[0m\u001b[0;34m(\u001b[0m\u001b[0my\u001b[0m\u001b[0;34m,\u001b[0m \u001b[0;36m0\u001b[0m\u001b[0;34m)\u001b[0m\u001b[0;34m:\u001b[0m\u001b[0;34m\u001b[0m\u001b[0;34m\u001b[0m\u001b[0m\n\u001b[0m\u001b[1;32m      2\u001b[0m     \u001b[0mprint\u001b[0m\u001b[0;34m(\u001b[0m\u001b[0mrow\u001b[0m\u001b[0;34m)\u001b[0m\u001b[0;34m\u001b[0m\u001b[0;34m\u001b[0m\u001b[0m\n",
      "\u001b[0;32m/tmp/ipykernel_111823/4195570996.py\u001b[0m in \u001b[0;36msort_list_of_records_at_nth_element\u001b[0;34m(x, position, f, reverse)\u001b[0m\n\u001b[1;32m      8\u001b[0m         \u001b[0mf\u001b[0m\u001b[0;34m:\u001b[0m \u001b[0mfunction\u001b[0m \u001b[0mto\u001b[0m \u001b[0mconvert\u001b[0m \u001b[0mthe\u001b[0m \u001b[0mn\u001b[0m\u001b[0;34m-\u001b[0m\u001b[0mth\u001b[0m \u001b[0melement\u001b[0m\u001b[0;34m\u001b[0m\u001b[0;34m\u001b[0m\u001b[0m\n\u001b[1;32m      9\u001b[0m     \"\"\"\n\u001b[0;32m---> 10\u001b[0;31m     \u001b[0;32massert\u001b[0m \u001b[0misinstance\u001b[0m\u001b[0;34m(\u001b[0m\u001b[0mx\u001b[0m\u001b[0;34m,\u001b[0m \u001b[0mlist\u001b[0m\u001b[0;34m)\u001b[0m \u001b[0;32mand\u001b[0m \u001b[0mlen\u001b[0m\u001b[0;34m(\u001b[0m\u001b[0mx\u001b[0m\u001b[0;34m)\u001b[0m \u001b[0;34m>\u001b[0m \u001b[0;36m0\u001b[0m \u001b[0;32mand\u001b[0m \u001b[0misinstance\u001b[0m\u001b[0;34m(\u001b[0m\u001b[0mx\u001b[0m\u001b[0;34m[\u001b[0m\u001b[0;36m0\u001b[0m\u001b[0;34m]\u001b[0m\u001b[0;34m,\u001b[0m \u001b[0mlist\u001b[0m\u001b[0;34m)\u001b[0m\u001b[0;34m,\u001b[0m \u001b[0;34m\"Invalid x\"\u001b[0m\u001b[0;34m\u001b[0m\u001b[0;34m\u001b[0m\u001b[0m\n\u001b[0m\u001b[1;32m     11\u001b[0m     \u001b[0;32massert\u001b[0m \u001b[0;36m0\u001b[0m \u001b[0;34m<=\u001b[0m \u001b[0mposition\u001b[0m \u001b[0;34m<\u001b[0m \u001b[0mlen\u001b[0m\u001b[0;34m(\u001b[0m\u001b[0mx\u001b[0m\u001b[0;34m[\u001b[0m\u001b[0;36m0\u001b[0m\u001b[0;34m]\u001b[0m\u001b[0;34m)\u001b[0m\u001b[0;34m,\u001b[0m\u001b[0;31m \u001b[0m\u001b[0;31m\\\u001b[0m\u001b[0;34m\u001b[0m\u001b[0;34m\u001b[0m\u001b[0m\n\u001b[1;32m     12\u001b[0m         \u001b[0;34m\"invalid position [%s] for list length [%s]\"\u001b[0m \u001b[0;34m%\u001b[0m \u001b[0;34m(\u001b[0m\u001b[0mposition\u001b[0m\u001b[0;34m,\u001b[0m \u001b[0mlen\u001b[0m\u001b[0;34m(\u001b[0m\u001b[0mx\u001b[0m\u001b[0;34m[\u001b[0m\u001b[0;36m0\u001b[0m\u001b[0;34m]\u001b[0m\u001b[0;34m)\u001b[0m\u001b[0;34m)\u001b[0m\u001b[0;34m\u001b[0m\u001b[0;34m\u001b[0m\u001b[0m\n",
      "\u001b[0;31mAssertionError\u001b[0m: Invalid x"
     ]
    }
   ],
   "source": [
    "for row in sort_list_of_records_at_nth_element(y, 0):\n",
    "    print(row)"
   ]
  },
  {
   "cell_type": "code",
   "execution_count": null,
   "id": "a6a4f212",
   "metadata": {},
   "outputs": [],
   "source": [
    "y = [\n",
    "    [1,2],\n",
    "    [3,4]\n",
    "]\n",
    "for row in sort_list_of_records_at_nth_element(y, -1):\n",
    "    print(row)"
   ]
  }
 ],
 "metadata": {
  "kernelspec": {
   "display_name": "Python 3 (ipykernel)",
   "language": "python",
   "name": "python3"
  },
  "language_info": {
   "codemirror_mode": {
    "name": "ipython",
    "version": 3
   },
   "file_extension": ".py",
   "mimetype": "text/x-python",
   "name": "python",
   "nbconvert_exporter": "python",
   "pygments_lexer": "ipython3",
   "version": "3.8.10"
  }
 },
 "nbformat": 4,
 "nbformat_minor": 5
}
