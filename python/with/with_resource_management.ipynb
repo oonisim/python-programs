{
 "cells": [
  {
   "cell_type": "markdown",
   "source": [
    "# Class destructor\n",
    "\n",
    "* [How do I correctly clean up a Python object?](https://stackoverflow.com/a/865272/4281353)\n",
    "\n",
    "> To use the ```with``` statement, create a class with the following methods:\n",
    "> ```\n",
    "> def __enter__(self)\n",
    "> def __exit__(self, exc_type, exc_value, traceback)\n",
    "> ```\n",
    "```\n",
    "class Package:\n",
    "    def __init__(self):\n",
    "        self.files = []\n",
    "\n",
    "    def __enter__(self):\n",
    "        return self\n",
    "\n",
    "    # ...\n",
    "\n",
    "    def __exit__(self, exc_type, exc_value, traceback):\n",
    "        for file in self.files:\n",
    "            os.unlink(file)\n",
    "\n",
    "\n",
    "with Package() as package_obj:\n",
    "    # use package_obj\n",
    "```\n",
    "\n",
    "> The standard way is to use [atexit.register](https://docs.python.org/3/library/atexit.html#atexit.register):\n",
    "```\n",
    "# package.py\n",
    "import atexit\n",
    "import os\n",
    "\n",
    "class Package:\n",
    "    def __init__(self):\n",
    "        self.files = []\n",
    "        atexit.register(self.cleanup)\n",
    "\n",
    "    def cleanup(self):\n",
    "        print(\"Running cleanup...\")\n",
    "        for file in self.files:\n",
    "            print(\"Unlinking file: {}\".format(file))\n",
    "            # os.unlink(file)\n",
    "```"
   ],
   "metadata": {
    "collapsed": false
   },
   "id": "78fc0c1dba480e04"
  },
  {
   "cell_type": "code",
   "execution_count": null,
   "outputs": [],
   "source": [],
   "metadata": {
    "collapsed": false
   },
   "id": "5ed63ec74434511e"
  }
 ],
 "metadata": {
  "kernelspec": {
   "display_name": "Python 3",
   "language": "python",
   "name": "python3"
  },
  "language_info": {
   "codemirror_mode": {
    "name": "ipython",
    "version": 2
   },
   "file_extension": ".py",
   "mimetype": "text/x-python",
   "name": "python",
   "nbconvert_exporter": "python",
   "pygments_lexer": "ipython2",
   "version": "2.7.6"
  }
 },
 "nbformat": 4,
 "nbformat_minor": 5
}
