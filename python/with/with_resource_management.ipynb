{
 "cells": [
  {
   "cell_type": "markdown",
   "id": "52258658-d2f9-4939-812b-cc59f7e1886e",
   "metadata": {},
   "source": [
    "# Python Resource Management\n",
    "\n",
    "# Documentations\n",
    "\n",
    "* [PEP 343 – The “with” Statement](https://peps.python.org/pep-0343/)\n",
    "\n",
    "* [Context Manager Types](https://docs.python.org/3/library/stdtypes.html#context-manager-types)\n",
    "\n",
    "> Python’s [with](https://docs.python.org/3/reference/compound_stmts.html#with) statement is implemented using **a pair of methods** that allow user-defined classes to define a runtime context\n",
    ">\n",
    "> * contextmanager.__enter__()  \n",
    "> Enter the runtime context and return either this object or another object related to the runtime context.  \n",
    "> \n",
    "> * contextmanager.__exit__(exc_type, exc_val, exc_tb)  \n",
    "> If an exception occurred while executing the body of the with statement, Python runtime passes the arguments contain the exception type, value and traceback information. Otherwise, all three arguments are ```None```. Returning a ```True``` from this method will cause the with statement to suppress the exception and continue execution with the statement immediately following the with statement. Otherwise the exception continues propagating after this method has finished executing.\n",
    ">\n",
    "> Python’s generators and the contextlib.contextmanager decorator provide a convenient way to implement these protocols. If a generator function is decorated with the contextlib.contextmanager decorator, it will return a context manager implementing the necessary __enter__() and __exit__() methods, rather than the iterator produced by an undecorated generator function.\n",
    "\n",
    "* [@contextlib.contextmanager](https://docs.python.org/3/library/contextlib.html#contextlib.contextmanager)\n",
    "\n",
    "> define a factory function for with statement context managers, without needing to create a class or separate __enter__() and __exit__() methods.\n",
    "> ```\n",
    "> from contextlib import contextmanager\n",
    "> \n",
    "> @contextmanager\n",
    "> def managed_resource(*args, **kwds):\n",
    ">     # Code to acquire resource, e.g.:\n",
    ">     resource = acquire_resource(*args, **kwds)\n",
    ">     try:\n",
    ">         yield resource\n",
    ">     finally:\n",
    ">         # Code to release resource, e.g.:\n",
    ">         release_resource(resource)\n",
    "> ```\n",
    "\n",
    "* [Python Tips - 27. Context Managers](https://book.pythontips.com/en/latest/context_managers.html#implementing-a-context-manager-as-a-class)\n",
    "\n",
    "> ```\n",
    "> class File(object):\n",
    ">     def __init__(self, file_name, method):\n",
    ">         self.file_obj = open(file_name, method)\n",
    ">     def __enter__(self):\n",
    ">         return self.file_obj\n",
    ">     def __exit__(self, type, value, traceback):\n",
    ">         print(\"Exception has been handled\")\n",
    ">         self.file_obj.close()\n",
    ">         return True\n",
    "> ```\n",
    ">\n",
    "> Implementing a Context Manager as a Generator  \n",
    "> ```\n",
    "> from contextlib import contextmanager\n",
    "> \n",
    "> @contextmanager\n",
    "> def open_file(name):\n",
    ">     f = open(name, 'w')\n",
    ">     try:\n",
    ">         yield f\n",
    ">     finally:\n",
    ">         f.close()\n",
    "> ```"
   ]
  },
  {
   "cell_type": "markdown",
   "id": "22ed2e64-39b7-4676-b4b6-6f663bcaecbb",
   "metadata": {},
   "source": [
    "[Context Managers and Python's with Statement](https://realpython.com/python-with-statement/)\n",
    "\n",
    "* What the Python with statement is for and how to use it\n",
    "* What the context management protocol is\n",
    "* How to implement your own context managers\n",
    "\n",
    "Two general approaches to deal with resource lifecycle management. \n",
    "\n",
    "1. A try … finally construct\n",
    "2. A with construct\n",
    "\n",
    "The context manager object results from evaluating the expression after with. In other words, expression must return an object that implements the **context management protocol. This protocol consists of two special methods**:\n",
    "\n",
    "* __enter__() is called by the with statement to enter the runtime context.\n",
    "* __exit__() is called when the execution leaves the with code block.\n",
    "\n",
    "You can provide the same functionality by implementing both the .__enter__() and the .__exit__() special methods in your class-based context managers. You can also create custom function-based context managers using the contextlib.contextmanager decorator from the standard library and an appropriately coded generator function."
   ]
  },
  {
   "cell_type": "markdown",
   "id": "78fc0c1dba480e04",
   "metadata": {
    "collapsed": false,
    "jupyter": {
     "outputs_hidden": false
    }
   },
   "source": [
    "# Class destructor\n",
    "\n",
    "* [How do I correctly clean up a Python object?](https://stackoverflow.com/a/865272/4281353)\n",
    "\n",
    "> To use the ```with``` statement, create a class with the following methods:\n",
    "> ```\n",
    "> def __enter__(self)\n",
    "> def __exit__(self, exc_type, exc_value, traceback)\n",
    "> ```\n",
    "```\n",
    "class Package:\n",
    "    def __init__(self):\n",
    "        self.files = []\n",
    "\n",
    "    def __enter__(self):\n",
    "        return self\n",
    "\n",
    "    # ...\n",
    "\n",
    "    def __exit__(self, exc_type, exc_value, traceback):\n",
    "        for file in self.files:\n",
    "            os.unlink(file)\n",
    "\n",
    "\n",
    "with Package() as package_obj:\n",
    "    # use package_obj\n",
    "```\n",
    "\n",
    "> The standard way is to use [atexit.register](https://docs.python.org/3/library/atexit.html#atexit.register):\n",
    "```\n",
    "# package.py\n",
    "import atexit\n",
    "import os\n",
    "\n",
    "class Package:\n",
    "    def __init__(self):\n",
    "        self.files = []\n",
    "        atexit.register(self.cleanup)\n",
    "\n",
    "    def cleanup(self):\n",
    "        print(\"Running cleanup...\")\n",
    "        for file in self.files:\n",
    "            print(\"Unlinking file: {}\".format(file))\n",
    "            # os.unlink(file)\n",
    "```"
   ]
  },
  {
   "cell_type": "code",
   "execution_count": null,
   "id": "16424beb-cc61-48f8-bf98-90f4c76b38fd",
   "metadata": {},
   "outputs": [],
   "source": []
  },
  {
   "cell_type": "markdown",
   "id": "f5b5922d-fa57-47c6-9fc2-76a7c95392e0",
   "metadata": {},
   "source": [
    "# Multiple Resources using ExitStack\n",
    "\n",
    "New in Python 3.10.\n",
    "\n",
    "* [contextlib.ExitStack)](https://docs.python.org/3/library/contextlib.html#contextlib.ExitStack)\n",
    "\n",
    "> ```\n",
    "> with ExitStack() as stack:\n",
    ">    files = [stack.enter_context(open(fname)) for fname in filenames]\n",
    "> ```    "
   ]
  },
  {
   "cell_type": "code",
   "execution_count": null,
   "id": "a79a2fe7-aa39-4f66-a9a0-33149e9c1333",
   "metadata": {},
   "outputs": [],
   "source": []
  },
  {
   "cell_type": "code",
   "execution_count": null,
   "id": "0392a543-73dd-4c5c-9a5c-fdd6dda39964",
   "metadata": {},
   "outputs": [],
   "source": []
  },
  {
   "cell_type": "code",
   "execution_count": null,
   "id": "acb5a28d-c842-4a26-918b-7a816362ae09",
   "metadata": {},
   "outputs": [],
   "source": []
  },
  {
   "cell_type": "markdown",
   "id": "a1a7f71e-7f2a-4915-8073-f68134deff8f",
   "metadata": {},
   "source": [
    "\n"
   ]
  },
  {
   "cell_type": "code",
   "execution_count": null,
   "id": "53ed117c-761b-4827-a3f7-176f76cc08e7",
   "metadata": {},
   "outputs": [],
   "source": []
  },
  {
   "cell_type": "code",
   "execution_count": null,
   "id": "37765e23-7563-484c-bfaa-98f7a630acca",
   "metadata": {},
   "outputs": [],
   "source": []
  },
  {
   "cell_type": "code",
   "execution_count": null,
   "id": "5ed63ec74434511e",
   "metadata": {
    "collapsed": false,
    "jupyter": {
     "outputs_hidden": false
    }
   },
   "outputs": [],
   "source": []
  }
 ],
 "metadata": {
  "kernelspec": {
   "display_name": "Python 3 (ipykernel)",
   "language": "python",
   "name": "python3"
  },
  "language_info": {
   "codemirror_mode": {
    "name": "ipython",
    "version": 3
   },
   "file_extension": ".py",
   "mimetype": "text/x-python",
   "name": "python",
   "nbconvert_exporter": "python",
   "pygments_lexer": "ipython3",
   "version": "3.10.10"
  }
 },
 "nbformat": 4,
 "nbformat_minor": 5
}
