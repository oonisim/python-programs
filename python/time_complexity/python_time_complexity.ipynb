{
 "cells": [
  {
   "cell_type": "markdown",
   "id": "42fe0331",
   "metadata": {},
   "source": [
    "# Time Complexity (Big O) \n",
    "\n",
    "* [Time Complexity](https://wiki.python.org/moin/TimeComplexity)\n",
    "\n",
    "## List\n",
    "\n",
    "> This page documents the time-complexity (aka \"Big O\" or \"Big Oh\") of various operations in current CPython.\n",
    "\n",
    "| Operation            | Average Case | Amortized Worst Case |\n",
    "|----------------------|--------------|----------------------|\n",
    "|  Copy                | O(n)         | O(n)                 |\n",
    "|  Append[1]           | O(1)         | O(1)                 |\n",
    "|  Pop last            | O(1)         | O(1)                 |\n",
    "|  Pop intermediate[2] | O(n)         | O(n)                 |\n",
    "|  Insert              | O(n)         | O(n)                 |\n",
    "|  Get Item            | O(1)         | O(1)                 |\n",
    "|  Set Item            | O(1)         | O(1)                 |\n",
    "|  Delete Item         | O(n)         | O(n)                 |\n",
    "|  Iteration           | O(n)         | O(n)                 |\n",
    "|  Get Slice           | O(k)         | O(k)                 |\n",
    "|  Del Slice           | O(n)         | O(n)                 |\n",
    "|  Set Slice           | O(k+n)       | O(k+n)               |\n",
    "|  Extend[1]           | O(k)         | O(k)                 |\n",
    "|  Sort                | O(n log n)   | O(n log n)           |\n",
    "|  Multiply            | O(nk)        | O(nk)                |\n",
    "|  x in s              | O(n)         |                      |\n",
    "|  min(s), max(s)      | O(n)         |                      |\n",
    "|  Get Length          | O(1)         | O(1)                 |"
   ]
  },
  {
   "cell_type": "code",
   "execution_count": null,
   "id": "82b78739",
   "metadata": {},
   "outputs": [],
   "source": []
  }
 ],
 "metadata": {
  "kernelspec": {
   "display_name": "Python 3 (ipykernel)",
   "language": "python",
   "name": "python3"
  },
  "language_info": {
   "codemirror_mode": {
    "name": "ipython",
    "version": 3
   },
   "file_extension": ".py",
   "mimetype": "text/x-python",
   "name": "python",
   "nbconvert_exporter": "python",
   "pygments_lexer": "ipython3",
   "version": "3.8.10"
  }
 },
 "nbformat": 4,
 "nbformat_minor": 5
}
