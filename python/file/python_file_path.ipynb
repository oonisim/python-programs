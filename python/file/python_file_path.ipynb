{
 "cells": [
  {
   "cell_type": "code",
   "execution_count": 1,
   "id": "393ee800",
   "metadata": {},
   "outputs": [],
   "source": [
    "import os\n",
    "import glob\n",
    "import pathlib\n",
    "from typing import (\n",
    "    List,\n",
    "    Set,\n",
    "    Generator,\n",
    "    Iterator,\n",
    "    Tuple,\n",
    "    Union\n",
    ")\n",
    "\n",
    "import regex as re"
   ]
  },
  {
   "cell_type": "markdown",
   "id": "4bd60c81",
   "metadata": {},
   "source": [
    "# Relative to absolute path"
   ]
  },
  {
   "cell_type": "code",
   "execution_count": 2,
   "id": "3deb383d",
   "metadata": {},
   "outputs": [
    {
     "name": "stdout",
     "output_type": "stream",
     "text": [
      "10.7 µs ± 76.6 ns per loop (mean ± std. dev. of 7 runs, 100,000 loops each)\n"
     ]
    }
   ],
   "source": [
    "%%timeit\n",
    "os.path.abspath(\".\")"
   ]
  },
  {
   "cell_type": "code",
   "execution_count": 3,
   "id": "714fcca5",
   "metadata": {},
   "outputs": [
    {
     "name": "stdout",
     "output_type": "stream",
     "text": [
      "15.3 µs ± 84.5 ns per loop (mean ± std. dev. of 7 runs, 100,000 loops each)\n"
     ]
    }
   ],
   "source": [
    "%%timeit\n",
    "pathlib.Path(\"../\").resolve()"
   ]
  },
  {
   "cell_type": "code",
   "execution_count": 26,
   "id": "f6a77ecf",
   "metadata": {},
   "outputs": [
    {
     "name": "stdout",
     "output_type": "stream",
     "text": [
      "./path  [error opening dir]\r\n",
      "\r\n",
      "0 directories, 0 files\r\n"
     ]
    }
   ],
   "source": [
    "#!rm -rf ./path"
   ]
  },
  {
   "cell_type": "code",
   "execution_count": 5,
   "id": "75a41b4f",
   "metadata": {},
   "outputs": [],
   "source": [
    "PATH_TO_DIR = './path/to/dir'"
   ]
  },
  {
   "cell_type": "code",
   "execution_count": 6,
   "id": "970b8bd0",
   "metadata": {},
   "outputs": [],
   "source": [
    "%%bash\n",
    "\n",
    "DIR='./path/to/dir'\n",
    "mkdir -p ${DIR}\n",
    "mkdir -p \"./path/nofile.txt\"\n",
    "for run in {1..2}; do\n",
    "  touch \"./path/to/kid${run}\"\n",
    "  touch \"./path/to/kid${run}.log\"\n",
    "  touch \"${DIR}/grandkid${run}\"\n",
    "  touch \"${DIR}/grandkid${run}.txt\"\n",
    "done"
   ]
  },
  {
   "cell_type": "markdown",
   "id": "36f566a7",
   "metadata": {},
   "source": [
    "# List all files in a directory tree"
   ]
  },
  {
   "cell_type": "markdown",
   "id": "9df48656",
   "metadata": {},
   "source": [
    "## os.walk\n",
    "\n",
    "* [os.walk(top, topdown=True, onerror=None, followlinks=False)](https://docs.python.org/3/library/os.html#os.walk)\n",
    "\n",
    "> Generate the file names in a directory tree by walking the tree either top-down or bottom-up. For each directory in the tree rooted at directory top (including top itself), it yields a 3-tuple ```(dirpath: str, dirnames: List[str], filenames: List[str])```."
   ]
  },
  {
   "cell_type": "code",
   "execution_count": 7,
   "id": "cc6c18c9",
   "metadata": {},
   "outputs": [
    {
     "name": "stdout",
     "output_type": "stream",
     "text": [
      "\u001b[01;34m./path\u001b[0m\r\n",
      "├── \u001b[01;34mnofile.txt\u001b[0m\r\n",
      "└── \u001b[01;34mto\u001b[0m\r\n",
      "    ├── \u001b[00mkid1\u001b[0m\r\n",
      "    ├── \u001b[00mkid1.log\u001b[0m\r\n",
      "    ├── \u001b[00mkid2\u001b[0m\r\n",
      "    ├── \u001b[00mkid2.log\u001b[0m\r\n",
      "    └── \u001b[01;34mdir\u001b[0m\r\n",
      "        ├── \u001b[00mgrandkid1\u001b[0m\r\n",
      "        ├── \u001b[00mgrandkid1.txt\u001b[0m\r\n",
      "        ├── \u001b[00mgrandkid2\u001b[0m\r\n",
      "        └── \u001b[00mgrandkid2.txt\u001b[0m\r\n",
      "\r\n",
      "3 directories, 8 files\r\n"
     ]
    }
   ],
   "source": [
    "!tree --filesfirst ./path"
   ]
  },
  {
   "cell_type": "code",
   "execution_count": 8,
   "id": "404613f6",
   "metadata": {},
   "outputs": [
    {
     "name": "stdout",
     "output_type": "stream",
     "text": [
      "index dir                      directories         files                                             \n",
      "--------------------------------------------------------------------------------------------------------------\n",
      "0     ./path              ['nofile.txt', 'to']     []                                                \n",
      "1     ./path/nofile.txt   []                       []                                                \n",
      "2     ./path/to           ['dir']                  ['kid2', 'kid1.log', 'kid2.log', 'kid1']          \n",
      "3     ./path/to/dir       []                       ['grandkid2', 'grandkid1', 'grandkid2.txt', 'grandkid1.txt']\n"
     ]
    }
   ],
   "source": [
    "#%%timeit\n",
    "print(f\"{'index'.ljust(6)}{'dir'.ljust(25)}{'directories'.ljust(20)}{'files'.ljust(50)}\")\n",
    "print(\"-\" * 110)\n",
    "for index, (dir, dirnames, filenames) in enumerate(os.walk('./path')):\n",
    "    print(f\"{index:<6}{dir:20}{str(dirnames):25}{str(filenames):50}\")\n",
    "    if index > 2:\n",
    "        break"
   ]
  },
  {
   "cell_type": "code",
   "execution_count": 9,
   "id": "7deb0616",
   "metadata": {},
   "outputs": [],
   "source": [
    "def list_files_in_directory_tree(directory: str):\n",
    "    \"\"\"List all files in the directory tree\n",
    "    \"\"\"\n",
    "    assert os.path.isdir(directory) and os.access(directory, os.R_OK)\n",
    "    return [\n",
    "        os.path.join(folder, file)\n",
    "        for folder, subfolders, files in os.walk(directory)\n",
    "        for file in files\n",
    "    ]"
   ]
  },
  {
   "cell_type": "code",
   "execution_count": 10,
   "id": "02d3d18c",
   "metadata": {},
   "outputs": [
    {
     "data": {
      "text/plain": [
       "['./path/to/kid2',\n",
       " './path/to/kid1.log',\n",
       " './path/to/kid2.log',\n",
       " './path/to/kid1',\n",
       " './path/to/dir/grandkid2',\n",
       " './path/to/dir/grandkid1',\n",
       " './path/to/dir/grandkid2.txt',\n",
       " './path/to/dir/grandkid1.txt']"
      ]
     },
     "execution_count": 10,
     "metadata": {},
     "output_type": "execute_result"
    }
   ],
   "source": [
    "# excludes \"nofile.txt\" which is a directory\n",
    "list_files_in_directory_tree(\"./path\")"
   ]
  },
  {
   "cell_type": "code",
   "execution_count": 11,
   "id": "5e7aeb2b",
   "metadata": {},
   "outputs": [
    {
     "name": "stdout",
     "output_type": "stream",
     "text": [
      "63.6 µs ± 426 ns per loop (mean ± std. dev. of 7 runs, 10,000 loops each)\n"
     ]
    }
   ],
   "source": [
    "%%timeit\n",
    "list_files_in_directory_tree(\"./path\")"
   ]
  },
  {
   "cell_type": "markdown",
   "id": "b35c129d",
   "metadata": {},
   "source": [
    "# List files with name matching pattern"
   ]
  },
  {
   "cell_type": "markdown",
   "id": "03d5bc73",
   "metadata": {},
   "source": [
    "os.walk + regexp"
   ]
  },
  {
   "cell_type": "code",
   "execution_count": 12,
   "id": "3cb6ca62",
   "metadata": {},
   "outputs": [],
   "source": [
    "def find_files_in_directory(\n",
    "        path: str,\n",
    "        filename_pattern: str = r'^\\w+\\.(txt|log)',\n",
    "        recursive: bool = True,\n",
    "        as_tuple: bool = False\n",
    ") -> Union[\n",
    "    Generator[str, None, None],\n",
    "    Generator[Tuple[str, str], None, None]\n",
    "]:\n",
    "    \"\"\"List all files in the directory tree that matches the filename patter\n",
    "    Args:\n",
    "        path: path to the directory to start\n",
    "        filename_pattern: regexp pattern to match the filenames\n",
    "        recursive: find file in the entire directory tree\n",
    "        as_tuple: return (folder, filename) tuples if True, else 'folder/filename'\n",
    "    Returns:\n",
    "    \"\"\"\n",
    "    assert os.path.isdir(path) and os.access(path, os.R_OK), \\\n",
    "        f\"directory [{path}] is not a directory or not readable.\"\n",
    "    entities: Union[\n",
    "            Iterator[tuple[str, list[str], list[str]]],\n",
    "            tuple[str, list[str], list[str]]\n",
    "    ] = os.walk(path) if recursive else [next(os.walk(path))]\n",
    "        \n",
    "    return (\n",
    "        (folder, filename) if as_tuple else os.path.join(folder, filename)\n",
    "        for folder, subfolders, filenames in entities\n",
    "        for filename in filenames\n",
    "        if re.fullmatch(pattern=filename_pattern, string=filename)\n",
    "    )\n"
   ]
  },
  {
   "cell_type": "code",
   "execution_count": 13,
   "id": "b44cfa3b",
   "metadata": {},
   "outputs": [
    {
     "data": {
      "text/plain": [
       "[('./path/to/dir', 'grandkid2.txt'), ('./path/to/dir', 'grandkid1.txt')]"
      ]
     },
     "execution_count": 13,
     "metadata": {},
     "output_type": "execute_result"
    }
   ],
   "source": [
    "list(find_files_in_directory(path=PATH_TO_DIR, filename_pattern=r'^\\w+\\.(txt|log)', as_tuple=True))"
   ]
  },
  {
   "cell_type": "code",
   "execution_count": 14,
   "id": "3c02e79f",
   "metadata": {},
   "outputs": [
    {
     "name": "stdout",
     "output_type": "stream",
     "text": [
      "32.1 µs ± 440 ns per loop (mean ± std. dev. of 7 runs, 10,000 loops each)\n"
     ]
    }
   ],
   "source": [
    "%%timeit\n",
    "list(find_files_in_directory(path=PATH_TO_DIR, filename_pattern=r'^\\w+\\.(txt|log)', as_tuple=True))"
   ]
  },
  {
   "cell_type": "markdown",
   "id": "03219775",
   "metadata": {},
   "source": [
    "## glob.glob\n",
    "\n",
    "glob can **not** specify multiple patterns at the same time and cannot distinguish files from directories. if ```a.txt``` is a directory, it gets returned as well.\n"
   ]
  },
  {
   "cell_type": "code",
   "execution_count": 15,
   "id": "8e3af3fc",
   "metadata": {},
   "outputs": [],
   "source": [
    "def find_files_in_directory_tree(directory: str, pattern='*.txt') -> List[str]:\n",
    "    \"\"\"List files in the directory tree that matches the file name pattern\n",
    "    Args:\n",
    "        directory: target directory \n",
    "        pattern: glob filename pattern (do not include '**')\n",
    "    \"\"\"\n",
    "    # assert os.path.isdir(directory) and os.access(directory, os.R_OK)\n",
    "    return glob.glob(\n",
    "        os.path.sep.join([directory, '**', pattern]), \n",
    "        recursive=True\n",
    "    )"
   ]
  },
  {
   "cell_type": "code",
   "execution_count": 16,
   "id": "3b49cd80",
   "metadata": {},
   "outputs": [
    {
     "data": {
      "text/plain": [
       "['./path/to/dir/grandkid2.txt', './path/to/dir/grandkid1.txt']"
      ]
     },
     "execution_count": 16,
     "metadata": {},
     "output_type": "execute_result"
    }
   ],
   "source": [
    "# includes \"nofile.txt\" which is a directory\n",
    "find_files_in_directory_tree(directory=PATH_TO_DIR, pattern=\"*.txt\")"
   ]
  },
  {
   "cell_type": "code",
   "execution_count": 17,
   "id": "ffc6f470",
   "metadata": {},
   "outputs": [
    {
     "name": "stdout",
     "output_type": "stream",
     "text": [
      "56.3 µs ± 587 ns per loop (mean ± std. dev. of 7 runs, 10,000 loops each)\n"
     ]
    }
   ],
   "source": [
    "%%timeit\n",
    "find_files_in_directory_tree(directory=PATH_TO_DIR, pattern=\"*.txt\")\n",
    "find_files_in_directory_tree(directory=PATH_TO_DIR, pattern=\"*.log\")"
   ]
  },
  {
   "cell_type": "code",
   "execution_count": 18,
   "id": "9531a405",
   "metadata": {},
   "outputs": [
    {
     "name": "stdout",
     "output_type": "stream",
     "text": [
      "55.9 µs ± 293 ns per loop (mean ± std. dev. of 7 runs, 10,000 loops each)\n"
     ]
    }
   ],
   "source": [
    "%%timeit\n",
    "list(glob.glob(os.path.sep.join([PATH_TO_DIR, '**', '*.txt']), recursive=True))\n",
    "list(glob.glob(os.path.sep.join([PATH_TO_DIR, '**', '*.log']), recursive=True))"
   ]
  },
  {
   "cell_type": "markdown",
   "id": "27d5ba68",
   "metadata": {},
   "source": [
    "## pathlib.Path.rglob\n",
    "\n",
    "* [Path.glob(pattern, *, case_sensitive=None)](list(search_files_in_directory_tree(\"./path\")))"
   ]
  },
  {
   "cell_type": "code",
   "execution_count": 19,
   "id": "ac8e3bcb",
   "metadata": {},
   "outputs": [],
   "source": [
    "def search_files_in_directory_tree(directory: str, pattern='*.txt') -> List[str]:\n",
    "    \"\"\"List files in the directory tree that matches the file name pattern\n",
    "    Args:\n",
    "        directory: target directory \n",
    "        pattern: glob filename pattern (do not include '**')\n",
    "    \"\"\"\n",
    "    # assert os.path.isdir(directory) and os.access(directory, os.R_OK)\n",
    "    return pathlib.Path(directory).rglob(pattern)"
   ]
  },
  {
   "cell_type": "code",
   "execution_count": 20,
   "id": "789f0778",
   "metadata": {},
   "outputs": [
    {
     "data": {
      "text/plain": [
       "[PosixPath('path/to/dir/grandkid2.txt'),\n",
       " PosixPath('path/to/dir/grandkid1.txt')]"
      ]
     },
     "execution_count": 20,
     "metadata": {},
     "output_type": "execute_result"
    }
   ],
   "source": [
    "# includes \"nofile.txt\" which is a directory\n",
    "list(search_files_in_directory_tree(directory=PATH_TO_DIR, pattern=\"*.txt\"))"
   ]
  },
  {
   "cell_type": "code",
   "execution_count": 21,
   "id": "dda25819",
   "metadata": {},
   "outputs": [
    {
     "name": "stdout",
     "output_type": "stream",
     "text": [
      "62.2 µs ± 1.87 µs per loop (mean ± std. dev. of 7 runs, 10,000 loops each)\n"
     ]
    }
   ],
   "source": [
    "%%timeit\n",
    "list(search_files_in_directory_tree(directory=PATH_TO_DIR, pattern=\"*.txt\"))\n",
    "list(search_files_in_directory_tree(directory=PATH_TO_DIR, pattern=\"*.log\"))"
   ]
  },
  {
   "cell_type": "code",
   "execution_count": 22,
   "id": "ca69d867",
   "metadata": {},
   "outputs": [
    {
     "name": "stdout",
     "output_type": "stream",
     "text": [
      "61.5 µs ± 1.33 µs per loop (mean ± std. dev. of 7 runs, 10,000 loops each)\n"
     ]
    }
   ],
   "source": [
    "%%timeit\n",
    "list(pathlib.Path(PATH_TO_DIR).rglob('*.log'))\n",
    "list(pathlib.Path(PATH_TO_DIR).rglob('*.txt'))"
   ]
  },
  {
   "cell_type": "code",
   "execution_count": 23,
   "id": "a5819b9e",
   "metadata": {},
   "outputs": [
    {
     "data": {
      "text/plain": [
       "['grandkid2', 'grandkid1', 'grandkid2.txt', 'grandkid1.txt']"
      ]
     },
     "execution_count": 23,
     "metadata": {},
     "output_type": "execute_result"
    }
   ],
   "source": [
    "next(os.walk(\"./path/to/dir\"))[2]"
   ]
  },
  {
   "cell_type": "code",
   "execution_count": 24,
   "id": "e8f56e25",
   "metadata": {},
   "outputs": [
    {
     "data": {
      "text/plain": [
       "<generator object Path.rglob at 0x1041b9040>"
      ]
     },
     "execution_count": 24,
     "metadata": {},
     "output_type": "execute_result"
    }
   ],
   "source": [
    "pathlib.Path(PATH_TO_DIR).rglob('*.log')\n"
   ]
  },
  {
   "cell_type": "code",
   "execution_count": 25,
   "id": "f0324d1c",
   "metadata": {},
   "outputs": [
    {
     "data": {
      "text/plain": [
       "'b/c'"
      ]
     },
     "execution_count": 25,
     "metadata": {},
     "output_type": "execute_result"
    }
   ],
   "source": [
    "\"/a/b/c/\".rstrip('/').lstrip('/a')"
   ]
  },
  {
   "cell_type": "code",
   "execution_count": null,
   "id": "5cd72ecd",
   "metadata": {},
   "outputs": [],
   "source": []
  }
 ],
 "metadata": {
  "kernelspec": {
   "display_name": "Python 3 (ipykernel)",
   "language": "python",
   "name": "python3"
  },
  "language_info": {
   "codemirror_mode": {
    "name": "ipython",
    "version": 3
   },
   "file_extension": ".py",
   "mimetype": "text/x-python",
   "name": "python",
   "nbconvert_exporter": "python",
   "pygments_lexer": "ipython3",
   "version": "3.9.13"
  }
 },
 "nbformat": 4,
 "nbformat_minor": 5
}
