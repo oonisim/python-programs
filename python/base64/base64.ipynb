{
 "cells": [
  {
   "cell_type": "code",
   "execution_count": 1,
   "id": "3cd46de3",
   "metadata": {},
   "outputs": [],
   "source": [
    "import base64"
   ]
  },
  {
   "cell_type": "code",
   "execution_count": 18,
   "id": "4c6d2beb",
   "metadata": {},
   "outputs": [],
   "source": [
    "def is_base64_encoded(data):\n",
    "    try:\n",
    "        return base64.b64encode(base64.b64decode(data)) == data\n",
    "    except (TypeError, ValueError):\n",
    "        return False"
   ]
  },
  {
   "cell_type": "code",
   "execution_count": 14,
   "id": "98e3543b",
   "metadata": {},
   "outputs": [],
   "source": [
    "from PIL import Image\n",
    "image = Image.open(\"./image.png\")"
   ]
  },
  {
   "cell_type": "code",
   "execution_count": 19,
   "id": "e8322bb1",
   "metadata": {},
   "outputs": [
    {
     "data": {
      "text/plain": [
       "False"
      ]
     },
     "execution_count": 19,
     "metadata": {},
     "output_type": "execute_result"
    }
   ],
   "source": [
    "is_base64_encoded(image.tobytes())"
   ]
  },
  {
   "cell_type": "code",
   "execution_count": 20,
   "id": "e77ee293",
   "metadata": {},
   "outputs": [
    {
     "data": {
      "text/plain": [
       "False"
      ]
     },
     "execution_count": 20,
     "metadata": {},
     "output_type": "execute_result"
    }
   ],
   "source": [
    "is_base64_encoded(1)"
   ]
  },
  {
   "cell_type": "code",
   "execution_count": 21,
   "id": "cce09dc2",
   "metadata": {},
   "outputs": [
    {
     "data": {
      "text/plain": [
       "False"
      ]
     },
     "execution_count": 21,
     "metadata": {},
     "output_type": "execute_result"
    }
   ],
   "source": [
    "import numpy as np\n",
    "is_base64_encoded(np.array(1))"
   ]
  },
  {
   "cell_type": "code",
   "execution_count": 22,
   "id": "00447c1a",
   "metadata": {},
   "outputs": [
    {
     "data": {
      "text/plain": [
       "False"
      ]
     },
     "execution_count": 22,
     "metadata": {},
     "output_type": "execute_result"
    }
   ],
   "source": [
    "is_base64_encoded(\"ほげ\")"
   ]
  },
  {
   "cell_type": "code",
   "execution_count": null,
   "id": "1f6f3928",
   "metadata": {},
   "outputs": [],
   "source": []
  }
 ],
 "metadata": {
  "kernelspec": {
   "display_name": "Python 3 (ipykernel)",
   "language": "python",
   "name": "python3"
  },
  "language_info": {
   "codemirror_mode": {
    "name": "ipython",
    "version": 3
   },
   "file_extension": ".py",
   "mimetype": "text/x-python",
   "name": "python",
   "nbconvert_exporter": "python",
   "pygments_lexer": "ipython3",
   "version": "3.9.13"
  }
 },
 "nbformat": 4,
 "nbformat_minor": 5
}
