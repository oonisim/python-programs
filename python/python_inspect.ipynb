{
 "cells": [
  {
   "cell_type": "markdown",
   "id": "fancy-digest",
   "metadata": {},
   "source": [
    "\n",
    "# [inspect — Inspect live objects](https://docs.python.org/3/library/inspect.html0)"
   ]
  },
  {
   "cell_type": "code",
   "execution_count": 1,
   "id": "current-disposal",
   "metadata": {},
   "outputs": [],
   "source": [
    "import inspect"
   ]
  },
  {
   "cell_type": "code",
   "execution_count": 2,
   "id": "juvenile-coverage",
   "metadata": {},
   "outputs": [
    {
     "data": {
      "text/plain": [
       "<Signature (self, name: str, num_nodes: int, momentum=0.9)>"
      ]
     },
     "execution_count": 2,
     "metadata": {},
     "output_type": "execute_result"
    }
   ],
   "source": [
    "class hoge:\n",
    "    def __init__(\n",
    "            self,\n",
    "            name: str,\n",
    "            num_nodes: int,\n",
    "            momentum = 0.9,\n",
    "    ):\n",
    "        self.args = set(locals().keys())\n"
   ]
  },
  {
   "cell_type": "code",
   "execution_count": 4,
   "id": "exact-picture",
   "metadata": {},
   "outputs": [
    {
     "data": {
      "text/plain": [
       "<Signature (self, name: str, num_nodes: int, momentum=0.9)>"
      ]
     },
     "execution_count": 4,
     "metadata": {},
     "output_type": "execute_result"
    }
   ],
   "source": [
    "inspect.signature(hoge.__init__)"
   ]
  },
  {
   "cell_type": "markdown",
   "id": "another-violin",
   "metadata": {},
   "source": [
    "# Verify function signature"
   ]
  },
  {
   "cell_type": "markdown",
   "id": "usual-associate",
   "metadata": {},
   "source": [
    "## If a parameter is mandatory (no default)\n",
    "\n",
    "* [class inspect.Parameter](https://docs.python.org/3/library/inspect.html#inspect.Parameter)"
   ]
  },
  {
   "cell_type": "code",
   "execution_count": 8,
   "id": "informal-organic",
   "metadata": {},
   "outputs": [
    {
     "name": "stdout",
     "output_type": "stream",
     "text": [
      "Parameter: name: str param.default <class 'inspect._empty'> True\n",
      "Parameter: num_nodes: int param.default <class 'inspect._empty'> True\n"
     ]
    }
   ],
   "source": [
    "sig = inspect.signature(hoge.__init__)\n",
    "for param in sig.parameters.values():\n",
    "    if param.default is param.empty and param.name != \"self\":\n",
    "        print(f'Parameter: {param} param.default {param.default} {param.default is param.empty}')"
   ]
  },
  {
   "cell_type": "markdown",
   "id": "based-commitment",
   "metadata": {},
   "source": [
    "## List mandatory parameters"
   ]
  },
  {
   "cell_type": "code",
   "execution_count": 12,
   "id": "imposed-selling",
   "metadata": {},
   "outputs": [
    {
     "data": {
      "text/plain": [
       "['name', 'num_nodes']"
      ]
     },
     "execution_count": 12,
     "metadata": {},
     "output_type": "execute_result"
    }
   ],
   "source": [
    "sig = inspect.signature(hoge.__init__)\n",
    "[param.name for param in sig.parameters.values() if param.default is param.empty and param.name != \"self\"]\n"
   ]
  },
  {
   "cell_type": "code",
   "execution_count": 14,
   "id": "level-squad",
   "metadata": {},
   "outputs": [
    {
     "data": {
      "text/plain": [
       "[('__class__', type),\n",
       " ('__delattr__', <slot wrapper '__delattr__' of 'object' objects>),\n",
       " ('__dict__',\n",
       "  mappingproxy({'__module__': '__main__',\n",
       "                '__init__': <function __main__.hoge.__init__(self, name: str, num_nodes: int, momentum=0.9)>,\n",
       "                '__dict__': <attribute '__dict__' of 'hoge' objects>,\n",
       "                '__weakref__': <attribute '__weakref__' of 'hoge' objects>,\n",
       "                '__doc__': None})),\n",
       " ('__dir__', <method '__dir__' of 'object' objects>),\n",
       " ('__doc__', None),\n",
       " ('__eq__', <slot wrapper '__eq__' of 'object' objects>),\n",
       " ('__format__', <method '__format__' of 'object' objects>),\n",
       " ('__ge__', <slot wrapper '__ge__' of 'object' objects>),\n",
       " ('__getattribute__', <slot wrapper '__getattribute__' of 'object' objects>),\n",
       " ('__gt__', <slot wrapper '__gt__' of 'object' objects>),\n",
       " ('__hash__', <slot wrapper '__hash__' of 'object' objects>),\n",
       " ('__init__',\n",
       "  <function __main__.hoge.__init__(self, name: str, num_nodes: int, momentum=0.9)>),\n",
       " ('__init_subclass__', <function hoge.__init_subclass__>),\n",
       " ('__le__', <slot wrapper '__le__' of 'object' objects>),\n",
       " ('__lt__', <slot wrapper '__lt__' of 'object' objects>),\n",
       " ('__module__', '__main__'),\n",
       " ('__ne__', <slot wrapper '__ne__' of 'object' objects>),\n",
       " ('__new__', <function object.__new__(*args, **kwargs)>),\n",
       " ('__reduce__', <method '__reduce__' of 'object' objects>),\n",
       " ('__reduce_ex__', <method '__reduce_ex__' of 'object' objects>),\n",
       " ('__repr__', <slot wrapper '__repr__' of 'object' objects>),\n",
       " ('__setattr__', <slot wrapper '__setattr__' of 'object' objects>),\n",
       " ('__sizeof__', <method '__sizeof__' of 'object' objects>),\n",
       " ('__str__', <slot wrapper '__str__' of 'object' objects>),\n",
       " ('__subclasshook__', <function hoge.__subclasshook__>),\n",
       " ('__weakref__', <attribute '__weakref__' of 'hoge' objects>)]"
      ]
     },
     "execution_count": 14,
     "metadata": {},
     "output_type": "execute_result"
    }
   ],
   "source": [
    "inspect.getmembers(hoge, predicts)"
   ]
  }
 ],
 "metadata": {
  "kernelspec": {
   "display_name": "Python 3",
   "language": "python",
   "name": "python3"
  },
  "language_info": {
   "codemirror_mode": {
    "name": "ipython",
    "version": 3
   },
   "file_extension": ".py",
   "mimetype": "text/x-python",
   "name": "python",
   "nbconvert_exporter": "python",
   "pygments_lexer": "ipython3",
   "version": "3.8.8"
  }
 },
 "nbformat": 4,
 "nbformat_minor": 5
}
