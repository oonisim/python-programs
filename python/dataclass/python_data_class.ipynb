{
 "cells": [
  {
   "cell_type": "markdown",
   "id": "48919c18",
   "metadata": {},
   "source": [
    "# Python Data Class\n",
    "\n",
    "* [Data Classes in Python 3.7+ (Guide)](https://realpython.com/python-data-classes/)\n",
    "* [dataclasses](https://docs.python.org/3/library/dataclasses.html)"
   ]
  },
  {
   "cell_type": "code",
   "execution_count": 10,
   "id": "2dac62a5",
   "metadata": {},
   "outputs": [],
   "source": [
    "from itertools import (\n",
    "    count,\n",
    "    repeat,\n",
    ")\n",
    "from dataclasses import (\n",
    "    dataclass\n",
    ")\n",
    "from typing import (\n",
    "    Callable,\n",
    "    Generator,\n",
    "    Union,\n",
    "    Any\n",
    ")"
   ]
  },
  {
   "cell_type": "code",
   "execution_count": 15,
   "id": "b3038b6d",
   "metadata": {},
   "outputs": [],
   "source": [
    "# @dataclass(frozen=True)\n",
    "@dataclass\n",
    "class MapDataPlan:\n",
    "    source: Union[str, Generator]\n",
    "    destination: Union[str, Generator]\n",
    "    failure: Union[str, Generator]\n",
    "    counter: Generator[int, None, None] = count(0)\n",
    "\n",
    "    # frozen=True cannot be used for __post_init__ update on the fields.\n",
    "    def __post_init__(self):\n",
    "        self.source = (_source for _source in repeat(self.source)) \\\n",
    "            if isinstance(self.source, str) else self.source\n",
    "        self.destination = (_destination for _destination in repeat(self.destination))  \\\n",
    "            if isinstance(self.destination, str) else self.destination\n",
    "        self.failure = (_destination for _destination in repeat(self.failure)) \\\n",
    "            if isinstance(self.failure, str) else self.failure"
   ]
  },
  {
   "cell_type": "code",
   "execution_count": 16,
   "id": "cc9b8311",
   "metadata": {},
   "outputs": [],
   "source": [
    "a = MapDataPlan(\n",
    "    source='a', \n",
    "    destination=('b' for _ in range(10)), \n",
    "    failure='c'\n",
    ")"
   ]
  },
  {
   "cell_type": "code",
   "execution_count": 17,
   "id": "d754938c",
   "metadata": {},
   "outputs": [
    {
     "name": "stdout",
     "output_type": "stream",
     "text": [
      "('a', 'b', 'c', 0)\n",
      "('a', 'b', 'c', 1)\n",
      "('a', 'b', 'c', 2)\n",
      "('a', 'b', 'c', 3)\n",
      "('a', 'b', 'c', 4)\n",
      "('a', 'b', 'c', 5)\n",
      "('a', 'b', 'c', 6)\n",
      "('a', 'b', 'c', 7)\n",
      "('a', 'b', 'c', 8)\n",
      "('a', 'b', 'c', 9)\n"
     ]
    },
    {
     "ename": "StopIteration",
     "evalue": "",
     "output_type": "error",
     "traceback": [
      "\u001b[0;31m---------------------------------------------------------------------------\u001b[0m",
      "\u001b[0;31mStopIteration\u001b[0m                             Traceback (most recent call last)",
      "Cell \u001b[0;32mIn[17], line 2\u001b[0m\n\u001b[1;32m      1\u001b[0m \u001b[38;5;28;01mfor\u001b[39;00m _ \u001b[38;5;129;01min\u001b[39;00m \u001b[38;5;28mrange\u001b[39m(\u001b[38;5;241m20\u001b[39m):\n\u001b[0;32m----> 2\u001b[0m     \u001b[38;5;28mprint\u001b[39m(\u001b[38;5;124mf\u001b[39m\u001b[38;5;124m\"\u001b[39m\u001b[38;5;132;01m{\u001b[39;00m(\u001b[38;5;28mnext\u001b[39m(a\u001b[38;5;241m.\u001b[39msource),\u001b[38;5;250m \u001b[39m\u001b[38;5;28;43mnext\u001b[39;49m\u001b[43m(\u001b[49m\u001b[43ma\u001b[49m\u001b[38;5;241;43m.\u001b[39;49m\u001b[43mdestination\u001b[49m\u001b[43m)\u001b[49m,\u001b[38;5;250m \u001b[39m\u001b[38;5;28mnext\u001b[39m(a\u001b[38;5;241m.\u001b[39mfailure),\u001b[38;5;250m \u001b[39m\u001b[38;5;28mnext\u001b[39m(a\u001b[38;5;241m.\u001b[39mcounter))\u001b[38;5;132;01m}\u001b[39;00m\u001b[38;5;124m\"\u001b[39m)\n",
      "\u001b[0;31mStopIteration\u001b[0m: "
     ]
    }
   ],
   "source": [
    "for _ in range(20):\n",
    "    print(f\"{(next(a.source), next(a.destination), next(a.failure), next(a.counter))}\")"
   ]
  },
  {
   "cell_type": "code",
   "execution_count": null,
   "id": "6ca21a62",
   "metadata": {},
   "outputs": [],
   "source": []
  }
 ],
 "metadata": {
  "kernelspec": {
   "display_name": "Python 3 (ipykernel)",
   "language": "python",
   "name": "python3"
  },
  "language_info": {
   "codemirror_mode": {
    "name": "ipython",
    "version": 3
   },
   "file_extension": ".py",
   "mimetype": "text/x-python",
   "name": "python",
   "nbconvert_exporter": "python",
   "pygments_lexer": "ipython3",
   "version": "3.9.13"
  }
 },
 "nbformat": 4,
 "nbformat_minor": 5
}
