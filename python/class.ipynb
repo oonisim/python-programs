{
 "cells": [
  {
   "cell_type": "code",
   "execution_count": 2,
   "metadata": {},
   "outputs": [],
   "source": [
    "from enum import Enum\n",
    "from numbers import Number\n",
    "import sys\n",
    "import pathlib\n",
    "import getopt\n",
    "import logging\n",
    "import re\n",
    "import numpy as np\n",
    "\n",
    "class RobotActions(Enum):\n",
    "    PLACE = \"PLACE\"\n"
   ]
  },
  {
   "cell_type": "code",
   "execution_count": 4,
   "metadata": {},
   "outputs": [
    {
     "name": "stdout",
     "output_type": "stream",
     "text": [
      "RobotActions.PLACE\n"
     ]
    }
   ],
   "source": [
    "print(RobotActions.PLACE)"
   ]
  },
  {
   "cell_type": "code",
   "execution_count": 7,
   "metadata": {},
   "outputs": [
    {
     "data": {
      "text/plain": [
       "False"
      ]
     },
     "execution_count": 7,
     "metadata": {},
     "output_type": "execute_result"
    }
   ],
   "source": [
    "RobotActions.PLACE == \"PLACE\""
   ]
  },
  {
   "cell_type": "code",
   "execution_count": 8,
   "metadata": {},
   "outputs": [],
   "source": [
    "from typing import (\n",
    "    Optional,\n",
    "    Union,\n",
    "    Tuple,\n",
    "    List,\n",
    "    Dict,\n",
    "    TypedDict\n",
    ")"
   ]
  },
  {
   "cell_type": "code",
   "execution_count": 13,
   "metadata": {},
   "outputs": [
    {
     "name": "stdout",
     "output_type": "stream",
     "text": [
      "{'action': 'PLACE', 'x': 1}\n"
     ]
    }
   ],
   "source": [
    "class C\n",
    "\n",
    "class RobotState(TypedDict):\n",
    "    x: int\n",
    "    y: int\n",
    "    direction: string\n",
    "        \n",
    "class RobotCommand(TypedDict):\n",
    "    action: str\n",
    "    state: RobotState\n",
    "        \n",
    "state: RobotState = {\n",
    "    'x': 1,\n",
    "    'y': 3,\n",
    "    'direction': SOUTH\n",
    "}        \n",
    "command: RobotCommand = {\n",
    "    \"action\": \"PLACE\",\n",
    "    \"x\": 1\n",
    "}\n",
    "print(command)"
   ]
  },
  {
   "cell_type": "code",
   "execution_count": 18,
   "metadata": {},
   "outputs": [
    {
     "name": "stdout",
     "output_type": "stream",
     "text": [
      "99\n"
     ]
    }
   ],
   "source": [
    "from typing import Final\n",
    "MAX_SIZE: Final = 9000\n",
    "MAX_SIZE += 1  # Error reported by type checker\n",
    "\n",
    "class Connection:\n",
    "    TIMEOUT: Final[int] = 10\n",
    "    def __init__(self):\n",
    "        Connection.TIMEOUT = 20\n",
    "\n",
    "class FastConnector(Connection):\n",
    "    TIMEOUT = 1  # Error reported by type checker\n",
    "    \n",
    "    \n",
    "c:Connection = Connection()\n",
    "Connection.TIMEOUT = 99\n",
    "print(Connection.TIMEOUT)"
   ]
  },
  {
   "cell_type": "code",
   "execution_count": null,
   "metadata": {},
   "outputs": [],
   "source": []
  }
 ],
 "metadata": {
  "kernelspec": {
   "display_name": "Python 3",
   "language": "python",
   "name": "python3"
  },
  "language_info": {
   "codemirror_mode": {
    "name": "ipython",
    "version": 3
   },
   "file_extension": ".py",
   "mimetype": "text/x-python",
   "name": "python",
   "nbconvert_exporter": "python",
   "pygments_lexer": "ipython3",
   "version": "3.8.5"
  }
 },
 "nbformat": 4,
 "nbformat_minor": 4
}
