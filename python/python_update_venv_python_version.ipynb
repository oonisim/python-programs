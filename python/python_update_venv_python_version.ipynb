{
 "cells": [
  {
   "cell_type": "markdown",
   "id": "fc76838a",
   "metadata": {},
   "source": [
    "# Install the Python version to update"
   ]
  },
  {
   "cell_type": "code",
   "execution_count": 3,
   "id": "f7cf9d45",
   "metadata": {},
   "outputs": [],
   "source": [
    "PYTHON_VERSION='3.10.10'\n",
    "pyenv install ${PYTHON_VERSION} --skip-existing"
   ]
  },
  {
   "cell_type": "markdown",
   "id": "ed125995",
   "metadata": {},
   "source": [
    "# Switch to the version"
   ]
  },
  {
   "cell_type": "code",
   "execution_count": 5,
   "id": "eff10de9",
   "metadata": {},
   "outputs": [],
   "source": [
    "pyenv global ${PYTHON_VERSION}"
   ]
  },
  {
   "cell_type": "code",
   "execution_count": 4,
   "id": "e8e462d9",
   "metadata": {},
   "outputs": [
    {
     "name": "stdout",
     "output_type": "stream",
     "text": [
      "Python 3.10.10\n"
     ]
    }
   ],
   "source": [
    "python3 --version"
   ]
  },
  {
   "cell_type": "markdown",
   "id": "f3407cf8",
   "metadata": {},
   "source": [
    "# Update virtual environment\n",
    "\n",
    "venv ```--upgrrade``` did not work with ```venv/bin/python``` still pointing to the old version.\n",
    "\n",
    "```\n",
    "python3 -m venv --upgrade ~/venv/tf\n",
    "```\n",
    "\n",
    "```\n",
    "python -m venv --help\n",
    "usage: venv [-h] [--system-site-packages] [--symlinks | --copies] [--clear]\n",
    "            [--upgrade] [--without-pip] [--prompt PROMPT]\n",
    "            ENV_DIR [ENV_DIR ...]\n",
    "\n",
    "Creates virtual Python environments in one or more target directories.\n",
    "\n",
    "positional arguments:\n",
    "  ENV_DIR               A directory to create the environment in.\n",
    "\n",
    "optional arguments:\n",
    "  -h, --help            show this help message and exit\n",
    "  --system-site-packages\n",
    "                        Give the virtual environment access to the system\n",
    "                        site-packages dir.\n",
    "  --symlinks            Try to use symlinks rather than copies, when symlinks\n",
    "                        are not the default for the platform.\n",
    "  --copies              Try to use copies rather than symlinks, even when\n",
    "                        symlinks are the default for the platform.\n",
    "  --clear               Delete the contents of the environment directory if it\n",
    "                        already exists, before environment creation.\n",
    "  --upgrade             Upgrade the environment directory to use this version\n",
    "                        of Python, assuming Python has been upgraded in-place.\n",
    "  --without-pip         Skips installing or upgrading pip in the virtual\n",
    "                        environment (pip is bootstrapped by default)\n",
    "  --prompt PROMPT       Provides an alternative prompt prefix for this\n",
    "                        environment.\n",
    "```"
   ]
  },
  {
   "cell_type": "code",
   "execution_count": 6,
   "id": "2451c33e",
   "metadata": {},
   "outputs": [],
   "source": [
    "pip freeze > requirements.txt\n",
    "deactivate\n",
    "\n",
    "cd ${PATH_TO_NEW_VENV}\n",
    "python3.10 -m venv ${NEW_VENV}\n",
    "source ${NEW_VENV}/bin/activate\n",
    "\n",
    "pip install -r requirements.txt"
   ]
  },
  {
   "cell_type": "code",
   "execution_count": null,
   "id": "dada2df8",
   "metadata": {},
   "outputs": [],
   "source": []
  }
 ],
 "metadata": {
  "kernelspec": {
   "display_name": "Bash",
   "language": "bash",
   "name": "bash"
  },
  "language_info": {
   "codemirror_mode": "shell",
   "file_extension": ".sh",
   "mimetype": "text/x-sh",
   "name": "bash"
  }
 },
 "nbformat": 4,
 "nbformat_minor": 5
}
