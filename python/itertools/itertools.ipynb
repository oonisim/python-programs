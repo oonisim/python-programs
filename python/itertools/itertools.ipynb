{
 "cells": [
  {
   "cell_type": "code",
   "execution_count": 18,
   "id": "27b5b3ea",
   "metadata": {},
   "outputs": [],
   "source": [
    "from itertools import (\n",
    "    combinations,\n",
    "    combinations_with_replacement,\n",
    "    permutations,\n",
    "    product,\n",
    "    # pairwise, # Python 3.10\n",
    "    groupby,\n",
    "    compress,\n",
    "    dropwhile,\n",
    "    filterfalse,\n",
    "    accumulate,\n",
    "    count,\n",
    "    cycle,\n",
    "    repeat\n",
    ")\n",
    "import operator"
   ]
  },
  {
   "cell_type": "markdown",
   "id": "32cdcaff",
   "metadata": {},
   "source": [
    "---\n",
    "# Generator"
   ]
  },
  {
   "cell_type": "markdown",
   "id": "11d28ed4",
   "metadata": {},
   "source": [
    "## itertools.count(start=0, step=1)\n",
    "\n",
    "Forever produce numbers starting with ```start``` with interval ```step```."
   ]
  },
  {
   "cell_type": "code",
   "execution_count": 2,
   "id": "8fb3b45e",
   "metadata": {},
   "outputs": [
    {
     "name": "stdout",
     "output_type": "stream",
     "text": [
      "10\n",
      "12\n",
      "14\n",
      "16\n",
      "18\n"
     ]
    }
   ],
   "source": [
    "g = count(10, 2)\n",
    "for i in range(5):\n",
    "    print(next(g))"
   ]
  },
  {
   "cell_type": "markdown",
   "id": "57f96cdb",
   "metadata": {},
   "source": [
    "## itertools.cycle(iterable)\n",
    "\n",
    "Forever cyclying the elements in an iterator."
   ]
  },
  {
   "cell_type": "code",
   "execution_count": 3,
   "id": "f92e56cc",
   "metadata": {},
   "outputs": [
    {
     "name": "stdout",
     "output_type": "stream",
     "text": [
      "tako\n",
      "ika\n",
      "bin\n",
      "tako\n",
      "ika\n",
      "bin\n",
      "tako\n",
      "ika\n",
      "bin\n",
      "tako\n"
     ]
    }
   ],
   "source": [
    "g = cycle(['tako', 'ika', 'bin'])\n",
    "for i in range(10):\n",
    "    print(next(g))"
   ]
  },
  {
   "cell_type": "markdown",
   "id": "49e9e168",
   "metadata": {},
   "source": [
    "## itertools.repeat(object[, times])\n",
    "\n",
    "Forever repeat the same object.\n",
    "\n",
    "```map(function, iterable, args)```: Apply ```function(e, args)``` on each element in ```iteragle```.\n",
    "\n",
    "```pow(base, exp[, mod])``` where args -> exp"
   ]
  },
  {
   "cell_type": "code",
   "execution_count": 21,
   "id": "f020fa9a",
   "metadata": {},
   "outputs": [
    {
     "data": {
      "text/plain": [
       "[1, 4, 9, 16, 25]"
      ]
     },
     "execution_count": 21,
     "metadata": {},
     "output_type": "execute_result"
    }
   ],
   "source": [
    "list(map(pow, [1, 2, 3, 4, 5], repeat(2)))  # repeat(2) keeps generating 2 for powe(base=e, exp=2)"
   ]
  },
  {
   "cell_type": "markdown",
   "id": "2467413b",
   "metadata": {},
   "source": [
    "---\n",
    "# Combination Making\n",
    "<img src=\"itertools_combination_pattern.png\" align=\"left\" width=600/>"
   ]
  },
  {
   "cell_type": "code",
   "execution_count": 4,
   "id": "769d4516",
   "metadata": {},
   "outputs": [],
   "source": [
    "inputs = ['a', 'b', 'c']"
   ]
  },
  {
   "cell_type": "markdown",
   "id": "43488781",
   "metadata": {},
   "source": [
    "## combinations \n",
    "\n",
    "* A gorup of Sorted order elements\n",
    "* Unique element in a group\n",
    "\n",
    "\n",
    "Without replacement -> Pick one and do NOT return it to the bag."
   ]
  },
  {
   "cell_type": "code",
   "execution_count": 5,
   "id": "1114c22a",
   "metadata": {},
   "outputs": [
    {
     "name": "stdout",
     "output_type": "stream",
     "text": [
      "('a', 'b')\n",
      "('a', 'c')\n",
      "('b', 'c')\n"
     ]
    }
   ],
   "source": [
    "for c in combinations(inputs, 2):\n",
    "    print(c)"
   ]
  },
  {
   "cell_type": "markdown",
   "id": "9d769e0c",
   "metadata": {},
   "source": [
    "## combinations_with_replacement\n",
    "\n",
    "* A gorup of all possible orders\n",
    "* Repeat element allowed in a group\n",
    "\n",
    "\n",
    "With replacement -> Pick one and return it to the bag."
   ]
  },
  {
   "cell_type": "code",
   "execution_count": 6,
   "id": "4aa48313",
   "metadata": {},
   "outputs": [
    {
     "name": "stdout",
     "output_type": "stream",
     "text": [
      "('a', 'a')\n",
      "('a', 'b')\n",
      "('a', 'c')\n",
      "('b', 'b')\n",
      "('b', 'c')\n",
      "('c', 'c')\n"
     ]
    }
   ],
   "source": [
    "for c in combinations_with_replacement(inputs, 2):\n",
    "    print(c)"
   ]
  },
  {
   "cell_type": "markdown",
   "id": "2bbe0787",
   "metadata": {},
   "source": [
    "## permutations\n",
    "\n",
    "* All pssible orders\n",
    "* Unique element in a group\n",
    "\n",
    "\n",
    "Without replacement -> Pick one and do NOT return it to the bag."
   ]
  },
  {
   "cell_type": "code",
   "execution_count": 7,
   "id": "3246edd0",
   "metadata": {},
   "outputs": [
    {
     "name": "stdout",
     "output_type": "stream",
     "text": [
      "('a', 'b')\n",
      "('a', 'c')\n",
      "('b', 'a')\n",
      "('b', 'c')\n",
      "('c', 'a')\n",
      "('c', 'b')\n"
     ]
    }
   ],
   "source": [
    "for e in permutations(inputs, 2):\n",
    "    print(e)"
   ]
  },
  {
   "cell_type": "markdown",
   "id": "ecb2547b",
   "metadata": {},
   "source": [
    "## product\n",
    "All possible combinations (cartesian product) : ```product(A, B) returns the same as ((x,y) for x in A for y in B).```"
   ]
  },
  {
   "cell_type": "code",
   "execution_count": 8,
   "id": "494f7431",
   "metadata": {},
   "outputs": [
    {
     "name": "stdout",
     "output_type": "stream",
     "text": [
      "('a', 'a')\n",
      "('a', 'b')\n",
      "('a', 'c')\n",
      "('b', 'a')\n",
      "('b', 'b')\n",
      "('b', 'c')\n",
      "('c', 'a')\n",
      "('c', 'b')\n",
      "('c', 'c')\n"
     ]
    }
   ],
   "source": [
    "for e in product(inputs, repeat=2):   # self by self\n",
    "    print(e)"
   ]
  },
  {
   "cell_type": "code",
   "execution_count": 9,
   "id": "86650361",
   "metadata": {},
   "outputs": [],
   "source": [
    "left=['a', 'b']\n",
    "right=[1,2]"
   ]
  },
  {
   "cell_type": "code",
   "execution_count": 10,
   "id": "df131ae0",
   "metadata": {},
   "outputs": [
    {
     "name": "stdout",
     "output_type": "stream",
     "text": [
      "('a', 1)\n",
      "('a', 2)\n",
      "('b', 1)\n",
      "('b', 2)\n"
     ]
    }
   ],
   "source": [
    "for e in product(left, right):   # left by right\n",
    "    print(e)"
   ]
  },
  {
   "cell_type": "code",
   "execution_count": 11,
   "id": "20710ada",
   "metadata": {},
   "outputs": [
    {
     "name": "stdout",
     "output_type": "stream",
     "text": [
      "('a', 1, 'a', 1)\n",
      "('a', 1, 'a', 2)\n",
      "('a', 1, 'b', 1)\n",
      "('a', 1, 'b', 2)\n",
      "('a', 2, 'a', 1)\n",
      "('a', 2, 'a', 2)\n",
      "('a', 2, 'b', 1)\n",
      "('a', 2, 'b', 2)\n",
      "('b', 1, 'a', 1)\n",
      "('b', 1, 'a', 2)\n",
      "('b', 1, 'b', 1)\n",
      "('b', 1, 'b', 2)\n",
      "('b', 2, 'a', 1)\n",
      "('b', 2, 'a', 2)\n",
      "('b', 2, 'b', 1)\n",
      "('b', 2, 'b', 2)\n"
     ]
    }
   ],
   "source": [
    "for e in product(left, right, repeat=2):   # left by right\n",
    "    print(e)"
   ]
  },
  {
   "cell_type": "markdown",
   "id": "6aea6469",
   "metadata": {},
   "source": [
    "## pairwise\n",
    "\n",
    "```pairwise('ABCDEFG') --> AB BC CD DE EF FG```\n",
    "\n",
    "From Python 3.10."
   ]
  },
  {
   "cell_type": "markdown",
   "id": "94126c60",
   "metadata": {},
   "source": [
    "---\n",
    "# Parsing"
   ]
  },
  {
   "cell_type": "markdown",
   "id": "d9816a1d",
   "metadata": {},
   "source": [
    "## [itertools.dropwhile(predicate, iterable)](https://docs.python.org/3/library/itertools.html#itertools.dropwhile)\n",
    "\n",
    "**Chop the top elements** while predicate is true."
   ]
  },
  {
   "cell_type": "code",
   "execution_count": 12,
   "id": "8e79bc54",
   "metadata": {},
   "outputs": [
    {
     "data": {
      "text/plain": [
       "[0, 1, 2, 3]"
      ]
     },
     "execution_count": 12,
     "metadata": {},
     "output_type": "execute_result"
    }
   ],
   "source": [
    "inputs = [-1, -2, -3, 0, 1, 2, 3]\n",
    "list(dropwhile(lambda x: x < 0, inputs))  # Remove all the top elements which is < 0"
   ]
  },
  {
   "cell_type": "markdown",
   "id": "f67ceb79",
   "metadata": {},
   "source": [
    "## itertools.filterfalse(predicate, iterable)\n",
    "\n",
    "Should habe been called ```takefalse``` as it takes those elements that are False. "
   ]
  },
  {
   "cell_type": "code",
   "execution_count": 13,
   "id": "8be50804",
   "metadata": {},
   "outputs": [
    {
     "data": {
      "text/plain": [
       "[-1, -3, 1, 3]"
      ]
     },
     "execution_count": 13,
     "metadata": {},
     "output_type": "execute_result"
    }
   ],
   "source": [
    "inputs = [-1, -2, -3, 0, 1, 2, 3]\n",
    "list(filterfalse(lambda x: x % 2 == 0, inputs)) # Take Falses drop Trues"
   ]
  },
  {
   "cell_type": "markdown",
   "id": "046576f9",
   "metadata": {},
   "source": [
    "---\n",
    "# Aggregation"
   ]
  },
  {
   "cell_type": "markdown",
   "id": "be98cce3",
   "metadata": {},
   "source": [
    "## [itertools.groupby](https://docs.python.org/2/library/itertools.html#itertools.groupby)\n",
    "\n",
    "Similar to Similar to ```collections.Counter``` class. Count of each unique element in the iterable.\n",
    "\n",
    "```\n",
    "SELECT ELEMENT, COUNT(ELEMENT)\n",
    "GROUP BY ELEMENT\n",
    "FROM LIST\n",
    "```\n"
   ]
  },
  {
   "cell_type": "code",
   "execution_count": 14,
   "id": "5bbc0103",
   "metadata": {},
   "outputs": [
    {
     "name": "stdout",
     "output_type": "stream",
     "text": [
      "(a, 3) (b, 2) (1, 2) (c, 5)"
     ]
    }
   ],
   "source": [
    "from itertools import groupby\n",
    "prefix = ''\n",
    "for k, g in groupby(\"aaabb11ccccc\"):\n",
    "    print(f\"{prefix}({k}, {len(list(g))})\", end='')\n",
    "    prefix = ' '\n"
   ]
  },
  {
   "cell_type": "code",
   "execution_count": 15,
   "id": "6b540a26",
   "metadata": {},
   "outputs": [
    {
     "name": "stdout",
     "output_type": "stream",
     "text": [
      "Counter({'c': 5, 'a': 3, 'b': 2, '1': 2})\n"
     ]
    }
   ],
   "source": [
    "from collections import Counter\n",
    "print(Counter(\"aaabb11ccccc\"))"
   ]
  },
  {
   "cell_type": "markdown",
   "id": "f880ac5f",
   "metadata": {},
   "source": [
    "---\n",
    "# Accumulative "
   ]
  },
  {
   "cell_type": "markdown",
   "id": "24e193c8",
   "metadata": {},
   "source": [
    "## itertools.accumulate(iterable[, func, *, initial=None])\n",
    "NOT **reduce** operation.\n",
    "\n",
    "\n",
    "If the keyword argument ```initial``` is provided, the accumulation leads off with the initial value so that the **output has one more element** than the input iterable.\n",
    "\n",
    "NOT the wame with foldLeft in Scala. The last element is the final result."
   ]
  },
  {
   "cell_type": "code",
   "execution_count": 16,
   "id": "cc9c9008",
   "metadata": {},
   "outputs": [
    {
     "data": {
      "text/plain": [
       "[1, 3, 6, 10, 15]"
      ]
     },
     "execution_count": 16,
     "metadata": {},
     "output_type": "execute_result"
    }
   ],
   "source": [
    "list(accumulate([1,2,3,4,5], operator.add))"
   ]
  },
  {
   "cell_type": "code",
   "execution_count": null,
   "id": "98e38bae",
   "metadata": {},
   "outputs": [],
   "source": []
  }
 ],
 "metadata": {
  "kernelspec": {
   "display_name": "Python 3 (ipykernel)",
   "language": "python",
   "name": "python3"
  },
  "language_info": {
   "codemirror_mode": {
    "name": "ipython",
    "version": 3
   },
   "file_extension": ".py",
   "mimetype": "text/x-python",
   "name": "python",
   "nbconvert_exporter": "python",
   "pygments_lexer": "ipython3",
   "version": "3.8.10"
  }
 },
 "nbformat": 4,
 "nbformat_minor": 5
}
