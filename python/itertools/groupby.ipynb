{
 "cells": [
  {
   "cell_type": "markdown",
   "id": "be98cce3",
   "metadata": {},
   "source": [
    "# [itertools.groupby](https://docs.python.org/2/library/itertools.html#itertools.groupby)"
   ]
  },
  {
   "cell_type": "code",
   "execution_count": 5,
   "id": "5bbc0103",
   "metadata": {},
   "outputs": [
    {
     "name": "stdout",
     "output_type": "stream",
     "text": [
      "(a, 3) (b, 2) (1, 2) (c, 5)"
     ]
    }
   ],
   "source": [
    "from itertools import groupby\n",
    "prefix = ''\n",
    "for k, g in groupby(\"aaabb11ccccc\"):\n",
    "    print(f\"{prefix}({k}, {len(list(g))})\", end='')\n",
    "    prefix = ' '\n"
   ]
  },
  {
   "cell_type": "code",
   "execution_count": null,
   "id": "05f52121",
   "metadata": {},
   "outputs": [],
   "source": []
  }
 ],
 "metadata": {
  "kernelspec": {
   "display_name": "Python 3 (ipykernel)",
   "language": "python",
   "name": "python3"
  },
  "language_info": {
   "codemirror_mode": {
    "name": "ipython",
    "version": 3
   },
   "file_extension": ".py",
   "mimetype": "text/x-python",
   "name": "python",
   "nbconvert_exporter": "python",
   "pygments_lexer": "ipython3",
   "version": "3.8.10"
  }
 },
 "nbformat": 4,
 "nbformat_minor": 5
}
