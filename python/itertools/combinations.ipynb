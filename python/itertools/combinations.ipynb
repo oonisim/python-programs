{
 "cells": [
  {
   "cell_type": "markdown",
   "id": "43488781",
   "metadata": {},
   "source": [
    "# Combinations \n",
    "\n",
    "With replacement -> Pick one and return it to the bag."
   ]
  },
  {
   "cell_type": "code",
   "execution_count": 9,
   "id": "27b5b3ea",
   "metadata": {},
   "outputs": [],
   "source": [
    "from itertools import (\n",
    "    combinations,\n",
    "    combinations_with_replacement\n",
    ")"
   ]
  },
  {
   "cell_type": "code",
   "execution_count": 11,
   "id": "769d4516",
   "metadata": {},
   "outputs": [
    {
     "name": "stdout",
     "output_type": "stream",
     "text": [
      "a b c\n"
     ]
    }
   ],
   "source": [
    "line = input().split()"
   ]
  },
  {
   "cell_type": "code",
   "execution_count": 13,
   "id": "1114c22a",
   "metadata": {},
   "outputs": [
    {
     "name": "stdout",
     "output_type": "stream",
     "text": [
      "('a', 'b')\n",
      "('a', 'c')\n",
      "('b', 'c')\n"
     ]
    }
   ],
   "source": [
    "for c in combinations(line, 2):\n",
    "    print(c)"
   ]
  },
  {
   "cell_type": "code",
   "execution_count": 14,
   "id": "4aa48313",
   "metadata": {},
   "outputs": [
    {
     "name": "stdout",
     "output_type": "stream",
     "text": [
      "('a', 'a')\n",
      "('a', 'b')\n",
      "('a', 'c')\n",
      "('b', 'b')\n",
      "('b', 'c')\n",
      "('c', 'c')\n"
     ]
    }
   ],
   "source": [
    "for c in combinations_with_replacement(line, 2):\n",
    "    print(c)"
   ]
  },
  {
   "cell_type": "code",
   "execution_count": null,
   "id": "2e001e8a",
   "metadata": {},
   "outputs": [],
   "source": []
  }
 ],
 "metadata": {
  "kernelspec": {
   "display_name": "Python 3 (ipykernel)",
   "language": "python",
   "name": "python3"
  },
  "language_info": {
   "codemirror_mode": {
    "name": "ipython",
    "version": 3
   },
   "file_extension": ".py",
   "mimetype": "text/x-python",
   "name": "python",
   "nbconvert_exporter": "python",
   "pygments_lexer": "ipython3",
   "version": "3.8.10"
  }
 },
 "nbformat": 4,
 "nbformat_minor": 5
}
