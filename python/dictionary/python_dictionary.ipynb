{
 "cells": [
  {
   "cell_type": "code",
   "execution_count": 1,
   "id": "0dd1b019",
   "metadata": {},
   "outputs": [],
   "source": [
    "import os"
   ]
  },
  {
   "cell_type": "code",
   "execution_count": 7,
   "id": "b2875fef",
   "metadata": {},
   "outputs": [
    {
     "data": {
      "text/plain": [
       "{'encodekey': <function os._createenviron.<locals>.encode(value)>,\n",
       " 'decodekey': <function os._createenviron.<locals>.decode(value)>,\n",
       " 'encodevalue': <function os._createenviron.<locals>.encode(value)>,\n",
       " 'decodevalue': <function os._createenviron.<locals>.decode(value)>,\n",
       " '_data': {b'SHELL': b'/opt/homebrew/bin/bash',\n",
       "  b'PYENV_SHELL': b'bash',\n",
       "  b'XPC_FLAGS': b'0x0',\n",
       "  b'TERM_PROGRAM_VERSION': b'447',\n",
       "  b'JAVA_HOME': b'/Library/Java/JavaVirtualMachines/adoptopenjdk-8.jdk/Contents/Home/',\n",
       "  b'__CFBundleIdentifier': b'com.apple.Terminal',\n",
       "  b'SSH_AUTH_SOCK': b'/private/tmp/com.apple.launchd.EXOdqd7isD/Listeners',\n",
       "  b'TERM_SESSION_ID': b'3955A149-308B-4732-B81F-CA472A7157E8',\n",
       "  b'HOMEBREW_PREFIX': b'/opt/homebrew',\n",
       "  b'PWD': b'/Users/oonisim/home/repository/git/oonisim/python-programs',\n",
       "  b'LOGNAME': b'oonisim',\n",
       "  b'MANPATH': b'/opt/homebrew/share/man:',\n",
       "  b'HOME': b'/Users/oonisim',\n",
       "  b'LANG': b'en_AU.UTF-8',\n",
       "  b'VIRTUAL_ENV': b'/Users/oonisim/venv/ml',\n",
       "  b'TMPDIR': b'/var/folders/_4/8v285hqs45xfzk0l1nlr3yq40000gn/T/',\n",
       "  b'INFOPATH': b'/opt/homebrew/share/info:',\n",
       "  b'TERM': b'xterm-color',\n",
       "  b'USER': b'oonisim',\n",
       "  b'HOMEBREW_CELLAR': b'/opt/homebrew/Cellar',\n",
       "  b'SHLVL': b'1',\n",
       "  b'HOMEBREW_REPOSITORY': b'/opt/homebrew',\n",
       "  b'XPC_SERVICE_NAME': b'0',\n",
       "  b'PS1': b'(ml) \\\\h:\\\\W \\\\u\\\\$ ',\n",
       "  b'PYENV_ROOT': b'/Users/oonisim/.pyenv',\n",
       "  b'PATH': b'/Users/oonisim/venv/ml/bin:/Users/oonisim/.pyenv/shims:/Users/oonisim/google-cloud-sdk/bin:/Library/Frameworks/Python.framework/Versions/3.9/bin:/opt/homebrew/bin:/opt/homebrew/sbin:/opt/homebrew/opt/gnu-sed/libexec/gnubin:/opt/homebrew/bin:/opt/homebrew/sbin:/usr/local/bin:/System/Cryptexes/App/usr/bin:/usr/bin:/bin:/usr/sbin:/sbin:/Library/Java/JavaVirtualMachines/adoptopenjdk-8.jdk/Contents/Home//bin',\n",
       "  b'OLDPWD': b'/Users/oonisim',\n",
       "  b'TERM_PROGRAM': b'Apple_Terminal',\n",
       "  b'_': b'/Users/oonisim/venv/ml/bin/jupyter',\n",
       "  b'__CF_USER_TEXT_ENCODING': b'0x1F5:0:15',\n",
       "  b'JPY_PARENT_PID': b'4921',\n",
       "  b'CLICOLOR': b'1',\n",
       "  b'PAGER': b'cat',\n",
       "  b'GIT_PAGER': b'cat',\n",
       "  b'MPLBACKEND': b'module://matplotlib_inline.backend_inline'}}"
      ]
     },
     "execution_count": 7,
     "metadata": {},
     "output_type": "execute_result"
    }
   ],
   "source": [
    "type(vars(os.environ))\n",
    "vars(os.environ)"
   ]
  },
  {
   "cell_type": "code",
   "execution_count": 8,
   "id": "ba987d7a",
   "metadata": {},
   "outputs": [
    {
     "data": {
      "text/plain": [
       "{'SHELL': '/opt/homebrew/bin/bash',\n",
       " 'PYENV_SHELL': 'bash',\n",
       " 'XPC_FLAGS': '0x0',\n",
       " 'TERM_PROGRAM_VERSION': '447',\n",
       " 'JAVA_HOME': '/Library/Java/JavaVirtualMachines/adoptopenjdk-8.jdk/Contents/Home/',\n",
       " '__CFBundleIdentifier': 'com.apple.Terminal',\n",
       " 'SSH_AUTH_SOCK': '/private/tmp/com.apple.launchd.EXOdqd7isD/Listeners',\n",
       " 'TERM_SESSION_ID': '3955A149-308B-4732-B81F-CA472A7157E8',\n",
       " 'HOMEBREW_PREFIX': '/opt/homebrew',\n",
       " 'PWD': '/Users/oonisim/home/repository/git/oonisim/python-programs',\n",
       " 'LOGNAME': 'oonisim',\n",
       " 'MANPATH': '/opt/homebrew/share/man:',\n",
       " 'HOME': '/Users/oonisim',\n",
       " 'LANG': 'en_AU.UTF-8',\n",
       " 'VIRTUAL_ENV': '/Users/oonisim/venv/ml',\n",
       " 'TMPDIR': '/var/folders/_4/8v285hqs45xfzk0l1nlr3yq40000gn/T/',\n",
       " 'INFOPATH': '/opt/homebrew/share/info:',\n",
       " 'TERM': 'xterm-color',\n",
       " 'USER': 'oonisim',\n",
       " 'HOMEBREW_CELLAR': '/opt/homebrew/Cellar',\n",
       " 'SHLVL': '1',\n",
       " 'HOMEBREW_REPOSITORY': '/opt/homebrew',\n",
       " 'XPC_SERVICE_NAME': '0',\n",
       " 'PS1': '(ml) \\\\h:\\\\W \\\\u\\\\$ ',\n",
       " 'PYENV_ROOT': '/Users/oonisim/.pyenv',\n",
       " 'PATH': '/Users/oonisim/venv/ml/bin:/Users/oonisim/.pyenv/shims:/Users/oonisim/google-cloud-sdk/bin:/Library/Frameworks/Python.framework/Versions/3.9/bin:/opt/homebrew/bin:/opt/homebrew/sbin:/opt/homebrew/opt/gnu-sed/libexec/gnubin:/opt/homebrew/bin:/opt/homebrew/sbin:/usr/local/bin:/System/Cryptexes/App/usr/bin:/usr/bin:/bin:/usr/sbin:/sbin:/Library/Java/JavaVirtualMachines/adoptopenjdk-8.jdk/Contents/Home//bin',\n",
       " 'OLDPWD': '/Users/oonisim',\n",
       " 'TERM_PROGRAM': 'Apple_Terminal',\n",
       " '_': '/Users/oonisim/venv/ml/bin/jupyter',\n",
       " '__CF_USER_TEXT_ENCODING': '0x1F5:0:15',\n",
       " 'JPY_PARENT_PID': '4921',\n",
       " 'CLICOLOR': '1',\n",
       " 'PAGER': 'cat',\n",
       " 'GIT_PAGER': 'cat',\n",
       " 'MPLBACKEND': 'module://matplotlib_inline.backend_inline'}"
      ]
     },
     "execution_count": 8,
     "metadata": {},
     "output_type": "execute_result"
    }
   ],
   "source": [
    "type(dict(os.environ))\n",
    "dict(os.environ)"
   ]
  },
  {
   "cell_type": "code",
   "execution_count": 4,
   "id": "d0a15f27",
   "metadata": {},
   "outputs": [
    {
     "data": {
      "text/plain": [
       "['_MutableMapping__marker',\n",
       " '__abstractmethods__',\n",
       " '__class__',\n",
       " '__class_getitem__',\n",
       " '__contains__',\n",
       " '__delattr__',\n",
       " '__delitem__',\n",
       " '__dict__',\n",
       " '__dir__',\n",
       " '__doc__',\n",
       " '__eq__',\n",
       " '__format__',\n",
       " '__ge__',\n",
       " '__getattribute__',\n",
       " '__getitem__',\n",
       " '__gt__',\n",
       " '__hash__',\n",
       " '__init__',\n",
       " '__init_subclass__',\n",
       " '__ior__',\n",
       " '__iter__',\n",
       " '__le__',\n",
       " '__len__',\n",
       " '__lt__',\n",
       " '__module__',\n",
       " '__ne__',\n",
       " '__new__',\n",
       " '__or__',\n",
       " '__reduce__',\n",
       " '__reduce_ex__',\n",
       " '__repr__',\n",
       " '__reversed__',\n",
       " '__ror__',\n",
       " '__setattr__',\n",
       " '__setitem__',\n",
       " '__sizeof__',\n",
       " '__slots__',\n",
       " '__str__',\n",
       " '__subclasshook__',\n",
       " '__weakref__',\n",
       " '_abc_impl',\n",
       " '_data',\n",
       " 'clear',\n",
       " 'copy',\n",
       " 'decodekey',\n",
       " 'decodevalue',\n",
       " 'encodekey',\n",
       " 'encodevalue',\n",
       " 'get',\n",
       " 'items',\n",
       " 'keys',\n",
       " 'pop',\n",
       " 'popitem',\n",
       " 'setdefault',\n",
       " 'update',\n",
       " 'values']"
      ]
     },
     "execution_count": 4,
     "metadata": {},
     "output_type": "execute_result"
    }
   ],
   "source": [
    "dir(os.environ)"
   ]
  },
  {
   "cell_type": "code",
   "execution_count": null,
   "id": "6390b402",
   "metadata": {},
   "outputs": [],
   "source": []
  }
 ],
 "metadata": {
  "kernelspec": {
   "display_name": "Python 3 (ipykernel)",
   "language": "python",
   "name": "python3"
  },
  "language_info": {
   "codemirror_mode": {
    "name": "ipython",
    "version": 3
   },
   "file_extension": ".py",
   "mimetype": "text/x-python",
   "name": "python",
   "nbconvert_exporter": "python",
   "pygments_lexer": "ipython3",
   "version": "3.9.13"
  }
 },
 "nbformat": 4,
 "nbformat_minor": 5
}
