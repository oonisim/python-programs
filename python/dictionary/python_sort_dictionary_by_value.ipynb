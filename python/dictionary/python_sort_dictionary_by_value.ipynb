{
 "cells": [
  {
   "cell_type": "code",
   "execution_count": 19,
   "id": "59ebee78",
   "metadata": {},
   "outputs": [],
   "source": [
    "d = {\n",
    "    1.1: \"y\",\n",
    "    2.01: \"x\",\n",
    "    3.0: \"z\"\n",
    "}"
   ]
  },
  {
   "cell_type": "code",
   "execution_count": 23,
   "id": "733e841e",
   "metadata": {},
   "outputs": [
    {
     "data": {
      "text/plain": [
       "[1.1, 2.01, 3.0]"
      ]
     },
     "execution_count": 23,
     "metadata": {},
     "output_type": "execute_result"
    }
   ],
   "source": [
    "d"
   ]
  },
  {
   "cell_type": "code",
   "execution_count": 28,
   "id": "b90e9cba",
   "metadata": {},
   "outputs": [],
   "source": [
    "d = {\n",
    "    \"a\": 3,\n",
    "    \"b\": 1,\n",
    "    \"c\": 9\n",
    "}"
   ]
  },
  {
   "cell_type": "code",
   "execution_count": 30,
   "id": "df70b5b2",
   "metadata": {},
   "outputs": [
    {
     "data": {
      "text/plain": [
       "['b', 'a', 'c']"
      ]
     },
     "execution_count": 30,
     "metadata": {},
     "output_type": "execute_result"
    }
   ],
   "source": [
    "sorted(d, key=d.get)"
   ]
  },
  {
   "cell_type": "code",
   "execution_count": 31,
   "id": "47de1df2",
   "metadata": {},
   "outputs": [],
   "source": [
    "d = [\n",
    "    {\"value\": \"a\", \"score\": 0.9},\n",
    "    {\"value\": \"c\", \"score\": 0.2},\n",
    "    {\"value\": \"b\", \"score\": 0.3},\n",
    "]"
   ]
  },
  {
   "cell_type": "code",
   "execution_count": 32,
   "id": "34860440",
   "metadata": {},
   "outputs": [
    {
     "data": {
      "text/plain": [
       "[{'value': 'c', 'score': 0.2},\n",
       " {'value': 'b', 'score': 0.3},\n",
       " {'value': 'a', 'score': 0.9}]"
      ]
     },
     "execution_count": 32,
     "metadata": {},
     "output_type": "execute_result"
    }
   ],
   "source": [
    "sorted(d, key=lambda element: element['score'])"
   ]
  },
  {
   "cell_type": "code",
   "execution_count": 35,
   "id": "72e527fd",
   "metadata": {},
   "outputs": [
    {
     "data": {
      "text/plain": [
       "['c', 'b', 'a']"
      ]
     },
     "execution_count": 35,
     "metadata": {},
     "output_type": "execute_result"
    }
   ],
   "source": [
    "[\n",
    "    d['value']\n",
    "    for d in sorted(d, key=lambda element: element['score'])\n",
    "]"
   ]
  },
  {
   "cell_type": "code",
   "execution_count": 13,
   "id": "59a81307",
   "metadata": {},
   "outputs": [],
   "source": [
    "l = list()"
   ]
  },
  {
   "cell_type": "code",
   "execution_count": 18,
   "id": "014f9797",
   "metadata": {},
   "outputs": [],
   "source": [
    "l.append(None) if True else None"
   ]
  },
  {
   "cell_type": "code",
   "execution_count": 16,
   "id": "08ae1a43",
   "metadata": {},
   "outputs": [
    {
     "data": {
      "text/plain": [
       "[None]"
      ]
     },
     "execution_count": 16,
     "metadata": {},
     "output_type": "execute_result"
    }
   ],
   "source": [
    "l"
   ]
  },
  {
   "cell_type": "code",
   "execution_count": 24,
   "id": "fd921d95",
   "metadata": {},
   "outputs": [
    {
     "data": {
      "text/plain": [
       "'ほげ'"
      ]
     },
     "execution_count": 24,
     "metadata": {},
     "output_type": "execute_result"
    }
   ],
   "source": [
    "\"ほげ\".lower()"
   ]
  },
  {
   "cell_type": "code",
   "execution_count": null,
   "id": "a2adf082",
   "metadata": {},
   "outputs": [],
   "source": []
  }
 ],
 "metadata": {
  "kernelspec": {
   "display_name": "Python 3 (ipykernel)",
   "language": "python",
   "name": "python3"
  },
  "language_info": {
   "codemirror_mode": {
    "name": "ipython",
    "version": 3
   },
   "file_extension": ".py",
   "mimetype": "text/x-python",
   "name": "python",
   "nbconvert_exporter": "python",
   "pygments_lexer": "ipython3",
   "version": "3.9.13"
  }
 },
 "nbformat": 4,
 "nbformat_minor": 5
}
