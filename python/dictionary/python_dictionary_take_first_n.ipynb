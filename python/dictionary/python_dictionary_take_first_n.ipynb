{
 "cells": [
  {
   "cell_type": "markdown",
   "source": [
    "# Take first N elements in a dictionary\n",
    "\n",
    "The most efficient way is ```islice(iterable, start, stop, step)```."
   ],
   "metadata": {
    "collapsed": false
   },
   "id": "16dd697bcf72fbec"
  },
  {
   "cell_type": "code",
   "execution_count": 1,
   "outputs": [],
   "source": [
    "from itertools import (\n",
    "    islice\n",
    ")\n",
    "import gc"
   ],
   "metadata": {
    "collapsed": false,
    "ExecuteTime": {
     "end_time": "2023-12-21T01:41:19.449514557Z",
     "start_time": "2023-12-21T01:41:19.448647533Z"
    }
   },
   "id": "19159bd2fffa7b16"
  },
  {
   "cell_type": "code",
   "execution_count": 2,
   "outputs": [],
   "source": [
    "x = {\n",
    "    i: str(i) for i in range(1000000)\n",
    "}\n",
    "len(x)\n",
    "position = int(len(x) * 0.99)"
   ],
   "metadata": {
    "collapsed": false,
    "ExecuteTime": {
     "end_time": "2023-12-21T01:41:19.680388316Z",
     "start_time": "2023-12-21T01:41:19.532281843Z"
    }
   },
   "id": "4516ebd536444829"
  },
  {
   "cell_type": "markdown",
   "source": [
    "## itertool.islice"
   ],
   "metadata": {
    "collapsed": false
   },
   "id": "da286ca845bd94ba"
  },
  {
   "cell_type": "code",
   "execution_count": 3,
   "outputs": [
    {
     "name": "stdout",
     "output_type": "stream",
     "text": [
      "111 ns ± 1.33 ns per loop (mean ± std. dev. of 7 runs, 10,000,000 loops each)\n"
     ]
    }
   ],
   "source": [
    "%%timeit\n",
    "islice(x, 0, position, 1)"
   ],
   "metadata": {
    "collapsed": false,
    "ExecuteTime": {
     "end_time": "2023-12-21T01:41:39.631287985Z",
     "start_time": "2023-12-21T01:41:30.616593262Z"
    }
   },
   "id": "8170ae5986af06de"
  },
  {
   "cell_type": "markdown",
   "source": [
    "## List"
   ],
   "metadata": {
    "collapsed": false
   },
   "id": "aa24b19683b48972"
  },
  {
   "cell_type": "code",
   "execution_count": 4,
   "outputs": [
    {
     "name": "stdout",
     "output_type": "stream",
     "text": [
      "221 ms ± 1.64 ms per loop (mean ± std. dev. of 7 runs, 1 loop each)\n"
     ]
    }
   ],
   "source": [
    "%%timeit\n",
    "{\n",
    "    v: k for k, v in list(x.items())[:position]\n",
    "}"
   ],
   "metadata": {
    "collapsed": false,
    "ExecuteTime": {
     "end_time": "2023-12-21T01:41:41.426338856Z",
     "start_time": "2023-12-21T01:41:39.680475620Z"
    }
   },
   "id": "176748905dda7bf"
  },
  {
   "cell_type": "markdown",
   "source": [
    "## Enumerate"
   ],
   "metadata": {
    "collapsed": false
   },
   "id": "9313732ec965feb"
  },
  {
   "cell_type": "code",
   "execution_count": 5,
   "outputs": [
    {
     "name": "stdout",
     "output_type": "stream",
     "text": [
      "192 ms ± 17.3 ms per loop (mean ± std. dev. of 7 runs, 1 loop each)\n"
     ]
    }
   ],
   "source": [
    "%%timeit\n",
    "y = {\n",
    "    v: k for index, (k,v) in enumerate(x.items()) if index < position\n",
    "}"
   ],
   "metadata": {
    "collapsed": false,
    "ExecuteTime": {
     "end_time": "2023-12-21T01:41:46.080597864Z",
     "start_time": "2023-12-21T01:41:44.478724438Z"
    }
   },
   "id": "d04e4dce8eb54da4"
  },
  {
   "cell_type": "code",
   "execution_count": 6,
   "outputs": [
    {
     "data": {
      "text/plain": "127"
     },
     "execution_count": 6,
     "metadata": {},
     "output_type": "execute_result"
    }
   ],
   "source": [
    "del x\n",
    "gc.collect()"
   ],
   "metadata": {
    "collapsed": false,
    "ExecuteTime": {
     "end_time": "2023-12-21T01:41:46.678076227Z",
     "start_time": "2023-12-21T01:41:46.647791912Z"
    }
   },
   "id": "f0052c80f8f7007a"
  },
  {
   "cell_type": "code",
   "execution_count": 6,
   "outputs": [],
   "source": [],
   "metadata": {
    "collapsed": false,
    "ExecuteTime": {
     "end_time": "2023-12-21T01:38:16.475443032Z",
     "start_time": "2023-12-21T01:38:16.464359125Z"
    }
   },
   "id": "639aafabffef6099"
  }
 ],
 "metadata": {
  "kernelspec": {
   "display_name": "Python 3",
   "language": "python",
   "name": "python3"
  },
  "language_info": {
   "codemirror_mode": {
    "name": "ipython",
    "version": 2
   },
   "file_extension": ".py",
   "mimetype": "text/x-python",
   "name": "python",
   "nbconvert_exporter": "python",
   "pygments_lexer": "ipython2",
   "version": "2.7.6"
  }
 },
 "nbformat": 4,
 "nbformat_minor": 5
}
