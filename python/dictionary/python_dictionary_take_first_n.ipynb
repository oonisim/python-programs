{
 "cells": [
  {
   "cell_type": "markdown",
   "id": "16dd697bcf72fbec",
   "metadata": {
    "collapsed": false,
    "jupyter": {
     "outputs_hidden": false
    }
   },
   "source": [
    "# Take first N elements in a dictionary\n",
    "\n",
    "The most efficient way is ```islice(iterable, start, stop, step)```."
   ]
  },
  {
   "cell_type": "code",
   "execution_count": 1,
   "id": "19159bd2fffa7b16",
   "metadata": {
    "ExecuteTime": {
     "end_time": "2023-12-21T01:41:19.449514557Z",
     "start_time": "2023-12-21T01:41:19.448647533Z"
    },
    "collapsed": false,
    "jupyter": {
     "outputs_hidden": false
    }
   },
   "outputs": [],
   "source": [
    "from itertools import (\n",
    "    islice\n",
    ")\n",
    "import gc"
   ]
  },
  {
   "cell_type": "code",
   "execution_count": 11,
   "id": "4516ebd536444829",
   "metadata": {
    "ExecuteTime": {
     "end_time": "2023-12-21T01:41:19.680388316Z",
     "start_time": "2023-12-21T01:41:19.532281843Z"
    },
    "collapsed": false,
    "jupyter": {
     "outputs_hidden": false
    }
   },
   "outputs": [],
   "source": [
    "x = {\n",
    "    i: str(i) for i in range(1000000)\n",
    "}\n",
    "len(x)\n",
    "position = int(len(x) * 0.99)"
   ]
  },
  {
   "cell_type": "markdown",
   "id": "da286ca845bd94ba",
   "metadata": {
    "collapsed": false,
    "jupyter": {
     "outputs_hidden": false
    }
   },
   "source": [
    "## itertool.islice"
   ]
  },
  {
   "cell_type": "code",
   "execution_count": 12,
   "id": "8170ae5986af06de",
   "metadata": {
    "ExecuteTime": {
     "end_time": "2023-12-21T01:41:39.631287985Z",
     "start_time": "2023-12-21T01:41:30.616593262Z"
    },
    "collapsed": false,
    "jupyter": {
     "outputs_hidden": false
    }
   },
   "outputs": [
    {
     "name": "stdout",
     "output_type": "stream",
     "text": [
      "60.1 ms ± 159 µs per loop (mean ± std. dev. of 7 runs, 10 loops each)\n"
     ]
    }
   ],
   "source": [
    "%%timeit\n",
    "dict(islice(x.items(), 0, position, 1))"
   ]
  },
  {
   "cell_type": "markdown",
   "id": "aa24b19683b48972",
   "metadata": {
    "collapsed": false,
    "jupyter": {
     "outputs_hidden": false
    }
   },
   "source": [
    "## List"
   ]
  },
  {
   "cell_type": "code",
   "execution_count": 13,
   "id": "176748905dda7bf",
   "metadata": {
    "ExecuteTime": {
     "end_time": "2023-12-21T01:41:41.426338856Z",
     "start_time": "2023-12-21T01:41:39.680475620Z"
    },
    "collapsed": false,
    "jupyter": {
     "outputs_hidden": false
    }
   },
   "outputs": [
    {
     "name": "stdout",
     "output_type": "stream",
     "text": [
      "218 ms ± 378 µs per loop (mean ± std. dev. of 7 runs, 1 loop each)\n"
     ]
    }
   ],
   "source": [
    "%%timeit\n",
    "{\n",
    "    v: k for k, v in list(x.items())[:position]\n",
    "}"
   ]
  },
  {
   "cell_type": "markdown",
   "id": "9313732ec965feb",
   "metadata": {
    "collapsed": false,
    "jupyter": {
     "outputs_hidden": false
    }
   },
   "source": [
    "## Enumerate"
   ]
  },
  {
   "cell_type": "code",
   "execution_count": 14,
   "id": "d04e4dce8eb54da4",
   "metadata": {
    "ExecuteTime": {
     "end_time": "2023-12-21T01:41:46.080597864Z",
     "start_time": "2023-12-21T01:41:44.478724438Z"
    },
    "collapsed": false,
    "jupyter": {
     "outputs_hidden": false
    }
   },
   "outputs": [
    {
     "name": "stdout",
     "output_type": "stream",
     "text": [
      "181 ms ± 2.02 ms per loop (mean ± std. dev. of 7 runs, 1 loop each)\n"
     ]
    }
   ],
   "source": [
    "%%timeit\n",
    "y = {\n",
    "    v: k for index, (k,v) in enumerate(x.items()) if index < position\n",
    "}"
   ]
  },
  {
   "cell_type": "code",
   "execution_count": 15,
   "id": "f0052c80f8f7007a",
   "metadata": {
    "ExecuteTime": {
     "end_time": "2023-12-21T01:41:46.678076227Z",
     "start_time": "2023-12-21T01:41:46.647791912Z"
    },
    "collapsed": false,
    "jupyter": {
     "outputs_hidden": false
    }
   },
   "outputs": [
    {
     "data": {
      "text/plain": [
       "12"
      ]
     },
     "execution_count": 15,
     "metadata": {},
     "output_type": "execute_result"
    }
   ],
   "source": [
    "del x\n",
    "gc.collect()"
   ]
  },
  {
   "cell_type": "code",
   "execution_count": 6,
   "id": "639aafabffef6099",
   "metadata": {
    "ExecuteTime": {
     "end_time": "2023-12-21T01:38:16.475443032Z",
     "start_time": "2023-12-21T01:38:16.464359125Z"
    },
    "collapsed": false,
    "jupyter": {
     "outputs_hidden": false
    }
   },
   "outputs": [],
   "source": []
  }
 ],
 "metadata": {
  "kernelspec": {
   "display_name": "Python 3 (ipykernel)",
   "language": "python",
   "name": "python3"
  },
  "language_info": {
   "codemirror_mode": {
    "name": "ipython",
    "version": 3
   },
   "file_extension": ".py",
   "mimetype": "text/x-python",
   "name": "python",
   "nbconvert_exporter": "python",
   "pygments_lexer": "ipython3",
   "version": "3.10.12"
  }
 },
 "nbformat": 4,
 "nbformat_minor": 5
}
