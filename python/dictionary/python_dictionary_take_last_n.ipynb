{
 "cells": [
  {
   "cell_type": "markdown",
   "id": "16dd697bcf72fbec",
   "metadata": {
    "collapsed": false,
    "jupyter": {
     "outputs_hidden": false
    }
   },
   "source": [
    "# Take last N elements in a dictionary\n",
    "\n",
    "The most efficient way is ```islice(iterable, start, stop, step)```."
   ]
  },
  {
   "cell_type": "code",
   "execution_count": 1,
   "id": "19159bd2fffa7b16",
   "metadata": {
    "ExecuteTime": {
     "end_time": "2023-12-21T01:49:28.473361103Z",
     "start_time": "2023-12-21T01:49:28.472546008Z"
    },
    "collapsed": false,
    "jupyter": {
     "outputs_hidden": false
    }
   },
   "outputs": [],
   "source": [
    "from itertools import (\n",
    "    islice\n",
    ")\n",
    "import gc"
   ]
  },
  {
   "cell_type": "code",
   "execution_count": 20,
   "id": "4516ebd536444829",
   "metadata": {
    "ExecuteTime": {
     "end_time": "2023-12-21T01:50:18.391358459Z",
     "start_time": "2023-12-21T01:50:18.382508305Z"
    },
    "collapsed": false,
    "jupyter": {
     "outputs_hidden": false
    }
   },
   "outputs": [],
   "source": [
    "x = {\n",
    "    i: str(i) for i in range(10000000)\n",
    "}\n",
    "len(x)\n",
    "position = int(len(x) * 0.99)"
   ]
  },
  {
   "cell_type": "markdown",
   "id": "da286ca845bd94ba",
   "metadata": {
    "ExecuteTime": {
     "end_time": "2023-12-21T01:50:01.645472012Z",
     "start_time": "2023-12-21T01:50:01.603150626Z"
    },
    "collapsed": false,
    "jupyter": {
     "outputs_hidden": false
    }
   },
   "source": [
    "## itertool.islice"
   ]
  },
  {
   "cell_type": "code",
   "execution_count": 21,
   "id": "8170ae5986af06de",
   "metadata": {
    "ExecuteTime": {
     "end_time": "2023-12-21T01:50:30.914896840Z",
     "start_time": "2023-12-21T01:50:24.134464911Z"
    },
    "collapsed": false,
    "jupyter": {
     "outputs_hidden": false
    }
   },
   "outputs": [
    {
     "name": "stdout",
     "output_type": "stream",
     "text": [
      "101 ms ± 8.97 ms per loop (mean ± std. dev. of 7 runs, 10 loops each)\n"
     ]
    }
   ],
   "source": [
    "%%timeit\n",
    "dict(islice(x.items(), position, None, 1))"
   ]
  },
  {
   "cell_type": "markdown",
   "id": "aa24b19683b48972",
   "metadata": {
    "ExecuteTime": {
     "end_time": "2023-12-21T01:49:36.221019389Z",
     "start_time": "2023-12-21T01:49:36.216972521Z"
    },
    "collapsed": false,
    "jupyter": {
     "outputs_hidden": false
    }
   },
   "source": [
    "## List"
   ]
  },
  {
   "cell_type": "code",
   "execution_count": 22,
   "id": "176748905dda7bf",
   "metadata": {
    "ExecuteTime": {
     "end_time": "2023-12-21T01:38:11.470332018Z",
     "start_time": "2023-12-21T01:38:08.336481833Z"
    },
    "collapsed": false,
    "jupyter": {
     "outputs_hidden": false
    }
   },
   "outputs": [
    {
     "name": "stdout",
     "output_type": "stream",
     "text": [
      "561 ms ± 26 ms per loop (mean ± std. dev. of 7 runs, 1 loop each)\n"
     ]
    }
   ],
   "source": [
    "%%timeit\n",
    "{\n",
    "    v: k for k, v in list(x.items())[position:]\n",
    "}"
   ]
  },
  {
   "cell_type": "markdown",
   "id": "9313732ec965feb",
   "metadata": {
    "collapsed": false,
    "jupyter": {
     "outputs_hidden": false
    }
   },
   "source": [
    "## Enumerate"
   ]
  },
  {
   "cell_type": "code",
   "execution_count": 23,
   "id": "d04e4dce8eb54da4",
   "metadata": {
    "ExecuteTime": {
     "end_time": "2023-12-21T01:50:39.895162234Z",
     "start_time": "2023-12-21T01:50:37.701693929Z"
    },
    "collapsed": false,
    "jupyter": {
     "outputs_hidden": false
    }
   },
   "outputs": [
    {
     "name": "stdout",
     "output_type": "stream",
     "text": [
      "588 ms ± 3.7 ms per loop (mean ± std. dev. of 7 runs, 1 loop each)\n"
     ]
    }
   ],
   "source": [
    "%%timeit\n",
    "y = {\n",
    "    v: k for index, (k,v) in enumerate(x.items()) if index > position\n",
    "}"
   ]
  },
  {
   "cell_type": "code",
   "execution_count": 24,
   "id": "f0052c80f8f7007a",
   "metadata": {
    "ExecuteTime": {
     "end_time": "2023-12-21T01:38:16.424759757Z",
     "start_time": "2023-12-21T01:38:16.418177075Z"
    },
    "collapsed": false,
    "jupyter": {
     "outputs_hidden": false
    }
   },
   "outputs": [
    {
     "data": {
      "text/plain": [
       "1632"
      ]
     },
     "execution_count": 24,
     "metadata": {},
     "output_type": "execute_result"
    }
   ],
   "source": [
    "del x\n",
    "gc.collect()"
   ]
  },
  {
   "cell_type": "code",
   "execution_count": 13,
   "id": "639aafabffef6099",
   "metadata": {
    "ExecuteTime": {
     "end_time": "2023-12-21T01:50:51.196283771Z",
     "start_time": "2023-12-21T01:50:46.351251421Z"
    },
    "collapsed": false,
    "jupyter": {
     "outputs_hidden": false
    }
   },
   "outputs": [
    {
     "name": "stdout",
     "output_type": "stream",
     "text": [
      "5.96 ms ± 36.7 µs per loop (mean ± std. dev. of 7 runs, 100 loops each)\n"
     ]
    }
   ],
   "source": []
  }
 ],
 "metadata": {
  "kernelspec": {
   "display_name": "Python 3 (ipykernel)",
   "language": "python",
   "name": "python3"
  },
  "language_info": {
   "codemirror_mode": {
    "name": "ipython",
    "version": 3
   },
   "file_extension": ".py",
   "mimetype": "text/x-python",
   "name": "python",
   "nbconvert_exporter": "python",
   "pygments_lexer": "ipython3",
   "version": "3.10.12"
  }
 },
 "nbformat": 4,
 "nbformat_minor": 5
}
