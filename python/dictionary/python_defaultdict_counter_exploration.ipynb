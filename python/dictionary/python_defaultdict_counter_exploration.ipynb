{
 "cells": [
  {
   "cell_type": "code",
   "execution_count": 19,
   "id": "edaae223",
   "metadata": {},
   "outputs": [],
   "source": [
    "from collections import (\n",
    "    defaultdict,\n",
    "    Counter\n",
    ")\n",
    "import json"
   ]
  },
  {
   "cell_type": "code",
   "execution_count": 14,
   "id": "e2e651a8",
   "metadata": {},
   "outputs": [],
   "source": [
    "text = \"\"\"\n",
    "When each key is encountered for the first time, it is not already in the mapping; \n",
    "so an entry is automatically created using the default_factory function which \n",
    "returns an empty list. The list.append() operation then attaches the value to the new list.\n",
    "When keys are encountered again, the look-up proceeds normally \n",
    "and the list.append() operation adds another value to the list. This technique is simpler and faster \n",
    "than an equivalent technique using\n",
    "\"\"\""
   ]
  },
  {
   "cell_type": "code",
   "execution_count": 17,
   "id": "3e890c1d",
   "metadata": {},
   "outputs": [],
   "source": [
    "def count_words(text: str):\n",
    "    counter: defaultdict = defaultdict(int)\n",
    "    for word in text.split():\n",
    "        counter[word] +=1 \n",
    "    \n",
    "    return json.loads(json.dumps(counter)).items()"
   ]
  },
  {
   "cell_type": "code",
   "execution_count": 24,
   "id": "6d3c1c31",
   "metadata": {},
   "outputs": [
    {
     "data": {
      "text/plain": [
       "dict_items([('When', 2), ('each', 1), ('key', 1), ('is', 4), ('encountered', 2), ('for', 1), ('the', 8), ('first', 1), ('time,', 1), ('it', 1), ('not', 1), ('already', 1), ('in', 1), ('mapping;', 1), ('so', 1), ('an', 3), ('entry', 1), ('automatically', 1), ('created', 1), ('using', 2), ('default_factory', 1), ('function', 1), ('which', 1), ('returns', 1), ('empty', 1), ('list.', 3), ('The', 1), ('list.append()', 2), ('operation', 2), ('then', 1), ('attaches', 1), ('value', 2), ('to', 2), ('new', 1), ('keys', 1), ('are', 1), ('again,', 1), ('look-up', 1), ('proceeds', 1), ('normally', 1), ('and', 2), ('adds', 1), ('another', 1), ('This', 1), ('technique', 2), ('simpler', 1), ('faster', 1), ('than', 1), ('equivalent', 1)])"
      ]
     },
     "execution_count": 24,
     "metadata": {},
     "output_type": "execute_result"
    }
   ],
   "source": [
    "count_words(text)"
   ]
  },
  {
   "cell_type": "code",
   "execution_count": 18,
   "id": "bf2abf9e",
   "metadata": {},
   "outputs": [
    {
     "name": "stdout",
     "output_type": "stream",
     "text": [
      "39.9 µs ± 109 ns per loop (mean ± std. dev. of 7 runs, 10,000 loops each)\n"
     ]
    }
   ],
   "source": [
    "%%timeit\n",
    "count_words(text)"
   ]
  },
  {
   "cell_type": "code",
   "execution_count": 23,
   "id": "112484dc",
   "metadata": {},
   "outputs": [
    {
     "data": {
      "text/plain": [
       "Counter({'When': 2,\n",
       "         'each': 1,\n",
       "         'key': 1,\n",
       "         'is': 4,\n",
       "         'encountered': 2,\n",
       "         'for': 1,\n",
       "         'the': 8,\n",
       "         'first': 1,\n",
       "         'time,': 1,\n",
       "         'it': 1,\n",
       "         'not': 1,\n",
       "         'already': 1,\n",
       "         'in': 1,\n",
       "         'mapping;': 1,\n",
       "         'so': 1,\n",
       "         'an': 3,\n",
       "         'entry': 1,\n",
       "         'automatically': 1,\n",
       "         'created': 1,\n",
       "         'using': 2,\n",
       "         'default_factory': 1,\n",
       "         'function': 1,\n",
       "         'which': 1,\n",
       "         'returns': 1,\n",
       "         'empty': 1,\n",
       "         'list.': 3,\n",
       "         'The': 1,\n",
       "         'list.append()': 2,\n",
       "         'operation': 2,\n",
       "         'then': 1,\n",
       "         'attaches': 1,\n",
       "         'value': 2,\n",
       "         'to': 2,\n",
       "         'new': 1,\n",
       "         'keys': 1,\n",
       "         'are': 1,\n",
       "         'again,': 1,\n",
       "         'look-up': 1,\n",
       "         'proceeds': 1,\n",
       "         'normally': 1,\n",
       "         'and': 2,\n",
       "         'adds': 1,\n",
       "         'another': 1,\n",
       "         'This': 1,\n",
       "         'technique': 2,\n",
       "         'simpler': 1,\n",
       "         'faster': 1,\n",
       "         'than': 1,\n",
       "         'equivalent': 1})"
      ]
     },
     "execution_count": 23,
     "metadata": {},
     "output_type": "execute_result"
    }
   ],
   "source": [
    "Counter(text.split())"
   ]
  },
  {
   "cell_type": "code",
   "execution_count": 22,
   "id": "385b2854",
   "metadata": {},
   "outputs": [
    {
     "name": "stdout",
     "output_type": "stream",
     "text": [
      "8.29 µs ± 41.2 ns per loop (mean ± std. dev. of 7 runs, 100,000 loops each)\n"
     ]
    }
   ],
   "source": [
    "%%timeit\n",
    "Counter(text.split())"
   ]
  },
  {
   "cell_type": "code",
   "execution_count": null,
   "id": "e4cea35a",
   "metadata": {},
   "outputs": [],
   "source": []
  }
 ],
 "metadata": {
  "kernelspec": {
   "display_name": "Python 3 (ipykernel)",
   "language": "python",
   "name": "python3"
  },
  "language_info": {
   "codemirror_mode": {
    "name": "ipython",
    "version": 3
   },
   "file_extension": ".py",
   "mimetype": "text/x-python",
   "name": "python",
   "nbconvert_exporter": "python",
   "pygments_lexer": "ipython3",
   "version": "3.9.13"
  }
 },
 "nbformat": 4,
 "nbformat_minor": 5
}
