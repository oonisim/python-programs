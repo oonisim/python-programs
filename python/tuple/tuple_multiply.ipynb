{
 "cells": [
  {
   "cell_type": "markdown",
   "id": "e2b4a286",
   "metadata": {},
   "source": [
    "# Multiply tuples of equal length\n",
    "\n",
    "* [Python Multiply tuples of equal length](https://stackoverflow.com/questions/28553887/python-multiply-tuples-of-equal-length)"
   ]
  },
  {
   "cell_type": "code",
   "execution_count": 1,
   "id": "8744e541",
   "metadata": {},
   "outputs": [],
   "source": [
    "import operator"
   ]
  },
  {
   "cell_type": "code",
   "execution_count": 3,
   "id": "2707a823",
   "metadata": {},
   "outputs": [
    {
     "data": {
      "text/plain": [
       "(0, 20, 60, 120)"
      ]
     },
     "execution_count": 3,
     "metadata": {},
     "output_type": "execute_result"
    }
   ],
   "source": [
    "tuple(map(operator.mul, [0, 1, 2, 3], [10, 20, 30, 40]))"
   ]
  },
  {
   "cell_type": "code",
   "execution_count": 4,
   "id": "2983aeda",
   "metadata": {},
   "outputs": [
    {
     "data": {
      "text/plain": [
       "(2, -4)"
      ]
     },
     "execution_count": 4,
     "metadata": {},
     "output_type": "execute_result"
    }
   ],
   "source": [
    "tuple(map(operator.mul, (1, -1), (2, 4)))"
   ]
  }
 ],
 "metadata": {
  "kernelspec": {
   "display_name": "Python 3 (ipykernel)",
   "language": "python",
   "name": "python3"
  },
  "language_info": {
   "codemirror_mode": {
    "name": "ipython",
    "version": 3
   },
   "file_extension": ".py",
   "mimetype": "text/x-python",
   "name": "python",
   "nbconvert_exporter": "python",
   "pygments_lexer": "ipython3",
   "version": "3.8.10"
  }
 },
 "nbformat": 4,
 "nbformat_minor": 5
}
