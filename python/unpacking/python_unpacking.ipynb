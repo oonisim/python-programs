{
 "cells": [
  {
   "cell_type": "markdown",
   "metadata": {},
   "source": [
    "# Unpacking * and ** \n",
    "\n",
    "[PEP 3132 -- Extended Iterable Unpacking](https://www.python.org/dev/peps/pep-3132/)\n",
    "\n",
    "> Many algorithms require splitting a sequence in a \"first, rest\" pair. With the new syntax,<br>\n",
    "> ```first, *rest = seq```\n",
    "\n",
    "Allow a \"catch-all\" name which catches \"all items not assigned to other 'regular' names\" as a list.\n",
    "\n",
    "```b``` is the **catch-all name**, whereas ```a``` and ```c``` are **regular** names.\n",
    "\n",
    "```\n",
    ">>> a, *b, c = range(5)\n",
    ">>> a\n",
    "0\n",
    ">>> b\n",
    "[1, 2, 3]\n",
    "```\n",
    "\n",
    "[PEP 448 -- Additional Unpacking Generalizations](https://www.python.org/dev/peps/pep-0448/)\n",
    "\n",
    "Allow **unpacking inside** tuple, list, set, and dictionary.\n",
    "\n",
    "```\n",
    ">>> *range(4), 4\n",
    "(0, 1, 2, 3, 4)\n",
    ">>> [*range(4), 4]\n",
    "[0, 1, 2, 3, 4]\n",
    ">>> {*range(4), 4}\n",
    "{0, 1, 2, 3, 4}\n",
    ">>> {'x': 1, **{'y': 2}}\n",
    "{'x': 1, 'y': 2}\n",
    "```"
   ]
  },
  {
   "cell_type": "markdown",
   "metadata": {},
   "source": [
    "# Unpacking iterable (*)\n",
    "\n",
    "```*``` operator takes out (unpack) contents from an iterable objects:\n",
    "* String\n",
    "* Tuple\n",
    "* List\n",
    "* Generator"
   ]
  },
  {
   "cell_type": "markdown",
   "metadata": {},
   "source": [
    "## Function argument unpacking"
   ]
  },
  {
   "cell_type": "markdown",
   "metadata": {},
   "source": [
    "### String"
   ]
  },
  {
   "cell_type": "code",
   "execution_count": 70,
   "metadata": {},
   "outputs": [
    {
     "name": "stdout",
     "output_type": "stream",
     "text": [
      "a b c d e\n",
      "a b c d e f\n",
      "a b c d e f g\n",
      "a b c d e fg\n"
     ]
    }
   ],
   "source": [
    "s = \"abcde\"\n",
    "print(*s)\n",
    "print(*s, \"f\")\n",
    "print(*s, *\"fg\")\n",
    "print(*s, \"fg\")"
   ]
  },
  {
   "cell_type": "markdown",
   "metadata": {},
   "source": [
    "### range()"
   ]
  },
  {
   "cell_type": "code",
   "execution_count": 12,
   "metadata": {},
   "outputs": [
    {
     "name": "stdout",
     "output_type": "stream",
     "text": [
      "0 1 2 3 4\n",
      "0 1 2 3 4 5\n",
      "0 1 2 3 4 5 6\n"
     ]
    }
   ],
   "source": [
    "r = range(5)\n",
    "print(*r)\n",
    "print(*r, 5)\n",
    "print(*r, 5, 6)"
   ]
  },
  {
   "cell_type": "markdown",
   "metadata": {},
   "source": [
    "### Generator"
   ]
  },
  {
   "cell_type": "code",
   "execution_count": 59,
   "metadata": {},
   "outputs": [
    {
     "name": "stdout",
     "output_type": "stream",
     "text": [
      "<generator object <genexpr> at 0x7faf100927b0>\n",
      "0 1 2 3 4\n",
      "0 1 2 3 4 5\n"
     ]
    }
   ],
   "source": [
    "print(i for i in range(5))\n",
    "print(*(i for i in range(5)))\n",
    "print(*(i for i in range(5)), 5)"
   ]
  },
  {
   "cell_type": "markdown",
   "metadata": {},
   "source": [
    "## Expand iterble to function arguments"
   ]
  },
  {
   "cell_type": "code",
   "execution_count": 73,
   "metadata": {},
   "outputs": [
    {
     "name": "stdout",
     "output_type": "stream",
     "text": [
      "{'a': 1, 'b': 2, 'c': 3, 'd': 4, 'g': 5}\n"
     ]
    }
   ],
   "source": [
    "def f(a, b, c, d, g):\n",
    "    print(locals())\n",
    "    \n",
    "print(f(1,2,3,4,5))"
   ]
  },
  {
   "cell_type": "markdown",
   "metadata": {},
   "source": [
    "### How to pass an iterable object as multiple arguments to a function\n",
    "You cannot use a collection  AS-IS as the entire arguments. The collection is just a single argument for the function."
   ]
  },
  {
   "cell_type": "code",
   "execution_count": 74,
   "metadata": {},
   "outputs": [
    {
     "ename": "TypeError",
     "evalue": "f() missing 4 required positional arguments: 'b', 'c', 'd', and 'g'",
     "output_type": "error",
     "traceback": [
      "\u001b[0;31m---------------------------------------------------------------------------\u001b[0m",
      "\u001b[0;31mTypeError\u001b[0m                                 Traceback (most recent call last)",
      "\u001b[0;32m<ipython-input-74-46fd055e0d9f>\u001b[0m in \u001b[0;36m<module>\u001b[0;34m\u001b[0m\n\u001b[1;32m      1\u001b[0m \u001b[0margs\u001b[0m \u001b[0;34m=\u001b[0m \u001b[0;34m(\u001b[0m\u001b[0;36m1\u001b[0m\u001b[0;34m,\u001b[0m\u001b[0;36m2\u001b[0m\u001b[0;34m,\u001b[0m\u001b[0;36m3\u001b[0m\u001b[0;34m,\u001b[0m\u001b[0;36m4\u001b[0m\u001b[0;34m,\u001b[0m\u001b[0;36m5\u001b[0m\u001b[0;34m)\u001b[0m\u001b[0;34m\u001b[0m\u001b[0;34m\u001b[0m\u001b[0m\n\u001b[0;32m----> 2\u001b[0;31m \u001b[0mf\u001b[0m\u001b[0;34m(\u001b[0m\u001b[0margs\u001b[0m\u001b[0;34m)\u001b[0m\u001b[0;34m\u001b[0m\u001b[0;34m\u001b[0m\u001b[0m\n\u001b[0m",
      "\u001b[0;31mTypeError\u001b[0m: f() missing 4 required positional arguments: 'b', 'c', 'd', and 'g'"
     ]
    }
   ],
   "source": [
    "args = (1,2,3,4,5)\n",
    "f(args)"
   ]
  },
  {
   "cell_type": "markdown",
   "metadata": {},
   "source": [
    "### Unpack a collection or iterable as *args"
   ]
  },
  {
   "cell_type": "code",
   "execution_count": 77,
   "metadata": {},
   "outputs": [
    {
     "name": "stdout",
     "output_type": "stream",
     "text": [
      "{'a': 1, 'b': 2, 'c': 3, 'd': 4, 'g': 5}\n"
     ]
    }
   ],
   "source": [
    "args = (1,2,3,4,5)\n",
    "f(*args)           # '*' unpack operator unpack the "
   ]
  },
  {
   "cell_type": "code",
   "execution_count": 78,
   "metadata": {},
   "outputs": [
    {
     "name": "stdout",
     "output_type": "stream",
     "text": [
      "0 1 2 3 4\n"
     ]
    }
   ],
   "source": [
    "print(*range(5))"
   ]
  },
  {
   "cell_type": "code",
   "execution_count": null,
   "metadata": {},
   "outputs": [],
   "source": [
    "def f(a, b, c):\n",
    "   print(locals())\n",
    "\n",
    "arg = [1,2,3]\n",
    "f(arg, 4, 5)\n",
    "\n",
    "f(arg)"
   ]
  },
  {
   "cell_type": "markdown",
   "metadata": {},
   "source": [
    "---"
   ]
  },
  {
   "cell_type": "markdown",
   "metadata": {},
   "source": [
    "## Assignment Unpacking (PEP 3132)\n",
    "\n",
    "* [Unpacking, extended unpacking and nested extended unpacking](https://stackoverflow.com/questions/6967632/unpacking-extended-unpacking-and-nested-extended-unpacking)"
   ]
  },
  {
   "cell_type": "markdown",
   "metadata": {},
   "source": [
    "---\n",
    "# Unpacking dictionary (**)"
   ]
  },
  {
   "cell_type": "code",
   "execution_count": 1,
   "metadata": {},
   "outputs": [
    {
     "data": {
      "text/plain": [
       "{'source': 'soy source', 'level': 'well done', 'utensil': 'chop stick'}"
      ]
     },
     "execution_count": 1,
     "metadata": {},
     "output_type": "execute_result"
    }
   ],
   "source": [
    "a = {\n",
    "    \"source\": \"soy source\",\n",
    "    \"level\": \"well done\"\n",
    "}\n",
    "b = {\n",
    "    \"utensil\": \"chop stick\"\n",
    "}\n",
    "\n",
    "{**a, **b}"
   ]
  }
 ],
 "metadata": {
  "kernelspec": {
   "display_name": "Python 3",
   "language": "python",
   "name": "python3"
  },
  "language_info": {
   "codemirror_mode": {
    "name": "ipython",
    "version": 3
   },
   "file_extension": ".py",
   "mimetype": "text/x-python",
   "name": "python",
   "nbconvert_exporter": "python",
   "pygments_lexer": "ipython3",
   "version": "3.8.8"
  }
 },
 "nbformat": 4,
 "nbformat_minor": 4
}
