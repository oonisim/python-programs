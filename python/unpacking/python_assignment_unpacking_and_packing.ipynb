{
 "cells": [
  {
   "cell_type": "markdown",
   "id": "seven-majority",
   "metadata": {},
   "source": [
    "# Labyrinth of Python unpacking\n",
    "\n",
    "* [Unpacking, extended unpacking and nested extended unpacking\n",
    "](https://stackoverflow.com/questions/6967632/unpacking-extended-unpacking-and-nested-extended-unpacking)"
   ]
  },
  {
   "cell_type": "markdown",
   "id": "81377dc5",
   "metadata": {},
   "source": [
    "## Motivation\n",
    "\n",
    "Other languages have a feature to split iterables with pattern matching. \n",
    "\n",
    "* [How to use Lists in Scala match expressions](https://alvinalexander.com/scala/how-to-use-lists-nil-cons-scala-match-case-expressions/) which Python did not.\n",
    "\n",
    "```\n",
    "nums = List(1,2,3,4,5)\n",
    "nums match {\n",
    "    case Nil => 0\n",
    "    case n :: rest => n + sum(rest)\n",
    "}\n",
    "```\n",
    "\n",
    "Or more complex.\n",
    "```\n",
    "def showNotification(notification: Notification): String = {\n",
    "  notification match {\n",
    "    case Email(sender, title, _) =>\n",
    "      s\"You got an email from $sender with title: $title\"\n",
    "    case SMS(number, message) =>\n",
    "      s\"You got an SMS from $number! Message: $message\"\n",
    "    case VoiceRecording(name, link) =>\n",
    "      s\"You received a Voice Recording from $name! Click the link to hear it: $link\"\n",
    "  }\n",
    "}\n",
    "```\n",
    "\n",
    "## PEP \n",
    "\n",
    "[PEP 3132 -- Extended Iterable Unpacking](https://www.python.org/dev/peps/pep-3132/)\n",
    "\n",
    "\n",
    "> Many algorithms require splitting a sequence in a \"first, rest\" pair. With the new syntax,<br>\n",
    "> ```first, *rest = seq```\n",
    "\n",
    "\n",
    "Allow a \"catch-all\" name which catches \"all items not assigned to other 'regular' names\" as a list.\n",
    "\n",
    "```b``` is the **catch-all name**, whereas ```a``` and ```c``` are **regular** names.\n",
    "\n",
    "```\n",
    ">>> a, *b, c = range(5)\n",
    ">>> a\n",
    "0\n",
    ">>> b\n",
    "[1, 2, 3]\n",
    "```"
   ]
  },
  {
   "cell_type": "markdown",
   "id": "aaf484dd",
   "metadata": {},
   "source": [
    "# Split by pattern-match-like\n",
    "\n",
    "It is not as good as Scala's which can handle generalized class pattern match, as usual with Python PEP patch ups. "
   ]
  },
  {
   "cell_type": "markdown",
   "id": "975c22cf",
   "metadata": {},
   "source": [
    "## List split"
   ]
  },
  {
   "cell_type": "code",
   "execution_count": 8,
   "id": "ordered-macro",
   "metadata": {},
   "outputs": [
    {
     "data": {
      "text/plain": [
       "2"
      ]
     },
     "execution_count": 8,
     "metadata": {},
     "output_type": "execute_result"
    }
   ],
   "source": [
    "first, second, last, = [1,2,3]\n",
    "second"
   ]
  },
  {
   "cell_type": "code",
   "execution_count": 1,
   "id": "declared-trainer",
   "metadata": {},
   "outputs": [
    {
     "name": "stdout",
     "output_type": "stream",
     "text": [
      "a: 1\n",
      "rest: [2]\n"
     ]
    }
   ],
   "source": [
    "# Unpack [1,2]\n",
    "l = [1,2]\n",
    "a,*_ = l\n",
    "print(f\"a: {a}\")\n",
    "print(f\"rest: {_}\")   # List because unpacking put \"all the rest\" as list"
   ]
  },
  {
   "cell_type": "code",
   "execution_count": 15,
   "id": "responsible-phoenix",
   "metadata": {},
   "outputs": [
    {
     "data": {
      "text/plain": [
       "1"
      ]
     },
     "execution_count": 15,
     "metadata": {},
     "output_type": "execute_result"
    }
   ],
   "source": [
    "# Unpack [1,2]\n",
    "l = [1,2]\n",
    "a,_, = l    # Unpack [1, 2], assign 1 to a, and 2 to _.\n",
    "a"
   ]
  },
  {
   "cell_type": "code",
   "execution_count": 37,
   "id": "medium-scratch",
   "metadata": {},
   "outputs": [
    {
     "ename": "SyntaxError",
     "evalue": "invalid syntax (<ipython-input-37-b6dcbeff904a>, line 1)",
     "output_type": "error",
     "traceback": [
      "\u001b[0;36m  File \u001b[0;32m\"<ipython-input-37-b6dcbeff904a>\"\u001b[0;36m, line \u001b[0;32m1\u001b[0m\n\u001b[0;31m    x = ,\u001b[0m\n\u001b[0m        ^\u001b[0m\n\u001b[0;31mSyntaxError\u001b[0m\u001b[0;31m:\u001b[0m invalid syntax\n"
     ]
    }
   ],
   "source": [
    "x = ,\n",
    "x"
   ]
  },
  {
   "cell_type": "code",
   "execution_count": 56,
   "id": "radio-prefix",
   "metadata": {},
   "outputs": [
    {
     "data": {
      "text/plain": [
       "[]"
      ]
     },
     "execution_count": 56,
     "metadata": {},
     "output_type": "execute_result"
    }
   ],
   "source": [
    "a = 1,\n",
    "x,*y = a\n",
    "y"
   ]
  },
  {
   "cell_type": "code",
   "execution_count": 13,
   "id": "34ac6c64",
   "metadata": {},
   "outputs": [
    {
     "data": {
      "text/plain": [
       "[2, 3]"
      ]
     },
     "execution_count": 13,
     "metadata": {},
     "output_type": "execute_result"
    }
   ],
   "source": [
    "# Unpack a tuple (1,2,3). Assign 1 to a. Pack the left over into b as a list. \n",
    "a, *b = 1, 2, 3\n",
    "b"
   ]
  },
  {
   "cell_type": "markdown",
   "id": "3e3657ff",
   "metadata": {},
   "source": [
    "---\n",
    "# Tuple split"
   ]
  },
  {
   "cell_type": "code",
   "execution_count": 17,
   "id": "103fe03f",
   "metadata": {},
   "outputs": [
    {
     "data": {
      "text/plain": [
       "1"
      ]
     },
     "execution_count": 17,
     "metadata": {},
     "output_type": "execute_result"
    }
   ],
   "source": [
    "a, b = 0, 1\n",
    "b"
   ]
  },
  {
   "cell_type": "code",
   "execution_count": 19,
   "id": "a56c7896",
   "metadata": {},
   "outputs": [
    {
     "data": {
      "text/plain": [
       "[1]"
      ]
     },
     "execution_count": 19,
     "metadata": {},
     "output_type": "execute_result"
    }
   ],
   "source": [
    "a, *b = 0, 1\n",
    "b"
   ]
  },
  {
   "cell_type": "code",
   "execution_count": 23,
   "id": "fbf741be",
   "metadata": {},
   "outputs": [
    {
     "data": {
      "text/plain": [
       "[1, 2, 3, 4, 5]"
      ]
     },
     "execution_count": 23,
     "metadata": {},
     "output_type": "execute_result"
    }
   ],
   "source": [
    "*x, = 1,2,3,4,5\n",
    "x"
   ]
  },
  {
   "cell_type": "code",
   "execution_count": 31,
   "id": "c787dc69",
   "metadata": {},
   "outputs": [
    {
     "data": {
      "text/plain": [
       "[5]"
      ]
     },
     "execution_count": 31,
     "metadata": {},
     "output_type": "execute_result"
    }
   ],
   "source": [
    "a = (3,4,5)\n",
    "x,y,*z=a\n",
    "z"
   ]
  },
  {
   "cell_type": "code",
   "execution_count": 60,
   "id": "6a04706c",
   "metadata": {},
   "outputs": [
    {
     "data": {
      "text/plain": [
       "'a'"
      ]
     },
     "execution_count": 60,
     "metadata": {},
     "output_type": "execute_result"
    }
   ],
   "source": [
    "(x, y, z) = \"abc\"\n",
    "x"
   ]
  },
  {
   "cell_type": "code",
   "execution_count": 63,
   "id": "71b81ff6",
   "metadata": {},
   "outputs": [
    {
     "data": {
      "text/plain": [
       "['c', 'd', 'e', 'f', 'g']"
      ]
     },
     "execution_count": 63,
     "metadata": {},
     "output_type": "execute_result"
    }
   ],
   "source": [
    "(x, y, *z) = \"abcdefg\"\n",
    "z"
   ]
  },
  {
   "cell_type": "markdown",
   "id": "351053e2",
   "metadata": {},
   "source": [
    "## Mixed "
   ]
  },
  {
   "cell_type": "code",
   "execution_count": 26,
   "id": "c6dbe168",
   "metadata": {},
   "outputs": [
    {
     "data": {
      "text/plain": [
       "5"
      ]
     },
     "execution_count": 26,
     "metadata": {},
     "output_type": "execute_result"
    }
   ],
   "source": [
    "a = [1,2,(3,4,5)]\n",
    "_,_,[x,y,z] = a\n",
    "z"
   ]
  },
  {
   "cell_type": "code",
   "execution_count": 35,
   "id": "acd8f2d9",
   "metadata": {},
   "outputs": [
    {
     "data": {
      "text/plain": [
       "[5]"
      ]
     },
     "execution_count": 35,
     "metadata": {},
     "output_type": "execute_result"
    }
   ],
   "source": [
    "a = [1,2,(3,4,5)]\n",
    "_,_,(x,y,*z) = a\n",
    "z"
   ]
  },
  {
   "cell_type": "markdown",
   "id": "a6f5cc4c",
   "metadata": {},
   "source": [
    "# Catch all concatenation of iterables\n",
    "\n",
    "As **a side effect**,  omitting the last 'regular' name as ```values,``` instead of ```values,last```, catches all the iterables into a list."
   ]
  },
  {
   "cell_type": "code",
   "execution_count": 5,
   "id": "dc9799f1",
   "metadata": {},
   "outputs": [
    {
     "data": {
      "text/plain": [
       "[0, 1, 2, 1]"
      ]
     },
     "execution_count": 5,
     "metadata": {},
     "output_type": "execute_result"
    }
   ],
   "source": [
    "*values, = *range(3), 1\n",
    "values"
   ]
  },
  {
   "cell_type": "code",
   "execution_count": 12,
   "id": "68c21685",
   "metadata": {},
   "outputs": [
    {
     "data": {
      "text/plain": [
       "[0, 1, 2, 3, 4, 5, 6, 7, 8, 9]"
      ]
     },
     "execution_count": 12,
     "metadata": {},
     "output_type": "execute_result"
    }
   ],
   "source": [
    "import numpy as np\n",
    "*combined, = 0, *range(1, 3), *range(3,6), *[6,7], *(i for i in np.arange(8, 10))\n",
    "combined"
   ]
  }
 ],
 "metadata": {
  "kernelspec": {
   "display_name": "Python 3",
   "language": "python",
   "name": "python3"
  },
  "language_info": {
   "codemirror_mode": {
    "name": "ipython",
    "version": 3
   },
   "file_extension": ".py",
   "mimetype": "text/x-python",
   "name": "python",
   "nbconvert_exporter": "python",
   "pygments_lexer": "ipython3",
   "version": "3.8.8"
  }
 },
 "nbformat": 4,
 "nbformat_minor": 5
}
