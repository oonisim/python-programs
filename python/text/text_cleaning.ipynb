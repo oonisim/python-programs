{
 "cells": [
  {
   "cell_type": "markdown",
   "id": "48a25256",
   "metadata": {},
   "source": [
    "# Clean text for NLP\n",
    "\n",
    "* [Guide to CleanText: A Python Package to Clean Raw Text Data](https://analyticsindiamag.com/guide-to-cleantext-a-python-package-to-clean-raw-text-data/)\n",
    "\n",
    "```\n",
    "from cleantext import clean\n",
    "\n",
    "clean(\"some input\",\n",
    "    fix_unicode=True,               # fix various unicode errors\n",
    "    to_ascii=True,                  # transliterate to closest ASCII representation\n",
    "    lower=True,                     # lowercase text\n",
    "    no_line_breaks=False,           # fully strip line breaks as opposed to only normalizing them\n",
    "    no_urls=False,                  # replace all URLs with a special token\n",
    "    no_emails=False,                # replace all email addresses with a special token\n",
    "    no_phone_numbers=False,         # replace all phone numbers with a special token\n",
    "    no_numbers=False,               # replace all numbers with a special token\n",
    "    no_digits=False,                # replace all digits with a special token\n",
    "    no_currency_symbols=False,      # replace all currency symbols with a special token\n",
    "    no_punct=False,                 # remove punctuations\n",
    "    replace_with_punct=\"\",          # instead of removing punctuations you may replace them\n",
    "    replace_with_url=\"<URL>\",\n",
    "    replace_with_email=\"<EMAIL>\",\n",
    "    replace_with_phone_number=\"<PHONE>\",\n",
    "    replace_with_number=\"<NUMBER>\",\n",
    "    replace_with_digit=\"0\",\n",
    "    replace_with_currency_symbol=\"<CUR>\",\n",
    "    lang=\"en\"                       # set to 'de' for German special handling\n",
    ")\n",
    "```"
   ]
  },
  {
   "cell_type": "code",
   "execution_count": 4,
   "id": "571745d7",
   "metadata": {},
   "outputs": [
    {
     "name": "stdout",
     "output_type": "stream",
     "text": [
      "Requirement already satisfied: clean-text in /home/oonisim/conda/lib/python3.8/site-packages (0.4.0)\n",
      "Collecting unidecode\n",
      "  Downloading Unidecode-1.2.0-py2.py3-none-any.whl (241 kB)\n",
      "\u001b[K     |████████████████████████████████| 241 kB 3.3 MB/s eta 0:00:01\n",
      "\u001b[?25hRequirement already satisfied: ftfy<7.0,>=6.0 in /home/oonisim/conda/lib/python3.8/site-packages (from clean-text) (6.0.3)\n",
      "Requirement already satisfied: emoji in /home/oonisim/conda/lib/python3.8/site-packages (from clean-text) (1.2.0)\n",
      "Requirement already satisfied: wcwidth in /home/oonisim/conda/lib/python3.8/site-packages (from ftfy<7.0,>=6.0->clean-text) (0.2.5)\n",
      "Installing collected packages: unidecode\n",
      "Successfully installed unidecode-1.2.0\n"
     ]
    }
   ],
   "source": [
    "!pip install clean-text unidecode"
   ]
  },
  {
   "cell_type": "code",
   "execution_count": 15,
   "id": "06099735",
   "metadata": {},
   "outputs": [],
   "source": [
    "import re\n",
    "from cleantext import clean"
   ]
  },
  {
   "cell_type": "code",
   "execution_count": 68,
   "id": "cb010011",
   "metadata": {},
   "outputs": [
    {
     "data": {
      "text/plain": [
       "'zurich has a famous website httpswwwzuerichcom which accepts and adding a random string abcdefghizero for this demo takohogegmailcom i wont pierod'"
      ]
     },
     "execution_count": 68,
     "metadata": {},
     "output_type": "execute_result"
    }
   ],
   "source": [
    "sentence = \"\"\"\n",
    "Zürich has a famous website https://www.zuerich.com/ \n",
    "WHICH ACCEPTS 40,000 € and adding a random string, :\n",
    "abc123def456ghi789zero0 for this demo. !!!&*^% tako.hoge@gmail.com' \n",
    "I Won't !*%$^&*#$#!!! ?? ? ~!@#$%^&*()_=+\\[\\]{}\\\\\\|;:\\-\"\\'<>.,/? pierod.\n",
    "\"\"\"\n",
    "\n",
    "def clean_text(sentences):\n",
    "    sentences = re.sub(r'[~=+|<>.^]+', \"\", sentences)\n",
    "    sentences = clean(sentences,\n",
    "        fix_unicode=True,               # fix various unicode errors\n",
    "        to_ascii=True,                  # transliterate to closest ASCII representation\n",
    "        lower=True,                     # lowercase text\n",
    "        no_line_breaks=True,            # fully strip line breaks as opposed to only normalizing them\n",
    "        no_urls=True,                   # replace all URLs with a special token\n",
    "        no_emails=True,                 # replace all email addresses with a special token\n",
    "        no_phone_numbers=True,          # replace all phone numbers with a special token\n",
    "        no_numbers=True,                # replace all numbers with a special token\n",
    "        no_digits=True,                 # replace all digits with a special token\n",
    "        no_currency_symbols=True,       # replace all currency symbols with a special token\n",
    "        no_punct=True,                  # remove punctuations\n",
    "        replace_with_punct=\"\",          # instead of removing punctuations you may replace them\n",
    "        replace_with_url=\"<URL>\",\n",
    "        replace_with_email=\"<EMAIL>\",\n",
    "        replace_with_phone_number=\"<PHONE>\",\n",
    "        replace_with_number=\"\",\n",
    "        replace_with_digit=\"\",\n",
    "        replace_with_currency_symbol=\"\",\n",
    "        lang=\"en\"                       # set to 'de' for German special handling\n",
    "    )\n",
    "    return sentences\n",
    "\n",
    "clean_text_comment(sentence)"
   ]
  },
  {
   "cell_type": "code",
   "execution_count": 39,
   "id": "c0f04f99",
   "metadata": {},
   "outputs": [],
   "source": [
    "def decontracted(sentences):\n",
    "    sentences = sentences.lower()\n",
    "    # specific\n",
    "    sentences = re.sub(r\"won\\'t\", \"will not\", sentences)\n",
    "    sentences = re.sub(r\"can\\'t\", \"can not\", sentences)\n",
    "    # general\n",
    "    sentences = re.sub(r\"n\\'t\", \" not\", sentences)\n",
    "    sentences = re.sub(r\"\\'re\", \" are\", sentences)\n",
    "    sentences = re.sub(r\"\\'s\", \" is\", sentences)\n",
    "    sentences = re.sub(r\"\\'d\", \" would\", sentences)\n",
    "    sentences = re.sub(r\"\\'ll\", \" will\", sentences)\n",
    "    sentences = re.sub(r\"\\'t\", \" not\", sentences)\n",
    "    sentences = re.sub(r\"\\'ve\", \" have\", sentences)\n",
    "    sentences = re.sub(r\"\\'m\", \" am\", sentences)\n",
    "    return sentences\n"
   ]
  },
  {
   "cell_type": "code",
   "execution_count": 38,
   "id": "14cf819d",
   "metadata": {},
   "outputs": [
    {
     "data": {
      "text/plain": [
       "'i will not'"
      ]
     },
     "execution_count": 38,
     "metadata": {},
     "output_type": "execute_result"
    }
   ],
   "source": [
    "clean_text_comment(decontracted(\"I Won't !!!!\"))"
   ]
  },
  {
   "cell_type": "code",
   "execution_count": null,
   "id": "582cb9c0",
   "metadata": {},
   "outputs": [],
   "source": []
  }
 ],
 "metadata": {
  "kernelspec": {
   "display_name": "Python 3",
   "language": "python",
   "name": "python3"
  },
  "language_info": {
   "codemirror_mode": {
    "name": "ipython",
    "version": 3
   },
   "file_extension": ".py",
   "mimetype": "text/x-python",
   "name": "python",
   "nbconvert_exporter": "python",
   "pygments_lexer": "ipython3",
   "version": "3.8.8"
  }
 },
 "nbformat": 4,
 "nbformat_minor": 5
}
