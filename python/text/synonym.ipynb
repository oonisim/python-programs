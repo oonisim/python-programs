{
 "cells": [
  {
   "cell_type": "code",
   "execution_count": 3,
   "id": "205e2916",
   "metadata": {},
   "outputs": [],
   "source": [
    "from itertools import chain\n",
    "from nltk.corpus import wordnet"
   ]
  },
  {
   "cell_type": "code",
   "execution_count": 8,
   "id": "3e075ccc",
   "metadata": {},
   "outputs": [
    {
     "data": {
      "text/plain": [
       "{'bang',\n",
       " 'beef',\n",
       " 'bitch',\n",
       " 'boot',\n",
       " 'charge',\n",
       " 'complain',\n",
       " 'flush',\n",
       " 'give_up',\n",
       " 'gripe',\n",
       " 'kick',\n",
       " 'kick_back',\n",
       " 'kicking',\n",
       " 'kvetch',\n",
       " 'plain',\n",
       " 'quetch',\n",
       " 'recoil',\n",
       " 'rush',\n",
       " 'sound_off',\n",
       " 'squawk',\n",
       " 'thrill'}"
      ]
     },
     "execution_count": 8,
     "metadata": {},
     "output_type": "execute_result"
    }
   ],
   "source": [
    "synonyms = wordnet.synsets('kick')\n",
    "set(chain.from_iterable([word.lemma_names() for word in synonyms]))"
   ]
  }
 ],
 "metadata": {
  "kernelspec": {
   "display_name": "Python 3",
   "language": "python",
   "name": "python3"
  },
  "language_info": {
   "codemirror_mode": {
    "name": "ipython",
    "version": 3
   },
   "file_extension": ".py",
   "mimetype": "text/x-python",
   "name": "python",
   "nbconvert_exporter": "python",
   "pygments_lexer": "ipython3",
   "version": "3.8.10"
  }
 },
 "nbformat": 4,
 "nbformat_minor": 5
}
