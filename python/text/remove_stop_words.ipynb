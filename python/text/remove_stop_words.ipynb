{
 "cells": [
  {
   "cell_type": "markdown",
   "id": "ed7004ab",
   "metadata": {},
   "source": [
    "* [List of English Stop Words](https://xpo6.com/list-of-english-stop-words/)\n",
    "> Stop Words are words which do not contain important significance to be used in Search Queries. Usually these words are filtered out from search queries because they return vast amount of unnecessary information. A better definition is provided below:\n",
    ">\n",
    ">“Words that do not appear in the index in a particular database because they are either insignificant (i.e., articles, prepositions) or so common that the results would be higher than the system can handle (as in the case of IUCAT where terms such as United States or Department are stop words in keyword searching.) Stop words vary from system to system. Also, some systems will merely ignore stop words where use of stop words in other systems will result in retrieving zero hits. ”\n",
    ">\n",
    "> http://www.iusb.edu/~libg/instruction/helpguide/handouts/2005Boolean.shtml\n",
    "\n",
    "* [How to remove stop words using nltk or python](https://stackoverflow.com/questions/5486337/how-to-remove-stop-words-using-nltk-or-python)"
   ]
  },
  {
   "cell_type": "code",
   "execution_count": null,
   "id": "254fb734",
   "metadata": {},
   "outputs": [],
   "source": [
    "!pip install nltk"
   ]
  },
  {
   "cell_type": "code",
   "execution_count": 2,
   "id": "64e58c9d",
   "metadata": {},
   "outputs": [
    {
     "name": "stderr",
     "output_type": "stream",
     "text": [
      "[nltk_data] Downloading package stopwords to\n",
      "[nltk_data]     /home/oonisim/nltk_data...\n",
      "[nltk_data]   Package stopwords is already up-to-date!\n"
     ]
    }
   ],
   "source": [
    "import nltk\n",
    "nltk.download('stopwords')\n",
    "from nltk.corpus import stopwords"
   ]
  },
  {
   "cell_type": "code",
   "execution_count": 6,
   "id": "1108010d",
   "metadata": {},
   "outputs": [
    {
     "name": "stdout",
     "output_type": "stream",
     "text": [
      "player playing baseball among people\n"
     ]
    }
   ],
   "source": [
    "sentence = \"A player is playing the baseball among the people for a while\"\n",
    "filtered_words = [word for word in sentence.lower().split(\" \") if word not in stopwords.words('english')]\n",
    "print(\" \".join(filtered_words))    "
   ]
  },
  {
   "cell_type": "code",
   "execution_count": null,
   "id": "1e0892e0",
   "metadata": {},
   "outputs": [],
   "source": []
  }
 ],
 "metadata": {
  "kernelspec": {
   "display_name": "Python 3",
   "language": "python",
   "name": "python3"
  },
  "language_info": {
   "codemirror_mode": {
    "name": "ipython",
    "version": 3
   },
   "file_extension": ".py",
   "mimetype": "text/x-python",
   "name": "python",
   "nbconvert_exporter": "python",
   "pygments_lexer": "ipython3",
   "version": "3.8.8"
  }
 },
 "nbformat": 4,
 "nbformat_minor": 5
}
