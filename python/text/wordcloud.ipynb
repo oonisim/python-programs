{
 "cells": [
  {
   "cell_type": "code",
   "execution_count": null,
   "id": "e03451dc",
   "metadata": {},
   "outputs": [],
   "source": []
  },
  {
   "cell_type": "markdown",
   "id": "2f66f2b0",
   "metadata": {},
   "source": [
    "* [Create a Word Cloud or Tag Cloud in Python](https://www.analyticsvidhya.com/blog/2020/10/word-cloud-or-tag-cloud-in-python/)"
   ]
  },
  {
   "cell_type": "markdown",
   "id": "8d91cc0a",
   "metadata": {},
   "source": [
    "* [Python: wordcloud, repetitve words](https://stackoverflow.com/questions/43954114/python-wordcloud-repetitve-words)\n",
    "\n",
    "> There are repetitive words and why they are not counted together and are shown then as one word.<br><br>\n",
    "> [A]  \n",
    "> That is a feature called 'collocations' in the word_cloud project. You can turn it off by setting collocations=False, like this:\n",
    ">\n",
    ">```\n",
    ">wordcloud = WordCloud(collocations=False).generate(word_string)\n",
    ">```\n",
    ">This will get rid of words that are frequently grouped together in your text. It will get rid of some things you probably don't like, for instance, \"oh oh\" and it will get rid of some others that you may like, for instance, \"black culture\""
   ]
  },
  {
   "cell_type": "code",
   "execution_count": null,
   "id": "fcf56602",
   "metadata": {},
   "outputs": [],
   "source": []
  }
 ],
 "metadata": {
  "kernelspec": {
   "display_name": "Python 3",
   "language": "python",
   "name": "python3"
  },
  "language_info": {
   "codemirror_mode": {
    "name": "ipython",
    "version": 3
   },
   "file_extension": ".py",
   "mimetype": "text/x-python",
   "name": "python",
   "nbconvert_exporter": "python",
   "pygments_lexer": "ipython3",
   "version": "3.8.8"
  }
 },
 "nbformat": 4,
 "nbformat_minor": 5
}
