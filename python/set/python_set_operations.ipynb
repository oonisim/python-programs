{
 "cells": [
  {
   "cell_type": "markdown",
   "id": "ea9816be",
   "metadata": {},
   "source": [
    "# Python set operations\n",
    "\n",
    "* [Sets in Python](https://realpython.com/python-sets/)"
   ]
  },
  {
   "cell_type": "markdown",
   "id": "5cc78246",
   "metadata": {},
   "source": [
    "# Union (OR)\n",
    "\n",
    "<img src=\"./image/union.jpg\" align=\"left\" width=400 />"
   ]
  },
  {
   "cell_type": "markdown",
   "id": "52f8dda3",
   "metadata": {},
   "source": [
    "# Intersection (AND)\n",
    "\n",
    "<img src=\"./image/intersection.jpg\" align=\"left\" width=400 />"
   ]
  },
  {
   "cell_type": "markdown",
   "id": "56a9d47f",
   "metadata": {},
   "source": [
    "# Difference (MINUS)\n",
    "\n",
    "\n",
    "<img src=\"./image/difference.jpg\" align=\"left\" width=400 />"
   ]
  },
  {
   "cell_type": "markdown",
   "id": "f62c3b75",
   "metadata": {},
   "source": [
    "# XOR\n",
    "\n",
    "<img src=\"./image/xor.jpg\" align=\"left\" width=400 />"
   ]
  },
  {
   "cell_type": "markdown",
   "id": "5fb6bd63",
   "metadata": {},
   "source": [
    "# x1 > x2 (Superset)\n",
    "\n",
    "Determines whether one set is a proper superset of the other."
   ]
  },
  {
   "cell_type": "markdown",
   "id": "d434da25",
   "metadata": {},
   "source": [
    "# x1 <= x2 (Subset)\n",
    "x1.issubset(x2)\n",
    "\n"
   ]
  },
  {
   "cell_type": "code",
   "execution_count": null,
   "id": "b288164d",
   "metadata": {},
   "outputs": [],
   "source": []
  }
 ],
 "metadata": {
  "kernelspec": {
   "display_name": "Python 3 (ipykernel)",
   "language": "python",
   "name": "python3"
  },
  "language_info": {
   "codemirror_mode": {
    "name": "ipython",
    "version": 3
   },
   "file_extension": ".py",
   "mimetype": "text/x-python",
   "name": "python",
   "nbconvert_exporter": "python",
   "pygments_lexer": "ipython3",
   "version": "3.8.10"
  }
 },
 "nbformat": 4,
 "nbformat_minor": 5
}
