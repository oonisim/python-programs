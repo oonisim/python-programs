{
 "cells": [
  {
   "cell_type": "markdown",
   "id": "a44d3bc5",
   "metadata": {},
   "source": [
    "# Singleton\n",
    "\n",
    "1. Module Singleton\n",
    "2. Class Singleton\n",
    "3. Metaclass Singleton\n",
    "\n",
    "\n",
    "* [Creating a singleton in Python](https://stackoverflow.com/questions/6760685/creating-a-singleton-in-python)"
   ]
  },
  {
   "cell_type": "markdown",
   "id": "8058bd08",
   "metadata": {},
   "source": [
    "# Module singleton\n",
    "\n",
    "In Python, **module is singleton**. The Python runtime loads the module only once and its variables are shared among all other modules that import it."
   ]
  },
  {
   "cell_type": "code",
   "execution_count": 1,
   "id": "42c20f26",
   "metadata": {},
   "outputs": [
    {
     "name": "stdout",
     "output_type": "stream",
     "text": [
      "Overwriting singleton.py\n"
     ]
    }
   ],
   "source": [
    "%%writefile singleton.py\n",
    "__environment = None\n",
    "__project_id = None\n",
    "\n",
    "\n",
    "def init(environment: str, project_id: str):\n",
    "    # Access outer scope module variables\n",
    "    global __environment, __project_id\n",
    "    __environment = environment\n",
    "    __project_id = project_id\n",
    "\n",
    "\n",
    "def get():\n",
    "    return __environment, __project_id\n"
   ]
  },
  {
   "cell_type": "code",
   "execution_count": 2,
   "id": "f8b4cbb1",
   "metadata": {},
   "outputs": [],
   "source": [
    "import singleton"
   ]
  },
  {
   "cell_type": "markdown",
   "id": "58ed3337",
   "metadata": {},
   "source": [
    "## Verify the module variables are not initialized"
   ]
  },
  {
   "cell_type": "code",
   "execution_count": 3,
   "id": "68494fb3",
   "metadata": {},
   "outputs": [
    {
     "data": {
      "text/plain": [
       "(None, None)"
      ]
     },
     "execution_count": 3,
     "metadata": {},
     "output_type": "execute_result"
    }
   ],
   "source": [
    "singleton.get()"
   ]
  },
  {
   "cell_type": "markdown",
   "id": "f47e0e11",
   "metadata": {},
   "source": [
    "## Initialize the module variables"
   ]
  },
  {
   "cell_type": "code",
   "execution_count": 4,
   "id": "dd936305",
   "metadata": {},
   "outputs": [
    {
     "data": {
      "text/plain": [
       "('env', 'hoge')"
      ]
     },
     "execution_count": 4,
     "metadata": {},
     "output_type": "execute_result"
    }
   ],
   "source": [
    "singleton.init(\"env\", project_id=\"hoge\")\n",
    "singleton.get()"
   ]
  },
  {
   "cell_type": "markdown",
   "id": "41218453",
   "metadata": {},
   "source": [
    "---"
   ]
  },
  {
   "cell_type": "markdown",
   "id": "48205902",
   "metadata": {},
   "source": [
    "# Metacalss singleton\n",
    "\n",
    "* [Creating a singleton in Python](https://stackoverflow.com/questions/6760685/creating-a-singleton-in-python)"
   ]
  },
  {
   "cell_type": "code",
   "execution_count": 7,
   "id": "5b4b3228",
   "metadata": {},
   "outputs": [],
   "source": [
    "class Singleton(type):\n",
    "    _instances = {}\n",
    "\n",
    "    def __call__(cls, *args, **kwargs):\n",
    "        if cls not in cls._instances:\n",
    "            cls._instances[cls] = super(Singleton, cls).__call__(*args, **kwargs)\n",
    "        return cls._instances[cls]\n",
    "\n",
    "\n",
    "class Utility(metaclass=Singleton):\n",
    "    def init(self, env: str, project_id: str):\n",
    "        self._env = env\n",
    "        self._project_id = project_id\n",
    "        \n",
    "        return self\n",
    "\n",
    "    def get(self):\n",
    "        return self._env, self._project_id\n"
   ]
  },
  {
   "cell_type": "code",
   "execution_count": 10,
   "id": "bdc7215b",
   "metadata": {},
   "outputs": [
    {
     "data": {
      "text/plain": [
       "('dev', 'hoge')"
      ]
     },
     "execution_count": 10,
     "metadata": {},
     "output_type": "execute_result"
    }
   ],
   "source": [
    "Utility().init(env=\"dev\", project_id=\"hoge\").get()"
   ]
  },
  {
   "cell_type": "code",
   "execution_count": 11,
   "id": "f1e29f7d",
   "metadata": {},
   "outputs": [],
   "source": [
    "util = Utility()"
   ]
  },
  {
   "cell_type": "code",
   "execution_count": 12,
   "id": "32dc808e",
   "metadata": {},
   "outputs": [
    {
     "data": {
      "text/plain": [
       "('dev', 'hoge')"
      ]
     },
     "execution_count": 12,
     "metadata": {},
     "output_type": "execute_result"
    }
   ],
   "source": [
    "util.get()"
   ]
  }
 ],
 "metadata": {
  "kernelspec": {
   "display_name": "Python 3 (ipykernel)",
   "language": "python",
   "name": "python3"
  },
  "language_info": {
   "codemirror_mode": {
    "name": "ipython",
    "version": 3
   },
   "file_extension": ".py",
   "mimetype": "text/x-python",
   "name": "python",
   "nbconvert_exporter": "python",
   "pygments_lexer": "ipython3",
   "version": "3.9.12"
  }
 },
 "nbformat": 4,
 "nbformat_minor": 5
}
