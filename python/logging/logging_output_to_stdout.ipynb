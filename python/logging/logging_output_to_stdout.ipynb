{
 "cells": [
  {
   "cell_type": "markdown",
   "id": "99667fd7",
   "metadata": {},
   "source": [
    "# How to output logging to stdout\n",
    "* [Making Python loggers output all messages to stdout](https://stackoverflow.com/a/14058475)\n",
    "\n",
    "> All logging output is handled by the handlers; just add a logging.StreamHandler() to the root logger. Here's an example configuring a stream handler (using stdout instead of the default stderr) and adding it to the root logger:\n",
    "\n",
    "```\n",
    "import logging\n",
    "import sys\n",
    "\n",
    "root = logging.getLogger()\n",
    "root.setLevel(logging.DEBUG)\n",
    "\n",
    "handler = logging.StreamHandler(sys.stdout)\n",
    "handler.setLevel(logging.DEBUG)\n",
    "formatter = logging.Formatter('%(asctime)s - %(name)s - %(levelname)s - %(message)s')\n",
    "handler.setFormatter(formatter)\n",
    "root.addHandler(handler)\n",
    "```"
   ]
  },
  {
   "cell_type": "code",
   "execution_count": 2,
   "id": "8a454381",
   "metadata": {},
   "outputs": [],
   "source": [
    "import sys\n",
    "import logging\n",
    "\n",
    "logging.basicConfig(level=logging.DEBUG)\n",
    "handler = logging.StreamHandler(sys.stdout)\n",
    "\n",
    "logger = logging.getLogger(__name__)\n",
    "logger.addHandler(handler)"
   ]
  },
  {
   "cell_type": "code",
   "execution_count": 4,
   "id": "04bb2122",
   "metadata": {},
   "outputs": [
    {
     "name": "stdout",
     "output_type": "stream",
     "text": [
      "hoge\n"
     ]
    },
    {
     "name": "stderr",
     "output_type": "stream",
     "text": [
      "DEBUG:__main__:hoge\n"
     ]
    },
    {
     "name": "stdout",
     "output_type": "stream",
     "text": [
      "hoge\n",
      "tako\n"
     ]
    },
    {
     "name": "stderr",
     "output_type": "stream",
     "text": [
      "DEBUG:__main__:tako\n"
     ]
    },
    {
     "name": "stdout",
     "output_type": "stream",
     "text": [
      "tako\n"
     ]
    }
   ],
   "source": [
    "logger.debug(\"hoge\")\n",
    "print(\"hoge\")\n",
    "\n",
    "logger.debug(\"tako\")\n",
    "print(\"tako\")\n"
   ]
  }
 ],
 "metadata": {
  "kernelspec": {
   "display_name": "Python 3 (ipykernel)",
   "language": "python",
   "name": "python3"
  },
  "language_info": {
   "codemirror_mode": {
    "name": "ipython",
    "version": 3
   },
   "file_extension": ".py",
   "mimetype": "text/x-python",
   "name": "python",
   "nbconvert_exporter": "python",
   "pygments_lexer": "ipython3",
   "version": "3.8.10"
  }
 },
 "nbformat": 4,
 "nbformat_minor": 5
}
