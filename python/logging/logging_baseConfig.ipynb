{
 "cells": [
  {
   "cell_type": "markdown",
   "id": "97cd7caa",
   "metadata": {},
   "source": [
    "# logging.basicConfig(**kwargs)\n",
    "\n",
    "* [logging.basicConfig(**kwargs](https://docs.python.org/3/library/logging.html#logging.basicConfig)\n",
    "\n",
    "> This function does **NOTHING if the root logger already has handlers configured**, unless the keyword argument **force is set to True**.\n",
    "\n",
    "| Format | Description |  |\n",
    "|:---|:---|:---|\n",
    "| filename | Specifies that a FileHandler be created, using the specified filename, rather than a StreamHandler. |  |\n",
    "| filemode | If filename is specified, open the file in this mode. Defaults to 'a'. |  |\n",
    "| format | Use the specified format string for the handler. Defaults to attributes levelname, name and message separated by colons. |  |\n",
    "| datefmt | Use the specified date/time format, as accepted by time.strftime(). |  |\n",
    "| style | If format is specified, use this style for the format string. One of '%', '{' or '$' for printf-style, str.format() or string.Template respectively. Defaults to '%'. |  |\n",
    "| level | Set the root logger level to the specified level. |  |\n",
    "| stream | Use the specified stream to initialize the StreamHandler. Note that this argument is incompatible with filename - if both are present, a ValueError is raised. |  |\n",
    "| handlers | If specified, this should be an iterable of already created handlers to add to the root logger. Any handlers which don’t already have a formatter set will be assigned the default formatter created in this function. Note that this argument is incompatible with filename or stream - if both are present, a ValueError is raised. |  |\n",
    "| force | If this keyword argument is specified as true, any existing handlers attached to the root logger are removed and closed, before carrying out the configuration as specified by the other arguments. |  |\n",
    "| encoding | If this keyword argument is specified along with filename, its value is used when the FileHandler is created, and thus used when opening the output file. |  |\n",
    "| errors | If this keyword argument is specified along with filename, its value is used when the FileHandler is created, and thus used when opening the output file. If not specified, the value ‘backslashreplace’ is used. Note that if None is specified, it will be passed as such to open(), which means that it will be treated the same as passing ‘errors’. |  |"
   ]
  },
  {
   "cell_type": "code",
   "execution_count": null,
   "id": "1c7b7fc1",
   "metadata": {},
   "outputs": [],
   "source": []
  }
 ],
 "metadata": {
  "kernelspec": {
   "display_name": "Python 3",
   "language": "python",
   "name": "python3"
  },
  "language_info": {
   "codemirror_mode": {
    "name": "ipython",
    "version": 3
   },
   "file_extension": ".py",
   "mimetype": "text/x-python",
   "name": "python",
   "nbconvert_exporter": "python",
   "pygments_lexer": "ipython3",
   "version": "3.7.9"
  }
 },
 "nbformat": 4,
 "nbformat_minor": 5
}
