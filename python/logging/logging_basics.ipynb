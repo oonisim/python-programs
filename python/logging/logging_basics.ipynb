{
 "cells": [
  {
   "cell_type": "markdown",
   "metadata": {},
   "source": [
    "# Logging Structure\n",
    "\n",
    "* [logging — Logging facility for Python](https://docs.python.org/3/library/logging.html#module-logging)\n",
    "\n",
    "> This page contains the API reference information. \n",
    "> * [Basic Tutorial](https://docs.python.org/3/howto/logging.html#logging-basic-tutorial)\n",
    "> * [Advanced Tutorial](https://docs.python.org/3/howto/logging.html#logging-advanced-tutorial)\n",
    "> * [Logging Cookbook](https://docs.python.org/3/howto/logging-cookbook.html#logging-cookbook)\n",
    "\n",
    "\n",
    "## Components\n",
    "\n",
    "1. **LogRecord** represents the vent to report.\n",
    "2. **Loggers** expose the interface that application code directly uses.\n",
    "3. **Handlers** send the log records (created by loggers) to the appropriate destination.\n",
    "4. **Filters** provide a finer grained facility for determining which log records to output.\n",
    "5. **Formatters** specify the layout of log records in the final output.\n",
    "\n",
    "\n",
    "# [LogRecord](https://docs.python.org/3/library/logging.html#logging.LogRecord)\n",
    "\n",
    "> LogRecord instances are created automatically by the Logger every time something is logged, and can be created manually via makeLogRecord() (for example, from a pickled event received over the wire).\n",
    "> * name – The name of the logger used to log the event represented by this LogRecord. Note that this name will always have this value, even though it may be emitted by a handler attached to a different (ancestor) logger.\n",
    "> * level – The numeric level of the logging event (one of DEBUG, INFO etc.) Note that this is converted to two attributes of the LogRecord: levelno for the numeric value and levelname for the corresponding level name.\n",
    "> * pathname – The full pathname of the source file where the logging call was made.\n",
    "> * lineno – The line number in the source file where the logging call was made.\n",
    "> * msg – The event description message, possibly a format string with placeholders for variable data.\n",
    "> * args – Variable data to merge into the msg argument to obtain the event description.\n",
    "> * exc_info – An exception tuple with the current exception information, or None if no exception information is available.\n",
    "> * func – The name of the function or method from which the logging call was invoked.\n",
    "> * sinfo – A text string representing stack information from the base of the stack in the current thread, up to the logging call.\n",
    "\n",
    "# [Logger](https://docs.python.org/3/library/logging.html#logger-objects)\n",
    "\n",
    "```logging.getLogger(__name__)``` with the same name always returns a reference to the same Logger object.\n",
    "\n",
    "### name\n",
    "\n",
    "**name** should **reflect module hierarchy** with period-separated e.g. foo.bar.baz, because loggers with names of foo.bar, foo.bar.baz, and foo.bam are all **descendants** of foo.\n",
    "\n",
    "### [propagate](https://docs.python.org/3/library/logging.html#logging.Logger.propagate)\n",
    "\n",
    "> If this attribute **evaluates to true, events logged to this logger will be passed to the handlers** of higher level (ancestor) loggers, in addition to any handlers attached to this logger. Messages are passed directly to the ancestor loggers’ handlers - neither the level nor filters of the ancestor loggers in question are considered.\n",
    "\n",
    "\n",
    "### [handle](https://docs.python.org/3/library/logging.html#logging.Logger.handle)\n",
    "\n",
    "> Pass log events to all handlers associated with this logger **and its ancestors**\n",
    "\n",
    "### [getChild(suffix)](https://docs.python.org/3/library/logging.html#logging.Logger.getChild)\n",
    "\n",
    "> Returns a logger which is a descendant to this logger\n",
    "\n",
    "### [addFilter](https://docs.python.org/3/library/logging.html#logging.Logger.addFilter)\n",
    "\n",
    "> Adds the specified filter filter to this logger.\n",
    "\n",
    "# [Handler](https://docs.python.org/3/library/logging.handlers.html#module-logging.handlers)\n",
    "\n",
    "> For a list of handlers included as standard, see [logging.handlers](https://docs.python.org/3/library/logging.handlers.html#module-logging.handlers).\n",
    "\n",
    "# [Formatter](https://docs.python.org/3/library/logging.html#formatter-objects)\n",
    "\n",
    "> Responsible for **converting a LogRecord** to what can be interpreted by either a human or an external system. \n",
    "\n",
    "\n",
    "# [Filter](https://docs.python.org/3/library/logging.html#filter-objects)\n",
    "\n",
    "Controls how the logging events flow through the logger hierarchy. A filter initialized with ```A.B``` allows events loggers ```A.B```, ```A.B.C```, ```A.B.C.D```, ```A.B.D```, but not ```A.BB```, ```B.A.B``` etc. If initialized with the empty string, all events are passed.\n",
    "\n",
    "> Note that filters attached to handlers are consulted before an event is emitted by the handler, whereas filters attached to loggers are consulted whenever an event is logged (using debug(), info(), etc.), before sending an event to handlers. This means that events which have been generated by descendant loggers will not be filtered by a logger’s filter setting, unless the filter has also been applied to those descendant loggers."
   ]
  },
  {
   "cell_type": "markdown",
   "metadata": {},
   "source": [
    "---\n",
    "# [Thread safety](https://docs.python.org/3/library/logging.html#thread-safety)\n",
    "\n",
    "> The logging module is intended to be thread-safe without any special work needing to be done by its clients. "
   ]
  },
  {
   "cell_type": "markdown",
   "metadata": {},
   "source": [
    "---\n",
    "# Standard practice\n",
    "\n",
    "* [Advanced Logging Tutoria](https://docs.python.org/3/howto/logging.html#logging-advanced-tutorial)\n",
    "\n",
    "## logger names reflect the package/module hierarchy\n",
    "                             \n",
    "A good convention to use when naming loggers is to use a module-level logger, in each module which uses logging, named as follows:\n",
    "\n",
    "```\n",
    "logger = logging.getLogger(__name__)\n",
    "```\n",
    "\n",
    "This means that logger names track the package/module hierarchy, and it’s intuitively obvious where events are logged just from the logger name."
   ]
  },
  {
   "cell_type": "markdown",
   "metadata": {},
   "source": [
    "---\n",
    "# basicConfig\n",
    "\n",
    "* [Basic Logging Tutorial](https://docs.python.org/3/howto/logging.html)\n"
   ]
  },
  {
   "cell_type": "code",
   "execution_count": null,
   "metadata": {},
   "outputs": [],
   "source": [
    "logging.basicConfig(filename='example.log', filemode='w', level=logging.DEBUG)"
   ]
  },
  {
   "cell_type": "markdown",
   "metadata": {},
   "source": [
    "---\n",
    "# Control logging\n",
    "\n",
    "* [Should be able to turn off logging #3050](https://github.com/huggingface/transformers/issues/3050#issuecomment-682167272)\n",
    "\n",
    "Usage:\n",
    "\n",
    "1. override all module-specific loggers to a desired level (except whatever got logged during modules importing)\n",
    "```\n",
    "import everything, you, need\n",
    "import logging\n",
    "set_global_logging_level(logging.ERROR)\n",
    "```\n",
    "\n",
    "2. In case of transformers you most likely need to call it as:\n",
    "```\n",
    "import transformers, torch, ...\n",
    "import logging\n",
    "set_global_logging_level(logging.ERROR, [\"transformers\", \"nlp\", \"torch\", \"tensorflow\", \"tensorboard\", \"wandb\"])\n",
    "```\n",
    "\n",
    "To disable logging globally - place at the beginning of the script\n",
    "```\n",
    "import logging\n",
    "logging.disable(logging.INFO) # disable INFO and DEBUG logging everywhere\n",
    "# or \n",
    "# logging.disable(logging.WARNING) # disable WARNING, INFO and DEBUG logging everywhere\n",
    "```"
   ]
  },
  {
   "cell_type": "code",
   "execution_count": 1,
   "metadata": {},
   "outputs": [],
   "source": [
    "import logging\n",
    "import re\n",
    "def set_global_logging_level(level=logging.ERROR, prefices=[\"\"]):\n",
    "    \"\"\"\n",
    "    Override logging levels of different modules based on their name as a prefix.\n",
    "    It needs to be invoked after the modules have been loaded so that their loggers have been initialized.\n",
    "\n",
    "    Args:\n",
    "        - level: desired level. e.g. logging.INFO. Optional. Default is logging.ERROR\n",
    "        - prefices: list of one or more str prefices to match (e.g. [\"transformers\", \"torch\"]). Optional.\n",
    "          Default is `[\"\"]` to match all active loggers.\n",
    "          The match is a case-sensitive `module_name.startswith(prefix)`\n",
    "    \"\"\"\n",
    "    prefix_re = re.compile(fr'^(?:{ \"|\".join(prefices) })')\n",
    "    for name in logging.root.manager.loggerDict:\n",
    "        if re.match(prefix_re, name):\n",
    "            logging.getLogger(name).setLevel(level)"
   ]
  },
  {
   "cell_type": "markdown",
   "metadata": {},
   "source": [
    "---\n",
    "# Optimization\n",
    "\n",
    "Formatting of message arguments is deferred until it cannot be avoided.Call the isEnabledFor() method.\n",
    "\n",
    "* [Logging - Optimization](https://docs.python.org/3/howto/logging.html#optimization)\n",
    "\n",
    "```\n",
    "if logger.isEnabledFor(logging.DEBUG):\n",
    "    logger.debug(\n",
    "        'Message with %s, %s', expensive_func1(), expensive_func2()\n",
    "    )\n",
    "```\n",
    "\n",
    "The calls to expensive_func1() and expensive_func2() are never made if the logger’s threshold is set above DEBUG."
   ]
  },
  {
   "cell_type": "code",
   "execution_count": null,
   "metadata": {},
   "outputs": [],
   "source": []
  }
 ],
 "metadata": {
  "kernelspec": {
   "display_name": "Python 3",
   "language": "python",
   "name": "python3"
  },
  "language_info": {
   "codemirror_mode": {
    "name": "ipython",
    "version": 3
   },
   "file_extension": ".py",
   "mimetype": "text/x-python",
   "name": "python",
   "nbconvert_exporter": "python",
   "pygments_lexer": "ipython3",
   "version": "3.7.9"
  }
 },
 "nbformat": 4,
 "nbformat_minor": 4
}
