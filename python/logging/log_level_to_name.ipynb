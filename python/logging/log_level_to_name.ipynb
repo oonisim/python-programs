{
 "cells": [
  {
   "cell_type": "code",
   "execution_count": 1,
   "id": "a9355d6c",
   "metadata": {},
   "outputs": [],
   "source": [
    "import logging"
   ]
  },
  {
   "cell_type": "code",
   "execution_count": 3,
   "id": "3e3d79bf",
   "metadata": {},
   "outputs": [],
   "source": [
    "def get_name_for_log_level(level: int) -> str:\n",
    "    \"\"\"Get log level name for the level\n",
    "    Args:\n",
    "        level: log level e.g. logging.DEBUG\n",
    "    Returns: log level name\n",
    "    \"\"\"\n",
    "    return logging.getLevelName(level)"
   ]
  },
  {
   "cell_type": "code",
   "execution_count": 8,
   "id": "80b577e5",
   "metadata": {},
   "outputs": [],
   "source": [
    "def get_level_for_log_level_name(name: str) -> int:\n",
    "    \"\"\"Get log level name for the level\n",
    "    Args:\n",
    "        str: log level name e.g. 'DEBUG'\n",
    "    Returns: log level\n",
    "    \"\"\"    \n",
    "    return getattr(logging, name)"
   ]
  },
  {
   "cell_type": "code",
   "execution_count": 9,
   "id": "0d942e9c",
   "metadata": {},
   "outputs": [
    {
     "data": {
      "text/plain": [
       "'DEBUG'"
      ]
     },
     "execution_count": 9,
     "metadata": {},
     "output_type": "execute_result"
    }
   ],
   "source": [
    "get_name_for_log_level(logging.DEBUG)"
   ]
  },
  {
   "cell_type": "code",
   "execution_count": 10,
   "id": "f5d1af0b",
   "metadata": {},
   "outputs": [
    {
     "data": {
      "text/plain": [
       "10"
      ]
     },
     "execution_count": 10,
     "metadata": {},
     "output_type": "execute_result"
    }
   ],
   "source": [
    "get_level_for_log_level_name(\"DEBUG\")"
   ]
  }
 ],
 "metadata": {
  "kernelspec": {
   "display_name": "Python 3",
   "language": "python",
   "name": "python3"
  },
  "language_info": {
   "codemirror_mode": {
    "name": "ipython",
    "version": 3
   },
   "file_extension": ".py",
   "mimetype": "text/x-python",
   "name": "python",
   "nbconvert_exporter": "python",
   "pygments_lexer": "ipython3",
   "version": "3.7.9"
  }
 },
 "nbformat": 4,
 "nbformat_minor": 5
}
