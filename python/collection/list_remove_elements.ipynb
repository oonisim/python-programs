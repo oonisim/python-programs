{
 "cells": [
  {
   "cell_type": "markdown",
   "metadata": {},
   "source": [
    "# Remove list elements from another list"
   ]
  },
  {
   "cell_type": "code",
   "execution_count": 1,
   "metadata": {},
   "outputs": [],
   "source": [
    "import copy\n",
    "import numpy as np\n",
    "import matplotlib.pyplot as plt "
   ]
  },
  {
   "cell_type": "code",
   "execution_count": 2,
   "metadata": {},
   "outputs": [],
   "source": [
    "import random\n",
    "#m = _max = 10000\n",
    "#n = random.randint(1, m)\n",
    "n = 10000\n",
    "_outer = random.sample(population=range(1, 2*n+1), k=2*n)\n",
    "inner = random.sample(population=range(1, n+1), k=n)\n",
    "\n",
    "_outer.sort()\n",
    "inner.sort()"
   ]
  },
  {
   "cell_type": "code",
   "execution_count": 3,
   "metadata": {},
   "outputs": [],
   "source": [
    "benchmark = [o for o in _outer if o not in inner]"
   ]
  },
  {
   "cell_type": "markdown",
   "metadata": {},
   "source": [
    "## List comprehention"
   ]
  },
  {
   "cell_type": "code",
   "execution_count": 4,
   "metadata": {},
   "outputs": [
    {
     "name": "stdout",
     "output_type": "stream",
     "text": [
      "1.77 s ± 115 ms per loop (mean ± std. dev. of 7 runs, 1 loop each)\n"
     ]
    }
   ],
   "source": [
    "%%timeit\n",
    "outer = copy.deepcopy(_outer)\n",
    "[o for o in outer if o not in inner]\n",
    "del outer"
   ]
  },
  {
   "cell_type": "markdown",
   "metadata": {},
   "source": [
    "## List.remove() "
   ]
  },
  {
   "cell_type": "code",
   "execution_count": 8,
   "metadata": {},
   "outputs": [
    {
     "name": "stdout",
     "output_type": "stream",
     "text": [
      "49 ms ± 2.87 ms per loop (mean ± std. dev. of 7 runs, 10 loops each)\n"
     ]
    }
   ],
   "source": [
    "%%timeit\n",
    "outer = copy.deepcopy(_outer)\n",
    "for i in inner:\n",
    "    outer.remove(i)\n",
    "\n",
    "assert outer == benchmark\n",
    "del outer"
   ]
  },
  {
   "cell_type": "markdown",
   "metadata": {},
   "source": [
    "## Set minus operation"
   ]
  },
  {
   "cell_type": "code",
   "execution_count": 6,
   "metadata": {},
   "outputs": [
    {
     "name": "stdout",
     "output_type": "stream",
     "text": [
      "11.2 ms ± 433 µs per loop (mean ± std. dev. of 7 runs, 100 loops each)\n"
     ]
    }
   ],
   "source": [
    "%%timeit\n",
    "outer = set(copy.deepcopy(_outer))\n",
    "outer -= set(inner)\n",
    "\n",
    "assert outer == set(benchmark)\n",
    "del outer"
   ]
  },
  {
   "cell_type": "markdown",
   "metadata": {},
   "source": [
    "## map(List.remove, another)\n",
    "\n",
    "* [Python 3 Map function is not Calling up function](https://stackoverflow.com/a/13623676/4281353)\n",
    "* [Why map(outer.remove, inner) does not work to remove inner from outer?](https://stackoverflow.com/questions/65894558/why-mapouter-remove-inner-does-not-work-to-remove-inner-from-outer)"
   ]
  },
  {
   "cell_type": "code",
   "execution_count": 7,
   "metadata": {},
   "outputs": [
    {
     "name": "stdout",
     "output_type": "stream",
     "text": [
      "48.4 ms ± 5.62 ms per loop (mean ± std. dev. of 7 runs, 10 loops each)\n"
     ]
    }
   ],
   "source": [
    "%%timeit\n",
    "outer = copy.deepcopy(_outer)\n",
    "\n",
    "# --------------------------------------------------------------------------------\n",
    "# map() returns a map object which is an iterator.\n",
    "# Until the iterator is consumed, nothing happens.\n",
    "# --------------------------------------------------------------------------------\n",
    "_map = map(outer.remove, inner)\n",
    "\n",
    "# --------------------------------------------------------------------------------\n",
    "# To applly the outer.remove, consume the iterator.\n",
    "# --------------------------------------------------------------------------------\n",
    "list(_map)\n",
    "\n",
    "# --------------------------------------------------------------------------------\n",
    "# Outer is updated via outer.remove after having consumed the iterator map object.\n",
    "# --------------------------------------------------------------------------------\n",
    "#print(outer)\n",
    "\n",
    "assert outer == benchmark\n",
    "del outer"
   ]
  }
 ],
 "metadata": {
  "kernelspec": {
   "display_name": "Python 3",
   "language": "python",
   "name": "python3"
  },
  "language_info": {
   "codemirror_mode": {
    "name": "ipython",
    "version": 3
   },
   "file_extension": ".py",
   "mimetype": "text/x-python",
   "name": "python",
   "nbconvert_exporter": "python",
   "pygments_lexer": "ipython3",
   "version": "3.8.5"
  }
 },
 "nbformat": 4,
 "nbformat_minor": 4
}
