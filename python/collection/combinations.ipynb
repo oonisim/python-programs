{
 "cells": [
  {
   "cell_type": "code",
   "execution_count": 2,
   "id": "quarterly-rouge",
   "metadata": {},
   "outputs": [],
   "source": [
    "from itertools import *"
   ]
  },
  {
   "cell_type": "markdown",
   "id": "bulgarian-healing",
   "metadata": {},
   "source": [
    "# product\n",
    "All possible (x1, x2) from elements in ```X = [...]``` allowing duplicates."
   ]
  },
  {
   "cell_type": "code",
   "execution_count": 7,
   "id": "every-harmony",
   "metadata": {},
   "outputs": [
    {
     "data": {
      "text/plain": [
       "[(0, 0), (0, 1), (0, 2), (1, 0), (1, 1), (1, 2), (2, 0), (2, 1), (2, 2)]"
      ]
     },
     "execution_count": 7,
     "metadata": {},
     "output_type": "execute_result"
    }
   ],
   "source": [
    "X = [0, 1, 2]\n",
    "list(product(X, repeat=2))"
   ]
  },
  {
   "cell_type": "markdown",
   "id": "median-consensus",
   "metadata": {},
   "source": [
    "# combinations\n",
    "All possible (x, x2) from elements in ```X=[...]``` without duplicates. e.g. no ```(1,1)``` or ```(0,0)```. Analogy is createing a team of N players. From ```[John, Casey, Lin]```, all possible combinations of a team with 2 players. You cannot create ```(John, John)```."
   ]
  },
  {
   "cell_type": "code",
   "execution_count": 5,
   "id": "quiet-offset",
   "metadata": {},
   "outputs": [
    {
     "data": {
      "text/plain": [
       "[(0, 1), (0, 2), (1, 2)]"
      ]
     },
     "execution_count": 5,
     "metadata": {},
     "output_type": "execute_result"
    }
   ],
   "source": [
    "list(combinations(X, 2))"
   ]
  }
 ],
 "metadata": {
  "kernelspec": {
   "display_name": "Python 3",
   "language": "python",
   "name": "python3"
  },
  "language_info": {
   "codemirror_mode": {
    "name": "ipython",
    "version": 3
   },
   "file_extension": ".py",
   "mimetype": "text/x-python",
   "name": "python",
   "nbconvert_exporter": "python",
   "pygments_lexer": "ipython3",
   "version": "3.8.5"
  }
 },
 "nbformat": 4,
 "nbformat_minor": 5
}
