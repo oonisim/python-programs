{
 "cells": [
  {
   "cell_type": "markdown",
   "id": "e217803a",
   "metadata": {},
   "source": [
    "# Assign tasks to N workers"
   ]
  },
  {
   "cell_type": "code",
   "execution_count": 1,
   "id": "7372f018",
   "metadata": {},
   "outputs": [],
   "source": [
    "import sys\n",
    "import random\n",
    "import logging\n",
    "\n",
    "logging.basicConfig(level=logging.DEBUG)\n",
    "logger = logging.getLogger(__name__)\n",
    "handler = logging.StreamHandler(sys.stdout)\n",
    "logger.addHandler(handler)\n",
    "\n",
    "def assign(tasks, num):\n",
    "    assert num > 0\n",
    "    assert len(tasks) > 0\n",
    "    logger.debug(f\"{num} workers work on {len(tasks)} tasks\")\n",
    "\n",
    "    # Total size of the tasks\n",
    "    total = len(tasks)\n",
    "    \n",
    "    # Each worker takes 'quota' size which can be zero if total < number of workers.\n",
    "    quota = int(total / num)\n",
    "\n",
    "    # Left over after each stakehodler takes its 'quota'\n",
    "    redisual = total % num\n",
    "\n",
    "    start = 0\n",
    "    while start < total:\n",
    "        # As long as redisual is there, each worker takes (quota + 1) as its task size.\n",
    "        if redisual > 0:\n",
    "            size = quota + 1 \n",
    "            redisual -= 1\n",
    "        else:\n",
    "            size = quota \n",
    "        \n",
    "        end = start + size\n",
    "        yield tasks[start : min(end, total)]\n",
    "\n",
    "        start = end\n",
    "        end += size\n"
   ]
  },
  {
   "cell_type": "code",
   "execution_count": 2,
   "id": "316c9b40",
   "metadata": {},
   "outputs": [],
   "source": [
    "def show_allocations(tasks, num_workers):\n",
    "    worker = 0\n",
    "    for assignment in assign(tasks, num_workers):\n",
    "        print(f\"stakehoder {worker:3} takes tasks {list(assignment)}\")\n",
    "        worker += 1"
   ]
  },
  {
   "cell_type": "code",
   "execution_count": 3,
   "id": "179343a0",
   "metadata": {},
   "outputs": [],
   "source": [
    "def generate_tasks_and_workers():\n",
    "    tasks = range(0, random.randint(1, 100))\n",
    "    num_workers = random.randint(1, 10) \n",
    "    return tasks, num_workers"
   ]
  },
  {
   "cell_type": "code",
   "execution_count": 5,
   "id": "fd5b20db",
   "metadata": {},
   "outputs": [
    {
     "name": "stdout",
     "output_type": "stream",
     "text": [
      "--------------------------------------------------------------------------------\n",
      "2 workers work on 84 tasks\n"
     ]
    },
    {
     "name": "stderr",
     "output_type": "stream",
     "text": [
      "DEBUG:__main__:2 workers work on 84 tasks\n"
     ]
    },
    {
     "name": "stdout",
     "output_type": "stream",
     "text": [
      "stakehoder   0 takes tasks [0, 1, 2, 3, 4, 5, 6, 7, 8, 9, 10, 11, 12, 13, 14, 15, 16, 17, 18, 19, 20, 21, 22, 23, 24, 25, 26, 27, 28, 29, 30, 31, 32, 33, 34, 35, 36, 37, 38, 39, 40, 41]\n",
      "stakehoder   1 takes tasks [42, 43, 44, 45, 46, 47, 48, 49, 50, 51, 52, 53, 54, 55, 56, 57, 58, 59, 60, 61, 62, 63, 64, 65, 66, 67, 68, 69, 70, 71, 72, 73, 74, 75, 76, 77, 78, 79, 80, 81, 82, 83]\n",
      "--------------------------------------------------------------------------------\n",
      "1 workers work on 68 tasks\n"
     ]
    },
    {
     "name": "stderr",
     "output_type": "stream",
     "text": [
      "DEBUG:__main__:1 workers work on 68 tasks\n"
     ]
    },
    {
     "name": "stdout",
     "output_type": "stream",
     "text": [
      "stakehoder   0 takes tasks [0, 1, 2, 3, 4, 5, 6, 7, 8, 9, 10, 11, 12, 13, 14, 15, 16, 17, 18, 19, 20, 21, 22, 23, 24, 25, 26, 27, 28, 29, 30, 31, 32, 33, 34, 35, 36, 37, 38, 39, 40, 41, 42, 43, 44, 45, 46, 47, 48, 49, 50, 51, 52, 53, 54, 55, 56, 57, 58, 59, 60, 61, 62, 63, 64, 65, 66, 67]\n",
      "--------------------------------------------------------------------------------\n",
      "3 workers work on 72 tasks\n"
     ]
    },
    {
     "name": "stderr",
     "output_type": "stream",
     "text": [
      "DEBUG:__main__:3 workers work on 72 tasks\n"
     ]
    },
    {
     "name": "stdout",
     "output_type": "stream",
     "text": [
      "stakehoder   0 takes tasks [0, 1, 2, 3, 4, 5, 6, 7, 8, 9, 10, 11, 12, 13, 14, 15, 16, 17, 18, 19, 20, 21, 22, 23]\n",
      "stakehoder   1 takes tasks [24, 25, 26, 27, 28, 29, 30, 31, 32, 33, 34, 35, 36, 37, 38, 39, 40, 41, 42, 43, 44, 45, 46, 47]\n",
      "stakehoder   2 takes tasks [48, 49, 50, 51, 52, 53, 54, 55, 56, 57, 58, 59, 60, 61, 62, 63, 64, 65, 66, 67, 68, 69, 70, 71]\n",
      "--------------------------------------------------------------------------------\n",
      "5 workers work on 81 tasks\n"
     ]
    },
    {
     "name": "stderr",
     "output_type": "stream",
     "text": [
      "DEBUG:__main__:5 workers work on 81 tasks\n"
     ]
    },
    {
     "name": "stdout",
     "output_type": "stream",
     "text": [
      "stakehoder   0 takes tasks [0, 1, 2, 3, 4, 5, 6, 7, 8, 9, 10, 11, 12, 13, 14, 15, 16]\n",
      "stakehoder   1 takes tasks [17, 18, 19, 20, 21, 22, 23, 24, 25, 26, 27, 28, 29, 30, 31, 32]\n",
      "stakehoder   2 takes tasks [33, 34, 35, 36, 37, 38, 39, 40, 41, 42, 43, 44, 45, 46, 47, 48]\n",
      "stakehoder   3 takes tasks [49, 50, 51, 52, 53, 54, 55, 56, 57, 58, 59, 60, 61, 62, 63, 64]\n",
      "stakehoder   4 takes tasks [65, 66, 67, 68, 69, 70, 71, 72, 73, 74, 75, 76, 77, 78, 79, 80]\n",
      "--------------------------------------------------------------------------------\n",
      "3 workers work on 9 tasks\n"
     ]
    },
    {
     "name": "stderr",
     "output_type": "stream",
     "text": [
      "DEBUG:__main__:3 workers work on 9 tasks\n"
     ]
    },
    {
     "name": "stdout",
     "output_type": "stream",
     "text": [
      "stakehoder   0 takes tasks [0, 1, 2]\n",
      "stakehoder   1 takes tasks [3, 4, 5]\n",
      "stakehoder   2 takes tasks [6, 7, 8]\n",
      "--------------------------------------------------------------------------------\n",
      "6 workers work on 75 tasks\n"
     ]
    },
    {
     "name": "stderr",
     "output_type": "stream",
     "text": [
      "DEBUG:__main__:6 workers work on 75 tasks\n"
     ]
    },
    {
     "name": "stdout",
     "output_type": "stream",
     "text": [
      "stakehoder   0 takes tasks [0, 1, 2, 3, 4, 5, 6, 7, 8, 9, 10, 11, 12]\n",
      "stakehoder   1 takes tasks [13, 14, 15, 16, 17, 18, 19, 20, 21, 22, 23, 24, 25]\n",
      "stakehoder   2 takes tasks [26, 27, 28, 29, 30, 31, 32, 33, 34, 35, 36, 37, 38]\n",
      "stakehoder   3 takes tasks [39, 40, 41, 42, 43, 44, 45, 46, 47, 48, 49, 50]\n",
      "stakehoder   4 takes tasks [51, 52, 53, 54, 55, 56, 57, 58, 59, 60, 61, 62]\n",
      "stakehoder   5 takes tasks [63, 64, 65, 66, 67, 68, 69, 70, 71, 72, 73, 74]\n",
      "--------------------------------------------------------------------------------\n",
      "7 workers work on 14 tasks\n"
     ]
    },
    {
     "name": "stderr",
     "output_type": "stream",
     "text": [
      "DEBUG:__main__:7 workers work on 14 tasks\n"
     ]
    },
    {
     "name": "stdout",
     "output_type": "stream",
     "text": [
      "stakehoder   0 takes tasks [0, 1]\n",
      "stakehoder   1 takes tasks [2, 3]\n",
      "stakehoder   2 takes tasks [4, 5]\n",
      "stakehoder   3 takes tasks [6, 7]\n",
      "stakehoder   4 takes tasks [8, 9]\n",
      "stakehoder   5 takes tasks [10, 11]\n",
      "stakehoder   6 takes tasks [12, 13]\n",
      "--------------------------------------------------------------------------------\n",
      "4 workers work on 12 tasks\n"
     ]
    },
    {
     "name": "stderr",
     "output_type": "stream",
     "text": [
      "DEBUG:__main__:4 workers work on 12 tasks\n"
     ]
    },
    {
     "name": "stdout",
     "output_type": "stream",
     "text": [
      "stakehoder   0 takes tasks [0, 1, 2]\n",
      "stakehoder   1 takes tasks [3, 4, 5]\n",
      "stakehoder   2 takes tasks [6, 7, 8]\n",
      "stakehoder   3 takes tasks [9, 10, 11]\n",
      "--------------------------------------------------------------------------------\n",
      "5 workers work on 81 tasks\n"
     ]
    },
    {
     "name": "stderr",
     "output_type": "stream",
     "text": [
      "DEBUG:__main__:5 workers work on 81 tasks\n"
     ]
    },
    {
     "name": "stdout",
     "output_type": "stream",
     "text": [
      "stakehoder   0 takes tasks [0, 1, 2, 3, 4, 5, 6, 7, 8, 9, 10, 11, 12, 13, 14, 15, 16]\n",
      "stakehoder   1 takes tasks [17, 18, 19, 20, 21, 22, 23, 24, 25, 26, 27, 28, 29, 30, 31, 32]\n",
      "stakehoder   2 takes tasks [33, 34, 35, 36, 37, 38, 39, 40, 41, 42, 43, 44, 45, 46, 47, 48]\n",
      "stakehoder   3 takes tasks [49, 50, 51, 52, 53, 54, 55, 56, 57, 58, 59, 60, 61, 62, 63, 64]\n",
      "stakehoder   4 takes tasks [65, 66, 67, 68, 69, 70, 71, 72, 73, 74, 75, 76, 77, 78, 79, 80]\n",
      "--------------------------------------------------------------------------------\n",
      "4 workers work on 81 tasks\n"
     ]
    },
    {
     "name": "stderr",
     "output_type": "stream",
     "text": [
      "DEBUG:__main__:4 workers work on 81 tasks\n"
     ]
    },
    {
     "name": "stdout",
     "output_type": "stream",
     "text": [
      "stakehoder   0 takes tasks [0, 1, 2, 3, 4, 5, 6, 7, 8, 9, 10, 11, 12, 13, 14, 15, 16, 17, 18, 19, 20]\n",
      "stakehoder   1 takes tasks [21, 22, 23, 24, 25, 26, 27, 28, 29, 30, 31, 32, 33, 34, 35, 36, 37, 38, 39, 40]\n",
      "stakehoder   2 takes tasks [41, 42, 43, 44, 45, 46, 47, 48, 49, 50, 51, 52, 53, 54, 55, 56, 57, 58, 59, 60]\n",
      "stakehoder   3 takes tasks [61, 62, 63, 64, 65, 66, 67, 68, 69, 70, 71, 72, 73, 74, 75, 76, 77, 78, 79, 80]\n"
     ]
    }
   ],
   "source": [
    "for i in range(0, 10):\n",
    "    print(\"-\" * 80)\n",
    "    show_allocations(*generate_tasks_and_workers())"
   ]
  },
  {
   "cell_type": "code",
   "execution_count": null,
   "id": "10785420",
   "metadata": {},
   "outputs": [],
   "source": []
  }
 ],
 "metadata": {
  "kernelspec": {
   "display_name": "Python 3 (ipykernel)",
   "language": "python",
   "name": "python3"
  },
  "language_info": {
   "codemirror_mode": {
    "name": "ipython",
    "version": 3
   },
   "file_extension": ".py",
   "mimetype": "text/x-python",
   "name": "python",
   "nbconvert_exporter": "python",
   "pygments_lexer": "ipython3",
   "version": "3.8.10"
  }
 },
 "nbformat": 4,
 "nbformat_minor": 5
}
