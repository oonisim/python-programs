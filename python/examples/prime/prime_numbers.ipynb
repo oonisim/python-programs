{
 "cells": [
  {
   "cell_type": "markdown",
   "metadata": {},
   "source": [
    "# Objective\n",
    "\n",
    "Gemerate prime numbers in-between 2 and the number N inclusive. Test multiple approaches and verify the performances.\n",
    "\n",
    "## Findings\n",
    "\n",
    "For N=10000\n",
    "\n",
    "\n",
    "1. Set minus/diff operation is fast. List remove is slow.\n",
    "   - Set vesion: ```4.13 ms ± 828 µs per loop (mean ± std. dev. of 7 runs, 100 loops each)```\n",
    "   - List version: ```523 ms ± 55.9 ms per loop (mean ± std. dev. of 7 runs, 1 loop each)```\n",
    "   - NumPy version: ```219 ms ± 44.3 ms per loop (mean ± std. dev. of 7 runs, 1 loop each)```\n",
    "   <br><br>\n",
    "2. numpy.meshgrid() requires larger memory (> 6x) which can crash Python if N is larger.\n",
    "   - Set version: ```peak memory: 94.82 MiB, increment: 0.22 MiB```\n",
    "   - Set version: ```peak memory: 94.98 MiB, increment: 0.02 MiB```\n",
    "   - Numpy version: ```peak memory: 690.38 MiB, increment: 572.00 MiB```\n"
   ]
  },
  {
   "cell_type": "code",
   "execution_count": 1,
   "metadata": {},
   "outputs": [],
   "source": [
    "from typing import (\n",
    "    List,\n",
    "    Iterable,\n",
    "    Set\n",
    ")\n",
    "import sys\n",
    "import random\n",
    "import logging\n",
    "import numpy as np\n",
    "import matplotlib.pyplot as plt "
   ]
  },
  {
   "cell_type": "markdown",
   "metadata": {},
   "source": [
    "# Constant"
   ]
  },
  {
   "cell_type": "code",
   "execution_count": 3,
   "metadata": {},
   "outputs": [],
   "source": [
    "# Max integer N up to which (inclusive) to generate the primes \n",
    "N = 10000\n",
    "LOG_LEVEL = logging.ERROR"
   ]
  },
  {
   "cell_type": "markdown",
   "metadata": {},
   "source": [
    "# Setup"
   ]
  },
  {
   "cell_type": "code",
   "execution_count": 2,
   "metadata": {},
   "outputs": [],
   "source": [
    "np.set_printoptions(threshold=sys.maxsize)\n",
    "np.set_printoptions(linewidth=80) \n",
    " \n",
    "#!conda install line_profile -c conda-forge\n",
    "%load_ext line_profiler\n",
    "%load_ext memory_profiler"
   ]
  },
  {
   "cell_type": "code",
   "execution_count": 4,
   "metadata": {},
   "outputs": [],
   "source": [
    "logging.basicConfig(level=LOG_LEVEL)\n",
    "LOGGER = logging.getLogger(__name__)"
   ]
  },
  {
   "cell_type": "markdown",
   "metadata": {},
   "source": [
    "# Approach 01\n",
    "\n",
    "* $\\mathbb{Z}$: Set of all integer numbers \n",
    "* $\\mathbb{P}$: Set of prime numbers\n",
    "* $\\mathbb{D}$: Set of divisible numbers\n",
    "\n",
    "For each prime number ```p``` (start from 2) in $\\mathbb{P}$, remove its divisible numbers $\\mathbb{D_p}$ (2*p, 3*p, ...) from $\\mathbb{Z}$. \n",
    "\n",
    "$\\mathbb{Z_p} = \\mathbb{Z} - \\bigcup_{p=2}^{\\infty} D_{p}$\n",
    "\n",
    "After removing the union of the divisible numbers $\\bigcup_{p=2}^{p} D_{p}$ of prime numbers up to ***p***, the minimum number in $Z_p$ is the next prime number next to ```p```.\n",
    "\n",
    "<img src=\"images/integer_is_prime_plus_divisibles.JPG\" align=\"left\" width=650/>"
   ]
  },
  {
   "cell_type": "markdown",
   "metadata": {},
   "source": [
    "## SET version \n",
    "Using Set instead of List to manage the numbers and primes."
   ]
  },
  {
   "cell_type": "code",
   "execution_count": 5,
   "metadata": {},
   "outputs": [],
   "source": [
    "def primes(n: int) -> list:\n",
    "    numbers = set(range(2, n+1))\n",
    "    primes = set([])\n",
    "    while len(numbers) > 0:\n",
    "        LOGGER.debug(\"len(numbers) is %s\", len(numbers))\n",
    "\n",
    "        # --------------------------------------------------------------------------------\n",
    "        # The minimum number in the set is always the smallest prime number.\n",
    "        # --------------------------------------------------------------------------------\n",
    "        prime: int = min(numbers)\n",
    "        primes.add(prime)\n",
    "        LOGGER.debug(\"prime [%s] for the current numbers %s\", prime, numbers)\n",
    "\n",
    "        # ================================================================================\n",
    "        # Remove all the numbers divisible by the prime.\n",
    "        # ================================================================================\n",
    "        numbers.remove(prime)\n",
    "\n",
    "        # --------------------------------------------------------------------------------\n",
    "        # Suppose 'numbers' is a List, instead of Set:\n",
    "        # When prime=p, the numbers which are still in 'numbers' and between (p, p^2), that \n",
    "        # is numbers[p: p^2 +1], are all primes.\n",
    "        #\n",
    "        # Becuse for p, divisible numbers are p * P(C(primes, k)), where P(C(primes,k)) is\n",
    "        # multiplications of all the possible combinations of primes C(primes, k) k:1,2,..\n",
    "        # e.g. for primes[2,3,5] and k:1,2,3:\n",
    "        # C([2,3,5], 1) = (2,3,5)        \n",
    "        # C([2,3,5], 2) = C([2,3,5], 1) + (  2^2,   2*3,   2*5,   3^2,   3*5,   5^2) \n",
    "        # C([2,3,5], 3) = C([2,3,5], 2) + (2*2^2, 2^2*3, 2^2*5, 2*3^2, 2*3*5, 2*5^2, 3*3^2, 3*3*5, 3*5^2, 5^3)\n",
    "        # \n",
    "        # For p=5, all divisible numbers less than p^2, those within range(2, 25), are\n",
    "        # P(C([2,3,5], k=1,2,3)) and the primes in ( numbers - P(C([2,3,5], k=1,2,3)) )\n",
    "        # P([2], k) = (2,   4,   6,  8,  10,   12,   14,   16,   18,   20,   22,   24   ) \n",
    "        # P([3], k) = (  3,      x     9,      x        15,      x        21,      x    ) \n",
    "        # P([5], k) = (       5,         x              x              x              25)\n",
    "        # numbers   = (            7,       11,   13,         17,   19,         23,     )\n",
    "        # \n",
    "        # Therefore, for p(e.g=5), there is no divisible number in numbers[2: p^2].\n",
    "        # --------------------------------------------------------------------------------\n",
    "        start = np.square(prime)\n",
    "        if start > n:\n",
    "            # --------------------------------------------------------------------------------\n",
    "            # All renaming numbers are primes because range(p, p^2) has primes only.\n",
    "            # Hence no more processing to remove divisibles are required.\n",
    "            # --------------------------------------------------------------------------------\n",
    "            primes.update(numbers)\n",
    "            break\n",
    "        else:\n",
    "            divisibles = set(range(start, n+1, prime))\n",
    "            LOGGER.debug(\"primes(): divisibles are %s\", divisibles)\n",
    "            \n",
    "            # set(this) -= set(*others) will not cause an error when others has an element\n",
    "            # which this set does not has.\n",
    "            numbers -= divisibles\n",
    "            LOGGER.debug(\"primes(): numbers after removing divisibles are %s\", numbers)\n",
    "    \n",
    "    # return primes\n",
    "    _primes = list(primes)\n",
    "    _primes.sort()\n",
    "    return _primes"
   ]
  },
  {
   "cell_type": "code",
   "execution_count": 6,
   "metadata": {},
   "outputs": [
    {
     "name": "stdout",
     "output_type": "stream",
     "text": [
      "\n",
      "*** Profile printout saved to text file 'primes.log'. \n",
      "Timer unit: 1e-06 s\n",
      "\n",
      "Total time: 0.009456 s\n",
      "File: <ipython-input-5-8cbdd747160d>\n",
      "Function: primes at line 1\n",
      "\n",
      "Line #      Hits         Time  Per Hit   % Time  Line Contents\n",
      "==============================================================\n",
      "     1                                           def primes(n: int) -> list:\n",
      "     2         1       1093.0   1093.0     11.6      numbers = set(range(2, n+1))\n",
      "     3         1         10.0     10.0      0.1      primes = set([])\n",
      "     4        26         47.0      1.8      0.5      while len(numbers) > 0:\n",
      "     5        26        155.0      6.0      1.6          LOGGER.debug(\"len(numbers) is %s\", len(numbers))\n",
      "     6                                           \n",
      "     7                                                   # --------------------------------------------------------------------------------\n",
      "     8                                                   # The minimum number in the set is always the smallest prime number.\n",
      "     9                                                   # --------------------------------------------------------------------------------\n",
      "    10        26       2569.0     98.8     27.2          prime: int = min(numbers)\n",
      "    11        26         57.0      2.2      0.6          primes.add(prime)\n",
      "    12        26        120.0      4.6      1.3          LOGGER.debug(\"prime [%s] for the current numbers %s\", prime, numbers)\n",
      "    13                                           \n",
      "    14                                                   # ================================================================================\n",
      "    15                                                   # Remove all the numbers divisible by the prime.\n",
      "    16                                                   # ================================================================================\n",
      "    17        26         44.0      1.7      0.5          numbers.remove(prime)\n",
      "    18                                           \n",
      "    19                                                   # --------------------------------------------------------------------------------\n",
      "    20                                                   # Suppose 'numbers' is a List, instead of Set:\n",
      "    21                                                   # When prime=p, the numbers which are still in 'numbers' and between (p, p^2), that \n",
      "    22                                                   # is numbers[p: p^2 +1], are all primes.\n",
      "    23                                                   #\n",
      "    24                                                   # Becuse for p, divisible numbers are p * P(C(primes, k)), where P(C(primes,k)) is\n",
      "    25                                                   # multiplications of all the possible combinations of primes C(primes, k) k:1,2,..\n",
      "    26                                                   # e.g. for primes[2,3,5] and k:1,2,3:\n",
      "    27                                                   # C([2,3,5], 1) = (2,3,5)        \n",
      "    28                                                   # C([2,3,5], 2) = C([2,3,5], 1) + (  2^2,   2*3,   2*5,   3^2,   3*5,   5^2) \n",
      "    29                                                   # C([2,3,5], 3) = C([2,3,5], 2) + (2*2^2, 2^2*3, 2^2*5, 2*3^2, 2*3*5, 2*5^2, 3*3^2, 3*3*5, 3*5^2, 5^3)\n",
      "    30                                                   # \n",
      "    31                                                   # For p=5, all divisible numbers less than p^2, those within range(2, 25), are\n",
      "    32                                                   # P(C([2,3,5], k=1,2,3)) and the primes in ( numbers - P(C([2,3,5], k=1,2,3)) )\n",
      "    33                                                   # P([2], k) = (2,   4,   6,  8,  10,   12,   14,   16,   18,   20,   22,   24   ) \n",
      "    34                                                   # P([3], k) = (  3,      x     9,      x        15,      x        21,      x    ) \n",
      "    35                                                   # P([5], k) = (       5,         x              x              x              25)\n",
      "    36                                                   # numbers   = (            7,       11,   13,         17,   19,         23,     )\n",
      "    37                                                   # \n",
      "    38                                                   # Therefore, for p(e.g=5), there is no divisible number in numbers[2: p^2].\n",
      "    39                                                   # --------------------------------------------------------------------------------\n",
      "    40        26        410.0     15.8      4.3          start = np.square(prime)\n",
      "    41        26         97.0      3.7      1.0          if start > n:\n",
      "    42                                                       # --------------------------------------------------------------------------------\n",
      "    43                                                       # All renaming numbers are primes because range(p, p^2) has primes only.\n",
      "    44                                                       # Hence no more processing to remove divisibles are required.\n",
      "    45                                                       # --------------------------------------------------------------------------------\n",
      "    46         1         64.0     64.0      0.7              primes.update(numbers)\n",
      "    47         1          1.0      1.0      0.0              break\n",
      "    48                                                   else:\n",
      "    49        25       1725.0     69.0     18.2              divisibles = set(range(start, n+1, prime))\n",
      "    50        25        284.0     11.4      3.0              LOGGER.debug(\"primes(): divisibles are %s\", divisibles)\n",
      "    51                                                       \n",
      "    52                                                       # set(this) -= set(*others) will not cause an error when others has an element\n",
      "    53                                                       # which this set does not has.\n",
      "    54        25       2552.0    102.1     27.0              numbers -= divisibles\n",
      "    55        25        125.0      5.0      1.3              LOGGER.debug(\"primes(): numbers after removing divisibles are %s\", numbers)\n",
      "    56                                               \n",
      "    57                                               # return primes\n",
      "    58         1         24.0     24.0      0.3      _primes = list(primes)\n",
      "    59         1         78.0     78.0      0.8      _primes.sort()\n",
      "    60         1          1.0      1.0      0.0      return _primes\n"
     ]
    }
   ],
   "source": [
    "%lprun \\\n",
    "    -T primes.log \\\n",
    "    -f primes \\\n",
    "    primes(N)\n",
    "\n",
    "print(open('primes.log', 'r').read())"
   ]
  },
  {
   "cell_type": "code",
   "execution_count": 7,
   "metadata": {},
   "outputs": [
    {
     "name": "stdout",
     "output_type": "stream",
     "text": [
      "4.13 ms ± 828 µs per loop (mean ± std. dev. of 7 runs, 100 loops each)\n"
     ]
    }
   ],
   "source": [
    "%%timeit\n",
    "primes(N)"
   ]
  },
  {
   "cell_type": "code",
   "execution_count": 8,
   "metadata": {},
   "outputs": [
    {
     "name": "stdout",
     "output_type": "stream",
     "text": [
      "peak memory: 94.82 MiB, increment: 0.22 MiB\n"
     ]
    }
   ],
   "source": [
    "%%memit\n",
    "primes(N)"
   ]
  },
  {
   "cell_type": "markdown",
   "metadata": {},
   "source": [
    "# List version\n",
    "Use List instead of Set to manage numbers and primes."
   ]
  },
  {
   "cell_type": "code",
   "execution_count": 9,
   "metadata": {},
   "outputs": [],
   "source": [
    "def primes_list_version(n: int) -> set:\n",
    "    numbers = list(range(2, n+1))\n",
    "    primes = []\n",
    "    while len(numbers) > 0:\n",
    "        LOGGER.debug(\"len(numbers) is %s\", len(numbers))\n",
    "\n",
    "        # The minimum number in the set is always the smallest prime number.\n",
    "        prime: int = numbers[0]\n",
    "        primes.append(prime)\n",
    "        LOGGER.debug(\"prime [%s] for the current numbers %s\", prime, numbers)\n",
    "\n",
    "        # Remove all the numbers divisible by the prime.\n",
    "        numbers.remove(prime)\n",
    "        start = np.square(prime)\n",
    "        if start > n:\n",
    "            LOGGER.debug(\"primes(): start %s > %s. Break the loop\", start, n)\n",
    "            primes.extend(numbers)\n",
    "            break\n",
    "        else:\n",
    "            divisibles = range(start, n+1, prime)\n",
    "            LOGGER.debug(\"primes(): divisibles are %s\", list(divisibles))\n",
    "\n",
    "            for d in divisibles:\n",
    "                try:\n",
    "                    numbers.remove(d)\n",
    "                except ValueError as e:\n",
    "                    LOGGER.debug(\"Removing %s caused %s\", d, e)\n",
    "                    pass\n",
    "                \n",
    "            LOGGER.debug(\"primes(): numbers after removing divisibles are %s\", numbers)\n",
    "        \n",
    "    return primes"
   ]
  },
  {
   "cell_type": "code",
   "execution_count": 10,
   "metadata": {},
   "outputs": [
    {
     "name": "stdout",
     "output_type": "stream",
     "text": [
      "\n",
      "*** Profile printout saved to text file 'primes_list_version.log'. \n",
      "Timer unit: 1e-06 s\n",
      "\n",
      "Total time: 0.612243 s\n",
      "File: <ipython-input-9-4e380913de3f>\n",
      "Function: primes_list_version at line 1\n",
      "\n",
      "Line #      Hits         Time  Per Hit   % Time  Line Contents\n",
      "==============================================================\n",
      "     1                                           def primes_list_version(n: int) -> set:\n",
      "     2         1        300.0    300.0      0.0      numbers = list(range(2, n+1))\n",
      "     3         1          2.0      2.0      0.0      primes = []\n",
      "     4        26         58.0      2.2      0.0      while len(numbers) > 0:\n",
      "     5        26         85.0      3.3      0.0          LOGGER.debug(\"len(numbers) is %s\", len(numbers))\n",
      "     6                                           \n",
      "     7                                                   # The minimum number in the set is always the smallest prime number.\n",
      "     8        26         33.0      1.3      0.0          prime: int = numbers[0]\n",
      "     9        26         38.0      1.5      0.0          primes.append(prime)\n",
      "    10        26         71.0      2.7      0.0          LOGGER.debug(\"prime [%s] for the current numbers %s\", prime, numbers)\n",
      "    11                                           \n",
      "    12                                                   # Remove all the numbers divisible by the prime.\n",
      "    13        26         51.0      2.0      0.0          numbers.remove(prime)\n",
      "    14        26        556.0     21.4      0.1          start = np.square(prime)\n",
      "    15        26         81.0      3.1      0.0          if start > n:\n",
      "    16         1          2.0      2.0      0.0              LOGGER.debug(\"primes(): start %s > %s. Break the loop\", start, n)\n",
      "    17         1          5.0      5.0      0.0              primes.extend(numbers)\n",
      "    18         1          1.0      1.0      0.0              break\n",
      "    19                                                   else:\n",
      "    20        25        112.0      4.5      0.0              divisibles = range(start, n+1, prime)\n",
      "    21        25        803.0     32.1      0.1              LOGGER.debug(\"primes(): divisibles are %s\", list(divisibles))\n",
      "    22                                           \n",
      "    23     17006      13213.0      0.8      2.2              for d in divisibles:\n",
      "    24     16981      12171.0      0.7      2.0                  try:\n",
      "    25     16981     543677.0     32.0     88.8                      numbers.remove(d)\n",
      "    26      8211       8860.0      1.1      1.4                  except ValueError as e:\n",
      "    27      8211      24511.0      3.0      4.0                      LOGGER.debug(\"Removing %s caused %s\", d, e)\n",
      "    28      8211       7532.0      0.9      1.2                      pass\n",
      "    29                                                           \n",
      "    30        25         80.0      3.2      0.0              LOGGER.debug(\"primes(): numbers after removing divisibles are %s\", numbers)\n",
      "    31                                                   \n",
      "    32         1          1.0      1.0      0.0      return primes\n"
     ]
    }
   ],
   "source": [
    "%lprun \\\n",
    "    -T primes_list_version.log \\\n",
    "    -f primes_list_version \\\n",
    "    primes_list_version(N)\n",
    "\n",
    "print(open('primes_list_version.log', 'r').read())"
   ]
  },
  {
   "cell_type": "code",
   "execution_count": 11,
   "metadata": {},
   "outputs": [
    {
     "name": "stdout",
     "output_type": "stream",
     "text": [
      "523 ms ± 55.9 ms per loop (mean ± std. dev. of 7 runs, 1 loop each)\n"
     ]
    }
   ],
   "source": [
    "%%timeit\n",
    "primes_list_version(N)"
   ]
  },
  {
   "cell_type": "code",
   "execution_count": 12,
   "metadata": {},
   "outputs": [
    {
     "name": "stdout",
     "output_type": "stream",
     "text": [
      "peak memory: 94.98 MiB, increment: 0.02 MiB\n"
     ]
    }
   ],
   "source": [
    "%%memit\n",
    "primes_list_version(N)"
   ]
  },
  {
   "cell_type": "markdown",
   "metadata": {},
   "source": [
    "# Approach 02\n",
    "## Numpy meshgrid product\n",
    "\n",
    "The divisible numbers D are products x*y of the (x, y) grid. Then P = set(range(2, n+1)) - D.\n",
    "<img src=\"images/divisibles_as_grid_product.JPG\" align=\"left\" width=650/>"
   ]
  },
  {
   "cell_type": "code",
   "execution_count": 4,
   "metadata": {},
   "outputs": [],
   "source": [
    "from typing import List\n",
    "import numpy as np\n",
    "\n",
    "\n",
    "def prime_numpy_version(n: int) -> List[int]:\n",
    "    \"\"\"Generate prime numbers\n",
    "    P = Z - D\n",
    "    P: Primes\n",
    "    Z: All integer numbers\n",
    "    D: Divisible (non-primes)\n",
    "\n",
    "    Args:\n",
    "        n: upper bound to generate primes in-between 0 and n (inclusive)\n",
    "    Returns:\n",
    "        list of prime numbers\n",
    "    \"\"\"\n",
    "    Diff = np.setdiff1d\n",
    "    arm = range(2, np.floor(n / 2).astype(int) + 1)\n",
    "    x, y = np.meshgrid(*([arm] * 2))\n",
    "\n",
    "    Z = range(2, n + 1)\n",
    "    D = x * y\n",
    "    P = Diff(Z, D[D <= n].ravel())\n",
    "\n",
    "    return P.tolist()"
   ]
  },
  {
   "cell_type": "code",
   "execution_count": 5,
   "metadata": {},
   "outputs": [
    {
     "name": "stdout",
     "output_type": "stream",
     "text": [
      "[]\n",
      "[]\n",
      "[]\n",
      "[2]\n",
      "[2, 3]\n",
      "[2, 3, 5, 7, 11, 13, 17, 19, 23, 29, 31, 37, 41, 43, 47, 53, 59, 61, 67, 71, 73, 79, 83, 89, 97]\n"
     ]
    }
   ],
   "source": [
    "print(prime_numpy_version(-1))\n",
    "print(prime_numpy_version(0))\n",
    "print(prime_numpy_version(1))\n",
    "print(prime_numpy_version(2))\n",
    "print(prime_numpy_version(3))\n",
    "print(prime_numpy_version(100))"
   ]
  },
  {
   "cell_type": "code",
   "execution_count": 14,
   "metadata": {},
   "outputs": [
    {
     "name": "stdout",
     "output_type": "stream",
     "text": [
      "\n",
      "*** Profile printout saved to text file 'prime_numpy_version.log'. \n",
      "Timer unit: 1e-06 s\n",
      "\n",
      "Total time: 0.238017 s\n",
      "File: <ipython-input-13-f75a5612e6c8>\n",
      "Function: prime_numpy_version at line 1\n",
      "\n",
      "Line #      Hits         Time  Per Hit   % Time  Line Contents\n",
      "==============================================================\n",
      "     1                                           def prime_numpy_version(n: int) -> List[int]:\n",
      "     2                                               \"\"\"Generate prime numbers in-between 2 and n\n",
      "     3                                               Args: \n",
      "     4                                                   n: upper bound to generate primes in-beteen 0 and n (inclusive)\n",
      "     5                                               Returns: \n",
      "     6                                                   list of prime numbers\n",
      "     7                                               \"\"\"\n",
      "     8         1         83.0     83.0      0.0      arm = range(2, np.floor(n / 2).astype(int) + 1)\n",
      "     9         1     142837.0 142837.0     60.0      x, y = np.meshgrid(*([arm] * 2))\n",
      "    10         1      59169.0  59169.0     24.9      z = x*y\n",
      "    11         1      35928.0  35928.0     15.1      return np.setdiff1d(range(2, n+1), z[z <= n].ravel()).tolist()\n"
     ]
    }
   ],
   "source": [
    "%lprun \\\n",
    "    -T prime_numpy_version.log \\\n",
    "    -f prime_numpy_version \\\n",
    "    prime_numpy_version(N)\n",
    "\n",
    "print(open('prime_numpy_version.log', 'r').read())"
   ]
  },
  {
   "cell_type": "code",
   "execution_count": 16,
   "metadata": {},
   "outputs": [
    {
     "name": "stdout",
     "output_type": "stream",
     "text": [
      "219 ms ± 44.3 ms per loop (mean ± std. dev. of 7 runs, 1 loop each)\n"
     ]
    }
   ],
   "source": [
    "%%timeit\n",
    "prime_numpy_version(N)"
   ]
  },
  {
   "cell_type": "code",
   "execution_count": 17,
   "metadata": {},
   "outputs": [
    {
     "name": "stdout",
     "output_type": "stream",
     "text": [
      "peak memory: 690.38 MiB, increment: 572.00 MiB\n"
     ]
    }
   ],
   "source": [
    "%%memit\n",
    "prime_numpy_version(N)"
   ]
  },
  {
   "cell_type": "markdown",
   "metadata": {},
   "source": [
    "# Validation\n",
    "\n",
    "Make sure all approaches produces the same."
   ]
  },
  {
   "cell_type": "code",
   "execution_count": 15,
   "metadata": {},
   "outputs": [],
   "source": [
    "benchmark = primes(N)\n",
    "assert benchmark == primes_list_version(N)\n",
    "assert benchmark == prime_numpy_version(N)"
   ]
  },
  {
   "cell_type": "code",
   "execution_count": 18,
   "metadata": {},
   "outputs": [
    {
     "name": "stdout",
     "output_type": "stream",
     "text": [
      "[2, 3, 5, 7, 11, 13, 17, 19, 23, 29, 31, 37, 41, 43, 47, 53, 59, 61, 67, 71, 73, 79, 83, 89, 97]\n"
     ]
    }
   ],
   "source": [
    "print(primes(100))"
   ]
  },
  {
   "cell_type": "markdown",
   "metadata": {},
   "source": [
    "# Approach 03\n",
    "## Numpy prime number bitmap\n",
    "\n",
    "For $S = np.sum(D[y]),\\; axis=0)$, if $S[x] == 1$ is True, x is prime. \n",
    "\n",
    "<img src=\"images/prime_bit_matrix.JPG\" align=\"left\" width=650/>\n"
   ]
  }
 ],
 "metadata": {
  "kernelspec": {
   "display_name": "Python 3",
   "language": "python",
   "name": "python3"
  },
  "language_info": {
   "codemirror_mode": {
    "name": "ipython",
    "version": 3
   },
   "file_extension": ".py",
   "mimetype": "text/x-python",
   "name": "python",
   "nbconvert_exporter": "python",
   "pygments_lexer": "ipython3",
   "version": "3.8.5"
  }
 },
 "nbformat": 4,
 "nbformat_minor": 4
}
