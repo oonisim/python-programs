{
 "cells": [
  {
   "cell_type": "code",
   "execution_count": 2,
   "metadata": {},
   "outputs": [],
   "source": [
    "from typing import (\n",
    "    List,\n",
    "    Iterable,\n",
    "    Set\n",
    ")\n",
    "import sys\n",
    "import random\n",
    "import logging\n",
    "import numpy as np\n",
    "import matplotlib.pyplot as plt "
   ]
  },
  {
   "cell_type": "code",
   "execution_count": 3,
   "metadata": {},
   "outputs": [],
   "source": [
    "np.set_printoptions(threshold=sys.maxsize)\n",
    "np.set_printoptions(linewidth=80) \n",
    " \n",
    "#!conda install line_profile -c conda-forge\n",
    "%load_ext line_profiler\n",
    "%load_ext memory_profiler"
   ]
  },
  {
   "cell_type": "code",
   "execution_count": 4,
   "metadata": {},
   "outputs": [],
   "source": [
    "N = 50000"
   ]
  },
  {
   "cell_type": "code",
   "execution_count": 5,
   "metadata": {},
   "outputs": [],
   "source": [
    "logging.basicConfig(level=logging.ERROR)\n",
    "LOGGER = logging.getLogger(__name__)"
   ]
  },
  {
   "cell_type": "markdown",
   "metadata": {},
   "source": [
    "# Approach 01\n",
    "\n",
    "Start from 2, get a prime number and remove its divisible numbers from the set of numbers ```numbers = range(2, n+1)```. \n",
    "\n",
    "By removing the divisible numbers of prime p, the minimum number in the ```numbers``` becomes automatically the next prime number.\n",
    "\n",
    "<img src=\"images/integer_is_prime_plus_divisibles.JPG\" align=\"left\" width=650/>"
   ]
  },
  {
   "cell_type": "markdown",
   "metadata": {},
   "source": [
    "## SET version \n",
    "Using Set instead of List to manage the numbers and primes."
   ]
  },
  {
   "cell_type": "code",
   "execution_count": 6,
   "metadata": {},
   "outputs": [],
   "source": [
    "def primes(n: int) -> list:\n",
    "    numbers = set(range(2, n+1))\n",
    "    primes = set([])\n",
    "    while len(numbers) > 0:\n",
    "        LOGGER.debug(\"len(numbers) is %s\", len(numbers))\n",
    "\n",
    "        # --------------------------------------------------------------------------------\n",
    "        # The minimum number in the set is always the smallest prime number.\n",
    "        # --------------------------------------------------------------------------------\n",
    "        prime: int = min(numbers)\n",
    "        primes.add(prime)\n",
    "        LOGGER.debug(\"prime [%s] for the current numbers %s\", prime, numbers)\n",
    "\n",
    "        # ================================================================================\n",
    "        # Remove all the numbers divisible by the prime.\n",
    "        # ================================================================================\n",
    "        numbers.remove(prime)\n",
    "\n",
    "        # --------------------------------------------------------------------------------\n",
    "        # Suppose 'numbers' is a List, instead of Set:\n",
    "        # When prime=p, the numbers which are still in 'numbers' and between (p, p^2), that \n",
    "        # is numbers[p: p^2 +1], are all primes.\n",
    "        #\n",
    "        # Becuse for p, divisible numbers are p * P(C(primes, k)), where P(C(primes,k)) is\n",
    "        # multiplications of all the possible combinations of primes C(primes, k) k:1,2,..\n",
    "        # e.g. for primes[2,3,5] and k:1,2,3:\n",
    "        # C([2,3,5], 1) = (2,3,5)        \n",
    "        # C([2,3,5], 2) = C([2,3,5], 1) + (  2^2,   2*3,   2*5,   3^2,   3*5,   5^2) \n",
    "        # C([2,3,5], 3) = C([2,3,5], 2) + (2*2^2, 2^2*3, 2^2*5, 2*3^2, 2*3*5, 2*5^2, 3*3^2, 3*3*5, 3*5^2, 5^3)\n",
    "        # \n",
    "        # For p=5, all divisible numbers less than p^2, those within range(2, 25), are\n",
    "        # P(C([2,3,5], k=1,2,3)) and the primes in ( numbers - P(C([2,3,5], k=1,2,3)) )\n",
    "        # P([2], k) = (2,   4,   6,  8,  10,   12,   14,   16,   18,   20,   22,   24   ) \n",
    "        # P([3], k) = (  3,      x     9,      x        15,      x        21,      x    ) \n",
    "        # P([5], k) = (       5,         x              x              x              25)\n",
    "        # numbers   = (            7,       11,   13,         17,   19,         23,     )\n",
    "        # \n",
    "        # Therefore, for p(e.g=5), there is no divisible number in numbers[2: p^2].\n",
    "        # --------------------------------------------------------------------------------\n",
    "        start = np.square(prime)\n",
    "        if start > n:\n",
    "            # --------------------------------------------------------------------------------\n",
    "            # All renaming numbers are primes because range(p, p^2) has primes only.\n",
    "            # Hence no more processing to remove divisibles are required.\n",
    "            # --------------------------------------------------------------------------------\n",
    "            primes.update(numbers)\n",
    "            break\n",
    "        else:\n",
    "            divisibles = set(range(start, n+1, prime))\n",
    "            LOGGER.debug(\"primes(): divisibles are %s\", divisibles)\n",
    "            \n",
    "            # set(this) -= set(*others) will not cause an error when others has an element\n",
    "            # which this set does not has.\n",
    "            numbers -= divisibles\n",
    "            LOGGER.debug(\"primes(): numbers after removing divisibles are %s\", numbers)\n",
    "    \n",
    "    # return primes\n",
    "    _primes = list(primes)\n",
    "    _primes.sort()\n",
    "    return _primes"
   ]
  },
  {
   "cell_type": "code",
   "execution_count": 7,
   "metadata": {},
   "outputs": [
    {
     "name": "stdout",
     "output_type": "stream",
     "text": [
      "\n",
      "*** Profile printout saved to text file 'primes.log'. \n",
      "Timer unit: 1e-06 s\n",
      "\n",
      "Total time: 0.068038 s\n",
      "File: <ipython-input-6-8cbdd747160d>\n",
      "Function: primes at line 1\n",
      "\n",
      "Line #      Hits         Time  Per Hit   % Time  Line Contents\n",
      "==============================================================\n",
      "     1                                           def primes(n: int) -> list:\n",
      "     2         1       2963.0   2963.0      4.4      numbers = set(range(2, n+1))\n",
      "     3         1          7.0      7.0      0.0      primes = set([])\n",
      "     4        49        129.0      2.6      0.2      while len(numbers) > 0:\n",
      "     5        49        820.0     16.7      1.2          LOGGER.debug(\"len(numbers) is %s\", len(numbers))\n",
      "     6                                           \n",
      "     7                                                   # --------------------------------------------------------------------------------\n",
      "     8                                                   # The minimum number in the set is always the smallest prime number.\n",
      "     9                                                   # --------------------------------------------------------------------------------\n",
      "    10        49      43105.0    879.7     63.4          prime: int = min(numbers)\n",
      "    11        49        356.0      7.3      0.5          primes.add(prime)\n",
      "    12        49        814.0     16.6      1.2          LOGGER.debug(\"prime [%s] for the current numbers %s\", prime, numbers)\n",
      "    13                                           \n",
      "    14                                                   # ================================================================================\n",
      "    15                                                   # Remove all the numbers divisible by the prime.\n",
      "    16                                                   # ================================================================================\n",
      "    17        49        121.0      2.5      0.2          numbers.remove(prime)\n",
      "    18                                           \n",
      "    19                                                   # --------------------------------------------------------------------------------\n",
      "    20                                                   # Suppose 'numbers' is a List, instead of Set:\n",
      "    21                                                   # When prime=p, the numbers which are still in 'numbers' and between (p, p^2), that \n",
      "    22                                                   # is numbers[p: p^2 +1], are all primes.\n",
      "    23                                                   #\n",
      "    24                                                   # Becuse for p, divisible numbers are p * P(C(primes, k)), where P(C(primes,k)) is\n",
      "    25                                                   # multiplications of all the possible combinations of primes C(primes, k) k:1,2,..\n",
      "    26                                                   # e.g. for primes[2,3,5] and k:1,2,3:\n",
      "    27                                                   # C([2,3,5], 1) = (2,3,5)        \n",
      "    28                                                   # C([2,3,5], 2) = C([2,3,5], 1) + (  2^2,   2*3,   2*5,   3^2,   3*5,   5^2) \n",
      "    29                                                   # C([2,3,5], 3) = C([2,3,5], 2) + (2*2^2, 2^2*3, 2^2*5, 2*3^2, 2*3*5, 2*5^2, 3*3^2, 3*3*5, 3*5^2, 5^3)\n",
      "    30                                                   # \n",
      "    31                                                   # For p=5, all divisible numbers less than p^2, those within range(2, 25), are\n",
      "    32                                                   # P(C([2,3,5], k=1,2,3)) and the primes in ( numbers - P(C([2,3,5], k=1,2,3)) )\n",
      "    33                                                   # P([2], k) = (2,   4,   6,  8,  10,   12,   14,   16,   18,   20,   22,   24   ) \n",
      "    34                                                   # P([3], k) = (  3,      x     9,      x        15,      x        21,      x    ) \n",
      "    35                                                   # P([5], k) = (       5,         x              x              x              25)\n",
      "    36                                                   # numbers   = (            7,       11,   13,         17,   19,         23,     )\n",
      "    37                                                   # \n",
      "    38                                                   # Therefore, for p(e.g=5), there is no divisible number in numbers[2: p^2].\n",
      "    39                                                   # --------------------------------------------------------------------------------\n",
      "    40        49       1435.0     29.3      2.1          start = np.square(prime)\n",
      "    41        49        198.0      4.0      0.3          if start > n:\n",
      "    42                                                       # --------------------------------------------------------------------------------\n",
      "    43                                                       # All renaming numbers are primes because range(p, p^2) has primes only.\n",
      "    44                                                       # Hence no more processing to remove divisibles are required.\n",
      "    45                                                       # --------------------------------------------------------------------------------\n",
      "    46         1        483.0    483.0      0.7              primes.update(numbers)\n",
      "    47         1          2.0      2.0      0.0              break\n",
      "    48                                                   else:\n",
      "    49        48       7842.0    163.4     11.5              divisibles = set(range(start, n+1, prime))\n",
      "    50        48        332.0      6.9      0.5              LOGGER.debug(\"primes(): divisibles are %s\", divisibles)\n",
      "    51                                                       \n",
      "    52                                                       # set(this) -= set(*others) will not cause an error when others has an element\n",
      "    53                                                       # which this set does not has.\n",
      "    54        48       8551.0    178.1     12.6              numbers -= divisibles\n",
      "    55        48        263.0      5.5      0.4              LOGGER.debug(\"primes(): numbers after removing divisibles are %s\", numbers)\n",
      "    56                                               \n",
      "    57                                               # return primes\n",
      "    58         1        140.0    140.0      0.2      _primes = list(primes)\n",
      "    59         1        475.0    475.0      0.7      _primes.sort()\n",
      "    60         1          2.0      2.0      0.0      return _primes\n"
     ]
    }
   ],
   "source": [
    "%lprun \\\n",
    "    -T primes.log \\\n",
    "    -f primes \\\n",
    "    primes(N)\n",
    "\n",
    "print(open('primes.log', 'r').read())"
   ]
  },
  {
   "cell_type": "code",
   "execution_count": 8,
   "metadata": {},
   "outputs": [
    {
     "name": "stdout",
     "output_type": "stream",
     "text": [
      "40.5 ms ± 3 ms per loop (mean ± std. dev. of 7 runs, 10 loops each)\n"
     ]
    }
   ],
   "source": [
    "%%timeit\n",
    "primes(N)"
   ]
  },
  {
   "cell_type": "code",
   "execution_count": 9,
   "metadata": {},
   "outputs": [
    {
     "name": "stdout",
     "output_type": "stream",
     "text": [
      "peak memory: 100.65 MiB, increment: 5.94 MiB\n"
     ]
    }
   ],
   "source": [
    "%%memit\n",
    "primes(N)"
   ]
  },
  {
   "cell_type": "markdown",
   "metadata": {},
   "source": [
    "# List version\n",
    "Use List instead of Set to manage numbers and primes."
   ]
  },
  {
   "cell_type": "code",
   "execution_count": 10,
   "metadata": {},
   "outputs": [],
   "source": [
    "def primes_list_version(n: int) -> set:\n",
    "    numbers = list(range(2, n+1))\n",
    "    primes = []\n",
    "    while len(numbers) > 0:\n",
    "        LOGGER.debug(\"len(numbers) is %s\", len(numbers))\n",
    "\n",
    "        # --------------------------------------------------------------------------------\n",
    "        # The minimum number in the set is always the smallest prime number.\n",
    "        # --------------------------------------------------------------------------------\n",
    "        prime: int = numbers[0]\n",
    "        primes.append(prime)\n",
    "        LOGGER.debug(\"prime [%s] for the current numbers %s\", prime, numbers)\n",
    "\n",
    "        # ================================================================================\n",
    "        # Remove all the numbers divisible by the prime.\n",
    "        # ================================================================================\n",
    "        numbers.remove(prime)\n",
    "\n",
    "        # --------------------------------------------------------------------------------\n",
    "        # Suppose 'numbers' is a List, instead of Set:\n",
    "        # When prime=p, the numbers which are still in 'numbers' and between (p, p^2), that \n",
    "        # is numbers[p: p^2 +1], are all primes.\n",
    "        #\n",
    "        # Becuse for p, divisible numbers are p * P(C(primes, k)), where P(C(primes,k)) is\n",
    "        # multiplications of all the possible combinations of primes C(primes, k) k:1,2,..\n",
    "        # e.g. for primes[2,3,5] and k:1,2,3:\n",
    "        # C([2,3,5], 1) = (2,3,5)        \n",
    "        # C([2,3,5], 2) = C([2,3,5], 1) + (  2^2,   2*3,   2*5,   3^2,   3*5,   5^2) \n",
    "        # C([2,3,5], 3) = C([2,3,5], 2) + (2*2^2, 2^2*3, 2^2*5, 2*3^2, 2*3*5, 2*5^2, 3*3^2, 3*3*5, 3*5^2, 5^3)\n",
    "        # \n",
    "        # For p=5, all divisible numbers less than p^2, those within range(2, 25), are\n",
    "        # P(C([2,3,5], k=1,2,3)) and the primes in ( numbers - P(C([2,3,5], k=1,2,3)) )\n",
    "        # P([2], k) = (2,   4,   6,  8,  10,   12,   14,   16,   18,   20,   22,   24   ) \n",
    "        # P([3], k) = (  3,      x     9,      x        15,      x        21,      x    ) \n",
    "        # P([5], k) = (       5,         x              x              x              25)\n",
    "        # numbers   = (            7,       11,   13,         17,   19,         23,     )\n",
    "        # \n",
    "        # Therefore, for p(e.g=5), there is no divisible number in numbers[2: p^2].\n",
    "        # --------------------------------------------------------------------------------\n",
    "        start = np.square(prime)\n",
    "        if start > n:\n",
    "            # --------------------------------------------------------------------------------\n",
    "            # All renaming numbers are primes because range(p, p^2) has primes only.\n",
    "            # Hence no more processing to remove divisibles are required.\n",
    "            # --------------------------------------------------------------------------------\n",
    "            LOGGER.debug(\"primes(): start %s > %s. Break the loop\", start, n)\n",
    "            primes.extend(numbers)\n",
    "            break\n",
    "        else:\n",
    "            divisibles = range(start, n+1, prime)\n",
    "            LOGGER.debug(\"primes(): divisibles are %s\", list(divisibles))\n",
    "\n",
    "            for d in divisibles:\n",
    "                try:\n",
    "                    numbers.remove(d)\n",
    "                except ValueError as e:\n",
    "                    LOGGER.debug(\"Removing %s caused %s\", d, e)\n",
    "                    pass\n",
    "                \n",
    "            LOGGER.debug(\"primes(): numbers after removing divisibles are %s\", numbers)\n",
    "        \n",
    "    return primes"
   ]
  },
  {
   "cell_type": "code",
   "execution_count": 11,
   "metadata": {},
   "outputs": [
    {
     "name": "stdout",
     "output_type": "stream",
     "text": [
      "\n",
      "*** Profile printout saved to text file 'primes_list_version.log'. \n",
      "Timer unit: 1e-06 s\n",
      "\n",
      "Total time: 12.3252 s\n",
      "File: <ipython-input-10-b8a86aefd36d>\n",
      "Function: primes_list_version at line 1\n",
      "\n",
      "Line #      Hits         Time  Per Hit   % Time  Line Contents\n",
      "==============================================================\n",
      "     1                                           def primes_list_version(n: int) -> set:\n",
      "     2         1       2123.0   2123.0      0.0      numbers = list(range(2, n+1))\n",
      "     3         1          2.0      2.0      0.0      primes = []\n",
      "     4        49        122.0      2.5      0.0      while len(numbers) > 0:\n",
      "     5        49        208.0      4.2      0.0          LOGGER.debug(\"len(numbers) is %s\", len(numbers))\n",
      "     6                                           \n",
      "     7                                                   # --------------------------------------------------------------------------------\n",
      "     8                                                   # The minimum number in the set is always the smallest prime number.\n",
      "     9                                                   # --------------------------------------------------------------------------------\n",
      "    10        49         60.0      1.2      0.0          prime: int = numbers[0]\n",
      "    11        49         74.0      1.5      0.0          primes.append(prime)\n",
      "    12        49        111.0      2.3      0.0          LOGGER.debug(\"prime [%s] for the current numbers %s\", prime, numbers)\n",
      "    13                                           \n",
      "    14                                                   # ================================================================================\n",
      "    15                                                   # Remove all the numbers divisible by the prime.\n",
      "    16                                                   # ================================================================================\n",
      "    17        49        335.0      6.8      0.0          numbers.remove(prime)\n",
      "    18                                           \n",
      "    19                                                   # --------------------------------------------------------------------------------\n",
      "    20                                                   # Suppose 'numbers' is a List, instead of Set:\n",
      "    21                                                   # When prime=p, the numbers which are still in 'numbers' and between (p, p^2), that \n",
      "    22                                                   # is numbers[p: p^2 +1], are all primes.\n",
      "    23                                                   #\n",
      "    24                                                   # Becuse for p, divisible numbers are p * P(C(primes, k)), where P(C(primes,k)) is\n",
      "    25                                                   # multiplications of all the possible combinations of primes C(primes, k) k:1,2,..\n",
      "    26                                                   # e.g. for primes[2,3,5] and k:1,2,3:\n",
      "    27                                                   # C([2,3,5], 1) = (2,3,5)        \n",
      "    28                                                   # C([2,3,5], 2) = C([2,3,5], 1) + (  2^2,   2*3,   2*5,   3^2,   3*5,   5^2) \n",
      "    29                                                   # C([2,3,5], 3) = C([2,3,5], 2) + (2*2^2, 2^2*3, 2^2*5, 2*3^2, 2*3*5, 2*5^2, 3*3^2, 3*3*5, 3*5^2, 5^3)\n",
      "    30                                                   # \n",
      "    31                                                   # For p=5, all divisible numbers less than p^2, those within range(2, 25), are\n",
      "    32                                                   # P(C([2,3,5], k=1,2,3)) and the primes in ( numbers - P(C([2,3,5], k=1,2,3)) )\n",
      "    33                                                   # P([2], k) = (2,   4,   6,  8,  10,   12,   14,   16,   18,   20,   22,   24   ) \n",
      "    34                                                   # P([3], k) = (  3,      x     9,      x        15,      x        21,      x    ) \n",
      "    35                                                   # P([5], k) = (       5,         x              x              x              25)\n",
      "    36                                                   # numbers   = (            7,       11,   13,         17,   19,         23,     )\n",
      "    37                                                   # \n",
      "    38                                                   # Therefore, for p(e.g=5), there is no divisible number in numbers[2: p^2].\n",
      "    39                                                   # --------------------------------------------------------------------------------\n",
      "    40        49       1356.0     27.7      0.0          start = np.square(prime)\n",
      "    41        49        157.0      3.2      0.0          if start > n:\n",
      "    42                                                       # --------------------------------------------------------------------------------\n",
      "    43                                                       # All renaming numbers are primes because range(p, p^2) has primes only.\n",
      "    44                                                       # Hence no more processing to remove divisibles are required.\n",
      "    45                                                       # --------------------------------------------------------------------------------\n",
      "    46         1          2.0      2.0      0.0              LOGGER.debug(\"primes(): start %s > %s. Break the loop\", start, n)\n",
      "    47         1         20.0     20.0      0.0              primes.extend(numbers)\n",
      "    48         1          0.0      0.0      0.0              break\n",
      "    49                                                   else:\n",
      "    50        48        253.0      5.3      0.0              divisibles = range(start, n+1, prime)\n",
      "    51        48       2981.0     62.1      0.0              LOGGER.debug(\"primes(): divisibles are %s\", list(divisibles))\n",
      "    52                                           \n",
      "    53     93324      67999.0      0.7      0.6              for d in divisibles:\n",
      "    54     93276      51551.0      0.6      0.4                  try:\n",
      "    55     93276   11950248.0    128.1     97.0                      numbers.remove(d)\n",
      "    56     48410      53358.0      1.1      0.4                  except ValueError as e:\n",
      "    57     48410     154065.0      3.2      1.2                      LOGGER.debug(\"Removing %s caused %s\", d, e)\n",
      "    58     48410      40096.0      0.8      0.3                      pass\n",
      "    59                                                           \n",
      "    60        48        115.0      2.4      0.0              LOGGER.debug(\"primes(): numbers after removing divisibles are %s\", numbers)\n",
      "    61                                                   \n",
      "    62         1          0.0      0.0      0.0      return primes\n"
     ]
    }
   ],
   "source": [
    "%lprun \\\n",
    "    -T primes_list_version.log \\\n",
    "    -f primes_list_version \\\n",
    "    primes_list_version(N)\n",
    "\n",
    "print(open('primes_list_version.log', 'r').read())"
   ]
  },
  {
   "cell_type": "code",
   "execution_count": 12,
   "metadata": {},
   "outputs": [
    {
     "name": "stdout",
     "output_type": "stream",
     "text": [
      "18.4 s ± 4.43 s per loop (mean ± std. dev. of 7 runs, 1 loop each)\n"
     ]
    }
   ],
   "source": [
    "%%timeit\n",
    "primes_list_version(N)"
   ]
  },
  {
   "cell_type": "code",
   "execution_count": 13,
   "metadata": {},
   "outputs": [
    {
     "name": "stdout",
     "output_type": "stream",
     "text": [
      "peak memory: 96.03 MiB, increment: 0.77 MiB\n"
     ]
    }
   ],
   "source": [
    "%%memit\n",
    "primes_list_version(N)"
   ]
  },
  {
   "cell_type": "markdown",
   "metadata": {},
   "source": [
    "# Approach 02\n",
    "## Numpy version\n",
    "<img src=\"images/prime_bit_matrix.JPG\" align=\"left\" width=650/>"
   ]
  },
  {
   "cell_type": "code",
   "execution_count": null,
   "metadata": {},
   "outputs": [],
   "source": []
  }
 ],
 "metadata": {
  "kernelspec": {
   "display_name": "Python 3",
   "language": "python",
   "name": "python3"
  },
  "language_info": {
   "codemirror_mode": {
    "name": "ipython",
    "version": 3
   },
   "file_extension": ".py",
   "mimetype": "text/x-python",
   "name": "python",
   "nbconvert_exporter": "python",
   "pygments_lexer": "ipython3",
   "version": "3.8.5"
  }
 },
 "nbformat": 4,
 "nbformat_minor": 4
}
