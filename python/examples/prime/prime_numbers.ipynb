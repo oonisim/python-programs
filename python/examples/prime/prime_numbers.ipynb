{
 "cells": [
  {
   "cell_type": "markdown",
   "metadata": {},
   "source": [
    "# Objective\n",
    "\n",
    "Generate prime numbers in-between 2 and the number N inclusive. Test multiple approaches and verify the performances.\n",
    "\n",
    "## Findings\n",
    "\n",
    "For N=10000\n",
    "\n",
    "\n",
    "1. Set minus/diff operation is fast. List remove is slow.\n",
    "   - Set vesion: ```4.13 ms ± 828 µs per loop (mean ± std. dev. of 7 runs, 100 loops each)```\n",
    "   - List version: ```523 ms ± 55.9 ms per loop (mean ± std. dev. of 7 runs, 1 loop each)```\n",
    "   - NumPy version: ```219 ms ± 44.3 ms per loop (mean ± std. dev. of 7 runs, 1 loop each)```\n",
    "   <br><br>\n",
    "2. numpy.meshgrid() requires larger memory (> 6x) which can crash Python if N is larger.\n",
    "   - Set version: ```peak memory: 94.82 MiB, increment: 0.22 MiB```\n",
    "   - Set version: ```peak memory: 94.98 MiB, increment: 0.02 MiB```\n",
    "   - Numpy version: ```peak memory: 690.38 MiB, increment: 572.00 MiB```\n"
   ]
  },
  {
   "cell_type": "code",
   "execution_count": 1,
   "metadata": {},
   "outputs": [],
   "source": [
    "from typing import (\n",
    "    List,\n",
    "    Iterable,\n",
    "    Set\n",
    ")\n",
    "import sys\n",
    "import random\n",
    "import logging\n",
    "import numpy as np\n",
    "import matplotlib.pyplot as plt "
   ]
  },
  {
   "cell_type": "markdown",
   "metadata": {},
   "source": [
    "# Constant"
   ]
  },
  {
   "cell_type": "code",
   "execution_count": 2,
   "metadata": {},
   "outputs": [],
   "source": [
    "# Max integer N up to which (inclusive) to generate the primes \n",
    "N = 10000\n",
    "LOG_LEVEL = logging.ERROR"
   ]
  },
  {
   "cell_type": "markdown",
   "metadata": {},
   "source": [
    "# Setup"
   ]
  },
  {
   "cell_type": "code",
   "execution_count": 3,
   "metadata": {},
   "outputs": [],
   "source": [
    "np.set_printoptions(threshold=sys.maxsize)\n",
    "np.set_printoptions(linewidth=80) \n",
    " \n",
    "#!conda install line_profile -c conda-forge\n",
    "%load_ext line_profiler\n",
    "%load_ext memory_profiler"
   ]
  },
  {
   "cell_type": "code",
   "execution_count": 4,
   "metadata": {},
   "outputs": [],
   "source": [
    "logging.basicConfig(level=LOG_LEVEL)\n",
    "LOGGER = logging.getLogger(__name__)"
   ]
  },
  {
   "cell_type": "markdown",
   "metadata": {},
   "source": [
    "# Approach 01\n",
    "\n",
    "* $\\mathbb{Z}$: Set of all integer numbers \n",
    "* $\\mathbb{P}$: Set of prime numbers\n",
    "* $\\mathbb{D}$: Set of divisible numbers\n",
    "\n",
    "For each prime number ```p``` (start from 2) in $\\mathbb{P}$, remove its divisible numbers $\\mathbb{D_p}$ (2*p, 3*p, ...) from $\\mathbb{Z}$. \n",
    "\n",
    "$\\mathbb{Z_p} = \\mathbb{Z} - \\bigcup_{p=2}^{\\infty} D_{p}$\n",
    "\n",
    "After removing the union of the divisible numbers $\\bigcup_{p=2}^{p} D_{p}$ of prime numbers up to ***p***, the minimum number in $Z_p$ is the next prime number next to ```p```.\n",
    "\n",
    "<img src=\"images/integer_is_prime_plus_divisibles.JPG\" align=\"left\" width=650/>"
   ]
  },
  {
   "cell_type": "markdown",
   "metadata": {},
   "source": [
    "## SET version \n",
    "Using Set instead of List to manage the numbers and primes."
   ]
  },
  {
   "cell_type": "code",
   "execution_count": 5,
   "metadata": {},
   "outputs": [],
   "source": [
    "def primes(n: int) -> list:\n",
    "    \"\"\"Generate prime numbers\n",
    "    Args:\n",
    "        n: upper bound to generate primes in-between 0 and n (inclusive)\n",
    "    Returns:\n",
    "        list of prime numbers\n",
    "    \"\"\"\n",
    "    numbers = set(range(2, n+1))\n",
    "    primes = set([])\n",
    "    while len(numbers) > 0:\n",
    "        LOGGER.debug(\"len(numbers) is %s\", len(numbers))\n",
    "\n",
    "        # --------------------------------------------------------------------------------\n",
    "        # The minimum number in the set is always the smallest prime number.\n",
    "        # --------------------------------------------------------------------------------\n",
    "        prime: int = min(numbers)\n",
    "        primes.add(prime)\n",
    "        LOGGER.debug(\"prime [%s] for the current numbers %s\", prime, numbers)\n",
    "\n",
    "        # ================================================================================\n",
    "        # Remove all the numbers divisible by the prime.\n",
    "        # ================================================================================\n",
    "        numbers.remove(prime)\n",
    "\n",
    "        # --------------------------------------------------------------------------------\n",
    "        # Suppose 'numbers' is a List. When prime=p, numbers[p: p^2 +1] are all primes.\n",
    "        #\n",
    "        # For p, its divisible numbers are p * P(C(primes, k)), where P(C(primes,k)) is\n",
    "        # multiplications of all the possible combinations of primes C(primes, k) k:1,2,..\n",
    "        # e.g. for primes[2,3,5] and k:1,2,3:\n",
    "        # C([2,3,5], 1) = (2,3,5)        \n",
    "        # C([2,3,5], 2) = C([2,3,5], 1) + (  2^2,   2*3,   2*5,   3^2,   3*5,   5^2) \n",
    "        # C([2,3,5], 3) = C([2,3,5], 2) + (2*2^2, 2^2*3, 2^2*5, 2*3^2, 2*3*5, 2*5^2, 3*3^2, 3*3*5, 3*5^2, 5^3)\n",
    "        # \n",
    "        # For p=5, all divisible numbers less than p^2, those within range(2, 25), are\n",
    "        # P(C([2,3,5], k=1,2,3)) and the primes in ( numbers - P(C([2,3,5], k=1,2,3)) )\n",
    "        # P([2], k) = (2,   4,   6,  8,  10,   12,   14,   16,   18,   20,   22,   24   ) \n",
    "        # P([3], k) = (  3,      x     9,      x        15,      x        21,      x    ) \n",
    "        # P([5], k) = (       5,         x              x              x              25)\n",
    "        # numbers   = (            7,       11,   13,         17,   19,         23,     )\n",
    "        # \n",
    "        # Therefore, for p(e.g=5), there is no divisible numbers in numbers[2: p^2].\n",
    "        # --------------------------------------------------------------------------------\n",
    "        start = np.square(prime)\n",
    "        if start > n:\n",
    "            # --------------------------------------------------------------------------------\n",
    "            # All remaining numbers are primes because range(p, p^2) has primes only.\n",
    "            # Hence no more processing to remove divisibles are required.\n",
    "            # --------------------------------------------------------------------------------\n",
    "            primes.update(numbers)\n",
    "            break\n",
    "        else:\n",
    "            divisibles = set(range(start, n+1, prime))\n",
    "            LOGGER.debug(\"primes(): divisibles are %s\", divisibles)\n",
    "            \n",
    "            numbers -= divisibles\n",
    "            LOGGER.debug(\"primes(): numbers after removing divisibles are %s\", numbers)\n",
    "        # ================================================================================\n",
    "    \n",
    "    # return primes\n",
    "    _primes = list(primes)\n",
    "    _primes.sort()\n",
    "    return _primes"
   ]
  },
  {
   "cell_type": "code",
   "execution_count": 6,
   "metadata": {},
   "outputs": [
    {
     "name": "stdout",
     "output_type": "stream",
     "text": [
      "\n",
      "*** Profile printout saved to text file 'primes.log'. \n",
      "Timer unit: 1e-06 s\n",
      "\n",
      "Total time: 0.011397 s\n",
      "File: <ipython-input-5-8cbdd747160d>\n",
      "Function: primes at line 1\n",
      "\n",
      "Line #      Hits         Time  Per Hit   % Time  Line Contents\n",
      "==============================================================\n",
      "     1                                           def primes(n: int) -> list:\n",
      "     2         1       2605.0   2605.0     22.9      numbers = set(range(2, n+1))\n",
      "     3         1          5.0      5.0      0.0      primes = set([])\n",
      "     4        26         30.0      1.2      0.3      while len(numbers) > 0:\n",
      "     5        26        107.0      4.1      0.9          LOGGER.debug(\"len(numbers) is %s\", len(numbers))\n",
      "     6                                           \n",
      "     7                                                   # --------------------------------------------------------------------------------\n",
      "     8                                                   # The minimum number in the set is always the smallest prime number.\n",
      "     9                                                   # --------------------------------------------------------------------------------\n",
      "    10        26       1521.0     58.5     13.3          prime: int = min(numbers)\n",
      "    11        26         32.0      1.2      0.3          primes.add(prime)\n",
      "    12        26         68.0      2.6      0.6          LOGGER.debug(\"prime [%s] for the current numbers %s\", prime, numbers)\n",
      "    13                                           \n",
      "    14                                                   # ================================================================================\n",
      "    15                                                   # Remove all the numbers divisible by the prime.\n",
      "    16                                                   # ================================================================================\n",
      "    17        26         26.0      1.0      0.2          numbers.remove(prime)\n",
      "    18                                           \n",
      "    19                                                   # --------------------------------------------------------------------------------\n",
      "    20                                                   # Suppose 'numbers' is a List, instead of Set:\n",
      "    21                                                   # When prime=p, the numbers which are still in 'numbers' and between (p, p^2), that \n",
      "    22                                                   # is numbers[p: p^2 +1], are all primes.\n",
      "    23                                                   #\n",
      "    24                                                   # Becuse for p, divisible numbers are p * P(C(primes, k)), where P(C(primes,k)) is\n",
      "    25                                                   # multiplications of all the possible combinations of primes C(primes, k) k:1,2,..\n",
      "    26                                                   # e.g. for primes[2,3,5] and k:1,2,3:\n",
      "    27                                                   # C([2,3,5], 1) = (2,3,5)        \n",
      "    28                                                   # C([2,3,5], 2) = C([2,3,5], 1) + (  2^2,   2*3,   2*5,   3^2,   3*5,   5^2) \n",
      "    29                                                   # C([2,3,5], 3) = C([2,3,5], 2) + (2*2^2, 2^2*3, 2^2*5, 2*3^2, 2*3*5, 2*5^2, 3*3^2, 3*3*5, 3*5^2, 5^3)\n",
      "    30                                                   # \n",
      "    31                                                   # For p=5, all divisible numbers less than p^2, those within range(2, 25), are\n",
      "    32                                                   # P(C([2,3,5], k=1,2,3)) and the primes in ( numbers - P(C([2,3,5], k=1,2,3)) )\n",
      "    33                                                   # P([2], k) = (2,   4,   6,  8,  10,   12,   14,   16,   18,   20,   22,   24   ) \n",
      "    34                                                   # P([3], k) = (  3,      x     9,      x        15,      x        21,      x    ) \n",
      "    35                                                   # P([5], k) = (       5,         x              x              x              25)\n",
      "    36                                                   # numbers   = (            7,       11,   13,         17,   19,         23,     )\n",
      "    37                                                   # \n",
      "    38                                                   # Therefore, for p(e.g=5), there is no divisible number in numbers[2: p^2].\n",
      "    39                                                   # --------------------------------------------------------------------------------\n",
      "    40        26        195.0      7.5      1.7          start = np.square(prime)\n",
      "    41        26         37.0      1.4      0.3          if start > n:\n",
      "    42                                                       # --------------------------------------------------------------------------------\n",
      "    43                                                       # All renaming numbers are primes because range(p, p^2) has primes only.\n",
      "    44                                                       # Hence no more processing to remove divisibles are required.\n",
      "    45                                                       # --------------------------------------------------------------------------------\n",
      "    46         1         41.0     41.0      0.4              primes.update(numbers)\n",
      "    47         1          0.0      0.0      0.0              break\n",
      "    48                                                   else:\n",
      "    49        25       5828.0    233.1     51.1              divisibles = set(range(start, n+1, prime))\n",
      "    50        25        105.0      4.2      0.9              LOGGER.debug(\"primes(): divisibles are %s\", divisibles)\n",
      "    51                                                       \n",
      "    52                                                       # set(this) -= set(*others) will not cause an error when others has an element\n",
      "    53                                                       # which this set does not has.\n",
      "    54        25        658.0     26.3      5.8              numbers -= divisibles\n",
      "    55        25         57.0      2.3      0.5              LOGGER.debug(\"primes(): numbers after removing divisibles are %s\", numbers)\n",
      "    56                                               \n",
      "    57                                               # return primes\n",
      "    58         1         20.0     20.0      0.2      _primes = list(primes)\n",
      "    59         1         62.0     62.0      0.5      _primes.sort()\n",
      "    60         1          0.0      0.0      0.0      return _primes\n"
     ]
    }
   ],
   "source": [
    "%lprun \\\n",
    "    -T primes.log \\\n",
    "    -f primes \\\n",
    "    primes(N)\n",
    "\n",
    "print(open('primes.log', 'r').read())"
   ]
  },
  {
   "cell_type": "code",
   "execution_count": 7,
   "metadata": {},
   "outputs": [
    {
     "name": "stdout",
     "output_type": "stream",
     "text": [
      "2.91 ms ± 163 µs per loop (mean ± std. dev. of 7 runs, 100 loops each)\n"
     ]
    }
   ],
   "source": [
    "%%timeit\n",
    "primes(N)"
   ]
  },
  {
   "cell_type": "code",
   "execution_count": 8,
   "metadata": {},
   "outputs": [
    {
     "name": "stdout",
     "output_type": "stream",
     "text": [
      "peak memory: 94.73 MiB, increment: 0.23 MiB\n"
     ]
    }
   ],
   "source": [
    "%%memit\n",
    "primes(N)"
   ]
  },
  {
   "cell_type": "markdown",
   "metadata": {},
   "source": [
    "# List version\n",
    "Use List instead of Set to manage numbers and primes."
   ]
  },
  {
   "cell_type": "code",
   "execution_count": 9,
   "metadata": {},
   "outputs": [],
   "source": [
    "def primes_list_version(n: int) -> set:\n",
    "    \"\"\"Generate prime numbers\n",
    "    Args:\n",
    "        n: upper bound to generate primes in-between 0 and n (inclusive)\n",
    "    Returns:\n",
    "        list of prime numbers\n",
    "    \"\"\"\n",
    "    numbers = list(range(2, n+1))\n",
    "    primes = []\n",
    "    while len(numbers) > 0:\n",
    "        LOGGER.debug(\"len(numbers) is %s\", len(numbers))\n",
    "\n",
    "        # The minimum number in the list is always the smallest prime number.\n",
    "        prime: int = numbers[0]\n",
    "        primes.append(prime)\n",
    "        LOGGER.debug(\"prime [%s] for the current numbers %s\", prime, numbers)\n",
    "\n",
    "        # Remove all the numbers divisible by the prime.\n",
    "        numbers.remove(prime)\n",
    "        start = np.square(prime)\n",
    "        if start > n:\n",
    "            # All remaining numbers are primes because range(p, p^2) has primes only.\n",
    "            LOGGER.debug(\"primes(): start %s > %s. Break the loop\", start, n)\n",
    "            primes.extend(numbers)\n",
    "            break\n",
    "        else:\n",
    "            divisibles = range(start, n+1, prime)\n",
    "            LOGGER.debug(\"primes(): divisibles are %s\", list(divisibles))\n",
    "\n",
    "            for d in divisibles:\n",
    "                try:\n",
    "                    numbers.remove(d)\n",
    "                except ValueError as e:\n",
    "                    LOGGER.debug(\"Removing %s caused %s\", d, e)\n",
    "                    pass\n",
    "                \n",
    "            LOGGER.debug(\"primes(): numbers after removing divisibles are %s\", numbers)\n",
    "        \n",
    "    return primes"
   ]
  },
  {
   "cell_type": "code",
   "execution_count": 10,
   "metadata": {},
   "outputs": [
    {
     "name": "stdout",
     "output_type": "stream",
     "text": [
      "\n",
      "*** Profile printout saved to text file 'primes_list_version.log'. \n",
      "Timer unit: 1e-06 s\n",
      "\n",
      "Total time: 0.624092 s\n",
      "File: <ipython-input-9-4e380913de3f>\n",
      "Function: primes_list_version at line 1\n",
      "\n",
      "Line #      Hits         Time  Per Hit   % Time  Line Contents\n",
      "==============================================================\n",
      "     1                                           def primes_list_version(n: int) -> set:\n",
      "     2         1        242.0    242.0      0.0      numbers = list(range(2, n+1))\n",
      "     3         1          2.0      2.0      0.0      primes = []\n",
      "     4        26         66.0      2.5      0.0      while len(numbers) > 0:\n",
      "     5        26         84.0      3.2      0.0          LOGGER.debug(\"len(numbers) is %s\", len(numbers))\n",
      "     6                                           \n",
      "     7                                                   # The minimum number in the set is always the smallest prime number.\n",
      "     8        26         33.0      1.3      0.0          prime: int = numbers[0]\n",
      "     9        26         43.0      1.7      0.0          primes.append(prime)\n",
      "    10        26         83.0      3.2      0.0          LOGGER.debug(\"prime [%s] for the current numbers %s\", prime, numbers)\n",
      "    11                                           \n",
      "    12                                                   # Remove all the numbers divisible by the prime.\n",
      "    13        26         47.0      1.8      0.0          numbers.remove(prime)\n",
      "    14        26        676.0     26.0      0.1          start = np.square(prime)\n",
      "    15        26         86.0      3.3      0.0          if start > n:\n",
      "    16         1          2.0      2.0      0.0              LOGGER.debug(\"primes(): start %s > %s. Break the loop\", start, n)\n",
      "    17         1          6.0      6.0      0.0              primes.extend(numbers)\n",
      "    18         1          0.0      0.0      0.0              break\n",
      "    19                                                   else:\n",
      "    20        25        124.0      5.0      0.0              divisibles = range(start, n+1, prime)\n",
      "    21        25        615.0     24.6      0.1              LOGGER.debug(\"primes(): divisibles are %s\", list(divisibles))\n",
      "    22                                           \n",
      "    23     17006      13712.0      0.8      2.2              for d in divisibles:\n",
      "    24     16981      11443.0      0.7      1.8                  try:\n",
      "    25     16981     550825.0     32.4     88.3                      numbers.remove(d)\n",
      "    26      8211       9593.0      1.2      1.5                  except ValueError as e:\n",
      "    27      8211      27729.0      3.4      4.4                      LOGGER.debug(\"Removing %s caused %s\", d, e)\n",
      "    28      8211       8607.0      1.0      1.4                      pass\n",
      "    29                                                           \n",
      "    30        25         73.0      2.9      0.0              LOGGER.debug(\"primes(): numbers after removing divisibles are %s\", numbers)\n",
      "    31                                                   \n",
      "    32         1          1.0      1.0      0.0      return primes\n"
     ]
    }
   ],
   "source": [
    "%lprun \\\n",
    "    -T primes_list_version.log \\\n",
    "    -f primes_list_version \\\n",
    "    primes_list_version(N)\n",
    "\n",
    "print(open('primes_list_version.log', 'r').read())"
   ]
  },
  {
   "cell_type": "code",
   "execution_count": 11,
   "metadata": {},
   "outputs": [
    {
     "name": "stdout",
     "output_type": "stream",
     "text": [
      "514 ms ± 83.1 ms per loop (mean ± std. dev. of 7 runs, 1 loop each)\n"
     ]
    }
   ],
   "source": [
    "%%timeit\n",
    "primes_list_version(N)"
   ]
  },
  {
   "cell_type": "code",
   "execution_count": 12,
   "metadata": {},
   "outputs": [
    {
     "name": "stdout",
     "output_type": "stream",
     "text": [
      "peak memory: 94.88 MiB, increment: 0.02 MiB\n"
     ]
    }
   ],
   "source": [
    "%%memit\n",
    "primes_list_version(N)"
   ]
  },
  {
   "cell_type": "markdown",
   "metadata": {},
   "source": [
    "# Approach 02\n",
    "## Numpy meshgrid product\n",
    "\n",
    "The divisible numbers D are products x*y of the (x, y) grid. Then P = set(range(2, n+1)) - D.\n",
    "<img src=\"images/divisibles_as_grid_product.JPG\" align=\"left\" width=650/>"
   ]
  },
  {
   "cell_type": "code",
   "execution_count": 13,
   "metadata": {},
   "outputs": [],
   "source": [
    "from typing import List\n",
    "import numpy as np\n",
    "\n",
    "\n",
    "def prime_numpy_version(n: int) -> List[int]:\n",
    "    \"\"\"Generate prime numbers\n",
    "    P = Z - D\n",
    "    P: Primes\n",
    "    Z: All integer numbers\n",
    "    D: Divisible (non-primes)\n",
    "\n",
    "    Args:\n",
    "        n: upper bound to generate primes in-between 0 and n (inclusive)\n",
    "    Returns:\n",
    "        list of prime numbers\n",
    "    \"\"\"\n",
    "    Diff = np.setdiff1d\n",
    "    arm = range(2, np.floor(n / 2).astype(int) + 1)\n",
    "    x, y = np.meshgrid(*([arm] * 2))\n",
    "\n",
    "    Z = range(2, n + 1)\n",
    "    D = x * y\n",
    "    P = Diff(Z, D[D <= n].ravel())\n",
    "\n",
    "    return P.tolist()"
   ]
  },
  {
   "cell_type": "code",
   "execution_count": 14,
   "metadata": {},
   "outputs": [
    {
     "name": "stdout",
     "output_type": "stream",
     "text": [
      "[]\n",
      "[]\n",
      "[]\n",
      "[2]\n",
      "[2, 3]\n",
      "[2, 3, 5, 7, 11, 13, 17, 19, 23, 29, 31, 37, 41, 43, 47, 53, 59, 61, 67, 71, 73, 79, 83, 89, 97]\n"
     ]
    }
   ],
   "source": [
    "print(prime_numpy_version(-1))\n",
    "print(prime_numpy_version(0))\n",
    "print(prime_numpy_version(1))\n",
    "print(prime_numpy_version(2))\n",
    "print(prime_numpy_version(3))\n",
    "print(prime_numpy_version(100))"
   ]
  },
  {
   "cell_type": "code",
   "execution_count": 15,
   "metadata": {},
   "outputs": [
    {
     "name": "stdout",
     "output_type": "stream",
     "text": [
      "\n",
      "*** Profile printout saved to text file 'prime_numpy_version.log'. \n",
      "Timer unit: 1e-06 s\n",
      "\n",
      "Total time: 2.94502 s\n",
      "File: <ipython-input-13-0e03823218c2>\n",
      "Function: prime_numpy_version at line 5\n",
      "\n",
      "Line #      Hits         Time  Per Hit   % Time  Line Contents\n",
      "==============================================================\n",
      "     5                                           def prime_numpy_version(n: int) -> List[int]:\n",
      "     6                                               \"\"\"Generate prime numbers\n",
      "     7                                               P = Z - D\n",
      "     8                                               P: Primes\n",
      "     9                                               Z: All integer numbers\n",
      "    10                                               D: Divisible (non-primes)\n",
      "    11                                           \n",
      "    12                                               Args:\n",
      "    13                                                   n: upper bound to generate primes in-between 0 and n (inclusive)\n",
      "    14                                               Returns:\n",
      "    15                                                   list of prime numbers\n",
      "    16                                               \"\"\"\n",
      "    17         1          5.0      5.0      0.0      Diff = np.setdiff1d\n",
      "    18         1         50.0     50.0      0.0      arm = range(2, np.floor(n / 2).astype(int) + 1)\n",
      "    19         1    1777998.0 1777998.0     60.4      x, y = np.meshgrid(*([arm] * 2))\n",
      "    20                                           \n",
      "    21         1          7.0      7.0      0.0      Z = range(2, n + 1)\n",
      "    22         1    1006273.0 1006273.0     34.2      D = x * y\n",
      "    23         1     160661.0 160661.0      5.5      P = Diff(Z, D[D <= n].ravel())\n",
      "    24                                           \n",
      "    25         1         31.0     31.0      0.0      return P.tolist()\n"
     ]
    }
   ],
   "source": [
    "%lprun \\\n",
    "    -T prime_numpy_version.log \\\n",
    "    -f prime_numpy_version \\\n",
    "    prime_numpy_version(N)\n",
    "\n",
    "print(open('prime_numpy_version.log', 'r').read())"
   ]
  },
  {
   "cell_type": "code",
   "execution_count": 16,
   "metadata": {},
   "outputs": [
    {
     "name": "stdout",
     "output_type": "stream",
     "text": [
      "216 ms ± 44.8 ms per loop (mean ± std. dev. of 7 runs, 1 loop each)\n"
     ]
    }
   ],
   "source": [
    "%%timeit\n",
    "prime_numpy_version(N)"
   ]
  },
  {
   "cell_type": "code",
   "execution_count": 17,
   "metadata": {},
   "outputs": [
    {
     "name": "stdout",
     "output_type": "stream",
     "text": [
      "peak memory: 690.26 MiB, increment: 572.00 MiB\n"
     ]
    }
   ],
   "source": [
    "%%memit\n",
    "prime_numpy_version(N)"
   ]
  },
  {
   "cell_type": "markdown",
   "metadata": {},
   "source": [
    "# Validation\n",
    "\n",
    "Make sure all approaches produces the same."
   ]
  },
  {
   "cell_type": "code",
   "execution_count": 18,
   "metadata": {},
   "outputs": [],
   "source": [
    "benchmark = primes(N)\n",
    "assert benchmark == primes_list_version(N)\n",
    "assert benchmark == prime_numpy_version(N)"
   ]
  },
  {
   "cell_type": "code",
   "execution_count": 19,
   "metadata": {},
   "outputs": [
    {
     "name": "stdout",
     "output_type": "stream",
     "text": [
      "[2, 3, 5, 7, 11, 13, 17, 19, 23, 29, 31, 37, 41, 43, 47, 53, 59, 61, 67, 71, 73, 79, 83, 89, 97]\n"
     ]
    }
   ],
   "source": [
    "print(primes(100))"
   ]
  },
  {
   "cell_type": "markdown",
   "metadata": {},
   "source": [
    "# Approach 03\n",
    "## Numpy prime number bitmap\n",
    "\n",
    "For $S = np.sum(D[y]),\\; axis=0)$, if $S[x] == 1$ is True, x is prime. \n",
    "\n",
    "<img src=\"images/prime_bit_matrix.JPG\" align=\"left\" width=650/>\n"
   ]
  }
 ],
 "metadata": {
  "kernelspec": {
   "display_name": "Python 3",
   "language": "python",
   "name": "python3"
  },
  "language_info": {
   "codemirror_mode": {
    "name": "ipython",
    "version": 3
   },
   "file_extension": ".py",
   "mimetype": "text/x-python",
   "name": "python",
   "nbconvert_exporter": "python",
   "pygments_lexer": "ipython3",
   "version": "3.8.5"
  }
 },
 "nbformat": 4,
 "nbformat_minor": 4
}
