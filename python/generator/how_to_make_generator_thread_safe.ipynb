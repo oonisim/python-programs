{
 "cells": [
  {
   "cell_type": "markdown",
   "id": "61d0f884",
   "metadata": {},
   "source": [
    "# How to make a thread-safe generator\n",
    "\n",
    "Short answer is you cannot.\n",
    "\n",
    "* [Using iterators and generators in multi-threaded applications](https://anandology.com/blog/using-iterators-and-generators/)\n",
    "\n",
    "> if two threads try to call next method on a generator at the same time, it will raise an exception ```ValueError: generator already executing```. The only way to fix it is by wrapping it in an iterator and have a lock that allows only one thread to call next method of the generator.\n",
    "\n",
    "* [Are Generators Threadsafe?](https://stackoverflow.com/questions/1131430/are-generators-threadsafe)\n",
    "* [Python builtin - iter](https://docs.python.org/3/library/functions.html#iter)\n",
    "\n",
    "> #### iter(object)\n",
    "> ```object``` must be a collection object which supports the iterable protocol (the __iter__() method), or it must support the sequence protocol (the ```__getitem__()``` method with integer arguments starting at 0). If it does not support either of those protocols, TypeError is raised."
   ]
  },
  {
   "cell_type": "code",
   "execution_count": 1,
   "id": "5d746d13",
   "metadata": {},
   "outputs": [],
   "source": [
    "import threading\n",
    "import functools"
   ]
  },
  {
   "cell_type": "code",
   "execution_count": 2,
   "id": "844ea1d5",
   "metadata": {},
   "outputs": [],
   "source": [
    "def count():\n",
    "    i = 0\n",
    "    while True:\n",
    "        i += 1\n",
    "        yield i\n",
    "\n",
    "class Counter:\n",
    "    def __init__(self):\n",
    "        self.i = 0\n",
    "\n",
    "    def __iter__(self):\n",
    "        return self\n",
    "\n",
    "    def __next__(self):\n",
    "        self.i += 1\n",
    "        return self.i\n",
    "\n",
    "def loop(generator, n):\n",
    "    \"\"\"Runs the given function n times in a loop.\n",
    "    \"\"\"\n",
    "    for i in range(n):\n",
    "        next(generator)\n",
    "\n",
    "def run(f, repeats=1000, nthreads=10):\n",
    "    \"\"\"Starts multiple threads to execute the given function multiple\n",
    "    times in each thread.\n",
    "    \"\"\"\n",
    "    # create threads\n",
    "    threads = [threading.Thread(target=loop, args=(f, repeats)) \n",
    "               for i in range(nthreads)]\n",
    "\n",
    "    # start threads\n",
    "    for t in threads:\n",
    "        t.start()\n",
    "\n",
    "    # wait for threads to finish\n",
    "    for t in threads:\n",
    "        t.join()\n",
    "\n",
    "def main():\n",
    "    c1 = count()\n",
    "    c2 = Counter()\n",
    "\n",
    "    # call c1.next 100K times in 2 different threads\n",
    "    run(c1, repeats=100000, nthreads=2)\n",
    "    print(\"c1\", next(c1))\n",
    "\n",
    "    # call c2.next 100K times in 2 different threads\n",
    "    run(c2, repeats=100000, nthreads=2)\n",
    "    print(\"c2\", next(c2))"
   ]
  },
  {
   "cell_type": "code",
   "execution_count": 8,
   "id": "fb6cccfb",
   "metadata": {},
   "outputs": [
    {
     "name": "stderr",
     "output_type": "stream",
     "text": [
      "Exception in thread Thread-26:\n",
      "Traceback (most recent call last):\n",
      "  File \"/Library/Frameworks/Python.framework/Versions/3.9/lib/python3.9/threading.py\", line 980, in _bootstrap_inner\n",
      "    self.run()\n",
      "  File \"/Library/Frameworks/Python.framework/Versions/3.9/lib/python3.9/threading.py\", line 917, in run\n",
      "    self._target(*self._args, **self._kwargs)\n",
      "  File \"/var/folders/_4/8v285hqs45xfzk0l1nlr3yq40000gn/T/ipykernel_49390/4243573237.py\", line 22, in loop\n",
      "ValueError: generator already executing\n"
     ]
    },
    {
     "name": "stdout",
     "output_type": "stream",
     "text": [
      "c1 100001\n",
      "c2 200001\n"
     ]
    }
   ],
   "source": [
    "# This may succeeds by chance. Try multiple times to get \"ValueError: generator already executing\"\n",
    "main()"
   ]
  },
  {
   "cell_type": "markdown",
   "id": "6686a8d3",
   "metadata": {},
   "source": [
    "# Solution"
   ]
  },
  {
   "cell_type": "code",
   "execution_count": 6,
   "id": "bb8f9de6",
   "metadata": {},
   "outputs": [],
   "source": [
    "class ThreadSafeIterator:\n",
    "    \"\"\"Wrapper to make a generator thread-safe\n",
    "    See\n",
    "        * https://docs.python.org/3/library/functions.html#iter\n",
    "        * https://anandology.com/blog/using-iterators-and-generators/\n",
    "    \"\"\"\n",
    "    def __init__(self, iterable):\n",
    "        self.lock = threading.Lock()\n",
    "        self.iterable = iter(iterable)\n",
    "\n",
    "    def __iter__(self):\n",
    "        return self\n",
    "\n",
    "    def __next__(self):\n",
    "        with self.lock:\n",
    "            return self.iterable.__next__()"
   ]
  },
  {
   "cell_type": "code",
   "execution_count": 11,
   "id": "3e3c85eb",
   "metadata": {},
   "outputs": [],
   "source": [
    "def threadsafe_iterator(f):\n",
    "    \"\"\"A decorator that makes an iterable thread-safe.\n",
    "    \"\"\"\n",
    "    @functools.wraps(f)\n",
    "    def g(*args, **kwargs):\n",
    "        return ThreadSafeIterator(f(*args, **kwargs))\n",
    "    return g\n"
   ]
  },
  {
   "cell_type": "code",
   "execution_count": 15,
   "id": "14c2af29",
   "metadata": {},
   "outputs": [],
   "source": [
    "@threadsafe_iterator\n",
    "def count2():\n",
    "    i = 0\n",
    "    while True:\n",
    "        i += 1\n",
    "        yield i\n",
    "\n",
    "@threadsafe_iterator\n",
    "class Counter2:\n",
    "    def __init__(self):\n",
    "        self.i = 0\n",
    "\n",
    "    def __iter__(self):\n",
    "        return self\n",
    "\n",
    "    def __next__(self):\n",
    "        self.i += 1\n",
    "        return self.i"
   ]
  },
  {
   "cell_type": "code",
   "execution_count": 18,
   "id": "d1b2efbe",
   "metadata": {},
   "outputs": [],
   "source": [
    "def main2():\n",
    "    c1_2 = count2()\n",
    "    c2_2 = Counter2()\n",
    "\n",
    "    # call 100K times in 2 different threads\n",
    "    run(c1_2, repeats=100000, nthreads=2)\n",
    "    print(\"c1_2\", next(c1_2))\n",
    "\n",
    "    # call 100K times in 2 different threads\n",
    "    run(c2_2, repeats=100000, nthreads=2)\n",
    "    print(\"c2_2\", next(c2_2))"
   ]
  },
  {
   "cell_type": "code",
   "execution_count": 20,
   "id": "6b9461d7",
   "metadata": {},
   "outputs": [
    {
     "name": "stdout",
     "output_type": "stream",
     "text": [
      "c1_2 200001\n",
      "c2_2 200001\n"
     ]
    }
   ],
   "source": [
    "main2()"
   ]
  },
  {
   "cell_type": "code",
   "execution_count": null,
   "id": "332c2035",
   "metadata": {},
   "outputs": [],
   "source": []
  }
 ],
 "metadata": {
  "kernelspec": {
   "display_name": "Python 3 (ipykernel)",
   "language": "python",
   "name": "python3"
  },
  "language_info": {
   "codemirror_mode": {
    "name": "ipython",
    "version": 3
   },
   "file_extension": ".py",
   "mimetype": "text/x-python",
   "name": "python",
   "nbconvert_exporter": "python",
   "pygments_lexer": "ipython3",
   "version": "3.9.13"
  }
 },
 "nbformat": 4,
 "nbformat_minor": 5
}
