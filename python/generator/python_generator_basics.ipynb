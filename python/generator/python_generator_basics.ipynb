{
 "cells": [
  {
   "cell_type": "markdown",
   "metadata": {},
   "source": [
    "# Return behaviour in geneartor "
   ]
  },
  {
   "cell_type": "code",
   "execution_count": 1,
   "metadata": {},
   "outputs": [
    {
     "name": "stdout",
     "output_type": "stream",
     "text": [
      "1\n"
     ]
    },
    {
     "ename": "StopIteration",
     "evalue": "hoge",
     "output_type": "error",
     "traceback": [
      "\u001b[0;31m---------------------------------------------------------------------------\u001b[0m",
      "\u001b[0;31mStopIteration\u001b[0m                             Traceback (most recent call last)",
      "\u001b[0;32m<ipython-input-1-3671a563a5b3>\u001b[0m in \u001b[0;36m<module>\u001b[0;34m\u001b[0m\n\u001b[1;32m      7\u001b[0m \u001b[0m_f\u001b[0m \u001b[0;34m=\u001b[0m \u001b[0mf\u001b[0m\u001b[0;34m(\u001b[0m\u001b[0;34m)\u001b[0m\u001b[0;34m\u001b[0m\u001b[0;34m\u001b[0m\u001b[0m\n\u001b[1;32m      8\u001b[0m \u001b[0mprint\u001b[0m\u001b[0;34m(\u001b[0m\u001b[0mnext\u001b[0m\u001b[0;34m(\u001b[0m\u001b[0m_f\u001b[0m\u001b[0;34m)\u001b[0m\u001b[0;34m)\u001b[0m\u001b[0;34m\u001b[0m\u001b[0;34m\u001b[0m\u001b[0m\n\u001b[0;32m----> 9\u001b[0;31m \u001b[0mprint\u001b[0m\u001b[0;34m(\u001b[0m\u001b[0mnext\u001b[0m\u001b[0;34m(\u001b[0m\u001b[0m_f\u001b[0m\u001b[0;34m)\u001b[0m\u001b[0;34m)\u001b[0m\u001b[0;34m\u001b[0m\u001b[0;34m\u001b[0m\u001b[0m\n\u001b[0m",
      "\u001b[0;31mStopIteration\u001b[0m: hoge"
     ]
    }
   ],
   "source": [
    "def f():\n",
    "    exception_value = \"hoge\"\n",
    "    while True:\n",
    "        yield 1\n",
    "        return exception_value  # Same with raising StopIteration(exception_value)\n",
    "\n",
    "_f = f()\n",
    "print(next(_f))\n",
    "print(next(_f))"
   ]
  },
  {
   "cell_type": "markdown",
   "metadata": {},
   "source": [
    "# Generator instantiation executes nothing\n",
    "Instantiate a generator only creates an object and stops there."
   ]
  },
  {
   "cell_type": "code",
   "execution_count": 10,
   "metadata": {},
   "outputs": [],
   "source": [
    "def f():\n",
    "    print(\"generator started\")\n",
    "    event = 99999\n",
    "    while True:\n",
    "        event = (yield event) # yield statement is evaluated to None with next()\n",
    "        print(\"event is {}\".format(event))\n",
    "        \n",
    "g = f()  # Does not print \"generator started\""
   ]
  },
  {
   "cell_type": "markdown",
   "metadata": {},
   "source": [
    "## send(value) behavior after instantiation\n",
    "[PEP 342 Specification: Sending Values into Generators](https://www.python.org/dev/peps/pep-0342/#specification-sending-values-into-generators)\n",
    "\n",
    "> Because generator-iterators begin execution at the top of the generator's function body, there is no yield expression to receive a value when the generator has just been created. Therefore, **calling send() with a non-None argument is prohibited when the generator iterator has just started**, and a TypeError is raised if this occurs (presumably due to a logic error of some kind). Thus, before you can communicate with a coroutine you must **first call next() or send(None)** to advance its execution to the first yield expression."
   ]
  },
  {
   "cell_type": "code",
   "execution_count": 11,
   "metadata": {},
   "outputs": [
    {
     "ename": "TypeError",
     "evalue": "can't send non-None value to a just-started generator",
     "output_type": "error",
     "traceback": [
      "\u001b[0;31m---------------------------------------------------------------------------\u001b[0m",
      "\u001b[0;31mTypeError\u001b[0m                                 Traceback (most recent call last)",
      "\u001b[0;32m<ipython-input-11-6afffadcb9ac>\u001b[0m in \u001b[0;36m<module>\u001b[0;34m\u001b[0m\n\u001b[0;32m----> 1\u001b[0;31m \u001b[0mg\u001b[0m\u001b[0;34m.\u001b[0m\u001b[0msend\u001b[0m\u001b[0;34m(\u001b[0m\u001b[0;36m5\u001b[0m\u001b[0;34m)\u001b[0m\u001b[0;34m\u001b[0m\u001b[0;34m\u001b[0m\u001b[0m\n\u001b[0m",
      "\u001b[0;31mTypeError\u001b[0m: can't send non-None value to a just-started generator"
     ]
    }
   ],
   "source": [
    "g.send(5)"
   ]
  },
  {
   "cell_type": "code",
   "execution_count": 12,
   "metadata": {},
   "outputs": [
    {
     "name": "stdout",
     "output_type": "stream",
     "text": [
      "generator started\n",
      "event is 5\n"
     ]
    },
    {
     "data": {
      "text/plain": [
       "5"
      ]
     },
     "execution_count": 12,
     "metadata": {},
     "output_type": "execute_result"
    }
   ],
   "source": [
    "g.send(None)\n",
    "g.send(5)"
   ]
  },
  {
   "cell_type": "markdown",
   "metadata": {},
   "source": [
    "## next() is same with send(None) \n",
    "[generator.__next__()](https://docs.python.org/3/reference/expressions.html#generator.__next__)\n",
    "\n",
    "> When a generator function is resumed with a __next__() method, the **current yield expression always evaluates to None**. "
   ]
  },
  {
   "cell_type": "code",
   "execution_count": 14,
   "metadata": {},
   "outputs": [
    {
     "name": "stdout",
     "output_type": "stream",
     "text": [
      "event is None\n"
     ]
    }
   ],
   "source": [
    "# Will not return the value 5 sent and set in the previous send(5)\n",
    "next(g)"
   ]
  },
  {
   "cell_type": "markdown",
   "metadata": {},
   "source": [
    "## close() behaviour\n",
    "\n",
    "[generator.close()](https://docs.python.org/3/reference/expressions.html#generator.close)\n",
    "\n",
    "> Raises a GeneratorExit at the point where the generator function was paused. If the generator function then exits gracefully, is already closed, or raises GeneratorExit (by not catching the exception), close returns to its caller. "
   ]
  },
  {
   "cell_type": "code",
   "execution_count": 16,
   "metadata": {},
   "outputs": [
    {
     "ename": "StopIteration",
     "evalue": "",
     "output_type": "error",
     "traceback": [
      "\u001b[0;31m---------------------------------------------------------------------------\u001b[0m",
      "\u001b[0;31mStopIteration\u001b[0m                             Traceback (most recent call last)",
      "\u001b[0;32m<ipython-input-16-e8dd0945b374>\u001b[0m in \u001b[0;36m<module>\u001b[0;34m\u001b[0m\n\u001b[1;32m      1\u001b[0m \u001b[0mg\u001b[0m\u001b[0;34m.\u001b[0m\u001b[0mclose\u001b[0m\u001b[0;34m(\u001b[0m\u001b[0;34m)\u001b[0m\u001b[0;34m\u001b[0m\u001b[0;34m\u001b[0m\u001b[0m\n\u001b[0;32m----> 2\u001b[0;31m \u001b[0mprint\u001b[0m\u001b[0;34m(\u001b[0m\u001b[0mnext\u001b[0m\u001b[0;34m(\u001b[0m\u001b[0mg\u001b[0m\u001b[0;34m)\u001b[0m\u001b[0;34m)\u001b[0m  \u001b[0;31m# Raises StopIteration\u001b[0m\u001b[0;34m\u001b[0m\u001b[0;34m\u001b[0m\u001b[0m\n\u001b[0m",
      "\u001b[0;31mStopIteration\u001b[0m: "
     ]
    }
   ],
   "source": [
    "g.close()\n",
    "print(next(g))  # Raises StopIteration as it has been already terminated."
   ]
  },
  {
   "cell_type": "markdown",
   "metadata": {},
   "source": [
    "# Demestify yield statement"
   ]
  },
  {
   "cell_type": "code",
   "execution_count": 11,
   "metadata": {},
   "outputs": [
    {
     "name": "stdout",
     "output_type": "stream",
     "text": [
      "1: send(None) is 99999\n",
      "\n",
      "2: calling send(5)\n",
      "After yield. event_expression is 99999 value is 5\n",
      "After assignment. event_expression is 5 value is 5\n",
      "2: send(5) returned 5\n",
      "\n",
      "3: calling next(g)\n",
      "After yield. event_expression is 5 value is None\n",
      "After assignment. event_expression is 5 value is None\n",
      "3: next(g) returned 5\n"
     ]
    }
   ],
   "source": [
    "def f():\n",
    "    event_expression = 99999\n",
    "    while True:\n",
    "        # In the execution cycle c(n) upon the caller invocation send(value(n)) at t=n.\n",
    "        # \"yield event_expression\" is evaluated and returned to the caller, but not yet with \"value=()\"\n",
    "        # c(n) terminates and the generator gets blocked in the line before \"value=()\".\n",
    "        \n",
    "        # Next execution cycle c(n+1) resumes upon send(value(n+1)) in the line.\n",
    "        # \"value=()\" is executed with the new context from send(value(n)) at t=n+1.\n",
    "        # Hence the value is from the new cycle c(n+1).\n",
    "        value = (yield event_expression)\n",
    "        print(\"After yield. event_expression is {} value is {}\".format(event_expression, value))\n",
    "\n",
    "        event_expression = value if value else event_expression\n",
    "        print(\"After assignment. event_expression is {} value is {}\".format(event_expression, value))\n",
    "        \n",
    "        # c(n+1) continues to the \"yield event_expression\" expression and returns the evaluation result. \n",
    "        \n",
    "# Generator is instantiated but none executed in it.\n",
    "g = f()\n",
    "\n",
    "# Execution cycle c(t=0). \n",
    "# send(None) moves the execution to the \"yield event_expression\" expression.\n",
    "# event_expression=99999 is evaluated and returned to the caller.\n",
    "# c(0) ends here and the generator get blocked in the line without executing \"value=()\" statement.\n",
    "# You must separate \"yield ...\" and \"value=()\" although they are in the same line.\n",
    "# \"yield\" is within c(0) before blocking. \"value=()\" is in the next c(1) after the resume.\n",
    "print(\"1: send(None) is {}\\n\".format(g.send(None)))\n",
    "\n",
    "# Execution cycle c(1). \n",
    "# send(5) resumes the generator in the same yield statement but at the assignment \"value=()\".\n",
    "# A new context from send(5) is framed and \"value=(5)\" is executed.\n",
    "# c(1) continues to the \"yield ...\" expression and event_expression=5 is evaluated and returned to the caller.\n",
    "# c(1) ends here and the generator get blocked in the line without executing \"value=()\" statement.\n",
    "print(\"2: calling send(5)\")\n",
    "print(\"2: send(5) returned {}\\n\".format(g.send(5)))\n",
    "\n",
    "print(\"3: calling next(g)\")\n",
    "print(\"3: next(g) returned {}\".format(next(g)))"
   ]
  },
  {
   "cell_type": "code",
   "execution_count": 40,
   "metadata": {},
   "outputs": [],
   "source": [
    "def g():\n",
    "    event = 99999\n",
    "    while True:\n",
    "        print(\"g() started and is before yield statement.\")\n",
    "        \n",
    "        # https://stackoverflow.com/a/36997251/4281353\n",
    "        # Whenever a generator reaches a yield expression, execution pauses right there, \n",
    "        # the expression can't produce anything inside the generator until it is resumed.\n",
    "        value = (yield event)\n",
    "\n",
    "        print(\"Resumed after yield. event is {} value is {}\".format(event, value))\n",
    "        event = value if value else event\n",
    "\n",
    "        print(\"Update. event is {} value is {}\".format(event))\n",
    "        \n",
    "def f():\n",
    "    exception_value = \"hoge\"\n",
    "    while True:\n",
    "        yield g()\n",
    "        return exception_value  # Same with raising StopIteration(exception_value)\n",
    "\n",
    "_g = next(f())"
   ]
  },
  {
   "cell_type": "code",
   "execution_count": 41,
   "metadata": {},
   "outputs": [
    {
     "name": "stdout",
     "output_type": "stream",
     "text": [
      "g() started and is before yield statement.\n",
      "1: send(None) is 99999\n",
      "\n"
     ]
    }
   ],
   "source": [
    "print(\"1: send(None) is {}\\n\".format(_g.send(None)))"
   ]
  }
 ],
 "metadata": {
  "kernelspec": {
   "display_name": "Python 3",
   "language": "python",
   "name": "python3"
  },
  "language_info": {
   "codemirror_mode": {
    "name": "ipython",
    "version": 3
   },
   "file_extension": ".py",
   "mimetype": "text/x-python",
   "name": "python",
   "nbconvert_exporter": "python",
   "pygments_lexer": "ipython3",
   "version": "3.8.5"
  }
 },
 "nbformat": 4,
 "nbformat_minor": 4
}
