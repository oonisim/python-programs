{
 "cells": [
  {
   "cell_type": "markdown",
   "id": "735c81f4",
   "metadata": {},
   "source": [
    "# [a list of the different modes of opening a file](https://stackoverflow.com/a/23566951/4281353)"
   ]
  },
  {
   "cell_type": "markdown",
   "id": "293b1986",
   "metadata": {},
   "source": [
    "***Here is a list of the different modes of opening a file:***\n",
    "-\n",
    "\n",
    " - r \n",
    "> Opens a file for reading only. The file pointer is placed at the beginning of the file. This is the default mode.\n",
    "\n",
    " - rb\n",
    "> Opens a file for reading only in binary format. The file pointer is placed at the beginning of the file. This is the default mode.\n",
    "\n",
    " - r+\n",
    "> Opens a file for both reading and writing. The file pointer will be at the beginning of the file.\n",
    "\n",
    " - rb+\n",
    "> Opens a file for both reading and writing in binary format. The file pointer will be at the beginning of the file.\n",
    " - w\n",
    "> Opens a file for writing only. Overwrites the file if the file exists. If the file does not exist, creates a new file for writing.\n",
    "\n",
    " - wb\n",
    "> Opens a file for writing only in binary format. Overwrites the file if the file exists. If the file does not exist, creates a new file for writing.\n",
    "\n",
    " - w+\n",
    "> Opens a file for both writing and reading. Overwrites the existing file if the file exists. If the file does not exist, creates a new file for reading and writing.\n",
    "\n",
    " - wb+\n",
    "> Opens a file for both writing and reading in binary format. Overwrites the existing file if the file exists. If the file does not exist, creates a new file for reading and writing.\n",
    " - a \n",
    "> Opens a file for appending. The file pointer is at the end of the file if the file exists. That is, the file is in the append mode. If the file does not exist, it creates a new file for writing.\n",
    "\n",
    " - ab\n",
    "> Opens a file for appending in binary format. The file pointer is at the end of the file if the file exists. That is, the file is in the append mode. If the file does not exist, it creates a new file for writing.\n",
    "\n",
    " - a+\n",
    ">Opens a file for both appending and reading. The file pointer is at the end of the file if the file exists. The file opens in the append mode. If the file does not exist, it creates a new file for reading and writing.\n",
    "\n",
    " - ab+\n",
    "> Opens a file for both appending and reading in binary format. The file pointer is at the end of the file if the file exists. The file opens in the append mode. If the file does not exist, it creates a new file for reading and writing."
   ]
  }
 ],
 "metadata": {
  "kernelspec": {
   "display_name": "Python 3",
   "language": "python",
   "name": "python3"
  },
  "language_info": {
   "codemirror_mode": {
    "name": "ipython",
    "version": 3
   },
   "file_extension": ".py",
   "mimetype": "text/x-python",
   "name": "python",
   "nbconvert_exporter": "python",
   "pygments_lexer": "ipython3",
   "version": "3.8.8"
  }
 },
 "nbformat": 4,
 "nbformat_minor": 5
}
