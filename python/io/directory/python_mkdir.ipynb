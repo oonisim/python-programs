{
 "cells": [
  {
   "cell_type": "markdown",
   "id": "a012bb25",
   "metadata": {},
   "source": [
    "# mkdir with permission\n",
    "\n",
    "* [Path.mkdir(mode=511, parents=False, exist_ok=False)][1]\n",
    "\n",
    "> Create a new directory at this given path. If mode is given, it is combined with the process’ umask value to determine the file mode and access flags.\n",
    "\n",
    "\n",
    "**mode=511** is decimal number which is ```777``` in octal number. It is then masked with ```umask``` value, e.g. if umask is ```002```, then ```777 - 002 = 775```.\n",
    "\n",
    "  [1]: https://docs.python.org/3/library/pathlib.html"
   ]
  },
  {
   "cell_type": "code",
   "execution_count": 1,
   "id": "d0e82a49",
   "metadata": {},
   "outputs": [],
   "source": [
    "!rm -rf /tmp/hoge"
   ]
  },
  {
   "cell_type": "code",
   "execution_count": 2,
   "id": "a55246e9",
   "metadata": {},
   "outputs": [],
   "source": [
    "import pathlib\n",
    "pathlib.Path(\"/tmp/hoge\").mkdir(mode=0o775, exist_ok=True)"
   ]
  },
  {
   "cell_type": "code",
   "execution_count": 3,
   "id": "a46734d8",
   "metadata": {},
   "outputs": [
    {
     "name": "stdout",
     "output_type": "stream",
     "text": [
      "drwxrwxr-x 2 oonisim oonisim 4096 Dec 30 17:01 /tmp/hoge\r\n"
     ]
    }
   ],
   "source": [
    "!ls -lda /tmp/hoge"
   ]
  },
  {
   "cell_type": "code",
   "execution_count": 4,
   "id": "1722fbc8",
   "metadata": {},
   "outputs": [],
   "source": [
    "!rm -rf /tmp/hoge"
   ]
  },
  {
   "cell_type": "code",
   "execution_count": null,
   "id": "6897306a",
   "metadata": {},
   "outputs": [],
   "source": []
  }
 ],
 "metadata": {
  "kernelspec": {
   "display_name": "Python 3 (ipykernel)",
   "language": "python",
   "name": "python3"
  },
  "language_info": {
   "codemirror_mode": {
    "name": "ipython",
    "version": 3
   },
   "file_extension": ".py",
   "mimetype": "text/x-python",
   "name": "python",
   "nbconvert_exporter": "python",
   "pygments_lexer": "ipython3",
   "version": "3.8.10"
  }
 },
 "nbformat": 4,
 "nbformat_minor": 5
}
