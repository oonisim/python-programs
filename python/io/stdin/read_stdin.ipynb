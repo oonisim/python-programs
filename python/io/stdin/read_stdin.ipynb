{
 "cells": [
  {
   "cell_type": "markdown",
   "id": "54f35328",
   "metadata": {},
   "source": [
    "# Read one line from stdin\n",
    "\n",
    "[Difference between input() and sys.stdin.readline()](https://www.geeksforgeeks.org/difference-between-input-and-sys-stdin-readline/)\n",
    "\n",
    "* input()\n",
    "Read a line from stdin without escape characters\n",
    "\n",
    "* sys.stdin.readline()\n",
    "Read a line from stdin including the escape characters\n",
    "\n"
   ]
  },
  {
   "cell_type": "code",
   "execution_count": 6,
   "id": "dd46756c",
   "metadata": {},
   "outputs": [
    {
     "name": "stdout",
     "output_type": "stream",
     "text": [
      "Input a line> hoge\n",
      "hoge\n"
     ]
    }
   ],
   "source": [
    "import sys\n",
    "line = input(\"Input a line> \")\n",
    "print(line)"
   ]
  },
  {
   "cell_type": "code",
   "execution_count": 8,
   "id": "a583e06c",
   "metadata": {},
   "outputs": [
    {
     "name": "stdout",
     "output_type": "stream",
     "text": [
      "\n"
     ]
    }
   ],
   "source": [
    "n = 1\n",
    "line = sys.stdin.readline(n)    # read n lines\n",
    "print(line)"
   ]
  },
  {
   "cell_type": "markdown",
   "id": "f875fafc",
   "metadata": {},
   "source": [
    "# Loop reading lines"
   ]
  },
  {
   "cell_type": "markdown",
   "id": "5ce21f6c",
   "metadata": {},
   "source": [
    "sys.stdin is a file-like object on which you can call functions read or readlines if you want to read everything or you want to read everything and split it by newline automatically. (You need to import sys for this to work.)\n",
    "\n",
    "If you want to prompt the user for input, you can use input in Python 3.\n",
    "\n",
    "If you actually just want to read command-line options, you can access them via the sys.argv list."
   ]
  },
  {
   "cell_type": "code",
   "execution_count": null,
   "id": "ec7a7d4c",
   "metadata": {},
   "outputs": [],
   "source": [
    "import sys\n",
    "\n",
    "for line in sys.stdin:\n",
    "    print(line)"
   ]
  },
  {
   "cell_type": "markdown",
   "id": "10fab121",
   "metadata": {},
   "source": [
    "fileinput will loop through all the lines in the input specified as file names given in command-line arguments, or the standard input if no arguments are provided.\n",
    "\n",
    "Note: line will contain a trailing newline; to remove it use line.rstrip()"
   ]
  },
  {
   "cell_type": "code",
   "execution_count": null,
   "id": "8052f319",
   "metadata": {},
   "outputs": [],
   "source": [
    "import fileinput\n",
    "\n",
    "for line in fileinput.input():\n",
    "    pass"
   ]
  },
  {
   "cell_type": "markdown",
   "id": "4debbd6e",
   "metadata": {},
   "source": [
    "# Example\n",
    "\n",
    "* [Word Order](https://www.hackerrank.com/challenges/word-order/problem)\n",
    "\n",
    "Read a word per line from stdin and display . Each line has one word. For each word, output its number of occurrences. \n",
    "\n",
    "* Each input line ends with a \"\\n\" character.\n",
    "* All the words are composed of lowercase English letters only.\n",
    "\n",
    "## Input Format\n",
    "\n",
    "*  The first line contains the integer, .\n",
    "*  The next  lines each contain a word.\n",
    "\n",
    "### Sample Input\n",
    "\n",
    "4\n",
    "bcdef\n",
    "abcdefg\n",
    "bcde\n",
    "bcdef\n",
    "Sample Output\n",
    "\n",
    "## Output Format\n",
    "\n",
    "On the first line, output the number of distinct words from the input. On the second line, output the number of occurrences for each distinct word according to their appearance in the input.\n",
    "\n",
    "### Sample output\n",
    "\n",
    "3\n",
    "2 1 1\n",
    "Explanation\n",
    "\n",
    "\n",
    "## Explanation\n",
    "There are  distinct words. Here, \"bcdef\" appears twice in the input at the first and last positions. The other words appear once each. The order of the first appearances are \"bcdef\", \"abcdefg\" and \"bcde\" which corresponds to the output.\n",
    "\n",
    "## Code"
   ]
  },
  {
   "cell_type": "code",
   "execution_count": null,
   "id": "81d5799b",
   "metadata": {},
   "outputs": [],
   "source": [
    "num_lines = int(input())\n",
    "\n",
    "counters = {}\n",
    "for word in sys.stdin:\n",
    "    word = word.rstrip()  # remove \\n if any\n",
    "    counters[word] = (counters[word] + 1) if word in counters else 1\n",
    "    \n",
    "print(len(counters))\n",
    "print(*counters.values())"
   ]
  }
 ],
 "metadata": {
  "kernelspec": {
   "display_name": "Python 3 (ipykernel)",
   "language": "python",
   "name": "python3"
  },
  "language_info": {
   "codemirror_mode": {
    "name": "ipython",
    "version": 3
   },
   "file_extension": ".py",
   "mimetype": "text/x-python",
   "name": "python",
   "nbconvert_exporter": "python",
   "pygments_lexer": "ipython3",
   "version": "3.8.10"
  }
 },
 "nbformat": 4,
 "nbformat_minor": 5
}
