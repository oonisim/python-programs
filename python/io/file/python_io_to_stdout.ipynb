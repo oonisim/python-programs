{
 "cells": [
  {
   "cell_type": "markdown",
   "id": "0741d781",
   "metadata": {},
   "source": [
    "# How to output to stdout\n",
    "\n",
    "* [How to handle both `with open(...)` and `sys.stdout` nicely?](https://stackoverflow.com/questions/17602878/how-to-handle-both-with-open-and-sys-stdout-nicely)"
   ]
  },
  {
   "cell_type": "code",
   "execution_count": null,
   "id": "f75f1299",
   "metadata": {},
   "outputs": [],
   "source": [
    "import sys\n",
    "import contextlib\n",
    "\n",
    "@contextlib.contextmanager\n",
    "def smart_open(filename=None):\n",
    "    if filename and filename != '-':\n",
    "        fh = open(filename, 'w')\n",
    "    else:\n",
    "        fh = sys.stdout\n",
    "\n",
    "    try:\n",
    "        yield fh\n",
    "    finally:\n",
    "        if fh is not sys.stdout:\n",
    "            fh.close()"
   ]
  }
 ],
 "metadata": {
  "kernelspec": {
   "display_name": "Python 3",
   "language": "python",
   "name": "python3"
  },
  "language_info": {
   "codemirror_mode": {
    "name": "ipython",
    "version": 3
   },
   "file_extension": ".py",
   "mimetype": "text/x-python",
   "name": "python",
   "nbconvert_exporter": "python",
   "pygments_lexer": "ipython3",
   "version": "3.7.9"
  }
 },
 "nbformat": 4,
 "nbformat_minor": 5
}
