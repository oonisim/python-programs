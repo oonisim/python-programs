{
 "cells": [
  {
   "cell_type": "markdown",
   "id": "8ce2d7a7",
   "metadata": {},
   "source": [
    "# File basename and extension"
   ]
  },
  {
   "cell_type": "code",
   "execution_count": 2,
   "id": "d77f38c6",
   "metadata": {},
   "outputs": [],
   "source": [
    "import os"
   ]
  },
  {
   "cell_type": "code",
   "execution_count": 4,
   "id": "8f251b88",
   "metadata": {},
   "outputs": [
    {
     "name": "stdout",
     "output_type": "stream",
     "text": [
      "/path/to/file and .csv\n"
     ]
    }
   ],
   "source": [
    "destination = \"/path/to/file.csv\"\n",
    "\n",
    "basename = os.path.splitext(destination)[0]\n",
    "extension = os.path.splitext(destination)[1]\n",
    "\n",
    "print(f\"{basename} and {extension}\")"
   ]
  },
  {
   "cell_type": "code",
   "execution_count": 7,
   "id": "abd062c7",
   "metadata": {},
   "outputs": [
    {
     "data": {
      "text/plain": [
       "'file'"
      ]
     },
     "execution_count": 7,
     "metadata": {},
     "output_type": "execute_result"
    }
   ],
   "source": [
    "os.path.splitext(\"file\")[0]"
   ]
  },
  {
   "cell_type": "code",
   "execution_count": 8,
   "id": "d845be2b",
   "metadata": {},
   "outputs": [
    {
     "data": {
      "text/plain": [
       "''"
      ]
     },
     "execution_count": 8,
     "metadata": {},
     "output_type": "execute_result"
    }
   ],
   "source": [
    "os.path.splitext(\"file\")[1]"
   ]
  },
  {
   "cell_type": "code",
   "execution_count": null,
   "id": "f3e5b137",
   "metadata": {},
   "outputs": [],
   "source": []
  }
 ],
 "metadata": {
  "kernelspec": {
   "display_name": "Python 3 (ipykernel)",
   "language": "python",
   "name": "python3"
  },
  "language_info": {
   "codemirror_mode": {
    "name": "ipython",
    "version": 3
   },
   "file_extension": ".py",
   "mimetype": "text/x-python",
   "name": "python",
   "nbconvert_exporter": "python",
   "pygments_lexer": "ipython3",
   "version": "3.8.10"
  }
 },
 "nbformat": 4,
 "nbformat_minor": 5
}
