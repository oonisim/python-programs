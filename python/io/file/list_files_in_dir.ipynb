{
 "cells": [
  {
   "cell_type": "markdown",
   "id": "f41cb345",
   "metadata": {},
   "source": [
    "# List the files sorted in alphabetical order"
   ]
  },
  {
   "cell_type": "code",
   "execution_count": 5,
   "id": "6c9f295e",
   "metadata": {},
   "outputs": [],
   "source": [
    "import os\n",
    "import glob\n",
    "import re"
   ]
  },
  {
   "cell_type": "code",
   "execution_count": 4,
   "id": "a59c47bd",
   "metadata": {},
   "outputs": [],
   "source": [
    "def list_files(folder=\".\"):\n",
    "    \"\"\"List files in the folder in alphabetical order\"\"\"\n",
    "    files = sorted(filter(os.path.isfile, glob.glob(folder + os.sep + \"*\") ) )\n",
    "    for filepath in files:\n",
    "        print(f\"{os.path.basename(filepath)}\")"
   ]
  },
  {
   "cell_type": "code",
   "execution_count": 5,
   "id": "ba80fabc",
   "metadata": {},
   "outputs": [
    {
     "name": "stdout",
     "output_type": "stream",
     "text": [
      "list_files_in_dir_sorted.ipynb\n",
      "python_file_flags.ipynb\n",
      "python_io_file.ipynb\n",
      "read_file_from_generater_test.txt\n",
      "take_n.py\n",
      "take_n_from_i.py\n"
     ]
    }
   ],
   "source": [
    "list_files()"
   ]
  },
  {
   "cell_type": "markdown",
   "id": "a9fd7d70",
   "metadata": {},
   "source": [
    "# List files matching pattern"
   ]
  },
  {
   "cell_type": "code",
   "execution_count": 47,
   "id": "171a6685",
   "metadata": {},
   "outputs": [],
   "source": [
    "!touch 2021QTR1 2020QTR3 2019QTR2.gz"
   ]
  },
  {
   "cell_type": "code",
   "execution_count": 48,
   "id": "2863f717",
   "metadata": {},
   "outputs": [],
   "source": [
    "def list_files_with_pattern(data_dir=\".\", year=None, qtr=None):\n",
    "    assert (re.match(r\"[1-2][0-9][0-9][0-9]\", year) if year else True), f\"Invalid year {year}\" \n",
    "    assert (re.match(r\"[1-4]\", qtr) if qtr else True), f\"Invalid quarter {qtr}\"\n",
    "\n",
    "    pattern = \"\"\n",
    "    pattern += f\"{year}\" if year else \"*\"\n",
    "    pattern += \"QTR\"\n",
    "    pattern += f\"{qtr}\" if qtr else \"?\"\n",
    "\n",
    "    return glob.glob(data_dir + os.sep + pattern)"
   ]
  },
  {
   "cell_type": "code",
   "execution_count": 49,
   "id": "1bd28b9c",
   "metadata": {},
   "outputs": [
    {
     "name": "stdout",
     "output_type": "stream",
     "text": [
      "./2021QTR1\n",
      "./2020QTR3\n"
     ]
    }
   ],
   "source": [
    "for f in list_files_with_pattern():\n",
    "    print(f)"
   ]
  },
  {
   "cell_type": "code",
   "execution_count": 50,
   "id": "01a19841",
   "metadata": {},
   "outputs": [
    {
     "name": "stdout",
     "output_type": "stream",
     "text": [
      "./2021QTR1\n"
     ]
    }
   ],
   "source": [
    "for f in list_files_with_pattern(year=\"2021\"):\n",
    "    print(f)"
   ]
  },
  {
   "cell_type": "code",
   "execution_count": 51,
   "id": "a57c868a",
   "metadata": {},
   "outputs": [
    {
     "name": "stdout",
     "output_type": "stream",
     "text": [
      "./2020QTR3\n"
     ]
    }
   ],
   "source": [
    "for f in list_files_with_pattern(qtr=\"3\"):\n",
    "    print(f)"
   ]
  },
  {
   "cell_type": "code",
   "execution_count": 52,
   "id": "30f50036",
   "metadata": {},
   "outputs": [
    {
     "name": "stdout",
     "output_type": "stream",
     "text": [
      "./2020QTR3\n"
     ]
    }
   ],
   "source": [
    "for f in list_files_with_pattern(year=\"2020\", qtr=\"3\"):\n",
    "    print(f)"
   ]
  },
  {
   "cell_type": "code",
   "execution_count": 53,
   "id": "e4b39a91",
   "metadata": {},
   "outputs": [],
   "source": [
    "!rm 2021QTR1 2020QTR3 2019QTR2.gz"
   ]
  },
  {
   "cell_type": "markdown",
   "id": "4cb69be1",
   "metadata": {},
   "source": [
    "# List files exculding matched suffixes"
   ]
  },
  {
   "cell_type": "code",
   "execution_count": 84,
   "id": "166df272",
   "metadata": {},
   "outputs": [],
   "source": [
    "def list_files_with_ignores(data_dir=\".\", suffixes=[\".gz\", \".Z\"]):\n",
    "    ignores = set([])\n",
    "    if suffixes:\n",
    "        for suffix in suffixes:\n",
    "            ignores = ignores.union(set(glob.glob(data_dir + os.sep + f\"*{suffix}\")))\n",
    "    \n",
    "    files = set(glob.glob(data_dir + os.sep + \"*\")) - ignores\n",
    "    return sorted(filter(os.path.isfile,  files))"
   ]
  },
  {
   "cell_type": "code",
   "execution_count": 85,
   "id": "efdd7fcf",
   "metadata": {},
   "outputs": [],
   "source": [
    "!touch 2021QTR1 2020QTR3 2019QTR2.gz"
   ]
  },
  {
   "cell_type": "code",
   "execution_count": 86,
   "id": "852c876e",
   "metadata": {},
   "outputs": [
    {
     "name": "stdout",
     "output_type": "stream",
     "text": [
      "./2020QTR3\n",
      "./2021QTR1\n",
      "./list_files_in_dir.ipynb\n",
      "./python_file_flags.ipynb\n",
      "./python_io_file.ipynb\n",
      "./read_file_from_generater_test.txt\n",
      "./take_n.py\n",
      "./take_n_from_i.py\n"
     ]
    }
   ],
   "source": [
    "for f in list_files_with_ignores():\n",
    "    print(f)"
   ]
  },
  {
   "cell_type": "code",
   "execution_count": 87,
   "id": "4a0dd34f",
   "metadata": {},
   "outputs": [],
   "source": [
    "!rm 2021QTR1 2020QTR3 2019QTR2.gz"
   ]
  },
  {
   "cell_type": "code",
   "execution_count": null,
   "id": "c0e86da3",
   "metadata": {},
   "outputs": [],
   "source": []
  }
 ],
 "metadata": {
  "kernelspec": {
   "display_name": "Python 3 (ipykernel)",
   "language": "python",
   "name": "python3"
  },
  "language_info": {
   "codemirror_mode": {
    "name": "ipython",
    "version": 3
   },
   "file_extension": ".py",
   "mimetype": "text/x-python",
   "name": "python",
   "nbconvert_exporter": "python",
   "pygments_lexer": "ipython3",
   "version": "3.8.10"
  }
 },
 "nbformat": 4,
 "nbformat_minor": 5
}
