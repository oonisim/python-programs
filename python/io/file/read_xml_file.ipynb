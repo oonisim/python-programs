{
 "cells": [
  {
   "cell_type": "code",
   "execution_count": 3,
   "id": "060481a0",
   "metadata": {},
   "outputs": [],
   "source": [
    "import logging\n",
    "from bs4 import BeautifulSoup"
   ]
  },
  {
   "cell_type": "code",
   "execution_count": 47,
   "id": "452b7f37",
   "metadata": {},
   "outputs": [],
   "source": [
    "!rm -f example.xml"
   ]
  },
  {
   "cell_type": "code",
   "execution_count": 48,
   "id": "a65712dc",
   "metadata": {},
   "outputs": [
    {
     "name": "stdout",
     "output_type": "stream",
     "text": [
      "Writing example.xml\n"
     ]
    }
   ],
   "source": [
    "%%writefile example.xml\n",
    "<?xml version=\"1.0\" encoding=\"UTF-8\"?>\n",
    "<xbrl\n",
    "\txmlns=\"http://www.xbrl.org/2003/instance\"\n",
    "\txmlns:country=\"http://xbrl.sec.gov/country/2020-01-31\"\n",
    "\txmlns:dei=\"http://xbrl.sec.gov/dei/2020-01-31\"\n",
    "\txmlns:iso4217=\"http://www.xbrl.org/2003/iso4217\"\n",
    "\txmlns:link=\"http://www.xbrl.org/2003/linkbase\"\n",
    "\txmlns:rfmd=\"http://www.rfmd.com/20210403\"\n",
    "\txmlns:srt=\"http://fasb.org/srt/2020-01-31\"\n",
    "\txmlns:us-gaap=\"http://fasb.org/us-gaap/2020-01-31\"\n",
    "\txmlns:xbrldi=\"http://xbrl.org/2006/xbrldi\"\n",
    "\txmlns:xlink=\"http://www.w3.org/1999/xlink\"\n",
    "\txmlns:xsi=\"http://www.w3.org/2001/XMLSchema-instance\" xml:lang=\"en-US\">\n",
    "</xbrl>"
   ]
  },
  {
   "cell_type": "code",
   "execution_count": 49,
   "id": "da4eebd9",
   "metadata": {},
   "outputs": [],
   "source": [
    "def load_from_xml(filepath:str) -> str:\n",
    "    \"\"\"Load the XML contents from the filepath\n",
    "    Args:\n",
    "        filepath: path to the XML file\n",
    "    Returns: XML content\n",
    "    \"\"\"\n",
    "    try:\n",
    "        with open(filepath, \"r\") as f:\n",
    "            content = f.read()\n",
    "    except OSError as e:\n",
    "        logging.error(\"load_from_xml():failed to read [%s] as [%s]\" % (filepath, e))\n",
    "        raise RuntimeError(\"load_from_xml()\") from e\n",
    "    pass\n",
    "    return content\n"
   ]
  },
  {
   "cell_type": "code",
   "execution_count": 50,
   "id": "2180fd6e",
   "metadata": {},
   "outputs": [],
   "source": [
    "xml = load_from_xml(\"./example.xml\")"
   ]
  },
  {
   "cell_type": "code",
   "execution_count": 51,
   "id": "ae1b35b2",
   "metadata": {},
   "outputs": [],
   "source": [
    "soup = BeautifulSoup(xml, 'xml')"
   ]
  },
  {
   "cell_type": "code",
   "execution_count": 52,
   "id": "6a75dbc2",
   "metadata": {},
   "outputs": [
    {
     "data": {
      "text/plain": [
       "True"
      ]
     },
     "execution_count": 52,
     "metadata": {},
     "output_type": "execute_result"
    }
   ],
   "source": [
    "soup.is_xml"
   ]
  },
  {
   "cell_type": "code",
   "execution_count": 53,
   "id": "6297a94f",
   "metadata": {},
   "outputs": [
    {
     "name": "stdout",
     "output_type": "stream",
     "text": [
      "<?xml version=\"1.0\" encoding=\"utf-8\"?>\n",
      "<xbrl xml:lang=\"en-US\" xmlns=\"http://www.xbrl.org/2003/instance\" xmlns:country=\"http://xbrl.sec.gov/country/2020-01-31\" xmlns:dei=\"http://xbrl.sec.gov/dei/2020-01-31\" xmlns:iso4217=\"http://www.xbrl.org/2003/iso4217\" xmlns:link=\"http://www.xbrl.org/2003/linkbase\" xmlns:rfmd=\"http://www.rfmd.com/20210403\" xmlns:srt=\"http://fasb.org/srt/2020-01-31\" xmlns:us-gaap=\"http://fasb.org/us-gaap/2020-01-31\" xmlns:xbrldi=\"http://xbrl.org/2006/xbrldi\" xmlns:xlink=\"http://www.w3.org/1999/xlink\" xmlns:xsi=\"http://www.w3.org/2001/XMLSchema-instance\">\n",
      "</xbrl>\n"
     ]
    }
   ],
   "source": [
    "print(soup.prettify())"
   ]
  },
  {
   "cell_type": "code",
   "execution_count": null,
   "id": "00bb9354",
   "metadata": {},
   "outputs": [],
   "source": []
  }
 ],
 "metadata": {
  "kernelspec": {
   "display_name": "Python 3 (ipykernel)",
   "language": "python",
   "name": "python3"
  },
  "language_info": {
   "codemirror_mode": {
    "name": "ipython",
    "version": 3
   },
   "file_extension": ".py",
   "mimetype": "text/x-python",
   "name": "python",
   "nbconvert_exporter": "python",
   "pygments_lexer": "ipython3",
   "version": "3.8.10"
  }
 },
 "nbformat": 4,
 "nbformat_minor": 5
}
