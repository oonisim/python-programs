{
 "cells": [
  {
   "cell_type": "code",
   "execution_count": 4,
   "id": "a59c47bd",
   "metadata": {},
   "outputs": [],
   "source": [
    "import os\n",
    "import glob\n",
    "\n",
    "def list_files(folder=\".\"):\n",
    "    \"\"\"List files in the folder in alpabitical order\"\"\"\n",
    "    files = sorted(filter(os.path.isfile, glob.glob(folder + os.sep + \"*\") ) )\n",
    "    for filepath in files:\n",
    "        print(f\"{os.path.basename(filepath)}\")"
   ]
  },
  {
   "cell_type": "code",
   "execution_count": 5,
   "id": "ba80fabc",
   "metadata": {},
   "outputs": [
    {
     "name": "stdout",
     "output_type": "stream",
     "text": [
      "list_files_in_dir_sorted.ipynb\n",
      "python_file_flags.ipynb\n",
      "python_io_file.ipynb\n",
      "read_file_from_generater_test.txt\n",
      "take_n.py\n",
      "take_n_from_i.py\n"
     ]
    }
   ],
   "source": [
    "list_files()"
   ]
  },
  {
   "cell_type": "code",
   "execution_count": null,
   "id": "2abd4a3d",
   "metadata": {},
   "outputs": [],
   "source": []
  }
 ],
 "metadata": {
  "kernelspec": {
   "display_name": "Python 3 (ipykernel)",
   "language": "python",
   "name": "python3"
  },
  "language_info": {
   "codemirror_mode": {
    "name": "ipython",
    "version": 3
   },
   "file_extension": ".py",
   "mimetype": "text/x-python",
   "name": "python",
   "nbconvert_exporter": "python",
   "pygments_lexer": "ipython3",
   "version": "3.8.10"
  }
 },
 "nbformat": 4,
 "nbformat_minor": 5
}
