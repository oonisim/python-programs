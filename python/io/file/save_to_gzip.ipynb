{
 "cells": [
  {
   "cell_type": "code",
   "execution_count": 4,
   "id": "9993ea7a",
   "metadata": {},
   "outputs": [],
   "source": [
    "import os\n",
    "import gzip"
   ]
  },
  {
   "cell_type": "code",
   "execution_count": 5,
   "id": "69ba3e19",
   "metadata": {},
   "outputs": [],
   "source": [
    "destination = \"hoge.gz\"\n",
    "content = \"hogehoge\"\n",
    "\n",
    "extension = os.path.splitext(destination)[1]\n",
    "if extension == \".gz\":\n",
    "    with gzip.open(f\"{destination}\", 'wb') as f:\n",
    "        f.write(content.encode())\n"
   ]
  },
  {
   "cell_type": "code",
   "execution_count": 9,
   "id": "0abc63ea",
   "metadata": {},
   "outputs": [
    {
     "name": "stdout",
     "output_type": "stream",
     "text": [
      "list_files_in_dir.ipynb  read_file_from_generater_test.txt  take_n.py\r\n",
      "python_file_flags.ipynb  save_to_gzip.ipynb\r\n",
      "python_io_file.ipynb\t take_n_from_i.py\r\n"
     ]
    }
   ],
   "source": [
    "!ls"
   ]
  },
  {
   "cell_type": "code",
   "execution_count": 7,
   "id": "b195567e",
   "metadata": {},
   "outputs": [
    {
     "name": "stdout",
     "output_type": "stream",
     "text": [
      "hogehoge"
     ]
    }
   ],
   "source": [
    "!gunzip hoge.gz\n",
    "!cat hoge"
   ]
  },
  {
   "cell_type": "code",
   "execution_count": 8,
   "id": "59da3d8a",
   "metadata": {},
   "outputs": [],
   "source": [
    "!rm hoge"
   ]
  }
 ],
 "metadata": {
  "kernelspec": {
   "display_name": "Python 3 (ipykernel)",
   "language": "python",
   "name": "python3"
  },
  "language_info": {
   "codemirror_mode": {
    "name": "ipython",
    "version": 3
   },
   "file_extension": ".py",
   "mimetype": "text/x-python",
   "name": "python",
   "nbconvert_exporter": "python",
   "pygments_lexer": "ipython3",
   "version": "3.8.10"
  }
 },
 "nbformat": 4,
 "nbformat_minor": 5
}
