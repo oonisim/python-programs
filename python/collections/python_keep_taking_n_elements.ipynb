{
 "cells": [
  {
   "cell_type": "markdown",
   "source": [
    "# Keep taking n elements\n",
    "\n",
    "Use itertools.islice"
   ],
   "metadata": {
    "collapsed": false
   },
   "id": "a76e00d2064ccd13"
  },
  {
   "cell_type": "code",
   "execution_count": 4,
   "outputs": [],
   "source": [
    "from itertools import (\n",
    "    islice\n",
    ")"
   ],
   "metadata": {
    "collapsed": false,
    "ExecuteTime": {
     "end_time": "2024-02-17T10:36:41.193405142Z",
     "start_time": "2024-02-17T10:36:41.176799102Z"
    }
   },
   "id": "initial_id"
  },
  {
   "cell_type": "markdown",
   "source": [
    "## Generator"
   ],
   "metadata": {
    "collapsed": false
   },
   "id": "8ec95659df0291de"
  },
  {
   "cell_type": "code",
   "execution_count": 72,
   "outputs": [],
   "source": [
    "def f():\n",
    "    for i in range(35):\n",
    "        yield i"
   ],
   "metadata": {
    "collapsed": false,
    "ExecuteTime": {
     "end_time": "2024-02-17T10:48:12.462619951Z",
     "start_time": "2024-02-17T10:48:12.415163407Z"
    }
   },
   "id": "43d32d10b109a9cb"
  },
  {
   "cell_type": "code",
   "execution_count": 73,
   "outputs": [],
   "source": [
    "g = f()"
   ],
   "metadata": {
    "collapsed": false,
    "ExecuteTime": {
     "end_time": "2024-02-17T10:48:12.593932443Z",
     "start_time": "2024-02-17T10:48:12.584838700Z"
    }
   },
   "id": "a519413d099cde05"
  },
  {
   "cell_type": "code",
   "execution_count": 74,
   "outputs": [
    {
     "name": "stdout",
     "output_type": "stream",
     "text": [
      "[0, 1, 2, 3, 4, 5, 6, 7, 8, 9]\n",
      "[10, 11, 12, 13, 14, 15, 16, 17, 18, 19]\n",
      "[20, 21, 22, 23, 24, 25, 26, 27, 28, 29]\n",
      "[30, 31, 32, 33, 34]\n"
     ]
    }
   ],
   "source": [
    "while True:\n",
    "    elements = list(islice(g, 10))\n",
    "    if len(elements) > 0:\n",
    "        print(elements)\n",
    "    else:\n",
    "        break"
   ],
   "metadata": {
    "collapsed": false,
    "ExecuteTime": {
     "end_time": "2024-02-17T10:48:12.757013889Z",
     "start_time": "2024-02-17T10:48:12.747610303Z"
    }
   },
   "id": "eb8eacff8cdd6de5"
  },
  {
   "cell_type": "markdown",
   "source": [
    "## Iterator"
   ],
   "metadata": {
    "collapsed": false
   },
   "id": "374d288d89a2798c"
  },
  {
   "cell_type": "code",
   "execution_count": 80,
   "outputs": [],
   "source": [
    "it = iter(range(35))"
   ],
   "metadata": {
    "collapsed": false,
    "ExecuteTime": {
     "end_time": "2024-02-17T10:53:13.184312101Z",
     "start_time": "2024-02-17T10:53:13.111322532Z"
    }
   },
   "id": "101118f4d3f57561"
  },
  {
   "cell_type": "code",
   "execution_count": 81,
   "outputs": [
    {
     "name": "stdout",
     "output_type": "stream",
     "text": [
      "[0, 1, 2, 3, 4, 5, 6, 7, 8, 9]\n",
      "[10, 11, 12, 13, 14, 15, 16, 17, 18, 19]\n",
      "[20, 21, 22, 23, 24, 25, 26, 27, 28, 29]\n",
      "[30, 31, 32, 33, 34]\n"
     ]
    }
   ],
   "source": [
    "while True:\n",
    "    elements = list(islice(it, 10))\n",
    "    if len(elements) > 0:\n",
    "        print(elements)\n",
    "    else:\n",
    "        break"
   ],
   "metadata": {
    "collapsed": false,
    "ExecuteTime": {
     "end_time": "2024-02-17T10:54:26.027762344Z",
     "start_time": "2024-02-17T10:54:25.981409106Z"
    }
   },
   "id": "cea56bdffb78c577"
  }
 ],
 "metadata": {
  "kernelspec": {
   "display_name": "Python 3",
   "language": "python",
   "name": "python3"
  },
  "language_info": {
   "codemirror_mode": {
    "name": "ipython",
    "version": 2
   },
   "file_extension": ".py",
   "mimetype": "text/x-python",
   "name": "python",
   "nbconvert_exporter": "python",
   "pygments_lexer": "ipython2",
   "version": "2.7.6"
  }
 },
 "nbformat": 4,
 "nbformat_minor": 5
}
