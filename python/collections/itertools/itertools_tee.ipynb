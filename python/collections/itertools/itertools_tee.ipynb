{
 "cells": [
  {
   "cell_type": "markdown",
   "id": "1caa8226",
   "metadata": {},
   "source": [
    "# Explanation\n",
    "Create N clones of iterable"
   ]
  },
  {
   "cell_type": "code",
   "execution_count": 1,
   "id": "23e5b9d5",
   "metadata": {},
   "outputs": [],
   "source": [
    "from itertools import tee"
   ]
  },
  {
   "cell_type": "code",
   "execution_count": 8,
   "id": "209ab64e",
   "metadata": {},
   "outputs": [
    {
     "data": {
      "text/plain": [
       "(<itertools._tee at 0x7f338c762900>,\n",
       " <itertools._tee at 0x7f338c7182c0>,\n",
       " <itertools._tee at 0x7f338c71fe00>)"
      ]
     },
     "execution_count": 8,
     "metadata": {},
     "output_type": "execute_result"
    }
   ],
   "source": [
    "t = tee(range(0, 12), 3)\n",
    "t"
   ]
  },
  {
   "cell_type": "code",
   "execution_count": 5,
   "id": "f52bdccb",
   "metadata": {},
   "outputs": [],
   "source": [
    "# First\n",
    "first, second, third = t"
   ]
  },
  {
   "cell_type": "code",
   "execution_count": 6,
   "id": "9dd90453",
   "metadata": {},
   "outputs": [
    {
     "data": {
      "text/plain": [
       "[0, 1, 2, 3, 4, 5, 6, 7, 8, 9, 10, 11]"
      ]
     },
     "execution_count": 6,
     "metadata": {},
     "output_type": "execute_result"
    }
   ],
   "source": [
    "list(first)"
   ]
  },
  {
   "cell_type": "code",
   "execution_count": 7,
   "id": "c201da35",
   "metadata": {},
   "outputs": [
    {
     "data": {
      "text/plain": [
       "[0, 1, 2, 3, 4, 5, 6, 7, 8, 9, 10, 11]"
      ]
     },
     "execution_count": 7,
     "metadata": {},
     "output_type": "execute_result"
    }
   ],
   "source": [
    "list(second)"
   ]
  }
 ],
 "metadata": {
  "kernelspec": {
   "display_name": "Python 3 (ipykernel)",
   "language": "python",
   "name": "python3"
  },
  "language_info": {
   "codemirror_mode": {
    "name": "ipython",
    "version": 3
   },
   "file_extension": ".py",
   "mimetype": "text/x-python",
   "name": "python",
   "nbconvert_exporter": "python",
   "pygments_lexer": "ipython3",
   "version": "3.8.10"
  }
 },
 "nbformat": 4,
 "nbformat_minor": 5
}
