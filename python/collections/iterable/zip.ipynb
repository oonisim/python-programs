{
 "cells": [
  {
   "cell_type": "markdown",
   "id": "0dd79f3c",
   "metadata": {},
   "source": [
    "# Python built-in zip \n",
    "\n",
    "* ```zip(*iterables, strict=False)``` returns an **iterator of tuples**. \n",
    "* ```tuple(zipped)``` materializes the zip object.\n",
    "* zip object is **consumable**, cannot use it twice."
   ]
  },
  {
   "cell_type": "markdown",
   "id": "f9637f4f",
   "metadata": {},
   "source": [
    "## Consumable"
   ]
  },
  {
   "cell_type": "code",
   "execution_count": 6,
   "id": "88493fa9",
   "metadata": {},
   "outputs": [],
   "source": [
    "zipped = zip([\"a\", \"b\", \"c\"], [1, 2, 3])"
   ]
  },
  {
   "cell_type": "markdown",
   "id": "f778241f",
   "metadata": {},
   "source": [
    "Materialize the zip object (iterator) - 1st"
   ]
  },
  {
   "cell_type": "code",
   "execution_count": 7,
   "id": "e5b41c86",
   "metadata": {},
   "outputs": [
    {
     "name": "stdout",
     "output_type": "stream",
     "text": [
      "(('a', 1), ('b', 2), ('c', 3))\n"
     ]
    }
   ],
   "source": [
    "print(tuple(zipped))"
   ]
  },
  {
   "cell_type": "markdown",
   "id": "1f5b2203",
   "metadata": {},
   "source": [
    "Materialize the zip object (iterator) - 2nd. Empty because the zip object has been already consumed."
   ]
  },
  {
   "cell_type": "code",
   "execution_count": 8,
   "id": "677819f3",
   "metadata": {},
   "outputs": [
    {
     "name": "stdout",
     "output_type": "stream",
     "text": [
      "()\n"
     ]
    }
   ],
   "source": [
    "print(tuple(zipped))"
   ]
  },
  {
   "cell_type": "markdown",
   "id": "5db1fa02",
   "metadata": {},
   "source": [
    "## Non consumable\n",
    "To reused the zip object content, use the materielized. "
   ]
  },
  {
   "cell_type": "code",
   "execution_count": 9,
   "id": "75645517",
   "metadata": {},
   "outputs": [],
   "source": [
    "zipped = zip([\"a\", \"b\", \"c\"], [1, 2, 3])\n",
    "materialized = tuple(zipped)"
   ]
  },
  {
   "cell_type": "code",
   "execution_count": 10,
   "id": "60d736ff",
   "metadata": {},
   "outputs": [
    {
     "name": "stdout",
     "output_type": "stream",
     "text": [
      "(('a', 1), ('b', 2), ('c', 3))\n"
     ]
    }
   ],
   "source": [
    "print(materialized)  # 1st"
   ]
  },
  {
   "cell_type": "code",
   "execution_count": 11,
   "id": "895bb333",
   "metadata": {},
   "outputs": [
    {
     "name": "stdout",
     "output_type": "stream",
     "text": [
      "(('a', 1), ('b', 2), ('c', 3))\n"
     ]
    }
   ],
   "source": [
    "print(materialized)  # 2nd"
   ]
  },
  {
   "cell_type": "markdown",
   "id": "71c65437",
   "metadata": {},
   "source": [
    "---"
   ]
  },
  {
   "cell_type": "markdown",
   "id": "686e5bb0",
   "metadata": {},
   "source": [
    "# Example - Minimize cost\n",
    "\n",
    "* For a cost matrix M where ```M[row][col]``` represents a cost of a work. \n",
    "```\n",
    "[6 8 4]\n",
    "[1 2 2]\n",
    "[1 1 6]\n",
    "```\n",
    "* At each row, a machine can work on one item.\n",
    "* No machine can place in the same row. For instance (0, 1) and (1, 1) are not allowed.\n",
    "\n",
    "The optimal machine coordinates are ```((0, 2), (1, 0), (2, 1))``` where the cost is 6 as ```(4, 1, 1)```.\n",
    "\n",
    "Possible costs : ```[14, 9, 15, 11, 6, 7]```."
   ]
  },
  {
   "cell_type": "code",
   "execution_count": 12,
   "id": "576549e5",
   "metadata": {},
   "outputs": [],
   "source": [
    "import collections as C\n",
    "import itertools as I\n",
    "import functools as F\n",
    "import numpy as np"
   ]
  },
  {
   "cell_type": "code",
   "execution_count": 13,
   "id": "2449d6b9",
   "metadata": {},
   "outputs": [
    {
     "name": "stdout",
     "output_type": "stream",
     "text": [
      "[[3 2 2]\n",
      " [1 1 8]\n",
      " [3 7 4]]\n"
     ]
    }
   ],
   "source": [
    "cost_matrix = np.random.randint(low=1, high=9, size=9).reshape((3,3))\n",
    "print(cost_matrix)"
   ]
  },
  {
   "cell_type": "code",
   "execution_count": 25,
   "id": "a6f5d330",
   "metadata": {},
   "outputs": [
    {
     "name": "stdout",
     "output_type": "stream",
     "text": [
      "All possible non-sorted combinations of column position of a machine at each row\n",
      "[(0, 1, 2), (0, 2, 1), (1, 0, 2), (1, 2, 0), (2, 0, 1), (2, 1, 0)]\n",
      "\n",
      "All possible non-column-overlapping coordinates\n",
      "((0, 0), (1, 1), (2, 2))\n",
      "((0, 0), (1, 2), (2, 1))\n",
      "((0, 1), (1, 0), (2, 2))\n",
      "((0, 1), (1, 2), (2, 0))\n",
      "((0, 2), (1, 0), (2, 1))\n",
      "((0, 2), (1, 1), (2, 0))\n",
      "\n",
      "All possible costs for the coordinates\n",
      "[8, 18, 7, 13, 10, 6]\n",
      "\n",
      "Minimal cost 6 is at index 5\n",
      "Coordinate for the min cost is ((0, 2), (1, 1), (2, 0))\n"
     ]
    }
   ],
   "source": [
    "N = 3\n",
    "column_indices = range(N)\n",
    "row_indices = range(N)\n",
    "\n",
    "print(\"All possible non-sorted combinations of column position of a machine at each row\")\n",
    "column_combinations = list(I.permutations(column_indices, N))\n",
    "print(column_combinations)\n",
    "\n",
    "print(\"\\nAll possible non-column-overlapping coordinates\")\n",
    "coordinates = [tuple(zip(row_indices, c)) for c in column_combinations]\n",
    "for coordinate in coordinates:\n",
    "    print(coordinate)\n",
    "\n",
    "print(\"\\nAll possible costs for the coordinates\")\n",
    "costs = [\n",
    "    sum([cost_matrix[row][column] for row, column, in coordinate]) \n",
    "    for coordinate in coordinates\n",
    "]\n",
    "print(costs)       \n",
    "\n",
    "index_of_min_cost = costs.index(min(costs))\n",
    "print(f\"\\nMinimal cost {min(costs)} is at index {index_of_min_cost}\")\n",
    "print(f\"Coordinate for the min cost is {coordinates[index_of_min_cost]}\")"
   ]
  },
  {
   "cell_type": "code",
   "execution_count": null,
   "id": "cf5a31d1",
   "metadata": {},
   "outputs": [],
   "source": []
  }
 ],
 "metadata": {
  "kernelspec": {
   "display_name": "Python 3 (ipykernel)",
   "language": "python",
   "name": "python3"
  },
  "language_info": {
   "codemirror_mode": {
    "name": "ipython",
    "version": 3
   },
   "file_extension": ".py",
   "mimetype": "text/x-python",
   "name": "python",
   "nbconvert_exporter": "python",
   "pygments_lexer": "ipython3",
   "version": "3.8.10"
  }
 },
 "nbformat": 4,
 "nbformat_minor": 5
}
