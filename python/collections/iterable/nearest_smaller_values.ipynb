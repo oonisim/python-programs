{
 "cells": [
  {
   "cell_type": "markdown",
   "id": "25b33fbe",
   "metadata": {},
   "source": [
    "https://coderbyte.com/results/oonisim:Nearest%20Smaller%20Values:Python3\n",
    "\n",
    "> Have the function NearestSmallerValues(arr) take the array of integers stored in arr, and for each element in the list, search all the previous values for the nearest element that is smaller than (or equal to) the current element and create a new list from these numbers. If there is no element before a certain position that is smaller, input a -1. For example: if arr is [5, 2, 8, 3, 9, 12] then the nearest smaller values list is [-1, -1, 2, 2, 3, 9]. The logic is as follows:\n",
    "\n",
    "> For 5, there is no smaller previous value so the list so far is [-1]. For 2, there is also no smaller previous value, so the list is now [-1, -1]. For 8, the nearest smaller value is 2 so the list is now [-1, -1, 2]. For 3, the nearest smaller value is also 2, so the list is now [-1, -1, 2, 2]. This goes on to produce the answer above. Your program should take this final list and return the elements as a string separated by a space: -1 -1 2 2 3 9\n",
    "\n",
    "### Examples\n",
    "```\n",
    "Input: [5, 3, 1, 9, 7, 3, 4, 1]\n",
    "Output: -1 -1 -1 1 1 1 3 1\n",
    "```\n",
    "\n",
    "```\n",
    "Input: [2, 4, 5, 1, 7]\n",
    "Output: -1 2 4 -1 1\n",
    "```"
   ]
  },
  {
   "cell_type": "code",
   "execution_count": 1,
   "id": "ba82b7ac",
   "metadata": {},
   "outputs": [],
   "source": [
    "import numpy as np\n",
    "import collections as C\n",
    "import itertools as I"
   ]
  },
  {
   "cell_type": "code",
   "execution_count": 2,
   "id": "b90f8cc2",
   "metadata": {},
   "outputs": [
    {
     "data": {
      "text/plain": [
       "8"
      ]
     },
     "execution_count": 2,
     "metadata": {},
     "output_type": "execute_result"
    }
   ],
   "source": [
    "values = [5, 3, 1, 9, 7, 3, 4, 1]\n",
    "N = len(values)\n",
    "N"
   ]
  },
  {
   "cell_type": "code",
   "execution_count": 3,
   "id": "d22c4dd7",
   "metadata": {},
   "outputs": [
    {
     "data": {
      "text/plain": [
       "[1, 4, 3, 7, 9, 1, 3, 5]"
      ]
     },
     "execution_count": 3,
     "metadata": {},
     "output_type": "execute_result"
    }
   ],
   "source": [
    "# Finding a smaller in the list is finding larger in its reversed list.\n",
    "reverse = values[::-1]\n",
    "reverse"
   ]
  },
  {
   "cell_type": "code",
   "execution_count": 4,
   "id": "ce923f8e",
   "metadata": {},
   "outputs": [],
   "source": [
    "results = []"
   ]
  },
  {
   "cell_type": "code",
   "execution_count": 5,
   "id": "5970d98f",
   "metadata": {},
   "outputs": [],
   "source": [
    "for i in range(0, (N-1)+1):\n",
    "    # Set the current position to i-th index in the list.\n",
    "    # Search the succeeding elements from i+1 towards the end in the list for a larger/equal value \n",
    "    # If found, then pre-pend it to the result. If not, prepend -1.\n",
    "    found = -1\n",
    "    for search in range(i+1, (N-1)+1):\n",
    "        if reverse[i] - reverse[search] >= 0:\n",
    "            found = reverse[search]\n",
    "            break;\n",
    "    results.insert(0, found)"
   ]
  },
  {
   "cell_type": "code",
   "execution_count": 6,
   "id": "dbe65692",
   "metadata": {},
   "outputs": [
    {
     "data": {
      "text/plain": [
       "[-1, -1, -1, 1, 1, 1, 3, 1]"
      ]
     },
     "execution_count": 6,
     "metadata": {},
     "output_type": "execute_result"
    }
   ],
   "source": [
    "results"
   ]
  }
 ],
 "metadata": {
  "kernelspec": {
   "display_name": "Python 3 (ipykernel)",
   "language": "python",
   "name": "python3"
  },
  "language_info": {
   "codemirror_mode": {
    "name": "ipython",
    "version": 3
   },
   "file_extension": ".py",
   "mimetype": "text/x-python",
   "name": "python",
   "nbconvert_exporter": "python",
   "pygments_lexer": "ipython3",
   "version": "3.8.10"
  }
 },
 "nbformat": 4,
 "nbformat_minor": 5
}
