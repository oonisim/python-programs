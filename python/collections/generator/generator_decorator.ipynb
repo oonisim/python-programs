{
 "cells": [
  {
   "cell_type": "markdown",
   "metadata": {},
   "source": [
    "# When to use the generator decorator"
   ]
  },
  {
   "cell_type": "code",
   "execution_count": 20,
   "metadata": {},
   "outputs": [],
   "source": [
    "def generator(func):\n",
    "    def start(*args,**kwargs):\n",
    "        g = func(*args,**kwargs)\n",
    "        # next(g) is the same but be clear intention of advancing the execution to the yield line.\n",
    "        dummy = g.send(None)\n",
    "\n",
    "        print(\"@generator: dummy is {}\".format(dummy))\n",
    "        return g\n",
    "\n",
    "    return start"
   ]
  },
  {
   "cell_type": "markdown",
   "metadata": {},
   "source": [
    "## OK use case"
   ]
  },
  {
   "cell_type": "code",
   "execution_count": 37,
   "metadata": {},
   "outputs": [
    {
     "name": "stdout",
     "output_type": "stream",
     "text": [
      "grep got started with regexp re.compile('a(a+)').\n",
      "@generator: dummy is None\n",
      "<re.Match object; span=(0, 3), match='aaa'>\n"
     ]
    }
   ],
   "source": [
    "import re\n",
    "\n",
    "@generator\n",
    "def grep(pattern):\n",
    "    r = re.compile(pattern)\n",
    "    print(\"grep got started with regexp {}.\".format(r))\n",
    "\n",
    "    match = None\n",
    "    while True:\n",
    "        # First send(None) advances the execution here and returns \"match\" which is None.\n",
    "        # then blocks inside the yield statement.\n",
    "        # Second send(value) unblocks inside yield, set the value into \"line\" and continue.\n",
    "        line = (yield match)\n",
    "        match = r.match(line)\n",
    "\n",
    "g = grep(r\"a(a+)\")\n",
    "print(g.send(\"aaa\"))"
   ]
  },
  {
   "cell_type": "markdown",
   "metadata": {},
   "source": [
    "## NG use case\n",
    "Instead of yielding (a, b, c), 'a' is consumed at the first send(None) which is the same with next()."
   ]
  },
  {
   "cell_type": "code",
   "execution_count": 38,
   "metadata": {},
   "outputs": [],
   "source": [
    "@generator\n",
    "def sequencer(*characters: str):\n",
    "    for c in characters:\n",
    "        message = (yield c)"
   ]
  },
  {
   "cell_type": "code",
   "execution_count": 40,
   "metadata": {},
   "outputs": [
    {
     "name": "stdout",
     "output_type": "stream",
     "text": [
      "@generator: dummy is a\n",
      "b\n",
      "c\n"
     ]
    }
   ],
   "source": [
    "s = sequencer(*\"abc\")\n",
    "for c in list(s):\n",
    "    print(c)"
   ]
  },
  {
   "cell_type": "code",
   "execution_count": null,
   "metadata": {},
   "outputs": [],
   "source": []
  }
 ],
 "metadata": {
  "kernelspec": {
   "display_name": "Python 3",
   "language": "python",
   "name": "python3"
  },
  "language_info": {
   "codemirror_mode": {
    "name": "ipython",
    "version": 3
   },
   "file_extension": ".py",
   "mimetype": "text/x-python",
   "name": "python",
   "nbconvert_exporter": "python",
   "pygments_lexer": "ipython3",
   "version": "3.8.5"
  }
 },
 "nbformat": 4,
 "nbformat_minor": 4
}
