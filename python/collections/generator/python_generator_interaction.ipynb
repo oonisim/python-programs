{
 "cells": [
  {
   "cell_type": "code",
   "execution_count": 16,
   "metadata": {},
   "outputs": [
    {
     "name": "stdout",
     "output_type": "stream",
     "text": [
      "Student starts reporting\n",
      "Teacher starts waiting for the student to report\n"
     ]
    }
   ],
   "source": [
    "import time\n",
    "import random\n",
    "\n",
    "class School(object):\n",
    "    _teacher = None\n",
    "    _student = None\n",
    "    \n",
    "    def __init__(self):\n",
    "        # Start the run process everytime an instance is created.\n",
    "        self._student = self.student()\n",
    "        self._student.send(None)\n",
    "        self._teacher = self.teacher()\n",
    "        self._teacher.send(None)\n",
    "\n",
    "    \n",
    "    def forward(self):\n",
    "        next(self._teacher)\n",
    "        \n",
    "    def terminate(self):\n",
    "        \"\"\"\n",
    "        Terminate the school.\n",
    "        \"\"\"\n",
    "        self._student.close()\n",
    "        self._teacher.close()\n",
    "\n",
    "    def teacher(self, interval = 3):\n",
    "        print(\"Teacher starts waiting for the student to report\")\n",
    "        for count in range(5):\n",
    "            yield \n",
    "            remark = self._student.send(random.randint(1, 5))\n",
    "            print(\"Teacher report on student remark {}\".format(remark))\n",
    "\n",
    "    def student(self, interval=5):\n",
    "        elapsed = 0\n",
    "        print(\"Student starts reporting\")\n",
    "        while True:\n",
    "            elapsed += interval\n",
    "            \n",
    "            value = (yield elapsed) \n",
    "            interval = value if value else interval\n",
    "            print(\"New student report interval is {}\".format(interval))\n",
    "            \n",
    "        \n",
    "school = School()"
   ]
  },
  {
   "cell_type": "code",
   "execution_count": 17,
   "metadata": {},
   "outputs": [
    {
     "name": "stdout",
     "output_type": "stream",
     "text": [
      "New student report interval is 2\n",
      "Teacher report on student remark 7\n"
     ]
    }
   ],
   "source": [
    "school.forward()"
   ]
  },
  {
   "cell_type": "code",
   "execution_count": null,
   "metadata": {},
   "outputs": [],
   "source": []
  },
  {
   "cell_type": "code",
   "execution_count": 30,
   "metadata": {},
   "outputs": [
    {
     "name": "stdout",
     "output_type": "stream",
     "text": [
      "Student starts reporting\n",
      "Teacher starts waiting for the student to report\n"
     ]
    }
   ],
   "source": [
    "import time\n",
    "import random\n",
    "\n",
    "class School(object):\n",
    "    _teacher = None\n",
    "    _student = None\n",
    "    \n",
    "    def __init__(self):\n",
    "        # Start the run process everytime an instance is created.\n",
    "        self._student = self.student()\n",
    "        self._student.send(None)\n",
    "        self._teacher = self.teacher()\n",
    "        self._teacher.send(None)\n",
    "\n",
    "    \n",
    "    def forward(self, value=None):\n",
    "        self._student.send(value)\n",
    "        \n",
    "    def terminate(self):\n",
    "        \"\"\"\n",
    "        Terminate the school.\n",
    "        \"\"\"\n",
    "        self._student.close()\n",
    "        self._teacher.close()\n",
    "\n",
    "    def teacher(self, interval = 3):\n",
    "        print(\"Teacher starts waiting for the student to report\")\n",
    "        for count in range(5):\n",
    "            student_report = yield \n",
    "            print(\"Teacher got a report from student: {}\".format(student_report))\n",
    "\n",
    "    def student(self):\n",
    "        counts = 0\n",
    "        print(\"Student starts reporting\")\n",
    "        while True:\n",
    "            # Wait for the instruction to resume and report.\n",
    "            value = (yield counts)\n",
    "\n",
    "            # Report to the teacher\n",
    "            self._teacher.send(counts)\n",
    "            counts += 1\n",
    "\n",
    "            \n",
    "school = School()"
   ]
  },
  {
   "cell_type": "code",
   "execution_count": 31,
   "metadata": {},
   "outputs": [
    {
     "name": "stdout",
     "output_type": "stream",
     "text": [
      "Teacher got a report from student: 0\n",
      "Teacher got a report from student: 1\n",
      "Teacher got a report from student: 2\n"
     ]
    },
    {
     "ename": "StopIteration",
     "evalue": "",
     "output_type": "error",
     "traceback": [
      "\u001b[0;31m---------------------------------------------------------------------------\u001b[0m",
      "\u001b[0;31mStopIteration\u001b[0m                             Traceback (most recent call last)",
      "\u001b[0;32m<ipython-input-31-1a1f2c98d14f>\u001b[0m in \u001b[0;36m<module>\u001b[0;34m\u001b[0m\n\u001b[1;32m      3\u001b[0m \u001b[0;34m\u001b[0m\u001b[0m\n\u001b[1;32m      4\u001b[0m \u001b[0mschool\u001b[0m\u001b[0;34m.\u001b[0m\u001b[0mterminate\u001b[0m\u001b[0;34m(\u001b[0m\u001b[0;34m)\u001b[0m\u001b[0;34m\u001b[0m\u001b[0;34m\u001b[0m\u001b[0m\n\u001b[0;32m----> 5\u001b[0;31m \u001b[0mschool\u001b[0m\u001b[0;34m.\u001b[0m\u001b[0mforward\u001b[0m\u001b[0;34m(\u001b[0m\u001b[0;34m)\u001b[0m\u001b[0;34m\u001b[0m\u001b[0;34m\u001b[0m\u001b[0m\n\u001b[0m",
      "\u001b[0;32m<ipython-input-30-8f650f133cb9>\u001b[0m in \u001b[0;36mforward\u001b[0;34m(self, value)\u001b[0m\n\u001b[1;32m     15\u001b[0m \u001b[0;34m\u001b[0m\u001b[0m\n\u001b[1;32m     16\u001b[0m     \u001b[0;32mdef\u001b[0m \u001b[0mforward\u001b[0m\u001b[0;34m(\u001b[0m\u001b[0mself\u001b[0m\u001b[0;34m,\u001b[0m \u001b[0mvalue\u001b[0m\u001b[0;34m=\u001b[0m\u001b[0;32mNone\u001b[0m\u001b[0;34m)\u001b[0m\u001b[0;34m:\u001b[0m\u001b[0;34m\u001b[0m\u001b[0;34m\u001b[0m\u001b[0m\n\u001b[0;32m---> 17\u001b[0;31m         \u001b[0mself\u001b[0m\u001b[0;34m.\u001b[0m\u001b[0m_student\u001b[0m\u001b[0;34m.\u001b[0m\u001b[0msend\u001b[0m\u001b[0;34m(\u001b[0m\u001b[0mvalue\u001b[0m\u001b[0;34m)\u001b[0m\u001b[0;34m\u001b[0m\u001b[0;34m\u001b[0m\u001b[0m\n\u001b[0m\u001b[1;32m     18\u001b[0m \u001b[0;34m\u001b[0m\u001b[0m\n\u001b[1;32m     19\u001b[0m     \u001b[0;32mdef\u001b[0m \u001b[0mterminate\u001b[0m\u001b[0;34m(\u001b[0m\u001b[0mself\u001b[0m\u001b[0;34m)\u001b[0m\u001b[0;34m:\u001b[0m\u001b[0;34m\u001b[0m\u001b[0;34m\u001b[0m\u001b[0m\n",
      "\u001b[0;31mStopIteration\u001b[0m: "
     ]
    }
   ],
   "source": [
    "for i in range(3):\n",
    "    school.forward()\n",
    "    \n",
    "school.terminate()\n",
    "school.forward()"
   ]
  },
  {
   "cell_type": "markdown",
   "metadata": {},
   "source": [
    "# Car dispatching"
   ]
  },
  {
   "cell_type": "code",
   "execution_count": 26,
   "metadata": {},
   "outputs": [
    {
     "name": "stdout",
     "output_type": "stream",
     "text": [
      "The first send(None)/next() advances the execution in ev to yield at cycle({0}) which returns the value in the current cycle(-1) stack-frame. Ignore it returned: 9999999.\n",
      "\n",
      "ev is now blocking 'in' the yield statement BEFORE value=(yield ...) TO BE evaluated in the next cycle(0).\n",
      "\n",
      "dispathcer: dispatching the next charging station 1 to ev\n",
      "Unbloks ev to start the next cycle(0) with evaluating value=(yield ...)\n",
      "The value is set in the stack-frame of cycle(0) and can be returned from yield in the cycle.\n",
      "\n",
      "ev: next_charging_station[1]\n",
      "\n",
      "dispathcer: ev said the current station of the ev is [1]\n",
      "dispathcer: ev cycle(0) has ended blocking in yield statement.\n",
      "\n",
      "dispathcer: dispatching the next charging station 2 to ev\n",
      "Unbloks ev to start the next cycle(1) with evaluating value=(yield ...)\n",
      "The value is set in the stack-frame of cycle(1) and can be returned from yield in the cycle.\n",
      "\n",
      "ev: next_charging_station[2]\n",
      "\n",
      "dispathcer: ev said the current station of the ev is [2]\n",
      "dispathcer: ev cycle(1) has ended blocking in yield statement.\n",
      "\n"
     ]
    },
    {
     "ename": "KeyboardInterrupt",
     "evalue": "",
     "output_type": "error",
     "traceback": [
      "\u001b[0;31m---------------------------------------------------------------------------\u001b[0m",
      "\u001b[0;31mKeyboardInterrupt\u001b[0m                         Traceback (most recent call last)",
      "\u001b[0;32m<ipython-input-26-3d8b71f7348b>\u001b[0m in \u001b[0;36m<module>\u001b[0;34m\u001b[0m\n\u001b[1;32m     34\u001b[0m \u001b[0;34m\u001b[0m\u001b[0m\n\u001b[1;32m     35\u001b[0m \u001b[0mprint\u001b[0m\u001b[0;34m(\u001b[0m\u001b[0;34m\"ev is now blocking 'in' the yield statement BEFORE value=(yield ...) TO BE evaluated in the next cycle({}).\\n\"\u001b[0m\u001b[0;34m.\u001b[0m\u001b[0mformat\u001b[0m\u001b[0;34m(\u001b[0m\u001b[0mcycle\u001b[0m\u001b[0;34m+\u001b[0m\u001b[0;36m1\u001b[0m\u001b[0;34m)\u001b[0m\u001b[0;34m)\u001b[0m\u001b[0;34m\u001b[0m\u001b[0;34m\u001b[0m\u001b[0m\n\u001b[0;32m---> 36\u001b[0;31m \u001b[0mprocess_dispatcher\u001b[0m \u001b[0;34m=\u001b[0m \u001b[0mdispathcer\u001b[0m\u001b[0;34m(\u001b[0m\u001b[0menv\u001b[0m\u001b[0;34m,\u001b[0m \u001b[0mprocess_ev\u001b[0m\u001b[0;34m)\u001b[0m\u001b[0;34m\u001b[0m\u001b[0;34m\u001b[0m\u001b[0m\n\u001b[0m",
      "\u001b[0;32m<ipython-input-26-3d8b71f7348b>\u001b[0m in \u001b[0;36mdispathcer\u001b[0;34m(env, ev)\u001b[0m\n\u001b[1;32m     15\u001b[0m     \u001b[0mstation\u001b[0m \u001b[0;34m=\u001b[0m \u001b[0;36m1\u001b[0m\u001b[0;34m\u001b[0m\u001b[0;34m\u001b[0m\u001b[0m\n\u001b[1;32m     16\u001b[0m     \u001b[0;32mwhile\u001b[0m \u001b[0;32mTrue\u001b[0m\u001b[0;34m:\u001b[0m\u001b[0;34m\u001b[0m\u001b[0;34m\u001b[0m\u001b[0m\n\u001b[0;32m---> 17\u001b[0;31m         \u001b[0mtime\u001b[0m\u001b[0;34m.\u001b[0m\u001b[0msleep\u001b[0m\u001b[0;34m(\u001b[0m\u001b[0;36m1\u001b[0m\u001b[0;34m)\u001b[0m\u001b[0;34m\u001b[0m\u001b[0;34m\u001b[0m\u001b[0m\n\u001b[0m\u001b[1;32m     18\u001b[0m         \u001b[0mprint\u001b[0m\u001b[0;34m(\u001b[0m\u001b[0;34m'dispathcer: dispatching the next charging station {} to ev'\u001b[0m\u001b[0;34m.\u001b[0m\u001b[0mformat\u001b[0m\u001b[0;34m(\u001b[0m\u001b[0mstation\u001b[0m\u001b[0;34m)\u001b[0m\u001b[0;34m)\u001b[0m\u001b[0;34m\u001b[0m\u001b[0;34m\u001b[0m\u001b[0m\n\u001b[1;32m     19\u001b[0m         \u001b[0mprint\u001b[0m\u001b[0;34m(\u001b[0m\u001b[0;34m\"Unbloks ev to start the next cycle({}) with evaluating value=(yield ...)\"\u001b[0m\u001b[0;34m.\u001b[0m\u001b[0mformat\u001b[0m\u001b[0;34m(\u001b[0m\u001b[0mcycle\u001b[0m\u001b[0;34m+\u001b[0m\u001b[0;36m1\u001b[0m\u001b[0;34m)\u001b[0m\u001b[0;34m)\u001b[0m\u001b[0;34m\u001b[0m\u001b[0;34m\u001b[0m\u001b[0m\n",
      "\u001b[0;31mKeyboardInterrupt\u001b[0m: "
     ]
    }
   ],
   "source": [
    "from typing import Dict, Optional, Generator\n",
    "import time\n",
    "\n",
    "cycle = -1\n",
    "env = None\n",
    "def ev(env) -> Generator:\n",
    "    next_charging_station = 9999999   \n",
    "    while True:\n",
    "        next_charging_station = (yield next_charging_station)\n",
    "        print(\"ev: next_charging_station[{}]\\n\".format(next_charging_station))\n",
    "        \n",
    "def dispathcer(env, ev) -> Generator:\n",
    "    global cycle\n",
    "\n",
    "    station = 1\n",
    "    while True:\n",
    "        time.sleep(1)\n",
    "        print('dispathcer: dispatching the next charging station {} to ev'.format(station))\n",
    "        print(\"Unbloks ev to start the next cycle({}) with evaluating value=(yield ...)\".format(cycle+1))\n",
    "        print(\"The value is set in the stack-frame of cycle({}) and can be returned from yield in the cycle.\\n\".format(\n",
    "            cycle+1\n",
    "        ))\n",
    "        value = ev.send(station)\n",
    "        cycle +=1\n",
    "        print(\"dispathcer: ev said the current station of the ev is [{}]\".format(value))\n",
    "        print(\"dispathcer: ev cycle({}) has ended blocking in yield statement.\\n\".format(cycle))\n",
    "        station +=1\n",
    "        \n",
    "process_ev = ev(env)\n",
    "print(\"The first send(None)/next() advances the execution in ev to yield at cycle({0}) which returns \" +\\\n",
    "      \"the value in the current cycle({0}) stack-frame. Ignore it returned: {1}.\\n\".format(\n",
    "    cycle, process_ev.send(None)\n",
    "))\n",
    "\n",
    "print(\"ev is now blocking 'in' the yield statement BEFORE value=(yield ...) TO BE evaluated in the next cycle({}).\\n\".format(cycle+1))\n",
    "process_dispatcher = dispathcer(env, process_ev)"
   ]
  },
  {
   "cell_type": "code",
   "execution_count": null,
   "metadata": {},
   "outputs": [],
   "source": []
  }
 ],
 "metadata": {
  "kernelspec": {
   "display_name": "Python 3",
   "language": "python",
   "name": "python3"
  },
  "language_info": {
   "codemirror_mode": {
    "name": "ipython",
    "version": 3
   },
   "file_extension": ".py",
   "mimetype": "text/x-python",
   "name": "python",
   "nbconvert_exporter": "python",
   "pygments_lexer": "ipython3",
   "version": "3.8.5"
  }
 },
 "nbformat": 4,
 "nbformat_minor": 4
}
