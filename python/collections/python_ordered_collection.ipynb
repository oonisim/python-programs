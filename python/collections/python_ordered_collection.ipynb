{
 "cells": [
  {
   "cell_type": "markdown",
   "id": "8e40ba29-d3f0-4420-b769-7205cdf8f39e",
   "metadata": {},
   "source": [
    "# Ordered Collection\n",
    "\n",
    "## Definition\n",
    "\n",
    "Colletion object that **onsistently** produce the **same ordered result**. "
   ]
  },
  {
   "cell_type": "code",
   "execution_count": 1,
   "id": "801803d7-ac29-4789-846a-3229e9659c8d",
   "metadata": {},
   "outputs": [],
   "source": [
    "import random\n",
    "from typing import (\n",
    "    Reversible,\n",
    "    Sequence,\n",
    "    Generator,\n",
    ")"
   ]
  },
  {
   "cell_type": "markdown",
   "id": "67e1ca3b-05fc-4a88-b6d2-ac2b22e134b8",
   "metadata": {},
   "source": [
    "## Iterator is NOT ordered collecdtion\n",
    "\n",
    "It just menas it will produce **one by one**, not consistently same order."
   ]
  },
  {
   "cell_type": "markdown",
   "id": "8edbcf51-28a4-498d-a27a-d9fc302f8a53",
   "metadata": {},
   "source": [
    "## Generator is NOT ordered collection"
   ]
  },
  {
   "cell_type": "code",
   "execution_count": 13,
   "id": "cd714547-a8f2-4da6-8e95-42140caa13c3",
   "metadata": {},
   "outputs": [],
   "source": [
    "def f():\n",
    "    yield from random.sample(range(10), 10)"
   ]
  },
  {
   "cell_type": "code",
   "execution_count": 14,
   "id": "125b1cb8-0534-4479-8c41-192846a2ee40",
   "metadata": {},
   "outputs": [
    {
     "name": "stdout",
     "output_type": "stream",
     "text": [
      "[0, 4, 8, 6, 3, 2, 1, 7, 5, 9]\n",
      "[0, 4, 1, 3, 6, 9, 7, 8, 5, 2]\n",
      "[6, 3, 2, 0, 1, 4, 5, 9, 7, 8]\n"
     ]
    }
   ],
   "source": [
    "for _ in range(3):\n",
    "    print(list(f()))"
   ]
  },
  {
   "cell_type": "code",
   "execution_count": 12,
   "id": "409d7e04-a509-4d16-8c6f-d01ca65dfee6",
   "metadata": {},
   "outputs": [
    {
     "data": {
      "text/plain": [
       "9"
      ]
     },
     "execution_count": 12,
     "metadata": {},
     "output_type": "execute_result"
    }
   ],
   "source": [
    "random.randrange(0, 10)"
   ]
  },
  {
   "cell_type": "markdown",
   "id": "c119a135-bb1a-4554-8b2a-8b9a1d47e0ab",
   "metadata": {},
   "source": [
    "# Reversible\n",
    "\n",
    "Tuple, List, Dict, range are all reversible and gurantee the ordered result. "
   ]
  },
  {
   "cell_type": "code",
   "execution_count": 15,
   "id": "9da2abd7-523e-415d-a5e0-c71052f8441b",
   "metadata": {},
   "outputs": [
    {
     "data": {
      "text/plain": [
       "True"
      ]
     },
     "execution_count": 15,
     "metadata": {},
     "output_type": "execute_result"
    }
   ],
   "source": [
    "isinstance(range(10), Sequence)"
   ]
  },
  {
   "cell_type": "markdown",
   "id": "b60d3ce8-1e5e-4d02-9e14-c6ff41d22ff1",
   "metadata": {},
   "source": [
    "Geneartor does not gurantee ordered result and is not Reversible."
   ]
  },
  {
   "cell_type": "code",
   "execution_count": 17,
   "id": "fd429e19-7555-4714-8f5f-83909d03dd25",
   "metadata": {},
   "outputs": [
    {
     "data": {
      "text/plain": [
       "False"
      ]
     },
     "execution_count": 17,
     "metadata": {},
     "output_type": "execute_result"
    }
   ],
   "source": [
    "isinstance((i for i in random.sample(range(10), 10)), Reversible)"
   ]
  },
  {
   "cell_type": "code",
   "execution_count": null,
   "id": "2ad5b47d-1069-41a5-a6a2-43b489c7e8a5",
   "metadata": {},
   "outputs": [],
   "source": []
  }
 ],
 "metadata": {
  "kernelspec": {
   "display_name": "Python 3 (ipykernel)",
   "language": "python",
   "name": "python3"
  },
  "language_info": {
   "codemirror_mode": {
    "name": "ipython",
    "version": 3
   },
   "file_extension": ".py",
   "mimetype": "text/x-python",
   "name": "python",
   "nbconvert_exporter": "python",
   "pygments_lexer": "ipython3",
   "version": "3.10.10"
  }
 },
 "nbformat": 4,
 "nbformat_minor": 5
}
