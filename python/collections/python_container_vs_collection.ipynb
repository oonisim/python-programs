{
 "cells": [
  {
   "cell_type": "markdown",
   "source": [
    "# Container vs Collection\n",
    "\n",
    "They are the same. Container is a data structure with a collection of elements with [__contains__](https://docs.python.org/3/reference/datamodel.html#object.__contains__) method for membership test.\n",
    "\n",
    "[Iterables vs. Iterators vs. Generators](https://nvie.com/posts/iterators-vs-generators/)\n",
    "\n",
    "> ### Containers \n",
    "> Containers are data structures holding elements, and that support membership tests. They are data structures that live in memory, and typically hold all their values in memory, too. In Python, some well known examples are:\n",
    "> \n",
    "> * list, deque, …\n",
    "> * set, frozensets, …\n",
    "> * dict, defaultdict, OrderedDict, Counter, …\n",
    "> * tuple, namedtuple, …\n",
    "> * str\n",
    "\n",
    "## Python Definition of Collection Objects\n",
    "\n",
    "[Collections Abstract Base Classes](https://docs.python.org/3/library/collections.abc.html#collections-abstract-base-classes)\n",
    "\n",
    "\n",
    "| ABC                | Inherits from              | Abstract Methods                                         | Mixin Methods                                                                                     |\n",
    "|--------------------|----------------------------|----------------------------------------------------------|---------------------------------------------------------------------------------------------------|\n",
    "| Container [1]      |                            | __contains__                                             |                                                                                                   |\n",
    "| Hashable [1]       |                            | __hash__                                                 |                                                                                                   |\n",
    "| Iterable [1] [2]   |                            | __iter__                                                 |                                                                                                   |\n",
    "| Iterator [1]       | Iterable                   | __next__                                                 | __iter__                                                                                          |\n",
    "| Reversible [1]     | Iterable                   | __reversed__                                             |                                                                                                   |\n",
    "| Generator [1]      | Iterator                   | send, throw                                              | close, __iter__, __next__                                                                         |\n",
    "| Sized [1]          |                            | __len__                                                  |                                                                                                   |\n",
    "| Callable [1]       |                            | __call__                                                 |                                                                                                   |\n",
    "| Collection [1]     | Sized, Iterable, Container | __contains__, __iter__, __len__                          |                                                                                                   |\n",
    "| Sequence           | Reversible, Collection     | __getitem__, __len__                                     | __contains__, __iter__, __reversed__, index, and count                                            |\n",
    "| MutableSequence    | Sequence                   | __getitem__, __setitem__, __delitem__, __len__, insert   | Inherited Sequence methods and append, clear, reverse, extend, pop, remove, and __iadd__          |\n",
    "| ByteString         | Sequence                   | __getitem__, __len__                                     | Inherited Sequence methods                                                                        |\n",
    "| Set                | Collection                 | __contains__, __iter__, __len__                          | __le__, __lt__, __eq__, __ne__, __gt__, __ge__, __and__, __or__, __sub__, __xor__, and isdisjoint |\n",
    "| MutableSet         | Set                        | __contains__, __iter__, __len__, add, discard            | Inherited Set methods and clear, pop, remove, __ior__, __iand__, __ixor__, and __isub__           |\n",
    "| Mapping            | Collection                 | __getitem__, __iter__, __len__                           | __contains__, keys, items, values, get, __eq__, and __ne__                                        |\n",
    "| MutableMapping     | Mapping                    | __getitem__, __setitem__, __delitem__, __iter__, __len__ | Inherited Mapping methods and pop, popitem, clear, update, and setdefault                         |\n",
    "| MappingView        | Sized                      |                                                          | __len__                                                                                           |\n",
    "| ItemsView          | MappingView, Set           |                                                          | __contains__, __iter__                                                                            |\n",
    "| KeysView           | MappingView, Set           |                                                          | __contains__, __iter__                                                                            |\n",
    "| ValuesView         | MappingView, Collection    |                                                          | __contains__, __iter__                                                                            |\n",
    "| Awaitable [1]      |                            | __await__                                                |                                                                                                   |\n",
    "| Coroutine [1]      | Awaitable                  | send, throw                                              | close                                                                                             |\n",
    "| AsyncIterable [1]  |                            | __aiter__                                                |                                                                                                   |\n",
    "| AsyncIterator [1]  | AsyncIterable              | __anext__                                                | __aiter__                                                                                         |\n",
    "| AsyncGenerator [1] | AsyncIterator              | asend, athrow                                            | aclose, __aiter__, __anext__                                                                      |\n",
    "| Buffer [1]         |                            | __buffer__                                               |                                                                                                   |"
   ],
   "metadata": {
    "collapsed": false
   },
   "id": "9fab7fa290dfebb4"
  },
  {
   "cell_type": "code",
   "execution_count": null,
   "outputs": [],
   "source": [],
   "metadata": {
    "collapsed": false
   },
   "id": "199ede6d4e4cdb04"
  }
 ],
 "metadata": {
  "kernelspec": {
   "display_name": "Python 3",
   "language": "python",
   "name": "python3"
  },
  "language_info": {
   "codemirror_mode": {
    "name": "ipython",
    "version": 2
   },
   "file_extension": ".py",
   "mimetype": "text/x-python",
   "name": "python",
   "nbconvert_exporter": "python",
   "pygments_lexer": "ipython2",
   "version": "2.7.6"
  }
 },
 "nbformat": 4,
 "nbformat_minor": 5
}
