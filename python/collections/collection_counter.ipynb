{
 "cells": [
  {
   "cell_type": "code",
   "execution_count": 13,
   "id": "hispanic-course",
   "metadata": {},
   "outputs": [],
   "source": [
    "from collections import (\n",
    "    Counter\n",
    ")\n",
    "import json"
   ]
  },
  {
   "cell_type": "markdown",
   "id": "suffering-arbitration",
   "metadata": {},
   "source": [
    "# Python collections module"
   ]
  },
  {
   "cell_type": "markdown",
   "id": "light-butter",
   "metadata": {},
   "source": [
    "## collections.Counter"
   ]
  },
  {
   "cell_type": "code",
   "execution_count": 24,
   "id": "enabling-ridge",
   "metadata": {},
   "outputs": [
    {
     "data": {
      "text/plain": [
       "Counter({'tako': 3, 'ika': 3, 'bin': 1, 'uni': 3, 'sashimi': 2})"
      ]
     },
     "execution_count": 24,
     "metadata": {},
     "output_type": "execute_result"
    }
   ],
   "source": [
    "corpus = \"tako ika tako tako ika bin uni sashimi sashimi uni ika uni\"\n",
    "words=corpus.split()\n",
    "Counter(words)"
   ]
  },
  {
   "cell_type": "markdown",
   "id": "insured-small",
   "metadata": {},
   "source": [
    "## Probabilities of word ocurrences"
   ]
  },
  {
   "cell_type": "code",
   "execution_count": 22,
   "id": "sealed-tumor",
   "metadata": {},
   "outputs": [
    {
     "name": "stdout",
     "output_type": "stream",
     "text": [
      "{\n",
      "    \"tako\": 0.25,\n",
      "    \"ika\": 0.25,\n",
      "    \"bin\": 0.08333333333333333,\n",
      "    \"uni\": 0.25,\n",
      "    \"sashimi\": 0.16666666666666666\n",
      "}\n"
     ]
    }
   ],
   "source": [
    "corpus = \"tako ika tako tako ika bin uni sashimi sashimi uni ika uni\"\n",
    "total = len(words:=corpus.split())\n",
    "\n",
    "probabilities = {word: (count / total) for (word, count) in Counter(words).items()}\n",
    "print(json.dumps(probabilities, indent=4))"
   ]
  },
  {
   "cell_type": "code",
   "execution_count": null,
   "id": "formal-pitch",
   "metadata": {},
   "outputs": [],
   "source": []
  }
 ],
 "metadata": {
  "kernelspec": {
   "display_name": "Python 3",
   "language": "python",
   "name": "python3"
  },
  "language_info": {
   "codemirror_mode": {
    "name": "ipython",
    "version": 3
   },
   "file_extension": ".py",
   "mimetype": "text/x-python",
   "name": "python",
   "nbconvert_exporter": "python",
   "pygments_lexer": "ipython3",
   "version": "3.8.8"
  }
 },
 "nbformat": 4,
 "nbformat_minor": 5
}
