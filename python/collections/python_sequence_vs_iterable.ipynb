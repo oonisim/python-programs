{
 "cells": [
  {
   "cell_type": "code",
   "execution_count": 1,
   "outputs": [
    {
     "data": {
      "text/plain": "<IPython.core.display.HTML object>",
      "text/html": "<style>\ntable {float:left}\n</style>\n"
     },
     "metadata": {},
     "output_type": "display_data"
    }
   ],
   "source": [
    "%%html\n",
    "<style>\n",
    "table {float:left}\n",
    "</style>"
   ],
   "metadata": {
    "collapsed": false,
    "ExecuteTime": {
     "end_time": "2024-02-16T22:31:29.460974469Z",
     "start_time": "2024-02-16T22:31:29.456838370Z"
    }
   },
   "id": "d1e3968162b4fcb9"
  },
  {
   "cell_type": "markdown",
   "source": [
    "# Sequence vs Iterable\n",
    "\n",
    "* [What is the difference between type-hinting a variable as an Iterable versus a Sequence?](https://stackoverflow.com/a/72158086/4281353)\n",
    "\n",
    "The Sequence and Iterable abstract base classes (can also be used as type annotations) mostly* follow Python's definition of sequence and iterable. To be specific:\n",
    "\n",
    "Iterable is any object that defines ```__iter__``` or ```__getitem__```.\n",
    "Sequence is any object that defines ```__getitem__``` and ```__len__```. By definition, **any sequence is an iterable**. The Sequence class also defines other methods such as __contains__, __reversed__ that calls the two required methods.\n",
    "Some examples:\n",
    "\n",
    "list, tuple, str are the most common sequences.\n",
    "Some built-in iterables are not sequences. For example, reversed returns a reversed object (or list_reverseiterator for lists) that cannot be subscripted.\n",
    "* Iterable does not exactly conform to Python's definition of iterables — it only checks if the object defines __iter__, and does not work for objects that's only iterable via ```__getitem__``` (see this [table](https://docs.python.org/3/library/collections.abc.html#collections-abstract-base-classes) for details). The gold standard of checking if an object is iterable is using the iter builtin.\n",
    "\n",
    "\n",
    "| ABC                | Inherits from              | Abstract Methods                                         | Mixin Methods                                                                                     |\n",
    "|--------------------|----------------------------|----------------------------------------------------------|---------------------------------------------------------------------------------------------------|\n",
    "| Container [1]      |                            | __contains__                                             |                                                                                                   |\n",
    "| Hashable [1]       |                            | __hash__                                                 |                                                                                                   |\n",
    "| Iterable [1] [2]   |                            | __iter__                                                 |                                                                                                   |\n",
    "| Iterator [1]       | Iterable                   | __next__                                                 | __iter__                                                                                          |\n",
    "| Reversible [1]     | Iterable                   | __reversed__                                             |                                                                                                   |\n",
    "| Generator [1]      | Iterator                   | send, throw                                              | close, __iter__, __next__                                                                         |\n",
    "| Sized [1]          |                            | __len__                                                  |                                                                                                   |\n",
    "| Callable [1]       |                            | __call__                                                 |                                                                                                   |\n",
    "| Collection [1]     | Sized, Iterable, Container | __contains__, __iter__, __len__                          |                                                                                                   |\n",
    "| Sequence           | Reversible, Collection     | __getitem__, __len__                                     | __contains__, __iter__, __reversed__, index, and count                                            |\n",
    "| MutableSequence    | Sequence                   | __getitem__, __setitem__, __delitem__, __len__, insert   | Inherited Sequence methods and append, clear, reverse, extend, pop, remove, and __iadd__          |\n",
    "| ByteString         | Sequence                   | __getitem__, __len__                                     | Inherited Sequence methods                                                                        |\n",
    "| Set                | Collection                 | __contains__, __iter__, __len__                          | __le__, __lt__, __eq__, __ne__, __gt__, __ge__, __and__, __or__, __sub__, __xor__, and isdisjoint |\n",
    "| MutableSet         | Set                        | __contains__, __iter__, __len__, add, discard            | Inherited Set methods and clear, pop, remove, __ior__, __iand__, __ixor__, and __isub__           |\n",
    "| Mapping            | Collection                 | __getitem__, __iter__, __len__                           | __contains__, keys, items, values, get, __eq__, and __ne__                                        |\n",
    "| MutableMapping     | Mapping                    | __getitem__, __setitem__, __delitem__, __iter__, __len__ | Inherited Mapping methods and pop, popitem, clear, update, and setdefault                         |\n",
    "| MappingView        | Sized                      |                                                          | __len__                                                                                           |\n",
    "| ItemsView          | MappingView, Set           |                                                          | __contains__, __iter__                                                                            |\n",
    "| KeysView           | MappingView, Set           |                                                          | __contains__, __iter__                                                                            |\n",
    "| ValuesView         | MappingView, Collection    |                                                          | __contains__, __iter__                                                                            |\n",
    "| Awaitable [1]      |                            | __await__                                                |                                                                                                   |\n",
    "| Coroutine [1]      | Awaitable                  | send, throw                                              | close                                                                                             |\n",
    "| AsyncIterable [1]  |                            | __aiter__                                                |                                                                                                   |\n",
    "| AsyncIterator [1]  | AsyncIterable              | __anext__                                                | __aiter__                                                                                         |\n",
    "| AsyncGenerator [1] | AsyncIterator              | asend, athrow                                            | aclose, __aiter__, __anext__                                                                      |\n",
    "| Buffer [1]         |                            | __buffer__                                               |                                                                                                   |"
   ],
   "metadata": {
    "collapsed": false
   },
   "id": "5b4ce412bbd4e00d"
  },
  {
   "cell_type": "code",
   "execution_count": null,
   "outputs": [],
   "source": [],
   "metadata": {
    "collapsed": false
   },
   "id": "7bdeb9d24528ff36"
  }
 ],
 "metadata": {
  "kernelspec": {
   "display_name": "Python 3",
   "language": "python",
   "name": "python3"
  },
  "language_info": {
   "codemirror_mode": {
    "name": "ipython",
    "version": 2
   },
   "file_extension": ".py",
   "mimetype": "text/x-python",
   "name": "python",
   "nbconvert_exporter": "python",
   "pygments_lexer": "ipython2",
   "version": "2.7.6"
  }
 },
 "nbformat": 4,
 "nbformat_minor": 5
}
