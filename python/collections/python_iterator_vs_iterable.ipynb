{
 "cells": [
  {
   "cell_type": "code",
   "execution_count": 1,
   "outputs": [
    {
     "data": {
      "text/plain": "<IPython.core.display.HTML object>",
      "text/html": "<style>\ntable {float:left}\n</style>\n"
     },
     "metadata": {},
     "output_type": "display_data"
    }
   ],
   "source": [
    "%%html\n",
    "<style>\n",
    "table {float:left}\n",
    "</style>"
   ],
   "metadata": {
    "collapsed": false,
    "ExecuteTime": {
     "end_time": "2024-02-16T22:51:55.876492449Z",
     "start_time": "2024-02-16T22:51:55.802828596Z"
    }
   },
   "id": "d1e3968162b4fcb9"
  },
  {
   "cell_type": "code",
   "execution_count": 2,
   "outputs": [],
   "source": [
    "from typing import (\n",
    "    Iterator,\n",
    "    Iterable\n",
    ")"
   ],
   "metadata": {
    "collapsed": false,
    "ExecuteTime": {
     "end_time": "2024-02-16T22:51:55.876663966Z",
     "start_time": "2024-02-16T22:51:55.802938219Z"
    }
   },
   "id": "6310ef7fcd823347"
  },
  {
   "cell_type": "markdown",
   "source": [
    "# Iterator vs Iterable\n",
    "\n",
    "[Iterator](https://docs.python.org/3/glossary.html#term-iterator) can use ```next``` method to stream its member, and is the superset of [Iterable](https://docs.python.org/3/glossary.html#term-iterable) which cannot stream its member, hence cannot use ```next```.\n",
    "\n",
    "You can convert Iterable to Iterator with ```Iterator = iter(Iterable)``` vis built-in [iter](https://docs.python.org/3/library/functions.html#iter).\n",
    "\n",
    "* [Iterables vs. Iterators vs. Generators](https://nvie.com/posts/iterators-vs-generators/)\n",
    "\n",
    "> <img src=\"image/generator_iterator_iterable_relationships.png\" align=\"left\"/>\n",
    "\n",
    "\n",
    "[Iterator](https://docs.python.org/3/glossary.html#term-iterator)\n",
    "\n",
    "> An object representing **a stream of data**. Repeated calls to the iterator’s ```__next__()``` method (or passing it to the built-in function ```next()```) return successive items in the stream. When no more data are available a ```StopIteration``` exception is raised instead. At this point, the iterator object is exhausted and any further calls to its ```__next__()``` method just raise ```StopIteration``` again. \n",
    ">   \n",
    "> Iterators are **required to have an ```__iter__()``` method** that returns the iterator object itself so every iterator is also iterable and may be used in most places where other iterables are accepted. One notable exception is code which attempts multiple iteration passes. A container object (such as a list) produces a fresh new iterator each time you pass it to the ```iter()``` function **or use it in a for loop**. Attempting this with an iterator will just return the same exhausted iterator object used in the previous iteration pass, making it appear like an empty container.\n",
    "\n",
    "\n",
    "[Iterable](https://docs.python.org/3/glossary.html#term-iterable)\n",
    "\n",
    "> An object capable of returning its members **one at a time**. Examples of iterables include all sequence types (such as list, str, and tuple) and some non-sequence types like dict, file objects, and **objects of any classes you define with an ```__iter__()``` method or with a ```__getitem__()``` method** that implements sequence semantics.\n",
    ">   \n",
    "> **Iterables can be used in a for loop and in many other places where a sequence is needed (zip(), map(), …)**. When an iterable object is passed as an argument to the built-in function ```iter()```, it returns an iterator for the object. This iterator is good for one pass over the set of values. When using iterables, it is usually not necessary to call iter() or deal with iterator objects yourself. The **for statement does that automatically for you, creating a temporary unnamed variable to hold the iterator for the duration of the loop**. See also iterator, sequence, and generator.\n",
    "\n",
    "\n",
    "[Collections Abstract Base Classes](https://docs.python.org/3/library/collections.abc.html#collections-abstract-base-classes)\n",
    "\n",
    "\n",
    "| ABC                | Inherits from              | Abstract Methods                                         | Mixin Methods                                                                                     |\n",
    "|--------------------|----------------------------|----------------------------------------------------------|---------------------------------------------------------------------------------------------------|\n",
    "| Container [1]      |                            | __contains__                                             |                                                                                                   |\n",
    "| Hashable [1]       |                            | __hash__                                                 |                                                                                                   |\n",
    "| Iterable [1] [2]   |                            | __iter__                                                 |                                                                                                   |\n",
    "| Iterator [1]       | Iterable                   | __next__                                                 | __iter__                                                                                          |\n",
    "| Reversible [1]     | Iterable                   | __reversed__                                             |                                                                                                   |\n",
    "| Generator [1]      | Iterator                   | send, throw                                              | close, __iter__, __next__                                                                         |\n",
    "| Sized [1]          |                            | __len__                                                  |                                                                                                   |\n",
    "| Callable [1]       |                            | __call__                                                 |                                                                                                   |\n",
    "| Collection [1]     | Sized, Iterable, Container | __contains__, __iter__, __len__                          |                                                                                                   |\n",
    "| Sequence           | Reversible, Collection     | __getitem__, __len__                                     | __contains__, __iter__, __reversed__, index, and count                                            |\n",
    "| MutableSequence    | Sequence                   | __getitem__, __setitem__, __delitem__, __len__, insert   | Inherited Sequence methods and append, clear, reverse, extend, pop, remove, and __iadd__          |\n",
    "| ByteString         | Sequence                   | __getitem__, __len__                                     | Inherited Sequence methods                                                                        |\n",
    "| Set                | Collection                 | __contains__, __iter__, __len__                          | __le__, __lt__, __eq__, __ne__, __gt__, __ge__, __and__, __or__, __sub__, __xor__, and isdisjoint |\n",
    "| MutableSet         | Set                        | __contains__, __iter__, __len__, add, discard            | Inherited Set methods and clear, pop, remove, __ior__, __iand__, __ixor__, and __isub__           |\n",
    "| Mapping            | Collection                 | __getitem__, __iter__, __len__                           | __contains__, keys, items, values, get, __eq__, and __ne__                                        |\n",
    "| MutableMapping     | Mapping                    | __getitem__, __setitem__, __delitem__, __iter__, __len__ | Inherited Mapping methods and pop, popitem, clear, update, and setdefault                         |\n",
    "| MappingView        | Sized                      |                                                          | __len__                                                                                           |\n",
    "| ItemsView          | MappingView, Set           |                                                          | __contains__, __iter__                                                                            |\n",
    "| KeysView           | MappingView, Set           |                                                          | __contains__, __iter__                                                                            |\n",
    "| ValuesView         | MappingView, Collection    |                                                          | __contains__, __iter__                                                                            |\n",
    "| Awaitable [1]      |                            | __await__                                                |                                                                                                   |\n",
    "| Coroutine [1]      | Awaitable                  | send, throw                                              | close                                                                                             |\n",
    "| AsyncIterable [1]  |                            | __aiter__                                                |                                                                                                   |\n",
    "| AsyncIterator [1]  | AsyncIterable              | __anext__                                                | __aiter__                                                                                         |\n",
    "| AsyncGenerator [1] | AsyncIterator              | asend, athrow                                            | aclose, __aiter__, __anext__                                                                      |\n",
    "| Buffer [1]         |                            | __buffer__                                               |                                                                                                   |"
   ],
   "metadata": {
    "collapsed": false
   },
   "id": "5b4ce412bbd4e00d"
  },
  {
   "cell_type": "markdown",
   "source": [
    "## List is an iterable but not Iterator"
   ],
   "metadata": {
    "collapsed": false
   },
   "id": "6015146430e82f5c"
  },
  {
   "cell_type": "code",
   "execution_count": 4,
   "outputs": [
    {
     "name": "stdout",
     "output_type": "stream",
     "text": [
      "<class 'list'> is Iterable is True but you cannot use next(x).\n"
     ]
    },
    {
     "ename": "TypeError",
     "evalue": "'list' object is not an iterator",
     "output_type": "error",
     "traceback": [
      "\u001B[0;31m---------------------------------------------------------------------------\u001B[0m",
      "\u001B[0;31mTypeError\u001B[0m                                 Traceback (most recent call last)",
      "Cell \u001B[0;32mIn[4], line 3\u001B[0m\n\u001B[1;32m      1\u001B[0m x \u001B[38;5;241m=\u001B[39m [\u001B[38;5;241m1\u001B[39m,\u001B[38;5;241m2\u001B[39m,\u001B[38;5;241m3\u001B[39m]\n\u001B[1;32m      2\u001B[0m \u001B[38;5;28mprint\u001B[39m(\u001B[38;5;124mf\u001B[39m\u001B[38;5;124m\"\u001B[39m\u001B[38;5;132;01m{\u001B[39;00m\u001B[38;5;28mtype\u001B[39m(x)\u001B[38;5;132;01m}\u001B[39;00m\u001B[38;5;124m is Iterable is \u001B[39m\u001B[38;5;132;01m{\u001B[39;00m\u001B[38;5;28misinstance\u001B[39m(x,\u001B[38;5;250m \u001B[39mIterable)\u001B[38;5;132;01m}\u001B[39;00m\u001B[38;5;124m but you cannot use next(x).\u001B[39m\u001B[38;5;124m\"\u001B[39m)\n\u001B[0;32m----> 3\u001B[0m \u001B[38;5;28;43mnext\u001B[39;49m\u001B[43m(\u001B[49m\u001B[43mx\u001B[49m\u001B[43m)\u001B[49m\n",
      "\u001B[0;31mTypeError\u001B[0m: 'list' object is not an iterator"
     ]
    }
   ],
   "source": [
    "x = [1,2,3]\n",
    "print(f\"{type(x)} is Iterable is {isinstance(x, Iterable)} but you cannot use next(x).\")\n",
    "next(x)"
   ],
   "metadata": {
    "collapsed": false,
    "ExecuteTime": {
     "end_time": "2024-02-16T23:01:19.593130466Z",
     "start_time": "2024-02-16T23:01:19.523646976Z"
    }
   },
   "id": "7bdeb9d24528ff36"
  },
  {
   "cell_type": "markdown",
   "source": [
    "## To use ```next```, user ```iter()```"
   ],
   "metadata": {
    "collapsed": false
   },
   "id": "4d026b994cc2a05"
  },
  {
   "cell_type": "code",
   "execution_count": 5,
   "outputs": [
    {
     "data": {
      "text/plain": "1"
     },
     "execution_count": 5,
     "metadata": {},
     "output_type": "execute_result"
    }
   ],
   "source": [
    "next(iter(x))"
   ],
   "metadata": {
    "collapsed": false,
    "ExecuteTime": {
     "end_time": "2024-02-16T23:01:21.014588729Z",
     "start_time": "2024-02-16T23:01:20.959916521Z"
    }
   },
   "id": "ceac8e577f5bb921"
  },
  {
   "cell_type": "code",
   "execution_count": null,
   "outputs": [],
   "source": [],
   "metadata": {
    "collapsed": false,
    "ExecuteTime": {
     "start_time": "2024-02-16T22:51:55.924359816Z"
    }
   },
   "id": "a51bc533f2ed2c50"
  }
 ],
 "metadata": {
  "kernelspec": {
   "display_name": "Python 3",
   "language": "python",
   "name": "python3"
  },
  "language_info": {
   "codemirror_mode": {
    "name": "ipython",
    "version": 2
   },
   "file_extension": ".py",
   "mimetype": "text/x-python",
   "name": "python",
   "nbconvert_exporter": "python",
   "pygments_lexer": "ipython2",
   "version": "2.7.6"
  }
 },
 "nbformat": 4,
 "nbformat_minor": 5
}
