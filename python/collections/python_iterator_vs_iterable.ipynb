{
 "cells": [
  {
   "cell_type": "code",
   "execution_count": 1,
   "outputs": [
    {
     "data": {
      "text/plain": "<IPython.core.display.HTML object>",
      "text/html": "<style>\ntable {float:left}\n</style>\n"
     },
     "metadata": {},
     "output_type": "display_data"
    }
   ],
   "source": [
    "%%html\n",
    "<style>\n",
    "table {float:left}\n",
    "</style>"
   ],
   "metadata": {
    "collapsed": false,
    "ExecuteTime": {
     "end_time": "2024-02-16T22:51:55.876492449Z",
     "start_time": "2024-02-16T22:51:55.802828596Z"
    }
   },
   "id": "d1e3968162b4fcb9"
  },
  {
   "cell_type": "code",
   "execution_count": 17,
   "outputs": [],
   "source": [
    "from typing import (\n",
    "    Iterator,\n",
    "    Iterable\n",
    ")"
   ],
   "metadata": {
    "collapsed": false,
    "ExecuteTime": {
     "end_time": "2024-02-22T23:05:16.419802581Z",
     "start_time": "2024-02-22T23:05:16.409418862Z"
    }
   },
   "id": "6310ef7fcd823347"
  },
  {
   "cell_type": "markdown",
   "source": [
    "---\n",
    "# Ordered collection"
   ],
   "metadata": {
    "collapsed": false
   },
   "id": "28501377963704c3"
  },
  {
   "cell_type": "code",
   "execution_count": 1,
   "outputs": [
    {
     "data": {
      "text/plain": "[1, 2, 4, 6, 8, 9]"
     },
     "execution_count": 1,
     "metadata": {},
     "output_type": "execute_result"
    }
   ],
   "source": [
    "x = {1, 9, 2, 8, 4, 6}\n",
    "y = iter(x)\n",
    "list(y)"
   ],
   "metadata": {
    "collapsed": false,
    "ExecuteTime": {
     "end_time": "2024-02-22T22:40:40.109405987Z",
     "start_time": "2024-02-22T22:40:40.102532652Z"
    }
   },
   "id": "a51bc533f2ed2c50"
  },
  {
   "cell_type": "code",
   "execution_count": 2,
   "outputs": [],
   "source": [
    "from typing import (\n",
    "    Reversible, Iterator\n",
    ")"
   ],
   "metadata": {
    "collapsed": false,
    "ExecuteTime": {
     "end_time": "2024-02-22T22:41:43.239011031Z",
     "start_time": "2024-02-22T22:41:43.215097157Z"
    }
   },
   "id": "b3e07798aab9ca66"
  },
  {
   "cell_type": "code",
   "execution_count": 5,
   "outputs": [],
   "source": [
    "def ordered(object) -> bool:\n",
    "    return isinstance(object, (Iterator, Reversible))"
   ],
   "metadata": {
    "collapsed": false,
    "ExecuteTime": {
     "end_time": "2024-02-22T22:42:23.666931531Z",
     "start_time": "2024-02-22T22:42:23.651853047Z"
    }
   },
   "id": "1896200da52730f4"
  },
  {
   "cell_type": "code",
   "execution_count": 11,
   "outputs": [
    {
     "data": {
      "text/plain": "False"
     },
     "execution_count": 11,
     "metadata": {},
     "output_type": "execute_result"
    }
   ],
   "source": [
    "ordered({1, 2})"
   ],
   "metadata": {
    "collapsed": false,
    "ExecuteTime": {
     "end_time": "2024-02-22T22:58:26.617895954Z",
     "start_time": "2024-02-22T22:58:26.572537117Z"
    }
   },
   "id": "fbf1cb67111e4e57"
  },
  {
   "cell_type": "code",
   "execution_count": 12,
   "outputs": [
    {
     "data": {
      "text/plain": "True"
     },
     "execution_count": 12,
     "metadata": {},
     "output_type": "execute_result"
    }
   ],
   "source": [
    "ordered([])"
   ],
   "metadata": {
    "collapsed": false,
    "ExecuteTime": {
     "end_time": "2024-02-22T22:58:48.433767444Z",
     "start_time": "2024-02-22T22:58:48.385676223Z"
    }
   },
   "id": "53ca7b5e2a8ea215"
  },
  {
   "cell_type": "code",
   "execution_count": 13,
   "outputs": [
    {
     "data": {
      "text/plain": "True"
     },
     "execution_count": 13,
     "metadata": {},
     "output_type": "execute_result"
    }
   ],
   "source": [
    "ordered({1:1})"
   ],
   "metadata": {
    "collapsed": false,
    "ExecuteTime": {
     "end_time": "2024-02-22T22:58:56.521485625Z",
     "start_time": "2024-02-22T22:58:56.503380230Z"
    }
   },
   "id": "8b6473595e843732"
  },
  {
   "cell_type": "code",
   "execution_count": 14,
   "outputs": [
    {
     "data": {
      "text/plain": "True"
     },
     "execution_count": 14,
     "metadata": {},
     "output_type": "execute_result"
    }
   ],
   "source": [
    "ordered(range(3))"
   ],
   "metadata": {
    "collapsed": false,
    "ExecuteTime": {
     "end_time": "2024-02-22T22:59:23.252643824Z",
     "start_time": "2024-02-22T22:59:23.208727210Z"
    }
   },
   "id": "5e39f977ceb7002"
  },
  {
   "cell_type": "code",
   "execution_count": 15,
   "outputs": [
    {
     "data": {
      "text/plain": "True"
     },
     "execution_count": 15,
     "metadata": {},
     "output_type": "execute_result"
    }
   ],
   "source": [
    "def f():\n",
    "    for i in range(10):\n",
    "        yield i\n",
    "        \n",
    "ordered(f())"
   ],
   "metadata": {
    "collapsed": false,
    "ExecuteTime": {
     "end_time": "2024-02-22T22:59:53.945595214Z",
     "start_time": "2024-02-22T22:59:53.898864013Z"
    }
   },
   "id": "9aed7c757f48f338"
  },
  {
   "cell_type": "markdown",
   "source": [
    "## Unordered collection\n",
    "\n",
    "### Iterable e.g. set is not ordered"
   ],
   "metadata": {
    "collapsed": false
   },
   "id": "aa74e8ec2c5824f8"
  },
  {
   "cell_type": "code",
   "execution_count": 18,
   "outputs": [
    {
     "data": {
      "text/plain": "True"
     },
     "execution_count": 18,
     "metadata": {},
     "output_type": "execute_result"
    }
   ],
   "source": [
    "isinstance({1,2,3}, Iterable)"
   ],
   "metadata": {
    "collapsed": false,
    "ExecuteTime": {
     "end_time": "2024-02-22T23:05:24.185251481Z",
     "start_time": "2024-02-22T23:05:24.180566332Z"
    }
   },
   "id": "eae00f4a968db102"
  },
  {
   "cell_type": "code",
   "execution_count": null,
   "outputs": [],
   "source": [],
   "metadata": {
    "collapsed": false
   },
   "id": "8463feb95ba95010"
  }
 ],
 "metadata": {
  "kernelspec": {
   "display_name": "Python 3",
   "language": "python",
   "name": "python3"
  },
  "language_info": {
   "codemirror_mode": {
    "name": "ipython",
    "version": 2
   },
   "file_extension": ".py",
   "mimetype": "text/x-python",
   "name": "python",
   "nbconvert_exporter": "python",
   "pygments_lexer": "ipython2",
   "version": "2.7.6"
  }
 },
 "nbformat": 4,
 "nbformat_minor": 5
}
