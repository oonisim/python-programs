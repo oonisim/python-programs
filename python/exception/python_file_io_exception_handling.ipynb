{
 "cells": [
  {
   "cell_type": "markdown",
   "id": "ab86bbf4",
   "metadata": {},
   "source": [
    "# File I/O Exception handling\n",
    "\n",
    "OSError is the parent class of the File I/O exceptions. Hence catch the **OSError**.\n",
    "\n",
    "* [Exception hierarchy](https://docs.python.org/3/library/exceptions.html#exception-hierarchy)\n",
    "\n",
    "```\n",
    "      +-- OSError\n",
    "      |    +-- BlockingIOError\n",
    "      |    +-- ChildProcessError\n",
    "      |    +-- ConnectionError\n",
    "      |    |    +-- BrokenPipeError\n",
    "      |    |    +-- ConnectionAbortedError\n",
    "      |    |    +-- ConnectionRefusedError\n",
    "      |    |    +-- ConnectionResetError\n",
    "      |    +-- FileExistsError\n",
    "      |    +-- FileNotFoundError\n",
    "      |    +-- InterruptedError\n",
    "      |    +-- IsADirectoryError\n",
    "      |    +-- NotADirectoryError\n",
    "      |    +-- PermissionError\n",
    "      |    +-- ProcessLookupError\n",
    "      |    +-- TimeoutError\n",
    "```\n",
    "\n",
    "## OSError vs IOError\n",
    "\n",
    "**IOError is an alias of OSError** and IOError has been removed in Python 3.\n",
    "\n",
    "* [Difference between IOError and OSError?](https://stackoverflow.com/a/29347946/4281353)\n",
    "\n",
    "> In fact, even the core Python developers agreed that there is no real difference and removed IOError in Python 3 (it is now an alias for OSError). See [PEP 3151](https://www.python.org/dev/peps/pep-3151/#confusing-set-of-os-related-exceptions)- Reworking the OS and IO exception hierarchy:\n",
    "\n",
    "* [How to find all the subclasses of a class given its name?](https://stackoverflow.com/questions/3862310/how-to-find-all-the-subclasses-of-a-class-given-its-name/3862957)"
   ]
  },
  {
   "cell_type": "code",
   "execution_count": 5,
   "id": "ca316d04",
   "metadata": {},
   "outputs": [
    {
     "data": {
      "text/plain": [
       "True"
      ]
     },
     "execution_count": 5,
     "metadata": {},
     "output_type": "execute_result"
    }
   ],
   "source": [
    "IOError is OSError"
   ]
  },
  {
   "cell_type": "code",
   "execution_count": 8,
   "id": "f0ec4b5c",
   "metadata": {},
   "outputs": [
    {
     "data": {
      "text/plain": [
       "[ConnectionError,\n",
       " BlockingIOError,\n",
       " ChildProcessError,\n",
       " FileExistsError,\n",
       " FileNotFoundError,\n",
       " IsADirectoryError,\n",
       " NotADirectoryError,\n",
       " InterruptedError,\n",
       " PermissionError,\n",
       " ProcessLookupError,\n",
       " TimeoutError,\n",
       " io.UnsupportedOperation,\n",
       " signal.ItimerError,\n",
       " socket.herror,\n",
       " socket.gaierror,\n",
       " socket.timeout,\n",
       " ssl.SSLError,\n",
       " shutil.Error,\n",
       " shutil.SpecialFileError,\n",
       " shutil.ExecError,\n",
       " shutil.ReadError,\n",
       " urllib.error.URLError,\n",
       " gzip.BadGzipFile]"
      ]
     },
     "execution_count": 8,
     "metadata": {},
     "output_type": "execute_result"
    }
   ],
   "source": [
    "OSError.__subclasses__()"
   ]
  },
  {
   "cell_type": "markdown",
   "id": "e658eff9",
   "metadata": {},
   "source": [
    "---\n",
    "# File I/O Exception Handling"
   ]
  },
  {
   "cell_type": "code",
   "execution_count": 15,
   "id": "1fc7455c",
   "metadata": {},
   "outputs": [
    {
     "name": "stdout",
     "output_type": "stream",
     "text": [
      "<class 'FileNotFoundError'>: [Errno 2] No such file or directory: 'hoge'\n"
     ]
    }
   ],
   "source": [
    "    try:\n",
    "        with open('hoge') as f:\n",
    "            pass\n",
    "    except OSError as e:\n",
    "        print(f\"{type(e)}: {e}\")"
   ]
  },
  {
   "cell_type": "code",
   "execution_count": null,
   "id": "830e8ed7",
   "metadata": {},
   "outputs": [],
   "source": []
  }
 ],
 "metadata": {
  "kernelspec": {
   "display_name": "Python 3 (ipykernel)",
   "language": "python",
   "name": "python3"
  },
  "language_info": {
   "codemirror_mode": {
    "name": "ipython",
    "version": 3
   },
   "file_extension": ".py",
   "mimetype": "text/x-python",
   "name": "python",
   "nbconvert_exporter": "python",
   "pygments_lexer": "ipython3",
   "version": "3.8.10"
  }
 },
 "nbformat": 4,
 "nbformat_minor": 5
}
