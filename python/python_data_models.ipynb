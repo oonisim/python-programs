{
 "cells": [
  {
   "cell_type": "markdown",
   "source": [
    "# Pyton design and data models\n",
    "\n",
    "* [3. Data model](https://docs.python.org/3/reference/datamodel.html)\n",
    "* [Python Glossary](https://docs.python.org/3/glossary.html#glossary)"
   ],
   "metadata": {
    "collapsed": false
   },
   "id": "9abe689c18c1d553"
  },
  {
   "cell_type": "code",
   "execution_count": null,
   "outputs": [],
   "source": [],
   "metadata": {
    "collapsed": false
   },
   "id": "327fd47fccae1542"
  }
 ],
 "metadata": {
  "kernelspec": {
   "display_name": "Python 3",
   "language": "python",
   "name": "python3"
  },
  "language_info": {
   "codemirror_mode": {
    "name": "ipython",
    "version": 2
   },
   "file_extension": ".py",
   "mimetype": "text/x-python",
   "name": "python",
   "nbconvert_exporter": "python",
   "pygments_lexer": "ipython2",
   "version": "2.7.6"
  }
 },
 "nbformat": 4,
 "nbformat_minor": 5
}
