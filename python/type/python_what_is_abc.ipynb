{
 "cells": [
  {
   "cell_type": "markdown",
   "id": "e7519ea9",
   "metadata": {},
   "source": [
    "# Python ABC (Abstract Base Class)\n",
    "\n",
    "To be able to have **abstract only** type.\n",
    "\n",
    "* [Abstract Base Classes in Python](https://realpython.com/inheritance-composition-python/#abstract-base-classes-in-python)\n",
    "\n",
    "> The abc module in the Python standard library provides functionality to **prevent creating objects** from abstract base classes.\n",
    "\n",
    "\n",
    "## References\n",
    "* [Python Glossary](https://docs.python.org/3/glossary.html#term-abstract-base-class)\n",
    "* [abc — Abstract Base Classes](https://docs.python.org/3/library/abc.html)"
   ]
  },
  {
   "cell_type": "code",
   "execution_count": null,
   "id": "99f060c1",
   "metadata": {},
   "outputs": [],
   "source": []
  }
 ],
 "metadata": {
  "kernelspec": {
   "display_name": "Python 3 (ipykernel)",
   "language": "python",
   "name": "python3"
  },
  "language_info": {
   "codemirror_mode": {
    "name": "ipython",
    "version": 3
   },
   "file_extension": ".py",
   "mimetype": "text/x-python",
   "name": "python",
   "nbconvert_exporter": "python",
   "pygments_lexer": "ipython3",
   "version": "3.9.13"
  }
 },
 "nbformat": 4,
 "nbformat_minor": 5
}
