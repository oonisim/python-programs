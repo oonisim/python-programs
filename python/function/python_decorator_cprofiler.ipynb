{
 "cells": [
  {
   "cell_type": "code",
   "execution_count": 2,
   "id": "f31e134b",
   "metadata": {},
   "outputs": [],
   "source": [
    "import functools\n",
    "import cProfile"
   ]
  },
  {
   "cell_type": "code",
   "execution_count": 9,
   "id": "2e0e1d4c",
   "metadata": {},
   "outputs": [],
   "source": [
    "def profiler(func):\n",
    "    \"\"\"Profile the decorated function\"\"\"\n",
    "    @functools.wraps(func)\n",
    "    def wrapper_timer(*args, **kwargs):\n",
    "        print(f\"\\nprofiling {func.__name__!r}\")\n",
    "        profiler: cProfile.Profile = cProfile.Profile()\n",
    "        profiler.enable()\n",
    "\n",
    "        value = func(*args, **kwargs)\n",
    "\n",
    "        profiler.disable()\n",
    "        profiler.print_stats(sort=\"cumtime\")\n",
    "\n",
    "        print(f\"profiling {func.__name__!r} done.\")\n",
    "        return value\n",
    "    return wrapper_timer"
   ]
  },
  {
   "cell_type": "code",
   "execution_count": 10,
   "id": "96fda570",
   "metadata": {},
   "outputs": [],
   "source": [
    "@profiler\n",
    "def waste_some_time(num_times):\n",
    "    for _ in range(num_times):\n",
    "        sum([i**2 for i in range(10000)])\n"
   ]
  },
  {
   "cell_type": "code",
   "execution_count": 11,
   "id": "9568d17f",
   "metadata": {},
   "outputs": [
    {
     "name": "stdout",
     "output_type": "stream",
     "text": [
      "\n",
      "profiling 'waste_some_time'\n",
      "         22 function calls in 0.036 seconds\n",
      "\n",
      "   Ordered by: cumulative time\n",
      "\n",
      "   ncalls  tottime  percall  cumtime  percall filename:lineno(function)\n",
      "        1    0.001    0.001    0.036    0.036 3894942069.py:1(waste_some_time)\n",
      "       10    0.035    0.003    0.035    0.003 3894942069.py:4(<listcomp>)\n",
      "       10    0.001    0.000    0.001    0.000 {built-in method builtins.sum}\n",
      "        1    0.000    0.000    0.000    0.000 {method 'disable' of '_lsprof.Profiler' objects}\n",
      "\n",
      "\n",
      "profiling 'waste_some_time' done.\n"
     ]
    }
   ],
   "source": [
    "waste_some_time(10)"
   ]
  },
  {
   "cell_type": "code",
   "execution_count": null,
   "id": "55ff9192",
   "metadata": {},
   "outputs": [],
   "source": []
  },
  {
   "cell_type": "code",
   "execution_count": null,
   "id": "1e51020f",
   "metadata": {},
   "outputs": [],
   "source": []
  }
 ],
 "metadata": {
  "kernelspec": {
   "display_name": "Python 3 (ipykernel)",
   "language": "python",
   "name": "python3"
  },
  "language_info": {
   "codemirror_mode": {
    "name": "ipython",
    "version": 3
   },
   "file_extension": ".py",
   "mimetype": "text/x-python",
   "name": "python",
   "nbconvert_exporter": "python",
   "pygments_lexer": "ipython3",
   "version": "3.9.5"
  }
 },
 "nbformat": 4,
 "nbformat_minor": 5
}
