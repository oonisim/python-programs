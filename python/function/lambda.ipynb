{
 "cells": [
  {
   "cell_type": "code",
   "execution_count": null,
   "metadata": {},
   "outputs": [],
   "source": []
  },
  {
   "cell_type": "code",
   "execution_count": null,
   "metadata": {},
   "outputs": [],
   "source": []
  },
  {
   "cell_type": "code",
   "execution_count": 1,
   "metadata": {},
   "outputs": [],
   "source": [
    "import numpy as np\n",
    "\n",
    "W = 0.01 * np.random.randn(2, 3)\n",
    "\n",
    "def relu(x):\n",
    "    return np.maximum(0, x)\n",
    "\n",
    "def predict(X):\n",
    "    global W\n",
    "    return relu(np.matmul(X, W.T))\n",
    "\n",
    "def loss(x, t):\n",
    "    if t.ndim == 1:\n",
    "        t = t.reshape(1, t.size)\n",
    "    if x.ndim == 1:\n",
    "        x = x.reshape(1, y.size)\n",
    "       \n",
    "    a = predict(x)\n",
    "    a:float = a - np.max(a, axis=-1, keepdims=True)\n",
    "    p:float = np.exp(a) / np.sum(np.exp(a), axis=-1, keepdims=True)\n",
    "\n",
    "    batch_size = p.shape[0]\n",
    "    return -np.sum(np.log(p[np.arange(batch_size), t] + 1e-7)) / batch_size\n",
    "\n",
    "\n",
    "def gradient(f, arg):\n",
    "    h:float = 1e-4 # 0.0001\n",
    "    grad = np.zeros_like(arg, dtype=float)\n",
    "    \n",
    "    it = np.nditer(arg, flags=['multi_index'], op_flags=['readwrite'])\n",
    "    while not it.finished:\n",
    "        idx = it.multi_index\n",
    "        tmp_val = arg[idx]\n",
    "\n",
    "        arg[idx] = tmp_val + h\n",
    "        fh1: float = f(arg) # f(x+h)\n",
    "        arg[idx] = tmp_val - h \n",
    "        fh2: float = f(arg) # f(x-h)\n",
    "        grad[idx] = (fh1 - fh2) / (2*h)\n",
    "        \n",
    "        arg[idx] = tmp_val\n",
    "        it.iternext()   \n",
    "        \n",
    "    return grad\n",
    "\n",
    "    \n",
    "def numerical_gradient(x, t):\n",
    "    loss_w = lambda w: loss(x, t)\n",
    "\n",
    "    global W\n",
    "    G = gradient(loss_w, W)\n",
    "    \n",
    "    return G"
   ]
  },
  {
   "cell_type": "code",
   "execution_count": 2,
   "metadata": {},
   "outputs": [],
   "source": [
    "X = np.array([\n",
    "    [1, 1, 1],\n",
    "    [1, 2, 2],\n",
    "    [1, -2, 1]\n",
    "])\n",
    "T = np.array([\n",
    "    1,\n",
    "    1,\n",
    "    0\n",
    "])\n",
    "\n",
    "gradients = numerical_gradient(X, T)"
   ]
  },
  {
   "cell_type": "code",
   "execution_count": 3,
   "metadata": {},
   "outputs": [
    {
     "name": "stdout",
     "output_type": "stream",
     "text": [
      "[[ 0.          0.          0.        ]\n",
      " [-0.33100973 -0.49587465 -0.49587465]]\n"
     ]
    }
   ],
   "source": [
    "print(gradients)"
   ]
  },
  {
   "cell_type": "code",
   "execution_count": 2,
   "metadata": {},
   "outputs": [
    {
     "ename": "TypeError",
     "evalue": "<lambda>() missing 1 required positional argument: 'y'",
     "output_type": "error",
     "traceback": [
      "\u001b[0;31m---------------------------------------------------------------------------\u001b[0m",
      "\u001b[0;31mTypeError\u001b[0m                                 Traceback (most recent call last)",
      "\u001b[0;32m<ipython-input-2-f16de2a209f2>\u001b[0m in \u001b[0;36m<module>\u001b[0;34m\u001b[0m\n\u001b[1;32m      1\u001b[0m \u001b[0ma\u001b[0m \u001b[0;34m=\u001b[0m \u001b[0;32mlambda\u001b[0m \u001b[0mx\u001b[0m\u001b[0;34m,\u001b[0m\u001b[0my\u001b[0m\u001b[0;34m:\u001b[0m\u001b[0;36m1\u001b[0m\u001b[0;34m+\u001b[0m\u001b[0;36m2\u001b[0m\u001b[0;34m\u001b[0m\u001b[0;34m\u001b[0m\u001b[0m\n\u001b[0;32m----> 2\u001b[0;31m \u001b[0ma\u001b[0m\u001b[0;34m(\u001b[0m\u001b[0;36m2\u001b[0m\u001b[0;34m)\u001b[0m\u001b[0;34m\u001b[0m\u001b[0;34m\u001b[0m\u001b[0m\n\u001b[0m",
      "\u001b[0;31mTypeError\u001b[0m: <lambda>() missing 1 required positional argument: 'y'"
     ]
    }
   ],
   "source": [
    "a = lambda x,y:1+2\n",
    "a(2)"
   ]
  },
  {
   "cell_type": "code",
   "execution_count": 1,
   "metadata": {},
   "outputs": [],
   "source": [
    "def f1(x):\n",
    "    return(1+x)\n",
    "\n",
    "def f2(x):\n",
    "    return(2+x)\n",
    "\n",
    "def f3(x):\n",
    "    return(2+x)\n",
    "\n",
    "def f4(x):\n",
    "    return(2+x)\n",
    "\n",
    "l = [f4, f3, f2, f1]\n",
    "\n",
    "g = lambda x: f2(f1(x))"
   ]
  },
  {
   "cell_type": "code",
   "execution_count": 3,
   "metadata": {},
   "outputs": [],
   "source": [
    "from functools import reduce"
   ]
  },
  {
   "cell_type": "code",
   "execution_count": 4,
   "metadata": {},
   "outputs": [],
   "source": [
    "def compose(f1, f2):\n",
    "    return lambda x: f1(f2(x))"
   ]
  },
  {
   "cell_type": "code",
   "execution_count": null,
   "metadata": {},
   "outputs": [],
   "source": [
    "re"
   ]
  }
 ],
 "metadata": {
  "kernelspec": {
   "display_name": "Python 3",
   "language": "python",
   "name": "python3"
  },
  "language_info": {
   "codemirror_mode": {
    "name": "ipython",
    "version": 3
   },
   "file_extension": ".py",
   "mimetype": "text/x-python",
   "name": "python",
   "nbconvert_exporter": "python",
   "pygments_lexer": "ipython3",
   "version": "3.8.5"
  }
 },
 "nbformat": 4,
 "nbformat_minor": 4
}
