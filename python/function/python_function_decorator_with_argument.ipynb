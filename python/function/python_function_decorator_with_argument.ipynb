{
 "cells": [
  {
   "cell_type": "code",
   "execution_count": 1,
   "id": "cda4a617-5dfa-4a3c-8a25-3ba84b5762a7",
   "metadata": {},
   "outputs": [],
   "source": [
    "import functools\n",
    "import logging\n",
    "import time\n",
    "import sys\n",
    "import pathlib"
   ]
  },
  {
   "cell_type": "code",
   "execution_count": 2,
   "id": "2dea47fa-3c53-4873-890b-ff2041de6265",
   "metadata": {},
   "outputs": [
    {
     "name": "stdout",
     "output_type": "stream",
     "text": [
      "DEBUG:LOGGER_NAME:hoge\n"
     ]
    }
   ],
   "source": [
    "logging.basicConfig(stream=sys.stdout, level=logging.DEBUG)\n",
    "\n",
    "# Test\n",
    "logger = logging.getLogger('LOGGER_NAME')\n",
    "logger.debug(\"hoge\")"
   ]
  },
  {
   "cell_type": "code",
   "execution_count": 3,
   "id": "02dd4320-1778-48bc-812e-9323fa87214a",
   "metadata": {},
   "outputs": [],
   "source": [
    "def timeit(logger: logging.Logger):\n",
    "    \"\"\"Measure elapsed time of the function execution\"\"\"\n",
    "    def decorator(func):\n",
    "        @functools.wraps(func)\n",
    "        def wrapper(*args, **kwargs):\n",
    "            if logger.getEffectiveLevel() in {logging.DEBUG, logging.INFO}:\n",
    "                logger.debug(\"[%s] being timed...\", func.__name__)\n",
    "                start_time = time.perf_counter()\n",
    "\n",
    "                value = func(*args, **kwargs)\n",
    "\n",
    "                end_time = time.perf_counter()\n",
    "                run_time = end_time - start_time\n",
    "\n",
    "                logger.debug(\n",
    "                    \"[%s] took [%s] secs\",\n",
    "                    func.__name__, str(round(run_time, 4)).ljust(5)\n",
    "                )\n",
    "            else:\n",
    "                value = func(*args, **kwargs)\n",
    "\n",
    "            return value\n",
    "        return wrapper\n",
    "    return decorator\n"
   ]
  },
  {
   "cell_type": "code",
   "execution_count": 4,
   "id": "9fb7a1fe-dc0d-490c-ac5c-21de4d380541",
   "metadata": {},
   "outputs": [],
   "source": [
    "@timeit(logger=logger)\n",
    "def dummy():\n",
    "    time.sleep(1)"
   ]
  },
  {
   "cell_type": "code",
   "execution_count": 5,
   "id": "b0c722ac-2b2f-48b7-bc79-79be15467643",
   "metadata": {},
   "outputs": [
    {
     "name": "stdout",
     "output_type": "stream",
     "text": [
      "DEBUG:LOGGER_NAME:[dummy] being timed...\n",
      "DEBUG:LOGGER_NAME:[dummy] took [1.0044] secs\n"
     ]
    }
   ],
   "source": [
    "dummy()"
   ]
  },
  {
   "cell_type": "code",
   "execution_count": null,
   "id": "fffd3907-f36e-4288-aeea-6970e2841f25",
   "metadata": {},
   "outputs": [],
   "source": []
  }
 ],
 "metadata": {
  "kernelspec": {
   "display_name": "Python 3 (ipykernel)",
   "language": "python",
   "name": "python3"
  },
  "language_info": {
   "codemirror_mode": {
    "name": "ipython",
    "version": 3
   },
   "file_extension": ".py",
   "mimetype": "text/x-python",
   "name": "python",
   "nbconvert_exporter": "python",
   "pygments_lexer": "ipython3",
   "version": "3.10.12"
  }
 },
 "nbformat": 4,
 "nbformat_minor": 5
}
