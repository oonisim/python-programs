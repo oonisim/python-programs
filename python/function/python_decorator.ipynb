{
 "cells": [
  {
   "cell_type": "code",
   "execution_count": null,
   "id": "fde2640b",
   "metadata": {},
   "outputs": [],
   "source": []
  },
  {
   "cell_type": "code",
   "execution_count": 15,
   "id": "c0731bb8",
   "metadata": {},
   "outputs": [
    {
     "name": "stdout",
     "output_type": "stream",
     "text": [
      "I am decorating\n",
      "I am actual\n"
     ]
    }
   ],
   "source": [
    "def wrapper(func):                    #<---- Function object 'actual' is passed as an argument\n",
    "    def inner(*args, **kwargs):\n",
    "        \"\"\"Decorator function\n",
    "        \"\"\"\n",
    "        print(\"I am decorating\")\n",
    "        return func(*args, **kwargs)  #<---- actual() is invoked. () is the function invocation.\n",
    "    return inner\n",
    "\n",
    "@wrapper\n",
    "def actual(message):\n",
    "    print(message)\n",
    "\n",
    "actual(\"I am actual\")"
   ]
  },
  {
   "cell_type": "markdown",
   "id": "7229ab6c",
   "metadata": {},
   "source": [
    "# Side-effects\n",
    "\n",
    "The signature/identity of the ```actual``` is replaced with that of the ```inner``` function."
   ]
  },
  {
   "cell_type": "code",
   "execution_count": 16,
   "id": "7aeefc5b",
   "metadata": {},
   "outputs": [
    {
     "data": {
      "text/plain": [
       "'inner'"
      ]
     },
     "execution_count": 16,
     "metadata": {},
     "output_type": "execute_result"
    }
   ],
   "source": [
    "actual.__name__"
   ]
  },
  {
   "cell_type": "code",
   "execution_count": 17,
   "id": "59474c49",
   "metadata": {},
   "outputs": [
    {
     "name": "stdout",
     "output_type": "stream",
     "text": [
      "Help on function inner in module __main__:\n",
      "\n",
      "inner(*args, **kwargs)\n",
      "    Decorator function\n",
      "\n"
     ]
    }
   ],
   "source": [
    "help(actual)"
   ]
  },
  {
   "cell_type": "markdown",
   "id": "4ecf56bd",
   "metadata": {},
   "source": [
    "# Preserve the identity\n",
    "Use ```functools.wraps()```."
   ]
  },
  {
   "cell_type": "code",
   "execution_count": 12,
   "id": "5479a5d8",
   "metadata": {},
   "outputs": [],
   "source": [
    "from functools import wraps"
   ]
  },
  {
   "cell_type": "code",
   "execution_count": 18,
   "id": "2a145a1a",
   "metadata": {},
   "outputs": [
    {
     "name": "stdout",
     "output_type": "stream",
     "text": [
      "I am decorating\n",
      "I am actual\n"
     ]
    }
   ],
   "source": [
    "from functools import wraps\n",
    "def wrapper(func):                    #<---- Function object 'actual' is passed as an argument\n",
    "    @wraps(func)\n",
    "    def inner(*args, **kwargs):\n",
    "        \"\"\"Decorator function\n",
    "        \"\"\"\n",
    "        print(\"I am decorating\")\n",
    "        return func(*args, **kwargs)  #<---- actual() is invoked. () is the function invocation.\n",
    "    return inner\n",
    "\n",
    "@wrapper\n",
    "def actual(message):\n",
    "    \"\"\"Actual wrapped function\"\"\"\n",
    "    print(message)\n",
    "\n",
    "actual(\"I am actual\")"
   ]
  },
  {
   "cell_type": "code",
   "execution_count": 14,
   "id": "cc8adb35",
   "metadata": {},
   "outputs": [
    {
     "name": "stdout",
     "output_type": "stream",
     "text": [
      "actual\n"
     ]
    }
   ],
   "source": [
    "print(actual.__name__)"
   ]
  },
  {
   "cell_type": "code",
   "execution_count": 19,
   "id": "03e39eb1",
   "metadata": {},
   "outputs": [
    {
     "name": "stdout",
     "output_type": "stream",
     "text": [
      "Help on function actual in module __main__:\n",
      "\n",
      "actual(message)\n",
      "    Actual wrapped function\n",
      "\n"
     ]
    }
   ],
   "source": [
    "help(actual)"
   ]
  },
  {
   "cell_type": "code",
   "execution_count": null,
   "id": "8591b8cf",
   "metadata": {},
   "outputs": [],
   "source": []
  }
 ],
 "metadata": {
  "kernelspec": {
   "display_name": "Python 3 (ipykernel)",
   "language": "python",
   "name": "python3"
  },
  "language_info": {
   "codemirror_mode": {
    "name": "ipython",
    "version": 3
   },
   "file_extension": ".py",
   "mimetype": "text/x-python",
   "name": "python",
   "nbconvert_exporter": "python",
   "pygments_lexer": "ipython3",
   "version": "3.9.13"
  }
 },
 "nbformat": 4,
 "nbformat_minor": 5
}
