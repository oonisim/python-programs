{
 "cells": [
  {
   "cell_type": "code",
   "execution_count": null,
   "id": "initial_id",
   "metadata": {
    "collapsed": true,
    "ExecuteTime": {
     "end_time": "2024-03-06T01:16:16.048688870Z",
     "start_time": "2024-03-06T01:16:16.027568108Z"
    }
   },
   "outputs": [],
   "source": []
  },
  {
   "cell_type": "code",
   "execution_count": null,
   "outputs": [],
   "source": [],
   "metadata": {
    "collapsed": false,
    "ExecuteTime": {
     "end_time": "2024-03-06T01:16:16.049081964Z",
     "start_time": "2024-03-06T01:16:16.029441820Z"
    }
   },
   "id": "726afc5ddaf6c2db"
  },
  {
   "cell_type": "code",
   "execution_count": 1,
   "outputs": [],
   "source": [
    "def f(*args, **kwargs):\n",
    "    return args, kwargs"
   ],
   "metadata": {
    "collapsed": false,
    "ExecuteTime": {
     "end_time": "2024-03-06T01:20:52.954109415Z",
     "start_time": "2024-03-06T01:20:52.911638218Z"
    }
   },
   "id": "f0935f211c61360"
  },
  {
   "cell_type": "code",
   "execution_count": 4,
   "outputs": [],
   "source": [
    "def g(*args, **kwargs):\n",
    "    print(f\"args: {args}\")\n",
    "    print(f\"kwargs: {kwargs}\")"
   ],
   "metadata": {
    "collapsed": false,
    "ExecuteTime": {
     "end_time": "2024-03-06T01:21:41.650855590Z",
     "start_time": "2024-03-06T01:21:41.643812033Z"
    }
   },
   "id": "c5728323623a922b"
  },
  {
   "cell_type": "code",
   "execution_count": 11,
   "outputs": [
    {
     "name": "stdout",
     "output_type": "stream",
     "text": [
      "args: (1, 'a')\n",
      "kwargs: {'x': 1, 'y': 'b', 'z': {'a': 1}}\n"
     ]
    }
   ],
   "source": [
    "args, kwargs = f(1,'a', x=1, y='b', z={\"a\": 1})\n",
    "print(f\"args: {args}\")\n",
    "print(f\"kwargs: {kwargs}\")"
   ],
   "metadata": {
    "collapsed": false,
    "ExecuteTime": {
     "end_time": "2024-03-06T01:24:27.647727782Z",
     "start_time": "2024-03-06T01:24:27.640319910Z"
    }
   },
   "id": "414744964890c2a6"
  },
  {
   "cell_type": "code",
   "execution_count": 12,
   "outputs": [
    {
     "name": "stdout",
     "output_type": "stream",
     "text": [
      "args: (1, 'a')\n",
      "kwargs: {'x': 1, 'y': 'b', 'z': {'a': 1}}\n"
     ]
    }
   ],
   "source": [
    "g(*args, **kwargs)"
   ],
   "metadata": {
    "collapsed": false,
    "ExecuteTime": {
     "end_time": "2024-03-06T01:24:55.046617219Z",
     "start_time": "2024-03-06T01:24:54.992474585Z"
    }
   },
   "id": "a696ee6566285490"
  },
  {
   "cell_type": "code",
   "execution_count": 17,
   "outputs": [],
   "source": [
    "def h(*args, **kwargs):\n",
    "    result = {\n",
    "        \"name\": \"hoge\",\n",
    "        1: \"a\", \n",
    "        \"x\": 9999\n",
    "    }\n",
    "    return args, kwargs | result"
   ],
   "metadata": {
    "collapsed": false,
    "ExecuteTime": {
     "end_time": "2024-03-06T01:33:33.981084284Z",
     "start_time": "2024-03-06T01:33:33.971677990Z"
    }
   },
   "id": "911a6e10644e56e2"
  },
  {
   "cell_type": "code",
   "execution_count": 18,
   "outputs": [
    {
     "data": {
      "text/plain": "((1, 'a'), {'x': 9999, 'y': 'b', 'z': {'a': 1}, 'name': 'hoge', 1: 'a'})"
     },
     "execution_count": 18,
     "metadata": {},
     "output_type": "execute_result"
    }
   ],
   "source": [
    "h(*args, **kwargs)"
   ],
   "metadata": {
    "collapsed": false,
    "ExecuteTime": {
     "end_time": "2024-03-06T01:33:34.168586749Z",
     "start_time": "2024-03-06T01:33:34.164613969Z"
    }
   },
   "id": "498357cf3ce6c306"
  },
  {
   "cell_type": "code",
   "execution_count": null,
   "outputs": [],
   "source": [],
   "metadata": {
    "collapsed": false
   },
   "id": "b2bae165a7eda3d2"
  }
 ],
 "metadata": {
  "kernelspec": {
   "display_name": "Python 3",
   "language": "python",
   "name": "python3"
  },
  "language_info": {
   "codemirror_mode": {
    "name": "ipython",
    "version": 2
   },
   "file_extension": ".py",
   "mimetype": "text/x-python",
   "name": "python",
   "nbconvert_exporter": "python",
   "pygments_lexer": "ipython2",
   "version": "2.7.6"
  }
 },
 "nbformat": 4,
 "nbformat_minor": 5
}
