{
 "cells": [
  {
   "cell_type": "markdown",
   "id": "35d83248",
   "metadata": {},
   "source": [
    "# What can be slice-able?\n",
    "\n",
    "The objects that have the  `__getitem()__` are **can be** the ones because the method is to accept a slice. However, it is not a sufficient.\n",
    "\n",
    "* [Implementing slicing in __getitem__](https://stackoverflow.com/a/34372150/4281353)\n",
    "\n",
    "> Slice objects gets automatically created when you use a colon in the subscript notation - and that is what is passed to `__getitem__`.\n",
    "> ```\n",
    "> from __future__ import print_function\n",
    "> \n",
    "> class Sliceable(object):\n",
    ">     def __getitem__(self, subscript):\n",
    ">         if isinstance(subscript, slice):\n",
    ">             # do your handling for a slice object:\n",
    ">             print(subscript.start, subscript.stop, subscript.step)\n",
    ">         else:\n",
    ">             # Do your handling for a plain index\n",
    ">             print(subscript)\n",
    "> ```\n",
    "\n",
    "\n",
    "## References\n",
    "\n",
    "* [The Python Language Reference - 3. Data model](https://docs.python.org/3/reference/datamodel.html#special-method-names)\n",
    "\n",
    "> ### Slice objects\n",
    "> Slice objects are used to represent slices for [`__getitem__`()](https://docs.python.org/3/reference/datamodel.html#object.__getitem__) methods. They are also created by the built-in slice() function.\n",
    "\n",
    "* [`object.__getitem__(self, key)`](https://docs.python.org/3/reference/datamodel.html#object.__getitem__)\n",
    "\n",
    "> Called to implement evaluation of self[key]. For [sequence](https://docs.python.org/3/glossary.html#term-sequence) types, the accepted keys should be integers and slice objects. \n",
    "\n",
    "* [sequence](https://docs.python.org/3/glossary.html#term-sequence)\n",
    "\n",
    "> An iterable which supports efficient element access using integer indices via the `__getitem__()` special method and defines a `__len__()` method that returns the length of the sequence. Some built-in sequence types are list, str, tuple, and bytes. Note that dict also supports `__getitem__()` and `__len__()`, but is considered a mapping rather than a sequence because the lookups use arbitrary immutable keys rather than integers.\n",
    "> \n",
    "> The [collections.abc.Sequence](https://docs.python.org/3/library/collections.abc.html#collections.abc.Sequence) abstract base class defines a much richer interface that goes beyond just `__getitem__()` and `__len__()`, adding count(), index(), `__contains__()`, and `__reversed__()`. \n"
   ]
  },
  {
   "cell_type": "markdown",
   "id": "0693fca8",
   "metadata": {},
   "source": [
    "# ```__getitem__()``` is NOT sufficient \n",
    "\n",
    "\n",
    "Dictionary has ```__getitem__()``` but cannot be sliced."
   ]
  },
  {
   "cell_type": "code",
   "execution_count": 21,
   "id": "bb0f98fb",
   "metadata": {},
   "outputs": [],
   "source": [
    "def has_getitem(object) -> bool:\n",
    "    return \"__getitem__\" in dir(object)"
   ]
  },
  {
   "cell_type": "code",
   "execution_count": 22,
   "id": "a1e64ceb",
   "metadata": {},
   "outputs": [
    {
     "data": {
      "text/plain": [
       "True"
      ]
     },
     "execution_count": 22,
     "metadata": {},
     "output_type": "execute_result"
    }
   ],
   "source": [
    "has_getitem(\"abc\")"
   ]
  },
  {
   "cell_type": "code",
   "execution_count": 23,
   "id": "044b1e07",
   "metadata": {},
   "outputs": [
    {
     "data": {
      "text/plain": [
       "True"
      ]
     },
     "execution_count": 23,
     "metadata": {},
     "output_type": "execute_result"
    }
   ],
   "source": [
    "has_getitem([1,2])"
   ]
  },
  {
   "cell_type": "code",
   "execution_count": 24,
   "id": "384b0e56",
   "metadata": {},
   "outputs": [
    {
     "data": {
      "text/plain": [
       "True"
      ]
     },
     "execution_count": 24,
     "metadata": {},
     "output_type": "execute_result"
    }
   ],
   "source": [
    "has_getitem({\"a\": 1, \"b\": 2})"
   ]
  },
  {
   "cell_type": "code",
   "execution_count": 25,
   "id": "0b2f4e5f",
   "metadata": {},
   "outputs": [
    {
     "ename": "TypeError",
     "evalue": "unhashable type: 'slice'",
     "output_type": "error",
     "traceback": [
      "\u001b[0;31m---------------------------------------------------------------------------\u001b[0m",
      "\u001b[0;31mTypeError\u001b[0m                                 Traceback (most recent call last)",
      "Cell \u001b[0;32mIn[25], line 1\u001b[0m\n\u001b[0;32m----> 1\u001b[0m \u001b[43m{\u001b[49m\u001b[38;5;124;43m\"\u001b[39;49m\u001b[38;5;124;43ma\u001b[39;49m\u001b[38;5;124;43m\"\u001b[39;49m\u001b[43m:\u001b[49m\u001b[43m \u001b[49m\u001b[38;5;241;43m1\u001b[39;49m\u001b[43m,\u001b[49m\u001b[43m \u001b[49m\u001b[38;5;124;43m\"\u001b[39;49m\u001b[38;5;124;43mb\u001b[39;49m\u001b[38;5;124;43m\"\u001b[39;49m\u001b[43m:\u001b[49m\u001b[43m \u001b[49m\u001b[38;5;241;43m2\u001b[39;49m\u001b[43m}\u001b[49m\u001b[43m[\u001b[49m\u001b[43m:\u001b[49m\u001b[38;5;241;43m1\u001b[39;49m\u001b[43m]\u001b[49m\n",
      "\u001b[0;31mTypeError\u001b[0m: unhashable type: 'slice'"
     ]
    }
   ],
   "source": [
    "{\"a\": 1, \"b\": 2}[:1]"
   ]
  },
  {
   "cell_type": "code",
   "execution_count": 26,
   "id": "f25ff4e5",
   "metadata": {},
   "outputs": [
    {
     "data": {
      "text/plain": [
       "True"
      ]
     },
     "execution_count": 26,
     "metadata": {},
     "output_type": "execute_result"
    }
   ],
   "source": [
    "import numpy as np\n",
    "has_getitem(np.array([1,2,3]))"
   ]
  },
  {
   "cell_type": "code",
   "execution_count": 27,
   "id": "3b0b488a",
   "metadata": {},
   "outputs": [
    {
     "data": {
      "text/plain": [
       "True"
      ]
     },
     "execution_count": 27,
     "metadata": {},
     "output_type": "execute_result"
    }
   ],
   "source": [
    "import pandas as pd\n",
    "has_getitem(pd.DataFrame([1,2,3]))"
   ]
  },
  {
   "cell_type": "markdown",
   "id": "7ff201ca",
   "metadata": {},
   "source": [
    "# Sequence type is not sufficient\n",
    "\n",
    "Slice-able object is not always Sequence type because numpy array is not a sequence (why?)\n",
    "\n",
    "* [Why numpy array is not of Sequence type?](https://stackoverflow.com/questions/76082807/why-numpy-array-is-not-of-sequence-type)"
   ]
  },
  {
   "cell_type": "code",
   "execution_count": 30,
   "id": "e49db16a",
   "metadata": {},
   "outputs": [],
   "source": [
    "from typing import Sequence\n",
    "\n",
    "\n",
    "def is_sequence_type(object) -> bool:\n",
    "    return isinstance(object, Sequence)"
   ]
  },
  {
   "cell_type": "code",
   "execution_count": 31,
   "id": "09805145",
   "metadata": {},
   "outputs": [
    {
     "data": {
      "text/plain": [
       "True"
      ]
     },
     "execution_count": 31,
     "metadata": {},
     "output_type": "execute_result"
    }
   ],
   "source": [
    "is_sequence_type(\"abc\")"
   ]
  },
  {
   "cell_type": "code",
   "execution_count": 32,
   "id": "6c6ffaab",
   "metadata": {},
   "outputs": [
    {
     "data": {
      "text/plain": [
       "True"
      ]
     },
     "execution_count": 32,
     "metadata": {},
     "output_type": "execute_result"
    }
   ],
   "source": [
    "is_sequence_type([1,2,3])"
   ]
  },
  {
   "cell_type": "code",
   "execution_count": 33,
   "id": "4f9a8bd2",
   "metadata": {},
   "outputs": [
    {
     "data": {
      "text/plain": [
       "False"
      ]
     },
     "execution_count": 33,
     "metadata": {},
     "output_type": "execute_result"
    }
   ],
   "source": [
    "is_sequence_type({\"a\": 1, \"b\": 2})"
   ]
  },
  {
   "cell_type": "code",
   "execution_count": 34,
   "id": "1a060e4a",
   "metadata": {},
   "outputs": [
    {
     "data": {
      "text/plain": [
       "False"
      ]
     },
     "execution_count": 34,
     "metadata": {},
     "output_type": "execute_result"
    }
   ],
   "source": [
    "is_sequence_type(np.array([1,2,3]))"
   ]
  },
  {
   "cell_type": "code",
   "execution_count": 42,
   "id": "055a8b98",
   "metadata": {},
   "outputs": [
    {
     "data": {
      "text/plain": [
       "False"
      ]
     },
     "execution_count": 42,
     "metadata": {},
     "output_type": "execute_result"
    }
   ],
   "source": [
    "is_sequence_type(np.array([1,2,3]))"
   ]
  },
  {
   "cell_type": "code",
   "execution_count": null,
   "id": "b650d4b9",
   "metadata": {},
   "outputs": [],
   "source": []
  },
  {
   "cell_type": "code",
   "execution_count": 43,
   "id": "e6e3b9be",
   "metadata": {},
   "outputs": [
    {
     "data": {
      "text/plain": [
       "False"
      ]
     },
     "execution_count": 43,
     "metadata": {},
     "output_type": "execute_result"
    }
   ],
   "source": [
    "from typing import Sequence\n",
    "import numpy as np\n",
    "\n",
    "x = np.array([1,2,3])\n",
    "isinstance(x, Sequence)"
   ]
  },
  {
   "cell_type": "code",
   "execution_count": 44,
   "id": "e12f3153",
   "metadata": {},
   "outputs": [
    {
     "data": {
      "text/plain": [
       "array([1, 2, 3])"
      ]
     },
     "execution_count": 44,
     "metadata": {},
     "output_type": "execute_result"
    }
   ],
   "source": [
    "x"
   ]
  },
  {
   "cell_type": "code",
   "execution_count": 46,
   "id": "cd1e052e",
   "metadata": {},
   "outputs": [
    {
     "data": {
      "text/plain": [
       "1"
      ]
     },
     "execution_count": 46,
     "metadata": {},
     "output_type": "execute_result"
    }
   ],
   "source": [
    "x[0]"
   ]
  },
  {
   "cell_type": "code",
   "execution_count": null,
   "id": "7befe4db",
   "metadata": {},
   "outputs": [],
   "source": []
  }
 ],
 "metadata": {
  "kernelspec": {
   "display_name": "Python 3 (ipykernel)",
   "language": "python",
   "name": "python3"
  },
  "language_info": {
   "codemirror_mode": {
    "name": "ipython",
    "version": 3
   },
   "file_extension": ".py",
   "mimetype": "text/x-python",
   "name": "python",
   "nbconvert_exporter": "python",
   "pygments_lexer": "ipython3",
   "version": "3.9.13"
  }
 },
 "nbformat": 4,
 "nbformat_minor": 5
}
