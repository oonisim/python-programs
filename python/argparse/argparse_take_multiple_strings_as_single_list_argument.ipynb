{
 "cells": [
  {
   "cell_type": "markdown",
   "id": "feff6306",
   "metadata": {},
   "source": [
    "# How to pass multiple strings as single list argument\n",
    "\n",
    "* [How can I pass a list as a command-line argument with argparse?](https://stackoverflow.com/a/15753721/4281353)\n",
    "\n",
    "> Use the **nargs** option\n",
    "\n",
    "```\n",
    "# This is the correct way to handle accepting multiple arguments.\n",
    "# '+' == 1 or more.\n",
    "# '*' == 0 or more.\n",
    "# '?' == 0 or 1.\n",
    "# An int is an explicit number of arguments to accept.\n",
    "\n",
    "parser.add_argument('--nargs', nargs='+')\n",
    "```\n",
    "```\n",
    "$ python arg.py --nargs 1234 2345 3456 4567\n",
    "['1234', '2345', '3456', '4567']\n",
    "```"
   ]
  },
  {
   "cell_type": "code",
   "execution_count": 10,
   "id": "f3107d0c",
   "metadata": {},
   "outputs": [
    {
     "name": "stdout",
     "output_type": "stream",
     "text": [
      "Overwriting arg_test.py\n"
     ]
    }
   ],
   "source": [
    "%%writefile arg_test.py\n",
    "import argparse\n",
    "\n",
    "parser = argparse.ArgumentParser(description='argparse test program')\n",
    "parser.add_argument(\n",
    "    '--list', type=str.upper, nargs='+',\n",
    "    help=\"list argument\"\n",
    ")\n",
    "parser.add_argument(\n",
    "    '-b', '--boolean', action=\"store_true\",\n",
    "    help='boolean argument'\n",
    ")\n",
    "args = vars(parser.parse_args())\n",
    "for k, v in args.items():\n",
    "    print(f\"{k}:{v}\")\n"
   ]
  },
  {
   "cell_type": "code",
   "execution_count": 14,
   "id": "d3b841c4",
   "metadata": {},
   "outputs": [
    {
     "name": "stdout",
     "output_type": "stream",
     "text": [
      "list:['1234', '2345', '3456', '4567']\r\n",
      "boolean:False\r\n"
     ]
    }
   ],
   "source": [
    "!python arg_test.py --list 1234 2345 3456 4567"
   ]
  },
  {
   "cell_type": "code",
   "execution_count": 13,
   "id": "01f721d9",
   "metadata": {},
   "outputs": [
    {
     "name": "stdout",
     "output_type": "stream",
     "text": [
      "list:['ABC', 'DEF', 'XYZ']\r\n",
      "boolean:True\r\n"
     ]
    }
   ],
   "source": [
    "!python arg_test.py --list aBc dEF xyz -b"
   ]
  },
  {
   "cell_type": "code",
   "execution_count": null,
   "id": "c5c8dc46",
   "metadata": {},
   "outputs": [],
   "source": []
  }
 ],
 "metadata": {
  "kernelspec": {
   "display_name": "Python 3 (ipykernel)",
   "language": "python",
   "name": "python3"
  },
  "language_info": {
   "codemirror_mode": {
    "name": "ipython",
    "version": 3
   },
   "file_extension": ".py",
   "mimetype": "text/x-python",
   "name": "python",
   "nbconvert_exporter": "python",
   "pygments_lexer": "ipython3",
   "version": "3.8.10"
  }
 },
 "nbformat": 4,
 "nbformat_minor": 5
}
