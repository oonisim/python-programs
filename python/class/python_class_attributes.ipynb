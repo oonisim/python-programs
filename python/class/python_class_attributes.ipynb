{
 "cells": [
  {
   "cell_type": "code",
   "execution_count": 1,
   "id": "cd398d8a",
   "metadata": {},
   "outputs": [],
   "source": [
    "class Base:\n",
    "    @classmethod\n",
    "    def class_id(cls):\n",
    "        return cls.__qualname__\n",
    "    \n",
    "    @property \n",
    "    def parameters(self):\n",
    "        return self._parameters\n",
    "    \n",
    "    def __init__(self, *args, **kwargs):\n",
    "        self._attr = \"tako\"\n",
    "        _, *self._parameters = list(locals().keys())\n",
    "        \n",
    "    def rm(self):\n",
    "        del self._attr\n",
    "\n",
    "class Child(Base):\n",
    "    def __init__(self, name, *args, **kwargs):\n",
    "        super().__init__(args, like=\"sushi\", **kwargs)\n",
    "\n",
    "class GrandKid(Child):\n",
    "    def __init__(self):\n",
    "        super().__init__(\"hoge\")"
   ]
  },
  {
   "cell_type": "markdown",
   "id": "d860023e",
   "metadata": {},
   "source": [
    "---\n",
    "# Class qualified name\n",
    "\n",
    "This is **NOT** for inheritance, but internal nested class.\n",
    "\n",
    "* [python - how to get hierarchical class name](https://stackoverflow.com/questions/67327331/python-how-to-get-hierarchical-class-name)\n",
    "* [PEP 3155 -- Qualified name for classes and functions](https://www.python.org/dev/peps/pep-3155/)\n",
    "\n",
    "> For nested classes, methods, and nested functions, the __qualname__ attribute contains ```a dotted path leading to``` the object from the module top-level. \n",
    "\n",
    "```\n",
    ">>> class C:\n",
    "...   def f(): pass\n",
    "...   class D:\n",
    "...     def g(): pass\n",
    "...\n",
    ">>> C.D.g.__qualname__\n",
    "'C.D.g'\n",
    "```\n"
   ]
  },
  {
   "cell_type": "markdown",
   "id": "554ed581",
   "metadata": {},
   "source": [
    "## Child class __qualname__ is the same with __name__\n",
    "\n",
    "DO NOT expect ```Base.Child.GrandKid```.\n"
   ]
  },
  {
   "cell_type": "code",
   "execution_count": 3,
   "id": "dfdd4384",
   "metadata": {},
   "outputs": [
    {
     "data": {
      "text/plain": [
       "'GrandKid'"
      ]
     },
     "execution_count": 3,
     "metadata": {},
     "output_type": "execute_result"
    }
   ],
   "source": [
    "grandkid = GrandKid()\n",
    "grandkid.class_id()"
   ]
  }
 ],
 "metadata": {
  "kernelspec": {
   "display_name": "Python 3",
   "language": "python",
   "name": "python3"
  },
  "language_info": {
   "codemirror_mode": {
    "name": "ipython",
    "version": 3
   },
   "file_extension": ".py",
   "mimetype": "text/x-python",
   "name": "python",
   "nbconvert_exporter": "python",
   "pygments_lexer": "ipython3",
   "version": "3.8.8"
  }
 },
 "nbformat": 4,
 "nbformat_minor": 5
}
