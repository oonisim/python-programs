{
 "cells": [
  {
   "cell_type": "markdown",
   "id": "urban-campus",
   "metadata": {},
   "source": [
    "# Class name __name is implicit converted (mangling) by Python \n",
    "\n",
    "* [What is the meaning of single and double underscore before an object name?](https://stackoverflow.com/a/1301369/4281353)\n",
    "\n",
    "From the [Python docs](https://docs.python.org/3/tutorial/classes.html#private-variables):\n",
    "\n",
    "> Any identifier of the form ```__spam``` (at least **two leading underscores, at most one trailing underscore**) is ***textually replaced with ```classname__spam```***, where classname is the current class name with leading underscore(s) stripped. \n",
    ">\n",
    "> This mangling is done without regard to the syntactic position of the identifier, so it can be used to define class-private instance and class variables, methods, variables stored in globals, and even variables stored in instances. private to this class on instances of other classes.\n"
   ]
  },
  {
   "cell_type": "code",
   "execution_count": 3,
   "id": "transparent-branch",
   "metadata": {},
   "outputs": [
    {
     "ename": "NameError",
     "evalue": "name '_hoge__HOGE' is not defined",
     "output_type": "error",
     "traceback": [
      "\u001b[0;31m---------------------------------------------------------------------------\u001b[0m",
      "\u001b[0;31mNameError\u001b[0m                                 Traceback (most recent call last)",
      "\u001b[0;32m<ipython-input-3-9aeca9d0bc7a>\u001b[0m in \u001b[0;36m<module>\u001b[0;34m\u001b[0m\n\u001b[1;32m     11\u001b[0m         \u001b[0mprint\u001b[0m\u001b[0;34m(\u001b[0m\u001b[0m__HOGE\u001b[0m\u001b[0;34m)\u001b[0m\u001b[0;34m\u001b[0m\u001b[0;34m\u001b[0m\u001b[0m\n\u001b[1;32m     12\u001b[0m \u001b[0;34m\u001b[0m\u001b[0m\n\u001b[0;32m---> 13\u001b[0;31m \u001b[0ma\u001b[0m \u001b[0;34m=\u001b[0m \u001b[0mhoge\u001b[0m\u001b[0;34m(\u001b[0m\u001b[0mname\u001b[0m\u001b[0;34m=\u001b[0m\u001b[0;34m\"name\"\u001b[0m\u001b[0;34m,\u001b[0m \u001b[0mnum_nodes\u001b[0m\u001b[0;34m=\u001b[0m\u001b[0;36m1\u001b[0m\u001b[0;34m)\u001b[0m\u001b[0;34m\u001b[0m\u001b[0;34m\u001b[0m\u001b[0m\n\u001b[0m",
      "\u001b[0;32m<ipython-input-3-9aeca9d0bc7a>\u001b[0m in \u001b[0;36m__init__\u001b[0;34m(self, name, num_nodes, momentum)\u001b[0m\n\u001b[1;32m      9\u001b[0m         \u001b[0mself\u001b[0m\u001b[0;34m.\u001b[0m\u001b[0margs\u001b[0m \u001b[0;34m=\u001b[0m \u001b[0mset\u001b[0m\u001b[0;34m(\u001b[0m\u001b[0mlocals\u001b[0m\u001b[0;34m(\u001b[0m\u001b[0;34m)\u001b[0m\u001b[0;34m.\u001b[0m\u001b[0mkeys\u001b[0m\u001b[0;34m(\u001b[0m\u001b[0;34m)\u001b[0m\u001b[0;34m)\u001b[0m\u001b[0;34m\u001b[0m\u001b[0;34m\u001b[0m\u001b[0m\n\u001b[1;32m     10\u001b[0m         \u001b[0;32mglobal\u001b[0m \u001b[0m__HOGE\u001b[0m\u001b[0;34m\u001b[0m\u001b[0;34m\u001b[0m\u001b[0m\n\u001b[0;32m---> 11\u001b[0;31m         \u001b[0mprint\u001b[0m\u001b[0;34m(\u001b[0m\u001b[0m__HOGE\u001b[0m\u001b[0;34m)\u001b[0m\u001b[0;34m\u001b[0m\u001b[0;34m\u001b[0m\u001b[0m\n\u001b[0m\u001b[1;32m     12\u001b[0m \u001b[0;34m\u001b[0m\u001b[0m\n\u001b[1;32m     13\u001b[0m \u001b[0ma\u001b[0m \u001b[0;34m=\u001b[0m \u001b[0mhoge\u001b[0m\u001b[0;34m(\u001b[0m\u001b[0mname\u001b[0m\u001b[0;34m=\u001b[0m\u001b[0;34m\"name\"\u001b[0m\u001b[0;34m,\u001b[0m \u001b[0mnum_nodes\u001b[0m\u001b[0;34m=\u001b[0m\u001b[0;36m1\u001b[0m\u001b[0;34m)\u001b[0m\u001b[0;34m\u001b[0m\u001b[0;34m\u001b[0m\u001b[0m\n",
      "\u001b[0;31mNameError\u001b[0m: name '_hoge__HOGE' is not defined"
     ]
    }
   ],
   "source": [
    "__HOGE = 1\n",
    "class hoge:\n",
    "    def __init__(\n",
    "            self,\n",
    "            name: str,\n",
    "            num_nodes: int,\n",
    "            momentum = 0.9,\n",
    "    ):\n",
    "        self.args = set(locals().keys())\n",
    "        global __HOGE\n",
    "        print(__HOGE)\n",
    "\n",
    "a = hoge(name=\"name\", num_nodes=1)"
   ]
  },
  {
   "cell_type": "code",
   "execution_count": 6,
   "id": "intensive-implementation",
   "metadata": {},
   "outputs": [
    {
     "name": "stdout",
     "output_type": "stream",
     "text": [
      "1\n"
     ]
    }
   ],
   "source": [
    "_hoge__HOGE = 1\n",
    "class hoge:\n",
    "    def __init__(\n",
    "            self,\n",
    "            name: str,\n",
    "            num_nodes: int,\n",
    "            momentum = 0.9,\n",
    "    ):\n",
    "        self.args = set(locals().keys())\n",
    "        global __HOGE       # <--- Implicitly converted into \"_hoge__HOGE\"\n",
    "        print(__HOGE)       # Same with print(_hoge__HOGE)\n",
    "\n",
    "a = hoge(name=\"name\", num_nodes=1)"
   ]
  }
 ],
 "metadata": {
  "kernelspec": {
   "display_name": "Python 3",
   "language": "python",
   "name": "python3"
  },
  "language_info": {
   "codemirror_mode": {
    "name": "ipython",
    "version": 3
   },
   "file_extension": ".py",
   "mimetype": "text/x-python",
   "name": "python",
   "nbconvert_exporter": "python",
   "pygments_lexer": "ipython3",
   "version": "3.8.8"
  }
 },
 "nbformat": 4,
 "nbformat_minor": 5
}
