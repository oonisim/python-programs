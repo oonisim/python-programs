{
 "cells": [
  {
   "cell_type": "code",
   "execution_count": 41,
   "id": "3ad4b633",
   "metadata": {},
   "outputs": [
    {
     "data": {
      "text/html": [
       "<style>\n",
       "table {float:left}\n",
       "</style>\n"
      ],
      "text/plain": [
       "<IPython.core.display.HTML object>"
      ]
     },
     "metadata": {},
     "output_type": "display_data"
    }
   ],
   "source": [
    "%%html\n",
    "<style>\n",
    "table {float:left}\n",
    "</style>"
   ]
  },
  {
   "cell_type": "code",
   "execution_count": null,
   "id": "a34fd17e",
   "metadata": {},
   "outputs": [],
   "source": [
    "import regex as re"
   ]
  },
  {
   "cell_type": "markdown",
   "id": "9ea3400f",
   "metadata": {},
   "source": [
    "# Character Class\n",
    "\n",
    "* [Regular Expression Syntax](https://docs.python.org/3/library/re.html#regular-expression-syntax)\n",
    "* [Regular Expression HOWTO](https://docs.python.org/3/howto/regex.html)\n",
    "\n",
    "> [...] to specify **a character class**, which is a set of characters that you wish to match. \n",
    "> \n",
    "> Metacharacters except ```\\``` and **special sequences** are not active inside classes. \n",
    "> * ```[].$]``` matches '``]``', ```$```, and ```.```.\n",
    "> * ```[\\s\\d]``` mathces a space or a digit.\n",
    "\n",
    "\n",
    "<img src=\"./image/python_character_class.png\" align=\"left\" width=600/>"
   ]
  },
  {
   "cell_type": "markdown",
   "id": "6a0ccc76",
   "metadata": {},
   "source": [
    "\n",
    "## POSIX Character Class\n",
    "\n",
    "Available in ```regex``` not in ```re``` module.\n",
    "\n",
    "| Class      | Description                                 |\n",
    "|------------|---------------------------------------------|\n",
    "| [:blank:]  | Space and tab                               |\n",
    "| [:space:]  | White space                                 |\n",
    "| [:graph:]  | Printable and visible character (non space) |\n",
    "| [:print:]  | Printable character including space         |\n",
    "| [:digit:]  | Numeric character                           |\n",
    "| [:punct:]  | Punctuation                                 |\n",
    "| [:lower:]  | Lower case                                  |\n",
    "| [:upper:]  | Upper case                                  |\n",
    "| [:contrl:] | Control character                           |\n",
    "\n"
   ]
  },
  {
   "cell_type": "code",
   "execution_count": 25,
   "id": "633919bf",
   "metadata": {},
   "outputs": [
    {
     "data": {
      "text/plain": [
       "['$', '1', '0', '0', '&']"
      ]
     },
     "execution_count": 25,
     "metadata": {},
     "output_type": "execute_result"
    }
   ],
   "source": [
    "re.findall(pattern=\"[[:punct:][:digit:]]\", string=\"$100 &amp\\n\", flags=re.IGNORECASE)"
   ]
  },
  {
   "cell_type": "markdown",
   "id": "a18d95d0",
   "metadata": {},
   "source": [
    "\n",
    "## Special Sequences\n",
    "\n",
    "See [Regular Expression Syntax](https://docs.python.org/3/library/re.html#regular-expression-syntax).\n",
    "\n",
    "<img src=\"./image/python_special_sequence.png\" align=\"left\" width=600/>"
   ]
  },
  {
   "cell_type": "code",
   "execution_count": 17,
   "id": "0fe080b1",
   "metadata": {},
   "outputs": [
    {
     "data": {
      "text/plain": [
       "[']', '.', '$', '-', '{']"
      ]
     },
     "execution_count": 17,
     "metadata": {},
     "output_type": "execute_result"
    }
   ],
   "source": [
    "re.findall(pattern=\"[].${-]\", string=\"[] . $100 a-b {}\", flags=re.IGNORECASE)"
   ]
  },
  {
   "cell_type": "code",
   "execution_count": 22,
   "id": "ff4718d8",
   "metadata": {},
   "outputs": [
    {
     "data": {
      "text/plain": [
       "['1', ' ', '2', ' ', '3']"
      ]
     },
     "execution_count": 22,
     "metadata": {},
     "output_type": "execute_result"
    }
   ],
   "source": [
    "re.findall(pattern=\"[\\s\\d]\", string=\"1 2 3\", flags=re.IGNORECASE)"
   ]
  },
  {
   "cell_type": "code",
   "execution_count": 30,
   "id": "30502489",
   "metadata": {},
   "outputs": [
    {
     "data": {
      "text/plain": [
       "[']', '.', '$', '-', '{']"
      ]
     },
     "execution_count": 30,
     "metadata": {},
     "output_type": "execute_result"
    }
   ],
   "source": [
    "re.findall(pattern=\"[].${-]\", string=\"[] . $100 a-b {}\", flags=re.IGNORECASE)"
   ]
  },
  {
   "cell_type": "markdown",
   "id": "2d719467",
   "metadata": {},
   "source": [
    "## Matching ```-``` and ```]```\n",
    "\n",
    "Place the range specifier ```-``` at the top or the end in the character class pattern e.g. ```[(-]```."
   ]
  },
  {
   "cell_type": "code",
   "execution_count": 37,
   "id": "66fab669",
   "metadata": {},
   "outputs": [
    {
     "data": {
      "text/plain": [
       "['-']"
      ]
     },
     "execution_count": 37,
     "metadata": {},
     "output_type": "execute_result"
    }
   ],
   "source": [
    "re.findall(pattern=\"[-&]\", string=\"a-b\", flags=re.IGNORECASE)"
   ]
  },
  {
   "cell_type": "code",
   "execution_count": 38,
   "id": "5738b174",
   "metadata": {},
   "outputs": [
    {
     "data": {
      "text/plain": [
       "['-']"
      ]
     },
     "execution_count": 38,
     "metadata": {},
     "output_type": "execute_result"
    }
   ],
   "source": [
    "re.findall(pattern=\"[(-]\", string=\"a-b\", flags=re.IGNORECASE)"
   ]
  },
  {
   "cell_type": "code",
   "execution_count": 39,
   "id": "60e0dff8",
   "metadata": {},
   "outputs": [
    {
     "data": {
      "text/plain": [
       "[']']"
      ]
     },
     "execution_count": 39,
     "metadata": {},
     "output_type": "execute_result"
    }
   ],
   "source": [
    "re.findall(pattern=\"[]]\", string=\"[a-b]\", flags=re.IGNORECASE)"
   ]
  },
  {
   "cell_type": "code",
   "execution_count": null,
   "id": "f10d45a8",
   "metadata": {},
   "outputs": [],
   "source": []
  }
 ],
 "metadata": {
  "kernelspec": {
   "display_name": "Python 3 (ipykernel)",
   "language": "python",
   "name": "python3"
  },
  "language_info": {
   "codemirror_mode": {
    "name": "ipython",
    "version": 3
   },
   "file_extension": ".py",
   "mimetype": "text/x-python",
   "name": "python",
   "nbconvert_exporter": "python",
   "pygments_lexer": "ipython3",
   "version": "3.9.13"
  }
 },
 "nbformat": 4,
 "nbformat_minor": 5
}
