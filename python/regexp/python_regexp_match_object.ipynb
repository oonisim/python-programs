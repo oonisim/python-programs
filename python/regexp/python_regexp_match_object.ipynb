{
 "cells": [
  {
   "cell_type": "code",
   "execution_count": 2,
   "id": "7f46a569",
   "metadata": {},
   "outputs": [
    {
     "data": {
      "text/html": [
       "<style>\n",
       "table {float:left}\n",
       "</style>\n"
      ],
      "text/plain": [
       "<IPython.core.display.HTML object>"
      ]
     },
     "metadata": {},
     "output_type": "display_data"
    }
   ],
   "source": [
    "%%html\n",
    "<style>\n",
    "table {float:left}\n",
    "</style>"
   ]
  },
  {
   "cell_type": "code",
   "execution_count": 3,
   "id": "f3bd684e",
   "metadata": {},
   "outputs": [],
   "source": [
    "import regex as re"
   ]
  },
  {
   "cell_type": "markdown",
   "id": "0ac73aef",
   "metadata": {},
   "source": [
    "# Match\n",
    "\n",
    "* [Match object](https://docs.python.org/3/library/re.html#match-objects)\n",
    "\n",
    "## Match.group(n)\n",
    "\n",
    "* ```match.group(0)```: entire match.\n",
    "* ```match.group(n)```: n-th captureing group only when using grouping with ```(pattern)```.\n",
    "\n",
    "## Match.start(n)\n",
    "\n",
    "* ```match.start(0)```: start of the entire match.\n",
    "* ```match.start(n)```: start of the n-th captureing group only when using grouping with ```(pattern)```.\n",
    "\n",
    "## Match.end(n)\n",
    "\n",
    "* ```match.end(0)```: end of the entire match.\n",
    "* ```match.end(n)```: end of the n-th captureing group only when using grouping with ```(pattern)```.\n",
    "\n",
    "Note: start/end  is python slice start/end, hence ```end``` is +1."
   ]
  },
  {
   "cell_type": "code",
   "execution_count": 31,
   "id": "048c2e0e",
   "metadata": {},
   "outputs": [
    {
     "data": {
      "text/plain": [
       "()"
      ]
     },
     "execution_count": 31,
     "metadata": {},
     "output_type": "execute_result"
    }
   ],
   "source": [
    "patern = r\"\\w+ \\w+\"\n",
    "text = \"Isaac Newton, physicist\"\n",
    "\n",
    "match = re.match(pattern=patern, string=text, flags=re.IGNORECASE)\n",
    "\n",
    "# No group(n>0) as there is no capturing group in the pattern.\n",
    "match.groups()"
   ]
  },
  {
   "cell_type": "code",
   "execution_count": 35,
   "id": "5ece8534",
   "metadata": {},
   "outputs": [
    {
     "name": "stdout",
     "output_type": "stream",
     "text": [
      "match: [Isaac Newton] start: 0 end: 12 matched string is [Isaac Newton]\n"
     ]
    }
   ],
   "source": [
    "# start/end of the entire match\n",
    "print(f\"match: [{match.group(0)}] start: {match.start(0)} end: {match.end(0)} \" \\\n",
    "      f\"matched string is [{text[match.start(0):match.end(0)]}]\")"
   ]
  },
  {
   "cell_type": "markdown",
   "id": "1ad82db9",
   "metadata": {},
   "source": [
    "## groups\n",
    "\n",
    "Capturing groups."
   ]
  },
  {
   "cell_type": "code",
   "execution_count": 21,
   "id": "6814a5ae",
   "metadata": {},
   "outputs": [
    {
     "data": {
      "text/plain": [
       "('Isaac', 'Newton')"
      ]
     },
     "execution_count": 21,
     "metadata": {},
     "output_type": "execute_result"
    }
   ],
   "source": [
    "match = re.match(r\"(\\w+) (\\w+)\", \"Isaac Newton, physicist\")\n",
    "match.groups()"
   ]
  },
  {
   "cell_type": "code",
   "execution_count": 24,
   "id": "656dd1a1",
   "metadata": {},
   "outputs": [
    {
     "name": "stdout",
     "output_type": "stream",
     "text": [
      "group: Isaac Newton         start: 0     end: 12   \n",
      "group: Isaac                start: 0     end: 12   \n"
     ]
    }
   ],
   "source": [
    "for index in range(len(match.groups())):\n",
    "    print(f\"group: {match.group(index):20} start: {match.start(index):<5} end: {match.end(index):<5}\")"
   ]
  },
  {
   "cell_type": "markdown",
   "id": "ed13665b",
   "metadata": {},
   "source": [
    "# Multiple Match objects"
   ]
  },
  {
   "cell_type": "code",
   "execution_count": 15,
   "id": "a04eacf0",
   "metadata": {},
   "outputs": [
    {
     "name": "stdout",
     "output_type": "stream",
     "text": [
      "match: ###                  start: 1     end: 4     pos: 18   \n",
      "match: <<                   start: 10    end: 12    pos: 18   \n",
      "match: >>                   start: 15    end: 17    pos: 18   \n"
     ]
    }
   ],
   "source": [
    "pattern = r'([[:punct:]])\\1+'\n",
    "text = \"(### 3333 <<abc>>)\"\n",
    "\n",
    "matches = re.finditer(\n",
    "    pattern=pattern, \n",
    "    string=text, \n",
    "    flags=re.IGNORECASE\n",
    ")\n",
    "if matches:\n",
    "    for match in matches:\n",
    "        print(f\"match: {match.group(0): <20} start: {match.start():<5} end: {match.end():<5} pos: {match.endpos:<5}\")"
   ]
  },
  {
   "cell_type": "code",
   "execution_count": null,
   "id": "f210de79",
   "metadata": {},
   "outputs": [],
   "source": []
  }
 ],
 "metadata": {
  "kernelspec": {
   "display_name": "Python 3 (ipykernel)",
   "language": "python",
   "name": "python3"
  },
  "language_info": {
   "codemirror_mode": {
    "name": "ipython",
    "version": 3
   },
   "file_extension": ".py",
   "mimetype": "text/x-python",
   "name": "python",
   "nbconvert_exporter": "python",
   "pygments_lexer": "ipython3",
   "version": "3.10.12"
  }
 },
 "nbformat": 4,
 "nbformat_minor": 5
}
