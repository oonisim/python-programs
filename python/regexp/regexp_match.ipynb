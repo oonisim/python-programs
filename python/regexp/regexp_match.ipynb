{
 "cells": [
  {
   "cell_type": "code",
   "execution_count": 1,
   "id": "74e5084b",
   "metadata": {},
   "outputs": [],
   "source": [
    "import re"
   ]
  },
  {
   "cell_type": "code",
   "execution_count": 3,
   "id": "f454f14d",
   "metadata": {},
   "outputs": [],
   "source": [
    "NAMESPACE_GAAP = \"us-gaap\""
   ]
  },
  {
   "cell_type": "code",
   "execution_count": 6,
   "id": "b3b6f131",
   "metadata": {},
   "outputs": [],
   "source": [
    "exp = re.compile(\n",
    "    \"|\".join([\n",
    "        rf\"^{NAMESPACE_GAAP}:OtherNonOperatingIncomeExpense$\",\n",
    "    ]), \n",
    "    re.IGNORECASE\n",
    ")"
   ]
  },
  {
   "cell_type": "code",
   "execution_count": 10,
   "id": "149a75c9",
   "metadata": {},
   "outputs": [
    {
     "data": {
      "text/plain": [
       "<re.Match object; span=(0, 38), match='us-gaap:OtherNonOperatingIncomeExpense'>"
      ]
     },
     "execution_count": 10,
     "metadata": {},
     "output_type": "execute_result"
    }
   ],
   "source": [
    "match = exp.match(\"us-gaap:OtherNonOperatingIncomeExpense\")\n",
    "match"
   ]
  },
  {
   "cell_type": "code",
   "execution_count": 11,
   "id": "51531f49",
   "metadata": {},
   "outputs": [
    {
     "data": {
      "text/plain": [
       "'us-gaap:OtherNonOperatingIncomeExpense'"
      ]
     },
     "execution_count": 11,
     "metadata": {},
     "output_type": "execute_result"
    }
   ],
   "source": [
    "match.group(0)"
   ]
  },
  {
   "cell_type": "code",
   "execution_count": null,
   "id": "545d8308",
   "metadata": {},
   "outputs": [],
   "source": []
  },
  {
   "cell_type": "code",
   "execution_count": 14,
   "id": "32b565d7",
   "metadata": {},
   "outputs": [
    {
     "data": {
      "text/plain": [
       "'us-gaap:otherNonOperatingIncomeExpense'"
      ]
     },
     "execution_count": 14,
     "metadata": {},
     "output_type": "execute_result"
    }
   ],
   "source": [
    "match = exp.match(\"us-gaap:otherNonOperatingIncomeExpense\")\n",
    "match.group(0)"
   ]
  },
  {
   "cell_type": "code",
   "execution_count": 15,
   "id": "626bd26a",
   "metadata": {},
   "outputs": [
    {
     "data": {
      "text/plain": [
       "'us-gaap:othernonoperatingincomeexpense'"
      ]
     },
     "execution_count": 15,
     "metadata": {},
     "output_type": "execute_result"
    }
   ],
   "source": [
    "match = exp.match(\"us-gaap:othernonoperatingincomeexpense\")\n",
    "match.group(0)"
   ]
  },
  {
   "cell_type": "code",
   "execution_count": null,
   "id": "f6b7bbbd",
   "metadata": {},
   "outputs": [],
   "source": []
  }
 ],
 "metadata": {
  "kernelspec": {
   "display_name": "Python 3 (ipykernel)",
   "language": "python",
   "name": "python3"
  },
  "language_info": {
   "codemirror_mode": {
    "name": "ipython",
    "version": 3
   },
   "file_extension": ".py",
   "mimetype": "text/x-python",
   "name": "python",
   "nbconvert_exporter": "python",
   "pygments_lexer": "ipython3",
   "version": "3.8.10"
  }
 },
 "nbformat": 4,
 "nbformat_minor": 5
}
