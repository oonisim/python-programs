{
 "cells": [
  {
   "cell_type": "code",
   "execution_count": 1,
   "id": "b3afc688",
   "metadata": {},
   "outputs": [
    {
     "data": {
      "text/html": [
       "<style>\n",
       "table {float:left}\n",
       "</style>\n"
      ],
      "text/plain": [
       "<IPython.core.display.HTML object>"
      ]
     },
     "metadata": {},
     "output_type": "display_data"
    }
   ],
   "source": [
    "%%html\n",
    "<style>\n",
    "table {float:left}\n",
    "</style>"
   ]
  },
  {
   "cell_type": "code",
   "execution_count": 2,
   "id": "b551f29c",
   "metadata": {},
   "outputs": [],
   "source": [
    "import regex as re"
   ]
  },
  {
   "cell_type": "markdown",
   "id": "eca4a6f4",
   "metadata": {},
   "source": [
    "# Repetition of the same pattern\n",
    "\n",
    "> If you want to **repeat the matched character**, rather than the class, you need to **use backreferences**. ```([0-9])\\1+``` matches 222 but not 837. When applied to the string 833337, it matches 3333 in the middle of this string.\n"
   ]
  },
  {
   "cell_type": "code",
   "execution_count": 9,
   "id": "f926ab85",
   "metadata": {},
   "outputs": [],
   "source": [
    "pattern = r'([[:punct:]])\\1+'\n",
    "text = \"(### 3333 <<abc>>)\""
   ]
  },
  {
   "cell_type": "code",
   "execution_count": 25,
   "id": "5c28c82f",
   "metadata": {},
   "outputs": [
    {
     "name": "stdout",
     "output_type": "stream",
     "text": [
      "match: ###                  start: 1     end: 4     pos: 18   \n",
      "match: <<                   start: 10    end: 12    pos: 18   \n",
      "match: >>                   start: 15    end: 17    pos: 18   \n"
     ]
    }
   ],
   "source": [
    "matches = re.finditer(\n",
    "    pattern=pattern, \n",
    "    string=text, \n",
    "    flags=re.IGNORECASE\n",
    ")\n",
    "if matches:\n",
    "    for match in matches:\n",
    "        print(f\"match: {match.group(0): <20} start: {match.start():<5} end: {match.end():<5} pos: {match.endpos:<5}\")"
   ]
  },
  {
   "cell_type": "code",
   "execution_count": null,
   "id": "8bee86c1",
   "metadata": {},
   "outputs": [],
   "source": []
  }
 ],
 "metadata": {
  "kernelspec": {
   "display_name": "Python 3 (ipykernel)",
   "language": "python",
   "name": "python3"
  },
  "language_info": {
   "codemirror_mode": {
    "name": "ipython",
    "version": 3
   },
   "file_extension": ".py",
   "mimetype": "text/x-python",
   "name": "python",
   "nbconvert_exporter": "python",
   "pygments_lexer": "ipython3",
   "version": "3.9.13"
  }
 },
 "nbformat": 4,
 "nbformat_minor": 5
}
