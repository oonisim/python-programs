{
 "cells": [
  {
   "cell_type": "code",
   "execution_count": 8,
   "id": "b3afc688",
   "metadata": {},
   "outputs": [
    {
     "data": {
      "text/html": [
       "<style>\n",
       "table {float:left}\n",
       "</style>\n"
      ],
      "text/plain": [
       "<IPython.core.display.HTML object>"
      ]
     },
     "metadata": {},
     "output_type": "display_data"
    }
   ],
   "source": [
    "%%html\n",
    "<style>\n",
    "table {float:left}\n",
    "</style>"
   ]
  },
  {
   "cell_type": "code",
   "execution_count": 9,
   "id": "b551f29c",
   "metadata": {},
   "outputs": [],
   "source": [
    "import regex as re"
   ]
  },
  {
   "cell_type": "markdown",
   "id": "eca4a6f4",
   "metadata": {},
   "source": [
    "# Repetition of the same pattern\n",
    "\n",
    "> If you want to **repeat the matched character**, rather than the class, you need to **use backreferences**. ```([0-9])\\1+``` matches 222 but not 837. When applied to the string 833337, it matches 3333 in the middle of this string.\n"
   ]
  },
  {
   "cell_type": "markdown",
   "id": "64b318cd",
   "metadata": {},
   "source": [
    "## String repeting the same character only"
   ]
  },
  {
   "cell_type": "code",
   "execution_count": 25,
   "id": "b4a81a5b",
   "metadata": {},
   "outputs": [
    {
     "name": "stdout",
     "output_type": "stream",
     "text": [
      "match: $$$$                 start: 21    end: 25    pos: 25    string: [$$$$]\n"
     ]
    }
   ],
   "source": [
    "pattern = r'(?<!\\S)([[:punct:]])(\\1)+(?!\\S)'\n",
    "text = \"(a### 3333 <<abc>>)  $$$$\"\n",
    "\n",
    "matches = re.finditer(\n",
    "    pattern=pattern, \n",
    "    string=text, \n",
    "    flags=re.IGNORECASE\n",
    ")\n",
    "if matches:\n",
    "    for m in matches:\n",
    "        print(f\"match: {m.group(0): <20} start: {m.start():<5} end: {m.end():<5} pos: {m.endpos:<5} string: [{text[m.start():m.end()]}]\")"
   ]
  },
  {
   "cell_type": "markdown",
   "id": "306ebebf",
   "metadata": {},
   "source": [
    "## String including the repetition of a character"
   ]
  },
  {
   "cell_type": "code",
   "execution_count": 26,
   "id": "f926ab85",
   "metadata": {},
   "outputs": [],
   "source": [
    "pattern = r'([[:punct:]])\\1+'\n",
    "text = \"(a### 3333 <<abc>>)  $$$$\""
   ]
  },
  {
   "cell_type": "code",
   "execution_count": 27,
   "id": "5c28c82f",
   "metadata": {},
   "outputs": [
    {
     "name": "stdout",
     "output_type": "stream",
     "text": [
      "match: ###                  start: 2     end: 5     pos: 25   \n",
      "match: <<                   start: 11    end: 13    pos: 25   \n",
      "match: >>                   start: 16    end: 18    pos: 25   \n",
      "match: $$$$                 start: 21    end: 25    pos: 25   \n"
     ]
    }
   ],
   "source": [
    "matches = re.finditer(\n",
    "    pattern=pattern, \n",
    "    string=text, \n",
    "    flags=re.IGNORECASE\n",
    ")\n",
    "if matches:\n",
    "    for match in matches:\n",
    "        print(f\"match: {match.group(0): <20} start: {match.start():<5} end: {match.end():<5} pos: {match.endpos:<5}\")"
   ]
  },
  {
   "cell_type": "code",
   "execution_count": null,
   "id": "18c0d603",
   "metadata": {},
   "outputs": [],
   "source": []
  },
  {
   "cell_type": "code",
   "execution_count": null,
   "id": "d85db46e",
   "metadata": {},
   "outputs": [],
   "source": []
  }
 ],
 "metadata": {
  "kernelspec": {
   "display_name": "Python 3 (ipykernel)",
   "language": "python",
   "name": "python3"
  },
  "language_info": {
   "codemirror_mode": {
    "name": "ipython",
    "version": 3
   },
   "file_extension": ".py",
   "mimetype": "text/x-python",
   "name": "python",
   "nbconvert_exporter": "python",
   "pygments_lexer": "ipython3",
   "version": "3.9.13"
  }
 },
 "nbformat": 4,
 "nbformat_minor": 5
}
