{
 "cells": [
  {
   "cell_type": "code",
   "execution_count": 1,
   "id": "b0dc3a5a",
   "metadata": {},
   "outputs": [
    {
     "data": {
      "text/html": [
       "<style>\n",
       "table {float:left}\n",
       "</style>\n"
      ],
      "text/plain": [
       "<IPython.core.display.HTML object>"
      ]
     },
     "metadata": {},
     "output_type": "display_data"
    }
   ],
   "source": [
    "%%html\n",
    "<style>\n",
    "table {float:left}\n",
    "</style>"
   ]
  },
  {
   "cell_type": "code",
   "execution_count": 4,
   "id": "0cfc65a5",
   "metadata": {},
   "outputs": [],
   "source": [
    "import regex as re"
   ]
  },
  {
   "cell_type": "code",
   "execution_count": 7,
   "id": "12931a41",
   "metadata": {},
   "outputs": [],
   "source": [
    "text = \"\"\"\n",
    "When longtime friends Lynnette Griffiths and Marion Gaemers stroll along the beaches of Far North Queensland, \n",
    "they see beauty in the least expected places.\n",
    "\n",
    "For more than #30 years, (the artists have scoured shores far and wide), turning discarded ghost nets and \n",
    "marine debris into spectacular works of art while educating others.\n",
    "\"\"\""
   ]
  },
  {
   "cell_type": "code",
   "execution_count": null,
   "id": "49a65abc",
   "metadata": {},
   "outputs": [],
   "source": []
  },
  {
   "cell_type": "code",
   "execution_count": 17,
   "id": "ab09e811",
   "metadata": {},
   "outputs": [
    {
     "data": {
      "text/plain": [
       "['When',\n",
       " 'longtime',\n",
       " 'friends',\n",
       " 'Lynnette',\n",
       " 'Griffiths',\n",
       " 'and',\n",
       " 'Marion',\n",
       " 'Gaemers',\n",
       " 'stroll',\n",
       " 'along',\n",
       " 'the',\n",
       " 'beaches',\n",
       " 'of',\n",
       " 'Far',\n",
       " 'North',\n",
       " 'Queensland',\n",
       " 'they',\n",
       " 'see',\n",
       " 'beauty',\n",
       " 'in',\n",
       " 'the',\n",
       " 'least',\n",
       " 'expected',\n",
       " 'places',\n",
       " 'For',\n",
       " 'more',\n",
       " 'than',\n",
       " '30',\n",
       " 'years',\n",
       " '(the',\n",
       " 'artists',\n",
       " 'have',\n",
       " 'scoured',\n",
       " 'shores',\n",
       " 'far',\n",
       " 'and',\n",
       " 'wide)',\n",
       " 'turning',\n",
       " 'discarded',\n",
       " 'ghost',\n",
       " 'nets',\n",
       " 'and',\n",
       " 'marine',\n",
       " 'debris',\n",
       " 'into',\n",
       " 'spectacular',\n",
       " 'works',\n",
       " 'of',\n",
       " 'art',\n",
       " 'while',\n",
       " 'educating',\n",
       " 'others']"
      ]
     },
     "execution_count": 17,
     "metadata": {},
     "output_type": "execute_result"
    }
   ],
   "source": [
    "re.findall(\n",
    "    pattern=\"\\(?[\\w\\d]+\\)?\", \n",
    "    string=text, \n",
    "    flags=re.IGNORECASE\n",
    ")"
   ]
  },
  {
   "cell_type": "code",
   "execution_count": null,
   "id": "483ca3ab",
   "metadata": {},
   "outputs": [],
   "source": []
  },
  {
   "cell_type": "code",
   "execution_count": 41,
   "id": "6098e41b",
   "metadata": {},
   "outputs": [],
   "source": [
    "pattern = r'([^\\w\\s])\\1+'\n",
    "#pattern = r'(?>(\\p{P})\\1+)'"
   ]
  },
  {
   "cell_type": "code",
   "execution_count": 42,
   "id": "15ea5672",
   "metadata": {},
   "outputs": [
    {
     "data": {
      "text/plain": [
       "['$', '%']"
      ]
     },
     "execution_count": 42,
     "metadata": {},
     "output_type": "execute_result"
    }
   ],
   "source": [
    "re.findall(\n",
    "    pattern=pattern,\n",
    "    string=\"$$ %%%^&*()\", \n",
    "    flags=re.IGNORECASE\n",
    ")"
   ]
  },
  {
   "cell_type": "code",
   "execution_count": null,
   "id": "39d14b28",
   "metadata": {},
   "outputs": [],
   "source": []
  }
 ],
 "metadata": {
  "kernelspec": {
   "display_name": "Python 3 (ipykernel)",
   "language": "python",
   "name": "python3"
  },
  "language_info": {
   "codemirror_mode": {
    "name": "ipython",
    "version": 3
   },
   "file_extension": ".py",
   "mimetype": "text/x-python",
   "name": "python",
   "nbconvert_exporter": "python",
   "pygments_lexer": "ipython3",
   "version": "3.9.13"
  }
 },
 "nbformat": 4,
 "nbformat_minor": 5
}
