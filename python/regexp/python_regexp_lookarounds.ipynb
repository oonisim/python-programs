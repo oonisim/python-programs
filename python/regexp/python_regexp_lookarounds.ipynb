{
 "cells": [
  {
   "cell_type": "code",
   "execution_count": 14,
   "id": "noble-checklist",
   "metadata": {},
   "outputs": [],
   "source": [
    "# Python standard re module cannot handle lookbehind as expected e.g.\n",
    "# \"look-behind requires fixed-width pattern\" Error\n",
    "import regex as re\n",
    "import string"
   ]
  },
  {
   "cell_type": "markdown",
   "id": "faced-cardiff",
   "metadata": {},
   "source": [
    "# Regular expression lookaround\n",
    "\n",
    "* [Lookahead and Lookbehind](https://www.regular-expressions.info/lookaround.html) (MUST)\n",
    "\n",
    "* [Mastering Lookahead and Lookbehind](https://www.rexegg.com/regex-lookarounds.html)\n",
    "\n",
    "> (?<!foo)\t<br>Negative Lookbehind\tasserts that what immediately precedes the current position in the string is not foo\n",
    "\n",
    "* [5.4. Find All Except a Specific Word](https://www.oreilly.com/library/view/regular-expressions-cookbook/9781449327453/ch05s04.html)\n",
    "\n",
    "> match any complete word except cat. e.g. Catwoman, vindicate should match\n",
    "```\\b(?!cat\\b)\\w+```"
   ]
  },
  {
   "cell_type": "markdown",
   "id": "802410f3",
   "metadata": {},
   "source": [
    "# Positive Lookahead\n",
    "Extract Target followed by Pattern ```target(?=pattern)```."
   ]
  },
  {
   "cell_type": "code",
   "execution_count": 8,
   "id": "19f6852f",
   "metadata": {},
   "outputs": [
    {
     "data": {
      "text/plain": [
       "'Class'"
      ]
     },
     "execution_count": 8,
     "metadata": {},
     "output_type": "execute_result"
    }
   ],
   "source": [
    "# Extract \"Class\" followed by a digit and capital letter\n",
    "match = re.search(\n",
    "    pattern=\"Class(?=\\d[A-Z])\", \n",
    "    string=\"Statistics Class3A in the 3rd grace.\", \n",
    "    flags=re.IGNORECASE\n",
    ")\n",
    "match.group(0)"
   ]
  },
  {
   "cell_type": "markdown",
   "id": "dabc7888",
   "metadata": {},
   "source": [
    "# Positive Lookback\n",
    "\n",
    "Extract Target preceeded by Pattern ```(?<=pattern)target```."
   ]
  },
  {
   "cell_type": "code",
   "execution_count": 13,
   "id": "92a29cbd",
   "metadata": {},
   "outputs": [
    {
     "data": {
      "text/plain": [
       "'Class'"
      ]
     },
     "execution_count": 13,
     "metadata": {},
     "output_type": "execute_result"
    }
   ],
   "source": [
    "# Extract \"Class\" preceeded by Statistics or Mathematics\n",
    "match = re.search(\n",
    "    pattern=\"(?<=(Business|Statistics) )Class\", \n",
    "    string=\"Statistics Class3A in the 3rd grace.\", \n",
    "    flags=re.IGNORECASE)\n",
    "match.group(0)"
   ]
  }
 ],
 "metadata": {
  "kernelspec": {
   "display_name": "Python 3 (ipykernel)",
   "language": "python",
   "name": "python3"
  },
  "language_info": {
   "codemirror_mode": {
    "name": "ipython",
    "version": 3
   },
   "file_extension": ".py",
   "mimetype": "text/x-python",
   "name": "python",
   "nbconvert_exporter": "python",
   "pygments_lexer": "ipython3",
   "version": "3.10.12"
  }
 },
 "nbformat": 4,
 "nbformat_minor": 5
}
