{
 "cells": [
  {
   "cell_type": "code",
   "execution_count": 1,
   "id": "noble-checklist",
   "metadata": {},
   "outputs": [],
   "source": [
    "import re\n",
    "import string"
   ]
  },
  {
   "cell_type": "markdown",
   "id": "faced-cardiff",
   "metadata": {},
   "source": [
    "# Regular expression lookaround\n",
    "\n",
    "* [Mastering Lookahead and Lookbehind](https://www.rexegg.com/regex-lookarounds.html)\n",
    "\n",
    "> (?<!foo)\t<br>Negative Lookbehind\tasserts that what immediately precedes the current position in the string is not foo\n",
    "\n",
    "* [5.4. Find All Except a Specific Word](https://www.oreilly.com/library/view/regular-expressions-cookbook/9781449327453/ch05s04.html)\n",
    "\n",
    "> match any complete word except cat. e.g. Catwoman, vindicate should match\n",
    "```\\b(?!cat\\b)\\w+```"
   ]
  },
  {
   "cell_type": "markdown",
   "id": "handy-return",
   "metadata": {},
   "source": [
    "## word boundary ```\\b```\n",
    "\n",
    "* [Word Boundaries](https://www.regular-expressions.info/wordboundaries.html)\n",
    "\n",
    "> The metacharacter \\b is an anchor like the caret and the dollar sign. It matches at a position that is called a “word boundary”. This match is zero-length."
   ]
  },
  {
   "cell_type": "code",
   "execution_count": 52,
   "id": "threaded-skating",
   "metadata": {},
   "outputs": [
    {
     "data": {
      "text/plain": [
       "'!\"#$%&\\'()*+,-./:;<=>?@[\\\\]^_`{|}~'"
      ]
     },
     "execution_count": 52,
     "metadata": {},
     "output_type": "execute_result"
    }
   ],
   "source": [
    "string.punctuation"
   ]
  },
  {
   "cell_type": "code",
   "execution_count": 77,
   "id": "cheap-sharing",
   "metadata": {},
   "outputs": [
    {
     "data": {
      "text/plain": [
       "'the asbestos fiber <unk> unk| is unusually unk once it enters the <unk> with'"
      ]
     },
     "execution_count": 77,
     "metadata": {},
     "output_type": "execute_result"
    }
   ],
   "source": [
    "text = \"the asbestos fiber <unk> <unk| is < unusually <unk once it enters the <<unk>$% with \"\n",
    "\n",
    "replacement = \" \"\n",
    "pattern: str = '(?<!<unk)[%s%s]+(?!unk>)' % (re.escape(string.punctuation), r\"\\s\")\n",
    "\n",
    "re.sub(pattern=pattern, repl=replacement, string=text, flags=re.IGNORECASE).lower().strip()"
   ]
  }
 ],
 "metadata": {
  "kernelspec": {
   "display_name": "Python 3",
   "language": "python",
   "name": "python3"
  },
  "language_info": {
   "codemirror_mode": {
    "name": "ipython",
    "version": 3
   },
   "file_extension": ".py",
   "mimetype": "text/x-python",
   "name": "python",
   "nbconvert_exporter": "python",
   "pygments_lexer": "ipython3",
   "version": "3.8.8"
  }
 },
 "nbformat": 4,
 "nbformat_minor": 5
}
