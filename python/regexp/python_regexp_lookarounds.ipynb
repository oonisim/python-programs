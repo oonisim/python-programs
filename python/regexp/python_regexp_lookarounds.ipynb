{
 "cells": [
  {
   "cell_type": "code",
   "execution_count": 1,
   "id": "noble-checklist",
   "metadata": {},
   "outputs": [],
   "source": [
    "import re\n",
    "import string"
   ]
  },
  {
   "cell_type": "markdown",
   "id": "faced-cardiff",
   "metadata": {},
   "source": [
    "# Regular expression lookaround\n",
    "\n",
    "* [Mastering Lookahead and Lookbehind](https://www.rexegg.com/regex-lookarounds.html)\n",
    "\n",
    "> (?<!foo)\t<br>Negative Lookbehind\tasserts that what immediately precedes the current position in the string is not foo\n",
    "\n",
    "* [5.4. Find All Except a Specific Word](https://www.oreilly.com/library/view/regular-expressions-cookbook/9781449327453/ch05s04.html)\n",
    "\n",
    "> match any complete word except cat. e.g. Catwoman, vindicate should match\n",
    "```\\b(?!cat\\b)\\w+```"
   ]
  },
  {
   "cell_type": "markdown",
   "id": "handy-return",
   "metadata": {},
   "source": [
    "## word boundary ```\\b```\n",
    "\n",
    "* [Word Boundaries](https://www.regular-expressions.info/wordboundaries.html)\n",
    "\n",
    "> The metacharacter \\b is an anchor like the caret and the dollar sign. It matches at a position that is called a “word boundary”. This match is zero-length."
   ]
  },
  {
   "cell_type": "code",
   "execution_count": 2,
   "id": "threaded-skating",
   "metadata": {},
   "outputs": [
    {
     "data": {
      "text/plain": [
       "'!\"#$%&\\'()*+,-./:;<=>?@[\\\\]^_`{|}~'"
      ]
     },
     "execution_count": 2,
     "metadata": {},
     "output_type": "execute_result"
    }
   ],
   "source": [
    "string.punctuation"
   ]
  },
  {
   "cell_type": "code",
   "execution_count": 18,
   "id": "threaded-closing",
   "metadata": {},
   "outputs": [],
   "source": [
    "DELIMITER = \" \"\n",
    "UNK = \"<unk>\"\n",
    "NIL = \"<nil>\"  # Lower letter as lower() will be applied.\n",
    "STRIDE = 2\n",
    "CONTEXT_WINDOW_SIZE = 1 + (STRIDE * 2)\n",
    "SPACE = ' '\n"
   ]
  },
  {
   "cell_type": "code",
   "execution_count": 22,
   "id": "cheap-sharing",
   "metadata": {},
   "outputs": [
    {
     "data": {
      "text/plain": [
       "'the asbestos fiber nil <unk> unk| is unusually unk once it enters the <unk> with'"
      ]
     },
     "execution_count": 22,
     "metadata": {},
     "output_type": "execute_result"
    }
   ],
   "source": [
    "text = f\"the asbestos fiber {NIL} <unk> <unk| is < unusually <unk once it enters the <<unk>$% with \"\n",
    "\n",
    "replacement = \" \"\n",
    "pattern: str = '(?<!<unk)[%s%s]+(?!unk>)' % (re.escape(string.punctuation), r\"\\s\")\n",
    "\n",
    "re.sub(pattern=pattern, repl=replacement, string=text, flags=re.IGNORECASE).lower().strip()"
   ]
  },
  {
   "cell_type": "markdown",
   "id": "human-valentine",
   "metadata": {},
   "source": [
    "* [Python regexp - remove punctuation but leave <unk> as is](https://stackoverflow.com/a/67165082/4281353)\n",
    "\n",
    "```\n",
    "(?: - start of a non-capturing group:\n",
    "(?!<unk>) - the nex char should not be a starting char of a <unk> char sequence\n",
    "[\\W_] - any non-alphanumeric char\n",
    "(?<!<unk>) - the previously matched char (with [\\W_]) cannot be a starting char of an <unk> char sequence\n",
    ")+ - one or more times.\n",
    "```\n",
    "\n",
    "* [Multiple Regex Matches Using Negative Lookbehind](https://stackoverflow.com/a/35580141/4281353)"
   ]
  },
  {
   "cell_type": "code",
   "execution_count": 24,
   "id": "knowing-effect",
   "metadata": {},
   "outputs": [
    {
     "data": {
      "text/plain": [
       "'the asbestos fiber <nil> <unk> unk is unusually unk once it enters the <unk> with'"
      ]
     },
     "execution_count": 24,
     "metadata": {},
     "output_type": "execute_result"
    }
   ],
   "source": [
    "pattern: str = rf'(?:(?!{UNK.lower()})(?!{NIL.lower()})[\\W_](?<!{UNK.lower()})(?<!{NIL.lower()}))+'\n",
    "replacement = \" \"\n",
    "standardized: str = re.sub(\n",
    "            pattern=pattern,\n",
    "            repl=replacement,\n",
    "            string=text,\n",
    "            flags=re.IGNORECASE\n",
    "        ).lower().strip()\n",
    "standardized"
   ]
  }
 ],
 "metadata": {
  "kernelspec": {
   "display_name": "Python 3",
   "language": "python",
   "name": "python3"
  },
  "language_info": {
   "codemirror_mode": {
    "name": "ipython",
    "version": 3
   },
   "file_extension": ".py",
   "mimetype": "text/x-python",
   "name": "python",
   "nbconvert_exporter": "python",
   "pygments_lexer": "ipython3",
   "version": "3.8.8"
  }
 },
 "nbformat": 4,
 "nbformat_minor": 5
}
