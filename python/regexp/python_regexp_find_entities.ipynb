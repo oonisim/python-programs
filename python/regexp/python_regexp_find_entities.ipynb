{
 "cells": [
  {
   "cell_type": "code",
   "execution_count": 2,
   "id": "3304874d",
   "metadata": {},
   "outputs": [
    {
     "data": {
      "text/html": [
       "<style>\n",
       "table {float:left}\n",
       "</style>\n"
      ],
      "text/plain": [
       "<IPython.core.display.HTML object>"
      ]
     },
     "metadata": {},
     "output_type": "display_data"
    }
   ],
   "source": [
    "%%html\n",
    "<style>\n",
    "table {float:left}\n",
    "</style>"
   ]
  },
  {
   "cell_type": "code",
   "execution_count": 3,
   "id": "bb81df12",
   "metadata": {},
   "outputs": [],
   "source": [
    "import regex as re"
   ]
  },
  {
   "cell_type": "markdown",
   "id": "3c08e6b9",
   "metadata": {},
   "source": [
    "# Word boundary definition"
   ]
  },
  {
   "cell_type": "markdown",
   "id": "26c1ba4c",
   "metadata": {},
   "source": [
    "# Regexp to find entities (e.g. email, phone number, URL)"
   ]
  },
  {
   "cell_type": "markdown",
   "id": "7830ffb2",
   "metadata": {},
   "source": [
    "# Email\n",
    "\n",
    "* [How to Find or Validate an Email Address](https://www.regular-expressions.info/email.html)"
   ]
  },
  {
   "cell_type": "code",
   "execution_count": 60,
   "id": "07c90d27",
   "metadata": {},
   "outputs": [
    {
     "name": "stdout",
     "output_type": "stream",
     "text": [
      "match: balack.obaham@gmail.com start: 0     end: 23    pos: 23   \n"
     ]
    }
   ],
   "source": [
    "email_name = \"[a-z0-9!#$%&'*+\\/=?^_`{|}~-]+(?:\\.[a-z0-9!#$%&'*+\\/=?^_`{|}~-]+)*\"\n",
    "email_domain = \"@(?:[a-z0-9](?:[a-z0-9-]*[a-z0-9])?\\.)+[a-z0-9](?:[a-z0-9-]*[a-z0-9])?\"\n",
    "emai_address_pattern = rf\"\\A{email_name}{email_domain}\\Z\"\n",
    "pattern = emai_address_pattern\n",
    "text = \" balack.obaham@gmail.com \"\n",
    "\n",
    "matches = re.finditer(\n",
    "    pattern=pattern, \n",
    "    string=text.strip(), \n",
    "    flags=re.IGNORECASE\n",
    ")\n",
    "if matches:\n",
    "    for match in matches:\n",
    "        print(f\"match: {match.group(0): <20} start: {match.start():<5} end: {match.end():<5} pos: {match.endpos:<5}\")"
   ]
  },
  {
   "cell_type": "markdown",
   "id": "975a56c1",
   "metadata": {},
   "source": [
    "# Credit Card\n",
    "\n",
    "```\n",
    "(?:4[0-9]{12}(?:[0-9]{3})?          # Visa\n",
    "|  (?:5[1-5][0-9]{2}                # MasterCard\n",
    "| 222[1-9]|22[3-9][0-9]|2[3-6][0-9]{2}|27[01][0-9]|2720)[0-9]{12}\n",
    "|  3[47][0-9]{13}                   # American Express\n",
    "|  3(?:0[0-5]|[68][0-9])[0-9]{11}   # Diners Club\n",
    "|  6(?:011|5[0-9]{2})[0-9]{12}      # Discover\n",
    "|  (?:2131|1800|35\\d{3})\\d{11}      # JCB\n",
    ")\n",
    "```"
   ]
  }
 ],
 "metadata": {
  "kernelspec": {
   "display_name": "Python 3 (ipykernel)",
   "language": "python",
   "name": "python3"
  },
  "language_info": {
   "codemirror_mode": {
    "name": "ipython",
    "version": 3
   },
   "file_extension": ".py",
   "mimetype": "text/x-python",
   "name": "python",
   "nbconvert_exporter": "python",
   "pygments_lexer": "ipython3",
   "version": "3.9.13"
  }
 },
 "nbformat": 4,
 "nbformat_minor": 5
}
