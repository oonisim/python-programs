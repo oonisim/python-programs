{
 "cells": [
  {
   "cell_type": "code",
   "execution_count": 10,
   "id": "eb714657",
   "metadata": {},
   "outputs": [
    {
     "data": {
      "text/html": [
       "<style>\n",
       "table {float:left}\n",
       "</style>\n"
      ],
      "text/plain": [
       "<IPython.core.display.HTML object>"
      ]
     },
     "metadata": {},
     "output_type": "display_data"
    }
   ],
   "source": [
    "%%html\n",
    "<style>\n",
    "table {float:left}\n",
    "</style>"
   ]
  },
  {
   "cell_type": "code",
   "execution_count": 11,
   "id": "466967fd",
   "metadata": {},
   "outputs": [],
   "source": [
    "import regex as re"
   ]
  },
  {
   "cell_type": "markdown",
   "id": "532429f2",
   "metadata": {},
   "source": [
    "# Match digit only word\n",
    "\n",
    "Find a string which consists of digits only.\n",
    "\n",
    "* [How to exactly match a word with one regexp?](https://stackoverflow.com/questions/77252705/how-to-exactly-match-a-word-with-one-regexp?noredirect=1#comment136191978_77252705)"
   ]
  },
  {
   "cell_type": "code",
   "execution_count": 27,
   "id": "c6c45a65",
   "metadata": {},
   "outputs": [
    {
     "data": {
      "text/plain": [
       "['111', '222', '777']"
      ]
     },
     "execution_count": 27,
     "metadata": {},
     "output_type": "execute_result"
    }
   ],
   "source": [
    "pattern = '(?<!\\S)\\d+(?!\\S)'\n",
    "text = \"111 222 &333 444b 555) \\n(666) \\n777 \"\n",
    "\n",
    "re.findall(pattern=pattern, string=text, flags=re.IGNORECASE|re.ASCII)"
   ]
  },
  {
   "cell_type": "markdown",
   "id": "acd27453",
   "metadata": {},
   "source": [
    "Alternativelly use positive lookaround ```(?<=\\s|^)``` to match the beginning/end of the string or space word delimiters."
   ]
  },
  {
   "cell_type": "code",
   "execution_count": 33,
   "id": "76578a57",
   "metadata": {},
   "outputs": [
    {
     "data": {
      "text/plain": [
       "['111', '222', '777']"
      ]
     },
     "execution_count": 33,
     "metadata": {},
     "output_type": "execute_result"
    }
   ],
   "source": [
    "pattern = '(?<=\\s|^)\\d+(?=\\s|$)'\n",
    "text = \"111 222 &333 444b 555) \\n(666) \\n777 \"\n",
    "\n",
    "re.findall(pattern=pattern, string=text, flags=re.IGNORECASE|re.ASCII)"
   ]
  },
  {
   "cell_type": "markdown",
   "id": "4bed8dbd",
   "metadata": {},
   "source": [
    "Alternatively check word by word."
   ]
  },
  {
   "cell_type": "code",
   "execution_count": 12,
   "id": "09556432",
   "metadata": {},
   "outputs": [
    {
     "name": "stdout",
     "output_type": "stream",
     "text": [
      "<regex.Match object; span=(0, 3), match='111'>\n",
      "<regex.Match object; span=(0, 3), match='222'>\n",
      "None\n",
      "None\n",
      "None\n",
      "None\n"
     ]
    }
   ],
   "source": [
    "pattern = '^\\d+$'\n",
    "text = \" 111 222 &333 444b 555) \\n(666)\"\n",
    "\n",
    "for s in text.split():\n",
    "    print(re.match(pattern=pattern, string=s.strip(), flags=re.IGNORECASE|re.ASCII))"
   ]
  },
  {
   "cell_type": "markdown",
   "id": "299c8900",
   "metadata": {},
   "source": [
    "Alternative way is to find the string which includes digits and non-digits using lookaround and exclude them."
   ]
  },
  {
   "cell_type": "code",
   "execution_count": 17,
   "id": "02af3ec4",
   "metadata": {},
   "outputs": [
    {
     "name": "stdout",
     "output_type": "stream",
     "text": [
      "match: 333 start: 9 end: 12\n",
      "match: 444 start: 13 end: 16\n",
      "match: 555 start: 18 end: 21\n",
      "match: 666 start: 24 end: 27\n"
     ]
    }
   ],
   "source": [
    "pattern = rf'(?<=[[:punct:][:alpha:]])\\d+|\\d+(?=[[:punct:][:alpha:]])'\n",
    "text = \"111 222 &333 444b 555) (666) 777\"\n",
    "\n",
    "matches = re.finditer(\n",
    "    pattern=pattern, \n",
    "    string=text, \n",
    "    flags=re.IGNORECASE\n",
    ")\n",
    "for m in matches:\n",
    "    print(f\"match: {m.group(0)} start: {m.start(0)} end: {m.end(0)}\")"
   ]
  },
  {
   "cell_type": "markdown",
   "id": "de697417",
   "metadata": {},
   "source": [
    "## Does NOT work"
   ]
  },
  {
   "cell_type": "markdown",
   "id": "b42180bb",
   "metadata": {},
   "source": [
    "\n",
    "You can **NOT** use ```\\b\\d+\\d``` as the word boundary ```\\b``` matches with ```\\W``` characters."
   ]
  },
  {
   "cell_type": "code",
   "execution_count": 161,
   "id": "2511bf84",
   "metadata": {},
   "outputs": [
    {
     "name": "stdout",
     "output_type": "stream",
     "text": [
      "<regex.Match object; span=(0, 3), match='111'>\n",
      "<regex.Match object; span=(0, 3), match='222'>\n",
      "None\n",
      "None\n",
      "<regex.Match object; span=(0, 3), match='555'>\n",
      "None\n"
     ]
    }
   ],
   "source": [
    "pattern = r'\\b\\d+\\b'\n",
    "text = \" 111 222 &333 444b 555) \\n(666)\"\n",
    "\n",
    "for s in text.split():\n",
    "    print(re.match(pattern=pattern, string=s.strip(), flags=re.IGNORECASE|re.ASCII))"
   ]
  },
  {
   "cell_type": "markdown",
   "id": "c6226630",
   "metadata": {},
   "source": [
    "# Match exact word"
   ]
  },
  {
   "cell_type": "code",
   "execution_count": 32,
   "id": "a6c464fb",
   "metadata": {},
   "outputs": [
    {
     "data": {
      "text/plain": [
       "['cool', 'cool']"
      ]
     },
     "execution_count": 32,
     "metadata": {},
     "output_type": "execute_result"
    }
   ],
   "source": [
    "re.findall(\n",
    "    pattern=r'(?<!\\S)cool(?!\\S)', \n",
    "    string=\" #cool cool& cool cool\\n (cool)\", \n",
    "    flags=re.IGNORECASE|re.ASCII\n",
    ")"
   ]
  },
  {
   "cell_type": "code",
   "execution_count": 34,
   "id": "477f3fe4",
   "metadata": {},
   "outputs": [
    {
     "data": {
      "text/plain": [
       "['cool', 'cool']"
      ]
     },
     "execution_count": 34,
     "metadata": {},
     "output_type": "execute_result"
    }
   ],
   "source": [
    "re.findall(\n",
    "    pattern=r'(?<=\\s|^)cool(?=\\s|$)', \n",
    "    string=\" #cool cool& cool cool\\n (cool)\", \n",
    "    flags=re.IGNORECASE|re.ASCII\n",
    ")"
   ]
  },
  {
   "cell_type": "code",
   "execution_count": null,
   "id": "324119a1",
   "metadata": {},
   "outputs": [],
   "source": []
  }
 ],
 "metadata": {
  "kernelspec": {
   "display_name": "Python 3 (ipykernel)",
   "language": "python",
   "name": "python3"
  },
  "language_info": {
   "codemirror_mode": {
    "name": "ipython",
    "version": 3
   },
   "file_extension": ".py",
   "mimetype": "text/x-python",
   "name": "python",
   "nbconvert_exporter": "python",
   "pygments_lexer": "ipython3",
   "version": "3.9.13"
  }
 },
 "nbformat": 4,
 "nbformat_minor": 5
}
