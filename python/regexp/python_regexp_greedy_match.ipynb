{
 "cells": [
  {
   "cell_type": "code",
   "execution_count": 5,
   "id": "e9d07326",
   "metadata": {},
   "outputs": [
    {
     "data": {
      "text/html": [
       "<style>\n",
       "table {float:left}\n",
       "</style>\n",
       "\n",
       "import regex as re\n"
      ],
      "text/plain": [
       "<IPython.core.display.HTML object>"
      ]
     },
     "metadata": {},
     "output_type": "display_data"
    }
   ],
   "source": [
    "%%html\n",
    "<style>\n",
    "table {float:left}\n",
    "</style>"
   ]
  },
  {
   "cell_type": "code",
   "execution_count": 7,
   "id": "502cc232",
   "metadata": {},
   "outputs": [],
   "source": [
    "import regex as re"
   ]
  },
  {
   "cell_type": "markdown",
   "id": "17afacc8",
   "metadata": {},
   "source": [
    "# Greeedt Match\n",
    "\n",
    "> ```*?```, ```+?```, ```??```  \n",
    "> \n",
    "> The ```*```, ```+```, and ```?``` quantifiers are all greedy; as they match **as much text as possible**. If the RE ```<.*>``` is matched against ```<a> b <c>```, it will match the entire string, and not just ```<a>```.  \n",
    ">\n",
    "> Adding ```?``` after the quantifier makes it perform the match in non-greedy or minimal fashion; as few characters as possible will be matched. Using the RE ```<.*?>``` will match only ```<a>```|."
   ]
  },
  {
   "cell_type": "code",
   "execution_count": 10,
   "id": "bd6fda4a",
   "metadata": {},
   "outputs": [
    {
     "data": {
      "text/plain": [
       "['100']"
      ]
     },
     "execution_count": 10,
     "metadata": {},
     "output_type": "execute_result"
    }
   ],
   "source": [
    "re.findall(\n",
    "    pattern=\"\\d+\", \n",
    "    string=\"$100 &amp\\n\", \n",
    "    flags=re.IGNORECASE\n",
    ")"
   ]
  },
  {
   "cell_type": "code",
   "execution_count": 11,
   "id": "963667f5",
   "metadata": {},
   "outputs": [
    {
     "data": {
      "text/plain": [
       "['1', '0', '0']"
      ]
     },
     "execution_count": 11,
     "metadata": {},
     "output_type": "execute_result"
    }
   ],
   "source": [
    "re.findall(\n",
    "    pattern=\"\\d+?\", \n",
    "    string=\"$100 &amp\\n\", \n",
    "    flags=re.IGNORECASE\n",
    ")"
   ]
  },
  {
   "cell_type": "code",
   "execution_count": null,
   "id": "1200ff39",
   "metadata": {},
   "outputs": [],
   "source": []
  }
 ],
 "metadata": {
  "kernelspec": {
   "display_name": "Python 3 (ipykernel)",
   "language": "python",
   "name": "python3"
  },
  "language_info": {
   "codemirror_mode": {
    "name": "ipython",
    "version": 3
   },
   "file_extension": ".py",
   "mimetype": "text/x-python",
   "name": "python",
   "nbconvert_exporter": "python",
   "pygments_lexer": "ipython3",
   "version": "3.9.13"
  }
 },
 "nbformat": 4,
 "nbformat_minor": 5
}
