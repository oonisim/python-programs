{
 "cells": [
  {
   "cell_type": "markdown",
   "metadata": {},
   "source": [
    "# Resources\n",
    "\n",
    "* https://regex101.com/"
   ]
  },
  {
   "cell_type": "code",
   "execution_count": 1,
   "metadata": {},
   "outputs": [
    {
     "name": "stdout",
     "output_type": "stream",
     "text": [
      "3.8.10 | packaged by conda-forge | (default, May 11 2021, 07:01:05) \n",
      "[GCC 9.3.0]\n"
     ]
    }
   ],
   "source": [
    "from typing import (\n",
    "    List,\n",
    "    Dict,\n",
    "    Tuple,\n",
    "    Optional\n",
    ")\n",
    "import os\n",
    "import sys\n",
    "import re\n",
    "import string\n",
    "\n",
    "print(sys.version)"
   ]
  },
  {
   "cell_type": "markdown",
   "metadata": {},
   "source": [
    "# References\n",
    "\n",
    "* [Regular Expression HOWTO](https://docs.python.org/3/howto/regex.html)"
   ]
  },
  {
   "cell_type": "markdown",
   "metadata": {},
   "source": [
    "---\n",
    "# Pattern"
   ]
  },
  {
   "cell_type": "markdown",
   "metadata": {},
   "source": [
    "## Meta characters\n",
    "\n",
    "```\n",
    ". ^ $ * + ? { } [ ] \\ | ( )\n",
    "```"
   ]
  },
  {
   "cell_type": "markdown",
   "metadata": {},
   "source": [
    "### Group/Class\n",
    "\n",
    "```[...]``` is a **character class** to specify a set of characters to match.\n",
    "\n",
    "**Metacharacters are NOT active inside a class ```[...]```**."
   ]
  },
  {
   "cell_type": "markdown",
   "metadata": {},
   "source": [
    "### Sequence\n",
    "\n",
    "```\n",
    "\\d\n",
    "Matches any decimal digit; this is equivalent to the class [0-9].\n",
    "\n",
    "\\D\n",
    "Matches any non-digit character; this is equivalent to the class [^0-9].\n",
    "\n",
    "\\s\n",
    "Matches any whitespace character; this is equivalent to the class [ \\t\\n\\r\\f\\v].\n",
    "\n",
    "\\S\n",
    "Matches any non-whitespace character; this is equivalent to the class [^ \\t\\n\\r\\f\\v].\n",
    "\n",
    "\\w\n",
    "Matches any alphanumeric character; this is equivalent to the class [a-zA-Z0-9_].\n",
    "\n",
    "\\W\n",
    "Matches any non-alphanumeric character; this is equivalent to the class [^a-zA-Z0-9_].\n",
    "```"
   ]
  },
  {
   "cell_type": "markdown",
   "metadata": {},
   "source": [
    "## word boundary ```\\b```\n",
    "\n",
    "* [Word Boundaries](https://www.regular-expressions.info/wordboundaries.html)\n",
    "\n",
    "> The metacharacter \\b is an anchor like the caret and the dollar sign. It matches at a position that is called a “word boundary”. This match is zero-length."
   ]
  },
  {
   "cell_type": "markdown",
   "metadata": {},
   "source": [
    "---\n",
    "## Raw string\n",
    "\n",
    "Make sure the regexp **sequence** literal is passed as **raw string**. \n",
    "\n",
    "```\n",
    "re.compile(r\"[\\s]+\") # <--- use raw string r\"...\"\n",
    "```\n",
    "\n",
    "Regexp **'\\s'** is NOT a valid string for Python interpreter, hence causes an error, because it is not one of the defined [escape sequences](https://docs.python.org/3/reference/lexical_analysis.html#string-and-bytes-literals)). \n",
    "\n",
    "```\n",
    "\\a\n",
    "ASCII Bell (BEL)\n",
    "\\b\n",
    "ASCII Backspace (BS)\n",
    "\\f\n",
    "ASCII Formfeed (FF)\n",
    "\\n\n",
    "ASCII Linefeed (LF)\n",
    "\\r\n",
    "ASCII Carriage Return (CR)\n",
    "\\t\n",
    "ASCII Horizontal Tab (TAB)\n",
    "\\v\n",
    "ASCII Vertical Tab (VT)\n",
    "```"
   ]
  },
  {
   "cell_type": "code",
   "execution_count": 4,
   "metadata": {},
   "outputs": [
    {
     "data": {
      "text/plain": [
       "re.compile(r'[\\s]+', re.UNICODE)"
      ]
     },
     "execution_count": 4,
     "metadata": {},
     "output_type": "execute_result"
    }
   ],
   "source": [
    "import re\n",
    "re.compile(r\"[\\s]+\")    # <---- Tell Python to pass the string AS IS."
   ]
  },
  {
   "cell_type": "code",
   "execution_count": 3,
   "metadata": {},
   "outputs": [
    {
     "data": {
      "text/plain": [
       "'\\\\s\\\\W'"
      ]
     },
     "execution_count": 3,
     "metadata": {},
     "output_type": "execute_result"
    }
   ],
   "source": [
    "r\"\\s\\W\"   # Generates escaped string"
   ]
  },
  {
   "cell_type": "markdown",
   "metadata": {},
   "source": [
    "## Escape\n",
    "\n",
    "Use [re.escape](https://docs.python.org/3/library/re.html#re.escape)\n",
    "\n",
    "> Escape special characters in pattern. This is useful if you want to match an arbitrary literal string that may have regular expression metacharacters in it. "
   ]
  },
  {
   "cell_type": "code",
   "execution_count": 4,
   "metadata": {},
   "outputs": [
    {
     "data": {
      "text/plain": [
       "\"!\\\\#\\\\$%\\\\&'\\\\*\\\\+\\\\-\\\\.\\\\^_`\\\\|\\\\~:\""
      ]
     },
     "execution_count": 4,
     "metadata": {},
     "output_type": "execute_result"
    }
   ],
   "source": [
    "re.escape(r\"!#$%&'*+-.^_`|~:\")"
   ]
  },
  {
   "cell_type": "markdown",
   "metadata": {},
   "source": [
    "## Patterns"
   ]
  },
  {
   "cell_type": "markdown",
   "metadata": {},
   "source": [
    "### Match punctuations and space characters"
   ]
  },
  {
   "cell_type": "code",
   "execution_count": 5,
   "metadata": {},
   "outputs": [
    {
     "data": {
      "text/plain": [
       "'[!\"\\\\#\\\\$%\\\\&\\'\\\\(\\\\)\\\\*\\\\+,\\\\-\\\\./:;<=>\\\\?@\\\\[\\\\\\\\\\\\]\\\\^_`\\\\{\\\\|\\\\}\\\\~\\\\s]+'"
      ]
     },
     "execution_count": 5,
     "metadata": {},
     "output_type": "execute_result"
    }
   ],
   "source": [
    "pattern = '[%s%s]+' % (re.escape(string.punctuation), r\"\\s\")\n",
    "pattern"
   ]
  },
  {
   "cell_type": "code",
   "execution_count": 6,
   "metadata": {},
   "outputs": [
    {
     "data": {
      "text/plain": [
       "'i am a cat who has no name and no id'"
      ]
     },
     "execution_count": 6,
     "metadata": {},
     "output_type": "execute_result"
    }
   ],
   "source": [
    "text = \"[(I am a @^-^& cat! who has no~~~     name and no #id%%;(.)]\"\n",
    "re.compile(pattern).sub(repl=\" \", string=text).strip().lower()"
   ]
  },
  {
   "cell_type": "code",
   "execution_count": 7,
   "metadata": {},
   "outputs": [],
   "source": [
    "corpus = \"\"\"This website contains the full text of the Python Data Science Handbook by Jake VanderPlas; \n",
    "the content is available on GitHub in the form of Jupyter notebooks.\"\"\""
   ]
  },
  {
   "cell_type": "code",
   "execution_count": 8,
   "metadata": {},
   "outputs": [],
   "source": [
    "#%%timeit\n",
    "pattern = '[%s%s]+' % (re.escape(string.punctuation), r\"\\s\")\n",
    "words = re.compile(pattern).sub(repl=\" \", string=corpus).lower().strip().split()\n",
    "id_to_word = dict(enumerate(set(words)))\n",
    "word_to_id = dict(zip(id_to_word.values(), id_to_word.keys()))"
   ]
  },
  {
   "cell_type": "code",
   "execution_count": 9,
   "metadata": {},
   "outputs": [
    {
     "name": "stdout",
     "output_type": "stream",
     "text": [
      "this\n",
      "website\n",
      "contains\n",
      "the\n",
      "full\n",
      "text\n",
      "of\n",
      "the\n",
      "python\n",
      "data\n",
      "science\n",
      "handbook\n",
      "by\n",
      "jake\n",
      "vanderplas\n",
      "the\n",
      "content\n",
      "is\n",
      "available\n",
      "on\n",
      "github\n",
      "in\n",
      "the\n",
      "form\n",
      "of\n",
      "jupyter\n",
      "notebooks\n"
     ]
    }
   ],
   "source": [
    "for index in [word_to_id[w] for w in words]:\n",
    "    print(id_to_word[index])"
   ]
  },
  {
   "cell_type": "code",
   "execution_count": 18,
   "metadata": {},
   "outputs": [
    {
     "data": {
      "text/plain": [
       "' I am a - cat who has no name and no id '"
      ]
     },
     "execution_count": 18,
     "metadata": {},
     "output_type": "execute_result"
    }
   ],
   "source": [
    "pattern = '[%s%s]+' % (re.escape(r'`~!@#$%^&*()_.=+\\[\\]{}\\\\\\|;:\\\"\\'<>,/?'), r\"\\s\")\n",
    "re.sub(pattern, \" \", text)"
   ]
  },
  {
   "cell_type": "code",
   "execution_count": 30,
   "metadata": {},
   "outputs": [
    {
     "data": {
      "text/plain": [
       "'!\"#$%&\\'()*+,-./:;<=>?@[\\\\]^_`{|}~'"
      ]
     },
     "execution_count": 30,
     "metadata": {},
     "output_type": "execute_result"
    }
   ],
   "source": [
    "import string\n",
    "string.punctuation"
   ]
  },
  {
   "cell_type": "code",
   "execution_count": 35,
   "metadata": {},
   "outputs": [
    {
     "data": {
      "text/plain": [
       "'      I am      R a   cat  who has no      name and no  id '"
      ]
     },
     "execution_count": 35,
     "metadata": {},
     "output_type": "execute_result"
    }
   ],
   "source": [
    "sentences = \"[ ( . I am ...... @@@@@ #@&*^$&*R a @^-^& cat! who has no~~~     name and no #id%%;(.)]\"\n",
    "removals = re.escape(string.punctuation)\n",
    "pattern = '[%s]+' % (removals)\n",
    "sentences = re.sub(pattern, \" \", sentences)  \n",
    "sentences"
   ]
  },
  {
   "cell_type": "markdown",
   "metadata": {},
   "source": [
    "---"
   ]
  },
  {
   "cell_type": "markdown",
   "metadata": {},
   "source": [
    "## 4 digits"
   ]
  },
  {
   "cell_type": "code",
   "execution_count": 17,
   "metadata": {},
   "outputs": [
    {
     "data": {
      "text/plain": [
       "'0034'"
      ]
     },
     "execution_count": 17,
     "metadata": {},
     "output_type": "execute_result"
    }
   ],
   "source": [
    "match = re.match(\"^[0-9]{4}$\", \"0034\")\n",
    "match.group(0)"
   ]
  },
  {
   "cell_type": "markdown",
   "metadata": {},
   "source": [
    "## Year"
   ]
  },
  {
   "cell_type": "code",
   "execution_count": 15,
   "metadata": {},
   "outputs": [
    {
     "data": {
      "text/plain": [
       "'2009'"
      ]
     },
     "execution_count": 15,
     "metadata": {},
     "output_type": "execute_result"
    }
   ],
   "source": [
    "match = re.match(\"^[1-2][0-9]{3}$\", \"2009\")\n",
    "match.group(0)"
   ]
  },
  {
   "cell_type": "markdown",
   "metadata": {},
   "source": [
    "## URL"
   ]
  },
  {
   "cell_type": "code",
   "execution_count": 14,
   "metadata": {},
   "outputs": [
    {
     "data": {
      "text/plain": [
       "'https://sec.gov/Archives/edgar/data/310158/000031015821000032/index.xml'"
      ]
     },
     "execution_count": 14,
     "metadata": {},
     "output_type": "execute_result"
    }
   ],
   "source": [
    "url = \"https://sec.gov/Archives/edgar/data/310158/000031015821000032/index.xml\"\n",
    "pattern = r\"(http|https)://(www\\.sec\\.gov|sec\\.gov)(.*/)index.xml\"\n",
    "match = re.search(pattern, url, re.IGNORECASE)\n",
    "match.group(0)"
   ]
  },
  {
   "cell_type": "markdown",
   "metadata": {},
   "source": [
    "---\n",
    "# Examples"
   ]
  },
  {
   "cell_type": "code",
   "execution_count": 14,
   "metadata": {},
   "outputs": [],
   "source": [
    "# Find \"PLACE 1 2 NORTH\"\n",
    "def parse_place_command(line: str) -> Optional[Tuple[int, int, str]]:\n",
    "    pattern = r'[\\t\\s]*^PLACE[\\t\\s]+([0-9]+)[\\t\\s]+([0-9]+)[\\t\\s]+(NORTH|EAST|WEST|SOUTH)'\n",
    "    if match := re.search(pattern, line, re.IGNORECASE):\n",
    "        x = int(match.group(1))\n",
    "        y = int(match.group(2))\n",
    "        direction = match.group(3).upper()\n",
    "        return x, y, direction\n",
    "    else:\n",
    "        return None\n",
    "\n",
    "def parse_command(line, command) -> Optional[str]:\n",
    "    pattern = r'^[\\t\\s]*({})[\\t\\s]*'.format(command)\n",
    "    return match.group(0).upper() if (match := re.search(pattern, line, re.IGNORECASE)) else None\n",
    "    \n",
    "def parse_move_command(line: str) -> Optional[str]:\n",
    "    return \"MOVE\" if re.search(r'^[\\t\\s]*MOVE[\\t\\s]*', line, re.IGNORECASE) else None\n",
    "\n",
    "def parse_left_command(line: str) -> Optional[str]:\n",
    "    return \"LEFT\" if re.search(r'^[\\t\\s]*LEFT[\\t\\s]*', line, re.IGNORECASE) else None\n",
    "\n",
    "def parse_right_command(line: str) -> Optional[str]:\n",
    "    return \"RIGHT\" if re.search(r'^[\\t\\s]*RIGHT[\\t\\s]*', line, re.IGNORECASE) else None\n",
    "\n",
    "def parse_report_command(line: str) -> Optional[str]:\n",
    "    return REPORT if re.search(r'^[\\t\\s]*REPORT[\\t\\s]*', line, re.IGNORECASE) else None"
   ]
  },
  {
   "cell_type": "code",
   "execution_count": 15,
   "metadata": {},
   "outputs": [
    {
     "name": "stdout",
     "output_type": "stream",
     "text": [
      "0 1 SOUTH\n",
      "(0, 1, 'SOUTH')\n"
     ]
    }
   ],
   "source": [
    "line = \"place   0 1   SouTh\"\n",
    "if args := parse_place_command(line):\n",
    "    x = args[0]\n",
    "    y = args[1]\n",
    "    direction = args[2]\n",
    "    \n",
    "    print(\"{} {} {}\".format(x, y, direction))\n",
    "    \n",
    "print(args)"
   ]
  },
  {
   "cell_type": "code",
   "execution_count": 16,
   "metadata": {},
   "outputs": [
    {
     "data": {
      "text/plain": [
       "'MOVE'"
      ]
     },
     "execution_count": 16,
     "metadata": {},
     "output_type": "execute_result"
    }
   ],
   "source": [
    "line = \"MOVE\"\n",
    "parse_move_command(line)"
   ]
  }
 ],
 "metadata": {
  "kernelspec": {
   "display_name": "Python 3 (ipykernel)",
   "language": "python",
   "name": "python3"
  },
  "language_info": {
   "codemirror_mode": {
    "name": "ipython",
    "version": 3
   },
   "file_extension": ".py",
   "mimetype": "text/x-python",
   "name": "python",
   "nbconvert_exporter": "python",
   "pygments_lexer": "ipython3",
   "version": "3.9.13"
  }
 },
 "nbformat": 4,
 "nbformat_minor": 4
}
