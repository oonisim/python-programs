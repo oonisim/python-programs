{
 "cells": [
  {
   "cell_type": "code",
   "execution_count": 2,
   "id": "4a4a6d02",
   "metadata": {},
   "outputs": [
    {
     "data": {
      "text/html": [
       "<style>\n",
       "table {float:left}\n",
       "</style>\n"
      ],
      "text/plain": [
       "<IPython.core.display.HTML object>"
      ]
     },
     "metadata": {},
     "output_type": "display_data"
    }
   ],
   "source": [
    "%%html\n",
    "<style>\n",
    "table {float:left}\n",
    "</style>"
   ]
  },
  {
   "cell_type": "code",
   "execution_count": 3,
   "id": "270f0829",
   "metadata": {},
   "outputs": [],
   "source": [
    "import regex as re"
   ]
  },
  {
   "cell_type": "markdown",
   "id": "9baaaaa0",
   "metadata": {},
   "source": [
    "# Word Boundary ```\\b```\n",
    "\n",
    "* [Word Boundaries](https://www.regular-expressions.info/wordboundaries.html)\n",
    "\n",
    "> The metacharacter ```\\b``` matches at a position that is called a **word boundary**. This match is zero-length. Simply put: ```\\b``` allows “whole words only” match with the patten ```\\bword\\b```.\n",
    "> \n",
    "> There are three different positions that qualify as word boundaries:\n",
    "> 1. Before the first character in the string, if the first character is a word character.\n",
    "> 2. After the last character in the string, if the last character is a word character.\n",
    "> 3. Between two characters in the string, where one is a word character and the other is not a word character.\n",
    "\n",
    "## Python definition of word boundary is **non-word character**.\n",
    "\n",
    "* [Regular Expression HOWTO](https://docs.python.org/3/howto/regex.html#more-pattern-power)\n",
    "\n",
    "> ```\\b```: Word boundary. This is a zero-width assertion that **matches only at the beginning or end of a word**. A word is defined as a sequence of alphanumeric characters, so **the begin/end of a word is indicated by whitespace or a non-alphanumeric character**.\n",
    "\n",
    "> Matches the empty string, but only at the beginning or end of a word. A word is defined as a sequence of word characters. Note that formally, ```\\b``` is defined as the boundary \n",
    "> \n",
    "> 1. between ```\\w``` and a ```\\W``` character (or vice versa), or \n",
    "> 2. between ```\\w``` and the beginning/end of the string. \n",
    "> \n",
    "> This means that ```r'\\bfoo\\b'``` matches 'foo', 'foo.', '(foo)', 'bar foo baz' but not 'foobar' or 'foo3'.\n",
    "\n",
    "Need to use lookaround to match the word only.\n"
   ]
  },
  {
   "cell_type": "markdown",
   "id": "e39194bb",
   "metadata": {},
   "source": [
    "# Wraning\n",
    "\n",
    "Cannot use character class ```[\\b]``` as it is not a character.\n",
    "\n",
    "* [Can word boundary \\b not be used in a character class?](https://stackoverflow.com/a/77252779/4281353)\n",
    "\n",
    "> You cannot include \\b in a character class as it is not a character. But, you could use an alternation instead of the attempted character class: ```(?:\\b|\\s)cool\\b```"
   ]
  },
  {
   "cell_type": "code",
   "execution_count": 63,
   "id": "980c2849",
   "metadata": {},
   "outputs": [],
   "source": [
    "pattern = r'f[\\b\\s]cool\\b'\n",
    "\n",
    "text = \"cool\"\n",
    "\n",
    "matches = re.finditer(\n",
    "    pattern=pattern, \n",
    "    string=text.strip(), \n",
    "    flags=re.IGNORECASE\n",
    ")\n",
    "if matches:\n",
    "    for match in matches:\n",
    "        print(f\"match: {match.group(0): <20} start: {match.start():<5} end: {match.end():<5} pos: {match.endpos:<5}\")"
   ]
  },
  {
   "cell_type": "markdown",
   "id": "63f879ae",
   "metadata": {},
   "source": [
    "# Examples\n",
    "\n",
    "```\\b``` matches with:\n",
    "\n",
    "```\n",
    "&tako  [sushi]\n",
    " ^   ^  ^    ^\n",
    " 1   2  3    4    \n",
    "```\n",
    "\n",
    "1. In-between ```&``` and ```t``` because it is the start boundary of the word **tako**.\n",
    "2. After ```o``` of the word ```tako``` as it is the end boundary of the word **tako**.\n",
    "3. In-between ```[``` and ```s``` because it is the start boundary of the word **sushi**.\n",
    "4. After ```i``` of the word ```sushi``` as it is the end boundary of the word **sushi**. "
   ]
  },
  {
   "cell_type": "code",
   "execution_count": 51,
   "id": "48457235",
   "metadata": {},
   "outputs": [
    {
     "name": "stdout",
     "output_type": "stream",
     "text": [
      "match:  start: 1   end: 1   string: tako  [sushi]\n",
      "match:  start: 5   end: 5   string:   [sushi]\n",
      "match:  start: 8   end: 8   string: sushi]\n",
      "match:  start: 13  end: 13  string: ]\n"
     ]
    }
   ],
   "source": [
    "pattern = r'\\b'\n",
    "text = \"&tako  [sushi]\"\n",
    "\n",
    "matches = re.finditer(\n",
    "    pattern=pattern, \n",
    "    string=text, \n",
    "    flags=re.IGNORECASE\n",
    ")\n",
    "for m in matches:\n",
    "    print(f\"match: {m.group(0)} start: {m.start(0):<3} end: {m.end(0):<3} string: {text[m.start(0):]}\")"
   ]
  },
  {
   "cell_type": "markdown",
   "id": "e562150e",
   "metadata": {},
   "source": [
    "```[^\\b]+``` matches every character. Because ```\\b``` matches empty boundary, all the non-empty boundray character will match, **even the non-word \\W** character."
   ]
  },
  {
   "cell_type": "code",
   "execution_count": 53,
   "id": "c5ff93ba",
   "metadata": {},
   "outputs": [
    {
     "name": "stdout",
     "output_type": "stream",
     "text": [
      "match: & start: 0   end: 1   string: &tako  [sushi]\n",
      "match: t start: 1   end: 2   string: tako  [sushi]\n",
      "match: a start: 2   end: 3   string: ako  [sushi]\n",
      "match: k start: 3   end: 4   string: ko  [sushi]\n",
      "match: o start: 4   end: 5   string: o  [sushi]\n",
      "match:   start: 5   end: 6   string:   [sushi]\n",
      "match:   start: 6   end: 7   string:  [sushi]\n",
      "match: [ start: 7   end: 8   string: [sushi]\n",
      "match: s start: 8   end: 9   string: sushi]\n",
      "match: u start: 9   end: 10  string: ushi]\n",
      "match: s start: 10  end: 11  string: shi]\n",
      "match: h start: 11  end: 12  string: hi]\n",
      "match: i start: 12  end: 13  string: i]\n",
      "match: ] start: 13  end: 14  string: ]\n"
     ]
    }
   ],
   "source": [
    "pattern = r'[^\\b]'\n",
    "text = \"&tako  [sushi]\"\n",
    "\n",
    "matches = re.finditer(\n",
    "    pattern=pattern, \n",
    "    string=text, \n",
    "    flags=re.IGNORECASE\n",
    ")\n",
    "for m in matches:\n",
    "    print(f\"match: {m.group(0)} start: {m.start(0):<3} end: {m.end(0):<3} string: {text[m.start(0):]}\")"
   ]
  },
  {
   "cell_type": "code",
   "execution_count": 54,
   "id": "419887c4",
   "metadata": {},
   "outputs": [
    {
     "name": "stdout",
     "output_type": "stream",
     "text": [
      "match:  start: 0   end: 0   string: &tako  [sushi]\n",
      "match:  start: 2   end: 2   string: ako  [sushi]\n",
      "match:  start: 3   end: 3   string: ko  [sushi]\n",
      "match:  start: 4   end: 4   string: o  [sushi]\n",
      "match:  start: 6   end: 6   string:  [sushi]\n",
      "match:  start: 7   end: 7   string: [sushi]\n",
      "match:  start: 9   end: 9   string: ushi]\n",
      "match:  start: 10  end: 10  string: shi]\n",
      "match:  start: 11  end: 11  string: hi]\n",
      "match:  start: 12  end: 12  string: i]\n",
      "match:  start: 14  end: 14  string: \n"
     ]
    }
   ],
   "source": [
    "pattern = r'\\B'\n",
    "text = \"&tako  [sushi]\"\n",
    "\n",
    "matches = re.finditer(\n",
    "    pattern=pattern, \n",
    "    string=text, \n",
    "    flags=re.IGNORECASE\n",
    ")\n",
    "for m in matches:\n",
    "    print(f\"match: {m.group(0)} start: {m.start(0):<3} end: {m.end(0):<3} string: {text[m.start(0):]}\")"
   ]
  },
  {
   "cell_type": "markdown",
   "id": "53dcf2ba",
   "metadata": {},
   "source": [
    "\n",
    "\n",
    "```\\bfoo\\b``` matches:\n",
    "\n",
    "```\n",
    "#foo foo foobar bar tako) foo!@#$%^\n",
    " ^   ^                    ^\n",
    " 1   2                    3\n",
    "```\n",
    "\n",
    "1. ```foo``` in ```#foo``` because ```\\b``` matches in-between ```#``` and ```foo``` as between the beginning of the string ```foo```.\n",
    "3. ```foo!@#$%``` because ```\\b``` matches between ```o``` and ```!```."
   ]
  },
  {
   "cell_type": "code",
   "execution_count": 52,
   "id": "5a4c236d",
   "metadata": {},
   "outputs": [
    {
     "name": "stdout",
     "output_type": "stream",
     "text": [
      "match: foo start:   1 end:   4 string: foo foo foobar bar tako) foo!@#$%^\n",
      "match: foo start:   5 end:   8 string: foo foobar bar tako) foo!@#$%^\n",
      "match: foo start:  26 end:  29 string: foo!@#$%^\n"
     ]
    }
   ],
   "source": [
    "pattern = r'\\bfoo\\b'\n",
    "text = \"#foo foo foobar bar tako) foo!@#$%^\"\n",
    "\n",
    "matches = re.finditer(\n",
    "    pattern=pattern, \n",
    "    string=text, \n",
    "    flags=re.IGNORECASE\n",
    ")\n",
    "for m in matches:\n",
    "    print(f\"match: {m.group(0)} start: {m.start(0):3} end: {m.end(0):3} string: {text[m.start(0):]}\")"
   ]
  },
  {
   "cell_type": "markdown",
   "id": "f306945e",
   "metadata": {},
   "source": [
    "---\n",
    "# Custom boundary\n",
    "\n",
    "* [How to write word boundary inside character class in python without losing its meaning? I wish to add underscore(_) in definition of word boundary(\\b)](https://stackoverflow.com/questions/41460829/how-to-write-word-boundary-inside-character-class-in-python-without-losing-its-m)"
   ]
  },
  {
   "cell_type": "code",
   "execution_count": 85,
   "id": "4c2fa132",
   "metadata": {},
   "outputs": [
    {
     "name": "stdout",
     "output_type": "stream",
     "text": [
      "['word', 'word', 'word']\n"
     ]
    }
   ],
   "source": [
    "rx = r\"(?:\\b|(?<=_))word(?=\\b|_)\"\n",
    "s = \"some_word_here and a word there and #word.\"\n",
    "print(re.findall(rx,s))"
   ]
  },
  {
   "cell_type": "code",
   "execution_count": null,
   "id": "302036e3",
   "metadata": {},
   "outputs": [],
   "source": []
  }
 ],
 "metadata": {
  "kernelspec": {
   "display_name": "Python 3 (ipykernel)",
   "language": "python",
   "name": "python3"
  },
  "language_info": {
   "codemirror_mode": {
    "name": "ipython",
    "version": 3
   },
   "file_extension": ".py",
   "mimetype": "text/x-python",
   "name": "python",
   "nbconvert_exporter": "python",
   "pygments_lexer": "ipython3",
   "version": "3.9.13"
  }
 },
 "nbformat": 4,
 "nbformat_minor": 5
}
