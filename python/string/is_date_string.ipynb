{
 "cells": [
  {
   "cell_type": "markdown",
   "id": "e51f6cb7",
   "metadata": {},
   "source": [
    "# Check if string has date format"
   ]
  },
  {
   "cell_type": "code",
   "execution_count": 1,
   "id": "c955f4d0",
   "metadata": {},
   "outputs": [],
   "source": [
    "import dateutil"
   ]
  },
  {
   "cell_type": "code",
   "execution_count": 3,
   "id": "16b3dc4d",
   "metadata": {},
   "outputs": [],
   "source": [
    "def is_date_string(x):\n",
    "    \"\"\"Check if the x has date/time format\"\"\"\n",
    "    try:\n",
    "        dateutil.parser.parse(x)\n",
    "        return True\n",
    "    except ValueError as e:\n",
    "        return False"
   ]
  },
  {
   "cell_type": "code",
   "execution_count": 4,
   "id": "392626ef",
   "metadata": {},
   "outputs": [
    {
     "data": {
      "text/plain": [
       "True"
      ]
     },
     "execution_count": 4,
     "metadata": {},
     "output_type": "execute_result"
    }
   ],
   "source": [
    "is_date_string(\"12-12-12\")"
   ]
  },
  {
   "cell_type": "code",
   "execution_count": 5,
   "id": "ae0f9447",
   "metadata": {},
   "outputs": [
    {
     "data": {
      "text/plain": [
       "True"
      ]
     },
     "execution_count": 5,
     "metadata": {},
     "output_type": "execute_result"
    }
   ],
   "source": [
    "is_date_string(\"2021-12-3\")"
   ]
  },
  {
   "cell_type": "code",
   "execution_count": 6,
   "id": "ee2de53e",
   "metadata": {},
   "outputs": [
    {
     "data": {
      "text/plain": [
       "True"
      ]
     },
     "execution_count": 6,
     "metadata": {},
     "output_type": "execute_result"
    }
   ],
   "source": [
    "is_date_string(\"20211213\")"
   ]
  },
  {
   "cell_type": "code",
   "execution_count": 7,
   "id": "2dfb070e",
   "metadata": {},
   "outputs": [
    {
     "data": {
      "text/plain": [
       "False"
      ]
     },
     "execution_count": 7,
     "metadata": {},
     "output_type": "execute_result"
    }
   ],
   "source": [
    "is_date_string(\"hoge\")"
   ]
  },
  {
   "cell_type": "code",
   "execution_count": null,
   "id": "37f133da",
   "metadata": {},
   "outputs": [],
   "source": []
  }
 ],
 "metadata": {
  "kernelspec": {
   "display_name": "Python 3 (ipykernel)",
   "language": "python",
   "name": "python3"
  },
  "language_info": {
   "codemirror_mode": {
    "name": "ipython",
    "version": 3
   },
   "file_extension": ".py",
   "mimetype": "text/x-python",
   "name": "python",
   "nbconvert_exporter": "python",
   "pygments_lexer": "ipython3",
   "version": "3.8.10"
  }
 },
 "nbformat": 4,
 "nbformat_minor": 5
}
