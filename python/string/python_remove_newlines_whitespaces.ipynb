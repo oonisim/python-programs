{
 "cells": [
  {
   "cell_type": "code",
   "execution_count": 2,
   "id": "86332b94",
   "metadata": {},
   "outputs": [],
   "source": [
    "import string"
   ]
  },
  {
   "cell_type": "code",
   "execution_count": 32,
   "id": "c38a4348",
   "metadata": {},
   "outputs": [],
   "source": [
    "text = \"\"\"The French government under President Emmanuel Macron on Monday survived two no-confidence motions in parliament, but still faces intense pressure over its handling of a controversial pensions reform.\n",
    "\n",
    "Prime Minister Elisabeth Borne incensed the opposition last week by announcing the government would impose a controversial pension reform without a vote in parliament, sparking accusations of anti-democratic behaviour.\n",
    "\n",
    "Its use of an article in the constitution allowing such a move also gave the opposition the right to call motions of no confidence in the government and two such demands were filed.\n",
    "\n",
    "Advertisement\n",
    "READ MORE\n",
    "\n",
    "Pension reform has been imposed in France without a vote. How did it happen?\n",
    "\n",
    "The 577-seat National Assembly lower rejected a motion brought by the centrist LIOT coalition that is also supported by the left, by a margin of just nine votes, much narrower than expected.\n",
    "\n",
    "It then overwhelmingly rejected a motion brought by the far-right National Rally (RN) with just 94 votes in favour.\n",
    "\n",
    "The rejection of the motions means that the reform to raise the pensions age from 62 to 64 has now been adopted by the legislature. It still needs to be signed into law by Mr Macron and may also face legal challenges.\n",
    "Anthony Albanese to 'reset relationship' with France on upcoming visit \n",
    "\n",
    "Anthony Albanese to 'reset relationship' with France on upcoming visit\n",
    "It far from represents the end of the biggest domestic crisis of the second mandate in office of Mr Macron, who has yet to make any public comment on the controversy.\n",
    "\n",
    "\"We never went so far in building a compromise as we did with this reform,\" Ms Borne told parliament ahead of the vote, saying her use of the article to bypass a vote was \"profoundly democratic\" under France's constitution set up by postwar leader Charles de Gaulle.\n",
    "Garbage piles up in Paris following strikes\n",
    "Garbage cans overflowing with trash on the streets as collectors go on strike in Paris, France. Garbage collectors have joined the massive strikes throughout France against pension reform plans. Source: Getty / Anadolu Agency/Anadolu Agency via Getty Images\n",
    "Trouble ahead\n",
    "A new round of strikes and protests have been called on Thursday and are expected to again bring public transport to a standstill in several areas.\n",
    "\n",
    "There has been a rolling strike by rubbish collectors in Paris, leading to unsightly and unhygienic piles of trash accumulating in the French capital.\n",
    "\n",
    "The future of Ms Borne, appointed as France's second woman premier by Mr Macron after his election victory over the far right for a second mandate, remains in doubt after she failed to secure a parliamentary majority for the reform.\n",
    "READ MORE\n",
    "\n",
    "France wants to raise its retirement age by two years. Why are thousands protesting?\n",
    "\n",
    "Meanwhile, it remains unclear when Mr Macron will finally make public comments over the events, amid reports he is considering an address to the nation.\n",
    "\n",
    "Since Ms Borne invoked article 49.3 of the constitution, there have also been daily protests in Paris and other cities that have on occasion turned violent.\n",
    "\n",
    "A total of 169 people were arrested nationwide on Saturday during spontaneous protests, including one that assembled 4,000 in the capital.\n",
    "People in the street during clashes and protests in Paris.\n",
    "A demonstrator holds a red flare in the middle of a crowd gathered near a fire as several thousand demonstrators gathered at Place de la Concorde, opposite the National Assembly, in Paris on 16 March, 2023 to protest against pension reform. Source: Getty / Samuel Boivin\n",
    "Government insiders and observers have raised fears that France is again heading for another bout of violent anti-government protests, only a few years after the \"Yellow Vest\" movement shook the country from 2018-2019.\n",
    "\n",
    "In order to pass, the main multi-party no confidence motion needed support from around half the 61 MPs of the traditional right-wing party The Republicans.\n",
    "\n",
    "Even after its leadership insisted they should reject the motions, 19 renegade Republicans MPs voted in favour.\n",
    "\n",
    "\"I think it's the only way out. We need to move on to something else,\" said one of the Republicans who voted for the ousting of the government, Aurelien Pradie.\n",
    "Ejecting PM 'least risky'\n",
    "A survey on Sunday showed the head of state's personal rating at its lowest level since the height of the \"Yellow Vest\" crisis in 2019, with only 28 per cent of respondents having a positive view of him.\n",
    "\n",
    "Mr Macron has argued that the pension changes are needed to avoid crippling deficits in the coming decades linked to France's ageing population.\n",
    "\n",
    "\"Those among us who are able will gradually need to work more to finance our social model, which is one of the most generous in the world,\" Finance Minister Bruno Le Maire said Sunday.\n",
    "\n",
    "Opponents of the reform say it places an unfair burden on low earners, women and people doing physically wearing jobs. Opinion polls have consistently shown that two thirds of French people oppose the changes.\n",
    "\n",
    "As for Mr Macron's options now, replacing Ms Borne would be \"the least risky and the most likely to give him new momentum,\" Bruno Cautres of the Centre for Political Research told AFP.\n",
    "\n",
    "Calling new elections is seen as unlikely.\n",
    "\n",
    "\"When you're in this much of a cycle of unpopularity and rejection over a major reform, it's basically suicidal\" to go to the polls, Brice Teinturier, head of the polling firm Ipsos, told AFP.\n",
    "\n",
    "A Harris Interactive survey of over 2,000 people this month suggested that the only winner from a new general election would be the far right, with all other major parties losing ground.\n",
    "\"\"\""
   ]
  },
  {
   "cell_type": "code",
   "execution_count": 42,
   "id": "de08586f",
   "metadata": {},
   "outputs": [
    {
     "data": {
      "text/plain": [
       "'The French government under President Emmanuel Macron on Monday survived two no-confidence motions in parliament, but still faces intense pressure over its handling of a controversial pensions reform. Prime Minister Elisabeth Borne incensed the opposition last week by announcing the government would impose a controversial pension reform without a vote in parliament, sparking accusations of anti-democratic behaviour. Its use of an article in the constitution allowing such a move also gave the opposition the right to call motions of no confidence in the government and two such demands were filed. Advertisement READ MORE Pension reform has been imposed in France without a vote. How did it happen? The 577-seat National Assembly lower rejected a motion brought by the centrist LIOT coalition that is also supported by the left, by a margin of just nine votes, much narrower than expected. It then overwhelmingly rejected a motion brought by the far-right National Rally (RN) with just 94 votes in favour. The rejection of the motions means that the reform to raise the pensions age from 62 to 64 has now been adopted by the legislature. It still needs to be signed into law by Mr Macron and may also face legal challenges. Anthony Albanese to reset relationship with France on upcoming visit 24 Jun 2022, 7:38 pm Anthony Albanese to reset relationship with France on upcoming visit It far from represents the end of the biggest domestic crisis of the second mandate in office of Mr Macron, who has yet to make any public comment on the controversy. We never went so far in building a compromise as we did with this reform, Ms Borne told parliament ahead of the vote, saying her use of the article to bypass a vote was profoundly democratic under France s constitution set up by postwar leader Charles de Gaulle. Garbage piles up in Paris following strikes Garbage cans overflowing with trash on the streets as collectors go on strike in Paris, France. Garbage collectors have joined the massive strikes throughout France against pension reform plans. Source: Getty Anadolu Agency Anadolu Agency via Getty Images Trouble ahead A new round of strikes and protests have been called on Thursday and are expected to again bring public transport to a standstill in several areas. There has been a rolling strike by rubbish collectors in Paris, leading to unsightly and unhygienic piles of trash accumulating in the French capital. The future of Ms Borne, appointed as France s second woman premier by Mr Macron after his election victory over the far right for a second mandate, remains in doubt after she failed to secure a parliamentary majority for the reform. READ MORE France wants to raise its retirement age by two years. Why are thousands protesting? Meanwhile, it remains unclear when Mr Macron will finally make public comments over the events, amid reports he is considering an address to the nation. Since Ms Borne invoked article 49.3 of the constitution, there have also been daily protests in Paris and other cities that have on occasion turned violent. A total of 169 people were arrested nationwide on Saturday during spontaneous protests, including one that assembled 4,000 in the capital. People in the street during clashes and protests in Paris. A demonstrator holds a red flare in the middle of a crowd gathered near a fire as several thousand demonstrators gathered at Place de la Concorde, opposite the National Assembly, in Paris on 16 March, 2023 to protest against pension reform. Source: Getty Samuel Boivin Government insiders and observers have raised fears that France is again heading for another bout of violent anti-government protests, only a few years after the Yellow Vest movement shook the country from 2018-2019. In order to pass, the main multi-party no confidence motion needed support from around half the 61 MPs of the traditional right-wing party The Republicans. Even after its leadership insisted they should reject the motions, 19 renegade Republicans MPs voted in favour. I think it s the only way out. We need to move on to something else, said one of the Republicans who voted for the ousting of the government, Aurelien Pradie. Ejecting PM least risky A survey on Sunday showed the head of state s personal rating at its lowest level since the height of the Yellow Vest crisis in 2019, with only 28 per cent of respondents having a positive view of him. Mr Macron has argued that the pension changes are needed to avoid crippling deficits in the coming decades linked to France s ageing population. Those among us who are able will gradually need to work more to finance our social model, which is one of the most generous in the world, Finance Minister Bruno Le Maire said Sunday. Opponents of the reform say it places an unfair burden on low earners, women and people doing physically wearing jobs. Opinion polls have consistently shown that two thirds of French people oppose the changes. As for Mr Macron s options now, replacing Ms Borne would be the least risky and the most likely to give him new momentum, Bruno Cautres of the Centre for Political Research told AFP. Calling new elections is seen as unlikely. When you re in this much of a cycle of unpopularity and rejection over a major reform, it s basically suicidal to go to the polls, Brice Teinturier, head of the polling firm Ipsos, told AFP. A Harris Interactive survey of over 2,000 people this month suggested that the only winner from a new general election would be the far right, with all other major parties losing ground. '"
      ]
     },
     "execution_count": 42,
     "metadata": {},
     "output_type": "execute_result"
    }
   ],
   "source": [
    "import re\n",
    "#re.sub(r\"'\\\"\", '', text, flags=re.MULTILINE)\n",
    "re.sub(r\"['\\\"/\\s]+\", ' ', text, flags=re.MULTILINE)"
   ]
  },
  {
   "cell_type": "markdown",
   "id": "849883e6",
   "metadata": {},
   "source": [
    "## strip() does not work"
   ]
  },
  {
   "cell_type": "code",
   "execution_count": 19,
   "id": "e2be538b",
   "metadata": {},
   "outputs": [
    {
     "data": {
      "text/plain": [
       "\"The \\n    French government \\t\\t\\tunder President Emmanuel Macron on Monday survived two no-confidence motions in parliament, but still faces intense pressure over its handling of a controversial pensions reform.\\n\\nPrime Minister Elisabeth Borne incensed the opposition last week by announcing the government would impose a controversial pension reform without a vote in parliament, sparking accusations of anti-democratic behaviour.\\n\\nIts use of an article in the constitution allowing such a move also gave the opposition the right to call motions of no confidence in the government and two such demands were filed.\\n\\nPension reform has been imposed in France without a vote. How did it happen?\\n\\nThe 577-seat National Assembly lower rejected a motion brought by the centrist LIOT coalition that is also supported by the left, by a margin of just nine votes, much narrower than expected.\\n\\nIt then overwhelmingly rejected a motion brought by the far-right National Rally (RN) with just 94 votes in favour.\\n\\nThe rejection of the motions means that the reform to raise the pensions age from 62 to 64 has now been adopted by the legislature. It still needs to be signed into law by Mr Macron and may also face legal challenges.\\nAnthony Albanese to 'reset relationship' with France on upcoming visit\""
      ]
     },
     "execution_count": 19,
     "metadata": {},
     "output_type": "execute_result"
    }
   ],
   "source": [
    "text.strip()"
   ]
  },
  {
   "cell_type": "code",
   "execution_count": null,
   "id": "6b41cdad",
   "metadata": {},
   "outputs": [],
   "source": []
  }
 ],
 "metadata": {
  "kernelspec": {
   "display_name": "Python 3 (ipykernel)",
   "language": "python",
   "name": "python3"
  },
  "language_info": {
   "codemirror_mode": {
    "name": "ipython",
    "version": 3
   },
   "file_extension": ".py",
   "mimetype": "text/x-python",
   "name": "python",
   "nbconvert_exporter": "python",
   "pygments_lexer": "ipython3",
   "version": "3.9.13"
  }
 },
 "nbformat": 4,
 "nbformat_minor": 5
}
