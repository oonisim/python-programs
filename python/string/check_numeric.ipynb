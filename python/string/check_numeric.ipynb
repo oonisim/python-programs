{
 "cells": [
  {
   "cell_type": "code",
   "execution_count": 6,
   "id": "eb8ebe8c",
   "metadata": {},
   "outputs": [
    {
     "data": {
      "text/html": [
       "<style>\n",
       "table {float:left}\n",
       "</style>\n"
      ],
      "text/plain": [
       "<IPython.core.display.HTML object>"
      ]
     },
     "metadata": {},
     "output_type": "display_data"
    }
   ],
   "source": [
    "%%html\n",
    "<style>\n",
    "table {float:left}\n",
    "</style>"
   ]
  },
  {
   "cell_type": "markdown",
   "id": "85071d3d",
   "metadata": {},
   "source": [
    "* [What's the difference between str.isdigit, isnumeric and isdecimal in python?](https://stackoverflow.com/a/54912545)\n",
    "\n",
    "> It's mostly about unicode classifications. By definition, isdecimal() ⊆ isdigit() ⊆ isnumeric(). That is, if a string is decimal, then it'll also be digit and numeric.\n",
    "\n",
    "| isdecimal() | isdigit() | isnumeric() |          Example                 |\n",
    "|-------------|-----------|-------------|----------------------------------|\n",
    "|    True     |    True   |    True     | \"038\", \"੦੩੮\", \"０３８\"           |\n",
    "|  False      |    True   |    True     | \"⁰³⁸\", \"🄀⒊⒏\", \"⓪③⑧\"          |\n",
    "|  False      |  False    |    True     | \"↉⅛⅘\", \"ⅠⅢⅧ\", \"⑩⑬㊿\", \"壹貳參\"  |\n",
    "|  False      |  False    |  False      | \"abc\", \"38.0\", \"-38\"             |\n"
   ]
  },
  {
   "cell_type": "markdown",
   "id": "64c50bab",
   "metadata": {},
   "source": [
    "# Numeric\n",
    "\n",
    "> Numeric characters include digit characters, and all characters that have the Unicode numeric value property, e.g. U+2155, VULGAR FRACTION ONE FIFTH. Formally, numeric characters are those with the property value Numeric_Type=Digit, Numeric_Type=Decimal or Numeric_Type=Numeric."
   ]
  },
  {
   "cell_type": "markdown",
   "id": "70de00df",
   "metadata": {},
   "source": [
    "# Digit\n",
    "\n",
    "> Digits include decimal characters and digits that need special handling, such as the compatibility superscript digits. This covers digits which cannot be used to form numbers in base 10, like the Kharosthi numbers. Formally, a digit is a character that has the property value Numeric_Type=Digit or Numeric_Type=Decimal."
   ]
  },
  {
   "cell_type": "markdown",
   "id": "d43bc898",
   "metadata": {},
   "source": [
    "# Decimal\n",
    "\n",
    ">  Decimal characters are those that can be used to form numbers in base 10, e.g. U+0660, ARABIC-INDIC DIGIT ZERO. Formally a decimal character is a character in the Unicode General Category “Nd”."
   ]
  },
  {
   "cell_type": "code",
   "execution_count": 1,
   "id": "7ba66aa7",
   "metadata": {},
   "outputs": [
    {
     "data": {
      "text/plain": [
       "True"
      ]
     },
     "execution_count": 1,
     "metadata": {},
     "output_type": "execute_result"
    }
   ],
   "source": [
    "\"12345\".isdecimal()"
   ]
  },
  {
   "cell_type": "markdown",
   "id": "01cbfb61",
   "metadata": {},
   "source": [
    "# \"一２參\""
   ]
  },
  {
   "cell_type": "code",
   "execution_count": 14,
   "id": "d561b16f",
   "metadata": {},
   "outputs": [
    {
     "data": {
      "text/plain": [
       "True"
      ]
     },
     "execution_count": 14,
     "metadata": {},
     "output_type": "execute_result"
    }
   ],
   "source": [
    "\"一２參\".isnumeric()"
   ]
  },
  {
   "cell_type": "code",
   "execution_count": 15,
   "id": "dcf4c932",
   "metadata": {},
   "outputs": [
    {
     "data": {
      "text/plain": [
       "False"
      ]
     },
     "execution_count": 15,
     "metadata": {},
     "output_type": "execute_result"
    }
   ],
   "source": [
    "\"一２參\".isdigit()"
   ]
  },
  {
   "cell_type": "code",
   "execution_count": 16,
   "id": "60a3a3f3",
   "metadata": {},
   "outputs": [
    {
     "data": {
      "text/plain": [
       "False"
      ]
     },
     "execution_count": 16,
     "metadata": {},
     "output_type": "execute_result"
    }
   ],
   "source": [
    "\"一２參\".isdecimal()"
   ]
  },
  {
   "cell_type": "markdown",
   "id": "5f1186b7",
   "metadata": {},
   "source": [
    "# ①❷³"
   ]
  },
  {
   "cell_type": "code",
   "execution_count": 18,
   "id": "eb8b9d13",
   "metadata": {},
   "outputs": [
    {
     "data": {
      "text/plain": [
       "True"
      ]
     },
     "execution_count": 18,
     "metadata": {},
     "output_type": "execute_result"
    }
   ],
   "source": [
    "\"①❷³\".isnumeric()"
   ]
  },
  {
   "cell_type": "code",
   "execution_count": 19,
   "id": "fe43f25c",
   "metadata": {},
   "outputs": [
    {
     "data": {
      "text/plain": [
       "True"
      ]
     },
     "execution_count": 19,
     "metadata": {},
     "output_type": "execute_result"
    }
   ],
   "source": [
    "\"①❷³\".isdigit()"
   ]
  },
  {
   "cell_type": "code",
   "execution_count": 20,
   "id": "edfd6cfb",
   "metadata": {},
   "outputs": [
    {
     "data": {
      "text/plain": [
       "False"
      ]
     },
     "execution_count": 20,
     "metadata": {},
     "output_type": "execute_result"
    }
   ],
   "source": [
    "\"①❷³\".isdecimal()"
   ]
  },
  {
   "cell_type": "markdown",
   "id": "e8e5a9bd",
   "metadata": {},
   "source": [
    "# \"１２３\""
   ]
  },
  {
   "cell_type": "code",
   "execution_count": 12,
   "id": "3a389dd7",
   "metadata": {},
   "outputs": [
    {
     "data": {
      "text/plain": [
       "True"
      ]
     },
     "execution_count": 12,
     "metadata": {},
     "output_type": "execute_result"
    }
   ],
   "source": [
    "\"１２３\".isnumeric() "
   ]
  },
  {
   "cell_type": "code",
   "execution_count": 13,
   "id": "637931ea",
   "metadata": {},
   "outputs": [
    {
     "data": {
      "text/plain": [
       "True"
      ]
     },
     "execution_count": 13,
     "metadata": {},
     "output_type": "execute_result"
    }
   ],
   "source": [
    "\"１２３\".isdigit() "
   ]
  },
  {
   "cell_type": "code",
   "execution_count": 11,
   "id": "61abb594",
   "metadata": {},
   "outputs": [
    {
     "data": {
      "text/plain": [
       "True"
      ]
     },
     "execution_count": 11,
     "metadata": {},
     "output_type": "execute_result"
    }
   ],
   "source": [
    "\"１２３\".isdecimal() "
   ]
  },
  {
   "cell_type": "markdown",
   "id": "996a63b9",
   "metadata": {},
   "source": [
    "# Ascii number"
   ]
  },
  {
   "cell_type": "code",
   "execution_count": 22,
   "id": "f1434e8b",
   "metadata": {},
   "outputs": [
    {
     "data": {
      "text/plain": [
       "False"
      ]
     },
     "execution_count": 22,
     "metadata": {},
     "output_type": "execute_result"
    }
   ],
   "source": [
    "\"３\".isascii()"
   ]
  },
  {
   "cell_type": "code",
   "execution_count": null,
   "id": "98aab3bd",
   "metadata": {},
   "outputs": [],
   "source": []
  }
 ],
 "metadata": {
  "kernelspec": {
   "display_name": "Python 3 (ipykernel)",
   "language": "python",
   "name": "python3"
  },
  "language_info": {
   "codemirror_mode": {
    "name": "ipython",
    "version": 3
   },
   "file_extension": ".py",
   "mimetype": "text/x-python",
   "name": "python",
   "nbconvert_exporter": "python",
   "pygments_lexer": "ipython3",
   "version": "3.8.10"
  }
 },
 "nbformat": 4,
 "nbformat_minor": 5
}
