{
 "cells": [
  {
   "cell_type": "code",
   "execution_count": 1,
   "id": "damaged-december",
   "metadata": {},
   "outputs": [],
   "source": [
    "import string"
   ]
  },
  {
   "cell_type": "code",
   "execution_count": 5,
   "id": "animal-match",
   "metadata": {},
   "outputs": [
    {
     "name": "stdout",
     "output_type": "stream",
     "text": [
      "For the first time since the start of the pandemic, Australians can enjoy relatively unrestricted international travel and avoid hotel quarantine when they return home.\n"
     ]
    }
   ],
   "source": [
    "corpus = \"\"\"For the first time since the start of the pandemic, Australians can enjoy relatively unrestricted international travel and avoid hotel quarantine when they return home.\n",
    "For New Zealanders stuck on this side of the Tasman, today marks the start of a return to normal when going home is only a short flight away.\n",
    "Hundreds of passengers have been boarding international flights this morning after the travel bubble between Australia and New Zealand opened.\n",
    "\"\"\"\n",
    "for line in corpus.split(\"\\n\"):\n",
    "    print(line)"
   ]
  }
 ],
 "metadata": {
  "kernelspec": {
   "display_name": "Python 3",
   "language": "python",
   "name": "python3"
  },
  "language_info": {
   "codemirror_mode": {
    "name": "ipython",
    "version": 3
   },
   "file_extension": ".py",
   "mimetype": "text/x-python",
   "name": "python",
   "nbconvert_exporter": "python",
   "pygments_lexer": "ipython3",
   "version": "3.8.8"
  }
 },
 "nbformat": 4,
 "nbformat_minor": 5
}
