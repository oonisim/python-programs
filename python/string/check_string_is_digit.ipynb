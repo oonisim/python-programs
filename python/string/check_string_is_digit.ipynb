{
 "cells": [
  {
   "cell_type": "markdown",
   "id": "4650a374",
   "metadata": {},
   "source": [
    "# Check if a string is integer or float\n",
    "\n",
    "```float:= <integer>.<fraction>```"
   ]
  },
  {
   "cell_type": "markdown",
   "id": "ca253e98",
   "metadata": {},
   "source": [
    "## Caution\n",
    "```.isdigit(), .isnumeric()``` does not handle $-$ (minus)."
   ]
  },
  {
   "cell_type": "code",
   "execution_count": 2,
   "id": "8f95c4c8",
   "metadata": {},
   "outputs": [
    {
     "data": {
      "text/plain": [
       "False"
      ]
     },
     "execution_count": 2,
     "metadata": {},
     "output_type": "execute_result"
    }
   ],
   "source": [
    "\"-123\".isdigit()"
   ]
  },
  {
   "cell_type": "markdown",
   "id": "4f08334e",
   "metadata": {},
   "source": [
    "## Logic"
   ]
  },
  {
   "cell_type": "code",
   "execution_count": 35,
   "id": "359ca12f",
   "metadata": {},
   "outputs": [],
   "source": [
    "def is_int_string(x: str):\n",
    "    \"\"\"Check if a string is integer or float\n",
    "    123.0 and 123 are both integer\n",
    "    \"\"\"\n",
    "    assert isinstance(x, str)\n",
    "    if '.' in x:\n",
    "        i_f = x.split('.')\n",
    "        i = i_f[0]         # integer part\n",
    "        f = i_f[1]         # fraction part\n",
    "        return (\n",
    "            # Integer part\n",
    "            (\n",
    "                i.lstrip('-').isdigit() or         # 123, -123\n",
    "                len(i.lstrip('-')) == 0            # i part of \".0\" or \"-.0\"\n",
    "            )\n",
    "            and \n",
    "            # Fraction part\n",
    "            (\n",
    "                (f.isdigit() and int(f) == 0) or   # 123.0, 123.00\n",
    "                len(f) == 0                        # 123.\n",
    "            )\n",
    "        )\n",
    "    else:\n",
    "        return x.lstrip('-').isdigit()"
   ]
  },
  {
   "cell_type": "code",
   "execution_count": 36,
   "id": "dff3024a",
   "metadata": {},
   "outputs": [
    {
     "data": {
      "text/plain": [
       "True"
      ]
     },
     "execution_count": 36,
     "metadata": {},
     "output_type": "execute_result"
    }
   ],
   "source": [
    "is_int_string(\"123\")"
   ]
  },
  {
   "cell_type": "code",
   "execution_count": 37,
   "id": "29b2a703",
   "metadata": {},
   "outputs": [
    {
     "data": {
      "text/plain": [
       "True"
      ]
     },
     "execution_count": 37,
     "metadata": {},
     "output_type": "execute_result"
    }
   ],
   "source": [
    "is_int_string(\"-123\")"
   ]
  },
  {
   "cell_type": "code",
   "execution_count": 38,
   "id": "5df05615",
   "metadata": {},
   "outputs": [
    {
     "data": {
      "text/plain": [
       "True"
      ]
     },
     "execution_count": 38,
     "metadata": {},
     "output_type": "execute_result"
    }
   ],
   "source": [
    "is_int_string(\"123.000\")"
   ]
  },
  {
   "cell_type": "code",
   "execution_count": 39,
   "id": "6b3edb52",
   "metadata": {},
   "outputs": [
    {
     "data": {
      "text/plain": [
       "True"
      ]
     },
     "execution_count": 39,
     "metadata": {},
     "output_type": "execute_result"
    }
   ],
   "source": [
    "is_int_string(\"123.\")"
   ]
  },
  {
   "cell_type": "code",
   "execution_count": 40,
   "id": "5991bf61",
   "metadata": {},
   "outputs": [
    {
     "data": {
      "text/plain": [
       "True"
      ]
     },
     "execution_count": 40,
     "metadata": {},
     "output_type": "execute_result"
    }
   ],
   "source": [
    "is_int_string(\"-123.\")"
   ]
  },
  {
   "cell_type": "code",
   "execution_count": 43,
   "id": "05980a7d",
   "metadata": {},
   "outputs": [
    {
     "data": {
      "text/plain": [
       "True"
      ]
     },
     "execution_count": 43,
     "metadata": {},
     "output_type": "execute_result"
    }
   ],
   "source": [
    "is_int_string(\"-.0\")"
   ]
  },
  {
   "cell_type": "code",
   "execution_count": 26,
   "id": "98dd30fe",
   "metadata": {},
   "outputs": [
    {
     "data": {
      "text/plain": [
       "True"
      ]
     },
     "execution_count": 26,
     "metadata": {},
     "output_type": "execute_result"
    }
   ],
   "source": [
    "is_int_string(\"0.0\")"
   ]
  },
  {
   "cell_type": "code",
   "execution_count": 27,
   "id": "f8d0050a",
   "metadata": {},
   "outputs": [
    {
     "data": {
      "text/plain": [
       "True"
      ]
     },
     "execution_count": 27,
     "metadata": {},
     "output_type": "execute_result"
    }
   ],
   "source": [
    "is_int_string(\".0\")"
   ]
  },
  {
   "cell_type": "code",
   "execution_count": 28,
   "id": "419c0341",
   "metadata": {},
   "outputs": [
    {
     "data": {
      "text/plain": [
       "False"
      ]
     },
     "execution_count": 28,
     "metadata": {},
     "output_type": "execute_result"
    }
   ],
   "source": [
    "is_int_string(\"9.01\")"
   ]
  },
  {
   "cell_type": "code",
   "execution_count": 30,
   "id": "365ba97b",
   "metadata": {},
   "outputs": [
    {
     "data": {
      "text/plain": [
       "False"
      ]
     },
     "execution_count": 30,
     "metadata": {},
     "output_type": "execute_result"
    }
   ],
   "source": [
    "is_int_string(\"9-9.0\")"
   ]
  },
  {
   "cell_type": "code",
   "execution_count": 31,
   "id": "122a05e4",
   "metadata": {},
   "outputs": [
    {
     "data": {
      "text/plain": [
       "False"
      ]
     },
     "execution_count": 31,
     "metadata": {},
     "output_type": "execute_result"
    }
   ],
   "source": [
    "is_int_string(\"11.001\")"
   ]
  },
  {
   "cell_type": "code",
   "execution_count": 41,
   "id": "32de99ba",
   "metadata": {},
   "outputs": [
    {
     "data": {
      "text/plain": [
       "False"
      ]
     },
     "execution_count": 41,
     "metadata": {},
     "output_type": "execute_result"
    }
   ],
   "source": [
    "is_int_string(\".123\")"
   ]
  },
  {
   "cell_type": "code",
   "execution_count": 44,
   "id": "fcefbb2b",
   "metadata": {},
   "outputs": [
    {
     "data": {
      "text/plain": [
       "True"
      ]
     },
     "execution_count": 44,
     "metadata": {},
     "output_type": "execute_result"
    }
   ],
   "source": [
    "is_int_string(\"-0.00\")"
   ]
  }
 ],
 "metadata": {
  "kernelspec": {
   "display_name": "Python 3 (ipykernel)",
   "language": "python",
   "name": "python3"
  },
  "language_info": {
   "codemirror_mode": {
    "name": "ipython",
    "version": 3
   },
   "file_extension": ".py",
   "mimetype": "text/x-python",
   "name": "python",
   "nbconvert_exporter": "python",
   "pygments_lexer": "ipython3",
   "version": "3.8.10"
  }
 },
 "nbformat": 4,
 "nbformat_minor": 5
}
