{
 "cells": [
  {
   "cell_type": "markdown",
   "id": "bdf22fb3",
   "metadata": {},
   "source": [
    "## Remove EOL and space"
   ]
  },
  {
   "cell_type": "code",
   "execution_count": 1,
   "id": "019fa407",
   "metadata": {},
   "outputs": [
    {
     "data": {
      "text/plain": [
       "'takoikabinuni'"
      ]
     },
     "execution_count": 1,
     "metadata": {},
     "output_type": "execute_result"
    }
   ],
   "source": [
    "import string\n",
    "lines = \"\"\"\n",
    "\n",
    "  tako\n",
    "ika\n",
    "bin \n",
    "   uni  \n",
    "\"\"\"\n",
    "lines.replace('\\n', '').replace(' ', '')"
   ]
  },
  {
   "cell_type": "markdown",
   "id": "2d9fe8b8",
   "metadata": {},
   "source": [
    "## Remove EOL from multi-line string"
   ]
  },
  {
   "cell_type": "code",
   "execution_count": 2,
   "id": "21573739",
   "metadata": {},
   "outputs": [
    {
     "data": {
      "text/plain": [
       "'  takoikabin    uni  '"
      ]
     },
     "execution_count": 2,
     "metadata": {},
     "output_type": "execute_result"
    }
   ],
   "source": [
    "''.join(lines.splitlines())"
   ]
  }
 ],
 "metadata": {
  "kernelspec": {
   "display_name": "Python 3",
   "language": "python",
   "name": "python3"
  },
  "language_info": {
   "codemirror_mode": {
    "name": "ipython",
    "version": 3
   },
   "file_extension": ".py",
   "mimetype": "text/x-python",
   "name": "python",
   "nbconvert_exporter": "python",
   "pygments_lexer": "ipython3",
   "version": "3.8.8"
  }
 },
 "nbformat": 4,
 "nbformat_minor": 5
}
