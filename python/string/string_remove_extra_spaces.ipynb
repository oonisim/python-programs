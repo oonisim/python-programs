{
 "cells": [
  {
   "cell_type": "markdown",
   "id": "f61990a6",
   "metadata": {},
   "source": [
    "# Re-join split words"
   ]
  },
  {
   "cell_type": "code",
   "execution_count": 2,
   "id": "8044d04d",
   "metadata": {},
   "outputs": [
    {
     "data": {
      "text/plain": [
       "'I am a dog who has no name'"
      ]
     },
     "execution_count": 2,
     "metadata": {},
     "output_type": "execute_result"
    }
   ],
   "source": [
    "\" \".join(\"   I am a dog    who has no    name   \".split())"
   ]
  },
  {
   "cell_type": "markdown",
   "id": "6042ef85",
   "metadata": {},
   "source": [
    "# strip space on both ends"
   ]
  },
  {
   "cell_type": "code",
   "execution_count": 3,
   "id": "96a7c656",
   "metadata": {},
   "outputs": [
    {
     "data": {
      "text/plain": [
       "'I am a dog    who has no    name'"
      ]
     },
     "execution_count": 3,
     "metadata": {},
     "output_type": "execute_result"
    }
   ],
   "source": [
    "\"   I am a dog    who has no    name   \".strip()"
   ]
  }
 ],
 "metadata": {
  "kernelspec": {
   "display_name": "Python 3",
   "language": "python",
   "name": "python3"
  },
  "language_info": {
   "codemirror_mode": {
    "name": "ipython",
    "version": 3
   },
   "file_extension": ".py",
   "mimetype": "text/x-python",
   "name": "python",
   "nbconvert_exporter": "python",
   "pygments_lexer": "ipython3",
   "version": "3.8.8"
  }
 },
 "nbformat": 4,
 "nbformat_minor": 5
}
