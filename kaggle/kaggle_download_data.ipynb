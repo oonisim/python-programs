{
 "cells": [
  {
   "cell_type": "markdown",
   "id": "f9550629",
   "metadata": {},
   "source": [
    "# Downooad kaggle data using kaggle API"
   ]
  },
  {
   "cell_type": "markdown",
   "id": "878844f3",
   "metadata": {},
   "source": [
    "[Kaggle API](https://github.com/Kaggle/kaggle-api)\n"
   ]
  },
  {
   "cell_type": "markdown",
   "id": "c2eeacbc",
   "metadata": {},
   "source": [
    "# Installation"
   ]
  },
  {
   "cell_type": "code",
   "execution_count": 2,
   "id": "87b10718",
   "metadata": {},
   "outputs": [
    {
     "name": "stdout",
     "output_type": "stream",
     "text": [
      "pip install bash_kernel install kaggle install kaggle --quiet\n",
      "\u001b[?2004h"
     ]
    },
    {
     "ename": "",
     "evalue": "1",
     "output_type": "error",
     "traceback": []
    }
   ],
   "source": [
    "!pip install kaggle --quiet"
   ]
  },
  {
   "cell_type": "markdown",
   "id": "69295eb5",
   "metadata": {},
   "source": [
    "# API Key\n",
    "\n",
    "> In the [Kaggle account](https://www.kaggle.com) go to the 'Account' tab of your user profile ```https://www.kaggle.com/<username>/account```.\n",
    "    \n",
    "<img src=\"./image/kaggle_api_key.jpeg\" align=\"left\" width=750/>"
   ]
  },
  {
   "cell_type": "markdown",
   "id": "e382b251",
   "metadata": {},
   "source": [
    "# Download data\n",
    "\n",
    "\n",
    "```\n",
    "export KAGGLE_USERNAME=\n",
    "export KAGGLE_KEY=\n",
    "kaggle competitions download -c jigsaw-toxic-comment-classification-challenge\n",
    "```\n"
   ]
  },
  {
   "cell_type": "code",
   "execution_count": 10,
   "id": "c08265af",
   "metadata": {},
   "outputs": [
    {
     "name": "stdout",
     "output_type": "stream",
     "text": [
      "titanic.zip: Skipping, found more recently modified local copy (use --force to force download)\n",
      "\u001b[?2004h"
     ]
    },
    {
     "ename": "",
     "evalue": "1",
     "output_type": "error",
     "traceback": []
    }
   ],
   "source": [
    "export KAGGLE_USERNAME=$(cat ~/.secrets/kaggle/kaggle.json | jq -r '.username')\n",
    "export KAGGLE_KEY=$(cat ~/.secrets/kaggle/kaggle.json | jq -r '.key')\n",
    "\n",
    "kaggle competitions download -c titanic"
   ]
  },
  {
   "cell_type": "code",
   "execution_count": null,
   "id": "6d19c4ec",
   "metadata": {},
   "outputs": [],
   "source": [
    "unzip titanic.zip"
   ]
  },
  {
   "cell_type": "code",
   "execution_count": 9,
   "id": "84fd9473",
   "metadata": {},
   "outputs": [
    {
     "name": "stdout",
     "output_type": "stream",
     "text": [
      "PassengerId,Survived,Pclass,Name,Sex,Age,SibSp,Parch,Ticket,Fare,Cabin,Embarked\n",
      "1,0,3,\"Braund, Mr. Owen Harris\",male,22,1,0,A/5 21171,7.25,,S\n",
      "2,1,1,\"Cumings, Mrs. John Bradley (Florence Briggs Thayer)\",female,38,1,0,PC 17599,71.2833,C85,C\n",
      "3,1,3,\"Heikkinen, Miss. Laina\",female,26,0,0,STON/O2. 3101282,7.925,,S\n",
      "4,1,1,\"Futrelle, Mrs. Jacques Heath (Lily May Peel)\",female,35,1,0,113803,53.1,C123,S\n",
      "5,0,3,\"Allen, Mr. William Henry\",male,35,0,0,373450,8.05,,S\n",
      "6,0,3,\"Moran, Mr. James\",male,,0,0,330877,8.4583,,Q\n",
      "7,0,1,\"McCarthy, Mr. Timothy J\",male,54,0,0,17463,51.8625,E46,S\n",
      "8,0,3,\"Palsson, Master. Gosta Leonard\",male,2,3,1,349909,21.075,,S\n",
      "9,1,3,\"Johnson, Mrs. Oscar W (Elisabeth Vilhelmina Berg)\",female,27,0,2,347742,11.1333,,S\n",
      "\u001b[?2004h"
     ]
    },
    {
     "ename": "",
     "evalue": "1",
     "output_type": "error",
     "traceback": []
    }
   ],
   "source": [
    "cat train.csv | head"
   ]
  },
  {
   "cell_type": "code",
   "execution_count": null,
   "id": "af1275bb",
   "metadata": {},
   "outputs": [],
   "source": []
  }
 ],
 "metadata": {
  "kernelspec": {
   "display_name": "Bash",
   "language": "bash",
   "name": "bash"
  },
  "language_info": {
   "codemirror_mode": "shell",
   "file_extension": ".sh",
   "mimetype": "text/x-sh",
   "name": "bash"
  }
 },
 "nbformat": 4,
 "nbformat_minor": 5
}
