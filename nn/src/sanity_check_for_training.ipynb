{
 "cells": [
  {
   "cell_type": "markdown",
   "id": "087f409c-c01a-4816-8034-501efa4557c3",
   "metadata": {},
   "source": [
    "* [Stanford CS 232 - Lecture 6 | Training Neural Networks I - Babysitting the Learning Process](https://youtu.be/wEoyxE0GP2M?t=3882)"
   ]
  },
  {
   "cell_type": "code",
   "execution_count": null,
   "id": "3912de9c-d2b9-4c06-82a0-65416deb9b50",
   "metadata": {},
   "outputs": [],
   "source": []
  }
 ],
 "metadata": {
  "kernelspec": {
   "display_name": "Python 3 (ipykernel)",
   "language": "python",
   "name": "python3"
  },
  "language_info": {
   "codemirror_mode": {
    "name": "ipython",
    "version": 3
   },
   "file_extension": ".py",
   "mimetype": "text/x-python",
   "name": "python",
   "nbconvert_exporter": "python",
   "pygments_lexer": "ipython3",
   "version": "3.10.10"
  }
 },
 "nbformat": 4,
 "nbformat_minor": 5
}
