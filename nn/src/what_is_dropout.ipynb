{
 "cells": [
  {
   "cell_type": "markdown",
   "id": "882df75e-ecdc-46a6-852a-89b269c5eb36",
   "metadata": {},
   "source": [
    "# Misconception - Dropout kills/removes an entire Neuraon\n",
    "\n",
    "It is NOT true. Every neuron is active, just temporarily/randomly disabled at each forward and back-propagation training step. \n",
    "\n",
    "* [If dropout is going to remove neurons, why are those neurons built?](https://stats.stackexchange.com/a/590808/105137)\n",
    "\n",
    "> The neurons are only dropped **temporarily during training**. They are not dropped from the network altogether. It is just that it turns out that we get better weights if we randomly set them to zero, temporarily, so the other neurons \"think\" they cannot \"rely\" on the other neurons and have to \"perform well themselves\". The neural network that you get out **at the end contains all the neurons**.\n",
    "\n",
    ">the neurons that are dropped out are **randomly selected each time the weights are updated**. So while on each iteration only some of the neurons are used and updated, **over the entire training cycle all the neurons are trained**. According to Jason Brownlee's A Gentle Introduction to Dropout for Regularizing Deep Neural Networks, dropout can be thought of as training an ensemble of models in parallel.\n",
    "\n",
    "As in the PyTorch documentation, it is **NOT the entire neuron** that is zeroed out, but the **random sampled elements in each channel** (D features e.g. **single Token Embedding vector** in Transformer).\n",
    "\n",
    "* [PyTorch Dropout](https://pytorch.org/docs/stable/generated/torch.nn.Dropout.html)\n",
    "\n",
    "> The zeroed elements are chosen independently for **each forward call and are sampled** from a Bernoulli distribution.\n",
    "> Each **CHANNEL** will be zeroed out independently on every forward call.\n",
    "\n",
    "## Evidence from the implementaton\n",
    "\n",
    "As below, given ```X.shape: (N, D)``` and ```W.shape: (M, D)```, then ```H:shape = (N, M)```. The elements to be zeroed out are randomply sampled from ```(N, M)``` matrix. Therefore, a entire neuron of shape ```(M,)``` in ```H``` will NOT be entirely zeroed-out (removed). \n",
    "\n",
    "For instance, ```M``` is the dimension (num features) of a token embedding vector in Transformer. Only some of ```M``` features of a token embedding vector will be zeroed out. Hence the entire token will NOT be killed (zeroed out). Exception is when ```M==1``` such as a pixel in a MNIST digit image.\n",
    "\n",
    "<img src=\"../image/cs231n_dropout_summary.png\" align=\"left\"/>\n"
   ]
  },
  {
   "cell_type": "markdown",
   "id": "1c8377d3-26b5-468b-9528-db45f8540798",
   "metadata": {},
   "source": [
    "\n",
    "\n",
    "The diagram below is **misleading** by giving the impression that neurons get removed from the network.\n",
    "\n",
    "<img src=\"../image/incorrect_dropout_concept.png\" align=\"left\" width=250/>"
   ]
  },
  {
   "cell_type": "markdown",
   "id": "256a6855-20ce-4b86-ae8c-0bcdc6b3d4fe",
   "metadata": {},
   "source": [
    "\n",
    "* [Why Transformer applies Dropout after Positional Encoding?](https://datascience.stackexchange.com/a/128330/68313)\n",
    "\n",
    "> Normal dropout does not remove whole tokens, but individual values within the vectors. Therefore, dropout does not remove 10% of the tokens in a sequence, but 10% of the values."
   ]
  },
  {
   "attachments": {},
   "cell_type": "markdown",
   "id": "382733e4-e0de-471a-92d7-c0c353e57f3c",
   "metadata": {},
   "source": [
    "# Confusion - Not understood Neuron\n",
    "\n",
    "1. Input feature $x_i$ is a **float** value that can be multiplied with $w_i$ and summed.\n",
    "2. Neuron output is a **float** value that can be become next $x_i$ to the next neuron.\n",
    "\n",
    "```A neuron is zeroed out``` means the single float output value from the neuron is zero. **NOT** a token of 512 dimensions entirely gets zero.\n",
    "\n",
    "<img src=\"../image/neuron.png\" align=\"left\" width=500/>\n"
   ]
  },
  {
   "cell_type": "code",
   "execution_count": 33,
   "id": "5935a88d-62a1-4895-9710-3177de15f3c4",
   "metadata": {},
   "outputs": [],
   "source": [
    "import torch\n",
    "from torch import nn\n",
    "\n",
    "torch.set_printoptions(linewidth=200)"
   ]
  },
  {
   "cell_type": "code",
   "execution_count": 47,
   "id": "857dd90a-5ccf-44a2-a493-a02bd61d61de",
   "metadata": {},
   "outputs": [],
   "source": [
    "batch_size = B = 1\n",
    "sequence_length = T = 3\n",
    "\n",
    "num_neuron_inputs = D = 5\n",
    "num_neuron_output = M = 10\n",
    "\n",
    "W = torch.empty(M, D)\n",
    "W = nn.init.xavier_normal_(W)\n",
    "\n",
    "dropout = nn.Dropout(p=0.8)"
   ]
  },
  {
   "cell_type": "code",
   "execution_count": 48,
   "id": "1f423901-0abb-4ad8-8f55-7d3616d08431",
   "metadata": {},
   "outputs": [
    {
     "data": {
      "text/plain": [
       "tensor([[[-1.6580, -0.0353, -0.2425, -0.9521,  0.0614],\n",
       "         [-0.0311, -0.2362,  0.9842, -2.5837,  0.0133],\n",
       "         [ 1.2523, -0.6451,  0.3391, -0.3379,  0.8434]]])"
      ]
     },
     "execution_count": 48,
     "metadata": {},
     "output_type": "execute_result"
    }
   ],
   "source": [
    "x = torch.randn(B, T, D)\n",
    "x"
   ]
  },
  {
   "cell_type": "code",
   "execution_count": 49,
   "id": "588ef1ed-cb17-4e15-a81d-eddf01f3adde",
   "metadata": {},
   "outputs": [
    {
     "name": "stdout",
     "output_type": "stream",
     "text": [
      "tensor([[[-0.0000, -0.0000, -0.0000, -0.9587, -0.0000, -1.2734,  0.4255, -0.0000,  0.2696,  0.0000],\n",
      "         [-0.0000,  0.0000, -0.0000, -0.0000, -0.0000,  0.0000,  0.0000,  1.7183,  0.0000,  0.0000],\n",
      "         [-0.0000,  0.0000, -0.0000, -0.0000,  4.0362,  0.0000,  0.0000,  0.0000, -0.0000,  0.0000]]])\n"
     ]
    }
   ],
   "source": [
    "y = x@W.T\n",
    "z = dropout(y)  # Dropout randomly selects a float neuron output y(j) and zero-out.\n",
    "print(z)"
   ]
  },
  {
   "cell_type": "code",
   "execution_count": null,
   "id": "c111b727-4e7b-4f99-ae26-8ffcbdbf0caa",
   "metadata": {},
   "outputs": [],
   "source": []
  }
 ],
 "metadata": {
  "kernelspec": {
   "display_name": "Python 3 (ipykernel)",
   "language": "python",
   "name": "python3"
  },
  "language_info": {
   "codemirror_mode": {
    "name": "ipython",
    "version": 3
   },
   "file_extension": ".py",
   "mimetype": "text/x-python",
   "name": "python",
   "nbconvert_exporter": "python",
   "pygments_lexer": "ipython3",
   "version": "3.10.10"
  }
 },
 "nbformat": 4,
 "nbformat_minor": 5
}
