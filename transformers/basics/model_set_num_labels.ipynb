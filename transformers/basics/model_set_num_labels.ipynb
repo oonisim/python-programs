{
 "cells": [
  {
   "cell_type": "markdown",
   "id": "7692d03f",
   "metadata": {},
   "source": [
    "# Set and verify the number of labels \n",
    "\n",
    "Make sure the number of classes predicted from the model matches with the number of labels specified to the model.\n"
   ]
  },
  {
   "cell_type": "code",
   "execution_count": 1,
   "id": "a1babe48",
   "metadata": {},
   "outputs": [
    {
     "name": "stderr",
     "output_type": "stream",
     "text": [
      "2021-07-08 09:16:58.227350: W tensorflow/stream_executor/platform/default/dso_loader.cc:64] Could not load dynamic library 'libcudart.so.11.0'; dlerror: libcudart.so.11.0: cannot open shared object file: No such file or directory\n",
      "2021-07-08 09:16:58.227405: I tensorflow/stream_executor/cuda/cudart_stub.cc:29] Ignore above cudart dlerror if you do not have a GPU set up on your machine.\n"
     ]
    }
   ],
   "source": [
    "import os\n",
    "import sys\n",
    "import numpy as np\n",
    "import transformers\n",
    "from transformers import (\n",
    "    DistilBertTokenizerFast,\n",
    "    TFDistilBertModel,\n",
    "    TFDistilBertForSequenceClassification,\n",
    ")\n",
    "\n",
    "# --------------------------------------------------------------------------------\n",
    "# Control log level (https://huggingface.co/transformers/main_classes/logging.html)\n",
    "# --------------------------------------------------------------------------------\n",
    "os.environ['TRANSFORMERS_VERBOSITY'] = \"error\"\n",
    "transformers.logging.set_verbosity(transformers.logging.ERROR)"
   ]
  },
  {
   "cell_type": "code",
   "execution_count": 2,
   "id": "a66b2600",
   "metadata": {},
   "outputs": [],
   "source": [
    "MODEL_NAME = 'distilbert-base-uncased'\n",
    "NUM_LABELS = 2"
   ]
  },
  {
   "cell_type": "code",
   "execution_count": 4,
   "id": "ae84a027",
   "metadata": {},
   "outputs": [],
   "source": [
    "tokenizer = DistilBertTokenizerFast.from_pretrained(MODEL_NAME)\n",
    "\n",
    "\n",
    "def tokenize(sentences, max_length=256, padding='max_length'):\n",
    "    \"\"\"Tokenize using the Huggingface tokenizer\n",
    "    Args: \n",
    "        sentences: String or list of string to tokenize\n",
    "        padding: Padding method ['do_not_pad'|'longest'|'max_length']\n",
    "    \"\"\"\n",
    "    return tokenizer(\n",
    "        sentences,\n",
    "        truncation=True,\n",
    "        padding=padding,\n",
    "        max_length=max_length,\n",
    "        return_tensors=\"tf\"\n",
    "    )\n",
    "\n",
    "def decode(tokens):\n",
    "    return tokenizer.decode(tokens)"
   ]
  },
  {
   "cell_type": "code",
   "execution_count": 5,
   "id": "ae7d6444",
   "metadata": {},
   "outputs": [
    {
     "name": "stderr",
     "output_type": "stream",
     "text": [
      "2021-07-08 09:18:43.897050: W tensorflow/stream_executor/platform/default/dso_loader.cc:64] Could not load dynamic library 'libcuda.so.1'; dlerror: libcuda.so.1: cannot open shared object file: No such file or directory\n",
      "2021-07-08 09:18:43.898110: W tensorflow/stream_executor/cuda/cuda_driver.cc:326] failed call to cuInit: UNKNOWN ERROR (303)\n",
      "2021-07-08 09:18:43.898613: I tensorflow/stream_executor/cuda/cuda_diagnostics.cc:156] kernel driver does not appear to be running on this host (ubuntu): /proc/driver/nvidia/version does not exist\n",
      "2021-07-08 09:18:43.910730: I tensorflow/core/platform/cpu_feature_guard.cc:142] This TensorFlow binary is optimized with oneAPI Deep Neural Network Library (oneDNN) to use the following CPU instructions in performance-critical operations:  AVX2 FMA\n",
      "To enable them in other operations, rebuild TensorFlow with the appropriate compiler flags.\n"
     ]
    }
   ],
   "source": [
    "sample_tokens = tokenize(\n",
    "    [   # Two example seenteces\n",
    "        \"i say hello\", \n",
    "        \"you say good bye\",\n",
    "    ],\n",
    "    padding='longest'\n",
    ")"
   ]
  },
  {
   "cell_type": "markdown",
   "id": "ee1ad1b5",
   "metadata": {},
   "source": [
    "# Base model\n",
    "\n",
    "[TFDistilBertModel][2] is the bare base model with the name ```distilbert```.\n",
    "\n",
    "```\n",
    "Model: \"tf_distil_bert_model_1\"\n",
    "_________________________________________________________________\n",
    "Layer (type)                 Output Shape              Param #   \n",
    "=================================================================\n",
    "distilbert (TFDistilBertMain multiple                  66362880  \n",
    "=================================================================\n",
    "Total params: 66,362,880\n",
    "Trainable params: 66,362,880\n",
    "Non-trainable params: 0\n",
    "```\n",
    "\n",
    "[TFDistilBertModel][2] generates an instance of TFBaseModelOutput whose ```last_hidden_state``` parameter is the output from the model last layer. \n",
    "```\n",
    "TFBaseModelOutput([(\n",
    "    'last_hidden_state',\n",
    "    <tf.Tensor: shape=(batch_size, sequence_lendgth, 768), dtype=float32, numpy=array([[[...]]], dtype=float32)>\n",
    ")])\n",
    "```\n",
    "\n",
    "\n",
    "[2]: https://huggingface.co/transformers/main_classes/output.html#tfbasemodeloutput\\"
   ]
  },
  {
   "cell_type": "markdown",
   "id": "c8baeab6",
   "metadata": {},
   "source": [
    "Note that the **num_labels** parameter has no effect because the base model will not generate any classification. The outputs are simply logits to be further utilized for domain tasks. In another words, the base model is a flexible half-baked foundation for general purpose. "
   ]
  },
  {
   "cell_type": "code",
   "execution_count": 6,
   "id": "efb76c55",
   "metadata": {},
   "outputs": [
    {
     "name": "stderr",
     "output_type": "stream",
     "text": [
      "2021-07-08 09:18:53.357155: W tensorflow/python/util/util.cc:348] Sets are not currently considered sequences, but this may change in the future, so consider avoiding using them.\n"
     ]
    }
   ],
   "source": [
    "base = TFDistilBertModel.from_pretrained(\n",
    "    MODEL_NAME,\n",
    "    # num_labels=NUM_LABELS # No effect\n",
    ")"
   ]
  },
  {
   "cell_type": "code",
   "execution_count": 13,
   "id": "ce16b260",
   "metadata": {},
   "outputs": [
    {
     "name": "stdout",
     "output_type": "stream",
     "text": [
      "TFBaseModelOutput(last_hidden_state=<tf.Tensor: shape=(2, 6, 768), dtype=float32, numpy=\n",
      "array([[[-0.08046143, -0.05070581,  0.16511475, ...,  0.02624902,\n",
      "          0.32072207,  0.29028514],\n",
      "        [ 0.38065866,  0.14633194,  0.3267995 , ..., -0.03747689,\n",
      "          0.6750763 ,  0.26754186],\n",
      "        [-0.1375587 ,  0.23116127,  0.9399939 , ..., -0.4190007 ,\n",
      "          0.03066482,  0.14690849],\n",
      "        [-0.46870375, -0.15961105,  0.7064866 , ...,  0.09092102,\n",
      "          0.00915718, -0.02297045],\n",
      "        [ 0.9486712 ,  0.28354222, -0.34940282, ...,  0.22489336,\n",
      "         -0.41922688, -0.44231772],\n",
      "        [ 0.11706736,  0.02730646,  0.36414525, ...,  0.22984353,\n",
      "          0.05139103,  0.08807824]],\n",
      "\n",
      "       [[-0.13671048, -0.07976633,  0.13336904, ..., -0.09188621,\n",
      "          0.18120913,  0.14311402],\n",
      "        [-0.18604954,  0.00228937,  0.87482053, ...,  0.25758246,\n",
      "          0.51748097,  0.07797477],\n",
      "        [ 0.04087289,  0.11673979,  1.1603653 , ..., -0.4042866 ,\n",
      "          0.04986721,  0.20140134],\n",
      "        [ 0.49050537,  0.17764193,  1.6638    , ..., -0.2695243 ,\n",
      "         -0.1499706 , -0.04277875],\n",
      "        [ 0.9036836 , -0.19236305,  1.0621324 , ...,  0.18384327,\n",
      "         -0.4522894 ,  0.02702083],\n",
      "        [ 0.9119446 ,  0.19694908, -0.3403323 , ...,  0.13686906,\n",
      "         -0.48537385, -0.41167146]]], dtype=float32)>, hidden_states=None, attentions=None)\n"
     ]
    }
   ],
   "source": [
    "base_output = base(sample_tokens)\n",
    "print(base_output)"
   ]
  },
  {
   "cell_type": "markdown",
   "id": "6bdc787a",
   "metadata": {},
   "source": [
    "\n",
    "### [CLS] ###\n",
    "For classification tasks, extract the ```[CLS]``` embedding from ```last_hidden_state``` where each sentence is encoded into a sequence of embedding vectors of shape ```(max_sequence_length, 768)``` with the structure of ```[CLS]...[SEP]```. "
   ]
  },
  {
   "cell_type": "code",
   "execution_count": 16,
   "id": "e3f75231",
   "metadata": {},
   "outputs": [
    {
     "name": "stdout",
     "output_type": "stream",
     "text": [
      "tf.Tensor(\n",
      "[[-0.08046143 -0.05070581  0.16511475 ...  0.02624902  0.32072207\n",
      "   0.29028514]\n",
      " [-0.13671048 -0.07976633  0.13336904 ... -0.09188621  0.18120913\n",
      "   0.14311402]], shape=(2, 768), dtype=float32)\n"
     ]
    }
   ],
   "source": [
    "# Extract 0-th [CLS] embeddings from the batch resulting in shape (batch_size, 768)\n",
    "cls = base_output['last_hidden_state'][:, 0, :]\n",
    "print(cls)"
   ]
  },
  {
   "cell_type": "markdown",
   "id": "e97a0d2e",
   "metadata": {},
   "source": [
    "---\n",
    "# Model for Training\n",
    "\n",
    "Huggingfacxe provides [TFDistilBertForSequenceClassification][1] which has classification heads added on top of the base model.\n",
    "```\n",
    "Model: \"tf_distil_bert_for_sequence_classification_2\"\n",
    "_________________________________________________________________\n",
    "Layer (type)                 Output Shape              Param #   \n",
    "=================================================================\n",
    "distilbert (TFDistilBertMain multiple                  66362880  \n",
    "_________________________________________________________________\n",
    "pre_classifier (Dense)       multiple                  590592    \n",
    "_________________________________________________________________\n",
    "classifier (Dense)           multiple                  1538      \n",
    "_________________________________________________________________\n",
    "dropout_59 (Dropout)         multiple                  0         \n",
    "=================================================================\n",
    "Total params: 66,955,010\n",
    "Trainable params: 66,955,010\n",
    "Non-trainable params: 0\n",
    "```\n",
    "\n",
    "[1]: https://huggingface.co/transformers/model_doc/distilbert.html#tfdistilbertforsequenceclassification\n",
    "[3]: https://huggingface.co/transformers/model_doc/distilbert.html#tfdistilbertmodel"
   ]
  },
  {
   "cell_type": "markdown",
   "id": "6c5ddfe6",
   "metadata": {},
   "source": [
    "## Output classes\n",
    "\n",
    "Verify the number of classes the model generates matches with the NUM_LABELS specified at the model creation."
   ]
  },
  {
   "cell_type": "code",
   "execution_count": 10,
   "id": "0888289c",
   "metadata": {},
   "outputs": [
    {
     "name": "stdout",
     "output_type": "stream",
     "text": [
      "TFSequenceClassifierOutput(loss=None, logits=<tf.Tensor: shape=(2, 3), dtype=float32, numpy=\n",
      "array([[-0.02264021,  0.0062665 ,  0.00076615],\n",
      "       [-0.0365167 ,  0.02276366,  0.01284292]], dtype=float32)>, hidden_states=None, attentions=None)\n"
     ]
    }
   ],
   "source": [
    "NUM_LABELS = 3\n",
    "\n",
    "model = TFDistilBertForSequenceClassification.from_pretrained(\n",
    "    MODEL_NAME, \n",
    "    num_labels=NUM_LABELS    # Tell the model how many classes it needs to classify\n",
    ")\n",
    "output = model(sample_tokens)\n",
    "print(output)"
   ]
  },
  {
   "cell_type": "code",
   "execution_count": 9,
   "id": "7d15d8ff",
   "metadata": {},
   "outputs": [
    {
     "name": "stdout",
     "output_type": "stream",
     "text": [
      "output['logits'] [[-0.05688253 -0.05908322 -0.04925276]\n",
      " [-0.05387952 -0.07298677 -0.08901386]]\n",
      "output['logits'].shape (2, 3)\n"
     ]
    }
   ],
   "source": [
    "print(f\"output['logits'] {output['logits']}\")\n",
    "print(f\"output['logits'].shape {output['logits'].shape}\")\n",
    "\n",
    "assert output['logits'].shape[-1] == NUM_LABELS"
   ]
  },
  {
   "cell_type": "code",
   "execution_count": null,
   "id": "73386940",
   "metadata": {},
   "outputs": [],
   "source": []
  }
 ],
 "metadata": {
  "kernelspec": {
   "display_name": "Python 3 (ipykernel)",
   "language": "python",
   "name": "python3"
  },
  "language_info": {
   "codemirror_mode": {
    "name": "ipython",
    "version": 3
   },
   "file_extension": ".py",
   "mimetype": "text/x-python",
   "name": "python",
   "nbconvert_exporter": "python",
   "pygments_lexer": "ipython3",
   "version": "3.8.8"
  }
 },
 "nbformat": 4,
 "nbformat_minor": 5
}
