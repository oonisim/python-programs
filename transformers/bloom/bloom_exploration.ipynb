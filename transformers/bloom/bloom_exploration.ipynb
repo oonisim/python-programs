{
 "cells": [
  {
   "cell_type": "markdown",
   "id": "9fd2fa6e",
   "metadata": {},
   "source": [
    "# Huggingface Bloom 1b7 Deployment to SageMaker Endpoint\n",
    "\n",
    "* HuggingFace Model [bigscience/bloom-1b7](https://huggingface.co/bigscience/bloom-1b7)\n",
    "\n",
    "> BigScience, BigScience Language Open-science Open-access Multilingual (BLOOM) Language Model. International, May 2021-May 2022\n",
    "\n",
    "* [HuggingFace Inference Containers](https://github.com/aws/deep-learning-containers/blob/master/available_images.md#huggingface-inference-containers)\n",
    "| Framework | Job Type | CPU/GPU | Python Version Options | Example URL |\n",
    "|:---|:---|:---|:---|:---|\n",
    "| TensorFlow 2.11.0 with HuggingFace transformers | inference | GPU | 3.9 (py39) | 763104351884.dkr.ecr.us-east-1.amazonaws.com/huggingface-tensorflow-inference:2.11.0-transformers4.26.0-gpu-py39-cu112-ubuntu20.04 |\n",
    "| PyTorch 1.13.1 with HuggingFace transformers | inference | GPU | 3.9 (py39) | 763104351884.dkr.ecr.us-east-1.amazonaws.com/huggingface-pytorch-inference:1.13.1-transformers4.26.0-gpu-py39-cu117-ubuntu20.04 |\n"
   ]
  },
  {
   "cell_type": "code",
   "execution_count": 2,
   "id": "52ac63d2",
   "metadata": {},
   "outputs": [
    {
     "name": "stdout",
     "output_type": "stream",
     "text": [
      "\u001b[31mERROR: pip's dependency resolver does not currently take into account all the packages that are installed. This behaviour is the source of the following dependency conflicts.\n",
      "pytest-astropy 0.8.0 requires pytest-cov>=2.0, which is not installed.\n",
      "pytest-astropy 0.8.0 requires pytest-filter-subpackage>=0.1, which is not installed.\n",
      "awscli 1.27.104 requires rsa<4.8,>=3.1.2, but you have rsa 4.9 which is incompatible.\u001b[0m\u001b[31m\n",
      "\u001b[0m\u001b[33mWARNING: Running pip as the 'root' user can result in broken permissions and conflicting behaviour with the system package manager. It is recommended to use a virtual environment instead: https://pip.pypa.io/warnings/venv\u001b[0m\u001b[33m\n",
      "\u001b[0m"
     ]
    }
   ],
   "source": [
    "#!pip install \"sagemaker>=2.48.0\" --upgrade --quiet\n",
    "!pip install sagemaker  --upgrade --quiet"
   ]
  },
  {
   "cell_type": "code",
   "execution_count": 3,
   "id": "aa458b5a-f099-4f4c-8fc0-185d305a6e0e",
   "metadata": {
    "tags": []
   },
   "outputs": [
    {
     "name": "stdout",
     "output_type": "stream",
     "text": [
      "sagemaker role arn: arn:aws:iam::755863699032:role/service-role/AmazonSageMaker-ExecutionRole-20230320T140558\n"
     ]
    }
   ],
   "source": [
    "import sagemaker\n",
    "import boto3\n",
    "\n",
    "try:\n",
    "    role = sagemaker.get_execution_role()\n",
    "except ValueError:\n",
    "    iam = boto3.client('iam')\n",
    "    role = iam.get_role(RoleName='sagemaker_execution_role')['Role']['Arn']\n",
    "\n",
    "print(f\"sagemaker role arn: {role}\")"
   ]
  },
  {
   "cell_type": "code",
   "execution_count": 6,
   "id": "e3a808b0",
   "metadata": {
    "tags": []
   },
   "outputs": [],
   "source": [
    "from sagemaker.huggingface import HuggingFaceModel\n",
    "\n",
    "# Hub Model configuration. https://huggingface.co/models\n",
    "hub = {\n",
    "#   'HF_MODEL_ID':'bigscience/bloom-1b7', # model_id from hf.co/models\n",
    "  'HF_MODEL_ID':'bigscience/bloomz-1b7',      # model_id from hf.co/models\n",
    "  'HF_TASK':'text-generation'                      # NLP task you want to use for predictions\n",
    "}\n",
    "\n",
    "# Hugging Face Model Class\n",
    "# Take the versions from the availble HuggingFace DLC\n",
    "huggingface_model = HuggingFaceModel(\n",
    "   env=hub,\n",
    "   role=role,                   # iam role with permissions to create an Endpoint\n",
    "   transformers_version=\"4.26\", # transformers version used\n",
    "   pytorch_version=\"1.13\",      # pytorch version used\n",
    "   py_version=\"py39\",           # python version of the DLC\n",
    ")"
   ]
  },
  {
   "cell_type": "code",
   "execution_count": 7,
   "id": "0ebec762",
   "metadata": {
    "tags": []
   },
   "outputs": [
    {
     "name": "stdout",
     "output_type": "stream",
     "text": [
      "----------------!"
     ]
    }
   ],
   "source": [
    "# deploy model to SageMaker Inference\n",
    "predictor = huggingface_model.deploy(\n",
    "   initial_instance_count=1,\n",
    "   # instance_type=\"ml.m5.xlarge\"\n",
    "   instance_type=\"ml.g4dn.2xlarge\"\n",
    ")"
   ]
  },
  {
   "cell_type": "markdown",
   "id": "d304347d-882a-4670-bd6f-6ae486a9a9aa",
   "metadata": {
    "tags": []
   },
   "source": [
    "# keywords"
   ]
  },
  {
   "cell_type": "code",
   "execution_count": 153,
   "id": "8fa79239-9060-44f4-816e-8c866cfd9615",
   "metadata": {
    "tags": []
   },
   "outputs": [],
   "source": [
    "prompt = \"\"\"Keywords in English from the sentence. Keyword must be in English:\n",
    "Sentence:在新南威尔士州选举投票接近尾声之际，独立议员格林威治曾经谈到了如果他在未来州议会中握有举足轻重一票的潜在可能性。如果我们出现了一个少数政府中立议员，最重要的作用是为下届政府提供稳定性。这意味着我们必须考虑许多因素，那就是谁拥有最多的席位，是否有想做出改变的愿望。重要的是谁对我们州的未来有更好的想法？后来的事实证明，各方也许并不需要他的帮助。新南威尔士州工党需要赢得至少九个席位才能取得胜利，但忻州工党赢得了组建政府所需的最少四十七个席位。选票仍在计算当中，以确定工党是作为多数政府还是少数政府上台执政。分析人士预测，工党可能会在众议院九十三个席位中赢得多达五十个席位。澳大利亚总理阿尔巴尼斯缩短了在悉尼观看足球赛的时间。在周六晚上的胜利聚会上，介绍了忻州工党领袖冥思，他即将出任新州的四十七任州长。新南威尔士，中国人民齐心协力选择了更美好的未来。今晚，新南威尔士州开始了一个新时代，有了一位了不起的领导人。自第二次世界大战以来，新南威尔士州工党仅有两次从反对党变成执政党，一次是一九七六年在内维尔弗兰的领导下一次是一九九五年在鲍勃卡尔的领导下明思说工党打算充分利用他们重新执政的机会。没有们新南威尔士州人民投票决定建立一个将人民至于所有决策核心的政府我们不会让他们失望即将上任的州长将这次竞选活动描述为是未来选举的典范。我认为不可否认的是这场竞选活动也许是独一无二的是尊重和文明的典范任何一方都没有采取的捷手段两个政党都没有用非法手段打击对方我认为这可以成为在这个国家实现民主的一个榜样。随着工党在新南威尔士州的成功工党现在已经完成了人们所称的对澳大利亚大陆各州和联邦政坛的一网打尽。塔斯马尼亚是唯一一个由自由党领导的周由洛克利夫领导澳大利亚前总理霍华德在悉尼希尔顿酒店出席了联盟党的活动。他拒绝对工党的新统治地位对联盟党意味着什么发表看法。他告诉记者说，做出相关推测应该是别人的事。我现在谈论这个为时过早。我只想说，我不是来代表自由党发表声明的，那是州长的事儿，但我非常钦佩佩洛提他在极其困难的情况下接任，并以英勇的方式进行了竞选。联盟党的议员和厅长们告诉记者，在生活成本危机中想要连续第四次执政肯定是一场艰苦的战斗。但即将离任的州长佩洛提告诉自由党的忠实支持者说，联盟党让新南威尔士州成了一个更加自信和成功的周。他说他尊重选举结果。他说新南威尔士州伟大的人民今晚决定在忻州选举一个工党政府。我们尊重这个决定。竞选过程可能会很丑陋，但我相信这次的选举是一场高层次的竞赛，是一场真正的思想交锋，这是政治所处的最佳状态。佩罗提也证实，他将辞去自由党领袖，一直为前财政厅长马特吉安敞开大门。人们普遍预计他将争取获得忻州联盟党的领导地位。基恩拒绝证实他是否考虑参选，称现在下结论还为时过早。\n",
    "Keywords in English: \n",
    "\"\"\""
   ]
  },
  {
   "cell_type": "code",
   "execution_count": 154,
   "id": "b3c8f606-573a-4f47-b3fd-547e9ead6109",
   "metadata": {
    "tags": []
   },
   "outputs": [],
   "source": [
    "# prompt = \"\"\"概括句子. 新南威尔士州选举投票接近尾声之际，独立议员格林威治曾经谈到了如果他在未来州议会中握有举足轻重一票的潜在可能性。如果我们出现了一个少数政府中立议员，最重要的作用是为下届政府提供稳定性。这意味着我们必须考虑许多因素，那就是谁拥有最多的席位，是否有想做出改变的愿望。重要的是谁对我们州的未来有更好的想法？后来的事实证明，各方也许并不需要他的帮助。新南威尔士州工党需要赢得至少九个席位才能取得胜利，但忻州工党赢得了组建政府所需的最少四十七个席位。选票仍在计算当中，以确定工党是作为多数政府还是少数政府上台执政。分析人士预测，工党可能会在众议院九十三个席位中赢得多达五十个席位。澳大利亚总理阿尔巴尼斯缩短了在悉尼观看足球赛的时间。在周六晚上的胜利聚会上，介绍了忻州工党领袖冥思，他即将出任新州的四十七任州长。新南威尔士，中国人民齐心协力选择了更美好的未来。今晚，新南威尔士州开始了一个新时代，有了一位了不起的领导人。自第二次世界大战以来，新南威尔士州工党仅有两次从反对党变成执政党，一次是一九七六年在内维尔弗兰的领导下一次是一九九五年在鲍勃卡尔的领导下明思说工党打算充分利用他们重新执政的机会。没有们新南威尔士州人民投票决定建立一个将人民至于所有决策核心的政府我们不会让他们失望即将上任的州长将这次竞选活动描述为是未来选举的典范。我认为不可否认的是这场竞选活动也许是独一无二的是尊重和文明的典范任何一方都没有采取的捷手段两个政党都没有用非法手段打击对方我认为这可以成为在这个国家实现民主的一个榜样。随着工党在新南威尔士州的成功工党现在已经完成了人们所称的对澳大利亚大陆各州和联邦政坛的一网打尽。塔斯马尼亚是唯一一个由自由党领导的周由洛克利夫领导澳大利亚前总理霍华德在悉尼希尔顿酒店出席了联盟党的活动。他拒绝对工党的新统治地位对联盟党意味着什么发表看法。他告诉记者说，做出相关推测应该是别人的事。我现在谈论这个为时过早。我只想说，我不是来代表自由党发表声明的，那是州长的事儿，但我非常钦佩佩洛提他在极其困难的情况下接任，并以英勇的方式进行了竞选。联盟党的议员和厅长们告诉记者，在生活成本危机中想要连续第四次执政肯定是一场艰苦的战斗。但即将离任的州长佩洛提告诉自由党的忠实支持者说，联盟党让新南威尔士州成了一个更加自信和成功的周。他说他尊重选举结果。他说新南威尔士州伟大的人民今晚决定在忻州选举一个工党政府。我们尊重这个决定。竞选过程可能会很丑陋，但我相信这次的选举是一场高层次的竞赛，是一场真正的思想交锋，这是政治所处的最佳状态。佩罗提也证实，他将辞去自由党领袖，一直为前财政厅长马特吉安敞开大门。人们普遍预计他将争取获得忻州联盟党的领导地位。基恩拒绝证实他是否考虑参选，称现在下结论还为时过早。\n",
    "# \"\"\"\n"
   ]
  },
  {
   "cell_type": "code",
   "execution_count": 156,
   "id": "a951b6c9-fd6d-4047-8068-9c238664118d",
   "metadata": {
    "tags": []
   },
   "outputs": [
    {
     "name": "stdout",
     "output_type": "stream",
     "text": [
      "New South Wales, Australia - The Australian people have chosen a new government\n"
     ]
    }
   ],
   "source": [
    "request = {\n",
    "    \"inputs\": prompt,\n",
    "    \"parameters\": {\n",
    "        \"return_full_text\": False,\n",
    "        \"repetition_penalty\": 50.0,\n",
    "#        \"do_sample\": False, \n",
    "        \"min_new_tokens\": 10,\n",
    "        \"max_new_tokens\": 50,\n",
    "#        \"min_length\": 50,\n",
    "#        \"max_length\": 15\n",
    "#        \" top_k\": 50, \n",
    "#        \"top_p\": 0.9\n",
    "    }\n",
    "}\n",
    "response = predictor.predict(request)\n",
    "print(response[0]['generated_text'])"
   ]
  },
  {
   "cell_type": "markdown",
   "id": "dd7bfe9a-f826-4d8c-aa5b-0a9bd579d6de",
   "metadata": {},
   "source": [
    "# Summarization"
   ]
  },
  {
   "cell_type": "code",
   "execution_count": 148,
   "id": "91051652-718b-49ae-af72-50837abfb581",
   "metadata": {
    "tags": []
   },
   "outputs": [
    {
     "name": "stdout",
     "output_type": "stream",
     "text": [
      "根据最新民调显示：\n"
     ]
    }
   ],
   "source": [
    "prompt = \"\"\"Summarize the sentence. Summary must be in English:\n",
    "Sentence:在新南威尔士州选举投票接近尾声之际，独立议员格林威治曾经谈到了如果他在未来州议会中握有举足轻重一票的潜在可能性。如果我们出现了一个少数政府中立议员，最重要的作用是为下届政府提供稳定性。这意味着我们必须考虑许多因素，那就是谁拥有最多的席位，是否有想做出改变的愿望。重要的是谁对我们州的未来有更好的想法？后来的事实证明，各方也许并不需要他的帮助。新南威尔士州工党需要赢得至少九个席位才能取得胜利，但忻州工党赢得了组建政府所需的最少四十七个席位。选票仍在计算当中，以确定工党是作为多数政府还是少数政府上台执政。分析人士预测，工党可能会在众议院九十三个席位中赢得多达五十个席位。澳大利亚总理阿尔巴尼斯缩短了在悉尼观看足球赛的时间。在周六晚上的胜利聚会上，介绍了忻州工党领袖冥思，他即将出任新州的四十七任州长。新南威尔士，中国人民齐心协力选择了更美好的未来。今晚，新南威尔士州开始了一个新时代，有了一位了不起的领导人。自第二次世界大战以来，新南威尔士州工党仅有两次从反对党变成执政党，一次是一九七六年在内维尔弗兰的领导下一次是一九九五年在鲍勃卡尔的领导下明思说工党打算充分利用他们重新执政的机会。没有们新南威尔士州人民投票决定建立一个将人民至于所有决策核心的政府我们不会让他们失望即将上任的州长将这次竞选活动描述为是未来选举的典范。我认为不可否认的是这场竞选活动也许是独一无二的是尊重和文明的典范任何一方都没有采取的捷手段两个政党都没有用非法手段打击对方我认为这可以成为在这个国家实现民主的一个榜样。随着工党在新南威尔士州的成功工党现在已经完成了人们所称的对澳大利亚大陆各州和联邦政坛的一网打尽。塔斯马尼亚是唯一一个由自由党领导的周由洛克利夫领导澳大利亚前总理霍华德在悉尼希尔顿酒店出席了联盟党的活动。他拒绝对工党的新统治地位对联盟党意味着什么发表看法。他告诉记者说，做出相关推测应该是别人的事。我现在谈论这个为时过早。我只想说，我不是来代表自由党发表声明的，那是州长的事儿，但我非常钦佩佩洛提他在极其困难的情况下接任，并以英勇的方式进行了竞选。联盟党的议员和厅长们告诉记者，在生活成本危机中想要连续第四次执政肯定是一场艰苦的战斗。但即将离任的州长佩洛提告诉自由党的忠实支持者说，联盟党让新南威尔士州成了一个更加自信和成功的周。他说他尊重选举结果。他说新南威尔士州伟大的人民今晚决定在忻州选举一个工党政府。我们尊重这个决定。竞选过程可能会很丑陋，但我相信这次的选举是一场高层次的竞赛，是一场真正的思想交锋，这是政治所处的最佳状态。佩罗提也证实，他将辞去自由党领袖，一直为前财政厅长马特吉安敞开大门。人们普遍预计他将争取获得忻州联盟党的领导地位。基恩拒绝证实他是否考虑参选，称现在下结论还为时过早。\n",
    "Summary in English: \n",
    "\"\"\"\n",
    "\n",
    "request = {\n",
    "    \"inputs\": prompt,\n",
    "    \"parameters\": {\n",
    "        \"return_full_text\": False,\n",
    "        \"repetition_penalty\": 50.0,\n",
    "#        \"do_sample\": False, \n",
    "#        \"min_new_tokens\": 10,\n",
    "        \"max_new_tokens\": 100,\n",
    "#        \"min_length\": 50,\n",
    "#        \"max_length\": 15\n",
    "#        \" top_k\": 50, \n",
    "#        \"top_p\": 0.9\n",
    "    }\n",
    "}\n",
    "response = predictor.predict(request)\n",
    "print(response[0]['generated_text'])"
   ]
  },
  {
   "cell_type": "markdown",
   "id": "0bfa25c1-5596-4a7f-8884-5c20cbc5aaac",
   "metadata": {},
   "source": [
    "# Code Generation"
   ]
  },
  {
   "cell_type": "code",
   "execution_count": 93,
   "id": "2f1f8198-6665-496d-bb57-bb35fa1a4a02",
   "metadata": {
    "tags": []
   },
   "outputs": [
    {
     "name": "stdout",
     "output_type": "stream",
     "text": [
      "System out = new java::lang :: PrintStream() ; \n",
      "print ( \"Hello \" +  \"World!\\n\" )\n"
     ]
    }
   ],
   "source": [
    "prompt = \"\"\"C: printf(\"Hello, World!\");\n",
    "Python: print(\"hello world\")\n",
    "Java: System.out.println(\"Hello world\")\n",
    "R:\n",
    "\"\"\"\n",
    "\n",
    "request = {\n",
    "    \"inputs\": prompt,\n",
    "    \"parameters\": {\n",
    "        \"return_full_text\": False,\n",
    "        \"repetition_penalty\": 10.0,\n",
    "        \"do_sample\": False, \n",
    "        \"min_new_tokens\": 20,\n",
    "        \"max_new_tokens\": 50,\n",
    "        \"min_length\": 20,\n",
    "    }\n",
    "}\n",
    "\n",
    "response = predictor.predict(request)\n",
    "print(response[0]['generated_text'])"
   ]
  },
  {
   "cell_type": "markdown",
   "id": "c705ecc2-d11b-46df-8196-1820d14c217d",
   "metadata": {},
   "source": [
    "# Translation"
   ]
  },
  {
   "cell_type": "code",
   "execution_count": 94,
   "id": "aeed3ae4-cad8-484c-a2db-fa74494516be",
   "metadata": {
    "tags": []
   },
   "outputs": [
    {
     "name": "stdout",
     "output_type": "stream",
     "text": [
      " El gobierno está abogando por un aumento salarial que detenga la pérdida de puestos laborales para los trabajadores más bajos y las empresas han expresado sus preocupaciones sobre el alza en impuestos al trabajo\n"
     ]
    }
   ],
   "source": [
    "prompt = \"To say 'The federal government is advocating for a pay rise that stops low-paid workers going backwards, but business groups have expressed concerns about higher wage bills.' in Spanish, you would say:\"\n",
    "\n",
    "request = {\n",
    "    \"inputs\": prompt,\n",
    "    \"parameters\": {\n",
    "        \"return_full_text\": False,\n",
    "        \"repetition_penalty\": 10.0,\n",
    "        \"do_sample\": False, \n",
    "        \"min_new_tokens\": 20,\n",
    "        \"max_new_tokens\": 50,\n",
    "        \"min_length\": 20,\n",
    "    }\n",
    "}\n",
    "\n",
    "response = predictor.predict(request)\n",
    "print(response[0]['generated_text'])"
   ]
  },
  {
   "cell_type": "markdown",
   "id": "c93d5b3b-fb92-4d1b-9c4c-b85dcd726acb",
   "metadata": {},
   "source": [
    "# Text generation "
   ]
  },
  {
   "cell_type": "code",
   "execution_count": 95,
   "id": "67a487a6-1c71-4f29-980d-fed271ec045d",
   "metadata": {
    "tags": []
   },
   "outputs": [
    {
     "data": {
      "text/plain": [
       "[{'generated_text': ' a natural disaster that occurs when the Earth moves in an unusually strong way. The Japanese government has designated it as one of their top five national disasters'}]"
      ]
     },
     "execution_count": 95,
     "metadata": {},
     "output_type": "execute_result"
    }
   ],
   "source": [
    "predictor.predict({\n",
    "    'inputs': \"In Japan, earthquake is\",\n",
    "    \"parameters\": {\n",
    "        \"return_full_text\": False,\n",
    "        \"repetition_penalty\": 10.0,\n",
    "        \"do_sample\": False, \n",
    "        \"min_new_tokens\": 20,\n",
    "        \"max_new_tokens\": 50,\n",
    "        \"min_length\": 20,\n",
    "    }\n",
    "})"
   ]
  },
  {
   "cell_type": "markdown",
   "id": "47e432c3-4c47-47eb-8796-d918d58ad6fd",
   "metadata": {},
   "source": [
    "# Clean up"
   ]
  },
  {
   "cell_type": "code",
   "execution_count": 157,
   "id": "11576c91",
   "metadata": {
    "tags": []
   },
   "outputs": [],
   "source": [
    "# delete endpoint\n",
    "predictor.delete_model()\n",
    "predictor.delete_endpoint()"
   ]
  },
  {
   "cell_type": "code",
   "execution_count": null,
   "id": "3a72d060-1d43-471e-ad9a-c4b5258f2145",
   "metadata": {},
   "outputs": [],
   "source": []
  }
 ],
 "metadata": {
  "availableInstances": [
   {
    "_defaultOrder": 0,
    "_isFastLaunch": true,
    "category": "General purpose",
    "gpuNum": 0,
    "hideHardwareSpecs": false,
    "memoryGiB": 4,
    "name": "ml.t3.medium",
    "vcpuNum": 2
   },
   {
    "_defaultOrder": 1,
    "_isFastLaunch": false,
    "category": "General purpose",
    "gpuNum": 0,
    "hideHardwareSpecs": false,
    "memoryGiB": 8,
    "name": "ml.t3.large",
    "vcpuNum": 2
   },
   {
    "_defaultOrder": 2,
    "_isFastLaunch": false,
    "category": "General purpose",
    "gpuNum": 0,
    "hideHardwareSpecs": false,
    "memoryGiB": 16,
    "name": "ml.t3.xlarge",
    "vcpuNum": 4
   },
   {
    "_defaultOrder": 3,
    "_isFastLaunch": false,
    "category": "General purpose",
    "gpuNum": 0,
    "hideHardwareSpecs": false,
    "memoryGiB": 32,
    "name": "ml.t3.2xlarge",
    "vcpuNum": 8
   },
   {
    "_defaultOrder": 4,
    "_isFastLaunch": true,
    "category": "General purpose",
    "gpuNum": 0,
    "hideHardwareSpecs": false,
    "memoryGiB": 8,
    "name": "ml.m5.large",
    "vcpuNum": 2
   },
   {
    "_defaultOrder": 5,
    "_isFastLaunch": false,
    "category": "General purpose",
    "gpuNum": 0,
    "hideHardwareSpecs": false,
    "memoryGiB": 16,
    "name": "ml.m5.xlarge",
    "vcpuNum": 4
   },
   {
    "_defaultOrder": 6,
    "_isFastLaunch": false,
    "category": "General purpose",
    "gpuNum": 0,
    "hideHardwareSpecs": false,
    "memoryGiB": 32,
    "name": "ml.m5.2xlarge",
    "vcpuNum": 8
   },
   {
    "_defaultOrder": 7,
    "_isFastLaunch": false,
    "category": "General purpose",
    "gpuNum": 0,
    "hideHardwareSpecs": false,
    "memoryGiB": 64,
    "name": "ml.m5.4xlarge",
    "vcpuNum": 16
   },
   {
    "_defaultOrder": 8,
    "_isFastLaunch": false,
    "category": "General purpose",
    "gpuNum": 0,
    "hideHardwareSpecs": false,
    "memoryGiB": 128,
    "name": "ml.m5.8xlarge",
    "vcpuNum": 32
   },
   {
    "_defaultOrder": 9,
    "_isFastLaunch": false,
    "category": "General purpose",
    "gpuNum": 0,
    "hideHardwareSpecs": false,
    "memoryGiB": 192,
    "name": "ml.m5.12xlarge",
    "vcpuNum": 48
   },
   {
    "_defaultOrder": 10,
    "_isFastLaunch": false,
    "category": "General purpose",
    "gpuNum": 0,
    "hideHardwareSpecs": false,
    "memoryGiB": 256,
    "name": "ml.m5.16xlarge",
    "vcpuNum": 64
   },
   {
    "_defaultOrder": 11,
    "_isFastLaunch": false,
    "category": "General purpose",
    "gpuNum": 0,
    "hideHardwareSpecs": false,
    "memoryGiB": 384,
    "name": "ml.m5.24xlarge",
    "vcpuNum": 96
   },
   {
    "_defaultOrder": 12,
    "_isFastLaunch": false,
    "category": "General purpose",
    "gpuNum": 0,
    "hideHardwareSpecs": false,
    "memoryGiB": 8,
    "name": "ml.m5d.large",
    "vcpuNum": 2
   },
   {
    "_defaultOrder": 13,
    "_isFastLaunch": false,
    "category": "General purpose",
    "gpuNum": 0,
    "hideHardwareSpecs": false,
    "memoryGiB": 16,
    "name": "ml.m5d.xlarge",
    "vcpuNum": 4
   },
   {
    "_defaultOrder": 14,
    "_isFastLaunch": false,
    "category": "General purpose",
    "gpuNum": 0,
    "hideHardwareSpecs": false,
    "memoryGiB": 32,
    "name": "ml.m5d.2xlarge",
    "vcpuNum": 8
   },
   {
    "_defaultOrder": 15,
    "_isFastLaunch": false,
    "category": "General purpose",
    "gpuNum": 0,
    "hideHardwareSpecs": false,
    "memoryGiB": 64,
    "name": "ml.m5d.4xlarge",
    "vcpuNum": 16
   },
   {
    "_defaultOrder": 16,
    "_isFastLaunch": false,
    "category": "General purpose",
    "gpuNum": 0,
    "hideHardwareSpecs": false,
    "memoryGiB": 128,
    "name": "ml.m5d.8xlarge",
    "vcpuNum": 32
   },
   {
    "_defaultOrder": 17,
    "_isFastLaunch": false,
    "category": "General purpose",
    "gpuNum": 0,
    "hideHardwareSpecs": false,
    "memoryGiB": 192,
    "name": "ml.m5d.12xlarge",
    "vcpuNum": 48
   },
   {
    "_defaultOrder": 18,
    "_isFastLaunch": false,
    "category": "General purpose",
    "gpuNum": 0,
    "hideHardwareSpecs": false,
    "memoryGiB": 256,
    "name": "ml.m5d.16xlarge",
    "vcpuNum": 64
   },
   {
    "_defaultOrder": 19,
    "_isFastLaunch": false,
    "category": "General purpose",
    "gpuNum": 0,
    "hideHardwareSpecs": false,
    "memoryGiB": 384,
    "name": "ml.m5d.24xlarge",
    "vcpuNum": 96
   },
   {
    "_defaultOrder": 20,
    "_isFastLaunch": false,
    "category": "General purpose",
    "gpuNum": 0,
    "hideHardwareSpecs": true,
    "memoryGiB": 0,
    "name": "ml.geospatial.interactive",
    "supportedImageNames": [
     "sagemaker-geospatial-v1-0"
    ],
    "vcpuNum": 0
   },
   {
    "_defaultOrder": 21,
    "_isFastLaunch": true,
    "category": "Compute optimized",
    "gpuNum": 0,
    "hideHardwareSpecs": false,
    "memoryGiB": 4,
    "name": "ml.c5.large",
    "vcpuNum": 2
   },
   {
    "_defaultOrder": 22,
    "_isFastLaunch": false,
    "category": "Compute optimized",
    "gpuNum": 0,
    "hideHardwareSpecs": false,
    "memoryGiB": 8,
    "name": "ml.c5.xlarge",
    "vcpuNum": 4
   },
   {
    "_defaultOrder": 23,
    "_isFastLaunch": false,
    "category": "Compute optimized",
    "gpuNum": 0,
    "hideHardwareSpecs": false,
    "memoryGiB": 16,
    "name": "ml.c5.2xlarge",
    "vcpuNum": 8
   },
   {
    "_defaultOrder": 24,
    "_isFastLaunch": false,
    "category": "Compute optimized",
    "gpuNum": 0,
    "hideHardwareSpecs": false,
    "memoryGiB": 32,
    "name": "ml.c5.4xlarge",
    "vcpuNum": 16
   },
   {
    "_defaultOrder": 25,
    "_isFastLaunch": false,
    "category": "Compute optimized",
    "gpuNum": 0,
    "hideHardwareSpecs": false,
    "memoryGiB": 72,
    "name": "ml.c5.9xlarge",
    "vcpuNum": 36
   },
   {
    "_defaultOrder": 26,
    "_isFastLaunch": false,
    "category": "Compute optimized",
    "gpuNum": 0,
    "hideHardwareSpecs": false,
    "memoryGiB": 96,
    "name": "ml.c5.12xlarge",
    "vcpuNum": 48
   },
   {
    "_defaultOrder": 27,
    "_isFastLaunch": false,
    "category": "Compute optimized",
    "gpuNum": 0,
    "hideHardwareSpecs": false,
    "memoryGiB": 144,
    "name": "ml.c5.18xlarge",
    "vcpuNum": 72
   },
   {
    "_defaultOrder": 28,
    "_isFastLaunch": false,
    "category": "Compute optimized",
    "gpuNum": 0,
    "hideHardwareSpecs": false,
    "memoryGiB": 192,
    "name": "ml.c5.24xlarge",
    "vcpuNum": 96
   },
   {
    "_defaultOrder": 29,
    "_isFastLaunch": true,
    "category": "Accelerated computing",
    "gpuNum": 1,
    "hideHardwareSpecs": false,
    "memoryGiB": 16,
    "name": "ml.g4dn.xlarge",
    "vcpuNum": 4
   },
   {
    "_defaultOrder": 30,
    "_isFastLaunch": false,
    "category": "Accelerated computing",
    "gpuNum": 1,
    "hideHardwareSpecs": false,
    "memoryGiB": 32,
    "name": "ml.g4dn.2xlarge",
    "vcpuNum": 8
   },
   {
    "_defaultOrder": 31,
    "_isFastLaunch": false,
    "category": "Accelerated computing",
    "gpuNum": 1,
    "hideHardwareSpecs": false,
    "memoryGiB": 64,
    "name": "ml.g4dn.4xlarge",
    "vcpuNum": 16
   },
   {
    "_defaultOrder": 32,
    "_isFastLaunch": false,
    "category": "Accelerated computing",
    "gpuNum": 1,
    "hideHardwareSpecs": false,
    "memoryGiB": 128,
    "name": "ml.g4dn.8xlarge",
    "vcpuNum": 32
   },
   {
    "_defaultOrder": 33,
    "_isFastLaunch": false,
    "category": "Accelerated computing",
    "gpuNum": 4,
    "hideHardwareSpecs": false,
    "memoryGiB": 192,
    "name": "ml.g4dn.12xlarge",
    "vcpuNum": 48
   },
   {
    "_defaultOrder": 34,
    "_isFastLaunch": false,
    "category": "Accelerated computing",
    "gpuNum": 1,
    "hideHardwareSpecs": false,
    "memoryGiB": 256,
    "name": "ml.g4dn.16xlarge",
    "vcpuNum": 64
   },
   {
    "_defaultOrder": 35,
    "_isFastLaunch": false,
    "category": "Accelerated computing",
    "gpuNum": 1,
    "hideHardwareSpecs": false,
    "memoryGiB": 61,
    "name": "ml.p3.2xlarge",
    "vcpuNum": 8
   },
   {
    "_defaultOrder": 36,
    "_isFastLaunch": false,
    "category": "Accelerated computing",
    "gpuNum": 4,
    "hideHardwareSpecs": false,
    "memoryGiB": 244,
    "name": "ml.p3.8xlarge",
    "vcpuNum": 32
   },
   {
    "_defaultOrder": 37,
    "_isFastLaunch": false,
    "category": "Accelerated computing",
    "gpuNum": 8,
    "hideHardwareSpecs": false,
    "memoryGiB": 488,
    "name": "ml.p3.16xlarge",
    "vcpuNum": 64
   },
   {
    "_defaultOrder": 38,
    "_isFastLaunch": false,
    "category": "Accelerated computing",
    "gpuNum": 8,
    "hideHardwareSpecs": false,
    "memoryGiB": 768,
    "name": "ml.p3dn.24xlarge",
    "vcpuNum": 96
   },
   {
    "_defaultOrder": 39,
    "_isFastLaunch": false,
    "category": "Memory Optimized",
    "gpuNum": 0,
    "hideHardwareSpecs": false,
    "memoryGiB": 16,
    "name": "ml.r5.large",
    "vcpuNum": 2
   },
   {
    "_defaultOrder": 40,
    "_isFastLaunch": false,
    "category": "Memory Optimized",
    "gpuNum": 0,
    "hideHardwareSpecs": false,
    "memoryGiB": 32,
    "name": "ml.r5.xlarge",
    "vcpuNum": 4
   },
   {
    "_defaultOrder": 41,
    "_isFastLaunch": false,
    "category": "Memory Optimized",
    "gpuNum": 0,
    "hideHardwareSpecs": false,
    "memoryGiB": 64,
    "name": "ml.r5.2xlarge",
    "vcpuNum": 8
   },
   {
    "_defaultOrder": 42,
    "_isFastLaunch": false,
    "category": "Memory Optimized",
    "gpuNum": 0,
    "hideHardwareSpecs": false,
    "memoryGiB": 128,
    "name": "ml.r5.4xlarge",
    "vcpuNum": 16
   },
   {
    "_defaultOrder": 43,
    "_isFastLaunch": false,
    "category": "Memory Optimized",
    "gpuNum": 0,
    "hideHardwareSpecs": false,
    "memoryGiB": 256,
    "name": "ml.r5.8xlarge",
    "vcpuNum": 32
   },
   {
    "_defaultOrder": 44,
    "_isFastLaunch": false,
    "category": "Memory Optimized",
    "gpuNum": 0,
    "hideHardwareSpecs": false,
    "memoryGiB": 384,
    "name": "ml.r5.12xlarge",
    "vcpuNum": 48
   },
   {
    "_defaultOrder": 45,
    "_isFastLaunch": false,
    "category": "Memory Optimized",
    "gpuNum": 0,
    "hideHardwareSpecs": false,
    "memoryGiB": 512,
    "name": "ml.r5.16xlarge",
    "vcpuNum": 64
   },
   {
    "_defaultOrder": 46,
    "_isFastLaunch": false,
    "category": "Memory Optimized",
    "gpuNum": 0,
    "hideHardwareSpecs": false,
    "memoryGiB": 768,
    "name": "ml.r5.24xlarge",
    "vcpuNum": 96
   },
   {
    "_defaultOrder": 47,
    "_isFastLaunch": false,
    "category": "Accelerated computing",
    "gpuNum": 1,
    "hideHardwareSpecs": false,
    "memoryGiB": 16,
    "name": "ml.g5.xlarge",
    "vcpuNum": 4
   },
   {
    "_defaultOrder": 48,
    "_isFastLaunch": false,
    "category": "Accelerated computing",
    "gpuNum": 1,
    "hideHardwareSpecs": false,
    "memoryGiB": 32,
    "name": "ml.g5.2xlarge",
    "vcpuNum": 8
   },
   {
    "_defaultOrder": 49,
    "_isFastLaunch": false,
    "category": "Accelerated computing",
    "gpuNum": 1,
    "hideHardwareSpecs": false,
    "memoryGiB": 64,
    "name": "ml.g5.4xlarge",
    "vcpuNum": 16
   },
   {
    "_defaultOrder": 50,
    "_isFastLaunch": false,
    "category": "Accelerated computing",
    "gpuNum": 1,
    "hideHardwareSpecs": false,
    "memoryGiB": 128,
    "name": "ml.g5.8xlarge",
    "vcpuNum": 32
   },
   {
    "_defaultOrder": 51,
    "_isFastLaunch": false,
    "category": "Accelerated computing",
    "gpuNum": 1,
    "hideHardwareSpecs": false,
    "memoryGiB": 256,
    "name": "ml.g5.16xlarge",
    "vcpuNum": 64
   },
   {
    "_defaultOrder": 52,
    "_isFastLaunch": false,
    "category": "Accelerated computing",
    "gpuNum": 4,
    "hideHardwareSpecs": false,
    "memoryGiB": 192,
    "name": "ml.g5.12xlarge",
    "vcpuNum": 48
   },
   {
    "_defaultOrder": 53,
    "_isFastLaunch": false,
    "category": "Accelerated computing",
    "gpuNum": 4,
    "hideHardwareSpecs": false,
    "memoryGiB": 384,
    "name": "ml.g5.24xlarge",
    "vcpuNum": 96
   },
   {
    "_defaultOrder": 54,
    "_isFastLaunch": false,
    "category": "Accelerated computing",
    "gpuNum": 8,
    "hideHardwareSpecs": false,
    "memoryGiB": 768,
    "name": "ml.g5.48xlarge",
    "vcpuNum": 192
   }
  ],
  "instance_type": "ml.m5.2xlarge",
  "interpreter": {
   "hash": "c281c456f1b8161c8906f4af2c08ed2c40c50136979eaae69688b01f70e9f4a9"
  },
  "kernelspec": {
   "display_name": "Python 3 (Data Science)",
   "language": "python",
   "name": "python3__SAGEMAKER_INTERNAL__arn:aws:sagemaker:ap-southeast-2:452832661640:image/datascience-1.0"
  },
  "language_info": {
   "codemirror_mode": {
    "name": "ipython",
    "version": 3
   },
   "file_extension": ".py",
   "mimetype": "text/x-python",
   "name": "python",
   "nbconvert_exporter": "python",
   "pygments_lexer": "ipython3",
   "version": "3.7.10"
  }
 },
 "nbformat": 4,
 "nbformat_minor": 5
}
