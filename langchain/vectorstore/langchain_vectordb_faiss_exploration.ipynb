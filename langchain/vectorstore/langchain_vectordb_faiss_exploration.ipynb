{
 "cells": [
  {
   "cell_type": "markdown",
   "id": "dea5ef54-a3cb-4c6a-b5a6-04580ded0cc3",
   "metadata": {},
   "source": [
    "# Langchain Exploration\n",
    "\n"
   ]
  },
  {
   "cell_type": "code",
   "execution_count": 1,
   "id": "54582aac-166e-4feb-89a5-94b10944ea63",
   "metadata": {
    "ExecuteTime": {
     "end_time": "2023-12-26T03:40:29.786066005Z",
     "start_time": "2023-12-26T03:40:29.439522331Z"
    }
   },
   "outputs": [],
   "source": [
    "#!pip install faiss-gpu # For CUDA 7.5+ Supported GPU's.\n",
    "#!pip install faiss-cpu # For CPU Installation\n",
    "#!pip3 install Langchain[FAISS]\n",
    "#!pip install sentence-transformers\n",
    "#!pip install pypdf"
   ]
  },
  {
   "cell_type": "code",
   "execution_count": 2,
   "id": "4f6e2d09-ba36-4d61-8ff9-bfff3b2e6a96",
   "metadata": {
    "ExecuteTime": {
     "end_time": "2023-12-26T03:40:29.909426181Z",
     "start_time": "2023-12-26T03:40:29.443347465Z"
    }
   },
   "outputs": [],
   "source": [
    "# Uncomment the following line if you need to initialize FAISS with no AVX2 optimization\n",
    "# os.environ['FAISS_NO_AVX2'] = '1'"
   ]
  },
  {
   "cell_type": "code",
   "execution_count": 3,
   "id": "bc4bd633-92cb-4505-92b1-a4c93355ffa8",
   "metadata": {
    "ExecuteTime": {
     "end_time": "2023-12-26T03:40:31.159459729Z",
     "start_time": "2023-12-26T03:40:29.448966252Z"
    }
   },
   "outputs": [],
   "source": [
    "import json\n",
    "import os\n",
    "import time\n",
    "from typing import (\n",
    "    List,\n",
    "    Dict,\n",
    ")\n",
    "\n",
    "import numpy as np\n",
    "from scipy.spatial.distance import (\n",
    "    euclidean,\n",
    "    cosine\n",
    ")\n",
    "\n",
    "import pandas as pd\n",
    "import pickle\n",
    "import torch\n",
    "import torch.nn.functional as F\n",
    "from transformers import (\n",
    "    AutoTokenizer,\n",
    "    AutoModel\n",
    ")\n",
    "from sentence_transformers import SentenceTransformer\n",
    "\n",
    "import faiss\n",
    "from faiss import (\n",
    "    IndexFlatL2,\n",
    "    IndexFlatIP\n",
    ")\n",
    "from langchain_community.docstore.in_memory import (\n",
    "    InMemoryDocstore\n",
    ")\n",
    "\n",
    "from langchain_core.documents import (\n",
    "    Document\n",
    ")\n",
    "from langchain.document_loaders import (\n",
    "    TextLoader,\n",
    "    PyPDFLoader\n",
    ")\n",
    "from langchain.text_splitter import (\n",
    "    CharacterTextSplitter,\n",
    "    RecursiveCharacterTextSplitter,\n",
    "    SentenceTransformersTokenTextSplitter\n",
    ")\n",
    "from langchain.embeddings import (\n",
    "    SentenceTransformerEmbeddings\n",
    ")\n",
    "from langchain.vectorstores import (\n",
    "    FAISS\n",
    ")"
   ]
  },
  {
   "cell_type": "markdown",
   "id": "0963f426-3433-4d9e-a49e-902542b40c03",
   "metadata": {
    "ExecuteTime": {
     "end_time": "2023-12-18T06:11:01.448419467Z",
     "start_time": "2023-12-18T06:10:58.286329512Z"
    }
   },
   "source": [
    "# Constant"
   ]
  },
  {
   "cell_type": "code",
   "execution_count": 4,
   "id": "67fa9449-b286-4ddc-bf3d-41056653c539",
   "metadata": {
    "ExecuteTime": {
     "end_time": "2023-12-26T03:40:31.203927502Z",
     "start_time": "2023-12-26T03:40:31.202055980Z"
    }
   },
   "outputs": [],
   "source": [
    "SENTENCE_MIN_MODEL: str = \"all-MiniLM-L6-v2\"\n",
    "SENTENCE_TRF_MODEL: str = \"gtr-t5-large\""
   ]
  },
  {
   "cell_type": "markdown",
   "id": "d0bf8354-775b-4866-8bbf-885a1dc87bcc",
   "metadata": {},
   "source": [
    "---- \n",
    "\n",
    "# Document Loader\n",
    "\n",
    "Generate langchain ```documents:List[Document]``` from the data source.\n",
    "\n",
    "* [Document loaders](https://python.langchain.com/docs/modules/data_connection/document_loaders/)\n",
    "\n"
   ]
  },
  {
   "cell_type": "markdown",
   "id": "30b7f8bd-59fa-4320-902d-dd84fed0bbd7",
   "metadata": {},
   "source": [
    "## PDF Loader\n",
    "\n",
    "* [PyPDFLoader](https://api.python.langchain.com/en/stable/document_loaders/langchain_community.document_loaders.pdf.PyPDFLoader.html)\n",
    "\n",
    "Use [pypdf](https://pypi.org/project/pypdf/) to generate chunks as ```List[Document]``` by pages and stores page numbers in metadata."
   ]
  },
  {
   "cell_type": "code",
   "execution_count": 5,
   "id": "dffc4cfb-b07d-401e-b754-a63ceb5c6a26",
   "metadata": {
    "ExecuteTime": {
     "end_time": "2023-12-26T03:40:31.217172354Z",
     "start_time": "2023-12-26T03:40:31.202444269Z"
    }
   },
   "outputs": [
    {
     "name": "stdout",
     "output_type": "stream",
     "text": [
      "metadata:{'source': '../data/test_sample.pdf', 'page': 0} length:4\n"
     ]
    }
   ],
   "source": [
    "loader = PyPDFLoader(\"../data/test_sample.pdf\")\n",
    "pages: List[Document] = loader.load()\n",
    "print(f\"metadata:{pages[0].metadata} length:{len(pages)}\")"
   ]
  },
  {
   "cell_type": "markdown",
   "id": "a59d2a24-0b07-4540-b380-693e70d9f874",
   "metadata": {},
   "source": [
    "## Text Loader\n",
    "\n",
    "* [TextLoader](https://api.python.langchain.com/en/stable/document_loaders/langchain_community.document_loaders.text.TextLoader.html)\n",
    "\n",
    "Load from a text file into single ```Document``` instance."
   ]
  },
  {
   "cell_type": "code",
   "execution_count": 6,
   "id": "a7c9f0b9-df71-41fb-9b3d-9450fccf883e",
   "metadata": {
    "ExecuteTime": {
     "end_time": "2023-12-26T03:40:31.221860212Z",
     "start_time": "2023-12-26T03:40:31.218671697Z"
    }
   },
   "outputs": [
    {
     "name": "stdout",
     "output_type": "stream",
     "text": [
      "metadata:{'source': '../data/state_of_the_union.txt'} length:1\n"
     ]
    }
   ],
   "source": [
    "loader = TextLoader(\n",
    "    file_path=\"../data/state_of_the_union.txt\",\n",
    "    encoding='utf-8'\n",
    ")\n",
    "documents = loader.load()\n",
    "print(f\"metadata:{documents[0].metadata} length:{len(documents)}\")"
   ]
  },
  {
   "cell_type": "code",
   "execution_count": 7,
   "id": "6fe5234e-359d-4e49-8b03-ad536e84ed24",
   "metadata": {
    "ExecuteTime": {
     "end_time": "2023-12-26T03:40:31.295910654Z",
     "start_time": "2023-12-26T03:40:31.224074512Z"
    }
   },
   "outputs": [
    {
     "data": {
      "text/plain": [
       "'Madame Speaker, Vice President Biden, members of Congress, distinguished guests, and fellow Americans: Our Constitution declares that from time to time, the president shall give to Congress information about the state of our union. For 220 years, our leaders have fulfilled this duty. They have done so during periods of prosperity and tranquility. And they have done so in the midst of war and depression; at moments of great strife and great struggle. It\\'s tempting to look back on these moments and assume that our progress was inevitable, that America was always destined to succeed. But when the Union was turned back at Bull Run and the Allies first landed at Omaha Beach, victory was very much in doubt. When the market crashed on Black Tuesday and civil rights marchers were beaten on Bloody Sunday, the future was anything but certain. These were times that tested the courage of our convictions and the strength of our union. And despite all our divisions and disagreements, our hesitations and our fears, America prevailed because we chose to move forward as one nation and one people. Again, we are tested. And again, we must answer history\\'s call. One year ago, I took office amid two wars, an economy rocked by severe recession, a financial system on the verge of collapse and a government deeply in debt. Experts from across the political spectrum warned that if we did not act, we might face a second depression. So we acted immediately and aggressively. And one year later, the worst of the storm has passed. But the devastation remains. One in 10 Americans still cannot find work. Many businesses have shuttered. Home values have declined. Small towns and rural communities have been hit especially hard. For those who had already known poverty, life has become that much harder. This recession has also compounded the burdens that America\\'s families have been dealing with for decades -- the burden of working harder and longer for less, of being unable to save enough to retire or help kids with college. So I know the anxieties that are out there right now. They\\'re not new. These struggles are the reason I ran for president. These struggles are what I\\'ve witnessed for years in places like Elkhart, Ind., and Galesburg, Ill. I hear about them in the letters that I read each night. The toughest to read are those written by children asking why they have to move from their home, or when their mom or dad will be able to go back to work. For these Americans and so many others, change has not come fast enough. Some are frustrated; some are angry. They don\\'t understand why it seems like bad behavior on Wall Street is rewarded but hard work on Main Street isn\\'t, or why Washington has been unable or unwilling to solve any of our problems. They are tired of the partisanship and the shouting and the pettiness. They know we can\\'t afford it. Not now. So we face big and difficult challenges. And what the American people hope what they deserve is for all of us, Democrats and Republicans, to work through our differences, to overcome the numbing weight of our politics. For while the people who sent us here have different backgrounds, different stories and different beliefs, the anxieties they face are the same. The aspirations they hold are shared: a job that pays the bills, a chance to get ahead. Most of all, the ability to give their children a better life. You know what else they share? They share a stubborn resilience in the face of adversity. After one of the most difficult years in our history, they remain busy building cars and teaching kids, starting businesses and going back to school. They\\'re coaching Little League and helping their neighbors. As one woman wrote me, \"We are strained but hopeful, struggling but encouraged.\" It is because of this spirit, this great decency and great strength that I have never been more hopeful about America\\'s future than I am tonight. Despite our hardships, our union is strong. We do not give up. We do not quit. We do not allow fear or division to break our spirit. In this new decade, it\\'s time the American people get a government that matches their decency, that embodies their strength. And tonight, I\\'d like to talk about how together, we can deliver on that promise. It begins with our economy. Our most urgent task upon taking office was to shore up the same banks that helped cause this crisis. It was not easy to do. And if there\\'s one thing that has unified Democrats and Republicans, it\\'s that we all hated the bank bailout. I hated it. You hated it. It was about as popular as a root canal. But when I ran for president, I promised I wouldn\\'t just do what was popular -- I would do what was necessary. And if we had allowed the meltdown of the financial system, unemployment might be double what it is today. More businesses would certainly have closed. More homes would have surely been lost. So I supported the last administration\\'s efforts to create the financial rescue program. And when we took the program over, we made it more transparent and accountable. As a result, the markets are now stabilized, and we have recovered most of the money we spent on the banks. To recover the rest, I have proposed a fee on the biggest banks. I know Wall Street isn\\'t keen on this idea, but if these firms can afford to hand out big bonuses again, they can afford a modest fee to pay back the taxpayers who rescued them in their time of need. As we stabilized the financial system, we also took steps to get our economy growing again, save as many jobs as possible and help Americans who had become unemployed. That\\'s why we extended or increased unemployment benefits for more than 18 million Americans, made health insurance 65 percent cheaper for families who get their coverage through COBRA and passed 25 different tax cuts. Let me repeat: we cut taxes. We cut taxes for 95 percent of working families. We cut taxes for small businesses. We cut taxes for first-time homebuyers. We cut taxes for parents trying to care for their children. We cut taxes for 8 million Americans paying for college. As a result, millions of Americans had more to spend on gas, and food and other necessities, all of which helped businesses keep more workers. And we haven\\'t raised income taxes by a single dime on a single person. Not a single dime. Because of the steps we took, there are about 2 million Americans working right now who would otherwise be unemployed -- 200,000 work in construction and clean energy, 300,000 are teachers and other education workers, tens of thousands are cops, firefighters, correctional officers and first responders. And we are on track to add another one-and-a-half-million jobs to this total by the end of the year. The plan that has made all of this possible, from the tax cuts to the jobs, is the Recovery Act. That\\'s right -- the Recovery Act, also known as the stimulus bill. Economists on the left and the right say that this bill has helped saved jobs and avert disaster. But you don\\'t have to take their word for it. Talk to the small business in Phoenix that will triple its work force because of the Recovery Act. Talk to the window manufacturer in Philadelphia who said he used to be skeptical about the Recovery Act, until he had to add two more work shifts just because of the business it created. Talk to the single teacher raising two kids who was told by her principal in the last week of school that because of the Recovery Act, she wouldn\\'t be laid off after all. There are stories like this all across America. And after two years of recession, the economy is growing again. Retirement funds have started to gain back some of their value. Businesses are beginning to invest again, and slowly some are starting to hire again. But I realize that for every success story, there are other stories, of men and women who wake up with the anguish of not knowing where their next paycheck will come from -- who send out resumes week after week and hear nothing in response. That is why jobs must be our number one focus in 2010, and that is why I am calling for a new jobs bill tonight. Now, the true engine of job creation in this country will always be America\\'s businesses. But government can create the conditions necessary for businesses to expand and hire more workers. We should start where most new jobs do -- in small businesses, companies that begin when an entrepreneur takes a chance on a dream or a worker decides it\\'s time she became her own boss. Through sheer grit and determination, these companies have weathered the recession and are ready to grow. But when you talk to small business owners in places like Allentown, Pa., or Elyria, Ohio, you find out that even though banks on Wall Street are lending again, they are mostly lending to bigger companies. But financing remains difficult for small business owners across the country. So tonight, I\\'m proposing that we take $30 billion of the money Wall Street banks have repaid and use it to help community banks give small businesses the credit they need to stay afloat. I am also proposing a new small business tax credit -- one that will go to over 1 million small businesses who hire new workers or raise wages. While we\\'re at it, let\\'s also eliminate all capital gains taxes on small business investment and provide a tax incentive for all businesses, large and small, to invest in new plants and equipment. Next, we can put Americans to work today building the infrastructure of tomorrow. From the first railroads to the interstate highway system, our nation has always been built to compete. There\\'s no reason Europe or China should have the fastest trains or the new factories that manufacture clean energy products. Tomorrow, I\\'ll visit Tampa, Fla., where workers will soon break ground on a new high-speed railroad funded by the Recovery Act. There are projects like that all across this country that will create jobs and help our nation move goods, services and information. We should put more Americans to work building clean energy facilities and give rebates to Americans who make their homes more energy efficient, which supports clean energy jobs. And to encourage these and other businesses to stay within our borders, it\\'s time to finally slash the tax breaks for companies that ship our jobs overseas and give those tax breaks to companies that create jobs in the United States of America. The House has passed a jobs bill that includes some of these steps. As the first order of business this year, I urge the Senate to do the same. People are out of work. They are hurting. They need our help. And I want a jobs bill on my desk without delay. But the truth is, these steps still won\\'t make up for the 7 million jobs we\\'ve lost over the last two years. The only way to move to full employment is to lay a new foundation for long-term economic growth and finally address the problems that America\\'s families have confronted for years. We cannot afford another so-called economic expansion like the one from last decade -- what some call the lost decade -- where jobs grew more slowly than during any prior expansion, where the income of the average American household declined while the cost of health care and tuition reached record highs, where prosperity was built on a housing bubble and financial speculation. From the day I took office, I have been told that addressing our larger challenges is too ambitious -- that such efforts would be too contentious, that our political system is too gridlocked and that we should just put things on hold for a while. For those who make these claims, I have one simple question: How long should we wait? How long should America put its future on hold? You see, Washington has been telling us to wait for decades, even as the problems have grown worse. Meanwhile, China\\'s not waiting to revamp its economy; Germany\\'s not waiting; India\\'s not waiting. These nations aren\\'t standing still. These nations aren\\'t playing for second place. They\\'re putting more emphasis on math and science. They\\'re rebuilding their infrastructure. They are making serious investments in clean energy because they want those jobs. Well I do not accept second place for the United States of America. As hard as it may be, as uncomfortable and contentious as the debates may be, it\\'s time to get serious about fixing the problems that are hampering our growth. One place to start is serious financial reform. Look, I am not interested in punishing banks, I\\'m interested in protecting our economy. A strong, healthy financial market makes it possible for businesses to access credit and create new jobs. It channels the savings of families into investments that raise incomes. But that can only happen if we guard against the same recklessness that nearly brought down our entire economy. We need to make sure consumers and middle class families have the information they need to make financial decisions. We can\\'t allow financial institutions, including those that take your deposits, to take risks that threaten the whole economy. The House has already passed financial reform with many of these changes. And the lobbyists are already trying to kill it. Well, we cannot let them win this fight. And if the bill that ends up on my desk does not meet the test of real reform, I will send it back. Next, we need to encourage American innovation. Last year, we made the largest investment in basic research funding in history -- an investment that could lead to the world\\'s cheapest solar cells or treatment that kills cancer cells but leaves healthy ones untouched. And no area is more ripe for such innovation than energy. You can see the results of last year\\'s investment in clean energy -- in the North Carolina company that will create 1,200 jobs nationwide helping to make advanced batteries, or in the California business that will put 1,000 people to work making solar panels. But to create more of these clean energy jobs, we need more production, more efficiency, more incentives. That means building a new generation of safe, clean nuclear power plants in this country. It means making tough decisions about opening new offshore areas for oil and gas development. It means continued investment in advanced biofuels and clean coal technologies. And yes, it means passing a comprehensive energy and climate bill with incentives that will finally make clean energy the profitable kind of energy in America. I am grateful to the House for passing such a bill last year. This year, I am eager to help advance the bipartisan effort in the Senate. I know there have been questions about whether we can afford such changes in a tough economy, and I know that there are those who disagree with the overwhelming scientific evidence on climate change. But even if you doubt the evidence, providing incentives for energy efficiency and clean energy are the right thing to do for our future -- because the nation that leads the clean energy economy will be the nation that leads the global economy. And America must be that nation. Third, we need to export more of our goods. Because the more products we make and sell to other countries, the more jobs we support right here in America. So tonight, we set a new goal: We will double our exports over the next five years, an increase that will support 2 million jobs in America. To help meet this goal, we\\'re launching a national export initiative that will help farmers and small businesses increase their exports and reform export controls consistent with national security. We have to seek new markets aggressively, just as our competitors are. If America sits on the sidelines while other nations sign trade deals, we will lose the chance to create jobs on our shores. But realizing those benefits also means enforcing those agreements so our trading partners play by the rules. And that\\'s why we will continue to shape a Doha trade agreement that opens global markets, and why we will strengthen our trade relations in Asia and with key partners like South Korea, Panama and Colombia. Fourth, we need to invest in the skills and education of our people. This year, we have broken through the stalemate between left and right by launching a national competition to improve our schools. The idea here is simple: Instead of rewarding failure, we only reward success. Instead of funding the status quo, we only invest in reform -- reform that raises student achievement, inspires students to excel in math and science, and turns around failing schools that steal the future of too many young Americans, from rural communities to inner cities. In the 21st century, one of the best anti-poverty programs is a world-class education. In this country, the success of our children cannot depend more on where they live than their potential. When we renew the Elementary and Secondary Education Act, we will work with Congress to expand these reforms to all 50 states. Still, in this economy, a high school diploma no longer guarantees a good job. I urge the Senate to follow the House and pass a bill that will revitalize our community colleges, which are a career pathway to the children of so many working families. To make college more affordable, this bill will finally end the unwarranted taxpayer subsidies that go to banks for student loans. Instead, let\\'s take that money and give families a $10,000 tax credit for four years of college and increase Pell Grants. And let\\'s tell another 1 million students that when they graduate, they will be required to pay only 10 percent of their income on student loans, and all of their debt will be forgiven after 20 years -- and forgiven after 10 years if they choose a career in public service. Because in the United States of America, no one should go broke because they chose to go to college. And it\\'s time for colleges and universities to get serious about cutting their own costs -- because they too have a responsibility to help solve this problem. Now, the price of college tuition is just one of the burdens facing the middle class. That\\'s why last year I asked Vice President Biden to chair a task force on middle class families. That\\'s why we\\'re nearly doubling the child care tax credit, and making it easier to save for retirement by giving every worker access to a retirement account and expanding the tax credit for those who start a nest egg. That\\'s why we\\'re working to lift the value of a family\\'s single largest investment -- their home. The steps we took last year to shore up the housing market have allowed millions of Americans to take out new loans and save an average of $1,500 on mortgage payments. This year, we will step up refinancing so that homeowners can move into more affordable mortgages. And it is precisely to relieve the burden on middle-class families that we still need health insurance reform. Now let\\'s be clear -- I did not choose to tackle this issue to get some legislative victory under my belt. And by now it should be fairly obvious that I didn\\'t take on health care because it was good politics. I took on health care because of the stories I\\'ve heard from Americans with pre-existing conditions whose lives depend on getting coverage, patients who\\'ve been denied coverage and families -- even those with insurance -- who are just one illness away from financial ruin. After nearly a century of trying, we are closer than ever to bringing more security to the lives of so many Americans. The approach we\\'ve taken would protect every American from the worst practices of the insurance industry. It would give small businesses and uninsured Americans a chance to choose an affordable health care plan in a competitive market. It would require every insurance plan to cover preventive care. And by the way, I want to acknowledge our first lady, Michelle Obama, who this year is creating a national movement to tackle the epidemic of childhood obesity and make our kids healthier. Our approach would preserve the right of Americans who have insurance to keep their doctor and their plan. It would reduce costs and premiums for millions of families and businesses. And according to the Congressional Budget Office -- the independent organization that both parties have cited as the official scorekeeper for Congress -- our approach would bring down the deficit by as much as $1 trillion over the next two decades. Still, this is a complex issue, and the longer it was debated, the more skeptical people became. I take my share of the blame for not explaining it more clearly to the American people. And I know that with all the lobbying and horse trading, this process left most Americans wondering what\\'s in it for them. But I also know this problem is not going away. By the time I\\'m finished speaking tonight, more Americans will have lost their health insurance. Millions will lose it this year. Our deficit will grow. Premiums will go up. Patients will be denied the care they need. Small business owners will continue to drop coverage altogether. I will not walk away from these Americans and neither should the people in this chamber. As temperatures cool, I want everyone to take another look at the plan we\\'ve proposed. There\\'s a reason why many doctors, nurses and health care experts who know our system best consider this approach a vast improvement over the status quo. But if anyone from either party has a better approach that will bring down premiums, bring down the deficit, cover the uninsured, strengthen Medicare for seniors and stop insurance company abuses, let me know. Here\\'s what I ask of Congress, though: Do not walk away from reform. Not now. Not when we are so close. Let us find a way to come together and finish the job for the American people. Now, even as health care reform would reduce our deficit, it\\'s not enough to dig us out of a massive fiscal hole in which we find ourselves. It\\'s a challenge that makes all others that much harder to solve, and one that\\'s been subject to a lot of political posturing. So let me start the discussion of government spending by setting the record straight. At the beginning of the last decade, America had a budget surplus of over $200 billion. By the time I took office, we had a one year deficit of over $1 trillion and projected deficits of $8 trillion over the next decade. Most of this was the result of not paying for two wars, two tax cuts and an expensive prescription drug program. On top of that, the effects of the recession put a $3 trillion hole in our budget. That was before I walked in the door. Now if we had taken office in ordinary times, I would have liked nothing more than to start bringing down the deficit. But we took office amid a crisis, and our efforts to prevent a second depression have added another $1 trillion to our national debt. I am absolutely convinced that was the right thing to do. But families across the country are tightening their belts and making tough decisions. The federal government should do the same. So tonight, I\\'m proposing specific steps to pay for the $1 trillion that it took to rescue the economy last year. Starting in 2011, we are prepared to freeze government spending for three years. Spending related to our national security, Medicare, Medicaid and Social Security will not be affected. But all other discretionary government programs will. Like any cash-strapped family, we will work within a budget to invest in what we need and sacrifice what we don\\'t. And if I have to enforce this discipline by veto, I will. We will continue to go through the budget line by line to eliminate programs that we can\\'t afford and don\\'t work. We\\'ve already identified $20 billion in savings for next year. To help working families, we will extend our middle-class tax cuts. But at a time of record deficits, we will not continue tax cuts for oil companies, investment fund managers and those making over $250,000 a year. We just can\\'t afford it. Now, even after paying for what we spent on my watch, we will still face the massive deficit we had when I took office. More importantly, the cost of Medicare, Medicaid and Social Security will continue to skyrocket. That\\'s why I\\'ve called for a bipartisan fiscal commission, modeled on a proposal by Republican Judd Gregg and Democrat Kent Conrad. This can\\'t be one of those Washington gimmicks that lets us pretend we solved a problem. The commission will have to provide a specific set of solutions by a certain deadline. Yesterday, the Senate blocked a bill that would have created this commission. So I will issue an executive order that will allow us to go forward, because I refuse to pass this problem on to another generation of Americans. And when the vote comes tomorrow, the Senate should restore the pay-as-you-go law that was a big reason why we had record surpluses in the 1990s. I know that some in my own party will argue that we cannot address the deficit or freeze government spending when so many are still hurting. I agree, which is why this freeze will not take effect until next year, when the economy is stronger. But understand -- if we do not take meaningful steps to rein in our debt, it could damage our markets, increase the cost of borrowing and jeopardize our recovery -- all of which could have an even worse effect on our job growth and family incomes. From some on the right, I expect we\\'ll hear a different argument -- that if we just make fewer investments in our people, extend tax cuts for wealthier Americans, eliminate more regulations and maintain the status quo on health care, our deficits will go away. The problem is, that\\'s what we did for eight years. That\\'s what helped lead us into this crisis. It\\'s what helped lead to these deficits. And we cannot do it again. Rather than fight the same tired battles that have dominated Washington for decades, it\\'s time to try something new. Let\\'s invest in our people without leaving them a mountain of debt. Let\\'s meet our responsibility to the citizens who sent us here. Let\\'s try common sense. To do that, we have to recognize that we face more than a deficit of dollars right now. We face a deficit of trust -- deep and corrosive doubts about how Washington works that have been growing for years. To close that credibility gap we must take action on both ends of Pennsylvania Avenue to end the outsized influence of lobbyists; to do our work openly and to give our people the government they deserve. That\\'s what I came to Washington to do. That\\'s why -- for the first time in history -- my administration posts our White House visitors online. And that\\'s why we\\'ve excluded lobbyists from policymaking jobs or seats on federal boards and commissions. But we can\\'t stop there. It\\'s time to require lobbyists to disclose each contact they make on behalf of a client with my administration or Congress. And it\\'s time to put strict limits on the contributions that lobbyists give to candidates for federal office. Last week, the Supreme Court reversed a century of law to open the floodgates for special interests -- including foreign corporations -- to spend without limit in our elections. Well, I don\\'t think American elections should be bankrolled by America\\'s most powerful interests, or worse, by foreign entities. They should be decided by the American people, and that\\'s why I\\'m urging Democrats and Republicans to pass a bill that helps to right this wrong. I\\'m also calling on Congress to continue down the path of earmark reform. You have trimmed some of this spending and embraced some meaningful change. But restoring the public trust demands more. For example, some members of Congress post some earmark requests online. Tonight, I\\'m calling on Congress to publish all earmark requests on a single Web site before there\\'s a vote, so that the American people can see how their money is being spent. Of course, none of these reforms will even happen if we don\\'t also reform how we work with one another. Now, I am not naive. I never thought the mere fact of my election would usher in peace, harmony and some post-partisan era. I knew that both parties have fed divisions that are deeply entrenched. And on some issues, there are simply philosophical differences that will always cause us to part ways. These disagreements, about the role of government in our lives, about our national priorities and our national security, have been taking place for over 200 years. They are the very essence of our democracy. But what frustrates the American people is a Washington where every day is election day. We cannot wage a perpetual campaign where the only goal is to see who can get the most embarrassing headlines about their opponent -- a belief that if you lose, I win. Neither party should delay or obstruct every single bill just because they can. The confirmation of well-qualified public servants should not be held hostage to the pet projects or grudges of a few individual senators. Washington may think that saying anything about the other side, no matter how false, is just part of the game. But it is precisely such politics that has stopped either party from helping the American people. Worse yet, it is sowing further division among our citizens and further distrust in our government. So no, I will not give up on changing the tone of our politics. I know it\\'s an election year. And after last week, it is clear that campaign fever has come even earlier than usual. But we still need to govern. To Democrats, I would remind you that we still have the largest majority in decades, and the people expect us to solve some problems, not run for the hills. And if the Republican leadership is going to insist that 60 votes in the Senate are required to do any business at all in this town, then the responsibility to govern is now yours as well. Just saying no to everything may be good short-term politics, but it\\'s not leadership. We were sent here to serve our citizens, not our ambitions. So let\\'s show the American people that we can do it together. This week, I\\'ll be addressing a meeting of the House Republicans. And I would like to begin monthly meetings with both the Democratic and Republican leadership. I know you can\\'t wait. Throughout our history, no issue has united this country more than our security. Sadly, some of the unity we felt after 9/11 has dissipated. We can argue all we want about who\\'s to blame for this, but I am not interested in relitigating the past. I know that all of us love this country. All of us are committed to its defense. So let\\'s put aside the schoolyard taunts about who is tough. Let\\'s reject the false choice between protecting our people and upholding our values. Let\\'s leave behind the fear and division and do what it takes to defend our nation and forge a more hopeful future -- for America and the world. That is the work we began last year. Since the day I took office, we have renewed our focus on the terrorists who threaten our nation. We have made substantial investments in our homeland security and disrupted plots that threatened to take American lives. We are filling unacceptable gaps revealed by the failed Christmas attack, with better airline security and swifter action on our intelligence. We have prohibited torture and strengthened partnerships from the Pacific to South Asia to the Arabian Peninsula. And in the last year, hundreds of al-Qaida\\'s fighters and affiliates, including many senior leaders, have been captured or killed -- far more than in 2008. In Afghanistan, we are increasing our troops and training Afghan Security Forces so they can begin to take the lead in July of 2011 and our troops can begin to come home. We will reward good governance, reduce corruption and support the rights of all Afghans -- men and women alike. We are joined by allies and partners who have increased their own commitment, and who will come together tomorrow in London to reaffirm our common purpose. There will be difficult days ahead. But I am confident we will succeed. As we take the fight to al-Qaida, we are responsibly leaving Iraq to its people. As a candidate, I promised that I would end this war, and that is what I am doing as president. We will have all of our combat troops out of Iraq by the end of this August. We will support the Iraqi government as they hold elections, and continue to partner with the Iraqi people to promote regional peace and prosperity. But make no mistake: This war is ending, and all of our troops are coming home. Tonight, all of our men and women in uniform -- in Iraq, Afghanistan and around the world -- must know that they have our respect, our gratitude and our full support. And just as they must have the resources they need in war, we all have a responsibility to support them when they come home. That is why we made the largest increase in investments for veterans in decades. That is why we are building a 21st century VA. And that is why Michelle has joined with Jill Biden to forge a national commitment to support military families. Even as we prosecute two wars, we are also confronting perhaps the greatest danger to the American people -- the threat of nuclear weapons. I have embraced the vision of John F. Kennedy and Ronald Reagan through a strategy that reverses the spread of these weapons and seeks a world without them. To reduce our stockpiles and launchers, while ensuring our deterrent, the United States and Russia are completing negotiations on the farthest-reaching arms control treaty in nearly two decades. And at April\\'s nuclear security summit, we will bring 44 nations together behind a clear goal: securing all vulnerable nuclear materials around the world in four years, so that they never fall into the hands of terrorists. These diplomatic efforts have also strengthened our hand in dealing with those nations that insist on violating international agreements in pursuit of these weapons. That is why North Korea now faces increased isolation and stronger sanctions -- sanctions that are being vigorously enforced. That is why the international community is more united, and the Islamic Republic of Iran is more isolated. And as Iran\\'s leaders continue to ignore their obligations, there should be no doubt: They, too, will face growing consequences. That is the leadership that we are providing -- engagement that advances the common security and prosperity of all people. We are working through the G-20 to sustain a lasting global recovery. We are working with Muslim communities around the world to promote science, education and innovation. We have gone from a bystander to a leader in the fight against climate change. We are helping developing countries to feed themselves and continuing the fight against HIV/AIDS. And we are launching a new initiative that will give us the capacity to respond faster and more effectively to bioterrorism or an infectious disease -- a plan that will counter threats at home and strengthen public health abroad. As we have for over 60 years, America takes these actions because our destiny is connected to those beyond our shores. But we also do it because it is right. That is why, as we meet here tonight, over 10,000 Americans are working with many nations to help the people of Haiti recover and rebuild. That is why we stand with the girl who yearns to go to school in Afghanistan, we support the human rights of the women marching through the streets of Iran, and we advocate for the young man denied a job by corruption in Guinea. For America must always stand on the side of freedom and human dignity. Abroad, America\\'s greatest source of strength has always been our ideals. The same is true at home. We find unity in our incredible diversity, drawing on the promise enshrined in our Constitution: the notion that we are all created equal, that no matter who you are or what you look like, if you abide by the law you should be protected by it, that if you adhere to our common values you should be treated no different than anyone else. We must continually renew this promise. My administration has a civil rights division that is once again prosecuting civil rights violations and employment discrimination. We finally strengthened our laws to protect against crimes driven by hate. This year, I will work with Congress and our military to finally repeal the law that denies gay Americans the right to serve the country they love because of who they are. We are going to crack down on violations of equal pay laws -- so that women get equal pay for an equal day\\'s work. And we should continue the work of fixing our broken immigration system -- to secure our borders, enforce our laws and ensure that everyone who plays by the rules can contribute to our economy and enrich our nations. In the end, it is our ideals, our values, that built America -- values that allowed us to forge a nation made up of immigrants from every corner of the globe, values that drive our citizens still. Every day, Americans meet their responsibilities to their families and their employers. Time and again, they lend a hand to their neighbors and give back to their country. They take pride in their labor, and are generous in spirit. These aren\\'t Republican values or Democratic values they\\'re living by, business values or labor values. They are American values. Unfortunately, too many of our citizens have lost faith that our biggest institutions -- our corporations, our media and, yes, our government -- still reflect these same values. Each of these institutions are full of honorable men and women doing important work that helps our country prosper. But each time a CEO rewards himself for failure, or a banker puts the rest of us at risk for his own selfish gain, people\\'s doubts grow. Each time lobbyists game the system or politicians tear each other down instead of lifting this country up, we lose faith. The more that TV pundits reduce serious debates into silly arguments and big issues into sound bites, our citizens turn away. No wonder there\\'s so much cynicism out there. No wonder there\\'s so much disappointment. I campaigned on the promise of change -- change we can believe in, the slogan went. And right now, I know there are many Americans who aren\\'t sure if they still believe we can change -- or at least, that I can deliver it. But remember this -- I never suggested that change would be easy or that I can do it alone. Democracy in a nation of 300 million people can be noisy and messy and complicated. And when you try to do big things and make big changes, it stirs passions and controversy. That\\'s just how it is. Those of us in public office can respond to this reality by playing it safe and avoid telling hard truths. We can do what\\'s necessary to keep our poll numbers high and get through the next election instead of doing what\\'s best for the next generation. But I also know this: If people had made that decision 50 years ago or 100 years ago or 200 years ago, we wouldn\\'t be here tonight. The only reason we are is because generations of Americans were unafraid to do what was hard, to do what was needed even when success was uncertain, to do what it took to keep the dream of this nation alive for their children and grandchildren. Our administration has had some political setbacks this year and some of them were deserved. But I wake up every day knowing that they are nothing compared to the setbacks that families all across this country have faced this year. And what keeps me going -- what keeps me fighting -- is that despite all these setbacks, that spirit of determination and optimism -- that fundamental decency that has always been at the core of the American people -- lives on. It lives on in the struggling small business owner who wrote to me of his company, \"None of us,\" he said, \"are willing to consider, even slightly, that we might fail.\" It lives on in the woman who said that even though she and her neighbors have felt the pain of recession, \"We are strong. We are resilient. We are American.\" It lives on in the 8-year-old boy in Louisiana, who just sent me his allowance and asked if I would give it to the people of Haiti. And it lives on in all the Americans who\\'ve dropped everything to go some place they\\'ve never been and pull people they\\'ve never known from rubble, prompting chants of \"USA! USA! USA!\" when another life was saved. The spirit that has sustained this nation for more than two centuries lives on in you, its people. We have finished a difficult year. We have come through a difficult decade. But a new year has come. A new decade stretches before us. We don\\'t quit. I don\\'t quit. Let\\'s seize this moment -- to start anew, to carry the dream forward, and to strengthen our union once more. Thank you. God Bless You. And God Bless the United States of America.'"
      ]
     },
     "execution_count": 7,
     "metadata": {},
     "output_type": "execute_result"
    }
   ],
   "source": [
    "text = documents[0].page_content\n",
    "' '.join(text.split())"
   ]
  },
  {
   "cell_type": "markdown",
   "id": "fa0b410f-8890-4021-92ed-506d8c5b7467",
   "metadata": {},
   "source": [
    "# Document\n",
    "\n",
    "A Document is a piece of text and associated metadata.\n",
    "\n",
    "* [class Document](https://api.python.langchain.com/en/stable/_modules/langchain_core/documents/base.html#Document)\n"
   ]
  },
  {
   "cell_type": "code",
   "execution_count": 8,
   "id": "4b8076df-e04a-4739-873a-539bbf0d5cc4",
   "metadata": {
    "ExecuteTime": {
     "end_time": "2023-12-26T03:40:31.300099447Z",
     "start_time": "2023-12-26T03:40:31.227920196Z"
    }
   },
   "outputs": [
    {
     "name": "stdout",
     "output_type": "stream",
     "text": [
      "Config\n",
      "construct\n",
      "copy\n",
      "dict\n",
      "from_orm\n",
      "get_lc_namespace\n",
      "is_lc_serializable\n",
      "json\n",
      "lc_attributes\n",
      "lc_id\n",
      "lc_secrets\n",
      "metadata\n",
      "page_content\n",
      "parse_file\n",
      "parse_obj\n",
      "parse_raw\n",
      "schema\n",
      "schema_json\n",
      "to_json\n",
      "to_json_not_implemented\n",
      "type\n",
      "update_forward_refs\n",
      "validate\n"
     ]
    }
   ],
   "source": [
    "for attr in dir(documents[0]):\n",
    "    print(attr) if not attr.startswith(\"_\") else None"
   ]
  },
  {
   "cell_type": "markdown",
   "id": "c2ce7288-218f-4b1f-ab5a-ab224cac7395",
   "metadata": {},
   "source": [
    "---\n",
    "# Document Transformers\n",
    "\n",
    "* [Document transformers](https://python.langchain.com/docs/modules/data_connection/document_transformers/)\n",
    "\n",
    "\n",
    "## Text Split\n",
    "\n",
    "The objective of the splitter is to package as many sentences as possible into a chunk so that **consequtive sentences stay together**.\n",
    "\n",
    "* [Text splitters](https://python.langchain.com/docs/modules/data_connection/document_transformers/#text-splitters)\n",
    "\n",
    "1. Split the text up into small, semantically meaningful chunks (often sentences).\n",
    "2. Start combining these small chunks into a larger chunk until you reach a certain size (as measured by some function).\n",
    "3. Once you reach that size, make that chunk its own piece of text and then start creating a new chunk of text with some overlap (to keep context between chunks).\n",
    "\n",
    "That means there are two different axes along which you can customize your text splitter:\n",
    "\n",
    "1. How the text is split\n",
    "2. How the chunk size is measured\n",
    "\n"
   ]
  },
  {
   "cell_type": "markdown",
   "id": "202a0f06-8904-4135-a0a2-7c9728329125",
   "metadata": {},
   "source": [
    "### RecursiveCharacterTextSplitter\n",
    "\n",
    "The default recommended is [RecursiveCharacterTextSplitter](https://api.python.langchain.com/en/stable/text_splitter/langchain.text_splitter.RecursiveCharacterTextSplitter.html) that tries to create chunks based on splitting on the character in ```[\"\\n\\n\", \"\\n\", \" \", \"\"]```  but if any chunks are too large it then moves onto the next character.\n",
    "\n",
    "* ```length_function```: how the length of chunks is calculated. Defaults to just counting number of characters, but it's pretty common to pass a token counter here.\n",
    "* ```chunk_size```: the maximum size of your chunks (as measured by the length function).\n",
    "* ```chunk_overlap```: the maximum overlap between chunks to have some overlap to maintain some continuity between chunks (e.g. do a sliding window).\n",
    "* ```add_start_index```: whether to include the starting position of each chunk within the original document in the metadata.\n",
    "\n"
   ]
  },
  {
   "cell_type": "code",
   "execution_count": 9,
   "id": "6d8b13bb-bb89-476a-9eaf-9a5f7c8c2d0b",
   "metadata": {
    "ExecuteTime": {
     "end_time": "2023-12-26T03:40:31.307054877Z",
     "start_time": "2023-12-26T03:40:31.270172743Z"
    }
   },
   "outputs": [
    {
     "name": "stdout",
     "output_type": "stream",
     "text": [
      "{\n",
      "    \"lc\": 1,\n",
      "    \"type\": \"constructor\",\n",
      "    \"id\": [\n",
      "        \"langchain\",\n",
      "        \"schema\",\n",
      "        \"document\",\n",
      "        \"Document\"\n",
      "    ],\n",
      "    \"kwargs\": {\n",
      "        \"page_content\": \"PDF Bookmark Sample Page 1 of 4 \",\n",
      "        \"metadata\": {\n",
      "            \"source\": \"../data/test_sample.pdf\",\n",
      "            \"page\": 0,\n",
      "            \"start_index\": 5\n",
      "        }\n",
      "    }\n",
      "}\n",
      "{\n",
      "    \"lc\": 1,\n",
      "    \"type\": \"constructor\",\n",
      "    \"id\": [\n",
      "        \"langchain\",\n",
      "        \"schema\",\n",
      "        \"document\",\n",
      "        \"Document\"\n",
      "    ],\n",
      "    \"kwargs\": {\n",
      "        \"page_content\": \" PDF B OOKMARK SAMPLE  \",\n",
      "        \"metadata\": {\n",
      "            \"source\": \"../data/test_sample.pdf\",\n",
      "            \"page\": 0,\n",
      "            \"start_index\": 38\n",
      "        }\n",
      "    }\n",
      "}\n",
      "{\n",
      "    \"lc\": 1,\n",
      "    \"type\": \"constructor\",\n",
      "    \"id\": [\n",
      "        \"langchain\",\n",
      "        \"schema\",\n",
      "        \"document\",\n",
      "        \"Document\"\n",
      "    ],\n",
      "    \"kwargs\": {\n",
      "        \"page_content\": \"Sample Date: May 2001 \",\n",
      "        \"metadata\": {\n",
      "            \"source\": \"../data/test_sample.pdf\",\n",
      "            \"page\": 0,\n",
      "            \"start_index\": 64\n",
      "        }\n",
      "    }\n",
      "}\n",
      "{\n",
      "    \"lc\": 1,\n",
      "    \"type\": \"constructor\",\n",
      "    \"id\": [\n",
      "        \"langchain\",\n",
      "        \"schema\",\n",
      "        \"document\",\n",
      "        \"Document\"\n",
      "    ],\n",
      "    \"kwargs\": {\n",
      "        \"page_content\": \"Prepared by: Accelio Present Applied Technology \",\n",
      "        \"metadata\": {\n",
      "            \"source\": \"../data/test_sample.pdf\",\n",
      "            \"page\": 0,\n",
      "            \"start_index\": 87\n",
      "        }\n",
      "    }\n",
      "}\n",
      "{\n",
      "    \"lc\": 1,\n",
      "    \"type\": \"constructor\",\n",
      "    \"id\": [\n",
      "        \"langchain\",\n",
      "        \"schema\",\n",
      "        \"document\",\n",
      "        \"Document\"\n",
      "    ],\n",
      "    \"kwargs\": {\n",
      "        \"page_content\": \"Created and Tested Using: \\u2022 Accelio Present Central 5.4 \",\n",
      "        \"metadata\": {\n",
      "            \"source\": \"../data/test_sample.pdf\",\n",
      "            \"page\": 0,\n",
      "            \"start_index\": 136\n",
      "        }\n",
      "    }\n",
      "}\n",
      "{\n",
      "    \"lc\": 1,\n",
      "    \"type\": \"constructor\",\n",
      "    \"id\": [\n",
      "        \"langchain\",\n",
      "        \"schema\",\n",
      "        \"document\",\n",
      "        \"Document\"\n",
      "    ],\n",
      "    \"kwargs\": {\n",
      "        \"page_content\": \"\\u2022 Accelio Present Output Designer 5.4 \",\n",
      "        \"metadata\": {\n",
      "            \"source\": \"../data/test_sample.pdf\",\n",
      "            \"page\": 0,\n",
      "            \"start_index\": 193\n",
      "        }\n",
      "    }\n",
      "}\n",
      "{\n",
      "    \"lc\": 1,\n",
      "    \"type\": \"constructor\",\n",
      "    \"id\": [\n",
      "        \"langchain\",\n",
      "        \"schema\",\n",
      "        \"document\",\n",
      "        \"Document\"\n",
      "    ],\n",
      "    \"kwargs\": {\n",
      "        \"page_content\": \"Features Demonstrated: \\u2022 Primary bookmarks in a PDF file. \",\n",
      "        \"metadata\": {\n",
      "            \"source\": \"../data/test_sample.pdf\",\n",
      "            \"page\": 0,\n",
      "            \"start_index\": 232\n",
      "        }\n",
      "    }\n",
      "}\n",
      "{\n",
      "    \"lc\": 1,\n",
      "    \"type\": \"constructor\",\n",
      "    \"id\": [\n",
      "        \"langchain\",\n",
      "        \"schema\",\n",
      "        \"document\",\n",
      "        \"Document\"\n",
      "    ],\n",
      "    \"kwargs\": {\n",
      "        \"page_content\": \"\\u2022 Secondary bookmarks in a PDF file. \",\n",
      "        \"metadata\": {\n",
      "            \"source\": \"../data/test_sample.pdf\",\n",
      "            \"page\": 0,\n",
      "            \"start_index\": 291\n",
      "        }\n",
      "    }\n",
      "}\n",
      "{\n",
      "    \"lc\": 1,\n",
      "    \"type\": \"constructor\",\n",
      "    \"id\": [\n",
      "        \"langchain\",\n",
      "        \"schema\",\n",
      "        \"document\",\n",
      "        \"Document\"\n",
      "    ],\n",
      "    \"kwargs\": {\n",
      "        \"page_content\": \"Overview\",\n",
      "        \"metadata\": {\n",
      "            \"source\": \"../data/test_sample.pdf\",\n",
      "            \"page\": 0,\n",
      "            \"start_index\": 329\n",
      "        }\n",
      "    }\n",
      "}\n",
      "{\n",
      "    \"lc\": 1,\n",
      "    \"type\": \"constructor\",\n",
      "    \"id\": [\n",
      "        \"langchain\",\n",
      "        \"schema\",\n",
      "        \"document\",\n",
      "        \"Document\"\n",
      "    ],\n",
      "    \"kwargs\": {\n",
      "        \"page_content\": \"This sample consists of a simple form containing four distinct fields. The data file contains eight \",\n",
      "        \"metadata\": {\n",
      "            \"source\": \"../data/test_sample.pdf\",\n",
      "            \"page\": 0,\n",
      "            \"start_index\": 339\n",
      "        }\n",
      "    }\n",
      "}\n",
      "{\n",
      "    \"lc\": 1,\n",
      "    \"type\": \"constructor\",\n",
      "    \"id\": [\n",
      "        \"langchain\",\n",
      "        \"schema\",\n",
      "        \"document\",\n",
      "        \"Document\"\n",
      "    ],\n",
      "    \"kwargs\": {\n",
      "        \"page_content\": \"separate records. \",\n",
      "        \"metadata\": {\n",
      "            \"source\": \"../data/test_sample.pdf\",\n",
      "            \"page\": 0,\n",
      "            \"start_index\": 440\n",
      "        }\n",
      "    }\n",
      "}\n",
      "{\n",
      "    \"lc\": 1,\n",
      "    \"type\": \"constructor\",\n",
      "    \"id\": [\n",
      "        \"langchain\",\n",
      "        \"schema\",\n",
      "        \"document\",\n",
      "        \"Document\"\n",
      "    ],\n",
      "    \"kwargs\": {\n",
      "        \"page_content\": \"By default, the data file will produce a PDF file containing eight separate pages. The selective \",\n",
      "        \"metadata\": {\n",
      "            \"source\": \"../data/test_sample.pdf\",\n",
      "            \"page\": 0,\n",
      "            \"start_index\": 459\n",
      "        }\n",
      "    }\n",
      "}\n",
      "{\n",
      "    \"lc\": 1,\n",
      "    \"type\": \"constructor\",\n",
      "    \"id\": [\n",
      "        \"langchain\",\n",
      "        \"schema\",\n",
      "        \"document\",\n",
      "        \"Document\"\n",
      "    ],\n",
      "    \"kwargs\": {\n",
      "        \"page_content\": \"use of the bookmark file will produce the same PDF with a separate pane containing \",\n",
      "        \"metadata\": {\n",
      "            \"source\": \"../data/test_sample.pdf\",\n",
      "            \"page\": 0,\n",
      "            \"start_index\": 557\n",
      "        }\n",
      "    }\n",
      "}\n",
      "{\n",
      "    \"lc\": 1,\n",
      "    \"type\": \"constructor\",\n",
      "    \"id\": [\n",
      "        \"langchain\",\n",
      "        \"schema\",\n",
      "        \"document\",\n",
      "        \"Document\"\n",
      "    ],\n",
      "    \"kwargs\": {\n",
      "        \"page_content\": \"bookmarks. This screenshot of the sample output shows a PDF file with bookmarks. \",\n",
      "        \"metadata\": {\n",
      "            \"source\": \"../data/test_sample.pdf\",\n",
      "            \"page\": 0,\n",
      "            \"start_index\": 641\n",
      "        }\n",
      "    }\n",
      "}\n",
      "{\n",
      "    \"lc\": 1,\n",
      "    \"type\": \"constructor\",\n",
      "    \"id\": [\n",
      "        \"langchain\",\n",
      "        \"schema\",\n",
      "        \"document\",\n",
      "        \"Document\"\n",
      "    ],\n",
      "    \"kwargs\": {\n",
      "        \"page_content\": \"The left pane displays the available bookmarks for this PDF. You may need to enable the \",\n",
      "        \"metadata\": {\n",
      "            \"source\": \"../data/test_sample.pdf\",\n",
      "            \"page\": 0,\n",
      "            \"start_index\": 725\n",
      "        }\n",
      "    }\n",
      "}\n",
      "{\n",
      "    \"lc\": 1,\n",
      "    \"type\": \"constructor\",\n",
      "    \"id\": [\n",
      "        \"langchain\",\n",
      "        \"schema\",\n",
      "        \"document\",\n",
      "        \"Document\"\n",
      "    ],\n",
      "    \"kwargs\": {\n",
      "        \"page_content\": \"display of bookmarks in Adobe \\uf8e8 Acrobat \\uf8e8 Reader by clicking Window > Show Bookmarks . \",\n",
      "        \"metadata\": {\n",
      "            \"source\": \"../data/test_sample.pdf\",\n",
      "            \"page\": 0,\n",
      "            \"start_index\": 814\n",
      "        }\n",
      "    }\n",
      "}\n",
      "{\n",
      "    \"lc\": 1,\n",
      "    \"type\": \"constructor\",\n",
      "    \"id\": [\n",
      "        \"langchain\",\n",
      "        \"schema\",\n",
      "        \"document\",\n",
      "        \"Document\"\n",
      "    ],\n",
      "    \"kwargs\": {\n",
      "        \"page_content\": \"Selecting a date from the left pane displays the corresponding page within the document. \",\n",
      "        \"metadata\": {\n",
      "            \"source\": \"../data/test_sample.pdf\",\n",
      "            \"page\": 0,\n",
      "            \"start_index\": 902\n",
      "        }\n",
      "    }\n",
      "}\n",
      "{\n",
      "    \"lc\": 1,\n",
      "    \"type\": \"constructor\",\n",
      "    \"id\": [\n",
      "        \"langchain\",\n",
      "        \"schema\",\n",
      "        \"document\",\n",
      "        \"Document\"\n",
      "    ],\n",
      "    \"kwargs\": {\n",
      "        \"page_content\": \"Note that the index has been sorted according to the specification in the bookmark file, and that \",\n",
      "        \"metadata\": {\n",
      "            \"source\": \"../data/test_sample.pdf\",\n",
      "            \"page\": 0,\n",
      "            \"start_index\": 992\n",
      "        }\n",
      "    }\n",
      "}\n",
      "{\n",
      "    \"lc\": 1,\n",
      "    \"type\": \"constructor\",\n",
      "    \"id\": [\n",
      "        \"langchain\",\n",
      "        \"schema\",\n",
      "        \"document\",\n",
      "        \"Document\"\n",
      "    ],\n",
      "    \"kwargs\": {\n",
      "        \"page_content\": \"pages within the file are created according to the original order in the data file. \",\n",
      "        \"metadata\": {\n",
      "            \"source\": \"../data/test_sample.pdf\",\n",
      "            \"page\": 0,\n",
      "            \"start_index\": 1091\n",
      "        }\n",
      "    }\n",
      "}\n"
     ]
    }
   ],
   "source": [
    "recursive_text_splitter = RecursiveCharacterTextSplitter(\n",
    "    separators=[\"\\n\\n\", \"\\n\"],\n",
    "    is_separator_regex=False,\n",
    "    keep_separator=False,\n",
    "    chunk_size = 15,\n",
    "    chunk_overlap  = 0,\n",
    "    length_function = len,\n",
    "    add_start_index = True,\n",
    ")\n",
    "\n",
    "# for page in pages:\n",
    "#     print(json.dumps(page.to_json(), indent=4, default=str, ensure_ascii=True))\n",
    "\n",
    "# Split the 1st PDF page text into chunks \n",
    "for chunk in recursive_text_splitter.split_documents([pages[0]]):\n",
    "    print(json.dumps(chunk.to_json(), indent=4, default=str, ensure_ascii=True))"
   ]
  },
  {
   "cell_type": "markdown",
   "id": "3e6df41a-2617-43c7-b84c-6ef7a2d29de7",
   "metadata": {},
   "source": [
    "### CharacterTextSplitter\n",
    "\n",
    "* [What does langchain CharacterTextSplitter's chunk_size param even do?](https://stackoverflow.com/a/77341919/4281353)\n",
    "\n",
    "> CharacterTextSpliiter behaves differently from what you expected. It first looks for the **first 6** characters and then splits the next chunk from the closest separator, **not from the 7th characte**.\n",
    "> ```\n",
    "> text_splitter = CharacterTextSplitter(\n",
    ">     separator=\"\\n\",\n",
    ">     chunk_size=6,           # <--- Look for the first 6 characters, then start looking for the separator.\n",
    "> )\n",
    "\n"
   ]
  },
  {
   "cell_type": "code",
   "execution_count": 10,
   "id": "79cd2c0b-449d-4723-8516-3cd729e5da7d",
   "metadata": {
    "ExecuteTime": {
     "end_time": "2023-12-26T03:40:31.307327884Z",
     "start_time": "2023-12-26T03:40:31.270571564Z"
    }
   },
   "outputs": [],
   "source": [
    "text_splitter = CharacterTextSplitter(\n",
    "    separator=\"\\n\\n\",\n",
    "    is_separator_regex=False,\n",
    "    chunk_size=1200,\n",
    "    chunk_overlap=0\n",
    ")\n",
    "docs = text_splitter.split_documents(documents)"
   ]
  },
  {
   "cell_type": "code",
   "execution_count": 11,
   "id": "7a1c0ee0-dea6-4a6c-ae67-41d24b89d20c",
   "metadata": {
    "ExecuteTime": {
     "end_time": "2023-12-26T03:40:31.402031951Z",
     "start_time": "2023-12-26T03:40:31.270928035Z"
    }
   },
   "outputs": [
    {
     "name": "stdout",
     "output_type": "stream",
     "text": [
      "{\n",
      "    \"lc\": 1,\n",
      "    \"type\": \"constructor\",\n",
      "    \"id\": [\n",
      "        \"langchain\",\n",
      "        \"schema\",\n",
      "        \"document\",\n",
      "        \"Document\"\n",
      "    ],\n",
      "    \"kwargs\": {\n",
      "        \"page_content\": \"Madame Speaker, Vice President Biden, members of Congress, distinguished guests, and fellow Americans:\\n\\nOur Constitution declares that from time to time, the president shall give to Congress information about the state of our union. For 220 years, our leaders have fulfilled this duty. They have done so during periods of prosperity and tranquility. And they have done so in the midst of war and depression; at moments of great strife and great struggle.\\n\\nIt's tempting to look back on these moments and assume that our progress was inevitable, that America was always destined to succeed. But when the Union was turned back at Bull Run and the Allies first landed at Omaha Beach, victory was very much in doubt. When the market crashed on Black Tuesday and civil rights marchers were beaten on Bloody Sunday, the future was anything but certain. These were times that tested the courage of our convictions and the strength of our union. And despite all our divisions and disagreements, our hesitations and our fears, America prevailed because we chose to move forward as one nation and one people.\\n\\nAgain, we are tested. And again, we must answer history's call.\",\n",
      "        \"metadata\": {\n",
      "            \"source\": \"../data/state_of_the_union.txt\"\n",
      "        }\n",
      "    }\n",
      "}\n",
      "{\n",
      "    \"lc\": 1,\n",
      "    \"type\": \"constructor\",\n",
      "    \"id\": [\n",
      "        \"langchain\",\n",
      "        \"schema\",\n",
      "        \"document\",\n",
      "        \"Document\"\n",
      "    ],\n",
      "    \"kwargs\": {\n",
      "        \"page_content\": \"One year ago, I took office amid two wars, an economy rocked by severe recession, a financial system on the verge of collapse and a government deeply in debt. Experts from across the political spectrum warned that if we did not act, we might face a second depression. So we acted immediately and aggressively. And one year later, the worst of the storm has passed.\\n\\nBut the devastation remains. One in 10 Americans still cannot find work. Many businesses have shuttered. Home values have declined. Small towns and rural communities have been hit especially hard. For those who had already known poverty, life has become that much harder.\\n\\nThis recession has also compounded the burdens that America's families have been dealing with for decades -- the burden of working harder and longer for less, of being unable to save enough to retire or help kids with college.\",\n",
      "        \"metadata\": {\n",
      "            \"source\": \"../data/state_of_the_union.txt\"\n",
      "        }\n",
      "    }\n",
      "}\n",
      "{\n",
      "    \"lc\": 1,\n",
      "    \"type\": \"constructor\",\n",
      "    \"id\": [\n",
      "        \"langchain\",\n",
      "        \"schema\",\n",
      "        \"document\",\n",
      "        \"Document\"\n",
      "    ],\n",
      "    \"kwargs\": {\n",
      "        \"page_content\": \"So I know the anxieties that are out there right now. They're not new. These struggles are the reason I ran for president. These struggles are what I've witnessed for years in places like Elkhart, Ind., and Galesburg, Ill. I hear about them in the letters that I read each night. The toughest to read are those written by children asking why they have to move from their home, or when their mom or dad will be able to go back to work.\\n\\nFor these Americans and so many others, change has not come fast enough. Some are frustrated; some are angry. They don't understand why it seems like bad behavior on Wall Street is rewarded but hard work on Main Street isn't, or why Washington has been unable or unwilling to solve any of our problems. They are tired of the partisanship and the shouting and the pettiness. They know we can't afford it. Not now.\",\n",
      "        \"metadata\": {\n",
      "            \"source\": \"../data/state_of_the_union.txt\"\n",
      "        }\n",
      "    }\n",
      "}\n",
      "{\n",
      "    \"lc\": 1,\n",
      "    \"type\": \"constructor\",\n",
      "    \"id\": [\n",
      "        \"langchain\",\n",
      "        \"schema\",\n",
      "        \"document\",\n",
      "        \"Document\"\n",
      "    ],\n",
      "    \"kwargs\": {\n",
      "        \"page_content\": \"So we face big and difficult challenges. And what the American people hope what they deserve is for all of us, Democrats and Republicans, to work through our differences, to overcome the numbing weight of our politics. For while the people who sent us here have different backgrounds, different stories and different beliefs, the anxieties they face are the same. The aspirations they hold are shared: a job that pays the bills, a chance to get ahead. Most of all, the ability to give their children a better life.\\n\\nYou know what else they share? They share a stubborn resilience in the face of adversity. After one of the most difficult years in our history, they remain busy building cars and teaching kids, starting businesses and going back to school. They're coaching Little League and helping their neighbors. As one woman wrote me, \\\"We are strained but hopeful, struggling but encouraged.\\\"\",\n",
      "        \"metadata\": {\n",
      "            \"source\": \"../data/state_of_the_union.txt\"\n",
      "        }\n",
      "    }\n",
      "}\n",
      "{\n",
      "    \"lc\": 1,\n",
      "    \"type\": \"constructor\",\n",
      "    \"id\": [\n",
      "        \"langchain\",\n",
      "        \"schema\",\n",
      "        \"document\",\n",
      "        \"Document\"\n",
      "    ],\n",
      "    \"kwargs\": {\n",
      "        \"page_content\": \"It is because of this spirit, this great decency and great strength that I have never been more hopeful about America's future than I am tonight. Despite our hardships, our union is strong. We do not give up. We do not quit. We do not allow fear or division to break our spirit. In this new decade, it's time the American people get a government that matches their decency, that embodies their strength.\\n\\nAnd tonight, I'd like to talk about how together, we can deliver on that promise.\\n\\nIt begins with our economy.\\n\\nOur most urgent task upon taking office was to shore up the same banks that helped cause this crisis. It was not easy to do. And if there's one thing that has unified Democrats and Republicans, it's that we all hated the bank bailout. I hated it. You hated it. It was about as popular as a root canal.\\n\\nBut when I ran for president, I promised I wouldn't just do what was popular -- I would do what was necessary. And if we had allowed the meltdown of the financial system, unemployment might be double what it is today. More businesses would certainly have closed. More homes would have surely been lost.\",\n",
      "        \"metadata\": {\n",
      "            \"source\": \"../data/state_of_the_union.txt\"\n",
      "        }\n",
      "    }\n",
      "}\n",
      "{\n",
      "    \"lc\": 1,\n",
      "    \"type\": \"constructor\",\n",
      "    \"id\": [\n",
      "        \"langchain\",\n",
      "        \"schema\",\n",
      "        \"document\",\n",
      "        \"Document\"\n",
      "    ],\n",
      "    \"kwargs\": {\n",
      "        \"page_content\": \"So I supported the last administration's efforts to create the financial rescue program. And when we took the program over, we made it more transparent and accountable. As a result, the markets are now stabilized, and we have recovered most of the money we spent on the banks.\\n\\nTo recover the rest, I have proposed a fee on the biggest banks. I know Wall Street isn't keen on this idea, but if these firms can afford to hand out big bonuses again, they can afford a modest fee to pay back the taxpayers who rescued them in their time of need.\\n\\nAs we stabilized the financial system, we also took steps to get our economy growing again, save as many jobs as possible and help Americans who had become unemployed.\\n\\nThat's why we extended or increased unemployment benefits for more than 18 million Americans, made health insurance 65 percent cheaper for families who get their coverage through COBRA and passed 25 different tax cuts.\",\n",
      "        \"metadata\": {\n",
      "            \"source\": \"../data/state_of_the_union.txt\"\n",
      "        }\n",
      "    }\n",
      "}\n",
      "{\n",
      "    \"lc\": 1,\n",
      "    \"type\": \"constructor\",\n",
      "    \"id\": [\n",
      "        \"langchain\",\n",
      "        \"schema\",\n",
      "        \"document\",\n",
      "        \"Document\"\n",
      "    ],\n",
      "    \"kwargs\": {\n",
      "        \"page_content\": \"Let me repeat: we cut taxes. We cut taxes for 95 percent of working families. We cut taxes for small businesses. We cut taxes for first-time homebuyers. We cut taxes for parents trying to care for their children. We cut taxes for 8 million Americans paying for college. As a result, millions of Americans had more to spend on gas, and food and other necessities, all of which helped businesses keep more workers. And we haven't raised income taxes by a single dime on a single person. Not a single dime.\\n\\nBecause of the steps we took, there are about 2 million Americans working right now who would otherwise be unemployed -- 200,000 work in construction and clean energy, 300,000 are teachers and other education workers, tens of thousands are cops, firefighters, correctional officers and first responders. And we are on track to add another one-and-a-half-million jobs to this total by the end of the year.\",\n",
      "        \"metadata\": {\n",
      "            \"source\": \"../data/state_of_the_union.txt\"\n",
      "        }\n",
      "    }\n",
      "}\n",
      "{\n",
      "    \"lc\": 1,\n",
      "    \"type\": \"constructor\",\n",
      "    \"id\": [\n",
      "        \"langchain\",\n",
      "        \"schema\",\n",
      "        \"document\",\n",
      "        \"Document\"\n",
      "    ],\n",
      "    \"kwargs\": {\n",
      "        \"page_content\": \"The plan that has made all of this possible, from the tax cuts to the jobs, is the Recovery Act. That's right -- the Recovery Act, also known as the stimulus bill. Economists on the left and the right say that this bill has helped saved jobs and avert disaster. But you don't have to take their word for it.\\n\\nTalk to the small business in Phoenix that will triple its work force because of the Recovery Act.\\n\\nTalk to the window manufacturer in Philadelphia who said he used to be skeptical about the Recovery Act, until he had to add two more work shifts just because of the business it created.\\n\\nTalk to the single teacher raising two kids who was told by her principal in the last week of school that because of the Recovery Act, she wouldn't be laid off after all.\\n\\nThere are stories like this all across America. And after two years of recession, the economy is growing again. Retirement funds have started to gain back some of their value. Businesses are beginning to invest again, and slowly some are starting to hire again.\",\n",
      "        \"metadata\": {\n",
      "            \"source\": \"../data/state_of_the_union.txt\"\n",
      "        }\n",
      "    }\n",
      "}\n",
      "{\n",
      "    \"lc\": 1,\n",
      "    \"type\": \"constructor\",\n",
      "    \"id\": [\n",
      "        \"langchain\",\n",
      "        \"schema\",\n",
      "        \"document\",\n",
      "        \"Document\"\n",
      "    ],\n",
      "    \"kwargs\": {\n",
      "        \"page_content\": \"But I realize that for every success story, there are other stories, of men and women who wake up with the anguish of not knowing where their next paycheck will come from -- who send out resumes week after week and hear nothing in response. That is why jobs must be our number one focus in 2010, and that is why I am calling for a new jobs bill tonight.\\n\\nNow, the true engine of job creation in this country will always be America's businesses. But government can create the conditions necessary for businesses to expand and hire more workers.\\n\\nWe should start where most new jobs do -- in small businesses, companies that begin when an entrepreneur takes a chance on a dream or a worker decides it's time she became her own boss.\\n\\nThrough sheer grit and determination, these companies have weathered the recession and are ready to grow. But when you talk to small business owners in places like Allentown, Pa., or Elyria, Ohio, you find out that even though banks on Wall Street are lending again, they are mostly lending to bigger companies. But financing remains difficult for small business owners across the country.\",\n",
      "        \"metadata\": {\n",
      "            \"source\": \"../data/state_of_the_union.txt\"\n",
      "        }\n",
      "    }\n",
      "}\n",
      "{\n",
      "    \"lc\": 1,\n",
      "    \"type\": \"constructor\",\n",
      "    \"id\": [\n",
      "        \"langchain\",\n",
      "        \"schema\",\n",
      "        \"document\",\n",
      "        \"Document\"\n",
      "    ],\n",
      "    \"kwargs\": {\n",
      "        \"page_content\": \"So tonight, I'm proposing that we take $30 billion of the money Wall Street banks have repaid and use it to help community banks give small businesses the credit they need to stay afloat. I am also proposing a new small business tax credit -- one that will go to over 1 million small businesses who hire new workers or raise wages. While we're at it, let's also eliminate all capital gains taxes on small business investment and provide a tax incentive for all businesses, large and small, to invest in new plants and equipment.\\n\\nNext, we can put Americans to work today building the infrastructure of tomorrow. From the first railroads to the interstate highway system, our nation has always been built to compete. There's no reason Europe or China should have the fastest trains or the new factories that manufacture clean energy products.\",\n",
      "        \"metadata\": {\n",
      "            \"source\": \"../data/state_of_the_union.txt\"\n",
      "        }\n",
      "    }\n",
      "}\n",
      "{\n",
      "    \"lc\": 1,\n",
      "    \"type\": \"constructor\",\n",
      "    \"id\": [\n",
      "        \"langchain\",\n",
      "        \"schema\",\n",
      "        \"document\",\n",
      "        \"Document\"\n",
      "    ],\n",
      "    \"kwargs\": {\n",
      "        \"page_content\": \"Tomorrow, I'll visit Tampa, Fla., where workers will soon break ground on a new high-speed railroad funded by the Recovery Act. There are projects like that all across this country that will create jobs and help our nation move goods, services and information. We should put more Americans to work building clean energy facilities and give rebates to Americans who make their homes more energy efficient, which supports clean energy jobs. And to encourage these and other businesses to stay within our borders, it's time to finally slash the tax breaks for companies that ship our jobs overseas and give those tax breaks to companies that create jobs in the United States of America.\\n\\nThe House has passed a jobs bill that includes some of these steps. As the first order of business this year, I urge the Senate to do the same. People are out of work. They are hurting. They need our help. And I want a jobs bill on my desk without delay.\",\n",
      "        \"metadata\": {\n",
      "            \"source\": \"../data/state_of_the_union.txt\"\n",
      "        }\n",
      "    }\n",
      "}\n",
      "{\n",
      "    \"lc\": 1,\n",
      "    \"type\": \"constructor\",\n",
      "    \"id\": [\n",
      "        \"langchain\",\n",
      "        \"schema\",\n",
      "        \"document\",\n",
      "        \"Document\"\n",
      "    ],\n",
      "    \"kwargs\": {\n",
      "        \"page_content\": \"But the truth is, these steps still won't make up for the 7 million jobs we've lost over the last two years. The only way to move to full employment is to lay a new foundation for long-term economic growth and finally address the problems that America's families have confronted for years.\\n\\nWe cannot afford another so-called economic expansion like the one from last decade -- what some call the lost decade -- where jobs grew more slowly than during any prior expansion, where the income of the average American household declined while the cost of health care and tuition reached record highs, where prosperity was built on a housing bubble and financial speculation.\\n\\nFrom the day I took office, I have been told that addressing our larger challenges is too ambitious -- that such efforts would be too contentious, that our political system is too gridlocked and that we should just put things on hold for a while.\\n\\nFor those who make these claims, I have one simple question:\\n\\nHow long should we wait? How long should America put its future on hold?\",\n",
      "        \"metadata\": {\n",
      "            \"source\": \"../data/state_of_the_union.txt\"\n",
      "        }\n",
      "    }\n",
      "}\n",
      "{\n",
      "    \"lc\": 1,\n",
      "    \"type\": \"constructor\",\n",
      "    \"id\": [\n",
      "        \"langchain\",\n",
      "        \"schema\",\n",
      "        \"document\",\n",
      "        \"Document\"\n",
      "    ],\n",
      "    \"kwargs\": {\n",
      "        \"page_content\": \"You see, Washington has been telling us to wait for decades, even as the problems have grown worse. Meanwhile, China's not waiting to revamp its economy; Germany's not waiting; India's not waiting. These nations aren't standing still. These nations aren't playing for second place. They're putting more emphasis on math and science. They're rebuilding their infrastructure. They are making serious investments in clean energy because they want those jobs.\\n\\nWell I do not accept second place for the United States of America. As hard as it may be, as uncomfortable and contentious as the debates may be, it's time to get serious about fixing the problems that are hampering our growth.\\n\\nOne place to start is serious financial reform. Look, I am not interested in punishing banks, I'm interested in protecting our economy. A strong, healthy financial market makes it possible for businesses to access credit and create new jobs. It channels the savings of families into investments that raise incomes. But that can only happen if we guard against the same recklessness that nearly brought down our entire economy.\",\n",
      "        \"metadata\": {\n",
      "            \"source\": \"../data/state_of_the_union.txt\"\n",
      "        }\n",
      "    }\n",
      "}\n",
      "{\n",
      "    \"lc\": 1,\n",
      "    \"type\": \"constructor\",\n",
      "    \"id\": [\n",
      "        \"langchain\",\n",
      "        \"schema\",\n",
      "        \"document\",\n",
      "        \"Document\"\n",
      "    ],\n",
      "    \"kwargs\": {\n",
      "        \"page_content\": \"We need to make sure consumers and middle class families have the information they need to make financial decisions. We can't allow financial institutions, including those that take your deposits, to take risks that threaten the whole economy.\\n\\nThe House has already passed financial reform with many of these changes. And the lobbyists are already trying to kill it. Well, we cannot let them win this fight. And if the bill that ends up on my desk does not meet the test of real reform, I will send it back.\\n\\nNext, we need to encourage American innovation. Last year, we made the largest investment in basic research funding in history -- an investment that could lead to the world's cheapest solar cells or treatment that kills cancer cells but leaves healthy ones untouched. And no area is more ripe for such innovation than energy. You can see the results of last year's investment in clean energy -- in the North Carolina company that will create 1,200 jobs nationwide helping to make advanced batteries, or in the California business that will put 1,000 people to work making solar panels.\",\n",
      "        \"metadata\": {\n",
      "            \"source\": \"../data/state_of_the_union.txt\"\n",
      "        }\n",
      "    }\n",
      "}\n",
      "{\n",
      "    \"lc\": 1,\n",
      "    \"type\": \"constructor\",\n",
      "    \"id\": [\n",
      "        \"langchain\",\n",
      "        \"schema\",\n",
      "        \"document\",\n",
      "        \"Document\"\n",
      "    ],\n",
      "    \"kwargs\": {\n",
      "        \"page_content\": \"But to create more of these clean energy jobs, we need more production, more efficiency, more incentives. That means building a new generation of safe, clean nuclear power plants in this country. It means making tough decisions about opening new offshore areas for oil and gas development. It means continued investment in advanced biofuels and clean coal technologies. And yes, it means passing a comprehensive energy and climate bill with incentives that will finally make clean energy the profitable kind of energy in America.\\n\\nI am grateful to the House for passing such a bill last year. This year, I am eager to help advance the bipartisan effort in the Senate. I know there have been questions about whether we can afford such changes in a tough economy, and I know that there are those who disagree with the overwhelming scientific evidence on climate change. But even if you doubt the evidence, providing incentives for energy efficiency and clean energy are the right thing to do for our future -- because the nation that leads the clean energy economy will be the nation that leads the global economy. And America must be that nation.\",\n",
      "        \"metadata\": {\n",
      "            \"source\": \"../data/state_of_the_union.txt\"\n",
      "        }\n",
      "    }\n",
      "}\n",
      "{\n",
      "    \"lc\": 1,\n",
      "    \"type\": \"constructor\",\n",
      "    \"id\": [\n",
      "        \"langchain\",\n",
      "        \"schema\",\n",
      "        \"document\",\n",
      "        \"Document\"\n",
      "    ],\n",
      "    \"kwargs\": {\n",
      "        \"page_content\": \"Third, we need to export more of our goods. Because the more products we make and sell to other countries, the more jobs we support right here in America. So tonight, we set a new goal: We will double our exports over the next five years, an increase that will support 2 million jobs in America. To help meet this goal, we're launching a national export initiative that will help farmers and small businesses increase their exports and reform export controls consistent with national security.\\n\\nWe have to seek new markets aggressively, just as our competitors are. If America sits on the sidelines while other nations sign trade deals, we will lose the chance to create jobs on our shores. But realizing those benefits also means enforcing those agreements so our trading partners play by the rules. And that's why we will continue to shape a Doha trade agreement that opens global markets, and why we will strengthen our trade relations in Asia and with key partners like South Korea, Panama and Colombia.\\n\\nFourth, we need to invest in the skills and education of our people.\",\n",
      "        \"metadata\": {\n",
      "            \"source\": \"../data/state_of_the_union.txt\"\n",
      "        }\n",
      "    }\n",
      "}\n",
      "{\n",
      "    \"lc\": 1,\n",
      "    \"type\": \"constructor\",\n",
      "    \"id\": [\n",
      "        \"langchain\",\n",
      "        \"schema\",\n",
      "        \"document\",\n",
      "        \"Document\"\n",
      "    ],\n",
      "    \"kwargs\": {\n",
      "        \"page_content\": \"This year, we have broken through the stalemate between left and right by launching a national competition to improve our schools. The idea here is simple: Instead of rewarding failure, we only reward success. Instead of funding the status quo, we only invest in reform -- reform that raises student achievement, inspires students to excel in math and science, and turns around failing schools that steal the future of too many young Americans, from rural communities to inner cities. In the 21st century, one of the best anti-poverty programs is a world-class education. In this country, the success of our children cannot depend more on where they live than their potential.\",\n",
      "        \"metadata\": {\n",
      "            \"source\": \"../data/state_of_the_union.txt\"\n",
      "        }\n",
      "    }\n",
      "}\n",
      "{\n",
      "    \"lc\": 1,\n",
      "    \"type\": \"constructor\",\n",
      "    \"id\": [\n",
      "        \"langchain\",\n",
      "        \"schema\",\n",
      "        \"document\",\n",
      "        \"Document\"\n",
      "    ],\n",
      "    \"kwargs\": {\n",
      "        \"page_content\": \"When we renew the Elementary and Secondary Education Act, we will work with Congress to expand these reforms to all 50 states. Still, in this economy, a high school diploma no longer guarantees a good job. I urge the Senate to follow the House and pass a bill that will revitalize our community colleges, which are a career pathway to the children of so many working families. To make college more affordable, this bill will finally end the unwarranted taxpayer subsidies that go to banks for student loans. Instead, let's take that money and give families a $10,000 tax credit for four years of college and increase Pell Grants. And let's tell another 1 million students that when they graduate, they will be required to pay only 10 percent of their income on student loans, and all of their debt will be forgiven after 20 years -- and forgiven after 10 years if they choose a career in public service. Because in the United States of America, no one should go broke because they chose to go to college. And it's time for colleges and universities to get serious about cutting their own costs -- because they too have a responsibility to help solve this problem.\",\n",
      "        \"metadata\": {\n",
      "            \"source\": \"../data/state_of_the_union.txt\"\n",
      "        }\n",
      "    }\n",
      "}\n",
      "{\n",
      "    \"lc\": 1,\n",
      "    \"type\": \"constructor\",\n",
      "    \"id\": [\n",
      "        \"langchain\",\n",
      "        \"schema\",\n",
      "        \"document\",\n",
      "        \"Document\"\n",
      "    ],\n",
      "    \"kwargs\": {\n",
      "        \"page_content\": \"Now, the price of college tuition is just one of the burdens facing the middle class. That's why last year I asked Vice President Biden to chair a task force on middle class families. That's why we're nearly doubling the child care tax credit, and making it easier to save for retirement by giving every worker access to a retirement account and expanding the tax credit for those who start a nest egg. That's why we're working to lift the value of a family's single largest investment -- their home. The steps we took last year to shore up the housing market have allowed millions of Americans to take out new loans and save an average of $1,500 on mortgage payments. This year, we will step up refinancing so that homeowners can move into more affordable mortgages. And it is precisely to relieve the burden on middle-class families that we still need health insurance reform.\\n\\nNow let's be clear -- I did not choose to tackle this issue to get some legislative victory under my belt. And by now it should be fairly obvious that I didn't take on health care because it was good politics.\",\n",
      "        \"metadata\": {\n",
      "            \"source\": \"../data/state_of_the_union.txt\"\n",
      "        }\n",
      "    }\n",
      "}\n",
      "{\n",
      "    \"lc\": 1,\n",
      "    \"type\": \"constructor\",\n",
      "    \"id\": [\n",
      "        \"langchain\",\n",
      "        \"schema\",\n",
      "        \"document\",\n",
      "        \"Document\"\n",
      "    ],\n",
      "    \"kwargs\": {\n",
      "        \"page_content\": \"I took on health care because of the stories I've heard from Americans with pre-existing conditions whose lives depend on getting coverage, patients who've been denied coverage and families -- even those with insurance -- who are just one illness away from financial ruin.\\n\\nAfter nearly a century of trying, we are closer than ever to bringing more security to the lives of so many Americans. The approach we've taken would protect every American from the worst practices of the insurance industry. It would give small businesses and uninsured Americans a chance to choose an affordable health care plan in a competitive market. It would require every insurance plan to cover preventive care. And by the way, I want to acknowledge our first lady, Michelle Obama, who this year is creating a national movement to tackle the epidemic of childhood obesity and make our kids healthier.\",\n",
      "        \"metadata\": {\n",
      "            \"source\": \"../data/state_of_the_union.txt\"\n",
      "        }\n",
      "    }\n",
      "}\n",
      "{\n",
      "    \"lc\": 1,\n",
      "    \"type\": \"constructor\",\n",
      "    \"id\": [\n",
      "        \"langchain\",\n",
      "        \"schema\",\n",
      "        \"document\",\n",
      "        \"Document\"\n",
      "    ],\n",
      "    \"kwargs\": {\n",
      "        \"page_content\": \"Our approach would preserve the right of Americans who have insurance to keep their doctor and their plan. It would reduce costs and premiums for millions of families and businesses. And according to the Congressional Budget Office -- the independent organization that both parties have cited as the official scorekeeper for Congress -- our approach would bring down the deficit by as much as $1 trillion over the next two decades.\\n\\nStill, this is a complex issue, and the longer it was debated, the more skeptical people became. I take my share of the blame for not explaining it more clearly to the American people. And I know that with all the lobbying and horse trading, this process left most Americans wondering what's in it for them.\\n\\nBut I also know this problem is not going away. By the time I'm finished speaking tonight, more Americans will have lost their health insurance. Millions will lose it this year. Our deficit will grow. Premiums will go up. Patients will be denied the care they need. Small business owners will continue to drop coverage altogether. I will not walk away from these Americans and neither should the people in this chamber.\",\n",
      "        \"metadata\": {\n",
      "            \"source\": \"../data/state_of_the_union.txt\"\n",
      "        }\n",
      "    }\n",
      "}\n",
      "{\n",
      "    \"lc\": 1,\n",
      "    \"type\": \"constructor\",\n",
      "    \"id\": [\n",
      "        \"langchain\",\n",
      "        \"schema\",\n",
      "        \"document\",\n",
      "        \"Document\"\n",
      "    ],\n",
      "    \"kwargs\": {\n",
      "        \"page_content\": \"As temperatures cool, I want everyone to take another look at the plan we've proposed. There's a reason why many doctors, nurses and health care experts who know our system best consider this approach a vast improvement over the status quo. But if anyone from either party has a better approach that will bring down premiums, bring down the deficit, cover the uninsured, strengthen Medicare for seniors and stop insurance company abuses, let me know. Here's what I ask of Congress, though: Do not walk away from reform. Not now. Not when we are so close. Let us find a way to come together and finish the job for the American people.\\n\\nNow, even as health care reform would reduce our deficit, it's not enough to dig us out of a massive fiscal hole in which we find ourselves. It's a challenge that makes all others that much harder to solve, and one that's been subject to a lot of political posturing.\",\n",
      "        \"metadata\": {\n",
      "            \"source\": \"../data/state_of_the_union.txt\"\n",
      "        }\n",
      "    }\n",
      "}\n",
      "{\n",
      "    \"lc\": 1,\n",
      "    \"type\": \"constructor\",\n",
      "    \"id\": [\n",
      "        \"langchain\",\n",
      "        \"schema\",\n",
      "        \"document\",\n",
      "        \"Document\"\n",
      "    ],\n",
      "    \"kwargs\": {\n",
      "        \"page_content\": \"So let me start the discussion of government spending by setting the record straight. At the beginning of the last decade, America had a budget surplus of over $200 billion. By the time I took office, we had a one year deficit of over $1 trillion and projected deficits of $8 trillion over the next decade. Most of this was the result of not paying for two wars, two tax cuts and an expensive prescription drug program. On top of that, the effects of the recession put a $3 trillion hole in our budget. That was before I walked in the door.\\n\\nNow if we had taken office in ordinary times, I would have liked nothing more than to start bringing down the deficit. But we took office amid a crisis, and our efforts to prevent a second depression have added another $1 trillion to our national debt.\\n\\nI am absolutely convinced that was the right thing to do. But families across the country are tightening their belts and making tough decisions. The federal government should do the same. So tonight, I'm proposing specific steps to pay for the $1 trillion that it took to rescue the economy last year.\",\n",
      "        \"metadata\": {\n",
      "            \"source\": \"../data/state_of_the_union.txt\"\n",
      "        }\n",
      "    }\n",
      "}\n",
      "{\n",
      "    \"lc\": 1,\n",
      "    \"type\": \"constructor\",\n",
      "    \"id\": [\n",
      "        \"langchain\",\n",
      "        \"schema\",\n",
      "        \"document\",\n",
      "        \"Document\"\n",
      "    ],\n",
      "    \"kwargs\": {\n",
      "        \"page_content\": \"Starting in 2011, we are prepared to freeze government spending for three years. Spending related to our national security, Medicare, Medicaid and Social Security will not be affected. But all other discretionary government programs will. Like any cash-strapped family, we will work within a budget to invest in what we need and sacrifice what we don't. And if I have to enforce this discipline by veto, I will.\\n\\nWe will continue to go through the budget line by line to eliminate programs that we can't afford and don't work. We've already identified $20 billion in savings for next year. To help working families, we will extend our middle-class tax cuts. But at a time of record deficits, we will not continue tax cuts for oil companies, investment fund managers and those making over $250,000 a year. We just can't afford it.\",\n",
      "        \"metadata\": {\n",
      "            \"source\": \"../data/state_of_the_union.txt\"\n",
      "        }\n",
      "    }\n",
      "}\n",
      "{\n",
      "    \"lc\": 1,\n",
      "    \"type\": \"constructor\",\n",
      "    \"id\": [\n",
      "        \"langchain\",\n",
      "        \"schema\",\n",
      "        \"document\",\n",
      "        \"Document\"\n",
      "    ],\n",
      "    \"kwargs\": {\n",
      "        \"page_content\": \"Now, even after paying for what we spent on my watch, we will still face the massive deficit we had when I took office. More importantly, the cost of Medicare, Medicaid and Social Security will continue to skyrocket. That's why I've called for a bipartisan fiscal commission, modeled on a proposal by Republican Judd Gregg and Democrat Kent Conrad. This can't be one of those Washington gimmicks that lets us pretend we solved a problem. The commission will have to provide a specific set of solutions by a certain deadline. Yesterday, the Senate blocked a bill that would have created this commission. So I will issue an executive order that will allow us to go forward, because I refuse to pass this problem on to another generation of Americans. And when the vote comes tomorrow, the Senate should restore the pay-as-you-go law that was a big reason why we had record surpluses in the 1990s.\",\n",
      "        \"metadata\": {\n",
      "            \"source\": \"../data/state_of_the_union.txt\"\n",
      "        }\n",
      "    }\n",
      "}\n",
      "{\n",
      "    \"lc\": 1,\n",
      "    \"type\": \"constructor\",\n",
      "    \"id\": [\n",
      "        \"langchain\",\n",
      "        \"schema\",\n",
      "        \"document\",\n",
      "        \"Document\"\n",
      "    ],\n",
      "    \"kwargs\": {\n",
      "        \"page_content\": \"I know that some in my own party will argue that we cannot address the deficit or freeze government spending when so many are still hurting. I agree, which is why this freeze will not take effect until next year, when the economy is stronger. But understand -- if we do not take meaningful steps to rein in our debt, it could damage our markets, increase the cost of borrowing and jeopardize our recovery -- all of which could have an even worse effect on our job growth and family incomes.\\n\\nFrom some on the right, I expect we'll hear a different argument -- that if we just make fewer investments in our people, extend tax cuts for wealthier Americans, eliminate more regulations and maintain the status quo on health care, our deficits will go away. The problem is, that's what we did for eight years. That's what helped lead us into this crisis. It's what helped lead to these deficits. And we cannot do it again.\\n\\nRather than fight the same tired battles that have dominated Washington for decades, it's time to try something new. Let's invest in our people without leaving them a mountain of debt. Let's meet our responsibility to the citizens who sent us here. Let's try common sense.\",\n",
      "        \"metadata\": {\n",
      "            \"source\": \"../data/state_of_the_union.txt\"\n",
      "        }\n",
      "    }\n",
      "}\n",
      "{\n",
      "    \"lc\": 1,\n",
      "    \"type\": \"constructor\",\n",
      "    \"id\": [\n",
      "        \"langchain\",\n",
      "        \"schema\",\n",
      "        \"document\",\n",
      "        \"Document\"\n",
      "    ],\n",
      "    \"kwargs\": {\n",
      "        \"page_content\": \"To do that, we have to recognize that we face more than a deficit of dollars right now. We face a deficit of trust -- deep and corrosive doubts about how Washington works that have been growing for years. To close that credibility gap we must take action on both ends of Pennsylvania Avenue to end the outsized influence of lobbyists; to do our work openly and to give our people the government they deserve.\\n\\nThat's what I came to Washington to do. That's why -- for the first time in history -- my administration posts our White House visitors online. And that's why we've excluded lobbyists from policymaking jobs or seats on federal boards and commissions.\",\n",
      "        \"metadata\": {\n",
      "            \"source\": \"../data/state_of_the_union.txt\"\n",
      "        }\n",
      "    }\n",
      "}\n",
      "{\n",
      "    \"lc\": 1,\n",
      "    \"type\": \"constructor\",\n",
      "    \"id\": [\n",
      "        \"langchain\",\n",
      "        \"schema\",\n",
      "        \"document\",\n",
      "        \"Document\"\n",
      "    ],\n",
      "    \"kwargs\": {\n",
      "        \"page_content\": \"But we can't stop there. It's time to require lobbyists to disclose each contact they make on behalf of a client with my administration or Congress. And it's time to put strict limits on the contributions that lobbyists give to candidates for federal office. Last week, the Supreme Court reversed a century of law to open the floodgates for special interests -- including foreign corporations -- to spend without limit in our elections. Well, I don't think American elections should be bankrolled by America's most powerful interests, or worse, by foreign entities. They should be decided by the American people, and that's why I'm urging Democrats and Republicans to pass a bill that helps to right this wrong.\",\n",
      "        \"metadata\": {\n",
      "            \"source\": \"../data/state_of_the_union.txt\"\n",
      "        }\n",
      "    }\n",
      "}\n",
      "{\n",
      "    \"lc\": 1,\n",
      "    \"type\": \"constructor\",\n",
      "    \"id\": [\n",
      "        \"langchain\",\n",
      "        \"schema\",\n",
      "        \"document\",\n",
      "        \"Document\"\n",
      "    ],\n",
      "    \"kwargs\": {\n",
      "        \"page_content\": \"I'm also calling on Congress to continue down the path of earmark reform. You have trimmed some of this spending and embraced some meaningful change. But restoring the public trust demands more. For example, some members of Congress post some earmark requests online. Tonight, I'm calling on Congress to publish all earmark requests on a single Web site before there's a vote, so that the American people can see how their money is being spent. Of course, none of these reforms will even happen if we don't also reform how we work with one another.\\n\\nNow, I am not naive. I never thought the mere fact of my election would usher in peace, harmony and some post-partisan era. I knew that both parties have fed divisions that are deeply entrenched. And on some issues, there are simply philosophical differences that will always cause us to part ways. These disagreements, about the role of government in our lives, about our national priorities and our national security, have been taking place for over 200 years. They are the very essence of our democracy.\",\n",
      "        \"metadata\": {\n",
      "            \"source\": \"../data/state_of_the_union.txt\"\n",
      "        }\n",
      "    }\n",
      "}\n",
      "{\n",
      "    \"lc\": 1,\n",
      "    \"type\": \"constructor\",\n",
      "    \"id\": [\n",
      "        \"langchain\",\n",
      "        \"schema\",\n",
      "        \"document\",\n",
      "        \"Document\"\n",
      "    ],\n",
      "    \"kwargs\": {\n",
      "        \"page_content\": \"But what frustrates the American people is a Washington where every day is election day. We cannot wage a perpetual campaign where the only goal is to see who can get the most embarrassing headlines about their opponent -- a belief that if you lose, I win. Neither party should delay or obstruct every single bill just because they can. The confirmation of well-qualified public servants should not be held hostage to the pet projects or grudges of a few individual senators. Washington may think that saying anything about the other side, no matter how false, is just part of the game. But it is precisely such politics that has stopped either party from helping the American people. Worse yet, it is sowing further division among our citizens and further distrust in our government.\",\n",
      "        \"metadata\": {\n",
      "            \"source\": \"../data/state_of_the_union.txt\"\n",
      "        }\n",
      "    }\n",
      "}\n",
      "{\n",
      "    \"lc\": 1,\n",
      "    \"type\": \"constructor\",\n",
      "    \"id\": [\n",
      "        \"langchain\",\n",
      "        \"schema\",\n",
      "        \"document\",\n",
      "        \"Document\"\n",
      "    ],\n",
      "    \"kwargs\": {\n",
      "        \"page_content\": \"So no, I will not give up on changing the tone of our politics. I know it's an election year. And after last week, it is clear that campaign fever has come even earlier than usual. But we still need to govern. To Democrats, I would remind you that we still have the largest majority in decades, and the people expect us to solve some problems, not run for the hills. And if the Republican leadership is going to insist that 60 votes in the Senate are required to do any business at all in this town, then the responsibility to govern is now yours as well. Just saying no to everything may be good short-term politics, but it's not leadership. We were sent here to serve our citizens, not our ambitions. So let's show the American people that we can do it together. This week, I'll be addressing a meeting of the House Republicans. And I would like to begin monthly meetings with both the Democratic and Republican leadership. I know you can't wait.\",\n",
      "        \"metadata\": {\n",
      "            \"source\": \"../data/state_of_the_union.txt\"\n",
      "        }\n",
      "    }\n",
      "}\n",
      "{\n",
      "    \"lc\": 1,\n",
      "    \"type\": \"constructor\",\n",
      "    \"id\": [\n",
      "        \"langchain\",\n",
      "        \"schema\",\n",
      "        \"document\",\n",
      "        \"Document\"\n",
      "    ],\n",
      "    \"kwargs\": {\n",
      "        \"page_content\": \"Throughout our history, no issue has united this country more than our security. Sadly, some of the unity we felt after 9/11 has dissipated. We can argue all we want about who's to blame for this, but I am not interested in relitigating the past. I know that all of us love this country. All of us are committed to its defense. So let's put aside the schoolyard taunts about who is tough. Let's reject the false choice between protecting our people and upholding our values. Let's leave behind the fear and division and do what it takes to defend our nation and forge a more hopeful future -- for America and the world.\",\n",
      "        \"metadata\": {\n",
      "            \"source\": \"../data/state_of_the_union.txt\"\n",
      "        }\n",
      "    }\n",
      "}\n",
      "{\n",
      "    \"lc\": 1,\n",
      "    \"type\": \"constructor\",\n",
      "    \"id\": [\n",
      "        \"langchain\",\n",
      "        \"schema\",\n",
      "        \"document\",\n",
      "        \"Document\"\n",
      "    ],\n",
      "    \"kwargs\": {\n",
      "        \"page_content\": \"That is the work we began last year. Since the day I took office, we have renewed our focus on the terrorists who threaten our nation. We have made substantial investments in our homeland security and disrupted plots that threatened to take American lives. We are filling unacceptable gaps revealed by the failed Christmas attack, with better airline security and swifter action on our intelligence. We have prohibited torture and strengthened partnerships from the Pacific to South Asia to the Arabian Peninsula. And in the last year, hundreds of al-Qaida's fighters and affiliates, including many senior leaders, have been captured or killed -- far more than in 2008.\\n\\nIn Afghanistan, we are increasing our troops and training Afghan Security Forces so they can begin to take the lead in July of 2011 and our troops can begin to come home. We will reward good governance, reduce corruption and support the rights of all Afghans -- men and women alike. We are joined by allies and partners who have increased their own commitment, and who will come together tomorrow in London to reaffirm our common purpose. There will be difficult days ahead. But I am confident we will succeed.\",\n",
      "        \"metadata\": {\n",
      "            \"source\": \"../data/state_of_the_union.txt\"\n",
      "        }\n",
      "    }\n",
      "}\n",
      "{\n",
      "    \"lc\": 1,\n",
      "    \"type\": \"constructor\",\n",
      "    \"id\": [\n",
      "        \"langchain\",\n",
      "        \"schema\",\n",
      "        \"document\",\n",
      "        \"Document\"\n",
      "    ],\n",
      "    \"kwargs\": {\n",
      "        \"page_content\": \"As we take the fight to al-Qaida, we are responsibly leaving Iraq to its people. As a candidate, I promised that I would end this war, and that is what I am doing as president. We will have all of our combat troops out of Iraq by the end of this August. We will support the Iraqi government as they hold elections, and continue to partner with the Iraqi people to promote regional peace and prosperity. But make no mistake: This war is ending, and all of our troops are coming home. Tonight, all of our men and women in uniform -- in Iraq, Afghanistan and around the world -- must know that they have our respect, our gratitude and our full support. And just as they must have the resources they need in war, we all have a responsibility to support them when they come home. That is why we made the largest increase in investments for veterans in decades. That is why we are building a 21st century VA. And that is why Michelle has joined with Jill Biden to forge a national commitment to support military families.\",\n",
      "        \"metadata\": {\n",
      "            \"source\": \"../data/state_of_the_union.txt\"\n",
      "        }\n",
      "    }\n",
      "}\n",
      "{\n",
      "    \"lc\": 1,\n",
      "    \"type\": \"constructor\",\n",
      "    \"id\": [\n",
      "        \"langchain\",\n",
      "        \"schema\",\n",
      "        \"document\",\n",
      "        \"Document\"\n",
      "    ],\n",
      "    \"kwargs\": {\n",
      "        \"page_content\": \"Even as we prosecute two wars, we are also confronting perhaps the greatest danger to the American people -- the threat of nuclear weapons. I have embraced the vision of John F. Kennedy and Ronald Reagan through a strategy that reverses the spread of these weapons and seeks a world without them. To reduce our stockpiles and launchers, while ensuring our deterrent, the United States and Russia are completing negotiations on the farthest-reaching arms control treaty in nearly two decades. And at April's nuclear security summit, we will bring 44 nations together behind a clear goal: securing all vulnerable nuclear materials around the world in four years, so that they never fall into the hands of terrorists.\",\n",
      "        \"metadata\": {\n",
      "            \"source\": \"../data/state_of_the_union.txt\"\n",
      "        }\n",
      "    }\n",
      "}\n",
      "{\n",
      "    \"lc\": 1,\n",
      "    \"type\": \"constructor\",\n",
      "    \"id\": [\n",
      "        \"langchain\",\n",
      "        \"schema\",\n",
      "        \"document\",\n",
      "        \"Document\"\n",
      "    ],\n",
      "    \"kwargs\": {\n",
      "        \"page_content\": \"These diplomatic efforts have also strengthened our hand in dealing with those nations that insist on violating international agreements in pursuit of these weapons. That is why North Korea now faces increased isolation and stronger sanctions -- sanctions that are being vigorously enforced. That is why the international community is more united, and the Islamic Republic of Iran is more isolated. And as Iran's leaders continue to ignore their obligations, there should be no doubt: They, too, will face growing consequences.\",\n",
      "        \"metadata\": {\n",
      "            \"source\": \"../data/state_of_the_union.txt\"\n",
      "        }\n",
      "    }\n",
      "}\n",
      "{\n",
      "    \"lc\": 1,\n",
      "    \"type\": \"constructor\",\n",
      "    \"id\": [\n",
      "        \"langchain\",\n",
      "        \"schema\",\n",
      "        \"document\",\n",
      "        \"Document\"\n",
      "    ],\n",
      "    \"kwargs\": {\n",
      "        \"page_content\": \"That is the leadership that we are providing -- engagement that advances the common security and prosperity of all people. We are working through the G-20 to sustain a lasting global recovery. We are working with Muslim communities around the world to promote science, education and innovation. We have gone from a bystander to a leader in the fight against climate change. We are helping developing countries to feed themselves and continuing the fight against HIV/AIDS. And we are launching a new initiative that will give us the capacity to respond faster and more effectively to bioterrorism or an infectious disease -- a plan that will counter threats at home and strengthen public health abroad.\",\n",
      "        \"metadata\": {\n",
      "            \"source\": \"../data/state_of_the_union.txt\"\n",
      "        }\n",
      "    }\n",
      "}\n",
      "{\n",
      "    \"lc\": 1,\n",
      "    \"type\": \"constructor\",\n",
      "    \"id\": [\n",
      "        \"langchain\",\n",
      "        \"schema\",\n",
      "        \"document\",\n",
      "        \"Document\"\n",
      "    ],\n",
      "    \"kwargs\": {\n",
      "        \"page_content\": \"As we have for over 60 years, America takes these actions because our destiny is connected to those beyond our shores. But we also do it because it is right. That is why, as we meet here tonight, over 10,000 Americans are working with many nations to help the people of Haiti recover and rebuild. That is why we stand with the girl who yearns to go to school in Afghanistan, we support the human rights of the women marching through the streets of Iran, and we advocate for the young man denied a job by corruption in Guinea. For America must always stand on the side of freedom and human dignity.\\n\\nAbroad, America's greatest source of strength has always been our ideals. The same is true at home. We find unity in our incredible diversity, drawing on the promise enshrined in our Constitution: the notion that we are all created equal, that no matter who you are or what you look like, if you abide by the law you should be protected by it, that if you adhere to our common values you should be treated no different than anyone else.\",\n",
      "        \"metadata\": {\n",
      "            \"source\": \"../data/state_of_the_union.txt\"\n",
      "        }\n",
      "    }\n",
      "}\n",
      "{\n",
      "    \"lc\": 1,\n",
      "    \"type\": \"constructor\",\n",
      "    \"id\": [\n",
      "        \"langchain\",\n",
      "        \"schema\",\n",
      "        \"document\",\n",
      "        \"Document\"\n",
      "    ],\n",
      "    \"kwargs\": {\n",
      "        \"page_content\": \"We must continually renew this promise. My administration has a civil rights division that is once again prosecuting civil rights violations and employment discrimination. We finally strengthened our laws to protect against crimes driven by hate. This year, I will work with Congress and our military to finally repeal the law that denies gay Americans the right to serve the country they love because of who they are. We are going to crack down on violations of equal pay laws -- so that women get equal pay for an equal day's work. And we should continue the work of fixing our broken immigration system -- to secure our borders, enforce our laws and ensure that everyone who plays by the rules can contribute to our economy and enrich our nations.\",\n",
      "        \"metadata\": {\n",
      "            \"source\": \"../data/state_of_the_union.txt\"\n",
      "        }\n",
      "    }\n",
      "}\n",
      "{\n",
      "    \"lc\": 1,\n",
      "    \"type\": \"constructor\",\n",
      "    \"id\": [\n",
      "        \"langchain\",\n",
      "        \"schema\",\n",
      "        \"document\",\n",
      "        \"Document\"\n",
      "    ],\n",
      "    \"kwargs\": {\n",
      "        \"page_content\": \"In the end, it is our ideals, our values, that built America -- values that allowed us to forge a nation made up of immigrants from every corner of the globe, values that drive our citizens still. Every day, Americans meet their responsibilities to their families and their employers. Time and again, they lend a hand to their neighbors and give back to their country. They take pride in their labor, and are generous in spirit. These aren't Republican values or Democratic values they're living by, business values or labor values. They are American values.\",\n",
      "        \"metadata\": {\n",
      "            \"source\": \"../data/state_of_the_union.txt\"\n",
      "        }\n",
      "    }\n",
      "}\n",
      "{\n",
      "    \"lc\": 1,\n",
      "    \"type\": \"constructor\",\n",
      "    \"id\": [\n",
      "        \"langchain\",\n",
      "        \"schema\",\n",
      "        \"document\",\n",
      "        \"Document\"\n",
      "    ],\n",
      "    \"kwargs\": {\n",
      "        \"page_content\": \"Unfortunately, too many of our citizens have lost faith that our biggest institutions -- our corporations, our media and, yes, our government -- still reflect these same values. Each of these institutions are full of honorable men and women doing important work that helps our country prosper. But each time a CEO rewards himself for failure, or a banker puts the rest of us at risk for his own selfish gain, people's doubts grow. Each time lobbyists game the system or politicians tear each other down instead of lifting this country up, we lose faith. The more that TV pundits reduce serious debates into silly arguments and big issues into sound bites, our citizens turn away.\\n\\nNo wonder there's so much cynicism out there.\\n\\nNo wonder there's so much disappointment.\\n\\nI campaigned on the promise of change -- change we can believe in, the slogan went. And right now, I know there are many Americans who aren't sure if they still believe we can change -- or at least, that I can deliver it.\",\n",
      "        \"metadata\": {\n",
      "            \"source\": \"../data/state_of_the_union.txt\"\n",
      "        }\n",
      "    }\n",
      "}\n",
      "{\n",
      "    \"lc\": 1,\n",
      "    \"type\": \"constructor\",\n",
      "    \"id\": [\n",
      "        \"langchain\",\n",
      "        \"schema\",\n",
      "        \"document\",\n",
      "        \"Document\"\n",
      "    ],\n",
      "    \"kwargs\": {\n",
      "        \"page_content\": \"But remember this -- I never suggested that change would be easy or that I can do it alone. Democracy in a nation of 300 million people can be noisy and messy and complicated. And when you try to do big things and make big changes, it stirs passions and controversy. That's just how it is.\\n\\nThose of us in public office can respond to this reality by playing it safe and avoid telling hard truths. We can do what's necessary to keep our poll numbers high and get through the next election instead of doing what's best for the next generation.\\n\\nBut I also know this: If people had made that decision 50 years ago or 100 years ago or 200 years ago, we wouldn't be here tonight. The only reason we are is because generations of Americans were unafraid to do what was hard, to do what was needed even when success was uncertain, to do what it took to keep the dream of this nation alive for their children and grandchildren.\",\n",
      "        \"metadata\": {\n",
      "            \"source\": \"../data/state_of_the_union.txt\"\n",
      "        }\n",
      "    }\n",
      "}\n",
      "{\n",
      "    \"lc\": 1,\n",
      "    \"type\": \"constructor\",\n",
      "    \"id\": [\n",
      "        \"langchain\",\n",
      "        \"schema\",\n",
      "        \"document\",\n",
      "        \"Document\"\n",
      "    ],\n",
      "    \"kwargs\": {\n",
      "        \"page_content\": \"Our administration has had some political setbacks this year and some of them were deserved. But I wake up every day knowing that they are nothing compared to the setbacks that families all across this country have faced this year. And what keeps me going -- what keeps me fighting -- is that despite all these setbacks, that spirit of determination and optimism -- that fundamental decency that has always been at the core of the American people -- lives on. It lives on in the struggling small business owner who wrote to me of his company, \\\"None of us,\\\" he said, \\\"are willing to consider, even slightly, that we might fail.\\\"\\n\\nIt lives on in the woman who said that even though she and her neighbors have felt the pain of recession, \\\"We are strong. We are resilient. We are American.\\\"\\n\\nIt lives on in the 8-year-old boy in Louisiana, who just sent me his allowance and asked if I would give it to the people of Haiti. And it lives on in all the Americans who've dropped everything to go some place they've never been and pull people they've never known from rubble, prompting chants of \\\"USA! USA! USA!\\\" when another life was saved.\",\n",
      "        \"metadata\": {\n",
      "            \"source\": \"../data/state_of_the_union.txt\"\n",
      "        }\n",
      "    }\n",
      "}\n",
      "{\n",
      "    \"lc\": 1,\n",
      "    \"type\": \"constructor\",\n",
      "    \"id\": [\n",
      "        \"langchain\",\n",
      "        \"schema\",\n",
      "        \"document\",\n",
      "        \"Document\"\n",
      "    ],\n",
      "    \"kwargs\": {\n",
      "        \"page_content\": \"The spirit that has sustained this nation for more than two centuries lives on in you, its people.\\n\\nWe have finished a difficult year. We have come through a difficult decade. But a new year has come. A new decade stretches before us. We don't quit. I don't quit. Let's seize this moment -- to start anew, to carry the dream forward, and to strengthen our union once more.\\n\\nThank you. God Bless You. And God Bless the United States of America.\",\n",
      "        \"metadata\": {\n",
      "            \"source\": \"../data/state_of_the_union.txt\"\n",
      "        }\n",
      "    }\n",
      "}\n"
     ]
    }
   ],
   "source": [
    "for doc in docs:\n",
    "    print(json.dumps(doc.to_json(), indent=4, default=str, ensure_ascii=True))"
   ]
  },
  {
   "cell_type": "markdown",
   "id": "e2e8bc5c-4469-4c6d-91cc-ab779a4aa751",
   "metadata": {},
   "source": [
    "### SentenceTransformersTokenTextSplitter\n",
    "\n",
    "SentenceTransformersTokenTextSplitter.split_text has a bug. It is using huggingface tokenizer encode_plus which may not return start_token_id e.g. tokenizer for ```\"gtr-t5-large```. However, it assumes it always has ```[start_token][tokens][end_token]``` structure and use ```[1:-1]``` to truncate start_token and end_token. Hence, everytime the first word is lost.\n",
    "\n",
    "[github SentenceTransformersTokenTextSplitter](api.python.langchain.com/en/stable/_modules/langchain/text_splitter.html#SentenceTransformersTokenTextSplitter)\n",
    "```\n",
    "def encode_strip_start_and_stop_token_ids(text: str) -> List[int]:\n",
    "    return self._encode(text)[1:-1] <---\n",
    "```\n",
    "\n",
    "* [Split by tokens](https://python.langchain.com/docs/modules/data_connection/document_transformers/text_splitters/split_by_token)\n",
    "\n",
    "Split not to exceed the token limits required by the model. Tokenizer depends on the Sentence Transformer model to use, hence the model name must match.\n",
    "\n",
    "* [Sentence Transformers](https://huggingface.co/sentence-transformers)\n",
    "* [Sentence Transformer - all-MiniLM-L6-v2](https://huggingface.co/sentence-transformers/all-MiniLM-L6-v2)"
   ]
  },
  {
   "cell_type": "markdown",
   "id": "d588e892-93ae-4771-ba08-deaeb61d8c83",
   "metadata": {},
   "source": [
    "```RecursiveCharacterTextSplitter().from_huggingface_tokenizer(sentence_trf_tokenizer)``` does not work as the number of tokens exceed the limit.\n",
    "\n",
    "```\n",
    "sentence_trf_tokenizer = AutoTokenizer.from_pretrained(f'sentence-transformers/{SENTENCE_TRF_MODEL}')\n",
    "sentence_trf_splitter = RecursiveCharacterTextSplitter(\n",
    "    separators=[\"\\n\\n\", \"\\n\"],\n",
    "    is_separator_regex=False,\n",
    "    keep_separator=False,\n",
    "    chunk_size = 10,\n",
    "    chunk_overlap  = 0,\n",
    "    # length_function = len,\n",
    "    add_start_index = True,\n",
    ").from_huggingface_tokenizer(sentence_trf_tokenizer)\n",
    "sentence_trf_splitter.count_tokens(text=sentences[0].page_content)\n",
    "----\n",
    "3683   # <--- exceeds the limit\n",
    "```"
   ]
  },
  {
   "cell_type": "code",
   "execution_count": 12,
   "id": "28492c45-1ef7-485d-bff3-525b71758d8f",
   "metadata": {
    "ExecuteTime": {
     "end_time": "2023-12-26T03:40:31.582279040Z",
     "start_time": "2023-12-26T03:40:31.327657420Z"
    }
   },
   "outputs": [
    {
     "name": "stdout",
     "output_type": "stream",
     "text": [
      "Max tokens for the model [gtr-t5-large] is [512].\n"
     ]
    }
   ],
   "source": [
    "sentence_trf_splitter = SentenceTransformersTokenTextSplitter(\n",
    "    model_name=SENTENCE_TRF_MODEL,\n",
    "    chunk_overlap=0,    # number of tokens to overlap, not characters,\n",
    ")\n",
    "\n",
    "num_max_tokens: int = sentence_trf_splitter.maximum_tokens_per_chunk\n",
    "print(f\"Max tokens for the model [{SENTENCE_TRF_MODEL}] is [{num_max_tokens}].\")"
   ]
  },
  {
   "cell_type": "code",
   "execution_count": 13,
   "id": "504087150a11ddd1",
   "metadata": {
    "ExecuteTime": {
     "end_time": "2023-12-26T03:40:32.746766245Z",
     "start_time": "2023-12-26T03:40:31.570934885Z"
    },
    "collapsed": false,
    "jupyter": {
     "outputs_hidden": false
    }
   },
   "outputs": [
    {
     "name": "stderr",
     "output_type": "stream",
     "text": [
      "2023-12-26 19:14:08.450379: I tensorflow/core/util/port.cc:111] oneDNN custom operations are on. You may see slightly different numerical results due to floating-point round-off errors from different computation orders. To turn them off, set the environment variable `TF_ENABLE_ONEDNN_OPTS=0`.\n",
      "2023-12-26 19:14:08.473262: E tensorflow/compiler/xla/stream_executor/cuda/cuda_dnn.cc:9342] Unable to register cuDNN factory: Attempting to register factory for plugin cuDNN when one has already been registered\n",
      "2023-12-26 19:14:08.473291: E tensorflow/compiler/xla/stream_executor/cuda/cuda_fft.cc:609] Unable to register cuFFT factory: Attempting to register factory for plugin cuFFT when one has already been registered\n",
      "2023-12-26 19:14:08.473317: E tensorflow/compiler/xla/stream_executor/cuda/cuda_blas.cc:1518] Unable to register cuBLAS factory: Attempting to register factory for plugin cuBLAS when one has already been registered\n",
      "2023-12-26 19:14:08.477620: I tensorflow/core/platform/cpu_feature_guard.cc:182] This TensorFlow binary is optimized to use available CPU instructions in performance-critical operations.\n",
      "To enable the following instructions: AVX2 AVX_VNNI FMA, in other operations, rebuild TensorFlow with the appropriate compiler flags.\n"
     ]
    },
    {
     "data": {
      "text/plain": [
       "512"
      ]
     },
     "execution_count": 13,
     "metadata": {},
     "output_type": "execute_result"
    }
   ],
   "source": [
    "tokenizer = sentence_trf_splitter._model.tokenizer\n",
    "tokens = tokenizer('a')['input_ids']\n",
    "tokenizer.batch_decode(tokens)\n",
    "sentence_trf_splitter._model.max_seq_length"
   ]
  },
  {
   "cell_type": "code",
   "execution_count": 14,
   "id": "765bf98176e8450a",
   "metadata": {
    "ExecuteTime": {
     "end_time": "2023-12-26T03:40:32.750305500Z",
     "start_time": "2023-12-26T03:40:32.745777302Z"
    },
    "collapsed": false,
    "jupyter": {
     "outputs_hidden": false
    }
   },
   "outputs": [
    {
     "data": {
      "text/plain": [
       "[]"
      ]
     },
     "execution_count": 14,
     "metadata": {},
     "output_type": "execute_result"
    }
   ],
   "source": [
    "sentence_trf_splitter.split_text('')"
   ]
  },
  {
   "cell_type": "markdown",
   "id": "591c1b04-e3ec-4afc-b409-ef193df0012f",
   "metadata": {},
   "source": [
    "#### Split documents into chunks\n",
    "\n",
    "Split the documents into chunks where each chunk has the token length that the Sentence Transformer Model can accept. There are multiple methods to split."
   ]
  },
  {
   "cell_type": "code",
   "execution_count": 15,
   "id": "764352e6-61c9-4bb6-9bd6-7f2deb4fbbf8",
   "metadata": {
    "ExecuteTime": {
     "end_time": "2023-12-26T03:41:08.990235507Z",
     "start_time": "2023-12-26T03:40:32.748516289Z"
    }
   },
   "outputs": [
    {
     "name": "stdout",
     "output_type": "stream",
     "text": [
      "402\n"
     ]
    },
    {
     "data": {
      "text/plain": [
       "[\"Speaker, Vice President Biden, members of Congress, distinguished guests, and fellow Americans: Our Constitution declares that from time to time, the president shall give to Congress information about the state of our union. For 220 years, our leaders have fulfilled this duty. They have done so during periods of prosperity and tranquility. And they have done so in the midst of war and depression; at moments of great strife and great struggle. It's tempting to look back on these moments and assume that our progress was inevitable, that America was always destined to succeed. But when the Union was turned back at Bull Run and the Allies first landed at Omaha Beach, victory was very much in doubt. When the market crashed on Black Tuesday and civil rights marchers were beaten on Bloody Sunday, the future was anything but certain. These were times that tested the courage of our convictions and the strength of our union. And despite all our divisions and disagreements, our hesitations and our fears, America prevailed because we chose to move forward as one nation and one people. Again, we are tested. And again, we must answer history's call. One year ago, I took office amid two wars, an economy rocked by severe recession, a financial system on the verge of collapse and a government deeply in debt. Experts from across the political spectrum warned that if we did not act, we might face a second depression. So we acted immediately and aggressively. And one year later, the worst of the storm has passed. But the devastation remains. One in 10 Americans still cannot find work. Many businesses have shuttered. Home values have declined. Small towns and rural communities have been hit especially hard. For those who had already known poverty, life has become that much harder. This recession has also compounded the burdens that America's families have been dealing with for decades -- the burden of working harder and longer for less, of being unable to save enough to retire or help kids with college. So I know the anxieties that are out there right now. They're not new. These struggles are the reason I ran for president. These struggles are what I've witnessed for years in places like Elkhart, Ind., and Galesburg, Ill. I hear about them in the letters that I read each night. The toughest to read are those written by children asking why\",\n",
       " 'they have to move from their home, or when their mom or dad will be able to go back to work. For these Americans and so many others, change has not come fast enough. Some are frustrated; some are angry. They don\\'t understand why it seems like bad behavior on Wall Street is rewarded but hard work on Main Street isn\\'t, or why Washington has been unable or unwilling to solve any of our problems. They are tired of the partisanship and the shouting and the pettiness. They know we can\\'t afford it. Not now. So we face big and difficult challenges. And what the American people hope what they deserve is for all of us, Democrats and Republicans, to work through our differences, to overcome the numbing weight of our politics. For while the people who sent us here have different backgrounds, different stories and different beliefs, the anxieties they face are the same. The aspirations they hold are shared: a job that pays the bills, a chance to get ahead. Most of all, the ability to give their children a better life. You know what else they share? They share a stubborn resilience in the face of adversity. After one of the most difficult years in our history, they remain busy building cars and teaching kids, starting businesses and going back to school. They\\'re coaching Little League and helping their neighbors. As one woman wrote me, \"We are strained but hopeful, struggling but encouraged.\" It is because of this spirit, this great decency and great strength that I have never been more hopeful about America\\'s future than I am tonight. Despite our hardships, our union is strong. We do not give up. We do not quit. We do not allow fear or division to break our spirit. In this new decade, it\\'s time the American people get a government that matches their decency, that embodies their strength. And tonight, I\\'d like to talk about how together, we can deliver on that promise. It begins with our economy. Our most urgent task upon taking office was to shore up the same banks that helped cause this crisis. It was not easy to do. And if there\\'s one thing that has unified Democrats and Republicans, it\\'s that we all hated the bank bailout. I hated it. You hated it. It was about as popular as a root canal. But',\n",
       " \"when I ran for president, I promised I wouldn't just do what was popular -- I would do what was necessary. And if we had allowed the meltdown of the financial system, unemployment might be double what it is today. More businesses would certainly have closed. More homes would have surely been lost. So I supported the last administration's efforts to create the financial rescue program. And when we took the program over, we made it more transparent and accountable. As a result, the markets are now stabilized, and we have recovered most of the money we spent on the banks. To recover the rest, I have proposed a fee on the biggest banks. I know Wall Street isn't keen on this idea, but if these firms can afford to hand out big bonuses again, they can afford a modest fee to pay back the taxpayers who rescued them in their time of need. As we stabilized the financial system, we also took steps to get our economy growing again, save as many jobs as possible and help Americans who had become unemployed. That's why we extended or increased unemployment benefits for more than 18 million Americans, made health insurance 65 percent cheaper for families who get their coverage through COBRA and passed 25 different tax cuts. Let me repeat: we cut taxes. We cut taxes for 95 percent of working families. We cut taxes for small businesses. We cut taxes for first-time homebuyers. We cut taxes for parents trying to care for their children. We cut taxes for 8 million Americans paying for college. As a result, millions of Americans had more to spend on gas, and food and other necessities, all of which helped businesses keep more workers. And we haven't raised income taxes by a single dime on a single person. Not a single dime. Because of the steps we took, there are about 2 million Americans working right now who would otherwise be unemployed -- 200,000 work in construction and clean energy, 300,000 are teachers and other education workers, tens of thousands are cops, firefighters, correctional officers and first responders. And we are on track to add another one-and-a-half-million jobs to this total by the end of the year. The plan that has made all of this possible, from the tax cuts to the jobs, is the Recovery Act. That's right -- the Recovery Act, also known as the stimulus bill. Economists on the left\",\n",
       " \"and the right say that this bill has helped saved jobs and avert disaster. But you don't have to take their word for it. Talk to the small business in Phoenix that will triple its work force because of the Recovery Act. Talk to the window manufacturer in Philadelphia who said he used to be skeptical about the Recovery Act, until he had to add two more work shifts just because of the business it created. Talk to the single teacher raising two kids who was told by her principal in the last week of school that because of the Recovery Act, she wouldn't be laid off after all. There are stories like this all across America. And after two years of recession, the economy is growing again. Retirement funds have started to gain back some of their value. Businesses are beginning to invest again, and slowly some are starting to hire again. But I realize that for every success story, there are other stories, of men and women who wake up with the anguish of not knowing where their next paycheck will come from -- who send out resumes week after week and hear nothing in response. That is why jobs must be our number one focus in 2010, and that is why I am calling for a new jobs bill tonight. Now, the true engine of job creation in this country will always be America's businesses. But government can create the conditions necessary for businesses to expand and hire more workers. We should start where most new jobs do -- in small businesses, companies that begin when an entrepreneur takes a chance on a dream or a worker decides it's time she became her own boss. Through sheer grit and determination, these companies have weathered the recession and are ready to grow. But when you talk to small business owners in places like Allentown, Pa., or Elyria, Ohio, you find out that even though banks on Wall Street are lending again, they are mostly lending to bigger companies. But financing remains difficult for small business owners across the country. So tonight, I'm proposing that we take $30 billion of the money Wall Street banks have repaid and use it to help community banks give small businesses the credit they need to stay afloat. I am also proposing a new small business tax credit -- one that will go to over 1 million small businesses who hire new workers or raise wages. While we're at it, let's also eliminate all capital gains taxes on small business investment and provide a\",\n",
       " \"tax incentive for all businesses, large and small, to invest in new plants and equipment. Next, we can put Americans to work today building the infrastructure of tomorrow. From the first railroads to the interstate highway system, our nation has always been built to compete. There's no reason Europe or China should have the fastest trains or the new factories that manufacture clean energy products. Tomorrow, I'll visit Tampa, Fla., where workers will soon break ground on a new high-speed railroad funded by the Recovery Act. There are projects like that all across this country that will create jobs and help our nation move goods, services and information. We should put more Americans to work building clean energy facilities and give rebates to Americans who make their homes more energy efficient, which supports clean energy jobs. And to encourage these and other businesses to stay within our borders, it's time to finally slash the tax breaks for companies that ship our jobs overseas and give those tax breaks to companies that create jobs in the United States of America. The House has passed a jobs bill that includes some of these steps. As the first order of business this year, I urge the Senate to do the same. People are out of work. They are hurting. They need our help. And I want a jobs bill on my desk without delay. But the truth is, these steps still won't make up for the 7 million jobs we've lost over the last two years. The only way to move to full employment is to lay a new foundation for long-term economic growth and finally address the problems that America's families have confronted for years. We cannot afford another so-called economic expansion like the one from last decade -- what some call the lost decade -- where jobs grew more slowly than during any prior expansion, where the income of the average American household declined while the cost of health care and tuition reached record highs, where prosperity was built on a housing bubble and financial speculation. From the day I took office, I have been told that addressing our larger challenges is too ambitious -- that such efforts would be too contentious, that our political system is too gridlocked and that we should just put things on hold for a while. For those who make these claims, I have one simple question: How long should we wait? How long should America put its future on hold? You see, Washington has been telling us to wait for decades, even as the problems have grown worse.\",\n",
       " \"Meanwhile, China's not waiting to revamp its economy; Germany's not waiting; India's not waiting. These nations aren't standing still. These nations aren't playing for second place. They're putting more emphasis on math and science. They're rebuilding their infrastructure. They are making serious investments in clean energy because they want those jobs. Well I do not accept second place for the United States of America. As hard as it may be, as uncomfortable and contentious as the debates may be, it's time to get serious about fixing the problems that are hampering our growth. One place to start is serious financial reform. Look, I am not interested in punishing banks, I'm interested in protecting our economy. A strong, healthy financial market makes it possible for businesses to access credit and create new jobs. It channels the savings of families into investments that raise incomes. But that can only happen if we guard against the same recklessness that nearly brought down our entire economy. We need to make sure consumers and middle class families have the information they need to make financial decisions. We can't allow financial institutions, including those that take your deposits, to take risks that threaten the whole economy. The House has already passed financial reform with many of these changes. And the lobbyists are already trying to kill it. Well, we cannot let them win this fight. And if the bill that ends up on my desk does not meet the test of real reform, I will send it back. Next, we need to encourage American innovation. Last year, we made the largest investment in basic research funding in history -- an investment that could lead to the world's cheapest solar cells or treatment that kills cancer cells but leaves healthy ones untouched. And no area is more ripe for such innovation than energy. You can see the results of last year's investment in clean energy -- in the North Carolina company that will create 1,200 jobs nationwide helping to make advanced batteries, or in the California business that will put 1,000 people to work making solar panels. But to create more of these clean energy jobs, we need more production, more efficiency, more incentives. That means building a new generation of safe, clean nuclear power plants in this country. It means making tough decisions about opening new offshore areas for oil and gas development. It means continued investment in advanced biofuels and clean coal technologies. And yes, it means passing a comprehensive energy and\",\n",
       " \"climate bill with incentives that will finally make clean energy the profitable kind of energy in America. I am grateful to the House for passing such a bill last year. This year, I am eager to help advance the bipartisan effort in the Senate. I know there have been questions about whether we can afford such changes in a tough economy, and I know that there are those who disagree with the overwhelming scientific evidence on climate change. But even if you doubt the evidence, providing incentives for energy efficiency and clean energy are the right thing to do for our future -- because the nation that leads the clean energy economy will be the nation that leads the global economy. And America must be that nation. Third, we need to export more of our goods. Because the more products we make and sell to other countries, the more jobs we support right here in America. So tonight, we set a new goal: We will double our exports over the next five years, an increase that will support 2 million jobs in America. To help meet this goal, we're launching a national export initiative that will help farmers and small businesses increase their exports and reform export controls consistent with national security. We have to seek new markets aggressively, just as our competitors are. If America sits on the sidelines while other nations sign trade deals, we will lose the chance to create jobs on our shores. But realizing those benefits also means enforcing those agreements so our trading partners play by the rules. And that's why we will continue to shape a Doha trade agreement that opens global markets, and why we will strengthen our trade relations in Asia and with key partners like South Korea, Panama and Colombia. Fourth, we need to invest in the skills and education of our people. This year, we have broken through the stalemate between left and right by launching a national competition to improve our schools. The idea here is simple: Instead of rewarding failure, we only reward success. Instead of funding the status quo, we only invest in reform -- reform that raises student achievement, inspires students to excel in math and science, and turns around failing schools that steal the future of too many young Americans, from rural communities to inner cities. In the 21st century, one of the best anti-poverty programs is a world-class education. In this country, the success of our children cannot depend more on where they live than their potential. When we renew\",\n",
       " \"the Elementary and Secondary Education Act, we will work with Congress to expand these reforms to all 50 states. Still, in this economy, a high school diploma no longer guarantees a good job. I urge the Senate to follow the House and pass a bill that will revitalize our community colleges, which are a career pathway to the children of so many working families. To make college more affordable, this bill will finally end the unwarranted taxpayer subsidies that go to banks for student loans. Instead, let's take that money and give families a $10,000 tax credit for four years of college and increase Pell Grants. And let's tell another 1 million students that when they graduate, they will be required to pay only 10 percent of their income on student loans, and all of their debt will be forgiven after 20 years -- and forgiven after 10 years if they choose a career in public service. Because in the United States of America, no one should go broke because they chose to go to college. And it's time for colleges and universities to get serious about cutting their own costs -- because they too have a responsibility to help solve this problem. Now, the price of college tuition is just one of the burdens facing the middle class. That's why last year I asked Vice President Biden to chair a task force on middle class families. That's why we're nearly doubling the child care tax credit, and making it easier to save for retirement by giving every worker access to a retirement account and expanding the tax credit for those who start a nest egg. That's why we're working to lift the value of a family's single largest investment -- their home. The steps we took last year to shore up the housing market have allowed millions of Americans to take out new loans and save an average of $1,500 on mortgage payments. This year, we will step up refinancing so that homeowners can move into more affordable mortgages. And it is precisely to relieve the burden on middle-class families that we still need health insurance reform. Now let's be clear -- I did not choose to tackle this issue to get some legislative victory under my belt. And by now it should be fairly obvious that I didn't take on health care because it was good politics. I took on health care because of the stories I've heard from Americans with pre-existing conditions whose lives depend on getting coverage, patients\",\n",
       " \"who've been denied coverage and families -- even those with insurance -- who are just one illness away from financial ruin. After nearly a century of trying, we are closer than ever to bringing more security to the lives of so many Americans. The approach we've taken would protect every American from the worst practices of the insurance industry. It would give small businesses and uninsured Americans a chance to choose an affordable health care plan in a competitive market. It would require every insurance plan to cover preventive care. And by the way, I want to acknowledge our first lady, Michelle Obama, who this year is creating a national movement to tackle the epidemic of childhood obesity and make our kids healthier. Our approach would preserve the right of Americans who have insurance to keep their doctor and their plan. It would reduce costs and premiums for millions of families and businesses. And according to the Congressional Budget Office -- the independent organization that both parties have cited as the official scorekeeper for Congress -- our approach would bring down the deficit by as much as $1 trillion over the next two decades. Still, this is a complex issue, and the longer it was debated, the more skeptical people became. I take my share of the blame for not explaining it more clearly to the American people. And I know that with all the lobbying and horse trading, this process left most Americans wondering what's in it for them. But I also know this problem is not going away. By the time I'm finished speaking tonight, more Americans will have lost their health insurance. Millions will lose it this year. Our deficit will grow. Premiums will go up. Patients will be denied the care they need. Small business owners will continue to drop coverage altogether. I will not walk away from these Americans and neither should the people in this chamber. As temperatures cool, I want everyone to take another look at the plan we've proposed. There's a reason why many doctors, nurses and health care experts who know our system best consider this approach a vast improvement over the status quo. But if anyone from either party has a better approach that will bring down premiums, bring down the deficit, cover the uninsured, strengthen Medicare for seniors and stop insurance company abuses, let me know. Here's what I ask of Congress, though: Do not walk away from reform. Not now. Not when we are so close. Let us find a way to come together\",\n",
       " \"and finish the job for the American people. Now, even as health care reform would reduce our deficit, it's not enough to dig us out of a massive fiscal hole in which we find ourselves. It's a challenge that makes all others that much harder to solve, and one that's been subject to a lot of political posturing. So let me start the discussion of government spending by setting the record straight. At the beginning of the last decade, America had a budget surplus of over $200 billion. By the time I took office, we had a one year deficit of over $1 trillion and projected deficits of $8 trillion over the next decade. Most of this was the result of not paying for two wars, two tax cuts and an expensive prescription drug program. On top of that, the effects of the recession put a $3 trillion hole in our budget. That was before I walked in the door. Now if we had taken office in ordinary times, I would have liked nothing more than to start bringing down the deficit. But we took office amid a crisis, and our efforts to prevent a second depression have added another $1 trillion to our national debt. I am absolutely convinced that was the right thing to do. But families across the country are tightening their belts and making tough decisions. The federal government should do the same. So tonight, I'm proposing specific steps to pay for the $1 trillion that it took to rescue the economy last year. Starting in 2011, we are prepared to freeze government spending for three years. Spending related to our national security, Medicare, Medicaid and Social Security will not be affected. But all other discretionary government programs will. Like any cash-strapped family, we will work within a budget to invest in what we need and sacrifice what we don't. And if I have to enforce this discipline by veto, I will. We will continue to go through the budget line by line to eliminate programs that we can't afford and don't work. We've already identified $20 billion in savings for next year. To help working families, we will extend our middle-class tax cuts. But at a time of record deficits, we will not continue tax cuts for oil companies, investment fund managers and those making over $250,000 a year. We just can't afford it. Now, even after paying for what we spent on my watch, we will still face the massive\",\n",
       " \"deficit we had when I took office. More importantly, the cost of Medicare, Medicaid and Social Security will continue to skyrocket. That's why I've called for a bipartisan fiscal commission, modeled on a proposal by Republican Judd Gregg and Democrat Kent Conrad. This can't be one of those Washington gimmicks that lets us pretend we solved a problem. The commission will have to provide a specific set of solutions by a certain deadline. Yesterday, the Senate blocked a bill that would have created this commission. So I will issue an executive order that will allow us to go forward, because I refuse to pass this problem on to another generation of Americans. And when the vote comes tomorrow, the Senate should restore the pay-as-you-go law that was a big reason why we had record surpluses in the 1990s. I know that some in my own party will argue that we cannot address the deficit or freeze government spending when so many are still hurting. I agree, which is why this freeze will not take effect until next year, when the economy is stronger. But understand -- if we do not take meaningful steps to rein in our debt, it could damage our markets, increase the cost of borrowing and jeopardize our recovery -- all of which could have an even worse effect on our job growth and family incomes. From some on the right, I expect we'll hear a different argument -- that if we just make fewer investments in our people, extend tax cuts for wealthier Americans, eliminate more regulations and maintain the status quo on health care, our deficits will go away. The problem is, that's what we did for eight years. That's what helped lead us into this crisis. It's what helped lead to these deficits. And we cannot do it again. Rather than fight the same tired battles that have dominated Washington for decades, it's time to try something new. Let's invest in our people without leaving them a mountain of debt. Let's meet our responsibility to the citizens who sent us here. Let's try common sense. To do that, we have to recognize that we face more than a deficit of dollars right now. We face a deficit of trust -- deep and corrosive doubts about how Washington works that have been growing for years. To close that credibility gap\",\n",
       " \"we must take action on both ends of Pennsylvania Avenue to end the outsized influence of lobbyists; to do our work openly and to give our people the government they deserve. That's what I came to Washington to do. That's why -- for the first time in history -- my administration posts our White House visitors online. And that's why we've excluded lobbyists from policymaking jobs or seats on federal boards and commissions. But we can't stop there. It's time to require lobbyists to disclose each contact they make on behalf of a client with my administration or Congress. And it's time to put strict limits on the contributions that lobbyists give to candidates for federal office. Last week, the Supreme Court reversed a century of law to open the floodgates for special interests -- including foreign corporations -- to spend without limit in our elections. Well, I don't think American elections should be bankrolled by America's most powerful interests, or worse, by foreign entities. They should be decided by the American people, and that's why I'm urging Democrats and Republicans to pass a bill that helps to right this wrong. I'm also calling on Congress to continue down the path of earmark reform. You have trimmed some of this spending and embraced some meaningful change. But restoring the public trust demands more. For example, some members of Congress post some earmark requests online. Tonight, I'm calling on Congress to publish all earmark requests on a single Web site before there's a vote, so that the American people can see how their money is being spent. Of course, none of these reforms will even happen if we don't also reform how we work with one another. Now, I am not naive. I never thought the mere fact of my election would usher in peace, harmony and some post-partisan era. I knew that both parties have fed divisions that are deeply entrenched. And on some issues, there are simply philosophical differences that will always cause us to part ways. These disagreements, about the role of government in our lives, about our national priorities and our national security, have been taking place for over 200 years. They are the very essence of our democracy. But what frustrates the American people is a Washington where every day is election day. We cannot wage a perpetual campaign where the only\",\n",
       " \"goal is to see who can get the most embarrassing headlines about their opponent -- a belief that if you lose, I win. Neither party should delay or obstruct every single bill just because they can. The confirmation of well-qualified public servants should not be held hostage to the pet projects or grudges of a few individual senators. Washington may think that saying anything about the other side, no matter how false, is just part of the game. But it is precisely such politics that has stopped either party from helping the American people. Worse yet, it is sowing further division among our citizens and further distrust in our government. So no, I will not give up on changing the tone of our politics. I know it's an election year. And after last week, it is clear that campaign fever has come even earlier than usual. But we still need to govern. To Democrats, I would remind you that we still have the largest majority in decades, and the people expect us to solve some problems, not run for the hills. And if the Republican leadership is going to insist that 60 votes in the Senate are required to do any business at all in this town, then the responsibility to govern is now yours as well. Just saying no to everything may be good short-term politics, but it's not leadership. We were sent here to serve our citizens, not our ambitions. So let's show the American people that we can do it together. This week, I'll be addressing a meeting of the House Republicans. And I would like to begin monthly meetings with both the Democratic and Republican leadership. I know you can't wait. Throughout our history, no issue has united this country more than our security. Sadly, some of the unity we felt after 9/11 has dissipated. We can argue all we want about who's to blame for this, but I am not interested in relitigating the past. I know that all of us love this country. All of us are committed to its defense. So let's put aside the schoolyard taunts about who is tough. Let's reject the false choice between protecting our people and upholding our values. Let's leave behind the fear and division and do what it takes to defend our nation and forge a more hopeful future -- for America and the world. That is the work we began last year. Since the\",\n",
       " \"day I took office, we have renewed our focus on the terrorists who threaten our nation. We have made substantial investments in our homeland security and disrupted plots that threatened to take American lives. We are filling unacceptable gaps revealed by the failed Christmas attack, with better airline security and swifter action on our intelligence. We have prohibited torture and strengthened partnerships from the Pacific to South Asia to the Arabian Peninsula. And in the last year, hundreds of al-Qaida's fighters and affiliates, including many senior leaders, have been captured or killed -- far more than in 2008. In Afghanistan, we are increasing our troops and training Afghan Security Forces so they can begin to take the lead in July of 2011 and our troops can begin to come home. We will reward good governance, reduce corruption and support the rights of all Afghans -- men and women alike. We are joined by allies and partners who have increased their own commitment, and who will come together tomorrow in London to reaffirm our common purpose. There will be difficult days ahead. But I am confident we will succeed. As we take the fight to al-Qaida, we are responsibly leaving Iraq to its people. As a candidate, I promised that I would end this war, and that is what I am doing as president. We will have all of our combat troops out of Iraq by the end of this August. We will support the Iraqi government as they hold elections, and continue to partner with the Iraqi people to promote regional peace and prosperity. But make no mistake: This war is ending, and all of our troops are coming home. Tonight, all of our men and women in uniform -- in Iraq, Afghanistan and around the world -- must know that they have our respect, our gratitude and our full support. And just as they must have the resources they need in war, we all have a responsibility to support them when they come home. That is why we made the largest increase in investments for veterans in decades. That is why we are building a 21st century VA. And that is why Michelle has joined with Jill Biden to forge a national commitment to support military families. Even as we prosecute two wars, we are also confronting perhaps the greatest danger to the American people -- the threat of nuclear weapons. I have embraced the vision of John F. Kennedy and Ronald Reagan through a strategy that reverses the spread of these weapons and seeks a world\",\n",
       " \"without them. To reduce our stockpiles and launchers, while ensuring our deterrent, the United States and Russia are completing negotiations on the farthest-reaching arms control treaty in nearly two decades. And at April's nuclear security summit, we will bring 44 nations together behind a clear goal: securing all vulnerable nuclear materials around the world in four years, so that they never fall into the hands of terrorists. These diplomatic efforts have also strengthened our hand in dealing with those nations that insist on violating international agreements in pursuit of these weapons. That is why North Korea now faces increased isolation and stronger sanctions -- sanctions that are being vigorously enforced. That is why the international community is more united, and the Islamic Republic of Iran is more isolated. And as Iran's leaders continue to ignore their obligations, there should be no doubt: They, too, will face growing consequences. That is the leadership that we are providing -- engagement that advances the common security and prosperity of all people. We are working through the G-20 to sustain a lasting global recovery. We are working with Muslim communities around the world to promote science, education and innovation. We have gone from a bystander to a leader in the fight against climate change. We are helping developing countries to feed themselves and continuing the fight against HIV/AIDS. And we are launching a new initiative that will give us the capacity to respond faster and more effectively to bioterrorism or an infectious disease -- a plan that will counter threats at home and strengthen public health abroad. As we have for over 60 years, America takes these actions because our destiny is connected to those beyond our shores. But we also do it because it is right. That is why, as we meet here tonight, over 10,000 Americans are working with many nations to help the people of Haiti recover and rebuild. That is why we stand with the girl who yearns to go to school in Afghanistan, we support the human rights of the women marching through the streets of Iran, and we advocate for the young man denied a job by corruption in Guinea. For America must always stand on the side of freedom and human dignity. Abroad, America's greatest source of strength has always been our ideals. The same is true at home. We find unity in our incredible diversity, drawing on the promise enshrined in our Constitution: the notion that we are all created equal, that no matter who you are\",\n",
       " \"or what you look like, if you abide by the law you should be protected by it, that if you adhere to our common values you should be treated no different than anyone else. We must continually renew this promise. My administration has a civil rights division that is once again prosecuting civil rights violations and employment discrimination. We finally strengthened our laws to protect against crimes driven by hate. This year, I will work with Congress and our military to finally repeal the law that denies gay Americans the right to serve the country they love because of who they are. We are going to crack down on violations of equal pay laws -- so that women get equal pay for an equal day's work. And we should continue the work of fixing our broken immigration system -- to secure our borders, enforce our laws and ensure that everyone who plays by the rules can contribute to our economy and enrich our nations. In the end, it is our ideals, our values, that built America -- values that allowed us to forge a nation made up of immigrants from every corner of the globe, values that drive our citizens still. Every day, Americans meet their responsibilities to their families and their employers. Time and again, they lend a hand to their neighbors and give back to their country. They take pride in their labor, and are generous in spirit. These aren't Republican values or Democratic values they're living by, business values or labor values. They are American values. Unfortunately, too many of our citizens have lost faith that our biggest institutions -- our corporations, our media and, yes, our government -- still reflect these same values. Each of these institutions are full of honorable men and women doing important work that helps our country prosper. But each time a CEO rewards himself for failure, or a banker puts the rest of us at risk for his own selfish gain, people's doubts grow. Each time lobbyists game the system or politicians tear each other down instead of lifting this country up, we lose faith. The more that TV pundits reduce serious debates into silly arguments and big issues into sound bites, our citizens turn away. No wonder there's so much cynicism out there. No wonder there's so much disappointment. I campaigned on the promise of change -- change we can believe in, the slogan went. And right now, I know there are many Americans who aren't sure if they still believe we can\",\n",
       " 'change -- or at least, that I can deliver it. But remember this -- I never suggested that change would be easy or that I can do it alone. Democracy in a nation of 300 million people can be noisy and messy and complicated. And when you try to do big things and make big changes, it stirs passions and controversy. That\\'s just how it is. Those of us in public office can respond to this reality by playing it safe and avoid telling hard truths. We can do what\\'s necessary to keep our poll numbers high and get through the next election instead of doing what\\'s best for the next generation. But I also know this: If people had made that decision 50 years ago or 100 years ago or 200 years ago, we wouldn\\'t be here tonight. The only reason we are is because generations of Americans were unafraid to do what was hard, to do what was needed even when success was uncertain, to do what it took to keep the dream of this nation alive for their children and grandchildren. Our administration has had some political setbacks this year and some of them were deserved. But I wake up every day knowing that they are nothing compared to the setbacks that families all across this country have faced this year. And what keeps me going -- what keeps me fighting -- is that despite all these setbacks, that spirit of determination and optimism -- that fundamental decency that has always been at the core of the American people -- lives on. It lives on in the struggling small business owner who wrote to me of his company, \"None of us,\" he said, \"are willing to consider, even slightly, that we might fail.\" It lives on in the woman who said that even though she and her neighbors have felt the pain of recession, \"We are strong. We are resilient. We are American.\" It lives on in the 8-year-old boy in Louisiana, who just sent me his allowance and asked if I would give it to the people of Haiti. And it lives on in all the Americans who\\'ve dropped everything to go some place they\\'ve never been and pull people they\\'ve never known from rubble, prompting chants of \"USA! USA! USA!\" when another life was saved. The spirit that has sustained this nation for more than two centuries lives on in you, its people. We have finished a difficult year. We have come through a difficult decade.',\n",
       " \"But a new year has come. A new decade stretches before us. We don't quit. I don't quit. Let's seize this moment -- to start anew, to carry the dream forward, and to strengthen our union once more. Thank you. God Bless You. And God Bless the United States of America.\"]"
      ]
     },
     "execution_count": 15,
     "metadata": {},
     "output_type": "execute_result"
    }
   ],
   "source": [
    "chunks: List[str] = sentence_trf_splitter.split_text(text=text)\n",
    "print(len(chunks[0].split()))\n",
    "chunks"
   ]
  },
  {
   "cell_type": "code",
   "execution_count": 16,
   "id": "87d592ab6af61cd1",
   "metadata": {
    "ExecuteTime": {
     "start_time": "2023-12-26T03:41:08.977570101Z"
    },
    "collapsed": false,
    "jupyter": {
     "outputs_hidden": false
    }
   },
   "outputs": [],
   "source": [
    "text=\"madame speaker, vice president biden, members of congress, distinguished guests, and fellow americans.\""
   ]
  },
  {
   "cell_type": "code",
   "execution_count": 17,
   "id": "8c6d7bef7d553fef",
   "metadata": {
    "ExecuteTime": {
     "start_time": "2023-12-26T03:41:08.977752444Z"
    },
    "collapsed": false,
    "jupyter": {
     "outputs_hidden": false
    }
   },
   "outputs": [
    {
     "data": {
      "text/plain": [
       "['ame speaker, vice president biden, members of congress, distinguished guests, and fellow americans.']"
      ]
     },
     "execution_count": 17,
     "metadata": {},
     "output_type": "execute_result"
    }
   ],
   "source": [
    "sentence_trf_splitter.split_text(text)"
   ]
  },
  {
   "cell_type": "code",
   "execution_count": 18,
   "id": "61c848e64216f929",
   "metadata": {
    "ExecuteTime": {
     "start_time": "2023-12-26T03:41:08.977835850Z"
    },
    "collapsed": false,
    "jupyter": {
     "outputs_hidden": false
    }
   },
   "outputs": [
    {
     "data": {
      "text/plain": [
       "23"
      ]
     },
     "execution_count": 18,
     "metadata": {},
     "output_type": "execute_result"
    }
   ],
   "source": [
    "sentence_trf_splitter.count_tokens(text=text)"
   ]
  },
  {
   "cell_type": "code",
   "execution_count": 19,
   "id": "d9aaf3e61d71bcd2",
   "metadata": {
    "ExecuteTime": {
     "start_time": "2023-12-26T03:41:08.978123367Z"
    },
    "collapsed": false,
    "jupyter": {
     "outputs_hidden": false
    }
   },
   "outputs": [
    {
     "data": {
      "text/plain": [
       "1"
      ]
     },
     "execution_count": 19,
     "metadata": {},
     "output_type": "execute_result"
    }
   ],
   "source": [
    "model = SentenceTransformer(SENTENCE_TRF_MODEL)\n",
    "model.encode(\"text\").ndim"
   ]
  },
  {
   "cell_type": "code",
   "execution_count": 20,
   "id": "54b8be10-aaa3-4523-925c-2c7400b06d10",
   "metadata": {
    "ExecuteTime": {
     "start_time": "2023-12-26T03:41:08.978212296Z"
    }
   },
   "outputs": [
    {
     "name": "stdout",
     "output_type": "stream",
     "text": [
      "{\n",
      "    \"lc\": 1,\n",
      "    \"type\": \"constructor\",\n",
      "    \"id\": [\n",
      "        \"langchain\",\n",
      "        \"schema\",\n",
      "        \"document\",\n",
      "        \"Document\"\n",
      "    ],\n",
      "    \"kwargs\": {\n",
      "        \"page_content\": \"ame speaker, vice president biden, members of congress, distinguished guests, and fellow americans.\",\n",
      "        \"metadata\": {}\n",
      "    }\n",
      "}\n"
     ]
    }
   ],
   "source": [
    "texts: List[Document] = sentence_trf_splitter.create_documents(texts=[text])\n",
    "print(json.dumps(texts[0].to_json(), indent=4, default=str))"
   ]
  },
  {
   "cell_type": "code",
   "execution_count": 21,
   "id": "af59cc56-353f-4e3e-a601-22e6ca32273e",
   "metadata": {
    "ExecuteTime": {
     "start_time": "2023-12-26T03:41:08.978337033Z"
    }
   },
   "outputs": [
    {
     "name": "stdout",
     "output_type": "stream",
     "text": [
      "{\n",
      "    \"lc\": 1,\n",
      "    \"type\": \"constructor\",\n",
      "    \"id\": [\n",
      "        \"langchain\",\n",
      "        \"schema\",\n",
      "        \"document\",\n",
      "        \"Document\"\n",
      "    ],\n",
      "    \"kwargs\": {\n",
      "        \"page_content\": \"Speaker, Vice President Biden, members of Congress, distinguished guests, and fellow Americans: Our Constitution declares that from time to time, the president shall give to Congress information about the state of our union. For 220 years, our leaders have fulfilled this duty. They have done so during periods of prosperity and tranquility. And they have done so in the midst of war and depression; at moments of great strife and great struggle. It's tempting to look back on these moments and assume that our progress was inevitable, that America was always destined to succeed. But when the Union was turned back at Bull Run and the Allies first landed at Omaha Beach, victory was very much in doubt. When the market crashed on Black Tuesday and civil rights marchers were beaten on Bloody Sunday, the future was anything but certain. These were times that tested the courage of our convictions and the strength of our union. And despite all our divisions and disagreements, our hesitations and our fears, America prevailed because we chose to move forward as one nation and one people. Again, we are tested. And again, we must answer history's call. One year ago, I took office amid two wars, an economy rocked by severe recession, a financial system on the verge of collapse and a government deeply in debt. Experts from across the political spectrum warned that if we did not act, we might face a second depression. So we acted immediately and aggressively. And one year later, the worst of the storm has passed. But the devastation remains. One in 10 Americans still cannot find work. Many businesses have shuttered. Home values have declined. Small towns and rural communities have been hit especially hard. For those who had already known poverty, life has become that much harder. This recession has also compounded the burdens that America's families have been dealing with for decades -- the burden of working harder and longer for less, of being unable to save enough to retire or help kids with college. So I know the anxieties that are out there right now. They're not new. These struggles are the reason I ran for president. These struggles are what I've witnessed for years in places like Elkhart, Ind., and Galesburg, Ill. I hear about them in the letters that I read each night. The toughest to read are those written by children asking why\",\n",
      "        \"metadata\": {\n",
      "            \"source\": \"../data/state_of_the_union.txt\"\n",
      "        }\n",
      "    }\n",
      "}\n"
     ]
    }
   ],
   "source": [
    "sentences: List[Document] = sentence_trf_splitter.split_documents(documents)\n",
    "print(json.dumps(sentences[0].to_json(), indent=4, default=str))"
   ]
  },
  {
   "cell_type": "code",
   "execution_count": 22,
   "id": "71e37197-a12c-4319-bbde-b7e4eb1fea49",
   "metadata": {
    "ExecuteTime": {
     "start_time": "2023-12-26T03:41:08.978433935Z"
    }
   },
   "outputs": [
    {
     "data": {
      "text/plain": [
       "False"
      ]
     },
     "execution_count": 22,
     "metadata": {},
     "output_type": "execute_result"
    }
   ],
   "source": [
    "all([\n",
    "    a.page_content == b.page_content\n",
    "    for a, b in zip(texts, sentences)\n",
    "])"
   ]
  },
  {
   "cell_type": "code",
   "execution_count": 23,
   "id": "d68888de-80fa-406b-a044-c6b899c02ee6",
   "metadata": {
    "ExecuteTime": {
     "start_time": "2023-12-26T03:41:08.978509868Z"
    }
   },
   "outputs": [],
   "source": [
    "_sentence: Document\n",
    "for index, _sentence in enumerate(sentences): \n",
    "    _sentence.metadata['index'] = index"
   ]
  },
  {
   "cell_type": "markdown",
   "id": "dd7086b0-ac53-4eb3-ae79-8bb4b4a93bb8",
   "metadata": {},
   "source": [
    "Verify the sentence is within the maximum number of tokens that the model can accept."
   ]
  },
  {
   "cell_type": "code",
   "execution_count": 24,
   "id": "d5f05854-41c7-4a13-b59c-5fe14d3a4fd9",
   "metadata": {
    "ExecuteTime": {
     "start_time": "2023-12-26T03:41:08.978587531Z"
    }
   },
   "outputs": [
    {
     "name": "stdout",
     "output_type": "stream",
     "text": [
      "first split: length:[402] less than max tokens [512] is True\n",
      ", Vice President Biden, members of Congress, distinguished guests, and fellow Americans: Our Constitution declares that from time to time, the president shall give to Congress information about the state of our union. For 220 years, our leaders have fulfilled this duty. They have done so during periods of prosperity and tranquility. And they have done so in the midst of war and depression; at moments of great strife and great struggle. It's tempting to look back on these moments and assume that our progress was inevitable, that America was always destined to succeed. But when the Union was turned back at Bull Run and the Allies first landed at Omaha Beach, victory was very much in doubt. When the market crashed on Black Tuesday and civil rights marchers were beaten on Bloody Sunday, the future was anything but certain. These were times that tested the courage of our convictions and the strength of our union. And despite all our divisions and disagreements, our hesitations and our fears, America prevailed because we chose to move forward as one nation and one people. Again, we are tested. And again, we must answer history's call. One year ago, I took office amid two wars, an economy rocked by severe recession, a financial system on the verge of collapse and a government deeply in debt. Experts from across the political spectrum warned that if we did not act, we might face a second depression. So we acted immediately and aggressively. And one year later, the worst of the storm has passed. But the devastation remains. One in 10 Americans still cannot find work. Many businesses have shuttered. Home values have declined. Small towns and rural communities have been hit especially hard. For those who had already known poverty, life has become that much harder. This recession has also compounded the burdens that America's families have been dealing with for decades -- the burden of working harder and longer for less, of being unable to save enough to retire or help kids with college. So I know the anxieties that are out there right now. They're not new. These struggles are the reason I ran for president. These struggles are what I've witnessed for years in places like Elkhart, Ind., and Galesburg, Ill. I hear about them in the letters that I read each night. The toughest to read are those written by children asking why\n"
     ]
    }
   ],
   "source": [
    "sentence = sentences[0].page_content\n",
    "splits = sentence_trf_splitter.split_text(sentence)\n",
    "first_split = splits[0]\n",
    "num_split_tokens: int = len(first_split.split())\n",
    "print(\n",
    "    f\"first split: length:[{num_split_tokens}] \"\n",
    "    f\"less than max tokens [{num_max_tokens}] is {num_split_tokens <= num_max_tokens}\"\n",
    ")\n",
    "print(first_split)"
   ]
  },
  {
   "cell_type": "code",
   "execution_count": 25,
   "id": "3d907cd7-5f3e-4659-9910-cdd27cfb6fbf",
   "metadata": {
    "ExecuteTime": {
     "start_time": "2023-12-26T03:41:08.978662588Z"
    }
   },
   "outputs": [
    {
     "name": "stdout",
     "output_type": "stream",
     "text": [
      "{\n",
      "    \"lc\": 1,\n",
      "    \"type\": \"constructor\",\n",
      "    \"id\": [\n",
      "        \"langchain\",\n",
      "        \"schema\",\n",
      "        \"document\",\n",
      "        \"Document\"\n",
      "    ],\n",
      "    \"kwargs\": {\n",
      "        \"page_content\": \"Speaker, Vice President Biden, members of Congress, distinguished guests, and fellow Americans: Our Constitution declares that from time to time, the president shall give to Congress information about the state of our union. For 220 years, our leaders have fulfilled this duty. They have done so during periods of prosperity and tranquility. And they have done so in the midst of war and depression; at moments of great strife and great struggle. It's tempting to look back on these moments and assume that our progress was inevitable, that America was always destined to succeed. But when the Union was turned back at Bull Run and the Allies first landed at Omaha Beach, victory was very much in doubt. When the market crashed on Black Tuesday and civil rights marchers were beaten on Bloody Sunday, the future was anything but certain. These were times that tested the courage of our convictions and the strength of our union. And despite all our divisions and disagreements, our hesitations and our fears, America prevailed because we chose to move forward as one nation and one people. Again, we are tested. And again, we must answer history's call. One year ago, I took office amid two wars, an economy rocked by severe recession, a financial system on the verge of collapse and a government deeply in debt. Experts from across the political spectrum warned that if we did not act, we might face a second depression. So we acted immediately and aggressively. And one year later, the worst of the storm has passed. But the devastation remains. One in 10 Americans still cannot find work. Many businesses have shuttered. Home values have declined. Small towns and rural communities have been hit especially hard. For those who had already known poverty, life has become that much harder. This recession has also compounded the burdens that America's families have been dealing with for decades -- the burden of working harder and longer for less, of being unable to save enough to retire or help kids with college. So I know the anxieties that are out there right now. They're not new. These struggles are the reason I ran for president. These struggles are what I've witnessed for years in places like Elkhart, Ind., and Galesburg, Ill. I hear about them in the letters that I read each night. The toughest to read are those written by children asking why\",\n",
      "        \"metadata\": {\n",
      "            \"source\": \"../data/state_of_the_union.txt\",\n",
      "            \"index\": 0\n",
      "        }\n",
      "    }\n",
      "}\n"
     ]
    }
   ],
   "source": [
    "print(json.dumps(sentences[0].to_json(), indent=4, default=str))"
   ]
  },
  {
   "cell_type": "markdown",
   "id": "110dcadd2378c54b",
   "metadata": {
    "collapsed": false,
    "jupyter": {
     "outputs_hidden": false
    }
   },
   "source": [
    "--- \n",
    "# Tokenize\n",
    "\n",
    "At encode, the tokenizer inserts special characters to mark the start and end of the tokens. However, it depends on the model if the decode will remove those special characters.\n",
    "\n",
    "## all-MiniLM-L6-v2\n",
    "\n",
    "```all-MiniLM-L6-v2``` model inserts ```[CLS]``` and ```[SEP]``` to mark the start and end of the tokens and decode method do not remove it.\n",
    "\n"
   ]
  },
  {
   "cell_type": "code",
   "execution_count": 26,
   "id": "560ae4def293655f",
   "metadata": {
    "ExecuteTime": {
     "end_time": "2023-12-26T03:41:08.992387986Z",
     "start_time": "2023-12-26T03:41:08.991063422Z"
    },
    "collapsed": false,
    "jupyter": {
     "outputs_hidden": false
    }
   },
   "outputs": [
    {
     "data": {
      "text/plain": [
       "BertTokenizerFast(name_or_path='sentence-transformers/all-MiniLM-L6-v2', vocab_size=30522, model_max_length=512, is_fast=True, padding_side='right', truncation_side='right', special_tokens={'unk_token': '[UNK]', 'sep_token': '[SEP]', 'pad_token': '[PAD]', 'cls_token': '[CLS]', 'mask_token': '[MASK]'}, clean_up_tokenization_spaces=True)"
      ]
     },
     "execution_count": 26,
     "metadata": {},
     "output_type": "execute_result"
    }
   ],
   "source": [
    "sentence_all_minilm_tokenizer = AutoTokenizer.from_pretrained(f'sentence-transformers/all-MiniLM-L6-v2')\n",
    "sentence_all_minilm_tokenizer"
   ]
  },
  {
   "cell_type": "code",
   "execution_count": 27,
   "id": "38854b84-e986-41d9-abb4-4a17791aef87",
   "metadata": {},
   "outputs": [],
   "source": [
    "text: str = ' '.join(\"\"\"\n",
    "Madame Speaker, Vice President Biden, members of Congress, distinguished guests, and fellow Americans: \n",
    "Our Constitution declares that from time to time, the president shall give to Congress information about \n",
    "the state of our union. For 220 years, our leaders have fulfilled this duty. They have done so during \n",
    "periods of prosperity and tranquility. And they have done so in the midst of war and depression; \n",
    "at moments of great strife and great struggle. It\\'s tempting to look back on these moments and assume \n",
    "that our progress was inevitable, that America was always destined to succeed. But when the Union was \n",
    "turned back at Bull Run and the Allies first landed at Omaha Beach, victory was very much in doubt. \n",
    "When the market crashed on Black Tuesday and civil rights marchers were beaten on Bloody Sunday, \n",
    "the future was anything but certain. These were times that tested the courage of our convictions \n",
    "and the strength of our union. And despite all our divisions and disagreements, our hesitations and \n",
    "our fears, America prevailed because we chose to move forward as one nation and one people. \n",
    "Again, we are tested. And again, we must answer history\\'s call. One year ago, I took office amid \n",
    "two wars, an economy rocked by severe recession, a financial system on the verge of \n",
    "\"\"\".split()) \n"
   ]
  },
  {
   "cell_type": "code",
   "execution_count": 28,
   "id": "3b3a3a1d-0da2-4dcf-97af-7ad57faf8c9a",
   "metadata": {},
   "outputs": [
    {
     "data": {
      "text/plain": [
       "[101,\n",
       " 10602,\n",
       " 5882,\n",
       " 1010,\n",
       " 3580,\n",
       " 2343,\n",
       " 7226,\n",
       " 2368,\n",
       " 1010,\n",
       " 2372,\n",
       " 1997,\n",
       " 3519,\n",
       " 1010,\n",
       " 5182,\n",
       " 6368,\n",
       " 1010,\n",
       " 1998,\n",
       " 3507,\n",
       " 4841,\n",
       " 1024,\n",
       " 2256,\n",
       " 4552,\n",
       " 18806,\n",
       " 2008,\n",
       " 2013,\n",
       " 2051,\n",
       " 2000,\n",
       " 2051,\n",
       " 1010,\n",
       " 1996,\n",
       " 2343,\n",
       " 4618,\n",
       " 2507,\n",
       " 2000,\n",
       " 3519,\n",
       " 2592,\n",
       " 2055,\n",
       " 1996,\n",
       " 2110,\n",
       " 1997,\n",
       " 2256,\n",
       " 2586,\n",
       " 1012,\n",
       " 2005,\n",
       " 10545,\n",
       " 2086,\n",
       " 1010,\n",
       " 2256,\n",
       " 4177,\n",
       " 2031,\n",
       " 16829,\n",
       " 2023,\n",
       " 4611,\n",
       " 1012,\n",
       " 2027,\n",
       " 2031,\n",
       " 2589,\n",
       " 2061,\n",
       " 2076,\n",
       " 6993,\n",
       " 1997,\n",
       " 14165,\n",
       " 1998,\n",
       " 25283,\n",
       " 26147,\n",
       " 3012,\n",
       " 1012,\n",
       " 1998,\n",
       " 2027,\n",
       " 2031,\n",
       " 2589,\n",
       " 2061,\n",
       " 1999,\n",
       " 1996,\n",
       " 12930,\n",
       " 1997,\n",
       " 2162,\n",
       " 1998,\n",
       " 6245,\n",
       " 1025,\n",
       " 2012,\n",
       " 5312,\n",
       " 1997,\n",
       " 2307,\n",
       " 27865,\n",
       " 1998,\n",
       " 2307,\n",
       " 5998,\n",
       " 1012,\n",
       " 2009,\n",
       " 1005,\n",
       " 1055,\n",
       " 23421,\n",
       " 2000,\n",
       " 2298,\n",
       " 2067,\n",
       " 2006,\n",
       " 2122,\n",
       " 5312,\n",
       " 1998,\n",
       " 7868,\n",
       " 2008,\n",
       " 2256,\n",
       " 5082,\n",
       " 2001,\n",
       " 13418,\n",
       " 1010,\n",
       " 2008,\n",
       " 2637,\n",
       " 2001,\n",
       " 2467,\n",
       " 16036,\n",
       " 2000,\n",
       " 9510,\n",
       " 1012,\n",
       " 2021,\n",
       " 2043,\n",
       " 1996,\n",
       " 2586,\n",
       " 2001,\n",
       " 2357,\n",
       " 2067,\n",
       " 2012,\n",
       " 7087,\n",
       " 2448,\n",
       " 1998,\n",
       " 1996,\n",
       " 6956,\n",
       " 2034,\n",
       " 5565,\n",
       " 2012,\n",
       " 12864,\n",
       " 3509,\n",
       " 1010,\n",
       " 3377,\n",
       " 2001,\n",
       " 2200,\n",
       " 2172,\n",
       " 1999,\n",
       " 4797,\n",
       " 1012,\n",
       " 2043,\n",
       " 1996,\n",
       " 3006,\n",
       " 8007,\n",
       " 2006,\n",
       " 2304,\n",
       " 9857,\n",
       " 1998,\n",
       " 2942,\n",
       " 2916,\n",
       " 28791,\n",
       " 2869,\n",
       " 2020,\n",
       " 7854,\n",
       " 2006,\n",
       " 6703,\n",
       " 4465,\n",
       " 1010,\n",
       " 1996,\n",
       " 2925,\n",
       " 2001,\n",
       " 2505,\n",
       " 2021,\n",
       " 3056,\n",
       " 1012,\n",
       " 2122,\n",
       " 2020,\n",
       " 2335,\n",
       " 2008,\n",
       " 7718,\n",
       " 1996,\n",
       " 8424,\n",
       " 1997,\n",
       " 2256,\n",
       " 20488,\n",
       " 1998,\n",
       " 1996,\n",
       " 3997,\n",
       " 1997,\n",
       " 2256,\n",
       " 2586,\n",
       " 1012,\n",
       " 1998,\n",
       " 2750,\n",
       " 2035,\n",
       " 2256,\n",
       " 5908,\n",
       " 1998,\n",
       " 23145,\n",
       " 1010,\n",
       " 2256,\n",
       " 13431,\n",
       " 2015,\n",
       " 1998,\n",
       " 2256,\n",
       " 10069,\n",
       " 1010,\n",
       " 2637,\n",
       " 19914,\n",
       " 2138,\n",
       " 2057,\n",
       " 4900,\n",
       " 2000,\n",
       " 2693,\n",
       " 2830,\n",
       " 2004,\n",
       " 2028,\n",
       " 3842,\n",
       " 1998,\n",
       " 2028,\n",
       " 2111,\n",
       " 1012,\n",
       " 2153,\n",
       " 1010,\n",
       " 2057,\n",
       " 2024,\n",
       " 7718,\n",
       " 1012,\n",
       " 1998,\n",
       " 2153,\n",
       " 1010,\n",
       " 2057,\n",
       " 2442,\n",
       " 3437,\n",
       " 2381,\n",
       " 1005,\n",
       " 1055,\n",
       " 2655,\n",
       " 1012,\n",
       " 2028,\n",
       " 2095,\n",
       " 3283,\n",
       " 1010,\n",
       " 1045,\n",
       " 2165,\n",
       " 2436,\n",
       " 13463,\n",
       " 2048,\n",
       " 5233,\n",
       " 1010,\n",
       " 2019,\n",
       " 4610,\n",
       " 14215,\n",
       " 2011,\n",
       " 5729,\n",
       " 19396,\n",
       " 1010,\n",
       " 1037,\n",
       " 3361,\n",
       " 2291,\n",
       " 2006,\n",
       " 1996,\n",
       " 16079,\n",
       " 1997,\n",
       " 102]"
      ]
     },
     "execution_count": 28,
     "metadata": {},
     "output_type": "execute_result"
    }
   ],
   "source": [
    "sentence_all_minilm_tokenizer.tokenize(text=text)\n",
    "sentence_all_minilm_tokenizer.encode(text=text)"
   ]
  },
  {
   "cell_type": "code",
   "execution_count": 29,
   "id": "c4c09b37-244f-401d-881a-464581b10f51",
   "metadata": {},
   "outputs": [
    {
     "name": "stdout",
     "output_type": "stream",
     "text": [
      "256\n"
     ]
    },
    {
     "data": {
      "text/plain": [
       "['[CLS]',\n",
       " 'madame',\n",
       " 'speaker',\n",
       " ',',\n",
       " 'vice',\n",
       " 'president',\n",
       " 'bid',\n",
       " '##en',\n",
       " ',',\n",
       " 'members',\n",
       " 'of',\n",
       " 'congress',\n",
       " ',',\n",
       " 'distinguished',\n",
       " 'guests',\n",
       " ',',\n",
       " 'and',\n",
       " 'fellow',\n",
       " 'americans',\n",
       " ':',\n",
       " 'our',\n",
       " 'constitution',\n",
       " 'declares',\n",
       " 'that',\n",
       " 'from',\n",
       " 'time',\n",
       " 'to',\n",
       " 'time',\n",
       " ',',\n",
       " 'the',\n",
       " 'president',\n",
       " 'shall',\n",
       " 'give',\n",
       " 'to',\n",
       " 'congress',\n",
       " 'information',\n",
       " 'about',\n",
       " 'the',\n",
       " 'state',\n",
       " 'of',\n",
       " 'our',\n",
       " 'union',\n",
       " '.',\n",
       " 'for',\n",
       " '220',\n",
       " 'years',\n",
       " ',',\n",
       " 'our',\n",
       " 'leaders',\n",
       " 'have',\n",
       " 'fulfilled',\n",
       " 'this',\n",
       " 'duty',\n",
       " '.',\n",
       " 'they',\n",
       " 'have',\n",
       " 'done',\n",
       " 'so',\n",
       " 'during',\n",
       " 'periods',\n",
       " 'of',\n",
       " 'prosperity',\n",
       " 'and',\n",
       " 'tran',\n",
       " '##quil',\n",
       " '##ity',\n",
       " '.',\n",
       " 'and',\n",
       " 'they',\n",
       " 'have',\n",
       " 'done',\n",
       " 'so',\n",
       " 'in',\n",
       " 'the',\n",
       " 'midst',\n",
       " 'of',\n",
       " 'war',\n",
       " 'and',\n",
       " 'depression',\n",
       " ';',\n",
       " 'at',\n",
       " 'moments',\n",
       " 'of',\n",
       " 'great',\n",
       " 'strife',\n",
       " 'and',\n",
       " 'great',\n",
       " 'struggle',\n",
       " '.',\n",
       " 'it',\n",
       " \"'\",\n",
       " 's',\n",
       " 'tempting',\n",
       " 'to',\n",
       " 'look',\n",
       " 'back',\n",
       " 'on',\n",
       " 'these',\n",
       " 'moments',\n",
       " 'and',\n",
       " 'assume',\n",
       " 'that',\n",
       " 'our',\n",
       " 'progress',\n",
       " 'was',\n",
       " 'inevitable',\n",
       " ',',\n",
       " 'that',\n",
       " 'america',\n",
       " 'was',\n",
       " 'always',\n",
       " 'destined',\n",
       " 'to',\n",
       " 'succeed',\n",
       " '.',\n",
       " 'but',\n",
       " 'when',\n",
       " 'the',\n",
       " 'union',\n",
       " 'was',\n",
       " 'turned',\n",
       " 'back',\n",
       " 'at',\n",
       " 'bull',\n",
       " 'run',\n",
       " 'and',\n",
       " 'the',\n",
       " 'allies',\n",
       " 'first',\n",
       " 'landed',\n",
       " 'at',\n",
       " 'omaha',\n",
       " 'beach',\n",
       " ',',\n",
       " 'victory',\n",
       " 'was',\n",
       " 'very',\n",
       " 'much',\n",
       " 'in',\n",
       " 'doubt',\n",
       " '.',\n",
       " 'when',\n",
       " 'the',\n",
       " 'market',\n",
       " 'crashed',\n",
       " 'on',\n",
       " 'black',\n",
       " 'tuesday',\n",
       " 'and',\n",
       " 'civil',\n",
       " 'rights',\n",
       " 'marche',\n",
       " '##rs',\n",
       " 'were',\n",
       " 'beaten',\n",
       " 'on',\n",
       " 'bloody',\n",
       " 'sunday',\n",
       " ',',\n",
       " 'the',\n",
       " 'future',\n",
       " 'was',\n",
       " 'anything',\n",
       " 'but',\n",
       " 'certain',\n",
       " '.',\n",
       " 'these',\n",
       " 'were',\n",
       " 'times',\n",
       " 'that',\n",
       " 'tested',\n",
       " 'the',\n",
       " 'courage',\n",
       " 'of',\n",
       " 'our',\n",
       " 'convictions',\n",
       " 'and',\n",
       " 'the',\n",
       " 'strength',\n",
       " 'of',\n",
       " 'our',\n",
       " 'union',\n",
       " '.',\n",
       " 'and',\n",
       " 'despite',\n",
       " 'all',\n",
       " 'our',\n",
       " 'divisions',\n",
       " 'and',\n",
       " 'disagreements',\n",
       " ',',\n",
       " 'our',\n",
       " 'hesitation',\n",
       " '##s',\n",
       " 'and',\n",
       " 'our',\n",
       " 'fears',\n",
       " ',',\n",
       " 'america',\n",
       " 'prevailed',\n",
       " 'because',\n",
       " 'we',\n",
       " 'chose',\n",
       " 'to',\n",
       " 'move',\n",
       " 'forward',\n",
       " 'as',\n",
       " 'one',\n",
       " 'nation',\n",
       " 'and',\n",
       " 'one',\n",
       " 'people',\n",
       " '.',\n",
       " 'again',\n",
       " ',',\n",
       " 'we',\n",
       " 'are',\n",
       " 'tested',\n",
       " '.',\n",
       " 'and',\n",
       " 'again',\n",
       " ',',\n",
       " 'we',\n",
       " 'must',\n",
       " 'answer',\n",
       " 'history',\n",
       " \"'\",\n",
       " 's',\n",
       " 'call',\n",
       " '.',\n",
       " 'one',\n",
       " 'year',\n",
       " 'ago',\n",
       " ',',\n",
       " 'i',\n",
       " 'took',\n",
       " 'office',\n",
       " 'amid',\n",
       " 'two',\n",
       " 'wars',\n",
       " ',',\n",
       " 'an',\n",
       " 'economy',\n",
       " 'rocked',\n",
       " 'by',\n",
       " 'severe',\n",
       " 'recession',\n",
       " ',',\n",
       " 'a',\n",
       " 'financial',\n",
       " 'system',\n",
       " 'on',\n",
       " 'the',\n",
       " 'verge',\n",
       " 'of',\n",
       " '[SEP]']"
      ]
     },
     "execution_count": 29,
     "metadata": {},
     "output_type": "execute_result"
    }
   ],
   "source": [
    "print(len(sentence_all_minilm_tokenizer.batch_decode(sentence_all_minilm_tokenizer(text)['input_ids'])))\n",
    "sentence_all_minilm_tokenizer.batch_decode(sentence_all_minilm_tokenizer(text)['input_ids'])"
   ]
  },
  {
   "cell_type": "markdown",
   "id": "6b196c540c0a6a61",
   "metadata": {
    "collapsed": false,
    "jupyter": {
     "outputs_hidden": false
    }
   },
   "source": [
    "### Start/End tokens"
   ]
  },
  {
   "cell_type": "code",
   "execution_count": 30,
   "id": "fdbb18cfa28d54dc",
   "metadata": {
    "ExecuteTime": {
     "start_time": "2023-12-26T03:41:08.991234482Z"
    },
    "collapsed": false,
    "jupyter": {
     "outputs_hidden": false
    }
   },
   "outputs": [
    {
     "data": {
      "text/plain": [
       "[101, 1037, 102]"
      ]
     },
     "execution_count": 30,
     "metadata": {},
     "output_type": "execute_result"
    }
   ],
   "source": [
    "tokens = sentence_all_minilm_tokenizer(\"a\")['input_ids']\n",
    "tokens"
   ]
  },
  {
   "cell_type": "code",
   "execution_count": 31,
   "id": "59791cc4b373036b",
   "metadata": {
    "ExecuteTime": {
     "start_time": "2023-12-26T03:41:08.991325432Z"
    },
    "collapsed": false,
    "jupyter": {
     "outputs_hidden": false
    }
   },
   "outputs": [
    {
     "data": {
      "text/plain": [
       "('[CLS]', 'a', '[SEP]')"
      ]
     },
     "execution_count": 31,
     "metadata": {},
     "output_type": "execute_result"
    }
   ],
   "source": [
    "words = sentence_all_minilm_tokenizer.batch_decode(tokens)\n",
    "start_word, a_word, end_word = words\n",
    "start_word, a_word, end_word"
   ]
  },
  {
   "cell_type": "code",
   "execution_count": 32,
   "id": "4ace2986d1c356fb",
   "metadata": {
    "ExecuteTime": {
     "start_time": "2023-12-26T03:41:08.991406402Z"
    },
    "collapsed": false,
    "jupyter": {
     "outputs_hidden": false
    }
   },
   "outputs": [],
   "source": [
    "tokens = sentence_all_minilm_tokenizer.encode('I love sushi.')\n",
    "decoded = sentence_all_minilm_tokenizer.decode(tokens)"
   ]
  },
  {
   "cell_type": "code",
   "execution_count": 33,
   "id": "6afca85ecec2b713",
   "metadata": {
    "ExecuteTime": {
     "start_time": "2023-12-26T03:41:08.991478122Z"
    },
    "collapsed": false,
    "jupyter": {
     "outputs_hidden": false
    }
   },
   "outputs": [
    {
     "data": {
      "text/plain": [
       "'i love sushi.'"
      ]
     },
     "execution_count": 33,
     "metadata": {},
     "output_type": "execute_result"
    }
   ],
   "source": [
    "decoded.replace(start_word, '', 1).rsplit(sep=end_word, maxsplit=1)[0].strip()"
   ]
  },
  {
   "cell_type": "markdown",
   "id": "92eb9c59762df100",
   "metadata": {
    "collapsed": false,
    "jupyter": {
     "outputs_hidden": false
    }
   },
   "source": [
    "\n",
    "### Character case does not matter\n",
    "\n",
    "```all-MiniLM-L6-v2``` does not care the case as it all handles as small letters."
   ]
  },
  {
   "cell_type": "code",
   "execution_count": 34,
   "id": "ffafaa4749a5aa50",
   "metadata": {
    "ExecuteTime": {
     "start_time": "2023-12-26T03:41:08.991550305Z"
    },
    "collapsed": false,
    "jupyter": {
     "outputs_hidden": false
    }
   },
   "outputs": [
    {
     "name": "stdout",
     "output_type": "stream",
     "text": [
      "Madame: tokens:[101, 10602, 102] decoded: ['[CLS]', 'madame', '[SEP]']\n",
      "madame: tokens:[101, 10602, 102] decoded: ['[CLS]', 'madame', '[SEP]']\n"
     ]
    }
   ],
   "source": [
    "tokens_titled = sentence_all_minilm_tokenizer(\"Madame\")['input_ids']\n",
    "tokens_titled_decoded = sentence_all_minilm_tokenizer.batch_decode(tokens_titled)\n",
    "print(f\"Madame: tokens:{tokens_titled} decoded: {tokens_titled_decoded}\")\n",
    "\n",
    "tokens_small = sentence_all_minilm_tokenizer(\"madame\".lower())['input_ids']\n",
    "tokens_small_decoded = sentence_all_minilm_tokenizer.batch_decode(tokens_small)\n",
    "print(f\"madame: tokens:{tokens_small} decoded: {tokens_small_decoded}\")"
   ]
  },
  {
   "cell_type": "code",
   "execution_count": 35,
   "id": "fc07e334e15b906f",
   "metadata": {
    "ExecuteTime": {
     "start_time": "2023-12-26T03:41:08.991728452Z"
    },
    "collapsed": false,
    "jupyter": {
     "outputs_hidden": false
    }
   },
   "outputs": [
    {
     "name": "stdout",
     "output_type": "stream",
     "text": [
      "length:19 tokens:[101, 10602, 5882, 1010, 3580, 2343, 1010, 2372, 1997, 3519, 1010, 5182, 6368, 1010, 1998, 3507, 4841, 1012, 102]\n",
      "decoded: ['[CLS]', 'madame', 'speaker', ',', 'vice', 'president', ',', 'members', 'of', 'congress', ',', 'distinguished', 'guests', ',', 'and', 'fellow', 'americans', '.', '[SEP]']\n"
     ]
    },
    {
     "data": {
      "text/plain": [
       "['[CLS] madame speaker, vice president, members of congress, distinguished guests, and fellow americans. [SEP]']"
      ]
     },
     "execution_count": 35,
     "metadata": {},
     "output_type": "execute_result"
    }
   ],
   "source": [
    "text_with_case = \"Madame speaker, Vice president, members of Congress, distinguished guests, and fellow Americans.\"\n",
    "tokens = sentence_all_minilm_tokenizer.encode(text_with_case)\n",
    "print(f\"length:{len(tokens)} tokens:{tokens}\")\n",
    "print(f\"decoded: {sentence_all_minilm_tokenizer.batch_decode(tokens)}\")\n",
    "sentence_all_minilm_tokenizer.batch_decode([tokens])"
   ]
  },
  {
   "cell_type": "markdown",
   "id": "91102c792e1cb147",
   "metadata": {
    "collapsed": false,
    "jupyter": {
     "outputs_hidden": false
    }
   },
   "source": [
    "## gtr-t5-large\n",
    "\n",
    "```gtr-t5-large``` tokenizesr inserts token ```3``` as an empty string to mark the start and  ```{'eos_token': '</s>'}``` to mark the end of the tokens. \n",
    "\n"
   ]
  },
  {
   "cell_type": "code",
   "execution_count": 36,
   "id": "4a5c0f46650dc9a2",
   "metadata": {
    "ExecuteTime": {
     "start_time": "2023-12-26T03:41:08.991801673Z"
    },
    "collapsed": false,
    "jupyter": {
     "outputs_hidden": false
    }
   },
   "outputs": [
    {
     "data": {
      "text/plain": [
       "T5TokenizerFast(name_or_path='sentence-transformers/gtr-t5-large', vocab_size=32100, model_max_length=512, is_fast=True, padding_side='right', truncation_side='right', special_tokens={'eos_token': '</s>', 'unk_token': '<unk>', 'pad_token': '<pad>', 'additional_special_tokens': ['<extra_id_0>', '<extra_id_1>', '<extra_id_2>', '<extra_id_3>', '<extra_id_4>', '<extra_id_5>', '<extra_id_6>', '<extra_id_7>', '<extra_id_8>', '<extra_id_9>', '<extra_id_10>', '<extra_id_11>', '<extra_id_12>', '<extra_id_13>', '<extra_id_14>', '<extra_id_15>', '<extra_id_16>', '<extra_id_17>', '<extra_id_18>', '<extra_id_19>', '<extra_id_20>', '<extra_id_21>', '<extra_id_22>', '<extra_id_23>', '<extra_id_24>', '<extra_id_25>', '<extra_id_26>', '<extra_id_27>', '<extra_id_28>', '<extra_id_29>', '<extra_id_30>', '<extra_id_31>', '<extra_id_32>', '<extra_id_33>', '<extra_id_34>', '<extra_id_35>', '<extra_id_36>', '<extra_id_37>', '<extra_id_38>', '<extra_id_39>', '<extra_id_40>', '<extra_id_41>', '<extra_id_42>', '<extra_id_43>', '<extra_id_44>', '<extra_id_45>', '<extra_id_46>', '<extra_id_47>', '<extra_id_48>', '<extra_id_49>', '<extra_id_50>', '<extra_id_51>', '<extra_id_52>', '<extra_id_53>', '<extra_id_54>', '<extra_id_55>', '<extra_id_56>', '<extra_id_57>', '<extra_id_58>', '<extra_id_59>', '<extra_id_60>', '<extra_id_61>', '<extra_id_62>', '<extra_id_63>', '<extra_id_64>', '<extra_id_65>', '<extra_id_66>', '<extra_id_67>', '<extra_id_68>', '<extra_id_69>', '<extra_id_70>', '<extra_id_71>', '<extra_id_72>', '<extra_id_73>', '<extra_id_74>', '<extra_id_75>', '<extra_id_76>', '<extra_id_77>', '<extra_id_78>', '<extra_id_79>', '<extra_id_80>', '<extra_id_81>', '<extra_id_82>', '<extra_id_83>', '<extra_id_84>', '<extra_id_85>', '<extra_id_86>', '<extra_id_87>', '<extra_id_88>', '<extra_id_89>', '<extra_id_90>', '<extra_id_91>', '<extra_id_92>', '<extra_id_93>', '<extra_id_94>', '<extra_id_95>', '<extra_id_96>', '<extra_id_97>', '<extra_id_98>', '<extra_id_99>']}, clean_up_tokenization_spaces=True)"
      ]
     },
     "execution_count": 36,
     "metadata": {},
     "output_type": "execute_result"
    }
   ],
   "source": [
    "sentence_t5_tokenizer = AutoTokenizer.from_pretrained(f'sentence-transformers/gtr-t5-large')\n",
    "sentence_t5_tokenizer"
   ]
  },
  {
   "cell_type": "markdown",
   "id": "91fd4a2d735d2e2b",
   "metadata": {
    "collapsed": false,
    "jupyter": {
     "outputs_hidden": false
    }
   },
   "source": [
    "### start/end tokens"
   ]
  },
  {
   "cell_type": "code",
   "execution_count": 37,
   "id": "7b05dd7900ba6304",
   "metadata": {
    "ExecuteTime": {
     "start_time": "2023-12-26T03:41:08.991874553Z"
    },
    "collapsed": false,
    "jupyter": {
     "outputs_hidden": false
    }
   },
   "outputs": [
    {
     "name": "stdout",
     "output_type": "stream",
     "text": [
      "encoded:[3, 9, 1], decoded:[a</s>]\n"
     ]
    }
   ],
   "source": [
    "# dict(list(sentence_trf_tokenizer.special_tokens_map.items())[:3])\n",
    "encoded = sentence_t5_tokenizer(['a'])['input_ids'][0]\n",
    "decoded = sentence_t5_tokenizer.decode(encoded)\n",
    "print(f\"encoded:{encoded}, decoded:[{decoded}]\")"
   ]
  },
  {
   "cell_type": "code",
   "execution_count": 38,
   "id": "2a8594bbe74dcae4",
   "metadata": {
    "ExecuteTime": {
     "start_time": "2023-12-26T03:41:08.991943553Z"
    },
    "collapsed": false,
    "jupyter": {
     "outputs_hidden": false
    }
   },
   "outputs": [
    {
     "data": {
      "text/plain": [
       "('', 'a', '</s>')"
      ]
     },
     "execution_count": 38,
     "metadata": {},
     "output_type": "execute_result"
    }
   ],
   "source": [
    "tokens = sentence_t5_tokenizer(\"a\")['input_ids']\n",
    "words = sentence_t5_tokenizer.batch_decode(tokens)\n",
    "start_word, a_word, end_word = words\n",
    "start_word, a_word, end_word"
   ]
  },
  {
   "cell_type": "markdown",
   "id": "18d0aec11357e571",
   "metadata": {
    "collapsed": false,
    "jupyter": {
     "outputs_hidden": false
    }
   },
   "source": [
    "### Character case mattes\n",
    "\n",
    "```gtr-t5-large``` cares about the cases and behave differently."
   ]
  },
  {
   "cell_type": "code",
   "execution_count": 39,
   "id": "7f6e8ba2b0501f6e",
   "metadata": {
    "ExecuteTime": {
     "start_time": "2023-12-26T03:41:08.992020049Z"
    },
    "collapsed": false,
    "jupyter": {
     "outputs_hidden": false
    }
   },
   "outputs": [
    {
     "name": "stdout",
     "output_type": "stream",
     "text": [
      "Madame: tokens:[27328, 1] decoded: ['Madame', '</s>']\n",
      "madame: tokens:[11454, 265, 15, 1] decoded: ['mad', 'am', 'e', '</s>']\n"
     ]
    }
   ],
   "source": [
    "tokens_titled = sentence_t5_tokenizer(\"Madame\")['input_ids']\n",
    "tokens_titled_decoded = sentence_t5_tokenizer.batch_decode(tokens_titled)\n",
    "print(f\"Madame: tokens:{tokens_titled} decoded: {tokens_titled_decoded}\")\n",
    "\n",
    "tokens_small = sentence_t5_tokenizer(\"madame\".lower())['input_ids']\n",
    "tokens_small_decoded = sentence_t5_tokenizer.batch_decode(tokens_small)\n",
    "print(f\"madame: tokens:{tokens_small} decoded: {tokens_small_decoded}\")"
   ]
  },
  {
   "cell_type": "code",
   "execution_count": 40,
   "id": "309717b412b45bad",
   "metadata": {
    "ExecuteTime": {
     "start_time": "2023-12-26T03:41:08.992109602Z"
    },
    "collapsed": false,
    "jupyter": {
     "outputs_hidden": false
    }
   },
   "outputs": [
    {
     "name": "stdout",
     "output_type": "stream",
     "text": [
      "titled:[101, 10602, 102] small:[101, 10602, 102]\n"
     ]
    }
   ],
   "source": [
    "tokens_titled = sentence_all_minilm_tokenizer(\"Madame\")['input_ids']\n",
    "tokens_small = sentence_all_minilm_tokenizer(\"Madame\".lower())['input_ids']\n",
    "print(f\"titled:{tokens_titled} small:{tokens_small}\")"
   ]
  },
  {
   "cell_type": "code",
   "execution_count": 41,
   "id": "2818ed23567ec776",
   "metadata": {
    "ExecuteTime": {
     "end_time": "2023-12-26T03:41:09.082550566Z",
     "start_time": "2023-12-26T03:41:09.010403469Z"
    },
    "collapsed": false,
    "jupyter": {
     "outputs_hidden": false
    }
   },
   "outputs": [
    {
     "name": "stdout",
     "output_type": "stream",
     "text": [
      "length:18 tokens:[27328, 5873, 6, 8236, 2753, 6, 724, 13, 4442, 6, 18908, 2554, 6, 11, 4999, 5452, 5, 1]\n",
      "decoded: ['Madame', 'speaker', ',', 'Vice', 'president', ',', 'members', 'of', 'Congress', ',', 'distinguished', 'guests', ',', 'and', 'fellow', 'Americans', '.', '</s>']\n"
     ]
    },
    {
     "data": {
      "text/plain": [
       "['Madame speaker, Vice president, members of Congress, distinguished guests, and fellow Americans.</s>']"
      ]
     },
     "execution_count": 41,
     "metadata": {},
     "output_type": "execute_result"
    }
   ],
   "source": [
    "text_with_case = \"Madame speaker, Vice president, members of Congress, distinguished guests, and fellow Americans.\"\n",
    "tokens = sentence_t5_tokenizer.encode(text_with_case)\n",
    "print(f\"length:{len(tokens)} tokens:{tokens}\")\n",
    "print(f\"decoded: {sentence_t5_tokenizer.batch_decode(tokens)}\")\n",
    "sentence_t5_tokenizer.batch_decode([tokens])"
   ]
  },
  {
   "cell_type": "code",
   "execution_count": 42,
   "id": "d2046796af7f905",
   "metadata": {
    "ExecuteTime": {
     "start_time": "2023-12-26T03:41:09.010542281Z"
    },
    "collapsed": false,
    "jupyter": {
     "outputs_hidden": false
    }
   },
   "outputs": [
    {
     "name": "stdout",
     "output_type": "stream",
     "text": [
      "[11454, 265, 15, 5873, 6, 6444, 2753, 6894, 35, 6, 724, 13, 27197, 6, 18908, 2554, 6, 11, 4999, 10211, 7, 5, 1]\n"
     ]
    },
    {
     "data": {
      "text/plain": [
       "['mad',\n",
       " 'am',\n",
       " 'e',\n",
       " 'speaker',\n",
       " ',',\n",
       " 'vice',\n",
       " 'president',\n",
       " 'bid',\n",
       " 'en',\n",
       " ',',\n",
       " 'members',\n",
       " 'of',\n",
       " 'congress',\n",
       " ',',\n",
       " 'distinguished',\n",
       " 'guests',\n",
       " ',',\n",
       " 'and',\n",
       " 'fellow',\n",
       " 'american',\n",
       " 's',\n",
       " '.',\n",
       " '</s>']"
      ]
     },
     "execution_count": 42,
     "metadata": {},
     "output_type": "execute_result"
    }
   ],
   "source": [
    "text_without_case = \"Madame speaker, vice president Biden, members of Congress, distinguished guests, and fellow Americans.\".lower()\n",
    "tokens = sentence_t5_tokenizer.encode(text_without_case)\n",
    "print(tokens)\n",
    "sentence_t5_tokenizer.batch_decode(tokens)"
   ]
  },
  {
   "cell_type": "code",
   "execution_count": 43,
   "id": "91d1c0f9-6dee-462a-b172-1bbca4ca7da6",
   "metadata": {},
   "outputs": [],
   "source": [
    "text = \"Madame Speaker, Vice President Biden, members of Congress, distinguished guests, and fellow Americans: Our Constitution declares that from time to time, the president shall give to Congress information about the state of our union. For 220 years, our leaders have fulfilled this duty. They have done so during periods of prosperity and tranquility. And they have done so in the midst of war and depression; at moments of great strife and great struggle. It's tempting to look back on these moments and assume that our progress was inevitable, that America was always destined to succeed. But when the Union was turned back at Bull Run and the Allies first landed at Omaha Beach, victory was very much in doubt. When the market crashed on Black Tuesday and civil rights marchers were beaten on Bloody Sunday, the future was anything but certain. These were times that tested the courage of our convictions and the strength of our union. And despite all our divisions and disagreements, our hesitations and our fears, America prevailed because we chose to move forward as one nation and one people. Again, we are tested. And again, we must answer history's call. One year ago, I took office amid two wars, an economy rocked by severe recession, a financial system on the verge of collapse and a government deeply in debt. Experts from across the political spectrum warned that if we did not act, we might face a second depression. So we acted immediately and aggressively. And one year later, the worst of the storm has passed. But the devastation remains. One in 10 Americans still cannot find work. Many businesses have shuttered. Home values have declined. Small towns and rural communities have been hit especially hard. For those who had already known poverty, life has become that much harder. This recession has also compounded the burdens that America's families have been dealing with for decades -- the burden of working harder and longer for less, of being unable to save enough to retire or help kids with college. So I know the anxieties that are out there right now. They're not new. These struggles are the reason I ran for president. These struggles are what I've witnessed for years in places like Elkhart, Ind., and Galesburg, Ill. I hear about them in the letters that I read each night. The toughest to read are those written by\""
   ]
  },
  {
   "cell_type": "code",
   "execution_count": 44,
   "id": "862d79f8-f592-4949-84f9-b1c9936d2d95",
   "metadata": {},
   "outputs": [],
   "source": [
    "text = \"Madame Speaker, Vice President Biden, members of Congress, distinguished guests, and fellow Americans: Our Constitution declares that from time to time, the president shall give to Congress information about the state of our union. For 220 years, our leaders have fulfilled this duty. They have done so during periods of prosperity and tranquility. And they have done so in the midst of war and depression; at moments of great strife and great struggle. It's tempting to look back on these moments and assume that our progress was inevitable, that America was always destined to succeed. But when the Union was turned back at Bull Run and the Allies first landed at Omaha Beach, victory was very much in doubt. When the market crashed on Black Tuesday and civil rights marchers were beaten on Bloody Sunday, the future was anything but certain. These were times that tested the courage of our convictions and the strength of our union. And despite all our divisions and disagreements, our hesitations and our fears, America prevailed because we chose to move forward as one nation and one people. Again, we are tested. And again, we must answer history's call. One year ago, I took office amid two wars, an economy rocked by severe recession, a financial system on the verge of collapse and a government deeply in debt. Experts from across the political spectrum warned that if we did not act, we might face a second depression. So we acted immediately and aggressively. And one year later, the worst of the storm has passed. But the devastation remains. One in 10 Americans still cannot find work. Many businesses have shuttered. Home values have declined. Small towns and rural communities have been hit especially hard. For those who had already known poverty, life has become that much harder. This recession has also compounded the burdens that America's families have been dealing with for decades -- the burden of working harder and longer for less, of being unable to save enough to retire or help kids with college. So I know the anxieties that are out there right now. They're not new. These struggles are the reason I ran for president. These struggles are what I've witnessed for years in places like Elkhart, Ind., and Galesburg, Ill. I hear about them in the letters that I read each night. The toughest to read are those written by children asking why they have to move from their home, or when their mom\""
   ]
  },
  {
   "cell_type": "code",
   "execution_count": 45,
   "id": "14cf86ad-ca43-41d4-a61a-c36030f8b5e6",
   "metadata": {},
   "outputs": [],
   "source": [
    "t5_expected_split: str = ' '.join(\"\"\"\n",
    "Madame Speaker, Vice President Biden, members of Congress, distinguished guests, and fellow Americans: \n",
    "Our Constitution declares that from time to time, the president shall give to Congress information about \n",
    "the state of our union. For 220 years, our leaders have fulfilled this duty. They have done so during \n",
    "periods of prosperity and tranquility. And they have done so in the midst of war and depression; \n",
    "at moments of great strife and great struggle. It\\'s tempting to look back on these moments and assume \n",
    "that our progress was inevitable, that America was always destined to succeed. But when the Union was \n",
    "turned back at Bull Run and the Allies first landed at Omaha Beach, victory was very much in doubt. \n",
    "When the market crashed on Black Tuesday and civil rights marchers were beaten on Bloody Sunday, \n",
    "the future was anything but certain. These were times that tested the courage of our convictions \n",
    "and the strength of our union. And despite all our divisions and disagreements, our hesitations and \n",
    "our fears, America prevailed because we chose to move forward as one nation and one people. \n",
    "Again, we are tested. And again, we must answer history\\'s call. One year ago, I took office amid \n",
    "two wars, an economy rocked by severe recession, a financial system on the verge of collapse and a \n",
    "government deeply in debt. Experts from across the political spectrum warned that if we did not act, \n",
    "we might face a second depression. So we acted immediately and aggressively. And one year later, \n",
    "the worst of the storm has passed. But the devastation remains. One in 10 Americans still cannot \n",
    "find work. Many businesses have shuttered. Home values have declined. Small towns and rural \n",
    "communities have been hit especially hard. For those who had already known poverty, \n",
    "life has become that much harder. This recession has also compounded the burdens that America's families \n",
    "have been dealing with for decades -- the burden of working harder and longer for less, of being unable \n",
    "to save enough to retire or help kids with college. So I know the anxieties that are out there right now. \n",
    "They're not new. These struggles are the reason I ran for president. These struggles are what \n",
    "I've witnessed for years in places like Elkhart, Ind., and Galesburg, Ill. I hear about them in \n",
    "the letters that I read each night. The toughest to read are those written by\n",
    "\"\"\".split())\n",
    "text = t5_expected_split"
   ]
  },
  {
   "cell_type": "code",
   "execution_count": 46,
   "id": "c2e2fcf7-e525-487d-a5fa-7d8da3f9439d",
   "metadata": {},
   "outputs": [
    {
     "name": "stdout",
     "output_type": "stream",
     "text": [
      "511\n",
      "[27328, 16778, 6, 8236, 1661, 2106, 537, 6, 724, 13, 4442, 6, 18908, 2554, 6, 11, 4999, 5452, 10, 421, 11378, 15884, 7, 24, 45, 97, 12, 97, 6, 8, 2753, 1522, 428, 12, 4442, 251, 81, 8, 538, 13, 69, 7021, 5, 242, 204, 1755, 203, 6, 69, 2440, 43, 20795, 48, 5461, 5, 328, 43, 612, 78, 383, 8811, 13, 21571, 11, 14249, 485, 5, 275, 79, 43, 612, 78, 16, 8, 3, 12342, 13, 615, 11, 7562, 117, 44, 4413, 13, 248, 5765, 99, 15, 11, 248, 4393, 5, 94, 31, 7, 24873, 12, 320, 223, 30, 175, 4413, 11, 5344, 24, 69, 2188, 47, 17508, 6, 24, 1371, 47, 373, 3, 26677, 12, 7229, 5, 299, 116, 8, 3545, 47, 2120, 223, 44, 10204, 7113, 11, 8, 432, 725, 166, 3, 16349, 44, 29518, 2979, 6, 6224, 47, 182, 231, 16, 3228, 5, 366, 8, 512, 24679, 30, 1589, 2818, 11, 3095, 2166, 10556, 277, 130, 3, 17349, 30, 12737, 63, 1771, 6, 8, 647, 47, 959, 68, 824, 5, 506, 130, 648, 24, 5285, 8, 11578, 13, 69, 13929, 7, 11, 8, 2793, 13, 69, 7021, 5, 275, 3, 3565, 66, 69, 4889, 7, 11, 28155, 7, 6, 69, 29457, 7, 11, 69, 14935, 6, 1371, 23990, 15, 26, 250, 62, 3260, 12, 888, 1039, 38, 80, 2982, 11, 80, 151, 5, 7204, 6, 62, 33, 5285, 5, 275, 541, 6, 62, 398, 1525, 892, 31, 7, 580, 5, 555, 215, 977, 6, 27, 808, 828, 18905, 192, 615, 7, 6, 46, 2717, 2480, 15, 26, 57, 5274, 19917, 6, 3, 9, 981, 358, 30, 8, 548, 397, 13, 11612, 11, 3, 9, 789, 7447, 16, 2814, 5, 8865, 7, 45, 640, 8, 1827, 10113, 15240, 24, 3, 99, 62, 410, 59, 1810, 6, 62, 429, 522, 3, 9, 511, 7562, 5, 264, 62, 3, 9925, 2017, 11, 8299, 120, 5, 275, 80, 215, 865, 6, 8, 6025, 13, 8, 5536, 65, 2804, 5, 299, 8, 20, 900, 6682, 3048, 5, 555, 16, 335, 5452, 341, 1178, 253, 161, 5, 1404, 1623, 43, 18094, 15, 26, 5, 1210, 2620, 43, 14833, 5, 4872, 11228, 11, 5372, 2597, 43, 118, 1560, 902, 614, 5, 242, 273, 113, 141, 641, 801, 9569, 6, 280, 65, 582, 24, 231, 7501, 5, 100, 19917, 65, 92, 12771, 15, 26, 8, 9054, 7, 24, 1371, 31, 7, 1791, 43, 118, 4945, 28, 21, 4160, 1636, 8, 9054, 13, 464, 7501, 11, 1200, 21, 705, 6, 13, 271, 3, 6319, 12, 1097, 631, 12, 14848, 42, 199, 1082, 28, 1900, 5, 264, 27, 214, 8, 30825, 725, 24, 33, 91, 132, 269, 230, 5, 328, 31, 60, 59, 126, 5, 506, 16562, 33, 8, 1053, 27, 4037, 21, 2753, 5, 506, 16562, 33, 125, 27, 31, 162, 16903, 21, 203, 16, 1747, 114, 1289, 157, 13626, 6, 86, 26, 5, 6, 11, 6084, 15, 7289, 6, 27, 195, 5, 27, 1616, 81, 135, 16, 8, 5487, 24, 27, 608, 284, 706, 5, 37, 3429, 222, 12, 608, 33, 273, 1545, 57, 1]\n"
     ]
    },
    {
     "data": {
      "text/plain": [
       "['Madame',\n",
       " 'Speaker',\n",
       " ',',\n",
       " 'Vice',\n",
       " 'President',\n",
       " 'Bi',\n",
       " 'den',\n",
       " ',',\n",
       " 'members',\n",
       " 'of',\n",
       " 'Congress',\n",
       " ',',\n",
       " 'distinguished',\n",
       " 'guests',\n",
       " ',',\n",
       " 'and',\n",
       " 'fellow',\n",
       " 'Americans',\n",
       " ':',\n",
       " 'Our',\n",
       " 'Constitution',\n",
       " 'declare',\n",
       " 's',\n",
       " 'that',\n",
       " 'from',\n",
       " 'time',\n",
       " 'to',\n",
       " 'time',\n",
       " ',',\n",
       " 'the',\n",
       " 'president',\n",
       " 'shall',\n",
       " 'give',\n",
       " 'to',\n",
       " 'Congress',\n",
       " 'information',\n",
       " 'about',\n",
       " 'the',\n",
       " 'state',\n",
       " 'of',\n",
       " 'our',\n",
       " 'union',\n",
       " '.',\n",
       " 'For',\n",
       " '2',\n",
       " '20',\n",
       " 'years',\n",
       " ',',\n",
       " 'our',\n",
       " 'leaders',\n",
       " 'have',\n",
       " 'fulfilled',\n",
       " 'this',\n",
       " 'duty',\n",
       " '.',\n",
       " 'They',\n",
       " 'have',\n",
       " 'done',\n",
       " 'so',\n",
       " 'during',\n",
       " 'periods',\n",
       " 'of',\n",
       " 'prosperity',\n",
       " 'and',\n",
       " 'tranquil',\n",
       " 'ity',\n",
       " '.',\n",
       " 'And',\n",
       " 'they',\n",
       " 'have',\n",
       " 'done',\n",
       " 'so',\n",
       " 'in',\n",
       " 'the',\n",
       " '',\n",
       " 'midst',\n",
       " 'of',\n",
       " 'war',\n",
       " 'and',\n",
       " 'depression',\n",
       " ';',\n",
       " 'at',\n",
       " 'moments',\n",
       " 'of',\n",
       " 'great',\n",
       " 'str',\n",
       " 'if',\n",
       " 'e',\n",
       " 'and',\n",
       " 'great',\n",
       " 'struggle',\n",
       " '.',\n",
       " 'It',\n",
       " \"'\",\n",
       " 's',\n",
       " 'tempting',\n",
       " 'to',\n",
       " 'look',\n",
       " 'back',\n",
       " 'on',\n",
       " 'these',\n",
       " 'moments',\n",
       " 'and',\n",
       " 'assume',\n",
       " 'that',\n",
       " 'our',\n",
       " 'progress',\n",
       " 'was',\n",
       " 'inevitable',\n",
       " ',',\n",
       " 'that',\n",
       " 'America',\n",
       " 'was',\n",
       " 'always',\n",
       " '',\n",
       " 'destined',\n",
       " 'to',\n",
       " 'succeed',\n",
       " '.',\n",
       " 'But',\n",
       " 'when',\n",
       " 'the',\n",
       " 'Union',\n",
       " 'was',\n",
       " 'turned',\n",
       " 'back',\n",
       " 'at',\n",
       " 'Bull',\n",
       " 'Run',\n",
       " 'and',\n",
       " 'the',\n",
       " 'All',\n",
       " 'ies',\n",
       " 'first',\n",
       " '',\n",
       " 'landed',\n",
       " 'at',\n",
       " 'Omaha',\n",
       " 'Beach',\n",
       " ',',\n",
       " 'victory',\n",
       " 'was',\n",
       " 'very',\n",
       " 'much',\n",
       " 'in',\n",
       " 'doubt',\n",
       " '.',\n",
       " 'When',\n",
       " 'the',\n",
       " 'market',\n",
       " 'crashed',\n",
       " 'on',\n",
       " 'Black',\n",
       " 'Tuesday',\n",
       " 'and',\n",
       " 'civil',\n",
       " 'rights',\n",
       " 'march',\n",
       " 'ers',\n",
       " 'were',\n",
       " '',\n",
       " 'beaten',\n",
       " 'on',\n",
       " 'Blood',\n",
       " 'y',\n",
       " 'Sunday',\n",
       " ',',\n",
       " 'the',\n",
       " 'future',\n",
       " 'was',\n",
       " 'anything',\n",
       " 'but',\n",
       " 'certain',\n",
       " '.',\n",
       " 'These',\n",
       " 'were',\n",
       " 'times',\n",
       " 'that',\n",
       " 'tested',\n",
       " 'the',\n",
       " 'courage',\n",
       " 'of',\n",
       " 'our',\n",
       " 'conviction',\n",
       " 's',\n",
       " 'and',\n",
       " 'the',\n",
       " 'strength',\n",
       " 'of',\n",
       " 'our',\n",
       " 'union',\n",
       " '.',\n",
       " 'And',\n",
       " '',\n",
       " 'despite',\n",
       " 'all',\n",
       " 'our',\n",
       " 'division',\n",
       " 's',\n",
       " 'and',\n",
       " 'disagreement',\n",
       " 's',\n",
       " ',',\n",
       " 'our',\n",
       " 'hesitation',\n",
       " 's',\n",
       " 'and',\n",
       " 'our',\n",
       " 'fears',\n",
       " ',',\n",
       " 'America',\n",
       " 'prevail',\n",
       " 'e',\n",
       " 'd',\n",
       " 'because',\n",
       " 'we',\n",
       " 'chose',\n",
       " 'to',\n",
       " 'move',\n",
       " 'forward',\n",
       " 'as',\n",
       " 'one',\n",
       " 'nation',\n",
       " 'and',\n",
       " 'one',\n",
       " 'people',\n",
       " '.',\n",
       " 'Again',\n",
       " ',',\n",
       " 'we',\n",
       " 'are',\n",
       " 'tested',\n",
       " '.',\n",
       " 'And',\n",
       " 'again',\n",
       " ',',\n",
       " 'we',\n",
       " 'must',\n",
       " 'answer',\n",
       " 'history',\n",
       " \"'\",\n",
       " 's',\n",
       " 'call',\n",
       " '.',\n",
       " 'One',\n",
       " 'year',\n",
       " 'ago',\n",
       " ',',\n",
       " 'I',\n",
       " 'took',\n",
       " 'office',\n",
       " 'amid',\n",
       " 'two',\n",
       " 'war',\n",
       " 's',\n",
       " ',',\n",
       " 'an',\n",
       " 'economy',\n",
       " 'rock',\n",
       " 'e',\n",
       " 'd',\n",
       " 'by',\n",
       " 'severe',\n",
       " 'recession',\n",
       " ',',\n",
       " '',\n",
       " 'a',\n",
       " 'financial',\n",
       " 'system',\n",
       " 'on',\n",
       " 'the',\n",
       " 'ver',\n",
       " 'ge',\n",
       " 'of',\n",
       " 'collapse',\n",
       " 'and',\n",
       " '',\n",
       " 'a',\n",
       " 'government',\n",
       " 'deeply',\n",
       " 'in',\n",
       " 'debt',\n",
       " '.',\n",
       " 'Expert',\n",
       " 's',\n",
       " 'from',\n",
       " 'across',\n",
       " 'the',\n",
       " 'political',\n",
       " 'spectrum',\n",
       " 'warned',\n",
       " 'that',\n",
       " '',\n",
       " 'if',\n",
       " 'we',\n",
       " 'did',\n",
       " 'not',\n",
       " 'act',\n",
       " ',',\n",
       " 'we',\n",
       " 'might',\n",
       " 'face',\n",
       " '',\n",
       " 'a',\n",
       " 'second',\n",
       " 'depression',\n",
       " '.',\n",
       " 'So',\n",
       " 'we',\n",
       " '',\n",
       " 'acted',\n",
       " 'immediately',\n",
       " 'and',\n",
       " 'aggressive',\n",
       " 'ly',\n",
       " '.',\n",
       " 'And',\n",
       " 'one',\n",
       " 'year',\n",
       " 'later',\n",
       " ',',\n",
       " 'the',\n",
       " 'worst',\n",
       " 'of',\n",
       " 'the',\n",
       " 'storm',\n",
       " 'has',\n",
       " 'passed',\n",
       " '.',\n",
       " 'But',\n",
       " 'the',\n",
       " 'de',\n",
       " 'va',\n",
       " 'station',\n",
       " 'remains',\n",
       " '.',\n",
       " 'One',\n",
       " 'in',\n",
       " '10',\n",
       " 'Americans',\n",
       " 'still',\n",
       " 'cannot',\n",
       " 'find',\n",
       " 'work',\n",
       " '.',\n",
       " 'Many',\n",
       " 'businesses',\n",
       " 'have',\n",
       " 'shutter',\n",
       " 'e',\n",
       " 'd',\n",
       " '.',\n",
       " 'Home',\n",
       " 'values',\n",
       " 'have',\n",
       " 'declined',\n",
       " '.',\n",
       " 'Small',\n",
       " 'towns',\n",
       " 'and',\n",
       " 'rural',\n",
       " 'communities',\n",
       " 'have',\n",
       " 'been',\n",
       " 'hit',\n",
       " 'especially',\n",
       " 'hard',\n",
       " '.',\n",
       " 'For',\n",
       " 'those',\n",
       " 'who',\n",
       " 'had',\n",
       " 'already',\n",
       " 'known',\n",
       " 'poverty',\n",
       " ',',\n",
       " 'life',\n",
       " 'has',\n",
       " 'become',\n",
       " 'that',\n",
       " 'much',\n",
       " 'harder',\n",
       " '.',\n",
       " 'This',\n",
       " 'recession',\n",
       " 'has',\n",
       " 'also',\n",
       " 'compound',\n",
       " 'e',\n",
       " 'd',\n",
       " 'the',\n",
       " 'burden',\n",
       " 's',\n",
       " 'that',\n",
       " 'America',\n",
       " \"'\",\n",
       " 's',\n",
       " 'families',\n",
       " 'have',\n",
       " 'been',\n",
       " 'dealing',\n",
       " 'with',\n",
       " 'for',\n",
       " 'decades',\n",
       " '--',\n",
       " 'the',\n",
       " 'burden',\n",
       " 'of',\n",
       " 'working',\n",
       " 'harder',\n",
       " 'and',\n",
       " 'longer',\n",
       " 'for',\n",
       " 'less',\n",
       " ',',\n",
       " 'of',\n",
       " 'being',\n",
       " '',\n",
       " 'unable',\n",
       " 'to',\n",
       " 'save',\n",
       " 'enough',\n",
       " 'to',\n",
       " 'retire',\n",
       " 'or',\n",
       " 'help',\n",
       " 'kids',\n",
       " 'with',\n",
       " 'college',\n",
       " '.',\n",
       " 'So',\n",
       " 'I',\n",
       " 'know',\n",
       " 'the',\n",
       " 'anxiet',\n",
       " 'ies',\n",
       " 'that',\n",
       " 'are',\n",
       " 'out',\n",
       " 'there',\n",
       " 'right',\n",
       " 'now',\n",
       " '.',\n",
       " 'They',\n",
       " \"'\",\n",
       " 're',\n",
       " 'not',\n",
       " 'new',\n",
       " '.',\n",
       " 'These',\n",
       " 'struggles',\n",
       " 'are',\n",
       " 'the',\n",
       " 'reason',\n",
       " 'I',\n",
       " 'ran',\n",
       " 'for',\n",
       " 'president',\n",
       " '.',\n",
       " 'These',\n",
       " 'struggles',\n",
       " 'are',\n",
       " 'what',\n",
       " 'I',\n",
       " \"'\",\n",
       " 've',\n",
       " 'witnessed',\n",
       " 'for',\n",
       " 'years',\n",
       " 'in',\n",
       " 'places',\n",
       " 'like',\n",
       " 'El',\n",
       " 'k',\n",
       " 'hart',\n",
       " ',',\n",
       " 'In',\n",
       " 'd',\n",
       " '.',\n",
       " ',',\n",
       " 'and',\n",
       " 'Gal',\n",
       " 'e',\n",
       " 'sburg',\n",
       " ',',\n",
       " 'I',\n",
       " 'll',\n",
       " '.',\n",
       " 'I',\n",
       " 'hear',\n",
       " 'about',\n",
       " 'them',\n",
       " 'in',\n",
       " 'the',\n",
       " 'letters',\n",
       " 'that',\n",
       " 'I',\n",
       " 'read',\n",
       " 'each',\n",
       " 'night',\n",
       " '.',\n",
       " 'The',\n",
       " 'tough',\n",
       " 'est',\n",
       " 'to',\n",
       " 'read',\n",
       " 'are',\n",
       " 'those',\n",
       " 'written',\n",
       " 'by',\n",
       " '</s>']"
      ]
     },
     "execution_count": 46,
     "metadata": {},
     "output_type": "execute_result"
    }
   ],
   "source": [
    "print(len(sentence_t5_tokenizer(text)['input_ids']))\n",
    "print((sentence_t5_tokenizer(text)['input_ids']))\n",
    "\n",
    "sentence_t5_tokenizer.batch_decode(sentence_t5_tokenizer(text)['input_ids'])"
   ]
  },
  {
   "cell_type": "code",
   "execution_count": 47,
   "id": "eff41f3c-4571-4990-92ed-6c8fa18ed8f2",
   "metadata": {},
   "outputs": [
    {
     "data": {
      "text/plain": [
       "[27328,\n",
       " 16778,\n",
       " 6,\n",
       " 8236,\n",
       " 1661,\n",
       " 2106,\n",
       " 537,\n",
       " 6,\n",
       " 724,\n",
       " 13,\n",
       " 4442,\n",
       " 6,\n",
       " 18908,\n",
       " 2554,\n",
       " 6,\n",
       " 11,\n",
       " 4999,\n",
       " 5452,\n",
       " 10,\n",
       " 421,\n",
       " 11378,\n",
       " 15884,\n",
       " 7,\n",
       " 24,\n",
       " 45,\n",
       " 97,\n",
       " 12,\n",
       " 97,\n",
       " 6,\n",
       " 8,\n",
       " 2753,\n",
       " 1522,\n",
       " 428,\n",
       " 12,\n",
       " 4442,\n",
       " 251,\n",
       " 81,\n",
       " 8,\n",
       " 538,\n",
       " 13,\n",
       " 69,\n",
       " 7021,\n",
       " 5,\n",
       " 242,\n",
       " 204,\n",
       " 1755,\n",
       " 203,\n",
       " 6,\n",
       " 69,\n",
       " 2440,\n",
       " 43,\n",
       " 20795,\n",
       " 48,\n",
       " 5461,\n",
       " 5,\n",
       " 328,\n",
       " 43,\n",
       " 612,\n",
       " 78,\n",
       " 383,\n",
       " 8811,\n",
       " 13,\n",
       " 21571,\n",
       " 11,\n",
       " 14249,\n",
       " 485,\n",
       " 5,\n",
       " 275,\n",
       " 79,\n",
       " 43,\n",
       " 612,\n",
       " 78,\n",
       " 16,\n",
       " 8,\n",
       " 3,\n",
       " 12342,\n",
       " 13,\n",
       " 615,\n",
       " 11,\n",
       " 7562,\n",
       " 117,\n",
       " 44,\n",
       " 4413,\n",
       " 13,\n",
       " 248,\n",
       " 5765,\n",
       " 99,\n",
       " 15,\n",
       " 11,\n",
       " 248,\n",
       " 4393,\n",
       " 5,\n",
       " 94,\n",
       " 31,\n",
       " 7,\n",
       " 24873,\n",
       " 12,\n",
       " 320,\n",
       " 223,\n",
       " 30,\n",
       " 175,\n",
       " 4413,\n",
       " 11,\n",
       " 5344,\n",
       " 24,\n",
       " 69,\n",
       " 2188,\n",
       " 47,\n",
       " 17508,\n",
       " 6,\n",
       " 24,\n",
       " 1371,\n",
       " 47,\n",
       " 373,\n",
       " 3,\n",
       " 26677,\n",
       " 12,\n",
       " 7229,\n",
       " 5,\n",
       " 299,\n",
       " 116,\n",
       " 8,\n",
       " 3545,\n",
       " 47,\n",
       " 2120,\n",
       " 223,\n",
       " 44,\n",
       " 10204,\n",
       " 7113,\n",
       " 11,\n",
       " 8,\n",
       " 432,\n",
       " 725,\n",
       " 166,\n",
       " 3,\n",
       " 16349,\n",
       " 44,\n",
       " 29518,\n",
       " 2979,\n",
       " 6,\n",
       " 6224,\n",
       " 47,\n",
       " 182,\n",
       " 231,\n",
       " 16,\n",
       " 3228,\n",
       " 5,\n",
       " 366,\n",
       " 8,\n",
       " 512,\n",
       " 24679,\n",
       " 30,\n",
       " 1589,\n",
       " 2818,\n",
       " 11,\n",
       " 3095,\n",
       " 2166,\n",
       " 10556,\n",
       " 277,\n",
       " 130,\n",
       " 3,\n",
       " 17349,\n",
       " 30,\n",
       " 12737,\n",
       " 63,\n",
       " 1771,\n",
       " 6,\n",
       " 8,\n",
       " 647,\n",
       " 47,\n",
       " 959,\n",
       " 68,\n",
       " 824,\n",
       " 5,\n",
       " 506,\n",
       " 130,\n",
       " 648,\n",
       " 24,\n",
       " 5285,\n",
       " 8,\n",
       " 11578,\n",
       " 13,\n",
       " 69,\n",
       " 13929,\n",
       " 7,\n",
       " 11,\n",
       " 8,\n",
       " 2793,\n",
       " 13,\n",
       " 69,\n",
       " 7021,\n",
       " 5,\n",
       " 275,\n",
       " 3,\n",
       " 3565,\n",
       " 66,\n",
       " 69,\n",
       " 4889,\n",
       " 7,\n",
       " 11,\n",
       " 28155,\n",
       " 7,\n",
       " 6,\n",
       " 69,\n",
       " 29457,\n",
       " 7,\n",
       " 11,\n",
       " 69,\n",
       " 14935,\n",
       " 6,\n",
       " 1371,\n",
       " 23990,\n",
       " 15,\n",
       " 26,\n",
       " 250,\n",
       " 62,\n",
       " 3260,\n",
       " 12,\n",
       " 888,\n",
       " 1039,\n",
       " 38,\n",
       " 80,\n",
       " 2982,\n",
       " 11,\n",
       " 80,\n",
       " 151,\n",
       " 5,\n",
       " 7204,\n",
       " 6,\n",
       " 62,\n",
       " 33,\n",
       " 5285,\n",
       " 5,\n",
       " 275,\n",
       " 541,\n",
       " 6,\n",
       " 62,\n",
       " 398,\n",
       " 1525,\n",
       " 892,\n",
       " 31,\n",
       " 7,\n",
       " 580,\n",
       " 5,\n",
       " 555,\n",
       " 215,\n",
       " 977,\n",
       " 6,\n",
       " 27,\n",
       " 808,\n",
       " 828,\n",
       " 18905,\n",
       " 192,\n",
       " 615,\n",
       " 7,\n",
       " 6,\n",
       " 46,\n",
       " 2717,\n",
       " 2480,\n",
       " 15,\n",
       " 26,\n",
       " 57,\n",
       " 5274,\n",
       " 19917,\n",
       " 6,\n",
       " 3,\n",
       " 9,\n",
       " 981,\n",
       " 358,\n",
       " 30,\n",
       " 8,\n",
       " 548,\n",
       " 397,\n",
       " 13,\n",
       " 11612,\n",
       " 11,\n",
       " 3,\n",
       " 9,\n",
       " 789,\n",
       " 7447,\n",
       " 16,\n",
       " 2814,\n",
       " 5,\n",
       " 8865,\n",
       " 7,\n",
       " 45,\n",
       " 640,\n",
       " 8,\n",
       " 1827,\n",
       " 10113,\n",
       " 15240,\n",
       " 24,\n",
       " 3,\n",
       " 99,\n",
       " 62,\n",
       " 410,\n",
       " 59,\n",
       " 1810,\n",
       " 6,\n",
       " 62,\n",
       " 429,\n",
       " 522,\n",
       " 3,\n",
       " 9,\n",
       " 511,\n",
       " 7562,\n",
       " 5,\n",
       " 264,\n",
       " 62,\n",
       " 3,\n",
       " 9925,\n",
       " 2017,\n",
       " 11,\n",
       " 8299,\n",
       " 120,\n",
       " 5,\n",
       " 275,\n",
       " 80,\n",
       " 215,\n",
       " 865,\n",
       " 6,\n",
       " 8,\n",
       " 6025,\n",
       " 13,\n",
       " 8,\n",
       " 5536,\n",
       " 65,\n",
       " 2804,\n",
       " 5,\n",
       " 299,\n",
       " 8,\n",
       " 20,\n",
       " 900,\n",
       " 6682,\n",
       " 3048,\n",
       " 5,\n",
       " 555,\n",
       " 16,\n",
       " 335,\n",
       " 5452,\n",
       " 341,\n",
       " 1178,\n",
       " 253,\n",
       " 161,\n",
       " 5,\n",
       " 1404,\n",
       " 1623,\n",
       " 43,\n",
       " 18094,\n",
       " 15,\n",
       " 26,\n",
       " 5,\n",
       " 1210,\n",
       " 2620,\n",
       " 43,\n",
       " 14833,\n",
       " 5,\n",
       " 4872,\n",
       " 11228,\n",
       " 11,\n",
       " 5372,\n",
       " 2597,\n",
       " 43,\n",
       " 118,\n",
       " 1560,\n",
       " 902,\n",
       " 614,\n",
       " 5,\n",
       " 242,\n",
       " 273,\n",
       " 113,\n",
       " 141,\n",
       " 641,\n",
       " 801,\n",
       " 9569,\n",
       " 6,\n",
       " 280,\n",
       " 65,\n",
       " 582,\n",
       " 24,\n",
       " 231,\n",
       " 7501,\n",
       " 5,\n",
       " 100,\n",
       " 19917,\n",
       " 65,\n",
       " 92,\n",
       " 12771,\n",
       " 15,\n",
       " 26,\n",
       " 8,\n",
       " 9054,\n",
       " 7,\n",
       " 24,\n",
       " 1371,\n",
       " 31,\n",
       " 7,\n",
       " 1791,\n",
       " 43,\n",
       " 118,\n",
       " 4945,\n",
       " 28,\n",
       " 21,\n",
       " 4160,\n",
       " 1636,\n",
       " 8,\n",
       " 9054,\n",
       " 13,\n",
       " 464,\n",
       " 7501,\n",
       " 11,\n",
       " 1200,\n",
       " 21,\n",
       " 705,\n",
       " 6,\n",
       " 13,\n",
       " 271,\n",
       " 3,\n",
       " 6319,\n",
       " 12,\n",
       " 1097,\n",
       " 631,\n",
       " 12,\n",
       " 14848,\n",
       " 42,\n",
       " 199,\n",
       " 1082,\n",
       " 28,\n",
       " 1900,\n",
       " 5,\n",
       " 264,\n",
       " 27,\n",
       " 214,\n",
       " 8,\n",
       " 30825,\n",
       " 725,\n",
       " 24,\n",
       " 33,\n",
       " 91,\n",
       " 132,\n",
       " 269,\n",
       " 230,\n",
       " 5,\n",
       " 328,\n",
       " 31,\n",
       " 60,\n",
       " 59,\n",
       " 126,\n",
       " 5,\n",
       " 506,\n",
       " 16562,\n",
       " 33,\n",
       " 8,\n",
       " 1053,\n",
       " 27,\n",
       " 4037,\n",
       " 21,\n",
       " 2753,\n",
       " 5,\n",
       " 506,\n",
       " 16562,\n",
       " 33,\n",
       " 125,\n",
       " 27,\n",
       " 31,\n",
       " 162,\n",
       " 16903,\n",
       " 21,\n",
       " 203,\n",
       " 16,\n",
       " 1747,\n",
       " 114,\n",
       " 1289,\n",
       " 157,\n",
       " 13626,\n",
       " 6,\n",
       " 86,\n",
       " 26,\n",
       " 5,\n",
       " 6,\n",
       " 11,\n",
       " 6084,\n",
       " 15,\n",
       " 7289,\n",
       " 6,\n",
       " 27,\n",
       " 195,\n",
       " 5,\n",
       " 27,\n",
       " 1616,\n",
       " 81,\n",
       " 135,\n",
       " 16,\n",
       " 8,\n",
       " 5487,\n",
       " 24,\n",
       " 27,\n",
       " 608,\n",
       " 284,\n",
       " 706,\n",
       " 5,\n",
       " 37,\n",
       " 3429,\n",
       " 222,\n",
       " 12,\n",
       " 608,\n",
       " 33,\n",
       " 273,\n",
       " 1545,\n",
       " 57,\n",
       " 1]"
      ]
     },
     "execution_count": 47,
     "metadata": {},
     "output_type": "execute_result"
    }
   ],
   "source": [
    "model.tokenizer.encode(text)"
   ]
  },
  {
   "cell_type": "markdown",
   "id": "c1304b61-2a49-4437-aaa4-83b9a3e2e8b0",
   "metadata": {},
   "source": [
    "---\n",
    "# Sentence Transformers\n",
    "\n",
    "* [SentenceTransformer](https://www.sbert.net/docs/package_reference/SentenceTransformer.html)"
   ]
  },
  {
   "cell_type": "code",
   "execution_count": 48,
   "id": "3301bb27-d8ba-4487-8420-3b05b2f01490",
   "metadata": {
    "ExecuteTime": {
     "start_time": "2023-12-26T03:41:09.010624429Z"
    },
    "collapsed": false,
    "jupyter": {
     "outputs_hidden": false
    }
   },
   "outputs": [
    {
     "name": "stderr",
     "output_type": "stream",
     "text": [
      "Token indices sequence length is longer than the specified maximum sequence length for this model (513 > 512). Running this sequence through the model will result in indexing errors\n"
     ]
    },
    {
     "data": {
      "text/plain": [
       "{'input_ids': tensor([[16778,     6,  8236,  1661,  2106,   537,     6,   724,    13,  4442,\n",
       "             6, 18908,  2554,     6,    11,  4999,  5452,    10,   421, 11378,\n",
       "         15884,     7,    24,    45,    97,    12,    97,     6,     8,  2753,\n",
       "          1522,   428,    12,  4442,   251,    81,     8,   538,    13,    69,\n",
       "          7021,     5,   242,   204,  1755,   203,     6,    69,  2440,    43,\n",
       "         20795,    48,  5461,     5,   328,    43,   612,    78,   383,  8811,\n",
       "            13, 21571,    11, 14249,   485,     5,   275,    79,    43,   612,\n",
       "            78,    16,     8,     3, 12342,    13,   615,    11,  7562,   117,\n",
       "            44,  4413,    13,   248,  5765,    99,    15,    11,   248,  4393,\n",
       "             5,    94,    31,     7, 24873,    12,   320,   223,    30,   175,\n",
       "          4413,    11,  5344,    24,    69,  2188,    47, 17508,     6,    24,\n",
       "          1371,    47,   373,     3, 26677,    12,  7229,     5,   299,   116,\n",
       "             8,  3545,    47,  2120,   223,    44, 10204,  7113,    11,     8,\n",
       "           432,   725,   166,     3, 16349,    44, 29518,  2979,     6,  6224,\n",
       "            47,   182,   231,    16,  3228,     5,   366,     8,   512, 24679,\n",
       "            30,  1589,  2818,    11,  3095,  2166, 10556,   277,   130,     3,\n",
       "         17349,    30, 12737,    63,  1771,     6,     8,   647,    47,   959,\n",
       "            68,   824,     5,   506,   130,   648,    24,  5285,     8, 11578,\n",
       "            13,    69, 13929,     7,    11,     8,  2793,    13,    69,  7021,\n",
       "             5,   275,     3,  3565,    66,    69,  4889,     7,    11, 28155,\n",
       "             7,     6,    69, 29457,     7,    11,    69, 14935,     6,  1371,\n",
       "         23990,    15,    26,   250,    62,  3260,    12,   888,  1039,    38,\n",
       "            80,  2982,    11,    80,   151,     5,  7204,     6,    62,    33,\n",
       "          5285,     5,   275,   541,     6,    62,   398,  1525,   892,    31,\n",
       "             7,   580,     5,   555,   215,   977,     6,    27,   808,   828,\n",
       "         18905,   192,   615,     7,     6,    46,  2717,  2480,    15,    26,\n",
       "            57,  5274, 19917,     6,     3,     9,   981,   358,    30,     8,\n",
       "           548,   397,    13, 11612,    11,     3,     9,   789,  7447,    16,\n",
       "          2814,     5,  8865,     7,    45,   640,     8,  1827, 10113, 15240,\n",
       "            24,     3,    99,    62,   410,    59,  1810,     6,    62,   429,\n",
       "           522,     3,     9,   511,  7562,     5,   264,    62,     3,  9925,\n",
       "          2017,    11,  8299,   120,     5,   275,    80,   215,   865,     6,\n",
       "             8,  6025,    13,     8,  5536,    65,  2804,     5,   299,     8,\n",
       "            20,   900,  6682,  3048,     5,   555,    16,   335,  5452,   341,\n",
       "          1178,   253,   161,     5,  1404,  1623,    43, 18094,    15,    26,\n",
       "             5,  1210,  2620,    43, 14833,     5,  4872, 11228,    11,  5372,\n",
       "          2597,    43,   118,  1560,   902,   614,     5,   242,   273,   113,\n",
       "           141,   641,   801,  9569,     6,   280,    65,   582,    24,   231,\n",
       "          7501,     5,   100, 19917,    65,    92, 12771,    15,    26,     8,\n",
       "          9054,     7,    24,  1371,    31,     7,  1791,    43,   118,  4945,\n",
       "            28,    21,  4160,  1636,     8,  9054,    13,   464,  7501,    11,\n",
       "          1200,    21,   705,     6,    13,   271,     3,  6319,    12,  1097,\n",
       "           631,    12, 14848,    42,   199,  1082,    28,  1900,     5,   264,\n",
       "            27,   214,     8, 30825,   725,    24,    33,    91,   132,   269,\n",
       "           230,     5,   328,    31,    60,    59,   126,     5,   506, 16562,\n",
       "            33,     8,  1053,    27,  4037,    21,  2753,     5,   506, 16562,\n",
       "            33,   125,    27,    31,   162, 16903,    21,   203,    16,  1747,\n",
       "           114,  1289,   157, 13626,     6,    86,    26,     5,     6,    11,\n",
       "          6084,    15,  7289,     6,    27,   195,     5,    27,  1616,    81,\n",
       "           135,    16,     8,  5487,    24,    27,   608,   284,   706,     5,\n",
       "            37,  3429,   222,    12,   608,    33,   273,  1545,    57,   502,\n",
       "          3558,   572,     1]]), 'attention_mask': tensor([[1, 1, 1, 1, 1, 1, 1, 1, 1, 1, 1, 1, 1, 1, 1, 1, 1, 1, 1, 1, 1, 1, 1, 1,\n",
       "         1, 1, 1, 1, 1, 1, 1, 1, 1, 1, 1, 1, 1, 1, 1, 1, 1, 1, 1, 1, 1, 1, 1, 1,\n",
       "         1, 1, 1, 1, 1, 1, 1, 1, 1, 1, 1, 1, 1, 1, 1, 1, 1, 1, 1, 1, 1, 1, 1, 1,\n",
       "         1, 1, 1, 1, 1, 1, 1, 1, 1, 1, 1, 1, 1, 1, 1, 1, 1, 1, 1, 1, 1, 1, 1, 1,\n",
       "         1, 1, 1, 1, 1, 1, 1, 1, 1, 1, 1, 1, 1, 1, 1, 1, 1, 1, 1, 1, 1, 1, 1, 1,\n",
       "         1, 1, 1, 1, 1, 1, 1, 1, 1, 1, 1, 1, 1, 1, 1, 1, 1, 1, 1, 1, 1, 1, 1, 1,\n",
       "         1, 1, 1, 1, 1, 1, 1, 1, 1, 1, 1, 1, 1, 1, 1, 1, 1, 1, 1, 1, 1, 1, 1, 1,\n",
       "         1, 1, 1, 1, 1, 1, 1, 1, 1, 1, 1, 1, 1, 1, 1, 1, 1, 1, 1, 1, 1, 1, 1, 1,\n",
       "         1, 1, 1, 1, 1, 1, 1, 1, 1, 1, 1, 1, 1, 1, 1, 1, 1, 1, 1, 1, 1, 1, 1, 1,\n",
       "         1, 1, 1, 1, 1, 1, 1, 1, 1, 1, 1, 1, 1, 1, 1, 1, 1, 1, 1, 1, 1, 1, 1, 1,\n",
       "         1, 1, 1, 1, 1, 1, 1, 1, 1, 1, 1, 1, 1, 1, 1, 1, 1, 1, 1, 1, 1, 1, 1, 1,\n",
       "         1, 1, 1, 1, 1, 1, 1, 1, 1, 1, 1, 1, 1, 1, 1, 1, 1, 1, 1, 1, 1, 1, 1, 1,\n",
       "         1, 1, 1, 1, 1, 1, 1, 1, 1, 1, 1, 1, 1, 1, 1, 1, 1, 1, 1, 1, 1, 1, 1, 1,\n",
       "         1, 1, 1, 1, 1, 1, 1, 1, 1, 1, 1, 1, 1, 1, 1, 1, 1, 1, 1, 1, 1, 1, 1, 1,\n",
       "         1, 1, 1, 1, 1, 1, 1, 1, 1, 1, 1, 1, 1, 1, 1, 1, 1, 1, 1, 1, 1, 1, 1, 1,\n",
       "         1, 1, 1, 1, 1, 1, 1, 1, 1, 1, 1, 1, 1, 1, 1, 1, 1, 1, 1, 1, 1, 1, 1, 1,\n",
       "         1, 1, 1, 1, 1, 1, 1, 1, 1, 1, 1, 1, 1, 1, 1, 1, 1, 1, 1, 1, 1, 1, 1, 1,\n",
       "         1, 1, 1, 1, 1, 1, 1, 1, 1, 1, 1, 1, 1, 1, 1, 1, 1, 1, 1, 1, 1, 1, 1, 1,\n",
       "         1, 1, 1, 1, 1, 1, 1, 1, 1, 1, 1, 1, 1, 1, 1, 1, 1, 1, 1, 1, 1, 1, 1, 1,\n",
       "         1, 1, 1, 1, 1, 1, 1, 1, 1, 1, 1, 1, 1, 1, 1, 1, 1, 1, 1, 1, 1, 1, 1, 1,\n",
       "         1, 1, 1, 1, 1, 1, 1, 1, 1, 1, 1, 1, 1, 1, 1, 1, 1, 1, 1, 1, 1, 1, 1, 1,\n",
       "         1, 1, 1, 1, 1, 1, 1, 1, 1]])}"
      ]
     },
     "execution_count": 48,
     "metadata": {},
     "output_type": "execute_result"
    }
   ],
   "source": [
    "sentence_trf_tokenizer = AutoTokenizer.from_pretrained(f'sentence-transformers/{SENTENCE_TRF_MODEL}')\n",
    "encoded_input = sentence_trf_tokenizer([sentence.page_content for sentence in sentences[:1]], return_tensors='pt')\n",
    "encoded_input"
   ]
  },
  {
   "cell_type": "code",
   "execution_count": 49,
   "id": "5819c80a-a4e1-4dde-aa38-12f208b5c932",
   "metadata": {
    "ExecuteTime": {
     "start_time": "2023-12-26T03:41:09.010700745Z"
    },
    "collapsed": false,
    "jupyter": {
     "outputs_hidden": false
    }
   },
   "outputs": [
    {
     "data": {
      "text/plain": [
       "{'input_ids': tensor([[27328, 16778,     6,  8236,  1661,  2106,   537,     6,   724,    13,\n",
       "           4442,     6, 18908,  2554,     6,    11,  4999,  5452,    10,   421,\n",
       "          11378, 15884,     7,    24,    45,    97,    12,    97,     6,     8,\n",
       "           2753,  1522,   428,    12,  4442,   251,    81,     8,   538,    13,\n",
       "             69,  7021,     5,   242,   204,  1755,   203,     6,    69,  2440,\n",
       "             43, 20795,    48,  5461,     5,   328,    43,   612,    78,   383,\n",
       "           8811,    13, 21571,    11, 14249,   485,     5,   275,    79,    43,\n",
       "            612,    78,    16,     8,     3, 12342,    13,   615,    11,  7562,\n",
       "            117,    44,  4413,    13,   248,  5765,    99,    15,    11,   248,\n",
       "           4393,     5,    94,    31,     7, 24873,    12,   320,   223,    30,\n",
       "            175,  4413,    11,  5344,    24,    69,  2188,    47, 17508,     6,\n",
       "             24,  1371,    47,   373,     3, 26677,    12,  7229,     5,   299,\n",
       "            116,     8,  3545,    47,  2120,   223,    44, 10204,  7113,    11,\n",
       "              8,   432,   725,   166,     3, 16349,    44, 29518,  2979,     6,\n",
       "           6224,    47,   182,   231,    16,  3228,     5,   366,     8,   512,\n",
       "          24679,    30,  1589,  2818,    11,  3095,  2166, 10556,   277,   130,\n",
       "              3, 17349,    30, 12737,    63,  1771,     6,     8,   647,    47,\n",
       "            959,    68,   824,     5,   506,   130,   648,    24,  5285,     8,\n",
       "          11578,    13,    69, 13929,     7,    11,     8,  2793,    13,    69,\n",
       "           7021,     5,   275,     3,  3565,    66,    69,  4889,     7,    11,\n",
       "          28155,     7,     6,    69, 29457,     7,    11,    69, 14935,     6,\n",
       "           1371, 23990,    15,    26,   250,    62,  3260,    12,   888,  1039,\n",
       "             38,    80,  2982,    11,    80,   151,     5,  7204,     6,    62,\n",
       "             33,  5285,     5,   275,   541,     6,    62,   398,  1525,   892,\n",
       "             31,     7,   580,     5,   555,   215,   977,     6,    27,   808,\n",
       "            828, 18905,   192,   615,     7,     6,    46,  2717,  2480,    15,\n",
       "             26,    57,  5274, 19917,     6,     3,     9,   981,   358,    30,\n",
       "              8,   548,   397,    13, 11612,    11,     3,     9,   789,  7447,\n",
       "             16,  2814,     5,  8865,     7,    45,   640,     8,  1827, 10113,\n",
       "          15240,    24,     3,    99,    62,   410,    59,  1810,     6,    62,\n",
       "            429,   522,     3,     9,   511,  7562,     5,   264,    62,     3,\n",
       "           9925,  2017,    11,  8299,   120,     5,   275,    80,   215,   865,\n",
       "              6,     8,  6025,    13,     8,  5536,    65,  2804,     5,   299,\n",
       "              8,    20,   900,  6682,  3048,     5,   555,    16,   335,  5452,\n",
       "            341,  1178,   253,   161,     5,  1404,  1623,    43, 18094,    15,\n",
       "             26,     5,  1210,  2620,    43, 14833,     5,  4872, 11228,    11,\n",
       "           5372,  2597,    43,   118,  1560,   902,   614,     5,   242,   273,\n",
       "            113,   141,   641,   801,  9569,     6,   280,    65,   582,    24,\n",
       "            231,  7501,     5,   100, 19917,    65,    92, 12771,    15,    26,\n",
       "              8,  9054,     7,    24,  1371,    31,     7,  1791,    43,   118,\n",
       "           4945,    28,    21,  4160,  1636,     8,  9054,    13,   464,  7501,\n",
       "             11,  1200,    21,   705,     6,    13,   271,     3,  6319,    12,\n",
       "           1097,   631,    12, 14848,    42,   199,  1082,    28,  1900,     5,\n",
       "            264,    27,   214,     8, 30825,   725,    24,    33,    91,   132,\n",
       "            269,   230,     5,   328,    31,    60,    59,   126,     5,   506,\n",
       "          16562,    33,     8,  1053,    27,  4037,    21,  2753,     5,   506,\n",
       "          16562,    33,   125,    27,    31,   162, 16903,    21,   203,    16,\n",
       "           1747,   114,  1289,   157, 13626,     6,    86,    26,     5,     6,\n",
       "             11,  6084,    15,  7289,     6,    27,   195,     5,    27,  1616,\n",
       "             81,   135,    16,     8,  5487,    24,    27,   608,   284,   706,\n",
       "              5,    37,  3429,   222,    12,   608,    33,   273,  1545,    57,\n",
       "              1]]),\n",
       " 'attention_mask': tensor([[1, 1, 1, 1, 1, 1, 1, 1, 1, 1, 1, 1, 1, 1, 1, 1, 1, 1, 1, 1, 1, 1, 1, 1,\n",
       "          1, 1, 1, 1, 1, 1, 1, 1, 1, 1, 1, 1, 1, 1, 1, 1, 1, 1, 1, 1, 1, 1, 1, 1,\n",
       "          1, 1, 1, 1, 1, 1, 1, 1, 1, 1, 1, 1, 1, 1, 1, 1, 1, 1, 1, 1, 1, 1, 1, 1,\n",
       "          1, 1, 1, 1, 1, 1, 1, 1, 1, 1, 1, 1, 1, 1, 1, 1, 1, 1, 1, 1, 1, 1, 1, 1,\n",
       "          1, 1, 1, 1, 1, 1, 1, 1, 1, 1, 1, 1, 1, 1, 1, 1, 1, 1, 1, 1, 1, 1, 1, 1,\n",
       "          1, 1, 1, 1, 1, 1, 1, 1, 1, 1, 1, 1, 1, 1, 1, 1, 1, 1, 1, 1, 1, 1, 1, 1,\n",
       "          1, 1, 1, 1, 1, 1, 1, 1, 1, 1, 1, 1, 1, 1, 1, 1, 1, 1, 1, 1, 1, 1, 1, 1,\n",
       "          1, 1, 1, 1, 1, 1, 1, 1, 1, 1, 1, 1, 1, 1, 1, 1, 1, 1, 1, 1, 1, 1, 1, 1,\n",
       "          1, 1, 1, 1, 1, 1, 1, 1, 1, 1, 1, 1, 1, 1, 1, 1, 1, 1, 1, 1, 1, 1, 1, 1,\n",
       "          1, 1, 1, 1, 1, 1, 1, 1, 1, 1, 1, 1, 1, 1, 1, 1, 1, 1, 1, 1, 1, 1, 1, 1,\n",
       "          1, 1, 1, 1, 1, 1, 1, 1, 1, 1, 1, 1, 1, 1, 1, 1, 1, 1, 1, 1, 1, 1, 1, 1,\n",
       "          1, 1, 1, 1, 1, 1, 1, 1, 1, 1, 1, 1, 1, 1, 1, 1, 1, 1, 1, 1, 1, 1, 1, 1,\n",
       "          1, 1, 1, 1, 1, 1, 1, 1, 1, 1, 1, 1, 1, 1, 1, 1, 1, 1, 1, 1, 1, 1, 1, 1,\n",
       "          1, 1, 1, 1, 1, 1, 1, 1, 1, 1, 1, 1, 1, 1, 1, 1, 1, 1, 1, 1, 1, 1, 1, 1,\n",
       "          1, 1, 1, 1, 1, 1, 1, 1, 1, 1, 1, 1, 1, 1, 1, 1, 1, 1, 1, 1, 1, 1, 1, 1,\n",
       "          1, 1, 1, 1, 1, 1, 1, 1, 1, 1, 1, 1, 1, 1, 1, 1, 1, 1, 1, 1, 1, 1, 1, 1,\n",
       "          1, 1, 1, 1, 1, 1, 1, 1, 1, 1, 1, 1, 1, 1, 1, 1, 1, 1, 1, 1, 1, 1, 1, 1,\n",
       "          1, 1, 1, 1, 1, 1, 1, 1, 1, 1, 1, 1, 1, 1, 1, 1, 1, 1, 1, 1, 1, 1, 1, 1,\n",
       "          1, 1, 1, 1, 1, 1, 1, 1, 1, 1, 1, 1, 1, 1, 1, 1, 1, 1, 1, 1, 1, 1, 1, 1,\n",
       "          1, 1, 1, 1, 1, 1, 1, 1, 1, 1, 1, 1, 1, 1, 1, 1, 1, 1, 1, 1, 1, 1, 1, 1,\n",
       "          1, 1, 1, 1, 1, 1, 1, 1, 1, 1, 1, 1, 1, 1, 1, 1, 1, 1, 1, 1, 1, 1, 1, 1,\n",
       "          1, 1, 1, 1, 1, 1, 1]])}"
      ]
     },
     "execution_count": 49,
     "metadata": {},
     "output_type": "execute_result"
    }
   ],
   "source": [
    "model = SentenceTransformer(SENTENCE_TRF_MODEL)\n",
    "vector = model.encode(text)\n",
    "vector.dtype\n",
    "model.tokenize([text])"
   ]
  },
  {
   "cell_type": "markdown",
   "id": "912a2ba5-00b6-47fd-9622-79dfa580d688",
   "metadata": {},
   "source": [
    "---\n",
    "# Vector Database FAISS\n",
    "\n",
    "* [Facebook Research - Faiss: A library for efficient similarity search](https://engineering.fb.com/2017/03/29/data-infrastructure/faiss-a-library-for-efficient-similarity-search/)\n",
    "* [Introduction to Facebook AI Similarity Search (Faiss)](https://www.pinecone.io/learn/series/faiss/faiss-tutorial/)\n",
    "* [FAISS - Github](https://github.com/facebookresearch/faiss)\n",
    "* [FAISS - Readthedocs](https://faiss.ai/index.html)\n",
    "\n",
    "## Tutorial\n",
    "\n",
    "* [Getting started](https://github.com/facebookresearch/faiss/wiki/Getting-started)\n",
    "\n",
    "> The code can be run by copy/pasting it or running it from the [tutorial](https://github.com/facebookresearch/faiss/tree/master/tutorial) subdirectory of the Faiss distribution.\n",
    "\n",
    "## Langchain\n",
    "* [Langchain - Vector stores](https://python.langchain.com/docs/modules/data_connection/vectorstores/)\n",
    "* [Langchain - FAISS](https://python.langchain.com/docs/integrations/vectorstores/faiss)\n",
    "* [Langchain API - vectorstores.faiss.FAISS](https://api.python.langchain.com/en/stable/vectorstores/langchain_community.vectorstores.faiss.FAISS.html)"
   ]
  },
  {
   "cell_type": "code",
   "execution_count": 50,
   "id": "c592a8b85f0cb10",
   "metadata": {
    "ExecuteTime": {
     "start_time": "2023-12-26T03:41:09.010778621Z"
    },
    "collapsed": false,
    "jupyter": {
     "outputs_hidden": false
    }
   },
   "outputs": [
    {
     "name": "stderr",
     "output_type": "stream",
     "text": [
      "Some weights of T5Model were not initialized from the model checkpoint at sentence-transformers/gtr-t5-large and are newly initialized: ['decoder.block.17.layer.2.DenseReluDense.wo.weight', 'decoder.block.1.layer.1.EncDecAttention.k.weight', 'decoder.block.22.layer.2.DenseReluDense.wi.weight', 'decoder.block.14.layer.2.DenseReluDense.wo.weight', 'decoder.block.8.layer.1.EncDecAttention.k.weight', 'decoder.block.4.layer.0.SelfAttention.k.weight', 'decoder.block.7.layer.0.SelfAttention.q.weight', 'decoder.block.12.layer.0.SelfAttention.o.weight', 'decoder.block.16.layer.1.layer_norm.weight', 'decoder.block.6.layer.1.EncDecAttention.o.weight', 'decoder.block.11.layer.0.SelfAttention.v.weight', 'decoder.block.3.layer.0.SelfAttention.q.weight', 'decoder.block.9.layer.1.EncDecAttention.k.weight', 'decoder.block.9.layer.1.layer_norm.weight', 'decoder.block.11.layer.1.EncDecAttention.k.weight', 'decoder.block.6.layer.2.layer_norm.weight', 'decoder.block.3.layer.2.DenseReluDense.wo.weight', 'decoder.block.6.layer.0.SelfAttention.o.weight', 'decoder.block.0.layer.1.EncDecAttention.q.weight', 'decoder.block.12.layer.2.layer_norm.weight', 'decoder.block.22.layer.2.DenseReluDense.wo.weight', 'decoder.block.13.layer.1.EncDecAttention.k.weight', 'decoder.block.13.layer.2.layer_norm.weight', 'decoder.block.6.layer.0.SelfAttention.q.weight', 'decoder.block.23.layer.0.layer_norm.weight', 'decoder.block.12.layer.1.EncDecAttention.o.weight', 'decoder.block.7.layer.1.EncDecAttention.o.weight', 'decoder.block.12.layer.0.layer_norm.weight', 'decoder.block.18.layer.1.EncDecAttention.k.weight', 'decoder.block.3.layer.2.layer_norm.weight', 'decoder.block.1.layer.0.SelfAttention.k.weight', 'decoder.block.19.layer.2.DenseReluDense.wi.weight', 'decoder.block.5.layer.0.SelfAttention.o.weight', 'decoder.block.7.layer.1.layer_norm.weight', 'decoder.block.11.layer.0.SelfAttention.q.weight', 'decoder.block.19.layer.2.DenseReluDense.wo.weight', 'decoder.block.0.layer.2.DenseReluDense.wo.weight', 'decoder.block.23.layer.1.EncDecAttention.v.weight', 'decoder.block.18.layer.1.EncDecAttention.o.weight', 'decoder.block.15.layer.0.SelfAttention.k.weight', 'decoder.block.23.layer.1.EncDecAttention.k.weight', 'decoder.block.3.layer.0.SelfAttention.v.weight', 'decoder.block.17.layer.1.EncDecAttention.q.weight', 'decoder.block.17.layer.0.SelfAttention.k.weight', 'decoder.block.21.layer.2.DenseReluDense.wo.weight', 'decoder.block.6.layer.1.EncDecAttention.v.weight', 'decoder.block.7.layer.1.EncDecAttention.q.weight', 'decoder.block.21.layer.0.SelfAttention.o.weight', 'decoder.block.6.layer.2.DenseReluDense.wo.weight', 'decoder.block.3.layer.1.EncDecAttention.o.weight', 'decoder.block.0.layer.0.SelfAttention.k.weight', 'decoder.block.2.layer.0.SelfAttention.v.weight', 'decoder.block.9.layer.0.SelfAttention.q.weight', 'decoder.block.19.layer.2.layer_norm.weight', 'decoder.block.10.layer.2.DenseReluDense.wo.weight', 'decoder.block.0.layer.1.EncDecAttention.o.weight', 'decoder.block.8.layer.0.layer_norm.weight', 'decoder.block.5.layer.1.EncDecAttention.k.weight', 'decoder.block.0.layer.0.SelfAttention.o.weight', 'decoder.block.5.layer.2.DenseReluDense.wo.weight', 'decoder.block.8.layer.0.SelfAttention.k.weight', 'decoder.block.7.layer.0.SelfAttention.o.weight', 'decoder.block.10.layer.1.EncDecAttention.k.weight', 'decoder.block.13.layer.0.SelfAttention.o.weight', 'decoder.block.17.layer.1.EncDecAttention.o.weight', 'decoder.block.1.layer.1.EncDecAttention.v.weight', 'decoder.block.7.layer.1.EncDecAttention.v.weight', 'decoder.block.15.layer.0.SelfAttention.v.weight', 'decoder.block.17.layer.0.SelfAttention.q.weight', 'decoder.block.17.layer.1.EncDecAttention.v.weight', 'decoder.block.23.layer.0.SelfAttention.k.weight', 'decoder.block.23.layer.1.layer_norm.weight', 'decoder.block.12.layer.2.DenseReluDense.wi.weight', 'decoder.block.5.layer.1.layer_norm.weight', 'decoder.block.23.layer.2.layer_norm.weight', 'decoder.block.15.layer.0.SelfAttention.o.weight', 'decoder.block.3.layer.1.layer_norm.weight', 'decoder.block.21.layer.0.layer_norm.weight', 'decoder.block.3.layer.1.EncDecAttention.k.weight', 'decoder.block.8.layer.1.EncDecAttention.v.weight', 'decoder.block.4.layer.0.SelfAttention.v.weight', 'decoder.block.16.layer.1.EncDecAttention.k.weight', 'decoder.block.14.layer.1.EncDecAttention.o.weight', 'decoder.block.14.layer.0.layer_norm.weight', 'decoder.block.16.layer.2.DenseReluDense.wo.weight', 'decoder.block.7.layer.2.DenseReluDense.wo.weight', 'decoder.block.3.layer.1.EncDecAttention.v.weight', 'decoder.block.4.layer.1.EncDecAttention.v.weight', 'decoder.block.7.layer.2.layer_norm.weight', 'decoder.block.2.layer.0.SelfAttention.k.weight', 'decoder.block.16.layer.0.SelfAttention.v.weight', 'decoder.block.12.layer.2.DenseReluDense.wo.weight', 'decoder.block.21.layer.1.EncDecAttention.q.weight', 'decoder.block.21.layer.2.DenseReluDense.wi.weight', 'decoder.block.23.layer.1.EncDecAttention.o.weight', 'decoder.block.4.layer.1.EncDecAttention.q.weight', 'decoder.block.2.layer.2.DenseReluDense.wo.weight', 'decoder.block.8.layer.0.SelfAttention.q.weight', 'decoder.block.18.layer.0.layer_norm.weight', 'decoder.block.17.layer.0.SelfAttention.v.weight', 'decoder.block.22.layer.1.EncDecAttention.v.weight', 'decoder.block.9.layer.2.DenseReluDense.wo.weight', 'decoder.block.18.layer.0.SelfAttention.v.weight', 'decoder.block.14.layer.2.DenseReluDense.wi.weight', 'decoder.block.20.layer.0.SelfAttention.v.weight', 'decoder.block.12.layer.0.SelfAttention.q.weight', 'decoder.block.1.layer.2.layer_norm.weight', 'decoder.block.2.layer.2.layer_norm.weight', 'decoder.block.12.layer.1.EncDecAttention.k.weight', 'decoder.block.0.layer.2.DenseReluDense.wi.weight', 'decoder.block.14.layer.1.EncDecAttention.k.weight', 'decoder.block.1.layer.0.SelfAttention.q.weight', 'decoder.block.8.layer.1.EncDecAttention.o.weight', 'decoder.block.5.layer.0.SelfAttention.q.weight', 'decoder.block.18.layer.1.EncDecAttention.q.weight', 'decoder.block.18.layer.1.layer_norm.weight', 'decoder.block.1.layer.0.layer_norm.weight', 'decoder.block.3.layer.0.SelfAttention.k.weight', 'decoder.block.9.layer.1.EncDecAttention.o.weight', 'decoder.block.19.layer.0.SelfAttention.q.weight', 'decoder.block.19.layer.1.EncDecAttention.q.weight', 'decoder.block.20.layer.1.layer_norm.weight', 'decoder.block.20.layer.0.SelfAttention.k.weight', 'decoder.block.23.layer.2.DenseReluDense.wo.weight', 'decoder.block.5.layer.0.SelfAttention.k.weight', 'decoder.block.20.layer.0.layer_norm.weight', 'decoder.block.11.layer.2.layer_norm.weight', 'decoder.block.21.layer.0.SelfAttention.v.weight', 'decoder.block.22.layer.0.SelfAttention.q.weight', 'decoder.block.18.layer.2.DenseReluDense.wi.weight', 'decoder.block.17.layer.1.EncDecAttention.k.weight', 'decoder.block.2.layer.0.SelfAttention.o.weight', 'decoder.block.16.layer.1.EncDecAttention.q.weight', 'decoder.block.1.layer.0.SelfAttention.v.weight', 'decoder.block.6.layer.0.layer_norm.weight', 'decoder.block.15.layer.1.EncDecAttention.k.weight', 'decoder.block.19.layer.1.layer_norm.weight', 'decoder.block.22.layer.1.EncDecAttention.q.weight', 'decoder.block.20.layer.0.SelfAttention.q.weight', 'decoder.block.6.layer.0.SelfAttention.v.weight', 'decoder.block.1.layer.2.DenseReluDense.wi.weight', 'decoder.block.5.layer.0.SelfAttention.v.weight', 'decoder.block.2.layer.1.EncDecAttention.o.weight', 'decoder.block.8.layer.1.EncDecAttention.q.weight', 'decoder.block.9.layer.0.SelfAttention.o.weight', 'decoder.block.14.layer.1.EncDecAttention.v.weight', 'decoder.block.5.layer.1.EncDecAttention.o.weight', 'decoder.final_layer_norm.weight', 'decoder.block.10.layer.2.DenseReluDense.wi.weight', 'decoder.block.4.layer.0.SelfAttention.o.weight', 'decoder.block.16.layer.2.layer_norm.weight', 'decoder.block.0.layer.1.EncDecAttention.v.weight', 'decoder.block.4.layer.0.layer_norm.weight', 'decoder.block.18.layer.0.SelfAttention.o.weight', 'decoder.block.7.layer.0.layer_norm.weight', 'decoder.block.3.layer.0.layer_norm.weight', 'decoder.block.22.layer.1.layer_norm.weight', 'decoder.block.10.layer.1.EncDecAttention.o.weight', 'decoder.block.20.layer.1.EncDecAttention.q.weight', 'decoder.block.11.layer.0.layer_norm.weight', 'decoder.block.0.layer.0.SelfAttention.relative_attention_bias.weight', 'decoder.block.14.layer.0.SelfAttention.k.weight', 'decoder.block.6.layer.1.EncDecAttention.k.weight', 'decoder.block.23.layer.2.DenseReluDense.wi.weight', 'decoder.block.0.layer.0.layer_norm.weight', 'decoder.block.20.layer.2.DenseReluDense.wo.weight', 'decoder.block.19.layer.1.EncDecAttention.o.weight', 'decoder.block.18.layer.0.SelfAttention.q.weight', 'decoder.block.8.layer.2.DenseReluDense.wo.weight', 'decoder.block.2.layer.1.EncDecAttention.v.weight', 'decoder.block.11.layer.1.layer_norm.weight', 'decoder.block.13.layer.2.DenseReluDense.wi.weight', 'decoder.block.15.layer.0.SelfAttention.q.weight', 'decoder.block.22.layer.0.SelfAttention.v.weight', 'decoder.block.17.layer.2.layer_norm.weight', 'decoder.block.16.layer.1.EncDecAttention.v.weight', 'decoder.block.0.layer.1.layer_norm.weight', 'decoder.block.21.layer.0.SelfAttention.k.weight', 'decoder.block.18.layer.2.layer_norm.weight', 'decoder.block.8.layer.0.SelfAttention.o.weight', 'decoder.block.7.layer.0.SelfAttention.k.weight', 'decoder.block.22.layer.0.layer_norm.weight', 'decoder.block.9.layer.0.SelfAttention.k.weight', 'decoder.block.16.layer.0.SelfAttention.o.weight', 'decoder.block.19.layer.0.SelfAttention.k.weight', 'decoder.block.10.layer.0.SelfAttention.v.weight', 'decoder.block.5.layer.1.EncDecAttention.q.weight', 'decoder.block.6.layer.2.DenseReluDense.wi.weight', 'decoder.block.1.layer.1.layer_norm.weight', 'decoder.block.10.layer.1.EncDecAttention.v.weight', 'decoder.block.2.layer.2.DenseReluDense.wi.weight', 'decoder.block.16.layer.0.SelfAttention.q.weight', 'decoder.block.22.layer.2.layer_norm.weight', 'decoder.block.11.layer.2.DenseReluDense.wo.weight', 'decoder.block.12.layer.1.EncDecAttention.v.weight', 'decoder.block.18.layer.0.SelfAttention.k.weight', 'decoder.block.12.layer.1.EncDecAttention.q.weight', 'decoder.block.13.layer.0.SelfAttention.q.weight', 'decoder.block.5.layer.2.layer_norm.weight', 'decoder.block.10.layer.0.SelfAttention.k.weight', 'decoder.block.11.layer.0.SelfAttention.k.weight', 'decoder.block.23.layer.0.SelfAttention.o.weight', 'decoder.block.5.layer.2.DenseReluDense.wi.weight', 'decoder.block.12.layer.1.layer_norm.weight', 'decoder.block.9.layer.1.EncDecAttention.v.weight', 'decoder.block.13.layer.0.SelfAttention.v.weight', 'decoder.block.20.layer.0.SelfAttention.o.weight', 'decoder.block.12.layer.0.SelfAttention.k.weight', 'decoder.block.15.layer.0.layer_norm.weight', 'decoder.block.19.layer.1.EncDecAttention.v.weight', 'decoder.block.4.layer.1.layer_norm.weight', 'decoder.block.7.layer.2.DenseReluDense.wi.weight', 'decoder.block.11.layer.1.EncDecAttention.v.weight', 'decoder.block.8.layer.0.SelfAttention.v.weight', 'decoder.block.18.layer.1.EncDecAttention.v.weight', 'decoder.block.3.layer.1.EncDecAttention.q.weight', 'decoder.block.6.layer.0.SelfAttention.k.weight', 'decoder.block.14.layer.1.layer_norm.weight', 'decoder.block.0.layer.2.layer_norm.weight', 'decoder.block.4.layer.0.SelfAttention.q.weight', 'decoder.block.11.layer.0.SelfAttention.o.weight', 'decoder.block.10.layer.1.EncDecAttention.q.weight', 'decoder.block.2.layer.0.layer_norm.weight', 'decoder.block.13.layer.0.SelfAttention.k.weight', 'decoder.block.21.layer.1.EncDecAttention.v.weight', 'decoder.block.15.layer.1.EncDecAttention.v.weight', 'decoder.block.19.layer.0.SelfAttention.o.weight', 'decoder.block.11.layer.1.EncDecAttention.q.weight', 'decoder.block.22.layer.1.EncDecAttention.k.weight', 'decoder.block.1.layer.1.EncDecAttention.o.weight', 'decoder.block.7.layer.1.EncDecAttention.k.weight', 'decoder.block.19.layer.0.layer_norm.weight', 'decoder.block.13.layer.0.layer_norm.weight', 'decoder.block.20.layer.1.EncDecAttention.k.weight', 'decoder.block.15.layer.1.EncDecAttention.q.weight', 'decoder.block.17.layer.2.DenseReluDense.wi.weight', 'decoder.block.16.layer.0.SelfAttention.k.weight', 'decoder.block.20.layer.2.DenseReluDense.wi.weight', 'decoder.block.11.layer.2.DenseReluDense.wi.weight', 'decoder.block.10.layer.0.layer_norm.weight', 'decoder.block.14.layer.0.SelfAttention.q.weight', 'decoder.block.6.layer.1.EncDecAttention.q.weight', 'decoder.block.4.layer.2.DenseReluDense.wo.weight', 'decoder.block.9.layer.0.SelfAttention.v.weight', 'decoder.block.9.layer.2.DenseReluDense.wi.weight', 'decoder.block.15.layer.2.DenseReluDense.wo.weight', 'decoder.block.20.layer.1.EncDecAttention.o.weight', 'decoder.block.16.layer.0.layer_norm.weight', 'decoder.block.14.layer.0.SelfAttention.v.weight', 'decoder.block.4.layer.2.DenseReluDense.wi.weight', 'decoder.block.2.layer.0.SelfAttention.q.weight', 'decoder.block.21.layer.1.EncDecAttention.k.weight', 'decoder.block.8.layer.1.layer_norm.weight', 'decoder.block.3.layer.0.SelfAttention.o.weight', 'decoder.block.8.layer.2.DenseReluDense.wi.weight', 'decoder.block.21.layer.1.layer_norm.weight', 'decoder.block.20.layer.1.EncDecAttention.v.weight', 'decoder.block.18.layer.2.DenseReluDense.wo.weight', 'decoder.block.13.layer.1.EncDecAttention.q.weight', 'decoder.block.2.layer.1.EncDecAttention.k.weight', 'decoder.block.10.layer.0.SelfAttention.o.weight', 'decoder.block.6.layer.1.layer_norm.weight', 'decoder.block.22.layer.0.SelfAttention.k.weight', 'decoder.block.20.layer.2.layer_norm.weight', 'decoder.block.15.layer.2.layer_norm.weight', 'decoder.block.16.layer.2.DenseReluDense.wi.weight', 'decoder.block.22.layer.1.EncDecAttention.o.weight', 'decoder.block.15.layer.2.DenseReluDense.wi.weight', 'decoder.block.8.layer.2.layer_norm.weight', 'decoder.block.10.layer.2.layer_norm.weight', 'decoder.block.17.layer.1.layer_norm.weight', 'decoder.block.16.layer.1.EncDecAttention.o.weight', 'decoder.block.5.layer.1.EncDecAttention.v.weight', 'decoder.block.13.layer.2.DenseReluDense.wo.weight', 'decoder.block.11.layer.1.EncDecAttention.o.weight', 'decoder.block.21.layer.0.SelfAttention.q.weight', 'decoder.block.0.layer.1.EncDecAttention.k.weight', 'decoder.block.13.layer.1.EncDecAttention.o.weight', 'decoder.block.10.layer.1.layer_norm.weight', 'decoder.block.23.layer.0.SelfAttention.v.weight', 'decoder.block.3.layer.2.DenseReluDense.wi.weight', 'decoder.block.2.layer.1.layer_norm.weight', 'decoder.block.23.layer.1.EncDecAttention.q.weight', 'decoder.block.19.layer.0.SelfAttention.v.weight', 'decoder.block.0.layer.0.SelfAttention.v.weight', 'decoder.block.23.layer.0.SelfAttention.q.weight', 'decoder.block.14.layer.0.SelfAttention.o.weight', 'decoder.block.0.layer.0.SelfAttention.q.weight', 'decoder.block.1.layer.0.SelfAttention.o.weight', 'decoder.block.10.layer.0.SelfAttention.q.weight', 'decoder.block.2.layer.1.EncDecAttention.q.weight', 'decoder.block.1.layer.1.EncDecAttention.q.weight', 'decoder.block.21.layer.2.layer_norm.weight', 'decoder.block.13.layer.1.EncDecAttention.v.weight', 'decoder.block.15.layer.1.layer_norm.weight', 'decoder.block.21.layer.1.EncDecAttention.o.weight', 'decoder.block.4.layer.1.EncDecAttention.k.weight', 'decoder.block.14.layer.2.layer_norm.weight', 'decoder.block.17.layer.0.layer_norm.weight', 'decoder.block.15.layer.1.EncDecAttention.o.weight', 'decoder.block.9.layer.0.layer_norm.weight', 'decoder.block.17.layer.0.SelfAttention.o.weight', 'decoder.block.19.layer.1.EncDecAttention.k.weight', 'decoder.block.4.layer.2.layer_norm.weight', 'decoder.block.22.layer.0.SelfAttention.o.weight', 'decoder.block.9.layer.1.EncDecAttention.q.weight', 'decoder.block.9.layer.2.layer_norm.weight', 'decoder.block.14.layer.1.EncDecAttention.q.weight', 'decoder.block.13.layer.1.layer_norm.weight', 'decoder.block.12.layer.0.SelfAttention.v.weight', 'decoder.block.7.layer.0.SelfAttention.v.weight', 'decoder.block.4.layer.1.EncDecAttention.o.weight', 'decoder.block.5.layer.0.layer_norm.weight', 'decoder.block.1.layer.2.DenseReluDense.wo.weight']\n",
      "You should probably TRAIN this model on a down-stream task to be able to use it for predictions and inference.\n"
     ]
    },
    {
     "data": {
      "text/plain": [
       "T5Model(\n",
       "  (shared): Embedding(32128, 1024)\n",
       "  (encoder): T5Stack(\n",
       "    (embed_tokens): Embedding(32128, 1024)\n",
       "    (block): ModuleList(\n",
       "      (0): T5Block(\n",
       "        (layer): ModuleList(\n",
       "          (0): T5LayerSelfAttention(\n",
       "            (SelfAttention): T5Attention(\n",
       "              (q): Linear(in_features=1024, out_features=1024, bias=False)\n",
       "              (k): Linear(in_features=1024, out_features=1024, bias=False)\n",
       "              (v): Linear(in_features=1024, out_features=1024, bias=False)\n",
       "              (o): Linear(in_features=1024, out_features=1024, bias=False)\n",
       "              (relative_attention_bias): Embedding(32, 16)\n",
       "            )\n",
       "            (layer_norm): T5LayerNorm()\n",
       "            (dropout): Dropout(p=0.1, inplace=False)\n",
       "          )\n",
       "          (1): T5LayerFF(\n",
       "            (DenseReluDense): T5DenseActDense(\n",
       "              (wi): Linear(in_features=1024, out_features=4096, bias=False)\n",
       "              (wo): Linear(in_features=4096, out_features=1024, bias=False)\n",
       "              (dropout): Dropout(p=0.1, inplace=False)\n",
       "              (act): ReLU()\n",
       "            )\n",
       "            (layer_norm): T5LayerNorm()\n",
       "            (dropout): Dropout(p=0.1, inplace=False)\n",
       "          )\n",
       "        )\n",
       "      )\n",
       "      (1-23): 23 x T5Block(\n",
       "        (layer): ModuleList(\n",
       "          (0): T5LayerSelfAttention(\n",
       "            (SelfAttention): T5Attention(\n",
       "              (q): Linear(in_features=1024, out_features=1024, bias=False)\n",
       "              (k): Linear(in_features=1024, out_features=1024, bias=False)\n",
       "              (v): Linear(in_features=1024, out_features=1024, bias=False)\n",
       "              (o): Linear(in_features=1024, out_features=1024, bias=False)\n",
       "            )\n",
       "            (layer_norm): T5LayerNorm()\n",
       "            (dropout): Dropout(p=0.1, inplace=False)\n",
       "          )\n",
       "          (1): T5LayerFF(\n",
       "            (DenseReluDense): T5DenseActDense(\n",
       "              (wi): Linear(in_features=1024, out_features=4096, bias=False)\n",
       "              (wo): Linear(in_features=4096, out_features=1024, bias=False)\n",
       "              (dropout): Dropout(p=0.1, inplace=False)\n",
       "              (act): ReLU()\n",
       "            )\n",
       "            (layer_norm): T5LayerNorm()\n",
       "            (dropout): Dropout(p=0.1, inplace=False)\n",
       "          )\n",
       "        )\n",
       "      )\n",
       "    )\n",
       "    (final_layer_norm): T5LayerNorm()\n",
       "    (dropout): Dropout(p=0.1, inplace=False)\n",
       "  )\n",
       "  (decoder): T5Stack(\n",
       "    (embed_tokens): Embedding(32128, 1024)\n",
       "    (block): ModuleList(\n",
       "      (0): T5Block(\n",
       "        (layer): ModuleList(\n",
       "          (0): T5LayerSelfAttention(\n",
       "            (SelfAttention): T5Attention(\n",
       "              (q): Linear(in_features=1024, out_features=1024, bias=False)\n",
       "              (k): Linear(in_features=1024, out_features=1024, bias=False)\n",
       "              (v): Linear(in_features=1024, out_features=1024, bias=False)\n",
       "              (o): Linear(in_features=1024, out_features=1024, bias=False)\n",
       "              (relative_attention_bias): Embedding(32, 16)\n",
       "            )\n",
       "            (layer_norm): T5LayerNorm()\n",
       "            (dropout): Dropout(p=0.1, inplace=False)\n",
       "          )\n",
       "          (1): T5LayerCrossAttention(\n",
       "            (EncDecAttention): T5Attention(\n",
       "              (q): Linear(in_features=1024, out_features=1024, bias=False)\n",
       "              (k): Linear(in_features=1024, out_features=1024, bias=False)\n",
       "              (v): Linear(in_features=1024, out_features=1024, bias=False)\n",
       "              (o): Linear(in_features=1024, out_features=1024, bias=False)\n",
       "            )\n",
       "            (layer_norm): T5LayerNorm()\n",
       "            (dropout): Dropout(p=0.1, inplace=False)\n",
       "          )\n",
       "          (2): T5LayerFF(\n",
       "            (DenseReluDense): T5DenseActDense(\n",
       "              (wi): Linear(in_features=1024, out_features=4096, bias=False)\n",
       "              (wo): Linear(in_features=4096, out_features=1024, bias=False)\n",
       "              (dropout): Dropout(p=0.1, inplace=False)\n",
       "              (act): ReLU()\n",
       "            )\n",
       "            (layer_norm): T5LayerNorm()\n",
       "            (dropout): Dropout(p=0.1, inplace=False)\n",
       "          )\n",
       "        )\n",
       "      )\n",
       "      (1-23): 23 x T5Block(\n",
       "        (layer): ModuleList(\n",
       "          (0): T5LayerSelfAttention(\n",
       "            (SelfAttention): T5Attention(\n",
       "              (q): Linear(in_features=1024, out_features=1024, bias=False)\n",
       "              (k): Linear(in_features=1024, out_features=1024, bias=False)\n",
       "              (v): Linear(in_features=1024, out_features=1024, bias=False)\n",
       "              (o): Linear(in_features=1024, out_features=1024, bias=False)\n",
       "            )\n",
       "            (layer_norm): T5LayerNorm()\n",
       "            (dropout): Dropout(p=0.1, inplace=False)\n",
       "          )\n",
       "          (1): T5LayerCrossAttention(\n",
       "            (EncDecAttention): T5Attention(\n",
       "              (q): Linear(in_features=1024, out_features=1024, bias=False)\n",
       "              (k): Linear(in_features=1024, out_features=1024, bias=False)\n",
       "              (v): Linear(in_features=1024, out_features=1024, bias=False)\n",
       "              (o): Linear(in_features=1024, out_features=1024, bias=False)\n",
       "            )\n",
       "            (layer_norm): T5LayerNorm()\n",
       "            (dropout): Dropout(p=0.1, inplace=False)\n",
       "          )\n",
       "          (2): T5LayerFF(\n",
       "            (DenseReluDense): T5DenseActDense(\n",
       "              (wi): Linear(in_features=1024, out_features=4096, bias=False)\n",
       "              (wo): Linear(in_features=4096, out_features=1024, bias=False)\n",
       "              (dropout): Dropout(p=0.1, inplace=False)\n",
       "              (act): ReLU()\n",
       "            )\n",
       "            (layer_norm): T5LayerNorm()\n",
       "            (dropout): Dropout(p=0.1, inplace=False)\n",
       "          )\n",
       "        )\n",
       "      )\n",
       "    )\n",
       "    (final_layer_norm): T5LayerNorm()\n",
       "    (dropout): Dropout(p=0.1, inplace=False)\n",
       "  )\n",
       ")"
      ]
     },
     "execution_count": 50,
     "metadata": {},
     "output_type": "execute_result"
    }
   ],
   "source": [
    "model = AutoModel.from_pretrained(f'sentence-transformers/{SENTENCE_TRF_MODEL}')\n",
    "model"
   ]
  },
  {
   "cell_type": "raw",
   "id": "90099b4a-2d5d-4959-ad6e-71d6be80a551",
   "metadata": {
    "ExecuteTime": {
     "start_time": "2023-12-26T03:41:09.010858253Z"
    },
    "collapsed": false,
    "jupyter": {
     "outputs_hidden": false
    }
   },
   "source": [
    "# https://huggingface.co/sentence-transformers/all-MiniLM-L6-v2\n",
    "def mean_pooling(model_output, attention_mask):\n",
    "    token_embeddings = model_output[0] #First element of model_output contains all token embeddings\n",
    "    input_mask_expanded = attention_mask.unsqueeze(-1).expand(token_embeddings.size()).float()\n",
    "    return torch.sum(token_embeddings * input_mask_expanded, 1) / torch.clamp(input_mask_expanded.sum(1), min=1e-9)\n",
    "\n",
    "vectorizer = AutoModel.from_pretrained(f'sentence-transformers/{SENTENCE_TRF_MODEL}')\n",
    "with torch.no_grad():\n",
    "    model_output = vectorizer(**tokens)\n",
    "\n",
    "# Perform pooling\n",
    "sentence_embeddings = mean_pooling(model_output, encoded_input['attention_mask'])\n",
    "\n",
    "# Normalize embeddings\n",
    "vector = F.normalize(sentence_embeddings, p=2, dim=1)\n",
    "vector.dtype"
   ]
  },
  {
   "cell_type": "markdown",
   "id": "4bfe6b05c9687327",
   "metadata": {
    "collapsed": false,
    "jupyter": {
     "outputs_hidden": false
    }
   },
   "source": [
    "## FAISS Index\n",
    "\n",
    "```Index``` object stores all the vectors and allow vector search k-nearest-neighbors. There are multiple index types as in [Faiss indexes](https://github.com/facebookresearch/faiss/wiki/Faiss-indexes). Faiss index itself is the vector database that manages the vectors and provide add(vector) and search(vector) interfaces. Named as Index is because it provides indexing feature for fast similarity search. FAISS Index does not offer other metadata or interfaces such as primary key to uniquely identify and retrieve the vectors, but focus only to provide similarity search. Hence LangChain provides additional metadata management using its [InMemoryDocstore](https://api.js.langchain.com/classes/stores_doc_in_memory.InMemoryDocstore.html).\n",
    "\n",
    "### Caution\n",
    "\n",
    "FAISS ```IndexFlatL2``` may calculate incorrect distances. \n",
    "\n",
    "* [Why you should be careful using FAISS](https://medium.com/mlearning-ai/why-you-should-be-careful-using-faiss-c44996eda9ee)\n",
    "\n",
    "> go deeper into the principles of the basic FAISS’s index — IndexFlatL2. This index is very useful when you need to make an exact search using Euclidean distance. This type of index doesn’t compress or cluster your vectors. Nevertheless, it has some features which might worsen your experience. You have to remember that **FAISS uses the formula which can cause catastrophic cancellation** when floats of different magnitudes are added. We can also avoid it by using double-precision floating-point format (float64). However, we should remember that **FAISS works only with float32** format.\n",
    "\n",
    "* [negative distance returned in IndexFlatL2 search query #297](https://github.com/facebookresearch/faiss/issues/297)\n",
    "\n",
    "> The problem is that if you have a query vector x and two database vectors y_1 and y_2, where ```||x|| >> ||y_1||``` and ```||x|| >> ||y_2||``` then there will be accuracy losses because computations are performed with 32-bit float precision.\n",
    "\n",
    "### Build IndexFlatL2 Index\n",
    "* [Building an index and adding the vectors to it](https://github.com/facebookresearch/faiss/wiki/Getting-started#building-an-index-and-adding-the-vectors-to-it)\n",
    "\n",
    "> Faiss is built around the ```Index``` object. It encapsulates the set of database vectors, and optionally preprocesses them to make searching efficient. There are many types of indexes, we are going to use the simplest version that just performs brute-force L2 distance search on them: ```IndexFlatL2```.\n",
    "> ```Index``` needs to know the dimensionality of the vectors it operates.\n",
    "> ```\n",
    "> import faiss                   # make faiss available\n",
    "> index = faiss.IndexFlatL2(d)   # build the index\n",
    "> ```\n",
    "\n",
    "### Build IndexFlatIP index\n",
    "\n",
    "* [How can we build index/search based on cosine similarity](https://github.com/facebookresearch/faiss/issues/95)\n",
    "\n",
    "> ```\n",
    "> index = faiss.IndexFlatIP(dimensions)\n",
    "> ```\n",
    "\n",
    "### Search \n",
    "\n",
    "```\n",
    "top_k: int = 5    # 5 nearest neighbors\n",
    "distances, indices = index.search(query_vector, top_k)  # distances is L2 distances\n",
    "```\n"
   ]
  },
  {
   "cell_type": "markdown",
   "id": "02ec2c49-43cd-4bc8-a904-b2a023febe9e",
   "metadata": {},
   "source": [
    "## Build Vector Database"
   ]
  },
  {
   "cell_type": "markdown",
   "id": "8980952f925a6c7a",
   "metadata": {
    "collapsed": false,
    "jupyter": {
     "outputs_hidden": false
    }
   },
   "source": [
    "### Create a Vectorizer \n",
    "\n",
    "Need to define the vectorizer to embed a text into a vector."
   ]
  },
  {
   "cell_type": "code",
   "execution_count": 51,
   "id": "400bd9e4-e46c-4745-88e1-d3b898d384e0",
   "metadata": {
    "ExecuteTime": {
     "start_time": "2023-12-26T03:41:09.011047434Z"
    }
   },
   "outputs": [],
   "source": [
    "vectorizer = embedding_function = SentenceTransformerEmbeddings(model_name=\"all-MiniLM-L6-v2\")"
   ]
  },
  {
   "cell_type": "code",
   "execution_count": 52,
   "id": "310ed706-22c9-42d6-895d-e3cccb9dc7c6",
   "metadata": {
    "ExecuteTime": {
     "start_time": "2023-12-26T03:41:09.011111662Z"
    }
   },
   "outputs": [
    {
     "data": {
      "text/plain": [
       "SentenceTransformer(\n",
       "  (0): Transformer({'max_seq_length': 256, 'do_lower_case': False}) with Transformer model: BertModel \n",
       "  (1): Pooling({'word_embedding_dimension': 384, 'pooling_mode_cls_token': False, 'pooling_mode_mean_tokens': True, 'pooling_mode_max_tokens': False, 'pooling_mode_mean_sqrt_len_tokens': False})\n",
       "  (2): Normalize()\n",
       ")"
      ]
     },
     "execution_count": 52,
     "metadata": {},
     "output_type": "execute_result"
    }
   ],
   "source": [
    "vectorizer.client"
   ]
  },
  {
   "cell_type": "code",
   "execution_count": 53,
   "id": "8e4c2e18-c3c8-4521-841a-64b9c3007611",
   "metadata": {
    "ExecuteTime": {
     "start_time": "2023-12-26T03:41:09.011165563Z"
    }
   },
   "outputs": [
    {
     "data": {
      "text/plain": [
       "1.4246604853027693"
      ]
     },
     "execution_count": 53,
     "metadata": {},
     "output_type": "execute_result"
    }
   ],
   "source": [
    "x = np.array(vectorizer.embed_query(\"This is a pen.\"))\n",
    "y = np.array(vectorizer.embed_query(\"That is a pencil.\"))\n",
    "z = np.array(vectorizer.embed_query(\"I love sushi.\"))\n",
    "euclidean(x, z)"
   ]
  },
  {
   "cell_type": "code",
   "execution_count": null,
   "id": "d5f1b25b-8f42-40f0-9a37-35ca8a6a12f7",
   "metadata": {
    "ExecuteTime": {
     "start_time": "2023-12-26T03:41:09.011219765Z"
    }
   },
   "outputs": [],
   "source": []
  },
  {
   "cell_type": "markdown",
   "id": "cdb28dcd6489584e",
   "metadata": {
    "collapsed": false,
    "jupyter": {
     "outputs_hidden": false
    }
   },
   "source": [
    "### Create an FAISS Index"
   ]
  },
  {
   "cell_type": "code",
   "execution_count": 54,
   "id": "19794fe72fda99f0",
   "metadata": {
    "ExecuteTime": {
     "start_time": "2023-12-26T03:41:09.011271075Z"
    },
    "collapsed": false,
    "jupyter": {
     "outputs_hidden": false
    }
   },
   "outputs": [
    {
     "data": {
      "text/plain": [
       "384"
      ]
     },
     "execution_count": 54,
     "metadata": {},
     "output_type": "execute_result"
    }
   ],
   "source": [
    "dimensions: int = len(embedding_function.embed_query(\"dummy\"))\n",
    "dimensions"
   ]
  },
  {
   "cell_type": "code",
   "execution_count": 55,
   "id": "2b06642d142786e0",
   "metadata": {
    "ExecuteTime": {
     "start_time": "2023-12-26T03:41:09.011330689Z"
    },
    "collapsed": false,
    "jupyter": {
     "outputs_hidden": false
    }
   },
   "outputs": [],
   "source": [
    "faiss_index: IndexFlatL2 = IndexFlatL2(dimensions)\n",
    "# faiss_index: IndexFlatIP = IndexFlatIP(dimensions)"
   ]
  },
  {
   "cell_type": "markdown",
   "id": "9c5ae074da530cc7",
   "metadata": {
    "collapsed": false,
    "jupyter": {
     "outputs_hidden": false
    }
   },
   "source": [
    "### Build an empty database"
   ]
  },
  {
   "cell_type": "code",
   "execution_count": 56,
   "id": "f8eb8ecbc548b6d9",
   "metadata": {
    "ExecuteTime": {
     "start_time": "2023-12-26T03:41:09.011416785Z"
    },
    "collapsed": false,
    "jupyter": {
     "outputs_hidden": false
    }
   },
   "outputs": [],
   "source": [
    "index_to_docstore_id = {}\n",
    "db = FAISS(\n",
    "    embedding_function=embedding_function,\n",
    "    index=faiss_index,\n",
    "    docstore=InMemoryDocstore(),\n",
    "    index_to_docstore_id=index_to_docstore_id,\n",
    "    normalize_L2=False\n",
    ")"
   ]
  },
  {
   "cell_type": "code",
   "execution_count": 57,
   "id": "9b5c88d7a50b1ac1",
   "metadata": {
    "ExecuteTime": {
     "start_time": "2023-12-26T03:41:09.011478677Z"
    },
    "collapsed": false,
    "jupyter": {
     "outputs_hidden": false
    }
   },
   "outputs": [
    {
     "data": {
      "text/plain": [
       "['__class__',\n",
       " '__delattr__',\n",
       " '__dict__',\n",
       " '__dir__',\n",
       " '__doc__',\n",
       " '__eq__',\n",
       " '__format__',\n",
       " '__ge__',\n",
       " '__getattribute__',\n",
       " '__getstate__',\n",
       " '__gt__',\n",
       " '__hash__',\n",
       " '__init__',\n",
       " '__init_subclass__',\n",
       " '__le__',\n",
       " '__lt__',\n",
       " '__module__',\n",
       " '__ne__',\n",
       " '__new__',\n",
       " '__reduce__',\n",
       " '__reduce_ex__',\n",
       " '__repr__',\n",
       " '__setattr__',\n",
       " '__setstate__',\n",
       " '__sizeof__',\n",
       " '__str__',\n",
       " '__subclasshook__',\n",
       " '__swig_destroy__',\n",
       " '__weakref__',\n",
       " 'add',\n",
       " 'add_c',\n",
       " 'add_with_ids',\n",
       " 'add_with_ids_c',\n",
       " 'assign',\n",
       " 'assign_c',\n",
       " 'code_size',\n",
       " 'codes',\n",
       " 'compute_distance_subset',\n",
       " 'compute_residual',\n",
       " 'compute_residual_n',\n",
       " 'd',\n",
       " 'get_distance_computer',\n",
       " 'get_xb',\n",
       " 'is_trained',\n",
       " 'metric_arg',\n",
       " 'metric_type',\n",
       " 'ntotal',\n",
       " 'range_search',\n",
       " 'range_search_c',\n",
       " 'reconstruct',\n",
       " 'reconstruct_c',\n",
       " 'reconstruct_n',\n",
       " 'reconstruct_n_c',\n",
       " 'remove_ids',\n",
       " 'remove_ids_c',\n",
       " 'reset',\n",
       " 'sa_code_size',\n",
       " 'sa_decode',\n",
       " 'sa_decode_c',\n",
       " 'sa_encode',\n",
       " 'sa_encode_c',\n",
       " 'search',\n",
       " 'search_and_reconstruct',\n",
       " 'search_and_reconstruct_c',\n",
       " 'search_c',\n",
       " 'this',\n",
       " 'thisown',\n",
       " 'train',\n",
       " 'train_c',\n",
       " 'verbose']"
      ]
     },
     "execution_count": 57,
     "metadata": {},
     "output_type": "execute_result"
    }
   ],
   "source": [
    "dir(faiss_index)"
   ]
  },
  {
   "cell_type": "markdown",
   "id": "ab0db29f85346238",
   "metadata": {
    "collapsed": false,
    "jupyter": {
     "outputs_hidden": false
    }
   },
   "source": [
    "### Add documents to the database"
   ]
  },
  {
   "cell_type": "code",
   "execution_count": 58,
   "id": "fc5e5b204bfdafa6",
   "metadata": {
    "ExecuteTime": {
     "start_time": "2023-12-26T03:41:09.011540111Z"
    },
    "collapsed": false,
    "jupyter": {
     "outputs_hidden": false
    }
   },
   "outputs": [],
   "source": [
    "ids = [\n",
    "    str(i).zfill(10) for i in range(len(sentences))\n",
    "]\n",
    "_ = db.add_documents(\n",
    "    documents=sentences,\n",
    "    ids=ids\n",
    ")"
   ]
  },
  {
   "cell_type": "code",
   "execution_count": 59,
   "id": "17d7c8fbd6a246a3",
   "metadata": {
    "ExecuteTime": {
     "start_time": "2023-12-26T03:41:09.011595687Z"
    },
    "collapsed": false,
    "jupyter": {
     "outputs_hidden": false
    }
   },
   "outputs": [
    {
     "data": {
      "text/plain": [
       "{0: '0000000000',\n",
       " 1: '0000000001',\n",
       " 2: '0000000002',\n",
       " 3: '0000000003',\n",
       " 4: '0000000004',\n",
       " 5: '0000000005',\n",
       " 6: '0000000006',\n",
       " 7: '0000000007',\n",
       " 8: '0000000008',\n",
       " 9: '0000000009',\n",
       " 10: '0000000010',\n",
       " 11: '0000000011',\n",
       " 12: '0000000012',\n",
       " 13: '0000000013',\n",
       " 14: '0000000014',\n",
       " 15: '0000000015',\n",
       " 16: '0000000016',\n",
       " 17: '0000000017'}"
      ]
     },
     "execution_count": 59,
     "metadata": {},
     "output_type": "execute_result"
    }
   ],
   "source": [
    "index_to_docstore_id"
   ]
  },
  {
   "cell_type": "markdown",
   "id": "b0a713f8075a571b",
   "metadata": {
    "collapsed": false,
    "jupyter": {
     "outputs_hidden": false
    }
   },
   "source": [
    "### Build from documents"
   ]
  },
  {
   "cell_type": "raw",
   "id": "81291f8f759e9d9f",
   "metadata": {
    "collapsed": false,
    "jupyter": {
     "outputs_hidden": false
    }
   },
   "source": [
    "db = FAISS.from_documents(\n",
    "    documents=sentences, \n",
    "    embedding=embedding_function,\n",
    "    normalize_L2=False\n",
    ")\n",
    "index_to_docstore_id = db.index_to_docstore_id"
   ]
  },
  {
   "cell_type": "raw",
   "id": "bc57dd0d7d93ceaf",
   "metadata": {
    "collapsed": false,
    "jupyter": {
     "outputs_hidden": false
    }
   },
   "source": [
    "type(db)\n",
    "#db.__class__.__bases__"
   ]
  },
  {
   "cell_type": "markdown",
   "id": "bc29243c-94f2-4b06-91fd-a13b5441d080",
   "metadata": {},
   "source": [
    "## Search Similar Documents\n",
    "\n",
    "FAISS Index provides the search functions with a few search types (similarity, mmr).\n",
    "\n",
    "\n",
    "### Methods\n",
    "\n",
    "* [search(query: str, search_type: str, **kwargs: Any)](https://api.python.langchain.com/en/stable/vectorstores/langchain_community.vectorstores.faiss.FAISS.html#langchain_community.vectorstores.faiss.FAISS.search)\n",
    "\n",
    "\n",
    "\n",
    "### Search Types\n",
    "\n",
    "* [Vector store-backed retriever](https://python.langchain.com/docs/modules/data_connection/retrievers/vectorstore)\n",
    "\n",
    "> * search_type=\"similarity\": \n",
    "> * search_type=\"mmr\": By default, the vector store retriever uses similarity search. If the underlying vector store supports maximum marginal relevance search, you can specify that as the search type.\n",
    "\n",
    "\n",
    "\n",
    "* [similarity_search_with_score(query: str, k: int = 4, filter)](https://api.python.langchain.com/en/stable/vectorstores/langchain_community.vectorstores.faiss.FAISS.html#langchain_community.vectorstores.faiss.FAISS.similarity_search_with_score)\n",
    "* [Similarity Search with score](https://python.langchain.com/docs/integrations/vectorstores/faiss#similarity-search-with-score)\n",
    "\n",
    "> ```similarity_search_with_score``` returns ```(doc, score)``` where score is **L2 distance**. Therefore, **a lower score is better**."
   ]
  },
  {
   "cell_type": "markdown",
   "id": "49b476fdbfb50e0c",
   "metadata": {
    "collapsed": false,
    "jupyter": {
     "outputs_hidden": false
    }
   },
   "source": [
    "### L2 Distances\n",
    "\n",
    "Why ```IndexMFlatL2``` gives different value from scipy and numpy L2 distance value?"
   ]
  },
  {
   "cell_type": "code",
   "execution_count": 60,
   "id": "44bcb9f8acd3ada5",
   "metadata": {
    "ExecuteTime": {
     "start_time": "2023-12-26T03:41:09.011690979Z"
    },
    "collapsed": false,
    "jupyter": {
     "outputs_hidden": false
    }
   },
   "outputs": [],
   "source": [
    "query: str = \"the president shall give to congress information about the state of our union\""
   ]
  },
  {
   "cell_type": "code",
   "execution_count": 61,
   "id": "2238a1f3ff430570",
   "metadata": {
    "ExecuteTime": {
     "start_time": "2023-12-26T03:41:09.011749679Z"
    },
    "collapsed": false,
    "jupyter": {
     "outputs_hidden": false
    }
   },
   "outputs": [
    {
     "data": {
      "text/plain": [
       "1.0427087315533865"
      ]
     },
     "execution_count": 61,
     "metadata": {},
     "output_type": "execute_result"
    }
   ],
   "source": [
    "query_vector = embedding_function.embed_query(query)\n",
    "doc_vector = embedding_function.embed_query(sentences[0].page_content)\n",
    "# cosine(np.array(query_vector), np.array(doc_vector))\n",
    "euclidean(np.array(query_vector), np.array(doc_vector))"
   ]
  },
  {
   "cell_type": "code",
   "execution_count": 62,
   "id": "17db9868-37fb-415f-852c-c0f26bed5ec5",
   "metadata": {
    "ExecuteTime": {
     "start_time": "2023-12-26T03:41:09.011803105Z"
    }
   },
   "outputs": [
    {
     "data": {
      "text/plain": [
       "tensor([[1.0427]])"
      ]
     },
     "execution_count": 62,
     "metadata": {},
     "output_type": "execute_result"
    }
   ],
   "source": [
    "import torch\n",
    "x1=torch.tensor([query_vector])\n",
    "x2=torch.tensor([doc_vector])\n",
    "torch.cdist(x1, x2, p=2.0, compute_mode='use_mm_for_euclid_dist_if_necessary')"
   ]
  },
  {
   "cell_type": "code",
   "execution_count": 63,
   "id": "b76c58ab0b8cc7a9",
   "metadata": {
    "ExecuteTime": {
     "start_time": "2023-12-26T03:41:09.011856156Z"
    },
    "collapsed": false,
    "jupyter": {
     "outputs_hidden": false
    }
   },
   "outputs": [
    {
     "data": {
      "text/plain": [
       "(array([[1.0872418, 1.2950897, 1.329037 ]], dtype=float32),\n",
       " array([[ 0,  4, 17]]))"
      ]
     },
     "execution_count": 63,
     "metadata": {},
     "output_type": "execute_result"
    }
   ],
   "source": [
    "db.index.search(np.array([query_vector], dtype=np.float32), k=3)"
   ]
  },
  {
   "cell_type": "code",
   "execution_count": 64,
   "id": "5b7724d4a056f160",
   "metadata": {
    "ExecuteTime": {
     "start_time": "2023-12-26T03:41:09.011937151Z"
    },
    "collapsed": false,
    "jupyter": {
     "outputs_hidden": false
    }
   },
   "outputs": [
    {
     "data": {
      "text/plain": [
       "(array([[1.0872418, 1.2950897, 1.329037 ]], dtype=float32),\n",
       " array([[ 0,  4, 17]]))"
      ]
     },
     "execution_count": 64,
     "metadata": {},
     "output_type": "execute_result"
    }
   ],
   "source": [
    "faiss.cvar.distance_compute_blas_threshold = len(index_to_docstore_id) + 1\n",
    "db.index.search(np.array([query_vector], dtype=np.float32), k=3)"
   ]
  },
  {
   "cell_type": "code",
   "execution_count": 65,
   "id": "88d18df0-367a-4e5c-9f3a-c09811ada748",
   "metadata": {
    "ExecuteTime": {
     "start_time": "2023-12-26T03:41:09.053698963Z"
    }
   },
   "outputs": [
    {
     "data": {
      "text/plain": [
       "[Document(page_content=\"Speaker, Vice President Biden, members of Congress, distinguished guests, and fellow Americans: Our Constitution declares that from time to time, the president shall give to Congress information about the state of our union. For 220 years, our leaders have fulfilled this duty. They have done so during periods of prosperity and tranquility. And they have done so in the midst of war and depression; at moments of great strife and great struggle. It's tempting to look back on these moments and assume that our progress was inevitable, that America was always destined to succeed. But when the Union was turned back at Bull Run and the Allies first landed at Omaha Beach, victory was very much in doubt. When the market crashed on Black Tuesday and civil rights marchers were beaten on Bloody Sunday, the future was anything but certain. These were times that tested the courage of our convictions and the strength of our union. And despite all our divisions and disagreements, our hesitations and our fears, America prevailed because we chose to move forward as one nation and one people. Again, we are tested. And again, we must answer history's call. One year ago, I took office amid two wars, an economy rocked by severe recession, a financial system on the verge of collapse and a government deeply in debt. Experts from across the political spectrum warned that if we did not act, we might face a second depression. So we acted immediately and aggressively. And one year later, the worst of the storm has passed. But the devastation remains. One in 10 Americans still cannot find work. Many businesses have shuttered. Home values have declined. Small towns and rural communities have been hit especially hard. For those who had already known poverty, life has become that much harder. This recession has also compounded the burdens that America's families have been dealing with for decades -- the burden of working harder and longer for less, of being unable to save enough to retire or help kids with college. So I know the anxieties that are out there right now. They're not new. These struggles are the reason I ran for president. These struggles are what I've witnessed for years in places like Elkhart, Ind., and Galesburg, Ill. I hear about them in the letters that I read each night. The toughest to read are those written by children asking why\", metadata={'source': '../data/state_of_the_union.txt', 'index': 0}),\n",
       " Document(page_content=\"tax incentive for all businesses, large and small, to invest in new plants and equipment. Next, we can put Americans to work today building the infrastructure of tomorrow. From the first railroads to the interstate highway system, our nation has always been built to compete. There's no reason Europe or China should have the fastest trains or the new factories that manufacture clean energy products. Tomorrow, I'll visit Tampa, Fla., where workers will soon break ground on a new high-speed railroad funded by the Recovery Act. There are projects like that all across this country that will create jobs and help our nation move goods, services and information. We should put more Americans to work building clean energy facilities and give rebates to Americans who make their homes more energy efficient, which supports clean energy jobs. And to encourage these and other businesses to stay within our borders, it's time to finally slash the tax breaks for companies that ship our jobs overseas and give those tax breaks to companies that create jobs in the United States of America. The House has passed a jobs bill that includes some of these steps. As the first order of business this year, I urge the Senate to do the same. People are out of work. They are hurting. They need our help. And I want a jobs bill on my desk without delay. But the truth is, these steps still won't make up for the 7 million jobs we've lost over the last two years. The only way to move to full employment is to lay a new foundation for long-term economic growth and finally address the problems that America's families have confronted for years. We cannot afford another so-called economic expansion like the one from last decade -- what some call the lost decade -- where jobs grew more slowly than during any prior expansion, where the income of the average American household declined while the cost of health care and tuition reached record highs, where prosperity was built on a housing bubble and financial speculation. From the day I took office, I have been told that addressing our larger challenges is too ambitious -- that such efforts would be too contentious, that our political system is too gridlocked and that we should just put things on hold for a while. For those who make these claims, I have one simple question: How long should we wait? How long should America put its future on hold? You see, Washington has been telling us to wait for decades, even as the problems have grown worse.\", metadata={'source': '../data/state_of_the_union.txt', 'index': 4}),\n",
       " Document(page_content=\"But a new year has come. A new decade stretches before us. We don't quit. I don't quit. Let's seize this moment -- to start anew, to carry the dream forward, and to strengthen our union once more. Thank you. God Bless You. And God Bless the United States of America.\", metadata={'source': '../data/state_of_the_union.txt', 'index': 17}),\n",
       " Document(page_content=\"without them. To reduce our stockpiles and launchers, while ensuring our deterrent, the United States and Russia are completing negotiations on the farthest-reaching arms control treaty in nearly two decades. And at April's nuclear security summit, we will bring 44 nations together behind a clear goal: securing all vulnerable nuclear materials around the world in four years, so that they never fall into the hands of terrorists. These diplomatic efforts have also strengthened our hand in dealing with those nations that insist on violating international agreements in pursuit of these weapons. That is why North Korea now faces increased isolation and stronger sanctions -- sanctions that are being vigorously enforced. That is why the international community is more united, and the Islamic Republic of Iran is more isolated. And as Iran's leaders continue to ignore their obligations, there should be no doubt: They, too, will face growing consequences. That is the leadership that we are providing -- engagement that advances the common security and prosperity of all people. We are working through the G-20 to sustain a lasting global recovery. We are working with Muslim communities around the world to promote science, education and innovation. We have gone from a bystander to a leader in the fight against climate change. We are helping developing countries to feed themselves and continuing the fight against HIV/AIDS. And we are launching a new initiative that will give us the capacity to respond faster and more effectively to bioterrorism or an infectious disease -- a plan that will counter threats at home and strengthen public health abroad. As we have for over 60 years, America takes these actions because our destiny is connected to those beyond our shores. But we also do it because it is right. That is why, as we meet here tonight, over 10,000 Americans are working with many nations to help the people of Haiti recover and rebuild. That is why we stand with the girl who yearns to go to school in Afghanistan, we support the human rights of the women marching through the streets of Iran, and we advocate for the young man denied a job by corruption in Guinea. For America must always stand on the side of freedom and human dignity. Abroad, America's greatest source of strength has always been our ideals. The same is true at home. We find unity in our incredible diversity, drawing on the promise enshrined in our Constitution: the notion that we are all created equal, that no matter who you are\", metadata={'source': '../data/state_of_the_union.txt', 'index': 14})]"
      ]
     },
     "execution_count": 65,
     "metadata": {},
     "output_type": "execute_result"
    }
   ],
   "source": [
    "db.search(query=\"the state of our union\", search_type=\"mmr\")"
   ]
  },
  {
   "cell_type": "code",
   "execution_count": 66,
   "id": "9473391f-4451-4917-beb3-5bbf986803f0",
   "metadata": {
    "ExecuteTime": {
     "start_time": "2023-12-26T03:41:09.053830138Z"
    }
   },
   "outputs": [
    {
     "name": "stdout",
     "output_type": "stream",
     "text": [
      "score:1.087241768836975 : {\n",
      "    \"lc\": 1,\n",
      "    \"type\": \"constructor\",\n",
      "    \"id\": [\n",
      "        \"langchain\",\n",
      "        \"schema\",\n",
      "        \"document\",\n",
      "        \"Document\"\n",
      "    ],\n",
      "    \"kwargs\": {\n",
      "        \"page_content\": \"Speaker, Vice President Biden, members of Congress, distinguished guests, and fellow Americans: Our Constitution declares that from time to time, the president shall give to Congress information about the state of our union. For 220 years, our leaders have fulfilled this duty. They have done so during periods of prosperity and tranquility. And they have done so in the midst of war and depression; at moments of great strife and great struggle. It's tempting to look back on these moments and assume that our progress was inevitable, that America was always destined to succeed. But when the Union was turned back at Bull Run and the Allies first landed at Omaha Beach, victory was very much in doubt. When the market crashed on Black Tuesday and civil rights marchers were beaten on Bloody Sunday, the future was anything but certain. These were times that tested the courage of our convictions and the strength of our union. And despite all our divisions and disagreements, our hesitations and our fears, America prevailed because we chose to move forward as one nation and one people. Again, we are tested. And again, we must answer history's call. One year ago, I took office amid two wars, an economy rocked by severe recession, a financial system on the verge of collapse and a government deeply in debt. Experts from across the political spectrum warned that if we did not act, we might face a second depression. So we acted immediately and aggressively. And one year later, the worst of the storm has passed. But the devastation remains. One in 10 Americans still cannot find work. Many businesses have shuttered. Home values have declined. Small towns and rural communities have been hit especially hard. For those who had already known poverty, life has become that much harder. This recession has also compounded the burdens that America's families have been dealing with for decades -- the burden of working harder and longer for less, of being unable to save enough to retire or help kids with college. So I know the anxieties that are out there right now. They're not new. These struggles are the reason I ran for president. These struggles are what I've witnessed for years in places like Elkhart, Ind., and Galesburg, Ill. I hear about them in the letters that I read each night. The toughest to read are those written by children asking why\",\n",
      "        \"metadata\": {\n",
      "            \"source\": \"../data/state_of_the_union.txt\",\n",
      "            \"index\": 0\n",
      "        }\n",
      "    }\n",
      "}\n",
      "score:1.2950897216796875 : {\n",
      "    \"lc\": 1,\n",
      "    \"type\": \"constructor\",\n",
      "    \"id\": [\n",
      "        \"langchain\",\n",
      "        \"schema\",\n",
      "        \"document\",\n",
      "        \"Document\"\n",
      "    ],\n",
      "    \"kwargs\": {\n",
      "        \"page_content\": \"tax incentive for all businesses, large and small, to invest in new plants and equipment. Next, we can put Americans to work today building the infrastructure of tomorrow. From the first railroads to the interstate highway system, our nation has always been built to compete. There's no reason Europe or China should have the fastest trains or the new factories that manufacture clean energy products. Tomorrow, I'll visit Tampa, Fla., where workers will soon break ground on a new high-speed railroad funded by the Recovery Act. There are projects like that all across this country that will create jobs and help our nation move goods, services and information. We should put more Americans to work building clean energy facilities and give rebates to Americans who make their homes more energy efficient, which supports clean energy jobs. And to encourage these and other businesses to stay within our borders, it's time to finally slash the tax breaks for companies that ship our jobs overseas and give those tax breaks to companies that create jobs in the United States of America. The House has passed a jobs bill that includes some of these steps. As the first order of business this year, I urge the Senate to do the same. People are out of work. They are hurting. They need our help. And I want a jobs bill on my desk without delay. But the truth is, these steps still won't make up for the 7 million jobs we've lost over the last two years. The only way to move to full employment is to lay a new foundation for long-term economic growth and finally address the problems that America's families have confronted for years. We cannot afford another so-called economic expansion like the one from last decade -- what some call the lost decade -- where jobs grew more slowly than during any prior expansion, where the income of the average American household declined while the cost of health care and tuition reached record highs, where prosperity was built on a housing bubble and financial speculation. From the day I took office, I have been told that addressing our larger challenges is too ambitious -- that such efforts would be too contentious, that our political system is too gridlocked and that we should just put things on hold for a while. For those who make these claims, I have one simple question: How long should we wait? How long should America put its future on hold? You see, Washington has been telling us to wait for decades, even as the problems have grown worse.\",\n",
      "        \"metadata\": {\n",
      "            \"source\": \"../data/state_of_the_union.txt\",\n",
      "            \"index\": 4\n",
      "        }\n",
      "    }\n",
      "}\n",
      "score:1.3290369510650635 : {\n",
      "    \"lc\": 1,\n",
      "    \"type\": \"constructor\",\n",
      "    \"id\": [\n",
      "        \"langchain\",\n",
      "        \"schema\",\n",
      "        \"document\",\n",
      "        \"Document\"\n",
      "    ],\n",
      "    \"kwargs\": {\n",
      "        \"page_content\": \"But a new year has come. A new decade stretches before us. We don't quit. I don't quit. Let's seize this moment -- to start anew, to carry the dream forward, and to strengthen our union once more. Thank you. God Bless You. And God Bless the United States of America.\",\n",
      "        \"metadata\": {\n",
      "            \"source\": \"../data/state_of_the_union.txt\",\n",
      "            \"index\": 17\n",
      "        }\n",
      "    }\n",
      "}\n"
     ]
    }
   ],
   "source": [
    "for doc, score in db.similarity_search_with_score(query, 3):\n",
    "    print(f\"score:{score} : {json.dumps(doc.to_json(), indent=4, default=str)}\")"
   ]
  },
  {
   "cell_type": "markdown",
   "id": "5b808735-0ba6-4da6-9eeb-4b1bffedc03b",
   "metadata": {},
   "source": [
    "### Filter the search\n",
    "\n",
    "Filter the matched documents with the metadata attributes.\n",
    "\n",
    "```\n",
    "\"metadata\": {\n",
    "    \"source\": \"./data/state_of_the_union.txt\",\n",
    "    \"index\": 22              # <--- Directory specify the metadata attribute\n",
    "}\n",
    "```"
   ]
  },
  {
   "cell_type": "code",
   "execution_count": 67,
   "id": "95d69e53-7557-4e8b-9225-9bd43948115b",
   "metadata": {
    "ExecuteTime": {
     "start_time": "2023-12-26T03:41:09.053902742Z"
    }
   },
   "outputs": [
    {
     "data": {
      "text/plain": [
       "{'index': 22}"
      ]
     },
     "execution_count": 67,
     "metadata": {},
     "output_type": "execute_result"
    }
   ],
   "source": [
    "filter=dict(index=22)\n",
    "filter"
   ]
  },
  {
   "cell_type": "code",
   "execution_count": 68,
   "id": "a2e08351-d247-4356-8651-567a7d406083",
   "metadata": {
    "ExecuteTime": {
     "start_time": "2023-12-26T03:41:09.053963263Z"
    }
   },
   "outputs": [],
   "source": [
    "query: str = \"the president shall give to congress information about the state of our union\"\n",
    "for doc, score in db.similarity_search_with_score(query, k=1, fetch_k=5, filter=filter):\n",
    "    print(f\"score:{score} : {json.dumps(doc.to_json(), indent=4, default=str)}\")"
   ]
  },
  {
   "cell_type": "markdown",
   "id": "db606d1a-3455-4f4b-b365-683c92d80d90",
   "metadata": {},
   "source": [
    "## Add Document\n",
    "\n",
    "[add_documents](https://api.python.langchain.com/en/latest/vectorstores/langchain_community.vectorstores.faiss.FAISS.html?highlight=faiss#langchain_community.vectorstores.faiss.FAISS.add_documents) will invoke [add_texts](https://api.python.langchain.com/en/latest/vectorstores/langchain_community.vectorstores.faiss.FAISS.html?highlight=faiss#langchain_community.vectorstores.faiss.FAISS.add_texts) method where you can set your own IDs.\n",
    "\n",
    "* [langchain_community/vectorstores/faiss.py#add_texts](https://api.python.langchain.com/en/latest/_modules/langchain_community/vectorstores/faiss.html#FAISS.add_texts):\n",
    "\n",
    "```\n",
    "def add_texts(\n",
    "    self,\n",
    "    texts: Iterable[str],\n",
    "    metadatas: Optional[List[dict]] = None,\n",
    "    ids: Optional[List[str]] = None,           # <----\n",
    "    **kwargs: Any,\n",
    ") -> List[str]:\n",
    "```\n"
   ]
  },
  {
   "cell_type": "code",
   "execution_count": 69,
   "id": "f6e89670-394d-461f-a199-672f499840bd",
   "metadata": {
    "ExecuteTime": {
     "start_time": "2023-12-26T03:41:09.054025312Z"
    }
   },
   "outputs": [
    {
     "data": {
      "text/plain": [
       "['DOC04123333']"
      ]
     },
     "execution_count": 69,
     "metadata": {},
     "output_type": "execute_result"
    }
   ],
   "source": [
    "doc_to_add: Document = Document(\n",
    "    page_content=\"the president shall give to congress information about the state of our union\", \n",
    "    metadata=dict(index=99)\n",
    ")\n",
    "ids: List[str] = db.add_documents(\n",
    "    documents=[doc_to_add], \n",
    "    # You can provide your own unique ID, otherwise FAISS class generates UUID.\n",
    "    # langchain_community/vectorstores/faiss.py#__add method:\n",
    "    # ```\n",
    "    # ids = ids or [str(uuid.uuid4()) for _ in texts]\n",
    "    # ```\n",
    "    ids=[\"DOC04123333\"]            \n",
    ")\n",
    "ids"
   ]
  },
  {
   "cell_type": "markdown",
   "id": "d235099d82924704",
   "metadata": {
    "collapsed": false,
    "jupyter": {
     "outputs_hidden": false
    }
   },
   "source": [
    "## Select a document with \n",
    "\n",
    "Currently Lanchain does not provide a method to retrieve a document by its internal ID.\n",
    "\n",
    "* [How to retrieve vectors by ids for LangChain vectorstore FAISS? #8897](https://github.com/langchain-ai/langchain/issues/8897) \n",
    "\n",
    "> Currently, the FAISS vectorstore implementation in LangChain does not have a method to retrieve vectors by ids similar to the retrieve method in the Qdrant vectorstore. The current implementation supports deleting vectors by ids, but not retrieving them.\n",
    "> However, it is possible to implement a similar method in the FAISS vectorstore. Here is a rough idea of how it could be done:\n",
    "```\n",
    "def retrieve(self, ids: List[str], with_vectors: bool = False) -> List[Optional[np.ndarray]]:\n",
    "    \"\"\"Retrieve vectors by ID. These are the IDs in the vectorstore.\n",
    "\n",
    "    Args:\n",
    "        ids: List of ids to retrieve.\n",
    "        with_vectors: If True, return the vectors along with the ids.\n",
    "\n",
    "    Returns:\n",
    "        List of vectors corresponding to the ids, or None if an id does not exist.\n",
    "    \"\"\"\n",
    "    if with_vectors:\n",
    "        _reversed_index = {v: k for k, v in self.index_to_docstore_id.items()}\n",
    "        index_to_retrieve = [_reversed_index.get(i) for i in ids]\n",
    "        vectors = self.index.reconstruct_n(0, len(self.index_to_docstore_id))\n",
    "        return [vectors[i] for i in index_to_retrieve if i is not None]\n",
    "    else:\n",
    "        return [None for _ in ids]\n",
    "```\n",
    "\n",
    ">  the add method in faiss stores vectors in the given index using sequentially generated indices by default. The FAISS wrapper use a index_to_docstore_id dictionary, which essentially converts these indices into UUIDs for the respective documents stored in the underlying document store. Consequently, you can leverage the underlying document store and the index_to_docstore_id dictionary to retrieve a document based on its ID generated by faiss:\n",
    "```\n",
    "from langchain.vectorstores.faiss import FAISS\n",
    "from langchain.embeddings.fake import FakeEmbeddings\n",
    "from langchain.docstore import InMemoryDocstore\n",
    "from langchain.docstore.document import Document\n",
    "import faiss\n",
    "embedding_size = 1536\n",
    "index = faiss.IndexFlatL2(embedding_size)\n",
    "embedding_fn = FakeEmbeddings(size=embedding_size).embed_query\n",
    "docstore = InMemoryDocstore({})\n",
    "vectorstore = FAISS(embedding_fn, index, docstore, {})\n",
    "documents = [Document(page_content='Hello How are you doing')]\n",
    "vectorstore.add_documents(documents)\n",
    "index_to_docstore_id = vectorstore.index_to_docstore_id\n",
    "for i in range(len(documents)):\n",
    "    print(docstore._dict[index_to_docstore_id[i]])\n",
    "```"
   ]
  },
  {
   "cell_type": "code",
   "execution_count": 70,
   "id": "4a72ff5a2df360e6",
   "metadata": {
    "ExecuteTime": {
     "start_time": "2023-12-26T03:41:09.054085247Z"
    },
    "collapsed": false,
    "jupyter": {
     "outputs_hidden": false
    }
   },
   "outputs": [
    {
     "data": {
      "text/plain": [
       "([Document(page_content='the president shall give to congress information about the state of our union', metadata={'index': 99})],\n",
       " [array([-2.28103362e-02,  6.77464530e-02,  9.50659811e-03,  5.78828976e-02,\n",
       "         -3.08208242e-02,  6.06366321e-02,  3.15811373e-02, -5.21173514e-02,\n",
       "         -8.54805335e-02, -1.82847157e-02, -1.27744377e-01,  3.03568784e-03,\n",
       "         -1.91189686e-03, -2.76795924e-02, -6.97776005e-02,  2.95578577e-02,\n",
       "          7.60543793e-02,  3.85096408e-02, -1.77105214e-03, -1.50946816e-02,\n",
       "          1.09686725e-01,  6.01188689e-02, -7.03044906e-02,  5.85764041e-03,\n",
       "          2.17567589e-02,  1.40187228e-02, -4.88124974e-02, -6.09397814e-02,\n",
       "         -5.87077960e-02, -3.19501348e-02, -2.63713324e-03, -7.52108395e-02,\n",
       "          2.12408993e-02,  6.47165701e-02, -1.89610273e-02, -1.28192827e-01,\n",
       "          7.25442618e-02,  3.60509939e-02,  8.64282921e-02, -2.63611060e-02,\n",
       "          1.16491783e-02, -5.09439409e-02,  8.39687791e-03,  2.07770411e-02,\n",
       "         -2.92405374e-02,  1.01810060e-01,  4.98622190e-03,  2.33929735e-02,\n",
       "         -9.77457408e-03,  7.11746067e-02, -1.25237415e-03,  2.90405843e-02,\n",
       "          2.32936069e-02,  4.77551818e-02,  4.65087518e-02,  9.07311495e-03,\n",
       "         -3.12979631e-02, -8.15798417e-02, -3.57214175e-02,  4.84262556e-02,\n",
       "         -7.68053457e-02, -5.42145558e-02, -6.86930120e-03,  2.40476187e-02,\n",
       "          6.02572672e-02, -5.64990155e-02,  1.46723036e-02,  5.93692251e-02,\n",
       "         -5.09814583e-02, -6.81676418e-02,  1.03268202e-03,  6.57870919e-02,\n",
       "         -5.23371948e-03, -1.25645250e-02, -3.12536471e-02, -5.83354272e-02,\n",
       "         -9.82489903e-03,  7.45081678e-02,  4.41589840e-02, -4.56739143e-02,\n",
       "         -6.42807484e-02,  5.52391820e-02, -1.26608312e-02,  2.69766394e-02,\n",
       "         -1.13559505e-02, -1.26462299e-02,  1.54735439e-03, -1.62293147e-02,\n",
       "         -7.16367289e-02, -3.88442427e-02, -1.92414597e-02, -1.03192583e-01,\n",
       "         -3.06141395e-02, -7.75102992e-03, -2.89162099e-02,  3.41626704e-02,\n",
       "         -3.66802141e-02, -5.28075024e-02, -1.84528641e-02,  4.95398529e-02,\n",
       "          2.22938024e-02,  4.47012819e-02, -8.93646572e-03, -3.95359062e-02,\n",
       "         -9.46932584e-02,  3.18826586e-02, -6.86615938e-03,  6.17096461e-02,\n",
       "          4.98982668e-02,  5.01119234e-02,  3.65121067e-02, -4.37880307e-03,\n",
       "         -6.53065145e-02, -3.47525440e-02,  4.29427736e-02,  5.95682487e-03,\n",
       "          4.62681288e-03, -1.25403665e-02,  6.55586118e-05, -3.02016959e-02,\n",
       "         -4.87090647e-02, -2.72237081e-02, -4.93861660e-02,  6.37118891e-03,\n",
       "         -2.45898683e-02, -8.09179023e-02,  6.39333725e-02, -5.81293601e-33,\n",
       "         -1.14575066e-02, -3.51395411e-03,  2.81870943e-02,  8.45608562e-02,\n",
       "         -6.39025047e-02,  9.66778547e-02,  1.05439639e-03, -1.18585303e-01,\n",
       "          7.18852645e-03,  6.30753487e-03, -8.61292407e-02,  7.20221475e-02,\n",
       "          5.89780100e-02,  6.31422848e-02, -7.66556561e-02, -5.93017749e-02,\n",
       "         -2.64638904e-02,  2.33679507e-02, -2.62765978e-02, -1.44907488e-02,\n",
       "          9.33292583e-02,  6.89521134e-02,  1.56304520e-02,  4.27221768e-02,\n",
       "          9.01565328e-02, -9.09006502e-03, -6.97730333e-02,  8.34417623e-03,\n",
       "         -5.35082929e-02,  2.59091780e-02, -2.73264572e-03,  5.82194105e-02,\n",
       "          4.45487611e-02,  5.46911266e-03,  5.14276652e-03, -4.30647843e-03,\n",
       "         -2.27535516e-02,  9.94144659e-03, -2.23985668e-02, -7.71225318e-02,\n",
       "          1.31921068e-01,  6.83034863e-03,  8.78190994e-03,  1.06356889e-01,\n",
       "          4.90709068e-03,  9.31352470e-03,  2.35109180e-02,  3.69291939e-02,\n",
       "          1.68736260e-02, -1.86918210e-02,  2.05526110e-02,  2.80193500e-02,\n",
       "         -3.01627237e-02, -7.86360055e-02,  4.10330147e-02, -8.20810720e-03,\n",
       "         -2.47201938e-02, -1.65859926e-02,  3.78222726e-02, -1.07783359e-02,\n",
       "         -3.58095467e-02,  3.62122199e-04, -3.40650305e-02,  3.97515632e-02,\n",
       "         -1.17839932e-01,  5.77991866e-02, -7.14399442e-02,  1.41515601e-02,\n",
       "          2.99570877e-02, -9.08826850e-03, -2.52243169e-02,  5.78915281e-03,\n",
       "         -1.65653583e-02,  4.17843200e-02, -7.66090602e-02,  6.12691008e-02,\n",
       "          6.01161607e-02,  7.45008653e-03,  8.27431958e-03, -3.11613884e-02,\n",
       "         -8.83288532e-02, -6.06594235e-02,  8.95261914e-02,  3.93620618e-02,\n",
       "          8.35588574e-02,  3.33087929e-02,  1.92606766e-02,  5.04813977e-02,\n",
       "          3.73414867e-02,  2.57435311e-02, -2.48609409e-02,  3.59129235e-02,\n",
       "          8.60848203e-02,  2.04368532e-02,  2.47971080e-02,  1.02011990e-33,\n",
       "         -1.60891339e-02, -3.72664891e-02,  7.39677995e-03, -3.34782004e-02,\n",
       "         -3.56312878e-02,  2.17346102e-02,  1.82268396e-02, -1.88165046e-02,\n",
       "         -3.00135165e-02,  2.41614208e-02,  1.21188443e-03,  8.99758004e-03,\n",
       "         -1.96783245e-03,  7.24853501e-02, -3.89721645e-05,  3.92124206e-02,\n",
       "          8.95136967e-02, -7.13442033e-03, -1.28722861e-02,  3.50856371e-02,\n",
       "         -1.44179821e-01,  6.75122291e-02, -6.63272440e-02, -5.80738718e-03,\n",
       "         -1.02230972e-02, -1.21220276e-02, -1.95395239e-02, -9.38299298e-02,\n",
       "          4.54180278e-02, -4.87761982e-02, -7.81720653e-02, -7.69697428e-02,\n",
       "         -1.08570725e-01,  8.10898021e-02, -4.58737016e-02, -3.51102203e-02,\n",
       "          1.28266662e-01, -3.94423120e-02,  1.68631040e-02,  9.74950474e-03,\n",
       "          5.20422384e-02,  4.55249213e-02, -2.21325867e-02,  9.89647657e-02,\n",
       "         -2.25793365e-02, -5.03597967e-02, -8.89377743e-02,  7.46524334e-03,\n",
       "         -1.84993595e-01,  2.80702934e-02, -2.77040359e-02, -4.88394164e-02,\n",
       "          2.64515188e-02, -6.18583597e-02, -1.40551832e-02,  1.92281380e-02,\n",
       "         -3.31918597e-02,  2.46180259e-02,  8.24152157e-02,  4.83961999e-02,\n",
       "         -2.55908500e-02,  1.38386143e-02, -5.64456247e-02,  1.82928296e-03,\n",
       "          2.37992425e-02, -3.08934133e-02, -8.10776874e-02,  3.09443586e-02,\n",
       "          8.00417960e-02,  2.63943877e-02,  8.53120983e-02, -1.05772004e-01,\n",
       "         -9.24032703e-02, -3.15965968e-03,  5.02897091e-02, -4.59984550e-03,\n",
       "          2.72421893e-02,  2.90240068e-03, -1.04598053e-01,  2.98888590e-02,\n",
       "          2.59851408e-03, -5.05719660e-03, -3.99635695e-02, -6.54614195e-02,\n",
       "          8.58754516e-02, -1.39932521e-02,  7.92668238e-02, -4.40587699e-02,\n",
       "          3.60798277e-02,  1.51826942e-03, -1.31700918e-01, -3.73458341e-02,\n",
       "         -3.65661606e-02, -9.68386903e-02, -5.77456877e-02, -2.05599946e-08,\n",
       "          7.33910222e-03, -2.18696091e-02, -2.54255943e-02,  9.32615902e-03,\n",
       "          5.69682242e-03,  2.97555001e-03, -4.90207560e-02, -1.89926550e-02,\n",
       "         -4.89691757e-02,  4.23682993e-03,  1.19039647e-01,  2.54470538e-02,\n",
       "         -5.88074140e-02, -4.88777421e-02,  1.03850760e-01,  4.60909633e-03,\n",
       "         -2.50679646e-02,  4.82086763e-02,  7.08486931e-03,  1.92537382e-02,\n",
       "         -1.50799248e-02,  4.68398305e-03, -4.23912220e-02,  1.00003399e-01,\n",
       "          5.90098724e-02,  5.35833975e-03,  7.33317584e-02,  6.82709515e-02,\n",
       "          2.22568307e-03,  6.67093843e-02, -8.35520681e-03,  5.66919334e-02,\n",
       "         -4.05958667e-02, -1.82855614e-02, -1.40632009e-02,  5.07232137e-02,\n",
       "         -1.55922519e-02, -3.89242284e-02,  6.51398599e-02, -6.62448704e-02,\n",
       "         -8.57123639e-03,  1.10957392e-01,  3.32035422e-02,  1.71706025e-02,\n",
       "          2.46259309e-02, -5.31001613e-02,  1.06807519e-02, -3.53576802e-02,\n",
       "          5.87581396e-02, -4.15903516e-02, -9.92765352e-02, -9.62078758e-03,\n",
       "          2.37221885e-02,  2.39239596e-02,  3.73679586e-02,  2.22718921e-02,\n",
       "          1.76297184e-02, -7.96669871e-02,  2.33793370e-02, -6.22088946e-02,\n",
       "          3.73587832e-02,  2.71640569e-02, -1.04147298e-02, -1.90059152e-02],\n",
       "        dtype=float32)])"
      ]
     },
     "execution_count": 70,
     "metadata": {},
     "output_type": "execute_result"
    }
   ],
   "source": [
    "def select(\n",
    "        db,\n",
    "        keys: List[str]\n",
    "):\n",
    "    \"\"\"Retrieve vectors by keys, which are the IDs in the vectorstore.\n",
    "    Args:\n",
    "        keys: primary keys to identify the records to select.\n",
    "\n",
    "    Returns:\n",
    "        List of vectors corresponding to the ids, or None if an id does not exist.\n",
    "    \"\"\"\n",
    "    _id_to_index = {\n",
    "        _id: _index for _index, _id in db.index_to_docstore_id.items()\n",
    "    }\n",
    "    indices_to_retrieve = [_id_to_index.get(_id) for _id in keys]\n",
    "    vectors = db.index.reconstruct_n(0, len(db.index_to_docstore_id))\n",
    "    return (\n",
    "        [db.docstore.search(_id) for _id in keys],\n",
    "        [vectors[index] for index in indices_to_retrieve if index is not None]\n",
    "    )\n",
    "\n",
    "select(db=db, keys=['DOC04123333'])"
   ]
  },
  {
   "cell_type": "code",
   "execution_count": 71,
   "id": "dfff5423-074b-45c0-aff9-335a01c8f459",
   "metadata": {
    "ExecuteTime": {
     "start_time": "2023-12-26T03:41:09.054149182Z"
    }
   },
   "outputs": [],
   "source": [
    "def select(\n",
    "        db,\n",
    "        ids: List[str]\n",
    "):\n",
    "    \"\"\"Retrieve vectors by ids, which are the IDs in the vectorstore.\n",
    "    Args:\n",
    "        ids: Docstore ids to identify the records to select.\n",
    "\n",
    "    Returns: Generator to yield (document, vector) for the ids\n",
    "    \"\"\"\n",
    "    # Langchain Docstore IDs\n",
    "    docstore_ids = ids\n",
    "\n",
    "    # FAISS vector indices\n",
    "    _id_to_index = {\n",
    "        _id: _index for _index, _id in db.index_to_docstore_id.items()\n",
    "    }\n",
    "    indices_to_retrieve = [_id_to_index.get(_id) for _id in docstore_ids]\n",
    "\n",
    "    for index, _id in zip(indices_to_retrieve, docstore_ids):\n",
    "        document: Document = db.docstore.search(search=_id)\n",
    "        vector: np.ndarray = db.index.reconstruct_n(n0=index, ni=1)[0]\n",
    "        yield document, vector\n"
   ]
  },
  {
   "cell_type": "code",
   "execution_count": 72,
   "id": "44d56668-59e6-4297-a1cd-a4702649ec86",
   "metadata": {
    "ExecuteTime": {
     "start_time": "2023-12-26T03:41:09.054211485Z"
    }
   },
   "outputs": [
    {
     "data": {
      "text/plain": [
       "array([-2.28103362e-02,  6.77464530e-02,  9.50659811e-03,  5.78828976e-02,\n",
       "       -3.08208242e-02,  6.06366321e-02,  3.15811373e-02, -5.21173514e-02,\n",
       "       -8.54805335e-02, -1.82847157e-02, -1.27744377e-01,  3.03568784e-03,\n",
       "       -1.91189686e-03, -2.76795924e-02, -6.97776005e-02,  2.95578577e-02,\n",
       "        7.60543793e-02,  3.85096408e-02, -1.77105214e-03, -1.50946816e-02,\n",
       "        1.09686725e-01,  6.01188689e-02, -7.03044906e-02,  5.85764041e-03,\n",
       "        2.17567589e-02,  1.40187228e-02, -4.88124974e-02, -6.09397814e-02,\n",
       "       -5.87077960e-02, -3.19501348e-02, -2.63713324e-03, -7.52108395e-02,\n",
       "        2.12408993e-02,  6.47165701e-02, -1.89610273e-02, -1.28192827e-01,\n",
       "        7.25442618e-02,  3.60509939e-02,  8.64282921e-02, -2.63611060e-02,\n",
       "        1.16491783e-02, -5.09439409e-02,  8.39687791e-03,  2.07770411e-02,\n",
       "       -2.92405374e-02,  1.01810060e-01,  4.98622190e-03,  2.33929735e-02,\n",
       "       -9.77457408e-03,  7.11746067e-02, -1.25237415e-03,  2.90405843e-02,\n",
       "        2.32936069e-02,  4.77551818e-02,  4.65087518e-02,  9.07311495e-03,\n",
       "       -3.12979631e-02, -8.15798417e-02, -3.57214175e-02,  4.84262556e-02,\n",
       "       -7.68053457e-02, -5.42145558e-02, -6.86930120e-03,  2.40476187e-02,\n",
       "        6.02572672e-02, -5.64990155e-02,  1.46723036e-02,  5.93692251e-02,\n",
       "       -5.09814583e-02, -6.81676418e-02,  1.03268202e-03,  6.57870919e-02,\n",
       "       -5.23371948e-03, -1.25645250e-02, -3.12536471e-02, -5.83354272e-02,\n",
       "       -9.82489903e-03,  7.45081678e-02,  4.41589840e-02, -4.56739143e-02,\n",
       "       -6.42807484e-02,  5.52391820e-02, -1.26608312e-02,  2.69766394e-02,\n",
       "       -1.13559505e-02, -1.26462299e-02,  1.54735439e-03, -1.62293147e-02,\n",
       "       -7.16367289e-02, -3.88442427e-02, -1.92414597e-02, -1.03192583e-01,\n",
       "       -3.06141395e-02, -7.75102992e-03, -2.89162099e-02,  3.41626704e-02,\n",
       "       -3.66802141e-02, -5.28075024e-02, -1.84528641e-02,  4.95398529e-02,\n",
       "        2.22938024e-02,  4.47012819e-02, -8.93646572e-03, -3.95359062e-02,\n",
       "       -9.46932584e-02,  3.18826586e-02, -6.86615938e-03,  6.17096461e-02,\n",
       "        4.98982668e-02,  5.01119234e-02,  3.65121067e-02, -4.37880307e-03,\n",
       "       -6.53065145e-02, -3.47525440e-02,  4.29427736e-02,  5.95682487e-03,\n",
       "        4.62681288e-03, -1.25403665e-02,  6.55586118e-05, -3.02016959e-02,\n",
       "       -4.87090647e-02, -2.72237081e-02, -4.93861660e-02,  6.37118891e-03,\n",
       "       -2.45898683e-02, -8.09179023e-02,  6.39333725e-02, -5.81293601e-33,\n",
       "       -1.14575066e-02, -3.51395411e-03,  2.81870943e-02,  8.45608562e-02,\n",
       "       -6.39025047e-02,  9.66778547e-02,  1.05439639e-03, -1.18585303e-01,\n",
       "        7.18852645e-03,  6.30753487e-03, -8.61292407e-02,  7.20221475e-02,\n",
       "        5.89780100e-02,  6.31422848e-02, -7.66556561e-02, -5.93017749e-02,\n",
       "       -2.64638904e-02,  2.33679507e-02, -2.62765978e-02, -1.44907488e-02,\n",
       "        9.33292583e-02,  6.89521134e-02,  1.56304520e-02,  4.27221768e-02,\n",
       "        9.01565328e-02, -9.09006502e-03, -6.97730333e-02,  8.34417623e-03,\n",
       "       -5.35082929e-02,  2.59091780e-02, -2.73264572e-03,  5.82194105e-02,\n",
       "        4.45487611e-02,  5.46911266e-03,  5.14276652e-03, -4.30647843e-03,\n",
       "       -2.27535516e-02,  9.94144659e-03, -2.23985668e-02, -7.71225318e-02,\n",
       "        1.31921068e-01,  6.83034863e-03,  8.78190994e-03,  1.06356889e-01,\n",
       "        4.90709068e-03,  9.31352470e-03,  2.35109180e-02,  3.69291939e-02,\n",
       "        1.68736260e-02, -1.86918210e-02,  2.05526110e-02,  2.80193500e-02,\n",
       "       -3.01627237e-02, -7.86360055e-02,  4.10330147e-02, -8.20810720e-03,\n",
       "       -2.47201938e-02, -1.65859926e-02,  3.78222726e-02, -1.07783359e-02,\n",
       "       -3.58095467e-02,  3.62122199e-04, -3.40650305e-02,  3.97515632e-02,\n",
       "       -1.17839932e-01,  5.77991866e-02, -7.14399442e-02,  1.41515601e-02,\n",
       "        2.99570877e-02, -9.08826850e-03, -2.52243169e-02,  5.78915281e-03,\n",
       "       -1.65653583e-02,  4.17843200e-02, -7.66090602e-02,  6.12691008e-02,\n",
       "        6.01161607e-02,  7.45008653e-03,  8.27431958e-03, -3.11613884e-02,\n",
       "       -8.83288532e-02, -6.06594235e-02,  8.95261914e-02,  3.93620618e-02,\n",
       "        8.35588574e-02,  3.33087929e-02,  1.92606766e-02,  5.04813977e-02,\n",
       "        3.73414867e-02,  2.57435311e-02, -2.48609409e-02,  3.59129235e-02,\n",
       "        8.60848203e-02,  2.04368532e-02,  2.47971080e-02,  1.02011990e-33,\n",
       "       -1.60891339e-02, -3.72664891e-02,  7.39677995e-03, -3.34782004e-02,\n",
       "       -3.56312878e-02,  2.17346102e-02,  1.82268396e-02, -1.88165046e-02,\n",
       "       -3.00135165e-02,  2.41614208e-02,  1.21188443e-03,  8.99758004e-03,\n",
       "       -1.96783245e-03,  7.24853501e-02, -3.89721645e-05,  3.92124206e-02,\n",
       "        8.95136967e-02, -7.13442033e-03, -1.28722861e-02,  3.50856371e-02,\n",
       "       -1.44179821e-01,  6.75122291e-02, -6.63272440e-02, -5.80738718e-03,\n",
       "       -1.02230972e-02, -1.21220276e-02, -1.95395239e-02, -9.38299298e-02,\n",
       "        4.54180278e-02, -4.87761982e-02, -7.81720653e-02, -7.69697428e-02,\n",
       "       -1.08570725e-01,  8.10898021e-02, -4.58737016e-02, -3.51102203e-02,\n",
       "        1.28266662e-01, -3.94423120e-02,  1.68631040e-02,  9.74950474e-03,\n",
       "        5.20422384e-02,  4.55249213e-02, -2.21325867e-02,  9.89647657e-02,\n",
       "       -2.25793365e-02, -5.03597967e-02, -8.89377743e-02,  7.46524334e-03,\n",
       "       -1.84993595e-01,  2.80702934e-02, -2.77040359e-02, -4.88394164e-02,\n",
       "        2.64515188e-02, -6.18583597e-02, -1.40551832e-02,  1.92281380e-02,\n",
       "       -3.31918597e-02,  2.46180259e-02,  8.24152157e-02,  4.83961999e-02,\n",
       "       -2.55908500e-02,  1.38386143e-02, -5.64456247e-02,  1.82928296e-03,\n",
       "        2.37992425e-02, -3.08934133e-02, -8.10776874e-02,  3.09443586e-02,\n",
       "        8.00417960e-02,  2.63943877e-02,  8.53120983e-02, -1.05772004e-01,\n",
       "       -9.24032703e-02, -3.15965968e-03,  5.02897091e-02, -4.59984550e-03,\n",
       "        2.72421893e-02,  2.90240068e-03, -1.04598053e-01,  2.98888590e-02,\n",
       "        2.59851408e-03, -5.05719660e-03, -3.99635695e-02, -6.54614195e-02,\n",
       "        8.58754516e-02, -1.39932521e-02,  7.92668238e-02, -4.40587699e-02,\n",
       "        3.60798277e-02,  1.51826942e-03, -1.31700918e-01, -3.73458341e-02,\n",
       "       -3.65661606e-02, -9.68386903e-02, -5.77456877e-02, -2.05599946e-08,\n",
       "        7.33910222e-03, -2.18696091e-02, -2.54255943e-02,  9.32615902e-03,\n",
       "        5.69682242e-03,  2.97555001e-03, -4.90207560e-02, -1.89926550e-02,\n",
       "       -4.89691757e-02,  4.23682993e-03,  1.19039647e-01,  2.54470538e-02,\n",
       "       -5.88074140e-02, -4.88777421e-02,  1.03850760e-01,  4.60909633e-03,\n",
       "       -2.50679646e-02,  4.82086763e-02,  7.08486931e-03,  1.92537382e-02,\n",
       "       -1.50799248e-02,  4.68398305e-03, -4.23912220e-02,  1.00003399e-01,\n",
       "        5.90098724e-02,  5.35833975e-03,  7.33317584e-02,  6.82709515e-02,\n",
       "        2.22568307e-03,  6.67093843e-02, -8.35520681e-03,  5.66919334e-02,\n",
       "       -4.05958667e-02, -1.82855614e-02, -1.40632009e-02,  5.07232137e-02,\n",
       "       -1.55922519e-02, -3.89242284e-02,  6.51398599e-02, -6.62448704e-02,\n",
       "       -8.57123639e-03,  1.10957392e-01,  3.32035422e-02,  1.71706025e-02,\n",
       "        2.46259309e-02, -5.31001613e-02,  1.06807519e-02, -3.53576802e-02,\n",
       "        5.87581396e-02, -4.15903516e-02, -9.92765352e-02, -9.62078758e-03,\n",
       "        2.37221885e-02,  2.39239596e-02,  3.73679586e-02,  2.22718921e-02,\n",
       "        1.76297184e-02, -7.96669871e-02,  2.33793370e-02, -6.22088946e-02,\n",
       "        3.73587832e-02,  2.71640569e-02, -1.04147298e-02, -1.90059152e-02],\n",
       "      dtype=float32)"
      ]
     },
     "execution_count": 72,
     "metadata": {},
     "output_type": "execute_result"
    }
   ],
   "source": [
    "g = select(db, ['DOC04123333'])\n",
    "doc, vec = next(g)\n",
    "assert np.allclose(db.embedding_function.embed_query(doc.page_content), vec)\n",
    "\n",
    "doc\n",
    "vec"
   ]
  },
  {
   "cell_type": "markdown",
   "id": "849a488a-3abb-4bbe-b90d-6e99967b215d",
   "metadata": {},
   "source": [
    "## Delete"
   ]
  },
  {
   "cell_type": "code",
   "execution_count": 73,
   "id": "aebdcd22-bacf-4913-aaeb-aa189fc13170",
   "metadata": {
    "ExecuteTime": {
     "start_time": "2023-12-26T03:41:09.054272071Z"
    }
   },
   "outputs": [
    {
     "data": {
      "text/plain": [
       "True"
      ]
     },
     "execution_count": 73,
     "metadata": {},
     "output_type": "execute_result"
    }
   ],
   "source": [
    "db.delete(['DOC04123333'])"
   ]
  },
  {
   "cell_type": "markdown",
   "id": "04ff0661-9aeb-463f-b924-cb4bf4fa2903",
   "metadata": {
    "ExecuteTime": {
     "end_time": "2023-12-18T06:17:44.719041434Z",
     "start_time": "2023-12-18T06:17:44.718328812Z"
    }
   },
   "source": [
    "---\n",
    "# Server"
   ]
  },
  {
   "cell_type": "markdown",
   "id": "67ca6e4c-7dc3-497a-9602-73f6db2611d2",
   "metadata": {
    "ExecuteTime": {
     "end_time": "2023-12-18T06:17:45.165449602Z",
     "start_time": "2023-12-18T06:17:45.157617363Z"
    }
   },
   "source": [
    "## Flask"
   ]
  },
  {
   "cell_type": "code",
   "execution_count": 74,
   "id": "c7018c14-6ea9-47a9-a6b6-5cca0b31e633",
   "metadata": {
    "ExecuteTime": {
     "start_time": "2023-12-26T03:41:09.054359890Z"
    }
   },
   "outputs": [
    {
     "ename": "ModuleNotFoundError",
     "evalue": "No module named 'flask'",
     "output_type": "error",
     "traceback": [
      "\u001b[0;31m---------------------------------------------------------------------------\u001b[0m",
      "\u001b[0;31mModuleNotFoundError\u001b[0m                       Traceback (most recent call last)",
      "Cell \u001b[0;32mIn[74], line 2\u001b[0m\n\u001b[1;32m      1\u001b[0m \u001b[38;5;28;01mimport\u001b[39;00m \u001b[38;5;21;01mjson\u001b[39;00m\n\u001b[0;32m----> 2\u001b[0m \u001b[38;5;28;01mfrom\u001b[39;00m \u001b[38;5;21;01mflask\u001b[39;00m \u001b[38;5;28;01mimport\u001b[39;00m Flask, request\n\u001b[1;32m      4\u001b[0m app \u001b[38;5;241m=\u001b[39m Flask(\u001b[38;5;18m__name__\u001b[39m)\n\u001b[1;32m      7\u001b[0m \u001b[38;5;129m@app\u001b[39m\u001b[38;5;241m.\u001b[39mroute(\u001b[38;5;124m'\u001b[39m\u001b[38;5;124m/embedding\u001b[39m\u001b[38;5;124m'\u001b[39m, methods\u001b[38;5;241m=\u001b[39m[\u001b[38;5;124m'\u001b[39m\u001b[38;5;124mPOST\u001b[39m\u001b[38;5;124m'\u001b[39m])\n\u001b[1;32m      8\u001b[0m \u001b[38;5;28;01mdef\u001b[39;00m \u001b[38;5;21mgenerate_embedding\u001b[39m():\n",
      "\u001b[0;31mModuleNotFoundError\u001b[0m: No module named 'flask'"
     ]
    }
   ],
   "source": [
    "import json\n",
    "from flask import Flask, request\n",
    "\n",
    "app = Flask(__name__)\n",
    "\n",
    "\n",
    "@app.route('/embedding', methods=['POST'])\n",
    "def generate_embedding():\n",
    "    query = request.json['query']\n",
    "    results = db.similarity_search_with_score(query, 3)\n",
    "    return {'results': json.dumps(results, default=str)}\n",
    "\n",
    "if __name__ == '__main__':\n",
    "    app.run(port=8001)"
   ]
  },
  {
   "cell_type": "markdown",
   "id": "874f46cf-0b58-47a0-9614-91c1f423397c",
   "metadata": {
    "ExecuteTime": {
     "end_time": "2023-12-18T06:11:01.954450660Z",
     "start_time": "2023-12-18T06:11:01.910153716Z"
    }
   },
   "source": [
    "## FAISS gRPC Server\n",
    "\n",
    "* [Faiss gRPC Server](https://github.com/louiezzang/faiss-server)\n",
    "\n",
    "> A library for efficient similarity search and clustering of dense vectors."
   ]
  },
  {
   "cell_type": "code",
   "execution_count": null,
   "id": "37f6be81-fcd3-47a2-925a-61838fe151fa",
   "metadata": {
    "ExecuteTime": {
     "start_time": "2023-12-26T03:41:09.054417507Z"
    }
   },
   "outputs": [],
   "source": [
    "pow(2, 15) * 8"
   ]
  },
  {
   "cell_type": "code",
   "execution_count": null,
   "id": "bca5f160-f60f-4000-b9db-3ef7861fc945",
   "metadata": {
    "ExecuteTime": {
     "start_time": "2023-12-26T03:41:09.054475108Z"
    }
   },
   "outputs": [],
   "source": []
  }
 ],
 "metadata": {
  "kernelspec": {
   "display_name": "Python 3 (ipykernel)",
   "language": "python",
   "name": "python3"
  },
  "language_info": {
   "codemirror_mode": {
    "name": "ipython",
    "version": 3
   },
   "file_extension": ".py",
   "mimetype": "text/x-python",
   "name": "python",
   "nbconvert_exporter": "python",
   "pygments_lexer": "ipython3",
   "version": "3.10.12"
  }
 },
 "nbformat": 4,
 "nbformat_minor": 5
}
