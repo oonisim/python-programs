{
 "cells": [
  {
   "cell_type": "markdown",
   "id": "ed7e26f9",
   "metadata": {},
   "source": [
    "# Check if inside Google Colab"
   ]
  },
  {
   "cell_type": "code",
   "execution_count": 1,
   "id": "3b2c7ab4",
   "metadata": {},
   "outputs": [],
   "source": [
    "def is_in_colab() -> bool:\n",
    "    \n",
    "    try:\n",
    "        # --------------------------------------------------------------------------------\n",
    "        # Check if the environment is Google Colab.\n",
    "        # --------------------------------------------------------------------------------\n",
    "        import google.colab\n",
    "        IN_GOOGLE_COLAB = True\n",
    "        print(\"Using Google Colab environment.\")\n",
    "        \n",
    "        # --------------------------------------------------------------------------------\n",
    "        # Mount Google drive\n",
    "        # --------------------------------------------------------------------------------\n",
    "        google.colab.drive.mount('/content/drive', force_remount=True)\n",
    "\n",
    "        return True\n",
    "\n",
    "    \n",
    "    except ModuleNotFoundError as e:\n",
    "        # if str(e) == \"No module named 'google.colab'\":\n",
    "        IN_GOOGLE_COLAB = False    \n",
    "        print(\"Not using Google Colab environment.\")\n",
    "\n",
    "    return False"
   ]
  },
  {
   "cell_type": "code",
   "execution_count": null,
   "id": "db5ea9d6",
   "metadata": {},
   "outputs": [],
   "source": []
  }
 ],
 "metadata": {
  "kernelspec": {
   "display_name": "Python 3 (ipykernel)",
   "language": "python",
   "name": "python3"
  },
  "language_info": {
   "codemirror_mode": {
    "name": "ipython",
    "version": 3
   },
   "file_extension": ".py",
   "mimetype": "text/x-python",
   "name": "python",
   "nbconvert_exporter": "python",
   "pygments_lexer": "ipython3",
   "version": "3.9.13"
  }
 },
 "nbformat": 4,
 "nbformat_minor": 5
}
