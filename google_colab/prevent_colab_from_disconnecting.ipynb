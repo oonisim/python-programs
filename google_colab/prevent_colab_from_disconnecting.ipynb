{
 "cells": [
  {
   "cell_type": "markdown",
   "id": "06b36906",
   "metadata": {},
   "source": [
    "* [5 Amazing Google Colab Hacks You Should Try Today!](https://www.analyticsvidhya.com/blog/2020/04/5-amazing-google-colab-hacks-you-should-try-today/)\n",
    "\n",
    "> open your Chrome DevTools by pressing F12 or Ctrl+Shift+I on Linux and run the following JavaScript code in your console:\n",
    "\n",
    "```\n",
    "function KeepClicking(){\n",
    "   console.log(\"Clicking\");\n",
    "   document.querySelector(\"colab-toolbar-button#connect\").click()\n",
    "}setInterval(KeepClicking,60000)\n",
    "```"
   ]
  }
 ],
 "metadata": {
  "kernelspec": {
   "display_name": "Python 3",
   "language": "python",
   "name": "python3"
  },
  "language_info": {
   "codemirror_mode": {
    "name": "ipython",
    "version": 3
   },
   "file_extension": ".py",
   "mimetype": "text/x-python",
   "name": "python",
   "nbconvert_exporter": "python",
   "pygments_lexer": "ipython3",
   "version": "3.8.8"
  }
 },
 "nbformat": 4,
 "nbformat_minor": 5
}
