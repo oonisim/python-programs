{
 "cells": [
  {
   "cell_type": "markdown",
   "id": "1c6fd956",
   "metadata": {},
   "source": [
    "# Run shell script\n",
    "\n",
    "either ! or %%shell."
   ]
  },
  {
   "cell_type": "code",
   "execution_count": null,
   "id": "b764447f",
   "metadata": {},
   "outputs": [],
   "source": [
    "!/contnt/gdrive/MyDrive/scripts/simple-cifar10.sh"
   ]
  },
  {
   "cell_type": "code",
   "execution_count": null,
   "id": "4e5a617b",
   "metadata": {},
   "outputs": [],
   "source": [
    "%%shell\n",
    "\n",
    "echo \"This is an entire cell interpreted as a shell script\"\n",
    "echo \"You don't need to prepend each line with the '!' character\""
   ]
  }
 ],
 "metadata": {
  "kernelspec": {
   "display_name": "Python 3 (ipykernel)",
   "language": "python",
   "name": "python3"
  },
  "language_info": {
   "codemirror_mode": {
    "name": "ipython",
    "version": 3
   },
   "file_extension": ".py",
   "mimetype": "text/x-python",
   "name": "python",
   "nbconvert_exporter": "python",
   "pygments_lexer": "ipython3",
   "version": "3.9.13"
  }
 },
 "nbformat": 4,
 "nbformat_minor": 5
}
