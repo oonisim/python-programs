{
 "cells": [
  {
   "cell_type": "markdown",
   "id": "b01f8c66",
   "metadata": {},
   "source": [
    "\n",
    "<img sr=\"google_colab_pro_cancel_subscription.png\"  align=\"left\"/>"
   ]
  },
  {
   "cell_type": "markdown",
   "id": "099e5e2b",
   "metadata": {},
   "source": [
    "Setting > Colab Pro\n",
    "\n",
    "<img src=\"image/google_colab_pro_cancel_subscription.png\" align=\"left\"/>"
   ]
  },
  {
   "cell_type": "code",
   "execution_count": null,
   "id": "cb9bdbeb",
   "metadata": {},
   "outputs": [],
   "source": []
  }
 ],
 "metadata": {
  "kernelspec": {
   "display_name": "Python 3",
   "language": "python",
   "name": "python3"
  },
  "language_info": {
   "codemirror_mode": {
    "name": "ipython",
    "version": 3
   },
   "file_extension": ".py",
   "mimetype": "text/x-python",
   "name": "python",
   "nbconvert_exporter": "python",
   "pygments_lexer": "ipython3",
   "version": "3.8.8"
  }
 },
 "nbformat": 4,
 "nbformat_minor": 5
}
