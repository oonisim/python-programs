{
 "cells": [
  {
   "cell_type": "markdown",
   "id": "c774f1f3",
   "metadata": {},
   "source": [
    "# Problem\n",
    "\n",
    "Cannot access the current Google drive content. The ```/content/drive``` auto reappear without mounting it with old cached content inside.\n",
    "\n",
    "* [How to unmount drive in Google Colab and remount to another drive?](https://stackoverflow.com/a/67598064/4281353)\n",
    "\n",
    "# Symptom\n",
    "\n",
    "1. /content/drive gets auto-mounted without mounting it and not being asked for ```Enter your authorization code:```.\n",
    "2. Cached old state of the drive kept showing up.\n",
    "3. The actual Google drive content did not show up.\n",
    "4. Terminating, restarting, factory resetting revoking permissions, clear chrome cache did not work.\n",
    "5. Flush and unmount ```google.colab.drive.flush_and_unmount()``` did not work.\n",
    "\n",
    "# Solution\n",
    "\n",
    "1. Create a dummy file inside the mount point ```/content/drive```.\n",
    "2. Take a moment and make sure the content  ```/content/drive``` is not the same with that in the [Google drive UI][1].\n",
    "3. Run ```rm -rf /content/drive```.\n",
    "4. Run ```google.colab.drive.flush_and_unmount()```\n",
    "5. From the menu ```Runtime -> Factory reset runtime```.\n",
    "\n",
    "Then re-run ```google.colab.drive.mount('/content/drive', force_remount=True)``` finally asked for ```Enter your authorization code```.\n",
    "\n",
    "  [1]: https://drive.google.com/drive/my-drive%5C"
   ]
  },
  {
   "cell_type": "code",
   "execution_count": 2,
   "id": "5ff48c5b",
   "metadata": {},
   "outputs": [
    {
     "name": "stdout",
     "output_type": "stream",
     "text": [
      "hoge\n"
     ]
    }
   ],
   "source": [
    "try:\n",
    "    import google.colab\n",
    "except ModuleNotFoundError as e:\n",
    "    # if str(e) == \"No module named 'google.colab'\":\n",
    "    IN_GOOGLE_COLAB = False    "
   ]
  },
  {
   "cell_type": "code",
   "execution_count": null,
   "id": "ddccf9bc",
   "metadata": {},
   "outputs": [],
   "source": []
  }
 ],
 "metadata": {
  "kernelspec": {
   "display_name": "Python 3",
   "language": "python",
   "name": "python3"
  },
  "language_info": {
   "codemirror_mode": {
    "name": "ipython",
    "version": 3
   },
   "file_extension": ".py",
   "mimetype": "text/x-python",
   "name": "python",
   "nbconvert_exporter": "python",
   "pygments_lexer": "ipython3",
   "version": "3.8.10"
  }
 },
 "nbformat": 4,
 "nbformat_minor": 5
}
