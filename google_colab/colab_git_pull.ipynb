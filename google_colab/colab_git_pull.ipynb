{
 "cells": [
  {
   "cell_type": "code",
   "execution_count": null,
   "id": "9e8fa713-5ce3-4f78-bdd2-f972b1ee998f",
   "metadata": {},
   "outputs": [],
   "source": [
    "!git remote set-url origin https://{user}:{token or password}@github.com/{user}/{repository}.git\n",
    "!git remote add origin https://{user}:{token or password}@github.com/{user}/{repository}.git\n",
    "!git pull https://{user}:{token or password}@github.com/{user}/{repository}.git"
   ]
  }
 ],
 "metadata": {
  "kernelspec": {
   "display_name": "Python 3 (ipykernel)",
   "language": "python",
   "name": "python3"
  },
  "language_info": {
   "codemirror_mode": {
    "name": "ipython",
    "version": 3
   },
   "file_extension": ".py",
   "mimetype": "text/x-python",
   "name": "python",
   "nbconvert_exporter": "python",
   "pygments_lexer": "ipython3",
   "version": "3.10.10"
  }
 },
 "nbformat": 4,
 "nbformat_minor": 5
}
