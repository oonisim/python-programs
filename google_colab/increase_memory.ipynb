{
 "cells": [
  {
   "cell_type": "markdown",
   "id": "91c68b5f",
   "metadata": {},
   "source": [
    "* [5 Amazing Google Colab Hacks You Should Try Today!](https://www.analyticsvidhya.com/blog/2020/04/5-amazing-google-colab-hacks-you-should-try-today/)\n",
    "\n",
    "> For getting higher RAM, you need to run the following code in your Colab code cell and wait for Google Colab to crash. As soon as it crashes due to a lack of RAM, it asks if you want more RAM. Click on Get more RAM  and you will see another popup.\n",
    "\n"
   ]
  },
  {
   "cell_type": "code",
   "execution_count": null,
   "id": "4b800b8d",
   "metadata": {},
   "outputs": [],
   "source": [
    "i = []\n",
    "while(True):\n",
    "    i.append('a')"
   ]
  }
 ],
 "metadata": {
  "kernelspec": {
   "display_name": "Python 3",
   "language": "python",
   "name": "python3"
  },
  "language_info": {
   "codemirror_mode": {
    "name": "ipython",
    "version": 3
   },
   "file_extension": ".py",
   "mimetype": "text/x-python",
   "name": "python",
   "nbconvert_exporter": "python",
   "pygments_lexer": "ipython3",
   "version": "3.8.8"
  }
 },
 "nbformat": 4,
 "nbformat_minor": 5
}
