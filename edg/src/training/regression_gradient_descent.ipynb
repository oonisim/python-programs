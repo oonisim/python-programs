{
 "cells": [
  {
   "cell_type": "code",
   "execution_count": 1,
   "id": "52c204de",
   "metadata": {},
   "outputs": [],
   "source": [
    "import gc\n",
    "import numpy as np\n",
    "import matplotlib.pyplot as plt\n",
    "from sklearn import datasets, linear_model\n",
    "from sklearn.metrics import mean_squared_error, r2_score"
   ]
  },
  {
   "cell_type": "code",
   "execution_count": 2,
   "id": "f5fb34f2",
   "metadata": {},
   "outputs": [],
   "source": [
    "from simple_linear_regr import (\n",
    "    TYPE_FLOAT,\n",
    "    TYPE_INT,\n",
    "    add_bias,\n",
    "    SimpleLinearRegression\n",
    ")\n",
    "from simple_linear_regr_utils import (\n",
    "    generate_data, \n",
    "    evaluate\n",
    ")\n",
    "from benchmark import (\n",
    "    benchmark\n",
    ")"
   ]
  },
  {
   "cell_type": "markdown",
   "id": "d2ca341e",
   "metadata": {},
   "source": [
    "# Data"
   ]
  },
  {
   "cell_type": "code",
   "execution_count": 3,
   "id": "13dd1107",
   "metadata": {},
   "outputs": [
    {
     "name": "stdout",
     "output_type": "stream",
     "text": [
      "# Training Samples: 422; # Test samples: 20;\n",
      "X_train.shape (422, 2) y_train.shape (422, 1)\n"
     ]
    }
   ],
   "source": [
    "X_train, y_train, X_test, y_test = generate_data()\n",
    "\n",
    "X_train = add_bias(X_train)\n",
    "y_train = y_train.astype(TYPE_FLOAT)\n",
    "y_test = y_test.astype(TYPE_FLOAT)\n",
    "\n",
    "print(f\"X_train.shape {X_train.shape} y_train.shape {y_train.shape}\")"
   ]
  },
  {
   "cell_type": "markdown",
   "id": "f67639b8",
   "metadata": {},
   "source": [
    "# Gradient Descent Formula\n",
    "\n",
    "To avoid two vectorized calculation for ```W``` and ```b```, integrate ```b``` into ```W```.\n",
    "\n",
    "<img src=\"../image/gradient_descent.jpg\" align=\"left\"/>"
   ]
  },
  {
   "cell_type": "markdown",
   "id": "448911e0",
   "metadata": {},
   "source": [
    "# Integrate intercept (bias) into slope coefficients\n",
    "\n",
    "<img src=\"../image/intersect_to_slope.jpg\" align=\"left\" width=500/>"
   ]
  },
  {
   "cell_type": "markdown",
   "id": "4d2263ac",
   "metadata": {},
   "source": [
    "# Training"
   ]
  },
  {
   "cell_type": "code",
   "execution_count": 4,
   "id": "c32c33bc",
   "metadata": {},
   "outputs": [
    {
     "name": "stdout",
     "output_type": "stream",
     "text": [
      "Initial Loss: -153.7648640697175\n",
      "Iteration 0, Loss: -138.38827374703789\n",
      "Iteration 100, Loss: -0.00269160592119988\n",
      "Iteration 200, Loss: 0.000962059523872405\n",
      "Iteration 300, Loss: 0.0009406100985960286\n",
      "Iteration 400, Loss: 0.0009195455804515973\n",
      "Iteration 500, Loss: 0.000898952789727403\n",
      "Iteration 600, Loss: 0.0008788211649211064\n",
      "Iteration 700, Loss: 0.0008591403782949314\n",
      "Iteration 800, Loss: 0.000839900333729382\n",
      "Iteration 900, Loss: 0.0008210911608856897\n",
      "Iteration 1000, Loss: 0.0008027032105393239\n",
      "Iteration 1100, Loss: 0.0007847270497571834\n",
      "Iteration 1200, Loss: 0.0007671534566711102\n",
      "Iteration 1300, Loss: 0.0007499734158806781\n",
      "Iteration 1400, Loss: 0.0007331781139909843\n",
      "Iteration 1500, Loss: 0.0007167589350882686\n",
      "Iteration 1600, Loss: 0.0007007074559162163\n",
      "Iteration 1700, Loss: 0.000685015442046133\n",
      "Iteration 1800, Loss: 0.0006696748434538158\n",
      "Iteration 1900, Loss: 0.0006546777903682077\n",
      "Iteration 2000, Loss: 0.0006400165892279652\n",
      "Iteration 2100, Loss: 0.0006256837187907927\n",
      "Iteration 2200, Loss: 0.0006116718262667575\n",
      "Iteration 2300, Loss: 0.0005979737234298454\n",
      "Iteration 2400, Loss: 0.0005845823832073549\n",
      "Iteration 2500, Loss: 0.0005714909357248388\n",
      "Iteration 2600, Loss: 0.0005586926650593682\n",
      "Iteration 2700, Loss: 0.000546181005667723\n",
      "Iteration 2800, Loss: 0.0005339495389415916\n",
      "Iteration 2900, Loss: 0.0005219919902663683\n",
      "Iteration 3000, Loss: 0.0005103022251331524\n",
      "Iteration 3100, Loss: 0.0004988742468521323\n",
      "Iteration 3200, Loss: 0.00048770219282490146\n",
      "Iteration 3300, Loss: 0.0004767803316219066\n",
      "Iteration 3400, Loss: 0.00046610306034988724\n",
      "Iteration 3500, Loss: 0.00045566490160853235\n",
      "Iteration 3600, Loss: 0.00044546050048710484\n",
      "Iteration 3700, Loss: 0.00043548462215681205\n",
      "Iteration 3800, Loss: 0.0004257321489009591\n",
      "Iteration 3900, Loss: 0.00041619807771597905\n",
      "Iteration 4000, Loss: 0.00040687751750767553\n",
      "Iteration 4100, Loss: 0.00039776568695781833\n",
      "Iteration 4200, Loss: 0.0003888579115067792\n",
      "Iteration 4300, Loss: 0.00038014962149124365\n",
      "Iteration 4400, Loss: 0.0003716363495351871\n",
      "Iteration 4500, Loss: 0.0003633137283012289\n",
      "Iteration 4600, Loss: 0.0003551774882799563\n",
      "Iteration 4700, Loss: 0.0003472234555230713\n",
      "Iteration 4800, Loss: 0.0003394475496021343\n",
      "Iteration 4900, Loss: 0.000331845781382345\n",
      "Iteration 5000, Loss: 0.0003244142512088821\n",
      "Iteration 5100, Loss: 0.0003171491466857912\n",
      "Iteration 5200, Loss: 0.0003100467407377572\n",
      "Iteration 5300, Loss: 0.0003031033898266422\n",
      "Iteration 5400, Loss: 0.0002963155319759547\n",
      "Iteration 5500, Loss: 0.00028967968503401664\n",
      "Iteration 5600, Loss: 0.0002831924447785905\n",
      "Iteration 5700, Loss: 0.00027685048319936456\n",
      "Iteration 5800, Loss: 0.000270650546851936\n",
      "Iteration 5900, Loss: 0.000264589455184705\n",
      "Iteration 6000, Loss: 0.00025866409877717267\n",
      "Iteration 6100, Loss: 0.00025287143797037004\n",
      "Iteration 6200, Loss: 0.0002472085010871705\n",
      "Iteration 6300, Loss: 0.00024167238300942806\n",
      "Iteration 6400, Loss: 0.00023626024369582943\n",
      "Iteration 6500, Loss: 0.00023096930663002446\n",
      "Iteration 6600, Loss: 0.00022579685765511393\n",
      "Iteration 6700, Loss: 0.0002207402432541361\n",
      "Iteration 6800, Loss: 0.00021579686937633902\n",
      "Iteration 6900, Loss: 0.00021096420000965566\n",
      "Iteration 7000, Loss: 0.0002062397560000928\n",
      "Iteration 7100, Loss: 0.00020162111368859925\n",
      "Iteration 7200, Loss: 0.00019710590368027248\n",
      "Iteration 7300, Loss: 0.00019269180968617405\n",
      "Iteration 7400, Loss: 0.00018837656721637508\n",
      "Iteration 7500, Loss: 0.0001841579626402634\n",
      "Iteration 7600, Loss: 0.00018003383170661635\n",
      "Iteration 7700, Loss: 0.00017600205871737273\n",
      "Iteration 7800, Loss: 0.00017206057542051845\n",
      "Iteration 7900, Loss: 0.0001682073597959466\n",
      "Iteration 8000, Loss: 0.00016444043505847716\n",
      "Iteration 8100, Loss: 0.0001607578688678224\n",
      "Iteration 8200, Loss: 0.00015715777207248038\n",
      "Iteration 8300, Loss: 0.0001536382976667916\n",
      "Iteration 8400, Loss: 0.00015019764027934812\n",
      "Iteration 8500, Loss: 0.00014683403475879153\n",
      "Iteration 8600, Loss: 0.0001435457556500097\n",
      "Iteration 8700, Loss: 0.00014033111596378767\n",
      "Iteration 8800, Loss: 0.00013718846660548678\n",
      "Iteration 8900, Loss: 0.0001341161954286907\n",
      "Iteration 9000, Loss: 0.0001311127263869949\n",
      "Iteration 9100, Loss: 0.0001281765185061623\n",
      "Iteration 9200, Loss: 0.0001253060656547511\n",
      "Iteration 9300, Loss: 0.0001224998952877865\n",
      "Iteration 9400, Loss: 0.00011975656777196697\n",
      "Iteration 9500, Loss: 0.00011707467579746833\n",
      "Iteration 9600, Loss: 0.00011445284346889295\n",
      "Iteration 9700, Loss: 0.0001118897258725049\n",
      "Iteration 9800, Loss: 0.00010938400809834548\n",
      "Iteration 9900, Loss: 0.00010693440471176707\n",
      "Iteration 10000, Loss: 0.00010453965900714124\n",
      "Iteration 10100, Loss: 0.00010219854256110494\n",
      "Iteration 10200, Loss: 9.990985424312981e-05\n",
      "Iteration 10300, Loss: 9.767242009228738e-05\n",
      "Iteration 10400, Loss: 9.548509219059476e-05\n",
      "Iteration 10500, Loss: 9.334674845784541e-05\n",
      "Iteration 10600, Loss: 9.125629197814789e-05\n",
      "Iteration 10700, Loss: 8.921265019656843e-05\n",
      "Iteration 10800, Loss: 8.721477485584828e-05\n",
      "Iteration 10900, Loss: 8.526164102784506e-05\n",
      "Iteration 11000, Loss: 8.335224664901553e-05\n",
      "Iteration 11100, Loss: 8.148561230481022e-05\n",
      "Iteration 11200, Loss: 7.966078034993274e-05\n",
      "Iteration 11300, Loss: 7.787681467497087e-05\n",
      "Iteration 11400, Loss: 7.61328000338235e-05\n",
      "Iteration 11500, Loss: 7.4427841777025e-05\n",
      "Iteration 11600, Loss: 7.276106529530146e-05\n",
      "Iteration 11700, Loss: 7.113161544469726e-05\n",
      "Iteration 11800, Loss: 6.953865638803514e-05\n",
      "Iteration 11900, Loss: 6.798137090857637e-05\n",
      "Iteration 12000, Loss: 6.645896007539953e-05\n",
      "Iteration 12100, Loss: 6.497064293431443e-05\n",
      "Iteration 12200, Loss: 6.351565595386077e-05\n",
      "Iteration 12300, Loss: 6.209325266848253e-05\n",
      "Iteration 12400, Loss: 6.0702703489567966e-05\n",
      "Iteration 12500, Loss: 5.934329504109215e-05\n",
      "Iteration 12600, Loss: 5.801432986207722e-05\n",
      "Iteration 12700, Loss: 5.671512622162922e-05\n",
      "Iteration 12800, Loss: 5.544501766152621e-05\n",
      "Iteration 12900, Loss: 5.4203352531256854e-05\n",
      "Iteration 13000, Loss: 5.2989493981359104e-05\n",
      "Iteration 13100, Loss: 5.180281916650209e-05\n",
      "Iteration 13200, Loss: 5.064271942067933e-05\n",
      "Iteration 13300, Loss: 4.950859957175702e-05\n",
      "Iteration 13400, Loss: 4.839987773719301e-05\n",
      "Iteration 13500, Loss: 4.7315985243212566e-05\n",
      "Iteration 13600, Loss: 4.625636603972083e-05\n",
      "Iteration 13700, Loss: 4.522047646626781e-05\n",
      "Iteration 13800, Loss: 4.420778517055801e-05\n",
      "Iteration 13900, Loss: 4.3217772611070515e-05\n",
      "Iteration 14000, Loss: 4.2249930914284306e-05\n",
      "Iteration 14100, Loss: 4.130376360578225e-05\n",
      "Iteration 14200, Loss: 4.0378785263861516e-05\n",
      "Iteration 14300, Loss: 3.947452135943941e-05\n",
      "Iteration 14400, Loss: 3.859050804577713e-05\n",
      "Iteration 14500, Loss: 3.7726291729045514e-05\n",
      "Iteration 14600, Loss: 3.688142916846715e-05\n",
      "Iteration 14700, Loss: 3.605548693652594e-05\n",
      "Iteration 14800, Loss: 3.524804125798475e-05\n",
      "Iteration 14900, Loss: 3.445867794726887e-05\n",
      "Iteration 15000, Loss: 3.368699207251247e-05\n"
     ]
    }
   ],
   "source": [
    "model = SimpleLinearRegression()\n",
    "model.fit(X_train,y_train)"
   ]
  },
  {
   "cell_type": "markdown",
   "id": "be8478dd",
   "metadata": {},
   "source": [
    "# Evaluation"
   ]
  },
  {
   "cell_type": "code",
   "execution_count": 5,
   "id": "99b7cfee",
   "metadata": {},
   "outputs": [
    {
     "name": "stdout",
     "output_type": "stream",
     "text": [
      "Slope: [[152.93373695 906.85431768]]\n",
      "Mean squared error: 2585.92\n",
      "Coefficient of determination: 0.46\n"
     ]
    },
    {
     "data": {
      "image/png": "[encoded data removed]",
      "text/plain": [
       "<Figure size 432x288 with 1 Axes>"
      ]
     },
     "metadata": {},
     "output_type": "display_data"
    },
    {
     "name": "stdout",
     "output_type": "stream",
     "text": [
      "****** Success ******\n"
     ]
    },
    {
     "data": {
      "text/plain": [
       "True"
      ]
     },
     "execution_count": 5,
     "metadata": {},
     "output_type": "execute_result"
    }
   ],
   "source": [
    "predicted = model.predict(X_test)\n",
    "evaluate(model, X_test, y_test, predicted)"
   ]
  },
  {
   "cell_type": "markdown",
   "id": "f295e9f8",
   "metadata": {},
   "source": [
    "# Save model"
   ]
  },
  {
   "cell_type": "code",
   "execution_count": 6,
   "id": "2aa44527",
   "metadata": {},
   "outputs": [],
   "source": [
    "model.save(\"../model/model.npy\")"
   ]
  },
  {
   "cell_type": "markdown",
   "id": "c1cb397c",
   "metadata": {},
   "source": [
    "# Load model & Re-evaluate"
   ]
  },
  {
   "cell_type": "code",
   "execution_count": 7,
   "id": "7f220105",
   "metadata": {},
   "outputs": [
    {
     "name": "stdout",
     "output_type": "stream",
     "text": [
      "Slope: [[152.93373695 906.85431768]]\n",
      "Mean squared error: 2585.92\n",
      "Coefficient of determination: 0.46\n"
     ]
    },
    {
     "data": {
      "image/png": "[encoded data removed]",
      "text/plain": [
       "<Figure size 432x288 with 1 Axes>"
      ]
     },
     "metadata": {},
     "output_type": "display_data"
    },
    {
     "name": "stdout",
     "output_type": "stream",
     "text": [
      "****** Success ******\n"
     ]
    },
    {
     "data": {
      "text/plain": [
       "True"
      ]
     },
     "execution_count": 7,
     "metadata": {},
     "output_type": "execute_result"
    }
   ],
   "source": [
    "del model\n",
    "gc.collect()\n",
    "\n",
    "model = SimpleLinearRegression()\n",
    "model.load(\"../model/model.npy\")\n",
    "evaluate(model, X_test, y_test, predicted)"
   ]
  },
  {
   "cell_type": "markdown",
   "id": "98d635e5",
   "metadata": {},
   "source": [
    "---\n",
    "# Bench Mark"
   ]
  },
  {
   "cell_type": "code",
   "execution_count": 8,
   "id": "b9ecdb15",
   "metadata": {
    "scrolled": true
   },
   "outputs": [
    {
     "name": "stdout",
     "output_type": "stream",
     "text": [
      "Coefficients: \n",
      " [938.23786125]\n",
      "Mean squared error: 2548.07\n",
      "Coefficient of determination: 0.47\n"
     ]
    },
    {
     "data": {
      "image/png": "[encoded data removed]",
      "text/plain": [
       "<Figure size 432x288 with 1 Axes>"
      ]
     },
     "metadata": {},
     "output_type": "display_data"
    },
    {
     "data": {
      "text/plain": [
       "0.47257544798227147"
      ]
     },
     "execution_count": 8,
     "metadata": {},
     "output_type": "execute_result"
    }
   ],
   "source": [
    "benchmark()"
   ]
  }
 ],
 "metadata": {
  "kernelspec": {
   "display_name": "Python 3 (ipykernel)",
   "language": "python",
   "name": "python3"
  },
  "language_info": {
   "codemirror_mode": {
    "name": "ipython",
    "version": 3
   },
   "file_extension": ".py",
   "mimetype": "text/x-python",
   "name": "python",
   "nbconvert_exporter": "python",
   "pygments_lexer": "ipython3",
   "version": "3.8.10"
  }
 },
 "nbformat": 4,
 "nbformat_minor": 5
}
