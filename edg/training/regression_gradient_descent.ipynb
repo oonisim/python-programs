{
 "cells": [
  {
   "cell_type": "code",
   "execution_count": 10,
   "id": "52c204de",
   "metadata": {},
   "outputs": [],
   "source": [
    "import gc\n",
    "import numpy as np\n",
    "import matplotlib.pyplot as plt\n",
    "from sklearn import datasets, linear_model\n",
    "from sklearn.metrics import mean_squared_error, r2_score"
   ]
  },
  {
   "cell_type": "code",
   "execution_count": 2,
   "id": "f5fb34f2",
   "metadata": {},
   "outputs": [],
   "source": [
    "from simple_linear_regr import (\n",
    "    TYPE_FLOAT,\n",
    "    TYPE_INT,\n",
    "    add_bias,\n",
    "    SimpleLinearRegression\n",
    ")\n",
    "from simple_linear_regr_utils import (\n",
    "    generate_data, \n",
    "    evaluate\n",
    ")\n",
    "from benchmark import (\n",
    "    benchmark\n",
    ")"
   ]
  },
  {
   "cell_type": "markdown",
   "id": "d2ca341e",
   "metadata": {},
   "source": [
    "# Data"
   ]
  },
  {
   "cell_type": "code",
   "execution_count": 3,
   "id": "13dd1107",
   "metadata": {},
   "outputs": [
    {
     "name": "stdout",
     "output_type": "stream",
     "text": [
      "# Training Samples: 422; # Test samples: 20;\n",
      "X_train.shape (422, 2) y_train.shape (422, 1)\n"
     ]
    }
   ],
   "source": [
    "X_train, y_train, X_test, y_test = generate_data()\n",
    "\n",
    "X_train = add_bias(X_train)\n",
    "y_train = y_train.astype(TYPE_FLOAT)\n",
    "y_test = y_test.astype(TYPE_FLOAT)\n",
    "\n",
    "print(f\"X_train.shape {X_train.shape} y_train.shape {y_train.shape}\")"
   ]
  },
  {
   "cell_type": "markdown",
   "id": "f67639b8",
   "metadata": {},
   "source": [
    "# Gradient Descent Formula\n",
    "\n",
    "To avoid two vectorized calculation for ```W``` and ```b```, integrate ```b``` into ```W```.\n",
    "\n",
    "<img src=\"../image/gradient_descent.jpg\" align=\"left\"/>"
   ]
  },
  {
   "cell_type": "markdown",
   "id": "448911e0",
   "metadata": {},
   "source": [
    "# Integrate intercept (bias) into slope coefficients\n",
    "\n",
    "<img src=\"../image/intersect_to_slope.jpg\" align=\"left\" width=500/>"
   ]
  },
  {
   "cell_type": "markdown",
   "id": "4d2263ac",
   "metadata": {},
   "source": [
    "# Training"
   ]
  },
  {
   "cell_type": "code",
   "execution_count": 4,
   "id": "c32c33bc",
   "metadata": {},
   "outputs": [
    {
     "name": "stdout",
     "output_type": "stream",
     "text": [
      "Initial Loss: -154.14121401093138\n",
      "Iteration 0, Loss: -138.7269886255691\n",
      "Iteration 100, Loss: -0.0027000136649673045\n",
      "Iteration 200, Loss: 0.0009626350855769239\n",
      "Iteration 300, Loss: 0.000941173004525897\n",
      "Iteration 400, Loss: 0.0009200958803781134\n",
      "Iteration 500, Loss: 0.0008994907659247708\n",
      "Iteration 600, Loss: 0.0008793470933854408\n",
      "Iteration 700, Loss: 0.0008596545288566126\n",
      "Iteration 800, Loss: 0.0008404029701227778\n",
      "Iteration 900, Loss: 0.0008215825409099153\n",
      "Iteration 1000, Loss: 0.000803183586413514\n",
      "Iteration 1100, Loss: 0.0007851966678504851\n",
      "Iteration 1200, Loss: 0.0007676125578144344\n",
      "Iteration 1300, Loss: 0.0007504222356762291\n",
      "Iteration 1400, Loss: 0.0007336168827407619\n",
      "Iteration 1500, Loss: 0.0007171878777691987\n",
      "Iteration 1600, Loss: 0.000701126792642448\n",
      "Iteration 1700, Loss: 0.0006854253879637895\n",
      "Iteration 1800, Loss: 0.0006700756087925086\n",
      "Iteration 1900, Loss: 0.0006550695807541196\n",
      "Iteration 2000, Loss: 0.0006403996056305594\n",
      "Iteration 2100, Loss: 0.0006260581577035573\n",
      "Iteration 2200, Loss: 0.0006120378798448733\n",
      "Iteration 2300, Loss: 0.000598331579442668\n",
      "Iteration 2400, Loss: 0.000584932225168977\n",
      "Iteration 2500, Loss: 0.0005718329431343427\n",
      "Iteration 2600, Loss: 0.0005590270133861708\n",
      "Iteration 2700, Loss: 0.0005465078664097511\n",
      "Iteration 2800, Loss: 0.0005342690798486593\n",
      "Iteration 2900, Loss: 0.0005223043751314549\n",
      "Iteration 3000, Loss: 0.000510607614349734\n",
      "Iteration 3100, Loss: 0.0004991727969927418\n",
      "Iteration 3200, Loss: 0.0004879940570532426\n",
      "Iteration 3300, Loss: 0.0004770656597026246\n",
      "Iteration 3400, Loss: 0.00046638199860771223\n",
      "Iteration 3500, Loss: 0.0004559375932124965\n",
      "Iteration 3600, Loss: 0.00044572708531132044\n",
      "Iteration 3700, Loss: 0.0004357452368786152\n",
      "Iteration 3800, Loss: 0.0004259869273339767\n",
      "Iteration 3900, Loss: 0.0004164471504481959\n",
      "Iteration 4000, Loss: 0.0004071210124321212\n",
      "Iteration 4100, Loss: 0.0003980037288624505\n",
      "Iteration 4200, Loss: 0.0003890906225834101\n",
      "Iteration 4300, Loss: 0.00038037712116634204\n",
      "Iteration 4400, Loss: 0.0003718587544501162\n",
      "Iteration 4500, Loss: 0.00036353115254095236\n",
      "Iteration 4600, Loss: 0.00035539004337903357\n",
      "Iteration 4700, Loss: 0.0003474312505846733\n",
      "Iteration 4800, Loss: 0.00033965069110974966\n",
      "Iteration 4900, Loss: 0.000332044373691609\n",
      "Iteration 5000, Loss: 0.0003246083961510049\n",
      "Iteration 5100, Loss: 0.0003173389438242413\n",
      "Iteration 5200, Loss: 0.0003102322874508623\n",
      "Iteration 5300, Loss: 0.0003032847813138062\n",
      "Iteration 5400, Loss: 0.00029649286132293895\n",
      "Iteration 5500, Loss: 0.00028985304318918104\n",
      "Iteration 5600, Loss: 0.0002833619206068505\n",
      "Iteration 5700, Loss: 0.0002770161637069002\n",
      "Iteration 5800, Loss: 0.000270812517077168\n",
      "Iteration 5900, Loss: 0.0002647477981263524\n",
      "Iteration 6000, Loss: 0.0002588188957053372\n",
      "Iteration 6100, Loss: 0.00025302276827110504\n",
      "Iteration 6200, Loss: 0.0002473564424274599\n",
      "Iteration 6300, Loss: 0.00024181701125836064\n",
      "Iteration 6400, Loss: 0.000236401633074923\n",
      "Iteration 6500, Loss: 0.00023110752968769077\n",
      "Iteration 6600, Loss: 0.00022593198529197167\n",
      "Iteration 6700, Loss: 0.00022087234473566753\n",
      "Iteration 6800, Loss: 0.00021592601249498244\n",
      "Iteration 6900, Loss: 0.00021109045102440938\n",
      "Iteration 7000, Loss: 0.000206363179680924\n",
      "Iteration 7100, Loss: 0.00020174177335929855\n",
      "Iteration 7200, Loss: 0.00019722386123977032\n",
      "Iteration 7300, Loss: 0.0001928071256587227\n",
      "Iteration 7400, Loss: 0.000188489300797956\n",
      "Iteration 7500, Loss: 0.00018426817155225983\n",
      "Iteration 7600, Loss: 0.00018014157250867413\n",
      "Iteration 7700, Loss: 0.00017610738675433169\n",
      "Iteration 7800, Loss: 0.00017216354464855144\n",
      "Iteration 7900, Loss: 0.0001683080230692191\n",
      "Iteration 8000, Loss: 0.00016453884407119368\n",
      "Iteration 8100, Loss: 0.00016085407405141972\n",
      "Iteration 8200, Loss: 0.00015725182272263716\n",
      "Iteration 8300, Loss: 0.0001537302421603659\n",
      "Iteration 8400, Loss: 0.00015028752571444315\n",
      "Iteration 8500, Loss: 0.00014692190726250942\n",
      "Iteration 8600, Loss: 0.0001436316602732024\n",
      "Iteration 8700, Loss: 0.00014041509678541786\n",
      "Iteration 8800, Loss: 0.00013727056674350813\n",
      "Iteration 8900, Loss: 0.00013419645697010374\n",
      "Iteration 9000, Loss: 0.00013119119049953554\n",
      "Iteration 9100, Loss: 0.00012825322548937201\n",
      "Iteration 9200, Loss: 0.0001253810547887646\n",
      "Iteration 9300, Loss: 0.0001225732050933459\n",
      "Iteration 9400, Loss: 0.00011982823578948754\n",
      "Iteration 9500, Loss: 0.00011714473883195353\n",
      "Iteration 9600, Loss: 0.0001145213375339793\n",
      "Iteration 9700, Loss: 0.0001119566860179333\n",
      "Iteration 9800, Loss: 0.00010944946871105365\n",
      "Iteration 9900, Loss: 0.0001069983993111645\n",
      "Iteration 10000, Loss: 0.00010460222053398915\n",
      "Iteration 10100, Loss: 0.0001022597030309047\n",
      "Iteration 10200, Loss: 9.99696450756371e-05\n",
      "Iteration 10300, Loss: 9.773087187880947e-05\n",
      "Iteration 10400, Loss: 9.554223500685133e-05\n",
      "Iteration 10500, Loss: 9.340261156376428e-05\n",
      "Iteration 10600, Loss: 9.131090401215403e-05\n",
      "Iteration 10700, Loss: 8.926603930303756e-05\n",
      "Iteration 10800, Loss: 8.726696836292014e-05\n",
      "Iteration 10900, Loss: 8.531266564104634e-05\n",
      "Iteration 11000, Loss: 8.340212860091789e-05\n",
      "Iteration 11100, Loss: 8.153437720714862e-05\n",
      "Iteration 11200, Loss: 7.970845315941055e-05\n",
      "Iteration 11300, Loss: 7.792341987422624e-05\n",
      "Iteration 11400, Loss: 7.617836147244539e-05\n",
      "Iteration 11500, Loss: 7.447238295443803e-05\n",
      "Iteration 11600, Loss: 7.28046089957246e-05\n",
      "Iteration 11700, Loss: 7.11741840004887e-05\n",
      "Iteration 11800, Loss: 6.95802716290661e-05\n",
      "Iteration 11900, Loss: 6.802205415112894e-05\n",
      "Iteration 12000, Loss: 6.649873229180869e-05\n",
      "Iteration 12100, Loss: 6.50095244509874e-05\n",
      "Iteration 12200, Loss: 6.355366668486795e-05\n",
      "Iteration 12300, Loss: 6.213041227920435e-05\n",
      "Iteration 12400, Loss: 6.073903091907695e-05\n",
      "Iteration 12500, Loss: 5.937880886675018e-05\n",
      "Iteration 12600, Loss: 5.804904835793323e-05\n",
      "Iteration 12700, Loss: 5.67490672791493e-05\n",
      "Iteration 12800, Loss: 5.5478198599301365e-05\n",
      "Iteration 12900, Loss: 5.4235790449608245e-05\n",
      "Iteration 13000, Loss: 5.302120538464017e-05\n",
      "Iteration 13100, Loss: 5.183382049067653e-05\n",
      "Iteration 13200, Loss: 5.067302643047e-05\n",
      "Iteration 13300, Loss: 4.953822785891404e-05\n",
      "Iteration 13400, Loss: 4.842884255240598e-05\n",
      "Iteration 13500, Loss: 4.734430139929913e-05\n",
      "Iteration 13600, Loss: 4.628404803797004e-05\n",
      "Iteration 13700, Loss: 4.5247538537518395e-05\n",
      "Iteration 13800, Loss: 4.423424117816488e-05\n",
      "Iteration 13900, Loss: 4.324363619678806e-05\n",
      "Iteration 14000, Loss: 4.227521533151091e-05\n",
      "Iteration 14100, Loss: 4.132848176485737e-05\n",
      "Iteration 14200, Loss: 4.040294981422221e-05\n",
      "Iteration 14300, Loss: 3.949814477444136e-05\n",
      "Iteration 14400, Loss: 3.861360241042e-05\n",
      "Iteration 14500, Loss: 3.7748868960463255e-05\n",
      "Iteration 14600, Loss: 3.690350080387539e-05\n",
      "Iteration 14700, Loss: 3.607706424890722e-05\n",
      "Iteration 14800, Loss: 3.526913536711085e-05\n",
      "Iteration 14900, Loss: 3.4479299673817465e-05\n",
      "Iteration 15000, Loss: 3.3707151971151816e-05\n"
     ]
    }
   ],
   "source": [
    "model = SimpleLinearRegression()\n",
    "model.fit(X_train,y_train)"
   ]
  },
  {
   "cell_type": "markdown",
   "id": "be8478dd",
   "metadata": {},
   "source": [
    "# Evaluation"
   ]
  },
  {
   "cell_type": "code",
   "execution_count": 5,
   "id": "99b7cfee",
   "metadata": {},
   "outputs": [
    {
     "name": "stdout",
     "output_type": "stream",
     "text": [
      "Slope: [[152.93374585 906.83553627]]\n",
      "Mean squared error: 2585.94\n",
      "Coefficient of determination: 0.46\n"
     ]
    },
    {
     "data": {
      "image/png": "[encoded data removed]",
      "text/plain": [
       "<Figure size 432x288 with 1 Axes>"
      ]
     },
     "metadata": {},
     "output_type": "display_data"
    },
    {
     "name": "stdout",
     "output_type": "stream",
     "text": [
      "****** Success ******\n"
     ]
    },
    {
     "data": {
      "text/plain": [
       "True"
      ]
     },
     "execution_count": 5,
     "metadata": {},
     "output_type": "execute_result"
    }
   ],
   "source": [
    "predicted = model.predict(X_test)\n",
    "evaluate(model, X_test, y_test, predicted)"
   ]
  },
  {
   "cell_type": "markdown",
   "id": "bcb693e4",
   "metadata": {},
   "source": [
    "# Save model"
   ]
  },
  {
   "cell_type": "code",
   "execution_count": 6,
   "id": "082dcdbc",
   "metadata": {},
   "outputs": [],
   "source": [
    "model.save(\"../model/model.npy\")"
   ]
  },
  {
   "cell_type": "markdown",
   "id": "e38a2402",
   "metadata": {},
   "source": [
    "# Load model & Re-evaluate"
   ]
  },
  {
   "cell_type": "code",
   "execution_count": 11,
   "id": "231113b6",
   "metadata": {},
   "outputs": [
    {
     "name": "stdout",
     "output_type": "stream",
     "text": [
      "Slope: [[152.93375396 906.81843181]]\n",
      "Mean squared error: 2585.94\n",
      "Coefficient of determination: 0.46\n"
     ]
    },
    {
     "data": {
      "image/png": "[encoded data removed]",
      "text/plain": [
       "<Figure size 432x288 with 1 Axes>"
      ]
     },
     "metadata": {},
     "output_type": "display_data"
    },
    {
     "name": "stdout",
     "output_type": "stream",
     "text": [
      "****** Success ******\n"
     ]
    },
    {
     "data": {
      "text/plain": [
       "True"
      ]
     },
     "execution_count": 11,
     "metadata": {},
     "output_type": "execute_result"
    }
   ],
   "source": [
    "del model\n",
    "gc.collect()\n",
    "\n",
    "model = SimpleLinearRegression()\n",
    "model.load(\"../model/model.npy\")\n",
    "evaluate(model, X_test, y_test, predicted)"
   ]
  },
  {
   "cell_type": "markdown",
   "id": "98d635e5",
   "metadata": {},
   "source": [
    "---\n",
    "# Bench Mark"
   ]
  },
  {
   "cell_type": "code",
   "execution_count": 8,
   "id": "b9ecdb15",
   "metadata": {
    "scrolled": true
   },
   "outputs": [
    {
     "name": "stdout",
     "output_type": "stream",
     "text": [
      "Coefficients: \n",
      " [938.23786125]\n",
      "Mean squared error: 2548.07\n",
      "Coefficient of determination: 0.47\n"
     ]
    },
    {
     "data": {
      "image/png": "[encoded data removed]",
      "text/plain": [
       "<Figure size 432x288 with 1 Axes>"
      ]
     },
     "metadata": {},
     "output_type": "display_data"
    },
    {
     "data": {
      "text/plain": [
       "0.47257544798227147"
      ]
     },
     "execution_count": 8,
     "metadata": {},
     "output_type": "execute_result"
    }
   ],
   "source": [
    "benchmark()"
   ]
  },
  {
   "cell_type": "code",
   "execution_count": null,
   "id": "e1fb8cb0",
   "metadata": {},
   "outputs": [],
   "source": []
  }
 ],
 "metadata": {
  "kernelspec": {
   "display_name": "Python 3 (ipykernel)",
   "language": "python",
   "name": "python3"
  },
  "language_info": {
   "codemirror_mode": {
    "name": "ipython",
    "version": 3
   },
   "file_extension": ".py",
   "mimetype": "text/x-python",
   "name": "python",
   "nbconvert_exporter": "python",
   "pygments_lexer": "ipython3",
   "version": "3.8.10"
  }
 },
 "nbformat": 4,
 "nbformat_minor": 5
}
