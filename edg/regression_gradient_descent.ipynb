{
 "cells": [
  {
   "cell_type": "code",
   "execution_count": 1,
   "id": "52c204de",
   "metadata": {},
   "outputs": [],
   "source": [
    "import numpy as np\n",
    "import matplotlib.pyplot as plt\n",
    "from sklearn import datasets, linear_model\n",
    "from sklearn.metrics import mean_squared_error, r2_score"
   ]
  },
  {
   "cell_type": "code",
   "execution_count": 7,
   "id": "f5fb34f2",
   "metadata": {},
   "outputs": [],
   "source": [
    "from simple_linear_regr import (\n",
    "    add_bias,\n",
    "    SimpleLinearRegression\n",
    ")\n",
    "from simple_linear_regr_utils import (\n",
    "    generate_data, \n",
    "    evaluate\n",
    ")\n",
    "from benchmark import (\n",
    "    benchmark\n",
    ")"
   ]
  },
  {
   "cell_type": "markdown",
   "id": "d2ca341e",
   "metadata": {},
   "source": [
    "# Data"
   ]
  },
  {
   "cell_type": "code",
   "execution_count": 3,
   "id": "13dd1107",
   "metadata": {},
   "outputs": [
    {
     "name": "stdout",
     "output_type": "stream",
     "text": [
      "# Training Samples: 422; # Test samples: 20;\n",
      "X_train.shape (422, 2) y_train.shape (422, 1)\n"
     ]
    }
   ],
   "source": [
    "X_train, y_train, X_test, y_test = generate_data()\n",
    "\n",
    "X_train = add_bias(X_train)\n",
    "X_test = add_bias(X_test)\n",
    "print(f\"X_train.shape {X_train.shape} y_train.shape {y_train.shape}\")"
   ]
  },
  {
   "cell_type": "markdown",
   "id": "f67639b8",
   "metadata": {},
   "source": [
    "# Gradient Descent Formula\n",
    "\n",
    "To avoid two vectorized calculation for ```W``` and ```b```, integrate ```b``` into ```W```.\n",
    "\n",
    "<img src=\"gradient_descent.jpg\" align=\"left\"/>"
   ]
  },
  {
   "cell_type": "markdown",
   "id": "448911e0",
   "metadata": {},
   "source": [
    "# Integrate intercept (bias) into slope coefficients\n",
    "\n",
    "<img src=\"intersect_to_slope.jpg\" align=\"left\" width=500/>"
   ]
  },
  {
   "cell_type": "markdown",
   "id": "4d2263ac",
   "metadata": {},
   "source": [
    "# Training"
   ]
  },
  {
   "cell_type": "code",
   "execution_count": 4,
   "id": "c32c33bc",
   "metadata": {},
   "outputs": [
    {
     "name": "stdout",
     "output_type": "stream",
     "text": [
      "Initial Loss: -153.4190083987479\n",
      "Iteration 0, Loss: -138.07700376544506\n",
      "Iteration 100, Loss: -0.0026844600603479485\n",
      "Iteration 200, Loss: 0.0009609629530746844\n",
      "Iteration 300, Loss: 0.0009395378702756751\n",
      "Iteration 400, Loss: 0.0009184973641924721\n",
      "Iteration 500, Loss: 0.0008979280477716678\n",
      "Iteration 600, Loss: 0.0008778193715990312\n",
      "Iteration 700, Loss: 0.0008581610197144762\n",
      "Iteration 800, Loss: 0.0008389429073720756\n",
      "Iteration 900, Loss: 0.0008201551755981917\n",
      "Iteration 1000, Loss: 0.0008017881862545373\n",
      "Iteration 1100, Loss: 0.0007838325170084204\n",
      "Iteration 1200, Loss: 0.0007662789565463513\n",
      "Iteration 1300, Loss: 0.0007491184998049683\n",
      "Iteration 1400, Loss: 0.0007323423433489573\n",
      "Iteration 1500, Loss: 0.000715941881114901\n",
      "Iteration 1600, Loss: 0.0006999086994685655\n",
      "Iteration 1700, Loss: 0.0006842345733715227\n",
      "Iteration 1800, Loss: 0.0006689114620104242\n",
      "Iteration 1900, Loss: 0.0006539315044933325\n",
      "Iteration 2000, Loss: 0.0006392870160660813\n",
      "Iteration 2100, Loss: 0.0006249704841017056\n",
      "Iteration 2200, Loss: 0.0006109745640618947\n",
      "Iteration 2300, Loss: 0.0005972920761725398\n",
      "Iteration 2400, Loss: 0.0005839160010951971\n",
      "Iteration 2500, Loss: 0.000570839476901952\n",
      "Iteration 2600, Loss: 0.0005580557953646093\n",
      "Iteration 2700, Loss: 0.0005455583983384749\n",
      "Iteration 2800, Loss: 0.0005333408746466262\n",
      "Iteration 2900, Loss: 0.0005213969566537635\n",
      "Iteration 3000, Loss: 0.0005097205170772057\n",
      "Iteration 3100, Loss: 0.0004983055658760449\n",
      "Iteration 3200, Loss: 0.00048714624712919985\n",
      "Iteration 3300, Loss: 0.0004762368361332925\n",
      "Iteration 3400, Loss: 0.0004655717361869982\n",
      "Iteration 3500, Loss: 0.00045514547620628676\n",
      "Iteration 3600, Loss: 0.00044495270739219883\n",
      "Iteration 3700, Loss: 0.00043498820079634903\n",
      "Iteration 3800, Loss: 0.000425246844663274\n",
      "Iteration 3900, Loss: 0.00041572364162090203\n",
      "Iteration 4000, Loss: 0.00040641370623295536\n",
      "Iteration 4100, Loss: 0.00039731226247674556\n",
      "Iteration 4200, Loss: 0.0003884146412025391\n",
      "Iteration 4300, Loss: 0.00037971627807342756\n",
      "Iteration 4400, Loss: 0.0003712127106108021\n",
      "Iteration 4500, Loss: 0.00036289957663515615\n",
      "Iteration 4600, Loss: 0.0003547726113133365\n",
      "Iteration 4700, Loss: 0.0003468276455875774\n",
      "Iteration 4800, Loss: 0.00033906060362443036\n",
      "Iteration 4900, Loss: 0.0003314675009136181\n",
      "Iteration 5000, Loss: 0.000324044442169269\n",
      "Iteration 5100, Loss: 0.0003167876192944341\n",
      "Iteration 5200, Loss: 0.0003096933095811938\n",
      "Iteration 5300, Loss: 0.0003027578736163328\n",
      "Iteration 5400, Loss: 0.00029597775345857613\n",
      "Iteration 5500, Loss: 0.0002893494709126365\n",
      "Iteration 5600, Loss: 0.00028286962563628393\n",
      "Iteration 5700, Loss: 0.0002765348934181677\n",
      "Iteration 5800, Loss: 0.0002703420245535604\n",
      "Iteration 5900, Loss: 0.00026428784208776257\n",
      "Iteration 6000, Loss: 0.0002583692402087223\n",
      "Iteration 6100, Loss: 0.00025258318262322277\n",
      "Iteration 6200, Loss: 0.0002469267010738463\n",
      "Iteration 6300, Loss: 0.00024139689371693862\n",
      "Iteration 6400, Loss: 0.00023599092383319586\n",
      "Iteration 6500, Loss: 0.00023070601811125968\n",
      "Iteration 6600, Loss: 0.00022553946538450553\n",
      "Iteration 6700, Loss: 0.0002204886151635499\n",
      "Iteration 6800, Loss: 0.00021555087636571102\n",
      "Iteration 6900, Loss: 0.00021072371587727012\n",
      "Iteration 7000, Loss: 0.00020600465737552476\n",
      "Iteration 7100, Loss: 0.0002013912800249429\n",
      "Iteration 7200, Loss: 0.00019688121700944805\n",
      "Iteration 7300, Loss: 0.0001924721548316466\n",
      "Iteration 7400, Loss: 0.00018816183138792297\n",
      "Iteration 7500, Loss: 0.00018394803573373864\n",
      "Iteration 7600, Loss: 0.0001798286059888632\n",
      "Iteration 7700, Loss: 0.00017580142895479156\n",
      "Iteration 7800, Loss: 0.00017186443864547485\n",
      "Iteration 7900, Loss: 0.0001680156154231227\n",
      "Iteration 8000, Loss: 0.00016425298475408745\n",
      "Iteration 8100, Loss: 0.0001605746163844124\n",
      "Iteration 8200, Loss: 0.00015697862337371582\n",
      "Iteration 8300, Loss: 0.0001534631609574344\n",
      "Iteration 8400, Loss: 0.0001500264256757422\n",
      "Iteration 8500, Loss: 0.00014666665448048732\n",
      "Iteration 8600, Loss: 0.00014338212371800552\n",
      "Iteration 8700, Loss: 0.00014017114850561896\n",
      "Iteration 8800, Loss: 0.00013703208161519598\n",
      "Iteration 8900, Loss: 0.0001339633126191675\n",
      "Iteration 9000, Loss: 0.00013096326723904816\n",
      "Iteration 9100, Loss: 0.00012803040645592567\n",
      "Iteration 9200, Loss: 0.00012516322572841965\n",
      "Iteration 9300, Loss: 0.0001223602541744473\n",
      "Iteration 9400, Loss: 0.00011962005382470942\n",
      "Iteration 9500, Loss: 0.00011694121899297194\n",
      "Iteration 9600, Loss: 0.00011432237543540502\n",
      "Iteration 9700, Loss: 0.00011176217960140455\n",
      "Iteration 9800, Loss: 0.00010925931815020107\n",
      "Iteration 9900, Loss: 0.00010681250711974677\n",
      "Iteration 10000, Loss: 0.00010442049127235009\n",
      "Iteration 10100, Loss: 0.00010208204349226868\n",
      "Iteration 10200, Loss: 9.979596415821135e-05\n",
      "Iteration 10300, Loss: 9.75610805098448e-05\n",
      "Iteration 10400, Loss: 9.537624596411831e-05\n",
      "Iteration 10500, Loss: 9.324033984392521e-05\n",
      "Iteration 10600, Loss: 9.115226625255879e-05\n",
      "Iteration 10700, Loss: 8.911095413166592e-05\n",
      "Iteration 10800, Loss: 8.711535625649525e-05\n",
      "Iteration 10900, Loss: 8.516444883444052e-05\n",
      "Iteration 11000, Loss: 8.325723104118943e-05\n",
      "Iteration 11100, Loss: 8.139272454110724e-05\n",
      "Iteration 11200, Loss: 7.956997274183308e-05\n",
      "Iteration 11300, Loss: 7.77880406777065e-05\n",
      "Iteration 11400, Loss: 7.604601411292933e-05\n",
      "Iteration 11500, Loss: 7.434299935149546e-05\n",
      "Iteration 11600, Loss: 7.2678122869263e-05\n",
      "Iteration 11700, Loss: 7.105053050504573e-05\n",
      "Iteration 11800, Loss: 6.945938728386558e-05\n",
      "Iteration 11900, Loss: 6.790387701505196e-05\n",
      "Iteration 12000, Loss: 6.638320160212707e-05\n",
      "Iteration 12100, Loss: 6.4896581048135e-05\n",
      "Iteration 12200, Loss: 6.344325259610706e-05\n",
      "Iteration 12300, Loss: 6.202247086140034e-05\n",
      "Iteration 12400, Loss: 6.063350677121271e-05\n",
      "Iteration 12500, Loss: 5.927564790964013e-05\n",
      "Iteration 12600, Loss: 5.794819761173464e-05\n",
      "Iteration 12700, Loss: 5.6650475007025136e-05\n",
      "Iteration 12800, Loss: 5.538181428654809e-05\n",
      "Iteration 12900, Loss: 5.414156464356168e-05\n",
      "Iteration 13000, Loss: 5.29290897490764e-05\n",
      "Iteration 13100, Loss: 5.174376768746214e-05\n",
      "Iteration 13200, Loss: 5.0584990329616275e-05\n",
      "Iteration 13300, Loss: 4.9452163296992424e-05\n",
      "Iteration 13400, Loss: 4.834470539161195e-05\n",
      "Iteration 13500, Loss: 4.7262048391116807e-05\n",
      "Iteration 13600, Loss: 4.6203637086295046e-05\n",
      "Iteration 13700, Loss: 4.516892837447273e-05\n",
      "Iteration 13800, Loss: 4.415739143825981e-05\n",
      "Iteration 13900, Loss: 4.316850745023082e-05\n",
      "Iteration 14000, Loss: 4.2201769037797376e-05\n",
      "Iteration 14100, Loss: 4.1256680257895084e-05\n",
      "Iteration 14200, Loss: 4.0332756317873475e-05\n",
      "Iteration 14300, Loss: 3.9429523233991404e-05\n",
      "Iteration 14400, Loss: 3.854651758361527e-05\n",
      "Iteration 14500, Loss: 3.7683286469469834e-05\n",
      "Iteration 14600, Loss: 3.683938702003786e-05\n",
      "Iteration 14700, Loss: 3.601438622258257e-05\n",
      "Iteration 14800, Loss: 3.520786100597029e-05\n",
      "Iteration 14900, Loss: 3.4419397488827386e-05\n",
      "Iteration 15000, Loss: 3.36485912930673e-05\n"
     ]
    }
   ],
   "source": [
    "model = SimpleLinearRegression()\n",
    "model.fit(X_train,y_train)"
   ]
  },
  {
   "cell_type": "markdown",
   "id": "be8478dd",
   "metadata": {},
   "source": [
    "# Evaluation"
   ]
  },
  {
   "cell_type": "code",
   "execution_count": 10,
   "id": "99b7cfee",
   "metadata": {},
   "outputs": [
    {
     "name": "stdout",
     "output_type": "stream",
     "text": [
      "Slope: [[152.93371999 906.89009267]]\n",
      "Mean squared error: 2585.87\n",
      "Coefficient of determination: 0.46\n"
     ]
    },
    {
     "data": {
      "image/png": "[encoded data removed]",
      "text/plain": [
       "<Figure size 432x288 with 1 Axes>"
      ]
     },
     "metadata": {},
     "output_type": "display_data"
    },
    {
     "name": "stdout",
     "output_type": "stream",
     "text": [
      "****** Success ******\n"
     ]
    }
   ],
   "source": [
    "predicted = model.predict(X_test)\n",
    "evaluate(model, X_test[:, 1], y_test, predicted)"
   ]
  },
  {
   "cell_type": "markdown",
   "id": "98d635e5",
   "metadata": {},
   "source": [
    "---\n",
    "# Bench Mark"
   ]
  },
  {
   "cell_type": "code",
   "execution_count": 8,
   "id": "b9ecdb15",
   "metadata": {
    "scrolled": true
   },
   "outputs": [
    {
     "name": "stdout",
     "output_type": "stream",
     "text": [
      "Coefficients: \n",
      " [938.23786125]\n",
      "Mean squared error: 2548.07\n",
      "Coefficient of determination: 0.47\n"
     ]
    },
    {
     "data": {
      "image/png": "[encoded data removed]",
      "text/plain": [
       "<Figure size 432x288 with 1 Axes>"
      ]
     },
     "metadata": {},
     "output_type": "display_data"
    },
    {
     "data": {
      "text/plain": [
       "0.47257544798227147"
      ]
     },
     "execution_count": 8,
     "metadata": {},
     "output_type": "execute_result"
    }
   ],
   "source": [
    "benchmark()"
   ]
  }
 ],
 "metadata": {
  "kernelspec": {
   "display_name": "Python 3 (ipykernel)",
   "language": "python",
   "name": "python3"
  },
  "language_info": {
   "codemirror_mode": {
    "name": "ipython",
    "version": 3
   },
   "file_extension": ".py",
   "mimetype": "text/x-python",
   "name": "python",
   "nbconvert_exporter": "python",
   "pygments_lexer": "ipython3",
   "version": "3.8.10"
  }
 },
 "nbformat": 4,
 "nbformat_minor": 5
}
