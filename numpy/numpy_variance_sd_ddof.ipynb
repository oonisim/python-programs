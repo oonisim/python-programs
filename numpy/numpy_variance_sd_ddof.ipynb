{
 "cells": [
  {
   "cell_type": "code",
   "execution_count": 64,
   "id": "sitting-importance",
   "metadata": {},
   "outputs": [],
   "source": [
    "import numpy as np"
   ]
  },
  {
   "cell_type": "code",
   "execution_count": 65,
   "id": "changed-torture",
   "metadata": {},
   "outputs": [],
   "source": [
    "import sys\n",
    "import numpy as np\n",
    "np.set_printoptions(threshold=sys.maxsize)\n",
    "np.set_printoptions(linewidth=1000) "
   ]
  },
  {
   "cell_type": "markdown",
   "id": "decimal-satisfaction",
   "metadata": {},
   "source": [
    "# Variance, SD Delta of degree of freedom\n",
    "\n",
    "* [Why we divide by n - 1 in variance](https://www.khanacademy.org/math/ap-statistics/summarizing-quantitative-data-ap/more-standard-deviation/v/another-simulation-giving-evidence-that-n-1-gives-us-an-unbiased-estimate-of-variance)\n",
    "* [numpy.var(a, axis=None, dtype=None, out=None, ddof=0, keepdims=, *, where=)](https://numpy.org/doc/stable/reference/generated/numpy.var.html)\n",
    "\n",
    "* [Why does numpy std() give a different result to matlab std()?](https://stackoverflow.com/a/27600240/4281353)\n",
    "\n",
    ">  if we select **a random sample of N elements from a larger distribution** and calculate **the variance, division by N can lead to an underestimate of the actual variance**. To fix this, we can lower the number we divide by (the degrees of freedom) to a number less than N (usually N-1). The ddof parameter allows us change the divisor by the amount we specify.\n",
    "\n",
    "> Unless told otherwise, **NumPy will calculate the biased estimator for the variance (ddof=0, dividing by N)**. This is what you want if you are working with the entire distribution (and not a subset of values which have been randomly picked from a larger distribution). If the ddof parameter is given, NumPy divides by ```N - ddof``` instead.\n",
    "\n"
   ]
  },
  {
   "cell_type": "code",
   "execution_count": 71,
   "id": "exposed-stevens",
   "metadata": {},
   "outputs": [
    {
     "name": "stdout",
     "output_type": "stream",
     "text": [
      "[[0.50432436 0.24774287 0.78508503 0.02998489]\n",
      " [0.0591372  0.76913613 0.07527494 0.49851145]\n",
      " [0.66271597 0.97914288 0.10996968 0.1794072 ]]\n",
      "ddof=1 0.11120287593108773\n",
      "ddof=0 0.10193596960349709\n"
     ]
    }
   ],
   "source": [
    "X = np.random.rand(3, 4)\n",
    "print(X)\n",
    "print(f\"ddof=1 {np.var(X, ddof=1)}\")\n",
    "print(f\"ddof=0 {np.var(X, ddof=0)}\")"
   ]
  },
  {
   "cell_type": "markdown",
   "id": "stock-standard",
   "metadata": {},
   "source": [
    "You need to make sure ```ddof=(N-1) > 0``` at ```Variance / (N-1)```."
   ]
  },
  {
   "cell_type": "code",
   "execution_count": 37,
   "id": "finite-alberta",
   "metadata": {},
   "outputs": [
    {
     "name": "stderr",
     "output_type": "stream",
     "text": [
      "/home/oonisim/conda/envs/python_programs/lib/python3.8/site-packages/numpy/core/_methods.py:233: RuntimeWarning: Degrees of freedom <= 0 for slice\n",
      "  ret = _var(a, axis=axis, dtype=dtype, out=out, ddof=ddof,\n",
      "/home/oonisim/conda/envs/python_programs/lib/python3.8/site-packages/numpy/core/_methods.py:226: RuntimeWarning: invalid value encountered in double_scalars\n",
      "  ret = ret.dtype.type(ret / rcount)\n"
     ]
    },
    {
     "data": {
      "text/plain": [
       "nan"
      ]
     },
     "execution_count": 37,
     "metadata": {},
     "output_type": "execute_result"
    }
   ],
   "source": [
    "np.std([1], ddof=1)"
   ]
  }
 ],
 "metadata": {
  "kernelspec": {
   "display_name": "Python 3",
   "language": "python",
   "name": "python3"
  },
  "language_info": {
   "codemirror_mode": {
    "name": "ipython",
    "version": 3
   },
   "file_extension": ".py",
   "mimetype": "text/x-python",
   "name": "python",
   "nbconvert_exporter": "python",
   "pygments_lexer": "ipython3",
   "version": "3.8.8"
  }
 },
 "nbformat": 4,
 "nbformat_minor": 5
}
