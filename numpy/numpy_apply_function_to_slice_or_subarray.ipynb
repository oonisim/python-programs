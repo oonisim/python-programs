{
 "cells": [
  {
   "cell_type": "markdown",
   "id": "4ebc2204",
   "metadata": {},
   "source": [
    "# How to apply function to slice\n",
    "\n",
    "* [Best way to apply a function to a slice of a 3d numpy array](https://stackoverflow.com/questions/49480148/best-way-to-apply-a-function-to-a-slice-of-a-3d-numpy-array)\n",
    "\n",
    "> vectorize normally feeds scalars to the function, but the newer versions have signature parameter that allow us to use it as:\n",
    "> ```f = np.vectorize(foo, signature='(n,m)->()')```"
   ]
  },
  {
   "cell_type": "code",
   "execution_count": 1,
   "id": "e97a6f87",
   "metadata": {},
   "outputs": [],
   "source": [
    "import numpy as np"
   ]
  },
  {
   "cell_type": "code",
   "execution_count": 3,
   "id": "53e1e3c2",
   "metadata": {},
   "outputs": [
    {
     "data": {
      "text/plain": [
       "array([[[ 0,  1,  2,  3],\n",
       "        [ 4,  5,  6,  7],\n",
       "        [ 8,  9, 10, 11]],\n",
       "\n",
       "       [[12, 13, 14, 15],\n",
       "        [16, 17, 18, 19],\n",
       "        [20, 21, 22, 23]]])"
      ]
     },
     "execution_count": 3,
     "metadata": {},
     "output_type": "execute_result"
    }
   ],
   "source": [
    "a = np.arange(24).reshape(2,3,4)\n",
    "a"
   ]
  },
  {
   "cell_type": "markdown",
   "id": "75e2d715",
   "metadata": {},
   "source": [
    "## Transpose sub arrays"
   ]
  },
  {
   "cell_type": "code",
   "execution_count": 20,
   "id": "0a617dfe",
   "metadata": {},
   "outputs": [],
   "source": [
    "def f(x: np.ndarray) -> np.ndarray:\n",
    "    assert x.shape == (3, 4)\n",
    "    return x.T\n"
   ]
  },
  {
   "cell_type": "code",
   "execution_count": 21,
   "id": "22456ae4",
   "metadata": {},
   "outputs": [],
   "source": [
    "f_vectorized = np.vectorize(f, signature=\"(n,d)->(d,n)\")"
   ]
  },
  {
   "cell_type": "code",
   "execution_count": 22,
   "id": "51b550ac",
   "metadata": {},
   "outputs": [
    {
     "data": {
      "text/plain": [
       "array([[[ 0,  4,  8],\n",
       "        [ 1,  5,  9],\n",
       "        [ 2,  6, 10],\n",
       "        [ 3,  7, 11]],\n",
       "\n",
       "       [[12, 16, 20],\n",
       "        [13, 17, 21],\n",
       "        [14, 18, 22],\n",
       "        [15, 19, 23]]])"
      ]
     },
     "execution_count": 22,
     "metadata": {},
     "output_type": "execute_result"
    }
   ],
   "source": [
    "f_vectorized(a)"
   ]
  },
  {
   "cell_type": "markdown",
   "id": "584b4a86",
   "metadata": {},
   "source": [
    "## Column-wise mean on each subarray (3, 4)"
   ]
  },
  {
   "cell_type": "code",
   "execution_count": 29,
   "id": "03d9e9ee",
   "metadata": {},
   "outputs": [],
   "source": [
    "def column_wise_mean(x: np.ndarray) -> np.ndarray:\n",
    "    assert x.shape == (3, 4)\n",
    "    return x.mean(axis=0, keepdims=True)"
   ]
  },
  {
   "cell_type": "code",
   "execution_count": 30,
   "id": "d9e06b42",
   "metadata": {},
   "outputs": [],
   "source": [
    "column_wise_mean_vectorized = np.vectorize(column_wise_mean, signature=\"(n,d)->(1,d)\")"
   ]
  },
  {
   "cell_type": "code",
   "execution_count": 31,
   "id": "1d25ab4e",
   "metadata": {},
   "outputs": [
    {
     "data": {
      "text/plain": [
       "array([[[ 4.,  5.,  6.,  7.]],\n",
       "\n",
       "       [[16., 17., 18., 19.]]])"
      ]
     },
     "execution_count": 31,
     "metadata": {},
     "output_type": "execute_result"
    }
   ],
   "source": [
    "column_wise_mean_vectorized(a)"
   ]
  },
  {
   "cell_type": "code",
   "execution_count": null,
   "id": "c9b27882",
   "metadata": {},
   "outputs": [],
   "source": []
  }
 ],
 "metadata": {
  "kernelspec": {
   "display_name": "Python 3 (ipykernel)",
   "language": "python",
   "name": "python3"
  },
  "language_info": {
   "codemirror_mode": {
    "name": "ipython",
    "version": 3
   },
   "file_extension": ".py",
   "mimetype": "text/x-python",
   "name": "python",
   "nbconvert_exporter": "python",
   "pygments_lexer": "ipython3",
   "version": "3.9.13"
  }
 },
 "nbformat": 4,
 "nbformat_minor": 5
}
