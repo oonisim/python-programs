{
 "cells": [
  {
   "cell_type": "markdown",
   "id": "acting-palace",
   "metadata": {},
   "source": [
    "# References\n",
    "\n",
    "* [Understanding Data Types in Python (MUST)](https://jakevdp.github.io/PythonDataScienceHandbook/02.01-understanding-data-types.html)"
   ]
  },
  {
   "cell_type": "code",
   "execution_count": 5,
   "id": "material-hypothesis",
   "metadata": {},
   "outputs": [],
   "source": [
    "import numpy as np"
   ]
  },
  {
   "cell_type": "markdown",
   "id": "southwest-tradition",
   "metadata": {},
   "source": [
    "# What is numpy dtype\n",
    "\n",
    "Every numpy object has ```dtype``` attribute that describes the semantic of the object.\n",
    "\n",
    "* [Data type objects (dtype)](https://numpy.org/doc/stable/reference/arrays.dtypes.html)\n",
    "\n",
    "> A data type object (an instance of numpy.dtype class) describes how the bytes in the fixed-size block of memory corresponding to an array item should be interpreted. It describes the following aspects of the data:\n",
    "><br>\n",
    "> * Type of the data (integer, float, Python object, etc.)\n",
    "> * Size of the data (how many bytes is in e.g. the integer)\n",
    "> * Byte order of the data (little-endian or big-endian)\n",
    "> * If the data type is structured data type, an aggregate of other data types, (e.g., describing an array item consisting of an integer and a float),\n",
    ">     * what are the names of the “fields” of the structure, by which they can be accessed,\n",
    ">     * what is the data-type of each field, and\n",
    ">     * which part of the memory block each field takes.\n",
    "> \n",
    "> * If the data type is a sub-array, what is its shape and data type."
   ]
  },
  {
   "cell_type": "markdown",
   "id": "located-validity",
   "metadata": {},
   "source": [
    "---\n",
    "# Numpy object types\n",
    "\n",
    "1. Primitive (np.number, etc)\n",
    "2. ND Array (ndarray)"
   ]
  },
  {
   "cell_type": "markdown",
   "id": "urban-service",
   "metadata": {},
   "source": [
    "## Numpy primitive type and its hierarchy\n",
    "\n",
    "All the number type has ```np.number``` as its parent."
   ]
  },
  {
   "cell_type": "code",
   "execution_count": 116,
   "id": "convinced-butler",
   "metadata": {},
   "outputs": [
    {
     "name": "stdout",
     "output_type": "stream",
     "text": [
      "True\n",
      "True\n",
      "True\n"
     ]
    }
   ],
   "source": [
    "print(issubclass(np.floating, np.number))\n",
    "print(issubclass(np.complexfloating, np.number))\n",
    "print(issubclass(np.integer, np.number))"
   ]
  },
  {
   "cell_type": "markdown",
   "id": "boolean-highlight",
   "metadata": {},
   "source": [
    "### Primitive has ```()``` shape"
   ]
  },
  {
   "cell_type": "code",
   "execution_count": 119,
   "id": "broken-custody",
   "metadata": {},
   "outputs": [
    {
     "data": {
      "text/plain": [
       "()"
      ]
     },
     "execution_count": 119,
     "metadata": {},
     "output_type": "execute_result"
    }
   ],
   "source": [
    "np.float32(1).shape"
   ]
  },
  {
   "cell_type": "markdown",
   "id": "sacred-pottery",
   "metadata": {},
   "source": [
    "### Float primitive has ```np.floating``` base type"
   ]
  },
  {
   "cell_type": "code",
   "execution_count": 51,
   "id": "devoted-ultimate",
   "metadata": {},
   "outputs": [
    {
     "data": {
      "text/plain": [
       "numpy.float32"
      ]
     },
     "execution_count": 51,
     "metadata": {},
     "output_type": "execute_result"
    }
   ],
   "source": [
    "np.float32(1).__class__"
   ]
  },
  {
   "cell_type": "code",
   "execution_count": 78,
   "id": "happy-screw",
   "metadata": {},
   "outputs": [
    {
     "data": {
      "text/plain": [
       "True"
      ]
     },
     "execution_count": 78,
     "metadata": {},
     "output_type": "execute_result"
    }
   ],
   "source": [
    "issubclass(np.float32, np.floating)"
   ]
  },
  {
   "cell_type": "code",
   "execution_count": 106,
   "id": "partial-match",
   "metadata": {},
   "outputs": [
    {
     "data": {
      "text/plain": [
       "True"
      ]
     },
     "execution_count": 106,
     "metadata": {},
     "output_type": "execute_result"
    }
   ],
   "source": [
    "np.issubdtype(np.float32, np.floating)"
   ]
  },
  {
   "cell_type": "code",
   "execution_count": 111,
   "id": "bacterial-ladder",
   "metadata": {},
   "outputs": [
    {
     "data": {
      "text/plain": [
       "True"
      ]
     },
     "execution_count": 111,
     "metadata": {},
     "output_type": "execute_result"
    }
   ],
   "source": [
    "hasattr(np.floating, \"dtype\")"
   ]
  },
  {
   "cell_type": "code",
   "execution_count": 113,
   "id": "creative-pantyhose",
   "metadata": {},
   "outputs": [
    {
     "data": {
      "text/plain": [
       "['T',\n",
       " '__abs__',\n",
       " '__add__',\n",
       " '__and__',\n",
       " '__array__',\n",
       " '__array_interface__',\n",
       " '__array_priority__',\n",
       " '__array_struct__',\n",
       " '__array_wrap__',\n",
       " '__bool__',\n",
       " '__class__',\n",
       " '__copy__',\n",
       " '__deepcopy__',\n",
       " '__delattr__',\n",
       " '__dir__',\n",
       " '__divmod__',\n",
       " '__doc__',\n",
       " '__eq__',\n",
       " '__float__',\n",
       " '__floordiv__',\n",
       " '__format__',\n",
       " '__ge__',\n",
       " '__getattribute__',\n",
       " '__getitem__',\n",
       " '__gt__',\n",
       " '__hash__',\n",
       " '__init__',\n",
       " '__init_subclass__',\n",
       " '__int__',\n",
       " '__invert__',\n",
       " '__le__',\n",
       " '__lshift__',\n",
       " '__lt__',\n",
       " '__mod__',\n",
       " '__mul__',\n",
       " '__ne__',\n",
       " '__neg__',\n",
       " '__new__',\n",
       " '__or__',\n",
       " '__pos__',\n",
       " '__pow__',\n",
       " '__radd__',\n",
       " '__rand__',\n",
       " '__rdivmod__',\n",
       " '__reduce__',\n",
       " '__reduce_ex__',\n",
       " '__repr__',\n",
       " '__rfloordiv__',\n",
       " '__rlshift__',\n",
       " '__rmod__',\n",
       " '__rmul__',\n",
       " '__ror__',\n",
       " '__round__',\n",
       " '__rpow__',\n",
       " '__rrshift__',\n",
       " '__rshift__',\n",
       " '__rsub__',\n",
       " '__rtruediv__',\n",
       " '__rxor__',\n",
       " '__setattr__',\n",
       " '__setstate__',\n",
       " '__sizeof__',\n",
       " '__str__',\n",
       " '__sub__',\n",
       " '__subclasshook__',\n",
       " '__truediv__',\n",
       " '__xor__',\n",
       " 'all',\n",
       " 'any',\n",
       " 'argmax',\n",
       " 'argmin',\n",
       " 'argsort',\n",
       " 'astype',\n",
       " 'base',\n",
       " 'byteswap',\n",
       " 'choose',\n",
       " 'clip',\n",
       " 'compress',\n",
       " 'conj',\n",
       " 'conjugate',\n",
       " 'copy',\n",
       " 'cumprod',\n",
       " 'cumsum',\n",
       " 'data',\n",
       " 'diagonal',\n",
       " 'dtype',\n",
       " 'dump',\n",
       " 'dumps',\n",
       " 'fill',\n",
       " 'flags',\n",
       " 'flat',\n",
       " 'flatten',\n",
       " 'getfield',\n",
       " 'imag',\n",
       " 'item',\n",
       " 'itemset',\n",
       " 'itemsize',\n",
       " 'max',\n",
       " 'mean',\n",
       " 'min',\n",
       " 'nbytes',\n",
       " 'ndim',\n",
       " 'newbyteorder',\n",
       " 'nonzero',\n",
       " 'prod',\n",
       " 'ptp',\n",
       " 'put',\n",
       " 'ravel',\n",
       " 'real',\n",
       " 'repeat',\n",
       " 'reshape',\n",
       " 'resize',\n",
       " 'round',\n",
       " 'searchsorted',\n",
       " 'setfield',\n",
       " 'setflags',\n",
       " 'shape',\n",
       " 'size',\n",
       " 'sort',\n",
       " 'squeeze',\n",
       " 'std',\n",
       " 'strides',\n",
       " 'sum',\n",
       " 'swapaxes',\n",
       " 'take',\n",
       " 'tobytes',\n",
       " 'tofile',\n",
       " 'tolist',\n",
       " 'tostring',\n",
       " 'trace',\n",
       " 'transpose',\n",
       " 'var',\n",
       " 'view']"
      ]
     },
     "execution_count": 113,
     "metadata": {},
     "output_type": "execute_result"
    }
   ],
   "source": [
    "dir(np.floating)"
   ]
  },
  {
   "cell_type": "markdown",
   "id": "internal-syndicate",
   "metadata": {},
   "source": [
    "### np primitive type is not ndarray\n",
    "\n",
    "Both np primitive and scalar ndarray are **scalar** and have **shape** attribute, but they are NOT the same (confusion point). "
   ]
  },
  {
   "cell_type": "code",
   "execution_count": 47,
   "id": "independent-finance",
   "metadata": {},
   "outputs": [
    {
     "name": "stdout",
     "output_type": "stream",
     "text": [
      "Is np.float32(1) same with np.array(1, dtype=np.float32)? False\n",
      "np.float32(1).shape is ()\n",
      "np.array(1, dtype=np.float32).shape is ()\n"
     ]
    }
   ],
   "source": [
    "print(f\"Is np.float32(1) same with np.array(1, dtype=np.float32)? {np.float32(1) is np.array(1, dtype=np.float32)}\")\n",
    "print(f\"np.float32(1).shape is {np.float32(1).shape}\")\n",
    "print(f\"np.array(1, dtype=np.float32).shape is {np.array(1, dtype=np.float32).shape}\")"
   ]
  },
  {
   "cell_type": "markdown",
   "id": "derived-agent",
   "metadata": {},
   "source": [
    "## Numpy ndarray type \n",
    "\n",
    "```np.ndarray``` is the array container of numpy primitive type(s). \n",
    "\n",
    "* The ```dtype``` attribute of ```np.ndarray``` is the np primitige type."
   ]
  },
  {
   "cell_type": "code",
   "execution_count": 127,
   "id": "perfect-liabilities",
   "metadata": {},
   "outputs": [
    {
     "data": {
      "text/plain": [
       "True"
      ]
     },
     "execution_count": 127,
     "metadata": {},
     "output_type": "execute_result"
    }
   ],
   "source": [
    "a = np.array(1, dtype=np.float32)\n",
    "np.issubdtype(a.dtype, np.float32)"
   ]
  },
  {
   "cell_type": "code",
   "execution_count": 131,
   "id": "fallen-paradise",
   "metadata": {},
   "outputs": [
    {
     "data": {
      "text/plain": [
       "True"
      ]
     },
     "execution_count": 131,
     "metadata": {},
     "output_type": "execute_result"
    }
   ],
   "source": [
    "a.dtype == np.float32"
   ]
  },
  {
   "cell_type": "markdown",
   "id": "approximate-surprise",
   "metadata": {},
   "source": [
    "---\n",
    "# Default np.float is Python float\n",
    "\n",
    "* [Difference between Python float and numpy float32](https://stackoverflow.com/a/16964006/4281353)\n",
    "\n",
    "> Note that **numpy.float is just an alias to Python's float type**. It is **NOT** a numpy scalar type like numpy.float64. \n",
    ">\n",
    "> The name is only exposed for backwards compatibility with a very early version of numpy that inappropriately exposed numpy.float64 as numpy.float, causing problems when people did from numpy import *"
   ]
  },
  {
   "cell_type": "markdown",
   "id": "dimensional-canal",
   "metadata": {},
   "source": [
    "### np.float64 is NOT np.float\n",
    "\n",
    "```np.float64(1) == np.float(1)``` because they have **same value** but they are NOT the same. \n",
    "\n",
    "* ```np.float(1)``` has no **shape** attribute as it is Python float."
   ]
  },
  {
   "cell_type": "code",
   "execution_count": 18,
   "id": "historical-salem",
   "metadata": {},
   "outputs": [
    {
     "data": {
      "text/plain": [
       "False"
      ]
     },
     "execution_count": 18,
     "metadata": {},
     "output_type": "execute_result"
    }
   ],
   "source": [
    "np.float64(1) is np.float(1)"
   ]
  },
  {
   "cell_type": "code",
   "execution_count": 21,
   "id": "upper-tobacco",
   "metadata": {},
   "outputs": [
    {
     "name": "stdout",
     "output_type": "stream",
     "text": [
      "np.float64(1).shape is ()\n"
     ]
    },
    {
     "ename": "AttributeError",
     "evalue": "'float' object has no attribute 'shape'",
     "output_type": "error",
     "traceback": [
      "\u001b[0;31m---------------------------------------------------------------------------\u001b[0m",
      "\u001b[0;31mAttributeError\u001b[0m                            Traceback (most recent call last)",
      "\u001b[0;32m<ipython-input-21-ad378a50e356>\u001b[0m in \u001b[0;36m<module>\u001b[0;34m\u001b[0m\n\u001b[1;32m      3\u001b[0m \u001b[0;34m\u001b[0m\u001b[0m\n\u001b[1;32m      4\u001b[0m \u001b[0;31m# AttributeError: 'float' object has no attribute 'shape' because it is an alias of Python float\u001b[0m\u001b[0;34m\u001b[0m\u001b[0;34m\u001b[0m\u001b[0;34m\u001b[0m\u001b[0m\n\u001b[0;32m----> 5\u001b[0;31m \u001b[0mprint\u001b[0m\u001b[0;34m(\u001b[0m\u001b[0;34mf\"np.float(1).shape is {np.float(1).shape}\"\u001b[0m\u001b[0;34m)\u001b[0m \u001b[0;31m#\u001b[0m\u001b[0;34m\u001b[0m\u001b[0;34m\u001b[0m\u001b[0m\n\u001b[0m",
      "\u001b[0;31mAttributeError\u001b[0m: 'float' object has no attribute 'shape'"
     ]
    }
   ],
   "source": [
    "# np.float64 has shape () because it is ndarray\n",
    "print(f\"np.float64(1).shape is {np.float64(1).shape}\")\n",
    "\n",
    "# AttributeError: 'float' object has no attribute 'shape' because it is an alias of Python float\n",
    "print(f\"np.float(1).shape is {np.float(1).shape}\") # "
   ]
  },
  {
   "cell_type": "markdown",
   "id": "digital-indonesian",
   "metadata": {},
   "source": [
    "### Avoid np.float\n",
    "\n",
    "Because it is an alias of Python float, avoid it and stick to the numpy domain. When work with Numpy, be consistent by NOT mixing Python types and Numpy types."
   ]
  },
  {
   "cell_type": "code",
   "execution_count": 6,
   "id": "little-individual",
   "metadata": {},
   "outputs": [
    {
     "name": "stdout",
     "output_type": "stream",
     "text": [
      "True\n",
      "True\n",
      "float64\n"
     ]
    }
   ],
   "source": [
    "# Default float type is np.float64 which is the same with Python float\n",
    "x = np.array(1.0)                        \n",
    "y = np.array(1, dtype=float)\n",
    "z = np.array(1.0, dtype=np.float64)\n",
    "print(x.dtype == y.dtype == z.dtype == np.float)\n",
    "print(x.dtype == float)\n",
    "print(x.dtype)"
   ]
  },
  {
   "cell_type": "markdown",
   "id": "premium-seafood",
   "metadata": {},
   "source": [
    "# numpy.finfo(dtype)\n",
    "\n",
    "* [class numpy.finfo(dtype)](https://numpy.org/doc/stable/reference/generated/numpy.finfo.html)\n",
    "\n",
    "> Machine limits for floating point types."
   ]
  },
  {
   "cell_type": "code",
   "execution_count": 3,
   "id": "celtic-overall",
   "metadata": {},
   "outputs": [
    {
     "data": {
      "text/plain": [
       "finfo(resolution=1e-15, min=-1.7976931348623157e+308, max=1.7976931348623157e+308, dtype=float64)"
      ]
     },
     "execution_count": 3,
     "metadata": {},
     "output_type": "execute_result"
    }
   ],
   "source": [
    "np.finfo(float)"
   ]
  },
  {
   "cell_type": "code",
   "execution_count": 4,
   "id": "quiet-webster",
   "metadata": {},
   "outputs": [
    {
     "data": {
      "text/plain": [
       "finfo(resolution=1e-15, min=-1.7976931348623157e+308, max=1.7976931348623157e+308, dtype=float64)"
      ]
     },
     "execution_count": 4,
     "metadata": {},
     "output_type": "execute_result"
    }
   ],
   "source": [
    "np.finfo(np.float64)"
   ]
  },
  {
   "cell_type": "code",
   "execution_count": 5,
   "id": "minor-difficulty",
   "metadata": {},
   "outputs": [
    {
     "data": {
      "text/plain": [
       "finfo(resolution=1e-15, min=-1.7976931348623157e+308, max=1.7976931348623157e+308, dtype=float64)"
      ]
     },
     "execution_count": 5,
     "metadata": {},
     "output_type": "execute_result"
    }
   ],
   "source": [
    "np.finfo(np.float)"
   ]
  },
  {
   "cell_type": "markdown",
   "id": "boring-blogger",
   "metadata": {},
   "source": [
    "# Check if of a float type\n",
    "\n",
    "* [isinistance(np.float32, float) is false #13133](https://github.com/numpy/numpy/issues/13133#issuecomment-473567580)\n",
    "* [How to check if a number is a np.float64 or np.float32 or np.float16?](https://stackoverflow.com/a/28293294/4281353)"
   ]
  },
  {
   "cell_type": "code",
   "execution_count": 142,
   "id": "instrumental-hybrid",
   "metadata": {},
   "outputs": [],
   "source": [
    "def is_np_float(X):\n",
    "    return \\\n",
    "        np.issubdtype(type(X), np.floating) or \\\n",
    "        (isinstance(X, np.ndarray) and np.issubdtype(X.dtype, np.floating)) "
   ]
  },
  {
   "cell_type": "code",
   "execution_count": 151,
   "id": "induced-brunswick",
   "metadata": {},
   "outputs": [
    {
     "data": {
      "text/plain": [
       "True"
      ]
     },
     "execution_count": 151,
     "metadata": {},
     "output_type": "execute_result"
    }
   ],
   "source": [
    "is_np_float(1.0)"
   ]
  },
  {
   "cell_type": "code",
   "execution_count": 147,
   "id": "rental-oregon",
   "metadata": {},
   "outputs": [
    {
     "data": {
      "text/plain": [
       "True"
      ]
     },
     "execution_count": 147,
     "metadata": {},
     "output_type": "execute_result"
    }
   ],
   "source": [
    "x = np.array(1, dtype=float)\n",
    "is_np_float(x)"
   ]
  },
  {
   "cell_type": "code",
   "execution_count": 152,
   "id": "strategic-consistency",
   "metadata": {},
   "outputs": [
    {
     "data": {
      "text/plain": [
       "True"
      ]
     },
     "execution_count": 152,
     "metadata": {},
     "output_type": "execute_result"
    }
   ],
   "source": [
    "x = np.array(1, dtype=np.float32)\n",
    "is_np_float(x)"
   ]
  },
  {
   "cell_type": "code",
   "execution_count": 153,
   "id": "rising-bulletin",
   "metadata": {},
   "outputs": [
    {
     "data": {
      "text/plain": [
       "True"
      ]
     },
     "execution_count": 153,
     "metadata": {},
     "output_type": "execute_result"
    }
   ],
   "source": [
    "x = np.random.rand(3,4)\n",
    "is_np_float(x)"
   ]
  },
  {
   "cell_type": "markdown",
   "id": "loved-suffering",
   "metadata": {},
   "source": [
    "## Check if scalar is type float"
   ]
  },
  {
   "cell_type": "code",
   "execution_count": 19,
   "id": "collaborative-zimbabwe",
   "metadata": {},
   "outputs": [],
   "source": [
    "def is_scalar_float_type(x):\n",
    "    return np.issubdtype(x, np.floating)"
   ]
  },
  {
   "cell_type": "code",
   "execution_count": 20,
   "id": "tracked-maria",
   "metadata": {},
   "outputs": [
    {
     "data": {
      "text/plain": [
       "True"
      ]
     },
     "execution_count": 20,
     "metadata": {},
     "output_type": "execute_result"
    }
   ],
   "source": [
    "is_scalar_float_type(type(1.0))"
   ]
  },
  {
   "cell_type": "code",
   "execution_count": 21,
   "id": "published-baker",
   "metadata": {},
   "outputs": [
    {
     "data": {
      "text/plain": [
       "True"
      ]
     },
     "execution_count": 21,
     "metadata": {},
     "output_type": "execute_result"
    }
   ],
   "source": [
    "is_scalar_float_type(float)"
   ]
  },
  {
   "cell_type": "code",
   "execution_count": 22,
   "id": "coordinate-rover",
   "metadata": {},
   "outputs": [
    {
     "data": {
      "text/plain": [
       "True"
      ]
     },
     "execution_count": 22,
     "metadata": {},
     "output_type": "execute_result"
    }
   ],
   "source": [
    "is_scalar_float_type(np.float16(1))"
   ]
  },
  {
   "cell_type": "markdown",
   "id": "liked-pencil",
   "metadata": {},
   "source": [
    "## Check if ndarray is of float type\n",
    "\n",
    "Check if ```np.issubdtype()```"
   ]
  },
  {
   "cell_type": "code",
   "execution_count": 15,
   "id": "comparable-toyota",
   "metadata": {},
   "outputs": [],
   "source": [
    "def is_nd_float_type(X):\n",
    "    return np.issubdtype(X.dtype, np.floating)"
   ]
  },
  {
   "cell_type": "code",
   "execution_count": 16,
   "id": "magnetic-fossil",
   "metadata": {},
   "outputs": [
    {
     "name": "stdout",
     "output_type": "stream",
     "text": [
      "True\n"
     ]
    }
   ],
   "source": [
    "X = np.random.rand(3,4).astype(np.float16)\n",
    "print(is_nd_float_type(X))"
   ]
  },
  {
   "cell_type": "code",
   "execution_count": 17,
   "id": "modular-bahamas",
   "metadata": {},
   "outputs": [
    {
     "name": "stdout",
     "output_type": "stream",
     "text": [
      "True\n"
     ]
    }
   ],
   "source": [
    "X = np.array(1.0, dtype=np.float32)\n",
    "print(is_nd_float_type(X))"
   ]
  },
  {
   "cell_type": "code",
   "execution_count": null,
   "id": "respected-franklin",
   "metadata": {},
   "outputs": [],
   "source": []
  },
  {
   "cell_type": "code",
   "execution_count": 31,
   "id": "bizarre-thanks",
   "metadata": {},
   "outputs": [
    {
     "data": {
      "text/plain": [
       "['__repr__',\n",
       " '__hash__',\n",
       " '__getattribute__',\n",
       " '__lt__',\n",
       " '__le__',\n",
       " '__eq__',\n",
       " '__ne__',\n",
       " '__gt__',\n",
       " '__ge__',\n",
       " '__add__',\n",
       " '__radd__',\n",
       " '__sub__',\n",
       " '__rsub__',\n",
       " '__mul__',\n",
       " '__rmul__',\n",
       " '__mod__',\n",
       " '__rmod__',\n",
       " '__divmod__',\n",
       " '__rdivmod__',\n",
       " '__pow__',\n",
       " '__rpow__',\n",
       " '__neg__',\n",
       " '__pos__',\n",
       " '__abs__',\n",
       " '__bool__',\n",
       " '__int__',\n",
       " '__float__',\n",
       " '__floordiv__',\n",
       " '__rfloordiv__',\n",
       " '__truediv__',\n",
       " '__rtruediv__',\n",
       " '__new__',\n",
       " 'conjugate',\n",
       " '__trunc__',\n",
       " '__round__',\n",
       " 'as_integer_ratio',\n",
       " 'fromhex',\n",
       " 'hex',\n",
       " 'is_integer',\n",
       " '__getnewargs__',\n",
       " '__getformat__',\n",
       " '__set_format__',\n",
       " '__format__',\n",
       " 'real',\n",
       " 'imag',\n",
       " '__doc__',\n",
       " '__str__',\n",
       " '__setattr__',\n",
       " '__delattr__',\n",
       " '__init__',\n",
       " '__reduce_ex__',\n",
       " '__reduce__',\n",
       " '__subclasshook__',\n",
       " '__init_subclass__',\n",
       " '__sizeof__',\n",
       " '__dir__',\n",
       " '__class__']"
      ]
     },
     "execution_count": 31,
     "metadata": {},
     "output_type": "execute_result"
    }
   ],
   "source": [
    "float(1).__dir__()"
   ]
  }
 ],
 "metadata": {
  "kernelspec": {
   "display_name": "Python 3",
   "language": "python",
   "name": "python3"
  },
  "language_info": {
   "codemirror_mode": {
    "name": "ipython",
    "version": 3
   },
   "file_extension": ".py",
   "mimetype": "text/x-python",
   "name": "python",
   "nbconvert_exporter": "python",
   "pygments_lexer": "ipython3",
   "version": "3.8.8"
  }
 },
 "nbformat": 4,
 "nbformat_minor": 5
}
