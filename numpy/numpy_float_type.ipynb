{
 "cells": [
  {
   "cell_type": "markdown",
   "id": "acting-palace",
   "metadata": {},
   "source": [
    "# References\n",
    "\n",
    "* [Understanding Data Types in Python (MUST)](https://jakevdp.github.io/PythonDataScienceHandbook/02.01-understanding-data-types.html)"
   ]
  },
  {
   "cell_type": "code",
   "execution_count": 17,
   "id": "material-hypothesis",
   "metadata": {},
   "outputs": [],
   "source": [
    "import numpy as np"
   ]
  },
  {
   "cell_type": "markdown",
   "id": "approximate-surprise",
   "metadata": {},
   "source": [
    "# Default np.float64 is float\n",
    "\n",
    "* [Difference between Python float and numpy float32](https://stackoverflow.com/a/16964006/4281353)\n",
    "\n",
    "> Note that **numpy.float is just an alias to Python's float type**. It is **NOT** a numpy scalar type like numpy.float64. \n",
    ">\n",
    "> The name is only exposed for backwards compatibility with a very early version of numpy that inappropriately exposed numpy.float64 as numpy.float, causing problems when people did from numpy import *"
   ]
  },
  {
   "cell_type": "code",
   "execution_count": 23,
   "id": "little-individual",
   "metadata": {},
   "outputs": [
    {
     "name": "stdout",
     "output_type": "stream",
     "text": [
      "True\n",
      "True\n",
      "float64\n"
     ]
    }
   ],
   "source": [
    "# Default float type is np.float64 which is the same with Python float\n",
    "x = np.array(1.0)                        \n",
    "y = np.array(1, dtype=float)\n",
    "z = np.array(1.0, dtype=np.float64)\n",
    "print(x.dtype == y.dtype == z.dtype == np.float)\n",
    "print(x.dtype == float)\n",
    "print(x.dtype)"
   ]
  },
  {
   "cell_type": "markdown",
   "id": "premium-seafood",
   "metadata": {},
   "source": [
    "# numpy.finfo(dtype)\n",
    "\n",
    "* [class numpy.finfo(dtype)](https://numpy.org/doc/stable/reference/generated/numpy.finfo.html)\n",
    "\n",
    "> Machine limits for floating point types."
   ]
  },
  {
   "cell_type": "code",
   "execution_count": 12,
   "id": "celtic-overall",
   "metadata": {},
   "outputs": [
    {
     "data": {
      "text/plain": [
       "finfo(resolution=1e-15, min=-1.7976931348623157e+308, max=1.7976931348623157e+308, dtype=float64)"
      ]
     },
     "execution_count": 12,
     "metadata": {},
     "output_type": "execute_result"
    }
   ],
   "source": [
    "np.finfo(float)"
   ]
  },
  {
   "cell_type": "code",
   "execution_count": 13,
   "id": "quiet-webster",
   "metadata": {},
   "outputs": [
    {
     "data": {
      "text/plain": [
       "finfo(resolution=1e-15, min=-1.7976931348623157e+308, max=1.7976931348623157e+308, dtype=float64)"
      ]
     },
     "execution_count": 13,
     "metadata": {},
     "output_type": "execute_result"
    }
   ],
   "source": [
    "np.finfo(np.float64)"
   ]
  },
  {
   "cell_type": "code",
   "execution_count": 29,
   "id": "minor-difficulty",
   "metadata": {},
   "outputs": [
    {
     "data": {
      "text/plain": [
       "finfo(resolution=1e-15, min=-1.7976931348623157e+308, max=1.7976931348623157e+308, dtype=float64)"
      ]
     },
     "execution_count": 29,
     "metadata": {},
     "output_type": "execute_result"
    }
   ],
   "source": [
    "np.finfo(np.float)"
   ]
  },
  {
   "cell_type": "markdown",
   "id": "boring-blogger",
   "metadata": {},
   "source": [
    "# Check if of a float type\n",
    "\n",
    "* [isinistance(np.float32, float) is false #13133](https://github.com/numpy/numpy/issues/13133#issuecomment-473567580)\n",
    "* [How to check if a number is a np.float64 or np.float32 or np.float16?](https://stackoverflow.com/a/28293294/4281353)"
   ]
  },
  {
   "cell_type": "code",
   "execution_count": 6,
   "id": "rental-oregon",
   "metadata": {},
   "outputs": [
    {
     "data": {
      "text/plain": [
       "True"
      ]
     },
     "execution_count": 6,
     "metadata": {},
     "output_type": "execute_result"
    }
   ],
   "source": [
    "x = np.array(1, dtype=float)\n",
    "issubclass(x.dtype.type, np.floating)"
   ]
  },
  {
   "cell_type": "code",
   "execution_count": 32,
   "id": "posted-blocking",
   "metadata": {},
   "outputs": [
    {
     "data": {
      "text/plain": [
       "False"
      ]
     },
     "execution_count": 32,
     "metadata": {},
     "output_type": "execute_result"
    }
   ],
   "source": [
    "x = np.array(1, dtype=np.float32)\n",
    "isinstance(x, np.floating)"
   ]
  },
  {
   "cell_type": "code",
   "execution_count": 33,
   "id": "wooden-logistics",
   "metadata": {},
   "outputs": [
    {
     "data": {
      "text/plain": [
       "False"
      ]
     },
     "execution_count": 33,
     "metadata": {},
     "output_type": "execute_result"
    }
   ],
   "source": [
    "x = np.array(1, dtype=np.float32)\n",
    "isinstance(x, (np.floating, float))"
   ]
  }
 ],
 "metadata": {
  "kernelspec": {
   "display_name": "Python 3",
   "language": "python",
   "name": "python3"
  },
  "language_info": {
   "codemirror_mode": {
    "name": "ipython",
    "version": 3
   },
   "file_extension": ".py",
   "mimetype": "text/x-python",
   "name": "python",
   "nbconvert_exporter": "python",
   "pygments_lexer": "ipython3",
   "version": "3.8.8"
  }
 },
 "nbformat": 4,
 "nbformat_minor": 5
}
