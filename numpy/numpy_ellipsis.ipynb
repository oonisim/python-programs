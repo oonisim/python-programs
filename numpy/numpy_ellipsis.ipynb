{
 "cells": [
  {
   "cell_type": "markdown",
   "id": "northern-necessity",
   "metadata": {},
   "source": [
    "# Ellipsis\n",
    "\n",
    "* [What does the Ellipsis object do?](https://stackoverflow.com/a/773472/4281353)\n",
    "\n",
    "> ```myList[1:2, ..., 0]``` <br><br>\n",
    "> its main (and intended) use is in the numpy third-party library, which adds a multidimensional array type. Since there are more than one dimensions, slicing becomes more complex than just a start and stop index; it is useful to be able to slice in multiple dimensions as well.\n",
    ">\n",
    ">Ellipsis is used to indicate **the rest of the array dimensions not specified**. Think of it as indicating the full slice ```[:]``` for **all the dimensions in the gap** it is placed,\n",
    ">\n",
    ">```a[...,0]``` is the same with:\n",
    ">* ```a[:,:,0]``` for a 3d array \n",
    ">* ```a[:,:,:,0]``` for a 4d array\n",
    ">\n",
    ">similarly, ```a[0,...,0]``` is ```a[0,:,:,0]``` (with however many colons in the middle make up the full number of dimensions in the array)."
   ]
  },
  {
   "cell_type": "code",
   "execution_count": null,
   "id": "danish-hazard",
   "metadata": {},
   "outputs": [],
   "source": []
  }
 ],
 "metadata": {
  "kernelspec": {
   "display_name": "Python 3",
   "language": "python",
   "name": "python3"
  },
  "language_info": {
   "codemirror_mode": {
    "name": "ipython",
    "version": 3
   },
   "file_extension": ".py",
   "mimetype": "text/x-python",
   "name": "python",
   "nbconvert_exporter": "python",
   "pygments_lexer": "ipython3",
   "version": "3.8.8"
  }
 },
 "nbformat": 4,
 "nbformat_minor": 5
}
