{
 "cells": [
  {
   "cell_type": "code",
   "execution_count": 1,
   "id": "be61fe49",
   "metadata": {},
   "outputs": [],
   "source": [
    "import numpy as np"
   ]
  },
  {
   "cell_type": "markdown",
   "id": "64232595",
   "metadata": {},
   "source": [
    "# isin\n",
    "## Select those rows where ```row[:1]``` NOT in a list"
   ]
  },
  {
   "cell_type": "code",
   "execution_count": 56,
   "id": "9b22bf30",
   "metadata": {},
   "outputs": [
    {
     "name": "stdout",
     "output_type": "stream",
     "text": [
      "[[1 6 8 1 8]\n",
      " [0 3 1 3 5]]\n",
      "[[0 3 1 3 5]]\n"
     ]
    }
   ],
   "source": [
    "#%%timeit\n",
    "E = 1\n",
    "C = 4\n",
    "BATCH_SIZE = 2\n",
    "N = 2\n",
    "\n",
    "event_context = np.random.randint(0, 11, (BATCH_SIZE,(E+C)))\n",
    "print(event_context)\n",
    "EVENT_INDEX_META_ENTITIES = [1,5,9]\n",
    "event_context = event_context[\n",
    "    np.logical_not(np.sum(\n",
    "        np.isin(\n",
    "            event_context[\n",
    "                ::,                 # All (event, context) pairs,\n",
    "                :E     # 'event' part\n",
    "            ],\n",
    "            EVENT_INDEX_META_ENTITIES\n",
    "        ),\n",
    "        axis=-1\n",
    "    ).astype(bool)),\n",
    "]\n",
    "print(event_context)\n",
    "del event_context"
   ]
  },
  {
   "cell_type": "code",
   "execution_count": 62,
   "id": "d48ce8b7",
   "metadata": {},
   "outputs": [
    {
     "name": "stdout",
     "output_type": "stream",
     "text": [
      "[[[ 5 10 10  1  4]\n",
      "  [ 9  4  8  5  6]]\n",
      "\n",
      " [[ 7  3  6  9  4]\n",
      "  [ 5  4  7  4  3]]]\n",
      "[[ 5 10 10  1  4]\n",
      " [ 9  4  8  5  6]\n",
      " [ 7  3  6  9  4]\n",
      " [ 5  4  7  4  3]]\n"
     ]
    }
   ],
   "source": [
    "#%%timeit\n",
    "E = 1\n",
    "C = 4\n",
    "BATCH_SIZE = 2\n",
    "N = 2\n",
    "\n",
    "event_context = np.random.randint(0, 11, (N,BATCH_SIZE,(E+C)))\n",
    "print(event_context)\n",
    "EVENT_INDEX_META_ENTITIES = [-9]\n",
    "event_context = event_context[\n",
    "    np.logical_not(np.sum(\n",
    "        np.isin(\n",
    "            event_context[\n",
    "                ::,                 # All batches\n",
    "                ::,                 # All (event, context) pairs,\n",
    "                :E     # 'event' part\n",
    "            ],\n",
    "            EVENT_INDEX_META_ENTITIES\n",
    "        ),\n",
    "        axis=-1\n",
    "    ).astype(bool)),\n",
    "]\n",
    "print(event_context)\n",
    "del event_context"
   ]
  },
  {
   "cell_type": "markdown",
   "id": "39865dfd",
   "metadata": {},
   "source": [
    "# Conditional"
   ]
  },
  {
   "cell_type": "code",
   "execution_count": 2,
   "id": "79c68621",
   "metadata": {},
   "outputs": [
    {
     "data": {
      "text/plain": [
       "array([[ 0,  1,  2,  3],\n",
       "       [ 4,  5,  6,  7],\n",
       "       [ 8,  9, 10, 11]])"
      ]
     },
     "execution_count": 2,
     "metadata": {},
     "output_type": "execute_result"
    }
   ],
   "source": [
    "x = np.array(range(12)).reshape((3,4))\n",
    "x"
   ]
  },
  {
   "cell_type": "code",
   "execution_count": 3,
   "id": "ab5f669a",
   "metadata": {},
   "outputs": [
    {
     "data": {
      "text/plain": [
       "array([[False, False, False, False],\n",
       "       [False, False, False,  True],\n",
       "       [ True,  True,  True,  True]])"
      ]
     },
     "execution_count": 3,
     "metadata": {},
     "output_type": "execute_result"
    }
   ],
   "source": [
    "x > 6"
   ]
  },
  {
   "cell_type": "code",
   "execution_count": 4,
   "id": "ef51d9ce",
   "metadata": {},
   "outputs": [
    {
     "data": {
      "text/plain": [
       "array([ 7,  8,  9, 10, 11])"
      ]
     },
     "execution_count": 4,
     "metadata": {},
     "output_type": "execute_result"
    }
   ],
   "source": [
    "x[x > 6]"
   ]
  }
 ],
 "metadata": {
  "kernelspec": {
   "display_name": "Python 3 (ipykernel)",
   "language": "python",
   "name": "python3"
  },
  "language_info": {
   "codemirror_mode": {
    "name": "ipython",
    "version": 3
   },
   "file_extension": ".py",
   "mimetype": "text/x-python",
   "name": "python",
   "nbconvert_exporter": "python",
   "pygments_lexer": "ipython3",
   "version": "3.9.13"
  }
 },
 "nbformat": 4,
 "nbformat_minor": 5
}
