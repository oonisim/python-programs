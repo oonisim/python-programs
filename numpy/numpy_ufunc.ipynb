{
 "cells": [
  {
   "cell_type": "markdown",
   "metadata": {},
   "source": [
    "# ufunc"
   ]
  },
  {
   "cell_type": "code",
   "execution_count": 2,
   "metadata": {},
   "outputs": [
    {
     "data": {
      "text/plain": [
       "'1.18.5'"
      ]
     },
     "execution_count": 2,
     "metadata": {},
     "output_type": "execute_result"
    }
   ],
   "source": [
    "import numpy as np\n",
    "np.version.version"
   ]
  },
  {
   "cell_type": "markdown",
   "metadata": {},
   "source": [
    "## Reduction\n",
    "\n",
    "* [ufunc.reduce(array, axis=0, dtype=None, out=None, keepdims=False, initial=<no value>, where=True)](https://numpy.org/doc/stable/reference/generated/numpy.ufunc.reduce.html)"
   ]
  },
  {
   "cell_type": "markdown",
   "metadata": {},
   "source": [
    "### Note \n",
    "multipy & reduce may yield unexpected"
   ]
  },
  {
   "cell_type": "code",
   "execution_count": 7,
   "metadata": {},
   "outputs": [
    {
     "name": "stdout",
     "output_type": "stream",
     "text": [
      "1.0\n"
     ]
    }
   ],
   "source": [
    "print(np.multiply.reduce([], axis=None))"
   ]
  },
  {
   "cell_type": "markdown",
   "metadata": {},
   "source": [
    "### Column-wise addition"
   ]
  },
  {
   "cell_type": "code",
   "execution_count": 2,
   "metadata": {},
   "outputs": [
    {
     "data": {
      "text/plain": [
       "[[11, 14, 17], [20, 23, 26]]"
      ]
     },
     "execution_count": 2,
     "metadata": {},
     "output_type": "execute_result"
    }
   ],
   "source": [
    "a = np.array([[1, 2, 3], [4, 5, 6]])\n",
    "b = np.array([[5, 6, 7], [8, 9, 10]])\n",
    "c = np.array([[5, 6, 7], [8, 9, 10]])\n",
    "np.add.reduce((a, b, c), axis=0).tolist()"
   ]
  },
  {
   "cell_type": "code",
   "execution_count": 3,
   "metadata": {},
   "outputs": [
    {
     "name": "stdout",
     "output_type": "stream",
     "text": [
      "[[1 2 3]\n",
      " [4 5 6]\n",
      " [7 8 9]]\n"
     ]
    },
    {
     "data": {
      "text/plain": [
       "array([12, 15, 18])"
      ]
     },
     "execution_count": 3,
     "metadata": {},
     "output_type": "execute_result"
    }
   ],
   "source": [
    "a = np.array([[1,2,3], [4,5,6], [7, 8, 9]])\n",
    "print(a)\n",
    "np.add.reduce(a)"
   ]
  },
  {
   "cell_type": "code",
   "execution_count": 4,
   "metadata": {},
   "outputs": [
    {
     "name": "stdout",
     "output_type": "stream",
     "text": [
      "[[1 2 3]\n",
      " [4 5 6]\n",
      " [7 8 9]]\n",
      "[[10 20 30]\n",
      " [40 50 60]\n",
      " [70 80 90]]\n",
      "[[100 200 300]\n",
      " [400 500 600]\n",
      " [700 800 900]]\n",
      "[[111 222 333]\n",
      " [444 555 666]\n",
      " [777 888 999]]\n"
     ]
    }
   ],
   "source": [
    "a = np.array([[1,2,3], [4,5,6], [7, 8, 9]])\n",
    "b = a * 10\n",
    "c = b * 10\n",
    "print(a)\n",
    "print(b)\n",
    "print(c)\n",
    "print(np.add.reduce((a, b, c)))"
   ]
  },
  {
   "cell_type": "markdown",
   "metadata": {},
   "source": [
    "## Accumulative application\n",
    "\n",
    "Accumulative appliations of an ufunc on an array. Same with Scala ```def foldLeft[B](z: B)(op: (B, A) ⇒ B): B``` where ```z``` is the accumulator and ```op``` is ```ufunc```.\n",
    "\n",
    "* [ufunc.accumulate(array, axis=0, dtype=None, out=None)](https://numpy.org/doc/stable/reference/generated/numpy.ufunc.accumulate.html)\n",
    "\n",
    "> Accumulate the result of applying the operator to all elements."
   ]
  },
  {
   "cell_type": "code",
   "execution_count": 5,
   "metadata": {},
   "outputs": [
    {
     "data": {
      "text/plain": [
       "array([  1,   2,   6,  24, 120])"
      ]
     },
     "execution_count": 5,
     "metadata": {},
     "output_type": "execute_result"
    }
   ],
   "source": [
    "a = np.array([1,2,3,4,5])\n",
    "np.multiply.accumulate(a, axis=-1)"
   ]
  },
  {
   "cell_type": "markdown",
   "metadata": {},
   "source": [
    "same with:"
   ]
  },
  {
   "cell_type": "code",
   "execution_count": 24,
   "metadata": {},
   "outputs": [
    {
     "data": {
      "text/plain": [
       "array([1, 2, 6, 24, 120], dtype=object)"
      ]
     },
     "execution_count": 24,
     "metadata": {},
     "output_type": "execute_result"
    }
   ],
   "source": [
    "uadd = np.frompyfunc(lambda x, y: x * y, 2, 1)\n",
    "uadd.accumulate([1,2,3,4,5], dtype=np.ndarray)"
   ]
  },
  {
   "cell_type": "markdown",
   "metadata": {},
   "source": [
    "# Custom function as ufunc\n",
    "* [numpy.frompyfunc](https://numpy.org/doc/stable/reference/generated/numpy.frompyfunc.html)\n",
    "\n",
    "> Takes an arbitrary Python function and returns a NumPy ufunc.\n",
    "\n",
    "## frompyfunc\n",
    "\n",
    "Note that the return type is **object** regardless with the ```dtype``` argument of ```ufunc.accumulate(array, axis=0, dtype=None, out=None)```."
   ]
  },
  {
   "cell_type": "code",
   "execution_count": 21,
   "metadata": {},
   "outputs": [
    {
     "name": "stdout",
     "output_type": "stream",
     "text": [
      "object\n"
     ]
    },
    {
     "data": {
      "text/plain": [
       "array([3.92699082e-01, 2.70598050e-01, 2.46960180e-01, 2.44457501e-01,\n",
       "       2.23606555e-01, 1.56799390e-01, 5.97589517e-02, 7.31400586e-18])"
      ]
     },
     "execution_count": 21,
     "metadata": {},
     "output_type": "execute_result"
    }
   ],
   "source": [
    "def func(x, y) -> np.ndarray:\n",
    "    return np.sin(x) * np.sin(y)\n",
    "\n",
    "ufunc_multiply_sin = np.frompyfunc(func, 2, 1)\n",
    "\n",
    "radians = np.array([1,2,3,4,5,6,7,8]) / 8 * np.pi\n",
    "R = ufunc_multiply_sin.accumulate(radians, dtype=np.ndarray)\n",
    "\n",
    "# frompyfunt result dtype is *object*\n",
    "print(R.dtype)\n",
    "\n",
    "# Need to cast object into the correct dtype\n",
    "R.astype(float)"
   ]
  },
  {
   "cell_type": "markdown",
   "metadata": {},
   "source": [
    "Accumulative multiplication in reverse order."
   ]
  },
  {
   "cell_type": "code",
   "execution_count": 36,
   "metadata": {},
   "outputs": [
    {
     "name": "stdout",
     "output_type": "stream",
     "text": [
      "[[ 2  3  4  5]\n",
      " [ 6  7  8  9]\n",
      " [10 11 12 13]]\n"
     ]
    },
    {
     "data": {
      "text/plain": [
       "array([[2, 36, 20736, 10749542400],\n",
       "       [6, 1764, 199148544, 3212471548762914816],\n",
       "       [10, 12100, 21083040000, 75119583283430400000000]], dtype=object)"
      ]
     },
     "execution_count": 36,
     "metadata": {},
     "output_type": "execute_result"
    }
   ],
   "source": [
    "X = np.arange(2, 14).reshape((3, 4))\n",
    "print(X)\n",
    "\n",
    "def func(x, y):\n",
    "    return x**2 * y**2\n",
    "\n",
    "ufunc_multiply = np.frompyfunc(func, 2, 1)\n",
    "Z = ufunc_multiply.accumulate(X, axis=-1, dtype=np.ndarray)\n",
    "Z"
   ]
  },
  {
   "cell_type": "markdown",
   "metadata": {},
   "source": [
    "---"
   ]
  },
  {
   "cell_type": "markdown",
   "metadata": {},
   "source": [
    "# User function"
   ]
  },
  {
   "cell_type": "markdown",
   "metadata": {},
   "source": [
    "## vectorize\n",
    "\n",
    "Note that ```vectorize``` does not create a **ufunc**, but ```vfunc```, hence ufunc operations e.g. ```accumulate```, ```reduce``` etc are not applicable.\n",
    "\n",
    "\n",
    "* [Difference between frompyfunc and vectorize in numpy](https://stackoverflow.com/questions/6768245/difference-between-frompyfunc-and-vectorize-in-numpy)\n",
    "\n",
    "> **vectorize** wraps **frompyfunc** and adds extra features:\n",
    ">\n",
    "> * Copies the docstring from the original function\n",
    "> * Allows you to exclude an argument from broadcasting rules.\n",
    "> * Returns an array of the correct dtype instead of dtype=object\n",
    "\n",
    "\n",
    "* [class numpy.vectorize(pyfunc, otypes=None, doc=None, excluded=None, cache=False, signature=None)](https://numpy.org/doc/stable/reference/generated/numpy.vectorize.html)\n",
    "\n",
    "> The vectorized function **evaluates pyfunc over *successive tuples* of the input arrays**, like the python map function\n",
    "\n",
    "**successive tuples** menas if two arrays are given as argument to func(A, B) where A=(a0,a1,a2) and B=(b0,b1,b2), then ```pyfunc``` is applied to (a0,b0), (a1,b1), (a2, b2)."
   ]
  },
  {
   "cell_type": "code",
   "execution_count": 9,
   "metadata": {},
   "outputs": [
    {
     "data": {
      "text/plain": [
       "array([-1,  2, -3])"
      ]
     },
     "execution_count": 9,
     "metadata": {},
     "output_type": "execute_result"
    }
   ],
   "source": [
    "def func(x, y) -> np.ndarray:\n",
    "    return x * y\n",
    "\n",
    "#ufunc_multiply_sin = np.vectorize(pyfunc=func, signature=\"(n),(n)->(n)\")\n",
    "vfunc = np.vectorize(pyfunc=func)\n",
    "\n",
    "# func(x, y) is applied on (1,-1), (2,1), (3,-1)\n",
    "x = np.array([1,2,3])\n",
    "y = np.array([-1,1,-1])\n",
    "vfunc(x, y)"
   ]
  },
  {
   "cell_type": "code",
   "execution_count": null,
   "metadata": {},
   "outputs": [],
   "source": []
  }
 ],
 "metadata": {
  "kernelspec": {
   "display_name": "Python 3",
   "language": "python",
   "name": "python3"
  },
  "language_info": {
   "codemirror_mode": {
    "name": "ipython",
    "version": 3
   },
   "file_extension": ".py",
   "mimetype": "text/x-python",
   "name": "python",
   "nbconvert_exporter": "python",
   "pygments_lexer": "ipython3",
   "version": "3.8.8"
  }
 },
 "nbformat": 4,
 "nbformat_minor": 4
}
