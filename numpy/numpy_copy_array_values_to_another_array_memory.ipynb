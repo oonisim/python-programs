{
 "cells": [
  {
   "cell_type": "markdown",
   "id": "immediate-procurement",
   "metadata": {},
   "source": [
    "# Copy contents of array A into the buffer of array B \n",
    "\n",
    "Copy contents of A into the memory of array B. \n",
    "```\n",
    "B = malloc(address, size)\n",
    "*B = A\n",
    "\n",
    "or \n",
    "memcopy(B, A)\n",
    "```\n",
    "\n",
    "* [How to copy data from a numpy array to another](https://stackoverflow.com/questions/6431973/how-to-copy-data-from-a-numpy-array-to-another)\n",
    "\n",
    "> What is the fastest way to copy data from array b to array a, **without modifying the address of array a**\n",
    "\n",
    "```\n",
    "a = numpy.empty_like (b)\n",
    "a[:] = b\n",
    "```\n",
    "\n",
    "> will make a deep copy quickly. As Funsi mentions, recent versions of numpy also have the copyto function.\n",
    "\n",
    "* [numpy.copyto(dst, src)](https://docs.scipy.org/doc/numpy/reference/generated/numpy.copyto.html)"
   ]
  },
  {
   "cell_type": "markdown",
   "id": "willing-trustee",
   "metadata": {},
   "source": [
    "## Bug due to referene "
   ]
  },
  {
   "cell_type": "code",
   "execution_count": 1,
   "id": "synthetic-qatar",
   "metadata": {},
   "outputs": [],
   "source": [
    "def _first_update_running_means(self):\n",
    "    \"\"\"Set the RS and RSD for the first time only\n",
    "    At the first invocation, RU and RSD are zero.\n",
    "    Hence RU = (momentum * RU + (1 - momentum) * U) is 0.1 * U (momentum=0.9).\n",
    "    However with 1 invocation, the correct running mean RU = U. (U/1=U).\n",
    "    Hence set U to RU.\n",
    "    \"\"\"\n",
    "    # Overwriting the memory address of RU with that of U.\n",
    "    # RU and U points to the same memory area. \n",
    "    # Update U will update RU!!!\n",
    "    self._RU = self.U           # <--- Changing the memory address of RU with U\n",
    "    self._RSD = self.SD         # <--- Changing the memory address of RSD with SD\n",
    "    self.update_running_means = self._update_running_means\n"
   ]
  },
  {
   "cell_type": "code",
   "execution_count": null,
   "id": "younger-repair",
   "metadata": {},
   "outputs": [],
   "source": [
    "### Fix\n",
    "def _first_update_running_means(self):\n",
    "    \"\"\"Set the RS and RSD for the first time only\n",
    "    At the first invocation, RU and RSD are zero.\n",
    "    Hence RU = (momentum * RU + (1 - momentum) * U) is 0.1 * U (momentum=0.9).\n",
    "    However with 1 invocation, the correct running mean RU = U. (U/1=U).\n",
    "    Hence set U to RU.\n",
    "    \"\"\"\n",
    "    np.copyto(self.U, self._RU)    # Copy the contents of U into the memory of RU\n",
    "    np.copyto(self.SD, self._RSD)  # Copy the contents of SD into the memory of RSD\n",
    "    self.update_running_means = self._update_running_means"
   ]
  }
 ],
 "metadata": {
  "kernelspec": {
   "display_name": "Python 3",
   "language": "python",
   "name": "python3"
  },
  "language_info": {
   "codemirror_mode": {
    "name": "ipython",
    "version": 3
   },
   "file_extension": ".py",
   "mimetype": "text/x-python",
   "name": "python",
   "nbconvert_exporter": "python",
   "pygments_lexer": "ipython3",
   "version": "3.8.8"
  }
 },
 "nbformat": 4,
 "nbformat_minor": 5
}
