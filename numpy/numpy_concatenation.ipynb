{
 "cells": [
  {
   "cell_type": "code",
   "execution_count": 1,
   "metadata": {},
   "outputs": [],
   "source": [
    "import numpy as np"
   ]
  },
  {
   "cell_type": "markdown",
   "metadata": {},
   "source": [
    "# vstack"
   ]
  },
  {
   "cell_type": "code",
   "execution_count": 7,
   "metadata": {},
   "outputs": [
    {
     "name": "stdout",
     "output_type": "stream",
     "text": [
      "(2, 5)\n",
      "[[ 1  2  3  4  5]\n",
      " [10 20 30 40 50]]\n"
     ]
    }
   ],
   "source": [
    "a = np.vstack([\n",
    "    np.array([]).reshape(0, 5),\n",
    "    np.array([1,2,3,4,5]), \n",
    "    np.array([10, 20, 30, 40, 50])]\n",
    ").astype(np.int32)\n",
    "print(a.shape)\n",
    "print(a)"
   ]
  },
  {
   "cell_type": "code",
   "execution_count": null,
   "metadata": {},
   "outputs": [],
   "source": []
  },
  {
   "cell_type": "markdown",
   "metadata": {},
   "source": [
    "# r_"
   ]
  },
  {
   "cell_type": "code",
   "execution_count": 23,
   "metadata": {},
   "outputs": [
    {
     "name": "stdout",
     "output_type": "stream",
     "text": [
      "[1 2 3 4 5 6]\n",
      "[1 2 3 4 5 6]\n",
      "[1 2 3 4 5 6]\n"
     ]
    }
   ],
   "source": [
    "print(np.r_[\n",
    "    np.array([1,2,3]), \n",
    "    np.array([4,5,6])\n",
    "])\n",
    "\n",
    "# Same with above\n",
    "print(np.r_[\n",
    "    # Frame 1-dimensional container, and concatenate elements \n",
    "    # along the default axis (-1), which is 0 (first axis)\n",
    "    '-1,1',\n",
    "    # Elements\n",
    "    np.array([1,2,3]), \n",
    "    np.array([4,5,6])\n",
    "])\n",
    "\n",
    "# Same with above. Specific with which axis.\n",
    "print(np.r_[\n",
    "    '0,1',              \n",
    "    np.array([1,2,3]), \n",
    "    np.array([4,5,6])\n",
    "])"
   ]
  },
  {
   "cell_type": "code",
   "execution_count": 17,
   "metadata": {},
   "outputs": [
    {
     "name": "stdout",
     "output_type": "stream",
     "text": [
      "E: \n",
      "[]\n",
      "Shape (0, 5)\n",
      "\n",
      "A:\n",
      "[[ 1  2  3  4  5]\n",
      " [10 20 30 40 50]]\n",
      "Shape (2, 5)\n",
      "\n",
      "C:\n",
      "[[ 1  2  3  4  5]\n",
      " [10 20 30 40 50]]\n",
      "Shape (2, 5)\n",
      "\n"
     ]
    }
   ],
   "source": [
    "E = np.array([\n",
    "    \n",
    "]).reshape(0, 5)\n",
    "print(\"E: \\n{}\\nShape {}\\n\".format(E, E.shape))\n",
    "\n",
    "A = np.vstack([\n",
    "    [1, 2, 3, 4, 5], \n",
    "    [10, 20, 30, 40, 50]]\n",
    ")\n",
    "print(\"A:\\n{}\\nShape {}\\n\".format(A, A.shape))\n",
    "\n",
    "C = np.r_[\n",
    "    E, \n",
    "    A\n",
    "].astype(np.int32)\n",
    "\n",
    "print(\"C:\\n{}\\nShape {}\\n\".format(C, C.shape))"
   ]
  },
  {
   "cell_type": "markdown",
   "metadata": {},
   "source": [
    "## Framing output shape with string integer argument"
   ]
  },
  {
   "cell_type": "code",
   "execution_count": 25,
   "metadata": {},
   "outputs": [
    {
     "name": "stdout",
     "output_type": "stream",
     "text": [
      "[[1 2 3]\n",
      " [4 5 6]]\n",
      "[[1 2 3 4 5 6]]\n"
     ]
    }
   ],
   "source": [
    "print(np.r_[\n",
    "    # Frame 2-dimensional output, and concatenate elements along the 1st axis.\n",
    "    '0,2', \n",
    "    [1,2,3], \n",
    "    [4,5,6]\n",
    "])\n",
    "\n",
    "print(np.r_[\n",
    "    # Frame 2-dimensional output, and concatenate elements along the 2nd axis.\n",
    "    # [ [1,2,3] [4,5,6] ] cannot be [ [1,2,3], [4,5,6]] as it is stacking along the 1st axis.\n",
    "    # Hence [ [1,2,3] [4,5,6] ] -> [ [1,2,3, 4,5,6] ] \n",
    "    '1,2', \n",
    "    [1,2,3], \n",
    "    [4,5,6]\n",
    "])"
   ]
  },
  {
   "cell_type": "markdown",
   "metadata": {},
   "source": [
    "### Setting the shape expantion\n",
    "Plus(+) is shifting the original shape from the highest dimension side to lower in the expanded shape. Minus(-) is shifting the original shape from the lowest dimension side to higher."
   ]
  },
  {
   "cell_type": "code",
   "execution_count": 7,
   "metadata": {},
   "outputs": [
    {
     "name": "stdout",
     "output_type": "stream",
     "text": [
      "(2, 3, 1, 1, 1)\n",
      "(1, 2, 3, 1, 1)\n",
      "(1, 1, 2, 3, 1)\n",
      "(1, 1, 1, 2, 3)\n"
     ]
    },
    {
     "ename": "ValueError",
     "evalue": "axes don't match array",
     "output_type": "error",
     "traceback": [
      "\u001b[0;31m---------------------------------------------------------------------------\u001b[0m",
      "\u001b[0;31mValueError\u001b[0m                                Traceback (most recent call last)",
      "\u001b[0;32m<ipython-input-7-c101bfa84c36>\u001b[0m in \u001b[0;36m<module>\u001b[0;34m\u001b[0m\n\u001b[1;32m      5\u001b[0m \u001b[0mprint\u001b[0m\u001b[0;34m(\u001b[0m\u001b[0mnp\u001b[0m\u001b[0;34m.\u001b[0m\u001b[0mr_\u001b[0m\u001b[0;34m[\u001b[0m\u001b[0;34m'0,5,2'\u001b[0m\u001b[0;34m,\u001b[0m\u001b[0mnp\u001b[0m\u001b[0;34m.\u001b[0m\u001b[0mones\u001b[0m\u001b[0;34m(\u001b[0m\u001b[0;34m(\u001b[0m\u001b[0;36m2\u001b[0m\u001b[0;34m,\u001b[0m\u001b[0;36m3\u001b[0m\u001b[0;34m)\u001b[0m\u001b[0;34m)\u001b[0m\u001b[0;34m]\u001b[0m\u001b[0;34m.\u001b[0m\u001b[0mshape\u001b[0m\u001b[0;34m)\u001b[0m  \u001b[0;31m# shift 2 to the right from highest to lowest.\u001b[0m\u001b[0;34m\u001b[0m\u001b[0;34m\u001b[0m\u001b[0m\n\u001b[1;32m      6\u001b[0m \u001b[0mprint\u001b[0m\u001b[0;34m(\u001b[0m\u001b[0mnp\u001b[0m\u001b[0;34m.\u001b[0m\u001b[0mr_\u001b[0m\u001b[0;34m[\u001b[0m\u001b[0;34m'0,5,3'\u001b[0m\u001b[0;34m,\u001b[0m\u001b[0mnp\u001b[0m\u001b[0;34m.\u001b[0m\u001b[0mones\u001b[0m\u001b[0;34m(\u001b[0m\u001b[0;34m(\u001b[0m\u001b[0;36m2\u001b[0m\u001b[0;34m,\u001b[0m\u001b[0;36m3\u001b[0m\u001b[0;34m)\u001b[0m\u001b[0;34m)\u001b[0m\u001b[0;34m]\u001b[0m\u001b[0;34m.\u001b[0m\u001b[0mshape\u001b[0m\u001b[0;34m)\u001b[0m  \u001b[0;31m# shift 3 to the right from highest to lowest.\u001b[0m\u001b[0;34m\u001b[0m\u001b[0;34m\u001b[0m\u001b[0m\n\u001b[0;32m----> 7\u001b[0;31m \u001b[0mprint\u001b[0m\u001b[0;34m(\u001b[0m\u001b[0mnp\u001b[0m\u001b[0;34m.\u001b[0m\u001b[0mr_\u001b[0m\u001b[0;34m[\u001b[0m\u001b[0;34m'0,5,4'\u001b[0m\u001b[0;34m,\u001b[0m\u001b[0mnp\u001b[0m\u001b[0;34m.\u001b[0m\u001b[0mones\u001b[0m\u001b[0;34m(\u001b[0m\u001b[0;34m(\u001b[0m\u001b[0;36m2\u001b[0m\u001b[0;34m,\u001b[0m\u001b[0;36m3\u001b[0m\u001b[0;34m)\u001b[0m\u001b[0;34m)\u001b[0m\u001b[0;34m]\u001b[0m\u001b[0;34m.\u001b[0m\u001b[0mshape\u001b[0m\u001b[0;34m)\u001b[0m  \u001b[0;31m# Cannot shift shape (2, 3) further than 3 in 5 dimension.\u001b[0m\u001b[0;34m\u001b[0m\u001b[0;34m\u001b[0m\u001b[0m\n\u001b[0m",
      "\u001b[0;32m~/conda/envs/python_programs/lib/python3.8/site-packages/numpy/lib/index_tricks.py\u001b[0m in \u001b[0;36m__getitem__\u001b[0;34m(self, key)\u001b[0m\n\u001b[1;32m    393\u001b[0m                     \u001b[0mdefaxes\u001b[0m \u001b[0;34m=\u001b[0m \u001b[0mlist\u001b[0m\u001b[0;34m(\u001b[0m\u001b[0mrange\u001b[0m\u001b[0;34m(\u001b[0m\u001b[0mndmin\u001b[0m\u001b[0;34m)\u001b[0m\u001b[0;34m)\u001b[0m\u001b[0;34m\u001b[0m\u001b[0;34m\u001b[0m\u001b[0m\n\u001b[1;32m    394\u001b[0m                     \u001b[0maxes\u001b[0m \u001b[0;34m=\u001b[0m \u001b[0mdefaxes\u001b[0m\u001b[0;34m[\u001b[0m\u001b[0;34m:\u001b[0m\u001b[0mk1\u001b[0m\u001b[0;34m]\u001b[0m \u001b[0;34m+\u001b[0m \u001b[0mdefaxes\u001b[0m\u001b[0;34m[\u001b[0m\u001b[0mk2\u001b[0m\u001b[0;34m:\u001b[0m\u001b[0;34m]\u001b[0m \u001b[0;34m+\u001b[0m \u001b[0mdefaxes\u001b[0m\u001b[0;34m[\u001b[0m\u001b[0mk1\u001b[0m\u001b[0;34m:\u001b[0m\u001b[0mk2\u001b[0m\u001b[0;34m]\u001b[0m\u001b[0;34m\u001b[0m\u001b[0;34m\u001b[0m\u001b[0m\n\u001b[0;32m--> 395\u001b[0;31m                     \u001b[0mnewobj\u001b[0m \u001b[0;34m=\u001b[0m \u001b[0mnewobj\u001b[0m\u001b[0;34m.\u001b[0m\u001b[0mtranspose\u001b[0m\u001b[0;34m(\u001b[0m\u001b[0maxes\u001b[0m\u001b[0;34m)\u001b[0m\u001b[0;34m\u001b[0m\u001b[0;34m\u001b[0m\u001b[0m\n\u001b[0m\u001b[1;32m    396\u001b[0m             \u001b[0mobjs\u001b[0m\u001b[0;34m.\u001b[0m\u001b[0mappend\u001b[0m\u001b[0;34m(\u001b[0m\u001b[0mnewobj\u001b[0m\u001b[0;34m)\u001b[0m\u001b[0;34m\u001b[0m\u001b[0;34m\u001b[0m\u001b[0m\n\u001b[1;32m    397\u001b[0m             \u001b[0;32mif\u001b[0m \u001b[0;32mnot\u001b[0m \u001b[0mscalar\u001b[0m \u001b[0;32mand\u001b[0m \u001b[0misinstance\u001b[0m\u001b[0;34m(\u001b[0m\u001b[0mnewobj\u001b[0m\u001b[0;34m,\u001b[0m \u001b[0m_nx\u001b[0m\u001b[0;34m.\u001b[0m\u001b[0mndarray\u001b[0m\u001b[0;34m)\u001b[0m\u001b[0;34m:\u001b[0m\u001b[0;34m\u001b[0m\u001b[0;34m\u001b[0m\u001b[0m\n",
      "\u001b[0;31mValueError\u001b[0m: axes don't match array"
     ]
    }
   ],
   "source": [
    "# Plus(+) is shifting the original shape from the highest dimension side to the lower in the expanded shape.\n",
    "import numpy as np\n",
    "print(np.r_['0,5,0',np.ones((2,3))].shape)  # 0 places the original shape to the highest dimension side.\n",
    "print(np.r_['0,5,1',np.ones((2,3))].shape)  # shift 1 to the right from highest to lower dimension.\n",
    "print(np.r_['0,5,2',np.ones((2,3))].shape)  # shift 2 to the right from highest to lower dimension.\n",
    "print(np.r_['0,5,3',np.ones((2,3))].shape)  # shift 3 to the right from highest to lower dimension.\n",
    "print(np.r_['0,5,4',np.ones((2,3))].shape)  # Cannot shift shape (2, 3) further than 3 in 5 dimension shape."
   ]
  },
  {
   "cell_type": "code",
   "execution_count": 9,
   "metadata": {},
   "outputs": [
    {
     "name": "stdout",
     "output_type": "stream",
     "text": [
      "(1, 1, 1, 2, 3)\n",
      "(1, 1, 2, 3, 1)\n",
      "(1, 2, 3, 1, 1)\n",
      "(2, 3, 1, 1, 1)\n"
     ]
    },
    {
     "ename": "ValueError",
     "evalue": "axes don't match array",
     "output_type": "error",
     "traceback": [
      "\u001b[0;31m---------------------------------------------------------------------------\u001b[0m",
      "\u001b[0;31mValueError\u001b[0m                                Traceback (most recent call last)",
      "\u001b[0;32m<ipython-input-9-be478edc1cac>\u001b[0m in \u001b[0;36m<module>\u001b[0;34m\u001b[0m\n\u001b[1;32m      5\u001b[0m \u001b[0mprint\u001b[0m\u001b[0;34m(\u001b[0m\u001b[0mnp\u001b[0m\u001b[0;34m.\u001b[0m\u001b[0mr_\u001b[0m\u001b[0;34m[\u001b[0m\u001b[0;34m'0,5,-3'\u001b[0m\u001b[0;34m,\u001b[0m\u001b[0mnp\u001b[0m\u001b[0;34m.\u001b[0m\u001b[0mones\u001b[0m\u001b[0;34m(\u001b[0m\u001b[0;34m(\u001b[0m\u001b[0;36m2\u001b[0m\u001b[0;34m,\u001b[0m\u001b[0;36m3\u001b[0m\u001b[0;34m)\u001b[0m\u001b[0;34m)\u001b[0m\u001b[0;34m]\u001b[0m\u001b[0;34m.\u001b[0m\u001b[0mshape\u001b[0m\u001b[0;34m)\u001b[0m  \u001b[0;31m# shift 2 to the left from lowest to higher dimension.\u001b[0m\u001b[0;34m\u001b[0m\u001b[0;34m\u001b[0m\u001b[0m\n\u001b[1;32m      6\u001b[0m \u001b[0mprint\u001b[0m\u001b[0;34m(\u001b[0m\u001b[0mnp\u001b[0m\u001b[0;34m.\u001b[0m\u001b[0mr_\u001b[0m\u001b[0;34m[\u001b[0m\u001b[0;34m'0,5,-4'\u001b[0m\u001b[0;34m,\u001b[0m\u001b[0mnp\u001b[0m\u001b[0;34m.\u001b[0m\u001b[0mones\u001b[0m\u001b[0;34m(\u001b[0m\u001b[0;34m(\u001b[0m\u001b[0;36m2\u001b[0m\u001b[0;34m,\u001b[0m\u001b[0;36m3\u001b[0m\u001b[0;34m)\u001b[0m\u001b[0;34m)\u001b[0m\u001b[0;34m]\u001b[0m\u001b[0;34m.\u001b[0m\u001b[0mshape\u001b[0m\u001b[0;34m)\u001b[0m  \u001b[0;31m# shift 3 to the left from lowest to higher dimension.\u001b[0m\u001b[0;34m\u001b[0m\u001b[0;34m\u001b[0m\u001b[0m\n\u001b[0;32m----> 7\u001b[0;31m \u001b[0mprint\u001b[0m\u001b[0;34m(\u001b[0m\u001b[0mnp\u001b[0m\u001b[0;34m.\u001b[0m\u001b[0mr_\u001b[0m\u001b[0;34m[\u001b[0m\u001b[0;34m'0,5,-5'\u001b[0m\u001b[0;34m,\u001b[0m\u001b[0mnp\u001b[0m\u001b[0;34m.\u001b[0m\u001b[0mones\u001b[0m\u001b[0;34m(\u001b[0m\u001b[0;34m(\u001b[0m\u001b[0;36m2\u001b[0m\u001b[0;34m,\u001b[0m\u001b[0;36m3\u001b[0m\u001b[0;34m)\u001b[0m\u001b[0;34m)\u001b[0m\u001b[0;34m]\u001b[0m\u001b[0;34m.\u001b[0m\u001b[0mshape\u001b[0m\u001b[0;34m)\u001b[0m  \u001b[0;31m# Cannot shift shape (2, 3) further than 3 in 5 dimension.\u001b[0m\u001b[0;34m\u001b[0m\u001b[0;34m\u001b[0m\u001b[0m\n\u001b[0m",
      "\u001b[0;32m~/conda/envs/python_programs/lib/python3.8/site-packages/numpy/lib/index_tricks.py\u001b[0m in \u001b[0;36m__getitem__\u001b[0;34m(self, key)\u001b[0m\n\u001b[1;32m    393\u001b[0m                     \u001b[0mdefaxes\u001b[0m \u001b[0;34m=\u001b[0m \u001b[0mlist\u001b[0m\u001b[0;34m(\u001b[0m\u001b[0mrange\u001b[0m\u001b[0;34m(\u001b[0m\u001b[0mndmin\u001b[0m\u001b[0;34m)\u001b[0m\u001b[0;34m)\u001b[0m\u001b[0;34m\u001b[0m\u001b[0;34m\u001b[0m\u001b[0m\n\u001b[1;32m    394\u001b[0m                     \u001b[0maxes\u001b[0m \u001b[0;34m=\u001b[0m \u001b[0mdefaxes\u001b[0m\u001b[0;34m[\u001b[0m\u001b[0;34m:\u001b[0m\u001b[0mk1\u001b[0m\u001b[0;34m]\u001b[0m \u001b[0;34m+\u001b[0m \u001b[0mdefaxes\u001b[0m\u001b[0;34m[\u001b[0m\u001b[0mk2\u001b[0m\u001b[0;34m:\u001b[0m\u001b[0;34m]\u001b[0m \u001b[0;34m+\u001b[0m \u001b[0mdefaxes\u001b[0m\u001b[0;34m[\u001b[0m\u001b[0mk1\u001b[0m\u001b[0;34m:\u001b[0m\u001b[0mk2\u001b[0m\u001b[0;34m]\u001b[0m\u001b[0;34m\u001b[0m\u001b[0;34m\u001b[0m\u001b[0m\n\u001b[0;32m--> 395\u001b[0;31m                     \u001b[0mnewobj\u001b[0m \u001b[0;34m=\u001b[0m \u001b[0mnewobj\u001b[0m\u001b[0;34m.\u001b[0m\u001b[0mtranspose\u001b[0m\u001b[0;34m(\u001b[0m\u001b[0maxes\u001b[0m\u001b[0;34m)\u001b[0m\u001b[0;34m\u001b[0m\u001b[0;34m\u001b[0m\u001b[0m\n\u001b[0m\u001b[1;32m    396\u001b[0m             \u001b[0mobjs\u001b[0m\u001b[0;34m.\u001b[0m\u001b[0mappend\u001b[0m\u001b[0;34m(\u001b[0m\u001b[0mnewobj\u001b[0m\u001b[0;34m)\u001b[0m\u001b[0;34m\u001b[0m\u001b[0;34m\u001b[0m\u001b[0m\n\u001b[1;32m    397\u001b[0m             \u001b[0;32mif\u001b[0m \u001b[0;32mnot\u001b[0m \u001b[0mscalar\u001b[0m \u001b[0;32mand\u001b[0m \u001b[0misinstance\u001b[0m\u001b[0;34m(\u001b[0m\u001b[0mnewobj\u001b[0m\u001b[0;34m,\u001b[0m \u001b[0m_nx\u001b[0m\u001b[0;34m.\u001b[0m\u001b[0mndarray\u001b[0m\u001b[0;34m)\u001b[0m\u001b[0;34m:\u001b[0m\u001b[0;34m\u001b[0m\u001b[0;34m\u001b[0m\u001b[0m\n",
      "\u001b[0;31mValueError\u001b[0m: axes don't match array"
     ]
    }
   ],
   "source": [
    "# Minus(-) is shifting the original shape from the lowest dimension side to the higher in the expanded shape.\n",
    "import numpy as np\n",
    "print(np.r_['0,5,-1',np.ones((2,3))].shape)  # -1 places the original shape at the lowest dimension side.\n",
    "print(np.r_['0,5,-2',np.ones((2,3))].shape)  # shift 1 to the left from lowest to higher dimension.\n",
    "print(np.r_['0,5,-3',np.ones((2,3))].shape)  # shift 2 to the left from lowest to higher dimension.\n",
    "print(np.r_['0,5,-4',np.ones((2,3))].shape)  # shift 3 to the left from lowest to higher dimension.\n",
    "print(np.r_['0,5,-5',np.ones((2,3))].shape)  # Cannot shift shape (2, 3) further than 3 in 5 dimension shape."
   ]
  },
  {
   "cell_type": "code",
   "execution_count": 10,
   "metadata": {},
   "outputs": [
    {
     "name": "stdout",
     "output_type": "stream",
     "text": [
      "--------------------------------------------------------------------------------\n",
      "Default implicit shape expantion, placing the original shape at the lowest dimension side.\n",
      "[[1 2 3]\n",
      " [4 5 6]]\n",
      "--------------------------------------------------------------------------------\n",
      "Simulating the default shape expantion -1 with np.newaxis.\n",
      "[[1 2 3]\n",
      " [4 5 6]]\n",
      "--------------------------------------------------------------------------------\n",
      "Default shape expantion with explicit default -1, placing the original shape at the lowest dimension side\n",
      "[[1 2 3]\n",
      " [4 5 6]]\n",
      "--------------------------------------------------------------------------------\n",
      "Shape expantion with explicit -2, shifting the original shape 1 step to the left\n",
      "[[1]\n",
      " [2]\n",
      " [3]\n",
      " [4]\n",
      " [5]\n",
      " [6]]\n",
      "--------------------------------------------------------------------------------\n",
      "Shape expantion with explicit 0, placing the original shape at the highest dimension side.\n",
      "0 is the lowest dimension, hence (3,) -> (3, 1)\n",
      "[[1]\n",
      " [2]\n",
      " [3]\n",
      " [4]\n",
      " [5]\n",
      " [6]]\n",
      "--------------------------------------------------------------------------------\n",
      "Simulating the shape expantion with 0 with np.newaxis.\n",
      "[[1]\n",
      " [2]\n",
      " [3]\n",
      " [4]\n",
      " [5]\n",
      " [6]]\n"
     ]
    }
   ],
   "source": [
    "print(\"--------------------------------------------------------------------------------\")\n",
    "print(\"Default implicit shape expantion, placing the original shape at the lowest dimension side.\")\n",
    "print(np.r_[\n",
    "    # Frame a 2-dimensional output, and concatenate along the 1st axis (highest dimension).\n",
    "    # Default shape expantion, which is -1, is placing the original shape at the lowest dimension side.\n",
    "    '0,2', \n",
    "    [1,2,3],  # shape (3,)\n",
    "    [4,5,6]   # shape (3,)\n",
    "])\n",
    "\n",
    "print(\"--------------------------------------------------------------------------------\")\n",
    "print(\"Simulating the default shape expantion -1 with np.newaxis.\")\n",
    "a = np.array([1,2,3])\n",
    "b = np.array([4,5,6])\n",
    "\n",
    "print(np.r_[\n",
    "    # Frame a 2-dimensional output and concatenate the expanded elements along the 1st axis in the output.\n",
    "    '0,2', \n",
    "    # Simulating the default shape expantion from (3,) to (1,3) using np.newaxis.\n",
    "    a[\n",
    "        np.newaxis,\n",
    "        ::\n",
    "    ],\n",
    "    b[\n",
    "        np.newaxis,\n",
    "        ::\n",
    "    ]\n",
    "])\n",
    "\n",
    "print(\"--------------------------------------------------------------------------------\")\n",
    "print(\"Default shape expantion with explicit default -1, placing the original shape at the lowest dimension side\")\n",
    "print(np.r_[\n",
    "    # Frame a 2-dimensional output, and concatenate along the 1st axis in the output.\n",
    "    # Expand the element shape using the default expansion (-1).\n",
    "    '0,2,-1', \n",
    "    # Elements to be expanded from (3,) -> (1,3).\n",
    "    [1,2,3],  \n",
    "    [4,5,6]\n",
    "])\n",
    "\n",
    "print(\"--------------------------------------------------------------------------------\")\n",
    "print(\"Shape expantion with explicit -2, shifting the original shape 1 step to the left\")\n",
    "print(np.r_[\n",
    "    # Frame a 2-dimensional output, and concatenate along the 1st axis in the output.\n",
    "    # Expand the element shape by adding shape location 1 from (3,) to (1,3).\n",
    "    '0,2,-2', \n",
    "    # Elements to be expanded from (3,) -> (1,3).\n",
    "    [1,2,3],  \n",
    "    [4,5,6]\n",
    "])\n",
    "\n",
    "print(\"--------------------------------------------------------------------------------\")\n",
    "print(\"Shape expantion with explicit 0, placing the original shape at the highest dimension side.\")\n",
    "print(\"0 is the lowest dimension, hence (3,) -> (3, 1)\")\n",
    "print(np.r_[\n",
    "    # Frame a 2-dimensional output, and concatenate expanded elements along the first axis 0.\n",
    "    # Expand the element shape from (3,) to (3,1) by placing the original shape at the highest dimension side.\n",
    "    '0,2,0', \n",
    "    [1,2,3], \n",
    "    [4,5,6]\n",
    "])\n",
    "\n",
    "print(\"--------------------------------------------------------------------------------\")\n",
    "print(\"Simulating the shape expantion with 0 with np.newaxis.\")\n",
    "a = np.array([1,2,3])\n",
    "b = np.array([4,5,6])\n",
    "\n",
    "print(np.r_[\n",
    "    # Frame a 2-dimensional output and concatenate the expanded elements along the 1st axis in the output.\n",
    "    '0,2', \n",
    "    # Simulating the shape expantion with 0, from (3,) to (3, 1), using np.newaxis.\n",
    "    a[\n",
    "        ::,\n",
    "        np.newaxis\n",
    "    ],\n",
    "    b[\n",
    "        ::,\n",
    "        np.newaxis\n",
    "    ]\n",
    "])\n"
   ]
  },
  {
   "cell_type": "markdown",
   "metadata": {},
   "source": [
    "### Shifting in action\n",
    "\n",
    "See how the original shape (2,3) is being shifted from the -1 or 0 case."
   ]
  },
  {
   "cell_type": "code",
   "execution_count": 31,
   "metadata": {},
   "outputs": [
    {
     "name": "stdout",
     "output_type": "stream",
     "text": [
      "[[1. 1. 1.]\n",
      " [1. 1. 1.]]\n",
      "r_[0,3,0] on (2, 3) is (2, 3, 1)\n",
      "\n",
      "r_[0,3,1] on (2, 3) is (1, 2, 3)\n",
      "\n",
      "r_[0,4,0] on (2, 3) is (2, 3, 1, 1)\n",
      "\n",
      "r_[0,4,1] on (2, 3) is (1, 2, 3, 1)\n",
      "\n",
      "r_[0,4,2] on (2, 3) is (1, 1, 2, 3)\n",
      "\n"
     ]
    },
    {
     "ename": "ValueError",
     "evalue": "axes don't match array",
     "output_type": "error",
     "traceback": [
      "\u001b[0;31m---------------------------------------------------------------------------\u001b[0m",
      "\u001b[0;31mValueError\u001b[0m                                Traceback (most recent call last)",
      "\u001b[0;32m<ipython-input-31-4c2611d0faaa>\u001b[0m in \u001b[0;36m<module>\u001b[0;34m\u001b[0m\n\u001b[1;32m     46\u001b[0m \u001b[0;34m\u001b[0m\u001b[0m\n\u001b[1;32m     47\u001b[0m print(\"r_[0,4,3] on (2, 3) is {}\\n\".format(\n\u001b[0;32m---> 48\u001b[0;31m     np.r_[\n\u001b[0m\u001b[1;32m     49\u001b[0m         \u001b[0;34m'0,4,3'\u001b[0m\u001b[0;34m,\u001b[0m\u001b[0;34m\u001b[0m\u001b[0;34m\u001b[0m\u001b[0m\n\u001b[1;32m     50\u001b[0m         \u001b[0mnp\u001b[0m\u001b[0;34m.\u001b[0m\u001b[0mones\u001b[0m\u001b[0;34m(\u001b[0m\u001b[0;34m(\u001b[0m\u001b[0;36m2\u001b[0m\u001b[0;34m,\u001b[0m\u001b[0;36m3\u001b[0m\u001b[0;34m)\u001b[0m\u001b[0;34m)\u001b[0m\u001b[0;34m\u001b[0m\u001b[0;34m\u001b[0m\u001b[0m\n",
      "\u001b[0;32m~/conda/envs/python_programs/lib/python3.8/site-packages/numpy/lib/index_tricks.py\u001b[0m in \u001b[0;36m__getitem__\u001b[0;34m(self, key)\u001b[0m\n\u001b[1;32m    393\u001b[0m                     \u001b[0mdefaxes\u001b[0m \u001b[0;34m=\u001b[0m \u001b[0mlist\u001b[0m\u001b[0;34m(\u001b[0m\u001b[0mrange\u001b[0m\u001b[0;34m(\u001b[0m\u001b[0mndmin\u001b[0m\u001b[0;34m)\u001b[0m\u001b[0;34m)\u001b[0m\u001b[0;34m\u001b[0m\u001b[0;34m\u001b[0m\u001b[0m\n\u001b[1;32m    394\u001b[0m                     \u001b[0maxes\u001b[0m \u001b[0;34m=\u001b[0m \u001b[0mdefaxes\u001b[0m\u001b[0;34m[\u001b[0m\u001b[0;34m:\u001b[0m\u001b[0mk1\u001b[0m\u001b[0;34m]\u001b[0m \u001b[0;34m+\u001b[0m \u001b[0mdefaxes\u001b[0m\u001b[0;34m[\u001b[0m\u001b[0mk2\u001b[0m\u001b[0;34m:\u001b[0m\u001b[0;34m]\u001b[0m \u001b[0;34m+\u001b[0m \u001b[0mdefaxes\u001b[0m\u001b[0;34m[\u001b[0m\u001b[0mk1\u001b[0m\u001b[0;34m:\u001b[0m\u001b[0mk2\u001b[0m\u001b[0;34m]\u001b[0m\u001b[0;34m\u001b[0m\u001b[0;34m\u001b[0m\u001b[0m\n\u001b[0;32m--> 395\u001b[0;31m                     \u001b[0mnewobj\u001b[0m \u001b[0;34m=\u001b[0m \u001b[0mnewobj\u001b[0m\u001b[0;34m.\u001b[0m\u001b[0mtranspose\u001b[0m\u001b[0;34m(\u001b[0m\u001b[0maxes\u001b[0m\u001b[0;34m)\u001b[0m\u001b[0;34m\u001b[0m\u001b[0;34m\u001b[0m\u001b[0m\n\u001b[0m\u001b[1;32m    396\u001b[0m             \u001b[0mobjs\u001b[0m\u001b[0;34m.\u001b[0m\u001b[0mappend\u001b[0m\u001b[0;34m(\u001b[0m\u001b[0mnewobj\u001b[0m\u001b[0;34m)\u001b[0m\u001b[0;34m\u001b[0m\u001b[0;34m\u001b[0m\u001b[0m\n\u001b[1;32m    397\u001b[0m             \u001b[0;32mif\u001b[0m \u001b[0;32mnot\u001b[0m \u001b[0mscalar\u001b[0m \u001b[0;32mand\u001b[0m \u001b[0misinstance\u001b[0m\u001b[0;34m(\u001b[0m\u001b[0mnewobj\u001b[0m\u001b[0;34m,\u001b[0m \u001b[0m_nx\u001b[0m\u001b[0;34m.\u001b[0m\u001b[0mndarray\u001b[0m\u001b[0;34m)\u001b[0m\u001b[0;34m:\u001b[0m\u001b[0;34m\u001b[0m\u001b[0;34m\u001b[0m\u001b[0m\n",
      "\u001b[0;31mValueError\u001b[0m: axes don't match array"
     ]
    }
   ],
   "source": [
    "import numpy as np\n",
    "print(np.ones((2, 3)))\n",
    "np.r_['0,3',np.ones((2,3))].shape\n",
    "\n",
    "print(\"r_[0,3,0] on (2, 3) is {}\\n\".format(\n",
    "    np.r_[\n",
    "        '0,3,0',\n",
    "        np.ones((2,3))\n",
    "    ].shape\n",
    "))\n",
    "\n",
    "print(\"r_[0,3,1] on (2, 3) is {}\\n\".format(\n",
    "    np.r_[\n",
    "        '0,3,1',\n",
    "        np.ones((2,3))\n",
    "    ].shape\n",
    "))\n",
    "\n",
    "\"\"\"print(\"r_[0,3,2] on (2, 3) is {}\\n\".format(\n",
    "    np.r_[\n",
    "        '0,3,2',\n",
    "        np.ones((2,3))\n",
    "    ].shape\n",
    "))\n",
    "\"\"\"\n",
    "print(\"r_[0,4,0] on (2, 3) is {}\\n\".format(\n",
    "    np.r_[\n",
    "        '0,4,0',\n",
    "        np.ones((2,3))\n",
    "    ].shape\n",
    "))\n",
    "\n",
    "print(\"r_[0,4,1] on (2, 3) is {}\\n\".format(\n",
    "    np.r_[\n",
    "        '0,4,1',\n",
    "        np.ones((2,3))\n",
    "    ].shape\n",
    "))\n",
    "\n",
    "print(\"r_[0,4,2] on (2, 3) is {}\\n\".format(\n",
    "    np.r_[\n",
    "        '0,4,2',\n",
    "        np.ones((2,3))\n",
    "    ].shape\n",
    "))\n",
    "\n",
    "print(\"r_[0,4,3] on (2, 3) is {}\\n\".format(\n",
    "    np.r_[\n",
    "        '0,4,3',\n",
    "        np.ones((2,3))\n",
    "    ].shape\n",
    "))"
   ]
  }
 ],
 "metadata": {
  "kernelspec": {
   "display_name": "Python 3",
   "language": "python",
   "name": "python3"
  },
  "language_info": {
   "codemirror_mode": {
    "name": "ipython",
    "version": 3
   },
   "file_extension": ".py",
   "mimetype": "text/x-python",
   "name": "python",
   "nbconvert_exporter": "python",
   "pygments_lexer": "ipython3",
   "version": "3.8.5"
  }
 },
 "nbformat": 4,
 "nbformat_minor": 4
}
