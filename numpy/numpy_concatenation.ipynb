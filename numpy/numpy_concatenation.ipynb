{
 "cells": [
  {
   "cell_type": "code",
   "execution_count": 1,
   "metadata": {},
   "outputs": [],
   "source": [
    "import numpy as np"
   ]
  },
  {
   "cell_type": "markdown",
   "metadata": {},
   "source": [
    "# vstack"
   ]
  },
  {
   "cell_type": "code",
   "execution_count": 7,
   "metadata": {},
   "outputs": [
    {
     "name": "stdout",
     "output_type": "stream",
     "text": [
      "(2, 5)\n",
      "[[ 1  2  3  4  5]\n",
      " [10 20 30 40 50]]\n"
     ]
    }
   ],
   "source": [
    "a = np.vstack([\n",
    "    np.array([]).reshape(0, 5),\n",
    "    np.array([1,2,3,4,5]), \n",
    "    np.array([10, 20, 30, 40, 50])]\n",
    ").astype(np.int32)\n",
    "print(a.shape)\n",
    "print(a)"
   ]
  },
  {
   "cell_type": "code",
   "execution_count": null,
   "metadata": {},
   "outputs": [],
   "source": []
  },
  {
   "cell_type": "markdown",
   "metadata": {},
   "source": [
    "# r_"
   ]
  },
  {
   "cell_type": "code",
   "execution_count": 23,
   "metadata": {},
   "outputs": [
    {
     "name": "stdout",
     "output_type": "stream",
     "text": [
      "[1 2 3 4 5 6]\n",
      "[1 2 3 4 5 6]\n",
      "[1 2 3 4 5 6]\n"
     ]
    }
   ],
   "source": [
    "print(np.r_[\n",
    "    np.array([1,2,3]), \n",
    "    np.array([4,5,6])\n",
    "])\n",
    "\n",
    "# Same with above\n",
    "print(np.r_[\n",
    "    # Frame 1-dimensional container, and concatenate elements \n",
    "    # along the default axis (-1), which is 0 (first axis)\n",
    "    '-1,1',\n",
    "    # Elements\n",
    "    np.array([1,2,3]), \n",
    "    np.array([4,5,6])\n",
    "])\n",
    "\n",
    "# Same with above. Specific with which axis.\n",
    "print(np.r_[\n",
    "    '0,1',              \n",
    "    np.array([1,2,3]), \n",
    "    np.array([4,5,6])\n",
    "])"
   ]
  },
  {
   "cell_type": "code",
   "execution_count": 17,
   "metadata": {},
   "outputs": [
    {
     "name": "stdout",
     "output_type": "stream",
     "text": [
      "E: \n",
      "[]\n",
      "Shape (0, 5)\n",
      "\n",
      "A:\n",
      "[[ 1  2  3  4  5]\n",
      " [10 20 30 40 50]]\n",
      "Shape (2, 5)\n",
      "\n",
      "C:\n",
      "[[ 1  2  3  4  5]\n",
      " [10 20 30 40 50]]\n",
      "Shape (2, 5)\n",
      "\n"
     ]
    }
   ],
   "source": [
    "E = np.array([\n",
    "    \n",
    "]).reshape(0, 5)\n",
    "print(\"E: \\n{}\\nShape {}\\n\".format(E, E.shape))\n",
    "\n",
    "A = np.vstack([\n",
    "    [1, 2, 3, 4, 5], \n",
    "    [10, 20, 30, 40, 50]]\n",
    ")\n",
    "print(\"A:\\n{}\\nShape {}\\n\".format(A, A.shape))\n",
    "\n",
    "C = np.r_[\n",
    "    E, \n",
    "    A\n",
    "].astype(np.int32)\n",
    "\n",
    "print(\"C:\\n{}\\nShape {}\\n\".format(C, C.shape))"
   ]
  },
  {
   "cell_type": "markdown",
   "metadata": {},
   "source": [
    "## Framing output shape with string integer argument"
   ]
  },
  {
   "cell_type": "code",
   "execution_count": 25,
   "metadata": {},
   "outputs": [
    {
     "name": "stdout",
     "output_type": "stream",
     "text": [
      "[[1 2 3]\n",
      " [4 5 6]]\n",
      "[[1 2 3 4 5 6]]\n"
     ]
    }
   ],
   "source": [
    "print(np.r_[\n",
    "    # Frame 2-dimensional output, and concatenate elements along the 1st axis.\n",
    "    '0,2', \n",
    "    [1,2,3], \n",
    "    [4,5,6]\n",
    "])\n",
    "\n",
    "print(np.r_[\n",
    "    # Frame 2-dimensional output, and concatenate elements along the 2nd axis.\n",
    "    # [ [1,2,3] [4,5,6] ] cannot be [ [1,2,3], [4,5,6]] as it is stacking along the 1st axis.\n",
    "    # Hence [ [1,2,3] [4,5,6] ] -> [ [1,2,3, 4,5,6] ] \n",
    "    '1,2', \n",
    "    [1,2,3], \n",
    "    [4,5,6]\n",
    "])"
   ]
  },
  {
   "cell_type": "markdown",
   "metadata": {},
   "source": [
    "### Setting the shape expantion"
   ]
  },
  {
   "cell_type": "code",
   "execution_count": 47,
   "metadata": {},
   "outputs": [
    {
     "name": "stdout",
     "output_type": "stream",
     "text": [
      "--------------------------------------------------------------------------------\n",
      "Default implicit shape expantion, adding higher dimension(s) to the shape.\n",
      "[[1 2 3]\n",
      " [4 5 6]]\n",
      "--------------------------------------------------------------------------------\n",
      "Simulating the default shape expantion -1 with np.newaxis.\n",
      "[[1 2 3]\n",
      " [4 5 6]]\n",
      "--------------------------------------------------------------------------------\n",
      "Default shape expantion with explicit default -1, adding higher dimension(s) to the shape.\n",
      "[[1 2 3]\n",
      " [4 5 6]]\n",
      "--------------------------------------------------------------------------------\n",
      "Shape expantion with explicit 1, from (3,) into (1,3).\n",
      "When expanding the shape (3,) into (1,3), default -1 is the same with 1.\n",
      "For a shape (k, j, i), 2 is the location integer for 'k', 1 for 'j', 0 for 'i'\n",
      "[[1 2 3]\n",
      " [4 5 6]]\n",
      "--------------------------------------------------------------------------------\n",
      "Shape expantion with explicit 0, adding the lowest dimension as the shape location to expand.\n",
      "0 is the lowest dimension, hence (3,) -> (3, 1)\n",
      "[[1]\n",
      " [2]\n",
      " [3]\n",
      " [4]\n",
      " [5]\n",
      " [6]]\n",
      "--------------------------------------------------------------------------------\n",
      "Simulating the shape expantion with 0 with np.newaxis.\n",
      "[[1]\n",
      " [2]\n",
      " [3]\n",
      " [4]\n",
      " [5]\n",
      " [6]]\n"
     ]
    }
   ],
   "source": [
    "print(\"--------------------------------------------------------------------------------\")\n",
    "print(\"Default implicit shape expantion, adding higher dimension(s) to the shape.\")\n",
    "print(np.r_[\n",
    "    # Frameing a 2-dimensional output, and concatenate along the 1st axis (highest dimension).\n",
    "    # Default shape expantion, which is -1, is adding higher dimension(s), eg (3,) -> (1, 3).\n",
    "    '0,2', \n",
    "    [1,2,3],  # shape (3,)\n",
    "    [4,5,6]   # shape (3,)\n",
    "])\n",
    "\n",
    "print(\"--------------------------------------------------------------------------------\")\n",
    "print(\"Simulating the default shape expantion -1 with np.newaxis.\")\n",
    "a = np.array([1,2,3])\n",
    "b = np.array([4,5,6])\n",
    "\n",
    "print(np.r_[\n",
    "    # Frame a 2-dimensional output and concatenate the expanded elements along the 1st axis in the output.\n",
    "    '0,2', \n",
    "    # Simulating the default shape expantion from (3,) to (1,3) using np.newaxis.\n",
    "    a[\n",
    "        np.newaxis,\n",
    "        ::\n",
    "    ],\n",
    "    b[\n",
    "        np.newaxis,\n",
    "        ::\n",
    "    ]\n",
    "])\n",
    "\n",
    "print(\"--------------------------------------------------------------------------------\")\n",
    "print(\"Default shape expantion with explicit default -1, adding higher dimension(s) to the shape.\")\n",
    "print(np.r_[\n",
    "    # Frame a 2-dimensional output, and concatenate along the 1st axis in the output.\n",
    "    # Expand the element shape using the default expansion (-1).\n",
    "    '0,2,-1', \n",
    "    # Elements to be expanded from (3,) -> (1,3).\n",
    "    [1,2,3],  \n",
    "    [4,5,6]\n",
    "])\n",
    "\n",
    "print(\"--------------------------------------------------------------------------------\")\n",
    "print(\"Shape expantion with explicit 1, from (3,) into (1,3).\")\n",
    "print(\"When expanding the shape (3,) into (1,3), default -1 is the same with 1.\")\n",
    "print(\"For a shape (k, j, i), 2 is the location integer for 'k', 1 for 'j', 0 for 'i'\")  \n",
    "print(np.r_[\n",
    "    # Frame a 2-dimensional output, and concatenate along the 1st axis in the output.\n",
    "    # Expand the element shape by adding shape location 1 from (3,) to (1,3).\n",
    "    '0,2,1', \n",
    "    # Elements to be expanded from (3,) -> (1,3).\n",
    "    [1,2,3],  \n",
    "    [4,5,6]\n",
    "])\n",
    "\n",
    "print(\"--------------------------------------------------------------------------------\")\n",
    "print(\"Shape expantion with explicit 0, adding the lowest dimension as the shape location to expand.\")\n",
    "print(\"0 is the lowest dimension, hence (3,) -> (3, 1)\")\n",
    "print(np.r_[\n",
    "    # Frame a 2-dimensional output, and concatenate expanded elements along the first axis 0.\n",
    "    # Expand the element shape from (3,) to (3,1) by adding the lowerst dimension to the shape.\n",
    "    '0,2,0', \n",
    "    [1,2,3], \n",
    "    [4,5,6]\n",
    "])\n",
    "\n",
    "print(\"--------------------------------------------------------------------------------\")\n",
    "print(\"Simulating the shape expantion with 0 with np.newaxis.\")\n",
    "a = np.array([1,2,3])\n",
    "b = np.array([4,5,6])\n",
    "\n",
    "print(np.r_[\n",
    "    # Frame a 2-dimensional output and concatenate the expanded elements along the 1st axis in the output.\n",
    "    '0,2', \n",
    "    # Simulating the shape expantion with 0, from (3,) to (3, 1), using np.newaxis.\n",
    "    a[\n",
    "        ::,\n",
    "        np.newaxis\n",
    "    ],\n",
    "    b[\n",
    "        ::,\n",
    "        np.newaxis\n",
    "    ]\n",
    "])\n"
   ]
  },
  {
   "cell_type": "code",
   "execution_count": null,
   "metadata": {},
   "outputs": [],
   "source": []
  }
 ],
 "metadata": {
  "kernelspec": {
   "display_name": "Python 3",
   "language": "python",
   "name": "python3"
  },
  "language_info": {
   "codemirror_mode": {
    "name": "ipython",
    "version": 3
   },
   "file_extension": ".py",
   "mimetype": "text/x-python",
   "name": "python",
   "nbconvert_exporter": "python",
   "pygments_lexer": "ipython3",
   "version": "3.8.5"
  }
 },
 "nbformat": 4,
 "nbformat_minor": 4
}
