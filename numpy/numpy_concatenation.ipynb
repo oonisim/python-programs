{
 "cells": [
  {
   "cell_type": "code",
   "execution_count": 1,
   "metadata": {},
   "outputs": [],
   "source": [
    "import numpy as np"
   ]
  },
  {
   "cell_type": "markdown",
   "metadata": {},
   "source": [
    "# vstack\n",
    "```np.vstack([...])``` : takes out the elements of ```[...]``` (monad bind) and concatenate all elements back into a list (monad unit)."
   ]
  },
  {
   "cell_type": "code",
   "execution_count": 2,
   "metadata": {},
   "outputs": [
    {
     "name": "stdout",
     "output_type": "stream",
     "text": [
      "(2, 5)\n",
      "[[ 1  2  3  4  5]\n",
      " [10 20 30 40 50]]\n"
     ]
    }
   ],
   "source": [
    "a = np.vstack([\n",
    "    np.array([]).reshape(0, 5),\n",
    "    np.array([1,2,3,4,5]), \n",
    "    np.array([10, 20, 30, 40, 50])\n",
    "]).astype(np.int32)\n",
    "print(a.shape)\n",
    "print(a)"
   ]
  },
  {
   "cell_type": "code",
   "execution_count": 3,
   "metadata": {},
   "outputs": [
    {
     "name": "stdout",
     "output_type": "stream",
     "text": [
      "[[ 0  1  2  3  4]\n",
      " [ 5  6  7  8  9]\n",
      " [10 11 12 13 14]]\n"
     ]
    },
    {
     "data": {
      "text/plain": [
       "array([[ 0,  1,  2,  3,  4],\n",
       "       [ 0,  1,  2,  3,  4],\n",
       "       [ 5,  6,  7,  8,  9],\n",
       "       [10, 11, 12, 13, 14]])"
      ]
     },
     "execution_count": 3,
     "metadata": {},
     "output_type": "execute_result"
    }
   ],
   "source": [
    "a = np.arange(15).reshape(3, 5)\n",
    "print(a)\n",
    "\n",
    "np.vstack([\n",
    "    [0,1,2,3,4],\n",
    "    a\n",
    "])"
   ]
  },
  {
   "cell_type": "markdown",
   "metadata": {},
   "source": [
    "## Vertical stack same rows without vstack"
   ]
  },
  {
   "cell_type": "code",
   "execution_count": 4,
   "metadata": {},
   "outputs": [
    {
     "name": "stdout",
     "output_type": "stream",
     "text": [
      "[3.64723539 1.32567096 0.0771877 ]\n",
      "\n"
     ]
    },
    {
     "data": {
      "text/plain": [
       "array([[3.64723539, 1.32567096, 0.0771877 ],\n",
       "       [3.64723539, 1.32567096, 0.0771877 ],\n",
       "       [3.64723539, 1.32567096, 0.0771877 ],\n",
       "       [3.64723539, 1.32567096, 0.0771877 ],\n",
       "       [3.64723539, 1.32567096, 0.0771877 ]])"
      ]
     },
     "execution_count": 4,
     "metadata": {},
     "output_type": "execute_result"
    }
   ],
   "source": [
    "N = 5\n",
    "M = 3\n",
    "row = np.random.uniform(\n",
    "    -5, 5, M\n",
    ").astype(float)\n",
    "print(f\"{row}\\n\")\n",
    "X = np.ones((N, M)) * row\n",
    "X"
   ]
  },
  {
   "cell_type": "markdown",
   "metadata": {},
   "source": [
    "# r_\n",
    "\n",
    "Row oriented concatenation which is the same with vstack.\n",
    "```np.r_[...]```\n",
    "1. Take out elements of ```[...]``` (monad bind).\n",
    "2. Evaluate each element. e.g. slice expression ```1:3``` into a slice object.\n",
    "3. Concatenate all elements back into an array (monad unit)."
   ]
  },
  {
   "cell_type": "markdown",
   "metadata": {},
   "source": [
    "## Syntax for Slice Concatenation\n",
    "\n",
    "> If the index expression contains slice notation or scalars then create a 1-D array with a range indicated by the slice notation."
   ]
  },
  {
   "cell_type": "code",
   "execution_count": 5,
   "metadata": {},
   "outputs": [
    {
     "name": "stdout",
     "output_type": "stream",
     "text": [
      "[1 3 5 2 4 6 3]\n"
     ]
    }
   ],
   "source": [
    "print(np.r_[\n",
    "    1:6:2,   # Creates an array [1,3,5]\n",
    "    2:7:2,   # Creates an array [2,4,6]\n",
    "    3        # Creates an array [3]\n",
    "])           # Concatenates [1,3,5], [2,4,6], and [3]"
   ]
  },
  {
   "cell_type": "code",
   "execution_count": 6,
   "metadata": {},
   "outputs": [
    {
     "name": "stdout",
     "output_type": "stream",
     "text": [
      "[[[1 3 5 2 4 6 3]]]\n"
     ]
    }
   ],
   "source": [
    "print(np.r_[\n",
    "    \"-1, 3\", # Create a container array of rank 3, and concatenate the arrays along the lowest axis (-1)\n",
    "    1:6:2,   # Creates an array [1,3,5]\n",
    "    2:7:2,   # Creates an array [2,4,6]\n",
    "    3        # Creates an array [3]\n",
    "])           # Concatenates [1,3,5], [2,4,6], and [3] in the lowest axis space"
   ]
  },
  {
   "cell_type": "markdown",
   "metadata": {},
   "source": [
    "## Syntax for Array Stacking\n",
    "\n",
    "> If the index expression contains comma separated arrays, then stack them along their first axis."
   ]
  },
  {
   "cell_type": "code",
   "execution_count": 7,
   "metadata": {},
   "outputs": [
    {
     "name": "stdout",
     "output_type": "stream",
     "text": [
      "[[ 1  2  3]\n",
      " [-1 -2 -3]\n",
      " [ 4  5  6]]\n"
     ]
    }
   ],
   "source": [
    "print(np.r_[\n",
    "    np.array([        # Rank 2 array of shape (2,3)\n",
    "        [1,2,3], \n",
    "        [-1,-2,-3]\n",
    "    ]), \n",
    "    np.array([        # Rank 2 array of shape (1,3)\n",
    "        [4,5,6]\n",
    "    ])\n",
    "])                    # Stack rank 2 arrays into (3,3) along the highest dimension axis at rank 2"
   ]
  },
  {
   "cell_type": "markdown",
   "metadata": {},
   "source": [
    "Same with vstack"
   ]
  },
  {
   "cell_type": "code",
   "execution_count": 8,
   "metadata": {},
   "outputs": [
    {
     "name": "stdout",
     "output_type": "stream",
     "text": [
      "[[ 1  2  3]\n",
      " [-1 -2 -3]\n",
      " [ 4  5  6]]\n"
     ]
    }
   ],
   "source": [
    "print(np.vstack((     # Stack rank 2 arrays into rank 2 array by concatenating the contents of the 2 arrays\n",
    "    np.array([        # Rank 2 array of shape (2,3)\n",
    "        [1,2,3], \n",
    "        [-1,-2,-3]\n",
    "    ]), \n",
    "    np.array([        # Rank 2 array of shape (1,3)\n",
    "        [4,5,6]\n",
    "    ])\n",
    ")))                   # Rank 2 array of shape (3, 3)"
   ]
  },
  {
   "cell_type": "code",
   "execution_count": 9,
   "metadata": {},
   "outputs": [
    {
     "name": "stdout",
     "output_type": "stream",
     "text": [
      "[[ 1  2  3]\n",
      " [-1 -2 -3]\n",
      " [ 4  5  6]]\n"
     ]
    }
   ],
   "source": [
    "print(np.r_[\n",
    "    \"0,2\",            # Frame a container array of rank 2, and concatenate the arrays along the 0th axis (highest)\n",
    "    np.array([        # Rank 2 array of shape (2,3)\n",
    "        [1,2,3], \n",
    "        [-1,-2,-3]\n",
    "    ]), \n",
    "    np.array([        # Rank 2 array of shape (1,3)\n",
    "        [4,5,6]\n",
    "    ])\n",
    "])                    # Stack rank 2 arrays into (3,3) along the highest dimension axis at rank 2"
   ]
  },
  {
   "cell_type": "code",
   "execution_count": 10,
   "metadata": {},
   "outputs": [
    {
     "name": "stdout",
     "output_type": "stream",
     "text": [
      "[1 2 3 4 5 6]\n",
      "[1 2 3 4 5 6]\n",
      "[1 2 3 4 5 6]\n"
     ]
    }
   ],
   "source": [
    "print(np.r_[\n",
    "    np.array([1,2,3]), \n",
    "    np.array([4,5,6])\n",
    "])\n",
    "\n",
    "# Same with above\n",
    "print(np.r_[\n",
    "    # Frame 1-dimensional container, and concatenate elements \n",
    "    # along the default axis (-1), which is 0 (first axis)\n",
    "    '-1,1',\n",
    "    # Elements\n",
    "    np.array([1,2,3]), \n",
    "    np.array([4,5,6])\n",
    "])\n",
    "\n",
    "# Same with above. Specific with which axis.\n",
    "print(np.r_[\n",
    "    '0,1',              \n",
    "    np.array([1,2,3]), \n",
    "    np.array([4,5,6])\n",
    "])"
   ]
  },
  {
   "cell_type": "code",
   "execution_count": 11,
   "metadata": {},
   "outputs": [
    {
     "name": "stdout",
     "output_type": "stream",
     "text": [
      "E: \n",
      "[]\n",
      "Shape (0, 5)\n",
      "\n",
      "A:\n",
      "[[ 1  2  3  4  5]\n",
      " [10 20 30 40 50]]\n",
      "Shape (2, 5)\n",
      "\n",
      "C = np.r_[\n",
      "    E, \n",
      "    A\n",
      "].astype(np.int32) is\n",
      "[[ 1  2  3  4  5]\n",
      " [10 20 30 40 50]]\n",
      "with shape (2, 5)\n",
      "\n"
     ]
    }
   ],
   "source": [
    "E = np.array([\n",
    "    \n",
    "]).reshape(0, 5)\n",
    "print(\"E: \\n{}\\nShape {}\\n\".format(E, E.shape))\n",
    "\n",
    "A = np.vstack([\n",
    "    [1, 2, 3, 4, 5], \n",
    "    [10, 20, 30, 40, 50]]\n",
    ")\n",
    "print(\"A:\\n{}\\nShape {}\\n\".format(A, A.shape))\n",
    "\n",
    "fmt = \"\"\"C = np.r_[\n",
    "    E, \n",
    "    A\n",
    "].astype(np.int32)\"\"\"\n",
    "\n",
    "C = np.r_[\n",
    "    E, \n",
    "    A\n",
    "].astype(np.int32)\n",
    "\n",
    "print(f\"{fmt} is\\n{C}\\nwith shape {C.shape}\\n\")"
   ]
  },
  {
   "cell_type": "markdown",
   "metadata": {},
   "source": [
    "## Framing output shape with string integer argument\n",
    "``` \n",
    "np.r_[\n",
    "  \"<axis, rank, shift>,\n",
    "  arrays\n",
    "]\n",
    "```\n",
    "\n",
    "Example:\n",
    "```\n",
    "np.r_[\n",
    "    # 1st integer '0' specifies the axis along which to concatenate elements.\n",
    "    # 2nd integer '3' specifies to frame the container of n=3 dimensions.\n",
    "    # \n",
    "    # It is telling numpy that.\n",
    "    # 1. Frame 3-dimensional output.\n",
    "    # 2. Concatenate elements along the 0th axis\n",
    "    # 3. Shift the original shape twice to the right.\n",
    "    '0,5,2', \n",
    "    [1,2,3], \n",
    "    [4,5,6]\n",
    "]\n",
    "```"
   ]
  },
  {
   "cell_type": "code",
   "execution_count": 12,
   "metadata": {},
   "outputs": [
    {
     "data": {
      "text/plain": [
       "array([[[1, 2, 3]],\n",
       "\n",
       "       [[4, 5, 6]]])"
      ]
     },
     "execution_count": 12,
     "metadata": {},
     "output_type": "execute_result"
    }
   ],
   "source": [
    "np.r_[\n",
    "    # 1st integer '0' specifies the axis along which to concatenate elements.\n",
    "    # 2nd integer '3' specifies to frame the container of n=3 dimensions.\n",
    "    # \n",
    "    # It is telling numpy that.\n",
    "    # 1. Frame 3-dimensional output.\n",
    "    # 2. Concatenate elements along the 0th axis\n",
    "    # 3. Shift the original shape twice to the right to fit in the 3 dimensional frame.\n",
    "    '0,3,-1', \n",
    "    [1,2,3], \n",
    "    [4,5,6]\n",
    "]"
   ]
  },
  {
   "cell_type": "code",
   "execution_count": 13,
   "metadata": {},
   "outputs": [
    {
     "name": "stdout",
     "output_type": "stream",
     "text": [
      "X is \n",
      "[[0 1]\n",
      " [2 3]]\n",
      "\n",
      "(1, 1, 2, 2)\n",
      "np.r_['0,3,0',X] is\n",
      "[[[[0 1]\n",
      "   [2 3]]]]\n",
      "\n"
     ]
    }
   ],
   "source": [
    "X = np.arange(2*2).reshape((2,2))\n",
    "print(f\"X is \\n{X}\\n\")\n",
    "Y = np.r_['0,4,2',X]\n",
    "print(Y.shape)\n",
    "print(f\"np.r_['0,3,0',X] is\\n{Y}\\n\")"
   ]
  },
  {
   "cell_type": "code",
   "execution_count": null,
   "metadata": {},
   "outputs": [],
   "source": []
  },
  {
   "cell_type": "code",
   "execution_count": 14,
   "metadata": {},
   "outputs": [
    {
     "name": "stdout",
     "output_type": "stream",
     "text": [
      "[[1 2 3]\n",
      " [4 5 6]]\n",
      "[[1 2 3 4 5 6]]\n"
     ]
    }
   ],
   "source": [
    "print(np.r_[\n",
    "    # Frame 2-dimensional output, and concatenate elements along the 1st axis.\n",
    "    '0,2', \n",
    "    [1,2,3], \n",
    "    [4,5,6]\n",
    "])\n",
    "\n",
    "print(np.r_[\n",
    "    # Frame 2-dimensional output, and concatenate elements along the 2nd axis.\n",
    "    # [ [1,2,3] [4,5,6] ] cannot be [ [1,2,3], [4,5,6]] as it is stacking along the 1st axis.\n",
    "    # Hence [ [1,2,3] [4,5,6] ] -> [ [1,2,3, 4,5,6] ] \n",
    "    '1,2', \n",
    "    [1,2,3], \n",
    "    [4,5,6]\n",
    "])"
   ]
  },
  {
   "cell_type": "markdown",
   "metadata": {},
   "source": [
    "### Setting the shape expantion\n",
    "Plus(+) is shifting the original shape from the highest dimension side to lower in the expanded shape. Minus(-) is shifting the original shape from the lowest dimension side to higher."
   ]
  },
  {
   "cell_type": "code",
   "execution_count": 15,
   "metadata": {},
   "outputs": [
    {
     "name": "stdout",
     "output_type": "stream",
     "text": [
      "(2, 3, 1, 1, 1)\n",
      "(1, 2, 3, 1, 1)\n",
      "(1, 1, 2, 3, 1)\n",
      "(1, 1, 1, 2, 3)\n"
     ]
    }
   ],
   "source": [
    "# Plus(+) is shifting the original shape from the highest dimension side to the lower in the expanded shape.\n",
    "import numpy as np\n",
    "print(np.r_['0,5,0',np.ones((2,3))].shape)  # 0 places the original shape to the highest dimension side.\n",
    "print(np.r_['0,5,1',np.ones((2,3))].shape)  # shift 1 to the right from highest to lower dimension.\n",
    "print(np.r_['0,5,2',np.ones((2,3))].shape)  # shift 2 to the right from highest to lower dimension.\n",
    "print(np.r_['0,5,3',np.ones((2,3))].shape)  # shift 3 to the right from highest to lower dimension.\n",
    "#print(np.r_['0,5,4',np.ones((2,3))].shape)  # Cannot shift shape (2, 3) further than 3 in 5 dimension shape."
   ]
  },
  {
   "cell_type": "code",
   "execution_count": 16,
   "metadata": {},
   "outputs": [
    {
     "name": "stdout",
     "output_type": "stream",
     "text": [
      "(1, 1, 1, 2, 3)\n",
      "(1, 1, 2, 3, 1)\n",
      "(1, 2, 3, 1, 1)\n",
      "(2, 3, 1, 1, 1)\n"
     ]
    }
   ],
   "source": [
    "# Minus(-) is shifting the original shape from the lowest dimension side to the higher in the expanded shape.\n",
    "import numpy as np\n",
    "print(np.r_['0,5,-1',np.ones((2,3))].shape)  # -1: places the original shape at the lowest dimension side.\n",
    "print(np.r_['0,5,-2',np.ones((2,3))].shape)  # shift 1 to the left from lowest to higher dimension.\n",
    "print(np.r_['0,5,-3',np.ones((2,3))].shape)  # shift 2 to the left from lowest to higher dimension.\n",
    "print(np.r_['0,5,-4',np.ones((2,3))].shape)  # shift 3 to the left from lowest to higher dimension.\n",
    "#print(np.r_['0,5,-5',np.ones((2,3))].shape)  # Cannot shift shape (2, 3) further than 3 in 5 dimension shape."
   ]
  },
  {
   "cell_type": "code",
   "execution_count": 17,
   "metadata": {},
   "outputs": [
    {
     "name": "stdout",
     "output_type": "stream",
     "text": [
      "--------------------------------------------------------------------------------\n",
      "Default implicit shape expantion, placing the original shape at the lowest dimension side.\n",
      "[[1 2 3]\n",
      " [4 5 6]]\n",
      "--------------------------------------------------------------------------------\n",
      "Simulating the default shape expantion -1 with np.newaxis.\n",
      "[[1 2 3]\n",
      " [4 5 6]]\n",
      "--------------------------------------------------------------------------------\n",
      "Default shape expantion with explicit default -1, placing the original shape at the lowest dimension side\n",
      "[[1 2 3]\n",
      " [4 5 6]]\n",
      "--------------------------------------------------------------------------------\n",
      "Shape expantion with explicit -2, shifting the original shape 1 step to the left\n",
      "[[1]\n",
      " [2]\n",
      " [3]\n",
      " [4]\n",
      " [5]\n",
      " [6]]\n",
      "--------------------------------------------------------------------------------\n",
      "Shape expantion with explicit 0, placing the original shape at the highest dimension side.\n",
      "0 is the lowest dimension, hence (3,) -> (3, 1)\n",
      "[[1]\n",
      " [2]\n",
      " [3]\n",
      " [4]\n",
      " [5]\n",
      " [6]]\n",
      "--------------------------------------------------------------------------------\n",
      "Simulating the shape expantion with 0 with np.newaxis.\n",
      "[[1]\n",
      " [2]\n",
      " [3]\n",
      " [4]\n",
      " [5]\n",
      " [6]]\n"
     ]
    }
   ],
   "source": [
    "print(\"--------------------------------------------------------------------------------\")\n",
    "print(\"Default implicit shape expantion, placing the original shape at the lowest dimension side.\")\n",
    "print(np.r_[\n",
    "    # Frame a 2-dimensional output, and concatenate along the 1st axis (highest dimension).\n",
    "    # Default shape expantion, which is -1, is placing the original shape at the lowest dimension side.\n",
    "    '0,2', \n",
    "    [1,2,3],  # shape (3,)\n",
    "    [4,5,6]   # shape (3,)\n",
    "])\n",
    "\n",
    "print(\"--------------------------------------------------------------------------------\")\n",
    "print(\"Simulating the default shape expantion -1 with np.newaxis.\")\n",
    "a = np.array([1,2,3])\n",
    "b = np.array([4,5,6])\n",
    "\n",
    "print(np.r_[\n",
    "    # Frame a 2-dimensional output and concatenate the expanded elements along the 1st axis in the output.\n",
    "    '0,2', \n",
    "    # Simulating the default shape expantion from (3,) to (1,3) using np.newaxis.\n",
    "    a[\n",
    "        np.newaxis,\n",
    "        ::\n",
    "    ],\n",
    "    b[\n",
    "        np.newaxis,\n",
    "        ::\n",
    "    ]\n",
    "])\n",
    "\n",
    "print(\"--------------------------------------------------------------------------------\")\n",
    "print(\"Default shape expantion with explicit default -1, placing the original shape at the lowest dimension side\")\n",
    "print(np.r_[\n",
    "    # Frame a 2-dimensional output, and concatenate along the 1st axis in the output.\n",
    "    # Expand the element shape using the default expansion (-1).\n",
    "    '0,2,-1', \n",
    "    # Elements to be expanded from (3,) -> (1,3).\n",
    "    [1,2,3],  \n",
    "    [4,5,6]\n",
    "])\n",
    "\n",
    "print(\"--------------------------------------------------------------------------------\")\n",
    "print(\"Shape expantion with explicit -2, shifting the original shape 1 step to the left\")\n",
    "print(np.r_[\n",
    "    # Frame a 2-dimensional output, and concatenate along the 1st axis in the output.\n",
    "    # Expand the element shape by adding shape location 1 from (3,) to (1,3).\n",
    "    '0,2,-2', \n",
    "    # Elements to be expanded from (3,) -> (1,3).\n",
    "    [1,2,3],  \n",
    "    [4,5,6]\n",
    "])\n",
    "\n",
    "print(\"--------------------------------------------------------------------------------\")\n",
    "print(\"Shape expantion with explicit 0, placing the original shape at the highest dimension side.\")\n",
    "print(\"0 is the lowest dimension, hence (3,) -> (3, 1)\")\n",
    "print(np.r_[\n",
    "    # Frame a 2-dimensional output, and concatenate expanded elements along the first axis 0.\n",
    "    # Expand the element shape from (3,) to (3,1) by placing the original shape at the highest dimension side.\n",
    "    '0,2,0', \n",
    "    [1,2,3], \n",
    "    [4,5,6]\n",
    "])\n",
    "\n",
    "print(\"--------------------------------------------------------------------------------\")\n",
    "print(\"Simulating the shape expantion with 0 with np.newaxis.\")\n",
    "a = np.array([1,2,3])\n",
    "b = np.array([4,5,6])\n",
    "\n",
    "print(np.r_[\n",
    "    # Frame a 2-dimensional output and concatenate the expanded elements along the 1st axis in the output.\n",
    "    '0,2', \n",
    "    # Simulating the shape expantion with 0, from (3,) to (3, 1), using np.newaxis.\n",
    "    a[\n",
    "        ::,\n",
    "        np.newaxis\n",
    "    ],\n",
    "    b[\n",
    "        ::,\n",
    "        np.newaxis\n",
    "    ]\n",
    "])\n"
   ]
  },
  {
   "cell_type": "markdown",
   "metadata": {},
   "source": [
    "### Shifting in action\n",
    "\n",
    "See how the original shape (2,3) is being shifted from the -1 or 0 case."
   ]
  },
  {
   "cell_type": "code",
   "execution_count": 18,
   "metadata": {},
   "outputs": [
    {
     "name": "stdout",
     "output_type": "stream",
     "text": [
      "[[1. 1. 1.]\n",
      " [1. 1. 1.]]\n",
      "r_[0,3,0] on (2, 3) is (2, 3, 1)\n",
      "\n",
      "r_[0,3,1] on (2, 3) is (1, 2, 3)\n",
      "\n",
      "r_[0,4,0] on (2, 3) is (2, 3, 1, 1)\n",
      "\n",
      "r_[0,4,1] on (2, 3) is (1, 2, 3, 1)\n",
      "\n",
      "r_[0,4,2] on (2, 3) is (1, 1, 2, 3)\n",
      "\n"
     ]
    },
    {
     "data": {
      "text/plain": [
       "'\\nprint(\"r_[0,4,3] on (2, 3) is {}\\n\".format(\\n    np.r_[\\n        \\'0,4,3\\',\\n        np.ones((2,3))\\n    ].shape\\n))\\n---\\nValueError: axes don\\'t match array\\n'"
      ]
     },
     "execution_count": 18,
     "metadata": {},
     "output_type": "execute_result"
    }
   ],
   "source": [
    "import numpy as np\n",
    "print(np.ones((2, 3)))\n",
    "np.r_['0,3',np.ones((2,3))].shape\n",
    "\n",
    "print(\"r_[0,3,0] on (2, 3) is {}\\n\".format(\n",
    "    np.r_[\n",
    "        '0,3,0',\n",
    "        np.ones((2,3))\n",
    "    ].shape\n",
    "))\n",
    "\n",
    "print(\"r_[0,3,1] on (2, 3) is {}\\n\".format(\n",
    "    np.r_[\n",
    "        '0,3,1',\n",
    "        np.ones((2,3))\n",
    "    ].shape\n",
    "))\n",
    "\n",
    "\"\"\"print(\"r_[0,3,2] on (2, 3) is {}\\n\".format(\n",
    "    np.r_[\n",
    "        '0,3,2',\n",
    "        np.ones((2,3))\n",
    "    ].shape\n",
    "))\n",
    "\"\"\"\n",
    "print(\"r_[0,4,0] on (2, 3) is {}\\n\".format(\n",
    "    np.r_[\n",
    "        '0,4,0',\n",
    "        np.ones((2,3))\n",
    "    ].shape\n",
    "))\n",
    "\n",
    "print(\"r_[0,4,1] on (2, 3) is {}\\n\".format(\n",
    "    np.r_[\n",
    "        '0,4,1',\n",
    "        np.ones((2,3))\n",
    "    ].shape\n",
    "))\n",
    "\n",
    "print(\"r_[0,4,2] on (2, 3) is {}\\n\".format(\n",
    "    np.r_[\n",
    "        '0,4,2',\n",
    "        np.ones((2,3))\n",
    "    ].shape\n",
    "))\n",
    "\n",
    "\"\"\"\n",
    "print(\"r_[0,4,3] on (2, 3) is {}\\n\".format(\n",
    "    np.r_[\n",
    "        '0,4,3',\n",
    "        np.ones((2,3))\n",
    "    ].shape\n",
    "))\n",
    "---\n",
    "ValueError: axes don't match array\n",
    "\"\"\""
   ]
  },
  {
   "cell_type": "markdown",
   "metadata": {},
   "source": [
    "# numpy.concatenate((tuple), axis)\n",
    "\n",
    "1. Take out elements in the tuple.\n",
    "2. Concatenate **all the elements** back into an array."
   ]
  },
  {
   "cell_type": "markdown",
   "metadata": {},
   "source": [
    "Concatenate a 1D list elements into an empty array."
   ]
  },
  {
   "cell_type": "code",
   "execution_count": 19,
   "metadata": {},
   "outputs": [
    {
     "name": "stdout",
     "output_type": "stream",
     "text": [
      "(0,)\n",
      "[0. 1. 2.]\n"
     ]
    }
   ],
   "source": [
    "labels = np.array([]).reshape(0,)\n",
    "print(labels.shape)\n",
    "\n",
    "print(np.concatenate(\n",
    "    (labels, [0, 1, 2])\n",
    "))"
   ]
  },
  {
   "cell_type": "markdown",
   "metadata": {},
   "source": [
    "Concatenate elements of 2D list of shape(1, 2) into an empty 2D array of shape(0,2)."
   ]
  },
  {
   "cell_type": "code",
   "execution_count": 20,
   "metadata": {},
   "outputs": [
    {
     "name": "stdout",
     "output_type": "stream",
     "text": [
      "[[1. 2.]\n",
      " [3. 4.]]\n"
     ]
    }
   ],
   "source": [
    "initial =np.array([]).reshape((0, 2))\n",
    "print(np.concatenate(\n",
    "    (initial, [[1,2], [3,4]])\n",
    "))\n"
   ]
  },
  {
   "cell_type": "markdown",
   "metadata": {},
   "source": [
    "Concatenate arrays (N1, M), (N2,M), (N3, M) into (N1+N2+N3, M)"
   ]
  },
  {
   "cell_type": "code",
   "execution_count": 22,
   "metadata": {},
   "outputs": [
    {
     "data": {
      "text/plain": [
       "array([[-0.68595   , -0.59704907],\n",
       "       [-0.70704997, -0.30369686],\n",
       "       [ 0.51405   , -0.59704907],\n",
       "       [ 1.51991102, -0.48112732],\n",
       "       [ 0.49295003, -0.30369686],\n",
       "       [ 0.91991102,  0.55810317],\n",
       "       [-0.10704997,  0.73553363]])"
      ]
     },
     "execution_count": 22,
     "metadata": {},
     "output_type": "execute_result"
    }
   ],
   "source": [
    "a = np.array([\n",
    "    [-0.68595   , -0.59704907],\n",
    "    [-0.70704997, -0.30369686]])\n",
    "b = np.array([\n",
    "    [ 0.51405   , -0.59704907],\n",
    "    [ 1.51991102, -0.48112732],\n",
    "    [ 0.49295003, -0.30369686]])\n",
    "c = np.array([\n",
    "    [ 0.91991102,  0.55810317],\n",
    "    [-0.10704997,  0.73553363]])\n",
    "\n",
    "d = [a, b, c]\n",
    "np.concatenate(d)"
   ]
  },
  {
   "cell_type": "code",
   "execution_count": 23,
   "metadata": {},
   "outputs": [
    {
     "data": {
      "text/plain": [
       "array([[-0.68595   , -0.59704907],\n",
       "       [-0.70704997, -0.30369686],\n",
       "       [ 0.51405   , -0.59704907],\n",
       "       [ 1.51991102, -0.48112732],\n",
       "       [ 0.49295003, -0.30369686],\n",
       "       [ 0.91991102,  0.55810317],\n",
       "       [-0.10704997,  0.73553363]])"
      ]
     },
     "execution_count": 23,
     "metadata": {},
     "output_type": "execute_result"
    }
   ],
   "source": [
    "# same with vstack\n",
    "np.vstack(d)"
   ]
  },
  {
   "cell_type": "markdown",
   "metadata": {},
   "source": [
    "### Difference from [numpy.append(arr, values, axis=None)](https://numpy.org/doc/stable/reference/generated/numpy.append.html)\n",
    "\n",
    "> If axis is not specified, values can be any shape and will be flattened before use.\n",
    "\n",
    "np.append() with axis flattens values ```[[1, 2], [3, 4]].\n",
    "\n",
    "```\n",
    "np.append(\n",
    "    [], \n",
    "    [\n",
    "        [1,2]\n",
    "        [3,4]\n",
    "    ]\n",
    "))\n",
    "```"
   ]
  },
  {
   "cell_type": "code",
   "execution_count": 35,
   "metadata": {},
   "outputs": [
    {
     "name": "stdout",
     "output_type": "stream",
     "text": [
      "[[ 0  1  2  3]\n",
      " [ 4  5  6  7]\n",
      " [ 8  9 10 11]]\n"
     ]
    },
    {
     "data": {
      "text/plain": [
       "array([[0, 1],\n",
       "       [4, 5],\n",
       "       [8, 9]])"
      ]
     },
     "execution_count": 35,
     "metadata": {},
     "output_type": "execute_result"
    }
   ],
   "source": [
    "a = np.arange(12).reshape(3, 4)\n",
    "print(a)\n",
    "np.c_[\n",
    "    a[::, 0:1],\n",
    "    a[::, 1:2]\n",
    "]"
   ]
  },
  {
   "cell_type": "code",
   "execution_count": null,
   "metadata": {},
   "outputs": [],
   "source": []
  },
  {
   "cell_type": "code",
   "execution_count": 27,
   "metadata": {},
   "outputs": [
    {
     "name": "stdout",
     "output_type": "stream",
     "text": [
      "[[0 1 2]\n",
      " [3 4 5]]\n",
      "[[ 6  7  8]\n",
      " [ 9 10 11]]\n"
     ]
    },
    {
     "data": {
      "text/plain": [
       "array([[ 0,  1,  2,  6,  7,  8],\n",
       "       [ 3,  4,  5,  9, 10, 11]])"
      ]
     },
     "execution_count": 27,
     "metadata": {},
     "output_type": "execute_result"
    }
   ],
   "source": [
    "a = np.arange(6).reshape(2, 3)\n",
    "print(a)\n",
    "b = np.arange(6, 12).reshape(2, 3)\n",
    "print(b)\n",
    "np.c_[a, b]"
   ]
  }
 ],
 "metadata": {
  "kernelspec": {
   "display_name": "Python 3",
   "language": "python",
   "name": "python3"
  },
  "language_info": {
   "codemirror_mode": {
    "name": "ipython",
    "version": 3
   },
   "file_extension": ".py",
   "mimetype": "text/x-python",
   "name": "python",
   "nbconvert_exporter": "python",
   "pygments_lexer": "ipython3",
   "version": "3.8.8"
  }
 },
 "nbformat": 4,
 "nbformat_minor": 4
}
