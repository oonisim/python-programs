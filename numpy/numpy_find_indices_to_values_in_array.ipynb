{
 "cells": [
  {
   "cell_type": "markdown",
   "id": "ee9b4973",
   "metadata": {},
   "source": [
    "# Find the index of value(s) in array X"
   ]
  },
  {
   "cell_type": "code",
   "execution_count": 1,
   "id": "182efda8",
   "metadata": {},
   "outputs": [],
   "source": [
    "import numpy as np"
   ]
  },
  {
   "cell_type": "code",
   "execution_count": 36,
   "id": "1669db0b",
   "metadata": {},
   "outputs": [
    {
     "data": {
      "text/plain": [
       "array([ 1,  5,  2, 19,  7, 15, 16, 17, 11, 13,  4, 12])"
      ]
     },
     "execution_count": 36,
     "metadata": {},
     "output_type": "execute_result"
    }
   ],
   "source": [
    "X = np.array([ 1,  5,  2, 19,  7, 15, 16, 17, 11, 13,  4, 12])\n",
    "X"
   ]
  },
  {
   "cell_type": "markdown",
   "id": "c3c25f81",
   "metadata": {},
   "source": [
    "# Objective\n",
    "Find the indices of values [5, 7, 4] in X\n",
    "\n",
    "## Warning\n",
    "\n",
    "**DO NOT** use [numpy.in1d(ar1, ar2, assume_unique=False, invert=False, *, kind=None)](https://numpy.org/doc/stable/reference/generated/numpy.in1d.html) because it does **NOT preserve the order** of the values occur in X. ```in1d``` is good to find if the values are in X or not."
   ]
  },
  {
   "cell_type": "markdown",
   "id": "de4a38b9",
   "metadata": {},
   "source": [
    "## Find indices to the values\n",
    "\n",
    "* [numpy.searchsorted(a, v, side='left', sorter=None)](https://numpy.org/doc/stable/reference/generated/numpy.searchsorted.html)\n",
    "\n",
    "> Find the indices into a sorted array ```a``` such that.  \n",
    "> * sorter: array of integer indices to sort the array ```a``` in an ascending order in case it is not sorted\n",
    "\n",
    "\n",
    "NOTE: Not same with TLB where TLB size is enough for physical memory page numbers, far smaller than VM space size."
   ]
  },
  {
   "cell_type": "markdown",
   "id": "b111918b",
   "metadata": {},
   "source": [
    "<img src=\"./images/indices_to_values_in_array.png\" align=\"left\" width=500/>"
   ]
  },
  {
   "cell_type": "markdown",
   "id": "cfbbbf5e",
   "metadata": {},
   "source": [
    "# Mechanism\n",
    "\n",
    "Example to find the index to 5 in the array x"
   ]
  },
  {
   "cell_type": "code",
   "execution_count": 40,
   "id": "8166a062",
   "metadata": {},
   "outputs": [
    {
     "data": {
      "text/plain": [
       "array([ 1,  2,  4,  5,  7, 11, 12, 13, 15, 16, 17, 19])"
      ]
     },
     "execution_count": 40,
     "metadata": {},
     "output_type": "execute_result"
    }
   ],
   "source": [
    "sorted_X = X[np.argsort(X)]\n",
    "sorted_X"
   ]
  },
  {
   "cell_type": "code",
   "execution_count": 47,
   "id": "3dde2c66",
   "metadata": {},
   "outputs": [
    {
     "data": {
      "text/plain": [
       "array([ 0,  2, 10,  1,  4,  8, 11,  9,  5,  6,  7,  3])"
      ]
     },
     "execution_count": 47,
     "metadata": {},
     "output_type": "execute_result"
    }
   ],
   "source": [
    "indices_to_sorted = indices_to_map_table = np.argsort(X)\n",
    "indices_to_sorted"
   ]
  },
  {
   "cell_type": "markdown",
   "id": "9ca7f6e3",
   "metadata": {},
   "source": [
    "1. Find the index to the value 5 in the sorted X.\n",
    "\n",
    "This is equiavelnt with finding the virutla memory address where the value 5 is stored. In ```sorted_X```, the value ```5``` is at the index ```3```.\n"
   ]
  },
  {
   "cell_type": "code",
   "execution_count": 38,
   "id": "27f4d9e0",
   "metadata": {},
   "outputs": [
    {
     "data": {
      "text/plain": [
       "array([3])"
      ]
     },
     "execution_count": 38,
     "metadata": {},
     "output_type": "execute_result"
    }
   ],
   "source": [
    "address_in_virtual_memory = np.searchsorted(a=X, v=[5], sorter=indices_to_sorted)\n",
    "address_in_virtual_memory"
   ]
  },
  {
   "cell_type": "markdown",
   "id": "13307941",
   "metadata": {},
   "source": [
    "2. Use the index as the index at argsorted as well.\n",
    "\n",
    "This is equivalent with the mapping table index where the record value is the physical memory address in which the actual value 5 is stored."
   ]
  },
  {
   "cell_type": "code",
   "execution_count": 42,
   "id": "d47320e6",
   "metadata": {},
   "outputs": [
    {
     "data": {
      "text/plain": [
       "array([1])"
      ]
     },
     "execution_count": 42,
     "metadata": {},
     "output_type": "execute_result"
    }
   ],
   "source": [
    "address_in_physical_memory = indices_to_sorted[address_in_virtual_memory]\n",
    "address_in_physical_memory"
   ]
  },
  {
   "cell_type": "markdown",
   "id": "638f8656",
   "metadata": {},
   "source": [
    "Verify the value at the address in physical memory (X)"
   ]
  },
  {
   "cell_type": "code",
   "execution_count": 43,
   "id": "06516622",
   "metadata": {},
   "outputs": [
    {
     "data": {
      "text/plain": [
       "array([5])"
      ]
     },
     "execution_count": 43,
     "metadata": {},
     "output_type": "execute_result"
    }
   ],
   "source": [
    "X[address_in_physical_memory]"
   ]
  },
  {
   "cell_type": "markdown",
   "id": "1dd15abb",
   "metadata": {},
   "source": [
    "# Implementation "
   ]
  },
  {
   "cell_type": "markdown",
   "id": "522c362d",
   "metadata": {},
   "source": [
    "Find the indices of the values in Sorted X"
   ]
  },
  {
   "cell_type": "code",
   "execution_count": 49,
   "id": "606bafb5",
   "metadata": {},
   "outputs": [],
   "source": [
    "indices_into_sorted_X = indices_into_map_table = np.argsort(X)\n",
    "indices_of_values_in_sorted_X = np.searchsorted(a=X, v=[5, 7, 4], sorter=indices_into_sorted_X)"
   ]
  },
  {
   "cell_type": "markdown",
   "id": "7dfcc4e5",
   "metadata": {},
   "source": [
    "The indices are used for the map table (artsort of X) to get the indices of the values in X.\n",
    "\n",
    "Virutual memory address (indices of sorted X) to physical memory address (indices of X) for the values."
   ]
  },
  {
   "cell_type": "code",
   "execution_count": 51,
   "id": "5c38fc07",
   "metadata": {},
   "outputs": [
    {
     "data": {
      "text/plain": [
       "array([ 1,  4, 10])"
      ]
     },
     "execution_count": 51,
     "metadata": {},
     "output_type": "execute_result"
    }
   ],
   "source": [
    "indices_of_values_in_X = indices_into_map_table[indices_of_values_in_sorted_X]\n",
    "indices_of_values_in_X"
   ]
  },
  {
   "cell_type": "code",
   "execution_count": 52,
   "id": "0b7c7f71",
   "metadata": {},
   "outputs": [
    {
     "data": {
      "text/plain": [
       "array([5, 7, 4])"
      ]
     },
     "execution_count": 52,
     "metadata": {},
     "output_type": "execute_result"
    }
   ],
   "source": [
    "X[indices_of_values_in_X]"
   ]
  },
  {
   "cell_type": "code",
   "execution_count": null,
   "id": "7a621308",
   "metadata": {},
   "outputs": [],
   "source": []
  }
 ],
 "metadata": {
  "kernelspec": {
   "display_name": "Python 3 (ipykernel)",
   "language": "python",
   "name": "python3"
  },
  "language_info": {
   "codemirror_mode": {
    "name": "ipython",
    "version": 3
   },
   "file_extension": ".py",
   "mimetype": "text/x-python",
   "name": "python",
   "nbconvert_exporter": "python",
   "pygments_lexer": "ipython3",
   "version": "3.9.13"
  }
 },
 "nbformat": 4,
 "nbformat_minor": 5
}
