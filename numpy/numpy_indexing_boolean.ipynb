{
 "cells": [
  {
   "cell_type": "markdown",
   "metadata": {},
   "source": [
    "# Boolean indexing"
   ]
  },
  {
   "cell_type": "code",
   "execution_count": 1,
   "metadata": {},
   "outputs": [],
   "source": [
    "import numpy as np"
   ]
  },
  {
   "cell_type": "code",
   "execution_count": 3,
   "metadata": {},
   "outputs": [
    {
     "name": "stdout",
     "output_type": "stream",
     "text": [
      "[[ 0  1  2  3]\n",
      " [ 4  5  6  7]\n",
      " [ 8  9 10 11]\n",
      " [12 13 14 15]\n",
      " [16 17 18 19]]\n"
     ]
    }
   ],
   "source": [
    "y = np.arange(20).reshape(5,4)\n",
    "print(y)"
   ]
  },
  {
   "cell_type": "code",
   "execution_count": 4,
   "metadata": {},
   "outputs": [
    {
     "name": "stdout",
     "output_type": "stream",
     "text": [
      "[[ 0  1  2  3]\n",
      " [ 8  9 10 11]\n",
      " [16 17 18 19]]\n",
      "[[ 0  1  2  3]\n",
      " [ 8  9 10 11]\n",
      " [16 17 18 19]]\n",
      "[[ 0  1  2  3]\n",
      " [ 8  9 10 11]\n",
      " [16 17 18 19]]\n",
      "\n",
      "y[\n",
      "    (True, False, True, False, True)\n",
      "] is \n",
      "[]\n",
      " with shape (0, 5, 4)\n",
      "\n",
      "y[True] is \n",
      "[[[ 0  1  2  3]\n",
      "  [ 4  5  6  7]\n",
      "  [ 8  9 10 11]\n",
      "  [12 13 14 15]\n",
      "  [16 17 18 19]]]\n",
      " with shape (1, 5, 4)\n",
      "\n",
      "y[True, True] is \n",
      "[[[ 0  1  2  3]\n",
      "  [ 4  5  6  7]\n",
      "  [ 8  9 10 11]\n",
      "  [12 13 14 15]\n",
      "  [16 17 18 19]]]\n",
      " with shape (1, 5, 4)\n",
      "\n",
      "y[True] is \n",
      "[]\n",
      " with shape (0, 5, 4)\n",
      "\n"
     ]
    }
   ],
   "source": [
    "print(y[\n",
    "    [0, 2, 4],\n",
    "    ::\n",
    "])\n",
    "print(y[\n",
    "    [0, 2, 4],\n",
    "    ::\n",
    "])\n",
    "print(y[\n",
    "    [True, False, True, False, True],\n",
    "    ::\n",
    "])\n",
    "print()\n",
    "\n",
    "print(\"\"\"y[\n",
    "    (True, False, True, False, True)\n",
    "] is \\n{}\\n with shape {}\\n\"\"\".format(\n",
    "    y[\n",
    "        (True, False, True, False, True)\n",
    "    ], \n",
    "    y[\n",
    "        (True, False, True, False, True)\n",
    "    ].shape    \n",
    "))\n",
    "\n",
    "print(\"\"\"y[True] is \\n{}\\n with shape {}\\n\"\"\".format(\n",
    "    y[True], \n",
    "    y[True].shape\n",
    "))\n",
    "\n",
    "print(\"\"\"y[True, True] is \\n{}\\n with shape {}\\n\"\"\".format(\n",
    "    y[True, True], \n",
    "    y[True, True].shape\n",
    "))\n",
    "\n",
    "print(\"\"\"y[True] is \\n{}\\n with shape {}\\n\"\"\".format(\n",
    "    y[True, False], \n",
    "    y[True, False].shape\n",
    "))\n"
   ]
  },
  {
   "cell_type": "code",
   "execution_count": null,
   "metadata": {},
   "outputs": [],
   "source": []
  }
 ],
 "metadata": {
  "kernelspec": {
   "display_name": "Python 3",
   "language": "python",
   "name": "python3"
  },
  "language_info": {
   "codemirror_mode": {
    "name": "ipython",
    "version": 3
   },
   "file_extension": ".py",
   "mimetype": "text/x-python",
   "name": "python",
   "nbconvert_exporter": "python",
   "pygments_lexer": "ipython3",
   "version": "3.8.5"
  }
 },
 "nbformat": 4,
 "nbformat_minor": 4
}
