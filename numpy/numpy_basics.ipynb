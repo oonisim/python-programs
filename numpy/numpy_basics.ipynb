{
 "cells": [
  {
   "cell_type": "code",
   "execution_count": 4,
   "metadata": {},
   "outputs": [],
   "source": [
    "import numpy as np\n",
    "import sys"
   ]
  },
  {
   "cell_type": "code",
   "execution_count": 9,
   "metadata": {},
   "outputs": [
    {
     "name": "stdout",
     "output_type": "stream",
     "text": [
      "1.19.2\n",
      "3.8.5 (default, Sep  4 2020, 07:30:14) \n",
      "[GCC 7.3.0]\n"
     ]
    }
   ],
   "source": [
    "print(np.__version__)\n",
    "print(sys.version)"
   ]
  },
  {
   "cell_type": "code",
   "execution_count": 8,
   "metadata": {},
   "outputs": [
    {
     "name": "stdout",
     "output_type": "stream",
     "text": [
      "[[[ 0  1  2  3]\n",
      "  [ 4  5  6  7]]\n",
      "\n",
      " [[ 8  9 10 11]\n",
      "  [12 13 14 15]]]\n",
      "(64, 32, 8)\n"
     ]
    }
   ],
   "source": [
    "a = np.arange(16, dtype=np.int64).reshape((2,2,4,))\n",
    "print(a)\n",
    "print(a.strides)"
   ]
  },
  {
   "cell_type": "markdown",
   "metadata": {},
   "source": [
    "# Dimension index is a pointer\n",
    "1. Entities are in the contiguous one-dimensional segment of computer memory\n",
    "2. Dimension is a pointer schema to dissect the one-dimensional segment into N dimensional structure.\n",
    "3. Index in the dimension d points to the block starting at ((index-1) * strides[d-1]).\n",
    "\n",
    "Imagine the tape in a turing machine. To have n-dimensional structure in the flat sequence storage, you need a hierarchical pointer array structure, which is the np.ndarray.\n",
    "\n",
    "\n",
    "## Single dimensional indices \n",
    "```\n",
    "np.ndarray[\n",
    "  [0,1,2]   # <--- [] is to specify indeices in the dimension \n",
    "]\n",
    "```\n",
    "\n",
    "## Multi dimensional indices\n",
    "```\n",
    "a[\n",
    "  (0,1,2)  # <--- () is to specify indeices in each dimension. Same with a[0][1][2].\n",
    "]\n",
    "\n",
    "This is source of confusion because it is the same with:\n",
    "a[\n",
    "  (0),\n",
    "  (1),\n",
    "  (2)\n",
    "  ...\n",
    "]\n",
    "\n",
    "```\n"
   ]
  },
  {
   "cell_type": "markdown",
   "metadata": {},
   "source": [
    "# Solution to indexing confusions\n",
    "Beware which you are working on → Within--dimension or Inter-dimensions\n",
    "\n",
    "* Within-dimension → Stick to ```[ , , ,]```\n",
    "* Inter-dimensions →  Stick to ```( , , , )```"
   ]
  },
  {
   "cell_type": "markdown",
   "metadata": {},
   "source": [
    "### Single dimensional indices"
   ]
  },
  {
   "cell_type": "code",
   "execution_count": 41,
   "metadata": {},
   "outputs": [
    {
     "name": "stdout",
     "output_type": "stream",
     "text": [
      "[[[ 0  1  2  3]\n",
      "  [ 4  5  6  7]]\n",
      "\n",
      " [[ 8  9 10 11]\n",
      "  [12 13 14 15]]\n",
      "\n",
      " [[16 17 18 19]\n",
      "  [20 21 22 23]]]\n",
      "[[[ 0  1  2  3]\n",
      "  [ 4  5  6  7]]\n",
      "\n",
      " [[ 8  9 10 11]\n",
      "  [12 13 14 15]]]\n",
      "Is this copy/fancy indexing? True\n"
     ]
    }
   ],
   "source": [
    "a = np.arange(24, dtype=np.int64).reshape((3,2,4,))\n",
    "print(a)\n",
    "axix3_indices = [0,1]     # Select the blocks 0 and 1 on axis 3 \n",
    "axis3_blocks = a[\n",
    "    axix3_indices, # indices to the axix3 blocks\n",
    "    ::,            # all blocks in axis2\n",
    "    ::             # all entities in axis3 (real entities)\n",
    "]\n",
    "print(axis3_blocks)\n",
    "print(\"Is this copy/fancy indexing? {}\".format(axis3_blocks.base is None))"
   ]
  },
  {
   "cell_type": "markdown",
   "metadata": {},
   "source": [
    "### Multi dimensional indices"
   ]
  },
  {
   "cell_type": "code",
   "execution_count": 33,
   "metadata": {},
   "outputs": [
    {
     "name": "stdout",
     "output_type": "stream",
     "text": [
      "[[[ 0  1  2  3]\n",
      "  [ 4  5  6  7]]\n",
      "\n",
      " [[ 8  9 10 11]\n",
      "  [12 13 14 15]]\n",
      "\n",
      " [[16 17 18 19]\n",
      "  [20 21 22 23]]]\n",
      "[4 5 6 7]\n",
      "[4 5 6 7]\n"
     ]
    }
   ],
   "source": [
    "a = np.arange(24, dtype=np.int64).reshape((3,2,4,))\n",
    "print(a)\n",
    "index_at_each_dimension = (0,1)     # Select the blocks 0 in axis n, and 1 on axis n-1. Same with a[1][2]\n",
    "block_from_dimensions = a[\n",
    "    index_at_each_dimension\n",
    "]\n",
    "print(block_from_dimensions)\n",
    "print(a[0][1])"
   ]
  },
  {
   "cell_type": "markdown",
   "metadata": {},
   "source": [
    "More confusion with (0, (0,1)). This is the same with:\n",
    "```\n",
    "a[\n",
    "  (0),\n",
    "  (0,1)\n",
    "]\n",
    "```\n",
    "This is also the same with\n",
    "```\n",
    "a[0][0:2]\n",
    "```"
   ]
  },
  {
   "cell_type": "code",
   "execution_count": 34,
   "metadata": {},
   "outputs": [
    {
     "name": "stdout",
     "output_type": "stream",
     "text": [
      "[[[ 0  1  2  3]\n",
      "  [ 4  5  6  7]]\n",
      "\n",
      " [[ 8  9 10 11]\n",
      "  [12 13 14 15]]\n",
      "\n",
      " [[16 17 18 19]\n",
      "  [20 21 22 23]]]\n",
      "[[0 1 2 3]\n",
      " [4 5 6 7]]\n",
      "[[0 1 2 3]\n",
      " [4 5 6 7]]\n"
     ]
    }
   ],
   "source": [
    "a = np.arange(24, dtype=np.int64).reshape((3,2,4,))\n",
    "print(a)\n",
    "indices_at_each_dimension = (0,(0,1))     # Select the blocks 0 in axis n. Then0 and 1 on axis n-1.\n",
    "blocks_from_dimensions = a[\n",
    "    indices_at_each_dimension\n",
    "]\n",
    "print(blocks_from_dimensions)\n",
    "print(a[0][0:2])"
   ]
  },
  {
   "cell_type": "code",
   "execution_count": 35,
   "metadata": {},
   "outputs": [
    {
     "data": {
      "text/plain": [
       "array([[0, 1, 2, 3],\n",
       "       [4, 5, 6, 7]])"
      ]
     },
     "execution_count": 35,
     "metadata": {},
     "output_type": "execute_result"
    }
   ],
   "source": [
    "a[0, (0,1)]"
   ]
  },
  {
   "cell_type": "markdown",
   "metadata": {},
   "source": [
    "---"
   ]
  },
  {
   "cell_type": "markdown",
   "metadata": {},
   "source": [
    "# View or Copy\n",
    "Check the base attribute. If it is Not None (share a base = view -> Reference the view), it is view."
   ]
  },
  {
   "cell_type": "code",
   "execution_count": 43,
   "metadata": {},
   "outputs": [
    {
     "name": "stdout",
     "output_type": "stream",
     "text": [
      "True\n",
      "False\n",
      "True\n"
     ]
    }
   ],
   "source": [
    "Z = np.random.uniform(0,1,(5,5))\n",
    "Z1 = Z[:3,:]\n",
    "Z2 = Z[[0,1,2], :]\n",
    "print(Z1.base is Z)    # view is True if it shares the base\n",
    "print(Z2.base is Z)    # View? False if does not refer to the same source\n",
    "print(Z2.base is None) # Copy? True if it is None, refer to no source."
   ]
  },
  {
   "cell_type": "markdown",
   "metadata": {},
   "source": [
    "## Temporal copy"
   ]
  },
  {
   "cell_type": "code",
   "execution_count": 49,
   "metadata": {},
   "outputs": [
    {
     "data": {
      "text/plain": [
       "2777.6011788399774"
      ]
     },
     "execution_count": 49,
     "metadata": {},
     "output_type": "execute_result"
    }
   ],
   "source": [
    "import numpy as np\n",
    "import timeit\n",
    "\n",
    "setup = \"\"\"\n",
    "import numpy as np\n",
    "\n",
    "X = np.ones(1000000, dtype=np.int)\n",
    "Y = np.ones(1000000, dtype=np.int)\n",
    "\"\"\"\n",
    "iterations = 100000\n",
    "elepased = timeit.timeit(\n",
    "    stmt=\"X = X + 2*Y\",\n",
    "    setup=setup,\n",
    "    number=iterations\n",
    ")\n",
    "elepased / iterations * 1e6  # micro sec"
   ]
  },
  {
   "cell_type": "code",
   "execution_count": 50,
   "metadata": {},
   "outputs": [
    {
     "data": {
      "text/plain": [
       "2703.514808419932"
      ]
     },
     "execution_count": 50,
     "metadata": {},
     "output_type": "execute_result"
    }
   ],
   "source": [
    "elepased = timeit.timeit(\n",
    "    stmt=\"X += 2*Y\",\n",
    "    setup=setup,\n",
    "    number=iterations\n",
    ")\n",
    "elepased / iterations * 1e6  # micro sec"
   ]
  },
  {
   "cell_type": "code",
   "execution_count": 51,
   "metadata": {},
   "outputs": [
    {
     "data": {
      "text/plain": [
       "2719.944044290023"
      ]
     },
     "execution_count": 51,
     "metadata": {},
     "output_type": "execute_result"
    }
   ],
   "source": [
    "elepased = timeit.timeit(\n",
    "    stmt=\"np.add(X, 2*Y, out=X)\",\n",
    "    setup=setup,\n",
    "    number=iterations\n",
    ")\n",
    "elepased / iterations * 1e6  "
   ]
  },
  {
   "cell_type": "code",
   "execution_count": 52,
   "metadata": {},
   "outputs": [
    {
     "data": {
      "text/plain": [
       "2643.7640607499634"
      ]
     },
     "execution_count": 52,
     "metadata": {},
     "output_type": "execute_result"
    }
   ],
   "source": [
    "# # + is slower than *\n",
    "elepased = timeit.timeit(\n",
    "    stmt=\"Y+=Y; np.add(X, Y, out=X)\",\n",
    "    setup=setup,\n",
    "    number=iterations\n",
    ")\n",
    "elepased / iterations * 1e6  # micro sec"
   ]
  },
  {
   "cell_type": "code",
   "execution_count": 53,
   "metadata": {},
   "outputs": [
    {
     "data": {
      "text/plain": [
       "2634.768036000023"
      ]
     },
     "execution_count": 53,
     "metadata": {},
     "output_type": "execute_result"
    }
   ],
   "source": [
    "# + is slower than *\n",
    "elepased = timeit.timeit(\n",
    "    stmt=\"np.add(Y, Y, out=Y); np.add(X, Y, out=X)\",\n",
    "    setup=setup,\n",
    "    number=iterations\n",
    ")\n",
    "elepased / iterations * 1e6  # micro sec"
   ]
  },
  {
   "cell_type": "code",
   "execution_count": 54,
   "metadata": {},
   "outputs": [
    {
     "data": {
      "text/plain": [
       "2660.2724975399906"
      ]
     },
     "execution_count": 54,
     "metadata": {},
     "output_type": "execute_result"
    }
   ],
   "source": [
    "elepased = timeit.timeit(\n",
    "    stmt=\"np.add(X, Y, out=X); np.add(X, Y, out=X)\",\n",
    "    setup=setup,\n",
    "    number=iterations\n",
    ")\n",
    "elepased / iterations * 1e6  "
   ]
  },
  {
   "cell_type": "code",
   "execution_count": null,
   "metadata": {},
   "outputs": [],
   "source": []
  },
  {
   "cell_type": "code",
   "execution_count": null,
   "metadata": {},
   "outputs": [],
   "source": []
  },
  {
   "cell_type": "code",
   "execution_count": null,
   "metadata": {},
   "outputs": [],
   "source": []
  },
  {
   "cell_type": "code",
   "execution_count": null,
   "metadata": {},
   "outputs": [],
   "source": []
  },
  {
   "cell_type": "code",
   "execution_count": null,
   "metadata": {},
   "outputs": [],
   "source": []
  }
 ],
 "metadata": {
  "kernelspec": {
   "display_name": "Python 3",
   "language": "python",
   "name": "python3"
  },
  "language_info": {
   "codemirror_mode": {
    "name": "ipython",
    "version": 3
   },
   "file_extension": ".py",
   "mimetype": "text/x-python",
   "name": "python",
   "nbconvert_exporter": "python",
   "pygments_lexer": "ipython3",
   "version": "3.8.5"
  }
 },
 "nbformat": 4,
 "nbformat_minor": 4
}
