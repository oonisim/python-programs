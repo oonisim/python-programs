{
 "cells": [
  {
   "cell_type": "code",
   "execution_count": 2,
   "id": "special-greek",
   "metadata": {},
   "outputs": [],
   "source": [
    "import numpy as np"
   ]
  },
  {
   "cell_type": "markdown",
   "id": "empirical-lyric",
   "metadata": {},
   "source": [
    "# ```arange()``` is interval (step) based"
   ]
  },
  {
   "cell_type": "code",
   "execution_count": 3,
   "id": "figured-tutorial",
   "metadata": {},
   "outputs": [
    {
     "data": {
      "text/plain": [
       "array([9, 8, 7, 6, 5, 4, 3, 2, 1, 0])"
      ]
     },
     "execution_count": 3,
     "metadata": {},
     "output_type": "execute_result"
    }
   ],
   "source": [
    "D = 10\n",
    "np.arange(D-1, -1, -1)"
   ]
  },
  {
   "cell_type": "code",
   "execution_count": 4,
   "id": "catholic-substance",
   "metadata": {},
   "outputs": [
    {
     "data": {
      "text/plain": [
       "[9, 8, 7, 6, 5, 4, 3, 2, 1, 0]"
      ]
     },
     "execution_count": 4,
     "metadata": {},
     "output_type": "execute_result"
    }
   ],
   "source": [
    "list(range(0, D))[::-1]"
   ]
  },
  {
   "cell_type": "markdown",
   "id": "needed-allergy",
   "metadata": {},
   "source": [
    "## D points between ```[0, length)``` having ```length/D``` steps"
   ]
  },
  {
   "cell_type": "markdown",
   "id": "compliant-sunday",
   "metadata": {},
   "source": [
    "```D steps = D intervals``` e.g. \"3 steps forward\" makes 3 equal intervals ```(0->1, 1->2, 2->3)```. "
   ]
  },
  {
   "cell_type": "code",
   "execution_count": 18,
   "id": "objective-nelson",
   "metadata": {},
   "outputs": [
    {
     "data": {
      "text/plain": [
       "array([0.  , 0.25, 0.5 , 0.75, 1.  , 1.25, 1.5 , 1.75])"
      ]
     },
     "execution_count": 18,
     "metadata": {},
     "output_type": "execute_result"
    }
   ],
   "source": [
    "D = 8\n",
    "np.arange(0, np.pi * 2, step=(np.pi * 2)/D) / (np.pi)"
   ]
  },
  {
   "cell_type": "markdown",
   "id": "gorgeous-missouri",
   "metadata": {},
   "source": [
    "### To have same interval (step) with linspace\n",
    "\n",
    "```linspace``` is **```n``` points creating ```n-1``` intervals (steps)**. To have a ```n=1 interval``` requires ```2 points = n+1```. "
   ]
  },
  {
   "cell_type": "code",
   "execution_count": 21,
   "id": "baking-chinese",
   "metadata": {},
   "outputs": [
    {
     "data": {
      "text/plain": [
       "array([0.  , 0.25, 0.5 , 0.75, 1.  , 1.25, 1.5 , 1.75, 2.  ])"
      ]
     },
     "execution_count": 21,
     "metadata": {},
     "output_type": "execute_result"
    }
   ],
   "source": [
    "np.linspace(0, 2 * np.pi, D+1) / np.pi"
   ]
  },
  {
   "cell_type": "code",
   "execution_count": 34,
   "id": "chief-prison",
   "metadata": {},
   "outputs": [],
   "source": [
    "def is_broadcastable(x, y):\n",
    "    return list((m == n) or (m == 1) or (n == 1) for m, n in zip(x.shape[::-1], y.shape[::-1]))\n"
   ]
  },
  {
   "cell_type": "code",
   "execution_count": 35,
   "id": "acquired-federal",
   "metadata": {},
   "outputs": [
    {
     "name": "stdout",
     "output_type": "stream",
     "text": [
      "(2, 15)\n",
      "(2, 4)\n",
      "False\n",
      "[False, True]\n"
     ]
    }
   ],
   "source": [
    "b = np.random.randn(2,4)\n",
    "a = np.random.randn(2,15)\n",
    "print(a.shape)\n",
    "print(b.shape)\n",
    "print(all((m == n) or (m == 1) or (n == 1) for m, n in zip(a.shape[::-1], b.shape[::-1])))\n",
    "print(is_broadcastable(a, b))\n"
   ]
  },
  {
   "cell_type": "code",
   "execution_count": null,
   "id": "dimensional-peripheral",
   "metadata": {},
   "outputs": [],
   "source": []
  }
 ],
 "metadata": {
  "kernelspec": {
   "display_name": "Python 3",
   "language": "python",
   "name": "python3"
  },
  "language_info": {
   "codemirror_mode": {
    "name": "ipython",
    "version": 3
   },
   "file_extension": ".py",
   "mimetype": "text/x-python",
   "name": "python",
   "nbconvert_exporter": "python",
   "pygments_lexer": "ipython3",
   "version": "3.8.8"
  }
 },
 "nbformat": 4,
 "nbformat_minor": 5
}
