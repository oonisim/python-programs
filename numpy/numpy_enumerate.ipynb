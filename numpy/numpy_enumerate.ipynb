{
 "cells": [
  {
   "cell_type": "code",
   "execution_count": 1,
   "id": "b768c6e9",
   "metadata": {},
   "outputs": [],
   "source": [
    "import numpy as np\n",
    "import pandas as pd"
   ]
  },
  {
   "cell_type": "code",
   "execution_count": 2,
   "id": "ef33dc12",
   "metadata": {},
   "outputs": [
    {
     "name": "stdout",
     "output_type": "stream",
     "text": [
      "Writing a.csv\n"
     ]
    }
   ],
   "source": [
    "%%writefile -a a.csv\n",
    "1, 2, 3, 4, 5\n",
    "6,  ,  , 7, 8\n",
    " ,  , 9,10,11"
   ]
  },
  {
   "cell_type": "code",
   "execution_count": 4,
   "id": "99032904",
   "metadata": {},
   "outputs": [
    {
     "name": "stdout",
     "output_type": "stream",
     "text": [
      "coordinate in array (0, 0): array element value 6\n",
      "coordinate in array (0, 1): array element value   \n",
      "coordinate in array (0, 2): array element value   \n",
      "coordinate in array (0, 3): array element value 7\n",
      "coordinate in array (0, 4): array element value 8\n",
      "coordinate in array (1, 0): array element value  \n",
      "coordinate in array (1, 1): array element value   \n",
      "coordinate in array (1, 2): array element value  9\n",
      "coordinate in array (1, 3): array element value 10\n",
      "coordinate in array (1, 4): array element value 11\n"
     ]
    }
   ],
   "source": [
    "X = np.array(pd.read_csv(\"a.csv\"))\n",
    "for index, element in np.ndenumerate(X):\n",
    "    print(f\"coordinate in array {index}: array element value {element}\")"
   ]
  },
  {
   "cell_type": "code",
   "execution_count": null,
   "id": "8cd8a7d6",
   "metadata": {},
   "outputs": [],
   "source": []
  }
 ],
 "metadata": {
  "kernelspec": {
   "display_name": "Python 3 (ipykernel)",
   "language": "python",
   "name": "python3"
  },
  "language_info": {
   "codemirror_mode": {
    "name": "ipython",
    "version": 3
   },
   "file_extension": ".py",
   "mimetype": "text/x-python",
   "name": "python",
   "nbconvert_exporter": "python",
   "pygments_lexer": "ipython3",
   "version": "3.9.12"
  }
 },
 "nbformat": 4,
 "nbformat_minor": 5
}
