{
 "cells": [
  {
   "cell_type": "code",
   "execution_count": 1,
   "id": "sitting-importance",
   "metadata": {},
   "outputs": [],
   "source": [
    "import numpy as np"
   ]
  },
  {
   "cell_type": "code",
   "execution_count": 49,
   "id": "changed-torture",
   "metadata": {},
   "outputs": [],
   "source": [
    "import sys\n",
    "import numpy as np\n",
    "np.set_printoptions(threshold=sys.maxsize)\n",
    "np.set_printoptions(linewidth=1000) "
   ]
  },
  {
   "cell_type": "code",
   "execution_count": 16,
   "id": "absolute-state",
   "metadata": {},
   "outputs": [
    {
     "name": "stdout",
     "output_type": "stream",
     "text": [
      "[[0. 0. 0. 0. 0.]\n",
      " [0. 0. 0. 0. 0.]\n",
      " [0. 0. 0. 0. 0.]]\n",
      "True\n",
      "True\n",
      "[[0. 0. 0. 0. 0.]\n",
      " [0. 1. 1. 0. 0.]\n",
      " [0. 0. 0. 0. 0.]]\n",
      "[[0. 0. 0. 0. 0.]\n",
      " [0. 1. 1. 0. 0.]\n",
      " [0. 0. 0. 0. 0.]]\n",
      "[[0. 0. 0. 0. 0.]\n",
      " [0. 0. 0. 0. 0.]\n",
      " [0. 0. 0. 0. 0.]]\n",
      "True\n"
     ]
    }
   ],
   "source": [
    "a = np.zeros(5 * 3).reshape(3, 5)\n",
    "b = a\n",
    "print(a)\n",
    "print (np.may_share_memory(a, b))\n",
    "a[\n",
    "    1:4:3,\n",
    "    (1,2)\n",
    "] = 1\n",
    "#c = 1\n",
    "print (np.may_share_memory(a, b))\n",
    "print(a)\n",
    "print(b)\n",
    "a[1:4:3, (1,2)] = np.dot(a[1:4:3, (1,2)], 0)\n",
    "print(a)\n",
    "print (np.may_share_memory(a, b))"
   ]
  },
  {
   "cell_type": "code",
   "execution_count": 36,
   "id": "thorough-husband",
   "metadata": {},
   "outputs": [
    {
     "name": "stdout",
     "output_type": "stream",
     "text": [
      "[ True False False False False False False False]\n",
      "True\n"
     ]
    },
    {
     "data": {
      "text/plain": [
       "array([[ 0.        ,  0.63401531, -0.02272114, -1.32074605, -0.37547971,  1.24397671,  0.04377315, -0.85318264],\n",
       "       [ 0.        ,  1.39898499, -0.94798154, -0.46228464, -0.74397546, -0.1951366 ,  0.13388639,  1.36570077],\n",
       "       [ 0.        , -0.21252002, -0.05020735,  0.1509649 ,  0.49312099, -0.22747285,  0.11895831, -0.11739548],\n",
       "       [ 0.        ,  1.25931439, -1.06279398, -0.4665774 ,  1.92634438,  1.2646767 ,  1.18250327, -0.57750535],\n",
       "       [ 0.        , -0.60484621,  0.49956358,  0.36734102, -1.61717771, -1.79568549, -0.44486284, -1.28799455],\n",
       "       [ 0.        ,  1.27204747, -0.86128076,  1.50000584,  1.19194821,  0.37859158, -1.44311422,  1.61931129],\n",
       "       [ 0.        , -0.43778543,  1.15454473,  1.10723193, -0.40478027,  0.81581754, -1.79623246,  0.01655473],\n",
       "       [ 0.        , -0.7530228 ,  2.26612817, -1.03240685, -0.47595658, -1.55076569,  1.09041356,  0.01640809],\n",
       "       [ 0.        , -1.26981086, -0.6170983 ,  1.32571566, -0.67714719, -0.36878714, -0.2333929 , -1.26599335],\n",
       "       [ 0.        , -1.28637685, -0.35815341, -1.16924441,  0.68310334,  0.43478524,  1.34806774,  1.0840965 ]])"
      ]
     },
     "execution_count": 36,
     "metadata": {},
     "output_type": "execute_result"
    }
   ],
   "source": [
    "\n",
    "X = np.random.randn(10, 8)\n",
    "X[\n",
    "    ::,\n",
    "    0\n",
    "] = 0\n",
    "\n",
    "out = np.copy(X)\n",
    "Y = out\n",
    "\n",
    "N = X.shape[0]\n",
    "mean = np.sum(X, axis=0) / N    # mean of each feature\n",
    "deviation = X - mean\n",
    "variance = np.var(X, axis=0)\n",
    "sd = np.sqrt(variance)\n",
    "\n",
    "mask = (sd == 0.0)\n",
    "print(mask)\n",
    "if np.any(mask):\n",
    "    # Temporary replace the zero elements with one\n",
    "    sd[mask] = 1.0\n",
    "\n",
    "    # reuse deviation memory area\n",
    "    out = deviation if out is None else out\n",
    "\n",
    "    # standardize and zero clear the mask elements\n",
    "    standardized = np.divide(deviation, sd, out)\n",
    "    out[::, mask] = 0.0\n",
    "\n",
    "    # restore sd\n",
    "    sd[mask] = 0.0\n",
    "\n",
    "else:\n",
    "    standardized = np.divide(deviation, sd, out)\n",
    "\n",
    "assert np.all(np.isfinite(standardized))\n",
    "print (np.may_share_memory(a, b))\n",
    "\n"
   ]
  },
  {
   "cell_type": "markdown",
   "id": "decimal-satisfaction",
   "metadata": {},
   "source": [
    "# Variance, SD Delta of degree of freedom\n",
    "\n",
    "You need to make sure ```ddof=(N-1) > 0``` at ```Variance / (N-1)```."
   ]
  },
  {
   "cell_type": "code",
   "execution_count": 37,
   "id": "finite-alberta",
   "metadata": {},
   "outputs": [
    {
     "name": "stderr",
     "output_type": "stream",
     "text": [
      "/home/oonisim/conda/envs/python_programs/lib/python3.8/site-packages/numpy/core/_methods.py:233: RuntimeWarning: Degrees of freedom <= 0 for slice\n",
      "  ret = _var(a, axis=axis, dtype=dtype, out=out, ddof=ddof,\n",
      "/home/oonisim/conda/envs/python_programs/lib/python3.8/site-packages/numpy/core/_methods.py:226: RuntimeWarning: invalid value encountered in double_scalars\n",
      "  ret = ret.dtype.type(ret / rcount)\n"
     ]
    },
    {
     "data": {
      "text/plain": [
       "nan"
      ]
     },
     "execution_count": 37,
     "metadata": {},
     "output_type": "execute_result"
    }
   ],
   "source": [
    "np.std([1], ddof=1)"
   ]
  },
  {
   "cell_type": "markdown",
   "id": "still-complaint",
   "metadata": {},
   "source": [
    "# Numpy delete rows/cols\n",
    "\n",
    "* [numpy.delete(arr, obj, axis=None)](https://numpy.org/doc/stable/reference/generated/numpy.delete.html)"
   ]
  },
  {
   "cell_type": "code",
   "execution_count": 57,
   "id": "laden-creator",
   "metadata": {},
   "outputs": [
    {
     "name": "stdout",
     "output_type": "stream",
     "text": [
      "W.shape is (5, 6) W is \n",
      "[[ 4.47144043e-01  4.10824414e-04  1.23359180e-01  2.61962430e-01  7.28072006e-01  4.44182229e-01]\n",
      " [ 8.20683622e-01  8.99123077e-01  8.08961053e-01  3.52575863e-03  7.15409112e-01  7.22465258e-01]\n",
      " [-7.67978359e-01  9.00059616e-01  9.53641698e-01  8.06065772e-01  3.59177527e-01  8.10210224e-01]\n",
      " [ 9.88973379e-01  2.12178987e-01  3.77103943e-01  5.90208309e-01  5.88364600e-01  5.27245324e-01]\n",
      " [-3.46212320e-01  7.83591574e-01  7.62654726e-01  1.02234534e-02  9.70708024e-01  5.06796799e-01]]\n",
      "False\n"
     ]
    }
   ],
   "source": [
    "num_nodes = 5\n",
    "D = 5\n",
    "W = np.random.rand(num_nodes, D)\n",
    "W = np.c_[\n",
    "    np.random.uniform(-1, 1, num_nodes),\n",
    "    W\n",
    "]\n",
    "print(f\"W.shape is {W.shape} W is \\n{W}\")\n",
    "\n",
    "# Delete the 1st column\n",
    "U = np.delete(W, 0, axis=1)\n",
    "print (np.may_share_memory(W, U))"
   ]
  },
  {
   "cell_type": "code",
   "execution_count": 63,
   "id": "widespread-martial",
   "metadata": {},
   "outputs": [
    {
     "name": "stdout",
     "output_type": "stream",
     "text": [
      "W.shape is (5, 5) W is \n",
      "[[0.11452948 0.60490927 0.6678025  0.28565915 0.19597239]\n",
      " [0.77427786 0.42063954 0.28470153 0.01509157 0.13727146]\n",
      " [0.29918505 0.21396133 0.7573232  0.43228129 0.40236131]\n",
      " [0.31987676 0.61457229 0.70164045 0.45291392 0.33502056]\n",
      " [0.15627297 0.17576852 0.25672442 0.92263637 0.26751086]]\n",
      "True\n",
      "[[0.60490927 0.6678025  0.28565915 0.19597239]\n",
      " [0.42063954 0.28470153 0.01509157 0.13727146]\n",
      " [0.21396133 0.7573232  0.43228129 0.40236131]\n",
      " [0.61457229 0.70164045 0.45291392 0.33502056]\n",
      " [0.17576852 0.25672442 0.92263637 0.26751086]]\n"
     ]
    }
   ],
   "source": [
    "num_nodes = 5\n",
    "D = 5\n",
    "W = np.random.rand(num_nodes, D)\n",
    "print(f\"W.shape is {W.shape} W is \\n{W}\")\n",
    "U = W[\n",
    "    ::,\n",
    "    1::\n",
    "]\n",
    "# Delete the 1st column\n",
    "print (np.may_share_memory(W, U))\n",
    "print(U)"
   ]
  }
 ],
 "metadata": {
  "kernelspec": {
   "display_name": "Python 3",
   "language": "python",
   "name": "python3"
  },
  "language_info": {
   "codemirror_mode": {
    "name": "ipython",
    "version": 3
   },
   "file_extension": ".py",
   "mimetype": "text/x-python",
   "name": "python",
   "nbconvert_exporter": "python",
   "pygments_lexer": "ipython3",
   "version": "3.8.8"
  }
 },
 "nbformat": 4,
 "nbformat_minor": 5
}
