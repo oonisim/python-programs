{
 "cells": [
  {
   "cell_type": "markdown",
   "metadata": {},
   "source": [
    "# Linear Mapping\n",
    "\n",
    "2.7.1 Matrix Representation of Linear Mappings from [Mathematics for Machine Learning[(https://mml-book.github.io/)"
   ]
  },
  {
   "cell_type": "code",
   "execution_count": 1,
   "metadata": {},
   "outputs": [],
   "source": [
    "import numpy as np\n",
    "import matplotlib.pyplot as plt\n",
    "import matplotlib.ticker as ticker"
   ]
  },
  {
   "cell_type": "markdown",
   "metadata": {},
   "source": [
    "# Transformation Matrix $A_\\Phi$ in the Cartesian Space\n",
    "\n",
    "Do NOT confuse. A is defined ***in the cartesian space*** whose basis are ```[[1, 0], [0, 1]]```. A is a mapping within the NOT a basis transformation: from a basis $B=(b_1, ..., b_j,...,b_n)$ of the Vector Space $V$ to another basis $C(c_1, ... c_i, ..., c_m)$ of te Vector Space $W$. "
   ]
  },
  {
   "cell_type": "code",
   "execution_count": 2,
   "metadata": {},
   "outputs": [
    {
     "name": "stdout",
     "output_type": "stream",
     "text": [
      "[[2 1]\n",
      " [1 2]]\n"
     ]
    }
   ],
   "source": [
    "A = np.array([\n",
    "    [2,1],\n",
    "    [1,2]\n",
    "])\n",
    "print(A)"
   ]
  },
  {
   "cell_type": "markdown",
   "metadata": {},
   "source": [
    "### Eigen Vectors/Values of $A_\\Phi$\n"
   ]
  },
  {
   "cell_type": "code",
   "execution_count": 3,
   "metadata": {},
   "outputs": [
    {
     "name": "stdout",
     "output_type": "stream",
     "text": [
      "[3. 1.]\n",
      "[[ 0.70710678 -0.70710678]\n",
      " [ 0.70710678  0.70710678]]\n"
     ]
    },
    {
     "data": {
      "text/plain": [
       "array([[ 1., -1.],\n",
       "       [ 1.,  1.]])"
      ]
     },
     "execution_count": 3,
     "metadata": {},
     "output_type": "execute_result"
    }
   ],
   "source": [
    "w, v = np.linalg.eig(A)\n",
    "print(w)\n",
    "print(v)\n",
    "v / np.abs(v)"
   ]
  },
  {
   "cell_type": "markdown",
   "metadata": {},
   "source": [
    "### SVD of $A_\\Phi$"
   ]
  },
  {
   "cell_type": "code",
   "execution_count": 4,
   "metadata": {},
   "outputs": [
    {
     "name": "stdout",
     "output_type": "stream",
     "text": [
      "[[-0.70710678 -0.70710678]\n",
      " [-0.70710678  0.70710678]]\n",
      "[[-1. -1.]\n",
      " [-1.  1.]]\n",
      "[3. 1.]\n",
      "[[-0.70710678 -0.70710678]\n",
      " [-0.70710678  0.70710678]]\n",
      "[[-1. -1.]\n",
      " [-1.  1.]]\n"
     ]
    }
   ],
   "source": [
    "u, s, v = np.linalg.svd(A)\n",
    "print(u)\n",
    "print(u / np.abs(u))\n",
    "print(s)\n",
    "print(v)\n",
    "print(v / np.abs(v))"
   ]
  },
  {
   "cell_type": "markdown",
   "metadata": {},
   "source": [
    "## Vector space V of basis B"
   ]
  },
  {
   "cell_type": "code",
   "execution_count": 5,
   "metadata": {},
   "outputs": [],
   "source": [
    "b1 = [1, 1]\n",
    "b2 = [1, -1]\n",
    "B = np.array([\n",
    "    b1,\n",
    "    b2\n",
    "])"
   ]
  },
  {
   "cell_type": "code",
   "execution_count": 6,
   "metadata": {},
   "outputs": [
    {
     "data": {
      "image/png": "[encoded data removed]",
      "text/plain": [
       "<Figure size 432x288 with 1 Axes>"
      ]
     },
     "metadata": {
      "needs_background": "light"
     },
     "output_type": "display_data"
    }
   ],
   "source": [
    "B = np.array([b1, b2])\n",
    "origin = np.array([[0, 0],[0, 0]]) # origin point\n",
    "\n",
    "ax = plt.gca()\n",
    "major_ticks = np.arange(-10, 10, 5)\n",
    "minor_ticks = np.arange(-10, 10, 1)\n",
    "\n",
    "ax.set_xticks(major_ticks)\n",
    "ax.set_xticks(minor_ticks, minor=True)\n",
    "ax.set_yticks(major_ticks)\n",
    "ax.set_yticks(minor_ticks, minor=True)\n",
    "\n",
    "# And a corresponding grid\n",
    "ax.grid(which='both')\n",
    "plt.axis('equal')\n",
    "\n",
    "plt.axis('equal')  #<-- set the axes to the same scale\n",
    "plt.xlim(-10, 10)\n",
    "plt.ylim(-10, 10)\n",
    "plt.quiver(*origin, *B, color=['r','b'], scale=21)\n",
    "plt.show()"
   ]
  },
  {
   "cell_type": "markdown",
   "metadata": {},
   "source": [
    "## Basis Transformation (Mapping)"
   ]
  },
  {
   "cell_type": "code",
   "execution_count": 7,
   "metadata": {},
   "outputs": [
    {
     "name": "stdout",
     "output_type": "stream",
     "text": [
      "[[ 3  1]\n",
      " [ 3 -1]]\n",
      "Basis C of the space W are [[3 1], [ 3 -1]]\n"
     ]
    }
   ],
   "source": [
    "W = A@B.T\n",
    "print(W)\n",
    "c1 = W[0]\n",
    "c2 = W[1]\n",
    "print(f\"Basis C of the space W are [{c1}, {c2}]\")"
   ]
  },
  {
   "cell_type": "code",
   "execution_count": 9,
   "metadata": {},
   "outputs": [
    {
     "data": {
      "image/png": "[encoded data removed]",
      "text/plain": [
       "<Figure size 432x288 with 1 Axes>"
      ]
     },
     "metadata": {
      "needs_background": "light"
     },
     "output_type": "display_data"
    }
   ],
   "source": [
    "W = np.array([c1, c2])\n",
    "origin = np.array([[0, 0],[0, 0]]) # origin point\n",
    "\n",
    "ax = plt.gca()\n",
    "major_ticks = np.arange(-10, 10, 5)\n",
    "minor_ticks = np.arange(-10, 10, 1)\n",
    "\n",
    "ax.set_xticks(major_ticks)\n",
    "ax.set_xticks(minor_ticks, minor=True)\n",
    "ax.set_yticks(major_ticks)\n",
    "ax.set_yticks(minor_ticks, minor=True)\n",
    "\n",
    "# And a corresponding grid\n",
    "ax.grid(which='both')\n",
    "plt.axis('equal')\n",
    "\n",
    "plt.axis('equal')  #<-- set the axes to the same scale\n",
    "plt.xlim(-10, 10)\n",
    "plt.ylim(-10, 10)\n",
    "plt.quiver(*origin, *W, color=['r','b'], scale=21)\n",
    "plt.show()"
   ]
  },
  {
   "cell_type": "code",
   "execution_count": 10,
   "metadata": {},
   "outputs": [
    {
     "name": "stdout",
     "output_type": "stream",
     "text": [
      "A s \n",
      "[[ 1  2  0]\n",
      " [-1  1  3]\n",
      " [ 3  7  1]\n",
      " [-1  2  4]]\n",
      "\n",
      "Eigen vectors of A is \n",
      "[[-1. -1.  1.]\n",
      " [-1. -1. -1.]\n",
      " [-1.  1.  1.]]\n",
      "\n"
     ]
    }
   ],
   "source": [
    "A = np.array([\n",
    "    [1,2,0],\n",
    "    [-1,1,3],\n",
    "    [3,7,1],\n",
    "    [-1,2,4],\n",
    "])\n",
    "print(f\"A s \\n{A}\\n\")\n",
    "u,s,vt = np.linalg.svd(A)\n",
    "print(f\"Eigen vectors of A is \\n{vt.T / np.abs(vt.T)}\\n\")"
   ]
  },
  {
   "cell_type": "code",
   "execution_count": 23,
   "metadata": {},
   "outputs": [
    {
     "name": "stdout",
     "output_type": "stream",
     "text": [
      "[[0.2 0.1]\n",
      " [0.1 0.2]]\n",
      "[0.3 0.1]\n",
      "[[ 0.70710678 -0.70710678]\n",
      " [ 0.70710678  0.70710678]]\n"
     ]
    },
    {
     "data": {
      "text/plain": [
       "array([[0.2, 0.1],\n",
       "       [0.1, 0.2]])"
      ]
     },
     "execution_count": 23,
     "metadata": {},
     "output_type": "execute_result"
    }
   ],
   "source": [
    "A = np.array([\n",
    "    [2,1],\n",
    "    [1,2]\n",
    "]) / 10\n",
    "print(A)\n",
    "w, v = np.linalg.eig(A)\n",
    "print(w)\n",
    "print(v)\n",
    "\n",
    "E = np.zeros(A.shape)\n",
    "np.fill_diagonal(E, w)\n",
    "\n",
    "v @ E @ v.T"
   ]
  }
 ],
 "metadata": {
  "kernelspec": {
   "display_name": "Python 3",
   "language": "python",
   "name": "python3"
  },
  "language_info": {
   "codemirror_mode": {
    "name": "ipython",
    "version": 3
   },
   "file_extension": ".py",
   "mimetype": "text/x-python",
   "name": "python",
   "nbconvert_exporter": "python",
   "pygments_lexer": "ipython3",
   "version": "3.8.8"
  }
 },
 "nbformat": 4,
 "nbformat_minor": 4
}
