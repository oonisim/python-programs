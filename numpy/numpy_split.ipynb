{
 "cells": [
  {
   "cell_type": "code",
   "execution_count": 4,
   "metadata": {},
   "outputs": [],
   "source": [
    "import numpy as np"
   ]
  },
  {
   "cell_type": "code",
   "execution_count": 8,
   "metadata": {},
   "outputs": [
    {
     "name": "stdout",
     "output_type": "stream",
     "text": [
      "[0 1 2 3 4 5 6 7]\n",
      "[array([0, 1, 2, 3]), array([4, 5, 6, 7])]\n",
      "[array([0, 1, 2]), array([3, 4, 5]), array([6, 7])]\n"
     ]
    }
   ],
   "source": [
    "a = np.arange(0, 4)\n",
    "b = np.arange(4, 8)\n",
    "\n",
    "c = np.concatenate([a, b])\n",
    "print(c)\n",
    "\n",
    "# Split into 2-equal arrays\n",
    "print(np.split(c, 2))\n",
    "\n",
    "# Split after the each index specified as iterable.\n",
    "print(np.split(c, [3, 6]))  # like 0:3, 3:6"
   ]
  },
  {
   "cell_type": "code",
   "execution_count": null,
   "metadata": {},
   "outputs": [],
   "source": []
  },
  {
   "cell_type": "code",
   "execution_count": 24,
   "metadata": {},
   "outputs": [
    {
     "name": "stdout",
     "output_type": "stream",
     "text": [
      "[[[ 0  1  2  3  4]\n",
      "  [ 5  6  7  8  9]\n",
      "  [10 11 12 13 14]]\n",
      "\n",
      " [[15 16 17 18 19]\n",
      "  [20 21 22 23 24]\n",
      "  [25 26 27 28 29]]\n",
      "\n",
      " [[30 31 32 33 34]\n",
      "  [35 36 37 38 39]\n",
      "  [40 41 42 43 44]]\n",
      "\n",
      " [[45 46 47 48 49]\n",
      "  [50 51 52 53 54]\n",
      "  [55 56 57 58 59]]]\n",
      "\n",
      "[array([[[ 0,  1,  2,  3,  4],\n",
      "        [ 5,  6,  7,  8,  9],\n",
      "        [10, 11, 12, 13, 14]],\n",
      "\n",
      "       [[15, 16, 17, 18, 19],\n",
      "        [20, 21, 22, 23, 24],\n",
      "        [25, 26, 27, 28, 29]]]), array([[[30, 31, 32, 33, 34],\n",
      "        [35, 36, 37, 38, 39],\n",
      "        [40, 41, 42, 43, 44]],\n",
      "\n",
      "       [[45, 46, 47, 48, 49],\n",
      "        [50, 51, 52, 53, 54],\n",
      "        [55, 56, 57, 58, 59]]])]\n",
      "[array([[[ 0,  1],\n",
      "        [ 5,  6],\n",
      "        [10, 11]],\n",
      "\n",
      "       [[15, 16],\n",
      "        [20, 21],\n",
      "        [25, 26]],\n",
      "\n",
      "       [[30, 31],\n",
      "        [35, 36],\n",
      "        [40, 41]],\n",
      "\n",
      "       [[45, 46],\n",
      "        [50, 51],\n",
      "        [55, 56]]]), array([[[ 2,  3],\n",
      "        [ 7,  8],\n",
      "        [12, 13]],\n",
      "\n",
      "       [[17, 18],\n",
      "        [22, 23],\n",
      "        [27, 28]],\n",
      "\n",
      "       [[32, 33],\n",
      "        [37, 38],\n",
      "        [42, 43]],\n",
      "\n",
      "       [[47, 48],\n",
      "        [52, 53],\n",
      "        [57, 58]]]), array([[[ 4],\n",
      "        [ 9],\n",
      "        [14]],\n",
      "\n",
      "       [[19],\n",
      "        [24],\n",
      "        [29]],\n",
      "\n",
      "       [[34],\n",
      "        [39],\n",
      "        [44]],\n",
      "\n",
      "       [[49],\n",
      "        [54],\n",
      "        [59]]])]\n"
     ]
    }
   ],
   "source": [
    "a = np.arange(60).reshape((4, 3, 5))\n",
    "print(a)\n",
    "print()\n",
    "\n",
    "# Spit along the 1st axis as 0:2, 2:\n",
    "print(np.split(a, [2], axis=0))\n",
    "\n",
    "# Spit along the 3rd axis as :2, 2:4, 4:\n",
    "print(np.split(a, [2, 4], axis=2))"
   ]
  },
  {
   "cell_type": "code",
   "execution_count": 25,
   "metadata": {},
   "outputs": [
    {
     "data": {
      "text/plain": [
       "True"
      ]
     },
     "execution_count": 25,
     "metadata": {},
     "output_type": "execute_result"
    }
   ],
   "source": []
  }
 ],
 "metadata": {
  "kernelspec": {
   "display_name": "Python 3",
   "language": "python",
   "name": "python3"
  },
  "language_info": {
   "codemirror_mode": {
    "name": "ipython",
    "version": 3
   },
   "file_extension": ".py",
   "mimetype": "text/x-python",
   "name": "python",
   "nbconvert_exporter": "python",
   "pygments_lexer": "ipython3",
   "version": "3.8.5"
  }
 },
 "nbformat": 4,
 "nbformat_minor": 4
}
