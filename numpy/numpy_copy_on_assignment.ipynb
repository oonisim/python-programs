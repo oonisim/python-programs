{
 "cells": [
  {
   "cell_type": "markdown",
   "id": "aggregate-estate",
   "metadata": {},
   "source": [
    "# Assignment operation and object creation at assignment "
   ]
  },
  {
   "cell_type": "code",
   "execution_count": 1,
   "id": "considerable-conviction",
   "metadata": {},
   "outputs": [],
   "source": [
    "import numpy as np"
   ]
  },
  {
   "cell_type": "markdown",
   "id": "annoying-mortality",
   "metadata": {},
   "source": [
    "# X = X op operand \n",
    "It creates a new array from X. Hence X is different from the original."
   ]
  },
  {
   "cell_type": "code",
   "execution_count": 2,
   "id": "faced-state",
   "metadata": {},
   "outputs": [
    {
     "data": {
      "text/plain": [
       "False"
      ]
     },
     "execution_count": 2,
     "metadata": {},
     "output_type": "execute_result"
    }
   ],
   "source": [
    "X = np.array([1, 2, 3], dtype=float)\n",
    "Y = X\n",
    "X = X - np.mean(X)\n",
    "np.array_equal(X, Y)"
   ]
  },
  {
   "cell_type": "markdown",
   "id": "social-toyota",
   "metadata": {},
   "source": [
    "# X op= operand\n",
    "\n",
    "It updates the original X."
   ]
  },
  {
   "cell_type": "code",
   "execution_count": 3,
   "id": "adult-round",
   "metadata": {},
   "outputs": [
    {
     "data": {
      "text/plain": [
       "True"
      ]
     },
     "execution_count": 3,
     "metadata": {},
     "output_type": "execute_result"
    }
   ],
   "source": [
    "X = np.array([1, 2, 3], dtype=float)\n",
    "Y = X\n",
    "X -= np.mean(X, keepdims=True)\n",
    "np.array_equal(X, Y)"
   ]
  },
  {
   "cell_type": "code",
   "execution_count": 4,
   "id": "responsible-tablet",
   "metadata": {},
   "outputs": [
    {
     "data": {
      "text/plain": [
       "True"
      ]
     },
     "execution_count": 4,
     "metadata": {},
     "output_type": "execute_result"
    }
   ],
   "source": [
    "X = np.array([1, 2, 3], dtype=float)\n",
    "Y = X\n",
    "np.subtract(X, np.mean(X, keepdims=True), out=X)\n",
    "np.array_equal(X, Y)"
   ]
  }
 ],
 "metadata": {
  "kernelspec": {
   "display_name": "Python 3",
   "language": "python",
   "name": "python3"
  },
  "language_info": {
   "codemirror_mode": {
    "name": "ipython",
    "version": 3
   },
   "file_extension": ".py",
   "mimetype": "text/x-python",
   "name": "python",
   "nbconvert_exporter": "python",
   "pygments_lexer": "ipython3",
   "version": "3.8.8"
  }
 },
 "nbformat": 4,
 "nbformat_minor": 5
}
