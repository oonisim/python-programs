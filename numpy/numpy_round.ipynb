{
 "cells": [
  {
   "cell_type": "markdown",
   "id": "1473f49b",
   "metadata": {},
   "source": [
    "In the Python file, write a program to perform a GET request on the route https://coderbyte.com/api/challenges/json/list-numbers which contains a data key and the value is an array of numbers. Your program should calculcate the standard deviation of the list of numbers (rounded to the nearest whole number), and then again with the two large outlier numbers removed. Then finally print each standard deviation separated by a space.\n",
    "\n",
    "Example Input\n",
    "1, 2, 3, 4, 5, 6, 10, 100, 200\n",
    "\n",
    "Example Output\n",
    "65 3"
   ]
  },
  {
   "cell_type": "code",
   "execution_count": 2,
   "id": "c84804be",
   "metadata": {},
   "outputs": [
    {
     "name": "stdout",
     "output_type": "stream",
     "text": [
      "65 3\n"
     ]
    }
   ],
   "source": [
    "import requests\n",
    "import numpy as np\n",
    "import pandas as pd\n",
    "\n",
    "r = requests.get('https://coderbyte.com/api/challenges/json/list-numbers')\n",
    "data = np.array(r.json()['data']).astype(int)\n",
    "\n",
    "data = np.array([1, 2, 3, 4, 5, 6, 10, 100, 200])\n",
    "first = np.round(np.std(data), decimals=0).astype(int)\n",
    "\n",
    "data = np.delete(data, np.argmax(data))\n",
    "data = np.delete(data, np.argmax(data))\n",
    "\n",
    "second = np.round(np.std(data), decimals=0).astype(int)\n",
    "\n",
    "print(f\"{first} {second}\")"
   ]
  },
  {
   "cell_type": "code",
   "execution_count": null,
   "id": "e382e33f",
   "metadata": {},
   "outputs": [],
   "source": []
  }
 ],
 "metadata": {
  "kernelspec": {
   "display_name": "Python 3 (ipykernel)",
   "language": "python",
   "name": "python3"
  },
  "language_info": {
   "codemirror_mode": {
    "name": "ipython",
    "version": 3
   },
   "file_extension": ".py",
   "mimetype": "text/x-python",
   "name": "python",
   "nbconvert_exporter": "python",
   "pygments_lexer": "ipython3",
   "version": "3.8.10"
  }
 },
 "nbformat": 4,
 "nbformat_minor": 5
}
