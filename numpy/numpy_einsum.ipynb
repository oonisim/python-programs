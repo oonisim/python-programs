{
 "cells": [
  {
   "cell_type": "markdown",
   "id": "liable-renewal",
   "metadata": {},
   "source": [
    "# Einstein summation\n",
    "\n",
    "For matrices $a_{(i,j)}$  and $b_{(j,k)}$, a common subscript $j$ specifies the summation axis along which to add the elementwise multiplications $a_{i j} * b_{j k}$. This summation notation $a_{i j} b_{j k}$ is called Einstein summation. The dimension size ```J``` along the axis ```j``` matches in the shapes of ```a:(I,J)``` and ```b:(J,K)```.\n",
    "\n",
    "\n",
    "$\n",
    "\\begin{align*}\n",
    "a_{i j} b_{j k}\n",
    "&= \\sum\\limits ^J_{j} a_{ij} * b_{jk}\n",
    "\\\\\n",
    "&=  a_{i 1} * b_{1 k} + a_{i 2} * b_{2 k} + \\dots + a_{i j} * b_{j k} + \\dots + a_{i J} * b_{j J}\n",
    "\\end{align*}\n",
    "$\n",
    "\n",
    "\n",
    "\n",
    "* [Einstein Summation](https://mathworld.wolfram.com/EinsteinSummation.html)\n",
    "\n",
    ">Einstein summation is a notational convention for simplifying expressions including summations of vectors, matrices, and general tensors. There are essentially three rules of Einstein summation notation, namely:\n",
    ">1. Repeated indices are implicitly summed over.\n",
    ">2. Each index can appear at most twice in any term.\n",
    ">3. Each term must contain identical non-repeated indices.\n",
    "\n",
    "\n",
    "\n",
    "\n",
    "For ```np.einsum(\"ij,j\", a, b)``` of the **green rectangle** in the diagram from the youtube, ```j``` is the dummy index and the element wise multiplication ```a[i][j] * b[j]``` is summed up along the ```j``` axis as $ \\sum\\limits_{j} (a_{ij} * b_j) $ . \n",
    "\n",
    "\n",
    "* [Einstein Summation Convention: an Introduction](https://www.youtube.com/watch?v=CLrTj7D2fLM)\n",
    "\n",
    "\n",
    "<img src=\"images/einstein_summation.png\" align=\"left\">"
   ]
  },
  {
   "cell_type": "code",
   "execution_count": 1,
   "id": "surprised-quick",
   "metadata": {},
   "outputs": [],
   "source": [
    "import numpy as np"
   ]
  },
  {
   "cell_type": "code",
   "execution_count": 2,
   "id": "artistic-belle",
   "metadata": {},
   "outputs": [
    {
     "name": "stdout",
     "output_type": "stream",
     "text": [
      "[[0 1 2]\n",
      " [3 4 5]]\n",
      "[[10 11]\n",
      " [12 13]]\n"
     ]
    }
   ],
   "source": [
    "a = np.arange(6).reshape((2,3))\n",
    "b = np.arange(10,14).reshape((2,2))\n",
    "print(a)\n",
    "print(b)"
   ]
  },
  {
   "cell_type": "markdown",
   "id": "ranking-henry",
   "metadata": {},
   "source": [
    "## $np.einsum(\\text{\"ij,il\"}, a, b)$\n",
    "\n",
    "For the dummy index $i$, which is common in $a_{ik}$ and $ b_{il}$,  ```np.einsum(a, b)``` appies the operation $a_{i k} b_{i l} $ for all the (k, l) combinations.\n",
    "\n",
    "$\n",
    "\\begin{align*}\n",
    "a_{i k} b_{i l} &= a_{0 k} * b_{0 l} + a_{1 k} * b_{1l} \n",
    "\\\\\n",
    "&= \\sum\\limits _{i} a_{ik} * b_{il}\n",
    "\\\\\n",
    "&= a^T[k] \\cdot b^T[l]\n",
    "\\end{align*}\n",
    "$\n",
    "\n",
    "The dummy index can appear anywhere as long as the rules (please see the youtube for details) are met. For the dummy index ```i``` in ```np.einsum(“ik,il\", a, b)```, it is a row index of the matrices ```a``` and ```b```, hence a column from ```a```  and that from ```b``` are extracted to generate the **dot product**s. \n",
    "\n",
    "<img src=\"images/einsum_operation.png\" align=\"left\">"
   ]
  },
  {
   "cell_type": "markdown",
   "id": "applied-teens",
   "metadata": {},
   "source": [
    "\n",
    "\n",
    "## Output form\n",
    "\n",
    "Because the summation occurs along the **dummy index**, the dummy index disappears in the result matrix, hence ```i``` from ```“ik,il\"``` is dropped and form the shape ```(k,l)```. We can tell ```np.einsum(\"... -> <shape>\")``` to specify the output form by the **output subscript labels** with ```->``` identifier.\n",
    "\n",
    "See the **explicit mode** in [numpy.einsum](https://numpy.org/doc/stable/reference/generated/numpy.einsum.html) for details.\n",
    "\n",
    ">In explicit mode the output can be directly controlled by specifying output subscript labels. This requires the identifier ```‘->’``` as well as the list of output subscript labels. This feature increases the flexibility of the function since summing can be disabled or forced when required. The call ```np.einsum('i-', a)``` is like ```np.sum(a,axis=-1)```, and ```np.einsum('ii->i', a)``` is like ```np.diag(a)```. <br>\n",
    "The difference\n",
    "is that einsum does not allow broadcasting by default. Additionally\n",
    "```np.einsum('ij,jh->ih', a, b)``` directly specifies the order of the\n",
    "output subscript labels and therefore returns matrix multiplication,\n",
    "unlike the example above in implicit mode.\n"
   ]
  },
  {
   "cell_type": "markdown",
   "id": "biblical-environment",
   "metadata": {},
   "source": [
    "For a, i is dummy index and row index. Hence it extracts column j (all i values)\n",
    "For b, i is dummy index and row index. Hence it extracts column l\n",
    "Then dot product of the columns are generated.\n",
    "e.g. \n",
    "```\n",
    "a[i=0,1][j=0] from a -> [0,3]\n",
    "b[i=0,1][l=0] from b -> [10, 12]\n",
    "36 = np.dot([0,3], [10, 12])\n",
    "```\n",
    "The result shape is (3,2) because \n",
    "```\n",
    "a[i=*][j=0,1,2] -> 3\n",
    "b[i=*][l=0,1]   -> 2 \n",
    "```\n",
    "c = np.einsum(\"ij,il\", a, b)    # Shape (3,2)"
   ]
  },
  {
   "cell_type": "code",
   "execution_count": 3,
   "id": "earned-transcription",
   "metadata": {},
   "outputs": [
    {
     "data": {
      "text/plain": [
       "array([[36, 39],\n",
       "       [58, 63],\n",
       "       [80, 87]])"
      ]
     },
     "execution_count": 3,
     "metadata": {},
     "output_type": "execute_result"
    }
   ],
   "source": [
    "np.einsum(\"ik,il\", a, b)"
   ]
  },
  {
   "cell_type": "markdown",
   "id": "monthly-nevada",
   "metadata": {},
   "source": [
    "## No dummy index \n",
    "\n",
    "No summation.\n",
    "1. A term (subscript Indices, e.g. \"ij\") selects an element in each array.\n",
    "2. Each left-hand side element is applied on the element on the right-hand side for element-wise multiplication (hence multiplication always happens).\n",
    "\n",
    "```a``` has shape (2,3) each element of which is applied to ```b``` of shape (2,2). Hence it creates a matrix of shape ```(2,3,2,2)``` without no summation as ```(i,j)```, ```(k.l)``` are all free indices."
   ]
  },
  {
   "cell_type": "code",
   "execution_count": 4,
   "id": "answering-hygiene",
   "metadata": {},
   "outputs": [
    {
     "data": {
      "text/plain": [
       "array([[[[ 0,  0],\n",
       "         [ 0,  0]],\n",
       "\n",
       "        [[10, 11],\n",
       "         [12, 13]],\n",
       "\n",
       "        [[20, 22],\n",
       "         [24, 26]]],\n",
       "\n",
       "\n",
       "       [[[30, 33],\n",
       "         [36, 39]],\n",
       "\n",
       "        [[40, 44],\n",
       "         [48, 52]],\n",
       "\n",
       "        [[50, 55],\n",
       "         [60, 65]]]])"
      ]
     },
     "execution_count": 4,
     "metadata": {},
     "output_type": "execute_result"
    }
   ],
   "source": [
    "# --------------------------------------------------------------------------------\n",
    "# For np.einsum(\"ij,kl\", a, b)\n",
    "# 1-1: Term \"ij\" or (i,j), two free indices, selects selects an element a[i][j].\n",
    "# 1-2: Term \"kl\" or (k,l), two free indices, selects selects an element b[k][l].\n",
    "# 2:   Each a[i][j] is applied on b[k][l] for element-wise multiplication a[i][j] * b[k,l]\n",
    "# --------------------------------------------------------------------------------\n",
    "# for (i,j) in a:\n",
    "#    for(k,l) in b:\n",
    "#        a[i][j] * b[k][l]\n",
    "np.einsum(\"ij,kl\", a, b)"
   ]
  },
  {
   "cell_type": "markdown",
   "id": "applied-gossip",
   "metadata": {},
   "source": [
    "---"
   ]
  },
  {
   "cell_type": "markdown",
   "id": "directed-breast",
   "metadata": {},
   "source": [
    "## dot prducts of Matrix A rows and Matrix B columns\n",
    "\n",
    "\n",
    "<img src=\"images/dot_proucts_from_matrix_A_rows_and_B_rows.png\" align=\"left\" />"
   ]
  },
  {
   "cell_type": "code",
   "execution_count": 4,
   "id": "public-tooth",
   "metadata": {},
   "outputs": [
    {
     "name": "stdout",
     "output_type": "stream",
     "text": [
      "np.einsum('ij,ji->i', A, B) = [ -5 -50]\n",
      "np.diagonal(np.matmul(A,B)) = [ -5 -50]\n",
      "(A*B).diagonal() = [[ -5 -50]]\n"
     ]
    }
   ],
   "source": [
    "import numpy as np\n",
    "A = np.matrix('0 1 2; 3 4 5')\n",
    "B = np.matrix('0 -3; -1 -4; -2 -5');\n",
    "\n",
    "fmt=\"np.einsum('ij,ji->i', A, B)\"\n",
    "print(f\"{fmt} = {np.einsum('ij,ji->i', A, B)}\")\n",
    "\n",
    "fmt=\"np.diagonal(np.matmul(A,B))\"\n",
    "print(f\"{fmt} = {np.diagonal(np.matmul(A,B))}\")\n",
    "\n",
    "fmt=\"(A*B).diagonal()\"\n",
    "print(f\"{fmt} = {(A*B).diagonal()}\")"
   ]
  }
 ],
 "metadata": {
  "kernelspec": {
   "display_name": "Python 3",
   "language": "python",
   "name": "python3"
  },
  "language_info": {
   "codemirror_mode": {
    "name": "ipython",
    "version": 3
   },
   "file_extension": ".py",
   "mimetype": "text/x-python",
   "name": "python",
   "nbconvert_exporter": "python",
   "pygments_lexer": "ipython3",
   "version": "3.8.5"
  }
 },
 "nbformat": 4,
 "nbformat_minor": 5
}
