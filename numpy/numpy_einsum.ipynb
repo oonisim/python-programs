{
 "cells": [
  {
   "cell_type": "code",
   "execution_count": 1,
   "id": "surprised-quick",
   "metadata": {},
   "outputs": [],
   "source": [
    "import numpy as np"
   ]
  },
  {
   "cell_type": "code",
   "execution_count": 2,
   "id": "interpreted-belly",
   "metadata": {},
   "outputs": [],
   "source": [
    "def run(expression: str, X, Y=None, equivalent: str =None):\n",
    "    assert isinstance(expression, str)\n",
    "    print(f\"X:{X.shape}\\n{X}\\n\")\n",
    "    if Y is not None:\n",
    "        print(f\"Y:{Y.shape}\\n{Y}\\n\")\n",
    "\n",
    "    Z = eval(expression)\n",
    "    print(f\"{expression}:{Z.shape}\\n{Z}\\n\")\n",
    "    \n",
    "    if equivalent:\n",
    "        assert isinstance(equivalent, str)\n",
    "        print(f\"Equivalent:{equivalent}:\\n{eval(equivalent)}\")"
   ]
  },
  {
   "cell_type": "markdown",
   "id": "spoken-outdoors",
   "metadata": {},
   "source": [
    "# Clarification\n",
    "\n",
    "```einsum``` operations of numpy/tensorflow are **NOT the same** Einstein Summation.\n",
    "\n",
    "### Einstein Summation does not have output subscript in the explicit mode\n",
    "\n",
    "* Transpose: ```ij,jk->kj```\n",
    "* Diagonal: ```ii->i```\n",
    "* Element-wise multipication without summation: ```ij,ij->ij```\n",
    "* Self summation: \n",
    "    * ```ij->``` which is the same with ```sum(X, axis=None)```\n",
    "    * ```ij...->j...``` which is the same with ```sum(X, axis=0)```\n",
    "    * ```...ij->...i``` which is the same with ```sum(X, axis=-1)```\n",
    "\n",
    "### Einstein Summation does not have transpose\n",
    "\n",
    "* Transpose ```ji``` as in ```einsum(\"ji\", X)```\n",
    "\n",
    "### Einstein Summation is supposed to have dummy index (common subscript)\n",
    "* Outper product with no common subscript: ```ij,kl```\n",
    "\n",
    "## Coding Standard\n",
    "\n",
    "To make the intention of using the **Einstein Summation** clear, do not use output subscript when the operation is that of original Einstein Summation."
   ]
  },
  {
   "cell_type": "markdown",
   "id": "thorough-cancer",
   "metadata": {},
   "source": [
    "---"
   ]
  },
  {
   "cell_type": "markdown",
   "id": "liable-renewal",
   "metadata": {},
   "source": [
    "# Einstein summation\n",
    "\n",
    "For matrices $a_{(i,j)}$  and $b_{(j,k)}$, a common subscript $j$ specifies the summation axis along which to add the elementwise multiplications $a_{i j} * b_{j k}$. This summation notation $a_{i j} b_{j k}$ is called Einstein summation. The dimension size ```J``` along the axis ```j``` matches in the shapes of ```a:(I,J)``` and ```b:(J,K)```.\n",
    "\n",
    "\n",
    "$\n",
    "\\begin{align*}\n",
    "a_{i j} b_{j k}\n",
    "&= \\sum\\limits ^J_{j} a_{ij} * b_{jk}\n",
    "\\\\\n",
    "&=  a_{i 1} * b_{1 k} + a_{i 2} * b_{2 k} + \\dots + a_{i j} * b_{j k} + \\dots + a_{i J} * b_{j J}\n",
    "\\end{align*}\n",
    "$\n",
    "\n",
    "\n",
    "\n",
    "* [Einstein Summation](https://mathworld.wolfram.com/EinsteinSummation.html)\n",
    "\n",
    ">Einstein summation is a notational convention for simplifying expressions including summations of vectors, matrices, and general tensors. There are essentially three rules of Einstein summation notation, namely:\n",
    ">1. Repeated indices are implicitly summed over.\n",
    ">2. Each index can appear at most twice in any term.\n",
    ">3. Each term must contain identical non-repeated indices.\n",
    "\n",
    "\n",
    "\n",
    "\n",
    "For ```np.einsum(\"ij,j\", a, b)``` of the **green rectangle** in the diagram from the youtube, ```j``` is the dummy index and the element wise multiplication ```a[i][j] * b[j]``` is summed up along the ```j``` axis as $ \\sum\\limits_{j} (a_{ij} * b_j) $ . \n",
    "\n",
    "\n",
    "* [Einstein Summation Convention: an Introduction](https://www.youtube.com/watch?v=CLrTj7D2fLM)\n",
    "\n",
    "\n",
    "<img src=\"images/einstein_summation.png\" align=\"left\">"
   ]
  },
  {
   "cell_type": "code",
   "execution_count": 3,
   "id": "artistic-belle",
   "metadata": {},
   "outputs": [
    {
     "name": "stdout",
     "output_type": "stream",
     "text": [
      "a:[[0 1 2]\n",
      " [3 4 5]]\n",
      "\n",
      "b:[[10 11]\n",
      " [12 13]]\n",
      "\n"
     ]
    }
   ],
   "source": [
    "a = np.arange(6).reshape((2,3))\n",
    "b = np.arange(10,14).reshape((2,2))\n",
    "print(f\"a:{a}\\n\")\n",
    "print(f\"b:{b}\\n\")"
   ]
  },
  {
   "cell_type": "markdown",
   "id": "ranking-henry",
   "metadata": {},
   "source": [
    "## $np.einsum(\\text{\"ij,il\"}, a, b)$\n",
    "\n",
    "For the dummy index $i$, which is common in $a_{ik}$ and $ b_{il}$,  ```np.einsum(a, b)``` appies the operation $a_{i k} b_{i l} $ for all the (k, l) combinations.\n",
    "\n",
    "$\n",
    "\\begin{align*}\n",
    "a_{i k} b_{i l} &= a_{0 k} * b_{0 l} + a_{1 k} * b_{1l} \n",
    "\\\\\n",
    "&= \\sum\\limits _{i} a_{ik} * b_{il}\n",
    "\\\\\n",
    "&= a^T[k] \\cdot b^T[l]\n",
    "\\end{align*}\n",
    "$\n",
    "\n",
    "The dummy index can appear anywhere as long as the rules (please see the youtube for details) are met. For the dummy index ```i``` in ```np.einsum(“ik,il\", a, b)```, it is a row index of the matrices ```a``` and ```b```, hence a column from ```a```  and that from ```b``` are extracted to generate the **dot product**s. \n",
    "\n",
    "<img src=\"images/einsum_operation.png\" align=\"left\">"
   ]
  },
  {
   "cell_type": "markdown",
   "id": "aggregate-central",
   "metadata": {},
   "source": [
    "# Approach to apply einsum\n",
    "\n",
    "The basis of the Einstein Summation is ```dot product``` $\\sum\\limits_j x_{ij} * y_{kj}$ with two rows ```X[i]``` and ```Y[k]```.\n",
    "\n",
    "1. Layout the output ```Z``` shape ```(i,k)```. \n",
    "2. Frame two windows to identify ```X[i]``` and ```Y[k]``` (for each free indices ```i``` and ```k```) along the dummy index ```j``` .\n",
    "3. Apply ```dot product``` on the two rows, and fill ```Z[i][k]```.\n",
    "4. Slide one window ```k``` with another ```i``` being fixed.\n",
    "\n",
    "<img src=\"images/np_einsum.JPG\" align=\"left\"/>"
   ]
  },
  {
   "cell_type": "markdown",
   "id": "documented-kuwait",
   "metadata": {},
   "source": [
    "## Matmul $X^T @ Y$ as ```\"ij,ik\"``` of shape ```(j,k)```\n",
    "\n",
    "* ```X:(i, j)```\n",
    "* ```Y:(i, k)``` \n",
    "\n",
    "```Z:(j,k)``` == ```X.T:(j,i)@Y:(i,k)``` == ```\"ij,ik->jk\"```"
   ]
  },
  {
   "cell_type": "code",
   "execution_count": 4,
   "id": "capable-grounds",
   "metadata": {},
   "outputs": [
    {
     "name": "stdout",
     "output_type": "stream",
     "text": [
      "X:(2, 3)\n",
      "[[1 3 5]\n",
      " [2 4 6]]\n",
      "\n",
      "Y:(2, 4)\n",
      "[[ 7  9 11 13]\n",
      " [ 8 10 12 14]]\n",
      "\n",
      "np.einsum('ij,ik->jk', X, Y):(3, 4)\n",
      "[[ 23  29  35  41]\n",
      " [ 53  67  81  95]\n",
      " [ 83 105 127 149]]\n",
      "\n",
      "Equivalent:np.matmul(X.T, Y):\n",
      "[[ 23  29  35  41]\n",
      " [ 53  67  81  95]\n",
      " [ 83 105 127 149]]\n"
     ]
    }
   ],
   "source": [
    "X = np.arange(1, 7).reshape((3,2)).T\n",
    "Y = np.arange(7, 15).reshape((4,2)).T\n",
    "\n",
    "expression = \"np.einsum('ij,ik->jk', X, Y)\"\n",
    "equivalent = \"np.matmul(X.T, Y)\"\n",
    "run(expression=expression, X=X, Y=Y, equivalent=equivalent)"
   ]
  },
  {
   "cell_type": "markdown",
   "id": "european-hearts",
   "metadata": {},
   "source": [
    "## Matmul $X @ Y^T$ as ```'ij,kj'``` of shape ```(i,k)```\n",
    "\n",
    "* ```X:(i, j)```\n",
    "* ```Y:(k, j)``` \n",
    "\n",
    "```Z:(i,k)``` == ```X:(i,j)@Y.T:(j,k)``` == ```ij,kj```\n"
   ]
  },
  {
   "cell_type": "code",
   "execution_count": 5,
   "id": "organized-criticism",
   "metadata": {
    "scrolled": true
   },
   "outputs": [
    {
     "name": "stdout",
     "output_type": "stream",
     "text": [
      "X:(3, 2)\n",
      "[[1 2]\n",
      " [3 4]\n",
      " [5 6]]\n",
      "\n",
      "Y:(4, 2)\n",
      "[[ 7  8]\n",
      " [ 9 10]\n",
      " [11 12]\n",
      " [13 14]]\n",
      "\n",
      "np.einsum('ij,kj', X, Y):(3, 4)\n",
      "[[ 23  29  35  41]\n",
      " [ 53  67  81  95]\n",
      " [ 83 105 127 149]]\n",
      "\n",
      "Equivalent:np.matmul(X, Y.T):\n",
      "[[ 23  29  35  41]\n",
      " [ 53  67  81  95]\n",
      " [ 83 105 127 149]]\n"
     ]
    }
   ],
   "source": [
    "X = np.arange(1, 7).reshape((3,2))\n",
    "Y = np.arange(7, 15).reshape((4,2))\n",
    "\n",
    "expression = \"np.einsum('ij,kj', X, Y)\"\n",
    "equivalent = \"np.matmul(X, Y.T)\"\n",
    "run(expression=expression, X=X, Y=Y, equivalent=equivalent)"
   ]
  },
  {
   "cell_type": "markdown",
   "id": "subsequent-buyer",
   "metadata": {},
   "source": [
    "# Tensordot\n",
    "\n",
    "* ```tensordot(X, Y, axes=([x-dummy-axes], [y-dummy-axes]))```\n",
    "\n",
    "Instead of the common subscript ```j``` in ```np.einsum('ij,kj', X, Y)```, specify where the dummy indices are with **axes**.\n",
    "\n",
    "* [Numpys `tensordot` and what is happening mathematically](https://scicomp.stackexchange.com/a/34720/38855)\n",
    "\n",
    "> axes[0] and axes[1] specify the locations of the dumy indices in the parameters X, Y of einsum. <br><br>\n",
    ">```np.tensordot(a, b, axes=[(0,2),(3,1)])``` corresponds to ```np.einsum('ijkl,mkni', a, b)``` <br>where ```'ijkl'[(0,2)] == 'ik' == 'mkni'[(3,1)]```.\n",
    "\n",
    "\n"
   ]
  },
  {
   "cell_type": "code",
   "execution_count": 6,
   "id": "broadband-banner",
   "metadata": {},
   "outputs": [
    {
     "name": "stdout",
     "output_type": "stream",
     "text": [
      "X:(3, 2)\n",
      "[[1 2]\n",
      " [3 4]\n",
      " [5 6]]\n",
      "\n",
      "Y:(4, 2)\n",
      "[[ 7  8]\n",
      " [ 9 10]\n",
      " [11 12]\n",
      " [13 14]]\n",
      "\n",
      "np.tensordot(X, Y, axes=([1],[1])):(3, 4)\n",
      "[[ 23  29  35  41]\n",
      " [ 53  67  81  95]\n",
      " [ 83 105 127 149]]\n",
      "\n",
      "Equivalent:np.einsum('ij,kj', X, Y):\n",
      "[[ 23  29  35  41]\n",
      " [ 53  67  81  95]\n",
      " [ 83 105 127 149]]\n"
     ]
    }
   ],
   "source": [
    "X = np.arange(1, 7).reshape((3,2))\n",
    "Y = np.arange(7, 15).reshape((4,2))\n",
    "\n",
    "# The 1-th axis in X and 1-th axis in Y are the dummy index j as in \"einsum('ij,kj', X, Y)\"\n",
    "expression = \"np.tensordot(X, Y, axes=([1],[1]))\"\n",
    "equivalent = \"np.einsum('ij,kj', X, Y)\"\n",
    "run(expression=expression, X=X, Y=Y, equivalent=equivalent)"
   ]
  },
  {
   "cell_type": "markdown",
   "id": "classical-approach",
   "metadata": {},
   "source": [
    "### Multiple dummy indices\n",
    "\n",
    "Apply $\\sum\\limits_j \\sum\\limits_j X_{jk} * Y_{hijk} $ for each ```(k, j)``` elements to create shape ```(h,i)``` result.\n",
    "\n",
    "<img src=\"images/np_tensor_dot_multi_dummy_indices.png\" align=\"left\"/>"
   ]
  },
  {
   "cell_type": "code",
   "execution_count": 7,
   "id": "simple-summit",
   "metadata": {},
   "outputs": [
    {
     "name": "stdout",
     "output_type": "stream",
     "text": [
      "X:(3, 2)\n",
      "[[0 1]\n",
      " [2 3]\n",
      " [4 5]]\n",
      "\n",
      "Y:(2, 2, 2, 3)\n",
      "[[[[ 0  1  2]\n",
      "   [ 3  4  5]]\n",
      "\n",
      "  [[ 6  7  8]\n",
      "   [ 9 10 11]]]\n",
      "\n",
      "\n",
      " [[[12 13 14]\n",
      "   [15 16 17]]\n",
      "\n",
      "  [[18 19 20]\n",
      "   [21 22 23]]]]\n",
      "\n",
      "np.tensordot(X, Y, axes=([0,1],[3,2])):(2, 2)\n",
      "[[ 50 140]\n",
      " [230 320]]\n",
      "\n",
      "Equivalent:np.einsum('kj,hijk', X, Y):\n",
      "[[ 50 140]\n",
      " [230 320]]\n"
     ]
    }
   ],
   "source": [
    "X = np.arange(6).reshape(3,2)\n",
    "Y = np.arange(24).reshape(2,2,2,3)\n",
    "\n",
    "# --------------------------------------------------------------------------------\n",
    "# 'kj,hijk' with two dummy idices 'k' and 'j'.\n",
    "# 'k' and 'j' are dropped from (h,i,j,k) and result in shape:(h,i)/\n",
    "# --------------------------------------------------------------------------------\n",
    "equivalent = \"np.einsum('kj,hijk', X, Y)\"\n",
    "\n",
    "# --------------------------------------------------------------------------------\n",
    "# Dummy idices in X is [0th, 1st] axes, corresponding to [3rd, 2nd] axes in Y\n",
    "# --------------------------------------------------------------------------------\n",
    "expression = \"np.tensordot(X, Y, axes=([0,1],[3,2]))\"\n",
    "run(expression=expression, X=X, Y=Y, equivalent=equivalent)"
   ]
  },
  {
   "cell_type": "markdown",
   "id": "behind-connectivity",
   "metadata": {},
   "source": [
    "---"
   ]
  },
  {
   "cell_type": "markdown",
   "id": "pressed-peoples",
   "metadata": {},
   "source": [
    "# einsum proprietary extentions"
   ]
  },
  {
   "cell_type": "markdown",
   "id": "applied-teens",
   "metadata": {},
   "source": [
    "## Output subscript\n",
    "\n",
    "```einsum``` proprietary transformation can be specified ```np.einsum(\"... -> <transformation>\")``` with the **output subscript labels** with ```->``` identifier.\n",
    "\n",
    "* Transpose\n",
    "* Diagonal\n",
    "* Outer product\n",
    "* Self summation with the axis to sum along by ommiting the subscript.\n",
    "* Element-wise multiplication without summation\n",
    "* Elipsis\n",
    "\n",
    "See the **explicit mode** in [numpy.einsum](https://numpy.org/doc/stable/reference/generated/numpy.einsum.html) for details.\n",
    "\n",
    ">In explicit mode the output can be directly controlled by specifying output subscript labels. This requires the identifier ```‘->’``` as well as the list of output subscript labels. This feature increases the flexibility of the function since summing can be disabled or forced when required. The call ```np.einsum('i-', a)``` is like ```np.sum(a,axis=-1)```, and ```np.einsum('ii->i', a)``` is like ```np.diag(a)```. <br>\n",
    "The difference\n",
    "is that einsum does not allow broadcasting by default. Additionally\n",
    "```np.einsum('ij,jh->ih', a, b)``` directly specifies the order of the\n",
    "output subscript labels and therefore returns matrix multiplication,\n",
    "unlike the example above in implicit mode.\n"
   ]
  },
  {
   "cell_type": "markdown",
   "id": "biblical-environment",
   "metadata": {},
   "source": [
    "For a, i is dummy index and row index. Hence it extracts column j (all i values)\n",
    "For b, i is dummy index and row index. Hence it extracts column l\n",
    "Then dot product of the columns are generated.\n",
    "e.g. \n",
    "```\n",
    "a[i=0,1][j=0] from a -> [0,3]\n",
    "b[i=0,1][l=0] from b -> [10, 12]\n",
    "36 = np.dot([0,3], [10, 12])\n",
    "```\n",
    "The result shape is (3,2) because \n",
    "```\n",
    "a[i=*][j=0,1,2] -> 3\n",
    "b[i=*][l=0,1]   -> 2 \n",
    "```\n",
    "c = np.einsum(\"ij,il\", a, b)    # Shape (3,2)"
   ]
  },
  {
   "cell_type": "code",
   "execution_count": 8,
   "id": "earned-transcription",
   "metadata": {},
   "outputs": [
    {
     "name": "stdout",
     "output_type": "stream",
     "text": [
      "a:(i,k):\n",
      "[[0 1 2]\n",
      " [3 4 5]]\n",
      "\n",
      "b:(k,l)\n",
      "[[10 11]\n",
      " [12 13]]\n",
      "\n",
      "(ik,il):\n",
      "[[36 39]\n",
      " [58 63]\n",
      " [80 87]]\n"
     ]
    }
   ],
   "source": [
    "print(f\"a:(i,k):\\n{a}\\n\")\n",
    "print(f\"b:(k,l)\\n{b}\\n\")\n",
    "print(f\"(ik,il):\\n{np.einsum('ik,il', a, b)}\")"
   ]
  },
  {
   "cell_type": "markdown",
   "id": "monthly-nevada",
   "metadata": {},
   "source": [
    "## No dummy index (Cartesian outer product)\n",
    "\n",
    "No summation.\n",
    "1. A term (subscript Indices, e.g. \"ij\") selects an element in each array.\n",
    "2. Each left-hand side element is applied on the element on the right-hand side for element-wise multiplication (hence multiplication always happens).\n",
    "\n",
    "```a``` has shape (2,3) each element of which is applied to ```b``` of shape (2,2). Hence it creates a matrix of shape ```(2,3,2,2)``` without no summation as ```(i,j)```, ```(k.l)``` are all free indices."
   ]
  },
  {
   "cell_type": "code",
   "execution_count": 9,
   "id": "answering-hygiene",
   "metadata": {
    "scrolled": false
   },
   "outputs": [
    {
     "data": {
      "text/plain": [
       "array([[[[ 0,  0],\n",
       "         [ 0,  0]],\n",
       "\n",
       "        [[10, 11],\n",
       "         [12, 13]],\n",
       "\n",
       "        [[20, 22],\n",
       "         [24, 26]]],\n",
       "\n",
       "\n",
       "       [[[30, 33],\n",
       "         [36, 39]],\n",
       "\n",
       "        [[40, 44],\n",
       "         [48, 52]],\n",
       "\n",
       "        [[50, 55],\n",
       "         [60, 65]]]])"
      ]
     },
     "execution_count": 9,
     "metadata": {},
     "output_type": "execute_result"
    }
   ],
   "source": [
    "# --------------------------------------------------------------------------------\n",
    "# For np.einsum(\"ij,kl\", a, b)\n",
    "# 1-1: Term \"ij\" or (i,j), two free indices, selects selects an element a[i][j].\n",
    "# 1-2: Term \"kl\" or (k,l), two free indices, selects selects an element b[k][l].\n",
    "# 2:   Each a[i][j] is applied on b[k][l] for element-wise multiplication a[i][j] * b[k,l]\n",
    "# --------------------------------------------------------------------------------\n",
    "# for (i,j) in a:\n",
    "#    for(k,l) in b:\n",
    "#        a[i][j] * b[k][l]\n",
    "np.einsum(\"ij,kl\", a, b)"
   ]
  },
  {
   "cell_type": "markdown",
   "id": "irish-october",
   "metadata": {},
   "source": [
    "---"
   ]
  },
  {
   "cell_type": "markdown",
   "id": "prerequisite-travel",
   "metadata": {},
   "source": [
    "# transpose"
   ]
  },
  {
   "cell_type": "markdown",
   "id": "racial-theta",
   "metadata": {},
   "source": [
    "## Transpose $X \\rightarrow X^T$ as ```\"ij->ji\"```\n"
   ]
  },
  {
   "cell_type": "code",
   "execution_count": 10,
   "id": "chief-copying",
   "metadata": {},
   "outputs": [
    {
     "name": "stdout",
     "output_type": "stream",
     "text": [
      "X:(2, 3)\n",
      "[[0 1 2]\n",
      " [3 4 5]]\n",
      "\n",
      "np.einsum('ij->ji', X):(3, 2)\n",
      "[[0 3]\n",
      " [1 4]\n",
      " [2 5]]\n",
      "\n",
      "Equivalent:np.transpose(X):\n",
      "[[0 3]\n",
      " [1 4]\n",
      " [2 5]]\n"
     ]
    }
   ],
   "source": [
    "X = np.arange(6).reshape(2,3)\n",
    "\n",
    "expression = \"np.einsum('ij->ji', X)\"\n",
    "equivalent = \"np.transpose(X)\"\n",
    "run(expression=expression, X=X, equivalent=equivalent)"
   ]
  },
  {
   "cell_type": "markdown",
   "id": "individual-passenger",
   "metadata": {},
   "source": [
    "### Abbrebiation ```\"ji\"```\n",
    "\n",
    "```np.einsum``` detects the **alphabetical order inversion** and apply axis swap(s).\n",
    "\n",
    "As per the coding standard, do NOT use this format."
   ]
  },
  {
   "cell_type": "code",
   "execution_count": 11,
   "id": "according-stuff",
   "metadata": {},
   "outputs": [
    {
     "name": "stdout",
     "output_type": "stream",
     "text": [
      "X:(2, 3)\n",
      "[[0 1 2]\n",
      " [3 4 5]]\n",
      "\n",
      "np.einsum('ji', X):(3, 2)\n",
      "[[0 3]\n",
      " [1 4]\n",
      " [2 5]]\n",
      "\n",
      "Equivalent:np.transpose(X):\n",
      "[[0 3]\n",
      " [1 4]\n",
      " [2 5]]\n"
     ]
    }
   ],
   "source": [
    "X = np.arange(6).reshape(2,3)\n",
    "expression = \"np.einsum('ji', X)\"\n",
    "quivalent = \"np.transpose(X)\"\n",
    "run(expression=expression, X=X, equivalent=equivalent)"
   ]
  },
  {
   "cell_type": "markdown",
   "id": "painful-birmingham",
   "metadata": {},
   "source": [
    "## Tranapose of inner matrix as ```\"inm->imn\"```"
   ]
  },
  {
   "cell_type": "code",
   "execution_count": 12,
   "id": "affiliated-colorado",
   "metadata": {},
   "outputs": [
    {
     "name": "stdout",
     "output_type": "stream",
     "text": [
      "X:(2, 2, 3)\n",
      "[[[ 0  1  2]\n",
      "  [ 3  4  5]]\n",
      "\n",
      " [[ 6  7  8]\n",
      "  [ 9 10 11]]]\n",
      "\n",
      "np.einsum('inm->imn', X):(2, 3, 2)\n",
      "[[[ 0  3]\n",
      "  [ 1  4]\n",
      "  [ 2  5]]\n",
      "\n",
      " [[ 6  9]\n",
      "  [ 7 10]\n",
      "  [ 8 11]]]\n",
      "\n"
     ]
    }
   ],
   "source": [
    "X = np.arange(12).reshape((2, 2, 3))\n",
    "expression = \"np.einsum('inm->imn', X)\"\n",
    "run(expression=expression, X=X)"
   ]
  },
  {
   "cell_type": "markdown",
   "id": "cognitive-fleece",
   "metadata": {},
   "source": [
    "## dot prducts of Matrix A rows and Matrix B columns\n",
    "\n",
    "\n",
    "<img src=\"images/dot_proucts_from_matrix_A_rows_and_B_rows.png\" align=\"left\" />"
   ]
  },
  {
   "cell_type": "code",
   "execution_count": 13,
   "id": "cosmetic-basket",
   "metadata": {},
   "outputs": [
    {
     "name": "stdout",
     "output_type": "stream",
     "text": [
      "np.einsum('ij,ji->i', A, B) = [ -5 -50]\n",
      "np.diagonal(np.matmul(A,B)) = [ -5 -50]\n",
      "(A*B).diagonal() = [[ -5 -50]]\n"
     ]
    }
   ],
   "source": [
    "import numpy as np\n",
    "A = np.matrix('0 1 2; 3 4 5')\n",
    "B = np.matrix('0 -3; -1 -4; -2 -5');\n",
    "\n",
    "fmt=\"np.einsum('ij,ji->i', A, B)\"\n",
    "print(f\"{fmt} = {np.einsum('ij,ji->i', A, B)}\")\n",
    "\n",
    "fmt=\"np.diagonal(np.matmul(A,B))\"\n",
    "print(f\"{fmt} = {np.diagonal(np.matmul(A,B))}\")\n",
    "\n",
    "fmt=\"(A*B).diagonal()\"\n",
    "print(f\"{fmt} = {(A*B).diagonal()}\")"
   ]
  },
  {
   "cell_type": "markdown",
   "id": "automated-circus",
   "metadata": {},
   "source": [
    "---\n",
    "# diagonal as ```\"ii->i\"```\n",
    "\n",
    "This is numpy proprietary expression as **```\"ii\"``` is illegal** for the Einstein Summation script."
   ]
  },
  {
   "cell_type": "code",
   "execution_count": 14,
   "id": "metric-baghdad",
   "metadata": {},
   "outputs": [
    {
     "name": "stdout",
     "output_type": "stream",
     "text": [
      "X:(3, 3)\n",
      "[[0 1 2]\n",
      " [3 4 5]\n",
      " [6 7 8]]\n",
      "\n",
      "np.einsum('ii->i', X):(3,)\n",
      "[0 4 8]\n",
      "\n",
      "Equivalent:np.diag(X):\n",
      "[0 4 8]\n"
     ]
    }
   ],
   "source": [
    "X = np.arange(9).reshape((3,3))\n",
    "expression = \"np.einsum('ii->i', X)\"\n",
    "equivalent = \"np.diag(X)\"\n",
    "run(expression=expression, X=X, equivalent=equivalent)"
   ]
  },
  {
   "cell_type": "markdown",
   "id": "cubic-buddy",
   "metadata": {},
   "source": [
    "---\n",
    "# sum"
   ]
  },
  {
   "cell_type": "markdown",
   "id": "interested-dependence",
   "metadata": {},
   "source": [
    "## Sum(X) as ```\"ij->\"```"
   ]
  },
  {
   "cell_type": "code",
   "execution_count": 15,
   "id": "electric-expense",
   "metadata": {},
   "outputs": [
    {
     "name": "stdout",
     "output_type": "stream",
     "text": [
      "X:(2, 3)\n",
      "[[0 1 2]\n",
      " [3 4 5]]\n",
      "\n",
      "X:(2, 3)\n",
      "[[0 1 2]\n",
      " [3 4 5]]\n",
      "\n",
      "np.einsum('ij->', X):()\n",
      "15\n",
      "\n",
      "Equivalent:np.sum(X):\n",
      "15\n"
     ]
    }
   ],
   "source": [
    "X = np.arange(6).reshape((2,3))\n",
    "print(f\"X:{X.shape}\\n{X}\\n\")\n",
    "\n",
    "expression = \"np.einsum('ij->', X)\"\n",
    "equivalent = \"np.sum(X)\"\n",
    "run(expression=expression, X=X, equivalent=equivalent)"
   ]
  },
  {
   "cell_type": "markdown",
   "id": "interim-professional",
   "metadata": {},
   "source": [
    "## Sum(X, axis=0) as ```\"ij...->j...\"```\n",
    "\n",
    "The axis **omitted** is the **axis to sum** along. The first axis ```i``` is omitted from ```j...```, hence ```sum(axis=0)```."
   ]
  },
  {
   "cell_type": "code",
   "execution_count": 16,
   "id": "labeled-picking",
   "metadata": {
    "scrolled": true
   },
   "outputs": [
    {
     "name": "stdout",
     "output_type": "stream",
     "text": [
      "X:(2, 3)\n",
      "[[0 1 2]\n",
      " [3 4 5]]\n",
      "\n",
      "X:(2, 3)\n",
      "[[0 1 2]\n",
      " [3 4 5]]\n",
      "\n",
      "np.einsum('ij...->j...', X):(3,)\n",
      "[3 5 7]\n",
      "\n",
      "Equivalent:np.sum(X, axis=0):\n",
      "[3 5 7]\n"
     ]
    }
   ],
   "source": [
    "X = np.arange(6).reshape((2,3))\n",
    "print(f\"X:{X.shape}\\n{X}\\n\")\n",
    "\n",
    "expression = \"np.einsum('ij...->j...', X)\"\n",
    "equivalent = \"np.sum(X, axis=0)\"\n",
    "run(expression=expression, X=X, equivalent=equivalent)"
   ]
  },
  {
   "cell_type": "markdown",
   "id": "strategic-ambassador",
   "metadata": {},
   "source": [
    "## Sum(X, axis=-1) as ```\"...ij->...i\"```\n",
    "\n",
    "The axis **omitted** is the **axis to sum** along. The last axis ```j``` is omitted in the output subscript ```...i```, hence ```sum(axis=-1)```."
   ]
  },
  {
   "cell_type": "code",
   "execution_count": 17,
   "id": "environmental-brake",
   "metadata": {
    "scrolled": true
   },
   "outputs": [
    {
     "name": "stdout",
     "output_type": "stream",
     "text": [
      "X:(2, 3)\n",
      "[[0 1 2]\n",
      " [3 4 5]]\n",
      "\n",
      "X:(2, 3)\n",
      "[[0 1 2]\n",
      " [3 4 5]]\n",
      "\n",
      "np.einsum('...ij->i', X):(2,)\n",
      "[ 3 12]\n",
      "\n",
      "Equivalent:np.sum(X, axis=1):\n",
      "[ 3 12]\n"
     ]
    }
   ],
   "source": [
    "X = np.arange(6).reshape((2,3))\n",
    "print(f\"X:{X.shape}\\n{X}\\n\")\n",
    "\n",
    "expression = \"np.einsum('...ij->i', X)\"\n",
    "equivalent = \"np.sum(X, axis=1)\"\n",
    "run(expression=expression, X=X, equivalent=equivalent)"
   ]
  },
  {
   "cell_type": "markdown",
   "id": "welsh-exhaust",
   "metadata": {},
   "source": [
    "---\n",
    "# Element-wise multiplication\n",
    "\n",
    "When the left subscript is the same with result, ```ensum``` performs the element-wise operation.\n",
    "\n",
    "$\n",
    "\\begin {align*}\n",
    "i,j \\rightarrow i\n",
    "\\end {align*}\n",
    "$ where the left subscript ```i``` is the same with output subscript ```i``` performs $x_i + y_i$.\n",
    "\n",
    "$\n",
    "\\begin {align*}\n",
    "ij,ij \\rightarrow ij\n",
    "\\end {align*}\n",
    "$ where the left subscript ```ij``` is the same with output subscript ```ij``` performs $x_{ij} + y_{ij}$."
   ]
  },
  {
   "cell_type": "code",
   "execution_count": 18,
   "id": "hollow-wonder",
   "metadata": {},
   "outputs": [
    {
     "name": "stdout",
     "output_type": "stream",
     "text": [
      "X:(2, 3)\n",
      "[[0 1 2]\n",
      " [3 4 5]]\n",
      "\n",
      "Y:(2, 3)\n",
      "[[ 7  8  9]\n",
      " [10 11 12]]\n",
      "\n",
      "np.einsum('ij,ij->ij', X, Y):(2, 3)\n",
      "[[ 0  8 18]\n",
      " [30 44 60]]\n",
      "\n",
      "Equivalent:np.multiply(X, Y):\n",
      "[[ 0  8 18]\n",
      " [30 44 60]]\n"
     ]
    }
   ],
   "source": [
    "X = np.arange(6).reshape((2,3))\n",
    "Y = np.arange(7, 13).reshape((2,3))\n",
    "expression = \"np.einsum('ij,ij->ij', X, Y)\"\n",
    "equivalent = \"np.multiply(X, Y)\"\n",
    "\n",
    "run(expression=expression, X=X, Y=Y, equivalent=equivalent)"
   ]
  },
  {
   "cell_type": "markdown",
   "id": "advisory-auditor",
   "metadata": {},
   "source": [
    "---\n",
    "# Product\n",
    "\n",
    "* dot product\n",
    "* outer product\n",
    "* matmul"
   ]
  },
  {
   "cell_type": "markdown",
   "id": "indian-scale",
   "metadata": {},
   "source": [
    "## dot as ```'i,i'``` or ```ij,ij```\n",
    "\n",
    "This is the Einstein Summation.\n",
    "\n",
    "For all ```i```, **multiply** $x_{i}$ on $y_{i}$ and **sum** them up. NOTE that ```dot``` is 1 dimensional and ```np.dot``` is NOT exactly the dot operation hence use ```np.inner```.\n",
    "\n",
    "$\n",
    "\\begin {align*}\n",
    "X \\cdot Y = \\sum\\limits_j x_{i} * y_{i}\n",
    "\\end {align*}\n",
    "$\n",
    "\n",
    "NOTE that with ```einsum (Not Einstein Summation)``` the left subscript **```i```** (or **```ij```** ) is the same with the right subscript **```i```** (or **```ij```** ) for ***inner*** operations."
   ]
  },
  {
   "cell_type": "code",
   "execution_count": 19,
   "id": "seven-extent",
   "metadata": {},
   "outputs": [
    {
     "name": "stdout",
     "output_type": "stream",
     "text": [
      "X:(3,)\n",
      "[0 1 2]\n",
      "\n",
      "Y:(3,)\n",
      "[3 4 5]\n",
      "\n",
      "np.einsum('i,i', X, Y):()\n",
      "14\n",
      "\n",
      "Equivalent:np.inner(X, Y):\n",
      "14\n"
     ]
    }
   ],
   "source": [
    "X = np.arange(3)\n",
    "Y = np.arange(3, 6)\n",
    "expression = \"np.einsum('i,i', X, Y)\"\n",
    "equivalent = \"np.inner(X, Y)\"\n",
    "run(expression=expression, X=X, Y=Y, equivalent=equivalent)"
   ]
  },
  {
   "cell_type": "markdown",
   "id": "accepted-afternoon",
   "metadata": {},
   "source": [
    "### sum of row dot products \n",
    "\n",
    "1. For each row ```i```: multiply $x_{ij}$ with $y_{ij}$ for all ```j``` and sum them up. \n",
    "\n",
    "$\n",
    "\\begin {align*}\n",
    "\\qquad z_{i} = \n",
    "\\begin {bmatrix}\n",
    "\\sum\\limits_j x_{ij} * y_{ij}\n",
    "\\end {bmatrix}\n",
    "\\end {align*}\n",
    "$\n",
    "\n",
    "2. Sum the dot products\n",
    "\n",
    "$\n",
    "\\begin {align*}\n",
    "\\qquad \\sum\\limits_i z_{i}\n",
    "\\end {align*}\n",
    "$\n",
    "\n",
    "Note that **there is NO matrix equivalent** operation for this ```einsum``` operation.\n",
    "\n",
    "This is the same with:\n",
    "\n",
    "$\n",
    "\\begin {align*}\n",
    "\\sum\\limits_i \\sum\\limits_j x_{ij} * y_{ij}\n",
    "\\end {align*}\n",
    "$\n"
   ]
  },
  {
   "cell_type": "code",
   "execution_count": 20,
   "id": "isolated-concord",
   "metadata": {},
   "outputs": [
    {
     "name": "stdout",
     "output_type": "stream",
     "text": [
      "X:(2, 3)\n",
      "[[0 1 2]\n",
      " [3 4 5]]\n",
      "\n",
      "Y:(2, 3)\n",
      "[[ 7  8  9]\n",
      " [10 11 12]]\n",
      "\n",
      "np.einsum('ij,ij', X, Y):()\n",
      "160\n",
      "\n"
     ]
    }
   ],
   "source": [
    "X = np.arange(6).reshape((2,3))\n",
    "Y = np.arange(7, 13).reshape((2,3))\n",
    "expression = \"np.einsum('ij,ij', X, Y)\"\n",
    "run(expression=expression, X=X, Y=Y)"
   ]
  },
  {
   "cell_type": "markdown",
   "id": "technical-option",
   "metadata": {},
   "source": [
    "## dot product (N,1) from X:(N,D) and Y(N,D) as ```'nd,nd->n'```\n",
    "\n",
    "Stack dot product of $X_i$, $Y_i$"
   ]
  },
  {
   "cell_type": "code",
   "execution_count": 22,
   "id": "hairy-tucson",
   "metadata": {},
   "outputs": [
    {
     "name": "stdout",
     "output_type": "stream",
     "text": [
      "X:(3, 2)\n",
      "[[0 1]\n",
      " [2 3]\n",
      " [4 5]]\n",
      "\n",
      "Y:(3, 2)\n",
      "[[ 6  7]\n",
      " [ 8  9]\n",
      " [10 11]]\n",
      "\n",
      "np.einsum('nd,nd->n', X, Y):(3,)\n",
      "[ 7 43 95]\n",
      "\n"
     ]
    }
   ],
   "source": [
    "N = 3\n",
    "D = 2\n",
    "size = N*D\n",
    "shape = (N,D)\n",
    "X = np.arange(size).reshape(shape)\n",
    "Y = np.arange(size, 2*size).reshape(shape)\n",
    "expression = \"np.einsum('nd,nd->n', X, Y)\"\n",
    "run(expression=expression, X=X, Y=Y)"
   ]
  },
  {
   "cell_type": "markdown",
   "id": "ranking-tourism",
   "metadata": {},
   "source": [
    "## Outer product\n",
    "\n",
    "For each ```i``` in ```X```, element-wise multiply $x_i$ on all $y_k$. \n",
    "\n",
    "$\n",
    "\\begin {align*}\n",
    "X \\otimes Y = x_i * y_k\n",
    "\\end {align*}\n",
    "$\n",
    "\n",
    "NOTE that the **left** subscript **```i```** (or **```ij```** ) is different from the **right** subscript **```k```** (or **```kl```** ) for ***outer*** operations."
   ]
  },
  {
   "cell_type": "markdown",
   "id": "purple-privilege",
   "metadata": {},
   "source": [
    "### 1 dimensional outer product as ```'i,j->ij'```"
   ]
  },
  {
   "cell_type": "code",
   "execution_count": null,
   "id": "french-binding",
   "metadata": {},
   "outputs": [],
   "source": [
    "X = np.arange(3)\n",
    "Y = np.arange(3, 6)\n",
    "expression = \"np.einsum('i,j->ij', X, Y)\"\n",
    "run(expression=expression, X=X, Y=Y)"
   ]
  },
  {
   "cell_type": "markdown",
   "id": "finite-aviation",
   "metadata": {},
   "source": [
    "### 2 dimensions **per-row** outer product as ```'ij,kl->ij'```\n",
    "\n",
    "This is NOT cartesian produdt but **per-row** outer product (extention of ```i,j->ij```)."
   ]
  },
  {
   "cell_type": "code",
   "execution_count": null,
   "id": "associate-default",
   "metadata": {},
   "outputs": [],
   "source": [
    "X = np.arange(6).reshape((2,3))\n",
    "Y = np.arange(7, 13).reshape((2,3))\n",
    "expression = \"np.einsum('ij,kl->ij', X, Y)\"\n",
    "run(expression=expression, X=X, Y=Y)"
   ]
  },
  {
   "cell_type": "markdown",
   "id": "practical-graduate",
   "metadata": {},
   "source": [
    "### Cartesian outer product as ```'ij,kl->ijkl'``` or ```'ij,kl'```"
   ]
  },
  {
   "cell_type": "code",
   "execution_count": null,
   "id": "crude-capacity",
   "metadata": {},
   "outputs": [],
   "source": [
    "X = np.arange(6).reshape((2,3))\n",
    "Y = np.arange(7, 13).reshape((2,3))\n",
    "expression = \"np.einsum('ij,kl->ijkl', X, Y)\"\n",
    "run(expression=expression, X=X, Y=Y)"
   ]
  },
  {
   "cell_type": "markdown",
   "id": "owned-martial",
   "metadata": {},
   "source": [
    "## Matmul $X @ Y$ as ```\"ij,jk->ik\"```\n",
    "\n",
    "\n",
    "* ```X:(i, j)```\n",
    "* ```Y:(j, k)``` \n",
    "\n",
    "```Z:(i,k)``` == ```X.T:(i,j)@Y:(j,k)``` == ```\"ij,jk->jk\"```"
   ]
  },
  {
   "cell_type": "code",
   "execution_count": null,
   "id": "specific-genome",
   "metadata": {},
   "outputs": [],
   "source": [
    "X = np.arange(1, 7).reshape((3,2))\n",
    "Y = np.arange(7, 15).reshape((2,4))\n",
    "\n",
    "expression = \"np.einsum('ij,jk->ik', X, Y)\"\n",
    "equivalent = \"np.matmul(X, Y)\"\n",
    "run(expression=expression, X=X, Y=Y, equivalent=equivalent)"
   ]
  },
  {
   "cell_type": "markdown",
   "id": "artistic-springer",
   "metadata": {},
   "source": [
    "---"
   ]
  },
  {
   "cell_type": "markdown",
   "id": "headed-cisco",
   "metadata": {},
   "source": [
    "---"
   ]
  }
 ],
 "metadata": {
  "kernelspec": {
   "display_name": "Python 3",
   "language": "python",
   "name": "python3"
  },
  "language_info": {
   "codemirror_mode": {
    "name": "ipython",
    "version": 3
   },
   "file_extension": ".py",
   "mimetype": "text/x-python",
   "name": "python",
   "nbconvert_exporter": "python",
   "pygments_lexer": "ipython3",
   "version": "3.8.8"
  }
 },
 "nbformat": 4,
 "nbformat_minor": 5
}
