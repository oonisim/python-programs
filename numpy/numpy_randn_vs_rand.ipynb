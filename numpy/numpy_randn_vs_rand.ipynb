{
 "cells": [
  {
   "cell_type": "code",
   "execution_count": 1,
   "id": "greenhouse-aside",
   "metadata": {},
   "outputs": [],
   "source": [
    "import numpy as np"
   ]
  },
  {
   "cell_type": "markdown",
   "id": "respected-state",
   "metadata": {},
   "source": [
    "# rand vs randn\n",
    "\n",
    "* ```numpy.random.randn``` samples from the normal distribution, hence range is (-np.inf, +np.inf)\n",
    "* ```numpy.random.rand``` samples from a uniform distribution in the range ```[0,1)```."
   ]
  },
  {
   "cell_type": "code",
   "execution_count": 3,
   "id": "deluxe-investor",
   "metadata": {},
   "outputs": [
    {
     "name": "stdout",
     "output_type": "stream",
     "text": [
      "[[0.69156953 0.58409113]\n",
      " [0.4972052  0.73380195]\n",
      " [0.22996298 0.26063715]\n",
      " [0.430349   0.15515625]\n",
      " [0.12750188 0.92433854]]\n"
     ]
    }
   ],
   "source": [
    "print(np.random.rand(5,2))"
   ]
  },
  {
   "cell_type": "code",
   "execution_count": 4,
   "id": "rocky-optimization",
   "metadata": {},
   "outputs": [
    {
     "name": "stdout",
     "output_type": "stream",
     "text": [
      "[[-0.81050186  0.92635962]\n",
      " [ 0.24157814 -0.70325839]\n",
      " [ 1.05495256 -1.30652713]\n",
      " [ 1.02031248 -1.14310915]\n",
      " [-0.26232315  0.38597616]]\n"
     ]
    }
   ],
   "source": [
    "print(np.random.randn(5,2))"
   ]
  }
 ],
 "metadata": {
  "kernelspec": {
   "display_name": "Python 3 (ipykernel)",
   "language": "python",
   "name": "python3"
  },
  "language_info": {
   "codemirror_mode": {
    "name": "ipython",
    "version": 3
   },
   "file_extension": ".py",
   "mimetype": "text/x-python",
   "name": "python",
   "nbconvert_exporter": "python",
   "pygments_lexer": "ipython3",
   "version": "3.9.13"
  }
 },
 "nbformat": 4,
 "nbformat_minor": 5
}
