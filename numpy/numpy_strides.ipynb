{
 "cells": [
  {
   "cell_type": "markdown",
   "id": "abe2d63e-b3e0-44e0-abba-e7fbf7e95304",
   "metadata": {},
   "source": [
    "# Numpy strides\n",
    "\n",
    "```array.strides[d-th axis]``` is the number of bytes in memory to stride to go to the byte position of the next segment on the ```d-th``` axis.\n",
    "\n",
    "\n",
    "* [How to understand numpy strides for layman?](https://stackoverflow.com/a/53099870/4281353)\n",
    "\n",
    "> To map the indices i,j,k,... of a multidimensional array to the positions in the data buffer (the offset, in bytes), NumPy uses the notion of strides. Strides are the number of bytes to jump-over in the memory in order to get from one item to the next item along each direction/dimension of the array. In other words, it's the byte-separation between consecutive items for each dimension.\n",
    "\n",
    "In the diagram, ```strides[0]``` is the bytes to stride to the next row (```0-th dimension```) and ```strides[1]``` is the bytes to stride to the next column (```1st dimension```).\n",
    "\n",
    "<img src=\"images/numpy_strides.png\" align=\"left\" width=800/>"
   ]
  },
  {
   "cell_type": "code",
   "execution_count": 1,
   "id": "8b58ae89-4a50-48a0-bb0c-2688d015fdde",
   "metadata": {},
   "outputs": [],
   "source": [
    "import numpy as np"
   ]
  },
  {
   "cell_type": "code",
   "execution_count": 29,
   "id": "257307d6-6aa1-458c-86bd-9dfc7dd0e3d8",
   "metadata": {},
   "outputs": [],
   "source": [
    "x = np.arange(13).astype(np.int32)"
   ]
  },
  {
   "cell_type": "markdown",
   "id": "82104745-21c0-46e0-9b04-80ef6ea54062",
   "metadata": {},
   "source": [
    "<img src=\"./images/windowing.png\" align=\"left\" width=500/>"
   ]
  },
  {
   "cell_type": "code",
   "execution_count": 38,
   "id": "da61e456-651b-4f54-806f-0f5cdbaea4d0",
   "metadata": {},
   "outputs": [],
   "source": [
    "\"\"\"Utility to transform numpy array\"\"\"\n",
    "import numpy as np\n",
    "\n",
    "\n",
    "def sliding_windows_on_1d_array(\n",
    "        x: np.ndarray, window_size: int, slide_size: int\n",
    ") -> np.ndarray:\n",
    "    \"\"\"Apply a sliding windows on a 1D array to create a (x-rows, d-columns) array.\n",
    "    Truncate the trailing items that do not fit into the windows.\n",
    "\n",
    "    Args:\n",
    "        x: 1D array to apply the sliding windows.\n",
    "        window_size: size of window to apply\n",
    "        slide_size: step side to slide the window\n",
    "\n",
    "    Returns: numpy array of shape (num_rows, window_size) where num_rows = ((x.size - window_size) // slide_size) + 1\n",
    "    \"\"\"\n",
    "    assert 0 < window_size < x.size,\\\n",
    "        f\"expected 0 < window_size < x.size:[{x.size}], got [{window_size}].\"\n",
    "    assert 0 < slide_size < x.size, \\\n",
    "        f\"expected 0 < slide_size < x.size:[{x.size}], got [{slide_size}].\"\n",
    "\n",
    "    x = x.reshape(-1)\n",
    "    num_rows = ((x.size - window_size) // slide_size) + 1\n",
    "    item_size: int = x.strides[0]               # item size of an element in 1D array x.\n",
    "    return np.lib.stride_tricks.as_strided(\n",
    "        x,\n",
    "        shape=(num_rows, window_size),          # result shape\n",
    "        strides=(\n",
    "            slide_size * item_size,             # stride[0] in the result shape (row size)\n",
    "            item_size                           # stride[1] in the result shape (col size)\n",
    "        )\n",
    "    )\n"
   ]
  },
  {
   "cell_type": "code",
   "execution_count": 39,
   "id": "c946fde0-febe-467a-901e-6f770f582ee7",
   "metadata": {},
   "outputs": [
    {
     "data": {
      "text/plain": [
       "array([[ 0,  1,  2,  3],\n",
       "       [ 4,  5,  6,  7],\n",
       "       [ 8,  9, 10, 11]], dtype=int32)"
      ]
     },
     "execution_count": 39,
     "metadata": {},
     "output_type": "execute_result"
    }
   ],
   "source": [
    "sliding_windows_on_1d_array(x=x, window_size=4, slide_size=4)"
   ]
  }
 ],
 "metadata": {
  "kernelspec": {
   "display_name": "Python 3 (ipykernel)",
   "language": "python",
   "name": "python3"
  },
  "language_info": {
   "codemirror_mode": {
    "name": "ipython",
    "version": 3
   },
   "file_extension": ".py",
   "mimetype": "text/x-python",
   "name": "python",
   "nbconvert_exporter": "python",
   "pygments_lexer": "ipython3",
   "version": "3.10.10"
  }
 },
 "nbformat": 4,
 "nbformat_minor": 5
}
