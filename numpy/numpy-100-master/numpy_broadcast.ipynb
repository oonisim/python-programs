{
 "cells": [
  {
   "cell_type": "code",
   "execution_count": 1,
   "metadata": {},
   "outputs": [],
   "source": [
    "import numpy as np"
   ]
  },
  {
   "cell_type": "markdown",
   "metadata": {},
   "source": [
    "# newaxis (newunit)\n",
    "## Army analogy\n",
    "\n",
    "When an army is small enough with 12 soldiers, a ```company``` of two levels (```squad```, ```soldier```) is sufficient.\n",
    "\n",
    "``` \n",
    "company[\n",
    "    ::   # squads   - dimension (grouping unit) 2\n",
    "    ::   # soldiers - dimension (terminal unit) 1\n",
    "]\n",
    "```\n",
    "\n",
    "Organize soldiers into a company (3 squads, 4 soldiers)=shape(3, 4):\n",
    "```\n",
    "company=[\n",
    "  [ 0  1  2  3]   # squad 0: soldier (0, 1, 2, 3) \n",
    "  [ 4  5  6  7]   # squad 1\n",
    "  [ 8  9 10 11]   # suqad 2\n",
    "]\n",
    "```\n",
    "\n",
    "Note: **DO NOT mix up numpy slice format with the print output of the ndarray.**"
   ]
  },
  {
   "cell_type": "code",
   "execution_count": 20,
   "metadata": {},
   "outputs": [
    {
     "name": "stdout",
     "output_type": "stream",
     "text": [
      "[[ 0  1  2  3]\n",
      " [ 4  5  6  7]\n",
      " [ 8  9 10 11]]\n",
      "(3, 4)\n"
     ]
    }
   ],
   "source": [
    "army = company = np.arange(12).reshape((3,4))\n",
    "print(company[\n",
    "    ::,soldiers\n",
    "    ::\n",
    "])\n",
    "print(company.shape)"
   ]
  },
  {
   "cell_type": "markdown",
   "metadata": {},
   "source": [
    "### New unit platoon\n",
    "Army needs to grow into 100 squads for a war, hence introduces a new structure **before** accepting new recruits.<br>\n",
    "\n",
    "1. Introduce ```platoon```, a new **unit to group** squads.\n",
    "2. Reorganize the existing squads into . \n",
    "\n",
    "```\n",
    "compay=[\n",
    "    ::,        # platoons - dimension 3\n",
    "    newaxis,   # squads   - dimension 2, \n",
    "    ::         # soldiers - dimension 1\n",
    "]\n",
    "```\n",
    "\n",
    "**Result:**\n",
    "```\n",
    "company=[      \n",
    "  [                # platoon 0\n",
    "    [ 0  1  2  3]  # squad 0 in platoon\n",
    "  ]\n",
    "  [                # platoon 1\n",
    "    [ 4  5  6  7]  # squad 0\n",
    "  ]\n",
    "  [                # platoon 2\n",
    "    [ 8  9 10 11]  # squad 0\n",
    "  ]\n",
    "]\n",
    "```"
   ]
  },
  {
   "cell_type": "code",
   "execution_count": 87,
   "metadata": {},
   "outputs": [
    {
     "name": "stdout",
     "output_type": "stream",
     "text": [
      "[[[ 0  1  2  3]]\n",
      "\n",
      " [[ 4  5  6  7]]\n",
      "\n",
      " [[ 8  9 10 11]]]\n",
      "(3, 1, 4)\n"
     ]
    }
   ],
   "source": [
    "company = company[\n",
    "    ::,\n",
    "    np.newaxis,\n",
    "    ::\n",
    "]\n",
    "print(company)\n",
    "print(company.shape)"
   ]
  },
  {
   "cell_type": "code",
   "execution_count": 16,
   "metadata": {},
   "outputs": [
    {
     "name": "stdout",
     "output_type": "stream",
     "text": [
      "[[[0 1 2]\n",
      "  [3 4 5]\n",
      "  [6 7 8]]]\n",
      "(1, 3, 3)\n"
     ]
    }
   ],
   "source": [
    "a2 = a[\n",
    "    np.newaxis, # dimension (n+1=3)\n",
    "    ::,         # dimension 2\n",
    "    ::,         # dimension 1\n",
    "]\n",
    "print(a2)\n",
    "print(a2.shape)"
   ]
  },
  {
   "cell_type": "markdown",
   "metadata": {},
   "source": [
    "## Elevate dimensions"
   ]
  },
  {
   "cell_type": "code",
   "execution_count": 90,
   "metadata": {},
   "outputs": [
    {
     "name": "stdout",
     "output_type": "stream",
     "text": [
      "x.shape is (3,) y.shape is (1,)\n",
      "x+y is [5 6 7]\n"
     ]
    }
   ],
   "source": [
    "x=np.array([1,2,3])\n",
    "y=np.array([4])\n",
    "print(\"x.shape is {} y.shape is {}\".format(x.shape, y.shape))\n",
    "print(\"x+y is {}\".format(x+y))"
   ]
  },
  {
   "cell_type": "code",
   "execution_count": 111,
   "metadata": {},
   "outputs": [
    {
     "name": "stdout",
     "output_type": "stream",
     "text": [
      "A.shape (4, 5, 1)\n",
      "B.shape (1, 2)\n",
      "A * B shape is (4, 5, 2)\n",
      "A * B is [[[ 0  0]\n",
      "  [ 0  1]\n",
      "  [ 0  2]\n",
      "  [ 0  3]\n",
      "  [ 0  4]]\n",
      "\n",
      " [[ 0  5]\n",
      "  [ 0  6]\n",
      "  [ 0  7]\n",
      "  [ 0  8]\n",
      "  [ 0  9]]\n",
      "\n",
      " [[ 0 10]\n",
      "  [ 0 11]\n",
      "  [ 0 12]\n",
      "  [ 0 13]\n",
      "  [ 0 14]]\n",
      "\n",
      " [[ 0 15]\n",
      "  [ 0 16]\n",
      "  [ 0 17]\n",
      "  [ 0 18]\n",
      "  [ 0 19]]]\n",
      "rank(A) 3 rank(B) 2\n"
     ]
    },
    {
     "data": {
      "text/plain": [
       "(1, 1, 2)"
      ]
     },
     "execution_count": 111,
     "metadata": {},
     "output_type": "execute_result"
    }
   ],
   "source": [
    "A = np.arange(20).reshape((4, 5, 1))\n",
    "B = np.arange(2).reshape((1,2))\n",
    "print(\"A.shape {}\".format(A.shape))\n",
    "print(\"B.shape {}\".format(B.shape))\n",
    "print(\"A * B shape is {}\".format((A*B).shape))\n",
    "\n",
    "print(\"A * B is {}\".format(A*B))\n",
    "\n",
    "print(\"rank(A) {} rank(B) {}\".format(A.ndim, B.ndim))\n",
    "B = B[\n",
    "    None,\n",
    "    ::\n",
    "]\n",
    "B.shape"
   ]
  },
  {
   "cell_type": "code",
   "execution_count": 106,
   "metadata": {},
   "outputs": [
    {
     "name": "stdout",
     "output_type": "stream",
     "text": [
      "rank(A) 3 rank(B) 2\n",
      "1\n"
     ]
    },
    {
     "data": {
      "text/plain": [
       "(1, 1, 2)"
      ]
     },
     "execution_count": 106,
     "metadata": {},
     "output_type": "execute_result"
    }
   ],
   "source": []
  },
  {
   "cell_type": "code",
   "execution_count": 86,
   "metadata": {},
   "outputs": [
    {
     "name": "stdout",
     "output_type": "stream",
     "text": [
      "40\n"
     ]
    }
   ],
   "source": [
    "print(z[(1,1,1,1)])"
   ]
  },
  {
   "cell_type": "code",
   "execution_count": 17,
   "metadata": {},
   "outputs": [
    {
     "name": "stdout",
     "output_type": "stream",
     "text": [
      "[[[0 1 2]]\n",
      "\n",
      " [[3 4 5]]\n",
      "\n",
      " [[6 7 8]]]\n",
      "(3, 1, 3)\n"
     ]
    }
   ],
   "source": [
    "a3= a[\n",
    "    ::,         # dimension 2 -> 3\n",
    "    np.newaxis, # dimension new 2\n",
    "    ::,         # dimension 1\n",
    "]\n",
    "print(a3)\n",
    "print(a3.shape)"
   ]
  },
  {
   "cell_type": "code",
   "execution_count": null,
   "metadata": {},
   "outputs": [],
   "source": [
    "\n",
    "from numpy import array, newaxis\n",
    "import numpy as np\n",
    "a = np.arange(27).reshape((3,3,3))\n",
    "print(a)\n",
    "a = a[\n",
    "    newaxis,\n",
    "    :,\n",
    "    :,\n",
    "    :\n",
    "]\n",
    "a"
   ]
  }
 ],
 "metadata": {
  "kernelspec": {
   "display_name": "Python 3",
   "language": "python",
   "name": "python3"
  },
  "language_info": {
   "codemirror_mode": {
    "name": "ipython",
    "version": 3
   },
   "file_extension": ".py",
   "mimetype": "text/x-python",
   "name": "python",
   "nbconvert_exporter": "python",
   "pygments_lexer": "ipython3",
   "version": "3.8.5"
  }
 },
 "nbformat": 4,
 "nbformat_minor": 4
}
