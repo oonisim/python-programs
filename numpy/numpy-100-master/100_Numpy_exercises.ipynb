{
 "cells": [
  {
   "cell_type": "markdown",
   "metadata": {},
   "source": [
    "# 100 numpy exercises\n",
    "\n",
    "This is a collection of exercises that have been collected in the numpy mailing list, on stack overflow\n",
    "and in the numpy documentation. The goal of this collection is to offer a quick reference for both old\n",
    "and new users but also to provide a set of exercises for those who teach.\n",
    "\n",
    "\n",
    "If you find an error or think you've a better way to solve some of them, feel\n",
    "free to open an issue at <https://github.com/rougier/numpy-100>."
   ]
  },
  {
   "cell_type": "markdown",
   "metadata": {},
   "source": [
    "File automatically generated. See the documentation to update questions/answers/hints programmatically."
   ]
  },
  {
   "cell_type": "markdown",
   "metadata": {},
   "source": [
    "Run the `initialize.py` module, then for each question you can query the\n",
    "answer or an hint with `hint(n)` or `answer(n)` for `n` question number."
   ]
  },
  {
   "cell_type": "code",
   "execution_count": 4,
   "metadata": {},
   "outputs": [],
   "source": [
    "%run initialise.py"
   ]
  },
  {
   "cell_type": "markdown",
   "metadata": {},
   "source": [
    "#### 1. Import the numpy package under the name `np` (★☆☆)"
   ]
  },
  {
   "cell_type": "code",
   "execution_count": 1,
   "metadata": {},
   "outputs": [],
   "source": [
    "import numpy as np\n",
    "%matplotlib inline\n",
    "import matplotlib.pyplot as plt"
   ]
  },
  {
   "cell_type": "markdown",
   "metadata": {},
   "source": [
    "#### 2. Print the numpy version and the configuration (★☆☆)"
   ]
  },
  {
   "cell_type": "code",
   "execution_count": 6,
   "metadata": {},
   "outputs": [
    {
     "name": "stdout",
     "output_type": "stream",
     "text": [
      "3.8.5 (default, Sep  4 2020, 07:30:14) \n",
      "[GCC 7.3.0]\n",
      "1.19.2\n"
     ]
    }
   ],
   "source": [
    "import sys\n",
    "print(sys.version)\n",
    "print(np.__version__)"
   ]
  },
  {
   "cell_type": "markdown",
   "metadata": {},
   "source": [
    "#### 3. Create a null vector of size 10 (★☆☆)"
   ]
  },
  {
   "cell_type": "code",
   "execution_count": 223,
   "metadata": {},
   "outputs": [
    {
     "name": "stdout",
     "output_type": "stream",
     "text": [
      "[0. 0. 0. 0. 0. 0. 0. 0. 0. 0.]\n",
      "[0. 0. 0. 0. 0. 0. 0. 0. 0. 0.]\n"
     ]
    }
   ],
   "source": [
    "print(np.array([0.]*10))\n",
    "print(np.zeros(10))"
   ]
  },
  {
   "cell_type": "markdown",
   "metadata": {},
   "source": [
    "#### 4. How to find the memory size of any array (★☆☆)"
   ]
  },
  {
   "cell_type": "code",
   "execution_count": 224,
   "metadata": {},
   "outputs": [
    {
     "name": "stdout",
     "output_type": "stream",
     "text": [
      "[0. 0. 0. 0. 0. 0. 0. 0. 0. 0.]\n",
      "sys.getsizeof(np.array) is 176\n",
      "pythhon object.__sizeof__() 176\n",
      "np.array() attribute: nbytes is 80\n",
      "np.array() attribute: size 10, items 8 -> size*items 80\n"
     ]
    }
   ],
   "source": [
    "a = np.zeros(10)\n",
    "print(a)\n",
    "import sys\n",
    "print(\"sys.getsizeof(np.array) is %d\" % sys.getsizeof(a))\n",
    "print(\"pythhon object.__sizeof__() %d\" %  a.__sizeof__())\n",
    "\n",
    "print(\"np.array() attribute: nbytes is %d\" % a.nbytes)\n",
    "print(\"np.array() attribute: size %d, items %d -> size*items %d\" % (a.size, a.itemsize, a.size * a.itemsize))\n",
    "del a"
   ]
  },
  {
   "cell_type": "markdown",
   "metadata": {},
   "source": [
    "#### 5. How to get the documentation of the numpy add function from the command line? (★☆☆)"
   ]
  },
  {
   "cell_type": "code",
   "execution_count": 225,
   "metadata": {},
   "outputs": [
    {
     "data": {
      "text/plain": [
       "\"add(x1, x2, /, out=None, *, where=True, casting='same_kind', order='K', dtype=None, subok=True[, signature, extobj])\\n\\nAdd arguments element-wise.\\n\\nParameters\\n----------\\nx1, x2 : array_like\\n    The arrays to be added.\\n    If ``x1.shape != x2.shape``, they must be broadcastable to a common\\n    shape (which becomes the shape of the output).\\nout : ndarray, None, or tuple of ndarray and None, optional\\n    A location into which the result is stored. If provided, it must have\\n    a shape that the inputs broadcast to. If not provided or None,\\n    a freshly-allocated array is returned. A tuple (possible only as a\\n    keyword argument) must have length equal to the number of outputs.\\nwhere : array_like, optional\\n    This condition is broadcast over the input. At locations where the\\n    condition is True, the `out` array will be set to the ufunc result.\\n    Elsewhere, the `out` array will retain its original value.\\n    Note that if an uninitialized `out` array is created via the default\\n    ``out=None``, locations within it where the condition is False will\\n    remain uninitialized.\\n**kwargs\\n    For other keyword-only arguments, see the\\n    :ref:`ufunc docs <ufuncs.kwargs>`.\\n\\nReturns\\n-------\\nadd : ndarray or scalar\\n    The sum of `x1` and `x2`, element-wise.\\n    This is a scalar if both `x1` and `x2` are scalars.\\n\\nNotes\\n-----\\nEquivalent to `x1` + `x2` in terms of array broadcasting.\\n\\nExamples\\n--------\\n>>> np.add(1.0, 4.0)\\n5.0\\n>>> x1 = np.arange(9.0).reshape((3, 3))\\n>>> x2 = np.arange(3.0)\\n>>> np.add(x1, x2)\\narray([[  0.,   2.,   4.],\\n       [  3.,   5.,   7.],\\n       [  6.,   8.,  10.]])\""
      ]
     },
     "execution_count": 225,
     "metadata": {},
     "output_type": "execute_result"
    }
   ],
   "source": [
    "np.add.__doc__"
   ]
  },
  {
   "cell_type": "code",
   "execution_count": 226,
   "metadata": {},
   "outputs": [
    {
     "name": "stdout",
     "output_type": "stream",
     "text": [
      "add(x1, x2, /, out=None, *, where=True, casting='same_kind', order='K', dtype=None, subok=True[, signature, extobj])\n",
      "\n",
      "Add arguments element-wise.\n",
      "\n",
      "Parameters\n",
      "----------\n",
      "x1, x2 : array_like\n",
      "    The arrays to be added.\n",
      "    If ``x1.shape != x2.shape``, they must be broadcastable to a common\n",
      "    shape (which becomes the shape of the output).\n",
      "out : ndarray, None, or tuple of ndarray and None, optional\n",
      "    A location into which the result is stored. If provided, it must have\n",
      "    a shape that the inputs broadcast to. If not provided or None,\n",
      "    a freshly-allocated array is returned. A tuple (possible only as a\n",
      "    keyword argument) must have length equal to the number of outputs.\n",
      "where : array_like, optional\n",
      "    This condition is broadcast over the input. At locations where the\n",
      "    condition is True, the `out` array will be set to the ufunc result.\n",
      "    Elsewhere, the `out` array will retain its original value.\n",
      "    Note that if an uninitialized `out` array is created via the default\n",
      "    ``out=None``, locations within it where the condition is False will\n",
      "    remain uninitialized.\n",
      "**kwargs\n",
      "    For other keyword-only arguments, see the\n",
      "    :ref:`ufunc docs <ufuncs.kwargs>`.\n",
      "\n",
      "Returns\n",
      "-------\n",
      "add : ndarray or scalar\n",
      "    The sum of `x1` and `x2`, element-wise.\n",
      "    This is a scalar if both `x1` and `x2` are scalars.\n",
      "\n",
      "Notes\n",
      "-----\n",
      "Equivalent to `x1` + `x2` in terms of array broadcasting.\n",
      "\n",
      "Examples\n",
      "--------\n",
      ">>> np.add(1.0, 4.0)\n",
      "5.0\n",
      ">>> x1 = np.arange(9.0).reshape((3, 3))\n",
      ">>> x2 = np.arange(3.0)\n",
      ">>> np.add(x1, x2)\n",
      "array([[  0.,   2.,   4.],\n",
      "       [  3.,   5.,   7.],\n",
      "       [  6.,   8.,  10.]])\n"
     ]
    }
   ],
   "source": [
    "np.info(np.add)"
   ]
  },
  {
   "cell_type": "markdown",
   "metadata": {},
   "source": [
    "#### 6. Create a null vector of size 10 but the fifth value which is 1 (★☆☆)"
   ]
  },
  {
   "cell_type": "code",
   "execution_count": 227,
   "metadata": {},
   "outputs": [
    {
     "data": {
      "text/plain": [
       "array([0., 0., 0., 0., 1., 0., 0., 0., 0., 0.])"
      ]
     },
     "execution_count": 227,
     "metadata": {},
     "output_type": "execute_result"
    }
   ],
   "source": [
    "a = np.zeros(10)\n",
    "a[4] = 1\n",
    "a"
   ]
  },
  {
   "cell_type": "markdown",
   "metadata": {},
   "source": [
    "#### 7. Create a vector with values ranging from 10 to 49 (★☆☆)"
   ]
  },
  {
   "cell_type": "code",
   "execution_count": 228,
   "metadata": {},
   "outputs": [
    {
     "data": {
      "text/plain": [
       "array([10, 11, 12, 13, 14, 15, 16, 17, 18, 19, 20, 21, 22, 23, 24, 25, 26,\n",
       "       27, 28, 29, 30, 31, 32, 33, 34, 35, 36, 37, 38, 39, 40, 41, 42, 43,\n",
       "       44, 45, 46, 47, 48, 49])"
      ]
     },
     "execution_count": 228,
     "metadata": {},
     "output_type": "execute_result"
    }
   ],
   "source": [
    "np.array(range(10, 50))"
   ]
  },
  {
   "cell_type": "code",
   "execution_count": 229,
   "metadata": {},
   "outputs": [
    {
     "data": {
      "text/plain": [
       "array([10, 11, 12, 13, 14, 15, 16, 17, 18, 19, 20, 21, 22, 23, 24, 25, 26,\n",
       "       27, 28, 29, 30, 31, 32, 33, 34, 35, 36, 37, 38, 39, 40, 41, 42, 43,\n",
       "       44, 45, 46, 47, 48, 49])"
      ]
     },
     "execution_count": 229,
     "metadata": {},
     "output_type": "execute_result"
    }
   ],
   "source": [
    "np.arange(10, 50)"
   ]
  },
  {
   "cell_type": "markdown",
   "metadata": {},
   "source": [
    "#### 8. Reverse a vector (first element becomes last) (★☆☆)"
   ]
  },
  {
   "cell_type": "code",
   "execution_count": 230,
   "metadata": {},
   "outputs": [
    {
     "data": {
      "text/plain": [
       "array([49, 48, 47, 46, 45, 44, 43, 42, 41, 40, 39, 38, 37, 36, 35, 34, 33,\n",
       "       32, 31, 30, 29, 28, 27, 26, 25, 24, 23, 22, 21, 20, 19, 18, 17, 16,\n",
       "       15, 14, 13, 12, 11, 10])"
      ]
     },
     "execution_count": 230,
     "metadata": {},
     "output_type": "execute_result"
    }
   ],
   "source": [
    "a = np.arange(10, 50)\n",
    "a[-1:None:-1]  # list[start:stop:step] start at the last and reverse with -1 step"
   ]
  },
  {
   "cell_type": "markdown",
   "metadata": {},
   "source": [
    "#### 9. Create a 3x3 matrix with values ranging from 0 to 8 (★☆☆)"
   ]
  },
  {
   "cell_type": "code",
   "execution_count": 231,
   "metadata": {},
   "outputs": [
    {
     "data": {
      "text/plain": [
       "array([[0, 1, 2],\n",
       "       [3, 4, 5],\n",
       "       [6, 7, 8]])"
      ]
     },
     "execution_count": 231,
     "metadata": {},
     "output_type": "execute_result"
    }
   ],
   "source": [
    "np.arange(9).reshape((3, 3))"
   ]
  },
  {
   "cell_type": "markdown",
   "metadata": {},
   "source": [
    "#### 10. Find indices of non-zero elements from [1,2,0,0,4,0] (★☆☆)"
   ]
  },
  {
   "cell_type": "code",
   "execution_count": 232,
   "metadata": {},
   "outputs": [
    {
     "data": {
      "text/plain": [
       "array([1., 1., 0., 0., 1., 0.])"
      ]
     },
     "execution_count": 232,
     "metadata": {},
     "output_type": "execute_result"
    }
   ],
   "source": [
    "np.divide(np.array([1,2,0,0,4,0]), [1,2,1,1,4,1])"
   ]
  },
  {
   "cell_type": "code",
   "execution_count": 233,
   "metadata": {},
   "outputs": [
    {
     "data": {
      "text/plain": [
       "(array([0, 1, 4]),)"
      ]
     },
     "execution_count": 233,
     "metadata": {},
     "output_type": "execute_result"
    }
   ],
   "source": [
    "np.nonzero([1,2,0,0,4,0])"
   ]
  },
  {
   "cell_type": "markdown",
   "metadata": {},
   "source": [
    "#### 11. Create a 3x3 identity matrix (★☆☆)"
   ]
  },
  {
   "cell_type": "code",
   "execution_count": 234,
   "metadata": {},
   "outputs": [
    {
     "name": "stdout",
     "output_type": "stream",
     "text": [
      "[[1. 0. 0.]\n",
      " [0. 1. 0.]\n",
      " [0. 0. 1.]]\n",
      "[[1. 0. 0.]\n",
      " [0. 1. 0.]\n",
      " [0. 0. 1.]]\n"
     ]
    }
   ],
   "source": [
    "print(np.eye(3, 3))\n",
    "print(np.eye(3))"
   ]
  },
  {
   "cell_type": "markdown",
   "metadata": {},
   "source": [
    "#### 12. Create a 3x3x3 array with random values (★☆☆)"
   ]
  },
  {
   "cell_type": "code",
   "execution_count": 235,
   "metadata": {},
   "outputs": [
    {
     "data": {
      "text/plain": [
       "array([[[0.9512562 , 0.45038364, 0.9003079 ],\n",
       "        [0.88213184, 0.99139672, 0.82712995],\n",
       "        [0.35643266, 0.6996043 , 0.19757526]],\n",
       "\n",
       "       [[0.61259671, 0.32902147, 0.30828354],\n",
       "        [0.24320331, 0.24981166, 0.11294968],\n",
       "        [0.22438466, 0.2879494 , 0.83014024]],\n",
       "\n",
       "       [[0.20903842, 0.63054539, 0.03102333],\n",
       "        [0.4224167 , 0.26712945, 0.04663775],\n",
       "        [0.67504608, 0.05557815, 0.73136776]]])"
      ]
     },
     "execution_count": 235,
     "metadata": {},
     "output_type": "execute_result"
    }
   ],
   "source": [
    "import random\n",
    "np.array([random.random() for i in range(27)]).reshape(3,3,3)"
   ]
  },
  {
   "cell_type": "code",
   "execution_count": 236,
   "metadata": {},
   "outputs": [
    {
     "data": {
      "text/plain": [
       "array([[[0.68378079, 0.86117153, 0.94622578],\n",
       "        [0.7590776 , 0.74293375, 0.06891609],\n",
       "        [0.10130943, 0.9712506 , 0.31437713]],\n",
       "\n",
       "       [[0.97939332, 0.67692559, 0.22627524],\n",
       "        [0.47810919, 0.91949699, 0.82480354],\n",
       "        [0.53666864, 0.11034737, 0.55730482]],\n",
       "\n",
       "       [[0.90247441, 0.51274668, 0.71978977],\n",
       "        [0.54304507, 0.13414542, 0.73048941],\n",
       "        [0.77775219, 0.79729463, 0.89448023]]])"
      ]
     },
     "execution_count": 236,
     "metadata": {},
     "output_type": "execute_result"
    }
   ],
   "source": [
    "np.random.random(27).reshape(3,3,3)"
   ]
  },
  {
   "cell_type": "code",
   "execution_count": 237,
   "metadata": {},
   "outputs": [
    {
     "data": {
      "text/plain": [
       "array([[[0.57857523, 0.31854192, 0.89992011],\n",
       "        [0.97001638, 0.25079772, 0.31003123],\n",
       "        [0.31703644, 0.33950619, 0.42572463]],\n",
       "\n",
       "       [[0.59903961, 0.55526891, 0.49263307],\n",
       "        [0.80474302, 0.68642078, 0.25138458],\n",
       "        [0.11658698, 0.30526783, 0.12417241]],\n",
       "\n",
       "       [[0.33716179, 0.09967849, 0.33772665],\n",
       "        [0.11095585, 0.00699381, 0.5854301 ],\n",
       "        [0.61438878, 0.96369112, 0.33602445]]])"
      ]
     },
     "execution_count": 237,
     "metadata": {},
     "output_type": "execute_result"
    }
   ],
   "source": [
    "np.random.random((3,3,3))"
   ]
  },
  {
   "cell_type": "markdown",
   "metadata": {},
   "source": [
    "#### 13. Create a 10x10 array with random values and find the minimum and maximum values (★☆☆)"
   ]
  },
  {
   "cell_type": "code",
   "execution_count": 238,
   "metadata": {},
   "outputs": [
    {
     "data": {
      "text/plain": [
       "0.008917656906944016"
      ]
     },
     "execution_count": 238,
     "metadata": {},
     "output_type": "execute_result"
    }
   ],
   "source": [
    "np.random.random((10, 10)).min()"
   ]
  },
  {
   "cell_type": "markdown",
   "metadata": {},
   "source": [
    "#### 14. Create a random vector of size 30 and find the mean value (★☆☆)"
   ]
  },
  {
   "cell_type": "code",
   "execution_count": 239,
   "metadata": {},
   "outputs": [
    {
     "data": {
      "text/plain": [
       "0.47039511812893714"
      ]
     },
     "execution_count": 239,
     "metadata": {},
     "output_type": "execute_result"
    }
   ],
   "source": [
    "np.random.random((30)).mean()"
   ]
  },
  {
   "cell_type": "markdown",
   "metadata": {},
   "source": [
    "#### 15. Create a 2d array with 1 on the border and 0 inside (★☆☆)"
   ]
  },
  {
   "cell_type": "code",
   "execution_count": 240,
   "metadata": {},
   "outputs": [
    {
     "data": {
      "text/plain": [
       "array([[1, 0],\n",
       "       [1, 0],\n",
       "       [1, 0],\n",
       "       [1, 0],\n",
       "       [1, 0]])"
      ]
     },
     "execution_count": 240,
     "metadata": {},
     "output_type": "execute_result"
    }
   ],
   "source": [
    "np.array([[1, 0]] * 5)"
   ]
  },
  {
   "cell_type": "markdown",
   "metadata": {},
   "source": [
    "#### 16. How to add a border (filled with 0's) around an existing array? (★☆☆)"
   ]
  },
  {
   "cell_type": "code",
   "execution_count": 241,
   "metadata": {},
   "outputs": [
    {
     "data": {
      "text/plain": [
       "array([[1., 1., 1., 1., 1.],\n",
       "       [1., 1., 1., 1., 1.],\n",
       "       [1., 1., 1., 1., 1.],\n",
       "       [1., 1., 1., 1., 1.],\n",
       "       [1., 1., 1., 1., 1.]])"
      ]
     },
     "execution_count": 241,
     "metadata": {},
     "output_type": "execute_result"
    }
   ],
   "source": [
    "a = np.ones((5, 5))\n",
    "a"
   ]
  },
  {
   "cell_type": "code",
   "execution_count": 242,
   "metadata": {},
   "outputs": [
    {
     "data": {
      "text/plain": [
       "array([[0., 0., 0., 0., 0.],\n",
       "       [0., 1., 1., 1., 0.],\n",
       "       [0., 1., 1., 1., 0.],\n",
       "       [0., 1., 1., 1., 0.],\n",
       "       [0., 0., 0., 0., 0.]])"
      ]
     },
     "execution_count": 242,
     "metadata": {},
     "output_type": "execute_result"
    }
   ],
   "source": [
    "a[0] = a[-1] = 0\n",
    "a.T[0] = a.T[-1] = 0\n",
    "a"
   ]
  },
  {
   "cell_type": "code",
   "execution_count": 243,
   "metadata": {},
   "outputs": [
    {
     "data": {
      "text/plain": [
       "array([[0., 0., 0., 0., 0., 0., 0.],\n",
       "       [0., 1., 1., 1., 1., 1., 0.],\n",
       "       [0., 1., 1., 1., 1., 1., 0.],\n",
       "       [0., 1., 1., 1., 1., 1., 0.],\n",
       "       [0., 1., 1., 1., 1., 1., 0.],\n",
       "       [0., 1., 1., 1., 1., 1., 0.],\n",
       "       [0., 0., 0., 0., 0., 0., 0.]])"
      ]
     },
     "execution_count": 243,
     "metadata": {},
     "output_type": "execute_result"
    }
   ],
   "source": [
    "np.pad(np.ones((5, 5)), pad_width=1, mode='constant')"
   ]
  },
  {
   "cell_type": "markdown",
   "metadata": {},
   "source": [
    "#### 17. What is the result of the following expression? (★☆☆)\n",
    "```python\n",
    "0 * np.nan\n",
    "np.nan == np.nan\n",
    "np.inf > np.nan\n",
    "np.nan - np.nan\n",
    "np.nan in set([np.nan])\n",
    "0.3 == 3 * 0.1\n",
    "```"
   ]
  },
  {
   "cell_type": "code",
   "execution_count": 244,
   "metadata": {},
   "outputs": [
    {
     "name": "stdout",
     "output_type": "stream",
     "text": [
      "nan\n",
      "False\n",
      "False\n",
      "nan\n",
      "True\n",
      "False\n"
     ]
    }
   ],
   "source": [
    "print(0 * np.nan)\n",
    "print(np.nan == np.nan)\n",
    "print(np.inf > np.nan)\n",
    "print(np.nan - np.nan)\n",
    "print(np.nan in set([np.nan]))\n",
    "print(0.3 == 3 * 0.1)           # Why false?"
   ]
  },
  {
   "cell_type": "code",
   "execution_count": 245,
   "metadata": {},
   "outputs": [
    {
     "name": "stdout",
     "output_type": "stream",
     "text": [
      "False\n",
      "True\n",
      "True\n",
      "True\n",
      "True\n",
      "0.1000000000000000055511151231257827021181583404541015625\n",
      "0.0000000000000000000000000000000000000000000000000000000\n"
     ]
    }
   ],
   "source": [
    "print(3 * 0.1 == 0.3)     # False\n",
    "print(0.3 * 1 == 0.3)     # True\n",
    "print(1 * 0.1 == 0.1)     # True\n",
    "print(1/10 == 0.1)        # True\n",
    "print(0.3 * 0.1 == 0.03)  # True\n",
    "\n",
    "print(\"%0.55f\" % (1.0 / 10))\n",
    "print(\"%0.55f\" % (0.1000000000000000055511151231257827021181583404541015625 - 0.1))"
   ]
  },
  {
   "cell_type": "markdown",
   "metadata": {},
   "source": [
    "#### 18. Create a 5x5 matrix with values 1,2,3,4 just below the diagonal (★☆☆)"
   ]
  },
  {
   "cell_type": "code",
   "execution_count": 287,
   "metadata": {},
   "outputs": [
    {
     "data": {
      "text/plain": [
       "array([[0., 0., 0., 0., 0.],\n",
       "       [1., 0., 0., 0., 0.],\n",
       "       [0., 1., 0., 0., 0.],\n",
       "       [0., 0., 1., 0., 0.],\n",
       "       [0., 0., 0., 1., 0.]])"
      ]
     },
     "execution_count": 287,
     "metadata": {},
     "output_type": "execute_result"
    }
   ],
   "source": [
    "a = np.eye(5).reshape(25)\n",
    "b = np.concatenate(\n",
    "    (a[1::], [0])\n",
    ")\n",
    "b.reshape((5, 5))"
   ]
  },
  {
   "cell_type": "code",
   "execution_count": 294,
   "metadata": {},
   "outputs": [
    {
     "data": {
      "text/plain": [
       "array([1, 2, 3, 4])"
      ]
     },
     "execution_count": 294,
     "metadata": {},
     "output_type": "execute_result"
    }
   ],
   "source": [
    "np.arange(4) + 1"
   ]
  },
  {
   "cell_type": "code",
   "execution_count": 291,
   "metadata": {},
   "outputs": [
    {
     "data": {
      "text/plain": [
       "array([[1, 0, 0, 0],\n",
       "       [0, 2, 0, 0],\n",
       "       [0, 0, 3, 0],\n",
       "       [0, 0, 0, 4]])"
      ]
     },
     "execution_count": 291,
     "metadata": {},
     "output_type": "execute_result"
    }
   ],
   "source": [
    "np.diag(\n",
    "    (np.arange(4) + 1)\n",
    ")"
   ]
  },
  {
   "cell_type": "code",
   "execution_count": 292,
   "metadata": {},
   "outputs": [
    {
     "data": {
      "text/plain": [
       "array([[0, 0, 0, 0, 0],\n",
       "       [1, 0, 0, 0, 0],\n",
       "       [0, 2, 0, 0, 0],\n",
       "       [0, 0, 3, 0, 0],\n",
       "       [0, 0, 0, 4, 0]])"
      ]
     },
     "execution_count": 292,
     "metadata": {},
     "output_type": "execute_result"
    }
   ],
   "source": [
    "np.diag(\n",
    "    (np.arange(4) + 1),\n",
    "    k=-1\n",
    ")"
   ]
  },
  {
   "cell_type": "markdown",
   "metadata": {},
   "source": [
    "#### 19. Create a 8x8 matrix and fill it with a checkerboard pattern (★☆☆)"
   ]
  },
  {
   "cell_type": "code",
   "execution_count": 303,
   "metadata": {},
   "outputs": [
    {
     "name": "stdout",
     "output_type": "stream",
     "text": [
      "[[0 1]\n",
      " [1 0]]\n"
     ]
    },
    {
     "data": {
      "text/plain": [
       "array([[0, 1, 0, 1, 0, 1, 0, 1],\n",
       "       [1, 0, 1, 0, 1, 0, 1, 0],\n",
       "       [0, 1, 0, 1, 0, 1, 0, 1],\n",
       "       [1, 0, 1, 0, 1, 0, 1, 0],\n",
       "       [0, 1, 0, 1, 0, 1, 0, 1],\n",
       "       [1, 0, 1, 0, 1, 0, 1, 0],\n",
       "       [0, 1, 0, 1, 0, 1, 0, 1],\n",
       "       [1, 0, 1, 0, 1, 0, 1, 0]])"
      ]
     },
     "execution_count": 303,
     "metadata": {},
     "output_type": "execute_result"
    }
   ],
   "source": [
    "\n",
    "base = np.array([[0,1],[1,0]])\n",
    "print(base)\n"
   ]
  },
  {
   "cell_type": "markdown",
   "metadata": {},
   "source": [
    "#### 20. Consider a (6,7,8) shape array, what is the index (x,y,z) of the 100th element?"
   ]
  },
  {
   "cell_type": "code",
   "execution_count": 335,
   "metadata": {},
   "outputs": [
    {
     "name": "stdout",
     "output_type": "stream",
     "text": [
      "1\n",
      "44\n",
      "(1, 5, 3)\n",
      "[ 96  97  98  99 100 101 102 103]\n"
     ]
    },
    {
     "data": {
      "text/plain": [
       "99"
      ]
     },
     "execution_count": 335,
     "metadata": {},
     "output_type": "execute_result"
    }
   ],
   "source": [
    "# Beware the dimension is moving higher to lower d3 -> d2 -> d1\n",
    "# Note that 100th element -> index is [99], NOT 100.\n",
    "d3_size = 6\n",
    "d2_size = 7\n",
    "d1_size = 8\n",
    "sequence = np.arange(d3_size * d2_size * d1_size)\n",
    "\n",
    "cube = np.array(sequence).reshape((d3_size, d2_size, d1_size))\n",
    "d3 = int(100 / (d2_size * d1_size))\n",
    "print(d3)\n",
    "\n",
    "d1d2_items = int(100 % (d2_size * d1_size))\n",
    "print(d1d2_items)\n",
    "\n",
    "d2 = int(d1d2_items / d1_size)\n",
    "d1 = int(d1d2_items % d1_size) -1  # -1 as 100th element is 99th in index.\n",
    "print((d3, d2, d1))\n",
    "\n",
    "print(cube[d3][d2])\n",
    "cube[d3][d2][d1]"
   ]
  },
  {
   "cell_type": "code",
   "execution_count": 334,
   "metadata": {},
   "outputs": [
    {
     "name": "stdout",
     "output_type": "stream",
     "text": [
      "(1, 5, 3)\n"
     ]
    },
    {
     "data": {
      "text/plain": [
       "99"
      ]
     },
     "execution_count": 334,
     "metadata": {},
     "output_type": "execute_result"
    }
   ],
   "source": [
    "indices=(np.unravel_index(99,(6,7,8)))\n",
    "print(indices)\n",
    "cube[indices[0]][indices[1]][indices[2]]"
   ]
  },
  {
   "cell_type": "markdown",
   "metadata": {},
   "source": [
    "#### 21. Create a checkerboard 8x8 matrix using the tile function (★☆☆)"
   ]
  },
  {
   "cell_type": "code",
   "execution_count": 340,
   "metadata": {},
   "outputs": [
    {
     "data": {
      "text/plain": [
       "array([[-1.70519568, -1.65106248, -1.59692929, -1.54279609, -1.4886629 ,\n",
       "        -1.4345297 , -1.3803965 , -1.32626331],\n",
       "       [-1.27213011, -1.21799691, -1.16386372, -1.10973052, -1.05559733,\n",
       "        -1.00146413, -0.94733093, -0.89319774],\n",
       "       [-0.83906454, -0.78493134, -0.73079815, -0.67666495, -0.62253176,\n",
       "        -0.56839856, -0.51426536, -0.46013217],\n",
       "       [-0.40599897, -0.35186578, -0.29773258, -0.24359938, -0.18946619,\n",
       "        -0.13533299, -0.08119979, -0.0270666 ],\n",
       "       [ 0.0270666 ,  0.08119979,  0.13533299,  0.18946619,  0.24359938,\n",
       "         0.29773258,  0.35186578,  0.40599897],\n",
       "       [ 0.46013217,  0.51426536,  0.56839856,  0.62253176,  0.67666495,\n",
       "         0.73079815,  0.78493134,  0.83906454],\n",
       "       [ 0.89319774,  0.94733093,  1.00146413,  1.05559733,  1.10973052,\n",
       "         1.16386372,  1.21799691,  1.27213011],\n",
       "       [ 1.32626331,  1.3803965 ,  1.4345297 ,  1.4886629 ,  1.54279609,\n",
       "         1.59692929,  1.65106248,  1.70519568]])"
      ]
     },
     "execution_count": 340,
     "metadata": {},
     "output_type": "execute_result"
    }
   ],
   "source": [
    "a = np.arange(64).reshape((8,8))\n",
    "(a - np.mean (a)) / (np.std (a))"
   ]
  },
  {
   "cell_type": "code",
   "execution_count": 341,
   "metadata": {},
   "outputs": [
    {
     "data": {
      "text/plain": [
       "array([[-1.62018517, -1.38873015, -1.15727512, -0.9258201 , -0.69436507],\n",
       "       [-0.46291005, -0.23145502,  0.        ,  0.23145502,  0.46291005],\n",
       "       [ 0.69436507,  0.9258201 ,  1.15727512,  1.38873015,  1.62018517]])"
      ]
     },
     "execution_count": 341,
     "metadata": {},
     "output_type": "execute_result"
    }
   ],
   "source": [
    "a = np.arange(15).reshape((3,5))\n",
    "(a - np.mean (a)) / (np.std (a))"
   ]
  },
  {
   "cell_type": "markdown",
   "metadata": {},
   "source": [
    "#### 22. Normalize a 5x5 random matrix (★☆☆)"
   ]
  },
  {
   "cell_type": "code",
   "execution_count": 344,
   "metadata": {},
   "outputs": [
    {
     "data": {
      "text/plain": [
       "array([[ 1.26676342, -0.88109534,  1.20451325, -1.30315904,  0.09762636],\n",
       "       [ 0.80578031,  1.29353626,  0.89162493,  0.22130967,  0.24921821],\n",
       "       [-1.14943749,  0.65402644,  0.46657982,  1.40726987, -1.13914804],\n",
       "       [-0.94192084, -0.89030719, -1.26329466, -0.06808972, -1.00284772],\n",
       "       [ 1.07008664, -1.28699143, -1.33021077,  0.17981952,  1.44834754]])"
      ]
     },
     "execution_count": 344,
     "metadata": {},
     "output_type": "execute_result"
    }
   ],
   "source": [
    "a = np.random.random((5,5))\n",
    "(a - a.mean()) / a.std()"
   ]
  },
  {
   "cell_type": "markdown",
   "metadata": {},
   "source": [
    "#### 23. Create a custom dtype that describes a color as four unsigned bytes (RGBA) (★☆☆)"
   ]
  },
  {
   "cell_type": "code",
   "execution_count": 395,
   "metadata": {},
   "outputs": [
    {
     "data": {
      "text/plain": [
       "array([[  0,   0,   0],\n",
       "       [255, 255, 255],\n",
       "       [255,   0,   0]])"
      ]
     },
     "execution_count": 395,
     "metadata": {},
     "output_type": "execute_result"
    }
   ],
   "source": [
    "color_type = np.dtype([\n",
    "    (\"r\", np.ubyte, (1,)),\n",
    "    (\"g\", np.ubyte, (1,)),\n",
    "    (\"b\", np.ubyte, (1,))\n",
    "])\n",
    "colors = np.array(\n",
    "    [\n",
    "        (0, 0, 0),      # black\n",
    "        (255,255,255),  # white \n",
    "        (255,0,0)       # red\n",
    "    ]\n",
    ")\n",
    "colors"
   ]
  },
  {
   "cell_type": "code",
   "execution_count": 389,
   "metadata": {},
   "outputs": [
    {
     "name": "stdout",
     "output_type": "stream",
     "text": [
      "('John', '', 'Conner', [6., 7.])\n",
      "John\n",
      "<class 'numpy.ndarray'>\n"
     ]
    }
   ],
   "source": [
    "dt = np.dtype(\n",
    "  [\n",
    "    ('first', np.unicode_, 16),    \n",
    "    ('middle', np.unicode_, (16)),   \n",
    "    #('last', np.unicode_, (16,)),   \n",
    "    ('last', np.unicode_, 16),   \n",
    "    ('grades', np.float64, (2,))  \n",
    "  ]\n",
    ")\n",
    "x = np.array(\n",
    "    [\n",
    "        ('Sarah', 'Jeanette', 'Conner', (8.0, 7.0)), \n",
    "        ('John', '', 'Conner', (6.0, 7.0))\n",
    "    ], \n",
    "    dtype=dt\n",
    ")\n",
    "\n",
    "print(x[1])\n",
    "print(x[1]['first'])\n",
    "print(type(x[1]['grades']))"
   ]
  },
  {
   "cell_type": "markdown",
   "metadata": {},
   "source": [
    "#### 24. Multiply a 5x3 matrix by a 3x2 matrix (real matrix product) (★☆☆)"
   ]
  },
  {
   "cell_type": "code",
   "execution_count": 9,
   "metadata": {},
   "outputs": [
    {
     "name": "stdout",
     "output_type": "stream",
     "text": [
      "[[0.92132171 1.08454191]\n",
      " [0.52202436 0.65135377]\n",
      " [0.75378789 1.0026737 ]\n",
      " [0.78770548 1.10279001]\n",
      " [1.02909723 1.24023637]]\n",
      "[[0.92132171 1.08454191]\n",
      " [0.52202436 0.65135377]\n",
      " [0.75378789 1.0026737 ]\n",
      " [0.78770548 1.10279001]\n",
      " [1.02909723 1.24023637]]\n",
      "[[0.92132171 1.08454191]\n",
      " [0.52202436 0.65135377]\n",
      " [0.75378789 1.0026737 ]\n",
      " [0.78770548 1.10279001]\n",
      " [1.02909723 1.24023637]]\n"
     ]
    }
   ],
   "source": [
    "x = np.random.random((5,3))\n",
    "y = np.random.random((3,2))\n",
    "print(np.matmul(x, y))\n",
    "print(np.dot(x, y))\n",
    "print(np.inner(x, y.T))"
   ]
  },
  {
   "cell_type": "code",
   "execution_count": 399,
   "metadata": {},
   "outputs": [
    {
     "name": "stdout",
     "output_type": "stream",
     "text": [
      "[[3. 3.]\n",
      " [3. 3.]\n",
      " [3. 3.]\n",
      " [3. 3.]\n",
      " [3. 3.]]\n"
     ]
    }
   ],
   "source": [
    "Z = np.ones((5,3)) @ np.ones((3,2))\n",
    "print(Z)"
   ]
  },
  {
   "cell_type": "markdown",
   "metadata": {},
   "source": [
    "#### 25. Given a 1D array, negate all elements which are between 3 and 8, in place. (★☆☆)"
   ]
  },
  {
   "cell_type": "code",
   "execution_count": 10,
   "metadata": {},
   "outputs": [
    {
     "data": {
      "text/plain": [
       "array([[ 0,  1,  2, -3, -4],\n",
       "       [-5, -6, -7, -8,  9],\n",
       "       [10, 11, 12, 13, 14],\n",
       "       [15, 16, 17, 18, 19],\n",
       "       [20, 21, 22, 23, 24]])"
      ]
     },
     "execution_count": 10,
     "metadata": {},
     "output_type": "execute_result"
    }
   ],
   "source": [
    "a = np.arange(25).reshape((5,5))\n",
    "a[(3 <= a) & (a <= 8)] *= -1\n",
    "a"
   ]
  },
  {
   "cell_type": "markdown",
   "metadata": {},
   "source": [
    "#### 26. What is the output of the following script? (★☆☆)\n",
    "```python\n",
    "# Author: Jake VanderPlas\n",
    "\n",
    "print(sum(range(5),-1))\n",
    "from numpy import *\n",
    "print(sum(range(5),-1))\n",
    "```"
   ]
  },
  {
   "cell_type": "code",
   "execution_count": null,
   "metadata": {},
   "outputs": [],
   "source": []
  },
  {
   "cell_type": "markdown",
   "metadata": {},
   "source": [
    "#### 27. Consider an integer vector Z, which of these expressions are legal? (★☆☆)\n",
    "```python\n",
    "Z**Z\n",
    "2 << Z >> 2\n",
    "Z <- Z\n",
    "1j*Z\n",
    "Z/1/1\n",
    "Z<Z>Z\n",
    "```"
   ]
  },
  {
   "cell_type": "code",
   "execution_count": null,
   "metadata": {},
   "outputs": [],
   "source": []
  },
  {
   "cell_type": "markdown",
   "metadata": {},
   "source": [
    "#### 28. What are the result of the following expressions?\n",
    "```python\n",
    "np.array(0) / np.array(0)\n",
    "np.array(0) // np.array(0)\n",
    "np.array([np.nan]).astype(int).astype(float)\n",
    "```"
   ]
  },
  {
   "cell_type": "code",
   "execution_count": null,
   "metadata": {},
   "outputs": [],
   "source": []
  },
  {
   "cell_type": "markdown",
   "metadata": {},
   "source": [
    "#### 29. How to round away from zero a float array ? (★☆☆)"
   ]
  },
  {
   "cell_type": "code",
   "execution_count": null,
   "metadata": {},
   "outputs": [],
   "source": []
  },
  {
   "cell_type": "markdown",
   "metadata": {},
   "source": [
    "#### 30. How to find common values between two arrays? (★☆☆)"
   ]
  },
  {
   "cell_type": "code",
   "execution_count": null,
   "metadata": {},
   "outputs": [],
   "source": []
  },
  {
   "cell_type": "markdown",
   "metadata": {},
   "source": [
    "#### 31. How to ignore all numpy warnings (not recommended)? (★☆☆)"
   ]
  },
  {
   "cell_type": "code",
   "execution_count": null,
   "metadata": {},
   "outputs": [],
   "source": []
  },
  {
   "cell_type": "markdown",
   "metadata": {},
   "source": [
    "#### 32. Is the following expressions true? (★☆☆)\n",
    "```python\n",
    "np.sqrt(-1) == np.emath.sqrt(-1)\n",
    "```"
   ]
  },
  {
   "cell_type": "code",
   "execution_count": null,
   "metadata": {},
   "outputs": [],
   "source": []
  },
  {
   "cell_type": "markdown",
   "metadata": {},
   "source": [
    "#### 33. How to get the dates of yesterday, today and tomorrow? (★☆☆)"
   ]
  },
  {
   "cell_type": "code",
   "execution_count": 401,
   "metadata": {},
   "outputs": [
    {
     "name": "stdout",
     "output_type": "stream",
     "text": [
      "2020-12-22\n"
     ]
    }
   ],
   "source": [
    "yesterday = np.datetime64('today') - np.timedelta64(1)\n",
    "today     = np.datetime64('today')\n",
    "tomorrow  = np.datetime64('today') + np.timedelta64(1)\n",
    "print(tomorrow)"
   ]
  },
  {
   "cell_type": "markdown",
   "metadata": {},
   "source": [
    "#### 34. How to get all the dates corresponding to the month of July 2016? (★★☆)"
   ]
  },
  {
   "cell_type": "code",
   "execution_count": 404,
   "metadata": {},
   "outputs": [
    {
     "data": {
      "text/plain": [
       "array(['2016-06-10', '2016-06-11', '2016-06-12', '2016-06-13',\n",
       "       '2016-06-14', '2016-06-15', '2016-06-16', '2016-06-17',\n",
       "       '2016-06-18', '2016-06-19', '2016-06-20', '2016-06-21',\n",
       "       '2016-06-22', '2016-06-23', '2016-06-24', '2016-06-25',\n",
       "       '2016-06-26', '2016-06-27', '2016-06-28', '2016-06-29',\n",
       "       '2016-06-30'], dtype='datetime64[D]')"
      ]
     },
     "execution_count": 404,
     "metadata": {},
     "output_type": "execute_result"
    }
   ],
   "source": [
    "np.arange(\n",
    "    start=np.datetime64('2016-06-10'),\n",
    "    stop=np.datetime64('2016-07-01'),\n",
    "    step=np.timedelta64(1, 'D')\n",
    ")"
   ]
  },
  {
   "cell_type": "code",
   "execution_count": 405,
   "metadata": {},
   "outputs": [
    {
     "name": "stdout",
     "output_type": "stream",
     "text": [
      "['2016-07-01' '2016-07-02' '2016-07-03' '2016-07-04' '2016-07-05'\n",
      " '2016-07-06' '2016-07-07' '2016-07-08' '2016-07-09' '2016-07-10'\n",
      " '2016-07-11' '2016-07-12' '2016-07-13' '2016-07-14' '2016-07-15'\n",
      " '2016-07-16' '2016-07-17' '2016-07-18' '2016-07-19' '2016-07-20'\n",
      " '2016-07-21' '2016-07-22' '2016-07-23' '2016-07-24' '2016-07-25'\n",
      " '2016-07-26' '2016-07-27' '2016-07-28' '2016-07-29' '2016-07-30'\n",
      " '2016-07-31']\n"
     ]
    }
   ],
   "source": [
    "Z = np.arange('2016-07', '2016-08', dtype='datetime64[D]')\n",
    "print(Z)"
   ]
  },
  {
   "cell_type": "markdown",
   "metadata": {},
   "source": [
    "#### 35. How to compute ((A+B)*(-A/2)) in place (without copy)? (★★☆)"
   ]
  },
  {
   "cell_type": "code",
   "execution_count": 11,
   "metadata": {},
   "outputs": [
    {
     "data": {
      "text/plain": [
       "-150.0"
      ]
     },
     "execution_count": 11,
     "metadata": {},
     "output_type": "execute_result"
    }
   ],
   "source": [
    "a = np.array(10)\n",
    "b = np.array(20)\n",
    "np.add(a, b, out=b)\n",
    "np.multiply(b, -a/2)"
   ]
  },
  {
   "cell_type": "markdown",
   "metadata": {},
   "source": [
    "#### 36. Extract the integer part of a random array of positive numbers using 4 different methods (★★☆)"
   ]
  },
  {
   "cell_type": "code",
   "execution_count": 13,
   "metadata": {},
   "outputs": [
    {
     "data": {
      "text/plain": [
       "(array([0.38653296, 0.00337068, 0.55768047, 0.76379655, 0.89811208,\n",
       "        0.91252039, 0.88311815, 0.81174147, 0.30745393, 0.1305743 ]),\n",
       " array([6., 4., 7., 0., 4., 2., 3., 1., 7., 0.]))"
      ]
     },
     "execution_count": 13,
     "metadata": {},
     "output_type": "execute_result"
    }
   ],
   "source": [
    "a = np.random.uniform(0,10,10)\n",
    "np.modf(a)"
   ]
  },
  {
   "cell_type": "code",
   "execution_count": 412,
   "metadata": {},
   "outputs": [
    {
     "name": "stdout",
     "output_type": "stream",
     "text": [
      "[4.53463669 3.22148394 5.04004642 0.35688405 3.15655412 1.54410951\n",
      " 1.73369491 0.93892766 4.65909665 4.09189976]\n"
     ]
    },
    {
     "data": {
      "text/plain": [
       "array([4, 3, 5, 0, 3, 1, 1, 0, 4, 4], dtype=int32)"
      ]
     },
     "execution_count": 412,
     "metadata": {},
     "output_type": "execute_result"
    }
   ],
   "source": [
    "Z = np.random.uniform(0,10,10)\n",
    "\n",
    "print(Z)\n",
    "Z.astype(np.int32)"
   ]
  },
  {
   "cell_type": "markdown",
   "metadata": {},
   "source": [
    "#### 37. Create a 5x5 matrix with row values ranging from 0 to 4 (★★☆)"
   ]
  },
  {
   "cell_type": "code",
   "execution_count": 14,
   "metadata": {},
   "outputs": [
    {
     "name": "stdout",
     "output_type": "stream",
     "text": [
      "[[0 1 2 3 4]\n",
      " [0 1 2 3 4]\n",
      " [0 1 2 3 4]\n",
      " [0 1 2 3 4]\n",
      " [0 1 2 3 4]]\n"
     ]
    },
    {
     "data": {
      "text/plain": [
       "array([[0, 1, 2, 3, 4],\n",
       "       [1, 2, 3, 4, 5],\n",
       "       [2, 3, 4, 5, 6],\n",
       "       [3, 4, 5, 6, 7],\n",
       "       [4, 5, 6, 7, 8]])"
      ]
     },
     "execution_count": 14,
     "metadata": {},
     "output_type": "execute_result"
    }
   ],
   "source": [
    "print(np.array([i for i in range(5)] * 5).reshape(5, 5))\n",
    "np.arange(5)[np.newaxis,  : ] + np.arange(5)[:, np.newaxis]"
   ]
  },
  {
   "cell_type": "code",
   "execution_count": 424,
   "metadata": {},
   "outputs": [
    {
     "name": "stdout",
     "output_type": "stream",
     "text": [
      "[0 1 2 3 4]\n",
      "[[0. 1. 2. 3. 4.]\n",
      " [0. 1. 2. 3. 4.]\n",
      " [0. 1. 2. 3. 4.]\n",
      " [0. 1. 2. 3. 4.]\n",
      " [0. 1. 2. 3. 4.]]\n"
     ]
    }
   ],
   "source": [
    "# Using Broadcast\n",
    "Z = np.zeros((5,5))\n",
    "print(np.arange(5))  \n",
    "Z += np.arange(5)   # [0 1 2 3 4] is broadcasted into (5, 5)\n",
    "print(Z)"
   ]
  },
  {
   "cell_type": "markdown",
   "metadata": {},
   "source": [
    "#### 38. Consider a generator function that generates 10 integers and use it to build an array (★☆☆)"
   ]
  },
  {
   "cell_type": "code",
   "execution_count": 426,
   "metadata": {},
   "outputs": [
    {
     "data": {
      "text/plain": [
       "array([ 5,  6,  7,  8,  9, 10, 11, 12, 13, 14])"
      ]
     },
     "execution_count": 426,
     "metadata": {},
     "output_type": "execute_result"
    }
   ],
   "source": [
    "(lambda x: np.arange(x, x+10, 1))(5)"
   ]
  },
  {
   "cell_type": "code",
   "execution_count": 15,
   "metadata": {},
   "outputs": [
    {
     "data": {
      "text/plain": [
       "array([[0, 1, 2, 3, 4],\n",
       "       [5, 6, 7, 8, 9]], dtype=int32)"
      ]
     },
     "execution_count": 15,
     "metadata": {},
     "output_type": "execute_result"
    }
   ],
   "source": [
    "def f(*args, **kwargs):\n",
    "    yield from range(10)\n",
    "    \n",
    "np.fromiter(f(), dtype=np.int32).reshape((2, 5))"
   ]
  },
  {
   "cell_type": "markdown",
   "metadata": {},
   "source": [
    "#### 39. Create a vector of size 10 with values ranging from 0 to 1, both excluded (★★☆)"
   ]
  },
  {
   "cell_type": "code",
   "execution_count": 436,
   "metadata": {},
   "outputs": [
    {
     "data": {
      "text/plain": [
       "array([0.09090909, 0.18181818, 0.27272727, 0.36363636, 0.45454545,\n",
       "       0.54545455, 0.63636364, 0.72727273, 0.81818182, 0.90909091])"
      ]
     },
     "execution_count": 436,
     "metadata": {},
     "output_type": "execute_result"
    }
   ],
   "source": [
    "np.linspace(\n",
    "    start=0,\n",
    "    stop=1,\n",
    "    num=11,\n",
    "    endpoint=False\n",
    ")[1::]"
   ]
  },
  {
   "cell_type": "code",
   "execution_count": 434,
   "metadata": {},
   "outputs": [
    {
     "name": "stdout",
     "output_type": "stream",
     "text": [
      "[0.09090909 0.18181818 0.27272727 0.36363636 0.45454545 0.54545455\n",
      " 0.63636364 0.72727273 0.81818182 0.90909091]\n"
     ]
    }
   ],
   "source": [
    "Z = np.linspace(0,1,11,endpoint=False)[1:]\n",
    "print(Z)"
   ]
  },
  {
   "cell_type": "markdown",
   "metadata": {},
   "source": [
    "#### 40. Create a random vector of size 10 and sort it (★★☆)"
   ]
  },
  {
   "cell_type": "code",
   "execution_count": 441,
   "metadata": {},
   "outputs": [
    {
     "data": {
      "text/plain": [
       "[0.03189917257536179,\n",
       " 0.16932551232288584,\n",
       " 0.19607497553352382,\n",
       " 0.25250003839966395,\n",
       " 0.2741005874885327,\n",
       " 0.3534499898891531,\n",
       " 0.6694896460337765,\n",
       " 0.7757011646990992,\n",
       " 0.7976975984636301,\n",
       " 0.9078019131499397]"
      ]
     },
     "execution_count": 441,
     "metadata": {},
     "output_type": "execute_result"
    }
   ],
   "source": [
    "sorted([np.random.random() for i in range(10)])"
   ]
  },
  {
   "cell_type": "code",
   "execution_count": 457,
   "metadata": {},
   "outputs": [
    {
     "name": "stdout",
     "output_type": "stream",
     "text": [
      "[[0.0195375  0.76532405 0.40794293]\n",
      " [0.82686827 0.4125267  0.97171053]\n",
      " [0.28994105 0.42363926 0.52729317]]\n",
      "[[0.0195375  0.4125267  0.40794293]\n",
      " [0.28994105 0.42363926 0.52729317]\n",
      " [0.82686827 0.76532405 0.97171053]]\n",
      "[[0.0195375  0.40794293 0.4125267 ]\n",
      " [0.28994105 0.42363926 0.52729317]\n",
      " [0.76532405 0.82686827 0.97171053]]\n"
     ]
    }
   ],
   "source": [
    "Z = np.random.random((3,3))\n",
    "print(Z)\n",
    "\n",
    "Z.sort(axis=0)   # Mutable op to the row direction\n",
    "print(Z)\n",
    "\n",
    "Z.sort(axis=1)   # Mutable op to the column direction\n",
    "print(Z)"
   ]
  },
  {
   "cell_type": "markdown",
   "metadata": {},
   "source": [
    "#### 41. How to sum a small array faster than np.sum? (★★☆)\n",
    "\n",
    "* [What is the difference between np.sum and np.add.reduce?\n",
    "](https://stackoverflow.com/questions/16420097/what-is-the-difference-between-np-sum-and-np-add-reduce)\n",
    "> np.sum ultimately calls add.reduce to do the work. The overhead of handling its argument and dispatching to add.reduce is why np.sum is slower."
   ]
  },
  {
   "cell_type": "code",
   "execution_count": 458,
   "metadata": {},
   "outputs": [
    {
     "data": {
      "text/plain": [
       "45"
      ]
     },
     "execution_count": 458,
     "metadata": {},
     "output_type": "execute_result"
    }
   ],
   "source": [
    "np.add.reduce(np.arange(10))"
   ]
  },
  {
   "cell_type": "markdown",
   "metadata": {},
   "source": [
    "#### 42. Consider two random array A and B, check if they are equal (★★☆)"
   ]
  },
  {
   "cell_type": "code",
   "execution_count": 465,
   "metadata": {},
   "outputs": [
    {
     "data": {
      "text/plain": [
       "False"
      ]
     },
     "execution_count": 465,
     "metadata": {},
     "output_type": "execute_result"
    }
   ],
   "source": [
    "np.array_equal(np.ones((5, 3)), np.ones((3, 3)))"
   ]
  },
  {
   "cell_type": "code",
   "execution_count": 466,
   "metadata": {},
   "outputs": [
    {
     "ename": "ValueError",
     "evalue": "operands could not be broadcast together with shapes (5,3) (3,3) ",
     "output_type": "error",
     "traceback": [
      "\u001b[0;31m---------------------------------------------------------------------------\u001b[0m",
      "\u001b[0;31mValueError\u001b[0m                                Traceback (most recent call last)",
      "\u001b[0;32m<ipython-input-466-fc66afcf00a9>\u001b[0m in \u001b[0;36m<module>\u001b[0;34m\u001b[0m\n\u001b[0;32m----> 1\u001b[0;31m \u001b[0mnp\u001b[0m\u001b[0;34m.\u001b[0m\u001b[0mequal\u001b[0m\u001b[0;34m(\u001b[0m\u001b[0mnp\u001b[0m\u001b[0;34m.\u001b[0m\u001b[0mones\u001b[0m\u001b[0;34m(\u001b[0m\u001b[0;34m(\u001b[0m\u001b[0;36m5\u001b[0m\u001b[0;34m,\u001b[0m \u001b[0;36m3\u001b[0m\u001b[0;34m)\u001b[0m\u001b[0;34m)\u001b[0m\u001b[0;34m,\u001b[0m \u001b[0mnp\u001b[0m\u001b[0;34m.\u001b[0m\u001b[0mones\u001b[0m\u001b[0;34m(\u001b[0m\u001b[0;34m(\u001b[0m\u001b[0;36m3\u001b[0m\u001b[0;34m,\u001b[0m \u001b[0;36m3\u001b[0m\u001b[0;34m)\u001b[0m\u001b[0;34m)\u001b[0m\u001b[0;34m)\u001b[0m\u001b[0;34m\u001b[0m\u001b[0;34m\u001b[0m\u001b[0m\n\u001b[0m",
      "\u001b[0;31mValueError\u001b[0m: operands could not be broadcast together with shapes (5,3) (3,3) "
     ]
    }
   ],
   "source": [
    "np.equal(np.ones((5, 3)), np.ones((3, 3)))"
   ]
  },
  {
   "cell_type": "code",
   "execution_count": 468,
   "metadata": {},
   "outputs": [
    {
     "data": {
      "text/plain": [
       "array([[ True,  True,  True],\n",
       "       [ True,  True,  True],\n",
       "       [ True,  True,  True]])"
      ]
     },
     "execution_count": 468,
     "metadata": {},
     "output_type": "execute_result"
    }
   ],
   "source": [
    "np.equal(np.ones((3, 3)), np.ones((3, 3)))"
   ]
  },
  {
   "cell_type": "code",
   "execution_count": 469,
   "metadata": {},
   "outputs": [
    {
     "data": {
      "text/plain": [
       "True"
      ]
     },
     "execution_count": 469,
     "metadata": {},
     "output_type": "execute_result"
    }
   ],
   "source": [
    "np.equal(np.ones((3, 3)), np.ones((3, 3))).all()"
   ]
  },
  {
   "cell_type": "markdown",
   "metadata": {},
   "source": [
    "#### 43. Make an array immutable (read-only) (★★☆)"
   ]
  },
  {
   "cell_type": "code",
   "execution_count": 476,
   "metadata": {},
   "outputs": [
    {
     "ename": "ValueError",
     "evalue": "output array is read-only",
     "output_type": "error",
     "traceback": [
      "\u001b[0;31m---------------------------------------------------------------------------\u001b[0m",
      "\u001b[0;31mValueError\u001b[0m                                Traceback (most recent call last)",
      "\u001b[0;32m<ipython-input-476-3d2c63692d35>\u001b[0m in \u001b[0;36m<module>\u001b[0;34m\u001b[0m\n\u001b[1;32m      1\u001b[0m \u001b[0ma\u001b[0m \u001b[0;34m=\u001b[0m \u001b[0mnp\u001b[0m\u001b[0;34m.\u001b[0m\u001b[0mrandom\u001b[0m\u001b[0;34m.\u001b[0m\u001b[0mrandom\u001b[0m\u001b[0;34m(\u001b[0m\u001b[0;34m(\u001b[0m\u001b[0;36m5\u001b[0m\u001b[0;34m,\u001b[0m\u001b[0;36m3\u001b[0m\u001b[0;34m)\u001b[0m\u001b[0;34m)\u001b[0m\u001b[0;34m\u001b[0m\u001b[0;34m\u001b[0m\u001b[0m\n\u001b[1;32m      2\u001b[0m \u001b[0ma\u001b[0m\u001b[0;34m.\u001b[0m\u001b[0mflags\u001b[0m\u001b[0;34m.\u001b[0m\u001b[0mwriteable\u001b[0m \u001b[0;34m=\u001b[0m \u001b[0;32mFalse\u001b[0m\u001b[0;34m\u001b[0m\u001b[0;34m\u001b[0m\u001b[0m\n\u001b[0;32m----> 3\u001b[0;31m \u001b[0ma\u001b[0m \u001b[0;34m+=\u001b[0m\u001b[0;36m1\u001b[0m\u001b[0;34m\u001b[0m\u001b[0;34m\u001b[0m\u001b[0m\n\u001b[0m",
      "\u001b[0;31mValueError\u001b[0m: output array is read-only"
     ]
    }
   ],
   "source": [
    "a = np.random.random((5,3))\n",
    "a.flags.writeable = False\n",
    "a +=1"
   ]
  },
  {
   "cell_type": "markdown",
   "metadata": {},
   "source": [
    "#### 44. Consider a random 10x2 matrix representing cartesian coordinates, convert them to polar coordinates (★★☆)"
   ]
  },
  {
   "cell_type": "code",
   "execution_count": null,
   "metadata": {},
   "outputs": [],
   "source": []
  },
  {
   "cell_type": "code",
   "execution_count": 583,
   "metadata": {},
   "outputs": [
    {
     "name": "stdout",
     "output_type": "stream",
     "text": [
      "X is :\n",
      "[[0 0 0 0 0 0 0]\n",
      " [0 0 0 0 0 0 0]\n",
      " [0 0 0 0 0 0 0]\n",
      " [0 0 0 0 0 0 0]\n",
      " [0 0 1 0 0 0 0]\n",
      " [0 0 0 1 0 0 0]]\n",
      "\n",
      "Y is :\n",
      "[[0 0 0 0 0 0 0]\n",
      " [0 0 0 0 0 0 0]\n",
      " [0 0 0 1 0 0 0]\n",
      " [0 0 0 0 0 0 0]\n",
      " [0 0 0 0 0 1 0]\n",
      " [0 0 0 0 0 0 0]]\n",
      "\n"
     ]
    }
   ],
   "source": [
    "shape = (6, 7)\n",
    "X = np.zeros(shape, dtype=int)\n",
    "X[(4, 2)] = 1\n",
    "X[(5, 3)] = 1\n",
    "print(\"X is :\\n{}\\n\".format(X))\n",
    "\n",
    "Y = np.zeros(shape, dtype=int)\n",
    "Y[(4, 2), (5, 3)] = 1\n",
    "print(\"Y is :\\n{}\\n\".format(Y))"
   ]
  },
  {
   "cell_type": "code",
   "execution_count": 596,
   "metadata": {},
   "outputs": [
    {
     "name": "stdout",
     "output_type": "stream",
     "text": [
      "X is:\n",
      "[[0 0 0 0 0 0 0]\n",
      " [0 1 0 0 0 0 0]\n",
      " [0 0 0 0 0 0 0]\n",
      " [0 0 0 0 0 0 0]\n",
      " [0 0 1 0 0 0 0]\n",
      " [0 0 0 1 0 0 0]]\n",
      "\n",
      "Indices (row, col) are:\n",
      "[[4 2]\n",
      " [5 3]\n",
      " [1 1]]\n",
      "\n",
      "X indices where value is non zero: (array([ 8, 30, 38]),)\n",
      "\n",
      "X flat indices of \n",
      "[[4 2]\n",
      " [5 3]\n",
      " [1 1]] \n",
      " into a nd array of shape (6, 7) are [30 38  8]\n"
     ]
    }
   ],
   "source": [
    "# --------------------------------------------------------------------------------\n",
    "# Target nd array X\n",
    "# --------------------------------------------------------------------------------\n",
    "shape = (6, 7)\n",
    "X = np.zeros(shape, dtype=int)\n",
    "\n",
    "# Same with X[(4, 5, 1), (2, 3, 1)] = 1\n",
    "X[ 4, 2 ] = 1\n",
    "X[(5, 3)] = 1\n",
    "X[(1, 1)] = 1\n",
    "print(\"X is:\\n{}\\n\".format(X))\n",
    "\n",
    "\n",
    "# --------------------------------------------------------------------------------\n",
    "# Indices\n",
    "# --------------------------------------------------------------------------------\n",
    "per_dimensional_indices = np.array([\n",
    "    [4, 5, 1],  # For dimension 2\n",
    "    [2, 3, 1],  # For dimension 1\n",
    "])\n",
    "# Transpose of per_dimensional_indices is [(row, col)*] indices\n",
    "print(\"Indices (row, col) are:\\n{}\\n\".format(per_dimensional_indices.T))\n",
    "\n",
    "\n",
    "# --------------------------------------------------------------------------------\n",
    "# Flat indeices to the non-zero elements\n",
    "# --------------------------------------------------------------------------------\n",
    "# np.ravel(a, order='C') to flatten and np.nonzero(a) for non-zero element indices.\n",
    "# When only condition is provided, np.where is a shorthand for np.asarray(condition).nonzero()\n",
    "# numpy.nonzero(a) return the indices of the elements that are non-zero.\n",
    "condition = (X.ravel() == 1)\n",
    "print(\"X indices where value is non zero: {}\\n\".format(np.where(condition)))\n",
    "\n",
    "# np.ravel_multi_index(multi_index, dims) to convert into flat inices.\n",
    "print(\"X flat indices of \\n{} \\n into a nd array of shape {} are {}\".format(\n",
    "    per_dimensional_indices.T,\n",
    "    shape,\n",
    "    np.ravel_multi_index(\n",
    "        multi_index=per_dimensional_indices, # One array for each dimension, NOT an index (4, 2)\n",
    "        dims=shape\n",
    "    )\n",
    "))"
   ]
  },
  {
   "cell_type": "markdown",
   "metadata": {},
   "source": [
    "#### 45. Create random vector of size 10 and replace the maximum value by 0 (★★☆)"
   ]
  },
  {
   "cell_type": "code",
   "execution_count": 601,
   "metadata": {},
   "outputs": [
    {
     "name": "stdout",
     "output_type": "stream",
     "text": [
      "[[[0.72804267 0.70472039 0.74884177 0.91117708]\n",
      "  [0.65951272 0.33750482 0.70375701 0.26292579]\n",
      "  [0.13170144 0.45042128 0.10979338 0.76123296]]\n",
      "\n",
      " [[0.45796694 0.16995102 0.97065454 0.37903716]\n",
      "  [0.61116253 0.87424378 0.61114847 0.64561804]\n",
      "  [0.24363055 0.6201267  0.73608913 0.77634606]]]\n",
      "0.9706545381749268\n",
      "Flat index = 14, indices = (1, 0, 2)\n",
      "\n",
      "max value via the flat index[14] 0.9706545381749268\n",
      "max value via ndarray[(1, 0, 2)] 0.9706545381749268\n"
     ]
    },
    {
     "data": {
      "text/plain": [
       "array([[[0.72804267, 0.70472039, 0.74884177, 0.91117708],\n",
       "        [0.65951272, 0.33750482, 0.70375701, 0.26292579],\n",
       "        [0.13170144, 0.45042128, 0.10979338, 0.76123296]],\n",
       "\n",
       "       [[0.45796694, 0.16995102, 0.        , 0.37903716],\n",
       "        [0.61116253, 0.87424378, 0.61114847, 0.64561804],\n",
       "        [0.24363055, 0.6201267 , 0.73608913, 0.77634606]]])"
      ]
     },
     "execution_count": 601,
     "metadata": {},
     "output_type": "execute_result"
    }
   ],
   "source": [
    "a = np.random.random((2, 3, 4))\n",
    "print(a)\n",
    "print(a.max())\n",
    "\n",
    "# By default, the index is into the flattened array, otherwise along the specified axis.\n",
    "index = a.argmax(axis=None)\n",
    "indices = np.unravel_index(index, a.shape)\n",
    "print(\"Flat index = {}, indices = {}\\n\".format(index, indices))\n",
    "\n",
    "# ndarray.flat is a 1-D iterator over the array.\n",
    "print(\"max value via the flat index[{}] {}\".format(index, a.flat[index]))\n",
    "\n",
    "print(\"max value via ndarray[{}] {}\".format(indices, a[indices]))\n",
    "\n",
    "a.flat[a.argmax(axis=None)] = 0\n",
    "a"
   ]
  },
  {
   "cell_type": "code",
   "execution_count": 16,
   "metadata": {},
   "outputs": [
    {
     "data": {
      "text/plain": [
       "array([55, 85, 31,  3, 13,  0,  1, 67, 83, 43])"
      ]
     },
     "execution_count": 16,
     "metadata": {},
     "output_type": "execute_result"
    }
   ],
   "source": [
    "a = np.random.randint(low=0, high=100, size=10)\n",
    "a[np.argmax(a)] = 0\n",
    "a"
   ]
  },
  {
   "cell_type": "markdown",
   "metadata": {},
   "source": [
    "#### 46. Create a structured array with `x` and `y` coordinates covering the [0,1]x[0,1] area (★★☆)"
   ]
  },
  {
   "cell_type": "code",
   "execution_count": 17,
   "metadata": {},
   "outputs": [
    {
     "data": {
      "text/plain": [
       "array([[ 0.88407913, -1.06784403],\n",
       "       [ 0.88407913, -1.43683605],\n",
       "       [ 0.88407913, -0.49631834],\n",
       "       [ 0.88407913,  0.38386394],\n",
       "       [-1.06784403,  0.88407913],\n",
       "       [-1.06784403, -1.43683605],\n",
       "       [-1.06784403, -0.49631834],\n",
       "       [-1.06784403,  0.38386394],\n",
       "       [-1.43683605,  0.88407913],\n",
       "       [-1.43683605, -1.06784403],\n",
       "       [-1.43683605, -0.49631834],\n",
       "       [-1.43683605,  0.38386394],\n",
       "       [-0.49631834,  0.88407913],\n",
       "       [-0.49631834, -1.06784403],\n",
       "       [-0.49631834, -1.43683605],\n",
       "       [-0.49631834,  0.38386394],\n",
       "       [ 0.38386394,  0.88407913],\n",
       "       [ 0.38386394, -1.06784403],\n",
       "       [ 0.38386394, -1.43683605],\n",
       "       [ 0.38386394, -0.49631834]])"
      ]
     },
     "execution_count": 17,
     "metadata": {},
     "output_type": "execute_result"
    }
   ],
   "source": [
    "x = np.random.randn(5)\n",
    "from itertools import permutations\n",
    "\n",
    "np.array(list(permutations(x, 2)))"
   ]
  },
  {
   "cell_type": "code",
   "execution_count": 613,
   "metadata": {},
   "outputs": [
    {
     "name": "stderr",
     "output_type": "stream",
     "text": [
      "<ipython-input-613-3a53d564f050>:1: FutureWarning: Passing (type, 1) or '1type' as a synonym of type is deprecated; in a future version of numpy, it will be understood as (type, (1,)) / '(1,)type'.\n",
      "  coordinate_type = np.dtype([\n"
     ]
    },
    {
     "data": {
      "text/plain": [
       "array([[(0, 0), (0, 0), (0, 0), (0, 0), (0, 0)],\n",
       "       [(0, 0), (0, 0), (0, 0), (0, 0), (0, 0)],\n",
       "       [(0, 0), (0, 0), (0, 0), (0, 0), (0, 0)],\n",
       "       [(0, 0), (0, 0), (0, 0), (0, 0), (0, 0)],\n",
       "       [(0, 0), (0, 0), (0, 0), (0, 0), (0, 0)]],\n",
       "      dtype=[('x', '<i4'), ('y', '<i4')])"
      ]
     },
     "execution_count": 613,
     "metadata": {},
     "output_type": "execute_result"
    }
   ],
   "source": [
    "coordinate_type = np.dtype([\n",
    "    ('x', np.int32, 1),  # To be deprecated to work as \"only one element\" which is NOT (1, ) as array\n",
    "    ('y', np.int32)\n",
    "])\n",
    "a = np.zeros((5, 5), dtype=coordinate_type)\n",
    "a"
   ]
  },
  {
   "cell_type": "code",
   "execution_count": 607,
   "metadata": {},
   "outputs": [
    {
     "data": {
      "text/plain": [
       "array([[(0., 0.), (0., 0.), (0., 0.), (0., 0.), (0., 0.)],\n",
       "       [(0., 0.), (0., 0.), (0., 0.), (0., 0.), (0., 0.)],\n",
       "       [(0., 0.), (0., 0.), (0., 0.), (0., 0.), (0., 0.)],\n",
       "       [(0., 0.), (0., 0.), (0., 0.), (0., 0.), (0., 0.)],\n",
       "       [(0., 0.), (0., 0.), (0., 0.), (0., 0.), (0., 0.)]],\n",
       "      dtype=[('x', '<f8'), ('y', '<f8')])"
      ]
     },
     "execution_count": 607,
     "metadata": {},
     "output_type": "execute_result"
    }
   ],
   "source": [
    "Z = np.zeros((5,5), [('x',float),('y',float)])\n",
    "Z"
   ]
  },
  {
   "cell_type": "markdown",
   "metadata": {},
   "source": [
    "#### 47. Given two arrays, X and Y, construct the Cauchy matrix C (Cij =1/(xi - yj))"
   ]
  },
  {
   "cell_type": "code",
   "execution_count": 23,
   "metadata": {},
   "outputs": [
    {
     "data": {
      "text/plain": [
       "array([[-2.        , -0.66666667, -0.4       , -0.28571429, -0.22222222],\n",
       "       [ 2.        , -2.        , -0.66666667, -0.4       , -0.28571429],\n",
       "       [ 0.66666667,  2.        , -2.        , -0.66666667, -0.4       ],\n",
       "       [ 0.4       ,  0.66666667,  2.        , -2.        , -0.66666667],\n",
       "       [ 0.28571429,  0.4       ,  0.66666667,  2.        , -2.        ]])"
      ]
     },
     "execution_count": 23,
     "metadata": {},
     "output_type": "execute_result"
    }
   ],
   "source": [
    "x = np.arange(5)\n",
    "y = x + 0.5\n",
    "(1 / (x[np.newaxis, :] - y[:, np.newaxis])).T"
   ]
  },
  {
   "cell_type": "code",
   "execution_count": 27,
   "metadata": {},
   "outputs": [
    {
     "data": {
      "text/plain": [
       "array([[-2.        , -0.66666667, -0.4       , -0.28571429, -0.22222222],\n",
       "       [ 2.        , -2.        , -0.66666667, -0.4       , -0.28571429],\n",
       "       [ 0.66666667,  2.        , -2.        , -0.66666667, -0.4       ],\n",
       "       [ 0.4       ,  0.66666667,  2.        , -2.        , -0.66666667],\n",
       "       [ 0.28571429,  0.4       ,  0.66666667,  2.        , -2.        ]])"
      ]
     },
     "execution_count": 27,
     "metadata": {},
     "output_type": "execute_result"
    }
   ],
   "source": [
    "1.0 / np.subtract.outer(x, y)"
   ]
  },
  {
   "cell_type": "markdown",
   "metadata": {},
   "source": [
    "#### 48. Print the minimum and maximum representable value for each numpy scalar type (★★☆)"
   ]
  },
  {
   "cell_type": "code",
   "execution_count": 617,
   "metadata": {},
   "outputs": [
    {
     "name": "stdout",
     "output_type": "stream",
     "text": [
      "Machine parameters for int16\n",
      "---------------------------------------------------------------\n",
      "min = -32768\n",
      "max = 32767\n",
      "---------------------------------------------------------------\n",
      "\n",
      "Machine parameters for int32\n",
      "---------------------------------------------------------------\n",
      "min = -2147483648\n",
      "max = 2147483647\n",
      "---------------------------------------------------------------\n",
      "\n",
      "Machine parameters for int64\n",
      "---------------------------------------------------------------\n",
      "min = -9223372036854775808\n",
      "max = 9223372036854775807\n",
      "---------------------------------------------------------------\n",
      "\n",
      "-3.4028235e+38\n",
      "3.4028235e+38\n",
      "1.1920929e-07\n",
      "-1.7976931348623157e+308\n",
      "1.7976931348623157e+308\n",
      "2.220446049250313e-16\n"
     ]
    }
   ],
   "source": [
    "print(np.iinfo(np.int16))\n",
    "print(np.iinfo(np.int32))\n",
    "print(np.iinfo(np.int64))\n",
    "for dtype in [np.float32, np.float64]:\n",
    "    print(np.finfo(dtype).min)\n",
    "    print(np.finfo(dtype).max)\n",
    "    print(np.finfo(dtype).eps)"
   ]
  },
  {
   "cell_type": "markdown",
   "metadata": {},
   "source": [
    "#### 49. How to print all the values of an array? (★★☆)"
   ]
  },
  {
   "cell_type": "code",
   "execution_count": 619,
   "metadata": {},
   "outputs": [
    {
     "name": "stdout",
     "output_type": "stream",
     "text": [
      "0\n",
      "1\n",
      "2\n",
      "3\n",
      "4\n",
      "5\n",
      "6\n",
      "7\n",
      "8\n",
      "9\n"
     ]
    },
    {
     "data": {
      "text/plain": [
       "[None, None, None, None, None, None, None, None, None, None]"
      ]
     },
     "execution_count": 619,
     "metadata": {},
     "output_type": "execute_result"
    }
   ],
   "source": [
    "[print(v) for v in np.arange(10)] "
   ]
  },
  {
   "cell_type": "markdown",
   "metadata": {},
   "source": [
    "#### 50. How to find the closest value (to a given scalar) in a vector? (★★☆)"
   ]
  },
  {
   "cell_type": "code",
   "execution_count": 625,
   "metadata": {},
   "outputs": [
    {
     "name": "stdout",
     "output_type": "stream",
     "text": [
      "[[0.20538748 0.03945493 0.839284   0.13524009 0.34927931]\n",
      " [0.94446203 0.23738962 0.59980789 0.98253086 0.06534221]\n",
      " [0.80734476 0.99991365 0.07303701 0.00998838 0.69304775]\n",
      " [0.0207284  0.44051771 0.68712596 0.07761618 0.79084154]\n",
      " [0.80465451 0.7405007  0.53566212 0.42190955 0.46984143]]\n",
      "0.4788363230001724\n"
     ]
    },
    {
     "data": {
      "text/plain": [
       "0.46984143218549057"
      ]
     },
     "execution_count": 625,
     "metadata": {},
     "output_type": "execute_result"
    }
   ],
   "source": [
    "a = np.random.random((5, 5))\n",
    "v = a.mean()\n",
    "print(a)\n",
    "print(v)\n",
    "a.flat[np.abs((a - v)).argmin()]"
   ]
  },
  {
   "cell_type": "markdown",
   "metadata": {},
   "source": [
    "#### 51. Create a structured array representing a position (x,y) and a color (r,g,b) (★★☆)"
   ]
  },
  {
   "cell_type": "code",
   "execution_count": 24,
   "metadata": {},
   "outputs": [
    {
     "name": "stdout",
     "output_type": "stream",
     "text": [
      "[((-1, -1), (-1, -1, -1)) ((-2, -2), (-2, -2, -2))]\n",
      "[((1, 1), (1, 1, 1)) ((2, 2), (2, 2, 2))]\n"
     ]
    },
    {
     "ename": "ValueError",
     "evalue": "no fill-function for data-type.",
     "output_type": "error",
     "traceback": [
      "\u001b[0;31m---------------------------------------------------------------------------\u001b[0m",
      "\u001b[0;31mValueError\u001b[0m                                Traceback (most recent call last)",
      "Input \u001b[0;32mIn [24]\u001b[0m, in \u001b[0;36m<cell line: 18>\u001b[0;34m()\u001b[0m\n\u001b[1;32m     15\u001b[0m \u001b[38;5;28mprint\u001b[39m(np\u001b[38;5;241m.\u001b[39marange(start\u001b[38;5;241m=\u001b[39m\u001b[38;5;241m-\u001b[39m\u001b[38;5;241m1\u001b[39m, stop\u001b[38;5;241m=\u001b[39m\u001b[38;5;241m-\u001b[39m\u001b[38;5;241m3\u001b[39m, step\u001b[38;5;241m=\u001b[39m\u001b[38;5;241m-\u001b[39m\u001b[38;5;241m1\u001b[39m, dtype\u001b[38;5;241m=\u001b[39mpixel_type))\n\u001b[1;32m     16\u001b[0m \u001b[38;5;28mprint\u001b[39m(np\u001b[38;5;241m.\u001b[39marange(start\u001b[38;5;241m=\u001b[39m\u001b[38;5;241m1\u001b[39m, stop\u001b[38;5;241m=\u001b[39m\u001b[38;5;241m3\u001b[39m, step\u001b[38;5;241m=\u001b[39m\u001b[38;5;241m1\u001b[39m, dtype\u001b[38;5;241m=\u001b[39mpixel_type))\n\u001b[0;32m---> 18\u001b[0m \u001b[38;5;28mprint\u001b[39m(\u001b[43mnp\u001b[49m\u001b[38;5;241;43m.\u001b[39;49m\u001b[43marange\u001b[49m\u001b[43m(\u001b[49m\u001b[43mstart\u001b[49m\u001b[38;5;241;43m=\u001b[39;49m\u001b[38;5;241;43m0\u001b[39;49m\u001b[43m,\u001b[49m\u001b[43m \u001b[49m\u001b[43mstop\u001b[49m\u001b[38;5;241;43m=\u001b[39;49m\u001b[38;5;241;43m3\u001b[39;49m\u001b[43m,\u001b[49m\u001b[43m \u001b[49m\u001b[43mstep\u001b[49m\u001b[38;5;241;43m=\u001b[39;49m\u001b[38;5;241;43m1\u001b[39;49m\u001b[43m,\u001b[49m\u001b[43m \u001b[49m\u001b[43mdtype\u001b[49m\u001b[38;5;241;43m=\u001b[39;49m\u001b[43mpixel_type\u001b[49m\u001b[43m)\u001b[49m)\n",
      "\u001b[0;31mValueError\u001b[0m: no fill-function for data-type."
     ]
    }
   ],
   "source": [
    "position_type = np.dtype([\n",
    "    ('x', np.int32),\n",
    "    ('y', np.int32)\n",
    "])\n",
    "color_type = np.dtype([\n",
    "    ('r', np.int32),\n",
    "    ('g', np.int32),\n",
    "    ('b', np.int32)    \n",
    "])\n",
    "pixel_type = np.dtype([\n",
    "    ('position', position_type),\n",
    "    ('color', color_type)\n",
    "])\n",
    "\n",
    "print(np.arange(start=-1, stop=-3, step=-1, dtype=pixel_type))\n",
    "print(np.arange(start=1, stop=3, step=1, dtype=pixel_type))\n",
    "\n",
    "print(np.arange(start=0, stop=3, step=1, dtype=pixel_type))"
   ]
  },
  {
   "cell_type": "markdown",
   "metadata": {},
   "source": [
    "#### 52. Consider a random vector with shape (100,2) representing coordinates, find point by point distances (★★☆)"
   ]
  },
  {
   "cell_type": "code",
   "execution_count": 41,
   "metadata": {},
   "outputs": [
    {
     "name": "stdout",
     "output_type": "stream",
     "text": [
      "[[1, 1], [1, 1], [1, 1], [1, 1], [1, 1]]\n",
      "[[9.47743968 8.60682597]\n",
      " [7.35620992 6.87031756]\n",
      " [5.05200433 3.62373581]\n",
      " [4.33732145 3.72994235]\n",
      " [4.34982473 4.46453609]]\n",
      "[[9.47743968 7.35620992 5.05200433 4.33732145 4.34982473]\n",
      " [8.60682597 6.87031756 3.62373581 3.72994235 4.46453609]]\n"
     ]
    },
    {
     "data": {
      "text/plain": [
       "array([[9.47743968, 8.60682597],\n",
       "       [7.35620992, 6.87031756],\n",
       "       [5.05200433, 3.62373581],\n",
       "       [4.33732145, 3.72994235],\n",
       "       [4.34982473, 4.46453609]])"
      ]
     },
     "execution_count": 41,
     "metadata": {},
     "output_type": "execute_result"
    }
   ],
   "source": [
    "shape = np.array([5, 2])\n",
    "identity = ([[1, 1] for i in range(5)])\n",
    "print(identity)\n",
    "a = np.random.random(shape) * 10\n",
    "print(a)\n",
    "print(a.T)\n",
    "np.multiply(a, identity)"
   ]
  },
  {
   "cell_type": "code",
   "execution_count": 44,
   "metadata": {},
   "outputs": [
    {
     "data": {
      "text/plain": [
       "array([2.74136411, 6.6645079 , 7.08553522, 6.59173729, 3.9811627 ,\n",
       "       4.35610423, 3.85047223, 0.72253128, 1.09544571, 0.73470014])"
      ]
     },
     "execution_count": 44,
     "metadata": {},
     "output_type": "execute_result"
    }
   ],
   "source": [
    "import scipy.spatial\n",
    "scipy.spatial.distance.pdist(X)"
   ]
  },
  {
   "cell_type": "code",
   "execution_count": 56,
   "metadata": {},
   "outputs": [
    {
     "name": "stdout",
     "output_type": "stream",
     "text": [
      "X\n",
      "[[9.47743968 7.35620992 5.05200433 4.33732145 4.34982473]]\n",
      "\n",
      "X.T\n",
      "[[9.47743968]\n",
      " [7.35620992]\n",
      " [5.05200433]\n",
      " [4.33732145]\n",
      " [4.34982473]]\n",
      "\n",
      "X-X.T \n",
      "[[ 0.         -2.12122976 -4.42543535 -5.14011823 -5.12761495]\n",
      " [ 2.12122976  0.         -2.30420559 -3.01888847 -3.00638519]\n",
      " [ 4.42543535  2.30420559  0.         -0.71468288 -0.7021796 ]\n",
      " [ 5.14011823  3.01888847  0.71468288  0.          0.01250328]\n",
      " [ 5.12761495  3.00638519  0.7021796  -0.01250328  0.        ]]\n",
      "\n",
      "X.T-X \n",
      "[[ 0.         -2.12122976 -4.42543535 -5.14011823 -5.12761495]\n",
      " [ 2.12122976  0.         -2.30420559 -3.01888847 -3.00638519]\n",
      " [ 4.42543535  2.30420559  0.         -0.71468288 -0.7021796 ]\n",
      " [ 5.14011823  3.01888847  0.71468288  0.          0.01250328]\n",
      " [ 5.12761495  3.00638519  0.7021796  -0.01250328  0.        ]]\n",
      "\n",
      "[[0.         2.74136411 6.6645079  7.08553522 6.59173729]\n",
      " [2.74136411 0.         3.9811627  4.35610423 3.85047223]\n",
      " [6.6645079  3.9811627  0.         0.72253128 1.09544571]\n",
      " [7.08553522 4.35610423 0.72253128 0.         0.73470014]\n",
      " [6.59173729 3.85047223 1.09544571 0.73470014 0.        ]]\n"
     ]
    }
   ],
   "source": [
    "X,Y = np.atleast_2d(a[:,0], a[:,1])\n",
    "print(\"X\\n{}\\n\".format(X))\n",
    "print(\"X.T\\n{}\\n\".format(X.T))\n",
    "print(\"X-X.T \\n{}\\n\".format(X-X.T))\n",
    "#print(\"X.T-X \\n{}\\n\".format(X-X.T))\n",
    "\n",
    "D = np.sqrt( (X-X.T)**2 + (Y-Y.T)**2)\n",
    "print(D)"
   ]
  },
  {
   "cell_type": "code",
   "execution_count": 44,
   "metadata": {},
   "outputs": [
    {
     "name": "stdout",
     "output_type": "stream",
     "text": [
      "[[0.89040545 0.45640201]\n",
      " [0.81887744 0.14263027]\n",
      " [0.00509963 0.41263332]\n",
      " [0.80592414 0.50974166]\n",
      " [0.38134466 0.75173631]]\n"
     ]
    },
    {
     "data": {
      "text/plain": [
       "array([[0.        , 0.32182132, 0.8863871 , 0.09991101, 0.58852803],\n",
       "       [0.32182132, 0.        , 0.85740071, 0.36733985, 0.7499634 ],\n",
       "       [0.8863871 , 0.85740071, 0.        , 0.80669072, 0.50650879],\n",
       "       [0.09991101, 0.36733985, 0.80669072, 0.        , 0.48870149],\n",
       "       [0.58852803, 0.7499634 , 0.50650879, 0.48870149, 0.        ]])"
      ]
     },
     "execution_count": 44,
     "metadata": {},
     "output_type": "execute_result"
    }
   ],
   "source": [
    "# https://stackoverflow.com/a/65402572/4281353\n",
    "shape = (5,2)\n",
    "X = np.random.random(shape)\n",
    "print(X)\n",
    "# X[:,0] --> x values\n",
    "# X[:,1] --> y values\n",
    "dist = np.sum((X[:,np.newaxis,:] - X[np.newaxis,:,:]) ** 2, axis = -1)\n",
    "np.sqrt(dist)"
   ]
  },
  {
   "cell_type": "code",
   "execution_count": 51,
   "metadata": {},
   "outputs": [
    {
     "data": {
      "text/plain": [
       "array([0.89040545, 0.45640201])"
      ]
     },
     "execution_count": 51,
     "metadata": {},
     "output_type": "execute_result"
    }
   ],
   "source": [
    "X[\n",
    "    (0),\n",
    "    (0, 1)\n",
    "]"
   ]
  },
  {
   "cell_type": "code",
   "execution_count": 47,
   "metadata": {},
   "outputs": [
    {
     "data": {
      "text/plain": [
       "array([[[0.89040545, 0.45640201]],\n",
       "\n",
       "       [[0.81887744, 0.14263027]],\n",
       "\n",
       "       [[0.00509963, 0.41263332]],\n",
       "\n",
       "       [[0.80592414, 0.50974166]],\n",
       "\n",
       "       [[0.38134466, 0.75173631]]])"
      ]
     },
     "execution_count": 47,
     "metadata": {},
     "output_type": "execute_result"
    }
   ],
   "source": [
    "X[:,np.newaxis,:]"
   ]
  },
  {
   "cell_type": "code",
   "execution_count": 46,
   "metadata": {},
   "outputs": [
    {
     "data": {
      "text/plain": [
       "array([[[0.89040545, 0.45640201],\n",
       "        [0.81887744, 0.14263027],\n",
       "        [0.00509963, 0.41263332],\n",
       "        [0.80592414, 0.50974166],\n",
       "        [0.38134466, 0.75173631]]])"
      ]
     },
     "execution_count": 46,
     "metadata": {},
     "output_type": "execute_result"
    }
   ],
   "source": [
    "X[np.newaxis,:,:]"
   ]
  },
  {
   "cell_type": "code",
   "execution_count": 48,
   "metadata": {},
   "outputs": [
    {
     "data": {
      "text/plain": [
       "array([[[0.89040545],\n",
       "        [0.45640201]],\n",
       "\n",
       "       [[0.81887744],\n",
       "        [0.14263027]],\n",
       "\n",
       "       [[0.00509963],\n",
       "        [0.41263332]],\n",
       "\n",
       "       [[0.80592414],\n",
       "        [0.50974166]],\n",
       "\n",
       "       [[0.38134466],\n",
       "        [0.75173631]]])"
      ]
     },
     "execution_count": 48,
     "metadata": {},
     "output_type": "execute_result"
    }
   ],
   "source": [
    "X[:,:,np.newaxis]"
   ]
  },
  {
   "cell_type": "code",
   "execution_count": 37,
   "metadata": {},
   "outputs": [
    {
     "name": "stdout",
     "output_type": "stream",
     "text": [
      "a as shape(4,) is [ 0. 10. 20. 30.] before newaxis.\n",
      "b as shape(3,) is [1. 2. 3.].\n",
      "(a.shape(4,) + b.shape(3,)) causes 'operands could not be broadcast together with shapes (4,) (3,) '.\n",
      "\n",
      "a.shape after a[:, newaxis] is (4, 1).\n",
      "shape a(4, 1) + b(3,) streach both arrays into shape(4, 3) and produce:\n",
      "[[ 1.  2.  3.]\n",
      " [11. 12. 13.]\n",
      " [21. 22. 23.]\n",
      " [31. 32. 33.]]\n"
     ]
    }
   ],
   "source": [
    "from numpy import array, newaxis\n",
    "a = array([0.0, 10.0, 20.0, 30.0])\n",
    "b = array([1.0, 2.0, 3.0])\n",
    "\n",
    "print(\"a as shape{} is {} before newaxis.\".format(a.shape, a))\n",
    "print(\"b as shape{} is {}.\".format(b.shape, b))\n",
    "\n",
    "try:\n",
    "    print(a + b)\n",
    "except ValueError as e:\n",
    "    print(\"(a.shape{} + b.shape{}) causes '{}'.\\n\".format(a.shape, b.shape, e))\n",
    "    pass\n",
    "\n",
    "a = a[\n",
    "    :,        # dimension 1\n",
    "    newaxis   # new dimension 2\n",
    "]\n",
    "print(\"a.shape after a[:, newaxis] is {}.\".format(a.shape))\n",
    "\n",
    "# stretching of both arrays to produce the desired 4x3 output array.\n",
    "c = a + b\n",
    "print(\"shape a{} + b{} streach both arrays into shape{} and produce:\\n{}\".format(\n",
    "    a.shape, b.shape, c.shape, c\n",
    "))\n"
   ]
  },
  {
   "cell_type": "markdown",
   "metadata": {},
   "source": [
    "#### 53. How to convert a float (32 bits) array into an integer (32 bits) in place?"
   ]
  },
  {
   "cell_type": "code",
   "execution_count": 62,
   "metadata": {},
   "outputs": [
    {
     "data": {
      "text/plain": [
       "array(32, dtype=int32)"
      ]
     },
     "execution_count": 62,
     "metadata": {},
     "output_type": "execute_result"
    }
   ],
   "source": [
    "np.array(32, dtype=np.float32).astype(np.int32)"
   ]
  },
  {
   "cell_type": "markdown",
   "metadata": {},
   "source": [
    "#### 54. How to read the following file? (★★☆)\n",
    "```\n",
    "1, 2, 3, 4, 5\n",
    "6,  ,  , 7, 8\n",
    " ,  , 9,10,11\n",
    "```"
   ]
  },
  {
   "cell_type": "code",
   "execution_count": 25,
   "metadata": {},
   "outputs": [
    {
     "name": "stdout",
     "output_type": "stream",
     "text": [
      "Writing a.csv\n"
     ]
    }
   ],
   "source": [
    "%%writefile a.csv\n",
    "1, 2, 3, 4, 5\n",
    "6,  ,  , 7, 8\n",
    " ,  , 9,10,11"
   ]
  },
  {
   "cell_type": "code",
   "execution_count": 29,
   "metadata": {},
   "outputs": [
    {
     "data": {
      "text/plain": [
       "array([['1', ' 2', ' 3', 4, 5],\n",
       "       ['6', '  ', '  ', 7, 8],\n",
       "       [' ', '  ', ' 9', 10, 11]], dtype=object)"
      ]
     },
     "execution_count": 29,
     "metadata": {},
     "output_type": "execute_result"
    }
   ],
   "source": [
    "import pandas as pd\n",
    "df = pd.read_csv(\"a.csv\", header=None)\n",
    "df\n",
    "\n",
    "np.array(df)"
   ]
  },
  {
   "cell_type": "markdown",
   "metadata": {},
   "source": [
    "#### 55. What is the equivalent of enumerate for numpy arrays? (★★☆)"
   ]
  },
  {
   "cell_type": "code",
   "execution_count": 32,
   "metadata": {},
   "outputs": [
    {
     "name": "stdout",
     "output_type": "stream",
     "text": [
      "coordinate is (0, 0), value is 9\n",
      "coordinate is (0, 1), value is 2\n",
      "coordinate is (0, 2), value is 3\n",
      "coordinate is (0, 3), value is 1\n",
      "coordinate is (1, 0), value is 4\n",
      "coordinate is (1, 1), value is 5\n",
      "coordinate is (1, 2), value is 6\n",
      "coordinate is (1, 3), value is 2\n",
      "coordinate is (2, 0), value is 7\n",
      "coordinate is (2, 1), value is 0\n",
      "coordinate is (2, 2), value is 5\n",
      "coordinate is (2, 3), value is 4\n"
     ]
    }
   ],
   "source": [
    "a = np.array([\n",
    "    [9, 2, 3, 1],\n",
    "    [4, 5, 6, 2],\n",
    "    [7, 0, 5, 4]\n",
    "])\n",
    "for coordinate, value in np.ndenumerate(a):\n",
    "    print(f\"coordinate is {coordinate}, value is {value}\")"
   ]
  },
  {
   "cell_type": "markdown",
   "metadata": {},
   "source": [
    "#### 56. Generate a generic 2D Gaussian-like array (★★☆)"
   ]
  },
  {
   "cell_type": "code",
   "execution_count": 11,
   "metadata": {},
   "outputs": [
    {
     "name": "stderr",
     "output_type": "stream",
     "text": [
      "/var/folders/v0/9q6t7l7127545x7_l50d2yvdc16wv8/T/ipykernel_25058/4224931355.py:1: RuntimeWarning: covariance is not positive-semidefinite.\n",
      "  XY = np.random.multivariate_normal(mean=[0,0], cov=[[0,1], [1,0]], size=1000)\n"
     ]
    },
    {
     "data": {
      "text/plain": [
       "<matplotlib.collections.PathCollection at 0x12d1a1730>"
      ]
     },
     "execution_count": 11,
     "metadata": {},
     "output_type": "execute_result"
    },
    {
     "data": {
      "image/png": "[encoded data removed]",
      "text/plain": [
       "<Figure size 640x480 with 1 Axes>"
      ]
     },
     "metadata": {},
     "output_type": "display_data"
    }
   ],
   "source": [
    "XY = np.random.multivariate_normal(mean=[0,0], cov=[[0,1], [1,0]], size=1000)\n",
    "plt.scatter(XY[:, 0], XY[:, 1])"
   ]
  },
  {
   "cell_type": "code",
   "execution_count": 30,
   "metadata": {},
   "outputs": [
    {
     "data": {
      "image/png": "[encoded data removed]",
      "text/plain": [
       "<Figure size 640x480 with 2 Axes>"
      ]
     },
     "metadata": {},
     "output_type": "display_data"
    }
   ],
   "source": [
    "size = 100\n",
    "sigma_x = 6.\n",
    "sigma_y = 2.\n",
    "\n",
    "x = np.linspace(-10, 10, size)\n",
    "y = np.linspace(-10, 10, size)\n",
    "\n",
    "x, y = np.meshgrid(x, y)\n",
    "z = (1/(2*np.pi*sigma_x*sigma_y) * np.exp(-(x**2/(2*sigma_x**2)\n",
    "     + y**2/(2*sigma_y**2))))\n",
    "\n",
    "plt.contourf(x, y, z, cmap='Blues')\n",
    "plt.colorbar()\n",
    "plt.show()"
   ]
  },
  {
   "cell_type": "markdown",
   "metadata": {},
   "source": [
    "#### 57. How to randomly place p elements in a 2D array? (★★☆)"
   ]
  },
  {
   "cell_type": "code",
   "execution_count": null,
   "metadata": {},
   "outputs": [],
   "source": []
  },
  {
   "cell_type": "markdown",
   "metadata": {},
   "source": [
    "#### 58. Subtract the mean of each row of a matrix (★★☆)"
   ]
  },
  {
   "cell_type": "code",
   "execution_count": 78,
   "metadata": {},
   "outputs": [
    {
     "name": "stdout",
     "output_type": "stream",
     "text": [
      "(3, 4)\n",
      "[[3.75]\n",
      " [4.25]\n",
      " [4.  ]]\n",
      "(3, 1)\n"
     ]
    },
    {
     "data": {
      "text/plain": [
       "array([[ 5.25, -1.75, -0.75, -2.75],\n",
       "       [-0.25,  0.75,  1.75, -2.25],\n",
       "       [ 3.  , -4.  ,  1.  ,  0.  ]])"
      ]
     },
     "execution_count": 78,
     "metadata": {},
     "output_type": "execute_result"
    }
   ],
   "source": [
    "a = np.array([\n",
    "    [9, 2, 3, 1],\n",
    "    [4, 5, 6, 2],\n",
    "    [7, 0, 5, 4]\n",
    "])\n",
    "print(a.shape)\n",
    "means = a.mean(axis=1)[\n",
    "    ::,\n",
    "    np.newaxis\n",
    "]\n",
    "print(means)\n",
    "print(means.shape)\n",
    "a - means"
   ]
  },
  {
   "cell_type": "code",
   "execution_count": 81,
   "metadata": {},
   "outputs": [
    {
     "data": {
      "text/plain": [
       "array([[ 5.25, -1.75, -0.75, -2.75],\n",
       "       [-0.25,  0.75,  1.75, -2.25],\n",
       "       [ 3.  , -4.  ,  1.  ,  0.  ]])"
      ]
     },
     "execution_count": 81,
     "metadata": {},
     "output_type": "execute_result"
    }
   ],
   "source": [
    "a = np.array([\n",
    "    [9, 2, 3, 1],\n",
    "    [4, 5, 6, 2],\n",
    "    [7, 0, 5, 4]\n",
    "])\n",
    "a - a.mean(axis=1, keepdims=True)"
   ]
  },
  {
   "cell_type": "markdown",
   "metadata": {},
   "source": [
    "#### 59. How to sort an array by the nth column? (★★☆)"
   ]
  },
  {
   "cell_type": "code",
   "execution_count": 17,
   "metadata": {},
   "outputs": [
    {
     "name": "stdout",
     "output_type": "stream",
     "text": [
      "[2 0 1]\n",
      "[[7 0 5 4]\n",
      " [9 2 3 1]\n",
      " [4 5 6 2]]\n"
     ]
    }
   ],
   "source": [
    "a = np.array([\n",
    "    [9, 2, 3, 1],\n",
    "    [4, 5, 6, 2],\n",
    "    [7, 0, 5, 4]\n",
    "])\n",
    "#sorted_row_indices = a[::,1].argsort() # row indices to sort rows by 2nd column \n",
    "sorted_row_indices = a[:,1].argsort() # row indices to sort rows by 2nd column \n",
    "print(sorted_row_indices)\n",
    "sorted_rows = a[sorted_row_indices]\n",
    "print(sorted_rows)\n",
    "\n",
    "# a[(2, 0),] is the same with\n",
    "# a[\n",
    "#   (2, 0),    # row indices\n",
    "#   :          # all cols\n",
    "#] and same with\n",
    "# a[[2,0]] or a[[2,0],] or a[[2,0], :]\n",
    "# \n",
    "# a[(2,0)] is the same with \n",
    "# a[\n",
    "#   2,  # row index\n",
    "#   0   # col index\n",
    "# ]"
   ]
  },
  {
   "cell_type": "code",
   "execution_count": 23,
   "metadata": {},
   "outputs": [
    {
     "name": "stdout",
     "output_type": "stream",
     "text": [
      "[[7 0 5 4]\n",
      " [9 2 3 1]]\n",
      "[[7 0 5 4]\n",
      " [9 2 3 1]]\n",
      "[[7 0 5 4]\n",
      " [9 2 3 1]]\n"
     ]
    }
   ],
   "source": [
    "a = np.array([\n",
    "    [9, 2, 3, 1],\n",
    "    [4, 5, 6, 2],\n",
    "    [7, 0, 5, 4]\n",
    "])\n",
    "print(a[(2,0),])\n",
    "print(a[[2,0],])\n",
    "print(a[[2,0], :])"
   ]
  },
  {
   "cell_type": "code",
   "execution_count": 16,
   "metadata": {},
   "outputs": [
    {
     "name": "stdout",
     "output_type": "stream",
     "text": [
      "[[10  8  3]\n",
      " [14 16  4]\n",
      " [18 14  8]\n",
      " [ 2  7  2]]\n",
      "[3 0 1 2]\n"
     ]
    },
    {
     "data": {
      "text/plain": [
       "array([[ 2,  7,  2],\n",
       "       [10,  8,  3],\n",
       "       [14, 16,  4],\n",
       "       [18, 14,  8]])"
      ]
     },
     "execution_count": 16,
     "metadata": {},
     "output_type": "execute_result"
    }
   ],
   "source": [
    "column = 2\n",
    "a = np.random.randint(low=0, high=20, size=(4,3))\n",
    "print(a)\n",
    "\n",
    "indices = np.argsort(a[:, column])\n",
    "print(indices)\n",
    "\n",
    "a[indices]"
   ]
  },
  {
   "cell_type": "markdown",
   "metadata": {},
   "source": [
    "#### 60. How to tell if a given 2D array has null columns? (★★☆)"
   ]
  },
  {
   "cell_type": "code",
   "execution_count": 16,
   "metadata": {},
   "outputs": [
    {
     "name": "stdout",
     "output_type": "stream",
     "text": [
      "[[0.7712959  0.28548046 0.48856075 0.19891033]\n",
      " [0.81769574 0.61816762 0.         0.15161647]\n",
      " [0.72000048 0.75293718 0.35973609 0.32008668]]\n",
      "False\n"
     ]
    }
   ],
   "source": [
    "a = np.random.random((3,4))\n",
    "a[1][2]=0.\n",
    "print(a)\n",
    "print(a.all(axis=0).all() == True)"
   ]
  },
  {
   "cell_type": "code",
   "execution_count": 42,
   "metadata": {},
   "outputs": [
    {
     "data": {
      "text/plain": [
       "True"
      ]
     },
     "execution_count": 42,
     "metadata": {},
     "output_type": "execute_result"
    }
   ],
   "source": [
    "data = np.random.random((4,3))\n",
    "data[0,1] = np.NAN\n",
    "np.isnan(data).any()"
   ]
  },
  {
   "cell_type": "markdown",
   "metadata": {},
   "source": [
    "#### 61. Find the nearest value from a given value in an array (★★☆)"
   ]
  },
  {
   "cell_type": "code",
   "execution_count": 52,
   "metadata": {},
   "outputs": [
    {
     "name": "stdout",
     "output_type": "stream",
     "text": [
      "[[17  3 11 16]\n",
      " [ 5 14  7  4]\n",
      " [ 3  6  0 11]]\n"
     ]
    },
    {
     "data": {
      "text/plain": [
       "5"
      ]
     },
     "execution_count": 52,
     "metadata": {},
     "output_type": "execute_result"
    }
   ],
   "source": [
    "value = 5\n",
    "a = np.random.randint(0, 20, size=(3,4))\n",
    "print(a)\n",
    "\n",
    "flat_index = np.abs(a - value).argmin()\n",
    "array_index = np.unravel_index(flat_index, a.shape)\n",
    "nearest_value = a[array_index]\n",
    "nearest_value"
   ]
  },
  {
   "cell_type": "code",
   "execution_count": 41,
   "metadata": {},
   "outputs": [
    {
     "name": "stdout",
     "output_type": "stream",
     "text": [
      "[[[1]]\n",
      "\n",
      " [[2]]\n",
      "\n",
      " [[3]]\n",
      "\n",
      " [[4]]]\n",
      "(4, 1, 1)\n",
      "\n",
      "b is \n",
      "[[2.89218076 3.66395411 3.79569888]\n",
      " [4.57092262 0.63108437 3.1183377 ]\n",
      " [0.38071397 1.27679347 4.49779511]\n",
      " [0.9098184  0.8389455  4.69246343]]\n",
      "(4, 3)\n",
      "\n",
      "b-a is \n",
      "[[[ 1.89218076  2.66395411  2.79569888]\n",
      "  [ 3.57092262 -0.36891563  2.1183377 ]\n",
      "  [-0.61928603  0.27679347  3.49779511]\n",
      "  [-0.0901816  -0.1610545   3.69246343]]\n",
      "\n",
      " [[ 0.89218076  1.66395411  1.79569888]\n",
      "  [ 2.57092262 -1.36891563  1.1183377 ]\n",
      "  [-1.61928603 -0.72320653  2.49779511]\n",
      "  [-1.0901816  -1.1610545   2.69246343]]\n",
      "\n",
      " [[-0.10781924  0.66395411  0.79569888]\n",
      "  [ 1.57092262 -2.36891563  0.1183377 ]\n",
      "  [-2.61928603 -1.72320653  1.49779511]\n",
      "  [-2.0901816  -2.1610545   1.69246343]]\n",
      "\n",
      " [[-1.10781924 -0.33604589 -0.20430112]\n",
      "  [ 0.57092262 -3.36891563 -0.8816623 ]\n",
      "  [-3.61928603 -2.72320653  0.49779511]\n",
      "  [-3.0901816  -3.1610545   0.69246343]]]\n",
      "\n",
      "\n",
      "9\n",
      "-0.09018159870398246\n"
     ]
    }
   ],
   "source": [
    "a = np.array([1,2,3,4])\n",
    "a = a[\n",
    "    ::,\n",
    "    np.newaxis,\n",
    "    np.newaxis\n",
    "]\n",
    "print(a)\n",
    "print(a.shape)\n",
    "print()\n",
    "\n",
    "b = np.random.random((4, 3)) * 5\n",
    "b = b[\n",
    "    ::,\n",
    "    ::\n",
    "]\n",
    "print(\"b is \\n{}\".format(b))\n",
    "print(b.shape)\n",
    "print()\n",
    "\n",
    "print(\"b-a is \\n{}\\n\".format(b-a))\n",
    "print()\n",
    "\n",
    "index = (np.abs((b-a)).argmin())\n",
    "print(index)\n",
    "print((b-a).flat[index])"
   ]
  },
  {
   "cell_type": "markdown",
   "metadata": {},
   "source": [
    "#### 62. Considering two arrays with shape (1,3) and (3,1), how to compute their sum using an iterator? (★★☆)"
   ]
  },
  {
   "cell_type": "code",
   "execution_count": 54,
   "metadata": {},
   "outputs": [
    {
     "ename": "TypeError",
     "evalue": "unsupported operand type(s) for +: 'numpy.flatiter' and 'numpy.flatiter'",
     "output_type": "error",
     "traceback": [
      "\u001b[0;31m---------------------------------------------------------------------------\u001b[0m",
      "\u001b[0;31mTypeError\u001b[0m                                 Traceback (most recent call last)",
      "Input \u001b[0;32mIn [54]\u001b[0m, in \u001b[0;36m<cell line: 3>\u001b[0;34m()\u001b[0m\n\u001b[1;32m      1\u001b[0m a \u001b[38;5;241m=\u001b[39m np\u001b[38;5;241m.\u001b[39mrandom\u001b[38;5;241m.\u001b[39mrandint(\u001b[38;5;241m0\u001b[39m, \u001b[38;5;241m20\u001b[39m, (\u001b[38;5;241m1\u001b[39m,\u001b[38;5;241m3\u001b[39m))\n\u001b[1;32m      2\u001b[0m b \u001b[38;5;241m=\u001b[39m np\u001b[38;5;241m.\u001b[39mrandom\u001b[38;5;241m.\u001b[39mrandint(\u001b[38;5;241m0\u001b[39m, \u001b[38;5;241m20\u001b[39m, (\u001b[38;5;241m3\u001b[39m,\u001b[38;5;241m1\u001b[39m))\n\u001b[0;32m----> 3\u001b[0m \u001b[43ma\u001b[49m\u001b[38;5;241;43m.\u001b[39;49m\u001b[43mflat\u001b[49m\u001b[43m \u001b[49m\u001b[38;5;241;43m+\u001b[39;49m\u001b[43m \u001b[49m\u001b[43mb\u001b[49m\u001b[38;5;241;43m.\u001b[39;49m\u001b[43mflat\u001b[49m\n",
      "\u001b[0;31mTypeError\u001b[0m: unsupported operand type(s) for +: 'numpy.flatiter' and 'numpy.flatiter'"
     ]
    }
   ],
   "source": [
    "a = np.random.randint(0, 20, (1,3))\n",
    "b = np.random.randint(0, 20, (3,1))\n",
    "for left, right, result in np.nditer(a, b, None):\n",
    "    "
   ]
  },
  {
   "cell_type": "markdown",
   "metadata": {},
   "source": [
    "#### 63. Create an array class that has a name attribute (★★☆)"
   ]
  },
  {
   "cell_type": "code",
   "execution_count": null,
   "metadata": {},
   "outputs": [],
   "source": []
  },
  {
   "cell_type": "markdown",
   "metadata": {},
   "source": [
    "#### 64. Consider a given vector, how to add 1 to each element indexed by a second vector (be careful with repeated indices)? (★★★)"
   ]
  },
  {
   "cell_type": "code",
   "execution_count": null,
   "metadata": {},
   "outputs": [],
   "source": []
  },
  {
   "cell_type": "markdown",
   "metadata": {},
   "source": [
    "#### 65. How to accumulate elements of a vector (X) to an array (F) based on an index list (I)? (★★★)"
   ]
  },
  {
   "cell_type": "code",
   "execution_count": null,
   "metadata": {},
   "outputs": [],
   "source": []
  },
  {
   "cell_type": "markdown",
   "metadata": {},
   "source": [
    "#### 66. Considering a (w,h,3) image of (dtype=ubyte), compute the number of unique colors (★★★)"
   ]
  },
  {
   "cell_type": "code",
   "execution_count": null,
   "metadata": {},
   "outputs": [],
   "source": []
  },
  {
   "cell_type": "markdown",
   "metadata": {},
   "source": [
    "#### 67. Considering a four dimensions array, how to get sum over the last two axis at once? (★★★)"
   ]
  },
  {
   "cell_type": "code",
   "execution_count": null,
   "metadata": {},
   "outputs": [],
   "source": []
  },
  {
   "cell_type": "markdown",
   "metadata": {},
   "source": [
    "#### 68. Considering a one-dimensional vector D, how to compute means of subsets of D using a vector S of same size describing subset  indices? (★★★)"
   ]
  },
  {
   "cell_type": "code",
   "execution_count": null,
   "metadata": {},
   "outputs": [],
   "source": []
  },
  {
   "cell_type": "markdown",
   "metadata": {},
   "source": [
    "#### 69. How to get the diagonal of a dot product? (★★★)"
   ]
  },
  {
   "cell_type": "code",
   "execution_count": null,
   "metadata": {},
   "outputs": [],
   "source": []
  },
  {
   "cell_type": "markdown",
   "metadata": {},
   "source": [
    "#### 70. Consider the vector [1, 2, 3, 4, 5], how to build a new vector with 3 consecutive zeros interleaved between each value? (★★★)"
   ]
  },
  {
   "cell_type": "code",
   "execution_count": null,
   "metadata": {},
   "outputs": [],
   "source": []
  },
  {
   "cell_type": "markdown",
   "metadata": {},
   "source": [
    "#### 71. Consider an array of dimension (5,5,3), how to mulitply it by an array with dimensions (5,5)? (★★★)"
   ]
  },
  {
   "cell_type": "code",
   "execution_count": null,
   "metadata": {},
   "outputs": [],
   "source": []
  },
  {
   "cell_type": "markdown",
   "metadata": {},
   "source": [
    "#### 72. How to swap two rows of an array? (★★★)"
   ]
  },
  {
   "cell_type": "code",
   "execution_count": null,
   "metadata": {},
   "outputs": [],
   "source": []
  },
  {
   "cell_type": "markdown",
   "metadata": {},
   "source": [
    "#### 73. Consider a set of 10 triplets describing 10 triangles (with shared vertices), find the set of unique line segments composing all the  triangles (★★★)"
   ]
  },
  {
   "cell_type": "code",
   "execution_count": null,
   "metadata": {},
   "outputs": [],
   "source": []
  },
  {
   "cell_type": "markdown",
   "metadata": {},
   "source": [
    "#### 74. Given an array C that is a bincount, how to produce an array A such that np.bincount(A) == C? (★★★)"
   ]
  },
  {
   "cell_type": "code",
   "execution_count": null,
   "metadata": {},
   "outputs": [],
   "source": []
  },
  {
   "cell_type": "markdown",
   "metadata": {},
   "source": [
    "#### 75. How to compute averages using a sliding window over an array? (★★★)"
   ]
  },
  {
   "cell_type": "code",
   "execution_count": null,
   "metadata": {},
   "outputs": [],
   "source": []
  },
  {
   "cell_type": "markdown",
   "metadata": {},
   "source": [
    "#### 76. Consider a one-dimensional array Z, build a two-dimensional array whose first row is (Z[0],Z[1],Z[2]) and each subsequent row is  shifted by 1 (last row should be (Z[-3],Z[-2],Z[-1]) (★★★)"
   ]
  },
  {
   "cell_type": "code",
   "execution_count": null,
   "metadata": {},
   "outputs": [],
   "source": []
  },
  {
   "cell_type": "markdown",
   "metadata": {},
   "source": [
    "#### 77. How to negate a boolean, or to change the sign of a float inplace? (★★★)"
   ]
  },
  {
   "cell_type": "code",
   "execution_count": null,
   "metadata": {},
   "outputs": [],
   "source": []
  },
  {
   "cell_type": "markdown",
   "metadata": {},
   "source": [
    "#### 78. Consider 2 sets of points P0,P1 describing lines (2d) and a point p, how to compute distance from p to each line i (P0[i],P1[i])? (★★★)"
   ]
  },
  {
   "cell_type": "code",
   "execution_count": null,
   "metadata": {},
   "outputs": [],
   "source": []
  },
  {
   "cell_type": "markdown",
   "metadata": {},
   "source": [
    "#### 79. Consider 2 sets of points P0,P1 describing lines (2d) and a set of points P, how to compute distance from each point j (P[j]) to each line i (P0[i],P1[i])? (★★★)"
   ]
  },
  {
   "cell_type": "code",
   "execution_count": null,
   "metadata": {},
   "outputs": [],
   "source": []
  },
  {
   "cell_type": "markdown",
   "metadata": {},
   "source": [
    "#### 80. Consider an arbitrary array, write a function that extract a subpart with a fixed shape and centered on a given element (pad with a `fill` value when necessary) (★★★)"
   ]
  },
  {
   "cell_type": "code",
   "execution_count": null,
   "metadata": {},
   "outputs": [],
   "source": []
  },
  {
   "cell_type": "markdown",
   "metadata": {},
   "source": [
    "#### 81. Consider an array Z = [1,2,3,4,5,6,7,8,9,10,11,12,13,14], how to generate an array R = [[1,2,3,4], [2,3,4,5], [3,4,5,6], ..., [11,12,13,14]]? (★★★)"
   ]
  },
  {
   "cell_type": "code",
   "execution_count": null,
   "metadata": {},
   "outputs": [],
   "source": []
  },
  {
   "cell_type": "markdown",
   "metadata": {},
   "source": [
    "#### 82. Compute a matrix rank (★★★)"
   ]
  },
  {
   "cell_type": "code",
   "execution_count": null,
   "metadata": {},
   "outputs": [],
   "source": []
  },
  {
   "cell_type": "markdown",
   "metadata": {},
   "source": [
    "#### 83. How to find the most frequent value in an array?"
   ]
  },
  {
   "cell_type": "code",
   "execution_count": null,
   "metadata": {},
   "outputs": [],
   "source": []
  },
  {
   "cell_type": "markdown",
   "metadata": {},
   "source": [
    "#### 84. Extract all the contiguous 3x3 blocks from a random 10x10 matrix (★★★)"
   ]
  },
  {
   "cell_type": "code",
   "execution_count": null,
   "metadata": {},
   "outputs": [],
   "source": []
  },
  {
   "cell_type": "markdown",
   "metadata": {},
   "source": [
    "#### 85. Create a 2D array subclass such that Z[i,j] == Z[j,i] (★★★)"
   ]
  },
  {
   "cell_type": "code",
   "execution_count": null,
   "metadata": {},
   "outputs": [],
   "source": []
  },
  {
   "cell_type": "markdown",
   "metadata": {},
   "source": [
    "#### 86. Consider a set of p matrices wich shape (n,n) and a set of p vectors with shape (n,1). How to compute the sum of of the p matrix products at once? (result has shape (n,1)) (★★★)"
   ]
  },
  {
   "cell_type": "code",
   "execution_count": null,
   "metadata": {},
   "outputs": [],
   "source": []
  },
  {
   "cell_type": "markdown",
   "metadata": {},
   "source": [
    "#### 87. Consider a 16x16 array, how to get the block-sum (block size is 4x4)? (★★★)"
   ]
  },
  {
   "cell_type": "code",
   "execution_count": null,
   "metadata": {},
   "outputs": [],
   "source": []
  },
  {
   "cell_type": "markdown",
   "metadata": {},
   "source": [
    "#### 88. How to implement the Game of Life using numpy arrays? (★★★)"
   ]
  },
  {
   "cell_type": "code",
   "execution_count": null,
   "metadata": {},
   "outputs": [],
   "source": []
  },
  {
   "cell_type": "markdown",
   "metadata": {},
   "source": [
    "#### 89. How to get the n largest values of an array (★★★)"
   ]
  },
  {
   "cell_type": "code",
   "execution_count": null,
   "metadata": {},
   "outputs": [],
   "source": []
  },
  {
   "cell_type": "markdown",
   "metadata": {},
   "source": [
    "#### 90. Given an arbitrary number of vectors, build the cartesian product (every combinations of every item) (★★★)"
   ]
  },
  {
   "cell_type": "code",
   "execution_count": null,
   "metadata": {},
   "outputs": [],
   "source": []
  },
  {
   "cell_type": "markdown",
   "metadata": {},
   "source": [
    "#### 91. How to create a record array from a regular array? (★★★)"
   ]
  },
  {
   "cell_type": "code",
   "execution_count": null,
   "metadata": {},
   "outputs": [],
   "source": []
  },
  {
   "cell_type": "markdown",
   "metadata": {},
   "source": [
    "#### 92. Consider a large vector Z, compute Z to the power of 3 using 3 different methods (★★★)"
   ]
  },
  {
   "cell_type": "code",
   "execution_count": null,
   "metadata": {},
   "outputs": [],
   "source": []
  },
  {
   "cell_type": "markdown",
   "metadata": {},
   "source": [
    "#### 93. Consider two arrays A and B of shape (8,3) and (2,2). How to find rows of A that contain elements of each row of B regardless of the order of the elements in B? (★★★)"
   ]
  },
  {
   "cell_type": "code",
   "execution_count": null,
   "metadata": {},
   "outputs": [],
   "source": []
  },
  {
   "cell_type": "markdown",
   "metadata": {},
   "source": [
    "#### 94. Considering a 10x3 matrix, extract rows with unequal values (e.g. [2,2,3]) (★★★)"
   ]
  },
  {
   "cell_type": "code",
   "execution_count": null,
   "metadata": {},
   "outputs": [],
   "source": []
  },
  {
   "cell_type": "markdown",
   "metadata": {},
   "source": [
    "#### 95. Convert a vector of ints into a matrix binary representation (★★★)"
   ]
  },
  {
   "cell_type": "code",
   "execution_count": null,
   "metadata": {},
   "outputs": [],
   "source": []
  },
  {
   "cell_type": "markdown",
   "metadata": {},
   "source": [
    "#### 96. Given a two dimensional array, how to extract unique rows? (★★★)"
   ]
  },
  {
   "cell_type": "code",
   "execution_count": null,
   "metadata": {},
   "outputs": [],
   "source": []
  },
  {
   "cell_type": "markdown",
   "metadata": {},
   "source": [
    "#### 97. Considering 2 vectors A & B, write the einsum equivalent of inner, outer, sum, and mul function (★★★)"
   ]
  },
  {
   "cell_type": "code",
   "execution_count": null,
   "metadata": {},
   "outputs": [],
   "source": []
  },
  {
   "cell_type": "markdown",
   "metadata": {},
   "source": [
    "#### 98. Considering a path described by two vectors (X,Y), how to sample it using equidistant samples (★★★)?"
   ]
  },
  {
   "cell_type": "code",
   "execution_count": null,
   "metadata": {},
   "outputs": [],
   "source": []
  },
  {
   "cell_type": "markdown",
   "metadata": {},
   "source": [
    "#### 99. Given an integer n and a 2D array X, select from X the rows which can be interpreted as draws from a multinomial distribution with n degrees, i.e., the rows which only contain integers and which sum to n. (★★★)"
   ]
  },
  {
   "cell_type": "code",
   "execution_count": null,
   "metadata": {},
   "outputs": [],
   "source": []
  },
  {
   "cell_type": "markdown",
   "metadata": {},
   "source": [
    "#### 100. Compute bootstrapped 95% confidence intervals for the mean of a 1D array X (i.e., resample the elements of an array with replacement N times, compute the mean of each sample, and then compute percentiles over the means). (★★★)"
   ]
  },
  {
   "cell_type": "code",
   "execution_count": null,
   "metadata": {},
   "outputs": [],
   "source": []
  }
 ],
 "metadata": {
  "kernelspec": {
   "display_name": "Python 3 (ipykernel)",
   "language": "python",
   "name": "python3"
  },
  "language_info": {
   "codemirror_mode": {
    "name": "ipython",
    "version": 3
   },
   "file_extension": ".py",
   "mimetype": "text/x-python",
   "name": "python",
   "nbconvert_exporter": "python",
   "pygments_lexer": "ipython3",
   "version": "3.9.12"
  }
 },
 "nbformat": 4,
 "nbformat_minor": 4
}
