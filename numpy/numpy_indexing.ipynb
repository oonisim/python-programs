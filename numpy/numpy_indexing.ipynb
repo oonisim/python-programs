{
 "cells": [
  {
   "cell_type": "code",
   "execution_count": 2,
   "metadata": {},
   "outputs": [
    {
     "name": "stdout",
     "output_type": "stream",
     "text": [
      "1.19.2\n"
     ]
    }
   ],
   "source": [
    "import numpy as np\n",
    "print(np.__version__)"
   ]
  },
  {
   "cell_type": "code",
   "execution_count": 77,
   "metadata": {},
   "outputs": [
    {
     "name": "stdout",
     "output_type": "stream",
     "text": [
      "[2]\n",
      "[2]\n",
      "[2]\n"
     ]
    }
   ],
   "source": [
    "print([1, 2, 3][slice(1, 2)])     # This is valid\n",
    "print([1, 2, 3][1:2])             # Valid\n",
    "# print([1, 2, 3][(1:2)])         # Inalid\n",
    "print([1, 2, 3][(slice(1, 2))])   # Inalid"
   ]
  },
  {
   "cell_type": "markdown",
   "metadata": {},
   "source": [
    "# View or Copy"
   ]
  },
  {
   "cell_type": "code",
   "execution_count": 16,
   "metadata": {},
   "outputs": [
    {
     "name": "stdout",
     "output_type": "stream",
     "text": [
      "X is \n",
      "[[[ 0  1  2  3]\n",
      "  [ 4  5  6  7]\n",
      "  [ 8  9 10 11]]\n",
      "\n",
      " [[12 13 14 15]\n",
      "  [16 17 18 19]\n",
      "  [20 21 22 23]]\n",
      "\n",
      " [[24 25 26 27]\n",
      "  [28 29 30 31]\n",
      "  [32 33 34 35]]]\n",
      "\n",
      "X.__array_interface__ \n",
      "{'data': (94194168544480, False), 'strides': None, 'descr': [('', '<i8')], 'typestr': '<i8', 'shape': (3, 3, 4), 'version': 3}\n",
      "\n",
      "X[0,1] is \n",
      "[ 8  9 10 11]\n",
      "Is view? True\n",
      "\n",
      "_x.__array_interface__ is \n",
      "{'data': (94194168544544, False), 'strides': None, 'descr': [('', '<i8')], 'typestr': '<i8', 'shape': (4,), 'version': 3}\n",
      "\n",
      "Y is \n",
      "[[ 0  1  2  3]\n",
      " [ 4  5  6  7]\n",
      " [ 8  9 10 11]]\n",
      "\n",
      "Y.__array_interface__ is \n",
      "{'data': (94194175499568, False), 'strides': None, 'descr': [('', '<i8')], 'typestr': '<i8', 'shape': (3, 4), 'version': 3}\n",
      "\n",
      "Y[0,1] is \n",
      "1\n",
      "Is view False\n",
      "\n",
      ".Y[0,1].__array_interface__ is \n",
      "{'data': (94194177613184, False), 'strides': None, 'descr': [('', '<i8')], 'typestr': '<i8', 'shape': (), 'version': 3, '__ref': array(1)}\n",
      "\n"
     ]
    }
   ],
   "source": [
    "X = np.arange(36).reshape(3, 3, 4)\n",
    "print(\"X is \\n{}\\n\".format(X))\n",
    "print(\"X.__array_interface__ \\n{}\\n\".format(X.__array_interface__))\n",
    "\n",
    "_x =  X[\n",
    "    0,\n",
    "    2\n",
    "]\n",
    "print(\"X[0,1] is \\n{}\\nIs view? {}\\n\".format(\n",
    "    _x,\n",
    "    _x.base is not None\n",
    "))\n",
    "print(\"_x.__array_interface__ is \\n{}\\n\".format(_x.__array_interface__))\n",
    "\n",
    "\n",
    "Y = np.arange(12).reshape(3, 4)\n",
    "print(\"Y is \\n{}\\n\".format(Y))\n",
    "print(\"Y.__array_interface__ is \\n{}\\n\".format(Y.__array_interface__))\n",
    "\n",
    "_y = Y[\n",
    "    0,\n",
    "    1\n",
    "]\n",
    "print(\"Y[0,1] is \\n{}\\nIs view {}\\n\".format(\n",
    "    _y,  \n",
    "    _y.base is not None\n",
    "))\n",
    "print(\".Y[0,1].__array_interface__ is \\n{}\\n\".format(_y.__array_interface__))"
   ]
  },
  {
   "cell_type": "code",
   "execution_count": 63,
   "metadata": {},
   "outputs": [
    {
     "name": "stdout",
     "output_type": "stream",
     "text": [
      "[[[[ 0  1  2  3]\n",
      "   [ 4  5  6  7]\n",
      "   [ 8  9 10 11]]\n",
      "\n",
      "  [[12 13 14 15]\n",
      "   [16 17 18 19]\n",
      "   [20 21 22 23]]\n",
      "\n",
      "  [[24 25 26 27]\n",
      "   [28 29 30 31]\n",
      "   [32 33 34 35]]]\n",
      "\n",
      "\n",
      " [[[36 37 38 39]\n",
      "   [40 41 42 43]\n",
      "   [44 45 46 47]]\n",
      "\n",
      "  [[48 49 50 51]\n",
      "   [52 53 54 55]\n",
      "   [56 57 58 59]]\n",
      "\n",
      "  [[60 61 62 63]\n",
      "   [64 65 66 67]\n",
      "   [68 69 70 71]]]]\n",
      "X[0,1,2] is [20 21 22 23] \n",
      "view is True because of what?\n",
      "\n",
      "X[0,(1,2),2] is \n",
      "[[20 21 22 23]\n",
      " [32 33 34 35]] \n",
      "view is False because [1,2] triggers advance indexing\n",
      "\n"
     ]
    }
   ],
   "source": [
    "X = np.arange(72).reshape(2, 3, 3, 4)\n",
    "print(X)\n",
    "_x = X[\n",
    "    0, # One element in dimension 3 \n",
    "    1, # One element in dimension 2\n",
    "    2  # One element in dimension 1\n",
    "]\n",
    "print(\"X[0,1,2] is {} \\nview is {} because of what?\\n\".format(\n",
    "    _x, _x.base is not None))\n",
    "\n",
    "_y = X[\n",
    "    0, # One element in dimension 3 \n",
    "    [1,2], # One element in dimension 2\n",
    "    2  # One element in dimension 1\n",
    "]\n",
    "print(\"X[0,(1,2),2] is \\n{} \\nview is {} because [1,2] triggers advance indexing\\n\".format(\n",
    "    _y, _y.base is not None))"
   ]
  },
  {
   "cell_type": "markdown",
   "metadata": {},
   "source": [
    "## Slice indexing is always View"
   ]
  },
  {
   "cell_type": "code",
   "execution_count": 67,
   "metadata": {},
   "outputs": [
    {
     "name": "stdout",
     "output_type": "stream",
     "text": [
      "Z is \n",
      "[[[ 0  1  2  3]\n",
      "  [ 4  5  6  7]\n",
      "  [ 8  9 10 11]]\n",
      "\n",
      " [[12 13 14 15]\n",
      "  [16 17 18 19]\n",
      "  [20 21 22 23]]\n",
      "\n",
      " [[24 25 26 27]\n",
      "  [28 29 30 31]\n",
      "  [32 33 34 35]]]\n",
      "\n",
      "{'data': (94194169562848, False), 'strides': None, 'descr': [('', '<i8')], 'typestr': '<i8', 'shape': (3, 3, 4), 'version': 3}\n",
      "Z[0:1, 0:3, 2] is \n",
      "[[ 2  6 10]]\n",
      "\n",
      "Z[(slice(1, 2), slice(2, 3), 1)] is \n",
      "[[ 2  6 10]]\n",
      "\n",
      "True\n",
      "{'data': (94194169562864, False), 'strides': (96, 32), 'descr': [('', '<i8')], 'typestr': '<i8', 'shape': (1, 3), 'version': 3}\n"
     ]
    }
   ],
   "source": [
    "Z = np.arange(36).reshape(3, 3, 4)\n",
    "print(\"Z is \\n{}\\n\".format(Z))\n",
    "print(Z.__array_interface__)\n",
    "print(\"Z[0:1, 0:3, 2] is \\n{}\\n\".format(Z[\n",
    "    0:1, 0:3, 2    # () cannot be used to create slice tuple\n",
    "]))\n",
    "\n",
    "a = Z[\n",
    "    (slice(0, 1), slice(0, 3), 2)\n",
    "]\n",
    "print(\"Z[(slice(1, 2), slice(2, 3), 1)] is \\n{}\\n\".format(a))\n",
    "print(a.base is not None)\n",
    "print(a.__array_interface__)"
   ]
  },
  {
   "cell_type": "markdown",
   "metadata": {},
   "source": [
    "## Zero(0) dimension result is copy"
   ]
  },
  {
   "cell_type": "code",
   "execution_count": 26,
   "metadata": {},
   "outputs": [
    {
     "name": "stdout",
     "output_type": "stream",
     "text": [
      "X[1,2] is [20 21 22 23] \n",
      "view is True because it is n > 0 dimiension array.\n",
      "\n",
      "X[1,2,3] is 23 \n",
      "view is False because it is n = 0 dimiension array.\n",
      "\n"
     ]
    }
   ],
   "source": [
    "X = np.arange(36).reshape(3, 3, 4)\n",
    "_x = X[1,2]\n",
    "print(\"X[1,2] is {} \\nview is {} because it is n > 0 dimiension array.\\n\".format(\n",
    "    _x, _x.base is not None))\n",
    "\n",
    "_y = X[1,2,3]\n",
    "print(\"X[1,2,3] is {} \\nview is {} because it is n = 0 dimiension array.\\n\".format(\n",
    "    _y, _y.base is not None))\n"
   ]
  },
  {
   "cell_type": "markdown",
   "metadata": {},
   "source": [
    "# Comma makes a completely different story\n",
    "\n",
    "**comma** can trigger the a[dvanced indexing](https://numpy.org/doc/stable/reference/arrays.indexing.html#advanced-indexing) which makes a completely different story.\n",
    "\n",
    "\n",
    "> Warning The definition of advanced indexing means that ***x[(1,2,3),] is\n",
    "> fundamentally different than x[(1,2,3)]***. The latter is equivalent to\n",
    "> x[1,2,3] which will trigger basic selection while the former will\n",
    "> trigger advanced indexing. Be sure to understand why this occurs.\n"
   ]
  },
  {
   "cell_type": "code",
   "execution_count": 8,
   "metadata": {},
   "outputs": [
    {
     "name": "stdout",
     "output_type": "stream",
     "text": [
      "a is \n",
      "[[ 0  1  2  3]\n",
      " [ 4  5  6  7]\n",
      " [ 8  9 10 11]]\n",
      "\n",
      "None\n",
      "Comma makes a totally different story\n",
      "a[(0,1)] is \n",
      "1\n",
      "Is view False\n",
      "\n"
     ]
    }
   ],
   "source": [
    "Z = np.arange(12).reshape(3, 4)\n",
    "print(\"Z is \\n{}\\n\".format(Z))\n",
    "\n",
    "b = \n",
    "print(b.base)\n",
    "print(\"Comma makes a totally different story\")\n",
    "print(\"Z[(0,1)] is \\n{}\\nIs view {}\\n\".format(\n",
    "    Z[(0,1)],  # Same with Z[0,1]\n",
    "    Z[(0,1)].base is not None\n",
    "))\n",
    "print(Z[0,1].base)\n",
    "print(\"Z[(0,1),] is \\n{} \\nIs view {}\\n\".format(\n",
    "    Z[(0,1),],\n",
    "    Z[(0,1),].base is not None\n",
    "))"
   ]
  },
  {
   "cell_type": "markdown",
   "metadata": {},
   "source": [
    "### Difference between tuple indexing and array indexing when advance indexing\n",
    "[numpy - is Z[[1, 2],[1]] completely same with Z[(1,2),(1)]?\n",
    "](https://stackoverflow.com/questions/65501075/numpy-is-z1-2-1-completely-same-with-z1-2-1)"
   ]
  },
  {
   "cell_type": "code",
   "execution_count": 14,
   "metadata": {
    "scrolled": true
   },
   "outputs": [
    {
     "name": "stdout",
     "output_type": "stream",
     "text": [
      "Z is \n",
      "[[ 0  1  2  3]\n",
      " [ 4  5  6  7]\n",
      " [ 8  9 10 11]]\n",
      "\n",
      "Z[[1, 2],[1]] is \n",
      "[5 9] Is view False\n",
      "__array_interface__ {'data': (94194177532720, False), 'strides': None, 'descr': [('', '<i8')], 'typestr': '<i8', 'shape': (2,), 'version': 3}\n",
      "\n",
      "Z[(1,2),(1)] is \n",
      "[5 9] Is view False\n",
      "__array_interface__ {'data': (94194177118656, False), 'strides': None, 'descr': [('', '<i8')], 'typestr': '<i8', 'shape': (2,), 'version': 3}\n",
      "\n"
     ]
    }
   ],
   "source": [
    "Z = np.arange(12).reshape(3, 4)\n",
    "print(\"Z is \\n{}\\n\".format(Z))\n",
    "\n",
    "print(\"Z[[1, 2],[1]] is \\n{} Is view {}\\n__array_interface__ {}\\n\".format(\n",
    "    Z[\n",
    "        [1,2],\n",
    "        [1]\n",
    "    ],\n",
    "    Z[[1,2],[1]].base is not None,\n",
    "    Z[[1,2],[1]].__array_interface__\n",
    "))\n",
    "\n",
    "# Comparison with tuple indexing\n",
    "print(\"Z[(1,2),(1)] is \\n{} Is view {}\\n__array_interface__ {}\\n\".format(\n",
    "    Z[\n",
    "        (1,2),\n",
    "        (1)\n",
    "    ],\n",
    "    Z[(1,2),(1)].base is not None,\n",
    "    Z[(1,2),(1)].__array_interface__\n",
    "))"
   ]
  },
  {
   "cell_type": "markdown",
   "metadata": {},
   "source": [
    "---"
   ]
  },
  {
   "cell_type": "markdown",
   "metadata": {},
   "source": [
    "# Indexing patterns"
   ]
  },
  {
   "cell_type": "code",
   "execution_count": 149,
   "metadata": {},
   "outputs": [
    {
     "name": "stdout",
     "output_type": "stream",
     "text": [
      "[[ 0  1  2  3]\n",
      " [ 4  5  6  7]\n",
      " [ 8  9 10 11]]\n",
      "[[1 2]\n",
      " [5 6]]\n",
      "[ 1 11]\n",
      "[ 1 11]\n"
     ]
    }
   ],
   "source": [
    "import numpy as np\n",
    "a = np.arange(12).reshape(3, 4)\n",
    "print(a)\n",
    "\n",
    "# Slice indexing\n",
    "print(a[\n",
    "    0:2,\n",
    "    1:3\n",
    "])\n",
    "\n",
    "# Tuple indexing\n",
    "print(a[\n",
    "    (0, 2),\n",
    "    (1, 3)\n",
    "])\n",
    "\n",
    "# Array indexing\n",
    "print(a[\n",
    "    [0, 2],\n",
    "    [1, 3]\n",
    "])"
   ]
  },
  {
   "cell_type": "markdown",
   "metadata": {},
   "source": [
    "### Indexing pattern and copy/view"
   ]
  },
  {
   "cell_type": "code",
   "execution_count": 92,
   "metadata": {},
   "outputs": [
    {
     "name": "stdout",
     "output_type": "stream",
     "text": [
      "[[[ 0  1  2  3]\n",
      "  [ 4  5  6  7]\n",
      "  [ 8  9 10 11]]\n",
      "\n",
      " [[12 13 14 15]\n",
      "  [16 17 18 19]\n",
      "  [20 21 22 23]]]\n",
      "[1 9]\n",
      "Copy? True\n",
      "[1 9]\n",
      "Copy? True\n",
      "[0]\n",
      "Copy? False\n"
     ]
    }
   ],
   "source": [
    "import numpy as np\n",
    "a = np.arange(24).reshape(2, 3, 4)\n",
    "print(a)\n",
    "\n",
    "b = a[\n",
    "    (0),\n",
    "    (0, 2),\n",
    "    (1)\n",
    "]\n",
    "print(b)\n",
    "print(\"Copy? {}\".format(b.base is None))\n",
    "\n",
    "\n",
    "indices = (\n",
    "    [0],\n",
    "    [0, 2],\n",
    "    [1]\n",
    ")\n",
    "c = a[indices]\n",
    "print(c)\n",
    "print(\"Copy? {}\".format(c.base is None))\n",
    "\n",
    "d = a[\n",
    "    0,\n",
    "    0,\n",
    "    0:1\n",
    "]\n",
    "print(d)\n",
    "print(\"Copy? {}\".format(d.base is None))\n"
   ]
  },
  {
   "cell_type": "markdown",
   "metadata": {},
   "source": [
    "# Tuple indexing"
   ]
  },
  {
   "cell_type": "code",
   "execution_count": 49,
   "metadata": {},
   "outputs": [
    {
     "name": "stdout",
     "output_type": "stream",
     "text": [
      "[ 1 11]\n"
     ]
    }
   ],
   "source": [
    "print(a[\n",
    "    (0, 2),\n",
    "    (1, 3)\n",
    "])"
   ]
  },
  {
   "cell_type": "code",
   "execution_count": 34,
   "metadata": {},
   "outputs": [
    {
     "data": {
      "text/plain": [
       "array([ 1, 11])"
      ]
     },
     "execution_count": 34,
     "metadata": {},
     "output_type": "execute_result"
    }
   ],
   "source": [
    "index = (\n",
    "    (0, \n",
    "     2), (1, \n",
    "          3)\n",
    ")\n",
    "a[index]"
   ]
  },
  {
   "cell_type": "code",
   "execution_count": 36,
   "metadata": {},
   "outputs": [
    {
     "name": "stdout",
     "output_type": "stream",
     "text": [
      "[ 1 11]\n",
      "[ 1 11]\n"
     ]
    }
   ],
   "source": [
    "index = (\n",
    "    (0, 2), \n",
    "    (1, 3)\n",
    ")\n",
    "print(a[index])\n",
    "print(a[\n",
    "    (0, 2),\n",
    "    (1, 3)\n",
    "])"
   ]
  },
  {
   "cell_type": "markdown",
   "metadata": {},
   "source": [
    "### Using array in tuple indexing is deprecated"
   ]
  },
  {
   "cell_type": "code",
   "execution_count": 50,
   "metadata": {},
   "outputs": [
    {
     "name": "stdout",
     "output_type": "stream",
     "text": [
      "[ 1 11]\n"
     ]
    },
    {
     "name": "stderr",
     "output_type": "stream",
     "text": [
      "<ipython-input-50-2fdfff8b4d68>:5: FutureWarning: Using a non-tuple sequence for multidimensional indexing is deprecated; use `arr[tuple(seq)]` instead of `arr[seq]`. In the future this will be interpreted as an array index, `arr[np.array(seq)]`, which will result either in an error or a different result.\n",
      "  print(a[index])\n"
     ]
    }
   ],
   "source": [
    "index = [\n",
    "    (0, 2), \n",
    "    (1, 3)\n",
    "]\n",
    "print(a[index])"
   ]
  },
  {
   "cell_type": "code",
   "execution_count": 2,
   "metadata": {
    "scrolled": true
   },
   "outputs": [
    {
     "name": "stdout",
     "output_type": "stream",
     "text": [
      "Array Z is \n",
      "[[[ 0  1  2  3]\n",
      "  [ 4  5  6  7]\n",
      "  [ 8  9 10 11]]\n",
      "\n",
      " [[12 13 14 15]\n",
      "  [16 17 18 19]\n",
      "  [20 21 22 23]]\n",
      "\n",
      " [[24 25 26 27]\n",
      "  [28 29 30 31]\n",
      "  [32 33 34 35]]]\n",
      "\n",
      "Array indices Z[[0,2]] is \n",
      "[[[ 0  1  2  3]\n",
      "  [ 4  5  6  7]\n",
      "  [ 8  9 10 11]]\n",
      "\n",
      " [[24 25 26 27]\n",
      "  [28 29 30 31]\n",
      "  [32 33 34 35]]]\n",
      " Is view? False\n",
      "\n",
      "Tuple indices Z[(0,2)] is \n",
      "[ 8  9 10 11]\n",
      " Is view? True\n",
      "\n",
      "Basic indices Z[0,2] is \n",
      "[ 8  9 10 11]\n",
      " Is view? True\n",
      "\n",
      "Slice indices Z[0:1,2:3] is \n",
      "[[[ 8  9 10 11]]]\n",
      " Is view? True\n",
      "\n",
      "Z[(0,2)] is same with Z[0][2] [ 8  9 10 11]. \n",
      "Z[0][2] is view? True\n"
     ]
    }
   ],
   "source": [
    "import numpy as np\n",
    "Z = np.arange(36).reshape(3, 3, 4)\n",
    "print(\"Array Z is \\n{}\\n\".format(Z))\n",
    "\n",
    "print(\"Array indices Z[[0,2]] is \\n{}\\n Is view? {}\\n\".format(\n",
    "    Z[\n",
    "        [0,2]      # Select element 0, and 2 in dimension(n)\n",
    "    ],\n",
    "    Z[[0,2]].base is not None\n",
    "))\n",
    "\n",
    "print(\"Tuple indices Z[(0,2)] is \\n{}\\n Is view? {}\\n\".format(\n",
    "    Z[\n",
    "        (0,2)      # Select Z[0][2]\n",
    "    ],\n",
    "    Z[(0,2)].base is not None\n",
    "))\n",
    "\n",
    "print(\"Basic indices Z[0,2] is \\n{}\\n Is view? {}\\n\".format(\n",
    "    Z[\n",
    "        0,\n",
    "        2      # Select Z[0][2]\n",
    "    ],\n",
    "    Z[0,2].base is not None\n",
    "))\n",
    "\n",
    "print(\"Z[(0,2)] is same with Z[0][2] {}. \\nZ[0][2] is view? {}\".format(\n",
    "    Z[0][2],\n",
    "    (Z[0][2]).base is not None\n",
    "))\n",
    "\n",
    "\n",
    "print(\"Slice indices Z[0:1,2:3] is \\n{}\\n Is view? {}\\n\".format(\n",
    "    Z[\n",
    "        0:1,\n",
    "        2:3      # Select Z[0][2]\n",
    "    ],\n",
    "    Z[0:1, 2:3].base is not None\n",
    "))\n",
    "\n"
   ]
  },
  {
   "cell_type": "code",
   "execution_count": 126,
   "metadata": {},
   "outputs": [
    {
     "name": "stdout",
     "output_type": "stream",
     "text": [
      "Z is \n",
      "[[[ 0  1  2  3]\n",
      "  [ 4  5  6  7]\n",
      "  [ 8  9 10 11]]\n",
      "\n",
      " [[12 13 14 15]\n",
      "  [16 17 18 19]\n",
      "  [20 21 22 23]]\n",
      "\n",
      " [[24 25 26 27]\n",
      "  [28 29 30 31]\n",
      "  [32 33 34 35]]]\n",
      "\n",
      "Tuple indexing Z[(0,2)] is \n",
      "[ 8  9 10 11]\n",
      "Is view? True\n",
      "\n",
      "Tuple indexing Z[(0, 2), (0)] is \n",
      "[[ 0  1  2  3]\n",
      " [24 25 26 27]]\n",
      "Is view? False\n",
      "\n"
     ]
    }
   ],
   "source": [
    "import numpy as np\n",
    "Z = np.arange(36).reshape(3, 3, 4)\n",
    "print(\"Z is \\n{}\\n\".format(Z))\n",
    "\n",
    "b =  Z[\n",
    "    (0,2)      # Select Z[0][2]\n",
    "]\n",
    "print(\"Tuple indexing Z[(0,2)] is \\n{}\\nIs view? {}\\n\".format(\n",
    "    b,\n",
    "    b.base is not None\n",
    "))\n",
    "\n",
    "c = Z[         # Select Z[0][0][1] & Z[0][2][1]\n",
    "    (0,2),\n",
    "    (0)\n",
    "]\n",
    "print(\"Tuple indexing Z[(0, 2), (0)] is \\n{}\\nIs view? {}\\n\".format(\n",
    "    c,\n",
    "    c.base is not None\n",
    "))"
   ]
  },
  {
   "cell_type": "markdown",
   "metadata": {},
   "source": [
    "# Slice indexing\n",
    "\n",
    "[Basic Slicing and Indexing](https://numpy.org/doc/stable/reference/arrays.indexing.html)\n",
    "\n",
    "> Basic slicing occurs when obj is a slice object (constructed by start:stop:step notation inside of brackets), an integer, or a tuple of **slice objects and integers**. Ellipsis and newaxis objects can be interspersed with these as well."
   ]
  },
  {
   "cell_type": "code",
   "execution_count": 140,
   "metadata": {},
   "outputs": [
    {
     "name": "stdout",
     "output_type": "stream",
     "text": [
      "Z is \n",
      "[[[ 0  1  2  3]\n",
      "  [ 4  5  6  7]\n",
      "  [ 8  9 10 11]]\n",
      "\n",
      " [[12 13 14 15]\n",
      "  [16 17 18 19]\n",
      "  [20 21 22 23]]]\n",
      "\n",
      "Slice indexing Z[0:1, 0:1, 1:3] is \n",
      "[[[1 2]\n",
      "  [5 6]]]\n",
      "Is view? True\n",
      "\n"
     ]
    }
   ],
   "source": [
    "Z = np.arange(24).reshape(2, 3, 4)\n",
    "print(\"Z is \\n{}\\n\".format(Z))\n",
    "a = Z[\n",
    "    0:1,\n",
    "    0:2,\n",
    "    1:3\n",
    "]\n",
    "print(\"Slice indexing Z[0:1, 0:1, 1:3] is \\n{}\\nIs view? {}\\n\".format(\n",
    "    a,\n",
    "    a.base is not None\n",
    "))"
   ]
  },
  {
   "cell_type": "markdown",
   "metadata": {},
   "source": [
    "## Syntax\n",
    "Beware it is **slice objects** but NOT slice expressions. Python does not generate a slice object from ```(0:1)```.\n",
    "\n",
    ">  a tuple of **slice objects and integers**\n",
    "\n",
    "\n",
    "```\n",
    "list(range(10))[(1:2)]\n",
    "---\n",
    "  File \"<ipython-input-113-69d6c13ca5be>\", line 1\n",
    "    list(range(10))[(1:2)]\n",
    "                      ^\n",
    "SyntaxError: invalid syntax\n",
    "\n",
    "\n",
    "Z = np.arange(36).reshape(3, 3, 4)\n",
    "print(\"Z is \\n{}\\n\".format(Z))\n",
    "\n",
    "a = Z[\n",
    "    (0:1, 2:3, 1)\n",
    "]\n",
    "---\n",
    "  File \"<ipython-input-53-26b1604433cd>\", line 5\n",
    "    (0:1, 2:3, 1)\n",
    "      ^\n",
    "SyntaxError: invalid syntax\n",
    "```"
   ]
  },
  {
   "cell_type": "markdown",
   "metadata": {},
   "source": [
    "### numpy ```s_ ``` utility\n",
    "\n",
    "```s_``` function can take slice expressions and integer expressions and returns a tuple of slice objects and integers."
   ]
  },
  {
   "cell_type": "code",
   "execution_count": 114,
   "metadata": {},
   "outputs": [
    {
     "name": "stdout",
     "output_type": "stream",
     "text": [
      "Z is \n",
      "[[[ 0  1  2  3]\n",
      "  [ 4  5  6  7]\n",
      "  [ 8  9 10 11]]\n",
      "\n",
      " [[12 13 14 15]\n",
      "  [16 17 18 19]\n",
      "  [20 21 22 23]]\n",
      "\n",
      " [[24 25 26 27]\n",
      "  [28 29 30 31]\n",
      "  [32 33 34 35]]]\n",
      "\n",
      "(slice(0, 1, None), slice(2, 3, None), 1)\n",
      "[[9]]\n"
     ]
    }
   ],
   "source": [
    "from numpy import s_\n",
    "Z = np.arange(36).reshape(3, 3, 4)\n",
    "print(\"Z is \\n{}\\n\".format(Z))\n",
    "\n",
    "print(s_[0:1, 2:3, 1])\n",
    "print(Z[s_[0:1, 2:3, 1]])"
   ]
  },
  {
   "cell_type": "markdown",
   "metadata": {},
   "source": [
    "## Selecting multiple slices\n",
    "It is not possible to select multiple blocks within a dimension with mutliple slices expressions.\n",
    "\n",
    "```\n",
    "Z = np.arange(12).reshape(3, 4)\n",
    "print(\"Z is \\n{}\\n\".format(Z))\n",
    "\n",
    "Z[\n",
    "    1,\n",
    "    [0:1, 1:2, 3]\n",
    "]\n",
    "---\n",
    "  File \"<ipython-input-118-550cf22b0e60>\", line 6\n",
    "    [0:1, 1:2, 3]\n",
    "      ^\n",
    "SyntaxError: invalid syntax\n",
    "```\n",
    "\n",
    "A tuple of slice objects and integers cannot be used within a dimension, either.\n",
    "```\n",
    "from numpy import s_\n",
    "Z = np.arange(12).reshape(3, 4)\n",
    "print(\"Z is \\n{}\\n\".format(Z))\n",
    "\n",
    "Z[\n",
    "    1,\n",
    "    [slice(0,1), slice(1,2), 3]\n",
    "]\n",
    "---------------------------------------------------------------------------\n",
    "IndexError                                Traceback (most recent call last)\n",
    "<ipython-input-117-d0b88945e9b3> in <module>\n",
    "      3 print(\"Z is \\n{}\\n\".format(Z))\n",
    "      4 \n",
    "----> 5 Z[\n",
    "      6     1,\n",
    "      7     [slice(0,1), slice(1,2), 3]\n",
    "\n",
    "IndexError: only integers, slices (`:`), ellipsis (`...`), numpy.newaxis (`None`) and integer or boolean arrays are valid indices\n",
    "```\n",
    "Need to create a single list or single slice object"
   ]
  },
  {
   "cell_type": "code",
   "execution_count": 205,
   "metadata": {},
   "outputs": [
    {
     "name": "stdout",
     "output_type": "stream",
     "text": [
      "Z is \n",
      "[[ 0  1  2  3]\n",
      " [ 4  5  6  7]\n",
      " [ 8  9 10 11]]\n",
      "\n",
      "Z[0,xslice(list(range(Z.shape[1])), s_[0:2, 3]] is\n",
      "[0 1 3]\n",
      "\n",
      "[[100 100   2 100]\n",
      " [  4   5   6   7]\n",
      " [  8   9  10  11]]\n"
     ]
    }
   ],
   "source": [
    "import numpy as np\n",
    "def xslice(x, slices):\n",
    "    \"\"\"Extract slices from array-like\n",
    "    Args:\n",
    "        x: array-like\n",
    "        slices: slice or tuple of slice objects\n",
    "    \"\"\"\n",
    "    if isinstance(slices, tuple):\n",
    "        if isinstance(x, np.ndarray):\n",
    "            return np.concatenate([x[_slice] for _slice in slices])\n",
    "        else:\n",
    "            return sum((x[s] if isinstance(s, slice) else [x[s]] for s in slices), [])        \n",
    "    elif isinstance(slices, slice):\n",
    "        return x[slices]\n",
    "    else:\n",
    "        return [x[slices]]\n",
    "\n",
    "\n",
    "Z = np.arange(25).reshape(5, 5)\n",
    "\n",
    "\n",
    "Z = np.arange(12).reshape(3, 4)\n",
    "print(\"Z is \\n{}\\n\".format(Z))\n",
    "print(\"Z[0,xslice(list(range(Z.shape[1])), s_[0:2, 3]] is\\n{}\\n\".format(\n",
    "    Z[\n",
    "        0,\n",
    "        xslice(list(range(Z.shape[1])), s_[0:2, 3])\n",
    "    ]\n",
    "))\n",
    "\n",
    "Z[\n",
    "    [[0]],\n",
    "    [[0, 1, 3]]\n",
    "] = 100\n",
    "print(Z)"
   ]
  },
  {
   "cell_type": "code",
   "execution_count": 203,
   "metadata": {},
   "outputs": [
    {
     "name": "stdout",
     "output_type": "stream",
     "text": [
      "[slice(0, 0, None), slice(0, 2, None)]\n",
      "[]\n",
      "[0 1]\n"
     ]
    }
   ],
   "source": [
    "x = list(range(10))\n",
    "slices = (slice(0, 0, None), slice(0, 2, None))\n",
    "print([s for s in slices])\n",
    "g = (x[s] for s in slices)\n",
    "a = []\n",
    "for e in g:\n",
    "    b = np.append(a, e).astype(int)\n",
    "    print(b)\n",
    "    \n",
    "#print(np.sum([x[s] for s in slices], start=np.empty(1)))"
   ]
  },
  {
   "cell_type": "code",
   "execution_count": null,
   "metadata": {},
   "outputs": [],
   "source": [
    "x = np.arange(10)\n",
    "slices = (slice(0, 0, None), slice(0, 2, None))\n",
    "print([s for s in slices])\n",
    "g = (x[s] for s in slices)\n",
    "a = []\n",
    "for e in g:\n",
    "    b = np.append(a, e).astype(int)\n",
    "    print(b)\n",
    "    \n",
    "#print(np.sum([x[s] for s in slices], start=np.empty(1)))"
   ]
  },
  {
   "cell_type": "code",
   "execution_count": 133,
   "metadata": {},
   "outputs": [
    {
     "name": "stdout",
     "output_type": "stream",
     "text": [
      "[0, 1, 2, 3, 4, 5, 6, 7, 8, 9]\n",
      "[slice(0, 2, None), slice(4, 5, None)]\n",
      "<generator object <genexpr> at 0x7f3a741d7040>\n",
      "[[0, 1], [4]]\n"
     ]
    },
    {
     "data": {
      "text/plain": [
       "[0, 1, 4]"
      ]
     },
     "execution_count": 133,
     "metadata": {},
     "output_type": "execute_result"
    }
   ],
   "source": [
    "#X = np.arange(10)\n",
    "X = list(range(10))  # [i for i in range(10)]\n",
    "print(X)\n",
    "indices = s_[0:2, 4:5]\n",
    "\n",
    "print(list(s for s in indices))\n",
    "print((X[s] for s in indices))\n",
    "print(list(X[s] for s in indices))\n",
    "\n",
    "\n",
    "xslice(list(range(10)), indices)\n",
    "xslice(X, indices)\n",
    "\n",
    "#sum([list(range(10))[s] for s in indices], [])\n",
    "\n",
    "\n"
   ]
  },
  {
   "cell_type": "markdown",
   "metadata": {},
   "source": [
    "# Array indexing"
   ]
  },
  {
   "cell_type": "code",
   "execution_count": 48,
   "metadata": {},
   "outputs": [
    {
     "name": "stdout",
     "output_type": "stream",
     "text": [
      "Z is \n",
      "[[ 0  1  2  3]\n",
      " [ 4  5  6  7]\n",
      " [ 8  9 10 11]]\n",
      "\n",
      "Z[[1, 2],[1]] is \n",
      "[5 9] Is view False\n",
      "\n",
      "Z[(1,2),(1)] is \n",
      "[5 9] Is view False\n",
      "\n",
      "Z[(0,1)] is \n",
      "1 Is view False\n",
      "\n",
      "Z[(0,1),] is \n",
      "[[0 1 2 3]\n",
      " [4 5 6 7]] Is view False\n",
      "\n"
     ]
    }
   ],
   "source": [
    "Z = np.arange(12).reshape(3, 4)\n",
    "print(\"Z is \\n{}\\n\".format(Z))\n",
    "print(\"Z[[1, 2],[1]] is \\n{} Is view {}\\n\".format(\n",
    "    Z[\n",
    "        [1,2],\n",
    "        [1]\n",
    "    ],\n",
    "    Z[[1,2],[1]].base is not None\n",
    "))\n",
    "\n",
    "# Comparision with slice indexing\n",
    "print(\"Z[(1,2),(1)] is \\n{} Is view {}\\n\".format(\n",
    "    Z[\n",
    "        (1,2),\n",
    "        (1)\n",
    "    ],\n",
    "    Z[(1,2),(1)].base is not None\n",
    "))\n",
    "\n",
    "# Comma makes a difference\n",
    "print(\"Z[(0,1)] is \\n{}\\nIs view {}\\n\".format(\n",
    "    Z[(0,1)],  # Same with Z[0,1]\n",
    "    Z[(0,1)].base is not None\n",
    "))\n",
    "\n",
    "print(\"Z[(0,1),] is \\n{} \\nIs view {}\\n\".format(\n",
    "    Z[(0,1),],\n",
    "    Z[(0,1),].base is not None\n",
    "))"
   ]
  },
  {
   "cell_type": "code",
   "execution_count": 148,
   "metadata": {},
   "outputs": [
    {
     "name": "stdout",
     "output_type": "stream",
     "text": [
      "Z is \n",
      "[[[ 0  1  2  3]\n",
      "  [ 4  5  6  7]\n",
      "  [ 8  9 10 11]]\n",
      "\n",
      " [[12 13 14 15]\n",
      "  [16 17 18 19]\n",
      "  [20 21 22 23]]\n",
      "\n",
      " [[24 25 26 27]\n",
      "  [28 29 30 31]\n",
      "  [32 33 34 35]]]\n",
      "\n",
      "Array indexing Z[[0],[1],[0,1,2]] is \n",
      "[4 5 6]\n",
      "Is view? False\n",
      "\n"
     ]
    }
   ],
   "source": [
    "Z = np.arange(36).reshape(3, 3, 4)\n",
    "print(\"Z is \\n{}\\n\".format(Z))\n",
    "a = Z[\n",
    "    [0],\n",
    "    [1],\n",
    "    [0,1,2]\n",
    "]\n",
    "\n",
    "print(\"Array indexing Z[[0],[1],[0,1,2]] is \\n{}\\nIs view? {}\\n\".format(\n",
    "    a,\n",
    "    a.base is not None\n",
    "))"
   ]
  },
  {
   "cell_type": "code",
   "execution_count": 171,
   "metadata": {
    "scrolled": false
   },
   "outputs": [
    {
     "name": "stdout",
     "output_type": "stream",
     "text": [
      "Z is \n",
      "[[[ 0  1  2  3]\n",
      "  [ 4  5  6  7]\n",
      "  [ 8  9 10 11]]\n",
      "\n",
      " [[12 13 14 15]\n",
      "  [16 17 18 19]\n",
      "  [20 21 22 23]]\n",
      "\n",
      " [[24 25 26 27]\n",
      "  [28 29 30 31]\n",
      "  [32 33 34 35]]]\n",
      "\n",
      "indices is \n",
      "[[0 2]\n",
      " [1 2]]\n",
      "\n",
      "Z[np.array([[0, 2], [1, 2]])] is \n",
      "[[[[ 0  1  2  3]\n",
      "   [ 4  5  6  7]\n",
      "   [ 8  9 10 11]]\n",
      "\n",
      "  [[24 25 26 27]\n",
      "   [28 29 30 31]\n",
      "   [32 33 34 35]]]\n",
      "\n",
      "\n",
      " [[[12 13 14 15]\n",
      "   [16 17 18 19]\n",
      "   [20 21 22 23]]\n",
      "\n",
      "  [[24 25 26 27]\n",
      "   [28 29 30 31]\n",
      "   [32 33 34 35]]]] Is view? False\n",
      "\n",
      "Z[i] with i = [[0, 2], [1, 2]] is \n",
      "[[ 4  5  6  7]\n",
      " [32 33 34 35]] Is view? False\n",
      "\n",
      "Z[np.array([0, 2]), np.array([1, 2])] is \n",
      "[[ 4  5  6  7]\n",
      " [32 33 34 35]] Is view? False\n",
      "\n"
     ]
    },
    {
     "name": "stderr",
     "output_type": "stream",
     "text": [
      "<ipython-input-171-730f8014a9ec>:15: FutureWarning: Using a non-tuple sequence for multidimensional indexing is deprecated; use `arr[tuple(seq)]` instead of `arr[seq]`. In the future this will be interpreted as an array index, `arr[np.array(seq)]`, which will result either in an error or a different result.\n",
      "  c = Z[i]\n"
     ]
    }
   ],
   "source": [
    "Z = np.arange(36).reshape(3, 3, 4)\n",
    "print(\"Z is \\n{}\\n\".format(Z))\n",
    "\n",
    "indices= np.array([[0, 2], [1, 2]])\n",
    "print(\"indices is \\n{}\\n\".format(indices))\n",
    "\n",
    "b = Z[indices]\n",
    "print(\"Z[np.array([[0, 2], [1, 2]])] is \\n{} Is view? {}\\n\".format(\n",
    "    b,\n",
    "    b.base is not None\n",
    "))\n",
    "\n",
    "\n",
    "i = [[0, 2], [1, 2]]\n",
    "c = Z[i] \n",
    "print(\"Z[i] with i = [[0, 2], [1, 2]] is \\n{} Is view? {}\\n\".format(\n",
    "    c,\n",
    "    c.base is not None\n",
    "))\n",
    "\n",
    "d = Z[\n",
    "    np.array([0, 2]), np.array([1, 2])\n",
    "]\n",
    "print(\"Z[np.array([0, 2]), np.array([1, 2])] is \\n{} Is view? {}\\n\".format(\n",
    "    d,\n",
    "    d.base is not None\n",
    "))\n"
   ]
  },
  {
   "cell_type": "markdown",
   "metadata": {},
   "source": [
    "# Matrix indexing\n",
    "Same with Array Indexing. Instead of intenger:\n",
    "```\n",
    "Z[\n",
    "  [0, 1, 2],\n",
    "  [1, 2, 3]\n",
    "]\n",
    "```\n",
    "matrices is the index elements, but the behavior is the same.\n",
    "```\n",
    "Z[\n",
    "  [[0, 1, 2],\n",
    "   [0, 0, 1]],\n",
    "  [[0, 1, 0],\n",
    "   [1, 2, 0]]\n",
    "]\n",
    "```\n",
    "\n",
    "<img src='images/matrix_indexing.png' width=650, align=\"left\"/>"
   ]
  },
  {
   "cell_type": "code",
   "execution_count": 96,
   "metadata": {},
   "outputs": [
    {
     "name": "stdout",
     "output_type": "stream",
     "text": [
      "Z is \n",
      "[[[ 0  1  2  3]\n",
      "  [ 4  5  6  7]\n",
      "  [ 8  9 10 11]]\n",
      "\n",
      " [[12 13 14 15]\n",
      "  [16 17 18 19]\n",
      "  [20 21 22 23]]\n",
      "\n",
      " [[24 25 26 27]\n",
      "  [28 29 30 31]\n",
      "  [32 33 34 35]]]\n",
      "\n"
     ]
    },
    {
     "data": {
      "text/plain": [
       "array([[11, 18, 25,  8],\n",
       "       [26, 17,  2, 29]])"
      ]
     },
     "execution_count": 96,
     "metadata": {},
     "output_type": "execute_result"
    }
   ],
   "source": [
    "Z = np.arange(36).reshape(3, 3, 4)\n",
    "print(\"Z is \\n{}\\n\".format(Z))\n",
    "\n",
    "axis3_indices = [\n",
    "    [0, 1, 2, 0],\n",
    "    [2, 1, 0, 2]\n",
    "]\n",
    "axis2_indices = [\n",
    "    [2, 1, 0, 2],\n",
    "    [0, 1, 0, 1]\n",
    "]\n",
    "axis1_indices = [\n",
    "    [3, 2, 1, 0],\n",
    "    [2, 1, 2, 1]\n",
    "]\n",
    "\n",
    "Z[\n",
    "    axis3_indices, \n",
    "    axis2_indices, \n",
    "    axis1_indices\n",
    "]"
   ]
  },
  {
   "cell_type": "code",
   "execution_count": 109,
   "metadata": {},
   "outputs": [
    {
     "name": "stdout",
     "output_type": "stream",
     "text": [
      "Z is \n",
      "[[ 0  1  2  3]\n",
      " [ 4  5  6  7]\n",
      " [ 8  9 10 11]]\n",
      "\n",
      "[[[[[ 0  1  2  3]\n",
      "    [ 4  5  6  7]]\n",
      "\n",
      "   [[ 8  9 10 11]\n",
      "    [ 4  5  6  7]]]\n",
      "\n",
      "\n",
      "  [[[ 8  9 10 11]\n",
      "    [ 4  5  6  7]]\n",
      "\n",
      "   [[ 0  1  2  3]\n",
      "    [ 8  9 10 11]]]]]\n",
      "[[2 5]\n",
      " [8 6]]\n",
      "[[[2 5]\n",
      "  [8 6]]]\n"
     ]
    }
   ],
   "source": [
    "Z = np.arange(12).reshape(3, 4)\n",
    "print(\"Z is \\n{}\\n\".format(Z))\n",
    "\n",
    "axis_2_indices_01 = np.array([[0, 1],\n",
    "                              [2, 1]], dtype=np.intp)\n",
    "axis_2_indices_02 = np.array([[2, 1],\n",
    "                              [0, 2]], dtype=np.intp)\n",
    "indices = np.array([\n",
    "    [ axis_2_indices_01, axis_2_indices_02 ]   # dimension 2 selector\n",
    "    # You can add dimension 1 indices \n",
    "])\n",
    "print(Z[indices])\n",
    "\n",
    "print(Z[\n",
    "    axis_2_indices_01,\n",
    "    axis_2_indices_02  # Use axis_2_indices_02 as axis_1_indices\n",
    "])\n",
    "print(Z[\n",
    "    [ axis_2_indices_01 ],\n",
    "    [ np.array([[2, 1],\n",
    "                [0, 2]], dtype=np.intp)]\n",
    "])"
   ]
  },
  {
   "cell_type": "code",
   "execution_count": 107,
   "metadata": {},
   "outputs": [
    {
     "name": "stdout",
     "output_type": "stream",
     "text": [
      "Z is \n",
      "[[ 0  1  2  3]\n",
      " [ 4  5  6  7]\n",
      " [ 8  9 10 11]]\n",
      "\n",
      "[[[ 0  1  2  3]\n",
      "  [ 4  5  6  7]]\n",
      "\n",
      " [[ 8  9 10 11]\n",
      "  [ 4  5  6  7]]]\n",
      "[[[ 2  1]\n",
      "  [ 0  2]]\n",
      "\n",
      " [[ 6  5]\n",
      "  [ 4  6]]\n",
      "\n",
      " [[10  9]\n",
      "  [ 8 10]]]\n",
      "[[2 5]\n",
      " [8 6]]\n",
      "[[2 5]\n",
      " [8 6]]\n"
     ]
    },
    {
     "data": {
      "text/plain": [
       "array([[2, 5],\n",
       "       [8, 6]])"
      ]
     },
     "execution_count": 107,
     "metadata": {},
     "output_type": "execute_result"
    }
   ],
   "source": [
    "Z = np.arange(12).reshape(3, 4)\n",
    "print(\"Z is \\n{}\\n\".format(Z))\n",
    "\n",
    "rows = [\n",
    "    [0, 1],\n",
    "    [2, 1]\n",
    "]\n",
    "cols = [\n",
    "    [2, 1],\n",
    "    [0, 2]\n",
    "]\n",
    "\n",
    "print(Z[\n",
    "    rows,\n",
    "    ::\n",
    "])\n",
    "print(Z[\n",
    "    ::,\n",
    "    cols\n",
    "])\n",
    "print(Z[\n",
    "    rows,\n",
    "    cols\n",
    "])\n",
    "\n",
    "\n",
    "indices_01 = np.array([[0, 1],\n",
    "                       [2, 1]], dtype=np.intp)\n",
    "indices_02 = np.array([[2, 1],\n",
    "                       [0, 2]], dtype=np.intp)\n",
    "\n",
    "print(Z[\n",
    "    indices_01,\n",
    "    indices_02\n",
    "])\n",
    "Z[\n",
    "    [[0, 1], \n",
    "     [2, 1]],\n",
    "    [[2, 1], \n",
    "     [0, 2]]\n",
    "]"
   ]
  }
 ],
 "metadata": {
  "kernelspec": {
   "display_name": "Python 3",
   "language": "python",
   "name": "python3"
  },
  "language_info": {
   "codemirror_mode": {
    "name": "ipython",
    "version": 3
   },
   "file_extension": ".py",
   "mimetype": "text/x-python",
   "name": "python",
   "nbconvert_exporter": "python",
   "pygments_lexer": "ipython3",
   "version": "3.8.5"
  }
 },
 "nbformat": 4,
 "nbformat_minor": 4
}
