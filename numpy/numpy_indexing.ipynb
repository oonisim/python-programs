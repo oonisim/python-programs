{
 "cells": [
  {
   "cell_type": "code",
   "execution_count": 1,
   "metadata": {},
   "outputs": [
    {
     "name": "stdout",
     "output_type": "stream",
     "text": [
      "[[ 0  1  2  3]\n",
      " [ 4  5  6  7]\n",
      " [ 8  9 10 11]]\n"
     ]
    }
   ],
   "source": [
    "import numpy as np\n",
    "a = np.arange(12).reshape(3, 4)\n",
    "print(a)"
   ]
  },
  {
   "cell_type": "markdown",
   "metadata": {},
   "source": [
    "# Indexing patterns"
   ]
  },
  {
   "cell_type": "code",
   "execution_count": 149,
   "metadata": {},
   "outputs": [
    {
     "name": "stdout",
     "output_type": "stream",
     "text": [
      "[[ 0  1  2  3]\n",
      " [ 4  5  6  7]\n",
      " [ 8  9 10 11]]\n",
      "[[1 2]\n",
      " [5 6]]\n",
      "[ 1 11]\n",
      "[ 1 11]\n"
     ]
    }
   ],
   "source": [
    "import numpy as np\n",
    "a = np.arange(12).reshape(3, 4)\n",
    "print(a)\n",
    "\n",
    "# Slice indexing\n",
    "print(a[\n",
    "    0:2,\n",
    "    1:3\n",
    "])\n",
    "\n",
    "# Tuple indexing\n",
    "print(a[\n",
    "    (0, 2),\n",
    "    (1, 3)\n",
    "])\n",
    "\n",
    "# Array indexing\n",
    "print(a[\n",
    "    [0, 2],\n",
    "    [1, 3]\n",
    "])"
   ]
  },
  {
   "cell_type": "markdown",
   "metadata": {},
   "source": [
    "### Indexing pattern and copy/view"
   ]
  },
  {
   "cell_type": "code",
   "execution_count": 92,
   "metadata": {},
   "outputs": [
    {
     "name": "stdout",
     "output_type": "stream",
     "text": [
      "[[[ 0  1  2  3]\n",
      "  [ 4  5  6  7]\n",
      "  [ 8  9 10 11]]\n",
      "\n",
      " [[12 13 14 15]\n",
      "  [16 17 18 19]\n",
      "  [20 21 22 23]]]\n",
      "[1 9]\n",
      "Copy? True\n",
      "[1 9]\n",
      "Copy? True\n",
      "[0]\n",
      "Copy? False\n"
     ]
    }
   ],
   "source": [
    "import numpy as np\n",
    "a = np.arange(24).reshape(2, 3, 4)\n",
    "print(a)\n",
    "\n",
    "b = a[\n",
    "    (0),\n",
    "    (0, 2),\n",
    "    (1)\n",
    "]\n",
    "print(b)\n",
    "print(\"Copy? {}\".format(b.base is None))\n",
    "\n",
    "\n",
    "indices = (\n",
    "    [0],\n",
    "    [0, 2],\n",
    "    [1]\n",
    ")\n",
    "c = a[indices]\n",
    "print(c)\n",
    "print(\"Copy? {}\".format(c.base is None))\n",
    "\n",
    "d = a[\n",
    "    0,\n",
    "    0,\n",
    "    0:1\n",
    "]\n",
    "print(d)\n",
    "print(\"Copy? {}\".format(d.base is None))\n"
   ]
  },
  {
   "cell_type": "markdown",
   "metadata": {},
   "source": [
    "# Tuple indexing"
   ]
  },
  {
   "cell_type": "code",
   "execution_count": 49,
   "metadata": {},
   "outputs": [
    {
     "name": "stdout",
     "output_type": "stream",
     "text": [
      "[ 1 11]\n"
     ]
    }
   ],
   "source": [
    "print(a[\n",
    "    (0, 2),\n",
    "    (1, 3)\n",
    "])"
   ]
  },
  {
   "cell_type": "code",
   "execution_count": 34,
   "metadata": {},
   "outputs": [
    {
     "data": {
      "text/plain": [
       "array([ 1, 11])"
      ]
     },
     "execution_count": 34,
     "metadata": {},
     "output_type": "execute_result"
    }
   ],
   "source": [
    "index = (\n",
    "    (0, \n",
    "     2), (1, \n",
    "          3)\n",
    ")\n",
    "a[index]"
   ]
  },
  {
   "cell_type": "code",
   "execution_count": 36,
   "metadata": {},
   "outputs": [
    {
     "name": "stdout",
     "output_type": "stream",
     "text": [
      "[ 1 11]\n",
      "[ 1 11]\n"
     ]
    }
   ],
   "source": [
    "index = (\n",
    "    (0, 2), \n",
    "    (1, 3)\n",
    ")\n",
    "print(a[index])\n",
    "print(a[\n",
    "    (0, 2),\n",
    "    (1, 3)\n",
    "])"
   ]
  },
  {
   "cell_type": "markdown",
   "metadata": {},
   "source": [
    "### Using array in tuple indexing is deprecated"
   ]
  },
  {
   "cell_type": "code",
   "execution_count": 50,
   "metadata": {},
   "outputs": [
    {
     "name": "stdout",
     "output_type": "stream",
     "text": [
      "[ 1 11]\n"
     ]
    },
    {
     "name": "stderr",
     "output_type": "stream",
     "text": [
      "<ipython-input-50-2fdfff8b4d68>:5: FutureWarning: Using a non-tuple sequence for multidimensional indexing is deprecated; use `arr[tuple(seq)]` instead of `arr[seq]`. In the future this will be interpreted as an array index, `arr[np.array(seq)]`, which will result either in an error or a different result.\n",
      "  print(a[index])\n"
     ]
    }
   ],
   "source": [
    "index = [\n",
    "    (0, 2), \n",
    "    (1, 3)\n",
    "]\n",
    "print(a[index])"
   ]
  },
  {
   "cell_type": "code",
   "execution_count": 2,
   "metadata": {
    "scrolled": true
   },
   "outputs": [
    {
     "name": "stdout",
     "output_type": "stream",
     "text": [
      "Array Z is \n",
      "[[[ 0  1  2  3]\n",
      "  [ 4  5  6  7]\n",
      "  [ 8  9 10 11]]\n",
      "\n",
      " [[12 13 14 15]\n",
      "  [16 17 18 19]\n",
      "  [20 21 22 23]]\n",
      "\n",
      " [[24 25 26 27]\n",
      "  [28 29 30 31]\n",
      "  [32 33 34 35]]]\n",
      "\n",
      "Array indices Z[[0,2]] is \n",
      "[[[ 0  1  2  3]\n",
      "  [ 4  5  6  7]\n",
      "  [ 8  9 10 11]]\n",
      "\n",
      " [[24 25 26 27]\n",
      "  [28 29 30 31]\n",
      "  [32 33 34 35]]]\n",
      " Is view? False\n",
      "\n",
      "Tuple indices Z[(0,2)] is \n",
      "[ 8  9 10 11]\n",
      " Is view? True\n",
      "\n",
      "Basic indices Z[0,2] is \n",
      "[ 8  9 10 11]\n",
      " Is view? True\n",
      "\n",
      "Slice indices Z[0:1,2:3] is \n",
      "[[[ 8  9 10 11]]]\n",
      " Is view? True\n",
      "\n",
      "Z[(0,2)] is same with Z[0][2] [ 8  9 10 11]. \n",
      "Z[0][2] is view? True\n"
     ]
    }
   ],
   "source": [
    "import numpy as np\n",
    "Z = np.arange(36).reshape(3, 3, 4)\n",
    "print(\"Array Z is \\n{}\\n\".format(Z))\n",
    "\n",
    "print(\"Array indices Z[[0,2]] is \\n{}\\n Is view? {}\\n\".format(\n",
    "    Z[\n",
    "        [0,2]      # Select element 0, and 2 in dimension(n)\n",
    "    ],\n",
    "    Z[[0,2]].base is not None\n",
    "))\n",
    "\n",
    "print(\"Tuple indices Z[(0,2)] is \\n{}\\n Is view? {}\\n\".format(\n",
    "    Z[\n",
    "        (0,2)      # Select Z[0][2]\n",
    "    ],\n",
    "    Z[(0,2)].base is not None\n",
    "))\n",
    "\n",
    "print(\"Basic indices Z[0,2] is \\n{}\\n Is view? {}\\n\".format(\n",
    "    Z[\n",
    "        0,\n",
    "        2      # Select Z[0][2]\n",
    "    ],\n",
    "    Z[0,2].base is not None\n",
    "))\n",
    "\n",
    "print(\"Z[(0,2)] is same with Z[0][2] {}. \\nZ[0][2] is view? {}\".format(\n",
    "    Z[0][2],\n",
    "    (Z[0][2]).base is not None\n",
    "))\n",
    "\n",
    "\n",
    "print(\"Slice indices Z[0:1,2:3] is \\n{}\\n Is view? {}\\n\".format(\n",
    "    Z[\n",
    "        0:1,\n",
    "        2:3      # Select Z[0][2]\n",
    "    ],\n",
    "    Z[0:1, 2:3].base is not None\n",
    "))\n",
    "\n"
   ]
  },
  {
   "cell_type": "code",
   "execution_count": 126,
   "metadata": {},
   "outputs": [
    {
     "name": "stdout",
     "output_type": "stream",
     "text": [
      "Z is \n",
      "[[[ 0  1  2  3]\n",
      "  [ 4  5  6  7]\n",
      "  [ 8  9 10 11]]\n",
      "\n",
      " [[12 13 14 15]\n",
      "  [16 17 18 19]\n",
      "  [20 21 22 23]]\n",
      "\n",
      " [[24 25 26 27]\n",
      "  [28 29 30 31]\n",
      "  [32 33 34 35]]]\n",
      "\n",
      "Tuple indexing Z[(0,2)] is \n",
      "[ 8  9 10 11]\n",
      "Is view? True\n",
      "\n",
      "Tuple indexing Z[(0, 2), (0)] is \n",
      "[[ 0  1  2  3]\n",
      " [24 25 26 27]]\n",
      "Is view? False\n",
      "\n"
     ]
    }
   ],
   "source": [
    "import numpy as np\n",
    "Z = np.arange(36).reshape(3, 3, 4)\n",
    "print(\"Z is \\n{}\\n\".format(Z))\n",
    "\n",
    "b =  Z[\n",
    "    (0,2)      # Select Z[0][2]\n",
    "]\n",
    "print(\"Tuple indexing Z[(0,2)] is \\n{}\\nIs view? {}\\n\".format(\n",
    "    b,\n",
    "    b.base is not None\n",
    "))\n",
    "\n",
    "c = Z[         # Select Z[0][0][1] & Z[0][2][1]\n",
    "    (0,2),\n",
    "    (0)\n",
    "]\n",
    "print(\"Tuple indexing Z[(0, 2), (0)] is \\n{}\\nIs view? {}\\n\".format(\n",
    "    c,\n",
    "    c.base is not None\n",
    "))"
   ]
  },
  {
   "cell_type": "markdown",
   "metadata": {},
   "source": [
    "# Slice indexing"
   ]
  },
  {
   "cell_type": "code",
   "execution_count": 140,
   "metadata": {},
   "outputs": [
    {
     "name": "stdout",
     "output_type": "stream",
     "text": [
      "Z is \n",
      "[[[ 0  1  2  3]\n",
      "  [ 4  5  6  7]\n",
      "  [ 8  9 10 11]]\n",
      "\n",
      " [[12 13 14 15]\n",
      "  [16 17 18 19]\n",
      "  [20 21 22 23]]]\n",
      "\n",
      "Slice indexing Z[0:1, 0:1, 1:3] is \n",
      "[[[1 2]\n",
      "  [5 6]]]\n",
      "Is view? True\n",
      "\n"
     ]
    }
   ],
   "source": [
    "Z = np.arange(24).reshape(2, 3, 4)\n",
    "print(\"Z is \\n{}\\n\".format(Z))\n",
    "a = Z[\n",
    "    0:1,\n",
    "    0:2,\n",
    "    1:3\n",
    "]\n",
    "print(\"Slice indexing Z[0:1, 0:1, 1:3] is \\n{}\\nIs view? {}\\n\".format(\n",
    "    a,\n",
    "    a.base is not None\n",
    "))"
   ]
  },
  {
   "cell_type": "markdown",
   "metadata": {},
   "source": [
    "# Array indexing"
   ]
  },
  {
   "cell_type": "code",
   "execution_count": 148,
   "metadata": {},
   "outputs": [
    {
     "name": "stdout",
     "output_type": "stream",
     "text": [
      "Z is \n",
      "[[[ 0  1  2  3]\n",
      "  [ 4  5  6  7]\n",
      "  [ 8  9 10 11]]\n",
      "\n",
      " [[12 13 14 15]\n",
      "  [16 17 18 19]\n",
      "  [20 21 22 23]]\n",
      "\n",
      " [[24 25 26 27]\n",
      "  [28 29 30 31]\n",
      "  [32 33 34 35]]]\n",
      "\n",
      "Array indexing Z[[0],[1],[0,1,2]] is \n",
      "[4 5 6]\n",
      "Is view? False\n",
      "\n"
     ]
    }
   ],
   "source": [
    "Z = np.arange(36).reshape(3, 3, 4)\n",
    "print(\"Z is \\n{}\\n\".format(Z))\n",
    "a = Z[\n",
    "    [0],\n",
    "    [1],\n",
    "    [0,1,2]\n",
    "]\n",
    "\n",
    "print(\"Array indexing Z[[0],[1],[0,1,2]] is \\n{}\\nIs view? {}\\n\".format(\n",
    "    a,\n",
    "    a.base is not None\n",
    "))"
   ]
  },
  {
   "cell_type": "code",
   "execution_count": 171,
   "metadata": {
    "scrolled": false
   },
   "outputs": [
    {
     "name": "stdout",
     "output_type": "stream",
     "text": [
      "Z is \n",
      "[[[ 0  1  2  3]\n",
      "  [ 4  5  6  7]\n",
      "  [ 8  9 10 11]]\n",
      "\n",
      " [[12 13 14 15]\n",
      "  [16 17 18 19]\n",
      "  [20 21 22 23]]\n",
      "\n",
      " [[24 25 26 27]\n",
      "  [28 29 30 31]\n",
      "  [32 33 34 35]]]\n",
      "\n",
      "indices is \n",
      "[[0 2]\n",
      " [1 2]]\n",
      "\n",
      "Z[np.array([[0, 2], [1, 2]])] is \n",
      "[[[[ 0  1  2  3]\n",
      "   [ 4  5  6  7]\n",
      "   [ 8  9 10 11]]\n",
      "\n",
      "  [[24 25 26 27]\n",
      "   [28 29 30 31]\n",
      "   [32 33 34 35]]]\n",
      "\n",
      "\n",
      " [[[12 13 14 15]\n",
      "   [16 17 18 19]\n",
      "   [20 21 22 23]]\n",
      "\n",
      "  [[24 25 26 27]\n",
      "   [28 29 30 31]\n",
      "   [32 33 34 35]]]] Is view? False\n",
      "\n",
      "Z[i] with i = [[0, 2], [1, 2]] is \n",
      "[[ 4  5  6  7]\n",
      " [32 33 34 35]] Is view? False\n",
      "\n",
      "Z[np.array([0, 2]), np.array([1, 2])] is \n",
      "[[ 4  5  6  7]\n",
      " [32 33 34 35]] Is view? False\n",
      "\n"
     ]
    },
    {
     "name": "stderr",
     "output_type": "stream",
     "text": [
      "<ipython-input-171-730f8014a9ec>:15: FutureWarning: Using a non-tuple sequence for multidimensional indexing is deprecated; use `arr[tuple(seq)]` instead of `arr[seq]`. In the future this will be interpreted as an array index, `arr[np.array(seq)]`, which will result either in an error or a different result.\n",
      "  c = Z[i]\n"
     ]
    }
   ],
   "source": [
    "Z = np.arange(36).reshape(3, 3, 4)\n",
    "print(\"Z is \\n{}\\n\".format(Z))\n",
    "\n",
    "indices= np.array([[0, 2], [1, 2]])\n",
    "print(\"indices is \\n{}\\n\".format(indices))\n",
    "\n",
    "b = Z[indices]\n",
    "print(\"Z[np.array([[0, 2], [1, 2]])] is \\n{} Is view? {}\\n\".format(\n",
    "    b,\n",
    "    b.base is not None\n",
    "))\n",
    "\n",
    "\n",
    "i = [[0, 2], [1, 2]]\n",
    "c = Z[i] \n",
    "print(\"Z[i] with i = [[0, 2], [1, 2]] is \\n{} Is view? {}\\n\".format(\n",
    "    c,\n",
    "    c.base is not None\n",
    "))\n",
    "\n",
    "d = Z[\n",
    "    np.array([0, 2]), np.array([1, 2])\n",
    "]\n",
    "print(\"Z[np.array([0, 2]), np.array([1, 2])] is \\n{} Is view? {}\\n\".format(\n",
    "    d,\n",
    "    d.base is not None\n",
    "))\n"
   ]
  },
  {
   "cell_type": "code",
   "execution_count": 180,
   "metadata": {},
   "outputs": [
    {
     "name": "stdout",
     "output_type": "stream",
     "text": [
      "x[rows, columns] \n",
      "[[ 0  2]\n",
      " [ 9 11]]\n",
      "\n",
      "indices is \n",
      "[[[0 0]\n",
      "  [3 3]]\n",
      "\n",
      " [[0 2]\n",
      "  [0 2]]]\n",
      "\n",
      "[[[[ 0  1  2]\n",
      "   [ 0  1  2]]\n",
      "\n",
      "  [[ 9 10 11]\n",
      "   [ 9 10 11]]]\n",
      "\n",
      "\n",
      " [[[ 0  1  2]\n",
      "   [ 6  7  8]]\n",
      "\n",
      "  [[ 0  1  2]\n",
      "   [ 6  7  8]]]]\n"
     ]
    }
   ],
   "source": [
    "x = np.array([[ 0,  1,  2],\n",
    "              [ 3,  4,  5],\n",
    "              [ 6,  7,  8],\n",
    "              [ 9, 10, 11]])\n",
    "rows = np.array([[0, 0],\n",
    "                 [3, 3]], dtype=np.intp)\n",
    "columns = np.array([[0, 2],\n",
    "                    [0, 2]], dtype=np.intp)\n",
    "\n",
    "print(\"x[rows, columns] \\n{}\\n\".format(x[rows, columns]))\n",
    "\n",
    "indices = np.array([rows, columns])\n",
    "print(\"indices is \\n{}\\n\".format(indices))\n",
    "print(x[indices])"
   ]
  },
  {
   "cell_type": "code",
   "execution_count": null,
   "metadata": {},
   "outputs": [],
   "source": []
  }
 ],
 "metadata": {
  "kernelspec": {
   "display_name": "Python 3",
   "language": "python",
   "name": "python3"
  },
  "language_info": {
   "codemirror_mode": {
    "name": "ipython",
    "version": 3
   },
   "file_extension": ".py",
   "mimetype": "text/x-python",
   "name": "python",
   "nbconvert_exporter": "python",
   "pygments_lexer": "ipython3",
   "version": "3.8.5"
  }
 },
 "nbformat": 4,
 "nbformat_minor": 4
}
