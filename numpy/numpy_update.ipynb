{
 "cells": [
  {
   "cell_type": "code",
   "execution_count": 3,
   "metadata": {},
   "outputs": [],
   "source": [
    "import numpy as np"
   ]
  },
  {
   "cell_type": "markdown",
   "metadata": {},
   "source": [
    "# In-place operation\n",
    "Some operations, such as += and *=, act in place to modify an existing array rather than create a new one."
   ]
  },
  {
   "cell_type": "markdown",
   "metadata": {},
   "source": [
    "# Accumulative updates"
   ]
  },
  {
   "cell_type": "markdown",
   "metadata": {},
   "source": [
    "Default bufferd operation only increments each element only once."
   ]
  },
  {
   "cell_type": "code",
   "execution_count": 31,
   "metadata": {},
   "outputs": [
    {
     "name": "stdout",
     "output_type": "stream",
     "text": [
      "a:\n",
      "[[ 0  1  2  3]\n",
      " [ 4  5  6  7]\n",
      " [ 8  9 10 11]]\n",
      "\n",
      "How to add +1 multiple times at index i?\n",
      "a[\n",
      "  ::, \n",
      "  [0, 2, 0, 2]  # Expected [4+2, 5, 6+2, 7] as adding +1 twice at column 0 and 2 \n",
      "] += 1\n",
      "--------------------\n",
      "[[ 0  1  2  3]\n",
      " [ 5  5  7  7]\n",
      " [ 8  9 10 11]]\n",
      "\n",
      "Acutal is +1 only once at column 0 and 2\n",
      "[[0 0 0 0]\n",
      " [1 0 1 0]\n",
      " [0 0 0 0]]\n"
     ]
    }
   ],
   "source": [
    "a = np.arange(12).reshape((3, 4))\n",
    "b = a.copy()\n",
    "print(f\"a:\\n{a}\\n\")\n",
    "\n",
    "print(\"How to add +1 multiple times at index i?\")\n",
    "a[\n",
    "  1, \n",
    "  [0, 2, 0, 2, 0]\n",
    "] += 1\n",
    "\n",
    "expression=\"\"\"a[\n",
    "  ::, \n",
    "  [0, 2, 0, 2]  # Expected [4+2, 5, 6+2, 7] as adding +1 twice at column 0 and 2 \n",
    "] += 1\\n--------------------\"\"\"\n",
    "print(f\"{expression}\\n{a}\\n\")\n",
    "\n",
    "print(f\"Acutal is +1 only once at column 0 and 2\\n{a-b}\")"
   ]
  },
  {
   "cell_type": "markdown",
   "metadata": {},
   "source": [
    "<img src='images/numpy_accumulative_update.png' width=750 align='left'/>"
   ]
  },
  {
   "cell_type": "markdown",
   "metadata": {},
   "source": [
    "## [numpy.ufunc.at(a, indices, b=None)](https://numpy.org/doc/stable/reference/generated/numpy.ufunc.at.html)\n",
    "\n",
    "Operation on operand ‘a’ for **each elements specified by ‘indices’**. Results are accumulated for elements that are indexed more than once because **unbuffered**. \n",
    "\n",
    "```[[0,0]] += 1``` will only increment the first element once because of buffering, whereas ```add.at(a, [0,0], 1)``` will increment the first element twice.\n",
    "\n",
    "### [Universal functions (ufunc)](https://numpy.org/doc/stable/reference/ufuncs.html)\n",
    "> A universal function (or ufunc for short) is a function that **operates on ndarrays in an element-by-element** fashion, supporting array broadcasting, type casting, and several other standard features. That is, a ufunc is a “vectorized” wrapper for a function that takes a fixed number of specific inputs and produces a fixed number of specific outputs.\n",
    "\n"
   ]
  },
  {
   "cell_type": "code",
   "execution_count": 83,
   "metadata": {},
   "outputs": [
    {
     "name": "stdout",
     "output_type": "stream",
     "text": [
      "a:\n",
      "[[ 0  1  2  3]\n",
      " [ 4  5  6  7]\n",
      " [ 8  9 10 11]]\n",
      "\n",
      "[[2 0 2 0]\n",
      " [2 0 2 0]\n",
      " [2 0 2 0]]\n"
     ]
    }
   ],
   "source": [
    "a = np.arange(12).reshape((3, 4))\n",
    "print(f\"a:\\n{a}\\n\")\n",
    "\n",
    "indices = (\n",
    "    ...,  # same with slice(0:None)\n",
    "    (0,2,0,2)\n",
    ")\n",
    "np.add.at(\n",
    "    a, \n",
    "    indices,\n",
    "    1\n",
    ")\n",
    "print(a - b)"
   ]
  },
  {
   "cell_type": "markdown",
   "metadata": {},
   "source": [
    "---\n",
    "# Update a view with ```np.ufunc.at```."
   ]
  },
  {
   "cell_type": "code",
   "execution_count": 84,
   "metadata": {},
   "outputs": [
    {
     "name": "stdout",
     "output_type": "stream",
     "text": [
      "W is [[ 0  1  2  3]\n",
      " [ 4  5  6  7]\n",
      " [ 8  9 10 11]\n",
      " [12 13 14 15]\n",
      " [16 17 18 19]]\n",
      "\n"
     ]
    }
   ],
   "source": [
    "N = 5\n",
    "D = 4\n",
    "W = np.arange(N*D).reshape((N,D))\n",
    "print(f\"W is {W}\\n\")"
   ]
  },
  {
   "cell_type": "code",
   "execution_count": null,
   "metadata": {},
   "outputs": [],
   "source": []
  },
  {
   "cell_type": "code",
   "execution_count": null,
   "metadata": {},
   "outputs": [],
   "source": []
  }
 ],
 "metadata": {
  "kernelspec": {
   "display_name": "Python 3",
   "language": "python",
   "name": "python3"
  },
  "language_info": {
   "codemirror_mode": {
    "name": "ipython",
    "version": 3
   },
   "file_extension": ".py",
   "mimetype": "text/x-python",
   "name": "python",
   "nbconvert_exporter": "python",
   "pygments_lexer": "ipython3",
   "version": "3.8.8"
  }
 },
 "nbformat": 4,
 "nbformat_minor": 4
}
