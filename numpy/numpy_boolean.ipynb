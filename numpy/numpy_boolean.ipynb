{
 "cells": [
  {
   "cell_type": "code",
   "execution_count": 1,
   "id": "returning-trading",
   "metadata": {},
   "outputs": [],
   "source": [
    "import numpy as np"
   ]
  },
  {
   "cell_type": "markdown",
   "id": "typical-documentation",
   "metadata": {},
   "source": [
    "# Boolean to Integer"
   ]
  },
  {
   "cell_type": "code",
   "execution_count": 2,
   "id": "convenient-regard",
   "metadata": {},
   "outputs": [
    {
     "data": {
      "text/plain": [
       "array([ True,  True,  True, False])"
      ]
     },
     "execution_count": 2,
     "metadata": {},
     "output_type": "execute_result"
    }
   ],
   "source": [
    "a = np.array([ True, True, True, False], dtype=bool)\n",
    "a"
   ]
  },
  {
   "cell_type": "markdown",
   "id": "immune-anderson",
   "metadata": {},
   "source": [
    "### Use astype()"
   ]
  },
  {
   "cell_type": "code",
   "execution_count": 3,
   "id": "included-equivalent",
   "metadata": {},
   "outputs": [
    {
     "data": {
      "text/plain": [
       "array([1, 1, 1, 0])"
      ]
     },
     "execution_count": 3,
     "metadata": {},
     "output_type": "execute_result"
    }
   ],
   "source": [
    "i = a.astype(int)\n",
    "i"
   ]
  },
  {
   "cell_type": "markdown",
   "id": "choice-teddy",
   "metadata": {},
   "source": [
    "### Add 0"
   ]
  },
  {
   "cell_type": "code",
   "execution_count": 4,
   "id": "tracked-flour",
   "metadata": {},
   "outputs": [
    {
     "data": {
      "text/plain": [
       "array([1, 1, 1, 0])"
      ]
     },
     "execution_count": 4,
     "metadata": {},
     "output_type": "execute_result"
    }
   ],
   "source": [
    "a + 0"
   ]
  },
  {
   "cell_type": "markdown",
   "id": "recorded-bermuda",
   "metadata": {},
   "source": [
    "---"
   ]
  },
  {
   "cell_type": "markdown",
   "id": "adjacent-double",
   "metadata": {},
   "source": [
    "# Integer to Boolean"
   ]
  },
  {
   "cell_type": "code",
   "execution_count": 5,
   "id": "experienced-fishing",
   "metadata": {},
   "outputs": [
    {
     "data": {
      "text/plain": [
       "array([1, 1, 1, 0])"
      ]
     },
     "execution_count": 5,
     "metadata": {},
     "output_type": "execute_result"
    }
   ],
   "source": [
    "i = np.array([1, 1, 1, 0])\n",
    "i"
   ]
  },
  {
   "cell_type": "code",
   "execution_count": 6,
   "id": "associate-front",
   "metadata": {},
   "outputs": [
    {
     "data": {
      "text/plain": [
       "array([ True,  True,  True, False])"
      ]
     },
     "execution_count": 6,
     "metadata": {},
     "output_type": "execute_result"
    }
   ],
   "source": [
    "t = i.astype(bool)\n",
    "t"
   ]
  },
  {
   "cell_type": "code",
   "execution_count": null,
   "id": "mature-auckland",
   "metadata": {},
   "outputs": [],
   "source": []
  }
 ],
 "metadata": {
  "kernelspec": {
   "display_name": "Python 3",
   "language": "python",
   "name": "python3"
  },
  "language_info": {
   "codemirror_mode": {
    "name": "ipython",
    "version": 3
   },
   "file_extension": ".py",
   "mimetype": "text/x-python",
   "name": "python",
   "nbconvert_exporter": "python",
   "pygments_lexer": "ipython3",
   "version": "3.8.5"
  }
 },
 "nbformat": 4,
 "nbformat_minor": 5
}
