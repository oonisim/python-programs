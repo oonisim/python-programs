{
 "cells": [
  {
   "cell_type": "markdown",
   "id": "forced-permit",
   "metadata": {},
   "source": [
    "# NumPy comparison functions"
   ]
  },
  {
   "cell_type": "markdown",
   "id": "strategic-porcelain",
   "metadata": {},
   "source": [
    "## np.allclose(a, b, atol, rtol)\n",
    "\n",
    "* [numpy.allclose(a, b, rtol=1e-05, atol=1e-08, equal_nan=False)](https://numpy.org/doc/stable/reference/generated/numpy.allclose.html)\n",
    "\n",
    "> If the following equation is element-wise True, then allclose returns True. The equation is not symmetric in a and b, so that ```allclose(a, b)``` might be different from ```allclose(b, a)``` in some rare cases.\n",
    ">\n",
    ">```absolute(a - b) <= (atol + rtol * absolute(b))```\n",
    "\n",
    "\n",
    "```np.allclose(a, b, atol, rtol)``` checks if the blue circle ```|a-b| - rtol*|b|``` is within the red circle ```atol```.\n",
    "\n",
    "### Caution\n",
    "\n",
    "Do NOT forget ```rtol``` is there with **not zero** default ```1e-5```. If ```1e-5*|b|``` is large enough than ```|a-b|```, e.g. ```a``` and ```b``` are close,  then the blue circle corrups with ```(|a-b| - rtol*|b|) < 0 < atol```. The blue circle always is inside the red and ```np.allclose()``` is always **True**.\n",
    "\n",
    "<img src=\"images/numpy_allclose.png\" align=\"left\" width=450 />"
   ]
  },
  {
   "cell_type": "code",
   "execution_count": 1,
   "id": "equal-prototype",
   "metadata": {},
   "outputs": [
    {
     "name": "stdout",
     "output_type": "stream",
     "text": [
      "Need similar analytical and numerical dL/dW. Analytical=\n",
      "1\n",
      "Numerical\n",
      "2\n",
      "difference=\n",
      "3\n",
      "\n"
     ]
    }
   ],
   "source": [
    "                print(\n",
    "                    \"Need similar analytical and numerical dL/dW. \"\n",
    "                    \"Analytical=\\n%s\\nNumerical\\n%s\\ndifference=\\n%s\\n\"\n",
    "                    %(1,2,3)\n",
    "                )\n"
   ]
  }
 ],
 "metadata": {
  "kernelspec": {
   "display_name": "Python 3",
   "language": "python",
   "name": "python3"
  },
  "language_info": {
   "codemirror_mode": {
    "name": "ipython",
    "version": 3
   },
   "file_extension": ".py",
   "mimetype": "text/x-python",
   "name": "python",
   "nbconvert_exporter": "python",
   "pygments_lexer": "ipython3",
   "version": "3.8.8"
  }
 },
 "nbformat": 4,
 "nbformat_minor": 5
}
