{
 "cells": [
  {
   "cell_type": "markdown",
   "id": "opened-transcription",
   "metadata": {},
   "source": [
    "# NumPy comparison functions"
   ]
  },
  {
   "cell_type": "markdown",
   "id": "balanced-attraction",
   "metadata": {},
   "source": [
    "## np.allclose(a, b, atol, rtol)\n",
    "\n",
    "* [numpy.allclose(a, b, rtol=1e-05, atol=1e-08, equal_nan=False)](https://numpy.org/doc/stable/reference/generated/numpy.allclose.html)\n",
    "\n",
    "> If the following equation is element-wise True, then allclose returns True. The equation is not symmetric in a and b, so that ```allclose(a, b)``` might be different from ```allclose(b, a)``` in some rare cases.\n",
    ">\n",
    ">```absolute(a - b) <= (atol + rtol * absolute(b))```\n",
    "\n",
    "```np.allclose(a, b, atol, rtol)``` checks if the blue circle ```|a-b| - rtol*|b|``` is within the red circle ```atol```.\n",
    "\n",
    "<img src=\"images/numpy_allclose.png\" align=\"left\" width=450 />"
   ]
  },
  {
   "cell_type": "code",
   "execution_count": null,
   "id": "divided-witch",
   "metadata": {},
   "outputs": [],
   "source": []
  }
 ],
 "metadata": {
  "kernelspec": {
   "display_name": "Python 3",
   "language": "python",
   "name": "python3"
  },
  "language_info": {
   "codemirror_mode": {
    "name": "ipython",
    "version": 3
   },
   "file_extension": ".py",
   "mimetype": "text/x-python",
   "name": "python",
   "nbconvert_exporter": "python",
   "pygments_lexer": "ipython3",
   "version": "3.8.8"
  }
 },
 "nbformat": 4,
 "nbformat_minor": 5
}
