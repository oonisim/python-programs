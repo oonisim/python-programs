{
 "cells": [
  {
   "cell_type": "markdown",
   "metadata": {},
   "source": [
    "\n",
    "\n",
    "\\begin{align*}\n",
    "\\frac{\\partial L}{\\partial x_{(n=0,d=1)}}\n",
    "\\end{align*}\n"
   ]
  },
  {
   "cell_type": "markdown",
   "metadata": {},
   "source": [
    "\\begin{align*}\n",
    "\\frac{\\partial L}{\\partial w_{(d=1,m=2)}}\n",
    "\\end{align*}"
   ]
  },
  {
   "cell_type": "markdown",
   "metadata": {},
   "source": [
    "\\begin{align*}\n",
    "Y_{(n=0)} = X_{(n=0)} \\cdot W \\\\\n",
    "\\text{(shape(m=4,))}\n",
    "\\end{align*}"
   ]
  },
  {
   "cell_type": "markdown",
   "metadata": {},
   "source": [
    "\\begin{align*}\n",
    "Y_{(n=0)} = X_{(n=0)} \\cdot W \\; \\rightarrow \\\\\n",
    "y_{(n=0,d=1,m=2)} = \\\\x_{(n=0,d=1)} * w_{(d=1,m=2)}\n",
    "\\end{align*}"
   ]
  },
  {
   "cell_type": "markdown",
   "metadata": {},
   "source": [
    "\\begin{align*}\n",
    "\\frac{ \\partial y_{(n=0,d=1,m=2)} }{ \\partial x_{(n=0,d=1)} } \\rightarrow w_{(d=1,m=2)}\n",
    "\\end{align*}"
   ]
  },
  {
   "cell_type": "code",
   "execution_count": 1,
   "metadata": {},
   "outputs": [
    {
     "ename": "SyntaxError",
     "evalue": "unexpected character after line continuation character (<ipython-input-1-17a7bf70da71>, line 1)",
     "output_type": "error",
     "traceback": [
      "\u001b[0;36m  File \u001b[0;32m\"<ipython-input-1-17a7bf70da71>\"\u001b[0;36m, line \u001b[0;32m1\u001b[0m\n\u001b[0;31m    \\frac{ \\partial y_{(n=0,m=2)} }{ \\partial x_{(n=0,d=1)} }\u001b[0m\n\u001b[0m                                                             ^\u001b[0m\n\u001b[0;31mSyntaxError\u001b[0m\u001b[0;31m:\u001b[0m unexpected character after line continuation character\n"
     ]
    }
   ],
   "source": [
    "\\frac{ \\partial y_{(n=0,m=2)} }{ \\partial x_{(n=0,d=1)} }"
   ]
  },
  {
   "cell_type": "markdown",
   "metadata": {},
   "source": [
    "\\begin{align*}\n",
    "y_{(n=0,m=2)} &=  \n",
    "\\sum_{d=0,1,2} {\n",
    "    y_{(n=0,d,m=2)}  \n",
    "} \\\\\n",
    "&= \\sum_{d=0,1,2} {\n",
    "   x_{(n=0,d)} * w_{(d,m=2)}\n",
    "} \\\\\n",
    "y_{(n,m)} &\\rightarrow \\sum_{d} {\n",
    "   x_{(n,d)} * w_{(d,m)}\n",
    "}\n",
    "\\end{align*}"
   ]
  },
  {
   "cell_type": "markdown",
   "metadata": {},
   "source": [
    "\\begin{align*}\n",
    "y_{(n,m)} \\rightarrow\n",
    "\\sum_{d} {\n",
    "   \\{ x_{(n,d)} * w_{(d,m)} \\}\n",
    "}\n",
    "\\end{align*}"
   ]
  },
  {
   "cell_type": "markdown",
   "metadata": {},
   "source": [
    "\\begin{align*}\n",
    "\\frac { \\partial y_{(n=0,m=2)} }{ \\partial x_{(n=0,d=1)} } &= \n",
    "\\frac {\\partial}{\\partial x_{(n=0,d=1)}} \\biggl[ \\sum_{d=0,1,2} {  x_{(n=0,d)} * w_{(d,m=2)}  } \\biggl] \\\\\n",
    "&=w_{(d=1,m=2)} \\\\\n",
    "\\frac { \\partial y_{(n,m)} }{ \\partial x_{(n,d)} } &\\rightarrow \n",
    "w_{(d,m)}\n",
    "\\end{align*}"
   ]
  },
  {
   "cell_type": "markdown",
   "metadata": {},
   "source": [
    "# Gradient dL/dX\n",
    "\n",
    "Gradient $\n",
    "\\begin{align*}\n",
    "    \\frac{\\partial L}{\\partial X}\n",
    "\\end{align*}\n",
    "$\n",
    "has the same shape with ```X(n=1, d=3)``` because ```L``` is scalar. It is calculated as $\n",
    "\\begin{align*}\n",
    "    \\sum_{d} {\n",
    "        \\frac{\\partial L}{\\partial x_{(n=0,d)}} \n",
    "    }\n",
    "\\end{align*}\n",
    "$ because $\n",
    "\\begin{align*}\n",
    "    x_{(n=0,d)}\n",
    "\\end{align*}\n",
    "$ are independent."
   ]
  },
  {
   "cell_type": "markdown",
   "metadata": {},
   "source": [
    "## Element gradient dL/dx(n=0,d)\n",
    "\n",
    "Element gradient $\n",
    "\\begin{align*}\n",
    "    \\frac{\\partial L}{\\partial x_{(n=0,d)}}\n",
    "\\end{align*}\n",
    "$\n",
    "is scalar because ```x``` and ```L``` are scalar. For ```d=1```, it is first transformed using the chain rule. \n",
    "\n",
    "<br>\n",
    "$\n",
    "\\begin{align*}\n",
    "\\frac{\\partial L}{\\partial x_{n=0,d=1}} &=\n",
    "    \\frac{\\partial L}{\\partial Y} \n",
    "    \\frac{\\partial Y} {\\partial x_{n=0,d=1} }\n",
    "\\quad \\text{(shape())} \n",
    "\\\\\n",
    "\\\\\n",
    "\\frac{\\partial L} {\\partial Y } &= \n",
    "\\begin{bmatrix}\n",
    "    \\frac{\\partial L}{\\partial y_{d=0,m=0}} & \\frac{\\partial L}{\\partial y_{d=0,m=1}} & \\frac{\\partial L}{\\partial y_{d=0,m=2}} & \\frac{\\partial L}{\\partial y_{d=0,m=3}} \\\\ \n",
    "    \\frac{\\partial L}{\\partial y_{d=1,m=0}} & \\frac{\\partial L}{\\partial y_{d=1,m=1}} & \\frac{\\partial L}{\\partial y_{d=1,m=2}} & \\frac{\\partial L}{\\partial y_{d=1,m=3}} \\\\ \n",
    "    \\frac{\\partial L}{\\partial y_{d=2,m=0}} & \\frac{\\partial L}{\\partial y_{d=2,m=1}} & \\frac{\\partial L}{\\partial y_{d=2,m=2}} & \\frac{\\partial L}{\\partial y_{d=2,m=3}} \\\\ \n",
    "\\end{bmatrix}\n",
    "\\qquad \\qquad \\qquad \\text{(shape(d=3,m=4))}\n",
    "\\\\\n",
    "\\\\\n",
    "\\frac{\\partial Y} {\\partial x_{n=0,d=1} } &= \n",
    "\\begin{bmatrix}\n",
    "0 & 0 & 0 & 0\\\\\n",
    "w_{(d=1,m=0)} & w_{(d=1,m=1)} & w_{(d=1,m=2)} & w_{(d=1,m=3)} \\\\\n",
    "0 & 0 & 0 & 0\\\\\n",
    "\\end{bmatrix}\n",
    "\\qquad \\; \\text{(shape(d=3,m=4))}\n",
    "\\end{align*}\n",
    "$"
   ]
  },
  {
   "cell_type": "markdown",
   "metadata": {},
   "source": [
    "\n",
    "$\n",
    "\\begin{align*}\n",
    "\\frac{\\partial Y} {\\partial x_{n=0,d=1} } = \n",
    "\\begin{bmatrix}\n",
    "0 & 0 & 0 & 0\\\\\n",
    "w_{(d=1,m=0)} & w_{(d=1,m=1)} & w_{(d=1,m=2)} & w_{(d=1,m=3)} \\\\\n",
    "0 & 0 & 0 & 0\\\\\n",
    "\\end{bmatrix}\n",
    "\\quad \\text{(shape(d=3,m=4))}\n",
    "\n",
    "\\frac{\\partial L} {\\partial Y } = \n",
    "\\begin{bmatrix}\n",
    "    \\frac{\\partial L}{\\partial y_{d=0,m=0}} & \\frac{\\partial L}{\\partial y_{d=0,m=1}} & \\frac{\\partial L}{\\partial y_{d=0,m=2}} & \\frac{\\partial L}{\\partial y_{d=0,m=3}} \\\\ \n",
    "    \\frac{\\partial L}{\\partial y_{d=1,m=0}} & \\frac{\\partial L}{\\partial y_{d=1,m=1}} & \\frac{\\partial L}{\\partial y_{d=1,m=2}} & \\frac{\\partial L}{\\partial y_{d=1,m=3}} \\\\ \n",
    "    \\frac{\\partial L}{\\partial y_{d=2,m=0}} & \\frac{\\partial L}{\\partial y_{d=2,m=1}} & \\frac{\\partial L}{\\partial y_{d=2,m=2}} & \\frac{\\partial L}{\\partial y_{d=2,m=3}} \\\\ \n",
    "\\end{bmatrix}\n",
    "\\quad \\text{(shape(d=3,m=4))}\n",
    "\\end{align*}\n",
    "$"
   ]
  },
  {
   "cell_type": "markdown",
   "metadata": {},
   "source": [
    "$\n",
    "\\begin{align*}\n",
    "\\frac{\\partial L}{\\partial x_{n=0,d=1}} &=\n",
    "\\sum_{m=0,1,2,3}{\n",
    "    \\frac{\\partial L}{\\partial y_{n=0,m}} \n",
    "    \\frac{\\partial y_{n=0,m}} {\\partial x_{n=0,d=1} }\n",
    "}  \\\\\n",
    "&= \\sum_{m=0,1,2,3}{\n",
    "    \\frac{\\partial L}{\\partial y_{n=0,m}} w_{(d=1,m)}\n",
    "}\n",
    "\\end{align*}\n",
    "$"
   ]
  },
  {
   "cell_type": "markdown",
   "metadata": {},
   "source": [
    "\\begin{align*}\n",
    "\\frac{\\partial L}{\\partial x_{n=0,d=0,1,2}} &=\n",
    "\\sum_{m=0,1,2,3}{\n",
    "    \\frac{\\partial L}{\\partial y_{n=0,m}} w_{(d=0,1,2,m)}\n",
    "} \\\\\n",
    "&= \\bigl[\n",
    "    \\sum_{m}{\n",
    "        \\frac{\\partial L}{\\partial y_{n=0,m}} w_{(d=0,m)}\n",
    "    },\n",
    "    \\sum_{m}{\n",
    "        \\frac{\\partial L}{\\partial y_{n=0,m}} w_{(d=1,m)}\n",
    "    },\n",
    "    \\sum_{m}{\n",
    "        \\frac{\\partial L}{\\partial y_{n=0,m}} w_{(d=2,m)}\n",
    "    }\n",
    "\\bigl]\n",
    "\\quad \\text{(shape(d=3,))} \\\\\n",
    "\\frac{\\partial L}{\\partial x_{n,d}} &\\rightarrow\n",
    "\\sum_{m}{\n",
    "    \\frac{\\partial L}{\\partial y_{n,m}} w_{(d,m)}\n",
    "}\n",
    "\\quad \\text{(shape(d=3,))}\n",
    "\\end{align*}"
   ]
  },
  {
   "cell_type": "markdown",
   "metadata": {},
   "source": [
    "\\begin{align*}\n",
    "\\frac{\\partial L}{\\partial x_{n=0,d=1}} \\rightarrow \n",
    "\\sum_{d}{\\frac{\\partial L}{\\partial x_{n=0,d}}}  \\rightarrow \n",
    "\\frac{\\partial L}{\\partial x_{n=0}}  \n",
    "\\; \\text{(shape(3,))}\n",
    "\\end{align*}"
   ]
  },
  {
   "cell_type": "markdown",
   "metadata": {},
   "source": [
    "\\begin{equation*}\n",
    "\\mathbf{V}_1 \\times \\mathbf{V}_2 =  \\begin{vmatrix}\n",
    "\\mathbf{i} & \\mathbf{j} & \\mathbf{k} \\\\\n",
    "\\frac{\\partial X}{\\partial u} &  \\frac{\\partial Y}{\\partial u} & 0 \\\\\n",
    "\\frac{\\partial X}{\\partial v} &  \\frac{\\partial Y}{\\partial v} & 0\n",
    "\\end{vmatrix}\n",
    "\\end{equation*}"
   ]
  },
  {
   "cell_type": "markdown",
   "metadata": {},
   "source": []
  },
  {
   "cell_type": "markdown",
   "metadata": {},
   "source": [
    "\\begin{bmatrix}\n",
    "1 & x & x^2 \\\\\n",
    "1 & y & y^2 \\\\\n",
    "1 & z & z^2 \\\\\n",
    "\\end{bmatrix}"
   ]
  },
  {
   "cell_type": "markdown",
   "metadata": {},
   "source": [
    "\\documentclass{article}\n",
    "\\usepackage{amsmath}\n",
    "\n",
    "\\begin{document}\n",
    "\\begin{align*}\n",
    "    3+x &=4 && \\text{we are trying to solve for } x\\\\\n",
    "    x &=4-3 && \\text{Subtract 3 from both sides}\\\\\n",
    "    x &=1   && x \\text{ must be one}\n",
    "\\end{align*}\n",
    "\\end{document}"
   ]
  },
  {
   "cell_type": "markdown",
   "metadata": {},
   "source": []
  },
  {
   "cell_type": "code",
   "execution_count": null,
   "metadata": {},
   "outputs": [],
   "source": [
    "from numbers import Number\n",
    "import logging\n",
    "import numpy as np\n",
    "\n",
    "(N, M) = 5, 4\n",
    "BASE = None\n",
    "END = None\n",
    "\n",
    "DIRECTIONS = None\n",
    "DIRECTION_TO_MOVE = None\n",
    "MOVE_TO_DIRECTION = None\n",
    "MOVES = None\n",
    "Logger = None\n",
    "\n",
    "\n",
    "def initialize(n, m):\n",
    "    global N\n",
    "    global M\n",
    "    global BASE\n",
    "    global END\n",
    "    global DIRECTIONS = None\n",
    "    global DIRECTION_TO_MOVE = None\n",
    "    global MOVE_TO_DIRECTION = None\n",
    "    global MOVES = None\n",
    "    global Logger = None\n",
    "    \n",
    "    logging.basicConfig()\n",
    "    logging.getLogger().setLevel(logging.DEBUG)\n",
    "    Logger = logging.getLogger(__name__)\n",
    "\n",
    "    N = n\n",
    "    M = m\n",
    "    BASE = np.zeros(2).astype(int)\n",
    "    END = np.array([N-1,M-1])\n",
    "\n",
    "    DIRECTION_TO_MOVE = {\n",
    "        \"NORTH\": [0, 1], \"EAST\": [1, 0], \"WEST\": [-1, 0], \"SOUTH\": [0, -1]   \n",
    "    }\n",
    "    DIRECTIONS = list(DIRECTION_TO_MOVE.keys())\n",
    "\n",
    "    MOVE_TO_DIRECTION = {\n",
    "        tuple(DIRECTION_TO_MOVE[\"NORTH\"]): \"NORTH\", \n",
    "        tuple(DIRECTION_TO_MOVE[\"EAST\"]): \"EAST\", \n",
    "        tuple(DIRECTION_TO_MOVE[\"WEST\"]): \"WEST\", \n",
    "        tuple(DIRECTION_TO_MOVE[\"SOUTH\"]): \"SOUTH\", \n",
    "    }\n",
    "    MOVES = [list(move) for move in MOVE_TO_DIRECTION.keys()]\n",
    "\n",
    "    Position = np.array([0,0])\n",
    "    Direction = DIRECTIONS[0]\n",
    "    Move = MOVES[0]\n",
    "\n",
    "\n",
    "def place(_position, _direction=None):\n",
    "    \"\"\"Set the current position, direction, and move\n",
    "    Returns: (Position, Direction, Move)\n",
    "    \"\"\"\n",
    "    global Position\n",
    "    global Direction\n",
    "    global Move\n",
    "\n",
    "    _x = _position[0]\n",
    "    _y = _position[1]\n",
    "    _direction = _direction.upper() if _direction is not None else \"NOWHERE\"\n",
    "    if isinstance(_x, Number) and isinstance(_y, Number) and _direction in DIRECTIONS:\n",
    "        Position = [_x, _y]\n",
    "        Direction = _direction\n",
    "        Move = DIRECTION_TO_MOVE[Direction]\n",
    "    \n",
    "    return Position, Direction, Move\n",
    "\n",
    "\n",
    "def is_inside(position):\n",
    "    \"\"\"Check if the position is inside\"\"\"\n",
    "    decision = np.all(position >= BASE) and np.all(position <= END)\n",
    "    Logger.debug(\"position is {} and is inside is {}\".format(\n",
    "        position, decision\n",
    "    ))\n",
    "    return decision\n",
    "\n",
    "\n",
    "def at_same_location(a, b):\n",
    "    return np.all(np.array(a) == np.array(b))\n",
    "\n",
    "    \n",
    "def move():\n",
    "    \"\"\"Move a step in the current direction if the destination is within the limit\n",
    "    Returns new position\n",
    "    \"\"\"\n",
    "    global Position\n",
    "    \n",
    "    moved = np.add(Position, Move)\n",
    "    if is_inside(moved):\n",
    "        Position = moved\n",
    "        \n",
    "    return Position\n",
    "    \n",
    "\n",
    "def report():\n",
    "    \"\"\"Report the current location and direction\"\"\"\n",
    "    template = \"X: {} Y: {} Direction: {}\"\n",
    "    position, direction, _ = place()\n",
    "    print(template.format(position[0], position[1], direction))\n",
    "\n",
    "    \n",
    "def rotate(move, theta):\n",
    "    \"\"\"Rotate the move vector theta degree\n",
    "    Args:\n",
    "        move: the current direction vector\n",
    "    Returns: new direction vector\n",
    "    \"\"\"\n",
    "    radian = np.radians(theta)\n",
    "    rotation = np.array([\n",
    "        [  np.cos(radian), np.sin(radian) ],\n",
    "        [ -np.sin(radian), np.cos(radian) ]\n",
    "    ])\n",
    "    rotated = rotation.dot(move).astype(int)\n",
    "    Logger.debug(\"Current move is {} rotation is {}. New move is {}\".format(\n",
    "        move, theta, rotated\n",
    "    ))\n",
    "    return rotated\n",
    "\n",
    "from functools import partial\n",
    "left = partial(rotate, theta=-90)\n",
    "right = partial(rotate, theta=90)"
   ]
  },
  {
   "cell_type": "code",
   "execution_count": null,
   "metadata": {},
   "outputs": [],
   "source": [
    "initialize()\n",
    "\n",
    "assert MOVE_TO_DIRECTION[tuple([0,1])] == \"NORTH\"\n",
    "assert at_same_location(left(DIRECTION_TO_MOVE[\"NORTH\"]), DIRECTION_TO_MOVE[\"WEST\"])\n",
    "assert at_same_location(left(DIRECTION_TO_MOVE[\"WEST\"]), DIRECTION_TO_MOVE[\"SOUTH\"])\n",
    "assert at_same_location(left(DIRECTION_TO_MOVE[\"SOUTH\"]), DIRECTION_TO_MOVE[\"EAST\"])\n",
    "assert at_same_location(left(DIRECTION_TO_MOVE[\"EAST\"]), DIRECTION_TO_MOVE[\"NORTH\"])\n",
    "\n",
    "assert at_same_location(right(DIRECTION_TO_MOVE[\"NORTH\"]), DIRECTION_TO_MOVE[\"EAST\"])\n",
    "assert at_same_location(right(DIRECTION_TO_MOVE[\"EAST\"]), DIRECTION_TO_MOVE[\"SOUTH\"])\n",
    "assert at_same_location(right(DIRECTION_TO_MOVE[\"SOUTH\"]), DIRECTION_TO_MOVE[\"WEST\"])\n",
    "assert at_same_location(right(DIRECTION_TO_MOVE[\"WEST\"]), DIRECTION_TO_MOVE[\"NORTH\"])"
   ]
  },
  {
   "cell_type": "code",
   "execution_count": null,
   "metadata": {},
   "outputs": [],
   "source": [
    "x, y, d = place([0, 0], \"north\")\n",
    "destination = move()\n",
    "assert at_same_location(destination, [0,1])\n",
    "MOVE_TO_DIRECTION[tuple(destination)] == \"NORTH\"\n",
    "\n",
    "x, y, d = place([0, 0], \"south\")\n",
    "destination = move()\n",
    "assert at_same_location(destination, [0,1])\n",
    "MOVE_TO_DIRECTION[tuple(destination)] == \"NORTH\""
   ]
  },
  {
   "cell_type": "code",
   "execution_count": null,
   "metadata": {},
   "outputs": [],
   "source": []
  }
 ],
 "metadata": {
  "kernelspec": {
   "display_name": "Python 3",
   "language": "python",
   "name": "python3"
  },
  "language_info": {
   "codemirror_mode": {
    "name": "ipython",
    "version": 3
   },
   "file_extension": ".py",
   "mimetype": "text/x-python",
   "name": "python",
   "nbconvert_exporter": "python",
   "pygments_lexer": "ipython3",
   "version": "3.8.5"
  }
 },
 "nbformat": 4,
 "nbformat_minor": 4
}
