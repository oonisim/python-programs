{
 "cells": [
  {
   "cell_type": "code",
   "execution_count": 1,
   "id": "3cd6449b",
   "metadata": {},
   "outputs": [],
   "source": [
    "from typing import (\n",
    "    List,\n",
    "    Dict,\n",
    "    Any,\n",
    "    Tuple,\n",
    "    Callable,\n",
    "    Union,\n",
    "    Optional,\n",
    ")\n",
    "import os\n",
    "import sys\n",
    "import logging\n",
    "\n",
    "import numpy as np\n",
    "import matplotlib.pyplot as plt"
   ]
  },
  {
   "cell_type": "markdown",
   "id": "d6217e25",
   "metadata": {},
   "source": [
    "# Data\n",
    "\n",
    "```\n",
    "X: (sepal length in cm, sepal width in cm)\n",
    "Y: 0 for Iris-Setosa, 1 for Iris-Versicolour\n",
    "```"
   ]
  },
  {
   "cell_type": "code",
   "execution_count": 2,
   "id": "cb822e6e",
   "metadata": {},
   "outputs": [],
   "source": [
    "def standardize(X: np.ndarray) -> np.ndarray:\n",
    "    return (X - np.mean(X, axis=0)) / np.std(X)"
   ]
  },
  {
   "cell_type": "code",
   "execution_count": 3,
   "id": "7e2ce0b2",
   "metadata": {},
   "outputs": [
    {
     "name": "stderr",
     "output_type": "stream",
     "text": [
      "/tmp/ipykernel_18360/1210732872.py:6: FutureWarning: Using a non-tuple sequence for multidimensional indexing is deprecated; use `arr[tuple(seq)]` instead of `arr[seq]`. In the future this will be interpreted as an array index, `arr[np.array(seq)]`, which will result either in an error or a different result.\n",
      "  T = iris.target[[iris.target != 2]][\n"
     ]
    }
   ],
   "source": [
    "from sklearn import datasets\n",
    "\n",
    "iris = datasets.load_iris()\n",
    "\n",
    "X = standardize(iris.data[:, :2][iris.target != 2])\n",
    "T = iris.target[[iris.target != 2]][\n",
    "    :,\n",
    "    np.newaxis\n",
    "]  # Must be (N, 1) shape. For each X[i], there needs to be corresponding T[i]\n",
    "\n",
    "assert T.shape == (X.shape[0], 1)"
   ]
  },
  {
   "cell_type": "code",
   "execution_count": 4,
   "id": "b643a668",
   "metadata": {},
   "outputs": [
    {
     "data": {
      "text/plain": [
       "array([[0],\n",
       "       [0],\n",
       "       [0],\n",
       "       [0],\n",
       "       [0],\n",
       "       [0],\n",
       "       [0],\n",
       "       [0],\n",
       "       [0],\n",
       "       [0]])"
      ]
     },
     "execution_count": 4,
     "metadata": {},
     "output_type": "execute_result"
    }
   ],
   "source": [
    "T[0:10]"
   ]
  },
  {
   "cell_type": "code",
   "execution_count": 5,
   "id": "b259f3cd",
   "metadata": {},
   "outputs": [
    {
     "name": "stdout",
     "output_type": "stream",
     "text": [
      "X.shape (100, 2), Y.shape (100, 1)\n"
     ]
    }
   ],
   "source": [
    "print(f\"X.shape {X.shape}, Y.shape {T.shape}\")"
   ]
  },
  {
   "cell_type": "code",
   "execution_count": 6,
   "id": "6a660712",
   "metadata": {},
   "outputs": [
    {
     "data": {
      "text/plain": [
       "<matplotlib.collections.PathCollection at 0x7f44abf47850>"
      ]
     },
     "execution_count": 6,
     "metadata": {},
     "output_type": "execute_result"
    },
    {
     "data": {
      "image/png": "[encoded data removed]",
      "text/plain": [
       "<Figure size 432x288 with 1 Axes>"
      ]
     },
     "metadata": {
      "needs_background": "light"
     },
     "output_type": "display_data"
    }
   ],
   "source": [
    "plt.scatter(X[:, 0], X[:, 1], c=T.reshape(-1))"
   ]
  },
  {
   "cell_type": "markdown",
   "id": "61faa01b",
   "metadata": {},
   "source": [
    "# Logistic regresssion\n",
    "\n",
    "Decision boundray $W \\cdot X >=0$ for ```Y=1```."
   ]
  },
  {
   "cell_type": "code",
   "execution_count": 7,
   "id": "b0d82fa8",
   "metadata": {},
   "outputs": [
    {
     "data": {
      "text/plain": [
       "(100, 2)"
      ]
     },
     "execution_count": 7,
     "metadata": {},
     "output_type": "execute_result"
    }
   ],
   "source": [
    "N: int        # Number of data points\n",
    "D: int        # Dimension of each data point x\n",
    "M: int = 1    # Output dimension of X•W\n",
    "(N, D) = X.shape\n",
    "(N, D)"
   ]
  },
  {
   "cell_type": "code",
   "execution_count": 52,
   "id": "045a8dfc",
   "metadata": {},
   "outputs": [],
   "source": [
    "# weight in row level matrix in shape (M, D)\n",
    "W: np.ndarray = np.random.randn(M, D).astype(np.float32) / np.sqrt(D)"
   ]
  },
  {
   "cell_type": "markdown",
   "id": "6d9dfdb3",
   "metadata": {},
   "source": [
    "## Prediction "
   ]
  },
  {
   "cell_type": "code",
   "execution_count": 53,
   "id": "df1b3d91",
   "metadata": {},
   "outputs": [],
   "source": [
    "def predict(x: np.ndarray, w: np.ndarray) -> np.ndarray:\n",
    "    n, D = x.shape\n",
    "    \n",
    "    y = np.einsum(\"nd,md->nm\", x, w)\n",
    "    assert y.shape == (n, M)\n",
    "    return y\n",
    "\n",
    "Y = predict(x=X, w=W)\n",
    "assert Y.shape == (N, M)"
   ]
  },
  {
   "cell_type": "markdown",
   "id": "991fa6e6",
   "metadata": {},
   "source": [
    "## Binary classifiation"
   ]
  },
  {
   "cell_type": "code",
   "execution_count": 54,
   "id": "6c6be594",
   "metadata": {},
   "outputs": [],
   "source": [
    "def sigmoid(x: np.ndarray) -> np.ndarray:\n",
    "    return 1 / (1 + np.exp(-x))\n",
    "\n",
    "Z: np.ndarray = sigmoid(Y)\n",
    "assert Z.shape == (N, M)"
   ]
  },
  {
   "cell_type": "markdown",
   "id": "7cbb2afa",
   "metadata": {},
   "source": [
    "## Cross entropy log loss\n",
    "\n",
    "$Loss = -[Tlog(Z) + (1-Z)(log(1-Z)]$"
   ]
  },
  {
   "cell_type": "code",
   "execution_count": 55,
   "id": "330c57e1",
   "metadata": {},
   "outputs": [
    {
     "name": "stderr",
     "output_type": "stream",
     "text": [
      "/tmp/ipykernel_18360/4044681563.py:2: RuntimeWarning: divide by zero encountered in log\n",
      "  plt.plot(_x, -np.log(_x), label=\"-log(x)\")\n",
      "/tmp/ipykernel_18360/4044681563.py:3: RuntimeWarning: divide by zero encountered in log\n",
      "  plt.plot(_x, -np.log(1 - _x), label=\"-log(1-x)\")\n"
     ]
    },
    {
     "data": {
      "image/png": "[encoded data removed]",
      "text/plain": [
       "<Figure size 432x288 with 1 Axes>"
      ]
     },
     "metadata": {
      "needs_background": "light"
     },
     "output_type": "display_data"
    }
   ],
   "source": [
    "_x: np.ndarray = np.linspace(0, 1, num=50)\n",
    "plt.plot(_x, -np.log(_x), label=\"-log(x)\")\n",
    "plt.plot(_x, -np.log(1 - _x), label=\"-log(1-x)\")\n",
    "plt.legend()\n",
    "plt.grid()\n",
    "plt.show()"
   ]
  },
  {
   "cell_type": "code",
   "execution_count": 57,
   "id": "3f11d6f1",
   "metadata": {},
   "outputs": [
    {
     "name": "stdout",
     "output_type": "stream",
     "text": [
      "()\n"
     ]
    }
   ],
   "source": [
    "def log_loss(z: np.ndarray, t:np.ndarray) -> np.ndarray:\n",
    "    (n, m) = z.shape\n",
    "    \n",
    "    cross_entropy_log: np.ndarray = -(t * np.log(z) + (1-t) * np.log(1 - z))\n",
    "    assert cross_entropy_log.shape == (n, M)\n",
    "        \n",
    "    loss: np.ndarray = np.sum(cross_entropy_log)\n",
    "    assert loss.shape == ()    \n",
    "    return loss\n",
    "    \n",
    "\n",
    "L: np.ndarray = log_loss(z=Z, t=T)\n",
    "print(L.shape)    # () scalar"
   ]
  },
  {
   "cell_type": "markdown",
   "id": "8023bcd6",
   "metadata": {},
   "source": [
    "# Gradient descent\n",
    "\n",
    "\n",
    "$\\frac {dL}{dZ} = \\frac {1}{N} *  \\frac {Z-T}{Z(1-Z)}$ is shape ```(N, M)``` as the shape L is ```()```.\n",
    "\n",
    "$\\frac {dZ}{dY} = Z(1-Z)$\n",
    "\n",
    "$\\frac {dY}{dW} = X$ is shape ```(N, D)```\n",
    "\n",
    "\n",
    "$\\frac {dL}{dW} = \\frac {dY}{dW} \\cdot \\frac {dZ}{dY} \\cdot \\frac {dL}{dZ} = \\frac {X(Z-T)} {N}$ is shape ```(M, D)```"
   ]
  },
  {
   "cell_type": "code",
   "execution_count": 58,
   "id": "0c2b8bfa",
   "metadata": {},
   "outputs": [],
   "source": [
    "LR: np.ndarray = np.array(0.1)      # Learning rate\n",
    "epoch: int = 50000                  # number of iterations"
   ]
  },
  {
   "cell_type": "code",
   "execution_count": 59,
   "id": "37c5ec6b",
   "metadata": {},
   "outputs": [],
   "source": [
    "Y = predict(x=X, w=W)\n",
    "assert Y.shape == (N, M)\n",
    "\n",
    "Z = sigmoid(Y)\n",
    "assert Z.shape == (N, M)"
   ]
  },
  {
   "cell_type": "code",
   "execution_count": 60,
   "id": "c4420c16",
   "metadata": {},
   "outputs": [],
   "source": [
    "def gradient_descent(x: np.ndarray, w: np.ndarray, t: np.ndarray, lr: np.ndarray = LR) -> np.ndarray:\n",
    "    \"\"\"\n",
    "    dw = x(z-t) / N where x shape is (N,D) and (z-t) shape is (N, M).\n",
    "    w = w - lr * dw \n",
    "    \n",
    "    Args: \n",
    "        x: observations in shape (N, D)\n",
    "        w: weight in shape (M, D)\n",
    "        t: label in shape (N,)\n",
    "        lr: learning rate\n",
    "    \"\"\"\n",
    "    losses: List[np.ndarray] = []\n",
    "    _w = np.copy(w)\n",
    "        \n",
    "    n, d = x.shape\n",
    "    for i in range(epoch):\n",
    "        y: np.ndarray = predict(x=x, w=_w)\n",
    "\n",
    "        z: np.ndarray = sigmoid(y)\n",
    "        assert z.shape == (n, M)\n",
    "            \n",
    "        loss: np.ndarray = log_loss(z=z, t=t)\n",
    "        losses.append(loss)\n",
    "\n",
    "        # --------------------------------------------------------------------------------\n",
    "        # If T.shape is NOT reshaped to (N, 1) such as (N,) then einsum fails.\n",
    "        # For instance, when M=1: (z-t) = (N, 1) - (N,) -> (N, N) - (1, N) -> (N, N).\n",
    "        # Then the einsim \"nd,nm-md\" becomes (N, D)(N, N) -> (N, N) instead of dw:(M, D)\n",
    "        # --------------------------------------------------------------------------------\n",
    "        dw: np.ndarray = np.einsum(\"nd,nm->md\", x, z-t) / n\n",
    "        assert dw.shape == (M, D)\n",
    "    \n",
    "        _w = _w - lr * dw\n",
    "        assert _w.shape == (M, D)\n",
    "    \n",
    "    return _w, losses"
   ]
  },
  {
   "cell_type": "markdown",
   "id": "1d43c563",
   "metadata": {},
   "source": [
    "# Training"
   ]
  },
  {
   "cell_type": "code",
   "execution_count": 63,
   "id": "a3df9c81",
   "metadata": {},
   "outputs": [
    {
     "name": "stdout",
     "output_type": "stream",
     "text": [
      "[[-0.60789275 -1.1877043 ]]\n"
     ]
    }
   ],
   "source": [
    "print(W)\n",
    "W_result, losses = gradient_descent(x=X, w=W, t=T, lr=LR)"
   ]
  },
  {
   "cell_type": "code",
   "execution_count": 64,
   "id": "567ea933",
   "metadata": {},
   "outputs": [
    {
     "data": {
      "text/plain": [
       "[67.88480251700123,\n",
       " 7.438455303127094,\n",
       " 5.094223938971622,\n",
       " 4.1246589009629835,\n",
       " 3.5671533148727144,\n",
       " 3.194936520690292,\n",
       " 2.9241033190026138,\n",
       " 2.7156912560310644,\n",
       " 2.548879193019877,\n",
       " 2.411415956549281,\n",
       " 2.2955673158011503,\n",
       " 2.1961807559877347,\n",
       " 2.109674673126644,\n",
       " 2.033472193860647,\n",
       " 1.9656657513301679,\n",
       " 1.9048090039531527,\n",
       " 1.8497826814503033,\n",
       " 1.7997052155854738,\n",
       " 1.75387150476784,\n",
       " 1.7117099154703517,\n",
       " 1.6727514329895439,\n",
       " 1.6366071034488272,\n",
       " 1.6029512563847321,\n",
       " 1.5715088352370876,\n",
       " 1.5420456976457182]"
      ]
     },
     "execution_count": 64,
     "metadata": {},
     "output_type": "execute_result"
    }
   ],
   "source": [
    "losses[::2000]"
   ]
  },
  {
   "cell_type": "code",
   "execution_count": 65,
   "id": "ba81f484",
   "metadata": {},
   "outputs": [],
   "source": [
    "x = np.linspace(-1, 1, 11)\n",
    "y = np.linspace(-1, 1, 11)\n",
    "xx, yy = np.meshgrid(x, y)\n",
    "X_test = np.c_[xx.ravel(), yy.ravel()]"
   ]
  },
  {
   "cell_type": "code",
   "execution_count": 66,
   "id": "56b393f5",
   "metadata": {},
   "outputs": [],
   "source": [
    "T_test = (sigmoid(predict(X_test, W_result)) > 0.5).astype(int)"
   ]
  },
  {
   "cell_type": "code",
   "execution_count": 67,
   "id": "71424f4a",
   "metadata": {},
   "outputs": [
    {
     "data": {
      "image/png": "[encoded data removed]",
      "text/plain": [
       "<Figure size 432x288 with 1 Axes>"
      ]
     },
     "metadata": {
      "needs_background": "light"
     },
     "output_type": "display_data"
    }
   ],
   "source": [
    "plt.scatter(X_test[:, 0], X_test[:, 1], c=T_test.reshape(-1), s=10)\n",
    "plt.scatter(X[:, 0], X[:, 1], c=T.reshape(-1), s=100, marker=\"o\")\n",
    "plt.grid()"
   ]
  },
  {
   "cell_type": "code",
   "execution_count": null,
   "id": "abeeca7e",
   "metadata": {},
   "outputs": [],
   "source": []
  },
  {
   "cell_type": "code",
   "execution_count": null,
   "id": "d195bbfb",
   "metadata": {},
   "outputs": [],
   "source": []
  }
 ],
 "metadata": {
  "kernelspec": {
   "display_name": "Python 3 (ipykernel)",
   "language": "python",
   "name": "python3"
  },
  "language_info": {
   "codemirror_mode": {
    "name": "ipython",
    "version": 3
   },
   "file_extension": ".py",
   "mimetype": "text/x-python",
   "name": "python",
   "nbconvert_exporter": "python",
   "pygments_lexer": "ipython3",
   "version": "3.8.10"
  }
 },
 "nbformat": 4,
 "nbformat_minor": 5
}
