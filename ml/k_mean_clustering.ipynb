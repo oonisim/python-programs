{
 "cells": [
  {
   "cell_type": "code",
   "execution_count": 1,
   "id": "17a3335d",
   "metadata": {},
   "outputs": [],
   "source": [
    "import numpy as np\n",
    "import matplotlib.pyplot as plt"
   ]
  },
  {
   "cell_type": "code",
   "execution_count": 2,
   "id": "41bfb152",
   "metadata": {},
   "outputs": [
    {
     "data": {
      "text/plain": [
       "array([[7.19322266e-01, 5.15536267e-01],\n",
       "       [5.11376586e-01, 8.21268360e-01],\n",
       "       [4.49288692e-01, 9.68065031e-04],\n",
       "       [7.93330997e-01, 4.46890650e-02],\n",
       "       [8.01277752e-01, 8.55275975e-02],\n",
       "       [8.81224204e-01, 3.09884242e-01],\n",
       "       [1.46897781e-01, 5.08050584e-01],\n",
       "       [9.77703959e-02, 5.54561934e-01],\n",
       "       [6.34831096e-01, 1.91521986e-01],\n",
       "       [9.29480398e-01, 1.55653096e-03],\n",
       "       [7.24148584e-01, 4.92281093e-01],\n",
       "       [9.57517278e-01, 2.18917986e-01],\n",
       "       [4.28254103e-01, 9.90948764e-01],\n",
       "       [5.92946040e-01, 1.80129382e-01],\n",
       "       [4.23175290e-01, 4.24514159e-01],\n",
       "       [7.71527615e-02, 9.46093770e-04],\n",
       "       [4.91701994e-01, 1.39175434e-01],\n",
       "       [6.10705614e-01, 5.01543256e-01],\n",
       "       [3.25501387e-01, 4.52365128e-01],\n",
       "       [6.09119934e-01, 3.65564695e-01]])"
      ]
     },
     "execution_count": 2,
     "metadata": {},
     "output_type": "execute_result"
    }
   ],
   "source": [
    "N = 20         # Number of data points\n",
    "D = 2          # Dimension of a data point\n",
    "K = 3          # Number of centroids\n",
    "\n",
    "X = np.random.random((N, D))\n",
    "X"
   ]
  },
  {
   "cell_type": "code",
   "execution_count": 3,
   "id": "ac1a754b",
   "metadata": {
    "scrolled": true
   },
   "outputs": [
    {
     "data": {
      "image/png": "[encoded data removed]",
      "text/plain": [
       "<Figure size 432x288 with 1 Axes>"
      ]
     },
     "metadata": {
      "needs_background": "light"
     },
     "output_type": "display_data"
    }
   ],
   "source": [
    "plt.scatter(X[:, 0], X[:, 1])\n",
    "plt.xlim(-0.1, 1.1)\n",
    "plt.ylim(-0.1, 1.1)\n",
    "plt.grid()"
   ]
  },
  {
   "cell_type": "markdown",
   "id": "6a2950ab",
   "metadata": {},
   "source": [
    "# Initial centroids"
   ]
  },
  {
   "cell_type": "code",
   "execution_count": 4,
   "id": "2d3e59ec",
   "metadata": {},
   "outputs": [
    {
     "data": {
      "text/plain": [
       "array([[0.80127775, 0.0855276 ],\n",
       "       [0.4282541 , 0.99094876],\n",
       "       [0.51137659, 0.82126836]])"
      ]
     },
     "execution_count": 4,
     "metadata": {},
     "output_type": "execute_result"
    }
   ],
   "source": [
    "random_indices = np.random.choice(N, K, replace=False)\n",
    "centroids = X[random_indices]\n",
    "centroids"
   ]
  },
  {
   "cell_type": "code",
   "execution_count": 5,
   "id": "2d978ee6",
   "metadata": {},
   "outputs": [
    {
     "data": {
      "image/png": "[encoded data removed]",
      "text/plain": [
       "<Figure size 432x288 with 1 Axes>"
      ]
     },
     "metadata": {
      "needs_background": "light"
     },
     "output_type": "display_data"
    }
   ],
   "source": [
    "plt.scatter(centroids[:, 0], centroids[:, 1], c=[0,1,2])\n",
    "plt.xlim(-0.1, 1.1)\n",
    "plt.ylim(-0.1, 1.1)\n",
    "plt.grid()"
   ]
  },
  {
   "cell_type": "markdown",
   "id": "8ce76057",
   "metadata": {},
   "source": [
    "# Distance from each point to centroids"
   ]
  },
  {
   "cell_type": "code",
   "execution_count": 6,
   "id": "3298ce52",
   "metadata": {},
   "outputs": [
    {
     "name": "stdout",
     "output_type": "stream",
     "text": [
      "centroid  shape (3, 2)\n",
      "X_reshaed shape (20, 1, 2)\n"
     ]
    }
   ],
   "source": [
    "print(f\"centroid  shape {centroids.shape}\")\n",
    "print(f\"X_reshaed shape {X[:, np.newaxis, :].shape}\")"
   ]
  },
  {
   "cell_type": "code",
   "execution_count": 7,
   "id": "e22b8cf4",
   "metadata": {},
   "outputs": [
    {
     "data": {
      "text/plain": [
       "array([[0.19162416, 0.31073772, 0.13671352],\n",
       "       [0.62535716, 0.03570079, 0.        ],\n",
       "       [0.13104661, 0.98050424, 0.67674748],\n",
       "       [0.00173094, 1.02868856, 0.68257369],\n",
       "       [0.        , 0.95893413, 0.62535716],\n",
       "       [0.05672734, 0.6690308 , 0.39830098],\n",
       "       [0.60673882, 0.31235203, 0.23095017],\n",
       "       [0.71491581, 0.29965295, 0.2422024 ],\n",
       "       [0.0389393 , 0.68175723, 0.41182151],\n",
       "       [0.02348706, 1.23012479, 0.84673828],\n",
       "       [0.17139731, 0.33622299, 0.15350454],\n",
       "       [0.04220379, 0.87615103, 0.56186749],\n",
       "       [0.95893413, 0.        , 0.03570079],\n",
       "       [0.0523516 , 0.68455151, 0.41771277],\n",
       "       [0.25787336, 0.32087396, 0.16519336],\n",
       "       [0.53151103, 1.10337744, 0.86147895],\n",
       "       [0.09871524, 0.72954344, 0.46563785],\n",
       "       [0.20938677, 0.27280631, 0.1120904 ],\n",
       "       [0.36093292, 0.30063045, 0.17063918],\n",
       "       [0.1153454 , 0.42381768, 0.21721959]])"
      ]
     },
     "execution_count": 7,
     "metadata": {},
     "output_type": "execute_result"
    }
   ],
   "source": [
    "np.power(X[:, np.newaxis, :] - centroids, 2).sum(axis=-1)"
   ]
  },
  {
   "cell_type": "markdown",
   "id": "252feaa7",
   "metadata": {},
   "source": [
    "# K-mean clustering"
   ]
  },
  {
   "cell_type": "code",
   "execution_count": 8,
   "id": "b1f8a0d7",
   "metadata": {},
   "outputs": [],
   "source": [
    "def update_centroids(X, centroids, num_centroids=K):\n",
    "    _centroids = np.copy(centroids)\n",
    "\n",
    "    # --------------------------------------------------------------------------------\n",
    "    # Calculate distance from each data point x to centroids.\n",
    "    # [Example]\n",
    "    # [0.        , 0.01592959, 0.14055503],    # distance from the data point x0 to centroids\n",
    "    # [0.21904793, 0.23859055, 0.27079493],    \n",
    "    # [0.0158939 , 0.06245311, 0.23647889],\n",
    "    # ...\n",
    "    # \n",
    "    # [Steps]\n",
    "    # X has shape (N, D) and centroids has shape (K, D).\n",
    "    # 1. Get (N, K, D) where each row (K, D) is [(x-c0)^2, (x-c0)^2, (x-c0)^2]\n",
    "    # 2. Get (N, K) where each row is (distance_from_c0, distance_from_c1, distance_form_c2)\n",
    "    #    for each data point x. \n",
    "    # --------------------------------------------------------------------------------\n",
    "    X_reshaped = X[:, np.newaxis, :]                   # Shape (N, 1, D)\n",
    "    deltas_from_centroids = X_reshaped - _centroids    # Shape (N, K, D) via (N, 1, D) - (K, D) \n",
    "    distances_from_centroids = np.power(deltas_from_centroids, 2).sum(axis=-1)\n",
    "\n",
    "    # --------------------------------------------------------------------------------\n",
    "    # Identify nearest centroid to each data point\n",
    "    # --------------------------------------------------------------------------------\n",
    "    nearest_centroid_ids = np.argmin(distances_from_centroids, axis=-1)\n",
    "    \n",
    "    # --------------------------------------------------------------------------------\n",
    "    # Get new coordinate for each centroid i\n",
    "    # --------------------------------------------------------------------------------\n",
    "    for i in range(num_centroids):\n",
    "        # 1. Extract the cluster for centroid i.\n",
    "        cluster_for_centroid_i = X[nearest_centroid_ids == i]\n",
    "\n",
    "        # 2. Get the mean as the new coordinate of the centroid i\n",
    "        _centroids[i] = X[nearest_centroid_ids == i].mean(axis=0)\n",
    "        \n",
    "    return _centroids, nearest_centroid_ids"
   ]
  },
  {
   "cell_type": "code",
   "execution_count": 9,
   "id": "ffa2c701",
   "metadata": {},
   "outputs": [],
   "source": [
    "for i in range(100):\n",
    "    centroids, nearests = update_centroids(X, centroids)"
   ]
  },
  {
   "cell_type": "code",
   "execution_count": 10,
   "id": "2a6dff5a",
   "metadata": {},
   "outputs": [
    {
     "data": {
      "image/png": "[encoded data removed]",
      "text/plain": [
       "<Figure size 432x288 with 1 Axes>"
      ]
     },
     "metadata": {
      "needs_background": "light"
     },
     "output_type": "display_data"
    }
   ],
   "source": [
    "plt.scatter(X[:, 0], X[:, 1], c=nearests)\n",
    "plt.xlim(-0.1, 1.1)\n",
    "plt.ylim(-0.1, 1.1)\n",
    "plt.grid()"
   ]
  },
  {
   "cell_type": "code",
   "execution_count": 11,
   "id": "659b9f11",
   "metadata": {},
   "outputs": [
    {
     "data": {
      "image/png": "[encoded data removed]",
      "text/plain": [
       "<Figure size 432x288 with 1 Axes>"
      ]
     },
     "metadata": {
      "needs_background": "light"
     },
     "output_type": "display_data"
    }
   ],
   "source": [
    "plt.scatter(centroids[:, 0], centroids[:, 1], c=[0,1,2])\n",
    "plt.xlim(-0.1, 1.1)\n",
    "plt.ylim(-0.1, 1.1)\n",
    "plt.grid()"
   ]
  },
  {
   "cell_type": "code",
   "execution_count": null,
   "id": "6d17d916",
   "metadata": {},
   "outputs": [],
   "source": []
  },
  {
   "cell_type": "code",
   "execution_count": null,
   "id": "47f3fe7d",
   "metadata": {},
   "outputs": [],
   "source": []
  }
 ],
 "metadata": {
  "kernelspec": {
   "display_name": "Python 3 (ipykernel)",
   "language": "python",
   "name": "python3"
  },
  "language_info": {
   "codemirror_mode": {
    "name": "ipython",
    "version": 3
   },
   "file_extension": ".py",
   "mimetype": "text/x-python",
   "name": "python",
   "nbconvert_exporter": "python",
   "pygments_lexer": "ipython3",
   "version": "3.8.10"
  }
 },
 "nbformat": 4,
 "nbformat_minor": 5
}
