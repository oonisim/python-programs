{
 "cells": [
  {
   "cell_type": "markdown",
   "metadata": {},
   "source": [
    "# Model performance metrics for KNN\n",
    "\n",
    "Evaluate the performance of a KNN (K Nearest Neibours) on the MNIST dataset."
   ]
  },
  {
   "cell_type": "code",
   "execution_count": 5,
   "metadata": {},
   "outputs": [],
   "source": [
    "# Python ≥3.5 is required\n",
    "import sys\n",
    "assert sys.version_info >= (3, 5)\n",
    "\n",
    "# Scikit-Learn ≥0.20 is required\n",
    "import sklearn\n",
    "assert sklearn.__version__ >= \"0.20\"\n",
    "\n",
    "# Common imports\n",
    "import numpy as np\n",
    "import os\n",
    "\n",
    "# to make this notebook's output stable across runs\n",
    "np.random.seed(42)\n",
    "\n",
    "# To plot pretty figures\n",
    "%matplotlib inline\n",
    "import matplotlib as mpl\n",
    "import matplotlib.pyplot as plt\n",
    "mpl.rc('axes', labelsize=14)\n",
    "mpl.rc('xtick', labelsize=12)\n",
    "mpl.rc('ytick', labelsize=12)\n",
    "\n",
    "# Where to save the figures\n",
    "PROJECT_ROOT_DIR = \".\"\n",
    "CHAPTER_ID = \"classification\"\n",
    "IMAGES_PATH = os.path.join(PROJECT_ROOT_DIR, \"images\", CHAPTER_ID)\n",
    "os.makedirs(IMAGES_PATH, exist_ok=True)\n",
    "\n",
    "def save_fig(fig_id, tight_layout=True, fig_extension=\"png\", resolution=300):\n",
    "    path = os.path.join(IMAGES_PATH, fig_id + \".\" + fig_extension)\n",
    "    print(\"Saving figure\", fig_id)\n",
    "    if tight_layout:\n",
    "        plt.tight_layout()\n",
    "    plt.savefig(path, format=fig_extension, dpi=resolution)"
   ]
  },
  {
   "cell_type": "markdown",
   "metadata": {},
   "source": [
    "# MNIST\n",
    "\n",
    "Using hand-written images (MNSIT), explore the performance metrics of classifiers. "
   ]
  },
  {
   "cell_type": "code",
   "execution_count": 6,
   "metadata": {},
   "outputs": [
    {
     "data": {
      "text/plain": [
       "dict_keys(['data', 'target', 'feature_names', 'DESCR', 'details', 'categories', 'url'])"
      ]
     },
     "execution_count": 6,
     "metadata": {},
     "output_type": "execute_result"
    }
   ],
   "source": [
    "from sklearn.datasets import fetch_openml\n",
    "mnist = fetch_openml('mnist_784', version=1)\n",
    "# MNIST dataset is a dictonary where each key identifies the type of data.\n",
    "mnist.keys()"
   ]
  },
  {
   "cell_type": "code",
   "execution_count": 7,
   "metadata": {},
   "outputs": [
    {
     "name": "stdout",
     "output_type": "stream",
     "text": [
      "**Author**: Yann LeCun, Corinna Cortes, Christopher J.C. Burges  \n",
      "**Source**: [MNIST Website](http://yann.lecun.com/exdb/mnist/) - Date unknown  \n",
      "**Please cite**:  \n",
      "\n",
      "The MNIST database of handwritten digits with 784 features, raw data available at: http://yann.lecun.com/exdb/mnist/. It can be split in a training set of the first 60,000 examples, and a test set of 10,000 examples  \n",
      "\n",
      "It is a subset of a larger set available from NIST. The digits have been size-normalized and centered in a fixed-size image. It is a good database for people who want to try learning techniques and pattern recognition methods on real-world data while spending minimal efforts on preprocessing and formatting. The original black and white (bilevel) images from NIST were size normalized to fit in a 20x20 pixel box while preserving their aspect ratio. The resulting images contain grey levels as a result of the anti-aliasing technique used by the normalization algorithm. the images were centered in a 28x28 image by computing the center of mass of the pixels, and translating the image so as to position this point at the center of the 28x28 field.  \n",
      "\n",
      "With some classification methods (particularly template-based methods, such as SVM and K-nearest neighbors), the error rate improves when the digits are centered by bounding box rather than center of mass. If you do this kind of pre-processing, you should report it in your publications. The MNIST database was constructed from NIST's NIST originally designated SD-3 as their training set and SD-1 as their test set. However, SD-3 is much cleaner and easier to recognize than SD-1. The reason for this can be found on the fact that SD-3 was collected among Census Bureau employees, while SD-1 was collected among high-school students. Drawing sensible conclusions from learning experiments requires that the result be independent of the choice of training set and test among the complete set of samples. Therefore it was necessary to build a new database by mixing NIST's datasets.  \n",
      "\n",
      "The MNIST training set is composed of 30,000 patterns from SD-3 and 30,000 patterns from SD-1. Our test set was composed of 5,000 patterns from SD-3 and 5,000 patterns from SD-1. The 60,000 pattern training set contained examples from approximately 250 writers. We made sure that the sets of writers of the training set and test set were disjoint. SD-1 contains 58,527 digit images written by 500 different writers. In contrast to SD-3, where blocks of data from each writer appeared in sequence, the data in SD-1 is scrambled. Writer identities for SD-1 is available and we used this information to unscramble the writers. We then split SD-1 in two: characters written by the first 250 writers went into our new training set. The remaining 250 writers were placed in our test set. Thus we had two sets with nearly 30,000 examples each. The new training set was completed with enough examples from SD-3, starting at pattern # 0, to make a full set of 60,000 training patterns. Similarly, the new test set was completed with SD-3 examples starting at pattern # 35,000 to make a full set with 60,000 test patterns. Only a subset of 10,000 test images (5,000 from SD-1 and 5,000 from SD-3) is available on this site. The full 60,000 sample training set is available.\n",
      "\n",
      "Downloaded from openml.org.\n"
     ]
    }
   ],
   "source": [
    "# DESCR refers to the explanation of the data set\n",
    "print(mnist['DESCR'])"
   ]
  },
  {
   "cell_type": "code",
   "execution_count": 8,
   "metadata": {},
   "outputs": [
    {
     "name": "stdout",
     "output_type": "stream",
     "text": [
      "Number of labels [10]\n",
      "First 10 labels [5 0 4 1 9 2 1 3 1 4]\n"
     ]
    }
   ],
   "source": [
    "# 'target' refers to the labels (digit of the handwritten image) and the 1st image is digit '5'.\n",
    "# Convert character digit to int for ML.\n",
    "mnist['target'] = mnist['target'].astype(np.int)\n",
    "NUM_CLASSES = len(set(mnist['target']))\n",
    "\n",
    "print(\"Number of labels [{}]\".format(NUM_CLASSES))\n",
    "print(\"First 10 labels {}\".format(mnist['target'][:10]))"
   ]
  },
  {
   "cell_type": "code",
   "execution_count": 9,
   "metadata": {},
   "outputs": [
    {
     "data": {
      "text/plain": [
       "(70000, 784)"
      ]
     },
     "execution_count": 9,
     "metadata": {},
     "output_type": "execute_result"
    }
   ],
   "source": [
    "# 'data' refers to an array of the hand-written images (70,000 images).\n",
    "mnist['data'].shape"
   ]
  },
  {
   "cell_type": "code",
   "execution_count": 10,
   "metadata": {},
   "outputs": [
    {
     "data": {
      "text/plain": [
       "(784,)"
      ]
     },
     "execution_count": 10,
     "metadata": {},
     "output_type": "execute_result"
    }
   ],
   "source": [
    "# Each image is 28 x 28 black & white bitmap.\n",
    "mnist['data'][0].shape"
   ]
  },
  {
   "cell_type": "markdown",
   "metadata": {},
   "source": [
    "## Train and test data sets\n",
    "MNIST data has been already shuffled, hence no need to shuffle."
   ]
  },
  {
   "cell_type": "code",
   "execution_count": 11,
   "metadata": {},
   "outputs": [],
   "source": [
    "X, y = mnist[\"data\"], mnist[\"target\"]\n",
    "X_train, X_test, y_train, y_test = X[:60000], X[60000:], y[:60000], y[60000:]"
   ]
  },
  {
   "cell_type": "code",
   "execution_count": 12,
   "metadata": {},
   "outputs": [
    {
     "name": "stdout",
     "output_type": "stream",
     "text": [
      "(10000, 10)\n"
     ]
    }
   ],
   "source": [
    "# Binarize labels for precision-recall and roc curves for each class. \n",
    "from sklearn.preprocessing import label_binarize\n",
    "Y = label_binarize(mnist.target, classes=[*range(NUM_CLASSES)])\n",
    "Y_train, Y_test = Y[:60000], Y[60000:]\n",
    "\n",
    "print(Y_test.shape)"
   ]
  },
  {
   "cell_type": "markdown",
   "metadata": {},
   "source": [
    "# Grid Search optimal hyper parameters and the classifier\n",
    "Time taken using AWS ml.c4.4xlarge instance on AWS SageMaker\n",
    "\n",
    "<pre>\n",
    "Using backend LokyBackend with 16 concurrent workers.\n",
    "Done   3 out of  10 | elapsed: 62.4min remaining: 145.6min\n",
    "Done   7 out of  10 | elapsed: 64.3min remaining: 27.6min\n",
    "Done  10 out of  10 | elapsed: 64.4min finished\n",
    "</pre>"
   ]
  },
  {
   "cell_type": "code",
   "execution_count": 12,
   "metadata": {},
   "outputs": [],
   "source": [
    "from sklearn.neighbors import KNeighborsClassifier\n",
    "knn = KNeighborsClassifier(\n",
    "    n_neighbors=NUM_CLASSES, \n",
    "    weights='uniform',\n",
    "    n_jobs=-1           # Use all processors\n",
    ")\n",
    "\n",
    "params_knn = knn.get_params()\n",
    "print(\"KNN parameters = {}\".format(params_knn))"
   ]
  },
  {
   "cell_type": "code",
   "execution_count": null,
   "metadata": {},
   "outputs": [],
   "source": [
    "#import joblib\n",
    "#knn = joblib.load(filename='./data/mnist_knn.pkl')"
   ]
  },
  {
   "cell_type": "code",
   "execution_count": 14,
   "metadata": {},
   "outputs": [
    {
     "name": "stdout",
     "output_type": "stream",
     "text": [
      "Fitting 5 folds for each of 2 candidates, totalling 10 fits\n"
     ]
    },
    {
     "name": "stderr",
     "output_type": "stream",
     "text": [
      "[Parallel(n_jobs=-1)]: Using backend LokyBackend with 16 concurrent workers.\n",
      "[Parallel(n_jobs=-1)]: Done   3 out of  10 | elapsed: 62.4min remaining: 145.6min\n",
      "[Parallel(n_jobs=-1)]: Done   7 out of  10 | elapsed: 64.3min remaining: 27.6min\n",
      "[Parallel(n_jobs=-1)]: Done  10 out of  10 | elapsed: 64.4min finished\n"
     ]
    },
    {
     "name": "stdout",
     "output_type": "stream",
     "text": [
      "{'n_neighbors': 10, 'weights': 'distance'}\n"
     ]
    }
   ],
   "source": [
    "from sklearn.model_selection import GridSearchCV\n",
    "\n",
    "param_grid = [\n",
    "    {\n",
    "        'weights': [\"uniform\", \"distance\"], \n",
    "        'n_neighbors': [NUM_CLASSES]\n",
    "    }\n",
    "]\n",
    "grid_search = GridSearchCV(knn, param_grid, cv=5, verbose=3, n_jobs=-1)\n",
    "grid_search.fit(X_train, y_train)\n",
    "knn = grid_search.best_estimator_\n",
    "\n",
    "print(\"GridSearchCV best parameters for KNN is {}\".format(grid_search.best_params_))\n",
    "print(grid_search)"
   ]
  },
  {
   "cell_type": "code",
   "execution_count": 3,
   "metadata": {},
   "outputs": [
    {
     "name": "stderr",
     "output_type": "stream",
     "text": [
      "/home/masa/anaconda3/lib/python3.7/site-packages/sklearn/base.py:306: UserWarning: Trying to unpickle estimator KNeighborsClassifier from version 0.20.3 when using version 0.21.3. This might lead to breaking code or invalid results. Use at your own risk.\n",
      "  UserWarning)\n"
     ]
    }
   ],
   "source": [
    "knn"
   ]
  },
  {
   "cell_type": "markdown",
   "metadata": {},
   "source": [
    "# Prediction on Test Dataset"
   ]
  },
  {
   "cell_type": "code",
   "execution_count": 13,
   "metadata": {},
   "outputs": [],
   "source": [
    "y_test_pred_knn = knn.predict(X_test)"
   ]
  },
  {
   "cell_type": "markdown",
   "metadata": {},
   "source": [
    "# Confusion Matrix"
   ]
  },
  {
   "cell_type": "code",
   "execution_count": 14,
   "metadata": {},
   "outputs": [
    {
     "data": {
      "text/plain": [
       "array([[ 972,    1,    1,    0,    0,    2,    3,    1,    0,    0],\n",
       "       [   0, 1132,    2,    0,    0,    0,    1,    0,    0,    0],\n",
       "       [  13,   10,  983,    2,    1,    0,    2,   17,    4,    0],\n",
       "       [   0,    3,    1,  975,    1,   12,    1,    7,    5,    5],\n",
       "       [   1,   11,    0,    0,  940,    0,    4,    1,    1,   24],\n",
       "       [   4,    0,    0,    4,    2,  868,    6,    1,    1,    6],\n",
       "       [   6,    4,    0,    0,    3,    2,  943,    0,    0,    0],\n",
       "       [   0,   25,    3,    0,    1,    0,    0,  987,    0,   12],\n",
       "       [   6,    4,    4,   10,    6,    8,    3,    6,  919,    8],\n",
       "       [   5,    6,    3,    5,    8,    4,    1,   10,    2,  965]])"
      ]
     },
     "execution_count": 14,
     "metadata": {},
     "output_type": "execute_result"
    }
   ],
   "source": [
    "from sklearn.metrics import confusion_matrix\n",
    "confusion_matrix(y_test, y_test_pred_knn)"
   ]
  },
  {
   "cell_type": "markdown",
   "metadata": {},
   "source": [
    "## Evaluation scores"
   ]
  },
  {
   "cell_type": "code",
   "execution_count": 15,
   "metadata": {},
   "outputs": [],
   "source": [
    "from sklearn.metrics import accuracy_score\n",
    "accuracy_knn = accuracy_score(y_test, y_test_pred_knn)"
   ]
  },
  {
   "cell_type": "code",
   "execution_count": 16,
   "metadata": {},
   "outputs": [
    {
     "data": {
      "text/html": [
       "<div>\n",
       "<style scoped>\n",
       "    .dataframe tbody tr th:only-of-type {\n",
       "        vertical-align: middle;\n",
       "    }\n",
       "\n",
       "    .dataframe tbody tr th {\n",
       "        vertical-align: top;\n",
       "    }\n",
       "\n",
       "    .dataframe thead th {\n",
       "        text-align: right;\n",
       "    }\n",
       "</style>\n",
       "<table border=\"1\" class=\"dataframe\">\n",
       "  <thead>\n",
       "    <tr style=\"text-align: right;\">\n",
       "      <th></th>\n",
       "      <th>0</th>\n",
       "      <th>1</th>\n",
       "      <th>2</th>\n",
       "      <th>3</th>\n",
       "      <th>4</th>\n",
       "      <th>5</th>\n",
       "      <th>6</th>\n",
       "      <th>7</th>\n",
       "      <th>8</th>\n",
       "      <th>9</th>\n",
       "      <th>10</th>\n",
       "    </tr>\n",
       "  </thead>\n",
       "  <tbody>\n",
       "    <tr>\n",
       "      <th>0</th>\n",
       "      <td>Precision</td>\n",
       "      <td>0.9652432969215492</td>\n",
       "      <td>0.9464882943143813</td>\n",
       "      <td>0.9859578736208626</td>\n",
       "      <td>0.9789156626506024</td>\n",
       "      <td>0.9771309771309772</td>\n",
       "      <td>0.96875</td>\n",
       "      <td>0.9782157676348547</td>\n",
       "      <td>0.958252427184466</td>\n",
       "      <td>0.9860515021459227</td>\n",
       "      <td>0.946078431372549</td>\n",
       "    </tr>\n",
       "    <tr>\n",
       "      <th>1</th>\n",
       "      <td>Recall</td>\n",
       "      <td>0.9918367346938776</td>\n",
       "      <td>0.9973568281938326</td>\n",
       "      <td>0.9525193798449613</td>\n",
       "      <td>0.9653465346534653</td>\n",
       "      <td>0.9572301425661914</td>\n",
       "      <td>0.9730941704035875</td>\n",
       "      <td>0.9843423799582464</td>\n",
       "      <td>0.9601167315175098</td>\n",
       "      <td>0.9435318275154004</td>\n",
       "      <td>0.956392467789891</td>\n",
       "    </tr>\n",
       "    <tr>\n",
       "      <th>2</th>\n",
       "      <td>F1</td>\n",
       "      <td>0.9783593356819327</td>\n",
       "      <td>0.9712569712569713</td>\n",
       "      <td>0.9689502217841302</td>\n",
       "      <td>0.9720837487537388</td>\n",
       "      <td>0.9670781893004116</td>\n",
       "      <td>0.9709172259507831</td>\n",
       "      <td>0.9812695109261186</td>\n",
       "      <td>0.9591836734693878</td>\n",
       "      <td>0.9643231899265478</td>\n",
       "      <td>0.9512074913750616</td>\n",
       "    </tr>\n",
       "    <tr>\n",
       "      <th>3</th>\n",
       "      <td>Support</td>\n",
       "      <td>980</td>\n",
       "      <td>1135</td>\n",
       "      <td>1032</td>\n",
       "      <td>1010</td>\n",
       "      <td>982</td>\n",
       "      <td>892</td>\n",
       "      <td>958</td>\n",
       "      <td>1028</td>\n",
       "      <td>974</td>\n",
       "      <td>1009</td>\n",
       "    </tr>\n",
       "  </tbody>\n",
       "</table>\n",
       "</div>"
      ],
      "text/plain": [
       "           0                   1                   2                   3  \\\n",
       "0  Precision  0.9652432969215492  0.9464882943143813  0.9859578736208626   \n",
       "1     Recall  0.9918367346938776  0.9973568281938326  0.9525193798449613   \n",
       "2         F1  0.9783593356819327  0.9712569712569713  0.9689502217841302   \n",
       "3    Support                 980                1135                1032   \n",
       "\n",
       "                    4                   5                   6  \\\n",
       "0  0.9789156626506024  0.9771309771309772             0.96875   \n",
       "1  0.9653465346534653  0.9572301425661914  0.9730941704035875   \n",
       "2  0.9720837487537388  0.9670781893004116  0.9709172259507831   \n",
       "3                1010                 982                 892   \n",
       "\n",
       "                    7                   8                   9  \\\n",
       "0  0.9782157676348547   0.958252427184466  0.9860515021459227   \n",
       "1  0.9843423799582464  0.9601167315175098  0.9435318275154004   \n",
       "2  0.9812695109261186  0.9591836734693878  0.9643231899265478   \n",
       "3                 958                1028                 974   \n",
       "\n",
       "                   10  \n",
       "0   0.946078431372549  \n",
       "1   0.956392467789891  \n",
       "2  0.9512074913750616  \n",
       "3                1009  "
      ]
     },
     "execution_count": 16,
     "metadata": {},
     "output_type": "execute_result"
    }
   ],
   "source": [
    "from sklearn.metrics import precision_recall_fscore_support as score\n",
    "precision_knn, recall_knn, fscore_knn, support_knn = score(y_test, y_test_pred_knn)\n",
    "\n",
    "import pandas as pd\n",
    "data_knn = [\n",
    "#    np.append([\"Accracy\"], accuracy_knn),\n",
    "    np.append([\"Precision\"], precision_knn),\n",
    "    np.append([\"Recall\"], recall_knn),\n",
    "    np.append([\"F1\"], fscore_knn),\n",
    "    np.append([\"Support\"], support_knn)\n",
    "]\n",
    "pd.DataFrame(data_knn)"
   ]
  },
  {
   "cell_type": "markdown",
   "metadata": {},
   "source": [
    "## Precision Recall Curve"
   ]
  },
  {
   "cell_type": "code",
   "execution_count": 17,
   "metadata": {},
   "outputs": [
    {
     "name": "stdout",
     "output_type": "stream",
     "text": [
      "y_scores_knn shape is (10000, 10)\n"
     ]
    }
   ],
   "source": [
    "# --------------------------------------------------------------------------------\n",
    "# For Precision-Recall and ROC, use predict_proba to get class probabilities (scores).\n",
    "# --------------------------------------------------------------------------------\n",
    "y_scores_knn = knn.predict_proba(X_test)\n",
    "print(\"y_scores_knn shape is {}\".format(y_scores_knn.shape))"
   ]
  },
  {
   "cell_type": "code",
   "execution_count": 18,
   "metadata": {},
   "outputs": [
    {
     "data": {
      "image/png": "[encoded data removed]",
      "text/plain": [
       "<Figure size 576x432 with 1 Axes>"
      ]
     },
     "metadata": {
      "needs_background": "light"
     },
     "output_type": "display_data"
    }
   ],
   "source": [
    "# --------------------------------------------------------------------------------\n",
    "# https://stackoverflow.com/questions/56090541/how-to-plot-precision-and-recall-of-multiclass-classifier\n",
    "# For multi class curves, considering each element of the label indicator matrix \n",
    "# as a binary prediction (micro-averaging).\n",
    "# --------------------------------------------------------------------------------\n",
    "from sklearn.metrics import precision_recall_curve\n",
    "def plot_precision_vs_recall_muliti_class(y, y_scores, num_classes):\n",
    "    precisions = dict()\n",
    "    recalls = dict()\n",
    "    thresholds = dict()\n",
    "\n",
    "    for i in range(num_classes):\n",
    "        precisions[i], recalls[i], thresholds[i] = precision_recall_curve(\n",
    "            y[:, i],\n",
    "            y_scores[:, i]\n",
    "        )\n",
    "        plt.plot(recalls[i], precisions[i], lw=2, label='class {}'.format(i))\n",
    "\n",
    "    plt.xlabel(\"recall\")\n",
    "    plt.ylabel(\"precision\")\n",
    "    plt.legend(loc=\"best\")\n",
    "    plt.title(\"precision vs. recall curve\")\n",
    "    plt.show()\n",
    "    \n",
    "# --------------------------------------------------------------------------------\n",
    "# [Draw P-R curve]\n",
    "# --------------------------------------------------------------------------------\n",
    "plt.figure(figsize=(8, 6)) \n",
    "plot_precision_vs_recall_muliti_class(Y_test, y_scores_knn, NUM_CLASSES)"
   ]
  },
  {
   "cell_type": "markdown",
   "metadata": {},
   "source": [
    "## ROC"
   ]
  },
  {
   "cell_type": "code",
   "execution_count": 19,
   "metadata": {},
   "outputs": [
    {
     "data": {
      "image/png": "[encoded data removed]",
      "text/plain": [
       "<Figure size 576x432 with 1 Axes>"
      ]
     },
     "metadata": {
      "needs_background": "light"
     },
     "output_type": "display_data"
    },
    {
     "name": "stdout",
     "output_type": "stream",
     "text": [
      "Saving figure roc_curve_plot_knn_multi_class\n"
     ]
    },
    {
     "data": {
      "text/plain": [
       "<Figure size 432x288 with 0 Axes>"
      ]
     },
     "metadata": {},
     "output_type": "display_data"
    }
   ],
   "source": [
    "# --------------------------------------------------------------------------------\n",
    "# https://stackoverflow.com/questions/56090541/how-to-plot-precision-and-recall-of-multiclass-classifier\n",
    "# For multi class curves, considering each element of the label indicator matrix \n",
    "# as a binary prediction (micro-averaging).\n",
    "# --------------------------------------------------------------------------------\n",
    "from sklearn.metrics import roc_curve, auc\n",
    "fpr = dict()\n",
    "tpr = dict()\n",
    "threshold = dict()\n",
    "roc_auc = dict()\n",
    "\n",
    "def plot_roc_curve_multi_class(y, y_scores, n_classes):\n",
    "    for i in range(n_classes):\n",
    "\n",
    "        fpr[i], tpr[i], threshold[i] = roc_curve(\n",
    "            y[:, i],\n",
    "            y_scores[:, i]\n",
    "        )\n",
    "        roc_auc[i] = auc(fpr[i], tpr[i])\n",
    "        plt.plot(\n",
    "            fpr[i], \n",
    "            tpr[i], \n",
    "            lw=2, \n",
    "            label='class {0} auc={1}'.format(i, np.round(roc_auc[i], decimals=3))\n",
    "        )\n",
    "        \n",
    "    plt.xlabel(\"false positive rate\")\n",
    "    plt.ylabel(\"true positive rate\")\n",
    "    plt.legend(loc=\"best\")\n",
    "    plt.title(\"ROC curve\")\n",
    "    plt.show()\n",
    "\n",
    "# --------------------------------------------------------------------------------\n",
    "# Draw ROC curve\n",
    "# --------------------------------------------------------------------------------\n",
    "plt.figure(figsize=(8, 6)) \n",
    "plot_roc_curve_multi_class(Y_test,y_scores_knn, NUM_CLASSES)\n",
    "save_fig(\"roc_curve_plot_knn_multi_class\") "
   ]
  },
  {
   "cell_type": "markdown",
   "metadata": {},
   "source": [
    "# Export Models"
   ]
  },
  {
   "cell_type": "code",
   "execution_count": 63,
   "metadata": {},
   "outputs": [
    {
     "name": "stdout",
     "output_type": "stream",
     "text": [
      "Requirement already satisfied: joblib in /home/ec2-user/anaconda3/envs/python3/lib/python3.6/site-packages (0.14.0)\n"
     ]
    },
    {
     "name": "stderr",
     "output_type": "stream",
     "text": [
      "You are using pip version 10.0.1, however version 19.3.1 is available.\n",
      "You should consider upgrading via the 'pip install --upgrade pip' command.\n"
     ]
    }
   ],
   "source": [
    "%%bash\n",
    "pip install joblib"
   ]
  },
  {
   "cell_type": "code",
   "execution_count": 64,
   "metadata": {},
   "outputs": [
    {
     "data": {
      "text/plain": [
       "['./mnist_knn.pkl']"
      ]
     },
     "execution_count": 64,
     "metadata": {},
     "output_type": "execute_result"
    }
   ],
   "source": [
    "# https://joblib.readthedocs.io/en/latest/generated/joblib.dump.html\n",
    "import joblib\n",
    "joblib.dump(knn, './mnist_knn.pkl', compress=3)"
   ]
  },
  {
   "cell_type": "code",
   "execution_count": 65,
   "metadata": {},
   "outputs": [
    {
     "name": "stdout",
     "output_type": "stream",
     "text": [
      "/home/ec2-user/SageMaker/Probabilistic-ML\n"
     ]
    }
   ],
   "source": [
    "%%bash\n",
    "pwd"
   ]
  }
 ],
 "metadata": {
  "kernelspec": {
   "display_name": "Python 3",
   "language": "python",
   "name": "python3"
  },
  "language_info": {
   "codemirror_mode": {
    "name": "ipython",
    "version": 3
   },
   "file_extension": ".py",
   "mimetype": "text/x-python",
   "name": "python",
   "nbconvert_exporter": "python",
   "pygments_lexer": "ipython3",
   "version": "3.6.9"
  }
 },
 "nbformat": 4,
 "nbformat_minor": 2
}
