{
 "cells": [
  {
   "cell_type": "markdown",
   "id": "e202b940",
   "metadata": {},
   "source": [
    "# setup"
   ]
  },
  {
   "cell_type": "code",
   "execution_count": 1,
   "id": "d93979c1",
   "metadata": {},
   "outputs": [],
   "source": [
    "import numpy as np\n",
    "import pandas as pd\n",
    "from sklearn.datasets import load_diabetes\n",
    "from sklearn.metrics import mean_squared_error, r2_score\n",
    "import matplotlib.pyplot as plt"
   ]
  },
  {
   "cell_type": "code",
   "execution_count": 2,
   "id": "33121ba5",
   "metadata": {},
   "outputs": [],
   "source": [
    "TYPE_FLOAT = np.float32"
   ]
  },
  {
   "cell_type": "markdown",
   "id": "d6cd544d",
   "metadata": {},
   "source": [
    "# Data\n",
    "\n",
    "[7.1.3. Diabetes dataset](https://scikit-learn.org/stable/datasets/toy_dataset.html#diabetes-dataset)\n",
    "\n",
    "> Ten baseline variables, age, sex, body mass index, average blood pressure, and six blood serum measurements were obtained for each of n = 442 diabetes patients, as well as the response of interest, a quantitative measure of disease progression one year after baseline.\n",
    ">  \n",
    "> Note: Each of these 10 feature variables have been **mean centered and scaled** by the standard deviation times the square root of n_samples (i.e. the sum of squares of each column totals 1).\n",
    "> \n",
    "> **y** is a quantitative measure of disease progression one year after baseline\n",
    "\n",
    "1. age age in years\n",
    "2. sex\n",
    "3. bmi body mass index\n",
    "4. bp average blood pressure\n",
    "5. s1 tc, total serum cholesterol\n",
    "6. s2 ldl, low-density lipoproteins\n",
    "7. s3 hdl, high-density lipoproteins\n",
    "8. s4 tch, total cholesterol / HDL\n",
    "9. s5 ltg, possibly log of serum triglycerides level\n",
    "10. s6 glu, blood sugar level\n"
   ]
  },
  {
   "cell_type": "code",
   "execution_count": 3,
   "id": "68e3c20f",
   "metadata": {},
   "outputs": [
    {
     "name": "stdout",
     "output_type": "stream",
     "text": [
      "X shape (442, 10) y shape (442,)\n"
     ]
    }
   ],
   "source": [
    "X, y = load_diabetes(return_X_y=True)\n",
    "print(f\"X shape {X.shape} y shape {y.shape}\")"
   ]
  },
  {
   "cell_type": "code",
   "execution_count": 4,
   "id": "1efe49aa",
   "metadata": {},
   "outputs": [
    {
     "data": {
      "text/html": [
       "<div>\n",
       "<style scoped>\n",
       "    .dataframe tbody tr th:only-of-type {\n",
       "        vertical-align: middle;\n",
       "    }\n",
       "\n",
       "    .dataframe tbody tr th {\n",
       "        vertical-align: top;\n",
       "    }\n",
       "\n",
       "    .dataframe thead th {\n",
       "        text-align: right;\n",
       "    }\n",
       "</style>\n",
       "<table border=\"1\" class=\"dataframe\">\n",
       "  <thead>\n",
       "    <tr style=\"text-align: right;\">\n",
       "      <th></th>\n",
       "      <th>age</th>\n",
       "      <th>gender</th>\n",
       "      <th>bmi</th>\n",
       "      <th>pressure</th>\n",
       "      <th>cholesterol</th>\n",
       "      <th>s2</th>\n",
       "      <th>s3</th>\n",
       "      <th>s4</th>\n",
       "      <th>s5</th>\n",
       "      <th>s6</th>\n",
       "    </tr>\n",
       "  </thead>\n",
       "  <tbody>\n",
       "    <tr>\n",
       "      <th>0</th>\n",
       "      <td>0.038076</td>\n",
       "      <td>0.050680</td>\n",
       "      <td>0.061696</td>\n",
       "      <td>0.021872</td>\n",
       "      <td>-0.044223</td>\n",
       "      <td>-0.034821</td>\n",
       "      <td>-0.043401</td>\n",
       "      <td>-0.002592</td>\n",
       "      <td>0.019908</td>\n",
       "      <td>-0.017646</td>\n",
       "    </tr>\n",
       "    <tr>\n",
       "      <th>1</th>\n",
       "      <td>-0.001882</td>\n",
       "      <td>-0.044642</td>\n",
       "      <td>-0.051474</td>\n",
       "      <td>-0.026328</td>\n",
       "      <td>-0.008449</td>\n",
       "      <td>-0.019163</td>\n",
       "      <td>0.074412</td>\n",
       "      <td>-0.039493</td>\n",
       "      <td>-0.068330</td>\n",
       "      <td>-0.092204</td>\n",
       "    </tr>\n",
       "    <tr>\n",
       "      <th>2</th>\n",
       "      <td>0.085299</td>\n",
       "      <td>0.050680</td>\n",
       "      <td>0.044451</td>\n",
       "      <td>-0.005671</td>\n",
       "      <td>-0.045599</td>\n",
       "      <td>-0.034194</td>\n",
       "      <td>-0.032356</td>\n",
       "      <td>-0.002592</td>\n",
       "      <td>0.002864</td>\n",
       "      <td>-0.025930</td>\n",
       "    </tr>\n",
       "    <tr>\n",
       "      <th>3</th>\n",
       "      <td>-0.089063</td>\n",
       "      <td>-0.044642</td>\n",
       "      <td>-0.011595</td>\n",
       "      <td>-0.036656</td>\n",
       "      <td>0.012191</td>\n",
       "      <td>0.024991</td>\n",
       "      <td>-0.036038</td>\n",
       "      <td>0.034309</td>\n",
       "      <td>0.022692</td>\n",
       "      <td>-0.009362</td>\n",
       "    </tr>\n",
       "    <tr>\n",
       "      <th>4</th>\n",
       "      <td>0.005383</td>\n",
       "      <td>-0.044642</td>\n",
       "      <td>-0.036385</td>\n",
       "      <td>0.021872</td>\n",
       "      <td>0.003935</td>\n",
       "      <td>0.015596</td>\n",
       "      <td>0.008142</td>\n",
       "      <td>-0.002592</td>\n",
       "      <td>-0.031991</td>\n",
       "      <td>-0.046641</td>\n",
       "    </tr>\n",
       "  </tbody>\n",
       "</table>\n",
       "</div>"
      ],
      "text/plain": [
       "        age    gender       bmi  pressure  cholesterol        s2        s3  \\\n",
       "0  0.038076  0.050680  0.061696  0.021872    -0.044223 -0.034821 -0.043401   \n",
       "1 -0.001882 -0.044642 -0.051474 -0.026328    -0.008449 -0.019163  0.074412   \n",
       "2  0.085299  0.050680  0.044451 -0.005671    -0.045599 -0.034194 -0.032356   \n",
       "3 -0.089063 -0.044642 -0.011595 -0.036656     0.012191  0.024991 -0.036038   \n",
       "4  0.005383 -0.044642 -0.036385  0.021872     0.003935  0.015596  0.008142   \n",
       "\n",
       "         s4        s5        s6  \n",
       "0 -0.002592  0.019908 -0.017646  \n",
       "1 -0.039493 -0.068330 -0.092204  \n",
       "2 -0.002592  0.002864 -0.025930  \n",
       "3  0.034309  0.022692 -0.009362  \n",
       "4 -0.002592 -0.031991 -0.046641  "
      ]
     },
     "execution_count": 4,
     "metadata": {},
     "output_type": "execute_result"
    }
   ],
   "source": [
    "df = pd.DataFrame(X)\n",
    "df.columns = ['age', 'gender', 'bmi', 'pressure', 'cholesterol', 's2', 's3', 's4', 's5', 's6']\n",
    "df.head(5)"
   ]
  },
  {
   "cell_type": "code",
   "execution_count": 5,
   "id": "f00b2446",
   "metadata": {},
   "outputs": [
    {
     "data": {
      "image/png": "[encoded data removed]",
      "text/plain": [
       "<Figure size 432x288 with 1 Axes>"
      ]
     },
     "metadata": {
      "needs_background": "light"
     },
     "output_type": "display_data"
    }
   ],
   "source": [
    "X_age = X[:, 0]\n",
    "X_sex = X[:, 1]\n",
    "X_bmi = X[:, 2]\n",
    "plt.scatter(X_bmi, y)\n",
    "plt.xlim(-0.2, 0.2)\n",
    "plt.ylim(0, 400)\n",
    "plt.grid()"
   ]
  },
  {
   "cell_type": "code",
   "execution_count": 6,
   "id": "16b20bdb",
   "metadata": {},
   "outputs": [
    {
     "name": "stdout",
     "output_type": "stream",
     "text": [
      "X_train shape: (422, 1), y_train shape (422, 1)\n"
     ]
    }
   ],
   "source": [
    "X = X_bmi\n",
    "y = y.reshape((-1, 1))\n",
    "\n",
    "\n",
    "X_train = X[:-20].reshape((-1, 1))\n",
    "X_test = X[-20:].reshape((-1, 1))\n",
    "y_train = y[:-20]\n",
    "y_test = y[-20:]\n",
    "\n",
    "\n",
    "print(f\"X_train shape: {X_train.shape}, y_train shape {y_train.shape}\")"
   ]
  },
  {
   "cell_type": "markdown",
   "id": "a35a12ea",
   "metadata": {},
   "source": [
    "# Scikit Learn LinearRegression"
   ]
  },
  {
   "cell_type": "code",
   "execution_count": 8,
   "id": "c1c3d71a",
   "metadata": {},
   "outputs": [
    {
     "data": {
      "image/png": "[encoded data removed]",
      "text/plain": [
       "<Figure size 432x288 with 1 Axes>"
      ]
     },
     "metadata": {
      "needs_background": "light"
     },
     "output_type": "display_data"
    }
   ],
   "source": [
    "from sklearn import linear_model\n",
    "reg = linear_model.LinearRegression()\n",
    "\n",
    "reg.fit(X_train, y_train)\n",
    "\n",
    "plt.scatter(X_bmi, y)\n",
    "plt.plot(X_train[:, 0], reg.predict(X_train), color=\"k\")\n",
    "plt.xlim(-0.2, 0.2)\n",
    "plt.ylim(0, 400)\n",
    "plt.grid()"
   ]
  },
  {
   "cell_type": "code",
   "execution_count": 9,
   "id": "bb935994",
   "metadata": {},
   "outputs": [
    {
     "data": {
      "text/plain": [
       "0.47257544798227147"
      ]
     },
     "execution_count": 9,
     "metadata": {},
     "output_type": "execute_result"
    }
   ],
   "source": [
    "r2_score(y_test, reg.predict(X_test))"
   ]
  },
  {
   "cell_type": "markdown",
   "id": "8fdbf6c8",
   "metadata": {},
   "source": [
    "# R2 Score"
   ]
  },
  {
   "cell_type": "code",
   "execution_count": 11,
   "id": "ab78d02c",
   "metadata": {},
   "outputs": [
    {
     "name": "stdout",
     "output_type": "stream",
     "text": [
      "variance y: 5085.431578947369\n",
      "variance y_predict: 2682.1814723431257\n"
     ]
    },
    {
     "data": {
      "text/plain": [
       "0.4725754479822716"
      ]
     },
     "execution_count": 11,
     "metadata": {},
     "output_type": "execute_result"
    }
   ],
   "source": [
    "# R2 = 1 - Variance(y - y_predict) / Variance(y)\n",
    "\n",
    "# Mean of y\n",
    "y_mean: np.ndarray = y_test.mean(axis=0)\n",
    "\n",
    "# Get the variance of y for each feature\n",
    "Vy: np.ndarray = np.sum((y_test - y_mean)**2) / (len(y_test) -1)\n",
    "print(f\"variance y: {Vy}\")\n",
    "\n",
    "# Get the variance of y_predict\n",
    "y_predict: np.ndarray = reg.predict(X_test)\n",
    "Vy_predict: np.ndarray = np.sum((y_predict - y_test)**2) / (len(y_test) -1)\n",
    "print(f\"variance y_predict: {Vy_predict}\")\n",
    "\n",
    "    \n",
    "# R2 score\n",
    "R2 = 1 - (Vy_predict / Vy)\n",
    "R2"
   ]
  },
  {
   "cell_type": "code",
   "execution_count": 12,
   "id": "371cbd65",
   "metadata": {},
   "outputs": [],
   "source": [
    "def compute_r2(y_true, y_predicted):\n",
    "    sse = sum((y_true - y_predicted)**2)\n",
    "    print(f\"sse: {sse}\")\n",
    "    tse = (len(y_true) - 1) * np.var(y_true, ddof=1)\n",
    "    print(f\"tse: {tse}\")\n",
    "    r2_score = 1 - (sse / tse)\n",
    "    return r2_score, sse, tse"
   ]
  },
  {
   "cell_type": "code",
   "execution_count": 13,
   "id": "ac2517df",
   "metadata": {},
   "outputs": [
    {
     "name": "stdout",
     "output_type": "stream",
     "text": [
      "sse: [50961.44797452]\n",
      "tse: 96623.20000000001\n"
     ]
    },
    {
     "data": {
      "text/plain": [
       "(array([0.47257545]), array([50961.44797452]), 96623.20000000001)"
      ]
     },
     "execution_count": 13,
     "metadata": {},
     "output_type": "execute_result"
    }
   ],
   "source": [
    "compute_r2(y_test, y_predict)"
   ]
  }
 ],
 "metadata": {
  "kernelspec": {
   "display_name": "Python 3 (ipykernel)",
   "language": "python",
   "name": "python3"
  },
  "language_info": {
   "codemirror_mode": {
    "name": "ipython",
    "version": 3
   },
   "file_extension": ".py",
   "mimetype": "text/x-python",
   "name": "python",
   "nbconvert_exporter": "python",
   "pygments_lexer": "ipython3",
   "version": "3.8.10"
  }
 },
 "nbformat": 4,
 "nbformat_minor": 5
}
