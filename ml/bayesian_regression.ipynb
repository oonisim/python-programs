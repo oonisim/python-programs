{
 "cells": [
  {
   "cell_type": "markdown",
   "metadata": {},
   "source": [
    "# Bayesian Linear Regression\n",
    "\n",
    "Analytical way of bayesian linear regression based on conjure gaussian prior and likelihood."
   ]
  },
  {
   "cell_type": "code",
   "execution_count": 33,
   "metadata": {},
   "outputs": [],
   "source": [
    "import math\n",
    "import numpy as np\n",
    "import matplotlib.pyplot as plt\n",
    "%matplotlib inline"
   ]
  },
  {
   "cell_type": "markdown",
   "metadata": {},
   "source": [
    "# Linear Regresion\n",
    "\n",
    "\n",
    "Target distribution can be approximated with a linear combination of non-linear basis functions W<sup>T</sup> $\\cdot$ $\\Phi$ where PHI is the $\\Phi$ Matrix.\n",
    "\n",
    "<cite>Pattern Recognition and Machine Learning by Christopher Bishop</cite><br>\n",
    "<img style=\"float: left;\" src=\"./images/bayesian/PRML.LinearBasisFunctionModel.png\" width=\"600\">"
   ]
  },
  {
   "cell_type": "markdown",
   "metadata": {},
   "source": [
    "## Basis Function\n",
    "\n",
    "Non linear basis function can be:\n",
    "\n",
    "* Polynomial\n",
    "* Gaussian\n",
    "* Sigmoid\n",
    "* Tanh\n",
    "* Fourier\n",
    "\n",
    "Using gaussian both for basis function and the prior, the posterior is also gaussian due to its conjure nature.\n",
    "\n",
    "<cite>Pattern Recognition and Machine Learning by Christopher Bishop</cite><br>\n",
    "<img style=\"float: left;\" src=\"./images/bayesian/PRML.BasisFunction.png\" width=\"600\">"
   ]
  },
  {
   "cell_type": "code",
   "execution_count": 34,
   "metadata": {},
   "outputs": [],
   "source": [
    "# --------------------------------------------------------------------------------\n",
    "# Gaussian basis function\n",
    "# --------------------------------------------------------------------------------\n",
    "def gaussian(mean, sigma):\n",
    "    \"\"\"\n",
    "    Args:\n",
    "        mean:  \n",
    "        sigma: \n",
    "    \"\"\"\n",
    "    def _gaussian(x):\n",
    "        return np.exp(-0.5 * ((x - mean) / sigma) ** 2)\n",
    "    return _gaussian"
   ]
  },
  {
   "cell_type": "markdown",
   "metadata": {},
   "source": [
    "## Design Matrix\n",
    "\n",
    "<cite>Pattern Recognition and Machine Learning by Christopher Bishop</cite><br>\n",
    "<img style=\"float: left;\" src=\"./images/bayesian/PRML.DesignMatrix.png\" width=\"500\">\n"
   ]
  },
  {
   "cell_type": "code",
   "execution_count": 35,
   "metadata": {},
   "outputs": [],
   "source": [
    "# --------------------------------------------------------------------------------\n",
    "# Design matrix\n",
    "# --------------------------------------------------------------------------------\n",
    "def phi(f, x): \n",
    "    bias = np.array([1])  # bias parameter(i = 0)\n",
    "    # bias+basis\n",
    "    return np.append(bias, f(x))"
   ]
  },
  {
   "cell_type": "markdown",
   "metadata": {},
   "source": [
    "# Bayesian treatment\n",
    "\n",
    "Give w as the probabilistic distribution based on the prior knowledge and applying bayesian updates from the observations. The more observations are acquired, more confidence will be given, if the observed data is correct.\n",
    "\n",
    "To be able to analytically induced the posterior, certain conditions need to be met, especially being able to integrate the marginal likelihood of the posterior. By limiting distributions to certain functions e.g. Beta, Gaussian that satisfy confjure nature, posterior can be analytically calculated.\n",
    "\n",
    "<cite>Pattern Recognition and Machine Learning by Christopher Bishop</cite><br>\n",
    "<img style=\"float: left;\" src=\"./images/bayesian/PRML.BayesianRegression.png\" width=\"500\">\n"
   ]
  },
  {
   "cell_type": "markdown",
   "metadata": {},
   "source": [
    "# Hyper parameters\n",
    "\n",
    "## Prior variance\n",
    "$\\alpha$ is a hyper parameter of the prior. The larger $\\alpha$ gives less variance in the prior and the model parameter w will be regularized preventing over-fitting. $\\alpha$ &rarr; 0 gives a uniform prior distribution where any w has the same probability which is the same with the non-bayesian linear regression (To be verified).\n",
    "\n",
    "## Precision \n",
    "\n",
    "$\\beta$ is a hyper parameter of the posterior. It allows the deviation from the W<sup>T</sup> $\\cdot$ $\\Phi$ (x) where $\\beta$ > 1. If the observations includes larger noises, larger deviations need to be accommodated (to be verified).\n"
   ]
  },
  {
   "cell_type": "code",
   "execution_count": 36,
   "metadata": {},
   "outputs": [],
   "source": [
    "# --------------------------------------------------------------------------------\n",
    "# Hyper parameters\n",
    "# --------------------------------------------------------------------------------\n",
    "#alpha = 0.1 \n",
    "#beta = 9.0 \n",
    "alpha = 0.9 # Larger alpha gives smaller w preventing overfitting (0 -> same with linear regression)\n",
    "beta = 2  # Larger beta allows more deviation"
   ]
  },
  {
   "cell_type": "markdown",
   "metadata": {},
   "source": [
    "# Observations"
   ]
  },
  {
   "cell_type": "code",
   "execution_count": 37,
   "metadata": {},
   "outputs": [],
   "source": [
    "# --------------------------------------------------------------------------------\n",
    "# Data generation utility\n",
    "# --------------------------------------------------------------------------------\n",
    "from numpy.random import rand\n",
    "def uniform_variable_generator(samples):\n",
    "    _random = rand(samples)\n",
    "    return _random\n",
    "\n",
    "def noise_generator(samples, mu=0.0, sigma=1):\n",
    "    noise = np.random.normal(mu, sigma, samples)\n",
    "    return noise\n",
    "\n",
    "def sigmoid(x):\n",
    "  return 1 / (1 + np.exp(-x))\n",
    "\n",
    "def generator_t_function(x):\n",
    "    return np.sin(x)\n",
    "    #return 30 * sigmoid(x)\n",
    "\n",
    "def generator_X_function(x):\n",
    "    return 2 * np.pi * x\n",
    "\n",
    "# --------------------------------------------------------------------------------\n",
    "# Observations\n",
    "# --------------------------------------------------------------------------------\n",
    "#X = np.array([0.02, 0.12, 0.19, 0.27, 0.42, 0.51, 0.64, 0.84, 0.88, 0.99])\n",
    "#t = np.array([0.05, 0.87, 0.94, 0.92, 0.54, -0.11, -0.78, -0.79, -0.89, -0.04])\n",
    "NUM_SAMPLES = 300\n",
    "\n",
    "#X = np.array([0.02, 0.12, 0.19, 0.27, 0.42, 0.51, 0.64, 0.84, 0.88, 0.99])\n",
    "#t = np.array([0.05, 0.87, 0.94, 0.92, 0.54, -0.11, -0.78, -0.79, -0.89, -0.04])\n",
    "X = generator_X_function(uniform_variable_generator(NUM_SAMPLES))\n",
    "t = generator_t_function(X) + noise_generator(NUM_SAMPLES, mu=0, sigma=0.2)\n",
    "\n",
    "MAX_X = max(X)\n",
    "NUM_X = len(X)\n",
    "MAX_T = max(t)\n",
    "NUM_T = len(t)\n",
    "\n",
    "# --------------------------------------------------------------------------------\n",
    "# mean of gaussian basis function (11 dimension w1, w2, ... w11)\n",
    "# --------------------------------------------------------------------------------\n",
    "sigma = 0.1 * MAX_X\n",
    "mean = np.arange(0, MAX_X + sigma, sigma)  "
   ]
  },
  {
   "cell_type": "markdown",
   "metadata": {},
   "source": [
    "# Execution"
   ]
  },
  {
   "cell_type": "code",
   "execution_count": 38,
   "metadata": {},
   "outputs": [],
   "source": [
    "# --------------------------------------------------------------------------------\n",
    "# Bayesian regression\n",
    "# --------------------------------------------------------------------------------\n",
    "f = gaussian(mean, sigma)\n",
    "PHI = np.array([phi(f, x) for x in X])\n",
    "\n",
    "Sigma_N = np.linalg.inv(alpha * np.identity(PHI.shape[1]) + beta * np.dot(PHI.T, PHI))\n",
    "mean_N = beta * np.dot(Sigma_N, np.dot(PHI.T, t))\n",
    "\n",
    "#xlist = np.arange(0, MAX_X, 0.01) \n",
    "#plt.plot(X, t, 'o', color='r') \n",
    "\n",
    "#plt.title(\"Bayesian regression\")\n",
    "#plt.plot(xlist, [np.dot(mean_N, phi(f, x)) for x in xlist], 'b') \n",
    "#plt.show()"
   ]
  },
  {
   "cell_type": "markdown",
   "metadata": {},
   "source": [
    "## Predictive distribution"
   ]
  },
  {
   "cell_type": "code",
   "execution_count": 39,
   "metadata": {},
   "outputs": [
    {
     "data": {
      "image/png": "[encoded data removed]",
      "text/plain": [
       "<Figure size 432x288 with 1 Axes>"
      ]
     },
     "metadata": {},
     "output_type": "display_data"
    }
   ],
   "source": [
    "# --------------------------------------------------------------------------------\n",
    "# Predictive Distribution\n",
    "# --------------------------------------------------------------------------------\n",
    "def normal_dist_pdf(x, mean, var): \n",
    "    return np.exp(-(x-mean) ** 2 / (2 * var)) / np.sqrt(2 * np.pi * var)\n",
    "\n",
    "def quad_form(A, x):\n",
    "    return np.dot(x, np.dot(A, x))\n",
    "\n",
    "xlist = np.arange(0, MAX_X, 0.01)\n",
    "\n",
    "#tlist = np.arange(-1.5 * MAX_T, 1.5 * MAX_T, 0.01)\n",
    "tlist = np.arange(\n",
    "    np.mean(t) - (np.max(t)-np.min(t)), \n",
    "    np.mean(t) + (np.max(t)-np.min(t)), \n",
    "    0.01\n",
    ")\n",
    "z = np.array([\n",
    "    normal_dist_pdf(tlist, np.dot(mean_N, phi(f, x)),\n",
    "    1 / beta + quad_form(Sigma_N, phi(f, x))) for x in xlist\n",
    "]).T\n",
    "\n",
    "plt.xlim(0, MAX_X)\n",
    "plt.ylim(np.min(t), MAX_T)\n",
    "plt.plot(X, t, 'go')\n",
    "\n",
    "plt.title(\"Predictive distribution\")\n",
    "plt.contourf(xlist, tlist, z, 5, cmap=plt.cm.coolwarm)\n",
    "plt.plot(xlist, [np.dot(mean_N, phi(f, x)) for x in xlist], 'r')\n",
    "plt.show()"
   ]
  },
  {
   "cell_type": "markdown",
   "metadata": {},
   "source": [
    "# Linear regression for comparision"
   ]
  },
  {
   "cell_type": "code",
   "execution_count": 40,
   "metadata": {},
   "outputs": [
    {
     "data": {
      "image/png": "[encoded data removed]",
      "text/plain": [
       "<Figure size 432x288 with 1 Axes>"
      ]
     },
     "metadata": {},
     "output_type": "display_data"
    }
   ],
   "source": [
    "# --------------------------------------------------------------------------------\n",
    "# Linear regression\n",
    "# --------------------------------------------------------------------------------\n",
    "# w for linear regression parameter\n",
    "# w = np.linalg.solve(np.dot(PHI.T, PHI), np.dot(PHI.T, t))\n",
    "# --------------------------------------------------------------------------------\n",
    "l = 0.01\n",
    "#l = 0.1\n",
    "regularization = np.identity(PHI.shape[1])\n",
    "w = np.linalg.solve(\n",
    "    np.dot(PHI.T, PHI) + (l * regularization), \n",
    "    np.dot(PHI.T, t)\n",
    ")\n",
    "\n",
    "plt.xlim(0, MAX_X)\n",
    "plt.ylim(np.min(t), MAX_T)\n",
    "\n",
    "xlist = np.arange(0, MAX_X, 0.01) \n",
    "plt.plot(X, t, 'o', color='r') \n",
    "\n",
    "plt.title(\"Linear regression\")\n",
    "plt.plot(xlist, [np.dot(w, phi(f, x)) for x in xlist], 'g') \n",
    "plt.show()"
   ]
  }
 ],
 "metadata": {
  "kernelspec": {
   "display_name": "conda_python3",
   "language": "python",
   "name": "conda_python3"
  },
  "language_info": {
   "codemirror_mode": {
    "name": "ipython",
    "version": 3
   },
   "file_extension": ".py",
   "mimetype": "text/x-python",
   "name": "python",
   "nbconvert_exporter": "python",
   "pygments_lexer": "ipython3",
   "version": "3.6.5"
  }
 },
 "nbformat": 4,
 "nbformat_minor": 2
}