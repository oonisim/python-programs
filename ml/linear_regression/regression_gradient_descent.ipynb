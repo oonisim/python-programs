{
 "cells": [
  {
   "cell_type": "code",
   "execution_count": 1,
   "id": "52c204de",
   "metadata": {},
   "outputs": [],
   "source": [
    "import gc\n",
    "import numpy as np\n",
    "import matplotlib.pyplot as plt\n",
    "from sklearn import datasets, linear_model\n",
    "from sklearn.metrics import mean_squared_error, r2_score"
   ]
  },
  {
   "cell_type": "code",
   "execution_count": 2,
   "id": "f5fb34f2",
   "metadata": {},
   "outputs": [],
   "source": [
    "from simple_linear_regr import (\n",
    "    TYPE_FLOAT,\n",
    "    TYPE_INT,\n",
    "    add_bias,\n",
    "    SimpleLinearRegression\n",
    ")\n",
    "from simple_linear_regr_utils import (\n",
    "    generate_data, \n",
    "    evaluate\n",
    ")\n",
    "from benchmark import (\n",
    "    benchmark\n",
    ")"
   ]
  },
  {
   "cell_type": "markdown",
   "id": "d2ca341e",
   "metadata": {},
   "source": [
    "# Data"
   ]
  },
  {
   "cell_type": "code",
   "execution_count": 3,
   "id": "13dd1107",
   "metadata": {},
   "outputs": [
    {
     "name": "stdout",
     "output_type": "stream",
     "text": [
      "# Training Samples: 422; # Test samples: 20;\n",
      "X_train.shape (422, 2) y_train.shape (422, 1)\n"
     ]
    }
   ],
   "source": [
    "X_train, y_train, X_test, y_test = generate_data()\n",
    "\n",
    "X_train = add_bias(X_train)\n",
    "y_train = y_train.astype(TYPE_FLOAT)\n",
    "y_test = y_test.astype(TYPE_FLOAT)\n",
    "\n",
    "print(f\"X_train.shape {X_train.shape} y_train.shape {y_train.shape}\")"
   ]
  },
  {
   "cell_type": "markdown",
   "id": "f67639b8",
   "metadata": {},
   "source": [
    "# Gradient Descent Formula\n",
    "\n",
    "To avoid two vectorized calculation for ```W``` and ```b```, integrate ```b``` into ```W```.\n",
    "\n",
    "NOTE: Image link is broken in Github private repo. Please run as jupyter notebook or open the image from the image link.\n",
    "<img src=\"./gradient_descent.jpg\" align=\"left\"/>"
   ]
  },
  {
   "cell_type": "markdown",
   "id": "448911e0",
   "metadata": {},
   "source": [
    "## Integrate intercept (bias) into slope coefficients\n",
    "\n",
    "NOTE: Image link is broken in Github private repo.\n",
    "<img src=\"./intersect_to_slope.jpg\" align=\"left\" width=500/>"
   ]
  },
  {
   "cell_type": "markdown",
   "id": "54d65aeb",
   "metadata": {},
   "source": [
    "## Deriving $ \\frac {dL}{dW} = X^T @ \\frac {dL}{d\\overline{Y}} $\n",
    "\n",
    "NOTE: Image link is broken in Github private repo.\n",
    "<img src=\"./nn_back_propagation_dL_dWT.png\" align=\"left\"/>"
   ]
  },
  {
   "cell_type": "markdown",
   "id": "4d2263ac",
   "metadata": {},
   "source": [
    "# Training"
   ]
  },
  {
   "cell_type": "code",
   "execution_count": 4,
   "id": "c32c33bc",
   "metadata": {},
   "outputs": [
    {
     "name": "stdout",
     "output_type": "stream",
     "text": [
      "Initial Loss: -154.10635188930652\n",
      "Iteration 0, Loss: -138.6956127184852\n",
      "Iteration 100, Loss: -0.0026991959235704854\n",
      "Iteration 200, Loss: 0.0009626198131336139\n",
      "Iteration 300, Loss: 0.0009411580524316676\n",
      "Iteration 400, Loss: 0.0009200812630929533\n",
      "Iteration 500, Loss: 0.0008994764760674734\n",
      "Iteration 600, Loss: 0.0008793331234784318\n",
      "Iteration 700, Loss: 0.0008596408718335447\n",
      "Iteration 800, Loss: 0.0008403896189177473\n",
      "Iteration 900, Loss: 0.0008215694887683256\n",
      "Iteration 1000, Loss: 0.0008031708265328064\n",
      "Iteration 1100, Loss: 0.0007851841937012161\n",
      "Iteration 1200, Loss: 0.0007676003630376904\n",
      "Iteration 1300, Loss: 0.0007504103140250074\n",
      "Iteration 1400, Loss: 0.0007336052280448868\n",
      "Iteration 1500, Loss: 0.0007171764840840922\n",
      "Iteration 1600, Loss: 0.000701115654063944\n",
      "Iteration 1700, Loss: 0.0006854144988386324\n",
      "Iteration 1800, Loss: 0.0006700649635695832\n",
      "Iteration 1900, Loss: 0.0006550591739058476\n",
      "Iteration 2000, Loss: 0.0006403894318287584\n",
      "Iteration 2100, Loss: 0.000626048211759489\n",
      "Iteration 2200, Loss: 0.000612028156602662\n",
      "Iteration 2300, Loss: 0.0005983220739120831\n",
      "Iteration 2400, Loss: 0.0005849229325392002\n",
      "Iteration 2500, Loss: 0.0005718238586331914\n",
      "Iteration 2600, Loss: 0.0005590181322983057\n",
      "Iteration 2700, Loss: 0.000546499184228999\n",
      "Iteration 2800, Loss: 0.0005342605920484189\n",
      "Iteration 2900, Loss: 0.0005222960774382557\n",
      "Iteration 3000, Loss: 0.0005105995025012078\n",
      "Iteration 3100, Loss: 0.000499164866879287\n",
      "Iteration 3200, Loss: 0.0004879863044418009\n",
      "Iteration 3300, Loss: 0.00047705808073761347\n",
      "Iteration 3400, Loss: 0.000466374589427776\n",
      "Iteration 3500, Loss: 0.00045593034986968206\n",
      "Iteration 3600, Loss: 0.0004457200041652065\n",
      "Iteration 3700, Loss: 0.00043573831434273735\n",
      "Iteration 3800, Loss: 0.0004259801597963353\n",
      "Iteration 3900, Loss: 0.0004164405345012945\n",
      "Iteration 4000, Loss: 0.0004071145446311597\n",
      "Iteration 4100, Loss: 0.00039799740592916244\n",
      "Iteration 4200, Loss: 0.00038908444122043306\n",
      "Iteration 4300, Loss: 0.00038037107823751803\n",
      "Iteration 4400, Loss: 0.0003718528468352744\n",
      "Iteration 4500, Loss: 0.0003635253772575897\n",
      "Iteration 4600, Loss: 0.0003553843974846149\n",
      "Iteration 4700, Loss: 0.0003474257310818185\n",
      "Iteration 4800, Loss: 0.0003396452952100226\n",
      "Iteration 4900, Loss: 0.0003320390986383259\n",
      "Iteration 5000, Loss: 0.00032460323921790213\n",
      "Iteration 5100, Loss: 0.0003173339023831989\n",
      "Iteration 5200, Loss: 0.00031022735892771713\n",
      "Iteration 5300, Loss: 0.0003032799631608185\n",
      "Iteration 5400, Loss: 0.00029648815102989445\n",
      "Iteration 5500, Loss: 0.0002898484383957456\n",
      "Iteration 5600, Loss: 0.0002833574189473609\n",
      "Iteration 5700, Loss: 0.00027701176284788964\n",
      "Iteration 5800, Loss: 0.0002708082147497848\n",
      "Iteration 5900, Loss: 0.0002647435921847574\n",
      "Iteration 6000, Loss: 0.0002588147839679422\n",
      "Iteration 6100, Loss: 0.000253018748612055\n",
      "Iteration 6200, Loss: 0.00024735251277618886\n",
      "Iteration 6300, Loss: 0.00024181316960136812\n",
      "Iteration 6400, Loss: 0.00023639787743445773\n",
      "Iteration 6500, Loss: 0.00023110385816860202\n",
      "Iteration 6600, Loss: 0.00022592839599822057\n",
      "Iteration 6700, Loss: 0.00022086883586647232\n",
      "Iteration 6800, Loss: 0.00021592258215763493\n",
      "Iteration 6900, Loss: 0.0002110870975007284\n",
      "Iteration 7000, Loss: 0.00020635990122297443\n",
      "Iteration 7100, Loss: 0.0002017385683292794\n",
      "Iteration 7200, Loss: 0.00019722072798011858\n",
      "Iteration 7300, Loss: 0.0001928040625709393\n",
      "Iteration 7400, Loss: 0.0001884863062899811\n",
      "Iteration 7500, Loss: 0.00018426524409509426\n",
      "Iteration 7600, Loss: 0.00018013871071453913\n",
      "Iteration 7700, Loss: 0.0001761045889936419\n",
      "Iteration 7800, Loss: 0.00017216080953397217\n",
      "Iteration 7900, Loss: 0.00016830534920386775\n",
      "Iteration 8000, Loss: 0.0001645362300859432\n",
      "Iteration 8100, Loss: 0.00016085151862466063\n",
      "Iteration 8200, Loss: 0.00015724932455651874\n",
      "Iteration 8300, Loss: 0.00015372779991484897\n",
      "Iteration 8400, Loss: 0.0001502851381181003\n",
      "Iteration 8500, Loss: 0.0001469195731562678\n",
      "Iteration 8600, Loss: 0.0001436293784060627\n",
      "Iteration 8700, Loss: 0.00014041286608823533\n",
      "Iteration 8800, Loss: 0.00013726838596839208\n",
      "Iteration 8900, Loss: 0.00013419432505212825\n",
      "Iteration 9000, Loss: 0.00013118910626364055\n",
      "Iteration 9100, Loss: 0.00012825118795700696\n",
      "Iteration 9200, Loss: 0.00012537906292720002\n",
      "Iteration 9300, Loss: 0.0001225712577830329\n",
      "Iteration 9400, Loss: 0.00011982633212159755\n",
      "Iteration 9500, Loss: 0.00011714287779396315\n",
      "Iteration 9600, Loss: 0.00011451951810403926\n",
      "Iteration 9700, Loss: 0.00011195490739357439\n",
      "Iteration 9800, Loss: 0.0001094477299201646\n",
      "Iteration 9900, Loss: 0.00010699669950464674\n",
      "Iteration 10000, Loss: 0.00010460055878458441\n",
      "Iteration 10100, Loss: 0.0001022580784442173\n",
      "Iteration 10200, Loss: 9.996805691225852e-05\n",
      "Iteration 10300, Loss: 9.772931929319384e-05\n",
      "Iteration 10400, Loss: 9.55407171370215e-05\n",
      "Iteration 10500, Loss: 9.340112773115194e-05\n",
      "Iteration 10600, Loss: 9.130945341562224e-05\n",
      "Iteration 10700, Loss: 8.926462116209954e-05\n",
      "Iteration 10800, Loss: 8.726558194305234e-05\n",
      "Iteration 10900, Loss: 8.531131030742323e-05\n",
      "Iteration 11000, Loss: 8.34008036671996e-05\n",
      "Iteration 11100, Loss: 8.153308185776531e-05\n",
      "Iteration 11200, Loss: 7.970718686989287e-05\n",
      "Iteration 11300, Loss: 7.79221818989484e-05\n",
      "Iteration 11400, Loss: 7.617715130781022e-05\n",
      "Iteration 11500, Loss: 7.447119979819838e-05\n",
      "Iteration 11600, Loss: 7.280345237425934e-05\n",
      "Iteration 11700, Loss: 7.11730532760857e-05\n",
      "Iteration 11800, Loss: 6.957916622107874e-05\n",
      "Iteration 11900, Loss: 6.802097352864855e-05\n",
      "Iteration 12000, Loss: 6.649767584243627e-05\n",
      "Iteration 12100, Loss: 6.500849166091172e-05\n",
      "Iteration 12200, Loss: 6.355265706448066e-05\n",
      "Iteration 12300, Loss: 6.21294252050042e-05\n",
      "Iteration 12400, Loss: 6.073806596162967e-05\n",
      "Iteration 12500, Loss: 5.9377865526677454e-05\n",
      "Iteration 12600, Loss: 5.804812616583277e-05\n",
      "Iteration 12700, Loss: 5.674816568101981e-05\n",
      "Iteration 12800, Loss: 5.547731722965743e-05\n",
      "Iteration 12900, Loss: 5.4234928793084336e-05\n",
      "Iteration 13000, Loss: 5.302036309129399e-05\n",
      "Iteration 13100, Loss: 5.1832997001177716e-05\n",
      "Iteration 13200, Loss: 5.067222144217176e-05\n",
      "Iteration 13300, Loss: 4.953744084823519e-05\n",
      "Iteration 13400, Loss: 4.842807321558951e-05\n",
      "Iteration 13500, Loss: 4.7343549284040165e-05\n",
      "Iteration 13600, Loss: 4.6283312724604286e-05\n",
      "Iteration 13700, Loss: 4.524681972029043e-05\n",
      "Iteration 13800, Loss: 4.423353848981293e-05\n",
      "Iteration 13900, Loss: 4.324294921675964e-05\n",
      "Iteration 14000, Loss: 4.227454366501071e-05\n",
      "Iteration 14100, Loss: 4.132782518251332e-05\n",
      "Iteration 14200, Loss: 4.0402307944109594e-05\n",
      "Iteration 14300, Loss: 3.949751728593576e-05\n",
      "Iteration 14400, Loss: 3.8612988958242056e-05\n",
      "Iteration 14500, Loss: 3.7748269236415055e-05\n",
      "Iteration 14600, Loss: 3.6902914491765415e-05\n",
      "Iteration 14700, Loss: 3.607649112868927e-05\n",
      "Iteration 14800, Loss: 3.5268575085956044e-05\n",
      "Iteration 14900, Loss: 3.447875191064931e-05\n",
      "Iteration 15000, Loss: 3.3706616465067896e-05\n"
     ]
    }
   ],
   "source": [
    "model = SimpleLinearRegression()\n",
    "model.fit(X_train,y_train)"
   ]
  },
  {
   "cell_type": "markdown",
   "id": "be8478dd",
   "metadata": {},
   "source": [
    "# Evaluation"
   ]
  },
  {
   "cell_type": "code",
   "execution_count": 5,
   "id": "99b7cfee",
   "metadata": {},
   "outputs": [
    {
     "name": "stdout",
     "output_type": "stream",
     "text": [
      "Slope: [[152.93374561 906.83603515]]\n",
      "Mean squared error: 2585.94\n",
      "Coefficient of determination: 0.46\n"
     ]
    },
    {
     "data": {
      "image/png": "[encoded data removed]",
      "text/plain": [
       "<Figure size 432x288 with 1 Axes>"
      ]
     },
     "metadata": {},
     "output_type": "display_data"
    },
    {
     "name": "stdout",
     "output_type": "stream",
     "text": [
      "****** Success ******\n"
     ]
    },
    {
     "data": {
      "text/plain": [
       "True"
      ]
     },
     "execution_count": 5,
     "metadata": {},
     "output_type": "execute_result"
    }
   ],
   "source": [
    "predicted = model.predict(X_test)\n",
    "evaluate(model, X_test, y_test, predicted)"
   ]
  },
  {
   "cell_type": "markdown",
   "id": "f295e9f8",
   "metadata": {},
   "source": [
    "# Save model"
   ]
  },
  {
   "cell_type": "code",
   "execution_count": 7,
   "id": "8eb24d63",
   "metadata": {},
   "outputs": [],
   "source": [
    "!mkdir -p ../../model"
   ]
  },
  {
   "cell_type": "code",
   "execution_count": 8,
   "id": "2aa44527",
   "metadata": {},
   "outputs": [],
   "source": [
    "model.save(\"../../model/model.npy\")"
   ]
  },
  {
   "cell_type": "markdown",
   "id": "c1cb397c",
   "metadata": {},
   "source": [
    "# Load model & Re-evaluate"
   ]
  },
  {
   "cell_type": "code",
   "execution_count": 9,
   "id": "7f220105",
   "metadata": {},
   "outputs": [
    {
     "name": "stdout",
     "output_type": "stream",
     "text": [
      "Slope: [[152.93374561 906.83603515]]\n",
      "Mean squared error: 2585.94\n",
      "Coefficient of determination: 0.46\n"
     ]
    },
    {
     "data": {
      "image/png": "[encoded data removed]",
      "text/plain": [
       "<Figure size 432x288 with 1 Axes>"
      ]
     },
     "metadata": {},
     "output_type": "display_data"
    },
    {
     "name": "stdout",
     "output_type": "stream",
     "text": [
      "****** Success ******\n"
     ]
    },
    {
     "data": {
      "text/plain": [
       "True"
      ]
     },
     "execution_count": 9,
     "metadata": {},
     "output_type": "execute_result"
    }
   ],
   "source": [
    "del model\n",
    "gc.collect()\n",
    "\n",
    "model = SimpleLinearRegression()\n",
    "model.load(\"../../model/model.npy\")\n",
    "evaluate(model, X_test, y_test, predicted)"
   ]
  },
  {
   "cell_type": "markdown",
   "id": "98d635e5",
   "metadata": {},
   "source": [
    "---\n",
    "# Bench Mark"
   ]
  },
  {
   "cell_type": "code",
   "execution_count": 10,
   "id": "b9ecdb15",
   "metadata": {
    "scrolled": true
   },
   "outputs": [
    {
     "name": "stdout",
     "output_type": "stream",
     "text": [
      "Coefficients: \n",
      " [938.23786125]\n",
      "Mean squared error: 2548.07\n",
      "Coefficient of determination: 0.47\n"
     ]
    },
    {
     "data": {
      "image/png": "[encoded data removed]",
      "text/plain": [
       "<Figure size 432x288 with 1 Axes>"
      ]
     },
     "metadata": {},
     "output_type": "display_data"
    },
    {
     "data": {
      "text/plain": [
       "0.47257544798227147"
      ]
     },
     "execution_count": 10,
     "metadata": {},
     "output_type": "execute_result"
    }
   ],
   "source": [
    "benchmark()"
   ]
  }
 ],
 "metadata": {
  "kernelspec": {
   "display_name": "Python 3 (ipykernel)",
   "language": "python",
   "name": "python3"
  },
  "language_info": {
   "codemirror_mode": {
    "name": "ipython",
    "version": 3
   },
   "file_extension": ".py",
   "mimetype": "text/x-python",
   "name": "python",
   "nbconvert_exporter": "python",
   "pygments_lexer": "ipython3",
   "version": "3.8.10"
  }
 },
 "nbformat": 4,
 "nbformat_minor": 5
}
