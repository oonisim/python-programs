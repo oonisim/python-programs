{
 "cells": [
  {
   "cell_type": "code",
   "execution_count": 1,
   "id": "52c204de",
   "metadata": {},
   "outputs": [],
   "source": [
    "import gc\n",
    "import numpy as np\n",
    "import matplotlib.pyplot as plt\n",
    "from sklearn import datasets, linear_model\n",
    "from sklearn.metrics import mean_squared_error, r2_score"
   ]
  },
  {
   "cell_type": "code",
   "execution_count": 2,
   "id": "f5fb34f2",
   "metadata": {},
   "outputs": [],
   "source": [
    "from simple_linear_regr import (\n",
    "    TYPE_FLOAT,\n",
    "    TYPE_INT,\n",
    "    add_bias,\n",
    "    SimpleLinearRegression\n",
    ")\n",
    "from simple_linear_regr_utils import (\n",
    "    generate_data, \n",
    "    evaluate\n",
    ")\n",
    "from benchmark import (\n",
    "    benchmark\n",
    ")"
   ]
  },
  {
   "cell_type": "markdown",
   "id": "d2ca341e",
   "metadata": {},
   "source": [
    "# Data"
   ]
  },
  {
   "cell_type": "code",
   "execution_count": 3,
   "id": "13dd1107",
   "metadata": {},
   "outputs": [
    {
     "name": "stdout",
     "output_type": "stream",
     "text": [
      "# Training Samples: 422; # Test samples: 20;\n",
      "X_train.shape (422, 2) y_train.shape (422, 1)\n"
     ]
    }
   ],
   "source": [
    "X_train, y_train, X_test, y_test = generate_data()\n",
    "\n",
    "X_train = add_bias(X_train)\n",
    "y_train = y_train.astype(TYPE_FLOAT)\n",
    "y_test = y_test.astype(TYPE_FLOAT)\n",
    "\n",
    "print(f\"X_train.shape {X_train.shape} y_train.shape {y_train.shape}\")"
   ]
  },
  {
   "cell_type": "markdown",
   "id": "f67639b8",
   "metadata": {},
   "source": [
    "# Gradient Descent Formula\n",
    "\n",
    "To avoid two vectorized calculation for ```W``` and ```b```, integrate ```b``` into ```W```.\n",
    "\n",
    "NOTE: Image link is broken in Github private repo. Please run as jupyter notebook or open the image from the image link.\n",
    "<img src=\"./gradient_descent.jpg\" align=\"left\"/>"
   ]
  },
  {
   "cell_type": "markdown",
   "id": "448911e0",
   "metadata": {},
   "source": [
    "## Integrate intercept (bias) into slope coefficients\n",
    "\n",
    "NOTE: Image link is broken in Github private repo.\n",
    "<img src=\"./intersect_to_slope.jpg\" align=\"left\" width=500/>"
   ]
  },
  {
   "cell_type": "markdown",
   "id": "54d65aeb",
   "metadata": {},
   "source": [
    "## Deriving $ \\frac {dL}{dW} = X^T @ \\frac {dL}{d\\overline{Y}} $\n",
    "\n",
    "NOTE: Image link is broken in Github private repo.\n",
    "<img src=\"./nn_back_propagation_dL_dWT.png\" align=\"left\"/>"
   ]
  },
  {
   "cell_type": "markdown",
   "id": "4d2263ac",
   "metadata": {},
   "source": [
    "# Training"
   ]
  },
  {
   "cell_type": "code",
   "execution_count": 4,
   "id": "c32c33bc",
   "metadata": {},
   "outputs": [
    {
     "name": "stdout",
     "output_type": "stream",
     "text": [
      "Initial Loss: -153.89375637065567\n",
      "Iteration 0, Loss: -138.5042769431284\n",
      "Iteration 100, Loss: -0.002695942302910481\n",
      "Iteration 200, Loss: 0.0009608323357563897\n",
      "Iteration 300, Loss: 0.0009394104727822317\n",
      "Iteration 400, Loss: 0.0009183728196928698\n",
      "Iteration 500, Loss: 0.0008978062924263064\n",
      "Iteration 600, Loss: 0.0008777003428610541\n",
      "Iteration 700, Loss: 0.0008580446565300548\n",
      "Iteration 800, Loss: 0.0008388291501293388\n",
      "Iteration 900, Loss: 0.0008200439658847536\n",
      "Iteration 1000, Loss: 0.0008016794670573368\n",
      "Iteration 1100, Loss: 0.0007837262325014471\n",
      "Iteration 1200, Loss: 0.0007661750521834598\n",
      "Iteration 1300, Loss: 0.0007490169223567378\n",
      "Iteration 1400, Loss: 0.0007322430406770941\n",
      "Iteration 1500, Loss: 0.0007158448023201203\n",
      "Iteration 1600, Loss: 0.000699813794694748\n",
      "Iteration 1700, Loss: 0.0006841417939513761\n",
      "Iteration 1800, Loss: 0.0006688207602958407\n",
      "Iteration 1900, Loss: 0.0006538428340174818\n",
      "Iteration 2000, Loss: 0.0006392003313400174\n",
      "Iteration 2100, Loss: 0.0006248857406356834\n",
      "Iteration 2200, Loss: 0.000610891718383133\n",
      "Iteration 2300, Loss: 0.0005972110857639379\n",
      "Iteration 2400, Loss: 0.0005838368244184267\n",
      "Iteration 2500, Loss: 0.0005707620733792496\n",
      "Iteration 2600, Loss: 0.00055798012526731\n",
      "Iteration 2700, Loss: 0.0005454844228456324\n",
      "Iteration 2800, Loss: 0.0005332685557331018\n",
      "Iteration 2900, Loss: 0.0005213262573500188\n",
      "Iteration 3000, Loss: 0.0005096514010523023\n",
      "Iteration 3100, Loss: 0.0004982379976579132\n",
      "Iteration 3200, Loss: 0.0004870801921135204\n",
      "Iteration 3300, Loss: 0.00047617226032814486\n",
      "Iteration 3400, Loss: 0.00046550860657124105\n",
      "Iteration 3500, Loss: 0.0004550837603063407\n",
      "Iteration 3600, Loss: 0.00044489237360423317\n",
      "Iteration 3700, Loss: 0.0004349292181804465\n",
      "Iteration 3800, Loss: 0.0004251891829183396\n",
      "Iteration 3900, Loss: 0.0004156672711923548\n",
      "Iteration 4000, Loss: 0.00040635859819682096\n",
      "Iteration 4100, Loss: 0.0003972583885414327\n",
      "Iteration 4200, Loss: 0.00038836197376568293\n",
      "Iteration 4300, Loss: 0.0003796647900964345\n",
      "Iteration 4400, Loss: 0.0003711623757021165\n",
      "Iteration 4500, Loss: 0.00036285036891481326\n",
      "Iteration 4600, Loss: 0.00035472450563189817\n",
      "Iteration 4700, Loss: 0.0003467806171730814\n",
      "Iteration 4800, Loss: 0.00033901462838215046\n",
      "Iteration 4900, Loss: 0.0003314225552346617\n",
      "Iteration 5000, Loss: 0.0003240005030320514\n",
      "Iteration 5100, Loss: 0.00031674466417963565\n",
      "Iteration 5200, Loss: 0.00030965131643068133\n",
      "Iteration 5300, Loss: 0.0003027168208378228\n",
      "Iteration 5400, Loss: 0.0002959376200777353\n",
      "Iteration 5500, Loss: 0.00028931023629086283\n",
      "Iteration 5600, Loss: 0.00028283126965900074\n",
      "Iteration 5700, Loss: 0.00027649739638180293\n",
      "Iteration 5800, Loss: 0.0002703053673096534\n",
      "Iteration 5900, Loss: 0.0002642520057269948\n",
      "Iteration 6000, Loss: 0.00025833420641663274\n",
      "Iteration 6100, Loss: 0.00025254893334247797\n",
      "Iteration 6200, Loss: 0.0002468932188148809\n",
      "Iteration 6300, Loss: 0.00024136416130082772\n",
      "Iteration 6400, Loss: 0.0002359589244544935\n",
      "Iteration 6500, Loss: 0.00023067473536086958\n",
      "Iteration 6600, Loss: 0.0002255088831775165\n",
      "Iteration 6700, Loss: 0.000220458717784755\n",
      "Iteration 6800, Loss: 0.00021552164852178812\n",
      "Iteration 6900, Loss: 0.00021069514255067645\n",
      "Iteration 7000, Loss: 0.00020597672400124445\n",
      "Iteration 7100, Loss: 0.0002013639721685223\n",
      "Iteration 7200, Loss: 0.0001968545207080563\n",
      "Iteration 7300, Loss: 0.0001924460563165198\n",
      "Iteration 7400, Loss: 0.0001881363174498496\n",
      "Iteration 7500, Loss: 0.00018392309311954236\n",
      "Iteration 7600, Loss: 0.00017980422196806067\n",
      "Iteration 7700, Loss: 0.0001757775909627668\n",
      "Iteration 7800, Loss: 0.00017184113453883043\n",
      "Iteration 7900, Loss: 0.00016799283314017366\n",
      "Iteration 8000, Loss: 0.00016423071265547762\n",
      "Iteration 8100, Loss: 0.00016055284315807938\n",
      "Iteration 8200, Loss: 0.00015695733771381448\n",
      "Iteration 8300, Loss: 0.00015344235198666567\n",
      "Iteration 8400, Loss: 0.00015000608271020788\n",
      "Iteration 8500, Loss: 0.00014664676702769164\n",
      "Iteration 8600, Loss: 0.00014336268170067612\n",
      "Iteration 8700, Loss: 0.00014015214190976621\n",
      "Iteration 8800, Loss: 0.00013701350056360972\n",
      "Iteration 8900, Loss: 0.00013394514768716448\n",
      "Iteration 9000, Loss: 0.0001309455091511591\n",
      "Iteration 9100, Loss: 0.0001280130460279416\n",
      "Iteration 9200, Loss: 0.00012514625406923052\n",
      "Iteration 9300, Loss: 0.00012234366260499563\n",
      "Iteration 9400, Loss: 0.00011960383382780826\n",
      "Iteration 9500, Loss: 0.00011692536220242467\n",
      "Iteration 9600, Loss: 0.00011430687383073845\n",
      "Iteration 9700, Loss: 0.00011174702507088519\n",
      "Iteration 9800, Loss: 0.00010924450306015743\n",
      "Iteration 9900, Loss: 0.0001067980237907662\n",
      "Iteration 10000, Loss: 0.00010440633227504215\n",
      "Iteration 10100, Loss: 0.0001020682015857588\n",
      "Iteration 10200, Loss: 9.978243222708016e-05\n",
      "Iteration 10300, Loss: 9.754785158566648e-05\n",
      "Iteration 10400, Loss: 9.536331336557069e-05\n",
      "Iteration 10500, Loss: 9.322769683506316e-05\n",
      "Iteration 10600, Loss: 9.113990637965586e-05\n",
      "Iteration 10700, Loss: 8.909887104113778e-05\n",
      "Iteration 10800, Loss: 8.710354376018081e-05\n",
      "Iteration 10900, Loss: 8.515290089228245e-05\n",
      "Iteration 11000, Loss: 8.32459417128284e-05\n",
      "Iteration 11100, Loss: 8.138168803717427e-05\n",
      "Iteration 11200, Loss: 7.95591834039655e-05\n",
      "Iteration 11300, Loss: 7.777749289417102e-05\n",
      "Iteration 11400, Loss: 7.603570256931036e-05\n",
      "Iteration 11500, Loss: 7.433291878489179e-05\n",
      "Iteration 11600, Loss: 7.266826799656734e-05\n",
      "Iteration 11700, Loss: 7.104089633602761e-05\n",
      "Iteration 11800, Loss: 6.944996887092714e-05\n",
      "Iteration 11900, Loss: 6.789466949053136e-05\n",
      "Iteration 12000, Loss: 6.637420033417385e-05\n",
      "Iteration 12100, Loss: 6.488778131008566e-05\n",
      "Iteration 12200, Loss: 6.343464999014614e-05\n",
      "Iteration 12300, Loss: 6.201406085581951e-05\n",
      "Iteration 12400, Loss: 6.0625285088322656e-05\n",
      "Iteration 12500, Loss: 5.926761038677064e-05\n",
      "Iteration 12600, Loss: 5.794034011730176e-05\n",
      "Iteration 12700, Loss: 5.664279345940493e-05\n",
      "Iteration 12800, Loss: 5.5374304728239565e-05\n",
      "Iteration 12900, Loss: 5.413422323652384e-05\n",
      "Iteration 13000, Loss: 5.292191279160363e-05\n",
      "Iteration 13100, Loss: 5.173675143210765e-05\n",
      "Iteration 13200, Loss: 5.0578131197909215e-05\n",
      "Iteration 13300, Loss: 4.9445457726227104e-05\n",
      "Iteration 13400, Loss: 4.833814997651231e-05\n",
      "Iteration 13500, Loss: 4.725563986363035e-05\n",
      "Iteration 13600, Loss: 4.6197372082223964e-05\n",
      "Iteration 13700, Loss: 4.516280363042746e-05\n",
      "Iteration 13800, Loss: 4.415140390534589e-05\n",
      "Iteration 13900, Loss: 4.316265397075192e-05\n",
      "Iteration 14000, Loss: 4.219604664501553e-05\n",
      "Iteration 14100, Loss: 4.125108603036942e-05\n",
      "Iteration 14200, Loss: 4.032728733416313e-05\n",
      "Iteration 14300, Loss: 3.9424176700553204e-05\n",
      "Iteration 14400, Loss: 3.854129082947466e-05\n",
      "Iteration 14500, Loss: 3.7678176733946245e-05\n",
      "Iteration 14600, Loss: 3.6834391749174245e-05\n",
      "Iteration 14700, Loss: 3.6009502828227014e-05\n",
      "Iteration 14800, Loss: 3.52030869747999e-05\n",
      "Iteration 14900, Loss: 3.441473036924769e-05\n",
      "Iteration 15000, Loss: 3.3644028716972585e-05\n"
     ]
    }
   ],
   "source": [
    "model = SimpleLinearRegression()\n",
    "model.fit(X_train,y_train)"
   ]
  },
  {
   "cell_type": "markdown",
   "id": "be8478dd",
   "metadata": {},
   "source": [
    "# Evaluation"
   ]
  },
  {
   "cell_type": "code",
   "execution_count": 5,
   "id": "99b7cfee",
   "metadata": {},
   "outputs": [
    {
     "name": "stdout",
     "output_type": "stream",
     "text": [
      "Slope: [[152.93371798 906.8943433 ]]\n",
      "Mean squared error: 2585.87\n",
      "Coefficient of determination: 0.46\n"
     ]
    },
    {
     "data": {
      "image/png": "[encoded data removed]",
      "text/plain": [
       "<Figure size 432x288 with 1 Axes>"
      ]
     },
     "metadata": {},
     "output_type": "display_data"
    },
    {
     "name": "stdout",
     "output_type": "stream",
     "text": [
      "****** Success ******\n"
     ]
    },
    {
     "data": {
      "text/plain": [
       "True"
      ]
     },
     "execution_count": 5,
     "metadata": {},
     "output_type": "execute_result"
    }
   ],
   "source": [
    "predicted = model.predict(X_test)\n",
    "evaluate(model, X_test, y_test, predicted)"
   ]
  },
  {
   "cell_type": "markdown",
   "id": "f295e9f8",
   "metadata": {},
   "source": [
    "# Save model"
   ]
  },
  {
   "cell_type": "code",
   "execution_count": 6,
   "id": "2aa44527",
   "metadata": {},
   "outputs": [],
   "source": [
    "model.save(\"../../model/model.npy\")"
   ]
  },
  {
   "cell_type": "markdown",
   "id": "c1cb397c",
   "metadata": {},
   "source": [
    "# Load model & Re-evaluate"
   ]
  },
  {
   "cell_type": "code",
   "execution_count": 7,
   "id": "7f220105",
   "metadata": {},
   "outputs": [
    {
     "name": "stdout",
     "output_type": "stream",
     "text": [
      "Slope: [[152.93371798 906.8943433 ]]\n",
      "Mean squared error: 2585.87\n",
      "Coefficient of determination: 0.46\n"
     ]
    },
    {
     "data": {
      "image/png": "[encoded data removed]",
      "text/plain": [
       "<Figure size 432x288 with 1 Axes>"
      ]
     },
     "metadata": {},
     "output_type": "display_data"
    },
    {
     "name": "stdout",
     "output_type": "stream",
     "text": [
      "****** Success ******\n"
     ]
    },
    {
     "data": {
      "text/plain": [
       "True"
      ]
     },
     "execution_count": 7,
     "metadata": {},
     "output_type": "execute_result"
    }
   ],
   "source": [
    "del model\n",
    "gc.collect()\n",
    "\n",
    "model = SimpleLinearRegression()\n",
    "model.load(\"../../model/model.npy\")\n",
    "evaluate(model, X_test, y_test, predicted)"
   ]
  },
  {
   "cell_type": "markdown",
   "id": "98d635e5",
   "metadata": {},
   "source": [
    "---\n",
    "# Bench Mark"
   ]
  },
  {
   "cell_type": "code",
   "execution_count": 8,
   "id": "b9ecdb15",
   "metadata": {
    "scrolled": true
   },
   "outputs": [
    {
     "name": "stdout",
     "output_type": "stream",
     "text": [
      "Coefficients: \n",
      " [938.23786125]\n",
      "Mean squared error: 2548.07\n",
      "Coefficient of determination: 0.47\n"
     ]
    },
    {
     "data": {
      "image/png": "[encoded data removed]",
      "text/plain": [
       "<Figure size 432x288 with 1 Axes>"
      ]
     },
     "metadata": {},
     "output_type": "display_data"
    },
    {
     "data": {
      "text/plain": [
       "0.47257544798227147"
      ]
     },
     "execution_count": 8,
     "metadata": {},
     "output_type": "execute_result"
    }
   ],
   "source": [
    "benchmark()"
   ]
  }
 ],
 "metadata": {
  "kernelspec": {
   "display_name": "Python 3 (ipykernel)",
   "language": "python",
   "name": "python3"
  },
  "language_info": {
   "codemirror_mode": {
    "name": "ipython",
    "version": 3
   },
   "file_extension": ".py",
   "mimetype": "text/x-python",
   "name": "python",
   "nbconvert_exporter": "python",
   "pygments_lexer": "ipython3",
   "version": "3.9.12"
  }
 },
 "nbformat": 4,
 "nbformat_minor": 5
}
