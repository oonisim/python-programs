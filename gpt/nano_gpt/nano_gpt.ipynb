{
 "cells": [
  {
   "cell_type": "markdown",
   "id": "6df3f532-40a2-4049-844f-12f0cea1127a",
   "metadata": {},
   "source": [
    "# Nano GPT\n",
    "\n",
    "Nano GPT implementation by Andrej Karpathy.\n",
    "\n",
    "## Nano GPT YouTube Lecture version\n",
    "\n",
    "This is for lecture only. The Github is different from the proper implementation of Nano GPT github. Do not confuse/mix two diffent Github repositories.\n",
    "\n",
    "* [Let's build GPT: from scratch, in code, spelled out.](https://www.youtube.com/watch?v=kCc8FmEb1nY)\n",
    "* [Github - nanogpt-lecture](https://github.com/karpathy/ng-video-lecture)\n",
    "\n",
    "> Code created in the Neural Networks: Zero To Hero video lecture series, specifically on the first lecture on nanoGPT. Publishing here as a Github repo so people can easily hack it, walk through the git log history of it, etc.\n",
    "\n",
    "\n",
    "## Nano GPT implementation version\n",
    "* [Github nanoGPT](https://github.com/karpathy/nanoGPT)\n"
   ]
  },
  {
   "cell_type": "code",
   "execution_count": 2,
   "id": "5710adfc-3fb3-4e3e-857c-331a5ab58489",
   "metadata": {
    "ExecuteTime": {
     "end_time": "2024-01-02T01:05:22.316374112Z",
     "start_time": "2024-01-02T01:05:22.300633784Z"
    }
   },
   "outputs": [
    {
     "data": {
      "text/html": [
       "<style>\n",
       "table {float:left}\n",
       "</style>\n"
      ],
      "text/plain": [
       "<IPython.core.display.HTML object>"
      ]
     },
     "metadata": {},
     "output_type": "display_data"
    }
   ],
   "source": [
    "%%html\n",
    "<style>\n",
    "table {float:left}\n",
    "</style>"
   ]
  },
  {
   "cell_type": "code",
   "execution_count": 3,
   "id": "7d6b471b-a6cb-4145-9400-5381c11b1810",
   "metadata": {},
   "outputs": [],
   "source": [
    "import os\n",
    "import sys\n",
    "\n",
    "DIR = os.path.dirname(os.path.abspath('..'))\n",
    "if DIR not in sys.path:\n",
    "    sys.path.append(DIR)"
   ]
  },
  {
   "cell_type": "code",
   "execution_count": 6,
   "id": "f507fe2d-3931-491a-a14a-25ba5edb12d6",
   "metadata": {
    "ExecuteTime": {
     "end_time": "2024-01-02T01:05:24.138290904Z",
     "start_time": "2024-01-02T01:05:22.305989324Z"
    }
   },
   "outputs": [
    {
     "name": "stdout",
     "output_type": "stream",
     "text": [
      "The autoreload extension is already loaded. To reload it, use:\n",
      "  %reload_ext autoreload\n"
     ]
    }
   ],
   "source": [
    "%load_ext autoreload\n",
    "%autoreload 2\n",
    "\n",
    "\n",
    "import inspect\n",
    "import matplotlib.pyplot as plt\n",
    "import torch\n",
    "from torch import nn\n",
    "from torch.nn import functional as F\n",
    "from bigram import (\n",
    "    get_batch,\n",
    ")\n",
    "\n",
    "from transformer.v1 import (\n",
    "    TYPE_FLOAT,\n",
    "    calculate_dot_product_similarities,\n",
    "    calculate_attentions,\n",
    "    scale,\n",
    "    mask,\n",
    "    MultiHeadAttention,\n",
    "    ScaledDotProductAttention,\n",
    "    PositionwiseFeedForward,\n",
    "    PositionalEncoding,\n",
    "    Encoder,\n",
    ")"
   ]
  },
  {
   "cell_type": "markdown",
   "id": "7a77adc0-895c-431f-97a8-f8a9949dba5d",
   "metadata": {},
   "source": [
    "---"
   ]
  },
  {
   "cell_type": "markdown",
   "id": "d8d9b0fe-8ac6-4ca3-b237-610999b0b055",
   "metadata": {},
   "source": [
    "# Data\n",
    "\n",
    "Using tinyshakespeare as the dataset"
   ]
  },
  {
   "cell_type": "code",
   "execution_count": 6,
   "id": "a2e53b20-2177-458e-9f98-60ce2135ef19",
   "metadata": {
    "ExecuteTime": {
     "end_time": "2024-01-02T01:05:24.796234523Z",
     "start_time": "2024-01-02T01:05:24.140384661Z"
    }
   },
   "outputs": [
    {
     "name": "stdout",
     "output_type": "stream",
     "text": [
      "--2024-01-20 17:07:45--  https://raw.githubusercontent.com/karpathy/char-rnn/master/data/tinyshakespeare/input.txt\n",
      "Resolving raw.githubusercontent.com (raw.githubusercontent.com)... 185.199.110.133, 185.199.108.133, 185.199.111.133, ...\n",
      "Connecting to raw.githubusercontent.com (raw.githubusercontent.com)|185.199.110.133|:443... connected.\n",
      "HTTP request sent, awaiting response... 200 OK\n",
      "Length: 1115394 (1.1M) [text/plain]\n",
      "Saving to: ‘input.txt.1’\n",
      "\n",
      "input.txt.1         100%[===================>]   1.06M  --.-KB/s    in 0.1s    \n",
      "\n",
      "2024-01-20 17:07:46 (7.23 MB/s) - ‘input.txt.1’ saved [1115394/1115394]\n",
      "\n"
     ]
    }
   ],
   "source": [
    "!wget https://raw.githubusercontent.com/karpathy/char-rnn/master/data/tinyshakespeare/input.txt"
   ]
  },
  {
   "cell_type": "markdown",
   "id": "13271d1f-2fc5-4632-b867-01988054c251",
   "metadata": {},
   "source": [
    "# Terminologies\n",
    "\n",
    "* B: Batch size\n",
    "* T: Time steps or Sequence length (e.g. 512 for bert input sequence)\n",
    "* C: Channel or Feature (channel perhaps because Andrej is from CNN background?). ```C=2``` two features in each x."
   ]
  },
  {
   "attachments": {},
   "cell_type": "markdown",
   "id": "45745a2a-c062-40af-90a2-65d372419312",
   "metadata": {},
   "source": [
    "## Batch Input\n",
    "\n",
    "<img src=\"./image/gpt_batch.jpeg\" align=\"left\" width=750/>\n"
   ]
  },
  {
   "cell_type": "markdown",
   "id": "891cf9afa4fb5110",
   "metadata": {
    "collapsed": false,
    "jupyter": {
     "outputs_hidden": false
    }
   },
   "source": [
    "## Bigram Language Model\n",
    "\n",
    "The Bigram Language Model is **NOT using context of size T** but using the current token to predict next token, hence **Bi**gram. The objective of a Language Model is to use the historycal context, but here in the Bigram Model, Andrej is building very simple Markov Chain process to **generate next token only from the current token** for the sake of explaning the basic idea of token generation with bare naked possible way as he mentioned at [Let's build GPT: from scratch, in code, spelled out](https://youtu.be/kCc8FmEb1nY?t=2077) and [Let's build GPT: from scratch, in code, spelled out](https://youtu.be/kCc8FmEb1nY?t=2261).\n",
    "\n",
    "> right now the history is not used, so it looks silly (but eventually history will be used). ...\n",
    "> \n",
    "> Given the previous context of whatever generated, we only look at the very last character (```[:, -1, :]```) to make the prediciton of what comes next.\n",
    "\n",
    "* [Let's build GPT: from scratch, in code, spelled out - simplest baseline](https://youtu.be/kCc8FmEb1nY?t=1383)\n",
    "\n",
    "The ```idx:shape(B,T)``` is the idices to extract ```T``` number embedding vectors for the tokens. The ```token_embedding_table``` is e.g. a table of word embeddings in Word2Vec for each word in the vocabulary of the language. Andrej is using ```vocab_size``` as the dimension of the token embedding vector dimensions, hence the table has ```(number of words in language, dimensions)==(vocab_size, vocab_size)```. \n",
    "\n",
    "The reason using ```vocab_size``` as the dimensions is because Andrej simlifies the classification head which predicts the next token. Usually there is a **fully connected (FC)** layer that reduces the higher dimension down to N classes to predict, then apply softmax and argmax to select the hightest probability token index. Here, he skipped **FC** and directly generate N class outputs where ```N==vocab size``` so that the model can directly predict which word in the vocabulary to come next as GPT output.\n",
    "\n",
    "<img src=\"./image/andrej_gpt_dev_idx.png\" align=\"left\" width=500/>"
   ]
  },
  {
   "cell_type": "markdown",
   "id": "6bbb48c7-84df-45e9-8bd7-cf5169c2894c",
   "metadata": {},
   "source": [
    "The ```generate``` function is the mechanism to continuously generate the next tokens from the given context (prompt). In this Bigram Language Model, the (last) token predicts the next token, hence take the last token embedding vector with ```[:, -1, :]``` to get the next token id via softmax and argmax (```torch.multinomial(, num_samples=1)```) as the next token.\n",
    "\n",
    "<img src=\"./image/text_generation_from_prompt.png\" align=\"left\" width=500/>"
   ]
  },
  {
   "cell_type": "markdown",
   "id": "b18a1f7e-d2e9-4290-9b1f-2f16cdf9afe7",
   "metadata": {},
   "source": [
    "This corresponds with GPT generates succeeding sentences given a prompt (context). \n",
    "\n",
    "* [Let's build GPT: from scratch, in code, spelled out.](https://youtu.be/kCc8FmEb1nY?t=1934)\n",
    "\n",
    "By giving an index to one token as the first ```idx``` to the ```generate``` function, it will continuously generates ```max_new_tokens```.\n",
    "\n",
    "```\n",
    "# 0 as the index to the first token in the embedding table\n",
    "first_token_index: int = torch.zeros((1, 1)  \n",
    "\n",
    "# [0] to get first batch\n",
    "first_batch = decode(m.generate(idx=first_token_index, dtype=torch.long), max_new_tokens=100)[0].tolist())  \n",
    "print(first_batch)\n",
    "```\n",
    "\n",
    "<img src=\"./image/next_token_generation.jpeg\" align=\"left\" width=750/>"
   ]
  },
  {
   "cell_type": "code",
   "execution_count": 7,
   "id": "a326dbfa-e644-4685-b0b0-263e83bd76f1",
   "metadata": {
    "ExecuteTime": {
     "end_time": "2024-01-02T01:05:25.208379741Z",
     "start_time": "2024-01-02T01:05:25.182606312Z"
    }
   },
   "outputs": [
    {
     "name": "stdout",
     "output_type": "stream",
     "text": [
      "def get_batch(split):\n",
      "    # generate a small batch of data of inputs x and targets y\n",
      "    data = train_data if split == 'train' else val_data\n",
      "    ix = torch.randint(len(data) - block_size, (batch_size,))\n",
      "    x = torch.stack([data[i:i+block_size] for i in ix])\n",
      "    y = torch.stack([data[i+1:i+block_size+1] for i in ix])\n",
      "    x, y = x.to(device), y.to(device)\n",
      "    return x, y\n",
      "\n"
     ]
    }
   ],
   "source": [
    "print(inspect.getsource(get_batch))"
   ]
  },
  {
   "cell_type": "markdown",
   "id": "07acdfac-5f13-438e-844b-1d124d115735",
   "metadata": {},
   "source": [
    "---\n",
    "# Transformer\n",
    "\n",
    "(The Transformer implementaion starting at [Let's build GPT: from scratch, in code, spelled out](https://youtu.be/kCc8FmEb1nY?t=2268))\n",
    "\n",
    "Transformer generates a graph network between position-encoded tokens.\n",
    "\n",
    "1. Get un-connected tokens as a sequence (e.g. sentence)\n",
    "2. Wires connections among tokens by having looked at the co-occurrances of them in billions of sequences.\n",
    "\n",
    "<img src=\"./image/transformer_architecture.png\" align=\"left\" width=350/>"
   ]
  },
  {
   "cell_type": "markdown",
   "id": "66c610bd-1648-42cb-8233-afdd978e2a31",
   "metadata": {},
   "source": [
    "## Attention \n",
    "\n",
    "$$Attention(Q,K,V)=softmax(\\frac {QK^T}{\\sqrt {d_k}})$$\n",
    "\n",
    "\n",
    "* [Let's build GPT: from scratch, in code, spelled out](https://youtu.be/kCc8FmEb1nY?t=4301)\n",
    "* [Building a GPT](https://colab.research.google.com/drive/1JMLa53HDuA-i7ZBmqV7ZnA3c_fvtXnx-)\n",
    "\n",
    "> - Attention is a **communication mechanism**. Can be seen as nodes in a directed graph looking at each other and aggregating information with a weighted sum from all nodes that point to them, with data-dependent weights.\n",
    "> - There is no notion of space. Attention simply acts over a set of vectors. This is why we need to positionally encode tokens.\n",
    "> - Each example across batch dimension is of course processed completely independently and never \"talk\" to each other\n",
    "> - In an \"encoder\" attention block just delete the single line that does masking with `tril`, allowing all tokens to communicate. This block here is called a \"decoder\" attention block because it has triangular masking, and is usually used in autoregressive settings, like language modeling.\n",
    "> - \"self-attention\" just means that the keys and values are produced from the same source as queries. In \"cross-attention\", the queries still get produced from x, but the keys and values come from some other, external source (e.g. an encoder module)\n",
    "> - \"Scaled\" attention additional divides `similarity` by ```1/sqrt(head_size)```. This makes it so when input Q,K are unit variance, `similarity` will be unit variance too and Softmax will stay diffuse and not saturate too much.\n",
    "> \n",
    "> <img src=\"./image/transformer_attention_as_communication.png\" align=\"left\" width=250/>"
   ]
  },
  {
   "cell_type": "markdown",
   "id": "084ccb5c-b89e-44a2-8434-b128b3cbfe1e",
   "metadata": {},
   "source": [
    "## Dot Product\n",
    "\n",
    "Transformer uses Scaled Dot Product Attention. Refresh the memory on what dot-product transformation does and where they are used.\n",
    "\n",
    "* Similarity = Q@K\n",
    "* Attention Valuye = Similarity@V\n",
    "\n",
    "<img src=\"./image/transformer_self_attention_flow.jpeg\" align=\"left\"/>"
   ]
  },
  {
   "cell_type": "markdown",
   "id": "48959382-d37d-43e9-a57e-70b849dfa0ef",
   "metadata": {},
   "source": [
    "# Scaled Dot Product Attention\n",
    "\n",
    "<img src=\"./image/transformer_scaled_dot_product_attention.png\" align=\"left\" width=150/>"
   ]
  },
  {
   "cell_type": "code",
   "execution_count": 13,
   "id": "8f5c27a2-b74f-4fbf-9fa2-ecb53ee4b080",
   "metadata": {},
   "outputs": [
    {
     "name": "stdout",
     "output_type": "stream",
     "text": [
      "    def forward(\n",
      "            self,\n",
      "            q: Tensor,\n",
      "            k: Tensor,\n",
      "            v: Tensor,\n",
      "    ):\n",
      "        \"\"\"Calculate the scaled dot product attention.\n",
      "        Args:\n",
      "            q: query of shape (B,h,T,d)\n",
      "            k: key of shape (B,h,T,d)\n",
      "            v: value of shape (B,h,T,d)\n",
      "        \"\"\"\n",
      "        # --------------------------------------------------------------------------------\n",
      "        # First MatMul in the Scaled Dot Product Attention to calculate the similarities\n",
      "        # matrix between (q,k) for every (q,k) combinations in Q, K.\n",
      "        # This is cartesian product matrix of shape (T, T) for every head and batch.\n",
      "        # The number of features in similarities matrix is B*H*T*T which will be\n",
      "        # (32 * 8 * 512 * 512) which is 64M. Each feature has 512 / H = 64 dimensions\n",
      "        # of float32, hence the size is 16G bytes of memory requirement.\n",
      "        # --------------------------------------------------------------------------------\n",
      "        similarities: Tensor = calculate_dot_product_similarities(\n",
      "            query=q,\n",
      "            key=k,\n",
      "        )\n",
      "\n",
      "        # --------------------------------------------------------------------------------\n",
      "        # Scale (standardize) the dot product similarity matrix with its standard deviation.\n",
      "        # --------------------------------------------------------------------------------\n",
      "        d_k = k.size[-1]  # head size\n",
      "        similarities = scale(similarities=similarities, d_k=d_k)\n",
      "\n",
      "        # --------------------------------------------------------------------------------\n",
      "        # Mask if required\n",
      "        # --------------------------------------------------------------------------------\n",
      "        if self.mask_matrix is not None:\n",
      "            similarities = mask(similarities=similarities, mask_matrix=self.mask_matrix)\n",
      "\n",
      "        # --------------------------------------------------------------------------------\n",
      "        # Normalize by softmax.\n",
      "        # --------------------------------------------------------------------------------\n",
      "        similarities = softmax(similarities, dim=-1)\n",
      "\n",
      "        # --------------------------------------------------------------------------------\n",
      "        # Second MatMul to generate attention value for each token in sequence of length T\n",
      "        # --------------------------------------------------------------------------------\n",
      "        attentions: Tensor = calculate_attentions(\n",
      "            similarities=similarities,\n",
      "            values=v\n",
      "        )   # shape: (B,H,T,d)\n",
      "\n",
      "        return attentions\n",
      "\n"
     ]
    }
   ],
   "source": [
    "print(inspect.getsource(ScaledDotProductAttention.forward))"
   ]
  },
  {
   "cell_type": "markdown",
   "id": "062c57c2-4217-49fc-ad75-fa040f3c8924",
   "metadata": {},
   "source": [
    "## First MatMul with Q and K (Calculate Similarity Score)\n",
    "\n",
    "For every token ```Q``` in a sequence, calculate the relation/communication with other token ```K``` in the sequence (for GPT, only previous tokens). This builds the graph network of Self Attention.\n",
    "\n",
    "\n",
    "|Similarity Score (Q & K)| Proabability as Softmax |\n",
    "|---|---|\n",
    "|<img src=\"./image/transformer_dot_product_attention_similarity_score.jpeg\" align=\"left\" width=500/>|<img src=\"./image/transformer_dot_product_attention.png\" align=\"left\" width=175/>|\n"
   ]
  },
  {
   "cell_type": "code",
   "execution_count": 13,
   "id": "243b5688-b6fd-4565-be09-c4bcd13cde7f",
   "metadata": {},
   "outputs": [
    {
     "name": "stdout",
     "output_type": "stream",
     "text": [
      "def calculate_dot_product_similarities(\n",
      "        query: Tensor,\n",
      "        key: Tensor,\n",
      ") -> Tensor:\n",
      "    \"\"\"\n",
      "    Calculate similarity scores between queries and keys using dot product.\n",
      "\n",
      "    Args:\n",
      "        query: embedding vector of query of shape (B, h, T, d_k)\n",
      "        key: embedding vector of key of shape (B, h, T, d_k)\n",
      "\n",
      "    Returns: Similarities (closeness) between q and k of shape (B, h, T, T) where\n",
      "        last (T, T) represents relations between all query elements in T sequence\n",
      "        against all key elements in T sequence. If T is people in an organization,\n",
      "        (T,T) represents all (cartesian product) social connections among them.\n",
      "        The relation considers d_k number of features.\n",
      "    \"\"\"\n",
      "    # --------------------------------------------------------------------------------\n",
      "    # Relationship between k and q as the first MatMul using dot product similarity:\n",
      "    # (B, h, T, d_k) @ (B, hH, d_k, T) ---> (B, h, T, T)\n",
      "    # --------------------------------------------------------------------------------\n",
      "    similarities = query @ key.transpose(-2, -1)            # dot product\n",
      "    return similarities                                     # shape:(B, h, T, T)\n",
      "\n"
     ]
    }
   ],
   "source": [
    "print(inspect.getsource(calculate_dot_product_similarities))"
   ]
  },
  {
   "cell_type": "markdown",
   "id": "eb90c4a3-efdd-4658-9e30-d770c737c90d",
   "metadata": {},
   "source": [
    "\n",
    "## Scale by $\\sqrt{d_k}$\n",
    "\n",
    "As in the name **Scaled** Dot-Product Attention, the similarity score is normalized by $\\sqrt{d_k}$ to manage the variance where $d_k$ is the dimension of the key vector $k$ (which is the same with that of query).\n",
    "\n",
    "Suppose the positionally encoded token vector $x$ has dimension $D$, the shape of $W_K$ is ```(M, D)```. Then key $k = x:(D,) @ W^T_K:(D,M)$ has the shape $(M,)$, which is $d_k$. The variance of the pdorduct $Q\\cdot K^T$ is $d_k$. The variance of two zero-mean normal distributions is:\n",
    "\n",
    "[Variance of product of multiple independent random variables](https://stats.stackexchange.com/questions/52646/)\n",
    "\n",
    "$${\\rm Var}(XY) = E(X^2Y^2) − (E(XY))^2={\\rm Var}(X){\\rm Var}(Y)+{\\rm Var}(X)(E(Y))^2+{\\rm Var}(Y)(E(X))^2$$  $$E(X)=E(Y)=0$$\n",
    "\n",
    "<img src=\"./image/variance_of_q@k.jpeg\" align=\"left\" width=500/>"
   ]
  },
  {
   "cell_type": "markdown",
   "id": "11de16b9-7a7c-45f7-a829-a44930675019",
   "metadata": {},
   "source": [
    "* [Let's build GPT: from scratch, in code, spelled out](https://youtu.be/kCc8FmEb1nY?t=4616)\n",
    "\n",
    "> If you have unit gausian input of mean 0 and $W_K$ and $W_V$ are unit gaussian, and if you calculate the ```similarity``` naively, the variance is the order of the head size $d_k$ (e.g. approx 16 if $d_k$ == 16). By standardizing the ```similarity``` score by $\\sqrt{d_k}$ the variance of the ```similarity``` socre will be normal (approx 1.0).\n",
    "\n",
    "Otherwise, softmax will pickup the nodes with larger values, hence only specific nodes in the sequence will be incorporated into the BoW. We want to consider the communication among every nodes if there is, not specific ones only.\n",
    "\n",
    "### Without scaling\n",
    "\n",
    "When the similarity score is not normalized/scaled by $\\sqrt{d_k}$, the softmax becomes **peaky** like one hot encoding, which is beneficial for classification (amplify the high score signal)."
   ]
  },
  {
   "cell_type": "code",
   "execution_count": 10,
   "id": "88651d9f-56b2-4ed2-9047-03dfc99ca314",
   "metadata": {},
   "outputs": [
    {
     "name": "stdout",
     "output_type": "stream",
     "text": [
      "variance:14.592000007629395, softmax:tensor([7.8424e-03, 3.1967e-04, 3.8844e-02, 6.4541e-05, 9.5293e-01])\n"
     ]
    },
    {
     "data": {
      "text/plain": [
       "<StemContainer object of 3 artists>"
      ]
     },
     "execution_count": 10,
     "metadata": {},
     "output_type": "execute_result"
    },
    {
     "data": {
      "image/png": "[encoded data removed]",
      "text/plain": [
       "<Figure size 300x200 with 1 Axes>"
      ]
     },
     "metadata": {},
     "output_type": "display_data"
    }
   ],
   "source": [
    "head_size = 16\n",
    "naive_score = torch.tensor([0.1, -0.1, 0.2, -0.2, 0.4]) * head_size\n",
    "# Note that variance is close to the head_size\n",
    "print(f\"variance:{naive_score.var()}, softmax:{torch.softmax(naive_score, dim=-1)}\")\n",
    "\n",
    "plt.figure(figsize=(3,2))\n",
    "plt.grid()\n",
    "plt.stem(range(len(naive_score)), torch.softmax(naive_score, dim=-1))"
   ]
  },
  {
   "cell_type": "markdown",
   "id": "7a8cda58-08ac-4c0e-9bff-f2333221f3b2",
   "metadata": {},
   "source": [
    "### With scaling\n",
    "\n",
    "By scale/normalize, the softmax will be smoothed/diffused."
   ]
  },
  {
   "cell_type": "code",
   "execution_count": 11,
   "id": "fce13dc5-0ee8-414e-bdb7-64856d6356eb",
   "metadata": {},
   "outputs": [
    {
     "name": "stdout",
     "output_type": "stream",
     "text": [
      "variance:0.9120000004768372, softmax:tensor([0.1524, 0.0685, 0.2273, 0.0459, 0.5059])\n"
     ]
    },
    {
     "data": {
      "text/plain": [
       "<StemContainer object of 3 artists>"
      ]
     },
     "execution_count": 11,
     "metadata": {},
     "output_type": "execute_result"
    },
    {
     "data": {
      "image/png": "[encoded data removed]",
      "text/plain": [
       "<Figure size 300x200 with 1 Axes>"
      ]
     },
     "metadata": {},
     "output_type": "display_data"
    }
   ],
   "source": [
    "scaled_score = naive_score / torch.sqrt(torch.tensor(head_size))\n",
    "print(f\"variance:{scaled_score.var()}, softmax:{torch.softmax(scaled_score, dim=-1)}\")\n",
    "\n",
    "plt.figure(figsize=(3,2))\n",
    "plt.grid()\n",
    "plt.stem(range(len(scaled_score)), torch.softmax(scaled_score, dim=-1))"
   ]
  },
  {
   "cell_type": "markdown",
   "id": "8f2491f5-fb3d-416f-adf4-ad85b7ebb2a4",
   "metadata": {},
   "source": [
    "### Code for Scale"
   ]
  },
  {
   "cell_type": "code",
   "execution_count": 18,
   "id": "055405d1-fa1c-40e3-abdb-23e965ef48fa",
   "metadata": {},
   "outputs": [
    {
     "name": "stdout",
     "output_type": "stream",
     "text": [
      "def scale(\n",
      "        similarities: Tensor,\n",
      "        d_k: int\n",
      ") -> Tensor:\n",
      "    \"\"\"\n",
      "    Standardize the variance of the dot product similarities using the standard deviation\n",
      "    of the dot product of the normal distributions std=sqrt(d_k) so that the variance will\n",
      "    be 1.0 approx.\n",
      "\n",
      "    Citation:\n",
      "    > While for small values of dk the two mechanisms perform similarly, additive attention\n",
      "    > outperforms dot product attention without scaling for larger values of dk [3].\n",
      "    > We suspect that for large values of d_k, the dot products grow large in magnitude,\n",
      "    > pushing the softmax function into regions where it has extremely small gradients.\n",
      "    > To counteract this effect, we scale the dot products by sqrt(d_k).\n",
      "\n",
      "    The last (T, T) of the shape (B,h,T,T) is the matrix that represents the similarities\n",
      "    as the dot product between (q,k) from every q from sequence length T and k from the\n",
      "    sequence length T. The dimensions of q and k are both d_k, and q, k are expected to\n",
      "    follow normal distribution where the mean is 0 and variance is 1. The variance of the\n",
      "    two normal distributions q, k is expected to be d_k. Hence, standardize the (T,T)\n",
      "    with its standard deviation std=sqrt(d_k) so that the variance will be approximately 1.\n",
      "    Then, the later softmax will be smoothed out so that not to pick up higher value.\n",
      "\n",
      "    Args:\n",
      "        similarities: Similarities matrix shape (B, h, T, T)\n",
      "        d_k: dimension of the\n",
      "\n",
      "    Returns: scaled similarities matrix of shape (B, h, T, T)\n",
      "    \"\"\"\n",
      "    # --------------------------------------------------------------------------------\n",
      "    # Scaling factor to standardize (div by standard deviation) the product q@k.T\n",
      "    # of two zero centered normal distributions q, k. The variance of the product\n",
      "    # is head_size d_k. See https://stats.stackexchange.com/a/52699/105137.\n",
      "    # --------------------------------------------------------------------------------\n",
      "    std = torch.sqrt(torch.tensor(d_k, dtype=TYPE_FLOAT))   # standard deviation\n",
      "\n",
      "    # --------------------------------------------------------------------------------\n",
      "    # Scale similarities of each head by std so that the variance is approx 1.\n",
      "    # Scaling regularize the softmax output so as not to overfit to features, by which\n",
      "    # features in query and key can relate among themselves better.\n",
      "    # Otherwise, features with higher value will be peaked by softmax, (which is good\n",
      "    # for use as classification head but not for Bag of Words to incorporate features\n",
      "    # to make them related), hence only specific features in query and key will be\n",
      "    # connected.\n",
      "    # --------------------------------------------------------------------------------\n",
      "    scaled = similarities / std                             # scaled dot product\n",
      "    return scaled\n",
      "\n"
     ]
    }
   ],
   "source": [
    "print(inspect.getsource(scale))"
   ]
  },
  {
   "cell_type": "markdown",
   "id": "90a7d6ae-64db-4d47-b900-57f6c5b61803",
   "metadata": {},
   "source": [
    "## Mask\n",
    "\n",
    "Optional. After calculating ```(T,T)``` matrix of similarities from q to k, mask the matrix to prevent the communications with future time steps by replacing the similarity values with the ```-inf```, meaning there is **no relationship** from ```q```. Then softmax will make the contribution from the ```-inf``` to zero. This is the same with blocking relations between ```q``` and ```k```."
   ]
  },
  {
   "cell_type": "code",
   "execution_count": 14,
   "id": "23c6a339-f3ff-47e7-ba95-cdbba1251087",
   "metadata": {},
   "outputs": [
    {
     "data": {
      "text/plain": [
       "tensor([[False,  True,  True,  True],\n",
       "        [False, False,  True,  True],\n",
       "        [False, False, False,  True],\n",
       "        [False, False, False, False]])"
      ]
     },
     "execution_count": 14,
     "metadata": {},
     "output_type": "execute_result"
    }
   ],
   "source": [
    "_T = 4\n",
    "_B = 1\n",
    "_H = 2\n",
    "\n",
    "# Mask matrix to decide which element in (T,T) matrix to mask\n",
    "mask = torch.tril(torch.ones(_T,_T)) == 0\n",
    "mask"
   ]
  },
  {
   "cell_type": "code",
   "execution_count": 15,
   "id": "595f4378-ed66-423c-baad-a7fc337363a4",
   "metadata": {},
   "outputs": [
    {
     "data": {
      "text/plain": [
       "tensor([[[[ 1.9312,    -inf,    -inf,    -inf],\n",
       "          [-0.1360,  1.6354,    -inf,    -inf],\n",
       "          [ 1.1415,  0.0186, -1.8058,    -inf],\n",
       "          [-0.3753,  1.0331, -0.6867,  0.6368]],\n",
       "\n",
       "         [[-0.9727,    -inf,    -inf,    -inf],\n",
       "          [ 0.2695, -0.2104,    -inf,    -inf],\n",
       "          [ 0.3488,  0.9676, -0.4657,    -inf],\n",
       "          [-2.4801, -0.4175, -1.1955,  0.8123]]]])"
      ]
     },
     "execution_count": 15,
     "metadata": {},
     "output_type": "execute_result"
    }
   ],
   "source": [
    "# Mask the similarity matrix element of future steps with -inf\n",
    "similarities = torch.randn(_B,_H,_T,_T)\n",
    "similarities = similarities.masked_fill(mask=mask, value=float('-inf'))\n",
    "similarities"
   ]
  },
  {
   "cell_type": "code",
   "execution_count": 16,
   "id": "8f4af2a2-e1b7-4c57-9ae5-fe06fc34d701",
   "metadata": {},
   "outputs": [
    {
     "data": {
      "text/plain": [
       "tensor([[[[1.0000, 0.0000, 0.0000, 0.0000],\n",
       "          [0.1454, 0.8546, 0.0000, 0.0000],\n",
       "          [0.7258, 0.2361, 0.0381, 0.0000],\n",
       "          [0.1166, 0.4770, 0.0854, 0.3209]],\n",
       "\n",
       "         [[1.0000, 0.0000, 0.0000, 0.0000],\n",
       "          [0.6177, 0.3823, 0.0000, 0.0000],\n",
       "          [0.3031, 0.5627, 0.1342, 0.0000],\n",
       "          [0.0254, 0.1997, 0.0917, 0.6832]]]])"
      ]
     },
     "execution_count": 16,
     "metadata": {},
     "output_type": "execute_result"
    }
   ],
   "source": [
    "# Softmax will supress the contirubion from -inf similarity values\n",
    "F.softmax(similarities, dim=-1)"
   ]
  },
  {
   "cell_type": "markdown",
   "id": "82bbfb41-e777-404e-85f2-d1382970b0ea",
   "metadata": {},
   "source": [
    "### Code for Mask"
   ]
  },
  {
   "cell_type": "code",
   "execution_count": 20,
   "id": "e365ea95-84a2-423e-9140-c26a5c1450fa",
   "metadata": {},
   "outputs": [
    {
     "name": "stdout",
     "output_type": "stream",
     "text": [
      "def mask(\n",
      "    similarities: Tensor,\n",
      "    mask_matrix: Tensor\n",
      ") -> Tensor:\n",
      "    \"\"\"\n",
      "    Args:\n",
      "        similarities: matrix to mask of shape (B,H,T,T)\n",
      "        mask_matrix: boolean matrix of which elements in (T,T) to mask fill.\n",
      "\n",
      "    Returns: masked similarity matrix\n",
      "    \"\"\"\n",
      "    # --------------------------------------------------------------------------------\n",
      "    # mask to make uni-direction (left to right only) for algorithm such as GPT.\n",
      "    # Skip masking for bi-directional e.g .BERT,\n",
      "    # --------------------------------------------------------------------------------\n",
      "    # exp(-inf) = 0 masks the similarities so that it will be uni-directional.\n",
      "    assert (\n",
      "        similarities.ndim == 4 and                              # (B,H,T,T)\n",
      "        similarities.shape[-2] == similarities.shape[-1] and\n",
      "        similarities.shape[-1] == mask_matrix.shape[-1]\n",
      "    )\n",
      "    masked = similarities.masked_fill(mask=mask_matrix, value=float('-inf'))\n",
      "    return masked\n",
      "\n"
     ]
    }
   ],
   "source": [
    "print(inspect.getsource(mask))"
   ]
  },
  {
   "cell_type": "markdown",
   "id": "8db11fb7-d368-4556-ab1a-056d0b0b8478",
   "metadata": {},
   "source": [
    "## Second MatMul with V (Calculate Bag of Words Attention Value)\n",
    "\n",
    "One way to generate the inter-connections among the tokens to distill their knowledges or relations is ```BoW``` by averaging them feature-wise/axis=-1.\n",
    "\n",
    "\n",
    "\n",
    "<img src=\"./image/transformer_dot_product_attention_bow.png\" align=\"left\" width=700/>  "
   ]
  },
  {
   "cell_type": "markdown",
   "id": "e061adeb-8b2b-4783-9a4e-f9f499e3db0a",
   "metadata": {},
   "source": [
    "Note that the initially the value of similarity is random or ```(1.0, 1/2, 1/3, ...)``` but eventually it gets trained to memorize the relations among position-encoded tokens.\n",
    "\n",
    "* [Let's build GPT: from scratch, in code, spelled out.](https://youtu.be/kCc8FmEb1nY?t=3814)\n",
    "\n",
    "> Different will find other tokens more or less interesting and we want that data dependent. If I/token is a vowel, I am looking for consonants in my past and want to know what consonants were. And I want the information to flow to me (connection). This is the problem that Self Attention solves.\n",
    "\n",
    "<img src=\"./image/self_attention.jpeg\" align=\"left\" width=700/>"
   ]
  },
  {
   "cell_type": "markdown",
   "id": "c8ff9381-ea71-4a56-8695-dbd0e14ade54",
   "metadata": {},
   "source": [
    "### Purpose of  using $W_V$\n",
    "\n",
    "$v$ looks to be a proxy of $x$ but what transformation or meaning does $W_V$ gives by having transformation from $x$ to $v$? (Note: ```x``` in the diagram above is actually $v$ as $v=x@W{_V}{^T}$).\n",
    "\n",
    "* [Let's build GPT: from scratch, in code, spelled out](https://youtu.be/kCc8FmEb1nY?t=4258)\n",
    "\n",
    "> $x$ is like a private information to a token. For the purpose of the single attention head, $v$ is what I give for you to communicate with if you find me interesting."
   ]
  },
  {
   "cell_type": "markdown",
   "id": "49421e67-b3f2-43a0-b9e0-41ab241817cf",
   "metadata": {},
   "source": [
    "### Code"
   ]
  },
  {
   "cell_type": "code",
   "execution_count": 14,
   "id": "b47923ef-9b0c-4ade-91f6-90a9e1ce09e1",
   "metadata": {},
   "outputs": [
    {
     "name": "stdout",
     "output_type": "stream",
     "text": [
      "def calculate_attentions(\n",
      "        similarities,\n",
      "        value\n",
      "):\n",
      "    \"\"\"\n",
      "    For every q element, create a Bag of Words that encodes the relationships with\n",
      "    other elements (including itself) in T, using (q,k) relationship value as the\n",
      "    strength of the relationships.\n",
      "\n",
      "    Citation:\n",
      "    > On each of these projected versions of queries, keys and values we then perform\n",
      "    > the attention function in parallel, yielding d_v-dimensional output values.\n",
      "\n",
      "    ```\n",
      "    bows = []\n",
      "    for row in relationships:                 # relationship matrix of shape (T,T)\n",
      "        bow = sum([                           # bow:shape(d_v,)\n",
      "            k*v for (k,v) in zip(row,value)   # k:shape(), v:shape(d_v,)\n",
      "        ])\n",
      "        bows.append(bow)                      # bows:shape(T,d_v)\n",
      "    ```\n",
      "\n",
      "    Args:\n",
      "        similarities: q to k relationship strength matrix of shape (B, h, T, T)\n",
      "        value: elements of sequence with length T of shape (B, h, T, d_v)\n",
      "\n",
      "    Returns: Bag of Words for every q element of shape (B, h, T, d_v)\n",
      "    \"\"\"\n",
      "    return similarities @ value     # (B,h,T,T) @ (B,h,T,d_v) -> (B,h,T,d_v)\n",
      "\n"
     ]
    }
   ],
   "source": [
    "print(inspect.getsource(calculate_attentions))"
   ]
  },
  {
   "cell_type": "markdown",
   "id": "29037d96-27c9-482e-84e1-be8e17e18218",
   "metadata": {},
   "source": [
    "# Multi Attention Head\n",
    "\n",
    "Divide the embedding vector q, k, v into ```h``` number of segmenets and apply self attention to each segment in parallel respectively.\n",
    "\n",
    "* <img src=\"./image/transformer_paper_multi_head_attention.png\" align=\"left\" width=700/>"
   ]
  },
  {
   "cell_type": "markdown",
   "id": "87ddc47c-f539-4bd9-a7e7-27d87bbd9a38",
   "metadata": {},
   "source": [
    "\n",
    "|<img src=\"./image/transformer_multi_head_attentions.png\" align=\"left\" width=200/>   | \n",
    "<img src=\"./image/transformer_multi_head_attention_formula.png\" align=\"left\" width=700/> |"
   ]
  },
  {
   "cell_type": "markdown",
   "id": "c7ef7f98-f117-4ae5-8485-25ba4f3f488b",
   "metadata": {},
   "source": [
    "* [Transformers Explained Visually (Part 3): Multi-head Attention, deep dive](https://towardsdatascience.com/transformers-explained-visually-part-3-multi-head-attention-deep-dive-1c1ff1024853)\n",
    "\n",
    "<img src=\"./image/transformer_multi_head_attention.png\" align=\"left\" width=500/>"
   ]
  },
  {
   "cell_type": "code",
   "execution_count": 10,
   "id": "58c863d8-2dd4-43e9-8a29-bcd78de2afe2",
   "metadata": {},
   "outputs": [
    {
     "name": "stdout",
     "output_type": "stream",
     "text": [
      "class MultiHeadAttention(nn.Module):\n",
      "    \"\"\"\n",
      "    Class to implement Multi Head Attention (Figure 2 right in the paper).\n",
      "    Citation:\n",
      "    > The encoder is composed of a stack of N = 6 identical layers. Each layer has two\n",
      "    > sub-layers. The first is a multi-head self-attention mechanism, and the second is\n",
      "    > a simple, position-wise fully connected feed-forward network. ... To facilitate\n",
      "    > these residual connections, all sub-layers in the model, as well as the embedding\n",
      "    > layers, produce outputs of dimension d_model = 512.\n",
      "\n",
      "    > Instead of performing a single attention function with d_model dimensional\n",
      "    > keys, values and queries, we found it beneficial to linearly project\n",
      "    > the queries, keys and values h times with different, learned linear projections\n",
      "    > to d_k, d_k and d_v dimensions, respectively.\n",
      "    > On each of these projected versions of queries, keys and values we then perform\n",
      "    > the attention function in parallel, yielding d_v dimensional output values.\n",
      "    > In this work we employ h = 8 parallel attention layers, or heads. For each of\n",
      "    > these we use dk = dv = dmodel /h = 64.\n",
      "\n",
      "    > We apply dropout to the output of each sub-layer, before it is added to the\n",
      "    > sub-layer input and normalized. In addition, we apply dropout to the sums of the\n",
      "    > embeddings and the positional encodings in both the encoder and decoder stacks.\n",
      "    > For the base model, we use a rate p_drop = 0.1.\n",
      "    \"\"\"\n",
      "    @property\n",
      "    def D(self) -> int:     # pylint: disable=invalid-name\n",
      "        \"\"\"Dimensions (number of features) of the embedding vector d_model.\n",
      "        \"\"\"\n",
      "        return self._D\n",
      "\n",
      "    @property\n",
      "    def H(self) -> int:     # pylint: disable=invalid-name\n",
      "        \"\"\"Number of attention heads\"\"\"\n",
      "        return self._H\n",
      "\n",
      "    @property\n",
      "    def T(self) -> int:     # pylint: disable=invalid-name\n",
      "        \"\"\"Max time steps or max sequence length\"\"\"\n",
      "        return self._T\n",
      "\n",
      "    def __init__(\n",
      "            self,\n",
      "            num_heads: int = 8,\n",
      "            d_model: int = 512,\n",
      "            dtype: type = TYPE_FLOAT,\n",
      "            do_mask: bool = False,\n",
      "            max_time_steps: int = 512,\n",
      "            bias: bool = True,\n",
      "            p_drop: float = 0.1,\n",
      "    ):\n",
      "        \"\"\"Multi Head Attention initialization.\n",
      "        Args:\n",
      "            num_heads: number of attention heads\n",
      "            d_model: dimensions of the model embedding vector.\n",
      "            dtype: data type\n",
      "            do_mask: True when execute masking to not calculate attention with future time steps\n",
      "            max_time_steps: max sequence length or time steps T.\n",
      "            bias: Ture if learning the additive bias at the linear layer.\n",
      "            p_drop: dropout rate.\n",
      "        \"\"\"\n",
      "        super().__init__()\n",
      "        self._D: int = d_model              # pylint: disable=invalid-name\n",
      "        self._H: int = num_heads            # pylint: disable=invalid-name\n",
      "        self._T: int = max_time_steps       # pylint: disable=invalid-name\n",
      "\n",
      "        # To transfer embedded token of dim_input features to Q space of d_model features\n",
      "        self.Wq: nn.Module = nn.Linear(     # pylint: disable=invalid-name\n",
      "            in_features=d_model,\n",
      "            out_features=d_model,\n",
      "            dtype=dtype,\n",
      "            bias=bias\n",
      "        )\n",
      "        # To transfer embedded token of dim_input features to K space of d_model features\n",
      "        self.Wk: nn.Module = nn.Linear(     # pylint: disable=invalid-name\n",
      "            in_features=d_model,\n",
      "            out_features=d_model,\n",
      "            dtype=dtype,\n",
      "            bias=bias\n",
      "        )\n",
      "        # To transfer embedded token of dim_input features to V space of d_model features\n",
      "        self.Wv: nn.Module = nn.Linear(     # pylint: disable=invalid-name\n",
      "            in_features=d_model,\n",
      "            out_features=d_model,\n",
      "            dtype=dtype,\n",
      "            bias=bias\n",
      "        )\n",
      "        # Project to apply to the concatenated output of Self Dot Product Attention\n",
      "        self.Wo: nn.Module = nn.Linear(     # pylint: disable=invalid-name\n",
      "            in_features=d_model,\n",
      "            out_features=d_model,\n",
      "            dtype=dtype,\n",
      "            bias=bias\n",
      "        )\n",
      "        self.scaled_dot_product_attention: nn.Module = ScaledDotProductAttention(\n",
      "            do_mask=do_mask,\n",
      "            max_time_steps=max_time_steps\n",
      "        )\n",
      "        self.dropout: nn.Module = nn.Dropout(\n",
      "            p=p_drop\n",
      "        )\n",
      "\n",
      "    def forward(\n",
      "            self,\n",
      "            x\n",
      "    ):\n",
      "        \"\"\"Run multi head attention\n",
      "        Args:\n",
      "            x: input embedding vector of shape (B,T,D)\n",
      "\n",
      "        Returns: Attention values of shape (B,T,D)\n",
      "        \"\"\"\n",
      "        # pylint: disable=invalid-name\n",
      "        assert x.ndim == 3\n",
      "        B, T, _D = x.shape      # Batch, Tokens (or sequence length), Dimension\n",
      "        assert _D == self.D, \\\n",
      "            f\"input vector dimension is invalid, expected [{self.D}], got [{_D}].\"\n",
      "\n",
      "        # --------------------------------------------------------------------------------\n",
      "        # Transfer x into Q, K, V spaces. Corresponds to the first 'Linear' layers in\n",
      "        # the figure 2 of the original paper. In the paper, there are H number of Linear\n",
      "        # layers Q, K, V respectively, but no need to physically split into H number of\n",
      "        # Linear layers. Instead, use one Linear layer Wq, Wk, Wv for Q, K, V respectively.\n",
      "        # --------------------------------------------------------------------------------\n",
      "        q: Tensor = self.Wq(x)   # Transfer to Q space. Shape=(B, T, D)\n",
      "        k: Tensor = self.Wk(x)   # Transfer to K space. Shape=(B, T, D)\n",
      "        v: Tensor = self.Wv(x)   # Transfer to V space. Shape=(B, T, D)\n",
      "        assert q.shape == (self.B, self.T, self.D)\n",
      "        assert k.shape == (self.B, self.T, self.D)\n",
      "\n",
      "        # --------------------------------------------------------------------------------\n",
      "        # Split into H segments for multiple heads to attend.\n",
      "        # --------------------------------------------------------------------------------\n",
      "        q = split(x=q, h=self.H)    # (B, H, T, d)\n",
      "        k = split(x=k, h=self.H)    # (B, H, T, d)\n",
      "        v = split(x=v, h=self.H)    # (B, H, T, d)\n",
      "\n",
      "        # --------------------------------------------------------------------------------\n",
      "        # Calculate self attention values\n",
      "        # --------------------------------------------------------------------------------\n",
      "        attentions: Tensor = self.scaled_dot_product_attention(q=q, k=k, v=v)\n",
      "        assert attentions.shape == (B, self.H, T, self.D/self.H)\n",
      "\n",
      "        # --------------------------------------------------------------------------------\n",
      "        # Concatenate outputs from heads into the model output with reshape.\n",
      "        # First (B,H,T,d)->(B,T,H,d) then to (B,T,D)\n",
      "        # --------------------------------------------------------------------------------\n",
      "        attentions = attentions.transpose(2, 1).view(B, T, -1)\n",
      "        assert attentions.shape == (B, T, self.D)\n",
      "\n",
      "        # --------------------------------------------------------------------------------\n",
      "        # Last Wo Linear projection\n",
      "        # --------------------------------------------------------------------------------\n",
      "        attentions = self.Wo(attentions)    # (B,T,D)@(D,D) -> (B,T,D)\n",
      "\n",
      "        # --------------------------------------------------------------------------------\n",
      "        # Dropout\n",
      "        # --------------------------------------------------------------------------------\n",
      "        attentions = self.dropout(attentions)\n",
      "        assert attentions.shape == (B, T, self.D)\n",
      "\n",
      "        return attentions.contiguous()\n",
      "\n"
     ]
    }
   ],
   "source": [
    "print(inspect.getsource(MultiHeadAttention))"
   ]
  },
  {
   "cell_type": "code",
   "execution_count": 17,
   "id": "c85ff1bb-3431-4400-97ea-18e140b3e297",
   "metadata": {},
   "outputs": [],
   "source": [
    "B = 2\n",
    "T = 8\n",
    "C = 4\n",
    "\n",
    "mha = MultiHeadAttention(\n",
    "    num_heads=2,\n",
    "    dim_input=C,\n",
    "    dim_output=C,\n",
    "    bias=True,\n",
    "    dropout_ratio=0.0\n",
    ")\n",
    "\n",
    "\n",
    "x = torch.randn(B,T,C)"
   ]
  },
  {
   "cell_type": "markdown",
   "id": "0dea5fac-4b0e-453b-a073-5e49dab46628",
   "metadata": {},
   "source": [
    "# Positionwise Feed Forward\n",
    "\n",
    "This is a single hidden layer neural network with ReLU activation. Here the features in the attention vector of each token can be amplified or supressed by weights, and multiple combination of features can form a new feature as the output.\n",
    "\n",
    "<img src=\"./image/transformer_paper_pointwise_feedforward.png\" align=\"left\" width=700/>"
   ]
  },
  {
   "cell_type": "code",
   "execution_count": 11,
   "id": "6e5cc56c-2c6b-4286-9a9a-1213b828a38d",
   "metadata": {},
   "outputs": [
    {
     "name": "stdout",
     "output_type": "stream",
     "text": [
      "class PositionwiseFeedForward(nn.Module):\n",
      "    \"\"\"Class to implementation of Position-wise Feed-Forward Networks.\n",
      "    This is a single hidden layer nural network with ReLU activation.\n",
      "\n",
      "    Citation:\n",
      "    > The encoder is composed of a stack of N = 6 identical layers. Each layer has two\n",
      "    > sub-layers. The first is a multi-head self-attention mechanism, and the second is\n",
      "    > a simple, position-wise fully connected feed-forward network. ... To facilitate\n",
      "    > these residual connections, all sub-layers in the model, as well as the embedding\n",
      "    > layers, produce outputs of dimension d_model = 512.\n",
      "\n",
      "    > We apply dropout to the output of each sub-layer, before it is added to the\n",
      "    > sub-layer input and normalized. In addition, we apply dropout to the sums of the\n",
      "    > embeddings and the positional encodings in both the encoder and decoder stacks.\n",
      "    > For the base model, we use a rate p_drop = 0.1.\n",
      "\n",
      "    > each of the layers in our encoder and decoder contains a fully connected feed-forward\n",
      "    > network, which is applied to each position separately and identically. This consists\n",
      "    > of two linear transformations with a ReLU activation in between.\n",
      "    > Another way of describing this is as two convolutions with kernel size 1.\n",
      "    > The dimensionality of input and output is dmodel = 512, and the inner-layer has\n",
      "    > dimensionality of d_ff = 2048.\n",
      "    \"\"\"\n",
      "    def __init__(\n",
      "            self,\n",
      "            d_model: int = 512,\n",
      "            d_ff: int = 2048,\n",
      "            dtype: type = TYPE_FLOAT,\n",
      "            bias: bool = True,\n",
      "            p_drop: float = 0.1\n",
      "    ):\n",
      "        \"\"\"Initialize the class\n",
      "        Args:\n",
      "            d_model: dimensions of the model embedding vector.\n",
      "            d_ff: dimensions of the hidden layer output vector\n",
      "            dtype: data type\n",
      "            bias: True to learn additive bias in the layer.\n",
      "            p_drop: dropout rate.\n",
      "        \"\"\"\n",
      "        super().__init__()\n",
      "        self.W1: nn.Module = nn.Linear(\n",
      "            in_features=d_model, out_features=d_ff, bias=bias, dtype=dtype\n",
      "        )\n",
      "        self.relu = nn.ReLU()\n",
      "        self.W2: nn.Module = nn.Linear(\n",
      "            in_features=d_ff, out_features=d_model, bias=bias, dtype=dtype\n",
      "        )\n",
      "        self.dropout: nn.Module = nn.Dropout(p=p_drop)\n",
      "\n",
      "    def forward(self, x):\n",
      "        \"\"\"Feed-forward neural network forward propagation\n",
      "        Args:\n",
      "            x: input embedding vector of shape (B,T,D)\n",
      "\n",
      "        Returns: output embedding vector of shape (B,T,D)\n",
      "        \"\"\"\n",
      "        return self.dropout(self.W2(self.relu(self.W1(x))))\n",
      "\n"
     ]
    }
   ],
   "source": [
    "print(inspect.getsource(PositionwiseFeedForward))"
   ]
  },
  {
   "cell_type": "markdown",
   "id": "abbc10b4-18fd-45a2-8611-c6067002774a",
   "metadata": {},
   "source": [
    "# Encoder\n",
    "\n"
   ]
  },
  {
   "cell_type": "code",
   "execution_count": 12,
   "id": "35f0277d-bd61-4cd6-805d-a77d5b389588",
   "metadata": {},
   "outputs": [
    {
     "name": "stdout",
     "output_type": "stream",
     "text": [
      "class Encoder(nn.Module):\n",
      "    \"\"\"Class to implement Transformer Encoder.\n",
      "    Citation:\n",
      "    > In addition, we apply dropout to the sums of the embeddings and\n",
      "    > the positional encodings in both the encoder and decoder stacks.\n",
      "    > For the base model, we use a rate p_drop = 0.1.\n",
      "    \"\"\"\n",
      "    @property\n",
      "    def D(self) -> int:\n",
      "        \"\"\"Dimension of the model embedding vector\n",
      "        \"\"\"\n",
      "        return self._D\n",
      "\n",
      "    def __init__(\n",
      "            self,\n",
      "            vocabulary_size: int,\n",
      "            max_positional_length: int = 5000,\n",
      "            num_layers: int = 6,\n",
      "            num_heads: int = 8,\n",
      "            d_model: int = 512,\n",
      "            dtype: type = TYPE_FLOAT,\n",
      "            d_ff: int = 2048,\n",
      "            do_mask: bool = False,\n",
      "            max_time_steps: int = 512,\n",
      "            bias: bool = True,\n",
      "            p_drop: float = 0.1,\n",
      "            eps: float = 1e-5\n",
      "    ):\n",
      "        super().__init__()\n",
      "        self._D: int = d_model\n",
      "\n",
      "        self.embedding: nn.Embedding = nn.Embedding(\n",
      "            num_embeddings=vocabulary_size,\n",
      "            embedding_dim=d_model\n",
      "        )\n",
      "        self.positional_encoding: PositionalEncoding = PositionalEncoding(\n",
      "            d_model=d_model,\n",
      "            max_positional_length=max_positional_length,\n",
      "            p_drop=p_drop\n",
      "        )\n",
      "        self.dropout: nn.Dropout = nn.Dropout(p=p_drop)\n",
      "        self.layers: nn.ModuleList = nn.ModuleList([\n",
      "            EncodeLayer(\n",
      "                num_heads=num_heads, d_model=d_model, dtype=dtype, d_ff=d_ff,\n",
      "                do_mask=do_mask, max_time_steps=max_time_steps, bias=bias,\n",
      "                p_drop=p_drop, eps=eps\n",
      "            ) for _ in range(num_layers)\n",
      "        ])\n",
      "\n",
      "    def forward(self, indices: Tensor):\n",
      "        \"\"\"Encode\n",
      "        Args:\n",
      "            indices: indices to tokens\n",
      "        \"\"\"\n",
      "        B, T = indices.shape\n",
      "\n",
      "        # Embedding.\n",
      "        # > In the embedding layers, we multiply those weights by dmodel .\n",
      "        x = self.embedding(indices) * math.sqrt(self.D)\n",
      "\n",
      "        # Positional embedding.\n",
      "        positions = torch.arange(0, T, dtype=torch.long, device=indices.device)\n",
      "        x += self.positional_encoding(positions)\n",
      "        x = self.dropout(x)\n",
      "\n",
      "        # Encoder stack\n",
      "        for _layer in self.layers:\n",
      "            x = _layer(x)\n",
      "\n",
      "        return x\n",
      "\n"
     ]
    }
   ],
   "source": [
    "print(inspect.getsource(Encoder))"
   ]
  },
  {
   "cell_type": "code",
   "execution_count": null,
   "id": "d904ec8d-a58f-4f67-8678-b1acb6ba4547",
   "metadata": {},
   "outputs": [],
   "source": [
    "torch.tensor"
   ]
  },
  {
   "cell_type": "code",
   "execution_count": null,
   "id": "0e1aa6aa-ea88-4a1c-8c3b-25ea3dcf1d7e",
   "metadata": {},
   "outputs": [],
   "source": [
    "np.exp(0.1)"
   ]
  },
  {
   "cell_type": "code",
   "execution_count": null,
   "id": "577465c0-99a3-4b1c-a248-8ffec4ab0631",
   "metadata": {},
   "outputs": [],
   "source": [
    "np.exp(0.4)"
   ]
  }
 ],
 "metadata": {
  "kernelspec": {
   "display_name": "Python 3 (ipykernel)",
   "language": "python",
   "name": "python3"
  },
  "language_info": {
   "codemirror_mode": {
    "name": "ipython",
    "version": 3
   },
   "file_extension": ".py",
   "mimetype": "text/x-python",
   "name": "python",
   "nbconvert_exporter": "python",
   "pygments_lexer": "ipython3",
   "version": "3.10.12"
  }
 },
 "nbformat": 4,
 "nbformat_minor": 5
}
