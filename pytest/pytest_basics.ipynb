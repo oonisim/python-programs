{
 "cells": [
  {
   "cell_type": "markdown",
   "id": "59bb5bc5",
   "metadata": {},
   "source": [
    "# Pytest Basics\n",
    "\n",
    "## References\n",
    "\n",
    "* [Pytest Getting Started](https://docs.pytest.org/en/7.1.x/getting-started.html)\n",
    "* [Pytest API](https://docs.pytest.org/en/latest/reference/reference.html#api-reference)\n",
    "* [Basic patterns and examples](https://docs.pytest.org/en/7.1.x/example/simple.html#basic-patterns-and-examples)"
   ]
  },
  {
   "cell_type": "code",
   "execution_count": null,
   "id": "b40804f1",
   "metadata": {},
   "outputs": [],
   "source": []
  }
 ],
 "metadata": {
  "kernelspec": {
   "display_name": "Python 3 (ipykernel)",
   "language": "python",
   "name": "python3"
  },
  "language_info": {
   "codemirror_mode": {
    "name": "ipython",
    "version": 3
   },
   "file_extension": ".py",
   "mimetype": "text/x-python",
   "name": "python",
   "nbconvert_exporter": "python",
   "pygments_lexer": "ipython3",
   "version": "3.9.13"
  }
 },
 "nbformat": 4,
 "nbformat_minor": 5
}
