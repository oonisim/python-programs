{
 "cells": [
  {
   "cell_type": "markdown",
   "source": [
    "# How to test sys.argv arguments\n",
    "\n",
    "* [How do I set sys.argv so I can unit test it?](https://stackoverflow.com/a/27765993/4281353)\n",
    "\n",
    "> Changing sys.argv at runtime is a pretty fragile way of testing. You should use mock's patch functionality, which can be used as a context manager to substitute one object (or attribute, method, function, etc.) with another, within a given block of code.\n",
    "> ```\n",
    "> args = [\"script_name\", \"-log-level\", 10]\n",
    "> with unittest.mock.patch('sys.argv'. args):\n",
    "> ```"
   ],
   "metadata": {
    "collapsed": false
   },
   "id": "89c88c836d521abd"
  },
  {
   "cell_type": "code",
   "execution_count": 4,
   "outputs": [],
   "source": [
    "import sys\n",
    "import unittest.mock"
   ],
   "metadata": {
    "collapsed": false,
    "ExecuteTime": {
     "end_time": "2023-12-29T23:28:37.239253098Z",
     "start_time": "2023-12-29T23:28:37.198561224Z"
    }
   },
   "id": "107cb82a07307d44"
  },
  {
   "cell_type": "code",
   "execution_count": 6,
   "outputs": [
    {
     "name": "stdout",
     "output_type": "stream",
     "text": [
      "['-log-level', 10, '-f', 'path/to/file']\n"
     ]
    }
   ],
   "source": [
    "args = [\"script_name\", \"-log-level\", 10, \"-f\", \"path/to/file\"]\n",
    "with unittest.mock.patch('sys.argv', args):\n",
    "    print(sys.argv[1:])"
   ],
   "metadata": {
    "collapsed": false,
    "ExecuteTime": {
     "end_time": "2023-12-29T23:29:06.459131998Z",
     "start_time": "2023-12-29T23:29:06.453193317Z"
    }
   },
   "id": "b15ff92cb266403d"
  }
 ],
 "metadata": {
  "kernelspec": {
   "display_name": "Python 3",
   "language": "python",
   "name": "python3"
  },
  "language_info": {
   "codemirror_mode": {
    "name": "ipython",
    "version": 2
   },
   "file_extension": ".py",
   "mimetype": "text/x-python",
   "name": "python",
   "nbconvert_exporter": "python",
   "pygments_lexer": "ipython2",
   "version": "2.7.6"
  }
 },
 "nbformat": 4,
 "nbformat_minor": 5
}
