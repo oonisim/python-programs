{
 "cells": [
  {
   "cell_type": "markdown",
   "id": "03ab4059",
   "metadata": {},
   "source": [
    "# Enable live log\n",
    "\n",
    "* pytest [live log](https://docs.pytest.org/en/7.1.x/how-to/logging.html#live-logs)\n",
    "\n",
    "> Override **log_cli** option and setting to true, pytest will output logging records as they are emitted into the console.  \n",
    "> --log-cli-level to set the logging level,\n",
    "\n",
    "## Override .ini \n",
    "\n",
    "> -o OVERRIDE_INI, --override-ini=OVERRIDE_INI"
   ]
  },
  {
   "cell_type": "code",
   "execution_count": 1,
   "id": "32049834",
   "metadata": {},
   "outputs": [
    {
     "name": "stdout",
     "output_type": "stream",
     "text": [
      "\u001b[1m============================= test session starts ==============================\u001b[0m\r\n",
      "platform linux -- Python 3.9.5, pytest-7.2.0, pluggy-1.0.0\r\n",
      "rootdir: /home/oonisim/home/repository/git/oonisim/python-programs/pytest\r\n",
      "plugins: anyio-3.6.2, cov-4.0.0, xdist-3.0.2\r\n",
      "\u001b[1mcollecting ... \u001b[0m\u001b[1m\r",
      "collected 0 items                                                              \u001b[0m\r\n",
      "\r\n",
      "\u001b[33m============================ \u001b[33mno tests ran\u001b[0m\u001b[33m in 0.02s\u001b[0m\u001b[33m =============================\u001b[0m\r\n"
     ]
    }
   ],
   "source": [
    "!pytest -o log_cli=true --log-cli-level=DEBUG"
   ]
  },
  {
   "cell_type": "code",
   "execution_count": null,
   "id": "136125cf",
   "metadata": {},
   "outputs": [],
   "source": []
  }
 ],
 "metadata": {
  "kernelspec": {
   "display_name": "Python 3 (ipykernel)",
   "language": "python",
   "name": "python3"
  },
  "language_info": {
   "codemirror_mode": {
    "name": "ipython",
    "version": 3
   },
   "file_extension": ".py",
   "mimetype": "text/x-python",
   "name": "python",
   "nbconvert_exporter": "python",
   "pygments_lexer": "ipython3",
   "version": "3.9.13"
  }
 },
 "nbformat": 4,
 "nbformat_minor": 5
}
