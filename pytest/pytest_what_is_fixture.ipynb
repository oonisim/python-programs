{
 "cells": [
  {
   "cell_type": "markdown",
   "id": "01607943",
   "metadata": {},
   "source": [
    "# What is Pytest Fixtures\n",
    "\n",
    "It is a mechanism to access the environment or context of Pytest. **Should have used a better terminology e.g. Context**.\n",
    "\n",
    "* Python provides ```sys``` package to access Python runtime enviornment, e.g. ```sys.path``` for PYTHONPATH.\n",
    "* Spring Framework provides ApplicationContext to access the context or environment of Spring.\n",
    "\n",
    "**Fixture** is an established terminology in testing.\n",
    "\n",
    "* [Test Fixture](https://en.wikipedia.org/wiki/Test_fixture)\n",
    "\n",
    "> A test fixture is an environment used to consistently test some item, device, or piece of software.\n",
    "\n",
    "## References\n",
    "\n",
    "* [About fixtures](https://docs.pytest.org/en/7.1.x/explanation/fixtures.html#about-fixtures)\n",
    "* [How to use fixtures](https://docs.pytest.org/en/7.1.x/how-to/fixtures.html)\n",
    "* [github pytest fixtures.py](https://github.com/pytest-dev/pytest/blob/main/src/_pytest/fixtures.py)"
   ]
  },
  {
   "cell_type": "code",
   "execution_count": 1,
   "id": "a45be831",
   "metadata": {},
   "outputs": [],
   "source": [
    "import pytest"
   ]
  },
  {
   "cell_type": "markdown",
   "id": "bf09d7bb",
   "metadata": {},
   "source": [
    "# Built-in Fixture Functions\n",
    "\n",
    "Pytest provides several pre-defined fixtures.\n",
    "\n",
    "* [pytest fixtures](https://docs.pytest.org/en/6.2.x/fixture.html)"
   ]
  },
  {
   "cell_type": "code",
   "execution_count": 2,
   "id": "6dec8f02",
   "metadata": {},
   "outputs": [
    {
     "name": "stdout",
     "output_type": "stream",
     "text": [
      "\u001b[1m============================= test session starts ==============================\u001b[0m\n",
      "platform darwin -- Python 3.9.13, pytest-7.2.0, pluggy-1.0.0\n",
      "rootdir: /Users/oonisim/home/repository/git/oonisim/python-programs/pytest\n",
      "plugins: xdist-3.0.2, anyio-3.6.2\n",
      "collected 0 items                                                              \u001b[0m\u001b[1m\n",
      "\u001b[32mcache\u001b[0m\u001b[33m -- .../_pytest/cacheprovider.py:510\u001b[0m\n",
      "    Return a cache object that can persist state between testing sessions.\n",
      "\n",
      "\u001b[32mcapsys\u001b[0m\u001b[33m -- .../_pytest/capture.py:905\u001b[0m\n",
      "    Enable text capturing of writes to ``sys.stdout`` and ``sys.stderr``.\n",
      "\n",
      "\u001b[32mcapsysbinary\u001b[0m\u001b[33m -- .../_pytest/capture.py:933\u001b[0m\n",
      "    Enable bytes capturing of writes to ``sys.stdout`` and ``sys.stderr``.\n",
      "\n",
      "\u001b[32mcapfd\u001b[0m\u001b[33m -- .../_pytest/capture.py:961\u001b[0m\n",
      "    Enable text capturing of writes to file descriptors ``1`` and ``2``.\n",
      "\n",
      "\u001b[32mcapfdbinary\u001b[0m\u001b[33m -- .../_pytest/capture.py:989\u001b[0m\n",
      "    Enable bytes capturing of writes to file descriptors ``1`` and ``2``.\n",
      "\n",
      "\u001b[32mdoctest_namespace\u001b[0m\u001b[36m [session scope]\u001b[0m\u001b[33m -- .../_pytest/doctest.py:738\u001b[0m\n",
      "    Fixture that returns a :py:class:`dict` that will be injected into the\n",
      "    namespace of doctests.\n",
      "\n",
      "\u001b[32mpytestconfig\u001b[0m\u001b[36m [session scope]\u001b[0m\u001b[33m -- .../_pytest/fixtures.py:1351\u001b[0m\n",
      "    Session-scoped fixture that returns the session's :class:`pytest.Config`\n",
      "    object.\n",
      "\n",
      "\u001b[32mrecord_property\u001b[0m\u001b[33m -- .../_pytest/junitxml.py:282\u001b[0m\n",
      "    Add extra properties to the calling test.\n",
      "\n",
      "\u001b[32mrecord_xml_attribute\u001b[0m\u001b[33m -- .../_pytest/junitxml.py:305\u001b[0m\n",
      "    Add extra xml attributes to the tag for the calling test.\n",
      "\n",
      "\u001b[32mrecord_testsuite_property\u001b[0m\u001b[36m [session scope]\u001b[0m\u001b[33m -- .../_pytest/junitxml.py:343\u001b[0m\n",
      "    Record a new ``<property>`` tag as child of the root ``<testsuite>``.\n",
      "\n",
      "\u001b[32mtmpdir_factory\u001b[0m\u001b[36m [session scope]\u001b[0m\u001b[33m -- .../_pytest/legacypath.py:302\u001b[0m\n",
      "    Return a :class:`pytest.TempdirFactory` instance for the test session.\n",
      "\n",
      "\u001b[32mtmpdir\u001b[0m\u001b[33m -- .../_pytest/legacypath.py:309\u001b[0m\n",
      "    Return a temporary directory path object which is unique to each test\n",
      "    function invocation, created as a sub directory of the base temporary\n",
      "    directory.\n",
      "\n",
      "\u001b[32mcaplog\u001b[0m\u001b[33m -- .../_pytest/logging.py:491\u001b[0m\n",
      "    Access and control log capturing.\n",
      "\n",
      "\u001b[32mmonkeypatch\u001b[0m\u001b[33m -- .../_pytest/monkeypatch.py:29\u001b[0m\n",
      "    A convenient fixture for monkey-patching.\n",
      "\n",
      "\u001b[32mrecwarn\u001b[0m\u001b[33m -- .../_pytest/recwarn.py:30\u001b[0m\n",
      "    Return a :class:`WarningsRecorder` instance that records all warnings emitted by test functions.\n",
      "\n",
      "\u001b[32mtmp_path_factory\u001b[0m\u001b[36m [session scope]\u001b[0m\u001b[33m -- .../_pytest/tmpdir.py:188\u001b[0m\n",
      "    Return a :class:`pytest.TempPathFactory` instance for the test session.\n",
      "\n",
      "\u001b[32mtmp_path\u001b[0m\u001b[33m -- .../_pytest/tmpdir.py:203\u001b[0m\n",
      "    Return a temporary directory path object which is unique to each test\n",
      "    function invocation, created as a sub directory of the base temporary\n",
      "    directory.\n",
      "\n",
      "\n",
      "------------------ fixtures defined from anyio.pytest_plugin -------------------\n",
      "\u001b[32manyio_backend\u001b[0m\u001b[33m -- ../../../../../../venv/ml/lib/python3.9/site-packages/anyio/pytest_plugin.py:127\u001b[0m\n",
      "\u001b[31m    no docstring available\u001b[0m\n",
      "\n",
      "\u001b[32manyio_backend_name\u001b[0m\u001b[33m -- ../../../../../../venv/ml/lib/python3.9/site-packages/anyio/pytest_plugin.py:132\u001b[0m\n",
      "\u001b[31m    no docstring available\u001b[0m\n",
      "\n",
      "\u001b[32manyio_backend_options\u001b[0m\u001b[33m -- ../../../../../../venv/ml/lib/python3.9/site-packages/anyio/pytest_plugin.py:140\u001b[0m\n",
      "\u001b[31m    no docstring available\u001b[0m\n",
      "\n",
      "\n",
      "---------------------- fixtures defined from xdist.plugin ----------------------\n",
      "\u001b[32mworker_id\u001b[0m\u001b[36m [session scope]\u001b[0m\u001b[33m -- ../../../../../../venv/ml/lib/python3.9/site-packages/xdist/plugin.py:298\u001b[0m\n",
      "    Return the id of the current worker ('gw0', 'gw1', etc) or 'master'\n",
      "    if running on the master node.\n",
      "\n",
      "\u001b[32mtestrun_uid\u001b[0m\u001b[36m [session scope]\u001b[0m\u001b[33m -- ../../../../../../venv/ml/lib/python3.9/site-packages/xdist/plugin.py:307\u001b[0m\n",
      "    Return the unique id of the current test.\n",
      "\n",
      "\n",
      "\u001b[33m============================ \u001b[33mno tests ran\u001b[0m\u001b[33m in 0.01s\u001b[0m\u001b[33m =============================\u001b[0m\n"
     ]
    }
   ],
   "source": [
    "!pytest --fixtures"
   ]
  },
  {
   "cell_type": "markdown",
   "id": "548cb8bf",
   "metadata": {},
   "source": [
    "# Only built-in fixture **names** available @pytest.fixture\n"
   ]
  },
  {
   "cell_type": "code",
   "execution_count": 3,
   "id": "6aaf394a",
   "metadata": {},
   "outputs": [],
   "source": [
    "!rm -f test_invalid_fixture.py"
   ]
  },
  {
   "cell_type": "code",
   "execution_count": 4,
   "id": "7d383aa4",
   "metadata": {},
   "outputs": [
    {
     "name": "stdout",
     "output_type": "stream",
     "text": [
      "Writing test_invalid_fixture.py\n"
     ]
    }
   ],
   "source": [
    "%%writefile test_invalid_fixture.py\n",
    "import pytest \n",
    "\n",
    "@pytest.fixture\n",
    "def input_i_need(can_i_use_my_fixture_name):\n",
    "    print(type(can_i_use_my_fixture_name))\n",
    "    \n",
    "def test_whatever(input_i_need):\n",
    "    pass"
   ]
  },
  {
   "cell_type": "code",
   "execution_count": 5,
   "id": "16149ce8",
   "metadata": {},
   "outputs": [
    {
     "name": "stdout",
     "output_type": "stream",
     "text": [
      "\u001b[1m============================= test session starts ==============================\u001b[0m\n",
      "platform darwin -- Python 3.9.13, pytest-7.2.0, pluggy-1.0.0\n",
      "rootdir: /Users/oonisim/home/repository/git/oonisim/python-programs/pytest\n",
      "plugins: xdist-3.0.2, anyio-3.6.2\n",
      "collected 1 item                                                               \u001b[0m\n",
      "\n",
      "test_invalid_fixture.py \u001b[31mE\u001b[0m\n",
      "\n",
      "==================================== ERRORS ====================================\n",
      "\u001b[31m\u001b[1m_______________________ ERROR at setup of test_whatever ________________________\u001b[0m\n",
      "file /Users/oonisim/home/repository/git/oonisim/python-programs/pytest/test_invalid_fixture.py, line 7\n",
      "  def test_whatever(input_i_need):\n",
      "file /Users/oonisim/home/repository/git/oonisim/python-programs/pytest/test_invalid_fixture.py, line 3\n",
      "  @pytest.fixture\n",
      "  def input_i_need(can_i_use_my_fixture_name):\n",
      "\u001b[31mE       fixture 'can_i_use_my_fixture_name' not found\u001b[0m\n",
      "\u001b[31m>       available fixtures: anyio_backend, anyio_backend_name, anyio_backend_options, cache, capfd, capfdbinary, caplog, capsys, capsysbinary, doctest_namespace, input_i_need, monkeypatch, pytestconfig, record_property, record_testsuite_property, record_xml_attribute, recwarn, testrun_uid, tmp_path, tmp_path_factory, tmpdir, tmpdir_factory, worker_id\u001b[0m\n",
      "\u001b[31m>       use 'pytest --fixtures [testpath]' for help on them.\u001b[0m\n",
      "\n",
      "/Users/oonisim/home/repository/git/oonisim/python-programs/pytest/test_invalid_fixture.py:3\n",
      "\u001b[36m\u001b[1m=========================== short test summary info ============================\u001b[0m\n",
      "\u001b[31mERROR\u001b[0m test_invalid_fixture.py::\u001b[1mtest_whatever\u001b[0m\n",
      "\u001b[31m=============================== \u001b[31m\u001b[1m1 error\u001b[0m\u001b[31m in 0.01s\u001b[0m\u001b[31m ===============================\u001b[0m\n"
     ]
    }
   ],
   "source": [
    "!pytest -s test_invalid_fixture.py"
   ]
  },
  {
   "cell_type": "code",
   "execution_count": 6,
   "id": "b48409d6",
   "metadata": {},
   "outputs": [],
   "source": [
    "!rm -f test_invalid_fixture.py"
   ]
  },
  {
   "cell_type": "markdown",
   "id": "0ce5b118",
   "metadata": {},
   "source": [
    "---\n",
    "# Access Default Fixture\n",
    "\n",
    "## pytestconfig\n",
    "\n",
    "* [pytestconfig](https://docs.pytest.org/en/7.1.x/reference/reference.html#pytestconfig)\n",
    "\n",
    "> Session-scoped fixture that returns the session’s pytest.Config object.\n",
    "> ```\n",
    "> def test_foo(pytestconfig):\n",
    ">    if pytestconfig.getoption(\"verbose\") > 0:\n",
    "> ```"
   ]
  },
  {
   "cell_type": "code",
   "execution_count": 7,
   "id": "75c60196",
   "metadata": {},
   "outputs": [],
   "source": [
    "!rm -f test_pytestconfig_fixture.py"
   ]
  },
  {
   "cell_type": "code",
   "execution_count": 8,
   "id": "03cf40c8",
   "metadata": {},
   "outputs": [
    {
     "name": "stdout",
     "output_type": "stream",
     "text": [
      "Writing test_pytestconfig_fixture.py\n"
     ]
    }
   ],
   "source": [
    "%%writefile test_pytestconfig_fixture.py\n",
    "import string\n",
    "import pytest \n",
    "    \n",
    "def test_whatever(pytestconfig):\n",
    "    print(\"using pytestconfig\")\n",
    "    print(f\"type(pytestconfig):[{type(pytestconfig)}]\")\n",
    "    print(f\"args={pytestconfig.args}\")\n",
    "    print(f\"inipath={pytestconfig.inifile}\")\n",
    "    print(f\"verbose={pytestconfig.getoption('verbose')}\")\n",
    "    print(\"-\" * 80)\n",
    "    print(\"pytestconfig avilable attributes\")\n",
    "    print(\"-\" * 80)\n",
    "    for attr in dir(pytestconfig):\n",
    "        if attr[0] in string.ascii_lowercase: print(attr)"
   ]
  },
  {
   "cell_type": "code",
   "execution_count": 9,
   "id": "43ebb39b",
   "metadata": {},
   "outputs": [
    {
     "name": "stdout",
     "output_type": "stream",
     "text": [
      "\u001b[1m============================= test session starts ==============================\u001b[0m\r\n",
      "platform darwin -- Python 3.9.13, pytest-7.2.0, pluggy-1.0.0\r\n",
      "rootdir: /Users/oonisim/home/repository/git/oonisim/python-programs/pytest\r\n",
      "plugins: xdist-3.0.2, anyio-3.6.2\r\n",
      "\u001b[1mcollecting ... \u001b[0m\u001b[1m\r",
      "collected 1 item                                                               \u001b[0m\r\n",
      "\r\n",
      "test_pytestconfig_fixture.py using pytestconfig\r\n",
      "type(pytestconfig):[<class '_pytest.config.Config'>]\r\n",
      "args=['test_pytestconfig_fixture.py']\r\n",
      "inipath=None\r\n",
      "verbose=0\r\n",
      "--------------------------------------------------------------------------------\r\n",
      "pytestconfig avilable attributes\r\n",
      "--------------------------------------------------------------------------------\r\n",
      "add_cleanup\r\n",
      "addinivalue_line\r\n",
      "args\r\n",
      "args_source\r\n",
      "cache\r\n",
      "cwd_relative_nodeid\r\n",
      "fromdictargs\r\n",
      "get_terminal_writer\r\n",
      "getini\r\n",
      "getoption\r\n",
      "getvalue\r\n",
      "getvalueorskip\r\n",
      "hook\r\n",
      "inicfg\r\n",
      "inifile\r\n",
      "inipath\r\n",
      "invocation_dir\r\n",
      "invocation_params\r\n",
      "issue_config_time_warning\r\n",
      "known_args_namespace\r\n",
      "notify_exception\r\n",
      "option\r\n",
      "parse\r\n",
      "pluginmanager\r\n",
      "pytest_cmdline_parse\r\n",
      "pytest_collection\r\n",
      "pytest_load_initial_conftests\r\n",
      "rootdir\r\n",
      "rootpath\r\n",
      "stash\r\n",
      "trace\r\n",
      "\u001b[32m.\u001b[0m\r\n",
      "\r\n",
      "\u001b[32m============================== \u001b[32m\u001b[1m1 passed\u001b[0m\u001b[32m in 0.01s\u001b[0m\u001b[32m ===============================\u001b[0m\r\n"
     ]
    }
   ],
   "source": [
    "!pytest -s test_pytestconfig_fixture.py"
   ]
  },
  {
   "cell_type": "code",
   "execution_count": 10,
   "id": "cb7f5a5a",
   "metadata": {},
   "outputs": [],
   "source": [
    "!rm -f test_pytestconfig_fixture.py"
   ]
  },
  {
   "cell_type": "markdown",
   "id": "daccf925",
   "metadata": {},
   "source": [
    "## request\n",
    "\n",
    "* [request](https://docs.pytest.org/en/7.1.x/reference/reference.html#request)\n",
    "            \n",
    "> The **request** fixture is a special fixture providing information of the requesting test function.  \n",
    "> * class FixtureRequest[source]  \n",
    ">   A request for a fixture from a test or fixture function."
   ]
  },
  {
   "cell_type": "code",
   "execution_count": 11,
   "id": "1c81ab5f",
   "metadata": {},
   "outputs": [],
   "source": [
    "!rm -f test_request_fixture.py"
   ]
  },
  {
   "cell_type": "code",
   "execution_count": 12,
   "id": "e030e1b3",
   "metadata": {},
   "outputs": [
    {
     "name": "stdout",
     "output_type": "stream",
     "text": [
      "Writing test_request_fixture.py\n"
     ]
    }
   ],
   "source": [
    "%%writefile test_request_fixture.py\n",
    "import string\n",
    "import pytest \n",
    "    \n",
    "def test_whatever(request):\n",
    "    print(\"using request\")\n",
    "    print(f\"type(request):[{type(request)}]\")\n",
    "    print(\"-\" * 80)\n",
    "    print(\"request avilable attributes\")\n",
    "    print(\"-\" * 80)\n",
    "    for attr in dir(request):\n",
    "        if attr[0] in string.ascii_lowercase: print(attr)\n",
    "    print(\"-\" * 80)\n",
    "    print(f\"type(request.config):[{type(request.config)}]\")\n",
    "    print(f\"request.config.getoption(verbose)=[{request.config.getoption('verbose')}]\")"
   ]
  },
  {
   "cell_type": "code",
   "execution_count": 13,
   "id": "cb7ab09e",
   "metadata": {},
   "outputs": [
    {
     "name": "stdout",
     "output_type": "stream",
     "text": [
      "\u001b[1m============================= test session starts ==============================\u001b[0m\r\n",
      "platform darwin -- Python 3.9.13, pytest-7.2.0, pluggy-1.0.0\r\n",
      "rootdir: /Users/oonisim/home/repository/git/oonisim/python-programs/pytest\r\n",
      "plugins: xdist-3.0.2, anyio-3.6.2\r\n",
      "\u001b[1mcollecting ... \u001b[0m\u001b[1m\r",
      "collected 1 item                                                               \u001b[0m\r\n",
      "\r\n",
      "test_request_fixture.py using request\r\n",
      "type(request):[<class '_pytest.fixtures.FixtureRequest'>]\r\n",
      "--------------------------------------------------------------------------------\r\n",
      "request avilable attributes\r\n",
      "--------------------------------------------------------------------------------\r\n",
      "addfinalizer\r\n",
      "applymarker\r\n",
      "cls\r\n",
      "config\r\n",
      "fixturename\r\n",
      "fixturenames\r\n",
      "fspath\r\n",
      "function\r\n",
      "getfixturevalue\r\n",
      "instance\r\n",
      "keywords\r\n",
      "module\r\n",
      "node\r\n",
      "path\r\n",
      "raiseerror\r\n",
      "scope\r\n",
      "session\r\n",
      "--------------------------------------------------------------------------------\r\n",
      "type(request.config):[<class '_pytest.config.Config'>]\r\n",
      "request.config.getoption(verbose)=[0]\r\n",
      "\u001b[32m.\u001b[0m\r\n",
      "\r\n",
      "\u001b[32m============================== \u001b[32m\u001b[1m1 passed\u001b[0m\u001b[32m in 0.01s\u001b[0m\u001b[32m ===============================\u001b[0m\r\n"
     ]
    }
   ],
   "source": [
    "!pytest -s test_request_fixture.py"
   ]
  },
  {
   "cell_type": "code",
   "execution_count": 14,
   "id": "f6bca004",
   "metadata": {},
   "outputs": [],
   "source": [
    "!rm -f test_request_fixture.py"
   ]
  },
  {
   "cell_type": "markdown",
   "id": "86c4011e",
   "metadata": {},
   "source": [
    "---\n",
    "# Pass command line arguments to test functions\n",
    "\n",
    "You need ```conftest.py``` that defines the command line arguments.\n",
    "\n",
    "* [pytest_addoption](https://docs.pytest.org/en/latest/reference/reference.html#pytest.hookspec.pytest_addoption)\n",
    "\n",
    "> * pytest_addoption(parser, pluginmanager)  <br>\n",
    ">\n",
    "> Register argparse-style options and ini-style config values, called once at the beginning of a test run.  \n",
    ">\n",
    "> **Note:**  \n",
    "> This function should be implemented only in plugins or **conftest.py** files situated at the tests root directory due to how pytest discovers plugins during startup.\n",
    "\n",
    "* [Pass different values to a test function, depending on command line options](https://docs.pytest.org/en/7.1.x/example/simple.html#pass-different-values-to-a-test-function-depending-on-command-line-options)"
   ]
  },
  {
   "cell_type": "code",
   "execution_count": 15,
   "id": "f32b68cf",
   "metadata": {},
   "outputs": [],
   "source": [
    "!rm -f conftest.py test_command_line_arguments.py"
   ]
  },
  {
   "cell_type": "code",
   "execution_count": 16,
   "id": "5a9b8d02",
   "metadata": {},
   "outputs": [
    {
     "name": "stdout",
     "output_type": "stream",
     "text": [
      "Writing conftest.py\n"
     ]
    }
   ],
   "source": [
    "%%writefile conftest.py\n",
    "def pytest_addoption(parser):\n",
    "    parser.addoption(\n",
    "        \"--my-option\", action=\"store\", default=\"default_value_01\", help=\"my option: default_value_01\"\n",
    "    )\n",
    "    parser.addoption(\n",
    "        \"--data-directory\", action=\"store\", default=\"default_directory\", help=\"path to data directory\"\n",
    "    )"
   ]
  },
  {
   "cell_type": "code",
   "execution_count": 17,
   "id": "827f4a03",
   "metadata": {},
   "outputs": [
    {
     "name": "stdout",
     "output_type": "stream",
     "text": [
      "Writing test_command_line_arguments.py\n"
     ]
    }
   ],
   "source": [
    "%%writefile test_command_line_arguments.py\n",
    "import pytest\n",
    "\n",
    "def test_whatever(request, pytestconfig):\n",
    "    print(request.config.getoption(\"--my-option\"))\n",
    "    print(pytestconfig.getoption(\"--default_directory\"))"
   ]
  },
  {
   "cell_type": "markdown",
   "id": "5b500089",
   "metadata": {},
   "source": [
    "You need to place <arg>=<value> **BEFORE** test file name."
   ]
  },
  {
   "cell_type": "code",
   "execution_count": 18,
   "id": "c3aaa205",
   "metadata": {},
   "outputs": [
    {
     "name": "stdout",
     "output_type": "stream",
     "text": [
      "\n",
      "\u001b[33m\u001b[33mno tests ran\u001b[0m\u001b[33m in 0.00s\u001b[0m\u001b[0m\n",
      "\u001b[31mERROR: file or directory not found: test_command_line_argument.py\n",
      "\u001b[0m\n"
     ]
    }
   ],
   "source": [
    "!pytest -s -q --my-option=hoge --data-directory=tako test_command_line_argument.py "
   ]
  },
  {
   "cell_type": "code",
   "execution_count": 19,
   "id": "ccc9c7d2",
   "metadata": {},
   "outputs": [],
   "source": [
    "!rm -f conftest.py test_command_line_arguments.py"
   ]
  }
 ],
 "metadata": {
  "kernelspec": {
   "display_name": "Python 3 (ipykernel)",
   "language": "python",
   "name": "python3"
  },
  "language_info": {
   "codemirror_mode": {
    "name": "ipython",
    "version": 3
   },
   "file_extension": ".py",
   "mimetype": "text/x-python",
   "name": "python",
   "nbconvert_exporter": "python",
   "pygments_lexer": "ipython3",
   "version": "3.9.13"
  }
 },
 "nbformat": 4,
 "nbformat_minor": 5
}
