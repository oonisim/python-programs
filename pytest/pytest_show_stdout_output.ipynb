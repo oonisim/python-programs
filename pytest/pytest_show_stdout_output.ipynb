{
 "cells": [
  {
   "cell_type": "markdown",
   "id": "1fe3b721",
   "metadata": {},
   "source": [
    "# How to show stdout output\n",
    "\n",
    "By default, pytest capture the stdout/stderr and does not show them.\n",
    "\n",
    "* [Default stdout/stderr/stdin capturing behaviour](https://docs.pytest.org/en/7.1.x/how-to/capture-stdout-stderr.html)\n",
    "\n",
    "> During test execution any output sent to stdout and stderr is captured.\n",
    "\n",
    "To show them:\n",
    "\n",
    "```\n",
    "pytest -s                  # disable all capturing\n",
    "```\n",
    "\n",
    "> -s is equivalent to --capture=no"
   ]
  },
  {
   "cell_type": "code",
   "execution_count": null,
   "id": "3b490d33",
   "metadata": {},
   "outputs": [],
   "source": []
  }
 ],
 "metadata": {
  "kernelspec": {
   "display_name": "Python 3 (ipykernel)",
   "language": "python",
   "name": "python3"
  },
  "language_info": {
   "codemirror_mode": {
    "name": "ipython",
    "version": 3
   },
   "file_extension": ".py",
   "mimetype": "text/x-python",
   "name": "python",
   "nbconvert_exporter": "python",
   "pygments_lexer": "ipython3",
   "version": "3.9.13"
  }
 },
 "nbformat": 4,
 "nbformat_minor": 5
}
