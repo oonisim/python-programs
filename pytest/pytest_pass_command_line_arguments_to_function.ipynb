{
 "cells": [
  {
   "cell_type": "markdown",
   "id": "489f5e01",
   "metadata": {},
   "source": [
    "---\n",
    "# Pass command line arguments to test functions\n",
    "\n",
    "You need ```conftest.py``` that defines the command line arguments.\n",
    "\n",
    "* [pytest_addoption](https://docs.pytest.org/en/latest/reference/reference.html#pytest.hookspec.pytest_addoption)\n",
    "\n",
    "> * pytest_addoption(parser, pluginmanager)  <br>\n",
    ">\n",
    "> Register argparse-style options and ini-style config values, called once at the beginning of a test run.  \n",
    ">\n",
    "> **Note:**  \n",
    "> This function should be implemented only in plugins or **conftest.py** files situated at the tests root directory due to how pytest discovers plugins during startup.\n",
    "\n",
    "* [Pass different values to a test function, depending on command line options](https://docs.pytest.org/en/7.1.x/example/simple.html#pass-different-values-to-a-test-function-depending-on-command-line-options)"
   ]
  },
  {
   "cell_type": "code",
   "execution_count": 6,
   "id": "39bda4b2",
   "metadata": {},
   "outputs": [],
   "source": [
    "!rm -f conftest.py test_command_line_arguments.py"
   ]
  },
  {
   "cell_type": "code",
   "execution_count": 7,
   "id": "6fdd3bfe",
   "metadata": {},
   "outputs": [
    {
     "name": "stdout",
     "output_type": "stream",
     "text": [
      "Writing conftest.py\n"
     ]
    }
   ],
   "source": [
    "%%writefile conftest.py\n",
    "def pytest_addoption(parser):\n",
    "    parser.addoption(\n",
    "        \"--my-option\", action=\"store\", default=\"default_value_01\", help=\"my option: default_value_01\"\n",
    "    )\n",
    "    parser.addoption(\n",
    "        \"--data-directory\", action=\"store\", default=\"default_directory\", help=\"path to data directory\"\n",
    "    )"
   ]
  },
  {
   "cell_type": "code",
   "execution_count": 11,
   "id": "10c1fcf9",
   "metadata": {},
   "outputs": [
    {
     "name": "stdout",
     "output_type": "stream",
     "text": [
      "Overwriting test_command_line_arguments.py\n"
     ]
    }
   ],
   "source": [
    "%%writefile test_command_line_arguments.py\n",
    "import pytest\n",
    "\n",
    "def test_whatever(request, pytestconfig):\n",
    "    print(request.config.getoption(\"--my-option\"))\n",
    "    print(pytestconfig.getoption(\"--data-directory\"))"
   ]
  },
  {
   "cell_type": "markdown",
   "id": "b284ddfe",
   "metadata": {},
   "source": [
    "You need to place <arg>=<value> **BEFORE** test file name."
   ]
  },
  {
   "cell_type": "code",
   "execution_count": 12,
   "id": "0b733fae",
   "metadata": {},
   "outputs": [
    {
     "name": "stdout",
     "output_type": "stream",
     "text": [
      "hoge\n",
      "tako\n",
      "\u001b[32m.\u001b[0m\n",
      "\u001b[32m\u001b[32m\u001b[1m1 passed\u001b[0m\u001b[32m in 0.00s\u001b[0m\u001b[0m\n"
     ]
    }
   ],
   "source": [
    "!pytest -s -q --my-option=hoge --data-directory=tako test_command_line_arguments.py "
   ]
  },
  {
   "cell_type": "code",
   "execution_count": 13,
   "id": "550ad79b",
   "metadata": {},
   "outputs": [],
   "source": [
    "!rm test_command_line_arguments.py"
   ]
  },
  {
   "cell_type": "code",
   "execution_count": null,
   "id": "70d9bcd9",
   "metadata": {},
   "outputs": [],
   "source": []
  }
 ],
 "metadata": {
  "kernelspec": {
   "display_name": "Python 3 (ipykernel)",
   "language": "python",
   "name": "python3"
  },
  "language_info": {
   "codemirror_mode": {
    "name": "ipython",
    "version": 3
   },
   "file_extension": ".py",
   "mimetype": "text/x-python",
   "name": "python",
   "nbconvert_exporter": "python",
   "pygments_lexer": "ipython3",
   "version": "3.9.13"
  }
 },
 "nbformat": 4,
 "nbformat_minor": 5
}
