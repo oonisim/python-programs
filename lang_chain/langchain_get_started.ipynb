{
 "cells": [
  {
   "cell_type": "markdown",
   "id": "5c803fce-66f5-438c-b200-5b4c653e8933",
   "metadata": {},
   "source": [
    "# Langchain Get Started\n",
    "\n",
    "* [Introduction](https://python.langchain.com/docs/get_started/introduction)\n",
    "\n",
    "Chain the modules using LCEL\n",
    "\n",
    "> LangChain Expression Language (LCEL) defines a Runnable interfaces of modules to chain."
   ]
  },
  {
   "cell_type": "code",
   "execution_count": 4,
   "id": "d8c546a2-4635-4bff-8383-4a3717619308",
   "metadata": {},
   "outputs": [],
   "source": [
    "# !pip install langchain\n",
    "# !pip install langchain-cli"
   ]
  },
  {
   "cell_type": "code",
   "execution_count": null,
   "id": "f718c140-f6ee-495f-a928-9a717d3ae361",
   "metadata": {},
   "outputs": [],
   "source": []
  }
 ],
 "metadata": {
  "kernelspec": {
   "display_name": "Python 3 (ipykernel)",
   "language": "python",
   "name": "python3"
  },
  "language_info": {
   "codemirror_mode": {
    "name": "ipython",
    "version": 3
   },
   "file_extension": ".py",
   "mimetype": "text/x-python",
   "name": "python",
   "nbconvert_exporter": "python",
   "pygments_lexer": "ipython3",
   "version": "3.10.10"
  }
 },
 "nbformat": 4,
 "nbformat_minor": 5
}
