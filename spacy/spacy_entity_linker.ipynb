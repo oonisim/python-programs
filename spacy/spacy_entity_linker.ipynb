{
 "cells": [
  {
   "cell_type": "markdown",
   "id": "80a8c708",
   "metadata": {},
   "source": [
    "# Spacy Entity Linker\n",
    "\n",
    "* [Spacy Entity Linker](https://github.com/egerber/spaCy-entity-linker#spacy-entity-linker)\n",
    "                    \n",
    "> Spacy Entity Linker is a pipeline for spaCy that performs Linked Entity Extraction with Wikidata on a given Document. The Entity Linking System operates by matching potential candidates from each sentence (subject, object, prepositional phrase, compounds, etc.) to aliases from Wikidata. \n",
    "> \n",
    "> The package allows to easily **find the category** behind each entity (e.g. \"banana\" is type \"food\" OR \"Microsoft\" is type \"company\"). It can is therefore useful for information extraction tasks and labeling tasks.\n",
    "> ```\n",
    "> pip install spacy-entity-linker\n",
    "> ```\n",
    "\n",
    "## Usage\n",
    "```\n",
    "# initialize language model\n",
    "nlp = spacy.load(\"en_core_web_md\")\n",
    "\n",
    "# add pipeline (declared through entry_points in setup.py)\n",
    "nlp.add_pipe(\"entityLinker\", last=True)\n",
    "```\n",
    "\n",
    "## EntityElement\n",
    "\n",
    "Each linked Entity is an object of type EntityElement\n",
    "\n",
    "```\n",
    "get_description() returns description from Wikidata\n",
    "get_id() returns Wikidata ID\n",
    "get_label() returns Wikidata label\n",
    "get_span(doc) returns the span from the spacy document that contains the linked entity. You need to provide the current doc as argument, in order to receive an actual spacy.tokens.Span object, otherwise you will receive a SpanInfo emulating the behaviour of a Span\n",
    "get_url() returns the url to the corresponding Wikidata item\n",
    "pretty_print() prints out information about the entity element\n",
    "get_sub_entities(limit=10) returns EntityCollection of all entities that derive from the current entityElement (e.g. fruit -> apple, banana, etc.)\n",
    "get_super_entities(limit=10) returns EntityCollection of all entities that the current entityElement derives from (e.g. New England Patriots -> Football Team))\n",
    "```"
   ]
  },
  {
   "cell_type": "code",
   "execution_count": 1,
   "id": "8301e3cf",
   "metadata": {},
   "outputs": [],
   "source": [
    "import pandas as pd\n",
    "import spacy\n",
    "import spacy_entity_linker"
   ]
  },
  {
   "cell_type": "markdown",
   "id": "b32c752e",
   "metadata": {},
   "source": [
    "# Model"
   ]
  },
  {
   "cell_type": "code",
   "execution_count": 2,
   "id": "d48ab29e",
   "metadata": {},
   "outputs": [
    {
     "data": {
      "text/plain": [
       "['tok2vec',\n",
       " 'tagger',\n",
       " 'parser',\n",
       " 'attribute_ruler',\n",
       " 'lemmatizer',\n",
       " 'ner',\n",
       " 'entityLinker']"
      ]
     },
     "execution_count": 2,
     "metadata": {},
     "output_type": "execute_result"
    }
   ],
   "source": [
    "nlp = spacy.load(\"en_core_web_lg\")\n",
    "nlp.add_pipe(\"entityLinker\", last=True)\n",
    "\n",
    "nlp.pipe_names"
   ]
  },
  {
   "cell_type": "code",
   "execution_count": 3,
   "id": "16630078",
   "metadata": {},
   "outputs": [],
   "source": [
    "def get_linked_entity_detail(entity: spacy_entity_linker.EntityElement.EntityElement):\n",
    "    return {\n",
    "        \"entity\": entity.get_span().text,\n",
    "        \"id\": entity.get_id(),\n",
    "        \"label\": entity.get_label(),\n",
    "        \"description\": entity.get_description(),\n",
    "        \"category\": entity.get_super_entities(limit=3),\n",
    "        \"url\": entity.get_url(),\n",
    "    }\n",
    "\n",
    "def get_linked_entity_as_pd_dataframe(doc: spacy.tokens.Doc) -> pd.DataFrame:\n",
    "    return pd.DataFrame([\n",
    "        get_linked_entity_detail(entity)\n",
    "        for entity in doc._.linkedEntities\n",
    "    ])"
   ]
  },
  {
   "cell_type": "markdown",
   "id": "208f2b4c",
   "metadata": {},
   "source": [
    "# Data"
   ]
  },
  {
   "cell_type": "code",
   "execution_count": 4,
   "id": "4da4fb6b",
   "metadata": {},
   "outputs": [],
   "source": [
    "text = \"I watched the Pirates of the Caribbean last silvester. Jonny Depp is a fantastic actor.\"\n",
    "text = \"Alterations in the hypocretin receptor 2 and preprohypocretin genes produce narcolepsy in some animals.\""
   ]
  },
  {
   "cell_type": "markdown",
   "id": "d345f239",
   "metadata": {},
   "source": [
    "# Document"
   ]
  },
  {
   "cell_type": "code",
   "execution_count": 5,
   "id": "829b2007",
   "metadata": {},
   "outputs": [],
   "source": [
    "doc = nlp(text)"
   ]
  },
  {
   "cell_type": "markdown",
   "id": "017db16f",
   "metadata": {},
   "source": [
    "# Entities"
   ]
  },
  {
   "cell_type": "code",
   "execution_count": 6,
   "id": "3d50dff6",
   "metadata": {},
   "outputs": [
    {
     "data": {
      "text/html": [
       "<div>\n",
       "<style scoped>\n",
       "    .dataframe tbody tr th:only-of-type {\n",
       "        vertical-align: middle;\n",
       "    }\n",
       "\n",
       "    .dataframe tbody tr th {\n",
       "        vertical-align: top;\n",
       "    }\n",
       "\n",
       "    .dataframe thead th {\n",
       "        text-align: right;\n",
       "    }\n",
       "</style>\n",
       "<table border=\"1\" class=\"dataframe\">\n",
       "  <thead>\n",
       "    <tr style=\"text-align: right;\">\n",
       "      <th></th>\n",
       "      <th>entity</th>\n",
       "      <th>id</th>\n",
       "      <th>label</th>\n",
       "      <th>description</th>\n",
       "      <th>category</th>\n",
       "      <th>url</th>\n",
       "    </tr>\n",
       "  </thead>\n",
       "  <tbody>\n",
       "    <tr>\n",
       "      <th>0</th>\n",
       "      <td>Alterations</td>\n",
       "      <td>16827625</td>\n",
       "      <td>Alterations</td>\n",
       "      <td>1988 film</td>\n",
       "      <td>(film)</td>\n",
       "      <td>https://www.wikidata.org/wiki/Q16827625</td>\n",
       "    </tr>\n",
       "    <tr>\n",
       "      <th>1</th>\n",
       "      <td>receptor</td>\n",
       "      <td>208467</td>\n",
       "      <td>biochemical receptor</td>\n",
       "      <td>protein molecule receiving signals for a cell</td>\n",
       "      <td>(protein)</td>\n",
       "      <td>https://www.wikidata.org/wiki/Q208467</td>\n",
       "    </tr>\n",
       "    <tr>\n",
       "      <th>2</th>\n",
       "      <td>genes</td>\n",
       "      <td>7187</td>\n",
       "      <td>gene</td>\n",
       "      <td>basic physical and functional unit of heredity</td>\n",
       "      <td>(nucleic acid sequence, biological sequence, b...</td>\n",
       "      <td>https://www.wikidata.org/wiki/Q7187</td>\n",
       "    </tr>\n",
       "    <tr>\n",
       "      <th>3</th>\n",
       "      <td>narcolepsy</td>\n",
       "      <td>189561</td>\n",
       "      <td>narcolepsy</td>\n",
       "      <td>sleep disorder that involves an excessive urge...</td>\n",
       "      <td>(disease, rare disease, sleep disorder)</td>\n",
       "      <td>https://www.wikidata.org/wiki/Q189561</td>\n",
       "    </tr>\n",
       "    <tr>\n",
       "      <th>4</th>\n",
       "      <td>animals</td>\n",
       "      <td>729</td>\n",
       "      <td>animal</td>\n",
       "      <td>kingdom of multicellular eukaryotic organisms</td>\n",
       "      <td>(taxon, multicellular organism)</td>\n",
       "      <td>https://www.wikidata.org/wiki/Q729</td>\n",
       "    </tr>\n",
       "  </tbody>\n",
       "</table>\n",
       "</div>"
      ],
      "text/plain": [
       "        entity        id                 label  \\\n",
       "0  Alterations  16827625           Alterations   \n",
       "1     receptor    208467  biochemical receptor   \n",
       "2        genes      7187                  gene   \n",
       "3   narcolepsy    189561            narcolepsy   \n",
       "4      animals       729                animal   \n",
       "\n",
       "                                         description  \\\n",
       "0                                          1988 film   \n",
       "1      protein molecule receiving signals for a cell   \n",
       "2     basic physical and functional unit of heredity   \n",
       "3  sleep disorder that involves an excessive urge...   \n",
       "4      kingdom of multicellular eukaryotic organisms   \n",
       "\n",
       "                                            category  \\\n",
       "0                                             (film)   \n",
       "1                                          (protein)   \n",
       "2  (nucleic acid sequence, biological sequence, b...   \n",
       "3            (disease, rare disease, sleep disorder)   \n",
       "4                    (taxon, multicellular organism)   \n",
       "\n",
       "                                       url  \n",
       "0  https://www.wikidata.org/wiki/Q16827625  \n",
       "1    https://www.wikidata.org/wiki/Q208467  \n",
       "2      https://www.wikidata.org/wiki/Q7187  \n",
       "3    https://www.wikidata.org/wiki/Q189561  \n",
       "4       https://www.wikidata.org/wiki/Q729  "
      ]
     },
     "execution_count": 6,
     "metadata": {},
     "output_type": "execute_result"
    }
   ],
   "source": [
    "get_linked_entity_as_pd_dataframe(doc)"
   ]
  }
 ],
 "metadata": {
  "kernelspec": {
   "display_name": "Python 3 (ipykernel)",
   "language": "python",
   "name": "python3"
  },
  "language_info": {
   "codemirror_mode": {
    "name": "ipython",
    "version": 3
   },
   "file_extension": ".py",
   "mimetype": "text/x-python",
   "name": "python",
   "nbconvert_exporter": "python",
   "pygments_lexer": "ipython3",
   "version": "3.9.13"
  }
 },
 "nbformat": 4,
 "nbformat_minor": 5
}
