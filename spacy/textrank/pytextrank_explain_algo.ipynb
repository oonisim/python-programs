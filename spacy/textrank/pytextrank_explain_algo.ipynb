{
 "cells": [
  {
   "cell_type": "markdown",
   "metadata": {},
   "source": [
    "# Explain PyTextRank: the algorithm\n",
    "\n",
    "* [Explain PyTextRank: the algorithm](https://derwen.ai/docs/ptr/explain_algo/)\n",
    "\n",
    "\n",
    "Let's look at the *TextRank* algorithm used to build a graph from a raw text, and then from that extract the top-ranked phrases. This work is based on \n",
    "[\"TextRank: Bringing Order into Text\"](http://web.eecs.umich.edu/~mihalcea/papers/mihalcea.emnlp04.pdf),\n",
    "Rada Mihalcea, Paul Tarau, _Empirical Methods in Natural Language Processing_ (2004)."
   ]
  },
  {
   "cell_type": "markdown",
   "metadata": {},
   "source": [
    "---\n",
    "First we perform some basic housekeeping for Jupyter, then load `spaCy` with a language model for English ..."
   ]
  },
  {
   "cell_type": "code",
   "execution_count": 33,
   "metadata": {},
   "outputs": [
    {
     "name": "stdout",
     "output_type": "stream",
     "text": [
      "Collecting package metadata (current_repodata.json): done\n",
      "Solving environment: done\n",
      "\n",
      "\n",
      "==> WARNING: A newer version of conda exists. <==\n",
      "  current version: 4.8.2\n",
      "  latest version: 4.8.5\n",
      "\n",
      "Please update conda by running\n",
      "\n",
      "    $ conda update -n base -c defaults conda\n",
      "\n",
      "\n",
      "\n",
      "## Package Plan ##\n",
      "\n",
      "  environment location: /Users/onishim4p/.conda/envs/pytextrank\n",
      "\n",
      "  added / updated specs:\n",
      "    - matplotlib\n",
      "\n",
      "\n",
      "The following packages will be downloaded:\n",
      "\n",
      "    package                    |            build\n",
      "    ---------------------------|-----------------\n",
      "    lcms2-2.11                 |       h174193d_0         378 KB  conda-forge\n",
      "    libgfortran-4.0.0          |      h2d743fc_11          18 KB  conda-forge\n",
      "    libgfortran4-7.5.0         |      h2d743fc_11         1.0 MB  conda-forge\n",
      "    libopenblas-0.3.10         |openmp_h63d9170_4         8.2 MB  conda-forge\n",
      "    libpng-1.6.37              |       hb0a8c7a_2         319 KB  conda-forge\n",
      "    libtiff-4.1.0              |       h2ae36a8_6         614 KB  conda-forge\n",
      "    libwebp-base-1.1.0         |       h0b31af3_3         766 KB  conda-forge\n",
      "    llvm-openmp-10.0.1         |       h28b9765_0         265 KB  conda-forge\n",
      "    lz4-c-1.9.2                |       hb1e8313_3         152 KB  conda-forge\n",
      "    matplotlib-3.3.2           |                0           6 KB  conda-forge\n",
      "    matplotlib-base-3.3.2      |   py37h886f89f_0         6.8 MB  conda-forge\n",
      "    numpy-1.19.1               |   py37h1efc2f6_2         5.1 MB  conda-forge\n",
      "    olefile-0.46               |             py_0          31 KB  conda-forge\n",
      "    pillow-7.2.0               |   py37hfd78ece_1         638 KB  conda-forge\n",
      "    zstd-1.4.5                 |       h289c70a_2         778 KB  conda-forge\n",
      "    ------------------------------------------------------------\n",
      "                                           Total:        25.0 MB\n",
      "\n",
      "The following NEW packages will be INSTALLED:\n",
      "\n",
      "  cycler             conda-forge/noarch::cycler-0.10.0-py_2\n",
      "  freetype           conda-forge/osx-64::freetype-2.10.2-h8da9a1a_0\n",
      "  jpeg               conda-forge/osx-64::jpeg-9d-h0b31af3_0\n",
      "  kiwisolver         conda-forge/osx-64::kiwisolver-1.2.0-py37ha1cc60f_0\n",
      "  lcms2              conda-forge/osx-64::lcms2-2.11-h174193d_0\n",
      "  libblas            conda-forge/osx-64::libblas-3.8.0-17_openblas\n",
      "  libcblas           conda-forge/osx-64::libcblas-3.8.0-17_openblas\n",
      "  libgfortran        conda-forge/osx-64::libgfortran-4.0.0-h2d743fc_11\n",
      "  libgfortran4       conda-forge/osx-64::libgfortran4-7.5.0-h2d743fc_11\n",
      "  liblapack          conda-forge/osx-64::liblapack-3.8.0-17_openblas\n",
      "  libopenblas        conda-forge/osx-64::libopenblas-0.3.10-openmp_h63d9170_4\n",
      "  libpng             conda-forge/osx-64::libpng-1.6.37-hb0a8c7a_2\n",
      "  libtiff            conda-forge/osx-64::libtiff-4.1.0-h2ae36a8_6\n",
      "  libwebp-base       conda-forge/osx-64::libwebp-base-1.1.0-h0b31af3_3\n",
      "  llvm-openmp        conda-forge/osx-64::llvm-openmp-10.0.1-h28b9765_0\n",
      "  lz4-c              conda-forge/osx-64::lz4-c-1.9.2-hb1e8313_3\n",
      "  matplotlib         conda-forge/osx-64::matplotlib-3.3.2-0\n",
      "  matplotlib-base    conda-forge/osx-64::matplotlib-base-3.3.2-py37h886f89f_0\n",
      "  numpy              conda-forge/osx-64::numpy-1.19.1-py37h1efc2f6_2\n",
      "  olefile            conda-forge/noarch::olefile-0.46-py_0\n",
      "  pillow             conda-forge/osx-64::pillow-7.2.0-py37hfd78ece_1\n",
      "  zstd               conda-forge/osx-64::zstd-1.4.5-h289c70a_2\n",
      "\n",
      "\n",
      "\n",
      "Downloading and Extracting Packages\n",
      "lcms2-2.11           | 378 KB    | ##################################### | 100% \n",
      "pillow-7.2.0         | 638 KB    | ##################################### | 100% \n",
      "matplotlib-3.3.2     | 6 KB      | ##################################### | 100% \n",
      "libwebp-base-1.1.0   | 766 KB    | ##################################### | 100% \n",
      "libgfortran-4.0.0    | 18 KB     | ##################################### | 100% \n",
      "libopenblas-0.3.10   | 8.2 MB    | ##################################### | 100% \n",
      "libgfortran4-7.5.0   | 1.0 MB    | ##################################### | 100% \n",
      "olefile-0.46         | 31 KB     | ##################################### | 100% \n",
      "libtiff-4.1.0        | 614 KB    | ##################################### | 100% \n",
      "llvm-openmp-10.0.1   | 265 KB    | ##################################### | 100% \n",
      "lz4-c-1.9.2          | 152 KB    | ##################################### | 100% \n",
      "matplotlib-base-3.3. | 6.8 MB    | ##################################### | 100% \n",
      "numpy-1.19.1         | 5.1 MB    | ##################################### | 100% \n",
      "zstd-1.4.5           | 778 KB    | ##################################### | 100% \n",
      "libpng-1.6.37        | 319 KB    | ##################################### | 100% \n",
      "Preparing transaction: done\n",
      "Verifying transaction: done\n",
      "Executing transaction: done\n"
     ]
    }
   ],
   "source": [
    "!conda install -y matplotlib"
   ]
  },
  {
   "cell_type": "code",
   "execution_count": 1,
   "metadata": {},
   "outputs": [],
   "source": [
    "import warnings\n",
    "warnings.filterwarnings(\"ignore\")"
   ]
  },
  {
   "cell_type": "code",
   "execution_count": 2,
   "metadata": {},
   "outputs": [],
   "source": [
    "import spacy\n",
    "nlp = spacy.load(\"en_core_web_sm\")"
   ]
  },
  {
   "cell_type": "markdown",
   "metadata": {},
   "source": [
    "Now, to get started, we'll create some text to use."
   ]
  },
  {
   "cell_type": "code",
   "execution_count": 20,
   "metadata": {},
   "outputs": [],
   "source": [
    "#text = \"When Ada was twelve years old, this future 'Lady Fairy', as Charles Babbage affectionately called her, decided she wanted to fly. Ada Byron went about the project methodically, thoughtfully, with imagination and passion. Her first step, in February 1828, was to construct wings. She investigated different material and sizes. She considered various materials for the wings: paper, oilsilk, wires, and feathers. She examined the anatomy of birds to determine the right proportion between the wings and the body. She decided to write a book, Flyology, illustrating, with plates, some of her findings. She decided what equipment she would need; for example, a compass, to 'cut across the country by the most direct road', so that she could surmount mountains, rivers, and valleys. Her final step was to integrate steam with the 'art of flying.\"\n",
    "\n",
    "#text = \"Compatibility of systems of linear constraints over the set of natural numbers. Criteria of compatibility of a system of linear Diophantine equations, strict inequations, and nonstrict inequations are considered. Upper bounds for components of a minimal set of solutions and algorithms of construction of minimal generating sets of solutions for all types of systems are given. These criteria and the corresponding algorithms for constructing a minimal supporting set of solutions can be used in solving all the considered types systems and systems of mixed types.\"\n",
    "text = \"Apple is looking at buying U.K. startup for $1 billion\"\n",
    "doc = nlp(text)"
   ]
  },
  {
   "cell_type": "code",
   "execution_count": 21,
   "metadata": {},
   "outputs": [
    {
     "data": {
      "text/plain": [
       "Apple is looking at buying U.K. startup for $1 billion"
      ]
     },
     "execution_count": 21,
     "metadata": {},
     "output_type": "execute_result"
    }
   ],
   "source": [
    "doc"
   ]
  },
  {
   "cell_type": "markdown",
   "metadata": {},
   "source": [
    "How many sentences are in the parsed document and where are their boundaries?"
   ]
  },
  {
   "cell_type": "code",
   "execution_count": 22,
   "metadata": {},
   "outputs": [
    {
     "name": "stdout",
     "output_type": "stream",
     "text": [
      "> 0 11\n",
      "Apple is looking at buying U.K. startup for $1 billion\n"
     ]
    }
   ],
   "source": [
    "for sent in doc.sents:\n",
    "    print(\">\", sent.start, sent.end)\n",
    "    print(sent)"
   ]
  },
  {
   "cell_type": "markdown",
   "metadata": {},
   "source": [
    "What are the raw _noun chunks_ in the parsed document, as well as its _named entities_?"
   ]
  },
  {
   "cell_type": "code",
   "execution_count": 23,
   "metadata": {},
   "outputs": [
    {
     "name": "stdout",
     "output_type": "stream",
     "text": [
      "Apple\n",
      "U.K. startup\n"
     ]
    }
   ],
   "source": [
    "for chunk in doc.noun_chunks:\n",
    "    print(chunk.text)"
   ]
  },
  {
   "cell_type": "code",
   "execution_count": 24,
   "metadata": {},
   "outputs": [
    {
     "name": "stdout",
     "output_type": "stream",
     "text": [
      "Apple ORG 0 1\n",
      "U.K. GPE 5 6\n",
      "$1 billion MONEY 8 11\n"
     ]
    }
   ],
   "source": [
    "for ent in doc.ents:\n",
    "    print(ent.text, ent.label_, ent.start, ent.end)"
   ]
  },
  {
   "cell_type": "code",
   "execution_count": 38,
   "metadata": {},
   "outputs": [
    {
     "name": "stdout",
     "output_type": "stream",
     "text": [
      "text[Apple] lemma[Apple] pos[PROPN] tag[NNP] dep[nsubj] shape[Xxxxx] is_alpha[True] is_stop[False]\n",
      "text[is] lemma[be] pos[AUX] tag[VBZ] dep[aux] shape[xx] is_alpha[True] is_stop[True]\n",
      "text[looking] lemma[look] pos[VERB] tag[VBG] dep[ROOT] shape[xxxx] is_alpha[True] is_stop[False]\n",
      "text[at] lemma[at] pos[ADP] tag[IN] dep[prep] shape[xx] is_alpha[True] is_stop[True]\n",
      "text[buying] lemma[buy] pos[VERB] tag[VBG] dep[pcomp] shape[xxxx] is_alpha[True] is_stop[False]\n",
      "text[U.K.] lemma[U.K.] pos[PROPN] tag[NNP] dep[compound] shape[X.X.] is_alpha[False] is_stop[False]\n",
      "text[startup] lemma[startup] pos[NOUN] tag[NN] dep[dobj] shape[xxxx] is_alpha[True] is_stop[False]\n",
      "text[for] lemma[for] pos[ADP] tag[IN] dep[prep] shape[xxx] is_alpha[True] is_stop[True]\n",
      "text[$] lemma[$] pos[SYM] tag[$] dep[quantmod] shape[$] is_alpha[False] is_stop[False]\n",
      "text[1] lemma[1] pos[NUM] tag[CD] dep[compound] shape[d] is_alpha[False] is_stop[False]\n",
      "text[billion] lemma[billion] pos[NUM] tag[CD] dep[pobj] shape[xxxx] is_alpha[True] is_stop[False]\n"
     ]
    }
   ],
   "source": [
    "for token in doc:\n",
    "    print(\"text[{}] lemma[{}] pos[{}] tag[{}] dep[{}] shape[{}] is_alpha[{}] is_stop[{}]\".format(token.text, token.lemma_, token.pos_, token.tag_, token.dep_,\n",
    "            token.shape_, token.is_alpha, token.is_stop))"
   ]
  },
  {
   "cell_type": "code",
   "execution_count": 26,
   "metadata": {},
   "outputs": [
    {
     "name": "stdout",
     "output_type": "stream",
     "text": [
      "_\n",
      "__bytes__\n",
      "__class__\n",
      "__delattr__\n",
      "__dir__\n",
      "__doc__\n",
      "__eq__\n",
      "__format__\n",
      "__ge__\n",
      "__getattribute__\n",
      "__getitem__\n",
      "__gt__\n",
      "__hash__\n",
      "__init__\n",
      "__init_subclass__\n",
      "__iter__\n",
      "__le__\n",
      "__len__\n",
      "__lt__\n",
      "__ne__\n",
      "__new__\n",
      "__pyx_vtable__\n",
      "__reduce__\n",
      "__reduce_ex__\n",
      "__repr__\n",
      "__setattr__\n",
      "__setstate__\n",
      "__sizeof__\n",
      "__str__\n",
      "__subclasshook__\n",
      "__unicode__\n",
      "_bulk_merge\n",
      "_py_tokens\n",
      "_realloc\n",
      "_vector\n",
      "_vector_norm\n",
      "cats\n",
      "char_span\n",
      "count_by\n",
      "doc\n",
      "ents\n",
      "extend_tensor\n",
      "from_array\n",
      "from_bytes\n",
      "from_disk\n",
      "get_extension\n",
      "get_lca_matrix\n",
      "has_extension\n",
      "has_vector\n",
      "is_nered\n",
      "is_parsed\n",
      "is_sentenced\n",
      "is_tagged\n",
      "lang\n",
      "lang_\n",
      "mem\n",
      "merge\n",
      "noun_chunks\n",
      "noun_chunks_iterator\n",
      "print_tree\n",
      "remove_extension\n",
      "retokenize\n",
      "sentiment\n",
      "sents\n",
      "set_extension\n",
      "similarity\n",
      "tensor\n",
      "text\n",
      "text_with_ws\n",
      "to_array\n",
      "to_bytes\n",
      "to_disk\n",
      "to_json\n",
      "to_utf8_array\n",
      "user_data\n",
      "user_hooks\n",
      "user_span_hooks\n",
      "user_token_hooks\n",
      "vector\n",
      "vector_norm\n",
      "vocab\n"
     ]
    }
   ],
   "source": [
    "for attr in dir(doc):\n",
    "    print(attr)"
   ]
  },
  {
   "cell_type": "markdown",
   "metadata": {},
   "source": [
    "Given those details about the parsed document, next we use [NetworkX](https://networkx.github.io/) to manage an in-memory graph..."
   ]
  },
  {
   "cell_type": "code",
   "execution_count": 27,
   "metadata": {},
   "outputs": [],
   "source": [
    "import networkx as nx\n",
    "\n",
    "def increment_edge (graph, node0, node1):\n",
    "    print(\"link {} {}\".format(node0, node1))\n",
    "    \n",
    "    if graph.has_edge(node0, node1):\n",
    "        graph[node0][node1][\"weight\"] += 1.0\n",
    "    else:\n",
    "        graph.add_edge(node0, node1, weight=1.0)"
   ]
  },
  {
   "cell_type": "markdown",
   "metadata": {},
   "source": [
    "Then construct a graph, sentence by sentence, based on the [spaCy part-of-speech tags](https://spacy.io/api/annotation#pos-en) tags:"
   ]
  },
  {
   "cell_type": "code",
   "execution_count": 99,
   "metadata": {},
   "outputs": [],
   "source": [
    "POS_KEPT = [\"ADJ\", \"NOUN\", \"PROPN\", \"VERB\"]\n",
    "\n",
    "def link_sentence (doc, sent, lemma_graph, seen_lemma):\n",
    "    visited_tokens = []\n",
    "    visited_nodes = []\n",
    "\n",
    "    for i in range(sent.start, sent.end):\n",
    "        token = doc[i]\n",
    "\n",
    "        if token.pos_ in POS_KEPT:\n",
    "            key = (token.lemma_, token.pos_)\n",
    "\n",
    "            if key not in seen_lemma:\n",
    "                seen_lemma[key] = set([token.i])\n",
    "            else:\n",
    "                seen_lemma[key].add(token.i)\n",
    "\n",
    "            node_id = list(seen_lemma.keys()).index(key)\n",
    "            print(\"token.i {} node_id {}\".format(token.i, node_id))\n",
    "\n",
    "            if not node_id in lemma_graph:\n",
    "                lemma_graph.add_node(node_id)\n",
    "\n",
    "            print(\"visit {} {}\".format(visited_tokens, visited_nodes))\n",
    "            print(\"range {}\".format(list(range(len(visited_tokens) - 1, -1, -1))))\n",
    "            \n",
    "            for prev_token in range(len(visited_tokens) - 1, -1, -1):\n",
    "                print(\"prev_tok {} {}\".format(prev_token, (token.i - visited_tokens[prev_token])))\n",
    "                \n",
    "                if (token.i - visited_tokens[prev_token]) <= 3:\n",
    "                    increment_edge(lemma_graph, node_id, visited_nodes[prev_token])\n",
    "                else:\n",
    "                    break\n",
    "\n",
    "            print(\" -- {} {} {} {} {} {}\".format(token.i, token.text, token.lemma_, token.pos_, visited_tokens, visited_nodes))\n",
    "\n",
    "            visited_tokens.append(token.i)\n",
    "            visited_nodes.append(node_id)"
   ]
  },
  {
   "cell_type": "markdown",
   "metadata": {},
   "source": [
    "Now iterate through the sentences to construct the lemma graph..."
   ]
  },
  {
   "cell_type": "code",
   "execution_count": 100,
   "metadata": {},
   "outputs": [
    {
     "name": "stdout",
     "output_type": "stream",
     "text": [
      "token.i 0 node_id 0\n",
      "visit [] []\n",
      "range []\n",
      " -- 0 Apple Apple PROPN [] []\n",
      "token.i 2 node_id 1\n",
      "visit [0] [0]\n",
      "range [0]\n",
      "prev_tok 0 2\n",
      "link 1 0\n",
      " -- 2 looking look VERB [0] [0]\n",
      "token.i 4 node_id 2\n",
      "visit [0, 2] [0, 1]\n",
      "range [1, 0]\n",
      "prev_tok 1 2\n",
      "link 2 1\n",
      "prev_tok 0 4\n",
      " -- 4 buying buy VERB [0, 2] [0, 1]\n",
      "token.i 5 node_id 3\n",
      "visit [0, 2, 4] [0, 1, 2]\n",
      "range [2, 1, 0]\n",
      "prev_tok 2 1\n",
      "link 3 2\n",
      "prev_tok 1 3\n",
      "link 3 1\n",
      "prev_tok 0 5\n",
      " -- 5 U.K. U.K. PROPN [0, 2, 4] [0, 1, 2]\n",
      "token.i 6 node_id 4\n",
      "visit [0, 2, 4, 5] [0, 1, 2, 3]\n",
      "range [3, 2, 1, 0]\n",
      "prev_tok 3 1\n",
      "link 4 3\n",
      "prev_tok 2 2\n",
      "link 4 2\n",
      "prev_tok 1 4\n",
      " -- 6 startup startup NOUN [0, 2, 4, 5] [0, 1, 2, 3]\n",
      "{('Apple', 'PROPN'): {0}, ('look', 'VERB'): {2}, ('buy', 'VERB'): {4}, ('U.K.', 'PROPN'): {5}, ('startup', 'NOUN'): {6}}\n"
     ]
    }
   ],
   "source": [
    "lemma_graph = nx.Graph()\n",
    "seen_lemma = {}\n",
    "\n",
    "for sent in doc.sents:\n",
    "    link_sentence(doc, sent, lemma_graph, seen_lemma)\n",
    "    #break # only test one sentence\n",
    "\n",
    "print(seen_lemma)"
   ]
  },
  {
   "cell_type": "markdown",
   "metadata": {},
   "source": [
    "Let's visualize the lemma graph, and for that first we need to collect a dictionary of the labels."
   ]
  },
  {
   "cell_type": "code",
   "execution_count": 30,
   "metadata": {},
   "outputs": [
    {
     "data": {
      "text/plain": [
       "{0: 'apple', 1: 'look', 2: 'buy', 3: 'u.k.', 4: 'startup'}"
      ]
     },
     "execution_count": 30,
     "metadata": {},
     "output_type": "execute_result"
    }
   ],
   "source": [
    "labels = {}\n",
    "keys = list(seen_lemma.keys())\n",
    "\n",
    "for i in range(len(seen_lemma)):\n",
    "    labels[i] = keys[i][0].lower()\n",
    "\n",
    "labels"
   ]
  },
  {
   "cell_type": "markdown",
   "metadata": {},
   "source": [
    "Then use `matplotlib` to visualize the lemma graph:"
   ]
  },
  {
   "cell_type": "code",
   "execution_count": 94,
   "metadata": {},
   "outputs": [
    {
     "data": {
      "text/plain": [
       "{0: Text(-1.0, 0.3113617069071346, 'apple'),\n",
       " 1: Text(-0.3271081626840475, 0.09864543024417682, 'look'),\n",
       " 2: Text(0.335608585828723, 0.14008949380714342, 'buy'),\n",
       " 3: Text(0.19947162014361863, -0.3076986769701179, 'u.k.'),\n",
       " 4: Text(0.7920279567117059, -0.24239795398833677, 'startup')}"
      ]
     },
     "execution_count": 94,
     "metadata": {},
     "output_type": "execute_result"
    },
    {
     "data": {
      "image/png": "[encoded data removed]",
      "text/plain": [
       "<Figure size 504x360 with 1 Axes>"
      ]
     },
     "metadata": {},
     "output_type": "display_data"
    }
   ],
   "source": [
    "%matplotlib inline\n",
    "import matplotlib.pyplot as plt\n",
    "font = {'family' : 'normal',\n",
    "        'weight' : 'bold',\n",
    "        'size'   : 30}\n",
    "\n",
    "plt.rc('font', **font)\n",
    "\n",
    "fig = plt.figure(figsize=(7, 5))\n",
    "#plt.figure(1)\n",
    "pos = nx.spring_layout(lemma_graph)\n",
    "nx.draw(lemma_graph, pos=pos, with_labels=False, font_weight=\"bold\", node_color='orange', node_size=1200)\n",
    "nx.draw_networkx_labels(lemma_graph, pos, labels)"
   ]
  },
  {
   "cell_type": "markdown",
   "metadata": {},
   "source": [
    "Now to run the algorithm, we use `PageRank` – which is approximately _eigenvalue centrality_ – to calculate ranks for each of the nodes in the lemma graph."
   ]
  },
  {
   "cell_type": "code",
   "execution_count": 101,
   "metadata": {},
   "outputs": [
    {
     "data": {
      "text/plain": [
       "{0: 0.10148742562440749,\n",
       " 1: 0.2523098174649017,\n",
       " 2: 0.24007885750131538,\n",
       " 3: 0.24007885750131536,\n",
       " 4: 0.16604504190805974}"
      ]
     },
     "execution_count": 101,
     "metadata": {},
     "output_type": "execute_result"
    }
   ],
   "source": [
    "ranks = nx.pagerank(lemma_graph)\n",
    "ranks"
   ]
  },
  {
   "cell_type": "code",
   "execution_count": 102,
   "metadata": {},
   "outputs": [
    {
     "name": "stdout",
     "output_type": "stream",
     "text": [
      "1 0.2523098174649017 look\n",
      "2 0.24007885750131538 buy\n",
      "3 0.24007885750131536 u.k.\n",
      "4 0.16604504190805974 startup\n",
      "0 0.10148742562440749 apple\n"
     ]
    }
   ],
   "source": [
    "for node_id, rank in sorted(ranks.items(), key=lambda x: x[1], reverse=True):\n",
    "    print(node_id, rank, labels[node_id])"
   ]
  },
  {
   "cell_type": "markdown",
   "metadata": {},
   "source": [
    "Define a function to collect the top-ranked phrases from the lemma graph."
   ]
  },
  {
   "cell_type": "code",
   "execution_count": 14,
   "metadata": {},
   "outputs": [],
   "source": [
    "import math\n",
    "\n",
    "def collect_phrases (chunk, phrases, counts):\n",
    "    chunk_len = chunk.end - chunk.start + 1\n",
    "    sq_sum_rank = 0.0\n",
    "    non_lemma = 0\n",
    "    compound_key = set([])\n",
    "\n",
    "    for i in range(chunk.start, chunk.end):\n",
    "        token = doc[i]\n",
    "        key = (token.lemma_, token.pos_)\n",
    "        \n",
    "        if key in seen_lemma:\n",
    "            node_id = list(seen_lemma.keys()).index(key)\n",
    "            rank = ranks[node_id]\n",
    "            sq_sum_rank += rank\n",
    "            compound_key.add(key)\n",
    "        \n",
    "            print(\" {} {} {} {}\".format(token.lemma_, token.pos_, node_id, rank))\n",
    "        else:\n",
    "            non_lemma += 1\n",
    "    \n",
    "    # although the noun chunking is greedy, we discount the ranks using a\n",
    "    # point estimate based on the number of non-lemma tokens within a phrase\n",
    "    non_lemma_discount = chunk_len / (chunk_len + (2.0 * non_lemma) + 1.0)\n",
    "\n",
    "    # use root mean square (RMS) to normalize the contributions of all the tokens\n",
    "    phrase_rank = math.sqrt(sq_sum_rank / (chunk_len + non_lemma))\n",
    "    phrase_rank *= non_lemma_discount\n",
    "\n",
    "    # remove spurious punctuation\n",
    "    phrase = chunk.text.lower().replace(\"'\", \"\")\n",
    "\n",
    "    # create a unique key for the the phrase based on its lemma components\n",
    "    compound_key = tuple(sorted(list(compound_key)))\n",
    "    \n",
    "    if not compound_key in phrases:\n",
    "        phrases[compound_key] = set([ (phrase, phrase_rank) ])\n",
    "        counts[compound_key] = 1\n",
    "    else:\n",
    "        phrases[compound_key].add( (phrase, phrase_rank) )\n",
    "        counts[compound_key] += 1\n",
    "\n",
    "    print(\"{} {} {} {} {} {}\".format(phrase_rank, chunk.text, chunk.start, chunk.end, chunk_len, counts[compound_key]))"
   ]
  },
  {
   "cell_type": "markdown",
   "metadata": {},
   "source": [
    "Collect the top-ranked phrases based on both the noun chunks and the named entities..."
   ]
  },
  {
   "cell_type": "code",
   "execution_count": 15,
   "metadata": {},
   "outputs": [
    {
     "name": "stdout",
     "output_type": "stream",
     "text": [
      " compatibility NOUN 0 0.025190055141357165\n",
      "0.07481838030465979 Compatibility 0 1 2 1\n",
      " system NOUN 1 0.09709174565608479\n",
      "0.14688751982088183 systems 2 3 2 1\n",
      " linear ADJ 2 0.03658656272138432\n",
      " constraint NOUN 3 0.022947339381092696\n",
      "0.10565323773654285 linear constraints 4 6 3 1\n",
      " set NOUN 4 0.07548767636963792\n",
      "0.06868755180600318 the set 7 9 3 1\n",
      " natural ADJ 5 0.01884004785394172\n",
      " number NOUN 6 0.01884004785394172\n",
      "0.08405366110543994 natural numbers 10 12 3 1\n",
      " criterion NOUN 7 0.019767433918161055\n",
      "0.06627792311867262 Criteria 13 14 2 1\n",
      " compatibility NOUN 0 0.025190055141357165\n",
      "0.07481838030465979 compatibility 15 16 2 2\n",
      " system NOUN 1 0.09709174565608479\n",
      "0.07789887100276421 a system 17 19 3 2\n",
      " linear ADJ 2 0.03658656272138432\n",
      " Diophantine PROPN 8 0.03093250736456608\n",
      " equation NOUN 9 0.031636552282656216\n",
      "0.1259559430077718 linear Diophantine equations 20 23 4 1\n",
      " strict ADJ 10 0.0250439175297852\n",
      " inequation NOUN 11 0.03969617593153302\n",
      "0.11017607509798653 strict inequations 24 26 3 1\n",
      " nonstrict NOUN 12 0.02513276636673567\n",
      " inequation NOUN 11 0.03969617593153302\n",
      "0.11025165160180313 nonstrict inequations 28 30 3 1\n",
      " upper ADJ 14 0.02428614673389346\n",
      " bound NOUN 15 0.02428614673389346\n",
      "0.09543220119650414 Upper bounds 33 35 3 1\n",
      " component NOUN 16 0.031629446298645975\n",
      "0.08383773520404489 components 36 37 2 1\n",
      " minimal ADJ 17 0.06334806476862227\n",
      " set NOUN 4 0.07548767636963792\n",
      "0.0952198714085986 a minimal set 38 41 4 1\n",
      " solution NOUN 18 0.061826419749828485\n",
      "0.1172143523159633 solutions 42 43 2 1\n",
      " algorithm NOUN 19 0.03201021345587308\n",
      "0.0843408606072513 algorithms 44 45 2 1\n",
      " construction NOUN 20 0.02404712231242087\n",
      "0.07310133349204889 construction 46 47 2 1\n",
      " minimal ADJ 17 0.06334806476862227\n",
      " generating NOUN 21 0.029468555366439973\n",
      " set NOUN 4 0.07548767636963792\n",
      "0.1640996265710316 minimal generating sets 48 51 4 1\n",
      " solution NOUN 18 0.061826419749828485\n",
      "0.1172143523159633 solutions 52 53 2 2\n",
      " type NOUN 22 0.04816979699201436\n",
      "0.05486904693906117 all types 54 56 3 1\n",
      " system NOUN 1 0.09709174565608479\n",
      "0.14688751982088183 systems 57 58 2 3\n",
      " criterion NOUN 7 0.019767433918161055\n",
      "0.035149176660130545 These criteria 61 63 3 2\n",
      " corresponding ADJ 24 0.026930354700088012\n",
      " algorithm NOUN 19 0.03201021345587308\n",
      "0.06204175981712335 the corresponding algorithms 64 67 4 1\n",
      " minimal ADJ 17 0.06334806476862227\n",
      " support VERB 26 0.029382686223731833\n",
      " set NOUN 4 0.07548767636963792\n",
      "0.10465046837630346 a minimal supporting set 69 73 5 1\n",
      " solution NOUN 18 0.061826419749828485\n",
      "0.1172143523159633 solutions 74 75 2 3\n",
      " consider VERB 13 0.0390375393827704\n",
      " type NOUN 22 0.04816979699201436\n",
      " system NOUN 1 0.09709174565608479\n",
      "0.08278948056400119 all the considered types systems 80 85 6 1\n",
      " system NOUN 1 0.09709174565608479\n",
      "0.14688751982088183 systems 86 87 2 4\n",
      " mixed ADJ 29 0.016743716826448173\n",
      " type NOUN 22 0.04816979699201436\n",
      "0.1103235416443912 mixed types 88 90 3 1\n",
      " Diophantine PROPN 8 0.03093250736456608\n",
      "0.082908929105731 Diophantine 21 22 2 1\n"
     ]
    }
   ],
   "source": [
    "phrases = {}\n",
    "counts = {}\n",
    "\n",
    "for chunk in doc.noun_chunks:\n",
    "    collect_phrases(chunk, phrases, counts)\n",
    "\n",
    "for ent in doc.ents:\n",
    "    collect_phrases(ent, phrases, counts)"
   ]
  },
  {
   "cell_type": "markdown",
   "metadata": {},
   "source": [
    "Since noun chunks can be expressed in different ways (e.g., they may have articles or prepositions), we need to find a minimum span for each phrase based on combinations of lemmas..."
   ]
  },
  {
   "cell_type": "code",
   "execution_count": 16,
   "metadata": {},
   "outputs": [],
   "source": [
    "import operator\n",
    "\n",
    "min_phrases = {}\n",
    "\n",
    "for compound_key, rank_tuples in phrases.items():\n",
    "    l = list(rank_tuples)\n",
    "    l.sort(key=operator.itemgetter(1), reverse=True)\n",
    "    \n",
    "    phrase, rank = l[0]\n",
    "    count = counts[compound_key]\n",
    "    \n",
    "    min_phrases[phrase] = (rank, count)"
   ]
  },
  {
   "cell_type": "markdown",
   "metadata": {},
   "source": [
    "Yield the results of TextRank..."
   ]
  },
  {
   "cell_type": "code",
   "execution_count": 17,
   "metadata": {},
   "outputs": [
    {
     "name": "stdout",
     "output_type": "stream",
     "text": [
      "minimal generating sets 1 0.1640996265710316\n",
      "systems 4 0.14688751982088183\n",
      "linear diophantine equations 1 0.1259559430077718\n",
      "solutions 3 0.1172143523159633\n",
      "mixed types 1 0.1103235416443912\n",
      "nonstrict inequations 1 0.11025165160180313\n",
      "strict inequations 1 0.11017607509798653\n",
      "linear constraints 1 0.10565323773654285\n",
      "a minimal supporting set 1 0.10465046837630346\n",
      "upper bounds 1 0.09543220119650414\n",
      "a minimal set 1 0.0952198714085986\n",
      "algorithms 1 0.0843408606072513\n",
      "natural numbers 1 0.08405366110543994\n",
      "components 1 0.08383773520404489\n",
      "diophantine 1 0.082908929105731\n",
      "all the considered types systems 1 0.08278948056400119\n",
      "compatibility 2 0.07481838030465979\n",
      "construction 1 0.07310133349204889\n",
      "the set 1 0.06868755180600318\n",
      "criteria 2 0.06627792311867262\n",
      "the corresponding algorithms 1 0.06204175981712335\n",
      "all types 1 0.05486904693906117\n"
     ]
    }
   ],
   "source": [
    "for phrase, (rank, count) in sorted(min_phrases.items(), key=lambda x: x[1][0], reverse=True):\n",
    "    print(phrase, count, rank)"
   ]
  },
  {
   "cell_type": "markdown",
   "metadata": {},
   "source": [
    "Just for kicks, compare with raw results of the non-chunked lemma nodes..."
   ]
  },
  {
   "cell_type": "code",
   "execution_count": 18,
   "metadata": {},
   "outputs": [
    {
     "name": "stdout",
     "output_type": "stream",
     "text": [
      "system 0.09709174565608479\n",
      "set 0.07548767636963792\n",
      "minimal 0.06334806476862227\n",
      "solution 0.061826419749828485\n",
      "type 0.04816979699201436\n",
      "inequation 0.03969617593153302\n",
      "consider 0.0390375393827704\n",
      "linear 0.03658656272138432\n",
      "algorithm 0.03201021345587308\n",
      "construct 0.03165915652710971\n",
      "equation 0.031636552282656216\n",
      "component 0.031629446298645975\n",
      "diophantine 0.03093250736456608\n",
      "generating 0.029468555366439973\n",
      "support 0.029382686223731833\n",
      "corresponding 0.026930354700088012\n",
      "compatibility 0.025190055141357165\n",
      "nonstrict 0.02513276636673567\n",
      "strict 0.0250439175297852\n",
      "upper 0.02428614673389346\n",
      "bound 0.02428614673389346\n",
      "construction 0.02404712231242087\n",
      "constraint 0.022947339381092696\n",
      "solve 0.01982332786706688\n",
      "criterion 0.019767433918161055\n",
      "use 0.019263849959229938\n",
      "natural 0.01884004785394172\n",
      "number 0.01884004785394172\n",
      "mixed 0.016743716826448173\n",
      "give 0.010894627731045426\n"
     ]
    }
   ],
   "source": [
    "for node_id, rank in sorted(ranks.items(), key=lambda x: x[1], reverse=True):\n",
    "    print(labels[node_id], rank)"
   ]
  }
 ],
 "metadata": {
  "kernelspec": {
   "display_name": "Python 3 (ipykernel)",
   "language": "python",
   "name": "python3"
  },
  "language_info": {
   "codemirror_mode": {
    "name": "ipython",
    "version": 3
   },
   "file_extension": ".py",
   "mimetype": "text/x-python",
   "name": "python",
   "nbconvert_exporter": "python",
   "pygments_lexer": "ipython3",
   "version": "3.9.13"
  }
 },
 "nbformat": 4,
 "nbformat_minor": 2
}
