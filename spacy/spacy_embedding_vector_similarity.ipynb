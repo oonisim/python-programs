{
 "cells": [
  {
   "cell_type": "markdown",
   "id": "f0ed2b83",
   "metadata": {},
   "source": [
    "# Vector Similarity in Spacy\n",
    "\n",
    "**Important**: needs a pipeline that has word vectors included. en_core_web_sm does NOT support vectors.\n",
    "\n",
    "* spaCy can compare two objects and predict similarity\n",
    "* Doc.similarity(), Span.similarity() and Token.similarity()\n",
    "* Take another object and return a similarity score (0 to 1)\n"
   ]
  },
  {
   "cell_type": "code",
   "execution_count": 2,
   "id": "980c71be",
   "metadata": {},
   "outputs": [
    {
     "data": {
      "text/html": [
       "<style>\n",
       "table {float:left}\n",
       "</style>\n"
      ],
      "text/plain": [
       "<IPython.core.display.HTML object>"
      ]
     },
     "metadata": {},
     "output_type": "display_data"
    }
   ],
   "source": [
    "%%html\n",
    "<style>\n",
    "table {float:left}\n",
    "</style>"
   ]
  },
  {
   "cell_type": "code",
   "execution_count": 100,
   "id": "b04d955e",
   "metadata": {},
   "outputs": [],
   "source": [
    "from itertools import combinations\n",
    "import numpy as np\n",
    "import matplotlib.pyplot as plt\n",
    "import spacy\n",
    "from spacy import displacy"
   ]
  },
  {
   "cell_type": "markdown",
   "id": "71786636",
   "metadata": {},
   "source": [
    "# Document"
   ]
  },
  {
   "cell_type": "code",
   "execution_count": 3,
   "id": "5629f2f9",
   "metadata": {},
   "outputs": [],
   "source": [
    "nlp = spacy.load(\"en_core_web_lg\")"
   ]
  },
  {
   "cell_type": "code",
   "execution_count": 90,
   "id": "25d720ca",
   "metadata": {},
   "outputs": [],
   "source": [
    "doc = nlp(\"\"\"\n",
    "Hello Dr. Levance, hope you have been well. \n",
    "I am writing this email about the patcient Macky Robert who had injury.\n",
    "Apple is looking at buying U.K. startup for $1 billion. \n",
    "Softbank acquired ARM with $32 billion in 2016.\n",
    "Sushi goes well with soy source.\n",
    "\"\"\")"
   ]
  },
  {
   "cell_type": "markdown",
   "id": "880f1613",
   "metadata": {},
   "source": [
    "# Embedding Vector"
   ]
  },
  {
   "cell_type": "code",
   "execution_count": 148,
   "id": "6289a809",
   "metadata": {},
   "outputs": [
    {
     "data": {
      "text/plain": [
       "(300,)"
      ]
     },
     "execution_count": 148,
     "metadata": {},
     "output_type": "execute_result"
    }
   ],
   "source": [
    "doc.vector.shape"
   ]
  },
  {
   "cell_type": "code",
   "execution_count": 147,
   "id": "6a62aee3",
   "metadata": {},
   "outputs": [
    {
     "data": {
      "text/plain": [
       "(300,)"
      ]
     },
     "execution_count": 147,
     "metadata": {},
     "output_type": "execute_result"
    }
   ],
   "source": [
    "sentence = next(doc.sents)\n",
    "sentence.vector.shape"
   ]
  },
  {
   "cell_type": "markdown",
   "id": "46dab456",
   "metadata": {},
   "source": [
    "# Sentence Similarities"
   ]
  },
  {
   "cell_type": "code",
   "execution_count": 87,
   "id": "9746c12f",
   "metadata": {},
   "outputs": [],
   "source": [
    "sentences = doc.sents\n",
    "similarities = []\n",
    "previous = next(sentences)\n",
    "for sentence in sentences:\n",
    "    similarities.append(sentence.similarity(previous))"
   ]
  },
  {
   "cell_type": "code",
   "execution_count": 88,
   "id": "549754ff",
   "metadata": {},
   "outputs": [
    {
     "data": {
      "text/plain": [
       "[<matplotlib.lines.Line2D at 0x2f4b6d280>]"
      ]
     },
     "execution_count": 88,
     "metadata": {},
     "output_type": "execute_result"
    },
    {
     "data": {
      "image/png": "[encoded data removed]",
      "text/plain": [
       "<Figure size 640x480 with 1 Axes>"
      ]
     },
     "metadata": {},
     "output_type": "display_data"
    }
   ],
   "source": [
    "plt.plot(list(range(1, 1+len(similarities))), similarities)"
   ]
  },
  {
   "cell_type": "markdown",
   "id": "df332be0",
   "metadata": {},
   "source": [
    "# Similarity with salutations"
   ]
  },
  {
   "cell_type": "code",
   "execution_count": 130,
   "id": "2d84c549",
   "metadata": {},
   "outputs": [],
   "source": [
    "salutations = [\n",
    "    nlp(_sentence) for _sentence in [\n",
    "        \"hi\",\n",
    "        \"dear\",\n",
    "        \"to\",\n",
    "        \"hello\",\n",
    "        \"good morning\",\n",
    "        \"good afternoon\",\n",
    "        \"good evening\",\n",
    "    ]\n",
    "]"
   ]
  },
  {
   "cell_type": "code",
   "execution_count": 142,
   "id": "83918aec",
   "metadata": {},
   "outputs": [],
   "source": [
    "def similiarity_with_salutations(sentence):\n",
    "    return sum([\n",
    "        salute.similarity(sentence)\n",
    "        for salute in salutations\n",
    "    ]) / len(salutations)"
   ]
  },
  {
   "cell_type": "code",
   "execution_count": 144,
   "id": "9bdaa06b",
   "metadata": {},
   "outputs": [
    {
     "name": "stdout",
     "output_type": "stream",
     "text": [
      "distance   0.3672334578815083: Hello Dr. Levance, hope you have been well.\n",
      "distance  0.32671407068833364: I am writing this email about the patcient Macky Robert who had injury.\n",
      "distance 0.044446690916190176: Apple is looking at buying U.K. startup for $1 billion.\n",
      "distance -0.06648804964106445: Softbank acquired ARM with $32 billion in 2016.\n",
      "distance  0.25953204940340635: Sushi goes well with soy source.\n"
     ]
    }
   ],
   "source": [
    "for sentence in doc.sents:\n",
    "    print(f\"distance {similiarity_with_salutations(sentence):20}: {sentence.text.strip()}\")"
   ]
  }
 ],
 "metadata": {
  "kernelspec": {
   "display_name": "Python 3 (ipykernel)",
   "language": "python",
   "name": "python3"
  },
  "language_info": {
   "codemirror_mode": {
    "name": "ipython",
    "version": 3
   },
   "file_extension": ".py",
   "mimetype": "text/x-python",
   "name": "python",
   "nbconvert_exporter": "python",
   "pygments_lexer": "ipython3",
   "version": "3.10.12"
  }
 },
 "nbformat": 4,
 "nbformat_minor": 5
}
