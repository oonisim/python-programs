{
 "cells": [
  {
   "cell_type": "markdown",
   "id": "c9e15a8d",
   "metadata": {},
   "source": [
    "# How to download a pretrained pipeline and load it\n",
    "\n",
    "* [](https://stackoverflow.com/questions/76259007/spacy-how-to-load-a-downloaded-pretrained-pipeline)"
   ]
  },
  {
   "cell_type": "code",
   "execution_count": 1,
   "id": "4c66eaaf",
   "metadata": {},
   "outputs": [],
   "source": [
    "import spacy"
   ]
  },
  {
   "cell_type": "code",
   "execution_count": 2,
   "id": "1478434c",
   "metadata": {},
   "outputs": [
    {
     "name": "stdout",
     "output_type": "stream",
     "text": [
      "Collecting en-core-web-sm==3.5.0\n",
      "  Downloading https://github.com/explosion/spacy-models/releases/download/en_core_web_sm-3.5.0/en_core_web_sm-3.5.0-py3-none-any.whl (12.8 MB)\n",
      "\u001b[2K     \u001b[90m━━━━━━━━━━━━━━━━━━━━━━━━━━━━━━━━━━━━━━━━\u001b[0m \u001b[32m12.8/12.8 MB\u001b[0m \u001b[31m4.9 MB/s\u001b[0m eta \u001b[36m0:00:00\u001b[0m00:01\u001b[0m00:01\u001b[0m\n",
      "\u001b[?25hCollecting spacy<3.6.0,>=3.5.0\n",
      "  Downloading spacy-3.5.3-cp39-cp39-macosx_11_0_arm64.whl (6.6 MB)\n",
      "\u001b[2K     \u001b[90m━━━━━━━━━━━━━━━━━━━━━━━━━━━━━━━━━━━━━━━━\u001b[0m \u001b[32m6.6/6.6 MB\u001b[0m \u001b[31m4.6 MB/s\u001b[0m eta \u001b[36m0:00:00\u001b[0m00:01\u001b[0m00:01\u001b[0m\n",
      "\u001b[?25hCollecting tqdm<5.0.0,>=4.38.0\n",
      "  Using cached tqdm-4.65.0-py3-none-any.whl (77 kB)\n",
      "Collecting srsly<3.0.0,>=2.4.3\n",
      "  Using cached srsly-2.4.6-cp39-cp39-macosx_11_0_arm64.whl (490 kB)\n",
      "Collecting setuptools\n",
      "  Downloading setuptools-67.7.2-py3-none-any.whl (1.1 MB)\n",
      "\u001b[2K     \u001b[90m━━━━━━━━━━━━━━━━━━━━━━━━━━━━━━━━━━━━━━━━\u001b[0m \u001b[32m1.1/1.1 MB\u001b[0m \u001b[31m4.3 MB/s\u001b[0m eta \u001b[36m0:00:00\u001b[0ma \u001b[36m0:00:01\u001b[0m\n",
      "\u001b[?25hCollecting cymem<2.1.0,>=2.0.2\n",
      "  Using cached cymem-2.0.7-cp39-cp39-macosx_11_0_arm64.whl (31 kB)\n",
      "Collecting spacy-legacy<3.1.0,>=3.0.11\n",
      "  Using cached spacy_legacy-3.0.12-py2.py3-none-any.whl (29 kB)\n",
      "Collecting murmurhash<1.1.0,>=0.28.0\n",
      "  Using cached murmurhash-1.0.9-cp39-cp39-macosx_11_0_arm64.whl (19 kB)\n",
      "Collecting thinc<8.2.0,>=8.1.8\n",
      "  Downloading thinc-8.1.10-cp39-cp39-macosx_11_0_arm64.whl (782 kB)\n",
      "\u001b[2K     \u001b[90m━━━━━━━━━━━━━━━━━━━━━━━━━━━━━━━━━━━━━━━\u001b[0m \u001b[32m782.8/782.8 kB\u001b[0m \u001b[31m5.4 MB/s\u001b[0m eta \u001b[36m0:00:00\u001b[0ma \u001b[36m0:00:01\u001b[0m\n",
      "\u001b[?25hCollecting numpy>=1.15.0\n",
      "  Downloading numpy-1.24.3-cp39-cp39-macosx_11_0_arm64.whl (13.9 MB)\n",
      "\u001b[2K     \u001b[90m━━━━━━━━━━━━━━━━━━━━━━━━━━━━━━━━━━━━━━━━\u001b[0m \u001b[32m13.9/13.9 MB\u001b[0m \u001b[31m5.4 MB/s\u001b[0m eta \u001b[36m0:00:00\u001b[0m00:01\u001b[0m00:01\u001b[0m\n",
      "\u001b[?25hCollecting spacy-loggers<2.0.0,>=1.0.0\n",
      "  Using cached spacy_loggers-1.0.4-py3-none-any.whl (11 kB)\n",
      "Collecting requests<3.0.0,>=2.13.0\n",
      "  Downloading requests-2.30.0-py3-none-any.whl (62 kB)\n",
      "\u001b[2K     \u001b[90m━━━━━━━━━━━━━━━━━━━━━━━━━━━━━━━━━━━━━━━━\u001b[0m \u001b[32m62.5/62.5 kB\u001b[0m \u001b[31m2.8 MB/s\u001b[0m eta \u001b[36m0:00:00\u001b[0m\n",
      "\u001b[?25hCollecting catalogue<2.1.0,>=2.0.6\n",
      "  Using cached catalogue-2.0.8-py3-none-any.whl (17 kB)\n",
      "Collecting pydantic!=1.8,!=1.8.1,<1.11.0,>=1.7.4\n",
      "  Downloading pydantic-1.10.7-cp39-cp39-macosx_11_0_arm64.whl (2.6 MB)\n",
      "\u001b[2K     \u001b[90m━━━━━━━━━━━━━━━━━━━━━━━━━━━━━━━━━━━━━━━━\u001b[0m \u001b[32m2.6/2.6 MB\u001b[0m \u001b[31m5.1 MB/s\u001b[0m eta \u001b[36m0:00:00\u001b[0ma \u001b[36m0:00:01\u001b[0m\n",
      "\u001b[?25hCollecting preshed<3.1.0,>=3.0.2\n",
      "  Using cached preshed-3.0.8-cp39-cp39-macosx_11_0_arm64.whl (101 kB)\n",
      "Collecting wasabi<1.2.0,>=0.9.1\n",
      "  Using cached wasabi-1.1.1-py3-none-any.whl (27 kB)\n",
      "Collecting packaging>=20.0\n",
      "  Downloading packaging-23.1-py3-none-any.whl (48 kB)\n",
      "\u001b[2K     \u001b[90m━━━━━━━━━━━━━━━━━━━━━━━━━━━━━━━━━━━━━━━━\u001b[0m \u001b[32m48.9/48.9 kB\u001b[0m \u001b[31m4.1 MB/s\u001b[0m eta \u001b[36m0:00:00\u001b[0m\n",
      "\u001b[?25hCollecting smart-open<7.0.0,>=5.2.1\n",
      "  Using cached smart_open-6.3.0-py3-none-any.whl (56 kB)\n",
      "Collecting pathy>=0.10.0\n",
      "  Using cached pathy-0.10.1-py3-none-any.whl (48 kB)\n",
      "Collecting langcodes<4.0.0,>=3.2.0\n",
      "  Using cached langcodes-3.3.0-py3-none-any.whl (181 kB)\n",
      "Collecting typer<0.8.0,>=0.3.0\n",
      "  Using cached typer-0.7.0-py3-none-any.whl (38 kB)\n",
      "Collecting jinja2\n",
      "  Using cached Jinja2-3.1.2-py3-none-any.whl (133 kB)\n",
      "Collecting typing-extensions>=4.2.0\n",
      "  Using cached typing_extensions-4.5.0-py3-none-any.whl (27 kB)\n",
      "Collecting idna<4,>=2.5\n",
      "  Using cached idna-3.4-py3-none-any.whl (61 kB)\n",
      "Collecting charset-normalizer<4,>=2\n",
      "  Downloading charset_normalizer-3.1.0-cp39-cp39-macosx_11_0_arm64.whl (122 kB)\n",
      "\u001b[2K     \u001b[90m━━━━━━━━━━━━━━━━━━━━━━━━━━━━━━━━━━━━━━━\u001b[0m \u001b[32m123.0/123.0 kB\u001b[0m \u001b[31m3.8 MB/s\u001b[0m eta \u001b[36m0:00:00\u001b[0m\n",
      "\u001b[?25hCollecting certifi>=2017.4.17\n",
      "  Downloading certifi-2023.5.7-py3-none-any.whl (156 kB)\n",
      "\u001b[2K     \u001b[90m━━━━━━━━━━━━━━━━━━━━━━━━━━━━━━━━━━━━━━━\u001b[0m \u001b[32m157.0/157.0 kB\u001b[0m \u001b[31m3.8 MB/s\u001b[0m eta \u001b[36m0:00:00\u001b[0m-:--:--\u001b[0m\n",
      "\u001b[?25hCollecting urllib3<3,>=1.21.1\n",
      "  Downloading urllib3-2.0.2-py3-none-any.whl (123 kB)\n",
      "\u001b[2K     \u001b[90m━━━━━━━━━━━━━━━━━━━━━━━━━━━━━━━━━━━━━\u001b[0m \u001b[32m123.2/123.2 kB\u001b[0m \u001b[31m863.7 kB/s\u001b[0m eta \u001b[36m0:00:00\u001b[0ma \u001b[36m0:00:01\u001b[0m\n",
      "\u001b[?25hCollecting confection<1.0.0,>=0.0.1\n",
      "  Using cached confection-0.0.4-py3-none-any.whl (32 kB)\n",
      "Collecting blis<0.8.0,>=0.7.8\n",
      "  Using cached blis-0.7.9-cp39-cp39-macosx_11_0_arm64.whl (1.1 MB)\n",
      "Collecting click<9.0.0,>=7.1.1\n",
      "  Using cached click-8.1.3-py3-none-any.whl (96 kB)\n",
      "Collecting MarkupSafe>=2.0\n",
      "  Using cached MarkupSafe-2.1.2-cp39-cp39-macosx_10_9_universal2.whl (17 kB)\n",
      "Installing collected packages: cymem, wasabi, urllib3, typing-extensions, tqdm, spacy-loggers, spacy-legacy, smart-open, setuptools, packaging, numpy, murmurhash, MarkupSafe, langcodes, idna, click, charset-normalizer, certifi, catalogue, typer, srsly, requests, pydantic, preshed, jinja2, blis, pathy, confection, thinc, spacy, en-core-web-sm\n",
      "Successfully installed MarkupSafe-2.1.2 blis-0.7.9 catalogue-2.0.8 certifi-2023.5.7 charset-normalizer-3.1.0 click-8.1.3 confection-0.0.4 cymem-2.0.7 en-core-web-sm-3.5.0 idna-3.4 jinja2-3.1.2 langcodes-3.3.0 murmurhash-1.0.9 numpy-1.24.3 packaging-23.1 pathy-0.10.1 preshed-3.0.8 pydantic-1.10.7 requests-2.30.0 setuptools-67.7.2 smart-open-6.3.0 spacy-3.5.3 spacy-legacy-3.0.12 spacy-loggers-1.0.4 srsly-2.4.6 thinc-8.1.10 tqdm-4.65.0 typer-0.7.0 typing-extensions-4.5.0 urllib3-2.0.2 wasabi-1.1.1\n",
      "\u001b[38;5;2m✔ Download and installation successful\u001b[0m\n",
      "You can now load the package via spacy.load('en_core_web_sm')\n"
     ]
    },
    {
     "name": "stderr",
     "output_type": "stream",
     "text": [
      "\u001b[31mERROR: pip's dependency resolver does not currently take into account all the packages that are installed. This behaviour is the source of the following dependency conflicts.\n",
      "streamlit 0.82.0 requires click<8.0,>=7.0, but you have click 8.1.3 which is incompatible.\n",
      "numba 0.56.4 requires numpy<1.24,>=1.18, but you have numpy 1.24.3 which is incompatible.\n",
      "botocore 1.29.127 requires urllib3<1.27,>=1.25.4, but you have urllib3 2.0.2 which is incompatible.\u001b[0m\u001b[31m\n",
      "\u001b[0m\n",
      "\u001b[1m[\u001b[0m\u001b[34;49mnotice\u001b[0m\u001b[1;39;49m]\u001b[0m\u001b[39;49m A new release of pip is available: \u001b[0m\u001b[31;49m23.0.1\u001b[0m\u001b[39;49m -> \u001b[0m\u001b[32;49m23.1.2\u001b[0m\n",
      "\u001b[1m[\u001b[0m\u001b[34;49mnotice\u001b[0m\u001b[1;39;49m]\u001b[0m\u001b[39;49m To update, run: \u001b[0m\u001b[32;49mpip install --upgrade pip\u001b[0m\n"
     ]
    }
   ],
   "source": [
    "spacy.cli.download(\"en_core_web_sm\", False, False, \"--target\", \"/tmp/spacy\")"
   ]
  },
  {
   "cell_type": "code",
   "execution_count": 9,
   "id": "63106cc9",
   "metadata": {},
   "outputs": [
    {
     "ename": "OSError",
     "evalue": "[E053] Could not read config file from /tmp/spacy/en_core_web_sm/config.cfg",
     "output_type": "error",
     "traceback": [
      "\u001b[0;31m---------------------------------------------------------------------------\u001b[0m",
      "\u001b[0;31mOSError\u001b[0m                                   Traceback (most recent call last)",
      "Cell \u001b[0;32mIn[9], line 1\u001b[0m\n\u001b[0;32m----> 1\u001b[0m nlp \u001b[38;5;241m=\u001b[39m \u001b[43mspacy\u001b[49m\u001b[38;5;241;43m.\u001b[39;49m\u001b[43mload\u001b[49m\u001b[43m(\u001b[49m\u001b[38;5;124;43m\"\u001b[39;49m\u001b[38;5;124;43m/tmp/spacy/en_core_web_sm\u001b[39;49m\u001b[38;5;124;43m\"\u001b[39;49m\u001b[43m)\u001b[49m\n",
      "File \u001b[0;32m~/venv/tf/lib/python3.9/site-packages/spacy/__init__.py:54\u001b[0m, in \u001b[0;36mload\u001b[0;34m(name, vocab, disable, enable, exclude, config)\u001b[0m\n\u001b[1;32m     30\u001b[0m \u001b[38;5;28;01mdef\u001b[39;00m \u001b[38;5;21mload\u001b[39m(\n\u001b[1;32m     31\u001b[0m     name: Union[\u001b[38;5;28mstr\u001b[39m, Path],\n\u001b[1;32m     32\u001b[0m     \u001b[38;5;241m*\u001b[39m,\n\u001b[0;32m   (...)\u001b[0m\n\u001b[1;32m     37\u001b[0m     config: Union[Dict[\u001b[38;5;28mstr\u001b[39m, Any], Config] \u001b[38;5;241m=\u001b[39m util\u001b[38;5;241m.\u001b[39mSimpleFrozenDict(),\n\u001b[1;32m     38\u001b[0m ) \u001b[38;5;241m-\u001b[39m\u001b[38;5;241m>\u001b[39m Language:\n\u001b[1;32m     39\u001b[0m \u001b[38;5;250m    \u001b[39m\u001b[38;5;124;03m\"\"\"Load a spaCy model from an installed package or a local path.\u001b[39;00m\n\u001b[1;32m     40\u001b[0m \n\u001b[1;32m     41\u001b[0m \u001b[38;5;124;03m    name (str): Package name or model path.\u001b[39;00m\n\u001b[0;32m   (...)\u001b[0m\n\u001b[1;32m     52\u001b[0m \u001b[38;5;124;03m    RETURNS (Language): The loaded nlp object.\u001b[39;00m\n\u001b[1;32m     53\u001b[0m \u001b[38;5;124;03m    \"\"\"\u001b[39;00m\n\u001b[0;32m---> 54\u001b[0m     \u001b[38;5;28;01mreturn\u001b[39;00m \u001b[43mutil\u001b[49m\u001b[38;5;241;43m.\u001b[39;49m\u001b[43mload_model\u001b[49m\u001b[43m(\u001b[49m\n\u001b[1;32m     55\u001b[0m \u001b[43m        \u001b[49m\u001b[43mname\u001b[49m\u001b[43m,\u001b[49m\n\u001b[1;32m     56\u001b[0m \u001b[43m        \u001b[49m\u001b[43mvocab\u001b[49m\u001b[38;5;241;43m=\u001b[39;49m\u001b[43mvocab\u001b[49m\u001b[43m,\u001b[49m\n\u001b[1;32m     57\u001b[0m \u001b[43m        \u001b[49m\u001b[43mdisable\u001b[49m\u001b[38;5;241;43m=\u001b[39;49m\u001b[43mdisable\u001b[49m\u001b[43m,\u001b[49m\n\u001b[1;32m     58\u001b[0m \u001b[43m        \u001b[49m\u001b[43menable\u001b[49m\u001b[38;5;241;43m=\u001b[39;49m\u001b[43menable\u001b[49m\u001b[43m,\u001b[49m\n\u001b[1;32m     59\u001b[0m \u001b[43m        \u001b[49m\u001b[43mexclude\u001b[49m\u001b[38;5;241;43m=\u001b[39;49m\u001b[43mexclude\u001b[49m\u001b[43m,\u001b[49m\n\u001b[1;32m     60\u001b[0m \u001b[43m        \u001b[49m\u001b[43mconfig\u001b[49m\u001b[38;5;241;43m=\u001b[39;49m\u001b[43mconfig\u001b[49m\u001b[43m,\u001b[49m\n\u001b[1;32m     61\u001b[0m \u001b[43m    \u001b[49m\u001b[43m)\u001b[49m\n",
      "File \u001b[0;32m~/venv/tf/lib/python3.9/site-packages/spacy/util.py:434\u001b[0m, in \u001b[0;36mload_model\u001b[0;34m(name, vocab, disable, enable, exclude, config)\u001b[0m\n\u001b[1;32m    432\u001b[0m         \u001b[38;5;28;01mreturn\u001b[39;00m load_model_from_package(name, \u001b[38;5;241m*\u001b[39m\u001b[38;5;241m*\u001b[39mkwargs)  \u001b[38;5;66;03m# type: ignore[arg-type]\u001b[39;00m\n\u001b[1;32m    433\u001b[0m     \u001b[38;5;28;01mif\u001b[39;00m Path(name)\u001b[38;5;241m.\u001b[39mexists():  \u001b[38;5;66;03m# path to model data directory\u001b[39;00m\n\u001b[0;32m--> 434\u001b[0m         \u001b[38;5;28;01mreturn\u001b[39;00m \u001b[43mload_model_from_path\u001b[49m\u001b[43m(\u001b[49m\u001b[43mPath\u001b[49m\u001b[43m(\u001b[49m\u001b[43mname\u001b[49m\u001b[43m)\u001b[49m\u001b[43m,\u001b[49m\u001b[43m \u001b[49m\u001b[38;5;241;43m*\u001b[39;49m\u001b[38;5;241;43m*\u001b[39;49m\u001b[43mkwargs\u001b[49m\u001b[43m)\u001b[49m  \u001b[38;5;66;03m# type: ignore[arg-type]\u001b[39;00m\n\u001b[1;32m    435\u001b[0m \u001b[38;5;28;01melif\u001b[39;00m \u001b[38;5;28mhasattr\u001b[39m(name, \u001b[38;5;124m\"\u001b[39m\u001b[38;5;124mexists\u001b[39m\u001b[38;5;124m\"\u001b[39m):  \u001b[38;5;66;03m# Path or Path-like to model data\u001b[39;00m\n\u001b[1;32m    436\u001b[0m     \u001b[38;5;28;01mreturn\u001b[39;00m load_model_from_path(name, \u001b[38;5;241m*\u001b[39m\u001b[38;5;241m*\u001b[39mkwargs)  \u001b[38;5;66;03m# type: ignore[arg-type]\u001b[39;00m\n",
      "File \u001b[0;32m~/venv/tf/lib/python3.9/site-packages/spacy/util.py:505\u001b[0m, in \u001b[0;36mload_model_from_path\u001b[0;34m(model_path, meta, vocab, disable, enable, exclude, config)\u001b[0m\n\u001b[1;32m    503\u001b[0m config_path \u001b[38;5;241m=\u001b[39m model_path \u001b[38;5;241m/\u001b[39m \u001b[38;5;124m\"\u001b[39m\u001b[38;5;124mconfig.cfg\u001b[39m\u001b[38;5;124m\"\u001b[39m\n\u001b[1;32m    504\u001b[0m overrides \u001b[38;5;241m=\u001b[39m dict_to_dot(config)\n\u001b[0;32m--> 505\u001b[0m config \u001b[38;5;241m=\u001b[39m \u001b[43mload_config\u001b[49m\u001b[43m(\u001b[49m\u001b[43mconfig_path\u001b[49m\u001b[43m,\u001b[49m\u001b[43m \u001b[49m\u001b[43moverrides\u001b[49m\u001b[38;5;241;43m=\u001b[39;49m\u001b[43moverrides\u001b[49m\u001b[43m)\u001b[49m\n\u001b[1;32m    506\u001b[0m nlp \u001b[38;5;241m=\u001b[39m load_model_from_config(\n\u001b[1;32m    507\u001b[0m     config,\n\u001b[1;32m    508\u001b[0m     vocab\u001b[38;5;241m=\u001b[39mvocab,\n\u001b[0;32m   (...)\u001b[0m\n\u001b[1;32m    512\u001b[0m     meta\u001b[38;5;241m=\u001b[39mmeta,\n\u001b[1;32m    513\u001b[0m )\n\u001b[1;32m    514\u001b[0m \u001b[38;5;28;01mreturn\u001b[39;00m nlp\u001b[38;5;241m.\u001b[39mfrom_disk(model_path, exclude\u001b[38;5;241m=\u001b[39mexclude, overrides\u001b[38;5;241m=\u001b[39moverrides)\n",
      "File \u001b[0;32m~/venv/tf/lib/python3.9/site-packages/spacy/util.py:681\u001b[0m, in \u001b[0;36mload_config\u001b[0;34m(path, overrides, interpolate)\u001b[0m\n\u001b[1;32m    679\u001b[0m \u001b[38;5;28;01melse\u001b[39;00m:\n\u001b[1;32m    680\u001b[0m     \u001b[38;5;28;01mif\u001b[39;00m \u001b[38;5;129;01mnot\u001b[39;00m config_path \u001b[38;5;129;01mor\u001b[39;00m \u001b[38;5;129;01mnot\u001b[39;00m config_path\u001b[38;5;241m.\u001b[39mis_file():\n\u001b[0;32m--> 681\u001b[0m         \u001b[38;5;28;01mraise\u001b[39;00m \u001b[38;5;167;01mIOError\u001b[39;00m(Errors\u001b[38;5;241m.\u001b[39mE053\u001b[38;5;241m.\u001b[39mformat(path\u001b[38;5;241m=\u001b[39mconfig_path, name\u001b[38;5;241m=\u001b[39m\u001b[38;5;124m\"\u001b[39m\u001b[38;5;124mconfig file\u001b[39m\u001b[38;5;124m\"\u001b[39m))\n\u001b[1;32m    682\u001b[0m     \u001b[38;5;28;01mreturn\u001b[39;00m config\u001b[38;5;241m.\u001b[39mfrom_disk(\n\u001b[1;32m    683\u001b[0m         config_path, overrides\u001b[38;5;241m=\u001b[39moverrides, interpolate\u001b[38;5;241m=\u001b[39minterpolate\n\u001b[1;32m    684\u001b[0m     )\n",
      "\u001b[0;31mOSError\u001b[0m: [E053] Could not read config file from /tmp/spacy/en_core_web_sm/config.cfg"
     ]
    }
   ],
   "source": [
    "nlp = spacy.load(\"/tmp/spacy/en_core_web_sm\")"
   ]
  },
  {
   "cell_type": "code",
   "execution_count": 10,
   "id": "09472878",
   "metadata": {},
   "outputs": [
    {
     "data": {
      "text/plain": [
       "'3.5.0'"
      ]
     },
     "execution_count": 10,
     "metadata": {},
     "output_type": "execute_result"
    }
   ],
   "source": [
    "spacy.__version__"
   ]
  },
  {
   "cell_type": "code",
   "execution_count": 11,
   "id": "81987022",
   "metadata": {},
   "outputs": [],
   "source": [
    "nlp = spacy.load(\"/tmp/spacy/en_core_web_sm/en_core_web_sm-3.5.0/\")"
   ]
  },
  {
   "cell_type": "code",
   "execution_count": 12,
   "id": "36db9be3",
   "metadata": {},
   "outputs": [],
   "source": [
    "doc = nlp('Millions of Turks are headed to the polls Sunday in what is set to be Turkey’s most consequential election in two decades, and one whose results will have implications far beyond its own borders. The country of 85 million holds both its presidential and parliamentary elections on May 14. For the presidency — which is expected to be close — if no candidate wins more than 50%, the vote goes to a run-off two weeks later. Incumbent President Recep Tayyip Erdogan is facing his toughest test yet after two decades in power, grappling with public anger over worsening economic conditions and the slow government response to a series of devastating earthquakes in February that killed more than 50,000 people. His primary opponent, 74-year-old Kemal Kilicdaroglu of the center-left Republican People’s Party (CHP), is running as a unity candidate representing six different parties that all want to see Erdogan out of power. In a possibly game-changing development, one of the four presidential candidates, Muharrem Ince, pulled out of the race Thursday. A former CHP member, he had been under heavy criticism for splitting the opposition vote in a way that would hurt Kilicdaroglu’s chances. Now, with Ince out of the race, his votes may go to Erdogan’s top challenger Kilicdaroglu, helping him tremendously and spelling more trouble for the 69-year-old Erdogan. Another crucial factor will be turnout: More than 5 million young Turks will be voting for the first time, and the greater the youth turnout, the better for the challenger candidate and the worse for the incumbent, election analysts say. With such a high-stakes contest, many inside and out of the country are asking whether Erdogan may dispute the result if he does not win. The most likely tactics that he’s going to use to try to tip the vote will be to use influence in the electoral board (the YSK), courts, and media to build a narrative that either elections should be re-run or that they are illegitimate,” said Ryan Bohl, a senior Middle East and North Africa analyst at Rane. Erdogan did this in 2019 when his party narrowly lost the Istanbul mayoral race, only to lose again by a greater margin after demanding a re-run. Some even fear violence and instability if the result is disputed, which would bring more volatility to Turkey’s already damaged economy. Turkish and foreign analysts and rights activists have for years been sounding the alarm over increasingly autocratic governance coming from Erdogan’s administration. CNBC has reached out to the Turkish Presidency’s office for comment. ‘So much at stake’ The election’s outcome and its impact on stability in the country, which sits as a crossroads between Europe and Asia and is home to NATO’s second-largest military, is of paramount importance both domestically and internationally. There is so much at stake for President Erdogan and his AKP (Justice and Development Party) for the first time, as his 20-year rule over Türkiye may come to an end given the unified opposition has managed to maintain a strong alliance and stay on a hope-building positive campaign,” said Hakan Akbas, managing director of consulting firm Strategic Advisory Services based between Istanbul and Washington. This is similar, he noted, to what Istanbul Mayor Emrak Imamoglu did to win twice against Erdogan’s AKP candidate in the mayoral election in 2019.” Imamoglu, a popular figure who was widely expected to run for the presidency as a formidable opponent to Erdogan, was in December sentenced to nearly three years in prison and barred from politics for what a court described as insulting the judges of the Supreme Election Council (YSK). Imamoglu and his supporters say the charges are purely political and were influenced by Erdogan and his party to sabotage his political ambitions.')"
   ]
  },
  {
   "cell_type": "code",
   "execution_count": 13,
   "id": "825ddf32",
   "metadata": {},
   "outputs": [
    {
     "name": "stdout",
     "output_type": "stream",
     "text": [
      "Entity                                            Start  End    Label     \n",
      "--------------------------------------------------------------------------------\n",
      "Millions                                          0      8      CARDINAL  \n",
      "Turks                                             12     17     NORP      \n",
      "Sunday                                            42     48     DATE      \n",
      "Turkey                                            70     76     GPE       \n",
      "two decades                                       110    121    DATE      \n",
      "85 million                                        211    221    CARDINAL  \n",
      "May 14                                            281    287    DATE      \n",
      "more than 50%                                     363    376    PERCENT   \n",
      "two weeks later                                   405    420    DATE      \n",
      "Recep Tayyip Erdogan                              442    462    PERSON    \n",
      "two decades                                       501    512    DATE      \n",
      "February                                          661    669    DATE      \n",
      "more than 50,000                                  682    698    CARDINAL  \n",
      "74-year-old                                       729    740    DATE      \n",
      "Kemal Kilicdaroglu                                741    759    PERSON    \n",
      "Republican People’s Party                         779    804    ORG       \n",
      "CHP                                               806    809    ORG       \n",
      "six                                               857    860    CARDINAL  \n",
      "Erdogan                                           900    907    PERSON    \n",
      "one                                               963    966    CARDINAL  \n",
      "four                                              974    978    CARDINAL  \n",
      "Muharrem Ince                                     1004   1017   PERSON    \n",
      "Thursday                                          1042   1050   DATE      \n",
      "CHP                                               1061   1064   ORG       \n",
      "Kilicdaroglu                                      1166   1178   ORG       \n",
      "Erdogan                                           1242   1249   PERSON    \n",
      "Kilicdaroglu                                      1267   1279   GPE       \n",
      "69-year-old                                       1340   1351   DATE      \n",
      "Erdogan                                           1352   1359   PERSON    \n",
      "More than 5 million                               1401   1420   CARDINAL  \n",
      "Turks                                             1427   1432   NORP      \n",
      "first                                             1456   1461   ORDINAL   \n",
      "Erdogan                                           1686   1693   PERSON    \n",
      "the electoral board                               1835   1854   ORG       \n",
      "Ryan Bohl                                         1981   1990   PERSON    \n",
      "Middle East                                       2001   2012   LOC       \n",
      "North Africa                                      2017   2029   GPE       \n",
      "Rane                                              2041   2045   PERSON    \n",
      "Erdogan                                           2047   2054   PERSON    \n",
      "2019                                              2067   2071   DATE      \n",
      "Istanbul                                          2105   2113   GPE       \n",
      "Turkey                                            2297   2303   GPE       \n",
      "Turkish                                           2331   2338   NORP      \n",
      "years                                             2390   2395   DATE      \n",
      "Erdogan                                           2472   2479   ORG       \n",
      "CNBC                                              2498   2502   ORG       \n",
      "Turkish                                           2526   2533   NORP      \n",
      "Europe                                            2688   2694   LOC       \n",
      "Asia                                              2699   2703   LOC       \n",
      "NATO                                              2719   2723   ORG       \n",
      "second                                            2726   2732   ORDINAL   \n",
      "Erdogan                                           2857   2864   PERSON    \n",
      "AKP                                               2873   2876   ORG       \n",
      "Justice                                           2878   2885   ORG       \n",
      "Development Party                                 2890   2907   ORG       \n",
      "first                                             2917   2922   ORDINAL   \n",
      "20-year                                           2936   2943   DATE      \n",
      "Türkiye                                           2954   2961   GPE       \n",
      "Hakan Akbas                                       3105   3116   PERSON    \n",
      "Strategic Advisory Services                       3155   3182   ORG       \n",
      "Istanbul                                          3197   3205   GPE       \n",
      "Washington                                        3210   3220   GPE       \n",
      "Istanbul                                          3257   3265   GPE       \n",
      "Emrak Imamoglu                                    3272   3286   PERSON    \n",
      "Erdogan                                           3312   3319   ORG       \n",
      "AKP                                               3322   3325   ORG       \n",
      "2019                                              3363   3367   DATE      \n",
      "Imamoglu                                          3370   3378   PERSON    \n",
      "Erdogan                                           3475   3482   PERSON    \n",
      "December                                          3491   3499   DATE      \n",
      "nearly three years                                3513   3531   DATE      \n",
      "the Supreme Election Council                      3621   3649   ORG       \n",
      "Imamoglu                                          3657   3665   PERSON    \n",
      "Erdogan                                           3745   3752   PERSON    \n"
     ]
    }
   ],
   "source": [
    "print(\"{}{}{}{}\".format(\n",
    "    \"Entity\".ljust(50), \"Start\".ljust(7), \"End\".ljust(7), \"Label\".ljust(10)\n",
    "))\n",
    "print(\"-\" * 80)\n",
    "for ent in doc.ents:\n",
    "    print(f\"{ent.text:50}{ent.start_char:<7}{ent.end_char:<7}{ent.label_:10}\")"
   ]
  },
  {
   "cell_type": "code",
   "execution_count": null,
   "id": "82f4670c",
   "metadata": {},
   "outputs": [],
   "source": []
  }
 ],
 "metadata": {
  "kernelspec": {
   "display_name": "Python 3 (ipykernel)",
   "language": "python",
   "name": "python3"
  },
  "language_info": {
   "codemirror_mode": {
    "name": "ipython",
    "version": 3
   },
   "file_extension": ".py",
   "mimetype": "text/x-python",
   "name": "python",
   "nbconvert_exporter": "python",
   "pygments_lexer": "ipython3",
   "version": "3.9.13"
  }
 },
 "nbformat": 4,
 "nbformat_minor": 5
}
