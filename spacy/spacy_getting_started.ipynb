{
 "cells": [
  {
   "cell_type": "markdown",
   "id": "f0ed2b83",
   "metadata": {},
   "source": [
    "# Installation"
   ]
  },
  {
   "cell_type": "raw",
   "id": "a24f44b9",
   "metadata": {},
   "source": [
    "%%bash\n",
    "pip install spacy spacy-transformers\n",
    "\n",
    "python -m spacy download zh_core_web_trf \n",
    "python -m spacy download zh_core_web_sm \n",
    "python -m spacy download en_core_web_sm\n",
    "python -m spacy download en_core_web_lg\n",
    "python -m spacy download en_core_web_trf"
   ]
  },
  {
   "cell_type": "code",
   "execution_count": 22,
   "id": "b04d955e",
   "metadata": {},
   "outputs": [],
   "source": [
    "import os\n",
    "import itertools\n",
    "import spacy\n",
    "from spacy import displacy"
   ]
  },
  {
   "cell_type": "code",
   "execution_count": 3,
   "id": "980c71be",
   "metadata": {},
   "outputs": [
    {
     "data": {
      "text/html": [
       "<style>\n",
       "table {float:left}\n",
       "</style>\n"
      ],
      "text/plain": [
       "<IPython.core.display.HTML object>"
      ]
     },
     "metadata": {},
     "output_type": "display_data"
    }
   ],
   "source": [
    "%%html\n",
    "<style>\n",
    "table {float:left}\n",
    "</style>"
   ]
  },
  {
   "cell_type": "markdown",
   "id": "721017b9",
   "metadata": {},
   "source": [
    "# SpaCy \n",
    "\n",
    "* [Architecture](https://spacy.io/usage/spacy-101#architecture)\n",
    "\n",
    "> The central data structures in spaCy are the [Language class](https://spacy.io/api/language), the Vocab and the Doc object. The Language class is used to process a text and turn it into a Doc object. It’s typically stored as a variable called nlp. The Doc object owns the sequence of tokens and all their annotations. By centralizing strings, word vectors and lexical attributes in the Vocab, we avoid storing multiple copies of this data. This saves memory, and ensures there’s a single source of truth.\n",
    "> \n",
    "> Text annotations are also designed to allow a single source of truth: the Doc object owns the data, and Span and Token are views that point into it. The Doc object is constructed by the Tokenizer, and then modified in place by the components of the pipeline. The Language object coordinates these components. It takes raw text and sends it through the pipeline, returning an annotated document. It also orchestrates training and serialization.\n",
    "\n",
    "<img src=\"image/spacy_architecture.png\" align=\"left\" width=500/>"
   ]
  },
  {
   "cell_type": "markdown",
   "id": "9d97b873",
   "metadata": {},
   "source": [
    "| NAME      | DESCRIPTION                                                                                                                                             |\n",
    "|:-----------|:---------------------------------------------------------------------------------------------------------------------------------------------------------|\n",
    "| Doc       | A container for accessing linguistic annotations.                                                                                                       |\n",
    "| DocBin    | A collection of Doc objects for efficient binary serialization. Also used for training data.                                                            |\n",
    "| Example   | A collection of training annotations, containing two Doc objects: the reference data and the predictions.                                               |\n",
    "| Language  | Processing class that turns text into Doc objects. Different languages implement their own subclasses of it. The variable is typically called ```nlp```.      |\n",
    "| Lexeme    | An entry in the vocabulary. It’s a word type with no context, as opposed to a word token. It therefore has no part-of-speech tag, dependency parse etc. |\n",
    "| Span      | A slice from a Doc object.                                                                                                                              |\n",
    "| SpanGroup | A named collection of spans belonging to a Doc.                                                                                                         |\n",
    "| Token     | An individual token — i.e. a word, punctuation symbol, whitespace, etc.                                                                                 |"
   ]
  },
  {
   "cell_type": "markdown",
   "id": "4a0c54c7",
   "metadata": {},
   "source": [
    "# Language Processing Pipeline \n",
    "\n",
    "Pretrained Pipepeline (Pretrained Language Processing Pipeline) is the SpaCy runtime to do the work.\n",
    "\n",
    "* [Language Processing Pipelines](https://spacy.io/usage/processing-pipelines)\n",
    "\n",
    "<img src=\"image/spacy_processing_pipeline.png\" align=\"left\" width=750/>"
   ]
  },
  {
   "cell_type": "markdown",
   "id": "98ce83b9",
   "metadata": {},
   "source": [
    "## Load the Language Model for the pipeline\n",
    "\n",
    "A Pretrained Pipeline is instantiated by loading a pretrained model. It is also called **[Language](https://spacy.io/api/language) Object** and by convention ```nlp``` is the object name.\n",
    "\n",
    "* [Trained Models & Pipelines](https://spacy.io/models)\n",
    "\n",
    "```\n",
    "nlp = spacy.load(\"<language>-<type>-<genre>-<size>\")\n",
    "```\n",
    "\n",
    "> * Type: Capabilities (e.g. core for general-purpose pipeline with tagging, parsing, lemmatization and named entity recognition, or dep for only tagging, parsing and lemmatization).\n",
    "> * Genre: Type of text the pipeline is trained on, e.g. web or news.\n",
    "> *  Size: Package size indicator, ```sm```, ```md```, ```lg``` or ```trf```. ```sm``` and ```trf``` pipelines have no static word vectors. \n",
    "\n",
    "```trf``` means **Transformer**.\n",
    "\n",
    "> For pipelines with default vectors, ```md``` has a reduced word vector table with 20k unique vectors for ~500k words and ```lg``` has a large word vector table with ~500k entries. For pipelines with floret vectors, md vector tables have 50k entries and lg vector tables have 200k entries.  \n",
    "\n",
    "```en_core_web_sm``` is a small English pipeline trained on written web text (blogs, news, comments), that includes vocabulary, syntax and entities.\n",
    "\n"
   ]
  },
  {
   "cell_type": "markdown",
   "id": "85293f57",
   "metadata": {},
   "source": [
    "## Loading Model"
   ]
  },
  {
   "cell_type": "code",
   "execution_count": 9,
   "id": "5629f2f9",
   "metadata": {},
   "outputs": [],
   "source": [
    "# By convention \"nlp\" is the pipeline instance name\n",
    "SPACY_MODEL_NAME = \"en_core_web_sm\"\n",
    "nlp = spacy.load(SPACY_MODEL_NAME)"
   ]
  },
  {
   "cell_type": "markdown",
   "id": "8e490b64",
   "metadata": {},
   "source": [
    "### Model location\n",
    "\n",
    "```.path``` attribute provides the model location."
   ]
  },
  {
   "cell_type": "code",
   "execution_count": 25,
   "id": "e0e9dca6",
   "metadata": {},
   "outputs": [
    {
     "name": "stdout",
     "output_type": "stream",
     "text": [
      "LICENSE          \u001b[34mattribute_ruler\u001b[m\u001b[m  \u001b[34mner\u001b[m\u001b[m              \u001b[34mtok2vec\u001b[m\u001b[m\r\n",
      "LICENSES_SOURCES config.cfg       \u001b[34mparser\u001b[m\u001b[m           tokenizer\r\n",
      "README.md        \u001b[34mlemmatizer\u001b[m\u001b[m       \u001b[34msenter\u001b[m\u001b[m           \u001b[34mvocab\u001b[m\u001b[m\r\n",
      "accuracy.json    meta.json        \u001b[34mtagger\u001b[m\u001b[m\r\n"
     ]
    }
   ],
   "source": [
    "!ls $nlp.path"
   ]
  },
  {
   "cell_type": "markdown",
   "id": "290378a8",
   "metadata": {},
   "source": [
    "---\n",
    "# Model Configuration\n",
    "\n",
    "\n",
    "All pretrained models and their information is listed at [Trained Models & Pipelines](https://spacy.io/models). For instance [en_core_web_sm](https://spacy.io/models/en#en_core_web_sm) for the pretrained small English model.\n",
    "\n",
    "[Spacy CLI](https://spacy.io/api/cli) ```info``` command can show the configuration of a model.\n"
   ]
  },
  {
   "cell_type": "code",
   "execution_count": 53,
   "id": "c1210b6b",
   "metadata": {
    "scrolled": true
   },
   "outputs": [],
   "source": [
    "#!python -m spacy info en_core_web_sm"
   ]
  },
  {
   "cell_type": "markdown",
   "id": "c28eb49d",
   "metadata": {},
   "source": [
    "## Config System\n",
    "\n",
    "The ```config.cfg``` is the core to define the model configuration. [Spacy model training - Quickstart](https://spacy.io/usage/training#quickstart) can give the idea.\n",
    "\n",
    "<img src=\"./image/spacy_config_cfg.png\" align=\"left\"/>\n"
   ]
  },
  {
   "cell_type": "markdown",
   "id": "a1842c10",
   "metadata": {},
   "source": [
    "The config.cfg is stored under the model directory."
   ]
  },
  {
   "cell_type": "code",
   "execution_count": 37,
   "id": "d0952952",
   "metadata": {},
   "outputs": [
    {
     "name": "stdout",
     "output_type": "stream",
     "text": [
      "[paths]\n",
      "train = null\n",
      "dev = null\n",
      "vectors = null\n",
      "init_tok2vec = null\n",
      "\n",
      "[system]\n",
      "gpu_allocator = null\n",
      "seed = 0\n",
      "\n",
      "[nlp]\n",
      "lang = \"en\"\n",
      "pipeline = [\"tok2vec\",\"tagger\",\"parser\",\"senter\",\"attribute_ruler\",\"lemmatizer\",\"ner\"]\n",
      "disabled = [\"senter\"]\n",
      "before_creation = null\n",
      "after_creation = null\n",
      "after_pipeline_creation = null\n",
      "batch_size = 256\n",
      "tokenizer = {\"@tokenizers\":\"spacy.Tokenizer.v1\"}\n",
      "\n",
      "[components]\n",
      "\n",
      "[components.attribute_ruler]\n",
      "factory = \"attribute_ruler\"\n",
      "scorer = {\"@scorers\":\"spacy.attribute_ruler_scorer.v1\"}\n",
      "validate = false\n",
      "\n",
      "[components.lemmatizer]\n",
      "factory = \"lemmatizer\"\n",
      "mode = \"rule\"\n",
      "model = null\n",
      "overwrite = false\n",
      "scorer = {\"@scorers\":\"spacy.lemmatizer_scorer.v1\"}\n",
      "\n",
      "[components.ner]\n",
      "factory = \"ner\"\n",
      "incorrect_spans_key = null\n",
      "moves = null\n",
      "scorer = {\"@scorers\":\"spacy.ner_scorer.v1\"}\n",
      "update_with_oracle_cut_size = 100\n",
      "\n",
      "[components.ner.model]\n",
      "@architectures = \"spacy.TransitionBasedParser.v2\"\n",
      "state_type = \"ner\"\n",
      "extra_state_tokens = false\n",
      "hidden_width = 64\n",
      "maxout_pieces = 2\n",
      "use_upper = true\n",
      "nO = null\n",
      "\n",
      "[components.ner.model.tok2vec]\n",
      "@architectures = \"spacy.Tok2Vec.v2\"\n",
      "\n",
      "[components.ner.model.tok2vec.embed]\n",
      "@architectures = \"spacy.MultiHashEmbed.v2\"\n",
      "width = 96\n",
      "attrs = [\"NORM\",\"PREFIX\",\"SUFFIX\",\"SHAPE\"]\n",
      "rows = [5000,1000,2500,2500]\n",
      "include_static_vectors = false\n",
      "\n",
      "[components.ner.model.tok2vec.encode]\n",
      "@architectures = \"spacy.MaxoutWindowEncoder.v2\"\n",
      "width = 96\n",
      "depth = 4\n",
      "window_size = 1\n",
      "maxout_pieces = 3\n",
      "\n",
      "[components.parser]\n",
      "factory = \"parser\"\n",
      "learn_tokens = false\n",
      "min_action_freq = 30\n",
      "moves = null\n",
      "scorer = {\"@scorers\":\"spacy.parser_scorer.v1\"}\n",
      "update_with_oracle_cut_size = 100\n",
      "\n",
      "[components.parser.model]\n",
      "@architectures = \"spacy.TransitionBasedParser.v2\"\n",
      "state_type = \"parser\"\n",
      "extra_state_tokens = false\n",
      "hidden_width = 64\n",
      "maxout_pieces = 2\n",
      "use_upper = true\n",
      "nO = null\n",
      "\n",
      "[components.parser.model.tok2vec]\n",
      "@architectures = \"spacy.Tok2VecListener.v1\"\n",
      "width = ${components.tok2vec.model.encode:width}\n",
      "upstream = \"tok2vec\"\n",
      "\n",
      "[components.senter]\n",
      "factory = \"senter\"\n",
      "overwrite = false\n",
      "scorer = {\"@scorers\":\"spacy.senter_scorer.v1\"}\n",
      "\n",
      "[components.senter.model]\n",
      "@architectures = \"spacy.Tagger.v2\"\n",
      "nO = null\n",
      "normalize = false\n",
      "\n",
      "[components.senter.model.tok2vec]\n",
      "@architectures = \"spacy.Tok2Vec.v2\"\n",
      "\n",
      "[components.senter.model.tok2vec.embed]\n",
      "@architectures = \"spacy.MultiHashEmbed.v2\"\n",
      "width = 16\n",
      "attrs = [\"NORM\",\"PREFIX\",\"SUFFIX\",\"SHAPE\",\"SPACY\"]\n",
      "rows = [1000,500,500,500,50]\n",
      "include_static_vectors = false\n",
      "\n",
      "[components.senter.model.tok2vec.encode]\n",
      "@architectures = \"spacy.MaxoutWindowEncoder.v2\"\n",
      "width = 16\n",
      "depth = 2\n",
      "window_size = 1\n",
      "maxout_pieces = 2\n",
      "\n",
      "[components.tagger]\n",
      "factory = \"tagger\"\n",
      "label_smoothing = 0.0\n",
      "neg_prefix = \"!\"\n",
      "overwrite = false\n",
      "scorer = {\"@scorers\":\"spacy.tagger_scorer.v1\"}\n",
      "\n",
      "[components.tagger.model]\n",
      "@architectures = \"spacy.Tagger.v2\"\n",
      "nO = null\n",
      "normalize = false\n",
      "\n",
      "[components.tagger.model.tok2vec]\n",
      "@architectures = \"spacy.Tok2VecListener.v1\"\n",
      "width = ${components.tok2vec.model.encode:width}\n",
      "upstream = \"tok2vec\"\n",
      "\n",
      "[components.tok2vec]\n",
      "factory = \"tok2vec\"\n",
      "\n",
      "[components.tok2vec.model]\n",
      "@architectures = \"spacy.Tok2Vec.v2\"\n",
      "\n",
      "[components.tok2vec.model.embed]\n",
      "@architectures = \"spacy.MultiHashEmbed.v2\"\n",
      "width = ${components.tok2vec.model.encode:width}\n",
      "attrs = [\"NORM\",\"PREFIX\",\"SUFFIX\",\"SHAPE\",\"SPACY\",\"IS_SPACE\"]\n",
      "rows = [5000,1000,2500,2500,50,50]\n",
      "include_static_vectors = false\n",
      "\n",
      "[components.tok2vec.model.encode]\n",
      "@architectures = \"spacy.MaxoutWindowEncoder.v2\"\n",
      "width = 96\n",
      "depth = 4\n",
      "window_size = 1\n",
      "maxout_pieces = 3\n",
      "\n",
      "[corpora]\n",
      "\n",
      "[corpora.dev]\n",
      "@readers = \"spacy.Corpus.v1\"\n",
      "path = ${paths.dev}\n",
      "gold_preproc = false\n",
      "max_length = 0\n",
      "limit = 0\n",
      "augmenter = null\n",
      "\n",
      "[corpora.train]\n",
      "@readers = \"spacy.Corpus.v1\"\n",
      "path = ${paths.train}\n",
      "gold_preproc = false\n",
      "max_length = 0\n",
      "limit = 0\n",
      "augmenter = null\n",
      "\n",
      "[training]\n",
      "train_corpus = \"corpora.train\"\n",
      "dev_corpus = \"corpora.dev\"\n",
      "seed = ${system:seed}\n",
      "gpu_allocator = ${system:gpu_allocator}\n",
      "dropout = 0.1\n",
      "accumulate_gradient = 1\n",
      "patience = 5000\n",
      "max_epochs = 0\n",
      "max_steps = 100000\n",
      "eval_frequency = 1000\n",
      "frozen_components = []\n",
      "before_to_disk = null\n",
      "annotating_components = []\n",
      "before_update = null\n",
      "\n",
      "[training.batcher]\n",
      "@batchers = \"spacy.batch_by_words.v1\"\n",
      "discard_oversize = false\n",
      "tolerance = 0.2\n",
      "get_length = null\n",
      "\n",
      "[training.batcher.size]\n",
      "@schedules = \"compounding.v1\"\n",
      "start = 100\n",
      "stop = 1000\n",
      "compound = 1.001\n",
      "t = 0.0\n",
      "\n",
      "[training.logger]\n",
      "@loggers = \"spacy.ConsoleLogger.v1\"\n",
      "progress_bar = false\n",
      "\n",
      "[training.optimizer]\n",
      "@optimizers = \"Adam.v1\"\n",
      "beta1 = 0.9\n",
      "beta2 = 0.999\n",
      "L2_is_weight_decay = true\n",
      "L2 = 0.01\n",
      "grad_clip = 1.0\n",
      "use_averages = true\n",
      "eps = 0.00000001\n",
      "learn_rate = 0.001\n",
      "\n",
      "[training.score_weights]\n",
      "tag_acc = 0.16\n",
      "dep_uas = 0.0\n",
      "dep_las = 0.16\n",
      "dep_las_per_type = null\n",
      "sents_p = null\n",
      "sents_r = null\n",
      "sents_f = 0.02\n",
      "lemma_acc = 0.5\n",
      "ents_f = 0.16\n",
      "ents_p = 0.0\n",
      "ents_r = 0.0\n",
      "ents_per_type = null\n",
      "speed = 0.0\n",
      "\n",
      "[pretraining]\n",
      "\n",
      "[initialize]\n",
      "vocab_data = null\n",
      "vectors = ${paths.vectors}\n",
      "init_tok2vec = ${paths.init_tok2vec}\n",
      "before_init = null\n",
      "after_init = null\n",
      "\n",
      "[initialize.components]\n",
      "\n",
      "[initialize.components.ner]\n",
      "\n",
      "[initialize.components.ner.labels]\n",
      "@readers = \"spacy.read_labels.v1\"\n",
      "path = \"corpus/labels/ner.json\"\n",
      "require = false\n",
      "\n",
      "[initialize.components.parser]\n",
      "\n",
      "[initialize.components.parser.labels]\n",
      "@readers = \"spacy.read_labels.v1\"\n",
      "path = \"corpus/labels/parser.json\"\n",
      "require = false\n",
      "\n",
      "[initialize.components.tagger]\n",
      "\n",
      "[initialize.components.tagger.labels]\n",
      "@readers = \"spacy.read_labels.v1\"\n",
      "path = \"corpus/labels/tagger.json\"\n",
      "require = false\n",
      "\n",
      "[initialize.lookups]\n",
      "@misc = \"spacy.LookupsDataLoader.v1\"\n",
      "lang = ${nlp.lang}\n",
      "tables = [\"lexeme_norm\"]\n",
      "\n",
      "[initialize.tokenizer]\n"
     ]
    }
   ],
   "source": [
    "with open(os.path.join(nlp.path, \"config.cfg\")) as _file:\n",
    "    config_cfg = _file.read()\n",
    "          \n",
    "print(config_cfg)\n",
    "del config_cfg"
   ]
  },
  {
   "cell_type": "markdown",
   "id": "606171fb",
   "metadata": {},
   "source": [
    "## Componetns\n",
    "\n",
    "The model has the components defined in config.cfg and can be verified with ```.pipe_names``` attribute."
   ]
  },
  {
   "cell_type": "code",
   "execution_count": 54,
   "id": "023002d8",
   "metadata": {},
   "outputs": [
    {
     "data": {
      "text/plain": [
       "PosixPath('/Users/oonisim/venv/tf/lib/python3.9/site-packages/en_core_web_sm/en_core_web_sm-3.6.0')"
      ]
     },
     "execution_count": 54,
     "metadata": {},
     "output_type": "execute_result"
    }
   ],
   "source": [
    "nlp.pipe_names"
   ]
  },
  {
   "cell_type": "markdown",
   "id": "76e5b4fd",
   "metadata": {},
   "source": [
    "## Disable/Enable/Add Components\n",
    "\n",
    "* [add_pipe](https://spacy.io/api/language#add_pipe)\n",
    "* [disable_pipe](https://spacy.io/api/language#disable_pipe)\n",
    "* [enable_pipe](https://spacy.io/api/language#enable_pipe)\n",
    "\n",
    "```\n",
    "spacy.load(\n",
    "    \"en_core_web_sm\", \n",
    "    exclude=[\"ner\"],\n",
    "    enable=[\"tok2vec\", \"tagger\"], \n",
    "    disable=[\"lemmatizer\"]\n",
    ")\n",
    "test.add_pipe('sentence_bert', config={'model_name': 'all-distilroberta-v1'})\n",
    "```"
   ]
  },
  {
   "cell_type": "markdown",
   "id": "54508396",
   "metadata": {},
   "source": [
    "---\n",
    "\n",
    "# Document\n",
    "\n",
    "The pipeline process a text sequence by going through the steps and generated a [document](https://spacy.io/api/doc) object that has a sequence of tokens with linguistic annotations.\n",
    "\n",
    "1. Tokenization\n",
    "2. Part-of-speech taggging \n",
    "3. Syntactic dependency graph parsing\n",
    "4. NER\n",
    "5. Lemmatization\n",
    "\n",
    "A [statistical model](https://spacy.io/usage/spacy-101#statistical-models) is used for steps 2 and 3.\n",
    "\n",
    "<img src=\"image/spacy_pipeline_steps.png\" align=\"left\" width=800/>"
   ]
  },
  {
   "cell_type": "code",
   "execution_count": 4,
   "id": "25d720ca",
   "metadata": {},
   "outputs": [],
   "source": [
    "doc = nlp(\"Apple is looking at buying U.K. startup for $1 billion\")"
   ]
  },
  {
   "cell_type": "markdown",
   "id": "6493163d",
   "metadata": {},
   "source": [
    "# Annotations\n",
    "\n",
    "[Token](https://spacy.io/api/token) is annotated with Part-of-Speech Tag, Syntactic dependency, and Lemma labels."
   ]
  },
  {
   "cell_type": "markdown",
   "id": "81e34405",
   "metadata": {},
   "source": [
    "\n",
    "* Text: The original word text.\n",
    "* Lemma: The base form of the word.\n",
    "* POS (Part of Speech): The simple UPOS part-of-speech tag.\n",
    "* Tag: The detailed part-of-speech tag.\n",
    "* Dep: Syntactic dependency, i.e. the relation between tokens.\n",
    "* Shape: The word shape – capitalization, punctuation, digits.\n",
    "* is alpha: Is the token alphanumeric character word consisting of (a-z0-9)?\n",
    "* is stop: Is the token part of a stop list, i.e. the most common words of the language?\n",
    "\n",
    "<img src=\"image/spacy_parsed_document.png\" align=\"left\" width=800/>"
   ]
  },
  {
   "cell_type": "markdown",
   "id": "cba741bc",
   "metadata": {},
   "source": [
    "### POS\n",
    "\n",
    "* ADJ: adjective, e.g. big, old, green, incomprehensible, first\n",
    "* ADP: adposition, e.g. in, to, during\n",
    "* ADV: adverb, e.g. very, tomorrow, down, where, there\n",
    "* AUX: auxiliary, e.g. is, has (done), will (do), should (do)\n",
    "* CONJ: conjunction, e.g. and, or, but\n",
    "* CCONJ: coordinating conjunction, e.g. and, or, but\n",
    "* DET: determiner, e.g. a, an, the\n",
    "* INTJ: interjection, e.g. psst, ouch, bravo, hello\n",
    "* NOUN: noun, e.g. girl, cat, tree, air, beauty\n",
    "* NUM: numeral, e.g. 1, 2017, one, seventy-seven, IV, MMXIV\n",
    "* PART: particle, e.g. ’s, not,\n",
    "* PRON: pronoun, e.g I, you, he, she, myself, themselves, somebody\n",
    "* PROPN: proper noun, e.g. Mary, John, London, NATO, HBO\n",
    "* PUNCT: punctuation, e.g. ., (, ), ?\n",
    "* SCONJ: subordinating conjunction, e.g. if, while, that\n",
    "* SYM: symbol, e.g. $, %, §, ©, +, −, ×, ÷, =, :), 😝\n",
    "* VERB: verb, e.g. run, runs, running, eat, ate, eating\n",
    "* X: other, e.g. sfpksdpsxmsa\n",
    "* SPACE: space, e.g.\n",
    "\n",
    "### TAG\n",
    "\n",
    "* NNP: Proper noun, singular.\n",
    "* VBD: Verb, past tense.\n",
    "* IN: Conjunction, subordinating or preposition.\n",
    "\n",
    "### Dependency Graph (DEP)\n",
    "Dependency is an arc label, which describes the type of syntactic relation that connects the child to the head.\n",
    "\n",
    "* nsubj: Nominal subject.\n",
    "* compound: a compound word, which is a word made up of two or more words that function as a single unit.\n",
    "* aux: Auxiliary verb, used in combination with a main verb to indicate tense, aspect, or voice.\n",
    "* ROOT: Root node of a dependency grammar syntactic dependency structure or the word that is most responsible for determining the distribution of that phrase as a whole is its root.\n",
    "* dobj: Direct object of the verb\n",
    "* prep: Preposition.\n",
    "* pcomp: Prepositional complement, to identify the complement of a preposition in a sentence. A complement of a preposition is a phrase or clause that completes the meaning of the preposition.\n",
    "* pobj: Prepositional object as the object of a preposition. e.g. ```billion``` is the pobj of ```for``` in ```for $1billion```.\n"
   ]
  },
  {
   "cell_type": "markdown",
   "id": "810addad",
   "metadata": {},
   "source": [
    "### Access Annotation\n",
    "\n",
    "In Spacy, an object ```name``` refers to a hashed value, not a string. To get the string value, use ```name_```.\n",
    "\n",
    "* [Part-of-speech tagging](https://spacy.io/usage/linguistic-features#pos-tagging)\n",
    "\n",
    "> spaCy **encodes all strings to hash values** to reduce memory usage and improve efficiency. So to get the readable string representation of an attribute, we need to **add an underscore ```_``` to its name**:"
   ]
  },
  {
   "cell_type": "code",
   "execution_count": 6,
   "id": "cd13f446",
   "metadata": {},
   "outputs": [
    {
     "name": "stdout",
     "output_type": "stream",
     "text": [
      "Token          Lemma          POS       Tag     Dependency    StopWord\n",
      "--------------------------------------------------------------------------------\n",
      "Apple          Apple          PROPN     NNP     nsubj         False\n",
      "is             be             AUX       VBZ     aux           True\n",
      "looking        look           VERB      VBG     ROOT          False\n",
      "at             at             ADP       IN      prep          True\n",
      "buying         buy            VERB      VBG     pcomp         False\n",
      "U.K.           U.K.           PROPN     NNP     dobj          False\n",
      "startup        startup        NOUN      NN      dep           False\n",
      "for            for            ADP       IN      prep          True\n",
      "$              $              SYM       $       quantmod      False\n",
      "1              1              NUM       CD      compound      False\n",
      "billion        billion        NUM       CD      pobj          False\n"
     ]
    }
   ],
   "source": [
    "print(\"{}{}{}{}{}{}\".format(\n",
    "    \"Token\".ljust(15), \"Lemma\".ljust(15), \"POS\".ljust(10), \"Tag\".ljust(8), \"Dependency\".ljust(14), \"StopWord\"\n",
    "))\n",
    "print(\"-\" * 80)\n",
    "for token in doc:\n",
    "    print(f\"{token.text:15}{token.lemma_:15}{token.pos_:10}{token.tag_:8}{token.dep_:14}{token.is_stop:}\")"
   ]
  },
  {
   "cell_type": "markdown",
   "id": "90651710",
   "metadata": {},
   "source": [
    "## Entities\n",
    "\n",
    "Named Entities have been identified by NER in the document object.\n",
    "\n",
    "* [Named Entities](https://spacy.io/usage/spacy-101#annotations-ner)\n",
    "\n",
    "### Entity Labels\n",
    "```\n",
    "PERSON:      People, including fictional.\n",
    "NORP:        Nationalities or religious or political groups.\n",
    "FAC:         Buildings, airports, highways, bridges, etc.\n",
    "ORG:         Companies, agencies, institutions, etc.\n",
    "GPE:         Countries, cities, states.\n",
    "LOC:         Non-GPE locations, mountain ranges, bodies of water.\n",
    "PRODUCT:     Objects, vehicles, foods, etc. (Not services.)\n",
    "EVENT:       Named hurricanes, battles, wars, sports events, etc.\n",
    "WORK_OF_ART: Titles of books, songs, etc.\n",
    "LAW:         Named documents made into laws.\n",
    "LANGUAGE:    Any named language.\n",
    "DATE:        Absolute or relative dates or periods.\n",
    "TIME:        Times smaller than a day.\n",
    "PERCENT:     Percentage, including ”%“.\n",
    "MONEY:       Monetary values, including unit.\n",
    "QUANTITY:    Measurements, as of weight or distance.\n",
    "ORDINAL:     “first”, “second”, etc.\n",
    "CARDINAL:    Numerals that do not fall under another type.\n",
    "```"
   ]
  },
  {
   "cell_type": "code",
   "execution_count": 7,
   "id": "c8cd3c04",
   "metadata": {},
   "outputs": [
    {
     "name": "stdout",
     "output_type": "stream",
     "text": [
      "Token          Start  End    Label     \n",
      "----------------------------------------\n",
      "Apple          0      5      ORG       \n",
      "U.K.           27     31     GPE       \n",
      "$1 billion     44     54     MONEY     \n"
     ]
    }
   ],
   "source": [
    "print(\"{}{}{}{}\".format(\n",
    "    \"Token\".ljust(15), \"Start\".ljust(7), \"End\".ljust(7), \"Label\".ljust(10)\n",
    "))\n",
    "print(\"-\" * 40)\n",
    "\n",
    "for ent in doc.ents:\n",
    "    print(f\"{ent.text:15}{ent.start_char:<7}{ent.end_char:<7}{ent.label_:10}\")"
   ]
  },
  {
   "cell_type": "markdown",
   "id": "9a90f8c1",
   "metadata": {},
   "source": [
    "## Visualize Dependencies and Entities\n",
    "\n",
    "* [Visualizers](https://spacy.io/usage/visualizers)\n",
    "* [Visualization with displaCy](https://subscription.packtpub.com/book/data/9781800563353/2/ch02lvl1sec07/visualization-with-displacy)"
   ]
  },
  {
   "cell_type": "code",
   "execution_count": null,
   "id": "0dde3383",
   "metadata": {},
   "outputs": [],
   "source": [
    "displacy.serve(doc, style=\"dep\", auto_select_port=True, page=False)"
   ]
  },
  {
   "cell_type": "code",
   "execution_count": 9,
   "id": "337908a0",
   "metadata": {},
   "outputs": [
    {
     "data": {
      "text/html": [
       "<span class=\"tex2jax_ignore\"><div class=\"entities\" style=\"line-height: 2.5; direction: ltr\">\n",
       "<mark class=\"entity\" style=\"background: #7aecec; padding: 0.45em 0.6em; margin: 0 0.25em; line-height: 1; border-radius: 0.35em;\">\n",
       "    Apple\n",
       "    <span style=\"font-size: 0.8em; font-weight: bold; line-height: 1; border-radius: 0.35em; vertical-align: middle; margin-left: 0.5rem\">ORG</span>\n",
       "</mark>\n",
       " is looking at buying \n",
       "<mark class=\"entity\" style=\"background: #feca74; padding: 0.45em 0.6em; margin: 0 0.25em; line-height: 1; border-radius: 0.35em;\">\n",
       "    U.K.\n",
       "    <span style=\"font-size: 0.8em; font-weight: bold; line-height: 1; border-radius: 0.35em; vertical-align: middle; margin-left: 0.5rem\">GPE</span>\n",
       "</mark>\n",
       " startup for \n",
       "<mark class=\"entity\" style=\"background: #e4e7d2; padding: 0.45em 0.6em; margin: 0 0.25em; line-height: 1; border-radius: 0.35em;\">\n",
       "    $1 billion\n",
       "    <span style=\"font-size: 0.8em; font-weight: bold; line-height: 1; border-radius: 0.35em; vertical-align: middle; margin-left: 0.5rem\">MONEY</span>\n",
       "</mark>\n",
       "</div></span>"
      ],
      "text/plain": [
       "<IPython.core.display.HTML object>"
      ]
     },
     "metadata": {},
     "output_type": "display_data"
    },
    {
     "name": "stdout",
     "output_type": "stream",
     "text": [
      "\n",
      "Using the 'ent' visualizer\n",
      "Serving on http://0.0.0.0:5001 ...\n",
      "\n",
      "Shutting down server on port 5001.\n"
     ]
    }
   ],
   "source": [
    "displacy.serve(doc, style=\"ent\", auto_select_port=True, page=False)"
   ]
  },
  {
   "cell_type": "markdown",
   "id": "b3eceeac",
   "metadata": {},
   "source": [
    "## Extract Entities"
   ]
  },
  {
   "cell_type": "code",
   "execution_count": 10,
   "id": "4cc1705c",
   "metadata": {},
   "outputs": [],
   "source": [
    "text = \"You can watch “The Happiest Country in the World” for free on SBS On Demand. Australian Melissa Georgiou (Melissa Georgiou) moved to Finland over a decade ago to seek happiness in one of the coldest and darkest places on Earth. “One of my favorite things about living here is that it's easy to get close to nature whether you're in a residential area or in the middle of the city,” Melissa said. Originally a teacher, 12 years ago, she switched from the beaches of Sydney to the dark winters and cold lakes of Finland, and has never looked back since. Melissa said, “For Finns, the concept of happiness is very different from the Australian concept of happiness. Finns, she said, are happy to accept portrayals of themselves as melancholy and stubborn — a popular local saying is, “People who have happiness must hide it.” “The first thing I noticed here is that you don't go to dinners or barbecues, and you don't talk about real estate. No one asks you where you live, what suburb do you live in, where your kids go to school.” The Finns seem quite happy with the status quo, and they don't always seem to want more. Melissa Georgio's Dark Night in Northern Europe Finland was named the happiest country in the world for the sixth year in a row in the “World Happiness Report” released by the United Nations. “The Nordic countries are often countries with (good) unemployment benefits, pensions, and other benefits,” explains happiness expert and researcher Frank Martela (Frank Martela). However, Frank said that Finland's position in the rankings often surprised its own people. “Finns, they're almost outraged because they don't think this can be true. We listen to sad music and hard rock.” “Therefore, happiness is not part of the Finnish self-image.” The other side of Finnish melancholy is a cultural focus on perseverance. Frank said it redefines the way Finns view happiness — a concept known as “sisu” — which is part of Finnish culture and is hard to translate directly, but can be understood as will, determination, perseverance, and reason to face adversity. This, he said, is best reflected in Finns' favorite pastime — getting warm in a sauna after taking a bath in freezing temperatures. “It's about this paradox — from one extreme to the other, and it's a pretty fun experience... because you need perseverance.” Melissa said, but Finland has many things that are great and can provide happiness for people in this country. Finland is one of the European countries least affected by the COVID-19 pandemic, and experts attribute this to a high level of trust in the government and little resistance to complying with restrictions. Trust in government, on the other hand, stems from a country's investment in its citizens. The public school system rarely tests children and is one of the best in the world. Finland also has a universal health care system with affordable childcare and strong support for parents. Melissa said, “The whole country is taking care of the child's development. This system is very well set up. So from having my son to raising him at home, to sending him to daycare, to going to school, I was very well supported in every aspect of this.” Finland vs. China, which country has the strongest sense of happiness? Since the publication of the World Happiness Report, the Nordic countries have dominated the top ten. In this year's report, Finland and its neighbors Denmark (2nd), Iceland (3rd), Sweden (6th), and Norway (7th) all scored high on happiness indicators, including healthy life expectancy, per capita GDP, low levels of corruption, social support, freedom, trust, and generosity. Other top ten countries/regions include the Netherlands (5th), Switzerland (8th), Luxembourg (9th), and New Zealand (10th). Australia ranked 12th in this report, followed by Canada (13th), Ireland (14th), and the United States (15th). In Asia, Singapore ranked 25th in the world, up two places from last year, Taiwan dropped one place from last year to 27th, Japan rose to 47th, mainland China ranked 64th, and Hong Kong ranked 82nd. Meanwhile, the polling agency Ipsos Group (Ipsos) released a survey report on the global happiness index. The results showed that out of 32 countries, the country with the highest happiness index was China (91%), followed by Saudi Arabia (86%), the Netherlands (85%), India (84%), and Brazil (83%). Australia ranked 9th in this report. According to the survey report, on average, happiness increased more significantly in middle-income countries (as defined by the World Bank) than in high-income countries.\""
   ]
  },
  {
   "cell_type": "code",
   "execution_count": 11,
   "id": "ea13796d",
   "metadata": {},
   "outputs": [],
   "source": [
    "doc = nlp(text)"
   ]
  },
  {
   "cell_type": "code",
   "execution_count": 12,
   "id": "59f5f183",
   "metadata": {},
   "outputs": [],
   "source": [
    "gpes = set()\n",
    "locs = set()\n",
    "orgs = set()\n",
    "titles = set()\n",
    "nationalities = set()\n",
    "landmarks = set()\n",
    "\n",
    "for entity in doc.ents:\n",
    "    if entity.label_ == 'GPE':\n",
    "        gpes.add(entity.text)\n",
    "    elif entity.label_ == 'LOC':\n",
    "        locs.add(entity.text)\n",
    "    elif entity.label_ == 'ORG':\n",
    "        orgs.add(entity.text)\n",
    "    elif entity.label_ == 'WORK_OF_ART':\n",
    "        titles.add(entity.text)\n",
    "    elif entity.label_ == 'NORP':\n",
    "        nationalities.add(entity.text)\n",
    "    elif entity.label_ == 'FAC':\n",
    "        landmarks.add(entity.text)"
   ]
  },
  {
   "cell_type": "code",
   "execution_count": 13,
   "id": "0bd0a8eb",
   "metadata": {},
   "outputs": [
    {
     "data": {
      "text/plain": [
       "{'Dark Night', 'The Happiest Country', 'World', 'World Happiness Report'}"
      ]
     },
     "execution_count": 13,
     "metadata": {},
     "output_type": "execute_result"
    }
   ],
   "source": [
    "titles"
   ]
  },
  {
   "cell_type": "code",
   "execution_count": 14,
   "id": "497e803a",
   "metadata": {},
   "outputs": [
    {
     "data": {
      "text/plain": [
       "set()"
      ]
     },
     "execution_count": 14,
     "metadata": {},
     "output_type": "execute_result"
    }
   ],
   "source": [
    "landmarks"
   ]
  },
  {
   "cell_type": "code",
   "execution_count": 15,
   "id": "b837d946",
   "metadata": {},
   "outputs": [
    {
     "data": {
      "text/plain": [
       "{'Australia',\n",
       " 'Brazil',\n",
       " 'Canada',\n",
       " 'China',\n",
       " 'Denmark',\n",
       " 'Finland',\n",
       " 'Hong Kong',\n",
       " 'Iceland',\n",
       " 'India',\n",
       " 'Ireland',\n",
       " 'Japan',\n",
       " 'Luxembourg',\n",
       " 'Netherlands',\n",
       " 'New Zealand',\n",
       " 'Nordic',\n",
       " 'Norway',\n",
       " 'Saudi Arabia',\n",
       " 'Singapore',\n",
       " 'Sweden',\n",
       " 'Switzerland',\n",
       " 'Sydney',\n",
       " 'Taiwan',\n",
       " 'the United States'}"
      ]
     },
     "execution_count": 15,
     "metadata": {},
     "output_type": "execute_result"
    }
   ],
   "source": [
    "gpes"
   ]
  },
  {
   "cell_type": "code",
   "execution_count": 16,
   "id": "1da86823",
   "metadata": {},
   "outputs": [
    {
     "data": {
      "text/plain": [
       "{'Asia', 'Earth', 'Northern Europe Finland'}"
      ]
     },
     "execution_count": 16,
     "metadata": {},
     "output_type": "execute_result"
    }
   ],
   "source": [
    "locs"
   ]
  },
  {
   "cell_type": "code",
   "execution_count": 17,
   "id": "c474f03c",
   "metadata": {},
   "outputs": [
    {
     "data": {
      "text/plain": [
       "{'Australian', 'European', 'Finnish', 'Finns', 'Ipsos'}"
      ]
     },
     "execution_count": 17,
     "metadata": {},
     "output_type": "execute_result"
    }
   ],
   "source": [
    "nationalities"
   ]
  },
  {
   "cell_type": "code",
   "execution_count": 18,
   "id": "8fb6a90c",
   "metadata": {},
   "outputs": [
    {
     "data": {
      "text/plain": [
       "{'COVID-19',\n",
       " 'Ipsos Group',\n",
       " 'the United Nations',\n",
       " 'the World Bank',\n",
       " 'the World Happiness Report'}"
      ]
     },
     "execution_count": 18,
     "metadata": {},
     "output_type": "execute_result"
    }
   ],
   "source": [
    "orgs"
   ]
  },
  {
   "cell_type": "markdown",
   "id": "f6dc5399",
   "metadata": {},
   "source": [
    "---\n",
    "# Noun Phrase\n",
    "\n",
    "* [Noun chunks](https://spacy.io/usage/linguistic-features#noun-chunks)\n",
    "\n",
    "> **Noun chunks** are “base noun phrases” – flat phrases that **have a noun as their head**. You can think of noun chunks as a noun plus the words describing the noun – for example, “the lavish green grass” or “the world’s largest tech fund”. "
   ]
  },
  {
   "cell_type": "code",
   "execution_count": 19,
   "id": "5bfede48",
   "metadata": {},
   "outputs": [
    {
     "name": "stdout",
     "output_type": "stream",
     "text": [
      "phrase:[You                                               ] root:[You            ] type:[nsubj ]\n",
      "phrase:[The Happiest Country                              ] root:[Country        ] type:[dobj  ]\n",
      "phrase:[the World                                         ] root:[World          ] type:[pobj  ]\n",
      "phrase:[SBS                                               ] root:[SBS            ] type:[pobj  ]\n",
      "phrase:[Demand                                            ] root:[Demand         ] type:[pobj  ]\n",
      "phrase:[Australian Melissa Georgiou                       ] root:[Georgiou       ] type:[nsubj ]\n",
      "phrase:[Melissa Georgiou                                  ] root:[Georgiou       ] type:[appos ]\n",
      "phrase:[Finland                                           ] root:[Finland        ] type:[pobj  ]\n",
      "phrase:[happiness                                         ] root:[happiness      ] type:[dobj  ]\n",
      "phrase:[the coldest and darkest places                    ] root:[places         ] type:[pobj  ]\n",
      "phrase:[Earth                                             ] root:[Earth          ] type:[pobj  ]\n",
      "phrase:[my favorite things                                ] root:[things         ] type:[pobj  ]\n",
      "phrase:[it                                                ] root:[it             ] type:[nsubj ]\n",
      "phrase:[nature                                            ] root:[nature         ] type:[pobj  ]\n",
      "phrase:[you                                               ] root:[you            ] type:[nsubj ]\n",
      "phrase:[a residential area                                ] root:[area           ] type:[pobj  ]\n",
      "phrase:[the middle                                        ] root:[middle         ] type:[pobj  ]\n",
      "phrase:[the city                                          ] root:[city           ] type:[pobj  ]\n",
      "phrase:[Melissa                                           ] root:[Melissa        ] type:[nsubj ]\n",
      "phrase:[she                                               ] root:[she            ] type:[nsubj ]\n",
      "phrase:[the beaches                                       ] root:[beaches        ] type:[pobj  ]\n",
      "phrase:[Sydney                                            ] root:[Sydney         ] type:[pobj  ]\n",
      "phrase:[the dark winters                                  ] root:[winters        ] type:[pobj  ]\n",
      "phrase:[cold lakes                                        ] root:[lakes          ] type:[conj  ]\n",
      "phrase:[Finland                                           ] root:[Finland        ] type:[pobj  ]\n",
      "phrase:[Melissa                                           ] root:[Melissa        ] type:[nsubj ]\n",
      "phrase:[Finns                                             ] root:[Finns          ] type:[pobj  ]\n",
      "phrase:[the concept                                       ] root:[concept        ] type:[nsubj ]\n",
      "phrase:[happiness                                         ] root:[happiness      ] type:[pobj  ]\n",
      "phrase:[the Australian concept                            ] root:[concept        ] type:[pobj  ]\n",
      "phrase:[happiness                                         ] root:[happiness      ] type:[pobj  ]\n",
      "phrase:[she                                               ] root:[she            ] type:[nsubj ]\n",
      "phrase:[portrayals                                        ] root:[portrayals     ] type:[dobj  ]\n",
      "phrase:[themselves                                        ] root:[themselves     ] type:[pobj  ]\n",
      "phrase:[a popular local saying                            ] root:[saying         ] type:[nsubj ]\n",
      "phrase:[People                                            ] root:[People         ] type:[nsubj ]\n",
      "phrase:[who                                               ] root:[who            ] type:[nsubj ]\n",
      "phrase:[happiness                                         ] root:[happiness      ] type:[dobj  ]\n",
      "phrase:[it                                                ] root:[it             ] type:[dobj  ]\n",
      "phrase:[The first thing                                   ] root:[thing          ] type:[nsubj ]\n",
      "phrase:[I                                                 ] root:[I              ] type:[nsubj ]\n",
      "phrase:[you                                               ] root:[you            ] type:[nsubj ]\n",
      "phrase:[dinners                                           ] root:[dinners        ] type:[pobj  ]\n",
      "phrase:[barbecues                                         ] root:[barbecues      ] type:[conj  ]\n",
      "phrase:[you                                               ] root:[you            ] type:[nsubj ]\n",
      "phrase:[real estate                                       ] root:[estate         ] type:[pobj  ]\n",
      "phrase:[No one                                            ] root:[one            ] type:[nsubj ]\n",
      "phrase:[you                                               ] root:[you            ] type:[dobj  ]\n",
      "phrase:[you                                               ] root:[you            ] type:[nsubj ]\n",
      "phrase:[what suburb                                       ] root:[suburb         ] type:[pobj  ]\n",
      "phrase:[you                                               ] root:[you            ] type:[nsubj ]\n",
      "phrase:[your kids                                         ] root:[kids           ] type:[nsubj ]\n",
      "phrase:[school                                            ] root:[school         ] type:[pobj  ]\n",
      "phrase:[The Finns                                         ] root:[Finns          ] type:[nsubj ]\n",
      "phrase:[the status quo                                    ] root:[quo            ] type:[pobj  ]\n",
      "phrase:[they                                              ] root:[they           ] type:[nsubj ]\n",
      "phrase:[Melissa Georgio's Dark Night                      ] root:[Night          ] type:[nsubjpass]\n",
      "phrase:[Northern Europe Finland                           ] root:[Finland        ] type:[pobj  ]\n",
      "phrase:[the happiest country                              ] root:[country        ] type:[oprd  ]\n",
      "phrase:[the world                                         ] root:[world          ] type:[pobj  ]\n",
      "phrase:[the sixth year                                    ] root:[year           ] type:[pobj  ]\n",
      "phrase:[a row                                             ] root:[row            ] type:[pobj  ]\n",
      "phrase:[the “World Happiness Report                       ] root:[Report         ] type:[pobj  ]\n",
      "phrase:[the United Nations                                ] root:[Nations        ] type:[pobj  ]\n",
      "phrase:[The Nordic countries                              ] root:[countries      ] type:[nsubj ]\n",
      "phrase:[countries                                         ] root:[countries      ] type:[attr  ]\n",
      "phrase:[good) unemployment benefits                       ] root:[benefits       ] type:[pobj  ]\n",
      "phrase:[pensions                                          ] root:[pensions       ] type:[conj  ]\n",
      "phrase:[other benefits                                    ] root:[benefits       ] type:[conj  ]\n",
      "phrase:[happiness expert                                  ] root:[expert         ] type:[nsubj ]\n",
      "phrase:[researcher Frank Martela                          ] root:[Martela        ] type:[conj  ]\n",
      "phrase:[Frank Martela                                     ] root:[Martela        ] type:[appos ]\n",
      "phrase:[Frank                                             ] root:[Frank          ] type:[nsubj ]\n",
      "phrase:[Finland's position                                ] root:[position       ] type:[nsubj ]\n",
      "phrase:[the rankings                                      ] root:[rankings       ] type:[pobj  ]\n",
      "phrase:[its own people                                    ] root:[people         ] type:[dobj  ]\n",
      "phrase:[they                                              ] root:[they           ] type:[nsubj ]\n",
      "phrase:[they                                              ] root:[they           ] type:[nsubj ]\n",
      "phrase:[this                                              ] root:[this           ] type:[nsubj ]\n",
      "phrase:[We                                                ] root:[We             ] type:[nsubj ]\n",
      "phrase:[sad music                                         ] root:[music          ] type:[pobj  ]\n",
      "phrase:[hard rock                                         ] root:[rock           ] type:[conj  ]\n",
      "phrase:[happiness                                         ] root:[happiness      ] type:[nsubj ]\n",
      "phrase:[part                                              ] root:[part           ] type:[attr  ]\n",
      "phrase:[the Finnish self-image                            ] root:[image          ] type:[pobj  ]\n",
      "phrase:[The other side                                    ] root:[side           ] type:[nsubj ]\n",
      "phrase:[Finnish melancholy                                ] root:[melancholy     ] type:[pobj  ]\n",
      "phrase:[a cultural focus                                  ] root:[focus          ] type:[attr  ]\n",
      "phrase:[perseverance                                      ] root:[perseverance   ] type:[pobj  ]\n",
      "phrase:[Frank                                             ] root:[Frank          ] type:[nsubj ]\n",
      "phrase:[it                                                ] root:[it             ] type:[nsubj ]\n",
      "phrase:[Finns                                             ] root:[Finns          ] type:[nsubj ]\n",
      "phrase:[happiness                                         ] root:[happiness      ] type:[dobj  ]\n",
      "phrase:[a concept                                         ] root:[concept        ] type:[appos ]\n",
      "phrase:[“sisu                                             ] root:[sisu           ] type:[pobj  ]\n",
      "phrase:[which                                             ] root:[which          ] type:[nsubj ]\n",
      "phrase:[part                                              ] root:[part           ] type:[attr  ]\n",
      "phrase:[Finnish culture                                   ] root:[culture        ] type:[pobj  ]\n",
      "phrase:[will                                              ] root:[will           ] type:[pobj  ]\n",
      "phrase:[determination                                     ] root:[determination  ] type:[conj  ]\n",
      "phrase:[perseverance                                      ] root:[perseverance   ] type:[conj  ]\n",
      "phrase:[reason                                            ] root:[reason         ] type:[conj  ]\n",
      "phrase:[adversity                                         ] root:[adversity      ] type:[dobj  ]\n",
      "phrase:[This                                              ] root:[This           ] type:[nsubjpass]\n",
      "phrase:[he                                                ] root:[he             ] type:[nsubj ]\n",
      "phrase:[Finns' favorite pastime                           ] root:[pastime        ] type:[pobj  ]\n",
      "phrase:[a sauna                                           ] root:[sauna          ] type:[pobj  ]\n",
      "phrase:[a bath                                            ] root:[bath           ] type:[dobj  ]\n",
      "phrase:[freezing temperatures                             ] root:[temperatures   ] type:[pobj  ]\n",
      "phrase:[It                                                ] root:[It             ] type:[nsubj ]\n",
      "phrase:[this paradox                                      ] root:[paradox        ] type:[pobj  ]\n",
      "phrase:[one extreme                                       ] root:[extreme        ] type:[pobj  ]\n",
      "phrase:[it                                                ] root:[it             ] type:[nsubj ]\n",
      "phrase:[a pretty fun experience                           ] root:[experience     ] type:[attr  ]\n",
      "phrase:[you                                               ] root:[you            ] type:[nsubj ]\n",
      "phrase:[perseverance                                      ] root:[perseverance   ] type:[dobj  ]\n",
      "phrase:[Melissa                                           ] root:[Melissa        ] type:[nsubj ]\n",
      "phrase:[Finland                                           ] root:[Finland        ] type:[nsubj ]\n",
      "phrase:[many things                                       ] root:[things         ] type:[dobj  ]\n",
      "phrase:[that                                              ] root:[that           ] type:[nsubj ]\n",
      "phrase:[happiness                                         ] root:[happiness      ] type:[dobj  ]\n",
      "phrase:[people                                            ] root:[people         ] type:[pobj  ]\n",
      "phrase:[this country                                      ] root:[country        ] type:[pobj  ]\n",
      "phrase:[Finland                                           ] root:[Finland        ] type:[nsubj ]\n",
      "phrase:[the European countries                            ] root:[countries      ] type:[pobj  ]\n",
      "phrase:[the COVID-19                                      ] root:[COVID-19       ] type:[pobj  ]\n",
      "phrase:[experts                                           ] root:[experts        ] type:[nsubj ]\n",
      "phrase:[this                                              ] root:[this           ] type:[dobj  ]\n",
      "phrase:[a high level                                      ] root:[level          ] type:[pobj  ]\n",
      "phrase:[trust                                             ] root:[trust          ] type:[pobj  ]\n",
      "phrase:[the government                                    ] root:[government     ] type:[pobj  ]\n",
      "phrase:[little resistance                                 ] root:[resistance     ] type:[conj  ]\n",
      "phrase:[restrictions                                      ] root:[restrictions   ] type:[pobj  ]\n",
      "phrase:[Trust                                             ] root:[Trust          ] type:[nsubj ]\n",
      "phrase:[government                                        ] root:[government     ] type:[pobj  ]\n",
      "phrase:[the other hand                                    ] root:[hand           ] type:[pobj  ]\n",
      "phrase:[a country's investment                            ] root:[investment     ] type:[pobj  ]\n",
      "phrase:[its citizens                                      ] root:[citizens       ] type:[pobj  ]\n",
      "phrase:[The public school system                          ] root:[system         ] type:[nsubj ]\n",
      "phrase:[children                                          ] root:[children       ] type:[dobj  ]\n",
      "phrase:[the world                                         ] root:[world          ] type:[pobj  ]\n",
      "phrase:[Finland                                           ] root:[Finland        ] type:[nsubj ]\n",
      "phrase:[a universal health care system                    ] root:[system         ] type:[dobj  ]\n",
      "phrase:[affordable childcare                              ] root:[childcare      ] type:[pobj  ]\n",
      "phrase:[strong support                                    ] root:[support        ] type:[conj  ]\n",
      "phrase:[parents                                           ] root:[parents        ] type:[pobj  ]\n",
      "phrase:[Melissa                                           ] root:[Melissa        ] type:[nsubj ]\n",
      "phrase:[The whole country                                 ] root:[country        ] type:[nsubj ]\n",
      "phrase:[care                                              ] root:[care           ] type:[dobj  ]\n",
      "phrase:[the child's development                           ] root:[development    ] type:[pobj  ]\n",
      "phrase:[This system                                       ] root:[system         ] type:[nsubjpass]\n",
      "phrase:[my son                                            ] root:[son            ] type:[dobj  ]\n",
      "phrase:[him                                               ] root:[him            ] type:[dobj  ]\n",
      "phrase:[home                                              ] root:[home           ] type:[pobj  ]\n",
      "phrase:[him                                               ] root:[him            ] type:[dobj  ]\n",
      "phrase:[daycare                                           ] root:[daycare        ] type:[pobj  ]\n",
      "phrase:[school                                            ] root:[school         ] type:[pobj  ]\n",
      "phrase:[I                                                 ] root:[I              ] type:[nsubjpass]\n",
      "phrase:[every aspect                                      ] root:[aspect         ] type:[pobj  ]\n",
      "phrase:[this                                              ] root:[this           ] type:[pobj  ]\n",
      "phrase:[Finland                                           ] root:[Finland        ] type:[ROOT  ]\n",
      "phrase:[China                                             ] root:[China          ] type:[pobj  ]\n",
      "phrase:[which country                                     ] root:[country        ] type:[nsubj ]\n",
      "phrase:[the strongest sense                               ] root:[sense          ] type:[dobj  ]\n",
      "phrase:[happiness                                         ] root:[happiness      ] type:[pobj  ]\n",
      "phrase:[the publication                                   ] root:[publication    ] type:[pobj  ]\n",
      "phrase:[the World Happiness Report                        ] root:[Report         ] type:[pobj  ]\n",
      "phrase:[the Nordic countries                              ] root:[countries      ] type:[nsubj ]\n",
      "phrase:[this year's report                                ] root:[report         ] type:[pobj  ]\n",
      "phrase:[Finland                                           ] root:[Finland        ] type:[appos ]\n",
      "phrase:[its neighbors                                     ] root:[neighbors      ] type:[conj  ]\n",
      "phrase:[Denmark                                           ] root:[Denmark        ] type:[appos ]\n",
      "phrase:[Iceland                                           ] root:[Iceland        ] type:[appos ]\n",
      "phrase:[3rd                                               ] root:[3rd            ] type:[appos ]\n",
      "phrase:[Sweden                                            ] root:[Sweden         ] type:[conj  ]\n",
      "phrase:[(6th                                              ] root:[6th            ] type:[appos ]\n",
      "phrase:[Norway                                            ] root:[Norway         ] type:[conj  ]\n",
      "phrase:[(7th                                              ] root:[7th            ] type:[appos ]\n",
      "phrase:[all                                               ] root:[all            ] type:[appos ]\n",
      "phrase:[happiness indicators                              ] root:[indicators     ] type:[pobj  ]\n",
      "phrase:[healthy life expectancy                           ] root:[expectancy     ] type:[pobj  ]\n",
      "phrase:[per capita GDP                                    ] root:[GDP            ] type:[appos ]\n",
      "phrase:[low levels                                        ] root:[levels         ] type:[conj  ]\n",
      "phrase:[corruption                                        ] root:[corruption     ] type:[pobj  ]\n",
      "phrase:[social support                                    ] root:[support        ] type:[conj  ]\n",
      "phrase:[freedom                                           ] root:[freedom        ] type:[conj  ]\n",
      "phrase:[trust                                             ] root:[trust          ] type:[conj  ]\n",
      "phrase:[generosity                                        ] root:[generosity     ] type:[conj  ]\n",
      "phrase:[Other top ten countries/regions                   ] root:[regions        ] type:[nsubj ]\n",
      "phrase:[the Netherlands                                   ] root:[Netherlands    ] type:[dobj  ]\n",
      "phrase:[5th                                               ] root:[5th            ] type:[appos ]\n",
      "phrase:[Switzerland                                       ] root:[Switzerland    ] type:[appos ]\n",
      "phrase:[(8th                                              ] root:[8th            ] type:[appos ]\n",
      "phrase:[Luxembourg                                        ] root:[Luxembourg     ] type:[conj  ]\n",
      "phrase:[(9th                                              ] root:[9th            ] type:[appos ]\n",
      "phrase:[New Zealand                                       ] root:[Zealand        ] type:[conj  ]\n",
      "phrase:[(10th                                             ] root:[10th           ] type:[appos ]\n",
      "phrase:[Australia                                         ] root:[Australia      ] type:[nsubj ]\n",
      "phrase:[12th                                              ] root:[12th           ] type:[dobj  ]\n",
      "phrase:[this report                                       ] root:[report         ] type:[pobj  ]\n",
      "phrase:[Canada                                            ] root:[Canada         ] type:[pobj  ]\n",
      "phrase:[13th                                              ] root:[13th           ] type:[appos ]\n",
      "phrase:[Ireland                                           ] root:[Ireland        ] type:[appos ]\n",
      "phrase:[the United States                                 ] root:[States         ] type:[conj  ]\n",
      "phrase:[15th                                              ] root:[15th           ] type:[appos ]\n",
      "phrase:[Asia                                              ] root:[Asia           ] type:[pobj  ]\n",
      "phrase:[Singapore                                         ] root:[Singapore      ] type:[nsubj ]\n",
      "phrase:[the world                                         ] root:[world          ] type:[pobj  ]\n",
      "phrase:[last year                                         ] root:[year           ] type:[pobj  ]\n",
      "phrase:[Taiwan                                            ] root:[Taiwan         ] type:[nsubj ]\n",
      "phrase:[one place                                         ] root:[place          ] type:[dobj  ]\n",
      "phrase:[last year                                         ] root:[year           ] type:[pobj  ]\n",
      "phrase:[27th                                              ] root:[27th           ] type:[pobj  ]\n",
      "phrase:[Japan                                             ] root:[Japan          ] type:[nsubj ]\n",
      "phrase:[mainland China                                    ] root:[China          ] type:[nsubj ]\n",
      "phrase:[Hong Kong                                         ] root:[Kong           ] type:[nsubj ]\n",
      "phrase:[82nd                                              ] root:[82nd           ] type:[dobj  ]\n",
      "phrase:[the polling agency                                ] root:[agency         ] type:[nsubj ]\n",
      "phrase:[Ipsos Group                                       ] root:[Group          ] type:[appos ]\n",
      "phrase:[Ipsos                                             ] root:[Ipsos          ] type:[appos ]\n",
      "phrase:[a survey report                                   ] root:[report         ] type:[dobj  ]\n",
      "phrase:[the global happiness index                        ] root:[index          ] type:[pobj  ]\n",
      "phrase:[The results                                       ] root:[results        ] type:[nsubj ]\n",
      "phrase:[32 countries                                      ] root:[countries      ] type:[pobj  ]\n",
      "phrase:[the country                                       ] root:[country        ] type:[nsubj ]\n",
      "phrase:[the highest happiness index                       ] root:[index          ] type:[pobj  ]\n",
      "phrase:[China                                             ] root:[China          ] type:[attr  ]\n",
      "phrase:[91%                                               ] root:[%              ] type:[appos ]\n",
      "phrase:[Saudi Arabia                                      ] root:[Arabia         ] type:[pobj  ]\n",
      "phrase:[86%                                               ] root:[%              ] type:[appos ]\n",
      "phrase:[the Netherlands                                   ] root:[Netherlands    ] type:[conj  ]\n",
      "phrase:[85%                                               ] root:[%              ] type:[appos ]\n",
      "phrase:[India                                             ] root:[India          ] type:[appos ]\n",
      "phrase:[84%                                               ] root:[%              ] type:[appos ]\n",
      "phrase:[Brazil                                            ] root:[Brazil         ] type:[conj  ]\n",
      "phrase:[83%                                               ] root:[%              ] type:[appos ]\n",
      "phrase:[Australia                                         ] root:[Australia      ] type:[nsubj ]\n",
      "phrase:[9th                                               ] root:[9th            ] type:[dobj  ]\n",
      "phrase:[this report                                       ] root:[report         ] type:[pobj  ]\n",
      "phrase:[the survey report                                 ] root:[report         ] type:[pobj  ]\n",
      "phrase:[happiness                                         ] root:[happiness      ] type:[nsubj ]\n",
      "phrase:[middle-income countries                           ] root:[countries      ] type:[pobj  ]\n",
      "phrase:[the World Bank                                    ] root:[Bank           ] type:[pobj  ]\n",
      "phrase:[high-income countries                             ] root:[countries      ] type:[pobj  ]\n"
     ]
    }
   ],
   "source": [
    "for chunk in doc.noun_chunks:\n",
    "    print(f\"phrase:[{chunk.text:50}] root:[{chunk.root.text:15}] type:[{chunk.root.dep_:6}]\")"
   ]
  },
  {
   "cell_type": "markdown",
   "id": "717418a8",
   "metadata": {},
   "source": [
    "---\n",
    "# NED/NEL\n",
    "\n",
    "Note that SpaCy does not provyde any out-of-the-box Knowledge Based that links tokens or entities to Wikipedia QIDs. You need to create your own Knowledge Base and make it work.\n",
    "\n",
    "* [Entity Linking](https://spacy.io/usage/linguistic-features#entity-linking)\n",
    "* [Entity Linking functionality in spaCy](https://spacy.io/universe/project/video-spacy-irl-entity-linking)\n",
    "\n",
    "Named Entity Disambiguation or Named Entity Linking is to identify the entity using the Wikidata **QID**.\n",
    "\n",
    "\n",
    "## QID\n",
    "\n",
    "> Every Wikipedia article should have an ID on our sister project, Wikidata. The ID is a series of digits prefixed \"Q\". \n",
    "\n",
    "> QID (or Q number) is the unique identifier of a data item on Wikidata, comprising the letter \"Q\" followed by one or more digits. It is used to help people and machines understand the difference between items with the same or similar names\n",
    "> For example for Kofoworola Abeni Pratt, that URL is https://www.wikidata.org/wiki/Q25796287, and so the ID is Q25796287.\n",
    "\n",
    "In Wikipedia, select ```Tools -> Wikidata``` and it taakes to the Wikidata page with QID.\n",
    "<img src=\"./image/wikipedia_wikidata_link.png\" align=\"left\" width=600/>"
   ]
  },
  {
   "cell_type": "code",
   "execution_count": 20,
   "id": "539de3f6",
   "metadata": {},
   "outputs": [
    {
     "name": "stdout",
     "output_type": "stream",
     "text": [
      "entity:Apple      QID:\n",
      "entity:is         QID:\n",
      "entity:looking    QID:\n",
      "entity:at         QID:\n",
      "entity:buying     QID:\n",
      "entity:U.K.       QID:\n",
      "entity:startup    QID:\n",
      "entity:for        QID:\n",
      "entity:$          QID:\n",
      "entity:1          QID:\n",
      "entity:billion    QID:\n"
     ]
    }
   ],
   "source": [
    "nlp = spacy.load(\"en_core_web_sm\")\n",
    "doc = nlp(\"Apple is looking at buying U.K. startup for $1 billion\")\n",
    "\n",
    "# No entity linking OOB\n",
    "for token in doc:\n",
    "    print(f\"entity:{token.text:10} QID:{token.ent_kb_id_}\")"
   ]
  },
  {
   "cell_type": "markdown",
   "id": "dc256cfd",
   "metadata": {},
   "source": [
    "---\n",
    "# Defaults\n",
    "\n",
    "Language class has its default punctuations and special case rules defined available via ```Defaults``` attribute.\n",
    "\n",
    "* [Language.Defaults](https://spacy.io/api/language#defaults) [github BaseClass (https://github.com/explosion/spaCy/blob/master/spacy/language.py)\n",
    "\n",
    "> Language data defaults:  \n",
    "> available via Language.Defaults. Can be\n",
    "overwritten by language subclasses by defining their own subclasses of\n",
    "Language.Defaults."
   ]
  },
  {
   "cell_type": "code",
   "execution_count": 22,
   "id": "80d57a25",
   "metadata": {},
   "outputs": [
    {
     "name": "stdout",
     "output_type": "stream",
     "text": [
      "config\n",
      "infixes\n",
      "lex_attr_getters\n",
      "prefixes\n",
      "stop_words\n",
      "suffixes\n",
      "syntax_iterators\n",
      "token_match\n",
      "tokenizer_exceptions\n",
      "url_match\n",
      "writing_system\n"
     ]
    }
   ],
   "source": [
    "for default in dir(nlp.Defaults):\n",
    "    if not default.startswith('_'):\n",
    "        print(default)"
   ]
  },
  {
   "cell_type": "markdown",
   "id": "b9fc7e67",
   "metadata": {},
   "source": [
    "## Stop words"
   ]
  },
  {
   "cell_type": "code",
   "execution_count": 30,
   "id": "a19a18dd",
   "metadata": {},
   "outputs": [
    {
     "data": {
      "text/plain": [
       "['had',\n",
       " 'name',\n",
       " 'over',\n",
       " 'behind',\n",
       " 'and',\n",
       " 'have',\n",
       " 'part',\n",
       " 'anywhere',\n",
       " 'him',\n",
       " 'own']"
      ]
     },
     "execution_count": 30,
     "metadata": {},
     "output_type": "execute_result"
    }
   ],
   "source": [
    "list(itertools.islice(nlp.Defaults.stop_words, 10))"
   ]
  },
  {
   "cell_type": "markdown",
   "id": "473b4f2d",
   "metadata": {},
   "source": [
    "## Prefixes, Infixes, and Suffixes"
   ]
  },
  {
   "cell_type": "code",
   "execution_count": 33,
   "id": "df9969a6",
   "metadata": {},
   "outputs": [
    {
     "data": {
      "text/plain": [
       "['…', '……', ',', ':', ';', '\\\\!', '\\\\?', '¿', '؟', '¡']"
      ]
     },
     "execution_count": 33,
     "metadata": {},
     "output_type": "execute_result"
    }
   ],
   "source": [
    "list(itertools.islice(nlp.Defaults.suffixes, 10))"
   ]
  }
 ],
 "metadata": {
  "kernelspec": {
   "display_name": "Python 3 (ipykernel)",
   "language": "python",
   "name": "python3"
  },
  "language_info": {
   "codemirror_mode": {
    "name": "ipython",
    "version": 3
   },
   "file_extension": ".py",
   "mimetype": "text/x-python",
   "name": "python",
   "nbconvert_exporter": "python",
   "pygments_lexer": "ipython3",
   "version": "3.9.13"
  }
 },
 "nbformat": 4,
 "nbformat_minor": 5
}
