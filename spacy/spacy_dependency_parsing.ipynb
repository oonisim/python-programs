{
 "cells": [
  {
   "cell_type": "markdown",
   "id": "6ba8a8f1",
   "metadata": {},
   "source": [
    "# Spacy Dpendency Grapah \n",
    "\n",
    "\n",
    "\n",
    "* [Dependency Grammer](https://en.wikipedia.org/wiki/Dependency_grammar)\n",
    "\n",
    "> Dependency is the notion that linguistic units, e.g. words, are connected to each other by directed links. \n",
    "> DGs have treated the syntactic functions (= grammatical functions, grammatical relations) as primitive. They posit an inventory of functions (e.g. subject, object, oblique, determiner, attribute, predicative, etc.). These functions can appear as labels on the dependencies in the tree structures.\n",
    "\n",
    "> <img src=\"./image/dependency_grammer.png\" align=\"left\" width=500/>\n",
    "\n",
    "* [Navigating the parse tree](https://spacy.io/usage/linguistic-features#navigating)"
   ]
  },
  {
   "cell_type": "code",
   "execution_count": 70,
   "id": "0840b978",
   "metadata": {},
   "outputs": [],
   "source": [
    "import pandas as pd\n",
    "import spacy\n",
    "from spacy.symbols import nsubj, VERB"
   ]
  },
  {
   "cell_type": "code",
   "execution_count": 90,
   "id": "dcc4fe55",
   "metadata": {},
   "outputs": [],
   "source": [
    "def _to_text(tokens, sep=',') -> str:\n",
    "    return sep.join(map(str, list(tokens)))"
   ]
  },
  {
   "cell_type": "markdown",
   "id": "17d443b3",
   "metadata": {},
   "source": [
    "# Model"
   ]
  },
  {
   "cell_type": "code",
   "execution_count": 4,
   "id": "a071796c",
   "metadata": {},
   "outputs": [],
   "source": [
    "nlp = spacy.load(\"en_core_web_sm\")"
   ]
  },
  {
   "cell_type": "markdown",
   "id": "436b9e45",
   "metadata": {},
   "source": [
    "# Document"
   ]
  },
  {
   "cell_type": "code",
   "execution_count": 34,
   "id": "94094176",
   "metadata": {},
   "outputs": [],
   "source": [
    "doc = nlp(\"Autonomous cars shift insurance liability toward manufacturers.\")"
   ]
  },
  {
   "cell_type": "markdown",
   "id": "227a5741",
   "metadata": {},
   "source": [
    "# Dependency"
   ]
  },
  {
   "cell_type": "markdown",
   "id": "e7772d07",
   "metadata": {},
   "source": [
    "* ```.dep_``` attribute is the label of the arc that points to the unit (e.g. token) and tells the function (e.g. nsubj, verb) of the unit, \n",
    "* ```.head``` attribute is the source unit of the dependency arc. Every token has exactly one head.\n",
    "* ```.children``` attribute lists the direct descendant units of the dependencies from the unit.\n",
    "* ```.subtree``` attribute gives the entire hierarchy/tree of the unit (**including the unit itself**).\n",
    "* ```.left_edge``` points the left-most descendant in the subtree.\n",
    "* ```.right_edge``` points to the right-most descendant in the subtree."
   ]
  },
  {
   "cell_type": "code",
   "execution_count": 67,
   "id": "2e2ca4dc",
   "metadata": {},
   "outputs": [
    {
     "data": {
      "text/html": [
       "<div>\n",
       "<style scoped>\n",
       "    .dataframe tbody tr th:only-of-type {\n",
       "        vertical-align: middle;\n",
       "    }\n",
       "\n",
       "    .dataframe tbody tr th {\n",
       "        vertical-align: top;\n",
       "    }\n",
       "\n",
       "    .dataframe thead th {\n",
       "        text-align: right;\n",
       "    }\n",
       "</style>\n",
       "<table border=\"1\" class=\"dataframe\">\n",
       "  <thead>\n",
       "    <tr style=\"text-align: right;\">\n",
       "      <th></th>\n",
       "      <th>token</th>\n",
       "      <th>pos</th>\n",
       "      <th>dependency</th>\n",
       "      <th>head/parent</th>\n",
       "      <th>direct children</th>\n",
       "      <th>n left</th>\n",
       "      <th>left children</th>\n",
       "      <th>n right</th>\n",
       "      <th>right children</th>\n",
       "      <th>subtree</th>\n",
       "      <th>ancestors</th>\n",
       "    </tr>\n",
       "  </thead>\n",
       "  <tbody>\n",
       "    <tr>\n",
       "      <th>0</th>\n",
       "      <td>Autonomous</td>\n",
       "      <td>ADJ</td>\n",
       "      <td>amod (adjectival modifier)</td>\n",
       "      <td>cars</td>\n",
       "      <td></td>\n",
       "      <td>0</td>\n",
       "      <td></td>\n",
       "      <td>0</td>\n",
       "      <td></td>\n",
       "      <td>Autonomous</td>\n",
       "      <td>cars,shift</td>\n",
       "    </tr>\n",
       "    <tr>\n",
       "      <th>1</th>\n",
       "      <td>cars</td>\n",
       "      <td>NOUN</td>\n",
       "      <td>nsubj (nominal subject)</td>\n",
       "      <td>shift</td>\n",
       "      <td>Autonomous</td>\n",
       "      <td>1</td>\n",
       "      <td>Autonomous</td>\n",
       "      <td>0</td>\n",
       "      <td></td>\n",
       "      <td>Autonomous,cars</td>\n",
       "      <td>shift</td>\n",
       "    </tr>\n",
       "    <tr>\n",
       "      <th>2</th>\n",
       "      <td>shift</td>\n",
       "      <td>VERB</td>\n",
       "      <td>ROOT (root)</td>\n",
       "      <td>shift</td>\n",
       "      <td>cars,liability,toward,.</td>\n",
       "      <td>1</td>\n",
       "      <td>cars</td>\n",
       "      <td>3</td>\n",
       "      <td>liability,toward,.</td>\n",
       "      <td>Autonomous,cars,shift,insurance,liability,towa...</td>\n",
       "      <td></td>\n",
       "    </tr>\n",
       "    <tr>\n",
       "      <th>3</th>\n",
       "      <td>insurance</td>\n",
       "      <td>NOUN</td>\n",
       "      <td>compound (compound)</td>\n",
       "      <td>liability</td>\n",
       "      <td></td>\n",
       "      <td>0</td>\n",
       "      <td></td>\n",
       "      <td>0</td>\n",
       "      <td></td>\n",
       "      <td>insurance</td>\n",
       "      <td>liability,shift</td>\n",
       "    </tr>\n",
       "    <tr>\n",
       "      <th>4</th>\n",
       "      <td>liability</td>\n",
       "      <td>NOUN</td>\n",
       "      <td>dobj (direct object)</td>\n",
       "      <td>shift</td>\n",
       "      <td>insurance</td>\n",
       "      <td>1</td>\n",
       "      <td>insurance</td>\n",
       "      <td>0</td>\n",
       "      <td></td>\n",
       "      <td>insurance,liability</td>\n",
       "      <td>shift</td>\n",
       "    </tr>\n",
       "    <tr>\n",
       "      <th>5</th>\n",
       "      <td>toward</td>\n",
       "      <td>ADP</td>\n",
       "      <td>prep (prepositional modifier)</td>\n",
       "      <td>shift</td>\n",
       "      <td>manufacturers</td>\n",
       "      <td>0</td>\n",
       "      <td></td>\n",
       "      <td>1</td>\n",
       "      <td>manufacturers</td>\n",
       "      <td>toward,manufacturers</td>\n",
       "      <td>shift</td>\n",
       "    </tr>\n",
       "    <tr>\n",
       "      <th>6</th>\n",
       "      <td>manufacturers</td>\n",
       "      <td>NOUN</td>\n",
       "      <td>pobj (object of preposition)</td>\n",
       "      <td>toward</td>\n",
       "      <td></td>\n",
       "      <td>0</td>\n",
       "      <td></td>\n",
       "      <td>0</td>\n",
       "      <td></td>\n",
       "      <td>manufacturers</td>\n",
       "      <td>toward,shift</td>\n",
       "    </tr>\n",
       "    <tr>\n",
       "      <th>7</th>\n",
       "      <td>.</td>\n",
       "      <td>PUNCT</td>\n",
       "      <td>punct (punctuation)</td>\n",
       "      <td>shift</td>\n",
       "      <td></td>\n",
       "      <td>0</td>\n",
       "      <td></td>\n",
       "      <td>0</td>\n",
       "      <td></td>\n",
       "      <td>.</td>\n",
       "      <td>shift</td>\n",
       "    </tr>\n",
       "  </tbody>\n",
       "</table>\n",
       "</div>"
      ],
      "text/plain": [
       "           token    pos                     dependency head/parent  \\\n",
       "0     Autonomous    ADJ     amod (adjectival modifier)        cars   \n",
       "1           cars   NOUN        nsubj (nominal subject)       shift   \n",
       "2          shift   VERB                    ROOT (root)       shift   \n",
       "3      insurance   NOUN            compound (compound)   liability   \n",
       "4      liability   NOUN           dobj (direct object)       shift   \n",
       "5         toward    ADP  prep (prepositional modifier)       shift   \n",
       "6  manufacturers   NOUN   pobj (object of preposition)      toward   \n",
       "7              .  PUNCT            punct (punctuation)       shift   \n",
       "\n",
       "           direct children  n left left children  n right      right children  \\\n",
       "0                                0                      0                       \n",
       "1               Autonomous       1    Autonomous        0                       \n",
       "2  cars,liability,toward,.       1          cars        3  liability,toward,.   \n",
       "3                                0                      0                       \n",
       "4                insurance       1     insurance        0                       \n",
       "5            manufacturers       0                      1       manufacturers   \n",
       "6                                0                      0                       \n",
       "7                                0                      0                       \n",
       "\n",
       "                                             subtree        ancestors  \n",
       "0                                         Autonomous       cars,shift  \n",
       "1                                    Autonomous,cars            shift  \n",
       "2  Autonomous,cars,shift,insurance,liability,towa...                   \n",
       "3                                          insurance  liability,shift  \n",
       "4                                insurance,liability            shift  \n",
       "5                               toward,manufacturers            shift  \n",
       "6                                      manufacturers     toward,shift  \n",
       "7                                                  .            shift  "
      ]
     },
     "execution_count": 67,
     "metadata": {},
     "output_type": "execute_result"
    }
   ],
   "source": [
    "df = pd.DataFrame([\n",
    "        {\n",
    "            \"index\": token.i,\n",
    "            \"token\": token.text,\n",
    "            \"pos\"  : token.pos_,\n",
    "            \"dependency\": f\"{token.dep_} ({spacy.explain(token.dep_)})\",\n",
    "            \"head/parent\": token.head.text,\n",
    "            \"direct children\": _to_text(token.children),\n",
    "            \"n left\": token.n_lefts,\n",
    "            \"left children\": _to_text(token.lefts),\n",
    "            \"n right\": token.n_rights,\n",
    "            \"right children\": _to_text(token.rights),\n",
    "            \"subtree\": _to_text(token.subtree),\n",
    "            \"ancestors\": _to_text(token.ancestors)\n",
    "        }\n",
    "        for token in doc\n",
    "    ]\n",
    ").set_index('index')\n",
    "df.index.name = None\n",
    "df"
   ]
  },
  {
   "cell_type": "markdown",
   "id": "151ca049",
   "metadata": {},
   "source": [
    "### Subtree Left/Right Edge\n",
    "\n",
    "If a unit has no child, ```.left_edge``` and ```.right_edge``` point itself."
   ]
  },
  {
   "cell_type": "code",
   "execution_count": 68,
   "id": "38c50eaf",
   "metadata": {},
   "outputs": [
    {
     "name": "stdout",
     "output_type": "stream",
     "text": [
      "[insurance] left edge [insurance] right edge [insurance].\n"
     ]
    }
   ],
   "source": [
    "insurance = doc[3]\n",
    "print(f\"[{insurance}] left edge [{insurance.left_edge}] right edge [{insurance.right_edge}].\")"
   ]
  },
  {
   "cell_type": "markdown",
   "id": "bd745787",
   "metadata": {},
   "source": [
    "# Dependency Tree"
   ]
  },
  {
   "cell_type": "code",
   "execution_count": 44,
   "id": "6468950f",
   "metadata": {},
   "outputs": [
    {
     "name": "stderr",
     "output_type": "stream",
     "text": [
      "/Users/oonisim/venv/tf/lib/python3.9/site-packages/spacy/util.py:1837: UserWarning: [W124] 0.0.0.0:5000 is already in use, using the nearest available port 5001 as an alternative.\n",
      "  warnings.warn(Warnings.W124.format(host=host, port=start, serve_port=port))\n",
      "/Users/oonisim/venv/tf/lib/python3.9/site-packages/spacy/displacy/__init__.py:106: UserWarning: [W011] It looks like you're calling displacy.serve from within a Jupyter notebook or a similar environment. This likely means you're already running a local web server, so there's no need to make displaCy start another one. Instead, you should be able to replace displacy.serve with displacy.render to show the visualization.\n",
      "  warnings.warn(Warnings.W011)\n"
     ]
    },
    {
     "data": {
      "text/html": [
       "<span class=\"tex2jax_ignore\"><svg xmlns=\"http://www.w3.org/2000/svg\" xmlns:xlink=\"http://www.w3.org/1999/xlink\" xml:lang=\"en\" id=\"1fea4b1ba47a45bdb20cf9f83d8e22d5-0\" class=\"displacy\" width=\"1275\" height=\"399.5\" direction=\"ltr\" style=\"max-width: none; height: 399.5px; color: #000000; background: #ffffff; font-family: Arial; direction: ltr\">\n",
       "<text class=\"displacy-token\" fill=\"currentColor\" text-anchor=\"middle\" y=\"309.5\">\n",
       "    <tspan class=\"displacy-word\" fill=\"currentColor\" x=\"50\">Autonomous</tspan>\n",
       "    <tspan class=\"displacy-tag\" dy=\"2em\" fill=\"currentColor\" x=\"50\">ADJ</tspan>\n",
       "</text>\n",
       "\n",
       "<text class=\"displacy-token\" fill=\"currentColor\" text-anchor=\"middle\" y=\"309.5\">\n",
       "    <tspan class=\"displacy-word\" fill=\"currentColor\" x=\"225\">cars</tspan>\n",
       "    <tspan class=\"displacy-tag\" dy=\"2em\" fill=\"currentColor\" x=\"225\">NOUN</tspan>\n",
       "</text>\n",
       "\n",
       "<text class=\"displacy-token\" fill=\"currentColor\" text-anchor=\"middle\" y=\"309.5\">\n",
       "    <tspan class=\"displacy-word\" fill=\"currentColor\" x=\"400\">shift</tspan>\n",
       "    <tspan class=\"displacy-tag\" dy=\"2em\" fill=\"currentColor\" x=\"400\">VERB</tspan>\n",
       "</text>\n",
       "\n",
       "<text class=\"displacy-token\" fill=\"currentColor\" text-anchor=\"middle\" y=\"309.5\">\n",
       "    <tspan class=\"displacy-word\" fill=\"currentColor\" x=\"575\">insurance</tspan>\n",
       "    <tspan class=\"displacy-tag\" dy=\"2em\" fill=\"currentColor\" x=\"575\">NOUN</tspan>\n",
       "</text>\n",
       "\n",
       "<text class=\"displacy-token\" fill=\"currentColor\" text-anchor=\"middle\" y=\"309.5\">\n",
       "    <tspan class=\"displacy-word\" fill=\"currentColor\" x=\"750\">liability</tspan>\n",
       "    <tspan class=\"displacy-tag\" dy=\"2em\" fill=\"currentColor\" x=\"750\">NOUN</tspan>\n",
       "</text>\n",
       "\n",
       "<text class=\"displacy-token\" fill=\"currentColor\" text-anchor=\"middle\" y=\"309.5\">\n",
       "    <tspan class=\"displacy-word\" fill=\"currentColor\" x=\"925\">toward</tspan>\n",
       "    <tspan class=\"displacy-tag\" dy=\"2em\" fill=\"currentColor\" x=\"925\">ADP</tspan>\n",
       "</text>\n",
       "\n",
       "<text class=\"displacy-token\" fill=\"currentColor\" text-anchor=\"middle\" y=\"309.5\">\n",
       "    <tspan class=\"displacy-word\" fill=\"currentColor\" x=\"1100\">manufacturers.</tspan>\n",
       "    <tspan class=\"displacy-tag\" dy=\"2em\" fill=\"currentColor\" x=\"1100\">NOUN</tspan>\n",
       "</text>\n",
       "\n",
       "<g class=\"displacy-arrow\">\n",
       "    <path class=\"displacy-arc\" id=\"arrow-1fea4b1ba47a45bdb20cf9f83d8e22d5-0-0\" stroke-width=\"2px\" d=\"M70,264.5 C70,177.0 215.0,177.0 215.0,264.5\" fill=\"none\" stroke=\"currentColor\"/>\n",
       "    <text dy=\"1.25em\" style=\"font-size: 0.8em; letter-spacing: 1px\">\n",
       "        <textPath xlink:href=\"#arrow-1fea4b1ba47a45bdb20cf9f83d8e22d5-0-0\" class=\"displacy-label\" startOffset=\"50%\" side=\"left\" fill=\"currentColor\" text-anchor=\"middle\">amod</textPath>\n",
       "    </text>\n",
       "    <path class=\"displacy-arrowhead\" d=\"M70,266.5 L62,254.5 78,254.5\" fill=\"currentColor\"/>\n",
       "</g>\n",
       "\n",
       "<g class=\"displacy-arrow\">\n",
       "    <path class=\"displacy-arc\" id=\"arrow-1fea4b1ba47a45bdb20cf9f83d8e22d5-0-1\" stroke-width=\"2px\" d=\"M245,264.5 C245,177.0 390.0,177.0 390.0,264.5\" fill=\"none\" stroke=\"currentColor\"/>\n",
       "    <text dy=\"1.25em\" style=\"font-size: 0.8em; letter-spacing: 1px\">\n",
       "        <textPath xlink:href=\"#arrow-1fea4b1ba47a45bdb20cf9f83d8e22d5-0-1\" class=\"displacy-label\" startOffset=\"50%\" side=\"left\" fill=\"currentColor\" text-anchor=\"middle\">nsubj</textPath>\n",
       "    </text>\n",
       "    <path class=\"displacy-arrowhead\" d=\"M245,266.5 L237,254.5 253,254.5\" fill=\"currentColor\"/>\n",
       "</g>\n",
       "\n",
       "<g class=\"displacy-arrow\">\n",
       "    <path class=\"displacy-arc\" id=\"arrow-1fea4b1ba47a45bdb20cf9f83d8e22d5-0-2\" stroke-width=\"2px\" d=\"M595,264.5 C595,177.0 740.0,177.0 740.0,264.5\" fill=\"none\" stroke=\"currentColor\"/>\n",
       "    <text dy=\"1.25em\" style=\"font-size: 0.8em; letter-spacing: 1px\">\n",
       "        <textPath xlink:href=\"#arrow-1fea4b1ba47a45bdb20cf9f83d8e22d5-0-2\" class=\"displacy-label\" startOffset=\"50%\" side=\"left\" fill=\"currentColor\" text-anchor=\"middle\">compound</textPath>\n",
       "    </text>\n",
       "    <path class=\"displacy-arrowhead\" d=\"M595,266.5 L587,254.5 603,254.5\" fill=\"currentColor\"/>\n",
       "</g>\n",
       "\n",
       "<g class=\"displacy-arrow\">\n",
       "    <path class=\"displacy-arc\" id=\"arrow-1fea4b1ba47a45bdb20cf9f83d8e22d5-0-3\" stroke-width=\"2px\" d=\"M420,264.5 C420,89.5 745.0,89.5 745.0,264.5\" fill=\"none\" stroke=\"currentColor\"/>\n",
       "    <text dy=\"1.25em\" style=\"font-size: 0.8em; letter-spacing: 1px\">\n",
       "        <textPath xlink:href=\"#arrow-1fea4b1ba47a45bdb20cf9f83d8e22d5-0-3\" class=\"displacy-label\" startOffset=\"50%\" side=\"left\" fill=\"currentColor\" text-anchor=\"middle\">dobj</textPath>\n",
       "    </text>\n",
       "    <path class=\"displacy-arrowhead\" d=\"M745.0,266.5 L753.0,254.5 737.0,254.5\" fill=\"currentColor\"/>\n",
       "</g>\n",
       "\n",
       "<g class=\"displacy-arrow\">\n",
       "    <path class=\"displacy-arc\" id=\"arrow-1fea4b1ba47a45bdb20cf9f83d8e22d5-0-4\" stroke-width=\"2px\" d=\"M420,264.5 C420,2.0 925.0,2.0 925.0,264.5\" fill=\"none\" stroke=\"currentColor\"/>\n",
       "    <text dy=\"1.25em\" style=\"font-size: 0.8em; letter-spacing: 1px\">\n",
       "        <textPath xlink:href=\"#arrow-1fea4b1ba47a45bdb20cf9f83d8e22d5-0-4\" class=\"displacy-label\" startOffset=\"50%\" side=\"left\" fill=\"currentColor\" text-anchor=\"middle\">prep</textPath>\n",
       "    </text>\n",
       "    <path class=\"displacy-arrowhead\" d=\"M925.0,266.5 L933.0,254.5 917.0,254.5\" fill=\"currentColor\"/>\n",
       "</g>\n",
       "\n",
       "<g class=\"displacy-arrow\">\n",
       "    <path class=\"displacy-arc\" id=\"arrow-1fea4b1ba47a45bdb20cf9f83d8e22d5-0-5\" stroke-width=\"2px\" d=\"M945,264.5 C945,177.0 1090.0,177.0 1090.0,264.5\" fill=\"none\" stroke=\"currentColor\"/>\n",
       "    <text dy=\"1.25em\" style=\"font-size: 0.8em; letter-spacing: 1px\">\n",
       "        <textPath xlink:href=\"#arrow-1fea4b1ba47a45bdb20cf9f83d8e22d5-0-5\" class=\"displacy-label\" startOffset=\"50%\" side=\"left\" fill=\"currentColor\" text-anchor=\"middle\">pobj</textPath>\n",
       "    </text>\n",
       "    <path class=\"displacy-arrowhead\" d=\"M1090.0,266.5 L1098.0,254.5 1082.0,254.5\" fill=\"currentColor\"/>\n",
       "</g>\n",
       "</svg></span>"
      ],
      "text/plain": [
       "<IPython.core.display.HTML object>"
      ]
     },
     "metadata": {},
     "output_type": "display_data"
    },
    {
     "name": "stdout",
     "output_type": "stream",
     "text": [
      "\n",
      "Using the 'dep' visualizer\n",
      "Serving on http://0.0.0.0:5001 ...\n",
      "\n",
      "Shutting down server on port 5001.\n"
     ]
    }
   ],
   "source": [
    "spacy.displacy.serve(doc, style=\"dep\", auto_select_port=True, page=False)"
   ]
  },
  {
   "cell_type": "markdown",
   "id": "ec51cfcb",
   "metadata": {},
   "source": [
    "# Finding Subject Noun Phrase"
   ]
  },
  {
   "cell_type": "code",
   "execution_count": 121,
   "id": "e7d4b7ab",
   "metadata": {},
   "outputs": [
    {
     "name": "stdout",
     "output_type": "stream",
     "text": [
      "0   Autonomous electric cars in Europe      NOUN   nsubj\n",
      "1   shifted                                 VERB   ROOT\n",
      "2   insurance                               NOUN   compound\n",
      "3   liability                               NOUN   dobj\n",
      "4   to                                      ADP    prep\n",
      "5   manufacturers                           NOUN   pobj\n",
      "6   ,                                       PUNCT  punct\n",
      "7   although                                SCONJ  mark\n",
      "8   the manufacturers                       NOUN   nsubj\n",
      "9   did                                     AUX    aux\n",
      "10  not                                     PART   neg\n",
      "11  like                                    VERB   advcl\n",
      "12  it                                      PRON   dobj\n",
      "13  ,                                       PUNCT  punct\n",
      "14  causing                                 VERB   advcl\n",
      "15  significant                             ADJ    amod\n",
      "16  spending                                NOUN   dobj\n",
      "17  .                                       PUNCT  punct\n"
     ]
    }
   ],
   "source": [
    "text = \"\"\"\n",
    "Autonomous electric cars in Europe shifted insurance liability to manufacturers, \n",
    "although the manufacturers did not like it, causing significant spending.\n",
    "\"\"\"\n",
    "doc = nlp(' '.join(text.split()))\n",
    "\n",
    "subjects = []\n",
    "for candidate in doc:\n",
    "    if candidate.dep == nsubj and candidate.head.pos == VERB:\n",
    "        subjects.append(candidate)\n",
    "\n",
    "with doc.retokenize() as retokenizer:\n",
    "    for subject in subjects:\n",
    "        span = doc[subject.left_edge.i : subject.right_edge.i+1]\n",
    "        retokenizer.merge(span)\n",
    "        \n",
    "for token in doc:\n",
    "    print(f\"{token.i:<4}{token.text:40}{token.pos_:7}{token.dep_}\")"
   ]
  },
  {
   "cell_type": "code",
   "execution_count": null,
   "id": "d4afd812",
   "metadata": {},
   "outputs": [],
   "source": []
  }
 ],
 "metadata": {
  "kernelspec": {
   "display_name": "Python 3 (ipykernel)",
   "language": "python",
   "name": "python3"
  },
  "language_info": {
   "codemirror_mode": {
    "name": "ipython",
    "version": 3
   },
   "file_extension": ".py",
   "mimetype": "text/x-python",
   "name": "python",
   "nbconvert_exporter": "python",
   "pygments_lexer": "ipython3",
   "version": "3.9.13"
  }
 },
 "nbformat": 4,
 "nbformat_minor": 5
}
