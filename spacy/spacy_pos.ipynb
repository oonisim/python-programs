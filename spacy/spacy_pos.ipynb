{
 "cells": [
  {
   "cell_type": "code",
   "execution_count": 1,
   "id": "d8ac4a72",
   "metadata": {},
   "outputs": [],
   "source": [
    "import itertools\n",
    "import spacy\n",
    "from spacy import displacy"
   ]
  },
  {
   "cell_type": "code",
   "execution_count": 2,
   "id": "40deb27a",
   "metadata": {},
   "outputs": [
    {
     "data": {
      "text/html": [
       "<style>\n",
       "table {float:left}\n",
       "</style>\n"
      ],
      "text/plain": [
       "<IPython.core.display.HTML object>"
      ]
     },
     "metadata": {},
     "output_type": "display_data"
    }
   ],
   "source": [
    "%%html\n",
    "<style>\n",
    "table {float:left}\n",
    "</style>"
   ]
  },
  {
   "cell_type": "code",
   "execution_count": 3,
   "id": "84877c47",
   "metadata": {},
   "outputs": [],
   "source": [
    "nlp = spacy.load(\"en_core_web_lg\")"
   ]
  },
  {
   "cell_type": "markdown",
   "id": "687ca24a",
   "metadata": {},
   "source": [
    "# POS (Part of Speech)"
   ]
  },
  {
   "cell_type": "markdown",
   "id": "acb87dfa",
   "metadata": {},
   "source": [
    "## POS Tags\n",
    "\n",
    "* ADJ: adjective, e.g. big, old, green, incomprehensible, first\n",
    "* ADP: adposition, e.g. in, to, during\n",
    "* ADV: adverb, e.g. very, tomorrow, down, where, there\n",
    "* AUX: auxiliary, e.g. is, has (done), will (do), should (do)\n",
    "* CONJ: conjunction, e.g. and, or, but\n",
    "* CCONJ: coordinating conjunction, e.g. and, or, but\n",
    "* DET: determiner, e.g. a, an, the\n",
    "* INTJ: interjection, e.g. psst, ouch, bravo, hello\n",
    "* NOUN: noun, e.g. girl, cat, tree, air, beauty\n",
    "* NUM: numeral, e.g. 1, 2017, one, seventy-seven, IV, MMXIV\n",
    "* PART: particle, e.g. ’s, not,\n",
    "* PRON: pronoun, e.g I, you, he, she, myself, themselves, somebody\n",
    "* PROPN: proper noun, e.g. Mary, John, London, NATO, HBO\n",
    "* PUNCT: punctuation, e.g. ., (, ), ?\n",
    "* SCONJ: subordinating conjunction, e.g. if, while, that\n",
    "* SYM: symbol, e.g. $, %, §, ©, +, −, ×, ÷, =, :), 😝\n",
    "* VERB: verb, e.g. run, runs, running, eat, ate, eating\n",
    "* X: other, e.g. sfpksdpsxmsa\n",
    "* SPACE: space, e.g."
   ]
  },
  {
   "cell_type": "code",
   "execution_count": 4,
   "id": "e55a838c",
   "metadata": {},
   "outputs": [],
   "source": [
    "text = \"My best friend Ryan likes sports.\""
   ]
  },
  {
   "cell_type": "code",
   "execution_count": 20,
   "id": "c5d3e10a",
   "metadata": {},
   "outputs": [
    {
     "name": "stdout",
     "output_type": "stream",
     "text": [
      "(my:PRON)(good:ADJ)(friend:NOUN)(Ryan:PROPN)(like:VERB)(sport:NOUN)(.:PUNCT)"
     ]
    }
   ],
   "source": [
    "for t in nlp(text):\n",
    "    print(f\"({t.lemma_}:{t.pos_})\", end='')"
   ]
  },
  {
   "cell_type": "code",
   "execution_count": null,
   "id": "baa473d1",
   "metadata": {},
   "outputs": [],
   "source": []
  }
 ],
 "metadata": {
  "kernelspec": {
   "display_name": "Python 3 (ipykernel)",
   "language": "python",
   "name": "python3"
  },
  "language_info": {
   "codemirror_mode": {
    "name": "ipython",
    "version": 3
   },
   "file_extension": ".py",
   "mimetype": "text/x-python",
   "name": "python",
   "nbconvert_exporter": "python",
   "pygments_lexer": "ipython3",
   "version": "3.9.13"
  }
 },
 "nbformat": 4,
 "nbformat_minor": 5
}
