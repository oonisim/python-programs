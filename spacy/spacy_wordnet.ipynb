{
 "cells": [
  {
   "cell_type": "markdown",
   "id": "6ba8a8f1",
   "metadata": {},
   "source": [
    "# Spacy Wordnet\n",
    "\n",
    "* [How to get domain of words using WordNet in Python?](https://stackoverflow.com/questions/21902411/how-to-get-domain-of-words-using-wordnet-in-python)\n",
    "\n",
    "* [spacy-wordnet](https://spacy.io/universe/project/spacy-wordnet)\n",
    "\n",
    "> spacy-wordnet creates annotations that easily allow the use of WordNet and [WordNet Domains](http://wndomains.fbk.eu/) by using the [NLTK WordNet interface](http://www.nltk.org/howto/wordnet.html).\n",
    "\n",
    "* [PyPi spaCy WordNet](https://pypi.org/project/spacy-wordnet/)\n",
    "\n",
    "> You also need to install the following NLTK wordnet data:\n",
    "> ```\n",
    "> python -m nltk.downloader wordnet\n",
    "> python -m nltk.downloader omw\n",
    "> ```"
   ]
  },
  {
   "cell_type": "markdown",
   "id": "bb1a12a9",
   "metadata": {},
   "source": [
    "!python -m nltk.downloader wordnet\n",
    "!python -m nltk.downloader omw"
   ]
  },
  {
   "cell_type": "code",
   "execution_count": 1,
   "id": "0840b978",
   "metadata": {},
   "outputs": [],
   "source": [
    "import pandas as pd\n",
    "import spacy\n",
    "from spacy.symbols import nsubj, dobj, iobj, VERB\n",
    "import spacy_wordnet\n",
    "from spacy_wordnet.wordnet_annotator import WordnetAnnotator "
   ]
  },
  {
   "cell_type": "code",
   "execution_count": 2,
   "id": "dcc4fe55",
   "metadata": {},
   "outputs": [],
   "source": [
    "def _to_text(tokens, sep=',') -> str:\n",
    "    return sep.join(map(str, list(tokens)))"
   ]
  },
  {
   "cell_type": "markdown",
   "id": "17d443b3",
   "metadata": {},
   "source": [
    "# Model"
   ]
  },
  {
   "cell_type": "code",
   "execution_count": 3,
   "id": "a071796c",
   "metadata": {},
   "outputs": [
    {
     "data": {
      "text/plain": [
       "<spacy_wordnet.wordnet_annotator.WordnetAnnotator at 0x103684280>"
      ]
     },
     "execution_count": 3,
     "metadata": {},
     "output_type": "execute_result"
    }
   ],
   "source": [
    "nlp = spacy.load(\"en_core_web_sm\")\n",
    "nlp.add_pipe(\"spacy_wordnet\", after='tagger')"
   ]
  },
  {
   "cell_type": "markdown",
   "id": "436b9e45",
   "metadata": {},
   "source": [
    "# Document"
   ]
  },
  {
   "cell_type": "code",
   "execution_count": 41,
   "id": "94094176",
   "metadata": {},
   "outputs": [],
   "source": [
    "text = \"\"\"\n",
    "Post Traumatic Stress Disorder symptoms (PTSD) often co-exist with \n",
    "other conditions such as substance use disorders, depression and anxiety. \n",
    "A comprehensive medical evaluation resulting in an individualized treatment plan is optimal.\n",
    "\"\"\"\n",
    "doc = nlp(' '.join(text.split()))"
   ]
  },
  {
   "cell_type": "code",
   "execution_count": 53,
   "id": "0240f17e",
   "metadata": {},
   "outputs": [
    {
     "name": "stdout",
     "output_type": "stream",
     "text": [
      "PTSD                                               Synset('posttraumatic_stress_disorder.n.01')\n",
      "depression                                         Synset('depression.n.01')\n",
      "anxiety                                            Synset('anxiety.n.01')\n"
     ]
    }
   ],
   "source": [
    "for noun in doc.noun_chunks:\n",
    "    word = wordnet.synsets(noun.text, pos=wordnet.NOUN)\n",
    "    if word:\n",
    "        print(f\"{noun.text:50} {word[0]}\")"
   ]
  },
  {
   "cell_type": "markdown",
   "id": "ec51cfcb",
   "metadata": {},
   "source": [
    "# Finding Subject Noun Phrase"
   ]
  },
  {
   "cell_type": "code",
   "execution_count": 31,
   "id": "e7d4b7ab",
   "metadata": {},
   "outputs": [],
   "source": [
    "from nltk.corpus import (\n",
    "    wordnet,\n",
    "    words\n",
    ")\n"
   ]
  },
  {
   "cell_type": "code",
   "execution_count": 7,
   "id": "d4afd812",
   "metadata": {},
   "outputs": [
    {
     "name": "stdout",
     "output_type": "stream",
     "text": [
      "[]\n",
      "[Lemma('autonomous.s.01.autonomous'), Lemma('autonomous.s.01.independent'), Lemma('autonomous.s.01.self-governing'), Lemma('autonomous.s.01.sovereign'), Lemma('autonomous.s.02.autonomous'), Lemma('autonomous.s.03.autonomous'), Lemma('autonomous.s.03.self-directed'), Lemma('autonomous.s.03.self-reliant')]\n"
     ]
    },
    {
     "data": {
      "text/plain": [
       "['politics']"
      ]
     },
     "execution_count": 7,
     "metadata": {},
     "output_type": "execute_result"
    }
   ],
   "source": [
    "# WordNet object links spaCy token with NLTK WordNet interface by giving access to synsets and lemmas \n",
    "token = doc[0]\n",
    "print(token._.wordnet.synsets())\n",
    "print(token._.wordnet.lemmas())\n",
    "\n",
    "# And automatically add info about WordNet domains\n",
    "token._.wordnet.wordnet_domains()"
   ]
  },
  {
   "cell_type": "code",
   "execution_count": null,
   "id": "54835e7e",
   "metadata": {},
   "outputs": [],
   "source": []
  }
 ],
 "metadata": {
  "kernelspec": {
   "display_name": "Python 3 (ipykernel)",
   "language": "python",
   "name": "python3"
  },
  "language_info": {
   "codemirror_mode": {
    "name": "ipython",
    "version": 3
   },
   "file_extension": ".py",
   "mimetype": "text/x-python",
   "name": "python",
   "nbconvert_exporter": "python",
   "pygments_lexer": "ipython3",
   "version": "3.9.13"
  }
 },
 "nbformat": 4,
 "nbformat_minor": 5
}
