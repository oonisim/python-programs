{
 "cells": [
  {
   "cell_type": "markdown",
   "id": "e6786982",
   "metadata": {},
   "source": [
    "# Abbreviation matching\n",
    "\n",
    "* [scispacy abbreviationdetector](https://github.com/allenai/scispacy#abbreviationdetector) can register the provisioned abbreviations e.g. ```StackOverflow (SO)``` and record their locations."
   ]
  },
  {
   "cell_type": "code",
   "execution_count": 45,
   "id": "2b360f9b",
   "metadata": {},
   "outputs": [],
   "source": [
    "import re\n",
    "import spacy\n",
    "from scispacy.abbreviation import (\n",
    "    AbbreviationDetector\n",
    ")"
   ]
  },
  {
   "cell_type": "markdown",
   "id": "b633ae86",
   "metadata": {},
   "source": [
    "# Sci Spacy Language Model"
   ]
  },
  {
   "cell_type": "code",
   "execution_count": 5,
   "id": "7f90ac31",
   "metadata": {},
   "outputs": [
    {
     "name": "stderr",
     "output_type": "stream",
     "text": [
      "/Users/oonisim/venv/tf/lib/python3.9/site-packages/spacy/language.py:2141: FutureWarning: Possible set union at position 6328\n",
      "  deserializers[\"tokenizer\"] = lambda p: self.tokenizer.from_disk(  # type: ignore[union-attr]\n"
     ]
    }
   ],
   "source": [
    "nlp = spacy.load(\"en_core_sci_lg\")"
   ]
  },
  {
   "cell_type": "markdown",
   "id": "7eb2d8f0",
   "metadata": {},
   "source": [
    "## Abbreviation Detector into the pipeline"
   ]
  },
  {
   "cell_type": "code",
   "execution_count": null,
   "id": "520a1bf0",
   "metadata": {},
   "outputs": [],
   "source": [
    "nlp.add_pipe(\"abbreviation_detector\")"
   ]
  },
  {
   "cell_type": "markdown",
   "id": "5a5abb77",
   "metadata": {},
   "source": [
    "# Register the abbreviations and detection"
   ]
  },
  {
   "cell_type": "code",
   "execution_count": 58,
   "id": "2de1f6c4",
   "metadata": {},
   "outputs": [],
   "source": [
    "text = \"\"\"\n",
    "Spinal and bulbar muscular atrophy (SBMA) is an inherited motor neuron disease caused by the expansion\n",
    "of a polyglutamine tract within the androgen receptor (AR). SBMA can be caused by this easily.\n",
    "\"\"\"\n",
    "doc = nlp(' '.join(text.split()))"
   ]
  },
  {
   "cell_type": "markdown",
   "id": "cf55ebfd",
   "metadata": {},
   "source": [
    "# Detected abbreviations\n",
    "\n",
    "Word positions ```(token.i)``` in the text."
   ]
  },
  {
   "cell_type": "code",
   "execution_count": 59,
   "id": "6407eb09",
   "metadata": {},
   "outputs": [
    {
     "name": "stdout",
     "output_type": "stream",
     "text": [
      "SBMA           : (6, 7) Spinal and bulbar muscular atrophy\n",
      "SBMA           : (30, 31) Spinal and bulbar muscular atrophy\n",
      "AR             : (27, 28) androgen receptor\n"
     ]
    }
   ],
   "source": [
    "for abrv in doc._.abbreviations:\n",
    "    print(f\"{abrv.text:<15}: ({abrv.start}, {abrv.end}) {abrv._.long_form}\")\n",
    "    \n",
    "abbreviations = {\n",
    "    abrv.start: abrv._.long_form for abrv in doc._.abbreviations\n",
    "}"
   ]
  },
  {
   "cell_type": "code",
   "execution_count": 60,
   "id": "7b00632f",
   "metadata": {},
   "outputs": [
    {
     "name": "stdout",
     "output_type": "stream",
     "text": [
      "0    Spinal               : \n",
      "1    and                  : \n",
      "2    bulbar               : \n",
      "3    muscular             : \n",
      "4    atrophy              : \n",
      "5    (                    : \n",
      "6    SBMA                 : Spinal and bulbar muscular atrophy\n",
      "7    )                    : \n",
      "8    is                   : \n",
      "9    an                   : \n",
      "10   inherited            : \n",
      "11   motor                : \n",
      "12   neuron               : \n",
      "13   disease              : \n",
      "14   caused               : \n",
      "15   by                   : \n",
      "16   the                  : \n",
      "17   expansion            : \n",
      "18   of                   : \n",
      "19   a                    : \n",
      "20   polyglutamine        : \n",
      "21   tract                : \n",
      "22   within               : \n",
      "23   the                  : \n",
      "24   androgen             : \n",
      "25   receptor             : \n",
      "26   (                    : \n",
      "27   AR                   : androgen receptor\n",
      "28   )                    : \n",
      "29   .                    : \n",
      "30   SBMA                 : Spinal and bulbar muscular atrophy\n",
      "31   can                  : \n",
      "32   be                   : \n",
      "33   caused               : \n",
      "34   by                   : \n",
      "35   this                 : \n",
      "36   easily               : \n",
      "37   .                    : \n"
     ]
    }
   ],
   "source": [
    "for token in doc:\n",
    "    print(f\"{token.i:<4} {token.text:20} : {abbreviations.get(token.i, '')}\")"
   ]
  },
  {
   "cell_type": "code",
   "execution_count": 61,
   "id": "1c3687e8",
   "metadata": {},
   "outputs": [
    {
     "data": {
      "text/plain": [
       "0"
      ]
     },
     "execution_count": 61,
     "metadata": {},
     "output_type": "execute_result"
    }
   ],
   "source": [
    "token = doc[0]\n",
    "token.i"
   ]
  },
  {
   "cell_type": "code",
   "execution_count": 62,
   "id": "64a9edc1",
   "metadata": {},
   "outputs": [
    {
     "data": {
      "text/plain": [
       "'\\n Spinal and bulbar muscular atrophy ( Spinal and bulbar muscular atrophy ) is an inherited motor neuron disease caused by the expansion \\n of a polyglutamine tract within the androgen receptor ( androgen receptor ) . Spinal and bulbar muscular atrophy can be caused by this easily . \\n'"
      ]
     },
     "execution_count": 62,
     "metadata": {},
     "output_type": "execute_result"
    }
   ],
   "source": [
    "def replace_abbreviation(text):\n",
    "    doc = nlp(text)\n",
    "    tokens = [token.text for token in doc]\n",
    "    for abrv in doc._.abbreviations:\n",
    "        tokens[abrv.start] = str(abrv._.long_form)\n",
    "        \n",
    "    return(\" \".join(altered_tok))\n",
    "\n",
    "replace_acronyms(text)"
   ]
  },
  {
   "cell_type": "code",
   "execution_count": null,
   "id": "e5cf3ea4",
   "metadata": {},
   "outputs": [],
   "source": []
  }
 ],
 "metadata": {
  "kernelspec": {
   "display_name": "Python 3 (ipykernel)",
   "language": "python",
   "name": "python3"
  },
  "language_info": {
   "codemirror_mode": {
    "name": "ipython",
    "version": 3
   },
   "file_extension": ".py",
   "mimetype": "text/x-python",
   "name": "python",
   "nbconvert_exporter": "python",
   "pygments_lexer": "ipython3",
   "version": "3.9.13"
  }
 },
 "nbformat": 4,
 "nbformat_minor": 5
}
