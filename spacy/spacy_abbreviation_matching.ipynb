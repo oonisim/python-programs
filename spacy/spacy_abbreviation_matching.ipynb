{
 "cells": [
  {
   "cell_type": "markdown",
   "id": "e6786982",
   "metadata": {},
   "source": [
    "# Abbreviation matching\n",
    "\n",
    "* [scispacy abbreviationdetector](https://github.com/allenai/scispacy#abbreviationdetector) can register the provisioned abbreviations e.g. ```StackOverflow (SO)``` and record their locations."
   ]
  },
  {
   "cell_type": "code",
   "execution_count": 3,
   "id": "2b360f9b",
   "metadata": {},
   "outputs": [],
   "source": [
    "import re\n",
    "import spacy\n",
    "from scispacy.abbreviation import (\n",
    "    AbbreviationDetector\n",
    ")"
   ]
  },
  {
   "cell_type": "markdown",
   "id": "b633ae86",
   "metadata": {},
   "source": [
    "# Sci Spacy Language Model"
   ]
  },
  {
   "cell_type": "code",
   "execution_count": 9,
   "id": "7f90ac31",
   "metadata": {},
   "outputs": [
    {
     "name": "stderr",
     "output_type": "stream",
     "text": [
      "/home/eml/venv/ml/lib/python3.10/site-packages/spacy/util.py:910: UserWarning: [W095] Model 'en_core_sci_lg' (0.5.3) was trained with spaCy v3.6.1 and may not be 100% compatible with the current version (3.7.0). If you see errors or degraded performance, download a newer compatible model or retrain your custom model with the current spaCy version. For more details and available updates, run: python -m spacy validate\n",
      "  warnings.warn(warn_msg)\n",
      "/home/eml/venv/ml/lib/python3.10/site-packages/spacy/language.py:2170: FutureWarning: Possible set union at position 6328\n",
      "  serializers[\"tokenizer\"] = lambda: self.tokenizer.to_bytes(exclude=[\"vocab\"])  # type: ignore[union-attr]\n"
     ]
    }
   ],
   "source": [
    "#spacy.download('en_core_sci_lg')\n",
    "nlp = spacy.load(\"en_core_sci_lg\")"
   ]
  },
  {
   "cell_type": "markdown",
   "id": "7eb2d8f0",
   "metadata": {},
   "source": [
    "## Abbreviation Detector into the pipeline"
   ]
  },
  {
   "cell_type": "code",
   "execution_count": 10,
   "id": "520a1bf0",
   "metadata": {},
   "outputs": [
    {
     "data": {
      "text/plain": [
       "<scispacy.abbreviation.AbbreviationDetector at 0x7ff8cbb4db10>"
      ]
     },
     "execution_count": 10,
     "metadata": {},
     "output_type": "execute_result"
    }
   ],
   "source": [
    "nlp.add_pipe(\"abbreviation_detector\")"
   ]
  },
  {
   "cell_type": "markdown",
   "id": "5a5abb77",
   "metadata": {},
   "source": [
    "# Register the abbreviations and detection"
   ]
  },
  {
   "cell_type": "code",
   "execution_count": 11,
   "id": "2de1f6c4",
   "metadata": {},
   "outputs": [],
   "source": [
    "text = \"\"\"\n",
    "Spinal and bulbar muscular atrophy (SBMA) is an inherited motor neuron disease caused by the expansion\n",
    "of a polyglutamine tract within the androgen receptor (AR). SBMA can be caused by this easily.\n",
    "\n",
    "Active assisted range of movement (AAROM) gives assistance from an outside force. \n",
    "This range of motion may result from the majority of motion applied by an exerciser or \n",
    "by the person or persons assisting the individual. \n",
    "It also may be a half-and-half effort on the joint from each source.\n",
    "\"\"\"\n",
    "doc = nlp(' '.join(text.split()))"
   ]
  },
  {
   "cell_type": "markdown",
   "id": "cf55ebfd",
   "metadata": {},
   "source": [
    "# Detected abbreviations\n",
    "\n",
    "Word positions ```(token.i)``` in the text."
   ]
  },
  {
   "cell_type": "code",
   "execution_count": 12,
   "id": "6407eb09",
   "metadata": {},
   "outputs": [
    {
     "name": "stdout",
     "output_type": "stream",
     "text": [
      "SBMA           : (30, 31) Spinal and bulbar muscular atrophy\n",
      "SBMA           : (6, 7) Spinal and bulbar muscular atrophy\n",
      "AR             : (27, 28) androgen receptor\n",
      "AAROM          : (44, 45) Active assisted range of movement\n"
     ]
    }
   ],
   "source": [
    "for abrv in doc._.abbreviations:\n",
    "    print(f\"{abrv.text:<15}: ({abrv.start}, {abrv.end}) {abrv._.long_form}\")\n",
    "    \n",
    "abbreviations = {\n",
    "    abrv.start: abrv._.long_form for abrv in doc._.abbreviations\n",
    "}"
   ]
  },
  {
   "cell_type": "code",
   "execution_count": 13,
   "id": "7b00632f",
   "metadata": {},
   "outputs": [
    {
     "name": "stdout",
     "output_type": "stream",
     "text": [
      "0    Spinal               : \n",
      "1    and                  : \n",
      "2    bulbar               : \n",
      "3    muscular             : \n",
      "4    atrophy              : \n",
      "5    (                    : \n",
      "6    SBMA                 : Spinal and bulbar muscular atrophy\n",
      "7    )                    : \n",
      "8    is                   : \n",
      "9    an                   : \n",
      "10   inherited            : \n",
      "11   motor                : \n",
      "12   neuron               : \n",
      "13   disease              : \n",
      "14   caused               : \n",
      "15   by                   : \n",
      "16   the                  : \n",
      "17   expansion            : \n",
      "18   of                   : \n",
      "19   a                    : \n",
      "20   polyglutamine        : \n",
      "21   tract                : \n",
      "22   within               : \n",
      "23   the                  : \n",
      "24   androgen             : \n",
      "25   receptor             : \n",
      "26   (                    : \n",
      "27   AR                   : androgen receptor\n",
      "28   )                    : \n",
      "29   .                    : \n",
      "30   SBMA                 : Spinal and bulbar muscular atrophy\n",
      "31   can                  : \n",
      "32   be                   : \n",
      "33   caused               : \n",
      "34   by                   : \n",
      "35   this                 : \n",
      "36   easily               : \n",
      "37   .                    : \n",
      "38   Active               : \n",
      "39   assisted             : \n",
      "40   range                : \n",
      "41   of                   : \n",
      "42   movement             : \n",
      "43   (                    : \n",
      "44   AAROM                : Active assisted range of movement\n",
      "45   )                    : \n",
      "46   gives                : \n",
      "47   assistance           : \n",
      "48   from                 : \n",
      "49   an                   : \n",
      "50   outside              : \n",
      "51   force                : \n",
      "52   .                    : \n",
      "53   This                 : \n",
      "54   range                : \n",
      "55   of                   : \n",
      "56   motion               : \n",
      "57   may                  : \n",
      "58   result               : \n",
      "59   from                 : \n",
      "60   the                  : \n",
      "61   majority             : \n",
      "62   of                   : \n",
      "63   motion               : \n",
      "64   applied              : \n",
      "65   by                   : \n",
      "66   an                   : \n",
      "67   exerciser            : \n",
      "68   or                   : \n",
      "69   by                   : \n",
      "70   the                  : \n",
      "71   person               : \n",
      "72   or                   : \n",
      "73   persons              : \n",
      "74   assisting            : \n",
      "75   the                  : \n",
      "76   individual           : \n",
      "77   .                    : \n",
      "78   It                   : \n",
      "79   also                 : \n",
      "80   may                  : \n",
      "81   be                   : \n",
      "82   a                    : \n",
      "83   half-and-half        : \n",
      "84   effort               : \n",
      "85   on                   : \n",
      "86   the                  : \n",
      "87   joint                : \n",
      "88   from                 : \n",
      "89   each                 : \n",
      "90   source               : \n",
      "91   .                    : \n"
     ]
    }
   ],
   "source": [
    "for token in doc:\n",
    "    print(f\"{token.i:<4} {token.text:20} : {abbreviations.get(token.i, '')}\")"
   ]
  },
  {
   "cell_type": "code",
   "execution_count": 14,
   "id": "1c3687e8",
   "metadata": {},
   "outputs": [
    {
     "data": {
      "text/plain": [
       "0"
      ]
     },
     "execution_count": 14,
     "metadata": {},
     "output_type": "execute_result"
    }
   ],
   "source": [
    "token = doc[0]\n",
    "token.i"
   ]
  },
  {
   "cell_type": "code",
   "execution_count": 18,
   "id": "64a9edc1",
   "metadata": {},
   "outputs": [
    {
     "name": "stdout",
     "output_type": "stream",
     "text": [
      "\n",
      " Spinal and bulbar muscular atrophy ( Spinal and bulbar muscular atrophy ) is an inherited motor neuron disease caused by the expansion \n",
      " of a polyglutamine tract within the androgen receptor ( androgen receptor ) . Spinal and bulbar muscular atrophy can be caused by this easily . \n",
      "\n",
      " Active assisted range of movement ( Active assisted range of movement ) gives assistance from an outside force . \n",
      " This range of motion may result from the majority of motion applied by an exerciser or \n",
      " by the person or persons assisting the individual . \n",
      " It also may be a half-and-half effort on the joint from each source . \n",
      "\n"
     ]
    }
   ],
   "source": [
    "def replace_abbreviation(text):\n",
    "    doc = nlp(text)\n",
    "    tokens = [token.text for token in doc]\n",
    "    for abrv in doc._.abbreviations:\n",
    "        tokens[abrv.start] = str(abrv._.long_form)\n",
    "        \n",
    "    return(\" \".join(tokens))\n",
    "\n",
    "print(replace_abbreviation(text))"
   ]
  },
  {
   "cell_type": "code",
   "execution_count": null,
   "id": "e5cf3ea4",
   "metadata": {},
   "outputs": [],
   "source": []
  }
 ],
 "metadata": {
  "kernelspec": {
   "display_name": "Python 3 (ipykernel)",
   "language": "python",
   "name": "python3"
  },
  "language_info": {
   "codemirror_mode": {
    "name": "ipython",
    "version": 3
   },
   "file_extension": ".py",
   "mimetype": "text/x-python",
   "name": "python",
   "nbconvert_exporter": "python",
   "pygments_lexer": "ipython3",
   "version": "3.10.12"
  }
 },
 "nbformat": 4,
 "nbformat_minor": 5
}
