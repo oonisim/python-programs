{
 "cells": [
  {
   "cell_type": "markdown",
   "id": "0399eeca",
   "metadata": {},
   "source": [
    "# Sentence Segmentation\n",
    "\n",
    "* [HOW TO PERFORM SENTENCE SEGMENTATION OR SENTENCE TOKENIZATION USING SPACY](https://ashutoshtripathi.com/2020/05/04/how-to-perform-sentence-segmentation-or-sentence-tokenization-using-spacy-nlp-series-part-5/)"
   ]
  },
  {
   "cell_type": "code",
   "execution_count": null,
   "id": "62f42aaa",
   "metadata": {},
   "outputs": [],
   "source": []
  }
 ],
 "metadata": {
  "kernelspec": {
   "display_name": "Python 3 (ipykernel)",
   "language": "python",
   "name": "python3"
  },
  "language_info": {
   "codemirror_mode": {
    "name": "ipython",
    "version": 3
   },
   "file_extension": ".py",
   "mimetype": "text/x-python",
   "name": "python",
   "nbconvert_exporter": "python",
   "pygments_lexer": "ipython3",
   "version": "3.9.13"
  }
 },
 "nbformat": 4,
 "nbformat_minor": 5
}
