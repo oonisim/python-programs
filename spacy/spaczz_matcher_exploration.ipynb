{
 "cells": [
  {
   "cell_type": "markdown",
   "id": "aea49b73-b43b-4245-9cd4-eed9fe8c6d29",
   "metadata": {},
   "source": [
    "# Spaczz FuzzyMatcher\n",
    "\n",
    "* [spaczz: Fuzzy matching and more for spaCy](https://github.com/gandersen101/spaczz)\n",
    "\n",
    "> spaczz provides fuzzy matching and additional regex matching functionality for spaCy. spaczz's components have similar APIs to their spaCy counterparts and spaczz pipeline components can integrate into spaCy pipelines where they can be saved/loaded as models.\n",
    "\n",
    "* [RapidFuzz](https://github.com/maxbachmann/rapidfuzz)\n",
    "\n",
    "> RapidFuzz is a fast string matching library for Python and C++, which is using the string similarity calculations from FuzzyWuzzy. However there are a couple of aspects that set RapidFuzz apart from FuzzyWuzzy:"
   ]
  },
  {
   "cell_type": "code",
   "execution_count": 1,
   "id": "ad374e88-1dfb-49d3-84e1-58815715415f",
   "metadata": {},
   "outputs": [],
   "source": [
    "# !pip install spaczz"
   ]
  },
  {
   "cell_type": "code",
   "execution_count": 2,
   "id": "57220627-74a8-4f9b-b4ef-b46c4271458a",
   "metadata": {},
   "outputs": [
    {
     "data": {
      "text/html": [
       "<style>\n",
       "table {float:left}\n",
       "</style>\n"
      ],
      "text/plain": [
       "<IPython.core.display.HTML object>"
      ]
     },
     "metadata": {},
     "output_type": "display_data"
    }
   ],
   "source": [
    "%%html\n",
    "<style>\n",
    "table {float:left}\n",
    "</style>"
   ]
  },
  {
   "cell_type": "code",
   "execution_count": 3,
   "id": "ea865b1e-e456-4b6b-a635-cd2c55bde280",
   "metadata": {},
   "outputs": [],
   "source": [
    "from typing import (\n",
    "    List, \n",
    "    Dict,\n",
    "    Tuple\n",
    ")\n",
    "import json\n",
    "import spacy\n",
    "from spaczz.matcher import FuzzyMatcher"
   ]
  },
  {
   "cell_type": "markdown",
   "id": "73e5c689-f7a3-4f91-92ac-65339cd7a655",
   "metadata": {},
   "source": [
    "# Language Model"
   ]
  },
  {
   "cell_type": "code",
   "execution_count": 4,
   "id": "11ce345d-e9e5-4920-b125-e42e9497832d",
   "metadata": {},
   "outputs": [],
   "source": [
    "# spacy.cli.download(\"en_core_web_lg\")\n",
    "\n",
    "nlp = spacy.blank(\"en\")\n",
    "vocabulrary: spacy.vocab.Vocab = nlp.vocab"
   ]
  },
  {
   "cell_type": "markdown",
   "id": "07b36c08-bb8c-44bb-9dc6-afe1e955ba0e",
   "metadata": {},
   "source": [
    "# FuzzyMatcher\n",
    "\n",
    "\n",
    "The matcher must always share the same ```vocab``` of the documents it will operate on. Use the vocabulrary of the language model."
   ]
  },
  {
   "cell_type": "code",
   "execution_count": 5,
   "id": "ab65c1b9-f3ed-460e-a5f4-99bc6983e35a",
   "metadata": {},
   "outputs": [],
   "source": [
    "text = \"\"\"Grint M Anderson created spaczz in his home at 555 Fake St,\n",
    "Apt 5 in Nashv1le, TN 55555-1234 in the US.\"\"\"  # Spelling errors intentional.\n",
    "doc = nlp(text)"
   ]
  },
  {
   "cell_type": "code",
   "execution_count": 39,
   "id": "fd967ee5-bdf1-426f-9b28-68829c18de34",
   "metadata": {},
   "outputs": [
    {
     "name": "stdout",
     "output_type": "stream",
     "text": [
      "0 17 Grint M Anderson \n",
      "match:[Grint M Anderson], ratio:80\n",
      "69 77 Nashv1le\n",
      "match:[Nashv1le], ratio:82\n"
     ]
    }
   ],
   "source": [
    "matcher = FuzzyMatcher(nlp.vocab)\n",
    "\n",
    "matcher.add(\"NAME\", [nlp(\"Grant Andersen\")])\n",
    "matcher.add(\"GPE\", [nlp(\"Nashville\")])\n",
    "matches = matcher(doc)\n",
    "\n",
    "for match_id, start, end, ratio, pattern in matches:\n",
    "    start_char = doc[start].idx\n",
    "    end_char = doc[end].idx\n",
    "    print(start_char, end_char, text[start_char:end_char])\n",
    "    print(f\"match:[{doc[start:end]}], ratio:{ratio}\")"
   ]
  },
  {
   "cell_type": "code",
   "execution_count": 36,
   "id": "46e0f99e-fe9a-4505-ba65-641dd0975c65",
   "metadata": {},
   "outputs": [
    {
     "data": {
      "text/plain": [
       "'Grint M Anderson '"
      ]
     },
     "execution_count": 36,
     "metadata": {},
     "output_type": "execute_result"
    }
   ],
   "source": [
    "text[0:17]"
   ]
  },
  {
   "cell_type": "code",
   "execution_count": 7,
   "id": "fef9539f-a58b-4c44-a342-5787d970b20c",
   "metadata": {},
   "outputs": [
    {
     "data": {
      "text/plain": [
       "38"
      ]
     },
     "execution_count": 7,
     "metadata": {},
     "output_type": "execute_result"
    }
   ],
   "source": [
    "len(\"Rdley Scott was the director of Alien.\")"
   ]
  },
  {
   "cell_type": "markdown",
   "id": "f2d99ee6-3bfc-4458-b7a7-3970eeb18a73",
   "metadata": {},
   "source": [
    "---"
   ]
  },
  {
   "cell_type": "code",
   "execution_count": 10,
   "id": "323ef477-8bd3-419d-b523-cbf087ee54d8",
   "metadata": {},
   "outputs": [],
   "source": [
    "import sys\n",
    "sys.path.append(\"/Users/oonisim/home/repository/git/oonisim/lib/code/python\")"
   ]
  },
  {
   "cell_type": "code",
   "execution_count": 44,
   "id": "73ec3087-62ef-4946-bfcd-12a553328750",
   "metadata": {},
   "outputs": [],
   "source": [
    "\"\"\"Module for utlity with spaczz\"\"\"\n",
    "import logging\n",
    "from typing import (\n",
    "    Tuple,\n",
    "    List,\n",
    "    Generator\n",
    ")\n",
    "\n",
    "import spacy\n",
    "from spaczz.matcher import FuzzyMatcher\n",
    "\n",
    "\n",
    "from lib.util_logging import (\n",
    "    get_logger\n",
    ")\n",
    "\n",
    "\n",
    "# --------------------------------------------------------------------------------\n",
    "# Logging\n",
    "# --------------------------------------------------------------------------------\n",
    "_logger: logging.Logger = get_logger(__name__)\n",
    "\n",
    "\n",
    "# --------------------------------------------------------------------------------\n",
    "# Spacy English\n",
    "# --------------------------------------------------------------------------------\n",
    "_nlp = spacy.blank(\"en\")\n",
    "# pylint: disable=no-name-in-module, unused-import\n",
    "_vocabulrary: spacy.vocab.Vocab = _nlp.vocab\n",
    "\n",
    "\n",
    "# --------------------------------------------------------------------------------\n",
    "# Utility\n",
    "# --------------------------------------------------------------------------------\n",
    "def fuzzy_match_sequence_generator(\n",
    "        text: str,\n",
    "        patterns: List[str],\n",
    "        minimum_match_ration: int = 75\n",
    ") -> Generator[Tuple[int, int, int, str], None, None]:\n",
    "    \"\"\"Find the patten matches in the text and return a sequence of tuples\n",
    "    (cursor, match_start_pos, match_end_pos+1, matched) generator.\n",
    "    For instance if text is \"Rdley Scott was the director of Alien.\" and pattern is\n",
    "    \"Ridley Scott\", then return the sequence of:\n",
    "    (0, 0, 11, \"Rdley Scott\")\n",
    "    (11, 38, 38, '')\n",
    "\n",
    "    Args:\n",
    "        text: text to find regexp matches\n",
    "        patterns: pattern to search\n",
    "        minimum_match_ration: minimum match ratio required\n",
    "\n",
    "    Returns: generator to return (preceding, match).\n",
    "    \"\"\"\n",
    "    _func_name: str = \"fuzzy_match_sequence_generator()\"\n",
    "    if hasattr(_logger, \"is_trace_enabled\") and _logger.is_trace_enabled:\n",
    "        _logger.debug(\n",
    "            \"%s: run FuzzyMatch patterns %s on text\\n[%s].\",\n",
    "            _func_name, patterns, text\n",
    "        )\n",
    "\n",
    "    doc = _nlp(text)\n",
    "    matcher: FuzzyMatcher = FuzzyMatcher(_nlp.vocab)\n",
    "    for index, _pattern in enumerate(patterns):\n",
    "        matcher.add(\n",
    "            label=str(index),\n",
    "            patterns=[_nlp.make_doc(_pattern)],\n",
    "            kwargs=[{\n",
    "                'min_r': minimum_match_ration\n",
    "            }]\n",
    "        )\n",
    "\n",
    "    # spaczz.readthedocs.io/en/latest/reference.html#spaczz.matcher.FuzzyMatcher.__call__\n",
    "    matches = matcher(doc)\n",
    "    cursor: int = 0     # char position in text to point to the next start.\n",
    "    end: int = len(text)\n",
    "    try:\n",
    "        for label, start_token_pos, end_token_pos, match_ratio, pattern in matches:\n",
    "            start_char_pos: int = doc[start_token_pos].idx\n",
    "            end_char_pos: int = doc[end_token_pos].idx\n",
    "\n",
    "            if hasattr(_logger, \"is_trace_enabled\") and _logger.is_trace_enabled:\n",
    "                _logger.debug(\n",
    "                    \"%s: [%s]th pattern:[%s] matched with [%s]%% with text[%s:%s]:\\n[%s].\",\n",
    "                    _func_name, label, pattern, match_ratio,\n",
    "                    start_char_pos, end_char_pos, text[start_char_pos:end_char_pos]\n",
    "                )\n",
    "\n",
    "            yield cursor, start_char_pos, end_char_pos, text[start_char_pos:end_char_pos]\n",
    "            cursor = end_char_pos\n",
    "\n",
    "        # Collect the rest in the text\n",
    "        if cursor < end:\n",
    "            yield cursor, len(text), len(text), ''\n",
    "\n",
    "    except StopIteration:\n",
    "        return\n"
   ]
  },
  {
   "cell_type": "code",
   "execution_count": 45,
   "id": "0807942c-341c-486c-9596-c19e685f8aee",
   "metadata": {},
   "outputs": [],
   "source": [
    "text = \"\"\"Grint M Anderson created spaczz in his home at 555 Fake St,\n",
    "Apt 5 in Nashv1le, TN 55555-1234 in the US.\"\"\""
   ]
  },
  {
   "cell_type": "code",
   "execution_count": 46,
   "id": "4eaf5154-3859-435a-a105-a08e81401db9",
   "metadata": {},
   "outputs": [
    {
     "name": "stderr",
     "output_type": "stream",
     "text": [
      "DEBUG:__main__:fuzzy_match_sequence_generator(): run FuzzyMatch patterns ['Grint M Anderson', '5555 Faker St'] on text\n",
      "[Grint M Anderson created spaczz in his home at 555 Fake St,\n",
      "Apt 5 in Nashv1le, TN 55555-1234 in the US.].\n",
      "DEBUG:__main__:fuzzy_match_sequence_generator(): [0]th pattern:[Grint M Anderson] matched with [100]% with text[0:17]:\n",
      "[Grint M Anderson ].\n",
      "DEBUG:__main__:fuzzy_match_sequence_generator(): [1]th pattern:[5555 Faker St] matched with [92]% with text[47:58]:\n",
      "[555 Fake St].\n"
     ]
    },
    {
     "name": "stdout",
     "output_type": "stream",
     "text": [
      "0 0 17 Grint M Anderson \n",
      "17 47 58 555 Fake St\n",
      "58 103 103 \n"
     ]
    }
   ],
   "source": [
    "generator = fuzzy_match_sequence_generator(\n",
    "    text=text,\n",
    "    patterns=[\n",
    "        \"Grint M Anderson\",\n",
    "        \"5555 Faker St\"\n",
    "    ]\n",
    ")\n",
    "for cursor, start_char_pos, end_char_pos, match in generator:\n",
    "    print(cursor, start_char_pos, end_char_pos, match)"
   ]
  },
  {
   "cell_type": "code",
   "execution_count": 47,
   "id": "98bad186-b81d-4300-913f-ec7e84836b75",
   "metadata": {},
   "outputs": [
    {
     "data": {
      "text/plain": [
       "',\\nApt 5 in Nashv1le, TN 55555-1234 in the US.'"
      ]
     },
     "execution_count": 47,
     "metadata": {},
     "output_type": "execute_result"
    }
   ],
   "source": [
    "text[58:103]"
   ]
  },
  {
   "cell_type": "code",
   "execution_count": null,
   "id": "a6aceb4e-cf40-4833-844d-6f394d95814e",
   "metadata": {},
   "outputs": [],
   "source": []
  }
 ],
 "metadata": {
  "kernelspec": {
   "display_name": "Python 3 (ipykernel)",
   "language": "python",
   "name": "python3"
  },
  "language_info": {
   "codemirror_mode": {
    "name": "ipython",
    "version": 3
   },
   "file_extension": ".py",
   "mimetype": "text/x-python",
   "name": "python",
   "nbconvert_exporter": "python",
   "pygments_lexer": "ipython3",
   "version": "3.10.10"
  }
 },
 "nbformat": 4,
 "nbformat_minor": 5
}
