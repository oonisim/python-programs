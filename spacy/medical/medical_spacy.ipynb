{
 "cells": [
  {
   "cell_type": "markdown",
   "id": "84a064a6",
   "metadata": {},
   "source": [
    "* [Clinical Natural Language Processing in Python](https://www.andrewvillazon.com/clinical-natural-language-processing-python/)\n",
    "\n",
    "* [Medical Term Extraction from Electronic Health Records (EHR)](https://medium.com/algoanalytics/medical-term-extraction-from-electronic-health-records-ehr-4d3fba78590f)\n",
    "\n",
    "* [medspacy](https://github.com/medspacy/medspacy#medspacy)\n",
    "\n",
    "> The medspacy package brings together a number of other packages, each of which implements specific functionality for common clinical text processing specific to the clinical domain, such as sentence segmentation, contextual analysis and attribute assertion, and section detection.\n",
    "\n",
    "* [Extracting Medical Information From Clinical Text With NLP](https://www.analyticsvidhya.com/blog/2023/02/extracting-medical-information-from-clinical-text-with-nlp/)\n",
    "\n",
    "---\n",
    "\n",
    "* [HEDEA: A Python Tool for Extracting and Analysing Semi-structured Information from Medical Records](https://www.ncbi.nlm.nih.gov/pmc/articles/PMC5944189/)"
   ]
  },
  {
   "cell_type": "code",
   "execution_count": null,
   "id": "285bef41",
   "metadata": {},
   "outputs": [],
   "source": []
  }
 ],
 "metadata": {
  "kernelspec": {
   "display_name": "Python 3 (ipykernel)",
   "language": "python",
   "name": "python3"
  },
  "language_info": {
   "codemirror_mode": {
    "name": "ipython",
    "version": 3
   },
   "file_extension": ".py",
   "mimetype": "text/x-python",
   "name": "python",
   "nbconvert_exporter": "python",
   "pygments_lexer": "ipython3",
   "version": "3.9.13"
  }
 },
 "nbformat": 4,
 "nbformat_minor": 5
}
