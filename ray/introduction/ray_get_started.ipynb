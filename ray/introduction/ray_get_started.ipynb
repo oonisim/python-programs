{
 "cells": [
  {
   "cell_type": "markdown",
   "id": "threatened-benefit",
   "metadata": {},
   "source": [
    "# Ray getting started\n",
    "\n",
    "* [Programming in Ray: Tips for first-time users](https://rise.cs.berkeley.edu/blog/ray-tips-for-first-time-users/)\n",
    "* [Modern Parallel and Distributed Python: A Quick Tutorial on Ray](https://towardsdatascience.com/modern-parallel-and-distributed-python-a-quick-tutorial-on-ray-99f8d70369b8)"
   ]
  },
  {
   "cell_type": "markdown",
   "id": "mobile-discovery",
   "metadata": {},
   "source": [
    "# Installation\n",
    "\n",
    "There is no conda package and \"ray\" in Bioconda channel is for genom analysis."
   ]
  },
  {
   "cell_type": "code",
   "execution_count": 2,
   "id": "cardiovascular-trailer",
   "metadata": {},
   "outputs": [],
   "source": [
    "!pip install -q ray"
   ]
  },
  {
   "cell_type": "markdown",
   "id": "adult-confirmation",
   "metadata": {},
   "source": [
    "# Use Ray\n",
    "\n",
    "## Start Ray on a sngle machine\n",
    "\n",
    "* [ray.init](https://docs.ray.io/en/latest/package-ref.html#ray-init)\n",
    "\n",
    "```ray.init()``` will start Ray and it detects available resource so as to utilize all cores on the machine. "
   ]
  },
  {
   "cell_type": "code",
   "execution_count": 3,
   "id": "enclosed-scientist",
   "metadata": {},
   "outputs": [
    {
     "name": "stderr",
     "output_type": "stream",
     "text": [
      "2021-04-14 12:54:25,797\tINFO services.py:1172 -- View the Ray dashboard at \u001b[1m\u001b[32mhttp://127.0.0.1:8265\u001b[39m\u001b[22m\n"
     ]
    },
    {
     "data": {
      "text/plain": [
       "{'node_ip_address': '192.168.13.218',\n",
       " 'raylet_ip_address': '192.168.13.218',\n",
       " 'redis_address': '192.168.13.218:6379',\n",
       " 'object_store_address': '/tmp/ray/session_2021-04-14_12-54-25_376153_64365/sockets/plasma_store',\n",
       " 'raylet_socket_name': '/tmp/ray/session_2021-04-14_12-54-25_376153_64365/sockets/raylet',\n",
       " 'webui_url': '127.0.0.1:8265',\n",
       " 'session_dir': '/tmp/ray/session_2021-04-14_12-54-25_376153_64365',\n",
       " 'metrics_export_port': 56801,\n",
       " 'node_id': '0103e3e47f6a8af1303389a31b0c641e9c604d4d63eee0cd1ff82db6'}"
      ]
     },
     "execution_count": 3,
     "metadata": {},
     "output_type": "execute_result"
    }
   ],
   "source": [
    "import ray\n",
    "# ray.init()\n",
    "ray.init(num_cpus=4, num_gpus=0)"
   ]
  },
  {
   "cell_type": "markdown",
   "id": "dominican-terrain",
   "metadata": {},
   "source": [
    "## Connect to a cluster\n",
    "\n",
    "Need first run ray start on the command line to start the Ray cluster services. Then connect to an existing cluster. See [Ray Cluster Overview](https://docs.ray.io/en/master/cluster/index.html)\n",
    "\n",
    "```ray.init(address=<cluster-address>)```"
   ]
  },
  {
   "cell_type": "markdown",
   "id": "appointed-remark",
   "metadata": {},
   "source": [
    "---"
   ]
  },
  {
   "cell_type": "markdown",
   "id": "revolutionary-album",
   "metadata": {},
   "source": [
    "# Remote execution\n",
    "\n",
    "To create a proxy instance to remote-call a Python function.\n",
    "\n",
    "* [ray.remote](https://docs.ray.io/en/latest/package-ref.html#ray-remote)\n",
    "               \n",
    "> This can be used with no arguments to define a remote function or actor"
   ]
  },
  {
   "cell_type": "markdown",
   "id": "liberal-compact",
   "metadata": {},
   "source": [
    "### Via creating a proxy"
   ]
  },
  {
   "cell_type": "code",
   "execution_count": 10,
   "id": "published-orleans",
   "metadata": {},
   "outputs": [
    {
     "name": "stdout",
     "output_type": "stream",
     "text": [
      "16\n"
     ]
    }
   ],
   "source": [
    "def f(x):\n",
    "    return x * x\n",
    "\n",
    "remote_f = ray.remote(\n",
    "    f\n",
    ")\n",
    "future_f = remote_f.remote(4)\n",
    "print(ray.get(future_f))"
   ]
  },
  {
   "cell_type": "markdown",
   "id": "computational-content",
   "metadata": {},
   "source": [
    "### Via the decorator"
   ]
  },
  {
   "cell_type": "code",
   "execution_count": 11,
   "id": "after-grace",
   "metadata": {},
   "outputs": [
    {
     "name": "stdout",
     "output_type": "stream",
     "text": [
      "16\n"
     ]
    }
   ],
   "source": [
    "@ray.remote\n",
    "def g(x):\n",
    "    return x * x\n",
    "future_g = g.remote(4)\n",
    "print(ray.get(future_g))"
   ]
  },
  {
   "cell_type": "markdown",
   "id": "actual-building",
   "metadata": {},
   "source": [
    "## Stop/disconnect"
   ]
  },
  {
   "cell_type": "code",
   "execution_count": 12,
   "id": "textile-presentation",
   "metadata": {},
   "outputs": [],
   "source": [
    "ray.shutdown()"
   ]
  }
 ],
 "metadata": {
  "kernelspec": {
   "display_name": "Python 3 (ipykernel)",
   "language": "python",
   "name": "python3"
  },
  "language_info": {
   "codemirror_mode": {
    "name": "ipython",
    "version": 3
   },
   "file_extension": ".py",
   "mimetype": "text/x-python",
   "name": "python",
   "nbconvert_exporter": "python",
   "pygments_lexer": "ipython3",
   "version": "3.8.10"
  }
 },
 "nbformat": 4,
 "nbformat_minor": 5
}
