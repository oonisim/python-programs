{
 "cells": [
  {
   "cell_type": "markdown",
   "id": "threatened-benefit",
   "metadata": {},
   "source": [
    "# Ray parallel execution \n",
    "\n",
    "Download the XBRL XML files form the SEC EDGAR sites in parallel and save to files in parallel."
   ]
  },
  {
   "cell_type": "code",
   "execution_count": 1,
   "id": "cardiovascular-trailer",
   "metadata": {},
   "outputs": [],
   "source": [
    "# !pip install -q ray"
   ]
  },
  {
   "cell_type": "code",
   "execution_count": 2,
   "id": "0d0b5db5",
   "metadata": {},
   "outputs": [],
   "source": [
    "from typing import (\n",
    "    List,\n",
    "    Dict\n",
    ")\n",
    "import os\n",
    "import logging\n",
    "import time\n",
    "import re\n",
    "import requests\n",
    "import bs4\n",
    "from bs4 import BeautifulSoup\n",
    "import numpy as np\n",
    "import pandas as pd\n",
    "import ray\n",
    "from IPython.core.display import (\n",
    "    display, \n",
    "    HTML\n",
    ")\n",
    "\n",
    "pd.set_option('display.float_format', lambda x: ('%f' % x).rstrip('0').rstrip('.'))\n",
    "pd.set_option('display.colheader_justify', 'center')"
   ]
  },
  {
   "cell_type": "code",
   "execution_count": 3,
   "id": "611dd026",
   "metadata": {},
   "outputs": [],
   "source": [
    "EDGAR_HTTP_HEADERS = {\"User-Agent\": \"Company Name myname@company.com\"}\n",
    "urls = [\n",
    "    'https://sec.gov/Archives/edgar/data/1000697/000095012310017583/wat-20091231.xml',\n",
    "    'https://sec.gov/Archives/edgar/data/1001039/000119312510025949/dis-20100102.xml',\n",
    "    'https://sec.gov/Archives/edgar/data/1001082/000095012310018671/dish-20091231.xml',\n",
    "    'https://sec.gov/Archives/edgar/data/1001838/000110465910010334/scco-20091231.xml',\n",
    "    'https://sec.gov/Archives/edgar/data/1002638/000119312510021715/otex-20091231.xml',\n",
    "    'https://sec.gov/Archives/edgar/data/1002910/000119312510043155/aee-20091231.xml',\n",
    "    'https://sec.gov/Archives/edgar/data/1004155/000100415510000016/agl-20091231.xml',\n",
    "    'https://sec.gov/Archives/edgar/data/1004440/000104746910001515/ceg-20091231.xml',\n",
    "    'https://sec.gov/Archives/edgar/data/1004980/000100498010000015/pcg-20091231.xml'\n",
    "]"
   ]
  },
  {
   "cell_type": "code",
   "execution_count": 4,
   "id": "enclosed-scientist",
   "metadata": {},
   "outputs": [
    {
     "data": {
      "text/plain": [
       "{'node_ip_address': '192.168.13.128',\n",
       " 'raylet_ip_address': '192.168.13.128',\n",
       " 'redis_address': '192.168.13.128:6379',\n",
       " 'object_store_address': '/tmp/ray/session_2021-12-28_14-28-43_135913_86405/sockets/plasma_store',\n",
       " 'raylet_socket_name': '/tmp/ray/session_2021-12-28_14-28-43_135913_86405/sockets/raylet',\n",
       " 'webui_url': None,\n",
       " 'session_dir': '/tmp/ray/session_2021-12-28_14-28-43_135913_86405',\n",
       " 'metrics_export_port': 64517,\n",
       " 'node_id': 'd48d64df6a333833a206f608c471571a796e121b07121d5e6ad2175c'}"
      ]
     },
     "execution_count": 4,
     "metadata": {},
     "output_type": "execute_result"
    }
   ],
   "source": [
    "ray.init(num_cpus=4, num_gpus=0)"
   ]
  },
  {
   "cell_type": "markdown",
   "id": "appointed-remark",
   "metadata": {},
   "source": [
    "---"
   ]
  },
  {
   "cell_type": "code",
   "execution_count": 5,
   "id": "after-grace",
   "metadata": {},
   "outputs": [],
   "source": [
    "@ray.remote(num_returns=1)\n",
    "def worker(urls):\n",
    "    \"\"\"GET XML files from URLs\"\"\"\n",
    "    names = []\n",
    "    xmls = []\n",
    "\n",
    "    for url in urls:\n",
    "        # --------------------------------------------------------------------------------\n",
    "        # Retrieve SEC Filing XBRL XML from the URL \n",
    "        # --------------------------------------------------------------------------------\n",
    "        response = requests.get(url, headers=EDGAR_HTTP_HEADERS)\n",
    "        if response.status_code == 200:\n",
    "            print(f\"Got XML from {url}\")\n",
    "            # --------------------------------------------------------------------------------\n",
    "            # SEC Filing XML Filename\n",
    "            # --------------------------------------------------------------------------------\n",
    "            names.append(os.path.basename(url))\n",
    "            \n",
    "            # --------------------------------------------------------------------------------\n",
    "            # The first HTML content in the XBRL XML\n",
    "            # --------------------------------------------------------------------------------\n",
    "            content = response.content.decode(\"utf-8\") \n",
    "            xmls.append(content)\n",
    "        else:\n",
    "            assert False, f\"{url} failed with status {response.status_code}\"\n",
    "        \n",
    "    return names, xmls"
   ]
  },
  {
   "cell_type": "code",
   "execution_count": 6,
   "id": "98d590f3",
   "metadata": {},
   "outputs": [],
   "source": [
    "def provision():\n",
    "    \"\"\"Provision URLs\"\"\"\n",
    "    num = 3\n",
    "    start = 0\n",
    "    end = num\n",
    "\n",
    "    while(start < len(urls)):\n",
    "        yield urls[start:end]\n",
    "        start = end\n",
    "        end += num\n",
    "                \n",
    "provisioner = provision()"
   ]
  },
  {
   "cell_type": "code",
   "execution_count": 7,
   "id": "1612ee0f",
   "metadata": {},
   "outputs": [],
   "source": [
    "os.makedirs(\"downloads\", exist_ok=True)\n",
    "\n",
    "@ray.remote\n",
    "def save(references):\n",
    "    \n",
    "    # --------------------------------------------------------------------------------\n",
    "    # ray.wait() returns a list of object-references (results) returned from workers.\n",
    "    # (one reference per worker)\n",
    "    # --------------------------------------------------------------------------------\n",
    "    results = ray.get(references)\n",
    "    while(results):\n",
    "        # --------------------------------------------------------------------------------\n",
    "        # Pick the first job result\n",
    "        # --------------------------------------------------------------------------------\n",
    "        result, *results = results\n",
    "\n",
    "        # --------------------------------------------------------------------------------\n",
    "        # result = [names, xmls] from each worker\n",
    "        # --------------------------------------------------------------------------------\n",
    "        names, xmls = result\n",
    "        \n",
    "        # --------------------------------------------------------------------------------\n",
    "        # Save XML into a file with 'name'\n",
    "        # --------------------------------------------------------------------------------\n",
    "        for i in range(0, len(names)):\n",
    "            print(f\"Saving XML into {names[i]}\")\n",
    "            with open(f\"./downloads/{names[i]}\", \"w\") as f:\n",
    "                f.write(xmls[i])"
   ]
  },
  {
   "cell_type": "code",
   "execution_count": 8,
   "id": "ae2525c0",
   "metadata": {},
   "outputs": [],
   "source": [
    "# --------------------------------------------------------------------------------\n",
    "# Asynchronously invoke 3 jobs\n",
    "# --------------------------------------------------------------------------------\n",
    "futures = [worker.remote(ray.put(next(provisioner))) for i in range(0,3)]"
   ]
  },
  {
   "cell_type": "code",
   "execution_count": 9,
   "id": "c50df56f",
   "metadata": {},
   "outputs": [
    {
     "name": "stdout",
     "output_type": "stream",
     "text": [
      "\u001b[2m\u001b[36m(worker pid=86506)\u001b[0m Got XML from https://sec.gov/Archives/edgar/data/1004155/000100415510000016/agl-20091231.xml\n",
      "\u001b[2m\u001b[36m(worker pid=86507)\u001b[0m Got XML from https://sec.gov/Archives/edgar/data/1001838/000110465910010334/scco-20091231.xml\n",
      "\u001b[2m\u001b[36m(worker pid=86505)\u001b[0m Got XML from https://sec.gov/Archives/edgar/data/1000697/000095012310017583/wat-20091231.xml\n",
      "\u001b[2m\u001b[36m(worker pid=86506)\u001b[0m Got XML from https://sec.gov/Archives/edgar/data/1004440/000104746910001515/ceg-20091231.xml\n",
      "\u001b[2m\u001b[36m(worker pid=86507)\u001b[0m Got XML from https://sec.gov/Archives/edgar/data/1002638/000119312510021715/otex-20091231.xml\n",
      "\u001b[2m\u001b[36m(worker pid=86505)\u001b[0m Got XML from https://sec.gov/Archives/edgar/data/1001039/000119312510025949/dis-20100102.xml\n",
      "\u001b[2m\u001b[36m(worker pid=86505)\u001b[0m Got XML from https://sec.gov/Archives/edgar/data/1001082/000095012310018671/dish-20091231.xml\n",
      "\u001b[2m\u001b[36m(worker pid=86506)\u001b[0m Got XML from https://sec.gov/Archives/edgar/data/1004980/000100498010000015/pcg-20091231.xml\n",
      "\u001b[2m\u001b[36m(save pid=86506)\u001b[0m Saving XML into agl-20091231.xml\n",
      "\u001b[2m\u001b[36m(save pid=86506)\u001b[0m Saving XML into ceg-20091231.xml\n",
      "\u001b[2m\u001b[36m(save pid=86506)\u001b[0m Saving XML into pcg-20091231.xml\n",
      "\u001b[2m\u001b[36m(worker pid=86507)\u001b[0m Got XML from https://sec.gov/Archives/edgar/data/1002910/000119312510043155/aee-20091231.xml\n",
      "\u001b[2m\u001b[36m(save pid=86507)\u001b[0m Saving XML into scco-20091231.xml\n",
      "\u001b[2m\u001b[36m(save pid=86507)\u001b[0m Saving XML into otex-20091231.xml\n",
      "\u001b[2m\u001b[36m(save pid=86507)\u001b[0m Saving XML into aee-20091231.xml\n",
      "\u001b[2m\u001b[36m(save pid=86505)\u001b[0m Saving XML into wat-20091231.xml\n",
      "\u001b[2m\u001b[36m(save pid=86505)\u001b[0m Saving XML into dis-20100102.xml\n",
      "\u001b[2m\u001b[36m(save pid=86505)\u001b[0m Saving XML into dish-20091231.xml\n"
     ]
    }
   ],
   "source": [
    "waits = []\n",
    "while futures:\n",
    "    # --------------------------------------------------------------------------------\n",
    "    # Take the object references from completed jobs\n",
    "    # --------------------------------------------------------------------------------\n",
    "    references, futures = ray.wait(futures)\n",
    "    \n",
    "    # --------------------------------------------------------------------------------\n",
    "    # Pass the object references to another asynchronous job\n",
    "    # --------------------------------------------------------------------------------\n",
    "    waits.append(save.remote(references))\n",
    "\n",
    "# --------------------------------------------------------------------------------\n",
    "# Wait for the async job completions before the next step of shutting down Ray.\n",
    "# --------------------------------------------------------------------------------\n",
    "ray.get(waits)\n",
    "time.sleep(3)  # Give the time to Jupyter to flush all stdout outputs."
   ]
  },
  {
   "cell_type": "markdown",
   "id": "e606077f",
   "metadata": {},
   "source": [
    "# Cleanup"
   ]
  },
  {
   "cell_type": "code",
   "execution_count": 10,
   "id": "textile-presentation",
   "metadata": {},
   "outputs": [],
   "source": [
    "ray.shutdown()"
   ]
  }
 ],
 "metadata": {
  "kernelspec": {
   "display_name": "Python 3 (ipykernel)",
   "language": "python",
   "name": "python3"
  },
  "language_info": {
   "codemirror_mode": {
    "name": "ipython",
    "version": 3
   },
   "file_extension": ".py",
   "mimetype": "text/x-python",
   "name": "python",
   "nbconvert_exporter": "python",
   "pygments_lexer": "ipython3",
   "version": "3.8.10"
  }
 },
 "nbformat": 4,
 "nbformat_minor": 5
}
