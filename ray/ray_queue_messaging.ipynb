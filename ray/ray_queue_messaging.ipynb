{
 "cells": [
  {
   "cell_type": "markdown",
   "id": "de81fa00",
   "metadata": {},
   "source": [
    "# Message passing using Ray Queue\n",
    "\n",
    "* [Message passing using Ray Queue](https://docs.ray.io/en/latest/ray-core/actors/actor-utils.html#message-passing-using-ray-queue)\n",
    "\n",
    "> If you need to send data among many tasks or actors, you can use [ray.util.queue.Queue](https://docs.ray.io/en/latest/ray-core/api/doc/ray.util.queue.Queue.html).\n",
    "\n",
    "* [Usage of ray.util.queue.Queue for data processing](https://github.com/ray-project/ray/issues/16007)\n",
    "\n",
    "* [An Easy Way to Add Flow Control to Ray Applications](https://medium.com/ibm-data-ai/an-easy-way-to-add-flow-control-to-ray-applications-83c01c570565) (backpressure)\n",
    "\n",
    "> Flow control is a computer networking term that basically means, “ensuring that the messages you send do not overwhelm the systems you are sending them through.” Applying flow control to your application’s interactions with a remote service means controlling things like the number of requests per second, the amount of data in flight at any time, or the amount of CPU load that you are putting on the remote service.\n",
    "> \n",
    "> In this article, we’ll show you how to implement application-level flow control from inside a Ray application, using Ray’s own parallel processing APIs."
   ]
  },
  {
   "cell_type": "code",
   "execution_count": 1,
   "id": "06ffab83",
   "metadata": {},
   "outputs": [],
   "source": [
    "import ray\n",
    "from ray.util.queue import Queue, Empty"
   ]
  },
  {
   "cell_type": "code",
   "execution_count": 8,
   "id": "e03d83a4",
   "metadata": {},
   "outputs": [
    {
     "name": "stderr",
     "output_type": "stream",
     "text": [
      "2023-10-25 17:19:24,244\tINFO worker.py:1553 -- Started a local Ray instance.\n"
     ]
    },
    {
     "data": {
      "text/html": [
       "<div>\n",
       "    <div style=\"margin-left: 50px;display: flex;flex-direction: row;align-items: center\">\n",
       "        <h3 style=\"color: var(--jp-ui-font-color0)\">Ray</h3>\n",
       "        <svg version=\"1.1\" id=\"ray\" width=\"3em\" viewBox=\"0 0 144.5 144.6\" style=\"margin-left: 3em;margin-right: 3em\">\n",
       "            <g id=\"layer-1\">\n",
       "                <path fill=\"#00a2e9\" class=\"st0\" d=\"M97.3,77.2c-3.8-1.1-6.2,0.9-8.3,5.1c-3.5,6.8-9.9,9.9-17.4,9.6S58,88.1,54.8,81.2c-1.4-3-3-4-6.3-4.1\n",
       "                    c-5.6-0.1-9.9,0.1-13.1,6.4c-3.8,7.6-13.6,10.2-21.8,7.6C5.2,88.4-0.4,80.5,0,71.7c0.1-8.4,5.7-15.8,13.8-18.2\n",
       "                    c8.4-2.6,17.5,0.7,22.3,8c1.3,1.9,1.3,5.2,3.6,5.6c3.9,0.6,8,0.2,12,0.2c1.8,0,1.9-1.6,2.4-2.8c3.5-7.8,9.7-11.8,18-11.9\n",
       "                    c8.2-0.1,14.4,3.9,17.8,11.4c1.3,2.8,2.9,3.6,5.7,3.3c1-0.1,2,0.1,3,0c2.8-0.5,6.4,1.7,8.1-2.7s-2.3-5.5-4.1-7.5\n",
       "                    c-5.1-5.7-10.9-10.8-16.1-16.3C84,38,81.9,37.1,78,38.3C66.7,42,56.2,35.7,53,24.1C50.3,14,57.3,2.8,67.7,0.5\n",
       "                    C78.4-2,89,4.7,91.5,15.3c0.1,0.3,0.1,0.5,0.2,0.8c0.7,3.4,0.7,6.9-0.8,9.8c-1.7,3.2-0.8,5,1.5,7.2c6.7,6.5,13.3,13,19.8,19.7\n",
       "                    c1.8,1.8,3,2.1,5.5,1.2c9.1-3.4,17.9-0.6,23.4,7c4.8,6.9,4.6,16.1-0.4,22.9c-5.4,7.2-14.2,9.9-23.1,6.5c-2.3-0.9-3.5-0.6-5.1,1.1\n",
       "                    c-6.7,6.9-13.6,13.7-20.5,20.4c-1.8,1.8-2.5,3.2-1.4,5.9c3.5,8.7,0.3,18.6-7.7,23.6c-7.9,5-18.2,3.8-24.8-2.9\n",
       "                    c-6.4-6.4-7.4-16.2-2.5-24.3c4.9-7.8,14.5-11,23.1-7.8c3,1.1,4.7,0.5,6.9-1.7C91.7,98.4,98,92.3,104.2,86c1.6-1.6,4.1-2.7,2.6-6.2\n",
       "                    c-1.4-3.3-3.8-2.5-6.2-2.6C99.8,77.2,98.9,77.2,97.3,77.2z M72.1,29.7c5.5,0.1,9.9-4.3,10-9.8c0-0.1,0-0.2,0-0.3\n",
       "                    C81.8,14,77,9.8,71.5,10.2c-5,0.3-9,4.2-9.3,9.2c-0.2,5.5,4,10.1,9.5,10.3C71.8,29.7,72,29.7,72.1,29.7z M72.3,62.3\n",
       "                    c-5.4-0.1-9.9,4.2-10.1,9.7c0,0.2,0,0.3,0,0.5c0.2,5.4,4.5,9.7,9.9,10c5.1,0.1,9.9-4.7,10.1-9.8c0.2-5.5-4-10-9.5-10.3\n",
       "                    C72.6,62.3,72.4,62.3,72.3,62.3z M115,72.5c0.1,5.4,4.5,9.7,9.8,9.9c5.6-0.2,10-4.8,10-10.4c-0.2-5.4-4.6-9.7-10-9.7\n",
       "                    c-5.3-0.1-9.8,4.2-9.9,9.5C115,72.1,115,72.3,115,72.5z M19.5,62.3c-5.4,0.1-9.8,4.4-10,9.8c-0.1,5.1,5.2,10.4,10.2,10.3\n",
       "                    c5.6-0.2,10-4.9,9.8-10.5c-0.1-5.4-4.5-9.7-9.9-9.6C19.6,62.3,19.5,62.3,19.5,62.3z M71.8,134.6c5.9,0.2,10.3-3.9,10.4-9.6\n",
       "                    c0.5-5.5-3.6-10.4-9.1-10.8c-5.5-0.5-10.4,3.6-10.8,9.1c0,0.5,0,0.9,0,1.4c-0.2,5.3,4,9.8,9.3,10\n",
       "                    C71.6,134.6,71.7,134.6,71.8,134.6z\"/>\n",
       "            </g>\n",
       "        </svg>\n",
       "        <table>\n",
       "            <tr>\n",
       "                <td style=\"text-align: left\"><b>Python version:</b></td>\n",
       "                <td style=\"text-align: left\"><b>3.9.13</b></td>\n",
       "            </tr>\n",
       "            <tr>\n",
       "                <td style=\"text-align: left\"><b>Ray version:</b></td>\n",
       "                <td style=\"text-align: left\"><b> 2.3.0</b></td>\n",
       "            </tr>\n",
       "            \n",
       "        </table>\n",
       "    </div>\n",
       "</div>\n"
      ],
      "text/plain": [
       "RayContext(dashboard_url='', python_version='3.9.13', ray_version='2.3.0', ray_commit='cf7a56b4b0b648c324722df7c99c168e92ff0b45', address_info={'node_ip_address': '127.0.0.1', 'raylet_ip_address': '127.0.0.1', 'redis_address': None, 'object_store_address': '/tmp/ray/session_2023-10-25_17-19-22_345677_93611/sockets/plasma_store', 'raylet_socket_name': '/tmp/ray/session_2023-10-25_17-19-22_345677_93611/sockets/raylet', 'webui_url': '', 'session_dir': '/tmp/ray/session_2023-10-25_17-19-22_345677_93611', 'metrics_export_port': 57692, 'gcs_address': '127.0.0.1:56456', 'address': '127.0.0.1:56456', 'dashboard_agent_listen_port': 52365, 'node_id': 'aea01f5badbf8201fb50d47bc58c3672593d009151f89c25b85e0d09'})"
      ]
     },
     "execution_count": 8,
     "metadata": {},
     "output_type": "execute_result"
    }
   ],
   "source": [
    "ray.init()"
   ]
  },
  {
   "cell_type": "code",
   "execution_count": 9,
   "id": "6972c682",
   "metadata": {},
   "outputs": [],
   "source": [
    "# You can pass this object around to different tasks/actors\n",
    "queue = Queue(maxsize=100)"
   ]
  },
  {
   "cell_type": "code",
   "execution_count": 10,
   "id": "0e50e28f",
   "metadata": {},
   "outputs": [],
   "source": [
    "@ray.remote\n",
    "def consumer(id, queue):\n",
    "    try:\n",
    "        while True:\n",
    "            next_item = queue.get(block=True, timeout=None)\n",
    "            print(f\"consumer {id} got work {next_item}\")\n",
    "    except Empty:\n",
    "        print(f\"{id} empty\")\n",
    "        pass"
   ]
  },
  {
   "cell_type": "code",
   "execution_count": 11,
   "id": "e226f7fa",
   "metadata": {},
   "outputs": [],
   "source": [
    "consumers = [\n",
    "    consumer.remote(id, queue) \n",
    "    for id in range(2)\n",
    "]"
   ]
  },
  {
   "cell_type": "code",
   "execution_count": 12,
   "id": "e2e6c3da",
   "metadata": {},
   "outputs": [
    {
     "data": {
      "text/plain": [
       "[None, None, None, None, None, None, None, None, None, None]"
      ]
     },
     "execution_count": 12,
     "metadata": {},
     "output_type": "execute_result"
    },
    {
     "name": "stdout",
     "output_type": "stream",
     "text": [
      "\u001b[2m\u001b[36m(consumer pid=93649)\u001b[0m consumer 1 got work 1\n",
      "\u001b[2m\u001b[36m(consumer pid=93649)\u001b[0m consumer 1 got work 3\n",
      "\u001b[2m\u001b[36m(consumer pid=93649)\u001b[0m consumer 1 got work 8\n",
      "\u001b[2m\u001b[36m(consumer pid=93649)\u001b[0m consumer 1 got work 9\n",
      "\u001b[2m\u001b[36m(consumer pid=93650)\u001b[0m consumer 0 got work 0\n",
      "\u001b[2m\u001b[36m(consumer pid=93650)\u001b[0m consumer 0 got work 2\n",
      "\u001b[2m\u001b[36m(consumer pid=93650)\u001b[0m consumer 0 got work 4\n",
      "\u001b[2m\u001b[36m(consumer pid=93650)\u001b[0m consumer 0 got work 5\n",
      "\u001b[2m\u001b[36m(consumer pid=93650)\u001b[0m consumer 0 got work 6\n",
      "\u001b[2m\u001b[36m(consumer pid=93650)\u001b[0m consumer 0 got work 7\n"
     ]
    }
   ],
   "source": [
    "[queue.put(i) for i in range(10)]"
   ]
  },
  {
   "cell_type": "code",
   "execution_count": 13,
   "id": "011fe82b",
   "metadata": {},
   "outputs": [],
   "source": [
    "ray.shutdown()"
   ]
  },
  {
   "cell_type": "code",
   "execution_count": null,
   "id": "18bed82e",
   "metadata": {},
   "outputs": [],
   "source": []
  }
 ],
 "metadata": {
  "kernelspec": {
   "display_name": "Python 3 (ipykernel)",
   "language": "python",
   "name": "python3"
  },
  "language_info": {
   "codemirror_mode": {
    "name": "ipython",
    "version": 3
   },
   "file_extension": ".py",
   "mimetype": "text/x-python",
   "name": "python",
   "nbconvert_exporter": "python",
   "pygments_lexer": "ipython3",
   "version": "3.9.13"
  }
 },
 "nbformat": 4,
 "nbformat_minor": 5
}
