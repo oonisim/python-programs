{
 "cells": [
  {
   "cell_type": "markdown",
   "id": "4aea9462",
   "metadata": {},
   "source": [
    "* [Pattern: Using an actor to synchronize other tasks and actors](https://docs.ray.io/en/latest/ray-core/patterns/actor-sync.html)\n",
    "\n",
    "Same with ```treading.Event``` to wait on.\n",
    "\n",
    "> When you have multiple tasks that need to wait on some condition or otherwise need to synchronize across tasks & actors on a cluster, you can use a central actor to coordinate among them.\n",
    "\n",
    "```\n",
    "import asyncio\n",
    "\n",
    "import ray\n",
    "\n",
    "\n",
    "# We set num_cpus to zero because this actor will mostly just block on I/O.\n",
    "@ray.remote(num_cpus=0)\n",
    "class SignalActor:\n",
    "    def __init__(self):\n",
    "        self.ready_event = asyncio.Event()\n",
    "\n",
    "    def send(self, clear=False):\n",
    "        self.ready_event.set()\n",
    "        if clear:\n",
    "            self.ready_event.clear()\n",
    "\n",
    "    async def wait(self, should_wait=True):\n",
    "        if should_wait:\n",
    "            await self.ready_event.wait()\n",
    "```"
   ]
  },
  {
   "cell_type": "code",
   "execution_count": null,
   "id": "fb0a8ef4",
   "metadata": {},
   "outputs": [],
   "source": []
  }
 ],
 "metadata": {
  "kernelspec": {
   "display_name": "Python 3 (ipykernel)",
   "language": "python",
   "name": "python3"
  },
  "language_info": {
   "codemirror_mode": {
    "name": "ipython",
    "version": 3
   },
   "file_extension": ".py",
   "mimetype": "text/x-python",
   "name": "python",
   "nbconvert_exporter": "python",
   "pygments_lexer": "ipython3",
   "version": "3.9.13"
  }
 },
 "nbformat": 4,
 "nbformat_minor": 5
}
