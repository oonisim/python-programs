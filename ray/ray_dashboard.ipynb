{
 "cells": [
  {
   "cell_type": "markdown",
   "id": "c83d64d5-3222-4ce6-93eb-b6b1bbb329ce",
   "metadata": {},
   "source": [
    "# Ray Dashboard\n",
    "\n",
    "* [Ray Dashboard](https://docs.ray.io/en/latest/ray-observability/getting-started.html)\n",
    "* [Ray Dashboard Series: Part One | Overview](https://www.youtube.com/watch?v=i33b1DYjYRQ)\n",
    "* [Ray Dashboard Series: Part Two | Jobs](https://www.youtube.com/watch?v=CrpXSSs0uaw)\n",
    "* [Ray Dashboard Series: Part Three | Serve](https://www.youtube.com/watch?v=eqXfwM641a4)\n",
    "* [Ray Dashboard Series: Part Four | Cluster](https://www.youtube.com/watch?v=K2jLoIhlsnY)\n",
    "* [Ray Dashboard Series: Part Five | Actors](https://www.youtube.com/watch?v=MChn6O1ecEQ)\n",
    "* [Ray Dashboard Series: Part Six | Metrics](https://www.youtube.com/watch?v=yn5Q65iHAR8)\n",
    "* [Ray Dashboard Series: Part Seven | Logs](https://www.youtube.com/watch?v=8V187F2DsN0)"
   ]
  },
  {
   "cell_type": "markdown",
   "id": "57a853cd-23da-4121-b2b9-667a0c4b9c13",
   "metadata": {},
   "source": [
    "# Installation"
   ]
  },
  {
   "cell_type": "code",
   "execution_count": null,
   "id": "ed377402-eafb-463e-a1b5-3035976b459f",
   "metadata": {},
   "outputs": [],
   "source": [
    "pip install ray[default]"
   ]
  },
  {
   "cell_type": "markdown",
   "id": "70af2b16-4166-45c8-9779-62781f68a026",
   "metadata": {},
   "source": [
    "# Start"
   ]
  },
  {
   "cell_type": "markdown",
   "id": "3ded46af-213b-4c9b-a875-0b91befd494d",
   "metadata": {},
   "source": [
    "## CLI"
   ]
  },
  {
   "cell_type": "code",
   "execution_count": null,
   "id": "61d92465-c7a3-42b8-a01a-1c1f419acc03",
   "metadata": {},
   "outputs": [],
   "source": [
    "ray start --include-dashboard=True --head"
   ]
  },
  {
   "cell_type": "markdown",
   "id": "f0f28542-6536-43a2-8484-c8a4ed147481",
   "metadata": {},
   "source": [
    "## Python"
   ]
  },
  {
   "cell_type": "code",
   "execution_count": null,
   "id": "c505a84e-fcfc-495e-b4a1-3b6378dbe309",
   "metadata": {},
   "outputs": [],
   "source": [
    "import ray\n",
    "\n",
    "context = ray.init()\n",
    "print(context.dashboard_url)"
   ]
  }
 ],
 "metadata": {
  "kernelspec": {
   "display_name": "Python 3 (ipykernel)",
   "language": "python",
   "name": "python3"
  },
  "language_info": {
   "codemirror_mode": {
    "name": "ipython",
    "version": 3
   },
   "file_extension": ".py",
   "mimetype": "text/x-python",
   "name": "python",
   "nbconvert_exporter": "python",
   "pygments_lexer": "ipython3",
   "version": "3.10.10"
  }
 },
 "nbformat": 4,
 "nbformat_minor": 5
}
