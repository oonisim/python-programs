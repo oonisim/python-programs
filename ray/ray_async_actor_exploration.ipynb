{
 "cells": [
  {
   "cell_type": "markdown",
   "id": "cb328228",
   "metadata": {},
   "source": [
    "# Ray Async Actor\n",
    "\n",
    "* [Pattern: Using asyncio to run actor methods concurrently](https://docs.ray.io/en/latest/ray-core/patterns/concurrent-operations-async-actor.html)\n",
    "\n",
    "> By default, a Ray actor runs in a single thread and actor method calls are executed sequentially. we use await to yield control from the long running method call so other method calls can run concurrently. Normally the control is yielded when the method is doing IO operations but you can also use await asyncio.sleep(0) to yield control explicitly.\n",
    "\n",
    "* [Scaling Python Asyncio with Ray](https://medium.com/distributed-computing-with-ray/scaling-python-asyncio-with-ray-aaf42ee03a8e)\n",
    "\n",
    "> This post explains how Ray natively supports Python’s single-threaded asyncio coroutines and enables seamless scaling of coroutines to multiple processes and to a cluster of machines.\n",
    "> \n",
    "> Combining concurrent actor methods and async ray.get create more efficient ray code. For example, a service load balancer can be now implemented in a few lines of code. In the load balancer actor, many instances of proxy_request method will be executed concurrently.\n",
    "> ```\n",
    "> @ray.remote\n",
    "> class LoadBalancer:\n",
    ">     async def proxy_request(self, query):\n",
    ">         actor = self.choose_actor()\n",
    ">         return await actor.execute.remote(query)\n",
    "> ```"
   ]
  },
  {
   "cell_type": "code",
   "execution_count": 1,
   "id": "a3863db7",
   "metadata": {},
   "outputs": [],
   "source": [
    "import time\n",
    "from enum import Enum\n",
    "import ray\n",
    "from ray.util.queue import Queue, Empty"
   ]
  },
  {
   "cell_type": "code",
   "execution_count": 2,
   "id": "8b646d43",
   "metadata": {},
   "outputs": [
    {
     "name": "stderr",
     "output_type": "stream",
     "text": [
      "2023-11-04 18:47:59,748\tINFO worker.py:1553 -- Started a local Ray instance.\n"
     ]
    },
    {
     "data": {
      "text/html": [
       "<div>\n",
       "    <div style=\"margin-left: 50px;display: flex;flex-direction: row;align-items: center\">\n",
       "        <h3 style=\"color: var(--jp-ui-font-color0)\">Ray</h3>\n",
       "        <svg version=\"1.1\" id=\"ray\" width=\"3em\" viewBox=\"0 0 144.5 144.6\" style=\"margin-left: 3em;margin-right: 3em\">\n",
       "            <g id=\"layer-1\">\n",
       "                <path fill=\"#00a2e9\" class=\"st0\" d=\"M97.3,77.2c-3.8-1.1-6.2,0.9-8.3,5.1c-3.5,6.8-9.9,9.9-17.4,9.6S58,88.1,54.8,81.2c-1.4-3-3-4-6.3-4.1\n",
       "                    c-5.6-0.1-9.9,0.1-13.1,6.4c-3.8,7.6-13.6,10.2-21.8,7.6C5.2,88.4-0.4,80.5,0,71.7c0.1-8.4,5.7-15.8,13.8-18.2\n",
       "                    c8.4-2.6,17.5,0.7,22.3,8c1.3,1.9,1.3,5.2,3.6,5.6c3.9,0.6,8,0.2,12,0.2c1.8,0,1.9-1.6,2.4-2.8c3.5-7.8,9.7-11.8,18-11.9\n",
       "                    c8.2-0.1,14.4,3.9,17.8,11.4c1.3,2.8,2.9,3.6,5.7,3.3c1-0.1,2,0.1,3,0c2.8-0.5,6.4,1.7,8.1-2.7s-2.3-5.5-4.1-7.5\n",
       "                    c-5.1-5.7-10.9-10.8-16.1-16.3C84,38,81.9,37.1,78,38.3C66.7,42,56.2,35.7,53,24.1C50.3,14,57.3,2.8,67.7,0.5\n",
       "                    C78.4-2,89,4.7,91.5,15.3c0.1,0.3,0.1,0.5,0.2,0.8c0.7,3.4,0.7,6.9-0.8,9.8c-1.7,3.2-0.8,5,1.5,7.2c6.7,6.5,13.3,13,19.8,19.7\n",
       "                    c1.8,1.8,3,2.1,5.5,1.2c9.1-3.4,17.9-0.6,23.4,7c4.8,6.9,4.6,16.1-0.4,22.9c-5.4,7.2-14.2,9.9-23.1,6.5c-2.3-0.9-3.5-0.6-5.1,1.1\n",
       "                    c-6.7,6.9-13.6,13.7-20.5,20.4c-1.8,1.8-2.5,3.2-1.4,5.9c3.5,8.7,0.3,18.6-7.7,23.6c-7.9,5-18.2,3.8-24.8-2.9\n",
       "                    c-6.4-6.4-7.4-16.2-2.5-24.3c4.9-7.8,14.5-11,23.1-7.8c3,1.1,4.7,0.5,6.9-1.7C91.7,98.4,98,92.3,104.2,86c1.6-1.6,4.1-2.7,2.6-6.2\n",
       "                    c-1.4-3.3-3.8-2.5-6.2-2.6C99.8,77.2,98.9,77.2,97.3,77.2z M72.1,29.7c5.5,0.1,9.9-4.3,10-9.8c0-0.1,0-0.2,0-0.3\n",
       "                    C81.8,14,77,9.8,71.5,10.2c-5,0.3-9,4.2-9.3,9.2c-0.2,5.5,4,10.1,9.5,10.3C71.8,29.7,72,29.7,72.1,29.7z M72.3,62.3\n",
       "                    c-5.4-0.1-9.9,4.2-10.1,9.7c0,0.2,0,0.3,0,0.5c0.2,5.4,4.5,9.7,9.9,10c5.1,0.1,9.9-4.7,10.1-9.8c0.2-5.5-4-10-9.5-10.3\n",
       "                    C72.6,62.3,72.4,62.3,72.3,62.3z M115,72.5c0.1,5.4,4.5,9.7,9.8,9.9c5.6-0.2,10-4.8,10-10.4c-0.2-5.4-4.6-9.7-10-9.7\n",
       "                    c-5.3-0.1-9.8,4.2-9.9,9.5C115,72.1,115,72.3,115,72.5z M19.5,62.3c-5.4,0.1-9.8,4.4-10,9.8c-0.1,5.1,5.2,10.4,10.2,10.3\n",
       "                    c5.6-0.2,10-4.9,9.8-10.5c-0.1-5.4-4.5-9.7-9.9-9.6C19.6,62.3,19.5,62.3,19.5,62.3z M71.8,134.6c5.9,0.2,10.3-3.9,10.4-9.6\n",
       "                    c0.5-5.5-3.6-10.4-9.1-10.8c-5.5-0.5-10.4,3.6-10.8,9.1c0,0.5,0,0.9,0,1.4c-0.2,5.3,4,9.8,9.3,10\n",
       "                    C71.6,134.6,71.7,134.6,71.8,134.6z\"/>\n",
       "            </g>\n",
       "        </svg>\n",
       "        <table>\n",
       "            <tr>\n",
       "                <td style=\"text-align: left\"><b>Python version:</b></td>\n",
       "                <td style=\"text-align: left\"><b>3.9.13</b></td>\n",
       "            </tr>\n",
       "            <tr>\n",
       "                <td style=\"text-align: left\"><b>Ray version:</b></td>\n",
       "                <td style=\"text-align: left\"><b> 2.3.0</b></td>\n",
       "            </tr>\n",
       "            \n",
       "        </table>\n",
       "    </div>\n",
       "</div>\n"
      ],
      "text/plain": [
       "RayContext(dashboard_url='', python_version='3.9.13', ray_version='2.3.0', ray_commit='cf7a56b4b0b648c324722df7c99c168e92ff0b45', address_info={'node_ip_address': '127.0.0.1', 'raylet_ip_address': '127.0.0.1', 'redis_address': None, 'object_store_address': '/tmp/ray/session_2023-11-04_18-47-57_913920_3025/sockets/plasma_store', 'raylet_socket_name': '/tmp/ray/session_2023-11-04_18-47-57_913920_3025/sockets/raylet', 'webui_url': '', 'session_dir': '/tmp/ray/session_2023-11-04_18-47-57_913920_3025', 'metrics_export_port': 63706, 'gcs_address': '127.0.0.1:56695', 'address': '127.0.0.1:56695', 'dashboard_agent_listen_port': 52365, 'node_id': '0e83969debec3ebfdd6ceb29051851fd6de01029b5656e56486d7d69'})"
      ]
     },
     "execution_count": 2,
     "metadata": {},
     "output_type": "execute_result"
    }
   ],
   "source": [
    "ray.init()"
   ]
  },
  {
   "cell_type": "markdown",
   "id": "8cb890fd",
   "metadata": {},
   "source": [
    "# Workflow\n",
    "\n",
    "1. Starts two actors and invoke its method that read from the queue. The method blocks on the queue while it is empty.\n",
    "2. Put tasks into the queue.\n",
    "3. The actor method get unblocked and run the task from the queue.\n",
    "4. Kill the actors."
   ]
  },
  {
   "cell_type": "code",
   "execution_count": 13,
   "id": "79f50e15",
   "metadata": {},
   "outputs": [],
   "source": [
    "# You can pass this object around to different tasks/actors\n",
    "queue = Queue(maxsize=100)"
   ]
  },
  {
   "cell_type": "code",
   "execution_count": 14,
   "id": "adc689ef",
   "metadata": {},
   "outputs": [],
   "source": [
    "class State(Enum):\n",
    "    INITIALIZED: int = 0,\n",
    "    RUNNING: int = 1,\n",
    "    STOPPED: int = 2\n",
    "\n",
    "\n",
    "@ray.remote\n",
    "class Consumer:\n",
    "    def __init__(self, worker_id: int, queue: ray.util.queue.Queue): \n",
    "        self._id: int = worker_id\n",
    "        self._queue: ray.util.queue.Queue = queue\n",
    "        self._state: State.INITIALIZED\n",
    "            \n",
    "    async def run(self) -> int:\n",
    "        print(f\"{self._id} running.\")\n",
    "        self._state = State.RUNNING\n",
    "        try:\n",
    "            while True:\n",
    "                # Need to use get_async.\n",
    "                # item = await queue.get(block=True, timeout=None)\n",
    "                item = await queue.get_async(block=True, timeout=None)\n",
    "                if self._state == State.RUNNING:\n",
    "                    print(f\"consumer {self._id} got work {item}\")\n",
    "                else:\n",
    "                    break\n",
    "            \n",
    "            print(\"exiting run()...\")\n",
    "            return 1 \n",
    "                \n",
    "        except error as e:\n",
    "            print(f\"id: {self._id} exiting due to [{e}].\")\n",
    "            return -1\n",
    "        \n",
    "        print(\"run() unexpected exit.\")\n",
    "        return -2\n",
    "\n",
    "    def stop(self):\n",
    "        \"\"\"Set the state to STOPPED.\n",
    "        \"\"\"\n",
    "        print(f\"id: {self._id} stopping...\")\n",
    "        self._state = State.STOPPED\n",
    "        # ray.actor.exit_actor()"
   ]
  },
  {
   "cell_type": "raw",
   "id": "b3cd31de",
   "metadata": {},
   "source": [
    "@ray.remote\n",
    "class Consumer:\n",
    "    def __init__(self, worker_id: int, queue: ray.util.queue.Queue): \n",
    "        self._id: int = worker_id\n",
    "        self._queue: ray.util.queue.Queue = queue\n",
    "        self._lock: threading.Lock = threading.Lock()\n",
    "            \n",
    "    def run(self):\n",
    "        print(f\"{self._id} starting.\")\n",
    "        try:\n",
    "            while True:\n",
    "                item = queue.get(block=True, timeout=None)\n",
    "                with self._lock:\n",
    "                    print(f\"consumer {self._id} got work {item}\")\n",
    "        except error as e:\n",
    "            print(f\"id: {self._id} exiting due to [{e}].\")\n",
    "            ray.actor.exit_actor()\n",
    "\n",
    "    def stop(self):\n",
    "        \"\"\"\n",
    "        Will not work because methods called on the same actor \n",
    "        are executed serially in the order that they are called.\n",
    "        \n",
    "        If run() is called eariler, the execution stays there.\n",
    "        \"\"\"\n",
    "        with self._lock:\n",
    "            print(f\"id: {self._id} stopping...\")\n",
    "            ray.actor.exit_actor()"
   ]
  },
  {
   "cell_type": "markdown",
   "id": "b8de866e",
   "metadata": {},
   "source": [
    "## Start two actors in parallel"
   ]
  },
  {
   "cell_type": "code",
   "execution_count": 15,
   "id": "12c740ed",
   "metadata": {},
   "outputs": [],
   "source": [
    "consumers = [\n",
    "    # Consumer.options(max_concurrency=2).remote(worker_id=worker_id, queue=queue) \n",
    "    Consumer.options(max_concurrency=2).remote(worker_id=worker_id, queue=queue) \n",
    "    for worker_id in range(2)\n",
    "]"
   ]
  },
  {
   "cell_type": "markdown",
   "id": "4c48976d",
   "metadata": {},
   "source": [
    "## Invoke actor method to read from the queue"
   ]
  },
  {
   "cell_type": "code",
   "execution_count": 16,
   "id": "37644366",
   "metadata": {},
   "outputs": [
    {
     "name": "stdout",
     "output_type": "stream",
     "text": [
      "\u001b[2m\u001b[36m(Consumer pid=3174)\u001b[0m 1 running.\n",
      "\u001b[2m\u001b[36m(Consumer pid=3173)\u001b[0m 0 running.\n"
     ]
    }
   ],
   "source": [
    "future_objects = [\n",
    "        consumer.run.remote() for consumer in consumers\n",
    "]"
   ]
  },
  {
   "cell_type": "markdown",
   "id": "342b91fc",
   "metadata": {},
   "source": [
    "## Put tasks into the queue to get the remote method unblocked"
   ]
  },
  {
   "cell_type": "code",
   "execution_count": 17,
   "id": "d8c3c11c",
   "metadata": {},
   "outputs": [
    {
     "name": "stdout",
     "output_type": "stream",
     "text": [
      "\u001b[2m\u001b[36m(Consumer pid=3174)\u001b[0m consumer 1 got work 1\n",
      "\u001b[2m\u001b[36m(Consumer pid=3174)\u001b[0m consumer 1 got work 3\n",
      "\u001b[2m\u001b[36m(Consumer pid=3174)\u001b[0m consumer 1 got work 5\n",
      "\u001b[2m\u001b[36m(Consumer pid=3174)\u001b[0m consumer 1 got work 7\n",
      "\u001b[2m\u001b[36m(Consumer pid=3174)\u001b[0m consumer 1 got work 9\n",
      "\u001b[2m\u001b[36m(Consumer pid=3173)\u001b[0m consumer 0 got work 0\n",
      "\u001b[2m\u001b[36m(Consumer pid=3173)\u001b[0m consumer 0 got work 2\n",
      "\u001b[2m\u001b[36m(Consumer pid=3173)\u001b[0m consumer 0 got work 4\n",
      "\u001b[2m\u001b[36m(Consumer pid=3173)\u001b[0m consumer 0 got work 6\n",
      "\u001b[2m\u001b[36m(Consumer pid=3173)\u001b[0m consumer 0 got work 8\n"
     ]
    }
   ],
   "source": [
    "_ = [queue.put(i) for i in range(10)]"
   ]
  },
  {
   "cell_type": "markdown",
   "id": "c24fbfb2",
   "metadata": {},
   "source": [
    "## Stop the actors"
   ]
  },
  {
   "cell_type": "code",
   "execution_count": 18,
   "id": "1bb0842c",
   "metadata": {},
   "outputs": [
    {
     "name": "stdout",
     "output_type": "stream",
     "text": [
      "\u001b[2m\u001b[36m(Consumer pid=3174)\u001b[0m id: 1 stopping...\n",
      "\u001b[2m\u001b[36m(Consumer pid=3173)\u001b[0m id: 0 stopping...\n"
     ]
    }
   ],
   "source": [
    "for consumer in consumers:\n",
    "    # consumer.exit.remote()\n",
    "    consumer.stop.remote()"
   ]
  },
  {
   "cell_type": "code",
   "execution_count": 19,
   "id": "e5e5be9e",
   "metadata": {},
   "outputs": [
    {
     "name": "stdout",
     "output_type": "stream",
     "text": [
      "\u001b[2m\u001b[36m(Consumer pid=3174)\u001b[0m exiting run()...\n",
      "\u001b[2m\u001b[36m(Consumer pid=3173)\u001b[0m exiting run()...\n"
     ]
    }
   ],
   "source": [
    "# Send items to unblock actors if they are blocking on the queue\n",
    "_ = [queue.put(i) for i in range(10)]"
   ]
  },
  {
   "cell_type": "code",
   "execution_count": 20,
   "id": "16422124",
   "metadata": {},
   "outputs": [
    {
     "name": "stdout",
     "output_type": "stream",
     "text": [
      "result: 1\n",
      "result: 1\n"
     ]
    }
   ],
   "source": [
    "# Wait for the actors exiting\n",
    "while future_objects:\n",
    "    \n",
    "    # Replace not_done_ids with the list of object references that aren't\n",
    "    # ready. Store the list of object references that are ready in done_ids.\n",
    "    # timeout=1 means sleep at most 1 second, do not sleep if there are\n",
    "    # new object references that are ready.\n",
    "    done_objects, future_objects = ray.wait(future_objects, timeout=1)\n",
    "    \n",
    "    # ray.get can take an iterable of object references.\n",
    "    done_values = ray.get(done_objects)\n",
    "\n",
    "    # Process each result.\n",
    "    for result in done_values:\n",
    "        print(f'result: {result}')"
   ]
  },
  {
   "cell_type": "code",
   "execution_count": 21,
   "id": "3921176a",
   "metadata": {},
   "outputs": [],
   "source": [
    "queue.shutdown()"
   ]
  },
  {
   "cell_type": "markdown",
   "id": "bac3563b",
   "metadata": {},
   "source": [
    "# Cleanup"
   ]
  },
  {
   "cell_type": "code",
   "execution_count": 22,
   "id": "d1be5771",
   "metadata": {},
   "outputs": [],
   "source": [
    "ray.shutdown()"
   ]
  },
  {
   "cell_type": "code",
   "execution_count": null,
   "id": "13431684",
   "metadata": {},
   "outputs": [],
   "source": []
  }
 ],
 "metadata": {
  "kernelspec": {
   "display_name": "Python 3 (ipykernel)",
   "language": "python",
   "name": "python3"
  },
  "language_info": {
   "codemirror_mode": {
    "name": "ipython",
    "version": 3
   },
   "file_extension": ".py",
   "mimetype": "text/x-python",
   "name": "python",
   "nbconvert_exporter": "python",
   "pygments_lexer": "ipython3",
   "version": "3.9.13"
  }
 },
 "nbformat": 4,
 "nbformat_minor": 5
}
