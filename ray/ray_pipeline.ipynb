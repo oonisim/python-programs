{
 "cells": [
  {
   "cell_type": "markdown",
   "id": "3577cd59",
   "metadata": {},
   "source": [
    "* [Pattern: Using pipelining to increase throughput](https://docs.ray.io/en/latest/ray-core/patterns/pipelining.html)\n",
    "\n",
    "> If you have multiple work items and each requires several steps to complete, you can use the pipelining technique to improve the cluster utilization and increase the throughput of your system.\n",
    "\n",
    "```\n",
    "@ray.remote\n",
    "class WorkerWithPipelining:\n",
    "    def __init__(self, work_queue):\n",
    "        self.work_queue = work_queue\n",
    "\n",
    "    def process(self, work_item):\n",
    "        print(work_item)\n",
    "\n",
    "    def run(self):\n",
    "        self.work_item_ref = self.work_queue.get_work_item.remote()\n",
    "\n",
    "        while True:\n",
    "            # Get work from the remote queue.\n",
    "            work_item = ray.get(self.work_item_ref)\n",
    "\n",
    "            if work_item is None:\n",
    "                break\n",
    "\n",
    "            # Call remote method which immediately returns.\n",
    "            self.work_item_ref = self.work_queue.get_work_item.remote()\n",
    "\n",
    "            # Hence able to start the actual work while remote is fetching the next work item.\n",
    "            self.process(work_item)\n",
    "```"
   ]
  },
  {
   "cell_type": "code",
   "execution_count": null,
   "id": "616e6fcb",
   "metadata": {},
   "outputs": [],
   "source": []
  }
 ],
 "metadata": {
  "kernelspec": {
   "display_name": "Python 3 (ipykernel)",
   "language": "python",
   "name": "python3"
  },
  "language_info": {
   "codemirror_mode": {
    "name": "ipython",
    "version": 3
   },
   "file_extension": ".py",
   "mimetype": "text/x-python",
   "name": "python",
   "nbconvert_exporter": "python",
   "pygments_lexer": "ipython3",
   "version": "3.9.13"
  }
 },
 "nbformat": 4,
 "nbformat_minor": 5
}
