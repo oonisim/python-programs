{
 "cells": [
  {
   "cell_type": "markdown",
   "id": "threatened-benefit",
   "metadata": {},
   "source": [
    "# Ray parallel execution \n",
    "\n",
    "Download the XBRL XML files form the SEC EDGAR sites in parallel and save to files in parallel."
   ]
  },
  {
   "cell_type": "code",
   "execution_count": 1,
   "id": "cardiovascular-trailer",
   "metadata": {},
   "outputs": [],
   "source": [
    "# !pip install -q ray"
   ]
  },
  {
   "cell_type": "code",
   "execution_count": 1,
   "id": "0d0b5db5",
   "metadata": {},
   "outputs": [
    {
     "name": "stderr",
     "output_type": "stream",
     "text": [
      "/var/folders/_4/8v285hqs45xfzk0l1nlr3yq40000gn/T/ipykernel_93142/464077807.py:15: DeprecationWarning: Importing display from IPython.core.display is deprecated since IPython 7.14, please import from IPython display\n",
      "  from IPython.core.display import (\n"
     ]
    }
   ],
   "source": [
    "from typing import (\n",
    "    List,\n",
    "    Dict\n",
    ")\n",
    "import os\n",
    "import logging\n",
    "import time\n",
    "import re\n",
    "import requests\n",
    "import bs4\n",
    "from bs4 import BeautifulSoup\n",
    "import numpy as np\n",
    "import pandas as pd\n",
    "import ray\n",
    "from IPython.core.display import (\n",
    "    display, \n",
    "    HTML\n",
    ")\n",
    "\n",
    "pd.set_option('display.float_format', lambda x: ('%f' % x).rstrip('0').rstrip('.'))\n",
    "pd.set_option('display.colheader_justify', 'center')"
   ]
  },
  {
   "cell_type": "code",
   "execution_count": 2,
   "id": "611dd026",
   "metadata": {},
   "outputs": [],
   "source": [
    "EDGAR_HTTP_HEADERS = {\"User-Agent\": \"Company Name myname@company.com\"}\n",
    "urls = [\n",
    "    'https://sec.gov/Archives/edgar/data/1000697/000095012310017583/wat-20091231.xml',\n",
    "    'https://sec.gov/Archives/edgar/data/1001039/000119312510025949/dis-20100102.xml',\n",
    "    'https://sec.gov/Archives/edgar/data/1001082/000095012310018671/dish-20091231.xml',\n",
    "    'https://sec.gov/Archives/edgar/data/1001838/000110465910010334/scco-20091231.xml',\n",
    "    'https://sec.gov/Archives/edgar/data/1002638/000119312510021715/otex-20091231.xml',\n",
    "    'https://sec.gov/Archives/edgar/data/1002910/000119312510043155/aee-20091231.xml',\n",
    "    'https://sec.gov/Archives/edgar/data/1004155/000100415510000016/agl-20091231.xml',\n",
    "    'https://sec.gov/Archives/edgar/data/1004440/000104746910001515/ceg-20091231.xml',\n",
    "    'https://sec.gov/Archives/edgar/data/1004980/000100498010000015/pcg-20091231.xml'\n",
    "]"
   ]
  },
  {
   "cell_type": "code",
   "execution_count": 3,
   "id": "enclosed-scientist",
   "metadata": {},
   "outputs": [
    {
     "name": "stderr",
     "output_type": "stream",
     "text": [
      "2023-10-25 16:35:55,274\tINFO worker.py:1553 -- Started a local Ray instance.\n"
     ]
    },
    {
     "data": {
      "text/html": [
       "<div>\n",
       "    <div style=\"margin-left: 50px;display: flex;flex-direction: row;align-items: center\">\n",
       "        <h3 style=\"color: var(--jp-ui-font-color0)\">Ray</h3>\n",
       "        <svg version=\"1.1\" id=\"ray\" width=\"3em\" viewBox=\"0 0 144.5 144.6\" style=\"margin-left: 3em;margin-right: 3em\">\n",
       "            <g id=\"layer-1\">\n",
       "                <path fill=\"#00a2e9\" class=\"st0\" d=\"M97.3,77.2c-3.8-1.1-6.2,0.9-8.3,5.1c-3.5,6.8-9.9,9.9-17.4,9.6S58,88.1,54.8,81.2c-1.4-3-3-4-6.3-4.1\n",
       "                    c-5.6-0.1-9.9,0.1-13.1,6.4c-3.8,7.6-13.6,10.2-21.8,7.6C5.2,88.4-0.4,80.5,0,71.7c0.1-8.4,5.7-15.8,13.8-18.2\n",
       "                    c8.4-2.6,17.5,0.7,22.3,8c1.3,1.9,1.3,5.2,3.6,5.6c3.9,0.6,8,0.2,12,0.2c1.8,0,1.9-1.6,2.4-2.8c3.5-7.8,9.7-11.8,18-11.9\n",
       "                    c8.2-0.1,14.4,3.9,17.8,11.4c1.3,2.8,2.9,3.6,5.7,3.3c1-0.1,2,0.1,3,0c2.8-0.5,6.4,1.7,8.1-2.7s-2.3-5.5-4.1-7.5\n",
       "                    c-5.1-5.7-10.9-10.8-16.1-16.3C84,38,81.9,37.1,78,38.3C66.7,42,56.2,35.7,53,24.1C50.3,14,57.3,2.8,67.7,0.5\n",
       "                    C78.4-2,89,4.7,91.5,15.3c0.1,0.3,0.1,0.5,0.2,0.8c0.7,3.4,0.7,6.9-0.8,9.8c-1.7,3.2-0.8,5,1.5,7.2c6.7,6.5,13.3,13,19.8,19.7\n",
       "                    c1.8,1.8,3,2.1,5.5,1.2c9.1-3.4,17.9-0.6,23.4,7c4.8,6.9,4.6,16.1-0.4,22.9c-5.4,7.2-14.2,9.9-23.1,6.5c-2.3-0.9-3.5-0.6-5.1,1.1\n",
       "                    c-6.7,6.9-13.6,13.7-20.5,20.4c-1.8,1.8-2.5,3.2-1.4,5.9c3.5,8.7,0.3,18.6-7.7,23.6c-7.9,5-18.2,3.8-24.8-2.9\n",
       "                    c-6.4-6.4-7.4-16.2-2.5-24.3c4.9-7.8,14.5-11,23.1-7.8c3,1.1,4.7,0.5,6.9-1.7C91.7,98.4,98,92.3,104.2,86c1.6-1.6,4.1-2.7,2.6-6.2\n",
       "                    c-1.4-3.3-3.8-2.5-6.2-2.6C99.8,77.2,98.9,77.2,97.3,77.2z M72.1,29.7c5.5,0.1,9.9-4.3,10-9.8c0-0.1,0-0.2,0-0.3\n",
       "                    C81.8,14,77,9.8,71.5,10.2c-5,0.3-9,4.2-9.3,9.2c-0.2,5.5,4,10.1,9.5,10.3C71.8,29.7,72,29.7,72.1,29.7z M72.3,62.3\n",
       "                    c-5.4-0.1-9.9,4.2-10.1,9.7c0,0.2,0,0.3,0,0.5c0.2,5.4,4.5,9.7,9.9,10c5.1,0.1,9.9-4.7,10.1-9.8c0.2-5.5-4-10-9.5-10.3\n",
       "                    C72.6,62.3,72.4,62.3,72.3,62.3z M115,72.5c0.1,5.4,4.5,9.7,9.8,9.9c5.6-0.2,10-4.8,10-10.4c-0.2-5.4-4.6-9.7-10-9.7\n",
       "                    c-5.3-0.1-9.8,4.2-9.9,9.5C115,72.1,115,72.3,115,72.5z M19.5,62.3c-5.4,0.1-9.8,4.4-10,9.8c-0.1,5.1,5.2,10.4,10.2,10.3\n",
       "                    c5.6-0.2,10-4.9,9.8-10.5c-0.1-5.4-4.5-9.7-9.9-9.6C19.6,62.3,19.5,62.3,19.5,62.3z M71.8,134.6c5.9,0.2,10.3-3.9,10.4-9.6\n",
       "                    c0.5-5.5-3.6-10.4-9.1-10.8c-5.5-0.5-10.4,3.6-10.8,9.1c0,0.5,0,0.9,0,1.4c-0.2,5.3,4,9.8,9.3,10\n",
       "                    C71.6,134.6,71.7,134.6,71.8,134.6z\"/>\n",
       "            </g>\n",
       "        </svg>\n",
       "        <table>\n",
       "            <tr>\n",
       "                <td style=\"text-align: left\"><b>Python version:</b></td>\n",
       "                <td style=\"text-align: left\"><b>3.9.13</b></td>\n",
       "            </tr>\n",
       "            <tr>\n",
       "                <td style=\"text-align: left\"><b>Ray version:</b></td>\n",
       "                <td style=\"text-align: left\"><b> 2.3.0</b></td>\n",
       "            </tr>\n",
       "            \n",
       "        </table>\n",
       "    </div>\n",
       "</div>\n"
      ],
      "text/plain": [
       "RayContext(dashboard_url='', python_version='3.9.13', ray_version='2.3.0', ray_commit='cf7a56b4b0b648c324722df7c99c168e92ff0b45', address_info={'node_ip_address': '127.0.0.1', 'raylet_ip_address': '127.0.0.1', 'redis_address': None, 'object_store_address': '/tmp/ray/session_2023-10-25_16-35-53_374630_93142/sockets/plasma_store', 'raylet_socket_name': '/tmp/ray/session_2023-10-25_16-35-53_374630_93142/sockets/raylet', 'webui_url': '', 'session_dir': '/tmp/ray/session_2023-10-25_16-35-53_374630_93142', 'metrics_export_port': 61602, 'gcs_address': '127.0.0.1:63811', 'address': '127.0.0.1:63811', 'dashboard_agent_listen_port': 52365, 'node_id': '2ca5217895778ba3c3f940448d2ced7cd53a56210de2e2f401f67600'})"
      ]
     },
     "execution_count": 3,
     "metadata": {},
     "output_type": "execute_result"
    }
   ],
   "source": [
    "ray.init(num_cpus=4, num_gpus=0)"
   ]
  },
  {
   "cell_type": "markdown",
   "id": "appointed-remark",
   "metadata": {},
   "source": [
    "---\n",
    "\n",
    "# Flow\n",
    "\n",
    "1. URL generator (provisioner) generates a URL at a time.\n",
    "2. Each Ray ```download``` worker downloads XML files and return a ray object reference (names, xmls).\n",
    "3. Each Ray ```save``` worker saves XML files from the (names, xmls) reference.\n",
    "\n",
    "```ray.remote()``` call asynchronouslly returns a ```future``` and we can either:\n",
    "* wait until all the results get available by ```ray.get([futures])``` blocking call.\n",
    "* process the results as they get available by ```ray.wait([futures])``` non-blocking all.\n",
    "\n",
    "## ray.remote\n",
    "\n",
    "* [Ray Core Quickstart](https://docs.ray.io/en/latest/ray-overview/getting-started.html#ray-core-quickstart)\n",
    ">  This remote call yields a ```future```, a **Ray object reference**, that you can then fetch with ray.get.\n",
    "\n",
    "## ray.wait\n",
    "\n",
    "* [ray.wait](https://docs.ray.io/en/latest/ray-core/api/doc/ray.wait.html) \n",
    "\n",
    "> This method returns two lists. The first list consists of object refs that correspond to objects that are available in the object store. The second list corresponds to the rest of the object refs (which may or may not be ready).\n",
    "\n",
    "## ray.get\n",
    "\n",
    "* [ray.get](https://docs.ray.io/en/latest/ray-core/api/doc/ray.get.html)\n",
    "\n",
    "> This method **blocks** until the object corresponding to the object ref is available in the local object store. "
   ]
  },
  {
   "cell_type": "code",
   "execution_count": 4,
   "id": "98d590f3",
   "metadata": {},
   "outputs": [],
   "source": [
    "def provision():\n",
    "    \"\"\"Provision URLs\"\"\"\n",
    "    num = 3\n",
    "    start = 0\n",
    "    end = num\n",
    "\n",
    "    while(start < len(urls)):\n",
    "        yield urls[start:end]\n",
    "        start = end\n",
    "        end += num\n",
    "                \n",
    "provisioner = provision()"
   ]
  },
  {
   "cell_type": "code",
   "execution_count": 5,
   "id": "after-grace",
   "metadata": {},
   "outputs": [],
   "source": [
    "@ray.remote(num_returns=1)\n",
    "def download(urls):\n",
    "    \"\"\"worker to download XML files from URLs via HTTP GET\"\"\"\n",
    "    names = []\n",
    "    xmls = []\n",
    "\n",
    "    for url in urls:\n",
    "        # --------------------------------------------------------------------------------\n",
    "        # Retrieve SEC Filing XBRL XML from the URL \n",
    "        # --------------------------------------------------------------------------------\n",
    "        response = requests.get(url, headers=EDGAR_HTTP_HEADERS)\n",
    "        if response.status_code == 200:\n",
    "            print(f\"Got XML from {url}\")\n",
    "            # --------------------------------------------------------------------------------\n",
    "            # SEC Filing XML Filename\n",
    "            # --------------------------------------------------------------------------------\n",
    "            names.append(os.path.basename(url))\n",
    "            \n",
    "            # --------------------------------------------------------------------------------\n",
    "            # The first HTML content in the XBRL XML\n",
    "            # --------------------------------------------------------------------------------\n",
    "            content = response.content.decode(\"utf-8\") \n",
    "            xmls.append(content)\n",
    "        else:\n",
    "            assert False, f\"{url} failed with status {response.status_code}\"\n",
    "        \n",
    "    return names, xmls"
   ]
  },
  {
   "cell_type": "code",
   "execution_count": 6,
   "id": "1612ee0f",
   "metadata": {},
   "outputs": [],
   "source": [
    "os.makedirs(\"downloads\", exist_ok=True)\n",
    "\n",
    "@ray.remote\n",
    "def save(references):\n",
    "    \"\"\"worker to save the downloaded XML file(s)\n",
    "    Args:\n",
    "        references: Ray object referernces to (names, XMLs) of the downlaoded XML\n",
    "    \"\"\"\n",
    "    # --------------------------------------------------------------------------------\n",
    "    # ray.wait() returns a list of object-references (results) returned from \n",
    "    # download workers. (one reference per worker)\n",
    "    # --------------------------------------------------------------------------------\n",
    "    results = ray.get(references)\n",
    "    while(results):\n",
    "        # --------------------------------------------------------------------------------\n",
    "        # Pick the first job result\n",
    "        # --------------------------------------------------------------------------------\n",
    "        result, *results = results\n",
    "\n",
    "        # --------------------------------------------------------------------------------\n",
    "        # result = [names, xmls] from each worker\n",
    "        # --------------------------------------------------------------------------------\n",
    "        names, xmls = result\n",
    "        \n",
    "        # --------------------------------------------------------------------------------\n",
    "        # Save XML into a file with 'name'\n",
    "        # --------------------------------------------------------------------------------\n",
    "        for i in range(0, len(names)):\n",
    "            print(f\"Saving XML into {names[i]}\")\n",
    "            with open(f\"./downloads/{names[i]}\", \"w\") as f:\n",
    "                f.write(xmls[i])"
   ]
  },
  {
   "cell_type": "markdown",
   "id": "25c3e1e7",
   "metadata": {},
   "source": [
    "# Distributed executions of downloads\n",
    "\n",
    "Invoke remote workers and process the worker results as they get available."
   ]
  },
  {
   "cell_type": "code",
   "execution_count": 7,
   "id": "ae2525c0",
   "metadata": {},
   "outputs": [
    {
     "name": "stdout",
     "output_type": "stream",
     "text": [
      "\u001b[2m\u001b[36m(download pid=93155)\u001b[0m Got XML from https://sec.gov/Archives/edgar/data/1001838/000110465910010334/scco-20091231.xml\n",
      "\u001b[2m\u001b[36m(download pid=93155)\u001b[0m Got XML from https://sec.gov/Archives/edgar/data/1002638/000119312510021715/otex-20091231.xml\n",
      "\u001b[2m\u001b[36m(download pid=93156)\u001b[0m Got XML from https://sec.gov/Archives/edgar/data/1004155/000100415510000016/agl-20091231.xml\n",
      "\u001b[2m\u001b[36m(download pid=93158)\u001b[0m Got XML from https://sec.gov/Archives/edgar/data/1000697/000095012310017583/wat-20091231.xml\n",
      "\u001b[2m\u001b[36m(download pid=93156)\u001b[0m Got XML from https://sec.gov/Archives/edgar/data/1004440/000104746910001515/ceg-20091231.xml\n",
      "\u001b[2m\u001b[36m(download pid=93158)\u001b[0m Got XML from https://sec.gov/Archives/edgar/data/1001039/000119312510025949/dis-20100102.xml\n",
      "\u001b[2m\u001b[36m(download pid=93155)\u001b[0m Got XML from https://sec.gov/Archives/edgar/data/1002910/000119312510043155/aee-20091231.xml\n",
      "\u001b[2m\u001b[36m(download pid=93156)\u001b[0m Got XML from https://sec.gov/Archives/edgar/data/1004980/000100498010000015/pcg-20091231.xml\n",
      "\u001b[2m\u001b[36m(download pid=93158)\u001b[0m Got XML from https://sec.gov/Archives/edgar/data/1001082/000095012310018671/dish-20091231.xml\n"
     ]
    }
   ],
   "source": [
    "# --------------------------------------------------------------------------------\n",
    "# Asynchronously invoke 3 XML file download jobs (workers)\n",
    "# ray.put() to convert a python object to a Ray object.\n",
    "# --------------------------------------------------------------------------------\n",
    "futures_for_download = [download.remote(ray.put(next(provisioner))) for i in range(0,3)]"
   ]
  },
  {
   "cell_type": "code",
   "execution_count": 8,
   "id": "b65eb5ea",
   "metadata": {},
   "outputs": [],
   "source": [
    "references_to_names_xmls_pairs = []    # Ray object references to (names, xmls)\n",
    "while futures_for_download:\n",
    "    # --------------------------------------------------------------------------------\n",
    "    # Take the object references from completed jobs\n",
    "    # --------------------------------------------------------------------------------\n",
    "    references, futures_for_download = ray.wait(futures_for_download)\n",
    "    references_to_names_xmls_pairs.append(references)"
   ]
  },
  {
   "cell_type": "markdown",
   "id": "29b58f14",
   "metadata": {},
   "source": [
    "# Distributed executions of saving XML files\n",
    "\n",
    "Invoke remote workers and block wait until all the worker complete."
   ]
  },
  {
   "cell_type": "code",
   "execution_count": 9,
   "id": "80a029cc",
   "metadata": {},
   "outputs": [
    {
     "name": "stdout",
     "output_type": "stream",
     "text": [
      "\u001b[2m\u001b[36m(save pid=93155)\u001b[0m Saving XML into agl-20091231.xml\n",
      "\u001b[2m\u001b[36m(save pid=93155)\u001b[0m Saving XML into ceg-20091231.xml\n",
      "\u001b[2m\u001b[36m(save pid=93155)\u001b[0m Saving XML into pcg-20091231.xml\n",
      "\u001b[2m\u001b[36m(save pid=93156)\u001b[0m Saving XML into scco-20091231.xml\n",
      "\u001b[2m\u001b[36m(save pid=93156)\u001b[0m Saving XML into otex-20091231.xml\n",
      "\u001b[2m\u001b[36m(save pid=93156)\u001b[0m Saving XML into aee-20091231.xml\n",
      "\u001b[2m\u001b[36m(save pid=93158)\u001b[0m Saving XML into wat-20091231.xml\n",
      "\u001b[2m\u001b[36m(save pid=93158)\u001b[0m Saving XML into dis-20100102.xml\n",
      "\u001b[2m\u001b[36m(save pid=93158)\u001b[0m Saving XML into dish-20091231.xml\n"
     ]
    }
   ],
   "source": [
    "futures_for_save = [\n",
    "    save.remote(references) \n",
    "    for references in references_to_names_xmls_pairs\n",
    "]"
   ]
  },
  {
   "cell_type": "code",
   "execution_count": 10,
   "id": "2eec1efe",
   "metadata": {},
   "outputs": [],
   "source": [
    "# --------------------------------------------------------------------------------\n",
    "# Wait for the async job completions before the next step of shutting down Ray.\n",
    "# --------------------------------------------------------------------------------\n",
    "ray.get(futures_for_save)\n",
    "time.sleep(3)  # Give the time to Jupyter to flush all stdout outputs."
   ]
  },
  {
   "cell_type": "code",
   "execution_count": 11,
   "id": "8b059aec",
   "metadata": {},
   "outputs": [
    {
     "name": "stdout",
     "output_type": "stream",
     "text": [
      "aee-20091231.xml  dis-20100102.xml  pcg-20091231.xml\r\n",
      "agl-20091231.xml  dish-20091231.xml scco-20091231.xml\r\n",
      "ceg-20091231.xml  otex-20091231.xml wat-20091231.xml\r\n"
     ]
    }
   ],
   "source": [
    "!ls downloads"
   ]
  },
  {
   "cell_type": "markdown",
   "id": "e606077f",
   "metadata": {},
   "source": [
    "# Cleanup"
   ]
  },
  {
   "cell_type": "code",
   "execution_count": 12,
   "id": "textile-presentation",
   "metadata": {},
   "outputs": [],
   "source": [
    "ray.shutdown()"
   ]
  },
  {
   "cell_type": "code",
   "execution_count": 13,
   "id": "00b1a2ca",
   "metadata": {},
   "outputs": [],
   "source": [
    "!rm -rf downloads"
   ]
  },
  {
   "cell_type": "code",
   "execution_count": null,
   "id": "a5b16adb",
   "metadata": {},
   "outputs": [],
   "source": []
  }
 ],
 "metadata": {
  "kernelspec": {
   "display_name": "Python 3 (ipykernel)",
   "language": "python",
   "name": "python3"
  },
  "language_info": {
   "codemirror_mode": {
    "name": "ipython",
    "version": 3
   },
   "file_extension": ".py",
   "mimetype": "text/x-python",
   "name": "python",
   "nbconvert_exporter": "python",
   "pygments_lexer": "ipython3",
   "version": "3.9.13"
  }
 },
 "nbformat": 4,
 "nbformat_minor": 5
}
