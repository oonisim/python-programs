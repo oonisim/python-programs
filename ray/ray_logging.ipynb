{
 "cells": [
  {
   "cell_type": "markdown",
   "id": "953b1cbb",
   "metadata": {},
   "source": [
    "# Logging in Ray\n",
    "\n",
    "* [How can I use the python logging in Ray?](https://stackoverflow.com/a/55286452/4281353)\n",
    "\n",
    "> There are a couple things to be careful about.\n",
    "> \n",
    ">* First, you should create a new logger inside of the worker because the worker runs on a different Python process. If you try to use a logger that you created outside of the worker within the worker, then Ray will try to pickle the logger and send it to the worker process, and Python loggers typically do not behave correctly when pickled and unpickled.\n",
    ">* Second, you have to make sure the logging level is set correctly. I'm using logger.warning instead of logger.info because the Python logging level is set to `warning by default.\n",
    "\n",
    "```\n",
    "import logging\n",
    "import ray\n",
    "\n",
    "logger = logging.getLogger(__name__)\n",
    "\n",
    "@ray.remote\n",
    "class Worker(object):\n",
    "    def __init__(self):\n",
    "        self.logger = logging.getLogger(__name__)\n",
    "    def train(self):\n",
    "        self.logger.warning(\"print from inside worker\")\n",
    "\n",
    "\n",
    "ray.init()\n",
    "\n",
    "worker = Worker.remote()\n",
    "\n",
    "ray.get(worker.train.remote())\n",
    "\n",
    "logger.warning(\"print from outside worker\")\n",
    "```"
   ]
  },
  {
   "cell_type": "code",
   "execution_count": null,
   "id": "a1039ad3",
   "metadata": {},
   "outputs": [],
   "source": []
  }
 ],
 "metadata": {
  "kernelspec": {
   "display_name": "Python 3 (ipykernel)",
   "language": "python",
   "name": "python3"
  },
  "language_info": {
   "codemirror_mode": {
    "name": "ipython",
    "version": 3
   },
   "file_extension": ".py",
   "mimetype": "text/x-python",
   "name": "python",
   "nbconvert_exporter": "python",
   "pygments_lexer": "ipython3",
   "version": "3.8.10"
  }
 },
 "nbformat": 4,
 "nbformat_minor": 5
}
