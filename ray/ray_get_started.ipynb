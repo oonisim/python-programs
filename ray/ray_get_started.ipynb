{
 "cells": [
  {
   "cell_type": "markdown",
   "id": "threatened-benefit",
   "metadata": {},
   "source": [
    "# Ray getting started\n",
    "\n",
    "* [Programming in Ray: Tips for first-time users](https://rise.cs.berkeley.edu/blog/ray-tips-for-first-time-users/)\n",
    "* [Modern Parallel and Distributed Python: A Quick Tutorial on Ray](https://towardsdatascience.com/modern-parallel-and-distributed-python-a-quick-tutorial-on-ray-99f8d70369b8)"
   ]
  },
  {
   "cell_type": "markdown",
   "id": "mobile-discovery",
   "metadata": {},
   "source": [
    "# Installation\n",
    "\n",
    "There is no conda package and \"ray\" in Bioconda channel is for genom analysis."
   ]
  },
  {
   "cell_type": "code",
   "execution_count": 1,
   "id": "cardiovascular-trailer",
   "metadata": {},
   "outputs": [
    {
     "name": "stdout",
     "output_type": "stream",
     "text": [
      "\r\n",
      "\u001b[1m[\u001b[0m\u001b[34;49mnotice\u001b[0m\u001b[1;39;49m]\u001b[0m\u001b[39;49m A new release of pip is available: \u001b[0m\u001b[31;49m23.0.1\u001b[0m\u001b[39;49m -> \u001b[0m\u001b[32;49m23.1.1\u001b[0m\r\n",
      "\u001b[1m[\u001b[0m\u001b[34;49mnotice\u001b[0m\u001b[1;39;49m]\u001b[0m\u001b[39;49m To update, run: \u001b[0m\u001b[32;49mpip install --upgrade pip\u001b[0m\r\n"
     ]
    }
   ],
   "source": [
    "!pip install -q ray"
   ]
  },
  {
   "cell_type": "code",
   "execution_count": 2,
   "id": "6d0041d9",
   "metadata": {},
   "outputs": [],
   "source": [
    "import re\n",
    "import ray"
   ]
  },
  {
   "cell_type": "markdown",
   "id": "adult-confirmation",
   "metadata": {},
   "source": [
    "# Use Ray\n",
    "\n",
    "## Start Ray on a sngle machine\n",
    "\n",
    "* [ray.init](https://docs.ray.io/en/latest/package-ref.html#ray-init)\n",
    "\n",
    "```ray.init()``` will start Ray and it detects available resource so as to utilize all cores on the machine. "
   ]
  },
  {
   "cell_type": "code",
   "execution_count": 3,
   "id": "enclosed-scientist",
   "metadata": {},
   "outputs": [
    {
     "name": "stderr",
     "output_type": "stream",
     "text": [
      "2023-04-26 07:31:18,627\tINFO worker.py:1553 -- Started a local Ray instance.\n"
     ]
    },
    {
     "data": {
      "text/html": [
       "<div>\n",
       "    <div style=\"margin-left: 50px;display: flex;flex-direction: row;align-items: center\">\n",
       "        <h3 style=\"color: var(--jp-ui-font-color0)\">Ray</h3>\n",
       "        <svg version=\"1.1\" id=\"ray\" width=\"3em\" viewBox=\"0 0 144.5 144.6\" style=\"margin-left: 3em;margin-right: 3em\">\n",
       "            <g id=\"layer-1\">\n",
       "                <path fill=\"#00a2e9\" class=\"st0\" d=\"M97.3,77.2c-3.8-1.1-6.2,0.9-8.3,5.1c-3.5,6.8-9.9,9.9-17.4,9.6S58,88.1,54.8,81.2c-1.4-3-3-4-6.3-4.1\n",
       "                    c-5.6-0.1-9.9,0.1-13.1,6.4c-3.8,7.6-13.6,10.2-21.8,7.6C5.2,88.4-0.4,80.5,0,71.7c0.1-8.4,5.7-15.8,13.8-18.2\n",
       "                    c8.4-2.6,17.5,0.7,22.3,8c1.3,1.9,1.3,5.2,3.6,5.6c3.9,0.6,8,0.2,12,0.2c1.8,0,1.9-1.6,2.4-2.8c3.5-7.8,9.7-11.8,18-11.9\n",
       "                    c8.2-0.1,14.4,3.9,17.8,11.4c1.3,2.8,2.9,3.6,5.7,3.3c1-0.1,2,0.1,3,0c2.8-0.5,6.4,1.7,8.1-2.7s-2.3-5.5-4.1-7.5\n",
       "                    c-5.1-5.7-10.9-10.8-16.1-16.3C84,38,81.9,37.1,78,38.3C66.7,42,56.2,35.7,53,24.1C50.3,14,57.3,2.8,67.7,0.5\n",
       "                    C78.4-2,89,4.7,91.5,15.3c0.1,0.3,0.1,0.5,0.2,0.8c0.7,3.4,0.7,6.9-0.8,9.8c-1.7,3.2-0.8,5,1.5,7.2c6.7,6.5,13.3,13,19.8,19.7\n",
       "                    c1.8,1.8,3,2.1,5.5,1.2c9.1-3.4,17.9-0.6,23.4,7c4.8,6.9,4.6,16.1-0.4,22.9c-5.4,7.2-14.2,9.9-23.1,6.5c-2.3-0.9-3.5-0.6-5.1,1.1\n",
       "                    c-6.7,6.9-13.6,13.7-20.5,20.4c-1.8,1.8-2.5,3.2-1.4,5.9c3.5,8.7,0.3,18.6-7.7,23.6c-7.9,5-18.2,3.8-24.8-2.9\n",
       "                    c-6.4-6.4-7.4-16.2-2.5-24.3c4.9-7.8,14.5-11,23.1-7.8c3,1.1,4.7,0.5,6.9-1.7C91.7,98.4,98,92.3,104.2,86c1.6-1.6,4.1-2.7,2.6-6.2\n",
       "                    c-1.4-3.3-3.8-2.5-6.2-2.6C99.8,77.2,98.9,77.2,97.3,77.2z M72.1,29.7c5.5,0.1,9.9-4.3,10-9.8c0-0.1,0-0.2,0-0.3\n",
       "                    C81.8,14,77,9.8,71.5,10.2c-5,0.3-9,4.2-9.3,9.2c-0.2,5.5,4,10.1,9.5,10.3C71.8,29.7,72,29.7,72.1,29.7z M72.3,62.3\n",
       "                    c-5.4-0.1-9.9,4.2-10.1,9.7c0,0.2,0,0.3,0,0.5c0.2,5.4,4.5,9.7,9.9,10c5.1,0.1,9.9-4.7,10.1-9.8c0.2-5.5-4-10-9.5-10.3\n",
       "                    C72.6,62.3,72.4,62.3,72.3,62.3z M115,72.5c0.1,5.4,4.5,9.7,9.8,9.9c5.6-0.2,10-4.8,10-10.4c-0.2-5.4-4.6-9.7-10-9.7\n",
       "                    c-5.3-0.1-9.8,4.2-9.9,9.5C115,72.1,115,72.3,115,72.5z M19.5,62.3c-5.4,0.1-9.8,4.4-10,9.8c-0.1,5.1,5.2,10.4,10.2,10.3\n",
       "                    c5.6-0.2,10-4.9,9.8-10.5c-0.1-5.4-4.5-9.7-9.9-9.6C19.6,62.3,19.5,62.3,19.5,62.3z M71.8,134.6c5.9,0.2,10.3-3.9,10.4-9.6\n",
       "                    c0.5-5.5-3.6-10.4-9.1-10.8c-5.5-0.5-10.4,3.6-10.8,9.1c0,0.5,0,0.9,0,1.4c-0.2,5.3,4,9.8,9.3,10\n",
       "                    C71.6,134.6,71.7,134.6,71.8,134.6z\"/>\n",
       "            </g>\n",
       "        </svg>\n",
       "        <table>\n",
       "            <tr>\n",
       "                <td style=\"text-align: left\"><b>Python version:</b></td>\n",
       "                <td style=\"text-align: left\"><b>3.9.13</b></td>\n",
       "            </tr>\n",
       "            <tr>\n",
       "                <td style=\"text-align: left\"><b>Ray version:</b></td>\n",
       "                <td style=\"text-align: left\"><b> 2.3.0</b></td>\n",
       "            </tr>\n",
       "            \n",
       "        </table>\n",
       "    </div>\n",
       "</div>\n"
      ],
      "text/plain": [
       "RayContext(dashboard_url='', python_version='3.9.13', ray_version='2.3.0', ray_commit='cf7a56b4b0b648c324722df7c99c168e92ff0b45', address_info={'node_ip_address': '127.0.0.1', 'raylet_ip_address': '127.0.0.1', 'redis_address': None, 'object_store_address': '/tmp/ray/session_2023-04-26_07-31-16_734853_67623/sockets/plasma_store', 'raylet_socket_name': '/tmp/ray/session_2023-04-26_07-31-16_734853_67623/sockets/raylet', 'webui_url': '', 'session_dir': '/tmp/ray/session_2023-04-26_07-31-16_734853_67623', 'metrics_export_port': 56376, 'gcs_address': '127.0.0.1:63356', 'address': '127.0.0.1:63356', 'dashboard_agent_listen_port': 52365, 'node_id': 'ee8ae69e45c0a3f8e8171eb87f5ad82d35ca930269db99166acbcb8a'})"
      ]
     },
     "execution_count": 3,
     "metadata": {},
     "output_type": "execute_result"
    }
   ],
   "source": [
    "# ray.init()\n",
    "ray.init(num_cpus=4, num_gpus=0)"
   ]
  },
  {
   "cell_type": "markdown",
   "id": "dominican-terrain",
   "metadata": {},
   "source": [
    "## Connect to a cluster\n",
    "\n",
    "Need first run ray start on the command line to start the Ray cluster services. Then connect to an existing cluster. See [Ray Cluster Overview](https://docs.ray.io/en/master/cluster/index.html)\n",
    "\n",
    "```ray.init(address=<cluster-address>)```"
   ]
  },
  {
   "cell_type": "markdown",
   "id": "appointed-remark",
   "metadata": {},
   "source": [
    "---"
   ]
  },
  {
   "cell_type": "markdown",
   "id": "revolutionary-album",
   "metadata": {},
   "source": [
    "# Remote execution\n",
    "\n",
    "To create a proxy instance to remote-call a Python function.\n",
    "\n",
    "* [ray.remote](https://docs.ray.io/en/latest/package-ref.html#ray-remote)\n",
    "               \n",
    "> This can be used with no arguments to define a remote function or actor"
   ]
  },
  {
   "cell_type": "markdown",
   "id": "liberal-compact",
   "metadata": {},
   "source": [
    "### Via creating a proxy"
   ]
  },
  {
   "cell_type": "code",
   "execution_count": 4,
   "id": "published-orleans",
   "metadata": {},
   "outputs": [
    {
     "name": "stdout",
     "output_type": "stream",
     "text": [
      "16\n"
     ]
    }
   ],
   "source": [
    "def f(x):\n",
    "    return x * x\n",
    "\n",
    "remote_f = ray.remote(\n",
    "    f\n",
    ")\n",
    "future_f = remote_f.remote(4)\n",
    "print(ray.get(future_f))"
   ]
  },
  {
   "cell_type": "markdown",
   "id": "computational-content",
   "metadata": {},
   "source": [
    "### Via the decorator"
   ]
  },
  {
   "cell_type": "code",
   "execution_count": 5,
   "id": "after-grace",
   "metadata": {},
   "outputs": [
    {
     "name": "stdout",
     "output_type": "stream",
     "text": [
      "16\n"
     ]
    }
   ],
   "source": [
    "@ray.remote\n",
    "def g(x):\n",
    "    return x * x\n",
    "future_g = g.remote(4)\n",
    "print(ray.get(future_g))"
   ]
  },
  {
   "cell_type": "markdown",
   "id": "2db35f80",
   "metadata": {},
   "source": [
    "# Using object store via put/get\n",
    "\n",
    "Do not passing large data over the network every time calling remote functions. Insteaad, store the data in shared object store and reference it from the remote functions.\n",
    "\n",
    "* [Put and Get](https://docs.ray.io/en/stable/tutorial.html#put-and-get)\n",
    "\n",
    "> ```ray.put(object)``` takes a Python object and **copies it to the Ray distributed shared-memory object store** in the node(s). The object is **immutable**.\n",
    "> \n",
    "> ```ray.put(object)``` returns a reference which identifies the now remote-able object. If we save it in a variable ```ref``` e.g ```ref = ray.put(x)```, remote functions can take it as its argument and operate on the corresponding **acutual** remote object. **NO NEED to ```ray.get(ref)``` in the remote function** to use the object instance.\n",
    "> \n",
    "> For objects like arrays, we can use shared memory and avoid copying the object. If the remote object does not live on the node where the worker calls ray.get(ref), then the remote object will be transferred first to the node.\n",
    "\n",
    "\n",
    "* [Objects](https://docs.ray.io/en/latest/ray-core/objects.html)\n",
    "\n",
    "> You can use the ray.get() method to fetch the result of a remote object from an object ref. If the current node’s object store does not contain the object, the object is downloaded.\n",
    "\n",
    "* [How exactly does Ray share data to workers?](https://stackoverflow.com/questions/58082023/how-exactly-does-ray-share-data-to-workers)\n"
   ]
  },
  {
   "cell_type": "code",
   "execution_count": 6,
   "id": "5bfa97a1",
   "metadata": {},
   "outputs": [],
   "source": [
    "@ray.remote(num_returns=1)\n",
    "def runner(instances): # <--- caller passes references \n",
    "    import re\n",
    "    \n",
    "    result = []\n",
    "    for obj in instances: # <--- Just use the object without executing ray.get().\n",
    "        match = re.search(r\"http://(.*).com\", obj, re.IGNORECASE)\n",
    "        result.append(match.group(1))\n",
    "        \n",
    "    return result"
   ]
  },
  {
   "cell_type": "code",
   "execution_count": 7,
   "id": "62841a70",
   "metadata": {},
   "outputs": [
    {
     "data": {
      "text/plain": [
       "['gmail', 'facebook']"
      ]
     },
     "execution_count": 7,
     "metadata": {},
     "output_type": "execute_result"
    }
   ],
   "source": [
    "urls = [\n",
    "    \"http://gmail.com\",\n",
    "    \"http://facebook.com\"\n",
    "]\n",
    "reference_to_urls = ray.put(urls)\n",
    "\n",
    "ray.get(runner.remote(reference_to_urls))  # Passing the object reference"
   ]
  },
  {
   "cell_type": "markdown",
   "id": "7e0cbc0a",
   "metadata": {},
   "source": [
    "### Avoding ray.get() in the remote function\n",
    "\n",
    "* [Objects](https://docs.ray.io/en/latest/ray-core/objects.html)\n",
    "\n",
    "When an ray object is passed within a Python wrapper object e.g. list or dictionary, you need to call ```ray.get(wrapper)``` to de-reference (de-serialize in the node) the wrapper to access the ray object.\n"
   ]
  },
  {
   "cell_type": "code",
   "execution_count": 8,
   "id": "8fc6c201",
   "metadata": {},
   "outputs": [],
   "source": [
    "@ray.remote(num_returns=1)\n",
    "def func_to_handle_wrapped(wrapper): # <--- caller passes references \n",
    "    import re\n",
    "\n",
    "    # Explicitly de-reference the wrapper.\n",
    "    # We would like keep the remote function as pure simple python funciton \n",
    "    # without introducing ray specific handling.\n",
    "    instances = ray.get(wrapper)\n",
    "    \n",
    "    result = []\n",
    "    for obj in instances: # <--- Just use the object without executing ray.get().\n",
    "        match = re.search(r\"http://(.*).com\", obj, re.IGNORECASE)\n",
    "        result.append(match.group(1))\n",
    "        \n",
    "    return result"
   ]
  },
  {
   "cell_type": "code",
   "execution_count": 9,
   "id": "e4b5c8ce",
   "metadata": {},
   "outputs": [
    {
     "data": {
      "text/plain": [
       "['gmail', 'facebook']"
      ]
     },
     "execution_count": 9,
     "metadata": {},
     "output_type": "execute_result"
    }
   ],
   "source": [
    "wrapped = [\n",
    "    ray.put(\"http://gmail.com\"),\n",
    "    ray.put(\"http://facebook.com\")\n",
    "]\n",
    "\n",
    "ray.get(func_to_handle_wrapped.remote(wrapped))  # Passing the object reference"
   ]
  },
  {
   "cell_type": "markdown",
   "id": "6d943a74",
   "metadata": {},
   "source": [
    "**Avoid wrapping** that requires ```ray.get(wrapper)``` inside the remote function by always pass a ray object only, and stick to returning single value by ```@ray.remote(num_returns=1)```."
   ]
  },
  {
   "cell_type": "code",
   "execution_count": 10,
   "id": "0ff236e4",
   "metadata": {},
   "outputs": [],
   "source": [
    "@ray.remote(num_returns=1)\n",
    "def func_NOT_to_handle_wrapped(instances): # <--- caller passes references \n",
    "    import re\n",
    "\n",
    "    # No de-referencing with ray.get() in the remote function.\n",
    "    # We would like keep the remote function as pure simple python funciton \n",
    "    # instances = ray.get(wrapper)\n",
    "    \n",
    "    result = []\n",
    "    for obj in instances: # <--- Just use the object without executing ray.get().\n",
    "        match = re.search(r\"http://(.*).com\", obj, re.IGNORECASE)\n",
    "        result.append(match.group(1))\n",
    "        \n",
    "    return result"
   ]
  },
  {
   "cell_type": "code",
   "execution_count": 11,
   "id": "8a8142cd",
   "metadata": {},
   "outputs": [
    {
     "data": {
      "text/plain": [
       "['gmail', 'facebook']"
      ]
     },
     "execution_count": 11,
     "metadata": {},
     "output_type": "execute_result"
    }
   ],
   "source": [
    "urls = [\n",
    "    \"http://gmail.com\",\n",
    "    \"http://facebook.com\"\n",
    "]\n",
    "# Create a ray object from the entire python object\n",
    "# Maintain one-to-one relation between (ray-object, python-object)\n",
    "instances = ray.put(urls)\n",
    "\n",
    "# Pass only ray object as remote function argument\n",
    "ray.get(func_NOT_to_handle_wrapped.remote(instances))"
   ]
  },
  {
   "cell_type": "markdown",
   "id": "actual-building",
   "metadata": {},
   "source": [
    "## Stop/disconnect"
   ]
  },
  {
   "cell_type": "code",
   "execution_count": 12,
   "id": "textile-presentation",
   "metadata": {},
   "outputs": [],
   "source": [
    "ray.shutdown()"
   ]
  }
 ],
 "metadata": {
  "kernelspec": {
   "display_name": "Python 3 (ipykernel)",
   "language": "python",
   "name": "python3"
  },
  "language_info": {
   "codemirror_mode": {
    "name": "ipython",
    "version": 3
   },
   "file_extension": ".py",
   "mimetype": "text/x-python",
   "name": "python",
   "nbconvert_exporter": "python",
   "pygments_lexer": "ipython3",
   "version": "3.9.13"
  }
 },
 "nbformat": 4,
 "nbformat_minor": 5
}
