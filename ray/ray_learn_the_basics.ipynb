{
 "cells": [
  {
   "cell_type": "markdown",
   "id": "threatened-benefit",
   "metadata": {},
   "source": [
    "# Learn Ray Basics"
   ]
  },
  {
   "cell_type": "code",
   "execution_count": 1,
   "id": "cardiovascular-trailer",
   "metadata": {},
   "outputs": [],
   "source": [
    "# !pip install -q ray"
   ]
  },
  {
   "cell_type": "code",
   "execution_count": 69,
   "id": "61d7d88a",
   "metadata": {},
   "outputs": [],
   "source": [
    "import re\n",
    "import ray"
   ]
  },
  {
   "cell_type": "code",
   "execution_count": 4,
   "id": "enclosed-scientist",
   "metadata": {},
   "outputs": [
    {
     "data": {
      "text/plain": [
       "{'node_ip_address': '192.168.13.128',\n",
       " 'raylet_ip_address': '192.168.13.128',\n",
       " 'redis_address': '192.168.13.128:6379',\n",
       " 'object_store_address': '/tmp/ray/session_2021-12-27_12-37-38_097566_67762/sockets/plasma_store',\n",
       " 'raylet_socket_name': '/tmp/ray/session_2021-12-27_12-37-38_097566_67762/sockets/raylet',\n",
       " 'webui_url': None,\n",
       " 'session_dir': '/tmp/ray/session_2021-12-27_12-37-38_097566_67762',\n",
       " 'metrics_export_port': 58033,\n",
       " 'node_id': '5aa5d433c337fdbfcdee3ca1fcbe1bdbd24f301c159c0add6430ad2d'}"
      ]
     },
     "execution_count": 4,
     "metadata": {},
     "output_type": "execute_result"
    }
   ],
   "source": [
    "ray.init(num_cpus=4, num_gpus=0)"
   ]
  },
  {
   "cell_type": "markdown",
   "id": "appointed-remark",
   "metadata": {},
   "source": [
    "---"
   ]
  },
  {
   "cell_type": "markdown",
   "id": "fb61b13c",
   "metadata": {},
   "source": [
    "# Why ```ray.wait([worker.remote() for i in range(4)])``` fails\n",
    "\n",
    "When a remote function **returns multiple values**, the ```ray.wait([jobs])``` fails. Why?"
   ]
  },
  {
   "cell_type": "code",
   "execution_count": 35,
   "id": "after-grace",
   "metadata": {},
   "outputs": [],
   "source": [
    "@ray.remote(num_returns=2)\n",
    "def worker():\n",
    "    return 'X', 'Y' # <---- Return a list of two objects because of \"num_returns=2\""
   ]
  },
  {
   "cell_type": "code",
   "execution_count": 46,
   "id": "0ee56d9a",
   "metadata": {},
   "outputs": [
    {
     "ename": "TypeError",
     "evalue": "wait() expected a list of ray.ObjectRef, got list containing <class 'list'>",
     "output_type": "error",
     "traceback": [
      "\u001b[0;31m---------------------------------------------------------------------------\u001b[0m",
      "\u001b[0;31mTypeError\u001b[0m                                 Traceback (most recent call last)",
      "\u001b[0;32m/tmp/ipykernel_67762/1343105493.py\u001b[0m in \u001b[0;36m<module>\u001b[0;34m\u001b[0m\n\u001b[0;32m----> 1\u001b[0;31m \u001b[0mray\u001b[0m\u001b[0;34m.\u001b[0m\u001b[0mwait\u001b[0m\u001b[0;34m(\u001b[0m\u001b[0;34m[\u001b[0m\u001b[0mworker\u001b[0m\u001b[0;34m.\u001b[0m\u001b[0mremote\u001b[0m\u001b[0;34m(\u001b[0m\u001b[0;34m)\u001b[0m \u001b[0;32mfor\u001b[0m \u001b[0mi\u001b[0m \u001b[0;32min\u001b[0m \u001b[0mrange\u001b[0m\u001b[0;34m(\u001b[0m\u001b[0;36m4\u001b[0m\u001b[0;34m)\u001b[0m\u001b[0;34m]\u001b[0m\u001b[0;34m)\u001b[0m\u001b[0;34m\u001b[0m\u001b[0;34m\u001b[0m\u001b[0m\n\u001b[0m",
      "\u001b[0;32m~/venv/ml/lib/python3.8/site-packages/ray/_private/client_mode_hook.py\u001b[0m in \u001b[0;36mwrapper\u001b[0;34m(*args, **kwargs)\u001b[0m\n\u001b[1;32m    103\u001b[0m             \u001b[0;32mif\u001b[0m \u001b[0mfunc\u001b[0m\u001b[0;34m.\u001b[0m\u001b[0m__name__\u001b[0m \u001b[0;34m!=\u001b[0m \u001b[0;34m\"init\"\u001b[0m \u001b[0;32mor\u001b[0m \u001b[0mis_client_mode_enabled_by_default\u001b[0m\u001b[0;34m:\u001b[0m\u001b[0;34m\u001b[0m\u001b[0;34m\u001b[0m\u001b[0m\n\u001b[1;32m    104\u001b[0m                 \u001b[0;32mreturn\u001b[0m \u001b[0mgetattr\u001b[0m\u001b[0;34m(\u001b[0m\u001b[0mray\u001b[0m\u001b[0;34m,\u001b[0m \u001b[0mfunc\u001b[0m\u001b[0;34m.\u001b[0m\u001b[0m__name__\u001b[0m\u001b[0;34m)\u001b[0m\u001b[0;34m(\u001b[0m\u001b[0;34m*\u001b[0m\u001b[0margs\u001b[0m\u001b[0;34m,\u001b[0m \u001b[0;34m**\u001b[0m\u001b[0mkwargs\u001b[0m\u001b[0;34m)\u001b[0m\u001b[0;34m\u001b[0m\u001b[0;34m\u001b[0m\u001b[0m\n\u001b[0;32m--> 105\u001b[0;31m         \u001b[0;32mreturn\u001b[0m \u001b[0mfunc\u001b[0m\u001b[0;34m(\u001b[0m\u001b[0;34m*\u001b[0m\u001b[0margs\u001b[0m\u001b[0;34m,\u001b[0m \u001b[0;34m**\u001b[0m\u001b[0mkwargs\u001b[0m\u001b[0;34m)\u001b[0m\u001b[0;34m\u001b[0m\u001b[0;34m\u001b[0m\u001b[0m\n\u001b[0m\u001b[1;32m    106\u001b[0m \u001b[0;34m\u001b[0m\u001b[0m\n\u001b[1;32m    107\u001b[0m     \u001b[0;32mreturn\u001b[0m \u001b[0mwrapper\u001b[0m\u001b[0;34m\u001b[0m\u001b[0;34m\u001b[0m\u001b[0m\n",
      "\u001b[0;32m~/venv/ml/lib/python3.8/site-packages/ray/worker.py\u001b[0m in \u001b[0;36mwait\u001b[0;34m(object_refs, num_returns, timeout, fetch_local)\u001b[0m\n\u001b[1;32m   1772\u001b[0m     \u001b[0;32mfor\u001b[0m \u001b[0mobject_ref\u001b[0m \u001b[0;32min\u001b[0m \u001b[0mobject_refs\u001b[0m\u001b[0;34m:\u001b[0m\u001b[0;34m\u001b[0m\u001b[0;34m\u001b[0m\u001b[0m\n\u001b[1;32m   1773\u001b[0m         \u001b[0;32mif\u001b[0m \u001b[0;32mnot\u001b[0m \u001b[0misinstance\u001b[0m\u001b[0;34m(\u001b[0m\u001b[0mobject_ref\u001b[0m\u001b[0;34m,\u001b[0m \u001b[0mObjectRef\u001b[0m\u001b[0;34m)\u001b[0m\u001b[0;34m:\u001b[0m\u001b[0;34m\u001b[0m\u001b[0;34m\u001b[0m\u001b[0m\n\u001b[0;32m-> 1774\u001b[0;31m             raise TypeError(\"wait() expected a list of ray.ObjectRef, \"\n\u001b[0m\u001b[1;32m   1775\u001b[0m                             f\"got list containing {type(object_ref)}\")\n\u001b[1;32m   1776\u001b[0m \u001b[0;34m\u001b[0m\u001b[0m\n",
      "\u001b[0;31mTypeError\u001b[0m: wait() expected a list of ray.ObjectRef, got list containing <class 'list'>"
     ]
    }
   ],
   "source": [
    "ray.wait([worker.remote() for i in range(4)])"
   ]
  },
  {
   "cell_type": "markdown",
   "id": "fe950da0",
   "metadata": {},
   "source": [
    "## Reason"
   ]
  },
  {
   "cell_type": "markdown",
   "id": "7d522ac1",
   "metadata": {},
   "source": [
    "***```[worker.remote() for i in range(4)]```*** creates ```List[List[ObjectID]]``` which is a **list of lists** where each inner list contains the object references to 'X', 'Y' from each worker as a list. \n",
    "\n",
    "\n",
    "```\n",
    "jobs = [\n",
    "    [object_ref to 'X', object_ref to 'Y'],   # <--- Worker 1 returns a list of ['X', 'Y']\n",
    "    [object_ref to 'X', object_ref to 'Y'],   # <--- Worker 2 returns a list of ['X', 'Y']\n",
    "    [object_ref to 'X', object_ref to 'Y'],   # <--- Worker 3 returns a list of ['X', 'Y']\n",
    "    [object_ref to 'X', object_ref to 'Y'],   # <--- Worker 4 returns a list of ['X', 'Y']\n",
    "]\n",
    "```"
   ]
  },
  {
   "cell_type": "code",
   "execution_count": 47,
   "id": "54f64375",
   "metadata": {},
   "outputs": [
    {
     "name": "stdout",
     "output_type": "stream",
     "text": [
      "Instance type is <class 'list'>. Content is \n",
      "[ObjectRef(7513710212de102affffffffffffffffffffffff0100000001000000), ObjectRef(7513710212de102affffffffffffffffffffffff0100000002000000)]\n",
      "\n",
      "Instance type is <class 'list'>. Content is \n",
      "[ObjectRef(eb7cccec83cc166cffffffffffffffffffffffff0100000001000000), ObjectRef(eb7cccec83cc166cffffffffffffffffffffffff0100000002000000)]\n",
      "\n",
      "Instance type is <class 'list'>. Content is \n",
      "[ObjectRef(21711c35be2858f6ffffffffffffffffffffffff0100000001000000), ObjectRef(21711c35be2858f6ffffffffffffffffffffffff0100000002000000)]\n",
      "\n",
      "Instance type is <class 'list'>. Content is \n",
      "[ObjectRef(5e4556eab3523b9cffffffffffffffffffffffff0100000001000000), ObjectRef(5e4556eab3523b9cffffffffffffffffffffffff0100000002000000)]\n",
      "\n"
     ]
    }
   ],
   "source": [
    "# --------------------------------------------------------------------------------\n",
    "# Verify [worker.remote() for i in range(4)] creates List[List[ObjectID]].\n",
    "# --------------------------------------------------------------------------------\n",
    "jobs = [worker.remote() for i in range(4)]\n",
    "for instance in jobs:\n",
    "    print(f\"Instance type is {type(instance)}. Content is \\n{instance}\\n\")"
   ]
  },
  {
   "cell_type": "markdown",
   "id": "158bc928",
   "metadata": {},
   "source": [
    "```ray.wait(jobs)``` fails as ```jobs``` does not match the function signature expecting **```List[ObjectID]```** becasue it is  **```List[List[ObjectID]]```**.\n",
    "\n",
    "* [ray.wait(object_ids, num_returns=1, timeout=None, worker=<ray.worker.Worker object>)](https://docs.ray.io/en/stable/api.html?highlight=wait#ray.wait)\n",
    "\n",
    "> ### Parameters:\t\n",
    "> * **object_ids (List[ObjectID])** – List of object IDs for objects that may or may not be ready. Note that these IDs must be unique.\n",
    "> *num_returns (int) – The number of object IDs that should be returned.\n",
    "> *timeout (float) – The maximum amount of time in seconds to wait before returning."
   ]
  },
  {
   "cell_type": "code",
   "execution_count": 43,
   "id": "9af0c24d",
   "metadata": {},
   "outputs": [
    {
     "ename": "TypeError",
     "evalue": "wait() expected a list of ray.ObjectRef, got list containing <class 'list'>",
     "output_type": "error",
     "traceback": [
      "\u001b[0;31m---------------------------------------------------------------------------\u001b[0m",
      "\u001b[0;31mTypeError\u001b[0m                                 Traceback (most recent call last)",
      "\u001b[0;32m/tmp/ipykernel_67762/4266122059.py\u001b[0m in \u001b[0;36m<module>\u001b[0;34m\u001b[0m\n\u001b[0;32m----> 1\u001b[0;31m \u001b[0mray\u001b[0m\u001b[0;34m.\u001b[0m\u001b[0mwait\u001b[0m\u001b[0;34m(\u001b[0m\u001b[0mjobs\u001b[0m\u001b[0;34m)\u001b[0m\u001b[0;34m\u001b[0m\u001b[0;34m\u001b[0m\u001b[0m\n\u001b[0m",
      "\u001b[0;32m~/venv/ml/lib/python3.8/site-packages/ray/_private/client_mode_hook.py\u001b[0m in \u001b[0;36mwrapper\u001b[0;34m(*args, **kwargs)\u001b[0m\n\u001b[1;32m    103\u001b[0m             \u001b[0;32mif\u001b[0m \u001b[0mfunc\u001b[0m\u001b[0;34m.\u001b[0m\u001b[0m__name__\u001b[0m \u001b[0;34m!=\u001b[0m \u001b[0;34m\"init\"\u001b[0m \u001b[0;32mor\u001b[0m \u001b[0mis_client_mode_enabled_by_default\u001b[0m\u001b[0;34m:\u001b[0m\u001b[0;34m\u001b[0m\u001b[0;34m\u001b[0m\u001b[0m\n\u001b[1;32m    104\u001b[0m                 \u001b[0;32mreturn\u001b[0m \u001b[0mgetattr\u001b[0m\u001b[0;34m(\u001b[0m\u001b[0mray\u001b[0m\u001b[0;34m,\u001b[0m \u001b[0mfunc\u001b[0m\u001b[0;34m.\u001b[0m\u001b[0m__name__\u001b[0m\u001b[0;34m)\u001b[0m\u001b[0;34m(\u001b[0m\u001b[0;34m*\u001b[0m\u001b[0margs\u001b[0m\u001b[0;34m,\u001b[0m \u001b[0;34m**\u001b[0m\u001b[0mkwargs\u001b[0m\u001b[0;34m)\u001b[0m\u001b[0;34m\u001b[0m\u001b[0;34m\u001b[0m\u001b[0m\n\u001b[0;32m--> 105\u001b[0;31m         \u001b[0;32mreturn\u001b[0m \u001b[0mfunc\u001b[0m\u001b[0;34m(\u001b[0m\u001b[0;34m*\u001b[0m\u001b[0margs\u001b[0m\u001b[0;34m,\u001b[0m \u001b[0;34m**\u001b[0m\u001b[0mkwargs\u001b[0m\u001b[0;34m)\u001b[0m\u001b[0;34m\u001b[0m\u001b[0;34m\u001b[0m\u001b[0m\n\u001b[0m\u001b[1;32m    106\u001b[0m \u001b[0;34m\u001b[0m\u001b[0m\n\u001b[1;32m    107\u001b[0m     \u001b[0;32mreturn\u001b[0m \u001b[0mwrapper\u001b[0m\u001b[0;34m\u001b[0m\u001b[0;34m\u001b[0m\u001b[0m\n",
      "\u001b[0;32m~/venv/ml/lib/python3.8/site-packages/ray/worker.py\u001b[0m in \u001b[0;36mwait\u001b[0;34m(object_refs, num_returns, timeout, fetch_local)\u001b[0m\n\u001b[1;32m   1772\u001b[0m     \u001b[0;32mfor\u001b[0m \u001b[0mobject_ref\u001b[0m \u001b[0;32min\u001b[0m \u001b[0mobject_refs\u001b[0m\u001b[0;34m:\u001b[0m\u001b[0;34m\u001b[0m\u001b[0;34m\u001b[0m\u001b[0m\n\u001b[1;32m   1773\u001b[0m         \u001b[0;32mif\u001b[0m \u001b[0;32mnot\u001b[0m \u001b[0misinstance\u001b[0m\u001b[0;34m(\u001b[0m\u001b[0mobject_ref\u001b[0m\u001b[0;34m,\u001b[0m \u001b[0mObjectRef\u001b[0m\u001b[0;34m)\u001b[0m\u001b[0;34m:\u001b[0m\u001b[0;34m\u001b[0m\u001b[0;34m\u001b[0m\u001b[0m\n\u001b[0;32m-> 1774\u001b[0;31m             raise TypeError(\"wait() expected a list of ray.ObjectRef, \"\n\u001b[0m\u001b[1;32m   1775\u001b[0m                             f\"got list containing {type(object_ref)}\")\n\u001b[1;32m   1776\u001b[0m \u001b[0;34m\u001b[0m\u001b[0m\n",
      "\u001b[0;31mTypeError\u001b[0m: wait() expected a list of ray.ObjectRef, got list containing <class 'list'>"
     ]
    }
   ],
   "source": [
    "ray.wait(jobs)"
   ]
  },
  {
   "cell_type": "markdown",
   "id": "a3b8610d",
   "metadata": {},
   "source": [
    "## Workaround\n",
    "\n",
    "Transform ```List[List[ObjectID]]``` into ```List[ObjectID]``` by flattening it. However, it breaks the semantics of the return ```(X, Y)``` from each function as a unit."
   ]
  },
  {
   "cell_type": "code",
   "execution_count": 44,
   "id": "a578a1ac",
   "metadata": {},
   "outputs": [
    {
     "data": {
      "text/plain": [
       "[ObjectRef(5497aa04f981e4a1ffffffffffffffffffffffff0100000001000000),\n",
       " ObjectRef(5497aa04f981e4a1ffffffffffffffffffffffff0100000002000000),\n",
       " ObjectRef(909a212b104ea2f1ffffffffffffffffffffffff0100000001000000),\n",
       " ObjectRef(909a212b104ea2f1ffffffffffffffffffffffff0100000002000000),\n",
       " ObjectRef(6f4f08f301901921ffffffffffffffffffffffff0100000001000000),\n",
       " ObjectRef(6f4f08f301901921ffffffffffffffffffffffff0100000002000000),\n",
       " ObjectRef(ff1eb204d30f6c0fffffffffffffffffffffffff0100000001000000),\n",
       " ObjectRef(ff1eb204d30f6c0fffffffffffffffffffffffff0100000002000000)]"
      ]
     },
     "execution_count": 44,
     "metadata": {},
     "output_type": "execute_result"
    }
   ],
   "source": [
    "sum(jobs, start=[])"
   ]
  },
  {
   "cell_type": "markdown",
   "id": "d774f73a",
   "metadata": {},
   "source": [
    "# Solution - Relearn the Concept\n",
    "\n",
    "1. Understand **ray.reamote returns object reference(s)**, NOT **ray.remote returns job id** which is wrong.\n",
    "2. Think **ray.wait(object_references)**, NOT **ray.wait(job_ids)**.\n",
    "\n",
    "Tell the ```ray.remote``` function to return single value, **NOT multiple values**."
   ]
  },
  {
   "cell_type": "code",
   "execution_count": 51,
   "id": "b400fc9b",
   "metadata": {},
   "outputs": [],
   "source": [
    "@ray.remote(num_returns=1)\n",
    "def fixed_worker():\n",
    "    return 'X', 'Y' # <--- Returns a single object refeence due to \"num_returns=1\""
   ]
  },
  {
   "cell_type": "code",
   "execution_count": 66,
   "id": "aa0dbe49",
   "metadata": {},
   "outputs": [
    {
     "name": "stdout",
     "output_type": "stream",
     "text": [
      "TaskID(3a4bb9b95c2938a4ffffffffffffffffffffffff01000000) is done. Result is ('X', 'Y')\n",
      "TaskID(9e8c0eaa9bab673cffffffffffffffffffffffff01000000) is done. Result is ('X', 'Y')\n",
      "TaskID(30c04f84db70b40cffffffffffffffffffffffff01000000) is done. Result is ('X', 'Y')\n",
      "TaskID(b6b1bf9bcf8721b5ffffffffffffffffffffffff01000000) is done. Result is ('X', 'Y')\n"
     ]
    }
   ],
   "source": [
    "references_to_future_objects = ([fixed_worker.remote() for i in range(4)])\n",
    "\n",
    "while len(references_to_future_objects):\n",
    "    references_to_available_objects, references_to_future_objects = ray.wait(references_to_future_objects)\n",
    "    for reference in references_to_available_objects:\n",
    "        #print(dir(reference))\n",
    "        print(\"{job_id} is done. Result is {result}\".format(\n",
    "            job_id=reference.task_id(), result=ray.get(reference))\n",
    "        )"
   ]
  },
  {
   "cell_type": "markdown",
   "id": "6f231850",
   "metadata": {},
   "source": [
    "---"
   ]
  },
  {
   "cell_type": "markdown",
   "id": "2db35f80",
   "metadata": {},
   "source": [
    "# Using put/get\n",
    "\n",
    "* [Put and Get](https://docs.ray.io/en/stable/tutorial.html#put-and-get)\n",
    "\n",
    "> ```ray.put(object)``` takes a Python object and copies it to the local object store in the node where it is executed. The local object is **immutable**.\n",
    "> \n",
    "> ```ray.put(object)``` returns a reference which identifies the now remote-able object. If we save it in a variable ```ref``` e.g ```ref = ray.put(x)```, remote functions can take it as its argument and operate on the corresponding **acutual** remote object. **NO NEED to ```ray.get(ref)``` in the remote function** to use the object instance.\n",
    "> \n",
    "> For objects like arrays, we can use shared memory and avoid copying the object. If the remote object does not live on the node where the worker calls ray.get(ref), then the remote object will be transferred first to the node."
   ]
  },
  {
   "cell_type": "code",
   "execution_count": 82,
   "id": "5bfa97a1",
   "metadata": {},
   "outputs": [],
   "source": [
    "@ray.remote(num_returns=1)\n",
    "def runner(instances): # <--- caller passes references \n",
    "    result = []\n",
    "    for obj in instances: # <--- Just use the object without executing ray.get().\n",
    "        match = re.search(r\"http://(.*).com\", obj, re.IGNORECASE)\n",
    "        result.append(match.group(1))\n",
    "        \n",
    "    return result"
   ]
  },
  {
   "cell_type": "code",
   "execution_count": 83,
   "id": "62841a70",
   "metadata": {},
   "outputs": [
    {
     "data": {
      "text/plain": [
       "['gmail', 'facebook']"
      ]
     },
     "execution_count": 83,
     "metadata": {},
     "output_type": "execute_result"
    }
   ],
   "source": [
    "urls = [\n",
    "    \"http://gmail.com\",\n",
    "    \"http://facebook.com\"\n",
    "]\n",
    "reference_to_urls = ray.put(urls)\n",
    "\n",
    "ray.get(runner.remote(reference_to_urls))  # Passing the reference to the object"
   ]
  },
  {
   "cell_type": "markdown",
   "id": "actual-building",
   "metadata": {},
   "source": [
    "## Stop/disconnect"
   ]
  },
  {
   "cell_type": "code",
   "execution_count": 84,
   "id": "textile-presentation",
   "metadata": {},
   "outputs": [],
   "source": [
    "ray.shutdown()"
   ]
  },
  {
   "cell_type": "code",
   "execution_count": null,
   "id": "fad279dd",
   "metadata": {},
   "outputs": [],
   "source": []
  }
 ],
 "metadata": {
  "kernelspec": {
   "display_name": "Python 3 (ipykernel)",
   "language": "python",
   "name": "python3"
  },
  "language_info": {
   "codemirror_mode": {
    "name": "ipython",
    "version": 3
   },
   "file_extension": ".py",
   "mimetype": "text/x-python",
   "name": "python",
   "nbconvert_exporter": "python",
   "pygments_lexer": "ipython3",
   "version": "3.8.10"
  }
 },
 "nbformat": 4,
 "nbformat_minor": 5
}
