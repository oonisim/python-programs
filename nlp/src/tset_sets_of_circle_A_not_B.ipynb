{
 "cells": [
  {
   "cell_type": "code",
   "execution_count": 4,
   "id": "framed-stocks",
   "metadata": {},
   "outputs": [],
   "source": [
    "import numpy as np"
   ]
  },
  {
   "cell_type": "code",
   "execution_count": 7,
   "id": "descending-video",
   "metadata": {},
   "outputs": [],
   "source": [
    "from typing import (\n",
    "    Tuple,\n",
    "    List\n",
    ")\n",
    "import numpy as np\n",
    "from mathematics import (\n",
    "    rotate,\n",
    "    shift,\n",
    "    is_point_inside_sector\n",
    ")\n"
   ]
  },
  {
   "cell_type": "code",
   "execution_count": 11,
   "id": "visible-monitoring",
   "metadata": {},
   "outputs": [],
   "source": [
    "from data import (\n",
    "    sets_in_circles,\n",
    "    set_in_A_not_B\n",
    ")"
   ]
  },
  {
   "cell_type": "code",
   "execution_count": 12,
   "id": "fallen-fellowship",
   "metadata": {},
   "outputs": [],
   "source": [
    "def sets_of_circle_A_not_B(\n",
    "        radius: float, ratio: float = 1.0, m: int = 3, d: int = 2, n: int = 10000\n",
    ") -> Tuple[np.ndarray, np.ndarray]:\n",
    "    \"\"\"Generate m set (A NOT B).\n",
    "        First generate m circles. Let circles[i] be A and circles[i+1] as B.\n",
    "        A is a set of points that form a circle. B as well. Then A_NOT_B is\n",
    "        those point in A but not in B.\n",
    "\n",
    "    Args:\n",
    "        radius: circle radius\n",
    "        ratio: how far to locate a new centre of a circle\n",
    "        d: dimension. 2 only for now\n",
    "        m: number of circles\n",
    "        n: Number of points in a circle\n",
    "    Returns:\n",
    "        [A_NOT_B]: List of A_NOT_B\n",
    "        centre: coordinates of the centre of each circle. Shape (m, 2)\n",
    "    \"\"\"\n",
    "    assert 2 <= m <= n and ratio > 0 and radius > 0.0\n",
    "    circles, centres = sets_in_circles(radius=radius, ratio=ratio, m=m, n=n)\n",
    "    result = []\n",
    "\n",
    "    assert d == 2, \"Only 2 is supported for now\"\n",
    "\n",
    "    for i in range(m):\n",
    "        A = circles[i]\n",
    "        centre_B = centres[(i+1) % m]\n",
    "        A_NOT_B = set_in_A_not_B(A, centre_B, radius)\n",
    "        \n",
    "        print(A_NOT_B.shape)\n",
    "        result.append(A_NOT_B)\n",
    "\n",
    "    return np.array(result), centres\n"
   ]
  },
  {
   "cell_type": "code",
   "execution_count": 16,
   "id": "peripheral-floor",
   "metadata": {},
   "outputs": [
    {
     "name": "stdout",
     "output_type": "stream",
     "text": [
      "(2, 2)\n",
      "(3, 2)\n",
      "(2, 2)\n",
      "[array([[-0.68595   , -0.59704907],\n",
      "       [-0.70704997, -0.30369686]])\n",
      " array([[ 0.51405   , -0.59704907],\n",
      "       [ 1.51991102, -0.48112732],\n",
      "       [ 0.49295003, -0.30369686]])\n",
      " array([[ 0.91991102,  0.55810317],\n",
      "       [-0.10704997,  0.73553363]])]\n"
     ]
    },
    {
     "name": "stderr",
     "output_type": "stream",
     "text": [
      "<ipython-input-12-c1560bd90f84>:33: VisibleDeprecationWarning: Creating an ndarray from ragged nested sequences (which is a list-or-tuple of lists-or-tuples-or ndarrays with different lengths or shapes) is deprecated. If you meant to do this, you must specify 'dtype=object' when creating the ndarray\n",
      "  return np.array(result), centres\n"
     ]
    },
    {
     "data": {
      "text/plain": [
       "array([array([[-0.68595   , -0.59704907],\n",
       "       [-0.70704997, -0.30369686]]),\n",
       "       array([[ 0.51405   , -0.59704907],\n",
       "       [ 1.51991102, -0.48112732],\n",
       "       [ 0.49295003, -0.30369686]]),\n",
       "       array([[ 0.91991102,  0.55810317],\n",
       "       [-0.10704997,  0.73553363]])], dtype=object)"
      ]
     },
     "execution_count": 16,
     "metadata": {},
     "output_type": "execute_result"
    }
   ],
   "source": [
    "M = 3\n",
    "N = 3\n",
    "radius = 1\n",
    "circles, centres = sets_of_circle_A_not_B(radius=radius, ratio=1.2, m=M, n=N)\n",
    "\n",
    "print(circles)\n",
    "\n",
    "np.array(circles)"
   ]
  },
  {
   "cell_type": "code",
   "execution_count": 21,
   "id": "scenic-petroleum",
   "metadata": {},
   "outputs": [
    {
     "name": "stderr",
     "output_type": "stream",
     "text": [
      "<ipython-input-21-cd465a89490d>:13: VisibleDeprecationWarning: Creating an ndarray from ragged nested sequences (which is a list-or-tuple of lists-or-tuples-or ndarrays with different lengths or shapes) is deprecated. If you meant to do this, you must specify 'dtype=object' when creating the ndarray\n",
      "  np.array(d)\n"
     ]
    },
    {
     "data": {
      "text/plain": [
       "array([array([[-0.68595   , -0.59704907],\n",
       "       [-0.70704997, -0.30369686]]),\n",
       "       array([[ 0.51405   , -0.59704907],\n",
       "       [ 1.51991102, -0.48112732],\n",
       "       [ 0.49295003, -0.30369686]]),\n",
       "       array([[ 0.91991102,  0.55810317],\n",
       "       [-0.10704997,  0.73553363]])], dtype=object)"
      ]
     },
     "execution_count": 21,
     "metadata": {},
     "output_type": "execute_result"
    }
   ],
   "source": [
    "a = np.array([\n",
    "    [-0.68595   , -0.59704907],\n",
    "    [-0.70704997, -0.30369686]])\n",
    "b = np.array([\n",
    "    [ 0.51405   , -0.59704907],\n",
    "    [ 1.51991102, -0.48112732],\n",
    "    [ 0.49295003, -0.30369686]])\n",
    "c = np.array([\n",
    "    [ 0.91991102,  0.55810317],\n",
    "    [-0.10704997,  0.73553363]])\n",
    "\n",
    "d = [a, b, c]\n",
    "np.array(d)"
   ]
  }
 ],
 "metadata": {
  "kernelspec": {
   "display_name": "Python 3",
   "language": "python",
   "name": "python3"
  },
  "language_info": {
   "codemirror_mode": {
    "name": "ipython",
    "version": 3
   },
   "file_extension": ".py",
   "mimetype": "text/x-python",
   "name": "python",
   "nbconvert_exporter": "python",
   "pygments_lexer": "ipython3",
   "version": "3.8.8"
  }
 },
 "nbformat": 4,
 "nbformat_minor": 5
}
