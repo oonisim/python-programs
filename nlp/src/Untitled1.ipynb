{
 "cells": [
  {
   "cell_type": "code",
   "execution_count": 1,
   "id": "sitting-importance",
   "metadata": {},
   "outputs": [],
   "source": [
    "import numpy as np"
   ]
  },
  {
   "cell_type": "code",
   "execution_count": 49,
   "id": "industrial-coaching",
   "metadata": {},
   "outputs": [],
   "source": [
    "import sys\n",
    "import numpy as np\n",
    "np.set_printoptions(threshold=sys.maxsize)\n",
    "np.set_printoptions(linewidth=1000) "
   ]
  },
  {
   "cell_type": "code",
   "execution_count": 16,
   "id": "first-filling",
   "metadata": {},
   "outputs": [
    {
     "name": "stdout",
     "output_type": "stream",
     "text": [
      "[[0. 0. 0. 0. 0.]\n",
      " [0. 0. 0. 0. 0.]\n",
      " [0. 0. 0. 0. 0.]]\n",
      "True\n",
      "True\n",
      "[[0. 0. 0. 0. 0.]\n",
      " [0. 1. 1. 0. 0.]\n",
      " [0. 0. 0. 0. 0.]]\n",
      "[[0. 0. 0. 0. 0.]\n",
      " [0. 1. 1. 0. 0.]\n",
      " [0. 0. 0. 0. 0.]]\n",
      "[[0. 0. 0. 0. 0.]\n",
      " [0. 0. 0. 0. 0.]\n",
      " [0. 0. 0. 0. 0.]]\n",
      "True\n"
     ]
    }
   ],
   "source": [
    "a = np.zeros(5 * 3).reshape(3, 5)\n",
    "b = a\n",
    "print(a)\n",
    "print (np.may_share_memory(a, b))\n",
    "a[\n",
    "    1:4:3,\n",
    "    (1,2)\n",
    "] = 1\n",
    "#c = 1\n",
    "print (np.may_share_memory(a, b))\n",
    "print(a)\n",
    "print(b)\n",
    "a[1:4:3, (1,2)] = np.dot(a[1:4:3, (1,2)], 0)\n",
    "print(a)\n",
    "print (np.may_share_memory(a, b))"
   ]
  },
  {
   "cell_type": "code",
   "execution_count": 36,
   "id": "nearby-palestinian",
   "metadata": {},
   "outputs": [
    {
     "name": "stdout",
     "output_type": "stream",
     "text": [
      "[ True False False False False False False False]\n",
      "True\n"
     ]
    },
    {
     "data": {
      "text/plain": [
       "array([[ 0.        ,  0.63401531, -0.02272114, -1.32074605, -0.37547971,  1.24397671,  0.04377315, -0.85318264],\n",
       "       [ 0.        ,  1.39898499, -0.94798154, -0.46228464, -0.74397546, -0.1951366 ,  0.13388639,  1.36570077],\n",
       "       [ 0.        , -0.21252002, -0.05020735,  0.1509649 ,  0.49312099, -0.22747285,  0.11895831, -0.11739548],\n",
       "       [ 0.        ,  1.25931439, -1.06279398, -0.4665774 ,  1.92634438,  1.2646767 ,  1.18250327, -0.57750535],\n",
       "       [ 0.        , -0.60484621,  0.49956358,  0.36734102, -1.61717771, -1.79568549, -0.44486284, -1.28799455],\n",
       "       [ 0.        ,  1.27204747, -0.86128076,  1.50000584,  1.19194821,  0.37859158, -1.44311422,  1.61931129],\n",
       "       [ 0.        , -0.43778543,  1.15454473,  1.10723193, -0.40478027,  0.81581754, -1.79623246,  0.01655473],\n",
       "       [ 0.        , -0.7530228 ,  2.26612817, -1.03240685, -0.47595658, -1.55076569,  1.09041356,  0.01640809],\n",
       "       [ 0.        , -1.26981086, -0.6170983 ,  1.32571566, -0.67714719, -0.36878714, -0.2333929 , -1.26599335],\n",
       "       [ 0.        , -1.28637685, -0.35815341, -1.16924441,  0.68310334,  0.43478524,  1.34806774,  1.0840965 ]])"
      ]
     },
     "execution_count": 36,
     "metadata": {},
     "output_type": "execute_result"
    }
   ],
   "source": [
    "\n",
    "X = np.random.randn(10, 8)\n",
    "X[\n",
    "    ::,\n",
    "    0\n",
    "] = 0\n",
    "\n",
    "out = np.copy(X)\n",
    "Y = out\n",
    "\n",
    "N = X.shape[0]\n",
    "mean = np.sum(X, axis=0) / N    # mean of each feature\n",
    "deviation = X - mean\n",
    "variance = np.var(X, axis=0)\n",
    "sd = np.sqrt(variance)\n",
    "\n",
    "mask = (sd == 0.0)\n",
    "print(mask)\n",
    "if np.any(mask):\n",
    "    # Temporary replace the zero elements with one\n",
    "    sd[mask] = 1.0\n",
    "\n",
    "    # reuse deviation memory area\n",
    "    out = deviation if out is None else out\n",
    "\n",
    "    # standardize and zero clear the mask elements\n",
    "    standardized = np.divide(deviation, sd, out)\n",
    "    out[::, mask] = 0.0\n",
    "\n",
    "    # restore sd\n",
    "    sd[mask] = 0.0\n",
    "\n",
    "else:\n",
    "    standardized = np.divide(deviation, sd, out)\n",
    "\n",
    "assert np.all(np.isfinite(standardized))\n",
    "print (np.may_share_memory(a, b))\n",
    "\n"
   ]
  },
  {
   "cell_type": "code",
   "execution_count": 37,
   "id": "international-cycle",
   "metadata": {},
   "outputs": [
    {
     "name": "stderr",
     "output_type": "stream",
     "text": [
      "/home/oonisim/conda/envs/python_programs/lib/python3.8/site-packages/numpy/core/_methods.py:233: RuntimeWarning: Degrees of freedom <= 0 for slice\n",
      "  ret = _var(a, axis=axis, dtype=dtype, out=out, ddof=ddof,\n",
      "/home/oonisim/conda/envs/python_programs/lib/python3.8/site-packages/numpy/core/_methods.py:226: RuntimeWarning: invalid value encountered in double_scalars\n",
      "  ret = ret.dtype.type(ret / rcount)\n"
     ]
    },
    {
     "data": {
      "text/plain": [
       "nan"
      ]
     },
     "execution_count": 37,
     "metadata": {},
     "output_type": "execute_result"
    }
   ],
   "source": [
    "np.std([1], ddof=1)"
   ]
  },
  {
   "cell_type": "code",
   "execution_count": 51,
   "id": "substantial-sudan",
   "metadata": {},
   "outputs": [
    {
     "data": {
      "text/plain": [
       "(5, 11)"
      ]
     },
     "execution_count": 51,
     "metadata": {},
     "output_type": "execute_result"
    }
   ],
   "source": [
    "num_nodes = 5\n",
    "D = 10\n",
    "W = np.random.rand(num_nodes, D)\n",
    "W = np.c_[\n",
    "    np.random.uniform(-1, 1, num_nodes),\n",
    "    W\n",
    "]\n",
    "W.shape"
   ]
  },
  {
   "cell_type": "code",
   "execution_count": 2,
   "id": "political-jesus",
   "metadata": {},
   "outputs": [
    {
     "data": {
      "text/plain": [
       "10000.0"
      ]
     },
     "execution_count": 2,
     "metadata": {},
     "output_type": "execute_result"
    }
   ],
   "source": [
    "import numpy as np\n",
    "1 / np.sqrt(1e-8)"
   ]
  }
 ],
 "metadata": {
  "kernelspec": {
   "display_name": "Python 3",
   "language": "python",
   "name": "python3"
  },
  "language_info": {
   "codemirror_mode": {
    "name": "ipython",
    "version": 3
   },
   "file_extension": ".py",
   "mimetype": "text/x-python",
   "name": "python",
   "nbconvert_exporter": "python",
   "pygments_lexer": "ipython3",
   "version": "3.8.8"
  }
 },
 "nbformat": 4,
 "nbformat_minor": 5
}
