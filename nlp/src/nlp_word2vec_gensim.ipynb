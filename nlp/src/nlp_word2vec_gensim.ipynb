{
 "cells": [
  {
   "cell_type": "code",
   "execution_count": 1,
   "id": "e3148652",
   "metadata": {},
   "outputs": [
    {
     "name": "stderr",
     "output_type": "stream",
     "text": [
      "/home/oonisim/conda/envs/python_programs/lib/python3.8/site-packages/gensim/similarities/__init__.py:15: UserWarning: The gensim.similarities.levenshtein submodule is disabled, because the optional Levenshtein package <https://pypi.org/project/python-Levenshtein/> is unavailable. Install Levenhstein (e.g. `pip install python-Levenshtein`) to suppress this warning.\n",
      "  warnings.warn(msg)\n"
     ]
    }
   ],
   "source": [
    "from gensim.models import (\n",
    "    Word2Vec\n",
    ")\n",
    "from gensim.models.word2vec import (\n",
    "    LineSentence    \n",
    ")"
   ]
  },
  {
   "cell_type": "code",
   "execution_count": 2,
   "id": "5dbcf183",
   "metadata": {},
   "outputs": [],
   "source": [
    "sentences = LineSentence(source=\"~/.keras/datasets/ptb.train.txt\")"
   ]
  },
  {
   "cell_type": "code",
   "execution_count": 3,
   "id": "3392e385",
   "metadata": {},
   "outputs": [],
   "source": [
    "w2v = Word2Vec(\n",
    "    sentences=sentences, \n",
    "    sg=0,\n",
    "    window=5, \n",
    "    negative=5,\n",
    "    vector_size=100, \n",
    "    min_count=1, \n",
    "    workers=4\n",
    ")"
   ]
  },
  {
   "cell_type": "code",
   "execution_count": 4,
   "id": "861854e6",
   "metadata": {},
   "outputs": [],
   "source": [
    "w2v.save(\"/home/oonisim/home/repository/git/oonisim/python_programs/nlp/models/gensim_w2v_vecsize_100\")"
   ]
  },
  {
   "cell_type": "code",
   "execution_count": 13,
   "id": "7024eb31",
   "metadata": {},
   "outputs": [
    {
     "data": {
      "text/plain": [
       "[('debt', 0.9054384827613831),\n",
       " ('amount', 0.8748841881752014),\n",
       " ('payment', 0.8661526441574097),\n",
       " ('payments', 0.847389817237854),\n",
       " ('dividend', 0.8301917314529419),\n",
       " ('reserves', 0.8294264078140259),\n",
       " ('assets', 0.8241345286369324),\n",
       " ('face', 0.8196620941162109),\n",
       " ('value', 0.8118517398834229),\n",
       " ('proceeds', 0.8109071850776672)]"
      ]
     },
     "execution_count": 13,
     "metadata": {},
     "output_type": "execute_result"
    }
   ],
   "source": [
    "w2v.wv.most_similar('cash', topn=10)"
   ]
  },
  {
   "cell_type": "code",
   "execution_count": null,
   "id": "eda476cf",
   "metadata": {},
   "outputs": [],
   "source": []
  },
  {
   "cell_type": "code",
   "execution_count": null,
   "id": "d6a35bbd",
   "metadata": {},
   "outputs": [],
   "source": []
  }
 ],
 "metadata": {
  "kernelspec": {
   "display_name": "Python 3",
   "language": "python",
   "name": "python3"
  },
  "language_info": {
   "codemirror_mode": {
    "name": "ipython",
    "version": 3
   },
   "file_extension": ".py",
   "mimetype": "text/x-python",
   "name": "python",
   "nbconvert_exporter": "python",
   "pygments_lexer": "ipython3",
   "version": "3.8.8"
  }
 },
 "nbformat": 4,
 "nbformat_minor": 5
}
