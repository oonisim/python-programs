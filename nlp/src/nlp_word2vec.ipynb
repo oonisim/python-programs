{
 "cells": [
  {
   "cell_type": "markdown",
   "metadata": {},
   "source": [
    "# word2vec implementation"
   ]
  },
  {
   "cell_type": "code",
   "execution_count": 1,
   "metadata": {},
   "outputs": [],
   "source": [
    "import sys\n",
    "import os\n",
    "import re\n",
    "from typing import Dict, List\n",
    "import numpy as np\n",
    "import tensorflow as tf\n",
    "\n",
    "np.set_printoptions(threshold=sys.maxsize)\n",
    "np.set_printoptions(linewidth=400) \n",
    "\n",
    "%load_ext line_profiler\n",
    "%load_ext autoreload"
   ]
  },
  {
   "cell_type": "code",
   "execution_count": 32,
   "metadata": {},
   "outputs": [],
   "source": [
    "from itertools import islice\n",
    "\n",
    "def take(n, iterable):\n",
    "    \"Return first n items of the iterable as a list\"\n",
    "    return list(islice(iterable, n))"
   ]
  },
  {
   "cell_type": "markdown",
   "metadata": {},
   "source": [
    "# Overview\n",
    "<img src=\"image/word2vec_cbow_mechanism.png\" align=\"left\"/>"
   ]
  },
  {
   "cell_type": "markdown",
   "metadata": {},
   "source": [
    "# Constants"
   ]
  },
  {
   "cell_type": "code",
   "execution_count": 4,
   "metadata": {},
   "outputs": [],
   "source": [
    "USE_PTB = True\n",
    "DEBUG = False\n",
    "VALIDATION = True"
   ]
  },
  {
   "cell_type": "markdown",
   "metadata": {},
   "source": [
    "# Text utilities"
   ]
  },
  {
   "cell_type": "code",
   "execution_count": 5,
   "metadata": {},
   "outputs": [],
   "source": [
    "%autoreload 2\n",
    "import function.fileio as fileio"
   ]
  },
  {
   "cell_type": "markdown",
   "metadata": {},
   "source": [
    "# Corpus"
   ]
  },
  {
   "cell_type": "code",
   "execution_count": 6,
   "metadata": {},
   "outputs": [],
   "source": [
    "corpus = \"To be, or not to be, that is the question that matters\"\n",
    "_file = \"ptb.train.txt\"\n",
    "if USE_PTB:\n",
    "    if not fileio.Function.is_file(f\"~/.keras/datasets/{_file}\"):\n",
    "        path_to_ptb = tf.keras.utils.get_file(\n",
    "            _file, \n",
    "            f'https://raw.githubusercontent.com/tomsercu/lstm/master/data/{_file}'\n",
    "        )\n",
    "    corpus = fileio.Function.read_file(path_to_ptb)"
   ]
  },
  {
   "cell_type": "markdown",
   "metadata": {},
   "source": [
    "# Word indexing"
   ]
  },
  {
   "cell_type": "code",
   "execution_count": 7,
   "metadata": {},
   "outputs": [],
   "source": [
    "%autoreload 2\n",
    "from layer.preprocessing import (\n",
    "    WordIndexing, \n",
    "    EventContext\n",
    ")"
   ]
  },
  {
   "cell_type": "markdown",
   "metadata": {},
   "source": [
    "## WordIndexing instance for the corpus\n",
    "\n",
    "Adapt to the ```corpus``` and provides:\n",
    "* word_to_index dictionary\n",
    "* vocaburary of the corpus\n",
    "* word occurrence probabilites"
   ]
  },
  {
   "cell_type": "code",
   "execution_count": 8,
   "metadata": {},
   "outputs": [],
   "source": [
    "word_indexing = WordIndexing(\n",
    "    name=\"word_indexing_on_ptb\",\n",
    "    corpus=corpus\n",
    ")"
   ]
  },
  {
   "cell_type": "code",
   "execution_count": 47,
   "metadata": {},
   "outputs": [
    {
     "name": "stdout",
     "output_type": "stream",
     "text": [
      "WordIndexing.vocabulary[10]:\n",
      "['<nil>' '<unk>' 'searched' 'studies' 'thief' 'casino' 'types' 'maturities' 'breeding' 'greece']\n",
      "\n",
      "WordIndexing.word_to_index[10]:\n",
      "('<nil>', 0)\n",
      "('<unk>', 1)\n",
      "('searched', 2)\n",
      "('studies', 3)\n",
      "('thief', 4)\n",
      "('casino', 5)\n",
      "('types', 6)\n",
      "('maturities', 7)\n",
      "('breeding', 8)\n",
      "('greece', 9)\n",
      "\n",
      "WordIndexing.probabilities[10]:\n",
      "<unk>          : 0.05056069360915978\n",
      "searched       : 6.738430956351814e-06\n",
      "studies        : 5.6153591302931785e-05\n",
      "thief          : 6.738430956351814e-06\n",
      "casino         : 3.4815226607817707e-05\n",
      "types          : 4.8292088520521335e-05\n",
      "maturities     : 2.0215292869055442e-05\n",
      "breeding       : 1.0107646434527721e-05\n",
      "greece         : 1.2353790086644994e-05\n"
     ]
    }
   ],
   "source": [
    "print(f\"WordIndexing.vocabulary[10]:\\n{word_indexing.vocabulary[:10]}\\n\")\n",
    "print(f\"WordIndexing.word_to_index[10]:\")\n",
    "for item in take(10, word_indexing.word_to_index.items()):\n",
    "    print(item)\n",
    "\n",
    "print(f\"\\nWordIndexing.probabilities[10]:\")\n",
    "for item in take(10, word_indexing.word_to_index.items())[1:11]:\n",
    "    print(f\"{item[0]:15}: {word_indexing.probabilities[item[0]]}\")\n"
   ]
  },
  {
   "cell_type": "markdown",
   "metadata": {},
   "source": [
    "## Sentence to Sequence"
   ]
  },
  {
   "cell_type": "code",
   "execution_count": 70,
   "metadata": {},
   "outputs": [
    {
     "name": "stdout",
     "output_type": "stream",
     "text": [
      "a               :  8247\n",
      "form            :  7193\n",
      "of              :  3321\n",
      "asbestos        :  4493\n",
      "once            :  1135\n",
      "used            :  8523\n",
      "to              :  8915\n",
      "make            :  7610\n",
      "kent            :  4155\n",
      "cigarette       :  5657\n",
      "filters         :  8219\n",
      "has             :  2619\n",
      "caused          :  4180\n",
      "a               :  8247\n",
      "high            :  2959\n",
      "percentage      :   489\n",
      "of              :  3321\n",
      "cancer          :  4578\n",
      "deaths          :  1111\n",
      "among           :  7426\n",
      "a               :  8247\n",
      "group           :  8534\n",
      "of              :  3321\n",
      "workers         :  1104\n",
      "exposed         :  7914\n",
      "to              :  8915\n",
      "it              :  5477\n",
      "more            :  3399\n",
      "than            :  4280\n",
      "N               :  3576\n",
      "years           :  7598\n",
      "ago             :  7851\n",
      "researchers     :   393\n",
      "reported        :  9189\n"
     ]
    }
   ],
   "source": [
    "sentences = \"\\n\".join(corpus.split('\\n')[4:5])\n",
    "sequences = word_indexing.function(sentences)\n",
    "for pair in zip(sentences.strip().split(\" \"), sequences[0]):\n",
    "    print(f\"{pair[0]:15} : {pair[1]:5}\")\n"
   ]
  }
 ],
 "metadata": {
  "kernelspec": {
   "display_name": "Python 3",
   "language": "python",
   "name": "python3"
  },
  "language_info": {
   "codemirror_mode": {
    "name": "ipython",
    "version": 3
   },
   "file_extension": ".py",
   "mimetype": "text/x-python",
   "name": "python",
   "nbconvert_exporter": "python",
   "pygments_lexer": "ipython3",
   "version": "3.8.8"
  }
 },
 "nbformat": 4,
 "nbformat_minor": 4
}
