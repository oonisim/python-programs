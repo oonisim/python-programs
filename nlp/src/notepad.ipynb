{
 "cells": [
  {
   "cell_type": "code",
   "execution_count": 1,
   "id": "sitting-importance",
   "metadata": {},
   "outputs": [],
   "source": [
    "import numpy as np\n",
    "import tensorflow as tf"
   ]
  },
  {
   "cell_type": "code",
   "execution_count": 4,
   "id": "52fbb893",
   "metadata": {},
   "outputs": [
    {
     "data": {
      "text/plain": [
       "<tf.Tensor: shape=(1,), dtype=int32, numpy=array([2], dtype=int32)>"
      ]
     },
     "execution_count": 4,
     "metadata": {},
     "output_type": "execute_result"
    }
   ],
   "source": [
    "x = tf.constant((1,2))\n",
    "x = x[x > 1]\n",
    "x"
   ]
  },
  {
   "cell_type": "code",
   "execution_count": 4,
   "metadata": {},
   "outputs": [
    {
     "name": "stdout",
     "output_type": "stream",
     "text": [
      "[[[ 0  1  2  3]\n",
      "  [ 4  5  6  7]\n",
      "  [ 8  9 10 11]]]\n",
      "[[[0]\n",
      "  [1]\n",
      "  [2]]]\n"
     ]
    },
    {
     "data": {
      "text/plain": [
       "array([[20, 23, 26, 29]])"
      ]
     },
     "execution_count": 4,
     "metadata": {},
     "output_type": "execute_result"
    }
   ],
   "source": [
    "a = np.arange(12).reshape(1,3,4)\n",
    "b = np.arange(3).reshape(1,3,1)\n",
    "print(a)\n",
    "print(b)\n",
    "np.einsum(\"ncd,ncd->nd\", a, b)"
   ]
  },
  {
   "cell_type": "code",
   "execution_count": 25,
   "id": "65c62f64",
   "metadata": {},
   "outputs": [
    {
     "ename": "AssertionError",
     "evalue": "",
     "output_type": "error",
     "traceback": [
      "\u001b[0;31m---------------------------------------------------------------------------\u001b[0m",
      "\u001b[0;31mAssertionError\u001b[0m                            Traceback (most recent call last)",
      "\u001b[0;32m<ipython-input-25-7389c4d0951b>\u001b[0m in \u001b[0;36m<module>\u001b[0;34m\u001b[0m\n\u001b[1;32m     21\u001b[0m     \u001b[0;32mreturn\u001b[0m \u001b[0mmax_length\u001b[0m\u001b[0;34m\u001b[0m\u001b[0;34m\u001b[0m\u001b[0m\n\u001b[1;32m     22\u001b[0m \u001b[0;34m\u001b[0m\u001b[0m\n\u001b[0;32m---> 23\u001b[0;31m \u001b[0mmax_line_in_sentences\u001b[0m\u001b[0;34m(\u001b[0m\u001b[0mbbc_world_us_canada_56988381\u001b[0m\u001b[0;34m)\u001b[0m\u001b[0;34m\u001b[0m\u001b[0;34m\u001b[0m\u001b[0m\n\u001b[0m",
      "\u001b[0;32m<ipython-input-25-7389c4d0951b>\u001b[0m in \u001b[0;36mmax_line_in_sentences\u001b[0;34m(sentences)\u001b[0m\n\u001b[1;32m     16\u001b[0m     \u001b[0mmax_length\u001b[0m \u001b[0;34m=\u001b[0m \u001b[0;36m0\u001b[0m\u001b[0;34m\u001b[0m\u001b[0;34m\u001b[0m\u001b[0m\n\u001b[1;32m     17\u001b[0m     \u001b[0;32mfor\u001b[0m \u001b[0mline\u001b[0m \u001b[0;32min\u001b[0m \u001b[0msentences\u001b[0m\u001b[0;34m.\u001b[0m\u001b[0msplit\u001b[0m\u001b[0;34m(\u001b[0m\u001b[0mEOL\u001b[0m\u001b[0;34m)\u001b[0m\u001b[0;34m:\u001b[0m\u001b[0;34m\u001b[0m\u001b[0;34m\u001b[0m\u001b[0m\n\u001b[0;32m---> 18\u001b[0;31m         \u001b[0msentence\u001b[0m \u001b[0;34m=\u001b[0m \u001b[0mtext\u001b[0m\u001b[0;34m.\u001b[0m\u001b[0mFunction\u001b[0m\u001b[0;34m.\u001b[0m\u001b[0mstandardize\u001b[0m\u001b[0;34m(\u001b[0m\u001b[0mline\u001b[0m\u001b[0;34m)\u001b[0m\u001b[0;34m\u001b[0m\u001b[0;34m\u001b[0m\u001b[0m\n\u001b[0m\u001b[1;32m     19\u001b[0m         \u001b[0mmax_length\u001b[0m \u001b[0;34m=\u001b[0m \u001b[0mmax\u001b[0m\u001b[0;34m(\u001b[0m\u001b[0mmax_length\u001b[0m\u001b[0;34m,\u001b[0m \u001b[0mlen\u001b[0m\u001b[0;34m(\u001b[0m\u001b[0msentence\u001b[0m\u001b[0;34m.\u001b[0m\u001b[0msplit\u001b[0m\u001b[0;34m(\u001b[0m\u001b[0mSPACE\u001b[0m\u001b[0;34m)\u001b[0m\u001b[0;34m)\u001b[0m\u001b[0;34m)\u001b[0m\u001b[0;34m\u001b[0m\u001b[0;34m\u001b[0m\u001b[0m\n\u001b[1;32m     20\u001b[0m \u001b[0;34m\u001b[0m\u001b[0m\n",
      "\u001b[0;32m~/home/repository/git/oonisim/python_programs/nlp/src/function/text/text.py\u001b[0m in \u001b[0;36mstandardize\u001b[0;34m(text)\u001b[0m\n\u001b[1;32m    100\u001b[0m             \u001b[0mstandardized\u001b[0m\u001b[0;34m:\u001b[0m \u001b[0mstandardized\u001b[0m \u001b[0mtext\u001b[0m\u001b[0;34m\u001b[0m\u001b[0;34m\u001b[0m\u001b[0m\n\u001b[1;32m    101\u001b[0m         \"\"\"\n\u001b[0;32m--> 102\u001b[0;31m         \u001b[0;32massert\u001b[0m \u001b[0misinstance\u001b[0m\u001b[0;34m(\u001b[0m\u001b[0mtext\u001b[0m\u001b[0;34m,\u001b[0m \u001b[0mstr\u001b[0m\u001b[0;34m)\u001b[0m \u001b[0;32mand\u001b[0m \u001b[0mlen\u001b[0m\u001b[0;34m(\u001b[0m\u001b[0mtext\u001b[0m\u001b[0;34m)\u001b[0m \u001b[0;34m>\u001b[0m \u001b[0;36m0\u001b[0m\u001b[0;34m\u001b[0m\u001b[0;34m\u001b[0m\u001b[0m\n\u001b[0m\u001b[1;32m    103\u001b[0m         \u001b[0;31m# --------------------------------------------------------------------------------\u001b[0m\u001b[0;34m\u001b[0m\u001b[0;34m\u001b[0m\u001b[0;34m\u001b[0m\u001b[0m\n\u001b[1;32m    104\u001b[0m         \u001b[0;31m# https://stackoverflow.com/a/67165082/4281353\u001b[0m\u001b[0;34m\u001b[0m\u001b[0;34m\u001b[0m\u001b[0;34m\u001b[0m\u001b[0m\n",
      "\u001b[0;31mAssertionError\u001b[0m: "
     ]
    }
   ],
   "source": [
    "bbc_world_us_canada_56988381 = \"\"\"\n",
    "Mr Biden said at the White House on Monday: 'In two months let's celebrate independence as a nation and our independence from this virus. We can do this. We will do this.\n",
    "The Democratic president also announced a new website, vaccines.gov, that Americans can use to more easily find vaccination sites after widespread complaints that the sign-up process was too difficult for some.\n",
    "\"\"\"\n",
    "\n",
    "\n",
    "len(bbc_world_us_canada_56988381.split(' '))\n",
    "\n",
    "def max_line_in_sentences(sentences):\n",
    "    from common.constant import (\n",
    "        EOL,\n",
    "        SPACE\n",
    "    )\n",
    "\n",
    "    max_length = 0\n",
    "    for line in sentences.split('\\n'):\n",
    "        sentence = standardize(line)\n",
    "        max_length = max(max_length, len(sentence.split(' ')))\n",
    "\n",
    "    return max_length\n",
    "\n",
    "max_line_in_sentences(bbc_world_us_canada_56988381)"
   ]
  },
  {
   "cell_type": "code",
   "execution_count": 2,
   "id": "opened-cover",
   "metadata": {},
   "outputs": [],
   "source": [
    "class Hoge:\n",
    "    def __init__(self):\n",
    "        self._attr = \"tako\"\n",
    "\n",
    "    def rm(self):\n",
    "        del self._attr\n"
   ]
  },
  {
   "cell_type": "code",
   "execution_count": 3,
   "id": "emotional-instruction",
   "metadata": {},
   "outputs": [],
   "source": [
    "hoge = Hoge()\n",
    "hoge.rm()"
   ]
  },
  {
   "cell_type": "code",
   "execution_count": 9,
   "id": "8c6a5237",
   "metadata": {},
   "outputs": [
    {
     "ename": "TypeError",
     "evalue": "isinstance() arg 2 must be a type or tuple of types",
     "output_type": "error",
     "traceback": [
      "\u001b[0;31m---------------------------------------------------------------------------\u001b[0m",
      "\u001b[0;31mTypeError\u001b[0m                                 Traceback (most recent call last)",
      "\u001b[0;32m<ipython-input-9-c75542372039>\u001b[0m in \u001b[0;36m<module>\u001b[0;34m\u001b[0m\n\u001b[1;32m      1\u001b[0m \u001b[0mx\u001b[0m \u001b[0;34m=\u001b[0m \u001b[0mnp\u001b[0m\u001b[0;34m.\u001b[0m\u001b[0marray\u001b[0m\u001b[0;34m(\u001b[0m\u001b[0;34m[\u001b[0m\u001b[0;36m1\u001b[0m\u001b[0;34m]\u001b[0m\u001b[0;34m,\u001b[0m \u001b[0mdtype\u001b[0m\u001b[0;34m=\u001b[0m\u001b[0mnp\u001b[0m\u001b[0;34m.\u001b[0m\u001b[0mfloat32\u001b[0m\u001b[0;34m)\u001b[0m\u001b[0;34m\u001b[0m\u001b[0;34m\u001b[0m\u001b[0m\n\u001b[0;32m----> 2\u001b[0;31m \u001b[0misinstance\u001b[0m\u001b[0;34m(\u001b[0m\u001b[0mx\u001b[0m\u001b[0;34m.\u001b[0m\u001b[0mdtype\u001b[0m\u001b[0;34m,\u001b[0m \u001b[0mnp\u001b[0m\u001b[0;34m.\u001b[0m\u001b[0mdtype\u001b[0m\u001b[0;34m(\u001b[0m\u001b[0mnp\u001b[0m\u001b[0;34m.\u001b[0m\u001b[0mfloat32\u001b[0m\u001b[0;34m)\u001b[0m\u001b[0;34m)\u001b[0m\u001b[0;34m\u001b[0m\u001b[0;34m\u001b[0m\u001b[0m\n\u001b[0m",
      "\u001b[0;31mTypeError\u001b[0m: isinstance() arg 2 must be a type or tuple of types"
     ]
    }
   ],
   "source": [
    "x = np.array([1], dtype=np.float32)"
   ]
  },
  {
   "cell_type": "code",
   "execution_count": 20,
   "id": "conditional-bulgarian",
   "metadata": {},
   "outputs": [],
   "source": [
    "def is_same_dtype(dtype_a, dtype_b):\n",
    "    return tf.dtypes.as_dtype(dtype_a) == tf.dtypes.as_dtype(dtype_b)\n"
   ]
  },
  {
   "cell_type": "code",
   "execution_count": 21,
   "id": "3f017f82",
   "metadata": {},
   "outputs": [
    {
     "data": {
      "text/plain": [
       "False"
      ]
     },
     "execution_count": 21,
     "metadata": {},
     "output_type": "execute_result"
    }
   ],
   "source": [
    "is_same_dtype(x.dtype, np.int32)"
   ]
  },
  {
   "cell_type": "code",
   "execution_count": 13,
   "id": "industrial-coaching",
   "metadata": {},
   "outputs": [],
   "source": [
    "import sys\n",
    "import numpy as np\n",
    "np.set_printoptions(threshold=sys.maxsize)\n",
    "np.set_printoptions(linewidth=1000) "
   ]
  },
  {
   "cell_type": "code",
   "execution_count": 30,
   "id": "civilian-pressure",
   "metadata": {},
   "outputs": [
    {
     "data": {
      "text/plain": [
       "array([1, 3, 5, 7])"
      ]
     },
     "execution_count": 30,
     "metadata": {},
     "output_type": "execute_result"
    }
   ],
   "source": [
    "indices= (1,3,5,7)\n",
    "indices = range(1, 8, 2)\n",
    "X = np.arange(15)\n",
    "X[list(iter(indices))]"
   ]
  },
  {
   "cell_type": "code",
   "execution_count": 23,
   "id": "understanding-lease",
   "metadata": {},
   "outputs": [
    {
     "data": {
      "text/plain": [
       "<tf.Tensor: shape=(), dtype=bool, numpy=True>"
      ]
     },
     "execution_count": 23,
     "metadata": {},
     "output_type": "execute_result"
    }
   ],
   "source": [
    "value = [\"a\", \"b\", \"c\"]\n",
    "X = tf.convert_to_tensor(\n",
    "    value, dtype=None, dtype_hint=None, name=None\n",
    ")\n",
    "X[0] == \"a\""
   ]
  },
  {
   "cell_type": "code",
   "execution_count": 3,
   "id": "moral-memorial",
   "metadata": {},
   "outputs": [],
   "source": [
    "import re\n",
    "import string"
   ]
  },
  {
   "cell_type": "code",
   "execution_count": 11,
   "id": "bridal-contact",
   "metadata": {},
   "outputs": [
    {
     "data": {
      "text/plain": [
       "'(?:(?!<unk>)[\\\\W_](?<!<unk>))+'"
      ]
     },
     "execution_count": 11,
     "metadata": {},
     "output_type": "execute_result"
    }
   ],
   "source": [
    "UNK=\"<UNK>\"\n",
    "rf'(?:(?!{UNK.lower()})[\\W_](?<!{UNK.lower()}))+'"
   ]
  },
  {
   "cell_type": "code",
   "execution_count": 7,
   "id": "differential-lucas",
   "metadata": {},
   "outputs": [
    {
     "data": {
      "text/plain": [
       "'(?:(?!<a>)[\\\\W_](?<!<unk>))+'"
      ]
     },
     "execution_count": 7,
     "metadata": {},
     "output_type": "execute_result"
    }
   ],
   "source": []
  },
  {
   "cell_type": "code",
   "execution_count": null,
   "id": "aboriginal-edward",
   "metadata": {},
   "outputs": [],
   "source": []
  },
  {
   "cell_type": "code",
   "execution_count": 3,
   "id": "first-filling",
   "metadata": {},
   "outputs": [
    {
     "name": "stdout",
     "output_type": "stream",
     "text": [
      "[[0. 0. 0. 0. 0.]\n",
      " [0. 0. 0. 0. 0.]\n",
      " [0. 0. 0. 0. 0.]]\n",
      "True\n",
      "True\n",
      "[[0. 0. 0. 0. 0.]\n",
      " [0. 1. 1. 0. 0.]\n",
      " [0. 0. 0. 0. 0.]]\n",
      "[[0. 0. 0. 0. 0.]\n",
      " [0. 1. 1. 0. 0.]\n",
      " [0. 0. 0. 0. 0.]]\n",
      "[[0. 0. 0. 0. 0.]\n",
      " [0. 0. 0. 0. 0.]\n",
      " [0. 0. 0. 0. 0.]]\n",
      "True\n"
     ]
    }
   ],
   "source": [
    "a = np.zeros(5 * 3).reshape(3, 5)\n",
    "b = a\n",
    "print(a)\n",
    "print (np.may_share_memory(a, b))\n",
    "a[\n",
    "    1:4:3,\n",
    "    (1,2)\n",
    "] = 1\n",
    "#c = 1\n",
    "print (np.may_share_memory(a, b))\n",
    "print(a)\n",
    "print(b)\n",
    "a[1:4:3, (1,2)] = np.dot(a[1:4:3, (1,2)], 0)\n",
    "print(a)\n",
    "print (np.may_share_memory(a, b))"
   ]
  },
  {
   "cell_type": "code",
   "execution_count": 4,
   "id": "nearby-palestinian",
   "metadata": {},
   "outputs": [
    {
     "name": "stdout",
     "output_type": "stream",
     "text": [
      "[ True False False False False False False False]\n",
      "True\n"
     ]
    }
   ],
   "source": [
    "\n",
    "X = np.random.randn(10, 8)\n",
    "X[\n",
    "    ::,\n",
    "    0\n",
    "] = 0\n",
    "\n",
    "out = np.copy(X)\n",
    "Y = out\n",
    "\n",
    "N = X.shape[0]\n",
    "mean = np.sum(X, axis=0) / N    # mean of each feature\n",
    "deviation = X - mean\n",
    "variance = np.var(X, axis=0)\n",
    "sd = np.sqrt(variance)\n",
    "\n",
    "mask = (sd == 0.0)\n",
    "print(mask)\n",
    "if np.any(mask):\n",
    "    # Temporary replace the zero elements with one\n",
    "    sd[mask] = 1.0\n",
    "\n",
    "    # reuse deviation memory area\n",
    "    out = deviation if out is None else out\n",
    "\n",
    "    # standardize and zero clear the mask elements\n",
    "    standardized = np.divide(deviation, sd, out)\n",
    "    out[::, mask] = 0.0\n",
    "\n",
    "    # restore sd\n",
    "    sd[mask] = 0.0\n",
    "\n",
    "else:\n",
    "    standardized = np.divide(deviation, sd, out)\n",
    "\n",
    "assert np.all(np.isfinite(standardized))\n",
    "print (np.may_share_memory(a, b))\n",
    "\n"
   ]
  },
  {
   "cell_type": "code",
   "execution_count": 5,
   "id": "international-cycle",
   "metadata": {},
   "outputs": [
    {
     "name": "stderr",
     "output_type": "stream",
     "text": [
      "/home/oonisim/conda/envs/tensorflow/lib/python3.8/site-packages/numpy/core/_methods.py:233: RuntimeWarning: Degrees of freedom <= 0 for slice\n",
      "  ret = _var(a, axis=axis, dtype=dtype, out=out, ddof=ddof,\n",
      "/home/oonisim/conda/envs/tensorflow/lib/python3.8/site-packages/numpy/core/_methods.py:226: RuntimeWarning: invalid value encountered in double_scalars\n",
      "  ret = ret.dtype.type(ret / rcount)\n"
     ]
    },
    {
     "data": {
      "text/plain": [
       "nan"
      ]
     },
     "execution_count": 5,
     "metadata": {},
     "output_type": "execute_result"
    }
   ],
   "source": [
    "np.std([1], ddof=1)"
   ]
  },
  {
   "cell_type": "code",
   "execution_count": 6,
   "id": "substantial-sudan",
   "metadata": {},
   "outputs": [
    {
     "data": {
      "text/plain": [
       "(5, 11)"
      ]
     },
     "execution_count": 6,
     "metadata": {},
     "output_type": "execute_result"
    }
   ],
   "source": [
    "num_nodes = 5\n",
    "D = 10\n",
    "W = np.random.rand(num_nodes, D)\n",
    "W = np.c_[\n",
    "    np.random.uniform(-1, 1, num_nodes),\n",
    "    W\n",
    "]\n",
    "W.shape"
   ]
  },
  {
   "cell_type": "code",
   "execution_count": 7,
   "id": "political-jesus",
   "metadata": {},
   "outputs": [
    {
     "data": {
      "text/plain": [
       "10000.0"
      ]
     },
     "execution_count": 7,
     "metadata": {},
     "output_type": "execute_result"
    }
   ],
   "source": [
    "import numpy as np\n",
    "1 / np.sqrt(1e-8)"
   ]
  },
  {
   "cell_type": "code",
   "execution_count": 8,
   "id": "understanding-anniversary",
   "metadata": {},
   "outputs": [
    {
     "data": {
      "text/plain": [
       "array([[-3.91429608,  2.22784998, -3.54335084],\n",
       "       [-3.91429608,  2.22784998, -3.54335084],\n",
       "       [-3.91429608,  2.22784998, -3.54335084],\n",
       "       [-3.91429608,  2.22784998, -3.54335084],\n",
       "       [-3.91429608,  2.22784998, -3.54335084]])"
      ]
     },
     "execution_count": 8,
     "metadata": {},
     "output_type": "execute_result"
    }
   ],
   "source": [
    "N = 5\n",
    "M = 3\n",
    "row = np.random.uniform(\n",
    "    -5, 5, M\n",
    ").astype(float)\n",
    "X = np.ones((N, M)) * row\n",
    "X"
   ]
  },
  {
   "cell_type": "code",
   "execution_count": 9,
   "id": "driving-degree",
   "metadata": {},
   "outputs": [
    {
     "name": "stdout",
     "output_type": "stream",
     "text": [
      "mean is \n",
      "[-1.11793447 -3.29686744 -3.50615096]\n",
      "X-mean is \n",
      "[[0.0000000e+00 4.4408921e-16 4.4408921e-16]\n",
      " [0.0000000e+00 4.4408921e-16 4.4408921e-16]\n",
      " [0.0000000e+00 4.4408921e-16 4.4408921e-16]\n",
      " [0.0000000e+00 4.4408921e-16 4.4408921e-16]\n",
      " [0.0000000e+00 4.4408921e-16 4.4408921e-16]]\n",
      "\n"
     ]
    }
   ],
   "source": [
    "X = np.array([\n",
    "    [-1.11793447, -3.29686744, -3.50615096],\n",
    "    [-1.11793447, -3.29686744, -3.50615096],\n",
    "    [-1.11793447, -3.29686744, -3.50615096],\n",
    "    [-1.11793447, -3.29686744, -3.50615096],\n",
    "    [-1.11793447, -3.29686744, -3.50615096]\n",
    "])\n",
    "\n",
    "mean = np.mean(X, axis=0)\n",
    "print(f\"mean is \\n{mean}\\nX-mean is \\n{X-mean}\\n\")\n"
   ]
  },
  {
   "cell_type": "code",
   "execution_count": 10,
   "id": "seeing-explosion",
   "metadata": {},
   "outputs": [
    {
     "data": {
      "text/plain": [
       "array([[0., 0.],\n",
       "       [0., 0.],\n",
       "       [0., 0.]])"
      ]
     },
     "execution_count": 10,
     "metadata": {},
     "output_type": "execute_result"
    }
   ],
   "source": [
    "import numpy as np\n",
    "import numexpr as ne\n",
    "\n",
    "out = np.random.uniform(size=(3,2))\n",
    "bak = np.copy(out)\n",
    "ne.evaluate(\"out * out / log(out) +out\", out=out)\n",
    "Y = bak * bak / np.log(bak) + bak\n",
    "\n",
    "out-Y"
   ]
  },
  {
   "cell_type": "code",
   "execution_count": null,
   "id": "quantitative-smooth",
   "metadata": {},
   "outputs": [],
   "source": []
  },
  {
   "cell_type": "code",
   "execution_count": 11,
   "id": "southwest-building",
   "metadata": {},
   "outputs": [],
   "source": [
    "N = 3\n",
    "M = 3\n",
    "\n",
    "Xstd = np.random.uniform(size=(N,M))\n",
    "_dXstd = np.random.uniform(size=(N,M))\n",
    "_Xmd = Xstd - _dXstd\n",
    "_dU = np.random.uniform(size=M)\n",
    "_dV = np.random.uniform(size=M)\n",
    "norm = 1 / np.std(Xstd)\n",
    "gamma = np.ones(M)\n",
    "__N = N\n",
    "__ddof = 1 if __N > 1 else 0\n",
    "__Xstd = Xstd\n",
    "__dXstd = _dXstd\n",
    "__Xmd = _Xmd\n",
    "__dU = _dU\n",
    "__dV = _dV\n",
    "__norm = norm\n",
    "__gamma = gamma\n",
    "\n",
    "ne.evaluate(\"sum(-2 * __Xmd, axis=0)\", out=_dU)\n",
    "ne.evaluate(\"__dV / (__N - __ddof) * __dU\", out=_dU)\n",
    "__dU += ne.evaluate(\"sum(-1 * __dXstd, axis=0)\")\n"
   ]
  },
  {
   "cell_type": "code",
   "execution_count": 12,
   "id": "noticed-encoding",
   "metadata": {},
   "outputs": [],
   "source": [
    "# --------------------------------------------------------------------------------\n",
    "# dL/dU: (M,) = [ dL/dV:(M,) / (N-ddof) * sum(-2 * Xmd:(N,M), axis=0) ]\n",
    "#             + [ sum(-dL/dXstd, axis=0) * norm ]\n",
    "# Bessel's correction (N-ddof), see https://github.com/pytorch/pytorch/issues/1410\n",
    "# --------------------------------------------------------------------------------\n",
    "\n",
    "dU = __dV / (__N - __ddof) *  np.sum(-2 * __Xmd, axis=0) "
   ]
  },
  {
   "cell_type": "code",
   "execution_count": 13,
   "id": "little-renaissance",
   "metadata": {},
   "outputs": [
    {
     "data": {
      "text/plain": [
       "-0.05768972559627533"
      ]
     },
     "execution_count": 13,
     "metadata": {},
     "output_type": "execute_result"
    }
   ],
   "source": [
    "a = np.empty((1,5), dtype=float)\n",
    "a.prod()"
   ]
  },
  {
   "cell_type": "code",
   "execution_count": 14,
   "id": "retained-webcam",
   "metadata": {},
   "outputs": [
    {
     "name": "stdout",
     "output_type": "stream",
     "text": [
      "[1.65953215]\n",
      "[[-1.17346644]\n",
      " [ 1.17346644]]\n"
     ]
    },
    {
     "data": {
      "text/plain": [
       "array([[-0.70710678],\n",
       "       [ 0.70710678]])"
      ]
     },
     "execution_count": 14,
     "metadata": {},
     "output_type": "execute_result"
    }
   ],
   "source": [
    "X = np.array([[-2.06943465], \n",
    " [ 0.27749823]])\n",
    "\n",
    "sd = np.std(X, ddof=1, axis=0)\n",
    "print(sd)\n",
    "print(X- X.mean(axis=0))\n",
    "(X - X.mean(axis=0)) / sd"
   ]
  },
  {
   "cell_type": "code",
   "execution_count": 15,
   "id": "premium-affair",
   "metadata": {},
   "outputs": [
    {
     "data": {
      "text/plain": [
       "array([[4.36873120e-01, 4.08969344e-02, 4.88492260e-02, 6.17815558e-03, 9.11173304e-02],\n",
       "       [1.06044927e+00, 1.15209859e-01, 2.12740136e-01, 3.40788839e-03, 3.15143253e-01],\n",
       "       [2.07102415e+00, 3.94361445e-02, 4.05034393e-02, 1.94117715e-03, 7.03115559e-01],\n",
       "       [1.22607795e+00, 6.16503023e-02, 9.58874819e-01, 4.49666261e-03, 2.25115649e-01],\n",
       "       [8.90546808e-01, 4.28051850e-02, 7.72802977e-02, 1.40883090e-02, 3.89443956e-01]])"
      ]
     },
     "execution_count": 15,
     "metadata": {},
     "output_type": "execute_result"
    }
   ],
   "source": [
    "import numpy as np\n",
    "X = np.random.randn(5, 5)\n",
    "C = np.max(X, axis=-1)\n",
    "exp = np.exp(X - C)\n",
    "exp / np.sum(exp, axis=-1)"
   ]
  },
  {
   "cell_type": "code",
   "execution_count": 16,
   "id": "herbal-atlas",
   "metadata": {},
   "outputs": [
    {
     "data": {
      "text/plain": [
       "array([[0.14060114, 0.17196881, 0.2890776 , 0.22543459, 0.17291785],\n",
       "       [0.12158112, 0.17258033, 0.44848602, 0.04429858, 0.21305395],\n",
       "       [0.26906387, 0.06694068, 0.09675766, 0.02859325, 0.53864454],\n",
       "       [0.05702648, 0.03746443, 0.82005621, 0.02371248, 0.06174041],\n",
       "       [0.13164953, 0.08267693, 0.21006543, 0.23612915, 0.33947895]])"
      ]
     },
     "execution_count": 16,
     "metadata": {},
     "output_type": "execute_result"
    }
   ],
   "source": [
    "C = np.max(X, axis=-1, keepdims=True)\n",
    "exp = np.exp(X - C)\n",
    "exp / np.sum(exp, axis=-1, keepdims=True)\n"
   ]
  },
  {
   "cell_type": "code",
   "execution_count": 17,
   "id": "clean-commissioner",
   "metadata": {},
   "outputs": [
    {
     "data": {
      "text/plain": [
       "True"
      ]
     },
     "execution_count": 17,
     "metadata": {},
     "output_type": "execute_result"
    }
   ],
   "source": [
    "isinstance(1.0, (int, float))"
   ]
  },
  {
   "cell_type": "code",
   "execution_count": 18,
   "id": "changing-indonesian",
   "metadata": {},
   "outputs": [
    {
     "name": "stdout",
     "output_type": "stream",
     "text": [
      "1\n"
     ]
    }
   ],
   "source": [
    "_HOGE = 1\n",
    "class hoge:\n",
    "    def __init__(\n",
    "            self,\n",
    "            name: str,\n",
    "            num_nodes: int,\n",
    "            momentum = 0.9,\n",
    "    ):\n",
    "        self.args = set(locals().keys())\n",
    "        global _HOGE\n",
    "        print(_HOGE)\n",
    "\n",
    "a = hoge(name=\"name\", num_nodes=1)"
   ]
  },
  {
   "cell_type": "code",
   "execution_count": 19,
   "id": "front-basket",
   "metadata": {},
   "outputs": [],
   "source": [
    "__HOGE = 1\n",
    "class hoge:\n",
    "    def __init__(\n",
    "            self,\n",
    "            name: str,\n",
    "            num_nodes: int,\n",
    "            momentum = 0.9,\n",
    "    ):\n",
    "        self.args = set(locals().keys())\n",
    "        global __HOGE\n",
    "        print(__HOGE)\n"
   ]
  },
  {
   "cell_type": "code",
   "execution_count": 20,
   "id": "handmade-fairy",
   "metadata": {},
   "outputs": [
    {
     "ename": "NameError",
     "evalue": "name '_hoge__HOGE' is not defined",
     "output_type": "error",
     "traceback": [
      "\u001b[0;31m---------------------------------------------------------------------------\u001b[0m",
      "\u001b[0;31mNameError\u001b[0m                                 Traceback (most recent call last)",
      "\u001b[0;32m<ipython-input-20-952cc2b6fb96>\u001b[0m in \u001b[0;36m<module>\u001b[0;34m\u001b[0m\n\u001b[0;32m----> 1\u001b[0;31m \u001b[0ma\u001b[0m \u001b[0;34m=\u001b[0m \u001b[0mhoge\u001b[0m\u001b[0;34m(\u001b[0m\u001b[0mname\u001b[0m\u001b[0;34m=\u001b[0m\u001b[0;34m\"name\"\u001b[0m\u001b[0;34m,\u001b[0m \u001b[0mnum_nodes\u001b[0m\u001b[0;34m=\u001b[0m\u001b[0;36m1\u001b[0m\u001b[0;34m)\u001b[0m\u001b[0;34m\u001b[0m\u001b[0;34m\u001b[0m\u001b[0m\n\u001b[0m",
      "\u001b[0;32m<ipython-input-19-f1126fd64d87>\u001b[0m in \u001b[0;36m__init__\u001b[0;34m(self, name, num_nodes, momentum)\u001b[0m\n\u001b[1;32m      9\u001b[0m         \u001b[0mself\u001b[0m\u001b[0;34m.\u001b[0m\u001b[0margs\u001b[0m \u001b[0;34m=\u001b[0m \u001b[0mset\u001b[0m\u001b[0;34m(\u001b[0m\u001b[0mlocals\u001b[0m\u001b[0;34m(\u001b[0m\u001b[0;34m)\u001b[0m\u001b[0;34m.\u001b[0m\u001b[0mkeys\u001b[0m\u001b[0;34m(\u001b[0m\u001b[0;34m)\u001b[0m\u001b[0;34m)\u001b[0m\u001b[0;34m\u001b[0m\u001b[0;34m\u001b[0m\u001b[0m\n\u001b[1;32m     10\u001b[0m         \u001b[0;32mglobal\u001b[0m \u001b[0m__HOGE\u001b[0m\u001b[0;34m\u001b[0m\u001b[0;34m\u001b[0m\u001b[0m\n\u001b[0;32m---> 11\u001b[0;31m         \u001b[0mprint\u001b[0m\u001b[0;34m(\u001b[0m\u001b[0m__HOGE\u001b[0m\u001b[0;34m)\u001b[0m\u001b[0;34m\u001b[0m\u001b[0;34m\u001b[0m\u001b[0m\n\u001b[0m",
      "\u001b[0;31mNameError\u001b[0m: name '_hoge__HOGE' is not defined"
     ]
    }
   ],
   "source": [
    "a = hoge(name=\"name\", num_nodes=1)"
   ]
  },
  {
   "cell_type": "code",
   "execution_count": null,
   "id": "focused-carrier",
   "metadata": {},
   "outputs": [],
   "source": [
    "sig = inspect.signature(hoge.__init__)\n",
    "for param in sig.parameters.values():\n",
    "        print(f'Parameter: {param} param.default {param.default} {param.default is param.empty}')"
   ]
  },
  {
   "cell_type": "code",
   "execution_count": null,
   "id": "serious-rotation",
   "metadata": {},
   "outputs": [],
   "source": [
    "a = {\n",
    "    \"num_nodes\": 8,\n",
    "    \"num_features\": 3,\n",
    "    \"weights\": {\n",
    "        \"scheme\": \"he\"\n",
    "    },\n",
    "    \"optimizer\": {\n",
    "        \"lr\": 0.1,\n",
    "        \"l2\": 0.1\n",
    "    }\n",
    "}\n",
    "a = set(a.keys())\n",
    "set(['num_nodes', 'num_features', 'weights', 'optimizer']).issubset(a)\n",
    "#b.issubset(a)"
   ]
  },
  {
   "cell_type": "code",
   "execution_count": null,
   "id": "stylish-combining",
   "metadata": {},
   "outputs": [],
   "source": [
    "isinstance([], list)"
   ]
  },
  {
   "cell_type": "code",
   "execution_count": null,
   "id": "aerial-therapist",
   "metadata": {},
   "outputs": [],
   "source": [
    "network_specification = {\n",
    "    \"matmul01\": {\n",
    "        \"scheme\": \"hoge\",\n",
    "        \"parameters\": {\n",
    "            \"num_nodes\": 8,\n",
    "            \"num_features\": 2,  # NOT including bias\n",
    "            \"weights\": {\n",
    "                \"scheme\": \"he\"\n",
    "            },\n",
    "            \"optimizer\": {\n",
    "        \"scheme\": \"hoge\",\n",
    "                \"lr\": 0.01,\n",
    "                \"l2\": 1e-3\n",
    "            }\n",
    "        },\n",
    "    },\n",
    "    \"activation01\": {\n",
    "        \"scheme\": \"hoge\",\n",
    "        \"parameters\": {\n",
    "            \"num_nodes\": 8\n",
    "        }\n",
    "    },\n",
    "    \"matmul02\": {\n",
    "        \"scheme\": \"hoge\",\n",
    "        \"parameters\": {\n",
    "            \"num_nodes\": 3,\n",
    "            \"num_features\": 8,  # NOT including bias\n",
    "            \"weights\": {\n",
    "                \"scheme\": \"he\"\n",
    "            }\n",
    "        }\n",
    "    },\n",
    "    \"activation02\": {\n",
    "        \"scheme\": \"hoge\",\n",
    "        \"parameters\": {\n",
    "            \"num_nodes\": 3\n",
    "        }\n",
    "    },\n",
    "    \"objective\": {\n",
    "        \"scheme\": \"hoge\",\n",
    "        \"parameters\": {\n",
    "            \"num_nodes\": 3,\n",
    "            \"loss_function\": \"softmax_cross_entropy_log_loss\"\n",
    "        }\n",
    "    }\n",
    "}"
   ]
  },
  {
   "cell_type": "code",
   "execution_count": null,
   "id": "unique-combination",
   "metadata": {},
   "outputs": [],
   "source": [
    "network_specification[-1]"
   ]
  },
  {
   "cell_type": "code",
   "execution_count": null,
   "id": "fitted-meditation",
   "metadata": {},
   "outputs": [],
   "source": [
    "import numpy as np\n",
    "n=3\n",
    "m=5\n",
    "a = np.random.rand(n,m)\n",
    "b = np.random.rand(n,m)\n",
    "c = np.random.rand(n,m)\n",
    "np.sum([a,b,c], axis=0)"
   ]
  },
  {
   "cell_type": "code",
   "execution_count": null,
   "id": "fabulous-elimination",
   "metadata": {},
   "outputs": [],
   "source": [
    "_NAME = \"name\"\n",
    "_NUM_NODES = \"num_nodes\"\n",
    "_NUM_FEATURES = \"num_features\"\n",
    "_WEIGHTS = \"weights\"\n",
    "_OPTIMIZER = \"optimizer\"\n",
    "_SCHEME = \"scheme\"\n",
    "_PARAMETERS = \"parameters\"\n",
    "_LOG_LEVEL = \"log_level\"\n",
    "_LAYER_CLASS = \"layer_class\"\n",
    "_LOSS_FUNCTION = \"loss_function\"\n",
    "_LAYERS = \"layers\"\n",
    "_COMPOSITE_LAYER_SPEC = \"composite_layer_specification\"\n",
    "\n",
    "LOG_LOSS_GRADIENT_ACCEPTANCE_VALUE = float(1.2)\n",
    "\n",
    "a = {\n",
    "    \"matmul02\": {\n",
    "        _PARAMETERS: {\n",
    "            _NAME: \"matmul02\",\n",
    "            _NUM_NODES: 3,\n",
    "            _NUM_FEATURES: 8,  # NOT including bias\n",
    "            _WEIGHTS: {\n",
    "                _SCHEME: \"he\"\n",
    "            }\n",
    "        }\n",
    "    }\n",
    "}\n",
    "a[\"matmul02\"][_PARAMETERS][_NUM_NODES]"
   ]
  },
  {
   "cell_type": "code",
   "execution_count": null,
   "id": "alternative-namibia",
   "metadata": {},
   "outputs": [],
   "source": [
    "import numpy as np\n",
    "a = [1,2,3]\n",
    "f = lambda x: np.sum(x)\n",
    "f(a)"
   ]
  },
  {
   "cell_type": "code",
   "execution_count": null,
   "id": "suspected-tonight",
   "metadata": {},
   "outputs": [],
   "source": [
    "a = np.arange(60).reshape((3,4,-1))\n",
    "print(a[0].shape)\n",
    "b = np.sum(a, axis=0, keepdims=False)\n",
    "b.shape"
   ]
  },
  {
   "cell_type": "code",
   "execution_count": null,
   "id": "lightweight-angel",
   "metadata": {},
   "outputs": [],
   "source": [
    "X = np.array(1)\n",
    "shape_Y = X[0].shape if X.ndim > 0 else ()\n",
    "_Y = np.empty(shape_Y, dtype=float)\n",
    "np.sum(X, out=_Y)"
   ]
  },
  {
   "cell_type": "code",
   "execution_count": null,
   "id": "located-place",
   "metadata": {},
   "outputs": [],
   "source": [
    "a = np.arange(60).reshape((3,4,-1))\n",
    "shape = a[0].shape\n",
    "Y = np.empty(shape)\n",
    "np.sum(a, axis=0, out=Y)\n"
   ]
  },
  {
   "cell_type": "code",
   "execution_count": null,
   "id": "complex-trout",
   "metadata": {},
   "outputs": [],
   "source": [
    "from more_itertools import take\n",
    "d = {\"a\": 1, \"b\": 2}\n",
    "take(1, d.items())"
   ]
  },
  {
   "cell_type": "code",
   "execution_count": null,
   "id": "fitting-accordance",
   "metadata": {},
   "outputs": [],
   "source": [
    "index = 1\n",
    "f\"matmul{index:03d}\""
   ]
  },
  {
   "cell_type": "code",
   "execution_count": null,
   "id": "present-hostel",
   "metadata": {},
   "outputs": [],
   "source": []
  },
  {
   "cell_type": "code",
   "execution_count": null,
   "id": "ecological-bonus",
   "metadata": {},
   "outputs": [],
   "source": [
    "from typing import(\n",
    "    Dict,\n",
    "    List\n",
    ")\n",
    "import re\n",
    "import string\n",
    "import collections\n",
    "import numpy as np\n",
    "from preprocessing.constant import (\n",
    "    DELIMITER,\n",
    "    NIL\n",
    ")\n",
    "from preprocessing.text import (\n",
    "    word_indexing, \n",
    "    standardize,\n",
    "    sub_sampling\n",
    ")"
   ]
  },
  {
   "cell_type": "code",
   "execution_count": null,
   "id": "animated-sherman",
   "metadata": {},
   "outputs": [],
   "source": [
    "corpus = \"tako ika tako tako ika bin uni sashimi sashimi uni ika uni\"\n",
    "vocabulary, index_to_event, event_to_index, probabilities = word_indexing(corpus)\n",
    "print(probabilities)"
   ]
  },
  {
   "cell_type": "code",
   "execution_count": null,
   "id": "premier-nelson",
   "metadata": {},
   "outputs": [],
   "source": [
    "from collections import Counter\n",
    "corpus = \"tako ika tako tako ika bin uni sashimi sashimi uni ika uni\"\n",
    "total = len(words:=corpus.split())\n",
    "probabilities = {word: (count / total) for (word, count) in Counter(words).items()}\n",
    "print(probabilities)"
   ]
  },
  {
   "cell_type": "code",
   "execution_count": null,
   "id": "dirty-moment",
   "metadata": {},
   "outputs": [],
   "source": [
    "def sub_sampling(corpus: str, power: float = float(0.75)):\n",
    "    total = len(words := standardize(corpus).split())\n",
    "    counts = collections.Counter(words)\n",
    "    probabilities = {word: np.power((count / total), power) for (word, count) in counts.items()}\n",
    "\n",
    "    sigma = np.sum(list(probabilities.values()))\n",
    "    probabilities = {word: (p/sigma) for (word, p) in probabilities.items()}\n",
    "    assert (1.0 - np.sum(list(probabilities.values()))) < 1e-5\n",
    "\n",
    "    del words, total, counts, sigma\n",
    "    return probabilities\n",
    "\n",
    "\n",
    "\n",
    "sum(sub_sampling(corpus).values())"
   ]
  },
  {
   "cell_type": "code",
   "execution_count": 25,
   "id": "comfortable-jewelry",
   "metadata": {},
   "outputs": [
    {
     "data": {
      "text/plain": [
       "{75: 77,\n",
       " 79: 81,\n",
       " 69: 71,\n",
       " 33: None,\n",
       " 34: None,\n",
       " 35: None,\n",
       " 36: None,\n",
       " 37: None,\n",
       " 38: None,\n",
       " 39: None,\n",
       " 40: None,\n",
       " 41: None,\n",
       " 42: None,\n",
       " 43: None,\n",
       " 44: None,\n",
       " 45: None,\n",
       " 46: None,\n",
       " 47: None,\n",
       " 58: None,\n",
       " 59: None,\n",
       " 60: None,\n",
       " 61: None,\n",
       " 62: None,\n",
       " 63: None,\n",
       " 64: None,\n",
       " 91: None,\n",
       " 92: None,\n",
       " 93: None,\n",
       " 94: None,\n",
       " 95: None,\n",
       " 96: None,\n",
       " 123: None,\n",
       " 124: None,\n",
       " 125: None,\n",
       " 126: None}"
      ]
     },
     "execution_count": 25,
     "metadata": {},
     "output_type": "execute_result"
    }
   ],
   "source": []
  }
 ],
 "metadata": {
  "kernelspec": {
   "display_name": "Python 3",
   "language": "python",
   "name": "python3"
  },
  "language_info": {
   "codemirror_mode": {
    "name": "ipython",
    "version": 3
   },
   "file_extension": ".py",
   "mimetype": "text/x-python",
   "name": "python",
   "nbconvert_exporter": "python",
   "pygments_lexer": "ipython3",
   "version": "3.8.5"
  }
 },
 "nbformat": 4,
 "nbformat_minor": 5
}
