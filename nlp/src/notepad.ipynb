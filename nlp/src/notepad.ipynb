{
 "cells": [
  {
   "cell_type": "code",
   "execution_count": 1,
   "id": "sitting-importance",
   "metadata": {},
   "outputs": [],
   "source": [
    "import numpy as np"
   ]
  },
  {
   "cell_type": "code",
   "execution_count": 2,
   "id": "industrial-coaching",
   "metadata": {},
   "outputs": [],
   "source": [
    "import sys\n",
    "import numpy as np\n",
    "np.set_printoptions(threshold=sys.maxsize)\n",
    "np.set_printoptions(linewidth=1000) "
   ]
  },
  {
   "cell_type": "code",
   "execution_count": 3,
   "id": "first-filling",
   "metadata": {},
   "outputs": [
    {
     "name": "stdout",
     "output_type": "stream",
     "text": [
      "[[0. 0. 0. 0. 0.]\n",
      " [0. 0. 0. 0. 0.]\n",
      " [0. 0. 0. 0. 0.]]\n",
      "True\n",
      "True\n",
      "[[0. 0. 0. 0. 0.]\n",
      " [0. 1. 1. 0. 0.]\n",
      " [0. 0. 0. 0. 0.]]\n",
      "[[0. 0. 0. 0. 0.]\n",
      " [0. 1. 1. 0. 0.]\n",
      " [0. 0. 0. 0. 0.]]\n",
      "[[0. 0. 0. 0. 0.]\n",
      " [0. 0. 0. 0. 0.]\n",
      " [0. 0. 0. 0. 0.]]\n",
      "True\n"
     ]
    }
   ],
   "source": [
    "a = np.zeros(5 * 3).reshape(3, 5)\n",
    "b = a\n",
    "print(a)\n",
    "print (np.may_share_memory(a, b))\n",
    "a[\n",
    "    1:4:3,\n",
    "    (1,2)\n",
    "] = 1\n",
    "#c = 1\n",
    "print (np.may_share_memory(a, b))\n",
    "print(a)\n",
    "print(b)\n",
    "a[1:4:3, (1,2)] = np.dot(a[1:4:3, (1,2)], 0)\n",
    "print(a)\n",
    "print (np.may_share_memory(a, b))"
   ]
  },
  {
   "cell_type": "code",
   "execution_count": 4,
   "id": "nearby-palestinian",
   "metadata": {},
   "outputs": [
    {
     "name": "stdout",
     "output_type": "stream",
     "text": [
      "[ True False False False False False False False]\n",
      "True\n"
     ]
    }
   ],
   "source": [
    "\n",
    "X = np.random.randn(10, 8)\n",
    "X[\n",
    "    ::,\n",
    "    0\n",
    "] = 0\n",
    "\n",
    "out = np.copy(X)\n",
    "Y = out\n",
    "\n",
    "N = X.shape[0]\n",
    "mean = np.sum(X, axis=0) / N    # mean of each feature\n",
    "deviation = X - mean\n",
    "variance = np.var(X, axis=0)\n",
    "sd = np.sqrt(variance)\n",
    "\n",
    "mask = (sd == 0.0)\n",
    "print(mask)\n",
    "if np.any(mask):\n",
    "    # Temporary replace the zero elements with one\n",
    "    sd[mask] = 1.0\n",
    "\n",
    "    # reuse deviation memory area\n",
    "    out = deviation if out is None else out\n",
    "\n",
    "    # standardize and zero clear the mask elements\n",
    "    standardized = np.divide(deviation, sd, out)\n",
    "    out[::, mask] = 0.0\n",
    "\n",
    "    # restore sd\n",
    "    sd[mask] = 0.0\n",
    "\n",
    "else:\n",
    "    standardized = np.divide(deviation, sd, out)\n",
    "\n",
    "assert np.all(np.isfinite(standardized))\n",
    "print (np.may_share_memory(a, b))\n",
    "\n"
   ]
  },
  {
   "cell_type": "code",
   "execution_count": 5,
   "id": "international-cycle",
   "metadata": {},
   "outputs": [
    {
     "name": "stderr",
     "output_type": "stream",
     "text": [
      "/home/oonisim/conda/envs/python_programs/lib/python3.8/site-packages/numpy/core/_methods.py:233: RuntimeWarning: Degrees of freedom <= 0 for slice\n",
      "  ret = _var(a, axis=axis, dtype=dtype, out=out, ddof=ddof,\n",
      "/home/oonisim/conda/envs/python_programs/lib/python3.8/site-packages/numpy/core/_methods.py:226: RuntimeWarning: invalid value encountered in double_scalars\n",
      "  ret = ret.dtype.type(ret / rcount)\n"
     ]
    },
    {
     "data": {
      "text/plain": [
       "nan"
      ]
     },
     "execution_count": 5,
     "metadata": {},
     "output_type": "execute_result"
    }
   ],
   "source": [
    "np.std([1], ddof=1)"
   ]
  },
  {
   "cell_type": "code",
   "execution_count": 6,
   "id": "substantial-sudan",
   "metadata": {},
   "outputs": [
    {
     "data": {
      "text/plain": [
       "(5, 11)"
      ]
     },
     "execution_count": 6,
     "metadata": {},
     "output_type": "execute_result"
    }
   ],
   "source": [
    "num_nodes = 5\n",
    "D = 10\n",
    "W = np.random.rand(num_nodes, D)\n",
    "W = np.c_[\n",
    "    np.random.uniform(-1, 1, num_nodes),\n",
    "    W\n",
    "]\n",
    "W.shape"
   ]
  },
  {
   "cell_type": "code",
   "execution_count": 7,
   "id": "political-jesus",
   "metadata": {},
   "outputs": [
    {
     "data": {
      "text/plain": [
       "10000.0"
      ]
     },
     "execution_count": 7,
     "metadata": {},
     "output_type": "execute_result"
    }
   ],
   "source": [
    "import numpy as np\n",
    "1 / np.sqrt(1e-8)"
   ]
  },
  {
   "cell_type": "code",
   "execution_count": 8,
   "id": "understanding-anniversary",
   "metadata": {},
   "outputs": [
    {
     "data": {
      "text/plain": [
       "array([[-3.37883362,  3.9863536 ,  1.30455143],\n",
       "       [-3.37883362,  3.9863536 ,  1.30455143],\n",
       "       [-3.37883362,  3.9863536 ,  1.30455143],\n",
       "       [-3.37883362,  3.9863536 ,  1.30455143],\n",
       "       [-3.37883362,  3.9863536 ,  1.30455143]])"
      ]
     },
     "execution_count": 8,
     "metadata": {},
     "output_type": "execute_result"
    }
   ],
   "source": [
    "N = 5\n",
    "M = 3\n",
    "row = np.random.uniform(\n",
    "    -5, 5, M\n",
    ").astype(float)\n",
    "X = np.ones((N, M)) * row\n",
    "X"
   ]
  },
  {
   "cell_type": "code",
   "execution_count": 9,
   "id": "driving-degree",
   "metadata": {},
   "outputs": [
    {
     "name": "stdout",
     "output_type": "stream",
     "text": [
      "mean is \n",
      "[-1.11793447 -3.29686744 -3.50615096]\n",
      "X-mean is \n",
      "[[0.0000000e+00 4.4408921e-16 4.4408921e-16]\n",
      " [0.0000000e+00 4.4408921e-16 4.4408921e-16]\n",
      " [0.0000000e+00 4.4408921e-16 4.4408921e-16]\n",
      " [0.0000000e+00 4.4408921e-16 4.4408921e-16]\n",
      " [0.0000000e+00 4.4408921e-16 4.4408921e-16]]\n",
      "\n"
     ]
    }
   ],
   "source": [
    "X = np.array([\n",
    "    [-1.11793447, -3.29686744, -3.50615096],\n",
    "    [-1.11793447, -3.29686744, -3.50615096],\n",
    "    [-1.11793447, -3.29686744, -3.50615096],\n",
    "    [-1.11793447, -3.29686744, -3.50615096],\n",
    "    [-1.11793447, -3.29686744, -3.50615096]\n",
    "])\n",
    "\n",
    "mean = np.mean(X, axis=0)\n",
    "print(f\"mean is \\n{mean}\\nX-mean is \\n{X-mean}\\n\")\n"
   ]
  },
  {
   "cell_type": "code",
   "execution_count": 10,
   "id": "seeing-explosion",
   "metadata": {},
   "outputs": [
    {
     "data": {
      "text/plain": [
       "array([[0., 0.],\n",
       "       [0., 0.],\n",
       "       [0., 0.]])"
      ]
     },
     "execution_count": 10,
     "metadata": {},
     "output_type": "execute_result"
    }
   ],
   "source": [
    "import numpy as np\n",
    "import numexpr as ne\n",
    "\n",
    "out = np.random.uniform(size=(3,2))\n",
    "bak = np.copy(out)\n",
    "ne.evaluate(\"out * out / log(out) +out\", out=out)\n",
    "Y = bak * bak / np.log(bak) + bak\n",
    "\n",
    "out-Y"
   ]
  },
  {
   "cell_type": "code",
   "execution_count": null,
   "id": "quantitative-smooth",
   "metadata": {},
   "outputs": [],
   "source": []
  },
  {
   "cell_type": "code",
   "execution_count": 11,
   "id": "southwest-building",
   "metadata": {},
   "outputs": [],
   "source": [
    "N = 3\n",
    "M = 3\n",
    "\n",
    "Xstd = np.random.uniform(size=(N,M))\n",
    "_dXstd = np.random.uniform(size=(N,M))\n",
    "_Xmd = Xstd - _dXstd\n",
    "_dU = np.random.uniform(size=M)\n",
    "_dV = np.random.uniform(size=M)\n",
    "norm = 1 / np.std(Xstd)\n",
    "gamma = np.ones(M)\n",
    "__N = N\n",
    "__ddof = 1 if __N > 1 else 0\n",
    "__Xstd = Xstd\n",
    "__dXstd = _dXstd\n",
    "__Xmd = _Xmd\n",
    "__dU = _dU\n",
    "__dV = _dV\n",
    "__norm = norm\n",
    "__gamma = gamma\n",
    "\n",
    "ne.evaluate(\"sum(-2 * __Xmd, axis=0)\", out=_dU)\n",
    "ne.evaluate(\"__dV / (__N - __ddof) * __dU\", out=_dU)\n",
    "__dU += ne.evaluate(\"sum(-1 * __dXstd, axis=0)\")\n"
   ]
  },
  {
   "cell_type": "code",
   "execution_count": 12,
   "id": "noticed-encoding",
   "metadata": {},
   "outputs": [
    {
     "ename": "SyntaxError",
     "evalue": "invalid syntax (<ipython-input-12-0d900d4c2274>, line 7)",
     "output_type": "error",
     "traceback": [
      "\u001b[0;36m  File \u001b[0;32m\"<ipython-input-12-0d900d4c2274>\"\u001b[0;36m, line \u001b[0;32m7\u001b[0m\n\u001b[0;31m    dU = __dV / (__N - __ddof) *  np.sum(-2 * __Xmd, axis=0) +\u001b[0m\n\u001b[0m                                                               ^\u001b[0m\n\u001b[0;31mSyntaxError\u001b[0m\u001b[0;31m:\u001b[0m invalid syntax\n"
     ]
    }
   ],
   "source": [
    "# --------------------------------------------------------------------------------\n",
    "# dL/dU: (M,) = [ dL/dV:(M,) / (N-ddof) * sum(-2 * Xmd:(N,M), axis=0) ]\n",
    "#             + [ sum(-dL/dXstd, axis=0) * norm ]\n",
    "# Bessel's correction (N-ddof), see https://github.com/pytorch/pytorch/issues/1410\n",
    "# --------------------------------------------------------------------------------\n",
    "\n",
    "dU = __dV / (__N - __ddof) *  np.sum(-2 * __Xmd, axis=0) + "
   ]
  },
  {
   "cell_type": "code",
   "execution_count": null,
   "id": "little-renaissance",
   "metadata": {},
   "outputs": [],
   "source": [
    "a = np.empty((1,5), dtype=float)\n",
    "a.prod()"
   ]
  },
  {
   "cell_type": "code",
   "execution_count": null,
   "id": "retained-webcam",
   "metadata": {},
   "outputs": [],
   "source": [
    "X = np.array([[-2.06943465], \n",
    " [ 0.27749823]])\n",
    "\n",
    "sd = np.std(X, ddof=1, axis=0)\n",
    "print(sd)\n",
    "print(X- X.mean(axis=0))\n",
    "(X - X.mean(axis=0)) / sd"
   ]
  },
  {
   "cell_type": "code",
   "execution_count": null,
   "id": "premium-affair",
   "metadata": {},
   "outputs": [],
   "source": [
    "import numpy as np\n",
    "X = np.random.randn(5, 5)\n",
    "C = np.max(X, axis=-1)\n",
    "exp = np.exp(X - C)\n",
    "exp / np.sum(exp, axis=-1)"
   ]
  },
  {
   "cell_type": "code",
   "execution_count": null,
   "id": "herbal-atlas",
   "metadata": {},
   "outputs": [],
   "source": [
    "C = np.max(X, axis=-1, keepdims=True)\n",
    "exp = np.exp(X - C)\n",
    "exp / np.sum(exp, axis=-1, keepdims=True)\n"
   ]
  },
  {
   "cell_type": "code",
   "execution_count": null,
   "id": "clean-commissioner",
   "metadata": {},
   "outputs": [],
   "source": [
    "isinstance(1.0, (int, float))"
   ]
  },
  {
   "cell_type": "code",
   "execution_count": 19,
   "id": "changing-indonesian",
   "metadata": {},
   "outputs": [
    {
     "name": "stdout",
     "output_type": "stream",
     "text": [
      "1\n"
     ]
    }
   ],
   "source": [
    "_HOGE = 1\n",
    "class hoge:\n",
    "    def __init__(\n",
    "            self,\n",
    "            name: str,\n",
    "            num_nodes: int,\n",
    "            momentum = 0.9,\n",
    "    ):\n",
    "        self.args = set(locals().keys())\n",
    "        global _HOGE\n",
    "        print(_HOGE)\n",
    "\n",
    "a = hoge(name=\"name\", num_nodes=1)"
   ]
  },
  {
   "cell_type": "code",
   "execution_count": 15,
   "id": "front-basket",
   "metadata": {},
   "outputs": [],
   "source": [
    "__HOGE = 1\n",
    "class hoge:\n",
    "    def __init__(\n",
    "            self,\n",
    "            name: str,\n",
    "            num_nodes: int,\n",
    "            momentum = 0.9,\n",
    "    ):\n",
    "        self.args = set(locals().keys())\n",
    "        global __HOGE\n",
    "        print(__HOGE)\n"
   ]
  },
  {
   "cell_type": "code",
   "execution_count": 16,
   "id": "handmade-fairy",
   "metadata": {},
   "outputs": [
    {
     "ename": "NameError",
     "evalue": "name '_hoge__HOGE' is not defined",
     "output_type": "error",
     "traceback": [
      "\u001b[0;31m---------------------------------------------------------------------------\u001b[0m",
      "\u001b[0;31mNameError\u001b[0m                                 Traceback (most recent call last)",
      "\u001b[0;32m<ipython-input-16-952cc2b6fb96>\u001b[0m in \u001b[0;36m<module>\u001b[0;34m\u001b[0m\n\u001b[0;32m----> 1\u001b[0;31m \u001b[0ma\u001b[0m \u001b[0;34m=\u001b[0m \u001b[0mhoge\u001b[0m\u001b[0;34m(\u001b[0m\u001b[0mname\u001b[0m\u001b[0;34m=\u001b[0m\u001b[0;34m\"name\"\u001b[0m\u001b[0;34m,\u001b[0m \u001b[0mnum_nodes\u001b[0m\u001b[0;34m=\u001b[0m\u001b[0;36m1\u001b[0m\u001b[0;34m)\u001b[0m\u001b[0;34m\u001b[0m\u001b[0;34m\u001b[0m\u001b[0m\n\u001b[0m",
      "\u001b[0;32m<ipython-input-15-f1126fd64d87>\u001b[0m in \u001b[0;36m__init__\u001b[0;34m(self, name, num_nodes, momentum)\u001b[0m\n\u001b[1;32m      9\u001b[0m         \u001b[0mself\u001b[0m\u001b[0;34m.\u001b[0m\u001b[0margs\u001b[0m \u001b[0;34m=\u001b[0m \u001b[0mset\u001b[0m\u001b[0;34m(\u001b[0m\u001b[0mlocals\u001b[0m\u001b[0;34m(\u001b[0m\u001b[0;34m)\u001b[0m\u001b[0;34m.\u001b[0m\u001b[0mkeys\u001b[0m\u001b[0;34m(\u001b[0m\u001b[0;34m)\u001b[0m\u001b[0;34m)\u001b[0m\u001b[0;34m\u001b[0m\u001b[0;34m\u001b[0m\u001b[0m\n\u001b[1;32m     10\u001b[0m         \u001b[0;32mglobal\u001b[0m \u001b[0m__HOGE\u001b[0m\u001b[0;34m\u001b[0m\u001b[0;34m\u001b[0m\u001b[0m\n\u001b[0;32m---> 11\u001b[0;31m         \u001b[0mprint\u001b[0m\u001b[0;34m(\u001b[0m\u001b[0m__HOGE\u001b[0m\u001b[0;34m)\u001b[0m\u001b[0;34m\u001b[0m\u001b[0;34m\u001b[0m\u001b[0m\n\u001b[0m",
      "\u001b[0;31mNameError\u001b[0m: name '_hoge__HOGE' is not defined"
     ]
    }
   ],
   "source": [
    "a = hoge(name=\"name\", num_nodes=1)"
   ]
  },
  {
   "cell_type": "code",
   "execution_count": null,
   "id": "focused-carrier",
   "metadata": {},
   "outputs": [],
   "source": [
    "sig = inspect.signature(hoge.__init__)\n",
    "for param in sig.parameters.values():\n",
    "        print(f'Parameter: {param} param.default {param.default} {param.default is param.empty}')"
   ]
  },
  {
   "cell_type": "code",
   "execution_count": null,
   "id": "serious-rotation",
   "metadata": {},
   "outputs": [],
   "source": [
    "a = {\n",
    "    \"num_nodes\": 8,\n",
    "    \"num_features\": 3,\n",
    "    \"weights\": {\n",
    "        \"scheme\": \"he\"\n",
    "    },\n",
    "    \"optimizer\": {\n",
    "        \"lr\": 0.1,\n",
    "        \"l2\": 0.1\n",
    "    }\n",
    "}\n",
    "a = set(a.keys())\n",
    "set(['num_nodes', 'num_features', 'weights', 'optimizer']).issubset(a)\n",
    "#b.issubset(a)"
   ]
  },
  {
   "cell_type": "code",
   "execution_count": 4,
   "id": "stylish-combining",
   "metadata": {},
   "outputs": [
    {
     "data": {
      "text/plain": [
       "True"
      ]
     },
     "execution_count": 4,
     "metadata": {},
     "output_type": "execute_result"
    }
   ],
   "source": [
    "isinstance([], list)"
   ]
  },
  {
   "cell_type": "code",
   "execution_count": 23,
   "id": "aerial-therapist",
   "metadata": {},
   "outputs": [],
   "source": [
    "network_specification = {\n",
    "    \"matmul01\": {\n",
    "        \"scheme\": \"hoge\",\n",
    "        \"parameters\": {\n",
    "            \"num_nodes\": 8,\n",
    "            \"num_features\": 2,  # NOT including bias\n",
    "            \"weights\": {\n",
    "                \"scheme\": \"he\"\n",
    "            },\n",
    "            \"optimizer\": {\n",
    "        \"scheme\": \"hoge\",\n",
    "                \"lr\": 0.01,\n",
    "                \"l2\": 1e-3\n",
    "            }\n",
    "        },\n",
    "    },\n",
    "    \"activation01\": {\n",
    "        \"scheme\": \"hoge\",\n",
    "        \"parameters\": {\n",
    "            \"num_nodes\": 8\n",
    "        }\n",
    "    },\n",
    "    \"matmul02\": {\n",
    "        \"scheme\": \"hoge\",\n",
    "        \"parameters\": {\n",
    "            \"num_nodes\": 3,\n",
    "            \"num_features\": 8,  # NOT including bias\n",
    "            \"weights\": {\n",
    "                \"scheme\": \"he\"\n",
    "            }\n",
    "        }\n",
    "    },\n",
    "    \"activation02\": {\n",
    "        \"scheme\": \"hoge\",\n",
    "        \"parameters\": {\n",
    "            \"num_nodes\": 3\n",
    "        }\n",
    "    },\n",
    "    \"objective\": {\n",
    "        \"scheme\": \"hoge\",\n",
    "        \"parameters\": {\n",
    "            \"num_nodes\": 3,\n",
    "            \"loss_function\": \"softmax_cross_entropy_log_loss\"\n",
    "        }\n",
    "    }\n",
    "}"
   ]
  },
  {
   "cell_type": "code",
   "execution_count": 24,
   "id": "unique-combination",
   "metadata": {},
   "outputs": [
    {
     "ename": "KeyError",
     "evalue": "-1",
     "output_type": "error",
     "traceback": [
      "\u001b[0;31m---------------------------------------------------------------------------\u001b[0m",
      "\u001b[0;31mKeyError\u001b[0m                                  Traceback (most recent call last)",
      "\u001b[0;32m<ipython-input-24-ac672b53f2d4>\u001b[0m in \u001b[0;36m<module>\u001b[0;34m\u001b[0m\n\u001b[0;32m----> 1\u001b[0;31m \u001b[0mnetwork_specification\u001b[0m\u001b[0;34m[\u001b[0m\u001b[0;34m-\u001b[0m\u001b[0;36m1\u001b[0m\u001b[0;34m]\u001b[0m\u001b[0;34m\u001b[0m\u001b[0;34m\u001b[0m\u001b[0m\n\u001b[0m",
      "\u001b[0;31mKeyError\u001b[0m: -1"
     ]
    }
   ],
   "source": [
    "network_specification[-1]"
   ]
  },
  {
   "cell_type": "code",
   "execution_count": 27,
   "id": "fitted-meditation",
   "metadata": {},
   "outputs": [
    {
     "data": {
      "text/plain": [
       "20.195963183191576"
      ]
     },
     "execution_count": 27,
     "metadata": {},
     "output_type": "execute_result"
    }
   ],
   "source": [
    "import numpy as np\n",
    "n=3\n",
    "m=5\n",
    "a = np.random.rand(n,m)\n",
    "b = np.random.rand(n,m)\n",
    "c = np.random.rand(n,m)\n",
    "np.sum([a,b,c], axis=0)"
   ]
  },
  {
   "cell_type": "code",
   "execution_count": 28,
   "id": "fabulous-elimination",
   "metadata": {},
   "outputs": [
    {
     "data": {
      "text/plain": [
       "3"
      ]
     },
     "execution_count": 28,
     "metadata": {},
     "output_type": "execute_result"
    }
   ],
   "source": [
    "_NAME = \"name\"\n",
    "_NUM_NODES = \"num_nodes\"\n",
    "_NUM_FEATURES = \"num_features\"\n",
    "_WEIGHTS = \"weights\"\n",
    "_OPTIMIZER = \"optimizer\"\n",
    "_SCHEME = \"scheme\"\n",
    "_PARAMETERS = \"parameters\"\n",
    "_LOG_LEVEL = \"log_level\"\n",
    "_LAYER_CLASS = \"layer_class\"\n",
    "_LOSS_FUNCTION = \"loss_function\"\n",
    "_LAYERS = \"layers\"\n",
    "_COMPOSITE_LAYER_SPEC = \"composite_layer_specification\"\n",
    "\n",
    "LOG_LOSS_GRADIENT_ACCEPTANCE_VALUE = float(1.2)\n",
    "\n",
    "a = {\n",
    "    \"matmul02\": {\n",
    "        _PARAMETERS: {\n",
    "            _NAME: \"matmul02\",\n",
    "            _NUM_NODES: 3,\n",
    "            _NUM_FEATURES: 8,  # NOT including bias\n",
    "            _WEIGHTS: {\n",
    "                _SCHEME: \"he\"\n",
    "            }\n",
    "        }\n",
    "    }\n",
    "}\n",
    "a[\"matmul02\"][_PARAMETERS][_NUM_NODES]"
   ]
  },
  {
   "cell_type": "code",
   "execution_count": 30,
   "id": "alternative-namibia",
   "metadata": {},
   "outputs": [
    {
     "data": {
      "text/plain": [
       "6"
      ]
     },
     "execution_count": 30,
     "metadata": {},
     "output_type": "execute_result"
    }
   ],
   "source": [
    "import numpy as np\n",
    "a = [1,2,3]\n",
    "f = lambda x: np.sum(x)\n",
    "f(a)"
   ]
  },
  {
   "cell_type": "code",
   "execution_count": 35,
   "id": "suspected-tonight",
   "metadata": {},
   "outputs": [
    {
     "name": "stdout",
     "output_type": "stream",
     "text": [
      "(4, 5)\n"
     ]
    },
    {
     "data": {
      "text/plain": [
       "(4, 5)"
      ]
     },
     "execution_count": 35,
     "metadata": {},
     "output_type": "execute_result"
    }
   ],
   "source": [
    "a = np.arange(60).reshape((3,4,-1))\n",
    "print(a[0].shape)\n",
    "b = np.sum(a, axis=0, keepdims=False)\n",
    "b.shape"
   ]
  },
  {
   "cell_type": "code",
   "execution_count": 40,
   "id": "lightweight-angel",
   "metadata": {},
   "outputs": [
    {
     "data": {
      "text/plain": [
       "array(1.)"
      ]
     },
     "execution_count": 40,
     "metadata": {},
     "output_type": "execute_result"
    }
   ],
   "source": [
    "X = np.array(1)\n",
    "shape_Y = X[0].shape if X.ndim > 0 else ()\n",
    "_Y = np.empty(shape_Y, dtype=float)\n",
    "np.sum(X, out=_Y)"
   ]
  },
  {
   "cell_type": "code",
   "execution_count": 36,
   "id": "located-place",
   "metadata": {},
   "outputs": [
    {
     "data": {
      "text/plain": [
       "array([[ 60.,  63.,  66.,  69.,  72.],\n",
       "       [ 75.,  78.,  81.,  84.,  87.],\n",
       "       [ 90.,  93.,  96.,  99., 102.],\n",
       "       [105., 108., 111., 114., 117.]])"
      ]
     },
     "execution_count": 36,
     "metadata": {},
     "output_type": "execute_result"
    }
   ],
   "source": [
    "a = np.arange(60).reshape((3,4,-1))\n",
    "shape = a[0].shape\n",
    "Y = np.empty(shape)\n",
    "np.sum(a, axis=0, out=Y)\n"
   ]
  },
  {
   "cell_type": "code",
   "execution_count": null,
   "id": "complex-trout",
   "metadata": {},
   "outputs": [],
   "source": []
  },
  {
   "cell_type": "code",
   "execution_count": 4,
   "id": "fitting-accordance",
   "metadata": {},
   "outputs": [
    {
     "data": {
      "text/plain": [
       "'matmul001'"
      ]
     },
     "execution_count": 4,
     "metadata": {},
     "output_type": "execute_result"
    }
   ],
   "source": [
    "index = 1\n",
    "f\"matmul{index:03d}\""
   ]
  }
 ],
 "metadata": {
  "kernelspec": {
   "display_name": "Python 3",
   "language": "python",
   "name": "python3"
  },
  "language_info": {
   "codemirror_mode": {
    "name": "ipython",
    "version": 3
   },
   "file_extension": ".py",
   "mimetype": "text/x-python",
   "name": "python",
   "nbconvert_exporter": "python",
   "pygments_lexer": "ipython3",
   "version": "3.8.8"
  }
 },
 "nbformat": 4,
 "nbformat_minor": 5
}
