{
 "cells": [
  {
   "cell_type": "markdown",
   "id": "ranging-brake",
   "metadata": {},
   "source": [
    "[assname/jupyter_logging.py](https://gist.github.com/wassname/d17325f36c36fa663dd7de3c09a55e74)"
   ]
  },
  {
   "cell_type": "code",
   "execution_count": 5,
   "id": "foreign-conducting",
   "metadata": {},
   "outputs": [
    {
     "name": "stdout",
     "output_type": "stream",
     "text": [
      "INFO:LOGGER_NAME:So this is shown on the console\n",
      "WARNING:LOGGER_NAME:This too\n"
     ]
    }
   ],
   "source": [
    "\"\"\"\n",
    "In jupyter notebook simple logging to console\n",
    "\"\"\"\n",
    "import logging\n",
    "import sys\n",
    "\n",
    "logging.basicConfig(stream=sys.stdout, level=logging.INFO)\n",
    "\n",
    "# Test\n",
    "logger = logging.getLogger('LOGGER_NAME')\n",
    "\n",
    "logger.debug('This is hidden')\n",
    "logger.info('So this is shown on the console')\n",
    "logger.warning('This too')"
   ]
  }
 ],
 "metadata": {
  "kernelspec": {
   "display_name": "Python 3",
   "language": "python",
   "name": "python3"
  },
  "language_info": {
   "codemirror_mode": {
    "name": "ipython",
    "version": 3
   },
   "file_extension": ".py",
   "mimetype": "text/x-python",
   "name": "python",
   "nbconvert_exporter": "python",
   "pygments_lexer": "ipython3",
   "version": "3.8.5"
  }
 },
 "nbformat": 4,
 "nbformat_minor": 5
}
