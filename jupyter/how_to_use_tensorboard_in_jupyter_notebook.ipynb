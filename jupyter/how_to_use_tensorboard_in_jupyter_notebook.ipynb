{
 "cells": [
  {
   "cell_type": "markdown",
   "id": "40685e14",
   "metadata": {},
   "source": [
    "See tensorflow/tensorboard/tensorboard_demonstration_cifar10.ipynb for usages."
   ]
  },
  {
   "cell_type": "code",
   "execution_count": null,
   "id": "d3a978d4",
   "metadata": {},
   "outputs": [],
   "source": [
    "%load_ext tensorboard\n",
    "%tensorboard --logdir "
   ]
  }
 ],
 "metadata": {
  "kernelspec": {
   "display_name": "Python 3 (ipykernel)",
   "language": "python",
   "name": "python3"
  },
  "language_info": {
   "codemirror_mode": {
    "name": "ipython",
    "version": 3
   },
   "file_extension": ".py",
   "mimetype": "text/x-python",
   "name": "python",
   "nbconvert_exporter": "python",
   "pygments_lexer": "ipython3",
   "version": "3.9.13"
  }
 },
 "nbformat": 4,
 "nbformat_minor": 5
}
