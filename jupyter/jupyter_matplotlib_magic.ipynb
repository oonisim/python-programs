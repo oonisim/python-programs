{
 "cells": [
  {
   "cell_type": "markdown",
   "id": "secure-queue",
   "metadata": {},
   "source": [
    "# Jupyter notebook %matplotlib magic command"
   ]
  },
  {
   "cell_type": "markdown",
   "id": "short-validity",
   "metadata": {},
   "source": [
    "```\n",
    "Docstring:\n",
    "::\n",
    "\n",
    "  %matplotlib [-l] [gui]\n",
    "\n",
    "Set up matplotlib to work interactively.\n",
    "\n",
    "This function lets you activate matplotlib interactive support\n",
    "at any point during an IPython session. It does not import anything\n",
    "into the interactive namespace.\n",
    "\n",
    "If you are using the inline matplotlib backend in the IPython Notebook\n",
    "you can set which figure formats are enabled using the following::\n",
    "\n",
    "    In [1]: from IPython.display import set_matplotlib_formats\n",
    "\n",
    "    In [2]: set_matplotlib_formats('pdf', 'svg')\n",
    "\n",
    "The default for inline figures sets `bbox_inches` to 'tight'. This can\n",
    "cause discrepancies between the displayed image and the identical\n",
    "image created using `savefig`. This behavior can be disabled using the\n",
    "`%config` magic::\n",
    "\n",
    "    In [3]: %config InlineBackend.print_figure_kwargs = {'bbox_inches':None}\n",
    "\n",
    "In addition, see the docstring of\n",
    "`IPython.display.set_matplotlib_formats` and\n",
    "`IPython.display.set_matplotlib_close` for more information on\n",
    "changing additional behaviors of the inline backend.\n",
    "\n",
    "Examples\n",
    "--------\n",
    "To enable the inline backend for usage with the IPython Notebook::\n",
    "\n",
    "    In [1]: %matplotlib inline\n",
    "\n",
    "In this case, where the matplotlib default is TkAgg::\n",
    "\n",
    "    In [2]: %matplotlib\n",
    "    Using matplotlib backend: TkAgg\n",
    "\n",
    "But you can explicitly request a different GUI backend::\n",
    "\n",
    "    In [3]: %matplotlib qt\n",
    "\n",
    "You can list the available backends using the -l/--list option::\n",
    "\n",
    "   In [4]: %matplotlib --list\n",
    "   Available matplotlib backends: ['osx', 'qt4', 'qt5', 'gtk3', 'notebook', 'wx', 'qt', 'nbagg',\n",
    "   'gtk', 'tk', 'inline']\n",
    "\n",
    "positional arguments:\n",
    "  gui         Name of the matplotlib backend to use ('agg', 'gtk', 'gtk3', 'inline', 'ipympl', 'nbagg', 'notebook', 'osx', 'pdf', 'ps', 'qt', 'qt4', 'qt5', 'svg', 'tk', 'widget', 'wx'). If given, the\n",
    "              corresponding matplotlib backend is used, otherwise it will be matplotlib's default (which you can set in your matplotlib config file).\n",
    "\n",
    "optional arguments:\n",
    "  -l, --list  Show available matplotlib backends\n",
    "File:      ~/conda/envs/python_programs/lib/python3.8/site-packages/IPython/core/magics/pylab.py\n",
    "```"
   ]
  },
  {
   "cell_type": "code",
   "execution_count": 1,
   "id": "headed-alberta",
   "metadata": {},
   "outputs": [],
   "source": [
    "?%matplotlib"
   ]
  },
  {
   "cell_type": "markdown",
   "id": "pointed-newport",
   "metadata": {},
   "source": [
    "## Available backend\n",
    "\n",
    "* [What is a backend?](https://matplotlib.org/stable/tutorials/introductory/usage.html#what-is-a-backend)"
   ]
  },
  {
   "cell_type": "code",
   "execution_count": 2,
   "id": "careful-appointment",
   "metadata": {},
   "outputs": [
    {
     "name": "stdout",
     "output_type": "stream",
     "text": [
      "Available matplotlib backends: ['tk', 'gtk', 'gtk3', 'wx', 'qt4', 'qt5', 'qt', 'osx', 'nbagg', 'notebook', 'agg', 'svg', 'pdf', 'ps', 'inline', 'ipympl', 'widget']\n"
     ]
    }
   ],
   "source": [
    "%matplotlib -l"
   ]
  }
 ],
 "metadata": {
  "kernelspec": {
   "display_name": "Python 3",
   "language": "python",
   "name": "python3"
  },
  "language_info": {
   "codemirror_mode": {
    "name": "ipython",
    "version": 3
   },
   "file_extension": ".py",
   "mimetype": "text/x-python",
   "name": "python",
   "nbconvert_exporter": "python",
   "pygments_lexer": "ipython3",
   "version": "3.8.8"
  }
 },
 "nbformat": 4,
 "nbformat_minor": 5
}
