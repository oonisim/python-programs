{
 "cells": [
  {
   "cell_type": "markdown",
   "id": "a9b3d8d0",
   "metadata": {},
   "source": [
    "# Merge notebooks\n",
    "\n",
    "## nbmerge\n",
    "* [nbmerge](https://github.com/jbn/nbmerge)\n",
    "* [Merging two noteboooks into one in Jupyter (ipython)](https://stackoverflow.com/questions/33957418)\n",
    "\n",
    "\n",
    "## manual copy\n",
    "> Shift + J or Shift + Down to select the next cell in a downwards direction, and in an upwards direction with Shift + K or Shift + Up. You could then copy and paste them en masse to another notebook, and preserve the cell divisions by making sure the destination notebook is in Command mode (cells have blue border)."
   ]
  },
  {
   "cell_type": "code",
   "execution_count": 2,
   "id": "b5b92bf6",
   "metadata": {},
   "outputs": [
    {
     "name": "stdout",
     "output_type": "stream",
     "text": [
      "Collecting nbmerge\n",
      "  Downloading nbmerge-0.0.4.tar.gz (7.6 kB)\n",
      "Building wheels for collected packages: nbmerge\n",
      "  Building wheel for nbmerge (setup.py) ... \u001b[?25ldone\n",
      "\u001b[?25h  Created wheel for nbmerge: filename=nbmerge-0.0.4-py2.py3-none-any.whl size=6404 sha256=773b21adfae48a2663e8eeb0d59eafa2bd2277b497d58dee704e36fb8afd215b\n",
      "  Stored in directory: /home/oonisim/.cache/pip/wheels/2d/3c/a9/8753a8ef327aca9c908d4f150628b87b548e1659ecc5fe1b54\n",
      "Successfully built nbmerge\n",
      "Installing collected packages: nbmerge\n",
      "Successfully installed nbmerge-0.0.4\n",
      "\u001b[33mWARNING: You are using pip version 21.1.2; however, version 21.1.3 is available.\n",
      "You should consider upgrading via the '/home/oonisim/conda/envs/python_programs/bin/python3.8 -m pip install --upgrade pip' command.\u001b[0m\n"
     ]
    }
   ],
   "source": [
    "!pip install nbmerge"
   ]
  },
  {
   "cell_type": "code",
   "execution_count": null,
   "id": "0c48a9b4",
   "metadata": {},
   "outputs": [],
   "source": [
    "!nbmerge file_1.ipynb file_2.ipynb file_3.ipynb > merged.ipynb"
   ]
  }
 ],
 "metadata": {
  "kernelspec": {
   "display_name": "Python 3",
   "language": "python",
   "name": "python3"
  },
  "language_info": {
   "codemirror_mode": {
    "name": "ipython",
    "version": 3
   },
   "file_extension": ".py",
   "mimetype": "text/x-python",
   "name": "python",
   "nbconvert_exporter": "python",
   "pygments_lexer": "ipython3",
   "version": "3.8.10"
  }
 },
 "nbformat": 4,
 "nbformat_minor": 5
}
