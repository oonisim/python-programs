{
 "cells": [
  {
   "cell_type": "markdown",
   "id": "silent-board",
   "metadata": {},
   "source": [
    "# Clear the large output in a cell\n",
    "\n",
    "If the execution in a cell generates large output e.g. logs, the outputs are stored in the notebook itself causing loading issues."
   ]
  },
  {
   "cell_type": "markdown",
   "id": "underlying-lawrence",
   "metadata": {},
   "source": [
    "* [How to clear an IPython Notebook's output in all cells from the Linux terminal?](https://stackoverflow.com/questions/28908319)"
   ]
  },
  {
   "cell_type": "code",
   "execution_count": null,
   "id": "deluxe-acquisition",
   "metadata": {},
   "outputs": [],
   "source": [
    "%run jupyter nbconvert --clear-output --inplace <notebook_name>"
   ]
  }
 ],
 "metadata": {
  "kernelspec": {
   "display_name": "Python 3",
   "language": "python",
   "name": "python3"
  },
  "language_info": {
   "codemirror_mode": {
    "name": "ipython",
    "version": 3
   },
   "file_extension": ".py",
   "mimetype": "text/x-python",
   "name": "python",
   "nbconvert_exporter": "python",
   "pygments_lexer": "ipython3",
   "version": "3.8.8"
  }
 },
 "nbformat": 4,
 "nbformat_minor": 5
}
