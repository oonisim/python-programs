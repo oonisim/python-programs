{
 "cells": [
  {
   "cell_type": "code",
   "execution_count": null,
   "id": "0d6e042a-4c15-44aa-8e59-ff4c56baf686",
   "metadata": {},
   "outputs": [],
   "source": [
    "%%bash -s \"$LAMBDA_FUNCTION_NAME\" \"$AWS_ACCOUNT_ID\"\n",
    "aws lambda create-function \\\n",
    "    --function-name $1 \\\n",
    "    --zip-file fileb://lambda-deployment-package.zip \\\n",
    "    --handler lambda_function.lambda_handler \\\n",
    "    --runtime python3.9 \\\n",
    "    --role arn:aws:iam::$2:role/LambdaRoleForTranslation \\\n",
    "    --profile \"eml-ap-southeast-2\""
   ]
  }
 ],
 "metadata": {
  "kernelspec": {
   "display_name": "Python 3 (ipykernel)",
   "language": "python",
   "name": "python3"
  },
  "language_info": {
   "codemirror_mode": {
    "name": "ipython",
    "version": 3
   },
   "file_extension": ".py",
   "mimetype": "text/x-python",
   "name": "python",
   "nbconvert_exporter": "python",
   "pygments_lexer": "ipython3",
   "version": "3.10.10"
  }
 },
 "nbformat": 4,
 "nbformat_minor": 5
}
