{
 "cells": [
  {
   "cell_type": "code",
   "execution_count": 3,
   "id": "11d6678d",
   "metadata": {},
   "outputs": [
    {
     "data": {
      "text/html": [
       "<style>\n",
       "table {float:left}\n",
       "</style>\n"
      ],
      "text/plain": [
       "<IPython.core.display.HTML object>"
      ]
     },
     "metadata": {},
     "output_type": "display_data"
    }
   ],
   "source": [
    "%%html\n",
    "<style>\n",
    "table {float:left}\n",
    "</style>"
   ]
  },
  {
   "cell_type": "markdown",
   "id": "8663d71e",
   "metadata": {},
   "source": [
    "|       a |       b | c            |\n",
    "|--------:|--------:|--------------|\n",
    "|      10 |   1 3 + |        2 3 - |\n",
    "| b1 b2 * |      a1 | b1 a2 / c1 + |\n",
    "|       + |   1 2 3 |           c3 |\n",
    "|      -1 | a4 c4 * |      c4 b3 * |\n",
    "|       + |      c4 |           c5 |\n"
   ]
  },
  {
   "cell_type": "code",
   "execution_count": null,
   "id": "0fa20554",
   "metadata": {},
   "outputs": [],
   "source": []
  }
 ],
 "metadata": {
  "kernelspec": {
   "display_name": "Python 3",
   "language": "python",
   "name": "python3"
  },
  "language_info": {
   "codemirror_mode": {
    "name": "ipython",
    "version": 3
   },
   "file_extension": ".py",
   "mimetype": "text/x-python",
   "name": "python",
   "nbconvert_exporter": "python",
   "pygments_lexer": "ipython3",
   "version": "3.7.9"
  }
 },
 "nbformat": 4,
 "nbformat_minor": 5
}
