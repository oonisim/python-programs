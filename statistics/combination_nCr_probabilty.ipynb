{
 "cells": [
  {
   "cell_type": "markdown",
   "id": "67bac34e",
   "metadata": {},
   "source": [
    "# Combination ${n \\choose r}$\n",
    "\n",
    "```n choose k = n! / (k! * (n - k)!)```\n",
    "\n",
    "* [math.comb(n, k)](https://docs.python.org/3/library/math.html#math.comb)\n",
    "\n",
    "> Return the number of ways to choose k items from n items without repetition and without order.\n",
    "> Evaluates to ```n! / (k! * (n - k)!)``` when ```k <= n``` and evaluates to zero when ```k > n```.\n",
    "> Also called the binomial coefficient because it is equivalent to the coefficient of k-th term in polynomial expansion of (1 + x)ⁿ."
   ]
  },
  {
   "cell_type": "code",
   "execution_count": 1,
   "id": "2d8d42b8",
   "metadata": {},
   "outputs": [],
   "source": [
    "import math"
   ]
  },
  {
   "cell_type": "markdown",
   "id": "9979f4ea",
   "metadata": {},
   "source": [
    "# Example\n",
    "\n",
    "Probability to get heads 59 times out of 100. As the order **doesn't matter**, total number of combination is ${n \\choose 0} + {n \\choose 1} + {n \\choose 2} + \\dots + {n \\choose n} = 2^n$.\n",
    "\n",
    "* [Calculate the total number of combinations over n elements, where the number of elements in each subset is in {0,..,n}?](https://math.stackexchange.com/a/2003038/315246)\n",
    "* [Compound probability of independent events](https://www.khanacademy.org/math/ap-statistics/probability-ap/probability-multiplication-rule/v/compound-probability-of-independent-events)"
   ]
  },
  {
   "cell_type": "code",
   "execution_count": 8,
   "id": "a626f7c4",
   "metadata": {},
   "outputs": [
    {
     "data": {
      "text/plain": [
       "0.015869073236543397"
      ]
     },
     "execution_count": 8,
     "metadata": {},
     "output_type": "execute_result"
    }
   ],
   "source": [
    "math.comb(100, 59) / (2 ** 100)"
   ]
  },
  {
   "cell_type": "code",
   "execution_count": 3,
   "id": "45f5b40d",
   "metadata": {},
   "outputs": [],
   "source": [
    "def probability_of_r_out_of_n(n, r) -> float:\n",
    "    return math.comb(n, r) / (2 ** n)"
   ]
  },
  {
   "cell_type": "code",
   "execution_count": 5,
   "id": "adbb8681",
   "metadata": {},
   "outputs": [
    {
     "data": {
      "text/plain": [
       "0.015869073236543397"
      ]
     },
     "execution_count": 5,
     "metadata": {},
     "output_type": "execute_result"
    }
   ],
   "source": [
    "probability_of_r_out_of_n(100, 59)"
   ]
  },
  {
   "cell_type": "code",
   "execution_count": 41,
   "id": "caf9eabd",
   "metadata": {},
   "outputs": [],
   "source": [
    "def cumulative_probability_of_r_out_of_n(n, lower, upper) -> float:\n",
    "    \"\"\"Cumulative probability of r between lower and upper.\n",
    "    e.g. sum of the probabilities of heads between 40 and 60 out of 100 flips,\n",
    "    including heads=40 and heads=60.\n",
    "    \"\"\"\n",
    "    return sum([\n",
    "        math.comb(n, i) / (2 ** n) for i in range(lower, upper+1)\n",
    "    ])"
   ]
  },
  {
   "cell_type": "code",
   "execution_count": 45,
   "id": "de823efc",
   "metadata": {},
   "outputs": [
    {
     "data": {
      "text/plain": [
       "0.017600100108852407"
      ]
     },
     "execution_count": 45,
     "metadata": {},
     "output_type": "execute_result"
    }
   ],
   "source": [
    "cumulative_probability_of_r_out_of_n(100, 61, 100)"
   ]
  },
  {
   "cell_type": "code",
   "execution_count": 37,
   "id": "f712aa47",
   "metadata": {},
   "outputs": [
    {
     "data": {
      "text/plain": [
       "0.05688793364098066"
      ]
     },
     "execution_count": 37,
     "metadata": {},
     "output_type": "execute_result"
    }
   ],
   "source": [
    "1 - cumulative_probability_of_r_out_of_n(100, 41, 59)"
   ]
  },
  {
   "cell_type": "code",
   "execution_count": null,
   "id": "2e5bfa0f",
   "metadata": {},
   "outputs": [],
   "source": []
  }
 ],
 "metadata": {
  "kernelspec": {
   "display_name": "Python 3 (ipykernel)",
   "language": "python",
   "name": "python3"
  },
  "language_info": {
   "codemirror_mode": {
    "name": "ipython",
    "version": 3
   },
   "file_extension": ".py",
   "mimetype": "text/x-python",
   "name": "python",
   "nbconvert_exporter": "python",
   "pygments_lexer": "ipython3",
   "version": "3.9.13"
  }
 },
 "nbformat": 4,
 "nbformat_minor": 5
}
