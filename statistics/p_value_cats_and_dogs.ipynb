{
 "cells": [
  {
   "cell_type": "markdown",
   "id": "bca3a85b",
   "metadata": {},
   "source": [
    "# p-value calculation from Normal Distribution\n",
    "\n",
    "* [p-value calculation method](https://stats.stackexchange.com/questions/543925)\n",
    "* [Hypothesis Testing in Finance: Concept and Examples](https://www.investopedia.com/articles/active-trading/092214/hypothesis-testing-finance-concept-examples.asp)"
   ]
  },
  {
   "cell_type": "code",
   "execution_count": 1,
   "id": "36cb749d",
   "metadata": {},
   "outputs": [],
   "source": [
    "import random\n",
    "import numpy as np\n",
    "import scipy\n",
    "import scipy.stats\n",
    "import matplotlib.pyplot as plt"
   ]
  },
  {
   "cell_type": "markdown",
   "id": "c5b5ba43",
   "metadata": {},
   "source": [
    "# HDD MTTF distribution\n",
    "\n",
    "<img src=\"image/what_is_p_value.jpg\" aligh=\"left\"/>"
   ]
  },
  {
   "cell_type": "code",
   "execution_count": 15,
   "id": "a6d1ce06",
   "metadata": {},
   "outputs": [
    {
     "name": "stdout",
     "output_type": "stream",
     "text": [
      "mean 0.00000 std 0.22361\n"
     ]
    }
   ],
   "source": [
    "H0 = np.array([-1] * 2500 + [1] * 2500 + [0] * 95000)\n",
    "np.random.shuffle(H0)\n",
    "\n",
    "u = np.mean(H0)\n",
    "sd = np.std(H0)\n",
    "print(f\"mean {u:.5f} std {sd:.5f}\")"
   ]
  },
  {
   "cell_type": "markdown",
   "id": "e235e2ff",
   "metadata": {},
   "source": [
    "# ND from Sampling Means from H0\n",
    "\n",
    "Based on the CLT, sampling means forms a ND where \n",
    "\n",
    "* mean $\\overline {\\mu} = \\mu$\n",
    "* sd $\\overline {\\sigma} = \\sigma / \\sqrt { n}$ \n",
    "\n",
    "(```n``` is the sample size, $\\sigma$ is the standard deviation of the original distribution)\n",
    "\n",
    "* [Kahn Academy - Standard Error of the Mean](https://youtu.be/J1twbrHel3o?t=438)\n",
    "\n",
    "<img src=\"image/sd_of_clt_nd.png\" align=\"left\" width=600/>"
   ]
  },
  {
   "cell_type": "code",
   "execution_count": 3,
   "id": "d17fec48",
   "metadata": {},
   "outputs": [
    {
     "name": "stdout",
     "output_type": "stream",
     "text": [
      "Expected mean and SD of the sampling ND: su 0.0 ssd 0.022360679774997897\n"
     ]
    }
   ],
   "source": [
    "n = 100\n",
    "\n",
    "expected_su = u\n",
    "expected_ssd = sd / np.sqrt(n)\n",
    "print(f\"Expected mean and SD of the sampling ND: su {expected_su} ssd {expected_ssd}\")"
   ]
  },
  {
   "cell_type": "markdown",
   "id": "625bf1a2",
   "metadata": {},
   "source": [
    "$\\sigma$ $\\mu$\n"
   ]
  },
  {
   "cell_type": "code",
   "execution_count": 4,
   "id": "f1bbef79",
   "metadata": {},
   "outputs": [
    {
     "data": {
      "image/png": "[encoded data removed]",
      "text/plain": [
       "<Figure size 432x288 with 1 Axes>"
      ]
     },
     "metadata": {
      "needs_background": "light"
     },
     "output_type": "display_data"
    }
   ],
   "source": [
    "p = scipy.stats.norm(loc=expected_su, scale=expected_ssd)\n",
    "\n",
    "x = np.linspace(expected_su - 3*expected_ssd, expected_su + 3*expected_ssd, 100)\n",
    "plt.plot(x, p.pdf(x))\n",
    "plt.grid()"
   ]
  },
  {
   "cell_type": "code",
   "execution_count": 5,
   "id": "e03a6fc4",
   "metadata": {},
   "outputs": [
    {
     "name": "stdout",
     "output_type": "stream",
     "text": [
      "value at 2σ 0.044721359549995794 cdf at 2σ 0.9772498680518208 p-value at 2σ 0.02275013194817921\n"
     ]
    }
   ],
   "source": [
    "at_two_sigma = expected_su + 2 * expected_ssd\n",
    "print(f\"value at 2σ {at_two_sigma} cdf at 2σ {p.cdf(at_two_sigma)} p-value at 2σ {1-p.cdf(at_two_sigma)}\")"
   ]
  },
  {
   "cell_type": "markdown",
   "id": "71ef4ab2",
   "metadata": {},
   "source": [
    "# p-value $P(3.2|H_0)$"
   ]
  },
  {
   "cell_type": "markdown",
   "id": "8bfed06e",
   "metadata": {},
   "source": [
    "## Theoretical p-value from ND CDF\n",
    "\n",
    "Expected p-value as CDF of the The theoretical Normal Distributon from the samplings is $ND(\\overline {\\mu}, \\overline {\\sigma})$"
   ]
  },
  {
   "cell_type": "code",
   "execution_count": 6,
   "id": "f98ac887",
   "metadata": {},
   "outputs": [
    {
     "data": {
      "text/plain": [
       "1.0"
      ]
     },
     "execution_count": 6,
     "metadata": {},
     "output_type": "execute_result"
    }
   ],
   "source": [
    "p.cdf(np.inf)"
   ]
  },
  {
   "cell_type": "code",
   "execution_count": 7,
   "id": "009fd853",
   "metadata": {},
   "outputs": [],
   "source": [
    "def p_value(m):\n",
    "    return 1 - p.cdf(m)"
   ]
  },
  {
   "cell_type": "code",
   "execution_count": 14,
   "id": "77091ce8",
   "metadata": {},
   "outputs": [
    {
     "data": {
      "text/plain": [
       "0.0126736593387341"
      ]
     },
     "execution_count": 14,
     "metadata": {},
     "output_type": "execute_result"
    }
   ],
   "source": [
    "p_value(0.05)"
   ]
  },
  {
   "cell_type": "markdown",
   "id": "04181146",
   "metadata": {},
   "source": [
    "# p-value from the samplings"
   ]
  },
  {
   "cell_type": "code",
   "execution_count": 10,
   "id": "3a0c5188",
   "metadata": {},
   "outputs": [],
   "source": [
    "def sample_means(D, n=100, N = 10000):\n",
    "    \"\"\"Reapeat N times of taking a sample of size n from D \n",
    "    Args:\n",
    "        D: Distribution\n",
    "        n: sample size\n",
    "        N: Number of repeats to take sample\n",
    "    \"\"\"\n",
    "    means = []\n",
    "    for i in range(N):\n",
    "        means.append(np.mean(np.random.choice(a=D, size=n, replace=False)))\n",
    "    return np.array(means)"
   ]
  },
  {
   "cell_type": "code",
   "execution_count": 11,
   "id": "adf0bee2",
   "metadata": {},
   "outputs": [],
   "source": [
    "means = sample_means(H0, N=10000, n=100)"
   ]
  },
  {
   "cell_type": "code",
   "execution_count": 12,
   "id": "1b22f4f2",
   "metadata": {},
   "outputs": [
    {
     "name": "stdout",
     "output_type": "stream",
     "text": [
      "sampled: mean -0.00 sd 0.02\n"
     ]
    }
   ],
   "source": [
    "su = np.mean(means)\n",
    "ssd = np.std(means)\n",
    "print(f\"sampled: mean {su:.2f} sd {ssd:.2f}\")"
   ]
  },
  {
   "cell_type": "code",
   "execution_count": 13,
   "id": "5bba2770",
   "metadata": {},
   "outputs": [
    {
     "data": {
      "image/png": "[encoded data removed]",
      "text/plain": [
       "<Figure size 432x288 with 1 Axes>"
      ]
     },
     "metadata": {
      "needs_background": "light"
     },
     "output_type": "display_data"
    }
   ],
   "source": [
    "plt.hist(means, bins=50)\n",
    "plt.grid()"
   ]
  },
  {
   "cell_type": "code",
   "execution_count": 18,
   "id": "e26af339",
   "metadata": {},
   "outputs": [
    {
     "data": {
      "text/plain": [
       "0.055493"
      ]
     },
     "execution_count": 18,
     "metadata": {},
     "output_type": "execute_result"
    }
   ],
   "source": [
    "means[(means >= 3.216)].size / means.size"
   ]
  }
 ],
 "metadata": {
  "kernelspec": {
   "display_name": "Python 3 (ipykernel)",
   "language": "python",
   "name": "python3"
  },
  "language_info": {
   "codemirror_mode": {
    "name": "ipython",
    "version": 3
   },
   "file_extension": ".py",
   "mimetype": "text/x-python",
   "name": "python",
   "nbconvert_exporter": "python",
   "pygments_lexer": "ipython3",
   "version": "3.8.10"
  }
 },
 "nbformat": 4,
 "nbformat_minor": 5
}
