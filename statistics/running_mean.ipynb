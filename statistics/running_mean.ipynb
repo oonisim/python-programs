{
 "cells": [
  {
   "cell_type": "code",
   "execution_count": null,
   "id": "involved-black",
   "metadata": {},
   "outputs": [],
   "source": [
    "import numpy as np"
   ]
  },
  {
   "cell_type": "markdown",
   "id": "timely-revolution",
   "metadata": {},
   "source": [
    "# Running mean\n",
    "\n",
    "* [Incremental averageing](https://math.stackexchange.com/a/1836447/315246)\n",
    "* [Incremental means and variances](https://datagenetics.com/blog/november22017/index.html)"
   ]
  },
  {
   "cell_type": "markdown",
   "id": "constitutional-things",
   "metadata": {},
   "source": [
    "$\n",
    "\\begin {align*}\n",
    "\\sum_{i=1}^n x_i &= n * \\mu_{n} = x_n + (n-1) * \\mu_{n-1} \\\\\n",
    "\\mu_{n}&= \\frac {x_n}{n} + \\frac {(n-1)}{n} * \\mu_{n-1} = \\frac {x_n}{n} + \\mu_{n-1} - \\frac {\\mu_{n-1}}{n} \\\\\n",
    "\\mu_{n}&=\\mu_{n-1} + \\frac{1}{n}( x_{n} - \\mu_{n-1} )\n",
    "\\end {align*}\n",
    "$"
   ]
  },
  {
   "cell_type": "markdown",
   "id": "formal-scratch",
   "metadata": {},
   "source": [
    "# Running mean of batch data X of size N"
   ]
  },
  {
   "cell_type": "markdown",
   "id": "peripheral-designation",
   "metadata": {},
   "source": [
    "Batch $X_i$ and batch size $N_i$. Total number of ```X``` = $\n",
    "\\begin {align*}\n",
    "L_k = \\sum \\limits ^k_i N_i\n",
    "\\end {align*}\n",
    "$\n",
    "\n",
    "Running mean of the entire X with a new batch $X_{k+1}$.\n",
    "\n",
    "$\n",
    "\\begin {align*}\n",
    "\\mu _{k} \n",
    "&= \\frac {L_{k-1} * \\mu_{k-1} + \\sum\\limits X_{k}}{L_{k-1} + N_{k}} \\\\\n",
    "&= \\frac {(L_{k-1} + N_{k}) * \\mu_{k-1} - N_{k} * \\mu_{k-1} + \\sum\\limits X_{k}}{L_{k-1} + N_{k}} \\\\\n",
    "&= \\mu_{k-1} + \\frac {\\sum\\limits X_{k} - N_{k} * \\mu_{k-1}}{L_{k}}\n",
    "\\end {align*}\n",
    "$"
   ]
  },
  {
   "cell_type": "code",
   "execution_count": 3,
   "id": "general-stock",
   "metadata": {},
   "outputs": [
    {
     "name": "stdout",
     "output_type": "stream",
     "text": [
      "Games processed: 8\n",
      "Average game length: 38.0\n",
      "DONE\n"
     ]
    }
   ],
   "source": [
    "#!/usr/bin/python\n",
    "\"\"\"\n",
    "Requirements:\n",
    "Parse the csv files 'data.csv'. Print out the:\n",
    "a) row (game) count\n",
    "b) average of \"Game Length\"\n",
    "Skip malformed game data\n",
    "Example input\n",
    "\"Game Number\", \"Game Length\"\n",
    "1, 30\n",
    "2, 29\n",
    "3, 31\n",
    "4, 16\n",
    "5, 24\n",
    "6, 29\n",
    "7, 28\n",
    "8, 117\n",
    "from thousands to millions of rows\n",
    "\"\"\"\n",
    "import csv\n",
    "import numpy\n",
    "import pandas as pd\n",
    "\n",
    "def _to_Num(s):\n",
    "    try:\n",
    "        return int(s)\n",
    "    except Exception as e:\n",
    "        try:\n",
    "            return float(s)\n",
    "        except ValueError:\n",
    "            return 0\n",
    "\n",
    "\n",
    "def _is_ints(s):\n",
    "    return [_to_Num(x) for x in s]\n",
    "\n",
    "\n",
    "def stream(path):\n",
    "    with open(path, 'rt+') as f:\n",
    "        # Check if there is a header row\n",
    "        has_header = csv.Sniffer().has_header(f.read(1024))\n",
    "\n",
    "        # Reset the FP\n",
    "        f.seek(0)\n",
    "        lines = csv.reader(f, skipinitialspace=True)\n",
    "\n",
    "        # Skip header if exists\n",
    "        if has_header:\n",
    "            next(lines)\n",
    "\n",
    "        # yield rows\n",
    "        for row in lines:\n",
    "            if len(row) == 2:\n",
    "                yield _is_ints(row)\n",
    "\n",
    "\n",
    "avg_length = 0\n",
    "count = 0\n",
    "\n",
    "for game_number, game_length in stream('data.csv'):\n",
    "    try:\n",
    "        x = _to_Num(game_length)\n",
    "        count += 1\n",
    "        avg_length += (x - avg_length) / count\n",
    "    except Exception as e:  # Could not cast to int. Row is malformed.\n",
    "        print(e)\n",
    "        continue\n",
    "\n",
    "print(f\"Games processed: {count}\")  # Skip the header\n",
    "print(f\"Average game length: {avg_length}\")\n",
    "print(\"DONE\")"
   ]
  },
  {
   "cell_type": "code",
   "execution_count": 6,
   "id": "aa1d208c",
   "metadata": {},
   "outputs": [
    {
     "data": {
      "text/html": [
       "<div>\n",
       "<style scoped>\n",
       "    .dataframe tbody tr th:only-of-type {\n",
       "        vertical-align: middle;\n",
       "    }\n",
       "\n",
       "    .dataframe tbody tr th {\n",
       "        vertical-align: top;\n",
       "    }\n",
       "\n",
       "    .dataframe thead th {\n",
       "        text-align: right;\n",
       "    }\n",
       "</style>\n",
       "<table border=\"1\" class=\"dataframe\">\n",
       "  <thead>\n",
       "    <tr style=\"text-align: right;\">\n",
       "      <th></th>\n",
       "      <th>GameNumber</th>\n",
       "      <th>GameLength</th>\n",
       "    </tr>\n",
       "  </thead>\n",
       "  <tbody>\n",
       "    <tr>\n",
       "      <th>0</th>\n",
       "      <td>1</td>\n",
       "      <td>30</td>\n",
       "    </tr>\n",
       "    <tr>\n",
       "      <th>1</th>\n",
       "      <td>2</td>\n",
       "      <td>29</td>\n",
       "    </tr>\n",
       "    <tr>\n",
       "      <th>2</th>\n",
       "      <td>3</td>\n",
       "      <td>31</td>\n",
       "    </tr>\n",
       "    <tr>\n",
       "      <th>3</th>\n",
       "      <td>4</td>\n",
       "      <td>16</td>\n",
       "    </tr>\n",
       "    <tr>\n",
       "      <th>4</th>\n",
       "      <td>5</td>\n",
       "      <td>24</td>\n",
       "    </tr>\n",
       "    <tr>\n",
       "      <th>5</th>\n",
       "      <td>6</td>\n",
       "      <td>29</td>\n",
       "    </tr>\n",
       "    <tr>\n",
       "      <th>6</th>\n",
       "      <td>7</td>\n",
       "      <td>28</td>\n",
       "    </tr>\n",
       "    <tr>\n",
       "      <th>7</th>\n",
       "      <td>8</td>\n",
       "      <td>117</td>\n",
       "    </tr>\n",
       "  </tbody>\n",
       "</table>\n",
       "</div>"
      ],
      "text/plain": [
       "   GameNumber  GameLength\n",
       "0           1          30\n",
       "1           2          29\n",
       "2           3          31\n",
       "3           4          16\n",
       "4           5          24\n",
       "5           6          29\n",
       "6           7          28\n",
       "7           8         117"
      ]
     },
     "execution_count": 6,
     "metadata": {},
     "output_type": "execute_result"
    }
   ],
   "source": [
    "df = pd.read_csv('data.csv', quotechar='\"')\n",
    "df"
   ]
  },
  {
   "cell_type": "code",
   "execution_count": 7,
   "id": "05ab94fb",
   "metadata": {},
   "outputs": [
    {
     "data": {
      "text/plain": [
       "38.0"
      ]
     },
     "execution_count": 7,
     "metadata": {},
     "output_type": "execute_result"
    }
   ],
   "source": [
    "df['GameLength'].values.mean()"
   ]
  },
  {
   "cell_type": "code",
   "execution_count": null,
   "id": "362ea809",
   "metadata": {},
   "outputs": [],
   "source": []
  }
 ],
 "metadata": {
  "kernelspec": {
   "display_name": "Python 3 (ipykernel)",
   "language": "python",
   "name": "python3"
  },
  "language_info": {
   "codemirror_mode": {
    "name": "ipython",
    "version": 3
   },
   "file_extension": ".py",
   "mimetype": "text/x-python",
   "name": "python",
   "nbconvert_exporter": "python",
   "pygments_lexer": "ipython3",
   "version": "3.9.13"
  }
 },
 "nbformat": 4,
 "nbformat_minor": 5
}
