{
 "cells": [
  {
   "cell_type": "code",
   "execution_count": null,
   "id": "involved-black",
   "metadata": {},
   "outputs": [],
   "source": [
    "import numpy as np"
   ]
  },
  {
   "cell_type": "markdown",
   "id": "timely-revolution",
   "metadata": {},
   "source": [
    "# Running mean\n",
    "\n",
    "* [Incremental averageing](https://math.stackexchange.com/a/1836447/315246)\n",
    "* [Incremental means and variances](https://datagenetics.com/blog/november22017/index.html)"
   ]
  },
  {
   "cell_type": "markdown",
   "id": "constitutional-things",
   "metadata": {},
   "source": [
    "$\n",
    "\\begin {align*}\n",
    "\\mu_{k}=\\mu_{k-1} + \\frac{( x_{k} - \\mu_{k-1} )}{k}\n",
    "\\end {align*}\n",
    "$"
   ]
  },
  {
   "cell_type": "markdown",
   "id": "formal-scratch",
   "metadata": {},
   "source": [
    "# Running mean of batch data X of size N"
   ]
  },
  {
   "cell_type": "markdown",
   "id": "peripheral-designation",
   "metadata": {},
   "source": [
    "Batch $X_i$ and batch size $N_i$. Total number of ```X``` = $\n",
    "\\begin {align*}\n",
    "L_k = \\sum \\limits ^k_i N_i\n",
    "\\end {align*}\n",
    "$\n",
    "\n",
    "Running mean of the entire X with a new batch $X_{k+1}$.\n",
    "\n",
    "$\n",
    "\\begin {align*}\n",
    "\\mu _{k} \n",
    "&= \\frac {L_{k-1} * \\mu_{k-1} + \\sum\\limits X_{k}}{L_{k-1} + N_{k}} \\\\\n",
    "&= \\frac {(L_{k-1} + N_{k}) * \\mu_{k-1} - N_{k} * \\mu_{k-1} + \\sum\\limits X_{k}}{L_{k-1} + N_{k}} \\\\\n",
    "&= \\mu_{k-1} + \\frac {\\sum\\limits X_{k} - N_{k} * \\mu_{k-1}}{L_{k}}\n",
    "\\end {align*}\n",
    "$"
   ]
  },
  {
   "cell_type": "code",
   "execution_count": null,
   "id": "general-stock",
   "metadata": {},
   "outputs": [],
   "source": []
  }
 ],
 "metadata": {
  "kernelspec": {
   "display_name": "Python 3",
   "language": "python",
   "name": "python3"
  },
  "language_info": {
   "codemirror_mode": {
    "name": "ipython",
    "version": 3
   },
   "file_extension": ".py",
   "mimetype": "text/x-python",
   "name": "python",
   "nbconvert_exporter": "python",
   "pygments_lexer": "ipython3",
   "version": "3.8.8"
  }
 },
 "nbformat": 4,
 "nbformat_minor": 5
}
