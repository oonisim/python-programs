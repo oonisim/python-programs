{
 "cells": [
  {
   "cell_type": "markdown",
   "id": "6e19f92c-aefd-4a47-b3ae-5a5b07c93795",
   "metadata": {},
   "source": [
    "# Variance of Inner Product\n",
    "\n",
    "What is the variance of the inner product of two vectors ```x``` and ```y``` where each vector has ```D``` dimensions and sampled from standard distributions?\n",
    "\n",
    "It will be $D$.\n",
    "\n",
    "<img src=\"image/dot_product_variance.jpeg\" align=\"left\" width=800/>"
   ]
  },
  {
   "cell_type": "code",
   "execution_count": 19,
   "id": "d2b2b0ff-c0ba-4261-858b-b1f23da9b4b1",
   "metadata": {},
   "outputs": [],
   "source": [
    "import numpy as np\n",
    "import matplotlib.pyplot as plt"
   ]
  },
  {
   "cell_type": "code",
   "execution_count": 20,
   "id": "6854c7e6-0011-44ad-a046-2acbde313a0c",
   "metadata": {},
   "outputs": [],
   "source": [
    "# Dimension of x and y\n",
    "D = 512\n",
    "expected_variance = V = D\n",
    "print(f\"expected variance of x@y is [{expected_variance}].\")"
   ]
  },
  {
   "cell_type": "markdown",
   "id": "319df984-2dd4-4fb6-b173-16ae9b5662ee",
   "metadata": {},
   "source": [
    "# Generate and display vector product distribution"
   ]
  },
  {
   "cell_type": "code",
   "execution_count": 34,
   "id": "270bfbef-16f4-4148-8b13-590c75f78555",
   "metadata": {},
   "outputs": [],
   "source": [
    "def product():\n",
    "    x = np.random.normal(loc=0, scale=1, size=N)\n",
    "    y = np.random.normal(loc=0, scale=1, size=N)\n",
    "    return np.dot(x, y)"
   ]
  },
  {
   "cell_type": "code",
   "execution_count": 36,
   "id": "ac710209-c74d-4be4-ae46-30ceb5a09c72",
   "metadata": {},
   "outputs": [
    {
     "data": {
      "image/png": "[encoded data removed]",
      "text/plain": [
       "<Figure size 640x480 with 1 Axes>"
      ]
     },
     "metadata": {},
     "output_type": "display_data"
    }
   ],
   "source": [
    "products = [\n",
    "    product()\n",
    "    for _ in range(1000)\n",
    "]\n",
    "_ = plt.hist(products, bins=50)"
   ]
  },
  {
   "cell_type": "markdown",
   "id": "4067b4bf-dba0-432a-98bb-1fe76c5317b1",
   "metadata": {},
   "source": [
    "## Actual Variance of vector products"
   ]
  },
  {
   "cell_type": "code",
   "execution_count": 27,
   "id": "cc35aafb-3465-4312-88f2-73b50e4c88c2",
   "metadata": {},
   "outputs": [
    {
     "data": {
      "text/plain": [
       "506.7121121255482"
      ]
     },
     "execution_count": 27,
     "metadata": {},
     "output_type": "execute_result"
    }
   ],
   "source": [
    "np.var(products)"
   ]
  },
  {
   "cell_type": "code",
   "execution_count": 29,
   "id": "c4b4c9c4-70d4-4c5f-a725-a23d918a98db",
   "metadata": {},
   "outputs": [],
   "source": [
    "covariances = [\n",
    "    np.cov(np.random.normal(loc=0, scale=1, size=N), np.random.normal(loc=0, scale=1, size=N))\n",
    "    for _ in range(1000)\n",
    "]"
   ]
  },
  {
   "cell_type": "code",
   "execution_count": null,
   "id": "f9ce4d70-4e43-4c31-bb81-8316f4f6e3c2",
   "metadata": {},
   "outputs": [],
   "source": []
  },
  {
   "cell_type": "code",
   "execution_count": null,
   "id": "85a0aeb3-552c-4a61-84f5-f2d68d500deb",
   "metadata": {},
   "outputs": [],
   "source": []
  },
  {
   "cell_type": "code",
   "execution_count": 33,
   "id": "ff940b77-5fc9-4be8-8033-df88f3b62d57",
   "metadata": {},
   "outputs": [
    {
     "data": {
      "text/plain": [
       "-0.021730112184248154"
      ]
     },
     "execution_count": 33,
     "metadata": {},
     "output_type": "execute_result"
    }
   ],
   "source": [
    "np.cov(np.random.normal(loc=0, scale=1, size=N), np.random.normal(loc=0, scale=1, size=N))[(0, 1)]"
   ]
  },
  {
   "cell_type": "code",
   "execution_count": null,
   "id": "62e4cbe5-1a30-4640-ae4f-bc4dc025d988",
   "metadata": {},
   "outputs": [],
   "source": []
  }
 ],
 "metadata": {
  "kernelspec": {
   "display_name": "Python 3 (ipykernel)",
   "language": "python",
   "name": "python3"
  },
  "language_info": {
   "codemirror_mode": {
    "name": "ipython",
    "version": 3
   },
   "file_extension": ".py",
   "mimetype": "text/x-python",
   "name": "python",
   "nbconvert_exporter": "python",
   "pygments_lexer": "ipython3",
   "version": "3.10.10"
  }
 },
 "nbformat": 4,
 "nbformat_minor": 5
}
