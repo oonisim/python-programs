{
 "cells": [
  {
   "cell_type": "markdown",
   "id": "68a029d6",
   "metadata": {},
   "source": [
    "$\n",
    "\\begin {align*}\n",
    "\\sum_{i=1}^n Z_i &= n * X_{n} = Z_n + (n-1) * X_{n-1} \\\\\n",
    "X_{n}&= \\frac {Z_n}{n} + \\frac {(n-1)}{n} * X_{n-1} = \\frac {Z_n}{n} + X_{n-1} - \\frac {X_{n-1}}{n} \\\\\n",
    "X_{n}&=X_{n-1} + \\frac{1}{n}( Z_{n} - X_{n-1} ) \\\\\n",
    "&=X_{n-1} + K( Z_{n} - X_{n-1} ) \\\\\n",
    "\\text {where } K &= \\frac {1}{n}\n",
    "\\end {align*}\n",
    "$"
   ]
  },
  {
   "cell_type": "code",
   "execution_count": null,
   "id": "1a49e927",
   "metadata": {},
   "outputs": [],
   "source": []
  }
 ],
 "metadata": {
  "kernelspec": {
   "display_name": "Python 3 (ipykernel)",
   "language": "python",
   "name": "python3"
  }
 },
 "nbformat": 4,
 "nbformat_minor": 5
}
