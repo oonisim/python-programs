{
 "cells": [
  {
   "cell_type": "markdown",
   "id": "bef90eb4",
   "metadata": {},
   "source": [
    "# Moving median\n",
    "\n",
    "> Have the function MovingMedian(arr) read the array of numbers stored in arr which will contain a sliding window size, N, as the first element in the array and the rest will be a list of numbers. Your program should return the Moving Median for each element based on the element and its N-1 predecessors, where N is the sliding window size. The final output should be a string with the moving median corresponding to each entry in the original array separated by commas.  \n",
    ">  \n",
    "> Note that for the first few elements (until the window size is reached), the median is computed on a smaller number of entries. For example: if arr is [3, 1, 3, 5, 10, 6, 4, 3, 1] then your program should output \"1,2,3,5,6,6,4,3\""
   ]
  },
  {
   "cell_type": "code",
   "execution_count": 1,
   "id": "9f579189",
   "metadata": {},
   "outputs": [],
   "source": [
    "import numpy as np"
   ]
  },
  {
   "cell_type": "markdown",
   "id": "19cf751d",
   "metadata": {},
   "source": [
    "## Understand how median works"
   ]
  },
  {
   "cell_type": "code",
   "execution_count": 42,
   "id": "7951892c",
   "metadata": {},
   "outputs": [
    {
     "data": {
      "text/plain": [
       "1.0"
      ]
     },
     "execution_count": 42,
     "metadata": {},
     "output_type": "execute_result"
    }
   ],
   "source": [
    "np.median([1])"
   ]
  },
  {
   "cell_type": "code",
   "execution_count": 43,
   "id": "8730a502",
   "metadata": {},
   "outputs": [
    {
     "data": {
      "text/plain": [
       "1.5"
      ]
     },
     "execution_count": 43,
     "metadata": {},
     "output_type": "execute_result"
    }
   ],
   "source": [
    "np.median([1, 2])"
   ]
  },
  {
   "cell_type": "code",
   "execution_count": 44,
   "id": "5a879ea0",
   "metadata": {},
   "outputs": [
    {
     "data": {
      "text/plain": [
       "2.0"
      ]
     },
     "execution_count": 44,
     "metadata": {},
     "output_type": "execute_result"
    }
   ],
   "source": [
    "np.median([1, 2, 3])"
   ]
  },
  {
   "cell_type": "markdown",
   "id": "f4295a66",
   "metadata": {},
   "source": [
    "## Solution"
   ]
  },
  {
   "cell_type": "code",
   "execution_count": 18,
   "id": "85829675",
   "metadata": {},
   "outputs": [
    {
     "data": {
      "text/plain": [
       "[[1],\n",
       " [1, 3],\n",
       " [1, 3, 5],\n",
       " [3, 5, 10],\n",
       " [5, 10, 6],\n",
       " [10, 6, 4],\n",
       " [6, 4, 3],\n",
       " [4, 3, 1]]"
      ]
     },
     "execution_count": 18,
     "metadata": {},
     "output_type": "execute_result"
    }
   ],
   "source": [
    "windows= [\n",
    "    data[max(0, (i-W+1)): (i+1)]\n",
    "    for i in range(0, N)\n",
    "]"
   ]
  },
  {
   "cell_type": "code",
   "execution_count": 16,
   "id": "2f6db2ee",
   "metadata": {},
   "outputs": [
    {
     "data": {
      "text/plain": [
       "1"
      ]
     },
     "execution_count": 16,
     "metadata": {},
     "output_type": "execute_result"
    }
   ],
   "source": [
    "max(0, 1)"
   ]
  },
  {
   "cell_type": "code",
   "execution_count": 39,
   "id": "6be70a13",
   "metadata": {},
   "outputs": [],
   "source": [
    "import numpy as np\n",
    "def MovingMedian(arr):\n",
    "    W, *data = arr\n",
    "    N = len(data)\n",
    "    del arr\n",
    "\n",
    "    windows= [\n",
    "        data[max(0, (i-W+1)): (i+1)]\n",
    "        for i in range(0, N)\n",
    "    ]\n",
    "    # print(windows)\n",
    "\n",
    "    medians = map(lambda x: str(int(np.median(x))), windows)\n",
    "    # print(list(medians))  # Consumable\n",
    "    \n",
    "    result = \",\".join(str(x) for x in medians)\n",
    "   \n",
    "    return result"
   ]
  },
  {
   "cell_type": "code",
   "execution_count": 40,
   "id": "4247163d",
   "metadata": {},
   "outputs": [
    {
     "name": "stdout",
     "output_type": "stream",
     "text": [
      "3,5,10,6,4,3,1\n"
     ]
    }
   ],
   "source": [
    "a = [1, 3, 5, 10, 6, 4, 3, 1]\n",
    "print(MovingMedian(a))"
   ]
  },
  {
   "cell_type": "code",
   "execution_count": null,
   "id": "bbbea3dc",
   "metadata": {},
   "outputs": [],
   "source": []
  }
 ],
 "metadata": {
  "kernelspec": {
   "display_name": "Python 3 (ipykernel)",
   "language": "python",
   "name": "python3"
  },
  "language_info": {
   "codemirror_mode": {
    "name": "ipython",
    "version": 3
   },
   "file_extension": ".py",
   "mimetype": "text/x-python",
   "name": "python",
   "nbconvert_exporter": "python",
   "pygments_lexer": "ipython3",
   "version": "3.8.10"
  }
 },
 "nbformat": 4,
 "nbformat_minor": 5
}
