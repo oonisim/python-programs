{
 "cells": [
  {
   "cell_type": "markdown",
   "id": "bca3a85b",
   "metadata": {},
   "source": [
    "# p-value calculation from Normal Distribution\n",
    "\n",
    "* [p-value calculation method](https://stats.stackexchange.com/questions/543925)"
   ]
  },
  {
   "cell_type": "code",
   "execution_count": 1,
   "id": "36cb749d",
   "metadata": {},
   "outputs": [],
   "source": [
    "import random\n",
    "import numpy as np\n",
    "import scipy\n",
    "import scipy.stats\n",
    "import matplotlib.pyplot as plt"
   ]
  },
  {
   "cell_type": "markdown",
   "id": "c5b5ba43",
   "metadata": {},
   "source": [
    "# HDD MTTF distribution\n",
    "\n",
    "<img src=\"image/what_is_p_value.jpg\" aligh=\"left\"/>"
   ]
  },
  {
   "cell_type": "code",
   "execution_count": 2,
   "id": "a6d1ce06",
   "metadata": {},
   "outputs": [
    {
     "name": "stdout",
     "output_type": "stream",
     "text": [
      "mean 2.97 std 1.54\n"
     ]
    }
   ],
   "source": [
    "H0 = np.array([1] * 10000 + [2] * 25000 + [3] * 4000 + [4] * 3000 + [5] * 20000)\n",
    "np.random.shuffle(H0)\n",
    "\n",
    "u = np.mean(H0)\n",
    "sd = np.std(H0)\n",
    "print(f\"mean {u:.2f} std {sd:.2f}\")"
   ]
  },
  {
   "cell_type": "markdown",
   "id": "e235e2ff",
   "metadata": {},
   "source": [
    "# Sampling from H0"
   ]
  },
  {
   "cell_type": "code",
   "execution_count": 3,
   "id": "3a0c5188",
   "metadata": {},
   "outputs": [],
   "source": [
    "def sample_means(a, N = 10000):\n",
    "    means = []\n",
    "    for i in range(N):\n",
    "        means.append(np.mean(np.random.choice(a=a, size=100, replace=False)))\n",
    "    return np.array(means)"
   ]
  },
  {
   "cell_type": "code",
   "execution_count": 4,
   "id": "adf0bee2",
   "metadata": {},
   "outputs": [],
   "source": [
    "means = sample_means(H0, 500000)"
   ]
  },
  {
   "cell_type": "code",
   "execution_count": 9,
   "id": "1b22f4f2",
   "metadata": {},
   "outputs": [
    {
     "name": "stdout",
     "output_type": "stream",
     "text": [
      "sampled: mean 2.97 sd 0.15\n"
     ]
    }
   ],
   "source": [
    "su = np.mean(means)\n",
    "ssd = np.std(means)\n",
    "print(f\"sampled: mean {sm:.2f} sd {ssd:.2f}\")"
   ]
  },
  {
   "cell_type": "code",
   "execution_count": 6,
   "id": "5bba2770",
   "metadata": {},
   "outputs": [
    {
     "data": {
      "image/png": "[encoded data removed]",
      "text/plain": [
       "<Figure size 432x288 with 1 Axes>"
      ]
     },
     "metadata": {
      "needs_background": "light"
     },
     "output_type": "display_data"
    }
   ],
   "source": [
    "plt.hist(means, bins=50)\n",
    "plt.grid()"
   ]
  },
  {
   "cell_type": "markdown",
   "id": "71ef4ab2",
   "metadata": {},
   "source": [
    "# $P(3.2|H_0)$"
   ]
  },
  {
   "cell_type": "code",
   "execution_count": 7,
   "id": "016ef04f",
   "metadata": {},
   "outputs": [
    {
     "data": {
      "text/plain": [
       "0.071136"
      ]
     },
     "execution_count": 7,
     "metadata": {},
     "output_type": "execute_result"
    }
   ],
   "source": [
    "means[(means >= 3.2)].size / means.size"
   ]
  },
  {
   "cell_type": "markdown",
   "id": "8bfed06e",
   "metadata": {},
   "source": [
    "## ND CDF"
   ]
  },
  {
   "cell_type": "code",
   "execution_count": 10,
   "id": "f1bbef79",
   "metadata": {},
   "outputs": [
    {
     "data": {
      "image/png": "[encoded data removed]",
      "text/plain": [
       "<Figure size 432x288 with 1 Axes>"
      ]
     },
     "metadata": {
      "needs_background": "light"
     },
     "output_type": "display_data"
    }
   ],
   "source": [
    "p = scipy.stats.norm(loc=sm, scale=ssd)\n",
    "\n",
    "x = np.linspace(su - 3*ssd, su + 3*ssd, 1000)\n",
    "plt.plot(x, p.pdf(x))\n",
    "plt.grid()"
   ]
  },
  {
   "cell_type": "code",
   "execution_count": 11,
   "id": "f98ac887",
   "metadata": {},
   "outputs": [
    {
     "data": {
      "text/plain": [
       "1.0"
      ]
     },
     "execution_count": 11,
     "metadata": {},
     "output_type": "execute_result"
    }
   ],
   "source": [
    "p.cdf(np.inf)"
   ]
  },
  {
   "cell_type": "code",
   "execution_count": 12,
   "id": "009fd853",
   "metadata": {},
   "outputs": [],
   "source": [
    "def p_value(m):\n",
    "    return 1 - p.cdf(m)"
   ]
  },
  {
   "cell_type": "code",
   "execution_count": 13,
   "id": "77091ce8",
   "metadata": {},
   "outputs": [
    {
     "data": {
      "text/plain": [
       "0.06606687348283569"
      ]
     },
     "execution_count": 13,
     "metadata": {},
     "output_type": "execute_result"
    }
   ],
   "source": [
    "p_value(3.2)"
   ]
  },
  {
   "cell_type": "code",
   "execution_count": null,
   "id": "e03a6fc4",
   "metadata": {},
   "outputs": [],
   "source": []
  }
 ],
 "metadata": {
  "kernelspec": {
   "display_name": "Python 3 (ipykernel)",
   "language": "python",
   "name": "python3"
  },
  "language_info": {
   "codemirror_mode": {
    "name": "ipython",
    "version": 3
   },
   "file_extension": ".py",
   "mimetype": "text/x-python",
   "name": "python",
   "nbconvert_exporter": "python",
   "pygments_lexer": "ipython3",
   "version": "3.8.10"
  }
 },
 "nbformat": 4,
 "nbformat_minor": 5
}
