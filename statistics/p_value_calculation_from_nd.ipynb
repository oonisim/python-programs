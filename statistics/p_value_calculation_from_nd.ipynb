{
 "cells": [
  {
   "cell_type": "markdown",
   "id": "bca3a85b",
   "metadata": {},
   "source": [
    "# p-value calculation from Normal Distribution\n",
    "\n",
    "* [p-value calculation method](https://stats.stackexchange.com/questions/543925)"
   ]
  },
  {
   "cell_type": "code",
   "execution_count": 1,
   "id": "36cb749d",
   "metadata": {},
   "outputs": [],
   "source": [
    "import random\n",
    "import numpy as np\n",
    "import scipy\n",
    "import scipy.stats\n",
    "import matplotlib.pyplot as plt"
   ]
  },
  {
   "cell_type": "markdown",
   "id": "c5b5ba43",
   "metadata": {},
   "source": [
    "# HDD MTTF distribution\n",
    "\n",
    "<img src=\"image/what_is_p_value.jpg\" aligh=\"left\"/>"
   ]
  },
  {
   "cell_type": "code",
   "execution_count": 2,
   "id": "a6d1ce06",
   "metadata": {},
   "outputs": [
    {
     "name": "stdout",
     "output_type": "stream",
     "text": [
      "mean 2.97 std 1.54\n"
     ]
    }
   ],
   "source": [
    "H0 = np.array([1] * 10000 + [2] * 25000 + [3] * 4000 + [4] * 3000 + [5] * 20000)\n",
    "np.random.shuffle(H0)\n",
    "\n",
    "u = np.mean(H0)\n",
    "sd = np.std(H0)\n",
    "print(f\"mean {u:.2f} std {sd:.2f}\")"
   ]
  },
  {
   "cell_type": "markdown",
   "id": "e235e2ff",
   "metadata": {},
   "source": [
    "# ND from Sampling Means from H0\n",
    "\n",
    "Based on the CLT, sampling means forms a ND where \n",
    "\n",
    "* mean $\\overline {\\mu} = \\mu$\n",
    "* sd $\\overline {\\sigma} = \\sqrt { \\sigma / n}$ \n",
    "\n",
    "(```n``` is the sample size, $\\sigma$ is the standard deviation of the original distribution)\n",
    "\n",
    "* [Kahn Academy - Standard Error of the Mean](https://youtu.be/J1twbrHel3o?t=438)\n",
    "\n",
    "<img src=\"image/sd_of_clt_nd.png\" align=\"left\" width=600/>"
   ]
  },
  {
   "cell_type": "code",
   "execution_count": 3,
   "id": "d17fec48",
   "metadata": {},
   "outputs": [
    {
     "name": "stdout",
     "output_type": "stream",
     "text": [
      "Expected mean and SD of the sampling ND: su 2.967741935483871 ssd 0.12428541498950468\n"
     ]
    }
   ],
   "source": [
    "n = 100\n",
    "\n",
    "expected_su = u\n",
    "expected_ssd = np.sqrt(sd / n)\n",
    "print(f\"Expected mean and SD of the sampling ND: su {expected_su} ssd {expected_ssd}\")"
   ]
  },
  {
   "cell_type": "code",
   "execution_count": 4,
   "id": "f1bbef79",
   "metadata": {},
   "outputs": [
    {
     "data": {
      "image/png": "[encoded data removed]",
      "text/plain": [
       "<Figure size 432x288 with 1 Axes>"
      ]
     },
     "metadata": {
      "needs_background": "light"
     },
     "output_type": "display_data"
    }
   ],
   "source": [
    "p = scipy.stats.norm(loc=expected_su, scale=expected_ssd)\n",
    "\n",
    "x = np.linspace(expected_su - 3*expected_ssd, expected_su + 3*expected_ssd, 100)\n",
    "plt.plot(x, p.pdf(x))\n",
    "plt.grid()"
   ]
  },
  {
   "cell_type": "code",
   "execution_count": 8,
   "id": "e03a6fc4",
   "metadata": {},
   "outputs": [
    {
     "name": "stdout",
     "output_type": "stream",
     "text": [
      "value at 2σ 3.2163127654628805 cdf at 2σ 0.9772498680518209 p-value at 2σ 0.022750131948179098\n"
     ]
    }
   ],
   "source": [
    "at_two_sigma = expected_su + 2 * expected_ssd\n",
    "print(f\"value at 2σ {at_two_sigma} cdf at 2σ {p.cdf(at_two_sigma)} p-value at 2σ {1-p.cdf(at_two_sigma)}\")"
   ]
  },
  {
   "cell_type": "markdown",
   "id": "71ef4ab2",
   "metadata": {},
   "source": [
    "# p-value $P(3.2|H_0)$"
   ]
  },
  {
   "cell_type": "markdown",
   "id": "8bfed06e",
   "metadata": {},
   "source": [
    "## Theoretical p-value from ND CDF\n",
    "\n",
    "Expected p-value as CDF of the The theoretical Normal Distributon from the samplings is $ND(\\overline {\\mu}, \\overline {\\sigma})$"
   ]
  },
  {
   "cell_type": "code",
   "execution_count": 5,
   "id": "f98ac887",
   "metadata": {},
   "outputs": [
    {
     "data": {
      "text/plain": [
       "1.0"
      ]
     },
     "execution_count": 5,
     "metadata": {},
     "output_type": "execute_result"
    }
   ],
   "source": [
    "p.cdf(np.inf)"
   ]
  },
  {
   "cell_type": "code",
   "execution_count": 6,
   "id": "009fd853",
   "metadata": {},
   "outputs": [],
   "source": [
    "def p_value(m):\n",
    "    return 1 - p.cdf(m)"
   ]
  },
  {
   "cell_type": "code",
   "execution_count": 7,
   "id": "77091ce8",
   "metadata": {},
   "outputs": [
    {
     "data": {
      "text/plain": [
       "0.03082897271092444"
      ]
     },
     "execution_count": 7,
     "metadata": {},
     "output_type": "execute_result"
    }
   ],
   "source": [
    "p_value(3.2)"
   ]
  },
  {
   "cell_type": "markdown",
   "id": "04181146",
   "metadata": {},
   "source": [
    "# p-value from the samplings"
   ]
  },
  {
   "cell_type": "code",
   "execution_count": 9,
   "id": "3a0c5188",
   "metadata": {},
   "outputs": [],
   "source": [
    "def sample_means(D, n=100, N = 10000):\n",
    "    \"\"\"Reapeat N times of taking a sample of size n from D \n",
    "    Args:\n",
    "        D: Distribution\n",
    "        n: sample size\n",
    "        N: Number of repeats to take sample\n",
    "    \"\"\"\n",
    "    means = []\n",
    "    for i in range(N):\n",
    "        means.append(np.mean(np.random.choice(a=D, size=n, replace=False)))\n",
    "    return np.array(means)"
   ]
  },
  {
   "cell_type": "code",
   "execution_count": 10,
   "id": "adf0bee2",
   "metadata": {},
   "outputs": [],
   "source": [
    "means = sample_means(H0, N=1000000, n=100)"
   ]
  },
  {
   "cell_type": "code",
   "execution_count": 11,
   "id": "1b22f4f2",
   "metadata": {},
   "outputs": [
    {
     "name": "stdout",
     "output_type": "stream",
     "text": [
      "sampled: mean 2.97 sd 0.15\n"
     ]
    }
   ],
   "source": [
    "su = np.mean(means)\n",
    "ssd = np.std(means)\n",
    "print(f\"sampled: mean {su:.2f} sd {ssd:.2f}\")"
   ]
  },
  {
   "cell_type": "code",
   "execution_count": 12,
   "id": "5bba2770",
   "metadata": {},
   "outputs": [
    {
     "data": {
      "image/png": "[encoded data removed]",
      "text/plain": [
       "<Figure size 432x288 with 1 Axes>"
      ]
     },
     "metadata": {
      "needs_background": "light"
     },
     "output_type": "display_data"
    }
   ],
   "source": [
    "plt.hist(means, bins=50)\n",
    "plt.grid()"
   ]
  },
  {
   "cell_type": "code",
   "execution_count": 13,
   "id": "e26af339",
   "metadata": {},
   "outputs": [
    {
     "data": {
      "text/plain": [
       "0.07132"
      ]
     },
     "execution_count": 13,
     "metadata": {},
     "output_type": "execute_result"
    }
   ],
   "source": [
    "means[(means >= 3.2)].size / means.size"
   ]
  }
 ],
 "metadata": {
  "kernelspec": {
   "display_name": "Python 3 (ipykernel)",
   "language": "python",
   "name": "python3"
  },
  "language_info": {
   "codemirror_mode": {
    "name": "ipython",
    "version": 3
   },
   "file_extension": ".py",
   "mimetype": "text/x-python",
   "name": "python",
   "nbconvert_exporter": "python",
   "pygments_lexer": "ipython3",
   "version": "3.8.10"
  }
 },
 "nbformat": 4,
 "nbformat_minor": 5
}
