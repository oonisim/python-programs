{
 "cells": [
  {
   "cell_type": "markdown",
   "id": "worldwide-oxide",
   "metadata": {},
   "source": [
    "* [Generating a list of random numbers, summing to 1](https://stackoverflow.com/a/18662466/4281353)\n",
    "* [numpy.random.dirichlet](https://numpy.org/doc/stable/reference/random/generated/numpy.random.dirichlet.html)"
   ]
  },
  {
   "cell_type": "code",
   "execution_count": 1,
   "id": "formed-private",
   "metadata": {},
   "outputs": [],
   "source": [
    "import numpy as np"
   ]
  },
  {
   "cell_type": "code",
   "execution_count": 12,
   "id": "blank-reality",
   "metadata": {},
   "outputs": [
    {
     "name": "stdout",
     "output_type": "stream",
     "text": [
      "(6, 15)\n",
      "[[0.08623327 0.05561922 0.05741466 0.00810864 0.02421132 0.05823311\n",
      "  0.12614316 0.03196908 0.03850418 0.07297655 0.01746462 0.05928365\n",
      "  0.02498969 0.17505765 0.1637912 ]\n",
      " [0.02912494 0.11856733 0.03031139 0.23433662 0.03316245 0.07885864\n",
      "  0.03918995 0.04329759 0.08837308 0.01517079 0.00059943 0.09662186\n",
      "  0.04158971 0.12022039 0.03057584]\n",
      " [0.01846875 0.03212701 0.04037015 0.08989574 0.20966705 0.00900148\n",
      "  0.15064177 0.04032746 0.05143437 0.01663858 0.00948902 0.10158576\n",
      "  0.02495297 0.02908043 0.17631948]\n",
      " [0.03519251 0.01961462 0.03959084 0.06135011 0.01474972 0.03051197\n",
      "  0.06598302 0.32275984 0.07081454 0.05302166 0.0963296  0.01692169\n",
      "  0.01184768 0.07641726 0.08489496]\n",
      " [0.09377865 0.00819901 0.06713204 0.00922211 0.08448742 0.0796654\n",
      "  0.05013867 0.0650408  0.03219421 0.33400796 0.12474528 0.0061146\n",
      "  0.02744966 0.00667859 0.01114561]\n",
      " [0.0314932  0.1814608  0.07645372 0.01691395 0.07015287 0.20219615\n",
      "  0.00231469 0.00168123 0.03818106 0.20758766 0.03261142 0.01723869\n",
      "  0.07919677 0.00314876 0.03936902]]\n"
     ]
    }
   ],
   "source": [
    "N = 6\n",
    "M = 15\n",
    "\n",
    "P = np.random.dirichlet(np.ones(M), N)\n",
    "print(P.shape)\n",
    "print(P)"
   ]
  },
  {
   "cell_type": "code",
   "execution_count": 10,
   "id": "sharing-apollo",
   "metadata": {},
   "outputs": [
    {
     "data": {
      "text/plain": [
       "array([1., 1., 1., 1., 1.])"
      ]
     },
     "execution_count": 10,
     "metadata": {},
     "output_type": "execute_result"
    }
   ],
   "source": [
    "np.sum(P, axis=-1)"
   ]
  }
 ],
 "metadata": {
  "kernelspec": {
   "display_name": "Python 3",
   "language": "python",
   "name": "python3"
  },
  "language_info": {
   "codemirror_mode": {
    "name": "ipython",
    "version": 3
   },
   "file_extension": ".py",
   "mimetype": "text/x-python",
   "name": "python",
   "nbconvert_exporter": "python",
   "pygments_lexer": "ipython3",
   "version": "3.8.5"
  }
 },
 "nbformat": 4,
 "nbformat_minor": 5
}
