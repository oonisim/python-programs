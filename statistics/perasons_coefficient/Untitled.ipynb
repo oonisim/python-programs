{
 "cells": [
  {
   "cell_type": "code",
   "execution_count": 1,
   "id": "31f3493e",
   "metadata": {},
   "outputs": [],
   "source": [
    "from typing import (\n",
    "    List,\n",
    "    Dict,\n",
    "    Any,\n",
    "    Tuple,\n",
    "    Callable,\n",
    "    Union,\n",
    "    Optional,\n",
    ")\n",
    "import os\n",
    "import sys\n",
    "import logging\n",
    "import numpy as np"
   ]
  },
  {
   "cell_type": "code",
   "execution_count": 2,
   "id": "b8ce99fe",
   "metadata": {},
   "outputs": [],
   "source": [
    "X = np.array([\n",
    "    [73, 72, 76],\n",
    "    [48, 67, 76],\n",
    "    [95, 92, 95]\n",
    "])"
   ]
  },
  {
   "cell_type": "code",
   "execution_count": 3,
   "id": "27858ff1",
   "metadata": {},
   "outputs": [
    {
     "data": {
      "text/plain": [
       "array([[  4.33333333,  16.83333333,   2.5       ],\n",
       "       [ 16.83333333, 204.33333333,  -5.        ],\n",
       "       [  2.5       ,  -5.        ,   3.        ]])"
      ]
     },
     "execution_count": 3,
     "metadata": {},
     "output_type": "execute_result"
    }
   ],
   "source": [
    "np.cov(X)"
   ]
  },
  {
   "cell_type": "code",
   "execution_count": 5,
   "id": "cdc27d9b",
   "metadata": {},
   "outputs": [
    {
     "name": "stdout",
     "output_type": "stream",
     "text": [
      "0.14\n"
     ]
    }
   ],
   "source": [
    "\"\"\"\n",
    "Pearson’s coefficient of correlation\n",
    "\"\"\"\n",
    "from typing import (\n",
    "    List,\n",
    "    Dict,\n",
    "    Any,\n",
    "    Tuple,\n",
    "    Callable,\n",
    "    Union,\n",
    "    Optional,\n",
    ")\n",
    "import os\n",
    "import sys\n",
    "import logging\n",
    "import numpy as np\n",
    "\n",
    "physics_scores: List[int] = [15, 12, 8,  8,  7,  7,  7,  6,  5,  3]\n",
    "history_scores: List[int] = [10, 25, 17, 11, 13, 17, 20, 13, 9,  15]\n",
    "\n",
    "\n",
    "def var(X: Union[List[float], List[int], np.ndarray], ddof: int = 1) -> np.ndarray:\n",
    "    \"\"\"\n",
    "    Args:\n",
    "        X: data points\n",
    "        ddof: degree of freedom\n",
    "    Returns:\n",
    "    \"\"\"\n",
    "    variance: np.ndarray = np.inf\n",
    "\n",
    "    # Variance = sum((X - mean)**2) / (N - ddof) where N = len(X)\n",
    "    mean: np.ndarray = np.mean(X)\n",
    "    n: int = len(X)\n",
    "\n",
    "    variance = np.sum(\n",
    "        (X - mean)**2\n",
    "    ) / (n - ddof)\n",
    "\n",
    "    return variance\n",
    "\n",
    "\n",
    "def std(X: np.ndarray, ddof: int = 1) -> np.ndarray:\n",
    "    # std = sqrt(variance(X)\n",
    "    return np.sqrt(var(X, ddof))\n",
    "\n",
    "\n",
    "def cov(X: np.ndarray, Y: np.ndarray, ddof: int = 1) -> np.ndarray:\n",
    "    \"\"\"Covariance between the observations X and Y\n",
    "    Same with CovarianceMatrix[0][1] from numpy.corrcoef.\n",
    "\n",
    "    Args:\n",
    "        X: observation 1\n",
    "        Y: observation 2\n",
    "        ddof: degree of freedom\n",
    "    Returns: Covariance between the observations X and Y\n",
    "    \"\"\"\n",
    "    # cov = sum((X-X_mean) * (Y-Y-mean)) / (N - ddof)\n",
    "    n: int = len(X)\n",
    "    return np.sum(\n",
    "        (X - np.mean(X)) * (Y - np.mean(Y))\n",
    "    ) / (n - ddof)\n",
    "\n",
    "\n",
    "def correlation(X: np.ndarray, Y: np.ndarray, ddof: int = 1):\n",
    "    \"\"\"Pearson’s coefficient of correlation\n",
    "    Args:\n",
    "        X: observation 1\n",
    "        Y: observation 2\n",
    "        ddof: degree of freedom\n",
    "    Returns: Pearson’s coefficient of correlation\n",
    "    \"\"\"\n",
    "    # correlation = cov(X, Y, ddof) / (std(X, ddof) * std(Y, ddof))\n",
    "    return cov(X, Y, ddof) / std(X, ddof=ddof) / std(Y, ddof=ddof)\n",
    "\n",
    "\n",
    "def main():\n",
    "    X: np.ndarray = np.arange(10)\n",
    "    Y: np.ndarray = np.random.randint(0, 20, size=10)\n",
    "\n",
    "    assert np.allclose(var(X=X, ddof=1), np.var(a=X, ddof=1), atol=1e-2), \\\n",
    "        f\"var(X) is {var(X)}, np.var(X) is {np.var(X)}\"\n",
    "\n",
    "    assert np.allclose(std(X, ddof=1), np.std(X, ddof=1)), \\\n",
    "        f\"std(X) is {std(X)}, np.std(X) is {np.std(X)}\"\n",
    "\n",
    "    assert np.allclose(cov(X=X, Y=Y, ddof=1), np.cov(X, Y, ddof=1)[0][1])\n",
    "    assert np.allclose(correlation(X=X, Y=Y, ddof=1), np.corrcoef(x=X, y=Y)[0][1], atol=1e-2), \\\n",
    "        f\"correlation(X=X, Y=Y, ddof=1): {correlation(X=X, Y=Y, ddof=1)} \" \\\n",
    "        f\"np.corrcoef(x=X, y=Y, ddof=1)): {np.corrcoef(x=X, y=Y, ddof=1)[0][1]}\"\n",
    "\n",
    "    print(np.round(correlation(\n",
    "        X=physics_scores,\n",
    "        Y=history_scores,\n",
    "        ddof=1\n",
    "    ), 2))\n",
    "\n",
    "\n",
    "if __name__ == \"__main__\":\n",
    "    main()\n"
   ]
  },
  {
   "cell_type": "code",
   "execution_count": 15,
   "id": "71f3d138",
   "metadata": {},
   "outputs": [
    {
     "name": "stdout",
     "output_type": "stream",
     "text": [
      "[[1, 4, 5, 6], [1, 4, 6, 5], [1, 5, 4, 6], [1, 5, 6, 4], [1, 6, 4, 5], [1, 6, 5, 4], [4, 1, 5, 6], [4, 1, 6, 5], [4, 5, 1, 6], [4, 5, 6, 1], [4, 6, 1, 5], [4, 6, 5, 1], [5, 1, 4, 6], [5, 1, 6, 4], [5, 4, 1, 6], [5, 4, 6, 1], [5, 6, 1, 4], [5, 6, 4, 1], [6, 1, 4, 5], [6, 1, 5, 4], [6, 4, 1, 5], [6, 4, 5, 1], [6, 5, 1, 4], [6, 5, 4, 1]]\n",
      "1\n"
     ]
    }
   ],
   "source": [
    "#!/bin/python3\n",
    "\n",
    "import math\n",
    "import os\n",
    "import random\n",
    "import re\n",
    "import sys\n",
    "\n",
    "\n",
    "\n",
    "# Complete the next_permutation function below.\n",
    "from itertools import permutations\n",
    "\n",
    "\n",
    "def next_permutation(nums):\n",
    "    \n",
    "    if len(nums) > 0:\n",
    "        permutated = [\n",
    "            list(row) for row in permutations(sorted(nums), len(nums))\n",
    "        ]\n",
    "        print(list(permutated))\n",
    "        index: int = permutated.index(nums)\n",
    "        print(index)\n",
    "       \n",
    "        \n",
    "    else:\n",
    "        raise RuntimeError(\"No such permutation\")\n",
    "\n",
    "next_permutation([1,4,6,5])"
   ]
  },
  {
   "cell_type": "code",
   "execution_count": 13,
   "id": "ef41ddbd",
   "metadata": {},
   "outputs": [
    {
     "data": {
      "text/plain": [
       "'1,2,4,3'"
      ]
     },
     "execution_count": 13,
     "metadata": {},
     "output_type": "execute_result"
    }
   ],
   "source": [
    "','.join(['1', '2', '4', '3'])"
   ]
  },
  {
   "cell_type": "code",
   "execution_count": 18,
   "id": "3745f02e",
   "metadata": {},
   "outputs": [
    {
     "ename": "TypeError",
     "evalue": "Expected int as r",
     "output_type": "error",
     "traceback": [
      "\u001b[1;31m---------------------------------------------------------------------------\u001b[0m",
      "\u001b[1;31mTypeError\u001b[0m                                 Traceback (most recent call last)",
      "Cell \u001b[1;32mIn [18], line 7\u001b[0m\n\u001b[0;32m      1\u001b[0m \u001b[38;5;28;01mimport\u001b[39;00m \u001b[38;5;21;01mitertools\u001b[39;00m\n\u001b[0;32m      3\u001b[0m somelists \u001b[38;5;241m=\u001b[39m [\n\u001b[0;32m      4\u001b[0m    [\u001b[38;5;241m1\u001b[39m, \u001b[38;5;241m2\u001b[39m, \u001b[38;5;241m3\u001b[39m],\n\u001b[0;32m      5\u001b[0m    [\u001b[38;5;241m4\u001b[39m, \u001b[38;5;241m5\u001b[39m]\n\u001b[0;32m      6\u001b[0m ]\n\u001b[1;32m----> 7\u001b[0m \u001b[38;5;28;01mfor\u001b[39;00m element \u001b[38;5;129;01min\u001b[39;00m \u001b[43mitertools\u001b[49m\u001b[38;5;241;43m.\u001b[39;49m\u001b[43mpermutations\u001b[49m\u001b[43m(\u001b[49m\u001b[38;5;241;43m*\u001b[39;49m\u001b[43msomelists\u001b[49m\u001b[43m)\u001b[49m:\n\u001b[0;32m      8\u001b[0m     \u001b[38;5;28mprint\u001b[39m(element)\n",
      "\u001b[1;31mTypeError\u001b[0m: Expected int as r"
     ]
    }
   ],
   "source": [
    "import itertools\n",
    "\n",
    "somelists = [\n",
    "   [1, 2, 3],\n",
    "   [4, 5]\n",
    "]\n",
    "for element in itertools.permutations(*somelists):\n",
    "    print(element)"
   ]
  },
  {
   "cell_type": "code",
   "execution_count": 19,
   "id": "4965d383",
   "metadata": {},
   "outputs": [
    {
     "data": {
      "text/plain": [
       "2"
      ]
     },
     "execution_count": 19,
     "metadata": {},
     "output_type": "execute_result"
    }
   ],
   "source": [
    "a = (1, 2)\n",
    "a[1]"
   ]
  },
  {
   "cell_type": "code",
   "execution_count": null,
   "id": "d0498cb5",
   "metadata": {},
   "outputs": [],
   "source": []
  }
 ],
 "metadata": {
  "kernelspec": {
   "display_name": "Python 3 (ipykernel)",
   "language": "python",
   "name": "python3"
  },
  "language_info": {
   "codemirror_mode": {
    "name": "ipython",
    "version": 3
   },
   "file_extension": ".py",
   "mimetype": "text/x-python",
   "name": "python",
   "nbconvert_exporter": "python",
   "pygments_lexer": "ipython3",
   "version": "3.9.12"
  }
 },
 "nbformat": 4,
 "nbformat_minor": 5
}
