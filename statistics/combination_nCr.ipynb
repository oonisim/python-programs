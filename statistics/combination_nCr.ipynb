{
 "cells": [
  {
   "cell_type": "markdown",
   "id": "67bac34e",
   "metadata": {},
   "source": [
    "# Combination ${n \\choose r}$\n",
    "\n",
    "```n choose k = n! / (k! * (n - k)!)```\n",
    "\n",
    "* [math.comb(n, k)](https://docs.python.org/3/library/math.html#math.comb)\n",
    "\n",
    "> Return the number of ways to choose k items from n items without repetition and without order.\n",
    "> Evaluates to ```n! / (k! * (n - k)!)``` when ```k <= n``` and evaluates to zero when ```k > n```.\n",
    "> Also called the binomial coefficient because it is equivalent to the coefficient of k-th term in polynomial expansion of (1 + x)ⁿ."
   ]
  },
  {
   "cell_type": "code",
   "execution_count": 2,
   "id": "2d8d42b8",
   "metadata": {},
   "outputs": [],
   "source": [
    "import math"
   ]
  },
  {
   "cell_type": "markdown",
   "id": "9979f4ea",
   "metadata": {},
   "source": [
    "# Example\n",
    "\n",
    "Probability to get heads 59 times out of 100. As the order **doesn't matter**, total number of combination is ${n \\choose 0} + {n \\choose 1} + {n \\choose 2} + \\dots + {n \\choose n} = 2^n$.\n",
    "\n",
    "* [Calculate the total number of combinations over n elements, where the number of elements in each subset is in {0,..,n}?](https://math.stackexchange.com/a/2003038/315246)\n",
    "* [Compound probability of independent events](https://www.khanacademy.org/math/ap-statistics/probability-ap/probability-multiplication-rule/v/compound-probability-of-independent-events)"
   ]
  },
  {
   "cell_type": "code",
   "execution_count": 8,
   "id": "a626f7c4",
   "metadata": {},
   "outputs": [
    {
     "data": {
      "text/plain": [
       "0.015869073236543397"
      ]
     },
     "execution_count": 8,
     "metadata": {},
     "output_type": "execute_result"
    }
   ],
   "source": [
    "math.comb(100, 59) / (2 ** 100)"
   ]
  },
  {
   "cell_type": "code",
   "execution_count": null,
   "id": "caf9eabd",
   "metadata": {},
   "outputs": [],
   "source": []
  }
 ],
 "metadata": {
  "kernelspec": {
   "display_name": "Python 3 (ipykernel)",
   "language": "python",
   "name": "python3"
  },
  "language_info": {
   "codemirror_mode": {
    "name": "ipython",
    "version": 3
   },
   "file_extension": ".py",
   "mimetype": "text/x-python",
   "name": "python",
   "nbconvert_exporter": "python",
   "pygments_lexer": "ipython3",
   "version": "3.9.13"
  }
 },
 "nbformat": 4,
 "nbformat_minor": 5
}
