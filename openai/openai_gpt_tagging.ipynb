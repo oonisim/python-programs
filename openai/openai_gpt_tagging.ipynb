{
 "cells": [
  {
   "cell_type": "markdown",
   "id": "07440233-d15a-45eb-b4ae-8fc63b6e2b38",
   "metadata": {},
   "source": [
    "# PYTHONPATH"
   ]
  },
  {
   "cell_type": "code",
   "execution_count": 3,
   "id": "08a350fa",
   "metadata": {},
   "outputs": [],
   "source": [
    "import json\n",
    "import os\n",
    "import re\n",
    "import sys\n",
    "import pathlib"
   ]
  },
  {
   "cell_type": "code",
   "execution_count": 4,
   "id": "ba7bbd1b-b2b5-4578-ac7d-ec6cb54b8e44",
   "metadata": {
    "tags": []
   },
   "outputs": [],
   "source": [
    "PATH_TO_LIB: str = str(pathlib.Path(\"../lib\").resolve())"
   ]
  },
  {
   "cell_type": "code",
   "execution_count": 5,
   "id": "e6b44514-0712-48d5-b6a7-2a99a149c95f",
   "metadata": {
    "tags": []
   },
   "outputs": [],
   "source": [
    "if PATH_TO_LIB not in sys.path:\n",
    "    sys.path.insert(0, PATH_TO_LIB)"
   ]
  },
  {
   "cell_type": "code",
   "execution_count": 6,
   "id": "3304ec6c-c84a-49c5-bcf5-7925398e6400",
   "metadata": {
    "tags": []
   },
   "outputs": [],
   "source": [
    "%load_ext autoreload\n",
    "%autoreload 2\n",
    "from gpt import (\n",
    "    ChatTaskForTextTagging\n",
    ")"
   ]
  },
  {
   "cell_type": "code",
   "execution_count": 7,
   "id": "460c21ce",
   "metadata": {},
   "outputs": [],
   "source": [
    "def clean(text: str):\n",
    "    cleaned = re.sub(r'[\\s\\\"—”\\n\\t\\\\]+', ' ', text, flags=re.MULTILINE).strip()\n",
    "    return cleaned"
   ]
  },
  {
   "cell_type": "markdown",
   "id": "98becdfc",
   "metadata": {},
   "source": [
    "# Data"
   ]
  },
  {
   "cell_type": "code",
   "execution_count": 121,
   "id": "14bc211a",
   "metadata": {},
   "outputs": [],
   "source": [
    "theme = 'North Korea says spy satellite launch crashed into sea'\n",
    "article = re.sub(r'[\\s]+', ' ', \"\"\"\n",
    "北朝鮮の朝鮮中央通信は31日、国家宇宙開発局が午前6時27分ごろに軍事偵察衛星「マンリギョン1号」を打ち上げ、事故により「黄海上に墜落した」と報じた。同局は対策を早急に講じ「できるだけ早いうちに2次打ち上げに踏み切る」と発表したという。\n",
    "同通信によるとロケットは1段目を分離後、2段目の異常により推進力を失った。新型エンジンシステムの安全性や燃料の問題で事故が起きたと明かしたうえで原因の解明に着手し、欠陥を調査して克服するとしている。\n",
    "新型の衛星運搬ロケット「チョンリマ1」に搭載して打ち上げたと伝えた。発射地は北西部の平安北道・東倉里（トンチャンリ）にある西海衛星発射場だという。\n",
    "\n",
    "韓国軍合同参謀本部は同日午前6時29分ごろ、北朝鮮が東倉里一帯から「北朝鮮が主張する宇宙発射体」を1発、南方向に打ち上げるのを捉えたと発表した。南北境界に近い韓国・白翎島の西側の上空を通過した後、発射体が異常飛行したと分析した。\n",
    "\n",
    "韓国軍は北朝鮮の発射体の一部とみられる物体を見つけ、引き上げた。落下地点は韓国西部・群山市の西方にある「於青島」の西200キロメートルの海上と推定される。北朝鮮が衛星と主張する発射体を打ち上げたのは2016年以来、7年ぶりだ。\n",
    "北朝鮮は31日〜6月11日に軍事偵察衛星1号機を発射すると予告していた。黄海上の2カ所とフィリピン・ルソン島東方の1カ所が落下推定地点となり、日本政府が航行警報を出している。\n",
    "\n",
    "軍事偵察衛星は他国の軍事基地の状況や兵器の動きを把握するための人工衛星を指す。北朝鮮は衛星を使って「米国や追随兵力の危険な軍事行動をリアルタイムで追跡、監視、判別する」と主張している。\n",
    "\"\"\")"
   ]
  },
  {
   "cell_type": "code",
   "execution_count": 88,
   "id": "53cce0ee",
   "metadata": {},
   "outputs": [],
   "source": [
    "article_north_korea_missle = \"North Korea has said an accident occurred as it planned to send up its first space satellite, causing it to crash into the sea. The rocket launch prompted Japan to warn residents in Okinawa but it later reported there was no danger of its territory being hit. North Korea announced earlier it planned to launch a satellite by 11 June to monitor US military activities. It now says it will attempt a second launch as soon as possible. Japanese Prime Minister Fumio Kishida said North Korea appeared to have fired a ballistic missile and that the government was analysing the details. He added that there were currently no reports of damage following the launch. Japan said previously it was ready to shoot down anything that threatened its territory. There was chaos and confusion in Seoul, the South Korean capital, on Wednesday morning local time, as people awoke to the sound of an air raid siren and an emergency message telling them to prepare for an evacuation - only to be told 20 minutes later it had been sent in error. The stakes are high on the Korean Peninsula, where tensions have existed between the two countries for 70 years, and this false alarm could seriously damage people's trust in the alert system. North Korea poses a threat to South Korea, and if there is an alert in the future one question being asked is whether it will be taken seriously, or brushed off as another mistake. South Korea's military said the projectile might have broken up in mid-air or crashed after it vanished from radar early, adding that analysis was being conducted, Yonhap news agency reports. On Tuesday, Ri Pyong Chol, vice chairman of North Korea's ruling party's central military commission, announced the launch plan, saying it was in response to reckless military acts by the US and South Korea. He accused the countries of openly revealing their reckless ambition for aggression . Before Wednesday's launch, the US state department said any North Korean launch that used ballistic missile technology would violate multiple UN Security Council resolutions. South Korea's foreign ministry also condemned the launch plan earlier this week, calling it a serious violation of security council resolutions banning all launches using ballistic missile technology . If North Korea eventually goes ahead with the launch, it will have to bear the price and pain it deserves, it said. North Korean leader Kim Jong-un has identified the development of military satellites as a key component of his country's defence. Leif-Eric Easley, a professor at Ewha University in Seoul, said the North Korean government likely sees itself in a space race , and that whether or not its current satellite mission is a success it can be expected to issue political propaganda about its space capabilities .\""
   ]
  },
  {
   "cell_type": "code",
   "execution_count": 89,
   "id": "b4351da4",
   "metadata": {},
   "outputs": [],
   "source": [
    "article_happiness_in_finland = \"Australian Melissa Georgio moved to Finland over a decade ago to seek happiness in one of the coldest and darkest places on Earth. One of my favorite things about living here is that it's easy to get close to nature whether you're in a residential area or in the middle of the city, Melissa said. Originally a teacher, 12 years ago, she switched from the beaches of Sydney to the dark winters and cold lakes of Finland, and has never looked back since. Melissa said, For Finns, the concept of happiness is very different from the Australian concept of happiness. Finns, she said, are happy to accept portrayals of themselves as melancholy and stubborn — a popular local saying is, People who have happiness must hide it. The first thing I noticed here is that you don't go to dinners or barbecues, and you don't talk about real estate. No one asks you where you live, what suburb do you live in, where your kids go to school. The Finns seem quite happy with the status quo, and they don't always seem to want more. Melissa Georgio's Dark Night in Northern Europe Finland was named the happiest country in the world for the sixth year in a row in the World Happiness Report released by the United Nations. The Nordic countries are often countries with (good) unemployment benefits, pensions, and other benefits, explains happiness expert and researcher Frank Martela (Frank Martela). However, Frank said that Finland's position in the rankings often surprised its own people. Finns, they're almost outraged because they don't think this can be true. We listen to sad music and hard rock. Therefore, happiness is not part of the Finnish self-image. The other side of Finnish melancholy is a cultural focus on perseverance. Frank said it redefines the way Finns view happiness — a concept known as sisu — which is part of Finnish culture and is hard to translate directly, but can be understood as will, determination, perseverance, and reason to face adversity. This, he said, is best reflected in Finns' favorite pastime — getting warm in a sauna after taking a bath in freezing temperatures. It's about this paradox — from one extreme to the other, and it's a pretty fun experience... because you need perseverance. Melissa said, but Finland has many things that are great and can provide happiness for people in this country. Finland is one of the European countries least affected by the COVID-19 pandemic, and experts attribute this to a high level of trust in the government and little resistance to complying with restrictions. Trust in government, on the other hand, stems from a country's investment in its citizens. The public school system rarely tests children and is one of the best in the world. Finland also has a universal health care system with affordable childcare and strong support for parents. Melissa said, The whole country is taking care of the child's development. This system is very well set up. So from having my son to raising him at home, to sending him to daycare, to going to school, I was very well supported in every aspect of this. Finland vs. China, which country has the strongest sense of happiness? Since the publication of the World Happiness Report, the Nordic countries have dominated the top ten. In this year's report, Finland and its neighbors Denmark (2nd), Iceland (3rd), Sweden (6th), and Norway (7th) all scored high on happiness indicators, including healthy life expectancy, per capita GDP, low levels of corruption, social support, freedom, trust, and generosity. Other top ten countries/regions include the Netherlands (5th), Switzerland (8th), Luxembourg (9th), and New Zealand (10th). Australia ranked 12th in this report, followed by Canada (13th), Ireland (14th), and the United States (15th). In Asia, Singapore ranked 25th in the world, up two places from last year, Taiwan dropped one place from last year to 27th, Japan rose to 47th, mainland China ranked 64th, and Hong Kong ranked 82nd. Meanwhile, the polling agency Ipsos Group (Ipsos) released a survey report on the global happiness index. The results showed that out of 32 countries, the country with the highest happiness index was China (91%), followed by Saudi Arabia (86%), the Netherlands (85%), India (84%), and Brazil (83%). Australia ranked 9th in this report. According to the survey report, on average, happiness increased more significantly in middle-income countries (as defined by the World Bank) than in high-income countries.\""
   ]
  },
  {
   "cell_type": "code",
   "execution_count": 107,
   "id": "dcd894f6",
   "metadata": {},
   "outputs": [],
   "source": [
    "article_happiness_arabic = \"'انتقلت الأسترالية ميليسا جورجيو إلى فنلندا منذ أكثر من عقد من الزمان، بحثاً عن السعادة في أحد أبرد الأماكن على وجه الأرض. من الأشياء المفضلة لدي فيما يتعلق بالعيش هنا هو ما إذا كنت في منطقة سكنية أو في وسط المدينة، فمن السهل الوصول إلى الأماكن الطبيعة . كانت ميليسا معلمة مدرسة، واستبدلت شواطئ سيدني بفصول الشتاء القاتمة في فنلندا والبحيرات الجليدية قبل 12 عاماً ولم تنظر إلى الوراء منذ ذلك الحين. بالنسبة إلى الفنلنديين، تختلف فكرة السعادة كثيراً عن فكرة السعادة لدى الأسترالي . وتقول إن الفنلنديين يصورون أنفسهم على أنهم حزينون، ولديهم مثل شعبي محلي يقول على الشخص إخفاء ما يسعده . من أول الأشياء التي لاحظتها عند وجودي هنا، هو أنك لن تدعى حفل عشاء أو حفلة شواء كما في أستراليا، ولا أحد يسأل عن المكان الذي تعيش فيه، أو الضاحية التي تعيش فيها، أو الى أي مدرسة يذهب طفلك . يبدو أن الفنلنديين راضون تماماً عن الطريقة التي تسير بها الأمور معهم، ولا يطلبون المزيد باستمرار . يصنف تقرير السعادة العالمي الصادر عن الأمم المتحدة 138 دولة حسب مستويات سعادة مواطنيها. ومنذ إنشائها، سيطرت دول الشمال على المراكز العشرة الأولى. ويوضح خبير السعادة والباحث فرانك مارتيلا: تميل بلدان الشمال الأوروبي إلى أن تكون دولاً بها إعانات بطالة جيدة، ومعاشات تقاعدية ومزايا أخرى . ولكن فرانك يقول إن مركز فنلندا في التصنيف غالباً ما يكون مفاجئ لشعبها. الفنلنديون، ليسوا سعداء من التصنيف، لأنهم يشعرون أن هذا غير صحيح يبدو أن الفنلنديين راضون تماماً عن الطريقة التي تسير بها الأمور، ولا يطالبون بالمزيد باستمرار Melissa Georgiou دولة مبنية على الثقة تقول ميليسا إن هناك الكثير ما يساهم في نشر السعادة في فنلندا، حيث كانت فنلندا واحدة من أقل البلدان الأوروبية تضرراً من وباء كورونا، وهو ما يعزوه الخبراء إلى الثقة العالية في الحكومة والقليل من الرفض للقيود التي فرضت. والثقة في الحكومة تنبع من استثمار الدولة في مواطنيها. ويعد نظام المدارس العامة، من بين الأفضل في العالم، يوجد في فنلندا أيضاً نظام رعاية صحية شامل، مع رعاية أطفال ميسورة التكلفة ودعم قوي للآباء. وتقول ميليسا إن الحكومة كلها تهتم بتربية الأطفال، لذلك، من ولادة ابني إلى تربيته في المنزل ثم إرساله إلى الحضانة ثم إلى المدرسة، شعرت في كل جانب من جوانب ذلك بالدعم الجيد حقاً .'\""
   ]
  },
  {
   "cell_type": "code",
   "execution_count": 90,
   "id": "cd650326",
   "metadata": {},
   "outputs": [],
   "source": [
    "article_french_no_confidence = 'The French government under President Emmanuel Macron on Monday survived two no-confidence motions in parliament, but still faces intense pressure over its handling of a controversial pensions reform. Prime Minister Elisabeth Borne incensed the opposition last week by announcing the government would impose a controversial pension reform without a vote in parliament, sparking accusations of anti-democratic behaviour. Its use of an article in the constitution allowing such a move also gave the opposition the right to call motions of no confidence in the government and two such demands were filed. Advertisement READ MORE Pension reform has been imposed in France without a vote. How did it happen? The 577-seat National Assembly lower rejected a motion brought by the centrist LIOT coalition that is also supported by the left, by a margin of just nine votes, much narrower than expected. It then overwhelmingly rejected a motion brought by the far-right National Rally (RN) with just 94 votes in favour. The rejection of the motions means that the reform to raise the pensions age from 62 to 64 has now been adopted by the legislature. It still needs to be signed into law by Mr Macron and may also face legal challenges. Anthony Albanese to reset relationship with France on upcoming visit 24 Jun 2022, 7:38 pm Anthony Albanese to reset relationship with France on upcoming visit It far from represents the end of the biggest domestic crisis of the second mandate in office of Mr Macron, who has yet to make any public comment on the controversy. We never went so far in building a compromise as we did with this reform, Ms Borne told parliament ahead of the vote, saying her use of the article to bypass a vote was profoundly democratic under France s constitution set up by postwar leader Charles de Gaulle. Garbage piles up in Paris following strikes Garbage cans overflowing with trash on the streets as collectors go on strike in Paris, France. Garbage collectors have joined the massive strikes throughout France against pension reform plans. Source: Getty Anadolu Agency Anadolu Agency via Getty Images Trouble ahead A new round of strikes and protests have been called on Thursday and are expected to again bring public transport to a standstill in several areas. There has been a rolling strike by rubbish collectors in Paris, leading to unsightly and unhygienic piles of trash accumulating in the French capital. The future of Ms Borne, appointed as France s second woman premier by Mr Macron after his election victory over the far right for a second mandate, remains in doubt after she failed to secure a parliamentary majority for the reform. READ MORE France wants to raise its retirement age by two years. Why are thousands protesting? Meanwhile, it remains unclear when Mr Macron will finally make public comments over the events, amid reports he is considering an address to the nation. Since Ms Borne invoked article 49.3 of the constitution, there have also been daily protests in Paris and other cities that have on occasion turned violent. A total of 169 people were arrested nationwide on Saturday during spontaneous protests, including one that assembled 4,000 in the capital. People in the street during clashes and protests in Paris. A demonstrator holds a red flare in the middle of a crowd gathered near a fire as several thousand demonstrators gathered at Place de la Concorde, opposite the National Assembly, in Paris on 16 March, 2023 to protest against pension reform. Source: Getty Samuel Boivin Government insiders and observers have raised fears that France is again heading for another bout of violent anti-government protests, only a few years after the Yellow Vest movement shook the country from 2018-2019. In order to pass, the main multi-party no confidence motion needed support from around half the 61 MPs of the traditional right-wing party The Republicans. Even after its leadership insisted they should reject the motions, 19 renegade Republicans MPs voted in favour. I think it s the only way out. We need to move on to something else, said one of the Republicans who voted for the ousting of the government, Aurelien Pradie. Ejecting PM least risky A survey on Sunday showed the head of state s personal rating at its lowest level since the height of the Yellow Vest crisis in 2019, with only 28 per cent of respondents having a positive view of him. Mr Macron has argued that the pension changes are needed to avoid crippling deficits in the coming decades linked to France s ageing population. Those among us who are able will gradually need to work more to finance our social model, which is one of the most generous in the world, Finance Minister Bruno Le Maire said Sunday. Opponents of the reform say it places an unfair burden on low earners, women and people doing physically wearing jobs. Opinion polls have consistently shown that two thirds of French people oppose the changes. As for Mr Macron s options now, replacing Ms Borne would be the least risky and the most likely to give him new momentum, Bruno Cautres of the Centre for Political Research told AFP. Calling new elections is seen as unlikely. When you re in this much of a cycle of unpopularity and rejection over a major reform, it s basically suicidal to go to the polls, Brice Teinturier, head of the polling firm Ipsos, told AFP. A Harris Interactive survey of over 2,000 people this month suggested that the only winner from a new general election would be the far right, with all other major parties losing ground. '"
   ]
  },
  {
   "cell_type": "code",
   "execution_count": 91,
   "id": "c756cec9",
   "metadata": {},
   "outputs": [],
   "source": [
    "article_inflation =\"James Harrison, a Sydney bartender, has more than half of his wages eaten up by astronomical rent. I mostly live off two-minute noodles and a can of Coke as a luxury, he said. I can't put the heater on because I cannot pay the electricity bill. Advertisement On Friday, Mr Harrison was among the millions of workers to get a pay increase as a result of the annual wage decision by the Fair Work Commission. Fair Work Commission president Adam Hatcher announced that the minimum wage and modern award wages would rise 5.75 per cent from 1 July. But workers on the minimum wage will actually get an 8.6 per cent increase due to a technical change: a realignment of the minimum wage with the C13 classification wage rate that applies to most modern awards. For the lowest paid, it will mean their wages rise to $882.80 a week - or $23.23 an hour. More than 20 per cent of the country's workers (2.7 million) are paid minimum award rates and only 0.7 per cent (180,000) earn the national minimum wage, which is the lowest rate. Mr Harrison said the increase won't completely alleviate the cost of living pressures he faces, but it would provide a bit more comfort . Fair Work Commission President Adam Hatcher said the expert panel considered a range of factors, including the impact of low-paid workers. In our consideration, we have placed significant weight on that the impact of the current rate of inflation on the ability of modern award employees, especially the low-paid, to meet their basic financial needs, he said in his announcement on Friday. He said the decision balanced the desire to avoid adding to inflation while keeping in mind the lowest-paid workers. We acknowledge that this increase will not maintain the real value of modern award minimum wages, nor reverse the reduction real value which has occurred over recent years. However, the level of wage increase is what we consider to be justified in the current economic circumstances, he said. For Joanna Clements, the decision to lift the national minimum wage makes her feel like her hard work has been acknowledged. The disability support worker, who lives in Sydney, is among the millions of people whose pay will rise as a result of the FWC's announcement. I'm very excited... I've seen a lot of very good things over the years in community services and disability over the past few years, she told SBS News. It feels like an acknowledgement because it is a very hard industry to work in. You have to have a lot of grit, you have to have a lot of heart, and you have to put up with a lot of crap. [The increase] feels like it's a good start. Ms Clements said it would mean she could put enough petrol in her car to go and visit her family in Bathurst. Unions welcome 'essential increase' The Australian Council of Trade Unions (ACTU) said although the increase of 5.75 per cent fell short of their call for a 7 per cent rise, the outcome is better than the four per cent sought by employer groups. It is an absolutely essential increase for all the people in Australia that are struggling so hard at the moment just to survive to pay their rent, to pay their groceries - to pay all the basics, ACTU secretary Sally McManus said. It has been working Australians who have borne the brunt of the current circumstances in their household budgets through interest rate rises and also through inflationary problems. Inflation is at 6.8 per cent in the year to April, falling from a 32-year high in the annual rate of 7.8 per cent recorded in the December quarter. Employer groups warn of increased costs to businesses Employer groups like the Australian Chamber of Commerce and Industry were pushing for nothing higher than 4 per cent, warning of the risk of stoking inflation. The group's CEO Andrew McKellar labelled the decision disappointing . He said it would increase costs for business owners. We estimate it will mean an extra $12.6 billion in costs into the supply chain. This will impact particularly small businesses most. They are the ones who end up paying these award wages, he said. Mr McKellar said the extra cost could affect future hiring decisions. ACCI's concern is that it will have an impact on hiring decisions in the future and it will have an impact on some small businesses. Pledge to address gender equality Outlining the Fair Work Commission decision, Mr Hatcher said the expert panel would at a later date look to more fully resolving the gender equality issue of improving pay conditions for female workers working part-time and in casual arrangements. The scope and timing of the present review has prevented these gender equality issues being addressed to finality. However, the imperative of the amendments made by the Parliament to the Fair Work Act last year concerning general equality is that these issues must be resolved in future proceedings, he said. Speaking alongside Ms McManus, shop assistant Chris said many members he represents in the retail sector were women experiencing the impacts of the gender pay gap. I can tell you our members are doing it tough, but today's decision is a good first step, he said. It will get us over the first hurdle - with the massive increase in rent that people are experiencing - and hopefully set us up for an outcome next year that will take into account the significant gender pay gap, which is huge in the retail industry, where the overwhelming majority of workers are women.\""
   ]
  },
  {
   "cell_type": "code",
   "execution_count": 98,
   "id": "7951b6ed",
   "metadata": {},
   "outputs": [],
   "source": [
    "article_british_digital_bank = \"Monzo on Wednesday said it hit profitability for the first time this year, in a major milestone for one of the U.K.’s most prominent digital banks. In its annual report for the year ending February 2023, Monzo reported net operating income of £214.5 million ($266.1 million), almost doubling year-over-year from £114 million. Losses at the bank nevertheless came in at a substantial £116.3 million though this was slightly lower than the £119 million net loss Monzo reported in 2022. Still, the company managed to reach profitability in the first two months of the year. In its annual report, Chief Financial Officer James Davies said Monzo is “now a business with diverse and stabilising revenue from a large, and growing, personal and business customer base. “Profitability was always a choice as we balance continuing to invest in growth with profitability, Monzo’s CEO, TS Anil, told CNBC in an interview. “We could have chosen to be profitable a few quarters ago. Monzo is not the first digital bank to hit profitability. Starling Bank reached that milestone for the first time in 2021. Fellow fintech Allica Bank reached monthly profitability last year. Monzo’s move into the black was largely thanks to a substantial increase in income from newer revenue lines, such as lending and subscriptions. Paid accounts now total 350,000. Monzo declined to share a figure on how much of a profit it is making currently. The firm said it is on track to reach full-year profitability by the end of 2024. Lending growth Monzo’s strong revenue performance was driven by a bumper year for its lending business. This came against a backdrop of pain for U.K. consumers, who’re grappling with a harsh cost-of-living crisis as inflation soars. Total lending volume reached £759.7 million, almost tripling year-on-year, while net interest income spiked by 382% to £164.2 million. That was as usage of overdrafts, unsecured personal loans, and the Monzo Flex buy now, pay later service grew sharply. Yet credit losses also surged dramatically, as the bank set aside a mountain of funds to deal with a sharp climb in anticipated defaults. Credit losses swelled to £101.2 million, a more than sevenfold increase from £14 million in 2022. It comes as consumers are increasingly turning to unsecured credit, such as credit cards and personal loans, to offset the impact of the rising cost of living. Research from consulting firm PwC indicates U.K. household debt exceeded £2 trillion for the first time in January. Monzo’s boss disputed that the cost-of-living crisis had contributed to its revenue performance. “The cost-of-living crisis was painful for everyone, but it really underscored the ways in which the Monzo product is incredibly powerful, Anil told CNBC. He added the growing cost of living impacted how people used Monzo products, with usage of its savings pots and budgeting tools rising. Meanwhile, Monzo said it continues to work with the Financial Conduct Authority regulator over an ongoing inquiry into the company’s alleged breaches of anti-money laundering laws. “We expect it to take time to resolve, Monzo said. “This could have a negative impact on our financial position, but we won’t know when or what the outcome will be for some time. UK ‘not holding us back’ The fintech sector has experienced increasing scrutiny since it grew in prominence after the 2020 Covid outbreak. Major digital banks, from Revolut to N26, are receiving heightened attention from regulators. Revolut is reportedly set to have its application for a banking license rejected by the Bank of England, according to the Telegraph. A number of tech bosses have expressed doubts about the U.K.’s bid to become a global tech power on the back of notable setbacks, including Cambridge-based chip design firm Arm’s decision to list in New York rather than London. Revolut CEO Nik Storonsky earlier this month said his firm had encountered “extreme bureaucracy in its experience applying for a banking license in the U.K. and said he would never list in the country. Monzo co-founder Tom Blomfield, meanwhile, left London for San Francisco, citing a “much more accepting environment for tech founders. “From our perspective, this is a country where we got licensed, this is our home market; we’ve clearly learned this is where we can build a business of scale, Monzo’s Anil said. “It’s not holding us back, I don’t think of it like that at all. Monzo now has 7.4 million customers in the U.K., making it the seventh-largest bank in the U.K. by client numbers. Total customer deposits now stand at £6 billion.\""
   ]
  },
  {
   "cell_type": "code",
   "execution_count": 101,
   "id": "7a9d58da",
   "metadata": {},
   "outputs": [],
   "source": [
    "article_ben_roberts = \"Ben Roberts-Smith has resigned from his role at Channel 7, just 24 hours after a defamation trial judge ruled he was a murderer and war criminal. It comes as the Australian War Memorial confirmed it was “considering carefully whether additional information should be added to displays lauding the veteran. And Prime Minister Anthony Albanese has pledged to implement recommendations of the Brereton Report, which found evidence Australian special forces had committed 39 murders in Afghanistan, to the fullest extent possible . Advertisement Mr Roberts-Smith was general manager of Seven Queensland, but took leave during a years-long defamation case against three newspapers which alleged he murdered Afghan civilians. But in an email circulated to Channel 7 staff on Friday, Seven chief executive James Warburton said he had accepted Mr Roberts-Smith's resignation. “We thank Ben for his commitment to Seven and wish him all the best, he said. Mr Roberts-Smith launched defamation proceedings against The Sydney Morning Herald, The Age and The Canberra Times for a series of articles claiming he had committed war crimes in Afghanistan. In a landmark ruling on Thursday, a Federal Court judge found the media defendants had established their claims that Mr Roberts-Smith murdered four Afghan civilians were substantially true . Speaking for the first time since the ruling, Mr Albanese said it would be “inappropriate to comment on the specifics of Thursday’s ruling, noting the potential for further action the “government might be a party to . But he stressed the government’s commitment to implementing the Brereton Report's recommendations “to the extent possible . “That is an area where we have a responsibility [and] we have indicated very clearly we will take up that responsibility, he said in Singapore, where he is giving a speech to a key regional security forum. Mr Albanese rejected suggestions Australia's international standing could be damaged by the ruling. [It] is extraordinarily strong, including the standing of our defence forces and our defence personnel, he said. War Memorial 'carefully considering' Ben Roberts-Smith displays Mr Roberts-Smith’s uniform, medals, and a large painting of the veteran are on public display at the memorial. In a statement to SBS News, Australian War Memorial chair Kim Beazley acknowledged the “gravity of the defamation ruling “and its broader impact on all involved in the Australian community . “The Memorial assists in remembering, interpreting and understanding Australia’s experience of war and its enduring impact. This includes the causes, conduct and consequences of war, he said. “This is the outcome of a civil legal case, and one step in a longer process. “Collection items relating to Ben Roberts-Smith … are on display in the Memorial’s galleries. We are considering carefully the additional content and context to be included in these displays. Greens senator David Shoebridge has called for the items to be removed entirely if the ruling is upheld. “The first step in correcting the official record is for the Australian War Memorial to immediately remove Ben Roberts-Smith’s uniform from public display and to begin telling the entire truth of Australia’s involvement in that brutal war, he said. “This is not justice for the families who lost loved ones or for the communities that have been brutalised by war crimes, but it takes us a step closer. Mr Roberts-Smith was not present at the judgment. He was pictured holidaying in Bali in the days before. Channel 7 chairman Kerry Stokes bankrolled Mr Roberts-Smith’s legal defence, and said in a statement on Thursday the ruling, “does not accord with the man I know . Roughly 40 war crimes investigations 'continue unabated' The 2020 Brereton Report found credible evidence of war crimes committed by Australian special forces (SAS) in Afghanistan, including 39 murders. The report prompted joint investigations between the Office of the Special Investigator (OSI) and the Australian Federal Police. It did not name Mr Roberts-Smith specifically, but the Nine newspapers in January revealed he is under investigation. In March, a decorated former SAS soldier became the first veteran charged with war crimes under Australian law, investigators alleging he murdered an unarmed Afghan man in a wheat field. Last week, OSI director-general Chris Moraitis said efforts to advance war crimes investigations “continue unabated . Mr Moraitis revealed roughly 40 investigations were still ongoing, saying that number had not changed significantly since February. “Our teams are conducting their work as expeditiously as possible, conscious of not unnecessarily adding to the burden of anyone affected by the investigations, including their families, he said in a statement to Senate estimates. “The number of active investigations from all sources is fluid and under constant review. “I expect it will continue to trend downwards over time, as we focus our efforts on alleged war crimes of particular gravity and which meet the high evidentiary threshold for a criminal justice process.\""
   ]
  },
  {
   "cell_type": "code",
   "execution_count": 9,
   "id": "be4f5fee",
   "metadata": {},
   "outputs": [],
   "source": [
    "article_ben_smith_taliban = \"The Taliban says it is prepared to facilitate Australian law enforcement investigating war crimes in Afghanistan, provided it believes the probe was honest . The hardline militant group, itself under international investigation for war crimes and crimes against humanity, also claims it would ensure Australian compensation reaches the hands of Afghan victims. But an Afghan-born lawyer and human rights activist warns paying compensation would make victims primary targets of the barbaric ... terror organisation - referring to the Taliban - and instead is urging the Albanese government to bring victims to Australia. Advertisement The Office of the Special Investigator (OSI) and the Australian Federal Police (AFP) are investigating roughly 40 war crimes allegations linked to Afghanistan, though the OSI has warned that Taliban rule meant investigations on the ground were not possible. ow, a senior Taliban official has told SBS News and SBS Pashto the group could allow Australian investigators access to the country. The OSI has kept details on its ongoing probes tightly guarded. But Taliban spokesman Zabihullah Mujahid insisted Australian authorities would need to explain who was under investigation before access was granted. If the Islamic Emirate believe that the investigating body is investigating the crimes with honesty, then they would consider assisting the investigation. But we don’t have the trust yet, he said, speaking in Pashto to SBS radio Pashto program. The Taliban refers to itself as the Islamic Emirate of Afghanistan. After we agree and our government departments are aware of it, we will facilitate the team of investigations, Mujahid added. The 2020 Brereton report found credible evidence of 39 murders committed by Australian special forces (SAS) in Afghanistan allegations revived by a Federal Court defamation ruling last week that news articles claiming Victoria Cross recipient Ben Roberts-Smith had murdered unarmed civilians were substantially true. Mujahid said the regime had observed the case but labelled the Ben Roberts-Smith judgement symbolic . He said the incidents were about more than only one soldier . If this act is for justice and to investigate the crimes that get exposed, and also will let people know about it, that it is a good act, he said. The Brereton report did not name any Australian soldiers as suspected war criminals, though the Nine newspapers have reported Mr Roberts-Smith is one of three former special forces officers under OSI investigation. Rawan Arraf, Australian Centre for International Justice executive director and principal lawyer, said access to potential crime scenes was difficult even before the Taliban swept to power. “Looking into incidents which occurred decades ago is always a complication … [but] there are other ways investigators get a better picture, she said. Ms Arraf was “encouraged by the establishment of the OSI, which she said was growing in expertise and treating allegations seriously. But without a clear indication on access, she said any criminal probe was likely to heavily rely on witness testimony from courageous former special forces. “We [also] know that in some of these particular incidents you had video footage … and at least in the Ben Roberts-Smith defamation trial, we saw really compelling evidence from Afghan witnesses, she said. “It is difficult, but I think it's possible. The OSI told SBS News it does not comment on operational matters. A Defence spokesperson said the department supported the OSI's investigation, which they stressed was independent. The Brereton report recommended compensation for Afghan victims without waiting for criminal liability to be established, something the Australian government is yet to act on. That process has been complicated by the Taliban's return to power, though Mujahid claimed the group would ensure Australian compensation reached Afghan victims. The team which gives the compensation could go to Uruzgan Province directly, and we will keep their security, he said, referring to the Afghan province in which Australian troops were based. But Sydney-based lawyer and human rights activist Arezo Zoe Safi said the militant group had zero credibility , and warned offering compensation was too dangerous under its money-hungry rule. We're now being run by a terrorist organisation ... They will locate these families. They will know that there's financial compensation. They'll come looking for them, kill them, persecute them, and obtain those monies, she told SBS News. Ms Safi urged the federal government to instead offer victims' families a route to Australia via its humanitarian program. That's probably the best it can do for these families who will be primary targets, she said. Ms Arraf said there had been “deafening silence from Defence over compensation, which she stressed did not necessarily have to be monetary. “There might be other kinds of remedies and reparations that the victims might need … one way is through memorialisation of incidents of events that occurred, she said. “There are other forms of reparations available to victims there, and they need to be consulted on what it is that they would prefer. The Taliban is itself under investigation by the International Criminal Court (ICC) for war crimes and crimes against humanity, a probe which is also looking into claims against former Afghan government officials and foreign forces. But the ICC announced last year it would prioritise allegations against the Taliban, which include unlawful killings, enforced disappearances and other serious abuses - particularly targeting women, former government officials, and journalists. Mujahid stopped short of committing to cooperating with international investigations, which he suggested could be part of a conspiracy ... to favour a particular side .\""
   ]
  },
  {
   "cell_type": "code",
   "execution_count": 14,
   "id": "30d810b7",
   "metadata": {},
   "outputs": [],
   "source": [
    "article_ukraine_counter_offence = \"米紙ニューヨーク・タイムズは5日、ロシアに対するウクライナの反攻が始まった可能性があると報じた。米ロ双方の当局者の話として、ウクライナによる前線での砲撃や地上攻撃が強まっていると伝えた。同国のゼレンスキー大統領は近く反攻を始める考えを示していた。 同紙によると、米当局者が匿名を条件に「（足元の）攻撃の急増は反撃開始を示している可能性がある」と明かした。米軍は人工衛星の画像などを用いてウクライナ陣地から発射される砲弾やミサイルの数を分析し、反攻が始まったかどうかを評価しているとみられる。 ゼレンスキー氏は3日の米紙ウォール・ストリート・ジャーナル（WSJ）とのインタビューで、反転攻勢の準備が整ったと断言した。早期に実施する意向を表明していた。ウクライナ国防省は作戦の成否に影響を与えるとの判断から、反攻開始の時期は公表しないと宣言している。 ロシア国防省も5日、ウクライナ軍が同国東部ドネツク州で大規模な攻撃を始めたと発表した。同省は南部ザポロジエ州近辺でも戦闘が激化していると公表。ロシア側は撃退したとアピールしている。 米シンクタンク、戦争研究所も4日、ウクライナ軍がドネツク、ザポロジエ両州の州境で攻勢を強め、一部で前進したとの分析を示していた。ウクライナはこれまでの関与を否定しているが、ロシア西部各州でドローン（無人機）による攻撃も続いている。 ロシア西部ベルゴロド州では反プーチン政権を掲げる武装集団が越境作戦を実施し、複数のロシア兵を捕虜にしたとの声明を4日に出した。\""
   ]
  },
  {
   "cell_type": "code",
   "execution_count": 102,
   "id": "d8757e4b",
   "metadata": {},
   "outputs": [],
   "source": [
    "articles = [\n",
    "    article_happiness_in_finland,\n",
    "    article_north_korea_missle,\n",
    "    article_french_no_confidence,\n",
    "    article_inflation,\n",
    "    article_british_digital_bank,\n",
    "    article_happiness_arabic,\n",
    "    article_ben_roberts\n",
    "]"
   ]
  },
  {
   "cell_type": "code",
   "execution_count": 13,
   "id": "8a2c6640",
   "metadata": {},
   "outputs": [
    {
     "data": {
      "text/plain": [
       "'米紙ニューヨーク・タイムズは5日、ロシアに対するウクライナの反攻が始まった可能性があると報じた。米ロ双方の当局者の話として、ウクライナによる前線での砲撃や地上攻撃が強まっていると伝えた。同国のゼレンスキー大統領は近く反攻を始める考えを示していた。 同紙によると、米当局者が匿名を条件に「（足元の）攻撃の急増は反撃開始を示している可能性がある」と明かした。米軍は人工衛星の画像などを用いてウクライナ陣地から発射される砲弾やミサイルの数を分析し、反攻が始まったかどうかを評価しているとみられる。 ゼレンスキー氏は3日の米紙ウォール・ストリート・ジャーナル（WSJ）とのインタビューで、反転攻勢の準備が整ったと断言した。早期に実施する意向を表明していた。ウクライナ国防省は作戦の成否に影響を与えるとの判断から、反攻開始の時期は公表しないと宣言している。 ロシア国防省も5日、ウクライナ軍が同国東部ドネツク州で大規模な攻撃を始めたと発表した。同省は南部ザポロジエ州近辺でも戦闘が激化していると公表。ロシア側は撃退したとアピールしている。 米シンクタンク、戦争研究所も4日、ウクライナ軍がドネツク、ザポロジエ両州の州境で攻勢を強め、一部で前進したとの分析を示していた。ウクライナはこれまでの関与を否定しているが、ロシア西部各州でドローン（無人機）による攻撃も続いている。 ロシア西部ベルゴロド州では反プーチン政権を掲げる武装集団が越境作戦を実施し、複数のロシア兵を捕虜にしたとの声明を4日に出した。'"
      ]
     },
     "execution_count": 13,
     "metadata": {},
     "output_type": "execute_result"
    }
   ],
   "source": [
    "content = clean(article_ukraine_counter_offence)\n",
    "content"
   ]
  },
  {
   "cell_type": "markdown",
   "id": "3b22401e",
   "metadata": {},
   "source": [
    "# Open AI "
   ]
  },
  {
   "cell_type": "code",
   "execution_count": 8,
   "id": "30d7cd54",
   "metadata": {},
   "outputs": [],
   "source": [
    "ai = ChatTaskForTextTagging(\n",
    "    path_to_api_key=f\"{os.path.expanduser('~')}/.openai/api_key\"\n",
    ")"
   ]
  },
  {
   "cell_type": "code",
   "execution_count": 9,
   "id": "225d8040",
   "metadata": {},
   "outputs": [
    {
     "data": {
      "text/plain": [
       "['whisper-1',\n",
       " 'babbage',\n",
       " 'davinci',\n",
       " 'text-davinci-edit-001',\n",
       " 'babbage-code-search-code',\n",
       " 'text-similarity-babbage-001',\n",
       " 'code-davinci-edit-001',\n",
       " 'text-davinci-001',\n",
       " 'ada',\n",
       " 'babbage-code-search-text',\n",
       " 'babbage-similarity',\n",
       " 'code-search-babbage-text-001',\n",
       " 'text-curie-001',\n",
       " 'code-search-babbage-code-001',\n",
       " 'text-ada-001',\n",
       " 'text-similarity-ada-001',\n",
       " 'curie-instruct-beta',\n",
       " 'ada-code-search-code',\n",
       " 'ada-similarity',\n",
       " 'text-embedding-ada-002',\n",
       " 'code-search-ada-text-001',\n",
       " 'text-search-ada-query-001',\n",
       " 'davinci-search-document',\n",
       " 'ada-code-search-text',\n",
       " 'text-search-ada-doc-001',\n",
       " 'davinci-instruct-beta',\n",
       " 'text-similarity-curie-001',\n",
       " 'code-search-ada-code-001',\n",
       " 'ada-search-query',\n",
       " 'text-search-davinci-query-001',\n",
       " 'curie-search-query',\n",
       " 'davinci-search-query',\n",
       " 'babbage-search-document',\n",
       " 'ada-search-document',\n",
       " 'text-search-curie-query-001',\n",
       " 'text-search-babbage-doc-001',\n",
       " 'gpt-3.5-turbo',\n",
       " 'text-davinci-003',\n",
       " 'curie-search-document',\n",
       " 'text-search-curie-doc-001',\n",
       " 'babbage-search-query',\n",
       " 'text-babbage-001',\n",
       " 'text-search-davinci-doc-001',\n",
       " 'text-search-babbage-query-001',\n",
       " 'curie-similarity',\n",
       " 'gpt-3.5-turbo-0301',\n",
       " 'curie',\n",
       " 'text-similarity-davinci-001',\n",
       " 'text-davinci-002',\n",
       " 'davinci-similarity',\n",
       " 'cushman:2020-05-03',\n",
       " 'ada:2020-05-03',\n",
       " 'babbage:2020-05-03',\n",
       " 'curie:2020-05-03',\n",
       " 'davinci:2020-05-03',\n",
       " 'if-davinci-v2',\n",
       " 'if-curie-v2',\n",
       " 'if-davinci:3.0.0',\n",
       " 'davinci-if:3.0.0',\n",
       " 'davinci-instruct-beta:2.0.0',\n",
       " 'text-ada:001',\n",
       " 'text-davinci:001',\n",
       " 'text-curie:001',\n",
       " 'text-babbage:001']"
      ]
     },
     "execution_count": 9,
     "metadata": {},
     "output_type": "execute_result"
    }
   ],
   "source": [
    "[\n",
    "    record['id'] for \n",
    "    record in ai.list_models()['data']\n",
    "]"
   ]
  },
  {
   "cell_type": "markdown",
   "id": "c57dad99",
   "metadata": {},
   "source": [
    "# Extractions"
   ]
  },
  {
   "cell_type": "markdown",
   "id": "2a1f74fd",
   "metadata": {},
   "source": [
    "## Theme"
   ]
  },
  {
   "cell_type": "code",
   "execution_count": 11,
   "id": "68a9dc4c",
   "metadata": {},
   "outputs": [
    {
     "name": "stderr",
     "output_type": "stream",
     "text": [
      "function get_chat_completion_by_prompt() failed due to [That model is currently overloaded with other requests. You can retry your request, or contact us through our help center at help.openai.com if the error persists. (Please include the request ID 1e7196afb7cfd04d42f6a2541cbc6377 in your message.)] and retry in 3.7410680079532908 seconds.\n"
     ]
    },
    {
     "data": {
      "text/plain": [
       "'Finland named happiest country for 6th year in a row.'"
      ]
     },
     "execution_count": 11,
     "metadata": {},
     "output_type": "execute_result"
    }
   ],
   "source": [
    "theme = ai.get_theme(text=content)\n",
    "theme"
   ]
  },
  {
   "cell_type": "markdown",
   "id": "c22a94e4",
   "metadata": {},
   "source": [
    "## Summary"
   ]
  },
  {
   "cell_type": "code",
   "execution_count": 105,
   "id": "d31f704f",
   "metadata": {},
   "outputs": [
    {
     "data": {
      "text/plain": [
       "'North Korea launched a military reconnaissance satellite, but it crashed into the Yellow Sea due to an abnormality in the second stage of the rocket.'"
      ]
     },
     "execution_count": 105,
     "metadata": {},
     "output_type": "execute_result"
    }
   ],
   "source": [
    "summary = ai.get_summary(text=content)\n",
    "summary"
   ]
  },
  {
   "cell_type": "markdown",
   "id": "4b6a1818",
   "metadata": {},
   "source": [
    "## Key Events"
   ]
  },
  {
   "cell_type": "code",
   "execution_count": 106,
   "id": "b29b2ed3",
   "metadata": {},
   "outputs": [
    {
     "data": {
      "text/plain": [
       "{'軍事偵察衛星「マンリギョン1号」打ち上げ': '北朝鮮の国家宇宙開発局が軍事偵察衛星「マンリギョン1号」を打ち上げたが、事故により黄海上に墜落した。',\n",
       " 'ロケット2段目の異常': 'ロケットは1段目を分離後、2段目の異常により推進力を失った。',\n",
       " '新型エンジンシステムの安全性や燃料の問題': '北朝鮮は新型エンジンシステムの安全性や燃料の問題で事故が起きたと明かした。',\n",
       " '韓国軍が北朝鮮の宇宙発射体を捉える': '韓国軍合同参謀本部は北朝鮮が東倉里一帯から「北朝鮮が主張する宇宙発射体」を1発、南方向に打ち上げるのを捉えた。',\n",
       " '発射体が異常飛行した': '発射体が異常飛行したと分析された。',\n",
       " '韓国軍が北朝鮮の発射体の一部を見つける': '韓国軍は北朝鮮の発射体の一部とみられる物体を見つけ、引き上げた。',\n",
       " '北朝鮮の軍事偵察衛星1号機発射予告': '北朝鮮は31日〜6月11日に軍事偵察衛星1号機を発射すると予告していた。',\n",
       " '落下推定地点': '黄海上の2カ所とフィリピン・ルソン島東方の1カ所が落下推定地点となり、日本政府が航行警報を出している。',\n",
       " '軍事偵察衛星の役割': '軍事偵察衛星は他国の軍事基地の状況や兵器の動きを把握するための人工衛星を指す。'}"
      ]
     },
     "execution_count": 106,
     "metadata": {},
     "output_type": "execute_result"
    }
   ],
   "source": [
    "keys = ai.get_key_events(text=content)\n",
    "keys"
   ]
  },
  {
   "cell_type": "markdown",
   "id": "1027f7d3",
   "metadata": {},
   "source": [
    "## Key Lines"
   ]
  },
  {
   "cell_type": "code",
   "execution_count": 107,
   "id": "440f85f7",
   "metadata": {},
   "outputs": [
    {
     "data": {
      "text/plain": [
       "'北朝鮮の国家宇宙開発局が軍事偵察衛星「マンリギョン1号」を打ち上げたが、事故により黄海上に墜落した。 ロケットは1段目を分離後、2段目の異常により推進力を失った。 北朝鮮は新型エンジンシステムの安全性や燃料の問題で事故が起きたと明かした。 韓国軍合同参謀本部は北朝鮮が東倉里一帯から「北朝鮮が主張する宇宙発射体」を1発、南方向に打ち上げるのを捉えた。 発射体が異常飛行したと分析された。 韓国軍は北朝鮮の発射体の一部とみられる物体を見つけ、引き上げた。 北朝鮮は31日〜6月11日に軍事偵察衛星1号機を発射すると予告していた。 黄海上の2カ所とフィリピン・ルソン島東方の1カ所が落下推定地点となり、日本政府が航行警報を出している。 軍事偵察衛星は他国の軍事基地の状況や兵器の動きを把握するための人工衛星を指す。'"
      ]
     },
     "execution_count": 107,
     "metadata": {},
     "output_type": "execute_result"
    }
   ],
   "source": [
    "key_lines = \" \".join([\n",
    "    value for key, value in keys.items()\n",
    "])\n",
    "key_lines"
   ]
  },
  {
   "cell_type": "markdown",
   "id": "c85c3255",
   "metadata": {},
   "source": [
    "## Keywords"
   ]
  },
  {
   "cell_type": "code",
   "execution_count": null,
   "id": "5212f399",
   "metadata": {},
   "outputs": [],
   "source": [
    "keywords = ai.get_keywords(text=key_lines, theme=theme, top_n=6)\n",
    "keywords"
   ]
  },
  {
   "cell_type": "markdown",
   "id": "1f368c85",
   "metadata": {},
   "source": [
    "## People"
   ]
  },
  {
   "cell_type": "code",
   "execution_count": null,
   "id": "0e9377b7",
   "metadata": {},
   "outputs": [],
   "source": [
    "people = ai.get_people(text=content)\n",
    "people"
   ]
  },
  {
   "cell_type": "markdown",
   "id": "bbcdbdd0",
   "metadata": {},
   "source": [
    "## Organizations"
   ]
  },
  {
   "cell_type": "code",
   "execution_count": null,
   "id": "92425fa8",
   "metadata": {},
   "outputs": [],
   "source": [
    "organizations = ai.get_organizations(text=content, theme=theme)\n",
    "organizations"
   ]
  },
  {
   "cell_type": "code",
   "execution_count": null,
   "id": "8742fc1b",
   "metadata": {},
   "outputs": [],
   "source": [
    "print(json.dumps(organizations, indent=4, ensure_ascii=False))"
   ]
  },
  {
   "cell_type": "markdown",
   "id": "7a04f4b7",
   "metadata": {},
   "source": [
    "## Geographic Locations"
   ]
  },
  {
   "cell_type": "code",
   "execution_count": 26,
   "id": "e5534db7",
   "metadata": {},
   "outputs": [
    {
     "name": "stderr",
     "output_type": "stream",
     "text": [
      "cannot decode to JSON from the GPT response [JSON null] due to [Expecting value: line 1 column 1 (char 0)].\n"
     ]
    },
    {
     "ename": "RuntimeError",
     "evalue": "",
     "output_type": "error",
     "traceback": [
      "\u001b[0;31m---------------------------------------------------------------------------\u001b[0m",
      "\u001b[0;31mJSONDecodeError\u001b[0m                           Traceback (most recent call last)",
      "File \u001b[0;32m~/home/repository/git/oonisim/python-programs/openai/gpt.py:37\u001b[0m, in \u001b[0;36m_to_json\u001b[0;34m(text)\u001b[0m\n\u001b[1;32m     36\u001b[0m \u001b[38;5;28;01mtry\u001b[39;00m:\n\u001b[0;32m---> 37\u001b[0m     \u001b[38;5;28;01mreturn\u001b[39;00m \u001b[43mjson\u001b[49m\u001b[38;5;241;43m.\u001b[39;49m\u001b[43mloads\u001b[49m\u001b[43m(\u001b[49m\u001b[43mtext\u001b[49m\u001b[43m)\u001b[49m\n\u001b[1;32m     38\u001b[0m \u001b[38;5;28;01mexcept\u001b[39;00m json\u001b[38;5;241m.\u001b[39mdecoder\u001b[38;5;241m.\u001b[39mJSONDecodeError \u001b[38;5;28;01mas\u001b[39;00m _error:\n",
      "File \u001b[0;32m/Library/Frameworks/Python.framework/Versions/3.9/lib/python3.9/json/__init__.py:346\u001b[0m, in \u001b[0;36mloads\u001b[0;34m(s, cls, object_hook, parse_float, parse_int, parse_constant, object_pairs_hook, **kw)\u001b[0m\n\u001b[1;32m    343\u001b[0m \u001b[38;5;28;01mif\u001b[39;00m (\u001b[38;5;28mcls\u001b[39m \u001b[38;5;129;01mis\u001b[39;00m \u001b[38;5;28;01mNone\u001b[39;00m \u001b[38;5;129;01mand\u001b[39;00m object_hook \u001b[38;5;129;01mis\u001b[39;00m \u001b[38;5;28;01mNone\u001b[39;00m \u001b[38;5;129;01mand\u001b[39;00m\n\u001b[1;32m    344\u001b[0m         parse_int \u001b[38;5;129;01mis\u001b[39;00m \u001b[38;5;28;01mNone\u001b[39;00m \u001b[38;5;129;01mand\u001b[39;00m parse_float \u001b[38;5;129;01mis\u001b[39;00m \u001b[38;5;28;01mNone\u001b[39;00m \u001b[38;5;129;01mand\u001b[39;00m\n\u001b[1;32m    345\u001b[0m         parse_constant \u001b[38;5;129;01mis\u001b[39;00m \u001b[38;5;28;01mNone\u001b[39;00m \u001b[38;5;129;01mand\u001b[39;00m object_pairs_hook \u001b[38;5;129;01mis\u001b[39;00m \u001b[38;5;28;01mNone\u001b[39;00m \u001b[38;5;129;01mand\u001b[39;00m \u001b[38;5;129;01mnot\u001b[39;00m kw):\n\u001b[0;32m--> 346\u001b[0m     \u001b[38;5;28;01mreturn\u001b[39;00m \u001b[43m_default_decoder\u001b[49m\u001b[38;5;241;43m.\u001b[39;49m\u001b[43mdecode\u001b[49m\u001b[43m(\u001b[49m\u001b[43ms\u001b[49m\u001b[43m)\u001b[49m\n\u001b[1;32m    347\u001b[0m \u001b[38;5;28;01mif\u001b[39;00m \u001b[38;5;28mcls\u001b[39m \u001b[38;5;129;01mis\u001b[39;00m \u001b[38;5;28;01mNone\u001b[39;00m:\n",
      "File \u001b[0;32m/Library/Frameworks/Python.framework/Versions/3.9/lib/python3.9/json/decoder.py:337\u001b[0m, in \u001b[0;36mJSONDecoder.decode\u001b[0;34m(self, s, _w)\u001b[0m\n\u001b[1;32m    333\u001b[0m \u001b[38;5;250m\u001b[39m\u001b[38;5;124;03m\"\"\"Return the Python representation of ``s`` (a ``str`` instance\u001b[39;00m\n\u001b[1;32m    334\u001b[0m \u001b[38;5;124;03mcontaining a JSON document).\u001b[39;00m\n\u001b[1;32m    335\u001b[0m \n\u001b[1;32m    336\u001b[0m \u001b[38;5;124;03m\"\"\"\u001b[39;00m\n\u001b[0;32m--> 337\u001b[0m obj, end \u001b[38;5;241m=\u001b[39m \u001b[38;5;28;43mself\u001b[39;49m\u001b[38;5;241;43m.\u001b[39;49m\u001b[43mraw_decode\u001b[49m\u001b[43m(\u001b[49m\u001b[43ms\u001b[49m\u001b[43m,\u001b[49m\u001b[43m \u001b[49m\u001b[43midx\u001b[49m\u001b[38;5;241;43m=\u001b[39;49m\u001b[43m_w\u001b[49m\u001b[43m(\u001b[49m\u001b[43ms\u001b[49m\u001b[43m,\u001b[49m\u001b[43m \u001b[49m\u001b[38;5;241;43m0\u001b[39;49m\u001b[43m)\u001b[49m\u001b[38;5;241;43m.\u001b[39;49m\u001b[43mend\u001b[49m\u001b[43m(\u001b[49m\u001b[43m)\u001b[49m\u001b[43m)\u001b[49m\n\u001b[1;32m    338\u001b[0m end \u001b[38;5;241m=\u001b[39m _w(s, end)\u001b[38;5;241m.\u001b[39mend()\n",
      "File \u001b[0;32m/Library/Frameworks/Python.framework/Versions/3.9/lib/python3.9/json/decoder.py:355\u001b[0m, in \u001b[0;36mJSONDecoder.raw_decode\u001b[0;34m(self, s, idx)\u001b[0m\n\u001b[1;32m    354\u001b[0m \u001b[38;5;28;01mexcept\u001b[39;00m \u001b[38;5;167;01mStopIteration\u001b[39;00m \u001b[38;5;28;01mas\u001b[39;00m err:\n\u001b[0;32m--> 355\u001b[0m     \u001b[38;5;28;01mraise\u001b[39;00m JSONDecodeError(\u001b[38;5;124m\"\u001b[39m\u001b[38;5;124mExpecting value\u001b[39m\u001b[38;5;124m\"\u001b[39m, s, err\u001b[38;5;241m.\u001b[39mvalue) \u001b[38;5;28;01mfrom\u001b[39;00m \u001b[38;5;28mNone\u001b[39m\n\u001b[1;32m    356\u001b[0m \u001b[38;5;28;01mreturn\u001b[39;00m obj, end\n",
      "\u001b[0;31mJSONDecodeError\u001b[0m: Expecting value: line 1 column 1 (char 0)",
      "\nThe above exception was the direct cause of the following exception:\n",
      "\u001b[0;31mRuntimeError\u001b[0m                              Traceback (most recent call last)",
      "Cell \u001b[0;32mIn[26], line 1\u001b[0m\n\u001b[0;32m----> 1\u001b[0m geo_locations \u001b[38;5;241m=\u001b[39m \u001b[43mai\u001b[49m\u001b[38;5;241;43m.\u001b[39;49m\u001b[43mget_geographic_locations\u001b[49m\u001b[43m(\u001b[49m\u001b[43mtext\u001b[49m\u001b[38;5;241;43m=\u001b[39;49m\u001b[43mcontent\u001b[49m\u001b[43m,\u001b[49m\u001b[43m \u001b[49m\u001b[43mtheme\u001b[49m\u001b[38;5;241;43m=\u001b[39;49m\u001b[43mtheme\u001b[49m\u001b[43m)\u001b[49m\n\u001b[1;32m      2\u001b[0m geo_locations\n",
      "File \u001b[0;32m~/home/repository/git/oonisim/python-programs/openai/gpt.py:157\u001b[0m, in \u001b[0;36mChatTaskForTextTagging.get_geographic_locations\u001b[0;34m(self, text, theme, top_n)\u001b[0m\n\u001b[1;32m    142\u001b[0m \u001b[38;5;250m\u001b[39m\u001b[38;5;124;03m\"\"\"Get geographical locations from the text.\u001b[39;00m\n\u001b[1;32m    143\u001b[0m \u001b[38;5;124;03mArgs:\u001b[39;00m\n\u001b[1;32m    144\u001b[0m \u001b[38;5;124;03m    text: text to extract the key events from.\u001b[39;00m\n\u001b[0;32m   (...)\u001b[0m\n\u001b[1;32m    149\u001b[0m \u001b[38;5;124;03m}\u001b[39;00m\n\u001b[1;32m    150\u001b[0m \u001b[38;5;124;03m\"\"\"\u001b[39;00m\n\u001b[1;32m    151\u001b[0m prompt \u001b[38;5;241m=\u001b[39m \u001b[38;5;124mf\u001b[39m\u001b[38;5;124m\"\u001b[39m\u001b[38;5;132;01m{\u001b[39;00mtop_n\u001b[38;5;132;01m}\u001b[39;00m\u001b[38;5;124m geographic locations in the TEXT where the THEME \u001b[39m\u001b[38;5;124m'\u001b[39m\u001b[38;5;132;01m{\u001b[39;00mtheme\u001b[38;5;132;01m}\u001b[39;00m\u001b[38;5;124m'\u001b[39m\u001b[38;5;124m is related. \u001b[39m\u001b[38;5;124m\"\u001b[39m \\\n\u001b[1;32m    152\u001b[0m          \u001b[38;5;124mf\u001b[39m\u001b[38;5;124m\"\u001b[39m\u001b[38;5;124mThe locations must exist in the Google map. \u001b[39m\u001b[38;5;124m\"\u001b[39m \\\n\u001b[1;32m    153\u001b[0m          \u001b[38;5;124m\"\u001b[39m\u001b[38;5;124mReturn as a JSON object where the key is geographic location and the value is explanation \u001b[39m\u001b[38;5;124m\"\u001b[39m \\\n\u001b[1;32m    154\u001b[0m          \u001b[38;5;124m\"\u001b[39m\u001b[38;5;124mwhy the location is important to the THEME. \u001b[39m\u001b[38;5;124m\"\u001b[39m \\\n\u001b[1;32m    155\u001b[0m          \u001b[38;5;124mf\u001b[39m\u001b[38;5;124m\"\u001b[39m\u001b[38;5;124mReturn JSON null if there is no geographic locations. TEXT=\u001b[39m\u001b[38;5;132;01m{\u001b[39;00mtext\u001b[38;5;132;01m}\u001b[39;00m\u001b[38;5;124m\"\u001b[39m\n\u001b[0;32m--> 157\u001b[0m \u001b[38;5;28;01mreturn\u001b[39;00m \u001b[43m_to_json\u001b[49m\u001b[43m(\u001b[49m\u001b[43mtext\u001b[49m\u001b[38;5;241;43m=\u001b[39;49m\u001b[38;5;28;43mself\u001b[39;49m\u001b[38;5;241;43m.\u001b[39;49m\u001b[43mget_chat_completion_by_prompt\u001b[49m\u001b[43m(\u001b[49m\u001b[43mprompt\u001b[49m\u001b[38;5;241;43m=\u001b[39;49m\u001b[43mprompt\u001b[49m\u001b[43m)\u001b[49m\u001b[43m)\u001b[49m\n",
      "File \u001b[0;32m~/home/repository/git/oonisim/python-programs/openai/gpt.py:41\u001b[0m, in \u001b[0;36m_to_json\u001b[0;34m(text)\u001b[0m\n\u001b[1;32m     39\u001b[0m msg: \u001b[38;5;28mstr\u001b[39m \u001b[38;5;241m=\u001b[39m \u001b[38;5;124mf\u001b[39m\u001b[38;5;124m\"\u001b[39m\u001b[38;5;124mcannot decode to JSON from the GPT response [\u001b[39m\u001b[38;5;132;01m{\u001b[39;00mtext\u001b[38;5;132;01m}\u001b[39;00m\u001b[38;5;124m]\u001b[39m\u001b[38;5;124m\"\u001b[39m\n\u001b[1;32m     40\u001b[0m _logger\u001b[38;5;241m.\u001b[39merror(\u001b[38;5;124m\"\u001b[39m\u001b[38;5;132;01m%s\u001b[39;00m\u001b[38;5;124m due to [\u001b[39m\u001b[38;5;132;01m%s\u001b[39;00m\u001b[38;5;124m].\u001b[39m\u001b[38;5;124m\"\u001b[39m, msg, _error)\n\u001b[0;32m---> 41\u001b[0m \u001b[38;5;28;01mraise\u001b[39;00m \u001b[38;5;167;01mRuntimeError\u001b[39;00m \u001b[38;5;28;01mfrom\u001b[39;00m \u001b[38;5;21;01m_error\u001b[39;00m\n",
      "\u001b[0;31mRuntimeError\u001b[0m: "
     ]
    }
   ],
   "source": [
    "geo_locations = ai.get_geographic_locations(text=content, theme=theme)\n",
    "geo_locations"
   ]
  },
  {
   "cell_type": "code",
   "execution_count": null,
   "id": "c57cc56a",
   "metadata": {},
   "outputs": [],
   "source": [
    "print(json.dumps(geo_locations, indent=4, ensure_ascii=False))"
   ]
  },
  {
   "cell_type": "code",
   "execution_count": 113,
   "id": "0e3cdb03",
   "metadata": {},
   "outputs": [
    {
     "data": {
      "text/plain": [
       "['黄海', '東倉里', '白翎島', '群山市', 'フィリピン・ルソン島', '日本政府']"
      ]
     },
     "execution_count": 113,
     "metadata": {},
     "output_type": "execute_result"
    }
   ],
   "source": [
    "list(geo_locations.keys())"
   ]
  },
  {
   "cell_type": "code",
   "execution_count": 114,
   "id": "75e69cc2",
   "metadata": {},
   "outputs": [
    {
     "data": {
      "text/plain": [
       "{'黄海': '北朝鮮の軍事偵察衛星が墜落した場所であり、日本政府が航行警報を出している。',\n",
       " 'フィリピン・ルソン島東方': '北朝鮮の軍事偵察衛星が墜落した場所の一つである。',\n",
       " '東倉里': '北朝鮮が宇宙発射体を打ち上げた場所であり、韓国軍が監視していた。',\n",
       " '韓国': '北朝鮮が宇宙発射体を打ち上げた際、韓国軍が監視していた。',\n",
       " '日本政府': '北朝鮮の軍事偵察衛星が墜落した場所に航行警報を出している。',\n",
       " '人工衛星': '軍事偵察衛星は他国の軍事基地の状況や兵器の動きを把握するための人工衛星である。'}"
      ]
     },
     "execution_count": 114,
     "metadata": {},
     "output_type": "execute_result"
    }
   ],
   "source": [
    "geo_locations_from_key_phrases = ai.get_geographic_locations(text=key_lines, theme=theme)\n",
    "geo_locations_from_key_phrases"
   ]
  },
  {
   "cell_type": "markdown",
   "id": "c144ca97",
   "metadata": {},
   "source": [
    "## Distillation"
   ]
  },
  {
   "cell_type": "code",
   "execution_count": 104,
   "id": "e1d7f5a4",
   "metadata": {},
   "outputs": [
    {
     "name": "stdout",
     "output_type": "stream",
     "text": [
      "{\n",
      "    \"KEYWORD\": [\n",
      "        \"Ben Roberts-Smith\",\n",
      "        \"defamation trial\",\n",
      "        \"war crimes\",\n",
      "        \"Brereton Report\",\n",
      "        \"Australian special forces\",\n",
      "        \"Afghanistan\"\n",
      "    ],\n",
      "    \"PERSON\": [\n",
      "        {\n",
      "            \"name\": \"Ben Roberts-Smith\",\n",
      "            \"title\": \"war veteran\"\n",
      "        },\n",
      "        {\n",
      "            \"name\": \"Anthony Albanese\",\n",
      "            \"title\": \"Prime Minister\"\n",
      "        },\n",
      "        {\n",
      "            \"name\": \"James Warburton\",\n",
      "            \"title\": \"Seven chief executive\"\n",
      "        },\n",
      "        {\n",
      "            \"name\": \"Kim Beazley\",\n",
      "            \"title\": \"Australian War Memorial chair\"\n",
      "        },\n",
      "        {\n",
      "            \"name\": \"David Shoebridge\",\n",
      "            \"title\": \"Greens senator\"\n",
      "        },\n",
      "        {\n",
      "            \"name\": \"Kerry Stokes\",\n",
      "            \"title\": \"Channel 7 chairman\"\n",
      "        }\n",
      "    ],\n",
      "    \"ORGANIZATION\": [\n",
      "        \"Channel 7\",\n",
      "        \"Australian War Memorial\",\n",
      "        \"The Sydney Morning Herald\",\n",
      "        \"The Age\",\n",
      "        \"The Canberra Times\",\n",
      "        \"Office of the Special Investigator\",\n",
      "        \"Australian Federal Police\"\n",
      "    ],\n",
      "    \"LOCATION\": [\n",
      "        \"Australia\",\n",
      "        \"Afghanistan\",\n",
      "        \"Singapore\"\n",
      "    ],\n",
      "    \"CATEGORY\": [\n",
      "        \"war\",\n",
      "        \"crime\",\n",
      "        \"politics\"\n",
      "    ]\n",
      "}\n"
     ]
    }
   ],
   "source": [
    "for article in articles:\n",
    "    tags = ai.distill(text=clean(article), theme=None)\n",
    "    # tags\n",
    "    print(json.dumps(tags, indent=4, ensure_ascii=False))"
   ]
  },
  {
   "cell_type": "code",
   "execution_count": 100,
   "id": "bbc1199e",
   "metadata": {},
   "outputs": [
    {
     "name": "stdout",
     "output_type": "stream",
     "text": [
      "{\n",
      "    \"KEYWORD\": [\n",
      "        \"Monzo\",\n",
      "        \"digital bank\",\n",
      "        \"profitability\",\n",
      "        \"revenue\",\n",
      "        \"lending\",\n",
      "        \"anti-money laundering\"\n",
      "    ],\n",
      "    \"PERSON\": [\n",
      "        {\n",
      "            \"name\": \"TS Anil\",\n",
      "            \"title\": \"CEO\"\n",
      "        },\n",
      "        {\n",
      "            \"name\": \"James Davies\",\n",
      "            \"title\": \"Chief Financial Officer\"\n",
      "        },\n",
      "        {\n",
      "            \"name\": \"Tom Blomfield\",\n",
      "            \"title\": \"Co-founder\"\n",
      "        }\n",
      "    ],\n",
      "    \"ORGANIZATION\": [\n",
      "        \"Monzo\",\n",
      "        \"Financial Conduct Authority\",\n",
      "        \"Bank of England\"\n",
      "    ],\n",
      "    \"LOCATION\": [\n",
      "        \"U.K.\"\n",
      "    ],\n",
      "    \"CATEGORY\": [\n",
      "        \"business\",\n",
      "        \"finance\",\n",
      "        \"technology\"\n",
      "    ]\n",
      "}\n"
     ]
    }
   ],
   "source": [
    "tags = ai.distill(text=clean(article_british_digital_bank), theme=None)\n",
    "print(json.dumps(tags, indent=4, ensure_ascii=False))"
   ]
  },
  {
   "cell_type": "code",
   "execution_count": null,
   "id": "c6c1831a",
   "metadata": {},
   "outputs": [],
   "source": []
  }
 ],
 "metadata": {
  "kernelspec": {
   "display_name": "Python 3 (ipykernel)",
   "language": "python",
   "name": "python3"
  },
  "language_info": {
   "codemirror_mode": {
    "name": "ipython",
    "version": 3
   },
   "file_extension": ".py",
   "mimetype": "text/x-python",
   "name": "python",
   "nbconvert_exporter": "python",
   "pygments_lexer": "ipython3",
   "version": "3.9.13"
  }
 },
 "nbformat": 4,
 "nbformat_minor": 5
}
