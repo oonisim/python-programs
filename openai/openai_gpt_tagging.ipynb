{
 "cells": [
  {
   "cell_type": "markdown",
   "id": "07440233-d15a-45eb-b4ae-8fc63b6e2b38",
   "metadata": {},
   "source": [
    "# PYTHONPATH"
   ]
  },
  {
   "cell_type": "code",
   "execution_count": 114,
   "id": "08a350fa",
   "metadata": {},
   "outputs": [],
   "source": [
    "import json\n",
    "import os\n",
    "import re\n",
    "import sys\n",
    "import pathlib"
   ]
  },
  {
   "cell_type": "code",
   "execution_count": 115,
   "id": "ba7bbd1b-b2b5-4578-ac7d-ec6cb54b8e44",
   "metadata": {
    "tags": []
   },
   "outputs": [],
   "source": [
    "PATH_TO_LIB: str = str(pathlib.Path(\"../lib\").resolve())"
   ]
  },
  {
   "cell_type": "code",
   "execution_count": 116,
   "id": "e6b44514-0712-48d5-b6a7-2a99a149c95f",
   "metadata": {
    "tags": []
   },
   "outputs": [],
   "source": [
    "if PATH_TO_LIB not in sys.path:\n",
    "    sys.path.insert(0, PATH_TO_LIB)"
   ]
  },
  {
   "cell_type": "code",
   "execution_count": 117,
   "id": "3304ec6c-c84a-49c5-bcf5-7925398e6400",
   "metadata": {
    "tags": []
   },
   "outputs": [
    {
     "name": "stdout",
     "output_type": "stream",
     "text": [
      "The autoreload extension is already loaded. To reload it, use:\n",
      "  %reload_ext autoreload\n"
     ]
    }
   ],
   "source": [
    "%load_ext autoreload\n",
    "%autoreload 2\n",
    "from gpt import (\n",
    "    ChatTaskForTextTagging\n",
    ")"
   ]
  },
  {
   "cell_type": "markdown",
   "id": "98becdfc",
   "metadata": {},
   "source": [
    "# Data"
   ]
  },
  {
   "cell_type": "code",
   "execution_count": 113,
   "id": "53cce0ee",
   "metadata": {},
   "outputs": [],
   "source": [
    "article = \"North Korea has said an accident occurred as it planned to send up its first space satellite, causing it to crash into the sea. The rocket launch prompted Japan to warn residents in Okinawa but it later reported there was no danger of its territory being hit. North Korea announced earlier it planned to launch a satellite by 11 June to monitor US military activities. It now says it will attempt a second launch as soon as possible. Japanese Prime Minister Fumio Kishida said North Korea appeared to have fired a ballistic missile and that the government was analysing the details. He added that there were currently no reports of damage following the launch. Japan said previously it was ready to shoot down anything that threatened its territory. There was chaos and confusion in Seoul, the South Korean capital, on Wednesday morning local time, as people awoke to the sound of an air raid siren and an emergency message telling them to prepare for an evacuation - only to be told 20 minutes later it had been sent in error. The stakes are high on the Korean Peninsula, where tensions have existed between the two countries for 70 years, and this false alarm could seriously damage people's trust in the alert system. North Korea poses a threat to South Korea, and if there is an alert in the future one question being asked is whether it will be taken seriously, or brushed off as another mistake. South Korea's military said the projectile might have broken up in mid-air or crashed after it vanished from radar early, adding that analysis was being conducted, Yonhap news agency reports. On Tuesday, Ri Pyong Chol, vice chairman of North Korea's ruling party's central military commission, announced the launch plan, saying it was in response to reckless military acts by the US and South Korea. He accused the countries of openly revealing their reckless ambition for aggression . Before Wednesday's launch, the US state department said any North Korean launch that used ballistic missile technology would violate multiple UN Security Council resolutions. South Korea's foreign ministry also condemned the launch plan earlier this week, calling it a serious violation of security council resolutions banning all launches using ballistic missile technology . If North Korea eventually goes ahead with the launch, it will have to bear the price and pain it deserves, it said. North Korean leader Kim Jong-un has identified the development of military satellites as a key component of his country's defence. Leif-Eric Easley, a professor at Ewha University in Seoul, said the North Korean government likely sees itself in a space race , and that whether or not its current satellite mission is a success it can be expected to issue political propaganda about its space capabilities .\""
   ]
  },
  {
   "cell_type": "code",
   "execution_count": 119,
   "id": "b4351da4",
   "metadata": {},
   "outputs": [],
   "source": [
    "article = \"Australian Melissa Georgio moved to Finland over a decade ago to seek happiness in one of the coldest and darkest places on Earth. One of my favorite things about living here is that it's easy to get close to nature whether you're in a residential area or in the middle of the city, Melissa said. Originally a teacher, 12 years ago, she switched from the beaches of Sydney to the dark winters and cold lakes of Finland, and has never looked back since. Melissa said, For Finns, the concept of happiness is very different from the Australian concept of happiness. Finns, she said, are happy to accept portrayals of themselves as melancholy and stubborn — a popular local saying is, People who have happiness must hide it. The first thing I noticed here is that you don't go to dinners or barbecues, and you don't talk about real estate. No one asks you where you live, what suburb do you live in, where your kids go to school. The Finns seem quite happy with the status quo, and they don't always seem to want more. Melissa Georgio's Dark Night in Northern Europe Finland was named the happiest country in the world for the sixth year in a row in the World Happiness Report released by the United Nations. The Nordic countries are often countries with (good) unemployment benefits, pensions, and other benefits, explains happiness expert and researcher Frank Martela (Frank Martela). However, Frank said that Finland's position in the rankings often surprised its own people. Finns, they're almost outraged because they don't think this can be true. We listen to sad music and hard rock. Therefore, happiness is not part of the Finnish self-image. The other side of Finnish melancholy is a cultural focus on perseverance. Frank said it redefines the way Finns view happiness — a concept known as sisu — which is part of Finnish culture and is hard to translate directly, but can be understood as will, determination, perseverance, and reason to face adversity. This, he said, is best reflected in Finns' favorite pastime — getting warm in a sauna after taking a bath in freezing temperatures. It's about this paradox — from one extreme to the other, and it's a pretty fun experience... because you need perseverance. Melissa said, but Finland has many things that are great and can provide happiness for people in this country. Finland is one of the European countries least affected by the COVID-19 pandemic, and experts attribute this to a high level of trust in the government and little resistance to complying with restrictions. Trust in government, on the other hand, stems from a country's investment in its citizens. The public school system rarely tests children and is one of the best in the world. Finland also has a universal health care system with affordable childcare and strong support for parents. Melissa said, The whole country is taking care of the child's development. This system is very well set up. So from having my son to raising him at home, to sending him to daycare, to going to school, I was very well supported in every aspect of this. Finland vs. China, which country has the strongest sense of happiness? Since the publication of the World Happiness Report, the Nordic countries have dominated the top ten. In this year's report, Finland and its neighbors Denmark (2nd), Iceland (3rd), Sweden (6th), and Norway (7th) all scored high on happiness indicators, including healthy life expectancy, per capita GDP, low levels of corruption, social support, freedom, trust, and generosity. Other top ten countries/regions include the Netherlands (5th), Switzerland (8th), Luxembourg (9th), and New Zealand (10th). Australia ranked 12th in this report, followed by Canada (13th), Ireland (14th), and the United States (15th). In Asia, Singapore ranked 25th in the world, up two places from last year, Taiwan dropped one place from last year to 27th, Japan rose to 47th, mainland China ranked 64th, and Hong Kong ranked 82nd. Meanwhile, the polling agency Ipsos Group (Ipsos) released a survey report on the global happiness index. The results showed that out of 32 countries, the country with the highest happiness index was China (91%), followed by Saudi Arabia (86%), the Netherlands (85%), India (84%), and Brazil (83%). Australia ranked 9th in this report. According to the survey report, on average, happiness increased more significantly in middle-income countries (as defined by the World Bank) than in high-income countries.\""
   ]
  },
  {
   "cell_type": "raw",
   "id": "c6ca663a",
   "metadata": {},
   "source": [
    "article = 'The French government under President Emmanuel Macron on Monday survived two no-confidence motions in parliament, but still faces intense pressure over its handling of a controversial pensions reform. Prime Minister Elisabeth Borne incensed the opposition last week by announcing the government would impose a controversial pension reform without a vote in parliament, sparking accusations of anti-democratic behaviour. Its use of an article in the constitution allowing such a move also gave the opposition the right to call motions of no confidence in the government and two such demands were filed. Advertisement READ MORE Pension reform has been imposed in France without a vote. How did it happen? The 577-seat National Assembly lower rejected a motion brought by the centrist LIOT coalition that is also supported by the left, by a margin of just nine votes, much narrower than expected. It then overwhelmingly rejected a motion brought by the far-right National Rally (RN) with just 94 votes in favour. The rejection of the motions means that the reform to raise the pensions age from 62 to 64 has now been adopted by the legislature. It still needs to be signed into law by Mr Macron and may also face legal challenges. Anthony Albanese to reset relationship with France on upcoming visit 24 Jun 2022, 7:38 pm Anthony Albanese to reset relationship with France on upcoming visit It far from represents the end of the biggest domestic crisis of the second mandate in office of Mr Macron, who has yet to make any public comment on the controversy. We never went so far in building a compromise as we did with this reform, Ms Borne told parliament ahead of the vote, saying her use of the article to bypass a vote was profoundly democratic under France s constitution set up by postwar leader Charles de Gaulle. Garbage piles up in Paris following strikes Garbage cans overflowing with trash on the streets as collectors go on strike in Paris, France. Garbage collectors have joined the massive strikes throughout France against pension reform plans. Source: Getty Anadolu Agency Anadolu Agency via Getty Images Trouble ahead A new round of strikes and protests have been called on Thursday and are expected to again bring public transport to a standstill in several areas. There has been a rolling strike by rubbish collectors in Paris, leading to unsightly and unhygienic piles of trash accumulating in the French capital. The future of Ms Borne, appointed as France s second woman premier by Mr Macron after his election victory over the far right for a second mandate, remains in doubt after she failed to secure a parliamentary majority for the reform. READ MORE France wants to raise its retirement age by two years. Why are thousands protesting? Meanwhile, it remains unclear when Mr Macron will finally make public comments over the events, amid reports he is considering an address to the nation. Since Ms Borne invoked article 49.3 of the constitution, there have also been daily protests in Paris and other cities that have on occasion turned violent. A total of 169 people were arrested nationwide on Saturday during spontaneous protests, including one that assembled 4,000 in the capital. People in the street during clashes and protests in Paris. A demonstrator holds a red flare in the middle of a crowd gathered near a fire as several thousand demonstrators gathered at Place de la Concorde, opposite the National Assembly, in Paris on 16 March, 2023 to protest against pension reform. Source: Getty Samuel Boivin Government insiders and observers have raised fears that France is again heading for another bout of violent anti-government protests, only a few years after the Yellow Vest movement shook the country from 2018-2019. In order to pass, the main multi-party no confidence motion needed support from around half the 61 MPs of the traditional right-wing party The Republicans. Even after its leadership insisted they should reject the motions, 19 renegade Republicans MPs voted in favour. I think it s the only way out. We need to move on to something else, said one of the Republicans who voted for the ousting of the government, Aurelien Pradie. Ejecting PM least risky A survey on Sunday showed the head of state s personal rating at its lowest level since the height of the Yellow Vest crisis in 2019, with only 28 per cent of respondents having a positive view of him. Mr Macron has argued that the pension changes are needed to avoid crippling deficits in the coming decades linked to France s ageing population. Those among us who are able will gradually need to work more to finance our social model, which is one of the most generous in the world, Finance Minister Bruno Le Maire said Sunday. Opponents of the reform say it places an unfair burden on low earners, women and people doing physically wearing jobs. Opinion polls have consistently shown that two thirds of French people oppose the changes. As for Mr Macron s options now, replacing Ms Borne would be the least risky and the most likely to give him new momentum, Bruno Cautres of the Centre for Political Research told AFP. Calling new elections is seen as unlikely. When you re in this much of a cycle of unpopularity and rejection over a major reform, it s basically suicidal to go to the polls, Brice Teinturier, head of the polling firm Ipsos, told AFP. A Harris Interactive survey of over 2,000 people this month suggested that the only winner from a new general election would be the far right, with all other major parties losing ground. '"
   ]
  },
  {
   "cell_type": "code",
   "execution_count": 121,
   "id": "14bc211a",
   "metadata": {},
   "outputs": [],
   "source": [
    "theme = 'North Korea says spy satellite launch crashed into sea'\n",
    "article = re.sub(r'[\\s]+', ' ', \"\"\"\n",
    "北朝鮮の朝鮮中央通信は31日、国家宇宙開発局が午前6時27分ごろに軍事偵察衛星「マンリギョン1号」を打ち上げ、事故により「黄海上に墜落した」と報じた。同局は対策を早急に講じ「できるだけ早いうちに2次打ち上げに踏み切る」と発表したという。\n",
    "同通信によるとロケットは1段目を分離後、2段目の異常により推進力を失った。新型エンジンシステムの安全性や燃料の問題で事故が起きたと明かしたうえで原因の解明に着手し、欠陥を調査して克服するとしている。\n",
    "新型の衛星運搬ロケット「チョンリマ1」に搭載して打ち上げたと伝えた。発射地は北西部の平安北道・東倉里（トンチャンリ）にある西海衛星発射場だという。\n",
    "\n",
    "韓国軍合同参謀本部は同日午前6時29分ごろ、北朝鮮が東倉里一帯から「北朝鮮が主張する宇宙発射体」を1発、南方向に打ち上げるのを捉えたと発表した。南北境界に近い韓国・白翎島の西側の上空を通過した後、発射体が異常飛行したと分析した。\n",
    "\n",
    "韓国軍は北朝鮮の発射体の一部とみられる物体を見つけ、引き上げた。落下地点は韓国西部・群山市の西方にある「於青島」の西200キロメートルの海上と推定される。北朝鮮が衛星と主張する発射体を打ち上げたのは2016年以来、7年ぶりだ。\n",
    "北朝鮮は31日〜6月11日に軍事偵察衛星1号機を発射すると予告していた。黄海上の2カ所とフィリピン・ルソン島東方の1カ所が落下推定地点となり、日本政府が航行警報を出している。\n",
    "\n",
    "軍事偵察衛星は他国の軍事基地の状況や兵器の動きを把握するための人工衛星を指す。北朝鮮は衛星を使って「米国や追随兵力の危険な軍事行動をリアルタイムで追跡、監視、判別する」と主張している。\n",
    "\"\"\")"
   ]
  },
  {
   "cell_type": "code",
   "execution_count": 129,
   "id": "24d67bcc",
   "metadata": {},
   "outputs": [],
   "source": [
    "article = \"\"\"\n",
    "Ben Roberts-Smith has resigned from his role at Channel 7, just 24 hours after a defamation trial judge ruled he was a murderer and war criminal.\n",
    "\n",
    "It comes as the Australian War Memorial confirmed it was “considering carefully” whether additional information should be added to displays lauding the veteran.\n",
    "\n",
    "And Prime Minister Anthony Albanese has pledged to implement recommendations of the Brereton Report, which found evidence Australian special forces had committed 39 murders in Afghanistan, to \"the fullest extent possible\".\n",
    "\n",
    "\n",
    "Advertisement\n",
    "Mr Roberts-Smith was general manager of Seven Queensland, but took leave during a years-long defamation case against three newspapers which alleged he murdered Afghan civilians.\n",
    "But in an email circulated to Channel 7 staff on Friday, Seven chief executive James Warburton said he had accepted Mr Roberts-Smith's resignation.\n",
    "\n",
    "“We thank Ben for his commitment to Seven and wish him all the best,” he said.\n",
    "\n",
    "Mr Roberts-Smith launched defamation proceedings against The Sydney Morning Herald, The Age and The Canberra Times for a series of articles claiming he had committed war crimes in Afghanistan.\n",
    "\n",
    "In a landmark ruling on Thursday, a Federal Court judge found the media defendants had established their claims that Mr Roberts-Smith murdered four Afghan civilians were \"substantially true\".\n",
    "\n",
    "Speaking for the first time since the ruling, Mr Albanese said it would be “inappropriate” to comment on the specifics of Thursday’s ruling, noting the potential for further action the “government might be a party to”.\n",
    "But he stressed the government’s commitment to implementing the Brereton Report's recommendations “to the extent possible”.\n",
    "\n",
    "“That is an area where we have a responsibility [and] we have indicated very clearly we will take up that responsibility,” he said in Singapore, where he is giving a speech to a key regional security forum.\n",
    "\n",
    "Mr Albanese rejected suggestions Australia's international standing could be damaged by the ruling.\n",
    "\n",
    "\"[It] is extraordinarily strong, including the standing of our defence forces and our defence personnel,\" he said.\n",
    "War Memorial 'carefully considering' Ben Roberts-Smith displays\n",
    "Mr Roberts-Smith’s uniform, medals, and a large painting of the veteran are on public display at the memorial.\n",
    "\n",
    "In a statement to SBS News, Australian War Memorial chair Kim Beazley acknowledged the “gravity” of the defamation ruling “and its broader impact on all involved in the Australian community”.\n",
    "\n",
    "“The Memorial assists in remembering, interpreting and understanding Australia’s experience of war and its enduring impact. This includes the causes, conduct and consequences of war,” he said.\n",
    "“This is the outcome of a civil legal case, and one step in a longer process.\n",
    "\n",
    "“Collection items relating to Ben Roberts-Smith … are on display in the Memorial’s galleries. We are considering carefully the additional content and context to be included in these displays.”\n",
    "\n",
    "Greens senator David Shoebridge has called for the items to be removed entirely if the ruling is upheld.\n",
    "\n",
    "“The first step in correcting the official record is for the Australian War Memorial to immediately remove Ben Roberts-Smith’s uniform from public display and to begin telling the entire truth of Australia’s involvement in that brutal war,” he said.\n",
    "“This is not justice for the families who lost loved ones or for the communities that have been brutalised by war crimes, but it takes us a step closer.”\n",
    "\n",
    "Mr Roberts-Smith was not present at the judgment. He was pictured holidaying in Bali in the days before.\n",
    "\n",
    "Channel 7 chairman Kerry Stokes bankrolled Mr Roberts-Smith’s legal defence, and said in a statement on Thursday the ruling, “does not accord with the man I know”.\n",
    "Roughly 40 war crimes investigations 'continue unabated'\n",
    "The 2020 Brereton Report found credible evidence of war crimes committed by Australian special forces (SAS) in Afghanistan, including 39 murders.\n",
    "\n",
    "The report prompted joint investigations between the Office of the Special Investigator (OSI) and the Australian Federal Police.\n",
    "It did not name Mr Roberts-Smith specifically, but the Nine newspapers in January revealed he is under investigation.\n",
    "\n",
    "In March, a decorated former SAS soldier became the first veteran charged with war crimes under Australian law, investigators alleging he murdered an unarmed Afghan man in a wheat field.\n",
    "\n",
    "Last week, OSI director-general Chris Moraitis said efforts to advance war crimes investigations “continue unabated”.\n",
    "Mr Moraitis revealed roughly 40 investigations were still ongoing, saying that number had not changed significantly since February.\n",
    "\n",
    "“Our teams are conducting their work as expeditiously as possible, conscious of not unnecessarily adding to the burden of anyone affected by the investigations, including their families,” he said in a statement to Senate estimates.\n",
    "\n",
    "“The number of active investigations from all sources is fluid and under constant review.\n",
    "\n",
    "“I expect it will continue to trend downwards over time, as we focus our efforts on alleged war crimes of particular gravity and which meet the high evidentiary threshold for a criminal justice process.”\n",
    "\"\"\""
   ]
  },
  {
   "cell_type": "code",
   "execution_count": 125,
   "id": "b78bd57a",
   "metadata": {},
   "outputs": [],
   "source": [
    "article = \"\"\"\n",
    "North Korea's Korean Central News Agency reported on the 31st that the National Space Development Agency launched the military reconnaissance satellite “Manri-gyeong 1” at around 6:27 a.m., and “crashed over the Yellow Sea” due to an accident. It is said that the bureau took measures as soon as possible and announced that “the second launch will be carried out as soon as possible.” The communication said that after the first stage was separated, the rocket lost propulsion due to an error in the second stage. After it was revealed that the accident occurred due to safety and fuel issues with the new engine system, clarification of the cause will commence, and the fault will be investigated and overcome. It was reported that it was launched on the new satellite delivery launch “Chonrima 1.” It is said that the launch site is the Saikai Satellite Launch Site in Dongchang-ri (Dongchang-ri) of North Heian Province in the northwestern part of North Heian Province. The Joint Chiefs of Staff of the South Korean Armed Forces announced that it had captured North Korea launching 1 “space projectile claimed by North Korea” from the Dongchang-ri area around 6:29 a.m. on the same day in a southerly direction. After it passed over the western side of Baengnyeong Island in South Korea, which is close to the north-south boundary, it was analyzed that the projectile flew aberratically. The South Korean forces found an object seen as part of a North Korean projectile and raised it. The drop point is estimated to be on the sea 200 km west of “OQingdao” west of Gunsan city in western Korea. This is the first time in 7 years since 2016 that North Korea has launched a projectile claimed to be a satellite. North Korea has announced that it will launch military reconnaissance satellite No. 1 from 31st to 6/11. Two locations on the Yellow Sea and one location east of Luzon Island in the Philippines became estimated fall points, and the Japanese government issued a navigation warning. A military reconnaissance satellite is an artificial satellite for grasping the status of military bases in other countries and the motions of weapons. North Korea insists that it will use a satellite to track, oversee, and determine the risky military actions of the United States and its follower forces in real time.\"\n",
    "\"\"\""
   ]
  },
  {
   "cell_type": "code",
   "execution_count": 131,
   "id": "460c21ce",
   "metadata": {},
   "outputs": [
    {
     "data": {
      "text/plain": [
       "\"Ben Roberts-Smith has resigned from his role at Channel 7, just 24 hours after a defamation trial judge ruled he was a murderer and war criminal. It comes as the Australian War Memorial confirmed it was “considering carefully whether additional information should be added to displays lauding the veteran. And Prime Minister Anthony Albanese has pledged to implement recommendations of the Brereton Report, which found evidence Australian special forces had committed 39 murders in Afghanistan, to the fullest extent possible . Advertisement Mr Roberts-Smith was general manager of Seven Queensland, but took leave during a years-long defamation case against three newspapers which alleged he murdered Afghan civilians. But in an email circulated to Channel 7 staff on Friday, Seven chief executive James Warburton said he had accepted Mr Roberts-Smith's resignation. “We thank Ben for his commitment to Seven and wish him all the best, he said. Mr Roberts-Smith launched defamation proceedings against The Sydney Morning Herald, The Age and The Canberra Times for a series of articles claiming he had committed war crimes in Afghanistan. In a landmark ruling on Thursday, a Federal Court judge found the media defendants had established their claims that Mr Roberts-Smith murdered four Afghan civilians were substantially true . Speaking for the first time since the ruling, Mr Albanese said it would be “inappropriate to comment on the specifics of Thursday’s ruling, noting the potential for further action the “government might be a party to . But he stressed the government’s commitment to implementing the Brereton Report's recommendations “to the extent possible . “That is an area where we have a responsibility [and] we have indicated very clearly we will take up that responsibility, he said in Singapore, where he is giving a speech to a key regional security forum. Mr Albanese rejected suggestions Australia's international standing could be damaged by the ruling. [It] is extraordinarily strong, including the standing of our defence forces and our defence personnel, he said. War Memorial 'carefully considering' Ben Roberts-Smith displays Mr Roberts-Smith’s uniform, medals, and a large painting of the veteran are on public display at the memorial. In a statement to SBS News, Australian War Memorial chair Kim Beazley acknowledged the “gravity of the defamation ruling “and its broader impact on all involved in the Australian community . “The Memorial assists in remembering, interpreting and understanding Australia’s experience of war and its enduring impact. This includes the causes, conduct and consequences of war, he said. “This is the outcome of a civil legal case, and one step in a longer process. “Collection items relating to Ben Roberts-Smith … are on display in the Memorial’s galleries. We are considering carefully the additional content and context to be included in these displays. Greens senator David Shoebridge has called for the items to be removed entirely if the ruling is upheld. “The first step in correcting the official record is for the Australian War Memorial to immediately remove Ben Roberts-Smith’s uniform from public display and to begin telling the entire truth of Australia’s involvement in that brutal war, he said. “This is not justice for the families who lost loved ones or for the communities that have been brutalised by war crimes, but it takes us a step closer. Mr Roberts-Smith was not present at the judgment. He was pictured holidaying in Bali in the days before. Channel 7 chairman Kerry Stokes bankrolled Mr Roberts-Smith’s legal defence, and said in a statement on Thursday the ruling, “does not accord with the man I know . Roughly 40 war crimes investigations 'continue unabated' The 2020 Brereton Report found credible evidence of war crimes committed by Australian special forces (SAS) in Afghanistan, including 39 murders. The report prompted joint investigations between the Office of the Special Investigator (OSI) and the Australian Federal Police. It did not name Mr Roberts-Smith specifically, but the Nine newspapers in January revealed he is under investigation. In March, a decorated former SAS soldier became the first veteran charged with war crimes under Australian law, investigators alleging he murdered an unarmed Afghan man in a wheat field. Last week, OSI director-general Chris Moraitis said efforts to advance war crimes investigations “continue unabated . Mr Moraitis revealed roughly 40 investigations were still ongoing, saying that number had not changed significantly since February. “Our teams are conducting their work as expeditiously as possible, conscious of not unnecessarily adding to the burden of anyone affected by the investigations, including their families, he said in a statement to Senate estimates. “The number of active investigations from all sources is fluid and under constant review. “I expect it will continue to trend downwards over time, as we focus our efforts on alleged war crimes of particular gravity and which meet the high evidentiary threshold for a criminal justice process.\""
      ]
     },
     "execution_count": 131,
     "metadata": {},
     "output_type": "execute_result"
    }
   ],
   "source": [
    "content = re.sub(r'[\\s\\\"—”\\n\\t\\\\]+', ' ', article, flags=re.MULTILINE).strip()\n",
    "content"
   ]
  },
  {
   "cell_type": "code",
   "execution_count": 9,
   "id": "d8757e4b",
   "metadata": {},
   "outputs": [],
   "source": [
    "# content = \"Finland over a decade ago to seek happiness in one of the coldest and darkest places on Earth.\""
   ]
  },
  {
   "cell_type": "markdown",
   "id": "3b22401e",
   "metadata": {},
   "source": [
    "# Open AI "
   ]
  },
  {
   "cell_type": "code",
   "execution_count": 7,
   "id": "30d7cd54",
   "metadata": {},
   "outputs": [],
   "source": [
    "ai = ChatTaskForTextTagging(\n",
    "    path_to_api_key=f\"{os.path.expanduser('~')}/.openai/api_key\"\n",
    ")"
   ]
  },
  {
   "cell_type": "code",
   "execution_count": 8,
   "id": "225d8040",
   "metadata": {},
   "outputs": [
    {
     "data": {
      "text/plain": [
       "['whisper-1',\n",
       " 'babbage',\n",
       " 'davinci',\n",
       " 'text-davinci-edit-001',\n",
       " 'babbage-code-search-code',\n",
       " 'text-similarity-babbage-001',\n",
       " 'code-davinci-edit-001',\n",
       " 'text-davinci-001',\n",
       " 'ada',\n",
       " 'babbage-code-search-text',\n",
       " 'babbage-similarity',\n",
       " 'code-search-babbage-text-001',\n",
       " 'text-curie-001',\n",
       " 'code-search-babbage-code-001',\n",
       " 'text-ada-001',\n",
       " 'text-similarity-ada-001',\n",
       " 'curie-instruct-beta',\n",
       " 'ada-code-search-code',\n",
       " 'ada-similarity',\n",
       " 'text-embedding-ada-002',\n",
       " 'code-search-ada-text-001',\n",
       " 'text-search-ada-query-001',\n",
       " 'davinci-search-document',\n",
       " 'ada-code-search-text',\n",
       " 'text-search-ada-doc-001',\n",
       " 'davinci-instruct-beta',\n",
       " 'text-similarity-curie-001',\n",
       " 'code-search-ada-code-001',\n",
       " 'ada-search-query',\n",
       " 'text-search-davinci-query-001',\n",
       " 'curie-search-query',\n",
       " 'davinci-search-query',\n",
       " 'babbage-search-document',\n",
       " 'ada-search-document',\n",
       " 'text-search-curie-query-001',\n",
       " 'text-search-babbage-doc-001',\n",
       " 'gpt-3.5-turbo',\n",
       " 'curie-search-document',\n",
       " 'text-search-curie-doc-001',\n",
       " 'babbage-search-query',\n",
       " 'text-babbage-001',\n",
       " 'text-search-davinci-doc-001',\n",
       " 'text-search-babbage-query-001',\n",
       " 'curie-similarity',\n",
       " 'gpt-3.5-turbo-0301',\n",
       " 'text-davinci-003',\n",
       " 'curie',\n",
       " 'text-similarity-davinci-001',\n",
       " 'text-davinci-002',\n",
       " 'davinci-similarity',\n",
       " 'cushman:2020-05-03',\n",
       " 'ada:2020-05-03',\n",
       " 'babbage:2020-05-03',\n",
       " 'curie:2020-05-03',\n",
       " 'davinci:2020-05-03',\n",
       " 'if-davinci-v2',\n",
       " 'if-curie-v2',\n",
       " 'if-davinci:3.0.0',\n",
       " 'davinci-if:3.0.0',\n",
       " 'davinci-instruct-beta:2.0.0',\n",
       " 'text-ada:001',\n",
       " 'text-davinci:001',\n",
       " 'text-curie:001',\n",
       " 'text-babbage:001']"
      ]
     },
     "execution_count": 8,
     "metadata": {},
     "output_type": "execute_result"
    }
   ],
   "source": [
    "[\n",
    "    record['id'] for \n",
    "    record in ai.list_models()['data']\n",
    "]"
   ]
  },
  {
   "cell_type": "markdown",
   "id": "c57dad99",
   "metadata": {},
   "source": [
    "# Extractions"
   ]
  },
  {
   "cell_type": "markdown",
   "id": "2a1f74fd",
   "metadata": {},
   "source": [
    "## Theme"
   ]
  },
  {
   "cell_type": "code",
   "execution_count": 9,
   "id": "68a9dc4c",
   "metadata": {},
   "outputs": [
    {
     "data": {
      "text/plain": [
       "'Finland named happiest country for 6th year in a row.'"
      ]
     },
     "execution_count": 9,
     "metadata": {},
     "output_type": "execute_result"
    }
   ],
   "source": [
    "theme = ai.get_theme(text=content)\n",
    "theme"
   ]
  },
  {
   "cell_type": "markdown",
   "id": "c22a94e4",
   "metadata": {},
   "source": [
    "## Summary"
   ]
  },
  {
   "cell_type": "code",
   "execution_count": 105,
   "id": "d31f704f",
   "metadata": {},
   "outputs": [
    {
     "data": {
      "text/plain": [
       "'North Korea launched a military reconnaissance satellite, but it crashed into the Yellow Sea due to an abnormality in the second stage of the rocket.'"
      ]
     },
     "execution_count": 105,
     "metadata": {},
     "output_type": "execute_result"
    }
   ],
   "source": [
    "summary = ai.get_summary(text=content)\n",
    "summary"
   ]
  },
  {
   "cell_type": "markdown",
   "id": "4b6a1818",
   "metadata": {},
   "source": [
    "## Key Events"
   ]
  },
  {
   "cell_type": "code",
   "execution_count": 106,
   "id": "b29b2ed3",
   "metadata": {},
   "outputs": [
    {
     "data": {
      "text/plain": [
       "{'軍事偵察衛星「マンリギョン1号」打ち上げ': '北朝鮮の国家宇宙開発局が軍事偵察衛星「マンリギョン1号」を打ち上げたが、事故により黄海上に墜落した。',\n",
       " 'ロケット2段目の異常': 'ロケットは1段目を分離後、2段目の異常により推進力を失った。',\n",
       " '新型エンジンシステムの安全性や燃料の問題': '北朝鮮は新型エンジンシステムの安全性や燃料の問題で事故が起きたと明かした。',\n",
       " '韓国軍が北朝鮮の宇宙発射体を捉える': '韓国軍合同参謀本部は北朝鮮が東倉里一帯から「北朝鮮が主張する宇宙発射体」を1発、南方向に打ち上げるのを捉えた。',\n",
       " '発射体が異常飛行した': '発射体が異常飛行したと分析された。',\n",
       " '韓国軍が北朝鮮の発射体の一部を見つける': '韓国軍は北朝鮮の発射体の一部とみられる物体を見つけ、引き上げた。',\n",
       " '北朝鮮の軍事偵察衛星1号機発射予告': '北朝鮮は31日〜6月11日に軍事偵察衛星1号機を発射すると予告していた。',\n",
       " '落下推定地点': '黄海上の2カ所とフィリピン・ルソン島東方の1カ所が落下推定地点となり、日本政府が航行警報を出している。',\n",
       " '軍事偵察衛星の役割': '軍事偵察衛星は他国の軍事基地の状況や兵器の動きを把握するための人工衛星を指す。'}"
      ]
     },
     "execution_count": 106,
     "metadata": {},
     "output_type": "execute_result"
    }
   ],
   "source": [
    "keys = ai.get_key_events(text=content)\n",
    "keys"
   ]
  },
  {
   "cell_type": "markdown",
   "id": "1027f7d3",
   "metadata": {},
   "source": [
    "## Key Lines"
   ]
  },
  {
   "cell_type": "code",
   "execution_count": 107,
   "id": "440f85f7",
   "metadata": {},
   "outputs": [
    {
     "data": {
      "text/plain": [
       "'北朝鮮の国家宇宙開発局が軍事偵察衛星「マンリギョン1号」を打ち上げたが、事故により黄海上に墜落した。 ロケットは1段目を分離後、2段目の異常により推進力を失った。 北朝鮮は新型エンジンシステムの安全性や燃料の問題で事故が起きたと明かした。 韓国軍合同参謀本部は北朝鮮が東倉里一帯から「北朝鮮が主張する宇宙発射体」を1発、南方向に打ち上げるのを捉えた。 発射体が異常飛行したと分析された。 韓国軍は北朝鮮の発射体の一部とみられる物体を見つけ、引き上げた。 北朝鮮は31日〜6月11日に軍事偵察衛星1号機を発射すると予告していた。 黄海上の2カ所とフィリピン・ルソン島東方の1カ所が落下推定地点となり、日本政府が航行警報を出している。 軍事偵察衛星は他国の軍事基地の状況や兵器の動きを把握するための人工衛星を指す。'"
      ]
     },
     "execution_count": 107,
     "metadata": {},
     "output_type": "execute_result"
    }
   ],
   "source": [
    "key_lines = \" \".join([\n",
    "    value for key, value in keys.items()\n",
    "])\n",
    "key_lines"
   ]
  },
  {
   "cell_type": "markdown",
   "id": "c85c3255",
   "metadata": {},
   "source": [
    "## Keywords"
   ]
  },
  {
   "cell_type": "code",
   "execution_count": 108,
   "id": "5212f399",
   "metadata": {},
   "outputs": [
    {
     "data": {
      "text/plain": [
       "['北朝鮮', '軍事偵察衛星', '打ち上げ', '墜落', 'ロケット', '異常']"
      ]
     },
     "execution_count": 108,
     "metadata": {},
     "output_type": "execute_result"
    }
   ],
   "source": [
    "keywords = ai.get_keywords(text=key_lines, theme=theme, top_n=6)\n",
    "keywords"
   ]
  },
  {
   "cell_type": "markdown",
   "id": "1f368c85",
   "metadata": {},
   "source": [
    "## People"
   ]
  },
  {
   "cell_type": "code",
   "execution_count": 109,
   "id": "0e9377b7",
   "metadata": {},
   "outputs": [
    {
     "data": {
      "text/plain": [
       "{'北朝鮮の朝鮮中央通信': '通信社', '韓国軍合同参謀本部': '軍隊'}"
      ]
     },
     "execution_count": 109,
     "metadata": {},
     "output_type": "execute_result"
    }
   ],
   "source": [
    "people = ai.get_people(text=content)\n",
    "people"
   ]
  },
  {
   "cell_type": "markdown",
   "id": "bbcdbdd0",
   "metadata": {},
   "source": [
    "## Organizations"
   ]
  },
  {
   "cell_type": "code",
   "execution_count": 110,
   "id": "92425fa8",
   "metadata": {},
   "outputs": [
    {
     "data": {
      "text/plain": [
       "{'朝鮮中央通信': 'North Korean state news agency',\n",
       " '国家宇宙開発局': 'North Korean National Aerospace Development Administration',\n",
       " '韓国軍合同参謀本部': 'South Korean Joint Chiefs of Staff'}"
      ]
     },
     "execution_count": 110,
     "metadata": {},
     "output_type": "execute_result"
    }
   ],
   "source": [
    "organizations = ai.get_organizations(text=content, theme=theme)\n",
    "organizations"
   ]
  },
  {
   "cell_type": "code",
   "execution_count": 117,
   "id": "8742fc1b",
   "metadata": {},
   "outputs": [
    {
     "name": "stdout",
     "output_type": "stream",
     "text": [
      "{\n",
      "    \"朝鮮中央通信\": \"North Korean state news agency\",\n",
      "    \"国家宇宙開発局\": \"North Korean National Aerospace Development Administration\",\n",
      "    \"韓国軍合同参謀本部\": \"South Korean Joint Chiefs of Staff\"\n",
      "}\n"
     ]
    }
   ],
   "source": [
    "print(json.dumps(organizations, indent=4, ensure_ascii=False))"
   ]
  },
  {
   "cell_type": "markdown",
   "id": "7a04f4b7",
   "metadata": {},
   "source": [
    "## Geographic Locations"
   ]
  },
  {
   "cell_type": "code",
   "execution_count": 112,
   "id": "e5534db7",
   "metadata": {},
   "outputs": [
    {
     "data": {
      "text/plain": [
       "{'黄海': 'The satellite reportedly crashed into the Yellow Sea, which is an important location in the context of this theme as it is where the satellite crashed.',\n",
       " '東倉里': 'This is the location of the West Sea Satellite Launch Site, from where North Korea launched the military reconnaissance satellite.',\n",
       " '白翎島': 'This island is located near the North-South border and is where the South Korean military detected the launch of the North Korean satellite.',\n",
       " '群山市': 'This is the estimated location of the debris from the North Korean satellite that fell into the sea, which is important in the context of this theme as it is where the debris is believed to have fallen.',\n",
       " 'フィリピン・ルソン島': 'This is one of the estimated locations where debris from the North Korean satellite is believed to have fallen.',\n",
       " '日本政府': 'The Japanese government issued navigation warnings for two locations in the Yellow Sea and one location near the east of Luzon Island in the Philippines, which are the estimated locations where debris from the North Korean satellite is believed to have fallen.'}"
      ]
     },
     "execution_count": 112,
     "metadata": {},
     "output_type": "execute_result"
    }
   ],
   "source": [
    "geo_locations = ai.get_geographic_locations(text=content, theme=theme)\n",
    "geo_locations"
   ]
  },
  {
   "cell_type": "code",
   "execution_count": 119,
   "id": "c57cc56a",
   "metadata": {},
   "outputs": [
    {
     "name": "stdout",
     "output_type": "stream",
     "text": [
      "{\n",
      "    \"黄海\": \"The satellite reportedly crashed into the Yellow Sea, which is an important location in the context of this theme as it is where the satellite crashed.\",\n",
      "    \"東倉里\": \"This is the location of the West Sea Satellite Launch Site, from where North Korea launched the military reconnaissance satellite.\",\n",
      "    \"白翎島\": \"This island is located near the North-South border and is where the South Korean military detected the launch of the North Korean satellite.\",\n",
      "    \"群山市\": \"This is the estimated location of the debris from the North Korean satellite that fell into the sea, which is important in the context of this theme as it is where the debris is believed to have fallen.\",\n",
      "    \"フィリピン・ルソン島\": \"This is one of the estimated locations where debris from the North Korean satellite is believed to have fallen.\",\n",
      "    \"日本政府\": \"The Japanese government issued navigation warnings for two locations in the Yellow Sea and one location near the east of Luzon Island in the Philippines, which are the estimated locations where debris from the North Korean satellite is believed to have fallen.\"\n",
      "}\n"
     ]
    }
   ],
   "source": [
    "print(json.dumps(geo_locations, indent=4, ensure_ascii=False))"
   ]
  },
  {
   "cell_type": "code",
   "execution_count": 113,
   "id": "0e3cdb03",
   "metadata": {},
   "outputs": [
    {
     "data": {
      "text/plain": [
       "['黄海', '東倉里', '白翎島', '群山市', 'フィリピン・ルソン島', '日本政府']"
      ]
     },
     "execution_count": 113,
     "metadata": {},
     "output_type": "execute_result"
    }
   ],
   "source": [
    "list(geo_locations.keys())"
   ]
  },
  {
   "cell_type": "code",
   "execution_count": 114,
   "id": "75e69cc2",
   "metadata": {},
   "outputs": [
    {
     "data": {
      "text/plain": [
       "{'黄海': '北朝鮮の軍事偵察衛星が墜落した場所であり、日本政府が航行警報を出している。',\n",
       " 'フィリピン・ルソン島東方': '北朝鮮の軍事偵察衛星が墜落した場所の一つである。',\n",
       " '東倉里': '北朝鮮が宇宙発射体を打ち上げた場所であり、韓国軍が監視していた。',\n",
       " '韓国': '北朝鮮が宇宙発射体を打ち上げた際、韓国軍が監視していた。',\n",
       " '日本政府': '北朝鮮の軍事偵察衛星が墜落した場所に航行警報を出している。',\n",
       " '人工衛星': '軍事偵察衛星は他国の軍事基地の状況や兵器の動きを把握するための人工衛星である。'}"
      ]
     },
     "execution_count": 114,
     "metadata": {},
     "output_type": "execute_result"
    }
   ],
   "source": [
    "geo_locations_from_key_phrases = ai.get_geographic_locations(text=key_lines, theme=theme)\n",
    "geo_locations_from_key_phrases"
   ]
  },
  {
   "cell_type": "markdown",
   "id": "c144ca97",
   "metadata": {},
   "source": [
    "## Distillation"
   ]
  },
  {
   "cell_type": "code",
   "execution_count": 106,
   "id": "e1d7f5a4",
   "metadata": {},
   "outputs": [
    {
     "data": {
      "text/plain": [
       "{'KEYWORD': ['Finland',\n",
       "  'happiest country',\n",
       "  'World Happiness Report',\n",
       "  'Nordic countries',\n",
       "  'sisu',\n",
       "  'COVID-19 pandemic'],\n",
       " 'PERSON': [{'name': 'Melissa Georgio', 'title': 'Australian'},\n",
       "  {'name': 'Frank Martela', 'title': 'happiness expert and researcher'}],\n",
       " 'ORGANIZATION': ['United Nations', 'Ipsos Group'],\n",
       " 'LOCATION': ['Finland',\n",
       "  'Sydney',\n",
       "  'Nordic countries',\n",
       "  'Europe',\n",
       "  'COVID-19 pandemic',\n",
       "  'Asia']}"
      ]
     },
     "execution_count": 106,
     "metadata": {},
     "output_type": "execute_result"
    }
   ],
   "source": [
    "tags = ai.distill(text=content, theme=theme)\n",
    "tags"
   ]
  },
  {
   "cell_type": "code",
   "execution_count": 107,
   "id": "4820483c",
   "metadata": {},
   "outputs": [
    {
     "name": "stdout",
     "output_type": "stream",
     "text": [
      "{\n",
      "    \"KEYWORD\": [\n",
      "        \"Finland\",\n",
      "        \"happiest country\",\n",
      "        \"World Happiness Report\",\n",
      "        \"Nordic countries\",\n",
      "        \"sisu\",\n",
      "        \"COVID-19 pandemic\"\n",
      "    ],\n",
      "    \"PERSON\": [\n",
      "        {\n",
      "            \"name\": \"Melissa Georgio\",\n",
      "            \"title\": \"Australian\"\n",
      "        },\n",
      "        {\n",
      "            \"name\": \"Frank Martela\",\n",
      "            \"title\": \"happiness expert and researcher\"\n",
      "        }\n",
      "    ],\n",
      "    \"ORGANIZATION\": [\n",
      "        \"United Nations\",\n",
      "        \"Ipsos Group\"\n",
      "    ],\n",
      "    \"LOCATION\": [\n",
      "        \"Finland\",\n",
      "        \"Sydney\",\n",
      "        \"Nordic countries\",\n",
      "        \"Europe\",\n",
      "        \"COVID-19 pandemic\",\n",
      "        \"Asia\"\n",
      "    ]\n",
      "}\n"
     ]
    }
   ],
   "source": [
    "print(json.dumps(tags, indent=4, ensure_ascii=False))"
   ]
  },
  {
   "cell_type": "code",
   "execution_count": null,
   "id": "9e5838da",
   "metadata": {},
   "outputs": [],
   "source": []
  }
 ],
 "metadata": {
  "kernelspec": {
   "display_name": "Python 3 (ipykernel)",
   "language": "python",
   "name": "python3"
  },
  "language_info": {
   "codemirror_mode": {
    "name": "ipython",
    "version": 3
   },
   "file_extension": ".py",
   "mimetype": "text/x-python",
   "name": "python",
   "nbconvert_exporter": "python",
   "pygments_lexer": "ipython3",
   "version": "3.9.13"
  }
 },
 "nbformat": 4,
 "nbformat_minor": 5
}
