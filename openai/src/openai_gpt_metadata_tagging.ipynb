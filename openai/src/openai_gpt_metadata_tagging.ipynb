{
 "cells": [
  {
   "cell_type": "markdown",
   "id": "07440233-d15a-45eb-b4ae-8fc63b6e2b38",
   "metadata": {},
   "source": [
    "# PYTHONPATH"
   ]
  },
  {
   "cell_type": "code",
   "execution_count": 1,
   "id": "08a350fa",
   "metadata": {},
   "outputs": [],
   "source": [
    "import os\n",
    "import re\n",
    "import sys\n",
    "import pathlib"
   ]
  },
  {
   "cell_type": "code",
   "execution_count": 2,
   "id": "ba7bbd1b-b2b5-4578-ac7d-ec6cb54b8e44",
   "metadata": {
    "tags": []
   },
   "outputs": [],
   "source": [
    "PATH_TO_LIB: str = str(pathlib.Path(\"../../lib\").resolve())"
   ]
  },
  {
   "cell_type": "code",
   "execution_count": 3,
   "id": "e6b44514-0712-48d5-b6a7-2a99a149c95f",
   "metadata": {
    "tags": []
   },
   "outputs": [],
   "source": [
    "if PATH_TO_LIB not in sys.path:\n",
    "    sys.path.insert(0, PATH_TO_LIB)"
   ]
  },
  {
   "cell_type": "code",
   "execution_count": 4,
   "id": "3304ec6c-c84a-49c5-bcf5-7925398e6400",
   "metadata": {
    "tags": []
   },
   "outputs": [],
   "source": [
    "%load_ext autoreload\n",
    "%autoreload 2\n",
    "from gpt import (\n",
    "    TextTask\n",
    ")"
   ]
  },
  {
   "cell_type": "markdown",
   "id": "98becdfc",
   "metadata": {},
   "source": [
    "# Data"
   ]
  },
  {
   "cell_type": "code",
   "execution_count": 5,
   "id": "b4351da4",
   "metadata": {},
   "outputs": [],
   "source": [
    "article = \"Australian Melissa Georgio moved to Finland over a decade ago to seek happiness in one of the coldest and darkest places on Earth. One of my favorite things about living here is that it's easy to get close to nature whether you're in a residential area or in the middle of the city, Melissa said. Originally a teacher, 12 years ago, she switched from the beaches of Sydney to the dark winters and cold lakes of Finland, and has never looked back since. Melissa said, For Finns, the concept of happiness is very different from the Australian concept of happiness. Finns, she said, are happy to accept portrayals of themselves as melancholy and stubborn — a popular local saying is, People who have happiness must hide it. The first thing I noticed here is that you don't go to dinners or barbecues, and you don't talk about real estate. No one asks you where you live, what suburb do you live in, where your kids go to school. The Finns seem quite happy with the status quo, and they don't always seem to want more. Melissa Georgio's Dark Night in Northern Europe Finland was named the happiest country in the world for the sixth year in a row in the World Happiness Report released by the United Nations. The Nordic countries are often countries with (good) unemployment benefits, pensions, and other benefits, explains happiness expert and researcher Frank Martela (Frank Martela). However, Frank said that Finland's position in the rankings often surprised its own people. Finns, they're almost outraged because they don't think this can be true. We listen to sad music and hard rock. Therefore, happiness is not part of the Finnish self-image. The other side of Finnish melancholy is a cultural focus on perseverance. Frank said it redefines the way Finns view happiness — a concept known as sisu — which is part of Finnish culture and is hard to translate directly, but can be understood as will, determination, perseverance, and reason to face adversity. This, he said, is best reflected in Finns' favorite pastime — getting warm in a sauna after taking a bath in freezing temperatures. It's about this paradox — from one extreme to the other, and it's a pretty fun experience... because you need perseverance. Melissa said, but Finland has many things that are great and can provide happiness for people in this country. Finland is one of the European countries least affected by the COVID-19 pandemic, and experts attribute this to a high level of trust in the government and little resistance to complying with restrictions. Trust in government, on the other hand, stems from a country's investment in its citizens. The public school system rarely tests children and is one of the best in the world. Finland also has a universal health care system with affordable childcare and strong support for parents. Melissa said, The whole country is taking care of the child's development. This system is very well set up. So from having my son to raising him at home, to sending him to daycare, to going to school, I was very well supported in every aspect of this. Finland vs. China, which country has the strongest sense of happiness? Since the publication of the World Happiness Report, the Nordic countries have dominated the top ten. In this year's report, Finland and its neighbors Denmark (2nd), Iceland (3rd), Sweden (6th), and Norway (7th) all scored high on happiness indicators, including healthy life expectancy, per capita GDP, low levels of corruption, social support, freedom, trust, and generosity. Other top ten countries/regions include the Netherlands (5th), Switzerland (8th), Luxembourg (9th), and New Zealand (10th). Australia ranked 12th in this report, followed by Canada (13th), Ireland (14th), and the United States (15th). In Asia, Singapore ranked 25th in the world, up two places from last year, Taiwan dropped one place from last year to 27th, Japan rose to 47th, mainland China ranked 64th, and Hong Kong ranked 82nd. Meanwhile, the polling agency Ipsos Group (Ipsos) released a survey report on the global happiness index. The results showed that out of 32 countries, the country with the highest happiness index was China (91%), followed by Saudi Arabia (86%), the Netherlands (85%), India (84%), and Brazil (83%). Australia ranked 9th in this report. According to the survey report, on average, happiness increased more significantly in middle-income countries (as defined by the World Bank) than in high-income countries.\""
   ]
  },
  {
   "cell_type": "code",
   "execution_count": 19,
   "id": "1ce3c005",
   "metadata": {},
   "outputs": [],
   "source": [
    "article = 'The French government under President Emmanuel Macron on Monday survived two no-confidence motions in parliament, but still faces intense pressure over its handling of a controversial pensions reform. Prime Minister Elisabeth Borne incensed the opposition last week by announcing the government would impose a controversial pension reform without a vote in parliament, sparking accusations of anti-democratic behaviour. Its use of an article in the constitution allowing such a move also gave the opposition the right to call motions of no confidence in the government and two such demands were filed. Advertisement READ MORE Pension reform has been imposed in France without a vote. How did it happen? The 577-seat National Assembly lower rejected a motion brought by the centrist LIOT coalition that is also supported by the left, by a margin of just nine votes, much narrower than expected. It then overwhelmingly rejected a motion brought by the far-right National Rally (RN) with just 94 votes in favour. The rejection of the motions means that the reform to raise the pensions age from 62 to 64 has now been adopted by the legislature. It still needs to be signed into law by Mr Macron and may also face legal challenges. Anthony Albanese to reset relationship with France on upcoming visit 24 Jun 2022, 7:38 pm Anthony Albanese to reset relationship with France on upcoming visit It far from represents the end of the biggest domestic crisis of the second mandate in office of Mr Macron, who has yet to make any public comment on the controversy. We never went so far in building a compromise as we did with this reform, Ms Borne told parliament ahead of the vote, saying her use of the article to bypass a vote was profoundly democratic under France s constitution set up by postwar leader Charles de Gaulle. Garbage piles up in Paris following strikes Garbage cans overflowing with trash on the streets as collectors go on strike in Paris, France. Garbage collectors have joined the massive strikes throughout France against pension reform plans. Source: Getty Anadolu Agency Anadolu Agency via Getty Images Trouble ahead A new round of strikes and protests have been called on Thursday and are expected to again bring public transport to a standstill in several areas. There has been a rolling strike by rubbish collectors in Paris, leading to unsightly and unhygienic piles of trash accumulating in the French capital. The future of Ms Borne, appointed as France s second woman premier by Mr Macron after his election victory over the far right for a second mandate, remains in doubt after she failed to secure a parliamentary majority for the reform. READ MORE France wants to raise its retirement age by two years. Why are thousands protesting? Meanwhile, it remains unclear when Mr Macron will finally make public comments over the events, amid reports he is considering an address to the nation. Since Ms Borne invoked article 49.3 of the constitution, there have also been daily protests in Paris and other cities that have on occasion turned violent. A total of 169 people were arrested nationwide on Saturday during spontaneous protests, including one that assembled 4,000 in the capital. People in the street during clashes and protests in Paris. A demonstrator holds a red flare in the middle of a crowd gathered near a fire as several thousand demonstrators gathered at Place de la Concorde, opposite the National Assembly, in Paris on 16 March, 2023 to protest against pension reform. Source: Getty Samuel Boivin Government insiders and observers have raised fears that France is again heading for another bout of violent anti-government protests, only a few years after the Yellow Vest movement shook the country from 2018-2019. In order to pass, the main multi-party no confidence motion needed support from around half the 61 MPs of the traditional right-wing party The Republicans. Even after its leadership insisted they should reject the motions, 19 renegade Republicans MPs voted in favour. I think it s the only way out. We need to move on to something else, said one of the Republicans who voted for the ousting of the government, Aurelien Pradie. Ejecting PM least risky A survey on Sunday showed the head of state s personal rating at its lowest level since the height of the Yellow Vest crisis in 2019, with only 28 per cent of respondents having a positive view of him. Mr Macron has argued that the pension changes are needed to avoid crippling deficits in the coming decades linked to France s ageing population. Those among us who are able will gradually need to work more to finance our social model, which is one of the most generous in the world, Finance Minister Bruno Le Maire said Sunday. Opponents of the reform say it places an unfair burden on low earners, women and people doing physically wearing jobs. Opinion polls have consistently shown that two thirds of French people oppose the changes. As for Mr Macron s options now, replacing Ms Borne would be the least risky and the most likely to give him new momentum, Bruno Cautres of the Centre for Political Research told AFP. Calling new elections is seen as unlikely. When you re in this much of a cycle of unpopularity and rejection over a major reform, it s basically suicidal to go to the polls, Brice Teinturier, head of the polling firm Ipsos, told AFP. A Harris Interactive survey of over 2,000 people this month suggested that the only winner from a new general election would be the far right, with all other major parties losing ground. '"
   ]
  },
  {
   "cell_type": "code",
   "execution_count": 20,
   "id": "460c21ce",
   "metadata": {},
   "outputs": [
    {
     "data": {
      "text/plain": [
       "'The French government under President Emmanuel Macron on Monday survived two no-confidence motions in parliament, but still faces intense pressure over its handling of a controversial pensions reform. Prime Minister Elisabeth Borne incensed the opposition last week by announcing the government would impose a controversial pension reform without a vote in parliament, sparking accusations of anti-democratic behaviour. Its use of an article in the constitution allowing such a move also gave the opposition the right to call motions of no confidence in the government and two such demands were filed. Advertisement READ MORE Pension reform has been imposed in France without a vote. How did it happen? The 577-seat National Assembly lower rejected a motion brought by the centrist LIOT coalition that is also supported by the left, by a margin of just nine votes, much narrower than expected. It then overwhelmingly rejected a motion brought by the far-right National Rally (RN) with just 94 votes in favour. The rejection of the motions means that the reform to raise the pensions age from 62 to 64 has now been adopted by the legislature. It still needs to be signed into law by Mr Macron and may also face legal challenges. Anthony Albanese to reset relationship with France on upcoming visit 24 Jun 2022, 7:38 pm Anthony Albanese to reset relationship with France on upcoming visit It far from represents the end of the biggest domestic crisis of the second mandate in office of Mr Macron, who has yet to make any public comment on the controversy. We never went so far in building a compromise as we did with this reform, Ms Borne told parliament ahead of the vote, saying her use of the article to bypass a vote was profoundly democratic under France s constitution set up by postwar leader Charles de Gaulle. Garbage piles up in Paris following strikes Garbage cans overflowing with trash on the streets as collectors go on strike in Paris, France. Garbage collectors have joined the massive strikes throughout France against pension reform plans. Source: Getty Anadolu Agency Anadolu Agency via Getty Images Trouble ahead A new round of strikes and protests have been called on Thursday and are expected to again bring public transport to a standstill in several areas. There has been a rolling strike by rubbish collectors in Paris, leading to unsightly and unhygienic piles of trash accumulating in the French capital. The future of Ms Borne, appointed as France s second woman premier by Mr Macron after his election victory over the far right for a second mandate, remains in doubt after she failed to secure a parliamentary majority for the reform. READ MORE France wants to raise its retirement age by two years. Why are thousands protesting? Meanwhile, it remains unclear when Mr Macron will finally make public comments over the events, amid reports he is considering an address to the nation. Since Ms Borne invoked article 49.3 of the constitution, there have also been daily protests in Paris and other cities that have on occasion turned violent. A total of 169 people were arrested nationwide on Saturday during spontaneous protests, including one that assembled 4,000 in the capital. People in the street during clashes and protests in Paris. A demonstrator holds a red flare in the middle of a crowd gathered near a fire as several thousand demonstrators gathered at Place de la Concorde, opposite the National Assembly, in Paris on 16 March, 2023 to protest against pension reform. Source: Getty Samuel Boivin Government insiders and observers have raised fears that France is again heading for another bout of violent anti-government protests, only a few years after the Yellow Vest movement shook the country from 2018-2019. In order to pass, the main multi-party no confidence motion needed support from around half the 61 MPs of the traditional right-wing party The Republicans. Even after its leadership insisted they should reject the motions, 19 renegade Republicans MPs voted in favour. I think it s the only way out. We need to move on to something else, said one of the Republicans who voted for the ousting of the government, Aurelien Pradie. Ejecting PM least risky A survey on Sunday showed the head of state s personal rating at its lowest level since the height of the Yellow Vest crisis in 2019, with only 28 per cent of respondents having a positive view of him. Mr Macron has argued that the pension changes are needed to avoid crippling deficits in the coming decades linked to France s ageing population. Those among us who are able will gradually need to work more to finance our social model, which is one of the most generous in the world, Finance Minister Bruno Le Maire said Sunday. Opponents of the reform say it places an unfair burden on low earners, women and people doing physically wearing jobs. Opinion polls have consistently shown that two thirds of French people oppose the changes. As for Mr Macron s options now, replacing Ms Borne would be the least risky and the most likely to give him new momentum, Bruno Cautres of the Centre for Political Research told AFP. Calling new elections is seen as unlikely. When you re in this much of a cycle of unpopularity and rejection over a major reform, it s basically suicidal to go to the polls, Brice Teinturier, head of the polling firm Ipsos, told AFP. A Harris Interactive survey of over 2,000 people this month suggested that the only winner from a new general election would be the far right, with all other major parties losing ground.'"
      ]
     },
     "execution_count": 20,
     "metadata": {},
     "output_type": "execute_result"
    }
   ],
   "source": [
    "content = re.sub(r'[\\s\\\"—\\n\\t\\\\]+', ' ', article, flags=re.MULTILINE).strip()\n",
    "content"
   ]
  },
  {
   "cell_type": "markdown",
   "id": "3b22401e",
   "metadata": {},
   "source": [
    "# Open AI "
   ]
  },
  {
   "cell_type": "code",
   "execution_count": 8,
   "id": "30d7cd54",
   "metadata": {},
   "outputs": [],
   "source": [
    "ai = TextTask(\n",
    "    path_to_api_key=f\"{os.path.expanduser('~')}/.openai/api_key\"\n",
    ")"
   ]
  },
  {
   "cell_type": "code",
   "execution_count": 9,
   "id": "225d8040",
   "metadata": {},
   "outputs": [
    {
     "data": {
      "text/plain": [
       "['whisper-1',\n",
       " 'babbage',\n",
       " 'davinci',\n",
       " 'text-davinci-edit-001',\n",
       " 'text-davinci-003',\n",
       " 'babbage-code-search-code',\n",
       " 'text-similarity-babbage-001',\n",
       " 'code-davinci-edit-001',\n",
       " 'text-davinci-001',\n",
       " 'ada',\n",
       " 'babbage-code-search-text',\n",
       " 'babbage-similarity',\n",
       " 'code-search-babbage-text-001',\n",
       " 'text-curie-001',\n",
       " 'code-search-babbage-code-001',\n",
       " 'text-ada-001',\n",
       " 'text-embedding-ada-002',\n",
       " 'text-similarity-ada-001',\n",
       " 'curie-instruct-beta',\n",
       " 'ada-code-search-code',\n",
       " 'ada-similarity',\n",
       " 'code-search-ada-text-001',\n",
       " 'text-search-ada-query-001',\n",
       " 'davinci-search-document',\n",
       " 'ada-code-search-text',\n",
       " 'text-search-ada-doc-001',\n",
       " 'davinci-instruct-beta',\n",
       " 'text-similarity-curie-001',\n",
       " 'code-search-ada-code-001',\n",
       " 'ada-search-query',\n",
       " 'text-search-davinci-query-001',\n",
       " 'curie-search-query',\n",
       " 'davinci-search-query',\n",
       " 'babbage-search-document',\n",
       " 'ada-search-document',\n",
       " 'text-search-curie-query-001',\n",
       " 'text-search-babbage-doc-001',\n",
       " 'gpt-3.5-turbo',\n",
       " 'curie-search-document',\n",
       " 'text-search-curie-doc-001',\n",
       " 'babbage-search-query',\n",
       " 'text-babbage-001',\n",
       " 'text-search-davinci-doc-001',\n",
       " 'text-search-babbage-query-001',\n",
       " 'curie-similarity',\n",
       " 'gpt-3.5-turbo-0301',\n",
       " 'curie',\n",
       " 'text-similarity-davinci-001',\n",
       " 'text-davinci-002',\n",
       " 'davinci-similarity',\n",
       " 'cushman:2020-05-03',\n",
       " 'ada:2020-05-03',\n",
       " 'babbage:2020-05-03',\n",
       " 'curie:2020-05-03',\n",
       " 'davinci:2020-05-03',\n",
       " 'if-davinci-v2',\n",
       " 'if-curie-v2',\n",
       " 'if-davinci:3.0.0',\n",
       " 'davinci-if:3.0.0',\n",
       " 'davinci-instruct-beta:2.0.0',\n",
       " 'text-ada:001',\n",
       " 'text-davinci:001',\n",
       " 'text-curie:001',\n",
       " 'text-babbage:001']"
      ]
     },
     "execution_count": 9,
     "metadata": {},
     "output_type": "execute_result"
    }
   ],
   "source": [
    "[\n",
    "    record['id'] for \n",
    "    record in ai.list_models()['data']\n",
    "]"
   ]
  },
  {
   "cell_type": "markdown",
   "id": "c57dad99",
   "metadata": {},
   "source": [
    "# Extractions"
   ]
  },
  {
   "cell_type": "markdown",
   "id": "2a1f74fd",
   "metadata": {},
   "source": [
    "## Theme"
   ]
  },
  {
   "cell_type": "code",
   "execution_count": 21,
   "id": "68a9dc4c",
   "metadata": {},
   "outputs": [
    {
     "name": "stderr",
     "output_type": "stream",
     "text": [
      "function get_chat_completion_by_prompt() failed due to [That model is currently overloaded with other requests. You can retry your request, or contact us through our help center at help.openai.com if the error persists. (Please include the request ID 400c052211c72cf1823f2dc1016c30a1 in your message.)] and retry in 2.1687851335106565 seconds.\n"
     ]
    },
    {
     "data": {
      "text/plain": [
       "'French government survives no-confidence motions, faces pressure over pension reform.'"
      ]
     },
     "execution_count": 21,
     "metadata": {},
     "output_type": "execute_result"
    }
   ],
   "source": [
    "theme = ai.get_theme(text=content)\n",
    "theme"
   ]
  },
  {
   "cell_type": "markdown",
   "id": "c22a94e4",
   "metadata": {},
   "source": [
    "## Summary"
   ]
  },
  {
   "cell_type": "code",
   "execution_count": 22,
   "id": "d31f704f",
   "metadata": {},
   "outputs": [
    {
     "data": {
      "text/plain": [
       "'French government survives no-confidence motions but faces pressure over controversial pension reform, which has sparked protests and strikes.'"
      ]
     },
     "execution_count": 22,
     "metadata": {},
     "output_type": "execute_result"
    }
   ],
   "source": [
    "summary = ai.get_summary(text=content)\n",
    "summary"
   ]
  },
  {
   "cell_type": "markdown",
   "id": "4b6a1818",
   "metadata": {},
   "source": [
    "## Key phrases"
   ]
  },
  {
   "cell_type": "code",
   "execution_count": 23,
   "id": "b29b2ed3",
   "metadata": {},
   "outputs": [
    {
     "data": {
      "text/plain": [
       "{'Survival of French Government': 'The French government under President Emmanuel Macron on Monday survived two no-confidence motions in parliament.',\n",
       " 'Controversial Pension Reform': 'The government would impose a controversial pension reform without a vote in parliament, sparking accusations of anti-democratic behaviour.',\n",
       " 'Rejection of No-Confidence Motions': 'The 577-seat National Assembly lower rejected a motion brought by the centrist LIOT coalition and then overwhelmingly rejected a motion brought by the far-right National Rally (RN).',\n",
       " 'Adoption of Pension Reform': 'The rejection of the motions means that the reform to raise the pensions age from 62 to 64 has now been adopted by the legislature.',\n",
       " 'New Round of Strikes and Protests': 'A new round of strikes and protests have been called on Thursday and are expected to again bring public transport to a standstill in several areas.',\n",
       " 'Future of Prime Minister Elisabeth Borne': 'The future of Ms Borne, appointed as France s second woman premier by Mr Macron after his election victory over the far right for a second mandate, remains in doubt after she failed to secure a parliamentary majority for the reform.',\n",
       " 'Daily Protests and Occasional Violence': 'Since Ms Borne invoked article 49.3 of the constitution, there have also been daily protests in Paris and other cities that have on occasion turned violent.',\n",
       " 'Fears of Violent Anti-Government Protests': 'Government insiders and observers have raised fears that France is again heading for another bout of violent anti-government protests, only a few years after the Yellow Vest movement shook the country from 2018-2019.',\n",
       " 'Low Personal Rating of President Macron': 'A survey on Sunday showed the head of state s personal rating at its lowest level since the height of the Yellow Vest crisis in 2019, with only 28 per cent of respondents having a positive view of him.',\n",
       " 'Opposition to Pension Reform': 'Opponents of the reform say it places an unfair burden on low earners, women and people doing physically wearing jobs. Opinion polls have consistently shown that two thirds of French people oppose the changes.',\n",
       " 'Options for President Macron': 'Replacing Ms Borne would be the least risky and the most likely to give him new momentum, Bruno Cautres of the Centre for Political Research told AFP. Calling new elections is seen as unlikely.'}"
      ]
     },
     "execution_count": 23,
     "metadata": {},
     "output_type": "execute_result"
    }
   ],
   "source": [
    "keys = ai.get_key_events(text=content)\n",
    "keys"
   ]
  },
  {
   "cell_type": "markdown",
   "id": "c85c3255",
   "metadata": {},
   "source": [
    "## Keywords"
   ]
  },
  {
   "cell_type": "code",
   "execution_count": 24,
   "id": "5212f399",
   "metadata": {},
   "outputs": [
    {
     "data": {
      "text/plain": [
       "['French government',\n",
       " 'no-confidence motions',\n",
       " 'pension reform',\n",
       " 'parliament',\n",
       " 'protests',\n",
       " 'Yellow Vest movement']"
      ]
     },
     "execution_count": 24,
     "metadata": {},
     "output_type": "execute_result"
    }
   ],
   "source": [
    "text = \" \".join([\n",
    "    value for key, value in keys.items()\n",
    "])\n",
    "keywords = ai.get_keywords(text=text, theme=theme, top_n=6)\n",
    "keywords"
   ]
  },
  {
   "cell_type": "markdown",
   "id": "1f368c85",
   "metadata": {},
   "source": [
    "## People"
   ]
  },
  {
   "cell_type": "code",
   "execution_count": 25,
   "id": "0e9377b7",
   "metadata": {},
   "outputs": [
    {
     "data": {
      "text/plain": [
       "{'Emmanuel Macron': 'President',\n",
       " 'Elisabeth Borne': 'Prime Minister',\n",
       " 'Anthony Albanese': None,\n",
       " 'Charles de Gaulle': 'Postwar Leader',\n",
       " 'Bruno Le Maire': 'Finance Minister',\n",
       " 'Bruno Cautres': 'Centre for Political Research',\n",
       " 'Brice Teinturier': 'Head of Polling Firm'}"
      ]
     },
     "execution_count": 25,
     "metadata": {},
     "output_type": "execute_result"
    }
   ],
   "source": [
    "people = ai.get_people(text=content)\n",
    "people"
   ]
  },
  {
   "cell_type": "markdown",
   "id": "bbcdbdd0",
   "metadata": {},
   "source": [
    "## Organizations"
   ]
  },
  {
   "cell_type": "code",
   "execution_count": 26,
   "id": "92425fa8",
   "metadata": {},
   "outputs": [
    {
     "data": {
      "text/plain": [
       "{'French government': 'The government under President Emmanuel Macron that survived two no-confidence motions in parliament and is facing pressure over its handling of a controversial pensions reform.',\n",
       " 'National Assembly': 'The lower house of the French parliament that rejected a motion brought by the centrist LIOT coalition and the far-right National Rally (RN) regarding the pension reform.',\n",
       " 'LIOT coalition': 'A centrist coalition that brought a motion of no confidence in the French government regarding the pension reform.',\n",
       " 'National Rally (RN)': 'A far-right political party in France that brought a motion of no confidence in the French government regarding the pension reform.',\n",
       " 'The Republicans': 'A traditional right-wing political party in France that had 19 renegade MPs vote in favor of the no-confidence motions against the government.',\n",
       " 'Centre for Political Research': 'A research center that provides analysis on political issues in France.',\n",
       " 'Ipsos': 'A polling firm that conducted a survey suggesting that a new general election in France would only benefit the far-right party.'}"
      ]
     },
     "execution_count": 26,
     "metadata": {},
     "output_type": "execute_result"
    }
   ],
   "source": [
    "organizations = ai.get_organizations(text=content, theme=theme)\n",
    "organizations"
   ]
  },
  {
   "cell_type": "markdown",
   "id": "7a04f4b7",
   "metadata": {},
   "source": [
    "## Geographic Locations"
   ]
  },
  {
   "cell_type": "code",
   "execution_count": 27,
   "id": "e5534db7",
   "metadata": {},
   "outputs": [
    {
     "data": {
      "text/plain": [
       "{'Paris': 'There have been daily protests in Paris against the controversial pension reform, some of which have turned violent, leading to the arrest of 169 people nationwide on Saturday.',\n",
       " 'National Assembly': 'The 577-seat National Assembly lower rejected a motion brought by the centrist LIOT coalition that is also supported by the left, by a margin of just nine votes, much narrower than expected. It then overwhelmingly rejected a motion brought by the far-right National Rally (RN) with just 94 votes in favour. The rejection of the motions means that the reform to raise the pensions age from 62 to 64 has now been adopted by the legislature.',\n",
       " 'France': 'The French government under President Emmanuel Macron is facing intense pressure over its handling of a controversial pensions reform, which has led to strikes, protests, and two no-confidence motions in parliament.',\n",
       " 'Charles de Gaulle': \"Prime Minister Elisabeth Borne defended her use of an article in the constitution to bypass a vote on the pension reform, saying it was profoundly democratic under France's constitution set up by postwar leader Charles de Gaulle.\",\n",
       " 'Yellow Vest movement': 'Government insiders and observers have raised fears that France is again heading for another bout of violent anti-government protests, only a few years after the Yellow Vest movement shook the country from 2018-2019.',\n",
       " 'The Republicans': 'In order to pass, the main multi-party no confidence motion needed support from around half the 61 MPs of the traditional right-wing party The Republicans. Even after its leadership insisted they should reject the motions, 19 renegade Republicans MPs voted in favour.'}"
      ]
     },
     "execution_count": 27,
     "metadata": {},
     "output_type": "execute_result"
    }
   ],
   "source": [
    "geo_locations = ai.get_geographic_locations(text=content, theme=theme)\n",
    "geo_locations"
   ]
  },
  {
   "cell_type": "code",
   "execution_count": 28,
   "id": "75e69cc2",
   "metadata": {},
   "outputs": [
    {
     "data": {
      "text/plain": [
       "{'Paris': \"Daily protests have been taking place in Paris against the government's anti-democratic behavior and the controversial pension reform.\",\n",
       " 'National Assembly': 'The 577-seat National Assembly lower rejected a motion brought by the centrist LIOT coalition and then overwhelmingly rejected a motion brought by the far-right National Rally (RN), which means that the reform to raise the pensions age from 62 to 64 has now been adopted by the legislature.',\n",
       " 'France': 'The French government under President Emmanuel Macron is facing pressure over the controversial pension reform, which opponents say places an unfair burden on low earners, women, and people doing physically wearing jobs.',\n",
       " 'Yellow Vest movement': 'Government insiders and observers have raised fears that France is again heading for another bout of violent anti-government protests, only a few years after the Yellow Vest movement shook the country from 2018-2019.',\n",
       " 'Bruno Cautres of the Centre for Political Research': 'Replacing Ms Borne would be the least risky and the most likely to give him new momentum, Bruno Cautres of the Centre for Political Research told AFP.',\n",
       " 'LIOT coalition': 'The government survived a no-confidence motion brought by the centrist LIOT coalition in parliament.'}"
      ]
     },
     "execution_count": 28,
     "metadata": {},
     "output_type": "execute_result"
    }
   ],
   "source": [
    "geo_locations_from_key_phrases = ai.get_geographic_locations(text=text, theme=theme)\n",
    "geo_locations_from_key_phrases"
   ]
  },
  {
   "cell_type": "markdown",
   "id": "c144ca97",
   "metadata": {},
   "source": [
    "## Distillation"
   ]
  },
  {
   "cell_type": "code",
   "execution_count": 29,
   "id": "e1d7f5a4",
   "metadata": {},
   "outputs": [
    {
     "name": "stderr",
     "output_type": "stream",
     "text": [
      "function get_chat_completion_by_prompt() failed due to [That model is currently overloaded with other requests. You can retry your request, or contact us through our help center at help.openai.com if the error persists. (Please include the request ID d914dabb05b5a29278f2e7fe66ce0289 in your message.)] and retry in 3.807408310041118 seconds.\n"
     ]
    },
    {
     "data": {
      "text/plain": [
       "{'theme': 'Controversial pension reform in France',\n",
       " 'summary': \"French government survives no-confidence motions over pension reform, but still faces intense pressure. The reform to raise the pensions age from 62 to 64 has now been adopted by the legislature. A new round of strikes and protests have been called. The future of Prime Minister Elisabeth Borne remains in doubt after she failed to secure a parliamentary majority for the reform. President Emmanuel Macron argues that the pension changes are needed to avoid crippling deficits in the coming decades linked to France's ageing population.\",\n",
       " 'keywords': 'French government, no-confidence motions, pension reform, parliament, anti-democratic behaviour, National Assembly, strikes, protests, Elisabeth Borne, Emmanuel Macron, retirement age, Yellow Vest movement, deficits, ageing population',\n",
       " 'phrases': ['French government',\n",
       "  'no-confidence motions',\n",
       "  'pension reform',\n",
       "  'parliament',\n",
       "  'National Assembly',\n",
       "  'Elisabeth Borne',\n",
       "  'Emmanuel Macron',\n",
       "  'retirement age',\n",
       "  'Yellow Vest movement',\n",
       "  'ageing population'],\n",
       " 'people': ['Emmanuel Macron',\n",
       "  'Elisabeth Borne',\n",
       "  'Charles de Gaulle',\n",
       "  'Bruno Le Maire',\n",
       "  'Aurelien Pradie',\n",
       "  'Bruno Cautres',\n",
       "  'Brice Teinturier'],\n",
       " 'locations': ['France', 'Paris']}"
      ]
     },
     "execution_count": 29,
     "metadata": {},
     "output_type": "execute_result"
    }
   ],
   "source": [
    "ai.distill(text=content)"
   ]
  },
  {
   "cell_type": "code",
   "execution_count": null,
   "id": "60d3b45f",
   "metadata": {},
   "outputs": [],
   "source": []
  }
 ],
 "metadata": {
  "kernelspec": {
   "display_name": "Python 3 (ipykernel)",
   "language": "python",
   "name": "python3"
  },
  "language_info": {
   "codemirror_mode": {
    "name": "ipython",
    "version": 3
   },
   "file_extension": ".py",
   "mimetype": "text/x-python",
   "name": "python",
   "nbconvert_exporter": "python",
   "pygments_lexer": "ipython3",
   "version": "3.9.13"
  }
 },
 "nbformat": 4,
 "nbformat_minor": 5
}
