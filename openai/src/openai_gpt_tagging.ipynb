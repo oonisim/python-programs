{
 "cells": [
  {
   "cell_type": "markdown",
   "id": "07440233-d15a-45eb-b4ae-8fc63b6e2b38",
   "metadata": {},
   "source": [
    "# PYTHONPATH"
   ]
  },
  {
   "cell_type": "code",
   "execution_count": 15,
   "id": "08a350fa",
   "metadata": {},
   "outputs": [],
   "source": [
    "import json\n",
    "import os\n",
    "import re\n",
    "import sys\n",
    "import pathlib"
   ]
  },
  {
   "cell_type": "code",
   "execution_count": 2,
   "id": "ba7bbd1b-b2b5-4578-ac7d-ec6cb54b8e44",
   "metadata": {
    "tags": []
   },
   "outputs": [],
   "source": [
    "PATH_TO_LIB: str = str(pathlib.Path(\"../../lib\").resolve())"
   ]
  },
  {
   "cell_type": "code",
   "execution_count": 3,
   "id": "e6b44514-0712-48d5-b6a7-2a99a149c95f",
   "metadata": {
    "tags": []
   },
   "outputs": [],
   "source": [
    "if PATH_TO_LIB not in sys.path:\n",
    "    sys.path.insert(0, PATH_TO_LIB)"
   ]
  },
  {
   "cell_type": "code",
   "execution_count": 5,
   "id": "3304ec6c-c84a-49c5-bcf5-7925398e6400",
   "metadata": {
    "tags": []
   },
   "outputs": [
    {
     "name": "stdout",
     "output_type": "stream",
     "text": [
      "The autoreload extension is already loaded. To reload it, use:\n",
      "  %reload_ext autoreload\n"
     ]
    }
   ],
   "source": [
    "%load_ext autoreload\n",
    "%autoreload 2\n",
    "from gpt import (\n",
    "    ChatTask\n",
    ")"
   ]
  },
  {
   "cell_type": "markdown",
   "id": "98becdfc",
   "metadata": {},
   "source": [
    "# Data"
   ]
  },
  {
   "cell_type": "code",
   "execution_count": 56,
   "id": "b4351da4",
   "metadata": {},
   "outputs": [],
   "source": [
    "article = \"Australian Melissa Georgio moved to Finland over a decade ago to seek happiness in one of the coldest and darkest places on Earth. One of my favorite things about living here is that it's easy to get close to nature whether you're in a residential area or in the middle of the city, Melissa said. Originally a teacher, 12 years ago, she switched from the beaches of Sydney to the dark winters and cold lakes of Finland, and has never looked back since. Melissa said, For Finns, the concept of happiness is very different from the Australian concept of happiness. Finns, she said, are happy to accept portrayals of themselves as melancholy and stubborn — a popular local saying is, People who have happiness must hide it. The first thing I noticed here is that you don't go to dinners or barbecues, and you don't talk about real estate. No one asks you where you live, what suburb do you live in, where your kids go to school. The Finns seem quite happy with the status quo, and they don't always seem to want more. Melissa Georgio's Dark Night in Northern Europe Finland was named the happiest country in the world for the sixth year in a row in the World Happiness Report released by the United Nations. The Nordic countries are often countries with (good) unemployment benefits, pensions, and other benefits, explains happiness expert and researcher Frank Martela (Frank Martela). However, Frank said that Finland's position in the rankings often surprised its own people. Finns, they're almost outraged because they don't think this can be true. We listen to sad music and hard rock. Therefore, happiness is not part of the Finnish self-image. The other side of Finnish melancholy is a cultural focus on perseverance. Frank said it redefines the way Finns view happiness — a concept known as sisu — which is part of Finnish culture and is hard to translate directly, but can be understood as will, determination, perseverance, and reason to face adversity. This, he said, is best reflected in Finns' favorite pastime — getting warm in a sauna after taking a bath in freezing temperatures. It's about this paradox — from one extreme to the other, and it's a pretty fun experience... because you need perseverance. Melissa said, but Finland has many things that are great and can provide happiness for people in this country. Finland is one of the European countries least affected by the COVID-19 pandemic, and experts attribute this to a high level of trust in the government and little resistance to complying with restrictions. Trust in government, on the other hand, stems from a country's investment in its citizens. The public school system rarely tests children and is one of the best in the world. Finland also has a universal health care system with affordable childcare and strong support for parents. Melissa said, The whole country is taking care of the child's development. This system is very well set up. So from having my son to raising him at home, to sending him to daycare, to going to school, I was very well supported in every aspect of this. Finland vs. China, which country has the strongest sense of happiness? Since the publication of the World Happiness Report, the Nordic countries have dominated the top ten. In this year's report, Finland and its neighbors Denmark (2nd), Iceland (3rd), Sweden (6th), and Norway (7th) all scored high on happiness indicators, including healthy life expectancy, per capita GDP, low levels of corruption, social support, freedom, trust, and generosity. Other top ten countries/regions include the Netherlands (5th), Switzerland (8th), Luxembourg (9th), and New Zealand (10th). Australia ranked 12th in this report, followed by Canada (13th), Ireland (14th), and the United States (15th). In Asia, Singapore ranked 25th in the world, up two places from last year, Taiwan dropped one place from last year to 27th, Japan rose to 47th, mainland China ranked 64th, and Hong Kong ranked 82nd. Meanwhile, the polling agency Ipsos Group (Ipsos) released a survey report on the global happiness index. The results showed that out of 32 countries, the country with the highest happiness index was China (91%), followed by Saudi Arabia (86%), the Netherlands (85%), India (84%), and Brazil (83%). Australia ranked 9th in this report. According to the survey report, on average, happiness increased more significantly in middle-income countries (as defined by the World Bank) than in high-income countries.\""
   ]
  },
  {
   "cell_type": "code",
   "execution_count": 7,
   "id": "1ce3c005",
   "metadata": {},
   "outputs": [],
   "source": [
    "article = 'The French government under President Emmanuel Macron on Monday survived two no-confidence motions in parliament, but still faces intense pressure over its handling of a controversial pensions reform. Prime Minister Elisabeth Borne incensed the opposition last week by announcing the government would impose a controversial pension reform without a vote in parliament, sparking accusations of anti-democratic behaviour. Its use of an article in the constitution allowing such a move also gave the opposition the right to call motions of no confidence in the government and two such demands were filed. Advertisement READ MORE Pension reform has been imposed in France without a vote. How did it happen? The 577-seat National Assembly lower rejected a motion brought by the centrist LIOT coalition that is also supported by the left, by a margin of just nine votes, much narrower than expected. It then overwhelmingly rejected a motion brought by the far-right National Rally (RN) with just 94 votes in favour. The rejection of the motions means that the reform to raise the pensions age from 62 to 64 has now been adopted by the legislature. It still needs to be signed into law by Mr Macron and may also face legal challenges. Anthony Albanese to reset relationship with France on upcoming visit 24 Jun 2022, 7:38 pm Anthony Albanese to reset relationship with France on upcoming visit It far from represents the end of the biggest domestic crisis of the second mandate in office of Mr Macron, who has yet to make any public comment on the controversy. We never went so far in building a compromise as we did with this reform, Ms Borne told parliament ahead of the vote, saying her use of the article to bypass a vote was profoundly democratic under France s constitution set up by postwar leader Charles de Gaulle. Garbage piles up in Paris following strikes Garbage cans overflowing with trash on the streets as collectors go on strike in Paris, France. Garbage collectors have joined the massive strikes throughout France against pension reform plans. Source: Getty Anadolu Agency Anadolu Agency via Getty Images Trouble ahead A new round of strikes and protests have been called on Thursday and are expected to again bring public transport to a standstill in several areas. There has been a rolling strike by rubbish collectors in Paris, leading to unsightly and unhygienic piles of trash accumulating in the French capital. The future of Ms Borne, appointed as France s second woman premier by Mr Macron after his election victory over the far right for a second mandate, remains in doubt after she failed to secure a parliamentary majority for the reform. READ MORE France wants to raise its retirement age by two years. Why are thousands protesting? Meanwhile, it remains unclear when Mr Macron will finally make public comments over the events, amid reports he is considering an address to the nation. Since Ms Borne invoked article 49.3 of the constitution, there have also been daily protests in Paris and other cities that have on occasion turned violent. A total of 169 people were arrested nationwide on Saturday during spontaneous protests, including one that assembled 4,000 in the capital. People in the street during clashes and protests in Paris. A demonstrator holds a red flare in the middle of a crowd gathered near a fire as several thousand demonstrators gathered at Place de la Concorde, opposite the National Assembly, in Paris on 16 March, 2023 to protest against pension reform. Source: Getty Samuel Boivin Government insiders and observers have raised fears that France is again heading for another bout of violent anti-government protests, only a few years after the Yellow Vest movement shook the country from 2018-2019. In order to pass, the main multi-party no confidence motion needed support from around half the 61 MPs of the traditional right-wing party The Republicans. Even after its leadership insisted they should reject the motions, 19 renegade Republicans MPs voted in favour. I think it s the only way out. We need to move on to something else, said one of the Republicans who voted for the ousting of the government, Aurelien Pradie. Ejecting PM least risky A survey on Sunday showed the head of state s personal rating at its lowest level since the height of the Yellow Vest crisis in 2019, with only 28 per cent of respondents having a positive view of him. Mr Macron has argued that the pension changes are needed to avoid crippling deficits in the coming decades linked to France s ageing population. Those among us who are able will gradually need to work more to finance our social model, which is one of the most generous in the world, Finance Minister Bruno Le Maire said Sunday. Opponents of the reform say it places an unfair burden on low earners, women and people doing physically wearing jobs. Opinion polls have consistently shown that two thirds of French people oppose the changes. As for Mr Macron s options now, replacing Ms Borne would be the least risky and the most likely to give him new momentum, Bruno Cautres of the Centre for Political Research told AFP. Calling new elections is seen as unlikely. When you re in this much of a cycle of unpopularity and rejection over a major reform, it s basically suicidal to go to the polls, Brice Teinturier, head of the polling firm Ipsos, told AFP. A Harris Interactive survey of over 2,000 people this month suggested that the only winner from a new general election would be the far right, with all other major parties losing ground. '"
   ]
  },
  {
   "cell_type": "code",
   "execution_count": 88,
   "id": "27a5731b",
   "metadata": {},
   "outputs": [],
   "source": [
    "theme = 'North Korea says spy satellite launch crashed into sea'\n",
    "article = re.sub(r'[\\s]+', ' ', \"\"\"\n",
    "North Korea has said an accident occurred as it planned to send up its first space satellite, causing it to crash into the sea.\n",
    "\n",
    "The rocket launch prompted Japan to warn residents in Okinawa but it later reported there was no danger of its territory being hit.\n",
    "\n",
    "North Korea announced earlier it planned to launch a satellite by 11 June to monitor US military activities.\n",
    "\n",
    "It now says it will attempt a second launch as soon as possible.\n",
    "\n",
    "Japanese Prime Minister Fumio Kishida said North Korea appeared to have fired a ballistic missile and that the government was analysing the details.\n",
    "\n",
    "He added that there were currently no reports of damage following the launch. Japan said previously it was ready to shoot down anything that threatened its territory.\n",
    "\n",
    "There was chaos and confusion in Seoul, the South Korean capital, on Wednesday morning local time, as people awoke to the sound of an air raid siren and an emergency message telling them to prepare for an evacuation - only to be told 20 minutes later it had been sent in error.\n",
    "\n",
    "The stakes are high on the Korean Peninsula, where tensions have existed between the two countries for 70 years, and this false alarm could seriously damage people's trust in the alert system.\n",
    "\n",
    "North Korea poses a threat to South Korea, and if there is an alert in the future one question being asked is whether it will be taken seriously, or brushed off as another mistake.\n",
    "\n",
    "South Korea's military said the projectile might have broken up in mid-air or crashed after it vanished from radar early, adding that analysis was being conducted, Yonhap news agency reports.\n",
    "\n",
    "On Tuesday, Ri Pyong Chol, vice chairman of North Korea's ruling party's central military commission, announced the launch plan, saying it was in response to \"reckless military acts\" by the US and South Korea.\n",
    "\n",
    "He accused the countries of \"openly revealing their reckless ambition for aggression\".\n",
    "\n",
    "Before Wednesday's launch, the US state department said any North Korean launch that used ballistic missile technology would violate multiple UN Security Council resolutions.\n",
    "\n",
    "South Korea's foreign ministry also condemned the launch plan earlier this week, calling it a \"serious violation\" of security council resolutions \"banning all launches using ballistic missile technology\".\n",
    "\n",
    "\"If North Korea eventually goes ahead with the launch, it will have to bear the price and pain it deserves,\" it said.\n",
    "\n",
    "North Korean leader Kim Jong-un has identified the development of military satellites as a key component of his country's defence.\n",
    "\n",
    "Leif-Eric Easley, a professor at Ewha University in Seoul, said the North Korean government \"likely sees itself in a space race\", and that whether or not its current satellite mission is a success it \"can be expected to issue political propaganda about its space capabilities\".\"\"\")"
   ]
  },
  {
   "cell_type": "code",
   "execution_count": 85,
   "id": "460c21ce",
   "metadata": {},
   "outputs": [
    {
     "data": {
      "text/plain": [
       "\"North Korea has said an accident occurred as it planned to send up its first space satellite, causing it to crash into the sea. The rocket launch prompted Japan to warn residents in Okinawa but it later reported there was no danger of its territory being hit. North Korea announced earlier it planned to launch a satellite by 11 June to monitor US military activities. It now says it will attempt a second launch as soon as possible. Japanese Prime Minister Fumio Kishida said North Korea appeared to have fired a ballistic missile and that the government was analysing the details. He added that there were currently no reports of damage following the launch. Japan said previously it was ready to shoot down anything that threatened its territory. There was chaos and confusion in Seoul, the South Korean capital, on Wednesday morning local time, as people awoke to the sound of an air raid siren and an emergency message telling them to prepare for an evacuation - only to be told 20 minutes later it had been sent in error. The stakes are high on the Korean Peninsula, where tensions have existed between the two countries for 70 years, and this false alarm could seriously damage people's trust in the alert system. North Korea poses a threat to South Korea, and if there is an alert in the future one question being asked is whether it will be taken seriously, or brushed off as another mistake. South Korea's military said the projectile might have broken up in mid-air or crashed after it vanished from radar early, adding that analysis was being conducted, Yonhap news agency reports. On Tuesday, Ri Pyong Chol, vice chairman of North Korea's ruling party's central military commission, announced the launch plan, saying it was in response to reckless military acts by the US and South Korea. He accused the countries of openly revealing their reckless ambition for aggression . Before Wednesday's launch, the US state department said any North Korean launch that used ballistic missile technology would violate multiple UN Security Council resolutions. South Korea's foreign ministry also condemned the launch plan earlier this week, calling it a serious violation of security council resolutions banning all launches using ballistic missile technology . If North Korea eventually goes ahead with the launch, it will have to bear the price and pain it deserves, it said. North Korean leader Kim Jong-un has identified the development of military satellites as a key component of his country's defence. Leif-Eric Easley, a professor at Ewha University in Seoul, said the North Korean government likely sees itself in a space race , and that whether or not its current satellite mission is a success it can be expected to issue political propaganda about its space capabilities .\""
      ]
     },
     "execution_count": 85,
     "metadata": {},
     "output_type": "execute_result"
    }
   ],
   "source": [
    "content = re.sub(r'[\\s\\\"—\\n\\t\\\\]+', ' ', article, flags=re.MULTILINE).strip()\n",
    "content"
   ]
  },
  {
   "cell_type": "code",
   "execution_count": null,
   "id": "8598f390",
   "metadata": {},
   "outputs": [],
   "source": []
  },
  {
   "cell_type": "code",
   "execution_count": 9,
   "id": "d8757e4b",
   "metadata": {},
   "outputs": [],
   "source": [
    "# content = \"Finland over a decade ago to seek happiness in one of the coldest and darkest places on Earth.\""
   ]
  },
  {
   "cell_type": "markdown",
   "id": "3b22401e",
   "metadata": {},
   "source": [
    "# Open AI "
   ]
  },
  {
   "cell_type": "code",
   "execution_count": 10,
   "id": "30d7cd54",
   "metadata": {},
   "outputs": [],
   "source": [
    "ai = ChatTask(\n",
    "    path_to_api_key=f\"{os.path.expanduser('~')}/.openai/api_key\"\n",
    ")"
   ]
  },
  {
   "cell_type": "code",
   "execution_count": 11,
   "id": "225d8040",
   "metadata": {},
   "outputs": [
    {
     "data": {
      "text/plain": [
       "['whisper-1',\n",
       " 'babbage',\n",
       " 'davinci',\n",
       " 'text-davinci-edit-001',\n",
       " 'babbage-code-search-code',\n",
       " 'text-similarity-babbage-001',\n",
       " 'code-davinci-edit-001',\n",
       " 'text-davinci-001',\n",
       " 'ada',\n",
       " 'babbage-code-search-text',\n",
       " 'babbage-similarity',\n",
       " 'code-search-babbage-text-001',\n",
       " 'text-curie-001',\n",
       " 'code-search-babbage-code-001',\n",
       " 'text-ada-001',\n",
       " 'text-embedding-ada-002',\n",
       " 'text-similarity-ada-001',\n",
       " 'curie-instruct-beta',\n",
       " 'ada-code-search-code',\n",
       " 'ada-similarity',\n",
       " 'code-search-ada-text-001',\n",
       " 'text-search-ada-query-001',\n",
       " 'davinci-search-document',\n",
       " 'ada-code-search-text',\n",
       " 'text-search-ada-doc-001',\n",
       " 'davinci-instruct-beta',\n",
       " 'text-similarity-curie-001',\n",
       " 'code-search-ada-code-001',\n",
       " 'ada-search-query',\n",
       " 'text-search-davinci-query-001',\n",
       " 'curie-search-query',\n",
       " 'davinci-search-query',\n",
       " 'babbage-search-document',\n",
       " 'ada-search-document',\n",
       " 'text-search-curie-query-001',\n",
       " 'text-search-babbage-doc-001',\n",
       " 'gpt-3.5-turbo',\n",
       " 'curie-search-document',\n",
       " 'text-search-curie-doc-001',\n",
       " 'babbage-search-query',\n",
       " 'text-babbage-001',\n",
       " 'text-search-davinci-doc-001',\n",
       " 'text-search-babbage-query-001',\n",
       " 'curie-similarity',\n",
       " 'gpt-3.5-turbo-0301',\n",
       " 'text-davinci-003',\n",
       " 'curie',\n",
       " 'text-similarity-davinci-001',\n",
       " 'text-davinci-002',\n",
       " 'davinci-similarity',\n",
       " 'cushman:2020-05-03',\n",
       " 'ada:2020-05-03',\n",
       " 'babbage:2020-05-03',\n",
       " 'curie:2020-05-03',\n",
       " 'davinci:2020-05-03',\n",
       " 'if-davinci-v2',\n",
       " 'if-curie-v2',\n",
       " 'if-davinci:3.0.0',\n",
       " 'davinci-if:3.0.0',\n",
       " 'davinci-instruct-beta:2.0.0',\n",
       " 'text-ada:001',\n",
       " 'text-davinci:001',\n",
       " 'text-curie:001',\n",
       " 'text-babbage:001']"
      ]
     },
     "execution_count": 11,
     "metadata": {},
     "output_type": "execute_result"
    }
   ],
   "source": [
    "[\n",
    "    record['id'] for \n",
    "    record in ai.list_models()['data']\n",
    "]"
   ]
  },
  {
   "cell_type": "markdown",
   "id": "c57dad99",
   "metadata": {},
   "source": [
    "# Extractions"
   ]
  },
  {
   "cell_type": "markdown",
   "id": "2a1f74fd",
   "metadata": {},
   "source": [
    "## Theme"
   ]
  },
  {
   "cell_type": "code",
   "execution_count": 101,
   "id": "68a9dc4c",
   "metadata": {},
   "outputs": [
    {
     "data": {
      "text/plain": [
       "\"North Korea's rocket launch fails, causing alarm and confusion.\""
      ]
     },
     "execution_count": 101,
     "metadata": {},
     "output_type": "execute_result"
    }
   ],
   "source": [
    "theme = ai.get_theme(text=content)\n",
    "theme"
   ]
  },
  {
   "cell_type": "markdown",
   "id": "c22a94e4",
   "metadata": {},
   "source": [
    "## Summary"
   ]
  },
  {
   "cell_type": "code",
   "execution_count": 59,
   "id": "d31f704f",
   "metadata": {},
   "outputs": [
    {
     "data": {
      "text/plain": [
       "'Australian Melissa Georgio found happiness in Finland, a country known for its melancholy and perseverance, with a strong focus on trust in government and investment in citizens.'"
      ]
     },
     "execution_count": 59,
     "metadata": {},
     "output_type": "execute_result"
    }
   ],
   "source": [
    "summary = ai.get_summary(text=content)\n",
    "summary"
   ]
  },
  {
   "cell_type": "markdown",
   "id": "4b6a1818",
   "metadata": {},
   "source": [
    "## Key Events"
   ]
  },
  {
   "cell_type": "code",
   "execution_count": 89,
   "id": "b29b2ed3",
   "metadata": {},
   "outputs": [
    {
     "data": {
      "text/plain": [
       "{'accident during space satellite launch': 'North Korea announced an accident occurred during its first space satellite launch, causing it to crash into the sea.',\n",
       " 'Japan warns residents of rocket launch': \"Japan warned residents in Okinawa of North Korea's rocket launch, but later reported no danger of its territory being hit.\",\n",
       " 'North Korea plans second launch': 'North Korea announced plans for a second space satellite launch as soon as possible.',\n",
       " 'Japan analyzes details of launch': 'Japanese Prime Minister Fumio Kishida said North Korea appeared to have fired a ballistic missile and that the government was analyzing the details.',\n",
       " 'False alarm in Seoul': 'There was chaos and confusion in Seoul as people were told to prepare for an evacuation due to an air raid siren and emergency message, only to be told 20 minutes later it was sent in error.',\n",
       " 'Projectile may have broken up or crashed': \"South Korea's military said the projectile might have broken up in mid-air or crashed after it vanished from radar early.\",\n",
       " 'North Korea launches in response to US and South Korea': \"North Korea's vice chairman announced the launch plan in response to what he called reckless military acts by the US and South Korea.\",\n",
       " 'Violation of UN Security Council resolutions': \"The US state department and South Korea's foreign ministry condemned the launch plan as a violation of UN Security Council resolutions.\",\n",
       " 'North Korea sees itself in a space race': 'A professor at Ewha University in Seoul said North Korea likely sees itself in a space race and will issue political propaganda about its space capabilities.'}"
      ]
     },
     "execution_count": 89,
     "metadata": {},
     "output_type": "execute_result"
    }
   ],
   "source": [
    "keys = ai.get_key_events(text=content)\n",
    "keys"
   ]
  },
  {
   "cell_type": "markdown",
   "id": "6ab6abab",
   "metadata": {},
   "source": [
    "## Key Lines"
   ]
  },
  {
   "cell_type": "code",
   "execution_count": 90,
   "id": "abc39352",
   "metadata": {},
   "outputs": [
    {
     "data": {
      "text/plain": [
       "\"North Korea announced an accident occurred during its first space satellite launch, causing it to crash into the sea. Japan warned residents in Okinawa of North Korea's rocket launch, but later reported no danger of its territory being hit. North Korea announced plans for a second space satellite launch as soon as possible. Japanese Prime Minister Fumio Kishida said North Korea appeared to have fired a ballistic missile and that the government was analyzing the details. There was chaos and confusion in Seoul as people were told to prepare for an evacuation due to an air raid siren and emergency message, only to be told 20 minutes later it was sent in error. South Korea's military said the projectile might have broken up in mid-air or crashed after it vanished from radar early. North Korea's vice chairman announced the launch plan in response to what he called reckless military acts by the US and South Korea. The US state department and South Korea's foreign ministry condemned the launch plan as a violation of UN Security Council resolutions. A professor at Ewha University in Seoul said North Korea likely sees itself in a space race and will issue political propaganda about its space capabilities.\""
      ]
     },
     "execution_count": 90,
     "metadata": {},
     "output_type": "execute_result"
    }
   ],
   "source": [
    "key_lines = \" \".join([\n",
    "    value for key, value in keys.items()\n",
    "])\n",
    "key_lines"
   ]
  },
  {
   "cell_type": "markdown",
   "id": "c85c3255",
   "metadata": {},
   "source": [
    "## Keywords"
   ]
  },
  {
   "cell_type": "code",
   "execution_count": 91,
   "id": "5212f399",
   "metadata": {},
   "outputs": [
    {
     "data": {
      "text/plain": [
       "['North Korea',\n",
       " 'satellite launch',\n",
       " 'accident',\n",
       " 'crash',\n",
       " 'rocket launch',\n",
       " 'ballistic missile']"
      ]
     },
     "execution_count": 91,
     "metadata": {},
     "output_type": "execute_result"
    }
   ],
   "source": [
    "keywords = ai.get_keywords(text=key_lines, theme=theme, top_n=6)\n",
    "keywords"
   ]
  },
  {
   "cell_type": "markdown",
   "id": "1f368c85",
   "metadata": {},
   "source": [
    "## People"
   ]
  },
  {
   "cell_type": "code",
   "execution_count": 92,
   "id": "0e9377b7",
   "metadata": {},
   "outputs": [
    {
     "data": {
      "text/plain": [
       "{'Fumio Kishida': 'Japanese Prime Minister',\n",
       " 'Ri Pyong Chol': \"Vice Chairman of North Korea's ruling party's central military commission\",\n",
       " 'Kim Jong-un': 'North Korean leader',\n",
       " 'Leif-Eric Easley': 'Professor at Ewha University in Seoul'}"
      ]
     },
     "execution_count": 92,
     "metadata": {},
     "output_type": "execute_result"
    }
   ],
   "source": [
    "people = ai.get_people(text=content)\n",
    "people"
   ]
  },
  {
   "cell_type": "markdown",
   "id": "bbcdbdd0",
   "metadata": {},
   "source": [
    "## Organizations"
   ]
  },
  {
   "cell_type": "code",
   "execution_count": 93,
   "id": "92425fa8",
   "metadata": {},
   "outputs": [
    {
     "data": {
      "text/plain": [
       "{'organizations': [{'name': 'North Korea',\n",
       "   'description': 'Country that planned to launch a satellite, but it crashed into the sea'},\n",
       "  {'name': 'Japan',\n",
       "   'description': 'Country that warned residents in Okinawa about the rocket launch'},\n",
       "  {'name': 'US',\n",
       "   'description': 'Country whose military activities North Korea planned to monitor with the satellite'},\n",
       "  {'name': 'South Korea',\n",
       "   'description': 'Country that North Korea poses a threat to'},\n",
       "  {'name': 'UN Security Council',\n",
       "   'description': 'Organization that has resolutions banning all launches using ballistic missile technology'}]}"
      ]
     },
     "execution_count": 93,
     "metadata": {},
     "output_type": "execute_result"
    }
   ],
   "source": [
    "organizations = ai.get_organizations(text=content, theme=theme)\n",
    "organizations"
   ]
  },
  {
   "cell_type": "code",
   "execution_count": 94,
   "id": "2385de8a",
   "metadata": {},
   "outputs": [
    {
     "name": "stdout",
     "output_type": "stream",
     "text": [
      "{\n",
      "    \"organizations\": [\n",
      "        {\n",
      "            \"name\": \"North Korea\",\n",
      "            \"description\": \"Country that planned to launch a satellite, but it crashed into the sea\"\n",
      "        },\n",
      "        {\n",
      "            \"name\": \"Japan\",\n",
      "            \"description\": \"Country that warned residents in Okinawa about the rocket launch\"\n",
      "        },\n",
      "        {\n",
      "            \"name\": \"US\",\n",
      "            \"description\": \"Country whose military activities North Korea planned to monitor with the satellite\"\n",
      "        },\n",
      "        {\n",
      "            \"name\": \"South Korea\",\n",
      "            \"description\": \"Country that North Korea poses a threat to\"\n",
      "        },\n",
      "        {\n",
      "            \"name\": \"UN Security Council\",\n",
      "            \"description\": \"Organization that has resolutions banning all launches using ballistic missile technology\"\n",
      "        }\n",
      "    ]\n",
      "}\n"
     ]
    }
   ],
   "source": [
    "print(json.dumps(organizations, indent=4))"
   ]
  },
  {
   "cell_type": "markdown",
   "id": "7a04f4b7",
   "metadata": {},
   "source": [
    "## Geographic Locations"
   ]
  },
  {
   "cell_type": "code",
   "execution_count": 95,
   "id": "e5534db7",
   "metadata": {},
   "outputs": [
    {
     "data": {
      "text/plain": [
       "{'Okinawa': 'Japan warned residents in Okinawa due to the rocket launch, but later reported there was no danger of its territory being hit.',\n",
       " 'Seoul': 'There was chaos and confusion in Seoul, the South Korean capital, on Wednesday morning local time, as people awoke to the sound of an air raid siren and an emergency message telling them to prepare for an evacuation - only to be told 20 minutes later it had been sent in error.',\n",
       " 'Korean Peninsula': 'The stakes are high on the Korean Peninsula, where tensions have existed between the two countries for 70 years.',\n",
       " 'South Korea': 'North Korea poses a threat to South Korea, and if there is an alert in the future one question being asked is whether it will be taken seriously, or brushed off as another mistake.',\n",
       " 'Yonhap news agency': \"South Korea's military said the projectile might have broken up in mid-air or crashed after it vanished from radar early, adding that analysis was being conducted, Yonhap news agency reports.\",\n",
       " 'UN Security Council': \"Before Wednesday's launch, the US state department said any North Korean launch that used ballistic missile technology would violate multiple UN Security Council resolutions. South Korea's foreign ministry also condemned the launch plan earlier this week, calling it a serious violation of security council resolutions banning all launches using ballistic missile technology.\"}"
      ]
     },
     "execution_count": 95,
     "metadata": {},
     "output_type": "execute_result"
    }
   ],
   "source": [
    "geo_locations = ai.get_geographic_locations(text=content, theme=theme)\n",
    "geo_locations"
   ]
  },
  {
   "cell_type": "code",
   "execution_count": 96,
   "id": "29725830",
   "metadata": {},
   "outputs": [
    {
     "data": {
      "text/plain": [
       "['Okinawa',\n",
       " 'Seoul',\n",
       " 'Korean Peninsula',\n",
       " 'South Korea',\n",
       " 'Yonhap news agency',\n",
       " 'UN Security Council']"
      ]
     },
     "execution_count": 96,
     "metadata": {},
     "output_type": "execute_result"
    }
   ],
   "source": [
    "list(geo_locations.keys())"
   ]
  },
  {
   "cell_type": "code",
   "execution_count": 100,
   "id": "75e69cc2",
   "metadata": {},
   "outputs": [
    {
     "data": {
      "text/plain": [
       "{'Okinawa, Japan': \"Japan warned residents in Okinawa of North Korea's rocket launch, but later reported no danger of its territory being hit.\",\n",
       " 'Seoul, South Korea': 'There was chaos and confusion in Seoul as people were told to prepare for an evacuation due to an air raid siren and emergency message, only to be told 20 minutes later it was sent in error.',\n",
       " 'US': 'The US state department condemned the launch plan as a violation of UN Security Council resolutions.',\n",
       " 'South Korea': \"South Korea's military said the projectile might have broken up in mid-air or crashed after it vanished from radar early. South Korea's foreign ministry condemned the launch plan as a violation of UN Security Council resolutions.\",\n",
       " 'North Korea': \"North Korea announced an accident occurred during its first space satellite launch, causing it to crash into the sea. North Korea announced plans for a second space satellite launch as soon as possible. North Korea's vice chairman announced the launch plan in response to what he called reckless military acts by the US and South Korea. A professor at Ewha University in Seoul said North Korea likely sees itself in a space race and will issue political propaganda about its space capabilities.\"}"
      ]
     },
     "execution_count": 100,
     "metadata": {},
     "output_type": "execute_result"
    }
   ],
   "source": [
    "geo_locations_from_key_phrases = ai.get_geographic_locations(text=key_lines, theme=theme)\n",
    "geo_locations_from_key_phrases"
   ]
  },
  {
   "cell_type": "markdown",
   "id": "c144ca97",
   "metadata": {},
   "source": [
    "## Distillation"
   ]
  },
  {
   "cell_type": "code",
   "execution_count": 98,
   "id": "e1d7f5a4",
   "metadata": {},
   "outputs": [
    {
     "data": {
      "text/plain": [
       "{'keywords': ['North Korea',\n",
       "  'spy satellite',\n",
       "  'rocket launch',\n",
       "  'ballistic missile',\n",
       "  'US military activities',\n",
       "  'air raid siren'],\n",
       " 'people': ['Fumio Kishida', 'Ri Pyong Chol', 'Kim Jong-un'],\n",
       " 'organization': ['UN Security Council', 'Yonhap news agency'],\n",
       " 'locations': ['Okinawa', 'Seoul', 'South Korea', 'US']}"
      ]
     },
     "execution_count": 98,
     "metadata": {},
     "output_type": "execute_result"
    }
   ],
   "source": [
    "tags = ai.distill(text=content, theme=theme)\n",
    "tags"
   ]
  },
  {
   "cell_type": "code",
   "execution_count": 99,
   "id": "340edf93",
   "metadata": {},
   "outputs": [
    {
     "name": "stdout",
     "output_type": "stream",
     "text": [
      "{\n",
      "    \"keywords\": [\n",
      "        \"North Korea\",\n",
      "        \"spy satellite\",\n",
      "        \"rocket launch\",\n",
      "        \"ballistic missile\",\n",
      "        \"US military activities\",\n",
      "        \"air raid siren\"\n",
      "    ],\n",
      "    \"people\": [\n",
      "        \"Fumio Kishida\",\n",
      "        \"Ri Pyong Chol\",\n",
      "        \"Kim Jong-un\"\n",
      "    ],\n",
      "    \"organization\": [\n",
      "        \"UN Security Council\",\n",
      "        \"Yonhap news agency\"\n",
      "    ],\n",
      "    \"locations\": [\n",
      "        \"Okinawa\",\n",
      "        \"Seoul\",\n",
      "        \"South Korea\",\n",
      "        \"US\"\n",
      "    ]\n",
      "}\n"
     ]
    }
   ],
   "source": [
    "print(json.dumps(tags, indent=4))"
   ]
  },
  {
   "cell_type": "code",
   "execution_count": null,
   "id": "e6e3cbfc",
   "metadata": {},
   "outputs": [],
   "source": []
  }
 ],
 "metadata": {
  "kernelspec": {
   "display_name": "Python 3 (ipykernel)",
   "language": "python",
   "name": "python3"
  },
  "language_info": {
   "codemirror_mode": {
    "name": "ipython",
    "version": 3
   },
   "file_extension": ".py",
   "mimetype": "text/x-python",
   "name": "python",
   "nbconvert_exporter": "python",
   "pygments_lexer": "ipython3",
   "version": "3.9.13"
  }
 },
 "nbformat": 4,
 "nbformat_minor": 5
}
