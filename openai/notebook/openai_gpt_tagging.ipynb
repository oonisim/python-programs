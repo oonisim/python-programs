{
 "cells": [
  {
   "cell_type": "code",
   "execution_count": 2,
   "id": "ac670ba5-929b-41e3-93b6-2f59f65bb94a",
   "metadata": {
    "tags": []
   },
   "outputs": [
    {
     "name": "stdout",
     "output_type": "stream",
     "text": [
      "\u001b[33mWARNING: Running pip as the 'root' user can result in broken permissions and conflicting behaviour with the system package manager. It is recommended to use a virtual environment instead: https://pip.pypa.io/warnings/venv\u001b[0m\u001b[33m\n",
      "\u001b[0m\n",
      "\u001b[1m[\u001b[0m\u001b[34;49mnotice\u001b[0m\u001b[1;39;49m]\u001b[0m\u001b[39;49m A new release of pip is available: \u001b[0m\u001b[31;49m23.0.1\u001b[0m\u001b[39;49m -> \u001b[0m\u001b[32;49m23.1.2\u001b[0m\n",
      "\u001b[1m[\u001b[0m\u001b[34;49mnotice\u001b[0m\u001b[1;39;49m]\u001b[0m\u001b[39;49m To update, run: \u001b[0m\u001b[32;49mpip install --upgrade pip\u001b[0m\n"
     ]
    }
   ],
   "source": [
    "!pip install openai==0.27.7 --quiet"
   ]
  },
  {
   "cell_type": "code",
   "execution_count": 3,
   "id": "8f5d00d4-a82f-4914-b846-3ac46d46e966",
   "metadata": {
    "tags": []
   },
   "outputs": [],
   "source": [
    "import os\n",
    "import sys\n",
    "import pathlib\n",
    "import re\n",
    "import json"
   ]
  },
  {
   "cell_type": "markdown",
   "id": "07440233-d15a-45eb-b4ae-8fc63b6e2b38",
   "metadata": {},
   "source": [
    "# PYTHONPATH"
   ]
  },
  {
   "cell_type": "code",
   "execution_count": 4,
   "id": "ba7bbd1b-b2b5-4578-ac7d-ec6cb54b8e44",
   "metadata": {
    "tags": []
   },
   "outputs": [],
   "source": [
    "PATH_TO_LIB: str = str(pathlib.Path(\"../../lib\").resolve())"
   ]
  },
  {
   "cell_type": "code",
   "execution_count": 5,
   "id": "e6b44514-0712-48d5-b6a7-2a99a149c95f",
   "metadata": {
    "tags": []
   },
   "outputs": [],
   "source": [
    "if PATH_TO_LIB not in sys.path:\n",
    "    sys.path.insert(0, PATH_TO_LIB)"
   ]
  },
  {
   "cell_type": "code",
   "execution_count": 6,
   "id": "3304ec6c-c84a-49c5-bcf5-7925398e6400",
   "metadata": {
    "tags": []
   },
   "outputs": [],
   "source": [
    "%load_ext autoreload\n",
    "%autoreload 2\n",
    "from util_openai import (\n",
    "    OpenAI\n",
    ")"
   ]
  },
  {
   "cell_type": "code",
   "execution_count": 7,
   "id": "762f208d-db57-4ee4-9c12-41787ca15ebf",
   "metadata": {
    "tags": []
   },
   "outputs": [],
   "source": [
    "ai = OpenAI(\n",
    "    path_to_api_key=f\"{os.path.expanduser('~')}/.openai/api_key\"\n",
    ")"
   ]
  },
  {
   "cell_type": "markdown",
   "id": "b19b1701-c055-43e8-9b0d-ed5dfa05289d",
   "metadata": {},
   "source": [
    "# Data (NACA EN)"
   ]
  },
  {
   "cell_type": "code",
   "execution_count": 9,
   "id": "886b4efd-038d-4a3f-9cdd-57b671a1ac18",
   "metadata": {
    "tags": []
   },
   "outputs": [],
   "source": [
    "doc = \"\"\"\n",
    "The French government under President Emmanuel Macron on Monday survived two no-confidence motions in parliament, but still faces intense pressure over its handling of a controversial pensions reform.\n",
    "\n",
    "Prime Minister Elisabeth Borne incensed the opposition last week by announcing the government would impose a controversial pension reform without a vote in parliament, sparking accusations of anti-democratic behaviour.\n",
    "\n",
    "Its use of an article in the constitution allowing such a move also gave the opposition the right to call motions of no confidence in the government and two such demands were filed.\n",
    "\n",
    "Pension reform has been imposed in France without a vote. How did it happen?\n",
    "\n",
    "The 577-seat National Assembly lower rejected a motion brought by the centrist LIOT coalition that is also supported by the left, by a margin of just nine votes, much narrower than expected.\n",
    "\n",
    "It then overwhelmingly rejected a motion brought by the far-right National Rally (RN) with just 94 votes in favour.\n",
    "\n",
    "The rejection of the motions means that the reform to raise the pensions age from 62 to 64 has now been adopted by the legislature. It still needs to be signed into law by Mr Macron and may also face legal challenges.\n",
    "Anthony Albanese to 'reset relationship' with France on upcoming visit \n",
    "\n",
    "Anthony Albanese to 'reset relationship' with France on upcoming visit\n",
    "It far from represents the end of the biggest domestic crisis of the second mandate in office of Mr Macron, who has yet to make any public comment on the controversy.\n",
    "\n",
    "\"We never went so far in building a compromise as we did with this reform,\" Ms Borne told parliament ahead of the vote, saying her use of the article to bypass a vote was \"profoundly democratic\" under France's constitution set up by postwar leader Charles de Gaulle.\n",
    "Garbage cans overflowing with trash on the streets as collectors go on strike in Paris, France. Garbage collectors have joined the massive strikes throughout France against pension reform plans. \n",
    "A new round of strikes and protests have been called on Thursday and are expected to again bring public transport to a standstill in several areas.\n",
    "\n",
    "There has been a rolling strike by rubbish collectors in Paris, leading to unsightly and unhygienic piles of trash accumulating in the French capital.\n",
    "\n",
    "The future of Ms Borne, appointed as France's second woman premier by Mr Macron after his election victory over the far right for a second mandate, remains in doubt after she failed to secure a parliamentary majority for the reform.\n",
    "\n",
    "France wants to raise its retirement age by two years. Why are thousands protesting?\n",
    "\n",
    "Meanwhile, it remains unclear when Mr Macron will finally make public comments over the events, amid reports he is considering an address to the nation.\n",
    "\n",
    "Since Ms Borne invoked article 49.3 of the constitution, there have also been daily protests in Paris and other cities that have on occasion turned violent.\n",
    "\n",
    "A total of 169 people were arrested nationwide on Saturday during spontaneous protests, including one that assembled 4,000 in the capital.\n",
    "People in the street during clashes and protests in Paris.\n",
    "A demonstrator holds a red flare in the middle of a crowd gathered near a fire as several thousand demonstrators gathered at Place de la Concorde, opposite the National Assembly, in Paris on 16 March, 2023 to protest against pension reform. Source: Getty / Samuel Boivin\n",
    "Government insiders and observers have raised fears that France is again heading for another bout of violent anti-government protests, only a few years after the \"Yellow Vest\" movement shook the country from 2018-2019.\n",
    "\n",
    "In order to pass, the main multi-party no confidence motion needed support from around half the 61 MPs of the traditional right-wing party The Republicans.\n",
    "\n",
    "Even after its leadership insisted they should reject the motions, 19 renegade Republicans MPs voted in favour.\n",
    "\n",
    "\"I think it's the only way out. We need to move on to something else,\" said one of the Republicans who voted for the ousting of the government, Aurelien Pradie.\n",
    "Ejecting PM 'least risky'\n",
    "A survey on Sunday showed the head of state's personal rating at its lowest level since the height of the \"Yellow Vest\" crisis in 2019, with only 28 per cent of respondents having a positive view of him.\n",
    "\n",
    "Mr Macron has argued that the pension changes are needed to avoid crippling deficits in the coming decades linked to France's ageing population.\n",
    "\n",
    "\"Those among us who are able will gradually need to work more to finance our social model, which is one of the most generous in the world,\" Finance Minister Bruno Le Maire said Sunday.\n",
    "\n",
    "Opponents of the reform say it places an unfair burden on low earners, women and people doing physically wearing jobs. Opinion polls have consistently shown that two thirds of French people oppose the changes.\n",
    "\n",
    "As for Mr Macron's options now, replacing Ms Borne would be \"the least risky and the most likely to give him new momentum,\" Bruno Cautres of the Centre for Political Research told AFP.\n",
    "\n",
    "Calling new elections is seen as unlikely.\n",
    "\n",
    "\"When you're in this much of a cycle of unpopularity and rejection over a major reform, it's basically suicidal\" to go to the polls, Brice Teinturier, head of the polling firm Ipsos, told AFP.\n",
    "\n",
    "A Harris Interactive survey of over 2,000 people this month suggested that the only winner from a new general election would be the far right, with all other major parties losing ground.\n",
    "\"\"\"\n",
    "# doc = \"Australian Melissa Georgio moved to Finland over a decade ago to seek happiness in one of the coldest and darkest places on Earth. One of my favorite things about living here is that it's easy to get close to nature whether you're in a residential area or in the middle of the city, Melissa said. Originally a teacher, 12 years ago, she switched from the beaches of Sydney to the dark winters and cold lakes of Finland, and has never looked back since. Melissa said, For Finns, the concept of happiness is very different from the Australian concept of happiness. Finns, she said, are happy to accept portrayals of themselves as melancholy and stubborn — a popular local saying is, People who have happiness must hide it. The first thing I noticed here is that you don't go to dinners or barbecues, and you don't talk about real estate. No one asks you where you live, what suburb do you live in, where your kids go to school. The Finns seem quite happy with the status quo, and they don't always seem to want more. Melissa Georgio's Dark Night in Northern Europe Finland was named the happiest country in the world for the sixth year in a row in the World Happiness Report released by the United Nations. The Nordic countries are often countries with (good) unemployment benefits, pensions, and other benefits, explains happiness expert and researcher Frank Martela (Frank Martela). However, Frank said that Finland's position in the rankings often surprised its own people. Finns, they're almost outraged because they don't think this can be true. We listen to sad music and hard rock. Therefore, happiness is not part of the Finnish self-image. The other side of Finnish melancholy is a cultural focus on perseverance. Frank said it redefines the way Finns view happiness — a concept known as sisu — which is part of Finnish culture and is hard to translate directly, but can be understood as will, determination, perseverance, and reason to face adversity. This, he said, is best reflected in Finns' favorite pastime — getting warm in a sauna after taking a bath in freezing temperatures. It's about this paradox — from one extreme to the other, and it's a pretty fun experience... because you need perseverance. Melissa said, but Finland has many things that are great and can provide happiness for people in this country. Finland is one of the European countries least affected by the COVID-19 pandemic, and experts attribute this to a high level of trust in the government and little resistance to complying with restrictions. Trust in government, on the other hand, stems from a country's investment in its citizens. The public school system rarely tests children and is one of the best in the world. Finland also has a universal health care system with affordable childcare and strong support for parents. Melissa said, The whole country is taking care of the child's development. This system is very well set up. So from having my son to raising him at home, to sending him to daycare, to going to school, I was very well supported in every aspect of this. Finland vs. China, which country has the strongest sense of happiness? Since the publication of the World Happiness Report, the Nordic countries have dominated the top ten. In this year's report, Finland and its neighbors Denmark (2nd), Iceland (3rd), Sweden (6th), and Norway (7th) all scored high on happiness indicators, including healthy life expectancy, per capita GDP, low levels of corruption, social support, freedom, trust, and generosity. Other top ten countries/regions include the Netherlands (5th), Switzerland (8th), Luxembourg (9th), and New Zealand (10th). Australia ranked 12th in this report, followed by Canada (13th), Ireland (14th), and the United States (15th). In Asia, Singapore ranked 25th in the world, up two places from last year, Taiwan dropped one place from last year to 27th, Japan rose to 47th, mainland China ranked 64th, and Hong Kong ranked 82nd. Meanwhile, the polling agency Ipsos Group (Ipsos) released a survey report on the global happiness index. The results showed that out of 32 countries, the country with the highest happiness index was China (91%), followed by Saudi Arabia (86%), the Netherlands (85%), India (84%), and Brazil (83%). Australia ranked 9th in this report. According to the survey report, on average, happiness increased more significantly in middle-income countries (as defined by the World Bank) than in high-income countries.\""
   ]
  },
  {
   "cell_type": "code",
   "execution_count": 10,
   "id": "d3054c2e-4cf9-4358-b6dd-47afefa48e47",
   "metadata": {
    "tags": []
   },
   "outputs": [
    {
     "data": {
      "text/plain": [
       "'The French government under President Emmanuel Macron on Monday survived two no-confidence motions in parliament, but still faces intense pressure over its handling of a controversial pensions reform. Prime Minister Elisabeth Borne incensed the opposition last week by announcing the government would impose a controversial pension reform without a vote in parliament, sparking accusations of anti-democratic behaviour. Its use of an article in the constitution allowing such a move also gave the opposition the right to call motions of no confidence in the government and two such demands were filed. Pension reform has been imposed in France without a vote. How did it happen? The 577-seat National Assembly lower rejected a motion brought by the centrist LIOT coalition that is also supported by the left, by a margin of just nine votes, much narrower than expected. It then overwhelmingly rejected a motion brought by the far-right National Rally (RN) with just 94 votes in favour. The rejection of the motions means that the reform to raise the pensions age from 62 to 64 has now been adopted by the legislature. It still needs to be signed into law by Mr Macron and may also face legal challenges. Anthony Albanese to reset relationship with France on upcoming visit Anthony Albanese to reset relationship with France on upcoming visit It far from represents the end of the biggest domestic crisis of the second mandate in office of Mr Macron, who has yet to make any public comment on the controversy. We never went so far in building a compromise as we did with this reform, Ms Borne told parliament ahead of the vote, saying her use of the article to bypass a vote was profoundly democratic under France s constitution set up by postwar leader Charles de Gaulle. Garbage cans overflowing with trash on the streets as collectors go on strike in Paris, France. Garbage collectors have joined the massive strikes throughout France against pension reform plans. A new round of strikes and protests have been called on Thursday and are expected to again bring public transport to a standstill in several areas. There has been a rolling strike by rubbish collectors in Paris, leading to unsightly and unhygienic piles of trash accumulating in the French capital. The future of Ms Borne, appointed as France s second woman premier by Mr Macron after his election victory over the far right for a second mandate, remains in doubt after she failed to secure a parliamentary majority for the reform. France wants to raise its retirement age by two years. Why are thousands protesting? Meanwhile, it remains unclear when Mr Macron will finally make public comments over the events, amid reports he is considering an address to the nation. Since Ms Borne invoked article 49.3 of the constitution, there have also been daily protests in Paris and other cities that have on occasion turned violent. A total of 169 people were arrested nationwide on Saturday during spontaneous protests, including one that assembled 4,000 in the capital. People in the street during clashes and protests in Paris. A demonstrator holds a red flare in the middle of a crowd gathered near a fire as several thousand demonstrators gathered at Place de la Concorde, opposite the National Assembly, in Paris on 16 March, 2023 to protest against pension reform. Source: Getty / Samuel Boivin Government insiders and observers have raised fears that France is again heading for another bout of violent anti-government protests, only a few years after the Yellow Vest movement shook the country from 2018-2019. In order to pass, the main multi-party no confidence motion needed support from around half the 61 MPs of the traditional right-wing party The Republicans. Even after its leadership insisted they should reject the motions, 19 renegade Republicans MPs voted in favour. I think it s the only way out. We need to move on to something else, said one of the Republicans who voted for the ousting of the government, Aurelien Pradie. Ejecting PM least risky A survey on Sunday showed the head of state s personal rating at its lowest level since the height of the Yellow Vest crisis in 2019, with only 28 per cent of respondents having a positive view of him. Mr Macron has argued that the pension changes are needed to avoid crippling deficits in the coming decades linked to France s ageing population. Those among us who are able will gradually need to work more to finance our social model, which is one of the most generous in the world, Finance Minister Bruno Le Maire said Sunday. Opponents of the reform say it places an unfair burden on low earners, women and people doing physically wearing jobs. Opinion polls have consistently shown that two thirds of French people oppose the changes. As for Mr Macron s options now, replacing Ms Borne would be the least risky and the most likely to give him new momentum, Bruno Cautres of the Centre for Political Research told AFP. Calling new elections is seen as unlikely. When you re in this much of a cycle of unpopularity and rejection over a major reform, it s basically suicidal to go to the polls, Brice Teinturier, head of the polling firm Ipsos, told AFP. A Harris Interactive survey of over 2,000 people this month suggested that the only winner from a new general election would be the far right, with all other major parties losing ground.'"
      ]
     },
     "execution_count": 10,
     "metadata": {},
     "output_type": "execute_result"
    }
   ],
   "source": [
    "content = re.sub(r'[\\s\\'\\\"\\n\\t\\\\]+', ' ', doc, flags=re.MULTILINE).strip()\n",
    "content"
   ]
  },
  {
   "cell_type": "markdown",
   "id": "c277574e-d82b-4a51-a20e-b8dcaf2c3f72",
   "metadata": {},
   "source": [
    "# Thought Process\n",
    "\n",
    "1. Summarize the sentence to distil the content to the essense.\n",
    "2. Title as less than 10 word summary.\n",
    "3. Extact keywords related to the title from the summary.\n",
    "4. Succinct.ai.get_chat_completion_by_prompt(prompt=prompt)\n"
   ]
  },
  {
   "cell_type": "markdown",
   "id": "5a709fc6-a566-4258-9de3-bac22c778e22",
   "metadata": {},
   "source": [
    "## Summerization"
   ]
  },
  {
   "cell_type": "code",
   "execution_count": 20,
   "id": "8494648e-8cc5-44a4-b094-9b121d65898d",
   "metadata": {
    "tags": []
   },
   "outputs": [],
   "source": [
    "prompt = \"Summarize the TEXT less than 10 words. Response must be less than 10 words. TEXT=\" + content\n",
    "summary = ai.get_chat_completion_by_prompt(prompt=prompt)"
   ]
  },
  {
   "cell_type": "code",
   "execution_count": 21,
   "id": "57290048-0e2e-48a6-9703-619fbffae6dc",
   "metadata": {
    "tags": []
   },
   "outputs": [
    {
     "data": {
      "text/plain": [
       "'French government survives no-confidence motions amid pension reform controversy.'"
      ]
     },
     "execution_count": 21,
     "metadata": {},
     "output_type": "execute_result"
    }
   ],
   "source": [
    "summary"
   ]
  },
  {
   "cell_type": "markdown",
   "id": "24d905ff-b0dc-4f78-ac43-e50349dec69f",
   "metadata": {},
   "source": [
    "## Title"
   ]
  },
  {
   "cell_type": "code",
   "execution_count": 22,
   "id": "c00399ec-04eb-46b8-aa2b-4a3d177bf399",
   "metadata": {
    "tags": []
   },
   "outputs": [],
   "source": [
    "prompt = \"Title of the text. Response must be less than 10 words. TEXT=\" + summary\n",
    "title = ai.get_chat_completion_by_prompt(prompt=prompt)"
   ]
  },
  {
   "cell_type": "code",
   "execution_count": 23,
   "id": "f6b71179-2f45-4519-9735-2f6d0c23f9ed",
   "metadata": {
    "tags": []
   },
   "outputs": [
    {
     "data": {
      "text/plain": [
       "'French government survives no-confidence motions.'"
      ]
     },
     "execution_count": 23,
     "metadata": {},
     "output_type": "execute_result"
    }
   ],
   "source": [
    "title"
   ]
  },
  {
   "cell_type": "markdown",
   "id": "085e3d13-d031-4d38-93e4-afa297e02c22",
   "metadata": {},
   "source": [
    "# Topics"
   ]
  },
  {
   "cell_type": "code",
   "execution_count": 79,
   "id": "b1c40125-c7dc-47f2-bbbd-7adb71e5cdae",
   "metadata": {
    "tags": []
   },
   "outputs": [
    {
     "data": {
      "text/plain": [
       "'French government and pension reform.'"
      ]
     },
     "execution_count": 79,
     "metadata": {},
     "output_type": "execute_result"
    }
   ],
   "source": [
    "prompt = f\"Topic of the TEXT within 5 words. TEXT=\" + summary\n",
    "topics = ai.get_chat_completion_by_prompt(prompt=prompt)\n",
    "topics"
   ]
  },
  {
   "cell_type": "code",
   "execution_count": 80,
   "id": "a8c01aa7-f2a8-4ca7-963f-035170d25050",
   "metadata": {
    "tags": []
   },
   "outputs": [],
   "source": [
    "prompt = f\"Top 5 most critical keywords from the TEXT that induce '{topics}'. TEXT=\" + content\n",
    "cirtical_keywords = ai.get_chat_completion_by_prompt(prompt=prompt)"
   ]
  },
  {
   "cell_type": "code",
   "execution_count": 81,
   "id": "d8ee07bc-429e-4c18-b793-556f711b1841",
   "metadata": {
    "tags": []
   },
   "outputs": [
    {
     "data": {
      "text/plain": [
       "['1. French government ',\n",
       " '2. President Emmanuel Macron ',\n",
       " '3. Pension reform ',\n",
       " '4. Article 49.3 ',\n",
       " '5. Protests']"
      ]
     },
     "execution_count": 81,
     "metadata": {},
     "output_type": "execute_result"
    }
   ],
   "source": [
    "cirtical_keywords.split('\\n')"
   ]
  },
  {
   "cell_type": "code",
   "execution_count": 82,
   "id": "f1d3644f-5613-4f3e-ab66-3a1e8c8a374d",
   "metadata": {
    "tags": []
   },
   "outputs": [],
   "source": [
    "prompt = f\"succinct is in less than 10 words. Give succinct sentences as a JSON list string that tell what the TEXT is about. TEXT=\" + summary\n",
    "keywords = ai.get_chat_completion_by_prompt(prompt=prompt)"
   ]
  },
  {
   "cell_type": "code",
   "execution_count": 83,
   "id": "964ba4be-1df3-47ff-9c18-e387c44d0dca",
   "metadata": {
    "tags": []
   },
   "outputs": [
    {
     "data": {
      "text/plain": [
       "['French government survives no-confidence motions',\n",
       " 'Pension reform controversy in France']"
      ]
     },
     "execution_count": 83,
     "metadata": {},
     "output_type": "execute_result"
    }
   ],
   "source": [
    "_keywords = json.loads(keywords)\n",
    "_keywords"
   ]
  },
  {
   "cell_type": "code",
   "execution_count": null,
   "id": "56483698-b194-45d3-be31-30bf24598231",
   "metadata": {
    "tags": []
   },
   "outputs": [],
   "source": [
    "prompt = \"Critical events in the TEXT. Return as JSON where key is event as noun phrase within 10 words and value is explanation. TEXT=\" + content\n",
    "ciritcal_events = ai.get_chat_completion_by_prompt(prompt=prompt)"
   ]
  },
  {
   "cell_type": "code",
   "execution_count": 95,
   "id": "b898d59b-e5bf-4e18-a45b-599a937e6195",
   "metadata": {
    "tags": []
   },
   "outputs": [
    {
     "data": {
      "text/plain": [
       "{'Survival of French Government': 'The French government under President Emmanuel Macron on Monday survived two no-confidence motions in parliament.',\n",
       " 'Opposition to Pension Reform Announcement': 'Prime Minister Elisabeth Borne incensed the opposition last week by announcing the government would impose a controversial pension reform without a vote in parliament, sparking accusations of anti-democratic behaviour.',\n",
       " 'Rejection of Centrist No-Confidence Motion': 'The 577-seat National Assembly lower rejected a motion brought by the centrist LIOT coalition that is also supported by the left, by a margin of just nine votes, much narrower than expected.',\n",
       " 'Rejection of Far-Right No-Confidence Motion': 'It then overwhelmingly rejected a motion brought by the far-right National Rally (RN) with just 94 votes in favour.',\n",
       " 'Adoption of Pension Reform': 'The rejection of the motions means that the reform to raise the pensions age from 62 to 64 has now been adopted by the legislature.',\n",
       " 'Continued Opposition to Pension Reform': 'It far from represents the end of the biggest domestic crisis of the second mandate in office of Mr Macron, who has yet to make any public comment on the controversy.',\n",
       " 'Daily Protests': 'Since Ms Borne invoked article 49.3 of the constitution, there have also been daily protests in Paris and other cities that have on occasion turned violent.',\n",
       " 'Risk of Anti-Government Protests': 'Government insiders and observers have raised fears that France is again heading for another bout of violent anti-government protests, only a few years after the Yellow Vest movement shook the country from 2018-2019.',\n",
       " 'Low Approval Ratings for President Macron': \"A survey on Sunday showed the head of state's personal rating at its lowest level since the height of the Yellow Vest crisis in 2019, with only 28 per cent of respondents having a positive view of him.\",\n",
       " 'Controversy over Pension Reform': \"Mr Macron has argued that the pension changes are needed to avoid crippling deficits in the coming decades linked to France's ageing population. Opponents of the reform say it places an unfair burden on low earners, women and people doing physically wearing jobs.\",\n",
       " 'Option of Replacing Prime Minister': \"As for Mr Macron's options now, replacing Ms Borne would be the least risky and the most likely to give him new momentum, Bruno Cautres of the Centre for Political Research told AFP.\"}"
      ]
     },
     "execution_count": 95,
     "metadata": {},
     "output_type": "execute_result"
    }
   ],
   "source": [
    "json.loads(ciritcal_events)"
   ]
  },
  {
   "cell_type": "markdown",
   "id": "0bc5c69c-a583-43b6-a9ed-8b40b1e4dd0f",
   "metadata": {},
   "source": [
    "## People"
   ]
  },
  {
   "cell_type": "code",
   "execution_count": 70,
   "id": "c7170e19-b7d7-41de-b1af-26807ce58104",
   "metadata": {
    "tags": []
   },
   "outputs": [
    {
     "data": {
      "text/plain": [
       "{'Emmanuel Macron': 'President',\n",
       " 'Elisabeth Borne': 'Prime Minister',\n",
       " 'Anthony Albanese': 'Politician',\n",
       " 'Charles de Gaulle': 'Postwar leader'}"
      ]
     },
     "execution_count": 70,
     "metadata": {},
     "output_type": "execute_result"
    }
   ],
   "source": [
    "prompt = \"Notable figures as name:title as JSON from the TEXT. TEXT=\" + content\n",
    "figures = ai.get_chat_completion_by_prompt(prompt=prompt)\n",
    "json.loads(figures)"
   ]
  },
  {
   "cell_type": "code",
   "execution_count": 71,
   "id": "64cd7d78-1923-4f71-8cae-bbb25677fad5",
   "metadata": {
    "tags": []
   },
   "outputs": [
    {
     "data": {
      "text/plain": [
       "{'President Emmanuel Macron': 'French government under President',\n",
       " 'Prime Minister Elisabeth Borne': 'Prime Minister',\n",
       " 'Anthony Albanese': 'Australian politician',\n",
       " 'Charles de Gaulle': 'former French leader',\n",
       " 'Samuel Boivin': 'Government insider',\n",
       " 'Finance Minister Bruno Le Maire': 'Finance Minister',\n",
       " 'Bruno Cautres': 'Centre for Political Research member',\n",
       " 'Brice Teinturier': 'Head of polling firm Ipsos'}"
      ]
     },
     "execution_count": 71,
     "metadata": {},
     "output_type": "execute_result"
    }
   ],
   "source": [
    "prompt = \"Notable figures in the TEXT as a JSON where key is name and value is title. TEXT=\" + content\n",
    "figures = ai.get_chat_completion_by_prompt(prompt=prompt)\n",
    "json.loads(figures)"
   ]
  },
  {
   "cell_type": "code",
   "execution_count": 75,
   "id": "3f24c281-bfc6-47ee-874d-6413ff9bc509",
   "metadata": {
    "tags": []
   },
   "outputs": [
    {
     "data": {
      "text/plain": [
       "'true'"
      ]
     },
     "execution_count": 75,
     "metadata": {},
     "output_type": "execute_result"
    }
   ],
   "source": [
    "prompt = \"Are they all people? true or false\" + str(json.loads(figures).keys())\n",
    "answer = ai.get_chat_completion_by_prompt(prompt=prompt)\n",
    "answer"
   ]
  },
  {
   "cell_type": "markdown",
   "id": "25f306b8-469f-4b3d-97b2-552e03e64380",
   "metadata": {},
   "source": [
    "## Geography"
   ]
  },
  {
   "cell_type": "code",
   "execution_count": 87,
   "id": "bea3a710-02b4-4733-8961-668c73a1c637",
   "metadata": {
    "tags": []
   },
   "outputs": [
    {
     "name": "stderr",
     "output_type": "stream",
     "text": [
      "function get_chat_completion_by_prompt() failed due to [That model is currently overloaded with other requests. You can retry your request, or contact us through our help center at help.openai.com if the error persists. (Please include the request ID 64c7dac6d19699bff1b53058c05c40fd in your message.)] and retry in 3.2475153197111246 seconds.\n"
     ]
    },
    {
     "data": {
      "text/plain": [
       "{'Paris, France': 'There have been daily protests that have on occasion turned violent and a total of 169 people were arrested nationwide on Saturday during spontaneous protests.',\n",
       " 'National Assembly': 'The 577-seat National Assembly rejected a motion brought by the centrist LIOT coalition that is also supported by the left, and a motion brought by the far-right National Rally (RN) with just 94 votes in favour.',\n",
       " 'France': 'The French government under President Emmanuel Macron is facing intense pressure over its handling of a controversial pensions reform. France wants to raise its retirement age by two years, and thousands are protesting against the reform plans.',\n",
       " 'Place de la Concorde': 'Several thousand demonstrators gathered here to protest against pension reform.',\n",
       " 'Charles de Gaulle': 'The French constitution that was set up by postwar leader Charles de Gaulle allows the use of article 49.3 to bypass a vote.',\n",
       " 'The Republicans': 'In order to pass, the main multi-party no confidence motion needed support from around half the 61 MPs of the traditional right-wing party The Republicans. Even after its leadership insisted they should reject the motions, 19 renegade Republicans MPs voted in favour.'}"
      ]
     },
     "execution_count": 87,
     "metadata": {},
     "output_type": "execute_result"
    }
   ],
   "source": [
    "prompt = f\"In which geographic locations the TEXT has occurred. Verify they are geographic locations and return as a JSON where key is location value is explanation. TEXT=\" + content\n",
    "locations = ai.get_chat_completion_by_prompt(prompt=prompt)\n",
    "json.loads(locations)"
   ]
  },
  {
   "cell_type": "code",
   "execution_count": 53,
   "id": "225bb213-f7d9-4d22-9ecd-7bcdc760124f",
   "metadata": {
    "tags": []
   },
   "outputs": [
    {
     "data": {
      "text/plain": [
       "{'France': 'The primary location where the events described in the text have occurred. The French government under President Emmanuel Macron has faced pressure over its handling of the controversial pension reform. The reform to raise the pensions age from 62 to 64 has now been adopted by the legislature. Daily protests have occurred in Paris and other cities, and garbage collectors have also gone on strike.',\n",
       " 'Paris': 'A specific city in France where daily protests have occurred, and garbage collectors have gone on strike, leading to piles of trash accumulating in the capital.',\n",
       " 'Concorde': 'A specific site in Paris where several thousand demonstrators gathered on 16 March, 2023, to protest against pension reform.',\n",
       " 'National Assembly': 'The 577-seat lower house of the French parliament, which rejected two no-confidence motions against the government.',\n",
       " 'Ipsos': 'A polling firm mentioned in the text, based in France.',\n",
       " 'Republicans': 'A traditional right-wing party in France, whose leadership insisted that they reject the no-confidence motions. However, 19 renegade Republicans MPs voted in favour of the motions.',\n",
       " 'Yellow Vest': 'A movement that shook France from 2018-2019 and raised fears of another bout of violent anti-government protests.',\n",
       " 'Charles de Gaulle': \"A postwar leader who set up France's constitution, which has been invoked by Prime Minister Elisabeth Borne to impose the controversial pension reform without a vote in parliament.\"}"
      ]
     },
     "execution_count": 53,
     "metadata": {},
     "output_type": "execute_result"
    }
   ],
   "source": [
    "prompt = f\"In which geographic locations the TEXT has occurred. Locations with explanation as a JSON. TEXT=\" + content\n",
    "locations = ai.get_chat_completion_by_prompt(prompt=prompt)\n",
    "json.loads(locations)"
   ]
  },
  {
   "cell_type": "code",
   "execution_count": 56,
   "id": "4ce8d24b-b36b-461d-90c1-30ef06130648",
   "metadata": {
    "tags": []
   },
   "outputs": [
    {
     "data": {
      "text/plain": [
       "'[\"Ipsos\", \"Republicans\", \"Yellow Vest\"]'"
      ]
     },
     "execution_count": 56,
     "metadata": {},
     "output_type": "execute_result"
    }
   ],
   "source": [
    "prompt = f\"Which ones are not geographic locatinos in TEXT. Return as a JSON list. TEXT=\" + str(json.loads(locations).keys())\n",
    "fixed_locations = ai.get_chat_completion_by_prompt(prompt=prompt)\n",
    "fixed_locations"
   ]
  },
  {
   "cell_type": "code",
   "execution_count": 60,
   "id": "db88bf6e-b453-4c81-80bb-b2342b55ea88",
   "metadata": {
    "tags": []
   },
   "outputs": [
    {
     "data": {
      "text/plain": [
       "{'France': 'The primary location where the events described in the text have occurred. The French government under President Emmanuel Macron has faced pressure over its handling of the controversial pension reform. The reform to raise the pensions age from 62 to 64 has now been adopted by the legislature. Daily protests have occurred in Paris and other cities, and garbage collectors have also gone on strike.',\n",
       " 'Paris': 'A specific city in France where daily protests have occurred, and garbage collectors have gone on strike, leading to piles of trash accumulating in the capital.',\n",
       " 'Concorde': 'A specific site in Paris where several thousand demonstrators gathered on 16 March, 2023, to protest against pension reform.',\n",
       " 'National Assembly': 'The 577-seat lower house of the French parliament, which rejected two no-confidence motions against the government.',\n",
       " 'Charles de Gaulle': \"A postwar leader who set up France's constitution, which has been invoked by Prime Minister Elisabeth Borne to impose the controversial pension reform without a vote in parliament.\"}"
      ]
     },
     "execution_count": 60,
     "metadata": {},
     "output_type": "execute_result"
    }
   ],
   "source": [
    "{\n",
    "    key: value for key, value in json.loads(locations).items()\n",
    "    if key not in fixed_locations\n",
    "}"
   ]
  },
  {
   "cell_type": "code",
   "execution_count": 30,
   "id": "3ed16bd3-91db-4257-9f0e-36f2b33b4f5e",
   "metadata": {
    "tags": []
   },
   "outputs": [
    {
     "data": {
      "text/plain": [
       "['Paris, France']"
      ]
     },
     "execution_count": 30,
     "metadata": {},
     "output_type": "execute_result"
    }
   ],
   "source": [
    "prompt = \"Geographic locations in TEXT. List name only. Text=\" + content\n",
    "geographic_locations = ai.get_chat_completion_by_prompt(prompt=prompt)\n",
    "geographic_locations.split('\\n')"
   ]
  },
  {
   "cell_type": "markdown",
   "id": "6b7fc216-d6ee-41c4-a826-7d59f23c9d6c",
   "metadata": {},
   "source": [
    "## Sentiment"
   ]
  },
  {
   "cell_type": "code",
   "execution_count": 76,
   "id": "8355fff9-9943-4675-a32d-afe548006e59",
   "metadata": {
    "tags": []
   },
   "outputs": [
    {
     "data": {
      "text/plain": [
       "'Neutral'"
      ]
     },
     "execution_count": 76,
     "metadata": {},
     "output_type": "execute_result"
    }
   ],
   "source": [
    "prompt = \"Which one from Quiet, Uplifting, Serious, Neutral, Light, Heavy, Satire is the appropriate sentiment of the TEXT. TEXT=\" + content\n",
    "ai.get_chat_completion_by_prompt(prompt=prompt)"
   ]
  },
  {
   "cell_type": "markdown",
   "id": "afd33c8c-65c7-4507-b908-e70bcc2bee4d",
   "metadata": {},
   "source": [
    "---"
   ]
  },
  {
   "cell_type": "markdown",
   "id": "ce4c5aef-cbfd-414a-9adc-2219fb63f1ef",
   "metadata": {},
   "source": [
    "# GPT / Chinese Content\n",
    "\n",
    "* [芬兰连续第六年成全球最幸福国度 澳洲排第几？](https://www.sbs.com.au/language/chinese/zh-hans/article/why-finland-has-been-voted-the-happiest-country-in-the-world-for-the-sixth-year-running/7x56lspwl)"
   ]
  },
  {
   "cell_type": "code",
   "execution_count": null,
   "id": "4fd78d31-fb1f-4f75-9903-1367d8f9f395",
   "metadata": {
    "tags": []
   },
   "outputs": [],
   "source": [
    "content=\"\"\"\n",
    "在 SBS On Demand 可免费收看《世界上最幸福的国度》（The World's Happiest Country）。\n",
    "\n",
    "澳大利亚人梅丽莎·乔治奥（Melissa Georgiou）十多年前移居芬兰，在地球上最寒冷、最黑暗的地方之一寻求幸福。\n",
    "\n",
    "梅丽莎说：“在这里生活，我最喜欢的事情之一是，无论你是在住宅区还是在城市中间，都很容易接近大自然。”\n",
    "她原本是一名教师，12年前，她从悉尼的海滩换到了芬兰的黑暗冬天和冰冷湖泊，此后再也没有回头。\n",
    "梅丽莎说：“对芬兰人来说，幸福的概念与澳大利亚人的幸福概念非常不同。\n",
    "\n",
    "她说，芬兰人乐于接受将自己描绘成忧郁、矜持的形象——当地流行的一句话是：“拥有幸福的人必须把它隐藏起来。”\n",
    "\n",
    "“在这里，我注意到的第一件事是，你不会去参加晚宴或烧烤，也不会谈论房地产。没有人问你住在哪里，住在哪个郊区，你的孩子在哪里上学。” \n",
    "芬兰人似乎对现状相当满意，他们似乎并不总是想要更多。\n",
    "梅丽莎·乔治奥\n",
    "北欧的黑夜\n",
    "在联合国最新发布的《世界幸福报告》中，芬兰连续第六年被评为世界上最幸福的国家。\n",
    "\n",
    "幸福专家和研究员弗兰克·马特拉（Frank Martela）解释说：“北欧国家往往是有（良好）失业救济、养老金和其他福利的国家。”\n",
    "但弗兰克说，芬兰在排名中的位置往往让其本国人民感到惊讶。\n",
    "\n",
    "“芬兰人，他们几乎感到愤怒，因为他们觉得这不可能是真的。我们听的是悲伤的音乐，还有硬摇滚。”\n",
    "“因此，幸福并不是芬兰人自我形象的一部分。”\n",
    "\n",
    "芬兰人忧郁的另一面是对毅力的文化关注，弗兰克说这重新定义了芬兰人看待幸福的方式——一个被称为“sisu”的概念——这是芬兰文化的一部分，很难直译，但可理解为意志、决心、毅力和理性面对逆境。\n",
    "\n",
    "他说，这在芬兰人最喜欢的消遣方式中得到了最好的体现——在冰点以下的气温中泡完海澡后，在桑拿房里取暖。\n",
    "\n",
    "“这是关于这种矛盾——从一个极端到另一个极端，而这是相当有趣的体验......因为你需要毅力。”\n",
    "\n",
    "梅丽莎说，但芬兰有很多东西是伟大的，可以为这个国家的人提供幸福。\n",
    "芬兰是受新冠大流行影响最小的欧洲国家之一，专家们将此归功于对政府的高度信任和对遵循限制措施的较小阻力。\n",
    "\n",
    "而对政府的信任则源于国家对其公民的投资。\n",
    "\n",
    "公立学校系统很少对儿童进行测试，是世界上最好的学校之一。芬兰也有一个全民医疗保健系统，有民众负担得起的儿童保育和对父母的有力支持。\n",
    "\n",
    "梅丽莎说：“整个国家都在照顾孩子的成长，这个制度设置得非常好。因此，从生下我儿子到在家抚养他，再到送他去日托，再到上学，这一切的每个方面都得到了很好的支持。”\n",
    "芬兰VS中国 幸福感哪国最强？\n",
    "自《世界幸福报告》发布以来，北欧国家一直在前十名中占主导地位。在今年的报告中，芬兰及其邻国丹麦（第2名）、冰岛（第3名）、瑞典（第6名）和挪威（第7名）在幸福指标中的得分都很高，包括健康的预期寿命、人均GDP、低腐败程度、社会支持、自由、信任与慷慨等。\n",
    "\n",
    "其他位列前十的国家/地区包括，荷兰（第5名）、瑞士（第8名）、卢森堡（第9名）及新西兰（第10名）。\n",
    "\n",
    "澳大利亚在这份报告中排名第12名，紧随其后的是加拿大（第13名）、爱尔兰（第14名）、美国（第15名）。\n",
    "\n",
    "亚洲地区，新加坡排全球第25名，较去年上升两位，台湾较去年下跌一位到第27名，日本排名升至第47名，中国大陆排第64名，香港排名第82名。\n",
    "\n",
    " 与此同时，民调机构益普索集团（Ipsos）业发布了一份有关全球幸福指数的调查报告，结果显示，在32个国家中，幸福感指数最高的国家是中国（91%），其后是沙特阿拉伯（86%）、荷兰（85%）、印度（84%）、巴西（83%）。\n",
    "\n",
    "澳大利亚在这份报告中位列第9名。\n",
    "\n",
    "调查报告指出，平均而言，中等收入国家（按照世界银行定义）的幸福感，比高收入国家的幸福感增长得更明显。\n",
    "\"\"\""
   ]
  },
  {
   "cell_type": "code",
   "execution_count": null,
   "id": "c36d85ca-9e48-41d9-9dec-34743c972caf",
   "metadata": {
    "tags": []
   },
   "outputs": [],
   "source": [
    "import re\n",
    "content = re.sub(r'[\\s\\'\\\"\\n\\t\\\\]+', ' ', content, flags=re.MULTILINE).strip()\n",
    "content"
   ]
  },
  {
   "cell_type": "markdown",
   "id": "bda52be9-e1c7-43af-9a66-80e0732d1113",
   "metadata": {},
   "source": [
    "## Summarization"
   ]
  },
  {
   "cell_type": "code",
   "execution_count": null,
   "id": "8ab847d1-168c-4576-a5e4-d8e93c8f7be2",
   "metadata": {
    "tags": []
   },
   "outputs": [],
   "source": [
    "prompt = \"Summarize the TEXT less than 20 words. Response must be less than 20 words. TEXT=\" + content\n",
    "run_get_chat_completion_by_prompt(prompt=prompt)"
   ]
  },
  {
   "cell_type": "markdown",
   "id": "be70df22-1691-41d9-b149-dc2585635ebc",
   "metadata": {
    "tags": []
   },
   "source": [
    "## Keywords"
   ]
  },
  {
   "cell_type": "code",
   "execution_count": null,
   "id": "1931c260-88c9-4b94-a8e2-353504147f57",
   "metadata": {},
   "outputs": [],
   "source": [
    "prompt = \"Keywords from the TEXT. TEXT=\" + content\n",
    "run_get_chat_completion_by_prompt(prompt=prompt)"
   ]
  },
  {
   "cell_type": "markdown",
   "id": "68ae2cc8-f0e3-4db2-8f88-3d87f0f49fd9",
   "metadata": {},
   "source": [
    "## Geography"
   ]
  },
  {
   "cell_type": "code",
   "execution_count": null,
   "id": "ad22ce12-ac10-4dfe-8331-75052d28d691",
   "metadata": {
    "tags": []
   },
   "outputs": [],
   "source": [
    "prompt = \"List countries in TEXT. Text=\" + content\n",
    "run_get_chat_completion_by_prompt(prompt=prompt)"
   ]
  },
  {
   "cell_type": "markdown",
   "id": "627a0867-ec31-48b6-bb77-3d77e4337e07",
   "metadata": {},
   "source": [
    "## Sentiment"
   ]
  },
  {
   "cell_type": "code",
   "execution_count": null,
   "id": "c470f710-0e55-4b88-bc88-4f925cad9f8a",
   "metadata": {
    "tags": []
   },
   "outputs": [],
   "source": [
    "prompt = \"Which one from Quiet, Uplifting, Serious, Neutral, Light, Heavy, Satire is the appropriate sentiment of the TEXT. TEXT=\" + content\n",
    "run_get_chat_completion_by_prompt(prompt=prompt)"
   ]
  },
  {
   "cell_type": "code",
   "execution_count": null,
   "id": "af4af770-a495-40de-be02-0fd318c511a2",
   "metadata": {},
   "outputs": [],
   "source": []
  }
 ],
 "metadata": {
  "availableInstances": [
   {
    "_defaultOrder": 0,
    "_isFastLaunch": true,
    "category": "General purpose",
    "gpuNum": 0,
    "hideHardwareSpecs": false,
    "memoryGiB": 4,
    "name": "ml.t3.medium",
    "vcpuNum": 2
   },
   {
    "_defaultOrder": 1,
    "_isFastLaunch": false,
    "category": "General purpose",
    "gpuNum": 0,
    "hideHardwareSpecs": false,
    "memoryGiB": 8,
    "name": "ml.t3.large",
    "vcpuNum": 2
   },
   {
    "_defaultOrder": 2,
    "_isFastLaunch": false,
    "category": "General purpose",
    "gpuNum": 0,
    "hideHardwareSpecs": false,
    "memoryGiB": 16,
    "name": "ml.t3.xlarge",
    "vcpuNum": 4
   },
   {
    "_defaultOrder": 3,
    "_isFastLaunch": false,
    "category": "General purpose",
    "gpuNum": 0,
    "hideHardwareSpecs": false,
    "memoryGiB": 32,
    "name": "ml.t3.2xlarge",
    "vcpuNum": 8
   },
   {
    "_defaultOrder": 4,
    "_isFastLaunch": true,
    "category": "General purpose",
    "gpuNum": 0,
    "hideHardwareSpecs": false,
    "memoryGiB": 8,
    "name": "ml.m5.large",
    "vcpuNum": 2
   },
   {
    "_defaultOrder": 5,
    "_isFastLaunch": false,
    "category": "General purpose",
    "gpuNum": 0,
    "hideHardwareSpecs": false,
    "memoryGiB": 16,
    "name": "ml.m5.xlarge",
    "vcpuNum": 4
   },
   {
    "_defaultOrder": 6,
    "_isFastLaunch": false,
    "category": "General purpose",
    "gpuNum": 0,
    "hideHardwareSpecs": false,
    "memoryGiB": 32,
    "name": "ml.m5.2xlarge",
    "vcpuNum": 8
   },
   {
    "_defaultOrder": 7,
    "_isFastLaunch": false,
    "category": "General purpose",
    "gpuNum": 0,
    "hideHardwareSpecs": false,
    "memoryGiB": 64,
    "name": "ml.m5.4xlarge",
    "vcpuNum": 16
   },
   {
    "_defaultOrder": 8,
    "_isFastLaunch": false,
    "category": "General purpose",
    "gpuNum": 0,
    "hideHardwareSpecs": false,
    "memoryGiB": 128,
    "name": "ml.m5.8xlarge",
    "vcpuNum": 32
   },
   {
    "_defaultOrder": 9,
    "_isFastLaunch": false,
    "category": "General purpose",
    "gpuNum": 0,
    "hideHardwareSpecs": false,
    "memoryGiB": 192,
    "name": "ml.m5.12xlarge",
    "vcpuNum": 48
   },
   {
    "_defaultOrder": 10,
    "_isFastLaunch": false,
    "category": "General purpose",
    "gpuNum": 0,
    "hideHardwareSpecs": false,
    "memoryGiB": 256,
    "name": "ml.m5.16xlarge",
    "vcpuNum": 64
   },
   {
    "_defaultOrder": 11,
    "_isFastLaunch": false,
    "category": "General purpose",
    "gpuNum": 0,
    "hideHardwareSpecs": false,
    "memoryGiB": 384,
    "name": "ml.m5.24xlarge",
    "vcpuNum": 96
   },
   {
    "_defaultOrder": 12,
    "_isFastLaunch": false,
    "category": "General purpose",
    "gpuNum": 0,
    "hideHardwareSpecs": false,
    "memoryGiB": 8,
    "name": "ml.m5d.large",
    "vcpuNum": 2
   },
   {
    "_defaultOrder": 13,
    "_isFastLaunch": false,
    "category": "General purpose",
    "gpuNum": 0,
    "hideHardwareSpecs": false,
    "memoryGiB": 16,
    "name": "ml.m5d.xlarge",
    "vcpuNum": 4
   },
   {
    "_defaultOrder": 14,
    "_isFastLaunch": false,
    "category": "General purpose",
    "gpuNum": 0,
    "hideHardwareSpecs": false,
    "memoryGiB": 32,
    "name": "ml.m5d.2xlarge",
    "vcpuNum": 8
   },
   {
    "_defaultOrder": 15,
    "_isFastLaunch": false,
    "category": "General purpose",
    "gpuNum": 0,
    "hideHardwareSpecs": false,
    "memoryGiB": 64,
    "name": "ml.m5d.4xlarge",
    "vcpuNum": 16
   },
   {
    "_defaultOrder": 16,
    "_isFastLaunch": false,
    "category": "General purpose",
    "gpuNum": 0,
    "hideHardwareSpecs": false,
    "memoryGiB": 128,
    "name": "ml.m5d.8xlarge",
    "vcpuNum": 32
   },
   {
    "_defaultOrder": 17,
    "_isFastLaunch": false,
    "category": "General purpose",
    "gpuNum": 0,
    "hideHardwareSpecs": false,
    "memoryGiB": 192,
    "name": "ml.m5d.12xlarge",
    "vcpuNum": 48
   },
   {
    "_defaultOrder": 18,
    "_isFastLaunch": false,
    "category": "General purpose",
    "gpuNum": 0,
    "hideHardwareSpecs": false,
    "memoryGiB": 256,
    "name": "ml.m5d.16xlarge",
    "vcpuNum": 64
   },
   {
    "_defaultOrder": 19,
    "_isFastLaunch": false,
    "category": "General purpose",
    "gpuNum": 0,
    "hideHardwareSpecs": false,
    "memoryGiB": 384,
    "name": "ml.m5d.24xlarge",
    "vcpuNum": 96
   },
   {
    "_defaultOrder": 20,
    "_isFastLaunch": false,
    "category": "General purpose",
    "gpuNum": 0,
    "hideHardwareSpecs": true,
    "memoryGiB": 0,
    "name": "ml.geospatial.interactive",
    "supportedImageNames": [
     "sagemaker-geospatial-v1-0"
    ],
    "vcpuNum": 0
   },
   {
    "_defaultOrder": 21,
    "_isFastLaunch": true,
    "category": "Compute optimized",
    "gpuNum": 0,
    "hideHardwareSpecs": false,
    "memoryGiB": 4,
    "name": "ml.c5.large",
    "vcpuNum": 2
   },
   {
    "_defaultOrder": 22,
    "_isFastLaunch": false,
    "category": "Compute optimized",
    "gpuNum": 0,
    "hideHardwareSpecs": false,
    "memoryGiB": 8,
    "name": "ml.c5.xlarge",
    "vcpuNum": 4
   },
   {
    "_defaultOrder": 23,
    "_isFastLaunch": false,
    "category": "Compute optimized",
    "gpuNum": 0,
    "hideHardwareSpecs": false,
    "memoryGiB": 16,
    "name": "ml.c5.2xlarge",
    "vcpuNum": 8
   },
   {
    "_defaultOrder": 24,
    "_isFastLaunch": false,
    "category": "Compute optimized",
    "gpuNum": 0,
    "hideHardwareSpecs": false,
    "memoryGiB": 32,
    "name": "ml.c5.4xlarge",
    "vcpuNum": 16
   },
   {
    "_defaultOrder": 25,
    "_isFastLaunch": false,
    "category": "Compute optimized",
    "gpuNum": 0,
    "hideHardwareSpecs": false,
    "memoryGiB": 72,
    "name": "ml.c5.9xlarge",
    "vcpuNum": 36
   },
   {
    "_defaultOrder": 26,
    "_isFastLaunch": false,
    "category": "Compute optimized",
    "gpuNum": 0,
    "hideHardwareSpecs": false,
    "memoryGiB": 96,
    "name": "ml.c5.12xlarge",
    "vcpuNum": 48
   },
   {
    "_defaultOrder": 27,
    "_isFastLaunch": false,
    "category": "Compute optimized",
    "gpuNum": 0,
    "hideHardwareSpecs": false,
    "memoryGiB": 144,
    "name": "ml.c5.18xlarge",
    "vcpuNum": 72
   },
   {
    "_defaultOrder": 28,
    "_isFastLaunch": false,
    "category": "Compute optimized",
    "gpuNum": 0,
    "hideHardwareSpecs": false,
    "memoryGiB": 192,
    "name": "ml.c5.24xlarge",
    "vcpuNum": 96
   },
   {
    "_defaultOrder": 29,
    "_isFastLaunch": true,
    "category": "Accelerated computing",
    "gpuNum": 1,
    "hideHardwareSpecs": false,
    "memoryGiB": 16,
    "name": "ml.g4dn.xlarge",
    "vcpuNum": 4
   },
   {
    "_defaultOrder": 30,
    "_isFastLaunch": false,
    "category": "Accelerated computing",
    "gpuNum": 1,
    "hideHardwareSpecs": false,
    "memoryGiB": 32,
    "name": "ml.g4dn.2xlarge",
    "vcpuNum": 8
   },
   {
    "_defaultOrder": 31,
    "_isFastLaunch": false,
    "category": "Accelerated computing",
    "gpuNum": 1,
    "hideHardwareSpecs": false,
    "memoryGiB": 64,
    "name": "ml.g4dn.4xlarge",
    "vcpuNum": 16
   },
   {
    "_defaultOrder": 32,
    "_isFastLaunch": false,
    "category": "Accelerated computing",
    "gpuNum": 1,
    "hideHardwareSpecs": false,
    "memoryGiB": 128,
    "name": "ml.g4dn.8xlarge",
    "vcpuNum": 32
   },
   {
    "_defaultOrder": 33,
    "_isFastLaunch": false,
    "category": "Accelerated computing",
    "gpuNum": 4,
    "hideHardwareSpecs": false,
    "memoryGiB": 192,
    "name": "ml.g4dn.12xlarge",
    "vcpuNum": 48
   },
   {
    "_defaultOrder": 34,
    "_isFastLaunch": false,
    "category": "Accelerated computing",
    "gpuNum": 1,
    "hideHardwareSpecs": false,
    "memoryGiB": 256,
    "name": "ml.g4dn.16xlarge",
    "vcpuNum": 64
   },
   {
    "_defaultOrder": 35,
    "_isFastLaunch": false,
    "category": "Accelerated computing",
    "gpuNum": 1,
    "hideHardwareSpecs": false,
    "memoryGiB": 61,
    "name": "ml.p3.2xlarge",
    "vcpuNum": 8
   },
   {
    "_defaultOrder": 36,
    "_isFastLaunch": false,
    "category": "Accelerated computing",
    "gpuNum": 4,
    "hideHardwareSpecs": false,
    "memoryGiB": 244,
    "name": "ml.p3.8xlarge",
    "vcpuNum": 32
   },
   {
    "_defaultOrder": 37,
    "_isFastLaunch": false,
    "category": "Accelerated computing",
    "gpuNum": 8,
    "hideHardwareSpecs": false,
    "memoryGiB": 488,
    "name": "ml.p3.16xlarge",
    "vcpuNum": 64
   },
   {
    "_defaultOrder": 38,
    "_isFastLaunch": false,
    "category": "Accelerated computing",
    "gpuNum": 8,
    "hideHardwareSpecs": false,
    "memoryGiB": 768,
    "name": "ml.p3dn.24xlarge",
    "vcpuNum": 96
   },
   {
    "_defaultOrder": 39,
    "_isFastLaunch": false,
    "category": "Memory Optimized",
    "gpuNum": 0,
    "hideHardwareSpecs": false,
    "memoryGiB": 16,
    "name": "ml.r5.large",
    "vcpuNum": 2
   },
   {
    "_defaultOrder": 40,
    "_isFastLaunch": false,
    "category": "Memory Optimized",
    "gpuNum": 0,
    "hideHardwareSpecs": false,
    "memoryGiB": 32,
    "name": "ml.r5.xlarge",
    "vcpuNum": 4
   },
   {
    "_defaultOrder": 41,
    "_isFastLaunch": false,
    "category": "Memory Optimized",
    "gpuNum": 0,
    "hideHardwareSpecs": false,
    "memoryGiB": 64,
    "name": "ml.r5.2xlarge",
    "vcpuNum": 8
   },
   {
    "_defaultOrder": 42,
    "_isFastLaunch": false,
    "category": "Memory Optimized",
    "gpuNum": 0,
    "hideHardwareSpecs": false,
    "memoryGiB": 128,
    "name": "ml.r5.4xlarge",
    "vcpuNum": 16
   },
   {
    "_defaultOrder": 43,
    "_isFastLaunch": false,
    "category": "Memory Optimized",
    "gpuNum": 0,
    "hideHardwareSpecs": false,
    "memoryGiB": 256,
    "name": "ml.r5.8xlarge",
    "vcpuNum": 32
   },
   {
    "_defaultOrder": 44,
    "_isFastLaunch": false,
    "category": "Memory Optimized",
    "gpuNum": 0,
    "hideHardwareSpecs": false,
    "memoryGiB": 384,
    "name": "ml.r5.12xlarge",
    "vcpuNum": 48
   },
   {
    "_defaultOrder": 45,
    "_isFastLaunch": false,
    "category": "Memory Optimized",
    "gpuNum": 0,
    "hideHardwareSpecs": false,
    "memoryGiB": 512,
    "name": "ml.r5.16xlarge",
    "vcpuNum": 64
   },
   {
    "_defaultOrder": 46,
    "_isFastLaunch": false,
    "category": "Memory Optimized",
    "gpuNum": 0,
    "hideHardwareSpecs": false,
    "memoryGiB": 768,
    "name": "ml.r5.24xlarge",
    "vcpuNum": 96
   },
   {
    "_defaultOrder": 47,
    "_isFastLaunch": false,
    "category": "Accelerated computing",
    "gpuNum": 1,
    "hideHardwareSpecs": false,
    "memoryGiB": 16,
    "name": "ml.g5.xlarge",
    "vcpuNum": 4
   },
   {
    "_defaultOrder": 48,
    "_isFastLaunch": false,
    "category": "Accelerated computing",
    "gpuNum": 1,
    "hideHardwareSpecs": false,
    "memoryGiB": 32,
    "name": "ml.g5.2xlarge",
    "vcpuNum": 8
   },
   {
    "_defaultOrder": 49,
    "_isFastLaunch": false,
    "category": "Accelerated computing",
    "gpuNum": 1,
    "hideHardwareSpecs": false,
    "memoryGiB": 64,
    "name": "ml.g5.4xlarge",
    "vcpuNum": 16
   },
   {
    "_defaultOrder": 50,
    "_isFastLaunch": false,
    "category": "Accelerated computing",
    "gpuNum": 1,
    "hideHardwareSpecs": false,
    "memoryGiB": 128,
    "name": "ml.g5.8xlarge",
    "vcpuNum": 32
   },
   {
    "_defaultOrder": 51,
    "_isFastLaunch": false,
    "category": "Accelerated computing",
    "gpuNum": 1,
    "hideHardwareSpecs": false,
    "memoryGiB": 256,
    "name": "ml.g5.16xlarge",
    "vcpuNum": 64
   },
   {
    "_defaultOrder": 52,
    "_isFastLaunch": false,
    "category": "Accelerated computing",
    "gpuNum": 4,
    "hideHardwareSpecs": false,
    "memoryGiB": 192,
    "name": "ml.g5.12xlarge",
    "vcpuNum": 48
   },
   {
    "_defaultOrder": 53,
    "_isFastLaunch": false,
    "category": "Accelerated computing",
    "gpuNum": 4,
    "hideHardwareSpecs": false,
    "memoryGiB": 384,
    "name": "ml.g5.24xlarge",
    "vcpuNum": 96
   },
   {
    "_defaultOrder": 54,
    "_isFastLaunch": false,
    "category": "Accelerated computing",
    "gpuNum": 8,
    "hideHardwareSpecs": false,
    "memoryGiB": 768,
    "name": "ml.g5.48xlarge",
    "vcpuNum": 192
   },
   {
    "_defaultOrder": 55,
    "_isFastLaunch": false,
    "category": "Accelerated computing",
    "gpuNum": 8,
    "hideHardwareSpecs": false,
    "memoryGiB": 1152,
    "name": "ml.p4d.24xlarge",
    "vcpuNum": 96
   },
   {
    "_defaultOrder": 56,
    "_isFastLaunch": false,
    "category": "Accelerated computing",
    "gpuNum": 8,
    "hideHardwareSpecs": false,
    "memoryGiB": 1152,
    "name": "ml.p4de.24xlarge",
    "vcpuNum": 96
   }
  ],
  "instance_type": "ml.t3.medium",
  "kernelspec": {
   "display_name": "Python 3 (Data Science)",
   "language": "python",
   "name": "python3__SAGEMAKER_INTERNAL__arn:aws:sagemaker:ap-southeast-2:452832661640:image/datascience-1.0"
  },
  "language_info": {
   "codemirror_mode": {
    "name": "ipython",
    "version": 3
   },
   "file_extension": ".py",
   "mimetype": "text/x-python",
   "name": "python",
   "nbconvert_exporter": "python",
   "pygments_lexer": "ipython3",
   "version": "3.7.10"
  }
 },
 "nbformat": 4,
 "nbformat_minor": 5
}
