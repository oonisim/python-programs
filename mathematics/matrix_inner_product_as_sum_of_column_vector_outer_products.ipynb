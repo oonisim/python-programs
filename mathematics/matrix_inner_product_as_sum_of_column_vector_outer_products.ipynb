{
 "cells": [
  {
   "cell_type": "markdown",
   "id": "eae824c5",
   "metadata": {},
   "source": [
    "# Inner Product is expressed with column outer products\n",
    "\n",
    "<img src=\"inner_product_as_sum_of_column_vector_outer_products.JPG\" align=\"left\"/>"
   ]
  },
  {
   "cell_type": "code",
   "execution_count": 5,
   "id": "ed313c9e",
   "metadata": {},
   "outputs": [],
   "source": [
    "import numpy as np\n",
    "np.set_printoptions(suppress=True)"
   ]
  },
  {
   "cell_type": "code",
   "execution_count": 39,
   "id": "9226fe47",
   "metadata": {},
   "outputs": [],
   "source": [
    "A = np.array([\n",
    "    [1, -0.8],\n",
    "    [0, 1],\n",
    "    [1, 0]\n",
    "])"
   ]
  },
  {
   "cell_type": "code",
   "execution_count": 47,
   "id": "e1161adc",
   "metadata": {},
   "outputs": [],
   "source": [
    "U, s, VT = np.linalg.svd(A)\n",
    "V = VT.T"
   ]
  },
  {
   "cell_type": "code",
   "execution_count": 48,
   "id": "37670b56",
   "metadata": {},
   "outputs": [
    {
     "name": "stdout",
     "output_type": "stream",
     "text": [
      "[[-0.78817011  0.         -0.61545745]\n",
      " [ 0.38447322 -0.78086881 -0.49236596]\n",
      " [-0.48059153 -0.62469505  0.61545745]]\n",
      "[[-0.78086881  0.62469505]\n",
      " [-0.62469505 -0.78086881]]\n",
      "[1.62480768 1.        ]\n"
     ]
    }
   ],
   "source": [
    "print(U)\n",
    "print(VT)\n",
    "print(s)"
   ]
  },
  {
   "cell_type": "code",
   "execution_count": 49,
   "id": "7b381624",
   "metadata": {},
   "outputs": [],
   "source": [
    "S = np.r_[\n",
    "    np.eye(2) * s,\n",
    "    [[0, 0]]\n",
    "]"
   ]
  },
  {
   "cell_type": "code",
   "execution_count": 50,
   "id": "f80d12c3",
   "metadata": {},
   "outputs": [
    {
     "data": {
      "text/plain": [
       "array([[1.62480768, 0.        ],\n",
       "       [0.        , 1.        ],\n",
       "       [0.        , 0.        ]])"
      ]
     },
     "execution_count": 50,
     "metadata": {},
     "output_type": "execute_result"
    }
   ],
   "source": [
    "S"
   ]
  },
  {
   "cell_type": "markdown",
   "id": "f115e108",
   "metadata": {},
   "source": [
    "---\n",
    "# Inner product $U \\cdot S \\cdot V^T$"
   ]
  },
  {
   "cell_type": "code",
   "execution_count": 51,
   "id": "35aa8ef3",
   "metadata": {},
   "outputs": [
    {
     "data": {
      "text/plain": [
       "array([[ 1. , -0.8],\n",
       "       [-0. ,  1. ],\n",
       "       [ 1. ,  0. ]])"
      ]
     },
     "execution_count": 51,
     "metadata": {},
     "output_type": "execute_result"
    }
   ],
   "source": [
    "U @ S @ VT"
   ]
  },
  {
   "cell_type": "code",
   "execution_count": 46,
   "id": "d8b370d5",
   "metadata": {},
   "outputs": [
    {
     "data": {
      "text/plain": [
       "array([[-1.28062485,  0.        ],\n",
       "       [ 0.62469505, -0.78086881],\n",
       "       [-0.78086881, -0.62469505]])"
      ]
     },
     "execution_count": 46,
     "metadata": {},
     "output_type": "execute_result"
    }
   ],
   "source": [
    "US = U @ S\n",
    "US"
   ]
  },
  {
   "cell_type": "markdown",
   "id": "3bfbe488",
   "metadata": {},
   "source": [
    "# Inner product $US \\cdot V^T$ as $\\sum US[:, i] \\otimes V[:, i]^T$"
   ]
  },
  {
   "cell_type": "code",
   "execution_count": 52,
   "id": "dad8ba45",
   "metadata": {},
   "outputs": [],
   "source": [
    "u0 = US[:, 0]\n",
    "u1 = US[:, 1]\n",
    "v0t = V[:, 0].T\n",
    "v1t = V[:, 1].T"
   ]
  },
  {
   "cell_type": "code",
   "execution_count": 59,
   "id": "1284131f",
   "metadata": {},
   "outputs": [
    {
     "data": {
      "text/plain": [
       "array([[ 1.        , -0.8       ],\n",
       "       [-0.48780488,  0.3902439 ],\n",
       "       [ 0.6097561 , -0.48780488]])"
      ]
     },
     "execution_count": 59,
     "metadata": {},
     "output_type": "execute_result"
    }
   ],
   "source": [
    "u0_v0t = np.outer(u0, v0t)\n",
    "u0_v0t"
   ]
  },
  {
   "cell_type": "code",
   "execution_count": 61,
   "id": "c99948aa",
   "metadata": {},
   "outputs": [
    {
     "data": {
      "text/plain": [
       "array([[-0.        , -0.        ],\n",
       "       [ 0.48780488,  0.6097561 ],\n",
       "       [ 0.3902439 ,  0.48780488]])"
      ]
     },
     "execution_count": 61,
     "metadata": {},
     "output_type": "execute_result"
    }
   ],
   "source": [
    "u1_v1t = np.outer(u1, v1t)\n",
    "u1_v1t"
   ]
  },
  {
   "cell_type": "code",
   "execution_count": 67,
   "id": "ab36f3bd",
   "metadata": {},
   "outputs": [
    {
     "data": {
      "text/plain": [
       "array([[ 1. , -0.8],\n",
       "       [-0. ,  1. ],\n",
       "       [ 1. ,  0. ]])"
      ]
     },
     "execution_count": 67,
     "metadata": {},
     "output_type": "execute_result"
    }
   ],
   "source": [
    "np.add(u0_v0t, u1_v1t)"
   ]
  },
  {
   "cell_type": "code",
   "execution_count": null,
   "id": "52d9911a",
   "metadata": {},
   "outputs": [],
   "source": [
    " "
   ]
  }
 ],
 "metadata": {
  "kernelspec": {
   "display_name": "Python 3 (ipykernel)",
   "language": "python",
   "name": "python3"
  },
  "language_info": {
   "codemirror_mode": {
    "name": "ipython",
    "version": 3
   },
   "file_extension": ".py",
   "mimetype": "text/x-python",
   "name": "python",
   "nbconvert_exporter": "python",
   "pygments_lexer": "ipython3",
   "version": "3.9.12"
  }
 },
 "nbformat": 4,
 "nbformat_minor": 5
}
