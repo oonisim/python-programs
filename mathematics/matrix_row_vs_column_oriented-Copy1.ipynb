{
 "cells": [
  {
   "cell_type": "code",
   "execution_count": 12,
   "id": "19785c51",
   "metadata": {},
   "outputs": [],
   "source": [
    "import matplotlib.pyplot as plt"
   ]
  },
  {
   "cell_type": "code",
   "execution_count": 13,
   "id": "11bb348e",
   "metadata": {},
   "outputs": [
    {
     "data": {
      "text/plain": [
       "array([[ 1,  2,  3,  4],\n",
       "       [ 5,  6,  7,  8],\n",
       "       [ 9, 10, 11, 12]])"
      ]
     },
     "execution_count": 13,
     "metadata": {},
     "output_type": "execute_result"
    }
   ],
   "source": [
    "import numpy as np\n",
    "X = np.array(list(range(1, 13))).reshape(3, 4)\n",
    "X"
   ]
  },
  {
   "cell_type": "code",
   "execution_count": 14,
   "id": "cfaf1be6",
   "metadata": {},
   "outputs": [],
   "source": [
    "THETA = np.pi / 12"
   ]
  },
  {
   "cell_type": "markdown",
   "id": "7d320f7b",
   "metadata": {},
   "source": [
    "# Eigen Decomposition"
   ]
  },
  {
   "cell_type": "markdown",
   "id": "c7ba39c3",
   "metadata": {},
   "source": [
    "## Eigen vector matrix P\n",
    "\n",
    "Define **P** as a row ordered matrix where the row $\\overrightarrow{\\boldsymbol{p_1}} = \\left [ cos(\\theta), sin(\\theta) \\right ]$ and $\\overrightarrow{\\boldsymbol{p_2}} = \\left [ -sin(\\theta), cos(\\theta) \\right ]$ are eigen vectors.\n",
    "\n",
    "$\\begin{bmatrix}cos(\\theta) & sin(\\theta) \\\\ -sin(\\theta) & cos(\\theta)\\end{bmatrix}$\n",
    "\n"
   ]
  },
  {
   "cell_type": "code",
   "execution_count": 15,
   "id": "f3f7f820",
   "metadata": {},
   "outputs": [],
   "source": [
    "def get_eigen_vector_matrix(theta):\n",
    "    return np.array([\n",
    "        [np.cos(theta), np.sin(theta)],\n",
    "        [-np.sin(theta), np.cos(theta)]\n",
    "    ])"
   ]
  },
  {
   "cell_type": "code",
   "execution_count": 16,
   "id": "a1355dce",
   "metadata": {},
   "outputs": [
    {
     "name": "stdout",
     "output_type": "stream",
     "text": [
      "[[ 0.96592583  0.25881905]\n",
      " [-0.25881905  0.96592583]]\n"
     ]
    }
   ],
   "source": [
    "P = get_eigen_vector_matrix(THETA)\n",
    "print(P)"
   ]
  },
  {
   "cell_type": "markdown",
   "id": "3b67ba23",
   "metadata": {},
   "source": [
    "## Eigen value diagonal matrix D\n",
    "\n",
    "D extends the eigen vector $\\overrightarrow{\\boldsymbol{p_1}}$ for $\\lambda_1$ times and  $\\overrightarrow{\\boldsymbol{p_2}}$ for $\\lambda_2$ times.\n",
    "\n",
    "$D = \\begin{bmatrix}\\lambda_1 & 0 \\\\ 0 & \\lambda_2 \\end{bmatrix}$\n"
   ]
  },
  {
   "cell_type": "code",
   "execution_count": 17,
   "id": "ddcd0e83",
   "metadata": {},
   "outputs": [
    {
     "name": "stdout",
     "output_type": "stream",
     "text": [
      "[[3 0]\n",
      " [0 2]]\n"
     ]
    }
   ],
   "source": [
    "D = np.array([\n",
    "    [3, 0],\n",
    "    [0, 2]\n",
    "])\n",
    "print(D)"
   ]
  },
  {
   "cell_type": "markdown",
   "id": "608d54f2",
   "metadata": {},
   "source": [
    "# Projection Matrix $A = PDP^{-1}$\n",
    "\n",
    "Projection by the matrix $A \\cdot \\begin{bmatrix}x_1 \\\\ x_2 \\end{bmatrix} = P \\cdot D \\cdot P^{-1} \\cdot \\begin{bmatrix}x_1 \\\\ x_2 \\end{bmatrix}$ where:\n",
    "\n",
    "1. $P^{-1} \\cdot x$ maps the coefficients of $x = (x_1, x_2)$ in space **X** in purple into those of $u = (u_1, u_2)$ in space **U** in orange \n",
    "where the eigen vectors $(\\overrightarrow{\\boldsymbol{p_0}}, \\overrightarrow{\\boldsymbol{p_1}})$ are the basis vectors in **U**.\n",
    "2. $D \\cdot u$ extends the coefficent of $\\overrightarrow{\\boldsymbol{p_1}}$ by $\\lambda_1$ times and that of $\\overrightarrow{\\boldsymbol{p_2}}$ by $\\lambda_2$ times as $\\begin{bmatrix}\\lambda_0u_1 \\\\ \\lambda_1u_2 \\end{bmatrix}$.\n",
    "3. $P$ projects $\\begin{bmatrix}\\lambda_1u_1 \\\\ \\lambda_2u_2 \\end{bmatrix}$ back to space **X**."
   ]
  },
  {
   "cell_type": "code",
   "execution_count": 23,
   "id": "81f4be05",
   "metadata": {},
   "outputs": [
    {
     "name": "stdout",
     "output_type": "stream",
     "text": [
      "[[ 2.9330127 -0.25     ]\n",
      " [-0.25       2.0669873]]\n"
     ]
    }
   ],
   "source": [
    "A = P @ D @ np.linalg.inv(P)\n",
    "print(A)"
   ]
  },
  {
   "cell_type": "markdown",
   "id": "f4754880",
   "metadata": {},
   "source": [
    "## Verify the eigen vector matrix P"
   ]
  },
  {
   "cell_type": "code",
   "execution_count": 24,
   "id": "487e42c8",
   "metadata": {},
   "outputs": [
    {
     "name": "stdout",
     "output_type": "stream",
     "text": [
      "[3. 2.]\n",
      "[[ 0.96592583 -0.25881905]\n",
      " [ 0.25881905  0.96592583]]\n"
     ]
    }
   ],
   "source": [
    "l, e = np.linalg.eig(A)\n",
    "print(l)      # eigen values lambda\n",
    "print(e.T)    # eigen vectors e. Transpose to be row oriented"
   ]
  },
  {
   "cell_type": "markdown",
   "id": "15b1ec15",
   "metadata": {},
   "source": [
    "---\n",
    "# Data"
   ]
  },
  {
   "cell_type": "markdown",
   "id": "8febb89a",
   "metadata": {},
   "source": [
    "## Slope"
   ]
  },
  {
   "cell_type": "code",
   "execution_count": 25,
   "id": "ed1ef14e",
   "metadata": {},
   "outputs": [
    {
     "data": {
      "text/plain": [
       "0.2679491924311227"
      ]
     },
     "execution_count": 25,
     "metadata": {},
     "output_type": "execute_result"
    }
   ],
   "source": [
    "slope = np.sin(THETA) / np.cos(THETA)\n",
    "slope"
   ]
  },
  {
   "cell_type": "markdown",
   "id": "268fa814",
   "metadata": {},
   "source": [
    "## Data points X"
   ]
  },
  {
   "cell_type": "code",
   "execution_count": 26,
   "id": "227d7860",
   "metadata": {},
   "outputs": [],
   "source": [
    "buf = []\n",
    "for x in np.linspace(-1, 1):\n",
    "    y = x * slope\n",
    "    deviation = np.random.uniform(0.01, 0.8)\n",
    "    buf.append([x, y * (1+deviation)])\n",
    "    buf.append([x, y * (1-deviation)])\n",
    "    \n",
    "X = np.array(buf)"
   ]
  },
  {
   "cell_type": "code",
   "execution_count": 27,
   "id": "f6e15f06",
   "metadata": {},
   "outputs": [
    {
     "data": {
      "image/png": "[encoded data removed]",
      "text/plain": [
       "<Figure size 640x480 with 1 Axes>"
      ]
     },
     "metadata": {},
     "output_type": "display_data"
    }
   ],
   "source": [
    "plt.scatter(X[:, 0], X[:, 1])\n",
    "plt.xlim(-4, 4)\n",
    "plt.ylim(-1.2, 1.2)\n",
    "plt.grid()"
   ]
  },
  {
   "cell_type": "markdown",
   "id": "b4836709",
   "metadata": {},
   "source": [
    "## Verify slope from X"
   ]
  },
  {
   "cell_type": "code",
   "execution_count": 13,
   "id": "78a00bdc",
   "metadata": {},
   "outputs": [
    {
     "data": {
      "text/plain": [
       "array([[0.35044321, 0.09390097],\n",
       "       [0.09390097, 0.03084116]])"
      ]
     },
     "execution_count": 13,
     "metadata": {},
     "output_type": "execute_result"
    }
   ],
   "source": [
    "C = np.cov(X[:, 0], X[:, 1])\n",
    "C"
   ]
  },
  {
   "cell_type": "code",
   "execution_count": 14,
   "id": "c5edf6aa",
   "metadata": {},
   "outputs": [
    {
     "data": {
      "text/plain": [
       "0.2679491924311229"
      ]
     },
     "execution_count": 14,
     "metadata": {},
     "output_type": "execute_result"
    }
   ],
   "source": [
    "_variance = C[0, 0]     # x0^2\n",
    "_covariance = C[0, 1]   # x0*x1\n",
    "_covariance / _variance # same with slope"
   ]
  },
  {
   "cell_type": "code",
   "execution_count": 49,
   "id": "09c77228",
   "metadata": {},
   "outputs": [
    {
     "data": {
      "text/plain": [
       "0.2679491924311227"
      ]
     },
     "execution_count": 49,
     "metadata": {},
     "output_type": "execute_result"
    }
   ],
   "source": [
    "beta = np.divide(\n",
    "    np.dot(X[:, 0].T, X[:, 1]),\n",
    "    np.dot(X[:, 0].T, X[:, 0]),\n",
    ")\n",
    "beta    # Beta coefficient is the same with slope"
   ]
  },
  {
   "cell_type": "markdown",
   "id": "3aca6d79",
   "metadata": {},
   "source": [
    "## Verify eigen vectors/values from X"
   ]
  },
  {
   "cell_type": "code",
   "execution_count": 15,
   "id": "534c73ff",
   "metadata": {},
   "outputs": [
    {
     "name": "stdout",
     "output_type": "stream",
     "text": [
      "[37.22299592  0.52415668]\n",
      "[[ 0.96492721  0.26251759]\n",
      " [-0.26251759  0.96492721]]\n"
     ]
    }
   ],
   "source": [
    "Xl, Xe = np.linalg.eig(X.T @ X)\n",
    "print(Xl)\n",
    "print(Xe.T)   # Transpose to be row oriented"
   ]
  },
  {
   "cell_type": "markdown",
   "id": "8284d8a5",
   "metadata": {},
   "source": [
    "---\n",
    "# Apply $ED(E^T)^{-1}$"
   ]
  },
  {
   "cell_type": "markdown",
   "id": "5c1da46c",
   "metadata": {},
   "source": [
    "## Projection $(E^T)^{-1} \\cdot X$\n",
    "\n",
    "$(E^T)^{-1}$ projects the data points X into space **U** where the correlation in X is removed."
   ]
  },
  {
   "cell_type": "code",
   "execution_count": 55,
   "id": "0fad5302",
   "metadata": {},
   "outputs": [
    {
     "name": "stdout",
     "output_type": "stream",
     "text": [
      "(2, 2)\n",
      "(2, 100)\n"
     ]
    }
   ],
   "source": [
    "print(np.linalg.inv(E.T).shape)\n",
    "print(X.T.shape)"
   ]
  },
  {
   "cell_type": "code",
   "execution_count": 56,
   "id": "d0e4cee9",
   "metadata": {},
   "outputs": [
    {
     "data": {
      "text/plain": [
       "(100, 2)"
      ]
     },
     "execution_count": 56,
     "metadata": {},
     "output_type": "execute_result"
    }
   ],
   "source": [
    "X_rotated = (np.linalg.inv(E.T) @ X.T).T\n",
    "X_rotated.shape"
   ]
  },
  {
   "cell_type": "code",
   "execution_count": 57,
   "id": "0e30b1c4",
   "metadata": {},
   "outputs": [
    {
     "data": {
      "image/png": "[encoded data removed]",
      "text/plain": [
       "<Figure size 640x480 with 1 Axes>"
      ]
     },
     "metadata": {},
     "output_type": "display_data"
    }
   ],
   "source": [
    "plt.scatter(X_rotated[:, 0], X_rotated[:, 1])\n",
    "plt.xlim(-4, 4)\n",
    "plt.ylim(-1, 1)\n",
    "plt.grid()"
   ]
  },
  {
   "cell_type": "markdown",
   "id": "d2b114b8",
   "metadata": {},
   "source": [
    "## Extension $D \\cdot U$\n",
    "\n",
    "$D$ extends the coefficents $(u_0, u_1)$ to $(\\lambda_0u_0, \\lambda_1u_1)$."
   ]
  },
  {
   "cell_type": "code",
   "execution_count": 58,
   "id": "0f129094",
   "metadata": {},
   "outputs": [
    {
     "data": {
      "text/plain": [
       "(100, 2)"
      ]
     },
     "execution_count": 58,
     "metadata": {},
     "output_type": "execute_result"
    }
   ],
   "source": [
    "X_rorated_extended = (D @ X_rotated.T).T\n",
    "X_rorated_extended.shape"
   ]
  },
  {
   "cell_type": "code",
   "execution_count": 59,
   "id": "ffeb59ca",
   "metadata": {},
   "outputs": [
    {
     "data": {
      "image/png": "[encoded data removed]",
      "text/plain": [
       "<Figure size 640x480 with 1 Axes>"
      ]
     },
     "metadata": {},
     "output_type": "display_data"
    }
   ],
   "source": [
    "plt.scatter(X_rorated_extended[:, 0], X_rorated_extended[:, 1])\n",
    "plt.xlim(-4, 4)\n",
    "plt.ylim(-1.2, 1.2)\n",
    "plt.grid()"
   ]
  },
  {
   "cell_type": "markdown",
   "id": "04d7951f",
   "metadata": {},
   "source": [
    "## Reversion $E^T \\cdot \\lambda U$\n",
    "\n",
    "$E^T$ projects the $\\lambda U$ back to space **X**."
   ]
  },
  {
   "cell_type": "code",
   "execution_count": 60,
   "id": "7fdd6ee8",
   "metadata": {},
   "outputs": [
    {
     "name": "stdout",
     "output_type": "stream",
     "text": [
      "(2, 2)\n",
      "(100, 2)\n"
     ]
    }
   ],
   "source": [
    "print(E.T.shape)\n",
    "print(X_rorated_extended.shape)"
   ]
  },
  {
   "cell_type": "code",
   "execution_count": 61,
   "id": "9b9f395a",
   "metadata": {},
   "outputs": [
    {
     "data": {
      "text/plain": [
       "(100, 2)"
      ]
     },
     "execution_count": 61,
     "metadata": {},
     "output_type": "execute_result"
    }
   ],
   "source": [
    "X_rorated_extended_reversed = (E.T @ X_rorated_extended.T).T\n",
    "X_rorated_extended_reversed.shape"
   ]
  },
  {
   "cell_type": "code",
   "execution_count": 62,
   "id": "08d39c90",
   "metadata": {},
   "outputs": [
    {
     "data": {
      "image/png": "[encoded data removed]",
      "text/plain": [
       "<Figure size 640x480 with 1 Axes>"
      ]
     },
     "metadata": {},
     "output_type": "display_data"
    }
   ],
   "source": [
    "plt.scatter(X_rorated_extended_reversed[:, 0], X_rorated_extended_reversed[:, 1])\n",
    "plt.xlim(-4, 4)\n",
    "plt.ylim(-1.2, 1.2)\n",
    "plt.grid()"
   ]
  },
  {
   "cell_type": "markdown",
   "id": "b74a12d3",
   "metadata": {},
   "source": [
    "---\n",
    "# Apply project matrix A"
   ]
  },
  {
   "cell_type": "code",
   "execution_count": 63,
   "id": "4ab83fad",
   "metadata": {},
   "outputs": [
    {
     "data": {
      "text/plain": [
       "(100, 2)"
      ]
     },
     "execution_count": 63,
     "metadata": {},
     "output_type": "execute_result"
    }
   ],
   "source": [
    "Y = (A @ X.T).T\n",
    "Y.shape"
   ]
  },
  {
   "cell_type": "code",
   "execution_count": 64,
   "id": "cb48b08e",
   "metadata": {},
   "outputs": [
    {
     "data": {
      "image/png": "[encoded data removed]",
      "text/plain": [
       "<Figure size 640x480 with 1 Axes>"
      ]
     },
     "metadata": {},
     "output_type": "display_data"
    }
   ],
   "source": [
    "plt.scatter(Y[:, 0], Y[:, 1])\n",
    "plt.xlim(-4, 4)\n",
    "plt.ylim(-1.2, 1.2)\n",
    "plt.grid()"
   ]
  },
  {
   "cell_type": "code",
   "execution_count": null,
   "id": "f43aa226",
   "metadata": {},
   "outputs": [],
   "source": []
  }
 ],
 "metadata": {
  "kernelspec": {
   "display_name": "Python 3 (ipykernel)",
   "language": "python",
   "name": "python3"
  },
  "language_info": {
   "codemirror_mode": {
    "name": "ipython",
    "version": 3
   },
   "file_extension": ".py",
   "mimetype": "text/x-python",
   "name": "python",
   "nbconvert_exporter": "python",
   "pygments_lexer": "ipython3",
   "version": "3.9.12"
  }
 },
 "nbformat": 4,
 "nbformat_minor": 5
}
