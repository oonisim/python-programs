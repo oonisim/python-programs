{
 "cells": [
  {
   "cell_type": "code",
   "execution_count": 2,
   "id": "19785c51",
   "metadata": {},
   "outputs": [],
   "source": [
    "import matplotlib.pyplot as plt"
   ]
  },
  {
   "cell_type": "code",
   "execution_count": 3,
   "id": "11bb348e",
   "metadata": {},
   "outputs": [
    {
     "data": {
      "text/plain": [
       "array([[ 1,  2,  3,  4],\n",
       "       [ 5,  6,  7,  8],\n",
       "       [ 9, 10, 11, 12]])"
      ]
     },
     "execution_count": 3,
     "metadata": {},
     "output_type": "execute_result"
    }
   ],
   "source": [
    "import numpy as np\n",
    "X = np.array(list(range(1, 13))).reshape(3, 4)\n",
    "X"
   ]
  },
  {
   "cell_type": "code",
   "execution_count": 4,
   "id": "cfaf1be6",
   "metadata": {},
   "outputs": [],
   "source": [
    "THETA = np.pi / 12"
   ]
  },
  {
   "cell_type": "markdown",
   "id": "7d320f7b",
   "metadata": {},
   "source": [
    "# Eigen Decomposition"
   ]
  },
  {
   "cell_type": "markdown",
   "id": "c7ba39c3",
   "metadata": {},
   "source": [
    "## Eigen vector matrix P\n",
    "\n",
    "Define **P** as a row ordered matrix where the row $\\overrightarrow{\\boldsymbol{p_1}} = \\left [ cos(\\theta), sin(\\theta) \\right ]$ and $\\overrightarrow{\\boldsymbol{p_2}} = \\left [ -sin(\\theta), cos(\\theta) \\right ]$ are eigen vectors.\n",
    "\n",
    "$\\begin{bmatrix}cos(\\theta) & sin(\\theta) \\\\ -sin(\\theta) & cos(\\theta)\\end{bmatrix}$\n",
    "\n"
   ]
  },
  {
   "cell_type": "code",
   "execution_count": 5,
   "id": "f3f7f820",
   "metadata": {},
   "outputs": [],
   "source": [
    "def get_eigen_vector_matrix(theta):\n",
    "    return np.array([\n",
    "        [np.cos(theta), np.sin(theta)],\n",
    "        [-np.sin(theta), np.cos(theta)]\n",
    "    ])"
   ]
  },
  {
   "cell_type": "code",
   "execution_count": 6,
   "id": "a1355dce",
   "metadata": {},
   "outputs": [
    {
     "name": "stdout",
     "output_type": "stream",
     "text": [
      "[[ 0.96592583  0.25881905]\n",
      " [-0.25881905  0.96592583]]\n"
     ]
    }
   ],
   "source": [
    "P = get_eigen_vector_matrix(THETA)\n",
    "print(P)"
   ]
  },
  {
   "cell_type": "markdown",
   "id": "3b67ba23",
   "metadata": {},
   "source": [
    "## Eigen value diagonal matrix D\n",
    "\n",
    "D extends the eigen vector $\\overrightarrow{\\boldsymbol{p_1}}$ for $\\lambda_1$ times and  $\\overrightarrow{\\boldsymbol{p_2}}$ for $\\lambda_2$ times.\n",
    "\n",
    "$D = \\begin{bmatrix}\\lambda_1 & 0 \\\\ 0 & \\lambda_2 \\end{bmatrix}$\n"
   ]
  },
  {
   "cell_type": "code",
   "execution_count": 7,
   "id": "ddcd0e83",
   "metadata": {},
   "outputs": [
    {
     "name": "stdout",
     "output_type": "stream",
     "text": [
      "[[3 0]\n",
      " [0 2]]\n"
     ]
    }
   ],
   "source": [
    "D = np.array([\n",
    "    [3, 0],\n",
    "    [0, 2]\n",
    "])\n",
    "print(D)"
   ]
  },
  {
   "cell_type": "markdown",
   "id": "608d54f2",
   "metadata": {},
   "source": [
    "# Projection Matrix $A = PDP^{-1}$\n",
    "\n",
    "Generate **A** from **P** and **D**.\n",
    "\n",
    "Projection by the matrix $A \\cdot \\begin{bmatrix}x_1 \\\\ x_2 \\end{bmatrix} = P \\cdot D \\cdot P^{-1} \\cdot \\begin{bmatrix}x_1 \\\\ x_2 \\end{bmatrix}$ where:\n",
    "\n",
    "1. $P^{-1} \\cdot x$ maps the coefficients of $x = (x_1, x_2)$ in space **X** in purple into those of $u = (u_1, u_2)$ in space **U** in orange \n",
    "where the eigen vectors $(\\overrightarrow{\\boldsymbol{p_1}}, \\overrightarrow{\\boldsymbol{p_2}})$ are the basis vectors in **U**.\n",
    "2. $D \\cdot u$ extends the coefficent of $\\overrightarrow{\\boldsymbol{p_1}}$ by $\\lambda_1$ times and that of $\\overrightarrow{\\boldsymbol{p_2}}$ by $\\lambda_2$ times as $\\begin{bmatrix}\\lambda_1u_1 \\\\ \\lambda_2u_2 \\end{bmatrix}$.\n",
    "3. $P$ projects $\\begin{bmatrix}\\lambda_1u_1 \\\\ \\lambda_2u_2 \\end{bmatrix}$ back to space **X**.\n"
   ]
  },
  {
   "cell_type": "code",
   "execution_count": 12,
   "id": "81f4be05",
   "metadata": {},
   "outputs": [
    {
     "name": "stdout",
     "output_type": "stream",
     "text": [
      "[[ 2.9330127 -0.25     ]\n",
      " [-0.25       2.0669873]]\n"
     ]
    }
   ],
   "source": [
    "A = P @ D @ np.linalg.inv(P)\n",
    "print(A)"
   ]
  },
  {
   "cell_type": "markdown",
   "id": "f4754880",
   "metadata": {},
   "source": [
    "## Verify the eigen vector matrix P"
   ]
  },
  {
   "cell_type": "code",
   "execution_count": 13,
   "id": "487e42c8",
   "metadata": {
    "scrolled": true
   },
   "outputs": [
    {
     "name": "stdout",
     "output_type": "stream",
     "text": [
      "[3. 2.]\n",
      "[[ 0.96592583 -0.25881905]\n",
      " [ 0.25881905  0.96592583]]\n"
     ]
    }
   ],
   "source": [
    "l, e = np.linalg.eig(A)\n",
    "print(l)      # eigen values lambda\n",
    "print(e.T)    # eigen vectors e. Transpose to be row oriented"
   ]
  },
  {
   "cell_type": "markdown",
   "id": "688ad201",
   "metadata": {},
   "source": [
    "---"
   ]
  },
  {
   "cell_type": "markdown",
   "id": "b11a45d1",
   "metadata": {},
   "source": [
    "# Projection Matrix $A = P^TD(P^T)^{-1}$"
   ]
  },
  {
   "cell_type": "code",
   "execution_count": 14,
   "id": "836a990a",
   "metadata": {},
   "outputs": [
    {
     "name": "stdout",
     "output_type": "stream",
     "text": [
      "[[2.9330127 0.25     ]\n",
      " [0.25      2.0669873]]\n"
     ]
    }
   ],
   "source": [
    "_A = P.T @ D @ np.linalg.inv(P.T)\n",
    "print(_A)"
   ]
  },
  {
   "cell_type": "markdown",
   "id": "97ddf255",
   "metadata": {},
   "source": [
    "## Verify the eigen vector matrix $P^T$"
   ]
  },
  {
   "cell_type": "code",
   "execution_count": 15,
   "id": "c5c87c3e",
   "metadata": {
    "scrolled": true
   },
   "outputs": [
    {
     "name": "stdout",
     "output_type": "stream",
     "text": [
      "[3. 2.]\n",
      "[[ 0.96592583  0.25881905]\n",
      " [-0.25881905  0.96592583]]\n"
     ]
    }
   ],
   "source": [
    "_l, _e = np.linalg.eig(_A)\n",
    "print(_l)      # eigen values lambda\n",
    "print(_e.T)    # eigen vectors e. Transpose to be row oriented"
   ]
  }
 ],
 "metadata": {
  "kernelspec": {
   "display_name": "Python 3 (ipykernel)",
   "language": "python",
   "name": "python3"
  },
  "language_info": {
   "codemirror_mode": {
    "name": "ipython",
    "version": 3
   },
   "file_extension": ".py",
   "mimetype": "text/x-python",
   "name": "python",
   "nbconvert_exporter": "python",
   "pygments_lexer": "ipython3",
   "version": "3.9.12"
  }
 },
 "nbformat": 4,
 "nbformat_minor": 5
}
