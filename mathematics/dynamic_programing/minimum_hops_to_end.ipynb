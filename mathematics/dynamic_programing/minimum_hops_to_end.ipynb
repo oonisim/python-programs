{
 "cells": [
  {
   "cell_type": "markdown",
   "id": "884717cf",
   "metadata": {},
   "source": [
    "# Dynamic Programming - Minimum hops to end\n",
    "\n",
    "* [Count minimum number of fountains to be activated to cover the entire garden](https://www.geeksforgeeks.org/count-minimum-number-of-fountains-to-be-activated-to-cover-the-entire-garden/)\n",
    "\n",
    "* [Minimum Number of Taps to Open to Water a Garden](https://leetcode.com/problems/minimum-number-of-taps-to-open-to-water-a-garden/)\n",
    "\n",
    "* [Minimum Number of Jumps](https://www.interviewbit.com/blog/minimum-number-of-jumps/)\n",
    "* [Minimum number of Jumps to reach End](https://www.enjoyalgorithms.com/blog/minimum-number-of-jumps-to-reach-end)\n",
    "* [4 Principle of Optimality - Dynamic Programming introduction](https://www.youtube.com/watch?v=5dRGRueKU3M)\n",
    "\n",
    "## Time Complexity\n",
    "\n",
    "\n",
    "## Algorithm\n",
    "\n",
    "\n",
    "If we can reach the **END** only from ```k```, and minimum hops to get to ```k``` is ```M[k]```, then the minimum hops to get to the **END** is ```M[k]+1```.\n",
    "\n",
    "<img src=\"./image/minimum_fountains_to_activate.jpg\" align=\"left\"/>"
   ]
  },
  {
   "cell_type": "code",
   "execution_count": 17,
   "id": "d21342e5",
   "metadata": {},
   "outputs": [],
   "source": [
    "from random import randint\n",
    "import numpy as np"
   ]
  },
  {
   "cell_type": "code",
   "execution_count": 18,
   "id": "4c9d8dbe",
   "metadata": {},
   "outputs": [
    {
     "data": {
      "text/plain": [
       "[3, 4, 6, 7, 5, 7, 4, 9, 3, 9]"
      ]
     },
     "execution_count": 18,
     "metadata": {},
     "output_type": "execute_result"
    }
   ],
   "source": [
    "N = 10\n",
    "E = [randint(0, 9) for p in range(0, N)]\n",
    "E"
   ]
  },
  {
   "cell_type": "markdown",
   "id": "b708fcd4",
   "metadata": {},
   "source": [
    "# Dynamic programing\n",
    "\n",
    "Find the longest increasing sequence in the list."
   ]
  },
  {
   "cell_type": "code",
   "execution_count": 19,
   "id": "b56c9284",
   "metadata": {},
   "outputs": [],
   "source": [
    "def get_minimum_hops(intervals):\n",
    "    \"\"\"Get the length of increasing sequence from each positin in the intervals\n",
    "    Args:\n",
    "        intervals: List of intervals\n",
    "    Returns: List of increasing sequence lengths\n",
    "    \"\"\"\n",
    "    assert isinstance(intervals, list) and len(intervals) > 0\n",
    "    n = len(intervals)\n",
    "    \n",
    "    # --------------------------------------------------------------------------------\n",
    "    # M[i] : Minimum hops to reach position i \n",
    "    # --------------------------------------------------------------------------------\n",
    "    M = [np.inf] * n\n",
    "    M[0] = 0    # Mimum hops to get from position 0 to 0 is 0.\n",
    "    \n",
    "    # --------------------------------------------------------------------------------\n",
    "    # Traverse the top to the 2nd last element (n-2).\n",
    "    # --------------------------------------------------------------------------------\n",
    "    for i in range(0, n-1):\n",
    "        # --------------------------------------------------------------------------------\n",
    "        # Update the minimum hops get to the position j\n",
    "        # --------------------------------------------------------------------------------\n",
    "        for j in range(i+1, min(i+intervals[i], n-1)+1):\n",
    "            M[j] = min([M[j], M[i]+1])\n",
    "            \n",
    "    return M[n-1]"
   ]
  },
  {
   "cell_type": "code",
   "execution_count": 20,
   "id": "c3c79193",
   "metadata": {},
   "outputs": [
    {
     "data": {
      "text/plain": [
       "2"
      ]
     },
     "execution_count": 20,
     "metadata": {},
     "output_type": "execute_result"
    }
   ],
   "source": [
    "M = get_minimum_hops(E)\n",
    "M"
   ]
  }
 ],
 "metadata": {
  "kernelspec": {
   "display_name": "Python 3 (ipykernel)",
   "language": "python",
   "name": "python3"
  },
  "language_info": {
   "codemirror_mode": {
    "name": "ipython",
    "version": 3
   },
   "file_extension": ".py",
   "mimetype": "text/x-python",
   "name": "python",
   "nbconvert_exporter": "python",
   "pygments_lexer": "ipython3",
   "version": "3.8.10"
  }
 },
 "nbformat": 4,
 "nbformat_minor": 5
}
