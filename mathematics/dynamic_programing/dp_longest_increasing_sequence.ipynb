{
 "cells": [
  {
   "cell_type": "markdown",
   "id": "884717cf",
   "metadata": {},
   "source": [
    "# Dynamic Programming - Longest Increasing Subsequence\n",
    "\n",
    "* [Longest Increasing Subsequence - Dynamic Programming - Leetcode 300](https://www.youtube.com/watch?v=cjWnW0hdF1Y)\n",
    "\n",
    "\n",
    "## Time Complexity\n",
    "\n",
    "Each element traverses through the right side of the element, hence $T(N) = \\sum _{i=0}^{N-1} (N-i) = \\frac {N(N-1)}{2}$, therefore $O(N^2)$.\n",
    "\n",
    "## Algorithm\n",
    "<img src=\"./image/longest_increasing_sequence.jpg\" align=\"left\"/>"
   ]
  },
  {
   "cell_type": "code",
   "execution_count": 26,
   "id": "d21342e5",
   "metadata": {},
   "outputs": [],
   "source": [
    "from random import randint"
   ]
  },
  {
   "cell_type": "code",
   "execution_count": 2,
   "id": "4c9d8dbe",
   "metadata": {},
   "outputs": [
    {
     "data": {
      "text/plain": [
       "[3, 5, 1, 0, 4, 1, 8, 2, 1, 9]"
      ]
     },
     "execution_count": 2,
     "metadata": {},
     "output_type": "execute_result"
    }
   ],
   "source": [
    "N = 10\n",
    "E = [randint(0, 9) for p in range(0, N)]\n",
    "E"
   ]
  },
  {
   "cell_type": "markdown",
   "id": "b708fcd4",
   "metadata": {},
   "source": [
    "# Dynamic programing\n",
    "\n",
    "Find the longest increasing sequence in the list."
   ]
  },
  {
   "cell_type": "code",
   "execution_count": 19,
   "id": "b56c9284",
   "metadata": {},
   "outputs": [],
   "source": [
    "def get_increasing_sequence_lengths(elements):\n",
    "    \"\"\"Get the length of increasing sequence from each positin in the elements\n",
    "    Args:\n",
    "        elements: List of elements\n",
    "    Returns: List of increasing sequence lengths\n",
    "    \"\"\"\n",
    "    assert isinstance(elements, list) and len(elements) > 0\n",
    "    n = len(elements)\n",
    "\n",
    "    # --------------------------------------------------------------------------------\n",
    "    # Longest increasing sequence from each element position.\n",
    "    # An element itself is a sequence of length 1\n",
    "    # --------------------------------------------------------------------------------\n",
    "    _LIS = [1] * n\n",
    "    \n",
    "    # --------------------------------------------------------------------------------\n",
    "    # Traverse backward from the 2nd last element (n-2).\n",
    "    # --------------------------------------------------------------------------------\n",
    "    for i in range(0, n-1)[::-1]:\n",
    "        # --------------------------------------------------------------------------------\n",
    "        # Get the longest increasing sequence from the element starting at i-th position in the elements.\n",
    "        # --------------------------------------------------------------------------------\n",
    "        candidates = [\n",
    "            # --------------------------------------------------------------------------------\n",
    "            # Comparing with all the elements to the right to find the increasing element.\n",
    "            # If increasing element is found at k, (1+_LIS[k]) is a candadate for _LIS[i],\n",
    "            # --------------------------------------------------------------------------------\n",
    "            (1 + _LIS[k]) for k in range(i+1, n) if elements[k] > elements[i]\n",
    "        ]\n",
    "        _LIS[i] = max(candidates) if len(candidates) > 0 else 1\n",
    "            \n",
    "    return _LIS"
   ]
  },
  {
   "cell_type": "code",
   "execution_count": 23,
   "id": "c3c79193",
   "metadata": {},
   "outputs": [
    {
     "data": {
      "text/plain": [
       "[4, 3, 4, 4, 3, 3, 2, 2, 2, 1]"
      ]
     },
     "execution_count": 23,
     "metadata": {},
     "output_type": "execute_result"
    }
   ],
   "source": [
    "LIS = get_increasing_sequence_lengths(E)\n",
    "LIS"
   ]
  },
  {
   "cell_type": "code",
   "execution_count": 25,
   "id": "ef6a00e6",
   "metadata": {},
   "outputs": [
    {
     "name": "stdout",
     "output_type": "stream",
     "text": [
      "List is [3, 5, 1, 0, 4, 1, 8, 2, 1, 9]\n",
      "LIS  is [4, 3, 4, 4, 3, 3, 2, 2, 2, 1]\n",
      "Max LIS of the list is 4\n"
     ]
    }
   ],
   "source": [
    "print(f\"List is {E}\")\n",
    "print(f\"LIS  is {LIS}\")\n",
    "print(f\"Max LIS of the list is {max(LIS)}\")"
   ]
  },
  {
   "cell_type": "code",
   "execution_count": null,
   "id": "7231c1af",
   "metadata": {},
   "outputs": [],
   "source": []
  }
 ],
 "metadata": {
  "kernelspec": {
   "display_name": "Python 3 (ipykernel)",
   "language": "python",
   "name": "python3"
  },
  "language_info": {
   "codemirror_mode": {
    "name": "ipython",
    "version": 3
   },
   "file_extension": ".py",
   "mimetype": "text/x-python",
   "name": "python",
   "nbconvert_exporter": "python",
   "pygments_lexer": "ipython3",
   "version": "3.8.10"
  }
 },
 "nbformat": 4,
 "nbformat_minor": 5
}
