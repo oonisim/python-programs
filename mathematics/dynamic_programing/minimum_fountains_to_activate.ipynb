{
 "cells": [
  {
   "cell_type": "markdown",
   "id": "884717cf",
   "metadata": {},
   "source": [
    "# Dynamic Programming - Minimum fountains to activate\n",
    "\n",
    "* [Count minimum number of fountains to be activated to cover the entire garden](https://www.geeksforgeeks.org/count-minimum-number-of-fountains-to-be-activated-to-cover-the-entire-garden/)\n",
    "\n",
    "## Approach\n",
    "\n",
    "Convert to minimum hops/jumps problem.\n",
    "\n",
    "\n",
    "* [Minimum Number of Taps to Open to Water a Garden](https://leetcode.com/problems/minimum-number-of-taps-to-open-to-water-a-garden/)\n",
    "\n",
    "* [Minimum Number of Jumps](https://www.interviewbit.com/blog/minimum-number-of-jumps/)\n",
    "* [Minimum number of Jumps to reach End](https://www.enjoyalgorithms.com/blog/minimum-number-of-jumps-to-reach-end)\n",
    "* [4 Principle of Optimality - Dynamic Programming introduction](https://www.youtube.com/watch?v=5dRGRueKU3M)\n",
    "\n",
    "## Time Complexity\n",
    "\n",
    "\n",
    "## Algorithm\n",
    "\n",
    "If we can reach the **END** only from ```k```, and minimum hops to get to ```k``` is ```M[k]```, then the minimum hops to get to the **END** is ```M[k]+1```.\n",
    "\n",
    "<img src=\"./image/minimum_fountains_to_activate.jpg\" align=\"left\"/>"
   ]
  },
  {
   "cell_type": "code",
   "execution_count": 5,
   "id": "d21342e5",
   "metadata": {},
   "outputs": [],
   "source": [
    "from random import randint\n",
    "import numpy as np"
   ]
  },
  {
   "cell_type": "code",
   "execution_count": 6,
   "id": "4c9d8dbe",
   "metadata": {},
   "outputs": [
    {
     "data": {
      "text/plain": [
       "[3, 5, 7, 4, 9, 5, 7, 1, 3, 7]"
      ]
     },
     "execution_count": 6,
     "metadata": {},
     "output_type": "execute_result"
    }
   ],
   "source": [
    "N = 10\n",
    "C = [randint(0, 9) for p in range(0, N)]\n",
    "C"
   ]
  },
  {
   "cell_type": "markdown",
   "id": "dd4164a3",
   "metadata": {},
   "source": [
    "# Convert coverages by a fountain to jump intervals\n",
    "\n"
   ]
  },
  {
   "cell_type": "code",
   "execution_count": 8,
   "id": "f46af035",
   "metadata": {},
   "outputs": [],
   "source": [
    "def convert_from_coverages_to_jumps(coverages):\n",
    "    n = len(coverages)\n",
    "    M = [0] * n\n",
    "    for i in range(0, n-1): # Exclude the END\n",
    "        left = max(0, i - coverages[i])\n",
    "        right = min(i + coverages[i], n-1)\n",
    "        M[left] = max(M[left], right - left)\n",
    "        \n",
    "    return M            "
   ]
  },
  {
   "cell_type": "code",
   "execution_count": 9,
   "id": "46d23423",
   "metadata": {},
   "outputs": [
    {
     "data": {
      "text/plain": [
       "[2, 3, 0, 0, 0]"
      ]
     },
     "execution_count": 9,
     "metadata": {},
     "output_type": "execute_result"
    }
   ],
   "source": [
    "convert_from_coverages_to_jumps([2, 1, 1, 2, 1])"
   ]
  },
  {
   "cell_type": "markdown",
   "id": "b708fcd4",
   "metadata": {},
   "source": [
    "# Dynamic programing\n",
    "\n",
    "Find the longest increasing sequence in the list."
   ]
  },
  {
   "cell_type": "code",
   "execution_count": 11,
   "id": "b56c9284",
   "metadata": {},
   "outputs": [],
   "source": [
    "def get_minimum_hops(intervals):\n",
    "    \"\"\"Get the length of increasing sequence from each positin in the intervals\n",
    "    Args:\n",
    "        intervals: List of intervals\n",
    "    Returns: List of increasing sequence lengths\n",
    "    \"\"\"\n",
    "    assert isinstance(intervals, list) and len(intervals) > 0\n",
    "    n = len(intervals)\n",
    "    \n",
    "    # --------------------------------------------------------------------------------\n",
    "    # M[i] : Minimum hops to reach position i \n",
    "    # --------------------------------------------------------------------------------\n",
    "    M = [np.inf] * n\n",
    "    M[0] = 0    # Mimum hops to get from position 0 to 0 is 0.\n",
    "    \n",
    "    # --------------------------------------------------------------------------------\n",
    "    # Traverse the top to the 2nd last element (n-2).\n",
    "    # --------------------------------------------------------------------------------\n",
    "    for i in range(0, n-1):\n",
    "        # --------------------------------------------------------------------------------\n",
    "        # Update the minimum hops get to the position j\n",
    "        # --------------------------------------------------------------------------------\n",
    "        for j in range(i+1, min(i+intervals[i], n-1)+1):\n",
    "            M[j] = min([M[j], M[i]+1])\n",
    "            \n",
    "    return M"
   ]
  },
  {
   "cell_type": "code",
   "execution_count": 12,
   "id": "c3c79193",
   "metadata": {},
   "outputs": [
    {
     "data": {
      "text/plain": [
       "[0, 1, 1, 2, 3]"
      ]
     },
     "execution_count": 12,
     "metadata": {},
     "output_type": "execute_result"
    }
   ],
   "source": [
    "E = [2, 1, 1, 2, 1]\n",
    "M = get_minimum_hops(E)\n",
    "M"
   ]
  },
  {
   "cell_type": "code",
   "execution_count": 25,
   "id": "ef6a00e6",
   "metadata": {},
   "outputs": [
    {
     "name": "stdout",
     "output_type": "stream",
     "text": [
      "List is [3, 5, 1, 0, 4, 1, 8, 2, 1, 9]\n",
      "LIS  is [4, 3, 4, 4, 3, 3, 2, 2, 2, 1]\n",
      "Max LIS of the list is 4\n"
     ]
    }
   ],
   "source": [
    "print(f\"List is {E}\")\n",
    "print(f\"LIS  is {LIS}\")\n",
    "print(f\"Max LIS of the list is {max(LIS)}\")"
   ]
  },
  {
   "cell_type": "code",
   "execution_count": 10,
   "id": "7231c1af",
   "metadata": {},
   "outputs": [
    {
     "data": {
      "text/plain": [
       "1"
      ]
     },
     "execution_count": 10,
     "metadata": {},
     "output_type": "execute_result"
    }
   ],
   "source": [
    "min(np.inf, 1)"
   ]
  },
  {
   "cell_type": "code",
   "execution_count": null,
   "id": "b3f791da",
   "metadata": {},
   "outputs": [],
   "source": []
  }
 ],
 "metadata": {
  "kernelspec": {
   "display_name": "Python 3 (ipykernel)",
   "language": "python",
   "name": "python3"
  },
  "language_info": {
   "codemirror_mode": {
    "name": "ipython",
    "version": 3
   },
   "file_extension": ".py",
   "mimetype": "text/x-python",
   "name": "python",
   "nbconvert_exporter": "python",
   "pygments_lexer": "ipython3",
   "version": "3.8.10"
  }
 },
 "nbformat": 4,
 "nbformat_minor": 5
}
