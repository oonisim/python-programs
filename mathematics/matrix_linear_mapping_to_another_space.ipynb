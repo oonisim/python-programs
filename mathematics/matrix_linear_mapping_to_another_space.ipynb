{
 "cells": [
  {
   "cell_type": "code",
   "execution_count": 1,
   "id": "19785c51",
   "metadata": {},
   "outputs": [],
   "source": [
    "import matplotlib.pyplot as plt"
   ]
  },
  {
   "cell_type": "code",
   "execution_count": 25,
   "id": "11bb348e",
   "metadata": {},
   "outputs": [],
   "source": [
    "import numpy as np"
   ]
  },
  {
   "cell_type": "code",
   "execution_count": 3,
   "id": "cfaf1be6",
   "metadata": {},
   "outputs": [],
   "source": [
    "THETA = np.pi / 12"
   ]
  },
  {
   "cell_type": "markdown",
   "id": "7d320f7b",
   "metadata": {},
   "source": [
    "# Eigen Decomposition"
   ]
  },
  {
   "cell_type": "markdown",
   "id": "22bc5b5d",
   "metadata": {},
   "source": [
    "\n",
    "$A = VDV^T$ \n",
    "\n",
    "$V = \\begin{bmatrix}\n",
    "\\overrightarrow{\\boldsymbol{v_0}} & \n",
    "\\overrightarrow{\\boldsymbol{v_1}} \n",
    "\\end{bmatrix}$ \n",
    "is a **column ordered** matrix where $\\overrightarrow{\\boldsymbol{v_0}}$ and $\\overrightarrow{\\boldsymbol{v_0}}$ are the basis vectors of space **V** whose coordinates are specified in X space. \n",
    "\n",
    "$D = \\begin{bmatrix}\\lambda_1 & 0 \\\\ 0 & \\lambda_2 \\end{bmatrix}$ is an eigen value matrix that extends $\\overrightarrow{\\boldsymbol{v_0}}$ for $\\lambda_0$ times and $\\overrightarrow{\\boldsymbol{v_1}}$ for $\\lambda_1$ times.\n",
    "\n",
    "\n",
    "## Geometric interpretation of $A = VDV^T$ \n",
    "\n",
    "1. $V^T$ projects the coordinate (coefficients) in space **X** into the coefficients in space **V**.\n",
    "2. $D$ scales the coordinate in U according to the eigen values.\n",
    "3. $V$ projects the coordinate in space **V** back into that in space **X**.\n",
    "\n",
    "<img src=\"matrix_linear_mapping_to_another_space.JPG\" align=\"left\" />"
   ]
  },
  {
   "cell_type": "code",
   "execution_count": 11,
   "id": "ce4278ef",
   "metadata": {},
   "outputs": [],
   "source": [
    "A = np.array([\n",
    "    [2,1],\n",
    "    [1,2]\n",
    "])"
   ]
  },
  {
   "cell_type": "code",
   "execution_count": 12,
   "id": "fa71c4c3",
   "metadata": {},
   "outputs": [
    {
     "name": "stdout",
     "output_type": "stream",
     "text": [
      "eigen value lambda_0 is 3.0\n",
      "eigen value lambda_1 is 1.0\n",
      "eigen vector v0 is [0.70710678 0.70710678]\n",
      "eigen vector v1 is [ 0.70710678 -0.70710678]\n"
     ]
    }
   ],
   "source": [
    "(lambda_0, lambda_1), E = np.linalg.eig(A)\n",
    "print(f\"eigen value lambda_0 is {lambda_0}\")\n",
    "print(f\"eigen value lambda_1 is {lambda_1}\")\n",
    "print(f\"eigen vector v0 is {E[:, 0]}\")\n",
    "print(f\"eigen vector v1 is {-E[:, 1]}\")      "
   ]
  },
  {
   "cell_type": "markdown",
   "id": "bf71223e",
   "metadata": {},
   "source": [
    "## Eigen value matrix D"
   ]
  },
  {
   "cell_type": "code",
   "execution_count": 13,
   "id": "f9e121aa",
   "metadata": {},
   "outputs": [
    {
     "data": {
      "text/plain": [
       "array([[3., 0.],\n",
       "       [0., 1.]])"
      ]
     },
     "execution_count": 13,
     "metadata": {},
     "output_type": "execute_result"
    }
   ],
   "source": [
    "D = np.array([\n",
    "    [lambda_0, 0],\n",
    "    [0, lambda_1]\n",
    "])\n",
    "D"
   ]
  },
  {
   "cell_type": "code",
   "execution_count": 14,
   "id": "f6431272",
   "metadata": {},
   "outputs": [],
   "source": [
    "def get_basis_vector_matrix_of_V(v0, v1):\n",
    "    \"\"\"Get the basis vector matrix of space U using the corrdinates in X space.\n",
    "    Args:\n",
    "        v0: first basis vector represented using the coordinate in X\n",
    "        v1: 2nd basis vector represented using the coordinate in X\n",
    "    Returns:\n",
    "        U = [\n",
    "           v0, v1,\n",
    "        ] as column ordered vectors where the basis vector \n",
    "        v0, v1 are the columns in U\n",
    "    \"\"\"\n",
    "    v0 = np.array(v0).reshape((-1))   # Make it a column vector\n",
    "    v1 = np.array(v1).reshape((-1))   # Make it a column vector\n",
    "    assert np.dot(v0, v1.T) == 0, \\\n",
    "        f\"expected orthogonal basis vectors, got {v0} and {v1} whose dot product is {np.dot(v0, v1)}.\"\n",
    "\n",
    "    U = np.c_[\n",
    "        v0 / np.sqrt((v0**2).sum()), v1 / np.sqrt((v1**2).sum())\n",
    "    ]\n",
    "    return U"
   ]
  },
  {
   "cell_type": "code",
   "execution_count": 15,
   "id": "d38f3070",
   "metadata": {},
   "outputs": [],
   "source": [
    "def get_X_to_V_mapping_matrix(v0, v1):\n",
    "    \"\"\"Get the projection matrix that map the coordinate of X space into that in V space.\n",
    "    Args:\n",
    "        v0: first basis vector represented using the coordinate in X\n",
    "        v1: 2nd basis vector represented using the coordinate in X\n",
    "    \"\"\"\n",
    "    return np.linalg.inv(get_basis_vector_matrix_of_V(v0, v1))"
   ]
  },
  {
   "cell_type": "code",
   "execution_count": 16,
   "id": "d44147a1",
   "metadata": {},
   "outputs": [],
   "source": [
    "def apply_matrix_n_times(m: np.ndarray, n: int):\n",
    "    return np.linalg.matrix_power(m, n)"
   ]
  },
  {
   "cell_type": "markdown",
   "id": "a4d0ab57",
   "metadata": {},
   "source": [
    "## Basis vectors of space V"
   ]
  },
  {
   "cell_type": "code",
   "execution_count": 17,
   "id": "4cb70d1a",
   "metadata": {},
   "outputs": [],
   "source": [
    "v0 = [1, 1]      # not normalized\n",
    "v1 = [1, -1]"
   ]
  },
  {
   "cell_type": "markdown",
   "id": "d4583b4a",
   "metadata": {},
   "source": [
    "## Basis vector matrix of spae V"
   ]
  },
  {
   "cell_type": "code",
   "execution_count": 18,
   "id": "3c887113",
   "metadata": {},
   "outputs": [
    {
     "data": {
      "text/plain": [
       "array([[ 0.70710678,  0.70710678],\n",
       "       [ 0.70710678, -0.70710678]])"
      ]
     },
     "execution_count": 18,
     "metadata": {},
     "output_type": "execute_result"
    }
   ],
   "source": [
    "V = get_basis_vector_matrix_of_V(v0, v1)\n",
    "V"
   ]
  },
  {
   "cell_type": "markdown",
   "id": "8de18c9a",
   "metadata": {},
   "source": [
    "## Coordinate (Coefficient) projection matrix $V^T$\n",
    "Matrix $V^T$ to map the coordinate (x0, x1) in space X to (u0, u1) in V."
   ]
  },
  {
   "cell_type": "code",
   "execution_count": 19,
   "id": "0a513540",
   "metadata": {},
   "outputs": [
    {
     "data": {
      "text/plain": [
       "array([[ 0.70710678,  0.70710678],\n",
       "       [ 0.70710678, -0.70710678]])"
      ]
     },
     "execution_count": 19,
     "metadata": {},
     "output_type": "execute_result"
    }
   ],
   "source": [
    "VT = get_X_to_V_mapping_matrix(v0, v1)\n",
    "VT"
   ]
  },
  {
   "cell_type": "markdown",
   "id": "6910209c",
   "metadata": {},
   "source": [
    "## Point x_eigen_0\n",
    "\n",
    "The point is the same with the basis vector of space U, which is the eigen vector of the matrix A whose eigen value is ```lambda_0 = 3```. Hence, applying A n times will not extend it $3^n$ times."
   ]
  },
  {
   "cell_type": "code",
   "execution_count": 20,
   "id": "27bd5ac8",
   "metadata": {},
   "outputs": [
    {
     "data": {
      "text/plain": [
       "array([1, 1])"
      ]
     },
     "execution_count": 20,
     "metadata": {},
     "output_type": "execute_result"
    }
   ],
   "source": [
    "x_eigen_0 = np.array(v0)\n",
    "x_eigen_0"
   ]
  },
  {
   "cell_type": "markdown",
   "id": "14a94c50",
   "metadata": {},
   "source": [
    "## Projection from space X to space V\n",
    "\n",
    "1. Apply $V^T$ to project the coefficient ```x``` in space X into coefficient ```u``` in the space V.\n",
    "2. Scale ```u``` by applying the eigev value matrix $D$ n times in space V.\n",
    "3. Apply $V$ to project the result $E^n \\cdot u$ back into space X."
   ]
  },
  {
   "cell_type": "markdown",
   "id": "b08a4a83",
   "metadata": {},
   "source": [
    "### Project x into space V"
   ]
  },
  {
   "cell_type": "code",
   "execution_count": 21,
   "id": "07638fb3",
   "metadata": {},
   "outputs": [
    {
     "data": {
      "text/plain": [
       "array([1.41421356, 0.        ])"
      ]
     },
     "execution_count": 21,
     "metadata": {},
     "output_type": "execute_result"
    }
   ],
   "source": [
    "u = np.dot(VT, x_eigen_0)\n",
    "u"
   ]
  },
  {
   "cell_type": "markdown",
   "id": "ca435f34",
   "metadata": {},
   "source": [
    "### Apply **D** k times"
   ]
  },
  {
   "cell_type": "code",
   "execution_count": 22,
   "id": "c3db2664",
   "metadata": {},
   "outputs": [
    {
     "data": {
      "text/plain": [
       "array([38.18376618,  0.        ])"
      ]
     },
     "execution_count": 22,
     "metadata": {},
     "output_type": "execute_result"
    }
   ],
   "source": [
    "K = 3\n",
    "u_transferred = np.dot(apply_matrix_n_times(D, K), u)\n",
    "u_transferred"
   ]
  },
  {
   "cell_type": "markdown",
   "id": "356c066e",
   "metadata": {},
   "source": [
    "### Project back into space X"
   ]
  },
  {
   "cell_type": "code",
   "execution_count": 23,
   "id": "1e487883",
   "metadata": {},
   "outputs": [
    {
     "data": {
      "text/plain": [
       "array([27., 27.])"
      ]
     },
     "execution_count": 23,
     "metadata": {},
     "output_type": "execute_result"
    }
   ],
   "source": [
    "np.dot(V, u_transferred)"
   ]
  },
  {
   "cell_type": "markdown",
   "id": "036b3b7e",
   "metadata": {},
   "source": [
    "# Transformation in space X\n",
    "\n",
    "This results in the same with transformation result in space **V**."
   ]
  },
  {
   "cell_type": "code",
   "execution_count": 24,
   "id": "07a94cfb",
   "metadata": {},
   "outputs": [
    {
     "data": {
      "text/plain": [
       "array([27, 27])"
      ]
     },
     "execution_count": 24,
     "metadata": {},
     "output_type": "execute_result"
    }
   ],
   "source": [
    "np.dot(apply_matrix_n_times(A, K), x_eigen_0)"
   ]
  },
  {
   "cell_type": "code",
   "execution_count": null,
   "id": "7261e5d5",
   "metadata": {},
   "outputs": [],
   "source": []
  }
 ],
 "metadata": {
  "kernelspec": {
   "display_name": "Python 3 (ipykernel)",
   "language": "python",
   "name": "python3"
  },
  "language_info": {
   "codemirror_mode": {
    "name": "ipython",
    "version": 3
   },
   "file_extension": ".py",
   "mimetype": "text/x-python",
   "name": "python",
   "nbconvert_exporter": "python",
   "pygments_lexer": "ipython3",
   "version": "3.9.13"
  }
 },
 "nbformat": 4,
 "nbformat_minor": 5
}
