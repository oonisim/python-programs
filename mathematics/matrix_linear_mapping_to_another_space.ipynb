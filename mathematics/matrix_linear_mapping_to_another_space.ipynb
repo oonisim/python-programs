{
 "cells": [
  {
   "cell_type": "code",
   "execution_count": 1,
   "id": "19785c51",
   "metadata": {},
   "outputs": [],
   "source": [
    "import matplotlib.pyplot as plt"
   ]
  },
  {
   "cell_type": "code",
   "execution_count": 2,
   "id": "11bb348e",
   "metadata": {},
   "outputs": [
    {
     "data": {
      "text/plain": [
       "array([[ 1,  2,  3,  4],\n",
       "       [ 5,  6,  7,  8],\n",
       "       [ 9, 10, 11, 12]])"
      ]
     },
     "execution_count": 2,
     "metadata": {},
     "output_type": "execute_result"
    }
   ],
   "source": [
    "import numpy as np\n",
    "X = np.array(list(range(1, 13))).reshape(3, 4)\n",
    "X"
   ]
  },
  {
   "cell_type": "code",
   "execution_count": 3,
   "id": "cfaf1be6",
   "metadata": {},
   "outputs": [],
   "source": [
    "THETA = np.pi / 12"
   ]
  },
  {
   "cell_type": "markdown",
   "id": "7d320f7b",
   "metadata": {},
   "source": [
    "# Eigen Decomposition"
   ]
  },
  {
   "cell_type": "markdown",
   "id": "c7ba39c3",
   "metadata": {},
   "source": [
    "## Eigen vector matrix P\n",
    "\n",
    "Define **P** as a row ordered matrix where the row $\\overrightarrow{\\boldsymbol{p_1}} = \\left [ cos(\\theta), sin(\\theta) \\right ]$ and $\\overrightarrow{\\boldsymbol{p_2}} = \\left [ -sin(\\theta), cos(\\theta) \\right ]$ are eigen vectors.\n",
    "\n",
    "$\\begin{bmatrix}cos(\\theta) & sin(\\theta) \\\\ -sin(\\theta) & cos(\\theta)\\end{bmatrix}$\n",
    "\n"
   ]
  },
  {
   "cell_type": "code",
   "execution_count": 4,
   "id": "f3f7f820",
   "metadata": {},
   "outputs": [],
   "source": [
    "def get_eigen_vector_matrix(theta):\n",
    "    return np.array([\n",
    "        [np.cos(theta), np.sin(theta)],\n",
    "        [-np.sin(theta), np.cos(theta)]\n",
    "    ])"
   ]
  },
  {
   "cell_type": "code",
   "execution_count": 5,
   "id": "a1355dce",
   "metadata": {},
   "outputs": [
    {
     "name": "stdout",
     "output_type": "stream",
     "text": [
      "[[ 0.96592583  0.25881905]\n",
      " [-0.25881905  0.96592583]]\n"
     ]
    }
   ],
   "source": [
    "P = get_eigen_vector_matrix(THETA)\n",
    "print(P)"
   ]
  },
  {
   "cell_type": "markdown",
   "id": "3b67ba23",
   "metadata": {},
   "source": [
    "## Eigen value diagonal matrix D\n",
    "\n",
    "D extends the eigen vector $\\overrightarrow{\\boldsymbol{p_1}}$ for $\\lambda_1$ times and  $\\overrightarrow{\\boldsymbol{p_2}}$ for $\\lambda_2$ times.\n",
    "\n",
    "$D = \\begin{bmatrix}\\lambda_1 & 0 \\\\ 0 & \\lambda_2 \\end{bmatrix}$\n"
   ]
  },
  {
   "cell_type": "code",
   "execution_count": 6,
   "id": "ddcd0e83",
   "metadata": {},
   "outputs": [
    {
     "name": "stdout",
     "output_type": "stream",
     "text": [
      "[[3 0]\n",
      " [0 2]]\n"
     ]
    }
   ],
   "source": [
    "D = np.array([\n",
    "    [3, 0],\n",
    "    [0, 2]\n",
    "])\n",
    "print(D)"
   ]
  },
  {
   "cell_type": "markdown",
   "id": "608d54f2",
   "metadata": {},
   "source": [
    "# Projection Matrix $A = PDP^{-1}$\n",
    "\n",
    "Generate **A** from **P** and **D**.\n",
    "\n",
    "Projection by the matrix $A \\cdot \\begin{bmatrix}x_1 \\\\ x_2 \\end{bmatrix} = P \\cdot D \\cdot P^{-1} \\cdot \\begin{bmatrix}x_1 \\\\ x_2 \\end{bmatrix}$ where:\n",
    "\n",
    "1. $P^{-1} \\cdot x$ maps the coefficients of $x = (x_1, x_2)$ in space **X** in purple into those of $u = (u_1, u_2)$ in space **U** in orange \n",
    "where the eigen vectors $(\\overrightarrow{\\boldsymbol{p_1}}, \\overrightarrow{\\boldsymbol{p_2}})$ are the basis vectors in **U**.\n",
    "2. $D \\cdot u$ extends the coefficent of $\\overrightarrow{\\boldsymbol{p_1}}$ by $\\lambda_1$ times and that of $\\overrightarrow{\\boldsymbol{p_2}}$ by $\\lambda_2$ times as $\\begin{bmatrix}\\lambda_1u_1 \\\\ \\lambda_2u_2 \\end{bmatrix}$.\n",
    "3. $P$ projects $\\begin{bmatrix}\\lambda_1u_1 \\\\ \\lambda_2u_2 \\end{bmatrix}$ back to space **X**.\n"
   ]
  },
  {
   "cell_type": "code",
   "execution_count": 7,
   "id": "81f4be05",
   "metadata": {},
   "outputs": [
    {
     "name": "stdout",
     "output_type": "stream",
     "text": [
      "[[ 2.9330127 -0.25     ]\n",
      " [-0.25       2.0669873]]\n"
     ]
    }
   ],
   "source": [
    "A = P @ D @ np.linalg.inv(P)\n",
    "print(A)"
   ]
  },
  {
   "cell_type": "markdown",
   "id": "f4754880",
   "metadata": {},
   "source": [
    "## Verify the eigen vector matrix P"
   ]
  },
  {
   "cell_type": "code",
   "execution_count": 8,
   "id": "487e42c8",
   "metadata": {
    "scrolled": true
   },
   "outputs": [
    {
     "name": "stdout",
     "output_type": "stream",
     "text": [
      "[3. 2.]\n",
      "[[ 0.96592583 -0.25881905]\n",
      " [ 0.25881905  0.96592583]]\n"
     ]
    }
   ],
   "source": [
    "l, e = np.linalg.eig(A)\n",
    "print(l)      # eigen values lambda\n",
    "print(e.T)    # eigen vectors e. Transpose to be row oriented"
   ]
  },
  {
   "cell_type": "markdown",
   "id": "688ad201",
   "metadata": {},
   "source": [
    "---"
   ]
  },
  {
   "cell_type": "markdown",
   "id": "b11a45d1",
   "metadata": {},
   "source": [
    "# Projection Matrix $A = P^TD(P^T)^{-1}$"
   ]
  },
  {
   "cell_type": "code",
   "execution_count": 9,
   "id": "836a990a",
   "metadata": {},
   "outputs": [
    {
     "name": "stdout",
     "output_type": "stream",
     "text": [
      "[[2.9330127 0.25     ]\n",
      " [0.25      2.0669873]]\n"
     ]
    }
   ],
   "source": [
    "_A = P.T @ D @ np.linalg.inv(P.T)\n",
    "print(_A)"
   ]
  },
  {
   "cell_type": "markdown",
   "id": "97ddf255",
   "metadata": {},
   "source": [
    "## Verify the eigen vector matrix $P^T$"
   ]
  },
  {
   "cell_type": "code",
   "execution_count": 10,
   "id": "c5c87c3e",
   "metadata": {
    "scrolled": true
   },
   "outputs": [
    {
     "name": "stdout",
     "output_type": "stream",
     "text": [
      "[3. 2.]\n",
      "[[ 0.96592583  0.25881905]\n",
      " [-0.25881905  0.96592583]]\n"
     ]
    }
   ],
   "source": [
    "_l, _e = np.linalg.eig(_A)\n",
    "print(_l)      # eigen values lambda\n",
    "print(_e.T)    # eigen vectors e. Transpose to be row oriented"
   ]
  },
  {
   "attachments": {},
   "cell_type": "markdown",
   "id": "22bc5b5d",
   "metadata": {},
   "source": [
    "---\n",
    "# Experiment\n",
    "\n",
    "$A = EDV$ \n",
    "\n",
    "$E = \\begin{bmatrix}\n",
    "\\overrightarrow{\\boldsymbol{v_0}} & \n",
    "\\overrightarrow{\\boldsymbol{v_1}} \n",
    "\\end{bmatrix}$ \n",
    "is a column ordered matrix where $\\overrightarrow{\\boldsymbol{v_0}}$ and $\\overrightarrow{\\boldsymbol{v_0}}$ are the basis vectors of space **V** whose coordinates are specified in X space. \n",
    "\n",
    "$D = \\begin{bmatrix}\\lambda_1 & 0 \\\\ 0 & \\lambda_2 \\end{bmatrix}$ is an eigen value matrix that extends $\\overrightarrow{\\boldsymbol{v_0}}$ for $\\lambda_0$ times and $\\overrightarrow{\\boldsymbol{v_1}}$ for $\\lambda_1$ times.\n",
    "\n",
    "$V = \\begin{bmatrix}\n",
    "\\overrightarrow{\\boldsymbol{v_0}} \\cdot \\begin{bmatrix} 1 \\\\ 0 \\end{bmatrix}& \n",
    "\\overrightarrow{\\boldsymbol{v_1}} \\cdot \\begin{bmatrix} 0 \\\\ 1 \\end{bmatrix}\n",
    "\\end{bmatrix}$ \n",
    "is a column ordered matrix where each column is the coordinate in space **V** for the basis vectors of space **X**.\n",
    "\n",
    "**V** projects the coordinate (coefficients) in space **X** into that in space **V**.\n",
    "**E** projects the coordinate in space **V** back into that in space **X**.\n",
    "\n",
    "<img src=\"matrix_linear_mapping_to_another_space.JPG\" align=\"left\" />"
   ]
  },
  {
   "cell_type": "code",
   "execution_count": 103,
   "id": "ce4278ef",
   "metadata": {},
   "outputs": [],
   "source": [
    "A = np.array([\n",
    "    [2,1],\n",
    "    [1,2]\n",
    "])"
   ]
  },
  {
   "cell_type": "code",
   "execution_count": 112,
   "id": "fa71c4c3",
   "metadata": {},
   "outputs": [
    {
     "name": "stdout",
     "output_type": "stream",
     "text": [
      "eigen value lambda_0 is 3.0\n",
      "eigen value lambda_1 is 1.0\n",
      "eigen vector v0 is [0.70710678 0.70710678]\n",
      "eigen vector v1 is [ 0.70710678 -0.70710678]\n"
     ]
    }
   ],
   "source": [
    "(lambda_0, lambda_1), E = np.linalg.eig(A)\n",
    "print(f\"eigen value lambda_0 is {lambda_0}\")\n",
    "print(f\"eigen value lambda_1 is {lambda_1}\")\n",
    "print(f\"eigen vector v0 is {E[:, 0]}\")\n",
    "print(f\"eigen vector v1 is {-E[:, 1]}\")      "
   ]
  },
  {
   "cell_type": "markdown",
   "id": "bf71223e",
   "metadata": {},
   "source": [
    "## Eigen value matrix D"
   ]
  },
  {
   "cell_type": "code",
   "execution_count": 120,
   "id": "f9e121aa",
   "metadata": {},
   "outputs": [
    {
     "data": {
      "text/plain": [
       "array([[3., 0.],\n",
       "       [0., 1.]])"
      ]
     },
     "execution_count": 120,
     "metadata": {},
     "output_type": "execute_result"
    }
   ],
   "source": [
    "D = np.array([\n",
    "    [lambda_0, 0],\n",
    "    [0, lambda_1]\n",
    "])\n",
    "D"
   ]
  },
  {
   "cell_type": "code",
   "execution_count": 76,
   "id": "f6431272",
   "metadata": {},
   "outputs": [],
   "source": [
    "def get_basis_vector_matrix_of_V(v0, v1):\n",
    "    \"\"\"Get the basis vector matrix of space U using the corrdinates in X space.\n",
    "    Args:\n",
    "        v0: first basis vector represented using the coordinate in X\n",
    "        v1: 2nd basis vector represented using the coordinate in X\n",
    "    Returns:\n",
    "        U = [\n",
    "           [v0, v1],\n",
    "        ] as column ordered vectors where the basis vector \n",
    "        v0, v1 are the columns in U\n",
    "    \"\"\"\n",
    "    v0 = np.array(v0).reshape((-1))   # Make it a column vector\n",
    "    v1 = np.array(v1).reshape((-1))   # Make it a column vector\n",
    "    assert np.dot(v0, v1.T) == 0, \\\n",
    "        f\"expected orthogonal basis vectors, got {v0} and {v1} whose dot product is {np.dot(v0, v1)}.\"\n",
    "\n",
    "    U = np.c_[\n",
    "        v0 / np.sqrt((v0**2).sum()), v1 / np.sqrt((v1**2).sum())\n",
    "    ]\n",
    "    return U"
   ]
  },
  {
   "cell_type": "code",
   "execution_count": 77,
   "id": "d38f3070",
   "metadata": {},
   "outputs": [],
   "source": [
    "def get_X_to_V_mapping_matrix(v0, v1):\n",
    "    \"\"\"Get the projection matrix that map the coordinate of X space into that in V space.\n",
    "    Args:\n",
    "        v0: first basis vector represented using the coordinate in X\n",
    "        v1: 2nd basis vector represented using the coordinate in X\n",
    "    \"\"\"\n",
    "    return np.linalg.inv(get_basis_vector_matrix_of_V(v0, v1))"
   ]
  },
  {
   "cell_type": "code",
   "execution_count": 78,
   "id": "40d3bbef",
   "metadata": {},
   "outputs": [],
   "source": [
    "def project_X_to_V(X:np.ndarray, V: np.ndarray)-> np.ndarray:\n",
    "    \"\"\"Project coordinates in X space into those in V space\n",
    "    Args:\n",
    "        X: list of x coordinate (x0, x1) in the shape (N, D) where \n",
    "           N is number of data points, D is the demension of a data point x.\n",
    "        V: X to V mapping matrix\n",
    "    Returns: list of v coordinate in the shape (N, M)\n",
    "    \"\"\"\n",
    "    N, D = X.shape\n",
    "    M, _D = V.shape\n",
    "    assert D == _D, f\"expected X.shape=(N, D),V.shape=(M, D) got X:{X.shape}, V:{V.shape}\"\n",
    "    \n",
    "    U = V @ V.T\n",
    "    return U    "
   ]
  },
  {
   "cell_type": "code",
   "execution_count": 98,
   "id": "d44147a1",
   "metadata": {},
   "outputs": [],
   "source": [
    "def apply_matrix_n_times(m: np.ndarray, n: int):\n",
    "    return np.linalg.matrix_power(m, n)"
   ]
  },
  {
   "cell_type": "markdown",
   "id": "a4d0ab57",
   "metadata": {},
   "source": [
    "## Basis vectors of space V"
   ]
  },
  {
   "cell_type": "code",
   "execution_count": 113,
   "id": "4cb70d1a",
   "metadata": {},
   "outputs": [],
   "source": [
    "v0 = [1, 1]      # not normalized\n",
    "v1 = [1, -1]"
   ]
  },
  {
   "cell_type": "markdown",
   "id": "d4583b4a",
   "metadata": {},
   "source": [
    "## Basis vector matrix of spae V"
   ]
  },
  {
   "cell_type": "code",
   "execution_count": 114,
   "id": "3c887113",
   "metadata": {},
   "outputs": [
    {
     "data": {
      "text/plain": [
       "array([[ 0.70710678,  0.70710678],\n",
       "       [ 0.70710678, -0.70710678]])"
      ]
     },
     "execution_count": 114,
     "metadata": {},
     "output_type": "execute_result"
    }
   ],
   "source": [
    "E = get_basis_vector_matrix_of_V(v0, v1)\n",
    "E"
   ]
  },
  {
   "cell_type": "markdown",
   "id": "8de18c9a",
   "metadata": {},
   "source": [
    "## Projection matrix \n",
    "Matrix **V** to map the coordinate (x0, x1) in space X to (u0, u1) in V."
   ]
  },
  {
   "cell_type": "code",
   "execution_count": 80,
   "id": "0a513540",
   "metadata": {},
   "outputs": [
    {
     "data": {
      "text/plain": [
       "array([[ 0.70710678,  0.70710678],\n",
       "       [ 0.70710678, -0.70710678]])"
      ]
     },
     "execution_count": 80,
     "metadata": {},
     "output_type": "execute_result"
    }
   ],
   "source": [
    "V = get_X_to_V_mapping_matrix(v0, v1)\n",
    "V"
   ]
  },
  {
   "cell_type": "markdown",
   "id": "6910209c",
   "metadata": {},
   "source": [
    "## Point x_eigen_0\n",
    "\n",
    "The point is the same with the basis vector of space U, which is the eigen vector of the matrix A whose eigen value is ```lambda_0 = 3```. Hence, applying A n times will not extend it $3^n$ times."
   ]
  },
  {
   "cell_type": "code",
   "execution_count": 115,
   "id": "27bd5ac8",
   "metadata": {},
   "outputs": [
    {
     "data": {
      "text/plain": [
       "array([1, 1])"
      ]
     },
     "execution_count": 115,
     "metadata": {},
     "output_type": "execute_result"
    }
   ],
   "source": [
    "x_eigen_0 = np.array(v0)\n",
    "x_eigen_0"
   ]
  },
  {
   "cell_type": "markdown",
   "id": "14a94c50",
   "metadata": {},
   "source": [
    "## Transformation in space V\n",
    "\n",
    "1. Apply $V$ to project the point ```x``` in space X into ```u``` in the space V.\n",
    "2. Transform ```u``` by applying $D$ n times in space V.\n",
    "3. Apply $E = V^{-1}$ to project the result $E^n \\cdot u$ back into space X."
   ]
  },
  {
   "cell_type": "markdown",
   "id": "b08a4a83",
   "metadata": {},
   "source": [
    "### Project x into space V"
   ]
  },
  {
   "cell_type": "code",
   "execution_count": 116,
   "id": "07638fb3",
   "metadata": {},
   "outputs": [
    {
     "data": {
      "text/plain": [
       "array([1.41421356, 0.        ])"
      ]
     },
     "execution_count": 116,
     "metadata": {},
     "output_type": "execute_result"
    }
   ],
   "source": [
    "u = np.dot(V, x_eigen_0)\n",
    "u"
   ]
  },
  {
   "cell_type": "markdown",
   "id": "ca435f34",
   "metadata": {},
   "source": [
    "### Apply **D** k times"
   ]
  },
  {
   "cell_type": "code",
   "execution_count": 121,
   "id": "c3db2664",
   "metadata": {},
   "outputs": [
    {
     "data": {
      "text/plain": [
       "array([38.18376618,  0.        ])"
      ]
     },
     "execution_count": 121,
     "metadata": {},
     "output_type": "execute_result"
    }
   ],
   "source": [
    "K = 3\n",
    "u_transferred = np.dot(apply_matrix_n_times(D, K), u)\n",
    "u_transferred"
   ]
  },
  {
   "cell_type": "markdown",
   "id": "356c066e",
   "metadata": {},
   "source": [
    "### Project back into space X"
   ]
  },
  {
   "cell_type": "code",
   "execution_count": 122,
   "id": "1e487883",
   "metadata": {},
   "outputs": [
    {
     "data": {
      "text/plain": [
       "array([27., 27.])"
      ]
     },
     "execution_count": 122,
     "metadata": {},
     "output_type": "execute_result"
    }
   ],
   "source": [
    "np.dot(E, u_transferred)"
   ]
  },
  {
   "cell_type": "markdown",
   "id": "036b3b7e",
   "metadata": {},
   "source": [
    "# Transformation in space X\n",
    "\n",
    "This results in the same with transformation result in space **V**."
   ]
  },
  {
   "cell_type": "code",
   "execution_count": 124,
   "id": "07a94cfb",
   "metadata": {},
   "outputs": [
    {
     "data": {
      "text/plain": [
       "array([27, 27])"
      ]
     },
     "execution_count": 124,
     "metadata": {},
     "output_type": "execute_result"
    }
   ],
   "source": [
    "np.dot(apply_matrix_n_times(A, K), x_eigen_0)"
   ]
  },
  {
   "cell_type": "code",
   "execution_count": null,
   "id": "7261e5d5",
   "metadata": {},
   "outputs": [],
   "source": []
  }
 ],
 "metadata": {
  "kernelspec": {
   "display_name": "Python 3 (ipykernel)",
   "language": "python",
   "name": "python3"
  },
  "language_info": {
   "codemirror_mode": {
    "name": "ipython",
    "version": 3
   },
   "file_extension": ".py",
   "mimetype": "text/x-python",
   "name": "python",
   "nbconvert_exporter": "python",
   "pygments_lexer": "ipython3",
   "version": "3.9.12"
  }
 },
 "nbformat": 4,
 "nbformat_minor": 5
}
