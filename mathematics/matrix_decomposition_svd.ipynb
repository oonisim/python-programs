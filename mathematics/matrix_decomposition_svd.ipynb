{
 "cells": [
  {
   "cell_type": "code",
   "execution_count": 2,
   "id": "34f028c0",
   "metadata": {},
   "outputs": [],
   "source": [
    "import numpy as np\n",
    "np.set_printoptions(suppress=True)"
   ]
  },
  {
   "cell_type": "markdown",
   "id": "9de01085",
   "metadata": {},
   "source": [
    "# U or V - Which one are principal components?\n",
    "\n",
    "* [SVD - which one U or V are principal components?](https://math.stackexchange.com/questions/4578650/svd-which-one-u-or-v-are-principal-components)\n",
    "\n",
    "<img src=\"SVD_eigen_is_u_or_v.jpg\" align=\"left\"/>"
   ]
  },
  {
   "cell_type": "markdown",
   "id": "3193d9a9",
   "metadata": {},
   "source": [
    "# Row ordered matrix \n",
    "\n",
    "Stack each vector e.g. image as a row. "
   ]
  },
  {
   "cell_type": "code",
   "execution_count": 25,
   "id": "3fb2d059",
   "metadata": {},
   "outputs": [],
   "source": [
    "N = 20   # Number of vectors\n",
    "D = 2    # Dimension of a vector"
   ]
  },
  {
   "cell_type": "code",
   "execution_count": 45,
   "id": "e7048d56",
   "metadata": {},
   "outputs": [
    {
     "data": {
      "text/plain": [
       "(20, 2)"
      ]
     },
     "execution_count": 45,
     "metadata": {},
     "output_type": "execute_result"
    }
   ],
   "source": [
    "A = np.arange(N * 2).reshape((-1, D))\n",
    "A_mean = np.mean(A, axis=-1, keepdims=True)\n",
    "A = A - A_mean\n",
    "A.shape"
   ]
  },
  {
   "cell_type": "markdown",
   "id": "f2f6443d",
   "metadata": {},
   "source": [
    "## Eigen vector (principal component) via covariance matrix"
   ]
  },
  {
   "cell_type": "code",
   "execution_count": 47,
   "id": "a8d898f5",
   "metadata": {},
   "outputs": [
    {
     "name": "stdout",
     "output_type": "stream",
     "text": [
      "[10.  0.]\n",
      "eigen vector 1: [ 0.70710678 -0.70710678]\n",
      "eigen vector 2: [0.70710678 0.70710678]\n"
     ]
    }
   ],
   "source": [
    "C = A.T@ A                 # Covariance matrix\n",
    "w, v = np.linalg.eig(C)\n",
    "\n",
    "sorted_eigen_indeces = np.argsort(w)[::-1]\n",
    "eigen_vector_0 = v[:, sorted_eigen_indeces[0]]\n",
    "eigen_vector_1 = v[:, sorted_eigen_indeces[1]]\n",
    "\n",
    "print(w[sorted_eigen_indeces])\n",
    "print(f\"eigen vector 1: {eigen_vector_0}\")\n",
    "print(f\"eigen vector 2: {eigen_vector_1}\")"
   ]
  },
  {
   "cell_type": "markdown",
   "id": "94c37a3b",
   "metadata": {},
   "source": [
    "## Eigen vector via SVD\n",
    "\n",
    "Eigen vectors are in $V$."
   ]
  },
  {
   "cell_type": "code",
   "execution_count": 54,
   "id": "d7dfed23",
   "metadata": {
    "scrolled": true
   },
   "outputs": [
    {
     "name": "stdout",
     "output_type": "stream",
     "text": [
      "(20, 20)\n",
      "[3.16227766 0.        ]\n",
      "(2, 2)\n",
      "eigen vector 1: [ 0.70710678 -0.70710678]\n",
      "eigen vector 2: [-0.70710678 -0.70710678]\n"
     ]
    }
   ],
   "source": [
    "U, s, VT = np.linalg.svd(A)\n",
    "V = VT.T   # V is column vectors\n",
    "print(U.shape)\n",
    "print(s)\n",
    "print(V.shape)\n",
    "\n",
    "print(f\"eigen vector 1: {V[:, 0]}\")\n",
    "print(f\"eigen vector 2: {V[:, 1]}\")"
   ]
  },
  {
   "cell_type": "markdown",
   "id": "9bb98921",
   "metadata": {},
   "source": [
    "---\n",
    "# Column ordered matrix\n"
   ]
  },
  {
   "cell_type": "code",
   "execution_count": 49,
   "id": "5409b92e",
   "metadata": {},
   "outputs": [
    {
     "data": {
      "text/plain": [
       "(2, 20)"
      ]
     },
     "execution_count": 49,
     "metadata": {},
     "output_type": "execute_result"
    }
   ],
   "source": [
    "X = np.arange(N * 2).reshape((D, -1))\n",
    "X_mean = np.mean(X, axis=-1, keepdims=True)\n",
    "X = X - X_mean\n",
    "X.shape"
   ]
  },
  {
   "cell_type": "markdown",
   "id": "2f1fa707",
   "metadata": {},
   "source": [
    "## Eigen vector (principal component) via covariance matrix"
   ]
  },
  {
   "cell_type": "code",
   "execution_count": 50,
   "id": "a251c967",
   "metadata": {},
   "outputs": [
    {
     "name": "stdout",
     "output_type": "stream",
     "text": [
      "[1330.    0.]\n",
      "eigen vector 1: [0.70710678 0.70710678]\n",
      "eigen vector 2: [-0.70710678  0.70710678]\n"
     ]
    }
   ],
   "source": [
    "C = X @ X.T                 # Covariance matrix\n",
    "w, v = np.linalg.eig(C)\n",
    "\n",
    "sorted_eigen_indeces = np.argsort(w)[::-1]\n",
    "eigen_vector_0 = v[:, sorted_eigen_indeces[0]]\n",
    "eigen_vector_1 = v[:, sorted_eigen_indeces[1]]\n",
    "\n",
    "print(w[sorted_eigen_indeces])\n",
    "print(f\"eigen vector 1: {eigen_vector_0}\")\n",
    "print(f\"eigen vector 2: {eigen_vector_1}\")"
   ]
  },
  {
   "cell_type": "markdown",
   "id": "bc948c82",
   "metadata": {},
   "source": [
    "## Eigen vector via SVD\n",
    "\n",
    "Eigen vectors are in $U$ for the column order matrx.\n"
   ]
  },
  {
   "cell_type": "code",
   "execution_count": 55,
   "id": "be380e09",
   "metadata": {
    "scrolled": true
   },
   "outputs": [
    {
     "name": "stdout",
     "output_type": "stream",
     "text": [
      "(2, 2)\n",
      "[36.46916506  0.        ]\n",
      "(20, 20)\n",
      "eigen vector 1: [-0.70710678 -0.70710678]\n",
      "eigen vector 2: [-0.70710678  0.70710678]\n"
     ]
    }
   ],
   "source": [
    "U, s, VT = np.linalg.svd(X)\n",
    "V = VT.T\n",
    "print(U.shape)\n",
    "print(s)\n",
    "print(V.shape)\n",
    "\n",
    "print(f\"eigen vector 1: {U[:, 0]}\")\n",
    "print(f\"eigen vector 2: {U[:, 1]}\")"
   ]
  },
  {
   "cell_type": "code",
   "execution_count": null,
   "id": "14361333",
   "metadata": {},
   "outputs": [],
   "source": []
  }
 ],
 "metadata": {
  "kernelspec": {
   "display_name": "Python 3 (ipykernel)",
   "language": "python",
   "name": "python3"
  },
  "language_info": {
   "codemirror_mode": {
    "name": "ipython",
    "version": 3
   },
   "file_extension": ".py",
   "mimetype": "text/x-python",
   "name": "python",
   "nbconvert_exporter": "python",
   "pygments_lexer": "ipython3",
   "version": "3.9.12"
  }
 },
 "nbformat": 4,
 "nbformat_minor": 5
}
