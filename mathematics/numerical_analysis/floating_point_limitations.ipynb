{
 "cells": [
  {
   "cell_type": "code",
   "execution_count": 1,
   "id": "previous-basin",
   "metadata": {},
   "outputs": [],
   "source": [
    "import numpy as np"
   ]
  },
  {
   "cell_type": "markdown",
   "id": "eleven-carol",
   "metadata": {},
   "source": [
    "# 0.1 is not 0.1"
   ]
  },
  {
   "cell_type": "code",
   "execution_count": 4,
   "id": "martial-short",
   "metadata": {},
   "outputs": [
    {
     "name": "stdout",
     "output_type": "stream",
     "text": [
      "0.30000000000000004\n",
      "0.3\n"
     ]
    },
    {
     "data": {
      "text/plain": [
       "False"
      ]
     },
     "execution_count": 4,
     "metadata": {},
     "output_type": "execute_result"
    }
   ],
   "source": [
    "print(0.1 * 3)\n",
    "print(30 / 100)\n",
    "0.1 * 3 == 30 / 100"
   ]
  },
  {
   "cell_type": "code",
   "execution_count": 9,
   "id": "olympic-confusion",
   "metadata": {},
   "outputs": [
    {
     "name": "stdout",
     "output_type": "stream",
     "text": [
      "0.1000000000000000055511151231257827021181583404541016\n"
     ]
    }
   ],
   "source": [
    "print(\"{:.52f}\".format(0.1))"
   ]
  },
  {
   "cell_type": "markdown",
   "id": "sorted-cooler",
   "metadata": {},
   "source": [
    "# Mean of the same values may not be the value\n",
    "\n",
    "If the value X is all ```-3.29686744```, then ```X-mean``` is expected to be ```0``` but it may not.\n"
   ]
  },
  {
   "cell_type": "code",
   "execution_count": 13,
   "id": "metropolitan-halifax",
   "metadata": {},
   "outputs": [
    {
     "name": "stdout",
     "output_type": "stream",
     "text": [
      "mean is \n",
      "[-1.11793447 -3.29686744 -3.50615096]\n",
      "X-mean is \n",
      "[[0.0000000e+00 4.4408921e-16 4.4408921e-16]\n",
      " [0.0000000e+00 4.4408921e-16 4.4408921e-16]\n",
      " [0.0000000e+00 4.4408921e-16 4.4408921e-16]\n",
      " [0.0000000e+00 4.4408921e-16 4.4408921e-16]\n",
      " [0.0000000e+00 4.4408921e-16 4.4408921e-16]]\n",
      "\n",
      "SD is \n",
      "[0.0000000e+00 4.4408921e-16 4.4408921e-16]\n",
      "\n"
     ]
    }
   ],
   "source": [
    "X = np.array([\n",
    "    [-1.11793447, -3.29686744, -3.50615096],\n",
    "    [-1.11793447, -3.29686744, -3.50615096],\n",
    "    [-1.11793447, -3.29686744, -3.50615096],\n",
    "    [-1.11793447, -3.29686744, -3.50615096],\n",
    "    [-1.11793447, -3.29686744, -3.50615096]\n",
    "])\n",
    "\n",
    "mean = np.mean(X, axis=0)\n",
    "print(f\"mean is \\n{mean}\\nX-mean is \\n{X-mean}\\n\")\n",
    "\n",
    "sd = np.std(X, axis=0)\n",
    "print(f\"SD is \\n{sd}\\n\")"
   ]
  },
  {
   "cell_type": "code",
   "execution_count": 12,
   "id": "czech-costs",
   "metadata": {},
   "outputs": [
    {
     "name": "stdout",
     "output_type": "stream",
     "text": [
      "mean is \n",
      "[-1.11793447 -3.29686744 -3.50615096]\n",
      "X-mean is \n",
      "[[0. 0. 0.]\n",
      " [0. 0. 0.]\n",
      " [0. 0. 0.]]\n",
      "\n",
      "SD is \n",
      "[0. 0. 0.]\n",
      "\n"
     ]
    }
   ],
   "source": [
    "X = np.array([\n",
    "    [-1.11793447, -3.29686744, -3.50615096],\n",
    "    [-1.11793447, -3.29686744, -3.50615096],\n",
    "    [-1.11793447, -3.29686744, -3.50615096]\n",
    "])\n",
    "\n",
    "mean = np.mean(X, axis=0)\n",
    "print(f\"mean is \\n{mean}\\nX-mean is \\n{X-mean}\\n\")\n",
    "\n",
    "sd = np.std(X, axis=0)\n",
    "print(f\"SD is \\n{sd}\\n\")"
   ]
  },
  {
   "cell_type": "code",
   "execution_count": 15,
   "id": "southwest-knitting",
   "metadata": {},
   "outputs": [
    {
     "name": "stdout",
     "output_type": "stream",
     "text": [
      "mean is \n",
      "[-1.11793447 -3.29686744 -3.50615096]\n",
      "X-mean is \n",
      "[[0. 0. 0.]]\n",
      "\n",
      "SD is \n",
      "[0. 0. 0.]\n",
      "\n"
     ]
    }
   ],
   "source": [
    "X = np.array([\n",
    "    [-1.11793447, -3.29686744, -3.50615096],\n",
    "])\n",
    "\n",
    "mean = np.mean(X, axis=0)\n",
    "print(f\"mean is \\n{mean}\\nX-mean is \\n{X-mean}\\n\")\n",
    "\n",
    "sd = np.std(X, axis=0)\n",
    "print(f\"SD is \\n{sd}\\n\")"
   ]
  },
  {
   "cell_type": "code",
   "execution_count": null,
   "id": "romantic-encoding",
   "metadata": {},
   "outputs": [],
   "source": []
  },
  {
   "cell_type": "code",
   "execution_count": null,
   "id": "breathing-portal",
   "metadata": {},
   "outputs": [],
   "source": []
  }
 ],
 "metadata": {
  "kernelspec": {
   "display_name": "Python 3",
   "language": "python",
   "name": "python3"
  },
  "language_info": {
   "codemirror_mode": {
    "name": "ipython",
    "version": 3
   },
   "file_extension": ".py",
   "mimetype": "text/x-python",
   "name": "python",
   "nbconvert_exporter": "python",
   "pygments_lexer": "ipython3",
   "version": "3.8.8"
  }
 },
 "nbformat": 4,
 "nbformat_minor": 5
}
