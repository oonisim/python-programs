{
 "cells": [
  {
   "cell_type": "code",
   "execution_count": null,
   "id": "waiting-blade",
   "metadata": {},
   "outputs": [],
   "source": []
  },
  {
   "cell_type": "code",
   "execution_count": null,
   "id": "controlling-russia",
   "metadata": {},
   "outputs": [],
   "source": []
  },
  {
   "cell_type": "markdown",
   "id": "plain-cedar",
   "metadata": {},
   "source": [
    "* [IEEE 754 FLOATING POINT REPRESENTATION Alark Joshi](http://cs.boisestate.edu/~alark/cs354/lectures/ieee754.pdf)\n",
    "<img src=\"image/ieee_754_format.png\" align=\"left\" width=600/>"
   ]
  },
  {
   "cell_type": "markdown",
   "id": "5e6d6404-3532-4715-af7d-5400f862164f",
   "metadata": {},
   "source": [
    "## Number Normalization\n",
    "\n",
    "Write a number so that there's one nonzero digit to the left of the decimal point such as 1.234 × 10⁶. \n",
    "\n",
    "### Computer number (binary) Normalization\n",
    "\n",
    "Mantissa has only one nonzero digit before the decimal point, which is 1 in binary (since binary only uses 0s and 1s).\n",
    "\n",
    "<img src=\"image/iEEE754_binary.png\"/>"
   ]
  },
  {
   "cell_type": "markdown",
   "id": "21d63b9c-d39c-4bcd-a280-6c99a2707298",
   "metadata": {},
   "source": [
    "\n",
    "<img src=\"image/IEEE754_1985_32bit.png\" align=\"left\"/>"
   ]
  },
  {
   "cell_type": "markdown",
   "id": "a729a200-9356-43fa-ae76-d62f875530b2",
   "metadata": {},
   "source": [
    "## Representing zero\n",
    "\n",
    "When the **mantissa is all zeros, and the exponent is also all zeros**, the floating-point format represents the number as 0.0. The key here is that the implicit leading 1 is not assumed in this special case, allowing the format to express the number 0.0 despite the usual convention of having an implicit leading 1 in the mantissa. When the mantissa is zero and the exponent is not zero, the number still be interpreted as zero. This case usually doesn’t occur in normalized forms."
   ]
  },
  {
   "cell_type": "code",
   "execution_count": 1,
   "id": "horizontal-portuguese",
   "metadata": {},
   "outputs": [],
   "source": [
    "import struct\n",
    "def visualize_ieee_754(x):\n",
    "    buf = struct.pack(\"d\", x)\n",
    "    i, = struct.unpack(\"Q\", buf)\n",
    "\n",
    "    print(format(i, '0>64b'))\n",
    "\n",
    "    SIGN_MASK = 0x8000000000000000\n",
    "    EXPN_MASK = 0x7FF0000000000000\n",
    "    MANT_MASK = 0x000FFFFFFFFFFFFF\n",
    "    print(f\"sign    : {format(i & SIGN_MASK, '0>1b')[:1]}\")\n",
    "    print(f\"exponent: {format(i & EXPN_MASK, '0>11b')[:11]}\")\n",
    "    print(f\"fraction: {format(i & MANT_MASK, '0>52b')}\")"
   ]
  },
  {
   "cell_type": "code",
   "execution_count": 3,
   "id": "clinical-liability",
   "metadata": {},
   "outputs": [
    {
     "name": "stdout",
     "output_type": "stream",
     "text": [
      "0000000000000000000000000000000000000000000000000000000000000000\n",
      "sign    : 0\n",
      "exponent: 00000000000\n",
      "fraction: 0000000000000000000000000000000000000000000000000000\n"
     ]
    }
   ],
   "source": [
    "visualize_ieee_754(0.0)"
   ]
  },
  {
   "cell_type": "code",
   "execution_count": null,
   "id": "cedb12f6-af9a-47d3-a00f-42115a1a8729",
   "metadata": {},
   "outputs": [],
   "source": []
  }
 ],
 "metadata": {
  "kernelspec": {
   "display_name": "Python 3 (ipykernel)",
   "language": "python",
   "name": "python3"
  },
  "language_info": {
   "codemirror_mode": {
    "name": "ipython",
    "version": 3
   },
   "file_extension": ".py",
   "mimetype": "text/x-python",
   "name": "python",
   "nbconvert_exporter": "python",
   "pygments_lexer": "ipython3",
   "version": "3.10.10"
  }
 },
 "nbformat": 4,
 "nbformat_minor": 5
}
