{
 "cells": [
  {
   "cell_type": "code",
   "execution_count": null,
   "id": "waiting-blade",
   "metadata": {},
   "outputs": [],
   "source": []
  },
  {
   "cell_type": "code",
   "execution_count": null,
   "id": "controlling-russia",
   "metadata": {},
   "outputs": [],
   "source": []
  },
  {
   "cell_type": "markdown",
   "id": "plain-cedar",
   "metadata": {},
   "source": [
    "* [IEEE 754 FLOATING POINT REPRESENTATION Alark Joshi](http://cs.boisestate.edu/~alark/cs354/lectures/ieee754.pdf)\n",
    "<img src=\"image/ieee_754_format.png\" align=\"left\" width=600/>"
   ]
  },
  {
   "cell_type": "code",
   "execution_count": 3,
   "id": "horizontal-portuguese",
   "metadata": {},
   "outputs": [],
   "source": [
    "import struct\n",
    "def visualize_ieee_754(x):\n",
    "    buf = struct.pack(\"d\", x)\n",
    "    i, = struct.unpack(\"Q\", buf)\n",
    "\n",
    "    print(format(i, '0>64b'))\n",
    "\n",
    "    SIGN_MASK = 0x8000000000000000\n",
    "    EXPN_MASK = 0x7FF0000000000000\n",
    "    MANT_MASK = 0x000FFFFFFFFFFFFF\n",
    "    print(f\"sign    : {format(i & SIGN_MASK, '0>1b')[:1]}\")\n",
    "    print(f\"exponent: {format(i & EXPN_MASK, '0>11b')[:11]}\")\n",
    "    print(f\"fraction: {format(i & MANT_MASK, '0>52b')}\")"
   ]
  },
  {
   "cell_type": "code",
   "execution_count": 4,
   "id": "clinical-liability",
   "metadata": {},
   "outputs": [
    {
     "name": "stdout",
     "output_type": "stream",
     "text": [
      "0011111111100000000000000000000000000000000000000000000000000000\n",
      "sign    : 0\n",
      "exponent: 11111111100\n",
      "fraction: 0000000000000000000000000000000000000000000000000000\n"
     ]
    }
   ],
   "source": [
    "visualize_ieee_754(0.5)"
   ]
  }
 ],
 "metadata": {
  "kernelspec": {
   "display_name": "Python 3",
   "language": "python",
   "name": "python3"
  },
  "language_info": {
   "codemirror_mode": {
    "name": "ipython",
    "version": 3
   },
   "file_extension": ".py",
   "mimetype": "text/x-python",
   "name": "python",
   "nbconvert_exporter": "python",
   "pygments_lexer": "ipython3",
   "version": "3.8.5"
  }
 },
 "nbformat": 4,
 "nbformat_minor": 5
}
