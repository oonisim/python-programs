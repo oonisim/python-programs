{
 "cells": [
  {
   "cell_type": "code",
   "execution_count": 1,
   "id": "19785c51",
   "metadata": {},
   "outputs": [],
   "source": [
    "import matplotlib.pyplot as plt"
   ]
  },
  {
   "cell_type": "code",
   "execution_count": 2,
   "id": "11bb348e",
   "metadata": {},
   "outputs": [
    {
     "data": {
      "text/plain": [
       "array([[ 1,  2,  3,  4],\n",
       "       [ 5,  6,  7,  8],\n",
       "       [ 9, 10, 11, 12]])"
      ]
     },
     "execution_count": 2,
     "metadata": {},
     "output_type": "execute_result"
    }
   ],
   "source": [
    "import numpy as np\n",
    "X = np.array(list(range(1, 13))).reshape(3, 4)\n",
    "X"
   ]
  },
  {
   "cell_type": "code",
   "execution_count": 3,
   "id": "cfaf1be6",
   "metadata": {},
   "outputs": [],
   "source": [
    "THETA = np.pi / 12"
   ]
  },
  {
   "cell_type": "markdown",
   "id": "71992127",
   "metadata": {},
   "source": [
    "# Eigen Decomposition"
   ]
  },
  {
   "cell_type": "markdown",
   "id": "6e675764",
   "metadata": {},
   "source": [
    "## Eigen vector matrix E\n",
    "\n",
    "**E** as row ordered matrix where the row $\\overrightarrow{\\boldsymbol{e_0}} = \\left [ cos(\\theta), sin(\\theta) \\right ]$ and $\\overrightarrow{\\boldsymbol{e_1}} = \\left [ -sin(\\theta), cos(\\theta) \\right ]$ are eigen vectors.\n",
    "\n",
    "$\\begin{bmatrix}cos(\\theta) & sin(\\theta) \\\\ -sin(\\theta) & cos(\\theta)\\end{bmatrix}$"
   ]
  },
  {
   "cell_type": "code",
   "execution_count": 4,
   "id": "f3f7f820",
   "metadata": {},
   "outputs": [],
   "source": [
    "def get_eigen_vector_matrix(theta):\n",
    "    return np.array([\n",
    "        [np.cos(theta), np.sin(theta)],\n",
    "        [-np.sin(theta), np.cos(theta)]\n",
    "    ])"
   ]
  },
  {
   "cell_type": "code",
   "execution_count": 5,
   "id": "3902ed29",
   "metadata": {},
   "outputs": [
    {
     "data": {
      "text/plain": [
       "array([[ 0.96592583,  0.25881905],\n",
       "       [-0.25881905,  0.96592583]])"
      ]
     },
     "execution_count": 5,
     "metadata": {},
     "output_type": "execute_result"
    }
   ],
   "source": [
    "E = get_eigen_vector_matrix(THETA)\n",
    "E"
   ]
  },
  {
   "cell_type": "markdown",
   "id": "92d4806b",
   "metadata": {},
   "source": [
    "## Eigen value diagonal matrix D\n",
    "\n",
    "D extends the eigen vector $\\overrightarrow{\\boldsymbol{e_0}}$ for $\\lambda_0$ times and  $\\overrightarrow{\\boldsymbol{e_1}}$ for $\\lambda_1$ times.\n",
    "\n",
    "$D = \\begin{bmatrix}\\lambda_0 & 0 \\\\ 0 & \\lambda_1 \\end{bmatrix}$"
   ]
  },
  {
   "cell_type": "code",
   "execution_count": 6,
   "id": "5b0d2f0a",
   "metadata": {},
   "outputs": [],
   "source": [
    "D = np.array([\n",
    "    [3, 0],\n",
    "    [0, 2]\n",
    "])"
   ]
  },
  {
   "cell_type": "markdown",
   "id": "a9de809b",
   "metadata": {},
   "source": [
    "# Projection Matrix $A = E^TD(E^T)^{-1}$\n",
    "\n",
    "Projection by the matrix $A \\cdot \\begin{bmatrix}x_0 \\\\ x_1 \\end{bmatrix} = E^T \\cdot D \\cdot (E^T)^{-1} \\cdot \\begin{bmatrix}x_0 \\\\ x_1 \\end{bmatrix}$ where:\n",
    "\n",
    "1. $(E^T)^{-1} \\cdot x$ maps the coefficients of $x = (x_0, x_1)$ in space **X** to those of $u = (u_0, u_1)$ in space **U** \n",
    "where the eigen vectors $(\\overrightarrow{\\boldsymbol{e_0}}, \\overrightarrow{\\boldsymbol{e_1}})$ are the basis.\n",
    "2. $D \\cdot u$ extends the coefficent of $\\overrightarrow{\\boldsymbol{e_0}}$ by $\\lambda_0$ times and that of $\\overrightarrow{\\boldsymbol{e_1}}$ by $\\lambda_1$ times as $\\begin{bmatrix}\\lambda_0u_0 \\\\ \\lambda_1u_1 \\end{bmatrix}$.\n",
    "3. $E^T$ projects $\\begin{bmatrix}\\lambda_0u_0 \\\\ \\lambda_1u_1 \\end{bmatrix}$ back to space **X**."
   ]
  },
  {
   "cell_type": "code",
   "execution_count": 42,
   "id": "86464cf9",
   "metadata": {},
   "outputs": [
    {
     "data": {
      "text/plain": [
       "array([[2.9330127, 0.25     ],\n",
       "       [0.25     , 2.0669873]])"
      ]
     },
     "execution_count": 42,
     "metadata": {},
     "output_type": "execute_result"
    }
   ],
   "source": [
    "A = E.T @ D @ np.linalg.inv(E.T)\n",
    "A"
   ]
  },
  {
   "cell_type": "code",
   "execution_count": 52,
   "id": "9d09c059",
   "metadata": {},
   "outputs": [
    {
     "name": "stdout",
     "output_type": "stream",
     "text": [
      "[3. 2.]\n",
      "[[ 0.96592583  0.25881905]\n",
      " [-0.25881905  0.96592583]]\n"
     ]
    }
   ],
   "source": [
    "l, e = np.linalg.eig(A)\n",
    "print(l)      # eigen values lambda\n",
    "print(e.T)    # eigen vectors e. Transpose to be row oriented"
   ]
  },
  {
   "cell_type": "markdown",
   "id": "2c954823",
   "metadata": {},
   "source": [
    "---\n",
    "# Data"
   ]
  },
  {
   "cell_type": "markdown",
   "id": "62f6d292",
   "metadata": {},
   "source": [
    "## Slope"
   ]
  },
  {
   "cell_type": "code",
   "execution_count": 44,
   "id": "11685421",
   "metadata": {},
   "outputs": [
    {
     "data": {
      "text/plain": [
       "0.2679491924311227"
      ]
     },
     "execution_count": 44,
     "metadata": {},
     "output_type": "execute_result"
    }
   ],
   "source": [
    "slope = np.sin(THETA) / np.cos(THETA)\n",
    "slope"
   ]
  },
  {
   "cell_type": "markdown",
   "id": "0cd12797",
   "metadata": {},
   "source": [
    "## Data points X"
   ]
  },
  {
   "cell_type": "code",
   "execution_count": 45,
   "id": "589664ce",
   "metadata": {},
   "outputs": [],
   "source": [
    "buf = []\n",
    "for x in np.linspace(-1, 1):\n",
    "    y = x * slope\n",
    "    deviation = np.random.uniform(0.01, 0.8)\n",
    "    buf.append([x, y * (1+deviation)])\n",
    "    buf.append([x, y * (1-deviation)])\n",
    "    \n",
    "X = np.array(buf)"
   ]
  },
  {
   "cell_type": "code",
   "execution_count": 46,
   "id": "38320639",
   "metadata": {},
   "outputs": [
    {
     "data": {
      "image/png": "[encoded data removed]",
      "text/plain": [
       "<Figure size 640x480 with 1 Axes>"
      ]
     },
     "metadata": {},
     "output_type": "display_data"
    }
   ],
   "source": [
    "plt.scatter(X[:, 0], X[:, 1])\n",
    "plt.xlim(-4, 4)\n",
    "plt.ylim(-1.2, 1.2)\n",
    "plt.grid()"
   ]
  },
  {
   "cell_type": "markdown",
   "id": "142645f9",
   "metadata": {},
   "source": [
    "## Verify slope from X"
   ]
  },
  {
   "cell_type": "code",
   "execution_count": 47,
   "id": "820206a2",
   "metadata": {},
   "outputs": [
    {
     "data": {
      "text/plain": [
       "array([[0.35044321, 0.09390097],\n",
       "       [0.09390097, 0.02956297]])"
      ]
     },
     "execution_count": 47,
     "metadata": {},
     "output_type": "execute_result"
    }
   ],
   "source": [
    "C = np.cov(X[:, 0], X[:, 1])\n",
    "C"
   ]
  },
  {
   "cell_type": "code",
   "execution_count": 48,
   "id": "70fc9322",
   "metadata": {},
   "outputs": [
    {
     "data": {
      "text/plain": [
       "0.26794919243112303"
      ]
     },
     "execution_count": 48,
     "metadata": {},
     "output_type": "execute_result"
    }
   ],
   "source": [
    "_variance = C[0, 0]     # x0^2\n",
    "_covariance = C[0, 1]   # x0*x1\n",
    "_covariance / _variance # same with slope"
   ]
  },
  {
   "cell_type": "code",
   "execution_count": 49,
   "id": "0273e330",
   "metadata": {},
   "outputs": [
    {
     "data": {
      "text/plain": [
       "0.2679491924311227"
      ]
     },
     "execution_count": 49,
     "metadata": {},
     "output_type": "execute_result"
    }
   ],
   "source": [
    "beta = np.divide(\n",
    "    np.dot(X[:, 0].T, X[:, 1]),\n",
    "    np.dot(X[:, 0].T, X[:, 0]),\n",
    ")\n",
    "beta    # Beta coefficient is the same with slope"
   ]
  },
  {
   "cell_type": "markdown",
   "id": "6c6a1a98",
   "metadata": {},
   "source": [
    "## Verify eigen vectors/values from X"
   ]
  },
  {
   "cell_type": "code",
   "execution_count": 54,
   "id": "31548246",
   "metadata": {},
   "outputs": [
    {
     "name": "stdout",
     "output_type": "stream",
     "text": [
      "[37.2143032   0.40630829]\n",
      "[[ 0.96515545  0.26167719]\n",
      " [-0.26167719  0.96515545]]\n"
     ]
    }
   ],
   "source": [
    "Xl, Xe = np.linalg.eig(X.T @ X)\n",
    "print(Xl)\n",
    "print(Xe.T)   # Transpose to be row oriented"
   ]
  },
  {
   "cell_type": "markdown",
   "id": "46c9066f",
   "metadata": {},
   "source": [
    "---\n",
    "# Apply $ED(E^T)^{-1}$"
   ]
  },
  {
   "cell_type": "markdown",
   "id": "eeef5e64",
   "metadata": {},
   "source": [
    "## Projection $(E^T)^{-1} \\cdot X$\n",
    "\n",
    "$(E^T)^{-1}$ projects the data points X into space **U** where the correlation in X is removed."
   ]
  },
  {
   "cell_type": "code",
   "execution_count": 55,
   "id": "a8c19d80",
   "metadata": {},
   "outputs": [
    {
     "name": "stdout",
     "output_type": "stream",
     "text": [
      "(2, 2)\n",
      "(2, 100)\n"
     ]
    }
   ],
   "source": [
    "print(np.linalg.inv(E.T).shape)\n",
    "print(X.T.shape)"
   ]
  },
  {
   "cell_type": "code",
   "execution_count": 56,
   "id": "0d32adde",
   "metadata": {},
   "outputs": [
    {
     "data": {
      "text/plain": [
       "(100, 2)"
      ]
     },
     "execution_count": 56,
     "metadata": {},
     "output_type": "execute_result"
    }
   ],
   "source": [
    "X_rotated = (np.linalg.inv(E.T) @ X.T).T\n",
    "X_rotated.shape"
   ]
  },
  {
   "cell_type": "code",
   "execution_count": 57,
   "id": "be60fbf9",
   "metadata": {},
   "outputs": [
    {
     "data": {
      "image/png": "[encoded data removed]",
      "text/plain": [
       "<Figure size 640x480 with 1 Axes>"
      ]
     },
     "metadata": {},
     "output_type": "display_data"
    }
   ],
   "source": [
    "plt.scatter(X_rotated[:, 0], X_rotated[:, 1])\n",
    "plt.xlim(-4, 4)\n",
    "plt.ylim(-1, 1)\n",
    "plt.grid()"
   ]
  },
  {
   "cell_type": "markdown",
   "id": "1414d1e0",
   "metadata": {},
   "source": [
    "## Extension $D \\cdot U$\n",
    "\n",
    "$D$ extends the coefficents $(u_0, u_1)$ to $(\\lambda_0u_0, \\lambda_1u_1)$."
   ]
  },
  {
   "cell_type": "code",
   "execution_count": 58,
   "id": "c409aba1",
   "metadata": {},
   "outputs": [
    {
     "data": {
      "text/plain": [
       "(100, 2)"
      ]
     },
     "execution_count": 58,
     "metadata": {},
     "output_type": "execute_result"
    }
   ],
   "source": [
    "X_rorated_extended = (D @ X_rotated.T).T\n",
    "X_rorated_extended.shape"
   ]
  },
  {
   "cell_type": "code",
   "execution_count": 59,
   "id": "e8667f1a",
   "metadata": {},
   "outputs": [
    {
     "data": {
      "image/png": "[encoded data removed]",
      "text/plain": [
       "<Figure size 640x480 with 1 Axes>"
      ]
     },
     "metadata": {},
     "output_type": "display_data"
    }
   ],
   "source": [
    "plt.scatter(X_rorated_extended[:, 0], X_rorated_extended[:, 1])\n",
    "plt.xlim(-4, 4)\n",
    "plt.ylim(-1.2, 1.2)\n",
    "plt.grid()"
   ]
  },
  {
   "cell_type": "markdown",
   "id": "d0d42df9",
   "metadata": {},
   "source": [
    "## Reversion $E^T \\cdot \\lambda U$\n",
    "\n",
    "$E^T$ projects the $\\lambda U$ back to space **X**."
   ]
  },
  {
   "cell_type": "code",
   "execution_count": 60,
   "id": "25478e21",
   "metadata": {},
   "outputs": [
    {
     "name": "stdout",
     "output_type": "stream",
     "text": [
      "(2, 2)\n",
      "(100, 2)\n"
     ]
    }
   ],
   "source": [
    "print(E.T.shape)\n",
    "print(X_rorated_extended.shape)"
   ]
  },
  {
   "cell_type": "code",
   "execution_count": 61,
   "id": "cfe041a7",
   "metadata": {},
   "outputs": [
    {
     "data": {
      "text/plain": [
       "(100, 2)"
      ]
     },
     "execution_count": 61,
     "metadata": {},
     "output_type": "execute_result"
    }
   ],
   "source": [
    "X_rorated_extended_reversed = (E.T @ X_rorated_extended.T).T\n",
    "X_rorated_extended_reversed.shape"
   ]
  },
  {
   "cell_type": "code",
   "execution_count": 62,
   "id": "13732902",
   "metadata": {},
   "outputs": [
    {
     "data": {
      "image/png": "[encoded data removed]",
      "text/plain": [
       "<Figure size 640x480 with 1 Axes>"
      ]
     },
     "metadata": {},
     "output_type": "display_data"
    }
   ],
   "source": [
    "plt.scatter(X_rorated_extended_reversed[:, 0], X_rorated_extended_reversed[:, 1])\n",
    "plt.xlim(-4, 4)\n",
    "plt.ylim(-1.2, 1.2)\n",
    "plt.grid()"
   ]
  },
  {
   "cell_type": "markdown",
   "id": "eb6861c5",
   "metadata": {},
   "source": [
    "---\n",
    "# Apply project matrix A"
   ]
  },
  {
   "cell_type": "code",
   "execution_count": 63,
   "id": "a1d5edfb",
   "metadata": {},
   "outputs": [
    {
     "data": {
      "text/plain": [
       "(100, 2)"
      ]
     },
     "execution_count": 63,
     "metadata": {},
     "output_type": "execute_result"
    }
   ],
   "source": [
    "Y = (A @ X.T).T\n",
    "Y.shape"
   ]
  },
  {
   "cell_type": "code",
   "execution_count": 64,
   "id": "1f33e646",
   "metadata": {},
   "outputs": [
    {
     "data": {
      "image/png": "[encoded data removed]",
      "text/plain": [
       "<Figure size 640x480 with 1 Axes>"
      ]
     },
     "metadata": {},
     "output_type": "display_data"
    }
   ],
   "source": [
    "plt.scatter(Y[:, 0], Y[:, 1])\n",
    "plt.xlim(-4, 4)\n",
    "plt.ylim(-1.2, 1.2)\n",
    "plt.grid()"
   ]
  },
  {
   "cell_type": "code",
   "execution_count": null,
   "id": "6fc794be",
   "metadata": {},
   "outputs": [],
   "source": []
  }
 ],
 "metadata": {
  "kernelspec": {
   "display_name": "Python 3 (ipykernel)",
   "language": "python",
   "name": "python3"
  },
  "language_info": {
   "codemirror_mode": {
    "name": "ipython",
    "version": 3
   },
   "file_extension": ".py",
   "mimetype": "text/x-python",
   "name": "python",
   "nbconvert_exporter": "python",
   "pygments_lexer": "ipython3",
   "version": "3.9.13"
  }
 },
 "nbformat": 4,
 "nbformat_minor": 5
}
