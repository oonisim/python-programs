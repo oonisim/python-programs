{
 "cells": [
  {
   "cell_type": "markdown",
   "id": "b4293025",
   "metadata": {},
   "source": [
    "# Mistake\n",
    "Quite silly thinking the reshape is the same with transpose."
   ]
  },
  {
   "cell_type": "code",
   "execution_count": 80,
   "id": "34f028c0",
   "metadata": {},
   "outputs": [],
   "source": [
    "import numpy as np\n",
    "import matplotlib.pyplot as plt\n",
    "np.set_printoptions(suppress=True)"
   ]
  },
  {
   "cell_type": "code",
   "execution_count": 112,
   "id": "3fb2d059",
   "metadata": {},
   "outputs": [],
   "source": [
    "N = 4   # Number of vectors\n",
    "THETA = np.pi / 12"
   ]
  },
  {
   "cell_type": "markdown",
   "id": "6b3bd199",
   "metadata": {},
   "source": [
    "# Data"
   ]
  },
  {
   "cell_type": "markdown",
   "id": "62f6d292",
   "metadata": {},
   "source": [
    "## Slope"
   ]
  },
  {
   "cell_type": "code",
   "execution_count": 113,
   "id": "11685421",
   "metadata": {},
   "outputs": [
    {
     "data": {
      "text/plain": [
       "0.2679491924311227"
      ]
     },
     "execution_count": 113,
     "metadata": {},
     "output_type": "execute_result"
    }
   ],
   "source": [
    "slope = np.sin(THETA) / np.cos(THETA)\n",
    "slope"
   ]
  },
  {
   "cell_type": "markdown",
   "id": "0cd12797",
   "metadata": {},
   "source": [
    "## Data points X\n",
    "\n",
    "Row oriented vector."
   ]
  },
  {
   "cell_type": "code",
   "execution_count": 129,
   "id": "589664ce",
   "metadata": {},
   "outputs": [
    {
     "data": {
      "text/plain": [
       "(4, 2)"
      ]
     },
     "execution_count": 129,
     "metadata": {},
     "output_type": "execute_result"
    }
   ],
   "source": [
    "buf = []\n",
    "for x in np.linspace(-1, 1, num=int(N/2)):\n",
    "    y = x * slope\n",
    "    deviation = np.random.uniform(0.01, 0.8)\n",
    "    buf.append([x, y * (1+deviation)])\n",
    "    buf.append([x, y * (1-deviation)])\n",
    "    \n",
    "X = np.array(buf)\n",
    "D = X.shape[1] # Dimension of the vector\n",
    "X.shape"
   ]
  },
  {
   "cell_type": "code",
   "execution_count": 130,
   "id": "0a830379",
   "metadata": {},
   "outputs": [],
   "source": [
    "# Make sure to zero-centered per each feature\n",
    "X_mean = np.mean(X, axis=0)\n",
    "X = X - X_mean"
   ]
  },
  {
   "cell_type": "code",
   "execution_count": 131,
   "id": "316f4c99",
   "metadata": {},
   "outputs": [
    {
     "data": {
      "text/plain": [
       "array([[-1.        , -0.36440124],\n",
       "       [-1.        , -0.17149715],\n",
       "       [ 1.        ,  0.47465933],\n",
       "       [ 1.        ,  0.06123906]])"
      ]
     },
     "execution_count": 131,
     "metadata": {},
     "output_type": "execute_result"
    }
   ],
   "source": [
    "X"
   ]
  },
  {
   "cell_type": "markdown",
   "id": "6f561b6e",
   "metadata": {},
   "source": [
    "# Transpose"
   ]
  },
  {
   "cell_type": "code",
   "execution_count": 132,
   "id": "12e08bce",
   "metadata": {},
   "outputs": [
    {
     "data": {
      "text/plain": [
       "array([[-1.        , -1.        ,  1.        ,  1.        ],\n",
       "       [-0.36440124, -0.17149715,  0.47465933,  0.06123906]])"
      ]
     },
     "execution_count": 132,
     "metadata": {},
     "output_type": "execute_result"
    }
   ],
   "source": [
    "X.T"
   ]
  },
  {
   "cell_type": "markdown",
   "id": "9df6b9b6",
   "metadata": {},
   "source": [
    "# Reshape"
   ]
  },
  {
   "cell_type": "code",
   "execution_count": 134,
   "id": "c3f3d89b",
   "metadata": {},
   "outputs": [
    {
     "data": {
      "text/plain": [
       "array([[-1.        , -0.36440124, -1.        , -0.17149715],\n",
       "       [ 1.        ,  0.47465933,  1.        ,  0.06123906]])"
      ]
     },
     "execution_count": 134,
     "metadata": {},
     "output_type": "execute_result"
    }
   ],
   "source": [
    "X.reshape((D, -1))"
   ]
  }
 ],
 "metadata": {
  "kernelspec": {
   "display_name": "Python 3 (ipykernel)",
   "language": "python",
   "name": "python3"
  },
  "language_info": {
   "codemirror_mode": {
    "name": "ipython",
    "version": 3
   },
   "file_extension": ".py",
   "mimetype": "text/x-python",
   "name": "python",
   "nbconvert_exporter": "python",
   "pygments_lexer": "ipython3",
   "version": "3.9.12"
  }
 },
 "nbformat": 4,
 "nbformat_minor": 5
}
