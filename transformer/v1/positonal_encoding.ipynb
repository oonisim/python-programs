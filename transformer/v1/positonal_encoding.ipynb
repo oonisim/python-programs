{
 "cells": [
  {
   "cell_type": "code",
   "execution_count": 1,
   "id": "bf02e0fd-a076-4d71-9ce5-babb950e4367",
   "metadata": {},
   "outputs": [],
   "source": [
    "import numpy as np\n",
    "import matplotlib.pyplot as plt"
   ]
  },
  {
   "cell_type": "markdown",
   "id": "6d848ba8-e266-4159-b491-f3ce2fdd55df",
   "metadata": {},
   "source": [
    "<img src=\"image/transformer_position_encoding.png\" align=\"left\" width=600/>"
   ]
  },
  {
   "cell_type": "markdown",
   "id": "5a118a9b-9fd1-4bd2-9dea-eb9643875c3a",
   "metadata": {},
   "source": [
    "## How Transformer Position Encoding simulates Binary Bit togging\n",
    "\n",
    "\n",
    "The ```0/1``` togging frequency gets lower as the index in the embedding vector increases. This simulates the togging frequecy in the higher bits of the binary number expression.\n",
    "\n",
    "<img src=\"image/transformer_position_encoding_intuition.png\" aign=\"left\" width=600/>"
   ]
  },
  {
   "cell_type": "code",
   "execution_count": 2,
   "id": "6a8be11e-a2e3-4626-b2a0-723541071cd2",
   "metadata": {},
   "outputs": [],
   "source": [
    "B = base = 10000\n",
    "D = d_model = 512\n",
    "T = sequence_length = 512\n",
    "dim_indices = np.arange(0, 512)"
   ]
  },
  {
   "cell_type": "code",
   "execution_count": 3,
   "id": "9bd4b129-788a-45fe-8626-95b4a6752eef",
   "metadata": {},
   "outputs": [],
   "source": [
    "def get_denominator(index: int, d_model: int = D, base: int = B):\n",
    "    \"\"\"\n",
    "    Args:\n",
    "        index: dimension index (0 ... D-1)\n",
    "        d_model: embedding dimensions\n",
    "        base: denominator base\n",
    "    \"\"\"\n",
    "    return np.power(base, 2 * index / d_model)"
   ]
  },
  {
   "cell_type": "markdown",
   "id": "dc165727-48fe-47e6-9f38-d76413120948",
   "metadata": {},
   "source": [
    "## Denominator of the position parameter\n",
    "\n",
    "* The frequency ```ω``` decrease as ```d``` (dimensional position in ```D``` dimensional vector) increases.\n",
    "\n",
    "$$\\frac {1}{C ^{ \\frac {2d} {D} }}$$\n",
    "\n"
   ]
  },
  {
   "cell_type": "code",
   "execution_count": 4,
   "id": "4248a6a6-209c-4e09-89e7-5bdaa4327dc8",
   "metadata": {},
   "outputs": [
    {
     "data": {
      "image/png": "[encoded data removed]",
      "text/plain": [
       "<Figure size 1600x200 with 1 Axes>"
      ]
     },
     "metadata": {},
     "output_type": "display_data"
    }
   ],
   "source": [
    "plt.figure(figsize=(16, 2))\n",
    "plt.xlabel(\"dimension index d (0 ... D-1)\")\n",
    "plt.ylabel(\"denominator\")\n",
    "plt.plot(get_denominator(index=dim_indices), label=\"denominator (log scale)\")\n",
    "plt.title(\"Denominator\")\n",
    "plt.yscale(\"log\")\n",
    "plt.grid()"
   ]
  },
  {
   "cell_type": "code",
   "execution_count": 5,
   "id": "e50ccf20-6112-4e91-858a-beb7e0ae783a",
   "metadata": {},
   "outputs": [
    {
     "ename": "NameError",
     "evalue": "name 'x' is not defined",
     "output_type": "error",
     "traceback": [
      "\u001b[0;31m---------------------------------------------------------------------------\u001b[0m",
      "\u001b[0;31mNameError\u001b[0m                                 Traceback (most recent call last)",
      "Cell \u001b[0;32mIn[5], line 2\u001b[0m\n\u001b[1;32m      1\u001b[0m plt\u001b[38;5;241m.\u001b[39mfigure(figsize\u001b[38;5;241m=\u001b[39m(\u001b[38;5;241m16\u001b[39m, \u001b[38;5;241m2\u001b[39m))\n\u001b[0;32m----> 2\u001b[0m plt\u001b[38;5;241m.\u001b[39mplot(\u001b[43mx\u001b[49m, \u001b[38;5;241m1\u001b[39m\u001b[38;5;241m/\u001b[39mdenominator(x), label\u001b[38;5;241m=\u001b[39m\u001b[38;5;124m\"\u001b[39m\u001b[38;5;124mdenominator\u001b[39m\u001b[38;5;124m\"\u001b[39m)\n\u001b[1;32m      3\u001b[0m plt\u001b[38;5;241m.\u001b[39mgrid()\n",
      "\u001b[0;31mNameError\u001b[0m: name 'x' is not defined"
     ]
    },
    {
     "data": {
      "text/plain": [
       "<Figure size 1600x200 with 0 Axes>"
      ]
     },
     "metadata": {},
     "output_type": "display_data"
    }
   ],
   "source": [
    "plt.figure(figsize=(16, 2))\n",
    "plt.plot(x, 1/denominator(x), label=\"denominator\")\n",
    "plt.grid()"
   ]
  },
  {
   "cell_type": "markdown",
   "id": "2c4f4a4c-877e-4014-bf0a-d51b2bd9cd42",
   "metadata": {},
   "source": [
    "# Position Encodings"
   ]
  },
  {
   "cell_type": "code",
   "execution_count": null,
   "id": "bc39d509-4bff-4fb1-a6ed-551f6ae58db1",
   "metadata": {},
   "outputs": [],
   "source": [
    "plt.figure(figsize=(16, 3))\n",
    "for pos in range(0, 2, 1):\n",
    "    plt.plot(np.sin(pos/get_denominator(dim_indices)), label=f\"dimension {pos}\")\n",
    "\n",
    "plt.grid()\n",
    "plt.legend(loc = \"upper right\")    "
   ]
  },
  {
   "cell_type": "code",
   "execution_count": null,
   "id": "0a266790-38ba-4cab-ac36-7706ecb86468",
   "metadata": {},
   "outputs": [],
   "source": [
    "plt.figure(figsize=(16, 3))\n",
    "for pos in range(0, 2):\n",
    "    plt.plot(np.cos(pos/get_denominator(dim_indices)), label=f\"dimension {pos}\")\n",
    "\n",
    "plt.grid()\n",
    "plt.legend(loc = \"upper right\")    "
   ]
  },
  {
   "cell_type": "code",
   "execution_count": null,
   "id": "a3b705f4-8505-48c6-9410-f37c3beba803",
   "metadata": {},
   "outputs": [],
   "source": [
    "import numpy as np\n",
    "import matplotlib.pyplot as plt\n",
    "\n",
    "def encode_position(position: int, d_model: int = D, base: int = B):\n",
    "    encodings = np.zeros((d_model,))    # Embeddings of a position (D,)\n",
    "    # Even indices\n",
    "    indices = np.arange(0, d_model, 2)\n",
    "    encodings[indices] = np.sin(position / get_denominator(index=indices, d_model=d_model, base=base)) \n",
    "\n",
    "    # Odd indices\n",
    "    indices = np.arange(1, d_model, 2)\n",
    "    encodings[indices] = np.cos(position / get_denominator(index=indices, d_model=d_model, base=base)) \n",
    "\n",
    "    return encodings\n",
    "\n",
    "def get_positon_encodings(length: int = T, d_model: int = D, base: int = B):\n",
    "    \"\"\"\n",
    "    Args:\n",
    "        length: sqeuqnce_length\n",
    "        d_model: embedding dimensions\n",
    "        base: denominator base        \n",
    "    \"\"\"\n",
    "    positions = np.array([\n",
    "        encode_position(position=position, d_model=d_model, base=base)\n",
    "        for position in range(length)    \n",
    "    ])\n",
    "    return positions\n"
   ]
  },
  {
   "cell_type": "code",
   "execution_count": null,
   "id": "7e9ce63f-73e5-46cd-900d-7a3a48112968",
   "metadata": {},
   "outputs": [],
   "source": [
    "positions = range(0, 3)\n",
    "\n",
    "plt.figure(figsize=(16, 10))\n",
    "for pos in positions:\n",
    "    plt.plot(encode_position(pos, d_model=D, base=B), label=f\"position {pos}\")\n",
    "plt.xlim(0, 8)\n",
    "plt.grid()\n",
    "plt.legend()"
   ]
  },
  {
   "cell_type": "code",
   "execution_count": null,
   "id": "df0d1276-2bec-4a1a-80c4-ea5190ebfba7",
   "metadata": {},
   "outputs": [],
   "source": [
    "position_encodings = get_positon_encodings(length=T, d_model=D, base=B)"
   ]
  },
  {
   "cell_type": "code",
   "execution_count": null,
   "id": "707dfdc1-9809-4fb8-8704-74a6336f365f",
   "metadata": {},
   "outputs": [],
   "source": [
    "plt.figure(figsize=(20, 3))\n",
    "cax = plt.matshow(position_encodings)\n",
    "plt.gcf().colorbar(cax)"
   ]
  },
  {
   "cell_type": "markdown",
   "id": "3a07207e-a6dd-4159-ab98-368acbe24b4c",
   "metadata": {},
   "source": [
    "$$ω = \\frac {1}{C ^{ \\frac {2p} {D} }}$$"
   ]
  }
 ],
 "metadata": {
  "kernelspec": {
   "display_name": "Python 3 (ipykernel)",
   "language": "python",
   "name": "python3"
  },
  "language_info": {
   "codemirror_mode": {
    "name": "ipython",
    "version": 3
   },
   "file_extension": ".py",
   "mimetype": "text/x-python",
   "name": "python",
   "nbconvert_exporter": "python",
   "pygments_lexer": "ipython3",
   "version": "3.10.10"
  }
 },
 "nbformat": 4,
 "nbformat_minor": 5
}
