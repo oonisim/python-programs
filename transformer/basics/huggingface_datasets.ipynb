{
 "cells": [
  {
   "cell_type": "markdown",
   "id": "59b488b1",
   "metadata": {},
   "source": [
    "# Hugging Face Datasets\n",
    "\n",
    "Provide easy access to the transformer datasets e.g. GLUE. Similar to TFDS Datasets with splits ```(train, validation, test)``` and return a dictionary with splits by default.\n",
    "\n",
    "\n",
    "* [Github - Hugging Face Datasets](https://github.com/huggingface/datasets)\n",
    "\n",
    "> ```\n",
    "> pip install datasets\n",
    "> ```\n",
    "> * ```datasets.list_datasets()``` to list the available datasets\n",
    "> * ```datasets.load_dataset(dataset_name, **kwargs)``` to instantiate a dataset\n",
    "\n",
    "* [Hugging Face Datasets Introduction](https://huggingface.co/course/chapter5/1?fw=pt)\n",
    "\n",
    "* [Hugging Face Datasets - Quick Start](https://huggingface.co/docs/datasets/quickstart)\n",
    "\n",
    "<img src=\"../image/huggingface_datasets.png\" align=\"left\" width=700/>"
   ]
  },
  {
   "cell_type": "code",
   "execution_count": 3,
   "id": "bf1f37f5",
   "metadata": {},
   "outputs": [],
   "source": [
    "!pip install datasets --quiet"
   ]
  },
  {
   "cell_type": "code",
   "execution_count": 26,
   "id": "7f04b998",
   "metadata": {},
   "outputs": [],
   "source": [
    "import numpy as np\n",
    "import pandas as pd\n",
    "import datasets\n",
    "from datasets import (\n",
    "    list_datasets, \n",
    "    load_dataset,\n",
    "    get_dataset_split_names,\n",
    ")\n",
    "\n",
    "\n",
    "pd.set_option('display.max_columns', None)\n",
    "pd.set_option('display.max_rows', None)\n",
    "pd.set_option(\"max_colwidth\", None)\n",
    "pd.set_option(\"max_seq_items\", None)"
   ]
  },
  {
   "cell_type": "markdown",
   "id": "7a4a2db6",
   "metadata": {},
   "source": [
    "# List available datasets"
   ]
  },
  {
   "cell_type": "code",
   "execution_count": 4,
   "id": "394b4f3c",
   "metadata": {},
   "outputs": [
    {
     "data": {
      "text/plain": [
       "['acronym_identification',\n",
       " 'ade_corpus_v2',\n",
       " 'adversarial_qa',\n",
       " 'aeslc',\n",
       " 'afrikaans_ner_corpus']"
      ]
     },
     "execution_count": 4,
     "metadata": {},
     "output_type": "execute_result"
    }
   ],
   "source": [
    "list_datasets()[:5]"
   ]
  },
  {
   "cell_type": "markdown",
   "id": "ba295e81",
   "metadata": {},
   "source": [
    "----\n",
    "\n",
    "# Random access vs Iterable \n",
    "\n",
    "* [IterableDataset](https://huggingface.co/docs/datasets/access#iterabledataset)\n",
    "\n",
    "> An IterableDataset is loaded when you set the streaming parameter to True in ```load_dataset()```:\n",
    "> ```\n",
    "> from datasets import load_dataset\n",
    "> iterable_dataset = load_dataset(\"food101\", split=\"train\", streaming=True)\n",
    "> ```\n"
   ]
  },
  {
   "cell_type": "markdown",
   "id": "041191d5",
   "metadata": {},
   "source": [
    "# Loading CSV, JSON, Parquet, SQL result from local and URL\n",
    "\n",
    "Like Pandas read methods, Dataset can load them from local disks or URLs.\n",
    "\n",
    "* [Local and remote files](https://huggingface.co/docs/datasets/loading#local-and-remote-files)\n",
    "\n",
    "> Datasets can be loaded from local files stored on your computer and from remote files. The datasets are most likely stored as a csv, json, txt or parquet file. The load_dataset() function can load each of these file types."
   ]
  },
  {
   "cell_type": "markdown",
   "id": "e45118d9",
   "metadata": {},
   "source": [
    "---\n",
    "# Methods\n",
    "\n",
    "* [rotten_tomatoes](https://huggingface.co/datasets/rotten_tomatoes) movie review dataset\n",
    "\n",
    "> Movie Review Dataset. This is a dataset of containing 5,331 positive and 5,331 negative processed sentences from Rotten Tomatoes movie reviews. This data was first used in Bo Pang and Lillian Lee, ``Seeing stars: Exploiting class relationships for sentiment categorization with respect to rating scales.'', Proceedings of the ACL, 2005.\n",
    "\n",
    "<img src=\"../image/huggingface_dataset_rotten_tomatos.png\" align=\"left\" width=700/>"
   ]
  },
  {
   "cell_type": "code",
   "execution_count": 16,
   "id": "cc92b2e4",
   "metadata": {},
   "outputs": [],
   "source": [
    "dataset_name = \"rotten_tomatoes\""
   ]
  },
  {
   "cell_type": "markdown",
   "id": "90547852",
   "metadata": {},
   "source": [
    "## Get the names of splits"
   ]
  },
  {
   "cell_type": "code",
   "execution_count": 12,
   "id": "b658a6b4",
   "metadata": {},
   "outputs": [
    {
     "data": {
      "text/plain": [
       "['train', 'validation', 'test']"
      ]
     },
     "execution_count": 12,
     "metadata": {},
     "output_type": "execute_result"
    }
   ],
   "source": [
    "get_dataset_split_names(dataset_name)"
   ]
  },
  {
   "cell_type": "markdown",
   "id": "d5637570",
   "metadata": {},
   "source": [
    "## Load a dataset\n",
    "\n",
    "* [datasets.load_dataset(path: str, split: str, streaming: bool, num_proc: int)](https://huggingface.co/docs/datasets/package_reference/loading_methods#datasets.load_dataset)\n",
    "\n",
    "Returns [datasets.DatasetDict](https://huggingface.co/docs/datasets/main/en/package_reference/main_classes#datasets.DatasetDict) if ```split``` is ```None``` or [datasets.Dataset](https://huggingface.co/docs/datasets/main/en/package_reference/main_classes#datasets.Dataset). Similar to TFDS load method."
   ]
  },
  {
   "cell_type": "markdown",
   "id": "98ec9bf7",
   "metadata": {},
   "source": [
    "### Load multiple splits as Dataset"
   ]
  },
  {
   "cell_type": "code",
   "execution_count": 33,
   "id": "9173b213",
   "metadata": {},
   "outputs": [
    {
     "name": "stderr",
     "output_type": "stream",
     "text": [
      "Found cached dataset rotten_tomatoes (/Users/oonisim/.cache/huggingface/datasets/rotten_tomatoes/default/1.0.0/40d411e45a6ce3484deed7cc15b82a53dad9a72aafd9f86f8f227134bec5ca46)\n"
     ]
    }
   ],
   "source": [
    "combined: datasets.Dataset = datasets.load_dataset(\n",
    "    path=dataset_name, \n",
    "    split=\"train+test\",\n",
    "    num_proc=8\n",
    ")"
   ]
  },
  {
   "cell_type": "code",
   "execution_count": 34,
   "id": "0f93e14a",
   "metadata": {},
   "outputs": [
    {
     "data": {
      "text/plain": [
       "datasets.arrow_dataset.Dataset"
      ]
     },
     "execution_count": 34,
     "metadata": {},
     "output_type": "execute_result"
    }
   ],
   "source": [
    "type(combined)"
   ]
  },
  {
   "cell_type": "code",
   "execution_count": 35,
   "id": "46e802be",
   "metadata": {},
   "outputs": [
    {
     "name": "stdout",
     "output_type": "stream",
     "text": [
      "9596\n"
     ]
    }
   ],
   "source": [
    "print(len(combined))\n",
    "del combined"
   ]
  },
  {
   "cell_type": "markdown",
   "id": "d915f7e9",
   "metadata": {},
   "source": [
    "### Load part of split"
   ]
  },
  {
   "cell_type": "code",
   "execution_count": 45,
   "id": "0bb9a254",
   "metadata": {},
   "outputs": [
    {
     "name": "stderr",
     "output_type": "stream",
     "text": [
      "Found cached dataset rotten_tomatoes (/Users/oonisim/.cache/huggingface/datasets/rotten_tomatoes/default/1.0.0/40d411e45a6ce3484deed7cc15b82a53dad9a72aafd9f86f8f227134bec5ca46)\n"
     ]
    }
   ],
   "source": [
    "partial: datasets.Dataset = datasets.load_dataset(\n",
    "    path=dataset_name, \n",
    "    split=\"train[10:20]\",\n",
    "    num_proc=8\n",
    ")"
   ]
  },
  {
   "cell_type": "code",
   "execution_count": 50,
   "id": "a7c5ecb4",
   "metadata": {},
   "outputs": [
    {
     "name": "stderr",
     "output_type": "stream",
     "text": [
      "Loading cached processed dataset at /Users/oonisim/.cache/huggingface/datasets/rotten_tomatoes/default/1.0.0/40d411e45a6ce3484deed7cc15b82a53dad9a72aafd9f86f8f227134bec5ca46/cache-b579144e7150ad6b.arrow\n"
     ]
    },
    {
     "name": "stdout",
     "output_type": "stream",
     "text": [
      "{'text': 'this is a film well ', 'label': 1}\n"
     ]
    }
   ],
   "source": [
    "x = partial.map(lambda x: {\"text\": x['text'][:20], \"label\": x['label']})\n",
    "print(x[0])\n",
    "del x, partial"
   ]
  },
  {
   "cell_type": "markdown",
   "id": "c2fcb61f",
   "metadata": {},
   "source": [
    "### Load entire dataset as DatasetDict"
   ]
  },
  {
   "cell_type": "code",
   "execution_count": 27,
   "id": "154388e0",
   "metadata": {},
   "outputs": [
    {
     "name": "stderr",
     "output_type": "stream",
     "text": [
      "Found cached dataset rotten_tomatoes (/Users/oonisim/.cache/huggingface/datasets/rotten_tomatoes/default/1.0.0/40d411e45a6ce3484deed7cc15b82a53dad9a72aafd9f86f8f227134bec5ca46)\n"
     ]
    },
    {
     "data": {
      "application/vnd.jupyter.widget-view+json": {
       "model_id": "fec64ba584b74ecea6a76e64c7be103c",
       "version_major": 2,
       "version_minor": 0
      },
      "text/plain": [
       "  0%|          | 0/3 [00:00<?, ?it/s]"
      ]
     },
     "metadata": {},
     "output_type": "display_data"
    },
    {
     "data": {
      "text/plain": [
       "dict_keys(['train', 'validation', 'test'])"
      ]
     },
     "execution_count": 27,
     "metadata": {},
     "output_type": "execute_result"
    }
   ],
   "source": [
    "dataset: datasets.DatasetDict = load_dataset(dataset_name, streaming=False, num_proc=8)\n",
    "dataset.keys()"
   ]
  },
  {
   "cell_type": "markdown",
   "id": "7a80ad99",
   "metadata": {},
   "source": [
    "## Attributes\n",
    "### Column names"
   ]
  },
  {
   "cell_type": "code",
   "execution_count": 65,
   "id": "815aea73",
   "metadata": {},
   "outputs": [
    {
     "data": {
      "text/plain": [
       "['text', 'label']"
      ]
     },
     "execution_count": 65,
     "metadata": {},
     "output_type": "execute_result"
    }
   ],
   "source": [
    "dataset['train'].column_names"
   ]
  },
  {
   "cell_type": "markdown",
   "id": "a525fa46",
   "metadata": {},
   "source": [
    "### Shape"
   ]
  },
  {
   "cell_type": "code",
   "execution_count": 66,
   "id": "2cb401a5",
   "metadata": {},
   "outputs": [
    {
     "data": {
      "text/plain": [
       "(8530, 2)"
      ]
     },
     "execution_count": 66,
     "metadata": {},
     "output_type": "execute_result"
    }
   ],
   "source": [
    "dataset['train'].shape"
   ]
  },
  {
   "cell_type": "markdown",
   "id": "5d4c319a",
   "metadata": {},
   "source": [
    "## Random access"
   ]
  },
  {
   "cell_type": "code",
   "execution_count": 57,
   "id": "4c7f1b98",
   "metadata": {},
   "outputs": [],
   "source": [
    "train: datasets.Dataset = dataset['train']"
   ]
  },
  {
   "cell_type": "code",
   "execution_count": 58,
   "id": "f6b9d32d",
   "metadata": {},
   "outputs": [],
   "source": [
    "df = pd.DataFrame(train.shuffle()[:5])"
   ]
  },
  {
   "cell_type": "code",
   "execution_count": 59,
   "id": "9d25cc20",
   "metadata": {
    "scrolled": true
   },
   "outputs": [
    {
     "data": {
      "text/html": [
       "<div>\n",
       "<style scoped>\n",
       "    .dataframe tbody tr th:only-of-type {\n",
       "        vertical-align: middle;\n",
       "    }\n",
       "\n",
       "    .dataframe tbody tr th {\n",
       "        vertical-align: top;\n",
       "    }\n",
       "\n",
       "    .dataframe thead th {\n",
       "        text-align: right;\n",
       "    }\n",
       "</style>\n",
       "<table border=\"1\" class=\"dataframe\">\n",
       "  <thead>\n",
       "    <tr style=\"text-align: right;\">\n",
       "      <th></th>\n",
       "      <th>text</th>\n",
       "      <th>label</th>\n",
       "    </tr>\n",
       "  </thead>\n",
       "  <tbody>\n",
       "    <tr>\n",
       "      <th>0</th>\n",
       "      <td>phillip noyce and all of his actors -- as well as his cinematographer , christopher doyle -- understand the delicate forcefulness of greene's prose , and it's there on the screen in their version of the quiet american .</td>\n",
       "      <td>1</td>\n",
       "    </tr>\n",
       "    <tr>\n",
       "      <th>1</th>\n",
       "      <td>nettelbeck . . . has a pleasing way with a metaphor .</td>\n",
       "      <td>1</td>\n",
       "    </tr>\n",
       "    <tr>\n",
       "      <th>2</th>\n",
       "      <td>the issues are presented in such a lousy way , complete with some of the year's ( unintentionally ) funniest moments , that it's impossible to care .</td>\n",
       "      <td>0</td>\n",
       "    </tr>\n",
       "    <tr>\n",
       "      <th>3</th>\n",
       "      <td>as a rumor of angels reveals itself to be a sudsy tub of supernatural hokum , not even ms . redgrave's noblest efforts can redeem it from hopeless sentimentality .</td>\n",
       "      <td>0</td>\n",
       "    </tr>\n",
       "    <tr>\n",
       "      <th>4</th>\n",
       "      <td>mostly martha could have used a little trimming -- 10 or 15 minutes could be cut and no one would notice -- but it's a pleasurable trifle . the only pain you'll feel as the credits roll is your stomach grumbling for some tasty grub .</td>\n",
       "      <td>1</td>\n",
       "    </tr>\n",
       "  </tbody>\n",
       "</table>\n",
       "</div>"
      ],
      "text/plain": [
       "                                                                                                                                                                                                                                        text  \\\n",
       "0                phillip noyce and all of his actors -- as well as his cinematographer , christopher doyle -- understand the delicate forcefulness of greene's prose , and it's there on the screen in their version of the quiet american .   \n",
       "1                                                                                                                                                                                      nettelbeck . . . has a pleasing way with a metaphor .   \n",
       "2                                                                                      the issues are presented in such a lousy way , complete with some of the year's ( unintentionally ) funniest moments , that it's impossible to care .   \n",
       "3                                                                        as a rumor of angels reveals itself to be a sudsy tub of supernatural hokum , not even ms . redgrave's noblest efforts can redeem it from hopeless sentimentality .   \n",
       "4  mostly martha could have used a little trimming -- 10 or 15 minutes could be cut and no one would notice -- but it's a pleasurable trifle . the only pain you'll feel as the credits roll is your stomach grumbling for some tasty grub .   \n",
       "\n",
       "   label  \n",
       "0      1  \n",
       "1      1  \n",
       "2      0  \n",
       "3      0  \n",
       "4      1  "
      ]
     },
     "execution_count": 59,
     "metadata": {},
     "output_type": "execute_result"
    }
   ],
   "source": [
    "df"
   ]
  },
  {
   "cell_type": "markdown",
   "id": "3816671c",
   "metadata": {},
   "source": [
    "## Select rows\n",
    "\n",
    "* [select(indices (range, list, iterable, ndarray or Series)](https://huggingface.co/docs/datasets/v2.11.0/en/package_reference/main_classes#datasets.Dataset.select)\n",
    "\n",
    "select() returns rows according to a list of indices."
   ]
  },
  {
   "cell_type": "code",
   "execution_count": 73,
   "id": "5e7db4dc",
   "metadata": {},
   "outputs": [
    {
     "name": "stdout",
     "output_type": "stream",
     "text": [
      "{'text': 'too smart to ignore but a little too smugly superior to like , this could be a movie that ends up slapping its target audience in the face by shooting itself in the foot .', 'label': 0}\n"
     ]
    }
   ],
   "source": [
    "selected: datasets.Dataset = train.shuffle().select([1,3,5,7,9])\n",
    "print(selected[0])\n",
    "del selected"
   ]
  },
  {
   "cell_type": "markdown",
   "id": "aaa91a7e",
   "metadata": {},
   "source": [
    "## map\n",
    "\n",
    "* [Dataset.map(function: Callable, with_indices: bool, num_proc: int, remove_columns: Optional)](https://huggingface.co/docs/datasets/v2.11.0/en/package_reference/main_classes#datasets.Dataset.map)"
   ]
  },
  {
   "cell_type": "code",
   "execution_count": 36,
   "id": "1c70a53c",
   "metadata": {},
   "outputs": [],
   "source": [
    "from transformers import AutoTokenizer\n",
    "\n",
    "tokenizer = AutoTokenizer.from_pretrained(\n",
    "    pretrained_model_name_or_path='bigscience/bloom-560m', \n",
    "    use_fast=True\n",
    ")"
   ]
  },
  {
   "cell_type": "code",
   "execution_count": 64,
   "id": "bd7b8cc7",
   "metadata": {},
   "outputs": [
    {
     "name": "stderr",
     "output_type": "stream",
     "text": [
      "num_proc must be <= 5. Reducing num_proc to 5 for dataset of size 5.\n"
     ]
    },
    {
     "data": {
      "application/vnd.jupyter.widget-view+json": {
       "model_id": "",
       "version_major": 2,
       "version_minor": 0
      },
      "text/plain": [
       "Map (num_proc=5):   0%|          | 0/5 [00:00<?, ? examples/s]"
      ]
     },
     "metadata": {},
     "output_type": "display_data"
    },
    {
     "data": {
      "text/html": [
       "<div>\n",
       "<style scoped>\n",
       "    .dataframe tbody tr th:only-of-type {\n",
       "        vertical-align: middle;\n",
       "    }\n",
       "\n",
       "    .dataframe tbody tr th {\n",
       "        vertical-align: top;\n",
       "    }\n",
       "\n",
       "    .dataframe thead th {\n",
       "        text-align: right;\n",
       "    }\n",
       "</style>\n",
       "<table border=\"1\" class=\"dataframe\">\n",
       "  <thead>\n",
       "    <tr style=\"text-align: right;\">\n",
       "      <th></th>\n",
       "      <th>text</th>\n",
       "      <th>label</th>\n",
       "      <th>tokens</th>\n",
       "    </tr>\n",
       "  </thead>\n",
       "  <tbody>\n",
       "    <tr>\n",
       "      <th>0</th>\n",
       "      <td>donovan . . . squanders his main asset , jackie chan , and fumbles the vital action sequences .</td>\n",
       "      <td>0</td>\n",
       "      <td>{'attention_mask': [1, 1, 1, 1, 1, 1, 1, 1, 1, 1, 1, 1, 1, 1, 1, 1, 1, 1, 1, 1, 1, 1, 1], 'input_ids': [24027, 135454, 10749, 18453, 392, 525, 3868, 4291, 67704, 630, 98467, 641, 49708, 630, 530, 319, 3677, 1336, 368, 35085, 9066, 60041, 503]}</td>\n",
       "    </tr>\n",
       "    <tr>\n",
       "      <th>1</th>\n",
       "      <td>outside of burger's desire to make some kind of film , it's really unclear why this project was undertaken</td>\n",
       "      <td>0</td>\n",
       "      <td>{'attention_mask': [1, 1, 1, 1, 1, 1, 1, 1, 1, 1, 1, 1, 1, 1, 1, 1, 1, 1, 1, 1, 1, 1], 'input_ids': [1199, 14812, 461, 5967, 3514, 1256, 64141, 427, 5219, 3331, 11596, 461, 8874, 630, 6648, 9780, 128183, 11257, 1119, 6671, 1620, 91763]}</td>\n",
       "    </tr>\n",
       "    <tr>\n",
       "      <th>2</th>\n",
       "      <td>intelligent and moving .</td>\n",
       "      <td>1</td>\n",
       "      <td>{'attention_mask': [1, 1, 1, 1, 1], 'input_ids': [966, 222114, 530, 34071, 503]}</td>\n",
       "    </tr>\n",
       "    <tr>\n",
       "      <th>3</th>\n",
       "      <td>the reason to see \" sade \" lay with the chemistry and complex relationship between the marquis ( auteil ) and emilie ( le besco ) .</td>\n",
       "      <td>1</td>\n",
       "      <td>{'attention_mask': [1, 1, 1, 1, 1, 1, 1, 1, 1, 1, 1, 1, 1, 1, 1, 1, 1, 1, 1, 1, 1, 1, 1, 1, 1, 1, 1, 1, 1, 1], 'input_ids': [5984, 13729, 427, 4913, 567, 272, 2160, 567, 8661, 1002, 368, 114138, 530, 11235, 23556, 5299, 368, 125004, 375, 1808, 154621, 1163, 530, 766, 167997, 375, 578, 8481, 1594, 28620]}</td>\n",
       "    </tr>\n",
       "    <tr>\n",
       "      <th>4</th>\n",
       "      <td>expect no major discoveries , nor any stylish sizzle , but the film sits with square conviction and touching good sense on the experience of its women .</td>\n",
       "      <td>1</td>\n",
       "      <td>{'attention_mask': [1, 1, 1, 1, 1, 1, 1, 1, 1, 1, 1, 1, 1, 1, 1, 1, 1, 1, 1, 1, 1, 1, 1, 1, 1, 1, 1, 1, 1, 1, 1, 1], 'input_ids': [68586, 654, 9718, 72595, 1071, 630, 11895, 2914, 97076, 1776, 272, 40245, 327, 630, 1965, 368, 8874, 161113, 1002, 31708, 84321, 530, 165502, 7220, 9482, 664, 368, 24575, 461, 3776, 14216, 503]}</td>\n",
       "    </tr>\n",
       "  </tbody>\n",
       "</table>\n",
       "</div>"
      ],
      "text/plain": [
       "                                                                                                                                                       text  \\\n",
       "0                                                           donovan . . . squanders his main asset , jackie chan , and fumbles the vital action sequences .   \n",
       "1                                                outside of burger's desire to make some kind of film , it's really unclear why this project was undertaken   \n",
       "2                                                                                                                                  intelligent and moving .   \n",
       "3                       the reason to see \" sade \" lay with the chemistry and complex relationship between the marquis ( auteil ) and emilie ( le besco ) .   \n",
       "4  expect no major discoveries , nor any stylish sizzle , but the film sits with square conviction and touching good sense on the experience of its women .   \n",
       "\n",
       "   label  \\\n",
       "0      0   \n",
       "1      0   \n",
       "2      1   \n",
       "3      1   \n",
       "4      1   \n",
       "\n",
       "                                                                                                                                                                                                                                                                                                                                  tokens  \n",
       "0                                                                                    {'attention_mask': [1, 1, 1, 1, 1, 1, 1, 1, 1, 1, 1, 1, 1, 1, 1, 1, 1, 1, 1, 1, 1, 1, 1], 'input_ids': [24027, 135454, 10749, 18453, 392, 525, 3868, 4291, 67704, 630, 98467, 641, 49708, 630, 530, 319, 3677, 1336, 368, 35085, 9066, 60041, 503]}  \n",
       "1                                                                                           {'attention_mask': [1, 1, 1, 1, 1, 1, 1, 1, 1, 1, 1, 1, 1, 1, 1, 1, 1, 1, 1, 1, 1, 1], 'input_ids': [1199, 14812, 461, 5967, 3514, 1256, 64141, 427, 5219, 3331, 11596, 461, 8874, 630, 6648, 9780, 128183, 11257, 1119, 6671, 1620, 91763]}  \n",
       "2                                                                                                                                                                                                                                                       {'attention_mask': [1, 1, 1, 1, 1], 'input_ids': [966, 222114, 530, 34071, 503]}  \n",
       "3                      {'attention_mask': [1, 1, 1, 1, 1, 1, 1, 1, 1, 1, 1, 1, 1, 1, 1, 1, 1, 1, 1, 1, 1, 1, 1, 1, 1, 1, 1, 1, 1, 1], 'input_ids': [5984, 13729, 427, 4913, 567, 272, 2160, 567, 8661, 1002, 368, 114138, 530, 11235, 23556, 5299, 368, 125004, 375, 1808, 154621, 1163, 530, 766, 167997, 375, 578, 8481, 1594, 28620]}  \n",
       "4  {'attention_mask': [1, 1, 1, 1, 1, 1, 1, 1, 1, 1, 1, 1, 1, 1, 1, 1, 1, 1, 1, 1, 1, 1, 1, 1, 1, 1, 1, 1, 1, 1, 1, 1], 'input_ids': [68586, 654, 9718, 72595, 1071, 630, 11895, 2914, 97076, 1776, 272, 40245, 327, 630, 1965, 368, 8874, 161113, 1002, 31708, 84321, 530, 165502, 7220, 9482, 664, 368, 24575, 461, 3776, 14216, 503]}  "
      ]
     },
     "execution_count": 64,
     "metadata": {},
     "output_type": "execute_result"
    }
   ],
   "source": [
    "mapped: datasets.Dataset = train.shuffle().select([1,3,5,7,9]).map(\n",
    "    lambda row: {\n",
    "        \"tokens\": tokenizer(row['text']),\n",
    "        \"label\": row['label']\n",
    "    }, \n",
    "    num_proc=8\n",
    ")\n",
    "pd.DataFrame(mapped)"
   ]
  },
  {
   "cell_type": "code",
   "execution_count": null,
   "id": "df89f389",
   "metadata": {},
   "outputs": [],
   "source": [
    "del mapped"
   ]
  },
  {
   "cell_type": "markdown",
   "id": "96c06022",
   "metadata": {},
   "source": [
    "## Flatten\n",
    "\n",
    "* [flatten](https://huggingface.co/docs/datasets/v2.11.0/en/package_reference/main_classes#datasets.Dataset.flatten)"
   ]
  },
  {
   "cell_type": "code",
   "execution_count": 69,
   "id": "69021140",
   "metadata": {},
   "outputs": [
    {
     "name": "stderr",
     "output_type": "stream",
     "text": [
      "num_proc must be <= 3. Reducing num_proc to 3 for dataset of size 3.\n"
     ]
    },
    {
     "data": {
      "application/vnd.jupyter.widget-view+json": {
       "model_id": "",
       "version_major": 2,
       "version_minor": 0
      },
      "text/plain": [
       "Map (num_proc=3):   0%|          | 0/3 [00:00<?, ? examples/s]"
      ]
     },
     "metadata": {},
     "output_type": "display_data"
    },
    {
     "data": {
      "text/html": [
       "<div>\n",
       "<style scoped>\n",
       "    .dataframe tbody tr th:only-of-type {\n",
       "        vertical-align: middle;\n",
       "    }\n",
       "\n",
       "    .dataframe tbody tr th {\n",
       "        vertical-align: top;\n",
       "    }\n",
       "\n",
       "    .dataframe thead th {\n",
       "        text-align: right;\n",
       "    }\n",
       "</style>\n",
       "<table border=\"1\" class=\"dataframe\">\n",
       "  <thead>\n",
       "    <tr style=\"text-align: right;\">\n",
       "      <th></th>\n",
       "      <th>text</th>\n",
       "      <th>label</th>\n",
       "      <th>tokens</th>\n",
       "    </tr>\n",
       "  </thead>\n",
       "  <tbody>\n",
       "    <tr>\n",
       "      <th>0</th>\n",
       "      <td>an elegant and sly deadpan comedy .</td>\n",
       "      <td>1</td>\n",
       "      <td>{'attention_mask': [1, 1, 1, 1, 1, 1, 1, 1, 1], 'input_ids': [256, 104189, 530, 272, 999, 19329, 27168, 171895, 503]}</td>\n",
       "    </tr>\n",
       "    <tr>\n",
       "      <th>1</th>\n",
       "      <td>a soulless jumble of ineptly assembled cliches and pabulum that plays like a 95-minute commercial for nba properties .</td>\n",
       "      <td>0</td>\n",
       "      <td>{'attention_mask': [1, 1, 1, 1, 1, 1, 1, 1, 1, 1, 1, 1, 1, 1, 1, 1, 1, 1, 1, 1, 1, 1, 1, 1, 1, 1, 1, 1, 1], 'input_ids': [68, 1427, 2347, 738, 42134, 1611, 461, 361, 25506, 999, 180056, 51624, 9971, 530, 269, 465, 37501, 861, 60846, 3269, 267, 21602, 178387, 22912, 613, 294, 2825, 18792, 503]}</td>\n",
       "    </tr>\n",
       "    <tr>\n",
       "      <th>2</th>\n",
       "      <td>too simple for its own good .</td>\n",
       "      <td>0</td>\n",
       "      <td>{'attention_mask': [1, 1, 1, 1, 1, 1, 1], 'input_ids': [105961, 6353, 613, 3776, 9016, 7220, 503]}</td>\n",
       "    </tr>\n",
       "  </tbody>\n",
       "</table>\n",
       "</div>"
      ],
      "text/plain": [
       "                                                                                                                     text  \\\n",
       "0                                                                                     an elegant and sly deadpan comedy .   \n",
       "1  a soulless jumble of ineptly assembled cliches and pabulum that plays like a 95-minute commercial for nba properties .   \n",
       "2                                                                                           too simple for its own good .   \n",
       "\n",
       "   label  \\\n",
       "0      1   \n",
       "1      0   \n",
       "2      0   \n",
       "\n",
       "                                                                                                                                                                                                                                                                                                   tokens  \n",
       "0                                                                                                                                                                                   {'attention_mask': [1, 1, 1, 1, 1, 1, 1, 1, 1], 'input_ids': [256, 104189, 530, 272, 999, 19329, 27168, 171895, 503]}  \n",
       "1  {'attention_mask': [1, 1, 1, 1, 1, 1, 1, 1, 1, 1, 1, 1, 1, 1, 1, 1, 1, 1, 1, 1, 1, 1, 1, 1, 1, 1, 1, 1, 1], 'input_ids': [68, 1427, 2347, 738, 42134, 1611, 461, 361, 25506, 999, 180056, 51624, 9971, 530, 269, 465, 37501, 861, 60846, 3269, 267, 21602, 178387, 22912, 613, 294, 2825, 18792, 503]}  \n",
       "2                                                                                                                                                                                                      {'attention_mask': [1, 1, 1, 1, 1, 1, 1], 'input_ids': [105961, 6353, 613, 3776, 9016, 7220, 503]}  "
      ]
     },
     "execution_count": 69,
     "metadata": {},
     "output_type": "execute_result"
    }
   ],
   "source": [
    "mapped: datasets.Dataset = train.shuffle().select([1,3,5]).map(\n",
    "    lambda row: {\n",
    "        \"tokens\": tokenizer(row['text']),\n",
    "        \"label\": row['label']\n",
    "    }, \n",
    "    num_proc=8\n",
    ")\n",
    "pd.DataFrame(mapped)"
   ]
  },
  {
   "cell_type": "code",
   "execution_count": 70,
   "id": "a3218c03",
   "metadata": {},
   "outputs": [
    {
     "data": {
      "text/plain": [
       "Dataset({\n",
       "    features: ['text', 'label', 'tokens.attention_mask', 'tokens.input_ids'],\n",
       "    num_rows: 3\n",
       "})"
      ]
     },
     "execution_count": 70,
     "metadata": {},
     "output_type": "execute_result"
    }
   ],
   "source": [
    "mapped.flatten()"
   ]
  },
  {
   "cell_type": "code",
   "execution_count": 71,
   "id": "afed7be2",
   "metadata": {},
   "outputs": [],
   "source": [
    "del mapped"
   ]
  },
  {
   "cell_type": "markdown",
   "id": "895bb948",
   "metadata": {},
   "source": [
    "## Remove columns\n",
    "\n",
    "* [Dataset.remove_columns(column_names: List) ](https://huggingface.co/docs/datasets/v2.11.0/en/package_reference/main_classes#datasets.Dataset.remove_columns)"
   ]
  },
  {
   "cell_type": "code",
   "execution_count": 74,
   "id": "b321fde1",
   "metadata": {},
   "outputs": [
    {
     "name": "stderr",
     "output_type": "stream",
     "text": [
      "num_proc must be <= 2. Reducing num_proc to 2 for dataset of size 2.\n"
     ]
    },
    {
     "data": {
      "application/vnd.jupyter.widget-view+json": {
       "model_id": "",
       "version_major": 2,
       "version_minor": 0
      },
      "text/plain": [
       "Map (num_proc=2):   0%|          | 0/2 [00:00<?, ? examples/s]"
      ]
     },
     "metadata": {},
     "output_type": "display_data"
    },
    {
     "data": {
      "text/html": [
       "<div>\n",
       "<style scoped>\n",
       "    .dataframe tbody tr th:only-of-type {\n",
       "        vertical-align: middle;\n",
       "    }\n",
       "\n",
       "    .dataframe tbody tr th {\n",
       "        vertical-align: top;\n",
       "    }\n",
       "\n",
       "    .dataframe thead th {\n",
       "        text-align: right;\n",
       "    }\n",
       "</style>\n",
       "<table border=\"1\" class=\"dataframe\">\n",
       "  <thead>\n",
       "    <tr style=\"text-align: right;\">\n",
       "      <th></th>\n",
       "      <th>text</th>\n",
       "      <th>label</th>\n",
       "      <th>tokens</th>\n",
       "    </tr>\n",
       "  </thead>\n",
       "  <tbody>\n",
       "    <tr>\n",
       "      <th>0</th>\n",
       "      <td>a fascinating , bombshell documentary that should shame americans , regardless of whether or not ultimate blame finally lies with kissinger . should be required viewing for civics classes and would-be public servants alike .</td>\n",
       "      <td>1</td>\n",
       "      <td>{'attention_mask': [1, 1, 1, 1, 1, 1, 1, 1, 1, 1, 1, 1, 1, 1, 1, 1, 1, 1, 1, 1, 1, 1, 1, 1, 1, 1, 1, 1, 1, 1, 1, 1, 1, 1, 1, 1, 1, 1, 1, 1, 1], 'input_ids': [68, 74101, 4128, 630, 15204, 98049, 194996, 861, 3403, 124115, 27684, 703, 630, 76744, 461, 14600, 791, 1130, 127949, 97021, 31139, 53935, 1002, 101444, 24443, 503, 3403, 722, 13869, 132762, 613, 8187, 3958, 17733, 530, 3276, 55078, 2470, 154313, 164554, 503]}</td>\n",
       "    </tr>\n",
       "    <tr>\n",
       "      <th>1</th>\n",
       "      <td>the script is smart , not cloying .</td>\n",
       "      <td>1</td>\n",
       "      <td>{'attention_mask': [1, 1, 1, 1, 1, 1, 1, 1, 1, 1], 'input_ids': [5984, 15820, 632, 30479, 630, 1130, 1146, 2184, 386, 503]}</td>\n",
       "    </tr>\n",
       "  </tbody>\n",
       "</table>\n",
       "</div>"
      ],
      "text/plain": [
       "                                                                                                                                                                                                                               text  \\\n",
       "0  a fascinating , bombshell documentary that should shame americans , regardless of whether or not ultimate blame finally lies with kissinger . should be required viewing for civics classes and would-be public servants alike .   \n",
       "1                                                                                                                                                                                               the script is smart , not cloying .   \n",
       "\n",
       "   label  \\\n",
       "0      1   \n",
       "1      1   \n",
       "\n",
       "                                                                                                                                                                                                                                                                                                                                                                                                                               tokens  \n",
       "0  {'attention_mask': [1, 1, 1, 1, 1, 1, 1, 1, 1, 1, 1, 1, 1, 1, 1, 1, 1, 1, 1, 1, 1, 1, 1, 1, 1, 1, 1, 1, 1, 1, 1, 1, 1, 1, 1, 1, 1, 1, 1, 1, 1], 'input_ids': [68, 74101, 4128, 630, 15204, 98049, 194996, 861, 3403, 124115, 27684, 703, 630, 76744, 461, 14600, 791, 1130, 127949, 97021, 31139, 53935, 1002, 101444, 24443, 503, 3403, 722, 13869, 132762, 613, 8187, 3958, 17733, 530, 3276, 55078, 2470, 154313, 164554, 503]}  \n",
       "1                                                                                                                                                                                                                                                                                                         {'attention_mask': [1, 1, 1, 1, 1, 1, 1, 1, 1, 1], 'input_ids': [5984, 15820, 632, 30479, 630, 1130, 1146, 2184, 386, 503]}  "
      ]
     },
     "execution_count": 74,
     "metadata": {},
     "output_type": "execute_result"
    }
   ],
   "source": [
    "mapped: datasets.Dataset = train.shuffle().select([1,3]).map(\n",
    "    lambda row: {\n",
    "        \"tokens\": tokenizer(row['text']),\n",
    "        \"label\": row['label']\n",
    "    }, \n",
    "    num_proc=8\n",
    ")\n",
    "pd.DataFrame(mapped)"
   ]
  },
  {
   "cell_type": "code",
   "execution_count": 76,
   "id": "bfc9e154",
   "metadata": {},
   "outputs": [
    {
     "data": {
      "text/html": [
       "<div>\n",
       "<style scoped>\n",
       "    .dataframe tbody tr th:only-of-type {\n",
       "        vertical-align: middle;\n",
       "    }\n",
       "\n",
       "    .dataframe tbody tr th {\n",
       "        vertical-align: top;\n",
       "    }\n",
       "\n",
       "    .dataframe thead th {\n",
       "        text-align: right;\n",
       "    }\n",
       "</style>\n",
       "<table border=\"1\" class=\"dataframe\">\n",
       "  <thead>\n",
       "    <tr style=\"text-align: right;\">\n",
       "      <th></th>\n",
       "      <th>label</th>\n",
       "      <th>tokens</th>\n",
       "    </tr>\n",
       "  </thead>\n",
       "  <tbody>\n",
       "    <tr>\n",
       "      <th>0</th>\n",
       "      <td>1</td>\n",
       "      <td>{'attention_mask': [1, 1, 1, 1, 1, 1, 1, 1, 1, 1, 1, 1, 1, 1, 1, 1, 1, 1, 1, 1, 1, 1, 1, 1, 1, 1, 1, 1, 1, 1, 1, 1, 1, 1, 1, 1, 1, 1, 1, 1, 1], 'input_ids': [68, 74101, 4128, 630, 15204, 98049, 194996, 861, 3403, 124115, 27684, 703, 630, 76744, 461, 14600, 791, 1130, 127949, 97021, 31139, 53935, 1002, 101444, 24443, 503, 3403, 722, 13869, 132762, 613, 8187, 3958, 17733, 530, 3276, 55078, 2470, 154313, 164554, 503]}</td>\n",
       "    </tr>\n",
       "    <tr>\n",
       "      <th>1</th>\n",
       "      <td>1</td>\n",
       "      <td>{'attention_mask': [1, 1, 1, 1, 1, 1, 1, 1, 1, 1], 'input_ids': [5984, 15820, 632, 30479, 630, 1130, 1146, 2184, 386, 503]}</td>\n",
       "    </tr>\n",
       "  </tbody>\n",
       "</table>\n",
       "</div>"
      ],
      "text/plain": [
       "   label  \\\n",
       "0      1   \n",
       "1      1   \n",
       "\n",
       "                                                                                                                                                                                                                                                                                                                                                                                                                               tokens  \n",
       "0  {'attention_mask': [1, 1, 1, 1, 1, 1, 1, 1, 1, 1, 1, 1, 1, 1, 1, 1, 1, 1, 1, 1, 1, 1, 1, 1, 1, 1, 1, 1, 1, 1, 1, 1, 1, 1, 1, 1, 1, 1, 1, 1, 1], 'input_ids': [68, 74101, 4128, 630, 15204, 98049, 194996, 861, 3403, 124115, 27684, 703, 630, 76744, 461, 14600, 791, 1130, 127949, 97021, 31139, 53935, 1002, 101444, 24443, 503, 3403, 722, 13869, 132762, 613, 8187, 3958, 17733, 530, 3276, 55078, 2470, 154313, 164554, 503]}  \n",
       "1                                                                                                                                                                                                                                                                                                         {'attention_mask': [1, 1, 1, 1, 1, 1, 1, 1, 1, 1], 'input_ids': [5984, 15820, 632, 30479, 630, 1130, 1146, 2184, 386, 503]}  "
      ]
     },
     "execution_count": 76,
     "metadata": {},
     "output_type": "execute_result"
    }
   ],
   "source": [
    "pd.DataFrame(mapped.remove_columns(column_names=['text']))"
   ]
  },
  {
   "cell_type": "code",
   "execution_count": 77,
   "id": "55dadd02",
   "metadata": {},
   "outputs": [],
   "source": [
    "del mapped"
   ]
  },
  {
   "cell_type": "code",
   "execution_count": null,
   "id": "106e8764",
   "metadata": {},
   "outputs": [],
   "source": []
  }
 ],
 "metadata": {
  "kernelspec": {
   "display_name": "Python 3 (ipykernel)",
   "language": "python",
   "name": "python3"
  },
  "language_info": {
   "codemirror_mode": {
    "name": "ipython",
    "version": 3
   },
   "file_extension": ".py",
   "mimetype": "text/x-python",
   "name": "python",
   "nbconvert_exporter": "python",
   "pygments_lexer": "ipython3",
   "version": "3.9.13"
  }
 },
 "nbformat": 4,
 "nbformat_minor": 5
}
