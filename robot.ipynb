{
 "cells": [
  {
   "cell_type": "code",
   "execution_count": 1,
   "metadata": {},
   "outputs": [],
   "source": [
    "from typing import (\n",
    "    Optional,\n",
    "    Tuple,\n",
    "    List,\n",
    "    Dict,\n",
    ")\n",
    "from numbers import Number\n",
    "import sys\n",
    "import os\n",
    "import pathlib\n",
    "import getopt\n",
    "import logging\n",
    "import re\n",
    "import numpy as np\n",
    "\n",
    "\n",
    "(N, M) = 5, 4\n",
    "BASE = None\n",
    "END = None\n",
    "\n",
    "DIRECTIONS = None\n",
    "DIRECTION_TO_MOVE = None\n",
    "MOVE_TO_DIRECTION = None\n",
    "MOVES = None\n",
    "MOVE = None\n",
    "\n",
    "Logger = None\n",
    "\n",
    "\n",
    "def initialize(n, m) -> None:\n",
    "    global N\n",
    "    global M\n",
    "    global BASE\n",
    "    global END\n",
    "    global DIRECTIONS \n",
    "    global DIRECTION_TO_MOVE\n",
    "    global MOVE_TO_DIRECTION\n",
    "    global MOVES\n",
    "    global Move\n",
    "    global Logger\n",
    "    \n",
    "    logging.basicConfig()\n",
    "    logging.getLogger().setLevel(logging.DEBUG)\n",
    "    Logger = logging.getLogger(__name__)\n",
    "\n",
    "    N = n   # x / east direction\n",
    "    M = m   # y / north direction\n",
    "    \n",
    "    BASE = np.zeros(2).astype(int)\n",
    "    END = np.array([N-1,M-1])\n",
    "\n",
    "    DIRECTION_TO_MOVE = {\n",
    "        \"NORTH\": [0, 1], \"EAST\": [1, 0], \"WEST\": [-1, 0], \"SOUTH\": [0, -1]   \n",
    "    }\n",
    "    DIRECTIONS = list(DIRECTION_TO_MOVE.keys())\n",
    "\n",
    "    MOVE_TO_DIRECTION = {\n",
    "        tuple(DIRECTION_TO_MOVE[\"NORTH\"]): \"NORTH\", \n",
    "        tuple(DIRECTION_TO_MOVE[\"EAST\"]): \"EAST\", \n",
    "        tuple(DIRECTION_TO_MOVE[\"WEST\"]): \"WEST\", \n",
    "        tuple(DIRECTION_TO_MOVE[\"SOUTH\"]): \"SOUTH\", \n",
    "    }\n",
    "    MOVES = [list(move) for move in MOVE_TO_DIRECTION.keys()]\n",
    "\n",
    "    Position = np.array([0,0])\n",
    "    Direction = DIRECTIONS[0]\n",
    "    Move = MOVES[0]"
   ]
  },
  {
   "cell_type": "code",
   "execution_count": 2,
   "metadata": {},
   "outputs": [],
   "source": [
    "def place(_position=None, _direction=None) -> (List, str, List):\n",
    "    \"\"\"Set the current position, direction, and move\n",
    "    Returns: (Position, Direction, Move)\n",
    "    \"\"\"\n",
    "    Logger.debug(\"place: position {}, direction {}\".format(_position, _direction))\n",
    "    \n",
    "    global Position\n",
    "    global Direction\n",
    "    global Move\n",
    "\n",
    "    _x, _y = (_position[0], _position[1]) if _position is not None else (None, None)\n",
    "    _direction = _direction.upper() if _direction is not None else \"NOWHERE\"\n",
    "    if isinstance(_x, Number) and isinstance(_y, Number) and _direction in DIRECTIONS:\n",
    "        Position = [_x, _y]\n",
    "        Direction = _direction\n",
    "        Move = DIRECTION_TO_MOVE[Direction]\n",
    "\n",
    "    Logger.debug(\"place: new positon {} direction {} move {}\".format(\n",
    "        Position, Direction, Move\n",
    "    ))\n",
    "    return Position, Direction, Move\n",
    "\n",
    "\n",
    "def report() -> None:\n",
    "    \"\"\"Report the current location and direction\"\"\"\n",
    "    template = \"X: {} Y: {} Direction: {}\"\n",
    "    position, direction, _ = place()\n",
    "    print(template.format(position[0], position[1], direction))"
   ]
  },
  {
   "cell_type": "code",
   "execution_count": 3,
   "metadata": {},
   "outputs": [],
   "source": [
    "def is_inside(position) -> bool:\n",
    "    \"\"\"Check if the position is inside\"\"\"\n",
    "    decision = np.all(position >= BASE) and np.all(position <= END)\n",
    "    Logger.debug(\"position is {} and is inside is {}\".format(\n",
    "        position, decision\n",
    "    ))\n",
    "    return decision\n",
    "\n",
    "\n",
    "def is_same_array(a, b) -> bool:\n",
    "    return np.all(np.array(a) == np.array(b))\n",
    "\n",
    "at_same_location = is_same_array\n",
    "    \n",
    "def move() -> List:\n",
    "    \"\"\"Move a step in the current direction if the destination is within the limit\n",
    "    Returns new position\n",
    "    \"\"\"\n",
    "    global Position\n",
    "    \n",
    "    moved = np.add(Position, Move)\n",
    "    if is_inside(moved):\n",
    "            Position = moved\n",
    "\n",
    "    return Position"
   ]
  },
  {
   "cell_type": "code",
   "execution_count": 4,
   "metadata": {},
   "outputs": [],
   "source": [
    "def _rotate(vector, theta):\n",
    "    \"\"\"Rotate the vector with theta degree clock-wise\n",
    "    Args:\n",
    "        vector: vector to rotate\n",
    "        theta: degrees to rotate\n",
    "    Return: \n",
    "        rotated vector\n",
    "    \"\"\"\n",
    "    radian = np.radians(theta)\n",
    "    rotation = np.array([\n",
    "        [  np.cos(radian), np.sin(radian) ],\n",
    "        [ -np.sin(radian), np.cos(radian) ]\n",
    "    ])\n",
    "    rotated = rotation.dot(vector).astype(int)\n",
    "    Logger.debug(\"Current vector is {} rotation is {}. New vector is {}\".format(\n",
    "        vector, theta, rotated\n",
    "    ))\n",
    "    return rotated\n",
    "\n",
    "def rotate(theta):\n",
    "    \"\"\"Rotate the current move vector with theta degree\n",
    "    Args:\n",
    "        theta: rotation degrees\n",
    "    Returns: new move vector\n",
    "    \"\"\"\n",
    "    global Move\n",
    "    Move = _rotate(Move, theta)\n",
    "    \n",
    "    return Move\n",
    "\n",
    "def left():\n",
    "    return rotate(-90)\n",
    "    \n",
    "def right():\n",
    "    return rotate(90)"
   ]
  },
  {
   "cell_type": "code",
   "execution_count": 5,
   "metadata": {},
   "outputs": [],
   "source": [
    "COMMANDS = {\n",
    "    \"PLACE\": place,\n",
    "    \"LEFT\": left,\n",
    "    \"RIGHT\": right,\n",
    "    \"MOVE\": move,\n",
    "    \"REPORT\": report\n",
    "}"
   ]
  },
  {
   "cell_type": "code",
   "execution_count": 6,
   "metadata": {},
   "outputs": [
    {
     "name": "stderr",
     "output_type": "stream",
     "text": [
      "DEBUG:__main__:Current vector is [0, 1] rotation is -90. New vector is [-1  0]\n",
      "DEBUG:__main__:Current vector is [-1  0] rotation is -90. New vector is [ 0 -1]\n",
      "DEBUG:__main__:Current vector is [ 0 -1] rotation is -90. New vector is [1 0]\n",
      "DEBUG:__main__:Current vector is [1 0] rotation is -90. New vector is [0 1]\n",
      "DEBUG:__main__:Current vector is [0 1] rotation is 90. New vector is [1 0]\n",
      "DEBUG:__main__:Current vector is [1 0] rotation is 90. New vector is [ 0 -1]\n",
      "DEBUG:__main__:Current vector is [ 0 -1] rotation is 90. New vector is [-1  0]\n",
      "DEBUG:__main__:Current vector is [-1  0] rotation is 90. New vector is [0 1]\n"
     ]
    }
   ],
   "source": [
    "initialize(n=5, m=4)\n",
    "\n",
    "assert MOVE_TO_DIRECTION[tuple([0,1])] == \"NORTH\"\n",
    "assert at_same_location(left(), DIRECTION_TO_MOVE[\"WEST\"])\n",
    "assert at_same_location(left(), DIRECTION_TO_MOVE[\"SOUTH\"])\n",
    "assert at_same_location(left(), DIRECTION_TO_MOVE[\"EAST\"])\n",
    "assert at_same_location(left(), DIRECTION_TO_MOVE[\"NORTH\"])\n",
    "\n",
    "assert at_same_location(right(), DIRECTION_TO_MOVE[\"EAST\"])\n",
    "assert at_same_location(right(), DIRECTION_TO_MOVE[\"SOUTH\"])\n",
    "assert at_same_location(right(), DIRECTION_TO_MOVE[\"WEST\"])\n",
    "assert at_same_location(right(), DIRECTION_TO_MOVE[\"NORTH\"])"
   ]
  },
  {
   "cell_type": "code",
   "execution_count": 7,
   "metadata": {},
   "outputs": [
    {
     "name": "stderr",
     "output_type": "stream",
     "text": [
      "DEBUG:__main__:place: position [0, 0], direction north\n",
      "DEBUG:__main__:place: new positon [0, 0] direction NORTH move [0, 1]\n",
      "DEBUG:__main__:position is [0 1] and is inside is True\n",
      "DEBUG:__main__:position is [0 2] and is inside is True\n",
      "DEBUG:__main__:place: position None, direction None\n",
      "DEBUG:__main__:place: new positon [0 2] direction NORTH move [0, 1]\n",
      "DEBUG:__main__:position is [0 3] and is inside is True\n",
      "DEBUG:__main__:place: position None, direction None\n",
      "DEBUG:__main__:place: new positon [0 3] direction NORTH move [0, 1]\n",
      "DEBUG:__main__:position is [0 4] and is inside is False\n",
      "DEBUG:__main__:place: position None, direction None\n",
      "DEBUG:__main__:place: new positon [0 3] direction NORTH move [0, 1]\n",
      "DEBUG:__main__:position is [0 4] and is inside is False\n",
      "DEBUG:__main__:place: position None, direction None\n",
      "DEBUG:__main__:place: new positon [0 3] direction NORTH move [0, 1]\n"
     ]
    },
    {
     "name": "stdout",
     "output_type": "stream",
     "text": [
      "X: 0 Y: 2 Direction: NORTH\n",
      "X: 0 Y: 3 Direction: NORTH\n",
      "X: 0 Y: 3 Direction: NORTH\n",
      "X: 0 Y: 3 Direction: NORTH\n"
     ]
    }
   ],
   "source": [
    "x, y, d = place([0, 0], \"north\")\n",
    "destination = move()\n",
    "assert at_same_location(destination, [0,1])\n",
    "\n",
    "for i in range(M): # M is y/north direction\n",
    "    move()\n",
    "    report()"
   ]
  },
  {
   "cell_type": "code",
   "execution_count": 8,
   "metadata": {},
   "outputs": [
    {
     "name": "stderr",
     "output_type": "stream",
     "text": [
      "DEBUG:__main__:place: position [0, 0], direction east\n",
      "DEBUG:__main__:place: new positon [0, 0] direction EAST move [1, 0]\n",
      "DEBUG:__main__:position is [1 0] and is inside is True\n",
      "DEBUG:__main__:place: position None, direction None\n",
      "DEBUG:__main__:place: new positon [1 0] direction EAST move [1, 0]\n",
      "DEBUG:__main__:position is [2 0] and is inside is True\n",
      "DEBUG:__main__:place: position None, direction None\n",
      "DEBUG:__main__:place: new positon [2 0] direction EAST move [1, 0]\n",
      "DEBUG:__main__:position is [3 0] and is inside is True\n",
      "DEBUG:__main__:place: position None, direction None\n",
      "DEBUG:__main__:place: new positon [3 0] direction EAST move [1, 0]\n",
      "DEBUG:__main__:position is [4 0] and is inside is True\n",
      "DEBUG:__main__:place: position None, direction None\n",
      "DEBUG:__main__:place: new positon [4 0] direction EAST move [1, 0]\n",
      "DEBUG:__main__:position is [5 0] and is inside is False\n",
      "DEBUG:__main__:place: position None, direction None\n",
      "DEBUG:__main__:place: new positon [4 0] direction EAST move [1, 0]\n",
      "DEBUG:__main__:position is [5 0] and is inside is False\n",
      "DEBUG:__main__:place: position None, direction None\n",
      "DEBUG:__main__:place: new positon [4 0] direction EAST move [1, 0]\n"
     ]
    },
    {
     "name": "stdout",
     "output_type": "stream",
     "text": [
      "[1 0]\n",
      "X: 1 Y: 0 Direction: EAST\n",
      "X: 2 Y: 0 Direction: EAST\n",
      "X: 3 Y: 0 Direction: EAST\n",
      "X: 4 Y: 0 Direction: EAST\n",
      "X: 4 Y: 0 Direction: EAST\n",
      "X: 4 Y: 0 Direction: EAST\n"
     ]
    }
   ],
   "source": [
    "x, y, d = place([0, 0], \"east\")\n",
    "destination = move()\n",
    "print(destination)\n",
    "assert at_same_location(destination, [1,0])\n",
    "report()\n",
    "\n",
    "for i in range(N):\n",
    "    move()\n",
    "    report()"
   ]
  },
  {
   "cell_type": "code",
   "execution_count": 9,
   "metadata": {},
   "outputs": [
    {
     "name": "stderr",
     "output_type": "stream",
     "text": [
      "DEBUG:__main__:place: position [0, 0], direction north\n",
      "DEBUG:__main__:place: new positon [0, 0] direction NORTH move [0, 1]\n",
      "DEBUG:__main__:Current vector is [0, 1] rotation is -90. New vector is [-1  0]\n",
      "DEBUG:__main__:place: position None, direction None\n",
      "DEBUG:__main__:place: new positon [0, 0] direction NORTH move [-1  0]\n",
      "DEBUG:__main__:position is [-1  0] and is inside is False\n",
      "DEBUG:__main__:place: position None, direction None\n",
      "DEBUG:__main__:place: new positon [0, 0] direction NORTH move [-1  0]\n",
      "DEBUG:__main__:position is [-1  0] and is inside is False\n",
      "DEBUG:__main__:place: position None, direction None\n",
      "DEBUG:__main__:place: new positon [0, 0] direction NORTH move [-1  0]\n",
      "DEBUG:__main__:position is [-1  0] and is inside is False\n",
      "DEBUG:__main__:place: position None, direction None\n",
      "DEBUG:__main__:place: new positon [0, 0] direction NORTH move [-1  0]\n",
      "DEBUG:__main__:position is [-1  0] and is inside is False\n",
      "DEBUG:__main__:place: position None, direction None\n",
      "DEBUG:__main__:place: new positon [0, 0] direction NORTH move [-1  0]\n",
      "DEBUG:__main__:position is [-1  0] and is inside is False\n",
      "DEBUG:__main__:place: position None, direction None\n",
      "DEBUG:__main__:place: new positon [0, 0] direction NORTH move [-1  0]\n"
     ]
    },
    {
     "name": "stdout",
     "output_type": "stream",
     "text": [
      "[-1  0]\n",
      "X: 0 Y: 0 Direction: NORTH\n",
      "X: 0 Y: 0 Direction: NORTH\n",
      "X: 0 Y: 0 Direction: NORTH\n",
      "X: 0 Y: 0 Direction: NORTH\n",
      "X: 0 Y: 0 Direction: NORTH\n",
      "X: 0 Y: 0 Direction: NORTH\n"
     ]
    }
   ],
   "source": [
    "x, y, d = place([0, 0], \"north\")\n",
    "new_move = COMMANDS[\"LEFT\"]()\n",
    "print(new_move)\n",
    "assert is_same_array(new_move, DIRECTION_TO_MOVE[\"WEST\"])\n",
    "report()\n",
    "\n",
    "for i in range(N):\n",
    "    move()\n",
    "    report()"
   ]
  },
  {
   "cell_type": "code",
   "execution_count": 10,
   "metadata": {},
   "outputs": [
    {
     "name": "stderr",
     "output_type": "stream",
     "text": [
      "DEBUG:__main__:place: position [0, 0], direction north\n",
      "DEBUG:__main__:place: new positon [0, 0] direction NORTH move [0, 1]\n",
      "DEBUG:__main__:Current vector is [0, 1] rotation is 90. New vector is [1 0]\n",
      "DEBUG:__main__:place: position None, direction None\n",
      "DEBUG:__main__:place: new positon [0, 0] direction NORTH move [1 0]\n",
      "DEBUG:__main__:position is [1 0] and is inside is True\n",
      "DEBUG:__main__:place: position None, direction None\n",
      "DEBUG:__main__:place: new positon [1 0] direction NORTH move [1 0]\n",
      "DEBUG:__main__:position is [2 0] and is inside is True\n",
      "DEBUG:__main__:place: position None, direction None\n",
      "DEBUG:__main__:place: new positon [2 0] direction NORTH move [1 0]\n",
      "DEBUG:__main__:position is [3 0] and is inside is True\n",
      "DEBUG:__main__:place: position None, direction None\n",
      "DEBUG:__main__:place: new positon [3 0] direction NORTH move [1 0]\n",
      "DEBUG:__main__:position is [4 0] and is inside is True\n",
      "DEBUG:__main__:place: position None, direction None\n",
      "DEBUG:__main__:place: new positon [4 0] direction NORTH move [1 0]\n",
      "DEBUG:__main__:position is [5 0] and is inside is False\n",
      "DEBUG:__main__:place: position None, direction None\n",
      "DEBUG:__main__:place: new positon [4 0] direction NORTH move [1 0]\n"
     ]
    },
    {
     "name": "stdout",
     "output_type": "stream",
     "text": [
      "[1 0]\n",
      "X: 0 Y: 0 Direction: NORTH\n",
      "X: 1 Y: 0 Direction: NORTH\n",
      "X: 2 Y: 0 Direction: NORTH\n",
      "X: 3 Y: 0 Direction: NORTH\n",
      "X: 4 Y: 0 Direction: NORTH\n",
      "X: 4 Y: 0 Direction: NORTH\n"
     ]
    }
   ],
   "source": [
    "x, y, d = place([0, 0], \"north\")\n",
    "new_move = COMMANDS[\"RIGHT\"]()\n",
    "print(new_move)\n",
    "assert is_same_array(new_move, DIRECTION_TO_MOVE[\"EAST\"])\n",
    "report()\n",
    "\n",
    "for i in range(N):\n",
    "    move()\n",
    "    report()"
   ]
  },
  {
   "cell_type": "code",
   "execution_count": 11,
   "metadata": {},
   "outputs": [],
   "source": [
    "def execute_command(line) -> Optional[str]:\n",
    "    \"\"\"Parse command line text and run corresponding command\n",
    "    Args:\n",
    "        line: command line\n",
    "    Return:\n",
    "        command executed e.g. PLACE or None if no execution\n",
    "    \"\"\"\n",
    "    Logger.debug(\"execute_command: line [{}]\".format(line))\n",
    "    for command in COMMANDS.keys():\n",
    "        if command == \"PLACE\":\n",
    "            pattern = r'[\\t\\s]*^PLACE[\\t\\s]+([0-9]+)[\\t\\s]+([0-9]+)[\\t\\s]+(NORTH|EAST|WEST|SOUTH)'\n",
    "            if match := re.search(pattern, line, re.IGNORECASE):\n",
    "                x = int(match.group(1))\n",
    "                y = int(match.group(2))\n",
    "                direction = match.group(3).upper()\n",
    "\n",
    "                Logger.debug(\"execute_command: matched command {}\".format(\n",
    "                    match.group(0).upper()\n",
    "                ))\n",
    "                COMMANDS[command]([x, y], direction)\n",
    "        else:\n",
    "            pattern = r'^[\\t\\s]*({})[\\t\\s]*'.format(command)\n",
    "            if (match := re.search(pattern, line, re.IGNORECASE)):\n",
    "                Logger.debug(\"execute_command: matched command {}\".format(\n",
    "                    match.group(0).upper()\n",
    "                ))\n",
    "                COMMANDS[command]()\n",
    "            \n",
    "\n",
    "    Logger.debug(\"execute_command: none executed.\")\n",
    "    return None"
   ]
  },
  {
   "cell_type": "code",
   "execution_count": 12,
   "metadata": {},
   "outputs": [],
   "source": [
    "def read_lines(path: str) -> str:\n",
    "    Logger.debug(\"read_lines: path [{}]\".format(path))\n",
    "    _file = pathlib.Path(path)\n",
    "    if not _file.is_file():\n",
    "        raise ValueError(\"file {} does not exist or non file\".format(path))\n",
    "    else:\n",
    "        with _file.open() as f:\n",
    "            for line in f:\n",
    "                yield line\n",
    "\n",
    "                \n",
    "def process_commands(lines) -> None:\n",
    "    while True:\n",
    "        try:\n",
    "            execute_command(next(lines))\n",
    "\n",
    "        except StopIteration:\n",
    "            break"
   ]
  },
  {
   "cell_type": "code",
   "execution_count": 14,
   "metadata": {},
   "outputs": [],
   "source": [
    "def get_path(argv) -> Optional[str]:\n",
    "    Logger.debug(\"get_path: argv [{}]\".format(argv))\n",
    "    path: str = None\n",
    "    try:\n",
    "        opts, args = getopt.getopt(argv[1:], \"hf:\")\n",
    "        Logger.debug(\"get_path opts {} args {}\".format(\n",
    "            opts, args\n",
    "        ))\n",
    "    except getopt.GetoptError:\n",
    "        Logger.error(\"Invalid command line\")\n",
    "        print(\"{} -f <path>\".format(\n",
    "            sys.argv[0]\n",
    "        ))\n",
    "        return None\n",
    "\n",
    "    for opt, arg in opts:\n",
    "        if opt == '-h':\n",
    "            print(\"{} -f <path>\".format(\n",
    "                sys.argv[0]\n",
    "            ))\n",
    "            return None\n",
    "        elif opt in (\"-f\") :\n",
    "            Logger.debug('command file is {}'.format(arg))\n",
    "            return arg"
   ]
  },
  {
   "cell_type": "code",
   "execution_count": 16,
   "metadata": {},
   "outputs": [],
   "source": [
    "def main(argv):\n",
    "    if path := get_path(argv[1:]):\n",
    "        process_commands(read_lines(path))"
   ]
  },
  {
   "cell_type": "code",
   "execution_count": 17,
   "metadata": {},
   "outputs": [
    {
     "name": "stderr",
     "output_type": "stream",
     "text": [
      "DEBUG:__main__:get_command_file_path: argv [('-f', '/home/oonisim/home/repository/git/oonisim/python-programs/Python/generator/hoge')]\n",
      "DEBUG:__main__:get_command_file_path opts [] args ('/home/oonisim/home/repository/git/oonisim/python-programs/Python/generator/hoge',)\n"
     ]
    }
   ],
   "source": []
  },
  {
   "cell_type": "code",
   "execution_count": 18,
   "metadata": {},
   "outputs": [
    {
     "name": "stderr",
     "output_type": "stream",
     "text": [
      "DEBUG:__main__:get_command_file_path: argv [['-f', '/home/oonisim/.local/share/jupyter/runtime/kernel-e3197282-e777-4deb-ae63-b9f0ae2f6068.json']]\n",
      "DEBUG:__main__:get_command_file_path opts [] args ['/home/oonisim/.local/share/jupyter/runtime/kernel-e3197282-e777-4deb-ae63-b9f0ae2f6068.json']\n"
     ]
    }
   ],
   "source": [
    "if __name__ == \"__main__\":\n",
    "    main(sys.argv)\n",
    "else:\n",
    "    argv = (\"jupyter\", '-f', '/home/oonisim/home/repository/git/oonisim/python-programs/Python/generator/hoge')\n",
    "    main(argv)"
   ]
  },
  {
   "cell_type": "code",
   "execution_count": null,
   "metadata": {},
   "outputs": [],
   "source": []
  }
 ],
 "metadata": {
  "kernelspec": {
   "display_name": "Python 3",
   "language": "python",
   "name": "python3"
  },
  "language_info": {
   "codemirror_mode": {
    "name": "ipython",
    "version": 3
   },
   "file_extension": ".py",
   "mimetype": "text/x-python",
   "name": "python",
   "nbconvert_exporter": "python",
   "pygments_lexer": "ipython3",
   "version": "3.8.5"
  }
 },
 "nbformat": 4,
 "nbformat_minor": 4
}
