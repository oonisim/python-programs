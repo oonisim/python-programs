{
 "cells": [
  {
   "cell_type": "markdown",
   "id": "1bdf0fc6",
   "metadata": {},
   "source": [
    "# Simple protobuf python "
   ]
  },
  {
   "cell_type": "markdown",
   "id": "8223a04e",
   "metadata": {},
   "source": [
    "# References\n",
    "\n",
    "* [Protocol Buffer documentation](https://developers.google.com/protocol-buffers/docs/overview)\n",
    "* [Protocol Buffer Basics: Python](https://developers.google.com/protocol-buffers/docs/pythontutorial)\n",
    "\n",
    "> * Define message formats in a .proto file.\n",
    "> * Use the protocol buffer compiler.\n",
    "> * Use the Python protocol buffer API to write and read messages.\n",
    "\n",
    "* [Protocol Buffers Python API Reference (Python)](https://googleapis.dev/python/protobuf/latest/index.html)\n",
    "* [Protobuf parsing in Python](https://www.datadoghq.com/blog/engineering/protobuf-parsing-in-python/)"
   ]
  },
  {
   "cell_type": "markdown",
   "id": "cd36e02c",
   "metadata": {},
   "source": [
    "# Define proto file"
   ]
  },
  {
   "cell_type": "code",
   "execution_count": 1,
   "id": "f27e83c9",
   "metadata": {},
   "outputs": [
    {
     "name": "stdout",
     "output_type": "stream",
     "text": [
      "Overwriting metric.proto\n"
     ]
    }
   ],
   "source": [
    "%%writefile metric.proto\n",
    "syntax = \"proto3\";\n",
    "message Metric {\n",
    "  string name = 1;\n",
    "  string type = 2;\n",
    "  float value = 3;\n",
    "}"
   ]
  },
  {
   "cell_type": "code",
   "execution_count": 2,
   "id": "b0b9156e",
   "metadata": {},
   "outputs": [
    {
     "name": "stdout",
     "output_type": "stream",
     "text": [
      "syntax = \"proto3\";\r\n",
      "message Metric {\r\n",
      "  string name = 1;\r\n",
      "  string type = 2;\r\n",
      "  float value = 3;\r\n",
      "}\r\n"
     ]
    }
   ],
   "source": [
    "!cat metric.proto"
   ]
  },
  {
   "cell_type": "markdown",
   "id": "0be79d27",
   "metadata": {},
   "source": [
    "# Generate python client"
   ]
  },
  {
   "cell_type": "code",
   "execution_count": 3,
   "id": "814c355d",
   "metadata": {},
   "outputs": [],
   "source": [
    "!rm metric_pb2.py"
   ]
  },
  {
   "cell_type": "code",
   "execution_count": 4,
   "id": "0204ac05",
   "metadata": {},
   "outputs": [],
   "source": [
    "!protoc --python_out=. metric.proto"
   ]
  },
  {
   "cell_type": "code",
   "execution_count": 5,
   "id": "98355517",
   "metadata": {},
   "outputs": [
    {
     "name": "stdout",
     "output_type": "stream",
     "text": [
      "__pycache__  metric.proto   protobuf_python.ipynb      tfx\r\n",
      "data\t     metric_pb2.py  tf_create_tf_record.ipynb\r\n"
     ]
    }
   ],
   "source": [
    "!ls"
   ]
  },
  {
   "cell_type": "markdown",
   "id": "bb3c6f89",
   "metadata": {},
   "source": [
    "# Write protobuf file"
   ]
  },
  {
   "cell_type": "code",
   "execution_count": 6,
   "id": "4f58af7e",
   "metadata": {},
   "outputs": [],
   "source": [
    "!rm -rf ./data\n",
    "!mkdir -p ./data"
   ]
  },
  {
   "cell_type": "code",
   "execution_count": 7,
   "id": "547b8668",
   "metadata": {},
   "outputs": [],
   "source": [
    "import metric_pb2\n",
    "\n",
    "my_metric = metric_pb2.Metric()\n",
    "my_metric.name = 'sys.cpu'\n",
    "my_metric.type = 'gauge'\n",
    "my_metric.value = 99.9\n",
    "\n",
    "with open('./data/metric.bin', 'wb') as f:\n",
    "    f.write(my_metric.SerializeToString())"
   ]
  },
  {
   "cell_type": "markdown",
   "id": "ff9c5490",
   "metadata": {},
   "source": [
    "# Read protobuf file"
   ]
  },
  {
   "cell_type": "code",
   "execution_count": 8,
   "id": "aff9fc88",
   "metadata": {},
   "outputs": [
    {
     "name": "stdout",
     "output_type": "stream",
     "text": [
      "<class 'metric_pb2.Metric'>\n",
      "['ByteSize', 'Clear', 'ClearExtension', 'ClearField', 'CopyFrom', 'DESCRIPTOR', 'DiscardUnknownFields', 'Extensions', 'FindInitializationErrors', 'FromString', 'HasExtension', 'HasField', 'IsInitialized', 'ListFields', 'MergeFrom', 'MergeFromString', 'ParseFromString', 'RegisterExtension', 'SerializePartialToString', 'SerializeToString', 'SetInParent', 'UnknownFields', 'WhichOneof', '_CheckCalledFromGeneratedFile', '_SetListener', '__class__', '__deepcopy__', '__delattr__', '__dir__', '__doc__', '__eq__', '__format__', '__ge__', '__getattribute__', '__getstate__', '__gt__', '__hash__', '__init__', '__init_subclass__', '__le__', '__lt__', '__module__', '__ne__', '__new__', '__reduce__', '__reduce_ex__', '__repr__', '__setattr__', '__setstate__', '__sizeof__', '__slots__', '__str__', '__subclasshook__', '__unicode__', '_extensions_by_name', '_extensions_by_number', 'name', 'type', 'value']\n"
     ]
    }
   ],
   "source": [
    "with open('./data/metric.bin', 'rb') as f:\n",
    "    metric = metric_pb2.Metric()\n",
    "    metric.ParseFromString(f.read())\n",
    "\n",
    "print(type(metric))\n",
    "print(dir(metric))"
   ]
  },
  {
   "cell_type": "code",
   "execution_count": 9,
   "id": "702dfa00",
   "metadata": {},
   "outputs": [
    {
     "name": "stdout",
     "output_type": "stream",
     "text": [
      "Metric.name\n",
      "Metric.type\n",
      "Metric.value\n"
     ]
    }
   ],
   "source": [
    "for field in metric.DESCRIPTOR.fields:\n",
    "    print(field.full_name)"
   ]
  },
  {
   "cell_type": "code",
   "execution_count": 18,
   "id": "56738f45",
   "metadata": {},
   "outputs": [
    {
     "ename": "AttributeError",
     "evalue": "'google.protobuf.pyext._message.MessageDescriptor' object has no attribute 'type'",
     "output_type": "error",
     "traceback": [
      "\u001b[0;31m---------------------------------------------------------------------------\u001b[0m",
      "\u001b[0;31mAttributeError\u001b[0m                            Traceback (most recent call last)",
      "\u001b[0;32m<ipython-input-18-64e12b6fe13a>\u001b[0m in \u001b[0;36m<module>\u001b[0;34m\u001b[0m\n\u001b[0;32m----> 1\u001b[0;31m \u001b[0mdir\u001b[0m\u001b[0;34m(\u001b[0m\u001b[0mmetric\u001b[0m\u001b[0;34m.\u001b[0m\u001b[0mDESCRIPTOR\u001b[0m\u001b[0;34m.\u001b[0m\u001b[0mtype\u001b[0m\u001b[0;34m)\u001b[0m\u001b[0;34m\u001b[0m\u001b[0;34m\u001b[0m\u001b[0m\n\u001b[0m",
      "\u001b[0;31mAttributeError\u001b[0m: 'google.protobuf.pyext._message.MessageDescriptor' object has no attribute 'type'"
     ]
    }
   ],
   "source": [
    "metric.DESCRIPTOR"
   ]
  },
  {
   "cell_type": "code",
   "execution_count": 10,
   "id": "0fb8d1b4",
   "metadata": {},
   "outputs": [
    {
     "data": {
      "text/plain": [
       "['name', 'type', 'value']"
      ]
     },
     "execution_count": 10,
     "metadata": {},
     "output_type": "execute_result"
    }
   ],
   "source": [
    "[field.name for field in metric.DESCRIPTOR.fields]"
   ]
  },
  {
   "cell_type": "code",
   "execution_count": 11,
   "id": "615cb853",
   "metadata": {},
   "outputs": [
    {
     "data": {
      "text/plain": [
       "[(<google.protobuf.pyext._message.FieldDescriptor at 0x7f7930007f50>,\n",
       "  'sys.cpu'),\n",
       " (<google.protobuf.pyext._message.FieldDescriptor at 0x7f7930007e50>, 'gauge'),\n",
       " (<google.protobuf.pyext._message.FieldDescriptor at 0x7f792ffa6210>,\n",
       "  99.9000015258789)]"
      ]
     },
     "execution_count": 11,
     "metadata": {},
     "output_type": "execute_result"
    }
   ],
   "source": [
    "metric.ListFields()"
   ]
  },
  {
   "cell_type": "code",
   "execution_count": null,
   "id": "16d1473e",
   "metadata": {},
   "outputs": [],
   "source": []
  }
 ],
 "metadata": {
  "kernelspec": {
   "display_name": "Python 3",
   "language": "python",
   "name": "python3"
  },
  "language_info": {
   "codemirror_mode": {
    "name": "ipython",
    "version": 3
   },
   "file_extension": ".py",
   "mimetype": "text/x-python",
   "name": "python",
   "nbconvert_exporter": "python",
   "pygments_lexer": "ipython3",
   "version": "3.7.9"
  }
 },
 "nbformat": 4,
 "nbformat_minor": 5
}
