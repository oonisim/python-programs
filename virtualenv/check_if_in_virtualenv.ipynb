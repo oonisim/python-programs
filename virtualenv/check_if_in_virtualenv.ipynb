{
 "cells": [
  {
   "cell_type": "code",
   "execution_count": 1,
   "id": "409eeb27",
   "metadata": {},
   "outputs": [],
   "source": [
    "#!/usr/bin/env bash\n",
    "if [[ \"${VIRTUAL_ENV}x\" == \"x\" ]]; then\n",
    "  echo \"Activate Virtual Environment First\"\n",
    "  exit -1\n",
    "fi\n",
    "\n",
    "export VIRTUAL_ENV=\"${VIRTUAL_ENV:?'Activate Virtual Environment First'}\""
   ]
  },
  {
   "cell_type": "code",
   "execution_count": null,
   "id": "5b4ca121",
   "metadata": {},
   "outputs": [],
   "source": []
  }
 ],
 "metadata": {
  "kernelspec": {
   "display_name": "Bash",
   "language": "bash",
   "name": "bash"
  },
  "language_info": {
   "codemirror_mode": "shell",
   "file_extension": ".sh",
   "mimetype": "text/x-sh",
   "name": "bash"
  }
 },
 "nbformat": 4,
 "nbformat_minor": 5
}
