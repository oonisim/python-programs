{
 "cells": [
  {
   "cell_type": "markdown",
   "id": "0e35f7a5",
   "metadata": {},
   "source": [
    "# Pytho scope is crap\n",
    "\n",
    "One example why Python is not a well designed proper language, rather it is a bunch of hacks. \n",
    "\n",
    "* [UnboundLocalError on local variable when reassigned after first use](https://stackoverflow.com/a/370363/4281353)\n",
    "\n",
    "> Python treats variables in functions differently **depending on whether you assign values to them from inside or outside** the function. If a variable is **assigned within a function**, it is treated by default **as a local variable**.\n",
    "\n",
    "* [Please explain the scope behavior in Python](https://stackoverflow.com/questions/73759300/please-explain-the-scope-behavior-in-python)"
   ]
  },
  {
   "cell_type": "code",
   "execution_count": 19,
   "id": "70d7db82",
   "metadata": {},
   "outputs": [
    {
     "name": "stdout",
     "output_type": "stream",
     "text": [
      "numbers id is 4520858944\n"
     ]
    },
    {
     "ename": "UnboundLocalError",
     "evalue": "local variable 'found' referenced before assignment",
     "output_type": "error",
     "traceback": [
      "\u001b[0;31m---------------------------------------------------------------------------\u001b[0m",
      "\u001b[0;31mUnboundLocalError\u001b[0m                         Traceback (most recent call last)",
      "Input \u001b[0;32mIn [19]\u001b[0m, in \u001b[0;36m<cell line: 20>\u001b[0;34m()\u001b[0m\n\u001b[1;32m     16\u001b[0m     \u001b[38;5;28mprint\u001b[39m(\u001b[38;5;124mf\u001b[39m\u001b[38;5;124m\"\u001b[39m\u001b[38;5;124mfound id is \u001b[39m\u001b[38;5;132;01m{\u001b[39;00m\u001b[38;5;28mid\u001b[39m(found)\u001b[38;5;132;01m}\u001b[39;00m\u001b[38;5;124m\"\u001b[39m)\n\u001b[1;32m     17\u001b[0m     \u001b[38;5;28;01mreturn\u001b[39;00m found\n\u001b[0;32m---> 20\u001b[0m \u001b[43mis_found\u001b[49m\u001b[43m(\u001b[49m\u001b[38;5;241;43m3\u001b[39;49m\u001b[43m)\u001b[49m\n",
      "Input \u001b[0;32mIn [19]\u001b[0m, in \u001b[0;36mis_found\u001b[0;34m(x)\u001b[0m\n\u001b[1;32m      4\u001b[0m \u001b[38;5;28;01mdef\u001b[39;00m \u001b[38;5;21mis_found\u001b[39m(x):\n\u001b[1;32m      5\u001b[0m     \u001b[38;5;28mprint\u001b[39m(\u001b[38;5;124mf\u001b[39m\u001b[38;5;124m\"\u001b[39m\u001b[38;5;124mnumbers id is \u001b[39m\u001b[38;5;132;01m{\u001b[39;00m\u001b[38;5;28mid\u001b[39m(numbers)\u001b[38;5;132;01m}\u001b[39;00m\u001b[38;5;124m\"\u001b[39m)\n\u001b[0;32m----> 6\u001b[0m     \u001b[38;5;28mprint\u001b[39m(\u001b[38;5;124mf\u001b[39m\u001b[38;5;124m\"\u001b[39m\u001b[38;5;124mfound_1 id is \u001b[39m\u001b[38;5;132;01m{\u001b[39;00m\u001b[38;5;28mid\u001b[39m(found)\u001b[38;5;132;01m}\u001b[39;00m\u001b[38;5;124m\"\u001b[39m)\n\u001b[1;32m      8\u001b[0m     found \u001b[38;5;241m=\u001b[39m \u001b[38;5;28;01mFalse\u001b[39;00m\n\u001b[1;32m      9\u001b[0m     \u001b[38;5;28mprint\u001b[39m(\u001b[38;5;124mf\u001b[39m\u001b[38;5;124m\"\u001b[39m\u001b[38;5;124mfound_2 id is \u001b[39m\u001b[38;5;132;01m{\u001b[39;00m\u001b[38;5;28mid\u001b[39m(found)\u001b[38;5;132;01m}\u001b[39;00m\u001b[38;5;124m\"\u001b[39m)\n",
      "\u001b[0;31mUnboundLocalError\u001b[0m: local variable 'found' referenced before assignment"
     ]
    }
   ],
   "source": [
    "numbers = [1,2,3,4,5]\n",
    "found = 0\n",
    "\n",
    "def is_found(x):\n",
    "    print(f\"numbers id is {id(numbers)}\")\n",
    "    print(f\"found_1 id is {id(found)}\")\n",
    "    \n",
    "    found = False\n",
    "    print(f\"found_2 id is {id(found)}\")\n",
    "\n",
    "    def helper(x):\n",
    "        if found in numbers:\n",
    "            found += 1    \n",
    "\n",
    "    helper(x)\n",
    "    \n",
    "    print(f\"found id is {id(found)}\")\n",
    "    return found\n",
    "\n",
    "is_found(3)"
   ]
  }
 ],
 "metadata": {
  "kernelspec": {
   "display_name": "Python 3 (ipykernel)",
   "language": "python",
   "name": "python3"
  },
  "language_info": {
   "codemirror_mode": {
    "name": "ipython",
    "version": 3
   },
   "file_extension": ".py",
   "mimetype": "text/x-python",
   "name": "python",
   "nbconvert_exporter": "python",
   "pygments_lexer": "ipython3",
   "version": "3.9.12"
  }
 },
 "nbformat": 4,
 "nbformat_minor": 5
}
