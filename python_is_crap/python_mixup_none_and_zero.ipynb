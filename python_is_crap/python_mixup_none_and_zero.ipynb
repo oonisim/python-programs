{
 "cells": [
  {
   "cell_type": "markdown",
   "id": "3075c600",
   "metadata": {},
   "source": [
    "# Python crap of mixing zero and None\n",
    "\n",
    "```None``` means **Not defined** but ```zero/0``` is a value defined. \n",
    "\n",
    "Python screwed up None and zero."
   ]
  },
  {
   "cell_type": "code",
   "execution_count": 4,
   "id": "4b65d3f6",
   "metadata": {},
   "outputs": [],
   "source": [
    "def is_ok(x):\n",
    "    if x:\n",
    "        print(\"OK\")\n",
    "    else:\n",
    "        print(\"NOT OK\")"
   ]
  },
  {
   "cell_type": "code",
   "execution_count": 5,
   "id": "da8dff7c",
   "metadata": {},
   "outputs": [
    {
     "name": "stdout",
     "output_type": "stream",
     "text": [
      "NOT OK\n"
     ]
    }
   ],
   "source": [
    "is_ok(None)"
   ]
  },
  {
   "cell_type": "code",
   "execution_count": 6,
   "id": "1a07da8b",
   "metadata": {},
   "outputs": [
    {
     "name": "stdout",
     "output_type": "stream",
     "text": [
      "NOT OK\n"
     ]
    }
   ],
   "source": [
    "is_ok(0)"
   ]
  }
 ],
 "metadata": {
  "kernelspec": {
   "display_name": "Python 3 (ipykernel)",
   "language": "python",
   "name": "python3"
  },
  "language_info": {
   "codemirror_mode": {
    "name": "ipython",
    "version": 3
   },
   "file_extension": ".py",
   "mimetype": "text/x-python",
   "name": "python",
   "nbconvert_exporter": "python",
   "pygments_lexer": "ipython3",
   "version": "3.9.12"
  }
 },
 "nbformat": 4,
 "nbformat_minor": 5
}
