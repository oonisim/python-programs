{
  "nbformat": 4,
  "nbformat_minor": 0,
  "metadata": {
    "colab": {
      "name": "Demucs.ipynb",
      "provenance": [],
      "collapsed_sections": [],
      "toc_visible": true,
      "authorship_tag": "ABX9TyND92CtQzh3p/nHLdIMI5Zb",
      "include_colab_link": true
    },
    "kernelspec": {
      "name": "python3",
      "display_name": "Python 3"
    }
  },
  "cells": [
    {
      "cell_type": "markdown",
      "metadata": {
        "id": "view-in-github",
        "colab_type": "text"
      },
      "source": [
        "<a href=\"https://colab.research.google.com/github/dvschultz/ml-art-colabs/blob/master/Demucs.ipynb\" target=\"_parent\"><img src=\"https://colab.research.google.com/assets/colab-badge.svg\" alt=\"Open In Colab\"/></a>"
      ]
    },
    {
      "cell_type": "markdown",
      "metadata": {
        "id": "QoDSau5K9ibz"
      },
      "source": [
        "#Demucs\n",
        "\n",
        "Demucs is a music source seperation model from Facebook. Provide it a song and it will seperate the track into individual files containing drums, bass, vocals, and \"other\".\n",
        "\n",
        "[Github Repo](https://github.com/facebookresearch/demucs)"
      ]
    },
    {
      "cell_type": "code",
      "metadata": {
        "id": "ECoHai3f-dHz",
        "colab": {
          "base_uri": "https://localhost:8080/"
        },
        "outputId": "cf89db31-e39d-4a62-a6c3-e83dd559c3b1"
      },
      "source": [
        "!pip install demucs"
      ],
      "execution_count": 9,
      "outputs": [
        {
          "output_type": "stream",
          "text": [
            "Collecting demucs\n",
            "\u001b[?25l  Downloading https://files.pythonhosted.org/packages/80/77/4991edb8d4764892260a913048ee607b50da520c4638f2c824ce1bdbe30e/demucs-2.0.0.tar.gz (45kB)\n",
            "\r\u001b[K     |███████▏                        | 10kB 17.0MB/s eta 0:00:01\r\u001b[K     |██████████████▎                 | 20kB 20.1MB/s eta 0:00:01\r\u001b[K     |█████████████████████▍          | 30kB 8.2MB/s eta 0:00:01\r\u001b[K     |████████████████████████████▋   | 40kB 9.0MB/s eta 0:00:01\r\u001b[K     |████████████████████████████████| 51kB 4.0MB/s \n",
            "\u001b[?25hCollecting diffq>=0.1\n",
            "  Downloading https://files.pythonhosted.org/packages/a9/8c/48ee28b1fe919fe1a07d08c8c329614312b7163428ce055b7cb0149dbff5/diffq-0.1.0.tar.gz\n",
            "Requirement already satisfied: lameenc>=1.2 in /usr/local/lib/python3.7/dist-packages (from demucs) (1.3.1)\n",
            "Requirement already satisfied: julius>=0.2.3 in /usr/local/lib/python3.7/dist-packages (from demucs) (0.2.3)\n",
            "Requirement already satisfied: torch>=1.8.1 in /usr/local/lib/python3.7/dist-packages (from demucs) (1.8.1+cu101)\n",
            "Requirement already satisfied: torchaudio>=0.8 in /usr/local/lib/python3.7/dist-packages (from demucs) (0.8.1)\n",
            "Requirement already satisfied: tqdm in /usr/local/lib/python3.7/dist-packages (from demucs) (4.41.1)\n",
            "Requirement already satisfied: numpy in /usr/local/lib/python3.7/dist-packages (from torch>=1.8.1->demucs) (1.19.5)\n",
            "Requirement already satisfied: typing-extensions in /usr/local/lib/python3.7/dist-packages (from torch>=1.8.1->demucs) (3.7.4.3)\n",
            "Building wheels for collected packages: demucs, diffq\n",
            "  Building wheel for demucs (setup.py) ... \u001b[?25l\u001b[?25hdone\n",
            "  Created wheel for demucs: filename=demucs-2.0.0-cp37-none-any.whl size=40321 sha256=4e19c605974fab29d514d878c4af1f79b88852e1375e93b93d72971f87b29fcb\n",
            "  Stored in directory: /root/.cache/pip/wheels/1b/62/34/a269377601fef46a0204bfd9075e4eacf5e5df3c36dc2beaba\n",
            "  Building wheel for diffq (setup.py) ... \u001b[?25l\u001b[?25hdone\n",
            "  Created wheel for diffq: filename=diffq-0.1.0-cp37-none-any.whl size=18833 sha256=8177c6d87b3853ad101f07daae0d7ae423afde37cb3caf5c8cc69b7e700f8524\n",
            "  Stored in directory: /root/.cache/pip/wheels/b8/cd/4f/ea4e66ed99250c243fda1d1d910e2b3cce21c3305d33deb928\n",
            "Successfully built demucs diffq\n",
            "Installing collected packages: diffq, demucs\n",
            "Successfully installed demucs-2.0.0 diffq-0.1.0\n"
          ],
          "name": "stdout"
        }
      ]
    },
    {
      "cell_type": "markdown",
      "metadata": {
        "id": "QibnBixahElY"
      },
      "source": [
        "Upload your file to Colab, then copy the path below:"
      ]
    },
    {
      "cell_type": "code",
      "metadata": {
        "id": "5iXfkyi0_IUU",
        "colab": {
          "base_uri": "https://localhost:8080/"
        },
        "outputId": "99268ac0-e989-4b60-c64d-fb40126306e6"
      },
      "source": [
        "!python -m demucs.separate /path/to/wav/file"
      ],
      "execution_count": 11,
      "outputs": [
        {
          "output_type": "stream",
          "text": [
            "Downloading: \"https://dl.fbaipublicfiles.com/demucs/v3.0/demucs_quantized-07afea75.th\" to /root/.cache/torch/hub/checkpoints/demucs_quantized-07afea75.th\n",
            "100% 148M/148M [00:02<00:00, 68.4MB/s]\n",
            "Separated tracks will be stored in /content/demucs/separated/demucs_quantized\n",
            "Separating track /content/rushing-back-clip.wav\n",
            "100%|██████████████████████████████████████████████████████████████████████████| 30.0/30.0 [00:21<00:00,  1.42seconds/s]\n"
          ],
          "name": "stdout"
        }
      ]
    }
  ]
}