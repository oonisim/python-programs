{
 "cells": [
  {
   "cell_type": "markdown",
   "id": "2c2bb139-b98d-4d4a-a612-891d4a1c93a2",
   "metadata": {},
   "source": [
    "# Huggingface Audio Dataset"
   ]
  },
  {
   "cell_type": "code",
   "execution_count": 1,
   "id": "ad1b7dc8-ad32-4cae-9d3e-cbb1c4344947",
   "metadata": {},
   "outputs": [],
   "source": [
    "from datasets import (\n",
    "    load_dataset,\n",
    "    Audio\n",
    ")\n",
    "import gradio as gr\n",
    "import librosa\n",
    "import matplotlib.pyplot as plt\n",
    "import numpy as np"
   ]
  },
  {
   "cell_type": "markdown",
   "id": "5e0f1d6b-b511-4d0e-aedd-d249e3bf247f",
   "metadata": {},
   "source": [
    "# Dataset (Minds14)\n",
    "\n",
    "\n",
    "[MINDS-14](https://huggingface.co/datasets/PolyAI/minds14) contains recordings of people asking an e-banking system questions in several languages and dialects. The dataset contains 654 audio files, each of which is accompanied by a transcription, an English translation, and a label indicating the intent behind the person’s query. The audio column contains the raw audio data. \n",
    "\n",
    "## Load the EN-AU subset of the data"
   ]
  },
  {
   "cell_type": "code",
   "execution_count": 12,
   "id": "d4c2ed0b-b995-4e65-9757-23a61d6b6ad4",
   "metadata": {},
   "outputs": [
    {
     "name": "stderr",
     "output_type": "stream",
     "text": [
      "/home/eml/venv/ml/lib/python3.10/site-packages/datasets/load.py:1461: FutureWarning: The repository for PolyAI/minds14 contains custom code which must be executed to correctly load the dataset. You can inspect the repository content at https://hf.co/datasets/PolyAI/minds14\n",
      "You can avoid this message in future by passing the argument `trust_remote_code=True`.\n",
      "Passing `trust_remote_code=True` will be mandatory to load this dataset from the next major release of `datasets`.\n",
      "  warnings.warn(\n"
     ]
    },
    {
     "data": {
      "text/plain": [
       "{'path': '/home/eml/.cache/huggingface/datasets/downloads/extracted/8b2f5b596435dc9607ef03217cdf9a387a9107d462ddb8c450ee1b6ee9295c41/en-AU~PAY_BILL/response_4.wav',\n",
       " 'audio': {'path': '/home/eml/.cache/huggingface/datasets/downloads/extracted/8b2f5b596435dc9607ef03217cdf9a387a9107d462ddb8c450ee1b6ee9295c41/en-AU~PAY_BILL/response_4.wav',\n",
       "  'array': array([ 0.        ,  0.00024414, -0.00024414, ..., -0.00024414,\n",
       "          0.00024414,  0.0012207 ]),\n",
       "  'sampling_rate': 8000},\n",
       " 'transcription': 'I would like to pay my electricity bill using my card can you please assist',\n",
       " 'intent_class': 13}"
      ]
     },
     "execution_count": 12,
     "metadata": {},
     "output_type": "execute_result"
    }
   ],
   "source": [
    "minds = load_dataset(\"PolyAI/minds14\", name=\"en-AU\", split=\"train\")\n",
    "\n",
    "# The lang_id is the same (for EN-AU) for all examples. The english_transcription duplicate the transcription \n",
    "columns_to_remove = [\"lang_id\", \"english_transcription\"]\n",
    "minds = minds.remove_columns(columns_to_remove)\n",
    "\n",
    "minds[0]"
   ]
  },
  {
   "cell_type": "markdown",
   "id": "a86f2806-78ba-4410-888f-a8c243f4570a",
   "metadata": {},
   "source": [
    "## Labels"
   ]
  },
  {
   "cell_type": "code",
   "execution_count": 4,
   "id": "01b89271-dd73-48fd-beb6-58979a742b9d",
   "metadata": {},
   "outputs": [
    {
     "name": "stdout",
     "output_type": "stream",
     "text": [
      "ClassLabel(names=['abroad', 'address', 'app_error', 'atm_limit', 'balance', 'business_loan', 'card_issues', 'cash_deposit', 'direct_debit', 'freeze', 'high_value_payment', 'joint_account', 'latest_transactions', 'pay_bill'], id=None)\n"
     ]
    }
   ],
   "source": [
    "print(minds.features[\"intent_class\"])"
   ]
  },
  {
   "cell_type": "markdown",
   "id": "e7bfab39-d1ba-47d0-bfb9-4b84f14e1826",
   "metadata": {},
   "source": [
    "## Utility"
   ]
  },
  {
   "cell_type": "code",
   "execution_count": 5,
   "id": "2d4199c5-04d7-4dbf-af7e-984f5b33902f",
   "metadata": {},
   "outputs": [],
   "source": [
    "id2label = minds.features[\"intent_class\"].int2str"
   ]
  },
  {
   "cell_type": "markdown",
   "id": "d2584cda-85ed-4968-890d-864e300024d1",
   "metadata": {},
   "source": [
    "# Resampling\n",
    "\n",
    "Pretrained models mostly uses a sampling rate of 16 kHz. MINDS-14 dataset is sampled at 8 kHz. Hence, resample at 16 kHz."
   ]
  },
  {
   "cell_type": "code",
   "execution_count": 13,
   "id": "b693bacb-8dc3-4460-824c-87c562a92ab4",
   "metadata": {},
   "outputs": [
    {
     "data": {
      "text/plain": [
       "{'path': '/home/eml/.cache/huggingface/datasets/downloads/extracted/8b2f5b596435dc9607ef03217cdf9a387a9107d462ddb8c450ee1b6ee9295c41/en-AU~PAY_BILL/response_4.wav',\n",
       " 'audio': {'path': '/home/eml/.cache/huggingface/datasets/downloads/extracted/8b2f5b596435dc9607ef03217cdf9a387a9107d462ddb8c450ee1b6ee9295c41/en-AU~PAY_BILL/response_4.wav',\n",
       "  'array': array([2.36119668e-05, 1.92324660e-04, 2.19284790e-04, ...,\n",
       "         9.40907281e-04, 1.16613181e-03, 7.20883254e-04]),\n",
       "  'sampling_rate': 16000},\n",
       " 'transcription': 'I would like to pay my electricity bill using my card can you please assist',\n",
       " 'intent_class': 13}"
      ]
     },
     "execution_count": 13,
     "metadata": {},
     "output_type": "execute_result"
    }
   ],
   "source": [
    "minds = minds.cast_column(\"audio\", Audio(sampling_rate=16_000))\n",
    "minds[0]"
   ]
  },
  {
   "cell_type": "markdown",
   "id": "972d8515-fec0-4108-bf11-297df0a80772",
   "metadata": {},
   "source": [
    "---\n",
    "# Example Record"
   ]
  },
  {
   "cell_type": "code",
   "execution_count": 8,
   "id": "bdb0241b-545f-435b-9b27-e52f491c66d4",
   "metadata": {},
   "outputs": [
    {
     "data": {
      "text/plain": [
       "{'path': '/home/eml/.cache/huggingface/datasets/downloads/extracted/8b2f5b596435dc9607ef03217cdf9a387a9107d462ddb8c450ee1b6ee9295c41/en-AU~PAY_BILL/response_4.wav',\n",
       " 'audio': {'path': '/home/eml/.cache/huggingface/datasets/downloads/extracted/8b2f5b596435dc9607ef03217cdf9a387a9107d462ddb8c450ee1b6ee9295c41/en-AU~PAY_BILL/response_4.wav',\n",
       "  'array': array([2.36119668e-05, 1.92324660e-04, 2.19284790e-04, ...,\n",
       "         9.40907281e-04, 1.16613181e-03, 7.20883254e-04]),\n",
       "  'sampling_rate': 16000},\n",
       " 'transcription': 'I would like to pay my electricity bill using my card can you please assist',\n",
       " 'intent_class': 13}"
      ]
     },
     "execution_count": 8,
     "metadata": {},
     "output_type": "execute_result"
    }
   ],
   "source": [
    "example = minds[0]\n",
    "example"
   ]
  },
  {
   "cell_type": "code",
   "execution_count": 9,
   "id": "d2cba67a-1995-4e47-b547-f9efbc51125c",
   "metadata": {},
   "outputs": [
    {
     "data": {
      "text/plain": [
       "'pay_bill'"
      ]
     },
     "execution_count": 9,
     "metadata": {},
     "output_type": "execute_result"
    }
   ],
   "source": [
    "id2label(example[\"intent_class\"])"
   ]
  },
  {
   "cell_type": "code",
   "execution_count": 10,
   "id": "1024a718-1b3a-4f64-8515-e4b8cd775724",
   "metadata": {},
   "outputs": [],
   "source": [
    "data = example[\"audio\"][\"array\"]\n",
    "sampling_rate = example[\"audio\"][\"sampling_rate\"]\n",
    "label = id2label(example[\"intent_class\"])"
   ]
  },
  {
   "cell_type": "code",
   "execution_count": 11,
   "id": "b48be607-e39e-4143-afa2-a51416f14231",
   "metadata": {},
   "outputs": [
    {
     "name": "stdout",
     "output_type": "stream",
     "text": [
      "16000\n"
     ]
    }
   ],
   "source": [
    "print(sampling_rate)"
   ]
  },
  {
   "cell_type": "markdown",
   "id": "82b7e3df-fce5-4a92-9701-702d6e65264e",
   "metadata": {},
   "source": [
    "# Remove long duration data\n",
    "\n",
    "Filter out any examples longer than 20s to prevent out-of-memory errors."
   ]
  },
  {
   "cell_type": "code",
   "execution_count": 14,
   "id": "925d3c2c-8358-495e-b970-c42000c17eee",
   "metadata": {},
   "outputs": [],
   "source": [
    "MAX_DURATION_IN_SECONDS = 20.0\n",
    "\n",
    "\n",
    "def is_audio_length_in_range(input_length):\n",
    "    return input_length < MAX_DURATION_IN_SECONDS"
   ]
  },
  {
   "cell_type": "code",
   "execution_count": 15,
   "id": "53ab6ec3-65d3-4fe5-8f65-6b311ca35fcd",
   "metadata": {},
   "outputs": [
    {
     "data": {
      "application/json": {
       "ascii": false,
       "bar_format": null,
       "colour": null,
       "elapsed": 0.0025148391723632812,
       "initial": 0,
       "n": 0,
       "ncols": null,
       "nrows": 53,
       "postfix": null,
       "prefix": "Filter",
       "rate": null,
       "total": 654,
       "unit": " examples",
       "unit_divisor": 1000,
       "unit_scale": false
      },
      "application/vnd.jupyter.widget-view+json": {
       "model_id": "96ecc043b63647a292eca10fa7fdf81e",
       "version_major": 2,
       "version_minor": 0
      },
      "text/plain": [
       "Filter:   0%|          | 0/654 [00:00<?, ? examples/s]"
      ]
     },
     "metadata": {},
     "output_type": "display_data"
    },
    {
     "data": {
      "text/plain": [
       "Dataset({\n",
       "    features: ['path', 'audio', 'transcription', 'intent_class'],\n",
       "    num_rows: 624\n",
       "})"
      ]
     },
     "execution_count": 15,
     "metadata": {},
     "output_type": "execute_result"
    }
   ],
   "source": [
    "# use librosa to get example's duration from the audio file\n",
    "new_column = [librosa.get_duration(path=x) for x in minds[\"path\"]]\n",
    "minds = minds.add_column(\"duration\", new_column)\n",
    "\n",
    "# use 🤗 Datasets' `filter` method to apply the filtering function\n",
    "minds = minds.filter(is_audio_length_in_range, input_columns=[\"duration\"])\n",
    "\n",
    "# remove the temporary helper column\n",
    "minds = minds.remove_columns([\"duration\"])\n",
    "minds"
   ]
  },
  {
   "cell_type": "code",
   "execution_count": null,
   "id": "84d5cbe3-8b84-4950-ac01-20a9858c521a",
   "metadata": {},
   "outputs": [],
   "source": []
  }
 ],
 "metadata": {
  "kernelspec": {
   "display_name": "Python 3 (ipykernel)",
   "language": "python",
   "name": "python3"
  },
  "language_info": {
   "codemirror_mode": {
    "name": "ipython",
    "version": 3
   },
   "file_extension": ".py",
   "mimetype": "text/x-python",
   "name": "python",
   "nbconvert_exporter": "python",
   "pygments_lexer": "ipython3",
   "version": "3.10.12"
  }
 },
 "nbformat": 4,
 "nbformat_minor": 5
}
