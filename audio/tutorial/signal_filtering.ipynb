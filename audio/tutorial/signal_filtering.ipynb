{
 "cells": [
  {
   "cell_type": "markdown",
   "id": "c8a80bd1-a42e-4c4b-99cb-227ad0ad37f8",
   "metadata": {},
   "source": []
  },
  {
   "cell_type": "markdown",
   "id": "637719b7-1c53-4ee8-9c80-aab7831a34b9",
   "metadata": {},
   "source": [
    "Filtering is a complex mathematical operation. Hence, use the filter design functions such as in the ```scipy.signal``` package. \n",
    "\n",
    "* [The Scientist and Engineer’s Guide to Digital Signal Processing](https://www.dspguide.com/ch14.htm)\n",
    "\n"
   ]
  },
  {
   "cell_type": "code",
   "execution_count": null,
   "id": "bb559020-e4a4-4bc5-8627-221cf198fa6d",
   "metadata": {},
   "outputs": [],
   "source": []
  },
  {
   "cell_type": "code",
   "execution_count": null,
   "id": "10100457-bf35-4ebf-a069-b2b7ed84cd3b",
   "metadata": {},
   "outputs": [],
   "source": []
  }
 ],
 "metadata": {
  "kernelspec": {
   "display_name": "Python 3 (ipykernel)",
   "language": "python",
   "name": "python3"
  },
  "language_info": {
   "codemirror_mode": {
    "name": "ipython",
    "version": 3
   },
   "file_extension": ".py",
   "mimetype": "text/x-python",
   "name": "python",
   "nbconvert_exporter": "python",
   "pygments_lexer": "ipython3",
   "version": "3.10.12"
  }
 },
 "nbformat": 4,
 "nbformat_minor": 5
}
