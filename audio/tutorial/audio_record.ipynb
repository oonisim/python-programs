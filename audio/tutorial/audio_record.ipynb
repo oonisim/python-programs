{
 "cells": [
  {
   "cell_type": "markdown",
   "id": "037b9d37-0637-4c75-9386-79d232f526fd",
   "metadata": {},
   "source": [
    "# Recordd the audio"
   ]
  },
  {
   "cell_type": "code",
   "execution_count": 10,
   "id": "a226ef6d-947b-4095-acf5-f58cf5862dce",
   "metadata": {},
   "outputs": [],
   "source": [
    "!rm recordedFile.wav"
   ]
  },
  {
   "cell_type": "code",
   "execution_count": 1,
   "id": "fc32c27d-551f-426a-98c9-1f69e010f8a9",
   "metadata": {},
   "outputs": [],
   "source": [
    "import pyaudio\n",
    "import wave\n",
    "from IPython.display import (\n",
    "    Audio, \n",
    "    display\n",
    ")\n",
    "import librosa"
   ]
  },
  {
   "cell_type": "code",
   "execution_count": 2,
   "id": "98a4b2fe-cc12-4e42-927f-ffc231bf54cc",
   "metadata": {},
   "outputs": [
    {
     "name": "stderr",
     "output_type": "stream",
     "text": [
      "ALSA lib confmisc.c:1369:(snd_func_refer) Unable to find definition 'cards.0.pcm.front.0:CARD=0'\n",
      "ALSA lib conf.c:5180:(_snd_config_evaluate) function snd_func_refer returned error: No such file or directory\n",
      "ALSA lib conf.c:5703:(snd_config_expand) Evaluate error: No such file or directory\n",
      "ALSA lib pcm.c:2666:(snd_pcm_open_noupdate) Unknown PCM front\n",
      "ALSA lib pcm.c:2666:(snd_pcm_open_noupdate) Unknown PCM cards.pcm.rear\n",
      "ALSA lib pcm.c:2666:(snd_pcm_open_noupdate) Unknown PCM cards.pcm.center_lfe\n",
      "ALSA lib pcm.c:2666:(snd_pcm_open_noupdate) Unknown PCM cards.pcm.side\n",
      "ALSA lib confmisc.c:1369:(snd_func_refer) Unable to find definition 'cards.0.pcm.surround51.0:CARD=0'\n",
      "ALSA lib conf.c:5180:(_snd_config_evaluate) function snd_func_refer returned error: No such file or directory\n",
      "ALSA lib conf.c:5703:(snd_config_expand) Evaluate error: No such file or directory\n",
      "ALSA lib pcm.c:2666:(snd_pcm_open_noupdate) Unknown PCM surround21\n",
      "ALSA lib confmisc.c:1369:(snd_func_refer) Unable to find definition 'cards.0.pcm.surround51.0:CARD=0'\n",
      "ALSA lib conf.c:5180:(_snd_config_evaluate) function snd_func_refer returned error: No such file or directory\n",
      "ALSA lib conf.c:5703:(snd_config_expand) Evaluate error: No such file or directory\n",
      "ALSA lib pcm.c:2666:(snd_pcm_open_noupdate) Unknown PCM surround21\n",
      "ALSA lib confmisc.c:1369:(snd_func_refer) Unable to find definition 'cards.0.pcm.surround40.0:CARD=0'\n",
      "ALSA lib conf.c:5180:(_snd_config_evaluate) function snd_func_refer returned error: No such file or directory\n",
      "ALSA lib conf.c:5703:(snd_config_expand) Evaluate error: No such file or directory\n",
      "ALSA lib pcm.c:2666:(snd_pcm_open_noupdate) Unknown PCM surround40\n",
      "ALSA lib confmisc.c:1369:(snd_func_refer) Unable to find definition 'cards.0.pcm.surround51.0:CARD=0'\n",
      "ALSA lib conf.c:5180:(_snd_config_evaluate) function snd_func_refer returned error: No such file or directory\n",
      "ALSA lib conf.c:5703:(snd_config_expand) Evaluate error: No such file or directory\n",
      "ALSA lib pcm.c:2666:(snd_pcm_open_noupdate) Unknown PCM surround41\n",
      "ALSA lib confmisc.c:1369:(snd_func_refer) Unable to find definition 'cards.0.pcm.surround51.0:CARD=0'\n",
      "ALSA lib conf.c:5180:(_snd_config_evaluate) function snd_func_refer returned error: No such file or directory\n",
      "ALSA lib conf.c:5703:(snd_config_expand) Evaluate error: No such file or directory\n",
      "ALSA lib pcm.c:2666:(snd_pcm_open_noupdate) Unknown PCM surround50\n",
      "ALSA lib confmisc.c:1369:(snd_func_refer) Unable to find definition 'cards.0.pcm.surround51.0:CARD=0'\n",
      "ALSA lib conf.c:5180:(_snd_config_evaluate) function snd_func_refer returned error: No such file or directory\n",
      "ALSA lib conf.c:5703:(snd_config_expand) Evaluate error: No such file or directory\n",
      "ALSA lib pcm.c:2666:(snd_pcm_open_noupdate) Unknown PCM surround51\n",
      "ALSA lib confmisc.c:1369:(snd_func_refer) Unable to find definition 'cards.0.pcm.surround71.0:CARD=0'\n",
      "ALSA lib conf.c:5180:(_snd_config_evaluate) function snd_func_refer returned error: No such file or directory\n",
      "ALSA lib conf.c:5703:(snd_config_expand) Evaluate error: No such file or directory\n",
      "ALSA lib pcm.c:2666:(snd_pcm_open_noupdate) Unknown PCM surround71\n",
      "ALSA lib confmisc.c:1369:(snd_func_refer) Unable to find definition 'cards.0.pcm.iec958.0:CARD=0,AES0=4,AES1=130,AES2=0,AES3=2'\n",
      "ALSA lib conf.c:5180:(_snd_config_evaluate) function snd_func_refer returned error: No such file or directory\n",
      "ALSA lib conf.c:5703:(snd_config_expand) Evaluate error: No such file or directory\n",
      "ALSA lib pcm.c:2666:(snd_pcm_open_noupdate) Unknown PCM iec958\n",
      "ALSA lib confmisc.c:1369:(snd_func_refer) Unable to find definition 'cards.0.pcm.iec958.0:CARD=0,AES0=4,AES1=130,AES2=0,AES3=2'\n",
      "ALSA lib conf.c:5180:(_snd_config_evaluate) function snd_func_refer returned error: No such file or directory\n",
      "ALSA lib conf.c:5703:(snd_config_expand) Evaluate error: No such file or directory\n",
      "ALSA lib pcm.c:2666:(snd_pcm_open_noupdate) Unknown PCM spdif\n",
      "ALSA lib confmisc.c:1369:(snd_func_refer) Unable to find definition 'cards.0.pcm.iec958.0:CARD=0,AES0=4,AES1=130,AES2=0,AES3=2'\n",
      "ALSA lib conf.c:5180:(_snd_config_evaluate) function snd_func_refer returned error: No such file or directory\n",
      "ALSA lib conf.c:5703:(snd_config_expand) Evaluate error: No such file or directory\n",
      "ALSA lib pcm.c:2666:(snd_pcm_open_noupdate) Unknown PCM spdif\n",
      "ALSA lib pcm.c:2666:(snd_pcm_open_noupdate) Unknown PCM cards.pcm.hdmi\n",
      "ALSA lib pcm.c:2666:(snd_pcm_open_noupdate) Unknown PCM cards.pcm.hdmi\n",
      "ALSA lib pcm.c:2666:(snd_pcm_open_noupdate) Unknown PCM cards.pcm.modem\n",
      "ALSA lib pcm.c:2666:(snd_pcm_open_noupdate) Unknown PCM cards.pcm.modem\n",
      "ALSA lib pcm.c:2666:(snd_pcm_open_noupdate) Unknown PCM cards.pcm.phoneline\n",
      "ALSA lib pcm.c:2666:(snd_pcm_open_noupdate) Unknown PCM cards.pcm.phoneline\n",
      "ALSA lib pcm_oss.c:397:(_snd_pcm_oss_open) Cannot open device /dev/dsp\n",
      "ALSA lib pcm_oss.c:397:(_snd_pcm_oss_open) Cannot open device /dev/dsp\n",
      "ALSA lib confmisc.c:160:(snd_config_get_card) Invalid field card\n",
      "ALSA lib pcm_usb_stream.c:482:(_snd_pcm_usb_stream_open) Invalid card 'card'\n",
      "ALSA lib confmisc.c:160:(snd_config_get_card) Invalid field card\n",
      "ALSA lib pcm_usb_stream.c:482:(_snd_pcm_usb_stream_open) Invalid card 'card'\n"
     ]
    },
    {
     "name": "stdout",
     "output_type": "stream",
     "text": [
      "----------------------record device list---------------------\n",
      "Input Device id  0  -  sof-hda-dsp: - (hw:0,0)\n",
      "Input Device id  3  -  sof-hda-dsp: - (hw:0,6)\n",
      "Input Device id  4  -  sof-hda-dsp: - (hw:0,7)\n",
      "Input Device id  6  -  sysdefault\n",
      "Input Device id  7  -  samplerate\n",
      "Input Device id  8  -  speexrate\n",
      "Input Device id  9  -  jack\n",
      "Input Device id  10  -  pipewire\n",
      "Input Device id  11  -  pulse\n",
      "Input Device id  12  -  upmix\n",
      "Input Device id  13  -  vdownmix\n",
      "Input Device id  15  -  default\n",
      "-------------------------------------------------------------\n"
     ]
    },
    {
     "name": "stdin",
     "output_type": "stream",
     "text": [
      " 16\n"
     ]
    },
    {
     "name": "stdout",
     "output_type": "stream",
     "text": [
      "recording via index 16\n"
     ]
    },
    {
     "ename": "OSError",
     "evalue": "[Errno -9997] Invalid sample rate",
     "output_type": "error",
     "traceback": [
      "\u001b[0;31m---------------------------------------------------------------------------\u001b[0m",
      "\u001b[0;31mOSError\u001b[0m                                   Traceback (most recent call last)",
      "Cell \u001b[0;32mIn[2], line 22\u001b[0m\n\u001b[1;32m     19\u001b[0m index \u001b[38;5;241m=\u001b[39m \u001b[38;5;28mint\u001b[39m(\u001b[38;5;28minput\u001b[39m())\n\u001b[1;32m     20\u001b[0m \u001b[38;5;28mprint\u001b[39m(\u001b[38;5;124m\"\u001b[39m\u001b[38;5;124mrecording via index \u001b[39m\u001b[38;5;124m\"\u001b[39m\u001b[38;5;241m+\u001b[39m\u001b[38;5;28mstr\u001b[39m(index))\n\u001b[0;32m---> 22\u001b[0m stream \u001b[38;5;241m=\u001b[39m \u001b[43maudio\u001b[49m\u001b[38;5;241;43m.\u001b[39;49m\u001b[43mopen\u001b[49m\u001b[43m(\u001b[49m\n\u001b[1;32m     23\u001b[0m \u001b[43m    \u001b[49m\u001b[38;5;28;43mformat\u001b[39;49m\u001b[38;5;241;43m=\u001b[39;49m\u001b[43mFORMAT\u001b[49m\u001b[43m,\u001b[49m\u001b[43m \u001b[49m\n\u001b[1;32m     24\u001b[0m \u001b[43m    \u001b[49m\u001b[43mchannels\u001b[49m\u001b[38;5;241;43m=\u001b[39;49m\u001b[43mCHANNELS\u001b[49m\u001b[43m,\u001b[49m\n\u001b[1;32m     25\u001b[0m \u001b[43m    \u001b[49m\u001b[43mrate\u001b[49m\u001b[38;5;241;43m=\u001b[39;49m\u001b[43mRATE\u001b[49m\u001b[43m,\u001b[49m\u001b[43m \u001b[49m\n\u001b[1;32m     26\u001b[0m \u001b[43m    \u001b[49m\u001b[38;5;28;43minput\u001b[39;49m\u001b[38;5;241;43m=\u001b[39;49m\u001b[38;5;28;43;01mTrue\u001b[39;49;00m\u001b[43m,\u001b[49m\n\u001b[1;32m     27\u001b[0m \u001b[43m    \u001b[49m\u001b[43minput_device_index\u001b[49m\u001b[43m \u001b[49m\u001b[38;5;241;43m=\u001b[39;49m\u001b[43m \u001b[49m\u001b[43mindex\u001b[49m\u001b[43m,\u001b[49m\n\u001b[1;32m     28\u001b[0m \u001b[43m    \u001b[49m\u001b[43mframes_per_buffer\u001b[49m\u001b[38;5;241;43m=\u001b[39;49m\u001b[43mCHUNK\u001b[49m\n\u001b[1;32m     29\u001b[0m \u001b[43m)\u001b[49m\n\u001b[1;32m     30\u001b[0m \u001b[38;5;28mprint\u001b[39m (\u001b[38;5;124m\"\u001b[39m\u001b[38;5;124mrecording started\u001b[39m\u001b[38;5;124m\"\u001b[39m)\n\u001b[1;32m     31\u001b[0m Recordframes \u001b[38;5;241m=\u001b[39m []\n",
      "File \u001b[0;32m~/venv/ml/lib/python3.10/site-packages/pyaudio/__init__.py:639\u001b[0m, in \u001b[0;36mPyAudio.open\u001b[0;34m(self, *args, **kwargs)\u001b[0m\n\u001b[1;32m    631\u001b[0m \u001b[38;5;28;01mdef\u001b[39;00m \u001b[38;5;21mopen\u001b[39m(\u001b[38;5;28mself\u001b[39m, \u001b[38;5;241m*\u001b[39margs, \u001b[38;5;241m*\u001b[39m\u001b[38;5;241m*\u001b[39mkwargs):\n\u001b[1;32m    632\u001b[0m \u001b[38;5;250m    \u001b[39m\u001b[38;5;124;03m\"\"\"Opens a new stream.\u001b[39;00m\n\u001b[1;32m    633\u001b[0m \n\u001b[1;32m    634\u001b[0m \u001b[38;5;124;03m    See constructor for :py:func:`PyAudio.Stream.__init__` for parameter\u001b[39;00m\n\u001b[0;32m   (...)\u001b[0m\n\u001b[1;32m    637\u001b[0m \u001b[38;5;124;03m    :returns: A new :py:class:`PyAudio.Stream`\u001b[39;00m\n\u001b[1;32m    638\u001b[0m \u001b[38;5;124;03m    \"\"\"\u001b[39;00m\n\u001b[0;32m--> 639\u001b[0m     stream \u001b[38;5;241m=\u001b[39m \u001b[43mPyAudio\u001b[49m\u001b[38;5;241;43m.\u001b[39;49m\u001b[43mStream\u001b[49m\u001b[43m(\u001b[49m\u001b[38;5;28;43mself\u001b[39;49m\u001b[43m,\u001b[49m\u001b[43m \u001b[49m\u001b[38;5;241;43m*\u001b[39;49m\u001b[43margs\u001b[49m\u001b[43m,\u001b[49m\u001b[43m \u001b[49m\u001b[38;5;241;43m*\u001b[39;49m\u001b[38;5;241;43m*\u001b[39;49m\u001b[43mkwargs\u001b[49m\u001b[43m)\u001b[49m\n\u001b[1;32m    640\u001b[0m     \u001b[38;5;28mself\u001b[39m\u001b[38;5;241m.\u001b[39m_streams\u001b[38;5;241m.\u001b[39madd(stream)\n\u001b[1;32m    641\u001b[0m     \u001b[38;5;28;01mreturn\u001b[39;00m stream\n",
      "File \u001b[0;32m~/venv/ml/lib/python3.10/site-packages/pyaudio/__init__.py:441\u001b[0m, in \u001b[0;36mPyAudio.Stream.__init__\u001b[0;34m(self, PA_manager, rate, channels, format, input, output, input_device_index, output_device_index, frames_per_buffer, start, input_host_api_specific_stream_info, output_host_api_specific_stream_info, stream_callback)\u001b[0m\n\u001b[1;32m    438\u001b[0m     arguments[\u001b[38;5;124m'\u001b[39m\u001b[38;5;124mstream_callback\u001b[39m\u001b[38;5;124m'\u001b[39m] \u001b[38;5;241m=\u001b[39m stream_callback\n\u001b[1;32m    440\u001b[0m \u001b[38;5;66;03m# calling pa.open returns a stream object\u001b[39;00m\n\u001b[0;32m--> 441\u001b[0m \u001b[38;5;28mself\u001b[39m\u001b[38;5;241m.\u001b[39m_stream \u001b[38;5;241m=\u001b[39m \u001b[43mpa\u001b[49m\u001b[38;5;241;43m.\u001b[39;49m\u001b[43mopen\u001b[49m\u001b[43m(\u001b[49m\u001b[38;5;241;43m*\u001b[39;49m\u001b[38;5;241;43m*\u001b[39;49m\u001b[43marguments\u001b[49m\u001b[43m)\u001b[49m\n\u001b[1;32m    443\u001b[0m \u001b[38;5;28mself\u001b[39m\u001b[38;5;241m.\u001b[39m_input_latency \u001b[38;5;241m=\u001b[39m \u001b[38;5;28mself\u001b[39m\u001b[38;5;241m.\u001b[39m_stream\u001b[38;5;241m.\u001b[39minputLatency\n\u001b[1;32m    444\u001b[0m \u001b[38;5;28mself\u001b[39m\u001b[38;5;241m.\u001b[39m_output_latency \u001b[38;5;241m=\u001b[39m \u001b[38;5;28mself\u001b[39m\u001b[38;5;241m.\u001b[39m_stream\u001b[38;5;241m.\u001b[39moutputLatency\n",
      "\u001b[0;31mOSError\u001b[0m: [Errno -9997] Invalid sample rate"
     ]
    }
   ],
   "source": [
    "FORMAT = pyaudio.paInt16\n",
    "CHANNELS = 1\n",
    "RATE = 44100\n",
    "CHUNK = 512\n",
    "RECORD_SECONDS = 5\n",
    "WAVE_OUTPUT_FILENAME = \"recordedFile.wav\"\n",
    "device_index = 2\n",
    "audio = pyaudio.PyAudio()\n",
    "\n",
    "print(\"----------------------record device list---------------------\")\n",
    "info = audio.get_host_api_info_by_index(0)\n",
    "numdevices = info.get('deviceCount')\n",
    "for i in range(0, numdevices):\n",
    "        if (audio.get_device_info_by_host_api_device_index(0, i).get('maxInputChannels')) > 0:\n",
    "            print(\"Input Device id \", i, \" - \", audio.get_device_info_by_host_api_device_index(0, i).get('name'))\n",
    "\n",
    "print(\"-------------------------------------------------------------\")\n",
    "\n",
    "index = int(input())\n",
    "print(\"recording via index \"+str(index))\n",
    "\n",
    "stream = audio.open(\n",
    "    format=FORMAT, \n",
    "    channels=CHANNELS,\n",
    "    rate=RATE, \n",
    "    input=True,\n",
    "    input_device_index = index,\n",
    "    frames_per_buffer=CHUNK\n",
    ")\n",
    "print (\"recording started\")\n",
    "Recordframes = []\n",
    " \n",
    "for i in range(0, int(RATE / CHUNK * RECORD_SECONDS)):\n",
    "    data = stream.read(CHUNK)\n",
    "    Recordframes.append(data)\n",
    "\n",
    "print (\"recording stopped\")\n",
    " \n",
    "stream.stop_stream()\n",
    "stream.close()\n",
    "audio.terminate()\n",
    " \n",
    "waveFile = wave.open(WAVE_OUTPUT_FILENAME, 'wb')\n",
    "waveFile.setnchannels(CHANNELS)\n",
    "waveFile.setsampwidth(audio.get_sample_size(FORMAT))\n",
    "waveFile.setframerate(RATE)\n",
    "waveFile.writeframes(b''.join(Recordframes))\n",
    "waveFile.close()"
   ]
  },
  {
   "cell_type": "code",
   "execution_count": 11,
   "id": "59a26027-f43d-4bd3-88bf-588560ab5d6b",
   "metadata": {},
   "outputs": [
    {
     "ename": "ValueError",
     "evalue": "rate must be specified when data is a numpy array or list of audio samples.",
     "output_type": "error",
     "traceback": [
      "\u001b[0;31m---------------------------------------------------------------------------\u001b[0m",
      "\u001b[0;31mValueError\u001b[0m                                Traceback (most recent call last)",
      "Cell \u001b[0;32mIn[11], line 1\u001b[0m\n\u001b[0;32m----> 1\u001b[0m display(\u001b[43mAudio\u001b[49m\u001b[43m(\u001b[49m\u001b[38;5;124;43m\"\u001b[39;49m\u001b[38;5;124;43mrecordedFile.wav\u001b[39;49m\u001b[38;5;124;43m\"\u001b[39;49m\u001b[43m)\u001b[49m)\n",
      "File \u001b[0;32m~/venv/ml/lib/python3.10/site-packages/IPython/lib/display.py:129\u001b[0m, in \u001b[0;36mAudio.__init__\u001b[0;34m(self, data, filename, url, embed, rate, autoplay, normalize, element_id)\u001b[0m\n\u001b[1;32m    127\u001b[0m \u001b[38;5;28;01mif\u001b[39;00m \u001b[38;5;28mself\u001b[39m\u001b[38;5;241m.\u001b[39mdata \u001b[38;5;129;01mis\u001b[39;00m \u001b[38;5;129;01mnot\u001b[39;00m \u001b[38;5;28;01mNone\u001b[39;00m \u001b[38;5;129;01mand\u001b[39;00m \u001b[38;5;129;01mnot\u001b[39;00m \u001b[38;5;28misinstance\u001b[39m(\u001b[38;5;28mself\u001b[39m\u001b[38;5;241m.\u001b[39mdata, \u001b[38;5;28mbytes\u001b[39m):\n\u001b[1;32m    128\u001b[0m     \u001b[38;5;28;01mif\u001b[39;00m rate \u001b[38;5;129;01mis\u001b[39;00m \u001b[38;5;28;01mNone\u001b[39;00m:\n\u001b[0;32m--> 129\u001b[0m         \u001b[38;5;28;01mraise\u001b[39;00m \u001b[38;5;167;01mValueError\u001b[39;00m(\u001b[38;5;124m\"\u001b[39m\u001b[38;5;124mrate must be specified when data is a numpy array or list of audio samples.\u001b[39m\u001b[38;5;124m\"\u001b[39m)\n\u001b[1;32m    130\u001b[0m     \u001b[38;5;28mself\u001b[39m\u001b[38;5;241m.\u001b[39mdata \u001b[38;5;241m=\u001b[39m Audio\u001b[38;5;241m.\u001b[39m_make_wav(data, rate, normalize)\n",
      "\u001b[0;31mValueError\u001b[0m: rate must be specified when data is a numpy array or list of audio samples."
     ]
    }
   ],
   "source": [
    "display(Audio(\"recordedFile.wav\"))"
   ]
  },
  {
   "cell_type": "code",
   "execution_count": 1,
   "id": "b6e01008-0680-4a30-adcd-90744bb25b9e",
   "metadata": {},
   "outputs": [
    {
     "name": "stdout",
     "output_type": "stream",
     "text": [
      "   0 sof-hda-dsp: - (hw:0,0), ALSA (2 in, 2 out)\n",
      "   1 sof-hda-dsp: - (hw:0,4), ALSA (0 in, 2 out)\n",
      "   2 sof-hda-dsp: - (hw:0,5), ALSA (0 in, 2 out)\n",
      "   3 sof-hda-dsp: - (hw:0,6), ALSA (2 in, 0 out)\n",
      "   4 sof-hda-dsp: - (hw:0,7), ALSA (2 in, 0 out)\n",
      "   5 Jabra EVOLVE LINK MS: USB Audio (hw:1,0), ALSA (0 in, 2 out)\n",
      "   6 sysdefault, ALSA (128 in, 128 out)\n",
      "   7 samplerate, ALSA (128 in, 128 out)\n",
      "   8 speexrate, ALSA (128 in, 128 out)\n",
      "   9 jack, ALSA (2 in, 2 out)\n",
      "  10 pipewire, ALSA (64 in, 64 out)\n",
      "  11 pulse, ALSA (32 in, 32 out)\n",
      "  12 upmix, ALSA (8 in, 8 out)\n",
      "  13 vdownmix, ALSA (6 in, 6 out)\n",
      "  14 dmix, ALSA (0 in, 2 out)\n",
      "* 15 default, ALSA (32 in, 32 out)\n",
      "  16 Jabra EVOLVE Link MS Mono, JACK Audio Connection Kit (1 in, 0 out)\n",
      "  17 sof-hda-dsp Headset Mono Microphone + Headphones Stereo Microphone, JACK Audio Connection Kit (0 in, 0 out)\n",
      "  18 sof-hda-dsp Digital Microphone, JACK Audio Connection Kit (2 in, 0 out)\n",
      "  19 sof-hda-dsp HDMI / DisplayPort 1 Output, JACK Audio Connection Kit (2 in, 2 out)\n",
      "  20 Jabra EVOLVE Link MS Analog Stereo, JACK Audio Connection Kit (2 in, 2 out)\n",
      "  21 sof-hda-dsp Speaker + Headphones, JACK Audio Connection Kit (0 in, 0 out)\n",
      "  22 sof-hda-dsp HDMI / DisplayPort 2 Output, JACK Audio Connection Kit (2 in, 2 out)\n",
      "  23 sof-hda-dsp HDMI / DisplayPort 3 Output, JACK Audio Connection Kit (2 in, 2 out)\n",
      "  24 GNOME Settings, JACK Audio Connection Kit (3 in, 3 out)\n"
     ]
    }
   ],
   "source": [
    "import sounddevice as sd\n",
    "print (sd.query_devices() )"
   ]
  },
  {
   "cell_type": "code",
   "execution_count": 5,
   "id": "5beba057-82aa-4350-8c54-8fa31eedaeb5",
   "metadata": {},
   "outputs": [
    {
     "name": "stdout",
     "output_type": "stream",
     "text": [
      "Microphone with name \"sof-hda-dsp: - (hw:0,0)\" found for microphone(device_index0)\n",
      "Microphone with name \"sof-hda-dsp: - (hw:0,4)\" found for microphone(device_index1)\n",
      "Microphone with name \"sof-hda-dsp: - (hw:0,5)\" found for microphone(device_index2)\n",
      "Microphone with name \"sof-hda-dsp: - (hw:0,6)\" found for microphone(device_index3)\n",
      "Microphone with name \"sof-hda-dsp: - (hw:0,7)\" found for microphone(device_index4)\n",
      "Microphone with name \"Jabra EVOLVE LINK MS: USB Audio (hw:1,0)\" found for microphone(device_index5)\n",
      "Microphone with name \"sysdefault\" found for microphone(device_index6)\n",
      "Microphone with name \"samplerate\" found for microphone(device_index7)\n",
      "Microphone with name \"speexrate\" found for microphone(device_index8)\n",
      "Microphone with name \"jack\" found for microphone(device_index9)\n",
      "Microphone with name \"pipewire\" found for microphone(device_index10)\n",
      "Microphone with name \"pulse\" found for microphone(device_index11)\n",
      "Microphone with name \"upmix\" found for microphone(device_index12)\n",
      "Microphone with name \"vdownmix\" found for microphone(device_index13)\n",
      "Microphone with name \"dmix\" found for microphone(device_index14)\n",
      "Microphone with name \"default\" found for microphone(device_index15)\n",
      "Microphone with name \"Jabra EVOLVE Link MS Mono\" found for microphone(device_index16)\n",
      "Microphone with name \"sof-hda-dsp Headset Mono Microphone + Headphones Stereo Microphone\" found for microphone(device_index17)\n",
      "Microphone with name \"sof-hda-dsp Digital Microphone\" found for microphone(device_index18)\n",
      "Microphone with name \"sof-hda-dsp HDMI / DisplayPort 1 Output\" found for microphone(device_index19)\n",
      "Microphone with name \"Jabra EVOLVE Link MS Analog Stereo\" found for microphone(device_index20)\n",
      "Microphone with name \"sof-hda-dsp Speaker + Headphones\" found for microphone(device_index21)\n",
      "Microphone with name \"sof-hda-dsp HDMI / DisplayPort 2 Output\" found for microphone(device_index22)\n",
      "Microphone with name \"sof-hda-dsp HDMI / DisplayPort 3 Output\" found for microphone(device_index23)\n",
      "Microphone with name \"GNOME Settings\" found for microphone(device_index24)\n"
     ]
    }
   ],
   "source": [
    "import speech_recognition as sr\n",
    "for index, name in enumerate(sr.Microphone.list_microphone_names()):\n",
    "    print(\"Microphone with name \\\"{1}\\\" found for microphone(device_index{0})\".format(index, name))"
   ]
  },
  {
   "cell_type": "code",
   "execution_count": null,
   "id": "91e32870-f77c-4680-b964-1e67bf8a1c5b",
   "metadata": {},
   "outputs": [],
   "source": [
    "Input Device id  0  -  sof-hda-dsp: - (hw:0,0)\n",
    "Input Device id  3  -  sof-hda-dsp: - (hw:0,7)\n",
    "Input Device id  4  -  sysdefault\n",
    "Input Device id  5  -  samplerate\n",
    "Input Device id  6  -  speexrate\n",
    "Input Device id  7  -  jack\n",
    "Input Device id  8  -  pipewire\n",
    "Input Device id  9  -  pulse\n",
    "Input Device id  10  -  upmix\n",
    "Input Device id  11  -  vdownmix\n",
    "Input Device id  13  -  default\n",
    "-------------------------------------------------------------"
   ]
  }
 ],
 "metadata": {
  "kernelspec": {
   "display_name": "Python 3 (ipykernel)",
   "language": "python",
   "name": "python3"
  },
  "language_info": {
   "codemirror_mode": {
    "name": "ipython",
    "version": 3
   },
   "file_extension": ".py",
   "mimetype": "text/x-python",
   "name": "python",
   "nbconvert_exporter": "python",
   "pygments_lexer": "ipython3",
   "version": "3.10.12"
  }
 },
 "nbformat": 4,
 "nbformat_minor": 5
}
