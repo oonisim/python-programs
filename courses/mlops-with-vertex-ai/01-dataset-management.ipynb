{
 "cells": [
  {
   "cell_type": "markdown",
   "id": "e8ba7f4f",
   "metadata": {},
   "source": [
    "# 01 - Data Analysis and Preparation\n",
    "\n",
    "This notebook covers the following tasks:\n",
    "\n",
    "1. Perform exploratory data analysis and visualization.\n",
    "2. Prepare the data for the ML task in BigQuery.\n",
    "3. Generate and fix a ` TFDV schema` for the source data.\n",
    "4. Create a `Vertex Dataset resource` dataset.\n"
   ]
  },
  {
   "cell_type": "markdown",
   "id": "b481a247",
   "metadata": {},
   "source": [
    "## Dataset\n",
    "\n",
    "The [Chicago Taxi Trips](https://pantheon.corp.google.com/marketplace/details/city-of-chicago-public-data/chicago-taxi-trips) dataset is one of [public datasets hosted with BigQuery](https://cloud.google.com/bigquery/public-data/), which includes taxi trips from 2013 to the present, reported to the City of Chicago in its role as a regulatory agency. The `taxi_trips` table size is 70.72 GB and includes more than 195 million records. The dataset includes information about the trips, like pickup and dropoff datetime and location, passengers count, miles travelled, and trip toll. \n",
    "\n",
    "The ML task is to predict whether a given trip will result in a tip > 20%."
   ]
  },
  {
   "cell_type": "markdown",
   "id": "4fedd0ac",
   "metadata": {},
   "source": [
    "## Setup"
   ]
  },
  {
   "cell_type": "markdown",
   "id": "b25967c9",
   "metadata": {},
   "source": [
    "### Import libraries"
   ]
  },
  {
   "cell_type": "code",
   "execution_count": 1,
   "id": "fa2cf3f1",
   "metadata": {},
   "outputs": [],
   "source": [
    "import os\n",
    "import pandas as pd\n",
    "import tensorflow as tf\n",
    "import tensorflow_data_validation as tfdv\n",
    "from google.cloud import bigquery\n",
    "import matplotlib.pyplot as plt\n",
    "\n",
    "from google.cloud import aiplatform as vertex_ai"
   ]
  },
  {
   "cell_type": "markdown",
   "id": "9bd0ee37",
   "metadata": {},
   "source": [
    "### Setup Google Cloud project"
   ]
  },
  {
   "cell_type": "code",
   "execution_count": 2,
   "id": "c7e4712e",
   "metadata": {},
   "outputs": [
    {
     "name": "stdout",
     "output_type": "stream",
     "text": [
      "Project ID: gcp-egl-ml-platform-dev\n",
      "Region: us-central1\n"
     ]
    }
   ],
   "source": [
    "PROJECT = '[your-project-id]' # Change to your project id.\n",
    "REGION = 'us-central1' # Change to your region.\n",
    "\n",
    "if PROJECT == \"\" or PROJECT is None or PROJECT == \"[your-project-id]\":\n",
    "    # Get your GCP project id from gcloud\n",
    "    shell_output = !gcloud config list --format 'value(core.project)' 2>/dev/null\n",
    "    PROJECT = shell_output[0]\n",
    "    \n",
    "print(\"Project ID:\", PROJECT)\n",
    "print(\"Region:\", REGION)"
   ]
  },
  {
   "cell_type": "markdown",
   "id": "384a817b",
   "metadata": {},
   "source": [
    "### Set configurations"
   ]
  },
  {
   "cell_type": "code",
   "execution_count": 3,
   "id": "b71d0738",
   "metadata": {},
   "outputs": [],
   "source": [
    "BQ_DATASET_NAME = 'public_dataset' # Change to your BQ dataset name.\n",
    "BQ_TABLE_NAME = 'chicago_taxitrips_prep'\n",
    "BQ_LOCATION = 'US'\n",
    "\n",
    "DATASET_DISPLAY_NAME = 'chicago-taxi-tips'\n",
    "\n",
    "RAW_SCHEMA_DIR = 'src/raw_schema'"
   ]
  },
  {
   "cell_type": "markdown",
   "id": "39395512",
   "metadata": {},
   "source": [
    "## 1. Explore the data in BigQuery"
   ]
  },
  {
   "cell_type": "code",
   "execution_count": 4,
   "id": "9e4300d3",
   "metadata": {},
   "outputs": [
    {
     "name": "stderr",
     "output_type": "stream",
     "text": [
      "Query complete after 0.00s: 100%|██████████| 3/3 [00:00<00:00, 1806.59query/s]                        \n",
      "Downloading: 100%|██████████| 7/7 [00:02<00:00,  2.50rows/s]\n"
     ]
    }
   ],
   "source": [
    "%%bigquery data\n",
    "\n",
    "SELECT \n",
    "    CAST(EXTRACT(DAYOFWEEK FROM trip_start_timestamp) AS string) AS trip_dayofweek, \n",
    "    FORMAT_DATE('%A',cast(trip_start_timestamp as date)) AS trip_dayname,\n",
    "    COUNT(*) as trip_count,\n",
    "FROM `bigquery-public-data.chicago_taxi_trips.taxi_trips`\n",
    "WHERE\n",
    "    EXTRACT(YEAR FROM trip_start_timestamp) = 2015 \n",
    "GROUP BY\n",
    "    trip_dayofweek,\n",
    "    trip_dayname\n",
    "ORDER BY\n",
    "    trip_dayofweek\n",
    ";"
   ]
  },
  {
   "cell_type": "code",
   "execution_count": 5,
   "id": "699804c5",
   "metadata": {},
   "outputs": [
    {
     "data": {
      "text/html": [
       "<div>\n",
       "<style scoped>\n",
       "    .dataframe tbody tr th:only-of-type {\n",
       "        vertical-align: middle;\n",
       "    }\n",
       "\n",
       "    .dataframe tbody tr th {\n",
       "        vertical-align: top;\n",
       "    }\n",
       "\n",
       "    .dataframe thead th {\n",
       "        text-align: right;\n",
       "    }\n",
       "</style>\n",
       "<table border=\"1\" class=\"dataframe\">\n",
       "  <thead>\n",
       "    <tr style=\"text-align: right;\">\n",
       "      <th></th>\n",
       "      <th>trip_dayofweek</th>\n",
       "      <th>trip_dayname</th>\n",
       "      <th>trip_count</th>\n",
       "    </tr>\n",
       "  </thead>\n",
       "  <tbody>\n",
       "    <tr>\n",
       "      <th>0</th>\n",
       "      <td>1</td>\n",
       "      <td>Sunday</td>\n",
       "      <td>4141154</td>\n",
       "    </tr>\n",
       "    <tr>\n",
       "      <th>1</th>\n",
       "      <td>2</td>\n",
       "      <td>Monday</td>\n",
       "      <td>4105900</td>\n",
       "    </tr>\n",
       "    <tr>\n",
       "      <th>2</th>\n",
       "      <td>3</td>\n",
       "      <td>Tuesday</td>\n",
       "      <td>4378805</td>\n",
       "    </tr>\n",
       "    <tr>\n",
       "      <th>3</th>\n",
       "      <td>4</td>\n",
       "      <td>Wednesday</td>\n",
       "      <td>4542810</td>\n",
       "    </tr>\n",
       "    <tr>\n",
       "      <th>4</th>\n",
       "      <td>5</td>\n",
       "      <td>Thursday</td>\n",
       "      <td>4918190</td>\n",
       "    </tr>\n",
       "    <tr>\n",
       "      <th>5</th>\n",
       "      <td>6</td>\n",
       "      <td>Friday</td>\n",
       "      <td>5289830</td>\n",
       "    </tr>\n",
       "    <tr>\n",
       "      <th>6</th>\n",
       "      <td>7</td>\n",
       "      <td>Saturday</td>\n",
       "      <td>5009186</td>\n",
       "    </tr>\n",
       "  </tbody>\n",
       "</table>\n",
       "</div>"
      ],
      "text/plain": [
       "  trip_dayofweek trip_dayname  trip_count\n",
       "0              1       Sunday     4141154\n",
       "1              2       Monday     4105900\n",
       "2              3      Tuesday     4378805\n",
       "3              4    Wednesday     4542810\n",
       "4              5     Thursday     4918190\n",
       "5              6       Friday     5289830\n",
       "6              7     Saturday     5009186"
      ]
     },
     "execution_count": 5,
     "metadata": {},
     "output_type": "execute_result"
    }
   ],
   "source": [
    "data"
   ]
  },
  {
   "cell_type": "code",
   "execution_count": 6,
   "id": "a7f2447e",
   "metadata": {},
   "outputs": [
    {
     "data": {
      "text/plain": [
       "<AxesSubplot:xlabel='trip_dayname'>"
      ]
     },
     "execution_count": 6,
     "metadata": {},
     "output_type": "execute_result"
    },
    {
     "data": {
      "image/png": "[encoded data removed]",
      "text/plain": [
       "<Figure size 432x288 with 1 Axes>"
      ]
     },
     "metadata": {
      "needs_background": "light"
     },
     "output_type": "display_data"
    }
   ],
   "source": [
    "data.plot(kind='bar', x='trip_dayname', y='trip_count')"
   ]
  },
  {
   "cell_type": "markdown",
   "id": "a7782c69",
   "metadata": {},
   "source": [
    "## 2. Create data for the ML task\n",
    "\n",
    "We add a `ML_use` column for pre-splitting the data, where 80% of the datsa items are set to `UNASSIGNED` while the other 20% is set to `TEST`.\n",
    "\n",
    "This column is used during training to split the dataset for training and test.\n",
    "\n",
    "In the training phase, the `UNASSIGNED` are split into `train` and `eval`. The `TEST` split is will be used for the final model validation."
   ]
  },
  {
   "cell_type": "markdown",
   "id": "7987d132",
   "metadata": {},
   "source": [
    "### Create destination BigQuery dataset"
   ]
  },
  {
   "cell_type": "code",
   "execution_count": 7,
   "id": "56a7f6d6",
   "metadata": {},
   "outputs": [
    {
     "name": "stdout",
     "output_type": "stream",
     "text": [
      "Dataset 'gcp-egl-ml-platform-dev:public_dataset' successfully created.\n"
     ]
    }
   ],
   "source": [
    "!bq --location=US mk -d \\\n",
    "$PROJECT:$BQ_DATASET_NAME"
   ]
  },
  {
   "cell_type": "code",
   "execution_count": 8,
   "id": "832f99ba",
   "metadata": {},
   "outputs": [],
   "source": [
    "sample_size = 1000000\n",
    "year = 2020"
   ]
  },
  {
   "cell_type": "code",
   "execution_count": 9,
   "id": "1b19789f",
   "metadata": {},
   "outputs": [],
   "source": [
    "sql_script = '''\n",
    "CREATE OR REPLACE TABLE `@PROJECT.@DATASET.@TABLE` \n",
    "AS (\n",
    "    WITH\n",
    "      taxitrips AS (\n",
    "      SELECT\n",
    "        trip_start_timestamp,\n",
    "        trip_seconds,\n",
    "        trip_miles,\n",
    "        payment_type,\n",
    "        pickup_longitude,\n",
    "        pickup_latitude,\n",
    "        dropoff_longitude,\n",
    "        dropoff_latitude,\n",
    "        tips,\n",
    "        fare\n",
    "      FROM\n",
    "        `bigquery-public-data.chicago_taxi_trips.taxi_trips`\n",
    "      WHERE 1=1 \n",
    "      AND pickup_longitude IS NOT NULL\n",
    "      AND pickup_latitude IS NOT NULL\n",
    "      AND dropoff_longitude IS NOT NULL\n",
    "      AND dropoff_latitude IS NOT NULL\n",
    "      AND trip_miles > 0\n",
    "      AND trip_seconds > 0\n",
    "      AND fare > 0\n",
    "      AND EXTRACT(YEAR FROM trip_start_timestamp) = @YEAR\n",
    "    )\n",
    "\n",
    "    SELECT\n",
    "      trip_start_timestamp,\n",
    "      EXTRACT(MONTH from trip_start_timestamp) as trip_month,\n",
    "      EXTRACT(DAY from trip_start_timestamp) as trip_day,\n",
    "      EXTRACT(DAYOFWEEK from trip_start_timestamp) as trip_day_of_week,\n",
    "      EXTRACT(HOUR from trip_start_timestamp) as trip_hour,\n",
    "      trip_seconds,\n",
    "      trip_miles,\n",
    "      payment_type,\n",
    "      ST_AsText(\n",
    "          ST_SnapToGrid(ST_GeogPoint(pickup_longitude, pickup_latitude), 0.1)\n",
    "      ) AS pickup_grid,\n",
    "      ST_AsText(\n",
    "          ST_SnapToGrid(ST_GeogPoint(dropoff_longitude, dropoff_latitude), 0.1)\n",
    "      ) AS dropoff_grid,\n",
    "      ST_Distance(\n",
    "          ST_GeogPoint(pickup_longitude, pickup_latitude), \n",
    "          ST_GeogPoint(dropoff_longitude, dropoff_latitude)\n",
    "      ) AS euclidean,\n",
    "      CONCAT(\n",
    "          ST_AsText(ST_SnapToGrid(ST_GeogPoint(pickup_longitude,\n",
    "              pickup_latitude), 0.1)), \n",
    "          ST_AsText(ST_SnapToGrid(ST_GeogPoint(dropoff_longitude,\n",
    "              dropoff_latitude), 0.1))\n",
    "      ) AS loc_cross,\n",
    "      IF((tips/fare >= 0.2), 1, 0) AS tip_bin,\n",
    "      IF(RAND() <= 0.8, 'UNASSIGNED', 'TEST') AS ML_use\n",
    "    FROM\n",
    "      taxitrips\n",
    "    LIMIT @LIMIT\n",
    ")\n",
    "'''"
   ]
  },
  {
   "cell_type": "code",
   "execution_count": 10,
   "id": "6f1d2837",
   "metadata": {},
   "outputs": [],
   "source": [
    "sql_script = sql_script.replace(\n",
    "    '@PROJECT', PROJECT).replace(\n",
    "    '@DATASET', BQ_DATASET_NAME).replace(\n",
    "    '@TABLE', BQ_TABLE_NAME).replace(\n",
    "    '@YEAR', str(year)).replace(\n",
    "    '@LIMIT', str(sample_size))"
   ]
  },
  {
   "cell_type": "code",
   "execution_count": 11,
   "id": "27acb6b5",
   "metadata": {},
   "outputs": [
    {
     "name": "stdout",
     "output_type": "stream",
     "text": [
      "\n",
      "CREATE OR REPLACE TABLE `gcp-egl-ml-platform-dev.public_dataset.chicago_taxitrips_prep` \n",
      "AS (\n",
      "    WITH\n",
      "      taxitrips AS (\n",
      "      SELECT\n",
      "        trip_start_timestamp,\n",
      "        trip_seconds,\n",
      "        trip_miles,\n",
      "        payment_type,\n",
      "        pickup_longitude,\n",
      "        pickup_latitude,\n",
      "        dropoff_longitude,\n",
      "        dropoff_latitude,\n",
      "        tips,\n",
      "        fare\n",
      "      FROM\n",
      "        `bigquery-public-data.chicago_taxi_trips.taxi_trips`\n",
      "      WHERE 1=1 \n",
      "      AND pickup_longitude IS NOT NULL\n",
      "      AND pickup_latitude IS NOT NULL\n",
      "      AND dropoff_longitude IS NOT NULL\n",
      "      AND dropoff_latitude IS NOT NULL\n",
      "      AND trip_miles > 0\n",
      "      AND trip_seconds > 0\n",
      "      AND fare > 0\n",
      "      AND EXTRACT(YEAR FROM trip_start_timestamp) = 2020\n",
      "    )\n",
      "\n",
      "    SELECT\n",
      "      trip_start_timestamp,\n",
      "      EXTRACT(MONTH from trip_start_timestamp) as trip_month,\n",
      "      EXTRACT(DAY from trip_start_timestamp) as trip_day,\n",
      "      EXTRACT(DAYOFWEEK from trip_start_timestamp) as trip_day_of_week,\n",
      "      EXTRACT(HOUR from trip_start_timestamp) as trip_hour,\n",
      "      trip_seconds,\n",
      "      trip_miles,\n",
      "      payment_type,\n",
      "      ST_AsText(\n",
      "          ST_SnapToGrid(ST_GeogPoint(pickup_longitude, pickup_latitude), 0.1)\n",
      "      ) AS pickup_grid,\n",
      "      ST_AsText(\n",
      "          ST_SnapToGrid(ST_GeogPoint(dropoff_longitude, dropoff_latitude), 0.1)\n",
      "      ) AS dropoff_grid,\n",
      "      ST_Distance(\n",
      "          ST_GeogPoint(pickup_longitude, pickup_latitude), \n",
      "          ST_GeogPoint(dropoff_longitude, dropoff_latitude)\n",
      "      ) AS euclidean,\n",
      "      CONCAT(\n",
      "          ST_AsText(ST_SnapToGrid(ST_GeogPoint(pickup_longitude,\n",
      "              pickup_latitude), 0.1)), \n",
      "          ST_AsText(ST_SnapToGrid(ST_GeogPoint(dropoff_longitude,\n",
      "              dropoff_latitude), 0.1))\n",
      "      ) AS loc_cross,\n",
      "      IF((tips/fare >= 0.2), 1, 0) AS tip_bin,\n",
      "      IF(RAND() <= 0.8, 'UNASSIGNED', 'TEST') AS ML_use\n",
      "    FROM\n",
      "      taxitrips\n",
      "    LIMIT 1000000\n",
      ")\n",
      "\n"
     ]
    }
   ],
   "source": [
    "print(sql_script)"
   ]
  },
  {
   "cell_type": "code",
   "execution_count": 12,
   "id": "88f31e8c",
   "metadata": {},
   "outputs": [],
   "source": [
    "bq_client = bigquery.Client(project=PROJECT, location=BQ_LOCATION)\n",
    "job = bq_client.query(sql_script)\n",
    "_ = job.result()"
   ]
  },
  {
   "cell_type": "code",
   "execution_count": 13,
   "id": "b32eea6f",
   "metadata": {},
   "outputs": [
    {
     "name": "stderr",
     "output_type": "stream",
     "text": [
      "Query complete after 0.00s: 100%|██████████| 2/2 [00:00<00:00, 1469.11query/s]                        \n",
      "Downloading: 100%|██████████| 2/2 [00:02<00:00,  1.10s/rows]\n"
     ]
    },
    {
     "data": {
      "text/html": [
       "<div>\n",
       "<style scoped>\n",
       "    .dataframe tbody tr th:only-of-type {\n",
       "        vertical-align: middle;\n",
       "    }\n",
       "\n",
       "    .dataframe tbody tr th {\n",
       "        vertical-align: top;\n",
       "    }\n",
       "\n",
       "    .dataframe thead th {\n",
       "        text-align: right;\n",
       "    }\n",
       "</style>\n",
       "<table border=\"1\" class=\"dataframe\">\n",
       "  <thead>\n",
       "    <tr style=\"text-align: right;\">\n",
       "      <th></th>\n",
       "      <th>ML_use</th>\n",
       "      <th>f0_</th>\n",
       "    </tr>\n",
       "  </thead>\n",
       "  <tbody>\n",
       "    <tr>\n",
       "      <th>0</th>\n",
       "      <td>UNASSIGNED</td>\n",
       "      <td>799672</td>\n",
       "    </tr>\n",
       "    <tr>\n",
       "      <th>1</th>\n",
       "      <td>TEST</td>\n",
       "      <td>200328</td>\n",
       "    </tr>\n",
       "  </tbody>\n",
       "</table>\n",
       "</div>"
      ],
      "text/plain": [
       "       ML_use     f0_\n",
       "0  UNASSIGNED  799672\n",
       "1        TEST  200328"
      ]
     },
     "execution_count": 13,
     "metadata": {},
     "output_type": "execute_result"
    }
   ],
   "source": [
    "%%bigquery --project {PROJECT}\n",
    "\n",
    "SELECT ML_use, COUNT(*)\n",
    "FROM public_dataset.chicago_taxitrips_prep # Change to your BQ dataset and table names.\n",
    "GROUP BY ML_use"
   ]
  },
  {
   "cell_type": "markdown",
   "id": "7fcc75fc",
   "metadata": {},
   "source": [
    "### Load a sample data to a Pandas DataFrame"
   ]
  },
  {
   "cell_type": "code",
   "execution_count": 14,
   "id": "f252a846",
   "metadata": {},
   "outputs": [
    {
     "name": "stderr",
     "output_type": "stream",
     "text": [
      "Query complete after 0.00s: 100%|██████████| 2/2 [00:00<00:00, 1596.31query/s]                        \n",
      "Downloading: 100%|██████████| 1000000/1000000 [00:04<00:00, 245555.37rows/s]\n"
     ]
    }
   ],
   "source": [
    "%%bigquery sample_data --project {PROJECT}\n",
    "\n",
    "SELECT * EXCEPT (trip_start_timestamp, ML_use)\n",
    "FROM public_dataset.chicago_taxitrips_prep # Change to your BQ dataset and table names."
   ]
  },
  {
   "cell_type": "code",
   "execution_count": 15,
   "id": "798809d2",
   "metadata": {},
   "outputs": [
    {
     "data": {
      "text/html": [
       "<div>\n",
       "<style scoped>\n",
       "    .dataframe tbody tr th:only-of-type {\n",
       "        vertical-align: middle;\n",
       "    }\n",
       "\n",
       "    .dataframe tbody tr th {\n",
       "        vertical-align: top;\n",
       "    }\n",
       "\n",
       "    .dataframe thead th {\n",
       "        text-align: right;\n",
       "    }\n",
       "</style>\n",
       "<table border=\"1\" class=\"dataframe\">\n",
       "  <thead>\n",
       "    <tr style=\"text-align: right;\">\n",
       "      <th></th>\n",
       "      <th>0</th>\n",
       "      <th>1</th>\n",
       "      <th>2</th>\n",
       "      <th>3</th>\n",
       "      <th>4</th>\n",
       "    </tr>\n",
       "  </thead>\n",
       "  <tbody>\n",
       "    <tr>\n",
       "      <th>trip_month</th>\n",
       "      <td>2</td>\n",
       "      <td>2</td>\n",
       "      <td>11</td>\n",
       "      <td>2</td>\n",
       "      <td>2</td>\n",
       "    </tr>\n",
       "    <tr>\n",
       "      <th>trip_day</th>\n",
       "      <td>10</td>\n",
       "      <td>10</td>\n",
       "      <td>19</td>\n",
       "      <td>7</td>\n",
       "      <td>14</td>\n",
       "    </tr>\n",
       "    <tr>\n",
       "      <th>trip_day_of_week</th>\n",
       "      <td>2</td>\n",
       "      <td>2</td>\n",
       "      <td>5</td>\n",
       "      <td>6</td>\n",
       "      <td>6</td>\n",
       "    </tr>\n",
       "    <tr>\n",
       "      <th>trip_hour</th>\n",
       "      <td>17</td>\n",
       "      <td>17</td>\n",
       "      <td>9</td>\n",
       "      <td>11</td>\n",
       "      <td>10</td>\n",
       "    </tr>\n",
       "    <tr>\n",
       "      <th>trip_seconds</th>\n",
       "      <td>1093</td>\n",
       "      <td>621</td>\n",
       "      <td>282</td>\n",
       "      <td>229</td>\n",
       "      <td>120</td>\n",
       "    </tr>\n",
       "    <tr>\n",
       "      <th>trip_miles</th>\n",
       "      <td>0.75</td>\n",
       "      <td>1.1</td>\n",
       "      <td>0.83</td>\n",
       "      <td>0.49</td>\n",
       "      <td>0.4</td>\n",
       "    </tr>\n",
       "    <tr>\n",
       "      <th>payment_type</th>\n",
       "      <td>Cash</td>\n",
       "      <td>Credit Card</td>\n",
       "      <td>Cash</td>\n",
       "      <td>Cash</td>\n",
       "      <td>Credit Card</td>\n",
       "    </tr>\n",
       "    <tr>\n",
       "      <th>pickup_grid</th>\n",
       "      <td>POINT(-87.6 42)</td>\n",
       "      <td>POINT(-87.6 42)</td>\n",
       "      <td>POINT(-87.6 42)</td>\n",
       "      <td>POINT(-87.6 42)</td>\n",
       "      <td>POINT(-87.6 42)</td>\n",
       "    </tr>\n",
       "    <tr>\n",
       "      <th>dropoff_grid</th>\n",
       "      <td>POINT(-87.6 42)</td>\n",
       "      <td>POINT(-87.6 42)</td>\n",
       "      <td>POINT(-87.6 42)</td>\n",
       "      <td>POINT(-87.6 42)</td>\n",
       "      <td>POINT(-87.6 42)</td>\n",
       "    </tr>\n",
       "    <tr>\n",
       "      <th>euclidean</th>\n",
       "      <td>0.0</td>\n",
       "      <td>0.0</td>\n",
       "      <td>0.0</td>\n",
       "      <td>0.0</td>\n",
       "      <td>0.0</td>\n",
       "    </tr>\n",
       "    <tr>\n",
       "      <th>loc_cross</th>\n",
       "      <td>POINT(-87.6 42)POINT(-87.6 42)</td>\n",
       "      <td>POINT(-87.6 42)POINT(-87.6 42)</td>\n",
       "      <td>POINT(-87.6 42)POINT(-87.6 42)</td>\n",
       "      <td>POINT(-87.6 42)POINT(-87.6 42)</td>\n",
       "      <td>POINT(-87.6 42)POINT(-87.6 42)</td>\n",
       "    </tr>\n",
       "    <tr>\n",
       "      <th>tip_bin</th>\n",
       "      <td>0</td>\n",
       "      <td>1</td>\n",
       "      <td>0</td>\n",
       "      <td>0</td>\n",
       "      <td>0</td>\n",
       "    </tr>\n",
       "  </tbody>\n",
       "</table>\n",
       "</div>"
      ],
      "text/plain": [
       "                                               0  \\\n",
       "trip_month                                     2   \n",
       "trip_day                                      10   \n",
       "trip_day_of_week                               2   \n",
       "trip_hour                                     17   \n",
       "trip_seconds                                1093   \n",
       "trip_miles                                  0.75   \n",
       "payment_type                                Cash   \n",
       "pickup_grid                      POINT(-87.6 42)   \n",
       "dropoff_grid                     POINT(-87.6 42)   \n",
       "euclidean                                    0.0   \n",
       "loc_cross         POINT(-87.6 42)POINT(-87.6 42)   \n",
       "tip_bin                                        0   \n",
       "\n",
       "                                               1  \\\n",
       "trip_month                                     2   \n",
       "trip_day                                      10   \n",
       "trip_day_of_week                               2   \n",
       "trip_hour                                     17   \n",
       "trip_seconds                                 621   \n",
       "trip_miles                                   1.1   \n",
       "payment_type                         Credit Card   \n",
       "pickup_grid                      POINT(-87.6 42)   \n",
       "dropoff_grid                     POINT(-87.6 42)   \n",
       "euclidean                                    0.0   \n",
       "loc_cross         POINT(-87.6 42)POINT(-87.6 42)   \n",
       "tip_bin                                        1   \n",
       "\n",
       "                                               2  \\\n",
       "trip_month                                    11   \n",
       "trip_day                                      19   \n",
       "trip_day_of_week                               5   \n",
       "trip_hour                                      9   \n",
       "trip_seconds                                 282   \n",
       "trip_miles                                  0.83   \n",
       "payment_type                                Cash   \n",
       "pickup_grid                      POINT(-87.6 42)   \n",
       "dropoff_grid                     POINT(-87.6 42)   \n",
       "euclidean                                    0.0   \n",
       "loc_cross         POINT(-87.6 42)POINT(-87.6 42)   \n",
       "tip_bin                                        0   \n",
       "\n",
       "                                               3  \\\n",
       "trip_month                                     2   \n",
       "trip_day                                       7   \n",
       "trip_day_of_week                               6   \n",
       "trip_hour                                     11   \n",
       "trip_seconds                                 229   \n",
       "trip_miles                                  0.49   \n",
       "payment_type                                Cash   \n",
       "pickup_grid                      POINT(-87.6 42)   \n",
       "dropoff_grid                     POINT(-87.6 42)   \n",
       "euclidean                                    0.0   \n",
       "loc_cross         POINT(-87.6 42)POINT(-87.6 42)   \n",
       "tip_bin                                        0   \n",
       "\n",
       "                                               4  \n",
       "trip_month                                     2  \n",
       "trip_day                                      14  \n",
       "trip_day_of_week                               6  \n",
       "trip_hour                                     10  \n",
       "trip_seconds                                 120  \n",
       "trip_miles                                   0.4  \n",
       "payment_type                         Credit Card  \n",
       "pickup_grid                      POINT(-87.6 42)  \n",
       "dropoff_grid                     POINT(-87.6 42)  \n",
       "euclidean                                    0.0  \n",
       "loc_cross         POINT(-87.6 42)POINT(-87.6 42)  \n",
       "tip_bin                                        0  "
      ]
     },
     "execution_count": 15,
     "metadata": {},
     "output_type": "execute_result"
    }
   ],
   "source": [
    "sample_data.head().T"
   ]
  },
  {
   "cell_type": "code",
   "execution_count": 16,
   "id": "23595838",
   "metadata": {},
   "outputs": [
    {
     "data": {
      "text/plain": [
       "0    629150\n",
       "1    370850\n",
       "Name: tip_bin, dtype: int64"
      ]
     },
     "execution_count": 16,
     "metadata": {},
     "output_type": "execute_result"
    }
   ],
   "source": [
    "sample_data.tip_bin.value_counts()"
   ]
  },
  {
   "cell_type": "code",
   "execution_count": 17,
   "id": "3d06bb64",
   "metadata": {},
   "outputs": [
    {
     "data": {
      "text/plain": [
       "<AxesSubplot:>"
      ]
     },
     "execution_count": 17,
     "metadata": {},
     "output_type": "execute_result"
    },
    {
     "data": {
      "image/png": "[encoded data removed]",
      "text/plain": [
       "<Figure size 432x288 with 1 Axes>"
      ]
     },
     "metadata": {
      "needs_background": "light"
     },
     "output_type": "display_data"
    }
   ],
   "source": [
    "sample_data.euclidean.hist()"
   ]
  },
  {
   "cell_type": "markdown",
   "id": "10aae180",
   "metadata": {},
   "source": [
    "## 3. Generate raw data schema\n",
    "\n",
    "The [TensorFlow Data Validation (TFDV)](https://www.tensorflow.org/tfx/data_validation/get_started) data schema will be used in:\n",
    "1. Identify the raw data types and shapes in the data transformation.\n",
    "2. Create the serving input signature for the custom model.\n",
    "3. Validate the new raw training data in the TFX pipeline."
   ]
  },
  {
   "cell_type": "code",
   "execution_count": 18,
   "id": "4087d5fa",
   "metadata": {},
   "outputs": [],
   "source": [
    "stats = tfdv.generate_statistics_from_dataframe(\n",
    "    dataframe=sample_data,\n",
    "    stats_options=tfdv.StatsOptions(\n",
    "        label_feature='tip_bin',\n",
    "        weight_feature=None,\n",
    "        sample_rate=1,\n",
    "        num_top_values=50\n",
    "    )\n",
    ")"
   ]
  },
  {
   "cell_type": "code",
   "execution_count": 19,
   "id": "091fbd77",
   "metadata": {},
   "outputs": [
    {
     "data": {
      "text/html": [
       "<iframe id='facets-iframe' width=\"100%\" height=\"500px\"></iframe>\n",
       "        <script>\n",
       "        facets_iframe = document.getElementById('facets-iframe');\n",
       "        facets_html = '<script src=\"https://cdnjs.cloudflare.com/ajax/libs/webcomponentsjs/1.3.3/webcomponents-lite.js\"><\\/script><link rel=\"import\" href=\"https://raw.githubusercontent.com/PAIR-code/facets/master/facets-dist/facets-jupyter.html\"><facets-overview proto-input=\"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\"></facets-overview>';\n",
       "        facets_iframe.srcdoc = facets_html;\n",
       "         facets_iframe.id = \"\";\n",
       "         setTimeout(() => {\n",
       "           facets_iframe.setAttribute('height', facets_iframe.contentWindow.document.body.offsetHeight + 'px')\n",
       "         }, 1500)\n",
       "         </script>"
      ],
      "text/plain": [
       "<IPython.core.display.HTML object>"
      ]
     },
     "metadata": {},
     "output_type": "display_data"
    }
   ],
   "source": [
    "tfdv.visualize_statistics(stats)"
   ]
  },
  {
   "cell_type": "code",
   "execution_count": 20,
   "id": "d251e09b",
   "metadata": {},
   "outputs": [
    {
     "data": {
      "text/html": [
       "<div>\n",
       "<style scoped>\n",
       "    .dataframe tbody tr th:only-of-type {\n",
       "        vertical-align: middle;\n",
       "    }\n",
       "\n",
       "    .dataframe tbody tr th {\n",
       "        vertical-align: top;\n",
       "    }\n",
       "\n",
       "    .dataframe thead th {\n",
       "        text-align: right;\n",
       "    }\n",
       "</style>\n",
       "<table border=\"1\" class=\"dataframe\">\n",
       "  <thead>\n",
       "    <tr style=\"text-align: right;\">\n",
       "      <th></th>\n",
       "      <th>Type</th>\n",
       "      <th>Presence</th>\n",
       "      <th>Valency</th>\n",
       "      <th>Domain</th>\n",
       "    </tr>\n",
       "    <tr>\n",
       "      <th>Feature name</th>\n",
       "      <th></th>\n",
       "      <th></th>\n",
       "      <th></th>\n",
       "      <th></th>\n",
       "    </tr>\n",
       "  </thead>\n",
       "  <tbody>\n",
       "    <tr>\n",
       "      <th>'trip_month'</th>\n",
       "      <td>INT</td>\n",
       "      <td>required</td>\n",
       "      <td></td>\n",
       "      <td>-</td>\n",
       "    </tr>\n",
       "    <tr>\n",
       "      <th>'trip_day'</th>\n",
       "      <td>INT</td>\n",
       "      <td>required</td>\n",
       "      <td></td>\n",
       "      <td>-</td>\n",
       "    </tr>\n",
       "    <tr>\n",
       "      <th>'trip_day_of_week'</th>\n",
       "      <td>INT</td>\n",
       "      <td>required</td>\n",
       "      <td></td>\n",
       "      <td>-</td>\n",
       "    </tr>\n",
       "    <tr>\n",
       "      <th>'trip_hour'</th>\n",
       "      <td>INT</td>\n",
       "      <td>required</td>\n",
       "      <td></td>\n",
       "      <td>-</td>\n",
       "    </tr>\n",
       "    <tr>\n",
       "      <th>'trip_seconds'</th>\n",
       "      <td>INT</td>\n",
       "      <td>required</td>\n",
       "      <td></td>\n",
       "      <td>-</td>\n",
       "    </tr>\n",
       "    <tr>\n",
       "      <th>'trip_miles'</th>\n",
       "      <td>FLOAT</td>\n",
       "      <td>required</td>\n",
       "      <td></td>\n",
       "      <td>-</td>\n",
       "    </tr>\n",
       "    <tr>\n",
       "      <th>'payment_type'</th>\n",
       "      <td>STRING</td>\n",
       "      <td>required</td>\n",
       "      <td></td>\n",
       "      <td>'payment_type'</td>\n",
       "    </tr>\n",
       "    <tr>\n",
       "      <th>'pickup_grid'</th>\n",
       "      <td>STRING</td>\n",
       "      <td>required</td>\n",
       "      <td></td>\n",
       "      <td>'pickup_grid'</td>\n",
       "    </tr>\n",
       "    <tr>\n",
       "      <th>'dropoff_grid'</th>\n",
       "      <td>STRING</td>\n",
       "      <td>required</td>\n",
       "      <td></td>\n",
       "      <td>'dropoff_grid'</td>\n",
       "    </tr>\n",
       "    <tr>\n",
       "      <th>'euclidean'</th>\n",
       "      <td>FLOAT</td>\n",
       "      <td>required</td>\n",
       "      <td></td>\n",
       "      <td>-</td>\n",
       "    </tr>\n",
       "    <tr>\n",
       "      <th>'loc_cross'</th>\n",
       "      <td>BYTES</td>\n",
       "      <td>required</td>\n",
       "      <td></td>\n",
       "      <td>-</td>\n",
       "    </tr>\n",
       "    <tr>\n",
       "      <th>'tip_bin'</th>\n",
       "      <td>INT</td>\n",
       "      <td>required</td>\n",
       "      <td></td>\n",
       "      <td>-</td>\n",
       "    </tr>\n",
       "  </tbody>\n",
       "</table>\n",
       "</div>"
      ],
      "text/plain": [
       "                      Type  Presence Valency          Domain\n",
       "Feature name                                                \n",
       "'trip_month'           INT  required                       -\n",
       "'trip_day'             INT  required                       -\n",
       "'trip_day_of_week'     INT  required                       -\n",
       "'trip_hour'            INT  required                       -\n",
       "'trip_seconds'         INT  required                       -\n",
       "'trip_miles'         FLOAT  required                       -\n",
       "'payment_type'      STRING  required          'payment_type'\n",
       "'pickup_grid'       STRING  required           'pickup_grid'\n",
       "'dropoff_grid'      STRING  required          'dropoff_grid'\n",
       "'euclidean'          FLOAT  required                       -\n",
       "'loc_cross'          BYTES  required                       -\n",
       "'tip_bin'              INT  required                       -"
      ]
     },
     "metadata": {},
     "output_type": "display_data"
    },
    {
     "data": {
      "text/html": [
       "<div>\n",
       "<style scoped>\n",
       "    .dataframe tbody tr th:only-of-type {\n",
       "        vertical-align: middle;\n",
       "    }\n",
       "\n",
       "    .dataframe tbody tr th {\n",
       "        vertical-align: top;\n",
       "    }\n",
       "\n",
       "    .dataframe thead th {\n",
       "        text-align: right;\n",
       "    }\n",
       "</style>\n",
       "<table border=\"1\" class=\"dataframe\">\n",
       "  <thead>\n",
       "    <tr style=\"text-align: right;\">\n",
       "      <th></th>\n",
       "      <th>Values</th>\n",
       "    </tr>\n",
       "    <tr>\n",
       "      <th>Domain</th>\n",
       "      <th></th>\n",
       "    </tr>\n",
       "  </thead>\n",
       "  <tbody>\n",
       "    <tr>\n",
       "      <th>'payment_type'</th>\n",
       "      <td>'Cash', 'Credit Card', 'Dispute', 'Mobile', 'No Charge', 'Prcard', 'Prepaid', 'Unknown'</td>\n",
       "    </tr>\n",
       "    <tr>\n",
       "      <th>'pickup_grid'</th>\n",
       "      <td>'POINT(-87.5 41.7)', 'POINT(-87.6 41.7)', 'POINT(-87.6 41.8)', 'POINT(-87.6 41.9)', 'POINT(-87.6 42)', 'POINT(-87.7 41.7)', 'POINT(-87.7 41.8)', 'POINT(-87.7 41.9)', 'POINT(-87.7 42)', 'POINT(-87.8 41.8)', 'POINT(-87.8 41.9)', 'POINT(-87.8 42)', 'POINT(-87.9 42)'</td>\n",
       "    </tr>\n",
       "    <tr>\n",
       "      <th>'dropoff_grid'</th>\n",
       "      <td>'POINT(-87.5 41.7)', 'POINT(-87.6 41.7)', 'POINT(-87.6 41.8)', 'POINT(-87.6 41.9)', 'POINT(-87.6 42)', 'POINT(-87.7 41.7)', 'POINT(-87.7 41.8)', 'POINT(-87.7 41.9)', 'POINT(-87.7 42)', 'POINT(-87.8 41.8)', 'POINT(-87.8 41.9)', 'POINT(-87.8 42)', 'POINT(-87.9 42)'</td>\n",
       "    </tr>\n",
       "  </tbody>\n",
       "</table>\n",
       "</div>"
      ],
      "text/plain": [
       "                                                                                                                                                                                                                                                                                 Values\n",
       "Domain                                                                                                                                                                                                                                                                                 \n",
       "'payment_type'                                                                                                                                                                                  'Cash', 'Credit Card', 'Dispute', 'Mobile', 'No Charge', 'Prcard', 'Prepaid', 'Unknown'\n",
       "'pickup_grid'   'POINT(-87.5 41.7)', 'POINT(-87.6 41.7)', 'POINT(-87.6 41.8)', 'POINT(-87.6 41.9)', 'POINT(-87.6 42)', 'POINT(-87.7 41.7)', 'POINT(-87.7 41.8)', 'POINT(-87.7 41.9)', 'POINT(-87.7 42)', 'POINT(-87.8 41.8)', 'POINT(-87.8 41.9)', 'POINT(-87.8 42)', 'POINT(-87.9 42)'\n",
       "'dropoff_grid'  'POINT(-87.5 41.7)', 'POINT(-87.6 41.7)', 'POINT(-87.6 41.8)', 'POINT(-87.6 41.9)', 'POINT(-87.6 42)', 'POINT(-87.7 41.7)', 'POINT(-87.7 41.8)', 'POINT(-87.7 41.9)', 'POINT(-87.7 42)', 'POINT(-87.8 41.8)', 'POINT(-87.8 41.9)', 'POINT(-87.8 42)', 'POINT(-87.9 42)'"
      ]
     },
     "metadata": {},
     "output_type": "display_data"
    }
   ],
   "source": [
    "schema = tfdv.infer_schema(statistics=stats)\n",
    "tfdv.display_schema(schema=schema)"
   ]
  },
  {
   "cell_type": "code",
   "execution_count": 21,
   "id": "502c49f1",
   "metadata": {},
   "outputs": [],
   "source": [
    "raw_schema_location = os.path.join(RAW_SCHEMA_DIR, 'schema.pbtxt')\n",
    "tfdv.write_schema_text(schema, raw_schema_location)"
   ]
  },
  {
   "cell_type": "markdown",
   "id": "59df0723",
   "metadata": {},
   "source": [
    "## 4. Create Vertex Dataset resource"
   ]
  },
  {
   "cell_type": "code",
   "execution_count": 22,
   "id": "90d9b605",
   "metadata": {},
   "outputs": [],
   "source": [
    "vertex_ai.init(\n",
    "    project=PROJECT,\n",
    "    location=REGION\n",
    ")"
   ]
  },
  {
   "cell_type": "markdown",
   "id": "464ab920",
   "metadata": {},
   "source": [
    "### Create the dataset resource"
   ]
  },
  {
   "cell_type": "code",
   "execution_count": 23,
   "id": "a0a1707a",
   "metadata": {},
   "outputs": [
    {
     "name": "stdout",
     "output_type": "stream",
     "text": [
      "INFO:google.cloud.aiplatform.datasets.dataset:Creating TabularDataset\n",
      "INFO:google.cloud.aiplatform.datasets.dataset:Create TabularDataset backing LRO: projects/134242327712/locations/us-central1/datasets/364857540514676736/operations/5127160777748250624\n",
      "INFO:google.cloud.aiplatform.datasets.dataset:TabularDataset created. Resource name: projects/134242327712/locations/us-central1/datasets/364857540514676736\n",
      "INFO:google.cloud.aiplatform.datasets.dataset:To use this TabularDataset in another session:\n",
      "INFO:google.cloud.aiplatform.datasets.dataset:ds = aiplatform.TabularDataset('projects/134242327712/locations/us-central1/datasets/364857540514676736')\n"
     ]
    },
    {
     "data": {
      "text/plain": [
       "name: \"projects/134242327712/locations/us-central1/datasets/364857540514676736\"\n",
       "display_name: \"chicago-taxi-tips\"\n",
       "metadata_schema_uri: \"gs://google-cloud-aiplatform/schema/dataset/metadata/tabular_1.0.0.yaml\"\n",
       "create_time {\n",
       "  seconds: 1654976093\n",
       "  nanos: 830521000\n",
       "}\n",
       "update_time {\n",
       "  seconds: 1654976094\n",
       "  nanos: 209955000\n",
       "}\n",
       "etag: \"AMEw9yPM-vVakce83de4Tj6nHJ1N6JcYhJpilA5iUV6rRoc_Qhl2CkEC3nKnmJgm8Bw=\"\n",
       "labels {\n",
       "  key: \"aiplatform.googleapis.com/dataset_metadata_schema\"\n",
       "  value: \"TABLE\"\n",
       "}\n",
       "metadata {\n",
       "  struct_value {\n",
       "    fields {\n",
       "      key: \"inputConfig\"\n",
       "      value {\n",
       "        struct_value {\n",
       "          fields {\n",
       "            key: \"bigquerySource\"\n",
       "            value {\n",
       "              struct_value {\n",
       "                fields {\n",
       "                  key: \"uri\"\n",
       "                  value {\n",
       "                    string_value: \"bq://gcp-egl-ml-platform-dev.public_dataset.chicago_taxitrips_prep\"\n",
       "                  }\n",
       "                }\n",
       "              }\n",
       "            }\n",
       "          }\n",
       "        }\n",
       "      }\n",
       "    }\n",
       "  }\n",
       "}"
      ]
     },
     "execution_count": 23,
     "metadata": {},
     "output_type": "execute_result"
    }
   ],
   "source": [
    "bq_uri = f\"bq://{PROJECT}.{BQ_DATASET_NAME}.{BQ_TABLE_NAME}\"\n",
    "\n",
    "dataset = vertex_ai.TabularDataset.create(\n",
    "    display_name=DATASET_DISPLAY_NAME, bq_source=bq_uri)\n",
    "\n",
    "dataset.gca_resource"
   ]
  },
  {
   "cell_type": "markdown",
   "id": "c761fadb",
   "metadata": {},
   "source": [
    "### Get the dataset resource\n",
    "\n",
    "The dataset resource is retrieved by display name. Because multiple datasets can have the same display name, we retrieve the most recent updated one."
   ]
  },
  {
   "cell_type": "code",
   "execution_count": 24,
   "id": "d78b7f4d",
   "metadata": {},
   "outputs": [
    {
     "name": "stdout",
     "output_type": "stream",
     "text": [
      "Dataset resource name: projects/134242327712/locations/us-central1/datasets/364857540514676736\n",
      "Dataset BigQuery source: bq://gcp-egl-ml-platform-dev.public_dataset.chicago_taxitrips_prep\n"
     ]
    }
   ],
   "source": [
    "dataset = vertex_ai.TabularDataset.list(\n",
    "    filter=f\"display_name={DATASET_DISPLAY_NAME}\", \n",
    "    order_by=\"update_time\")[-1]\n",
    "\n",
    "print(\"Dataset resource name:\", dataset.resource_name)\n",
    "print(\"Dataset BigQuery source:\", dataset.gca_resource.metadata['inputConfig']['bigquerySource']['uri'])"
   ]
  },
  {
   "cell_type": "code",
   "execution_count": null,
   "id": "569249de",
   "metadata": {},
   "outputs": [],
   "source": []
  }
 ],
 "metadata": {
  "environment": {
   "kernel": "python3",
   "name": "tf2-gpu.2-8.m91",
   "type": "gcloud",
   "uri": "gcr.io/deeplearning-platform-release/tf2-gpu.2-8:m91"
  },
  "kernelspec": {
   "display_name": "Python 3",
   "language": "python",
   "name": "python3"
  },
  "language_info": {
   "codemirror_mode": {
    "name": "ipython",
    "version": 3
   },
   "file_extension": ".py",
   "mimetype": "text/x-python",
   "name": "python",
   "nbconvert_exporter": "python",
   "pygments_lexer": "ipython3",
   "version": "3.7.12"
  }
 },
 "nbformat": 4,
 "nbformat_minor": 5
}
